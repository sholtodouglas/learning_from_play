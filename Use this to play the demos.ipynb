{
 "cells": [
  {
   "cell_type": "code",
   "execution_count": 1,
   "metadata": {},
   "outputs": [],
   "source": [
    "import adept_envs\n",
    "import gym\n",
    "import glob\n",
    "import os\n",
    "from parse_mjl import parse_mjl_logs\n",
    "from tqdm import tqdm\n",
    "import numpy as np"
   ]
  },
  {
   "cell_type": "code",
   "execution_count": 2,
   "metadata": {},
   "outputs": [
    {
     "name": "stdout",
     "output_type": "stream",
     "text": [
      "Reading configurations for Franka\n",
      "\u001b[40m\u001b[37mInitializing Franka sim\u001b[0m\n",
      "registering the liscence\n"
     ]
    },
    {
     "name": "stderr",
     "output_type": "stream",
     "text": [
      "/home/sholto/anaconda3/lib/python3.7/site-packages/gym/logger.py:30: UserWarning: \u001b[33mWARN: Box bound precision lowered by casting to float32\u001b[0m\n",
      "  warnings.warn(colorize('%s: %s'%('WARN', msg % args), 'yellow'))\n"
     ]
    }
   ],
   "source": [
    "env = gym.make(\"kitchen_relax-v1\")"
   ]
  },
  {
   "cell_type": "code",
   "execution_count": 3,
   "metadata": {},
   "outputs": [],
   "source": [
    "obs = env.reset()\n"
   ]
  },
  {
   "cell_type": "code",
   "execution_count": 4,
   "metadata": {},
   "outputs": [
    {
     "name": "stdout",
     "output_type": "stream",
     "text": [
      "['b_bottomknob_hinge/kitchen_playdata_2019_07_11_18_06_46.mj', 'b_bottomknob_hinge/kitchen_playdata_2019_07_11_18_05_26.mj', 'b_bottomknob_hinge/kitchen_playdata_2019_07_11_18_05_06.mj', 'b_bottomknob_hinge/kitchen_playdata_2019_07_11_18_02_41.mj', 'b_bottomknob_hinge/kitchen_playdata_2019_07_11_18_04_03.mj', 'b_bottomknob_hinge/kitchen_playdata_2019_07_11_18_04_24.mj', 'b_bottomknob_hinge/kitchen_playdata_2019_07_11_18_01_21.mj', 'b_bottomknob_hinge/kitchen_playdata_2019_07_11_18_02_01.mj', 'b_bottomknob_hinge/kitchen_playdata_2019_07_11_18_01_41.mj', 'b_bottomknob_hinge/kitchen_playdata_2019_07_11_18_03_42.mj', 'b_bottomknob_hinge/kitchen_playdata_2019_07_11_18_07_06.mj', 'b_bottomknob_hinge/kitchen_playdata_2019_07_11_18_03_01.mj', 'b_bottomknob_hinge/kitchen_playdata_2019_07_11_18_04_45.mj', 'b_bottomknob_hinge/kitchen_playdata_2019_07_11_18_07_44.mj', 'b_bottomknob_hinge/kitchen_playdata_2019_07_11_18_02_21.mj', 'b_bottomknob_hinge/kitchen_playdata_2019_07_11_18_06_06.mj', 'b_bottomknob_hinge/kitchen_playdata_2019_07_11_18_03_22.mj', 'b_bottomknob_hinge/kitchen_playdata_2019_07_11_18_05_46.mj', 'b_bottomknob_hinge/kitchen_playdata_2019_07_11_18_06_26.mj', 'b_bottomknob_hinge/kitchen_playdata_2019_07_11_18_01_00.mj', 'wave_bottomknob_switch_slide/kitchen_playdata_2019_06_28_12_39_06.mj', 'wave_bottomknob_switch_slide/kitchen_playdata_2019_06_28_12_36_00.mj', 'wave_bottomknob_switch_slide/kitchen_playdata_2019_06_28_12_34_01.mj', 'wave_bottomknob_switch_slide/kitchen_playdata_2019_06_28_12_39_25.mj', 'wave_bottomknob_switch_slide/kitchen_playdata_2019_06_28_12_41_11.mj', 'wave_bottomknob_switch_slide/kitchen_playdata_2019_06_28_12_36_38.mj', 'wave_bottomknob_switch_slide/kitchen_playdata_2019_06_28_12_37_16.mj', 'wave_bottomknob_switch_slide/kitchen_playdata_2019_06_28_12_37_55.mj', 'wave_bottomknob_switch_slide/kitchen_playdata_2019_06_28_12_31_58.mj', 'wave_bottomknob_switch_slide/kitchen_playdata_2019_06_28_12_33_40.mj', 'wave_bottomknob_switch_slide/kitchen_playdata_2019_06_28_12_32_59.mj', 'wave_bottomknob_switch_slide/kitchen_playdata_2019_06_28_12_38_14.mj', 'wave_bottomknob_switch_slide/kitchen_playdata_2019_06_28_12_34_21.mj', 'wave_bottomknob_switch_slide/kitchen_playdata_2019_06_28_12_32_18.mj', 'wave_bottomknob_switch_slide/kitchen_playdata_2019_06_28_12_36_19.mj', 'wave_bottomknob_switch_slide/kitchen_playdata_2019_06_28_12_31_36.mj', 'wave_bottomknob_switch_slide/kitchen_playdata_2019_06_28_12_40_37.mj', 'wave_bottomknob_switch_slide/kitchen_playdata_2019_06_28_12_40_17.mj', 'wave_bottomknob_switch_slide/kitchen_playdata_2019_06_28_12_37_35.mj', 'wave_bottomknob_switch_slide/kitchen_playdata_2019_06_28_12_34_41.mj', 'wave_bottomknob_switch_slide/kitchen_playdata_2019_06_28_12_32_38.mj', 'wave_bottomknob_switch_slide/kitchen_playdata_2019_06_28_12_33_20.mj', 'wave_bottomknob_switch_slide/kitchen_playdata_2019_06_28_12_35_41.mj', 'wave_bottomknob_switch_slide/kitchen_playdata_2019_06_28_12_35_01.mj', 'wave_bottomknob_switch_slide/kitchen_playdata_2019_06_28_12_38_32.mj', 'wave_bottomknob_switch_slide/kitchen_playdata_2019_06_28_12_35_20.mj', 'wave_bottomknob_switch_slide/kitchen_playdata_2019_06_28_12_36_56.mj', 'wave_bottomknob_switch_slide/kitchen_playdata_2019_06_28_12_39_59.mj', 'wave_bottomknob_switch_slide/kitchen_playdata_2019_06_28_12_39_40.mj', 'wave_kettle_bottomknob_slide/kitchen_playdata_2019_06_28_12_02_31.mj', 'wave_kettle_bottomknob_slide/kitchen_playdata_2019_06_28_11_59_28.mj', 'wave_kettle_bottomknob_slide/kitchen_playdata_2019_06_28_12_03_37.mj', 'wave_kettle_bottomknob_slide/kitchen_playdata_2019_06_28_12_01_01.mj', 'wave_kettle_bottomknob_slide/kitchen_playdata_2019_06_28_12_05_26.mj', 'wave_kettle_bottomknob_slide/kitchen_playdata_2019_06_28_11_58_40.mj', 'wave_kettle_bottomknob_slide/kitchen_playdata_2019_06_28_11_58_16.mj', 'wave_kettle_bottomknob_slide/kitchen_playdata_2019_06_28_12_01_23.mj', 'wave_kettle_bottomknob_slide/kitchen_playdata_2019_06_28_12_06_49.mj', 'wave_kettle_bottomknob_slide/kitchen_playdata_2019_06_28_12_08_37.mj', 'wave_kettle_bottomknob_slide/kitchen_playdata_2019_06_28_11_59_52.mj', 'wave_kettle_bottomknob_slide/kitchen_playdata_2019_06_28_12_00_38.mj', 'wave_kettle_bottomknob_slide/kitchen_playdata_2019_06_28_12_07_11.mj', 'wave_kettle_bottomknob_slide/kitchen_playdata_2019_06_28_12_07_54.mj', 'wave_kettle_bottomknob_slide/kitchen_playdata_2019_06_28_12_01_46.mj', 'wave_kettle_bottomknob_slide/kitchen_playdata_2019_06_28_12_04_43.mj', 'wave_kettle_bottomknob_slide/kitchen_playdata_2019_06_28_12_04_22.mj', 'wave_kettle_bottomknob_slide/kitchen_playdata_2019_06_28_12_03_59.mj', 'wave_kettle_bottomknob_slide/kitchen_playdata_2019_06_28_12_08_59.mj', 'wave_kettle_bottomknob_slide/kitchen_playdata_2019_06_28_12_06_28.mj', 'wave_kettle_bottomknob_slide/kitchen_playdata_2019_06_28_12_08_16.mj', 'wave_kettle_bottomknob_slide/kitchen_playdata_2019_06_28_12_05_49.mj', 'wave_kettle_bottomknob_slide/kitchen_playdata_2019_06_28_12_02_08.mj', 'wave_kettle_bottomknob_slide/kitchen_playdata_2019_06_28_12_02_53.mj', 'wave_kettle_bottomknob_slide/kitchen_playdata_2019_06_28_12_00_15.mj', 'wave_kettle_bottomknob_slide/kitchen_playdata_2019_06_28_11_59_04.mj', 'wave_kettle_bottomknob_slide/kitchen_playdata_2019_06_28_12_05_05.mj', 'wave_kettle_bottomknob_slide/kitchen_playdata_2019_06_28_12_03_15.mj', 'wave_kettle_bottomknob_slide/kitchen_playdata_2019_06_28_12_06_09.mj', 'wave_kettle_bottomknob_slide/postcorl_microwave_topknob_switch_hinge/kitchen_playdata_2019_07_11_11_48_15.mj', 'wave_kettle_topknob_switch/kitchen_playdata_2019_06_28_14_33_49.mj', 'wave_kettle_topknob_switch/kitchen_playdata_2019_06_28_14_35_25.mj', 'wave_kettle_topknob_switch/kitchen_playdata_2019_06_28_14_36_21.mj', 'wave_kettle_topknob_switch/kitchen_playdata_2019_06_28_14_40_27.mj', 'wave_kettle_topknob_switch/kitchen_playdata_2019_06_28_14_38_04.mj', 'wave_kettle_topknob_switch/kitchen_playdata_2019_06_28_14_35_06.mj', 'wave_kettle_topknob_switch/kitchen_playdata_2019_06_28_14_34_08.mj', 'wave_kettle_topknob_switch/kitchen_playdata_2019_06_28_14_33_28.mj', 'wave_kettle_topknob_switch/kitchen_playdata_2019_06_28_14_37_45.mj', 'wave_kettle_topknob_switch/kitchen_playdata_2019_06_28_14_38_23.mj', 'wave_kettle_topknob_switch/kitchen_playdata_2019_06_28_14_40_09.mj', 'wave_kettle_topknob_switch/kitchen_playdata_2019_06_28_14_35_45.mj', 'wave_kettle_topknob_switch/kitchen_playdata_2019_06_28_14_34_48.mj', 'wave_kettle_topknob_switch/kitchen_playdata_2019_06_28_14_36_03.mj', 'wave_kettle_topknob_switch/kitchen_playdata_2019_06_28_14_40_45.mj', 'wave_kettle_topknob_switch/kitchen_playdata_2019_06_28_14_39_34.mj', 'wave_kettle_topknob_switch/kitchen_playdata_2019_06_28_14_39_51.mj', 'wave_kettle_topknob_switch/kitchen_playdata_2019_06_28_14_39_16.mj', 'wave_kettle_topknob_switch/kitchen_playdata_2019_06_28_14_38_58.mj', 'wave_kettle_topknob_switch/kitchen_playdata_2019_06_28_14_38_41.mj', 'wave_kettle_topknob_switch/kitchen_playdata_2019_06_28_14_36_40.mj', 'wave_kettle_topknob_switch/kitchen_playdata_2019_06_28_14_34_28.mj', 'bottomknob_switch_hinge/kitchen_playdata_2019_07_11_11_25_12.mj', 'bottomknob_switch_hinge/kitchen_playdata_2019_07_11_11_30_26.mj', 'bottomknob_switch_hinge/kitchen_playdata_2019_07_11_11_23_22.mj', 'bottomknob_switch_hinge/kitchen_playdata_2019_07_11_11_23_44.mj', 'bottomknob_switch_hinge/kitchen_playdata_2019_07_11_11_24_06.mj', 'bottomknob_switch_hinge/kitchen_playdata_2019_07_11_11_27_34.mj', 'bottomknob_switch_hinge/kitchen_playdata_2019_07_11_11_32_32.mj', 'bottomknob_switch_hinge/kitchen_playdata_2019_07_11_11_24_49.mj', 'bottomknob_switch_hinge/kitchen_playdata_2019_07_11_11_25_57.mj', 'bottomknob_switch_hinge/kitchen_playdata_2019_07_11_11_32_10.mj', 'bottomknob_switch_hinge/kitchen_playdata_2019_07_11_11_26_44.mj', 'bottomknob_switch_hinge/kitchen_playdata_2019_07_11_11_27_07.mj', 'bottomknob_switch_hinge/kitchen_playdata_2019_07_11_11_31_12.mj', 'bottomknob_switch_hinge/kitchen_playdata_2019_07_11_11_33_15.mj', 'bottomknob_switch_hinge/kitchen_playdata_2019_07_11_11_24_27.mj', 'bottomknob_switch_hinge/kitchen_playdata_2019_07_11_11_21_47.mj', 'bottomknob_switch_hinge/kitchen_playdata_2019_07_11_11_33_36.mj', 'bottomknob_switch_hinge/kitchen_playdata_2019_07_11_11_30_49.mj', 'bottomknob_switch_hinge/kitchen_playdata_2019_07_11_11_33_57.mj', 'bottomknob_switch_hinge/kitchen_playdata_2019_07_11_11_32_53.mj', 'bottomknob_switch_hinge/kitchen_playdata_2019_07_11_11_25_35.mj', 'bottomknob_switch_hinge/kitchen_playdata_2019_07_11_11_26_20.mj', 'wave_kettle_bottomknob_hinge/kitchen_playdata_2019_06_28_14_47_46.mj', 'wave_kettle_bottomknob_hinge/kitchen_playdata_2019_06_28_14_53_09.mj', 'wave_kettle_bottomknob_hinge/kitchen_playdata_2019_06_28_14_49_24.mj', 'wave_kettle_bottomknob_hinge/kitchen_playdata_2019_06_28_14_52_29.mj', 'wave_kettle_bottomknob_hinge/kitchen_playdata_2019_06_28_14_48_07.mj', 'wave_kettle_bottomknob_hinge/kitchen_playdata_2019_06_28_14_51_11.mj', 'wave_kettle_bottomknob_hinge/kitchen_playdata_2019_06_28_14_53_28.mj', 'wave_kettle_bottomknob_hinge/kitchen_playdata_2019_06_28_14_48_45.mj', 'wave_kettle_bottomknob_hinge/kitchen_playdata_2019_06_28_14_53_48.mj', 'wave_kettle_bottomknob_hinge/kitchen_playdata_2019_06_28_14_50_26.mj', 'wave_kettle_bottomknob_hinge/kitchen_playdata_2019_06_28_14_52_49.mj', 'wave_kettle_bottomknob_hinge/kitchen_playdata_2019_06_28_14_50_06.mj', 'wave_kettle_bottomknob_hinge/kitchen_playdata_2019_06_28_14_49_44.mj', 'wave_kettle_bottomknob_hinge/kitchen_playdata_2019_06_28_14_51_30.mj', 'wave_kettle_bottomknob_hinge/kitchen_playdata_2019_06_28_14_49_04.mj', 'wave_kettle_bottomknob_hinge/kitchen_playdata_2019_06_28_14_55_03.mj', 'wave_kettle_bottomknob_hinge/kitchen_playdata_2019_06_28_14_47_26.mj', 'wave_kettle_bottomknob_hinge/kitchen_playdata_2019_06_28_14_47_05.mj', 'wave_kettle_bottomknob_hinge/kitchen_playdata_2019_06_28_14_48_26.mj', 'wave_kettle_bottomknob_hinge/kitchen_playdata_2019_06_28_14_54_44.mj', 'wave_kettle_switch_slide/kitchen_playdata_2019_06_28_15_49_59.mj', 'wave_kettle_switch_slide/kitchen_playdata_2019_06_28_15_49_06.mj', 'wave_kettle_switch_slide/kitchen_playdata_2019_06_28_15_46_42.mj', 'wave_kettle_switch_slide/kitchen_playdata_2019_06_28_15_46_24.mj', 'wave_kettle_switch_slide/kitchen_playdata_2019_06_28_15_42_39.mj', 'wave_kettle_switch_slide/kitchen_playdata_2019_06_28_15_43_12.mj', 'wave_kettle_switch_slide/kitchen_playdata_2019_06_28_15_43_29.mj', 'wave_kettle_switch_slide/kitchen_playdata_2019_06_28_15_41_28.mj', 'wave_kettle_switch_slide/kitchen_playdata_2019_06_28_15_42_04.mj', 'wave_kettle_switch_slide/kitchen_playdata_2019_06_28_15_50_16.mj', 'wave_kettle_switch_slide/kitchen_playdata_2019_06_28_15_47_53.mj', 'wave_kettle_switch_slide/kitchen_playdata_2019_06_28_15_42_21.mj', 'wave_kettle_switch_slide/kitchen_playdata_2019_06_28_15_48_12.mj', 'wave_kettle_switch_slide/kitchen_playdata_2019_06_28_15_41_46.mj', 'wave_kettle_switch_slide/kitchen_playdata_2019_06_28_15_42_55.mj', 'wave_kettle_switch_slide/kitchen_playdata_2019_06_28_15_49_41.mj', 'wave_kettle_switch_slide/kitchen_playdata_2019_06_28_15_48_48.mj', 'wave_kettle_switch_slide/kitchen_playdata_2019_06_28_15_49_23.mj', 'wave_kettle_switch_slide/kitchen_playdata_2019_06_28_15_48_29.mj', 'wave_topknob_bottomknob_switch/kitchen_playdata_2019_07_11_13_55_40.mj', 'wave_topknob_bottomknob_switch/kitchen_playdata_2019_07_11_13_51_32.mj', 'wave_topknob_bottomknob_switch/kitchen_playdata_2019_07_11_13_50_09.mj', 'wave_topknob_bottomknob_switch/kitchen_playdata_2019_07_11_13_47_43.mj', 'wave_topknob_bottomknob_switch/kitchen_playdata_2019_07_11_13_48_26.mj', 'wave_topknob_bottomknob_switch/kitchen_playdata_2019_07_11_13_50_30.mj', 'wave_topknob_bottomknob_switch/kitchen_playdata_2019_07_11_13_50_50.mj', 'wave_topknob_bottomknob_switch/kitchen_playdata_2019_07_11_13_48_47.mj', 'wave_topknob_bottomknob_switch/kitchen_playdata_2019_07_11_13_53_35.mj', 'wave_topknob_bottomknob_switch/kitchen_playdata_2019_07_11_13_51_52.mj', 'wave_topknob_bottomknob_switch/kitchen_playdata_2019_07_11_13_52_33.mj', 'wave_topknob_bottomknob_switch/kitchen_playdata_2019_07_11_13_49_48.mj', 'wave_topknob_bottomknob_switch/kitchen_playdata_2019_07_11_13_53_57.mj', 'wave_topknob_bottomknob_switch/kitchen_playdata_2019_07_11_13_51_10.mj', 'wave_topknob_bottomknob_switch/kitchen_playdata_2019_07_11_13_54_40.mj', 'wave_topknob_bottomknob_switch/kitchen_playdata_2019_07_11_13_55_00.mj', 'wave_topknob_bottomknob_switch/kitchen_playdata_2019_07_11_13_52_52.mj', 'wave_topknob_bottomknob_switch/kitchen_playdata_2019_07_11_13_56_00.mj', 'wave_topknob_bottomknob_switch/kitchen_playdata_2019_07_11_13_52_12.mj', 'wave_topknob_bottomknob_switch/kitchen_playdata_2019_07_11_13_55_21.mj', 'wave_topknob_bottomknob_switch/kitchen_playdata_2019_07_11_13_54_18.mj', 'wave_topknob_bottomknob_switch/kitchen_playdata_2019_07_11_13_48_05.mj', 'wave_switch_hinge_slide/kitchen_playdata_2019_07_11_11_08_52.mj', 'wave_switch_hinge_slide/kitchen_playdata_2019_07_11_11_16_18.mj', 'wave_switch_hinge_slide/kitchen_playdata_2019_07_11_11_08_07.mj', 'wave_switch_hinge_slide/kitchen_playdata_2019_07_11_11_10_25.mj', 'wave_switch_hinge_slide/kitchen_playdata_2019_07_11_11_11_59.mj', 'wave_switch_hinge_slide/kitchen_playdata_2019_07_11_11_09_38.mj', 'wave_switch_hinge_slide/kitchen_playdata_2019_07_11_11_10_01.mj', 'wave_switch_hinge_slide/kitchen_playdata_2019_07_11_11_12_22.mj', 'wave_switch_hinge_slide/kitchen_playdata_2019_07_11_11_18_11.mj', 'wave_switch_hinge_slide/kitchen_playdata_2019_07_11_11_11_11.mj', 'wave_switch_hinge_slide/kitchen_playdata_2019_07_11_11_08_29.mj', 'wave_switch_hinge_slide/kitchen_playdata_2019_07_11_11_16_41.mj', 'wave_switch_hinge_slide/kitchen_playdata_2019_07_11_11_11_35.mj', 'wave_switch_hinge_slide/kitchen_playdata_2019_07_11_11_17_48.mj', 'wave_switch_hinge_slide/kitchen_playdata_2019_07_11_11_07_28.mj', 'wave_switch_hinge_slide/kitchen_playdata_2019_07_11_11_14_41.mj', 'wave_switch_hinge_slide/kitchen_playdata_2019_07_11_11_10_48.mj', 'wave_switch_hinge_slide/kitchen_playdata_2019_07_11_11_09_15.mj', 'wave_switch_hinge_slide/kitchen_playdata_2019_07_11_11_13_05.mj', 'wave_switch_hinge_slide/kitchen_playdata_2019_07_11_11_14_17.mj', 'wave_switch_hinge_slide/kitchen_playdata_2019_07_11_11_18_34.mj', 'wave_topknob_switch_hinge/kitchen_playdata_2019_07_11_11_48_36.mj', 'wave_topknob_switch_hinge/kitchen_playdata_2019_07_11_11_51_58.mj', 'wave_topknob_switch_hinge/kitchen_playdata_2019_07_11_11_50_53.mj', 'wave_topknob_switch_hinge/kitchen_playdata_2019_07_11_11_48_57.mj', 'wave_topknob_switch_hinge/kitchen_playdata_2019_07_11_11_49_48.mj', 'wave_topknob_switch_hinge/kitchen_playdata_2019_07_11_11_53_15.mj', 'wave_topknob_switch_hinge/kitchen_playdata_2019_07_11_11_51_37.mj', 'wave_topknob_switch_hinge/kitchen_playdata_2019_07_11_11_52_19.mj', 'wave_topknob_switch_hinge/kitchen_playdata_2019_07_11_11_53_56.mj', 'wave_topknob_switch_hinge/kitchen_playdata_2019_07_11_11_56_01.mj', 'wave_topknob_switch_hinge/kitchen_playdata_2019_07_11_11_53_35.mj', 'wave_topknob_switch_hinge/kitchen_playdata_2019_07_11_11_54_18.mj', 'wave_topknob_switch_hinge/kitchen_playdata_2019_07_11_11_55_21.mj', 'wave_topknob_switch_hinge/kitchen_playdata_2019_07_11_11_50_10.mj', 'wave_topknob_switch_hinge/kitchen_playdata_2019_07_11_11_48_15.mj', 'wave_topknob_switch_hinge/kitchen_playdata_2019_07_11_11_52_39.mj', 'wave_topknob_switch_hinge/kitchen_playdata_2019_07_11_11_50_31.mj', 'wave_topknob_switch_hinge/kitchen_playdata_2019_07_11_11_55_42.mj', 'wave_topknob_switch_hinge/kitchen_playdata_2019_07_11_11_49_19.mj', 'wave_topknob_switch_hinge/kitchen_playdata_2019_07_11_11_51_15.mj', 'wave_topknob_switch_hinge/kitchen_playdata_2019_07_11_11_56_22.mj', 'wave_topknob_bottomknob_hinge/kitchen_playdata_2019_06_28_11_39_24.mj', 'wave_topknob_bottomknob_hinge/kitchen_playdata_2019_06_28_11_45_39.mj', 'wave_topknob_bottomknob_hinge/kitchen_playdata_2019_06_28_11_42_23.mj', 'wave_topknob_bottomknob_hinge/kitchen_playdata_2019_06_28_11_50_17.mj', 'wave_topknob_bottomknob_hinge/kitchen_playdata_2019_06_28_11_45_18.mj', 'wave_topknob_bottomknob_hinge/kitchen_playdata_2019_06_28_11_52_02.mj', 'wave_topknob_bottomknob_hinge/kitchen_playdata_2019_06_28_11_44_56.mj', 'wave_topknob_bottomknob_hinge/kitchen_playdata_2019_06_28_11_43_28.mj', 'wave_topknob_bottomknob_hinge/kitchen_playdata_2019_06_28_11_51_19.mj', 'wave_topknob_bottomknob_hinge/kitchen_playdata_2019_06_28_11_42_01.mj', 'wave_topknob_bottomknob_hinge/kitchen_playdata_2019_06_28_11_44_34.mj', 'wave_topknob_bottomknob_hinge/kitchen_playdata_2019_06_28_11_39_48.mj', 'wave_topknob_bottomknob_hinge/kitchen_playdata_2019_06_28_11_50_58.mj', 'wave_topknob_bottomknob_hinge/kitchen_playdata_2019_06_28_11_40_35.mj', 'wave_topknob_bottomknob_hinge/kitchen_playdata_2019_06_28_11_51_41.mj', 'wave_topknob_bottomknob_hinge/kitchen_playdata_2019_06_28_11_50_37.mj', 'wave_topknob_bottomknob_hinge/kitchen_playdata_2019_06_28_11_44_11.mj', 'wave_topknob_bottomknob_hinge/kitchen_playdata_2019_06_28_11_52_44.mj', 'wave_topknob_bottomknob_hinge/kitchen_playdata_2019_06_28_11_43_06.mj', 'wave_topknob_bottomknob_hinge/kitchen_playdata_2019_06_28_11_41_40.mj', 'wave_topknob_bottomknob_hinge/kitchen_playdata_2019_06_28_11_42_44.mj', 'wave_topknob_bottomknob_hinge/kitchen_playdata_2019_06_28_11_49_55.mj', 'wave_topknob_bottomknob_hinge/kitchen_playdata_2019_06_28_11_43_49.mj', 'wave_topknob_bottomknob_hinge/kitchen_playdata_2019_06_28_11_49_10.mj', 'wave_topknob_bottomknob_hinge/kitchen_playdata_2019_06_28_11_41_17.mj', 'wave_topknob_bottomknob_hinge/kitchen_playdata_2019_06_28_11_48_10.mj', 'wave_topknob_bottomknob_hinge/kitchen_playdata_2019_06_28_11_48_49.mj', 'wave_topknob_bottomknob_hinge/kitchen_playdata_2019_06_28_11_49_33.mj', 'wave_topknob_bottomknob_hinge/kitchen_playdata_2019_06_28_11_40_56.mj', 'wave_topknob_bottomknob_hinge/kitchen_playdata_2019_06_28_11_40_11.mj', 'wave_topknob_bottomknob_hinge/kitchen_playdata_2019_06_28_11_52_23.mj', 'bottomknob_switch_slide/kitchen_playdata_2019_06_28_13_21_13.mj', 'bottomknob_switch_slide/kitchen_playdata_2019_06_28_13_26_58.mj', 'bottomknob_switch_slide/kitchen_playdata_2019_06_28_13_22_36.mj', 'bottomknob_switch_slide/kitchen_playdata_2019_06_28_13_21_55.mj', 'bottomknob_switch_slide/kitchen_playdata_2019_06_28_13_22_57.mj', 'bottomknob_switch_slide/kitchen_playdata_2019_06_28_13_23_58.mj', 'bottomknob_switch_slide/kitchen_playdata_2019_06_28_13_28_14.mj', 'bottomknob_switch_slide/kitchen_playdata_2019_06_28_13_23_38.mj', 'bottomknob_switch_slide/kitchen_playdata_2019_06_28_13_29_11.mj', 'bottomknob_switch_slide/kitchen_playdata_2019_06_28_13_27_55.mj', 'bottomknob_switch_slide/kitchen_playdata_2019_06_28_13_24_40.mj', 'bottomknob_switch_slide/kitchen_playdata_2019_06_28_13_26_40.mj', 'bottomknob_switch_slide/kitchen_playdata_2019_06_28_13_23_16.mj', 'bottomknob_switch_slide/kitchen_playdata_2019_06_28_13_20_52.mj', 'bottomknob_switch_slide/kitchen_playdata_2019_06_28_13_21_34.mj', 'bottomknob_switch_slide/kitchen_playdata_2019_06_28_13_20_31.mj', 'bottomknob_switch_slide/kitchen_playdata_2019_06_28_13_28_34.mj', 'bottomknob_switch_slide/kitchen_playdata_2019_06_28_13_24_20.mj', 'bottomknob_switch_slide/kitchen_playdata_2019_06_28_13_26_01.mj', 'bottomknob_switch_slide/kitchen_playdata_2019_06_28_13_27_36.mj', 'bottomknob_switch_slide/kitchen_playdata_2019_06_28_13_25_01.mj', 'bottomknob_switch_slide/kitchen_playdata_2019_06_28_13_22_16.mj', 'bottomknob_switch_slide/kitchen_playdata_2019_06_28_13_26_21.mj', 'bottomknob_switch_slide/kitchen_playdata_2019_06_28_13_25_21.mj', 'bottomknob_switch_slide/kitchen_playdata_2019_06_28_13_25_41.mj', 'bottomknob_switch_slide/kitchen_playdata_2019_06_28_13_28_52.mj', 'bottomknob_switch_slide/kitchen_playdata_2019_06_28_13_27_17.mj', 'wave_kettle_topknob_hinge/kitchen_playdata_2019_06_28_14_59_01.mj', 'wave_kettle_topknob_hinge/kitchen_playdata_2019_06_28_14_58_42.mj', 'wave_kettle_topknob_hinge/kitchen_playdata_2019_06_28_14_57_43.mj', 'wave_kettle_topknob_hinge/kitchen_playdata_2019_06_28_15_08_46.mj', 'wave_kettle_topknob_hinge/kitchen_playdata_2019_06_28_15_05_49.mj', 'wave_kettle_topknob_hinge/kitchen_playdata_2019_06_28_14_58_23.mj', 'wave_kettle_topknob_hinge/kitchen_playdata_2019_06_28_15_06_27.mj', 'wave_kettle_topknob_hinge/kitchen_playdata_2019_06_28_15_08_10.mj', 'wave_kettle_topknob_hinge/kitchen_playdata_2019_06_28_14_57_24.mj', 'wave_kettle_topknob_hinge/kitchen_playdata_2019_06_28_15_07_21.mj', 'wave_kettle_topknob_hinge/kitchen_playdata_2019_06_28_14_58_03.mj', 'wave_kettle_topknob_hinge/kitchen_playdata_2019_06_28_15_08_28.mj', 'wave_kettle_topknob_hinge/kitchen_playdata_2019_06_28_15_07_02.mj', 'wave_kettle_topknob_hinge/kitchen_playdata_2019_06_28_15_06_44.mj', 'wave_kettle_topknob_hinge/kitchen_playdata_2019_06_28_15_05_17.mj', 'wave_kettle_topknob_hinge/kitchen_playdata_2019_06_28_15_06_08.mj', 'wave_kettle_topknob_hinge/kitchen_playdata_2019_06_28_15_09_04.mj', 'wave_kettle_topknob_hinge/kitchen_playdata_2019_06_28_15_09_21.mj', 'wave_kettle_topknob_hinge/kitchen_playdata_2019_06_28_14_57_06.mj', 'wave_kettle_topknob_hinge/kitchen_playdata_2019_06_28_15_07_39.mj', 'wave_topknob_bottomknob_slide/kitchen_playdata_2019_06_28_14_25_31.mj', 'wave_topknob_bottomknob_slide/kitchen_playdata_2019_06_28_14_22_53.mj', 'wave_topknob_bottomknob_slide/kitchen_playdata_2019_06_28_14_27_31.mj', 'wave_topknob_bottomknob_slide/kitchen_playdata_2019_06_28_14_24_25.mj', 'wave_topknob_bottomknob_slide/kitchen_playdata_2019_06_28_14_24_52.mj', 'wave_topknob_bottomknob_slide/kitchen_playdata_2019_06_28_14_28_26.mj', 'wave_topknob_bottomknob_slide/kitchen_playdata_2019_06_28_14_23_31.mj', 'wave_topknob_bottomknob_slide/kitchen_playdata_2019_06_28_14_28_44.mj', 'wave_topknob_bottomknob_slide/kitchen_playdata_2019_06_28_14_23_49.mj', 'wave_topknob_bottomknob_slide/kitchen_playdata_2019_06_28_14_26_08.mj', 'wave_topknob_bottomknob_slide/kitchen_playdata_2019_06_28_14_24_07.mj', 'wave_topknob_bottomknob_slide/kitchen_playdata_2019_06_28_14_25_11.mj', 'wave_topknob_bottomknob_slide/kitchen_playdata_2019_06_28_14_29_38.mj', 'wave_topknob_bottomknob_slide/kitchen_playdata_2019_06_28_14_26_43.mj', 'wave_topknob_bottomknob_slide/kitchen_playdata_2019_06_28_14_29_19.mj', 'wave_topknob_bottomknob_slide/kitchen_playdata_2019_06_28_14_29_01.mj', 'wave_topknob_bottomknob_slide/kitchen_playdata_2019_06_28_14_23_13.mj', 'wave_topknob_bottomknob_slide/kitchen_playdata_2019_06_28_14_25_50.mj', 'wave_topknob_bottomknob_slide/kitchen_playdata_2019_06_28_14_26_26.mj', 'wave_topknob_bottomknob_slide/kitchen_playdata_2019_06_28_14_27_50.mj', 'wave_topknob_bottomknob_slide/kitchen_playdata_2019_06_28_14_28_08.mj', 'wave_bottomknob_switch_slide/kitchen_playdata_2019_07_11_13_43_00(1).mj', 'wave_bottomknob_switch_slide/kitchen_playdata_2019_07_11_13_39_33(1).mj', 'wave_bottomknob_switch_slide/kitchen_playdata_2019_07_11_13_43_00.mj', 'wave_bottomknob_switch_slide/kitchen_playdata_2019_07_11_13_39_12(1).mj', 'wave_bottomknob_switch_slide/kitchen_playdata_2019_07_11_13_41_37(1).mj', 'wave_bottomknob_switch_slide/kitchen_playdata_2019_07_11_13_39_54.mj', 'wave_bottomknob_switch_slide/kitchen_playdata_2019_07_11_13_38_52(1).mj', 'wave_bottomknob_switch_slide/kitchen_playdata_2019_07_11_13_43_21.mj', 'wave_bottomknob_switch_slide/kitchen_playdata_2019_07_11_13_40_36(1).mj', 'wave_bottomknob_switch_slide/kitchen_playdata_2019_07_11_13_40_15(1).mj', 'wave_bottomknob_switch_slide/kitchen_playdata_2019_07_11_13_43_42.mj', 'wave_bottomknob_switch_slide/kitchen_playdata_2019_07_11_13_32_19(1).mj', 'wave_bottomknob_switch_slide/kitchen_playdata_2019_07_11_13_39_12.mj', 'wave_bottomknob_switch_slide/kitchen_playdata_2019_07_11_13_40_15.mj', 'wave_bottomknob_switch_slide/kitchen_playdata_2019_07_11_13_40_56(1).mj', 'wave_bottomknob_switch_slide/kitchen_playdata_2019_07_11_13_32_19.mj', 'wave_bottomknob_switch_slide/kitchen_playdata_2019_07_11_13_44_01(1).mj', 'wave_bottomknob_switch_slide/kitchen_playdata_2019_07_11_13_38_11(1).mj', 'wave_bottomknob_switch_slide/kitchen_playdata_2019_07_11_13_42_00.mj', 'wave_bottomknob_switch_slide/kitchen_playdata_2019_07_11_13_38_31(1).mj', 'wave_bottomknob_switch_slide/kitchen_playdata_2019_07_11_13_38_52.mj', 'wave_bottomknob_switch_slide/kitchen_playdata_2019_07_11_13_40_56.mj', 'wave_bottomknob_switch_slide/kitchen_playdata_2019_07_11_13_41_37.mj', 'wave_bottomknob_switch_slide/kitchen_playdata_2019_07_11_13_39_54(1).mj', 'wave_bottomknob_switch_slide/kitchen_playdata_2019_07_11_13_38_11.mj', 'wave_bottomknob_switch_slide/kitchen_playdata_2019_07_11_13_37_49(1).mj', 'wave_bottomknob_switch_slide/kitchen_playdata_2019_07_11_13_34_20(1).mj', 'wave_bottomknob_switch_slide/kitchen_playdata_2019_07_11_13_42_20(1).mj', 'wave_bottomknob_switch_slide/kitchen_playdata_2019_07_11_13_44_01.mj', 'wave_bottomknob_switch_slide/kitchen_playdata_2019_07_11_13_38_31.mj', 'wave_bottomknob_switch_slide/kitchen_playdata_2019_07_11_13_42_00(1).mj', 'wave_bottomknob_switch_slide/kitchen_playdata_2019_07_11_13_43_21(1).mj', 'wave_bottomknob_switch_slide/kitchen_playdata_2019_07_11_13_42_20.mj', 'wave_bottomknob_switch_slide/kitchen_playdata_2019_07_11_13_41_17(1).mj', 'wave_bottomknob_switch_slide/kitchen_playdata_2019_07_11_13_37_49.mj', 'wave_bottomknob_switch_slide/kitchen_playdata_2019_07_11_13_42_40.mj', 'wave_bottomknob_switch_slide/kitchen_playdata_2019_07_11_13_39_33.mj', 'wave_bottomknob_switch_slide/kitchen_playdata_2019_07_11_13_42_40(1).mj', 'wave_bottomknob_switch_slide/kitchen_playdata_2019_07_11_13_34_20.mj', 'wave_bottomknob_switch_slide/kitchen_playdata_2019_07_11_13_43_42(1).mj', 'wave_bottomknob_switch_slide/kitchen_playdata_2019_07_11_13_41_17.mj', 'wave_bottomknob_switch_slide/kitchen_playdata_2019_07_11_13_40_36.mj', 'bottomknob_hinge_slide/kitchen_playdata_2019_06_28_13_46_47.mj', 'bottomknob_hinge_slide/kitchen_playdata_2019_06_28_13_37_22.mj', 'bottomknob_hinge_slide/kitchen_playdata_2019_06_28_13_38_07.mj', 'bottomknob_hinge_slide/kitchen_playdata_2019_06_28_13_38_51.mj', 'bottomknob_hinge_slide/kitchen_playdata_2019_06_28_13_41_36.mj', 'bottomknob_hinge_slide/kitchen_playdata_2019_06_28_13_44_18.mj', 'bottomknob_hinge_slide/kitchen_playdata_2019_06_28_13_35_25.mj', 'bottomknob_hinge_slide/kitchen_playdata_2019_06_28_13_36_58.mj', 'bottomknob_hinge_slide/kitchen_playdata_2019_06_28_13_37_45.mj', 'bottomknob_hinge_slide/kitchen_playdata_2019_06_28_13_35_48.mj', 'bottomknob_hinge_slide/kitchen_playdata_2019_06_28_13_46_25.mj', 'bottomknob_hinge_slide/kitchen_playdata_2019_06_28_13_44_40.mj', 'bottomknob_hinge_slide/kitchen_playdata_2019_06_28_13_43_32.mj', 'bottomknob_hinge_slide/kitchen_playdata_2019_06_28_13_42_17.mj', 'bottomknob_hinge_slide/kitchen_playdata_2019_06_28_13_46_02.mj', 'bottomknob_hinge_slide/kitchen_playdata_2019_06_28_13_43_11.mj', 'bottomknob_hinge_slide/kitchen_playdata_2019_06_28_13_41_15.mj', 'bottomknob_hinge_slide/kitchen_playdata_2019_06_28_13_45_01.mj', 'bottomknob_hinge_slide/kitchen_playdata_2019_06_28_13_43_55.mj', 'bottomknob_hinge_slide/kitchen_playdata_2019_06_28_13_42_38.mj', 'bottomknob_hinge_slide/kitchen_playdata_2019_06_28_13_45_23.mj', 'bottomknob_hinge_slide/kitchen_playdata_2019_06_28_13_35_02.mj', 'bottomknob_hinge_slide/kitchen_playdata_2019_06_28_13_36_36.mj', 'bottomknob_hinge_slide/kitchen_playdata_2019_06_28_13_38_29.mj', 'bottomknob_hinge_slide/kitchen_playdata_2019_06_28_13_41_57.mj', 'bottomknob_hinge_slide/kitchen_playdata_2019_06_28_13_36_12.mj', 'wave_bottomknob_hinge_slide/kitchen_playdata_2019_06_28_12_23_52.mj', 'wave_bottomknob_hinge_slide/kitchen_playdata_2019_06_28_12_12_48.mj', 'wave_bottomknob_hinge_slide/kitchen_playdata_2019_06_28_12_11_38.mj', 'wave_bottomknob_hinge_slide/kitchen_playdata_2019_06_28_12_12_01.mj', 'wave_bottomknob_hinge_slide/kitchen_playdata_2019_06_28_12_13_11.mj', 'wave_bottomknob_hinge_slide/kitchen_playdata_2019_06_28_12_21_37.mj', 'wave_bottomknob_hinge_slide/kitchen_playdata_2019_06_28_12_17_49.mj', 'wave_bottomknob_hinge_slide/kitchen_playdata_2019_06_28_12_23_05.mj', 'wave_bottomknob_hinge_slide/kitchen_playdata_2019_06_28_12_22_20.mj', 'wave_bottomknob_hinge_slide/kitchen_playdata_2019_06_28_12_14_14.mj', 'wave_bottomknob_hinge_slide/kitchen_playdata_2019_06_28_12_14_35.mj', 'wave_bottomknob_hinge_slide/kitchen_playdata_2019_06_28_12_18_33.mj', 'wave_bottomknob_hinge_slide/kitchen_playdata_2019_06_28_12_19_48.mj', 'wave_bottomknob_hinge_slide/kitchen_playdata_2019_06_28_12_13_53.mj', 'wave_bottomknob_hinge_slide/kitchen_playdata_2019_06_28_12_24_43.mj', 'wave_bottomknob_hinge_slide/kitchen_playdata_2019_06_28_12_12_25.mj', 'wave_bottomknob_hinge_slide/kitchen_playdata_2019_06_28_12_24_13.mj', 'wave_bottomknob_hinge_slide/kitchen_playdata_2019_06_28_12_21_58.mj', 'wave_bottomknob_hinge_slide/kitchen_playdata_2019_06_28_12_18_55.mj', 'wave_bottomknob_hinge_slide/kitchen_playdata_2019_06_28_12_19_27.mj', 'wave_bottomknob_hinge_slide/kitchen_playdata_2019_06_28_12_18_11.mj', 'wave_bottomknob_hinge_slide/kitchen_playdata_2019_06_28_12_20_11.mj', 'wave_bottomknob_hinge_slide/kitchen_playdata_2019_06_28_12_22_43.mj', 'wave_bottomknob_hinge_slide/kitchen_playdata_2019_06_28_12_20_33.mj', 'wave_bottomknob_hinge_slide/kitchen_playdata_2019_06_28_12_20_54.mj', 'wave_bottomknob_hinge_slide/kitchen_playdata_2019_06_28_12_21_17.mj', 'wave_bottomknob_hinge_slide/kitchen_playdata_2019_06_28_12_11_15.mj', 'wave_bottomknob_hinge_slide/kitchen_playdata_2019_06_28_12_13_32.mj', 'b_switch_slide/kitchen_playdata_2019_06_28_15_13_16.mj', 'b_switch_slide/kitchen_playdata_2019_06_28_15_14_23.mj', 'b_switch_slide/kitchen_playdata_2019_06_28_15_15_13.mj', 'b_switch_slide/kitchen_playdata_2019_06_28_15_14_39.mj', 'b_switch_slide/kitchen_playdata_2019_06_28_15_14_55.mj', 'b_switch_slide/kitchen_playdata_2019_06_28_15_13_33.mj', 'b_switch_slide/kitchen_playdata_2019_06_28_15_16_06.mj', 'b_switch_slide/kitchen_playdata_2019_06_28_15_16_44.mj', 'b_switch_slide/kitchen_playdata_2019_06_28_15_14_06.mj', 'b_switch_slide/kitchen_playdata_2019_06_28_15_15_31.mj', 'b_switch_slide/kitchen_playdata_2019_06_28_15_13_49.mj', 'b_switch_slide/kitchen_playdata_2019_06_28_15_12_22.mj', 'b_switch_slide/kitchen_playdata_2019_06_28_15_15_48.mj', 'b_switch_slide/kitchen_playdata_2019_06_28_15_17_53.mj', 'b_switch_slide/kitchen_playdata_2019_06_28_15_17_18.mj', 'b_switch_slide/kitchen_playdata_2019_06_28_15_17_35.mj', 'b_switch_slide/kitchen_playdata_2019_06_28_15_12_59.mj', 'b_switch_slide/kitchen_playdata_2019_06_28_15_12_41.mj', 'b_switch_slide/kitchen_playdata_2019_06_28_15_17_00.mj', 'b_bottomknob_hinge_slide/kitchen_playdata_2019_06_28_10_18_40.mj', 'b_bottomknob_hinge_slide/kitchen_playdata_2019_06_28_10_28_28.mj', 'b_bottomknob_hinge_slide/kitchen_playdata_2019_06_28_10_21_02.mj', 'b_bottomknob_hinge_slide/kitchen_playdata_2019_06_28_10_27_34.mj', 'b_bottomknob_hinge_slide/kitchen_playdata_2019_06_28_10_17_50.mj', 'b_bottomknob_hinge_slide/kitchen_playdata_2019_06_28_10_26_20.mj', 'b_bottomknob_hinge_slide/kitchen_playdata_2019_06_28_10_20_16.mj', 'b_bottomknob_hinge_slide/kitchen_playdata_2019_06_28_10_14_36.mj', 'b_bottomknob_hinge_slide/kitchen_playdata_2019_06_28_10_27_05.mj', 'b_bottomknob_hinge_slide/kitchen_playdata_2019_06_28_10_15_29.mj', 'b_bottomknob_hinge_slide/kitchen_playdata_2019_06_28_10_16_18.mj', 'b_bottomknob_hinge_slide/kitchen_playdata_2019_06_28_10_21_49.mj', 'b_bottomknob_hinge_slide/kitchen_playdata_2019_06_28_10_13_47.mj', 'b_bottomknob_hinge_slide/kitchen_playdata_2019_06_28_10_17_05.mj', 'b_bottomknob_hinge_slide/kitchen_playdata_2019_06_28_10_19_28.mj', 'b_bottomknob_hinge_slide/kitchen_playdata_2019_06_28_10_14_11.mj', 'b_bottomknob_hinge_slide/kitchen_playdata_2019_06_28_10_17_28.mj', 'b_bottomknob_hinge_slide/kitchen_playdata_2019_06_28_10_28_50.mj', 'b_bottomknob_hinge_slide/kitchen_playdata_2019_06_28_10_19_53.mj', 'b_bottomknob_hinge_slide/kitchen_playdata_2019_06_28_10_15_54.mj', 'b_bottomknob_hinge_slide/kitchen_playdata_2019_06_28_10_19_05.mj', 'b_bottomknob_hinge_slide/kitchen_playdata_2019_06_28_10_29_38.mj', 'b_bottomknob_hinge_slide/kitchen_playdata_2019_06_28_10_26_43.mj', 'b_bottomknob_hinge_slide/kitchen_playdata_2019_06_28_10_15_01.mj', 'b_bottomknob_hinge_slide/kitchen_playdata_2019_06_28_10_16_43.mj', 'b_bottomknob_hinge_slide/kitchen_playdata_2019_06_28_10_12_51.mj', 'b_bottomknob_hinge_slide/kitchen_playdata_2019_06_28_10_28_07.mj', 'b_bottomknob_hinge_slide/kitchen_playdata_2019_06_28_10_13_13.mj', 'b_bottomknob_hinge_slide/kitchen_playdata_2019_06_28_10_21_24.mj', 'b_bottomknob_hinge_slide/kitchen_playdata_2019_06_28_10_20_39.mj', 'b_bottomknob_hinge_slide/postcorl_microwave_bottomknob_switch_slide/kitchen_playdata_2019_07_11_13_32_19.mj', 'b_bottomknob_hinge_slide/postcorl_microwave_bottomknob_switch_slide/kitchen_playdata_2019_07_11_13_34_20.mj', 'witch_hinge_slide/kitchen_playdata_2019_06_28_15_29_02.mj', 'witch_hinge_slide/kitchen_playdata_2019_06_28_15_24_31.mj', 'witch_hinge_slide/kitchen_playdata_2019_06_28_15_29_22.mj', 'witch_hinge_slide/kitchen_playdata_2019_06_28_15_30_38.mj', 'witch_hinge_slide/kitchen_playdata_2019_06_28_15_26_42.mj', 'witch_hinge_slide/kitchen_playdata_2019_06_28_15_30_01.mj', 'witch_hinge_slide/kitchen_playdata_2019_06_28_15_30_57.mj', 'witch_hinge_slide/kitchen_playdata_2019_06_28_15_23_31.mj', 'witch_hinge_slide/kitchen_playdata_2019_06_28_15_32_01.mj', 'witch_hinge_slide/kitchen_playdata_2019_06_28_15_25_28.mj', 'witch_hinge_slide/kitchen_playdata_2019_06_28_15_26_23.mj', 'witch_hinge_slide/kitchen_playdata_2019_06_28_15_26_05.mj', 'witch_hinge_slide/kitchen_playdata_2019_06_28_15_24_50.mj', 'witch_hinge_slide/kitchen_playdata_2019_06_28_15_25_46.mj', 'witch_hinge_slide/kitchen_playdata_2019_06_28_15_24_11.mj', 'witch_hinge_slide/kitchen_playdata_2019_06_28_15_30_20.mj', 'witch_hinge_slide/kitchen_playdata_2019_06_28_15_29_42.mj', 'witch_hinge_slide/kitchen_playdata_2019_06_28_15_25_09.mj', 'witch_hinge_slide/kitchen_playdata_2019_06_28_15_31_16.mj', 'witch_hinge_slide/kitchen_playdata_2019_06_28_15_23_52.mj', 'b_bottomknob_switch/kitchen_playdata_2019_07_11_17_46_04.mj', 'b_bottomknob_switch/kitchen_playdata_2019_07_11_17_46_41.mj', 'b_bottomknob_switch/kitchen_playdata_2019_07_11_17_47_38.mj', 'b_bottomknob_switch/kitchen_playdata_2019_07_11_17_44_47.mj', 'b_bottomknob_switch/kitchen_playdata_2019_07_11_17_34_33.mj', 'b_bottomknob_switch/kitchen_playdata_2019_07_11_17_48_36.mj', 'b_bottomknob_switch/kitchen_playdata_2019_07_11_17_32_52.mj', 'b_bottomknob_switch/kitchen_playdata_2019_07_11_17_47_20.mj', 'b_bottomknob_switch/kitchen_playdata_2019_07_11_17_45_07.mj', 'b_bottomknob_switch/kitchen_playdata_2019_07_11_17_33_30.mj', 'b_bottomknob_switch/kitchen_playdata_2019_07_11_17_32_35.mj', 'b_bottomknob_switch/kitchen_playdata_2019_07_11_17_32_16.mj', 'b_bottomknob_switch/kitchen_playdata_2019_07_11_17_33_10.mj', 'b_bottomknob_switch/kitchen_playdata_2019_07_11_17_44_27.mj', 'b_bottomknob_switch/kitchen_playdata_2019_07_11_17_44_07.mj', 'b_bottomknob_switch/kitchen_playdata_2019_07_11_17_47_01.mj', 'b_bottomknob_switch/kitchen_playdata_2019_07_11_17_46_23.mj', 'b_bottomknob_switch/kitchen_playdata_2019_07_11_17_45_46.mj', 'b_bottomknob_switch/kitchen_playdata_2019_07_11_17_45_26.mj', 'b_bottomknob_switch/kitchen_playdata_2019_07_11_17_47_57.mj', 'wave_kettle_hinge_slide/kitchen_playdata_2019_06_28_13_56_32.mj', 'wave_kettle_hinge_slide/kitchen_playdata_2019_06_28_14_00_05.mj', 'wave_kettle_hinge_slide/kitchen_playdata_2019_06_28_13_55_20.mj', 'wave_kettle_hinge_slide/kitchen_playdata_2019_06_28_13_55_45.mj', 'wave_kettle_hinge_slide/kitchen_playdata_2019_06_28_13_59_43.mj', 'wave_kettle_hinge_slide/kitchen_playdata_2019_06_28_13_50_03.mj', 'wave_kettle_hinge_slide/kitchen_playdata_2019_06_28_13_57_40.mj', 'wave_kettle_hinge_slide/kitchen_playdata_2019_06_28_13_51_35.mj', 'wave_kettle_hinge_slide/kitchen_playdata_2019_06_28_13_50_26.mj', 'wave_kettle_hinge_slide/kitchen_playdata_2019_06_28_14_01_13.mj', 'wave_kettle_hinge_slide/kitchen_playdata_2019_06_28_13_58_03.mj', 'wave_kettle_hinge_slide/kitchen_playdata_2019_06_28_13_59_20.mj', 'wave_kettle_hinge_slide/kitchen_playdata_2019_06_28_14_00_51.mj', 'wave_kettle_hinge_slide/kitchen_playdata_2019_06_28_13_56_56.mj', 'wave_kettle_hinge_slide/kitchen_playdata_2019_06_28_13_54_11.mj', 'wave_kettle_hinge_slide/kitchen_playdata_2019_06_28_13_58_26.mj', 'wave_kettle_hinge_slide/kitchen_playdata_2019_06_28_13_50_49.mj', 'wave_kettle_hinge_slide/kitchen_playdata_2019_06_28_13_49_38.mj', 'wave_kettle_hinge_slide/kitchen_playdata_2019_06_28_14_00_27.mj', 'wave_kettle_hinge_slide/kitchen_playdata_2019_06_28_13_54_34.mj', 'wave_kettle_hinge_slide/kitchen_playdata_2019_06_28_13_54_56.mj', 'wave_kettle_hinge_slide/kitchen_playdata_2019_06_28_13_57_19.mj', 'wave_kettle_hinge_slide/kitchen_playdata_2019_06_28_13_56_09.mj', 'wave_kettle_hinge_slide/kitchen_playdata_2019_06_28_13_51_12.mj', 'b_bottomknob_switch_slide/kitchen_playdata_2019_06_28_12_50_06.mj', 'b_bottomknob_switch_slide/kitchen_playdata_2019_06_28_13_14_19.mj', 'b_bottomknob_switch_slide/kitchen_playdata_2019_06_28_12_48_30.mj', 'b_bottomknob_switch_slide/kitchen_playdata_2019_06_28_13_14_40.mj', 'b_bottomknob_switch_slide/kitchen_playdata_2019_06_28_12_50_42.mj', 'b_bottomknob_switch_slide/kitchen_playdata_2019_06_28_13_16_15.mj', 'b_bottomknob_switch_slide/kitchen_playdata_2019_06_28_12_45_58.mj', 'b_bottomknob_switch_slide/kitchen_playdata_2019_06_28_13_15_37.mj', 'b_bottomknob_switch_slide/kitchen_playdata_2019_06_28_12_50_24.mj', 'b_bottomknob_switch_slide/kitchen_playdata_2019_06_28_13_13_15.mj', 'b_bottomknob_switch_slide/kitchen_playdata_2019_06_28_12_49_46.mj', 'b_bottomknob_switch_slide/kitchen_playdata_2019_06_28_12_48_11.mj', 'b_bottomknob_switch_slide/kitchen_playdata_2019_06_28_12_46_54.mj', 'b_bottomknob_switch_slide/kitchen_playdata_2019_06_28_13_12_28.mj', 'b_bottomknob_switch_slide/kitchen_playdata_2019_06_28_12_46_36.mj', 'b_bottomknob_switch_slide/kitchen_playdata_2019_06_28_12_46_17.mj', 'b_bottomknob_switch_slide/kitchen_playdata_2019_06_28_13_16_34.mj', 'b_bottomknob_switch_slide/kitchen_playdata_2019_06_28_12_48_49.mj', 'b_bottomknob_switch_slide/kitchen_playdata_2019_06_28_13_12_49.mj', 'b_bottomknob_switch_slide/kitchen_playdata_2019_06_28_13_15_57.mj', 'b_bottomknob_switch_slide/kitchen_playdata_2019_06_28_12_49_08.mj', 'b_bottomknob_switch_slide/kitchen_playdata_2019_06_28_12_47_53.mj', 'b_bottomknob_switch_slide/kitchen_playdata_2019_06_28_13_14_59.mj', 'b_bottomknob_switch_slide/kitchen_playdata_2019_06_28_12_49_28.mj', 'b_bottomknob_switch_slide/kitchen_playdata_2019_06_28_12_47_14.mj', 'b_bottomknob_switch_slide/kitchen_playdata_2019_06_28_13_15_19.mj', 'b_bottomknob_switch_slide/kitchen_playdata_2019_06_28_12_47_34.mj', 'wave_kettle_switch_hinge/kitchen_playdata_2019_07_11_10_56_22.mj', 'wave_kettle_switch_hinge/kitchen_playdata_2019_07_11_11_02_06.mj', 'wave_kettle_switch_hinge/kitchen_playdata_2019_07_11_11_00_38.mj', 'wave_kettle_switch_hinge/kitchen_playdata_2019_07_11_11_04_39.mj', 'wave_kettle_switch_hinge/kitchen_playdata_2019_07_11_11_02_29.mj', 'wave_kettle_switch_hinge/kitchen_playdata_2019_07_11_11_01_00.mj', 'wave_kettle_switch_hinge/kitchen_playdata_2019_07_11_10_54_52.mj', 'wave_kettle_switch_hinge/kitchen_playdata_2019_07_11_10_58_10.mj', 'wave_kettle_switch_hinge/kitchen_playdata_2019_07_11_10_58_55.mj', 'wave_kettle_switch_hinge/kitchen_playdata_2019_07_11_10_54_09.mj', 'wave_kettle_switch_hinge/kitchen_playdata_2019_07_11_11_00_08.mj', 'wave_kettle_switch_hinge/kitchen_playdata_2019_07_11_10_54_31.mj', 'wave_kettle_switch_hinge/kitchen_playdata_2019_07_11_11_02_51.mj', 'wave_kettle_switch_hinge/kitchen_playdata_2019_07_11_10_56_43.mj', 'wave_kettle_switch_hinge/kitchen_playdata_2019_07_11_11_01_43.mj', 'wave_kettle_switch_hinge/kitchen_playdata_2019_07_11_11_03_53.mj', 'wave_kettle_switch_hinge/kitchen_playdata_2019_07_11_11_04_16.mj', 'wave_kettle_switch_hinge/kitchen_playdata_2019_07_11_10_53_46.mj', 'wave_kettle_switch_hinge/kitchen_playdata_2019_07_11_11_01_21.mj', 'wave_kettle_switch_hinge/kitchen_playdata_2019_07_11_10_57_05.mj', 'b_bottomknob_slide/kitchen_playdata_2019_06_28_14_10_59.mj', 'b_bottomknob_slide/kitchen_playdata_2019_06_28_14_10_20.mj', 'b_bottomknob_slide/kitchen_playdata_2019_06_28_14_14_52.mj', 'b_bottomknob_slide/kitchen_playdata_2019_06_28_14_09_24.mj', 'b_bottomknob_slide/kitchen_playdata_2019_06_28_14_17_04.mj', 'b_bottomknob_slide/kitchen_playdata_2019_06_28_14_10_00.mj', 'b_bottomknob_slide/kitchen_playdata_2019_06_28_14_12_20.mj', 'b_bottomknob_slide/kitchen_playdata_2019_06_28_14_12_40.mj', 'b_bottomknob_slide/kitchen_playdata_2019_06_28_14_15_28.mj', 'b_bottomknob_slide/kitchen_playdata_2019_06_28_14_11_19.mj', 'b_bottomknob_slide/kitchen_playdata_2019_06_28_14_12_00.mj', 'b_bottomknob_slide/kitchen_playdata_2019_06_28_14_17_21.mj', 'b_bottomknob_slide/kitchen_playdata_2019_06_28_14_16_25.mj', 'b_bottomknob_slide/kitchen_playdata_2019_06_28_14_12_59.mj', 'b_bottomknob_slide/kitchen_playdata_2019_06_28_14_15_10.mj', 'b_bottomknob_slide/kitchen_playdata_2019_06_28_14_11_39.mj', 'b_bottomknob_slide/kitchen_playdata_2019_06_28_14_14_15.mj', 'b_bottomknob_slide/kitchen_playdata_2019_06_28_14_13_18.mj', 'b_bottomknob_slide/kitchen_playdata_2019_06_28_14_13_38.mj', 'b_bottomknob_slide/kitchen_playdata_2019_06_28_14_10_39.mj', 'b_bottomknob_slide/kitchen_playdata_2019_06_28_14_16_45.mj', 'b_bottomknob_slide/kitchen_playdata_2019_06_28_14_15_46.mj', 'b_bottomknob_slide/kitchen_playdata_2019_06_28_14_13_56.mj', 'b_bottomknob_slide/kitchen_playdata_2019_06_28_14_14_34.mj', 'b_bottomknob_slide/kitchen_playdata_2019_06_28_14_17_39.mj']\n"
     ]
    }
   ],
   "source": [
    "demo_dir = os.getcwd() + '/' + \"kitchen_demos_multitask/\"\n",
    "\n",
    "demos = glob.glob(demo_dir + \"/**/*.mjl\", recursive=True)\n",
    "print([d.strip(demo_dir) for d in demos])"
   ]
  },
  {
   "cell_type": "code",
   "execution_count": 5,
   "metadata": {},
   "outputs": [
    {
     "data": {
      "text/plain": [
       "{'nq': 30,\n",
       " 'nv': 29,\n",
       " 'nu': 9,\n",
       " 'nmocap': 1,\n",
       " 'nsensordata': 0,\n",
       " 'name': b'franka_mocap_studyTable_buttons',\n",
       " 'time': array([ 2.19400001,  2.23399997,  2.27399993,  2.31399989,  2.35400009,\n",
       "         2.39400005,  2.43400002,  2.47399998,  2.51399994,  2.5539999 ,\n",
       "         2.5940001 ,  2.63400006,  2.67400002,  2.71399999,  2.75399995,\n",
       "         2.79399991,  2.83400011,  2.87400007,  2.91400003,  2.954     ,\n",
       "         2.99399996,  3.03399992,  3.07399988,  3.11400008,  3.15400004,\n",
       "         3.19400001,  3.23399997,  3.27399993,  3.31399989,  3.35400009,\n",
       "         3.39400005,  3.43400002,  3.47399998,  3.51399994,  3.5539999 ,\n",
       "         3.5940001 ,  3.63400006,  3.67400002,  3.71399999,  3.75399995,\n",
       "         3.79399991,  3.83400011,  3.87400007,  3.91400003,  3.954     ,\n",
       "         3.99399996,  4.03399992,  4.07399988,  4.11399984,  4.15399981,\n",
       "         4.19399977,  4.23400021,  4.27400017,  4.31400013,  4.35400009,\n",
       "         4.39400005,  4.43400002,  4.47399998,  4.51399994,  4.5539999 ,\n",
       "         4.59399986,  4.63399982,  4.67399979,  4.71400023,  4.75400019,\n",
       "         4.79400015,  4.83400011,  4.87400007,  4.91400003,  4.954     ,\n",
       "         4.99399996,  5.03399992,  5.07399988,  5.11399984,  5.15399981,\n",
       "         5.19399977,  5.23400021,  5.27400017,  5.31400013,  5.35400009,\n",
       "         5.39400005,  5.43400002,  5.47399998,  5.51399994,  5.5539999 ,\n",
       "         5.59399986,  5.63399982,  5.67399979,  5.71400023,  5.75400019,\n",
       "         5.79400015,  5.83400011,  5.87400007,  5.91400003,  5.954     ,\n",
       "         5.99399996,  6.03399992,  6.07399988,  6.11399984,  6.15399981,\n",
       "         6.19399977,  6.23400021,  6.27400017,  6.31400013,  6.35400009,\n",
       "         6.39400005,  6.43400002,  6.47399998,  6.51399994,  6.5539999 ,\n",
       "         6.59399986,  6.63399982,  6.67399979,  6.71400023,  6.75400019,\n",
       "         6.79400015,  6.83400011,  6.87400007,  6.91400003,  6.954     ,\n",
       "         6.99399996,  7.03399992,  7.07399988,  7.11399984,  7.15399981,\n",
       "         7.19399977,  7.23400021,  7.27400017,  7.31400013,  7.35400009,\n",
       "         7.39400005,  7.43400002,  7.47399998,  7.51399994,  7.5539999 ,\n",
       "         7.59399986,  7.63399982,  7.67399979,  7.71400023,  7.75400019,\n",
       "         7.79400015,  7.83400011,  7.87400007,  7.91400003,  7.954     ,\n",
       "         7.99399996,  8.0340004 ,  8.07400036,  8.11400032,  8.15400028,\n",
       "         8.19400024,  8.23400021,  8.27400017,  8.31400013,  8.35400009,\n",
       "         8.39400005,  8.43400002,  8.47399998,  8.51399994,  8.5539999 ,\n",
       "         8.59399986,  8.63399982,  8.67399979,  8.71399975,  8.75399971,\n",
       "         8.79399967,  8.83399963,  8.8739996 ,  8.91399956,  8.95400047,\n",
       "         8.99400043,  9.0340004 ,  9.07400036,  9.11400032,  9.15400028,\n",
       "         9.19400024,  9.23400021,  9.27400017,  9.31400013,  9.35400009,\n",
       "         9.39400005,  9.43400002,  9.47399998,  9.51399994,  9.5539999 ,\n",
       "         9.59399986,  9.63399982,  9.67399979,  9.71399975,  9.75399971,\n",
       "         9.79399967,  9.83399963,  9.8739996 ,  9.91399956,  9.95400047,\n",
       "         9.99400043, 10.0340004 , 10.07400036, 10.11400032, 10.15400028,\n",
       "        10.19400024, 10.23400021, 10.27400017, 10.31400013, 10.35400009,\n",
       "        10.39400005, 10.43400002, 10.47399998, 10.51399994, 10.5539999 ,\n",
       "        10.59399986, 10.63399982, 10.67399979, 10.71399975, 10.75399971,\n",
       "        10.79399967, 10.83399963, 10.8739996 , 10.91399956, 10.95400047,\n",
       "        10.99400043, 11.0340004 , 11.07400036, 11.11400032, 11.15400028,\n",
       "        11.19400024, 11.23400021, 11.27400017, 11.31400013, 11.35400009,\n",
       "        11.39400005, 11.43400002, 11.47399998, 11.51399994, 11.5539999 ,\n",
       "        11.59399986, 11.63399982, 11.67399979, 11.71399975, 11.75399971,\n",
       "        11.79399967, 11.83399963, 11.8739996 , 11.91399956, 11.95400047,\n",
       "        11.99400043, 12.0340004 , 12.07400036, 12.11400032, 12.15400028,\n",
       "        12.19400024, 12.23400021, 12.27400017, 12.31400013, 12.35400009,\n",
       "        12.39400005, 12.43400002, 12.47399998, 12.51399994, 12.5539999 ,\n",
       "        12.59399986, 12.63399982, 12.67399979, 12.71399975, 12.75399971,\n",
       "        12.79399967, 12.83399963, 12.8739996 , 12.91399956, 12.95400047,\n",
       "        12.99400043, 13.0340004 , 13.07400036, 13.11400032, 13.15400028,\n",
       "        13.19400024, 13.23400021, 13.27400017, 13.31400013, 13.35400009,\n",
       "        13.39400005, 13.43400002, 13.47399998, 13.51399994, 13.5539999 ,\n",
       "        13.59399986, 13.63399982, 13.67399979, 13.71399975, 13.75399971,\n",
       "        13.79399967, 13.83399963, 13.8739996 , 13.91399956, 13.95400047,\n",
       "        13.99400043, 14.0340004 , 14.07400036, 14.11400032, 14.15400028,\n",
       "        14.19400024, 14.23400021, 14.27400017, 14.31400013, 14.35400009,\n",
       "        14.39400005, 14.43400002, 14.47399998, 14.51399994, 14.5539999 ,\n",
       "        14.59399986, 14.63399982, 14.67399979, 14.71399975, 14.75399971,\n",
       "        14.79399967, 14.83399963, 14.8739996 , 14.91399956, 14.95400047,\n",
       "        14.99400043, 15.0340004 , 15.07400036, 15.11400032, 15.15400028,\n",
       "        15.19400024, 15.23400021, 15.27400017, 15.31400013, 15.35400009,\n",
       "        15.39400005, 15.43400002, 15.47399998, 15.51399994, 15.5539999 ,\n",
       "        15.59399986, 15.63399982, 15.67399979, 15.71399975, 15.75399971,\n",
       "        15.79399967, 15.83399963, 15.8739996 , 15.91399956, 15.95400047,\n",
       "        15.99400043, 16.0340004 , 16.0739994 , 16.11400032, 16.15399933,\n",
       "        16.19400024, 16.23399925, 16.27400017, 16.31399918, 16.35400009,\n",
       "        16.3939991 , 16.43400002, 16.47400093, 16.51399994, 16.55400085,\n",
       "        16.59399986, 16.63400078, 16.67399979, 16.7140007 , 16.75399971,\n",
       "        16.79400063, 16.83399963, 16.87400055, 16.91399956, 16.95400047,\n",
       "        16.99399948, 17.0340004 , 17.0739994 , 17.11400032, 17.15399933,\n",
       "        17.19400024, 17.23399925, 17.27400017, 17.31399918, 17.35400009,\n",
       "        17.3939991 , 17.43400002, 17.47400093, 17.51399994, 17.55400085,\n",
       "        17.59399986, 17.63400078, 17.67399979, 17.7140007 , 17.75399971,\n",
       "        17.79400063, 17.83399963, 17.87400055, 17.91399956, 17.95400047,\n",
       "        17.99399948, 18.0340004 , 18.0739994 , 18.11400032, 18.15399933,\n",
       "        18.19400024, 18.23399925, 18.27400017, 18.31399918, 18.35400009,\n",
       "        18.3939991 , 18.43400002, 18.47400093, 18.51399994, 18.55400085,\n",
       "        18.59399986, 18.63400078, 18.67399979, 18.7140007 , 18.75399971,\n",
       "        18.79400063, 18.83399963, 18.87400055, 18.91399956, 18.95400047,\n",
       "        18.99399948, 19.0340004 , 19.0739994 , 19.11400032, 19.15399933,\n",
       "        19.19400024, 19.23399925, 19.27400017, 19.31399918, 19.35400009,\n",
       "        19.3939991 , 19.43400002, 19.47400093, 19.51399994, 19.55400085,\n",
       "        19.59399986, 19.63400078, 19.67399979, 19.7140007 , 19.75399971,\n",
       "        19.79400063, 19.83399963, 19.87400055, 19.91399956, 19.95400047,\n",
       "        19.99399948, 20.0340004 , 20.0739994 , 20.11400032, 20.15399933,\n",
       "        20.19400024, 20.23399925, 20.27400017, 20.31399918]),\n",
       " 'qpos': array([[ 1.54438004e-01, -1.76353562e+00,  1.85912895e+00, ...,\n",
       "          2.62166804e-19, -1.13061060e-05, -1.07351758e-18],\n",
       "        [ 1.49016142e-01, -1.76357031e+00,  1.85786819e+00, ...,\n",
       "          2.62166804e-19, -1.13061060e-05, -1.07351758e-18],\n",
       "        [ 1.42933458e-01, -1.76361835e+00,  1.85766494e+00, ...,\n",
       "          2.62166804e-19, -1.13061060e-05, -1.07351758e-18],\n",
       "        ...,\n",
       "        [-1.12268651e+00, -1.76369023e+00,  6.21724486e-01, ...,\n",
       "          3.08262497e-06,  4.15252689e-05, -7.40935132e-02],\n",
       "        [-1.10227621e+00, -1.76388741e+00,  6.12467349e-01, ...,\n",
       "         -5.86583701e-06, -7.87526951e-05, -7.40912557e-02],\n",
       "        [-1.08333075e+00, -1.76360178e+00,  6.03071809e-01, ...,\n",
       "         -3.73821899e-06, -5.02271032e-05, -7.40890056e-02]]),\n",
       " 'qvel': array([[-1.54088825e-01, -2.55346322e-03, -3.72177511e-02, ...,\n",
       "         -4.24271425e-17,  6.64174740e-06,  1.13366096e-18],\n",
       "        [-1.16569549e-01,  3.76087519e-05, -2.61511393e-02, ...,\n",
       "          1.41377936e-18,  6.64174740e-06, -6.08279547e-18],\n",
       "        [-1.55785799e-01,  4.54836496e-04,  7.65029015e-03, ...,\n",
       "         -2.81197667e-17,  6.64174740e-06, -4.12654894e-19],\n",
       "        ...,\n",
       "        [ 3.53159875e-01,  3.80389020e-03, -2.09581941e-01, ...,\n",
       "          3.86193005e-06,  3.09895463e-02,  1.04191735e-04],\n",
       "        [ 5.52539170e-01,  6.63598161e-03, -2.64317632e-01, ...,\n",
       "          4.16334979e-06,  6.32159784e-02,  2.11204242e-04],\n",
       "        [ 3.98986131e-01,  4.04145801e-03, -2.00626835e-01, ...,\n",
       "         -6.95622248e-06, -6.55402541e-02,  1.42493955e-04]]),\n",
       " 'ctrl': array([[ 0.13709341, -1.76689017,  1.82947719, ...,  1.60605145,\n",
       "          0.03995955,  0.03992025],\n",
       "        [ 0.13709341, -1.76689017,  1.82947719, ...,  1.60605145,\n",
       "          0.03995955,  0.03992025],\n",
       "        [ 0.12628679, -1.76810503,  1.83297658, ...,  1.6143235 ,\n",
       "          0.04      ,  0.03990725],\n",
       "        ...,\n",
       "        [-1.08693659, -1.7669611 ,  0.58729106, ..., -0.98044974,\n",
       "          0.04      ,  0.0399214 ],\n",
       "        [-1.0428555 , -1.76498783,  0.57022142, ..., -0.99942464,\n",
       "          0.03991502,  0.04      ],\n",
       "        [-1.0428555 , -1.76498783,  0.57022142, ..., -0.99942464,\n",
       "          0.03991502,  0.04      ]]),\n",
       " 'mocap_pos': array([[-0.45031705, -0.07594756,  2.02822304],\n",
       "        [-0.45031705, -0.07594756,  2.02822304],\n",
       "        [-0.45206672, -0.0715998 ,  2.02714038],\n",
       "        ...,\n",
       "        [-0.14323138,  0.07466497,  2.47149658],\n",
       "        [-0.14866368,  0.06709233,  2.47184277],\n",
       "        [-0.14866368,  0.06709233,  2.47184277]]),\n",
       " 'mocap_quat': array([[ 0.65921009, -0.65204751, -0.24554403, -0.28281474],\n",
       "        [ 0.65921009, -0.65204751, -0.24554403, -0.28281474],\n",
       "        [ 0.65870202, -0.65183181, -0.24052425, -0.28874737],\n",
       "        ...,\n",
       "        [ 0.83288336, -0.43120715, -0.1149509 , -0.32734084],\n",
       "        [ 0.83761388, -0.42566425, -0.1194642 , -0.32084456],\n",
       "        [ 0.83761388, -0.42566425, -0.1194642 , -0.32084456]]),\n",
       " 'sensordata': array([], shape=(454, 0), dtype=float64),\n",
       " 'userdata': array([], shape=(454, 0), dtype=float64),\n",
       " 'logName': '/home/sholto/Desktop/AI/learning_from_play/kitchen_demos_multitask/postcorl_kettle_topknob_bottomknob_hinge/kitchen_playdata_2019_07_11_18_05_26.mjl'}"
      ]
     },
     "execution_count": 5,
     "metadata": {},
     "output_type": "execute_result"
    }
   ],
   "source": [
    "file = demos[1]\n",
    "skip = 20\n",
    "data = parse_mjl_logs(file, skip)\n",
    "data"
   ]
  },
  {
   "cell_type": "code",
   "execution_count": 6,
   "metadata": {},
   "outputs": [],
   "source": [
    "%matplotlib inline \n",
    "import matplotlib.pyplot as plt\n",
    "def histo(x):\n",
    "    hist, bins = np.histogram(x, bins=50)\n",
    "    width = 0.7 * (bins[1] - bins[0])\n",
    "    center = (bins[:-1] + bins[1:]) / 2\n",
    "    plt.bar(center, hist, align='center', width=width)\n",
    "    plt.title(\"Trajectory Lengths\")\n",
    "    plt.show()"
   ]
  },
  {
   "cell_type": "code",
   "execution_count": 43,
   "metadata": {},
   "outputs": [
    {
     "name": "stderr",
     "output_type": "stream",
     "text": [
      "\n",
      "  0%|          | 0/608 [00:00<?, ?it/s]\u001b[A\n",
      "  0%|          | 3/608 [00:00<00:21, 27.77it/s]\u001b[A\n",
      "  1%|          | 6/608 [00:00<00:21, 27.63it/s]\u001b[A\n",
      "  1%|▏         | 9/608 [00:00<00:21, 28.12it/s]\u001b[A\n",
      "  2%|▏         | 12/608 [00:00<00:21, 28.01it/s]\u001b[A\n",
      "  2%|▏         | 15/608 [00:00<00:21, 28.09it/s]\u001b[A\n",
      "  3%|▎         | 18/608 [00:00<00:20, 28.28it/s]\u001b[A\n",
      "  3%|▎         | 21/608 [00:00<00:20, 28.41it/s]\u001b[A\n",
      "  4%|▍         | 25/608 [00:00<00:19, 29.49it/s]\u001b[A\n",
      "  5%|▍         | 29/608 [00:00<00:19, 29.79it/s]\u001b[A\n",
      "  5%|▌         | 32/608 [00:01<00:19, 29.70it/s]\u001b[A\n",
      "  6%|▌         | 36/608 [00:01<00:19, 29.68it/s]\u001b[A\n",
      "  6%|▋         | 39/608 [00:01<00:20, 28.04it/s]\u001b[A\n",
      "  7%|▋         | 42/608 [00:01<00:19, 28.40it/s]\u001b[A\n",
      "  8%|▊         | 46/608 [00:01<00:19, 29.11it/s]\u001b[A\n",
      "  8%|▊         | 50/608 [00:01<00:18, 29.69it/s]\u001b[A\n",
      "  9%|▊         | 53/608 [00:01<00:19, 28.32it/s]\u001b[A\n",
      "  9%|▉         | 56/608 [00:01<00:20, 27.25it/s]\u001b[A\n",
      " 10%|▉         | 59/608 [00:02<00:20, 27.05it/s]\u001b[A\n",
      " 10%|█         | 62/608 [00:02<00:20, 26.62it/s]\u001b[A\n",
      " 11%|█         | 65/608 [00:02<00:20, 26.60it/s]\u001b[A\n",
      " 11%|█         | 68/608 [00:02<00:20, 26.79it/s]\u001b[A\n",
      " 12%|█▏        | 71/608 [00:02<00:19, 27.21it/s]\u001b[A\n",
      " 12%|█▏        | 74/608 [00:02<00:19, 26.94it/s]\u001b[A\n",
      " 13%|█▎        | 77/608 [00:02<00:19, 26.82it/s]\u001b[A\n",
      " 13%|█▎        | 80/608 [00:02<00:19, 27.33it/s]\u001b[A\n",
      " 14%|█▍        | 84/608 [00:02<00:18, 28.48it/s]\u001b[A\n",
      " 14%|█▍        | 87/608 [00:03<00:18, 28.78it/s]\u001b[A\n",
      " 15%|█▍        | 91/608 [00:03<00:17, 29.84it/s]\u001b[A\n",
      " 16%|█▌        | 95/608 [00:03<00:16, 30.88it/s]\u001b[A\n",
      " 16%|█▋        | 99/608 [00:03<00:16, 31.68it/s]\u001b[A\n",
      " 17%|█▋        | 103/608 [00:03<00:16, 30.40it/s]\u001b[A\n",
      " 18%|█▊        | 107/608 [00:03<00:17, 29.20it/s]\u001b[A\n",
      " 18%|█▊        | 110/608 [00:03<00:18, 27.55it/s]\u001b[A\n",
      " 19%|█▊        | 113/608 [00:03<00:18, 26.98it/s]\u001b[A\n",
      " 19%|█▉        | 116/608 [00:04<00:18, 26.95it/s]\u001b[A\n",
      " 20%|█▉        | 119/608 [00:04<00:18, 26.61it/s]\u001b[A\n",
      " 20%|██        | 122/608 [00:04<00:18, 26.38it/s]\u001b[A\n",
      " 21%|██        | 125/608 [00:04<00:18, 26.54it/s]\u001b[A\n",
      " 21%|██        | 128/608 [00:04<00:17, 27.34it/s]\u001b[A\n",
      " 22%|██▏       | 131/608 [00:04<00:17, 27.79it/s]\u001b[A\n",
      " 22%|██▏       | 134/608 [00:04<00:16, 27.93it/s]\u001b[A\n",
      " 23%|██▎       | 137/608 [00:04<00:16, 27.86it/s]\u001b[A\n",
      " 23%|██▎       | 140/608 [00:04<00:16, 28.10it/s]\u001b[A\n",
      " 24%|██▎       | 143/608 [00:05<00:16, 28.40it/s]\u001b[A\n",
      " 24%|██▍       | 147/608 [00:05<00:15, 29.42it/s]\u001b[A\n",
      " 25%|██▍       | 151/608 [00:05<00:14, 30.78it/s]\u001b[A\n",
      " 25%|██▌       | 155/608 [00:05<00:14, 31.16it/s]\u001b[A\n",
      " 26%|██▌       | 159/608 [00:05<00:14, 31.80it/s]\u001b[A\n",
      " 27%|██▋       | 163/608 [00:05<00:14, 31.50it/s]\u001b[A\n",
      " 27%|██▋       | 167/608 [00:05<00:14, 30.57it/s]\u001b[A\n",
      " 28%|██▊       | 171/608 [00:05<00:14, 29.82it/s]\u001b[A\n",
      " 29%|██▊       | 174/608 [00:06<00:14, 29.14it/s]\u001b[A\n",
      " 29%|██▉       | 177/608 [00:06<00:15, 27.07it/s]\u001b[A\n",
      " 30%|██▉       | 180/608 [00:06<00:16, 26.15it/s]\u001b[A\n",
      " 30%|███       | 183/608 [00:06<00:16, 26.39it/s]\u001b[A\n",
      " 31%|███       | 186/608 [00:06<00:16, 26.14it/s]\u001b[A\n",
      " 31%|███       | 189/608 [00:06<00:16, 25.78it/s]\u001b[A\n",
      " 32%|███▏      | 192/608 [00:06<00:16, 25.26it/s]\u001b[A\n",
      " 32%|███▏      | 195/608 [00:06<00:16, 24.36it/s]\u001b[A\n",
      " 33%|███▎      | 198/608 [00:07<00:17, 23.05it/s]\u001b[A\n",
      " 33%|███▎      | 201/608 [00:07<00:18, 22.49it/s]\u001b[A\n",
      " 34%|███▎      | 204/608 [00:07<00:17, 22.66it/s]\u001b[A\n",
      " 34%|███▍      | 207/608 [00:07<00:17, 22.76it/s]\u001b[A\n",
      " 35%|███▍      | 210/608 [00:07<00:17, 22.95it/s]\u001b[A\n",
      " 35%|███▌      | 213/608 [00:07<00:16, 24.06it/s]\u001b[A\n",
      " 36%|███▌      | 216/608 [00:07<00:15, 25.02it/s]\u001b[A\n",
      " 36%|███▌      | 219/608 [00:07<00:15, 25.63it/s]\u001b[A\n",
      " 37%|███▋      | 222/608 [00:08<00:14, 25.75it/s]\u001b[A\n",
      " 37%|███▋      | 225/608 [00:08<00:14, 26.16it/s]\u001b[A\n",
      " 38%|███▊      | 228/608 [00:08<00:14, 26.33it/s]\u001b[A\n",
      " 38%|███▊      | 231/608 [00:08<00:14, 25.35it/s]\u001b[A\n",
      " 38%|███▊      | 234/608 [00:08<00:14, 25.31it/s]\u001b[A\n",
      " 39%|███▉      | 237/608 [00:08<00:14, 25.58it/s]\u001b[A\n",
      " 39%|███▉      | 240/608 [00:08<00:14, 26.01it/s]\u001b[A\n",
      " 40%|███▉      | 243/608 [00:08<00:13, 26.12it/s]\u001b[A\n",
      " 40%|████      | 246/608 [00:08<00:13, 26.43it/s]\u001b[A\n",
      " 41%|████      | 249/608 [00:09<00:13, 26.56it/s]\u001b[A\n",
      " 41%|████▏     | 252/608 [00:09<00:14, 24.86it/s]\u001b[A\n",
      " 42%|████▏     | 255/608 [00:09<00:13, 25.55it/s]\u001b[A\n",
      " 42%|████▏     | 258/608 [00:09<00:14, 23.82it/s]\u001b[A\n",
      " 43%|████▎     | 261/608 [00:09<00:14, 23.43it/s]\u001b[A\n",
      " 43%|████▎     | 264/608 [00:09<00:13, 24.65it/s]\u001b[A\n",
      " 44%|████▍     | 267/608 [00:09<00:13, 25.92it/s]\u001b[A\n",
      " 44%|████▍     | 270/608 [00:09<00:12, 26.76it/s]\u001b[A\n",
      " 45%|████▍     | 273/608 [00:10<00:12, 27.06it/s]\u001b[A\n",
      " 45%|████▌     | 276/608 [00:10<00:12, 27.62it/s]\u001b[A\n",
      " 46%|████▌     | 279/608 [00:10<00:11, 28.04it/s]\u001b[A\n",
      " 46%|████▋     | 282/608 [00:10<00:11, 28.59it/s]\u001b[A\n",
      " 47%|████▋     | 286/608 [00:10<00:11, 29.24it/s]\u001b[A\n",
      " 48%|████▊     | 290/608 [00:10<00:10, 29.72it/s]\u001b[A\n",
      " 48%|████▊     | 293/608 [00:10<00:10, 29.64it/s]\u001b[A\n",
      " 49%|████▊     | 296/608 [00:10<00:10, 28.56it/s]\u001b[A\n",
      " 49%|████▉     | 299/608 [00:10<00:11, 28.02it/s]\u001b[A\n",
      " 50%|████▉     | 302/608 [00:11<00:12, 24.59it/s]\u001b[A\n",
      " 50%|█████     | 305/608 [00:11<00:11, 25.84it/s]\u001b[A\n",
      " 51%|█████     | 308/608 [00:11<00:11, 25.22it/s]\u001b[A\n",
      " 51%|█████     | 311/608 [00:11<00:11, 26.30it/s]\u001b[A\n",
      " 52%|█████▏    | 315/608 [00:11<00:10, 27.61it/s]\u001b[A\n",
      " 52%|█████▏    | 318/608 [00:11<00:10, 27.43it/s]\u001b[A\n",
      " 53%|█████▎    | 322/608 [00:11<00:09, 28.90it/s]\u001b[A\n",
      " 54%|█████▎    | 326/608 [00:11<00:09, 28.90it/s]\u001b[A\n",
      " 54%|█████▍    | 329/608 [00:12<00:10, 27.56it/s]\u001b[A\n",
      " 55%|█████▍    | 332/608 [00:12<00:10, 26.86it/s]\u001b[A\n",
      " 55%|█████▌    | 335/608 [00:12<00:10, 27.23it/s]\u001b[A\n",
      " 56%|█████▌    | 338/608 [00:12<00:09, 27.60it/s]\u001b[A\n",
      " 56%|█████▌    | 341/608 [00:12<00:09, 27.68it/s]\u001b[A\n",
      " 57%|█████▋    | 344/608 [00:12<00:09, 27.98it/s]\u001b[A\n",
      " 57%|█████▋    | 347/608 [00:12<00:09, 28.10it/s]\u001b[A\n",
      " 58%|█████▊    | 350/608 [00:12<00:09, 28.15it/s]\u001b[A\n",
      " 58%|█████▊    | 354/608 [00:12<00:08, 30.57it/s]\u001b[A\n",
      " 59%|█████▉    | 358/608 [00:13<00:08, 30.21it/s]\u001b[A\n",
      " 60%|█████▉    | 362/608 [00:13<00:08, 29.80it/s]\u001b[A\n",
      " 60%|██████    | 366/608 [00:13<00:07, 32.15it/s]\u001b[A\n",
      " 61%|██████    | 370/608 [00:13<00:07, 30.42it/s]\u001b[A\n",
      " 62%|██████▏   | 374/608 [00:13<00:08, 28.06it/s]\u001b[A\n",
      " 62%|██████▏   | 377/608 [00:13<00:08, 25.81it/s]\u001b[A\n",
      " 62%|██████▎   | 380/608 [00:13<00:09, 24.85it/s]\u001b[A\n",
      " 63%|██████▎   | 383/608 [00:13<00:09, 23.31it/s]\u001b[A\n",
      " 63%|██████▎   | 386/608 [00:14<00:09, 23.50it/s]\u001b[A\n",
      " 64%|██████▍   | 389/608 [00:14<00:09, 22.32it/s]\u001b[A\n",
      " 64%|██████▍   | 392/608 [00:14<00:09, 22.70it/s]\u001b[A\n",
      " 65%|██████▍   | 395/608 [00:14<00:09, 23.24it/s]\u001b[A\n",
      " 65%|██████▌   | 398/608 [00:14<00:08, 23.91it/s]\u001b[A\n",
      " 66%|██████▌   | 401/608 [00:14<00:08, 24.50it/s]\u001b[A\n",
      " 66%|██████▋   | 404/608 [00:14<00:08, 25.10it/s]\u001b[A\n",
      " 67%|██████▋   | 407/608 [00:14<00:07, 25.26it/s]\u001b[A\n",
      " 67%|██████▋   | 410/608 [00:15<00:07, 25.01it/s]\u001b[A\n",
      " 68%|██████▊   | 413/608 [00:15<00:07, 24.49it/s]\u001b[A\n",
      " 68%|██████▊   | 416/608 [00:15<00:07, 25.10it/s]\u001b[A\n",
      " 69%|██████▉   | 419/608 [00:15<00:07, 25.52it/s]\u001b[A\n",
      " 69%|██████▉   | 422/608 [00:15<00:07, 26.44it/s]\u001b[A\n",
      " 70%|███████   | 426/608 [00:15<00:06, 28.53it/s]\u001b[A\n",
      " 71%|███████   | 430/608 [00:15<00:05, 30.45it/s]\u001b[A\n",
      " 71%|███████▏  | 434/608 [00:15<00:05, 31.54it/s]\u001b[A\n",
      " 72%|███████▏  | 438/608 [00:16<00:05, 32.27it/s]\u001b[A\n",
      " 73%|███████▎  | 442/608 [00:16<00:05, 31.24it/s]\u001b[A\n",
      " 73%|███████▎  | 446/608 [00:16<00:05, 28.48it/s]\u001b[A\n",
      " 74%|███████▍  | 449/608 [00:16<00:05, 27.44it/s]\u001b[A\n",
      " 74%|███████▍  | 452/608 [00:16<00:05, 26.28it/s]\u001b[A\n",
      " 75%|███████▍  | 455/608 [00:16<00:05, 25.82it/s]\u001b[A\n",
      " 75%|███████▌  | 458/608 [00:16<00:05, 25.74it/s]\u001b[A\n",
      " 76%|███████▌  | 461/608 [00:16<00:05, 24.94it/s]\u001b[A\n",
      " 76%|███████▋  | 464/608 [00:17<00:05, 24.14it/s]\u001b[A\n",
      " 77%|███████▋  | 467/608 [00:17<00:05, 23.75it/s]\u001b[A\n",
      " 77%|███████▋  | 470/608 [00:17<00:06, 22.88it/s]\u001b[A\n",
      " 78%|███████▊  | 474/608 [00:17<00:05, 25.39it/s]\u001b[A\n",
      " 78%|███████▊  | 477/608 [00:17<00:05, 26.11it/s]\u001b[A\n",
      " 79%|███████▉  | 480/608 [00:17<00:04, 26.93it/s]\u001b[A\n",
      " 79%|███████▉  | 483/608 [00:17<00:04, 27.68it/s]\u001b[A\n",
      " 80%|████████  | 487/608 [00:17<00:04, 28.59it/s]\u001b[A\n",
      " 81%|████████  | 490/608 [00:17<00:04, 28.77it/s]\u001b[A\n",
      " 81%|████████▏ | 494/608 [00:18<00:03, 29.31it/s]\u001b[A\n",
      " 82%|████████▏ | 498/608 [00:18<00:03, 29.80it/s]\u001b[A\n",
      " 83%|████████▎ | 502/608 [00:18<00:03, 30.11it/s]\u001b[A\n",
      " 83%|████████▎ | 506/608 [00:18<00:03, 30.29it/s]\u001b[A\n",
      " 84%|████████▍ | 510/608 [00:18<00:03, 30.76it/s]\u001b[A\n",
      " 85%|████████▍ | 514/608 [00:18<00:03, 29.66it/s]\u001b[A\n",
      " 85%|████████▌ | 517/608 [00:18<00:03, 27.53it/s]\u001b[A\n",
      " 86%|████████▌ | 520/608 [00:19<00:03, 26.55it/s]\u001b[A\n",
      " 86%|████████▌ | 523/608 [00:19<00:03, 23.10it/s]\u001b[A\n",
      " 87%|████████▋ | 526/608 [00:19<00:03, 23.44it/s]\u001b[A\n",
      " 87%|████████▋ | 529/608 [00:19<00:03, 23.62it/s]\u001b[A\n",
      " 88%|████████▊ | 532/608 [00:19<00:03, 23.87it/s]\u001b[A\n",
      " 88%|████████▊ | 535/608 [00:19<00:03, 24.10it/s]\u001b[A\n",
      " 88%|████████▊ | 538/608 [00:19<00:02, 24.86it/s]\u001b[A\n",
      " 89%|████████▉ | 541/608 [00:19<00:02, 24.07it/s]\u001b[A\n",
      " 90%|████████▉ | 545/608 [00:20<00:02, 25.98it/s]\u001b[A\n",
      " 90%|█████████ | 549/608 [00:20<00:02, 27.37it/s]\u001b[A\n",
      " 91%|█████████ | 553/608 [00:20<00:01, 28.93it/s]\u001b[A\n",
      " 91%|█████████▏| 556/608 [00:20<00:01, 29.13it/s]\u001b[A\n",
      " 92%|█████████▏| 560/608 [00:20<00:01, 29.96it/s]\u001b[A\n",
      " 93%|█████████▎| 564/608 [00:20<00:01, 29.84it/s]\u001b[A\n",
      " 93%|█████████▎| 568/608 [00:20<00:01, 28.55it/s]\u001b[A\n",
      " 94%|█████████▍| 571/608 [00:20<00:01, 27.78it/s]\u001b[A\n",
      " 94%|█████████▍| 574/608 [00:21<00:01, 27.25it/s]\u001b[A\n",
      " 95%|█████████▍| 577/608 [00:21<00:01, 26.97it/s]\u001b[A\n",
      " 95%|█████████▌| 580/608 [00:21<00:01, 26.19it/s]\u001b[A\n",
      " 96%|█████████▌| 583/608 [00:21<00:00, 26.07it/s]\u001b[A\n",
      " 96%|█████████▋| 586/608 [00:21<00:00, 27.09it/s]\u001b[A\n",
      " 97%|█████████▋| 589/608 [00:21<00:00, 26.24it/s]\u001b[A\n",
      " 98%|█████████▊| 593/608 [00:21<00:00, 27.41it/s]\u001b[A\n",
      " 98%|█████████▊| 596/608 [00:21<00:00, 28.03it/s]\u001b[A\n",
      " 99%|█████████▊| 599/608 [00:21<00:00, 28.56it/s]\u001b[A\n",
      " 99%|█████████▉| 602/608 [00:22<00:00, 28.82it/s]\u001b[A\n",
      "100%|█████████▉| 606/608 [00:22<00:00, 29.42it/s]\u001b[A\n",
      "100%|██████████| 608/608 [00:22<00:00, 27.31it/s]\u001b[A"
     ]
    },
    {
     "data": {
      "image/png": "[encoded data removed]",
      "text/plain": [
       "<Figure size 432x288 with 1 Axes>"
      ]
     },
     "metadata": {
      "needs_background": "light"
     },
     "output_type": "display_data"
    },
    {
     "data": {
      "image/png": "[encoded data removed]",
      "text/plain": [
       "<Figure size 432x288 with 1 Axes>"
      ]
     },
     "metadata": {
      "needs_background": "light"
     },
     "output_type": "display_data"
    }
   ],
   "source": [
    "times = []\n",
    "frames = []\n",
    "timestep = []\n",
    "\n",
    "for file in tqdm(demos):\n",
    "    try:\n",
    "        skip = 1\n",
    "        data = parse_mjl_logs(file, skip)\n",
    "        times.append(data['time'][-1] - data['time'][0])\n",
    "        frames.append(len(data['ctrl']))\n",
    "    except:\n",
    "        pass\n",
    "\n",
    "histo(times)\n",
    "histo(frames)"
   ]
  },
  {
   "cell_type": "code",
   "execution_count": 7,
   "metadata": {},
   "outputs": [
    {
     "name": "stdout",
     "output_type": "stream",
     "text": [
      "(454, 9) (454, 30) (454, 29)\n"
     ]
    }
   ],
   "source": [
    "print(data['ctrl'].shape, data['qpos'].shape, data['qvel'].shape)"
   ]
  },
  {
   "cell_type": "code",
   "execution_count": 6,
   "metadata": {},
   "outputs": [],
   "source": [
    "file = demos[np.random.choice(len(demos))]\n",
    "skip = 40 # this is frame skip\n",
    "data = parse_mjl_logs(file, skip)\n",
    "env.reset()\n",
    "for i in range(0,len(data['qpos'])):\n",
    "    env.robot.reset(env, data['qpos'][i], data['qvel'][i])\n",
    "    env.render()"
   ]
  },
  {
   "cell_type": "markdown",
   "metadata": {},
   "source": [
    "# The issue!\n",
    "Now, the problem is that cntrl is at the full time frequency of the env - which is really fine. That means if frame skip is anything but 1 then the ctrl labels are wrong. Ideally we want a more reasonable time freq, which means we need to take the difference between the first 9 elements of q_pos, divide it by the time between and then that gives us our desired vel controls. Even better, tonight I'll modify the env for position control. \n",
    "\n",
    "See, the below fails - "
   ]
  },
  {
   "cell_type": "code",
   "execution_count": 13,
   "metadata": {},
   "outputs": [
    {
     "data": {
      "text/plain": [
       "array([ 1.43264592e-01, -1.77799799e+00,  1.84360213e+00, -2.48067288e+00,\n",
       "        2.66339894e-01,  7.17807025e-01,  1.59974274e+00,  5.04281322e-02,\n",
       "        3.76864916e-02, -4.75080366e-05, -2.52327569e-05,  4.69530209e-05,\n",
       "       -6.29075473e-05, -9.96761684e-06,  5.99427580e-06,  3.48217187e-05,\n",
       "        5.21325121e-06,  4.25380655e-04, -9.96743683e-05, -5.09636619e-04,\n",
       "       -2.10016238e-03,  8.16123084e-03,  9.49776479e-03, -2.69737980e-01,\n",
       "        3.50862365e-01,  1.61924263e+00,  1.00537151e+00,  1.10771256e-02,\n",
       "       -1.02287991e-02,  1.93989775e-04,  0.00000000e+00,  0.00000000e+00,\n",
       "        0.00000000e+00,  0.00000000e+00,  0.00000000e+00,  0.00000000e+00,\n",
       "        0.00000000e+00,  0.00000000e+00,  0.00000000e+00,  0.00000000e+00,\n",
       "        0.00000000e+00,  0.00000000e+00,  0.00000000e+00,  0.00000000e+00,\n",
       "        0.00000000e+00,  0.00000000e+00,  0.00000000e+00,  0.00000000e+00,\n",
       "        0.00000000e+00,  0.00000000e+00,  0.00000000e+00,  0.00000000e+00,\n",
       "        0.00000000e+00,  0.00000000e+00,  0.00000000e+00,  0.00000000e+00,\n",
       "        0.00000000e+00,  0.00000000e+00,  0.00000000e+00,  0.00000000e+00])"
      ]
     },
     "execution_count": 13,
     "metadata": {},
     "output_type": "execute_result"
    }
   ],
   "source": [
    "env.reset()"
   ]
  },
  {
   "cell_type": "code",
   "execution_count": 52,
   "metadata": {},
   "outputs": [
    {
     "ename": "IndexError",
     "evalue": "index 97 is out of bounds for axis 0 with size 97",
     "output_type": "error",
     "traceback": [
      "\u001b[0;31m---------------------------------------------------------------------------\u001b[0m",
      "\u001b[0;31mIndexError\u001b[0m                                Traceback (most recent call last)",
      "\u001b[0;32m<ipython-input-52-b4f28a35aa20>\u001b[0m in \u001b[0;36m<module>\u001b[0;34m\u001b[0m\n\u001b[1;32m      7\u001b[0m     \u001b[0;31m#rel_vector = data['qpos'][i+1][:9]-data['qpos'][i][:9]\u001b[0m\u001b[0;34m\u001b[0m\u001b[0;34m\u001b[0m\u001b[0;34m\u001b[0m\u001b[0m\n\u001b[1;32m      8\u001b[0m     \u001b[0;31m#vel = rel_vector / 0.08\u001b[0m\u001b[0;34m\u001b[0m\u001b[0;34m\u001b[0m\u001b[0;34m\u001b[0m\u001b[0m\n\u001b[0;32m----> 9\u001b[0;31m     \u001b[0mdes_pos\u001b[0m \u001b[0;34m=\u001b[0m \u001b[0mdata\u001b[0m\u001b[0;34m[\u001b[0m\u001b[0;34m'qpos'\u001b[0m\u001b[0;34m]\u001b[0m\u001b[0;34m[\u001b[0m\u001b[0mi\u001b[0m\u001b[0;34m+\u001b[0m\u001b[0;36m1\u001b[0m\u001b[0;34m]\u001b[0m\u001b[0;34m[\u001b[0m\u001b[0;34m:\u001b[0m\u001b[0;36m9\u001b[0m\u001b[0;34m]\u001b[0m\u001b[0;34m\u001b[0m\u001b[0;34m\u001b[0m\u001b[0m\n\u001b[0m\u001b[1;32m     10\u001b[0m     \u001b[0;31m#env.robot.reset(env, data['qpos'][i], data['qvel'][i])\u001b[0m\u001b[0;34m\u001b[0m\u001b[0;34m\u001b[0m\u001b[0;34m\u001b[0m\u001b[0m\n\u001b[1;32m     11\u001b[0m     \u001b[0menv\u001b[0m\u001b[0;34m.\u001b[0m\u001b[0mstep\u001b[0m\u001b[0;34m(\u001b[0m\u001b[0mdes_pos\u001b[0m\u001b[0;34m)\u001b[0m \u001b[0;31m# the key change\u001b[0m\u001b[0;34m\u001b[0m\u001b[0;34m\u001b[0m\u001b[0m\n",
      "\u001b[0;31mIndexError\u001b[0m: index 97 is out of bounds for axis 0 with size 97"
     ]
    }
   ],
   "source": []
  },
  {
   "cell_type": "code",
   "execution_count": 7,
   "metadata": {},
   "outputs": [],
   "source": [
    "# playback demos and get data(physics respected)\n",
    "def gather_training_data(env, data, filename='demo_playback.mp4', render=None):\n",
    "    env = env.env\n",
    "    FPS = 30\n",
    "    render_skip = max(1, round(1. / \\\n",
    "        (FPS * env.sim.model.opt.timestep * env.frame_skip)))\n",
    "    t0 = timer.time()\n",
    "\n",
    "    # initialize\n",
    "    env.reset()\n",
    "    init_qpos = data['qpos'][0].copy()\n",
    "    init_qvel = data['qvel'][0].copy()\n",
    "    act_mid = env.act_mid\n",
    "    act_rng = env.act_amp\n",
    "\n",
    "    # prepare env\n",
    "    env.sim.data.qpos[:] = init_qpos\n",
    "    env.sim.data.qvel[:] = init_qvel\n",
    "    env.sim.forward()\n",
    "    #viewer(env, mode='initialize', render=render)\n",
    "\n",
    "    # step the env and gather data\n",
    "    path_obs = None\n",
    "    for i_frame in range(data['ctrl'].shape[0] - 1):\n",
    "        # Reset every time step\n",
    "        # if i_frame % 1 == 0:\n",
    "        #     qp = data['qpos'][i_frame].copy()\n",
    "        #     qv = data['qvel'][i_frame].copy()\n",
    "        #     env.sim.data.qpos[:] = qp\n",
    "        #     env.sim.data.qvel[:] = qv\n",
    "        #     env.sim.forward()\n",
    "\n",
    "        obs = env._get_obs()\n",
    "\n",
    "        # Construct the action\n",
    "        # ctrl = (data['qpos'][i_frame + 1][:9] - obs[:9]) / (env.skip * env.model.opt.timestep)\n",
    "        ctrl = (data['ctrl'][i_frame] - obs[:9])/(env.skip*env.model.opt.timestep)\n",
    "        act = (ctrl - act_mid) / act_rng\n",
    "        act = np.clip(act, -0.999, 0.999)\n",
    "        next_obs, reward, done, env_info = env.step(act)\n",
    "        if path_obs is None:\n",
    "            path_obs = obs\n",
    "            path_act = act\n",
    "        else:\n",
    "            path_obs = np.vstack((path_obs, obs))\n",
    "            path_act = np.vstack((path_act, act))\n",
    "\n",
    "        # render when needed to maintain FPS\n",
    "        if i_frame % render_skip == 0:\n",
    "            #viewer(env, mode='render', render=render)\n",
    "            print(i_frame, end=', ', flush=True)\n",
    "            env.render()\n",
    "#     # finalize\n",
    "#     if render:\n",
    "#         viewer(env, mode='save', filename=filename, render=render)\n",
    "\n",
    "    t1 = timer.time()\n",
    "    print(\"time taken = %f\" % (t1 - t0))\n",
    "\n",
    "    # note that <init_qpos, init_qvel> are one step away from <path_obs[0], path_act[0]>\n",
    "    return path_obs, path_act, init_qpos, init_qvel"
   ]
  },
  {
   "cell_type": "code",
   "execution_count": 12,
   "metadata": {},
   "outputs": [
    {
     "name": "stdout",
     "output_type": "stream",
     "text": [
      "0, 1, 2, 3, 4, 5, 6, 7, 8, 9, 10, 11, 12, 13, 14, 15, 16, 17, 18, 19, 20, 21, 22, 23, 24, 25, 26, 27, 28, 29, 30, 31, 32, 33, 34, 35, 36, 37, 38, 39, 40, 41, 42, 43, 44, 45, 46, 47, 48, 49, 50, 51, 52, 53, 54, 55, 56, 57, 58, 59, 60, 61, 62, 63, 64, 65, 66, 67, 68, 69, 70, 71, 72, 73, 74, 75, 76, 77, 78, 79, 80, 81, 82, 83, 84, 85, 86, 87, 88, 89, 90, 91, 92, 93, 94, 95, 96, 97, 98, 99, 100, 101, 102, 103, 104, 105, 106, 107, 108, 109, 110, 111, 112, 113, 114, 115, 116, 117, 118, 119, 120, 121, 122, 123, 124, 125, 126, 127, 128, 129, 130, 131, 132, 133, 134, 135, 136, 137, 138, 139, 140, 141, 142, 143, 144, 145, 146, 147, 148, 149, 150, 151, 152, 153, 154, 155, 156, 157, 158, 159, 160, 161, 162, 163, 164, 165, 166, 167, 168, 169, 170, 171, 172, 173, 174, 175, 176, 177, 178, 179, 180, 181, 182, 183, 184, 185, 186, 187, 188, 189, 190, 191, 192, 193, 194, 195, 196, 197, 198, 199, 200, 201, 202, 203, 204, 205, 206, 207, time taken = 8.482381\n"
     ]
    }
   ],
   "source": [
    "\n",
    "\n",
    "import time as timer\n",
    "file = demos[np.random.choice(len(demos))]\n",
    "skip = 40 # this is frame skip\n",
    "data = parse_mjl_logs(file, skip)\n",
    "render = True\n",
    "obs, act,init_qpos, init_qvel = gather_training_data(env, data,\\\n",
    "                filename=data['logName'][:-4]+'_playback.mp4', render=render)"
   ]
  },
  {
   "cell_type": "code",
   "execution_count": 29,
   "metadata": {},
   "outputs": [
    {
     "name": "stdout",
     "output_type": "stream",
     "text": [
      "211\n"
     ]
    }
   ],
   "source": [
    "print(len(obs))\n",
    "env.robot.reset(env, init_qpos, init_qvel)\n",
    "for i in range(0,len(act)):\n",
    "    #rel_vector = data['qpos'][i+1][:9]-data['qpos'][i][:9]\n",
    "    #vel = rel_vector / 0.08\n",
    "    \n",
    "    #env.robot.reset(env, data['qpos'][i], data['qvel'][i])\n",
    "    env.step(act[i]) # the key change\n",
    "    env.render()"
   ]
  },
  {
   "cell_type": "code",
   "execution_count": 5,
   "metadata": {},
   "outputs": [
    {
     "data": {
      "text/plain": [
       "['./kitchen_demos_multitask/postcorl_kettle_topknob_bottomknob_hinge',\n",
       " './kitchen_demos_multitask/friday_microwave_bottomknob_switch_slide',\n",
       " './kitchen_demos_multitask/friday_microwave_kettle_bottomknob_slide',\n",
       " './kitchen_demos_multitask/friday_microwave_kettle_topknob_switch',\n",
       " './kitchen_demos_multitask/postcorl_kettle_bottomknob_switch_hinge',\n",
       " './kitchen_demos_multitask/friday_microwave_kettle_bottomknob_hinge',\n",
       " './kitchen_demos_multitask/friday_microwave_kettle_switch_slide',\n",
       " './kitchen_demos_multitask/postcorl_microwave_topknob_bottomknob_switch',\n",
       " './kitchen_demos_multitask/postcorl_microwave_switch_hinge_slide',\n",
       " './kitchen_demos_multitask/postcorl_microwave_topknob_switch_hinge',\n",
       " './kitchen_demos_multitask/friday_microwave_topknob_bottomknob_hinge',\n",
       " './kitchen_demos_multitask/friday_kettle_bottomknob_switch_slide',\n",
       " './kitchen_demos_multitask/friday_microwave_kettle_topknob_hinge',\n",
       " './kitchen_demos_multitask/friday_microwave_topknob_bottomknob_slide',\n",
       " './kitchen_demos_multitask/postcorl_microwave_bottomknob_switch_slide',\n",
       " './kitchen_demos_multitask/friday_kettle_bottomknob_hinge_slide',\n",
       " './kitchen_demos_multitask/friday_microwave_bottomknob_hinge_slide',\n",
       " './kitchen_demos_multitask/friday_kettle_topknob_switch_slide',\n",
       " './kitchen_demos_multitask/friday_topknob_bottomknob_hinge_slide',\n",
       " './kitchen_demos_multitask/friday_kettle_switch_hinge_slide',\n",
       " './kitchen_demos_multitask/postcorl_kettle_topknob_bottomknob_switch',\n",
       " './kitchen_demos_multitask/friday_microwave_kettle_hinge_slide',\n",
       " './kitchen_demos_multitask/friday_topknob_bottomknob_switch_slide',\n",
       " './kitchen_demos_multitask/postcorl_microwave_kettle_switch_hinge',\n",
       " './kitchen_demos_multitask/friday_kettle_topknob_bottomknob_slide']"
      ]
     },
     "execution_count": 5,
     "metadata": {},
     "output_type": "execute_result"
    }
   ],
   "source": [
    "glob.glob('./kitchen_demos_multitask/*')"
   ]
  },
  {
   "cell_type": "code",
   "execution_count": null,
   "metadata": {},
   "outputs": [
    {
     "name": "stderr",
     "output_type": "stream",
     "text": [
      "ERROR:root:Invalid alias: The name clear can't be aliased because it is another magic command.\n",
      "ERROR:root:Invalid alias: The name more can't be aliased because it is another magic command.\n",
      "ERROR:root:Invalid alias: The name less can't be aliased because it is another magic command.\n",
      "ERROR:root:Invalid alias: The name man can't be aliased because it is another magic command.\n"
     ]
    }
   ],
   "source": [
    "import multiprocessing\n",
    "import subprocess\n",
    "import shlex\n",
    "from multiprocessing.pool import ThreadPool\n",
    "import glob\n",
    "def call_proc(cmd):\n",
    "    \"\"\" This runs in a separate thread. \"\"\"\n",
    "    p = subprocess.Popen(shlex.split(cmd), stdout=subprocess.PIPE, stderr=subprocess.PIPE)\n",
    "    out, err = p.communicate()\n",
    "    return (out, err)\n",
    "\n",
    "pool = ThreadPool(multiprocessing.cpu_count()//2)\n",
    "results = []\n",
    "for path in glob.glob('./kitchen_demos_multitask/*'):\n",
    "    cmd = f'python3 relay-policy-learning/adept_envs/adept_envs/utils/parse_demos.py --env \"kitchen_relax-v1\" -d \"{path}/\" -s \"40\" -v \"playback\" -r \"offscreen\"'\n",
    "    results.append(pool.apply_async(call_proc, (cmd,)))\n",
    "# Close the pool and wait for each running task to complete\n",
    "pool.close()\n",
    "pool.join()\n",
    "for result in results:\n",
    "    out, err = result.get()\n",
    "    print(f\"out: {out.decode()}\")\n",
    "    print(f\"err: {err.decode()}\")"
   ]
  },
  {
   "cell_type": "markdown",
   "metadata": {},
   "source": [
    "# Env Info \n",
    "\n",
    "## Action Space\n",
    "\n",
    "Action space is 9 dimensional, commanded via velocity. In franka robot.py, the function cntrl_velocity_limits bounds the desired velocity step, then returns a next desired positon (prevpos + cntrl_vel*step_size), so really rather than absolute position it is commanding desired pos, using a relative offset commanded via velocity assuming a constant timestep (0.08). This means it'd be easy to adapt to commanding via relative positon, or velocity. \n",
    "\n",
    "## Obs Space\n",
    "\n",
    "60 Dimensional. 9 for self, 21 for obs, 30 for goal. Self is unused in reward computation, only the following indices are \n",
    "\n"
   ]
  },
  {
   "cell_type": "code",
   "execution_count": null,
   "metadata": {},
   "outputs": [],
   "source": [
    "OBS_ELEMENT_INDICES = {\n",
    "    'bottom burner': np.array([11, 12]),\n",
    "    'top burner': np.array([15, 16]),\n",
    "    'light switch': np.array([17, 18]),\n",
    "    'slide cabinet': np.array([19]),\n",
    "    'hinge cabinet': np.array([20, 21]),\n",
    "    'microwave': np.array([22]),\n",
    "    'kettle': np.array([23, 24, 25, 26, 27, 28, 29]),\n",
    "    }"
   ]
  },
  {
   "cell_type": "markdown",
   "metadata": {},
   "source": [
    "We can reset it to any qpos,qvel self.robot.reset(self, reset_pos, reset_vel) (sizes 30, 29). qvel is actually returned as 30 dimensional internally (but never used so its not an issue. This off by one issue comes from the sim not returning the vel of one of the object elements I think, can't find out which one though. Not a big issue, vel isn't part of the obs state so clearly not that key."
   ]
  },
  {
   "cell_type": "code",
   "execution_count": 8,
   "metadata": {},
   "outputs": [],
   "source": [
    "energy_usage = 200000 # TWH\n",
    "coal_energy_per_ton = 0.00000000029 * 0.001 # Coal energy per ton in Terwatt hours\n",
    "carbon_produced = 60 # GT\n",
    "c02_emitted_per_ton = 9.2668921e-11"
   ]
  },
  {
   "cell_type": "code",
   "execution_count": 9,
   "metadata": {},
   "outputs": [
    {
     "data": {
      "text/plain": [
       "6.896551724137932e+17"
      ]
     },
     "execution_count": 9,
     "metadata": {},
     "output_type": "execute_result"
    }
   ],
   "source": [
    "energy_usage/coal_energy_per_ton"
   ]
  },
  {
   "cell_type": "code",
   "execution_count": 10,
   "metadata": {},
   "outputs": [
    {
     "data": {
      "text/plain": [
       "647466263257.7755"
      ]
     },
     "execution_count": 10,
     "metadata": {},
     "output_type": "execute_result"
    }
   ],
   "source": [
    "carbon_produced/c02_emitted_per_ton"
   ]
  },
  {
   "cell_type": "code",
   "execution_count": null,
   "metadata": {},
   "outputs": [],
   "source": []
  }
 ],
 "metadata": {
  "kernelspec": {
   "display_name": "Python 3",
   "language": "python",
   "name": "python3"
  },
  "language_info": {
   "codemirror_mode": {
    "name": "ipython",
    "version": 3
   },
   "file_extension": ".py",
   "mimetype": "text/x-python",
   "name": "python",
   "nbconvert_exporter": "python",
   "pygments_lexer": "ipython3",
   "version": "3.7.3"
  }
 },
 "nbformat": 4,
 "nbformat_minor": 2
}
