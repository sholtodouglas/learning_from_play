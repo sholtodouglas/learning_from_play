{
 "cells": [
  {
   "cell_type": "code",
   "execution_count": 2,
   "metadata": {},
   "outputs": [],
   "source": [
    "import adept_envs\n",
    "import gym\n",
    "import glob\n",
    "import os\n",
    "from parse_mjl import parse_mjl_logs\n",
    "import numpy as np"
   ]
  },
  {
   "cell_type": "code",
   "execution_count": 3,
   "metadata": {},
   "outputs": [
    {
     "name": "stdout",
     "output_type": "stream",
     "text": [
      "Reading configurations for Franka\n",
      "\u001b[40m\u001b[37mInitializing Franka sim\u001b[0m\n",
      "registering the liscence\n"
     ]
    },
    {
     "name": "stderr",
     "output_type": "stream",
     "text": [
      "/home/sholto/anaconda3/lib/python3.7/site-packages/gym/logger.py:30: UserWarning: \u001b[33mWARN: Box bound precision lowered by casting to float32\u001b[0m\n",
      "  warnings.warn(colorize('%s: %s'%('WARN', msg % args), 'yellow'))\n"
     ]
    }
   ],
   "source": [
    "env = gym.make(\"kitchen_relax-v1\")"
   ]
  },
  {
   "cell_type": "code",
   "execution_count": 4,
   "metadata": {},
   "outputs": [],
   "source": [
    "obs = env.reset()\n"
   ]
  },
  {
   "cell_type": "code",
   "execution_count": 5,
   "metadata": {},
   "outputs": [
    {
     "name": "stdout",
     "output_type": "stream",
     "text": [
      "['b_bottomknob_hinge/kitchen_playdata_2019_07_11_18_06_46.mj', 'b_bottomknob_hinge/kitchen_playdata_2019_07_11_18_05_26.mj', 'b_bottomknob_hinge/kitchen_playdata_2019_07_11_18_05_06.mj', 'b_bottomknob_hinge/kitchen_playdata_2019_07_11_18_02_41.mj', 'b_bottomknob_hinge/kitchen_playdata_2019_07_11_18_04_03.mj', 'b_bottomknob_hinge/kitchen_playdata_2019_07_11_18_04_24.mj', 'b_bottomknob_hinge/kitchen_playdata_2019_07_11_18_01_21.mj', 'b_bottomknob_hinge/kitchen_playdata_2019_07_11_18_02_01.mj', 'b_bottomknob_hinge/kitchen_playdata_2019_07_11_18_01_41.mj', 'b_bottomknob_hinge/kitchen_playdata_2019_07_11_18_03_42.mj', 'b_bottomknob_hinge/kitchen_playdata_2019_07_11_18_07_06.mj', 'b_bottomknob_hinge/kitchen_playdata_2019_07_11_18_03_01.mj', 'b_bottomknob_hinge/kitchen_playdata_2019_07_11_18_04_45.mj', 'b_bottomknob_hinge/kitchen_playdata_2019_07_11_18_07_44.mj', 'b_bottomknob_hinge/kitchen_playdata_2019_07_11_18_02_21.mj', 'b_bottomknob_hinge/kitchen_playdata_2019_07_11_18_06_06.mj', 'b_bottomknob_hinge/kitchen_playdata_2019_07_11_18_03_22.mj', 'b_bottomknob_hinge/kitchen_playdata_2019_07_11_18_05_46.mj', 'b_bottomknob_hinge/kitchen_playdata_2019_07_11_18_06_26.mj', 'b_bottomknob_hinge/kitchen_playdata_2019_07_11_18_01_00.mj', 'wave_bottomknob_switch_slide/kitchen_playdata_2019_06_28_12_39_06.mj', 'wave_bottomknob_switch_slide/kitchen_playdata_2019_06_28_12_36_00.mj', 'wave_bottomknob_switch_slide/kitchen_playdata_2019_06_28_12_34_01.mj', 'wave_bottomknob_switch_slide/kitchen_playdata_2019_06_28_12_39_25.mj', 'wave_bottomknob_switch_slide/kitchen_playdata_2019_06_28_12_41_11.mj', 'wave_bottomknob_switch_slide/kitchen_playdata_2019_06_28_12_36_38.mj', 'wave_bottomknob_switch_slide/kitchen_playdata_2019_06_28_12_37_16.mj', 'wave_bottomknob_switch_slide/kitchen_playdata_2019_06_28_12_37_55.mj', 'wave_bottomknob_switch_slide/kitchen_playdata_2019_06_28_12_31_58.mj', 'wave_bottomknob_switch_slide/kitchen_playdata_2019_06_28_12_33_40.mj', 'wave_bottomknob_switch_slide/kitchen_playdata_2019_06_28_12_32_59.mj', 'wave_bottomknob_switch_slide/kitchen_playdata_2019_06_28_12_38_14.mj', 'wave_bottomknob_switch_slide/kitchen_playdata_2019_06_28_12_34_21.mj', 'wave_bottomknob_switch_slide/kitchen_playdata_2019_06_28_12_32_18.mj', 'wave_bottomknob_switch_slide/kitchen_playdata_2019_06_28_12_36_19.mj', 'wave_bottomknob_switch_slide/kitchen_playdata_2019_06_28_12_31_36.mj', 'wave_bottomknob_switch_slide/kitchen_playdata_2019_06_28_12_40_37.mj', 'wave_bottomknob_switch_slide/kitchen_playdata_2019_06_28_12_40_17.mj', 'wave_bottomknob_switch_slide/kitchen_playdata_2019_06_28_12_37_35.mj', 'wave_bottomknob_switch_slide/kitchen_playdata_2019_06_28_12_34_41.mj', 'wave_bottomknob_switch_slide/kitchen_playdata_2019_06_28_12_32_38.mj', 'wave_bottomknob_switch_slide/kitchen_playdata_2019_06_28_12_33_20.mj', 'wave_bottomknob_switch_slide/kitchen_playdata_2019_06_28_12_35_41.mj', 'wave_bottomknob_switch_slide/kitchen_playdata_2019_06_28_12_35_01.mj', 'wave_bottomknob_switch_slide/kitchen_playdata_2019_06_28_12_38_32.mj', 'wave_bottomknob_switch_slide/kitchen_playdata_2019_06_28_12_35_20.mj', 'wave_bottomknob_switch_slide/kitchen_playdata_2019_06_28_12_36_56.mj', 'wave_bottomknob_switch_slide/kitchen_playdata_2019_06_28_12_39_59.mj', 'wave_bottomknob_switch_slide/kitchen_playdata_2019_06_28_12_39_40.mj', 'wave_kettle_bottomknob_slide/kitchen_playdata_2019_06_28_12_02_31.mj', 'wave_kettle_bottomknob_slide/kitchen_playdata_2019_06_28_11_59_28.mj', 'wave_kettle_bottomknob_slide/kitchen_playdata_2019_06_28_12_03_37.mj', 'wave_kettle_bottomknob_slide/kitchen_playdata_2019_06_28_12_01_01.mj', 'wave_kettle_bottomknob_slide/kitchen_playdata_2019_06_28_12_05_26.mj', 'wave_kettle_bottomknob_slide/kitchen_playdata_2019_06_28_11_58_40.mj', 'wave_kettle_bottomknob_slide/kitchen_playdata_2019_06_28_11_58_16.mj', 'wave_kettle_bottomknob_slide/kitchen_playdata_2019_06_28_12_01_23.mj', 'wave_kettle_bottomknob_slide/kitchen_playdata_2019_06_28_12_06_49.mj', 'wave_kettle_bottomknob_slide/kitchen_playdata_2019_06_28_12_08_37.mj', 'wave_kettle_bottomknob_slide/kitchen_playdata_2019_06_28_11_59_52.mj', 'wave_kettle_bottomknob_slide/kitchen_playdata_2019_06_28_12_00_38.mj', 'wave_kettle_bottomknob_slide/kitchen_playdata_2019_06_28_12_07_11.mj', 'wave_kettle_bottomknob_slide/kitchen_playdata_2019_06_28_12_07_54.mj', 'wave_kettle_bottomknob_slide/kitchen_playdata_2019_06_28_12_01_46.mj', 'wave_kettle_bottomknob_slide/kitchen_playdata_2019_06_28_12_04_43.mj', 'wave_kettle_bottomknob_slide/kitchen_playdata_2019_06_28_12_04_22.mj', 'wave_kettle_bottomknob_slide/kitchen_playdata_2019_06_28_12_03_59.mj', 'wave_kettle_bottomknob_slide/kitchen_playdata_2019_06_28_12_08_59.mj', 'wave_kettle_bottomknob_slide/kitchen_playdata_2019_06_28_12_06_28.mj', 'wave_kettle_bottomknob_slide/kitchen_playdata_2019_06_28_12_08_16.mj', 'wave_kettle_bottomknob_slide/kitchen_playdata_2019_06_28_12_05_49.mj', 'wave_kettle_bottomknob_slide/kitchen_playdata_2019_06_28_12_02_08.mj', 'wave_kettle_bottomknob_slide/kitchen_playdata_2019_06_28_12_02_53.mj', 'wave_kettle_bottomknob_slide/kitchen_playdata_2019_06_28_12_00_15.mj', 'wave_kettle_bottomknob_slide/kitchen_playdata_2019_06_28_11_59_04.mj', 'wave_kettle_bottomknob_slide/kitchen_playdata_2019_06_28_12_05_05.mj', 'wave_kettle_bottomknob_slide/kitchen_playdata_2019_06_28_12_03_15.mj', 'wave_kettle_bottomknob_slide/kitchen_playdata_2019_06_28_12_06_09.mj', 'wave_kettle_bottomknob_slide/postcorl_microwave_topknob_switch_hinge/kitchen_playdata_2019_07_11_11_48_15.mj', 'wave_kettle_topknob_switch/kitchen_playdata_2019_06_28_14_33_49.mj', 'wave_kettle_topknob_switch/kitchen_playdata_2019_06_28_14_35_25.mj', 'wave_kettle_topknob_switch/kitchen_playdata_2019_06_28_14_36_21.mj', 'wave_kettle_topknob_switch/kitchen_playdata_2019_06_28_14_40_27.mj', 'wave_kettle_topknob_switch/kitchen_playdata_2019_06_28_14_38_04.mj', 'wave_kettle_topknob_switch/kitchen_playdata_2019_06_28_14_35_06.mj', 'wave_kettle_topknob_switch/kitchen_playdata_2019_06_28_14_34_08.mj', 'wave_kettle_topknob_switch/kitchen_playdata_2019_06_28_14_33_28.mj', 'wave_kettle_topknob_switch/kitchen_playdata_2019_06_28_14_37_45.mj', 'wave_kettle_topknob_switch/kitchen_playdata_2019_06_28_14_38_23.mj', 'wave_kettle_topknob_switch/kitchen_playdata_2019_06_28_14_40_09.mj', 'wave_kettle_topknob_switch/kitchen_playdata_2019_06_28_14_35_45.mj', 'wave_kettle_topknob_switch/kitchen_playdata_2019_06_28_14_34_48.mj', 'wave_kettle_topknob_switch/kitchen_playdata_2019_06_28_14_36_03.mj', 'wave_kettle_topknob_switch/kitchen_playdata_2019_06_28_14_40_45.mj', 'wave_kettle_topknob_switch/kitchen_playdata_2019_06_28_14_39_34.mj', 'wave_kettle_topknob_switch/kitchen_playdata_2019_06_28_14_39_51.mj', 'wave_kettle_topknob_switch/kitchen_playdata_2019_06_28_14_39_16.mj', 'wave_kettle_topknob_switch/kitchen_playdata_2019_06_28_14_38_58.mj', 'wave_kettle_topknob_switch/kitchen_playdata_2019_06_28_14_38_41.mj', 'wave_kettle_topknob_switch/kitchen_playdata_2019_06_28_14_36_40.mj', 'wave_kettle_topknob_switch/kitchen_playdata_2019_06_28_14_34_28.mj', 'bottomknob_switch_hinge/kitchen_playdata_2019_07_11_11_25_12.mj', 'bottomknob_switch_hinge/kitchen_playdata_2019_07_11_11_30_26.mj', 'bottomknob_switch_hinge/kitchen_playdata_2019_07_11_11_23_22.mj', 'bottomknob_switch_hinge/kitchen_playdata_2019_07_11_11_23_44.mj', 'bottomknob_switch_hinge/kitchen_playdata_2019_07_11_11_24_06.mj', 'bottomknob_switch_hinge/kitchen_playdata_2019_07_11_11_27_34.mj', 'bottomknob_switch_hinge/kitchen_playdata_2019_07_11_11_32_32.mj', 'bottomknob_switch_hinge/kitchen_playdata_2019_07_11_11_24_49.mj', 'bottomknob_switch_hinge/kitchen_playdata_2019_07_11_11_25_57.mj', 'bottomknob_switch_hinge/kitchen_playdata_2019_07_11_11_32_10.mj', 'bottomknob_switch_hinge/kitchen_playdata_2019_07_11_11_26_44.mj', 'bottomknob_switch_hinge/kitchen_playdata_2019_07_11_11_27_07.mj', 'bottomknob_switch_hinge/kitchen_playdata_2019_07_11_11_31_12.mj', 'bottomknob_switch_hinge/kitchen_playdata_2019_07_11_11_33_15.mj', 'bottomknob_switch_hinge/kitchen_playdata_2019_07_11_11_24_27.mj', 'bottomknob_switch_hinge/kitchen_playdata_2019_07_11_11_21_47.mj', 'bottomknob_switch_hinge/kitchen_playdata_2019_07_11_11_33_36.mj', 'bottomknob_switch_hinge/kitchen_playdata_2019_07_11_11_30_49.mj', 'bottomknob_switch_hinge/kitchen_playdata_2019_07_11_11_33_57.mj', 'bottomknob_switch_hinge/kitchen_playdata_2019_07_11_11_32_53.mj', 'bottomknob_switch_hinge/kitchen_playdata_2019_07_11_11_25_35.mj', 'bottomknob_switch_hinge/kitchen_playdata_2019_07_11_11_26_20.mj', 'wave_kettle_bottomknob_hinge/kitchen_playdata_2019_06_28_14_47_46.mj', 'wave_kettle_bottomknob_hinge/kitchen_playdata_2019_06_28_14_53_09.mj', 'wave_kettle_bottomknob_hinge/kitchen_playdata_2019_06_28_14_49_24.mj', 'wave_kettle_bottomknob_hinge/kitchen_playdata_2019_06_28_14_52_29.mj', 'wave_kettle_bottomknob_hinge/kitchen_playdata_2019_06_28_14_48_07.mj', 'wave_kettle_bottomknob_hinge/kitchen_playdata_2019_06_28_14_51_11.mj', 'wave_kettle_bottomknob_hinge/kitchen_playdata_2019_06_28_14_53_28.mj', 'wave_kettle_bottomknob_hinge/kitchen_playdata_2019_06_28_14_48_45.mj', 'wave_kettle_bottomknob_hinge/kitchen_playdata_2019_06_28_14_53_48.mj', 'wave_kettle_bottomknob_hinge/kitchen_playdata_2019_06_28_14_50_26.mj', 'wave_kettle_bottomknob_hinge/kitchen_playdata_2019_06_28_14_52_49.mj', 'wave_kettle_bottomknob_hinge/kitchen_playdata_2019_06_28_14_50_06.mj', 'wave_kettle_bottomknob_hinge/kitchen_playdata_2019_06_28_14_49_44.mj', 'wave_kettle_bottomknob_hinge/kitchen_playdata_2019_06_28_14_51_30.mj', 'wave_kettle_bottomknob_hinge/kitchen_playdata_2019_06_28_14_49_04.mj', 'wave_kettle_bottomknob_hinge/kitchen_playdata_2019_06_28_14_55_03.mj', 'wave_kettle_bottomknob_hinge/kitchen_playdata_2019_06_28_14_47_26.mj', 'wave_kettle_bottomknob_hinge/kitchen_playdata_2019_06_28_14_47_05.mj', 'wave_kettle_bottomknob_hinge/kitchen_playdata_2019_06_28_14_48_26.mj', 'wave_kettle_bottomknob_hinge/kitchen_playdata_2019_06_28_14_54_44.mj', 'wave_kettle_switch_slide/kitchen_playdata_2019_06_28_15_49_59.mj', 'wave_kettle_switch_slide/kitchen_playdata_2019_06_28_15_49_06.mj', 'wave_kettle_switch_slide/kitchen_playdata_2019_06_28_15_46_42.mj', 'wave_kettle_switch_slide/kitchen_playdata_2019_06_28_15_46_24.mj', 'wave_kettle_switch_slide/kitchen_playdata_2019_06_28_15_42_39.mj', 'wave_kettle_switch_slide/kitchen_playdata_2019_06_28_15_43_12.mj', 'wave_kettle_switch_slide/kitchen_playdata_2019_06_28_15_43_29.mj', 'wave_kettle_switch_slide/kitchen_playdata_2019_06_28_15_41_28.mj', 'wave_kettle_switch_slide/kitchen_playdata_2019_06_28_15_42_04.mj', 'wave_kettle_switch_slide/kitchen_playdata_2019_06_28_15_50_16.mj', 'wave_kettle_switch_slide/kitchen_playdata_2019_06_28_15_47_53.mj', 'wave_kettle_switch_slide/kitchen_playdata_2019_06_28_15_42_21.mj', 'wave_kettle_switch_slide/kitchen_playdata_2019_06_28_15_48_12.mj', 'wave_kettle_switch_slide/kitchen_playdata_2019_06_28_15_41_46.mj', 'wave_kettle_switch_slide/kitchen_playdata_2019_06_28_15_42_55.mj', 'wave_kettle_switch_slide/kitchen_playdata_2019_06_28_15_49_41.mj', 'wave_kettle_switch_slide/kitchen_playdata_2019_06_28_15_48_48.mj', 'wave_kettle_switch_slide/kitchen_playdata_2019_06_28_15_49_23.mj', 'wave_kettle_switch_slide/kitchen_playdata_2019_06_28_15_48_29.mj', 'wave_topknob_bottomknob_switch/kitchen_playdata_2019_07_11_13_55_40.mj', 'wave_topknob_bottomknob_switch/kitchen_playdata_2019_07_11_13_51_32.mj', 'wave_topknob_bottomknob_switch/kitchen_playdata_2019_07_11_13_50_09.mj', 'wave_topknob_bottomknob_switch/kitchen_playdata_2019_07_11_13_47_43.mj', 'wave_topknob_bottomknob_switch/kitchen_playdata_2019_07_11_13_48_26.mj', 'wave_topknob_bottomknob_switch/kitchen_playdata_2019_07_11_13_50_30.mj', 'wave_topknob_bottomknob_switch/kitchen_playdata_2019_07_11_13_50_50.mj', 'wave_topknob_bottomknob_switch/kitchen_playdata_2019_07_11_13_48_47.mj', 'wave_topknob_bottomknob_switch/kitchen_playdata_2019_07_11_13_53_35.mj', 'wave_topknob_bottomknob_switch/kitchen_playdata_2019_07_11_13_51_52.mj', 'wave_topknob_bottomknob_switch/kitchen_playdata_2019_07_11_13_52_33.mj', 'wave_topknob_bottomknob_switch/kitchen_playdata_2019_07_11_13_49_48.mj', 'wave_topknob_bottomknob_switch/kitchen_playdata_2019_07_11_13_53_57.mj', 'wave_topknob_bottomknob_switch/kitchen_playdata_2019_07_11_13_51_10.mj', 'wave_topknob_bottomknob_switch/kitchen_playdata_2019_07_11_13_54_40.mj', 'wave_topknob_bottomknob_switch/kitchen_playdata_2019_07_11_13_55_00.mj', 'wave_topknob_bottomknob_switch/kitchen_playdata_2019_07_11_13_52_52.mj', 'wave_topknob_bottomknob_switch/kitchen_playdata_2019_07_11_13_56_00.mj', 'wave_topknob_bottomknob_switch/kitchen_playdata_2019_07_11_13_52_12.mj', 'wave_topknob_bottomknob_switch/kitchen_playdata_2019_07_11_13_55_21.mj', 'wave_topknob_bottomknob_switch/kitchen_playdata_2019_07_11_13_54_18.mj', 'wave_topknob_bottomknob_switch/kitchen_playdata_2019_07_11_13_48_05.mj', 'wave_switch_hinge_slide/kitchen_playdata_2019_07_11_11_08_52.mj', 'wave_switch_hinge_slide/kitchen_playdata_2019_07_11_11_16_18.mj', 'wave_switch_hinge_slide/kitchen_playdata_2019_07_11_11_08_07.mj', 'wave_switch_hinge_slide/kitchen_playdata_2019_07_11_11_10_25.mj', 'wave_switch_hinge_slide/kitchen_playdata_2019_07_11_11_11_59.mj', 'wave_switch_hinge_slide/kitchen_playdata_2019_07_11_11_09_38.mj', 'wave_switch_hinge_slide/kitchen_playdata_2019_07_11_11_10_01.mj', 'wave_switch_hinge_slide/kitchen_playdata_2019_07_11_11_12_22.mj', 'wave_switch_hinge_slide/kitchen_playdata_2019_07_11_11_18_11.mj', 'wave_switch_hinge_slide/kitchen_playdata_2019_07_11_11_11_11.mj', 'wave_switch_hinge_slide/kitchen_playdata_2019_07_11_11_08_29.mj', 'wave_switch_hinge_slide/kitchen_playdata_2019_07_11_11_16_41.mj', 'wave_switch_hinge_slide/kitchen_playdata_2019_07_11_11_11_35.mj', 'wave_switch_hinge_slide/kitchen_playdata_2019_07_11_11_17_48.mj', 'wave_switch_hinge_slide/kitchen_playdata_2019_07_11_11_07_28.mj', 'wave_switch_hinge_slide/kitchen_playdata_2019_07_11_11_14_41.mj', 'wave_switch_hinge_slide/kitchen_playdata_2019_07_11_11_10_48.mj', 'wave_switch_hinge_slide/kitchen_playdata_2019_07_11_11_09_15.mj', 'wave_switch_hinge_slide/kitchen_playdata_2019_07_11_11_13_05.mj', 'wave_switch_hinge_slide/kitchen_playdata_2019_07_11_11_14_17.mj', 'wave_switch_hinge_slide/kitchen_playdata_2019_07_11_11_18_34.mj', 'wave_topknob_switch_hinge/kitchen_playdata_2019_07_11_11_48_36.mj', 'wave_topknob_switch_hinge/kitchen_playdata_2019_07_11_11_51_58.mj', 'wave_topknob_switch_hinge/kitchen_playdata_2019_07_11_11_50_53.mj', 'wave_topknob_switch_hinge/kitchen_playdata_2019_07_11_11_48_57.mj', 'wave_topknob_switch_hinge/kitchen_playdata_2019_07_11_11_49_48.mj', 'wave_topknob_switch_hinge/kitchen_playdata_2019_07_11_11_53_15.mj', 'wave_topknob_switch_hinge/kitchen_playdata_2019_07_11_11_51_37.mj', 'wave_topknob_switch_hinge/kitchen_playdata_2019_07_11_11_52_19.mj', 'wave_topknob_switch_hinge/kitchen_playdata_2019_07_11_11_53_56.mj', 'wave_topknob_switch_hinge/kitchen_playdata_2019_07_11_11_56_01.mj', 'wave_topknob_switch_hinge/kitchen_playdata_2019_07_11_11_53_35.mj', 'wave_topknob_switch_hinge/kitchen_playdata_2019_07_11_11_54_18.mj', 'wave_topknob_switch_hinge/kitchen_playdata_2019_07_11_11_55_21.mj', 'wave_topknob_switch_hinge/kitchen_playdata_2019_07_11_11_50_10.mj', 'wave_topknob_switch_hinge/kitchen_playdata_2019_07_11_11_48_15.mj', 'wave_topknob_switch_hinge/kitchen_playdata_2019_07_11_11_52_39.mj', 'wave_topknob_switch_hinge/kitchen_playdata_2019_07_11_11_50_31.mj', 'wave_topknob_switch_hinge/kitchen_playdata_2019_07_11_11_55_42.mj', 'wave_topknob_switch_hinge/kitchen_playdata_2019_07_11_11_49_19.mj', 'wave_topknob_switch_hinge/kitchen_playdata_2019_07_11_11_51_15.mj', 'wave_topknob_switch_hinge/kitchen_playdata_2019_07_11_11_56_22.mj', 'wave_topknob_bottomknob_hinge/kitchen_playdata_2019_06_28_11_39_24.mj', 'wave_topknob_bottomknob_hinge/kitchen_playdata_2019_06_28_11_45_39.mj', 'wave_topknob_bottomknob_hinge/kitchen_playdata_2019_06_28_11_42_23.mj', 'wave_topknob_bottomknob_hinge/kitchen_playdata_2019_06_28_11_50_17.mj', 'wave_topknob_bottomknob_hinge/kitchen_playdata_2019_06_28_11_45_18.mj', 'wave_topknob_bottomknob_hinge/kitchen_playdata_2019_06_28_11_52_02.mj', 'wave_topknob_bottomknob_hinge/kitchen_playdata_2019_06_28_11_44_56.mj', 'wave_topknob_bottomknob_hinge/kitchen_playdata_2019_06_28_11_43_28.mj', 'wave_topknob_bottomknob_hinge/kitchen_playdata_2019_06_28_11_51_19.mj', 'wave_topknob_bottomknob_hinge/kitchen_playdata_2019_06_28_11_42_01.mj', 'wave_topknob_bottomknob_hinge/kitchen_playdata_2019_06_28_11_44_34.mj', 'wave_topknob_bottomknob_hinge/kitchen_playdata_2019_06_28_11_39_48.mj', 'wave_topknob_bottomknob_hinge/kitchen_playdata_2019_06_28_11_50_58.mj', 'wave_topknob_bottomknob_hinge/kitchen_playdata_2019_06_28_11_40_35.mj', 'wave_topknob_bottomknob_hinge/kitchen_playdata_2019_06_28_11_51_41.mj', 'wave_topknob_bottomknob_hinge/kitchen_playdata_2019_06_28_11_50_37.mj', 'wave_topknob_bottomknob_hinge/kitchen_playdata_2019_06_28_11_44_11.mj', 'wave_topknob_bottomknob_hinge/kitchen_playdata_2019_06_28_11_52_44.mj', 'wave_topknob_bottomknob_hinge/kitchen_playdata_2019_06_28_11_43_06.mj', 'wave_topknob_bottomknob_hinge/kitchen_playdata_2019_06_28_11_41_40.mj', 'wave_topknob_bottomknob_hinge/kitchen_playdata_2019_06_28_11_42_44.mj', 'wave_topknob_bottomknob_hinge/kitchen_playdata_2019_06_28_11_49_55.mj', 'wave_topknob_bottomknob_hinge/kitchen_playdata_2019_06_28_11_43_49.mj', 'wave_topknob_bottomknob_hinge/kitchen_playdata_2019_06_28_11_49_10.mj', 'wave_topknob_bottomknob_hinge/kitchen_playdata_2019_06_28_11_41_17.mj', 'wave_topknob_bottomknob_hinge/kitchen_playdata_2019_06_28_11_48_10.mj', 'wave_topknob_bottomknob_hinge/kitchen_playdata_2019_06_28_11_48_49.mj', 'wave_topknob_bottomknob_hinge/kitchen_playdata_2019_06_28_11_49_33.mj', 'wave_topknob_bottomknob_hinge/kitchen_playdata_2019_06_28_11_40_56.mj', 'wave_topknob_bottomknob_hinge/kitchen_playdata_2019_06_28_11_40_11.mj', 'wave_topknob_bottomknob_hinge/kitchen_playdata_2019_06_28_11_52_23.mj', 'bottomknob_switch_slide/kitchen_playdata_2019_06_28_13_21_13.mj', 'bottomknob_switch_slide/kitchen_playdata_2019_06_28_13_26_58.mj', 'bottomknob_switch_slide/kitchen_playdata_2019_06_28_13_22_36.mj', 'bottomknob_switch_slide/kitchen_playdata_2019_06_28_13_21_55.mj', 'bottomknob_switch_slide/kitchen_playdata_2019_06_28_13_22_57.mj', 'bottomknob_switch_slide/kitchen_playdata_2019_06_28_13_23_58.mj', 'bottomknob_switch_slide/kitchen_playdata_2019_06_28_13_28_14.mj', 'bottomknob_switch_slide/kitchen_playdata_2019_06_28_13_23_38.mj', 'bottomknob_switch_slide/kitchen_playdata_2019_06_28_13_29_11.mj', 'bottomknob_switch_slide/kitchen_playdata_2019_06_28_13_27_55.mj', 'bottomknob_switch_slide/kitchen_playdata_2019_06_28_13_24_40.mj', 'bottomknob_switch_slide/kitchen_playdata_2019_06_28_13_26_40.mj', 'bottomknob_switch_slide/kitchen_playdata_2019_06_28_13_23_16.mj', 'bottomknob_switch_slide/kitchen_playdata_2019_06_28_13_20_52.mj', 'bottomknob_switch_slide/kitchen_playdata_2019_06_28_13_21_34.mj', 'bottomknob_switch_slide/kitchen_playdata_2019_06_28_13_20_31.mj', 'bottomknob_switch_slide/kitchen_playdata_2019_06_28_13_28_34.mj', 'bottomknob_switch_slide/kitchen_playdata_2019_06_28_13_24_20.mj', 'bottomknob_switch_slide/kitchen_playdata_2019_06_28_13_26_01.mj', 'bottomknob_switch_slide/kitchen_playdata_2019_06_28_13_27_36.mj', 'bottomknob_switch_slide/kitchen_playdata_2019_06_28_13_25_01.mj', 'bottomknob_switch_slide/kitchen_playdata_2019_06_28_13_22_16.mj', 'bottomknob_switch_slide/kitchen_playdata_2019_06_28_13_26_21.mj', 'bottomknob_switch_slide/kitchen_playdata_2019_06_28_13_25_21.mj', 'bottomknob_switch_slide/kitchen_playdata_2019_06_28_13_25_41.mj', 'bottomknob_switch_slide/kitchen_playdata_2019_06_28_13_28_52.mj', 'bottomknob_switch_slide/kitchen_playdata_2019_06_28_13_27_17.mj', 'wave_kettle_topknob_hinge/kitchen_playdata_2019_06_28_14_59_01.mj', 'wave_kettle_topknob_hinge/kitchen_playdata_2019_06_28_14_58_42.mj', 'wave_kettle_topknob_hinge/kitchen_playdata_2019_06_28_14_57_43.mj', 'wave_kettle_topknob_hinge/kitchen_playdata_2019_06_28_15_08_46.mj', 'wave_kettle_topknob_hinge/kitchen_playdata_2019_06_28_15_05_49.mj', 'wave_kettle_topknob_hinge/kitchen_playdata_2019_06_28_14_58_23.mj', 'wave_kettle_topknob_hinge/kitchen_playdata_2019_06_28_15_06_27.mj', 'wave_kettle_topknob_hinge/kitchen_playdata_2019_06_28_15_08_10.mj', 'wave_kettle_topknob_hinge/kitchen_playdata_2019_06_28_14_57_24.mj', 'wave_kettle_topknob_hinge/kitchen_playdata_2019_06_28_15_07_21.mj', 'wave_kettle_topknob_hinge/kitchen_playdata_2019_06_28_14_58_03.mj', 'wave_kettle_topknob_hinge/kitchen_playdata_2019_06_28_15_08_28.mj', 'wave_kettle_topknob_hinge/kitchen_playdata_2019_06_28_15_07_02.mj', 'wave_kettle_topknob_hinge/kitchen_playdata_2019_06_28_15_06_44.mj', 'wave_kettle_topknob_hinge/kitchen_playdata_2019_06_28_15_05_17.mj', 'wave_kettle_topknob_hinge/kitchen_playdata_2019_06_28_15_06_08.mj', 'wave_kettle_topknob_hinge/kitchen_playdata_2019_06_28_15_09_04.mj', 'wave_kettle_topknob_hinge/kitchen_playdata_2019_06_28_15_09_21.mj', 'wave_kettle_topknob_hinge/kitchen_playdata_2019_06_28_14_57_06.mj', 'wave_kettle_topknob_hinge/kitchen_playdata_2019_06_28_15_07_39.mj', 'wave_topknob_bottomknob_slide/kitchen_playdata_2019_06_28_14_25_31.mj', 'wave_topknob_bottomknob_slide/kitchen_playdata_2019_06_28_14_22_53.mj', 'wave_topknob_bottomknob_slide/kitchen_playdata_2019_06_28_14_27_31.mj', 'wave_topknob_bottomknob_slide/kitchen_playdata_2019_06_28_14_24_25.mj', 'wave_topknob_bottomknob_slide/kitchen_playdata_2019_06_28_14_24_52.mj', 'wave_topknob_bottomknob_slide/kitchen_playdata_2019_06_28_14_28_26.mj', 'wave_topknob_bottomknob_slide/kitchen_playdata_2019_06_28_14_23_31.mj', 'wave_topknob_bottomknob_slide/kitchen_playdata_2019_06_28_14_28_44.mj', 'wave_topknob_bottomknob_slide/kitchen_playdata_2019_06_28_14_23_49.mj', 'wave_topknob_bottomknob_slide/kitchen_playdata_2019_06_28_14_26_08.mj', 'wave_topknob_bottomknob_slide/kitchen_playdata_2019_06_28_14_24_07.mj', 'wave_topknob_bottomknob_slide/kitchen_playdata_2019_06_28_14_25_11.mj', 'wave_topknob_bottomknob_slide/kitchen_playdata_2019_06_28_14_29_38.mj', 'wave_topknob_bottomknob_slide/kitchen_playdata_2019_06_28_14_26_43.mj', 'wave_topknob_bottomknob_slide/kitchen_playdata_2019_06_28_14_29_19.mj', 'wave_topknob_bottomknob_slide/kitchen_playdata_2019_06_28_14_29_01.mj', 'wave_topknob_bottomknob_slide/kitchen_playdata_2019_06_28_14_23_13.mj', 'wave_topknob_bottomknob_slide/kitchen_playdata_2019_06_28_14_25_50.mj', 'wave_topknob_bottomknob_slide/kitchen_playdata_2019_06_28_14_26_26.mj', 'wave_topknob_bottomknob_slide/kitchen_playdata_2019_06_28_14_27_50.mj', 'wave_topknob_bottomknob_slide/kitchen_playdata_2019_06_28_14_28_08.mj', 'wave_bottomknob_switch_slide/kitchen_playdata_2019_07_11_13_43_00(1).mj', 'wave_bottomknob_switch_slide/kitchen_playdata_2019_07_11_13_39_33(1).mj', 'wave_bottomknob_switch_slide/kitchen_playdata_2019_07_11_13_43_00.mj', 'wave_bottomknob_switch_slide/kitchen_playdata_2019_07_11_13_39_12(1).mj', 'wave_bottomknob_switch_slide/kitchen_playdata_2019_07_11_13_41_37(1).mj', 'wave_bottomknob_switch_slide/kitchen_playdata_2019_07_11_13_39_54.mj', 'wave_bottomknob_switch_slide/kitchen_playdata_2019_07_11_13_38_52(1).mj', 'wave_bottomknob_switch_slide/kitchen_playdata_2019_07_11_13_43_21.mj', 'wave_bottomknob_switch_slide/kitchen_playdata_2019_07_11_13_40_36(1).mj', 'wave_bottomknob_switch_slide/kitchen_playdata_2019_07_11_13_40_15(1).mj', 'wave_bottomknob_switch_slide/kitchen_playdata_2019_07_11_13_43_42.mj', 'wave_bottomknob_switch_slide/kitchen_playdata_2019_07_11_13_32_19(1).mj', 'wave_bottomknob_switch_slide/kitchen_playdata_2019_07_11_13_39_12.mj', 'wave_bottomknob_switch_slide/kitchen_playdata_2019_07_11_13_40_15.mj', 'wave_bottomknob_switch_slide/kitchen_playdata_2019_07_11_13_40_56(1).mj', 'wave_bottomknob_switch_slide/kitchen_playdata_2019_07_11_13_32_19.mj', 'wave_bottomknob_switch_slide/kitchen_playdata_2019_07_11_13_44_01(1).mj', 'wave_bottomknob_switch_slide/kitchen_playdata_2019_07_11_13_38_11(1).mj', 'wave_bottomknob_switch_slide/kitchen_playdata_2019_07_11_13_42_00.mj', 'wave_bottomknob_switch_slide/kitchen_playdata_2019_07_11_13_38_31(1).mj', 'wave_bottomknob_switch_slide/kitchen_playdata_2019_07_11_13_38_52.mj', 'wave_bottomknob_switch_slide/kitchen_playdata_2019_07_11_13_40_56.mj', 'wave_bottomknob_switch_slide/kitchen_playdata_2019_07_11_13_41_37.mj', 'wave_bottomknob_switch_slide/kitchen_playdata_2019_07_11_13_39_54(1).mj', 'wave_bottomknob_switch_slide/kitchen_playdata_2019_07_11_13_38_11.mj', 'wave_bottomknob_switch_slide/kitchen_playdata_2019_07_11_13_37_49(1).mj', 'wave_bottomknob_switch_slide/kitchen_playdata_2019_07_11_13_34_20(1).mj', 'wave_bottomknob_switch_slide/kitchen_playdata_2019_07_11_13_42_20(1).mj', 'wave_bottomknob_switch_slide/kitchen_playdata_2019_07_11_13_44_01.mj', 'wave_bottomknob_switch_slide/kitchen_playdata_2019_07_11_13_38_31.mj', 'wave_bottomknob_switch_slide/kitchen_playdata_2019_07_11_13_42_00(1).mj', 'wave_bottomknob_switch_slide/kitchen_playdata_2019_07_11_13_43_21(1).mj', 'wave_bottomknob_switch_slide/kitchen_playdata_2019_07_11_13_42_20.mj', 'wave_bottomknob_switch_slide/kitchen_playdata_2019_07_11_13_41_17(1).mj', 'wave_bottomknob_switch_slide/kitchen_playdata_2019_07_11_13_37_49.mj', 'wave_bottomknob_switch_slide/kitchen_playdata_2019_07_11_13_42_40.mj', 'wave_bottomknob_switch_slide/kitchen_playdata_2019_07_11_13_39_33.mj', 'wave_bottomknob_switch_slide/kitchen_playdata_2019_07_11_13_42_40(1).mj', 'wave_bottomknob_switch_slide/kitchen_playdata_2019_07_11_13_34_20.mj', 'wave_bottomknob_switch_slide/kitchen_playdata_2019_07_11_13_43_42(1).mj', 'wave_bottomknob_switch_slide/kitchen_playdata_2019_07_11_13_41_17.mj', 'wave_bottomknob_switch_slide/kitchen_playdata_2019_07_11_13_40_36.mj', 'bottomknob_hinge_slide/kitchen_playdata_2019_06_28_13_46_47.mj', 'bottomknob_hinge_slide/kitchen_playdata_2019_06_28_13_37_22.mj', 'bottomknob_hinge_slide/kitchen_playdata_2019_06_28_13_38_07.mj', 'bottomknob_hinge_slide/kitchen_playdata_2019_06_28_13_38_51.mj', 'bottomknob_hinge_slide/kitchen_playdata_2019_06_28_13_41_36.mj', 'bottomknob_hinge_slide/kitchen_playdata_2019_06_28_13_44_18.mj', 'bottomknob_hinge_slide/kitchen_playdata_2019_06_28_13_35_25.mj', 'bottomknob_hinge_slide/kitchen_playdata_2019_06_28_13_36_58.mj', 'bottomknob_hinge_slide/kitchen_playdata_2019_06_28_13_37_45.mj', 'bottomknob_hinge_slide/kitchen_playdata_2019_06_28_13_35_48.mj', 'bottomknob_hinge_slide/kitchen_playdata_2019_06_28_13_46_25.mj', 'bottomknob_hinge_slide/kitchen_playdata_2019_06_28_13_44_40.mj', 'bottomknob_hinge_slide/kitchen_playdata_2019_06_28_13_43_32.mj', 'bottomknob_hinge_slide/kitchen_playdata_2019_06_28_13_42_17.mj', 'bottomknob_hinge_slide/kitchen_playdata_2019_06_28_13_46_02.mj', 'bottomknob_hinge_slide/kitchen_playdata_2019_06_28_13_43_11.mj', 'bottomknob_hinge_slide/kitchen_playdata_2019_06_28_13_41_15.mj', 'bottomknob_hinge_slide/kitchen_playdata_2019_06_28_13_45_01.mj', 'bottomknob_hinge_slide/kitchen_playdata_2019_06_28_13_43_55.mj', 'bottomknob_hinge_slide/kitchen_playdata_2019_06_28_13_42_38.mj', 'bottomknob_hinge_slide/kitchen_playdata_2019_06_28_13_45_23.mj', 'bottomknob_hinge_slide/kitchen_playdata_2019_06_28_13_35_02.mj', 'bottomknob_hinge_slide/kitchen_playdata_2019_06_28_13_36_36.mj', 'bottomknob_hinge_slide/kitchen_playdata_2019_06_28_13_38_29.mj', 'bottomknob_hinge_slide/kitchen_playdata_2019_06_28_13_41_57.mj', 'bottomknob_hinge_slide/kitchen_playdata_2019_06_28_13_36_12.mj', 'wave_bottomknob_hinge_slide/kitchen_playdata_2019_06_28_12_23_52.mj', 'wave_bottomknob_hinge_slide/kitchen_playdata_2019_06_28_12_12_48.mj', 'wave_bottomknob_hinge_slide/kitchen_playdata_2019_06_28_12_11_38.mj', 'wave_bottomknob_hinge_slide/kitchen_playdata_2019_06_28_12_12_01.mj', 'wave_bottomknob_hinge_slide/kitchen_playdata_2019_06_28_12_13_11.mj', 'wave_bottomknob_hinge_slide/kitchen_playdata_2019_06_28_12_21_37.mj', 'wave_bottomknob_hinge_slide/kitchen_playdata_2019_06_28_12_17_49.mj', 'wave_bottomknob_hinge_slide/kitchen_playdata_2019_06_28_12_23_05.mj', 'wave_bottomknob_hinge_slide/kitchen_playdata_2019_06_28_12_22_20.mj', 'wave_bottomknob_hinge_slide/kitchen_playdata_2019_06_28_12_14_14.mj', 'wave_bottomknob_hinge_slide/kitchen_playdata_2019_06_28_12_14_35.mj', 'wave_bottomknob_hinge_slide/kitchen_playdata_2019_06_28_12_18_33.mj', 'wave_bottomknob_hinge_slide/kitchen_playdata_2019_06_28_12_19_48.mj', 'wave_bottomknob_hinge_slide/kitchen_playdata_2019_06_28_12_13_53.mj', 'wave_bottomknob_hinge_slide/kitchen_playdata_2019_06_28_12_24_43.mj', 'wave_bottomknob_hinge_slide/kitchen_playdata_2019_06_28_12_12_25.mj', 'wave_bottomknob_hinge_slide/kitchen_playdata_2019_06_28_12_24_13.mj', 'wave_bottomknob_hinge_slide/kitchen_playdata_2019_06_28_12_21_58.mj', 'wave_bottomknob_hinge_slide/kitchen_playdata_2019_06_28_12_18_55.mj', 'wave_bottomknob_hinge_slide/kitchen_playdata_2019_06_28_12_19_27.mj', 'wave_bottomknob_hinge_slide/kitchen_playdata_2019_06_28_12_18_11.mj', 'wave_bottomknob_hinge_slide/kitchen_playdata_2019_06_28_12_20_11.mj', 'wave_bottomknob_hinge_slide/kitchen_playdata_2019_06_28_12_22_43.mj', 'wave_bottomknob_hinge_slide/kitchen_playdata_2019_06_28_12_20_33.mj', 'wave_bottomknob_hinge_slide/kitchen_playdata_2019_06_28_12_20_54.mj', 'wave_bottomknob_hinge_slide/kitchen_playdata_2019_06_28_12_21_17.mj', 'wave_bottomknob_hinge_slide/kitchen_playdata_2019_06_28_12_11_15.mj', 'wave_bottomknob_hinge_slide/kitchen_playdata_2019_06_28_12_13_32.mj', 'b_switch_slide/kitchen_playdata_2019_06_28_15_13_16.mj', 'b_switch_slide/kitchen_playdata_2019_06_28_15_14_23.mj', 'b_switch_slide/kitchen_playdata_2019_06_28_15_15_13.mj', 'b_switch_slide/kitchen_playdata_2019_06_28_15_14_39.mj', 'b_switch_slide/kitchen_playdata_2019_06_28_15_14_55.mj', 'b_switch_slide/kitchen_playdata_2019_06_28_15_13_33.mj', 'b_switch_slide/kitchen_playdata_2019_06_28_15_16_06.mj', 'b_switch_slide/kitchen_playdata_2019_06_28_15_16_44.mj', 'b_switch_slide/kitchen_playdata_2019_06_28_15_14_06.mj', 'b_switch_slide/kitchen_playdata_2019_06_28_15_15_31.mj', 'b_switch_slide/kitchen_playdata_2019_06_28_15_13_49.mj', 'b_switch_slide/kitchen_playdata_2019_06_28_15_12_22.mj', 'b_switch_slide/kitchen_playdata_2019_06_28_15_15_48.mj', 'b_switch_slide/kitchen_playdata_2019_06_28_15_17_53.mj', 'b_switch_slide/kitchen_playdata_2019_06_28_15_17_18.mj', 'b_switch_slide/kitchen_playdata_2019_06_28_15_17_35.mj', 'b_switch_slide/kitchen_playdata_2019_06_28_15_12_59.mj', 'b_switch_slide/kitchen_playdata_2019_06_28_15_12_41.mj', 'b_switch_slide/kitchen_playdata_2019_06_28_15_17_00.mj', 'b_bottomknob_hinge_slide/kitchen_playdata_2019_06_28_10_18_40.mj', 'b_bottomknob_hinge_slide/kitchen_playdata_2019_06_28_10_28_28.mj', 'b_bottomknob_hinge_slide/kitchen_playdata_2019_06_28_10_21_02.mj', 'b_bottomknob_hinge_slide/kitchen_playdata_2019_06_28_10_27_34.mj', 'b_bottomknob_hinge_slide/kitchen_playdata_2019_06_28_10_17_50.mj', 'b_bottomknob_hinge_slide/kitchen_playdata_2019_06_28_10_26_20.mj', 'b_bottomknob_hinge_slide/kitchen_playdata_2019_06_28_10_20_16.mj', 'b_bottomknob_hinge_slide/kitchen_playdata_2019_06_28_10_14_36.mj', 'b_bottomknob_hinge_slide/kitchen_playdata_2019_06_28_10_27_05.mj', 'b_bottomknob_hinge_slide/kitchen_playdata_2019_06_28_10_15_29.mj', 'b_bottomknob_hinge_slide/kitchen_playdata_2019_06_28_10_16_18.mj', 'b_bottomknob_hinge_slide/kitchen_playdata_2019_06_28_10_21_49.mj', 'b_bottomknob_hinge_slide/kitchen_playdata_2019_06_28_10_13_47.mj', 'b_bottomknob_hinge_slide/kitchen_playdata_2019_06_28_10_17_05.mj', 'b_bottomknob_hinge_slide/kitchen_playdata_2019_06_28_10_19_28.mj', 'b_bottomknob_hinge_slide/kitchen_playdata_2019_06_28_10_14_11.mj', 'b_bottomknob_hinge_slide/kitchen_playdata_2019_06_28_10_17_28.mj', 'b_bottomknob_hinge_slide/kitchen_playdata_2019_06_28_10_28_50.mj', 'b_bottomknob_hinge_slide/kitchen_playdata_2019_06_28_10_19_53.mj', 'b_bottomknob_hinge_slide/kitchen_playdata_2019_06_28_10_15_54.mj', 'b_bottomknob_hinge_slide/kitchen_playdata_2019_06_28_10_19_05.mj', 'b_bottomknob_hinge_slide/kitchen_playdata_2019_06_28_10_29_38.mj', 'b_bottomknob_hinge_slide/kitchen_playdata_2019_06_28_10_26_43.mj', 'b_bottomknob_hinge_slide/kitchen_playdata_2019_06_28_10_15_01.mj', 'b_bottomknob_hinge_slide/kitchen_playdata_2019_06_28_10_16_43.mj', 'b_bottomknob_hinge_slide/kitchen_playdata_2019_06_28_10_12_51.mj', 'b_bottomknob_hinge_slide/kitchen_playdata_2019_06_28_10_28_07.mj', 'b_bottomknob_hinge_slide/kitchen_playdata_2019_06_28_10_13_13.mj', 'b_bottomknob_hinge_slide/kitchen_playdata_2019_06_28_10_21_24.mj', 'b_bottomknob_hinge_slide/kitchen_playdata_2019_06_28_10_20_39.mj', 'b_bottomknob_hinge_slide/postcorl_microwave_bottomknob_switch_slide/kitchen_playdata_2019_07_11_13_32_19.mj', 'b_bottomknob_hinge_slide/postcorl_microwave_bottomknob_switch_slide/kitchen_playdata_2019_07_11_13_34_20.mj', 'witch_hinge_slide/kitchen_playdata_2019_06_28_15_29_02.mj', 'witch_hinge_slide/kitchen_playdata_2019_06_28_15_24_31.mj', 'witch_hinge_slide/kitchen_playdata_2019_06_28_15_29_22.mj', 'witch_hinge_slide/kitchen_playdata_2019_06_28_15_30_38.mj', 'witch_hinge_slide/kitchen_playdata_2019_06_28_15_26_42.mj', 'witch_hinge_slide/kitchen_playdata_2019_06_28_15_30_01.mj', 'witch_hinge_slide/kitchen_playdata_2019_06_28_15_30_57.mj', 'witch_hinge_slide/kitchen_playdata_2019_06_28_15_23_31.mj', 'witch_hinge_slide/kitchen_playdata_2019_06_28_15_32_01.mj', 'witch_hinge_slide/kitchen_playdata_2019_06_28_15_25_28.mj', 'witch_hinge_slide/kitchen_playdata_2019_06_28_15_26_23.mj', 'witch_hinge_slide/kitchen_playdata_2019_06_28_15_26_05.mj', 'witch_hinge_slide/kitchen_playdata_2019_06_28_15_24_50.mj', 'witch_hinge_slide/kitchen_playdata_2019_06_28_15_25_46.mj', 'witch_hinge_slide/kitchen_playdata_2019_06_28_15_24_11.mj', 'witch_hinge_slide/kitchen_playdata_2019_06_28_15_30_20.mj', 'witch_hinge_slide/kitchen_playdata_2019_06_28_15_29_42.mj', 'witch_hinge_slide/kitchen_playdata_2019_06_28_15_25_09.mj', 'witch_hinge_slide/kitchen_playdata_2019_06_28_15_31_16.mj', 'witch_hinge_slide/kitchen_playdata_2019_06_28_15_23_52.mj', 'b_bottomknob_switch/kitchen_playdata_2019_07_11_17_46_04.mj', 'b_bottomknob_switch/kitchen_playdata_2019_07_11_17_46_41.mj', 'b_bottomknob_switch/kitchen_playdata_2019_07_11_17_47_38.mj', 'b_bottomknob_switch/kitchen_playdata_2019_07_11_17_44_47.mj', 'b_bottomknob_switch/kitchen_playdata_2019_07_11_17_34_33.mj', 'b_bottomknob_switch/kitchen_playdata_2019_07_11_17_48_36.mj', 'b_bottomknob_switch/kitchen_playdata_2019_07_11_17_32_52.mj', 'b_bottomknob_switch/kitchen_playdata_2019_07_11_17_47_20.mj', 'b_bottomknob_switch/kitchen_playdata_2019_07_11_17_45_07.mj', 'b_bottomknob_switch/kitchen_playdata_2019_07_11_17_33_30.mj', 'b_bottomknob_switch/kitchen_playdata_2019_07_11_17_32_35.mj', 'b_bottomknob_switch/kitchen_playdata_2019_07_11_17_32_16.mj', 'b_bottomknob_switch/kitchen_playdata_2019_07_11_17_33_10.mj', 'b_bottomknob_switch/kitchen_playdata_2019_07_11_17_44_27.mj', 'b_bottomknob_switch/kitchen_playdata_2019_07_11_17_44_07.mj', 'b_bottomknob_switch/kitchen_playdata_2019_07_11_17_47_01.mj', 'b_bottomknob_switch/kitchen_playdata_2019_07_11_17_46_23.mj', 'b_bottomknob_switch/kitchen_playdata_2019_07_11_17_45_46.mj', 'b_bottomknob_switch/kitchen_playdata_2019_07_11_17_45_26.mj', 'b_bottomknob_switch/kitchen_playdata_2019_07_11_17_47_57.mj', 'wave_kettle_hinge_slide/kitchen_playdata_2019_06_28_13_56_32.mj', 'wave_kettle_hinge_slide/kitchen_playdata_2019_06_28_14_00_05.mj', 'wave_kettle_hinge_slide/kitchen_playdata_2019_06_28_13_55_20.mj', 'wave_kettle_hinge_slide/kitchen_playdata_2019_06_28_13_55_45.mj', 'wave_kettle_hinge_slide/kitchen_playdata_2019_06_28_13_59_43.mj', 'wave_kettle_hinge_slide/kitchen_playdata_2019_06_28_13_50_03.mj', 'wave_kettle_hinge_slide/kitchen_playdata_2019_06_28_13_57_40.mj', 'wave_kettle_hinge_slide/kitchen_playdata_2019_06_28_13_51_35.mj', 'wave_kettle_hinge_slide/kitchen_playdata_2019_06_28_13_50_26.mj', 'wave_kettle_hinge_slide/kitchen_playdata_2019_06_28_14_01_13.mj', 'wave_kettle_hinge_slide/kitchen_playdata_2019_06_28_13_58_03.mj', 'wave_kettle_hinge_slide/kitchen_playdata_2019_06_28_13_59_20.mj', 'wave_kettle_hinge_slide/kitchen_playdata_2019_06_28_14_00_51.mj', 'wave_kettle_hinge_slide/kitchen_playdata_2019_06_28_13_56_56.mj', 'wave_kettle_hinge_slide/kitchen_playdata_2019_06_28_13_54_11.mj', 'wave_kettle_hinge_slide/kitchen_playdata_2019_06_28_13_58_26.mj', 'wave_kettle_hinge_slide/kitchen_playdata_2019_06_28_13_50_49.mj', 'wave_kettle_hinge_slide/kitchen_playdata_2019_06_28_13_49_38.mj', 'wave_kettle_hinge_slide/kitchen_playdata_2019_06_28_14_00_27.mj', 'wave_kettle_hinge_slide/kitchen_playdata_2019_06_28_13_54_34.mj', 'wave_kettle_hinge_slide/kitchen_playdata_2019_06_28_13_54_56.mj', 'wave_kettle_hinge_slide/kitchen_playdata_2019_06_28_13_57_19.mj', 'wave_kettle_hinge_slide/kitchen_playdata_2019_06_28_13_56_09.mj', 'wave_kettle_hinge_slide/kitchen_playdata_2019_06_28_13_51_12.mj', 'b_bottomknob_switch_slide/kitchen_playdata_2019_06_28_12_50_06.mj', 'b_bottomknob_switch_slide/kitchen_playdata_2019_06_28_13_14_19.mj', 'b_bottomknob_switch_slide/kitchen_playdata_2019_06_28_12_48_30.mj', 'b_bottomknob_switch_slide/kitchen_playdata_2019_06_28_13_14_40.mj', 'b_bottomknob_switch_slide/kitchen_playdata_2019_06_28_12_50_42.mj', 'b_bottomknob_switch_slide/kitchen_playdata_2019_06_28_13_16_15.mj', 'b_bottomknob_switch_slide/kitchen_playdata_2019_06_28_12_45_58.mj', 'b_bottomknob_switch_slide/kitchen_playdata_2019_06_28_13_15_37.mj', 'b_bottomknob_switch_slide/kitchen_playdata_2019_06_28_12_50_24.mj', 'b_bottomknob_switch_slide/kitchen_playdata_2019_06_28_13_13_15.mj', 'b_bottomknob_switch_slide/kitchen_playdata_2019_06_28_12_49_46.mj', 'b_bottomknob_switch_slide/kitchen_playdata_2019_06_28_12_48_11.mj', 'b_bottomknob_switch_slide/kitchen_playdata_2019_06_28_12_46_54.mj', 'b_bottomknob_switch_slide/kitchen_playdata_2019_06_28_13_12_28.mj', 'b_bottomknob_switch_slide/kitchen_playdata_2019_06_28_12_46_36.mj', 'b_bottomknob_switch_slide/kitchen_playdata_2019_06_28_12_46_17.mj', 'b_bottomknob_switch_slide/kitchen_playdata_2019_06_28_13_16_34.mj', 'b_bottomknob_switch_slide/kitchen_playdata_2019_06_28_12_48_49.mj', 'b_bottomknob_switch_slide/kitchen_playdata_2019_06_28_13_12_49.mj', 'b_bottomknob_switch_slide/kitchen_playdata_2019_06_28_13_15_57.mj', 'b_bottomknob_switch_slide/kitchen_playdata_2019_06_28_12_49_08.mj', 'b_bottomknob_switch_slide/kitchen_playdata_2019_06_28_12_47_53.mj', 'b_bottomknob_switch_slide/kitchen_playdata_2019_06_28_13_14_59.mj', 'b_bottomknob_switch_slide/kitchen_playdata_2019_06_28_12_49_28.mj', 'b_bottomknob_switch_slide/kitchen_playdata_2019_06_28_12_47_14.mj', 'b_bottomknob_switch_slide/kitchen_playdata_2019_06_28_13_15_19.mj', 'b_bottomknob_switch_slide/kitchen_playdata_2019_06_28_12_47_34.mj', 'wave_kettle_switch_hinge/kitchen_playdata_2019_07_11_10_56_22.mj', 'wave_kettle_switch_hinge/kitchen_playdata_2019_07_11_11_02_06.mj', 'wave_kettle_switch_hinge/kitchen_playdata_2019_07_11_11_00_38.mj', 'wave_kettle_switch_hinge/kitchen_playdata_2019_07_11_11_04_39.mj', 'wave_kettle_switch_hinge/kitchen_playdata_2019_07_11_11_02_29.mj', 'wave_kettle_switch_hinge/kitchen_playdata_2019_07_11_11_01_00.mj', 'wave_kettle_switch_hinge/kitchen_playdata_2019_07_11_10_54_52.mj', 'wave_kettle_switch_hinge/kitchen_playdata_2019_07_11_10_58_10.mj', 'wave_kettle_switch_hinge/kitchen_playdata_2019_07_11_10_58_55.mj', 'wave_kettle_switch_hinge/kitchen_playdata_2019_07_11_10_54_09.mj', 'wave_kettle_switch_hinge/kitchen_playdata_2019_07_11_11_00_08.mj', 'wave_kettle_switch_hinge/kitchen_playdata_2019_07_11_10_54_31.mj', 'wave_kettle_switch_hinge/kitchen_playdata_2019_07_11_11_02_51.mj', 'wave_kettle_switch_hinge/kitchen_playdata_2019_07_11_10_56_43.mj', 'wave_kettle_switch_hinge/kitchen_playdata_2019_07_11_11_01_43.mj', 'wave_kettle_switch_hinge/kitchen_playdata_2019_07_11_11_03_53.mj', 'wave_kettle_switch_hinge/kitchen_playdata_2019_07_11_11_04_16.mj', 'wave_kettle_switch_hinge/kitchen_playdata_2019_07_11_10_53_46.mj', 'wave_kettle_switch_hinge/kitchen_playdata_2019_07_11_11_01_21.mj', 'wave_kettle_switch_hinge/kitchen_playdata_2019_07_11_10_57_05.mj', 'b_bottomknob_slide/kitchen_playdata_2019_06_28_14_10_59.mj', 'b_bottomknob_slide/kitchen_playdata_2019_06_28_14_10_20.mj', 'b_bottomknob_slide/kitchen_playdata_2019_06_28_14_14_52.mj', 'b_bottomknob_slide/kitchen_playdata_2019_06_28_14_09_24.mj', 'b_bottomknob_slide/kitchen_playdata_2019_06_28_14_17_04.mj', 'b_bottomknob_slide/kitchen_playdata_2019_06_28_14_10_00.mj', 'b_bottomknob_slide/kitchen_playdata_2019_06_28_14_12_20.mj', 'b_bottomknob_slide/kitchen_playdata_2019_06_28_14_12_40.mj', 'b_bottomknob_slide/kitchen_playdata_2019_06_28_14_15_28.mj', 'b_bottomknob_slide/kitchen_playdata_2019_06_28_14_11_19.mj', 'b_bottomknob_slide/kitchen_playdata_2019_06_28_14_12_00.mj', 'b_bottomknob_slide/kitchen_playdata_2019_06_28_14_17_21.mj', 'b_bottomknob_slide/kitchen_playdata_2019_06_28_14_16_25.mj', 'b_bottomknob_slide/kitchen_playdata_2019_06_28_14_12_59.mj', 'b_bottomknob_slide/kitchen_playdata_2019_06_28_14_15_10.mj', 'b_bottomknob_slide/kitchen_playdata_2019_06_28_14_11_39.mj', 'b_bottomknob_slide/kitchen_playdata_2019_06_28_14_14_15.mj', 'b_bottomknob_slide/kitchen_playdata_2019_06_28_14_13_18.mj', 'b_bottomknob_slide/kitchen_playdata_2019_06_28_14_13_38.mj', 'b_bottomknob_slide/kitchen_playdata_2019_06_28_14_10_39.mj', 'b_bottomknob_slide/kitchen_playdata_2019_06_28_14_16_45.mj', 'b_bottomknob_slide/kitchen_playdata_2019_06_28_14_15_46.mj', 'b_bottomknob_slide/kitchen_playdata_2019_06_28_14_13_56.mj', 'b_bottomknob_slide/kitchen_playdata_2019_06_28_14_14_34.mj', 'b_bottomknob_slide/kitchen_playdata_2019_06_28_14_17_39.mj']\n"
     ]
    }
   ],
   "source": [
    "demo_dir = os.getcwd() + '/' + \"relay-policy-learning/kitchen_demos_multitask/\"\n",
    "\n",
    "demos = glob.glob(demo_dir + \"/**/*.mjl\", recursive=True)\n",
    "print([d.strip(demo_dir) for d in demos])"
   ]
  },
  {
   "cell_type": "code",
   "execution_count": 6,
   "metadata": {},
   "outputs": [
    {
     "data": {
      "text/plain": [
       "{'nq': 30,\n",
       " 'nv': 29,\n",
       " 'nu': 9,\n",
       " 'nmocap': 1,\n",
       " 'nsensordata': 0,\n",
       " 'name': b'franka_mocap_studyTable_buttons',\n",
       " 'time': array([ 2.19400001,  2.21399999,  2.23399997,  2.25399995,  2.27399993,\n",
       "         2.29399991,  2.31399989,  2.33400011,  2.35400009,  2.37400007,\n",
       "         2.39400005,  2.41400003,  2.43400002,  2.454     ,  2.47399998,\n",
       "         2.49399996,  2.51399994,  2.53399992,  2.5539999 ,  2.57399988,\n",
       "         2.5940001 ,  2.61400008,  2.63400006,  2.65400004,  2.67400002,\n",
       "         2.69400001,  2.71399999,  2.73399997,  2.75399995,  2.77399993,\n",
       "         2.79399991,  2.81399989,  2.83400011,  2.85400009,  2.87400007,\n",
       "         2.89400005,  2.91400003,  2.93400002,  2.954     ,  2.97399998,\n",
       "         2.99399996,  3.01399994,  3.03399992,  3.0539999 ,  3.07399988,\n",
       "         3.0940001 ,  3.11400008,  3.13400006,  3.15400004,  3.17400002,\n",
       "         3.19400001,  3.21399999,  3.23399997,  3.25399995,  3.27399993,\n",
       "         3.29399991,  3.31399989,  3.33400011,  3.35400009,  3.37400007,\n",
       "         3.39400005,  3.41400003,  3.43400002,  3.454     ,  3.47399998,\n",
       "         3.49399996,  3.51399994,  3.53399992,  3.5539999 ,  3.57399988,\n",
       "         3.5940001 ,  3.61400008,  3.63400006,  3.65400004,  3.67400002,\n",
       "         3.69400001,  3.71399999,  3.73399997,  3.75399995,  3.77399993,\n",
       "         3.79399991,  3.81399989,  3.83400011,  3.85400009,  3.87400007,\n",
       "         3.89400005,  3.91400003,  3.93400002,  3.954     ,  3.97399998,\n",
       "         3.99399996,  4.01399994,  4.03399992,  4.0539999 ,  4.07399988,\n",
       "         4.09399986,  4.11399984,  4.13399982,  4.15399981,  4.17399979,\n",
       "         4.19399977,  4.21400023,  4.23400021,  4.25400019,  4.27400017,\n",
       "         4.29400015,  4.31400013,  4.33400011,  4.35400009,  4.37400007,\n",
       "         4.39400005,  4.41400003,  4.43400002,  4.454     ,  4.47399998,\n",
       "         4.49399996,  4.51399994,  4.53399992,  4.5539999 ,  4.57399988,\n",
       "         4.59399986,  4.61399984,  4.63399982,  4.65399981,  4.67399979,\n",
       "         4.69399977,  4.71400023,  4.73400021,  4.75400019,  4.77400017,\n",
       "         4.79400015,  4.81400013,  4.83400011,  4.85400009,  4.87400007,\n",
       "         4.89400005,  4.91400003,  4.93400002,  4.954     ,  4.97399998,\n",
       "         4.99399996,  5.01399994,  5.03399992,  5.0539999 ,  5.07399988,\n",
       "         5.09399986,  5.11399984,  5.13399982,  5.15399981,  5.17399979,\n",
       "         5.19399977,  5.21400023,  5.23400021,  5.25400019,  5.27400017,\n",
       "         5.29400015,  5.31400013,  5.33400011,  5.35400009,  5.37400007,\n",
       "         5.39400005,  5.41400003,  5.43400002,  5.454     ,  5.47399998,\n",
       "         5.49399996,  5.51399994,  5.53399992,  5.5539999 ,  5.57399988,\n",
       "         5.59399986,  5.61399984,  5.63399982,  5.65399981,  5.67399979,\n",
       "         5.69399977,  5.71400023,  5.73400021,  5.75400019,  5.77400017,\n",
       "         5.79400015,  5.81400013,  5.83400011,  5.85400009,  5.87400007,\n",
       "         5.89400005,  5.91400003,  5.93400002,  5.954     ,  5.97399998,\n",
       "         5.99399996,  6.01399994,  6.03399992,  6.0539999 ,  6.07399988,\n",
       "         6.09399986,  6.11399984,  6.13399982,  6.15399981,  6.17399979,\n",
       "         6.19399977,  6.21400023,  6.23400021,  6.25400019,  6.27400017,\n",
       "         6.29400015,  6.31400013,  6.33400011,  6.35400009,  6.37400007,\n",
       "         6.39400005,  6.41400003,  6.43400002,  6.454     ,  6.47399998,\n",
       "         6.49399996,  6.51399994,  6.53399992,  6.5539999 ,  6.57399988,\n",
       "         6.59399986,  6.61399984,  6.63399982,  6.65399981,  6.67399979,\n",
       "         6.69399977,  6.71400023,  6.73400021,  6.75400019,  6.77400017,\n",
       "         6.79400015,  6.81400013,  6.83400011,  6.85400009,  6.87400007,\n",
       "         6.89400005,  6.91400003,  6.93400002,  6.954     ,  6.97399998,\n",
       "         6.99399996,  7.01399994,  7.03399992,  7.0539999 ,  7.07399988,\n",
       "         7.09399986,  7.11399984,  7.13399982,  7.15399981,  7.17399979,\n",
       "         7.19399977,  7.21400023,  7.23400021,  7.25400019,  7.27400017,\n",
       "         7.29400015,  7.31400013,  7.33400011,  7.35400009,  7.37400007,\n",
       "         7.39400005,  7.41400003,  7.43400002,  7.454     ,  7.47399998,\n",
       "         7.49399996,  7.51399994,  7.53399992,  7.5539999 ,  7.57399988,\n",
       "         7.59399986,  7.61399984,  7.63399982,  7.65399981,  7.67399979,\n",
       "         7.69399977,  7.71400023,  7.73400021,  7.75400019,  7.77400017,\n",
       "         7.79400015,  7.81400013,  7.83400011,  7.85400009,  7.87400007,\n",
       "         7.89400005,  7.91400003,  7.93400002,  7.954     ,  7.97399998,\n",
       "         7.99399996,  8.01399994,  8.0340004 ,  8.0539999 ,  8.07400036,\n",
       "         8.09399986,  8.11400032,  8.13399982,  8.15400028,  8.17399979,\n",
       "         8.19400024,  8.21399975,  8.23400021,  8.25399971,  8.27400017,\n",
       "         8.29399967,  8.31400013,  8.33399963,  8.35400009,  8.3739996 ,\n",
       "         8.39400005,  8.41399956,  8.43400002,  8.45400047,  8.47399998,\n",
       "         8.49400043,  8.51399994,  8.5340004 ,  8.5539999 ,  8.57400036,\n",
       "         8.59399986,  8.61400032,  8.63399982,  8.65400028,  8.67399979,\n",
       "         8.69400024,  8.71399975,  8.73400021,  8.75399971,  8.77400017,\n",
       "         8.79399967,  8.81400013,  8.83399963,  8.85400009,  8.8739996 ,\n",
       "         8.89400005,  8.91399956,  8.93400002,  8.95400047,  8.97399998,\n",
       "         8.99400043,  9.01399994,  9.0340004 ,  9.0539999 ,  9.07400036,\n",
       "         9.09399986,  9.11400032,  9.13399982,  9.15400028,  9.17399979,\n",
       "         9.19400024,  9.21399975,  9.23400021,  9.25399971,  9.27400017,\n",
       "         9.29399967,  9.31400013,  9.33399963,  9.35400009,  9.3739996 ,\n",
       "         9.39400005,  9.41399956,  9.43400002,  9.45400047,  9.47399998,\n",
       "         9.49400043,  9.51399994,  9.5340004 ,  9.5539999 ,  9.57400036,\n",
       "         9.59399986,  9.61400032,  9.63399982,  9.65400028,  9.67399979,\n",
       "         9.69400024,  9.71399975,  9.73400021,  9.75399971,  9.77400017,\n",
       "         9.79399967,  9.81400013,  9.83399963,  9.85400009,  9.8739996 ,\n",
       "         9.89400005,  9.91399956,  9.93400002,  9.95400047,  9.97399998,\n",
       "         9.99400043, 10.01399994, 10.0340004 , 10.0539999 , 10.07400036,\n",
       "        10.09399986, 10.11400032, 10.13399982, 10.15400028, 10.17399979,\n",
       "        10.19400024, 10.21399975, 10.23400021, 10.25399971, 10.27400017,\n",
       "        10.29399967, 10.31400013, 10.33399963, 10.35400009, 10.3739996 ,\n",
       "        10.39400005, 10.41399956, 10.43400002, 10.45400047, 10.47399998,\n",
       "        10.49400043, 10.51399994, 10.5340004 , 10.5539999 , 10.57400036,\n",
       "        10.59399986, 10.61400032, 10.63399982, 10.65400028, 10.67399979,\n",
       "        10.69400024, 10.71399975, 10.73400021, 10.75399971, 10.77400017,\n",
       "        10.79399967, 10.81400013, 10.83399963, 10.85400009, 10.8739996 ,\n",
       "        10.89400005, 10.91399956, 10.93400002, 10.95400047, 10.97399998,\n",
       "        10.99400043, 11.01399994, 11.0340004 , 11.0539999 , 11.07400036,\n",
       "        11.09399986, 11.11400032, 11.13399982, 11.15400028, 11.17399979,\n",
       "        11.19400024, 11.21399975, 11.23400021, 11.25399971, 11.27400017,\n",
       "        11.29399967, 11.31400013, 11.33399963, 11.35400009, 11.3739996 ,\n",
       "        11.39400005, 11.41399956, 11.43400002, 11.45400047, 11.47399998,\n",
       "        11.49400043, 11.51399994, 11.5340004 , 11.5539999 , 11.57400036,\n",
       "        11.59399986, 11.61400032, 11.63399982, 11.65400028, 11.67399979,\n",
       "        11.69400024, 11.71399975, 11.73400021, 11.75399971, 11.77400017,\n",
       "        11.79399967, 11.81400013, 11.83399963, 11.85400009, 11.8739996 ,\n",
       "        11.89400005, 11.91399956, 11.93400002, 11.95400047, 11.97399998,\n",
       "        11.99400043, 12.01399994, 12.0340004 , 12.0539999 , 12.07400036,\n",
       "        12.09399986, 12.11400032, 12.13399982, 12.15400028, 12.17399979,\n",
       "        12.19400024, 12.21399975, 12.23400021, 12.25399971, 12.27400017,\n",
       "        12.29399967, 12.31400013, 12.33399963, 12.35400009, 12.3739996 ,\n",
       "        12.39400005, 12.41399956, 12.43400002, 12.45400047, 12.47399998,\n",
       "        12.49400043, 12.51399994, 12.5340004 , 12.5539999 , 12.57400036,\n",
       "        12.59399986, 12.61400032, 12.63399982, 12.65400028, 12.67399979,\n",
       "        12.69400024, 12.71399975, 12.73400021, 12.75399971, 12.77400017,\n",
       "        12.79399967, 12.81400013, 12.83399963, 12.85400009, 12.8739996 ,\n",
       "        12.89400005, 12.91399956, 12.93400002, 12.95400047, 12.97399998,\n",
       "        12.99400043, 13.01399994, 13.0340004 , 13.0539999 , 13.07400036,\n",
       "        13.09399986, 13.11400032, 13.13399982, 13.15400028, 13.17399979,\n",
       "        13.19400024, 13.21399975, 13.23400021, 13.25399971, 13.27400017,\n",
       "        13.29399967, 13.31400013, 13.33399963, 13.35400009, 13.3739996 ,\n",
       "        13.39400005, 13.41399956, 13.43400002, 13.45400047, 13.47399998,\n",
       "        13.49400043, 13.51399994, 13.5340004 , 13.5539999 , 13.57400036,\n",
       "        13.59399986, 13.61400032, 13.63399982, 13.65400028, 13.67399979,\n",
       "        13.69400024, 13.71399975, 13.73400021, 13.75399971, 13.77400017,\n",
       "        13.79399967, 13.81400013, 13.83399963, 13.85400009, 13.8739996 ,\n",
       "        13.89400005, 13.91399956, 13.93400002, 13.95400047, 13.97399998,\n",
       "        13.99400043, 14.01399994, 14.0340004 , 14.0539999 , 14.07400036,\n",
       "        14.09399986, 14.11400032, 14.13399982, 14.15400028, 14.17399979,\n",
       "        14.19400024, 14.21399975, 14.23400021, 14.25399971, 14.27400017,\n",
       "        14.29399967, 14.31400013, 14.33399963, 14.35400009, 14.3739996 ,\n",
       "        14.39400005, 14.41399956, 14.43400002, 14.45400047, 14.47399998,\n",
       "        14.49400043, 14.51399994, 14.5340004 , 14.5539999 , 14.57400036,\n",
       "        14.59399986, 14.61400032, 14.63399982, 14.65400028, 14.67399979,\n",
       "        14.69400024, 14.71399975, 14.73400021, 14.75399971, 14.77400017,\n",
       "        14.79399967, 14.81400013, 14.83399963, 14.85400009, 14.8739996 ,\n",
       "        14.89400005, 14.91399956, 14.93400002, 14.95400047, 14.97399998,\n",
       "        14.99400043, 15.01399994, 15.0340004 , 15.0539999 , 15.07400036,\n",
       "        15.09399986, 15.11400032, 15.13399982, 15.15400028, 15.17399979,\n",
       "        15.19400024, 15.21399975, 15.23400021, 15.25399971, 15.27400017,\n",
       "        15.29399967, 15.31400013, 15.33399963, 15.35400009, 15.3739996 ,\n",
       "        15.39400005, 15.41399956, 15.43400002, 15.45400047, 15.47399998,\n",
       "        15.49400043, 15.51399994, 15.5340004 , 15.5539999 , 15.57400036,\n",
       "        15.59399986, 15.61400032, 15.63399982, 15.65400028, 15.67399979,\n",
       "        15.69400024, 15.71399975, 15.73400021, 15.75399971, 15.77400017,\n",
       "        15.79399967, 15.81400013, 15.83399963, 15.85400009, 15.8739996 ,\n",
       "        15.89400005, 15.91399956, 15.93400002, 15.95400047, 15.97399998,\n",
       "        15.99400043, 16.01399994, 16.0340004 , 16.05400085, 16.0739994 ,\n",
       "        16.09399986, 16.11400032, 16.13400078, 16.15399933, 16.17399979,\n",
       "        16.19400024, 16.2140007 , 16.23399925, 16.25399971, 16.27400017,\n",
       "        16.29400063, 16.31399918, 16.33399963, 16.35400009, 16.37400055,\n",
       "        16.3939991 , 16.41399956, 16.43400002, 16.45400047, 16.47400093,\n",
       "        16.49399948, 16.51399994, 16.5340004 , 16.55400085, 16.5739994 ,\n",
       "        16.59399986, 16.61400032, 16.63400078, 16.65399933, 16.67399979,\n",
       "        16.69400024, 16.7140007 , 16.73399925, 16.75399971, 16.77400017,\n",
       "        16.79400063, 16.81399918, 16.83399963, 16.85400009, 16.87400055,\n",
       "        16.8939991 , 16.91399956, 16.93400002, 16.95400047, 16.97400093,\n",
       "        16.99399948, 17.01399994, 17.0340004 , 17.05400085, 17.0739994 ,\n",
       "        17.09399986, 17.11400032, 17.13400078, 17.15399933, 17.17399979,\n",
       "        17.19400024, 17.2140007 , 17.23399925, 17.25399971, 17.27400017,\n",
       "        17.29400063, 17.31399918, 17.33399963, 17.35400009, 17.37400055,\n",
       "        17.3939991 , 17.41399956, 17.43400002, 17.45400047, 17.47400093,\n",
       "        17.49399948, 17.51399994, 17.5340004 , 17.55400085, 17.5739994 ,\n",
       "        17.59399986, 17.61400032, 17.63400078, 17.65399933, 17.67399979,\n",
       "        17.69400024, 17.7140007 , 17.73399925, 17.75399971, 17.77400017,\n",
       "        17.79400063, 17.81399918, 17.83399963, 17.85400009, 17.87400055,\n",
       "        17.8939991 , 17.91399956, 17.93400002, 17.95400047, 17.97400093,\n",
       "        17.99399948, 18.01399994, 18.0340004 , 18.05400085, 18.0739994 ,\n",
       "        18.09399986, 18.11400032, 18.13400078, 18.15399933, 18.17399979,\n",
       "        18.19400024, 18.2140007 , 18.23399925, 18.25399971, 18.27400017,\n",
       "        18.29400063, 18.31399918, 18.33399963, 18.35400009, 18.37400055,\n",
       "        18.3939991 , 18.41399956, 18.43400002, 18.45400047, 18.47400093,\n",
       "        18.49399948, 18.51399994, 18.5340004 , 18.55400085, 18.5739994 ,\n",
       "        18.59399986, 18.61400032, 18.63400078, 18.65399933, 18.67399979,\n",
       "        18.69400024, 18.7140007 , 18.73399925, 18.75399971, 18.77400017,\n",
       "        18.79400063, 18.81399918, 18.83399963, 18.85400009, 18.87400055,\n",
       "        18.8939991 , 18.91399956, 18.93400002, 18.95400047, 18.97400093,\n",
       "        18.99399948, 19.01399994, 19.0340004 , 19.05400085, 19.0739994 ,\n",
       "        19.09399986, 19.11400032, 19.13400078, 19.15399933, 19.17399979,\n",
       "        19.19400024, 19.2140007 , 19.23399925, 19.25399971, 19.27400017,\n",
       "        19.29400063, 19.31399918, 19.33399963, 19.35400009, 19.37400055,\n",
       "        19.3939991 , 19.41399956, 19.43400002, 19.45400047, 19.47400093,\n",
       "        19.49399948, 19.51399994, 19.5340004 , 19.55400085, 19.5739994 ,\n",
       "        19.59399986, 19.61400032, 19.63400078, 19.65399933, 19.67399979,\n",
       "        19.69400024, 19.7140007 , 19.73399925, 19.75399971, 19.77400017,\n",
       "        19.79400063, 19.81399918, 19.83399963, 19.85400009, 19.87400055,\n",
       "        19.8939991 , 19.91399956, 19.93400002, 19.95400047, 19.97400093,\n",
       "        19.99399948, 20.01399994, 20.0340004 , 20.05400085, 20.0739994 ,\n",
       "        20.09399986, 20.11400032, 20.13400078, 20.15399933, 20.17399979,\n",
       "        20.19400024, 20.2140007 , 20.23399925, 20.25399971, 20.27400017,\n",
       "        20.29400063, 20.31399918, 20.33399963]),\n",
       " 'qpos': array([[ 1.54438004e-01, -1.76353562e+00,  1.85912895e+00, ...,\n",
       "          2.62166804e-19, -1.13061060e-05, -1.07351758e-18],\n",
       "        [ 1.51531547e-01, -1.76356554e+00,  1.85844040e+00, ...,\n",
       "          2.62166804e-19, -1.13061060e-05, -1.07351758e-18],\n",
       "        [ 1.49016142e-01, -1.76357031e+00,  1.85786819e+00, ...,\n",
       "          2.62166804e-19, -1.13061060e-05, -1.07351758e-18],\n",
       "        ...,\n",
       "        [-1.09201157e+00, -1.76372266e+00,  6.07425570e-01, ...,\n",
       "         -7.12005158e-06, -9.56788790e-05, -7.40902051e-02],\n",
       "        [-1.08333075e+00, -1.76360178e+00,  6.03071809e-01, ...,\n",
       "         -3.73821899e-06, -5.02271032e-05, -7.40890056e-02],\n",
       "        [-1.07305980e+00, -1.76383233e+00,  6.00142658e-01, ...,\n",
       "          8.08522509e-06,  1.08705644e-04, -7.40879476e-02]]),\n",
       " 'qvel': array([[-1.54088825e-01, -2.55346322e-03, -3.72177511e-02, ...,\n",
       "         -4.24271425e-17,  6.64174740e-06,  1.13366096e-18],\n",
       "        [-1.36986732e-01, -7.53740955e-04, -3.17880213e-02, ...,\n",
       "         -2.49291077e-17,  6.64174740e-06, -2.76836692e-18],\n",
       "        [-1.16569549e-01,  3.76087519e-05, -2.61511393e-02, ...,\n",
       "          1.41377936e-18,  6.64174740e-06, -6.08279547e-18],\n",
       "        ...,\n",
       "        [ 4.78037685e-01,  8.10775720e-03, -2.38245800e-01, ...,\n",
       "         -6.51714163e-06, -5.28777465e-02,  1.06292959e-04],\n",
       "        [ 3.98986131e-01,  4.04145801e-03, -2.00626835e-01, ...,\n",
       "         -6.95622248e-06, -6.55402541e-02,  1.42493955e-04],\n",
       "        [ 6.28595769e-01, -1.39872497e-02, -1.24414794e-01, ...,\n",
       "          2.37575159e-06,  1.05462819e-02,  4.06140643e-05]]),\n",
       " 'ctrl': array([[ 0.13709341, -1.76689017,  1.82947719, ...,  1.60605145,\n",
       "          0.03995955,  0.03992025],\n",
       "        [ 0.13709341, -1.76689017,  1.82947719, ...,  1.60605145,\n",
       "          0.03995955,  0.03992025],\n",
       "        [ 0.13709341, -1.76689017,  1.82947719, ...,  1.60605145,\n",
       "          0.03995955,  0.03992025],\n",
       "        ...,\n",
       "        [-1.0428555 , -1.76498783,  0.57022142, ..., -0.99942464,\n",
       "          0.03991502,  0.04      ],\n",
       "        [-1.0428555 , -1.76498783,  0.57022142, ..., -0.99942464,\n",
       "          0.03991502,  0.04      ],\n",
       "        [-0.99699897, -1.7650013 ,  0.56871003, ..., -1.00899708,\n",
       "          0.03999975,  0.04      ]]),\n",
       " 'mocap_pos': array([[-0.45031705, -0.07594756,  2.02822304],\n",
       "        [-0.45031705, -0.07594756,  2.02822304],\n",
       "        [-0.45031705, -0.07594756,  2.02822304],\n",
       "        ...,\n",
       "        [-0.14866368,  0.06709233,  2.47184277],\n",
       "        [-0.14866368,  0.06709233,  2.47184277],\n",
       "        [-0.15272208,  0.06184484,  2.46878028]]),\n",
       " 'mocap_quat': array([[ 0.65921009, -0.65204751, -0.24554403, -0.28281474],\n",
       "        [ 0.65921009, -0.65204751, -0.24554403, -0.28281474],\n",
       "        [ 0.65921009, -0.65204751, -0.24554403, -0.28281474],\n",
       "        ...,\n",
       "        [ 0.83761388, -0.42566425, -0.1194642 , -0.32084456],\n",
       "        [ 0.83761388, -0.42566425, -0.1194642 , -0.32084456],\n",
       "        [ 0.83955425, -0.42454252, -0.12462031, -0.31524932]]),\n",
       " 'sensordata': array([], shape=(908, 0), dtype=float64),\n",
       " 'userdata': array([], shape=(908, 0), dtype=float64),\n",
       " 'logName': '/home/sholto/Desktop/AI/learning_from_play/relay-policy-learning/kitchen_demos_multitask/postcorl_kettle_topknob_bottomknob_hinge/kitchen_playdata_2019_07_11_18_05_26.mjl'}"
      ]
     },
     "execution_count": 6,
     "metadata": {},
     "output_type": "execute_result"
    }
   ],
   "source": [
    "file = demos[1]\n",
    "skip = 10\n",
    "data = parse_mjl_logs(file, skip)\n",
    "data"
   ]
  },
  {
   "cell_type": "code",
   "execution_count": 7,
   "metadata": {},
   "outputs": [
    {
     "name": "stdout",
     "output_type": "stream",
     "text": [
      "(908, 9) (908, 30) (908, 29)\n"
     ]
    }
   ],
   "source": [
    "print(data['ctrl'].shape, data['qpos'].shape, data['qvel'].shape)"
   ]
  },
  {
   "cell_type": "code",
   "execution_count": 25,
   "metadata": {},
   "outputs": [],
   "source": [
    "file = demos[np.random.choice(len(demos))]\n",
    "skip = 30 # this is frame skip\n",
    "data = parse_mjl_logs(file, skip)\n",
    "env.reset()\n",
    "for i in range(0,len(data['qpos'])):\n",
    "    env.robot.reset(env, data['qpos'][i], data['qvel'][i])\n",
    "    env.render()"
   ]
  },
  {
   "cell_type": "markdown",
   "metadata": {},
   "source": [
    "# The issue!\n",
    "Now, the problem is that cntrl is at the full time frequency of the env - which is really fine. That means if frame skip is anything but 1 then the ctrl labels are wrong. Ideally we want a more reasonable time freq, which means we need to take the difference between the first 9 elements of q_pos, divide it by the time between and then that gives us our desired vel controls. Even better, tonight I'll modify the env for position control. \n",
    "\n",
    "See, the below fails - "
   ]
  },
  {
   "cell_type": "code",
   "execution_count": 29,
   "metadata": {},
   "outputs": [],
   "source": [
    "file = demos[np.random.choice(len(demos))]\n",
    "skip = 1 # this is frame skip\n",
    "data = parse_mjl_logs(file, skip)\n",
    "env.reset()\n",
    "env.robot.reset(env, data['qpos'][0], data['qvel'][0])\n",
    "for i in range(0,len(data['qpos'])):\n",
    "    \n",
    "    env.step(data['ctrl'][i]) # the key change\n",
    "    env.render()"
   ]
  },
  {
   "cell_type": "markdown",
   "metadata": {},
   "source": [
    "# Env Info \n",
    "\n",
    "## Action Space\n",
    "\n",
    "Action space is 9 dimensional, commanded via velocity. In franka robot.py, the function cntrl_velocity_limits bounds the desired velocity step, then returns a next desired positon (prevpos + cntrl_vel*step_size), so really rather than absolute position it is commanding desired pos, using a relative offset commanded via velocity assuming a constant timestep (0.08). This means it'd be easy to adapt to commanding via relative positon, or velocity. \n",
    "\n",
    "## Obs Space\n",
    "\n",
    "60 Dimensional. 9 for self, 21 for obs, 30 for goal. Self is unused in reward computation, only the following indices are \n",
    "\n"
   ]
  },
  {
   "cell_type": "code",
   "execution_count": null,
   "metadata": {},
   "outputs": [],
   "source": [
    "OBS_ELEMENT_INDICES = {\n",
    "    'bottom burner': np.array([11, 12]),\n",
    "    'top burner': np.array([15, 16]),\n",
    "    'light switch': np.array([17, 18]),\n",
    "    'slide cabinet': np.array([19]),\n",
    "    'hinge cabinet': np.array([20, 21]),\n",
    "    'microwave': np.array([22]),\n",
    "    'kettle': np.array([23, 24, 25, 26, 27, 28, 29]),\n",
    "    }"
   ]
  },
  {
   "cell_type": "markdown",
   "metadata": {},
   "source": [
    "We can reset it to any qpos,qvel self.robot.reset(self, reset_pos, reset_vel) (sizes 30, 29). qvel is actually returned as 30 dimensional internally (but never used so its not an issue. This off by one issue comes from the sim not returning the vel of one of the object elements I think, can't find out which one though. Not a big issue, vel isn't part of the obs state so clearly not that key."
   ]
  },
  {
   "cell_type": "code",
   "execution_count": null,
   "metadata": {},
   "outputs": [],
   "source": []
  }
 ],
 "metadata": {
  "kernelspec": {
   "display_name": "Python 3",
   "language": "python",
   "name": "python3"
  },
  "language_info": {
   "codemirror_mode": {
    "name": "ipython",
    "version": 3
   },
   "file_extension": ".py",
   "mimetype": "text/x-python",
   "name": "python",
   "nbconvert_exporter": "python",
   "pygments_lexer": "ipython3",
   "version": "3.7.3"
  }
 },
 "nbformat": 4,
 "nbformat_minor": 2
}
