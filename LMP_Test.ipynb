{
  "nbformat": 4,
  "nbformat_minor": 0,
  "metadata": {
    "kernelspec": {
      "display_name": "Python 3",
      "language": "python",
      "name": "python3"
    },
    "language_info": {
      "codemirror_mode": {
        "name": "ipython",
        "version": 3
      },
      "file_extension": ".py",
      "mimetype": "text/x-python",
      "name": "python",
      "nbconvert_exporter": "python",
      "pygments_lexer": "ipython3",
      "version": "3.7.3"
    },
    "colab": {
      "name": "LMP Test.ipynb",
      "provenance": [],
      "collapsed_sections": [
        "G84fGXVwv9Fh",
        "-yC0L1P3v9GA",
        "8SHQGBjnv9GK",
        "b7CMny5dv9Gx",
        "njbQpQAGv9G2"
      ],
      "toc_visible": true,
      "machine_shape": "hm",
      "include_colab_link": true
    },
    "accelerator": "TPU",
    "widgets": {
      "application/vnd.jupyter.widget-state+json": {
        "ea64d8580e474eefa66065a4498e8c2f": {
          "model_module": "@jupyter-widgets/controls",
          "model_name": "VBoxModel",
          "state": {
            "_view_name": "VBoxView",
            "_dom_classes": [],
            "_model_name": "VBoxModel",
            "_view_module": "@jupyter-widgets/controls",
            "_model_module_version": "1.5.0",
            "_view_count": null,
            "_view_module_version": "1.5.0",
            "box_style": "",
            "layout": "IPY_MODEL_1e6fcf37b48149219d184d7683ad7d81",
            "_model_module": "@jupyter-widgets/controls",
            "children": [
              "IPY_MODEL_f5cfb1b016d1461181527bbee632fdb3",
              "IPY_MODEL_e6eef2e3803e4bd0b40ee16bf8fffc24"
            ]
          }
        },
        "1e6fcf37b48149219d184d7683ad7d81": {
          "model_module": "@jupyter-widgets/base",
          "model_name": "LayoutModel",
          "state": {
            "_view_name": "LayoutView",
            "grid_template_rows": null,
            "right": null,
            "justify_content": null,
            "_view_module": "@jupyter-widgets/base",
            "overflow": null,
            "_model_module_version": "1.2.0",
            "_view_count": null,
            "flex_flow": null,
            "width": null,
            "min_width": null,
            "border": null,
            "align_items": null,
            "bottom": null,
            "_model_module": "@jupyter-widgets/base",
            "top": null,
            "grid_column": null,
            "overflow_y": null,
            "overflow_x": null,
            "grid_auto_flow": null,
            "grid_area": null,
            "grid_template_columns": null,
            "flex": null,
            "_model_name": "LayoutModel",
            "justify_items": null,
            "grid_row": null,
            "max_height": null,
            "align_content": null,
            "visibility": null,
            "align_self": null,
            "height": null,
            "min_height": null,
            "padding": null,
            "grid_auto_rows": null,
            "grid_gap": null,
            "max_width": null,
            "order": null,
            "_view_module_version": "1.2.0",
            "grid_template_areas": null,
            "object_position": null,
            "object_fit": null,
            "grid_auto_columns": null,
            "margin": null,
            "display": null,
            "left": null
          }
        },
        "f5cfb1b016d1461181527bbee632fdb3": {
          "model_module": "@jupyter-widgets/controls",
          "model_name": "LabelModel",
          "state": {
            "_view_name": "LabelView",
            "style": "IPY_MODEL_1b85963fdfa84cc7940da4fd53af48a0",
            "_dom_classes": [],
            "description": "",
            "_model_name": "LabelModel",
            "placeholder": "​",
            "_view_module": "@jupyter-widgets/controls",
            "_model_module_version": "1.5.0",
            "value": " 0.04MB of 0.04MB uploaded (0.00MB deduped)\r",
            "_view_count": null,
            "_view_module_version": "1.5.0",
            "description_tooltip": null,
            "_model_module": "@jupyter-widgets/controls",
            "layout": "IPY_MODEL_9be36d41ce6e439cb49bae525c9dade7"
          }
        },
        "e6eef2e3803e4bd0b40ee16bf8fffc24": {
          "model_module": "@jupyter-widgets/controls",
          "model_name": "FloatProgressModel",
          "state": {
            "_view_name": "ProgressView",
            "style": "IPY_MODEL_05f6cc13fa1142dbaaefe9d5003b848b",
            "_dom_classes": [],
            "description": "",
            "_model_name": "FloatProgressModel",
            "bar_style": "",
            "max": 1,
            "_view_module": "@jupyter-widgets/controls",
            "_model_module_version": "1.5.0",
            "value": 1,
            "_view_count": null,
            "_view_module_version": "1.5.0",
            "orientation": "horizontal",
            "min": 0,
            "description_tooltip": null,
            "_model_module": "@jupyter-widgets/controls",
            "layout": "IPY_MODEL_c9e1431d23d54fa0b74093787de60a9d"
          }
        },
        "1b85963fdfa84cc7940da4fd53af48a0": {
          "model_module": "@jupyter-widgets/controls",
          "model_name": "DescriptionStyleModel",
          "state": {
            "_view_name": "StyleView",
            "_model_name": "DescriptionStyleModel",
            "description_width": "",
            "_view_module": "@jupyter-widgets/base",
            "_model_module_version": "1.5.0",
            "_view_count": null,
            "_view_module_version": "1.2.0",
            "_model_module": "@jupyter-widgets/controls"
          }
        },
        "9be36d41ce6e439cb49bae525c9dade7": {
          "model_module": "@jupyter-widgets/base",
          "model_name": "LayoutModel",
          "state": {
            "_view_name": "LayoutView",
            "grid_template_rows": null,
            "right": null,
            "justify_content": null,
            "_view_module": "@jupyter-widgets/base",
            "overflow": null,
            "_model_module_version": "1.2.0",
            "_view_count": null,
            "flex_flow": null,
            "width": null,
            "min_width": null,
            "border": null,
            "align_items": null,
            "bottom": null,
            "_model_module": "@jupyter-widgets/base",
            "top": null,
            "grid_column": null,
            "overflow_y": null,
            "overflow_x": null,
            "grid_auto_flow": null,
            "grid_area": null,
            "grid_template_columns": null,
            "flex": null,
            "_model_name": "LayoutModel",
            "justify_items": null,
            "grid_row": null,
            "max_height": null,
            "align_content": null,
            "visibility": null,
            "align_self": null,
            "height": null,
            "min_height": null,
            "padding": null,
            "grid_auto_rows": null,
            "grid_gap": null,
            "max_width": null,
            "order": null,
            "_view_module_version": "1.2.0",
            "grid_template_areas": null,
            "object_position": null,
            "object_fit": null,
            "grid_auto_columns": null,
            "margin": null,
            "display": null,
            "left": null
          }
        },
        "05f6cc13fa1142dbaaefe9d5003b848b": {
          "model_module": "@jupyter-widgets/controls",
          "model_name": "ProgressStyleModel",
          "state": {
            "_view_name": "StyleView",
            "_model_name": "ProgressStyleModel",
            "description_width": "",
            "_view_module": "@jupyter-widgets/base",
            "_model_module_version": "1.5.0",
            "_view_count": null,
            "_view_module_version": "1.2.0",
            "bar_color": null,
            "_model_module": "@jupyter-widgets/controls"
          }
        },
        "c9e1431d23d54fa0b74093787de60a9d": {
          "model_module": "@jupyter-widgets/base",
          "model_name": "LayoutModel",
          "state": {
            "_view_name": "LayoutView",
            "grid_template_rows": null,
            "right": null,
            "justify_content": null,
            "_view_module": "@jupyter-widgets/base",
            "overflow": null,
            "_model_module_version": "1.2.0",
            "_view_count": null,
            "flex_flow": null,
            "width": null,
            "min_width": null,
            "border": null,
            "align_items": null,
            "bottom": null,
            "_model_module": "@jupyter-widgets/base",
            "top": null,
            "grid_column": null,
            "overflow_y": null,
            "overflow_x": null,
            "grid_auto_flow": null,
            "grid_area": null,
            "grid_template_columns": null,
            "flex": null,
            "_model_name": "LayoutModel",
            "justify_items": null,
            "grid_row": null,
            "max_height": null,
            "align_content": null,
            "visibility": null,
            "align_self": null,
            "height": null,
            "min_height": null,
            "padding": null,
            "grid_auto_rows": null,
            "grid_gap": null,
            "max_width": null,
            "order": null,
            "_view_module_version": "1.2.0",
            "grid_template_areas": null,
            "object_position": null,
            "object_fit": null,
            "grid_auto_columns": null,
            "margin": null,
            "display": null,
            "left": null
          }
        }
      }
    }
  },
  "cells": [
    {
      "cell_type": "markdown",
      "metadata": {
        "id": "view-in-github",
        "colab_type": "text"
      },
      "source": [
        "<a href=\"https://colab.research.google.com/github/sholtodouglas/learning_from_play/blob/transformers/LMP_Test.ipynb\" target=\"_parent\"><img src=\"https://colab.research.google.com/assets/colab-badge.svg\" alt=\"Open In Colab\"/></a>"
      ]
    },
    {
      "cell_type": "code",
      "metadata": {
        "id": "Xchjk_eKp26Q",
        "cellView": "both",
        "outputId": "b5a476d3-2a46-4d7e-c134-f3db79d6b723",
        "colab": {
          "base_uri": "https://localhost:8080/",
          "height": 496
        }
      },
      "source": [
        "#@title Install package dependencies (forces restart)\n",
        "import os\n",
        "\n",
        "def restart_runtime():\n",
        "    print('Runtime restarting...')\n",
        "    os.kill(os.getpid(), 9)\n",
        "\n",
        "%pip -q install pybullet wandb\n",
        "!git clone https://github.com/sholtodouglas/pandaRL local_packages/pandaRL\n",
        "%pip install -e local_packages/pandaRL/.\n",
        "\n",
        "restart_runtime()"
      ],
      "execution_count": null,
      "outputs": [
        {
          "output_type": "stream",
          "text": [
            "\u001b[K     |████████████████████████████████| 102.2MB 40kB/s \n",
            "\u001b[K     |████████████████████████████████| 1.7MB 60.6MB/s \n",
            "\u001b[K     |████████████████████████████████| 163kB 62.7MB/s \n",
            "\u001b[K     |████████████████████████████████| 102kB 13.8MB/s \n",
            "\u001b[K     |████████████████████████████████| 102kB 12.3MB/s \n",
            "\u001b[K     |████████████████████████████████| 122kB 59.9MB/s \n",
            "\u001b[K     |████████████████████████████████| 71kB 9.6MB/s \n",
            "\u001b[?25h  Building wheel for subprocess32 (setup.py) ... \u001b[?25l\u001b[?25hdone\n",
            "  Building wheel for watchdog (setup.py) ... \u001b[?25l\u001b[?25hdone\n",
            "  Building wheel for pathtools (setup.py) ... \u001b[?25l\u001b[?25hdone\n",
            "Cloning into 'local_packages/pandaRL'...\n",
            "remote: Enumerating objects: 477, done.\u001b[K\n",
            "remote: Counting objects: 100% (477/477), done.\u001b[K\n",
            "remote: Compressing objects: 100% (342/342), done.\u001b[K\n",
            "remote: Total 477 (delta 192), reused 402 (delta 121), pack-reused 0\u001b[K\n",
            "Receiving objects: 100% (477/477), 20.97 MiB | 22.41 MiB/s, done.\n",
            "Resolving deltas: 100% (192/192), done.\n",
            "Obtaining file:///content/local_packages/pandaRL\n",
            "Requirement already satisfied: gym in /usr/local/lib/python3.6/dist-packages (from pandaRL==0.0.1) (0.17.2)\n",
            "Requirement already satisfied: pyglet<=1.5.0,>=1.4.0 in /usr/local/lib/python3.6/dist-packages (from gym->pandaRL==0.0.1) (1.5.0)\n",
            "Requirement already satisfied: scipy in /usr/local/lib/python3.6/dist-packages (from gym->pandaRL==0.0.1) (1.4.1)\n",
            "Requirement already satisfied: numpy>=1.10.4 in /usr/local/lib/python3.6/dist-packages (from gym->pandaRL==0.0.1) (1.18.5)\n",
            "Requirement already satisfied: cloudpickle<1.4.0,>=1.2.0 in /usr/local/lib/python3.6/dist-packages (from gym->pandaRL==0.0.1) (1.3.0)\n",
            "Requirement already satisfied: future in /usr/local/lib/python3.6/dist-packages (from pyglet<=1.5.0,>=1.4.0->gym->pandaRL==0.0.1) (0.16.0)\n",
            "Installing collected packages: pandaRL\n",
            "  Running setup.py develop for pandaRL\n",
            "Successfully installed pandaRL\n"
          ],
          "name": "stdout"
        }
      ]
    },
    {
      "cell_type": "code",
      "metadata": {
        "id": "zMJ___6ARZ4u",
        "cellView": "both",
        "outputId": "af34a1a3-d289-4794-f67b-1a8ec1e3ee20",
        "colab": {
          "base_uri": "https://localhost:8080/",
          "height": 34
        }
      },
      "source": [
        "#@title Workpace Setup (Local vs Colab)\n",
        "from google.colab import drive, auth\n",
        "from os.path import join\n",
        "import os\n",
        "\n",
        "COLAB = True #@param {type:\"boolean\"}\n",
        "AUTH_GCS = False #@param {type:\"boolean\"}\n",
        "DEVICE = \"TPU\" #@param [\"TPU\", \"GPU\"]\n",
        "DATA_SOURCE = \"Google Drive\" #@param [\"Google Drive\", \"GCS\"]\n",
        "DATASET = \"new_ori_one_obj\" #@param [\"new_ori_one_obj\", \"one_obj_play\"]\n",
        "GCS_USER = \"tristan\" #@param [\"sholto\", \"tristan\"]\n",
        "if COLAB:\n",
        "    if AUTH_GCS:\n",
        "        auth.authenticate_user()\n",
        "        if GCS_USER == 'tristan':\n",
        "          GCS_PROJECT = \"learning-from-play\"\n",
        "          GCS_BUCKET = \"colab-gcs\"\n",
        "        else:\n",
        "          GCS_PROJECT = \"learning-from-play-288601\"\n",
        "          GCS_BUCKET = \"colab-gcs1\"\n",
        "\n",
        "        !gcloud config set project {GCS_PROJECT}\n",
        "    if DATA_SOURCE == \"GCS\":\n",
        "        ROOT = 'gs://colab-gcs'\n",
        "        PROJ = 'data/one_obj_play'\n",
        "        PROJECT_PATH = '/content/data'\n",
        "        !mkdir /content/data\n",
        "        !gsutil -m cp -r {ROOT}/{PROJ} {PROJECT_PATH}\n",
        "    else:\n",
        "        ROOT = '/content/drive'     # default for the drive\n",
        "        PROJ = 'My Drive/Robotic Learning'       # path to your project on Drive\n",
        "        PROJECT_PATH = os.path.join(ROOT, PROJ)\n",
        "        drive.mount(ROOT)           # we mount the drive at /content/drive\n",
        "    PYBULLET_DATA_DIR = os.path.join(PROJECT_PATH, DATASET)\n",
        "\n",
        "    # Sync drive to VM directory\n",
        "    # !rsync -aP --exclude=data/ \"{PROJECT_PATH}/\"  '/content/learning_from_play'\n",
        "    # %cd '/content/learning_from_play'\n",
        "else:\n",
        "    # Todo:\n",
        "    pass"
      ],
      "execution_count": 1,
      "outputs": [
        {
          "output_type": "stream",
          "text": [
            "Drive already mounted at /content/drive; to attempt to forcibly remount, call drive.mount(\"/content/drive\", force_remount=True).\n"
          ],
          "name": "stdout"
        }
      ]
    },
    {
      "cell_type": "code",
      "metadata": {
        "id": "QuKhbw3htoek",
        "outputId": "9ad1af50-611f-44e1-d764-f39ac0af36df",
        "colab": {
          "base_uri": "https://localhost:8080/",
          "height": 141
        }
      },
      "source": [
        "!git clone https://github.com/sholtodouglas/learning_from_play"
      ],
      "execution_count": 2,
      "outputs": [
        {
          "output_type": "stream",
          "text": [
            "Cloning into 'learning_from_play'...\n",
            "remote: Enumerating objects: 141, done.\u001b[K\n",
            "remote: Counting objects: 100% (141/141), done.\u001b[K\n",
            "remote: Compressing objects: 100% (118/118), done.\u001b[K\n",
            "remote: Total 783 (delta 83), reused 49 (delta 23), pack-reused 642\u001b[K\n",
            "Receiving objects: 100% (783/783), 35.29 MiB | 12.59 MiB/s, done.\n",
            "Resolving deltas: 100% (328/328), done.\n"
          ],
          "name": "stdout"
        }
      ]
    },
    {
      "cell_type": "code",
      "metadata": {
        "id": "xbGDct1BF-Nn",
        "outputId": "a136314b-ba64-4619-f343-3ee0d52e2c56",
        "colab": {
          "base_uri": "https://localhost:8080/",
          "height": 34
        }
      },
      "source": [
        "%cd '/content/learning_from_play'"
      ],
      "execution_count": 2,
      "outputs": [
        {
          "output_type": "stream",
          "text": [
            "/content/learning_from_play\n"
          ],
          "name": "stdout"
        }
      ]
    },
    {
      "cell_type": "code",
      "metadata": {
        "id": "k7NnR2jUZcR2",
        "outputId": "0ea012dd-d76b-4c9f-bdc3-a28199962a1a",
        "colab": {
          "base_uri": "https://localhost:8080/",
          "height": 87
        }
      },
      "source": [
        "!git status"
      ],
      "execution_count": null,
      "outputs": [
        {
          "output_type": "stream",
          "text": [
            "On branch master\n",
            "Your branch is up to date with 'origin/master'.\n",
            "\n",
            "nothing to commit, working tree clean\n"
          ],
          "name": "stdout"
        }
      ]
    },
    {
      "cell_type": "code",
      "metadata": {
        "id": "SRM0MadYZf_E"
      },
      "source": [
        "!git add ."
      ],
      "execution_count": null,
      "outputs": []
    },
    {
      "cell_type": "code",
      "metadata": {
        "id": "rneqVhhGa3jk",
        "outputId": "bb9ba706-8577-40df-e512-cf6c00cdb42c",
        "colab": {
          "base_uri": "https://localhost:8080/",
          "height": 318
        }
      },
      "source": [
        "!git pull"
      ],
      "execution_count": null,
      "outputs": [
        {
          "output_type": "stream",
          "text": [
            "remote: Enumerating objects: 29, done.\u001b[K\n",
            "remote: Counting objects:   3% (1/29)\u001b[K\rremote: Counting objects:   6% (2/29)\u001b[K\rremote: Counting objects:  10% (3/29)\u001b[K\rremote: Counting objects:  13% (4/29)\u001b[K\rremote: Counting objects:  17% (5/29)\u001b[K\rremote: Counting objects:  20% (6/29)\u001b[K\rremote: Counting objects:  24% (7/29)\u001b[K\rremote: Counting objects:  27% (8/29)\u001b[K\rremote: Counting objects:  31% (9/29)\u001b[K\rremote: Counting objects:  34% (10/29)\u001b[K\rremote: Counting objects:  37% (11/29)\u001b[K\rremote: Counting objects:  41% (12/29)\u001b[K\rremote: Counting objects:  44% (13/29)\u001b[K\rremote: Counting objects:  48% (14/29)\u001b[K\rremote: Counting objects:  51% (15/29)\u001b[K\rremote: Counting objects:  55% (16/29)\u001b[K\rremote: Counting objects:  58% (17/29)\u001b[K\rremote: Counting objects:  62% (18/29)\u001b[K\rremote: Counting objects:  65% (19/29)\u001b[K\rremote: Counting objects:  68% (20/29)\u001b[K\rremote: Counting objects:  72% (21/29)\u001b[K\rremote: Counting objects:  75% (22/29)\u001b[K\rremote: Counting objects:  79% (23/29)\u001b[K\rremote: Counting objects:  82% (24/29)\u001b[K\rremote: Counting objects:  86% (25/29)\u001b[K\rremote: Counting objects:  89% (26/29)\u001b[K\rremote: Counting objects:  93% (27/29)\u001b[K\rremote: Counting objects:  96% (28/29)\u001b[K\rremote: Counting objects: 100% (29/29)\u001b[K\rremote: Counting objects: 100% (29/29), done.\u001b[K\n",
            "remote: Compressing objects: 100% (16/16), done.\u001b[K\n",
            "remote: Total 29 (delta 13), reused 28 (delta 13), pack-reused 0\u001b[K\n",
            "Unpacking objects: 100% (29/29), done.\n",
            "From https://github.com/sholtodouglas/learning_from_play\n",
            "   99bd04e..7d425f6  master     -> origin/master\n",
            " * [new branch]      plotting   -> origin/plotting\n",
            "Updating 99bd04e..7d425f6\n",
            "Fast-forward\n",
            " Deploy.ipynb                           |  682 \u001b[32m++\u001b[m\u001b[31m-\u001b[m\n",
            " LMP_Test.ipynb                         | 7566 \u001b[32m++++++++++++++++++\u001b[m\u001b[31m--------------\u001b[m\n",
            " Use this to play the sample data.ipynb | 1532 \u001b[32m+++++\u001b[m\u001b[31m--\u001b[m\n",
            " data_collection/full_vr.py             |   12 \u001b[32m+\u001b[m\u001b[31m-\u001b[m\n",
            " test.npz                               |  Bin \u001b[31m0\u001b[m -> \u001b[32m814036\u001b[m bytes\n",
            " 5 files changed, 5999 insertions(+), 3793 deletions(-)\n",
            " create mode 100644 test.npz\n"
          ],
          "name": "stdout"
        }
      ]
    },
    {
      "cell_type": "code",
      "metadata": {
        "id": "SOBH-PSIbSI4",
        "cellView": "both"
      },
      "source": [
        "#@title Git config (for commits)\n",
        "email = \"sholto.douglas1@gmail.com\" #@param {type:\"string\"}\n",
        "name = \"sholtodouglas\" #@param {type:\"string\"}\n",
        "\n",
        "!git config --global user.email \"{email}\"\n",
        "!git config --global user.name \"{name}\""
      ],
      "execution_count": null,
      "outputs": []
    },
    {
      "cell_type": "code",
      "metadata": {
        "id": "EWZpvN3xZ0I4",
        "cellView": "both",
        "outputId": "9e0aebf9-7e66-4416-9e92-53b8b1f24d96",
        "colab": {
          "base_uri": "https://localhost:8080/",
          "height": 52
        }
      },
      "source": [
        "#@title Git commit\n",
        "commit_msg = \"update beta scheduler\" #@param {type:\"string\"}\n",
        "!git commit -m \"{commit_msg}\""
      ],
      "execution_count": null,
      "outputs": [
        {
          "output_type": "stream",
          "text": [
            "[master a8b133a] update beta scheduler\n",
            " 1 file changed, 1 insertion(+)\n"
          ],
          "name": "stdout"
        }
      ]
    },
    {
      "cell_type": "code",
      "metadata": {
        "id": "xeT8OJX-Zhxs",
        "cellView": "both",
        "outputId": "6c56d26f-ca39-46dd-b9e5-d5cbe1bcef13",
        "colab": {
          "base_uri": "https://localhost:8080/",
          "height": 34
        }
      },
      "source": [
        "#@title Git push\n",
        "branch = \"master\" #@param [\"master\"] {allow-input: true}\n",
        "!git push -u origin {branch}"
      ],
      "execution_count": null,
      "outputs": [
        {
          "output_type": "stream",
          "text": [
            "fatal: could not read Username for 'https://github.com': No such device or address\n"
          ],
          "name": "stdout"
        }
      ]
    },
    {
      "cell_type": "markdown",
      "metadata": {
        "id": "EliqxOpPv9Dy"
      },
      "source": [
        "# Data Creation"
      ]
    },
    {
      "cell_type": "code",
      "metadata": {
        "id": "6zbmq324x2yv",
        "outputId": "c64c35e8-3393-4088-ba18-dda05763441d",
        "colab": {
          "base_uri": "https://localhost:8080/",
          "height": 781
        }
      },
      "source": [
        "import tensorflow as tf\n",
        "print(\"Tensorflow version \" + tf.__version__)\n",
        "\n",
        "if DEVICE==\"TPU\":\n",
        "    try:\n",
        "        tpu = tf.distribute.cluster_resolver.TPUClusterResolver()  # TPU detection\n",
        "        print('Running on TPU ', tpu.cluster_spec().as_dict()['worker'])\n",
        "    except ValueError:\n",
        "        raise BaseException('ERROR: Not connected to a TPU runtime; please see the previous cell in this notebook for instructions!')\n",
        "\n",
        "    tf.config.experimental_connect_to_cluster(tpu)\n",
        "    tf.tpu.experimental.initialize_tpu_system(tpu)\n",
        "    strategy = tf.distribute.TPUStrategy(tpu)\n",
        "\n",
        "    NUM_DEVICES = strategy.num_replicas_in_sync\n",
        "    print(\"REPLICAS: \", NUM_DEVICES)\n",
        "else:\n",
        "    physical_devices = tf.config.list_physical_devices()\n",
        "    if DEVICE is 'GPU':\n",
        "        tf.config.experimental.set_memory_growth(physical_devices[3], enable=True)\n",
        "    NUM_DEVICES = 1\n",
        "    print(physical_devices)"
      ],
      "execution_count": 3,
      "outputs": [
        {
          "output_type": "stream",
          "text": [
            "Tensorflow version 2.3.0\n",
            "Running on TPU  ['10.114.36.18:8470']\n",
            "INFO:tensorflow:Initializing the TPU system: grpc://10.114.36.18:8470\n"
          ],
          "name": "stdout"
        },
        {
          "output_type": "stream",
          "text": [
            "INFO:tensorflow:Initializing the TPU system: grpc://10.114.36.18:8470\n"
          ],
          "name": "stderr"
        },
        {
          "output_type": "stream",
          "text": [
            "INFO:tensorflow:Clearing out eager caches\n"
          ],
          "name": "stdout"
        },
        {
          "output_type": "stream",
          "text": [
            "INFO:tensorflow:Clearing out eager caches\n"
          ],
          "name": "stderr"
        },
        {
          "output_type": "stream",
          "text": [
            "INFO:tensorflow:Finished initializing TPU system.\n"
          ],
          "name": "stdout"
        },
        {
          "output_type": "stream",
          "text": [
            "INFO:tensorflow:Finished initializing TPU system.\n"
          ],
          "name": "stderr"
        },
        {
          "output_type": "stream",
          "text": [
            "INFO:tensorflow:Found TPU system:\n"
          ],
          "name": "stdout"
        },
        {
          "output_type": "stream",
          "text": [
            "INFO:tensorflow:Found TPU system:\n"
          ],
          "name": "stderr"
        },
        {
          "output_type": "stream",
          "text": [
            "INFO:tensorflow:*** Num TPU Cores: 8\n"
          ],
          "name": "stdout"
        },
        {
          "output_type": "stream",
          "text": [
            "INFO:tensorflow:*** Num TPU Cores: 8\n"
          ],
          "name": "stderr"
        },
        {
          "output_type": "stream",
          "text": [
            "INFO:tensorflow:*** Num TPU Workers: 1\n"
          ],
          "name": "stdout"
        },
        {
          "output_type": "stream",
          "text": [
            "INFO:tensorflow:*** Num TPU Workers: 1\n"
          ],
          "name": "stderr"
        },
        {
          "output_type": "stream",
          "text": [
            "INFO:tensorflow:*** Num TPU Cores Per Worker: 8\n"
          ],
          "name": "stdout"
        },
        {
          "output_type": "stream",
          "text": [
            "INFO:tensorflow:*** Num TPU Cores Per Worker: 8\n"
          ],
          "name": "stderr"
        },
        {
          "output_type": "stream",
          "text": [
            "INFO:tensorflow:*** Available Device: _DeviceAttributes(/job:localhost/replica:0/task:0/device:CPU:0, CPU, 0, 0)\n"
          ],
          "name": "stdout"
        },
        {
          "output_type": "stream",
          "text": [
            "INFO:tensorflow:*** Available Device: _DeviceAttributes(/job:localhost/replica:0/task:0/device:CPU:0, CPU, 0, 0)\n"
          ],
          "name": "stderr"
        },
        {
          "output_type": "stream",
          "text": [
            "INFO:tensorflow:*** Available Device: _DeviceAttributes(/job:localhost/replica:0/task:0/device:XLA_CPU:0, XLA_CPU, 0, 0)\n"
          ],
          "name": "stdout"
        },
        {
          "output_type": "stream",
          "text": [
            "INFO:tensorflow:*** Available Device: _DeviceAttributes(/job:localhost/replica:0/task:0/device:XLA_CPU:0, XLA_CPU, 0, 0)\n"
          ],
          "name": "stderr"
        },
        {
          "output_type": "stream",
          "text": [
            "INFO:tensorflow:*** Available Device: _DeviceAttributes(/job:worker/replica:0/task:0/device:CPU:0, CPU, 0, 0)\n"
          ],
          "name": "stdout"
        },
        {
          "output_type": "stream",
          "text": [
            "INFO:tensorflow:*** Available Device: _DeviceAttributes(/job:worker/replica:0/task:0/device:CPU:0, CPU, 0, 0)\n"
          ],
          "name": "stderr"
        },
        {
          "output_type": "stream",
          "text": [
            "INFO:tensorflow:*** Available Device: _DeviceAttributes(/job:worker/replica:0/task:0/device:TPU:0, TPU, 0, 0)\n"
          ],
          "name": "stdout"
        },
        {
          "output_type": "stream",
          "text": [
            "INFO:tensorflow:*** Available Device: _DeviceAttributes(/job:worker/replica:0/task:0/device:TPU:0, TPU, 0, 0)\n"
          ],
          "name": "stderr"
        },
        {
          "output_type": "stream",
          "text": [
            "INFO:tensorflow:*** Available Device: _DeviceAttributes(/job:worker/replica:0/task:0/device:TPU:1, TPU, 0, 0)\n"
          ],
          "name": "stdout"
        },
        {
          "output_type": "stream",
          "text": [
            "INFO:tensorflow:*** Available Device: _DeviceAttributes(/job:worker/replica:0/task:0/device:TPU:1, TPU, 0, 0)\n"
          ],
          "name": "stderr"
        },
        {
          "output_type": "stream",
          "text": [
            "INFO:tensorflow:*** Available Device: _DeviceAttributes(/job:worker/replica:0/task:0/device:TPU:2, TPU, 0, 0)\n"
          ],
          "name": "stdout"
        },
        {
          "output_type": "stream",
          "text": [
            "INFO:tensorflow:*** Available Device: _DeviceAttributes(/job:worker/replica:0/task:0/device:TPU:2, TPU, 0, 0)\n"
          ],
          "name": "stderr"
        },
        {
          "output_type": "stream",
          "text": [
            "INFO:tensorflow:*** Available Device: _DeviceAttributes(/job:worker/replica:0/task:0/device:TPU:3, TPU, 0, 0)\n"
          ],
          "name": "stdout"
        },
        {
          "output_type": "stream",
          "text": [
            "INFO:tensorflow:*** Available Device: _DeviceAttributes(/job:worker/replica:0/task:0/device:TPU:3, TPU, 0, 0)\n"
          ],
          "name": "stderr"
        },
        {
          "output_type": "stream",
          "text": [
            "INFO:tensorflow:*** Available Device: _DeviceAttributes(/job:worker/replica:0/task:0/device:TPU:4, TPU, 0, 0)\n"
          ],
          "name": "stdout"
        },
        {
          "output_type": "stream",
          "text": [
            "INFO:tensorflow:*** Available Device: _DeviceAttributes(/job:worker/replica:0/task:0/device:TPU:4, TPU, 0, 0)\n"
          ],
          "name": "stderr"
        },
        {
          "output_type": "stream",
          "text": [
            "INFO:tensorflow:*** Available Device: _DeviceAttributes(/job:worker/replica:0/task:0/device:TPU:5, TPU, 0, 0)\n"
          ],
          "name": "stdout"
        },
        {
          "output_type": "stream",
          "text": [
            "INFO:tensorflow:*** Available Device: _DeviceAttributes(/job:worker/replica:0/task:0/device:TPU:5, TPU, 0, 0)\n"
          ],
          "name": "stderr"
        },
        {
          "output_type": "stream",
          "text": [
            "INFO:tensorflow:*** Available Device: _DeviceAttributes(/job:worker/replica:0/task:0/device:TPU:6, TPU, 0, 0)\n"
          ],
          "name": "stdout"
        },
        {
          "output_type": "stream",
          "text": [
            "INFO:tensorflow:*** Available Device: _DeviceAttributes(/job:worker/replica:0/task:0/device:TPU:6, TPU, 0, 0)\n"
          ],
          "name": "stderr"
        },
        {
          "output_type": "stream",
          "text": [
            "INFO:tensorflow:*** Available Device: _DeviceAttributes(/job:worker/replica:0/task:0/device:TPU:7, TPU, 0, 0)\n"
          ],
          "name": "stdout"
        },
        {
          "output_type": "stream",
          "text": [
            "INFO:tensorflow:*** Available Device: _DeviceAttributes(/job:worker/replica:0/task:0/device:TPU:7, TPU, 0, 0)\n"
          ],
          "name": "stderr"
        },
        {
          "output_type": "stream",
          "text": [
            "INFO:tensorflow:*** Available Device: _DeviceAttributes(/job:worker/replica:0/task:0/device:TPU_SYSTEM:0, TPU_SYSTEM, 0, 0)\n"
          ],
          "name": "stdout"
        },
        {
          "output_type": "stream",
          "text": [
            "INFO:tensorflow:*** Available Device: _DeviceAttributes(/job:worker/replica:0/task:0/device:TPU_SYSTEM:0, TPU_SYSTEM, 0, 0)\n"
          ],
          "name": "stderr"
        },
        {
          "output_type": "stream",
          "text": [
            "INFO:tensorflow:*** Available Device: _DeviceAttributes(/job:worker/replica:0/task:0/device:XLA_CPU:0, XLA_CPU, 0, 0)\n"
          ],
          "name": "stdout"
        },
        {
          "output_type": "stream",
          "text": [
            "INFO:tensorflow:*** Available Device: _DeviceAttributes(/job:worker/replica:0/task:0/device:XLA_CPU:0, XLA_CPU, 0, 0)\n"
          ],
          "name": "stderr"
        },
        {
          "output_type": "stream",
          "text": [
            "REPLICAS:  8\n"
          ],
          "name": "stdout"
        }
      ]
    },
    {
      "cell_type": "markdown",
      "metadata": {
        "pycharm": {
          "name": "#%% md\n"
        },
        "id": "yL0UZVa1v9D9"
      },
      "source": [
        "# Dataset"
      ]
    },
    {
      "cell_type": "code",
      "metadata": {
        "pycharm": {
          "name": "#%%\n"
        },
        "id": "KF1m_wf3v9D-"
      },
      "source": [
        "import glob\n",
        "import numpy as np\n",
        "import tensorflow as tf\n",
        "import pickle\n",
        "import matplotlib.pyplot as plt\n",
        "import random\n",
        "import pickle\n",
        "import os\n",
        "from collections import Counter\n",
        "import random\n",
        "import datetime\n",
        "\n",
        "import data"
      ],
      "execution_count": 4,
      "outputs": []
    },
    {
      "cell_type": "code",
      "metadata": {
        "id": "1HejtDH_Yx8h"
      },
      "source": [
        "# Use this to edit modules without needing to restart the kernel\n",
        "# import importlib\n",
        "# importlib.reload(data)"
      ],
      "execution_count": 5,
      "outputs": []
    },
    {
      "cell_type": "code",
      "metadata": {
        "id": "vA2WFvCJv9EF"
      },
      "source": [
        "RELATIVE = True # use relative joints instead of absolute pos/ori as in the original paper\n",
        "QUAT = True # whether to use quaternions or rpy in actions\n",
        "JOINTS = False # use relative joints instead of absolute angles\n",
        "VELOCITY = True\n",
        "USE_QUAT_OBS = True\n",
        "USE_QUAT_AUGMENTATION = False"
      ],
      "execution_count": 6,
      "outputs": []
    },
    {
      "cell_type": "code",
      "metadata": {
        "id": "bsRWLkHKsfQw"
      },
      "source": [
        "def load_data(path, keys):\n",
        "    dataset = {k:[] for k in keys+['sequence_index','sequence_id']}\n",
        "    obs_act_path = os.path.join(path, 'obs_act_etc/')\n",
        "\n",
        "    for demo in os.listdir(obs_act_path):\n",
        "        traj = np.load(obs_act_path+demo+'/data.npz')\n",
        "        for k in keys:\n",
        "            dataset[k].append(traj[k].astype(np.float32))\n",
        "        timesteps = len(traj['obs'])\n",
        "        dataset['sequence_index'].append(np.arange(timesteps, dtype=np.int32).reshape(-1, 1))\n",
        "        dataset['sequence_id'].append(np.full(timesteps, fill_value=int(demo), dtype=np.int32).reshape(-1, 1))\n",
        "\n",
        "    # convert to numpy\n",
        "    for k in keys+['sequence_index','sequence_id']:\n",
        "        dataset[k] = np.vstack(dataset[k])\n",
        "    return dataset"
      ],
      "execution_count": 7,
      "outputs": []
    },
    {
      "cell_type": "code",
      "metadata": {
        "id": "3MyEE9kUv9EL",
        "outputId": "d72cb6a1-e1f6-4293-e617-ed01354d56d2",
        "colab": {
          "base_uri": "https://localhost:8080/",
          "height": 34
        }
      },
      "source": [
        "keys = ['obs', 'acts', 'achieved_goals', 'joint_poses', 'target_poses', 'acts_rpy', 'acts_rpy_rel',  'velocities', 'rpy_obs']\n",
        "dataset = load_data(PYBULLET_DATA_DIR, keys)\n",
        "\n",
        "if JOINTS:\n",
        "    OBS_DIM = dataset['obs'].shape[1] + 7 \n",
        "    ACT_DIM = dataset['target_poses'].shape[1] + 1\n",
        "else: \n",
        "    if QUAT:\n",
        "        ACT_DIM = dataset['acts'].shape[1]\n",
        "    else:\n",
        "        ACT_DIM = dataset['acts_rpy'].shape[1]\n",
        "        \n",
        "    if USE_QUAT_OBS:\n",
        "      OBS_DIM = dataset['obs'].shape[1]\n",
        "    else:\n",
        "      OBS_DIM = dataset['rpy_obs'].shape[1]\n",
        "\n",
        "if VELOCITY:\n",
        "    OBS_DIM += dataset['velocities'].shape[1]\n",
        "        \n",
        "GOAL_DIM = dataset['achieved_goals'].shape[1]\n",
        "print(f'Obs: (N,{OBS_DIM}), Acts: (N,{ACT_DIM}), Goals: (N,{GOAL_DIM})')"
      ],
      "execution_count": 8,
      "outputs": [
        {
          "output_type": "stream",
          "text": [
            "Obs: (N,25), Acts: (N,8), Goals: (N,11)\n"
          ],
          "name": "stdout"
        }
      ]
    },
    {
      "cell_type": "code",
      "metadata": {
        "id": "7iNQfzhqv9EX",
        "outputId": "d3fd92d4-9c7c-437f-89ab-4c418e2f04c0",
        "colab": {
          "base_uri": "https://localhost:8080/",
          "height": 34
        }
      },
      "source": [
        "DATASET_SIZE = dataset['obs'].shape[0]\n",
        "secs = DATASET_SIZE / 20\n",
        "hours = secs // 3600\n",
        "minutes = secs // 60 - hours * 60\n",
        "print(f\"We have {DATASET_SIZE} frames of data, which is {hours:.0f}hrs {minutes:.0f}m.\")"
      ],
      "execution_count": 9,
      "outputs": [
        {
          "output_type": "stream",
          "text": [
            "We have 138280 frames of data, which is 1hrs 55m.\n"
          ],
          "name": "stdout"
        }
      ]
    },
    {
      "cell_type": "code",
      "metadata": {
        "id": "Zr_q7DBwZ8Bc"
      },
      "source": [
        "# Ok data aug time! # flip to the equivalent quaternion to add more data\n",
        "if USE_QUAT_AUGMENTATION:\n",
        "  if USE_QUAT_OBS:\n",
        "    OBS_QUATERNION_INDICES = [(3,7), (10,14)]\n",
        "  else:\n",
        "    OBS_QUATERNION_INDICES = [ (9,13)] # only the object, and shifted one earlier due to rpy obs\n",
        "\n",
        "  GOAL_QUATERNION_INDICES = [(3,7)]\n"
      ],
      "execution_count": 10,
      "outputs": []
    },
    {
      "cell_type": "code",
      "metadata": {
        "id": "kUUdmYhsQxGf",
        "outputId": "34d57ec7-b22c-4b32-dc10-14cdea25a539",
        "colab": {
          "base_uri": "https://localhost:8080/",
          "height": 34
        }
      },
      "source": [
        "BATCH_SIZE_PER_REPLICA = 512\n",
        "GLOBAL_BATCH_SIZE = BATCH_SIZE_PER_REPLICA * NUM_DEVICES\n",
        "\n",
        "WINDOW_SIZE = 40\n",
        "MIN_WINDOW_SIZE = WINDOW_SIZE//2\n",
        "WINDOW_SHIFT = 1\n",
        "SHUFFLE_SIZE = GLOBAL_BATCH_SIZE*4\n",
        "PREFETCH_SIZE = tf.data.experimental.AUTOTUNE\n",
        "NUM_WORKERS = 4\n",
        "TRAIN_TEST_SPLIT = 0.9\n",
        "VARIABLE_SEQ_LENS = True\n",
        "\n",
        "window_lambda = lambda x: tf.data.Dataset.zip(x).batch(WINDOW_SIZE)\n",
        "seq_overlap_filter = lambda x: tf.equal(tf.size(tf.unique(tf.squeeze(x['sequence_id'])).y), 1)\n",
        "\n",
        "def create_goal_tensor(dataset, seq_len=-1):\n",
        "    ''' Tile final achieved_goal across time dimension '''\n",
        "    tile_dims = tf.constant([WINDOW_SIZE, 1], tf.int32)\n",
        "    goal = tf.tile(dataset['achieved_goals'][seq_len-1,tf.newaxis], tile_dims) # as goal is at an index take seq_len -1\n",
        "    return goal\n",
        "\n",
        "def transform_states(dataset):\n",
        "    if JOINTS:\n",
        "        if RELATIVE:\n",
        "          rel = dataset['target_poses'] - dataset['joint_poses'][:,:7]\n",
        "        else:\n",
        "          rel = dataset['target_poses']\n",
        "\n",
        "        gripper = dataset['acts'][:,-1,tf.newaxis]\n",
        "        acts = tf.concat([rel, gripper], axis=-1)\n",
        "        obs = tf.concat([dataset['obs'],dataset['joint_poses'][:,:7]], axis=-1)#.astype('float32')\n",
        "    else:\n",
        "        if USE_QUAT_OBS:\n",
        "          obs = dataset['obs']\n",
        "          \n",
        "        else:\n",
        "          obs = dataset['rpy_obs']\n",
        "\n",
        "        if RELATIVE:\n",
        "            if QUAT:\n",
        "                rel = dataset['acts'][:,:7] - dataset['obs'][:,:7]\n",
        "            else:\n",
        "                rel = dataset['acts_rpy_rel'][:,:6]\n",
        "                \n",
        "            gripper = dataset['acts'][:,-1,tf.newaxis]\n",
        "            acts = tf.concat([rel, gripper], axis=-1)\n",
        "        else:\n",
        "            if QUAT:\n",
        "                acts = dataset['acts']\n",
        "            else:\n",
        "                acts = dataset['acts_rpy']\n",
        "\n",
        "    if VELOCITY:\n",
        "      obs = tf.concat([obs, dataset['velocities']], axis = -1)\n",
        "\n",
        "    # Variable Seq len\n",
        "    if VARIABLE_SEQ_LENS:\n",
        "      seq_len = tf.random.uniform(shape=[], minval=MIN_WINDOW_SIZE, maxval=WINDOW_SIZE, dtype=tf.int32, seed=10)\n",
        "    else:\n",
        "      seq_len = WINDOW_SIZE # SEQLENS Just at max window size\n",
        "\n",
        "    mask = tf.cast(tf.sequence_mask(seq_len, maxlen=WINDOW_SIZE), tf.float32) # creates a B*T mask\n",
        "    multiply_mask = tf.expand_dims(mask, -1)\n",
        "\n",
        "    goals = create_goal_tensor(dataset, seq_len)\n",
        "\n",
        "    if USE_QUAT_AUGMENTATION:\n",
        "            for q1,q2 in OBS_QUATERNION_INDICES:\n",
        "              if tf.random.uniform([1], maxval= 1) > 0.5:\n",
        "                          obs = tf.concat([obs[:,:q1], -obs[:,q1:q2], obs[:,q2:]],-1)\n",
        "            for pair in GOAL_QUATERNION_INDICES:\n",
        "              if tf.random.uniform([1], maxval= 1) > 0.5:\n",
        "                          goals = tf.concat([goals[:,:q1], -goals[:,q1:q2], goals[:,q2:]],-1)\n",
        "\n",
        "    obs = obs * multiply_mask\n",
        "    acts = acts * multiply_mask\n",
        "    goals = goals * multiply_mask\n",
        "\n",
        "    return {'obs':obs, 'acts':acts, 'goals':goals, 'seq_lens': tf.cast(seq_len, tf.float32), 'masks':mask, \n",
        "           'dataset_path':dataset['sequence_id'], 'tstep_idxs':dataset['sequence_index']}\n",
        "\n",
        "def tf_ds_transform(dataset):\n",
        "    return dataset\\\n",
        "                .window(size=WINDOW_SIZE, shift=WINDOW_SHIFT, stride=1, drop_remainder=True)\\\n",
        "                .flat_map(window_lambda)\\\n",
        "                .filter(seq_overlap_filter)\\\n",
        "                .shuffle(SHUFFLE_SIZE)\\\n",
        "                .repeat()\\\n",
        "                .map(transform_states, num_parallel_calls=NUM_WORKERS)\\\n",
        "                .batch(GLOBAL_BATCH_SIZE, drop_remainder=True)\\\n",
        "                .prefetch(PREFETCH_SIZE)\\\n",
        "                # .cache()\n",
        "\n",
        "# Todo: Need to confirm splitting here works with shuffle() and repeat()\n",
        "train_size = int(TRAIN_TEST_SPLIT * DATASET_SIZE)\n",
        "\n",
        "full_dataset = tf.data.Dataset.from_tensor_slices(dataset)\n",
        "train_dataset = tf_ds_transform(full_dataset.take(train_size))\n",
        "valid_dataset = tf_ds_transform(full_dataset.skip(train_size))\n",
        "train_dataset"
      ],
      "execution_count": 11,
      "outputs": [
        {
          "output_type": "execute_result",
          "data": {
            "text/plain": [
              "<PrefetchDataset shapes: {obs: (4096, 40, 25), acts: (4096, 40, 8), goals: (4096, 40, 11), seq_lens: (4096,), masks: (4096, 40), dataset_path: (4096, None, 1), tstep_idxs: (4096, None, 1)}, types: {obs: tf.float32, acts: tf.float32, goals: tf.float32, seq_lens: tf.float32, masks: tf.float32, dataset_path: tf.int32, tstep_idxs: tf.int32}>"
            ]
          },
          "metadata": {
            "tags": []
          },
          "execution_count": 11
        }
      ]
    },
    {
      "cell_type": "markdown",
      "metadata": {
        "pycharm": {
          "name": "#%% md\n"
        },
        "id": "nN3YJSSLv9Ez"
      },
      "source": [
        "# Model"
      ]
    },
    {
      "cell_type": "code",
      "metadata": {
        "pycharm": {
          "name": "#%%\n"
        },
        "id": "BWMloXYWv9Ez"
      },
      "source": [
        "from tensorflow.keras.models import Model, Sequential\n",
        "from tensorflow.keras.layers import Dense, BatchNormalization, ReLU, Input, LSTM, Concatenate, Masking, Reshape, Lambda, Bidirectional, GRU\n",
        "from tensorflow.keras.regularizers import l1, l2\n",
        "import tensorflow_probability as tfp\n",
        "tfd = tfp.distributions\n",
        "tfb = tfp.bijectors\n",
        "tfpl = tfp.layers"
      ],
      "execution_count": 12,
      "outputs": []
    },
    {
      "cell_type": "markdown",
      "metadata": {
        "pycharm": {
          "name": "#%% md\n"
        },
        "id": "UyCTWom6v9E3"
      },
      "source": [
        "## LSTM Model\n",
        "Use this to map obs -> act"
      ]
    },
    {
      "cell_type": "code",
      "metadata": {
        "id": "6m66FNEcaUMj"
      },
      "source": [
        "def compute_rotation_matrix_from_ortho6d(ortho6d):\n",
        "    ''' Takes 6d input and converts to 9d rotation matrix '''\n",
        "    x_raw, y_raw = tf.split(ortho6d, [3,3], axis=-1)\n",
        "        \n",
        "    x = x_raw/tf.norm(x_raw) #batch*3\n",
        "    z = tf.linalg.cross(x,y_raw) #batch*3\n",
        "    z = z/tf.norm(z)#batch*3\n",
        "    y = tf.linalg.cross(z,x)#batch*3\n",
        "\n",
        "    matrix = tf.concat((x,y,z), axis=-1) #batch*3*3\n",
        "    return matrix"
      ],
      "execution_count": 13,
      "outputs": []
    },
    {
      "cell_type": "code",
      "metadata": {
        "id": "BaQklDgMGRhZ"
      },
      "source": [
        "def create_encoder(layer_size=2048, latent_dim = 256, epsilon=1e-4, training=True):\n",
        "    # Input #\n",
        "    obs = Input(shape=(40, OBS_DIM), dtype=tf.float32, name='obs')\n",
        "    acts = Input(shape=(40, ACT_DIM), dtype=tf.float32, name='acts') \n",
        "\n",
        "    # Layers #\n",
        "    x = Concatenate(axis=-1)([obs, acts])\n",
        "    x = Masking(mask_value=0.)(x)\n",
        "    x = Bidirectional(LSTM(layer_size, return_sequences=True), merge_mode='concat')(x)\n",
        "    x = Bidirectional(LSTM(layer_size, return_sequences=False), merge_mode='concat')(x)\n",
        "\n",
        "    # Latent Variable # \n",
        "    mu = Dense(latent_dim, activation=None, name='mu')(x)\n",
        "    scale = Dense(latent_dim, activation=\"softplus\", name='sigma')(x + epsilon)\n",
        "    \n",
        "    mixture = tfpl.DistributionLambda(latent_normal, name='latent_variable')((mu, scale))\n",
        "    return Model([obs, acts], mixture)\n",
        "\n",
        "\n",
        "def create_planner(layer_size=2048, latent_dim = 256, epsilon=1e-4, training=True):\n",
        "    # params #\n",
        "    batch_size = None\n",
        "\n",
        "    # Input #\n",
        "    o_i = Input(shape=(OBS_DIM,), batch_size=batch_size, dtype=tf.float32, name='initial_obs') # has arm state\n",
        "    o_g = Input(shape=(GOAL_DIM,), batch_size=batch_size, dtype=tf.float32, name='goal_obs') # does not have arm state\n",
        "\n",
        "    # Layers #\n",
        "    x = Concatenate(axis=-1)([o_i, o_g])\n",
        "    x = Masking(mask_value=0.)(x)\n",
        "    x = Dense(layer_size, activation=\"relu\", name='layer_1')(x)\n",
        "    x = Dense(layer_size, activation=\"relu\", name='layer_2')(x)\n",
        "    x = Dense(layer_size, activation=\"relu\", name='layer_3')(x)\n",
        "    x = Dense(layer_size, activation=\"relu\", name='layer_4')(x)\n",
        "\n",
        "    # Latent Variable # \n",
        "    mu = Dense(latent_dim, activation=None, name='mu')(x)\n",
        "    scale = Dense(latent_dim, activation=\"softplus\", name='sigma')(x + epsilon)\n",
        "    \n",
        "    mixture = tfpl.DistributionLambda(latent_normal,  name='latent_variable')((mu, scale))\n",
        "    return Model([o_i, o_g], mixture)\n",
        "\n",
        "def create_actor(layer_size=1024, latent_dim = 256, epsilon=1e-4, num_distribs=None, GCBC=False, training=True):\n",
        "    # params #\n",
        "    batch_size = None if training else 1\n",
        "    stateful = not training\n",
        "\n",
        "    # Input #\n",
        "    o = Input(shape=(None, OBS_DIM), batch_size=batch_size, dtype=tf.float32, name='input_obs')\n",
        "    z = Input(shape=(None, latent_dim), batch_size=batch_size, dtype=tf.float32, name='input_latent')\n",
        "    g = Input(shape=(None, GOAL_DIM), batch_size=batch_size, dtype=tf.float32, name='input_goals')\n",
        "\n",
        "    # RNN #\n",
        "    if GCBC:      \n",
        "      x =  Concatenate(axis=-1)([o,g])\n",
        "    else:\n",
        "      x =  Concatenate(axis=-1)([o,z,g])\n",
        "\n",
        "    x = Masking(mask_value=0.)(x)\n",
        "    x = LSTM(layer_size, return_sequences=True, stateful=stateful, name='LSTM_in_1')(x)\n",
        "    x = LSTM(layer_size, return_sequences=True, stateful=stateful, name='LSTM_in_2')(x)\n",
        "\n",
        "    # Probabilistic Mixture Model #\n",
        "    if num_distribs:\n",
        "        weightings = Dense(ACT_DIM*num_distribs, activation=None, name='alpha')(x)\n",
        "        mu = Dense(ACT_DIM*num_distribs, activation=None, name='mu')(x)\n",
        "        scale = Dense(ACT_DIM*num_distribs, activation=\"softplus\", name='sigma')(x + epsilon)\n",
        "\n",
        "        weightings = Reshape((-1, ACT_DIM, num_distribs))(weightings)\n",
        "        mu = Reshape((-1, ACT_DIM, num_distribs))(mu)\n",
        "        scale = Reshape((-1, ACT_DIM, num_distribs))(scale)\n",
        "        \n",
        "        actions = tfpl.DistributionLambda(logistic_mixture, name='logistic_mix')([weightings, mu, scale])\n",
        "    else:\n",
        "        actions = Dense(ACT_DIM, activation=None, name='acts')(x)\n",
        "\n",
        "    if GCBC:\n",
        "      return Model([o, g], actions)\n",
        "    else:\n",
        "      return Model([o, z, g], actions)\n",
        "\n",
        "\n",
        "def latent_normal(inputs):\n",
        "    mu, scale = inputs\n",
        "    dist = tfd.Normal(loc=mu, scale=scale)\n",
        "    return dist\n",
        "\n",
        "def logistic_mixture(inputs):\n",
        "    weightings, mu, scale = inputs\n",
        "    dist = tfd.Logistic(loc=mu, scale=scale)\n",
        "    mixture_dist = tfd.MixtureSameFamily(\n",
        "        mixture_distribution=tfd.Categorical(logits=weightings),\n",
        "        components_distribution=dist,\n",
        "        validate_args=True\n",
        "    )\n",
        "    return mixture_dist"
      ],
      "execution_count": 14,
      "outputs": []
    },
    {
      "cell_type": "code",
      "metadata": {
        "id": "bJaFKO3-PjuL"
      },
      "source": [
        "import math\n",
        "import logging\n",
        "import pdb\n",
        "\n",
        "import numpy as np\n",
        "import tensorflow as tf\n",
        "import tensorflow.keras as K\n",
        "from tensorflow.keras.layers import Dense, LayerNormalization, Dropout, Embedding, Lambda\n",
        "from tensorflow.keras.optimizers import Adam\n",
        "from tensorflow.keras.backend import count_params\n",
        "\n",
        "logger = logging.getLogger(__name__)\n",
        "\n",
        "class GPTConfig:\n",
        "    \"\"\" base GPT config, params common to all GPT versions \"\"\"\n",
        "    # embd_pdrop = 0.1\n",
        "    # resid_pdrop = 0.1\n",
        "    # attn_pdrop = 0.1\n",
        "\n",
        "    def __init__(self, block_size, dropout=0.1, \n",
        "                 w_init='he_normal', b_init='zeros', **kwargs):\n",
        "        self.block_size = block_size\n",
        "        self.embd_pdrop = dropout\n",
        "        self.resid_pdrop = dropout\n",
        "        self.attn_pdrop = dropout\n",
        "        self.w_init = w_init\n",
        "        self.b_init = b_init\n",
        "        for k,v in kwargs.items():\n",
        "            setattr(self, k, v)\n",
        "\n",
        "class GPT1Config(GPTConfig):\n",
        "    \"\"\" GPT-1 like network roughly 125M params \"\"\"\n",
        "    n_layer = 12\n",
        "    n_head = 12\n",
        "    n_embd = 768\n",
        "    \n",
        "def gelu(x):\n",
        "    \"\"\"Gaussian Error Linear Unit.\n",
        "    This is a smoother version of the RELU.\n",
        "    Original paper: https://arxiv.org/abs/1606.08415\n",
        "    Args:\n",
        "        x: float Tensor to perform activation.\n",
        "    Returns:\n",
        "        `x` with the GELU activation applied.\n",
        "    \"\"\"\n",
        "    cdf = 0.5 * (1.0 + tf.tanh(\n",
        "        (math.sqrt(2 / math.pi) * (x + 0.044715 * tf.pow(x, 3)))))\n",
        "    return x * cdf\n",
        "\n",
        "GeLU = tf.keras.activations.get(gelu)\n",
        "\n",
        "class CausalSelfAttention(K.layers.Layer):\n",
        "    \"\"\"\n",
        "    A vanilla multi-head masked self-attention layer with a projection at the end.\n",
        "    It is possible to use torch.nn.MultiheadAttention here but I am including an\n",
        "    explicit implementation here to show that there is nothing too scary here.\n",
        "    \"\"\"\n",
        "\n",
        "    def __init__(self, config):\n",
        "        super().__init__()\n",
        "        assert config.n_embd % config.n_head == 0, \"Embedding size must be evenly divisible by # heads\"\n",
        "        # key, query, value projections for all heads\n",
        "        self.key = Dense(config.n_embd, name='key', kernel_initializer=config.w_init, bias_initializer=config.b_init)\n",
        "        self.query = Dense(config.n_embd, name='query', kernel_initializer=config.w_init, bias_initializer=config.b_init)\n",
        "        self.value = Dense(config.n_embd, name='value', kernel_initializer=config.w_init, bias_initializer=config.b_init)\n",
        "        # regularization\n",
        "        self.attn_drop = Dropout(config.attn_pdrop)\n",
        "        self.resid_drop = Dropout(config.resid_pdrop)\n",
        "        # output projection\n",
        "        self.proj = Dense(config.n_embd, name='projection', kernel_initializer=config.w_init, bias_initializer=config.b_init)\n",
        "        # causal mask to ensure that attention is only applied to the left in the input sequence\n",
        "        self.mask = 1 - tf.linalg.band_part(tf.ones((config.block_size, config.block_size)), -1, 0)#[tf.newaxis, tf.newaxis] # tf tril equivalent\n",
        "        self.n_head = config.n_head\n",
        "        self.n_embd = config.n_embd\n",
        "        self.depth = config.n_embd // config.n_head\n",
        "\n",
        "    def split_heads(self, x, batch_size):\n",
        "        \"\"\" Split the last dimension into (n_head, depth) \"\"\"\n",
        "        x = tf.reshape(x, (batch_size, -1, self.n_head, self.depth))    # (B, T, ne) -> (B, T, nh, d)\n",
        "        return tf.transpose(x, perm=[0, 2, 1, 3])    # (B, nh, T, d)\n",
        "    \n",
        "    def reassemble_heads(self, x, batch_size):\n",
        "        \"\"\" Concat the last two dimensions into (n_embd,) - inverse transform of `split_heads()` \"\"\"\n",
        "        x = tf.transpose(x, perm=[0, 2, 1, 3])    # (B, nh, T, d)\n",
        "        return tf.reshape(x, (batch_size, -1, self.n_embd))    # (B, T, ne)\n",
        "    \n",
        "    def scaled_dot_product_attention(self, q, k, v, mask, training=True):\n",
        "        \"\"\" Calculate the attention weights v(q*k) \n",
        "        q*k gives relevance measure - better matched a k is to q, the higher it will activate and thus will feature more in the v output\n",
        "        \"\"\"\n",
        "        matmul_qk = tf.matmul(q, k, transpose_b=True)    # (..., T, T)\n",
        "\n",
        "        # scale matmul_qk\n",
        "        dk = tf.cast(k.shape[-1], tf.float32)\n",
        "        scaled_attention_logits = matmul_qk / tf.math.sqrt(dk)\n",
        "\n",
        "        # add the mask to the scaled tensor.\n",
        "        if mask is not None:\n",
        "            scaled_attention_logits += (mask * -1e9)    \n",
        "\n",
        "        # softmax is normalized on the last axis (T) so that the scores\n",
        "        # add up to 1.\n",
        "        attention_weights = tf.nn.softmax(scaled_attention_logits, axis=-1)    # (..., T, T)\n",
        "        attention_weights = self.attn_drop(attention_weights, training=training)\n",
        "\n",
        "        # (B, nh, T, T) x (B, nh, T, d) -> (B, nh, T, d)\n",
        "        output = tf.matmul(attention_weights, v)    # (..., T, d)\n",
        "\n",
        "        return output, attention_weights\n",
        "        \n",
        "    def call(self, x, training=True):\n",
        "        B = tf.shape(x)[0]\n",
        "        T = tf.shape(x)[1]\n",
        "\n",
        "        # calculate query, key, values for all heads in batch and move head forward to be the batch dim\n",
        "        # n_embd = n_heads * depth\n",
        "        k = self.key(x)    # (B, T, ne)\n",
        "        q = self.query(x)    # (B, T, ne)\n",
        "        v = self.value(x)    # (B, T, ne)\n",
        "        \n",
        "        k = self.split_heads(k, B)    # (B, nh, T, d)\n",
        "        q = self.split_heads(q, B)    # (B, nh, T, d)\n",
        "        v = self.split_heads(v, B)    # (B, nh, T, d)\n",
        "\n",
        "        # causal self-attention; Self-attend: (B, nh, T, d) x (B, nh, d, T)\n",
        "        y, att = self.scaled_dot_product_attention(q, k, v, self.mask[:T,:T], training=training)    # (B, nh, T, d), (B, nh, T, T)\n",
        "        y = self.reassemble_heads(y, B) # re-assemble all head outputs side by side (B, T, ne)\n",
        "\n",
        "        # output projection\n",
        "        y = self.resid_drop(self.proj(y), training=training)    # (B, T, ne)\n",
        "        return y, att\n",
        "\n",
        "class Block(K.layers.Layer):\n",
        "    \"\"\" an unassuming Transformer block \"\"\"\n",
        "\n",
        "    def __init__(self, config):\n",
        "        super().__init__()\n",
        "        self.ln1 = LayerNormalization()\n",
        "        self.ln2 = LayerNormalization()\n",
        "        self.attn = CausalSelfAttention(config)\n",
        "        BLOCK_WIDTH = 4\n",
        "        self.mlp = K.Sequential([\n",
        "            Dense(BLOCK_WIDTH * config.n_embd, activation=GeLU, kernel_initializer=config.w_init, bias_initializer=config.b_init),\n",
        "            Dense(config.n_embd, kernel_initializer=config.w_init, bias_initializer=config.b_init),\n",
        "            Dropout(config.resid_pdrop),\n",
        "        ])\n",
        "\n",
        "    def call(self, x, training=True):\n",
        "        x_att, att = self.attn(self.ln1(x), training=training)\n",
        "        x = x + x_att\n",
        "        x = x + self.mlp(self.ln2(x), training=training)\n",
        "        return x, att\n",
        "\n",
        "class GPT(K.Model):\n",
        "    \"\"\"  the full GPT language model, with a context size of block_size \"\"\"\n",
        "\n",
        "    def __init__(self, config):\n",
        "        super().__init__()\n",
        "\n",
        "        self.pos_emb = self.add_weight(\"position_embedding\",\n",
        "                                       shape=(1, config.block_size, config.n_embd),\n",
        "                                       initializer='zeros',\n",
        "                                       dtype=tf.float32)\n",
        "        self.drop = Dropout(config.embd_pdrop, name=\"embd_dropout\")\n",
        "        # transformer\n",
        "        # self.blocks = K.Sequential([Block(config) for _ in range(config.n_layer)])\n",
        "        self.blocks = [Block(config) for _ in range(config.n_layer)]\n",
        "        # decoder head\n",
        "        self.ln_f = LayerNormalization(name=\"final_ln\")\n",
        "        self.head = Dense(ACT_DIM, use_bias=True, kernel_initializer=config.w_init, bias_initializer=config.b_init, name=\"head_dense\") # bias was false before\n",
        "\n",
        "        self.block_size = config.block_size\n",
        "        self.n_embd = config.n_embd\n",
        "\n",
        "        # experimentation\n",
        "        self.state_embedding = Dense(config.n_embd, activation=GeLU, kernel_initializer=config.w_init, bias_initializer=config.b_init, name=\"embd_dense\")\n",
        "        \n",
        "    def get_block_size(self):\n",
        "        return self.block_size\n",
        "\n",
        "    # @tf.function\n",
        "    def call(self, inputs: tf.Tensor, training=True):\n",
        "        o, g = inputs\n",
        "        B, T, D = o.shape\n",
        "        # assert T <= self.block_size, \"Cannot forward, model block size is exhausted.\"\n",
        "\n",
        "        inputs = Concatenate(axis=-1)(inputs)\n",
        "\n",
        "        # forward the GPT model\n",
        "        x = self.state_embedding(inputs)\n",
        "        position_embeddings = self.pos_emb[:, :T, :] # each position maps to a (learnable) vector\n",
        "        x = x + position_embeddings\n",
        "        x = self.drop(x, training=training)\n",
        "        # x = self.blocks(x, training=training)\n",
        "        att_weights = []\n",
        "        for b in self.blocks:\n",
        "            x, att = b(x)\n",
        "            att_weights.append(att)\n",
        "        x = self.ln_f(x)\n",
        "        logits = self.head(x)\n",
        "        \n",
        "        return logits, att_weights\n",
        "\n",
        "    def build_graph(self):\n",
        "        o = Input(shape=(None, OBS_DIM))\n",
        "        g = Input(shape=(None, GOAL_DIM))\n",
        "        return Model(inputs=[o,g], outputs=self.call([o,g]))"
      ],
      "execution_count": 234,
      "outputs": []
    },
    {
      "cell_type": "markdown",
      "metadata": {
        "id": "eSsVYnCGjz-3"
      },
      "source": [
        "Todo:\n",
        "* Set dropout to zero\n",
        "* Increase embedding size\n",
        "* Increase block width\n",
        "* Increase # layers\n",
        "* Change LR\n",
        "* Compare i-GPT\n",
        "* Viz attention maps"
      ]
    },
    {
      "cell_type": "code",
      "metadata": {
        "id": "OrGQOAr7PmWr"
      },
      "source": [
        "x_test = next(iter(train_dataset))"
      ],
      "execution_count": 214,
      "outputs": []
    },
    {
      "cell_type": "code",
      "metadata": {
        "id": "Gdsd7PllPold"
      },
      "source": [
        "block_size = WINDOW_SIZE\n",
        "n_layer = 2\n",
        "n_head = 2\n",
        "n_embd = 128\n",
        "dropout = 0.3\n",
        "\n",
        "mconf = GPTConfig(block_size=block_size,\n",
        "                  n_layer=n_layer, \n",
        "                  n_head=n_head, \n",
        "                  n_embd=n_embd,#OBS_DIM+GOAL_DIM) # 35\n",
        "                  dropout=dropout)\n",
        "actor = GPT(mconf).build_graph()"
      ],
      "execution_count": 266,
      "outputs": []
    },
    {
      "cell_type": "code",
      "metadata": {
        "id": "dvWH66r4PqWG"
      },
      "source": [
        "_ = actor([x_test['obs'], x_test['goals']])"
      ],
      "execution_count": 267,
      "outputs": []
    },
    {
      "cell_type": "code",
      "metadata": {
        "id": "SZP5-QukuV3b",
        "outputId": "2d2729ad-f9f3-4dea-cbc5-1d0aa61103a4",
        "colab": {
          "base_uri": "https://localhost:8080/",
          "height": 532
        }
      },
      "source": [
        "actor.summary(line_length=200)"
      ],
      "execution_count": 268,
      "outputs": [
        {
          "output_type": "stream",
          "text": [
            "Model: \"functional_31\"\n",
            "________________________________________________________________________________________________________________________________________________________________________________________________________\n",
            "Layer (type)                                                      Output Shape                                Param #                 Connected to                                                      \n",
            "========================================================================================================================================================================================================\n",
            "input_45 (InputLayer)                                             [(None, None, 25)]                          0                                                                                         \n",
            "________________________________________________________________________________________________________________________________________________________________________________________________________\n",
            "input_46 (InputLayer)                                             [(None, None, 11)]                          0                                                                                         \n",
            "________________________________________________________________________________________________________________________________________________________________________________________________________\n",
            "concatenate_16 (Concatenate)                                      (None, None, 36)                            0                       input_45[0][0]                                                    \n",
            "                                                                                                                                      input_46[0][0]                                                    \n",
            "________________________________________________________________________________________________________________________________________________________________________________________________________\n",
            "embd_dense (Dense)                                                (None, None, 128)                           4736                    concatenate_16[0][0]                                              \n",
            "________________________________________________________________________________________________________________________________________________________________________________________________________\n",
            "tf_op_layer_AddV2_15 (TensorFlowOpLayer)                          [(None, 40, 128)]                           0                       embd_dense[0][0]                                                  \n",
            "________________________________________________________________________________________________________________________________________________________________________________________________________\n",
            "embd_dropout (Dropout)                                            (None, 40, 128)                             0                       tf_op_layer_AddV2_15[0][0]                                        \n",
            "________________________________________________________________________________________________________________________________________________________________________________________________________\n",
            "block_39 (Block)                                                  ((None, 40, 128), (None, 2, None, None))    198272                  embd_dropout[0][0]                                                \n",
            "________________________________________________________________________________________________________________________________________________________________________________________________________\n",
            "block_40 (Block)                                                  ((None, 40, 128), (None, 2, None, None))    198272                  block_39[0][0]                                                    \n",
            "________________________________________________________________________________________________________________________________________________________________________________________________________\n",
            "final_ln (LayerNormalization)                                     (None, 40, 128)                             256                     block_40[0][0]                                                    \n",
            "________________________________________________________________________________________________________________________________________________________________________________________________________\n",
            "head_dense (Dense)                                                (None, 40, 8)                               1032                    final_ln[0][0]                                                    \n",
            "========================================================================================================================================================================================================\n",
            "Total params: 402,568\n",
            "Trainable params: 402,568\n",
            "Non-trainable params: 0\n",
            "________________________________________________________________________________________________________________________________________________________________________________________________________\n"
          ],
          "name": "stdout"
        }
      ]
    },
    {
      "cell_type": "code",
      "metadata": {
        "id": "6m5Snh8LrWSI",
        "outputId": "34c9a6a8-4dba-4924-be4f-8a030177a5c5",
        "colab": {
          "base_uri": "https://localhost:8080/",
          "height": 975
        }
      },
      "source": [
        "# Just showing all possible argument for newcomer.  \n",
        "tf.keras.utils.plot_model(\n",
        "    actor,                      # here is the trick (for now)\n",
        "    to_file='model.png', dpi=96,              # saving  \n",
        "    show_shapes=True, show_layer_names=True,  # show shapes and layer name\n",
        "    expand_nested=True                       # will show nested block\n",
        ")"
      ],
      "execution_count": 269,
      "outputs": [
        {
          "output_type": "execute_result",
          "data": {
            "image/png": "[encoded data removed]",
            "text/plain": [
              "<IPython.core.display.Image object>"
            ]
          },
          "metadata": {
            "tags": []
          },
          "execution_count": 269
        }
      ]
    },
    {
      "cell_type": "markdown",
      "metadata": {
        "pycharm": {
          "name": "#%% md\n"
        },
        "id": "TWIpRPRuv9E6"
      },
      "source": [
        "# Training Loop"
      ]
    },
    {
      "cell_type": "code",
      "metadata": {
        "id": "-3r_TDl7v9E7",
        "outputId": "c56f53cf-06ce-4b5a-d940-493412a70bb8",
        "colab": {
          "base_uri": "https://localhost:8080/",
          "height": 52
        }
      },
      "source": [
        "from tensorflow.keras.losses import MeanSquaredError\n",
        "from tensorflow.keras.metrics import Accuracy\n",
        "from tensorflow.keras.optimizers import SGD, Adam\n",
        "from tensorflow.keras.utils import Progbar\n",
        "import tensorflow_addons as tfa\n",
        "\n",
        "import time\n",
        "import io\n",
        "import wandb\n",
        "wandb.login()\n",
        "#%load_ext tensorboard\n"
      ],
      "execution_count": 270,
      "outputs": [
        {
          "output_type": "stream",
          "text": [
            "\u001b[34m\u001b[1mwandb\u001b[0m: \u001b[33mWARNING\u001b[0m Calling wandb.login() after wandb.init() has no effect.\n"
          ],
          "name": "stderr"
        },
        {
          "output_type": "execute_result",
          "data": {
            "text/plain": [
              "True"
            ]
          },
          "metadata": {
            "tags": []
          },
          "execution_count": 270
        }
      ]
    },
    {
      "cell_type": "code",
      "metadata": {
        "id": "manfKNAvCVss"
      },
      "source": [
        "# Explore regularising the encoder using info-VAE, while concurrently making the planner chase it\n",
        "# Add latent space projection plots"
      ],
      "execution_count": 271,
      "outputs": []
    },
    {
      "cell_type": "code",
      "metadata": {
        "id": "4dG2o68LfnYx"
      },
      "source": [
        "import umap\n",
        "reducer = umap.UMAP(metric='cosine', random_state=42)\n",
        "\n",
        "def project_latents(reducer, z_enc, z_plan):\n",
        "    ''' Todo: may need to rethink vector averaging here... '''\n",
        "    reducer.fit(z_enc)\n",
        "    z_enc_embed = reducer.transform(z_enc)\n",
        "    z_plan_embed = reducer.transform(z_plan)\n",
        "\n",
        "    fig = plt.figure()\n",
        "    ax = fig.add_subplot(111)\n",
        "    ax.scatter(z_enc_embed[:, 0], z_enc_embed[:, 1], s=5, label='z_enc')\n",
        "    ax.scatter(z_plan_embed[:, 0], z_plan_embed[:, 1], s=5, label='z_plan')\n",
        "    ax.set_aspect('equal', 'datalim')\n",
        "    ax.legend(loc='upper left')\n",
        "    plt.axis('off')\n",
        "    plt.tight_layout()\n",
        "    return fig\n",
        "\n",
        "def plot_to_image(figure):\n",
        "    \"\"\"Converts the matplotlib plot specified by 'figure' to a PNG image and\n",
        "    returns it. The supplied figure is closed and inaccessible after this call.\"\"\"\n",
        "    # Save the plot to a PNG in memory.\n",
        "    buf = io.BytesIO()\n",
        "    plt.savefig(buf, format='png')\n",
        "    # Closing the figure prevents it from being displayed directly inside\n",
        "    # the notebook.\n",
        "    plt.close(figure)\n",
        "    buf.seek(0)\n",
        "    # Convert PNG buffer to TF image\n",
        "    image = tf.image.decode_png(buf.getvalue(), channels=4)\n",
        "    # Add the batch dimension\n",
        "    image = tf.expand_dims(image, 0)\n",
        "    return image"
      ],
      "execution_count": 272,
      "outputs": []
    },
    {
      "cell_type": "code",
      "metadata": {
        "id": "KqmqTTIrJgHc"
      },
      "source": [
        "class MaxMetric(tf.keras.metrics.Metric):\n",
        "\n",
        "  def __init__(self, name='max_metric', **kwargs):\n",
        "    super(MaxMetric, self).__init__(name=name, **kwargs)\n",
        "    self.max = self.add_weight(name='max', initializer='zeros')\n",
        "    self.abs_err = tf.keras.losses.MeanAbsoluteError(reduction=tf.keras.losses.Reduction.NONE)\n",
        "\n",
        "  def update_state(self, y_true, y_pred, mask=1.0):\n",
        "    y_true = tf.cast(y_true, tf.float32)\n",
        "    y_pred = tf.cast(y_pred, tf.float32)\n",
        "\n",
        "    values = self.abs_err(y_true, y_pred) * mask\n",
        "    values = tf.cast(values, self.dtype)\n",
        "    max = tf.reduce_max(values)\n",
        "    if tf.math.greater(max, self.max):\n",
        "        self.max.assign(max)\n",
        "\n",
        "  def result(self):\n",
        "    return self.max"
      ],
      "execution_count": 273,
      "outputs": []
    },
    {
      "cell_type": "code",
      "metadata": {
        "id": "7vDui_2XGhZW"
      },
      "source": [
        "LAYER_SIZE = 2048\n",
        "LATENT_DIM = LAYER_SIZE//8\n",
        "GRIPPER_WEIGHT = 1.0\n",
        "GCBC = True\n",
        "PROBABILISTIC = False\n",
        "\n",
        "adam_beta_1 = 0.9\n",
        "adam_beta_2 = 0.95\n",
        "learning_rate = 3e-3\n",
        "\n",
        "with strategy.scope():\n",
        "  nll_action_loss = lambda y, p_y: tf.reduce_sum(-p_y.log_prob(y), axis=2)\n",
        "  mae_action_loss = tf.keras.losses.MeanAbsoluteError(reduction=tf.keras.losses.Reduction.NONE)\n",
        "\n",
        "  def compute_loss(labels, predictions, mask, seq_lens, weightings=None):\n",
        "      if PROBABILISTIC:\n",
        "        per_example_loss = nll_action_loss(labels, predictions) * mask\n",
        "      else:\n",
        "        per_example_loss = mae_action_loss(labels, predictions) * mask\n",
        "\n",
        "      per_example_loss = tf.reduce_sum(per_example_loss, axis = 1) / seq_lens # take mean along the timestep\n",
        "      return tf.nn.compute_average_loss(per_example_loss, global_batch_size=GLOBAL_BATCH_SIZE)\n",
        "\n",
        "  def compute_MAE(labels, predictions, mask, seq_lens, weightings=None):\n",
        "      per_example_loss = mae_action_loss(labels, predictions) * mask\n",
        "      per_example_loss = tf.reduce_sum(per_example_loss, axis = 1) / seq_lens # take mean along the timestep\n",
        "      return tf.nn.compute_average_loss(per_example_loss, global_batch_size=GLOBAL_BATCH_SIZE)\n",
        "\n",
        "  def compute_regularisation_loss(plan, encoding):\n",
        "      # Reverse KL(enc|plan): we want planner to map to encoder (weighted by encoder)\n",
        "      reg_loss = tfd.kl_divergence(encoding, plan) #+ KL(plan, encoding)\n",
        "      return tf.nn.compute_average_loss(reg_loss, global_batch_size=GLOBAL_BATCH_SIZE)\n",
        "\n",
        "  train_loss = tf.keras.metrics.Mean(name='train_loss')\n",
        "  valid_loss = tf.keras.metrics.Mean(name='valid_loss')\n",
        "\n",
        "  train_act_with_enc_loss = tf.keras.metrics.Mean(name='train_act_with_enc_loss')\n",
        "  train_act_with_plan_loss = tf.keras.metrics.Mean(name='train_act_with_plan_loss')\n",
        "  valid_act_with_enc_loss = tf.keras.metrics.Mean(name='valid_act_with_enc_loss')\n",
        "  valid_act_with_plan_loss = tf.keras.metrics.Mean(name='valid_act_with_plan_loss')\n",
        "\n",
        "  train_reg_loss = tf.keras.metrics.Mean(name='reg_loss')\n",
        "  valid_reg_loss = tf.keras.metrics.Mean(name='valid_reg_loss')\n",
        "\n",
        "  valid_position_loss = tf.keras.metrics.Mean(name='valid_position_loss')\n",
        "  valid_max_position_loss = MaxMetric(name='valid_max_position_loss')\n",
        "  valid_rotation_loss = tf.keras.metrics.Mean(name='valid_rotation_loss')\n",
        "  valid_max_rotation_loss = MaxMetric(name='valid_max_rotation_loss')\n",
        "  valid_gripper_loss = tf.keras.metrics.Mean(name='valid_rotation_loss')\n",
        "  \n",
        "#   model_params = {'layer_size':LAYER_SIZE, 'latent_dim':LATENT_DIM}\n",
        "#   if PROBABILISTIC:\n",
        "#     actor = create_actor(**model_params, GCBC=GCBC, num_distribs=3)\n",
        "#   else:\n",
        "#     actor = create_actor(**model_params, GCBC=GCBC)\n",
        "#     encoder = create_encoder(**model_params)\n",
        "#     planner = create_planner(**model_params)\n",
        "  actor = GPT(mconf).build_graph()\n",
        "\n",
        "#   optimizer = tfa.optimizers.AdamW(weight_decay=1e-4, learning_rate=2e-4)\n",
        "  optimizer = Adam(learning_rate=learning_rate, beta_1=adam_beta_1, beta_2=adam_beta_2)\n",
        "  checkpoint = tf.train.Checkpoint(optimizer=optimizer, model=actor)\n",
        "\n",
        "# Now outside strategy .scope\n",
        "def train_step(inputs, beta):\n",
        "  with tf.GradientTape() as tape:\n",
        "    # Todo: figure out mask and seq_lens for new dataset \n",
        "    states, actions, goals, seq_lens, mask = inputs['obs'], inputs['acts'], inputs['goals'], inputs['seq_lens'], inputs['masks']\n",
        "    action_weights = (ACT_DIM-1)*[1.0] + [GRIPPER_WEIGHT] # 1 for all but gripper\n",
        "    if GCBC:\n",
        "      distrib,_ = actor([states, goals])\n",
        "      loss = compute_loss(actions, distrib, mask, seq_lens, weightings=action_weights)\n",
        "      gradients = tape.gradient(loss, actor.trainable_variables)\n",
        "      optimizer.apply_gradients(zip(gradients, actor.trainable_variables))\n",
        "    else:\n",
        "      encoding = encoder([states, actions])\n",
        "      plan = planner([states[:, 0, :], goals[:, 0, :]])  # the final goals are tiled out over the entire non masked sequence, so the first timestep is the final goal. \n",
        "      z_enc = encoding.sample()\n",
        "      z_plan = plan.sample()\n",
        "      z_enc_tiled = tf.tile(tf.expand_dims(z_enc, 1), (1, WINDOW_SIZE, 1))\n",
        "      z_plan_tiled = tf.tile(tf.expand_dims(z_plan, 1), (1, WINDOW_SIZE, 1))\n",
        "\n",
        "      enc_policy = actor([states, z_enc_tiled, goals])\n",
        "      plan_policy = actor([states, z_plan_tiled, goals])\n",
        "\n",
        "      act_enc_loss = compute_loss(actions, enc_policy, mask, seq_lens, weightings=action_weights)\n",
        "      act_plan_loss = compute_loss(actions, plan_policy, mask, seq_lens, weightings=action_weights)\n",
        "      act_loss = act_enc_loss\n",
        "      reg_loss = compute_regularisation_loss(plan, encoding)\n",
        "      train_act_with_enc_loss.update_state(act_enc_loss)\n",
        "      train_act_with_plan_loss.update_state(act_plan_loss)\n",
        "      train_reg_loss.update_state(reg_loss)\n",
        "      loss = act_loss + reg_loss * beta  \n",
        "      gradients = tape.gradient(loss, actor.trainable_variables+encoder.trainable_variables+planner.trainable_variables)\n",
        "      optimizer.apply_gradients(zip(gradients, actor.trainable_variables+encoder.trainable_variables+planner.trainable_variables))\n",
        "\n",
        "  train_loss.update_state(loss)\n",
        "  \n",
        "  return loss\n",
        "\n",
        "def test_step(inputs, beta):\n",
        "  states, actions, goals, seq_lens, mask = inputs['obs'], inputs['acts'], inputs['goals'], inputs['seq_lens'], inputs['masks']\n",
        "  action_weights = (ACT_DIM-1)*[1.0] + [GRIPPER_WEIGHT] # 1 for all but gripper\n",
        "  if QUAT:\n",
        "    # xyz, q1-4, grip\n",
        "    action_breakdown = [3,4,1]\n",
        "  else:\n",
        "    action_breakdown = [3,3,1]\n",
        "\n",
        "  if GCBC:\n",
        "    policy,_ = actor([states, goals])\n",
        "    loss = compute_loss(actions, policy, mask, seq_lens, weightings=action_weights)\n",
        "    if PROBABILISTIC:\n",
        "      pos_acts, rot_acts, grip_act = tf.split(policy.sample(), action_breakdown, -1)\n",
        "    else:\n",
        "      pos_acts, rot_acts, grip_act = tf.split(policy, action_breakdown, -1)\n",
        "  else:  \n",
        "    encoding = encoder([states, actions])\n",
        "    plan = planner([states[:, 0, :], goals[:, 0, :]])  # the final goals are tiled out over the entire non masked sequence, so the first timestep is the final goal. \n",
        "    z_enc = encoding.sample()\n",
        "    z_plan = plan.sample()\n",
        "    z_enc_tiled = tf.tile(tf.expand_dims(z_enc, 1), (1, WINDOW_SIZE, 1))\n",
        "    z_plan_tiled = tf.tile(tf.expand_dims(z_plan, 1), (1, WINDOW_SIZE, 1))\n",
        "\n",
        "    enc_policy = actor([states, z_enc_tiled, goals])\n",
        "    plan_policy = actor([states, z_plan_tiled, goals])\n",
        "\n",
        "    act_enc_loss = compute_loss(actions, enc_policy, mask, seq_lens, weightings=action_weights)\n",
        "    act_plan_loss = compute_loss(actions, plan_policy, mask, seq_lens, weightings=action_weights)\n",
        "    act_loss = act_plan_loss\n",
        "    reg_loss = compute_regularisation_loss(plan, encoding)\n",
        "    valid_act_with_enc_loss.update_state(act_enc_loss)\n",
        "    valid_act_with_plan_loss.update_state(act_plan_loss)\n",
        "    valid_reg_loss.update_state(reg_loss)\n",
        "\n",
        "    # pos, rot, gripper individual losses\n",
        "    if PROBABILISTIC:\n",
        "      pos_acts, rot_acts, grip_act = tf.split(plan_policy.sample(), action_breakdown, -1)\n",
        "    else:\n",
        "      pos_acts, rot_acts, grip_act = tf.split(plan_policy, action_breakdown, -1)\n",
        "    \n",
        "    loss = act_loss + reg_loss * beta\n",
        "\n",
        "  true_pos_acts, true_rot_acts, true_grip_act = tf.split(actions, action_breakdown, -1)\n",
        "  valid_position_loss.update_state(compute_MAE(true_pos_acts, pos_acts, mask, seq_lens))\n",
        "  valid_max_position_loss(true_pos_acts, pos_acts, mask)\n",
        "  valid_rotation_loss.update_state(compute_MAE(true_rot_acts, rot_acts, mask, seq_lens))\n",
        "  valid_max_rotation_loss(true_rot_acts, rot_acts, mask)\n",
        "  valid_gripper_loss.update_state(compute_MAE(true_grip_act, grip_act, mask, seq_lens))\n",
        "  valid_loss.update_state(loss)\n",
        "\n",
        "  if GCBC:\n",
        "    return loss\n",
        "  else:\n",
        "    return loss, z_enc, z_plan\n",
        "\n",
        "@tf.function\n",
        "def distributed_train_step(dataset_inputs, beta):\n",
        "  per_replica_losses = strategy.run(train_step, args=(dataset_inputs, beta))\n",
        "  return strategy.reduce(tf.distribute.ReduceOp.MEAN, per_replica_losses, axis=None)\n",
        "\n",
        "@tf.function\n",
        "def distributed_test_step(dataset_inputs, beta):\n",
        "  if GCBC:\n",
        "    per_replica_losses = strategy.run(test_step, args=(dataset_inputs, beta))\n",
        "    return strategy.reduce(tf.distribute.ReduceOp.MEAN, per_replica_losses, axis=None)\n",
        "  else:\n",
        "    per_replica_losses, ze, zp = strategy.run(test_step, args=(dataset_inputs, beta))\n",
        "    return strategy.reduce(tf.distribute.ReduceOp.MEAN, per_replica_losses, axis=None), ze.values[0], zp.values[0]"
      ],
      "execution_count": 274,
      "outputs": []
    },
    {
      "cell_type": "code",
      "metadata": {
        "id": "KrN8p__13pNd"
      },
      "source": [
        "train_dist_dataset = iter(strategy.experimental_distribute_dataset(train_dataset))\n",
        "valid_dist_dataset = iter(strategy.experimental_distribute_dataset(valid_dataset))"
      ],
      "execution_count": 275,
      "outputs": []
    },
    {
      "cell_type": "code",
      "metadata": {
        "id": "xtSlIEoBlDyp",
        "outputId": "9ef2a7ef-a5db-493d-aebb-f4e0ba432bd7",
        "colab": {
          "base_uri": "https://localhost:8080/",
          "height": 278
        }
      },
      "source": [
        "from train import BetaScheduler\n",
        "\n",
        "TRAIN_STEPS = 10000\n",
        "\n",
        "beta_sched = BetaScheduler('cyclic', \n",
        "                           beta=0, \n",
        "                           beta_max=1.0, \n",
        "                           max_steps=TRAIN_STEPS, \n",
        "                           cycles=5, \n",
        "                           duty_cycle=0.5\n",
        "                           )"
      ],
      "execution_count": 276,
      "outputs": [
        {
          "output_type": "display_data",
          "data": {
            "image/png": "[encoded data removed]",
            "text/plain": [
              "<Figure size 432x288 with 1 Axes>"
            ]
          },
          "metadata": {
            "tags": []
          }
        }
      ]
    },
    {
      "cell_type": "code",
      "metadata": {
        "id": "B-GxHom207-M"
      },
      "source": [
        "def save_weights(path):\n",
        "    os.makedirs(path, exist_ok=True)\n",
        "\n",
        "    print('Saving model weights...')\n",
        "    actor.save_weights(path + 'model.h5')\n",
        "    if not GCBC:\n",
        "        planner.save_weights(path + 'planner.h5')\n",
        "        encoder.save_weights(path + 'encoder.h5')\n",
        "    print('Weights saved!')"
      ],
      "execution_count": 277,
      "outputs": []
    },
    {
      "cell_type": "code",
      "metadata": {
        "id": "rhSGD_2imWDi",
        "outputId": "25d7ced7-45ef-4ae3-d9f5-28a9297bfe88",
        "colab": {
          "base_uri": "https://localhost:8080/",
          "height": 760,
          "referenced_widgets": [
            "ea64d8580e474eefa66065a4498e8c2f",
            "1e6fcf37b48149219d184d7683ad7d81",
            "f5cfb1b016d1461181527bbee632fdb3",
            "e6eef2e3803e4bd0b40ee16bf8fffc24",
            "1b85963fdfa84cc7940da4fd53af48a0",
            "9be36d41ce6e439cb49bae525c9dade7",
            "05f6cc13fa1142dbaaefe9d5003b848b",
            "c9e1431d23d54fa0b74093787de60a9d"
          ]
        }
      },
      "source": [
        "progbar = Progbar(TRAIN_STEPS, verbose=1, interval=0.5)\n",
        "best_valid_loss = np.float('inf')\n",
        "\n",
        "valid_inc = 20\n",
        "save_inc = 1000\n",
        "t = 0\n",
        "\n",
        "train_loss_result = []\n",
        "train_act_with_enc_loss_result = []\n",
        "train_act_with_plan_loss_result = []\n",
        "train_reg_loss_result = []\n",
        "valid_loss_result = []\n",
        "valid_act_with_enc_loss_result = []\n",
        "valid_act_with_plan_loss_result = []\n",
        "valid_reg_loss_result = []\n",
        "valid_position_loss_result = []\n",
        "valid_max_position_loss_result = []\n",
        "valid_rotation_loss_result = []\n",
        "valid_max_rotation_loss_result = []\n",
        "valid_gripper_loss_result = []\n",
        "beta_result = []\n",
        "latent_img_result = []\n",
        "\n",
        "# WandB\n",
        "wandb.init(project=\"learning-from-play\")\n",
        "\n",
        "config = wandb.config\n",
        "\n",
        "# Hparams\n",
        "config.DEVICE = DEVICE\n",
        "config.BATCH_SIZE_PER_REPLICA = BATCH_SIZE_PER_REPLICA\n",
        "config.WINDOW_SIZE = WINDOW_SIZE\n",
        "config.WINDOW_SHIFT = WINDOW_SHIFT\n",
        "config.SHUFFLE_SIZE = SHUFFLE_SIZE\n",
        "config.PREFETCH_SIZE = PREFETCH_SIZE\n",
        "config.NUM_WORKERS = NUM_WORKERS\n",
        "config.TRAIN_TEST_SPLIT = TRAIN_TEST_SPLIT\n",
        "config.LAYER_SIZE = LAYER_SIZE\n",
        "config.LATENT_DIM = LATENT_DIM\n",
        "config.GRIPPER_WEIGHT = GRIPPER_WEIGHT\n",
        "config.TRAIN_STEPS = TRAIN_STEPS\n",
        "config.beta_schedule = beta_sched.schedule\n",
        "config.beta_min = beta_sched.beta_min\n",
        "config.beta_max = beta_sched.beta_max\n",
        "config.learning_rate = learning_rate\n",
        "config.adam_beta_1 = adam_beta_1\n",
        "config.adam_beta_2 = adam_beta_2\n",
        "\n",
        "# Transformer hparams\n",
        "config.block_size = block_size\n",
        "config.n_layer = n_layer\n",
        "config.n_head = n_head\n",
        "config.n_embd = n_embd\n",
        "config.dropout = dropout"
      ],
      "execution_count": 278,
      "outputs": [
        {
          "output_type": "stream",
          "text": [
            "\u001b[34m\u001b[1mwandb\u001b[0m: \u001b[33mWARNING\u001b[0m Calling wandb.login() after wandb.init() has no effect.\n"
          ],
          "name": "stderr"
        },
        {
          "output_type": "display_data",
          "data": {
            "text/html": [
              "<br/>Waiting for W&B process to finish, PID 3750<br/>Program ended successfully."
            ],
            "text/plain": [
              "<IPython.core.display.HTML object>"
            ]
          },
          "metadata": {
            "tags": []
          }
        },
        {
          "output_type": "display_data",
          "data": {
            "application/vnd.jupyter.widget-view+json": {
              "model_id": "ea64d8580e474eefa66065a4498e8c2f",
              "version_minor": 0,
              "version_major": 2
            },
            "text/plain": [
              "VBox(children=(Label(value=' 0.00MB of 0.00MB uploaded (0.00MB deduped)\\r'), FloatProgress(value=1.0, max=1.0)…"
            ]
          },
          "metadata": {
            "tags": []
          }
        },
        {
          "output_type": "display_data",
          "data": {
            "text/html": [
              "Find user logs for this run at: <code>wandb/run-20201026_035552-2zxf7hn2/logs/debug.log</code>"
            ],
            "text/plain": [
              "<IPython.core.display.HTML object>"
            ]
          },
          "metadata": {
            "tags": []
          }
        },
        {
          "output_type": "display_data",
          "data": {
            "text/html": [
              "Find internal logs for this run at: <code>wandb/run-20201026_035552-2zxf7hn2/logs/debug-internal.log</code>"
            ],
            "text/plain": [
              "<IPython.core.display.HTML object>"
            ]
          },
          "metadata": {
            "tags": []
          }
        },
        {
          "output_type": "display_data",
          "data": {
            "text/html": [
              "<h3>Run summary:</h3><br/><style>\n",
              "    table.wandb td:nth-child(1) { padding: 0 10px; text-align: right }\n",
              "    </style><table class=\"wandb\">\n",
              "<tr><td>train_loss_result</td><td>0.00201</td></tr><tr><td>valid_loss_result</td><td>0.00253</td></tr><tr><td>valid_position_loss_result</td><td>0.00139</td></tr><tr><td>valid_max_position_loss_result</td><td>1.26843</td></tr><tr><td>valid_rotation_loss_result</td><td>0.00163</td></tr><tr><td>valid_max_rotation_loss_result</td><td>1.16603</td></tr><tr><td>valid_gripper_loss_result</td><td>0.00956</td></tr><tr><td>_step</td><td>2780</td></tr><tr><td>_runtime</td><td>4304</td></tr><tr><td>_timestamp</td><td>1603688859</td></tr></table>"
            ],
            "text/plain": [
              "<IPython.core.display.HTML object>"
            ]
          },
          "metadata": {
            "tags": []
          }
        },
        {
          "output_type": "display_data",
          "data": {
            "text/html": [
              "<h3>Run history:</h3><br/><style>\n",
              "    table.wandb td:nth-child(1) { padding: 0 10px; text-align: right }\n",
              "    </style><table class=\"wandb\">\n",
              "<tr><td>train_loss_result</td><td>█▃▂▂▁▁▁▁▁▁▁▁▁▁▁▁▁▁▁▁▁▁▁▁▁▁▁▁▁▁▁▁▁▁▁▁▁▁▁▁</td></tr><tr><td>valid_loss_result</td><td>█▆▃▂▂▂▂▁▁▁▁▁▁▁▁▁▁▁▁▁▁▁▁▁▁▁▁▁▁▁▁▁▁▁▁▁▁▁▁▁</td></tr><tr><td>valid_position_loss_result</td><td>█▅▂▂▁▁▁▁▁▁▁▁▁▁▁▁▁▁▁▁▁▁▁▁▁▁▁▁▁▁▁▁▁▁▁▁▁▁▁▁</td></tr><tr><td>valid_max_position_loss_result</td><td>█▄▃▂▂▂▂▂▂▂▂▂▂▂▁▂▂▁▂▁▁▁▁▁▁▁▂▁▁▂▂▁▁▁▂▁▁▁▁▁</td></tr><tr><td>valid_rotation_loss_result</td><td>█▅▃▁▁▁▁▁▁▁▁▁▁▁▁▁▁▁▁▁▁▁▁▁▁▁▁▁▁▁▁▁▁▁▁▁▁▁▁▁</td></tr><tr><td>valid_max_rotation_loss_result</td><td>█▄▂▂▂▂▁▃▂▁▁▁▁▁▁▁▂▁▁▁▁▁▁▁▁▁▁▁▁▁▁▁▁▁▁▁▁▁▁▁</td></tr><tr><td>valid_gripper_loss_result</td><td>██▆▅▄▃▃▂▂▂▂▂▂▁▁▁▁▁▁▁▁▁▁▁▁▁▁▁▁▁▁▁▁▁▁▁▁▁▁▁</td></tr><tr><td>_step</td><td>▁▁▁▂▂▂▂▂▂▃▃▃▃▃▃▄▄▄▄▄▅▅▅▅▅▅▆▆▆▆▆▆▇▇▇▇▇███</td></tr><tr><td>_runtime</td><td>▁▁▁▁▂▂▂▂▂▂▃▃▃▃▃▃▄▄▄▄▄▄▄▅▅▅▅▅▅▆▆▆▆▆▆▇▇▇▇█</td></tr><tr><td>_timestamp</td><td>▁▁▁▁▂▂▂▂▂▂▃▃▃▃▃▃▄▄▄▄▄▄▄▅▅▅▅▅▅▆▆▆▆▆▆▇▇▇▇█</td></tr></table><br/>"
            ],
            "text/plain": [
              "<IPython.core.display.HTML object>"
            ]
          },
          "metadata": {
            "tags": []
          }
        },
        {
          "output_type": "display_data",
          "data": {
            "text/html": [
              "Synced 5 W&B file(s), 0 media file(s), 0 artifact file(s) and 0 other file(s)"
            ],
            "text/plain": [
              "<IPython.core.display.HTML object>"
            ]
          },
          "metadata": {
            "tags": []
          }
        },
        {
          "output_type": "display_data",
          "data": {
            "text/html": [
              "\n",
              "                    <br/>Synced <strong style=\"color:#cdcd00\">warm-night-81</strong>: <a href=\"https://wandb.ai/tfrizza/learning-from-play/runs/2zxf7hn2\" target=\"_blank\">https://wandb.ai/tfrizza/learning-from-play/runs/2zxf7hn2</a><br/>\n",
              "                "
            ],
            "text/plain": [
              "<IPython.core.display.HTML object>"
            ]
          },
          "metadata": {
            "tags": []
          }
        },
        {
          "output_type": "display_data",
          "data": {
            "text/html": [
              "\n",
              "                Tracking run with wandb version 0.10.8<br/>\n",
              "                Syncing run <strong style=\"color:#cdcd00\">radiant-haze-82</strong> to <a href=\"https://wandb.ai\" target=\"_blank\">Weights & Biases</a> <a href=\"https://docs.wandb.com/integrations/jupyter.html\" target=\"_blank\">(Documentation)</a>.<br/>\n",
              "                Project page: <a href=\"https://wandb.ai/tfrizza/learning-from-play\" target=\"_blank\">https://wandb.ai/tfrizza/learning-from-play</a><br/>\n",
              "                Run page: <a href=\"https://wandb.ai/tfrizza/learning-from-play/runs/q6cxzw5a\" target=\"_blank\">https://wandb.ai/tfrizza/learning-from-play/runs/q6cxzw5a</a><br/>\n",
              "                Run data is saved locally in <code>wandb/run-20201026_050739-q6cxzw5a</code><br/><br/>\n",
              "            "
            ],
            "text/plain": [
              "<IPython.core.display.HTML object>"
            ]
          },
          "metadata": {
            "tags": []
          }
        }
      ]
    },
    {
      "cell_type": "code",
      "metadata": {
        "id": "TQFbEKVNLq2s"
      },
      "source": [
        "wandb.run.name = \"GCBC_GPT_L2H2E128_drop0.3\"\n",
        "\n",
        "model_name = wandb.run.name\n",
        "model_path = f'/content/drive/My Drive/Robotic Learning/LMP_test/{model_name}/'"
      ],
      "execution_count": 279,
      "outputs": []
    },
    {
      "cell_type": "code",
      "metadata": {
        "id": "IXF0Y8aKrsng",
        "outputId": "6ea9b442-4007-4358-82c3-161a5c09e286",
        "colab": {
          "base_uri": "https://localhost:8080/",
          "height": 390
        }
      },
      "source": [
        "while t < TRAIN_STEPS:\n",
        "    beta = beta_sched.scheduler(t)\n",
        "    x = next(train_dist_dataset)\n",
        "    total_train_loss = distributed_train_step(x, beta)\n",
        "    \n",
        "    if t % valid_inc == 0:\n",
        "        valid_x = next(valid_dist_dataset)\n",
        "        if GCBC:\n",
        "          total_val_loss = distributed_test_step(valid_x, beta)\n",
        "        else:\n",
        "          total_val_loss, ze, zp = distributed_test_step(valid_x, beta)\n",
        "\n",
        "        # validation plotting\n",
        "        progbar.add(valid_inc, [('Train Loss', train_loss.result()), ('Validation Loss', valid_loss.result())])\n",
        "\n",
        "        train_loss_result.append(train_loss.result())\n",
        "        valid_loss_result.append(valid_loss.result())\n",
        "        valid_position_loss_result.append(valid_position_loss.result())\n",
        "        valid_max_position_loss_result.append(valid_max_position_loss.result())\n",
        "        valid_rotation_loss_result.append(valid_rotation_loss.result())\n",
        "        valid_max_rotation_loss_result.append(valid_max_rotation_loss.result())\n",
        "        valid_gripper_loss_result.append(valid_gripper_loss.result())\n",
        "\n",
        "        if GCBC:\n",
        "          wandb.log({'train_loss_result':train_loss_result[-1],\n",
        "                      'valid_loss_result':valid_loss_result[-1],\n",
        "                      'valid_position_loss_result':valid_position_loss_result[-1],\n",
        "                      'valid_max_position_loss_result':valid_max_position_loss_result[-1],\n",
        "                      'valid_rotation_loss_result':valid_rotation_loss_result[-1],\n",
        "                      'valid_max_rotation_loss_result':valid_max_rotation_loss_result[-1],\n",
        "                      'valid_gripper_loss_result':valid_gripper_loss_result[-1]\n",
        "                    },\n",
        "                    step=t)\n",
        "        else:\n",
        "          # Latent space projection\n",
        "          latent_fig = project_latents(reducer, ze, zp)\n",
        "          latent_img = plot_to_image(latent_fig)\n",
        "          train_act_with_enc_loss_result.append(train_act_with_enc_loss.result())\n",
        "          train_act_with_plan_loss_result.append(train_act_with_plan_loss.result())\n",
        "          train_reg_loss_result.append(train_reg_loss.result())\n",
        "          valid_act_with_enc_loss_result.append(valid_act_with_enc_loss.result())\n",
        "          valid_act_with_plan_loss_result.append(valid_act_with_plan_loss.result())\n",
        "          valid_reg_loss_result.append(valid_reg_loss.result())\n",
        "          beta_result.append(beta)\n",
        "          latent_img_result.append(latent_img)\n",
        "\n",
        "          wandb.log({'train_loss_result':train_loss_result[-1],\n",
        "                      'train_act_with_enc_loss_result':train_act_with_enc_loss_result[-1],\n",
        "                      'train_act_with_plan_loss_result':train_act_with_plan_loss_result[-1],\n",
        "                      'train_reg_loss_result':train_reg_loss_result[-1],\n",
        "                      'valid_loss_result':valid_loss_result[-1],\n",
        "                      'valid_act_with_enc_loss_result':valid_act_with_enc_loss_result[-1],\n",
        "                      'valid_act_with_plan_loss_result':valid_act_with_plan_loss_result[-1],\n",
        "                      'valid_reg_loss_result':valid_reg_loss_result[-1],\n",
        "                      'valid_position_loss_result':valid_position_loss_result[-1],\n",
        "                      'valid_max_position_loss_result':valid_max_position_loss_result[-1],\n",
        "                      'valid_rotation_loss_result':valid_rotation_loss_result[-1],\n",
        "                      'valid_max_rotation_loss_result':valid_max_rotation_loss_result[-1],\n",
        "                      'valid_gripper_loss_result':valid_gripper_loss_result[-1],\n",
        "                      'beta_result':beta_result[-1],\n",
        "                      'latent_img_result':latent_fig,\n",
        "                    },\n",
        "                    step=t)\n",
        "\n",
        "        # reset metrics\n",
        "        train_loss.reset_states()\n",
        "        train_act_with_enc_loss.reset_states()\n",
        "        train_act_with_plan_loss.reset_states()\n",
        "        train_reg_loss.reset_states()\n",
        "        valid_loss.reset_states()\n",
        "        valid_act_with_enc_loss.reset_states()\n",
        "        valid_act_with_plan_loss.reset_states()\n",
        "        valid_reg_loss.reset_states()\n",
        "\n",
        "        valid_position_loss.reset_states()\n",
        "        valid_max_position_loss.reset_states()\n",
        "        valid_rotation_loss.reset_states()\n",
        "        valid_max_rotation_loss.reset_states()\n",
        "        valid_gripper_loss.reset_states()\n",
        "\n",
        "    if t % save_inc == 0:\n",
        "        save_weights(model_path)\n",
        "\n",
        "    t += 1"
      ],
      "execution_count": 280,
      "outputs": [
        {
          "output_type": "stream",
          "text": [
            "\r   20/10000 [..............................] - ETA: 4:43:22 - Train Loss: 0.1324 - Validation Loss: 0.2120Saving model weights...\n",
            "Weights saved!\n",
            " 1020/10000 [==>...........................] - ETA: 3:29:10 - Train Loss: 0.0097 - Validation Loss: 0.0104Saving model weights...\n",
            "Weights saved!\n",
            " 2020/10000 [=====>........................] - ETA: 3:07:22 - Train Loss: 0.0062 - Validation Loss: 0.0067Saving model weights...\n",
            "Weights saved!\n",
            " 3020/10000 [========>.....................] - ETA: 2:44:08 - Train Loss: 0.0049 - Validation Loss: 0.0054Saving model weights...\n",
            "Weights saved!\n",
            " 4020/10000 [===========>..................] - ETA: 2:20:57 - Train Loss: 0.0042 - Validation Loss: 0.0047Saving model weights...\n",
            "Weights saved!\n",
            " 5020/10000 [==============>...............] - ETA: 1:57:10 - Train Loss: 0.0038 - Validation Loss: 0.0042Saving model weights...\n",
            "Weights saved!\n",
            " 6020/10000 [=================>............] - ETA: 1:33:32 - Train Loss: 0.0035 - Validation Loss: 0.0039Saving model weights...\n",
            "Weights saved!\n",
            " 7020/10000 [====================>.........] - ETA: 1:09:58 - Train Loss: 0.0033 - Validation Loss: 0.0037Saving model weights...\n",
            "Weights saved!\n",
            " 8020/10000 [=======================>......] - ETA: 46:25 - Train Loss: 0.0031 - Validation Loss: 0.0035Saving model weights...\n",
            "Weights saved!\n",
            " 9020/10000 [==========================>...] - ETA: 23:00 - Train Loss: 0.0029 - Validation Loss: 0.0034Saving model weights...\n",
            "Weights saved!\n",
            "10000/10000 [==============================] - 14080s 1s/step - Train Loss: 0.0028 - Validation Loss: 0.0033\n"
          ],
          "name": "stdout"
        }
      ]
    },
    {
      "cell_type": "code",
      "metadata": {
        "id": "DSR8b5qRwuvu",
        "outputId": "6b83be9e-6fad-4e92-9d10-08e017249aff",
        "colab": {
          "base_uri": "https://localhost:8080/",
          "height": 52
        }
      },
      "source": [
        "save_weights(model_path)"
      ],
      "execution_count": 281,
      "outputs": [
        {
          "output_type": "stream",
          "text": [
            "Saving model weights...\n",
            "Weights saved!\n"
          ],
          "name": "stdout"
        }
      ]
    },
    {
      "cell_type": "code",
      "metadata": {
        "id": "YUa6rnToIIhI",
        "cellView": "both",
        "outputId": "f702ea90-ada3-4fe1-b7b3-ed03ba82f6e8",
        "colab": {
          "base_uri": "https://localhost:8080/",
          "height": 307
        }
      },
      "source": [
        "#@title Broke man's Tensorboard\n",
        "s = np.arange(t, step=valid_inc)\n",
        "\n",
        "# hparams/\n",
        "if not GCBC:\n",
        "  f1,ax1 = plt.subplots(1,1, figsize=(6,5))\n",
        "  ax1.plot(s, beta_result, label='beta')\n",
        "  ax1.set_title('beta')\n",
        "\n",
        "# losses/\n",
        "f2,ax2 = plt.subplots(1,4, figsize=(30,5))\n",
        "ax2[0].plot(s, train_loss_result, label='train')\n",
        "ax2[0].plot(s, valid_loss_result, label='valid')\n",
        "ax2[0].set_title('loss')\n",
        "#ax2[0].set_ylim(0,1e-3)\n",
        "if not GCBC:\n",
        "  ax2[1].plot(s, train_act_with_enc_loss_result, label='train')\n",
        "  ax2[1].plot(s, valid_act_with_enc_loss_result, label='valid')\n",
        "  ax2[1].set_title('act_with_enc_loss')\n",
        "  ax2[1].set_ylim(0,5e-4)\n",
        "  ax2[2].plot(s, train_act_with_plan_loss_result, label='train')\n",
        "  ax2[2].plot(s, valid_act_with_plan_loss_result, label='valid')\n",
        "  ax2[2].set_title('act_with_plan_loss')\n",
        "  ax2[2].set_ylim(0,7e-4)\n",
        "  ax2[3].plot(s, train_reg_loss_result, label='train')\n",
        "  ax2[3].plot(s, valid_reg_loss_result, label='valid')\n",
        "  ax2[3].set_title('reg_loss')\n",
        "  [ax.legend() for ax in ax2]\n",
        "# [ax.set_yscale('log') for ax in ax2]\n",
        "\n",
        "  # images/\n",
        "  f3,ax3 = plt.subplots(1,1, figsize=(6,5))\n",
        "  ax3.imshow(latent_img_result[-1].numpy()[0], label='latent_img_result')\n",
        "  ax3.set_title('Latent space projection')\n",
        "\n",
        "  plt.show()"
      ],
      "execution_count": null,
      "outputs": [
        {
          "output_type": "display_data",
          "data": {
            "image/png": "[encoded data removed]",
            "text/plain": [
              "<Figure size 2160x360 with 4 Axes>"
            ]
          },
          "metadata": {
            "tags": []
          }
        }
      ]
    },
    {
      "cell_type": "code",
      "metadata": {
        "id": "wnsg9ZwI8RNR"
      },
      "source": [
        "# %tensorboard --logdir {tb_base_dir}\n",
        "# model_name =\"GCBC_vel_rpy_aug_rel_rpy_states'\"\n",
        "# model_path = f'/content/drive/My Drive/Robotic Learning/LMP_test/{model_name}/'\n",
        "# actor.load_weights(f'{model_path}/model.h5')"
      ],
      "execution_count": null,
      "outputs": []
    },
    {
      "cell_type": "code",
      "metadata": {
        "id": "-Cs00c5NE6VW",
        "cellView": "both"
      },
      "source": [
        "#@title Sample a batch for timeseries plotting\n",
        "# Lets plot pred actions vs true actions\n",
        "v_it = iter(valid_dataset.repeat())\n",
        "batch = v_it.next()\n",
        "states,acts,goals,seq_lens,masks = batch['obs'],batch['acts'],batch['goals'],batch['seq_lens'],batch['masks']\n",
        "if GCBC:\n",
        "  pred_acts, att = actor([states, goals])\n",
        "else:\n",
        "  encoding = encoder([states,acts])\n",
        "  plan = planner([states[:, 0, :], goals[:, 0, :]]) # TODO this is really aggravating, if we have variable sequence lengths we need to pass\n",
        "                                                        # Through the indices of the final index, can't just use the last 1, unless we copy it out instead of tiling?\n",
        "  # check if encoder is overfitting on validation\n",
        "  z_enc = z = tf.tile(tf.expand_dims(encoding.sample(), 1), (1, WINDOW_SIZE, 1))\n",
        "  enc_act_distrib = actor([states, z_enc, goals])\n",
        "\n",
        "  # true validation performance, w/ planner\n",
        "  z = tf.tile(tf.expand_dims(plan.sample(), 1), (1, WINDOW_SIZE, 1))\n",
        "  pred_acts = actor([states, z, goals]) # TODO Check can you backprop through samples"
      ],
      "execution_count": 298,
      "outputs": []
    },
    {
      "cell_type": "code",
      "metadata": {
        "id": "ERW0YID3FykT",
        "cellView": "both",
        "outputId": "ff662439-e966-4298-cd2b-9416624cf2a9",
        "colab": {
          "base_uri": "https://localhost:8080/",
          "height": 878
        }
      },
      "source": [
        "#@title Plot timeseries of state/action tracking over time - xyz q1234 gripper\n",
        "import seaborn as sns\n",
        "sns.set_style(\"darkgrid\")\n",
        "\n",
        "idx = 12\n",
        "seq_len = int(seq_lens[idx])\n",
        "x = np.arange(seq_len)\n",
        "labels = ['x','y','z','q1','q2','q3','q4','gripper']\n",
        "fig, axes = plt.subplots(ACT_DIM, 1, figsize=(10,12), squeeze=True)\n",
        "for i in range(ACT_DIM):\n",
        "    #sns.lineplot(x, acts[idx,:seq_len,i], color='r', ax=axes[i])\n",
        "    axes[i].plot(acts[idx,:seq_len,i])\n",
        "    axes[i].plot(pred_acts[idx, :seq_len,i])\n",
        "    #sns.lineplot(x, pred_acts[idx, :seq_len,i], color='g', ax=axes[i])\n",
        "    if not GCBC:\n",
        "      sns.lineplot(x, enc_act_distrib[idx, :seq_len,i], color='b', ax=axes[i])\n",
        "      axes[i].set_title(f'$\\\\bf{labels[i]}$')\n",
        "    \n",
        "fig.legend( ('true action', 'predicted action', 'encoder_action'))    \n",
        "plt.tight_layout()\n",
        "plt.show()"
      ],
      "execution_count": 299,
      "outputs": [
        {
          "output_type": "display_data",
          "data": {
            "image/png": "[encoded data removed]",
            "text/plain": [
              "<Figure size 720x864 with 8 Axes>"
            ]
          },
          "metadata": {
            "tags": []
          }
        }
      ]
    },
    {
      "cell_type": "code",
      "metadata": {
        "id": "Rc07HVsIPLFj"
      },
      "source": [
        "def plot_attention_weights(attention, layer, batch_idx):\n",
        "    \"\"\" attention[layer][batch_idx,head_idx,:,:] \"\"\"\n",
        "    fig = plt.figure(figsize=(16, 8))\n",
        "    attention = attention[layer][batch_idx] # layer, head, time, time\n",
        "\n",
        "    for head in range(attention.shape[0]):\n",
        "        ax = fig.add_subplot(2, 4, head+1)\n",
        "\n",
        "        # plot the attention weights\n",
        "        ax.matshow(attention[head,:,:])#, cmap='viridis')\n",
        "        ax.set_xlabel('Head {}'.format(head+1))\n",
        "        ax.grid(False)\n",
        "\n",
        "    plt.tight_layout()\n",
        "    plt.show()"
      ],
      "execution_count": 300,
      "outputs": []
    },
    {
      "cell_type": "code",
      "metadata": {
        "id": "xVFtjUSpPelP",
        "outputId": "c94301fb-9617-4a29-e5b2-dd904130e4e2",
        "colab": {
          "base_uri": "https://localhost:8080/",
          "height": 316
        }
      },
      "source": [
        "plot_attention_weights(att, 0, idx)"
      ],
      "execution_count": 301,
      "outputs": [
        {
          "output_type": "display_data",
          "data": {
            "image/png": "[encoded data removed]",
            "text/plain": [
              "<Figure size 1152x576 with 2 Axes>"
            ]
          },
          "metadata": {
            "tags": []
          }
        }
      ]
    },
    {
      "cell_type": "markdown",
      "metadata": {
        "id": "VSBpZPfv1ohn"
      },
      "source": [
        "#Eval"
      ]
    },
    {
      "cell_type": "code",
      "metadata": {
        "id": "TCbNuZPq1nuH"
      },
      "source": [
        "# path = 'GCBCBoi'\n",
        "# if GCBC:\n",
        "#     actor.load_weights(f'saved_models/{path}/model.h5')\n",
        "# else:\n",
        "#     encoder.load_weights(f'saved_models/{path}/encoder.h5')\n",
        "#     planner.load_weights(f'saved_models/{path}/planner.h5')"
      ],
      "execution_count": null,
      "outputs": []
    },
    {
      "cell_type": "code",
      "metadata": {
        "id": "rR24HnPP11p5",
        "outputId": "b201804d-054d-42c9-8b4f-6009a0fb6a8e",
        "colab": {
          "base_uri": "https://localhost:8080/",
          "height": 105
        }
      },
      "source": [
        "import time\n",
        "import pandaRL\n",
        "import gym\n",
        "import matplotlib.pyplot as plt \n",
        "from IPython.display import display, clear_output\n",
        "import imageio\n",
        "import eval\n",
        "\n",
        "if JOINTS and RELATIVE:\n",
        "    env = gym.make('pandaPlayRelJoints1Obj-v0')\n",
        "elif JOINTS and not RELATIVE:\n",
        "    env = gym.make('pandaPlayAbsJoints1Obj-v0')\n",
        "elif not JOINTS and RELATIVE and QUAT:\n",
        "    env = gym.make('pandaPlayRel1Obj-v0')\n",
        "elif not JOINTS and RELATIVE and not QUAT:\n",
        "    env = gym.make('pandaPlayRelRPY1Obj-v0')\n",
        "elif not JOINTS and not RELATIVE and not QUAT:\n",
        "    env = gym.make('pandaPlayAbsRPY1Obj-v0')\n",
        "else:\n",
        "    env = gym.make('pandaPlay1Obj-v0')\n",
        "\n",
        "env.reset()\n",
        "env.render('playback')"
      ],
      "execution_count": 258,
      "outputs": [
        {
          "output_type": "stream",
          "text": [
            "current_dir=/content/local_packages/pandaRL/pandaRL/envs\n",
            "current_dir=/content/local_packages/pandaRL/pandaRL/envs\n",
            "/content/local_packages/pandaRL/pandaRL/envs\n"
          ],
          "name": "stdout"
        },
        {
          "output_type": "stream",
          "text": [
            "/usr/local/lib/python3.6/dist-packages/gym/logger.py:30: UserWarning: \u001b[33mWARN: Box bound precision lowered by casting to float32\u001b[0m\n",
            "  warnings.warn(colorize('%s: %s'%('WARN', msg % args), 'yellow'))\n"
          ],
          "name": "stderr"
        }
      ]
    },
    {
      "cell_type": "code",
      "metadata": {
        "id": "szPlmBL62cDo"
      },
      "source": [
        "# model_params = {'layer_size':LAYER_SIZE, 'latent_dim':LATENT_DIM, 'training':False}\n",
        "# if PROBABILISTIC:\n",
        "#     actor = create_actor(**model_params, GCBC=GCBC, num_distribs=3)\n",
        "# else:\n",
        "#     actor = create_actor(**model_params, GCBC=GCBC)\n",
        "# actor.load_weights(f'{model_path}/model.h5')"
      ],
      "execution_count": 259,
      "outputs": []
    },
    {
      "cell_type": "code",
      "metadata": {
        "id": "BzJnq2Z82q0B"
      },
      "source": [
        "# Lets plot pred actions vs true actions\n",
        "v_it = iter(valid_dataset.repeat())"
      ],
      "execution_count": 260,
      "outputs": []
    },
    {
      "cell_type": "code",
      "metadata": {
        "id": "cGkulvRm43BE",
        "outputId": "5684611b-e8dd-4905-cf6a-4fe845cac4ad",
        "colab": {
          "base_uri": "https://localhost:8080/",
          "height": 34
        }
      },
      "source": [
        "# Play out action histories\n",
        "f = 12\n",
        "eval_data = np.load(PYBULLET_DATA_DIR+'/obs_act_etc/'+str(f)+'/data.npz')\n",
        "potential_start_points = glob.glob(PYBULLET_DATA_DIR+'/states_and_ims/'+str(f)+'/env_states/*.bullet')\n",
        "\n",
        "achieved_goals = eval_data['achieved_goals']\n",
        "\n",
        "if JOINTS:\n",
        "    if RELATIVE:\n",
        "      rel = eval_data['target_poses'] - eval_data['joint_poses'][:,:7]\n",
        "    else:\n",
        "      rel = eval_data['target_poses']\n",
        "\n",
        "    gripper = eval_data['acts'][:,-1,tf.newaxis]\n",
        "    actions = tf.concat([rel, gripper], axis=-1)\n",
        "    observations = tf.concat([eval_data['obs'],eval_data['joint_poses'][:,:7]], axis=-1)#.astype('float32')\n",
        "else:\n",
        "    if USE_QUAT_OBS:\n",
        "      observations = eval_data['obs']\n",
        "    else:\n",
        "      observations = eval_data['rpy_obs']\n",
        "    if RELATIVE:\n",
        "        if QUAT:\n",
        "          rel = eval_data['acts'][:,:7] - eval_data['obs'][:,:7]\n",
        "        else:\n",
        "          rel = eval_data['acts_rpy_rel'][:,:6]\n",
        "        \n",
        "        gripper = eval_data['acts'][:,-1,tf.newaxis]\n",
        "        actions = tf.concat([rel, gripper], axis=-1)\n",
        "    else:\n",
        "        if QUAT:\n",
        "            acts = eval_data['acts']\n",
        "        else:\n",
        "            acts = eval_data['acts_rpy']\n",
        "\n",
        "if VELOCITY:\n",
        "  observations = tf.concat([observations, eval_data['velocities']],-1)\n",
        "\n",
        "def get_random_start_point(potential_start_points):\n",
        "    idx = np.random.choice(len(potential_start_points))\n",
        "    path = potential_start_points[idx]\n",
        "    tstep = int(path.split(\"/\")[-1].replace('.bullet',''))\n",
        "    return path, tstep\n",
        "\n",
        "print(observations.shape, actions.shape)"
      ],
      "execution_count": 261,
      "outputs": [
        {
          "output_type": "stream",
          "text": [
            "(3796, 25) (3796, 8)\n"
          ],
          "name": "stdout"
        }
      ]
    },
    {
      "cell_type": "code",
      "metadata": {
        "id": "73a0kl2J54iY"
      },
      "source": [
        "path, start = get_random_start_point(potential_start_points)\n",
        "env.p.restoreState(fileName=path)"
      ],
      "execution_count": 262,
      "outputs": []
    },
    {
      "cell_type": "code",
      "metadata": {
        "id": "rvXQpx7_4rEJ",
        "outputId": "340fe66e-0b8e-4d3b-dcec-412141663290",
        "colab": {
          "base_uri": "https://localhost:8080/",
          "height": 424
        }
      },
      "source": [
        "vid_path = 'output/videos/trajectory.mp4'\n",
        "with imageio.get_writer(vid_path, mode='I') as writer:\n",
        "    for i in range(start, start+WINDOW_SIZE):\n",
        "        o ,r, d, _ = env.step(actions[i,:])\n",
        "        writer.append_data(o['img'])\n",
        "        clear_output(wait=True)\n",
        "        fig = plt.imshow(o['img'])\n",
        "        plt.show()\n",
        "        #time.sleep(0.01)"
      ],
      "execution_count": 263,
      "outputs": [
        {
          "output_type": "error",
          "ename": "ValueError",
          "evalue": "ignored",
          "traceback": [
            "\u001b[0;31m---------------------------------------------------------------------------\u001b[0m",
            "\u001b[0;31mValueError\u001b[0m                                Traceback (most recent call last)",
            "\u001b[0;32m<ipython-input-263-803b44e80b7b>\u001b[0m in \u001b[0;36m<module>\u001b[0;34m()\u001b[0m\n\u001b[1;32m      2\u001b[0m \u001b[0;32mwith\u001b[0m \u001b[0mimageio\u001b[0m\u001b[0;34m.\u001b[0m\u001b[0mget_writer\u001b[0m\u001b[0;34m(\u001b[0m\u001b[0mvid_path\u001b[0m\u001b[0;34m,\u001b[0m \u001b[0mmode\u001b[0m\u001b[0;34m=\u001b[0m\u001b[0;34m'I'\u001b[0m\u001b[0;34m)\u001b[0m \u001b[0;32mas\u001b[0m \u001b[0mwriter\u001b[0m\u001b[0;34m:\u001b[0m\u001b[0;34m\u001b[0m\u001b[0;34m\u001b[0m\u001b[0m\n\u001b[1;32m      3\u001b[0m     \u001b[0;32mfor\u001b[0m \u001b[0mi\u001b[0m \u001b[0;32min\u001b[0m \u001b[0mrange\u001b[0m\u001b[0;34m(\u001b[0m\u001b[0mstart\u001b[0m\u001b[0;34m,\u001b[0m \u001b[0mstart\u001b[0m\u001b[0;34m+\u001b[0m\u001b[0mWINDOW_SIZE\u001b[0m\u001b[0;34m)\u001b[0m\u001b[0;34m:\u001b[0m\u001b[0;34m\u001b[0m\u001b[0;34m\u001b[0m\u001b[0m\n\u001b[0;32m----> 4\u001b[0;31m         \u001b[0mo\u001b[0m \u001b[0;34m,\u001b[0m\u001b[0mr\u001b[0m\u001b[0;34m,\u001b[0m \u001b[0md\u001b[0m\u001b[0;34m,\u001b[0m \u001b[0m_\u001b[0m \u001b[0;34m=\u001b[0m \u001b[0menv\u001b[0m\u001b[0;34m.\u001b[0m\u001b[0mstep\u001b[0m\u001b[0;34m(\u001b[0m\u001b[0mactions\u001b[0m\u001b[0;34m[\u001b[0m\u001b[0mi\u001b[0m\u001b[0;34m,\u001b[0m\u001b[0;34m:\u001b[0m\u001b[0;34m]\u001b[0m\u001b[0;34m)\u001b[0m\u001b[0;34m\u001b[0m\u001b[0;34m\u001b[0m\u001b[0m\n\u001b[0m\u001b[1;32m      5\u001b[0m         \u001b[0mwriter\u001b[0m\u001b[0;34m.\u001b[0m\u001b[0mappend_data\u001b[0m\u001b[0;34m(\u001b[0m\u001b[0mo\u001b[0m\u001b[0;34m[\u001b[0m\u001b[0;34m'img'\u001b[0m\u001b[0;34m]\u001b[0m\u001b[0;34m)\u001b[0m\u001b[0;34m\u001b[0m\u001b[0;34m\u001b[0m\u001b[0m\n\u001b[1;32m      6\u001b[0m         \u001b[0mclear_output\u001b[0m\u001b[0;34m(\u001b[0m\u001b[0mwait\u001b[0m\u001b[0;34m=\u001b[0m\u001b[0;32mTrue\u001b[0m\u001b[0;34m)\u001b[0m\u001b[0;34m\u001b[0m\u001b[0;34m\u001b[0m\u001b[0m\n",
            "\u001b[0;32m/content/local_packages/pandaRL/pandaRL/envs/environments.py\u001b[0m in \u001b[0;36mstep\u001b[0;34m(self, action)\u001b[0m\n\u001b[1;32m   1050\u001b[0m     \u001b[0;32mdef\u001b[0m \u001b[0mstep\u001b[0m\u001b[0;34m(\u001b[0m\u001b[0mself\u001b[0m\u001b[0;34m,\u001b[0m \u001b[0maction\u001b[0m\u001b[0;34m=\u001b[0m \u001b[0;32mNone\u001b[0m\u001b[0;34m)\u001b[0m\u001b[0;34m:\u001b[0m\u001b[0;34m\u001b[0m\u001b[0;34m\u001b[0m\u001b[0m\n\u001b[1;32m   1051\u001b[0m         \u001b[0;31m#bound the action to within allowable limits\u001b[0m\u001b[0;34m\u001b[0m\u001b[0;34m\u001b[0m\u001b[0;34m\u001b[0m\u001b[0m\n\u001b[0;32m-> 1052\u001b[0;31m         \u001b[0maction\u001b[0m \u001b[0;34m=\u001b[0m \u001b[0mnp\u001b[0m\u001b[0;34m.\u001b[0m\u001b[0mclip\u001b[0m\u001b[0;34m(\u001b[0m\u001b[0maction\u001b[0m\u001b[0;34m,\u001b[0m \u001b[0mself\u001b[0m\u001b[0;34m.\u001b[0m\u001b[0maction_space\u001b[0m\u001b[0;34m.\u001b[0m\u001b[0mlow\u001b[0m\u001b[0;34m,\u001b[0m \u001b[0mself\u001b[0m\u001b[0;34m.\u001b[0m\u001b[0maction_space\u001b[0m\u001b[0;34m.\u001b[0m\u001b[0mhigh\u001b[0m\u001b[0;34m)\u001b[0m\u001b[0;34m\u001b[0m\u001b[0;34m\u001b[0m\u001b[0m\n\u001b[0m\u001b[1;32m   1053\u001b[0m         \u001b[0;32mif\u001b[0m \u001b[0mself\u001b[0m\u001b[0;34m.\u001b[0m\u001b[0maction_type\u001b[0m \u001b[0;34m==\u001b[0m \u001b[0;34m'absolute'\u001b[0m\u001b[0;34m:\u001b[0m\u001b[0;34m\u001b[0m\u001b[0;34m\u001b[0m\u001b[0m\n\u001b[1;32m   1054\u001b[0m             \u001b[0mtargetPoses\u001b[0m \u001b[0;34m=\u001b[0m \u001b[0mself\u001b[0m\u001b[0;34m.\u001b[0m\u001b[0mpanda\u001b[0m\u001b[0;34m.\u001b[0m\u001b[0mabsolute_step\u001b[0m\u001b[0;34m(\u001b[0m\u001b[0maction\u001b[0m\u001b[0;34m)\u001b[0m\u001b[0;34m\u001b[0m\u001b[0;34m\u001b[0m\u001b[0m\n",
            "\u001b[0;32m<__array_function__ internals>\u001b[0m in \u001b[0;36mclip\u001b[0;34m(*args, **kwargs)\u001b[0m\n",
            "\u001b[0;32m/usr/local/lib/python3.6/dist-packages/numpy/core/fromnumeric.py\u001b[0m in \u001b[0;36mclip\u001b[0;34m(a, a_min, a_max, out, **kwargs)\u001b[0m\n\u001b[1;32m   2082\u001b[0m \u001b[0;34m\u001b[0m\u001b[0m\n\u001b[1;32m   2083\u001b[0m     \"\"\"\n\u001b[0;32m-> 2084\u001b[0;31m     \u001b[0;32mreturn\u001b[0m \u001b[0m_wrapfunc\u001b[0m\u001b[0;34m(\u001b[0m\u001b[0ma\u001b[0m\u001b[0;34m,\u001b[0m \u001b[0;34m'clip'\u001b[0m\u001b[0;34m,\u001b[0m \u001b[0ma_min\u001b[0m\u001b[0;34m,\u001b[0m \u001b[0ma_max\u001b[0m\u001b[0;34m,\u001b[0m \u001b[0mout\u001b[0m\u001b[0;34m=\u001b[0m\u001b[0mout\u001b[0m\u001b[0;34m,\u001b[0m \u001b[0;34m**\u001b[0m\u001b[0mkwargs\u001b[0m\u001b[0;34m)\u001b[0m\u001b[0;34m\u001b[0m\u001b[0;34m\u001b[0m\u001b[0m\n\u001b[0m\u001b[1;32m   2085\u001b[0m \u001b[0;34m\u001b[0m\u001b[0m\n\u001b[1;32m   2086\u001b[0m \u001b[0;34m\u001b[0m\u001b[0m\n",
            "\u001b[0;32m/usr/local/lib/python3.6/dist-packages/numpy/core/fromnumeric.py\u001b[0m in \u001b[0;36m_wrapfunc\u001b[0;34m(obj, method, *args, **kwds)\u001b[0m\n\u001b[1;32m     56\u001b[0m     \u001b[0mbound\u001b[0m \u001b[0;34m=\u001b[0m \u001b[0mgetattr\u001b[0m\u001b[0;34m(\u001b[0m\u001b[0mobj\u001b[0m\u001b[0;34m,\u001b[0m \u001b[0mmethod\u001b[0m\u001b[0;34m,\u001b[0m \u001b[0;32mNone\u001b[0m\u001b[0;34m)\u001b[0m\u001b[0;34m\u001b[0m\u001b[0;34m\u001b[0m\u001b[0m\n\u001b[1;32m     57\u001b[0m     \u001b[0;32mif\u001b[0m \u001b[0mbound\u001b[0m \u001b[0;32mis\u001b[0m \u001b[0;32mNone\u001b[0m\u001b[0;34m:\u001b[0m\u001b[0;34m\u001b[0m\u001b[0;34m\u001b[0m\u001b[0m\n\u001b[0;32m---> 58\u001b[0;31m         \u001b[0;32mreturn\u001b[0m \u001b[0m_wrapit\u001b[0m\u001b[0;34m(\u001b[0m\u001b[0mobj\u001b[0m\u001b[0;34m,\u001b[0m \u001b[0mmethod\u001b[0m\u001b[0;34m,\u001b[0m \u001b[0;34m*\u001b[0m\u001b[0margs\u001b[0m\u001b[0;34m,\u001b[0m \u001b[0;34m**\u001b[0m\u001b[0mkwds\u001b[0m\u001b[0;34m)\u001b[0m\u001b[0;34m\u001b[0m\u001b[0;34m\u001b[0m\u001b[0m\n\u001b[0m\u001b[1;32m     59\u001b[0m \u001b[0;34m\u001b[0m\u001b[0m\n\u001b[1;32m     60\u001b[0m     \u001b[0;32mtry\u001b[0m\u001b[0;34m:\u001b[0m\u001b[0;34m\u001b[0m\u001b[0;34m\u001b[0m\u001b[0m\n",
            "\u001b[0;32m/usr/local/lib/python3.6/dist-packages/numpy/core/fromnumeric.py\u001b[0m in \u001b[0;36m_wrapit\u001b[0;34m(obj, method, *args, **kwds)\u001b[0m\n\u001b[1;32m     45\u001b[0m     \u001b[0;32mexcept\u001b[0m \u001b[0mAttributeError\u001b[0m\u001b[0;34m:\u001b[0m\u001b[0;34m\u001b[0m\u001b[0;34m\u001b[0m\u001b[0m\n\u001b[1;32m     46\u001b[0m         \u001b[0mwrap\u001b[0m \u001b[0;34m=\u001b[0m \u001b[0;32mNone\u001b[0m\u001b[0;34m\u001b[0m\u001b[0;34m\u001b[0m\u001b[0m\n\u001b[0;32m---> 47\u001b[0;31m     \u001b[0mresult\u001b[0m \u001b[0;34m=\u001b[0m \u001b[0mgetattr\u001b[0m\u001b[0;34m(\u001b[0m\u001b[0masarray\u001b[0m\u001b[0;34m(\u001b[0m\u001b[0mobj\u001b[0m\u001b[0;34m)\u001b[0m\u001b[0;34m,\u001b[0m \u001b[0mmethod\u001b[0m\u001b[0;34m)\u001b[0m\u001b[0;34m(\u001b[0m\u001b[0;34m*\u001b[0m\u001b[0margs\u001b[0m\u001b[0;34m,\u001b[0m \u001b[0;34m**\u001b[0m\u001b[0mkwds\u001b[0m\u001b[0;34m)\u001b[0m\u001b[0;34m\u001b[0m\u001b[0;34m\u001b[0m\u001b[0m\n\u001b[0m\u001b[1;32m     48\u001b[0m     \u001b[0;32mif\u001b[0m \u001b[0mwrap\u001b[0m\u001b[0;34m:\u001b[0m\u001b[0;34m\u001b[0m\u001b[0;34m\u001b[0m\u001b[0m\n\u001b[1;32m     49\u001b[0m         \u001b[0;32mif\u001b[0m \u001b[0;32mnot\u001b[0m \u001b[0misinstance\u001b[0m\u001b[0;34m(\u001b[0m\u001b[0mresult\u001b[0m\u001b[0;34m,\u001b[0m \u001b[0mmu\u001b[0m\u001b[0;34m.\u001b[0m\u001b[0mndarray\u001b[0m\u001b[0;34m)\u001b[0m\u001b[0;34m:\u001b[0m\u001b[0;34m\u001b[0m\u001b[0;34m\u001b[0m\u001b[0m\n",
            "\u001b[0;32m/usr/local/lib/python3.6/dist-packages/numpy/core/_methods.py\u001b[0m in \u001b[0;36m_clip\u001b[0;34m(a, min, max, out, casting, **kwargs)\u001b[0m\n\u001b[1;32m    130\u001b[0m     \u001b[0;32melse\u001b[0m\u001b[0;34m:\u001b[0m\u001b[0;34m\u001b[0m\u001b[0;34m\u001b[0m\u001b[0m\n\u001b[1;32m    131\u001b[0m         return _clip_dep_invoke_with_casting(\n\u001b[0;32m--> 132\u001b[0;31m             um.clip, a, min, max, out=out, casting=casting, **kwargs)\n\u001b[0m\u001b[1;32m    133\u001b[0m \u001b[0;34m\u001b[0m\u001b[0m\n\u001b[1;32m    134\u001b[0m \u001b[0;32mdef\u001b[0m \u001b[0m_mean\u001b[0m\u001b[0;34m(\u001b[0m\u001b[0ma\u001b[0m\u001b[0;34m,\u001b[0m \u001b[0maxis\u001b[0m\u001b[0;34m=\u001b[0m\u001b[0;32mNone\u001b[0m\u001b[0;34m,\u001b[0m \u001b[0mdtype\u001b[0m\u001b[0;34m=\u001b[0m\u001b[0;32mNone\u001b[0m\u001b[0;34m,\u001b[0m \u001b[0mout\u001b[0m\u001b[0;34m=\u001b[0m\u001b[0;32mNone\u001b[0m\u001b[0;34m,\u001b[0m \u001b[0mkeepdims\u001b[0m\u001b[0;34m=\u001b[0m\u001b[0;32mFalse\u001b[0m\u001b[0;34m)\u001b[0m\u001b[0;34m:\u001b[0m\u001b[0;34m\u001b[0m\u001b[0;34m\u001b[0m\u001b[0m\n",
            "\u001b[0;32m/usr/local/lib/python3.6/dist-packages/numpy/core/_methods.py\u001b[0m in \u001b[0;36m_clip_dep_invoke_with_casting\u001b[0;34m(ufunc, out, casting, *args, **kwargs)\u001b[0m\n\u001b[1;32m     83\u001b[0m     \u001b[0;31m# try to deal with broken casting rules\u001b[0m\u001b[0;34m\u001b[0m\u001b[0;34m\u001b[0m\u001b[0;34m\u001b[0m\u001b[0m\n\u001b[1;32m     84\u001b[0m     \u001b[0;32mtry\u001b[0m\u001b[0;34m:\u001b[0m\u001b[0;34m\u001b[0m\u001b[0;34m\u001b[0m\u001b[0m\n\u001b[0;32m---> 85\u001b[0;31m         \u001b[0;32mreturn\u001b[0m \u001b[0mufunc\u001b[0m\u001b[0;34m(\u001b[0m\u001b[0;34m*\u001b[0m\u001b[0margs\u001b[0m\u001b[0;34m,\u001b[0m \u001b[0mout\u001b[0m\u001b[0;34m=\u001b[0m\u001b[0mout\u001b[0m\u001b[0;34m,\u001b[0m \u001b[0;34m**\u001b[0m\u001b[0mkwargs\u001b[0m\u001b[0;34m)\u001b[0m\u001b[0;34m\u001b[0m\u001b[0;34m\u001b[0m\u001b[0m\n\u001b[0m\u001b[1;32m     86\u001b[0m     \u001b[0;32mexcept\u001b[0m \u001b[0m_exceptions\u001b[0m\u001b[0;34m.\u001b[0m\u001b[0m_UFuncOutputCastingError\u001b[0m \u001b[0;32mas\u001b[0m \u001b[0me\u001b[0m\u001b[0;34m:\u001b[0m\u001b[0;34m\u001b[0m\u001b[0;34m\u001b[0m\u001b[0m\n\u001b[1;32m     87\u001b[0m         \u001b[0;31m# Numpy 1.17.0, 2019-02-24\u001b[0m\u001b[0;34m\u001b[0m\u001b[0;34m\u001b[0m\u001b[0;34m\u001b[0m\u001b[0m\n",
            "\u001b[0;31mValueError\u001b[0m: operands could not be broadcast together with shapes (8,) (7,) (7,) "
          ]
        }
      ]
    },
    {
      "cell_type": "code",
      "metadata": {
        "id": "yw1OxwX-BXhl",
        "outputId": "824a53bd-6a00-4071-c487-f8de32184cc8",
        "colab": {
          "base_uri": "https://localhost:8080/",
          "height": 424
        }
      },
      "source": [
        "# Play out stateful model predictions\n",
        "path, start = get_random_start_point(potential_start_points)\n",
        "env.p.restoreState(fileName=path)\n",
        "\n",
        "vid_path = 'output/videos/trajectory.mp4'\n",
        "\n",
        "eval_seq_len = WINDOW_SIZE\n",
        "goal = achieved_goals[start+eval_seq_len][tf.newaxis,tf.newaxis,:] # same as two expand_dims\n",
        "\n",
        "state = env.panda.calc_state()\n",
        "if USE_QUAT_OBS:\n",
        "    obs = state['observation']\n",
        "else:\n",
        "    obs = np.concatenate([state['observation'][0:3], env.p.getEulerFromQuaternion(state['observation'][3:7]) , state['observation'][7:]]).astype('float32')\n",
        "if JOINTS:\n",
        "    obs = np.concatenate([obs, state['joints'][:7]]).astype('float32')[tf.newaxis, tf.newaxis]\n",
        "else:\n",
        "    obs = obs[tf.newaxis, tf.newaxis]\n",
        "    \n",
        "if VELOCITY:\n",
        "    obs = tf.concat([obs,tf.cast(state['velocity'], tf.float32)[tf.newaxis, tf.newaxis]], axis = -1)\n",
        "\n",
        "a_true = actions[start:start+WINDOW_SIZE]\n",
        "a_pred = []\n",
        "with imageio.get_writer(vid_path, mode='I') as writer:\n",
        "          \n",
        "    for i in range(0, WINDOW_SIZE):\n",
        "        g = tf.tile(goal, tf.constant([1,i+1,1]))\n",
        "        a,_ = actor((obs, g))\n",
        "        a = a.numpy()[0,-1,:]\n",
        "        a_pred.append(a)\n",
        "        \n",
        "        state, r, d, _ = env.step(a)\n",
        "        vel = tf.cast(state['velocity'],tf.float32)[tf.newaxis, tf.newaxis]\n",
        "        writer.append_data(state['img'])\n",
        "        clear_output(wait=True)\n",
        "        fig = plt.imshow(state['img'])\n",
        "        plt.show()\n",
        "        if USE_QUAT_OBS:\n",
        "            o = state['observation']\n",
        "        else:\n",
        "            o = np.concatenate([state['observation'][0:3], env.p.getEulerFromQuaternion(state['observation'][3:7]) , state['observation'][7:]]).astype('float32')\n",
        "            \n",
        "        if JOINTS:\n",
        "            o = np.concatenate([o, state['joints'][:7]]).astype('float32')[tf.newaxis, tf.newaxis]\n",
        "        else:\n",
        "            o = o[tf.newaxis, tf.newaxis]\n",
        "        if VELOCITY:\n",
        "            o = tf.concat([o,vel], axis = -1)\n",
        "\n",
        "        # Transformer needs state history - concat observations along time axis\n",
        "        obs = tf.concat([obs, o], axis=1)"
      ],
      "execution_count": 265,
      "outputs": [
        {
          "output_type": "error",
          "ename": "ValueError",
          "evalue": "ignored",
          "traceback": [
            "\u001b[0;31m---------------------------------------------------------------------------\u001b[0m",
            "\u001b[0;31mValueError\u001b[0m                                Traceback (most recent call last)",
            "\u001b[0;32m<ipython-input-265-29c2a702e93a>\u001b[0m in \u001b[0;36m<module>\u001b[0;34m()\u001b[0m\n\u001b[1;32m     31\u001b[0m         \u001b[0ma_pred\u001b[0m\u001b[0;34m.\u001b[0m\u001b[0mappend\u001b[0m\u001b[0;34m(\u001b[0m\u001b[0ma\u001b[0m\u001b[0;34m)\u001b[0m\u001b[0;34m\u001b[0m\u001b[0;34m\u001b[0m\u001b[0m\n\u001b[1;32m     32\u001b[0m \u001b[0;34m\u001b[0m\u001b[0m\n\u001b[0;32m---> 33\u001b[0;31m         \u001b[0mstate\u001b[0m\u001b[0;34m,\u001b[0m \u001b[0mr\u001b[0m\u001b[0;34m,\u001b[0m \u001b[0md\u001b[0m\u001b[0;34m,\u001b[0m \u001b[0m_\u001b[0m \u001b[0;34m=\u001b[0m \u001b[0menv\u001b[0m\u001b[0;34m.\u001b[0m\u001b[0mstep\u001b[0m\u001b[0;34m(\u001b[0m\u001b[0ma\u001b[0m\u001b[0;34m)\u001b[0m\u001b[0;34m\u001b[0m\u001b[0;34m\u001b[0m\u001b[0m\n\u001b[0m\u001b[1;32m     34\u001b[0m         \u001b[0mvel\u001b[0m \u001b[0;34m=\u001b[0m \u001b[0mtf\u001b[0m\u001b[0;34m.\u001b[0m\u001b[0mcast\u001b[0m\u001b[0;34m(\u001b[0m\u001b[0mstate\u001b[0m\u001b[0;34m[\u001b[0m\u001b[0;34m'velocity'\u001b[0m\u001b[0;34m]\u001b[0m\u001b[0;34m,\u001b[0m\u001b[0mtf\u001b[0m\u001b[0;34m.\u001b[0m\u001b[0mfloat32\u001b[0m\u001b[0;34m)\u001b[0m\u001b[0;34m[\u001b[0m\u001b[0mtf\u001b[0m\u001b[0;34m.\u001b[0m\u001b[0mnewaxis\u001b[0m\u001b[0;34m,\u001b[0m \u001b[0mtf\u001b[0m\u001b[0;34m.\u001b[0m\u001b[0mnewaxis\u001b[0m\u001b[0;34m]\u001b[0m\u001b[0;34m\u001b[0m\u001b[0;34m\u001b[0m\u001b[0m\n\u001b[1;32m     35\u001b[0m         \u001b[0mwriter\u001b[0m\u001b[0;34m.\u001b[0m\u001b[0mappend_data\u001b[0m\u001b[0;34m(\u001b[0m\u001b[0mstate\u001b[0m\u001b[0;34m[\u001b[0m\u001b[0;34m'img'\u001b[0m\u001b[0;34m]\u001b[0m\u001b[0;34m)\u001b[0m\u001b[0;34m\u001b[0m\u001b[0;34m\u001b[0m\u001b[0m\n",
            "\u001b[0;32m/content/local_packages/pandaRL/pandaRL/envs/environments.py\u001b[0m in \u001b[0;36mstep\u001b[0;34m(self, action)\u001b[0m\n\u001b[1;32m   1050\u001b[0m     \u001b[0;32mdef\u001b[0m \u001b[0mstep\u001b[0m\u001b[0;34m(\u001b[0m\u001b[0mself\u001b[0m\u001b[0;34m,\u001b[0m \u001b[0maction\u001b[0m\u001b[0;34m=\u001b[0m \u001b[0;32mNone\u001b[0m\u001b[0;34m)\u001b[0m\u001b[0;34m:\u001b[0m\u001b[0;34m\u001b[0m\u001b[0;34m\u001b[0m\u001b[0m\n\u001b[1;32m   1051\u001b[0m         \u001b[0;31m#bound the action to within allowable limits\u001b[0m\u001b[0;34m\u001b[0m\u001b[0;34m\u001b[0m\u001b[0;34m\u001b[0m\u001b[0m\n\u001b[0;32m-> 1052\u001b[0;31m         \u001b[0maction\u001b[0m \u001b[0;34m=\u001b[0m \u001b[0mnp\u001b[0m\u001b[0;34m.\u001b[0m\u001b[0mclip\u001b[0m\u001b[0;34m(\u001b[0m\u001b[0maction\u001b[0m\u001b[0;34m,\u001b[0m \u001b[0mself\u001b[0m\u001b[0;34m.\u001b[0m\u001b[0maction_space\u001b[0m\u001b[0;34m.\u001b[0m\u001b[0mlow\u001b[0m\u001b[0;34m,\u001b[0m \u001b[0mself\u001b[0m\u001b[0;34m.\u001b[0m\u001b[0maction_space\u001b[0m\u001b[0;34m.\u001b[0m\u001b[0mhigh\u001b[0m\u001b[0;34m)\u001b[0m\u001b[0;34m\u001b[0m\u001b[0;34m\u001b[0m\u001b[0m\n\u001b[0m\u001b[1;32m   1053\u001b[0m         \u001b[0;32mif\u001b[0m \u001b[0mself\u001b[0m\u001b[0;34m.\u001b[0m\u001b[0maction_type\u001b[0m \u001b[0;34m==\u001b[0m \u001b[0;34m'absolute'\u001b[0m\u001b[0;34m:\u001b[0m\u001b[0;34m\u001b[0m\u001b[0;34m\u001b[0m\u001b[0m\n\u001b[1;32m   1054\u001b[0m             \u001b[0mtargetPoses\u001b[0m \u001b[0;34m=\u001b[0m \u001b[0mself\u001b[0m\u001b[0;34m.\u001b[0m\u001b[0mpanda\u001b[0m\u001b[0;34m.\u001b[0m\u001b[0mabsolute_step\u001b[0m\u001b[0;34m(\u001b[0m\u001b[0maction\u001b[0m\u001b[0;34m)\u001b[0m\u001b[0;34m\u001b[0m\u001b[0;34m\u001b[0m\u001b[0m\n",
            "\u001b[0;32m<__array_function__ internals>\u001b[0m in \u001b[0;36mclip\u001b[0;34m(*args, **kwargs)\u001b[0m\n",
            "\u001b[0;32m/usr/local/lib/python3.6/dist-packages/numpy/core/fromnumeric.py\u001b[0m in \u001b[0;36mclip\u001b[0;34m(a, a_min, a_max, out, **kwargs)\u001b[0m\n\u001b[1;32m   2082\u001b[0m \u001b[0;34m\u001b[0m\u001b[0m\n\u001b[1;32m   2083\u001b[0m     \"\"\"\n\u001b[0;32m-> 2084\u001b[0;31m     \u001b[0;32mreturn\u001b[0m \u001b[0m_wrapfunc\u001b[0m\u001b[0;34m(\u001b[0m\u001b[0ma\u001b[0m\u001b[0;34m,\u001b[0m \u001b[0;34m'clip'\u001b[0m\u001b[0;34m,\u001b[0m \u001b[0ma_min\u001b[0m\u001b[0;34m,\u001b[0m \u001b[0ma_max\u001b[0m\u001b[0;34m,\u001b[0m \u001b[0mout\u001b[0m\u001b[0;34m=\u001b[0m\u001b[0mout\u001b[0m\u001b[0;34m,\u001b[0m \u001b[0;34m**\u001b[0m\u001b[0mkwargs\u001b[0m\u001b[0;34m)\u001b[0m\u001b[0;34m\u001b[0m\u001b[0;34m\u001b[0m\u001b[0m\n\u001b[0m\u001b[1;32m   2085\u001b[0m \u001b[0;34m\u001b[0m\u001b[0m\n\u001b[1;32m   2086\u001b[0m \u001b[0;34m\u001b[0m\u001b[0m\n",
            "\u001b[0;32m/usr/local/lib/python3.6/dist-packages/numpy/core/fromnumeric.py\u001b[0m in \u001b[0;36m_wrapfunc\u001b[0;34m(obj, method, *args, **kwds)\u001b[0m\n\u001b[1;32m     59\u001b[0m \u001b[0;34m\u001b[0m\u001b[0m\n\u001b[1;32m     60\u001b[0m     \u001b[0;32mtry\u001b[0m\u001b[0;34m:\u001b[0m\u001b[0;34m\u001b[0m\u001b[0;34m\u001b[0m\u001b[0m\n\u001b[0;32m---> 61\u001b[0;31m         \u001b[0;32mreturn\u001b[0m \u001b[0mbound\u001b[0m\u001b[0;34m(\u001b[0m\u001b[0;34m*\u001b[0m\u001b[0margs\u001b[0m\u001b[0;34m,\u001b[0m \u001b[0;34m**\u001b[0m\u001b[0mkwds\u001b[0m\u001b[0;34m)\u001b[0m\u001b[0;34m\u001b[0m\u001b[0;34m\u001b[0m\u001b[0m\n\u001b[0m\u001b[1;32m     62\u001b[0m     \u001b[0;32mexcept\u001b[0m \u001b[0mTypeError\u001b[0m\u001b[0;34m:\u001b[0m\u001b[0;34m\u001b[0m\u001b[0;34m\u001b[0m\u001b[0m\n\u001b[1;32m     63\u001b[0m         \u001b[0;31m# A TypeError occurs if the object does have such a method in its\u001b[0m\u001b[0;34m\u001b[0m\u001b[0;34m\u001b[0m\u001b[0;34m\u001b[0m\u001b[0m\n",
            "\u001b[0;32m/usr/local/lib/python3.6/dist-packages/numpy/core/_methods.py\u001b[0m in \u001b[0;36m_clip\u001b[0;34m(a, min, max, out, casting, **kwargs)\u001b[0m\n\u001b[1;32m    130\u001b[0m     \u001b[0;32melse\u001b[0m\u001b[0;34m:\u001b[0m\u001b[0;34m\u001b[0m\u001b[0;34m\u001b[0m\u001b[0m\n\u001b[1;32m    131\u001b[0m         return _clip_dep_invoke_with_casting(\n\u001b[0;32m--> 132\u001b[0;31m             um.clip, a, min, max, out=out, casting=casting, **kwargs)\n\u001b[0m\u001b[1;32m    133\u001b[0m \u001b[0;34m\u001b[0m\u001b[0m\n\u001b[1;32m    134\u001b[0m \u001b[0;32mdef\u001b[0m \u001b[0m_mean\u001b[0m\u001b[0;34m(\u001b[0m\u001b[0ma\u001b[0m\u001b[0;34m,\u001b[0m \u001b[0maxis\u001b[0m\u001b[0;34m=\u001b[0m\u001b[0;32mNone\u001b[0m\u001b[0;34m,\u001b[0m \u001b[0mdtype\u001b[0m\u001b[0;34m=\u001b[0m\u001b[0;32mNone\u001b[0m\u001b[0;34m,\u001b[0m \u001b[0mout\u001b[0m\u001b[0;34m=\u001b[0m\u001b[0;32mNone\u001b[0m\u001b[0;34m,\u001b[0m \u001b[0mkeepdims\u001b[0m\u001b[0;34m=\u001b[0m\u001b[0;32mFalse\u001b[0m\u001b[0;34m)\u001b[0m\u001b[0;34m:\u001b[0m\u001b[0;34m\u001b[0m\u001b[0;34m\u001b[0m\u001b[0m\n",
            "\u001b[0;32m/usr/local/lib/python3.6/dist-packages/numpy/core/_methods.py\u001b[0m in \u001b[0;36m_clip_dep_invoke_with_casting\u001b[0;34m(ufunc, out, casting, *args, **kwargs)\u001b[0m\n\u001b[1;32m     83\u001b[0m     \u001b[0;31m# try to deal with broken casting rules\u001b[0m\u001b[0;34m\u001b[0m\u001b[0;34m\u001b[0m\u001b[0;34m\u001b[0m\u001b[0m\n\u001b[1;32m     84\u001b[0m     \u001b[0;32mtry\u001b[0m\u001b[0;34m:\u001b[0m\u001b[0;34m\u001b[0m\u001b[0;34m\u001b[0m\u001b[0m\n\u001b[0;32m---> 85\u001b[0;31m         \u001b[0;32mreturn\u001b[0m \u001b[0mufunc\u001b[0m\u001b[0;34m(\u001b[0m\u001b[0;34m*\u001b[0m\u001b[0margs\u001b[0m\u001b[0;34m,\u001b[0m \u001b[0mout\u001b[0m\u001b[0;34m=\u001b[0m\u001b[0mout\u001b[0m\u001b[0;34m,\u001b[0m \u001b[0;34m**\u001b[0m\u001b[0mkwargs\u001b[0m\u001b[0;34m)\u001b[0m\u001b[0;34m\u001b[0m\u001b[0;34m\u001b[0m\u001b[0m\n\u001b[0m\u001b[1;32m     86\u001b[0m     \u001b[0;32mexcept\u001b[0m \u001b[0m_exceptions\u001b[0m\u001b[0;34m.\u001b[0m\u001b[0m_UFuncOutputCastingError\u001b[0m \u001b[0;32mas\u001b[0m \u001b[0me\u001b[0m\u001b[0;34m:\u001b[0m\u001b[0;34m\u001b[0m\u001b[0;34m\u001b[0m\u001b[0m\n\u001b[1;32m     87\u001b[0m         \u001b[0;31m# Numpy 1.17.0, 2019-02-24\u001b[0m\u001b[0;34m\u001b[0m\u001b[0;34m\u001b[0m\u001b[0;34m\u001b[0m\u001b[0m\n",
            "\u001b[0;31mValueError\u001b[0m: operands could not be broadcast together with shapes (8,) (7,) (7,) "
          ]
        }
      ]
    },
    {
      "cell_type": "code",
      "metadata": {
        "id": "AaMDRLIODOPI",
        "outputId": "66c70b37-1c10-4baa-d1a4-c594a64e6754",
        "colab": {
          "base_uri": "https://localhost:8080/",
          "height": 320
        }
      },
      "source": [
        "eval.render_mp4(vid_path)"
      ],
      "execution_count": null,
      "outputs": [
        {
          "output_type": "execute_result",
          "data": {
            "text/html": [
              "\n",
              "                <video width=\"300\" height=\"300\" controls>\n",
              "                <source src=\"data:video/mp4;base64,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\" type=\"video/mp4\">\n",
              "                </video>\n",
              "                "
            ],
            "text/plain": [
              "<IPython.core.display.HTML object>"
            ]
          },
          "metadata": {
            "tags": []
          },
          "execution_count": 95
        }
      ]
    },
    {
      "cell_type": "code",
      "metadata": {
        "id": "UKiZsYyD2zwz",
        "outputId": "96db9faa-8d1e-44da-812f-3f9685780116",
        "colab": {
          "base_uri": "https://localhost:8080/",
          "height": 723
        }
      },
      "source": [
        "a_true =  np.array(a_true)\n",
        "a_pred = np.array(a_pred)\n",
        "length_true = len(a_true)\n",
        "length_pred = len(a_pred)\n",
        "actions_space = a_true.shape[-1]\n",
        "x_true = np.linspace(0, length_true, num=length_true) \n",
        "x_pred = np.linspace(0, length_pred, num=length_pred) \n",
        "labels = ['x','y','z','q1','q2','q3','q4','gripper']\n",
        "for i in range(0,actions_space):\n",
        "    fig, axes = plt.subplots(1, 1, figsize=(6,1.0), squeeze=False)\n",
        "    # One Model\n",
        "    axes[0,0].plot(x_true,a_true[:,i],'green')\n",
        "    axes[0,0].plot(x_pred,a_pred[:,i], 'b')\n",
        "    fig.legend( ('true action', 'predicted action'))\n",
        "   \n",
        "    plt.title(labels[i])\n",
        "    plt.show()"
      ],
      "execution_count": null,
      "outputs": [
        {
          "output_type": "display_data",
          "data": {
            "image/png": "[encoded data removed]",
            "text/plain": [
              "<Figure size 432x72 with 1 Axes>"
            ]
          },
          "metadata": {
            "tags": [],
            "needs_background": "light"
          }
        },
        {
          "output_type": "display_data",
          "data": {
            "image/png": "[encoded data removed]",
            "text/plain": [
              "<Figure size 432x72 with 1 Axes>"
            ]
          },
          "metadata": {
            "tags": [],
            "needs_background": "light"
          }
        },
        {
          "output_type": "display_data",
          "data": {
            "image/png": "[encoded data removed]",
            "text/plain": [
              "<Figure size 432x72 with 1 Axes>"
            ]
          },
          "metadata": {
            "tags": [],
            "needs_background": "light"
          }
        },
        {
          "output_type": "display_data",
          "data": {
            "image/png": "[encoded data removed]",
            "text/plain": [
              "<Figure size 432x72 with 1 Axes>"
            ]
          },
          "metadata": {
            "tags": [],
            "needs_background": "light"
          }
        },
        {
          "output_type": "display_data",
          "data": {
            "image/png": "[encoded data removed]",
            "text/plain": [
              "<Figure size 432x72 with 1 Axes>"
            ]
          },
          "metadata": {
            "tags": [],
            "needs_background": "light"
          }
        },
        {
          "output_type": "display_data",
          "data": {
            "image/png": "[encoded data removed]",
            "text/plain": [
              "<Figure size 432x72 with 1 Axes>"
            ]
          },
          "metadata": {
            "tags": [],
            "needs_background": "light"
          }
        },
        {
          "output_type": "display_data",
          "data": {
            "image/png": "[encoded data removed]",
            "text/plain": [
              "<Figure size 432x72 with 1 Axes>"
            ]
          },
          "metadata": {
            "tags": [],
            "needs_background": "light"
          }
        }
      ]
    },
    {
      "cell_type": "code",
      "metadata": {
        "id": "601ynVASDVvr"
      },
      "source": [
        ""
      ],
      "execution_count": null,
      "outputs": []
    },
    {
      "cell_type": "code",
      "metadata": {
        "id": "nPRLjCOfDVyY"
      },
      "source": [
        ""
      ],
      "execution_count": null,
      "outputs": []
    },
    {
      "cell_type": "code",
      "metadata": {
        "id": "F5oyp2bKDV2e"
      },
      "source": [
        ""
      ],
      "execution_count": null,
      "outputs": []
    },
    {
      "cell_type": "code",
      "metadata": {
        "id": "5WUniJtT25Rb",
        "cellView": "form"
      },
      "source": [
        "#@title Explore MMD INFOVAE reg for encoder, with planner chasing it.\n",
        "\n"
      ],
      "execution_count": null,
      "outputs": []
    },
    {
      "cell_type": "code",
      "metadata": {
        "id": "KdapR5ID5VOZ",
        "outputId": "b0faafb4-4bca-420d-b149-d27fc8e52e68",
        "colab": {
          "base_uri": "https://localhost:8080/",
          "height": 836
        }
      },
      "source": [
        "def compute_kernel(x, y):\n",
        "  x_size = tf.shape(x)[0]\n",
        "  y_size = tf.shape(y)[0]\n",
        "  dim = tf.shape(x)[1]\n",
        "  tiled_x = tf.tile(tf.reshape(x, tf.stack([x_size, 1, dim])), tf.stack([1, y_size, 1]))\n",
        "  print(tiled_x, x, y)\n",
        "  tiled_y = tf.tile(tf.reshape(y, tf.stack([1, y_size, dim])), tf.stack([x_size, 1, 1]))\n",
        "  print(tiled_x.shape, tiled_y.shape)\n",
        "  return tf.exp(-tf.reduce_mean(tf.square(tiled_x - tiled_y), axis=2) / tf.cast(dim, tf.float32))\n",
        "\n",
        "def compute_mmd(x, y, sigma_sqr=2.0/LATENT_DIM):\n",
        "  x_kernel = compute_kernel(x, x)\n",
        "  y_kernel = compute_kernel(y, y)\n",
        "  xy_kernel = compute_kernel(x, y)\n",
        "  return tf.reduce_mean(x_kernel) + tf.reduce_mean(y_kernel) - 2 * tf.reduce_mean(xy_kernel)\n",
        "\n",
        "true_samples = tfd.Normal([0.1,0.1,0.1], [1,1,1])\n",
        "encoding = tfd.Normal([0.1,0.1,0.1], [1,1,1])\n",
        "loss_mmd = compute_mmd(true_samples.sample(), encoding.sample())\n"
      ],
      "execution_count": null,
      "outputs": [
        {
          "output_type": "error",
          "ename": "InvalidArgumentError",
          "evalue": "ignored",
          "traceback": [
            "\u001b[0;31m---------------------------------------------------------------------------\u001b[0m",
            "\u001b[0;31mInvalidArgumentError\u001b[0m                      Traceback (most recent call last)",
            "\u001b[0;32m<ipython-input-73-111fb725ec63>\u001b[0m in \u001b[0;36m<module>\u001b[0;34m()\u001b[0m\n\u001b[1;32m     17\u001b[0m \u001b[0mtrue_samples\u001b[0m \u001b[0;34m=\u001b[0m \u001b[0mtfd\u001b[0m\u001b[0;34m.\u001b[0m\u001b[0mNormal\u001b[0m\u001b[0;34m(\u001b[0m\u001b[0;34m[\u001b[0m\u001b[0;36m0.1\u001b[0m\u001b[0;34m,\u001b[0m\u001b[0;36m0.1\u001b[0m\u001b[0;34m,\u001b[0m\u001b[0;36m0.1\u001b[0m\u001b[0;34m]\u001b[0m\u001b[0;34m,\u001b[0m \u001b[0;34m[\u001b[0m\u001b[0;36m1\u001b[0m\u001b[0;34m,\u001b[0m\u001b[0;36m1\u001b[0m\u001b[0;34m,\u001b[0m\u001b[0;36m1\u001b[0m\u001b[0;34m]\u001b[0m\u001b[0;34m)\u001b[0m\u001b[0;34m\u001b[0m\u001b[0;34m\u001b[0m\u001b[0m\n\u001b[1;32m     18\u001b[0m \u001b[0mencoding\u001b[0m \u001b[0;34m=\u001b[0m \u001b[0mtfd\u001b[0m\u001b[0;34m.\u001b[0m\u001b[0mNormal\u001b[0m\u001b[0;34m(\u001b[0m\u001b[0;34m[\u001b[0m\u001b[0;36m0.1\u001b[0m\u001b[0;34m,\u001b[0m\u001b[0;36m0.1\u001b[0m\u001b[0;34m,\u001b[0m\u001b[0;36m0.1\u001b[0m\u001b[0;34m]\u001b[0m\u001b[0;34m,\u001b[0m \u001b[0;34m[\u001b[0m\u001b[0;36m1\u001b[0m\u001b[0;34m,\u001b[0m\u001b[0;36m1\u001b[0m\u001b[0;34m,\u001b[0m\u001b[0;36m1\u001b[0m\u001b[0;34m]\u001b[0m\u001b[0;34m)\u001b[0m\u001b[0;34m\u001b[0m\u001b[0;34m\u001b[0m\u001b[0m\n\u001b[0;32m---> 19\u001b[0;31m \u001b[0mloss_mmd\u001b[0m \u001b[0;34m=\u001b[0m \u001b[0mcompute_mmd\u001b[0m\u001b[0;34m(\u001b[0m\u001b[0mtrue_samples\u001b[0m\u001b[0;34m.\u001b[0m\u001b[0msample\u001b[0m\u001b[0;34m(\u001b[0m\u001b[0;34m)\u001b[0m\u001b[0;34m,\u001b[0m \u001b[0mencoding\u001b[0m\u001b[0;34m.\u001b[0m\u001b[0msample\u001b[0m\u001b[0;34m(\u001b[0m\u001b[0;34m)\u001b[0m\u001b[0;34m)\u001b[0m\u001b[0;34m\u001b[0m\u001b[0;34m\u001b[0m\u001b[0m\n\u001b[0m",
            "\u001b[0;32m<ipython-input-73-111fb725ec63>\u001b[0m in \u001b[0;36mcompute_mmd\u001b[0;34m(x, y, sigma_sqr)\u001b[0m\n\u001b[1;32m     10\u001b[0m \u001b[0;34m\u001b[0m\u001b[0m\n\u001b[1;32m     11\u001b[0m \u001b[0;32mdef\u001b[0m \u001b[0mcompute_mmd\u001b[0m\u001b[0;34m(\u001b[0m\u001b[0mx\u001b[0m\u001b[0;34m,\u001b[0m \u001b[0my\u001b[0m\u001b[0;34m,\u001b[0m \u001b[0msigma_sqr\u001b[0m\u001b[0;34m=\u001b[0m\u001b[0;36m2.0\u001b[0m\u001b[0;34m/\u001b[0m\u001b[0mLATENT_DIM\u001b[0m\u001b[0;34m)\u001b[0m\u001b[0;34m:\u001b[0m\u001b[0;34m\u001b[0m\u001b[0;34m\u001b[0m\u001b[0m\n\u001b[0;32m---> 12\u001b[0;31m   \u001b[0mx_kernel\u001b[0m \u001b[0;34m=\u001b[0m \u001b[0mcompute_kernel\u001b[0m\u001b[0;34m(\u001b[0m\u001b[0mx\u001b[0m\u001b[0;34m,\u001b[0m \u001b[0mx\u001b[0m\u001b[0;34m)\u001b[0m\u001b[0;34m\u001b[0m\u001b[0;34m\u001b[0m\u001b[0m\n\u001b[0m\u001b[1;32m     13\u001b[0m   \u001b[0my_kernel\u001b[0m \u001b[0;34m=\u001b[0m \u001b[0mcompute_kernel\u001b[0m\u001b[0;34m(\u001b[0m\u001b[0my\u001b[0m\u001b[0;34m,\u001b[0m \u001b[0my\u001b[0m\u001b[0;34m)\u001b[0m\u001b[0;34m\u001b[0m\u001b[0;34m\u001b[0m\u001b[0m\n\u001b[1;32m     14\u001b[0m   \u001b[0mxy_kernel\u001b[0m \u001b[0;34m=\u001b[0m \u001b[0mcompute_kernel\u001b[0m\u001b[0;34m(\u001b[0m\u001b[0mx\u001b[0m\u001b[0;34m,\u001b[0m \u001b[0my\u001b[0m\u001b[0;34m)\u001b[0m\u001b[0;34m\u001b[0m\u001b[0;34m\u001b[0m\u001b[0m\n",
            "\u001b[0;32m<ipython-input-73-111fb725ec63>\u001b[0m in \u001b[0;36mcompute_kernel\u001b[0;34m(x, y)\u001b[0m\n\u001b[1;32m      4\u001b[0m   \u001b[0mdim\u001b[0m \u001b[0;34m=\u001b[0m \u001b[0mtf\u001b[0m\u001b[0;34m.\u001b[0m\u001b[0mshape\u001b[0m\u001b[0;34m(\u001b[0m\u001b[0mx\u001b[0m\u001b[0;34m)\u001b[0m\u001b[0;34m[\u001b[0m\u001b[0;36m1\u001b[0m\u001b[0;34m]\u001b[0m\u001b[0;34m\u001b[0m\u001b[0;34m\u001b[0m\u001b[0m\n\u001b[1;32m      5\u001b[0m   \u001b[0mtiled_x\u001b[0m \u001b[0;34m=\u001b[0m \u001b[0mtf\u001b[0m\u001b[0;34m.\u001b[0m\u001b[0mtile\u001b[0m\u001b[0;34m(\u001b[0m\u001b[0mtf\u001b[0m\u001b[0;34m.\u001b[0m\u001b[0mreshape\u001b[0m\u001b[0;34m(\u001b[0m\u001b[0mx\u001b[0m\u001b[0;34m,\u001b[0m \u001b[0mtf\u001b[0m\u001b[0;34m.\u001b[0m\u001b[0mstack\u001b[0m\u001b[0;34m(\u001b[0m\u001b[0;34m[\u001b[0m\u001b[0mx_size\u001b[0m\u001b[0;34m,\u001b[0m \u001b[0;36m1\u001b[0m\u001b[0;34m,\u001b[0m \u001b[0mdim\u001b[0m\u001b[0;34m]\u001b[0m\u001b[0;34m)\u001b[0m\u001b[0;34m)\u001b[0m\u001b[0;34m,\u001b[0m \u001b[0mtf\u001b[0m\u001b[0;34m.\u001b[0m\u001b[0mstack\u001b[0m\u001b[0;34m(\u001b[0m\u001b[0;34m[\u001b[0m\u001b[0;36m1\u001b[0m\u001b[0;34m,\u001b[0m \u001b[0my_size\u001b[0m\u001b[0;34m,\u001b[0m \u001b[0;36m1\u001b[0m\u001b[0;34m]\u001b[0m\u001b[0;34m)\u001b[0m\u001b[0;34m)\u001b[0m\u001b[0;34m\u001b[0m\u001b[0;34m\u001b[0m\u001b[0m\n\u001b[0;32m----> 6\u001b[0;31m   \u001b[0mprint\u001b[0m\u001b[0;34m(\u001b[0m\u001b[0mtiled_x\u001b[0m\u001b[0;34m,\u001b[0m \u001b[0mx\u001b[0m\u001b[0;34m,\u001b[0m \u001b[0my\u001b[0m\u001b[0;34m)\u001b[0m\u001b[0;34m\u001b[0m\u001b[0;34m\u001b[0m\u001b[0m\n\u001b[0m\u001b[1;32m      7\u001b[0m   \u001b[0mtiled_y\u001b[0m \u001b[0;34m=\u001b[0m \u001b[0mtf\u001b[0m\u001b[0;34m.\u001b[0m\u001b[0mtile\u001b[0m\u001b[0;34m(\u001b[0m\u001b[0mtf\u001b[0m\u001b[0;34m.\u001b[0m\u001b[0mreshape\u001b[0m\u001b[0;34m(\u001b[0m\u001b[0my\u001b[0m\u001b[0;34m,\u001b[0m \u001b[0mtf\u001b[0m\u001b[0;34m.\u001b[0m\u001b[0mstack\u001b[0m\u001b[0;34m(\u001b[0m\u001b[0;34m[\u001b[0m\u001b[0;36m1\u001b[0m\u001b[0;34m,\u001b[0m \u001b[0my_size\u001b[0m\u001b[0;34m,\u001b[0m \u001b[0mdim\u001b[0m\u001b[0;34m]\u001b[0m\u001b[0;34m)\u001b[0m\u001b[0;34m)\u001b[0m\u001b[0;34m,\u001b[0m \u001b[0mtf\u001b[0m\u001b[0;34m.\u001b[0m\u001b[0mstack\u001b[0m\u001b[0;34m(\u001b[0m\u001b[0;34m[\u001b[0m\u001b[0mx_size\u001b[0m\u001b[0;34m,\u001b[0m \u001b[0;36m1\u001b[0m\u001b[0;34m,\u001b[0m \u001b[0;36m1\u001b[0m\u001b[0;34m]\u001b[0m\u001b[0;34m)\u001b[0m\u001b[0;34m)\u001b[0m\u001b[0;34m\u001b[0m\u001b[0;34m\u001b[0m\u001b[0m\n\u001b[1;32m      8\u001b[0m   \u001b[0mprint\u001b[0m\u001b[0;34m(\u001b[0m\u001b[0mtiled_x\u001b[0m\u001b[0;34m.\u001b[0m\u001b[0mshape\u001b[0m\u001b[0;34m,\u001b[0m \u001b[0mtiled_y\u001b[0m\u001b[0;34m.\u001b[0m\u001b[0mshape\u001b[0m\u001b[0;34m)\u001b[0m\u001b[0;34m\u001b[0m\u001b[0;34m\u001b[0m\u001b[0m\n",
            "\u001b[0;32m/usr/local/lib/python3.6/dist-packages/tensorflow/python/framework/ops.py\u001b[0m in \u001b[0;36m__str__\u001b[0;34m(self)\u001b[0m\n\u001b[1;32m   1002\u001b[0m \u001b[0;34m\u001b[0m\u001b[0m\n\u001b[1;32m   1003\u001b[0m   \u001b[0;32mdef\u001b[0m \u001b[0m__str__\u001b[0m\u001b[0;34m(\u001b[0m\u001b[0mself\u001b[0m\u001b[0;34m)\u001b[0m\u001b[0;34m:\u001b[0m\u001b[0;34m\u001b[0m\u001b[0;34m\u001b[0m\u001b[0m\n\u001b[0;32m-> 1004\u001b[0;31m     return \"tf.Tensor(%s, shape=%s, dtype=%s)\" % (numpy_text(self), self.shape,\n\u001b[0m\u001b[1;32m   1005\u001b[0m                                                   self.dtype.name)\n\u001b[1;32m   1006\u001b[0m \u001b[0;34m\u001b[0m\u001b[0m\n",
            "\u001b[0;32m/usr/local/lib/python3.6/dist-packages/tensorflow/python/framework/ops.py\u001b[0m in \u001b[0;36mnumpy_text\u001b[0;34m(tensor, is_repr)\u001b[0m\n\u001b[1;32m    223\u001b[0m   \u001b[0;32mif\u001b[0m \u001b[0mtensor\u001b[0m\u001b[0;34m.\u001b[0m\u001b[0mdtype\u001b[0m\u001b[0;34m.\u001b[0m\u001b[0mis_numpy_compatible\u001b[0m\u001b[0;34m:\u001b[0m\u001b[0;34m\u001b[0m\u001b[0;34m\u001b[0m\u001b[0m\n\u001b[1;32m    224\u001b[0m     \u001b[0;31m# pylint: disable=protected-access\u001b[0m\u001b[0;34m\u001b[0m\u001b[0;34m\u001b[0m\u001b[0;34m\u001b[0m\u001b[0m\n\u001b[0;32m--> 225\u001b[0;31m     \u001b[0mtext\u001b[0m \u001b[0;34m=\u001b[0m \u001b[0mrepr\u001b[0m\u001b[0;34m(\u001b[0m\u001b[0mtensor\u001b[0m\u001b[0;34m.\u001b[0m\u001b[0m_numpy\u001b[0m\u001b[0;34m(\u001b[0m\u001b[0;34m)\u001b[0m\u001b[0;34m)\u001b[0m \u001b[0;32mif\u001b[0m \u001b[0mis_repr\u001b[0m \u001b[0;32melse\u001b[0m \u001b[0mstr\u001b[0m\u001b[0;34m(\u001b[0m\u001b[0mtensor\u001b[0m\u001b[0;34m.\u001b[0m\u001b[0m_numpy\u001b[0m\u001b[0;34m(\u001b[0m\u001b[0;34m)\u001b[0m\u001b[0;34m)\u001b[0m\u001b[0;34m\u001b[0m\u001b[0;34m\u001b[0m\u001b[0m\n\u001b[0m\u001b[1;32m    226\u001b[0m     \u001b[0;31m# pylint: enable=protected-access\u001b[0m\u001b[0;34m\u001b[0m\u001b[0;34m\u001b[0m\u001b[0;34m\u001b[0m\u001b[0m\n\u001b[1;32m    227\u001b[0m   \u001b[0;32melse\u001b[0m\u001b[0;34m:\u001b[0m\u001b[0;34m\u001b[0m\u001b[0;34m\u001b[0m\u001b[0m\n",
            "\u001b[0;32m/usr/local/lib/python3.6/dist-packages/tensorflow/python/framework/ops.py\u001b[0m in \u001b[0;36m_numpy\u001b[0;34m(self)\u001b[0m\n\u001b[1;32m   1029\u001b[0m       \u001b[0;32mreturn\u001b[0m \u001b[0mself\u001b[0m\u001b[0;34m.\u001b[0m\u001b[0m_numpy_internal\u001b[0m\u001b[0;34m(\u001b[0m\u001b[0;34m)\u001b[0m\u001b[0;34m\u001b[0m\u001b[0;34m\u001b[0m\u001b[0m\n\u001b[1;32m   1030\u001b[0m     \u001b[0;32mexcept\u001b[0m \u001b[0mcore\u001b[0m\u001b[0;34m.\u001b[0m\u001b[0m_NotOkStatusException\u001b[0m \u001b[0;32mas\u001b[0m \u001b[0me\u001b[0m\u001b[0;34m:\u001b[0m  \u001b[0;31m# pylint: disable=protected-access\u001b[0m\u001b[0;34m\u001b[0m\u001b[0;34m\u001b[0m\u001b[0m\n\u001b[0;32m-> 1031\u001b[0;31m       \u001b[0msix\u001b[0m\u001b[0;34m.\u001b[0m\u001b[0mraise_from\u001b[0m\u001b[0;34m(\u001b[0m\u001b[0mcore\u001b[0m\u001b[0;34m.\u001b[0m\u001b[0m_status_to_exception\u001b[0m\u001b[0;34m(\u001b[0m\u001b[0me\u001b[0m\u001b[0;34m.\u001b[0m\u001b[0mcode\u001b[0m\u001b[0;34m,\u001b[0m \u001b[0me\u001b[0m\u001b[0;34m.\u001b[0m\u001b[0mmessage\u001b[0m\u001b[0;34m)\u001b[0m\u001b[0;34m,\u001b[0m \u001b[0;32mNone\u001b[0m\u001b[0;34m)\u001b[0m  \u001b[0;31m# pylint: disable=protected-access\u001b[0m\u001b[0;34m\u001b[0m\u001b[0;34m\u001b[0m\u001b[0m\n\u001b[0m\u001b[1;32m   1032\u001b[0m \u001b[0;34m\u001b[0m\u001b[0m\n\u001b[1;32m   1033\u001b[0m   \u001b[0;34m@\u001b[0m\u001b[0mproperty\u001b[0m\u001b[0;34m\u001b[0m\u001b[0;34m\u001b[0m\u001b[0m\n",
            "\u001b[0;32m/usr/local/lib/python3.6/dist-packages/six.py\u001b[0m in \u001b[0;36mraise_from\u001b[0;34m(value, from_value)\u001b[0m\n",
            "\u001b[0;31mInvalidArgumentError\u001b[0m: slice index 1 of dimension 0 out of bounds."
          ]
        }
      ]
    },
    {
      "cell_type": "code",
      "metadata": {
        "id": "UZplwvpr3gW1"
      },
      "source": [
        "\n",
        "\n",
        "LAYER_SIZE = 512\n",
        "LATENT_DIM = 256\n",
        "\n",
        "with strategy.scope():\n",
        "    # Keras .fit API\n",
        "  #loss_fn = lambda y, p_y: -p_y.log_prob(y)\n",
        "  action_loss = tf.keras.losses.MeanAbsoluteError(reduction=tf.keras.losses.Reduction.NONE)\n",
        "\n",
        "  def compute_kernel(x, y):\n",
        "    x_size = tf.shape(x)[0]\n",
        "    y_size = tf.shape(y)[0]\n",
        "    dim = tf.shape(x)[1]\n",
        "    tiled_x = tf.tile(tf.reshape(x, tf.stack([x_size, 1, dim])), tf.stack([1, y_size, 1]))\n",
        "    tiled_y = tf.tile(tf.reshape(y, tf.stack([1, y_size, dim])), tf.stack([x_size, 1, 1]))\n",
        "    return tf.exp(-tf.reduce_mean(tf.square(tiled_x - tiled_y), axis=2) / tf.cast(dim, tf.float32))\n",
        "\n",
        "  def compute_mmd(x, y, sigma_sqr=2.0/LATENT_DIM):\n",
        "      x_kernel = compute_kernel(x, x)\n",
        "      y_kernel = compute_kernel(y, y)\n",
        "      xy_kernel = compute_kernel(x, y)\n",
        "      return tf.reduce_mean(x_kernel) + tf.reduce_mean(y_kernel) - 2 * tf.reduce_mean(xy_kernel)\n",
        "  \n",
        "  def compute_loss(labels, predictions, mask, seq_lens):\n",
        "      per_example_loss = action_loss(labels, predictions) * mask\n",
        "      per_example_loss = tf.reduce_sum(per_example_loss, axis = 1) / seq_lens # take mean along the timestep\n",
        "      return tf.nn.compute_average_loss(per_example_loss, global_batch_size=GLOBAL_BATCH_SIZE)\n",
        "\n",
        "  def compute_regularisation_loss(plan, encoding):\n",
        "      reg_loss = KL(plan, encoding) #+ KL(encoding, plan)\n",
        "      return tf.nn.compute_average_loss(reg_loss, global_batch_size=GLOBAL_BATCH_SIZE)\n",
        "\n",
        "  def encoder_regularisation(encoding):\n",
        "    B = encoding.shape[0]\n",
        "    true_samples = tf.random_normal(tf.stack([B, z_dim]))\n",
        "    loss_mmd = compute_mmd(true_samples, encoding.sample())\n",
        "\n",
        "  train_act_loss = tf.keras.metrics.Mean(name='act_loss')\n",
        "  valid_act_loss = tf.keras.metrics.Mean(name='valid_act_loss')\n",
        "\n",
        "  train_reg_loss = tf.keras.metrics.Mean(name='reg_loss')\n",
        "  valid_reg_loss = tf.keras.metrics.Mean(name='valid_reg_loss')\n",
        "\n",
        "  valid_act_with_enc_loss = tf.keras.metrics.Mean(name='valid_act_with_enc_loss')\n",
        "  train_act_with_plan_loss = tf.keras.metrics.Mean(name='train_act_with_plan_loss')\n",
        "\n",
        "  \n",
        "  model_params = {'layer_size':LAYER_SIZE, 'GCBC':False}\n",
        "  model = actor(**model_params)\n",
        "\n",
        "  model_params = {'layer_size':LAYER_SIZE, 'latent_dim':LATENT_DIM}\n",
        "  encoder = ENCODER_LSTM(latent_dim=LATENT_DIM)\n",
        "  planner = create_planner(**model_params)\n",
        "\n",
        "  optimizer = tfa.optimizers.AdamW(1e-4, 2e-4) #tf.keras.optimizers.Adam(2e-4)\n",
        "\n",
        "  checkpoint = tf.train.Checkpoint(optimizer=optimizer, model=model)\n",
        "\n",
        "def step(inputs, GCBC=False, training = False):\n",
        "  (states, goals, actions, mask, seq_lens) = inputs\n",
        "  if GCBC:\n",
        "    distrib = model(states, goals=goals, training = training)\n",
        "    return  compute_loss(actions, distrib, mask, seq_lens), distrib\n",
        "  else:\n",
        "  \n",
        "    encoding = encoder(states, actions, training=training)\n",
        "    final_goals = goals[:, 0, :]\n",
        "    plan, _ = planner((states[:, 0, :], final_goals))  # the final goals are tiled out over the entire non masked sequence, so the first timestep is the final goal. \n",
        "    if training: # we must expand it out so each input state has a corresponding plan\n",
        "      z = tf.tile(tf.expand_dims(encoding.sample(), 1), (1, rsd.MAX_SEQ_LEN, 1))\n",
        "      distrib = model(states, z, goals, training=training)\n",
        "      z_plan = tf.tile(tf.expand_dims(plan.sample(), 1), (1, rsd.MAX_SEQ_LEN, 1))\n",
        "      plan_acts = model(states, z_plan, goals, training=training)\n",
        "      train_act_with_plan_loss.update_state(compute_loss(actions, plan_acts, mask, seq_lens))\n",
        "    \n",
        "    else:\n",
        "      # check if encoder is overfitting on validation\n",
        "      z_enc = z = tf.tile(tf.expand_dims(encoding.sample(), 1), (1, rsd.MAX_SEQ_LEN, 1))\n",
        "      enc_act_distrib = model(states, z_enc, goals, training = training)\n",
        "      valid_act_with_enc_loss.update_state(compute_loss(actions, enc_act_distrib, mask, seq_lens))\n",
        "\n",
        "      # true validation performance, w/ planner\n",
        "      z = tf.tile(tf.expand_dims(plan.sample(), 1), (1, rsd.MAX_SEQ_LEN, 1))\n",
        "      distrib = model(states, z, goals, training = training) \n",
        "      \n",
        "\n",
        "    action_loss = compute_loss(actions, distrib, mask, seq_lens)\n",
        "    \n",
        "    regularisation_loss = compute_regularisation_loss(plan, encoding)\n",
        "    \n",
        "    return action_loss, regularisation_loss\n",
        "\n",
        "\n",
        "# Now outside strategy .scope\n",
        "def train_step(inputs, GCBC = False):\n",
        "  with tf.GradientTape() as tape:\n",
        "    act_loss, reg_loss = step(inputs, GCBC = GCBC, training=True)\n",
        "    loss = act_loss + reg_loss  * BETA\n",
        "    \n",
        "  train_act_loss.update_state(act_loss)\n",
        "  train_reg_loss.update_state(reg_loss)\n",
        "  gradients = tape.gradient(loss, model.trainable_variables+encoder.trainable_variables+planner.trainable_variables)\n",
        "  optimizer.apply_gradients(zip(gradients, model.trainable_variables+encoder.trainable_variables+planner.trainable_variables))\n",
        "  \n",
        "  return loss\n",
        "\n",
        "def test_step(inputs, GCBC=False):\n",
        "  act_loss, reg_loss = step(inputs, GCBC = GCBC, training=False)\n",
        "  valid_act_loss.update_state(act_loss)\n",
        "  valid_reg_loss.update_state(reg_loss)\n",
        "  return act_loss + reg_loss  * BETA\n",
        "\n",
        "@tf.function\n",
        "def distributed_train_step(dataset_inputs):\n",
        "  per_replica_losses = strategy.run(train_step, args=(dataset_inputs,))\n",
        "  return strategy.reduce(tf.distribute.ReduceOp.SUM, per_replica_losses, axis = None)\n",
        "\n",
        "@tf.function\n",
        "def distributed_test_step(dataset_inputs):\n",
        "  per_replica_losses = strategy.run(test_step, args=(dataset_inputs,))\n",
        "  return strategy.reduce(tf.distribute.ReduceOp.SUM, per_replica_losses, axis = None)\n",
        "\n",
        "\n",
        "train_dist_dataset = iter(strategy.experimental_distribute_dataset(train_dataset.repeat()))\n",
        "valid_dist_dataset = iter(strategy.experimental_distribute_dataset(valid_dataset.repeat()))"
      ],
      "execution_count": null,
      "outputs": []
    },
    {
      "cell_type": "code",
      "metadata": {
        "id": "G4NLoKxThrwY"
      },
      "source": [
        "\n",
        "\n",
        "trial_run(1e-2)\n",
        "trial_run(1e-3)\n",
        "trial_run(1e-4)\n",
        "trial_run(1e-1)"
      ],
      "execution_count": null,
      "outputs": []
    },
    {
      "cell_type": "code",
      "metadata": {
        "id": "OlJ945C9qZXD",
        "outputId": "98e2cc20-95ed-443c-943b-5de67172dd53",
        "colab": {
          "base_uri": "https://localhost:8080/",
          "height": 36
        }
      },
      "source": [
        "int(seq_lens[idx])"
      ],
      "execution_count": null,
      "outputs": [
        {
          "output_type": "execute_result",
          "data": {
            "text/plain": [
              "30"
            ]
          },
          "metadata": {
            "tags": []
          },
          "execution_count": 106
        }
      ]
    },
    {
      "cell_type": "markdown",
      "metadata": {
        "id": "8y0jB3MU_vxx"
      },
      "source": [
        "Gradients are \"calculated on each replica, they are synced across the replicas by **summing** them\"\n",
        "https://www.tensorflow.org/tutorials/distribute/custom_training#define_the_loss_function"
      ]
    },
    {
      "cell_type": "code",
      "metadata": {
        "id": "6kP9__W-k9mw",
        "outputId": "3f3a9717-dfdc-4431-f003-2728b1741b75",
        "colab": {
          "base_uri": "https://localhost:8080/",
          "height": 449
        }
      },
      "source": [
        "# Keras .fit API\n",
        "loss_fn = lambda y, p_y: -p_y.log_prob(y)\n",
        "# loss_fn = MeanSquaredError()\n",
        "\n",
        "def compute_loss(labels, predictions):\n",
        "    per_example_loss = loss_fn(labels, predictions)\n",
        "    return tf.nn.compute_average_loss(per_example_loss, global_batch_size=GLOBAL_BATCH_SIZE)\n",
        "\n",
        "with strategy.scope():\n",
        "    model = create_lstm_model_v2(**model_params)\n",
        "    model.compile(optimizer=Adam(learning_rate=1e-3),\n",
        "                experimental_steps_per_execution = 2,\n",
        "                loss=compute_loss,\n",
        "                metrics=['mean_absolute_error'])\n",
        "\n",
        "steps_per_epoch = 100\n",
        "validation_steps = 10\n",
        "\n",
        "callbacks = [\n",
        "    # tf.keras.callbacks.TensorBoard(log_dir='./logs'),\n",
        "    # tf.keras.callbacks.ModelCheckpoint(filepath=checkpoint_prefix, save_weights_only=True),\n",
        "    # tf.keras.callbacks.LearningRateScheduler(decay),\n",
        "]\n",
        "\n",
        "history = model.fit(train_data,\n",
        "          epochs=10,\n",
        "          steps_per_epoch=steps_per_epoch,\n",
        "          validation_data=valid_data, \n",
        "          validation_steps=validation_steps\n",
        "        #   callbacks=callbacks\n",
        "          )"
      ],
      "execution_count": null,
      "outputs": [
        {
          "output_type": "stream",
          "text": [
            "Epoch 1/10\n",
            " 10/100 [==>...........................] - ETA: 3:02 - loss: 979.5474 - mean_absolute_error: 1.1801 "
          ],
          "name": "stdout"
        },
        {
          "output_type": "error",
          "ename": "KeyboardInterrupt",
          "evalue": "ignored",
          "traceback": [
            "\u001b[0;31m---------------------------------------------------------------------------\u001b[0m",
            "\u001b[0;31mKeyboardInterrupt\u001b[0m                         Traceback (most recent call last)",
            "\u001b[0;32m<ipython-input-49-dd739b850b61>\u001b[0m in \u001b[0;36m<module>\u001b[0;34m()\u001b[0m\n\u001b[1;32m     27\u001b[0m           \u001b[0msteps_per_epoch\u001b[0m\u001b[0;34m=\u001b[0m\u001b[0msteps_per_epoch\u001b[0m\u001b[0;34m,\u001b[0m\u001b[0;34m\u001b[0m\u001b[0;34m\u001b[0m\u001b[0m\n\u001b[1;32m     28\u001b[0m           \u001b[0mvalidation_data\u001b[0m\u001b[0;34m=\u001b[0m\u001b[0mvalid_data\u001b[0m\u001b[0;34m,\u001b[0m\u001b[0;34m\u001b[0m\u001b[0;34m\u001b[0m\u001b[0m\n\u001b[0;32m---> 29\u001b[0;31m           \u001b[0mvalidation_steps\u001b[0m\u001b[0;34m=\u001b[0m\u001b[0mvalidation_steps\u001b[0m\u001b[0;34m\u001b[0m\u001b[0;34m\u001b[0m\u001b[0m\n\u001b[0m\u001b[1;32m     30\u001b[0m         \u001b[0;31m#   callbacks=callbacks\u001b[0m\u001b[0;34m\u001b[0m\u001b[0;34m\u001b[0m\u001b[0;34m\u001b[0m\u001b[0m\n\u001b[1;32m     31\u001b[0m           )\n",
            "\u001b[0;32m/usr/local/lib/python3.6/dist-packages/tensorflow/python/keras/engine/training.py\u001b[0m in \u001b[0;36m_method_wrapper\u001b[0;34m(self, *args, **kwargs)\u001b[0m\n\u001b[1;32m    106\u001b[0m   \u001b[0;32mdef\u001b[0m \u001b[0m_method_wrapper\u001b[0m\u001b[0;34m(\u001b[0m\u001b[0mself\u001b[0m\u001b[0;34m,\u001b[0m \u001b[0;34m*\u001b[0m\u001b[0margs\u001b[0m\u001b[0;34m,\u001b[0m \u001b[0;34m**\u001b[0m\u001b[0mkwargs\u001b[0m\u001b[0;34m)\u001b[0m\u001b[0;34m:\u001b[0m\u001b[0;34m\u001b[0m\u001b[0;34m\u001b[0m\u001b[0m\n\u001b[1;32m    107\u001b[0m     \u001b[0;32mif\u001b[0m \u001b[0;32mnot\u001b[0m \u001b[0mself\u001b[0m\u001b[0;34m.\u001b[0m\u001b[0m_in_multi_worker_mode\u001b[0m\u001b[0;34m(\u001b[0m\u001b[0;34m)\u001b[0m\u001b[0;34m:\u001b[0m  \u001b[0;31m# pylint: disable=protected-access\u001b[0m\u001b[0;34m\u001b[0m\u001b[0;34m\u001b[0m\u001b[0m\n\u001b[0;32m--> 108\u001b[0;31m       \u001b[0;32mreturn\u001b[0m \u001b[0mmethod\u001b[0m\u001b[0;34m(\u001b[0m\u001b[0mself\u001b[0m\u001b[0;34m,\u001b[0m \u001b[0;34m*\u001b[0m\u001b[0margs\u001b[0m\u001b[0;34m,\u001b[0m \u001b[0;34m**\u001b[0m\u001b[0mkwargs\u001b[0m\u001b[0;34m)\u001b[0m\u001b[0;34m\u001b[0m\u001b[0;34m\u001b[0m\u001b[0m\n\u001b[0m\u001b[1;32m    109\u001b[0m \u001b[0;34m\u001b[0m\u001b[0m\n\u001b[1;32m    110\u001b[0m     \u001b[0;31m# Running inside `run_distribute_coordinator` already.\u001b[0m\u001b[0;34m\u001b[0m\u001b[0;34m\u001b[0m\u001b[0;34m\u001b[0m\u001b[0m\n",
            "\u001b[0;32m/usr/local/lib/python3.6/dist-packages/tensorflow/python/keras/engine/training.py\u001b[0m in \u001b[0;36mfit\u001b[0;34m(self, x, y, batch_size, epochs, verbose, callbacks, validation_split, validation_data, shuffle, class_weight, sample_weight, initial_epoch, steps_per_epoch, validation_steps, validation_batch_size, validation_freq, max_queue_size, workers, use_multiprocessing)\u001b[0m\n\u001b[1;32m   1101\u001b[0m               \u001b[0mlogs\u001b[0m \u001b[0;34m=\u001b[0m \u001b[0mtmp_logs\u001b[0m  \u001b[0;31m# No error, now safe to assign to logs.\u001b[0m\u001b[0;34m\u001b[0m\u001b[0;34m\u001b[0m\u001b[0m\n\u001b[1;32m   1102\u001b[0m               \u001b[0mend_step\u001b[0m \u001b[0;34m=\u001b[0m \u001b[0mstep\u001b[0m \u001b[0;34m+\u001b[0m \u001b[0mdata_handler\u001b[0m\u001b[0;34m.\u001b[0m\u001b[0mstep_increment\u001b[0m\u001b[0;34m\u001b[0m\u001b[0;34m\u001b[0m\u001b[0m\n\u001b[0;32m-> 1103\u001b[0;31m               \u001b[0mcallbacks\u001b[0m\u001b[0;34m.\u001b[0m\u001b[0mon_train_batch_end\u001b[0m\u001b[0;34m(\u001b[0m\u001b[0mend_step\u001b[0m\u001b[0;34m,\u001b[0m \u001b[0mlogs\u001b[0m\u001b[0;34m)\u001b[0m\u001b[0;34m\u001b[0m\u001b[0;34m\u001b[0m\u001b[0m\n\u001b[0m\u001b[1;32m   1104\u001b[0m         \u001b[0mepoch_logs\u001b[0m \u001b[0;34m=\u001b[0m \u001b[0mcopy\u001b[0m\u001b[0;34m.\u001b[0m\u001b[0mcopy\u001b[0m\u001b[0;34m(\u001b[0m\u001b[0mlogs\u001b[0m\u001b[0;34m)\u001b[0m\u001b[0;34m\u001b[0m\u001b[0;34m\u001b[0m\u001b[0m\n\u001b[1;32m   1105\u001b[0m \u001b[0;34m\u001b[0m\u001b[0m\n",
            "\u001b[0;32m/usr/local/lib/python3.6/dist-packages/tensorflow/python/keras/callbacks.py\u001b[0m in \u001b[0;36mon_train_batch_end\u001b[0;34m(self, batch, logs)\u001b[0m\n\u001b[1;32m    438\u001b[0m     \"\"\"\n\u001b[1;32m    439\u001b[0m     \u001b[0;32mif\u001b[0m \u001b[0mself\u001b[0m\u001b[0;34m.\u001b[0m\u001b[0m_should_call_train_batch_hooks\u001b[0m\u001b[0;34m:\u001b[0m\u001b[0;34m\u001b[0m\u001b[0;34m\u001b[0m\u001b[0m\n\u001b[0;32m--> 440\u001b[0;31m       \u001b[0mself\u001b[0m\u001b[0;34m.\u001b[0m\u001b[0m_call_batch_hook\u001b[0m\u001b[0;34m(\u001b[0m\u001b[0mModeKeys\u001b[0m\u001b[0;34m.\u001b[0m\u001b[0mTRAIN\u001b[0m\u001b[0;34m,\u001b[0m \u001b[0;34m'end'\u001b[0m\u001b[0;34m,\u001b[0m \u001b[0mbatch\u001b[0m\u001b[0;34m,\u001b[0m \u001b[0mlogs\u001b[0m\u001b[0;34m=\u001b[0m\u001b[0mlogs\u001b[0m\u001b[0;34m)\u001b[0m\u001b[0;34m\u001b[0m\u001b[0;34m\u001b[0m\u001b[0m\n\u001b[0m\u001b[1;32m    441\u001b[0m \u001b[0;34m\u001b[0m\u001b[0m\n\u001b[1;32m    442\u001b[0m   \u001b[0;32mdef\u001b[0m \u001b[0mon_test_batch_begin\u001b[0m\u001b[0;34m(\u001b[0m\u001b[0mself\u001b[0m\u001b[0;34m,\u001b[0m \u001b[0mbatch\u001b[0m\u001b[0;34m,\u001b[0m \u001b[0mlogs\u001b[0m\u001b[0;34m=\u001b[0m\u001b[0;32mNone\u001b[0m\u001b[0;34m)\u001b[0m\u001b[0;34m:\u001b[0m\u001b[0;34m\u001b[0m\u001b[0;34m\u001b[0m\u001b[0m\n",
            "\u001b[0;32m/usr/local/lib/python3.6/dist-packages/tensorflow/python/keras/callbacks.py\u001b[0m in \u001b[0;36m_call_batch_hook\u001b[0;34m(self, mode, hook, batch, logs)\u001b[0m\n\u001b[1;32m    287\u001b[0m       \u001b[0mself\u001b[0m\u001b[0;34m.\u001b[0m\u001b[0m_call_batch_begin_hook\u001b[0m\u001b[0;34m(\u001b[0m\u001b[0mmode\u001b[0m\u001b[0;34m,\u001b[0m \u001b[0mbatch\u001b[0m\u001b[0;34m,\u001b[0m \u001b[0mlogs\u001b[0m\u001b[0;34m)\u001b[0m\u001b[0;34m\u001b[0m\u001b[0;34m\u001b[0m\u001b[0m\n\u001b[1;32m    288\u001b[0m     \u001b[0;32melif\u001b[0m \u001b[0mhook\u001b[0m \u001b[0;34m==\u001b[0m \u001b[0;34m'end'\u001b[0m\u001b[0;34m:\u001b[0m\u001b[0;34m\u001b[0m\u001b[0;34m\u001b[0m\u001b[0m\n\u001b[0;32m--> 289\u001b[0;31m       \u001b[0mself\u001b[0m\u001b[0;34m.\u001b[0m\u001b[0m_call_batch_end_hook\u001b[0m\u001b[0;34m(\u001b[0m\u001b[0mmode\u001b[0m\u001b[0;34m,\u001b[0m \u001b[0mbatch\u001b[0m\u001b[0;34m,\u001b[0m \u001b[0mlogs\u001b[0m\u001b[0;34m)\u001b[0m\u001b[0;34m\u001b[0m\u001b[0;34m\u001b[0m\u001b[0m\n\u001b[0m\u001b[1;32m    290\u001b[0m     \u001b[0;32melse\u001b[0m\u001b[0;34m:\u001b[0m\u001b[0;34m\u001b[0m\u001b[0;34m\u001b[0m\u001b[0m\n\u001b[1;32m    291\u001b[0m       \u001b[0;32mraise\u001b[0m \u001b[0mValueError\u001b[0m\u001b[0;34m(\u001b[0m\u001b[0;34m'Unrecognized hook: {}'\u001b[0m\u001b[0;34m.\u001b[0m\u001b[0mformat\u001b[0m\u001b[0;34m(\u001b[0m\u001b[0mhook\u001b[0m\u001b[0;34m)\u001b[0m\u001b[0;34m)\u001b[0m\u001b[0;34m\u001b[0m\u001b[0;34m\u001b[0m\u001b[0m\n",
            "\u001b[0;32m/usr/local/lib/python3.6/dist-packages/tensorflow/python/keras/callbacks.py\u001b[0m in \u001b[0;36m_call_batch_end_hook\u001b[0;34m(self, mode, batch, logs)\u001b[0m\n\u001b[1;32m    307\u001b[0m       \u001b[0mbatch_time\u001b[0m \u001b[0;34m=\u001b[0m \u001b[0mtime\u001b[0m\u001b[0;34m.\u001b[0m\u001b[0mtime\u001b[0m\u001b[0;34m(\u001b[0m\u001b[0;34m)\u001b[0m \u001b[0;34m-\u001b[0m \u001b[0mself\u001b[0m\u001b[0;34m.\u001b[0m\u001b[0m_batch_start_time\u001b[0m\u001b[0;34m\u001b[0m\u001b[0;34m\u001b[0m\u001b[0m\n\u001b[1;32m    308\u001b[0m \u001b[0;34m\u001b[0m\u001b[0m\n\u001b[0;32m--> 309\u001b[0;31m     \u001b[0mself\u001b[0m\u001b[0;34m.\u001b[0m\u001b[0m_call_batch_hook_helper\u001b[0m\u001b[0;34m(\u001b[0m\u001b[0mhook_name\u001b[0m\u001b[0;34m,\u001b[0m \u001b[0mbatch\u001b[0m\u001b[0;34m,\u001b[0m \u001b[0mlogs\u001b[0m\u001b[0;34m)\u001b[0m\u001b[0;34m\u001b[0m\u001b[0;34m\u001b[0m\u001b[0m\n\u001b[0m\u001b[1;32m    310\u001b[0m \u001b[0;34m\u001b[0m\u001b[0m\n\u001b[1;32m    311\u001b[0m     \u001b[0;32mif\u001b[0m \u001b[0mself\u001b[0m\u001b[0;34m.\u001b[0m\u001b[0m_check_timing\u001b[0m\u001b[0;34m:\u001b[0m\u001b[0;34m\u001b[0m\u001b[0;34m\u001b[0m\u001b[0m\n",
            "\u001b[0;32m/usr/local/lib/python3.6/dist-packages/tensorflow/python/keras/callbacks.py\u001b[0m in \u001b[0;36m_call_batch_hook_helper\u001b[0;34m(self, hook_name, batch, logs)\u001b[0m\n\u001b[1;32m    340\u001b[0m       \u001b[0mhook\u001b[0m \u001b[0;34m=\u001b[0m \u001b[0mgetattr\u001b[0m\u001b[0;34m(\u001b[0m\u001b[0mcallback\u001b[0m\u001b[0;34m,\u001b[0m \u001b[0mhook_name\u001b[0m\u001b[0;34m)\u001b[0m\u001b[0;34m\u001b[0m\u001b[0;34m\u001b[0m\u001b[0m\n\u001b[1;32m    341\u001b[0m       \u001b[0;32mif\u001b[0m \u001b[0mgetattr\u001b[0m\u001b[0;34m(\u001b[0m\u001b[0mcallback\u001b[0m\u001b[0;34m,\u001b[0m \u001b[0;34m'_supports_tf_logs'\u001b[0m\u001b[0;34m,\u001b[0m \u001b[0;32mFalse\u001b[0m\u001b[0;34m)\u001b[0m\u001b[0;34m:\u001b[0m\u001b[0;34m\u001b[0m\u001b[0;34m\u001b[0m\u001b[0m\n\u001b[0;32m--> 342\u001b[0;31m         \u001b[0mhook\u001b[0m\u001b[0;34m(\u001b[0m\u001b[0mbatch\u001b[0m\u001b[0;34m,\u001b[0m \u001b[0mlogs\u001b[0m\u001b[0;34m)\u001b[0m\u001b[0;34m\u001b[0m\u001b[0;34m\u001b[0m\u001b[0m\n\u001b[0m\u001b[1;32m    343\u001b[0m       \u001b[0;32melse\u001b[0m\u001b[0;34m:\u001b[0m\u001b[0;34m\u001b[0m\u001b[0;34m\u001b[0m\u001b[0m\n\u001b[1;32m    344\u001b[0m         \u001b[0;32mif\u001b[0m \u001b[0mnumpy_logs\u001b[0m \u001b[0;32mis\u001b[0m \u001b[0;32mNone\u001b[0m\u001b[0;34m:\u001b[0m  \u001b[0;31m# Only convert once.\u001b[0m\u001b[0;34m\u001b[0m\u001b[0;34m\u001b[0m\u001b[0m\n",
            "\u001b[0;32m/usr/local/lib/python3.6/dist-packages/tensorflow/python/keras/callbacks.py\u001b[0m in \u001b[0;36mon_train_batch_end\u001b[0;34m(self, batch, logs)\u001b[0m\n\u001b[1;32m    959\u001b[0m \u001b[0;34m\u001b[0m\u001b[0m\n\u001b[1;32m    960\u001b[0m   \u001b[0;32mdef\u001b[0m \u001b[0mon_train_batch_end\u001b[0m\u001b[0;34m(\u001b[0m\u001b[0mself\u001b[0m\u001b[0;34m,\u001b[0m \u001b[0mbatch\u001b[0m\u001b[0;34m,\u001b[0m \u001b[0mlogs\u001b[0m\u001b[0;34m=\u001b[0m\u001b[0;32mNone\u001b[0m\u001b[0;34m)\u001b[0m\u001b[0;34m:\u001b[0m\u001b[0;34m\u001b[0m\u001b[0;34m\u001b[0m\u001b[0m\n\u001b[0;32m--> 961\u001b[0;31m     \u001b[0mself\u001b[0m\u001b[0;34m.\u001b[0m\u001b[0m_batch_update_progbar\u001b[0m\u001b[0;34m(\u001b[0m\u001b[0mbatch\u001b[0m\u001b[0;34m,\u001b[0m \u001b[0mlogs\u001b[0m\u001b[0;34m)\u001b[0m\u001b[0;34m\u001b[0m\u001b[0;34m\u001b[0m\u001b[0m\n\u001b[0m\u001b[1;32m    962\u001b[0m \u001b[0;34m\u001b[0m\u001b[0m\n\u001b[1;32m    963\u001b[0m   \u001b[0;32mdef\u001b[0m \u001b[0mon_test_batch_end\u001b[0m\u001b[0;34m(\u001b[0m\u001b[0mself\u001b[0m\u001b[0;34m,\u001b[0m \u001b[0mbatch\u001b[0m\u001b[0;34m,\u001b[0m \u001b[0mlogs\u001b[0m\u001b[0;34m=\u001b[0m\u001b[0;32mNone\u001b[0m\u001b[0;34m)\u001b[0m\u001b[0;34m:\u001b[0m\u001b[0;34m\u001b[0m\u001b[0;34m\u001b[0m\u001b[0m\n",
            "\u001b[0;32m/usr/local/lib/python3.6/dist-packages/tensorflow/python/keras/callbacks.py\u001b[0m in \u001b[0;36m_batch_update_progbar\u001b[0;34m(self, batch, logs)\u001b[0m\n\u001b[1;32m   1014\u001b[0m     \u001b[0;32mif\u001b[0m \u001b[0mself\u001b[0m\u001b[0;34m.\u001b[0m\u001b[0mverbose\u001b[0m \u001b[0;34m==\u001b[0m \u001b[0;36m1\u001b[0m\u001b[0;34m:\u001b[0m\u001b[0;34m\u001b[0m\u001b[0;34m\u001b[0m\u001b[0m\n\u001b[1;32m   1015\u001b[0m       \u001b[0;31m# Only block async when verbose = 1.\u001b[0m\u001b[0;34m\u001b[0m\u001b[0;34m\u001b[0m\u001b[0;34m\u001b[0m\u001b[0m\n\u001b[0;32m-> 1016\u001b[0;31m       \u001b[0mlogs\u001b[0m \u001b[0;34m=\u001b[0m \u001b[0mtf_utils\u001b[0m\u001b[0;34m.\u001b[0m\u001b[0mto_numpy_or_python_type\u001b[0m\u001b[0;34m(\u001b[0m\u001b[0mlogs\u001b[0m\u001b[0;34m)\u001b[0m\u001b[0;34m\u001b[0m\u001b[0;34m\u001b[0m\u001b[0m\n\u001b[0m\u001b[1;32m   1017\u001b[0m       \u001b[0mself\u001b[0m\u001b[0;34m.\u001b[0m\u001b[0mprogbar\u001b[0m\u001b[0;34m.\u001b[0m\u001b[0mupdate\u001b[0m\u001b[0;34m(\u001b[0m\u001b[0mself\u001b[0m\u001b[0;34m.\u001b[0m\u001b[0mseen\u001b[0m\u001b[0;34m,\u001b[0m \u001b[0mlist\u001b[0m\u001b[0;34m(\u001b[0m\u001b[0mlogs\u001b[0m\u001b[0;34m.\u001b[0m\u001b[0mitems\u001b[0m\u001b[0;34m(\u001b[0m\u001b[0;34m)\u001b[0m\u001b[0;34m)\u001b[0m\u001b[0;34m,\u001b[0m \u001b[0mfinalize\u001b[0m\u001b[0;34m=\u001b[0m\u001b[0;32mFalse\u001b[0m\u001b[0;34m)\u001b[0m\u001b[0;34m\u001b[0m\u001b[0;34m\u001b[0m\u001b[0m\n\u001b[1;32m   1018\u001b[0m \u001b[0;34m\u001b[0m\u001b[0m\n",
            "\u001b[0;32m/usr/local/lib/python3.6/dist-packages/tensorflow/python/keras/utils/tf_utils.py\u001b[0m in \u001b[0;36mto_numpy_or_python_type\u001b[0;34m(tensors)\u001b[0m\n\u001b[1;32m    535\u001b[0m     \u001b[0;32mreturn\u001b[0m \u001b[0mt\u001b[0m  \u001b[0;31m# Don't turn ragged or sparse tensors to NumPy.\u001b[0m\u001b[0;34m\u001b[0m\u001b[0;34m\u001b[0m\u001b[0m\n\u001b[1;32m    536\u001b[0m \u001b[0;34m\u001b[0m\u001b[0m\n\u001b[0;32m--> 537\u001b[0;31m   \u001b[0;32mreturn\u001b[0m \u001b[0mnest\u001b[0m\u001b[0;34m.\u001b[0m\u001b[0mmap_structure\u001b[0m\u001b[0;34m(\u001b[0m\u001b[0m_to_single_numpy_or_python_type\u001b[0m\u001b[0;34m,\u001b[0m \u001b[0mtensors\u001b[0m\u001b[0;34m)\u001b[0m\u001b[0;34m\u001b[0m\u001b[0;34m\u001b[0m\u001b[0m\n\u001b[0m\u001b[1;32m    538\u001b[0m \u001b[0;34m\u001b[0m\u001b[0m\n\u001b[1;32m    539\u001b[0m \u001b[0;34m\u001b[0m\u001b[0m\n",
            "\u001b[0;32m/usr/local/lib/python3.6/dist-packages/tensorflow/python/util/nest.py\u001b[0m in \u001b[0;36mmap_structure\u001b[0;34m(func, *structure, **kwargs)\u001b[0m\n\u001b[1;32m    633\u001b[0m \u001b[0;34m\u001b[0m\u001b[0m\n\u001b[1;32m    634\u001b[0m   return pack_sequence_as(\n\u001b[0;32m--> 635\u001b[0;31m       \u001b[0mstructure\u001b[0m\u001b[0;34m[\u001b[0m\u001b[0;36m0\u001b[0m\u001b[0;34m]\u001b[0m\u001b[0;34m,\u001b[0m \u001b[0;34m[\u001b[0m\u001b[0mfunc\u001b[0m\u001b[0;34m(\u001b[0m\u001b[0;34m*\u001b[0m\u001b[0mx\u001b[0m\u001b[0;34m)\u001b[0m \u001b[0;32mfor\u001b[0m \u001b[0mx\u001b[0m \u001b[0;32min\u001b[0m \u001b[0mentries\u001b[0m\u001b[0;34m]\u001b[0m\u001b[0;34m,\u001b[0m\u001b[0;34m\u001b[0m\u001b[0;34m\u001b[0m\u001b[0m\n\u001b[0m\u001b[1;32m    636\u001b[0m       expand_composites=expand_composites)\n\u001b[1;32m    637\u001b[0m \u001b[0;34m\u001b[0m\u001b[0m\n",
            "\u001b[0;32m/usr/local/lib/python3.6/dist-packages/tensorflow/python/util/nest.py\u001b[0m in \u001b[0;36m<listcomp>\u001b[0;34m(.0)\u001b[0m\n\u001b[1;32m    633\u001b[0m \u001b[0;34m\u001b[0m\u001b[0m\n\u001b[1;32m    634\u001b[0m   return pack_sequence_as(\n\u001b[0;32m--> 635\u001b[0;31m       \u001b[0mstructure\u001b[0m\u001b[0;34m[\u001b[0m\u001b[0;36m0\u001b[0m\u001b[0;34m]\u001b[0m\u001b[0;34m,\u001b[0m \u001b[0;34m[\u001b[0m\u001b[0mfunc\u001b[0m\u001b[0;34m(\u001b[0m\u001b[0;34m*\u001b[0m\u001b[0mx\u001b[0m\u001b[0;34m)\u001b[0m \u001b[0;32mfor\u001b[0m \u001b[0mx\u001b[0m \u001b[0;32min\u001b[0m \u001b[0mentries\u001b[0m\u001b[0;34m]\u001b[0m\u001b[0;34m,\u001b[0m\u001b[0;34m\u001b[0m\u001b[0;34m\u001b[0m\u001b[0m\n\u001b[0m\u001b[1;32m    636\u001b[0m       expand_composites=expand_composites)\n\u001b[1;32m    637\u001b[0m \u001b[0;34m\u001b[0m\u001b[0m\n",
            "\u001b[0;32m/usr/local/lib/python3.6/dist-packages/tensorflow/python/keras/utils/tf_utils.py\u001b[0m in \u001b[0;36m_to_single_numpy_or_python_type\u001b[0;34m(t)\u001b[0m\n\u001b[1;32m    531\u001b[0m   \u001b[0;32mdef\u001b[0m \u001b[0m_to_single_numpy_or_python_type\u001b[0m\u001b[0;34m(\u001b[0m\u001b[0mt\u001b[0m\u001b[0;34m)\u001b[0m\u001b[0;34m:\u001b[0m\u001b[0;34m\u001b[0m\u001b[0;34m\u001b[0m\u001b[0m\n\u001b[1;32m    532\u001b[0m     \u001b[0;32mif\u001b[0m \u001b[0misinstance\u001b[0m\u001b[0;34m(\u001b[0m\u001b[0mt\u001b[0m\u001b[0;34m,\u001b[0m \u001b[0mops\u001b[0m\u001b[0;34m.\u001b[0m\u001b[0mTensor\u001b[0m\u001b[0;34m)\u001b[0m\u001b[0;34m:\u001b[0m\u001b[0;34m\u001b[0m\u001b[0;34m\u001b[0m\u001b[0m\n\u001b[0;32m--> 533\u001b[0;31m       \u001b[0mx\u001b[0m \u001b[0;34m=\u001b[0m \u001b[0mt\u001b[0m\u001b[0;34m.\u001b[0m\u001b[0mnumpy\u001b[0m\u001b[0;34m(\u001b[0m\u001b[0;34m)\u001b[0m\u001b[0;34m\u001b[0m\u001b[0;34m\u001b[0m\u001b[0m\n\u001b[0m\u001b[1;32m    534\u001b[0m       \u001b[0;32mreturn\u001b[0m \u001b[0mx\u001b[0m\u001b[0;34m.\u001b[0m\u001b[0mitem\u001b[0m\u001b[0;34m(\u001b[0m\u001b[0;34m)\u001b[0m \u001b[0;32mif\u001b[0m \u001b[0mnp\u001b[0m\u001b[0;34m.\u001b[0m\u001b[0mndim\u001b[0m\u001b[0;34m(\u001b[0m\u001b[0mx\u001b[0m\u001b[0;34m)\u001b[0m \u001b[0;34m==\u001b[0m \u001b[0;36m0\u001b[0m \u001b[0;32melse\u001b[0m \u001b[0mx\u001b[0m\u001b[0;34m\u001b[0m\u001b[0;34m\u001b[0m\u001b[0m\n\u001b[1;32m    535\u001b[0m     \u001b[0;32mreturn\u001b[0m \u001b[0mt\u001b[0m  \u001b[0;31m# Don't turn ragged or sparse tensors to NumPy.\u001b[0m\u001b[0;34m\u001b[0m\u001b[0;34m\u001b[0m\u001b[0m\n",
            "\u001b[0;32m/usr/local/lib/python3.6/dist-packages/tensorflow/python/framework/ops.py\u001b[0m in \u001b[0;36mnumpy\u001b[0;34m(self)\u001b[0m\n\u001b[1;32m   1061\u001b[0m     \"\"\"\n\u001b[1;32m   1062\u001b[0m     \u001b[0;31m# TODO(slebedev): Consider avoiding a copy for non-CPU or remote tensors.\u001b[0m\u001b[0;34m\u001b[0m\u001b[0;34m\u001b[0m\u001b[0;34m\u001b[0m\u001b[0m\n\u001b[0;32m-> 1063\u001b[0;31m     \u001b[0mmaybe_arr\u001b[0m \u001b[0;34m=\u001b[0m \u001b[0mself\u001b[0m\u001b[0;34m.\u001b[0m\u001b[0m_numpy\u001b[0m\u001b[0;34m(\u001b[0m\u001b[0;34m)\u001b[0m  \u001b[0;31m# pylint: disable=protected-access\u001b[0m\u001b[0;34m\u001b[0m\u001b[0;34m\u001b[0m\u001b[0m\n\u001b[0m\u001b[1;32m   1064\u001b[0m     \u001b[0;32mreturn\u001b[0m \u001b[0mmaybe_arr\u001b[0m\u001b[0;34m.\u001b[0m\u001b[0mcopy\u001b[0m\u001b[0;34m(\u001b[0m\u001b[0;34m)\u001b[0m \u001b[0;32mif\u001b[0m \u001b[0misinstance\u001b[0m\u001b[0;34m(\u001b[0m\u001b[0mmaybe_arr\u001b[0m\u001b[0;34m,\u001b[0m \u001b[0mnp\u001b[0m\u001b[0;34m.\u001b[0m\u001b[0mndarray\u001b[0m\u001b[0;34m)\u001b[0m \u001b[0;32melse\u001b[0m \u001b[0mmaybe_arr\u001b[0m\u001b[0;34m\u001b[0m\u001b[0;34m\u001b[0m\u001b[0m\n\u001b[1;32m   1065\u001b[0m \u001b[0;34m\u001b[0m\u001b[0m\n",
            "\u001b[0;32m/usr/local/lib/python3.6/dist-packages/tensorflow/python/framework/ops.py\u001b[0m in \u001b[0;36m_numpy\u001b[0;34m(self)\u001b[0m\n\u001b[1;32m   1027\u001b[0m   \u001b[0;32mdef\u001b[0m \u001b[0m_numpy\u001b[0m\u001b[0;34m(\u001b[0m\u001b[0mself\u001b[0m\u001b[0;34m)\u001b[0m\u001b[0;34m:\u001b[0m\u001b[0;34m\u001b[0m\u001b[0;34m\u001b[0m\u001b[0m\n\u001b[1;32m   1028\u001b[0m     \u001b[0;32mtry\u001b[0m\u001b[0;34m:\u001b[0m\u001b[0;34m\u001b[0m\u001b[0;34m\u001b[0m\u001b[0m\n\u001b[0;32m-> 1029\u001b[0;31m       \u001b[0;32mreturn\u001b[0m \u001b[0mself\u001b[0m\u001b[0;34m.\u001b[0m\u001b[0m_numpy_internal\u001b[0m\u001b[0;34m(\u001b[0m\u001b[0;34m)\u001b[0m\u001b[0;34m\u001b[0m\u001b[0;34m\u001b[0m\u001b[0m\n\u001b[0m\u001b[1;32m   1030\u001b[0m     \u001b[0;32mexcept\u001b[0m \u001b[0mcore\u001b[0m\u001b[0;34m.\u001b[0m\u001b[0m_NotOkStatusException\u001b[0m \u001b[0;32mas\u001b[0m \u001b[0me\u001b[0m\u001b[0;34m:\u001b[0m  \u001b[0;31m# pylint: disable=protected-access\u001b[0m\u001b[0;34m\u001b[0m\u001b[0;34m\u001b[0m\u001b[0m\n\u001b[1;32m   1031\u001b[0m       \u001b[0msix\u001b[0m\u001b[0;34m.\u001b[0m\u001b[0mraise_from\u001b[0m\u001b[0;34m(\u001b[0m\u001b[0mcore\u001b[0m\u001b[0;34m.\u001b[0m\u001b[0m_status_to_exception\u001b[0m\u001b[0;34m(\u001b[0m\u001b[0me\u001b[0m\u001b[0;34m.\u001b[0m\u001b[0mcode\u001b[0m\u001b[0;34m,\u001b[0m \u001b[0me\u001b[0m\u001b[0;34m.\u001b[0m\u001b[0mmessage\u001b[0m\u001b[0;34m)\u001b[0m\u001b[0;34m,\u001b[0m \u001b[0;32mNone\u001b[0m\u001b[0;34m)\u001b[0m  \u001b[0;31m# pylint: disable=protected-access\u001b[0m\u001b[0;34m\u001b[0m\u001b[0;34m\u001b[0m\u001b[0m\n",
            "\u001b[0;31mKeyboardInterrupt\u001b[0m: "
          ]
        }
      ]
    },
    {
      "cell_type": "code",
      "metadata": {
        "id": "XDzghVo4jV79",
        "outputId": "2fd58db4-e871-4e24-bb75-827bcdfc2d25",
        "colab": {
          "base_uri": "https://localhost:8080/",
          "height": 395
        }
      },
      "source": [
        "def display_training_curves(training, validation, title, subplot, yscale='linear'):\n",
        "  ax = plt.subplot(subplot)\n",
        "  ax.plot(training)\n",
        "  ax.plot(validation)\n",
        "  ax.set_title('model '+ title)\n",
        "  ax.set_ylabel(title)\n",
        "  ax.set_xlabel('epoch')\n",
        "  ax.legend(['training', 'validation'])\n",
        "  plt.yscale(yscale)\n",
        "\n",
        "plt.subplots(figsize=(10,5))\n",
        "plt.tight_layout()\n",
        "display_training_curves(history.history['mean_absolute_error'], history.history['val_mean_absolute_error'], 'mean_absolute_error', 121, yscale='log')\n",
        "display_training_curves(history.history['loss'], history.history['val_loss'], 'loss', 122)"
      ],
      "execution_count": null,
      "outputs": [
        {
          "output_type": "display_data",
          "data": {
            "image/png": "[encoded data removed]",
            "text/plain": [
              "<Figure size 720x360 with 2 Axes>"
            ]
          },
          "metadata": {
            "tags": [],
            "needs_background": "light"
          }
        }
      ]
    },
    {
      "cell_type": "code",
      "metadata": {
        "id": "H5i0ENBEDD7a"
      },
      "source": [
        "# For doing custom TPU training loops\n",
        "\n",
        "# @tf.function\n",
        "# def train_step(iterator):\n",
        "#   \"\"\"The step function for one training step\"\"\"\n",
        "\n",
        "#   def step_fn(inputs):\n",
        "#     \"\"\"The computation to run on each TPU device.\"\"\"\n",
        "#     images, labels = inputs\n",
        "#     with tf.GradientTape() as tape:\n",
        "#       logits = model(images, training=True)\n",
        "#       loss = tf.keras.losses.sparse_categorical_crossentropy(\n",
        "#           labels, logits, from_logits=True)\n",
        "#       loss = tf.nn.compute_average_loss(loss, global_batch_size=batch_size)\n",
        "#     grads = tape.gradient(loss, model.trainable_variables)\n",
        "#     optimizer.apply_gradients(list(zip(grads, model.trainable_variables)))\n",
        "#     training_loss.update_state(loss * strategy.num_replicas_in_sync)\n",
        "#     # training_accuracy.update_state(labels, logits)\n",
        "\n",
        "#   strategy.run(step_fn, args=(next(iterator),))"
      ],
      "execution_count": null,
      "outputs": []
    },
    {
      "cell_type": "markdown",
      "metadata": {
        "id": "kgNu4nrfflyj"
      },
      "source": [
        ""
      ]
    },
    {
      "cell_type": "code",
      "metadata": {
        "id": "EtsFSQOZfjbP",
        "outputId": "7f812bb1-f74d-428c-869f-569f5a35f38f",
        "colab": {
          "base_uri": "https://localhost:8080/",
          "height": 85
        }
      },
      "source": [
        "import time\n",
        "import pandaRL\n",
        "import gym\n",
        "import matplotlib.pyplot as plt \n",
        "from IPython.display import display, clear_output\n",
        "import imageio\n",
        "import eval\n",
        "\n",
        "if RELATIVE_JOINTS:\n",
        "  env = gym.make('pandaPlayJoints1Obj-v0')\n",
        "else:\n",
        "  env =  gym.make('pandaPlay-v0')\n",
        "env.reset()\n",
        "env.render('playback')"
      ],
      "execution_count": null,
      "outputs": [
        {
          "output_type": "stream",
          "text": [
            "current_dir=/content/local_packages/pandaRL/pandaRL/envs\n",
            "/content/local_packages/pandaRL/pandaRL/envs\n"
          ],
          "name": "stdout"
        },
        {
          "output_type": "stream",
          "text": [
            "/usr/local/lib/python3.6/dist-packages/gym/logger.py:30: UserWarning: \u001b[33mWARN: Box bound precision lowered by casting to float32\u001b[0m\n",
            "  warnings.warn(colorize('%s: %s'%('WARN', msg % args), 'yellow'))\n"
          ],
          "name": "stderr"
        }
      ]
    },
    {
      "cell_type": "code",
      "metadata": {
        "id": "zY_XBRqvmCq7"
      },
      "source": [
        "# model.save_weights('/content/drive/My Drive/Robotic Learning/inference_model.h5')"
      ],
      "execution_count": null,
      "outputs": []
    },
    {
      "cell_type": "code",
      "metadata": {
        "id": "n_HaModhNMjN"
      },
      "source": [
        "inference_model = create_lstm_model_v2(**model_params, training=False)\n",
        "inference_model.set_weights(model.get_weights())\n",
        "# inference_model.load_weights('/content/drive/My Drive/Robotic Learning/inference_model.h5')"
      ],
      "execution_count": null,
      "outputs": []
    },
    {
      "cell_type": "code",
      "metadata": {
        "id": "BkQjdfMSsFgk"
      },
      "source": [
        "f = 14 # 51\n",
        "eval_data = np.load(PYBULLET_DATA_DIR+'/obs_act_etc/'+str(f)+'/data.npz')\n",
        "potential_start_points = glob.glob(PYBULLET_DATA_DIR+'/states_and_ims/'+str(f)+'/env_states/*.bullet')\n",
        "\n",
        "observations = eval_data['obs']\n",
        "achieved_goals = eval_data['achieved_goals']\n",
        "if RELATIVE_JOINTS:\n",
        "  joints = eval_data['target_poses'] - eval_data['joint_poses'][:,:7]\n",
        "  gripper = np.expand_dims(eval_data['acts'][:, -1], -1)\n",
        "  actions = np.concatenate([joints,gripper], -1) \n",
        "else:\n",
        "  actions = eval_data['acts']\n",
        "\n",
        "def get_random_start_point(potential_start_points):\n",
        "    idx = np.random.choice(len(potential_start_points))\n",
        "    path = potential_start_points[idx]\n",
        "    tstep = int(path.split(\"/\")[-1].replace('.bullet',''))\n",
        "    return path, tstep"
      ],
      "execution_count": null,
      "outputs": []
    },
    {
      "cell_type": "markdown",
      "metadata": {
        "id": "j8Tl464nd-g2"
      },
      "source": [
        ""
      ]
    },
    {
      "cell_type": "code",
      "metadata": {
        "id": "Y_Vk0z3MsbTi",
        "outputId": "7b2afc46-594a-4e2a-ee04-454237c9f3b8",
        "colab": {
          "base_uri": "https://localhost:8080/",
          "height": 269
        }
      },
      "source": [
        "# Play out action histories\n",
        "f = 14 # 51\n",
        "eval_data = np.load(PYBULLET_DATA_DIR+'/obs_act_etc/'+str(f)+'/data.npz')\n",
        "potential_start_points = glob.glob(PYBULLET_DATA_DIR+'/states_and_ims/'+str(f)+'/env_states/*.bullet')\n",
        "\n",
        "observations = eval_data['obs']\n",
        "achieved_goals = eval_data['achieved_goals']\n",
        "if RELATIVE_JOINTS:\n",
        "  joints = eval_data['target_poses'] - eval_data['joint_poses'][:,:7]\n",
        "  gripper = np.expand_dims(eval_data['acts'][:, -1], -1)\n",
        "  actions = np.concatenate([joints,gripper], -1) \n",
        "else:\n",
        "  actions = eval_data['acts']\n",
        "\n",
        "def get_random_start_point(potential_start_points):\n",
        "    idx = np.random.choice(len(potential_start_points))\n",
        "    path = potential_start_points[idx]\n",
        "    tstep = int(path.split(\"/\")[-1].replace('.bullet',''))\n",
        "    return path, tstep\n",
        "    \n",
        "path, start = get_random_start_point(potential_start_points)\n",
        "env.p.restoreState(fileName=path)\n",
        "\n",
        "vid_path = 'output/videos/trajectory.mp4'\n",
        "with imageio.get_writer(vid_path, mode='I') as writer:\n",
        "    for i in range(start, start+60):\n",
        "        o ,r, d, _ = env.step(actions[i,:])\n",
        "        writer.append_data(o['img'])\n",
        "        clear_output(wait=True)\n",
        "        fig = plt.imshow(o['img'])\n",
        "        plt.show()\n",
        "        time.sleep(0.01)"
      ],
      "execution_count": null,
      "outputs": [
        {
          "output_type": "display_data",
          "data": {
            "image/png": "[encoded data removed]",
            "text/plain": [
              "<Figure size 432x288 with 1 Axes>"
            ]
          },
          "metadata": {
            "tags": [],
            "needs_background": "light"
          }
        }
      ]
    },
    {
      "cell_type": "code",
      "metadata": {
        "id": "wwSAAw6NPmpS",
        "outputId": "3d8f42ba-359b-4ba8-9328-031f400ba016",
        "colab": {
          "base_uri": "https://localhost:8080/",
          "height": 269
        }
      },
      "source": [
        "# Play out stateful model predictions\n",
        "path, start = get_random_start_point(potential_start_points)\n",
        "env.p.restoreState(fileName=path)\n",
        "\n",
        "vid_path = 'output/videos/trajectory.mp4'\n",
        "\n",
        "eval_seq_len = 60\n",
        "obs_in = observations[start][tf.newaxis,tf.newaxis,:]\n",
        "g_in = achieved_goals[start+eval_seq_len][tf.newaxis,tf.newaxis,:] # same as two expand_dims\n",
        "inference_model.reset_states()\n",
        "\n",
        "eval_obs = []\n",
        "eval_acts = []\n",
        "\n",
        "with imageio.get_writer(vid_path, mode='I') as writer:\n",
        "    for i in range(start, start+eval_seq_len):\n",
        "        a = inference_model([obs_in, g_in]).sample()[0,0,:] # Reduce to 1d\n",
        "        o ,r, d, _ = env.step(a)\n",
        "        obs_in = o['observation'][tf.newaxis,tf.newaxis,:]\n",
        "        writer.append_data(o['img'])\n",
        "        clear_output(wait=True)\n",
        "        fig = plt.imshow(o['img'])\n",
        "        plt.show()\n",
        "\n",
        "        eval_obs.append(o['observation'])\n",
        "        eval_acts.append(a)\n",
        "    inference_model.reset_states()\n",
        "\n",
        "eval_obs = np.vstack(eval_obs)\n",
        "eval_acts = np.vstack(eval_acts)"
      ],
      "execution_count": null,
      "outputs": [
        {
          "output_type": "display_data",
          "data": {
            "image/png": "[encoded data removed]",
            "text/plain": [
              "<Figure size 432x288 with 1 Axes>"
            ]
          },
          "metadata": {
            "tags": [],
            "needs_background": "light"
          }
        }
      ]
    },
    {
      "cell_type": "code",
      "metadata": {
        "id": "NCPwvA7V6ZWh",
        "outputId": "58b49f17-7821-4146-d6fd-c8e921e91acf",
        "colab": {
          "base_uri": "https://localhost:8080/",
          "height": 321
        }
      },
      "source": [
        "eval.render_mp4(vid_path)"
      ],
      "execution_count": null,
      "outputs": [
        {
          "output_type": "execute_result",
          "data": {
            "text/html": [
              "\n",
              "                <video width=\"300\" height=\"300\" controls>\n",
              "                <source src=\"data:video/mp4;base64,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\" type=\"video/mp4\">\n",
              "                </video>\n",
              "                "
            ],
            "text/plain": [
              "<IPython.core.display.HTML object>"
            ]
          },
          "metadata": {
            "tags": []
          },
          "execution_count": 53
        }
      ]
    },
    {
      "cell_type": "markdown",
      "metadata": {
        "id": "shzygzgdeG8J"
      },
      "source": [
        "## Plotting Timeseries of obs, acts"
      ]
    },
    {
      "cell_type": "code",
      "metadata": {
        "id": "j78Utge0bfxb",
        "cellView": "form",
        "outputId": "528b92c3-f143-406f-b018-34b9bfbebe06",
        "colab": {
          "base_uri": "https://localhost:8080/",
          "height": 281
        }
      },
      "source": [
        "#@title Visualise observations\n",
        "obs_idx = 0 #@param {type:\"slider\", min:0, max:25, step:1}\n",
        "\n",
        "plt.figure()\n",
        "t = range(eval_seq_len)\n",
        "plt.plot(t, observations[start:start+eval_seq_len,obs_idx], label='true')\n",
        "plt.plot(t, eval_obs[:,obs_idx], label='model')\n",
        "plt.title(f'Observation dim {obs_idx}')\n",
        "plt.legend()\n",
        "plt.show()"
      ],
      "execution_count": null,
      "outputs": [
        {
          "output_type": "display_data",
          "data": {
            "image/png": "[encoded data removed]",
            "text/plain": [
              "<Figure size 432x288 with 1 Axes>"
            ]
          },
          "metadata": {
            "tags": [],
            "needs_background": "light"
          }
        }
      ]
    },
    {
      "cell_type": "code",
      "metadata": {
        "id": "GqKohTUOdC0C",
        "cellView": "form",
        "outputId": "770c52fa-a941-454b-87d1-4793f2be37dc",
        "colab": {
          "base_uri": "https://localhost:8080/",
          "height": 281
        }
      },
      "source": [
        "#@title Visualise actions\n",
        "acts_idx = 6 #@param {type:\"slider\", min:0, max:7, step:1}\n",
        "\n",
        "plt.figure()\n",
        "t = range(eval_seq_len)\n",
        "plt.plot(t, actions[start:start+eval_seq_len,acts_idx], label='true')\n",
        "plt.plot(t, eval_acts[:,acts_idx], label='model')\n",
        "plt.title(f'Action dim {acts_idx}')\n",
        "plt.legend()\n",
        "plt.show()"
      ],
      "execution_count": null,
      "outputs": [
        {
          "output_type": "display_data",
          "data": {
            "image/png": "[encoded data removed]",
            "text/plain": [
              "<Figure size 432x288 with 1 Axes>"
            ]
          },
          "metadata": {
            "tags": [],
            "needs_background": "light"
          }
        }
      ]
    },
    {
      "cell_type": "markdown",
      "metadata": {
        "id": "G84fGXVwv9Fh"
      },
      "source": [
        "# Perfect, Deterministic Reset and Replay"
      ]
    },
    {
      "cell_type": "code",
      "metadata": {
        "id": "qSFFlcskv9Fl"
      },
      "source": [
        "import gym\n",
        "import time\n",
        "import pandaRL\n",
        "if RELATIVE_JOINTS:\n",
        "    env = gym.make('pandaPlayJoints-v0')\n",
        "else:\n",
        "    env = gym.make('pandaPlay-v0')\n",
        "env.render('human')\n",
        "env.reset()"
      ],
      "execution_count": null,
      "outputs": []
    },
    {
      "cell_type": "code",
      "metadata": {
        "id": "ffT-7ivrv9Fv"
      },
      "source": [
        "idx = np.random.choice(len(o))\n",
        "traj_end = len(np.where(m[idx] == 1)[0])-1\n",
        "#env.panda.reset_goal_pos(ag_to_dg(g[idx, traj_end,:]))\n",
        "env.p.restoreState(fileName=dataset_path+'states_and_ims/'+str(int(pth[idx]))+'/env_states/'+str(int(tsteps[idx,0]))+'.bullet')\n",
        "\n"
      ],
      "execution_count": null,
      "outputs": []
    },
    {
      "cell_type": "code",
      "metadata": {
        "id": "QC5hK81Vv9F1"
      },
      "source": [
        "for i in range(0, traj_end+1):\n",
        "    #env.p.restoreState(fileName=dataset_path+str(int(pth[idx]))+'/env_states/'+str(int(tsteps[idx,i]))+'.bullet')\n",
        "    #time.sleep(0.1)\n",
        "    env.step(a[idx, i, :])"
      ],
      "execution_count": null,
      "outputs": []
    },
    {
      "cell_type": "code",
      "metadata": {
        "id": "QvNvFNZxv9F5"
      },
      "source": [
        "def test_subsequences(use_ori = True, replay=False):\n",
        "    \n",
        "    t_it = iter(tf_valid_data)\n",
        "    obs, acts, goals, masks, pth, tsteps = t_it.next()\n",
        "    idx = np.random.choice(len(obs))\n",
        "    \n",
        "    \n",
        "    start_idx = str(int(tsteps[idx,0]))\n",
        "    traj_end = len(np.where(masks[idx] == 1)[0])-1\n",
        "    \n",
        "    env.p.restoreState(fileName=dataset_path+'states_and_ims/'+str(int(pth[idx]))+'/env_states/'+str(int(tsteps[idx,0]))+'.bullet')\n",
        "    \n",
        "    o = tf.expand_dims(obs[idx][0],0)\n",
        "    \n",
        "    goal = goals[idx, traj_end,:]\n",
        "    #env.panda.reset_goal_pos(ag_to_dg(goal))\n",
        "    goal = tf.expand_dims(goal, 0)\n",
        "    \n",
        "    \n",
        "    if replay:\n",
        "        retries = 1\n",
        "    else:\n",
        "        retries = 1\n",
        "        \n",
        "    for i in range(0,retries):\n",
        "        past_state = [None, None]\n",
        "        for i in range(0, traj_end+1):\n",
        "\n",
        "            distrib, past_state = model(o, goal,  past_state = past_state)\n",
        "            a = distrib.sample().numpy().squeeze() \n",
        "            \n",
        "            if use_ori:\n",
        "                a[3:7] =  np.array(env.panda.default_arm_orn) # because it hasn't ever had to cope with\n",
        "            if replay:\n",
        "                a=acts[idx, i, :] # uncomment this to replay play subsequences\n",
        "            o, r, d, _ = env.step(a)\n",
        "            o = tf.expand_dims(o['observation'], 0)"
      ],
      "execution_count": null,
      "outputs": []
    },
    {
      "cell_type": "markdown",
      "metadata": {
        "pycharm": {
          "name": "#%% md\n"
        },
        "id": "-yC0L1P3v9GA"
      },
      "source": [
        "# MLP Evaluation"
      ]
    },
    {
      "cell_type": "code",
      "metadata": {
        "id": "7GMYQIc9v9GB"
      },
      "source": [
        "def ag_to_dg(ag):\n",
        "    dg = np.concatenate([ag[0:3], ag[7:10]])\n",
        "    return dg"
      ],
      "execution_count": null,
      "outputs": []
    },
    {
      "cell_type": "code",
      "metadata": {
        "pycharm": {
          "name": "#%%\n"
        },
        "id": "WHt-EhKHv9GF"
      },
      "source": [
        "# This below is only appropriate for non sequence models, which will aim for shorter timespans. \n",
        "n_valid_trajectories = len(valid_data['obs'])\n",
        "idx = np.random.choice(n_valid_trajectories)\n",
        "traj_obs, traj_acts, traj_init_o, traj_init_v = [valid_data[key][idx] for key in valid_data.keys()]"
      ],
      "execution_count": null,
      "outputs": []
    },
    {
      "cell_type": "code",
      "metadata": {
        "pycharm": {
          "name": "#%%\n"
        },
        "id": "TWJ-_tLrv9GH"
      },
      "source": [
        "\n",
        "o = env.reset()\n",
        "# A few representative points along the trajectory for us to test how it goes from there (before it loses coherence\n",
        "# over the long trajectory)\n",
        "ZERO, QUARTER, HALF, THREEQ = 0, len(traj_obs)//4, len(traj_obs)//2, len(traj_obs)*3//4\n",
        "# Get the init point\n",
        "init_o = traj_obs[THREEQ][START_OBS:END_OBS]# traj_init_o\n",
        "# reset to our desired init, but with 0 velocity - fine for now. \n",
        "env.robot.reset(env, init_o, traj_init_v)\n",
        "# select the goal as the end state of the trajectory \n",
        "goal = traj_obs[-1][START_GOAL:END_GOAL]\n",
        "for i in range(len(traj_acts)):\n",
        "    o = tf.expand_dims(np.concatenate([o[START_OBS:END_OBS], goal], -1),0)\n",
        "    if PROBS:# need to sample from the model if its probabilistic. \n",
        "        a = model(o).sample()[0]\n",
        "    else:\n",
        "        a = model.predict(o)[0]\n",
        "    #a = traj_acts[i]\n",
        "    o, r, d, _ = env.step(a) # the key change\n",
        "    \n",
        "    env.render()"
      ],
      "execution_count": null,
      "outputs": []
    },
    {
      "cell_type": "markdown",
      "metadata": {
        "pycharm": {
          "name": "#%% md\n"
        },
        "id": "8SHQGBjnv9GK"
      },
      "source": [
        "# LSTM Evaluation"
      ]
    },
    {
      "cell_type": "code",
      "metadata": {
        "pycharm": {
          "name": "#%%\n"
        },
        "id": "SXyTQ8kov9GL"
      },
      "source": [
        "valid = dataset[int(N_TRAJS*train_partition):]\n",
        "\n",
        "def test_subsequences():\n",
        "    \n",
        "    obs, acts, goals, masks = sample_sequence_batch(valid)\n",
        "    o = env.reset()\n",
        "    idx = np.random.choice(len(obs))\n",
        "    traj_end = len(np.where(masks[idx] == 1)[0])-1\n",
        "\n",
        "    masks[idx][traj_end]\n",
        "    start_pos = obs[idx][0][START_OBS:END_OBS].numpy()\n",
        "    goal = np.expand_dims(obs[idx][traj_end][START_GOAL:END_GOAL],0)\n",
        "    zero_vel = np.zeros(29)\n",
        "\n",
        "    env.robot.reset(env, start_pos, zero_vel)\n",
        "    o = np.squeeze(obs[idx][0])\n",
        "    env.render()\n",
        "    past_state = [None, None]\n",
        "    \n",
        "    for i in range(0,3):\n",
        "        for i in range(0, traj_end+1):\n",
        "            o = tf.expand_dims(o[START_OBS:END_OBS], 0)\n",
        "            distrib, past_state = model(o, goal,  past_state = past_state)\n",
        "\n",
        "            a = distrib.sample().numpy().squeeze() \n",
        "            #a = acts[idx, i, :] # uncomment this to replay play subsequences\n",
        "            o, r, d, _ = env.step(a)\n",
        "            env.render()\n"
      ],
      "execution_count": null,
      "outputs": []
    },
    {
      "cell_type": "code",
      "metadata": {
        "pycharm": {
          "name": "#%%\n"
        },
        "id": "4CpW3P-Bv9GS"
      },
      "source": [
        "# What about on a full trajectory? Where we give it the intermediate goals?\n",
        "n_valid_trajectories = len(valid)\n",
        "idx = np.random.choice(n_valid_trajectories)\n",
        "traj_obs, traj_acts, traj_goals, traj_init_o, traj_init_v = [valid[idx][key] for key in valid[idx].keys()]\n",
        "o = env.reset()\n",
        "traj_len = len(traj_obs)\n",
        "intervals = np.array([0, traj_len//4, traj_len//2, traj_len*3//4, traj_len])\n",
        "init_o = traj_obs[0][START_OBS:END_OBS]# traj_init_o\n",
        "# reset to our desired init, but with 0 velocity - fine for now. \n",
        "env.robot.reset(env, init_o, traj_init_v)\n",
        "env.render()\n",
        "\n",
        "    \n"
      ],
      "execution_count": null,
      "outputs": []
    },
    {
      "cell_type": "code",
      "metadata": {
        "pycharm": {
          "name": "#%%\n"
        },
        "id": "3pfij6NBv9GV"
      },
      "source": [
        "past_state = [None, None]\n",
        "for t in range(traj_len):\n",
        "        goal_idx = np.where(t < intervals)[0][0] # which part of the task we are up to\n",
        "        goal = tf.cast(tf.expand_dims(traj_obs[intervals[goal_idx]-1][START_GOAL:END_GOAL], 0), tf.float32)\n",
        "        o = tf.cast(tf.expand_dims(o[START_OBS:END_OBS],0), tf.float32)\n",
        "        distrib, past_state = model(o,goal, past_state = past_state)\n",
        "        \n",
        "        #a = distrib.sample().numpy().squeeze() \n",
        "        a = traj_acts[t, :] # uncomment this to replay play subsequences\n",
        "        o, r, d, _ = env.step(a)\n",
        "        env.render()"
      ],
      "execution_count": null,
      "outputs": []
    },
    {
      "cell_type": "code",
      "metadata": {
        "pycharm": {
          "name": "#%%\n"
        },
        "id": "IihoFnSsv9Gi"
      },
      "source": [
        "@tf.function\n",
        "def train_step(x, y):\n",
        "    with tf.GradientTape() as tape:\n",
        "        logits = model(x, training=True)\n",
        "        loss_value = loss_fn(y, logits)\n",
        "    grads = tape.gradient(loss_value, model.trainable_weights)\n",
        "    optimizer.apply_gradients(zip(grads, model.trainable_weights))\n",
        "#     train_acc_metric.update_state(y, logits)\n",
        "    return loss_value\n",
        "\n",
        "@tf.function\n",
        "def test_step(x, y):\n",
        "    val_logits = model(x, training=False)\n",
        "#     val_acc_metric.update_state(y, val_logits)"
      ],
      "execution_count": null,
      "outputs": []
    },
    {
      "cell_type": "code",
      "metadata": {
        "pycharm": {
          "name": "#%%\n"
        },
        "id": "gj4eF6mJv9Gk"
      },
      "source": [
        "EPOCHS = 10\n",
        "\n",
        "for epoch in range(EPOCHS):\n",
        "    print(f\"\\nEpoch {epoch}\")\n",
        "    start_time = time.time()\n",
        "    progbar = Progbar(len(observations), verbose=1, interval=0.5)\n",
        "\n",
        "    # Iterate over the batches of the dataset.\n",
        "    for step, (obs,acts) in enumerate(zip(observations, actions)):\n",
        "#         obs = traj_batch['observations']\n",
        "#         acts = traj_batch['actions']\n",
        "    \n",
        "        loss_value = train_step(obs, acts)\n",
        "        progbar.add(1, [('Loss', loss_value)]) "
      ],
      "execution_count": null,
      "outputs": []
    },
    {
      "cell_type": "code",
      "metadata": {
        "id": "FhxqJ6Sdv9Gp",
        "outputId": "cea3ab74-4d4b-48cb-bad2-00af84362670"
      },
      "source": [
        "EPOCHS = 10\n",
        "\n",
        "for epoch in range(EPOCHS):\n",
        "    print(f\"\\nEpoch {epoch}\")\n",
        "    start_time = time.time()\n",
        "    progbar = Progbar(len(observations), verbose=1, interval=0.5)\n",
        "\n",
        "    # Iterate over the batches of the dataset.\n",
        "    for step, (obs,acts) in enumerate(zip(observations, actions)):\n",
        "#         obs = traj_batch['observations']\n",
        "#         acts = traj_batch['actions']\n",
        "    \n",
        "        loss_value = train_step(obs, acts)\n",
        "        progbar.add(1, [('Loss', loss_value)])  "
      ],
      "execution_count": null,
      "outputs": [
        {
          "output_type": "stream",
          "text": [
            "88.02201747894287 19.151499032974243\n"
          ],
          "name": "stdout"
        }
      ]
    },
    {
      "cell_type": "code",
      "metadata": {
        "pycharm": {
          "name": "#%%\n"
        },
        "id": "xHKZ0c0Fv9Gv",
        "outputId": "1efe54b3-5860-41df-eecf-a82518b919bc"
      },
      "source": [
        "import gym\n",
        "import adept_envs\n",
        "\n",
        "env = gym.make(\"kitchen_relax-v1\")"
      ],
      "execution_count": null,
      "outputs": [
        {
          "output_type": "stream",
          "text": [
            "Reading configurations for Franka\n",
            "\u001b[40m\u001b[37mInitializing Franka sim\u001b[0m\n",
            "registering the liscence\n"
          ],
          "name": "stdout"
        },
        {
          "output_type": "stream",
          "text": [
            "/home/sholto/anaconda3/lib/python3.7/site-packages/gym/logger.py:30: UserWarning: \u001b[33mWARN: Box bound precision lowered by casting to float32\u001b[0m\n",
            "  warnings.warn(colorize('%s: %s'%('WARN', msg % args), 'yellow'))\n"
          ],
          "name": "stderr"
        }
      ]
    },
    {
      "cell_type": "markdown",
      "metadata": {
        "pycharm": {
          "name": "#%% md\n"
        },
        "id": "b7CMny5dv9Gx"
      },
      "source": [
        "# MLP Evaluation"
      ]
    },
    {
      "cell_type": "code",
      "metadata": {
        "id": "JOm7R4A-v9Gx"
      },
      "source": [
        "# This below is only appropriate for non sequence models, which will aim for shorter timespans. \n",
        "n_valid_trajectories = len(valid_data['obs'])\n",
        "idx = np.random.choice(n_valid_trajectories)\n",
        "traj_obs, traj_acts, traj_init_o, traj_init_v = [valid_data[key][idx] for key in valid_data.keys()]"
      ],
      "execution_count": null,
      "outputs": []
    },
    {
      "cell_type": "code",
      "metadata": {
        "pycharm": {
          "name": "#%%\n"
        },
        "id": "PXQbt0Oov9Gz"
      },
      "source": [
        "\n",
        "o = env.reset()\n",
        "# A few representative points along the trajectory for us to test how it goes from there (before it loses coherence\n",
        "# over the long trajectory)\n",
        "ZERO, QUARTER, HALF, THREEQ = 0, len(traj_obs)//4, len(traj_obs)//2, len(traj_obs)*3//4\n",
        "# Get the init point\n",
        "init_o = traj_obs[THREEQ][START_OBS:END_OBS]# traj_init_o\n",
        "# reset to our desired init, but with 0 velocity - fine for now. \n",
        "env.robot.reset(env, init_o, traj_init_v)\n",
        "# select the goal as the end state of the trajectory \n",
        "goal = traj_obs[-1][START_GOAL:END_GOAL]\n",
        "for i in range(len(traj_acts)):\n",
        "    o = tf.expand_dims(np.concatenate([o[START_OBS:END_OBS], goal], -1),0)\n",
        "    if PROBS:# need to sample from the model if its probabilistic. \n",
        "        a = model(o).sample()[0]\n",
        "    else:\n",
        "        a = model.predict(o)[0]\n",
        "    #a = traj_acts[i]\n",
        "    o, r, d, _ = env.step(a) # the key change\n",
        "    \n",
        "    env.render()"
      ],
      "execution_count": null,
      "outputs": []
    },
    {
      "cell_type": "markdown",
      "metadata": {
        "pycharm": {
          "name": "#%% md\n"
        },
        "id": "njbQpQAGv9G2"
      },
      "source": [
        "# LSTM Evaluation"
      ]
    },
    {
      "cell_type": "code",
      "metadata": {
        "id": "bdznW904v9G2"
      },
      "source": [
        "\n",
        "def test_subsequences():\n",
        "    obs, acts, masks = sample_sequence_batch(valid_data)\n",
        "    o = env.reset()\n",
        "    idx = np.random.choice(len(obs))\n",
        "    traj_end = len(np.where(masks[idx] == 1)[0])-1\n",
        "\n",
        "    masks[idx][traj_end]\n",
        "    start_pos = obs[idx][0][START_OBS:END_OBS].numpy()\n",
        "    goal = obs[idx][traj_end][START_GOAL:END_GOAL]\n",
        "    zero_vel = np.zeros(29)\n",
        "\n",
        "    env.robot.reset(env, start_pos, zero_vel)\n",
        "    o = np.squeeze(obs[idx][0])\n",
        "    env.render()\n",
        "\n",
        "\n",
        "    past_state = [None, None]\n",
        "\n",
        "    for i in range(0, traj_end+1):\n",
        "        o = tf.expand_dims(np.concatenate([o[START_OBS:END_OBS], goal], -1),0)\n",
        "        distrib, past_state = model(o, past_state = past_state)\n",
        "        #a = acts[idx, i, :] # uncomment this to replay play subsequences\n",
        "        a = distrib.sample().numpy().squeeze() \n",
        "        o, r, d, _ = env.step(a)\n",
        "        env.render()\n",
        "    "
      ],
      "execution_count": null,
      "outputs": []
    },
    {
      "cell_type": "code",
      "metadata": {
        "id": "8A7JypWXv9G4"
      },
      "source": [
        "for i in range(0,100):\n",
        "    test_subsequences()"
      ],
      "execution_count": null,
      "outputs": []
    },
    {
      "cell_type": "code",
      "metadata": {
        "pycharm": {
          "name": "#%%\n"
        },
        "id": "JY9VcxT3v9G9"
      },
      "source": [
        "# What about on a full trajectory? Where we give it the intermediate goals?\n",
        "n_valid_trajectories = len(valid_data)\n",
        "idx = np.random.choice(n_valid_trajectories)\n",
        "traj_obs, traj_acts, traj_init_o, traj_init_v = [valid_data[key][idx] for key in valid_data.keys()]\n",
        "o = env.reset()\n",
        "traj_len = len(traj_obs)\n",
        "intervals = np.array([0, traj_len//4, traj_len//2, traj_len*3//4, traj_len])\n",
        "init_o = traj_obs[0][START_OBS:END_OBS]# traj_init_o\n",
        "# reset to our desired init, but with 0 velocity - fine for now. \n",
        "env.robot.reset(env, init_o, traj_init_v)\n",
        "env.render()\n",
        "\n",
        "    \n"
      ],
      "execution_count": null,
      "outputs": []
    },
    {
      "cell_type": "code",
      "metadata": {
        "id": "jrN7P-PUv9G_"
      },
      "source": [
        "past_state = [None, None]\n",
        "for t in range(traj_len):\n",
        "        goal_idx = np.where(t < intervals)[0][0] # which part of the task we are up to\n",
        "        goal = traj_obs[intervals[goal_idx]-1][START_GOAL:END_GOAL]\n",
        "        o = tf.expand_dims(np.concatenate([o[START_OBS:END_OBS], goal], -1),0)\n",
        "        distrib, past_state = model(o, past_state = past_state)\n",
        "        #a = acts[idx, i, :] # uncomment this to replay play subsequences\n",
        "        a = distrib.sample().numpy().squeeze() \n",
        "        o, r, d, _ = env.step(a)\n",
        "        env.render()"
      ],
      "execution_count": null,
      "outputs": []
    },
    {
      "cell_type": "code",
      "metadata": {
        "id": "yjkFJ7Nov9HC"
      },
      "source": [
        "# What about on a full trajectory? Where we give it the intermediate goals?\n",
        "n_valid_trajectories = len(valid_data)\n",
        "idx = np.random.choice(n_valid_trajectories)\n",
        "traj_obs, traj_acts, traj_init_o, traj_init_v = [valid_data[key][idx] for key in valid_data.keys()]\n",
        "o = env.reset()\n",
        "traj_len = len(traj_obs)\n",
        "intervals = np.array([0, traj_len//4, traj_len//2, traj_len*3//4, traj_len])\n",
        "init_o = traj_obs[0][START_OBS:END_OBS]# traj_init_o\n",
        "# reset to our desired init, but with 0 velocity - fine for now. \n",
        "env.robot.reset(env, init_o, traj_init_v)\n",
        "env.render()"
      ],
      "execution_count": null,
      "outputs": []
    },
    {
      "cell_type": "code",
      "metadata": {
        "id": "xiZ465shv9HE"
      },
      "source": [
        "past_state = [None, None]\n",
        "for t in range(traj_len):\n",
        "        goal_idx = np.where(t < intervals)[0][0] # which part of the task we are up to\n",
        "        goal = traj_obs[intervals[goal_idx]-1][START_GOAL:END_GOAL]\n",
        "        o = tf.expand_dims(np.concatenate([o[START_OBS:END_OBS], goal], -1),0)\n",
        "        distrib, past_state = model(o, past_state = past_state)\n",
        "        #a = acts[idx, i, :] # uncomment this to replay play subsequences\n",
        "        a = distrib.sample().numpy().squeeze() \n",
        "        o, r, d, _ = env.step(a)\n",
        "        env.render()"
      ],
      "execution_count": null,
      "outputs": []
    },
    {
      "cell_type": "code",
      "metadata": {
        "pycharm": {
          "name": "#%%\n"
        },
        "id": "qiQOLBwnv9HM"
      },
      "source": [
        "@tf.function\n",
        "def train_step(x, y):\n",
        "    with tf.GradientTape() as tape:\n",
        "        logits = model(x, training=True)\n",
        "        loss_value = loss_fn(y, logits)\n",
        "    grads = tape.gradient(loss_value, model.trainable_weights)\n",
        "    optimizer.apply_gradients(zip(grads, model.trainable_weights))\n",
        "#     train_acc_metric.update_state(y, logits)\n",
        "    return loss_value\n",
        "\n",
        "@tf.function\n",
        "def test_step(x, y):\n",
        "    val_logits = model(x, training=False)\n",
        "#     val_acc_metric.update_state(y, val_logits)"
      ],
      "execution_count": null,
      "outputs": []
    },
    {
      "cell_type": "code",
      "metadata": {
        "jupyter": {
          "outputs_hidden": true
        },
        "id": "Y8EFTvCzv9HO"
      },
      "source": [
        "EPOCHS = 10\n",
        "\n",
        "for epoch in range(EPOCHS):\n",
        "    print(f\"\\nEpoch {epoch}\")\n",
        "    start_time = time.time()\n",
        "    progbar = Progbar(len(observations), verbose=1, interval=0.5)\n",
        "\n",
        "    # Iterate over the batches of the dataset.\n",
        "    for step, (obs,acts) in enumerate(zip(observations, actions)):\n",
        "#         obs = traj_batch['observations']\n",
        "#         acts = traj_batch['actions']\n",
        "    \n",
        "        loss_value = train_step(obs, acts)\n",
        "        progbar.add(1, [('Loss', loss_value)])  "
      ],
      "execution_count": null,
      "outputs": []
    }
  ]
}