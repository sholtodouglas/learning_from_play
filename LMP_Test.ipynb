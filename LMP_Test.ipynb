{
  "nbformat": 4,
  "nbformat_minor": 0,
  "metadata": {
    "kernelspec": {
      "display_name": "Python 3",
      "language": "python",
      "name": "python3"
    },
    "language_info": {
      "codemirror_mode": {
        "name": "ipython",
        "version": 3
      },
      "file_extension": ".py",
      "mimetype": "text/x-python",
      "name": "python",
      "nbconvert_exporter": "python",
      "pygments_lexer": "ipython3",
      "version": "3.7.3"
    },
    "colab": {
      "name": "LMP Test.ipynb",
      "provenance": [],
      "collapsed_sections": [
        "G84fGXVwv9Fh",
        "-yC0L1P3v9GA",
        "8SHQGBjnv9GK",
        "b7CMny5dv9Gx",
        "njbQpQAGv9G2"
      ],
      "machine_shape": "hm",
      "include_colab_link": true
    },
    "accelerator": "TPU",
    "widgets": {
      "application/vnd.jupyter.widget-state+json": {
        "4984cae7fdc446428b23366f078157b7": {
          "model_module": "@jupyter-widgets/controls",
          "model_name": "VBoxModel",
          "state": {
            "_view_name": "VBoxView",
            "_dom_classes": [],
            "_model_name": "VBoxModel",
            "_view_module": "@jupyter-widgets/controls",
            "_model_module_version": "1.5.0",
            "_view_count": null,
            "_view_module_version": "1.5.0",
            "box_style": "",
            "layout": "IPY_MODEL_94af288b42a24d57863b3682a08e826e",
            "_model_module": "@jupyter-widgets/controls",
            "children": [
              "IPY_MODEL_8c14d4c73a9545ec8ff4103b6537bfd1",
              "IPY_MODEL_fc2247fdf08a40b48f9ee6979529121b"
            ]
          }
        },
        "94af288b42a24d57863b3682a08e826e": {
          "model_module": "@jupyter-widgets/base",
          "model_name": "LayoutModel",
          "state": {
            "_view_name": "LayoutView",
            "grid_template_rows": null,
            "right": null,
            "justify_content": null,
            "_view_module": "@jupyter-widgets/base",
            "overflow": null,
            "_model_module_version": "1.2.0",
            "_view_count": null,
            "flex_flow": null,
            "width": null,
            "min_width": null,
            "border": null,
            "align_items": null,
            "bottom": null,
            "_model_module": "@jupyter-widgets/base",
            "top": null,
            "grid_column": null,
            "overflow_y": null,
            "overflow_x": null,
            "grid_auto_flow": null,
            "grid_area": null,
            "grid_template_columns": null,
            "flex": null,
            "_model_name": "LayoutModel",
            "justify_items": null,
            "grid_row": null,
            "max_height": null,
            "align_content": null,
            "visibility": null,
            "align_self": null,
            "height": null,
            "min_height": null,
            "padding": null,
            "grid_auto_rows": null,
            "grid_gap": null,
            "max_width": null,
            "order": null,
            "_view_module_version": "1.2.0",
            "grid_template_areas": null,
            "object_position": null,
            "object_fit": null,
            "grid_auto_columns": null,
            "margin": null,
            "display": null,
            "left": null
          }
        },
        "8c14d4c73a9545ec8ff4103b6537bfd1": {
          "model_module": "@jupyter-widgets/controls",
          "model_name": "LabelModel",
          "state": {
            "_view_name": "LabelView",
            "style": "IPY_MODEL_aa89c43779c14df489d0e125b7cf7f20",
            "_dom_classes": [],
            "description": "",
            "_model_name": "LabelModel",
            "placeholder": "​",
            "_view_module": "@jupyter-widgets/controls",
            "_model_module_version": "1.5.0",
            "value": " 1.00MB of 1.00MB uploaded (0.00MB deduped)\r",
            "_view_count": null,
            "_view_module_version": "1.5.0",
            "description_tooltip": null,
            "_model_module": "@jupyter-widgets/controls",
            "layout": "IPY_MODEL_f5fd1996d26d4867a0f38fa716edab04"
          }
        },
        "fc2247fdf08a40b48f9ee6979529121b": {
          "model_module": "@jupyter-widgets/controls",
          "model_name": "FloatProgressModel",
          "state": {
            "_view_name": "ProgressView",
            "style": "IPY_MODEL_30ff149f9468442c86a1f169a0d25570",
            "_dom_classes": [],
            "description": "",
            "_model_name": "FloatProgressModel",
            "bar_style": "",
            "max": 1,
            "_view_module": "@jupyter-widgets/controls",
            "_model_module_version": "1.5.0",
            "value": 1,
            "_view_count": null,
            "_view_module_version": "1.5.0",
            "orientation": "horizontal",
            "min": 0,
            "description_tooltip": null,
            "_model_module": "@jupyter-widgets/controls",
            "layout": "IPY_MODEL_42a17d07184f4da29bb7d5b8983a542d"
          }
        },
        "aa89c43779c14df489d0e125b7cf7f20": {
          "model_module": "@jupyter-widgets/controls",
          "model_name": "DescriptionStyleModel",
          "state": {
            "_view_name": "StyleView",
            "_model_name": "DescriptionStyleModel",
            "description_width": "",
            "_view_module": "@jupyter-widgets/base",
            "_model_module_version": "1.5.0",
            "_view_count": null,
            "_view_module_version": "1.2.0",
            "_model_module": "@jupyter-widgets/controls"
          }
        },
        "f5fd1996d26d4867a0f38fa716edab04": {
          "model_module": "@jupyter-widgets/base",
          "model_name": "LayoutModel",
          "state": {
            "_view_name": "LayoutView",
            "grid_template_rows": null,
            "right": null,
            "justify_content": null,
            "_view_module": "@jupyter-widgets/base",
            "overflow": null,
            "_model_module_version": "1.2.0",
            "_view_count": null,
            "flex_flow": null,
            "width": null,
            "min_width": null,
            "border": null,
            "align_items": null,
            "bottom": null,
            "_model_module": "@jupyter-widgets/base",
            "top": null,
            "grid_column": null,
            "overflow_y": null,
            "overflow_x": null,
            "grid_auto_flow": null,
            "grid_area": null,
            "grid_template_columns": null,
            "flex": null,
            "_model_name": "LayoutModel",
            "justify_items": null,
            "grid_row": null,
            "max_height": null,
            "align_content": null,
            "visibility": null,
            "align_self": null,
            "height": null,
            "min_height": null,
            "padding": null,
            "grid_auto_rows": null,
            "grid_gap": null,
            "max_width": null,
            "order": null,
            "_view_module_version": "1.2.0",
            "grid_template_areas": null,
            "object_position": null,
            "object_fit": null,
            "grid_auto_columns": null,
            "margin": null,
            "display": null,
            "left": null
          }
        },
        "30ff149f9468442c86a1f169a0d25570": {
          "model_module": "@jupyter-widgets/controls",
          "model_name": "ProgressStyleModel",
          "state": {
            "_view_name": "StyleView",
            "_model_name": "ProgressStyleModel",
            "description_width": "",
            "_view_module": "@jupyter-widgets/base",
            "_model_module_version": "1.5.0",
            "_view_count": null,
            "_view_module_version": "1.2.0",
            "bar_color": null,
            "_model_module": "@jupyter-widgets/controls"
          }
        },
        "42a17d07184f4da29bb7d5b8983a542d": {
          "model_module": "@jupyter-widgets/base",
          "model_name": "LayoutModel",
          "state": {
            "_view_name": "LayoutView",
            "grid_template_rows": null,
            "right": null,
            "justify_content": null,
            "_view_module": "@jupyter-widgets/base",
            "overflow": null,
            "_model_module_version": "1.2.0",
            "_view_count": null,
            "flex_flow": null,
            "width": null,
            "min_width": null,
            "border": null,
            "align_items": null,
            "bottom": null,
            "_model_module": "@jupyter-widgets/base",
            "top": null,
            "grid_column": null,
            "overflow_y": null,
            "overflow_x": null,
            "grid_auto_flow": null,
            "grid_area": null,
            "grid_template_columns": null,
            "flex": null,
            "_model_name": "LayoutModel",
            "justify_items": null,
            "grid_row": null,
            "max_height": null,
            "align_content": null,
            "visibility": null,
            "align_self": null,
            "height": null,
            "min_height": null,
            "padding": null,
            "grid_auto_rows": null,
            "grid_gap": null,
            "max_width": null,
            "order": null,
            "_view_module_version": "1.2.0",
            "grid_template_areas": null,
            "object_position": null,
            "object_fit": null,
            "grid_auto_columns": null,
            "margin": null,
            "display": null,
            "left": null
          }
        }
      }
    }
  },
  "cells": [
    {
      "cell_type": "markdown",
      "metadata": {
        "id": "view-in-github",
        "colab_type": "text"
      },
      "source": [
        "<a href=\"https://colab.research.google.com/github/sholtodouglas/learning_from_play/blob/master/LMP_Test.ipynb\" target=\"_parent\"><img src=\"https://colab.research.google.com/assets/colab-badge.svg\" alt=\"Open In Colab\"/></a>"
      ]
    },
    {
      "cell_type": "code",
      "metadata": {
        "id": "Xchjk_eKp26Q",
        "outputId": "ef08dd0b-59f8-439d-b257-9864d8fe57f9",
        "colab": {
          "base_uri": "https://localhost:8080/"
        }
      },
      "source": [
        "#@title Install package dependencies (forces restart)\n",
        "import os\n",
        "\n",
        "def restart_runtime():\n",
        "    print('Runtime restarting...')\n",
        "    os.kill(os.getpid(), 9)\n",
        "\n",
        "%pip -q install pybullet wandb\n",
        "!git clone https://github.com/sholtodouglas/pandaRL local_packages/pandaRL\n",
        "%pip install -e local_packages/pandaRL/.\n",
        "\n",
        "restart_runtime()"
      ],
      "execution_count": null,
      "outputs": [
        {
          "output_type": "stream",
          "text": [
            "\u001b[K     |████████████████████████████████| 102.2MB 43kB/s \n",
            "\u001b[K     |████████████████████████████████| 1.8MB 67.6MB/s \n",
            "\u001b[K     |████████████████████████████████| 102kB 11.2MB/s \n",
            "\u001b[K     |████████████████████████████████| 102kB 12.2MB/s \n",
            "\u001b[K     |████████████████████████████████| 163kB 59.2MB/s \n",
            "\u001b[K     |████████████████████████████████| 133kB 64.0MB/s \n",
            "\u001b[K     |████████████████████████████████| 71kB 8.9MB/s \n",
            "\u001b[?25h  Building wheel for watchdog (setup.py) ... \u001b[?25l\u001b[?25hdone\n",
            "  Building wheel for subprocess32 (setup.py) ... \u001b[?25l\u001b[?25hdone\n",
            "  Building wheel for pathtools (setup.py) ... \u001b[?25l\u001b[?25hdone\n",
            "Cloning into 'local_packages/pandaRL'...\n",
            "remote: Enumerating objects: 560, done.\u001b[K\n",
            "remote: Counting objects: 100% (560/560), done.\u001b[K\n",
            "remote: Compressing objects: 100% (394/394), done.\u001b[K\n",
            "remote: Total 560 (delta 251), reused 457 (delta 152), pack-reused 0\u001b[K\n",
            "Receiving objects: 100% (560/560), 20.98 MiB | 20.35 MiB/s, done.\n",
            "Resolving deltas: 100% (251/251), done.\n",
            "Obtaining file:///content/local_packages/pandaRL\n",
            "Requirement already satisfied: gym in /usr/local/lib/python3.6/dist-packages (from pandaRL==0.0.1) (0.17.3)\n",
            "Requirement already satisfied: scipy in /usr/local/lib/python3.6/dist-packages (from gym->pandaRL==0.0.1) (1.4.1)\n",
            "Requirement already satisfied: cloudpickle<1.7.0,>=1.2.0 in /usr/local/lib/python3.6/dist-packages (from gym->pandaRL==0.0.1) (1.3.0)\n",
            "Requirement already satisfied: numpy>=1.10.4 in /usr/local/lib/python3.6/dist-packages (from gym->pandaRL==0.0.1) (1.18.5)\n",
            "Requirement already satisfied: pyglet<=1.5.0,>=1.4.0 in /usr/local/lib/python3.6/dist-packages (from gym->pandaRL==0.0.1) (1.5.0)\n",
            "Requirement already satisfied: future in /usr/local/lib/python3.6/dist-packages (from pyglet<=1.5.0,>=1.4.0->gym->pandaRL==0.0.1) (0.16.0)\n",
            "Installing collected packages: pandaRL\n",
            "  Running setup.py develop for pandaRL\n",
            "Successfully installed pandaRL\n"
          ],
          "name": "stdout"
        }
      ]
    },
    {
      "cell_type": "code",
      "metadata": {
        "id": "zMJ___6ARZ4u",
        "outputId": "b1442a9e-477d-4ad5-df72-7e22b65b502e",
        "colab": {
          "base_uri": "https://localhost:8080/"
        }
      },
      "source": [
        "#@title Workpace Setup (Local vs Colab)\n",
        "from google.colab import drive, auth\n",
        "from os.path import join\n",
        "import os\n",
        "\n",
        "COLAB = True #@param {type:\"boolean\"}\n",
        "AUTH_GCS = False #@param {type:\"boolean\"}\n",
        "DEVICE = \"TPU\" #@param [\"TPU\", \"GPU\"]\n",
        "DATA_SOURCE = \"Google Drive\" #@param [\"Google Drive\", \"GCS\"]\n",
        "DATASET = \"UR5_25Hz\" #@param [\"UR5_25Hz\", \"one_obj_play\"]\n",
        "GCS_USER = \"tristan\" #@param [\"sholto\", \"tristan\"]\n",
        "if COLAB:\n",
        "    if AUTH_GCS:\n",
        "        auth.authenticate_user()\n",
        "        if GCS_USER == 'tristan':\n",
        "          GCS_PROJECT = \"learning-from-play\"\n",
        "          GCS_BUCKET = \"colab-gcs\"\n",
        "        else:\n",
        "          GCS_PROJECT = \"learning-from-play-288601\"\n",
        "          GCS_BUCKET = \"colab-gcs1\"\n",
        "\n",
        "        !gcloud config set project {GCS_PROJECT}\n",
        "    if DATA_SOURCE == \"GCS\":\n",
        "        ROOT = 'gs://colab-gcs'\n",
        "        PROJ = 'data/one_obj_play'\n",
        "        PROJECT_PATH = '/content/data'\n",
        "        !mkdir /content/data\n",
        "        !gsutil -m cp -r {ROOT}/{PROJ} {PROJECT_PATH}\n",
        "    else:\n",
        "        ROOT = '/content/drive'     # default for the drive\n",
        "        PROJ = 'My Drive/Robotic Learning'       # path to your project on Drive\n",
        "        PROJECT_PATH = os.path.join(ROOT, PROJ)\n",
        "        drive.mount(ROOT)           # we mount the drive at /content/drive\n",
        "    PYBULLET_DATA_DIR = os.path.join(PROJECT_PATH, DATASET)\n",
        "\n",
        "    # Sync drive to VM directory\n",
        "    # !rsync -aP --exclude=data/ \"{PROJECT_PATH}/\"  '/content/learning_from_play'\n",
        "    # %cd '/content/learning_from_play'\n",
        "else:\n",
        "    # Todo:\n",
        "    pass"
      ],
      "execution_count": 1,
      "outputs": [
        {
          "output_type": "stream",
          "text": [
            "Mounted at /content/drive\n"
          ],
          "name": "stdout"
        }
      ]
    },
    {
      "cell_type": "code",
      "metadata": {
        "id": "QuKhbw3htoek",
        "outputId": "14b9c5ec-71f4-4fdf-9657-6d7ba1088fc6",
        "colab": {
          "base_uri": "https://localhost:8080/"
        }
      },
      "source": [
        "!git clone https://github.com/sholtodouglas/learning_from_play"
      ],
      "execution_count": 2,
      "outputs": [
        {
          "output_type": "stream",
          "text": [
            "Cloning into 'learning_from_play'...\n",
            "remote: Enumerating objects: 928, done.\u001b[K\n",
            "remote: Total 928 (delta 0), reused 0 (delta 0), pack-reused 928\u001b[K\n",
            "Receiving objects: 100% (928/928), 38.01 MiB | 38.81 MiB/s, done.\n",
            "Resolving deltas: 100% (422/422), done.\n"
          ],
          "name": "stdout"
        }
      ]
    },
    {
      "cell_type": "code",
      "metadata": {
        "id": "xbGDct1BF-Nn",
        "outputId": "9f250cff-9fe1-4e7f-a766-7937885ad467",
        "colab": {
          "base_uri": "https://localhost:8080/"
        }
      },
      "source": [
        "%cd '/content/learning_from_play'"
      ],
      "execution_count": 3,
      "outputs": [
        {
          "output_type": "stream",
          "text": [
            "/content/learning_from_play\n"
          ],
          "name": "stdout"
        }
      ]
    },
    {
      "cell_type": "code",
      "metadata": {
        "id": "k7NnR2jUZcR2",
        "outputId": "0e01597e-d533-4331-f2da-f6d9ed65dbce",
        "colab": {
          "base_uri": "https://localhost:8080/",
          "height": 283
        }
      },
      "source": [
        "!git status"
      ],
      "execution_count": null,
      "outputs": [
        {
          "output_type": "stream",
          "text": [
            "On branch master\n",
            "Your branch is up to date with 'origin/master'.\n",
            "\n",
            "Changes not staged for commit:\n",
            "  (use \"git add <file>...\" to update what will be committed)\n",
            "  (use \"git checkout -- <file>...\" to discard changes in working directory)\n",
            "\n",
            "\t\u001b[31mmodified:   train.py\u001b[m\n",
            "\n",
            "Untracked files:\n",
            "  (use \"git add <file>...\" to include in what will be committed)\n",
            "\n",
            "\t\u001b[31mwandb/\u001b[m\n",
            "\n",
            "no changes added to commit (use \"git add\" and/or \"git commit -a\")\n"
          ],
          "name": "stdout"
        }
      ]
    },
    {
      "cell_type": "code",
      "metadata": {
        "id": "SRM0MadYZf_E"
      },
      "source": [
        "!git add ."
      ],
      "execution_count": null,
      "outputs": []
    },
    {
      "cell_type": "code",
      "metadata": {
        "id": "rneqVhhGa3jk",
        "outputId": "bb9ba706-8577-40df-e512-cf6c00cdb42c",
        "colab": {
          "base_uri": "https://localhost:8080/",
          "height": 318
        }
      },
      "source": [
        "!git pull"
      ],
      "execution_count": null,
      "outputs": [
        {
          "output_type": "stream",
          "text": [
            "remote: Enumerating objects: 29, done.\u001b[K\n",
            "remote: Counting objects:   3% (1/29)\u001b[K\rremote: Counting objects:   6% (2/29)\u001b[K\rremote: Counting objects:  10% (3/29)\u001b[K\rremote: Counting objects:  13% (4/29)\u001b[K\rremote: Counting objects:  17% (5/29)\u001b[K\rremote: Counting objects:  20% (6/29)\u001b[K\rremote: Counting objects:  24% (7/29)\u001b[K\rremote: Counting objects:  27% (8/29)\u001b[K\rremote: Counting objects:  31% (9/29)\u001b[K\rremote: Counting objects:  34% (10/29)\u001b[K\rremote: Counting objects:  37% (11/29)\u001b[K\rremote: Counting objects:  41% (12/29)\u001b[K\rremote: Counting objects:  44% (13/29)\u001b[K\rremote: Counting objects:  48% (14/29)\u001b[K\rremote: Counting objects:  51% (15/29)\u001b[K\rremote: Counting objects:  55% (16/29)\u001b[K\rremote: Counting objects:  58% (17/29)\u001b[K\rremote: Counting objects:  62% (18/29)\u001b[K\rremote: Counting objects:  65% (19/29)\u001b[K\rremote: Counting objects:  68% (20/29)\u001b[K\rremote: Counting objects:  72% (21/29)\u001b[K\rremote: Counting objects:  75% (22/29)\u001b[K\rremote: Counting objects:  79% (23/29)\u001b[K\rremote: Counting objects:  82% (24/29)\u001b[K\rremote: Counting objects:  86% (25/29)\u001b[K\rremote: Counting objects:  89% (26/29)\u001b[K\rremote: Counting objects:  93% (27/29)\u001b[K\rremote: Counting objects:  96% (28/29)\u001b[K\rremote: Counting objects: 100% (29/29)\u001b[K\rremote: Counting objects: 100% (29/29), done.\u001b[K\n",
            "remote: Compressing objects: 100% (16/16), done.\u001b[K\n",
            "remote: Total 29 (delta 13), reused 28 (delta 13), pack-reused 0\u001b[K\n",
            "Unpacking objects: 100% (29/29), done.\n",
            "From https://github.com/sholtodouglas/learning_from_play\n",
            "   99bd04e..7d425f6  master     -> origin/master\n",
            " * [new branch]      plotting   -> origin/plotting\n",
            "Updating 99bd04e..7d425f6\n",
            "Fast-forward\n",
            " Deploy.ipynb                           |  682 \u001b[32m++\u001b[m\u001b[31m-\u001b[m\n",
            " LMP_Test.ipynb                         | 7566 \u001b[32m++++++++++++++++++\u001b[m\u001b[31m--------------\u001b[m\n",
            " Use this to play the sample data.ipynb | 1532 \u001b[32m+++++\u001b[m\u001b[31m--\u001b[m\n",
            " data_collection/full_vr.py             |   12 \u001b[32m+\u001b[m\u001b[31m-\u001b[m\n",
            " test.npz                               |  Bin \u001b[31m0\u001b[m -> \u001b[32m814036\u001b[m bytes\n",
            " 5 files changed, 5999 insertions(+), 3793 deletions(-)\n",
            " create mode 100644 test.npz\n"
          ],
          "name": "stdout"
        }
      ]
    },
    {
      "cell_type": "code",
      "metadata": {
        "id": "SOBH-PSIbSI4"
      },
      "source": [
        "#@title Git config (for commits)\n",
        "email = \"sholto.douglas1@gmail.com\" #@param {type:\"string\"}\n",
        "name = \"sholtodouglas\" #@param {type:\"string\"}\n",
        "\n",
        "!git config --global user.email \"{email}\"\n",
        "!git config --global user.name \"{name}\""
      ],
      "execution_count": null,
      "outputs": []
    },
    {
      "cell_type": "code",
      "metadata": {
        "id": "EWZpvN3xZ0I4",
        "outputId": "9e0aebf9-7e66-4416-9e92-53b8b1f24d96",
        "colab": {
          "base_uri": "https://localhost:8080/",
          "height": 52
        }
      },
      "source": [
        "#@title Git commit\n",
        "commit_msg = \"update beta scheduler\" #@param {type:\"string\"}\n",
        "!git commit -m \"{commit_msg}\""
      ],
      "execution_count": null,
      "outputs": [
        {
          "output_type": "stream",
          "text": [
            "[master a8b133a] update beta scheduler\n",
            " 1 file changed, 1 insertion(+)\n"
          ],
          "name": "stdout"
        }
      ]
    },
    {
      "cell_type": "code",
      "metadata": {
        "id": "xeT8OJX-Zhxs",
        "outputId": "6c56d26f-ca39-46dd-b9e5-d5cbe1bcef13",
        "colab": {
          "base_uri": "https://localhost:8080/",
          "height": 34
        }
      },
      "source": [
        "#@title Git push\n",
        "branch = \"master\" #@param [\"master\"] {allow-input: true}\n",
        "!git push -u origin {branch}"
      ],
      "execution_count": null,
      "outputs": [
        {
          "output_type": "stream",
          "text": [
            "fatal: could not read Username for 'https://github.com': No such device or address\n"
          ],
          "name": "stdout"
        }
      ]
    },
    {
      "cell_type": "markdown",
      "metadata": {
        "id": "EliqxOpPv9Dy"
      },
      "source": [
        "# Data Creation"
      ]
    },
    {
      "cell_type": "code",
      "metadata": {
        "id": "6zbmq324x2yv",
        "outputId": "f151de50-c9c1-4bac-bcdc-4f1fa8977bf5",
        "colab": {
          "base_uri": "https://localhost:8080/"
        }
      },
      "source": [
        "import tensorflow as tf\n",
        "print(\"Tensorflow version \" + tf.__version__)\n",
        "\n",
        "if DEVICE==\"TPU\":\n",
        "    try:\n",
        "        tpu = tf.distribute.cluster_resolver.TPUClusterResolver()  # TPU detection\n",
        "        print('Running on TPU ', tpu.cluster_spec().as_dict()['worker'])\n",
        "    except ValueError:\n",
        "        raise BaseException('ERROR: Not connected to a TPU runtime; please see the previous cell in this notebook for instructions!')\n",
        "\n",
        "    tf.config.experimental_connect_to_cluster(tpu)\n",
        "    tf.tpu.experimental.initialize_tpu_system(tpu)\n",
        "    strategy = tf.distribute.TPUStrategy(tpu)\n",
        "\n",
        "    NUM_DEVICES = strategy.num_replicas_in_sync\n",
        "    print(\"REPLICAS: \", NUM_DEVICES)\n",
        "else:\n",
        "    physical_devices = tf.config.list_physical_devices()\n",
        "    if DEVICE is 'GPU':\n",
        "        tf.config.experimental.set_memory_growth(physical_devices[3], enable=True)\n",
        "    NUM_DEVICES = 1\n",
        "    print(physical_devices)"
      ],
      "execution_count": 4,
      "outputs": [
        {
          "output_type": "stream",
          "text": [
            "Tensorflow version 2.3.0\n",
            "Running on TPU  ['10.100.25.194:8470']\n",
            "INFO:tensorflow:Initializing the TPU system: grpc://10.100.25.194:8470\n"
          ],
          "name": "stdout"
        },
        {
          "output_type": "stream",
          "text": [
            "INFO:tensorflow:Initializing the TPU system: grpc://10.100.25.194:8470\n"
          ],
          "name": "stderr"
        },
        {
          "output_type": "stream",
          "text": [
            "INFO:tensorflow:Clearing out eager caches\n"
          ],
          "name": "stdout"
        },
        {
          "output_type": "stream",
          "text": [
            "INFO:tensorflow:Clearing out eager caches\n"
          ],
          "name": "stderr"
        },
        {
          "output_type": "stream",
          "text": [
            "INFO:tensorflow:Finished initializing TPU system.\n"
          ],
          "name": "stdout"
        },
        {
          "output_type": "stream",
          "text": [
            "INFO:tensorflow:Finished initializing TPU system.\n"
          ],
          "name": "stderr"
        },
        {
          "output_type": "stream",
          "text": [
            "INFO:tensorflow:Found TPU system:\n"
          ],
          "name": "stdout"
        },
        {
          "output_type": "stream",
          "text": [
            "INFO:tensorflow:Found TPU system:\n"
          ],
          "name": "stderr"
        },
        {
          "output_type": "stream",
          "text": [
            "INFO:tensorflow:*** Num TPU Cores: 8\n"
          ],
          "name": "stdout"
        },
        {
          "output_type": "stream",
          "text": [
            "INFO:tensorflow:*** Num TPU Cores: 8\n"
          ],
          "name": "stderr"
        },
        {
          "output_type": "stream",
          "text": [
            "INFO:tensorflow:*** Num TPU Workers: 1\n"
          ],
          "name": "stdout"
        },
        {
          "output_type": "stream",
          "text": [
            "INFO:tensorflow:*** Num TPU Workers: 1\n"
          ],
          "name": "stderr"
        },
        {
          "output_type": "stream",
          "text": [
            "INFO:tensorflow:*** Num TPU Cores Per Worker: 8\n"
          ],
          "name": "stdout"
        },
        {
          "output_type": "stream",
          "text": [
            "INFO:tensorflow:*** Num TPU Cores Per Worker: 8\n"
          ],
          "name": "stderr"
        },
        {
          "output_type": "stream",
          "text": [
            "INFO:tensorflow:*** Available Device: _DeviceAttributes(/job:localhost/replica:0/task:0/device:CPU:0, CPU, 0, 0)\n"
          ],
          "name": "stdout"
        },
        {
          "output_type": "stream",
          "text": [
            "INFO:tensorflow:*** Available Device: _DeviceAttributes(/job:localhost/replica:0/task:0/device:CPU:0, CPU, 0, 0)\n"
          ],
          "name": "stderr"
        },
        {
          "output_type": "stream",
          "text": [
            "INFO:tensorflow:*** Available Device: _DeviceAttributes(/job:localhost/replica:0/task:0/device:XLA_CPU:0, XLA_CPU, 0, 0)\n"
          ],
          "name": "stdout"
        },
        {
          "output_type": "stream",
          "text": [
            "INFO:tensorflow:*** Available Device: _DeviceAttributes(/job:localhost/replica:0/task:0/device:XLA_CPU:0, XLA_CPU, 0, 0)\n"
          ],
          "name": "stderr"
        },
        {
          "output_type": "stream",
          "text": [
            "INFO:tensorflow:*** Available Device: _DeviceAttributes(/job:worker/replica:0/task:0/device:CPU:0, CPU, 0, 0)\n"
          ],
          "name": "stdout"
        },
        {
          "output_type": "stream",
          "text": [
            "INFO:tensorflow:*** Available Device: _DeviceAttributes(/job:worker/replica:0/task:0/device:CPU:0, CPU, 0, 0)\n"
          ],
          "name": "stderr"
        },
        {
          "output_type": "stream",
          "text": [
            "INFO:tensorflow:*** Available Device: _DeviceAttributes(/job:worker/replica:0/task:0/device:TPU:0, TPU, 0, 0)\n"
          ],
          "name": "stdout"
        },
        {
          "output_type": "stream",
          "text": [
            "INFO:tensorflow:*** Available Device: _DeviceAttributes(/job:worker/replica:0/task:0/device:TPU:0, TPU, 0, 0)\n"
          ],
          "name": "stderr"
        },
        {
          "output_type": "stream",
          "text": [
            "INFO:tensorflow:*** Available Device: _DeviceAttributes(/job:worker/replica:0/task:0/device:TPU:1, TPU, 0, 0)\n"
          ],
          "name": "stdout"
        },
        {
          "output_type": "stream",
          "text": [
            "INFO:tensorflow:*** Available Device: _DeviceAttributes(/job:worker/replica:0/task:0/device:TPU:1, TPU, 0, 0)\n"
          ],
          "name": "stderr"
        },
        {
          "output_type": "stream",
          "text": [
            "INFO:tensorflow:*** Available Device: _DeviceAttributes(/job:worker/replica:0/task:0/device:TPU:2, TPU, 0, 0)\n"
          ],
          "name": "stdout"
        },
        {
          "output_type": "stream",
          "text": [
            "INFO:tensorflow:*** Available Device: _DeviceAttributes(/job:worker/replica:0/task:0/device:TPU:2, TPU, 0, 0)\n"
          ],
          "name": "stderr"
        },
        {
          "output_type": "stream",
          "text": [
            "INFO:tensorflow:*** Available Device: _DeviceAttributes(/job:worker/replica:0/task:0/device:TPU:3, TPU, 0, 0)\n"
          ],
          "name": "stdout"
        },
        {
          "output_type": "stream",
          "text": [
            "INFO:tensorflow:*** Available Device: _DeviceAttributes(/job:worker/replica:0/task:0/device:TPU:3, TPU, 0, 0)\n"
          ],
          "name": "stderr"
        },
        {
          "output_type": "stream",
          "text": [
            "INFO:tensorflow:*** Available Device: _DeviceAttributes(/job:worker/replica:0/task:0/device:TPU:4, TPU, 0, 0)\n"
          ],
          "name": "stdout"
        },
        {
          "output_type": "stream",
          "text": [
            "INFO:tensorflow:*** Available Device: _DeviceAttributes(/job:worker/replica:0/task:0/device:TPU:4, TPU, 0, 0)\n"
          ],
          "name": "stderr"
        },
        {
          "output_type": "stream",
          "text": [
            "INFO:tensorflow:*** Available Device: _DeviceAttributes(/job:worker/replica:0/task:0/device:TPU:5, TPU, 0, 0)\n"
          ],
          "name": "stdout"
        },
        {
          "output_type": "stream",
          "text": [
            "INFO:tensorflow:*** Available Device: _DeviceAttributes(/job:worker/replica:0/task:0/device:TPU:5, TPU, 0, 0)\n"
          ],
          "name": "stderr"
        },
        {
          "output_type": "stream",
          "text": [
            "INFO:tensorflow:*** Available Device: _DeviceAttributes(/job:worker/replica:0/task:0/device:TPU:6, TPU, 0, 0)\n"
          ],
          "name": "stdout"
        },
        {
          "output_type": "stream",
          "text": [
            "INFO:tensorflow:*** Available Device: _DeviceAttributes(/job:worker/replica:0/task:0/device:TPU:6, TPU, 0, 0)\n"
          ],
          "name": "stderr"
        },
        {
          "output_type": "stream",
          "text": [
            "INFO:tensorflow:*** Available Device: _DeviceAttributes(/job:worker/replica:0/task:0/device:TPU:7, TPU, 0, 0)\n"
          ],
          "name": "stdout"
        },
        {
          "output_type": "stream",
          "text": [
            "INFO:tensorflow:*** Available Device: _DeviceAttributes(/job:worker/replica:0/task:0/device:TPU:7, TPU, 0, 0)\n"
          ],
          "name": "stderr"
        },
        {
          "output_type": "stream",
          "text": [
            "INFO:tensorflow:*** Available Device: _DeviceAttributes(/job:worker/replica:0/task:0/device:TPU_SYSTEM:0, TPU_SYSTEM, 0, 0)\n"
          ],
          "name": "stdout"
        },
        {
          "output_type": "stream",
          "text": [
            "INFO:tensorflow:*** Available Device: _DeviceAttributes(/job:worker/replica:0/task:0/device:TPU_SYSTEM:0, TPU_SYSTEM, 0, 0)\n"
          ],
          "name": "stderr"
        },
        {
          "output_type": "stream",
          "text": [
            "INFO:tensorflow:*** Available Device: _DeviceAttributes(/job:worker/replica:0/task:0/device:XLA_CPU:0, XLA_CPU, 0, 0)\n"
          ],
          "name": "stdout"
        },
        {
          "output_type": "stream",
          "text": [
            "INFO:tensorflow:*** Available Device: _DeviceAttributes(/job:worker/replica:0/task:0/device:XLA_CPU:0, XLA_CPU, 0, 0)\n"
          ],
          "name": "stderr"
        },
        {
          "output_type": "stream",
          "text": [
            "REPLICAS:  8\n"
          ],
          "name": "stdout"
        }
      ]
    },
    {
      "cell_type": "markdown",
      "metadata": {
        "pycharm": {
          "name": "#%% md\n"
        },
        "id": "yL0UZVa1v9D9"
      },
      "source": [
        "# Dataset"
      ]
    },
    {
      "cell_type": "code",
      "metadata": {
        "pycharm": {
          "name": "#%%\n"
        },
        "id": "KF1m_wf3v9D-"
      },
      "source": [
        "import glob\n",
        "import numpy as np\n",
        "import tensorflow as tf\n",
        "import pickle\n",
        "import matplotlib.pyplot as plt\n",
        "import random\n",
        "import pickle\n",
        "import os\n",
        "from collections import Counter\n",
        "import random\n",
        "import datetime\n",
        "\n",
        "import data\n",
        "from natsort import natsorted"
      ],
      "execution_count": 5,
      "outputs": []
    },
    {
      "cell_type": "code",
      "metadata": {
        "id": "1HejtDH_Yx8h"
      },
      "source": [
        "# Use this to edit modules without needing to restart the kernel\n",
        "# import importlib\n",
        "# importlib.reload(data)"
      ],
      "execution_count": 6,
      "outputs": []
    },
    {
      "cell_type": "code",
      "metadata": {
        "id": "vA2WFvCJv9EF"
      },
      "source": [
        "RELATIVE = True # use relative joints instead of absolute pos/ori as in the original paper\n",
        "QUAT = False # whether to use quaternions or rpy in actions\n",
        "JOINTS = False # use relative joints instead of absolute angles\n",
        "VELOCITY = False\n",
        "USE_QUAT_OBS = False\n",
        "USE_QUAT_AUGMENTATION = False\n",
        "\n",
        "\n",
        "LAYER_SIZE = 2048\n",
        "LATENT_DIM = LAYER_SIZE//8\n",
        "GRIPPER_WEIGHT = 1.0\n",
        "GCBC = False\n",
        "PROBABILISTIC = True"
      ],
      "execution_count": 7,
      "outputs": []
    },
    {
      "cell_type": "code",
      "metadata": {
        "id": "bsRWLkHKsfQw"
      },
      "source": [
        "def load_data(path, keys):\n",
        "    dataset = {k:[] for k in keys+['sequence_index','sequence_id']}\n",
        "    obs_act_path = os.path.join(path, 'obs_act_etc/')\n",
        "\n",
        "    for demo in natsorted(os.listdir(obs_act_path)):\n",
        "        traj = np.load(obs_act_path+demo+'/data.npz')\n",
        "        for k in keys:\n",
        "            dataset[k].append(traj[k].astype(np.float32))\n",
        "        timesteps = len(traj['obs'])\n",
        "        dataset['sequence_index'].append(np.arange(timesteps, dtype=np.int32).reshape(-1, 1))\n",
        "        dataset['sequence_id'].append(np.full(timesteps, fill_value=int(demo), dtype=np.int32).reshape(-1, 1))\n",
        "\n",
        "    # convert to numpy\n",
        "    for k in keys+['sequence_index','sequence_id']:\n",
        "        dataset[k] = np.vstack(dataset[k])\n",
        "    return dataset"
      ],
      "execution_count": 8,
      "outputs": []
    },
    {
      "cell_type": "code",
      "metadata": {
        "id": "3MyEE9kUv9EL",
        "outputId": "d37576a9-4d3a-4274-ae49-0a0202674641",
        "colab": {
          "base_uri": "https://localhost:8080/"
        }
      },
      "source": [
        "keys = ['obs', 'acts', 'achieved_goals', 'joint_poses', 'target_poses', 'acts_rpy', 'acts_rpy_rel',  'velocities', 'obs_rpy']\n",
        "dataset = load_data(PYBULLET_DATA_DIR, keys)\n",
        "\n",
        "if JOINTS:\n",
        "    OBS_DIM = dataset['obs'].shape[1] + 7 \n",
        "    ACT_DIM = dataset['target_poses'].shape[1] + 1\n",
        "else:\n",
        "    \n",
        "    if QUAT:\n",
        "        ACT_DIM = dataset['acts'].shape[1]\n",
        "    else:\n",
        "        ACT_DIM = dataset['acts_rpy'].shape[1]\n",
        "        \n",
        "    if USE_QUAT_OBS:\n",
        "      OBS_DIM = dataset['obs'].shape[1]\n",
        "    else:\n",
        "      OBS_DIM = dataset['obs_rpy'].shape[1]\n",
        "\n",
        "\n",
        "\n",
        "if VELOCITY:\n",
        "    OBS_DIM += dataset['velocities'].shape[1]\n",
        "        \n",
        "GOAL_DIM = dataset['achieved_goals'].shape[1]\n",
        "print(f'Obs: (N,{OBS_DIM}), Acts: (N,{ACT_DIM}), Goals: (N,{GOAL_DIM})')"
      ],
      "execution_count": 9,
      "outputs": [
        {
          "output_type": "stream",
          "text": [
            "Obs: (N,18), Acts: (N,7), Goals: (N,11)\n"
          ],
          "name": "stdout"
        }
      ]
    },
    {
      "cell_type": "code",
      "metadata": {
        "id": "7iNQfzhqv9EX",
        "outputId": "da80adeb-0da6-4d69-c0a2-f23d1e27e8f5",
        "colab": {
          "base_uri": "https://localhost:8080/"
        }
      },
      "source": [
        "DATASET_SIZE = dataset['obs'].shape[0]\n",
        "secs = DATASET_SIZE / 25\n",
        "hours = secs // 3600\n",
        "minutes = secs // 60 - hours * 60\n",
        "print(f\"We have {DATASET_SIZE} frames of data, which is {hours:.0f}hrs {minutes:.0f}m.\")"
      ],
      "execution_count": 10,
      "outputs": [
        {
          "output_type": "stream",
          "text": [
            "We have 163933 frames of data, which is 1hrs 49m.\n"
          ],
          "name": "stdout"
        }
      ]
    },
    {
      "cell_type": "code",
      "metadata": {
        "id": "Zr_q7DBwZ8Bc"
      },
      "source": [
        "# Ok data aug time! # flip to the equivalent quaternion to add more data\n",
        "if USE_QUAT_AUGMENTATION:\n",
        "  if USE_QUAT_OBS:\n",
        "    OBS_QUATERNION_INDICES = [(3,7), (11,15)]\n",
        "  else:\n",
        "    OBS_QUATERNION_INDICES = [ (10,14)] # only the object, and shifted one earlier due to rpy obs\n",
        "\n",
        "  GOAL_QUATERNION_INDICES = [(3,7)]\n"
      ],
      "execution_count": 11,
      "outputs": []
    },
    {
      "cell_type": "code",
      "metadata": {
        "id": "kUUdmYhsQxGf",
        "outputId": "f99c69a4-1520-4fec-8d86-1ca4fb6a0550",
        "colab": {
          "base_uri": "https://localhost:8080/"
        }
      },
      "source": [
        "BATCH_SIZE_PER_REPLICA = 512\n",
        "GLOBAL_BATCH_SIZE = BATCH_SIZE_PER_REPLICA * NUM_DEVICES\n",
        "\n",
        "WINDOW_SIZE = 50\n",
        "MIN_WINDOW_SIZE = WINDOW_SIZE//2\n",
        "WINDOW_SHIFT = 1\n",
        "SHUFFLE_SIZE = GLOBAL_BATCH_SIZE*20\n",
        "PREFETCH_SIZE = tf.data.experimental.AUTOTUNE\n",
        "NUM_WORKERS = 4\n",
        "TRAIN_TEST_SPLIT = 0.9\n",
        "VARIABLE_SEQ_LENS = True\n",
        "\n",
        "window_lambda = lambda x: tf.data.Dataset.zip(x).batch(WINDOW_SIZE)\n",
        "seq_overlap_filter = lambda x: tf.equal(tf.size(tf.unique(tf.squeeze(x['sequence_id'])).y), 1)\n",
        "\n",
        "def create_goal_tensor(dataset, seq_len=-1):\n",
        "    ''' Tile final achieved_goal across time dimension '''\n",
        "    tile_dims = tf.constant([WINDOW_SIZE, 1], tf.int32)\n",
        "    goal = tf.tile(dataset['achieved_goals'][seq_len-1,tf.newaxis], tile_dims) # as goal is at an index take seq_len -1\n",
        "    return goal\n",
        "\n",
        "def transform_states(dataset):\n",
        "    if JOINTS:\n",
        "        if RELATIVE:\n",
        "          rel = dataset['target_poses'] - dataset['joint_poses'][:,:7]\n",
        "        else:\n",
        "          rel = dataset['target_poses']\n",
        "\n",
        "        gripper = dataset['acts'][:,-1,tf.newaxis]\n",
        "        acts = tf.concat([rel, gripper], axis=-1)\n",
        "        obs = tf.concat([dataset['obs'],dataset['joint_poses'][:,:7]], axis=-1)#.astype('float32')\n",
        "    else:\n",
        "        if USE_QUAT_OBS:\n",
        "          obs = dataset['obs']\n",
        "          \n",
        "        else:\n",
        "          obs = dataset['obs_rpy']\n",
        "\n",
        "        if RELATIVE:\n",
        "            if QUAT:\n",
        "                rel = dataset['acts'][:,:7] - dataset['obs'][:,:7]\n",
        "            else:\n",
        "                rel = dataset['acts_rpy_rel'][:,:6]\n",
        "                \n",
        "            gripper = dataset['acts'][:,-1,tf.newaxis]\n",
        "            acts = tf.concat([rel, gripper], axis=-1)\n",
        "        else:\n",
        "            if QUAT:\n",
        "                acts = dataset['acts']\n",
        "            else:\n",
        "                acts = dataset['acts_rpy']\n",
        "\n",
        "    if VELOCITY:\n",
        "      obs = tf.concat([obs, dataset['velocities']], axis = -1)\n",
        "\n",
        "    # Variable Seq len\n",
        "    if VARIABLE_SEQ_LENS:\n",
        "      seq_len = tf.random.uniform(shape=[], minval=MIN_WINDOW_SIZE, maxval=WINDOW_SIZE, dtype=tf.int32, seed=10)\n",
        "    else:\n",
        "      seq_len = WINDOW_SIZE # SEQLENS Just at max window size\n",
        "\n",
        "    mask = tf.cast(tf.sequence_mask(seq_len, maxlen=WINDOW_SIZE), tf.float32) # creates a B*T mask\n",
        "    multiply_mask = tf.expand_dims(mask, -1)\n",
        "\n",
        "    goals = create_goal_tensor(dataset, seq_len)\n",
        "\n",
        "    if USE_QUAT_AUGMENTATION:\n",
        "            for pair in OBS_QUATERNION_INDICES:\n",
        "              if tf.random.uniform([1], maxval= 1) > 0.5:\n",
        "                          obs = tf.concat([obs[:,:pair[0]], -obs[:,pair[0]:pair[1]], obs[:,pair[1]:]],-1)\n",
        "            for pair in GOAL_QUATERNION_INDICES:\n",
        "              if tf.random.uniform([1], maxval= 1) > 0.5:\n",
        "                          goals = tf.concat([goals[:,:pair[0]], -goals[:,pair[0]:pair[1]], goals[:,pair[1]:]],-1)\n",
        "\n",
        "    obs = obs * multiply_mask\n",
        "    acts = acts * multiply_mask\n",
        "    goals = goals * multiply_mask\n",
        "\n",
        "    return {'obs':obs, 'acts':acts, 'goals':goals, 'seq_lens': tf.cast(seq_len, tf.float32), 'masks':mask, \n",
        "           'dataset_path':dataset['sequence_id'], 'tstep_idxs':dataset['sequence_index']}\n",
        "\n",
        "def tf_ds_transform(dataset):\n",
        "    return dataset\\\n",
        "                .window(size=WINDOW_SIZE, shift=WINDOW_SHIFT, stride=1, drop_remainder=True)\\\n",
        "                .flat_map(window_lambda)\\\n",
        "                .filter(seq_overlap_filter)\\\n",
        "                .shuffle(SHUFFLE_SIZE)\\\n",
        "                .repeat()\\\n",
        "                .map(transform_states, num_parallel_calls=NUM_WORKERS)\\\n",
        "                .batch(GLOBAL_BATCH_SIZE, drop_remainder=True)\\\n",
        "                .prefetch(PREFETCH_SIZE)\\\n",
        "                # .cache()\n",
        "\n",
        "# Todo: Need to confirm splitting here works with shuffle() and repeat()\n",
        "train_size = int(TRAIN_TEST_SPLIT * DATASET_SIZE)\n",
        "\n",
        "full_dataset = tf.data.Dataset.from_tensor_slices(dataset)\n",
        "train_dataset = tf_ds_transform(full_dataset.take(train_size))\n",
        "valid_dataset = tf_ds_transform(full_dataset.skip(train_size))\n",
        "train_dataset"
      ],
      "execution_count": 12,
      "outputs": [
        {
          "output_type": "execute_result",
          "data": {
            "text/plain": [
              "<PrefetchDataset shapes: {obs: (4096, 50, 18), acts: (4096, 50, 7), goals: (4096, 50, 11), seq_lens: (4096,), masks: (4096, 50), dataset_path: (4096, None, 1), tstep_idxs: (4096, None, 1)}, types: {obs: tf.float32, acts: tf.float32, goals: tf.float32, seq_lens: tf.float32, masks: tf.float32, dataset_path: tf.int32, tstep_idxs: tf.int32}>"
            ]
          },
          "metadata": {
            "tags": []
          },
          "execution_count": 12
        }
      ]
    },
    {
      "cell_type": "markdown",
      "metadata": {
        "pycharm": {
          "name": "#%% md\n"
        },
        "id": "nN3YJSSLv9Ez"
      },
      "source": [
        "# Model"
      ]
    },
    {
      "cell_type": "code",
      "metadata": {
        "pycharm": {
          "name": "#%%\n"
        },
        "id": "BWMloXYWv9Ez"
      },
      "source": [
        "from tensorflow.keras.models import Model, Sequential\n",
        "from tensorflow.keras.layers import Dense, BatchNormalization, ReLU, Input, LSTM, Concatenate, Masking, Reshape, Lambda, Bidirectional, GRU, LayerNormalization\n",
        "from tensorflow.keras.regularizers import l1, l2\n",
        "import tensorflow_probability as tfp\n",
        "tfd = tfp.distributions\n",
        "tfb = tfp.bijectors\n",
        "tfpl = tfp.layers\n",
        "from custom_layers import LearnedInitLSTM, LearnedInitGRU"
      ],
      "execution_count": 13,
      "outputs": []
    },
    {
      "cell_type": "markdown",
      "metadata": {
        "pycharm": {
          "name": "#%% md\n"
        },
        "id": "UyCTWom6v9E3"
      },
      "source": [
        "## LSTM Model\n",
        "Use this to map obs -> act"
      ]
    },
    {
      "cell_type": "code",
      "metadata": {
        "id": "BaQklDgMGRhZ"
      },
      "source": [
        "def create_encoder(layer_size=2048, latent_dim = 256, epsilon=1e-4, training=True):\n",
        "    # Input #\n",
        "    obs = Input(shape=(None, OBS_DIM), dtype=tf.float32, name='obs')\n",
        "    acts = Input(shape=(None, ACT_DIM), dtype=tf.float32, name='acts') \n",
        "\n",
        "    # Layers #\n",
        "    x = Concatenate(axis=-1)([obs, acts])\n",
        "    x = Masking(mask_value=0.)(x)\n",
        "    x = Bidirectional(LSTM(layer_size, return_sequences=True), merge_mode='concat')(x)\n",
        "    x = Bidirectional(LSTM(layer_size, return_sequences=False), merge_mode='concat')(x)\n",
        "\n",
        "    # Latent Variable # \n",
        "    mu = Dense(latent_dim, activation=None, name='mu')(x)\n",
        "    scale = Dense(latent_dim, activation=\"softplus\", name='sigma')(x + epsilon)\n",
        "    \n",
        "    mixture = tfpl.DistributionLambda(latent_normal, name='latent_variable')((mu, scale))\n",
        "    return Model([obs, acts], mixture)\n",
        "\n",
        "\n",
        "def create_planner(layer_size=2048, latent_dim = 256, epsilon=1e-4, training=True):\n",
        "    # params #\n",
        "    batch_size = None\n",
        "\n",
        "    # Input #\n",
        "    o_i = Input(shape=(OBS_DIM,), batch_size=batch_size, dtype=tf.float32, name='initial_obs') # has arm state\n",
        "    o_g = Input(shape=(GOAL_DIM,), batch_size=batch_size, dtype=tf.float32, name='goal_obs') # does not have arm state\n",
        "\n",
        "    # Layers #\n",
        "    x = Concatenate(axis=-1)([o_i, o_g])\n",
        "    x = Masking(mask_value=0.)(x)\n",
        "    x = Dense(layer_size, activation=\"relu\", name='layer_1')(x)\n",
        "    x = Dense(layer_size, activation=\"relu\", name='layer_2')(x)\n",
        "    x = Dense(layer_size, activation=\"relu\", name='layer_3')(x)\n",
        "    x = Dense(layer_size, activation=\"relu\", name='layer_4')(x)\n",
        "\n",
        "    # Latent Variable # \n",
        "    mu = Dense(latent_dim, activation=None, name='mu')(x)\n",
        "    scale = Dense(latent_dim, activation=\"softplus\", name='sigma')(x + epsilon)\n",
        "    \n",
        "    mixture = tfpl.DistributionLambda(latent_normal,  name='latent_variable')((mu, scale))\n",
        "    return Model([o_i, o_g], mixture)\n",
        "\n",
        "def create_actor(layer_size=1024, latent_dim = 256, epsilon=1e-4, num_distribs=None, GCBC=False, training=True):\n",
        "    # params #\n",
        "    batch_size = None if training else 1\n",
        "    stateful = not training\n",
        "\n",
        "    # Input #\n",
        "    o = Input(shape=(None, OBS_DIM), batch_size=batch_size, dtype=tf.float32, name='input_obs')\n",
        "    z = Input(shape=(None, latent_dim), batch_size=batch_size, dtype=tf.float32, name='input_latent')\n",
        "    g = Input(shape=(None, GOAL_DIM), batch_size=batch_size, dtype=tf.float32, name='input_goals')\n",
        "\n",
        "    # RNN #\n",
        "    if GCBC:      \n",
        "      x =  Concatenate(axis=-1)([o,g])\n",
        "    else:\n",
        "      x =  Concatenate(axis=-1)([o,z,g])\n",
        "\n",
        "    x = Masking(mask_value=0.)(x)\n",
        "    #\n",
        "    # x = Dense(512, activation='relu')(x)\n",
        "    # x = LayerNormalization()(x)\n",
        "    #\n",
        "    x = LSTM(layer_size, return_sequences=True, stateful=stateful, name='LSTM_in_1')(x)\n",
        "    x = LSTM(layer_size, return_sequences=True, stateful=stateful, name='LSTM_in_2')(x)\n",
        "\n",
        "    # Probabilistic Mixture Model #\n",
        "    if num_distribs:\n",
        "        weightings = Dense(ACT_DIM*num_distribs, activation=None, name='alpha')(x)\n",
        "        mu = Dense(ACT_DIM*num_distribs, activation=None, name='mu')(x)\n",
        "        scale = Dense(ACT_DIM*num_distribs, activation=\"softplus\", name='sigma')(x + epsilon)\n",
        "\n",
        "        weightings = Reshape((-1, ACT_DIM, num_distribs))(weightings)\n",
        "        mu = Reshape((-1, ACT_DIM, num_distribs))(mu)\n",
        "        scale = Reshape((-1, ACT_DIM, num_distribs))(scale)\n",
        "        \n",
        "        actions = tfpl.DistributionLambda(logistic_mixture, name='logistic_mix')([weightings, mu, scale])\n",
        "    else:\n",
        "        actions = Dense(ACT_DIM, activation=None, name='acts')(x)\n",
        "\n",
        "    if GCBC:\n",
        "      return Model([o, g], actions)\n",
        "    else:\n",
        "      return Model([o, z, g], actions)\n",
        "\n",
        "\n",
        "def latent_normal(inputs):\n",
        "    mu, scale = inputs\n",
        "    dist = tfd.Normal(loc=mu, scale=scale)\n",
        "    return dist\n",
        "\n",
        "def logistic_mixture(inputs):\n",
        "    weightings, mu, scale = inputs\n",
        "    dist = tfd.Logistic(loc=mu, scale=scale)\n",
        "    mixture_dist = tfd.MixtureSameFamily(\n",
        "        mixture_distribution=tfd.Categorical(logits=weightings),\n",
        "        components_distribution=dist,\n",
        "        validate_args=True\n",
        "    )\n",
        "    return mixture_dist"
      ],
      "execution_count": 45,
      "outputs": []
    },
    {
      "cell_type": "markdown",
      "metadata": {
        "pycharm": {
          "name": "#%% md\n"
        },
        "id": "TWIpRPRuv9E6"
      },
      "source": [
        "# Training Loop"
      ]
    },
    {
      "cell_type": "code",
      "metadata": {
        "id": "-3r_TDl7v9E7",
        "outputId": "6c7d67e8-3f90-46b2-c579-dc3193e91585",
        "colab": {
          "base_uri": "https://localhost:8080/"
        }
      },
      "source": [
        "from tensorflow.keras.losses import MeanSquaredError\n",
        "from tensorflow.keras.metrics import Accuracy\n",
        "from tensorflow.keras.optimizers import SGD, Adam\n",
        "from tensorflow.keras.utils import Progbar\n",
        "import tensorflow_addons as tfa\n",
        "\n",
        "import time\n",
        "import io\n",
        "import wandb\n",
        "wandb.login()\n",
        "#%load_ext tensorboard"
      ],
      "execution_count": 46,
      "outputs": [
        {
          "output_type": "stream",
          "text": [
            "\u001b[34m\u001b[1mwandb\u001b[0m: \u001b[33mWARNING\u001b[0m Calling wandb.login() after wandb.init() has no effect.\n"
          ],
          "name": "stderr"
        },
        {
          "output_type": "execute_result",
          "data": {
            "text/plain": [
              "True"
            ]
          },
          "metadata": {
            "tags": []
          },
          "execution_count": 46
        }
      ]
    },
    {
      "cell_type": "code",
      "metadata": {
        "id": "4dG2o68LfnYx"
      },
      "source": [
        "import umap\n",
        "reducer = umap.UMAP(metric='cosine', random_state=42)\n",
        "\n",
        "def project_latents(reducer, z_enc, z_plan):\n",
        "    ''' Todo: may need to rethink vector averaging here... '''\n",
        "    reducer.fit(z_enc)\n",
        "    z_enc_embed = reducer.transform(z_enc)\n",
        "    z_plan_embed = reducer.transform(z_plan)\n",
        "\n",
        "    fig = plt.figure()\n",
        "    ax = fig.add_subplot(111)\n",
        "    ax.scatter(z_enc_embed[:, 0], z_enc_embed[:, 1], s=5, label='z_enc')\n",
        "    ax.scatter(z_plan_embed[:, 0], z_plan_embed[:, 1], s=5, label='z_plan')\n",
        "    ax.set_aspect('equal', 'datalim')\n",
        "    ax.legend(loc='upper left')\n",
        "    plt.axis('off')\n",
        "    plt.tight_layout()\n",
        "    return fig\n",
        "\n",
        "def plot_to_image(figure):\n",
        "    \"\"\"Converts the matplotlib plot specified by 'figure' to a PNG image and\n",
        "    returns it. The supplied figure is closed and inaccessible after this call.\"\"\"\n",
        "    # Save the plot to a PNG in memory.\n",
        "    buf = io.BytesIO()\n",
        "    plt.savefig(buf, format='png')\n",
        "    # Closing the figure prevents it from being displayed directly inside\n",
        "    # the notebook.\n",
        "    plt.close(figure)\n",
        "    buf.seek(0)\n",
        "    # Convert PNG buffer to TF image\n",
        "    image = tf.image.decode_png(buf.getvalue(), channels=4)\n",
        "    # Add the batch dimension\n",
        "    image = tf.expand_dims(image, 0)\n",
        "    return image"
      ],
      "execution_count": 47,
      "outputs": []
    },
    {
      "cell_type": "code",
      "metadata": {
        "id": "KqmqTTIrJgHc"
      },
      "source": [
        "class MaxMetric(tf.keras.metrics.Metric):\n",
        "\n",
        "  def __init__(self, name='max_metric', **kwargs):\n",
        "    super(MaxMetric, self).__init__(name=name, **kwargs)\n",
        "    self.max = self.add_weight(name='max', initializer='zeros')\n",
        "    self.abs_err = tf.keras.losses.MeanAbsoluteError(reduction=tf.keras.losses.Reduction.NONE)\n",
        "\n",
        "  def update_state(self, y_true, y_pred, mask=1.0):\n",
        "    y_true = tf.cast(y_true, tf.float32)\n",
        "    y_pred = tf.cast(y_pred, tf.float32)\n",
        "\n",
        "    values = self.abs_err(y_true, y_pred) * mask\n",
        "    values = tf.cast(values, self.dtype)\n",
        "    max = tf.reduce_max(values)\n",
        "    if tf.math.greater(max, self.max):\n",
        "        self.max.assign(max)\n",
        "\n",
        "  def result(self):\n",
        "    return self.max"
      ],
      "execution_count": 48,
      "outputs": []
    },
    {
      "cell_type": "code",
      "metadata": {
        "id": "7vDui_2XGhZW"
      },
      "source": [
        "with strategy.scope():\n",
        "  nll_action_loss = lambda y, p_y: tf.reduce_sum(-p_y.log_prob(y), axis=2)\n",
        "  mae_action_loss = tf.keras.losses.MeanAbsoluteError(reduction=tf.keras.losses.Reduction.NONE)\n",
        "  mse_action_loss = tf.keras.losses.MeanSquaredError(reduction=tf.keras.losses.Reduction.NONE)\n",
        "\n",
        "  def compute_loss(labels, predictions, mask, seq_lens, weightings=None):\n",
        "      if PROBABILISTIC:\n",
        "        per_example_loss = nll_action_loss(labels, predictions) * mask\n",
        "      else:\n",
        "        per_example_loss = mse_action_loss(labels, predictions) * mask\n",
        "\n",
        "      per_example_loss = tf.reduce_sum(per_example_loss, axis = 1) / seq_lens # take mean along the timestep\n",
        "      return tf.nn.compute_average_loss(per_example_loss, global_batch_size=GLOBAL_BATCH_SIZE)\n",
        "\n",
        "  def compute_MAE(labels, predictions, mask, seq_lens, weightings=None):\n",
        "      per_example_loss = mae_action_loss(labels, predictions) * mask\n",
        "      per_example_loss = tf.reduce_sum(per_example_loss, axis = 1) / seq_lens # take mean along the timestep\n",
        "      return tf.nn.compute_average_loss(per_example_loss, global_batch_size=GLOBAL_BATCH_SIZE)\n",
        "\n",
        "  def compute_regularisation_loss(plan, encoding):\n",
        "      # Reverse KL(enc|plan): we want planner to map to encoder (weighted by encoder)\n",
        "      reg_loss = tfd.kl_divergence(encoding, plan) #+ KL(plan, encoding)\n",
        "      return tf.nn.compute_average_loss(reg_loss, global_batch_size=GLOBAL_BATCH_SIZE)\n",
        "\n",
        "  train_loss = tf.keras.metrics.Mean(name='train_loss')\n",
        "  valid_loss = tf.keras.metrics.Mean(name='valid_loss')\n",
        "\n",
        "  train_act_with_enc_loss = tf.keras.metrics.Mean(name='train_act_with_enc_loss')\n",
        "  train_act_with_plan_loss = tf.keras.metrics.Mean(name='train_act_with_plan_loss')\n",
        "  valid_act_with_enc_loss = tf.keras.metrics.Mean(name='valid_act_with_enc_loss')\n",
        "  valid_act_with_plan_loss = tf.keras.metrics.Mean(name='valid_act_with_plan_loss')\n",
        "\n",
        "  train_reg_loss = tf.keras.metrics.Mean(name='reg_loss')\n",
        "  valid_reg_loss = tf.keras.metrics.Mean(name='valid_reg_loss')\n",
        "\n",
        "  valid_position_loss = tf.keras.metrics.Mean(name='valid_position_loss')\n",
        "  valid_max_position_loss = MaxMetric(name='valid_max_position_loss')\n",
        "  valid_rotation_loss = tf.keras.metrics.Mean(name='valid_rotation_loss')\n",
        "  valid_max_rotation_loss = MaxMetric(name='valid_max_rotation_loss')\n",
        "  valid_gripper_loss = tf.keras.metrics.Mean(name='valid_rotation_loss')\n",
        "  \n",
        "  model_params = {'layer_size':LAYER_SIZE, 'latent_dim':LATENT_DIM}\n",
        "  if PROBABILISTIC:\n",
        "    actor = create_actor(**model_params, GCBC=GCBC, num_distribs=3)\n",
        "  else:\n",
        "    actor = create_actor(**model_params, GCBC=GCBC)\n",
        "\n",
        "  if not GCBC:\n",
        "    encoder = create_encoder(**{'layer_size':LAYER_SIZE//4, 'latent_dim':LATENT_DIM})\n",
        "    planner = create_planner(**{'layer_size':LAYER_SIZE//4, 'latent_dim':LATENT_DIM})\n",
        "\n",
        "  optimizer = tfa.optimizers.AdamW(weight_decay=1e-4, learning_rate=1e-3)\n",
        "  checkpoint = tf.train.Checkpoint(optimizer=optimizer, model=actor)\n",
        "\n",
        "# Now outside strategy .scope\n",
        "def train_step(inputs, beta):\n",
        "  with tf.GradientTape() as tape:\n",
        "    # Todo: figure out mask and seq_lens for new dataset \n",
        "    states, actions, goals, seq_lens, mask = inputs['obs'], inputs['acts'], inputs['goals'], inputs['seq_lens'], inputs['masks']\n",
        "    action_weights = (ACT_DIM-1)*[1.0] + [GRIPPER_WEIGHT] # 1 for all but gripper\n",
        "    if GCBC:\n",
        "      distrib = actor([states, goals])\n",
        "      loss = compute_loss(actions, distrib, mask, seq_lens, weightings=action_weights)\n",
        "      gradients = tape.gradient(loss, actor.trainable_variables)\n",
        "      optimizer.apply_gradients(zip(gradients, actor.trainable_variables))\n",
        "    else:\n",
        "      encoding = encoder([states, actions])\n",
        "      plan = planner([states[:, 0, :], goals[:, 0, :]])  # the final goals are tiled out over the entire non masked sequence, so the first timestep is the final goal. \n",
        "      z_enc = encoding.sample()\n",
        "      z_plan = plan.sample()\n",
        "      z_enc_tiled = tf.tile(tf.expand_dims(z_enc, 1), (1, WINDOW_SIZE, 1))\n",
        "      z_plan_tiled = tf.tile(tf.expand_dims(z_plan, 1), (1, WINDOW_SIZE, 1))\n",
        "\n",
        "      enc_policy = actor([states, z_enc_tiled, goals])\n",
        "      plan_policy = actor([states, z_plan_tiled, goals])\n",
        "\n",
        "      act_enc_loss = compute_loss(actions, enc_policy, mask, seq_lens, weightings=action_weights)\n",
        "      act_plan_loss = compute_loss(actions, plan_policy, mask, seq_lens, weightings=action_weights)\n",
        "      act_loss = act_enc_loss\n",
        "      reg_loss = compute_regularisation_loss(plan, encoding)\n",
        "      train_act_with_enc_loss.update_state(act_enc_loss)\n",
        "      train_act_with_plan_loss.update_state(act_plan_loss)\n",
        "      train_reg_loss.update_state(reg_loss)\n",
        "      loss = act_loss + reg_loss * beta  \n",
        "      gradients = tape.gradient(loss, actor.trainable_variables+encoder.trainable_variables+planner.trainable_variables)\n",
        "      optimizer.apply_gradients(zip(gradients, actor.trainable_variables+encoder.trainable_variables+planner.trainable_variables))\n",
        "\n",
        "  train_loss.update_state(loss)\n",
        "  \n",
        "  return loss\n",
        "\n",
        "def test_step(inputs, beta):\n",
        "  states, actions, goals, seq_lens, mask = inputs['obs'], inputs['acts'], inputs['goals'], inputs['seq_lens'], inputs['masks']\n",
        "  action_weights = (ACT_DIM-1)*[1.0] + [GRIPPER_WEIGHT] # 1 for all but gripper\n",
        "  if QUAT:\n",
        "    # xyz, q1-4, grip\n",
        "    action_breakdown = [3,4,1]\n",
        "  else:\n",
        "    action_breakdown = [3,3,1]\n",
        "\n",
        "  if GCBC:\n",
        "    policy = actor([states, goals], training=False)\n",
        "    loss = compute_loss(actions, policy, mask, seq_lens, weightings=action_weights)\n",
        "    if PROBABILISTIC:\n",
        "      pos_acts, rot_acts, grip_act = tf.split(policy.sample(), action_breakdown, -1)\n",
        "    else:\n",
        "      pos_acts, rot_acts, grip_act = tf.split(policy, action_breakdown, -1)\n",
        "  else:  \n",
        "    encoding = encoder([states, actions])\n",
        "    plan = planner([states[:, 0, :], goals[:, 0, :]])  # the final goals are tiled out over the entire non masked sequence, so the first timestep is the final goal. \n",
        "    z_enc = encoding.sample()\n",
        "    z_plan = plan.sample()\n",
        "    z_enc_tiled = tf.tile(tf.expand_dims(z_enc, 1), (1, WINDOW_SIZE, 1))\n",
        "    z_plan_tiled = tf.tile(tf.expand_dims(z_plan, 1), (1, WINDOW_SIZE, 1))\n",
        "\n",
        "    enc_policy = actor([states, z_enc_tiled, goals])\n",
        "    plan_policy = actor([states, z_plan_tiled, goals])\n",
        "\n",
        "    act_enc_loss = compute_loss(actions, enc_policy, mask, seq_lens, weightings=action_weights)\n",
        "    act_plan_loss = compute_loss(actions, plan_policy, mask, seq_lens, weightings=action_weights)\n",
        "    act_loss = act_plan_loss\n",
        "    reg_loss = compute_regularisation_loss(plan, encoding)\n",
        "    valid_act_with_enc_loss.update_state(act_enc_loss)\n",
        "    valid_act_with_plan_loss.update_state(act_plan_loss)\n",
        "    valid_reg_loss.update_state(reg_loss)\n",
        "\n",
        "    # pos, rot, gripper individual losses\n",
        "    if PROBABILISTIC:\n",
        "      pos_acts, rot_acts, grip_act = tf.split(plan_policy.sample(), action_breakdown, -1)\n",
        "    else:\n",
        "      pos_acts, rot_acts, grip_act = tf.split(plan_policy, action_breakdown, -1)\n",
        "    \n",
        "    loss = act_loss + reg_loss * beta\n",
        "\n",
        "  true_pos_acts, true_rot_acts, true_grip_act = tf.split(actions, action_breakdown, -1)\n",
        "  valid_position_loss.update_state(compute_MAE(true_pos_acts, pos_acts, mask, seq_lens))\n",
        "  valid_max_position_loss(true_pos_acts, pos_acts, mask)\n",
        "  valid_rotation_loss.update_state(compute_MAE(true_rot_acts, rot_acts, mask, seq_lens))\n",
        "  valid_max_rotation_loss(true_rot_acts, rot_acts, mask)\n",
        "  valid_gripper_loss.update_state(compute_MAE(true_grip_act, grip_act, mask, seq_lens))\n",
        "  valid_loss.update_state(loss)\n",
        "\n",
        "  if GCBC:\n",
        "    return loss\n",
        "  else:\n",
        "    return loss, z_enc, z_plan\n",
        "\n",
        "@tf.function\n",
        "def distributed_train_step(dataset_inputs, beta):\n",
        "  per_replica_losses = strategy.run(train_step, args=(dataset_inputs, beta))\n",
        "  return strategy.reduce(tf.distribute.ReduceOp.MEAN, per_replica_losses, axis=None)\n",
        "\n",
        "@tf.function\n",
        "def distributed_test_step(dataset_inputs, beta):\n",
        "  if GCBC:\n",
        "    per_replica_losses = strategy.run(test_step, args=(dataset_inputs, beta))\n",
        "    return strategy.reduce(tf.distribute.ReduceOp.MEAN, per_replica_losses, axis=None)\n",
        "  else:\n",
        "    per_replica_losses, ze, zp = strategy.run(test_step, args=(dataset_inputs, beta))\n",
        "    return strategy.reduce(tf.distribute.ReduceOp.MEAN, per_replica_losses, axis=None), ze.values[0], zp.values[0]"
      ],
      "execution_count": 49,
      "outputs": []
    },
    {
      "cell_type": "code",
      "metadata": {
        "id": "E9I3D39HPRZU",
        "outputId": "4a51494d-1837-40cd-d58b-940baf659475",
        "colab": {
          "base_uri": "https://localhost:8080/"
        }
      },
      "source": [
        "actor.summary()"
      ],
      "execution_count": 50,
      "outputs": [
        {
          "output_type": "stream",
          "text": [
            "Model: \"functional_17\"\n",
            "__________________________________________________________________________________________________\n",
            "Layer (type)                    Output Shape         Param #     Connected to                     \n",
            "==================================================================================================\n",
            "input_obs (InputLayer)          [(None, None, 18)]   0                                            \n",
            "__________________________________________________________________________________________________\n",
            "input_latent (InputLayer)       [(None, None, 256)]  0                                            \n",
            "__________________________________________________________________________________________________\n",
            "input_goals (InputLayer)        [(None, None, 11)]   0                                            \n",
            "__________________________________________________________________________________________________\n",
            "concatenate_8 (Concatenate)     (None, None, 285)    0           input_obs[0][0]                  \n",
            "                                                                 input_latent[0][0]               \n",
            "                                                                 input_goals[0][0]                \n",
            "__________________________________________________________________________________________________\n",
            "masking_8 (Masking)             (None, None, 285)    0           concatenate_8[0][0]              \n",
            "__________________________________________________________________________________________________\n",
            "LSTM_in_1 (LSTM)                (None, None, 2048)   19120128    masking_8[0][0]                  \n",
            "__________________________________________________________________________________________________\n",
            "LSTM_in_2 (LSTM)                (None, None, 2048)   33562624    LSTM_in_1[0][0]                  \n",
            "__________________________________________________________________________________________________\n",
            "tf_op_layer_AddV2_8 (TensorFlow [(None, None, 2048)] 0           LSTM_in_2[0][0]                  \n",
            "__________________________________________________________________________________________________\n",
            "alpha (Dense)                   (None, None, 21)     43029       LSTM_in_2[0][0]                  \n",
            "__________________________________________________________________________________________________\n",
            "mu (Dense)                      (None, None, 21)     43029       LSTM_in_2[0][0]                  \n",
            "__________________________________________________________________________________________________\n",
            "sigma (Dense)                   (None, None, 21)     43029       tf_op_layer_AddV2_8[0][0]        \n",
            "__________________________________________________________________________________________________\n",
            "reshape_12 (Reshape)            (None, None, 7, 3)   0           alpha[0][0]                      \n",
            "__________________________________________________________________________________________________\n",
            "reshape_13 (Reshape)            (None, None, 7, 3)   0           mu[0][0]                         \n",
            "__________________________________________________________________________________________________\n",
            "reshape_14 (Reshape)            (None, None, 7, 3)   0           sigma[0][0]                      \n",
            "__________________________________________________________________________________________________\n",
            "logistic_mix (DistributionLambd ((None, None, 7), (N 0           reshape_12[0][0]                 \n",
            "                                                                 reshape_13[0][0]                 \n",
            "                                                                 reshape_14[0][0]                 \n",
            "==================================================================================================\n",
            "Total params: 52,811,839\n",
            "Trainable params: 52,811,839\n",
            "Non-trainable params: 0\n",
            "__________________________________________________________________________________________________\n"
          ],
          "name": "stdout"
        }
      ]
    },
    {
      "cell_type": "code",
      "metadata": {
        "id": "MEXdfXGpaiZO",
        "outputId": "0fd3aad3-a1fe-41a3-a2b4-204278594715",
        "colab": {
          "base_uri": "https://localhost:8080/"
        }
      },
      "source": [
        "encoder.summary()"
      ],
      "execution_count": 51,
      "outputs": [
        {
          "output_type": "stream",
          "text": [
            "Model: \"functional_19\"\n",
            "__________________________________________________________________________________________________\n",
            "Layer (type)                    Output Shape         Param #     Connected to                     \n",
            "==================================================================================================\n",
            "obs (InputLayer)                [(None, None, 18)]   0                                            \n",
            "__________________________________________________________________________________________________\n",
            "acts (InputLayer)               [(None, None, 7)]    0                                            \n",
            "__________________________________________________________________________________________________\n",
            "concatenate_9 (Concatenate)     (None, None, 25)     0           obs[0][0]                        \n",
            "                                                                 acts[0][0]                       \n",
            "__________________________________________________________________________________________________\n",
            "masking_9 (Masking)             (None, None, 25)     0           concatenate_9[0][0]              \n",
            "__________________________________________________________________________________________________\n",
            "bidirectional_4 (Bidirectional) (None, None, 1024)   2203648     masking_9[0][0]                  \n",
            "__________________________________________________________________________________________________\n",
            "bidirectional_5 (Bidirectional) (None, 1024)         6295552     bidirectional_4[0][0]            \n",
            "__________________________________________________________________________________________________\n",
            "tf_op_layer_AddV2_9 (TensorFlow [(None, 1024)]       0           bidirectional_5[0][0]            \n",
            "__________________________________________________________________________________________________\n",
            "mu (Dense)                      (None, 256)          262400      bidirectional_5[0][0]            \n",
            "__________________________________________________________________________________________________\n",
            "sigma (Dense)                   (None, 256)          262400      tf_op_layer_AddV2_9[0][0]        \n",
            "__________________________________________________________________________________________________\n",
            "latent_variable (DistributionLa ((None, 256), (None, 0           mu[0][0]                         \n",
            "                                                                 sigma[0][0]                      \n",
            "==================================================================================================\n",
            "Total params: 9,024,000\n",
            "Trainable params: 9,024,000\n",
            "Non-trainable params: 0\n",
            "__________________________________________________________________________________________________\n"
          ],
          "name": "stdout"
        }
      ]
    },
    {
      "cell_type": "code",
      "metadata": {
        "id": "HRzOVtDyPLib",
        "outputId": "37f7731d-84d3-4b23-8367-ca793a73ff2d",
        "colab": {
          "base_uri": "https://localhost:8080/"
        }
      },
      "source": [
        "planner.summary()"
      ],
      "execution_count": 52,
      "outputs": [
        {
          "output_type": "stream",
          "text": [
            "Model: \"functional_21\"\n",
            "__________________________________________________________________________________________________\n",
            "Layer (type)                    Output Shape         Param #     Connected to                     \n",
            "==================================================================================================\n",
            "initial_obs (InputLayer)        [(None, 18)]         0                                            \n",
            "__________________________________________________________________________________________________\n",
            "goal_obs (InputLayer)           [(None, 11)]         0                                            \n",
            "__________________________________________________________________________________________________\n",
            "concatenate_10 (Concatenate)    (None, 29)           0           initial_obs[0][0]                \n",
            "                                                                 goal_obs[0][0]                   \n",
            "__________________________________________________________________________________________________\n",
            "masking_10 (Masking)            (None, 29)           0           concatenate_10[0][0]             \n",
            "__________________________________________________________________________________________________\n",
            "layer_1 (Dense)                 (None, 512)          15360       masking_10[0][0]                 \n",
            "__________________________________________________________________________________________________\n",
            "layer_2 (Dense)                 (None, 512)          262656      layer_1[0][0]                    \n",
            "__________________________________________________________________________________________________\n",
            "layer_3 (Dense)                 (None, 512)          262656      layer_2[0][0]                    \n",
            "__________________________________________________________________________________________________\n",
            "layer_4 (Dense)                 (None, 512)          262656      layer_3[0][0]                    \n",
            "__________________________________________________________________________________________________\n",
            "tf_op_layer_AddV2_10 (TensorFlo [(None, 512)]        0           layer_4[0][0]                    \n",
            "__________________________________________________________________________________________________\n",
            "mu (Dense)                      (None, 256)          131328      layer_4[0][0]                    \n",
            "__________________________________________________________________________________________________\n",
            "sigma (Dense)                   (None, 256)          131328      tf_op_layer_AddV2_10[0][0]       \n",
            "__________________________________________________________________________________________________\n",
            "latent_variable (DistributionLa ((None, 256), (None, 0           mu[0][0]                         \n",
            "                                                                 sigma[0][0]                      \n",
            "==================================================================================================\n",
            "Total params: 1,065,984\n",
            "Trainable params: 1,065,984\n",
            "Non-trainable params: 0\n",
            "__________________________________________________________________________________________________\n"
          ],
          "name": "stdout"
        }
      ]
    },
    {
      "cell_type": "code",
      "metadata": {
        "id": "KrN8p__13pNd"
      },
      "source": [
        "train_dist_dataset = iter(strategy.experimental_distribute_dataset(train_dataset))\n",
        "valid_dist_dataset = iter(strategy.experimental_distribute_dataset(valid_dataset))"
      ],
      "execution_count": 53,
      "outputs": []
    },
    {
      "cell_type": "code",
      "metadata": {
        "id": "xtSlIEoBlDyp",
        "outputId": "89866e91-a290-4173-9a27-9899c1d15015",
        "colab": {
          "base_uri": "https://localhost:8080/",
          "height": 278
        }
      },
      "source": [
        "from train import BetaScheduler\n",
        "\n",
        "TRAIN_STEPS = 5000\n",
        "\n",
        "beta_sched = BetaScheduler('cyclic', \n",
        "                           beta=0, \n",
        "                           beta_max=0.1, \n",
        "                           max_steps=TRAIN_STEPS, \n",
        "                           cycles=5, \n",
        "                           duty_cycle=0.5\n",
        "                           )"
      ],
      "execution_count": 54,
      "outputs": [
        {
          "output_type": "display_data",
          "data": {
            "image/png": "[encoded data removed]",
            "text/plain": [
              "<Figure size 432x288 with 1 Axes>"
            ]
          },
          "metadata": {
            "tags": [],
            "needs_background": "light"
          }
        }
      ]
    },
    {
      "cell_type": "code",
      "metadata": {
        "id": "B-GxHom207-M"
      },
      "source": [
        "def save_weights(path):\n",
        "    os.makedirs(path, exist_ok=True)\n",
        "\n",
        "    print('Saving model weights...')\n",
        "    actor.save_weights(path + 'model.h5')\n",
        "    if not GCBC:\n",
        "        planner.save_weights(path + 'planner.h5')\n",
        "        encoder.save_weights(path + 'encoder.h5')\n",
        "    print('Weights saved!')"
      ],
      "execution_count": 55,
      "outputs": []
    },
    {
      "cell_type": "code",
      "metadata": {
        "id": "rhSGD_2imWDi",
        "outputId": "d10d6672-8edf-4870-e99a-654f1bd15642",
        "colab": {
          "base_uri": "https://localhost:8080/",
          "height": 1000,
          "referenced_widgets": [
            "4984cae7fdc446428b23366f078157b7",
            "94af288b42a24d57863b3682a08e826e",
            "8c14d4c73a9545ec8ff4103b6537bfd1",
            "fc2247fdf08a40b48f9ee6979529121b",
            "aa89c43779c14df489d0e125b7cf7f20",
            "f5fd1996d26d4867a0f38fa716edab04",
            "30ff149f9468442c86a1f169a0d25570",
            "42a17d07184f4da29bb7d5b8983a542d"
          ]
        }
      },
      "source": [
        "progbar = Progbar(TRAIN_STEPS, verbose=1, interval=0.5)\n",
        "best_valid_loss = np.float('inf')\n",
        "\n",
        "valid_inc = 20\n",
        "save_inc = 1000\n",
        "t = 0\n",
        "\n",
        "train_loss_result = []\n",
        "train_act_with_enc_loss_result = []\n",
        "train_act_with_plan_loss_result = []\n",
        "train_reg_loss_result = []\n",
        "valid_loss_result = []\n",
        "valid_act_with_enc_loss_result = []\n",
        "valid_act_with_plan_loss_result = []\n",
        "valid_reg_loss_result = []\n",
        "valid_position_loss_result = []\n",
        "valid_max_position_loss_result = []\n",
        "valid_rotation_loss_result = []\n",
        "valid_max_rotation_loss_result = []\n",
        "valid_gripper_loss_result = []\n",
        "beta_result = []\n",
        "latent_img_result = []\n",
        "\n",
        "# WandB\n",
        "wandb.init(project=\"learning-from-play\")\n",
        "\n",
        "config = wandb.config\n",
        "\n",
        "# Hparams\n",
        "config.DEVICE = DEVICE\n",
        "config.BATCH_SIZE_PER_REPLICA = BATCH_SIZE_PER_REPLICA\n",
        "config.WINDOW_SIZE = WINDOW_SIZE\n",
        "config.WINDOW_SHIFT = WINDOW_SHIFT\n",
        "config.SHUFFLE_SIZE = SHUFFLE_SIZE\n",
        "config.PREFETCH_SIZE = PREFETCH_SIZE\n",
        "config.NUM_WORKERS = NUM_WORKERS\n",
        "config.TRAIN_TEST_SPLIT = TRAIN_TEST_SPLIT\n",
        "config.LAYER_SIZE = LAYER_SIZE\n",
        "config.LATENT_DIM = LATENT_DIM\n",
        "config.GRIPPER_WEIGHT = GRIPPER_WEIGHT\n",
        "config.TRAIN_STEPS = TRAIN_STEPS\n",
        "config.beta_schedule = beta_sched.schedule\n",
        "config.beta_min = beta_sched.beta_min\n",
        "config.beta_max = beta_sched.beta_max"
      ],
      "execution_count": 56,
      "outputs": [
        {
          "output_type": "display_data",
          "data": {
            "text/html": [
              "Finishing last run (ID:2v4p7781) before initializing another..."
            ],
            "text/plain": [
              "<IPython.core.display.HTML object>"
            ]
          },
          "metadata": {
            "tags": []
          }
        },
        {
          "output_type": "stream",
          "text": [
            "/usr/local/lib/python3.6/dist-packages/plotly/matplotlylib/renderer.py:474: UserWarning:\n",
            "\n",
            "Dang! That path collection is out of this world. I totally don't know what to do with it yet! Plotly can only import path collections linked to 'data' coordinates\n",
            "\n",
            "/usr/local/lib/python3.6/dist-packages/plotly/matplotlylib/renderer.py:512: UserWarning:\n",
            "\n",
            "I found a path object that I don't think is part of a bar chart. Ignoring.\n",
            "\n"
          ],
          "name": "stderr"
        },
        {
          "output_type": "display_data",
          "data": {
            "text/html": [
              "<br/>Waiting for W&B process to finish, PID 2554<br/>Program ended successfully."
            ],
            "text/plain": [
              "<IPython.core.display.HTML object>"
            ]
          },
          "metadata": {
            "tags": []
          }
        },
        {
          "output_type": "display_data",
          "data": {
            "application/vnd.jupyter.widget-view+json": {
              "model_id": "4984cae7fdc446428b23366f078157b7",
              "version_minor": 0,
              "version_major": 2
            },
            "text/plain": [
              "VBox(children=(Label(value=' 0.92MB of 0.97MB uploaded (0.00MB deduped)\\r'), FloatProgress(value=0.95226482036…"
            ]
          },
          "metadata": {
            "tags": []
          }
        },
        {
          "output_type": "display_data",
          "data": {
            "text/html": [
              "Find user logs for this run at: <code>/content/learning_from_play/wandb/run-20201114_101150-2v4p7781/logs/debug.log</code>"
            ],
            "text/plain": [
              "<IPython.core.display.HTML object>"
            ]
          },
          "metadata": {
            "tags": []
          }
        },
        {
          "output_type": "display_data",
          "data": {
            "text/html": [
              "Find internal logs for this run at: <code>/content/learning_from_play/wandb/run-20201114_101150-2v4p7781/logs/debug-internal.log</code>"
            ],
            "text/plain": [
              "<IPython.core.display.HTML object>"
            ]
          },
          "metadata": {
            "tags": []
          }
        },
        {
          "output_type": "display_data",
          "data": {
            "text/html": [
              "<h3>Run summary:</h3><br/><style>\n",
              "    table.wandb td:nth-child(1) { padding: 0 10px; text-align: right }\n",
              "    </style><table class=\"wandb\">\n",
              "<tr><td>train_loss_result</td><td>-1.2885</td></tr><tr><td>train_act_with_enc_loss_result</td><td>-1.29441</td></tr><tr><td>train_act_with_plan_loss_result</td><td>-1.28987</td></tr><tr><td>train_reg_loss_result</td><td>0.07603</td></tr><tr><td>valid_loss_result</td><td>-1.36739</td></tr><tr><td>valid_act_with_enc_loss_result</td><td>-1.38369</td></tr><tr><td>valid_act_with_plan_loss_result</td><td>-1.3752</td></tr><tr><td>valid_reg_loss_result</td><td>0.09766</td></tr><tr><td>valid_position_loss_result</td><td>0.00636</td></tr><tr><td>valid_max_position_loss_result</td><td>13.86013</td></tr><tr><td>valid_rotation_loss_result</td><td>0.00912</td></tr><tr><td>valid_max_rotation_loss_result</td><td>15.45016</td></tr><tr><td>valid_gripper_loss_result</td><td>0.06665</td></tr><tr><td>beta_result</td><td>0.08</td></tr><tr><td>_step</td><td>400</td></tr><tr><td>_runtime</td><td>753</td></tr><tr><td>_timestamp</td><td>1605349466</td></tr></table>"
            ],
            "text/plain": [
              "<IPython.core.display.HTML object>"
            ]
          },
          "metadata": {
            "tags": []
          }
        },
        {
          "output_type": "display_data",
          "data": {
            "text/html": [
              "<h3>Run history:</h3><br/><style>\n",
              "    table.wandb td:nth-child(1) { padding: 0 10px; text-align: right }\n",
              "    </style><table class=\"wandb\">\n",
              "<tr><td>train_loss_result</td><td>▂█▂▂▁▁▁▁▁▁▁▁▁▁▁▁▁▁▁▁▁</td></tr><tr><td>train_act_with_enc_loss_result</td><td>▂█▂▂▁▁▁▁▁▁▁▁▁▁▁▁▁▁▁▁▁</td></tr><tr><td>train_act_with_plan_loss_result</td><td>▂█▂▂▂▂▂▂▁▁▁▁▁▁▁▁▁▁▁▁▁</td></tr><tr><td>train_reg_loss_result</td><td>▃█▂▁▁▁▁▁▁▁▁▁▁▂▁▁▁▁▂▁▂</td></tr><tr><td>valid_loss_result</td><td>▇▇█▆▅█▇▄▃▄▂▅▃▂▂▁▁▁▁▁▁</td></tr><tr><td>valid_act_with_enc_loss_result</td><td>▆▇█▆▅█▇▄▃▄▂▅▃▂▂▁▁▁▁▁▁</td></tr><tr><td>valid_act_with_plan_loss_result</td><td>▇▇█▆▅█▇▄▃▄▂▅▃▂▂▁▁▁▁▁▁</td></tr><tr><td>valid_reg_loss_result</td><td>█▂▁▁▁▁▁▁▁▁▁▁▁▁▁▁▁▂▂▂▂</td></tr><tr><td>valid_position_loss_result</td><td>▆▇█▄▄▇▄▃▂▂▁▃▃▁▁▁▁▁▁▁▁</td></tr><tr><td>valid_max_position_loss_result</td><td>█▅▆▄▅▅▄▃▃▃▃▃▃▂▃▂▂▁▂▁▂</td></tr><tr><td>valid_rotation_loss_result</td><td>▆█▇▄▃▄▃▃▂▂▁▂▁▁▁▁▁▁▁▁▁</td></tr><tr><td>valid_max_rotation_loss_result</td><td>▂█▂▃▂▂▂▂▂▂▁▂▂▁▁▁▁▁▁▁▁</td></tr><tr><td>valid_gripper_loss_result</td><td>█▆▄▄▂▁▂▁▂▃▂▂▂▁▁▁▂▁▁▁▁</td></tr><tr><td>beta_result</td><td>▁▁▂▂▂▃▃▃▄▄▅▅▅▆▆▆▇▇▇██</td></tr><tr><td>_step</td><td>▁▁▂▂▂▃▃▃▄▄▅▅▅▆▆▆▇▇▇██</td></tr><tr><td>_runtime</td><td>▁▁▂▂▂▃▃▃▄▄▄▅▅▅▆▆▆▇▇▇█</td></tr><tr><td>_timestamp</td><td>▁▁▂▂▂▃▃▃▄▄▄▅▅▅▆▆▆▇▇▇█</td></tr></table><br/>"
            ],
            "text/plain": [
              "<IPython.core.display.HTML object>"
            ]
          },
          "metadata": {
            "tags": []
          }
        },
        {
          "output_type": "display_data",
          "data": {
            "text/html": [
              "Synced 5 W&B file(s), 21 media file(s), 0 artifact file(s) and 0 other file(s)"
            ],
            "text/plain": [
              "<IPython.core.display.HTML object>"
            ]
          },
          "metadata": {
            "tags": []
          }
        },
        {
          "output_type": "display_data",
          "data": {
            "text/html": [
              "\n",
              "                    <br/>Synced <strong style=\"color:#cdcd00\">leafy-sun-117</strong>: <a href=\"https://wandb.ai/tfrizza/learning-from-play/runs/2v4p7781\" target=\"_blank\">https://wandb.ai/tfrizza/learning-from-play/runs/2v4p7781</a><br/>\n",
              "                "
            ],
            "text/plain": [
              "<IPython.core.display.HTML object>"
            ]
          },
          "metadata": {
            "tags": []
          }
        },
        {
          "output_type": "display_data",
          "data": {
            "text/html": [
              "...Successfully finished last run (ID:2v4p7781). Initializing new run:<br/><br/>"
            ],
            "text/plain": [
              "<IPython.core.display.HTML object>"
            ]
          },
          "metadata": {
            "tags": []
          }
        },
        {
          "output_type": "display_data",
          "data": {
            "text/html": [
              "\n",
              "                Tracking run with wandb version 0.10.10<br/>\n",
              "                Syncing run <strong style=\"color:#cdcd00\">glad-snowflake-118</strong> to <a href=\"https://wandb.ai\" target=\"_blank\">Weights & Biases</a> <a href=\"https://docs.wandb.com/integrations/jupyter.html\" target=\"_blank\">(Documentation)</a>.<br/>\n",
              "                Project page: <a href=\"https://wandb.ai/tfrizza/learning-from-play\" target=\"_blank\">https://wandb.ai/tfrizza/learning-from-play</a><br/>\n",
              "                Run page: <a href=\"https://wandb.ai/tfrizza/learning-from-play/runs/26ry8k8a\" target=\"_blank\">https://wandb.ai/tfrizza/learning-from-play/runs/26ry8k8a</a><br/>\n",
              "                Run data is saved locally in <code>/content/learning_from_play/wandb/run-20201114_102426-26ry8k8a</code><br/><br/>\n",
              "            "
            ],
            "text/plain": [
              "<IPython.core.display.HTML object>"
            ]
          },
          "metadata": {
            "tags": []
          }
        }
      ]
    },
    {
      "cell_type": "code",
      "metadata": {
        "id": "TQFbEKVNLq2s"
      },
      "source": [
        "wandb.run.name =\"GCBC_UR5_rel_rpy_LMP\"\n",
        "\n",
        "model_name = wandb.run.name\n",
        "model_path = f'/content/drive/My Drive/Robotic Learning/LMP_test/{model_name}/'"
      ],
      "execution_count": 57,
      "outputs": []
    },
    {
      "cell_type": "code",
      "metadata": {
        "id": "IXF0Y8aKrsng",
        "outputId": "03fadb24-2a9e-425a-9e31-f02ad655412d",
        "colab": {
          "base_uri": "https://localhost:8080/"
        }
      },
      "source": [
        "while t < TRAIN_STEPS:\n",
        "    start_time = time.time()\n",
        "    beta = beta_sched.scheduler(t)\n",
        "    x = next(train_dist_dataset)\n",
        "    total_train_loss = distributed_train_step(x, beta)\n",
        "    \n",
        "    if t % valid_inc == 0:\n",
        "        valid_x = next(valid_dist_dataset)\n",
        "        if GCBC:\n",
        "          total_val_loss = distributed_test_step(valid_x, beta)\n",
        "        else:\n",
        "          total_val_loss, ze, zp = distributed_test_step(valid_x, beta)\n",
        "\n",
        "        # validation plotting\n",
        "        progbar.add(valid_inc, [('Train Loss', train_loss.result()), ('Validation Loss', valid_loss.result()), ('Time (s)', round(time.time() - start_time, 1))])\n",
        "\n",
        "        train_loss_result.append(train_loss.result())\n",
        "        valid_loss_result.append(valid_loss.result())\n",
        "        valid_position_loss_result.append(valid_position_loss.result())\n",
        "        valid_max_position_loss_result.append(valid_max_position_loss.result())\n",
        "        valid_rotation_loss_result.append(valid_rotation_loss.result())\n",
        "        valid_max_rotation_loss_result.append(valid_max_rotation_loss.result())\n",
        "        valid_gripper_loss_result.append(valid_gripper_loss.result())\n",
        "\n",
        "        if GCBC:\n",
        "          wandb.log({'train_loss_result':train_loss_result[-1],\n",
        "                      'valid_loss_result':valid_loss_result[-1],\n",
        "                      'valid_position_loss_result':valid_position_loss_result[-1],\n",
        "                      'valid_max_position_loss_result':valid_max_position_loss_result[-1],\n",
        "                      'valid_rotation_loss_result':valid_rotation_loss_result[-1],\n",
        "                      'valid_max_rotation_loss_result':valid_max_rotation_loss_result[-1],\n",
        "                      'valid_gripper_loss_result':valid_gripper_loss_result[-1]\n",
        "                    },\n",
        "                    step=t)\n",
        "        else:\n",
        "                    # Latent space projection\n",
        "          latent_fig = project_latents(reducer, ze, zp)\n",
        "          latent_img = plot_to_image(latent_fig)\n",
        "          train_act_with_enc_loss_result.append(train_act_with_enc_loss.result())\n",
        "          train_act_with_plan_loss_result.append(train_act_with_plan_loss.result())\n",
        "          train_reg_loss_result.append(train_reg_loss.result())\n",
        "          valid_act_with_enc_loss_result.append(valid_act_with_enc_loss.result())\n",
        "          valid_act_with_plan_loss_result.append(valid_act_with_plan_loss.result())\n",
        "          valid_reg_loss_result.append(valid_reg_loss.result())\n",
        "          beta_result.append(beta)\n",
        "          latent_img_result.append(latent_img)\n",
        "\n",
        "          wandb.log({'train_loss_result':train_loss_result[-1],\n",
        "                      'train_act_with_enc_loss_result':train_act_with_enc_loss_result[-1],\n",
        "                      'train_act_with_plan_loss_result':train_act_with_plan_loss_result[-1],\n",
        "                      'train_reg_loss_result':train_reg_loss_result[-1],\n",
        "                      'valid_loss_result':valid_loss_result[-1],\n",
        "                      'valid_act_with_enc_loss_result':valid_act_with_enc_loss_result[-1],\n",
        "                      'valid_act_with_plan_loss_result':valid_act_with_plan_loss_result[-1],\n",
        "                      'valid_reg_loss_result':valid_reg_loss_result[-1],\n",
        "                      'valid_position_loss_result':valid_position_loss_result[-1],\n",
        "                      'valid_max_position_loss_result':valid_max_position_loss_result[-1],\n",
        "                      'valid_rotation_loss_result':valid_rotation_loss_result[-1],\n",
        "                      'valid_max_rotation_loss_result':valid_max_rotation_loss_result[-1],\n",
        "                      'valid_gripper_loss_result':valid_gripper_loss_result[-1],\n",
        "                      'beta_result':beta_result[-1],\n",
        "                      'latent_img_result':latent_fig,\n",
        "                    },\n",
        "                    step=t)\n",
        "\n",
        "        # reset metrics\n",
        "        train_loss.reset_states()\n",
        "        train_act_with_enc_loss.reset_states()\n",
        "        train_act_with_plan_loss.reset_states()\n",
        "        train_reg_loss.reset_states()\n",
        "        valid_loss.reset_states()\n",
        "        valid_act_with_enc_loss.reset_states()\n",
        "        valid_act_with_plan_loss.reset_states()\n",
        "        valid_reg_loss.reset_states()\n",
        "\n",
        "        valid_position_loss.reset_states()\n",
        "        valid_max_position_loss.reset_states()\n",
        "        valid_rotation_loss.reset_states()\n",
        "        valid_max_rotation_loss.reset_states()\n",
        "        valid_gripper_loss.reset_states()\n",
        "\n",
        "    if (t+1) % save_inc == 0:\n",
        "        save_weights(model_path)\n",
        "\n",
        "    t += 1"
      ],
      "execution_count": null,
      "outputs": [
        {
          "output_type": "stream",
          "text": [
            "\r  20/5000 [..............................] - ETA: 6:19:16 - Train Loss: 0.9321 - Validation Loss: 0.6177 - Time (s): 86.8000Saving model weights...\n",
            "Weights saved!\n",
            "  40/5000 [..............................] - ETA: 4:17:00 - Train Loss: 8.9193 - Validation Loss: 0.7772 - Time (s): 44.6500"
          ],
          "name": "stdout"
        },
        {
          "output_type": "stream",
          "text": [
            "/usr/local/lib/python3.6/dist-packages/plotly/matplotlylib/renderer.py:474: UserWarning:\n",
            "\n",
            "Dang! That path collection is out of this world. I totally don't know what to do with it yet! Plotly can only import path collections linked to 'data' coordinates\n",
            "\n",
            "/usr/local/lib/python3.6/dist-packages/plotly/matplotlylib/renderer.py:512: UserWarning:\n",
            "\n",
            "I found a path object that I don't think is part of a bar chart. Ignoring.\n",
            "\n"
          ],
          "name": "stderr"
        }
      ]
    },
    {
      "cell_type": "code",
      "metadata": {
        "id": "DSR8b5qRwuvu"
      },
      "source": [
        "save_weights(model_path)"
      ],
      "execution_count": null,
      "outputs": []
    },
    {
      "cell_type": "code",
      "metadata": {
        "id": "YUa6rnToIIhI",
        "outputId": "82d896e3-d5ae-4d77-ee92-735d0f43f594",
        "colab": {
          "base_uri": "https://localhost:8080/",
          "height": 202
        }
      },
      "source": [
        "#@title Broke man's Tensorboard\n",
        "s = np.arange(t, step=valid_inc)\n",
        "\n",
        "# hparams/\n",
        "if not GCBC:\n",
        "  f1,ax1 = plt.subplots(1,1, figsize=(6,5))\n",
        "  ax1.plot(s, beta_result, label='beta')\n",
        "  ax1.set_title('beta')\n",
        "\n",
        "# losses/\n",
        "f2,ax2 = plt.subplots(1,4, figsize=(30,5))\n",
        "ax2[0].plot(s, train_loss_result, label='train')\n",
        "ax2[0].plot(s, valid_loss_result, label='valid')\n",
        "ax2[0].set_title('loss')\n",
        "#ax2[0].set_ylim(0,1e-3)\n",
        "if not GCBC:\n",
        "  ax2[1].plot(s, train_act_with_enc_loss_result, label='train')\n",
        "  ax2[1].plot(s, valid_act_with_enc_loss_result, label='valid')\n",
        "  ax2[1].set_title('act_with_enc_loss')\n",
        "  ax2[1].set_ylim(0,5e-4)\n",
        "  ax2[2].plot(s, train_act_with_plan_loss_result, label='train')\n",
        "  ax2[2].plot(s, valid_act_with_plan_loss_result, label='valid')\n",
        "  ax2[2].set_title('act_with_plan_loss')\n",
        "  ax2[2].set_ylim(0,7e-4)\n",
        "  ax2[3].plot(s, train_reg_loss_result, label='train')\n",
        "  ax2[3].plot(s, valid_reg_loss_result, label='valid')\n",
        "  ax2[3].set_title('reg_loss')\n",
        "  [ax.legend() for ax in ax2]\n",
        "# [ax.set_yscale('log') for ax in ax2]\n",
        "\n",
        "  # images/\n",
        "  f3,ax3 = plt.subplots(1,1, figsize=(6,5))\n",
        "  ax3.imshow(latent_img_result[-1].numpy()[0], label='latent_img_result')\n",
        "  ax3.set_title('Latent space projection')\n",
        "\n",
        "  plt.show()"
      ],
      "execution_count": null,
      "outputs": [
        {
          "output_type": "display_data",
          "data": {
            "image/png": "[encoded data removed]",
            "text/plain": [
              "<Figure size 2160x360 with 4 Axes>"
            ]
          },
          "metadata": {
            "tags": [],
            "needs_background": "light"
          }
        }
      ]
    },
    {
      "cell_type": "code",
      "metadata": {
        "id": "wnsg9ZwI8RNR"
      },
      "source": [
        "# %tensorboard --logdir {tb_base_dir}\n",
        "model_name =\"GCBC_vel_rpy_aug_rel_rpy_states'\"\n",
        "model_path = f'/content/drive/My Drive/Robotic Learning/LMP_test/{model_name}/'\n",
        "actor.load_weights(f'{model_path}/model.h5')"
      ],
      "execution_count": null,
      "outputs": []
    },
    {
      "cell_type": "code",
      "metadata": {
        "id": "-Cs00c5NE6VW"
      },
      "source": [
        "#@title Sample a batch for timeseries plotting\n",
        "# Lets plot pred actions vs true actions\n",
        "v_it = iter(valid_dataset.repeat())\n",
        "batch = v_it.next()\n",
        "states,acts,goals,seq_lens,masks = batch['obs'],batch['acts'],batch['goals'],batch['seq_lens'],batch['masks']\n",
        "if GCBC:\n",
        "  pred_acts = actor([states, goals])\n",
        "else:\n",
        "  encoding = encoder([states,acts])\n",
        "  plan = planner([states[:, 0, :], goals[:, 0, :]]) # TODO this is really aggravating, if we have variable sequence lengths we need to pass\n",
        "                                                        # Through the indices of the final index, can't just use the last 1, unless we copy it out instead of tiling?\n",
        "  # check if encoder is overfitting on validation\n",
        "  z_enc = z = tf.tile(tf.expand_dims(encoding.sample(), 1), (1, WINDOW_SIZE, 1))\n",
        "  enc_act_distrib = actor([states, z_enc, goals])\n",
        "\n",
        "  # true validation performance, w/ planner\n",
        "  z = tf.tile(tf.expand_dims(plan.sample(), 1), (1, WINDOW_SIZE, 1))\n",
        "  pred_acts = actor([states, z, goals]) # TODO Check can you backprop through samples"
      ],
      "execution_count": null,
      "outputs": []
    },
    {
      "cell_type": "code",
      "metadata": {
        "id": "ERW0YID3FykT",
        "outputId": "5305872b-a824-4166-c092-8855356b2b5e",
        "colab": {
          "base_uri": "https://localhost:8080/",
          "height": 878
        }
      },
      "source": [
        "#@title Plot timeseries of state/action tracking over time - xyz q1234 gripper\n",
        "import seaborn as sns\n",
        "sns.set_style(\"darkgrid\")\n",
        "\n",
        "idx = 18\n",
        "seq_len = int(seq_lens[idx])\n",
        "x = np.arange(seq_len)\n",
        "labels = ['x','y','z','q1','q2','q3','q4','gripper']\n",
        "fig, axes = plt.subplots(ACT_DIM, 1, figsize=(10,12), squeeze=True)\n",
        "for i in range(ACT_DIM):\n",
        "    #sns.lineplot(x, acts[idx,:seq_len,i], color='r', ax=axes[i])\n",
        "    axes[i].plot(acts[idx,:seq_len,i])\n",
        "    axes[i].plot(pred_acts[idx, :seq_len,i])\n",
        "    #sns.lineplot(x, pred_acts[idx, :seq_len,i], color='g', ax=axes[i])\n",
        "    if not GCBC:\n",
        "      sns.lineplot(x, enc_act_distrib[idx, :seq_len,i], color='b', ax=axes[i])\n",
        "      axes[i].set_title(f'$\\\\bf{labels[i]}$')\n",
        "    \n",
        "fig.legend( ('true action', 'predicted action', 'encoder_action'))    \n",
        "plt.tight_layout()\n",
        "plt.show()"
      ],
      "execution_count": null,
      "outputs": [
        {
          "output_type": "display_data",
          "data": {
            "image/png": "[encoded data removed]",
            "text/plain": [
              "<Figure size 720x864 with 7 Axes>"
            ]
          },
          "metadata": {
            "tags": []
          }
        }
      ]
    },
    {
      "cell_type": "markdown",
      "metadata": {
        "id": "VSBpZPfv1ohn"
      },
      "source": [
        "#Eval"
      ]
    },
    {
      "cell_type": "code",
      "metadata": {
        "id": "TCbNuZPq1nuH"
      },
      "source": [
        "# path = 'GCBCBoi'\n",
        "# if GCBC:\n",
        "#     actor.load_weights(f'saved_models/{path}/model.h5')\n",
        "# else:\n",
        "#     encoder.load_weights(f'saved_models/{path}/encoder.h5')\n",
        "#     planner.load_weights(f'saved_models/{path}/planner.h5')"
      ],
      "execution_count": null,
      "outputs": []
    },
    {
      "cell_type": "code",
      "metadata": {
        "id": "rR24HnPP11p5",
        "outputId": "6c8521d4-7f6b-44a8-a21d-c42980df8e83",
        "colab": {
          "base_uri": "https://localhost:8080/",
          "height": 111
        }
      },
      "source": [
        "import time\n",
        "import pandaRL\n",
        "import gym\n",
        "import matplotlib.pyplot as plt \n",
        "from IPython.display import display, clear_output\n",
        "import imageio\n",
        "import eval\n",
        "if JOINTS and RELATIVE:\n",
        "    env = gym.make('pandaPlayRelJoints1Obj-v0')\n",
        "elif JOINTS and not RELATIVE:\n",
        "    env = gym.make('pandaPlayAbsJoints1Obj-v0')\n",
        "    #env = gym.make('pandaPlayJoints-v0')\n",
        "elif not JOINTS and RELATIVE and QUAT:\n",
        "    env = gym.make('pandaPlayRel1Obj-v0')\n",
        "elif not JOINTS and RELATIVE and not QUAT:\n",
        "    env = gym.make('pandaPlayRelRPY1Obj-v0')\n",
        "elif not JOINTS and not RELATIVE and not QUAT:\n",
        "    env = gym.make('pandaPlayAbsRPY1Obj-v0')\n",
        "else:\n",
        "    env = gym.make('pandaPlay1Obj-v0')\n",
        "\n",
        "env.reset()\n",
        "env.render('playback')"
      ],
      "execution_count": null,
      "outputs": [
        {
          "output_type": "stream",
          "text": [
            "current_dir=/content/learning_from_play/local_packages/pandaRL/pandaRL/envs\n",
            "current_dir=/content/learning_from_play/local_packages/pandaRL/pandaRL/envs\n",
            "/content/learning_from_play/local_packages/pandaRL/pandaRL/envs\n"
          ],
          "name": "stdout"
        },
        {
          "output_type": "stream",
          "text": [
            "/usr/local/lib/python3.6/dist-packages/gym/logger.py:30: UserWarning: \u001b[33mWARN: Box bound precision lowered by casting to float32\u001b[0m\n",
            "  warnings.warn(colorize('%s: %s'%('WARN', msg % args), 'yellow'))\n"
          ],
          "name": "stderr"
        }
      ]
    },
    {
      "cell_type": "code",
      "metadata": {
        "id": "WOWyQZmynOBT",
        "outputId": "fec0d460-437a-49d3-e363-a3a79cb1e610",
        "colab": {
          "base_uri": "https://localhost:8080/",
          "height": 36
        }
      },
      "source": [
        ""
      ],
      "execution_count": null,
      "outputs": [
        {
          "output_type": "execute_result",
          "data": {
            "application/vnd.google.colaboratory.intrinsic+json": {
              "type": "string"
            },
            "text/plain": [
              "'/content/drive/My Drive/Robotic Learning/LMP_test/GCBC_vel_rpy_aug_rel2/'"
            ]
          },
          "metadata": {
            "tags": []
          },
          "execution_count": 45
        }
      ]
    },
    {
      "cell_type": "code",
      "metadata": {
        "id": "szPlmBL62cDo"
      },
      "source": [
        "model_params = {'layer_size':LAYER_SIZE, 'latent_dim':LATENT_DIM, 'training':False}\n",
        "if PROBABILISTIC:\n",
        "    actor = create_actor(**model_params, GCBC=GCBC, num_distribs=3)\n",
        "else:\n",
        "    actor = create_actor(**model_params, GCBC=GCBC)\n",
        "actor.load_weights(f'{model_path}/model.h5')"
      ],
      "execution_count": null,
      "outputs": []
    },
    {
      "cell_type": "code",
      "metadata": {
        "id": "BzJnq2Z82q0B"
      },
      "source": [
        "# Lets plot pred actions vs true actions\n",
        "v_it = iter(valid_dataset.repeat())"
      ],
      "execution_count": null,
      "outputs": []
    },
    {
      "cell_type": "code",
      "metadata": {
        "id": "6xzO8eVjiXyl",
        "outputId": "c0753192-c9f7-41fb-98b9-e23716fd9e7a",
        "colab": {
          "base_uri": "https://localhost:8080/",
          "height": 261
        }
      },
      "source": [
        ""
      ],
      "execution_count": null,
      "outputs": [
        {
          "output_type": "execute_result",
          "data": {
            "text/plain": [
              "array([[ 3.10898966, -0.97365862, -0.04030566,  2.99367084, -5.40226174,\n",
              "        -1.53885346],\n",
              "       [-2.45153636, -2.06008236, -1.03980682, -0.90396888,  1.89510568,\n",
              "         3.06807181],\n",
              "       [-0.96279402, -1.69054515,  0.05651272,  0.73476868,  0.17441825,\n",
              "        -1.1493915 ],\n",
              "       ...,\n",
              "       [ 0.27902074,  0.03811367,  0.04136889, -0.1772855 ,  0.0830211 ,\n",
              "         0.41014927],\n",
              "       [ 0.35168801,  0.07484628,  0.08873382,  0.27295627, -0.44185731,\n",
              "         0.0833763 ],\n",
              "       [ 0.16741869, -0.01637623,  0.16774298,  1.01914809, -1.8093617 ,\n",
              "        -0.50813452]])"
            ]
          },
          "metadata": {
            "tags": []
          },
          "execution_count": 31
        }
      ]
    },
    {
      "cell_type": "code",
      "metadata": {
        "id": "cGkulvRm43BE",
        "outputId": "eff8addf-103b-4526-f819-3bc993174678",
        "colab": {
          "base_uri": "https://localhost:8080/",
          "height": 36
        }
      },
      "source": [
        "# Play out action histories\n",
        "f = 12\n",
        "eval_data = np.load(PYBULLET_DATA_DIR+'/obs_act_etc/'+str(f)+'/data.npz')\n",
        "potential_start_points = glob.glob(PYBULLET_DATA_DIR+'/states_and_ims/'+str(f)+'/env_states/*.bullet')\n",
        "\n",
        "achieved_goals = eval_data['achieved_goals']\n",
        "\n",
        "if JOINTS:\n",
        "    if RELATIVE:\n",
        "      rel = eval_data['target_poses'] - eval_data['joint_poses'][:,:7]\n",
        "    else:\n",
        "      rel = eval_data['target_poses']\n",
        "\n",
        "    gripper = eval_data['acts'][:,-1,tf.newaxis]\n",
        "    actions = tf.concat([rel, gripper], axis=-1)\n",
        "    observations = tf.concat([eval_data['obs'],eval_data['joint_poses'][:,:7]], axis=-1)#.astype('float32')\n",
        "else:\n",
        "    if USE_QUAT_OBS:\n",
        "      observations = eval_data['obs']\n",
        "    else:\n",
        "      observations = eval_data['rpy_obs']\n",
        "    if RELATIVE:\n",
        "        if QUAT:\n",
        "          rel = eval_data['acts'][:,:7] - eval_data['obs'][:,:7]\n",
        "        else:\n",
        "          rel = eval_data['acts_rpy_rel'][:,:6]\n",
        "        \n",
        "        gripper = eval_data['acts'][:,-1,tf.newaxis]\n",
        "        actions = tf.concat([rel, gripper], axis=-1)\n",
        "    else:\n",
        "        if QUAT:\n",
        "            acts = eval_data['acts']\n",
        "        else:\n",
        "            acts = eval_data['acts_rpy']\n",
        "\n",
        "\n",
        "if VELOCITY:\n",
        "  observations = tf.concat([observations, eval_data['velocities']],-1)\n",
        "\n",
        "def get_random_start_point(potential_start_points):\n",
        "    idx = np.random.choice(len(potential_start_points))\n",
        "    path = potential_start_points[idx]\n",
        "    tstep = int(path.split(\"/\")[-1].replace('.bullet',''))\n",
        "    return path, tstep\n",
        "\n",
        "print(observations.shape, actions.shape)"
      ],
      "execution_count": null,
      "outputs": [
        {
          "output_type": "stream",
          "text": [
            "(3796, 24) (3796, 7)\n"
          ],
          "name": "stdout"
        }
      ]
    },
    {
      "cell_type": "code",
      "metadata": {
        "id": "73a0kl2J54iY"
      },
      "source": [
        "path, start = get_random_start_point(potential_start_points)\n",
        "env.p.restoreState(fileName=path)"
      ],
      "execution_count": null,
      "outputs": []
    },
    {
      "cell_type": "code",
      "metadata": {
        "id": "rvXQpx7_4rEJ",
        "outputId": "9aecdc95-d167-4e4d-a368-1f16fa64064d",
        "colab": {
          "base_uri": "https://localhost:8080/",
          "height": 268
        }
      },
      "source": [
        "vid_path = 'output/videos/trajectory.mp4'\n",
        "with imageio.get_writer(vid_path, mode='I') as writer:\n",
        "    for i in range(start, start+WINDOW_SIZE):\n",
        "        o ,r, d, _ = env.step(actions[i,:])\n",
        "        writer.append_data(o['img'])\n",
        "        clear_output(wait=True)\n",
        "        fig = plt.imshow(o['img'])\n",
        "        plt.show()\n",
        "        #time.sleep(0.01)"
      ],
      "execution_count": null,
      "outputs": [
        {
          "output_type": "display_data",
          "data": {
            "image/png": "[encoded data removed]",
            "text/plain": [
              "<Figure size 432x288 with 1 Axes>"
            ]
          },
          "metadata": {
            "tags": [],
            "needs_background": "light"
          }
        }
      ]
    },
    {
      "cell_type": "code",
      "metadata": {
        "id": "sX9Mogv88ah5",
        "outputId": "22e19e8a-8ed1-488c-b326-3d978bf641d7",
        "colab": {
          "base_uri": "https://localhost:8080/",
          "height": 268
        }
      },
      "source": [
        "# Play out stateful model predictions\n",
        "path, start = get_random_start_point(potential_start_points)\n",
        "env.p.restoreState(fileName=path)\n",
        "\n",
        "vid_path = 'output/videos/trajectory.mp4'\n",
        "\n",
        "eval_seq_len = WINDOW_SIZE\n",
        "goal = achieved_goals[start+eval_seq_len][tf.newaxis,tf.newaxis,:] # same as two expand_dims\n",
        "\n",
        "replay = True \n",
        "\n",
        "\n",
        "\n",
        "if replay:\n",
        "    retries = 1\n",
        "else:\n",
        "    retries = 2\n",
        "\n",
        "\n",
        "state = env.panda.calc_state()\n",
        "if USE_QUAT_OBS:\n",
        "    obs = state['observation']\n",
        "else:\n",
        "    obs = np.concatenate(state['observation'][0:3], p.getEulerFromQuaternion(state['observation'][3:7]) , state['observation'][7:]])\n",
        "if JOINTS:\n",
        "    o = tf.expand_dims(tf.expand_dims(np.concatenate([obs, state['joints'][:7]]),0),0)\n",
        "else:\n",
        "    o = tf.expand_dims(tf.expand_dims(obs,0),0)\n",
        "    \n",
        "if VELOCITY:\n",
        "    o = tf.concat([o,tf.expand_dims(tf.expand_dims(tf.cast(state['velocity'],tf.float32),0),0)], axis = -1)\n",
        "\n",
        "a_true = actions[start:start+WINDOW_SIZE]\n",
        "a_pred = []\n",
        "with imageio.get_writer(vid_path, mode='I') as writer:\n",
        "  for j in range(0,retries):\n",
        "      if not GCBC:\n",
        "          plan, _ = planner((o[0], goal[0]))\n",
        "          z = tf.expand_dims(plan.sample(),0)\n",
        "      actor.reset_states()\n",
        "      if not replay:\n",
        "          replan_horizon = 30\n",
        "      else:\n",
        "          replan_horizon = WINDOW_SIZE\n",
        "          \n",
        "      for i in range(0, replan_horizon):\n",
        "\n",
        "          if GCBC:\n",
        "              a = actor((o, goal)).numpy().squeeze()\n",
        "              a_pred.append(a)\n",
        "          else:\n",
        "              a = actor((o, z,goal)).numpy().squeeze()\n",
        "              a_pred.append(a)\n",
        "\n",
        "          if replay:\n",
        "              a=a_true[i, :]\n",
        "          \n",
        "          o, r, d, _ = env.step(a)\n",
        "          vel= tf.expand_dims(tf.expand_dims(tf.cast(o['velocity'],tf.float32),0),0)\n",
        "          writer.append_data(o['img'])\n",
        "          clear_output(wait=True)\n",
        "          fig = plt.imshow(o['img'])\n",
        "          plt.show()\n",
        "          if USE_QUAT_OBS:\n",
        "              obs = o['observation']\n",
        "          else:\n",
        "              obs = np.concatenate(o['observation'][0:3], p.getEulerFromQuaternion(o['observation'][3:7]) , o['observation'][7:]])\n",
        "              \n",
        "          if JOINTS:\n",
        "              o = tf.expand_dims(tf.expand_dims(np.concatenate([obs,o['joints'][:7]]), 0),0)\n",
        "          else:\n",
        "              o = tf.expand_dims(tf.expand_dims(obs, 0),0)\n",
        "          if VELOCITY:\n",
        "                o = tf.concat([o,vel], axis = -1)"
      ],
      "execution_count": null,
      "outputs": [
        {
          "output_type": "display_data",
          "data": {
            "image/png": "[encoded data removed]",
            "text/plain": [
              "<Figure size 432x288 with 1 Axes>"
            ]
          },
          "metadata": {
            "tags": [],
            "needs_background": "light"
          }
        }
      ]
    },
    {
      "cell_type": "code",
      "metadata": {
        "id": "AaMDRLIODOPI",
        "outputId": "f65b41ec-d2e3-4470-bcf9-51459b199705",
        "colab": {
          "base_uri": "https://localhost:8080/",
          "height": 320
        }
      },
      "source": [
        "eval.render_mp4(vid_path)"
      ],
      "execution_count": null,
      "outputs": [
        {
          "output_type": "execute_result",
          "data": {
            "text/html": [
              "\n",
              "                <video width=\"300\" height=\"300\" controls>\n",
              "                <source src=\"data:video/mp4;base64,AAAAIGZ0eXBpc29tAAACAGlzb21pc28yYXZjMW1wNDEAAAAIZnJlZQAAnyRtZGF0AAACrgYF//+q3EXpvebZSLeWLNgg2SPu73gyNjQgLSBjb3JlIDE1MiByMjg1NCBlOWE1OTAzIC0gSC4yNjQvTVBFRy00IEFWQyBjb2RlYyAtIENvcHlsZWZ0IDIwMDMtMjAxNyAtIGh0dHA6Ly93d3cudmlkZW9sYW4ub3JnL3gyNjQuaHRtbCAtIG9wdGlvbnM6IGNhYmFjPTEgcmVmPTMgZGVibG9jaz0xOjA6MCBhbmFseXNlPTB4MzoweDExMyBtZT1oZXggc3VibWU9NyBwc3k9MSBwc3lfcmQ9MS4wMDowLjAwIG1peGVkX3JlZj0xIG1lX3JhbmdlPTE2IGNocm9tYV9tZT0xIHRyZWxsaXM9MSA4eDhkY3Q9MSBjcW09MCBkZWFkem9uZT0yMSwxMSBmYXN0X3Bza2lwPTEgY2hyb21hX3FwX29mZnNldD0tMiB0aHJlYWRzPTYgbG9va2FoZWFkX3RocmVhZHM9MSBzbGljZWRfdGhyZWFkcz0wIG5yPTAgZGVjaW1hdGU9MSBpbnRlcmxhY2VkPTAgYmx1cmF5X2NvbXBhdD0wIGNvbnN0cmFpbmVkX2ludHJhPTAgYmZyYW1lcz0zIGJfcHlyYW1pZD0yIGJfYWRhcHQ9MSBiX2JpYXM9MCBkaXJlY3Q9MSB3ZWlnaHRiPTEgb3Blbl9nb3A9MCB3ZWlnaHRwPTIga2V5aW50PTI1MCBrZXlpbnRfbWluPTEwIHNjZW5lY3V0PTQwIGludHJhX3JlZnJlc2g9MCByY19sb29rYWhlYWQ9NDAgcmM9Y3JmIG1idHJlZT0xIGNyZj0yNS4wIHFjb21wPTAuNjAgcXBtaW49MCBxcG1heD02OSBxcHN0ZXA9NCBpcF9yYXRpbz0xLjQwIGFxPTE6MS4wMACAAAAYcGWIhAF/3hJhUF/B85ZyPK0SzefCIvgxkQOQiUJbDLaOGjuELP2XBQiV/RIBQNC3Q+kD4PVluLirApHpmHaB+6YlPjLSJAfSc8e0oAD4fzndWHcLrCa1aMPSKYDtGWO6VCUjpbp2GhW8696nE4LvfuA1Qxy2aJVapJfgQTDXoUfBMR1kJgJeghnr+LjEuAZkY0tu+5vMdLqx7/S5viL654R6TN5Tx9CkJYdzSzkvAgv3oMp7APbGcTdxpfFTFta3ysrC93XsNw1zZboF7BSHMGJ7SoEOOZYAa5SAGUQxRbxJtcqHPMVnrzJh9Grb3fKv/kGPsnmjtktwWABpnAJYloniJdblSPsyLJcJnwlausYxEi5Lg6Vph3IkDXgh0nI4g+jwPAMr+oLnL95cwmr9rIi9EyqoAcisygKFOxOP+SiecIxzQ/ZhBAIO1OoWCMr38n5ZJdBMRzB9VEuIqrrAEV5qKSzZZPr2R+k/xeTHZFA9FlTUiW7y4fFRnQKWfUuz1DzR1TRlx3meCNfPQ/hyZfnBt3CYa556G0KqZhG3FqMiXbxjTLAPIaKcR2N/uOl7FSzCjg4+mcGLOkPbzBdeEnSYxwlG6ne89/bh5hiRjfV/Y4cjfrSRBcXA1L8jUCbLk4grsXEAtyUUi9oW0oS7mU5VrPNZGKdfr1toC+Jhybnk5E+t69cpr15mR0HrijjlWCmmE4QWrxXusyCSw89xE3nmLD9xFT3ovGKh37LU3wENzZiaP+T+AtXPKQhSYdxHrBU2loUY+g8wiRz5YEE6FQTujlTtcKWOAjUIH5cUYx26cIh7GN+zciZ22lLmNEawF6Nf75VqhrxZP8WanzEr4YCeFUMy4y8A9KXUu4WPp3M2h8y9rHqUHJq0/r4zsxjrY8j9aVUmX43jvYeI8sYO2Tx1Quy7EAW5OWvQGH4WNj5aM7YZtJMdkK15XBd3eQFvRLBvSubyqGI4/WFekvNJayEa5q63WCJy2cvIKwf1MqxA/qfevcY6kdfJkm4FmMN9lcwbMZdaUY5UTpThBWkJVr6dh6wAfO4s+WOvmT5vDvI3appk59k24Q9FA71i7Fp8lu+O+f+sBhor619qf+E+DgSxSI3X4EybKad0O+KxUwzJJDyxJPsNagn29BqGmB16fA/g8NJ5Zby1FQeMidelleFn8lWG1pFlEvzPnrb01riTTvuBiwt2hGourfG4U6TJ/W4z/CTica1bPH9kkvCNu2jj6qfd4F7xUrH4piL4Dz2d2mIRSSV0kkHyLCaPITo6ex4jX5YImbHm9Iy+t9rNtk/0M71JDma7k6f6UBku6uYVcoOdt3FSa0yxn7RXSkzUb4QFeDIXjlK+mk+ffiLcMph9UngUAkpGQpIXShy1Gr3OtyY/cJlHrHO9PHMPbavNgFMWstsN3/K0mn6jWm2voGT13SErTvIvZFyqRykKZ081jdOynNqYASZUGtbnfAwaHwxTykQO1KxA6HvwCamCvVba2V318Jv651d3b8NwXtvbLZFfxHh+AuoiiGN+XXuCPIwE9hkcl8/3GifRot2bfxDDRuNDqSpsuq5g8ux51ChCZPl4IvjkheopSrasa3V+PUXX2TeP7nR8difZzI5QJigxA9Fk4DyJieW4wD9da8XhiUkd//UMqlAAsDIRHWLr5kgpEbXbqfWfZHzqt4ir9erm4EFubkxeXFYFILwptLxrxo7l5aXSHhZSkI0wgovJJWs6nqME9Ya+NBnJc06uaPAUqHia+cZcIiics+NNYMSSpQdyJMv9Naow+vci5dUVxJhSgnFEE8bamqrNmhqFbWFshU1UgYL3UuqqTAsqQEZ/EUujiz0J34l+ORRt3BC3g0SQdlQIGpLFfBvBAqx2a4/gOmGvEbGerqc4F6nPfOq1bP3Fs29qM+4ZPjJNCtifVah+m3Of0taIMPhwzx65A/xTsUrsdiMpPH/3fzgBJqLLgW149PpTwn+ybb+xnB8c7XpaAJZa98UgkaQ1x9NaopuNA5tZda7dIGYNjmT8a3AyYWZxUL4HeGE5y1MDnUO8COfkcq/dHKKLCRrRYnlYVbnHVHvOtolevcV+kHtoruGvwea8mNyTZCNCtv6NFh0N9IAEDfUoQZj1a6TGEPd9Cp1tBxz0nE1WwAtqXrWd7yIh2RuCMh+lsQSqX8tB8xt3VukLlg+jIPN8a9wy707FXgr73s+5seZqA0QMxUyCUnPUUI20NR5kJNZUJCKlmgaQeUFxfiq6LkOsKatYBUxvk76ugEehNUyd+tluz6M1PPwQS4VWrdTuSZ5KcpE8V/7YkrPrnGHx+g/GUuO9ESol0n2nWh2g2wxymQlP8h18NXwjeRsTNI19RvGBdZXr7r/8xsxbjZaXOSQmDqyDSFhUgbxClBr0LKlPaT6DdIT8zklTM1R6X3LD4J1wvExWMegCDSi97Ka8xCIgvJ1fyxeTcRBUqzGZBV+r+cJQvZOz83FlNBKoMCjkFRd4Ubih4Y0dcv/ZNLL1JA76IxTz5t5wT7ewUIJHdp/RhJ2lVXV45WJanBValSF0w87uvz6S9dqqDxmt5o5T3/GtzuVRos860odL3EQMMMHd4/C8H2rABfn51fSOSxYi4ZGzAAYcgu4syrIZ2gEbguPUS7yTk1qbbPmsh4Tq8aDGmPlCGBOpX2Zw0vJnJy6hKuygJgNpmrgEW9489ee+rZqXvwAueTLd7oCVOe7S6FmbV0Zf3Q4v9IkAFvkM4vg0B/+MqvWiI4MTdtuN2JDpBQQb9smAbj1HpGKNNVFl34Mr/DWKvyWgcorspCQyKRuxUODwQzrj/w8t3JrYq8tGznZp12zaqJZWaKzYlI8CTQA1jG5ADmm/03OYUrVwdBcI2wbSbbeBC4nIPot0vpf3DahUobEvDyN1eymoFAiXnhVj/rEvyj/VeFxKqftzy5v2qCBr1Vnu0CBw83MjtA6dTIgxtFcU0jeRWLt2DIHGSTWDPO6heOvKyw5ola7HvS8njR6I9cQvIzrIXituzmlRhw1ZtxFaxwZxKIdP9IDQUKTswfFDDz+IpJ49ACmdeUmN0+fqWWMiSKOMMCauonzzFTmOPpq1pcDEMwDC1pKZSmQz42rNmrsAAIplkD39YMTuno4lv/oASV+YTeuAQWvh6QqVhsGuvia4bSFpdgZ+ftqFPrcdIQK4JxVYh9wAzzjgkKD4kJbaA2xfsmNmfmL7Lx1qM+PG4OcivKSigZiJnaFEETp71kN83toDKbW5KxcG0vbeEKrHUWnme5kZDRCm+Ltg1t0wViLSORsDf+e/YLRuZkvbNgWs3Hy6zwpXTUcV9st3Fo7xNkV7rWcfW0/2NgtGlVlCqHTzT4d84fLNWLiavxXvqhu6JScS/CrrB8tAC8dfcL05zeXYpw1xIHeXBiJqZ2b1/vuJrte2YCReWS7S3TGfZmZerS+AEIWQI3vbP9UVfTW1tXIBVfrUJcqUE1U93pbRb+SFOP70V10brqC7sZrNAbArDNcKer+KIh9vz4SGuHD2b1p3/dzHXD0Iac1Nqtr5jB4UK1lBC2sKrYe7cGmM2leFxUiF43/QEqJFYSysX80tmkVpcHgWvzyYQtuhkdniRkBdKlek0XF2I/LXl/H9BRLyxcsf/wGbEdaUBgl0RkDZep6FRaRHaW6V/4smF3pRjG0Vv07PzFFw+5RpQUmgSPMm4rMlev4MbjK9U9hEvidOJ/qiL3nAqqllpt6LVru182DVVdniPo+aZP0OQNEmWr4L0PWn02gX5a31WFSXr0S0z/y89Gy31zssmD/xKbJc1eAMtfFSn8U19DLRzftbux30hmHF1Ugkeoe08s3S26UMvty7/pKoG7YSjikS1BX1dktPMUIyWXp7qER/gE1P8cRdUN1QxNNI3Ky5F+HKOkRaPTeRkbKj6AoOCN2llM9uKGwVhrcrk6rRpsBBUoIoczwjEImvUFx1oWdw29rOb2sO4C36Vo3WfYZYeeu1acK1Rzt/O3Gahu/hnFRHDnN+nt4C4ERN4ldeOo6DDVwqEZ4qdOSlanLkgbOc/C4xvPv8ytgUlDe9rubqGLiKOrWtqMALUe03SCVXKnaz7pm8xZqyM1qbDW399H8ZOUfFG1yeafVcSz0eVEamBmbkvA8+pBjBdnpCT7QhFqr4bCZg/s19mtcq9NhncARobb+oqkn5dEz5OtZ3SUlPapPrnzrXtWtPbBRsZiTNbHcI2FcKt2KTvVMcV9bS9TnS54YznLjPR78s/PhyqyH00KRCjcPWlevAYKk4TYqOO9QAV6SVa7MLOaUqwGIPEVM3K4D2LD78m5EgsFvh2kOe6/ItDtFQ2du9AyO3WcF8en23P5rsYRzsbI7sGiu7EQ22QQGmSDEA4i3jDHVZsUw138GNalOLxHlotwq3nRXREW2/QBuY0GTTlGgoyYykRRAhPVGoHIx7ZQjKUWQpaR3eZdh/pKq4AsNaMMhmNbpvUBLEU/oycy2EnAGyjD1lEX15I2hqOLKj2vIjCF9m43I6oC+pPDW98nwR6Ormu8VybhYBxSLnwpNj62mI01q6SfcJdOwhnnOMI0tK+gq2Q7Ce0Q6u3nIKCkaL4Ef/Z8jRiClsNI5aigkeeDRYYrWSHsgNAKG4iWF1UUpnc6vIXt14FA7UaagF4IJYBiYwSUQ1VyB07ulEAwREieZoVG8MFIHzK395L6yaZCdWqv+2iKVdu+dIIyD9QD4ZB3J4N0AZkzAB+w6tCJ6wbyDQB0nvhiQpUmwH0OFLK1JlJ4G1MXQ3Ls2b3S19a+EnoDYGqBsp/q/wQC4e7D32xqjysXCv0mcvkMMlA4lkXKZaLPkOY6gBBDQvR3zLodLhGHgtygmpb3DqP0rWCCiPBV09CBtbJnl+PMTeo6rbpcIxJd7Unl/5x+rLszgqkVq5DIEwNLfNo1AilJX2jgIT+pAiJbHjZS9xlN3ok7fwjyzIHiECVEXdosvLpPhXbt6J5otDFSlnlloS4OpllDiQIqUNJscm5B90uI4qKNo+xng83Cl4EStS+/TueEmytihlIBU2lKlvas64mK32EvVkH2VvCMM+TXUvdYZowiEfxHYZa0ev3p9+e7gw0wLpndUKfqIUrHuGrpOvc6tZsFCsz5c0L35HRhI/i6eHRHE7DzeUmkKX3U+pNPB1LUQx4R/4CRUlCbG+TX1TDw7XyIXe2k/HsiqDGxh0Of/bRQu02m24Gmwu198UijqHs3R+p7bLDP51u/Y4M/fDQMDvIPKsUdmXmQ+H3Q4KRPHfja42dGuf100gS7Qith2bqCmiZSo1QOx2G2p6d9gnM81AZDeq5yCHspAsWuKzHV0sLobQI5E98gPSaZYv4vaifkhi7rASCFZL41eIj4PbDp2FpCyNUy3JsxjhKwFGqwyy2shx6DFUHGSmp4rDykd4SVEjvZNXJfJXKEnpUxlnIE7BiNVefSTmqPYM5MCbHUox1dolFrI3yPA8ub3tXLGjvqtnxZKB0dxlRAeGgUopKx823JbCv9GsBDNzwuLkiz2b0JQbrTZ3YOP9LuQF47Mq/61coqJQhNWKiu9JKGqQkpJN927eRWjUmVxNPtmqmOIDD0YkmnGab54RC1Qi0k+HXMCbYpaaJq6tYYOdJg0Rv5UaEG/Ee/7wiy1LWYyeW8P8VatziLVnB480RvThkuhGI7glmoRTOLdreDfuSecKoxF4HAMMT+RG5BAzkr/Jvrbg1SjX318JFZP7wA1l3BMELykCRHUz4bNAjfTgGguMVx9b6A/4nn4fflHSHjn61Ctd1K4awnkU15/gOFovtKu9KB4MY6gBax0kYQS40qxwSzAS2gympfDoewuocDavRokw3MWyG6xhHJrYPyCBi2iHm4aWYENuNUMRi3uvndrQ7Za2eTX95mih0Q9eMVMvtLrXgbUfW53iaETBVVurBqXY+TcGGn6ZnuAX2ReE6LQUtZpNo0FZDDgSpwVS1X0NTzr42tm1XaRqqBxsE2nfvx/1Ox53VE2r5q028UV/oR4ZRQhQ3KwP66TWQ9hcEJdvETl5N2q/tejXPhfYFGCv/AqagUv0kZGre6sChHVLzlUK9StK+nW/DKXcNTChuobXO7F8noytmNe0587+tPJk02/Yg6jM6bZxUXhiqmoDScCV6N8tyRA3NDks5+tr5ikSo8DGD+nUcoHzhLrzcqPr2ONj8Pf/a6e7kGkGZqjNDRyoTkRzVqsKdcNhh7iDcqHcqEXXeaLcvVqq5vxrhrPE+yReLbZFS3Cw0wFQhJrj+wWIDUhxyEzxMPGE+HTCnPxl4MhA90vLsIhtO3c8tHyByG+GQeX0//d/EVSamEoW5acbpbcv53nqrQ/qsN6KJM6/79wgSEIg9lahq1R5eXlBONe8Qp8otRGaHcaIvlTYxs3vlhYz1pyWMUO0OFY15r8m9uFUc+vO0yv/YiLFWqjXkvbCGrWvqapRWcFHUKnpUrAICNfCMssxzgPKTAq6UDTKiKq2b6uBP3UUFEeBdNsKaCvChmWoiXZ9HnxymDsKqh90JLrY/BO6JHhpb16RF6Hn62be/UA49O6w+k9DqBEfPIxGptJYUdBjeZ/1GxWDMXelBKF2PsXH95yG0M0Bqhw48g3WHywRlupxiBwI4rGnJlF3zkBBeSWcXRUEaI+VSK1ZJ+1CVQ2G5oZaA+NEZMEjAgoviiaoC77gXeO5xClP74XyStuakVFxJLoJYz0N/W1zv7E8ESqiL1Gm6AiAHdWkl3W1sXLzGL5HrNQs54zFZUE6VYqGgKRKbsNRMmTIK+qVImxkyBnCcbdkR15bJ47k0e9M/sw0X61ssT/CCb04sGirFErmDQsaCSP5EtViVDnZLqogfTbozNbKIBLgHmRqt2fRCYCLPLXeZnx8V8zjPdmkxxtSvSm1HQMIjofBoXTFIkgeae7bzTHiBT6OUGk0KKnq/mwH71WS7HZ1XruEPqLhtO7otLkw/qHlbWCe8Idtzx22Rwv6BEAXBrM8sJ3lpwPFfBkOOPHIPBdISuwlqodr7AN5XvUuxMGfS7TmVxLCRiZBANisv5xWW3AINj4EauuLeAlmzS1pFzICDxWSpCDSwMGetao41637mKM4fDIU0JN4M8/pCqUEXHSCM9N7o+YHCozU83/YnZKE166S+zTEM2gA3Xh3cyx9U8hDQhkq0gdqxsWji+hEPkN9qz++wCCMMNMGb+QvMXRNNGjO9TkLH06WKtM3x/8T2sq+tEsGPRcjSRci+fotOdImpmGC82yFKYRZSno+EFJezFyUOYBPIha+xorMbUMEajXlXzri2TZhz+m6J1ziMYRAy71RfOP1ssTvEDjqDO216Px8uWUVxL8q1tLIeWY6vFM+XEGDSh3TX0dE42K4u9PBX9FA+aF1fO5zf2lZ9Wpajk9Mle8EMdZc+AWM8iFDKZjgtWbo7KJR5FOvHFW37Tg7lK4sXPZ8aydzyPx4KzxhaafTEWEp2Zh/qx5rkiu6Jwf6DBIe6+YErwoHEOdB/XmbZlex+EHA6N8WJ1qOcqracncS6JXvyZsxslwAVHO8gv9I9Tq2fHk37sns9FCnlXeFf7cdwFdiOIhm4ANXhORvi83W4gtxWVijJiJ01zqwB14MDSDMyveMQkwcpDLHk+Q7qovc0bRn+mFJNhxuo95HB0p+nPRg8IVjMJJAI9qEWEal7OTog2zbpoXZFPofJp721kavWPyge0z6j8CRzJ2YS2GSRUh/2mmFilisPXZhzBdcCdFTETXSLjTETOLsi/zQGRtlEAsiQcfs2o/YG8rOcaLbOR62a5kJ2N58+25LY5qyL94uAY/OXlGzEtrAmDhvPSEMacgTBR8y6oB+fJ768gzIwcsGu7nakx0xVKs16QOYs/Bn3UvzrgdLf1P/KssX2K29f8DfeKPv8HD+CDM9hNTbjGpUQqLA/xOmOLgbGnndU7aNUjnTXoAKjyitfEP7fj38hycHIOFfuh8MIs0uXgU5H+CLD1YOLXXHeX4o3mbWRwxnq8wA8MlUiU1Ld64QD0AkwRzSxyliDDWoeRNHlbly4v+lzWa4Sq0NoGGBIBqVNk+rM7vxPenl2ElGVBFEKNkj1OTJZ4tt57PLsMwpTWQNCSFfSc/gnE7DnRQJDi+h8vRHbepNQAx5Zf0xb443o7i+fL3Sh4kG+YISKXK8Cd5GzQxE7KtXn9WXuPmYJvLaSy7m8mgFyU1VN5+hMQYFWZm1v5rHYE/a9S2yqq/NiiFD24aMJ0XqRnHn/KjakKIT/HWbKapnVefVTUgnhA9R3zck/MK4E1fzEPUpk/p2iP/nFLtt4TqMAacZoZwAeacgNznqRnicO7W7/99KDknjWKCmCOaKumi6yrh4g8EAAAUCQZoibFfN7IrOjbWFz04gcowQSz8Pcz0BHPZByM2rYSmkOxwSy8pJnGRq14Lebq3l3Rpxu6hMceYJ77o5gQpm+Scrrgz1AiRwf9iqcOBUiCpI/RcWR481D8fxvqbYSekdnJJuKdDoJPQLVX34uzgvX6Q/M5DNJSaUjm4mWKhuucEaLxjoclsHExOAP6xeDtRsgI82cHW3fiT8VNYmyHtirc3OOxMWPsBxld7ERToo9khyJqckqnNOyDbfajkOr9SYXvX8tE/DD+oH4ibGDe0BPTXWV0gXbPZchSvwrLftHX/tpu7UZveutzTzbBCZQotQHdmrbYQaLaDj6lxL0bgLj1Aye0PDOy1sk36+jigls4+NX9cilhq+qtxhM+Ly6Sdhrfu0lDi4AnwF06Sqhj4snS0rFwG65JWvEQk2BR7UYLAEsn6gGosuf3WR69vZAsAlDkyY2YPm2053trDcflNZCsUEXtVIgKDk9tCYKwqoH72UzfmzwwgyilUIAjY5U38Kl8FDkLlDaUVdqQRL0PICb+tNucllibq4TkiHDit1JQqRHuPwreGmn8Prbnm3fe7sntXz0yCpR2W5F6PSsG9Ir15DD+RAVnTSsd6n0JZHRKIEoWyY2UkXunIUfSIyoP8vk1kqJ67xoSFxOzpJ+RRz64Bk3TYM8S/LlEQlc+GPCcw4vGEwz+tNe4zQF7YEwLlPOtJmReCppa2OGDWM8qwqNoU6KLpS6JvO+Z81547CvVuWpRK+VxuY8+IXGJOCUU1p0tOyJQivtN/Huk8K1D6cOqn/ZlojTAXGHr3CymRiD878QBN0coM/HNJjV1Kub+xMqKup7ps8yGTjkDLX0twExm0nWtSAmeWVSiO9++lQ9hx6vozxt/MUMMx56pDLqobeLLNO0o2aby4lhNTx0RM/uPoqk21yM1Vr+utPIZttYsZUp/onmYEI+bodry/CRGsgVvOypiHKwy/GHVM1U9gVSD1qa0KqnIb0zFqaXUmPcehNc9OWdJxeFJdfmkQ5VV/czdmoL50xXjxZ3rvrBl1zx2+ETeW/RGNcEGUuki9jntGpc3xybn+Us1wNQfQv+m6/gTIdMqq8CupZWOrF2hyy39gIB0CzZseOPazWT3G7yPGoKklYkxoNiHvXrtnHQcECa1MrtBXInTeoTekoQTWEUkErXc6XsLbO8R5MtWDt/euzHVHnQCbWw68kUzjbYN0zaz+uLQFC9lCNgnDGRfBtfDjEW9dGYVbf1TBWScsj9DRskPGnp67W+BC+vsrU145+i7gX5B/oDqpmmLyaBzfEqSsjrrYbSUCxSOg49xzZ7vOIyt2Kt5CFFxAEZSbmXzd8WxscvjwY+W9Oz8TAPteo0r3+RUOy01AxPM+qaq32Yn5YJ1EPF9Apkw+ljnee7uqMZqZntRPgNjdNakEe5zN9jQzWeiG8Dl4xVnRDG2pN9T2M8+rA/p77qwAyeec4G+f8FgwChouI8wLf5jQB6Pt20PQDOzGqQk5R/WHnHUwvP9iMTMIz0xhalBdxeOpvrAOVVCsxXFrQqaca/toTnIapT9/iixf/DPnkarsll7xuUQtIbtTg/iNDiVobTJw2S0DiIX/3SpZxNw5SqGzFcZkQmZPxJt9i9IHqLNaB75NNR05UrIjWzHxp055WgGGG2OA8HXlaXZSq692hTErF2rLLrmIAHCaMvxIHlPvSK4Yu5r57zgAAAgIBnkF5X+4/mkQeCX9RbujFtD9+OWLzehMAaFYIgBUyJ47+YOSgpo/HXUIHV155WWdVHTDwwDOe/F3BmGvKtXTG40YUJilqJhFEf/T+tXItx9Ly5BtpLkQRYlfYVERfeYAcVlDMC95cC5/BvJ1wWkV5xfjBb4BwVDxLJmXnlkABlE9O+vR7yFmMnLQVPjCHPiSHUD73kQEbHS2iVUkUabBost9mCYx6hIZJ3iZNFrX8EiTjO+V0QwcrLcebH9YrozQM61KEK1nGMGyYuctL8OwEPoxo7ETMZCwqqcimKeQj+4KrlPwXcJCk/zFvGwh6JzAX2g+dd0JuP89ST7dCcf2uyc2e4QRih86sMVkYJbGfZg05JIXEUgJIkDq5AOmVkBFgZuWJ4N52OSVs9L0xR12ZzwanLjSvmLXaRwFKqhkxkwIjk4LYE/Y8QYH9Nzn2Jy+u9QkHT+LO1R8VIRmRy0u3gPewIdX2mg4A58v7yjDyIBpIBwZLwJjip2xIW0u2lngq0+JyoGYcv418I4Q8i0bEo/wJbm+CvhhqdBgbPUIhR7CXf3DUq0G8L3fV1UbM5eR9l2UmhcPWeenwb4t0y4n2DX3Cbx6tTSUqCxNkayt/CVHK0V57RUpXyjSGUpDO6r9jMoOQpxoi2aq+t07LVW/Q6LMRYyghs2PaYBouHyNfwc51AAAGM0GaRTwhkymER/4iRvG9dw3MAycuz7JGfDasit7Tp5imgAFpwQTM+j15OWFgCE9OZI/PCu9zIjS2l1yyXUgJUxDXcIgVS1bpbDi6tvYOv1SnmVYtZlpZyPxsYYhJ868dpPeU8RFpszY9JMYo76nVNb7PnR9jTPgekycOeaOgC5OV5GFWSOMN7W9tXZVsgysbqMcgS0o8GgCUB7kY0+TykTbFex6hzxsYJsRGYeH/+nIV4QrVrPmpSv8XFDyfehtJs/oGqMfzLEbDW0E/IlyfnsNfSLf7yo8TlInExdiw7x9n4hAR4G/OIQJvppKlXo0Fj7UOB/ET7k48p9XQ/cbDkLsrzwfssqmhiQQyBDL2mpbBY5LT52787OOy8X1uPk2OD6bE1/eGMXlu9SDzBOfsUINTvkOPCq1AS4dh1f6OLGCizs1pwUd5v+JQvPqUQmpCVubLFLCofuQL7a8wEWiqaMOuv8vY3pVv/7xNP2l1irbTeWZExOcXIDSt8bHv4LTImuSdruJtuqNRdodADSHceQOX4dNLBQA6TmU7O1fREVxX/33Sfgcs+o2Wsw3mMJSsS8qzSLqGtqYWsgBAd/KOlZHISpTUj/jfNX0CuxlG5Sd1lYWsTKAfYpKsLKCO8Jl/5HjOUNF5z1IfIui2Vc37IBypg7HeE0MMCtRiZjceFLHBH+/e91IYSOje/an2MGVDsJ3OiHJb5ccmJ2Md4oUnk+nv6BTjy2v6v2ZjudHOZVuwz+QuB2Ah63xFgptRLoPj7+Sgba0TR+0c138bKOHqZLqTTnmHsABazwF26Xj1/e7L1yWf6OJZTNThwZDmA3tL/31R+Y0G7sl2i9Rn2/KFCn53B23dCVW/rto+FtTGUjYIYKJGG0rOxF1eYmO8BAh28sjalCPiyVijfGs9ipwdGVZ8ApYkAOaQGQNdI37SIqvRUyRKzziYeR6dJoeVk6bdyxPPwVAAYoskaRyL38zy55fnpXgp0i3if/AOfkhhS40JGxestFnv6IbWWvO5oXHCHustsvfS6h3t9/zmtqZWXfn3V3owa/Zg2fo/pO+ASclBFrq5H1b7O4yKGxzn36EX1X7OY0vJqV0TW5oYD6/CGBzS7JXWpcKXiaiGVdVvZA+3F6vSNvxQyciTIuW9lxhFrSYeNwTZABCXpAgjOLY/Ru7iXYPW8P7kIH0CSVHJj8ujYHyoYN30291BY8t5Qybe6oTmbKMmm5TQEZMeQBbWcLUSQSM9j14wFtsql6CoR8wvWf4IBY3ix1GSuwW7juZNTUtGj+XgrEqZAvuSkp3Aswknu3J6mlAzgkKkQnmOFzNBsOoxbKoWFUqkvoGwD+NYL53cIiXyWaExLdmLNO7+jwkoYRF82AhA//+D3Z37IpaInWoYmC1XV3SDj9f1v90ENZ9XAs05vQSIaX4Rl+5XbDxPrfEVzJ6p/tNVgvmnspyPa1Y8utgEfNzx5ITShL/t71IY+FzdDb+KEKNJywbomBA6pE7h3e9iEbrM86/OY2qrGWXjnDYo7P3cOs3/p+WZ5MSW50P69GzyqXqwMAca6jAQyg1oHzwCMPZsOuNt6k/LdYhouEpk1SQSZsVN7bd5IzbM/dCvKhIHSh88P2Ia2ZgNzf8sAFVqk9M8IorA2xJ/ELF30aXCzWqO05AKxaqeruoahm3ZtLxfZ4B/SqJL0Og1mRiPTj4mYQC+LmXSUxUu8lhbTpERY9OiC0b7kDgf0UxvBq/jCbyKtMH/sPffsROX0jJ7Ecu+FNdq/6VGEb1Xz7lvQDSoCMGnIq59YcpeTcVfZWK/KAn0563zqbVWjsvNgom9BWKgiKZy9CsvHoLpru6rGnmqUVokL21d+VvvzSh9YZUcQW46zVUq/FjdsCtmR6bRXHP3Rpg8h/YzFuJ1h8w8INSjzn9Y6Qy58OW2MyHXsHCK4pHqNxV4pAWr3tQFV0hzdl93HVEEWbpg5qxlEl0OjfFSlwd7YdLNwf40hmkRZRb3qZeDC3OpHp98P+17riLNw2ZC2qYOdfYWYKS4m0Q5bxxwyqVgaIx6NrZGDO3n+77wLNZv4QjBtptD5clxqtDB+YODxaG+AzDEz8XYl49ExxokZwFYkv3jvKq0FGMRBgAAAstBnmNqU8Z//A7aRqRbpeecWx8rUFVTCLt4VGPpBM0fH1sqOkigzx3WKZR8519EZ42PdEIy69rW0QVe2dgmPjlddPpTg4X8lSR42/pGyfPvOJCLfzUoBiHIRDJV+xYXqf9Iy8HaPhcvJr2pcJTzF67T4a96ecNOGeFBYPwXVVEvnA6OliopybiodJ2YJ/Oz0S8SC0Fkr0ya+p2nEfgyp7whx9uydalLBZlPs2S703EADTOWpTXKS9ELD07dwgdHQtByPTueviTo02P+ycm2l9s3fOee74qRZLdeqTfqMm+oBgeVS7v238dpznHpRhL9MvDTh2eKoRbIc44eDCsdZRp+hh9Auf7LxuEJR5krJzUA6Qu8tiRCMViUWoxSMVDzKbklPjnA0D6O3pudPlWomQyj6zLJin+fylBreLejcWghA/oDPM0tpdrwuvgR1opA2qEZ/4JqRSFA26lsrikY52Od5V2m5M4XY5ZWXIftZQzaYY5eRZqL8wOcPF4R/yrOcvPVMNncy6+Bf70WHGQ+wjlWYz9BX+JdZgDqO0XPZ+HQGp+zLikcV5BG6MbODu1lSGSjuX8igPl1WjfPAy6bzndeVIpwAT+eUw8F6mapbye/fEAGJ5VzXdB+G6EGEkh7VkGD+dEl+9ZuzPWdOfbeMCLtltsryVQPkKJXgIVM2BFXDEA4ZhXSi+DTE7or8Rpkqz1np5tlWcq8p7QGkW1C5OdVQPfOse3VskdYne1mKffSdED7+Gw1/W8cguzw2idR8i+SKIeQcKURjWfppkSiP8HHSiNl/fZgFxAaQiSvx62W+PMRFDKGTJcs1kimJXi99SiU7inT/AoJoZ2e3axI1/Tgy2/z8/Gmag7dT3chc5R7DAE0V8ERTDYcpVVIxAn4af/2tIX9V9LgazFHx0Fl0sSLT/wpSYDlNDwNmystErUev0jd7Wq4X1bUbUbhAAACOAGehGpHf/4HrMrALS3zTkdVcVDVDURj95/yyTebMfujf9+izHjRMwm5+s3AFkSFABBJlPL+lnyDAqzaEnnCqFnTq5jN+u9ypQNZ1Md7Rlg3AkyQQaAyGlsiwpAN+2kSSny+MinLAjDeRpn/4fzxdSvFdBsWP+v3bEPOlH6epueLU+vX27v3PvDtYOan4rIG3jQfZMOnrE2oKfmuySGGYGTT2CUr3TRD1uhPBkcuGjpnM7iAjgI3sFMFsroirlV2MOuTk0vSMLv/u+I9Mu2aKD8paXT70GLxWaczRRl0y6GHvmbxvdei7m1sMQRsDI/rwCY3oxbnSiTzlaHI5noI5iZ+GqVyzNvj1Rv9YOyY45wKsD2ZSixol9IAnw/0+CJYUEg2lD9S2n8G+80w3rJFk/pMBTEyU0yQx82qIg8M/CZX64TYLBza84qbrgU/HSz966u/MZjy6mDimr/UB3M3mAe6oLTxaAfAGQc5TxQbiMDE0cuoORRkphA3O7WqAPtUD2PvjqZwnhHJpf02YXM683vNrHkPZyEd98JxvYTvX70OdITdfNGQrTCeDJmHMxOGikB3oIIKXeql328DVTMlEzyey57kIQg/NDJxcN7LJ5MgQSwSqY2PMou+nftjHsW45nMoSDn+3VSW7wwJn4HNZWcwOKtr4g4Q3uBvFxp399DENxVtlM4OWwIdyx7i6FN+oM2NY9ySwxi3D/vEflQaBybm6gxYpwV3Y+R70K8/BCtpOqSwPaX2JMEAAAYYQZqHSahBaJlMFPX/+yzxiAfE4kbYx9rcgWKuhRWfvTbZBJahPBCvepr8YbbrCgDq55qwXyCnD19i0NUjDXXEg3l4Sytmo9VCnnIY9qETjpZVRLWOmc7GkDd61YN70IONZ6XdSNfkZVBpx2f1vY3rz8asccGTcuoBk1Kie5Pw1SFZnSPvZhenwXM26ZzVfIaOH1wByJ4Nztm+ImakzJqkmO6XxNmLnov9OKCZxGwCwfVGtKJghLHtHvwICBLYBZJcKqTPbYfKvJG5inV0sjlarOhSKXeybHPwKI9WITL5lnAEXx+LfyPXNEDALl5cUzhD0Go9Nbrfsdanq/kEM1lkKO6nW/i7vcMEVIKuPPokJMEs0W/TAIDAGOB+X3caIDq2GW0x5Lw/KsxS5ccMWdoPbDN/oWq3nyBU6j1fA3hxtfQWhmWx/prAnU2GLKcPJtAx6vMqCiVcQsQWB5vnpYGctSFRf98oigVW8Qa3ojiCWW33/3R7Mov/CipH1w6hxwA0wykhWxNhtga/QlCPtMqoI1I6H2eYVDaupNiuNGz38madLpEJCm/4xfgqJSIztKgeYqzNjvjpiY/RFhQl8uRNu4MVcfxWzDyaP4jeVg4F81J1Sr94+S7U/mGkTHcGO5DBsSv0wgqf+rw3fS12Ss/kWnSxdzmHjw54paxl2JeyPQ3EIqYYw++glO7+Sf8WNOiJUIjk06we5sFHk1Rwn7w04AKAMBMZpS1TCAyF69O8B86NelQcCjrWbwnAlU7VBrJ3xz5Q8IovCBV8kgARDe811EX8yhpbNjxIFjUD36hW/yg6qhHWqevh0xbUd98jf10ZtwrkTsHx7U5RM5jhDH/2oycaimfK+0RKpWjZE/Zj/gXPhakvFKWS80ZtxOJ520py8P0c7FVLA85q1annAuKr8gNSemuP/0jfPd9F4Ktm6vS5axE8AkS7k9VpCX9yWB3zQGJkK7GpMQoNQrREcj60tvoDiGEu/rFW1hX+SGUUuffdDQy5/szHncYtCZQo8G4wQE0VEgFa/QUeSTR9zcbN5Sg+ZESj0v/j3FCQY0DCXo0jNMFg5JPQceDp/FfrmiuXVmeWmZkTb3AYUtLkaOfLPO156ImljH3I+fPbNDnNGuwYvLWUh8UMotNX5G9zI8zi7PlRQLKXkjVOghvmogchXOuQ720ZsfmoEiBJhb5QDOiyX3afiDDrPVTJwuhA+BNkcAP1aEodzCwsPSBFL9p/9S8QgGyuQCGsK6vsgTtOdqObWp7ddlBCl5e2+efh13XEsWl9y0V1cNFgjwpmP1gjzvXsaZb3YxPut4eRXuPdH0rqzg/2vermA+D4dOfkKZCWn+xMfDN1I7LUYONUBQRPd7vtP1VbYONa1cvaoB9cUkpnWdpjRQT6Y/6OMzbVwoMLLJ/MuaCF3Y8/K7PFExqkWJe9TfZmBXKOwvBrlyYlBBZf9vjb8m0A6xtqUIftNAMxjRBMB//mcTa3zFyjKUfeFZUbxKbmSHVzseBykbCROCCCc8B8V00ATa9hUdz+a8vXBN++i0G25r2PxOyAVl0Ap86UZ6Xs4uzC1PlBDdF2Q41QwwIlYKYD35poHJbVFCHf2A4/o73gBYvItAK+3gpWOONowZ1gsdo7iqh7ht35KWcEY7yhPGJv9JohuaPTMEOEb4rWqfHC1cPfX2qaQbe2ot7+3EZA8EmxvQWLG4ueRufu3VHXkG79WvjOgeIsw2tfInRtEG0q6xo+K6rCoPHRhbwU8h8U+a5mNPCgcHE0B+Z1YUVVLRb70jr20GYDdfDfV3kU4S4HC/KeJZZpLMNX+qW30SH89/RKp/uTDavcNtz37PPulHG5nChUGJbd8zetWANtcyRqbZAgHHR7WHLwdoXahoDLmRtCwhBKujxhzsu10v9QCs4faeAA9JFFdYk5dGD7RslFuhL3iefLann4VumOXt1ck55CMYnyMtriEWxPk+X11TB2QumGvM2CkbVvbr7pF6Y7bwvy7fQxbws/6TrYe58hC/URGXw02nVhzu+whq1ZjJYQ/lDssYP5gQNIIdjXI99A6+6C6hL7/YQLCvlXrMMvEgUxAAACYAGepmpHf/x8lK/ER7s/L84WTVsABnPIFPYZPRE4Rfsf4kBvGAxCmxPvqosfmzWhGCErxl/CWNu8W2sVDVG5ucpAe42fWZcnPK7WKNior46fMpUXzK+UWV/qnH7Rsnx7r+rrPmh90NZdbiubjNmHo0MwvWHT9w0oCuCFf/DlNb5pALdHekLQXcft8HMiH94DgP9ohNrtaJ1UPaqXDCySl2XvBZZSY+K3tomChuD9vhpkDNGUMtYrWgbG8Zn0IXlb3dPiPm2afperXiEjLxtixEJ73GpZ9oKDP3HZ9B6FP2GPd89Klbmy4h3qdy+6ak0F2EVp9MgLQ5Ym7wEwcQ10DzzRRb/aYtdS5OnIj0TqZd0DtDX89/pfyUlt2FGSUqrCuSB2vXH49UYFCZRyfhKvY01HGLLTCSjVyexya8UXVHFsBbo90SwaZFLwaVX1dyeaXBxO3DjGOzYozCSELj1OnD6OwxwfR3wEG2TETOqHC/OnQ0jJdq6/e9SEO9UkgZWx7m/E5vaFX+qLzIihjSJLQ8xSEhfG1mNRDaSLOTDWbjKuLGobvmUi4W5pDKQdwRLCcY7YAhLZ0US7w2+NLmLhNXC3PIxyodiOrKvDqundKTHOL8EbZdXz0eg/jcKkHFNhiSEPp71KmWp2PueWq4oxQRAEqzNrQBgzEZD24j7Yx7dp7jaTVd3fmJWQvPrly8SZupgGk790GorsTP/7Ox2LLQ3Z7Cke4/JPrKu9G8HbdEO+0YVLc8MUOlaQURhJ7SWQovzvpFlwr4Qe5d+q5la3e8m4zmLUkz7f1CYfIl4U5c2BAAAECUGaqknhClJlMCM/zzgnydCwN4dtDPt6me3Pa8rwLsrJJ4qHY/+ifGYnD9Nw8/ClN1RyDTI6xD55nDHEVpvbRktQNI/SL//9mRWSnEJHz86zVzyzIgrWZIQeHoHzd7DjE8aSnOi3RdUCVuPNEdJ0ljs8E6Mb0aOA4/1kCnazk2YDUbl0NNyv7oESMYNIzU2V5E2rmPBg+f4c2baI6+mjdY7Ck6v6RGNultSlBviZqU+ndZ0BrJVnGkPhhM+p1iHd5DtUN/Io1l1wdejwPta9nm5IRFk6hgMKGLjeuWSmNX5ubNBl6aopY7vZSocwYkIs9gfUmEwInywhBV3wkoQtuiQ2LqLAo36hJW6ttSINhD1lY7N1x8I2N/4ivDpRNc+dckgFuivef53XCagx+mNN1ZQn4bum6yFk93zHl8AmLkF50QC8xaMITwSXxsFovYtJ0e6Ucanw5zJxVl88CzqcqijgIxeAfSFHZwABu46+dKTZOiZ+hGbwo79LuP+XKXtIrkG3USYI+R9zIOtzDxjEmSTJV1e9seFd6DFfEQ2je1vMjDhd13tU/p9Gj4/JkVTBjBAP5MNUEzrMbi9huRz86CIHksSo8cI+foZIwPy6vLMQejBXVRkq5CHtgUuyS8Uvic8v9F/8fsPL66Lei83sJfKSi+w1ZuoAl7/eEAWqrjv2h+EH9vohM0z5hY7fGhq1I4CcYyCPvSFOKwUT1meGWQGfPQ1Hp2mcmPodGXs9f5zdBX+C8L+5225H9bHmZUATzkBBbsw6SkWFXiJomYDYGJP5+I9vIYIBz9JX0RuDDRlgMnEPnw17ic7LwJgs/8I7r6h9xZck283asF6PfViVZ7HjSvd/Xfk+vqyzUBoIe78tA4MMFxS3ifWssm2kxWCC85Tl8n2zGXNHHatKzRuZS/p3jONN756g0DFniV5gEUDvKa6kuL3QIpaYIM4vcli9H8cdwYo+HMsjlRV8WLbp/xEVwFDNJlGheFnRMMLVTRlOBUnoLcVScVR5OI0RkzPf1TI1LILs9NXmX/zBS2AwA9R9xKxVYe5sU0+V+pt4HzMh/dsoOHJLtCrcxkokpDcyPQU2aD+hpGhirJvo5PWvDl5F0hHPii1TbB5LnTOENYiE5ILxeKsl1NAy96BzaToFWGv2//PjSd2h0vfI7W9VqZEzwKaEkoOY3rc2XcRs/WcPs+lW4O2VIioV6Ugp1yrN+7iNGlvYxX3liphUSVt8iuIKhGkFa+FIDYukZ27XhjKwYPZTXpHNT6Q8gW9hmUCBY7vmi5fxVqbIhVvnSeRK/ZbJO45y2QTh3sQluug4ZFdR96SBPPduyp5VcUsyOjxY4peSQo7GY9PMqd0KipqRwcAQUKQD4V+hIsAAAAJmQZ7IRTRM3/WWjSNXG/N5U2kZmxNF6UUlo/ERdQalrKrs2vBign4SwNdZuTIQvX8c63lN+Tk6FgHFSEeqC5Z6Lijp5bnlsUBy8O4+8Qnbupm9IyQPOgj3Ri+aka5gKprWScGB6fM0MNNIxeify7L6IN8QZ01wqg9qOycW4n5wAMHlI3s7IUYIVya15HsILUvJXjAqmQHI9r8J1ArrFTGFM14q+AEgK4BrEWzawqpfIrbseZKzv+gkI5qBSlloTbMPpYna64zo9Sxsmd+7oukHiTe+qfIN/CJkG5vsrgx0SOSukpfMVK484ceCqcW3rV7mMxfmIzFNM5fnJQxHlBSydIxgUJlcPwH29Z5VSLyf/CtUuGqV+9m8M4YM3lYgXckM0R1f+bpOl1LuPBHZ4Gct2BKTDpwPdDbUhxrw8woRtfj/YXBeifTYMvh6pfMo8uNX/Rp0MrQqeKfmr0HksizhRMfZ9I7KbKIg2cSTmWo5vkU+MhIll2XLGq061lgn4c65nozhqYw+/10TCP++GLymsvsntOrmhSEJ8qdYY9PbbdcvYOKcOqt1dtzgDRZBINfIBQA+zOLqGTELnNGw0SZenCd2U52jXOZpK8qBN2aNQTIxclx+sThBhHMKfjFd3JPsf4wfpgLybFoaQPT3C52+aF+9dZSw39rrSEi5z5QwHXfKv/FVwQTKnz/zplJqzpjKTHbOtWWsB5V4iZ8ZdnVGp66s+iTlgG7ZrbW6tAwrT1mapjn/yX3Qvf3nWO/vV+I/fhet2vz7jU2qIeHog0nrYw9DNr07BvST8aZSsO7YWSoSpxFwMWAAAAHQAZ7pakV/9q2ysQcK3OtXA708BsZgA24POyazXZ1Vmcq2lbg+6a3YeZZyw06cLGiIytJVUnmXqCXHgsacARmTavFIY1BAL8HWZ1k/pmmHXDqRg1ItEb7cvuhNDl19cvgpSjoEKbtmU2uve5NtRlzHHkCTSH6Hg448MTugmQxcUw3VNXzaVCNbEll58C6OBC1YDJDEA190gjVIZJHc8qiQG5T2FeApJLPIhx0JJ/nYnAAE49HWQSvqkhWTptunIp3X1+Y482hK5pVfGqpe6DfYQN91bdV5d61boXG/qtgpofUZi0aId3HJaUFFWYnhYCzKOWWB/mAL+/eXGgCtr4v3btIXH13tObw0R82hH3GQRkkA+VR4pLTfYjdkg2+uG+4n3gwyQRwLkOu9I4kqxFZgJO3Qlr5osCFGvLxs6iwPcAzQfrF5dYr58unZ7JvgmTVIyDxqQxXLYvYAJwj1njYC+pnAaRGSokYNFdQ/lI1Utogjt21bPIKX/Q6G8hiVe6xcOgH7x0dh32C2oGNsVNWckaoRu2T5ZbMTUTmIroQ86fGJ0TeG+gQwjbz67CtKZQhnlOZPWVfYP1FosH+vHaDEXF18TmJ9gAK1pXNKEdhoYk0AAAZGQZruSahBaJlMCK/+D/p90XE0aUqHqhlJWE4DvUxAjpHbrAlqYUgH157j21Ooc5Lzs4JRXNbmgAKet90zS2T5iPV7kUkpQHVYa3NghRHlnapAbBWohH/+MDQXwkytNKkCp553wkiruqdCXgIBvhExwRS34johx3GLLwNG0TmHvfZkY33rXY/PyUpHVHCvnsu9WbMV5Eax+Li0D+TIAJix/ln434aAF4zofcxAd3kVKraSh+dDfb4sc6T+PesLsP55beshNr6XWG6kRxw+4FazcKVuETeRP/5jigd+lO8y8Elx50a9r987n+zG7PMUo2SQDjnU/0hp2fQBhvSTQfCJQcvEJmK/QTHa7r6NZvyNSWuFKBVrKQwS1B9MKStW85fqoXri+a6cGxTdhox/YI9IWSh1FRzzacInnr05VcjNKxG3y+bBEpotlZ7FDOFkK9dcBNZY7roH0kB4ngrudHLQdegdhpH+tV5DkMK997VfWEoR9lNb5K7HpaS5ZH1zBA5TVvhjIM0xuuto+QWxFFjfZHdZtz9JLDoASoHaDgZ5YtP1D9IhiZHegFUIw4aA4HtzsWG4LFdjXpIXMUBjd/A8p2VTtwUiSDF+RO/9Tn2rkTS3IpzdTpqfN29f8WAq2iRAx47st3NUniefzn1FkCNE7SODjyYrbjiqpeu8LgRa2/raDRoPUSGKqylvq6fi/+ycu/BjgIs+5s4HuN2+s+pjzj4nD6JuRIPVYnucH6M4EifnGSxB0W7Dbmkr4i1iI0rrF5Xe0XqftJCqc9v5eFdyvdT+36kqLghS7B7cVnWckEnM5r99i2OZulHNy+FtZyEwtJTKUYs5g9xard/dVdmOqq1MBoVGmAp4Ca3JFX4ubKFV9otKlyP1BowDh2txwNO/IfBREKKIaKI+UGJuRXHkweMXUA69TYgzricpO0nIqN/jZT4r9MeqJlFVeOImKaPZNynSlfavbNXauX+Uud4De4O2TN7+GSwbZicD2lstE0/HBB+HM0ydbaEAJ/rxNo0DE3snAJ/8nGNywOP5pN7+23RoigI1g4kIxL92v+ARxqS4EUgPb8HSIurejEf/kaEFRpQE8UtsWwMOp7N7Sddy7fBiqw33sFskHmRgHhYOHVty/69kosxvhNaYpwRbn9DS4EEic5PE1Fvod6+P4yfs1ns0r7HIr9BrRHjKiG2/So1DHR9IYbneU8Sghd+R1nvvbGN0ACyS7+U0i1qwclIwBSIIu/yRS2k3tu3MTHCSZRaeQOAfeH+fZkjpTfBDxzlmL8NbEMDd4tK+IwErP8cjEZ4ZXGtdvhtm8vb2Vn/fSHCPmjepT5K8njpnNQes3tcE+Cfiqkhix2lVRdJIf1ul+EqiJRgx3ONytO/A3lLxn+flnk3DLeei5gQi/McB+JCA5tz0TAlx0m3qqOSfl51aL6+Phtmj8YrhQ5FKppCgjSNslgz54rqnWT+CqoahfqGItZjAh5ma9v1IuiopS96oI05Sa8HPCByX88x+/TwrUHhczpsdvHgqxGleZSjScRkItiq7KWdUkKU7w84WvkXDNyj0CaAYE3535ldwN4PN60+AtWwfdbrMmjA1Zbp9vj83o4/iPx9e+2jg/3J+e0YjgPY3sVD/ttKYwB0wL3V7tpsp5vae9sb7uyxmgBKdoiKbMaCdz49DV9qFm+9+gYKdrwKGEbY1tCf5LhTGvCVlyg8PLJoK+81x3v0nXKunkmK0gjue13PQEPAZc025u0hK0gBwZvJKNl/IRl7rU26OjN17xG8Wz2FP52ano7rJE5/a4eLP+IzomSpKJwSW1XKLy+P6Wq5sSGI+4/K1L5KwKbWD14BiU8l/pPmG/eCHowglsNqbcCn8R34Hj2mBSa360jmAnQLLSfEN5dn5iCg0MKbbzv4bLoObf+EEwnlsFdHDaK1ftJUOoWN7Ob+tscS4yH2W2sHp+hjeSEJGxDkZCwZKOdhosSChY4ych8JQLPbZ7C88Sf/P/b0VGMzgXAsLnlu7+gnoytZQfZkMVShQXVU2Dcc6k6lI9FrJRlDyid/a2FsOt5Jb5rxAkltUzDZPQiW2VMe4r7GPatadziBoLQZyw0BhifgBFrG7v+bpxv/9rIY+0lz/CrwaJnvtzEOTQXUgO0vCgAAAAyNBnwxFESxn92hjB/ixPwBb41xB9e4hUkqLxQP4P3bicLntwg87A6O94w2LhSI2nND7SHe5YOEQOVHTDl3Z9dTE3ISbIvfxbHXQr2uLkVn4ubljLHMNJtZ0KL/CILmF8k9i3rIhINtwkWqPjuuY+EUyrhN+gYKG/dyGSyEnUA3HSvH6C4aaPheaRh+tIMji/F11G5QC4IIUpnXS3I9oaoXZoWlDoJ8vI7P//XYYquR3Ig6GA2rCg7hSuu2iEYOCJrG0MGRlFnmwQ1Wpnm4dVBN4mVLj2Dgl2xraSE/KER4g7yZsr0+4ayh20KxoLnWKclH7+fh+8V2TuuPBAbavdUFct+IJUSkBUEhHTd5O//fgl/OaGogOhX7CIczkDQ6IQubcC2qHwvsTK4RfpVIV5b+MqYQNMdiNse5jXL8fhjkUW3xDEjFbp4gp9sEynL187Xumt+vmMNH//bGyxEiglcXrAoyHvvZoW10KQ8H9/4ALl8HL+PMcv8QDD8pvgndomNsp6RRlsSJ840usjngVspKN4j3TiQFSRnBfa3GD5todUHkNTHSy1gn1W+Q1XQSnoUP5/rJ3EIpsW1RUKZJYXB8bWFZKNbbcluaxChO2NJZMCJy+uQBh6t4pY8ICRv41D+J0lpBTcuq+FIWJ8+1bBwn8sVzetEmY9n4Uz5kZVuzhyUs26+/GCGcTuySEfI55cK+5UFushF8/nRiBV/9whrxZah8QiZz4kcJmh1OJmBSk0LKxy28lxZ1vOiBD6jRevO/Uuyjrhwn1eRvVyzq+l1fiA83j9Wz8i/xmmMmmKSR3t4ofBqloD6NEZ2PhjqAf2pVnO1ca3eCvsEQ9CbCxEWIIG6lpjwEc1V8EqHdyhHJ1U6lIZGuACSJ46vRuV6XzUi00ASNcm/wcbf/VY9WhYp/o0BcSrggwGWf/BD31NhkHZoPksfvBOObjZPb9YQ+vHW1R+T3/sh0MLbcMSOZBxiZonnp2d7+M6+uhzuFSw21K6hOF06Qk8PQhLKPRNevSY9vX/JWFccX/QzwPrMnproEpkrTPdKataWH251JwZBevo4Zg9gAAAiMBnyt0R3/+YnYmFdZIdOWNesi72fsOnXizBkEJpuA8hsC16jYVY0jYuy/PfzzmCzsfL29nInhQYiIHDttohQQ9ozjMMn5LxtO3v15CFkDpC5fG8PAYMgBt7Xsc8LbkJFIwBjstUYN4S9LVzugKf1hGwoWdd+9YV362C8c1phKm62wQP9eKn3zh07/yibk4LNVKclZBoRs7YkJsgkl4bwhJJ8V0ZlwsgAkDNaPDO0A6+i81emNLEvU2Amr+YFoFtLm2ivas37+oI+S/AGVaB/HdOFflxQozyYBFaV08z4uiPu9kELFBno9UXPVvojVjkEv5CAJI4Ypc6Sy0CooL6mCVeOSI+m86rToYncpW2wnH1FUKg6F1etBc3FLokUBQ5jb9vNsQm3506axDG7X2lZHZ/hR9kqGCk6fR+zOufIH9pr0JBnWBOAy65Gg/nFDoSD9p0HcR4XhdLOOO58/2dGLsMkbywBg2XMgNpRb1maGhs+o/NqTnh0JXsNPm4dPt5Sa4BQpdvPff68V8T3zAYuYB25PJboI14BLPtWSwVK/vPXcMFrH8+DUzerxDZrNE/hVvdCHrxM3PJr7YrPudFQRpllIUkxgQmGNVj9gE8w1NlKWy1gikUPHLkQldG9ujHY4RaObBt4syMNgkLrD8XNgm2OG4KJU64C21XblEow7OUsWvHvXRB8chYa/k0JaWa1yb64kxpOr5Y24NNjR83+c94ZVRAAACIAGfLWpHf/kBGAcuDgsvdK6Zm8vsJrNAZI8ZXGmV/0+Q41PojlMqLq9hu+SCb353aE6u051B1QUzCgvxyUgw6UJB/paANtsmbbjbGMCokf8VUkDGh8tgv7SNh9fE/htwEcUg2JKfSSZdhD9s0IPbzeUqLmjIr0E2oWRcZJ+pyB0dTk/pdmwW95VLeMKFG3qOGCV0TG6nInUomqQt9Pgbt+R+5OzbwOTXkEZaZBz2agFGWQGWyRT2adPe0hT9JQfqc/IExEBBSkEK6hFCK/VGptmF71Enpaoh2ZrO1g3Ub9CdApmVrnn9S6WpAx5iE6n95bRSu0KYIoJZqTTOsWuvupjM+r74s4vixtejkTnsbmSFQXjY3NiQrVO1M7O4cjGKu11Id8+gdBAukm37/EsoMChymty8FBGrYWeWhVMp83xpOlLpVQ14Um0FVwbQe2Gq5LBl5+8tXLDeHDa1HJ1+uOTJuN/YISOfIut9G5xq/9vucUGhwz0EmH1YCZo8H0Cw7HTb4AWMvyFchfVEgJW34kkD7ryKK0Mo0ufxpjZ0zoFpUtREHT5/1Eo0vVXZiW5QP3kejK0bF7ri5pehv96uPXhBGbLgaQGxsOPEbbkAXNxjKIvfriGTBFcV9lzjZewmGbwg0yjmZjTKss9zf9hSsJ35rH5AmNd/w1Gg5lZIVXaEAHqP5lasc0DCX9RVV6d673fLR0hc/0wPAg+GcmP/zYEAAAWiQZsySahBbJlMCK/7z2EpG7mt/ZPlsXuXQUsGH8NtrR4afQHlwmUBx+fDvq0sOelgo0U6nYyHXu1K9vEkuRdTh77pjMLRhu6P7MBlMhnLrNs20qCZGxUSocbipJSXtMtNXmZz562uhadRQaZ/CluMBMGdzwSE4D5WOVXA+8I0YirRroZfXVr87YNnnXkwwYM1ZeT94lw8ggSFYtpPeXd3zHSjMJCYdN8IXZLHiA2Q6bM/5FwKxWZX3BxrR09MtcsH8fbMiyYoYtj+OQ0KaocVmkup9WgPYUdpYCPv/ZPMDSGjE5KS20wUkS7XpPO7Om+5KmB29Pz8QmRI58kE+Skq9/6TkTvdh/ram2MEJH8IXLRO1VeqS4nm6tSAtydvn5PMvPjCiPI/lGQM07ulEmPNgz9hiI0T74MY7yKRqhxAsPry7Z8AH1r7P5nTBByaxtgqNF6I1n7+rMYnZ5PeLnkMybx1gVB6jYMqmpcM1cst7zw/zr2upflOKxceK8MdYxabRRMzOjW2GjwZ832rw8tK9VtyfIWG9eBX7UBSZ3d+eJHN4Zm7c30rFjVy7e1AMesUoYPGG9gR6nmNEWJsVkwnRHRVkKrQEuJnwyUbNlZ+jKn2ya8SF5UbwVFNSdUvGPWQiNclozNQFArNaZau9AQAwmssaMSzsSpR4i2sm3cBnOLwTmTxl2NivGnaGjkFO2/uTSLH/cllLsc93Z84rOuc1AgMtIHb/Y6fpulYyCFmZ+3yVVT/w6WsMlhDiwaGvBbA8om77/ooaBaX6PKRGcc13c3Kcm4ctW/L0N8K17Sk8zBHdO/XuDXXfUGAyAGCWg60+mEks0INOEGxJEN/dWOEY3qb8j6Cfbw9S/M6amK2XWbYJd7YI6QuZmf8JkGTcEXUYt6pWodEccI5cI9Q95bM5NPDxzUoRGrIR/LC3kmKRY3qJYSEqNLApWQ0Sv7B2OAzKk79qvKZ7PHJPwbEQUj6qc1y+OR3fUh5c/PSwaHrLRURNnri9NskIDAHbQy0Cf2G/Wnr4fpJdQ3/YM1rEQ7fABotZVprSlY5BsRWl5InivRVf/0KXm7a3S1UtgLBzzhILGuEyM2/Rl3+NpQPxi+3vRXtMXES2RALsfN/2yIoBSchaPhgH1FEpFCofRh2A+k+R7o6hAdeNkCVbM5VV98x6bB9VxHDrAtezUBYdZP1HhbIysQeqcQMNpmz2Pvz5b1fGNhSpmLHCTu+jPeoJXi8YhwwLzGjOTgOojoGwpqrrsjiraTyYQUOY81I5qINl1VlmuBuJlvKJZ/2Ru/8kKG0iWtkwNC09frS3f/camkPiOkCKerj22l776cLvU3+JaxUmZ6s1+XiO3cmZi3q5LtYn8+kZLnWulHU9I66K4GR2nPUMwDxH7NUDP1FAj0F+ZQFL2iruycWhS1NkBYGL3bkrj0BdwsfYITPAkBp4JpUeTAUpZPPXX05hr8stfoZkEZnxsIELLL5IK2tp5UaN8/gb0y/w+UX78cQaZUXqS3aGc2HjADgZ/Nl9geG9RRZJNcCPovTRy6ZGTHigFpZ2Z+KI7uo5x0JocdP8dJxwqbxd87fe3fPcV4OMoGbBwPtxXAivWByQ89o99PGESGRyG4SZix6/XHuWX1ogBkNpXKOdXxz2V8ib2gCSwLhcipvrGNJcNToQoqlEqFGO5biMQRE/0cwNV1vq4+NS852T8Hx22XiQwntcxdLzGorlzBMMO0dhAwgwEUMWVTgMbQ+hLbczKTO1luxypIt2k+ZCQg5bozBqSZ0FI9VAe4BgWJOI1/wNknLhl7hafQ1bIh4cNEn07egiwjHcGVv+NV+/ezu4XLQA8GwLOzNvNTjBjLOJzwS2k5ssEDXnFbyb8mnSsUkHQWtBijnI5Mp+79RVX14Q7q9ljcb+3Gsg2B+5xfjHmYYHdEAAAKXQZ9QRRUsV/2krk2SX/G0D7l6daL+8ZXq7sZZ8T0xm4OFlBkvERWiqOviKcFO6aavH6Z3JKdjwboYTdSsAhIYXYfPyauJr7bl7EuxLFzryKVMh8vIDtz1zhHDBUjonaLg4ZykIWT+dZ79ZH3Wh5f5rXt7Fht9SzhQ/MRId3BY9SHZ0+1Cwwwpy/CM2IrPl8z8mL3u3rgkHxnK2Uws94ARbfXgv91fcGr+AhpzRMcu+JZJWEdIM9sQIZpDpocUFLwgBxPCTNDOq0Mlh1u9kHYmO1qd76ZD+7zFVqIImsRMbPuaTW4pKDKUpfAL81m4mdmD5pOG8mD7s381Njdixr/lTMC86BtVZSWoadu7GBZJCdLqTxxhvV707C+C1KSNoygUsESyd5c9Jc9UAGPbgFyPLRwYvuEmcTPmvV8wg8dQoH30qTm+CBEf5K6+M4UZA3M9Ii8H0tYPnHDL+fSs8hXvytPRHM78oCyXQ7xDYaiLAnpR2uT3N+QqC1BlDVTA4jCuZHU8OjWKPiAS908poYRi/7LtxZh+o4FBxKXZDM0N/rGHRj9GXQxuKxbjnD3pF+STjBRenlOmUl0lvqMhpYAluQCClVEAHMSQFJ3+lp4/n3J30FDaLcZMra6FFmay63Yc32DndvyJoPSqSSKmypQDffhnnJdDec599He3CSBq2iEcY7LR65mfVH5aDC35lP4dXFUyMzPsHzoFnxGeuagzKzkjIbInA0F0C9AxNRIOX8TCZlxHc8l+cHkgG7TvS0E+EMa3FqGvRuUHhZD0Z/53YuXq2yZ2rXbxFlKSQI78mEpvJhgpzN+dqdSm7KiY5X2WeLIcW0SU0lI0wEdpslLVgv8C1qTsPgaHkG6gzbG28vsc/GaJ6lBgAAAB6wGfb3RGf/wJd3EjasSmzJQ+iCFqubhUKP+hmyzjrSPAIaNdLY/YiD7BVM8uVS4F/mPE6LeR+xO7u41zx1JtIORWhU8vnuBGA9U15SPju1x8Lmvw0HDTD+/+4DiYOJVRFnsCpzr1jQlH0p4UBHrEIw6YiA9RBA2Nx554yA6iQAZrVwu4ZNsJkQt+Hlf02rYkIQhQwwYv2tgIn3N4g/HCPyhs3d8NHVrlDCVThpZ+j+ksle5f6rYki9fur6ImTBPmtbpTQQqFbMNtsDVQy0mT7H7d1cTYa77EAa1xu3z/8Pu21OFSi9phw6H9B9FV1aWn72Fio3u+e87nsOP8qv6mst/+eAvJXPX7r1PlUeVwgD4pLYpUd8sTdRw1xaLhbZ+yBNnSQAJayoo8BqAMpih0ZnY6vW/4r9kla/DPqGevUUYQ97FKZsaoS6P+L+oQdmZjfjNYwqllC0K9HwW9UxEK5BRFrmwjZs4fp9DZe4RaS/WKOuoG0C141mP284uKM25rLdiyIs3g0uPQpdz1wHnZQT+KUbA69Jb8wLcbIfzKFER0DYp45I7aiCbCm4yX5Fl/mZ/Evml0cOWBtsBCOssoGBT9qu6pRCI6y4bzjGmUzoDVmcaxI803YnmcT/lCeDER4GbWjkNsyIunhUKLAAABfwGfcWpGf/4zCRBkrQiK3g+OUUqUpZEZcrois94yP/MbFZBwvBOCv9crACHddeaRspy4q7Pnegela8IaO9nLcVFq8f3qtWLx9TcTEFHo4Ggwbk2wdaULUEYRXu8/aVqXfOrdPu/qfJ2AEGtQDQNhjsQh9ANfI4o1i3DmMdk4xNirEGtN9wO8mGoJX+sOSbbex4E+1/qF3KfL83C8pwXOW5x0FsZ3n5PvQqiL615zjvRylJUDx9mkv1HHpuBaW3ZxgmRZ6kblY0N44pzJFnujSFyDGdU2itn45BPzsAt6zukNQbb+oghN3j0L7iKPJ9ak9V44oOVjgag3ZavC3H30K+ioSbtAPH8vLIrBEzp+g69/04ESAeB0r8XL6jd0KTpnUPexBFb7PNxLRB/PXHo+XzipD8Smyr6x/7ffAh9dxnxDRRuQDBI+WqFfCyvVHiilLJ+Nt7XJMYz2Ip8H8UpOBHgcYAUt9I+jqThCgBNZQURxylN/lA2Fi7ZeC+HlqeKDAAACbEGbdkmoQWyZTAiv5fVLRkoG5MQ8WcHMM07SSDh+kpOojGImyA1fkyQe5lEiXNyYQW4Fju+Q63oU9W4Lthl53mGlrfXPDTACFm+M/NSKwNrv+MeMpB73M1kaQbSP3YxLVrfo8nxq2cvr8qH+0cD899ACbiuDsOZ81JQiNeM8xteCmBTB3IjpIxNqjH66OyDgoQa2Ji+SIrn1kWUub8xbEfCyE0yfxFDIFBQ1BMywjPkmW6/dpQaRZSovOjHPHZ7oClan7r3Uu04UD8u6s+Z6ihd994e1i3i6LH4jJFAvUSg2EPEEVm8iOMidA71XxoKLyDgQgoMDDX9tW9EIFKzFGL8ok0jiPw0AhWfkoBOCGs8yaoHeRzlOTsQM942JZX6X/HS3FEBbQNyyjhB4yCOMOQImHF3B+VV0rdxuCVL7mEKjrfhLuH/P0brULOfp3qNRnlBSmeR/JM/LI8e+vYGBBnLRxLXJcqdoHha7jcXJYjebVjj5HZRVTy2rKpOskViRtKQYhzgKY37ZvpgVdZbzkqi0uC98+CG96zIQZv1ZmJOM20yyr/9wDZDg9PLmB//iPV4lc+a0D34sjzq+KK4QZ6YM7GPhWGsJ/yA/q/c+24Kl1epAqxaNE+ygwAi7sjNAdGQk98nnvD+0NIQwermda43vtvjLRNXP8byqyXU70EUI3IBQirN6Az6YI7e08uyv70itOxPLU6WUPKUgdBoLJIYNw2808xzgTpBczD96qxms69iqXGukUJbHPxfUgO0CBXDOy3IMbbEp+3ovcrP452ezr2Mf+sA2OrUQiRzYPM7bcG7/3k7SCaZuAPbsAAABrkGflEUVLGf8EOf5Y07i3u/AGjbJJYIFGB7OL39xphiptM89fzBtYELOxB8g0VQ94aYvZoyizGHvmSU21BapGCEIhoT4PIvwZZTEeC3tZiRmrvw9sjBryiayWgvFlKkjHnjwf3F1JNuIU6zcJPheiR1fIK/M/q1MsdYQTkN1ssPa/Fj6GeGb4AvQkZ1Fx5GKJ8cE/zGLgcRyo/G8xscxlovZ3mtyz9V17M4JvJU7qXq56rBVoO86yajb5I0iyJegqgSGZmd9+HWYicnjw0k4u2oyIfy9zUs5O+Eg2u1Ei1GTKw9LHy/iVDz54LxAK3wGej7zkhCaKv+IM/WgR2pya80bXAjLfHoF5AGK0Aq+bl1b0ck6Z0Q9zlLY5nYR79S+Vtk0PE7X4pWArI8MRnHSzxyErZQrTA+DBbMgDVeCOA5PwWQ/rSd793vDI5N8RrW4JJCo0+3A9XonSjdNm78xBomyPWpaKnguNbkCzXUCWckoD+QYNzU2V5E2XhXC+8TKjrIaVc2E+7tOW4BytWx4lQpi9PUFtHJZG+1Dq0TFbSujPRYTJHbawPoAglTTfiIAAAEyAZ+zdEZ//A1DscmBJ9CKb+6xdP7CwtjdCzjks77S/uPXODU/KmM2zByhdIAzpHEbz++2RT9P6PRmNs9IhRhwOanriipaorGNmborTAIsiBjtrLgivjFJgs3klL05fwfVPs71AI2K8EXj9uXqOBn9qKEF8SpnzuiJOjapanZZcJ5Ps0QLvAJN91Pw6CbkBJi3bAUt9EA29Y0bbuaWkVSy6jVWEiMtcqCLP8f9YdUVi4UDwjyjsVY8CldosL96uwpnNf37wxqDc3onKQZRBwDj8nHvT+TMtgN/vcftS4CQeVBqKp6MSyHacyewlEkbpB//YaKAaVZgF61mp7rsEo/6rGCn+/rGOOfvRKwI1XgtYhtzd6zFLMqbs85+jIuOo9EDW24/KKo6z97rcphuyF3Yh6JBAAABGQGftWpGf/wOPFc0Cym1wC5uNOTeDUdkAtz1+m4EqTHnX6zNKZv4glRPOdO+WB+xqxj1Usf1UYpwsWakv5P4q4NsFzOFVTnTdFjZQ+fqomJauvDKB8sKswh5kiCK108FDKrT8FmqrXhm57Ht3xiXt44IbTk64k77o1TFFfl+VeApgW297kslFNF3gFwa98znddc2w388rP6aYj7stz/klVh+HzyLASdxASOJBYme9brGcvMHBXCqrHO4K84mZgxsbTqpC42kGwEniXha0THEZPA/zN6AvMTwq6/oKyfJK/DRi7SEOk+9/Mrhfw/hfYTvKM6rdCtDuOI4FiUywfhYyafbC7x4L+fhDB1RSGoZk2jaLSiVgr0DuL7gAAAGOUGbukmoQWyZTAr//kz8ZRaA//vFlDC7Mv0Vxn4UstNL4OS7deCUfjqbuA36eG+c1+JC9gG7si4+LF/eXVFW7VPmKFHV56v3jhk/mAElGqmKPalSer6JHjACdkMQHAa2pKXLeX0iWUsyxDwGP2g8IyqnyL1hzvd0xR/YVVIXjP3H7Ty8NXvF1mKG6dIuDcbGWGVtf0j+EWK16BA6txakajlvGSdWW19Lf7sWvQBWnT4dyYkEmgwwzUN9JrCXLnf+/rcRCrpN9aUVH76LRbEvto31BLPqIwjNnYw6uzHWwaSJ/nOyPCpQWT1Cy5S0DJqsagxMoPwhcv09QVUkQpzciO6Zcl93FcfLrKufJJ0dii6BYnnJvw+MBkF4aFkCQGuFnZupG5wRlbr2CebPyLPs2/qbMOHP+rW9XgPlmdzh/fTFmnP3zNylw6wc+BRf2ovuhrh6H9I+zE978AYG2tTQHPD5M4kSq7fT0W9/gJCUm4lrZLB0mWE7SIDy5BF9qW8z1gcHWp0O5xN0C52vvI/PmUYnUCUT/fWK3Ffi30WAqDs8Z42V82+L50EAZvVYWNTzFC1pJG43N1gdp/GBgTME8hsCedLImCxnm40oakZQwQ4Av91atSFXQB131hK0W3nkNfQyy0sBsUrRawOLIrLgqBZp17vDlUdiIqTpJYwhevRbsI0iSO/iCGyHIO/bJjH2pT3+oShSPSImtw1jD+kYQjBZT+VJCIcxBlKDxUp5VNo9RyYMap0gcj/cw2llQgbQBaYyVsUteBxBvrCw6CE4ul3LMu2alpgi8pP2jFeQE2ooTBD0cecpvx0q5+BOL1oQ5s9gOihLaGc907EoByHOIu0ZBBZ4GymrG9r6yrLSVew0VJk1q/NIFWY2uz9sB514LyHOH3enMdR54cdenMKtBjsEZyJS+xTyBd8oN/ZB6N3EHPp81vV+EjOEepItX9xPED8sPNVwM0St57xqKH5COS6xEGhqFkzgHxnmy3lr/Dz9fY79FvtmOOA4HofcCJWS7CPT4JsPgiogXwepncvmDscwKCQARJbIrkNB6SHJ93xFEiUd9vEN5Tzxn8J8CuXdxxJeKk8Pe3ZixEfPJF2fikMxh5pIERAvvTkgJvhk+OudpkQdrmmy5AzW16wSKOylL7/qn0h0pspQj9AiekXv+Qr6hWO+QkIxB//cHq3YWLgY2EkvPWDQt+Eqm4rdagOGofKKIrj6P2tI6k+bmnzYghJH9sb+LjUxZGnaPawK0gHaReNxkWD4ymU3mgxvG+37rsXx5A/Lj5U4Pc/9mX4+h/JotivGJX6zrYNgw9fM2DqRbrL53HhCTiJDNyoefzp/+VTut7EP0CPD434A8vvO4fUH8ypL2Apza5Cgc2/p/d3AGpDitErR4z9zsELQQYqdZglB7p06zN+hlYQROJKq3WoEq2zRbxwsEU/tM9lt5fHQ+2Ijpz09p2Ewq8QH5TZo8/h3BidiWjO21sDOVJGPyULlSb/jVtQhX1q10TfzQNGU9vJQ0qzk152FVGyr6o8CnR4nxlKG97N9xmdpXKKpcxI5D0WVRx47KDPFLd9n6qDcRDMJiuwgjqHKbp3TFVHvg6ogE2166eZfTsfd0L34pvIwpWAeooftyjGJsNLjAoICvADmP7HISlpPbeHXmgmCquQM93MjIECqqj/P/92jfeprUq+9T4U4mJcmsgVSD9AY8/zCe9afbJgzrrjLu9RfRMQODOS4MiZ4MNdC1qRahM4LAzykpVr4iQKZ5yg3WMS5E2gDHpXwiOqPLZMEthg872sBMmnEXdQVYlJe85H/KOH2fk2x/umcnS67E/+Usj6DLdqURSKBJvhbBam7ctYZTP5iit82xhf6jK8tsx8LQWDyFQKlOiTN1wbemFN39v/6r12WSB8YXBvE56m/4l3sZTBr0hkRlKeZDbhR+FRstArRAMVi2OB916ql+DFBu9Epy3eUebOqXDv0Mbt/nHmPjtfz1hRm4iIc2zFmE5V0xqj/iGt/mleupmmqYRit2Xmi7Nw6xH4/atWtWDjKpgLSwAsNbZvGeLSBdkMe35mIp1iBrocG1X0TkRpMqetVp5oiFB34zYLQzEJ+mF1O23yil96PouwFBdnr8QAAArNBn9hFFS1//QR2pDmBZHtylNgQ5fFTRmMBf0cItmgb8l39oCDMppd715CFj4UExgYBcuxy5057+lq1LA2+i3YBLDMPk7qvGf5QYZxaLKkVOpTVrm0LjYmDJpB+kwT5w+QeEcW+hzirHRK1Lk9552fNH/ulBjs2dfosUgkkPhO+KNBGf9D2WoZKKcZIHsgc3fDwpPdfVRGka1yPZEcOHtBIVlKZtU4V7163cy1ZqiA1MqKyDr77gDoCCEAG/ha132sqM4rhKsgX+NANZS8u9fqjcC1OzzXyGhMYoknvvIa3H6AhK6u9IY0h6NcFjGifUFEDUKLAhEyEjj6vSd+rGUnfd6C6oenC+ssuIXCNRzC/Yv1+xoByilIyyu9r5esx6OpoujLSI4jOihHz/0e65osZDTVRO+Il9SAJxGIVadtlF+XXJ/sQstAd8BH1lMDzKUS+RQ4Lv4N962ctIX8e33IzxK9bt0CNsNRItMNfh1n8mMVD4XcNlAlg3tljHNwqkw0GN6PkgxEplIQqeoI/Ts5ofZpH0lCQEKJaZYznRP43xC77eKuZBu0rHgBu8f6EeWfCce8nA7z1P5T0AiV6uBFiAjK7OzPtYQESPEXMPE/MGQr713kMlCm+BguyolOJftCJhTXgVxCtebn/RDvc8wgHnxrNpPS2bp4CfJ3aCiCI22ig2gT1tQHdrzlaNDPZj/FTT3fguOhAk+cPSat4BULTylrAQNQGObgLLPfExMfMlAEG+u1E5r0hgepBW5HGb/Bldlc48y2IZhx7kxD8Xe4CZt/QmKHuhcNxXmxBaJjind3ZWzm3eUovrcdI4tc0UrHK52hGCc+9zzzVRzCWuy7tJ3MbZpxRyRi3wyYW9UW5Md2B5fcWBHBVX86gIujYYGcKA/EAP5EojjIUURHNGNQswxQ1AAABmAGf93RGf/wCc3YGocBN/6idRnW6YzIoX1hA1IEj1iCorkFVg8aEjpcxS9bl/nLv+TXOwCk5rrfKqdeIP+221osXtFpPzBSyH5rGc6KWyd6Vo2OkHakK6HNncd6JXy937cxPTkJQCxecSNUw0GOPM4DIKv0nDagm15di5WPWqGnqOjfELKo3tEIxVFmQ1tjjuBpx4qwb5LUhrz1Fhu+uH9pQy71WRed1G0ZJnPOho2hTVcKnaIpS0s9YgSuNCRa4952VHWcR9Nuwh7zfYN96QEVI6UVGtC+gJAODO0UmQnMP84aRCmzMNGhQzpZnknwwTK2hw8v5D3FsOUF43oWFSZjVcYul2GsyuTZ3/7auHs61fHQXdR2wp8T6f5VTlZXScCSO7vHww/0PqCr8MMHWCBI5hQ+ytpg5S1qvqxQZV3x8JpaHCWa3heWwC0mln/lgeV978YIdk4A9gK8SgJTb/ylTk2ylSTBV7kxRMVT/PUnij16269mSiZYYhxWddRWIfuSJdX4VXbF5OYMjQsEYWBA25fxCxWa5vQAAAp0Bn/lqV/0EvewZ/8p+WggejOp+S4/023hzrKkqDw6dV7B9dPDRs6hK9Y78gsMZDprFiPnXg+AwAUy1V4WJOgWT7rh39WbTpkHgDwGgdfArJw8T8Qr71dBkGdpyRlDS48jnAXqU8RhneSYSPpR56AdlvZFnRYWNkgL1z5R2gOSrgGmlTjXJM3YDTY9NWBocHotzFssG0Kkz+qMHX60Kobx9ss40PADggQJAuxtETBZ/fWQyqyNGb6nkAqLKN8ua3wNasutXt0kMtdLsr29FK4W05lF7zVRmrX0x24XJ8ycIe0APMFlW989ZFRbg919lxyOFGyPS23E8CJPqykUBix3Ze0oNGxavuOm5kTQdfH+xasZlAqoLCwfbS6Rvt/0jKlTMDQKYm2aBP5CZCoxa69eAHY4sDYb8nX+BpFDEeMbP6jFNf6eEiDXCCS9FcYnfVyVK8uqpbwENmyz7ppuLzfFP8Q/cM2QN9q3m4T7arZIe/TSD9yb135hMziGeAA4VjWfFDDUuM1YHxMIDAF1uKzKka5QSQ5V4pQSOjl/d3y5A7y7JBRXRxtDrUkNc0GWR2NrltghCvnGD2BwPsP/9cX3nnuirUDhhq4iMy2yibXnLHkeq588Ttrai1N1MkxpMGbpo+bgDmxbw0uCxcF6SUvD/y7FG9Gj32mj6SHFnid+DFj6OyR6DHgl1TBO6v+kWNdOc6nNmn7AfbVl5hNesdQYG+i79FJw5THvcnTWMVNLZ2XA49oKJbMPXdEIcgMAfA82DGFxgRYAm5MJsMYRY1oSiUMQDgdGHldclm2YhVP0DM3bDtVjaBSyzAcqHsYx811DSJx9QOxnJHfutwpm8lgu2AuqLeu4QP5LLBA+wcJOKAAmRPsu5rXSWV1WEJOEAAAaCQZv+SahBbJlMCK/+DMYPFRhwYyIAGMummFkS+14K/5rPOy4Gbmn9ShymhHsR71fq0M9J9caS/ZTkXbL/eMNWutYZ7E8ZX6y3lrFHXNeM3N8s7uttQBYZI+v2ZUQNIal2w48VzG9PwLOcr4jS9l3YAdtLvOU5tTMvSeHy4qQndtHZa84ZnsgSdEj7+r+jcsM0HD295Dn5wP1etcynYSVu4bdjida9yYZU5I+deRnFajpVGg4p+7MhEtYuR0GN7iBQNU/j/cV1rSnd6cPp5Mm3g7Lr30E87QLVwmg9DJf0VpjnYQMbd3PsXPJI7PwXt82gqhC1ByS20gPXZZMs9GYg1IyuHTDjS2kUuK6R09LLZ+WqLPQZ6THlNoOGEEh9deAgTtEq16Rpv+8i84EHGOgkj1Mx/N+qGmjcapmYk/uiUxYlKGKUXg3Cx/CVYxf/8nP8BpNe39ZbA4kKwOcGexWXTvVC43810O5yNSXASTaDdvbfn3jGw9CJ3ukwbTqyffgSR6oL9zNraplQtk+1XXJSsqFrpMpQMwEidZA6dejkwFpsy3Tzvd8QQZkUkwayT8pztL1bt/isFLsiLmpbqyxXwczZsNVCUKC4o5qkWuKMQ4AHI2y1rB7upFAh4u0tYLkd6ZGEFe5dnT4wwYxP0MpmP8zxvTg1Fa3Hu5aeb6gRvP05mlXpD+w2DCKQQU3/sn04WbQ8SymXQrqY81mmBiJUpuAAlPw+3iezcmSZpP/7dc0kPzGxUFboIvFTv0IIng8nPel31+mU5shHXygq+AAip7DuaYIBK0gdilPOt5spwsDoNLK8vk8h0mb5n2F+17ggejqTVDg2eS1tItDrZwMS8jPlwg9FMzDUEynLidlIsounAxRw98iZoOdmV8hnHgn5DSl6ST9UcODmeJzAaxZez6J8vsFX+q6+6fxguUgmXt1GbK/OspfMYP7r7UHY20L8Uukwt4HxU6y7GnOyD8Isanl66fStLU2aqaKa+a5/OLiHoiBfKy1PBDT62z4L8I3varBEa8eL3GB5oGci1338umnS4qE9ndG0RxfQra73qOLgW0m1uLSUUKiny3xWSb/E4kbDyzGFb7TLd+gIcC6FEfek+GK4fsDw7hoNQIJIpNGi0WSPSmDbICv5PdDjx8RQ0+aOS+ZDDQ8eQliBCmTlPT3DIAaTDB9KlE3VK8vTiaYmxjVzAMkqAASeRT6dURxIBmTyRPSeDr56faEN/44he/bl2LZ2+gslnDUZdGnuBjHjk8G8j3ZogqpYFYIaSUGTBaijvDDWmcQ0ZogwjBGHgUAxMGwKHp64WE6G+AeGgknfKKYnPb8F2RDZqo68qEXpAWww1xDCOfmLkLJTWGcsgwfxO29ZkhzCDKYmXfmzbN36GnN+lJOfuA2HexN4hdBGbfPf2R6mYdd3nsGMvx/s1LIrn9JrZbr8rJaDd0KWkKM+KH+4mCuzCg5paB6Mqqk0HkNopEErFNHh1CBuR1EhWdALJNwZITVH3gCMgLIt6OarkF7L/kle84wnNx2OpPbYiBKFgTT9fLwHDzmF+vgZKiUkNQDadUmKKF3qndoGqrEk/rVzWG6c7wCPD+HXaNEb3t1JzuwHQwHSa41uudWVMFueTXhI6Du7iOWjO1PiUIagzoJTGmIZysDhk6N4Hwu0JJi1zpj5SvSf/OHcbR3iG0ctW7mwN+bPWgsOG0NTkqDFf3gpC/IOSLfjVkWijui3NcOrtTvy1ZlidP4qCz8gVqdBmBFxQKy3KTgpyKqWLVommjbzBMVDVyve3YfSK/XG7ByyzSCk4Q9Cuc+6FT4YCPiTBh5sEpDebmTsD3rNmeGIIfU3+byHepWrzqGHoMLlJh+u1n+FEOpiJnkrabeQbEcQqT3yhJfJO5iA8eJnjSitGnt/YcINpBKR2mHyZ48WrefODdkSbD5srGy1kXLutNRlVfv3NkUrIqijilAsf0izmABrcgrsPQRD2S4R2kz94Nv3GqtPh4DWuuachs4xzad55mbo4Yf2R1H0vJf+nGvcw7Kur+dwv2sSjVSe0pCDJHbRf5+wjr362/q12xMbyNhip7vI1f+b0fQztRCrp9glKOxR4+SDD9kBQ9s5qHvLnNJl8h9LLtIYuCozuXuLHjiZ1gwae3d3Pgr6KFlmPb7/61LSUiTGdImZy8ugCwmZD9wveqtJTLse7u0MZeQOQjb0KC0ZHcSi6aYsMWpkM8AaDQAABEFBnhxFFSxX/c5G67n2A4WOEe0CN7r7kCac+VyO17xGjeWskZxNHD05bCCcIxDqjxsCvLecsUQGdc+NJ5GDsm6NWB82dFZRI4EByZKXQg4VAKmjdissupO1Jixt7HxkmFMKwJhtcdEzUIvDNgmDWC+FVA6I7hcAs5KLkcnMahNMViMYSNYtttU/GJYSkEtu+SsO15csAK0xLeTCKEApGKdre1MnNsTBLq+fioUmPr76FubkuclWRzD0nFW01CarbI7SwJE9Q5Xl9qjkEiFobG0qUqnk4lXSlrZWsdGQICBCfyCNKPnl/N8wIb9kb/LtHhPMzBHC0JUxQ7VpdLBYB/turQb9GLwl1m6T+EE0hKSpggTtvfhWQEHIZiEvmcaitYTYW0RRDiM/V68NI62igz5NKLF7mhht/a6syCS6JLZ6OviM+b3YXy3azTx86vibjSapIpaCUB9R+zfUnCnmGG88hfvdRKIhh0LZFcS/T4teK4LxeAALs+LAS6NrD3op/BZ0vVM3E7JWiDvwlyQAq/ySIqiJVidk8Jx4VQD5Zg98is/0JS1Dxw23iS6iZ9HjOOEqIOPvpNu44mqQF+/pA96neL9nY9928Uv+3j9BV7TJ+I2HoRfJpbiWVwR5fyHz4HgF+P8r1TEZ2UJFZoopRusRDR1DF0xKTvahSiMkffuWqEZo8nAoGm7Fo4FE63gSYt+lhTVPRfekS0XSb4GrKHsy4QXQ4qqWW76Aq7xpW72R0chmjhUiZ9X+RrL7qn6BlAcyJ3NYIxjv1dWd9pezDZMLRFhX7qLih4+jlrCmvgHSGHtzWP1cHYWFljQkI2fM0HYlgfU/V3YfcP1xmnLmFpB07xpAWAw/Bi38vI8jF2cL240AREouw4KkdWQvtEjclJbKz3eiO++T9iJKgKE4zQ2z1TRLTdig1nxYGEOvt6lv4e7NOpAE6z7tIj0L3jCDI+GhT2cs8AEyJqPZv5nPR1ZDlJLC9JcniJn2lQzgilM/OAyfQTMqYprSVNimmjrRRMJtuUWrBsY2HtrBSzRCFbAFsUOCfjINJm8FmcAzpPDYSjB9AI1TEt6vRmb8tr1yG0BhR4Y8y6AwNBR9Eyucvp8KYXVgKzu3SQ7AGF1KHH7h9lprveR7rnhOUADcWX8J2mqTcgCS+G7+ye5vpBwRNvlXeHOphDeJt3wYwszDLSvii9ga2oRetDIH2rO9DYtHvXUG/yUhhDoAG7qBc3/VCCgAw1vmDLeZVasTG5CGIBL4dM4m/P5nzIpEhuwM14Rrq4xJGjR6QSKP+qVBWidqaNRk0PKzNDw2yPVsG4Z5CrSQWfLDoZwmqETSHbPtx2X1VnbBSnkzrE5oYf6zn51HtkXWN1LIghS+ttRAn9P9yRiDNv4Zj7s0O1eElu9uNWfjEesz4p6mFXyjcajEcORiBo7tTniG6gdj2nodvKles8TYAXEAAALcAZ47dER/6+QsipPQZExVaSH9yEFmpNNc5X8TcHy0+ijjWFApeUD9TyAXSf951lXxzPp4SsRKfOyPhNn8LpnRHPb/qtWiQVF2mN9kHTKMFhSWqI6Uq49cdFNh+2GYsldtdwDPTmj0kfNNPIMG8EOUnPpVf0kWG1bUeediC2gNF95Pnu7LXBSCbC27Vt2LPqpvqFc7p7OELVeI1HkzLkrTgeVNwZ4OaoWuAlg7bTx2TFfVOvmonq2n5SHD4x4kK74kkGcDhNP9Lc3XISAehQR6oCedoLI4Cdr3UVzgrX9BjQmwvXnsv05Sb8j8Lc6mgSgLJA4awu3mvcu7MQNSuPTGbbBhFHRC4zFcv8kP6h7YPsZ2+6ahYlOWiDixk4DTLTPHcOzQ7B0KIZKICT/2z7lP/sY3cXgZymlgAh24CtQYnbgQ7SQxcNLVStNgWw8/vG/3iXFoC9KY6r7Ds4eFMx+gXqy0G5SI9kZF9E/7Zu7Gzwd/WzE0wXbc2Qtfc55ajE4F1RKBRetegt2ET25CQsuNSTxKWvepdlitu76p1XdJyZojX1iCoFdeZOdIw/a5mMl8UM7kY8lppEZsb1TvrtctRIcW3BF2RZ0bpOMrVq9hr4wKRsLxLGrIKuFYJG/TxOg9l0TYk/vBrY1rfwLpPxkCVJpljGw5R0s/rXan1sICjRvrSZ7lC1EdwJrsPQfx7rdcsxoz76sGhjm/wRn2UgpnyvFg97iyjzIAv0UNQ3642eKP+XD2yKYoeCeTmbjgC1SXapumdukIAhIujpXxl+Y+9jiG3/416can8Jv9in6zYzZgu8bQDHG9Ke00IgDAUPo57QOxpkaK5f/VS8h3zMKn5yaUNfWHr9qrd6ndM4W+eALwTstkXd3dPlUrvythfcuHnXbEx00ll9AdaF4OEzjjDpf6LOpqHZZ0ocK4RhB8nVj2AlOkrpvmarTstSq3ivK1NzszoOD3OHTlzMJBAAACcgGePWpGf+/7B7/DT3ZFTon7cORFCBypxdaitH/ffBBIpv+PJNx3lgg2VQe242A3n5R7JaNNORmD1gcbK/0ORYSBC50PJLh/EjR6UeX9cRfDTRCBlbuLLJTznFtTNH4/q82QbZjEpYb8XCMEDbZGXm7dTV/rQ31GIuZcK2UbYqwC2A7joTl7SFjniicOa3DQLJmmtVKhAPA0inIBejAN41/QCaoQA1megouRM0dwYd3ptp6diFZPb4eiHc6PpqbHuhZfTlzCAj6v1uLNnDOEgOFwKioFumfDz1QVElQ7EXQGzgf3qW7FtC8TUICKQruQ9h3fsUQP9ydAzbDP024D3wZXEbWLJNtW0zqKSCQNdiozP8+Jp/pgNbO9LSgF1llxCKxzfNN5jOGcivnW4DD7sA5mQExu6PlW+NGTxj3pCSi68hgntvRTxPDRBU7HI6jrZInoqoT5PUNhoU/YjP9dFpIoNEFvLwB0xyujkXqLgrsEgLduEHqEIstNJ2LWfoVwFGogi2a++34AwRCa3CMqQYsmFCWD6SecuGbB8R9gP6FIXEroPcX65B8F/+YWd9N2M02GnocYIsSN4Vh5zQ8ozrNPUu5IwoW0lJkR6AFpwOBE2kklf5tAP+OsO9Mw0AMM/oXtuTRklLh4ulQWR8gGjxWJfnGxbTu2Xv0EWxSIs4n6oW+D4/Fki6amS6gKEL+J9e3jDJO42BO6azYl5f7WUnfUiXTXITNixgZjMpZl2FGGjDxMvKD+igkcZ/jx9fdms2z32dkS64e6W7Jsdf90Di+1T0g2/jxiRZLM3yeXmZVZK2+kiZKbgqu2JxzUR7TxmvSFAAAFHkGaP0moQWyZTAm/7jjBs2eQ5wc2G9WXxrysXYVFI8JepN2ddulOyjCLcOUpcJiiqTXtcYAVv7mwVcdW2u+9DBG15ofl9U5JOqS6Z0RvBqqg/jSjgH3zVLSqbccMh9fYE4+/KtVnRw1a1JjGz1J54+ma+QvZIicVm7aFwqc3R8Dh7bLDUdv5quenwbSe7mZxqsO8bhnEDqPulHbK/6ejRKqso5WqdsZ2IfhYmU47aZwEofGkdA8s93FIFvPgwqkcuz7/ukPGL4dcuMds06QyJ9c40ErQ3QxlwbiG7A6INiZru1WVhHuDpwpmqVOlHEgLYOd+TDSh9SFndFcQv/2VASLnMY+Y0quaf1UJ8YU5svEPVzss0fg1OBeUlzuWqq/L1i5/wC47bbpcdidXmq052FhxJ+lplnET/oCZjgdFZWU54crrgZLZp0Gwm5Z/5WzyejjJfB41HJLO1HlI7+n36niGJqeMpL49CDbMYBZwQwIa09YS/R3UEFT11j5x3Qt6gIrM4RPsxrHx0jAfm2A//kf9ibhonMWgvqcABy5srHzyRutQ68Qt6iVM3jqFEKbd6Zfg3K+iHnMDRI4KNVRkrSNlI15XIyfHOAOD9k7fpozRaZ6Iv4Fw1H9dELlMi0BYJDbCQkfvjkivluLtUm8VyVXmcImKd9tGehTUSdm4WYCc8enET3gWd5fT1bO+9bMqRIL6SHXlHpHemlg02x3CWpktWPWXdbEZreGXWHs5sqViaZ9LYeUuU/2gPpJ62Ku3rBu07voCjyiuGhC1Vcm+ZKUI6HFoSjo6eCgU1Ke44GqkSs5OrPfFc8JqAMqugHNMxqfui+CUv5yHT7B2lpVf1wTs7k0u8Hbi0H053JuUchRQ/2sAhb7qJoGPnlYWPM+KIEz2N1hXwtsPIwwBa+i2irmtOshvCmFLKYYSyPDbF6wbEBYeiv2E4NXikzNzxgS6QexvVZMbdG5mbD9xClQN3wlVc+nBoZlDM1wQ+SKCXdOz1zOzS2v8uH4X/qbo21GmWwMeoXVKfiFs2JMgQFZOLCXXodWF/3w5mOtv+zBZVCfMwQz3gOGXlXartwzsOdYweMar+RwtYP1qZP0zz3v/eszhb9MwmRxke0V9EU5ssM4dcFZgf+9x27f8GNr2gPOjmrqRI/bWsyDUdQdg6Qdbe9+h/lhbysuRcYo3z4m+PEiEDfF2P1uql6D/pXFhD1qXUUUnD57SKEzAKFvpXoDWfX60Em6B1OrRqPebMRE8eC5hXiFr3LlQlPR9n/xwfKEKYAwqGzsKSvzWrvCf+OII4MGd3Cc3ZykHwc2WK9V/K/lo7Q1cjHx3IsYGNsU4Q7uX6LIdzsnBWy6gwHRTf0Zgtvyxf0JQeCmwovolg2R7oQsYeb3APfnNYGYrgJlqwB6w/uyvWpuX3avLzWK3ClFneR7sx9KA84xVuTW089ivlw0yzHusWAmeMZbMoC/hH4VEmz7gQ+dKjswsMw9vqivw60bmMpay5/dAeE4dGi8JR3swWGSchgEBCO3uzlw6TixINtLIJ8zkWH0mNx5bNFF/rGWIYsigItmGcbDnI/amFFL7edQY+nG6EODMesfofscYc+NNbYKodCHtzeADofhSdmxt7dya/bCn/MUUdWgX6mr+7y/YxQdOgJ3aqz8ip7rl3RHTTMRsroeeTpVrtR69tWnFzDOBAC5W0Qn8HhV5ampOF7OdAjLuwXUONkJi5cWO+pBwpye+Bm2tv0n8MYZwAAAIPkGaQ0nhClJlMCT/u/knkat71uWEo7hHgFQp0j3B18oxz6MRqVDBudpvoGQBPEfL3md0E5t341U5epJ3cVqn4seOpcbiDX5MUwxRuT5Hk5rtwTMfvAn+LgASw+YrjRfcij5TYDFglOhH5QUP1jtwB9Rble1Al8yfDN/B34gLn4HsbaAJQk1jk8ScmS9NrT/Tewa0q/k0uWJFM4RQjNyk9K6ezHq+yAEDHf/iYIhEcWY54pO2GpTDVJY/0PNXdIaSnpWabPpa9aNIu9vmpYPmit1XEmEiBbOC01+r5loj2YqIeTMsN0lbN+/Td7Ul5iz1VASE/r93ndXWIiLg1D1YgJoCmSdGaPSGqFIH40zwjPYD9T41nQiB8B7/SRFWTrm2kSdk7gV0PsTrzokIiUp9+MZ7VwgycZEkuc4FcDlsT7cjiL0YNLreivsTLt5NBQpzJsGc+1BX9rFJJgBdKU8nDWDs+rOqg07vRlcaGi5nYly5IudbYQEzeraZlmjHMd4qBSU2QiBNryAvdIGWp5ZO8FBXHu7idqbJj8FwYg9aLmc9OmYrHq986jIRjfQ+u9wt/+O1DCo0bOxp/GWCrBdzShrinyWTQ6DDRU53UvqjbNxhETYIA6qQyGpXAYZOlbEz6+sZd8+HkUgW+Eblrt1Lnz3CjOZyGh8etRidqeLWyWVslgbRwQvmP+zMmymO6hOZFGIZjzTwiHsugNDBjRtSuxCqvMfRylPGW0ZgwvPgTO+Un8EjXmt7RB7uRe+u6f2E2raJNFbM/zx7hUzZcM6M5ui7ukHIS9HuUUBOb7/AhzHHTcyLAqbygJNOs3JeEKxgs/3KdMGVD9yx6EHcbcWmXKZbk8vQvh6LDu/miEQGDBtEk67uBi9MiNU/wLgl49frXnLAAewUoiED5PMFxQedw5m5uDJTJDaxo1mqc8IJvJnkKiCV5x3QC6lqoXcoaFYaTCovqGlTlYixzSZTFa1DWrjoCglEhyxxH50QEwlWYtLKcZCuu+xOhF1/4ubLdnMJ5risCguavzG8BJSp13kTmUKsMQtKfSWZftiTVbRF9+qTn+9zyw9pGS5YUuloIeRnpZirLVgzsk074cjSFmq07JujmIt1UQOLNNyyBffbmMSJyj0ILO6VXvtmpzn0872MpKUZDoEezznUVj0XXdSl/2w/Gr4yiRPQaYdz4dfOgPZWQl12+ip3rqVBJQau5yQf8Y6/WIWCEIcRmoYTPjP4Xh6iILRBqodlA06HgsGz/+1Nz8beVD0EUjZ7AxdVk4I/sRncDl6iHXQ33OCkrGKW4P4rgwmX7uejRaPBuOtoC0d+qoOpK7Orn3XEeLjnO1s/t4GmSZJ+bF0rnmRIDehjc39rpqrVRENp7W1X3TkcH6FZcwatGZVFRbXQZDJIiZwhvl6/R/Q4fHWPfppc0I9ScFDQjxmqFz7Jvyz0CG5a0thCnpHXMseqqV0+W1LtHzclu0wCbBH6+Z5RZo1ETlW/iwthySfHAvsNRbA8otz7YOynbGcG7FT2OnRs730D8FyrZvQ3aPHgeTiXfd/ZQZobiBXSRAgDC59RlfsjU6f8iyCL3HxYWcSYsEPpOOvJ/hqwV5O0xrjy7hm04r1dijCXw+B3F4CKdnAGYZrVv0Goz9WNLMWbw0ogIG9bmHC2nT8shlLSns4AmxrryEYBv/Hj82Us5iIdRN52eFN4nwJoITqW7JsAAr6aQBWRA7Y4pN6CaTX0NPyxu+DzL1vlUxO0lIgFwsuK8u6GWroIuiWtz1teBgW6fYaEboyYq8z/qwWAMmSKUIG0sjFeMbWAbPo2hqEfoD6GmvsQoqmAUf2tjAQq5nA9If7AkCPIN/OwlVfMIQURMTyqrnKFtEi6KiRUzwtuUdd1/9xFTOMI187aoaomqCEPTdjj8ntR7LUSacwwC6l5XJFUzdr4k4ynqs52NJ0zqccOGCx4sb8cxUO3820hHWY4amoGld4BmoTqfUd2C8JJvqVgrig6hWxHTTMNcfrUfywgTs2OjT3Gge5o6poawm5d9ftPlI32JYsUiY7N/l3HHPSjv1WLRbhXkgTFB0UsJCEZubm0VJsluulJwmIpi9HV/1wS4a+p1MkZ9BXJ6/J47nJwzuJPXcfnobqiRnx6hxCau+7Qxa6Wc3SSSw6+tNs1XbUSJNzlcpAjB5VQAph7NyOjD9n2djS5+7I1H+xhpCBKPwVBMv8IZosN7ScTXXx/XmI28NULC+nviZSEA5BFZVQFN3iA0nkd5U2PNvAeMyqBEwk22WOSRnz8brjLjWlVEMKO9eV3gqkXjAK+UFVwbwFHNj/PFyu0ZFz504k1odKYmmjS5rcqx0ZpFaDJO6LaU6gzs2ZfgtWeMGcKuxd/uUp6yJV+a2fgdjj9j23jB7m4u7iNqJzBP0BXR9Xa1SjSqw34vJSn3tocyL2LK56C8FNMOt1zMjo/XRjLPdzJTEfe8KyfI3CTLbpxOj/YxcC3Yug8MI8BTTV0VHkk4fsDKXoZhJyoaaaLYXXaY9CrPyPXEQNoCXX3nmcmMuePKhEVcFRfbLgnAdKvGmTPjtw2wYth/UJ/APVG6kaXyYShCnvTlt1/Ux4S7iadErs7M+H0QwA1+sCNhjM3otxNbV4xZyNnpABO4Bv5Hk0mp41quHfam57AavJ90gp7FMYhEKMRvl3B4KZ1E5JOgAq/5gOfzvAhnht/CuK7wzq1gg6EcTIN7WfS2/IuFv+qqOfwkfWXtQtw5Y30FMsfUEEdk8htOrI47UxTlpcUA23x7IMg0D0Pm3RQe2Z77OuErfWeK+CM+ZQRgsrf+3eQT4EAAAVWQZ5hRTRMV+79NsjCULUDuoyGCZ+JgHsDffQp67WM9r5x9p32VNdfBopeFGV7SnV2tRMYETsxjkMlylYXAusqOBsBDZRaF/ouGGvNtzXCMMlTkliG4rzTQdhzABtsGNlXC5WuGOqSxiGAeoFEFtIrNhfZYljXL1b/nzlp9gQDUc1JcnnhfxRwmriegeOSp+ZTH3srH8MrCf6mghOJLnbtQ69hBqVMESjKVdBh1cU3YrJ1eEDutYes0OcjGAgyJRuxBDfzuboj22ND4Le6PZ+mQoOXxHGOusH+WiMcW/Rue0jgcVQFYXBoKAwh8rpIreV/6CbLVF3NC09ssJLHi5ouMVXQgyJ545yEtvSqTJxRi/e7QM5e+WpG99QwVc7/0ThRIHTxIxRK2onfjkwGumwb8W6N1AUNHGlrT+I4p9LzzIfrpsjrGg/WR36r67/oUduGKvCfdnXEZFjllerPfyegPJ8Fv0so9tdGSuP+VUW5RVKBdAys4no/vIrFxS+N1RZXbvzWbDb3uUfMwWcXvM/b2W5FSMchDVn3qOyIbT2V/vpFp4Ko8iIkUxaD47Msg74UIWEaPXQGodqg03bC6OW5soAYQiGHhpcUpkC3LOZ6DrJA8pNgeoIhVAkixhrgZpNuudWl0IMGOzJF61JB5fTKXXZjo7fKDWlWI4+fo/fwT2gkhhRhtSV+TMyyUWXRIQS0G0XaT0aVv3okl3bYRcm0WJlNgwsVqN0+2HHFtfEkM9E0AkBz3i1KlkV0V4UBHIFNXk20SW+rHP7KxCoavlFVe7MBviQSFlRY4Ob3nv9BAagXMN5/+TbTcYBw5FEYbU/WwbS1Syl+IR/6BrPjvtivIMJkX7JkPWVU3V8D52jjrL8MJUX/okiF97DsNKB8j0g+31yiyRsvc2oFIMpV4mdmkW31ujuvfuHRNma6F2EwFOd+zGH9CfsJUf3MvkqlLeLthaJSo9sMGqS/VBamjtD103J5hHQ624Kk9VDWVX5Puy3UF58XPsNMnRbbLKmHBF1yH7oUaMNoYDbE08+GAgMCkE1872Ci8CxjFhfL2ca8TAW/xZAnxDRYOxoexOaulWKNCXBVRaUrIN3NK7+cKwhU0N8MEDzmsfwRkUib/0Lq3BNUcCzYg1Jv9MGufX5MLtLizfCWo2OFeFHtmDSW/JRv4apQFUZnJh2ToEVEGV/WbGrVv9o3gzCMxuvoKsL0Cj71se5czII5hT+0eVsDkgPJt0BnxyM006tjfgs5mmh6mMVwH9I1VPewXysO/GuUbg9bkHaxyJwLg24OecgfG/gouaErNp0PpiWplWvzjTIfQ8I87CYWw7JeCqOiILxXre3D1he4oo/d/CPzqZLhpGqyExOJEPLDy8DMtDnhu2Kodd7OhtEgYSifpNIHTfQjkBoKJ4hDfXJb+YGupTACl1h2DNXEySNUuI2MpxERdgR4y1qL6yVksniSnEYrB+IJS+g+sUtWHwsFZ+Ia+5IwnoAaoB/S4B2OkZclxcOW5keCNoWfaOQKoB2+Q1vfmQZyzjzh1zVy+nw9sqKSMgrgIgqhzy1Hav++j6uGKK/bGfDoMSYmFoBrF+x6kofT6IOB/VAyC08vfP3z7L9dMZHUvmT4r4eS70LOz04zTOi1xFXxh835pkpvtx19MALyWxLqUB5IwSpsaEmZaVMrdD3xUE+Stig6X2dK7Dty/wwsxUJoCc0wE6OUCaXVSVFLm8idvU5WS/4RB9qA4AObF//skLajThn9jNVdf/8ZadnoTiB71ePyoymsDhCW2xzWIhLFHa3Tm42o4mrnkCjXENxoRJh3+/52A6VGwAAAA4ABnoB0Rn/951txP0MNhgsCOrAd9LeqAJcfHSIK0GYvNI6U3WC4dAWsy+cMZeMJGlXaFciQQfqpXpF6UrpgZ7m/wsEU1RDAVSOTeilbHz7cVQL5sqRt6wHO9iWb4poTGQRd/5sueTED8LkXVKnEovrtLF7A8BGc5TXD0mcJmKGp3CbPRvANUG7O5LBs4dK8nA7D67yzy3DI21dPyFOZefE1pwanNwtvNPw77tSpoD5oqkSjrL0slVC/ghNyNku1cgauTrZExyhCaCL/3vu5P/vG4MdHu4EarUBih0jsoqJFTqOmfufhgnUYjrd0a0+bkqrUHaRLnXN/YaacOgsGyy73A33e1QdZyo5fhmXjdI7nVkNX6I/7rPfwM4FbdXCboSZCtLFX/426NAbddLw3F5CigjgmC4piC0v77k+RoLVK3PSNDUoVkQG4wgifhUnESf9Y7v5JkAa4tlM8jlBfa88bzhRfa2f2rl8kSSRwnQvtvZTnvSR1nbad/VEb6oos/2t5BTrUyOXXe318Gn4oaOXg3t9AYPCxiAq8xjw6vU8P7oqcqCh82kz+pdpUWvFVHJGcBneQOcF7f5ACB6rcqqXyEStYk/CaoZvFp9wqEs0TwGNBFeUlcakINvP2xXl4ypX/bqDk8NkwBS06UEhQXJ7F1kryiyu9syQcAE3GMLm90SJk9Wd2I7sfUuywHSX6MBAwZVwX2zk0181efdvdfKs8WlcRlEFHYoXVG2pjRwJon+4tQlXeg0dMdYi1I0dmFxb47QL1gCC44Zkcd3LdYjN9WIZrBSxCSiPfQrbkrL9OO9MA0O7yjbt52iDXxgX8YdcSKyFLM4bHlAoXdCHKX2ZD1whQlRImJHLlQou249xW18e87Bni6Cp8IrPgJ+Ut/FWcUkGxztYtQvgUpi8K/JNT8nRaecCBqVFxpYLS87D65WR8uLWS5y86QezoY6lNFhiipHCfGgd2+qqnDB7UzuYz2F7WM0PuyXDCVG6QxXuNKw0mn8nHFKsWNayRZeGn6FhcJODP50du6u/Lz15VMmo3O56T51tHrX/Xv05LF1a5YEWlqzLjBfboQXkTBSW5mW+BD5I5PjaGi/PE+qfY7fmv+QvY6Ef71NnicKQz3+ydCaahxnsWnHF1bCQIIcbp6QOHkVokfG+9H9gdHv+OGEk2sFRrcWZGmgU22AQvvjLYgQAAA0ABnoJqRX/9uwEy+1oIODTxL8gsdzJ+3pwcqseyPoPakkCr22OvbwghSLkyitefx4Cec0iqLRjZ9nU/VjhaKZV2sezfvw5nxZ2uka4HcjkfdxnmE9YdxAaO06kStyMOtsHlg5E3qPpQAN1FHQ3itFkyZ01tVp9eX0Xxc2m0OLlnSHNctMaigQrTuhOSk66taIFzanCKTaEEsdRMAiqWW0ACCiKrLFzKZQrlbu1LoCmiAnw+77X+eufBoeRy85XmQUd2x0PaheQnZQT20XM6bGMb/LJ53ZsgNjKmh+2a9yr1sgdAgqZzCfvYsi4F2QGlzgMDn4mrmGC31Xm6Qfh2nv3NdbTgqZEwXuY50xbaIOXq2q2VG3wVQGv3H/emUpJBlW2v8RP/XFAN5QkDLv1A4PPL1shhH3BeANN5+lD//V/0tXJjPx0hhnn5iB3UELWTwbu8+Nenmnlmh52ZyVxmycC9t0OFZjYEUWlk+YinvxHMQLFsQ4qgafPhPeWSYRTX6sTrRm+Mk9y3ncM6emmlgybZxs6B7KHjv673GQunoVOs5z/6PuUYPu9T4xD7q6LqfJg/c9TZhsdBlcsuOg8gJR4qjuo4wG7cy66AEgRabvB/M/svK8bFlf53QGkB+9iVLov1Oq05ZSIB/AezRHe4wJRD+72UFFCDBJI2+grErT8P4LFTh42HA+1VkNdzj9B0ukVJA7nx1rDYw9ald0CFhONn9dq0CBmKp0CHmXoFyplCPOmwVwTLmhtxEUEbPeMFwofg3Mv698AMPEelrMaCxJsc1nsI+tVAG2I+wo1QtWQuxcJ36BImqva/nq+Sno106JY5I6JlPia51wg4VEhhK4+5ubLQJUUO4P110mWNfSQ7AanlqiKUpgC3jAIWhvY0iVM2SIwJj5u+gu061opL2MZnle1MqPNhiDN7FoOGCAbViToqvJztMchTnhvb/MqDbgELc+nJDH0NEqdyIkXElswSszP2PBComDechblYV0dSMlqCMIK2JBohwwrJdFZiHCTMxrEV1+DJT/bqmur39xL+mx+v2swfA/8lFww/IDQQoOiJZQqKR9nnvX6JrqgJRj1/bv4G1NqdR2lQAeYDBj2AAAADFUGah0moQWiZTAm/01nQlRdYoDTsk1AlXIb7lDfeNQpGit9u6Nag054ZQXBV0E/c/DiZhzMSmYgtjMjGO+a4csyxZ0RhqLkRPOd+N9p+Y4lZyeenEgBnSiOZ8xI3O5fIB7B25YI9cE/CJdsv3Mn4asvO+7NnkceKLlccXiWp6f7/GnnHLG1F6MaU//nXV1NHYwPxZks2SktV0EyIrTDtsI3kT5v62p78T9B5U1hiYlyrRdDC6IzxS9jau9H3ojwVB1/4V4KhdTqslWG7xFXobtvlhOny6z4kAZFKaPIhfIl2aRzEqpBN5sRmowewqcAgoom/V3pakpmcp28GrkQ6MDItoMo8RkKO116AvhSmOcGLbbh+V6sDfhUt2U72lX86OaFMrFZcpzB+6vQ8QdaFNUf1CCiuH1ezpKfPB0g06ZhxEzqiiKDUe/KoxhZSVbpMdwq5B5hCphI2wEntVJNqit4HetmS7yC/l7O7Kp5IOQtuH5f24cTGtqFv4FYbqjUuYStnpb5PNIHQfEmrfwvXZrpL3nAkFY2zUy3xKEmFkqFb7pQx9vu+c37Hb2xEkxFVX9Lvnr74rDzViLigOj6GcwTex+W6aCiyp62l0LbGcNUCa/tYnp8AQJ1tSy0RM8cqiJaxu0DEKqrr3FygwXxFAUeuaiOGDSrNp+An1FByE6/+lL+txiLZZSqwjPNQU8wld/tLGITxo8gsbRfuAGKqCebUrTu2UsN0l/gX9jdBgMOd5JP7kRVdh3Z2bXJXWatperY65d2uamT50EPDzF58wZqnUlkyBr9H+0Rb/zvUnEWe6v86OwT7fRugvLAaasmjp9qU1+ArB2QpPaLSGIdBzHdryI/mcngHQy+pSBt+GS1z5giTsiTxxWB/nKV6UccWpIN42hQNmZ3Gu6WNhD7kzAweYRVqCCyri46El//f/s+pjFFwC8QquY1YFqq5pWyKY3UpGGJvalY232e+JfyVwI1yBm+YoFB3zMenjEwIlJyVUjUKQxlyCvJ0u5tEZ19PH217HhlYDKybkpS21Ste2qjEL6nEJwAAAvFBnqVFESyf6iOf0JnlykpFlmhEF3RvRj/HWxdy0qUtxRffbb0g18pVUL5SlyMG7gJgMN/g1llPZBM4R7pqH6cE6YrG+8vG75b6c5JwJfEs2WxDX/yLyBbHAKzXBBL8GjgIaT27CBlNOmJAEgYnqNBI3bc8fZAXx+rTvRZC5r9cqRK0SjNC/bGT0Bb6lc36HocEkN979H1LvQFTMbLu1lvGbr4OkocwuqV+mPOOTR+pVWHfH0vNsc4jaO3THrs6138enAKXotTU19SSR5bQedeV8ZYa6jxzncrcmO8EmO0SXAApO+Z6/X9jB6o+lh4ro5+aSS9rSBY87AUUlRUuIgX5qZHYmHQalFwllGWsUTmn1pQetunK370Gl7XTr917vkWLMLQf37UctpFeQ7DKvDDnbcBGpAtPDOlBkeTeDz8RntK6mRxo8VAbuAaQiQrFekO+30vDfG/XHHkv0YUNhcO/5yqxjV6LDpEAY1SkHADEwjGFwnlE3MGMN+I/RRQoabLC71juZ5sF6m9rnVtfGxNvcvks9n5bbFoppcEq7P3W3cLGay0rCCe8iR8hOiTK6D5kWgiilgQ0I6srThQSnxq76leS6yWeX+bHGRBL/JfUrnT8U7yG4KxRpFOG6J77ngJqfi9I80kfbt05Ya0EgWqi8TcHJPt3YJfeuWnmNInIRZzivXQrnzNlpnk/Wf0NnynNY2ZE5aXMCye5yfPMhbzE0nmM8hrq6PNcNBUWf5tejgKL+ZJks1exCp8gQ4cwczBy6rnVDhmdy4YY9YePhu1MA5EwTsm9bfQNyhGUI3wxAPX2pc4NG+8FEmbxTowvc5G4M6wkZGh38Bzy8TAYXX98ukg+A+dCDOGG0cRP0iTLUFSOYuiwZWMVE2c9JaaRFDPRg4ly6zyV3F+WfxvUUKJUY7lA1O/1fvsSZadY4P4KFnp8ExOmZhe12H9q0yTLLeQQ8mWu+7e4gPJq3+0pqTR8ANM8IWchV1s1gqjvbrcLaoEAAAIEAZ7EdEn//IJJEboIwI5ViqzW7DN705RLWIf3Ywu35c5FtaqN3X28ToVp8OifcvmNHuWTmM1sqdLNQVJNDiuYlKgPDAQMsG91Z2zN5VGucqWz1P+DmO9U64q9kPJ7yDO6be9m/ySOd0JJqr99ffrupRXER3g3+oLXOifbA1SvNyRLyP8NmEmDzgZX3nmEn+RbEaehFNxjVMpee+TDjU26P4FwdQPuPQf22uzvm0XWNdLHAbEGqgPNVxZznZVhh+xnd+Ycuh5MXocxEt9y1KOn1Yh0F9ZvQ1FS2g3T1WlgJWzfO8a6lHoCdVuw2L+gIvnCylHscSFoHuV9GfyRLIsYPCAq4NPC//p9044PEaRMwbPi4+vyZStIl2hDgcmdteLHGbfXMYCul4fFmu3ClpPO+rL8NPzhZGNoipuWpkvb3nM1o1tWFMt2tOKZ7lBdZ2weu5ZD8lQ9ujzsoGqY1AfYs8P4NZZgAvrGi998JTKfymBj8FIBZcieD+lzV198VptJxmTXoNO2MjRUDDFAmsdZBWPdXYOrxp1RgT+9AozCf+sQgC8iLC5+iILHwrNSD2sYviCaosA+qN1H4RlcTg/BKDf91Q8clplLniuqXv6qBWCijwZ33eqcEDWPj9qst5fDEJwRdCmaUTZWmwLceU5L/GLf9ohY8f53xRrXIcTvI5KD8pf5AAACBwGexmpN//3j6H95YvOnLpIJY88LenETsMpvF50ys+t7Sr2ctzwqShXyFagRoyEUOyOFc0oyqneLJGCBz6w8YYiueZfsLd3Z6t5nODf6iaWehgepfsJRam1LxaSCL75vMo8N7Q6VVh8wvu1okcQpGiMQcB71nHPnB/sVxHsjzFPvIY3Gne/FSCmckoB1WZa8YQfwnOnkaK4bSBUeIZI6xDkIUn6yjQBxe+qCB7cE8eAkKipSKpYzp95j4F+39AzgnFSwPXAzaaYGZ2G41rumU3fja3cXzIJ+RwM5K2HEe541LDUeHreDlP7NDa2fvC+Nx0NFFL8kUOlGVUu9nDYIz6onwFcDZ1sgOsQ2yRuVjd9ICkJXh96x0cedjE+BFoJM5IYLBi1guQjjeZVM9GN/ZXMmC8LTQrvrGqJOA9lj/u3I7LFe3VBe0txXcK9wKrR88UdvZqiSZ5UlK8cLSJR2c3xVAgSP2ig/jN8oainScVdlYC7bVeJ9jlO1FxVomYBvh+3VtWz0u2oxUqedtUXlqq31F99fPBSU5KiYvexr8YxMkw5bBDnuZK4hs5IUJH/V2NEt1aYKDZJrXSauTox1bDM5jw2bMCiKIRyqrcNhFGz1waDp9W9e2NdykZKohCLuqsBeRsuMa+Ne/l8RLq9xws2TXqZRuoxPy+Ejh7xLvLZ4RBJGixoGRQAABOBtb292AAAAbG12aGQAAAAAAAAAAAAAAAAAAAPoAAAPoAABAAABAAAAAAAAAAAAAAAAAQAAAAAAAAAAAAAAAAAAAAEAAAAAAAAAAAAAAAAAAEAAAAAAAAAAAAAAAAAAAAAAAAAAAAAAAAAAAAAAAAACAAAECnRyYWsAAABcdGtoZAAAAAMAAAAAAAAAAAAAAAEAAAAAAAAPoAAAAAAAAAAAAAAAAAAAAAAAAQAAAAAAAAAAAAAAAAAAAAEAAAAAAAAAAAAAAAAAAEAAAAAA0AAAANAAAAAAACRlZHRzAAAAHGVsc3QAAAAAAAAAAQAAD6AAAAgAAAEAAAAAA4JtZGlhAAAAIG1kaGQAAAAAAAAAAAAAAAAAACgAAACgAFXEAAAAAAAtaGRscgAAAAAAAAAAdmlkZQAAAAAAAAAAAAAAAFZpZGVvSGFuZGxlcgAAAAMtbWluZgAAABR2bWhkAAAAAQAAAAAAAAAAAAAAJGRpbmYAAAAcZHJlZgAAAAAAAAABAAAADHVybCAAAAABAAAC7XN0YmwAAACVc3RzZAAAAAAAAAABAAAAhWF2YzEAAAAAAAAAAQAAAAAAAAAAAAAAAAAAAAAA0ADQAEgAAABIAAAAAAAAAAEAAAAAAAAAAAAAAAAAAAAAAAAAAAAAAAAAAAAAAAAAAAAY//8AAAAvYXZjQwFkAAv/4QAXZ2QAC6zZQ0boQAAAAwBAAAAFA8UKZYABAAVo6+csiwAAABhzdHRzAAAAAAAAAAEAAAAoAAAEAAAAABRzdHNzAAAAAAAAAAEAAAABAAABQGN0dHMAAAAAAAAAJgAAAAEAAAgAAAAAAQAADAAAAAABAAAEAAAAAAEAABAAAAAAAgAABAAAAAABAAAMAAAAAAEAAAQAAAAAAQAAEAAAAAACAAAEAAAAAAEAABQAAAAAAQAACAAAAAABAAAAAAAAAAEAAAQAAAAAAQAAFAAAAAABAAAIAAAAAAEAAAAAAAAAAQAABAAAAAABAAAUAAAAAAEAAAgAAAAAAQAAAAAAAAABAAAEAAAAAAEAABQAAAAAAQAACAAAAAABAAAAAAAAAAEAAAQAAAAAAQAAFAAAAAABAAAIAAAAAAEAAAAAAAAAAQAABAAAAAABAAAIAAAAAAEAABQAAAAAAQAACAAAAAABAAAAAAAAAAEAAAQAAAAAAQAAFAAAAAABAAAIAAAAAAEAAAAAAAAAAQAABAAAAAAcc3RzYwAAAAAAAAABAAAAAQAAACgAAAABAAAAtHN0c3oAAAAAAAAAAAAAACgAABsmAAAFBgAAAgYAAAY3AAACzwAAAjwAAAYcAAACZAAABA0AAAJqAAAB1AAABkoAAAMnAAACJwAAAiQAAAWmAAACmwAAAe8AAAGDAAACcAAAAbIAAAE2AAABHQAABj0AAAK3AAABnAAAAqEAAAaGAAAERQAAAuAAAAJ2AAAFIgAACEIAAAVaAAADhAAAA0QAAAMZAAAC9QAAAggAAAILAAAAFHN0Y28AAAAAAAAAAQAAADAAAABidWR0YQAAAFptZXRhAAAAAAAAACFoZGxyAAAAAAAAAABtZGlyYXBwbAAAAAAAAAAAAAAAAC1pbHN0AAAAJal0b28AAAAdZGF0YQAAAAEAAAAATGF2ZjU3LjgzLjEwMA==\" type=\"video/mp4\">\n",
              "                </video>\n",
              "                "
            ],
            "text/plain": [
              "<IPython.core.display.HTML object>"
            ]
          },
          "metadata": {
            "tags": []
          },
          "execution_count": 52
        }
      ]
    },
    {
      "cell_type": "code",
      "metadata": {
        "id": "UKiZsYyD2zwz",
        "outputId": "96db9faa-8d1e-44da-812f-3f9685780116",
        "colab": {
          "base_uri": "https://localhost:8080/",
          "height": 723
        }
      },
      "source": [
        "a_true =  np.array(a_true)\n",
        "a_pred = np.array(a_pred)\n",
        "length_true = len(a_true)\n",
        "length_pred = len(a_pred)\n",
        "actions_space = a_true.shape[-1]\n",
        "x_true = np.linspace(0, length_true, num=length_true) \n",
        "x_pred = np.linspace(0, length_pred, num=length_pred) \n",
        "labels = ['x','y','z','q1','q2','q3','q4','gripper']\n",
        "for i in range(0,actions_space):\n",
        "    fig, axes = plt.subplots(1, 1, figsize=(6,1.0), squeeze=False)\n",
        "    # One Model\n",
        "    axes[0,0].plot(x_true,a_true[:,i],'green')\n",
        "    axes[0,0].plot(x_pred,a_pred[:,i], 'b')\n",
        "    fig.legend( ('true action', 'predicted action'))\n",
        "   \n",
        "    plt.title(labels[i])\n",
        "    plt.show()"
      ],
      "execution_count": null,
      "outputs": [
        {
          "output_type": "display_data",
          "data": {
            "image/png": "[encoded data removed]",
            "text/plain": [
              "<Figure size 432x72 with 1 Axes>"
            ]
          },
          "metadata": {
            "tags": [],
            "needs_background": "light"
          }
        },
        {
          "output_type": "display_data",
          "data": {
            "image/png": "[encoded data removed]",
            "text/plain": [
              "<Figure size 432x72 with 1 Axes>"
            ]
          },
          "metadata": {
            "tags": [],
            "needs_background": "light"
          }
        },
        {
          "output_type": "display_data",
          "data": {
            "image/png": "[encoded data removed]",
            "text/plain": [
              "<Figure size 432x72 with 1 Axes>"
            ]
          },
          "metadata": {
            "tags": [],
            "needs_background": "light"
          }
        },
        {
          "output_type": "display_data",
          "data": {
            "image/png": "[encoded data removed]",
            "text/plain": [
              "<Figure size 432x72 with 1 Axes>"
            ]
          },
          "metadata": {
            "tags": [],
            "needs_background": "light"
          }
        },
        {
          "output_type": "display_data",
          "data": {
            "image/png": "[encoded data removed]",
            "text/plain": [
              "<Figure size 432x72 with 1 Axes>"
            ]
          },
          "metadata": {
            "tags": [],
            "needs_background": "light"
          }
        },
        {
          "output_type": "display_data",
          "data": {
            "image/png": "[encoded data removed]",
            "text/plain": [
              "<Figure size 432x72 with 1 Axes>"
            ]
          },
          "metadata": {
            "tags": [],
            "needs_background": "light"
          }
        },
        {
          "output_type": "display_data",
          "data": {
            "image/png": "[encoded data removed]",
            "text/plain": [
              "<Figure size 432x72 with 1 Axes>"
            ]
          },
          "metadata": {
            "tags": [],
            "needs_background": "light"
          }
        }
      ]
    },
    {
      "cell_type": "code",
      "metadata": {
        "id": "601ynVASDVvr"
      },
      "source": [
        ""
      ],
      "execution_count": null,
      "outputs": []
    },
    {
      "cell_type": "code",
      "metadata": {
        "id": "nPRLjCOfDVyY"
      },
      "source": [
        ""
      ],
      "execution_count": null,
      "outputs": []
    },
    {
      "cell_type": "code",
      "metadata": {
        "id": "F5oyp2bKDV2e"
      },
      "source": [
        ""
      ],
      "execution_count": null,
      "outputs": []
    },
    {
      "cell_type": "code",
      "metadata": {
        "id": "5WUniJtT25Rb",
        "cellView": "form"
      },
      "source": [
        "#@title Explore MMD INFOVAE reg for encoder, with planner chasing it.\n",
        "\n"
      ],
      "execution_count": null,
      "outputs": []
    },
    {
      "cell_type": "code",
      "metadata": {
        "id": "KdapR5ID5VOZ",
        "outputId": "b0faafb4-4bca-420d-b149-d27fc8e52e68",
        "colab": {
          "base_uri": "https://localhost:8080/",
          "height": 836
        }
      },
      "source": [
        "def compute_kernel(x, y):\n",
        "  x_size = tf.shape(x)[0]\n",
        "  y_size = tf.shape(y)[0]\n",
        "  dim = tf.shape(x)[1]\n",
        "  tiled_x = tf.tile(tf.reshape(x, tf.stack([x_size, 1, dim])), tf.stack([1, y_size, 1]))\n",
        "  print(tiled_x, x, y)\n",
        "  tiled_y = tf.tile(tf.reshape(y, tf.stack([1, y_size, dim])), tf.stack([x_size, 1, 1]))\n",
        "  print(tiled_x.shape, tiled_y.shape)\n",
        "  return tf.exp(-tf.reduce_mean(tf.square(tiled_x - tiled_y), axis=2) / tf.cast(dim, tf.float32))\n",
        "\n",
        "def compute_mmd(x, y, sigma_sqr=2.0/LATENT_DIM):\n",
        "  x_kernel = compute_kernel(x, x)\n",
        "  y_kernel = compute_kernel(y, y)\n",
        "  xy_kernel = compute_kernel(x, y)\n",
        "  return tf.reduce_mean(x_kernel) + tf.reduce_mean(y_kernel) - 2 * tf.reduce_mean(xy_kernel)\n",
        "\n",
        "true_samples = tfd.Normal([0.1,0.1,0.1], [1,1,1])\n",
        "encoding = tfd.Normal([0.1,0.1,0.1], [1,1,1])\n",
        "loss_mmd = compute_mmd(true_samples.sample(), encoding.sample())\n"
      ],
      "execution_count": null,
      "outputs": [
        {
          "output_type": "error",
          "ename": "InvalidArgumentError",
          "evalue": "ignored",
          "traceback": [
            "\u001b[0;31m---------------------------------------------------------------------------\u001b[0m",
            "\u001b[0;31mInvalidArgumentError\u001b[0m                      Traceback (most recent call last)",
            "\u001b[0;32m<ipython-input-73-111fb725ec63>\u001b[0m in \u001b[0;36m<module>\u001b[0;34m()\u001b[0m\n\u001b[1;32m     17\u001b[0m \u001b[0mtrue_samples\u001b[0m \u001b[0;34m=\u001b[0m \u001b[0mtfd\u001b[0m\u001b[0;34m.\u001b[0m\u001b[0mNormal\u001b[0m\u001b[0;34m(\u001b[0m\u001b[0;34m[\u001b[0m\u001b[0;36m0.1\u001b[0m\u001b[0;34m,\u001b[0m\u001b[0;36m0.1\u001b[0m\u001b[0;34m,\u001b[0m\u001b[0;36m0.1\u001b[0m\u001b[0;34m]\u001b[0m\u001b[0;34m,\u001b[0m \u001b[0;34m[\u001b[0m\u001b[0;36m1\u001b[0m\u001b[0;34m,\u001b[0m\u001b[0;36m1\u001b[0m\u001b[0;34m,\u001b[0m\u001b[0;36m1\u001b[0m\u001b[0;34m]\u001b[0m\u001b[0;34m)\u001b[0m\u001b[0;34m\u001b[0m\u001b[0;34m\u001b[0m\u001b[0m\n\u001b[1;32m     18\u001b[0m \u001b[0mencoding\u001b[0m \u001b[0;34m=\u001b[0m \u001b[0mtfd\u001b[0m\u001b[0;34m.\u001b[0m\u001b[0mNormal\u001b[0m\u001b[0;34m(\u001b[0m\u001b[0;34m[\u001b[0m\u001b[0;36m0.1\u001b[0m\u001b[0;34m,\u001b[0m\u001b[0;36m0.1\u001b[0m\u001b[0;34m,\u001b[0m\u001b[0;36m0.1\u001b[0m\u001b[0;34m]\u001b[0m\u001b[0;34m,\u001b[0m \u001b[0;34m[\u001b[0m\u001b[0;36m1\u001b[0m\u001b[0;34m,\u001b[0m\u001b[0;36m1\u001b[0m\u001b[0;34m,\u001b[0m\u001b[0;36m1\u001b[0m\u001b[0;34m]\u001b[0m\u001b[0;34m)\u001b[0m\u001b[0;34m\u001b[0m\u001b[0;34m\u001b[0m\u001b[0m\n\u001b[0;32m---> 19\u001b[0;31m \u001b[0mloss_mmd\u001b[0m \u001b[0;34m=\u001b[0m \u001b[0mcompute_mmd\u001b[0m\u001b[0;34m(\u001b[0m\u001b[0mtrue_samples\u001b[0m\u001b[0;34m.\u001b[0m\u001b[0msample\u001b[0m\u001b[0;34m(\u001b[0m\u001b[0;34m)\u001b[0m\u001b[0;34m,\u001b[0m \u001b[0mencoding\u001b[0m\u001b[0;34m.\u001b[0m\u001b[0msample\u001b[0m\u001b[0;34m(\u001b[0m\u001b[0;34m)\u001b[0m\u001b[0;34m)\u001b[0m\u001b[0;34m\u001b[0m\u001b[0;34m\u001b[0m\u001b[0m\n\u001b[0m",
            "\u001b[0;32m<ipython-input-73-111fb725ec63>\u001b[0m in \u001b[0;36mcompute_mmd\u001b[0;34m(x, y, sigma_sqr)\u001b[0m\n\u001b[1;32m     10\u001b[0m \u001b[0;34m\u001b[0m\u001b[0m\n\u001b[1;32m     11\u001b[0m \u001b[0;32mdef\u001b[0m \u001b[0mcompute_mmd\u001b[0m\u001b[0;34m(\u001b[0m\u001b[0mx\u001b[0m\u001b[0;34m,\u001b[0m \u001b[0my\u001b[0m\u001b[0;34m,\u001b[0m \u001b[0msigma_sqr\u001b[0m\u001b[0;34m=\u001b[0m\u001b[0;36m2.0\u001b[0m\u001b[0;34m/\u001b[0m\u001b[0mLATENT_DIM\u001b[0m\u001b[0;34m)\u001b[0m\u001b[0;34m:\u001b[0m\u001b[0;34m\u001b[0m\u001b[0;34m\u001b[0m\u001b[0m\n\u001b[0;32m---> 12\u001b[0;31m   \u001b[0mx_kernel\u001b[0m \u001b[0;34m=\u001b[0m \u001b[0mcompute_kernel\u001b[0m\u001b[0;34m(\u001b[0m\u001b[0mx\u001b[0m\u001b[0;34m,\u001b[0m \u001b[0mx\u001b[0m\u001b[0;34m)\u001b[0m\u001b[0;34m\u001b[0m\u001b[0;34m\u001b[0m\u001b[0m\n\u001b[0m\u001b[1;32m     13\u001b[0m   \u001b[0my_kernel\u001b[0m \u001b[0;34m=\u001b[0m \u001b[0mcompute_kernel\u001b[0m\u001b[0;34m(\u001b[0m\u001b[0my\u001b[0m\u001b[0;34m,\u001b[0m \u001b[0my\u001b[0m\u001b[0;34m)\u001b[0m\u001b[0;34m\u001b[0m\u001b[0;34m\u001b[0m\u001b[0m\n\u001b[1;32m     14\u001b[0m   \u001b[0mxy_kernel\u001b[0m \u001b[0;34m=\u001b[0m \u001b[0mcompute_kernel\u001b[0m\u001b[0;34m(\u001b[0m\u001b[0mx\u001b[0m\u001b[0;34m,\u001b[0m \u001b[0my\u001b[0m\u001b[0;34m)\u001b[0m\u001b[0;34m\u001b[0m\u001b[0;34m\u001b[0m\u001b[0m\n",
            "\u001b[0;32m<ipython-input-73-111fb725ec63>\u001b[0m in \u001b[0;36mcompute_kernel\u001b[0;34m(x, y)\u001b[0m\n\u001b[1;32m      4\u001b[0m   \u001b[0mdim\u001b[0m \u001b[0;34m=\u001b[0m \u001b[0mtf\u001b[0m\u001b[0;34m.\u001b[0m\u001b[0mshape\u001b[0m\u001b[0;34m(\u001b[0m\u001b[0mx\u001b[0m\u001b[0;34m)\u001b[0m\u001b[0;34m[\u001b[0m\u001b[0;36m1\u001b[0m\u001b[0;34m]\u001b[0m\u001b[0;34m\u001b[0m\u001b[0;34m\u001b[0m\u001b[0m\n\u001b[1;32m      5\u001b[0m   \u001b[0mtiled_x\u001b[0m \u001b[0;34m=\u001b[0m \u001b[0mtf\u001b[0m\u001b[0;34m.\u001b[0m\u001b[0mtile\u001b[0m\u001b[0;34m(\u001b[0m\u001b[0mtf\u001b[0m\u001b[0;34m.\u001b[0m\u001b[0mreshape\u001b[0m\u001b[0;34m(\u001b[0m\u001b[0mx\u001b[0m\u001b[0;34m,\u001b[0m \u001b[0mtf\u001b[0m\u001b[0;34m.\u001b[0m\u001b[0mstack\u001b[0m\u001b[0;34m(\u001b[0m\u001b[0;34m[\u001b[0m\u001b[0mx_size\u001b[0m\u001b[0;34m,\u001b[0m \u001b[0;36m1\u001b[0m\u001b[0;34m,\u001b[0m \u001b[0mdim\u001b[0m\u001b[0;34m]\u001b[0m\u001b[0;34m)\u001b[0m\u001b[0;34m)\u001b[0m\u001b[0;34m,\u001b[0m \u001b[0mtf\u001b[0m\u001b[0;34m.\u001b[0m\u001b[0mstack\u001b[0m\u001b[0;34m(\u001b[0m\u001b[0;34m[\u001b[0m\u001b[0;36m1\u001b[0m\u001b[0;34m,\u001b[0m \u001b[0my_size\u001b[0m\u001b[0;34m,\u001b[0m \u001b[0;36m1\u001b[0m\u001b[0;34m]\u001b[0m\u001b[0;34m)\u001b[0m\u001b[0;34m)\u001b[0m\u001b[0;34m\u001b[0m\u001b[0;34m\u001b[0m\u001b[0m\n\u001b[0;32m----> 6\u001b[0;31m   \u001b[0mprint\u001b[0m\u001b[0;34m(\u001b[0m\u001b[0mtiled_x\u001b[0m\u001b[0;34m,\u001b[0m \u001b[0mx\u001b[0m\u001b[0;34m,\u001b[0m \u001b[0my\u001b[0m\u001b[0;34m)\u001b[0m\u001b[0;34m\u001b[0m\u001b[0;34m\u001b[0m\u001b[0m\n\u001b[0m\u001b[1;32m      7\u001b[0m   \u001b[0mtiled_y\u001b[0m \u001b[0;34m=\u001b[0m \u001b[0mtf\u001b[0m\u001b[0;34m.\u001b[0m\u001b[0mtile\u001b[0m\u001b[0;34m(\u001b[0m\u001b[0mtf\u001b[0m\u001b[0;34m.\u001b[0m\u001b[0mreshape\u001b[0m\u001b[0;34m(\u001b[0m\u001b[0my\u001b[0m\u001b[0;34m,\u001b[0m \u001b[0mtf\u001b[0m\u001b[0;34m.\u001b[0m\u001b[0mstack\u001b[0m\u001b[0;34m(\u001b[0m\u001b[0;34m[\u001b[0m\u001b[0;36m1\u001b[0m\u001b[0;34m,\u001b[0m \u001b[0my_size\u001b[0m\u001b[0;34m,\u001b[0m \u001b[0mdim\u001b[0m\u001b[0;34m]\u001b[0m\u001b[0;34m)\u001b[0m\u001b[0;34m)\u001b[0m\u001b[0;34m,\u001b[0m \u001b[0mtf\u001b[0m\u001b[0;34m.\u001b[0m\u001b[0mstack\u001b[0m\u001b[0;34m(\u001b[0m\u001b[0;34m[\u001b[0m\u001b[0mx_size\u001b[0m\u001b[0;34m,\u001b[0m \u001b[0;36m1\u001b[0m\u001b[0;34m,\u001b[0m \u001b[0;36m1\u001b[0m\u001b[0;34m]\u001b[0m\u001b[0;34m)\u001b[0m\u001b[0;34m)\u001b[0m\u001b[0;34m\u001b[0m\u001b[0;34m\u001b[0m\u001b[0m\n\u001b[1;32m      8\u001b[0m   \u001b[0mprint\u001b[0m\u001b[0;34m(\u001b[0m\u001b[0mtiled_x\u001b[0m\u001b[0;34m.\u001b[0m\u001b[0mshape\u001b[0m\u001b[0;34m,\u001b[0m \u001b[0mtiled_y\u001b[0m\u001b[0;34m.\u001b[0m\u001b[0mshape\u001b[0m\u001b[0;34m)\u001b[0m\u001b[0;34m\u001b[0m\u001b[0;34m\u001b[0m\u001b[0m\n",
            "\u001b[0;32m/usr/local/lib/python3.6/dist-packages/tensorflow/python/framework/ops.py\u001b[0m in \u001b[0;36m__str__\u001b[0;34m(self)\u001b[0m\n\u001b[1;32m   1002\u001b[0m \u001b[0;34m\u001b[0m\u001b[0m\n\u001b[1;32m   1003\u001b[0m   \u001b[0;32mdef\u001b[0m \u001b[0m__str__\u001b[0m\u001b[0;34m(\u001b[0m\u001b[0mself\u001b[0m\u001b[0;34m)\u001b[0m\u001b[0;34m:\u001b[0m\u001b[0;34m\u001b[0m\u001b[0;34m\u001b[0m\u001b[0m\n\u001b[0;32m-> 1004\u001b[0;31m     return \"tf.Tensor(%s, shape=%s, dtype=%s)\" % (numpy_text(self), self.shape,\n\u001b[0m\u001b[1;32m   1005\u001b[0m                                                   self.dtype.name)\n\u001b[1;32m   1006\u001b[0m \u001b[0;34m\u001b[0m\u001b[0m\n",
            "\u001b[0;32m/usr/local/lib/python3.6/dist-packages/tensorflow/python/framework/ops.py\u001b[0m in \u001b[0;36mnumpy_text\u001b[0;34m(tensor, is_repr)\u001b[0m\n\u001b[1;32m    223\u001b[0m   \u001b[0;32mif\u001b[0m \u001b[0mtensor\u001b[0m\u001b[0;34m.\u001b[0m\u001b[0mdtype\u001b[0m\u001b[0;34m.\u001b[0m\u001b[0mis_numpy_compatible\u001b[0m\u001b[0;34m:\u001b[0m\u001b[0;34m\u001b[0m\u001b[0;34m\u001b[0m\u001b[0m\n\u001b[1;32m    224\u001b[0m     \u001b[0;31m# pylint: disable=protected-access\u001b[0m\u001b[0;34m\u001b[0m\u001b[0;34m\u001b[0m\u001b[0;34m\u001b[0m\u001b[0m\n\u001b[0;32m--> 225\u001b[0;31m     \u001b[0mtext\u001b[0m \u001b[0;34m=\u001b[0m \u001b[0mrepr\u001b[0m\u001b[0;34m(\u001b[0m\u001b[0mtensor\u001b[0m\u001b[0;34m.\u001b[0m\u001b[0m_numpy\u001b[0m\u001b[0;34m(\u001b[0m\u001b[0;34m)\u001b[0m\u001b[0;34m)\u001b[0m \u001b[0;32mif\u001b[0m \u001b[0mis_repr\u001b[0m \u001b[0;32melse\u001b[0m \u001b[0mstr\u001b[0m\u001b[0;34m(\u001b[0m\u001b[0mtensor\u001b[0m\u001b[0;34m.\u001b[0m\u001b[0m_numpy\u001b[0m\u001b[0;34m(\u001b[0m\u001b[0;34m)\u001b[0m\u001b[0;34m)\u001b[0m\u001b[0;34m\u001b[0m\u001b[0;34m\u001b[0m\u001b[0m\n\u001b[0m\u001b[1;32m    226\u001b[0m     \u001b[0;31m# pylint: enable=protected-access\u001b[0m\u001b[0;34m\u001b[0m\u001b[0;34m\u001b[0m\u001b[0;34m\u001b[0m\u001b[0m\n\u001b[1;32m    227\u001b[0m   \u001b[0;32melse\u001b[0m\u001b[0;34m:\u001b[0m\u001b[0;34m\u001b[0m\u001b[0;34m\u001b[0m\u001b[0m\n",
            "\u001b[0;32m/usr/local/lib/python3.6/dist-packages/tensorflow/python/framework/ops.py\u001b[0m in \u001b[0;36m_numpy\u001b[0;34m(self)\u001b[0m\n\u001b[1;32m   1029\u001b[0m       \u001b[0;32mreturn\u001b[0m \u001b[0mself\u001b[0m\u001b[0;34m.\u001b[0m\u001b[0m_numpy_internal\u001b[0m\u001b[0;34m(\u001b[0m\u001b[0;34m)\u001b[0m\u001b[0;34m\u001b[0m\u001b[0;34m\u001b[0m\u001b[0m\n\u001b[1;32m   1030\u001b[0m     \u001b[0;32mexcept\u001b[0m \u001b[0mcore\u001b[0m\u001b[0;34m.\u001b[0m\u001b[0m_NotOkStatusException\u001b[0m \u001b[0;32mas\u001b[0m \u001b[0me\u001b[0m\u001b[0;34m:\u001b[0m  \u001b[0;31m# pylint: disable=protected-access\u001b[0m\u001b[0;34m\u001b[0m\u001b[0;34m\u001b[0m\u001b[0m\n\u001b[0;32m-> 1031\u001b[0;31m       \u001b[0msix\u001b[0m\u001b[0;34m.\u001b[0m\u001b[0mraise_from\u001b[0m\u001b[0;34m(\u001b[0m\u001b[0mcore\u001b[0m\u001b[0;34m.\u001b[0m\u001b[0m_status_to_exception\u001b[0m\u001b[0;34m(\u001b[0m\u001b[0me\u001b[0m\u001b[0;34m.\u001b[0m\u001b[0mcode\u001b[0m\u001b[0;34m,\u001b[0m \u001b[0me\u001b[0m\u001b[0;34m.\u001b[0m\u001b[0mmessage\u001b[0m\u001b[0;34m)\u001b[0m\u001b[0;34m,\u001b[0m \u001b[0;32mNone\u001b[0m\u001b[0;34m)\u001b[0m  \u001b[0;31m# pylint: disable=protected-access\u001b[0m\u001b[0;34m\u001b[0m\u001b[0;34m\u001b[0m\u001b[0m\n\u001b[0m\u001b[1;32m   1032\u001b[0m \u001b[0;34m\u001b[0m\u001b[0m\n\u001b[1;32m   1033\u001b[0m   \u001b[0;34m@\u001b[0m\u001b[0mproperty\u001b[0m\u001b[0;34m\u001b[0m\u001b[0;34m\u001b[0m\u001b[0m\n",
            "\u001b[0;32m/usr/local/lib/python3.6/dist-packages/six.py\u001b[0m in \u001b[0;36mraise_from\u001b[0;34m(value, from_value)\u001b[0m\n",
            "\u001b[0;31mInvalidArgumentError\u001b[0m: slice index 1 of dimension 0 out of bounds."
          ]
        }
      ]
    },
    {
      "cell_type": "code",
      "metadata": {
        "id": "UZplwvpr3gW1"
      },
      "source": [
        "\n",
        "\n",
        "LAYER_SIZE = 512\n",
        "LATENT_DIM = 256\n",
        "\n",
        "with strategy.scope():\n",
        "    # Keras .fit API\n",
        "  #loss_fn = lambda y, p_y: -p_y.log_prob(y)\n",
        "  action_loss = tf.keras.losses.MeanAbsoluteError(reduction=tf.keras.losses.Reduction.NONE)\n",
        "\n",
        "  def compute_kernel(x, y):\n",
        "    x_size = tf.shape(x)[0]\n",
        "    y_size = tf.shape(y)[0]\n",
        "    dim = tf.shape(x)[1]\n",
        "    tiled_x = tf.tile(tf.reshape(x, tf.stack([x_size, 1, dim])), tf.stack([1, y_size, 1]))\n",
        "    tiled_y = tf.tile(tf.reshape(y, tf.stack([1, y_size, dim])), tf.stack([x_size, 1, 1]))\n",
        "    return tf.exp(-tf.reduce_mean(tf.square(tiled_x - tiled_y), axis=2) / tf.cast(dim, tf.float32))\n",
        "\n",
        "  def compute_mmd(x, y, sigma_sqr=2.0/LATENT_DIM):\n",
        "      x_kernel = compute_kernel(x, x)\n",
        "      y_kernel = compute_kernel(y, y)\n",
        "      xy_kernel = compute_kernel(x, y)\n",
        "      return tf.reduce_mean(x_kernel) + tf.reduce_mean(y_kernel) - 2 * tf.reduce_mean(xy_kernel)\n",
        "  \n",
        "  def compute_loss(labels, predictions, mask, seq_lens):\n",
        "      per_example_loss = action_loss(labels, predictions) * mask\n",
        "      per_example_loss = tf.reduce_sum(per_example_loss, axis = 1) / seq_lens # take mean along the timestep\n",
        "      return tf.nn.compute_average_loss(per_example_loss, global_batch_size=GLOBAL_BATCH_SIZE)\n",
        "\n",
        "  def compute_regularisation_loss(plan, encoding):\n",
        "      reg_loss = KL(plan, encoding) #+ KL(encoding, plan)\n",
        "      return tf.nn.compute_average_loss(reg_loss, global_batch_size=GLOBAL_BATCH_SIZE)\n",
        "\n",
        "  def encoder_regularisation(encoding):\n",
        "    B = encoding.shape[0]\n",
        "    true_samples = tf.random_normal(tf.stack([B, z_dim]))\n",
        "    loss_mmd = compute_mmd(true_samples, encoding.sample())\n",
        "\n",
        "  train_act_loss = tf.keras.metrics.Mean(name='act_loss')\n",
        "  valid_act_loss = tf.keras.metrics.Mean(name='valid_act_loss')\n",
        "\n",
        "  train_reg_loss = tf.keras.metrics.Mean(name='reg_loss')\n",
        "  valid_reg_loss = tf.keras.metrics.Mean(name='valid_reg_loss')\n",
        "\n",
        "  valid_act_with_enc_loss = tf.keras.metrics.Mean(name='valid_act_with_enc_loss')\n",
        "  train_act_with_plan_loss = tf.keras.metrics.Mean(name='train_act_with_plan_loss')\n",
        "\n",
        "  \n",
        "  model_params = {'layer_size':LAYER_SIZE, 'GCBC':False}\n",
        "  model = actor(**model_params)\n",
        "\n",
        "  model_params = {'layer_size':LAYER_SIZE, 'latent_dim':LATENT_DIM}\n",
        "  encoder = ENCODER_LSTM(latent_dim=LATENT_DIM)\n",
        "  planner = create_planner(**model_params)\n",
        "\n",
        "  optimizer = tfa.optimizers.AdamW(1e-4, 2e-4) #tf.keras.optimizers.Adam(2e-4)\n",
        "\n",
        "  checkpoint = tf.train.Checkpoint(optimizer=optimizer, model=model)\n",
        "\n",
        "def step(inputs, GCBC=False, training = False):\n",
        "  (states, goals, actions, mask, seq_lens) = inputs\n",
        "  if GCBC:\n",
        "    distrib = model(states, goals=goals, training = training)\n",
        "    return  compute_loss(actions, distrib, mask, seq_lens), distrib\n",
        "  else:\n",
        "  \n",
        "    encoding = encoder(states, actions, training=training)\n",
        "    final_goals = goals[:, 0, :]\n",
        "    plan, _ = planner((states[:, 0, :], final_goals))  # the final goals are tiled out over the entire non masked sequence, so the first timestep is the final goal. \n",
        "    if training: # we must expand it out so each input state has a corresponding plan\n",
        "      z = tf.tile(tf.expand_dims(encoding.sample(), 1), (1, rsd.MAX_SEQ_LEN, 1))\n",
        "      distrib = model(states, z, goals, training=training)\n",
        "      z_plan = tf.tile(tf.expand_dims(plan.sample(), 1), (1, rsd.MAX_SEQ_LEN, 1))\n",
        "      plan_acts = model(states, z_plan, goals, training=training)\n",
        "      train_act_with_plan_loss.update_state(compute_loss(actions, plan_acts, mask, seq_lens))\n",
        "    \n",
        "    else:\n",
        "      # check if encoder is overfitting on validation\n",
        "      z_enc = z = tf.tile(tf.expand_dims(encoding.sample(), 1), (1, rsd.MAX_SEQ_LEN, 1))\n",
        "      enc_act_distrib = model(states, z_enc, goals, training = training)\n",
        "      valid_act_with_enc_loss.update_state(compute_loss(actions, enc_act_distrib, mask, seq_lens))\n",
        "\n",
        "      # true validation performance, w/ planner\n",
        "      z = tf.tile(tf.expand_dims(plan.sample(), 1), (1, rsd.MAX_SEQ_LEN, 1))\n",
        "      distrib = model(states, z, goals, training = training) \n",
        "      \n",
        "\n",
        "    action_loss = compute_loss(actions, distrib, mask, seq_lens)\n",
        "    \n",
        "    regularisation_loss = compute_regularisation_loss(plan, encoding)\n",
        "    \n",
        "    return action_loss, regularisation_loss\n",
        "\n",
        "\n",
        "# Now outside strategy .scope\n",
        "def train_step(inputs, GCBC = False):\n",
        "  with tf.GradientTape() as tape:\n",
        "    act_loss, reg_loss = step(inputs, GCBC = GCBC, training=True)\n",
        "    loss = act_loss + reg_loss  * BETA\n",
        "    \n",
        "  train_act_loss.update_state(act_loss)\n",
        "  train_reg_loss.update_state(reg_loss)\n",
        "  gradients = tape.gradient(loss, model.trainable_variables+encoder.trainable_variables+planner.trainable_variables)\n",
        "  optimizer.apply_gradients(zip(gradients, model.trainable_variables+encoder.trainable_variables+planner.trainable_variables))\n",
        "  \n",
        "  return loss\n",
        "\n",
        "def test_step(inputs, GCBC=False):\n",
        "  act_loss, reg_loss = step(inputs, GCBC = GCBC, training=False)\n",
        "  valid_act_loss.update_state(act_loss)\n",
        "  valid_reg_loss.update_state(reg_loss)\n",
        "  return act_loss + reg_loss  * BETA\n",
        "\n",
        "@tf.function\n",
        "def distributed_train_step(dataset_inputs):\n",
        "  per_replica_losses = strategy.run(train_step, args=(dataset_inputs,))\n",
        "  return strategy.reduce(tf.distribute.ReduceOp.SUM, per_replica_losses, axis = None)\n",
        "\n",
        "@tf.function\n",
        "def distributed_test_step(dataset_inputs):\n",
        "  per_replica_losses = strategy.run(test_step, args=(dataset_inputs,))\n",
        "  return strategy.reduce(tf.distribute.ReduceOp.SUM, per_replica_losses, axis = None)\n",
        "\n",
        "\n",
        "train_dist_dataset = iter(strategy.experimental_distribute_dataset(train_dataset.repeat()))\n",
        "valid_dist_dataset = iter(strategy.experimental_distribute_dataset(valid_dataset.repeat()))"
      ],
      "execution_count": null,
      "outputs": []
    },
    {
      "cell_type": "code",
      "metadata": {
        "id": "G4NLoKxThrwY"
      },
      "source": [
        "\n",
        "\n",
        "trial_run(1e-2)\n",
        "trial_run(1e-3)\n",
        "trial_run(1e-4)\n",
        "trial_run(1e-1)"
      ],
      "execution_count": null,
      "outputs": []
    },
    {
      "cell_type": "code",
      "metadata": {
        "id": "OlJ945C9qZXD",
        "outputId": "98e2cc20-95ed-443c-943b-5de67172dd53",
        "colab": {
          "base_uri": "https://localhost:8080/",
          "height": 36
        }
      },
      "source": [
        "int(seq_lens[idx])"
      ],
      "execution_count": null,
      "outputs": [
        {
          "output_type": "execute_result",
          "data": {
            "text/plain": [
              "30"
            ]
          },
          "metadata": {
            "tags": []
          },
          "execution_count": 106
        }
      ]
    },
    {
      "cell_type": "markdown",
      "metadata": {
        "id": "8y0jB3MU_vxx"
      },
      "source": [
        "Gradients are \"calculated on each replica, they are synced across the replicas by **summing** them\"\n",
        "https://www.tensorflow.org/tutorials/distribute/custom_training#define_the_loss_function"
      ]
    },
    {
      "cell_type": "code",
      "metadata": {
        "id": "6kP9__W-k9mw",
        "outputId": "3f3a9717-dfdc-4431-f003-2728b1741b75",
        "colab": {
          "base_uri": "https://localhost:8080/",
          "height": 449
        }
      },
      "source": [
        "# Keras .fit API\n",
        "loss_fn = lambda y, p_y: -p_y.log_prob(y)\n",
        "# loss_fn = MeanSquaredError()\n",
        "\n",
        "def compute_loss(labels, predictions):\n",
        "    per_example_loss = loss_fn(labels, predictions)\n",
        "    return tf.nn.compute_average_loss(per_example_loss, global_batch_size=GLOBAL_BATCH_SIZE)\n",
        "\n",
        "with strategy.scope():\n",
        "    model = create_lstm_model_v2(**model_params)\n",
        "    model.compile(optimizer=Adam(learning_rate=1e-3),\n",
        "                experimental_steps_per_execution = 2,\n",
        "                loss=compute_loss,\n",
        "                metrics=['mean_absolute_error'])\n",
        "\n",
        "steps_per_epoch = 100\n",
        "validation_steps = 10\n",
        "\n",
        "callbacks = [\n",
        "    # tf.keras.callbacks.TensorBoard(log_dir='./logs'),\n",
        "    # tf.keras.callbacks.ModelCheckpoint(filepath=checkpoint_prefix, save_weights_only=True),\n",
        "    # tf.keras.callbacks.LearningRateScheduler(decay),\n",
        "]\n",
        "\n",
        "history = model.fit(train_data,\n",
        "          epochs=10,\n",
        "          steps_per_epoch=steps_per_epoch,\n",
        "          validation_data=valid_data, \n",
        "          validation_steps=validation_steps\n",
        "        #   callbacks=callbacks\n",
        "          )"
      ],
      "execution_count": null,
      "outputs": [
        {
          "output_type": "stream",
          "text": [
            "Epoch 1/10\n",
            " 10/100 [==>...........................] - ETA: 3:02 - loss: 979.5474 - mean_absolute_error: 1.1801 "
          ],
          "name": "stdout"
        },
        {
          "output_type": "error",
          "ename": "KeyboardInterrupt",
          "evalue": "ignored",
          "traceback": [
            "\u001b[0;31m---------------------------------------------------------------------------\u001b[0m",
            "\u001b[0;31mKeyboardInterrupt\u001b[0m                         Traceback (most recent call last)",
            "\u001b[0;32m<ipython-input-49-dd739b850b61>\u001b[0m in \u001b[0;36m<module>\u001b[0;34m()\u001b[0m\n\u001b[1;32m     27\u001b[0m           \u001b[0msteps_per_epoch\u001b[0m\u001b[0;34m=\u001b[0m\u001b[0msteps_per_epoch\u001b[0m\u001b[0;34m,\u001b[0m\u001b[0;34m\u001b[0m\u001b[0;34m\u001b[0m\u001b[0m\n\u001b[1;32m     28\u001b[0m           \u001b[0mvalidation_data\u001b[0m\u001b[0;34m=\u001b[0m\u001b[0mvalid_data\u001b[0m\u001b[0;34m,\u001b[0m\u001b[0;34m\u001b[0m\u001b[0;34m\u001b[0m\u001b[0m\n\u001b[0;32m---> 29\u001b[0;31m           \u001b[0mvalidation_steps\u001b[0m\u001b[0;34m=\u001b[0m\u001b[0mvalidation_steps\u001b[0m\u001b[0;34m\u001b[0m\u001b[0;34m\u001b[0m\u001b[0m\n\u001b[0m\u001b[1;32m     30\u001b[0m         \u001b[0;31m#   callbacks=callbacks\u001b[0m\u001b[0;34m\u001b[0m\u001b[0;34m\u001b[0m\u001b[0;34m\u001b[0m\u001b[0m\n\u001b[1;32m     31\u001b[0m           )\n",
            "\u001b[0;32m/usr/local/lib/python3.6/dist-packages/tensorflow/python/keras/engine/training.py\u001b[0m in \u001b[0;36m_method_wrapper\u001b[0;34m(self, *args, **kwargs)\u001b[0m\n\u001b[1;32m    106\u001b[0m   \u001b[0;32mdef\u001b[0m \u001b[0m_method_wrapper\u001b[0m\u001b[0;34m(\u001b[0m\u001b[0mself\u001b[0m\u001b[0;34m,\u001b[0m \u001b[0;34m*\u001b[0m\u001b[0margs\u001b[0m\u001b[0;34m,\u001b[0m \u001b[0;34m**\u001b[0m\u001b[0mkwargs\u001b[0m\u001b[0;34m)\u001b[0m\u001b[0;34m:\u001b[0m\u001b[0;34m\u001b[0m\u001b[0;34m\u001b[0m\u001b[0m\n\u001b[1;32m    107\u001b[0m     \u001b[0;32mif\u001b[0m \u001b[0;32mnot\u001b[0m \u001b[0mself\u001b[0m\u001b[0;34m.\u001b[0m\u001b[0m_in_multi_worker_mode\u001b[0m\u001b[0;34m(\u001b[0m\u001b[0;34m)\u001b[0m\u001b[0;34m:\u001b[0m  \u001b[0;31m# pylint: disable=protected-access\u001b[0m\u001b[0;34m\u001b[0m\u001b[0;34m\u001b[0m\u001b[0m\n\u001b[0;32m--> 108\u001b[0;31m       \u001b[0;32mreturn\u001b[0m \u001b[0mmethod\u001b[0m\u001b[0;34m(\u001b[0m\u001b[0mself\u001b[0m\u001b[0;34m,\u001b[0m \u001b[0;34m*\u001b[0m\u001b[0margs\u001b[0m\u001b[0;34m,\u001b[0m \u001b[0;34m**\u001b[0m\u001b[0mkwargs\u001b[0m\u001b[0;34m)\u001b[0m\u001b[0;34m\u001b[0m\u001b[0;34m\u001b[0m\u001b[0m\n\u001b[0m\u001b[1;32m    109\u001b[0m \u001b[0;34m\u001b[0m\u001b[0m\n\u001b[1;32m    110\u001b[0m     \u001b[0;31m# Running inside `run_distribute_coordinator` already.\u001b[0m\u001b[0;34m\u001b[0m\u001b[0;34m\u001b[0m\u001b[0;34m\u001b[0m\u001b[0m\n",
            "\u001b[0;32m/usr/local/lib/python3.6/dist-packages/tensorflow/python/keras/engine/training.py\u001b[0m in \u001b[0;36mfit\u001b[0;34m(self, x, y, batch_size, epochs, verbose, callbacks, validation_split, validation_data, shuffle, class_weight, sample_weight, initial_epoch, steps_per_epoch, validation_steps, validation_batch_size, validation_freq, max_queue_size, workers, use_multiprocessing)\u001b[0m\n\u001b[1;32m   1101\u001b[0m               \u001b[0mlogs\u001b[0m \u001b[0;34m=\u001b[0m \u001b[0mtmp_logs\u001b[0m  \u001b[0;31m# No error, now safe to assign to logs.\u001b[0m\u001b[0;34m\u001b[0m\u001b[0;34m\u001b[0m\u001b[0m\n\u001b[1;32m   1102\u001b[0m               \u001b[0mend_step\u001b[0m \u001b[0;34m=\u001b[0m \u001b[0mstep\u001b[0m \u001b[0;34m+\u001b[0m \u001b[0mdata_handler\u001b[0m\u001b[0;34m.\u001b[0m\u001b[0mstep_increment\u001b[0m\u001b[0;34m\u001b[0m\u001b[0;34m\u001b[0m\u001b[0m\n\u001b[0;32m-> 1103\u001b[0;31m               \u001b[0mcallbacks\u001b[0m\u001b[0;34m.\u001b[0m\u001b[0mon_train_batch_end\u001b[0m\u001b[0;34m(\u001b[0m\u001b[0mend_step\u001b[0m\u001b[0;34m,\u001b[0m \u001b[0mlogs\u001b[0m\u001b[0;34m)\u001b[0m\u001b[0;34m\u001b[0m\u001b[0;34m\u001b[0m\u001b[0m\n\u001b[0m\u001b[1;32m   1104\u001b[0m         \u001b[0mepoch_logs\u001b[0m \u001b[0;34m=\u001b[0m \u001b[0mcopy\u001b[0m\u001b[0;34m.\u001b[0m\u001b[0mcopy\u001b[0m\u001b[0;34m(\u001b[0m\u001b[0mlogs\u001b[0m\u001b[0;34m)\u001b[0m\u001b[0;34m\u001b[0m\u001b[0;34m\u001b[0m\u001b[0m\n\u001b[1;32m   1105\u001b[0m \u001b[0;34m\u001b[0m\u001b[0m\n",
            "\u001b[0;32m/usr/local/lib/python3.6/dist-packages/tensorflow/python/keras/callbacks.py\u001b[0m in \u001b[0;36mon_train_batch_end\u001b[0;34m(self, batch, logs)\u001b[0m\n\u001b[1;32m    438\u001b[0m     \"\"\"\n\u001b[1;32m    439\u001b[0m     \u001b[0;32mif\u001b[0m \u001b[0mself\u001b[0m\u001b[0;34m.\u001b[0m\u001b[0m_should_call_train_batch_hooks\u001b[0m\u001b[0;34m:\u001b[0m\u001b[0;34m\u001b[0m\u001b[0;34m\u001b[0m\u001b[0m\n\u001b[0;32m--> 440\u001b[0;31m       \u001b[0mself\u001b[0m\u001b[0;34m.\u001b[0m\u001b[0m_call_batch_hook\u001b[0m\u001b[0;34m(\u001b[0m\u001b[0mModeKeys\u001b[0m\u001b[0;34m.\u001b[0m\u001b[0mTRAIN\u001b[0m\u001b[0;34m,\u001b[0m \u001b[0;34m'end'\u001b[0m\u001b[0;34m,\u001b[0m \u001b[0mbatch\u001b[0m\u001b[0;34m,\u001b[0m \u001b[0mlogs\u001b[0m\u001b[0;34m=\u001b[0m\u001b[0mlogs\u001b[0m\u001b[0;34m)\u001b[0m\u001b[0;34m\u001b[0m\u001b[0;34m\u001b[0m\u001b[0m\n\u001b[0m\u001b[1;32m    441\u001b[0m \u001b[0;34m\u001b[0m\u001b[0m\n\u001b[1;32m    442\u001b[0m   \u001b[0;32mdef\u001b[0m \u001b[0mon_test_batch_begin\u001b[0m\u001b[0;34m(\u001b[0m\u001b[0mself\u001b[0m\u001b[0;34m,\u001b[0m \u001b[0mbatch\u001b[0m\u001b[0;34m,\u001b[0m \u001b[0mlogs\u001b[0m\u001b[0;34m=\u001b[0m\u001b[0;32mNone\u001b[0m\u001b[0;34m)\u001b[0m\u001b[0;34m:\u001b[0m\u001b[0;34m\u001b[0m\u001b[0;34m\u001b[0m\u001b[0m\n",
            "\u001b[0;32m/usr/local/lib/python3.6/dist-packages/tensorflow/python/keras/callbacks.py\u001b[0m in \u001b[0;36m_call_batch_hook\u001b[0;34m(self, mode, hook, batch, logs)\u001b[0m\n\u001b[1;32m    287\u001b[0m       \u001b[0mself\u001b[0m\u001b[0;34m.\u001b[0m\u001b[0m_call_batch_begin_hook\u001b[0m\u001b[0;34m(\u001b[0m\u001b[0mmode\u001b[0m\u001b[0;34m,\u001b[0m \u001b[0mbatch\u001b[0m\u001b[0;34m,\u001b[0m \u001b[0mlogs\u001b[0m\u001b[0;34m)\u001b[0m\u001b[0;34m\u001b[0m\u001b[0;34m\u001b[0m\u001b[0m\n\u001b[1;32m    288\u001b[0m     \u001b[0;32melif\u001b[0m \u001b[0mhook\u001b[0m \u001b[0;34m==\u001b[0m \u001b[0;34m'end'\u001b[0m\u001b[0;34m:\u001b[0m\u001b[0;34m\u001b[0m\u001b[0;34m\u001b[0m\u001b[0m\n\u001b[0;32m--> 289\u001b[0;31m       \u001b[0mself\u001b[0m\u001b[0;34m.\u001b[0m\u001b[0m_call_batch_end_hook\u001b[0m\u001b[0;34m(\u001b[0m\u001b[0mmode\u001b[0m\u001b[0;34m,\u001b[0m \u001b[0mbatch\u001b[0m\u001b[0;34m,\u001b[0m \u001b[0mlogs\u001b[0m\u001b[0;34m)\u001b[0m\u001b[0;34m\u001b[0m\u001b[0;34m\u001b[0m\u001b[0m\n\u001b[0m\u001b[1;32m    290\u001b[0m     \u001b[0;32melse\u001b[0m\u001b[0;34m:\u001b[0m\u001b[0;34m\u001b[0m\u001b[0;34m\u001b[0m\u001b[0m\n\u001b[1;32m    291\u001b[0m       \u001b[0;32mraise\u001b[0m \u001b[0mValueError\u001b[0m\u001b[0;34m(\u001b[0m\u001b[0;34m'Unrecognized hook: {}'\u001b[0m\u001b[0;34m.\u001b[0m\u001b[0mformat\u001b[0m\u001b[0;34m(\u001b[0m\u001b[0mhook\u001b[0m\u001b[0;34m)\u001b[0m\u001b[0;34m)\u001b[0m\u001b[0;34m\u001b[0m\u001b[0;34m\u001b[0m\u001b[0m\n",
            "\u001b[0;32m/usr/local/lib/python3.6/dist-packages/tensorflow/python/keras/callbacks.py\u001b[0m in \u001b[0;36m_call_batch_end_hook\u001b[0;34m(self, mode, batch, logs)\u001b[0m\n\u001b[1;32m    307\u001b[0m       \u001b[0mbatch_time\u001b[0m \u001b[0;34m=\u001b[0m \u001b[0mtime\u001b[0m\u001b[0;34m.\u001b[0m\u001b[0mtime\u001b[0m\u001b[0;34m(\u001b[0m\u001b[0;34m)\u001b[0m \u001b[0;34m-\u001b[0m \u001b[0mself\u001b[0m\u001b[0;34m.\u001b[0m\u001b[0m_batch_start_time\u001b[0m\u001b[0;34m\u001b[0m\u001b[0;34m\u001b[0m\u001b[0m\n\u001b[1;32m    308\u001b[0m \u001b[0;34m\u001b[0m\u001b[0m\n\u001b[0;32m--> 309\u001b[0;31m     \u001b[0mself\u001b[0m\u001b[0;34m.\u001b[0m\u001b[0m_call_batch_hook_helper\u001b[0m\u001b[0;34m(\u001b[0m\u001b[0mhook_name\u001b[0m\u001b[0;34m,\u001b[0m \u001b[0mbatch\u001b[0m\u001b[0;34m,\u001b[0m \u001b[0mlogs\u001b[0m\u001b[0;34m)\u001b[0m\u001b[0;34m\u001b[0m\u001b[0;34m\u001b[0m\u001b[0m\n\u001b[0m\u001b[1;32m    310\u001b[0m \u001b[0;34m\u001b[0m\u001b[0m\n\u001b[1;32m    311\u001b[0m     \u001b[0;32mif\u001b[0m \u001b[0mself\u001b[0m\u001b[0;34m.\u001b[0m\u001b[0m_check_timing\u001b[0m\u001b[0;34m:\u001b[0m\u001b[0;34m\u001b[0m\u001b[0;34m\u001b[0m\u001b[0m\n",
            "\u001b[0;32m/usr/local/lib/python3.6/dist-packages/tensorflow/python/keras/callbacks.py\u001b[0m in \u001b[0;36m_call_batch_hook_helper\u001b[0;34m(self, hook_name, batch, logs)\u001b[0m\n\u001b[1;32m    340\u001b[0m       \u001b[0mhook\u001b[0m \u001b[0;34m=\u001b[0m \u001b[0mgetattr\u001b[0m\u001b[0;34m(\u001b[0m\u001b[0mcallback\u001b[0m\u001b[0;34m,\u001b[0m \u001b[0mhook_name\u001b[0m\u001b[0;34m)\u001b[0m\u001b[0;34m\u001b[0m\u001b[0;34m\u001b[0m\u001b[0m\n\u001b[1;32m    341\u001b[0m       \u001b[0;32mif\u001b[0m \u001b[0mgetattr\u001b[0m\u001b[0;34m(\u001b[0m\u001b[0mcallback\u001b[0m\u001b[0;34m,\u001b[0m \u001b[0;34m'_supports_tf_logs'\u001b[0m\u001b[0;34m,\u001b[0m \u001b[0;32mFalse\u001b[0m\u001b[0;34m)\u001b[0m\u001b[0;34m:\u001b[0m\u001b[0;34m\u001b[0m\u001b[0;34m\u001b[0m\u001b[0m\n\u001b[0;32m--> 342\u001b[0;31m         \u001b[0mhook\u001b[0m\u001b[0;34m(\u001b[0m\u001b[0mbatch\u001b[0m\u001b[0;34m,\u001b[0m \u001b[0mlogs\u001b[0m\u001b[0;34m)\u001b[0m\u001b[0;34m\u001b[0m\u001b[0;34m\u001b[0m\u001b[0m\n\u001b[0m\u001b[1;32m    343\u001b[0m       \u001b[0;32melse\u001b[0m\u001b[0;34m:\u001b[0m\u001b[0;34m\u001b[0m\u001b[0;34m\u001b[0m\u001b[0m\n\u001b[1;32m    344\u001b[0m         \u001b[0;32mif\u001b[0m \u001b[0mnumpy_logs\u001b[0m \u001b[0;32mis\u001b[0m \u001b[0;32mNone\u001b[0m\u001b[0;34m:\u001b[0m  \u001b[0;31m# Only convert once.\u001b[0m\u001b[0;34m\u001b[0m\u001b[0;34m\u001b[0m\u001b[0m\n",
            "\u001b[0;32m/usr/local/lib/python3.6/dist-packages/tensorflow/python/keras/callbacks.py\u001b[0m in \u001b[0;36mon_train_batch_end\u001b[0;34m(self, batch, logs)\u001b[0m\n\u001b[1;32m    959\u001b[0m \u001b[0;34m\u001b[0m\u001b[0m\n\u001b[1;32m    960\u001b[0m   \u001b[0;32mdef\u001b[0m \u001b[0mon_train_batch_end\u001b[0m\u001b[0;34m(\u001b[0m\u001b[0mself\u001b[0m\u001b[0;34m,\u001b[0m \u001b[0mbatch\u001b[0m\u001b[0;34m,\u001b[0m \u001b[0mlogs\u001b[0m\u001b[0;34m=\u001b[0m\u001b[0;32mNone\u001b[0m\u001b[0;34m)\u001b[0m\u001b[0;34m:\u001b[0m\u001b[0;34m\u001b[0m\u001b[0;34m\u001b[0m\u001b[0m\n\u001b[0;32m--> 961\u001b[0;31m     \u001b[0mself\u001b[0m\u001b[0;34m.\u001b[0m\u001b[0m_batch_update_progbar\u001b[0m\u001b[0;34m(\u001b[0m\u001b[0mbatch\u001b[0m\u001b[0;34m,\u001b[0m \u001b[0mlogs\u001b[0m\u001b[0;34m)\u001b[0m\u001b[0;34m\u001b[0m\u001b[0;34m\u001b[0m\u001b[0m\n\u001b[0m\u001b[1;32m    962\u001b[0m \u001b[0;34m\u001b[0m\u001b[0m\n\u001b[1;32m    963\u001b[0m   \u001b[0;32mdef\u001b[0m \u001b[0mon_test_batch_end\u001b[0m\u001b[0;34m(\u001b[0m\u001b[0mself\u001b[0m\u001b[0;34m,\u001b[0m \u001b[0mbatch\u001b[0m\u001b[0;34m,\u001b[0m \u001b[0mlogs\u001b[0m\u001b[0;34m=\u001b[0m\u001b[0;32mNone\u001b[0m\u001b[0;34m)\u001b[0m\u001b[0;34m:\u001b[0m\u001b[0;34m\u001b[0m\u001b[0;34m\u001b[0m\u001b[0m\n",
            "\u001b[0;32m/usr/local/lib/python3.6/dist-packages/tensorflow/python/keras/callbacks.py\u001b[0m in \u001b[0;36m_batch_update_progbar\u001b[0;34m(self, batch, logs)\u001b[0m\n\u001b[1;32m   1014\u001b[0m     \u001b[0;32mif\u001b[0m \u001b[0mself\u001b[0m\u001b[0;34m.\u001b[0m\u001b[0mverbose\u001b[0m \u001b[0;34m==\u001b[0m \u001b[0;36m1\u001b[0m\u001b[0;34m:\u001b[0m\u001b[0;34m\u001b[0m\u001b[0;34m\u001b[0m\u001b[0m\n\u001b[1;32m   1015\u001b[0m       \u001b[0;31m# Only block async when verbose = 1.\u001b[0m\u001b[0;34m\u001b[0m\u001b[0;34m\u001b[0m\u001b[0;34m\u001b[0m\u001b[0m\n\u001b[0;32m-> 1016\u001b[0;31m       \u001b[0mlogs\u001b[0m \u001b[0;34m=\u001b[0m \u001b[0mtf_utils\u001b[0m\u001b[0;34m.\u001b[0m\u001b[0mto_numpy_or_python_type\u001b[0m\u001b[0;34m(\u001b[0m\u001b[0mlogs\u001b[0m\u001b[0;34m)\u001b[0m\u001b[0;34m\u001b[0m\u001b[0;34m\u001b[0m\u001b[0m\n\u001b[0m\u001b[1;32m   1017\u001b[0m       \u001b[0mself\u001b[0m\u001b[0;34m.\u001b[0m\u001b[0mprogbar\u001b[0m\u001b[0;34m.\u001b[0m\u001b[0mupdate\u001b[0m\u001b[0;34m(\u001b[0m\u001b[0mself\u001b[0m\u001b[0;34m.\u001b[0m\u001b[0mseen\u001b[0m\u001b[0;34m,\u001b[0m \u001b[0mlist\u001b[0m\u001b[0;34m(\u001b[0m\u001b[0mlogs\u001b[0m\u001b[0;34m.\u001b[0m\u001b[0mitems\u001b[0m\u001b[0;34m(\u001b[0m\u001b[0;34m)\u001b[0m\u001b[0;34m)\u001b[0m\u001b[0;34m,\u001b[0m \u001b[0mfinalize\u001b[0m\u001b[0;34m=\u001b[0m\u001b[0;32mFalse\u001b[0m\u001b[0;34m)\u001b[0m\u001b[0;34m\u001b[0m\u001b[0;34m\u001b[0m\u001b[0m\n\u001b[1;32m   1018\u001b[0m \u001b[0;34m\u001b[0m\u001b[0m\n",
            "\u001b[0;32m/usr/local/lib/python3.6/dist-packages/tensorflow/python/keras/utils/tf_utils.py\u001b[0m in \u001b[0;36mto_numpy_or_python_type\u001b[0;34m(tensors)\u001b[0m\n\u001b[1;32m    535\u001b[0m     \u001b[0;32mreturn\u001b[0m \u001b[0mt\u001b[0m  \u001b[0;31m# Don't turn ragged or sparse tensors to NumPy.\u001b[0m\u001b[0;34m\u001b[0m\u001b[0;34m\u001b[0m\u001b[0m\n\u001b[1;32m    536\u001b[0m \u001b[0;34m\u001b[0m\u001b[0m\n\u001b[0;32m--> 537\u001b[0;31m   \u001b[0;32mreturn\u001b[0m \u001b[0mnest\u001b[0m\u001b[0;34m.\u001b[0m\u001b[0mmap_structure\u001b[0m\u001b[0;34m(\u001b[0m\u001b[0m_to_single_numpy_or_python_type\u001b[0m\u001b[0;34m,\u001b[0m \u001b[0mtensors\u001b[0m\u001b[0;34m)\u001b[0m\u001b[0;34m\u001b[0m\u001b[0;34m\u001b[0m\u001b[0m\n\u001b[0m\u001b[1;32m    538\u001b[0m \u001b[0;34m\u001b[0m\u001b[0m\n\u001b[1;32m    539\u001b[0m \u001b[0;34m\u001b[0m\u001b[0m\n",
            "\u001b[0;32m/usr/local/lib/python3.6/dist-packages/tensorflow/python/util/nest.py\u001b[0m in \u001b[0;36mmap_structure\u001b[0;34m(func, *structure, **kwargs)\u001b[0m\n\u001b[1;32m    633\u001b[0m \u001b[0;34m\u001b[0m\u001b[0m\n\u001b[1;32m    634\u001b[0m   return pack_sequence_as(\n\u001b[0;32m--> 635\u001b[0;31m       \u001b[0mstructure\u001b[0m\u001b[0;34m[\u001b[0m\u001b[0;36m0\u001b[0m\u001b[0;34m]\u001b[0m\u001b[0;34m,\u001b[0m \u001b[0;34m[\u001b[0m\u001b[0mfunc\u001b[0m\u001b[0;34m(\u001b[0m\u001b[0;34m*\u001b[0m\u001b[0mx\u001b[0m\u001b[0;34m)\u001b[0m \u001b[0;32mfor\u001b[0m \u001b[0mx\u001b[0m \u001b[0;32min\u001b[0m \u001b[0mentries\u001b[0m\u001b[0;34m]\u001b[0m\u001b[0;34m,\u001b[0m\u001b[0;34m\u001b[0m\u001b[0;34m\u001b[0m\u001b[0m\n\u001b[0m\u001b[1;32m    636\u001b[0m       expand_composites=expand_composites)\n\u001b[1;32m    637\u001b[0m \u001b[0;34m\u001b[0m\u001b[0m\n",
            "\u001b[0;32m/usr/local/lib/python3.6/dist-packages/tensorflow/python/util/nest.py\u001b[0m in \u001b[0;36m<listcomp>\u001b[0;34m(.0)\u001b[0m\n\u001b[1;32m    633\u001b[0m \u001b[0;34m\u001b[0m\u001b[0m\n\u001b[1;32m    634\u001b[0m   return pack_sequence_as(\n\u001b[0;32m--> 635\u001b[0;31m       \u001b[0mstructure\u001b[0m\u001b[0;34m[\u001b[0m\u001b[0;36m0\u001b[0m\u001b[0;34m]\u001b[0m\u001b[0;34m,\u001b[0m \u001b[0;34m[\u001b[0m\u001b[0mfunc\u001b[0m\u001b[0;34m(\u001b[0m\u001b[0;34m*\u001b[0m\u001b[0mx\u001b[0m\u001b[0;34m)\u001b[0m \u001b[0;32mfor\u001b[0m \u001b[0mx\u001b[0m \u001b[0;32min\u001b[0m \u001b[0mentries\u001b[0m\u001b[0;34m]\u001b[0m\u001b[0;34m,\u001b[0m\u001b[0;34m\u001b[0m\u001b[0;34m\u001b[0m\u001b[0m\n\u001b[0m\u001b[1;32m    636\u001b[0m       expand_composites=expand_composites)\n\u001b[1;32m    637\u001b[0m \u001b[0;34m\u001b[0m\u001b[0m\n",
            "\u001b[0;32m/usr/local/lib/python3.6/dist-packages/tensorflow/python/keras/utils/tf_utils.py\u001b[0m in \u001b[0;36m_to_single_numpy_or_python_type\u001b[0;34m(t)\u001b[0m\n\u001b[1;32m    531\u001b[0m   \u001b[0;32mdef\u001b[0m \u001b[0m_to_single_numpy_or_python_type\u001b[0m\u001b[0;34m(\u001b[0m\u001b[0mt\u001b[0m\u001b[0;34m)\u001b[0m\u001b[0;34m:\u001b[0m\u001b[0;34m\u001b[0m\u001b[0;34m\u001b[0m\u001b[0m\n\u001b[1;32m    532\u001b[0m     \u001b[0;32mif\u001b[0m \u001b[0misinstance\u001b[0m\u001b[0;34m(\u001b[0m\u001b[0mt\u001b[0m\u001b[0;34m,\u001b[0m \u001b[0mops\u001b[0m\u001b[0;34m.\u001b[0m\u001b[0mTensor\u001b[0m\u001b[0;34m)\u001b[0m\u001b[0;34m:\u001b[0m\u001b[0;34m\u001b[0m\u001b[0;34m\u001b[0m\u001b[0m\n\u001b[0;32m--> 533\u001b[0;31m       \u001b[0mx\u001b[0m \u001b[0;34m=\u001b[0m \u001b[0mt\u001b[0m\u001b[0;34m.\u001b[0m\u001b[0mnumpy\u001b[0m\u001b[0;34m(\u001b[0m\u001b[0;34m)\u001b[0m\u001b[0;34m\u001b[0m\u001b[0;34m\u001b[0m\u001b[0m\n\u001b[0m\u001b[1;32m    534\u001b[0m       \u001b[0;32mreturn\u001b[0m \u001b[0mx\u001b[0m\u001b[0;34m.\u001b[0m\u001b[0mitem\u001b[0m\u001b[0;34m(\u001b[0m\u001b[0;34m)\u001b[0m \u001b[0;32mif\u001b[0m \u001b[0mnp\u001b[0m\u001b[0;34m.\u001b[0m\u001b[0mndim\u001b[0m\u001b[0;34m(\u001b[0m\u001b[0mx\u001b[0m\u001b[0;34m)\u001b[0m \u001b[0;34m==\u001b[0m \u001b[0;36m0\u001b[0m \u001b[0;32melse\u001b[0m \u001b[0mx\u001b[0m\u001b[0;34m\u001b[0m\u001b[0;34m\u001b[0m\u001b[0m\n\u001b[1;32m    535\u001b[0m     \u001b[0;32mreturn\u001b[0m \u001b[0mt\u001b[0m  \u001b[0;31m# Don't turn ragged or sparse tensors to NumPy.\u001b[0m\u001b[0;34m\u001b[0m\u001b[0;34m\u001b[0m\u001b[0m\n",
            "\u001b[0;32m/usr/local/lib/python3.6/dist-packages/tensorflow/python/framework/ops.py\u001b[0m in \u001b[0;36mnumpy\u001b[0;34m(self)\u001b[0m\n\u001b[1;32m   1061\u001b[0m     \"\"\"\n\u001b[1;32m   1062\u001b[0m     \u001b[0;31m# TODO(slebedev): Consider avoiding a copy for non-CPU or remote tensors.\u001b[0m\u001b[0;34m\u001b[0m\u001b[0;34m\u001b[0m\u001b[0;34m\u001b[0m\u001b[0m\n\u001b[0;32m-> 1063\u001b[0;31m     \u001b[0mmaybe_arr\u001b[0m \u001b[0;34m=\u001b[0m \u001b[0mself\u001b[0m\u001b[0;34m.\u001b[0m\u001b[0m_numpy\u001b[0m\u001b[0;34m(\u001b[0m\u001b[0;34m)\u001b[0m  \u001b[0;31m# pylint: disable=protected-access\u001b[0m\u001b[0;34m\u001b[0m\u001b[0;34m\u001b[0m\u001b[0m\n\u001b[0m\u001b[1;32m   1064\u001b[0m     \u001b[0;32mreturn\u001b[0m \u001b[0mmaybe_arr\u001b[0m\u001b[0;34m.\u001b[0m\u001b[0mcopy\u001b[0m\u001b[0;34m(\u001b[0m\u001b[0;34m)\u001b[0m \u001b[0;32mif\u001b[0m \u001b[0misinstance\u001b[0m\u001b[0;34m(\u001b[0m\u001b[0mmaybe_arr\u001b[0m\u001b[0;34m,\u001b[0m \u001b[0mnp\u001b[0m\u001b[0;34m.\u001b[0m\u001b[0mndarray\u001b[0m\u001b[0;34m)\u001b[0m \u001b[0;32melse\u001b[0m \u001b[0mmaybe_arr\u001b[0m\u001b[0;34m\u001b[0m\u001b[0;34m\u001b[0m\u001b[0m\n\u001b[1;32m   1065\u001b[0m \u001b[0;34m\u001b[0m\u001b[0m\n",
            "\u001b[0;32m/usr/local/lib/python3.6/dist-packages/tensorflow/python/framework/ops.py\u001b[0m in \u001b[0;36m_numpy\u001b[0;34m(self)\u001b[0m\n\u001b[1;32m   1027\u001b[0m   \u001b[0;32mdef\u001b[0m \u001b[0m_numpy\u001b[0m\u001b[0;34m(\u001b[0m\u001b[0mself\u001b[0m\u001b[0;34m)\u001b[0m\u001b[0;34m:\u001b[0m\u001b[0;34m\u001b[0m\u001b[0;34m\u001b[0m\u001b[0m\n\u001b[1;32m   1028\u001b[0m     \u001b[0;32mtry\u001b[0m\u001b[0;34m:\u001b[0m\u001b[0;34m\u001b[0m\u001b[0;34m\u001b[0m\u001b[0m\n\u001b[0;32m-> 1029\u001b[0;31m       \u001b[0;32mreturn\u001b[0m \u001b[0mself\u001b[0m\u001b[0;34m.\u001b[0m\u001b[0m_numpy_internal\u001b[0m\u001b[0;34m(\u001b[0m\u001b[0;34m)\u001b[0m\u001b[0;34m\u001b[0m\u001b[0;34m\u001b[0m\u001b[0m\n\u001b[0m\u001b[1;32m   1030\u001b[0m     \u001b[0;32mexcept\u001b[0m \u001b[0mcore\u001b[0m\u001b[0;34m.\u001b[0m\u001b[0m_NotOkStatusException\u001b[0m \u001b[0;32mas\u001b[0m \u001b[0me\u001b[0m\u001b[0;34m:\u001b[0m  \u001b[0;31m# pylint: disable=protected-access\u001b[0m\u001b[0;34m\u001b[0m\u001b[0;34m\u001b[0m\u001b[0m\n\u001b[1;32m   1031\u001b[0m       \u001b[0msix\u001b[0m\u001b[0;34m.\u001b[0m\u001b[0mraise_from\u001b[0m\u001b[0;34m(\u001b[0m\u001b[0mcore\u001b[0m\u001b[0;34m.\u001b[0m\u001b[0m_status_to_exception\u001b[0m\u001b[0;34m(\u001b[0m\u001b[0me\u001b[0m\u001b[0;34m.\u001b[0m\u001b[0mcode\u001b[0m\u001b[0;34m,\u001b[0m \u001b[0me\u001b[0m\u001b[0;34m.\u001b[0m\u001b[0mmessage\u001b[0m\u001b[0;34m)\u001b[0m\u001b[0;34m,\u001b[0m \u001b[0;32mNone\u001b[0m\u001b[0;34m)\u001b[0m  \u001b[0;31m# pylint: disable=protected-access\u001b[0m\u001b[0;34m\u001b[0m\u001b[0;34m\u001b[0m\u001b[0m\n",
            "\u001b[0;31mKeyboardInterrupt\u001b[0m: "
          ]
        }
      ]
    },
    {
      "cell_type": "code",
      "metadata": {
        "id": "XDzghVo4jV79",
        "outputId": "2fd58db4-e871-4e24-bb75-827bcdfc2d25",
        "colab": {
          "base_uri": "https://localhost:8080/",
          "height": 395
        }
      },
      "source": [
        "def display_training_curves(training, validation, title, subplot, yscale='linear'):\n",
        "  ax = plt.subplot(subplot)\n",
        "  ax.plot(training)\n",
        "  ax.plot(validation)\n",
        "  ax.set_title('model '+ title)\n",
        "  ax.set_ylabel(title)\n",
        "  ax.set_xlabel('epoch')\n",
        "  ax.legend(['training', 'validation'])\n",
        "  plt.yscale(yscale)\n",
        "\n",
        "plt.subplots(figsize=(10,5))\n",
        "plt.tight_layout()\n",
        "display_training_curves(history.history['mean_absolute_error'], history.history['val_mean_absolute_error'], 'mean_absolute_error', 121, yscale='log')\n",
        "display_training_curves(history.history['loss'], history.history['val_loss'], 'loss', 122)"
      ],
      "execution_count": null,
      "outputs": [
        {
          "output_type": "display_data",
          "data": {
            "image/png": "[encoded data removed]",
            "text/plain": [
              "<Figure size 720x360 with 2 Axes>"
            ]
          },
          "metadata": {
            "tags": [],
            "needs_background": "light"
          }
        }
      ]
    },
    {
      "cell_type": "code",
      "metadata": {
        "id": "H5i0ENBEDD7a"
      },
      "source": [
        "# For doing custom TPU training loops\n",
        "\n",
        "# @tf.function\n",
        "# def train_step(iterator):\n",
        "#   \"\"\"The step function for one training step\"\"\"\n",
        "\n",
        "#   def step_fn(inputs):\n",
        "#     \"\"\"The computation to run on each TPU device.\"\"\"\n",
        "#     images, labels = inputs\n",
        "#     with tf.GradientTape() as tape:\n",
        "#       logits = model(images, training=True)\n",
        "#       loss = tf.keras.losses.sparse_categorical_crossentropy(\n",
        "#           labels, logits, from_logits=True)\n",
        "#       loss = tf.nn.compute_average_loss(loss, global_batch_size=batch_size)\n",
        "#     grads = tape.gradient(loss, model.trainable_variables)\n",
        "#     optimizer.apply_gradients(list(zip(grads, model.trainable_variables)))\n",
        "#     training_loss.update_state(loss * strategy.num_replicas_in_sync)\n",
        "#     # training_accuracy.update_state(labels, logits)\n",
        "\n",
        "#   strategy.run(step_fn, args=(next(iterator),))"
      ],
      "execution_count": null,
      "outputs": []
    },
    {
      "cell_type": "markdown",
      "metadata": {
        "id": "kgNu4nrfflyj"
      },
      "source": [
        ""
      ]
    },
    {
      "cell_type": "code",
      "metadata": {
        "id": "EtsFSQOZfjbP",
        "outputId": "7f812bb1-f74d-428c-869f-569f5a35f38f",
        "colab": {
          "base_uri": "https://localhost:8080/",
          "height": 85
        }
      },
      "source": [
        "import time\n",
        "import pandaRL\n",
        "import gym\n",
        "import matplotlib.pyplot as plt \n",
        "from IPython.display import display, clear_output\n",
        "import imageio\n",
        "import eval\n",
        "\n",
        "if RELATIVE_JOINTS:\n",
        "  env = gym.make('pandaPlayJoints1Obj-v0')\n",
        "else:\n",
        "  env =  gym.make('pandaPlay-v0')\n",
        "env.reset()\n",
        "env.render('playback')"
      ],
      "execution_count": null,
      "outputs": [
        {
          "output_type": "stream",
          "text": [
            "current_dir=/content/local_packages/pandaRL/pandaRL/envs\n",
            "/content/local_packages/pandaRL/pandaRL/envs\n"
          ],
          "name": "stdout"
        },
        {
          "output_type": "stream",
          "text": [
            "/usr/local/lib/python3.6/dist-packages/gym/logger.py:30: UserWarning: \u001b[33mWARN: Box bound precision lowered by casting to float32\u001b[0m\n",
            "  warnings.warn(colorize('%s: %s'%('WARN', msg % args), 'yellow'))\n"
          ],
          "name": "stderr"
        }
      ]
    },
    {
      "cell_type": "code",
      "metadata": {
        "id": "zY_XBRqvmCq7"
      },
      "source": [
        "# model.save_weights('/content/drive/My Drive/Robotic Learning/inference_model.h5')"
      ],
      "execution_count": null,
      "outputs": []
    },
    {
      "cell_type": "code",
      "metadata": {
        "id": "n_HaModhNMjN"
      },
      "source": [
        "inference_model = create_lstm_model_v2(**model_params, training=False)\n",
        "inference_model.set_weights(model.get_weights())\n",
        "# inference_model.load_weights('/content/drive/My Drive/Robotic Learning/inference_model.h5')"
      ],
      "execution_count": null,
      "outputs": []
    },
    {
      "cell_type": "code",
      "metadata": {
        "id": "BkQjdfMSsFgk"
      },
      "source": [
        "f = 14 # 51\n",
        "eval_data = np.load(PYBULLET_DATA_DIR+'/obs_act_etc/'+str(f)+'/data.npz')\n",
        "potential_start_points = glob.glob(PYBULLET_DATA_DIR+'/states_and_ims/'+str(f)+'/env_states/*.bullet')\n",
        "\n",
        "observations = eval_data['obs']\n",
        "achieved_goals = eval_data['achieved_goals']\n",
        "if RELATIVE_JOINTS:\n",
        "  joints = eval_data['target_poses'] - eval_data['joint_poses'][:,:7]\n",
        "  gripper = np.expand_dims(eval_data['acts'][:, -1], -1)\n",
        "  actions = np.concatenate([joints,gripper], -1) \n",
        "else:\n",
        "  actions = eval_data['acts']\n",
        "\n",
        "def get_random_start_point(potential_start_points):\n",
        "    idx = np.random.choice(len(potential_start_points))\n",
        "    path = potential_start_points[idx]\n",
        "    tstep = int(path.split(\"/\")[-1].replace('.bullet',''))\n",
        "    return path, tstep"
      ],
      "execution_count": null,
      "outputs": []
    },
    {
      "cell_type": "markdown",
      "metadata": {
        "id": "j8Tl464nd-g2"
      },
      "source": [
        ""
      ]
    },
    {
      "cell_type": "code",
      "metadata": {
        "id": "Y_Vk0z3MsbTi",
        "outputId": "7b2afc46-594a-4e2a-ee04-454237c9f3b8",
        "colab": {
          "base_uri": "https://localhost:8080/",
          "height": 269
        }
      },
      "source": [
        "# Play out action histories\n",
        "f = 14 # 51\n",
        "eval_data = np.load(PYBULLET_DATA_DIR+'/obs_act_etc/'+str(f)+'/data.npz')\n",
        "potential_start_points = glob.glob(PYBULLET_DATA_DIR+'/states_and_ims/'+str(f)+'/env_states/*.bullet')\n",
        "\n",
        "observations = eval_data['obs']\n",
        "achieved_goals = eval_data['achieved_goals']\n",
        "if RELATIVE_JOINTS:\n",
        "  joints = eval_data['target_poses'] - eval_data['joint_poses'][:,:7]\n",
        "  gripper = np.expand_dims(eval_data['acts'][:, -1], -1)\n",
        "  actions = np.concatenate([joints,gripper], -1) \n",
        "else:\n",
        "  actions = eval_data['acts']\n",
        "\n",
        "def get_random_start_point(potential_start_points):\n",
        "    idx = np.random.choice(len(potential_start_points))\n",
        "    path = potential_start_points[idx]\n",
        "    tstep = int(path.split(\"/\")[-1].replace('.bullet',''))\n",
        "    return path, tstep\n",
        "    \n",
        "path, start = get_random_start_point(potential_start_points)\n",
        "env.p.restoreState(fileName=path)\n",
        "\n",
        "vid_path = 'output/videos/trajectory.mp4'\n",
        "with imageio.get_writer(vid_path, mode='I') as writer:\n",
        "    for i in range(start, start+60):\n",
        "        o ,r, d, _ = env.step(actions[i,:])\n",
        "        writer.append_data(o['img'])\n",
        "        clear_output(wait=True)\n",
        "        fig = plt.imshow(o['img'])\n",
        "        plt.show()\n",
        "        time.sleep(0.01)"
      ],
      "execution_count": null,
      "outputs": [
        {
          "output_type": "display_data",
          "data": {
            "image/png": "[encoded data removed]",
            "text/plain": [
              "<Figure size 432x288 with 1 Axes>"
            ]
          },
          "metadata": {
            "tags": [],
            "needs_background": "light"
          }
        }
      ]
    },
    {
      "cell_type": "code",
      "metadata": {
        "id": "wwSAAw6NPmpS",
        "outputId": "3d8f42ba-359b-4ba8-9328-031f400ba016",
        "colab": {
          "base_uri": "https://localhost:8080/",
          "height": 269
        }
      },
      "source": [
        "# Play out stateful model predictions\n",
        "path, start = get_random_start_point(potential_start_points)\n",
        "env.p.restoreState(fileName=path)\n",
        "\n",
        "vid_path = 'output/videos/trajectory.mp4'\n",
        "\n",
        "eval_seq_len = 60\n",
        "obs_in = observations[start][tf.newaxis,tf.newaxis,:]\n",
        "g_in = achieved_goals[start+eval_seq_len][tf.newaxis,tf.newaxis,:] # same as two expand_dims\n",
        "inference_model.reset_states()\n",
        "\n",
        "eval_obs = []\n",
        "eval_acts = []\n",
        "\n",
        "with imageio.get_writer(vid_path, mode='I') as writer:\n",
        "    for i in range(start, start+eval_seq_len):\n",
        "        a = inference_model([obs_in, g_in]).sample()[0,0,:] # Reduce to 1d\n",
        "        o ,r, d, _ = env.step(a)\n",
        "        obs_in = o['observation'][tf.newaxis,tf.newaxis,:]\n",
        "        writer.append_data(o['img'])\n",
        "        clear_output(wait=True)\n",
        "        fig = plt.imshow(o['img'])\n",
        "        plt.show()\n",
        "\n",
        "        eval_obs.append(o['observation'])\n",
        "        eval_acts.append(a)\n",
        "    inference_model.reset_states()\n",
        "\n",
        "eval_obs = np.vstack(eval_obs)\n",
        "eval_acts = np.vstack(eval_acts)"
      ],
      "execution_count": null,
      "outputs": [
        {
          "output_type": "display_data",
          "data": {
            "image/png": "[encoded data removed]",
            "text/plain": [
              "<Figure size 432x288 with 1 Axes>"
            ]
          },
          "metadata": {
            "tags": [],
            "needs_background": "light"
          }
        }
      ]
    },
    {
      "cell_type": "code",
      "metadata": {
        "id": "NCPwvA7V6ZWh",
        "outputId": "58b49f17-7821-4146-d6fd-c8e921e91acf",
        "colab": {
          "base_uri": "https://localhost:8080/",
          "height": 321
        }
      },
      "source": [
        "eval.render_mp4(vid_path)"
      ],
      "execution_count": null,
      "outputs": [
        {
          "output_type": "execute_result",
          "data": {
            "text/html": [
              "\n",
              "                <video width=\"300\" height=\"300\" controls>\n",
              "                <source src=\"data:video/mp4;base64,AAAAIGZ0eXBpc29tAAACAGlzb21pc28yYXZjMW1wNDEAAAAIZnJlZQAAjJNtZGF0AAACrgYF//+q3EXpvebZSLeWLNgg2SPu73gyNjQgLSBjb3JlIDE1MiByMjg1NCBlOWE1OTAzIC0gSC4yNjQvTVBFRy00IEFWQyBjb2RlYyAtIENvcHlsZWZ0IDIwMDMtMjAxNyAtIGh0dHA6Ly93d3cudmlkZW9sYW4ub3JnL3gyNjQuaHRtbCAtIG9wdGlvbnM6IGNhYmFjPTEgcmVmPTMgZGVibG9jaz0xOjA6MCBhbmFseXNlPTB4MzoweDExMyBtZT1oZXggc3VibWU9NyBwc3k9MSBwc3lfcmQ9MS4wMDowLjAwIG1peGVkX3JlZj0xIG1lX3JhbmdlPTE2IGNocm9tYV9tZT0xIHRyZWxsaXM9MSA4eDhkY3Q9MSBjcW09MCBkZWFkem9uZT0yMSwxMSBmYXN0X3Bza2lwPTEgY2hyb21hX3FwX29mZnNldD0tMiB0aHJlYWRzPTYgbG9va2FoZWFkX3RocmVhZHM9MSBzbGljZWRfdGhyZWFkcz0wIG5yPTAgZGVjaW1hdGU9MSBpbnRlcmxhY2VkPTAgYmx1cmF5X2NvbXBhdD0wIGNvbnN0cmFpbmVkX2ludHJhPTAgYmZyYW1lcz0zIGJfcHlyYW1pZD0yIGJfYWRhcHQ9MSBiX2JpYXM9MCBkaXJlY3Q9MSB3ZWlnaHRiPTEgb3Blbl9nb3A9MCB3ZWlnaHRwPTIga2V5aW50PTI1MCBrZXlpbnRfbWluPTEwIHNjZW5lY3V0PTQwIGludHJhX3JlZnJlc2g9MCByY19sb29rYWhlYWQ9NDAgcmM9Y3JmIG1idHJlZT0xIGNyZj0yNS4wIHFjb21wPTAuNjAgcXBtaW49MCBxcG1heD02OSBxcHN0ZXA9NCBpcF9yYXRpbz0xLjQwIGFxPTE6MS4wMACAAAAWJGWIhAF/5ApC4++3+9enLZ/hNdHfov4FStVpJS+hLiUKh8jcqLYKH6+MzmbNOwgH9FFwKuHBQiRzCQKs1ItYO1z1bAVZ8+JBHsxxYgAfJ/8zGCeaKebabFbal80AEriLc0g9s7YZjqfGZYQQHZfjPdKWKYWRzyefuNJo6KOup0dbFrEr9ptIa11XCV2sLMEIoeuWKEO0Z0CnSeXqP7X1MNMSTMFIbOGqglns/90RYzVtWsfhNs8dpWhwziOpUVlfbDUgeIXCd8mq5n8/UeATX8uDwH5EsBAqwzGiG9MXaDP+dmQp7fd/J6+NtrJj2gY1+KTk0g1ZbdQ1YsYHi9Uuqp9RsO/qJs+c6500aizr2wZPItM5LrpfWhNP+ZGQSG5tSDzcpMYjkrCT4sncRdp9Fsh7kJfjpBl4HDnd6vUOpT/gHU5m2/31vEu1AkHEbe1jkgjhymn3t7zCsWrisU63YyQTj6y/9khMBnFxL4iOBgd1qgcrl10geF+1/L9l1XLulV1CL/WxtJgTFAbj55Tf7tx1xGtEomnXscuEIm4/WjCEDRgsNpWmoQgfW7yKhuZgEN8+NE3w5Mh3csJY20QGpry4rZZS2M+CXOg3vYebDRelfuMgxBl/Xd8xJhl5YoeUCQfIXqZOwIi1hjX4ySv/OpNGlggywwWue+6xucb41UHKbYwRxXMNsVxUMLrpVQ7AZxioeitHobgWScAvwmJ3O0Nh4k8syJx0/5iBKNry8faKHDFUD9YFmheY+uWnYZviA416q4yjWD/9agoj/xOaxveBr1vuSc8moOfkDbEJdLQkwLC+ccsKJ2gOLNfRz0Se1Z3at750pCx53GzR4Y/iuU/i5QpiK5ka452xIxKzTFVv6pbCGyz5ulwjnONhC4jJA6Tg0py65UshsKQlFlweR9yvp7FsFfLhQFbSCI3bqUGgvX61Dwq0lZ7ysVDhuf6PQV/y5Cu6q8WIbq0W4iYJPAaM+W3y4WaNpeHjJ6OV2gKcs6het0yZAcMzH6tfx8mjKz+XhK7l6JHepes9kjinKv2VJEOS5djjyUY6KkCV8LMSLBJ/4V1xwQfVhtSzuQ1FVnlnLXEWTWc5vQGPOFQf2bEFuHOcoMZxg2ftrF0w+d7H7Z3T70CvqsExOdai8oduowPeekslrwhK0O6ExEFQMlIT1OUgufcL038VSSJEdJShTpFItKzKcGqFLaOBJ3qaq8YxiNNnavqqTi87z0/KctAGwWkTAMm+VisEAtDa8FMcaB6ppXKyj3vhEQ35yhtA3tTbC1E3twb/2+idMIE7z9Qpit5EJD5qYzPknWphEcJOqRaZk3VYZrWW6S8prRHaJtZypi1Z45gdQwAVxcSJxlvTFWndiS8fNlEkSh3rsim30FYf1WFIQTAz3mMvb8FcCkyYhfdqE9FpOzlI2pT3Y6frk5jCYjpbgExArnId5/YC4Ngt39JH09I/rEQXTBCwvwYQhq8pDxdgZqxRBxvreo8gzn04elWnILcNUr1YUpYFI1ZQzjgRHEvMoSGEOpaFcExumBWgMmZExCp04ZFe/yiNBr9sDRSUHXtfeP+KH+ubIfLvxF4Od4HcYvmJdKqvrPGLTngwI/TnLpTxo3s+XWX9hi/HUmPYpu/Q93TVWMEZJ6EPoOAcv6avndfXEJQt0ty6cTC+auAiQT5RMv5nPZuf5WIxeeWDIAz1CZdW3aHeqOkdkkNjyxIDqNeWEfwfId1kI9DlawhLpCEaB2MZGJGiruj/YRE7jjID75jjnyz14vT8tK8XZ6O8z+aCUpKoBHv3rYaVkQgjPRJux0g5X8i01MAMgWd4zv8LBMmTBRAZrVIT6qGClMhIKkOylAOr8zsgzHh2rKjzePswUwHwDRw+RpFAZ1CfdOj4EU1y0ziscGPiPjO14CpjR12Oh5FfDvCsyTnrFQDsVsRtOw0TJfhV0GAx3v0fazL9RHfBxjcUV7xzdaKortjaKzWu2e632opStbuUA0Gtl9XdNrMW2UGkV5QrBJvsz7qbhI2n9zNy2DxdXeE3YrZuL8ceRx7Isca+Aro9jYXlf9L6YGSRPg4X25llqWyARXCSc0RWky6FPTT/Vl/N3IEy1A+t4nzU8Rta04BBaBTqQanoMgAask7x+G4CsRqAAxDLMd61eToG0ErVcO25TUrquc4s05ys2aXIzyf+nY48RFkjzCmdfoGgl9svCgmUyeiEDVOVtQqizAk2+4fRo4j6UB6pK82gY373ynRw4XQKynsIZgufaAeGm/vJjY6t1r0OI9irZBjePQCNp5Cml3fB8mCMrvck+4MPwx/mK7ZY2PhoLl3OG0cxI1zj1TnYTZ7TGG7u9b4Z1tkBjcfGjM6h+aG8o78aoWLWPZx8iNOaCXIKpkQLfqnJdukLliN94a2tBCGEcP6sXz3rSCiSzvRUKk3LE+ql4H1TD4MYDHTJ3g2vZ51F/GiphV0BDxKdAXF3+7DDeCi2ecqpNj9V800nxR89BPoALjZKsS2mvdTcWHOzKoYw3Eb1NUUUzzy1NoPfwCoJlvTRuPYULcCnIXHPiUvR2qlsRKXVSoH7ZsckXXidlv/WIRr35mXiSLydu01BkuENt+0UpaRnYmVkxT58MfLM2GWx/xPrzGdX1V1oHtXlS11JJKiRDuRUdgwA+6d6WHbi3u8hCvWL+Ew20psYQIFfsR2QbPmoSlfBrXxMFsYg2+ckwIIXDXf9khPr8CO+iuJdMYhVqfnvC/f1sagbPdz5DvcUopSBlCrtNqynKD3XjAdz5Jx9lKlOpqoOOcqv3dpTpUzChuqAAAEW22+elIrwkBlsmNFCqBPRx2JmTJWuouIofTAsS02DugK/44nq3u7cMxX/lj7JIh4Fow3Yr4fmvGf4j3BEi9ys02lCP167b+V9ukuAhMCwkMS9kRzu0hBZBjsa9IsjtQp97JGiS3ny3KZDBh893LoVC/8xLGTmeH+qfWwE1uSv3m176c+hzhUCCIRotdOKOvx5Y59PZuTQ9grtRSasKNM146Fq/jv1VAv6ijtaLziu0lRgd6+nq63AQDfimiFI5shgkbteTqHXlt1sZRKcFAylKNWxw2CMdLQBj+h2cZh1gwLH/96UJw5M76xpcHp8BqCdl+5da0zGsqVc5jRyQ71xZ/QdqcUzocHXGWj5W3os1seb1RIBHifxh15NzU/UwUXTQBUqh0OQn0H7uWTgg/XwRP6ZK+JMOq/To+WWXWvZrLbhULiajpFyG4mvMK8eWHxq+iiQb3I6P4/rRqIDyQSJvuMQ02PnPKe7QKcmuwlHVzkJ+k8ha0ZPY8byXsbEILzhaILOOvv0/hjMzkIxAjPjhpzTHeWgpjP8oW+3A739leRe61VvOOoQdsHDX5BS8yqEO9hbN10B5wXvTLICVGO1HFtbYM7dG6E1UV7tQH/vYvje9V0v4pMTokAlzye7r3NVHsU+JBzi7nYrLtZrIU6dOrhLzMKz+xRfSwplcw94SHgN4iKp34wasrNw+gTyrFgF9YwM1S4xHKGteOm4+VLhQT9LYAKtNmUcPfccz4W28M60v2TScrEljijK9FLIOI9EtWi+1k9e/sMUvRd3kvsYgd4NLVA/9pyMVFYyFRwshQ5NT4Z6CsVNzT6sK34xL+m4fWwFfz86mKum3LZx4aIQZQjsJX+8GqGFjj62JZA6WXYUfyiAxQV45bVxL7/8m1A5Rr/eHFuiYD0U2IDBU/IOWrkdVuc3Br1Nsp0Vqe1vz2ILrBlrFsDYDsF8uVZwW3Flu2kJDKw5UiQYMmxYMWqHWFk7MnPqItrsLUuQ5g/OQDuBAZJPqJkXA/oGqeAfS/bQUYGAQOmPOy55br9H6r/3fsK3ve4k19vBxXs/2pI4fHzXjC1qvFP9LAj3DWIz2rx9hH51dHpYekSS6p2lbrtKGvnFkumLtlHn9ijhaziLU3qdjlN64jcIRVFUU37DwIkgG+/rMFT+3PKTpOhZF7GfxINOOfDoSdhkmPiBLbtQHohujXXvRUiVuroiW42wG3ji2RfpBT7QhOP72aYsATehRY8CFUlL/TZxyyD9yn6yi6/7NpITN6c3GYdQPvC8QTBhkvGQ1pgicyZC1WxoZz0vORByV9oTxCpuQ9v9wDwFrd8HyKS0J4wQFF89qYpSQPBs6aFttoyMZddsC5SKenfR+M1aUu3bo7A1JaMN76VK4U06c3Ulaq8Ue8yuXWeoCOLhIGRnKpUo3fx/VNF9OZNOzhXuAES5uJIZ5RsUpcO4yLC8XAXsxJaFR7fRiaWWVzu4gU4f+2kyG3WBeHwdqj2palWWEOYA720ImVavC/H9Ec9R1zodCbfvTrcKiuX2ORoFSbbu4SwQGlYShwycgIIxoNg79Z13/DpUJ6yo4MeyWJpB5yeBRxYdSBWof1xBXy1LDQdqGwIdRbWk9cTBAgdWiAWRAqG5CrHPxHUusENvrlTs0oTVNUyf+bShPA+W1wlaC1lyk0yZVJ+4/QzUE/CGaBA7K4AiGEpuqjiJIsx6g4BXhOtyISrerrYOomIquEaEiqXNPgFFCQpXr+BvvA3AXY3rusG5NCJz03RhavafIgRtm42SB77QzzhBANyOGt6O5hSs8T5o5EoSQNHwslvGKCDhKUraFjTyJvEx0tx0Qi8yOtHtNNVKhilKBoKWhcBmY0TcDHP2tlPys7rPdY667mARIkr7dT8EFav1topDNl7S1g1VF9MW0+E0djawhXQ0r1WlSHbi4HkxK9ZsnlJ1rLK8ezuEbhbBoD8Iz4ArUD7h38eHGF0qYhoVFTthQCiu90OKf0Jkru1NihOJS9hJ2n+5SMErRIw3IJ8XZtlmVOLAWpC8BC97Ta+85IX0dVI1yZjpZVHwaAvAL8WB/Y7VwLbVvs+1ii5qbGM7TJLMF/SrG7chiz/Lzp/uJbrpVmWmNE0s+bulhv17PJ35w8nJACG8F3hRgz+UwGSM2o2kGCZAlJZ6iDaUZqok7hogRfNlhYffuskG6BlF/2fh1d2tDF7FSu9Ats7xhqYNyE5LufSQrdCVr//c14S0+lN+EIF5K4AovhALghFhpTqA12pqDNQXEb1Mpf0iVfkWpjMnZloUXilm4CP8RQfmhZg2vJSLy5hX3C7bUzqqQIUgmgzeD6o8yhWBKOrhMfnKCPT4IWiQ8FbCxl7chZxpnm8g75k1DrXer5fkzftO4Cz6UIMOSax+lfYWS0zefjGKDNQFvsGOokeLF0DZGmFsZWX1neavqA9WNrhDYxAkOnaCGqQbcXGlWXkprx45wrqbqAMufC+wAvGL+BU1ApfoC5VBgTb5AHsxu+PSCq7WEqm4Z6iHwdz9tkH9Sz3T1kw1fL6t9Se3dqWzU8ECF6LvoA8alU36X7OZ1VwNLY6vYUbltm/+fkT+9nCeTGtAeWV4hnS99WCMhpbgMlc8n0qlP/Q7G341mN69haQr+flRBarzJUyVoFf1GZNgxXk30M8yULRgKigBVFf6tbiFWSRnVssnwpBFZoig8aWgYbDPYDP6v6sLnKUj5XOPDl1k3e1PyuE+s8opr5ye8Nl0Hrj5HMM7LQt/mu9OXetlr3dVM3Zk3lUrLYiUpsUzNMBIpt+jWFzrqrcl1OtCaeZ9qhsAvBXaHJUVhMhcZRa/G/W1yer8dZ+q2cdYCvyZocb2TREbNmQLDQukUUVUv0a4/uGEvgb8nxWuC21EA/ZI14mg+z63xu/tAbNlu0fRUmEjN0HlGxEiACInLu9q5BM05EtQbUYdiXzFXCAFwrwBwjJ9Hy/vhtgUPjVu+YHPOfFux4EYaD4Y+Ujzx/YnDkiROVYaLT3zetS4/+XbgMdcgR/zBPHt5UIIrQTnbD5ZEClq1gEZO0CbphRUnDSfcph865Kwfp0Ypq6k19wXBL+RqNmNikjKBNHyjWKg9IJUEllSpk7O4QoHqY4gTaqKK38nWOuW+wdkTfBLjPOlq8X1CHPPl5V8RZD8p+nJPUgCviF5FWRWQ1vgdVCrGNWA5XpQbJOAAtOhEeNMoEcjRXRqOZwS2efy1feb0Ar5ZAhdli9XZYGOEoH0T2a1z7rBR70tOo2AJJNnlb0/vKWrzcV31VXGW3emo9jXjmJYUbxI3m01OhAKM3yLNKlt0zcMRRmCOs6Rfo209eO/e4JarsLSVQGReYNyxP00SHy79NmWObC4elIJ3nGhLS13D33jbHVqjAlh63NWPwJUYlw2H5UNXfLgsEKohvR+JF5qpf5Pj/sreD4XXy2rTn0gzg9rEwXfwaEtVH3vYn32RAHMaFIr7TdR/nbpBU4B2wk1XrRHihopJDILk9Yv25u5FyLI4XfgVyvjd8qkbex+oeRZmRcBZVHIC9ImYuHEEQr/MtOHDo8SOYovpvdWuk9+Xud24m+1vcxCYlW1A8FPHEj8fBAllZnr4l9BTA9MIlOBBYNmzwTKM+tb5QMQuX/Ijhepj0fb6O0rf+9jQ9/BkX0NP+MGPZNpfTASGZUCzSVt17WhFBJynlUXoCNMQeyeVWgk4MDfcEnlIA5unaeSdy4A/RQ+NYJTQG0xRSc8Ww81Kw0Xccm5lAKoOJ2Cv61WOuRiF2RIk/QMU0Z7XtgKYe108Ilkn7bwGiUMM2cxWleDM9FVWpTFu/nszBWfYizPG0L+0AtKASmJQtYdGcu0JQ0lbTRHOj0KDSOSxAn6ktMNkkREJUUt09pR2QTWC4nFBL/kHTSdbLA4GYDPt0hJOElI/DLFhiAF43cswfCmkTDG1Z9YLwnwAUnHM2AUNTwrNFLYMeDTnGVbDGYViTwen8/GIRzpRMgsiGzt21pVVOw6chZo6QDikDfSZlWa/YTzlXNEoEfD4PuinPAVDjTMsKocb77LcQMrEXMXgJnk1NCwHm+2S+g25+Pgdmd8s7rfEHWDSZ95uT5IoDnof+bj9EWqcDLNEkOIKwWpWsp5cpvZC8bCJtuvQCubD/WRpJf6LRi5WuLNfHWBooc7+Vtwij89PwH7fXm1t60xKKVK+P66stBNRtZJN6GYB8uAvJKvmE1YjoTEVz0iER0704SD4vDkWnU10UAuNgePVWm87tssnJKmsBOXa7HBcUoBkv0FRczDzQO0fk5+O9IXOBss/e3z3brou+AGPBMrr+d6Gy8DvBVf5QySz3RwkAqCjgT+9R6YUFaT4y5LlHYdyZQcREtavQPMWC1yPfuqOqIgM+iclC5liF2ct7W65psGetJSeMVSqM2hXpLzlIk0rWQ2ILwwhAXdbZ/6M6pxFk9Dt1lOTn11l7NEFzAb7fJ/ijPvd2DKhD0+ZrX+P3/4QGR3bJscgVS+fAmOoaeMingUXQDUVMhGosThhWGQ6d+3dOPWhVUQjqxW0Yr8loAqnjf4QwcXJ+r301zSvXeZf3Ls61mg3sNgjoyLEe1jlEv7GJLbsxisSk7f1CmjsGFDYyde76km+7gc9E4ioT9S8Pko2MA9ph22lJhDGjD69GM02EAvXNVoEAw/4B/itb6NV6NVpbc+1dAduIa9tj5h3PsKUyShXnmfzsOml8a7/DVlfc6JIEwW2Kkc336Gh/8ko2CDKLPcBdNDYzxeyqaHUusAAARVQZokbEV/+fALokjC6ovqVitioCANdF+1/XK0I8W2qrtvTUm80v+ag30eylwm8c/mflJIrMXZH6IHWAmGs+zSYge6snuwdCiewwHWDjkH5jsB3sneYRCpuhgEcSnWnxskeVfS6SWlylQfJJe1BkeRL676CbMYfIfP8FHK0s8/fR1prbyQSh4Gg/2zkpiaBeqlnz9Ro2AcLKpUG59Z6PvekyDIdsPixQcAvo6BhFgeAW+hZiYAYV9hw2JIz55f5VchR54FPllkJTNlKMPwuHlGJEt1Vo32SKgh3RuqCXEanLRTBVJeTWuxKQ4tbpHTUPaFqNP8zNbD4SaFYsX34E4LC04gs3z5JJLzsU49zIxbvsfqjoXWkXtxQGkRh5twjKA2IlwiVTiNjtY7ngjkTYGCfKtcqN2AS2Dw29KzJ9jEzaZUPaQEMzPm7pinsAYHxgZq07yV5xDuSreOvbHha/VcDGr5sfxmXPvblaEsfHhsrlz3JouGJrROF9ozQGoXoBr9UR4S/h6HEZZ8xNox1nRJnDw/QF6b7jBwXp5vtwDFnBuuZDLHubJkD4zvTi8xiqUONr4ryIcqk9CXEdpzbSgOlMnL/AW61XUuf1zvdjN+u1emcxFKSUR+xIm4ZAanbJy0669IRuqM2hYR42MYDM3sioVCh/6fPFcQ7/+CUwFaKBej1iGZn/4PHtkJN9X4gg7rERltVMHmebMZ5yDEjFTkgsM0bJOMH8Zg+Umq8Blo9vu8gIyc9WuLZv2pVPsbp3c/RCjlOlZ35v1mDmjMqXaAbvDSbOaZtJ6S4RdPDoroqF/+bLPB6c+cDLglLxla/2wivMRpJBXq4ySZFh/CFQ5YYwfqdeEQidsXJg6HF4A1xdbqos3NM0PNHyvq5dnJkV+qdb5iaPUpwaQ6AsoL/LuhGh219kzZSI7ZBIqfHHxOSZmUCk6WvuoMooV4YdLUjq6AR4BmjkVx7WFtJc1e0MtxncYXJNXk8B96quVvKraYT+fbEqXJVK1VW0MSIf8sHiQ6bitSqjPX2GyuqETg0JfF//iPa7QFJb3j/+qwvU3coF3lm7fmRotavHkIiR0+ty+eqcqq288MoahvHjQ54xzcWNGS5s69Bgr6ElDUL3m3R5c3rYGDsk0+/deF7vVQ5g/se3XQLFAHEDonnhgYK3fLkAWybKWX7856xmhGGIzVSJjLivpNzchC+omhw+ieF8eMnj6PqawJbkQ3+L2RNPDorUJmAGAawkdfpuTUFfK2+AF8HSyKzAbiu6tiSiWsZk9Fkoj/XFMbgS5FPofyLqu6f4VuRLsldkVGzoC4k9l44ux35GAxPyEVtql1JKs2iqD9x6gYB1H/xpIc8TH3eiHDUtwC/m8yrJrYZpgISkDdYcodDrA70XMkB6fzRRMTqPaAdbP2zaBtkzBQMmr8Eekf/LDZJ/keqERF87QG9BQpfflSyr0vDcnOsQopxkhYOLxt33m6ZTAAAALDQZ5CeIr/+vHrCR4Rjc3kRG6Qx/TLb6/Vq6NrrhVbeEYWStiN94dfExVCf9Y2DmffBe+yRjb6IF3ePomIKgArwe6gy6WU0LX/3c2Gbotk9744yelE5Kt/U9uB2ePvC0wqdPR1FpZl4y2kUf/PtvFOrzmtZaGrqUrgHD4v9h0kvcTp7hQtdca6fTeuWxjb37JtGxN7NGQdreyRahTwTK+2P402NGqg38slapKZo6ky0WIAlT+W726Ef6tABRi67BCcYS8YBmPNOkc50MRQkCoUW7e8wXRGBjHpFQzXmdxlCbVEI+g800QBYQdsBxLH63fnIJpLoo0ZY/KU/pkPwAbugaz7BYtgLCpP7YC4ZX69WcjwXDw/Jm0v7YBQQvV6r5b/5X/+ZLjyauIC04tAljEb2ow2Y5c+O0UDGSxFi9vl+MYaLlHYcoiTEjv0UHGO73xvUEknrdxfiqfGATfzDncxdtbw/ccBSyehDBSKXponIhal2fHC1/WhDiWC96kVMcxhuXq4GdmsmQ3Q6WIRsJ4DoeWooiauMfhfLhl92zT8kBb6VJPrgCSnmvLlAx4JfRORP/F/YgPQzFAwpOKsg8QkxXqHvpPxRSZgVc6ZBOwPKuuCvmBUisplkdsoMhyg0OEh2OCQvbpIo/olsWlh4gW/5x4kyDM77Vl5kJwKo7yCWQOf/XGR3rdQPmuWEAqH1j0BF5KjbwcFnVuMkUZBgIypkri8gwl6iCJ9FMOWGXRT30//HkXkhhFOjsD3M0YcoU0zZsFzsX6EG9tBwpJndOTm4CP/uo13B1P6VAwvPt0/0fBQ1qLUy1OUIT2RLRTcIuDn4EVgnE+Je6lTX4kqrProbXHMHkAJckx+ZLQA2iF1kxDXngk5lT9GerPSlT8mDL7PSFgjctLuLnvfTFx3hZ565yWyq260EdwyqTRGdJGaLbzCBlEAAAGfAZ5hdFf7W40dmFXbWB5p46pnHQjc8/htYHH2W8ali4Kaonwqx6o1D73Bt0mt5rk9o+t4WGwGzdfj+yHwXx9QDcb6Ns4vejtCHW/5YaW86VNZa7Mb0LyMOZGH1IjWsIuM95va8gNTlE9UyF8fusoJH2W1dXKPD2C0d3fBRRiGucMz2/PbG6ubhndDa7B1wqPYi7Lk2UOZw4hdLCV2eqkBm46EgsQMUwTiZhz+yMEtA8HzC/vThb2oizhagabOlbbHAiitWLOPC5vHTky8R4hjPt8e+rB8lQtvI/DFYggviXjQa0SHSUipv4AavgMZSNyQCUlNvO6rCJBrlDBU+F2dz6JmTAR2mkagXdQY1sxRap07Zvz/zkmOxHLw3Nkd3qAoALWzA8g0i7TvL/kEs3kel4NTr2VsWPdMyeib1CdZMXCvUYsv2dHb9x3JHCUovRYvu0J2Uxs/RAc/QG11mznAc5C++kFHpuy/1fXWwIylPgw9H2eKnL5nY6MblgM0eZnT7w714aBdTBwfgcw5EVB2Q58SukRBfUFcMYxrNMG6YAAAAZMBnmNqRn/9lymAs9EDEPTOJ5uFDF/PlXHuDm/NlFC07Bzrd682QYTuvBhezhjRDlzu7urZzfkexClvPszReGbmdu+cHHdVSt0HRRSC0r9LBp/7dfR1e7CgN0uk++eWSSkyTQXeNJ/XytTbmnMW/ESekge5zHE8n0fqEeidCG+uezUFXoTadmEZqcidobhLjSnv1f/P2ZI9OPcRyQhOm+5oIROUCXXhGjF84Ge+OEhsQzPVVciSgVDmFifm/pUYQUxn1+FQg/XPS3nMWASKzBtTdRicm/VxviBX0q7aKwbHdN24CopCWUcoHV4egjoc+gqiSr5/3zFeGSdkqylqry5qOt4PppjSRSbgR+jOmulxQtD57fmLLEA8jfq3IIGirhAyIJ18NCxo63ExoPRMhhrrszL7uMv1UXrpQvDXeWcDubJQWgX44NPeC602oQMiD5fPGkPcyH1w4asVBxSVoILUhRB9Vs/1QslkOyklkXNdUPLbve6/QhckCPfDef04ffOczH5fcJtz2HleWFUd/P6d36UdAAACUUGaZUmoQWiZTAjP8xDojwAHPsK6r75za2KCMT4+FPYpa0EW6hotD7VU1xr7ARJt8hMFkQ8LhAOZlEwRBbob6zmWy+ko0/I4cRQAFDXmS3vfwuTDEWQgAVs0wZQXX7eCX23SNNjpNrRUNOfKR5CFQc8EjVqpf1jpmwrrQjuAUoYfbKKXgdA322QUohIXQOoQJr5t94LU1EHBM61x2Q1G289U1zFT/1rmtKwg+PGHjW/TF9eOvYASnBP1aNsHVaiYcZneis0PHp8gptWeHqqzhV4K2PPmSQ0yLVg2Ch0wb4qQj8yDajRdX+mmycBZawqznQr93+LVFOQm6tuHYzOtshady0ELycAFo1H6RgJH/u2ieqPwNDku3koH2Te/KFWV2SXvTpUqdDshHCnhB1Exx0x67sftVqVIcnf2BtT9PVD7tAXPwCRZewR/QH0Fm+dKQYwG9SFBdhcO4ww8aU2kDI8W0q3OXNzUBgqJ88m9Ssi5YUbGFSopgGqQyuxDb2LdU5AwiNwZt3fJTklWc++983X+lhTujOwrGRqVEv7OzA4fCM+IioD22uRAIA62GH5bYb4yE4i1ihy0mJhC5knTvGk4YvO2+Z9L4Zy6IVPdduO/Cib1ZKQT7aQijCYKpv962IYMy8NLl4IP2OsBNxapSZIaZuu7m9tPaUvGyNOeaXICLHSc5A0b8ffcvCeSZY1FBDxWcJ0nq5Hgit2jpey6yreO/SaRRq+TDIhowZbPs3q/BLJZVTYRW8ws2goEJ+YjvmfOO1paVdYFbnKqQ+tqKQ3BAAADMEGahknhClJlMC//xAVzF73BxbMmoySu5Pd98SohxM0m65iJQNV3mKEhQMC0ZJrRIP8MZjTWjEOvI93grfC0Nz9z5ZRPtcBSP1ZaT7A//sVUBz5QR9lKrVo4jlOKRXt5a7Ek8FhfqA1t6NSyakVOUkMr6qS7RLv/HUNxrvzQoZm3PoWrD3jyxermjt3nD/7pCCGOBA9oihVrUz9ofhzFKdcAZMC2hBwtqFXb47yVoxY2do41zruTS+ZSZn5aGzq4UsP4yvPij8gDqnM0EirWTTd5PrwMOjdNYCOtUa9AS+7nJP1xYvfff/RpafNgzWl+SDrVK2YoOlTa3D6U0kmkOyLe9U0gxpZ58VgrxwnrjkCoOdTFpXXMwjuPe5aKJHp1FGY3RdrydJ7alG+ZSFvZe0XpPSv7utpZ5bPftiqnjmHvLykzhKyzEueAV1VhTyt9799Fz935agVfbcRAy5BDt8PRKoyJcTuY6Et8+yjbbnWmfGtETWkQwzgUJmu8R8ZHXXIkeSh4+xTYXHU3tjtQ0J33o2sDGWjEKx9iMRhl8zOTtauG+3cdn7xBzBdT/fLGT1hhVnA7L9Finv3phPc1vmiBc6MVUAgmjd5hJ3bPEPek3qHwik6mwvzKLbeXzouWOqDMLRSPk9qwMMyNdsc5/o8IAsTgyveSaP+G2r3nkpjnQ37rT9PrK/TDpkMuNk8wPjD08duiXofvYY7q3sdv+OLpgnDJmjihzT9oOzOro+/6kAtRehdCjx5qhArvb/biTVDHvhC9u+DltA6YqUm30sR6zeV18/LWILSXoNrzKaHwqA5k8w15mwuZC+YQssvj5TAeaDaHfHumIQeleBKLYWn0INr+MM1phVfzctbwavZrrM+JAayTfvLVgamJ94HbAoz5Touap/G2LPVN+qdjVnlAof+sep6CdgmCV0alDzqoX+6tEwGGZ9abTvCIDvni36G3BPeiIH2ltlrWcaiI2KghKbaTUtxmI359BJUsiUkHVzVgt09n26E0itXxDYo8zHj9l7E5Us3JcAxwoD0PhVSB7Zt9cLIHF8i1nIkK0hGwvJq7U0SY0NzAAGIXq72BiwAAA65BmqlJ4Q6JlMD/Y7OoApPA/p7MOg5ctsFNpKDa5ZkGPrMq+C7m8H5UALJfv2zVZLq+Y7HvFhD0aClmjl2oKCNoZLiYiuwdHjxBuaH3sanBTkoDU3v9OLxpCTy4F1gEI791XLbLV3T469GaYFwH2b/897m0kNixTTUUsPoQN4sc3gSymto52BrShK0g/lCC6qkrZeJccZMax7rjP3Gwooz3cLbxnKTmxALFSfwuzHaIJAYUi8syQAXMhcUbr+xB/VxqA25iS//Vcddg/jzPVY6m5SlyF0F3BmOAYGbAHs/8DZgIoN0m5/NuLwJdjKoYHu6ABsST301Etz9a+Cy8zh2JNB3RlUioSnR19dOqLZqekxKTdSD1RVtqgALFphZ5WIIgkOJAa5B+ZPpfA+MU26qWtSrxYmVk7ThngYh8qSEVj+IhYFraQ3qRyJ7XeGhIi8F8iSK4vm8QhjFlIs9TcJ/MaqpN1leeF8sVPZBm49iLW6lMuWcriKq61mxm0xpltfV7wayzK8AewNliqGuHh9ceziNwAftJE3Y8cw2AVcWzzBgh8zlN/SJHWmG6D64ZLPKLp+LNs2swsKa2zBN9+Q9IkpnbIjW54z8C+zKm0MqBzg8DrKQZM6L0wEUnliIie6MTFMLcX/YBgDRbdlZ/fvxnnHow6d3cS1e1+1w46IpbbkQVm2/Si50Ng95hP7d2PXZhSpxjSUkF4tXA1IfQT/iAFQOSsyX4qGHQqGFGe4xw+In7HSekf2QYGtCHiYyCE9bAWZM9R8tJd+paqj1FBdx8gYG3nlWeUM/Z1ERTRvGJQzqubJBUE+AQFMhu+Hvv3Oo7eL1ns3pEgmO7Ni1MlZqzgxCL446JUpf9I2+B8NEsCahx22glfMjOiZ/G1Jj01lF7w+BtICwYr+7cogkO/u4qUO+2rr/UPGvRPJOc+q/VYm6CCqKejBkaYf6EwXPhfiKWBa9aS+uOZXyq7+y8AjmQDtDq249GB9XRaY5t5NFYqm5P1xTLzQ0yq7b0SVKnBfBPn5YoVNmq8fWZ6+K3R3GeQVo7/joFe/xwCEFaoTaA4I/aqYpaC+V1xWBTi+LrCvD6VttQzBAsjn0qsFJ9XEJKxLB0yigObch17cLFagFAL3VFu5gii0KrIaPIF2hCsStWxhXjkkrDFHSok/Ru0pfyGraqmmwS4h5od/WoMNAixtTm1kO53y9Ll4fm9HWE+KsvA66rWaQDXAuQaUtb/23w5C6vPcNDfFgBI023FB8AAAH/QZ7HRRE838rOnJLMP2C+Tfc0AvnreGaaoIUi0GVmGStVbVOi0egNdi1mkc1ZdgkeLVRmUQ208iU99+vVU9oF9V5oDvKgZf46xfbNwRUHTthvOIa4T3+g51ISneQ3XwXQy0DYHsvo6jUmPaDFgeonz2N0zu/EiXCY6rN90EcMM2XD/1Y/VFNxaeHAE8OxMx8e4DjscXugoUAQiiASJ8mAo97XfdHveIAK5JSQGJkeRnC4aWiXHmjfx2xkvnK5zU3cCAohzUEXApf+TNuWt2HsxjdT5/iaDjyOGBak3/PGJjfTCpx3dXpgtbgaW7ZqQI6z3MplqEqxzHUH3ATbPlTe4iOvTUrU6pbI3PWhpkNryt/tCZTNweXUXrZf6/SJQCoOMcMnvCHX3mwhg1pQGieUJtyxmZL7HCwQnAEHKIU/Za1AuzvSe7wY94+M5NMhsfzTyUI4Gd4BHeoMvVmzbUrF1R39kbxDynkn1ju2Jl33nGt31CO3/elvVtj0gJyf84yBlkpTTqcJAb/V+Q3Nows/LvSiGWmVjgDx1Vgjb8ySwEQnGQyCmNLxM41b+YcoyAhF+CEcr2U4mz44ClQrcknGJfsbAEFU5CHvp2hyUHPRWjSxOy0XyAf4CR+L0VUYgBvA4Be92/4dGPGmVePmG6LwUh/8VnnxwCb6e0pc1q7e8AAAAfgBnuhqRH/AOe6/MbPnDGk8zjAYAl5WmWBBlQGWbq15kFS1aWN4B12248KlyAdkJoJFhLmZmyanY4fUOGcnLtthstQLDjKmB31EZo0OhQfsNiHi+E5Pqdm3OH1j6bwGEYOQOHknN/6pjx4F50jbztGSDgZJimnNkeGYGp1A4lmzVz2lbUW0iUk0BOdDPOOdi4pOvYXYf9Qm0WL0syXhNL5n1Js4EKEgmTlUyBIxiCD76bsq91v72wQfsNBo3QRt4qYiTw2QDvqm8SrSjfDKcTPwy5MufwRnq+skJO025WyqoriEGdYZiM8GFgY+co+AZrbup9zcCAshOCbsRuAYXvWcQ5erX2D2bUJjYbe8HiQD81uZ+ddqI0grQSODvu2ybcLo9Bnn2SUQdVRb/Jx6NWnDj/YTakAXMPbe6Lu4d5LNCcdM+dLpiINnJMRnoLHN8Vv2TxmIY5fU6ON6f4vjEl4c/Bfd40JoNe43Pa7HirP/qWMWFHb+Nj1GC/MoRYn+a/dW4Ro1Q89Xhsfn3hyWU/pUm4Y73QdqHXyi+gjY7m1EbBEiw5b0WE+nHj3wyB5dHgc0xfj9BaiYBN7JUV/cXuXb/yFhInybJe+FniCElCdrHlWhhUTFQsgZDcl0mDQSChu0AmN68otZMeGgsZD8Aw1cDtjtLEkiAQgAAAKNQZrqSahBaJlMD//AN8NyG+Aczwwwfx5Udzz78JlbX8Jf1nkUm72NOz5kT0HRErpuCqa/mE6XnqIdC9PuIUc3DgmVozMQ/i+urrJzPevaPRLSJApOTO48KAKCsgloS9HxodpYJIg3EZGvKUgLzQHJmO4yt7xIe+NBxv8crJXs3IjBif1CchZ2lLUqyzAL2XHtGvua2+Qzaif6drco6ty45N08hkf6QVKNmi6e+BXSa30vg7ErcQ3vzBz7nym6Z/ym1m0N9JxvQFjutp5ZOxziAeMHs/2Wy//IVRscsSEFArj8fpCey8BMVdOwbMOgaIx2ehFGq4KjbVmPSfOTYkUpbMHInOQ8Aw78d8knY4189nAiPZoBnIq2szJ2zhvxYQE/bl2OmLKiqGwHXkyAcOJMqD7Svr7d/fOqFjIENCTMewB5JvGpML4R3CP/RfsF2XYszKdOpBqAS34qsLA6Wp+iTRziLk7qhrQG1awB1mEfKt9ATYvcmZiIvYvzOw7IVko3seZ5D9vG1lF30/nt3G5cCrVjpZMOGFzpNTZKZuChJ+xBGriJYDC/hfNzMGR6mQneqQMhYLrkEDn5Sivp1XAS/DuBF2qgLJPCujMus+lhYCKQdU1/IWS0Cw/onoaxxXgAyOWY7DYFKmx8H6RDlLkCXNN4YW3LD85VatIvtG6alG3//OANTH/M0AcommXVVE6HnZMRHLfM9MZNe68qPF/z8E75GUWt7dUwP9nskWcsHlSwWJbDPKCwXMxn6qTpDPKmhXYihOz+JHYBGtlpTosnzgHvZ55dcIjVJ2VeyzScaOt2NCIzT5nlbjVKdITEm99ArCIeX1Yu9RYt0Wzqe6f7mF0kYnRzcHVnYE0myCEAAAMXQZsMSeEKUmUwURLJ/0pUzPelsOZr7lbSkQu1voYsOMenIMF3ncqQkyijr/KiDJFltmSgOsElsvNvc/lIO6oEy2m4BOZ2IN7zo5hmEubRsZeGqAzWItMEBiKEIjUh3ZyNoFeUaQpk9s6Ky5bkPDPxFEcr4VPqJngWlUxFAlMM1CGmTW7aTKQ/8mCI0jKlfy3Fn9KV8eX6OSllx7Om6KdSeatmQlK7BVV155cqflWibK+mskIBw/G/YkBMQZTy9aGxIAi4K9TvO8yOX330rE9wKbUGu5gO+F9JZJJXR+Cg5XCi6PWCErKZRjSWexHqMK4JpHH0gOx2I3lgCgb/WlItUHsyBA2SVMspSXqsWbAeEa9qmDmsLIhqpnWUXSg28AFESlerCeaxlNFt1YN936TLme19XFPwW3R8PmvDIv/C/Vv4lpgonOVo+SaVOTAhXaF8vHBTSbSvqOVl3WC2G00pN78ditBByWbVOLkxdSCLhOHR0XCugDP0RJp0/L4n5Eto8v/L63AcHlhJcwVUfyfYoBQng4R75I1aZpgm1lorkUGUs4J3eaQ48O4G6dffTW9kauV6H/fDHOPhHSvBgqpq1AMcjZ2+2s3yCyj8W7QgQs1XkKV1I9tNWDncPOnWg/nICLDw63unw5pjhY/nbIZQF2FiyJ34WsHYY+3asuFm1oINQBn3/PxaFjioQPEox9E7SrnyXSAMfvmnQMu2vZ5ZNOnbL+tHxPUP9nF/W+KPyur7U2CCbdTEHZB2ZCxvGt9CTM+i4cnx4Ooygde5DtvydsMZwETLI0kW9UkqDDmyVBmyGRCNMjPa4UvFH2XA/MrvXIM0yaz+YQ9alSCsFwbvVkJASz/zUY96Sud9xpvjPVnBtPabmSdkfg4nxvOx39dhJEUaRAgHD1R0ta26rmOikCj3mgzGXj77mC5QD7tRK3DdmBJ3b2HobH8uOdbQ7LXe0DjGrBw4ggX2KiDg3JRxG3jN+TU2LP8q3Yq4PCV11cdM/M0RYexCYDbQgA9HdNkETrORF7JvBlXmopTyJbKXsAAKuh57G4AAAACtAZ8rakR/vWQPJlgN+E7emW8RSyBw2Pfmd4/IY0wEnlMJ7TZTcIjoEAlHUJAj7vSNhtUjoYk6+wGDlsutuZTs2FyoY9Rpgdfy1YehSbLZZR9FMUSZ46hvkAHwR97kW7BajQ+ac1dtbenAgQdKtC+kDiprYBIuRaojsMd7cI7mbbKhA8sSJVgnZj4hWUlQCHb4GVa9Mg9LOsZfedMBmCoaOPYzyNwD//Z69Lz6qYAAAALMQZsvSeEOiZTAm//DgbirghmwMKpaQFq3aMxFV843XIVvrkMUA1wcihseblw0FtNXWyiLtLiKCDIBIDOmah+jb9iSrjjXuseYdPRIcIVIMRbt0B49alddH66ARxp9iR7m2mMwAm2XEonuD2QyCMJFa9mpislv9okph3ESkWZKOd27nfTTcnoOhvOs6i44vK4OnI++hgwqdtS6DqWldumgaCOTitcldOdZ5RWLwvBEVbo85Jtwl4ElXkm9RdQvUDUOAYMcCtFYfXxCSEDGOuHOMa/KaCGT5xX+6/pPpi30fj3EK2A7w9irUwetrXZz5rnENPUyDP+eEF7/u/SHWjgGFtIyCJxfoHTwcL0czeH+RpokEXEDbum30DJDwgwfGaq4J2ZSmwAAeTk6CoWEVmE8sIsCSDeXR1UuR5mtZuFfoUBCO/7+mlZvtHhr7g+vKI8bLaiWpe2ZPPg/+Npcr5ZCPP9pC8jh1iP/iRNpZCBo4Dne7eFYNAFzPyfVUR63WLUhUSEVyzyYND5J0Doc2jYFX9NiJ4UUzfZeYOm5b08QGq6HedHBcy+Cd12aGU2SQFtfPEpjTfqRklqDPPiV4Yb8iksHyw6B9Jh/nRhOePqKtJBP9A1AfhQtfaz4/r2+2gI6sieYLGM2OhIVQ8Dvo4YI+OtFAw+Pxk8SmTfi95RuwjRN/Nn5GilWC8qeiGt0u6CPs70yT8dxnwA6J0JM3VDg1ON0iWSjobYyNvO4O8GdRT54OyglYSuocPZQCjgc4SKYpjp21N4sTby9lh1egxj+U0kFqTTWYOWxEheXunpvumcxyxT9HeprXfpD4EVnlCmnFt6y2YVA09xQ20WLNtBcJ77fpRu1s8JEQvPnJRoBs1IdFJitK3wLJGVABXTyNIYzD6JhSesxn0XFSF3gIGTuypRw8qxKX5+Z+ZXdpTV5qkxAGWkiSRJURlUUaPkAAAEKQZ9NRRU8R/SuMFOVbh3OatR0bCP8Z8/mFblq9fHYGzB5pj+9BCsCkgqXR2QSKfUeBId3/W37XoT2EMoewMpvX7zD8t5rn76DsFNv9YzeZCqG16u10GkQ85lZVdq4poVYXZX4qXyEtcw+Vck4FVXlJ1xcI+yo1cwskjCd4k8ao8w50KIihTo0Jv6scggKDCgNIcLJ6ysnzcJOcAC378jD0mIf5lFgVeQm9WP8yuPJuaZwN0MmjRR2L9VKNDgn0/CmjAriWjysMNpZ92NT7v+mplaBys1o2yeeI1YGFlBJ7D1QdynXpGXxxJXHjnXYQdwK4u3rYggQmQ/nJi7/nZDIa25+8OX2+X7LQfEAAADvAZ9uakIf/Z0HMTxJQ6aPPk2u4M+zLnxR8I6QxSfxt8jxLErjpvRYrBr/u1LUe39eqY0jbJVUSaIfnJDBdckjZrGkUNdRHlLAF3XJYr/nmhnx3gBmm8+4P5/6TYeErtBod9Tc53XBMEEfR3wHj2dqwVHyyN9d7OXmnfJgAGXZZjaep2aTwOk+n4WzEyfQhw6hCb5qS6LuDSVNWEc27ABDRZmE8xQ8YJTiK/wQZlAcip9/yOSjfiu5y00VF8lD3obfSnfYA7m/63cgAd/0xyh6mXk6/y6jsMwE5YHrWl163g2wsjxNRC7NnQDoxRFZ9IEAAAGeQZtySahBaJlMCO/+uEYpjxp44If9iqf4k6i1YoFmpKFteYY+p+tYGUiv0KVNzGrEAW92qOc9v8Fl2MlhPy+HEJXVYtOhDOlTSIH+s8+7G0E5QdJdCQ0We4dvNEa00o36IkoCsUecmOZ/IH+WH+PL7DHvVB68uiibemy+efXnC6uBopoGqGZ4vLcvPzORGIbbsdeqLS86j7OqOkEfCptIecFsk3lfxT6mHl4QyuNXmiJ7I2eXAZ1w1EXqphdfUVDNw1qZVWHFqxvzpbQsFfjIGW2Qhe6VuTkRM9H6ld9UwOu8t5qr6aCpnUPZXveJL7JO7BGaInQpSe+IFbGIYq7m8/AqluHvtcbUDaAMt2eeiD7GoY4vTV3NqiAuncBE3xHIjE4G2UvplvwAc9ivu5FKAPvroPEfzS0nVLLbYfnd2ud7QnQJCRcXa8lY0nJWV0SIVZVVz37zipttFGxoOGVWyoeCelFtZCZVymYfP9fc1eb8Eagwgx6tE1UbmGvbj22q/9xdGWzUbuK62d0YlBENdlT0khLFco1MGkg9CZOAAAAAfUGfkEURLX/vkoHS8zTDadvNNeHc1/hPtnXDlAa98EOJGytPD5nahONDBeN2K82gWrknebhSCoTFBhGkGCAPHMUaVTfMb651PQqebOMhUOBN2olSwCsNFvzRsaId48niFT1qD+54DexX1zgiey7YrUorfoyQVEIjfAGpeK7gAAAAlAGfsWpH//pIQPk/U9kHGD4fATJSDcz4iArSbx31NNTv52R3aFaviDpzOeXkxuONnOHKhl0X73r7GXddIy2LApNcffXmKRQXzF52sgE5LOz7I6oWCdnJGHrIyjsmg45awdzs4IIXtyHMVVGWP3w7a5X8KkE0Jz1KU/UzB8J27DIdOz4NFZVTVNN4GSudvHKhOpBP9+EAAACpQZu2SahBbJlMCL8BzR/JypTrAMC1Ajt68Y/Z89RRGbfSXgfqkj04lhgnWnixrX4kx03KThUVvYeE18q2GJJoufXUtmMSXREAK/J8tavriwZL83yK89v8B2Y5NuQSdYV/3kUtvOKx2XcjvVmi3wZBVyR+JLekP3IR2PymFULNNjbPnn44uK8SlohIHdWDYkAMm3gaBJl+DG1OkEJCGWAAb8AC0VOEji5EwAAAAItBn9RFFSyf6QjHaLyK3E13AH55wCXybcgI8hY2PuaUQN9HnY7V04Zr+A4KkIB+fI9Sg8Dj3ZLqpfi5QzwUY1NiJSIPjVsosVM39DMvBfhgIkPbTxI5m5As9/OhMhmNE8qtEg+hZOCVryTB9PfwLLEVKrjK8+5aIWSOb3iSWIjyMm1qaY7eVWTzCs3kAAABVQGf83REf+o5geOghTvJ15Z3QhpR8taZrE1c6RPTn1LkqeMNr0l+n1Xxfr+ZOVG1zAQ5aOEDRaN4YSgo1d15JgL+beQwYzQJotJVwm426MH8/vrrSfsDEv/XCVtnzH1ROx3zD76tkVQGejKwJx7XMfX0C46Mk+oy9Ai1UNxErKI7KltajVoN5Ha0p9aNYfH7k5MSzZRJef+17OUoKD6HW7cpRGu+sJcQAfoJxuRo1rHkUMH4bNzZMOjHZmLQSNfgIiiAIxlA/0vDJfJS9qVup7cZRM9VBxm05dVmnjki9XLeflkpXUgh4XorHO5PuA2Q+8QcxKGGCbGQ61pxukZeHuGXjJaOQZNKrBfldz334usDMUOco9UflmZBB3S227bA4Jf6MI0oGzeEBilL0FYuz3Z/mJ/c+XX3k/S23xQrUFdBQ7Q3kubm0uhQ//fmFsKjKhdfRf6RAAAAFQGf9WpN/zAqfENWr5+1bOo236xSgAAAAFBBm/pJqEFsmUwI34fIPVJbzG01nMSPpaa32kdFZQUgpt5awQ0utWnkCpESoPeVt56w53CFZ/CaN3n06sAN4lZ0II6vO9u+kgbA/wAj8dY0vQAAABFBnhhFFS1/SmCqyiIlZunyrQAAABABnjd0Tf/z2ZIMQIok21UwAAAACgGeOWpN/zAL2GkAAAC0QZo+SahBbJlMCL/kQC3Hc8wr8r9klYIDG972o8sLctsQEwvp4t+FOizytaAW58qoXW5wEY6jgnUy7pv5xJaZBlTutXwv4kBuqV3IuSCxDFIoXdkJu9SI5qZw22oZM5RtBZcRw+kDDLOrHsfZV856/ApSAARFYt0jKiyvVSIAh0QEjisJpZcxeQSQ00x4nUAHqJ6xgmJqYP8xN9TyuvRW9rp6kO8NTfSOW2YFqk9hQCU2L2F4AAAADUGeXEUVLX8DxsZAaWsAAAAPAZ57dE3/MV1W4lYp6bUFAAAAWwGefWpN/wZp1fmqTRtJ6Rd9FiQnPFWjttVC0epzrzh3EwsWscVY0/S4O/YjO6+24jnR6WKbwIzkZlgoKRKDFl8XjyAshQuBHlTRwyZCYkJdVYWvaOrpvm2TXNgAAAGNQZpgSahBbJlMFExf5EAtu3xqdMooBBln/3qbHV7xamtB0/ha6nE7qlKniEpaQ4eVJeZaw5LtP5CVlkZ5kKAiHFmFffstmUOJEsMWlwuqV3Ek55bXdprr3AywELPpFvwMt3szZj9o71EZMEbZpvqsGIt/KPtxZ9w5hD2sUF6wSCbFalp/+HDP0HgwcGpVM3BkCtu4OqVi/eXyS+pyxuXb0aEfJuNJtUiJTleYio3l1Mdrxx3Xb8xmMv8deTM0eGIQEGhcthVXtu6fp/och3UHfiRkylok6AHmB9emEZuHTCkpjK1hH/q7GlwQ7TDicDl2PYbLx5H9AZ57WJPucDunRyagNN0tEe5OiPcJXzLb7YohW9+tX1xzvw+QL3BDUzuy20GQhJaqg/vlxNJ5r/lv9zK1R8yUREtoO7UuQ9LIUNWDBxd5NSoFddX/hPWxxpWqCtOaei9SAXatPqcYkvQKeEqWxqOFYfMoTG673OkAsDbiDK+MaJPSwCXNGMWJV1FrulE6nyhd6YyRmib8GAAAALMBnp9qTf8I/yyKPU4CHxZecqkWfTRpG+ojun0RhaKOgUmN7DSFSL6DeAZw3Qdnu9K9GGqaBrDJNYeJcR6hm1kOjbFjpMsbRBqZsLuDgGb8Rw/ASTAcE7SAr1GjXhY+UtOEngMM8f0Z7PM0VE/R/8Hb3MOyJBuGDdMBuaLhb/jGIE3koY7SdR+pOtw8lmsr10oz50p+2D1/1eD2oBru1uC3o4m/9z+lc//Hq7bJYmBm1s1Q4QAAAipBmoFJ4QpSZTAi/4JkiURa97U51AL5ASrdIIPJJOkqcaSFbXcROhpZhZCuvLTzbCrPiiTsin5omCFpAPVgqSD46tD4F/qe1lvH1DrDcrFqnJZJ0awogO7JocGwZA95lxPdT4slIrs88NvhYIh1wj0KEqMRFtA4MBBYSbi5f9THhh+Bp/v/xPeK/8h9D24UbsArIeDZltlQNPfY0ufgMm1Y0Jxx50xHBFbtXhpSdTymuuNTL+f+Z+IMrpiKkLrFYAEWtNQtZFDgC/73cI1ektbe8phz8ih4fnU932X9SPBD6cOrfcAJPVnu71gOI42oal3VLphZhCCSdUI1vBt0ZhNRXMrDnusFSHVYhOOW15DKSWQoFlNbfOov5Foz+9Ke6E0s3nmUyW7IUAiJP/ZSnJd93Z0BMA567ZYmJxO8y9e+GYM/egMGCd9JV+YJAOBbYuYzVKTlXgLzrRap4e6dF7Fu3fXPxAw93koi0LFeEVBo72/b7yPOa99yAD6+ysOuCXpbpoK6HaINomPTHXYjcUqotq6AYK0Yj4iwk7fPz6XbWosvN63DP8Ze20+YLMbk4QhRIJyMH+xKFVAX8/PkyufBhq7LtIyDW2bBhhxRG0SDzzPqiLFSGkgO6GU2nvruHY/2NcsJRps+MB2Y7qQoZn68eKcHyPa1fUv2+c2a0wnyxA0JBf5erwsD4+tXZntPIGuUh2L4uk1O6A/23nQ2mweQTxUSzXDa/Y2VZQAAAo1BmqJJ4Q6JlMCL/4IAdPwqvO4BcexAmoojoj13sMavqVSUB+jropnU22lf08m6xixYjN9jawN0X/X7Y/EvSaOWSGP0p4IRNaRsRH7fRyw0KDVlY2LlM2cwVuobCXTS94XjWffZdZsXK7wynUAo/XVOv4DITwumpxBoC7vRa9WTWPvKi69nW8nARm4nMLVHkBW9afUCuivURS71k30z3Hn5CMaAAlFJELRXXmqdRLG6y4oRaQDl1gWevGg7YyyculqzcBjl9svS6EvBGs0pB8zwlE/501w4BWnLOsvikHh2qSEjyWoloycMKsljSXDAXiNCW0OLD4SMjHyrSn3OIeR/ADphvJQj1utWwjnN4xQH0ANibU6qSz1Gp/I5TxvxnwZKGciZZeFGEuQukWhWaWhF6MKrfcLdm6dPtVuiF27GibKSjbCz3/6Pjh4bUTexwbe/WXnhdAXooPWTlQq+Lun7BEDRbZOT1j3WcqOE35TvFQXaVeJAdbCv0NFUovhUKaFJpaNdg1lnHlt4kRmfNaeKwjzhAJuueF75gWckFPGUnN/RZ0r040I3OaV0cOrhwavRCXxZOm7KLbe01yAJ1MIHVGCHP5vaeM3jeHcJglUJbSXuVKy2UMnDWvQkMQXbkyZEvzsl80z6C1JmQoxBluFWMjYBpnTAe1h0oUdIBtr7AH4zUx9Yck0bLuNz2lFPjJaVvRiiURNOk7SQCBshF0IjcFJxx/6jqgmv7pdHPgx16pZ2ZVVcXNb/vEypvbcXOe5/es7e2LKPc7ffatuUoErNYmld0ob5+0PsbxBuoCoyqsPwOrSTYAwO/1WtXlE4jBwOCBwQaVKhWAw0frdC9C9wdP3kcpJe2QA22U3IvQAABBlBmsNJ4Q8mUwIn/0o8wsMji8urLm31DDiIQPP1iqeDQz2tYWvhT5cfELb8RhJU0wgqfHfrgxtGz02HHDqvXI1ZorSmGXV0VmU+juuSpW/qK0RmABRwvykq4y5B1jmmP/zyVQXIlKU9tb1qwG4aAALA963wUrtJrdHBph4TlO21qqSE6NSuKVjymZxbLz/7XSx5Uowi4yRZCzbB/FQ2nyTSFfbuVbANC1PxEnLPu1SlQXYGjuugISJZjwx3j2AUYkKOi4P0BqSeOhqJuymO8msrnJCTnPwtSIoulHGiXIahivO9oCgiEdC7iygDi490nP2gAmcao/FSaBQYjOqSP8QlYm+ALpXYtcLxgv1Om2mKRDDnGmXfbfpxWCS9sYCLblF+PhJi1yWMrRvfXrQTZUGou7V+K6PugGbie1584n0yRYp4sP+b+slyJgi2EQQYPlUvAVD8RM8lJHcv5DsyGKDtoAAqGNl5k0vzInDO1hpmtR3Pa4lo1SwOfu08G5tyt8/Z8ug8rlxvhOS4bYl+sjF5DLAmO6zY/Aq+QfLD95VkmQ4mwmnl1TKUbCP+lpAyAoSIx9uJxNgoFwd8ocIwD4z5tEID+Syt7KKv+rWtKarV4wLKcxwrGsYH1kLEl5X1TdJTaptCCecJ1YT2SKOjI986T91IFNoEqvb70KmKGdALX//z43BgnIH1VpPSbZdiGhyIGMSIToI6d7tJ3cWRqozoZMglFJuFho1okcNXq0ypn+fXggyJ0nfV/Cb+w/pWkORxs14HYjFvdtVhLSjrfFmoduShyXMN6r2y/MJfbObd47zOndpnsXPcb5zkQx5dIMifGVBZdb0qUJbd127myq8zTHppxjgWA4f4WWO380YDkLs35tV5rVz1UGAQ+i3KVGO5IAoA91d5X+vFYMi85UCQdxKP+9NHkTuf87uH/4Dq81GvlDb3/2V1moMeblBLlNMJDuAkoq/0dbbAP8uy6V3iOLYI2OGhuJN5aAeBbgNX1sUiWAs618W25b1CK14LhduRJOm3yj6IbytYajp6jhrGZHK4XGlMt9rxfGRXdPlj1Wnbr9Giv+QZKcGEn4l1Vx7Do/3CSWeqp7N5xQoPAPi+oGtx2ewzDp5SpFE4f/h1nmlz0IzTSIdk1+AmkdGOW/N74T6Wl9vTxuamR2Xk873pGShUPs2e6ELXxb9NDsH9utmljUZ8gjAkSCJwoqc3c8CUdeOn3BQU5rkbzRhh8helQ17D3i0w9cqJVMc4YnwfBVJvvVbBNS49mFwGEjOrHzcV4slCi6Pz22eQCwToqj36ElkqUAEgIFrqR2WJeon/Y91sZjtrOEF1DZQXPxAn0C9nh+TmKpwAYRrfGPLOXkPiK9eNAK6T3Bk8X1i5WeW3CKY1SHusV3DDYAAABDpBmuZJ4Q8mUwIv/2p2wuUV5qA7kP/lMgYMOGkQ85DXTBT5YCl204xtRK3fpT2pH3lNVWI14ysKIPVQCd7TOm/AvtiizDJOKX4azzRtQfjUljEkPyBGJmL66glSrqgsv88kXw3Z8IP5h331b7+I7V8CE45GEMSdd99cqMPzWrHGYEk0DnhwnGslhlTK9GU29rxAXDOW9qdDtdSGPF7Rpf2UKOP3AwvVTf/ud46pC2eTeXEtCseqBDd3hjOpBJKRn3wXDZiebIFK/IBLE5aiKDqfbBKww38wA6MAD0jVzV1khRytXj+oSbHFNbDaRR7gIfL0s39soMHNac+7Iw3dT/99Pr7mDr2wkauqnaUiVra17cqs9jaY8dAkV4i3E1xolF0rkEkrzdC1DIQjyT9zsbyGUt+c7bbI3xiRze1Fc5O/LWlHPkFnqfDWg8SrbIa2JOdeiHjusc2m6seakQQzln2fRaZEz3PBgnBXma7b5bRqTYKODuDvZDhYd5Q2dIrn9woNGJdC/MreBFcqwamD8f5msySKGgFAk6JENwG9xNDVQhJEg26yG+d6NAC+omQSOEkkVqvc/AIwa6f0DevjTGOiUH3mguEyzb1YiDHoqbE+T0h/fYRoA1Gmn6J1ItZdb9WI4YrCmpNDFVs2VI0PGyCWfKXIJpFtNMFJBOoULcQRHQFgmq2eiNp/1oORsu7iIl/flbPaWy+j7Xq78UUqMdNWV7SqW8JemUhY6SWNT/3FpnGWWcf/91sqV3aZPMEUXnoWiB+KmqWfDINT0YpZltjOIVBWjNYyO90OjmD+0ie+0ban/AQNuYxfeiSYYiL27OF/XQjedREkOtwwnQcGwDvKokMFwAd7XokUTzkBwfxH5U+MtUiFsTmO55ANNnx170nIny5T2gTQDMi5p4zscC0h+fIHBXds8T877G2ORCVO7lb+/UI09s8GTe1PBiYP7gX9P+sq6qr2o18d2z5hE7qyMLcJVEZLB3xd5mymiNmkFkWqrEJPV9IlQvsMOAOw2YRajcrLPsM/+rFfIzI7X+QC2RFma696CuUrRBYVR3jMNncy8B75BnJCJDixogzNyT5yvTN8uXlDhiocPkoIH1lbqtMIaL4XVgiZpHdVTHNcjbyNWWyJnB0//25S39mdA5XKi434D7g4niiUbe5SxkvsbF2gCj4hdyESXfIU4vZ0xZ3/1uSJIS7Ec27/qDYwE0sAXx7omYys/I/6nkXZKAhw2huVxigjmpAQgA9iRJVWPphAomTdhDSpMZyFl4x2unvvPirgkF9ij4omljgwaTjmoMTgA46PVRt4CTxv4eCmVfUcex73geu/puumSbhJEczh/uaHMEVaSa/b+OanE/8qiMq7qpsomt4MaUA8ugrpoN8nCcUluv7LE0Cje0OeOlxKQrWxYuIBPNpxGZxFEl1lUCy8BbAJUmlftwAAAlBBnwRFETyf8rTXGXQ0wAmn52coXiAIv3doHTRhJC5+5VwlX41xwvTm0xjZDGBJiVlvYkwNw6eMXxJYY4JqtLdippxW2PK+TFuiSKfmUGjEsc3DZsr/O2yWrvzyUbSstCWLtNwL8FSoOB9K+BDeOhMpXUuPlZdLzOfhvwIs4tjtXQ9WwVucizZK9AnGYrn73Zg0xSJWMpIpVMsshaMjLTHNaVh5+rPE+2t3A0/vnBJNbTgpTedvultByMbnViDS7ppbmaDw9cp5lZRdTX6V8uvgG5FkYFFBzMEGwT4M59I0slSTsH65R1kFVOJ858ON84CwAcleAYSdSxm34DNiJWM1gAALyBdc9O82lEKKjZ4SVCPyXQgEy3C/vwFMHG90PZicHt86WO2ymAh6+Pp4APavsAeHBT74/tCicJTYGrkQVvvBR9tivBpSsfehEhURG9biEoLbLGHdnoqO9SH6yinBFf9ylL4TztaPiFaVEeZuilphEBYPWNAkgjDt9V2r8lC5KaDcMJh8C7jV+YzKBqrqk3s0trmVhYHuExsG7bHZY84MS0z7Et8I9non6TApJxrnIqYFH/cJoxaPnLdQbuAXt8kzcMFaMu4sRW+HONK9eq6i4Qgozwhi+vAG+utsRXESDiQ3C4OJ4hSbrvw3uLY+adLR/JfIO1ddErIxSLd5lvH4YxjQkpVf4ZAMkr6oh/jzVhY+7XNK+/05stopUoEXKokJa3jThpg89UDoVDgmo1M6bPUxFbQKdTW3aRDEjWHOTnZ5dXs6HOXQNYEogTxRAAABuQGfJWpN/1UgZ55vt4b/7TdXXRzKOkwZiudObBFDYB9HbBJ7u0ld8LH0elaROuuSkHqHyY5Qw48jqpnXz3uPETE1UeGfD4rS4ilb3iFgtfpxdDzOsIlPneqITt0ocL+0+qVhnhNS3KRIPB8F6lAceUrr6o22ActYyZrTrPFHiHaIQAoDE/43yaz1gfa+OGEFcDlgrj8S7WxUw9kUyZSL2WaCVdPF23udPzVm2MrJ+BHr2h/+INv0qv8mIWI3muXKD/NAQUJ686wsrTlXtX8ZBWA9GnNZLgewdGrqaR5KJlhWXoyuMZovUTEpFxSOjZAKHljUiXMcChGe8DXvOmn7qc+hxBMwQBNLPEtdP5spaWVQZ8PeAnopLk4Mv2ztxKriqhCfIVOBGb2/orqaLBV1GnftOq+Ee/X/7sowCyUgfKoMKsW+aU4OFTsqxn7KfBNOcrdbd4GhyZa90TwoM9hdAZLxkFCzyVnqf8kZ9b2P45B76AoruIH9U6e6++SSlHAunAvBqgRv7tnYe/WhIzRT48tvkoBY/nWXkpOd6NZnkDrNqQTL0sv2gfN+xekZ3uiqmohtviFEG3b4rwAABAVBmypJqEFomUwIn4dPqitflEkX+1NIBgP6TpQEkrSeO0pTP8G7GKamIqTdqMhhaqLaeFoAVK9PeQEGFbrANtZN/y8FmuIYbe4zYtPOMa5pqJ4v1HMevVg9FSLYMpeCrpHnOmiSLtVsDR0v/X/ItPiDEwVQ1MZqqQwtKb756Q53kTgBF0QbzWTLDJe9rd9b8s0vcC7OVga4Hmh3uv+fSxcDJv4R9ZjLP7vjnFUoIY8DX5NE9LKoGBFNBSkiUQPkgsPTuL+ggNnU+pV9/w42V0Lbhl1zicuK7fJfLjc+AUpLOld6Wt0HRbZ0Fnaln0EKck7+YZLtkHH2g0sDJJTsUNN8f+n7E1zFrIicO8xVO1UKrMhSz6QZvB+fdQ8hZzmVmeHFndLXGOyIKAfdnau4FEt+ve6tlNvUJZeK2uZixtcC4Q14QaEChQ0VgV/gFkHyF0lCbqBlulYpi51xrudhL/N4ONhCOetFSdpPbSpQ2zGtc+sPu8oABzeWfS7qCMtn6BcJ9XPe588RpSQbh+BKf40VRouY/0aCOVPjkstgfeKOe5GODt3ncKHoafmvuglnJou1mv1DsZEkYDdTVdeM4JUOXZBQM8A17oBJflL8fxfM5RZGyaIr3CpTAOLxfFf3ep/F28XliC9RZHiUcJOAfvNU7CMOacAt5t9rdd7iFKLvyzem1PMrYc4ygz6cA/hnJhG/pLXTxgnaL1OE6OZaWI5BZQvb7P76em8739xbBwly7V4bagMsVR8KwvNMl36iMUMcDt22gIy6zFvTmOY/moxfuJVNYhdf2XgU5U7yk/l5vSeIYpR1Q6ePoqcLAWJX+apx+dmkued2y06/w53KTtIG3N8zbIIZbtBnGqqZ7LAFruQI6asvpwDZ6zQ+PEngvmM78muxflsK6OByzekYHkJANeVQbRRz5uOYvHg9sCtTBl785LgvMyc3qWeeQeExUu2SaQKGxGK3LB00aF7hlOn7XNWM+3uu2053rrQyhWMsjWmCboDIXWRt1bv96dNam8EIW83SxGUqV8vwm/n4CbCo8qDwZI64q5tuS+zXbmqxzpZl+GJlv+QbZ8rfnz/3hEiyHDR2ozlnrCQDnZoa1wh+WcOUics+FrIREv3IP/+RrYVbuI86mrMOmAF3njXNAroFOsbWTBvEwX49FRvwwqOmu7VWzQLxumRHs5VIy3pHKSyJZBgh5KsHDiU20t8C94a4pp1OvD1KFmoqRYeyB3Ri9+9cKLQiARvTdDEqj3zRmtdUX+P6Gd8csZ/99XOZhg0Ppv86N4dFxMFiwHF3yh/mH3/22w+lvJTm6LSvOr2Nr9H4Au4ReKuJPUt43y8SQA9geiEJtryPKr1q1Xgak2w6R2yTkBEAAAI5QZ9IRREtf0uMJ/Ucrxc6StQzQ6SbsfJq+aMgwm3sselHLfbrWXYo3n/ECml2irsnXe0lVmM7HKnNI7HMFEVO7wmtOVn2lUnTEcnqmxfQrFZwVCMNvM6XjnqYGCTVD4ib3cpseC+52xTcgpofspni2m2XSGZomCwln1KJ6yvYoOtMjV9pJNqmeqjDjpmpivgU4vVHSxzXIMghBfppF84GCrbB/7w6MReLLYFJxcBBp/R1Rs+pkROChFotPHFMqQdvCRe2ZHJ7aBkFtuEH9BS/lqrJQemAHi6bVdqcSIQsnrPUp+M4UvYGzrFYdQLHdGrkUOsk2dfsU9nvoF7YTVkvfuSCH62kDSlgurTPcLIRQCjpZZ18IqWzOkEPa5XfyUuRL+sux4/9ehpksY8deM54JlV5XXKikB8T92cr0TzDiCZQYafUnvBJjjjVrM2nToTughIQu5cREm+Ry1H7E63SBLNxqANn5E6FE0063MJiSETaroRFY+gbAXYFS4Wz62k9n59wdGnRdVjl6nx0N4ihc4pg3xjP7s2cxMu6iLHxrqUs3SHTD7ptiwiBQ39+5qKIh+7kUOljl9pY9Xfnex/QCor1vdcRZZQw4qbYbyqgCfthJcZtZAE8l2gHTflngwZIB2vJwF/9tM0UCS4qXHG6iVjExHugqE3G4JwxYcijo+BWmcxoEGW2BzYwkZuUdsVO6OK8BAkX6l89fGehaZwPH+5C7dCVA/t8h3BnYXjsakHA7Kmx7+LH8xIAAAG0AZ9ndE3/91jLaXp9YBrW2KUUgGvU3K70oNIB9wGGjaD13gc84SAfB1isT7LL+kSTYIL0TmsIxP25nQq1OPDzMXKqzBbln2fRvKYe1anY3B9G8AbgUUt9mjanCmtZAajwr75TGAWobgUUjkoKucrIVd6ShVXBGXMmVqDtjiHegKrkV2H4P6886g7thn6Uwd4MvMKSnswUQb8Vw0Z0T5ER5IKirAGdO6f1igaw8fauLtJ5OwVXzsbQIK9omPfLATghy46DSBwKpyYfWqLz0rvYKljPEHkB3VpxmD4JcrNgKcnSJ7eMGaTB4tzTuEvfWxEZOKFwMX4H3fvJT9E+4gNCCuk4GdsOiiwDYu1fFa79sdQ4XuuxBdLNltu90Of33Dr69n4tIq+WqiFx5Dfw+d2slSwZhH7CX7LgBO2D9q09wDuppLOEiHWdaFsT/5/JshxXIcp8zVk3F/bKPdVyFg/jWZA64F6mG+gA9deR5EMGm6G9L4fq/JSGJoqCMjU7EDyLuVEvDX+LIbGJQleMmHCT3lU9bR8eRAXdhL7/MErejrUdYkvNYLp1PDmf/RtaY55GdSa7CwAAAYYBn2lqTf9VF7H2Qub9SGC0ZESWY9GGvDLc/22HSfLabA5i3WiccsqcW4CJ8ipuyY/CYBvc4dGkrL2GSs/N10dUypboXTJx5mZ7RJUIUo7akqG6LyyZAQB1Vxcm7IE8qIFKfPW0R1QMoibIDeg//hxu7yBmiwqLvQJCZkXdFoYcnlDdXt0YRTQYkR8Wsm5OsQDwMvV34D11uQu1oSTRFBJZmEidGU7m4i0mMBH07fkU87ElAaWQeFA6t7074pMOetHMI5muy+A4k0JDbpZs5Weoo0yb3TFU2DZ7j/AF4asHhWf1EtJI1YMdLytCsSoJE5uAPVpNQloxcbAXGdNNnTtP5OrlG3gaSScb3G04N44fO0WpxY9YC50fI3c+JlzB78GVDtkt793YhmoGL0vie9e//HuG9hoAA4yt17ymvy3P+POL0IhNQFFeATPIlDBneW928N3vYh37M7bSA9iYr0SvWgtIumK3G3t4+bbD+VZbwbqkDzbWv6ZykyOwms8H70vyTaBy86EAAAOaQZtsSahBbJlMFExPh02sNl6NjwrfORfp4iOo4BcD4CJRSVEcxtEt+xyP0ABaeNFItzQKTR3yaMq/mQVgzzAgGf4DlsrJEhO/UeVk44PVMwTDvxnpzwNDPieiOlnsnCWeTidmrsvYSJ6VrAMr+ipQ4IRP+2MunZWI0pJVo1Rcop2yFnPujDOp6AXAkZeJbiDXDYst3odPLQUoGZem28Bh/k+ZL7yLbgFkguvCnCXppHdp5dB2FjynX5HDNnXMSW60leGdv0ASos6gpkGMlDIope4h6TFgfIbSLsY1VxoKSRTfXZyIx44nDyQUmU2MF7E23rnF1/P7lVqVGRqYngx5sLTg0ECsgpDMiOiGTapzIf9vWET16vZmRMaz871g+d2z77uE3hRDCSxZZRrHKmCcBVPieTVDlxWg9+VpRMq5vnnu2+q5EZRoB10qtCKVGGq893Lvpb8TzO5EcSS5Hs006SZxQufCXRn7BMCrk5iOn1ylAjjJk60ebtZvtlSGrtPhF8vqiVZX6IL+9ikvpNdgvBgMWpjlJYMpm8SvJHn2FBIzt4NmDQxusv7dtWPvhzxk1hxFAxN3Imkjxu+3eVPUZKA0Bag+khN9HUjAhudC54nGZ8f/e/vAi14lrPELqeWEULmtuUciR9HI6qxO39kypaCvC6hsFhKo4lqlsP/go5kyCcls5f17/o9sufW5LO2/AAjRLuMBwKSwf//KybHaEdI9uQmw14y12/umHOe9AJ+CfrR7tr0Rr8JBJSNa0xth9so7yzA05siyhqSk1+k3OWytoqmohC1IGoAGLcy67/hc3EVN5z8ZWB4tPTiNSsX/cdzpreJt+XsZZpkx4kgFR6w4qsvqUqrVtvoLjtZOgqPyFVEC8Uc/NIA+4wALbur5HgvfZK1mbi+kIMwka6tyEtRflUYe7AQeFvK1dzgIvnZLv/YTZrAs5yWa3PH22gn95xctVsQ8EXZtKaZCoB85Xgwt/R6Ccmc0BacLORUqcSK/////bnPuO8JuCegcos1hfrRx7zaHWrF5qMJhtZCCFE/Cyl0BJKp5HvcJZvEgOJRw6Y/CDb5yxHtEtCuJHEWrnGYXTOApDvi+3kbKACK5glphElisyKZwaC9SVjjiMf3KI2ueHYv9AoN/182KjzvYENQr1XivLTh2P3ervv83ca2sHwbXEIZ0Xe9rOH2M04w4BLPauGnOaBmrJasuUAOER8qwlWeCmjfoQAAAAXEBn4tqTf9TFSD3R0qdhqFdnCajNYt7Ks8YrVy4lLeNlm0/f38jKPPfwwrlSWIXhNzXxe5Xi7jMwcp43opnJebiqS6CY2EzGiNQ6pUgez35UOvgxVKiqvIzN3X36kH4lLAseb+TK74hX/IWtpPrKYQPjicmk0w2NayxvFP9mu2NkswvIC+WR+JbuUfEM1KBlXmdxZaLqpZeVhaGeTPCPEnc9JVil1tPdDRoAdOWS4PKLpxuF7BsZGgRAXjp/UONKmugW7kTDbMZ6vV1hzW6pNa1xYfhMNBQK4hRRS8njbM3IqIurHls6bgvWmjUJLgtS/9it1sdX+Pzl9vGfGS9xFGjfR1ysBe3TPtaKWkJg7doQQ/3TKVQ/8HZb8nU7xH37WoZDJp8octwUTQB6jodyCNcVj1kT8NQGU6GWZ3DRg9nUWchJN3Gw2/UD9iiGkL0N2llaouwP6tXbqFHCjj4fvAjuaUrbx2mDXJDJH3sKo23XEoAAAYhQZuQSeEKUmUwJ/+9WIg5BCsDxMdC+MtcuOzvkLHVQFKJPv3QWiSh9Vzm9Xe5qGc3PdTGIhYESE8s2wO4///sywp/Q9Z0YDTktFSoG8ZHClzejyNeiLEoHM8j1dE9XLZONH7L/779nJW136yhF20bve0Lcqrryfps8qRsBf6kgxjo1R6qTbHrrtmURV4p2ppON4NQs8TQPZKuKNhQAJe3AWtylV5inVd6pqujNlo9bnSMU2raPlTzVD9O6gChzaRoVqF38Gs3JMu5UniEhI5GPAjDJNme9hJSGcYrF06kfH+fV/J/Z8dyZGH8PyRrqrwv/wFGT1e/GeDiSbRZ/aGPNSmAUlFdcsN5G7lRyNRWor8GRYMTTGRzTMKHLVGmS8CXZpiLSnpYozNHwnKOe1DOnQnq0PTonWd2plkepn3O3hpVZOHyNQ2jOOF19sWTFG+BV2RoGSC8CsYAcgmOBrj8k5eGx4sfiP7s2+Xq5qPriXAV8ClJZ+hv2hjol1IWVLwxk1AyuqkrhNN+fof3BaPTmv6aNqtCS1KkgfqwJDawiaqGDjgz7Y+CkgXXQyGVORIzvNHLUuTZW0prGdv+fsWMwcPNw21L1DpBAVJpRXXai1qReWA6Putm2h/A5DtiWCwTn1shNBy/Zt2ObdOk0KuTiADZu4aGIg7xZsTxLcacL7Kp1u5EyBYUiwBGKcuHe5XtLtL94TPpAEDLZnFGHb0OiULlKoiBYdpklZweQ6LX0IrDS3o/McRznisC9taZF/ZOZsEZ9AT7BeC2IAV04tXJECXKLwlXQwsi5CeyZm/T9UmJ5DNdJN3cBr+Tb/VqlAUTOFDdqSS8QmfmrDvz5eC6OFApj7QJTrKdTrYWqXEJWW2Inq2XjEjanaI3ugOuddz+pSL9xoRGumCpqVbLDWABO5qiTPWKgs8STfpaH5A/DeLbxeTFmR2UQYedNDcVI4tZxGuefBMutQWOzUUA8/INPyVedgP+3m8OhvecFTyawVXA/FRV3FXIfvpHHokmxtei9G0MykIEdVioK0Ag2bnjhIP5dWFmIao2OUTM4ehwYovXBFk6qLZFJMlShRiyXIqohIlzuXNUVqhR2gOk0tbByha5xz/JXAlsB71WtGRhrk5pNsgTzAAPnR9vdRFGgxFzPk21786QKHouxcrGXmoSCH85aLgz4jWItqj+etD0jPLff4fvrOesywjOvvOBTsH99b9W0L9fPcAokPH1tkBQ/9/Tjmts5TdpPQ55jw2qt3Hk1BKPwYMJdWoDVxTA3U2zsgtiImID+wWJmmvNDxV942glzRagX4LVeT/+Nk96Cp99xbrhwVqqa6ZsPPkCfhYT6vUPFXurieeLxnLhkPJy2upmj31p5uUDNfbVfo5yerKpp3rUNeKY02kcpDSyIDgyP4xX/JSYYxlj3IHaFCpD++51pqssxmQmetNnITr9QQjuP5sule3Ur/Irlc4Ghd4geHXCXCDjBdq1xzVbOR3kA2sVVk4SDaCcxsle2plHvGl9MxVBOxktkHTTvI5D/hDpw3kb4Wj+lUR6UJ5n1BsToMWSxlQcin2GyyC5w73XquXney6QpHr5EXAJDf8D2L5SOnEGSqJobjMoGxN9I0b6fLMvolig8MNRRjl+d3a4SBlgXN/Uz7VnU2Puoc/fMppWceOyrsQC29VPlR7R2cP+2E9FcmIg2sVU1/jiAVBV+eNunRB7cVaxMeJVKmExuUv0B7B6WujGzgMIGMT7CRuoSDAB8km0U3jTDnfE8MiAUAnbgP0aFtpLOgbGx5HynfBKOJi7hDahi9CohdwKnnh3tHStIR8ZReAjX0IiSi+vQTMcUP+ItQPCZfOT69+5tlGEx4Svw14KZ1lGf6Qqc6F1N3MpwqHSTZrrWQpsA6w/7t7D/9hnbdsWcBi9yatl2NORThBPIxx5kIAQLS8Kv84vMtHjntPS/vkZEtOgjYI/MsNyaQQrIzRg+ipCeKw7w1rK2I/c/n1hbT2adgCPGkGj8sCgx53CqVN8y1iNCgFVcc9Bp4bNSykfosC7MV2FFE/lPILo2oivIjn18Bc5JV5qd4SugYMpBcvXbszsM67jmjeZAAADF0GfrkU0TJ/pC3WavGDET8VxDiY3KmyucIq37K3Xr8+azAuq9g13QYjbiuL3MUEOR3ffdTY8riUMPpoiPqiGBaCWjixoPzu53osb+8Q4nYTzlK3JypVLh6ITygydn/1nM9J4fCAw2FrbOfbOOJarKOAefbGdI9hy/Kn9/7aYBH36ONN/Pcdut0xrJP2oUTKtBfeuj65Y1PJwtjERSC5n1WTnPx4nhTcLpiZWBKZVF8Xw+p4Q80N3UcctM654OvY0AjUPwhUXJKRYT4qzQZDgdkP/itaMEqqkRFFvfR91V6T0RWzRGFBIIsMJCv7WrG2a2cd4NGVc1jweqgc/bHc3ZR2h0qEjVpeButXh/n8LViD3UP67JEfsXxP9wZB4aw85cIPnTuLOAEhyw5e7coH0ccuicqNKbYmgQQO8DbCgv1z/f/5mGbfdrrLbZo1xFxDzxl2Pf1YWhHNKlPk4QP8rGl6T9fGA9cYDBewsLgDxkrFMIeISYFOZAuiMH7cDQBSmnxl92sN49ZLcsV7ntphCEE44zsMK2Q0DM536M952fkttks4EhMs+2AW5j99rFfSNKB71QeMSb2MqTMPrW+f+wXPDfBd1qXMSTQpO/M+B6WwlnDbzSRszmdHOWithzAAo57budUmXu/pOVN1kcqXQ/PNWQRzSXafNFYyI9rJM7BSkrYOTbZ7UtjD9jTgwDO6viMIZ29ZCIOJYF39VqFmg7pFRbe53aoL4IgIzjdf9ndzeZ3+7PqHMd9d612TS3Eb9QFGtVIOUHzMy/Yipfnll4PGZb6LpUKghoGkhKA5R18xxqPGHNfUvhEuOWL2W5KxefXEXL3tPa77tNtSIBbN5n2ZJ9p/6pUfNr+/gQkb9yl7fmB0nUpSL0TCWDKyl6sbRFUmxgZjhTDTTWFiYIwOR4MJ4YY122wWo5iIlMGwTAyJB8rLyw4ibmM3TBrRpgXueSBNDvaKR/tyNOY4EyWzsPPSKfN8W0V74L0vHhEnbWZtIQaPfPwfsP13Dvxa7S1qmVH2GtSHg7XFfWWocNGH8k9qs0DO5jsLBAAACGgGfzXREf+o5qe5xWuy31+JXwKxvdUP1IS5Vy8XO7bNslgOSk/+EkGHrVNlYzvnEcagnX4MoU9o1QwC8OuPnOY+qbHopgXx3DjBOGM1vQ1i7MuBHCzwEjppEyFZ8Sy6Ng2jU49+xS/xdGTwZYssYCR/yo25H54Mp8zAZkguGFuxDo4kXEZ8BR2z2CbNYPWruWuucymBTgIuEQrhOUk//sX3KdXC2Ascp9SgEtAfih23VG9++kA+cSCm3uutEexGOCPl6+dOLOu6bQ4TJ8S1fgNsaI5PoM2KwKaT7GZJqoWD6WJUI2pgKBkx7uaYQRAoUCmwkabRWLUiro63VuiXPLSV5kapz9bvp+NwpJiO/uD2lXiH4s6K0v3cQ8JcE+kXtWzEsKL7EBpWa3Jr0qj7pCIbE1VG9WlhscZlx+lTO3k53h8roi0EiVCQJemOYQAdUs1RFxJFhRzqEJdd75X5YZYNZy1EbmLWTkwSgX6KQ6uztMIKBkUVHOejyHV1WHFSwRqsZaBe500xoY70/mowgr6TRNPLNpr7/Jd0hSY1PwZwS61EldzOUXG+efaIa7eZwsCEVN33GUbT/8odJ5V5R6PgvDHNhCIxOdKKMxPs34n2ygi1+rglDCsrpf64grEWWndn2/f+Y3qTBeQMYLnRX2BpHPZLUtPKXeALZzPxi3ekByqaD/EzG6pgx6Ve71RD7g/n7/6C5N5t97+0AAAIfAZ/Pak3/UDcdEtncokwVot8atNXFPSdc9T1IRgSdnBDt9RUprdzD6vPWZ3SqbmUrvHyS16JTCpjdSsvdDlzNNxi1Fsp6o6yKuVHS9E2Ziek0lhFleEG8nduK+8BX0j0BKxjR0tvN69Smy7/JI3rMJqF3VImuZdycv7G4AjjLBAD3K3dDgwYhaWfv9gr3ZCcFfZpm9iPcsJFTAEcA4JCd7PUcUaWMEOCCVBFwd4wUjkGOgMupy0yTxGehXWtCEG9FY20AyXP1L3Z2eWXwOdNWCsc17Ucxyqi51iUu9o1925AOP8fSPtfk6cmaxDDQzO1DsO20LKCU66LQBHRVnTZauPYVVQZiWXW3wkmctU6ogP6ngezuBsPAw2Jc7cr6MkdqHmr9Z1kA0DFdPFGprsRiopo67DwgXiuU0Mv8n7itAEMNoU/oZrqSFZ8zmQr16dfAsaQx4P2XFkubU0je+QPA6KDwhw6wsfBN9Do3KyxwjP6nVdUKsnTe2zfcRZlkq6YmFJfPv01WBX2jRQLDJIqlhuf+gmJa2VJmNByQUgDbL24YJECJBpuBwC0+43cLYhjtAalb/lD3EYZq8MUJQFZ7pPEi4zIHkOqSeYL6R29hNz+gKxTUaUA+JIcGaI8IMvnQ565iPa10UVqZ29hEHQUw7r7dy1k35NMiDHH2USe7f7+RWp7a1LmdIZSTlzElbFzANBOX+O/G9JLIkKS8PFIgAAADx0Gb0kmoQWiZTBTz/wByqeqsQIOzggPTKzLBQHxhS3pzT87MLRY3YdxttE25iXc16Jh77NWXup/euxhJU8OIvkPIMgZ1/MMc9HDt1TKgGZRe9HtZKVgMGD2YoFf2F6IA+AtDvJkMIyKBCMJv+UVTo/zLS5DnL6cGqO6uRDqik9p7zXfXTQG6RW33ezyr0LhlLiJ1GGxl+sV5xkv08Y/91tz2NEtU12MBdJTE0hjKCJ8YqrKP3qXZnMSSUgBqzFAcPsntF4t4ItfJCfMSqk+Xe+cJVPBkDtSf8J/c3kmwoaPQ+HnVFChXX3NhfJ2LkwEkkFIaW9O5ZSBPQuDaW2AdwspD+WJ2mS/xqm4q1+0MntaoWf6EY+H3AUuZTqpGgwX4S3FB5R42iSFhQtqxwbzuA9ozCbMQhafBf+yv588jq/iNwtNNGAHcFhgs49AYTmbxt6YGB3Q/ChCV05JnEyZv4B/abUofKq7oB8sDgKb/Xhiv136IThqYOZb3KaYyPT42GChWD2FeXneCWslbsq2hZotLvdbnCswCXKJH63/JoEifCWh/BjBqRKA3Ils510/5t9Sk1mqJS5nglgEm2v4o4Af1RZMjrX6azmnBrBUtxdpIPFRAW9nzbA5inUB6e/+vOFVc+SLcCzESkPxKnRh8gx9pFtyDN3lksavESIxynbFIv8mLBJ4yp1iyVOTmsXuXufnHaATfyhnfpnKjwCccpPpYPwtYaN4XKg8/6+Tu6HU7umPH3nWC0KtFZPAp2AOAoEVle95b01d1rtwL4zAYNfgt/4sIw1++gZF6Le4EARXWI3ql+lPVxBilZogfebRxKyVXIMEXrC4b67DYG4fGcYgprGjiswGxnqKvQsio13ART8agL4UyR6qCZ6b+2g9fHqB9ll8UU2CAGosreH0G9+4deOH05z/iK8r+6qrIlAf58WlvR0hxgn519HaGtfgKl0kTNb52xywtrVVw4Q1ZWIbCpwara3l7/GCTIlxLxAsmmG/J8IdzHUXr88zw47C9hDegbDdKQit3HU5vWURaG+VhdiAW190aS8DsRDpS61/QCQRtnmG+ZwOjGwO8ZSeMs1sQC2fkb/I3zB+tqjk2YT3jESHJ4sIhKJzG0nIRkFs+mP/o9ncrX9jKr7kjYIMWgy0Ql+4ZUmofr634h0YYUZkWww0ukjLDTI/l2X3d93ylpht2BFegjwZ15wJS8z4Z+AxGGEy3o4mROBX2KI+P+aXloIwJ+eYXuYYtj9QTWdqflQ/HkcJpQQWRGpZVMr85xP2OLGdQ1rIAAAGaAZ/xak3/UQEvXlOemKVn2L/PjXQZ+n+kBrsuwxf98tlR8K2rNAH2wD1/q3vZKYIc1eZHKCQ8DLeqTlkq0hnJPG2n6qBr5pKhDK1ecTp4vtc1LULCCXMPIcNgZf/qPevwhzZ10eEHnmvj4T9hMtSn+9OaFI/WnAYnmJQq6p8s9pS5BVuyAZsnoOU/4HQ9ABr5ihnuLWQlT4lpfOUekwj2D/7CeHV6kC6pXC+qimoQh3acbitge3UibMba/V+Y49UWR5rsSZMhUPPLG+XmEAz7ej+09gea7ucktviNp1+jd8F+h/t2XxOH/Vmc1wHP9Q+eYt/j+WWbxrja0DoGtDJh2c3FC7sFUgA+rVzL/0qsJm4OtkDyhH54fY62bm8IU/exsu/GNzl4Pz20sVQeqpukP/Q7KEevKd3Ig6rlreBEuqaY0YvoEDSOyInKHAI76WKzSwN5QOzo8JC+w+aVRB/E6QEtgTzvrIr1e0wO/GU10tUZmcoqAhdDjUVyPKVkR3pg/22/DpV/4lrWe3BJ2BTiy3LFpcO4Cpgo2lkAAAJtQZvzSeEKUmUwJf8A7+/W94KAcSXys3MYr9lZ9bBaetLmKJ7I+qfkEym1XP0V7T9xtEVWmaK6T4rh+DDTes2gVyFeaMhZ6HiRQoIm9GEr71TTsnSHuGKnQxfalWkBstybJr6iW/Q/cWzfj1+H6FxOrsn7pAqo0vR7JYQq1zk9v1EpndKls0+k3+Hpi0GtwJsZtud/J4KespOQ5R/f92v/83ZIwEfcABGnD6y02NcGcGZ2Zn5JSmG7xYhmsTXJH4XalaEfnUoY4XbpZoUiTAQWhSkTFsYIfADQ3UDY/qbL0xPAfq3Ny3neS23xDuD1nrG7Uzf3kFnmJeIT42/Rs5ZKmg9qV22qxSUPn0HTic7TsgvhGtrvbVXZyELnlz6Am1HTVsJfYXnXWmL8FvZzWiWsWDt5jfN61wU5+LiI0UE0Blvw5dDmVDwOJ+jxaolMfBOFUYU/j/ZIEGP7VeDzFsZ2Jx7KFguzkX5T8YzQu4Z0cskGzNMZCkMjbgcNJL8onqLgaoyWqsb/XITu8udwGoWiz3LeZinXaeZloJvmedTQwd0MIjdN0PGkcBdlg2yxF1Om1MNQYLzPdrr8gxLa7kTlOHuOzOTDw9w/ykBzJETpf+573wSuLtDZXmJbyo/Sy5lVj4Ut0IhI4pwS/RyySeS1gjaj3xDOvCe+bfMwCMxn6GXaCUsL815xoOEWtIMcd73GGtoxa0ijL3sEfvLSevvImZYGAMfMDz1QEhzCEkdmqqmnZPMIyXJGN5eY7XFN0GuR0tChG7GUp1cLat2SMrMQUKvMKgSjCZpnkY4lCN8KMz9oKakKIn1XCr3nF/BAAAAEW0GaFUnhDomUwU0TLwDv77neijhn4nNwYlybCk/Vvu0Z1Jp+yomOuM9kjVQOQTAHiT8hBtxIS6SPNV+P4VxlAiyu8eaVu5Ov6CNZ5inJwRJJHU0vnWBvyCewFXee0T95NkvG704JwyxezkVujfcPpYUo56qP/+dqiNIQ2x9p8FawO+SxfunzoECvNEgVHJBaXY+l+tdQ9qpzgEwy6n2qSZ0nTBxBqkzh2iURcbdecawqd/vjZ1gv/NkGaJc7aSvwbEQ3n+xsZUyLF8Ok5i5qvRPEy8b8OhvXPf/MU04oIT2vHgyoc+XRjvD9VTJUFlEvbV3V75ru/LyZAOJ4ThDASN9Q/tMsDCpsq967VqDFf71x1uD82+aexvkcQVhjBhsw1J4atDlVYQgdIz92oXlYk6kdYJEWKy3I4aGU/md0dE9UsgQXg7pAABa0H7XGg0lnoj+Svy5dPSxXyd1olWpsyq59UalpaOo6j79F9/15cy/F/v8Be5Q6sXXpx135KNMJuTcgVsH1Qn8MW4+fS/cgKnpnpGm1Ek7jutfcv1Rb3ulH1Zr0bQ5ufAbep9t/QxPwUuDLtIuJEbjPkb3CCoNRoQW0IIXR3j7NACWuAm3fpKB9TwG7cuEXTO0bQEFNMF1ip0CFP4LY6gGQYnPWTS+Jueyp6CnC3Tkf1DyMRav+l4KYfir+gLT2imQfdbeWTsEZ1R6mw7cK/w+q8j4xz96fP56XSnUMC6lmi/naYDNzyA1skBmxvrYdcFMrOVgEZ+jt2nFVNQ0JbxHhgaN+VSZVNwkPm7qCZe7k58sAMyt3ke078hQzVD+HA/+n7I1d1or5DGBGLn9h9M3iS5N9tOjA9ukCCAgf3m99UqZp6Uy07ykT/7oYZGHPtPwEHm0BArHTwa+Ew+uieKFJSzO3PDIWj8CYbs+ig9Die4QgXrPQ6S9G6+tVWzpCSdBt0FnXlNBHTSapM6caFO/YbhLamsDo0qFvTuAh17Nki4qGauJI078aMvVJiZqy9/Q2izXeg3zNp10+jVpwTjgaAvN3XZnrZRtbfbbj2794lBFL7ggqnCPPLmeIACYc8TAGpTz9woIdSlrG2DqFNMZCxAl4/554K5hSAVr4T815Lvu0k8uSqW8Ovpzgfvii1beoHx9/PtJl0NnhZEvdRXykJHN3WvJePasGZNg42/rlI6KG+HODU4g7OnzEilvQzesNXfdxPqF0uBoj8830lVJ6FDAmdRrYTvzMZveIW+qyPeM/TO/6v2OucK8BvxXnKhO7CVcjsIezgAYmGQy0Ge0sGvtITw0vpaXsO1k/ymdwD94rNDNfdoYoL8W752nBJrbet5E4VMfJFXeesqCCpX83KMmbF16aL9uAvovlMqHyLRNnQtUBrT7g6y1r/D/GOilPVw7nn36E0sRY8v94btSbrCR0BCoqDC1SN13ziJl9MtuZ8jx1lV0LDYORoGpZuxkTYj1WR7vBCy8oMAb++ke8JCWAAAACBwGeNGpN/1Mei2N6mB4YWNuBSX9hMPX8vuXHJnoiLqI5twMkacWvi8qqNcsNpxta4ufiqo+GaevrvIzJNlphwKy8Wza1Funz2H27xWGIbuuC8HOmZM/d/Ybpc2z92vKtjTlFSZa4SsCbyjs4ZfYka7EGtp9BKSEjgrJQ3KsOd7GCfRFLno1t9zGPQW/KknG/zMdxTmBF76LRsNQCPmcq+MuTD5ZIPQhlOMVZbDkVVW5RMsWUq7jqyPkNZSx1vsafPIBNE29zwkdl0u6xu4g34ciQjZNtfPpqXll34MsHkUArPWi/K+w4rA5BBcDriKkjXX3TAiZtVQJNVlDQUH4AIDHXLkCxkI7md4+JG2+w3intjYXISCl1h4s5xVmkQtClLx5IZqqudvR2XgEWaidpJlrJBlDD1Wfehdq6rIw/st3uH3hTs6VtMubSE5MkHJ/seuX67Foh9yC/3L7y9Pd2W6u4cjuAB1K5zBNiix7+9ztRSKUdsNhrp1Fpf1uLjmWazspvXeg+igU84FJUA45yXCN2q+s6zTix+sNprev6xjM5C9y5yVysY/q0KyAZ2cyVkKWlX/EPkWYP8cIkJrxa4EOpRud/QZWGRulvyDRVPUtKCH2cB8cm79PovKCGadLXHwlpqqzluKTjc2QrH6n3uVjLjO//EfsMs5dTgunQYmN3jx3S1+3nUQAAAvtBmjhJ4Q8mUwP/AhPxOe/wcZCjvRdhg/Xh+Ftnx965zx9zLEsPogRVuDFmQ90QenxYUJT7B5crlf4n40uxwD9Zkxn63kAzU4hp/7GMMIuKdqlKdw8O4ZM1yONu27bKs1AQoNkcN5hw1Yq5X1i77fIc+Isg/oaf3N9fX92Ata3j0MBB6tAZ1t6LMMotHu5KPjCUjPVKQuN0WLWWLBnFteqpdz7rUthxgJeHeNwg3jkszxr20MjwjDtzBj+3joK57Jlz86MPwBvx4eqXJyhE5jcFwJ8tWEM+EXspd7NT4XHPV81LTMmRpqGO0q2MsVNPax7OvwSWhx/2Bqik3sdkq3qMZYQmtOeEQzcp/Zm8BozH/oVZKPfhhfAsgucIA/pheFb47r/obGTWFzNpE5vn+qGR/PWpyvqkHJnVPkyZH+bC2Q/1QDj5SerM6F6R2bVzN20dcQYxgAqZiKA3ZSo7VgbkOTmvl+/oKb71Fjbz7BKliQCM3skgF6FnXXWH53hxQj4nBae2wy0QDJSUilh9rs8O/wKehQMvBuy5jz46/0qUd5Ac+oxhvk8yuh6/kWOssTQoDTY2dZPyAsNbAG0pByeKk6yYwkuWTUC6kXu3u4ISJ8rD7E8FM5G2YV9nCpK7ffPK3DH0J3BvnxH7GQ500A63KMiueLLOqOb+htLsLqlJX4GSaW7vzGRNm58kIY0BgRDvTusKzqqD/X51hU4mAKr45W5hmk3i178ZdlbEePcv7Rrt4nGJyM2KGQFNA33DuMmIiLr3QMf1S6WFwraOoXrwXVbLtR0cmIwtcAzUOOWZLwsxBn/vGtxf2PALnwpA7KHMTiBPLCxyemCTVe7P375sOKfw0eP3kBXQ6w16Zcr6G2t2I+/lHrG3NlURUudBUbx+ClBxO7ynIRFcPHogJtSSOqU4FWqjPrO8CrY01MpAwD2zjQMwcJ6qANemPINLu3n4kXONYZFrk01m8oxSgVDOGpbQGrKrxrN+Ogkf6xWw7tFMfevntCsoMkZAAAABzUGeVkURPN9TI/Wbat6qbVFE+dM68EB5/ArWzE1bpZMcMx7mn3RcGttT7EqyoUnTlHuRMxhp3JvoXpNZ62L6BlqZEwtu3UJ4x6c9NRbmU7tIc8S7BByBgmiICkwm2Xthq9wXF5h6mDJe0GwfxZTnfe2kCGFO0WGnKgmpxz5lxqUNKaQB1lCBHRgV56zEVKstNdDypr12NZ5hhuQ9Zep7us6r+kvaf9+CH6D9g+AQXMkUx1XAVBqetFc6JEUPCl/oaJwVJvu5E20QH4lWN41+FIEX03CTgN8/Qrq27jU5CCjtU9vaqpAYdgPqvNSFNY/B5Rbhml+VVuS46r/eIGLFvaOBAas0uHIoysiaevwScBOdVHHAoLrkxGk0j2XWgjUQo++U1NV1U3LuEuCWT6z9BmzsbTHeuhKqsrtG3HmSooFmvMMHcL8IOgGpM62uuTK/1AXONaGrAhnxHN1POWmnvWdOPruvjTuJZqT9TfNijkxW/6KrDeRbuZtYvZ8Os2xXGdUmq00+7HPoJ04XesmGVPGO4S8A6irJk0RCIMAz8vGLywBzzJRWo/XOy+7h/BowX5yl86W8GdYMHZwv2tHaZOKhGG1FVzKTs29FYrVNAAABTgGed2pN/zAMn36ge4q9D3CoKljhm4fZEncF/lf/bGXcJgV4NXo9lknOu3C1ft+MnxouB/Yr73mmmoTRoaI3iD+0dMGBFP+DkQubSP0SplTBqKhtBGKaq3eso08hjycZPxIeJWZxcXbMv6SvxdauERp8Poys7laim0L91afVkNnZChLk0RxKyqvIyevyVVDcPwnOVEdwsnPg4yfu5C0UuFWbXOdjaesEfBhHU/QfY8Bi0mRiCkrYaZeNm6U4G99nWHOT+maGf9Agz1f8qtZNJFP8NGe7s8gC+cbshDsvUJz2GCEnk98ULdMaS5MDkLZB4S+AJNO2J7xytjKTLgvAzMHaSFpNvinfACYEKPSGLPKHbHUskETzWFE4GWQLNJZGMesVw2x0mXEXWo5CC0DXdrl1TGhg91OIc5RbF63kdypCgkQB9qHVj68GTLd8Jb0AAAGrQZp5SahBaJlMD/+hjhDOTQeUtNB6gAQk2d1vcbdp19FWiTbN2JK5wFmlbqajH4QEN8EPeqInAYxhJ2KvUt6u/rpbqt1+XB+kcfSof40XNwilZMGNSGRTlMJ/o2EnTPAm8/pnS5d6s0DiDj2BZrgT47lX+jquZpJJLYf2dhTMEjUIp7+T1HjaJSKgsQqe7fz1Tzxd7qpcZEnh4UM2B0ipJGj939vpElXS3GHg1IVPhgshen8O1dc/IQEn92jlfCkCZi9dobJOklcZynz31Ub1jwMAdo2rXFPKqUaI/2clH/LBUroKkEEq8kL/yw/WZ4C9I2t52oRfz/FMI3jR34fKe0g1hPAShFUHu994APA2mlh8i9uGwdWF3QUfmjk7CdIZKtDH53hsr2PXlGoZtM3KiTBWOwjqkWInFquL+XY8sPe6tNmr3IVR+Ju4WE4n5wjJEHg0Foononp/T4UfBZQIFaJwUv2gPipZLmkkV1n1r/N2mxnt3uE3QwdFtcRmDxLV0VHsisZcVXY2BdFGO774Wo7ydJ+u4nOJGjvb5nX1qNJHYQOhKW9nXQ/3gAAAAeVBmppJ4QpSZTAr/wBk1pRrg4xXLzfck9kuYx/ire85HYkfHSQEo2oBx/cjnOgRkPww7olNz/IrRzfCXGuUWL+/TdRuK4kLq31jWCDL19ti1D+wkkKKJGhMK75qXwZg7/D2T+Hu3IsqyLASy0LIZWeHsXE1kCTFVXi7K3USO813FMFHrW3DTnuw6GKObK/DV1umF/YfQC4aTLnRWyzKMj0Jmpy3IAhPH2xeESBffm/INR+cSKEZG9HWV7aHflXDcKL7GqyD+zwEf7STiC3OKo5yBsYBQqEhEUTsBaqC8/Zounf/7dBa+n5ryCiOx5+8E+89WY8bx/lwqs0uIiFnl77O/qSIGSHT0DC4YYXfDVvmpZFMLWrvbr4VK9tKNrjmoeK5ekS5gSCEsLGGtsx0XpRjeKG8+ypootcKALNcY9PoqLmSbE4e6K+ZDwy5S3bOiqFB4I8PWaT78a6kh11QOzHrL5WU812KpOXsPqs2WMNP9I1PxHKYmI5t9HhnaS7Ke8uQ82T5ffhqa231kr5mL6CEsa32eaeY4SKYO1gPUAtuZN1w5KPdMVbhIPtJOy/vKKhYUej+Ch/bAOvZLpVyA9jNdF09ELOLQIGrfAyWkvr8iFkamMtu0QIUu7Y/edoIzB1l2bnjwQAAAi9BmrtJ4Q6JlMCb/8fhFaE5pcKrr0n9SMVQQvtJSN5TQ607ZZwJeVwbYog/8Ux7KOX0UEcd1fhtBvg9yeZy6r65F/J1XrUCl0/z2Dn6TG0uRM8GnKr9F/GRLY2iFnUHe8ylxCSD0pSWKGJgCnXh2L58oRcNBMmy5LBw24HNNoadWhHUJNH/fvddYldvRBlKRQpEZW6a/Yhh1dFcMXatg8xgkeI4kPMDoGWERUora0L6gy9iLxgf1E5FSauZMxiE0MMn9F1sa5Fhd5CTj9ZPDq92ag9C65+3WAa/B8jkatj9+HE8EIZ6bLQfzniIWgp2Wj3cuqzoKJLF4iTtTxC3NQCF0yt+rkpQvm9l3DEurRepCkS/VkGAw2LXQIhrJiV+AAuCqHQuNVNWhmPzdFQi38QeuoDZ8mcagk/oK8pLKpCpWZJPohU7CaW6ixsksa1L3rEY+Jgw70CI5NE+EF6oskkjUbuSo7fr9rS72my19my70RQHOQ12xB1P94fkk30ldeKOZVWXdf4DDqSWceMo2Uqv9v5Q62La2c1vqZMFdTgcItcDYXzzb6OGwBXB3Ifv6mDeyVdYCyRHg2YOuV+9UgT67vf8F0KULUH5W1Epj8qQlFk4seN/glVu9Hdy1CnzJAsE6a23gTB3eqB01wZW1K8M6AoGmBMpa8dE183Q8wACiKgum21d0OFanlLW0HL9QR43pSvrdhFpYX1MnaIK4Ltv5YpwgG6v+yYcWqY7HlaQAAAFkG1vb3YAAABsbXZoZAAAAAAAAAAAAAAAAAAAA+gAABdwAAEAAAEAAAAAAAAAAAAAAAABAAAAAAAAAAAAAAAAAAAAAQAAAAAAAAAAAAAAAAAAQAAAAAAAAAAAAAAAAAAAAAAAAAAAAAAAAAAAAAAAAAIAAAS6dHJhawAAAFx0a2hkAAAAAwAAAAAAAAAAAAAAAQAAAAAAABdwAAAAAAAAAAAAAAAAAAAAAAABAAAAAAAAAAAAAAAAAAAAAQAAAAAAAAAAAAAAAAAAQAAAAADQAAAA0AAAAAAAJGVkdHMAAAAcZWxzdAAAAAAAAAABAAAXcAAACAAAAQAAAAAEMm1kaWEAAAAgbWRoZAAAAAAAAAAAAAAAAAAAKAAAAPAAVcQAAAAAAC1oZGxyAAAAAAAAAAB2aWRlAAAAAAAAAAAAAAAAVmlkZW9IYW5kbGVyAAAAA91taW5mAAAAFHZtaGQAAAABAAAAAAAAAAAAAAAkZGluZgAAABxkcmVmAAAAAAAAAAEAAAAMdXJsIAAAAAEAAAOdc3RibAAAAJVzdHNkAAAAAAAAAAEAAACFYXZjMQAAAAAAAAABAAAAAAAAAAAAAAAAAAAAAADQANAASAAAAEgAAAAAAAAAAQAAAAAAAAAAAAAAAAAAAAAAAAAAAAAAAAAAAAAAAAAAABj//wAAAC9hdmNDAWQAC//hABdnZAALrNlDRuhAAAADAEAAAAUDxQplgAEABWjr5yyLAAAAGHN0dHMAAAAAAAAAAQAAADwAAAQAAAAAFHN0c3MAAAAAAAAAAQAAAAEAAAGgY3R0cwAAAAAAAAAyAAAAAQAACAAAAAABAAAUAAAAAAEAAAgAAAAAAQAAAAAAAAABAAAEAAAAAAIAAAgAAAAAAQAAEAAAAAACAAAEAAAAAAEAAAgAAAAAAQAADAAAAAABAAAEAAAAAAEAABAAAAAAAgAABAAAAAABAAAQAAAAAAIAAAQAAAAAAQAAFAAAAAABAAAIAAAAAAEAAAAAAAAAAQAABAAAAAABAAAUAAAAAAEAAAgAAAAAAQAAAAAAAAABAAAEAAAAAAEAABQAAAAAAQAACAAAAAABAAAAAAAAAAEAAAQAAAAAAQAADAAAAAABAAAEAAAAAAMAAAgAAAAAAQAAEAAAAAACAAAEAAAAAAEAABQAAAAAAQAACAAAAAABAAAAAAAAAAEAAAQAAAAAAQAADAAAAAABAAAEAAAAAAEAABQAAAAAAQAACAAAAAABAAAAAAAAAAEAAAQAAAAAAQAADAAAAAABAAAEAAAAAAEAAAgAAAAAAQAADAAAAAABAAAEAAAAAAEAABAAAAAAAgAABAAAAAADAAAIAAAAABxzdHNjAAAAAAAAAAEAAAABAAAAPAAAAAEAAAEEc3RzegAAAAAAAAAAAAAAPAAAGNoAAARZAAACxwAAAaMAAAGXAAACVQAAAzQAAAOyAAACAwAAAfwAAAKRAAADGwAAALEAAALQAAABDgAAAPMAAAGiAAAAgQAAAJgAAACtAAAAjwAAAVkAAAAZAAAAVAAAABUAAAAUAAAADgAAALgAAAARAAAAEwAAAF8AAAGRAAAAtwAAAi4AAAKRAAAEHQAABD4AAAJUAAABvQAABAkAAAI9AAABuAAAAYoAAAOeAAABdQAABiUAAAMbAAACHgAAAiMAAAPLAAABngAAAnEAAARfAAACCwAAAv8AAAHRAAABUgAAAa8AAAHpAAACMwAAABRzdGNvAAAAAAAAAAEAAAAwAAAAYnVkdGEAAABabWV0YQAAAAAAAAAhaGRscgAAAAAAAAAAbWRpcmFwcGwAAAAAAAAAAAAAAAAtaWxzdAAAACWpdG9vAAAAHWRhdGEAAAABAAAAAExhdmY1Ny44My4xMDA=\" type=\"video/mp4\">\n",
              "                </video>\n",
              "                "
            ],
            "text/plain": [
              "<IPython.core.display.HTML object>"
            ]
          },
          "metadata": {
            "tags": []
          },
          "execution_count": 53
        }
      ]
    },
    {
      "cell_type": "markdown",
      "metadata": {
        "id": "shzygzgdeG8J"
      },
      "source": [
        "## Plotting Timeseries of obs, acts"
      ]
    },
    {
      "cell_type": "code",
      "metadata": {
        "id": "j78Utge0bfxb",
        "cellView": "form",
        "outputId": "528b92c3-f143-406f-b018-34b9bfbebe06",
        "colab": {
          "base_uri": "https://localhost:8080/",
          "height": 281
        }
      },
      "source": [
        "#@title Visualise observations\n",
        "obs_idx = 0 #@param {type:\"slider\", min:0, max:25, step:1}\n",
        "\n",
        "plt.figure()\n",
        "t = range(eval_seq_len)\n",
        "plt.plot(t, observations[start:start+eval_seq_len,obs_idx], label='true')\n",
        "plt.plot(t, eval_obs[:,obs_idx], label='model')\n",
        "plt.title(f'Observation dim {obs_idx}')\n",
        "plt.legend()\n",
        "plt.show()"
      ],
      "execution_count": null,
      "outputs": [
        {
          "output_type": "display_data",
          "data": {
            "image/png": "[encoded data removed]",
            "text/plain": [
              "<Figure size 432x288 with 1 Axes>"
            ]
          },
          "metadata": {
            "tags": [],
            "needs_background": "light"
          }
        }
      ]
    },
    {
      "cell_type": "code",
      "metadata": {
        "id": "GqKohTUOdC0C",
        "cellView": "form",
        "outputId": "770c52fa-a941-454b-87d1-4793f2be37dc",
        "colab": {
          "base_uri": "https://localhost:8080/",
          "height": 281
        }
      },
      "source": [
        "#@title Visualise actions\n",
        "acts_idx = 6 #@param {type:\"slider\", min:0, max:7, step:1}\n",
        "\n",
        "plt.figure()\n",
        "t = range(eval_seq_len)\n",
        "plt.plot(t, actions[start:start+eval_seq_len,acts_idx], label='true')\n",
        "plt.plot(t, eval_acts[:,acts_idx], label='model')\n",
        "plt.title(f'Action dim {acts_idx}')\n",
        "plt.legend()\n",
        "plt.show()"
      ],
      "execution_count": null,
      "outputs": [
        {
          "output_type": "display_data",
          "data": {
            "image/png": "[encoded data removed]",
            "text/plain": [
              "<Figure size 432x288 with 1 Axes>"
            ]
          },
          "metadata": {
            "tags": [],
            "needs_background": "light"
          }
        }
      ]
    },
    {
      "cell_type": "markdown",
      "metadata": {
        "id": "G84fGXVwv9Fh"
      },
      "source": [
        "# Perfect, Deterministic Reset and Replay"
      ]
    },
    {
      "cell_type": "code",
      "metadata": {
        "id": "qSFFlcskv9Fl"
      },
      "source": [
        "import gym\n",
        "import time\n",
        "import pandaRL\n",
        "if RELATIVE_JOINTS:\n",
        "    env = gym.make('pandaPlayJoints-v0')\n",
        "else:\n",
        "    env = gym.make('pandaPlay-v0')\n",
        "env.render('human')\n",
        "env.reset()"
      ],
      "execution_count": null,
      "outputs": []
    },
    {
      "cell_type": "code",
      "metadata": {
        "id": "ffT-7ivrv9Fv"
      },
      "source": [
        "idx = np.random.choice(len(o))\n",
        "traj_end = len(np.where(m[idx] == 1)[0])-1\n",
        "#env.panda.reset_goal_pos(ag_to_dg(g[idx, traj_end,:]))\n",
        "env.p.restoreState(fileName=dataset_path+'states_and_ims/'+str(int(pth[idx]))+'/env_states/'+str(int(tsteps[idx,0]))+'.bullet')\n",
        "\n"
      ],
      "execution_count": null,
      "outputs": []
    },
    {
      "cell_type": "code",
      "metadata": {
        "id": "QC5hK81Vv9F1"
      },
      "source": [
        "for i in range(0, traj_end+1):\n",
        "    #env.p.restoreState(fileName=dataset_path+str(int(pth[idx]))+'/env_states/'+str(int(tsteps[idx,i]))+'.bullet')\n",
        "    #time.sleep(0.1)\n",
        "    env.step(a[idx, i, :])"
      ],
      "execution_count": null,
      "outputs": []
    },
    {
      "cell_type": "code",
      "metadata": {
        "id": "QvNvFNZxv9F5"
      },
      "source": [
        "def test_subsequences(use_ori = True, replay=False):\n",
        "    \n",
        "    t_it = iter(tf_valid_data)\n",
        "    obs, acts, goals, masks, pth, tsteps = t_it.next()\n",
        "    idx = np.random.choice(len(obs))\n",
        "    \n",
        "    \n",
        "    start_idx = str(int(tsteps[idx,0]))\n",
        "    traj_end = len(np.where(masks[idx] == 1)[0])-1\n",
        "    \n",
        "    env.p.restoreState(fileName=dataset_path+'states_and_ims/'+str(int(pth[idx]))+'/env_states/'+str(int(tsteps[idx,0]))+'.bullet')\n",
        "    \n",
        "    o = tf.expand_dims(obs[idx][0],0)\n",
        "    \n",
        "    goal = goals[idx, traj_end,:]\n",
        "    #env.panda.reset_goal_pos(ag_to_dg(goal))\n",
        "    goal = tf.expand_dims(goal, 0)\n",
        "    \n",
        "    \n",
        "    if replay:\n",
        "        retries = 1\n",
        "    else:\n",
        "        retries = 1\n",
        "        \n",
        "    for i in range(0,retries):\n",
        "        past_state = [None, None]\n",
        "        for i in range(0, traj_end+1):\n",
        "\n",
        "            distrib, past_state = model(o, goal,  past_state = past_state)\n",
        "            a = distrib.sample().numpy().squeeze() \n",
        "            \n",
        "            if use_ori:\n",
        "                a[3:7] =  np.array(env.panda.default_arm_orn) # because it hasn't ever had to cope with\n",
        "            if replay:\n",
        "                a=acts[idx, i, :] # uncomment this to replay play subsequences\n",
        "            o, r, d, _ = env.step(a)\n",
        "            o = tf.expand_dims(o['observation'], 0)"
      ],
      "execution_count": null,
      "outputs": []
    },
    {
      "cell_type": "markdown",
      "metadata": {
        "pycharm": {
          "name": "#%% md\n"
        },
        "id": "-yC0L1P3v9GA"
      },
      "source": [
        "# MLP Evaluation"
      ]
    },
    {
      "cell_type": "code",
      "metadata": {
        "id": "7GMYQIc9v9GB"
      },
      "source": [
        "def ag_to_dg(ag):\n",
        "    dg = np.concatenate([ag[0:3], ag[7:10]])\n",
        "    return dg"
      ],
      "execution_count": null,
      "outputs": []
    },
    {
      "cell_type": "code",
      "metadata": {
        "pycharm": {
          "name": "#%%\n"
        },
        "id": "WHt-EhKHv9GF"
      },
      "source": [
        "# This below is only appropriate for non sequence models, which will aim for shorter timespans. \n",
        "n_valid_trajectories = len(valid_data['obs'])\n",
        "idx = np.random.choice(n_valid_trajectories)\n",
        "traj_obs, traj_acts, traj_init_o, traj_init_v = [valid_data[key][idx] for key in valid_data.keys()]"
      ],
      "execution_count": null,
      "outputs": []
    },
    {
      "cell_type": "code",
      "metadata": {
        "pycharm": {
          "name": "#%%\n"
        },
        "id": "TWJ-_tLrv9GH"
      },
      "source": [
        "\n",
        "o = env.reset()\n",
        "# A few representative points along the trajectory for us to test how it goes from there (before it loses coherence\n",
        "# over the long trajectory)\n",
        "ZERO, QUARTER, HALF, THREEQ = 0, len(traj_obs)//4, len(traj_obs)//2, len(traj_obs)*3//4\n",
        "# Get the init point\n",
        "init_o = traj_obs[THREEQ][START_OBS:END_OBS]# traj_init_o\n",
        "# reset to our desired init, but with 0 velocity - fine for now. \n",
        "env.robot.reset(env, init_o, traj_init_v)\n",
        "# select the goal as the end state of the trajectory \n",
        "goal = traj_obs[-1][START_GOAL:END_GOAL]\n",
        "for i in range(len(traj_acts)):\n",
        "    o = tf.expand_dims(np.concatenate([o[START_OBS:END_OBS], goal], -1),0)\n",
        "    if PROBS:# need to sample from the model if its probabilistic. \n",
        "        a = model(o).sample()[0]\n",
        "    else:\n",
        "        a = model.predict(o)[0]\n",
        "    #a = traj_acts[i]\n",
        "    o, r, d, _ = env.step(a) # the key change\n",
        "    \n",
        "    env.render()"
      ],
      "execution_count": null,
      "outputs": []
    },
    {
      "cell_type": "markdown",
      "metadata": {
        "pycharm": {
          "name": "#%% md\n"
        },
        "id": "8SHQGBjnv9GK"
      },
      "source": [
        "# LSTM Evaluation"
      ]
    },
    {
      "cell_type": "code",
      "metadata": {
        "pycharm": {
          "name": "#%%\n"
        },
        "id": "SXyTQ8kov9GL"
      },
      "source": [
        "valid = dataset[int(N_TRAJS*train_partition):]\n",
        "\n",
        "def test_subsequences():\n",
        "    \n",
        "    obs, acts, goals, masks = sample_sequence_batch(valid)\n",
        "    o = env.reset()\n",
        "    idx = np.random.choice(len(obs))\n",
        "    traj_end = len(np.where(masks[idx] == 1)[0])-1\n",
        "\n",
        "    masks[idx][traj_end]\n",
        "    start_pos = obs[idx][0][START_OBS:END_OBS].numpy()\n",
        "    goal = np.expand_dims(obs[idx][traj_end][START_GOAL:END_GOAL],0)\n",
        "    zero_vel = np.zeros(29)\n",
        "\n",
        "    env.robot.reset(env, start_pos, zero_vel)\n",
        "    o = np.squeeze(obs[idx][0])\n",
        "    env.render()\n",
        "    past_state = [None, None]\n",
        "    \n",
        "    for i in range(0,3):\n",
        "        for i in range(0, traj_end+1):\n",
        "            o = tf.expand_dims(o[START_OBS:END_OBS], 0)\n",
        "            distrib, past_state = model(o, goal,  past_state = past_state)\n",
        "\n",
        "            a = distrib.sample().numpy().squeeze() \n",
        "            #a = acts[idx, i, :] # uncomment this to replay play subsequences\n",
        "            o, r, d, _ = env.step(a)\n",
        "            env.render()\n"
      ],
      "execution_count": null,
      "outputs": []
    },
    {
      "cell_type": "code",
      "metadata": {
        "pycharm": {
          "name": "#%%\n"
        },
        "id": "4CpW3P-Bv9GS"
      },
      "source": [
        "# What about on a full trajectory? Where we give it the intermediate goals?\n",
        "n_valid_trajectories = len(valid)\n",
        "idx = np.random.choice(n_valid_trajectories)\n",
        "traj_obs, traj_acts, traj_goals, traj_init_o, traj_init_v = [valid[idx][key] for key in valid[idx].keys()]\n",
        "o = env.reset()\n",
        "traj_len = len(traj_obs)\n",
        "intervals = np.array([0, traj_len//4, traj_len//2, traj_len*3//4, traj_len])\n",
        "init_o = traj_obs[0][START_OBS:END_OBS]# traj_init_o\n",
        "# reset to our desired init, but with 0 velocity - fine for now. \n",
        "env.robot.reset(env, init_o, traj_init_v)\n",
        "env.render()\n",
        "\n",
        "    \n"
      ],
      "execution_count": null,
      "outputs": []
    },
    {
      "cell_type": "code",
      "metadata": {
        "pycharm": {
          "name": "#%%\n"
        },
        "id": "3pfij6NBv9GV"
      },
      "source": [
        "past_state = [None, None]\n",
        "for t in range(traj_len):\n",
        "        goal_idx = np.where(t < intervals)[0][0] # which part of the task we are up to\n",
        "        goal = tf.cast(tf.expand_dims(traj_obs[intervals[goal_idx]-1][START_GOAL:END_GOAL], 0), tf.float32)\n",
        "        o = tf.cast(tf.expand_dims(o[START_OBS:END_OBS],0), tf.float32)\n",
        "        distrib, past_state = model(o,goal, past_state = past_state)\n",
        "        \n",
        "        #a = distrib.sample().numpy().squeeze() \n",
        "        a = traj_acts[t, :] # uncomment this to replay play subsequences\n",
        "        o, r, d, _ = env.step(a)\n",
        "        env.render()"
      ],
      "execution_count": null,
      "outputs": []
    },
    {
      "cell_type": "code",
      "metadata": {
        "pycharm": {
          "name": "#%%\n"
        },
        "id": "IihoFnSsv9Gi"
      },
      "source": [
        "@tf.function\n",
        "def train_step(x, y):\n",
        "    with tf.GradientTape() as tape:\n",
        "        logits = model(x, training=True)\n",
        "        loss_value = loss_fn(y, logits)\n",
        "    grads = tape.gradient(loss_value, model.trainable_weights)\n",
        "    optimizer.apply_gradients(zip(grads, model.trainable_weights))\n",
        "#     train_acc_metric.update_state(y, logits)\n",
        "    return loss_value\n",
        "\n",
        "@tf.function\n",
        "def test_step(x, y):\n",
        "    val_logits = model(x, training=False)\n",
        "#     val_acc_metric.update_state(y, val_logits)"
      ],
      "execution_count": null,
      "outputs": []
    },
    {
      "cell_type": "code",
      "metadata": {
        "pycharm": {
          "name": "#%%\n"
        },
        "id": "gj4eF6mJv9Gk"
      },
      "source": [
        "EPOCHS = 10\n",
        "\n",
        "for epoch in range(EPOCHS):\n",
        "    print(f\"\\nEpoch {epoch}\")\n",
        "    start_time = time.time()\n",
        "    progbar = Progbar(len(observations), verbose=1, interval=0.5)\n",
        "\n",
        "    # Iterate over the batches of the dataset.\n",
        "    for step, (obs,acts) in enumerate(zip(observations, actions)):\n",
        "#         obs = traj_batch['observations']\n",
        "#         acts = traj_batch['actions']\n",
        "    \n",
        "        loss_value = train_step(obs, acts)\n",
        "        progbar.add(1, [('Loss', loss_value)]) "
      ],
      "execution_count": null,
      "outputs": []
    },
    {
      "cell_type": "code",
      "metadata": {
        "id": "FhxqJ6Sdv9Gp",
        "outputId": "cea3ab74-4d4b-48cb-bad2-00af84362670"
      },
      "source": [
        "EPOCHS = 10\n",
        "\n",
        "for epoch in range(EPOCHS):\n",
        "    print(f\"\\nEpoch {epoch}\")\n",
        "    start_time = time.time()\n",
        "    progbar = Progbar(len(observations), verbose=1, interval=0.5)\n",
        "\n",
        "    # Iterate over the batches of the dataset.\n",
        "    for step, (obs,acts) in enumerate(zip(observations, actions)):\n",
        "#         obs = traj_batch['observations']\n",
        "#         acts = traj_batch['actions']\n",
        "    \n",
        "        loss_value = train_step(obs, acts)\n",
        "        progbar.add(1, [('Loss', loss_value)])  "
      ],
      "execution_count": null,
      "outputs": [
        {
          "output_type": "stream",
          "text": [
            "88.02201747894287 19.151499032974243\n"
          ],
          "name": "stdout"
        }
      ]
    },
    {
      "cell_type": "code",
      "metadata": {
        "pycharm": {
          "name": "#%%\n"
        },
        "id": "xHKZ0c0Fv9Gv",
        "outputId": "1efe54b3-5860-41df-eecf-a82518b919bc"
      },
      "source": [
        "import gym\n",
        "import adept_envs\n",
        "\n",
        "env = gym.make(\"kitchen_relax-v1\")"
      ],
      "execution_count": null,
      "outputs": [
        {
          "output_type": "stream",
          "text": [
            "Reading configurations for Franka\n",
            "\u001b[40m\u001b[37mInitializing Franka sim\u001b[0m\n",
            "registering the liscence\n"
          ],
          "name": "stdout"
        },
        {
          "output_type": "stream",
          "text": [
            "/home/sholto/anaconda3/lib/python3.7/site-packages/gym/logger.py:30: UserWarning: \u001b[33mWARN: Box bound precision lowered by casting to float32\u001b[0m\n",
            "  warnings.warn(colorize('%s: %s'%('WARN', msg % args), 'yellow'))\n"
          ],
          "name": "stderr"
        }
      ]
    },
    {
      "cell_type": "markdown",
      "metadata": {
        "pycharm": {
          "name": "#%% md\n"
        },
        "id": "b7CMny5dv9Gx"
      },
      "source": [
        "# MLP Evaluation"
      ]
    },
    {
      "cell_type": "code",
      "metadata": {
        "id": "JOm7R4A-v9Gx"
      },
      "source": [
        "# This below is only appropriate for non sequence models, which will aim for shorter timespans. \n",
        "n_valid_trajectories = len(valid_data['obs'])\n",
        "idx = np.random.choice(n_valid_trajectories)\n",
        "traj_obs, traj_acts, traj_init_o, traj_init_v = [valid_data[key][idx] for key in valid_data.keys()]"
      ],
      "execution_count": null,
      "outputs": []
    },
    {
      "cell_type": "code",
      "metadata": {
        "pycharm": {
          "name": "#%%\n"
        },
        "id": "PXQbt0Oov9Gz"
      },
      "source": [
        "\n",
        "o = env.reset()\n",
        "# A few representative points along the trajectory for us to test how it goes from there (before it loses coherence\n",
        "# over the long trajectory)\n",
        "ZERO, QUARTER, HALF, THREEQ = 0, len(traj_obs)//4, len(traj_obs)//2, len(traj_obs)*3//4\n",
        "# Get the init point\n",
        "init_o = traj_obs[THREEQ][START_OBS:END_OBS]# traj_init_o\n",
        "# reset to our desired init, but with 0 velocity - fine for now. \n",
        "env.robot.reset(env, init_o, traj_init_v)\n",
        "# select the goal as the end state of the trajectory \n",
        "goal = traj_obs[-1][START_GOAL:END_GOAL]\n",
        "for i in range(len(traj_acts)):\n",
        "    o = tf.expand_dims(np.concatenate([o[START_OBS:END_OBS], goal], -1),0)\n",
        "    if PROBS:# need to sample from the model if its probabilistic. \n",
        "        a = model(o).sample()[0]\n",
        "    else:\n",
        "        a = model.predict(o)[0]\n",
        "    #a = traj_acts[i]\n",
        "    o, r, d, _ = env.step(a) # the key change\n",
        "    \n",
        "    env.render()"
      ],
      "execution_count": null,
      "outputs": []
    },
    {
      "cell_type": "markdown",
      "metadata": {
        "pycharm": {
          "name": "#%% md\n"
        },
        "id": "njbQpQAGv9G2"
      },
      "source": [
        "# LSTM Evaluation"
      ]
    },
    {
      "cell_type": "code",
      "metadata": {
        "id": "bdznW904v9G2"
      },
      "source": [
        "\n",
        "def test_subsequences():\n",
        "    obs, acts, masks = sample_sequence_batch(valid_data)\n",
        "    o = env.reset()\n",
        "    idx = np.random.choice(len(obs))\n",
        "    traj_end = len(np.where(masks[idx] == 1)[0])-1\n",
        "\n",
        "    masks[idx][traj_end]\n",
        "    start_pos = obs[idx][0][START_OBS:END_OBS].numpy()\n",
        "    goal = obs[idx][traj_end][START_GOAL:END_GOAL]\n",
        "    zero_vel = np.zeros(29)\n",
        "\n",
        "    env.robot.reset(env, start_pos, zero_vel)\n",
        "    o = np.squeeze(obs[idx][0])\n",
        "    env.render()\n",
        "\n",
        "\n",
        "    past_state = [None, None]\n",
        "\n",
        "    for i in range(0, traj_end+1):\n",
        "        o = tf.expand_dims(np.concatenate([o[START_OBS:END_OBS], goal], -1),0)\n",
        "        distrib, past_state = model(o, past_state = past_state)\n",
        "        #a = acts[idx, i, :] # uncomment this to replay play subsequences\n",
        "        a = distrib.sample().numpy().squeeze() \n",
        "        o, r, d, _ = env.step(a)\n",
        "        env.render()\n",
        "    "
      ],
      "execution_count": null,
      "outputs": []
    },
    {
      "cell_type": "code",
      "metadata": {
        "id": "8A7JypWXv9G4"
      },
      "source": [
        "for i in range(0,100):\n",
        "    test_subsequences()"
      ],
      "execution_count": null,
      "outputs": []
    },
    {
      "cell_type": "code",
      "metadata": {
        "pycharm": {
          "name": "#%%\n"
        },
        "id": "JY9VcxT3v9G9"
      },
      "source": [
        "# What about on a full trajectory? Where we give it the intermediate goals?\n",
        "n_valid_trajectories = len(valid_data)\n",
        "idx = np.random.choice(n_valid_trajectories)\n",
        "traj_obs, traj_acts, traj_init_o, traj_init_v = [valid_data[key][idx] for key in valid_data.keys()]\n",
        "o = env.reset()\n",
        "traj_len = len(traj_obs)\n",
        "intervals = np.array([0, traj_len//4, traj_len//2, traj_len*3//4, traj_len])\n",
        "init_o = traj_obs[0][START_OBS:END_OBS]# traj_init_o\n",
        "# reset to our desired init, but with 0 velocity - fine for now. \n",
        "env.robot.reset(env, init_o, traj_init_v)\n",
        "env.render()\n",
        "\n",
        "    \n"
      ],
      "execution_count": null,
      "outputs": []
    },
    {
      "cell_type": "code",
      "metadata": {
        "id": "jrN7P-PUv9G_"
      },
      "source": [
        "past_state = [None, None]\n",
        "for t in range(traj_len):\n",
        "        goal_idx = np.where(t < intervals)[0][0] # which part of the task we are up to\n",
        "        goal = traj_obs[intervals[goal_idx]-1][START_GOAL:END_GOAL]\n",
        "        o = tf.expand_dims(np.concatenate([o[START_OBS:END_OBS], goal], -1),0)\n",
        "        distrib, past_state = model(o, past_state = past_state)\n",
        "        #a = acts[idx, i, :] # uncomment this to replay play subsequences\n",
        "        a = distrib.sample().numpy().squeeze() \n",
        "        o, r, d, _ = env.step(a)\n",
        "        env.render()"
      ],
      "execution_count": null,
      "outputs": []
    },
    {
      "cell_type": "code",
      "metadata": {
        "id": "yjkFJ7Nov9HC"
      },
      "source": [
        "# What about on a full trajectory? Where we give it the intermediate goals?\n",
        "n_valid_trajectories = len(valid_data)\n",
        "idx = np.random.choice(n_valid_trajectories)\n",
        "traj_obs, traj_acts, traj_init_o, traj_init_v = [valid_data[key][idx] for key in valid_data.keys()]\n",
        "o = env.reset()\n",
        "traj_len = len(traj_obs)\n",
        "intervals = np.array([0, traj_len//4, traj_len//2, traj_len*3//4, traj_len])\n",
        "init_o = traj_obs[0][START_OBS:END_OBS]# traj_init_o\n",
        "# reset to our desired init, but with 0 velocity - fine for now. \n",
        "env.robot.reset(env, init_o, traj_init_v)\n",
        "env.render()"
      ],
      "execution_count": null,
      "outputs": []
    },
    {
      "cell_type": "code",
      "metadata": {
        "id": "xiZ465shv9HE"
      },
      "source": [
        "past_state = [None, None]\n",
        "for t in range(traj_len):\n",
        "        goal_idx = np.where(t < intervals)[0][0] # which part of the task we are up to\n",
        "        goal = traj_obs[intervals[goal_idx]-1][START_GOAL:END_GOAL]\n",
        "        o = tf.expand_dims(np.concatenate([o[START_OBS:END_OBS], goal], -1),0)\n",
        "        distrib, past_state = model(o, past_state = past_state)\n",
        "        #a = acts[idx, i, :] # uncomment this to replay play subsequences\n",
        "        a = distrib.sample().numpy().squeeze() \n",
        "        o, r, d, _ = env.step(a)\n",
        "        env.render()"
      ],
      "execution_count": null,
      "outputs": []
    },
    {
      "cell_type": "code",
      "metadata": {
        "pycharm": {
          "name": "#%%\n"
        },
        "id": "qiQOLBwnv9HM"
      },
      "source": [
        "@tf.function\n",
        "def train_step(x, y):\n",
        "    with tf.GradientTape() as tape:\n",
        "        logits = model(x, training=True)\n",
        "        loss_value = loss_fn(y, logits)\n",
        "    grads = tape.gradient(loss_value, model.trainable_weights)\n",
        "    optimizer.apply_gradients(zip(grads, model.trainable_weights))\n",
        "#     train_acc_metric.update_state(y, logits)\n",
        "    return loss_value\n",
        "\n",
        "@tf.function\n",
        "def test_step(x, y):\n",
        "    val_logits = model(x, training=False)\n",
        "#     val_acc_metric.update_state(y, val_logits)"
      ],
      "execution_count": null,
      "outputs": []
    },
    {
      "cell_type": "code",
      "metadata": {
        "jupyter": {
          "outputs_hidden": true
        },
        "id": "Y8EFTvCzv9HO"
      },
      "source": [
        "EPOCHS = 10\n",
        "\n",
        "for epoch in range(EPOCHS):\n",
        "    print(f\"\\nEpoch {epoch}\")\n",
        "    start_time = time.time()\n",
        "    progbar = Progbar(len(observations), verbose=1, interval=0.5)\n",
        "\n",
        "    # Iterate over the batches of the dataset.\n",
        "    for step, (obs,acts) in enumerate(zip(observations, actions)):\n",
        "#         obs = traj_batch['observations']\n",
        "#         acts = traj_batch['actions']\n",
        "    \n",
        "        loss_value = train_step(obs, acts)\n",
        "        progbar.add(1, [('Loss', loss_value)])  "
      ],
      "execution_count": null,
      "outputs": []
    }
  ]
}