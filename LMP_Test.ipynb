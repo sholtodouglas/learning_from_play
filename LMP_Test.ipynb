{
  "nbformat": 4,
  "nbformat_minor": 0,
  "metadata": {
    "kernelspec": {
      "display_name": "Python 3",
      "language": "python",
      "name": "python3"
    },
    "language_info": {
      "codemirror_mode": {
        "name": "ipython",
        "version": 3
      },
      "file_extension": ".py",
      "mimetype": "text/x-python",
      "name": "python",
      "nbconvert_exporter": "python",
      "pygments_lexer": "ipython3",
      "version": "3.7.3"
    },
    "colab": {
      "name": "LMP Test.ipynb",
      "provenance": [],
      "collapsed_sections": [
        "G84fGXVwv9Fh",
        "-yC0L1P3v9GA",
        "8SHQGBjnv9GK",
        "b7CMny5dv9Gx",
        "njbQpQAGv9G2"
      ],
      "toc_visible": true,
      "machine_shape": "hm",
      "include_colab_link": true
    },
    "accelerator": "TPU"
  },
  "cells": [
    {
      "cell_type": "markdown",
      "metadata": {
        "id": "view-in-github",
        "colab_type": "text"
      },
      "source": [
        "<a href=\"https://colab.research.google.com/github/sholtodouglas/learning_from_play/blob/transformers/LMP_Test.ipynb\" target=\"_parent\"><img src=\"https://colab.research.google.com/assets/colab-badge.svg\" alt=\"Open In Colab\"/></a>"
      ]
    },
    {
      "cell_type": "code",
      "metadata": {
        "id": "Xchjk_eKp26Q",
        "cellView": "both",
        "outputId": "4ff6d066-dfe6-4e92-d074-a9330d8baa24",
        "colab": {
          "base_uri": "https://localhost:8080/",
          "height": 496
        }
      },
      "source": [
        "#@title Install package dependencies (forces restart)\n",
        "import os\n",
        "\n",
        "def restart_runtime():\n",
        "    print('Runtime restarting...')\n",
        "    os.kill(os.getpid(), 9)\n",
        "\n",
        "%pip -q install pybullet wandb\n",
        "!git clone https://github.com/sholtodouglas/pandaRL local_packages/pandaRL\n",
        "%pip install -e local_packages/pandaRL/.\n",
        "\n",
        "restart_runtime()"
      ],
      "execution_count": null,
      "outputs": [
        {
          "output_type": "stream",
          "text": [
            "\u001b[K     |████████████████████████████████| 102.2MB 37kB/s \n",
            "\u001b[K     |████████████████████████████████| 1.7MB 58.0MB/s \n",
            "\u001b[K     |████████████████████████████████| 122kB 63.5MB/s \n",
            "\u001b[K     |████████████████████████████████| 102kB 13.7MB/s \n",
            "\u001b[K     |████████████████████████████████| 163kB 58.7MB/s \n",
            "\u001b[K     |████████████████████████████████| 102kB 12.5MB/s \n",
            "\u001b[K     |████████████████████████████████| 71kB 9.2MB/s \n",
            "\u001b[?25h  Building wheel for subprocess32 (setup.py) ... \u001b[?25l\u001b[?25hdone\n",
            "  Building wheel for watchdog (setup.py) ... \u001b[?25l\u001b[?25hdone\n",
            "  Building wheel for pathtools (setup.py) ... \u001b[?25l\u001b[?25hdone\n",
            "Cloning into 'local_packages/pandaRL'...\n",
            "remote: Enumerating objects: 477, done.\u001b[K\n",
            "remote: Counting objects: 100% (477/477), done.\u001b[K\n",
            "remote: Compressing objects: 100% (342/342), done.\u001b[K\n",
            "remote: Total 477 (delta 192), reused 402 (delta 121), pack-reused 0\u001b[K\n",
            "Receiving objects: 100% (477/477), 20.97 MiB | 22.29 MiB/s, done.\n",
            "Resolving deltas: 100% (192/192), done.\n",
            "Obtaining file:///content/local_packages/pandaRL\n",
            "Requirement already satisfied: gym in /usr/local/lib/python3.6/dist-packages (from pandaRL==0.0.1) (0.17.2)\n",
            "Requirement already satisfied: cloudpickle<1.4.0,>=1.2.0 in /usr/local/lib/python3.6/dist-packages (from gym->pandaRL==0.0.1) (1.3.0)\n",
            "Requirement already satisfied: pyglet<=1.5.0,>=1.4.0 in /usr/local/lib/python3.6/dist-packages (from gym->pandaRL==0.0.1) (1.5.0)\n",
            "Requirement already satisfied: scipy in /usr/local/lib/python3.6/dist-packages (from gym->pandaRL==0.0.1) (1.4.1)\n",
            "Requirement already satisfied: numpy>=1.10.4 in /usr/local/lib/python3.6/dist-packages (from gym->pandaRL==0.0.1) (1.18.5)\n",
            "Requirement already satisfied: future in /usr/local/lib/python3.6/dist-packages (from pyglet<=1.5.0,>=1.4.0->gym->pandaRL==0.0.1) (0.16.0)\n",
            "Installing collected packages: pandaRL\n",
            "  Running setup.py develop for pandaRL\n",
            "Successfully installed pandaRL\n"
          ],
          "name": "stdout"
        }
      ]
    },
    {
      "cell_type": "code",
      "metadata": {
        "id": "zMJ___6ARZ4u",
        "cellView": "both",
        "outputId": "6510f9d0-4e45-4cc1-9d54-24e4d1e899a7",
        "colab": {
          "base_uri": "https://localhost:8080/",
          "height": 34
        }
      },
      "source": [
        "#@title Workpace Setup (Local vs Colab)\n",
        "from google.colab import drive, auth\n",
        "from os.path import join\n",
        "import os\n",
        "\n",
        "COLAB = True #@param {type:\"boolean\"}\n",
        "AUTH_GCS = False #@param {type:\"boolean\"}\n",
        "DEVICE = \"TPU\" #@param [\"TPU\", \"GPU\"]\n",
        "DATA_SOURCE = \"Google Drive\" #@param [\"Google Drive\", \"GCS\"]\n",
        "DATASET = \"new_ori_one_obj\" #@param [\"new_ori_one_obj\", \"one_obj_play\"]\n",
        "GCS_USER = \"tristan\" #@param [\"sholto\", \"tristan\"]\n",
        "if COLAB:\n",
        "    if AUTH_GCS:\n",
        "        auth.authenticate_user()\n",
        "        if GCS_USER == 'tristan':\n",
        "          GCS_PROJECT = \"learning-from-play\"\n",
        "          GCS_BUCKET = \"colab-gcs\"\n",
        "        else:\n",
        "          GCS_PROJECT = \"learning-from-play-288601\"\n",
        "          GCS_BUCKET = \"colab-gcs1\"\n",
        "\n",
        "        !gcloud config set project {GCS_PROJECT}\n",
        "    if DATA_SOURCE == \"GCS\":\n",
        "        ROOT = 'gs://colab-gcs'\n",
        "        PROJ = 'data/one_obj_play'\n",
        "        PROJECT_PATH = '/content/data'\n",
        "        !mkdir /content/data\n",
        "        !gsutil -m cp -r {ROOT}/{PROJ} {PROJECT_PATH}\n",
        "    else:\n",
        "        ROOT = '/content/drive'     # default for the drive\n",
        "        PROJ = 'My Drive/Robotic Learning'       # path to your project on Drive\n",
        "        PROJECT_PATH = os.path.join(ROOT, PROJ)\n",
        "        drive.mount(ROOT)           # we mount the drive at /content/drive\n",
        "    PYBULLET_DATA_DIR = os.path.join(PROJECT_PATH, DATASET)\n",
        "\n",
        "    # Sync drive to VM directory\n",
        "    # !rsync -aP --exclude=data/ \"{PROJECT_PATH}/\"  '/content/learning_from_play'\n",
        "    # %cd '/content/learning_from_play'\n",
        "else:\n",
        "    # Todo:\n",
        "    pass"
      ],
      "execution_count": 5,
      "outputs": [
        {
          "output_type": "stream",
          "text": [
            "Mounted at /content/drive\n"
          ],
          "name": "stdout"
        }
      ]
    },
    {
      "cell_type": "code",
      "metadata": {
        "id": "QuKhbw3htoek",
        "outputId": "2a44f904-77f2-4cc1-88ce-ee4a8619a88e",
        "colab": {
          "base_uri": "https://localhost:8080/",
          "height": 52
        }
      },
      "source": [
        "%%sh\n",
        "git clone https://github.com/sholtodouglas/learning_from_play\n",
        "git clone https://github.com/tfrizza/minGPT"
      ],
      "execution_count": 1,
      "outputs": [
        {
          "output_type": "stream",
          "text": [
            "Cloning into 'learning_from_play'...\n",
            "Cloning into 'minGPT'...\n"
          ],
          "name": "stderr"
        }
      ]
    },
    {
      "cell_type": "code",
      "metadata": {
        "id": "adkuQNM0-WWu",
        "outputId": "391f0f39-a186-48d4-d129-df4cdbe8b6d7",
        "colab": {
          "base_uri": "https://localhost:8080/",
          "height": 54
        }
      },
      "source": [
        "import sys\n",
        "sys.path.append(\"/content/minGPT\")\n",
        "print(sys.path)"
      ],
      "execution_count": 2,
      "outputs": [
        {
          "output_type": "stream",
          "text": [
            "['', '/env/python', '/usr/lib/python36.zip', '/usr/lib/python3.6', '/usr/lib/python3.6/lib-dynload', '/usr/local/lib/python3.6/dist-packages', '/content/local_packages/pandaRL', '/usr/lib/python3/dist-packages', '/usr/local/lib/python3.6/dist-packages/IPython/extensions', '/root/.ipython', '/content/minGPT']\n"
          ],
          "name": "stdout"
        }
      ]
    },
    {
      "cell_type": "code",
      "metadata": {
        "id": "xbGDct1BF-Nn",
        "outputId": "b14f6f2a-1f94-4323-9c32-a18f5a2e128f",
        "colab": {
          "base_uri": "https://localhost:8080/",
          "height": 34
        }
      },
      "source": [
        "%cd '/content/learning_from_play'"
      ],
      "execution_count": 3,
      "outputs": [
        {
          "output_type": "stream",
          "text": [
            "/content/learning_from_play\n"
          ],
          "name": "stdout"
        }
      ]
    },
    {
      "cell_type": "code",
      "metadata": {
        "id": "k7NnR2jUZcR2",
        "outputId": "0e01597e-d533-4331-f2da-f6d9ed65dbce",
        "colab": {
          "base_uri": "https://localhost:8080/",
          "height": 283
        }
      },
      "source": [
        "!git status"
      ],
      "execution_count": null,
      "outputs": [
        {
          "output_type": "stream",
          "text": [
            "On branch master\n",
            "Your branch is up to date with 'origin/master'.\n",
            "\n",
            "Changes not staged for commit:\n",
            "  (use \"git add <file>...\" to update what will be committed)\n",
            "  (use \"git checkout -- <file>...\" to discard changes in working directory)\n",
            "\n",
            "\t\u001b[31mmodified:   train.py\u001b[m\n",
            "\n",
            "Untracked files:\n",
            "  (use \"git add <file>...\" to include in what will be committed)\n",
            "\n",
            "\t\u001b[31mwandb/\u001b[m\n",
            "\n",
            "no changes added to commit (use \"git add\" and/or \"git commit -a\")\n"
          ],
          "name": "stdout"
        }
      ]
    },
    {
      "cell_type": "code",
      "metadata": {
        "id": "SRM0MadYZf_E"
      },
      "source": [
        "!git add ."
      ],
      "execution_count": null,
      "outputs": []
    },
    {
      "cell_type": "code",
      "metadata": {
        "id": "rneqVhhGa3jk",
        "outputId": "bb9ba706-8577-40df-e512-cf6c00cdb42c",
        "colab": {
          "base_uri": "https://localhost:8080/",
          "height": 318
        }
      },
      "source": [
        "!git pull"
      ],
      "execution_count": null,
      "outputs": [
        {
          "output_type": "stream",
          "text": [
            "remote: Enumerating objects: 29, done.\u001b[K\n",
            "remote: Counting objects:   3% (1/29)\u001b[K\rremote: Counting objects:   6% (2/29)\u001b[K\rremote: Counting objects:  10% (3/29)\u001b[K\rremote: Counting objects:  13% (4/29)\u001b[K\rremote: Counting objects:  17% (5/29)\u001b[K\rremote: Counting objects:  20% (6/29)\u001b[K\rremote: Counting objects:  24% (7/29)\u001b[K\rremote: Counting objects:  27% (8/29)\u001b[K\rremote: Counting objects:  31% (9/29)\u001b[K\rremote: Counting objects:  34% (10/29)\u001b[K\rremote: Counting objects:  37% (11/29)\u001b[K\rremote: Counting objects:  41% (12/29)\u001b[K\rremote: Counting objects:  44% (13/29)\u001b[K\rremote: Counting objects:  48% (14/29)\u001b[K\rremote: Counting objects:  51% (15/29)\u001b[K\rremote: Counting objects:  55% (16/29)\u001b[K\rremote: Counting objects:  58% (17/29)\u001b[K\rremote: Counting objects:  62% (18/29)\u001b[K\rremote: Counting objects:  65% (19/29)\u001b[K\rremote: Counting objects:  68% (20/29)\u001b[K\rremote: Counting objects:  72% (21/29)\u001b[K\rremote: Counting objects:  75% (22/29)\u001b[K\rremote: Counting objects:  79% (23/29)\u001b[K\rremote: Counting objects:  82% (24/29)\u001b[K\rremote: Counting objects:  86% (25/29)\u001b[K\rremote: Counting objects:  89% (26/29)\u001b[K\rremote: Counting objects:  93% (27/29)\u001b[K\rremote: Counting objects:  96% (28/29)\u001b[K\rremote: Counting objects: 100% (29/29)\u001b[K\rremote: Counting objects: 100% (29/29), done.\u001b[K\n",
            "remote: Compressing objects: 100% (16/16), done.\u001b[K\n",
            "remote: Total 29 (delta 13), reused 28 (delta 13), pack-reused 0\u001b[K\n",
            "Unpacking objects: 100% (29/29), done.\n",
            "From https://github.com/sholtodouglas/learning_from_play\n",
            "   99bd04e..7d425f6  master     -> origin/master\n",
            " * [new branch]      plotting   -> origin/plotting\n",
            "Updating 99bd04e..7d425f6\n",
            "Fast-forward\n",
            " Deploy.ipynb                           |  682 \u001b[32m++\u001b[m\u001b[31m-\u001b[m\n",
            " LMP_Test.ipynb                         | 7566 \u001b[32m++++++++++++++++++\u001b[m\u001b[31m--------------\u001b[m\n",
            " Use this to play the sample data.ipynb | 1532 \u001b[32m+++++\u001b[m\u001b[31m--\u001b[m\n",
            " data_collection/full_vr.py             |   12 \u001b[32m+\u001b[m\u001b[31m-\u001b[m\n",
            " test.npz                               |  Bin \u001b[31m0\u001b[m -> \u001b[32m814036\u001b[m bytes\n",
            " 5 files changed, 5999 insertions(+), 3793 deletions(-)\n",
            " create mode 100644 test.npz\n"
          ],
          "name": "stdout"
        }
      ]
    },
    {
      "cell_type": "code",
      "metadata": {
        "id": "SOBH-PSIbSI4",
        "cellView": "both"
      },
      "source": [
        "#@title Git config (for commits)\n",
        "email = \"sholto.douglas1@gmail.com\" #@param {type:\"string\"}\n",
        "name = \"sholtodouglas\" #@param {type:\"string\"}\n",
        "\n",
        "!git config --global user.email \"{email}\"\n",
        "!git config --global user.name \"{name}\""
      ],
      "execution_count": null,
      "outputs": []
    },
    {
      "cell_type": "code",
      "metadata": {
        "id": "EWZpvN3xZ0I4",
        "cellView": "both",
        "outputId": "9e0aebf9-7e66-4416-9e92-53b8b1f24d96",
        "colab": {
          "base_uri": "https://localhost:8080/",
          "height": 52
        }
      },
      "source": [
        "#@title Git commit\n",
        "commit_msg = \"update beta scheduler\" #@param {type:\"string\"}\n",
        "!git commit -m \"{commit_msg}\""
      ],
      "execution_count": null,
      "outputs": [
        {
          "output_type": "stream",
          "text": [
            "[master a8b133a] update beta scheduler\n",
            " 1 file changed, 1 insertion(+)\n"
          ],
          "name": "stdout"
        }
      ]
    },
    {
      "cell_type": "code",
      "metadata": {
        "id": "xeT8OJX-Zhxs",
        "cellView": "both",
        "outputId": "6c56d26f-ca39-46dd-b9e5-d5cbe1bcef13",
        "colab": {
          "base_uri": "https://localhost:8080/",
          "height": 34
        }
      },
      "source": [
        "#@title Git push\n",
        "branch = \"master\" #@param [\"master\"] {allow-input: true}\n",
        "!git push -u origin {branch}"
      ],
      "execution_count": null,
      "outputs": [
        {
          "output_type": "stream",
          "text": [
            "fatal: could not read Username for 'https://github.com': No such device or address\n"
          ],
          "name": "stdout"
        }
      ]
    },
    {
      "cell_type": "markdown",
      "metadata": {
        "id": "EliqxOpPv9Dy"
      },
      "source": [
        "# Data Creation"
      ]
    },
    {
      "cell_type": "code",
      "metadata": {
        "id": "6zbmq324x2yv",
        "outputId": "64f34200-25ef-41e6-9499-4584a48ceada",
        "colab": {
          "base_uri": "https://localhost:8080/",
          "height": 781
        }
      },
      "source": [
        "import tensorflow as tf\n",
        "print(\"Tensorflow version \" + tf.__version__)\n",
        "\n",
        "if DEVICE==\"TPU\":\n",
        "    try:\n",
        "        tpu = tf.distribute.cluster_resolver.TPUClusterResolver()  # TPU detection\n",
        "        print('Running on TPU ', tpu.cluster_spec().as_dict()['worker'])\n",
        "    except ValueError:\n",
        "        raise BaseException('ERROR: Not connected to a TPU runtime; please see the previous cell in this notebook for instructions!')\n",
        "\n",
        "    tf.config.experimental_connect_to_cluster(tpu)\n",
        "    tf.tpu.experimental.initialize_tpu_system(tpu)\n",
        "    strategy = tf.distribute.TPUStrategy(tpu)\n",
        "\n",
        "    NUM_DEVICES = strategy.num_replicas_in_sync\n",
        "    print(\"REPLICAS: \", NUM_DEVICES)\n",
        "else:\n",
        "    physical_devices = tf.config.list_physical_devices()\n",
        "    if DEVICE is 'GPU':\n",
        "        tf.config.experimental.set_memory_growth(physical_devices[3], enable=True)\n",
        "    NUM_DEVICES = 1\n",
        "    print(physical_devices)"
      ],
      "execution_count": 6,
      "outputs": [
        {
          "output_type": "stream",
          "text": [
            "Tensorflow version 2.3.0\n",
            "Running on TPU  ['10.31.34.50:8470']\n",
            "INFO:tensorflow:Initializing the TPU system: grpc://10.31.34.50:8470\n"
          ],
          "name": "stdout"
        },
        {
          "output_type": "stream",
          "text": [
            "INFO:tensorflow:Initializing the TPU system: grpc://10.31.34.50:8470\n"
          ],
          "name": "stderr"
        },
        {
          "output_type": "stream",
          "text": [
            "INFO:tensorflow:Clearing out eager caches\n"
          ],
          "name": "stdout"
        },
        {
          "output_type": "stream",
          "text": [
            "INFO:tensorflow:Clearing out eager caches\n"
          ],
          "name": "stderr"
        },
        {
          "output_type": "stream",
          "text": [
            "INFO:tensorflow:Finished initializing TPU system.\n"
          ],
          "name": "stdout"
        },
        {
          "output_type": "stream",
          "text": [
            "INFO:tensorflow:Finished initializing TPU system.\n"
          ],
          "name": "stderr"
        },
        {
          "output_type": "stream",
          "text": [
            "INFO:tensorflow:Found TPU system:\n"
          ],
          "name": "stdout"
        },
        {
          "output_type": "stream",
          "text": [
            "INFO:tensorflow:Found TPU system:\n"
          ],
          "name": "stderr"
        },
        {
          "output_type": "stream",
          "text": [
            "INFO:tensorflow:*** Num TPU Cores: 8\n"
          ],
          "name": "stdout"
        },
        {
          "output_type": "stream",
          "text": [
            "INFO:tensorflow:*** Num TPU Cores: 8\n"
          ],
          "name": "stderr"
        },
        {
          "output_type": "stream",
          "text": [
            "INFO:tensorflow:*** Num TPU Workers: 1\n"
          ],
          "name": "stdout"
        },
        {
          "output_type": "stream",
          "text": [
            "INFO:tensorflow:*** Num TPU Workers: 1\n"
          ],
          "name": "stderr"
        },
        {
          "output_type": "stream",
          "text": [
            "INFO:tensorflow:*** Num TPU Cores Per Worker: 8\n"
          ],
          "name": "stdout"
        },
        {
          "output_type": "stream",
          "text": [
            "INFO:tensorflow:*** Num TPU Cores Per Worker: 8\n"
          ],
          "name": "stderr"
        },
        {
          "output_type": "stream",
          "text": [
            "INFO:tensorflow:*** Available Device: _DeviceAttributes(/job:localhost/replica:0/task:0/device:CPU:0, CPU, 0, 0)\n"
          ],
          "name": "stdout"
        },
        {
          "output_type": "stream",
          "text": [
            "INFO:tensorflow:*** Available Device: _DeviceAttributes(/job:localhost/replica:0/task:0/device:CPU:0, CPU, 0, 0)\n"
          ],
          "name": "stderr"
        },
        {
          "output_type": "stream",
          "text": [
            "INFO:tensorflow:*** Available Device: _DeviceAttributes(/job:localhost/replica:0/task:0/device:XLA_CPU:0, XLA_CPU, 0, 0)\n"
          ],
          "name": "stdout"
        },
        {
          "output_type": "stream",
          "text": [
            "INFO:tensorflow:*** Available Device: _DeviceAttributes(/job:localhost/replica:0/task:0/device:XLA_CPU:0, XLA_CPU, 0, 0)\n"
          ],
          "name": "stderr"
        },
        {
          "output_type": "stream",
          "text": [
            "INFO:tensorflow:*** Available Device: _DeviceAttributes(/job:worker/replica:0/task:0/device:CPU:0, CPU, 0, 0)\n"
          ],
          "name": "stdout"
        },
        {
          "output_type": "stream",
          "text": [
            "INFO:tensorflow:*** Available Device: _DeviceAttributes(/job:worker/replica:0/task:0/device:CPU:0, CPU, 0, 0)\n"
          ],
          "name": "stderr"
        },
        {
          "output_type": "stream",
          "text": [
            "INFO:tensorflow:*** Available Device: _DeviceAttributes(/job:worker/replica:0/task:0/device:TPU:0, TPU, 0, 0)\n"
          ],
          "name": "stdout"
        },
        {
          "output_type": "stream",
          "text": [
            "INFO:tensorflow:*** Available Device: _DeviceAttributes(/job:worker/replica:0/task:0/device:TPU:0, TPU, 0, 0)\n"
          ],
          "name": "stderr"
        },
        {
          "output_type": "stream",
          "text": [
            "INFO:tensorflow:*** Available Device: _DeviceAttributes(/job:worker/replica:0/task:0/device:TPU:1, TPU, 0, 0)\n"
          ],
          "name": "stdout"
        },
        {
          "output_type": "stream",
          "text": [
            "INFO:tensorflow:*** Available Device: _DeviceAttributes(/job:worker/replica:0/task:0/device:TPU:1, TPU, 0, 0)\n"
          ],
          "name": "stderr"
        },
        {
          "output_type": "stream",
          "text": [
            "INFO:tensorflow:*** Available Device: _DeviceAttributes(/job:worker/replica:0/task:0/device:TPU:2, TPU, 0, 0)\n"
          ],
          "name": "stdout"
        },
        {
          "output_type": "stream",
          "text": [
            "INFO:tensorflow:*** Available Device: _DeviceAttributes(/job:worker/replica:0/task:0/device:TPU:2, TPU, 0, 0)\n"
          ],
          "name": "stderr"
        },
        {
          "output_type": "stream",
          "text": [
            "INFO:tensorflow:*** Available Device: _DeviceAttributes(/job:worker/replica:0/task:0/device:TPU:3, TPU, 0, 0)\n"
          ],
          "name": "stdout"
        },
        {
          "output_type": "stream",
          "text": [
            "INFO:tensorflow:*** Available Device: _DeviceAttributes(/job:worker/replica:0/task:0/device:TPU:3, TPU, 0, 0)\n"
          ],
          "name": "stderr"
        },
        {
          "output_type": "stream",
          "text": [
            "INFO:tensorflow:*** Available Device: _DeviceAttributes(/job:worker/replica:0/task:0/device:TPU:4, TPU, 0, 0)\n"
          ],
          "name": "stdout"
        },
        {
          "output_type": "stream",
          "text": [
            "INFO:tensorflow:*** Available Device: _DeviceAttributes(/job:worker/replica:0/task:0/device:TPU:4, TPU, 0, 0)\n"
          ],
          "name": "stderr"
        },
        {
          "output_type": "stream",
          "text": [
            "INFO:tensorflow:*** Available Device: _DeviceAttributes(/job:worker/replica:0/task:0/device:TPU:5, TPU, 0, 0)\n"
          ],
          "name": "stdout"
        },
        {
          "output_type": "stream",
          "text": [
            "INFO:tensorflow:*** Available Device: _DeviceAttributes(/job:worker/replica:0/task:0/device:TPU:5, TPU, 0, 0)\n"
          ],
          "name": "stderr"
        },
        {
          "output_type": "stream",
          "text": [
            "INFO:tensorflow:*** Available Device: _DeviceAttributes(/job:worker/replica:0/task:0/device:TPU:6, TPU, 0, 0)\n"
          ],
          "name": "stdout"
        },
        {
          "output_type": "stream",
          "text": [
            "INFO:tensorflow:*** Available Device: _DeviceAttributes(/job:worker/replica:0/task:0/device:TPU:6, TPU, 0, 0)\n"
          ],
          "name": "stderr"
        },
        {
          "output_type": "stream",
          "text": [
            "INFO:tensorflow:*** Available Device: _DeviceAttributes(/job:worker/replica:0/task:0/device:TPU:7, TPU, 0, 0)\n"
          ],
          "name": "stdout"
        },
        {
          "output_type": "stream",
          "text": [
            "INFO:tensorflow:*** Available Device: _DeviceAttributes(/job:worker/replica:0/task:0/device:TPU:7, TPU, 0, 0)\n"
          ],
          "name": "stderr"
        },
        {
          "output_type": "stream",
          "text": [
            "INFO:tensorflow:*** Available Device: _DeviceAttributes(/job:worker/replica:0/task:0/device:TPU_SYSTEM:0, TPU_SYSTEM, 0, 0)\n"
          ],
          "name": "stdout"
        },
        {
          "output_type": "stream",
          "text": [
            "INFO:tensorflow:*** Available Device: _DeviceAttributes(/job:worker/replica:0/task:0/device:TPU_SYSTEM:0, TPU_SYSTEM, 0, 0)\n"
          ],
          "name": "stderr"
        },
        {
          "output_type": "stream",
          "text": [
            "INFO:tensorflow:*** Available Device: _DeviceAttributes(/job:worker/replica:0/task:0/device:XLA_CPU:0, XLA_CPU, 0, 0)\n"
          ],
          "name": "stdout"
        },
        {
          "output_type": "stream",
          "text": [
            "INFO:tensorflow:*** Available Device: _DeviceAttributes(/job:worker/replica:0/task:0/device:XLA_CPU:0, XLA_CPU, 0, 0)\n"
          ],
          "name": "stderr"
        },
        {
          "output_type": "stream",
          "text": [
            "REPLICAS:  8\n"
          ],
          "name": "stdout"
        }
      ]
    },
    {
      "cell_type": "markdown",
      "metadata": {
        "pycharm": {
          "name": "#%% md\n"
        },
        "id": "yL0UZVa1v9D9"
      },
      "source": [
        "# Dataset"
      ]
    },
    {
      "cell_type": "code",
      "metadata": {
        "pycharm": {
          "name": "#%%\n"
        },
        "id": "KF1m_wf3v9D-"
      },
      "source": [
        "import glob\n",
        "import numpy as np\n",
        "import tensorflow as tf\n",
        "import pickle\n",
        "import matplotlib.pyplot as plt\n",
        "import random\n",
        "import pickle\n",
        "import os\n",
        "from collections import Counter\n",
        "import random\n",
        "import datetime\n",
        "\n",
        "import data"
      ],
      "execution_count": 7,
      "outputs": []
    },
    {
      "cell_type": "code",
      "metadata": {
        "id": "1HejtDH_Yx8h"
      },
      "source": [
        "# Use this to edit modules without needing to restart the kernel\n",
        "# import importlib\n",
        "# importlib.reload(data)"
      ],
      "execution_count": 8,
      "outputs": []
    },
    {
      "cell_type": "code",
      "metadata": {
        "id": "vA2WFvCJv9EF"
      },
      "source": [
        "RELATIVE = True # use relative joints instead of absolute pos/ori as in the original paper\n",
        "QUAT = False # whether to use quaternions or rpy in actions\n",
        "JOINTS = False # use relative joints instead of absolute angles\n",
        "VELOCITY = True"
      ],
      "execution_count": 9,
      "outputs": []
    },
    {
      "cell_type": "code",
      "metadata": {
        "id": "bsRWLkHKsfQw"
      },
      "source": [
        "def load_data(path, keys):\n",
        "    dataset = {k:[] for k in keys+['sequence_index','sequence_id']}\n",
        "    obs_act_path = os.path.join(path, 'obs_act_etc/')\n",
        "\n",
        "    for demo in os.listdir(obs_act_path):\n",
        "        traj = np.load(obs_act_path+demo+'/data.npz')\n",
        "        for k in keys:\n",
        "            dataset[k].append(traj[k].astype(np.float32))\n",
        "        timesteps = len(traj['obs'])\n",
        "        dataset['sequence_index'].append(np.arange(timesteps, dtype=np.int32).reshape(-1, 1))\n",
        "        dataset['sequence_id'].append(np.full(timesteps, fill_value=int(demo), dtype=np.int32).reshape(-1, 1))\n",
        "\n",
        "    # convert to numpy\n",
        "    for k in keys+['sequence_index','sequence_id']:\n",
        "        dataset[k] = np.vstack(dataset[k])\n",
        "    return dataset"
      ],
      "execution_count": 10,
      "outputs": []
    },
    {
      "cell_type": "code",
      "metadata": {
        "id": "3MyEE9kUv9EL",
        "outputId": "cb1fad68-4343-4266-8192-ab2869b8d95a",
        "colab": {
          "base_uri": "https://localhost:8080/",
          "height": 34
        }
      },
      "source": [
        "keys = ['obs', 'acts', 'achieved_goals', 'joint_poses', 'target_poses', 'acts_rpy', 'acts_rpy_rel',  'velocities']\n",
        "dataset = load_data(PYBULLET_DATA_DIR, keys)\n",
        "\n",
        "if JOINTS:\n",
        "    OBS_DIM = dataset['obs'].shape[1] + 7 \n",
        "    ACT_DIM = dataset['target_poses'].shape[1] + 1\n",
        "else:\n",
        "    OBS_DIM = dataset['obs'].shape[1]\n",
        "    if QUAT:\n",
        "        ACT_DIM = dataset['acts'].shape[1]\n",
        "    else:\n",
        "        ACT_DIM = dataset['acts_rpy'].shape[1]\n",
        "\n",
        "if VELOCITY:\n",
        "    OBS_DIM += dataset['velocities'].shape[1]\n",
        "        \n",
        "GOAL_DIM = dataset['achieved_goals'].shape[1]\n",
        "print(f'Obs: (N,{OBS_DIM}), Acts: (N,{ACT_DIM}), Goals: (N,{GOAL_DIM})')"
      ],
      "execution_count": 11,
      "outputs": [
        {
          "output_type": "stream",
          "text": [
            "Obs: (N,25), Acts: (N,7), Goals: (N,11)\n"
          ],
          "name": "stdout"
        }
      ]
    },
    {
      "cell_type": "code",
      "metadata": {
        "id": "7iNQfzhqv9EX",
        "outputId": "c131474c-8a9e-48b0-b33c-779446a7462a",
        "colab": {
          "base_uri": "https://localhost:8080/",
          "height": 34
        }
      },
      "source": [
        "DATASET_SIZE = dataset['obs'].shape[0]\n",
        "secs = DATASET_SIZE / 20\n",
        "hours = secs // 3600\n",
        "minutes = secs // 60 - hours * 60\n",
        "print(f\"We have {DATASET_SIZE} frames of data, which is {hours:.0f}hrs {minutes:.0f}m.\")"
      ],
      "execution_count": 12,
      "outputs": [
        {
          "output_type": "stream",
          "text": [
            "We have 73507 frames of data, which is 1hrs 1m.\n"
          ],
          "name": "stdout"
        }
      ]
    },
    {
      "cell_type": "code",
      "metadata": {
        "id": "Zr_q7DBwZ8Bc"
      },
      "source": [
        "# Ok data aug time! # flip to the equivalent quaternion to add more data\n",
        "OBS_QUATERNION_INDICES = [(3,7), (10,14)]\n",
        "GOAL_QUATERNION_INDICES = [(3,7)]\n",
        "for k in keys+['sequence_index','sequence_id']:\n",
        "    augmented_data = dataset[k].copy()\n",
        "    if k == 'obs':\n",
        "        for pair in OBS_QUATERNION_INDICES:\n",
        "            augmented_data[pair[0]:pair[1]]= - augmented_data[pair[0]:pair[1]]\n",
        "    if k == 'achieved_goals':\n",
        "        for pair in GOAL_QUATERNION_INDICES:\n",
        "            augmented_data[pair[0]:pair[1]]= - augmented_data[pair[0]:pair[1]]\n",
        "    \n",
        "    dataset[k] = np.concatenate([augmented_data, dataset[k]], 0)"
      ],
      "execution_count": 13,
      "outputs": []
    },
    {
      "cell_type": "code",
      "metadata": {
        "id": "e79aXwbDcnLS",
        "outputId": "376f5f4b-899a-4592-840b-905d4d9da42c",
        "colab": {
          "base_uri": "https://localhost:8080/",
          "height": 34
        }
      },
      "source": [
        "DATASET_SIZE = dataset['obs'].shape[0]\n",
        "secs = DATASET_SIZE / 20\n",
        "hours = secs // 3600\n",
        "minutes = secs // 60 - hours * 60\n",
        "print(f\"After augmentation we have {DATASET_SIZE} frames of data, which is {hours:.0f}hrs {minutes:.0f}m.\")"
      ],
      "execution_count": 14,
      "outputs": [
        {
          "output_type": "stream",
          "text": [
            "After augmentation we have 147014 frames of data, which is 2hrs 2m.\n"
          ],
          "name": "stdout"
        }
      ]
    },
    {
      "cell_type": "code",
      "metadata": {
        "id": "kUUdmYhsQxGf",
        "outputId": "1fe1423c-518f-48b2-b1fa-1354e9349e50",
        "colab": {
          "base_uri": "https://localhost:8080/",
          "height": 54
        }
      },
      "source": [
        "BATCH_SIZE_PER_REPLICA = 512\n",
        "GLOBAL_BATCH_SIZE = BATCH_SIZE_PER_REPLICA * NUM_DEVICES\n",
        "\n",
        "WINDOW_SIZE = 40\n",
        "MIN_WINDOW_SIZE = WINDOW_SIZE//2\n",
        "WINDOW_SHIFT = 1\n",
        "SHUFFLE_SIZE = GLOBAL_BATCH_SIZE*4\n",
        "PREFETCH_SIZE = tf.data.experimental.AUTOTUNE\n",
        "NUM_WORKERS = 4\n",
        "TRAIN_TEST_SPLIT = 0.9\n",
        "VARIABLE_SEQ_LENS = True\n",
        "\n",
        "window_lambda = lambda x: tf.data.Dataset.zip(x).batch(WINDOW_SIZE)\n",
        "seq_overlap_filter = lambda x: tf.equal(tf.size(tf.unique(tf.squeeze(x['sequence_id'])).y), 1)\n",
        "\n",
        "def create_goal_tensor(dataset, seq_len=-1):\n",
        "    ''' Tile final achieved_goal across time dimension '''\n",
        "    tile_dims = tf.constant([WINDOW_SIZE, 1], tf.int32)\n",
        "    goal = tf.tile(dataset['achieved_goals'][seq_len-1,tf.newaxis], tile_dims) # as goal is at an index take seq_len -1\n",
        "    return goal\n",
        "\n",
        "def transform_states(dataset):\n",
        "    if JOINTS:\n",
        "        if RELATIVE:\n",
        "          rel = dataset['target_poses'] - dataset['joint_poses'][:,:7]\n",
        "        else:\n",
        "          rel = dataset['target_poses']\n",
        "\n",
        "        gripper = dataset['acts'][:,-1,tf.newaxis]\n",
        "        acts = tf.concat([rel, gripper], axis=-1)\n",
        "        obs = tf.concat([dataset['obs'],dataset['joint_poses'][:,:7]], axis=-1)#.astype('float32')\n",
        "    else:\n",
        "        obs = dataset['obs']\n",
        "        if RELATIVE:\n",
        "            if QUAT:\n",
        "                rel = dataset['acts'][:,:7] - dataset['obs'][:,:7]\n",
        "            else:\n",
        "                rel = dataset['acts_rpy_rel'][:,:6]\n",
        "                \n",
        "            gripper = dataset['acts'][:,-1,tf.newaxis]\n",
        "            acts = tf.concat([rel, gripper], axis=-1)\n",
        "        else:\n",
        "            if QUAT:\n",
        "                acts = dataset['acts']\n",
        "            else:\n",
        "                acts = dataset['acts_rpy']\n",
        "\n",
        "\n",
        "    if VELOCITY:\n",
        "      obs = tf.concat([obs, dataset['velocities']], axis = -1)  \n",
        "    \n",
        "    # Variable Seq len\n",
        "    if VARIABLE_SEQ_LENS:\n",
        "      seq_len = tf.random.uniform(shape=[], minval=MIN_WINDOW_SIZE, maxval=WINDOW_SIZE, dtype=tf.int32, seed=10)\n",
        "    else:\n",
        "      seq_len = WINDOW_SIZE # SEQLENS Just at max window size\n",
        "\n",
        "    mask = tf.cast(tf.sequence_mask(seq_len, maxlen=WINDOW_SIZE), tf.float32) # creates a B*T mask\n",
        "    multiply_mask = tf.expand_dims(mask, -1)\n",
        "\n",
        "    goals = create_goal_tensor(dataset, seq_len)\n",
        "\n",
        "    obs = obs * multiply_mask\n",
        "    acts = acts * multiply_mask\n",
        "    goals = goals * multiply_mask\n",
        "\n",
        "    return {'obs':obs, 'acts':acts, 'goals':goals, 'seq_lens': tf.cast(seq_len, tf.float32), 'masks':mask, \n",
        "           'dataset_path':dataset['sequence_id'], 'tstep_idxs':dataset['sequence_index']}\n",
        "\n",
        "def tf_ds_transform(dataset):\n",
        "    return dataset\\\n",
        "                .window(size=WINDOW_SIZE, shift=WINDOW_SHIFT, stride=1, drop_remainder=True)\\\n",
        "                .flat_map(window_lambda)\\\n",
        "                .filter(seq_overlap_filter)\\\n",
        "                .shuffle(SHUFFLE_SIZE)\\\n",
        "                .repeat()\\\n",
        "                .map(transform_states, num_parallel_calls=NUM_WORKERS)\\\n",
        "                .batch(GLOBAL_BATCH_SIZE, drop_remainder=True)\\\n",
        "                .prefetch(PREFETCH_SIZE)\\\n",
        "                # .cache()\n",
        "\n",
        "# Todo: Need to confirm splitting here works with shuffle() and repeat()\n",
        "train_size = int(TRAIN_TEST_SPLIT * DATASET_SIZE)\n",
        "\n",
        "full_dataset = tf.data.Dataset.from_tensor_slices(dataset)\n",
        "train_dataset = tf_ds_transform(full_dataset.take(train_size))\n",
        "valid_dataset = tf_ds_transform(full_dataset.skip(train_size))\n",
        "train_dataset"
      ],
      "execution_count": 17,
      "outputs": [
        {
          "output_type": "execute_result",
          "data": {
            "text/plain": [
              "<PrefetchDataset shapes: {obs: (4096, 40, 25), acts: (4096, 40, 7), goals: (4096, 40, 11), seq_lens: (4096,), masks: (4096, 40), dataset_path: (4096, None, 1), tstep_idxs: (4096, None, 1)}, types: {obs: tf.float32, acts: tf.float32, goals: tf.float32, seq_lens: tf.float32, masks: tf.float32, dataset_path: tf.int32, tstep_idxs: tf.int32}>"
            ]
          },
          "metadata": {
            "tags": []
          },
          "execution_count": 17
        }
      ]
    },
    {
      "cell_type": "markdown",
      "metadata": {
        "pycharm": {
          "name": "#%% md\n"
        },
        "id": "nN3YJSSLv9Ez"
      },
      "source": [
        "# Model"
      ]
    },
    {
      "cell_type": "code",
      "metadata": {
        "pycharm": {
          "name": "#%%\n"
        },
        "id": "BWMloXYWv9Ez"
      },
      "source": [
        "from tensorflow.keras.models import Model, Sequential\n",
        "from tensorflow.keras.layers import Dense, BatchNormalization, ReLU, Input, LSTM, Concatenate, Masking, Reshape, Lambda, Bidirectional, GRU\n",
        "from tensorflow.keras.regularizers import l1, l2\n",
        "import tensorflow_probability as tfp\n",
        "tfd = tfp.distributions\n",
        "tfb = tfp.bijectors\n",
        "tfpl = tfp.layers"
      ],
      "execution_count": 18,
      "outputs": []
    },
    {
      "cell_type": "markdown",
      "metadata": {
        "pycharm": {
          "name": "#%% md\n"
        },
        "id": "UyCTWom6v9E3"
      },
      "source": [
        "## LSTM Model\n",
        "Use this to map obs -> act"
      ]
    },
    {
      "cell_type": "code",
      "metadata": {
        "id": "BaQklDgMGRhZ"
      },
      "source": [
        "def create_encoder(layer_size=2048, latent_dim = 256, epsilon=1e-4, training=True):\n",
        "    # Input #\n",
        "    obs = Input(shape=(40, OBS_DIM), dtype=tf.float32, name='obs')\n",
        "    acts = Input(shape=(40, ACT_DIM), dtype=tf.float32, name='acts') \n",
        "\n",
        "    # Layers #\n",
        "    x = Concatenate(axis=-1)([obs, acts])\n",
        "    x = Masking(mask_value=0.)(x)\n",
        "    x = Bidirectional(LSTM(layer_size, return_sequences=True), merge_mode='concat')(x)\n",
        "    x = Bidirectional(LSTM(layer_size, return_sequences=False), merge_mode='concat')(x)\n",
        "\n",
        "    # Latent Variable # \n",
        "    mu = Dense(latent_dim, activation=None, name='mu')(x)\n",
        "    scale = Dense(latent_dim, activation=\"softplus\", name='sigma')(x + epsilon)\n",
        "    \n",
        "    mixture = tfpl.DistributionLambda(latent_normal, name='latent_variable')((mu, scale))\n",
        "    return Model([obs, acts], mixture)\n",
        "\n",
        "\n",
        "def create_planner(layer_size=2048, latent_dim = 256, epsilon=1e-4, training=True):\n",
        "    # params #\n",
        "    batch_size = None\n",
        "\n",
        "    # Input #\n",
        "    o_i = Input(shape=(OBS_DIM,), batch_size=batch_size, dtype=tf.float32, name='initial_obs') # has arm state\n",
        "    o_g = Input(shape=(GOAL_DIM,), batch_size=batch_size, dtype=tf.float32, name='goal_obs') # does not have arm state\n",
        "\n",
        "    # Layers #\n",
        "    x = Concatenate(axis=-1)([o_i, o_g])\n",
        "    x = Masking(mask_value=0.)(x)\n",
        "    x = Dense(layer_size, activation=\"relu\", name='layer_1')(x)\n",
        "    x = Dense(layer_size, activation=\"relu\", name='layer_2')(x)\n",
        "    x = Dense(layer_size, activation=\"relu\", name='layer_3')(x)\n",
        "    x = Dense(layer_size, activation=\"relu\", name='layer_4')(x)\n",
        "\n",
        "    # Latent Variable # \n",
        "    mu = Dense(latent_dim, activation=None, name='mu')(x)\n",
        "    scale = Dense(latent_dim, activation=\"softplus\", name='sigma')(x + epsilon)\n",
        "    \n",
        "    mixture = tfpl.DistributionLambda(latent_normal,  name='latent_variable')((mu, scale))\n",
        "    return Model([o_i, o_g], mixture)\n",
        "\n",
        "def create_actor(layer_size=1024, latent_dim = 256, epsilon=1e-4, num_distribs=None, GCBC=False, training=True):\n",
        "    # params #\n",
        "    batch_size = None if training else 1\n",
        "    stateful = not training\n",
        "\n",
        "    # Input #\n",
        "    o = Input(shape=(None, OBS_DIM), batch_size=batch_size, dtype=tf.float32, name='input_obs')\n",
        "    z = Input(shape=(None, latent_dim), batch_size=batch_size, dtype=tf.float32, name='input_latent')\n",
        "    g = Input(shape=(None, GOAL_DIM), batch_size=batch_size, dtype=tf.float32, name='input_goals')\n",
        "\n",
        "    # RNN #\n",
        "    if GCBC:      \n",
        "      x =  Concatenate(axis=-1)([o,g])\n",
        "    else:\n",
        "      x =  Concatenate(axis=-1)([o,z,g])\n",
        "\n",
        "    x = Masking(mask_value=0.)(x)\n",
        "    x = LSTM(layer_size, return_sequences=True, stateful=stateful, name='LSTM_in_1')(x)\n",
        "    x = LSTM(layer_size, return_sequences=True, stateful=stateful, name='LSTM_in_2')(x)\n",
        "\n",
        "    # Probabilistic Mixture Model #\n",
        "    if num_distribs:\n",
        "        weightings = Dense(ACT_DIM*num_distribs, activation=None, name='alpha')(x)\n",
        "        mu = Dense(ACT_DIM*num_distribs, activation=None, name='mu')(x)\n",
        "        scale = Dense(ACT_DIM*num_distribs, activation=\"softplus\", name='sigma')(x + epsilon)\n",
        "\n",
        "        weightings = Reshape((-1, ACT_DIM, num_distribs))(weightings)\n",
        "        mu = Reshape((-1, ACT_DIM, num_distribs))(mu)\n",
        "        scale = Reshape((-1, ACT_DIM, num_distribs))(scale)\n",
        "        \n",
        "        actions = tfpl.DistributionLambda(logistic_mixture, name='logistic_mix')([weightings, mu, scale])\n",
        "    else:\n",
        "        actions = Dense(ACT_DIM, activation=None, name='acts')(x)\n",
        "\n",
        "    if GCBC:\n",
        "      return Model([o, g], actions)\n",
        "    else:\n",
        "      return Model([o, z, g], actions)\n",
        "\n",
        "\n",
        "def latent_normal(inputs):\n",
        "    mu, scale = inputs\n",
        "    dist = tfd.Normal(loc=mu, scale=scale)\n",
        "    return dist\n",
        "\n",
        "def logistic_mixture(inputs):\n",
        "    weightings, mu, scale = inputs\n",
        "    dist = tfd.Logistic(loc=mu, scale=scale)\n",
        "    mixture_dist = tfd.MixtureSameFamily(\n",
        "        mixture_distribution=tfd.Categorical(logits=weightings),\n",
        "        components_distribution=dist,\n",
        "        validate_args=True\n",
        "    )\n",
        "    return mixture_dist"
      ],
      "execution_count": 19,
      "outputs": []
    },
    {
      "cell_type": "code",
      "metadata": {
        "id": "UePyx30JB2_a"
      },
      "source": [
        "import math\n",
        "import logging\n",
        "import pdb\n",
        "\n",
        "import numpy as np\n",
        "import tensorflow as tf\n",
        "import tensorflow.keras as K\n",
        "from tensorflow.keras.layers import Dense, LayerNormalization, Dropout, Embedding, Lambda\n",
        "from tensorflow.keras.optimizers import Adam\n",
        "from tensorflow.keras.backend import count_params\n",
        "# import tensorflow_addons as tfa\n",
        "# from tensorflow_addons.optimizers import AdamW\n",
        "# from tensorflow_addons.layers import GELU\n",
        "\n",
        "logger = logging.getLogger(__name__)\n",
        "\n",
        "class TrainerConfig:\n",
        "    # optimization parameters\n",
        "    max_epochs = 10\n",
        "    batch_size = 64\n",
        "    learning_rate = 3e-4\n",
        "    betas = (0.9, 0.95)\n",
        "    grad_norm_clip = 1.0\n",
        "    weight_decay = 0.1 # only applied on matmul weights\n",
        "    # learning rate decay params: linear warmup followed by cosine decay to 10% of original\n",
        "    lr_decay = False\n",
        "    warmup_tokens = 375e6 # these two numbers come from the GPT-3 paper, but may not be good defaults elsewhere\n",
        "    final_tokens = 260e9 # (at what point we reach 10% of original LR)\n",
        "    # checkpoint settings\n",
        "    ckpt_path = None\n",
        "    num_workers = 0 # for DataLoader\n",
        "\n",
        "class GPTConfig:\n",
        "    \"\"\" base GPT config, params common to all GPT versions \"\"\"\n",
        "    embd_pdrop = 0.1\n",
        "    resid_pdrop = 0.1\n",
        "    attn_pdrop = 0.1\n",
        "\n",
        "    def __init__(self, block_size, **kwargs):\n",
        "        self.block_size = block_size\n",
        "        for k,v in kwargs.items():\n",
        "            setattr(self, k, v)\n",
        "\n",
        "class GPT1Config(GPTConfig):\n",
        "    \"\"\" GPT-1 like network roughly 125M params \"\"\"\n",
        "    n_layer = 12\n",
        "    n_head = 12\n",
        "    n_embd = 768\n",
        "    \n",
        "def gelu(x):\n",
        "    \"\"\"Gaussian Error Linear Unit.\n",
        "    This is a smoother version of the RELU.\n",
        "    Original paper: https://arxiv.org/abs/1606.08415\n",
        "    Args:\n",
        "        x: float Tensor to perform activation.\n",
        "    Returns:\n",
        "        `x` with the GELU activation applied.\n",
        "    \"\"\"\n",
        "    cdf = 0.5 * (1.0 + tf.tanh(\n",
        "        (math.sqrt(2 / math.pi) * (x + 0.044715 * tf.pow(x, 3)))))\n",
        "    return x * cdf\n",
        "\n",
        "GeLU = tf.keras.activations.get(gelu)\n",
        "\n",
        "class CausalSelfAttention(K.layers.Layer):\n",
        "    \"\"\"\n",
        "    A vanilla multi-head masked self-attention layer with a projection at the end.\n",
        "    It is possible to use torch.nn.MultiheadAttention here but I am including an\n",
        "    explicit implementation here to show that there is nothing too scary here.\n",
        "    \"\"\"\n",
        "\n",
        "    def __init__(self, config):\n",
        "        super().__init__()\n",
        "        assert config.n_embd % config.n_head == 0\n",
        "        # key, query, value projections for all heads\n",
        "        self.key = Dense(config.n_embd, name='key', kernel_initializer='he_normal', bias_initializer='zeros')\n",
        "        self.query = Dense(config.n_embd, name='query', kernel_initializer='he_normal', bias_initializer='zeros')\n",
        "        self.value = Dense(config.n_embd, name='value', kernel_initializer='he_normal', bias_initializer='zeros')\n",
        "        # regularization\n",
        "        self.attn_drop = Dropout(config.attn_pdrop)\n",
        "        self.resid_drop = Dropout(config.resid_pdrop)\n",
        "        # output projection\n",
        "        self.proj = Dense(config.n_embd, name='projection', kernel_initializer='he_normal', bias_initializer='zeros')\n",
        "        # causal mask to ensure that attention is only applied to the left in the input sequence\n",
        "        self.mask = 1 - tf.linalg.band_part(tf.ones((config.block_size, config.block_size)), -1, 0)#[tf.newaxis, tf.newaxis] # tf tril equivalent\n",
        "        self.n_head = config.n_head\n",
        "        self.n_embd = config.n_embd\n",
        "        self.depth = config.n_embd // config.n_head\n",
        "\n",
        "    def split_heads(self, x, batch_size):\n",
        "        \"\"\" Split the last dimension into (n_head, depth) \"\"\"\n",
        "        x = tf.reshape(x, (batch_size, -1, self.n_head, self.depth))    # (B, T, ne) -> (B, T, nh, d)\n",
        "        return tf.transpose(x, perm=[0, 2, 1, 3])    # (B, nh, T, d)\n",
        "    \n",
        "    def reassemble_heads(self, x, batch_size):\n",
        "        \"\"\" Concat the last two dimensions into (n_embd,) - inverse transform of `split_heads()` \"\"\"\n",
        "        x = tf.transpose(x, perm=[0, 2, 1, 3])    # (B, nh, T, d)\n",
        "        return tf.reshape(x, (batch_size, -1, self.n_embd))    # (B, T, ne)\n",
        "    \n",
        "    def scaled_dot_product_attention(self, q, k, v, mask, training=True):\n",
        "        \"\"\" Calculate the attention weights v(q*k) \n",
        "        q*k gives relevance measure - better matched a k is to q, the higher it will activate and thus will feature more in the v output\n",
        "        \"\"\"\n",
        "        matmul_qk = tf.matmul(q, k, transpose_b=True)    # (..., T, T)\n",
        "\n",
        "        # scale matmul_qk\n",
        "        dk = tf.cast(k.shape[-1], tf.float32)\n",
        "        scaled_attention_logits = matmul_qk / tf.math.sqrt(dk)\n",
        "\n",
        "        # add the mask to the scaled tensor.\n",
        "        if mask is not None:\n",
        "            scaled_attention_logits += (mask * -1e9)    \n",
        "\n",
        "        # softmax is normalized on the last axis (T) so that the scores\n",
        "        # add up to 1.\n",
        "        attention_weights = tf.nn.softmax(scaled_attention_logits, axis=-1)    # (..., T, T)\n",
        "        attention_weights = self.attn_drop(attention_weights, training=training)\n",
        "\n",
        "        # (B, nh, T, T) x (B, nh, T, d) -> (B, nh, T, d)\n",
        "        output = tf.matmul(attention_weights, v)    # (..., T, d)\n",
        "\n",
        "        return output, attention_weights\n",
        "        \n",
        "    def call(self, x, training=True):\n",
        "        B = tf.shape(x)[0]\n",
        "        T = tf.shape(x)[1]\n",
        "\n",
        "        # calculate query, key, values for all heads in batch and move head forward to be the batch dim\n",
        "        # n_embd = n_heads * depth\n",
        "        k = self.key(x)    # (B, T, ne)\n",
        "        q = self.query(x)    # (B, T, ne)\n",
        "        v = self.value(x)    # (B, T, ne)\n",
        "        \n",
        "        k = self.split_heads(k, B)    # (B, nh, T, d)\n",
        "        q = self.split_heads(q, B)    # (B, nh, T, d)\n",
        "        v = self.split_heads(v, B)    # (B, nh, T, d)\n",
        "\n",
        "        # causal self-attention; Self-attend: (B, nh, T, d) x (B, nh, d, T)\n",
        "        y, w = self.scaled_dot_product_attention(q, k, v, self.mask[:T,:T], training=training)    # (B, nh, T, d), (B, nh, T, T)\n",
        "        y = self.reassemble_heads(y, B) # re-assemble all head outputs side by side (B, T, ne)\n",
        "\n",
        "        # output projection\n",
        "        y = self.resid_drop(self.proj(y), training=training)    # (B, T, ne)\n",
        "        return y\n",
        "\n",
        "class Block(K.layers.Layer):\n",
        "    \"\"\" an unassuming Transformer block \"\"\"\n",
        "\n",
        "    def __init__(self, config):\n",
        "        super().__init__()\n",
        "        self.ln1 = LayerNormalization()\n",
        "        self.ln2 = LayerNormalization()\n",
        "        self.attn = CausalSelfAttention(config)\n",
        "        self.mlp = K.Sequential([\n",
        "            Dense(4 * config.n_embd, activation=GeLU, kernel_initializer='he_normal', bias_initializer='zeros'),\n",
        "            Dense(config.n_embd, kernel_initializer='he_normal', bias_initializer='zeros'),\n",
        "            Dropout(config.resid_pdrop),\n",
        "        ])\n",
        "\n",
        "    def call(self, x, training=True):\n",
        "        x = x + self.attn(self.ln1(x), training=training)\n",
        "        x = x + self.mlp(self.ln2(x), training=training)\n",
        "        return x\n",
        "\n",
        "class GPT(K.Model):\n",
        "    \"\"\"  the full GPT language model, with a context size of block_size \"\"\"\n",
        "\n",
        "    def __init__(self, config, train_config):\n",
        "        super().__init__()\n",
        "\n",
        "        self.pos_emb = self.add_weight(\"position_embedding\",\n",
        "                                       shape=(1, config.block_size, config.n_embd),\n",
        "                                       initializer='zeros',\n",
        "                                       dtype=tf.float32)\n",
        "        self.drop = Dropout(config.embd_pdrop)\n",
        "        # transformer\n",
        "        self.blocks = K.Sequential([Block(config) for _ in range(config.n_layer)])\n",
        "        # decoder head\n",
        "        self.ln_f = LayerNormalization()\n",
        "        self.head = Dense(ACT_DIM, use_bias=False, kernel_initializer='he_normal')\n",
        "\n",
        "        self.block_size = config.block_size\n",
        "        # self.apply(self._init_weights)\n",
        "        self.loss_fn = K.losses.CategoricalCrossentropy(from_logits=True)#K.losses.SparseCategoricalCrossentropy(from_logits=True)\n",
        "\n",
        "        # self.optimizer = Adam()#self.configure_optimizers(train_config)\n",
        "        # self.compile(optimizer=self.optimizer,\n",
        "        #               loss=self.loss_fn,\n",
        "        #               metrics=['accuracy'])\n",
        "#         self.build(input_shape=(None, config.block_size))\n",
        "#         logger.info(\"number of parameters: %e\", np.sum([K.count_params(w) for w in self.trainable_weights]))\n",
        "        \n",
        "    def get_block_size(self):\n",
        "        return self.block_size\n",
        "\n",
        "    # def configure_optimizers(self, train_config):\n",
        "    #     \"\"\"\n",
        "    #     This long function is unfortunately doing something very simple and is being very defensive:\n",
        "    #     We are separating out all parameters of the model into two buckets: those that will experience\n",
        "    #     weight decay for regularization and those that won't (biases, and layernorm/embedding weights).\n",
        "    #     We are then returning the PyTorch optimizer object.\n",
        "    #     \"\"\"\n",
        "    #     # Todo: We weight decay all params whereas Karpathy excludes biases, LN, embeddings\n",
        "    #     optimizer = AdamW(weight_decay=train_config.weight_decay, lr=train_config.learning_rate,\n",
        "    #                       beta_1=train_config.betas[0], beta_2=train_config.betas[1])\n",
        "    #     return optimizer\n",
        "\n",
        "#     @tf.function\n",
        "    def call(self, inputs: tf.Tensor, training=True):\n",
        "        o, g = inputs\n",
        "        B, T, D = o.shape\n",
        "        assert T <= self.block_size, \"Cannot forward, model block size is exhausted.\"\n",
        "\n",
        "        inputs = Concatenate(axis=-1)(inputs)\n",
        "\n",
        "        # forward the GPT model\n",
        "        position_embeddings = self.pos_emb[:, :T, :] # each position maps to a (learnable) vector\n",
        "        x = self.drop(inputs + position_embeddings, training=training)\n",
        "        x = self.blocks(x, training=training)\n",
        "        x = self.ln_f(x)\n",
        "        logits = self.head(x)\n",
        "        \n",
        "        return logits"
      ],
      "execution_count": 25,
      "outputs": []
    },
    {
      "cell_type": "code",
      "metadata": {
        "id": "liy969oaCzZn"
      },
      "source": [
        "x = next(iter(train_dataset))"
      ],
      "execution_count": 21,
      "outputs": []
    },
    {
      "cell_type": "code",
      "metadata": {
        "id": "MCMYJlr69Bkn"
      },
      "source": [
        "# from mingpt_tf.model import GPT, GPTConfig, TrainerConfig\n",
        "\n",
        "mconf = GPTConfig(block_size=WINDOW_SIZE,\n",
        "                  n_layer=4, n_head=3, n_embd=OBS_DIM+GOAL_DIM)\n",
        "tconf = TrainerConfig()\n",
        "actor = GPT(mconf, tconf)"
      ],
      "execution_count": 22,
      "outputs": []
    },
    {
      "cell_type": "code",
      "metadata": {
        "id": "xrpRNNFAFC45",
        "outputId": "4b3fde18-364d-461c-ee2c-67a52c7f7038",
        "colab": {
          "base_uri": "https://localhost:8080/",
          "height": 1000
        }
      },
      "source": [
        "actor([x['obs'], x['goals']])"
      ],
      "execution_count": 23,
      "outputs": [
        {
          "output_type": "execute_result",
          "data": {
            "text/plain": [
              "<tf.Tensor: shape=(4096, 40, 7), dtype=float32, numpy=\n",
              "array([[[-2.24742   ,  1.9904671 ,  1.1779385 , ..., -0.6460666 ,\n",
              "          0.49068037,  0.92728466],\n",
              "        [-0.8003782 ,  1.1418939 ,  2.280162  , ..., -1.707825  ,\n",
              "          1.2402183 ,  1.7963899 ],\n",
              "        [-0.88105416,  1.5778642 ,  0.5453658 , ..., -2.373343  ,\n",
              "          0.23298392,  0.49603516],\n",
              "        ...,\n",
              "        [-2.1192665 ,  0.8461238 ,  2.0635066 , ..., -2.5291173 ,\n",
              "          0.94242895, -0.3240843 ],\n",
              "        [-1.0921768 ,  0.97685564,  2.3848464 , ..., -2.39972   ,\n",
              "          1.725561  ,  1.2535775 ],\n",
              "        [-1.1747624 ,  0.53490394,  2.738657  , ..., -1.1564837 ,\n",
              "          1.264766  ,  0.6708467 ]],\n",
              "\n",
              "       [[-3.6427355 ,  1.9414588 ,  1.502251  , ..., -0.7340138 ,\n",
              "          1.3225825 , -1.1286011 ],\n",
              "        [-1.5915931 ,  1.5747175 ,  1.7189045 , ...,  0.8977353 ,\n",
              "          1.4144161 , -1.1574662 ],\n",
              "        [-2.0028133 ,  1.9982394 ,  2.629979  , ..., -1.4381883 ,\n",
              "          1.9202967 ,  0.278088  ],\n",
              "        ...,\n",
              "        [-2.7818313 ,  0.14883827,  0.10621943, ..., -0.6692369 ,\n",
              "          0.70635307, -1.2170541 ],\n",
              "        [-2.2736542 ,  0.6097367 ,  2.4260325 , ..., -0.9818289 ,\n",
              "          2.4011073 ,  0.6362795 ],\n",
              "        [-2.8377278 ,  0.73872334,  2.3485723 , ..., -1.166259  ,\n",
              "          1.4959176 ,  0.20134266]],\n",
              "\n",
              "       [[-1.792943  ,  0.15941611,  2.35181   , ..., -0.74274224,\n",
              "          0.3678151 ,  0.9900497 ],\n",
              "        [-1.7598925 ,  0.53494847,  2.5967004 , ..., -0.4856244 ,\n",
              "         -0.03705038,  0.93666947],\n",
              "        [-1.2160152 ,  1.0447627 ,  2.840053  , ..., -0.80278325,\n",
              "          1.1339722 ,  0.6717553 ],\n",
              "        ...,\n",
              "        [-1.8294636 ,  0.15871178,  2.6758718 , ..., -2.1303377 ,\n",
              "          0.6296146 ,  1.588824  ],\n",
              "        [-1.4502587 ,  0.8281677 ,  2.5252357 , ..., -1.3004932 ,\n",
              "          0.3345531 ,  1.0121009 ],\n",
              "        [-2.128912  , -0.3047239 ,  2.1145515 , ..., -2.4286606 ,\n",
              "          0.20930383,  1.3448831 ]],\n",
              "\n",
              "       ...,\n",
              "\n",
              "       [[-3.2724152 , -1.2596148 ,  1.4261081 , ...,  1.3927928 ,\n",
              "          0.87334055, -1.1034049 ],\n",
              "        [-2.202117  ,  0.4849329 ,  0.31576622, ...,  1.5692527 ,\n",
              "         -0.02698533, -0.96615666],\n",
              "        [-2.531235  , -0.7691324 ,  0.8604189 , ...,  1.9131966 ,\n",
              "          0.5720034 , -0.9872556 ],\n",
              "        ...,\n",
              "        [-4.0844884 , -0.91401845,  0.23166826, ..., -1.448805  ,\n",
              "          0.2299554 ,  0.5529565 ],\n",
              "        [-3.4747417 ,  0.1982766 ,  0.4014848 , ..., -0.8562976 ,\n",
              "          0.39119828,  0.07145796],\n",
              "        [-3.8654628 , -1.1208334 ,  0.940978  , ..., -0.37223735,\n",
              "          0.06470491, -0.08704378]],\n",
              "\n",
              "       [[-1.1416281 ,  1.4479    ,  1.809359  , ...,  0.06901728,\n",
              "          2.4185169 , -0.6504298 ],\n",
              "        [-1.5984279 ,  1.9645075 ,  2.6577208 , ...,  0.6379739 ,\n",
              "          1.1840421 , -2.0592709 ],\n",
              "        [-0.9500182 ,  1.3329087 ,  1.9431305 , ..., -0.07381651,\n",
              "          1.7128212 , -1.2264105 ],\n",
              "        ...,\n",
              "        [-1.1480174 ,  1.0137994 ,  2.7196267 , ...,  0.6230664 ,\n",
              "          2.568528  ,  1.1548032 ],\n",
              "        [-1.12122   ,  1.4792597 ,  0.6487697 , ...,  0.508964  ,\n",
              "          2.3401117 , -0.48891476],\n",
              "        [-1.1569741 ,  1.1003938 ,  1.8929962 , ...,  0.29173064,\n",
              "          1.8032281 , -0.70980513]],\n",
              "\n",
              "       [[-0.41498598,  1.5927485 ,  2.6070745 , ..., -2.0504985 ,\n",
              "          0.70059085,  2.4064522 ],\n",
              "        [-0.99376804,  1.5979154 ,  2.5233793 , ..., -2.1923692 ,\n",
              "         -0.42323855,  1.7874826 ],\n",
              "        [-1.5146847 , -0.19582361,  1.3225952 , ..., -3.061048  ,\n",
              "          0.9513737 ,  1.6207833 ],\n",
              "        ...,\n",
              "        [-1.4660826 ,  0.8268728 ,  2.9130538 , ..., -1.743772  ,\n",
              "          0.45211595,  1.3294852 ],\n",
              "        [-1.4777594 ,  0.45041126,  1.7661222 , ..., -2.6826558 ,\n",
              "          1.087475  ,  1.1219034 ],\n",
              "        [-2.1828496 ,  1.7531432 ,  3.3042803 , ..., -2.80505   ,\n",
              "         -1.1933395 ,  0.06950071]]], dtype=float32)>"
            ]
          },
          "metadata": {
            "tags": []
          },
          "execution_count": 23
        }
      ]
    },
    {
      "cell_type": "code",
      "metadata": {
        "id": "-1qE4YVDFwll",
        "outputId": "9ad63517-55e8-4858-d1e0-47a95980ab49",
        "colab": {
          "base_uri": "https://localhost:8080/",
          "height": 301
        }
      },
      "source": [
        "actor.summary()"
      ],
      "execution_count": 24,
      "outputs": [
        {
          "output_type": "stream",
          "text": [
            "Model: \"gpt\"\n",
            "_________________________________________________________________\n",
            "Layer (type)                 Output Shape              Param #   \n",
            "=================================================================\n",
            "dropout (Dropout)            multiple                  0         \n",
            "_________________________________________________________________\n",
            "sequential_4 (Sequential)    (4096, 40, 36)            64080     \n",
            "_________________________________________________________________\n",
            "layer_normalization_8 (Layer multiple                  72        \n",
            "_________________________________________________________________\n",
            "dense_8 (Dense)              multiple                  252       \n",
            "=================================================================\n",
            "Total params: 65,844\n",
            "Trainable params: 65,844\n",
            "Non-trainable params: 0\n",
            "_________________________________________________________________\n"
          ],
          "name": "stdout"
        }
      ]
    },
    {
      "cell_type": "markdown",
      "metadata": {
        "pycharm": {
          "name": "#%% md\n"
        },
        "id": "TWIpRPRuv9E6"
      },
      "source": [
        "# Training Loop"
      ]
    },
    {
      "cell_type": "code",
      "metadata": {
        "id": "-3r_TDl7v9E7",
        "outputId": "bae6fdde-1e81-48db-b1c3-adce215cadb1",
        "colab": {
          "base_uri": "https://localhost:8080/",
          "height": 68
        }
      },
      "source": [
        "from tensorflow.keras.losses import MeanSquaredError\n",
        "from tensorflow.keras.metrics import Accuracy\n",
        "from tensorflow.keras.optimizers import SGD, Adam\n",
        "from tensorflow.keras.utils import Progbar\n",
        "import tensorflow_addons as tfa\n",
        "\n",
        "import time\n",
        "import io\n",
        "import wandb\n",
        "wandb.login()\n",
        "#%load_ext tensorboard"
      ],
      "execution_count": 26,
      "outputs": [
        {
          "output_type": "display_data",
          "data": {
            "application/javascript": [
              "\n",
              "        window._wandbApiKey = new Promise((resolve, reject) => {\n",
              "            function loadScript(url) {\n",
              "            return new Promise(function(resolve, reject) {\n",
              "                let newScript = document.createElement(\"script\");\n",
              "                newScript.onerror = reject;\n",
              "                newScript.onload = resolve;\n",
              "                document.body.appendChild(newScript);\n",
              "                newScript.src = url;\n",
              "            });\n",
              "            }\n",
              "            loadScript(\"https://cdn.jsdelivr.net/npm/postmate/build/postmate.min.js\").then(() => {\n",
              "            const iframe = document.createElement('iframe')\n",
              "            iframe.style.cssText = \"width:0;height:0;border:none\"\n",
              "            document.body.appendChild(iframe)\n",
              "            const handshake = new Postmate({\n",
              "                container: iframe,\n",
              "                url: 'https://wandb.ai/authorize'\n",
              "            });\n",
              "            const timeout = setTimeout(() => reject(\"Couldn't auto authenticate\"), 5000)\n",
              "            handshake.then(function(child) {\n",
              "                child.on('authorize', data => {\n",
              "                    clearTimeout(timeout)\n",
              "                    resolve(data)\n",
              "                });\n",
              "            });\n",
              "            })\n",
              "        });\n",
              "    "
            ],
            "text/plain": [
              "<IPython.core.display.Javascript object>"
            ]
          },
          "metadata": {
            "tags": []
          }
        },
        {
          "output_type": "stream",
          "text": [
            "\u001b[34m\u001b[1mwandb\u001b[0m: Appending key for api.wandb.ai to your netrc file: /root/.netrc\n"
          ],
          "name": "stderr"
        },
        {
          "output_type": "execute_result",
          "data": {
            "text/plain": [
              "True"
            ]
          },
          "metadata": {
            "tags": []
          },
          "execution_count": 26
        }
      ]
    },
    {
      "cell_type": "code",
      "metadata": {
        "id": "manfKNAvCVss"
      },
      "source": [
        "# Explore regularising the encoder using info-VAE, while concurrently making the planner chase it\n",
        "# Add latent space projection plots"
      ],
      "execution_count": 27,
      "outputs": []
    },
    {
      "cell_type": "code",
      "metadata": {
        "id": "4dG2o68LfnYx"
      },
      "source": [
        "import umap\n",
        "reducer = umap.UMAP(metric='cosine', random_state=42)\n",
        "\n",
        "def project_latents(reducer, z_enc, z_plan):\n",
        "    ''' Todo: may need to rethink vector averaging here... '''\n",
        "    reducer.fit(z_enc)\n",
        "    z_enc_embed = reducer.transform(z_enc)\n",
        "    z_plan_embed = reducer.transform(z_plan)\n",
        "\n",
        "    fig = plt.figure()\n",
        "    ax = fig.add_subplot(111)\n",
        "    ax.scatter(z_enc_embed[:, 0], z_enc_embed[:, 1], s=5, label='z_enc')\n",
        "    ax.scatter(z_plan_embed[:, 0], z_plan_embed[:, 1], s=5, label='z_plan')\n",
        "    ax.set_aspect('equal', 'datalim')\n",
        "    ax.legend(loc='upper left')\n",
        "    plt.axis('off')\n",
        "    plt.tight_layout()\n",
        "    return fig\n",
        "\n",
        "def plot_to_image(figure):\n",
        "    \"\"\"Converts the matplotlib plot specified by 'figure' to a PNG image and\n",
        "    returns it. The supplied figure is closed and inaccessible after this call.\"\"\"\n",
        "    # Save the plot to a PNG in memory.\n",
        "    buf = io.BytesIO()\n",
        "    plt.savefig(buf, format='png')\n",
        "    # Closing the figure prevents it from being displayed directly inside\n",
        "    # the notebook.\n",
        "    plt.close(figure)\n",
        "    buf.seek(0)\n",
        "    # Convert PNG buffer to TF image\n",
        "    image = tf.image.decode_png(buf.getvalue(), channels=4)\n",
        "    # Add the batch dimension\n",
        "    image = tf.expand_dims(image, 0)\n",
        "    return image"
      ],
      "execution_count": 28,
      "outputs": []
    },
    {
      "cell_type": "code",
      "metadata": {
        "id": "KqmqTTIrJgHc"
      },
      "source": [
        "class MaxMetric(tf.keras.metrics.Metric):\n",
        "\n",
        "  def __init__(self, name='max_metric', **kwargs):\n",
        "    super(MaxMetric, self).__init__(name=name, **kwargs)\n",
        "    self.max = self.add_weight(name='max', initializer='zeros')\n",
        "    self.abs_err = tf.keras.losses.MeanAbsoluteError(reduction=tf.keras.losses.Reduction.NONE)\n",
        "\n",
        "  def update_state(self, y_true, y_pred, mask=1.0):\n",
        "    y_true = tf.cast(y_true, tf.float32)\n",
        "    y_pred = tf.cast(y_pred, tf.float32)\n",
        "\n",
        "    values = self.abs_err(y_true, y_pred) * mask\n",
        "    values = tf.cast(values, self.dtype)\n",
        "    max = tf.reduce_max(values)\n",
        "    if tf.math.greater(max, self.max):\n",
        "        self.max.assign(max)\n",
        "\n",
        "  def result(self):\n",
        "    return self.max"
      ],
      "execution_count": 29,
      "outputs": []
    },
    {
      "cell_type": "code",
      "metadata": {
        "id": "7vDui_2XGhZW"
      },
      "source": [
        "LAYER_SIZE = 2048\n",
        "LATENT_DIM = LAYER_SIZE//8\n",
        "GRIPPER_WEIGHT = 1.0\n",
        "GCBC = True\n",
        "PROBABILISTIC = False\n",
        "\n",
        "with strategy.scope():\n",
        "  nll_action_loss = lambda y, p_y: tf.reduce_sum(-p_y.log_prob(y), axis=2)\n",
        "  mae_action_loss = tf.keras.losses.MeanAbsoluteError(reduction=tf.keras.losses.Reduction.NONE)\n",
        "\n",
        "  def compute_loss(labels, predictions, mask, seq_lens, weightings=None):\n",
        "      # Scale gripper loss\n",
        "    #   if weightings:\n",
        "    #     assert len(weightings)==labels.shape[-1]\n",
        "    #     labels = tf.multiply(labels, weightings)\n",
        "    #     predictions = tf.multiply(predictions, weightings)\n",
        "      \n",
        "      if PROBABILISTIC:\n",
        "        per_example_loss = nll_action_loss(labels, predictions) * mask\n",
        "      else:\n",
        "        per_example_loss = mae_action_loss(labels, predictions) * mask\n",
        "\n",
        "      per_example_loss = tf.reduce_sum(per_example_loss, axis = 1) / seq_lens # take mean along the timestep\n",
        "      return tf.nn.compute_average_loss(per_example_loss, global_batch_size=GLOBAL_BATCH_SIZE)\n",
        "\n",
        "  def compute_MAE(labels, predictions, mask, seq_lens, weightings=None):\n",
        "      per_example_loss = mae_action_loss(labels, predictions) * mask\n",
        "      per_example_loss = tf.reduce_sum(per_example_loss, axis = 1) / seq_lens # take mean along the timestep\n",
        "      return tf.nn.compute_average_loss(per_example_loss, global_batch_size=GLOBAL_BATCH_SIZE)\n",
        "\n",
        "  def compute_regularisation_loss(plan, encoding):\n",
        "      # Reverse KL(enc|plan): we want planner to map to encoder (weighted by encoder)\n",
        "      reg_loss = tfd.kl_divergence(encoding, plan) #+ KL(plan, encoding)\n",
        "      return tf.nn.compute_average_loss(reg_loss, global_batch_size=GLOBAL_BATCH_SIZE)\n",
        "\n",
        "  train_loss = tf.keras.metrics.Mean(name='train_loss')\n",
        "  valid_loss = tf.keras.metrics.Mean(name='valid_loss')\n",
        "\n",
        "  train_act_with_enc_loss = tf.keras.metrics.Mean(name='train_act_with_enc_loss')\n",
        "  train_act_with_plan_loss = tf.keras.metrics.Mean(name='train_act_with_plan_loss')\n",
        "  valid_act_with_enc_loss = tf.keras.metrics.Mean(name='valid_act_with_enc_loss')\n",
        "  valid_act_with_plan_loss = tf.keras.metrics.Mean(name='valid_act_with_plan_loss')\n",
        "\n",
        "  train_reg_loss = tf.keras.metrics.Mean(name='reg_loss')\n",
        "  valid_reg_loss = tf.keras.metrics.Mean(name='valid_reg_loss')\n",
        "\n",
        "  valid_position_loss = tf.keras.metrics.Mean(name='valid_position_loss')\n",
        "  valid_max_position_loss = MaxMetric(name='valid_max_position_loss')\n",
        "  valid_rotation_loss = tf.keras.metrics.Mean(name='valid_rotation_loss')\n",
        "  valid_max_rotation_loss = MaxMetric(name='valid_max_rotation_loss')\n",
        "  valid_gripper_loss = tf.keras.metrics.Mean(name='valid_rotation_loss')\n",
        "  \n",
        "#   model_params = {'layer_size':LAYER_SIZE, 'latent_dim':LATENT_DIM}\n",
        "#   if PROBABILISTIC:\n",
        "#     actor = create_actor(**model_params, GCBC=GCBC, num_distribs=3)\n",
        "#   else:\n",
        "#     actor = create_actor(**model_params, GCBC=GCBC)\n",
        "#     encoder = create_encoder(**model_params)\n",
        "#     planner = create_planner(**model_params)\n",
        "  actor = GPT(mconf, tconf)\n",
        "\n",
        "  optimizer = tfa.optimizers.AdamW(weight_decay=1e-4, learning_rate=2e-4)\n",
        "  checkpoint = tf.train.Checkpoint(optimizer=optimizer, model=actor)\n",
        "\n",
        "# Now outside strategy .scope\n",
        "def train_step(inputs, beta):\n",
        "  with tf.GradientTape() as tape:\n",
        "    # Todo: figure out mask and seq_lens for new dataset \n",
        "    states, actions, goals, seq_lens, mask = inputs['obs'], inputs['acts'], inputs['goals'], inputs['seq_lens'], inputs['masks']\n",
        "    action_weights = (ACT_DIM-1)*[1.0] + [GRIPPER_WEIGHT] # 1 for all but gripper\n",
        "    if GCBC:\n",
        "      distrib = actor([states, goals])\n",
        "      loss = compute_loss(actions, distrib, mask, seq_lens, weightings=action_weights)\n",
        "      gradients = tape.gradient(loss, actor.trainable_variables)\n",
        "      optimizer.apply_gradients(zip(gradients, actor.trainable_variables))\n",
        "    else:\n",
        "      encoding = encoder([states, actions])\n",
        "      plan = planner([states[:, 0, :], goals[:, 0, :]])  # the final goals are tiled out over the entire non masked sequence, so the first timestep is the final goal. \n",
        "      z_enc = encoding.sample()\n",
        "      z_plan = plan.sample()\n",
        "      z_enc_tiled = tf.tile(tf.expand_dims(z_enc, 1), (1, WINDOW_SIZE, 1))\n",
        "      z_plan_tiled = tf.tile(tf.expand_dims(z_plan, 1), (1, WINDOW_SIZE, 1))\n",
        "\n",
        "      enc_policy = actor([states, z_enc_tiled, goals])\n",
        "      plan_policy = actor([states, z_plan_tiled, goals])\n",
        "\n",
        "      act_enc_loss = compute_loss(actions, enc_policy, mask, seq_lens, weightings=action_weights)\n",
        "      act_plan_loss = compute_loss(actions, plan_policy, mask, seq_lens, weightings=action_weights)\n",
        "      act_loss = act_enc_loss\n",
        "      reg_loss = compute_regularisation_loss(plan, encoding)\n",
        "      train_act_with_enc_loss.update_state(act_enc_loss)\n",
        "      train_act_with_plan_loss.update_state(act_plan_loss)\n",
        "      train_reg_loss.update_state(reg_loss)\n",
        "      loss = act_loss + reg_loss * beta  \n",
        "      gradients = tape.gradient(loss, actor.trainable_variables+encoder.trainable_variables+planner.trainable_variables)\n",
        "      optimizer.apply_gradients(zip(gradients, actor.trainable_variables+encoder.trainable_variables+planner.trainable_variables))\n",
        "\n",
        "  train_loss.update_state(loss)\n",
        "  \n",
        "  return loss\n",
        "\n",
        "def test_step(inputs, beta):\n",
        "  states, actions, goals, seq_lens, mask = inputs['obs'], inputs['acts'], inputs['goals'], inputs['seq_lens'], inputs['masks']\n",
        "  action_weights = (ACT_DIM-1)*[1.0] + [GRIPPER_WEIGHT] # 1 for all but gripper\n",
        "  if QUAT:\n",
        "    # xyz, q1-4, grip\n",
        "    action_breakdown = [3,4,1]\n",
        "  else:\n",
        "    action_breakdown = [3,3,1]\n",
        "\n",
        "  if GCBC:\n",
        "    policy = actor([states, goals])\n",
        "    loss = compute_loss(actions, policy, mask, seq_lens, weightings=action_weights)\n",
        "    if PROBABILISTIC:\n",
        "      pos_acts, rot_acts, grip_act = tf.split(policy.sample(), action_breakdown, -1)\n",
        "    else:\n",
        "      pos_acts, rot_acts, grip_act = tf.split(policy, action_breakdown, -1)\n",
        "  else:  \n",
        "    encoding = encoder([states, actions])\n",
        "    plan = planner([states[:, 0, :], goals[:, 0, :]])  # the final goals are tiled out over the entire non masked sequence, so the first timestep is the final goal. \n",
        "    z_enc = encoding.sample()\n",
        "    z_plan = plan.sample()\n",
        "    z_enc_tiled = tf.tile(tf.expand_dims(z_enc, 1), (1, WINDOW_SIZE, 1))\n",
        "    z_plan_tiled = tf.tile(tf.expand_dims(z_plan, 1), (1, WINDOW_SIZE, 1))\n",
        "\n",
        "    enc_policy = actor([states, z_enc_tiled, goals])\n",
        "    plan_policy = actor([states, z_plan_tiled, goals])\n",
        "\n",
        "    act_enc_loss = compute_loss(actions, enc_policy, mask, seq_lens, weightings=action_weights)\n",
        "    act_plan_loss = compute_loss(actions, plan_policy, mask, seq_lens, weightings=action_weights)\n",
        "    act_loss = act_plan_loss\n",
        "    reg_loss = compute_regularisation_loss(plan, encoding)\n",
        "    valid_act_with_enc_loss.update_state(act_enc_loss)\n",
        "    valid_act_with_plan_loss.update_state(act_plan_loss)\n",
        "    valid_reg_loss.update_state(reg_loss)\n",
        "\n",
        "    # pos, rot, gripper individual losses\n",
        "    if PROBABILISTIC:\n",
        "      pos_acts, rot_acts, grip_act = tf.split(plan_policy.sample(), action_breakdown, -1)\n",
        "    else:\n",
        "      pos_acts, rot_acts, grip_act = tf.split(plan_policy, action_breakdown, -1)\n",
        "    \n",
        "    loss = act_loss + reg_loss * beta\n",
        "\n",
        "  true_pos_acts, true_rot_acts, true_grip_act = tf.split(actions, action_breakdown, -1)\n",
        "  valid_position_loss.update_state(compute_MAE(true_pos_acts, pos_acts, mask, seq_lens))\n",
        "  valid_max_position_loss(true_pos_acts, pos_acts, mask)\n",
        "  valid_rotation_loss.update_state(compute_MAE(true_rot_acts, rot_acts, mask, seq_lens))\n",
        "  valid_max_rotation_loss(true_rot_acts, rot_acts, mask)\n",
        "  valid_gripper_loss.update_state(compute_MAE(true_grip_act, grip_act, mask, seq_lens))\n",
        "  valid_loss.update_state(loss)\n",
        "\n",
        "  if GCBC:\n",
        "    return loss\n",
        "  else:\n",
        "    return loss, z_enc, z_plan\n",
        "\n",
        "@tf.function\n",
        "def distributed_train_step(dataset_inputs, beta):\n",
        "  per_replica_losses = strategy.run(train_step, args=(dataset_inputs, beta))\n",
        "  return strategy.reduce(tf.distribute.ReduceOp.MEAN, per_replica_losses, axis=None)\n",
        "\n",
        "@tf.function\n",
        "def distributed_test_step(dataset_inputs, beta):\n",
        "  if GCBC:\n",
        "    per_replica_losses = strategy.run(test_step, args=(dataset_inputs, beta))\n",
        "    return strategy.reduce(tf.distribute.ReduceOp.MEAN, per_replica_losses, axis=None)\n",
        "  else:\n",
        "    per_replica_losses, ze, zp = strategy.run(test_step, args=(dataset_inputs, beta))\n",
        "    return strategy.reduce(tf.distribute.ReduceOp.MEAN, per_replica_losses, axis=None), ze.values[0], zp.values[0]"
      ],
      "execution_count": 30,
      "outputs": []
    },
    {
      "cell_type": "code",
      "metadata": {
        "id": "KrN8p__13pNd"
      },
      "source": [
        "train_dist_dataset = iter(strategy.experimental_distribute_dataset(train_dataset))\n",
        "valid_dist_dataset = iter(strategy.experimental_distribute_dataset(valid_dataset))"
      ],
      "execution_count": 31,
      "outputs": []
    },
    {
      "cell_type": "code",
      "metadata": {
        "id": "xtSlIEoBlDyp",
        "outputId": "53c6b301-f904-4361-f292-2cac4797a3ea",
        "colab": {
          "base_uri": "https://localhost:8080/",
          "height": 278
        }
      },
      "source": [
        "from train import BetaScheduler\n",
        "\n",
        "TRAIN_STEPS = 20000\n",
        "\n",
        "beta_sched = BetaScheduler('cyclic', \n",
        "                           beta=0, \n",
        "                           beta_max=1.0, \n",
        "                           max_steps=TRAIN_STEPS, \n",
        "                           cycles=5, \n",
        "                           duty_cycle=0.5\n",
        "                           )"
      ],
      "execution_count": 32,
      "outputs": [
        {
          "output_type": "display_data",
          "data": {
            "image/png": "[encoded data removed]",
            "text/plain": [
              "<Figure size 432x288 with 1 Axes>"
            ]
          },
          "metadata": {
            "tags": [],
            "needs_background": "light"
          }
        }
      ]
    },
    {
      "cell_type": "code",
      "metadata": {
        "id": "B-GxHom207-M"
      },
      "source": [
        "def save_weights(path):\n",
        "    os.makedirs(path, exist_ok=True)\n",
        "\n",
        "    print('Saving model weights...')\n",
        "    actor.save_weights(path + 'model.h5')\n",
        "    if not GCBC:\n",
        "        planner.save_weights(path + 'planner.h5')\n",
        "        encoder.save_weights(path + 'encoder.h5')\n",
        "    print('Weights saved!')"
      ],
      "execution_count": 33,
      "outputs": []
    },
    {
      "cell_type": "code",
      "metadata": {
        "id": "rhSGD_2imWDi",
        "outputId": "8b3bbe79-f608-4cb5-8c8c-d030255eb704",
        "colab": {
          "base_uri": "https://localhost:8080/",
          "height": 135
        }
      },
      "source": [
        "progbar = Progbar(TRAIN_STEPS, verbose=1, interval=0.5)\n",
        "best_valid_loss = np.float('inf')\n",
        "\n",
        "valid_inc = 20\n",
        "save_inc = 1000\n",
        "t = 0\n",
        "\n",
        "train_loss_result = []\n",
        "train_act_with_enc_loss_result = []\n",
        "train_act_with_plan_loss_result = []\n",
        "train_reg_loss_result = []\n",
        "valid_loss_result = []\n",
        "valid_act_with_enc_loss_result = []\n",
        "valid_act_with_plan_loss_result = []\n",
        "valid_reg_loss_result = []\n",
        "valid_position_loss_result = []\n",
        "valid_max_position_loss_result = []\n",
        "valid_rotation_loss_result = []\n",
        "valid_max_rotation_loss_result = []\n",
        "valid_gripper_loss_result = []\n",
        "beta_result = []\n",
        "latent_img_result = []\n",
        "\n",
        "# WandB\n",
        "wandb.init(project=\"learning-from-play\")\n",
        "\n",
        "config = wandb.config\n",
        "\n",
        "# Hparams\n",
        "config.DEVICE = DEVICE\n",
        "config.BATCH_SIZE_PER_REPLICA = BATCH_SIZE_PER_REPLICA\n",
        "config.WINDOW_SIZE = WINDOW_SIZE\n",
        "config.WINDOW_SHIFT = WINDOW_SHIFT\n",
        "config.SHUFFLE_SIZE = SHUFFLE_SIZE\n",
        "config.PREFETCH_SIZE = PREFETCH_SIZE\n",
        "config.NUM_WORKERS = NUM_WORKERS\n",
        "config.TRAIN_TEST_SPLIT = TRAIN_TEST_SPLIT\n",
        "config.LAYER_SIZE = LAYER_SIZE\n",
        "config.LATENT_DIM = LATENT_DIM\n",
        "config.GRIPPER_WEIGHT = GRIPPER_WEIGHT\n",
        "config.TRAIN_STEPS = TRAIN_STEPS\n",
        "config.beta_schedule = beta_sched.schedule\n",
        "config.beta_min = beta_sched.beta_min\n",
        "config.beta_max = beta_sched.beta_max"
      ],
      "execution_count": 34,
      "outputs": [
        {
          "output_type": "stream",
          "text": [
            "\u001b[34m\u001b[1mwandb\u001b[0m: Currently logged in as: \u001b[33mtfrizza\u001b[0m (use `wandb login --relogin` to force relogin)\n"
          ],
          "name": "stderr"
        },
        {
          "output_type": "display_data",
          "data": {
            "text/html": [
              "\n",
              "                Tracking run with wandb version 0.10.7<br/>\n",
              "                Syncing run <strong style=\"color:#cdcd00\">iconic-feather-41</strong> to <a href=\"https://wandb.ai\" target=\"_blank\">Weights & Biases</a> <a href=\"https://docs.wandb.com/integrations/jupyter.html\" target=\"_blank\">(Documentation)</a>.<br/>\n",
              "                Project page: <a href=\"https://wandb.ai/tfrizza/learning-from-play\" target=\"_blank\">https://wandb.ai/tfrizza/learning-from-play</a><br/>\n",
              "                Run page: <a href=\"https://wandb.ai/tfrizza/learning-from-play/runs/3g5jax3o\" target=\"_blank\">https://wandb.ai/tfrizza/learning-from-play/runs/3g5jax3o</a><br/>\n",
              "                Run data is saved locally in <code>wandb/run-20201020_113719-3g5jax3o</code><br/><br/>\n",
              "            "
            ],
            "text/plain": [
              "<IPython.core.display.HTML object>"
            ]
          },
          "metadata": {
            "tags": []
          }
        }
      ]
    },
    {
      "cell_type": "code",
      "metadata": {
        "id": "TQFbEKVNLq2s"
      },
      "source": [
        "wandb.run.name =\"GCBC_GPT\"\n",
        "\n",
        "model_name = wandb.run.name\n",
        "model_path = f'/content/drive/My Drive/Robotic Learning/LMP_test/{model_name}/'"
      ],
      "execution_count": 35,
      "outputs": []
    },
    {
      "cell_type": "code",
      "metadata": {
        "id": "IXF0Y8aKrsng",
        "outputId": "eac0e33c-ef89-4bfc-e002-58d5af05ea99",
        "colab": {
          "base_uri": "https://localhost:8080/",
          "height": 232
        }
      },
      "source": [
        "while t < TRAIN_STEPS:\n",
        "    beta = beta_sched.scheduler(t)\n",
        "    x = next(train_dist_dataset)\n",
        "    total_train_loss = distributed_train_step(x, beta)\n",
        "    \n",
        "    if t % valid_inc == 0:\n",
        "        valid_x = next(valid_dist_dataset)\n",
        "        if GCBC:\n",
        "          total_val_loss = distributed_test_step(valid_x, beta)\n",
        "        else:\n",
        "          total_val_loss, ze, zp = distributed_test_step(valid_x, beta)\n",
        "\n",
        "        # validation plotting\n",
        "        progbar.add(valid_inc, [('Train Loss', train_loss.result()), ('Validation Loss', valid_loss.result())])\n",
        "\n",
        "        train_loss_result.append(train_loss.result())\n",
        "        valid_loss_result.append(valid_loss.result())\n",
        "        valid_position_loss_result.append(valid_position_loss.result())\n",
        "        valid_max_position_loss_result.append(valid_max_position_loss.result())\n",
        "        valid_rotation_loss_result.append(valid_rotation_loss.result())\n",
        "        valid_max_rotation_loss_result.append(valid_max_rotation_loss.result())\n",
        "        valid_gripper_loss_result.append(valid_gripper_loss.result())\n",
        "\n",
        "        if GCBC:\n",
        "          wandb.log({'train_loss_result':train_loss_result[-1],\n",
        "                      'valid_loss_result':valid_loss_result[-1],\n",
        "                      'valid_position_loss_result':valid_position_loss_result[-1],\n",
        "                      'valid_max_position_loss_result':valid_max_position_loss_result[-1],\n",
        "                      'valid_rotation_loss_result':valid_rotation_loss_result[-1],\n",
        "                      'valid_max_rotation_loss_result':valid_max_rotation_loss_result[-1],\n",
        "                      'valid_gripper_loss_result':valid_gripper_loss_result[-1]\n",
        "                    },\n",
        "                    step=t)\n",
        "        else:\n",
        "                    # Latent space projection\n",
        "          latent_fig = project_latents(reducer, ze, zp)\n",
        "          latent_img = plot_to_image(latent_fig)\n",
        "          train_act_with_enc_loss_result.append(train_act_with_enc_loss.result())\n",
        "          train_act_with_plan_loss_result.append(train_act_with_plan_loss.result())\n",
        "          train_reg_loss_result.append(train_reg_loss.result())\n",
        "          valid_act_with_enc_loss_result.append(valid_act_with_enc_loss.result())\n",
        "          valid_act_with_plan_loss_result.append(valid_act_with_plan_loss.result())\n",
        "          valid_reg_loss_result.append(valid_reg_loss.result())\n",
        "          beta_result.append(beta)\n",
        "          latent_img_result.append(latent_img)\n",
        "\n",
        "          wandb.log({'train_loss_result':train_loss_result[-1],\n",
        "                      'train_act_with_enc_loss_result':train_act_with_enc_loss_result[-1],\n",
        "                      'train_act_with_plan_loss_result':train_act_with_plan_loss_result[-1],\n",
        "                      'train_reg_loss_result':train_reg_loss_result[-1],\n",
        "                      'valid_loss_result':valid_loss_result[-1],\n",
        "                      'valid_act_with_enc_loss_result':valid_act_with_enc_loss_result[-1],\n",
        "                      'valid_act_with_plan_loss_result':valid_act_with_plan_loss_result[-1],\n",
        "                      'valid_reg_loss_result':valid_reg_loss_result[-1],\n",
        "                      'valid_position_loss_result':valid_position_loss_result[-1],\n",
        "                      'valid_max_position_loss_result':valid_max_position_loss_result[-1],\n",
        "                      'valid_rotation_loss_result':valid_rotation_loss_result[-1],\n",
        "                      'valid_max_rotation_loss_result':valid_max_rotation_loss_result[-1],\n",
        "                      'valid_gripper_loss_result':valid_gripper_loss_result[-1],\n",
        "                      'beta_result':beta_result[-1],\n",
        "                      'latent_img_result':latent_fig,\n",
        "                    },\n",
        "                    step=t)\n",
        "\n",
        "        # reset metrics\n",
        "        train_loss.reset_states()\n",
        "        train_act_with_enc_loss.reset_states()\n",
        "        train_act_with_plan_loss.reset_states()\n",
        "        train_reg_loss.reset_states()\n",
        "        valid_loss.reset_states()\n",
        "        valid_act_with_enc_loss.reset_states()\n",
        "        valid_act_with_plan_loss.reset_states()\n",
        "        valid_reg_loss.reset_states()\n",
        "\n",
        "        valid_position_loss.reset_states()\n",
        "        valid_max_position_loss.reset_states()\n",
        "        valid_rotation_loss.reset_states()\n",
        "        valid_max_rotation_loss.reset_states()\n",
        "        valid_gripper_loss.reset_states()\n",
        "\n",
        "    if t % save_inc == 0:\n",
        "        save_weights(model_path)\n",
        "\n",
        "    t += 1"
      ],
      "execution_count": null,
      "outputs": [
        {
          "output_type": "stream",
          "text": [
            "WARNING:tensorflow:From /usr/local/lib/python3.6/dist-packages/tensorflow/python/data/ops/multi_device_iterator_ops.py:601: get_next_as_optional (from tensorflow.python.data.ops.iterator_ops) is deprecated and will be removed in a future version.\n",
            "Instructions for updating:\n",
            "Use `tf.data.Iterator.get_next_as_optional()` instead.\n"
          ],
          "name": "stdout"
        },
        {
          "output_type": "stream",
          "text": [
            "WARNING:tensorflow:From /usr/local/lib/python3.6/dist-packages/tensorflow/python/data/ops/multi_device_iterator_ops.py:601: get_next_as_optional (from tensorflow.python.data.ops.iterator_ops) is deprecated and will be removed in a future version.\n",
            "Instructions for updating:\n",
            "Use `tf.data.Iterator.get_next_as_optional()` instead.\n"
          ],
          "name": "stderr"
        },
        {
          "output_type": "stream",
          "text": [
            "\r   20/20000 [..............................] - ETA: 10:22:29 - Train Loss: 0.1458 - Validation Loss: 0.1396Saving model weights...\n",
            "Weights saved!\n",
            " 1020/20000 [>.............................] - ETA: 9:35:31 - Train Loss: 0.0244 - Validation Loss: 0.0231Saving model weights...\n",
            "Weights saved!\n",
            " 1080/20000 [>.............................] - ETA: 9:34:21 - Train Loss: 0.0237 - Validation Loss: 0.0225"
          ],
          "name": "stdout"
        }
      ]
    },
    {
      "cell_type": "code",
      "metadata": {
        "id": "DSR8b5qRwuvu",
        "outputId": "2a92c202-0290-4768-ce4d-06958f7e9a79",
        "colab": {
          "base_uri": "https://localhost:8080/",
          "height": 52
        }
      },
      "source": [
        "save_weights(model_path)"
      ],
      "execution_count": 27,
      "outputs": [
        {
          "output_type": "stream",
          "text": [
            "Saving model weights...\n",
            "Weights saved!\n"
          ],
          "name": "stdout"
        }
      ]
    },
    {
      "cell_type": "code",
      "metadata": {
        "id": "YUa6rnToIIhI",
        "cellView": "both",
        "outputId": "39009273-e91d-40d8-e58f-e3de2a248eee",
        "colab": {
          "base_uri": "https://localhost:8080/",
          "height": 305
        }
      },
      "source": [
        "#@title Broke man's Tensorboard\n",
        "s = np.arange(t, step=valid_inc)\n",
        "\n",
        "# hparams/\n",
        "if not GCBC:\n",
        "  f1,ax1 = plt.subplots(1,1, figsize=(6,5))\n",
        "  ax1.plot(s, beta_result, label='beta')\n",
        "  ax1.set_title('beta')\n",
        "\n",
        "# losses/\n",
        "f2,ax2 = plt.subplots(1,4, figsize=(30,5))\n",
        "ax2[0].plot(s, train_loss_result, label='train')\n",
        "ax2[0].plot(s, valid_loss_result, label='valid')\n",
        "ax2[0].set_title('loss')\n",
        "#ax2[0].set_ylim(0,1e-3)\n",
        "if not GCBC:\n",
        "  ax2[1].plot(s, train_act_with_enc_loss_result, label='train')\n",
        "  ax2[1].plot(s, valid_act_with_enc_loss_result, label='valid')\n",
        "  ax2[1].set_title('act_with_enc_loss')\n",
        "  ax2[1].set_ylim(0,5e-4)\n",
        "  ax2[2].plot(s, train_act_with_plan_loss_result, label='train')\n",
        "  ax2[2].plot(s, valid_act_with_plan_loss_result, label='valid')\n",
        "  ax2[2].set_title('act_with_plan_loss')\n",
        "  ax2[2].set_ylim(0,7e-4)\n",
        "  ax2[3].plot(s, train_reg_loss_result, label='train')\n",
        "  ax2[3].plot(s, valid_reg_loss_result, label='valid')\n",
        "  ax2[3].set_title('reg_loss')\n",
        "  [ax.legend() for ax in ax2]\n",
        "# [ax.set_yscale('log') for ax in ax2]\n",
        "\n",
        "  # images/\n",
        "  f3,ax3 = plt.subplots(1,1, figsize=(6,5))\n",
        "  ax3.imshow(latent_img_result[-1].numpy()[0], label='latent_img_result')\n",
        "  ax3.set_title('Latent space projection')\n",
        "\n",
        "  plt.show()"
      ],
      "execution_count": 28,
      "outputs": [
        {
          "output_type": "display_data",
          "data": {
            "image/png": "[encoded data removed]",
            "text/plain": [
              "<Figure size 2160x360 with 4 Axes>"
            ]
          },
          "metadata": {
            "tags": [],
            "needs_background": "light"
          }
        }
      ]
    },
    {
      "cell_type": "code",
      "metadata": {
        "id": "wnsg9ZwI8RNR"
      },
      "source": [
        "# %tensorboard --logdir {tb_base_dir}"
      ],
      "execution_count": null,
      "outputs": []
    },
    {
      "cell_type": "code",
      "metadata": {
        "id": "-Cs00c5NE6VW",
        "cellView": "both"
      },
      "source": [
        "#@title Sample a batch for timeseries plotting\n",
        "# Lets plot pred actions vs true actions\n",
        "v_it = iter(valid_dataset.repeat())\n",
        "batch = v_it.next()\n",
        "states,acts,goals,seq_lens,masks = batch['obs'],batch['acts'],batch['goals'],batch['seq_lens'],batch['masks']\n",
        "if GCBC:\n",
        "  pred_acts = actor([states, goals])\n",
        "else:\n",
        "  encoding = encoder([states,acts])\n",
        "  plan = planner([states[:, 0, :], goals[:, 0, :]]) # TODO this is really aggravating, if we have variable sequence lengths we need to pass\n",
        "                                                        # Through the indices of the final index, can't just use the last 1, unless we copy it out instead of tiling?\n",
        "  # check if encoder is overfitting on validation\n",
        "  z_enc = z = tf.tile(tf.expand_dims(encoding.sample(), 1), (1, WINDOW_SIZE, 1))\n",
        "  enc_act_distrib = actor([states, z_enc, goals])\n",
        "\n",
        "  # true validation performance, w/ planner\n",
        "  z = tf.tile(tf.expand_dims(plan.sample(), 1), (1, WINDOW_SIZE, 1))\n",
        "  pred_acts = actor([states, z, goals]) # TODO Check can you backprop through samples"
      ],
      "execution_count": 29,
      "outputs": []
    },
    {
      "cell_type": "code",
      "metadata": {
        "id": "ERW0YID3FykT",
        "cellView": "both",
        "outputId": "798ec86b-3490-4eb0-ee90-bc772917ab1b",
        "colab": {
          "base_uri": "https://localhost:8080/",
          "height": 878
        }
      },
      "source": [
        "#@title Plot timeseries of state/action tracking over time - xyz q1234 gripper\n",
        "import seaborn as sns\n",
        "sns.set_style(\"darkgrid\")\n",
        "\n",
        "idx = 12\n",
        "seq_len = int(seq_lens[idx])\n",
        "x = np.arange(seq_len)\n",
        "labels = ['x','y','z','q1','q2','q3','q4','gripper']\n",
        "fig, axes = plt.subplots(ACT_DIM, 1, figsize=(10,12), squeeze=True)\n",
        "for i in range(ACT_DIM):\n",
        "    #sns.lineplot(x, acts[idx,:seq_len,i], color='r', ax=axes[i])\n",
        "    axes[i].plot(acts[idx,:seq_len,i])\n",
        "    axes[i].plot(pred_acts[idx, :seq_len,i])\n",
        "    #sns.lineplot(x, pred_acts[idx, :seq_len,i], color='g', ax=axes[i])\n",
        "    if not GCBC:\n",
        "      sns.lineplot(x, enc_act_distrib[idx, :seq_len,i], color='b', ax=axes[i])\n",
        "      axes[i].set_title(f'$\\\\bf{labels[i]}$')\n",
        "    \n",
        "fig.legend( ('true action', 'predicted action', 'encoder_action'))    \n",
        "plt.tight_layout()\n",
        "plt.show()"
      ],
      "execution_count": 30,
      "outputs": [
        {
          "output_type": "display_data",
          "data": {
            "image/png": "[encoded data removed]",
            "text/plain": [
              "<Figure size 720x864 with 7 Axes>"
            ]
          },
          "metadata": {
            "tags": []
          }
        }
      ]
    },
    {
      "cell_type": "markdown",
      "metadata": {
        "id": "VSBpZPfv1ohn"
      },
      "source": [
        "#Eval"
      ]
    },
    {
      "cell_type": "code",
      "metadata": {
        "id": "TCbNuZPq1nuH"
      },
      "source": [
        "# path = 'GCBCBoi'\n",
        "# if GCBC:\n",
        "#     actor.load_weights(f'saved_models/{path}/model.h5')\n",
        "# else:\n",
        "#     encoder.load_weights(f'saved_models/{path}/encoder.h5')\n",
        "#     planner.load_weights(f'saved_models/{path}/planner.h5')"
      ],
      "execution_count": null,
      "outputs": []
    },
    {
      "cell_type": "code",
      "metadata": {
        "id": "rR24HnPP11p5",
        "outputId": "ee3f8128-85ec-4dc8-8e9e-bc63a900ec3c",
        "colab": {
          "base_uri": "https://localhost:8080/",
          "height": 105
        }
      },
      "source": [
        "import time\n",
        "import pandaRL\n",
        "import gym\n",
        "import matplotlib.pyplot as plt \n",
        "from IPython.display import display, clear_output\n",
        "import imageio\n",
        "import eval\n",
        "if JOINTS and RELATIVE:\n",
        "    env = gym.make('pandaPlayRelJoints1Obj-v0')\n",
        "elif JOINTS and not RELATIVE:\n",
        "    env = gym.make('pandaPlayAbsJoints1Obj-v0')\n",
        "    #env = gym.make('pandaPlayJoints-v0')\n",
        "elif not JOINTS and RELATIVE:\n",
        "    env = gym.make('pandaPlayRel1Obj-v0')\n",
        "else:\n",
        "    env = gym.make('pandaPlay1Obj-v0')\n",
        "\n",
        "env.reset()\n",
        "env.render('playback')"
      ],
      "execution_count": 31,
      "outputs": [
        {
          "output_type": "stream",
          "text": [
            "current_dir=/content/local_packages/pandaRL/pandaRL/envs\n",
            "current_dir=/content/local_packages/pandaRL/pandaRL/envs\n",
            "/content/local_packages/pandaRL/pandaRL/envs\n"
          ],
          "name": "stdout"
        },
        {
          "output_type": "stream",
          "text": [
            "/usr/local/lib/python3.6/dist-packages/gym/logger.py:30: UserWarning: \u001b[33mWARN: Box bound precision lowered by casting to float32\u001b[0m\n",
            "  warnings.warn(colorize('%s: %s'%('WARN', msg % args), 'yellow'))\n"
          ],
          "name": "stderr"
        }
      ]
    },
    {
      "cell_type": "code",
      "metadata": {
        "id": "szPlmBL62cDo"
      },
      "source": [
        "model_params = {'layer_size':LAYER_SIZE, 'latent_dim':LATENT_DIM, 'training':False}\n",
        "if PROBABILISTIC:\n",
        "    actor = create_actor(**model_params, GCBC=GCBC, num_distribs=3)\n",
        "else:\n",
        "    actor = create_actor(**model_params, GCBC=GCBC)\n",
        "actor.load_weights(f'{model_path}/model.h5')"
      ],
      "execution_count": 32,
      "outputs": []
    },
    {
      "cell_type": "code",
      "metadata": {
        "id": "z2LhGTGP2iWV"
      },
      "source": [
        "import time\n",
        "\n",
        "def test_subsequences(data, idx, retries = 3, replay=False, replan_interval=20): \n",
        "    states, acts, goals, seq_lens, masks, pth, tsteps = [data[k] for k in data.keys()]\n",
        "    \n",
        "    start_idx = str(int(tsteps[idx,0]))\n",
        "    traj_end = len(np.where(masks[idx] == 1)[0])-1\n",
        "    print(int(pth[idx,0]), int(tsteps[idx,0]))\n",
        "    print(str(int(pth[idx,0]))+str(int(tsteps[idx,0])) )\n",
        "    print(PYBULLET_DATA_DIR +'states_and_ims/'+str(int(pth[idx,0]))+'/env_states/'+str(int(tsteps[idx,0]))+'.bullet')\n",
        "\n",
        "    env.p.restoreState(fileName=PYBULLET_DATA_DIR +'states_and_ims/'+str(int(pth[idx,0]))+'/env_states/'+str(int(tsteps[idx,0]))+'.bullet')\n",
        "    o = tf.expand_dims(tf.expand_dims(states[idx][0],0),0)\n",
        "    \n",
        "    goal = goals[idx, traj_end,:]\n",
        "    goal = tf.expand_dims(tf.expand_dims(goal, 0),0) \n",
        "    \n",
        "    if replay:\n",
        "        retries = 1\n",
        "\n",
        "    a_true =  acts[idx, :traj_end]\n",
        "    a_pred = []\n",
        "    \n",
        "    for j in range(0,retries):\n",
        "        if not GCBC:\n",
        "            plan, _ = planner((o[0], goal[0]))\n",
        "            z = tf.expand_dims(plan.sample(),0)\n",
        "        actor.reset_states()\n",
        "        if not replay:\n",
        "            replan_horizon = 30\n",
        "        else:\n",
        "            replan_horizon = traj_end\n",
        "            \n",
        "        for i in range(0, replan_horizon):\n",
        "\n",
        "            if replay:\n",
        "                a=a_true[i, :] # uncomment this to replay play subsequences  \n",
        "            else:\n",
        "                if GCBC:\n",
        "                    a = actor((o, goal)).numpy().squeeze()\n",
        "                    a_pred.append(a)\n",
        "                else:\n",
        "                    a = actor((o, z,goal)).numpy().squeeze()\n",
        "                    a_pred.append(a)\n",
        "            \n",
        "            o, r, d, _ = env.step(a)\n",
        "            if JOINTS:\n",
        "                o = tf.expand_dims(tf.expand_dims(np.concatenate([o['observation'],o['joints'][:7]]), 0),0)\n",
        "            else:\n",
        "                o = tf.expand_dims(tf.expand_dims(o['observation'], 0),0)\n",
        "    return np.array(a_true), np.array(a_pred)"
      ],
      "execution_count": 33,
      "outputs": []
    },
    {
      "cell_type": "code",
      "metadata": {
        "id": "BzJnq2Z82q0B"
      },
      "source": [
        "# Lets plot pred actions vs true actions\n",
        "v_it = iter(valid_dataset.repeat())"
      ],
      "execution_count": 34,
      "outputs": []
    },
    {
      "cell_type": "code",
      "metadata": {
        "id": "cGkulvRm43BE"
      },
      "source": [
        "# Play out action histories\n",
        "f = 12\n",
        "eval_data = np.load(PYBULLET_DATA_DIR+'/obs_act_etc/'+str(f)+'/data.npz')\n",
        "potential_start_points = glob.glob(PYBULLET_DATA_DIR+'/states_and_ims/'+str(f)+'/env_states/*.bullet')\n",
        "\n",
        "achieved_goals = eval_data['achieved_goals']\n",
        "\n",
        "if JOINTS:\n",
        "    if RELATIVE:\n",
        "      rel = eval_data['target_poses'] - eval_data['joint_poses'][:,:7]\n",
        "    else:\n",
        "      rel = eval_data['target_poses']\n",
        "\n",
        "    gripper = eval_data['acts'][:,-1,tf.newaxis]\n",
        "    actions = tf.concat([rel, gripper], axis=-1)\n",
        "    observations = tf.concat([eval_data['obs'],eval_data['joint_poses'][:,:7]], axis=-1)#.astype('float32')\n",
        "else:\n",
        "    observations = eval_data['obs']\n",
        "    if RELATIVE:\n",
        "        if QUAT:\n",
        "          rel = eval_data['acts'][:,:7] - eval_data['obs'][:,:7]\n",
        "        else:\n",
        "          rel = eval_data['acts_rpy_rel'][:,:6]\n",
        "        \n",
        "        gripper = eval_data['acts'][:,-1,tf.newaxis]\n",
        "        actions = tf.concat([rel, gripper], axis=-1)\n",
        "    else:\n",
        "        if QUAT:\n",
        "            acts = eval_data['acts']\n",
        "        else:\n",
        "            acts = eval_data['acts_rpy']\n",
        "\n",
        "\n",
        "if VELOCITY:\n",
        "  observations = tf.concat([observations, eval_data['velocities']],-1)\n",
        "\n",
        "def get_random_start_point(potential_start_points):\n",
        "    idx = np.random.choice(len(potential_start_points))\n",
        "    path = potential_start_points[idx]\n",
        "    tstep = int(path.split(\"/\")[-1].replace('.bullet',''))\n",
        "    return path, tstep\n",
        "\n",
        "print(observations.shape, actions.shape)"
      ],
      "execution_count": 35,
      "outputs": []
    },
    {
      "cell_type": "code",
      "metadata": {
        "id": "73a0kl2J54iY"
      },
      "source": [
        "path, start = get_random_start_point(potential_start_points)\n",
        "env.p.restoreState(fileName=path)"
      ],
      "execution_count": null,
      "outputs": []
    },
    {
      "cell_type": "code",
      "metadata": {
        "id": "rvXQpx7_4rEJ"
      },
      "source": [
        "vid_path = 'output/videos/trajectory.mp4'\n",
        "with imageio.get_writer(vid_path, mode='I') as writer:\n",
        "    for i in range(start, start+WINDOW_SIZE):\n",
        "        o, r, d, _ = env.step(actions[i,:])\n",
        "        writer.append_data(o['img'])\n",
        "        clear_output(wait=True)\n",
        "        fig = plt.imshow(o['img'])\n",
        "        plt.show()\n",
        "        #time.sleep(0.01)"
      ],
      "execution_count": null,
      "outputs": []
    },
    {
      "cell_type": "code",
      "metadata": {
        "id": "sX9Mogv88ah5"
      },
      "source": [
        "# Play out stateful model predictions\n",
        "path, start = get_random_start_point(potential_start_points)\n",
        "env.p.restoreState(fileName=path)\n",
        "\n",
        "vid_path = 'output/videos/trajectory.mp4'\n",
        "\n",
        "eval_seq_len = WINDOW_SIZE\n",
        "goal = achieved_goals[start+eval_seq_len][tf.newaxis,tf.newaxis,:] # same as two expand_dims\n",
        "\n",
        "replay = True \n",
        "\n",
        "\n",
        "\n",
        "if replay:\n",
        "    retries = 1\n",
        "else:\n",
        "    retries = 2\n",
        "\n",
        "\n",
        "state = env.panda.calc_state()\n",
        "if JOINTS:\n",
        "    o = tf.expand_dims(tf.expand_dims(np.concatenate([state['observation'], state['joints'][:7]]),0),0)\n",
        "else:\n",
        "    o = tf.expand_dims(tf.expand_dims(state['observation'],0),0)\n",
        "    \n",
        "if VELOCITY:\n",
        "    o = tf.concat([o,tf.expand_dims(tf.expand_dims(tf.cast(state['velocity'],tf.float32),0),0)], axis = -1)\n",
        "\n",
        "a_true = actions[start:start+WINDOW_SIZE]\n",
        "a_pred = []\n",
        "with imageio.get_writer(vid_path, mode='I') as writer:\n",
        "  for j in range(0,retries):\n",
        "      if not GCBC:\n",
        "          plan, _ = planner((o[0], goal[0]))\n",
        "          z = tf.expand_dims(plan.sample(),0)\n",
        "      actor.reset_states()\n",
        "      if not replay:\n",
        "          replan_horizon = 30\n",
        "      else:\n",
        "          replan_horizon = WINDOW_SIZE\n",
        "          \n",
        "      for i in range(0, replan_horizon):\n",
        "\n",
        "          if GCBC:\n",
        "              a = actor((o, goal)).numpy().squeeze()\n",
        "              a_pred.append(a)\n",
        "          else:\n",
        "              a = actor((o, z,goal)).numpy().squeeze()\n",
        "              a_pred.append(a)\n",
        "\n",
        "          if replay:\n",
        "              a=a_true[i, 🙂\n",
        "          \n",
        "          o, r, d, _ = env.step(a)\n",
        "          vel= tf.expand_dims(tf.expand_dims(tf.cast(o['velocity'],tf.float32),0),0)\n",
        "          writer.append_data(o['img'])\n",
        "          clear_output(wait=True)\n",
        "          fig = plt.imshow(o['img'])\n",
        "          plt.show()\n",
        "          if JOINTS:\n",
        "              o = tf.expand_dims(tf.expand_dims(np.concatenate([o['observation'],o['joints'][:7]]), 0),0)\n",
        "          else:\n",
        "              o = tf.expand_dims(tf.expand_dims(o['observation'], 0),0)\n",
        "          if VELOCITY:\n",
        "                o = tf.concat([o,vel], axis = -1)"
      ],
      "execution_count": null,
      "outputs": []
    },
    {
      "cell_type": "code",
      "metadata": {
        "id": "AaMDRLIODOPI",
        "outputId": "92ceb5bf-1193-4213-e5c5-09ffb6b834b3",
        "colab": {
          "base_uri": "https://localhost:8080/",
          "height": 320
        }
      },
      "source": [
        "eval.render_mp4(vid_path)"
      ],
      "execution_count": null,
      "outputs": [
        {
          "output_type": "execute_result",
          "data": {
            "text/html": [
              "\n",
              "                <video width=\"300\" height=\"300\" controls>\n",
              "                <source src=\"data:video/mp4;base64,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\" type=\"video/mp4\">\n",
              "                </video>\n",
              "                "
            ],
            "text/plain": [
              "<IPython.core.display.HTML object>"
            ]
          },
          "metadata": {
            "tags": []
          },
          "execution_count": 60
        }
      ]
    },
    {
      "cell_type": "code",
      "metadata": {
        "id": "UKiZsYyD2zwz"
      },
      "source": [
        "a_true =  np.array(a_true)\n",
        "a_pred = np.array(a_pred)\n",
        "length_true = len(a_true)\n",
        "length_pred = len(a_pred)\n",
        "actions_space = a_true.shape[-1]\n",
        "x_true = np.linspace(0, length_true, num=length_true) \n",
        "x_pred = np.linspace(0, length_pred, num=length_pred) \n",
        "labels = ['x','y','z','q1','q2','q3','q4','gripper']\n",
        "for i in range(0,actions_space):\n",
        "    fig, axes = plt.subplots(1, 1, figsize=(6,1.0), squeeze=False)\n",
        "    # One Model\n",
        "    axes[0,0].plot(x_true,a_true[:,i],'green')\n",
        "    axes[0,0].plot(x_pred,a_pred[:,i], 'b')\n",
        "    fig.legend( ('true action', 'predicted action'))\n",
        "   \n",
        "    plt.title(labels[i])\n",
        "    plt.show()"
      ],
      "execution_count": null,
      "outputs": []
    },
    {
      "cell_type": "code",
      "metadata": {
        "id": "601ynVASDVvr"
      },
      "source": [
        ""
      ],
      "execution_count": null,
      "outputs": []
    },
    {
      "cell_type": "code",
      "metadata": {
        "id": "nPRLjCOfDVyY"
      },
      "source": [
        ""
      ],
      "execution_count": null,
      "outputs": []
    },
    {
      "cell_type": "code",
      "metadata": {
        "id": "F5oyp2bKDV2e"
      },
      "source": [
        ""
      ],
      "execution_count": null,
      "outputs": []
    },
    {
      "cell_type": "code",
      "metadata": {
        "id": "5WUniJtT25Rb",
        "cellView": "form"
      },
      "source": [
        "#@title Explore MMD INFOVAE reg for encoder, with planner chasing it.\n",
        "\n"
      ],
      "execution_count": null,
      "outputs": []
    },
    {
      "cell_type": "code",
      "metadata": {
        "id": "KdapR5ID5VOZ",
        "outputId": "b0faafb4-4bca-420d-b149-d27fc8e52e68",
        "colab": {
          "base_uri": "https://localhost:8080/",
          "height": 836
        }
      },
      "source": [
        "def compute_kernel(x, y):\n",
        "  x_size = tf.shape(x)[0]\n",
        "  y_size = tf.shape(y)[0]\n",
        "  dim = tf.shape(x)[1]\n",
        "  tiled_x = tf.tile(tf.reshape(x, tf.stack([x_size, 1, dim])), tf.stack([1, y_size, 1]))\n",
        "  print(tiled_x, x, y)\n",
        "  tiled_y = tf.tile(tf.reshape(y, tf.stack([1, y_size, dim])), tf.stack([x_size, 1, 1]))\n",
        "  print(tiled_x.shape, tiled_y.shape)\n",
        "  return tf.exp(-tf.reduce_mean(tf.square(tiled_x - tiled_y), axis=2) / tf.cast(dim, tf.float32))\n",
        "\n",
        "def compute_mmd(x, y, sigma_sqr=2.0/LATENT_DIM):\n",
        "  x_kernel = compute_kernel(x, x)\n",
        "  y_kernel = compute_kernel(y, y)\n",
        "  xy_kernel = compute_kernel(x, y)\n",
        "  return tf.reduce_mean(x_kernel) + tf.reduce_mean(y_kernel) - 2 * tf.reduce_mean(xy_kernel)\n",
        "\n",
        "true_samples = tfd.Normal([0.1,0.1,0.1], [1,1,1])\n",
        "encoding = tfd.Normal([0.1,0.1,0.1], [1,1,1])\n",
        "loss_mmd = compute_mmd(true_samples.sample(), encoding.sample())\n"
      ],
      "execution_count": null,
      "outputs": [
        {
          "output_type": "error",
          "ename": "InvalidArgumentError",
          "evalue": "ignored",
          "traceback": [
            "\u001b[0;31m---------------------------------------------------------------------------\u001b[0m",
            "\u001b[0;31mInvalidArgumentError\u001b[0m                      Traceback (most recent call last)",
            "\u001b[0;32m<ipython-input-73-111fb725ec63>\u001b[0m in \u001b[0;36m<module>\u001b[0;34m()\u001b[0m\n\u001b[1;32m     17\u001b[0m \u001b[0mtrue_samples\u001b[0m \u001b[0;34m=\u001b[0m \u001b[0mtfd\u001b[0m\u001b[0;34m.\u001b[0m\u001b[0mNormal\u001b[0m\u001b[0;34m(\u001b[0m\u001b[0;34m[\u001b[0m\u001b[0;36m0.1\u001b[0m\u001b[0;34m,\u001b[0m\u001b[0;36m0.1\u001b[0m\u001b[0;34m,\u001b[0m\u001b[0;36m0.1\u001b[0m\u001b[0;34m]\u001b[0m\u001b[0;34m,\u001b[0m \u001b[0;34m[\u001b[0m\u001b[0;36m1\u001b[0m\u001b[0;34m,\u001b[0m\u001b[0;36m1\u001b[0m\u001b[0;34m,\u001b[0m\u001b[0;36m1\u001b[0m\u001b[0;34m]\u001b[0m\u001b[0;34m)\u001b[0m\u001b[0;34m\u001b[0m\u001b[0;34m\u001b[0m\u001b[0m\n\u001b[1;32m     18\u001b[0m \u001b[0mencoding\u001b[0m \u001b[0;34m=\u001b[0m \u001b[0mtfd\u001b[0m\u001b[0;34m.\u001b[0m\u001b[0mNormal\u001b[0m\u001b[0;34m(\u001b[0m\u001b[0;34m[\u001b[0m\u001b[0;36m0.1\u001b[0m\u001b[0;34m,\u001b[0m\u001b[0;36m0.1\u001b[0m\u001b[0;34m,\u001b[0m\u001b[0;36m0.1\u001b[0m\u001b[0;34m]\u001b[0m\u001b[0;34m,\u001b[0m \u001b[0;34m[\u001b[0m\u001b[0;36m1\u001b[0m\u001b[0;34m,\u001b[0m\u001b[0;36m1\u001b[0m\u001b[0;34m,\u001b[0m\u001b[0;36m1\u001b[0m\u001b[0;34m]\u001b[0m\u001b[0;34m)\u001b[0m\u001b[0;34m\u001b[0m\u001b[0;34m\u001b[0m\u001b[0m\n\u001b[0;32m---> 19\u001b[0;31m \u001b[0mloss_mmd\u001b[0m \u001b[0;34m=\u001b[0m \u001b[0mcompute_mmd\u001b[0m\u001b[0;34m(\u001b[0m\u001b[0mtrue_samples\u001b[0m\u001b[0;34m.\u001b[0m\u001b[0msample\u001b[0m\u001b[0;34m(\u001b[0m\u001b[0;34m)\u001b[0m\u001b[0;34m,\u001b[0m \u001b[0mencoding\u001b[0m\u001b[0;34m.\u001b[0m\u001b[0msample\u001b[0m\u001b[0;34m(\u001b[0m\u001b[0;34m)\u001b[0m\u001b[0;34m)\u001b[0m\u001b[0;34m\u001b[0m\u001b[0;34m\u001b[0m\u001b[0m\n\u001b[0m",
            "\u001b[0;32m<ipython-input-73-111fb725ec63>\u001b[0m in \u001b[0;36mcompute_mmd\u001b[0;34m(x, y, sigma_sqr)\u001b[0m\n\u001b[1;32m     10\u001b[0m \u001b[0;34m\u001b[0m\u001b[0m\n\u001b[1;32m     11\u001b[0m \u001b[0;32mdef\u001b[0m \u001b[0mcompute_mmd\u001b[0m\u001b[0;34m(\u001b[0m\u001b[0mx\u001b[0m\u001b[0;34m,\u001b[0m \u001b[0my\u001b[0m\u001b[0;34m,\u001b[0m \u001b[0msigma_sqr\u001b[0m\u001b[0;34m=\u001b[0m\u001b[0;36m2.0\u001b[0m\u001b[0;34m/\u001b[0m\u001b[0mLATENT_DIM\u001b[0m\u001b[0;34m)\u001b[0m\u001b[0;34m:\u001b[0m\u001b[0;34m\u001b[0m\u001b[0;34m\u001b[0m\u001b[0m\n\u001b[0;32m---> 12\u001b[0;31m   \u001b[0mx_kernel\u001b[0m \u001b[0;34m=\u001b[0m \u001b[0mcompute_kernel\u001b[0m\u001b[0;34m(\u001b[0m\u001b[0mx\u001b[0m\u001b[0;34m,\u001b[0m \u001b[0mx\u001b[0m\u001b[0;34m)\u001b[0m\u001b[0;34m\u001b[0m\u001b[0;34m\u001b[0m\u001b[0m\n\u001b[0m\u001b[1;32m     13\u001b[0m   \u001b[0my_kernel\u001b[0m \u001b[0;34m=\u001b[0m \u001b[0mcompute_kernel\u001b[0m\u001b[0;34m(\u001b[0m\u001b[0my\u001b[0m\u001b[0;34m,\u001b[0m \u001b[0my\u001b[0m\u001b[0;34m)\u001b[0m\u001b[0;34m\u001b[0m\u001b[0;34m\u001b[0m\u001b[0m\n\u001b[1;32m     14\u001b[0m   \u001b[0mxy_kernel\u001b[0m \u001b[0;34m=\u001b[0m \u001b[0mcompute_kernel\u001b[0m\u001b[0;34m(\u001b[0m\u001b[0mx\u001b[0m\u001b[0;34m,\u001b[0m \u001b[0my\u001b[0m\u001b[0;34m)\u001b[0m\u001b[0;34m\u001b[0m\u001b[0;34m\u001b[0m\u001b[0m\n",
            "\u001b[0;32m<ipython-input-73-111fb725ec63>\u001b[0m in \u001b[0;36mcompute_kernel\u001b[0;34m(x, y)\u001b[0m\n\u001b[1;32m      4\u001b[0m   \u001b[0mdim\u001b[0m \u001b[0;34m=\u001b[0m \u001b[0mtf\u001b[0m\u001b[0;34m.\u001b[0m\u001b[0mshape\u001b[0m\u001b[0;34m(\u001b[0m\u001b[0mx\u001b[0m\u001b[0;34m)\u001b[0m\u001b[0;34m[\u001b[0m\u001b[0;36m1\u001b[0m\u001b[0;34m]\u001b[0m\u001b[0;34m\u001b[0m\u001b[0;34m\u001b[0m\u001b[0m\n\u001b[1;32m      5\u001b[0m   \u001b[0mtiled_x\u001b[0m \u001b[0;34m=\u001b[0m \u001b[0mtf\u001b[0m\u001b[0;34m.\u001b[0m\u001b[0mtile\u001b[0m\u001b[0;34m(\u001b[0m\u001b[0mtf\u001b[0m\u001b[0;34m.\u001b[0m\u001b[0mreshape\u001b[0m\u001b[0;34m(\u001b[0m\u001b[0mx\u001b[0m\u001b[0;34m,\u001b[0m \u001b[0mtf\u001b[0m\u001b[0;34m.\u001b[0m\u001b[0mstack\u001b[0m\u001b[0;34m(\u001b[0m\u001b[0;34m[\u001b[0m\u001b[0mx_size\u001b[0m\u001b[0;34m,\u001b[0m \u001b[0;36m1\u001b[0m\u001b[0;34m,\u001b[0m \u001b[0mdim\u001b[0m\u001b[0;34m]\u001b[0m\u001b[0;34m)\u001b[0m\u001b[0;34m)\u001b[0m\u001b[0;34m,\u001b[0m \u001b[0mtf\u001b[0m\u001b[0;34m.\u001b[0m\u001b[0mstack\u001b[0m\u001b[0;34m(\u001b[0m\u001b[0;34m[\u001b[0m\u001b[0;36m1\u001b[0m\u001b[0;34m,\u001b[0m \u001b[0my_size\u001b[0m\u001b[0;34m,\u001b[0m \u001b[0;36m1\u001b[0m\u001b[0;34m]\u001b[0m\u001b[0;34m)\u001b[0m\u001b[0;34m)\u001b[0m\u001b[0;34m\u001b[0m\u001b[0;34m\u001b[0m\u001b[0m\n\u001b[0;32m----> 6\u001b[0;31m   \u001b[0mprint\u001b[0m\u001b[0;34m(\u001b[0m\u001b[0mtiled_x\u001b[0m\u001b[0;34m,\u001b[0m \u001b[0mx\u001b[0m\u001b[0;34m,\u001b[0m \u001b[0my\u001b[0m\u001b[0;34m)\u001b[0m\u001b[0;34m\u001b[0m\u001b[0;34m\u001b[0m\u001b[0m\n\u001b[0m\u001b[1;32m      7\u001b[0m   \u001b[0mtiled_y\u001b[0m \u001b[0;34m=\u001b[0m \u001b[0mtf\u001b[0m\u001b[0;34m.\u001b[0m\u001b[0mtile\u001b[0m\u001b[0;34m(\u001b[0m\u001b[0mtf\u001b[0m\u001b[0;34m.\u001b[0m\u001b[0mreshape\u001b[0m\u001b[0;34m(\u001b[0m\u001b[0my\u001b[0m\u001b[0;34m,\u001b[0m \u001b[0mtf\u001b[0m\u001b[0;34m.\u001b[0m\u001b[0mstack\u001b[0m\u001b[0;34m(\u001b[0m\u001b[0;34m[\u001b[0m\u001b[0;36m1\u001b[0m\u001b[0;34m,\u001b[0m \u001b[0my_size\u001b[0m\u001b[0;34m,\u001b[0m \u001b[0mdim\u001b[0m\u001b[0;34m]\u001b[0m\u001b[0;34m)\u001b[0m\u001b[0;34m)\u001b[0m\u001b[0;34m,\u001b[0m \u001b[0mtf\u001b[0m\u001b[0;34m.\u001b[0m\u001b[0mstack\u001b[0m\u001b[0;34m(\u001b[0m\u001b[0;34m[\u001b[0m\u001b[0mx_size\u001b[0m\u001b[0;34m,\u001b[0m \u001b[0;36m1\u001b[0m\u001b[0;34m,\u001b[0m \u001b[0;36m1\u001b[0m\u001b[0;34m]\u001b[0m\u001b[0;34m)\u001b[0m\u001b[0;34m)\u001b[0m\u001b[0;34m\u001b[0m\u001b[0;34m\u001b[0m\u001b[0m\n\u001b[1;32m      8\u001b[0m   \u001b[0mprint\u001b[0m\u001b[0;34m(\u001b[0m\u001b[0mtiled_x\u001b[0m\u001b[0;34m.\u001b[0m\u001b[0mshape\u001b[0m\u001b[0;34m,\u001b[0m \u001b[0mtiled_y\u001b[0m\u001b[0;34m.\u001b[0m\u001b[0mshape\u001b[0m\u001b[0;34m)\u001b[0m\u001b[0;34m\u001b[0m\u001b[0;34m\u001b[0m\u001b[0m\n",
            "\u001b[0;32m/usr/local/lib/python3.6/dist-packages/tensorflow/python/framework/ops.py\u001b[0m in \u001b[0;36m__str__\u001b[0;34m(self)\u001b[0m\n\u001b[1;32m   1002\u001b[0m \u001b[0;34m\u001b[0m\u001b[0m\n\u001b[1;32m   1003\u001b[0m   \u001b[0;32mdef\u001b[0m \u001b[0m__str__\u001b[0m\u001b[0;34m(\u001b[0m\u001b[0mself\u001b[0m\u001b[0;34m)\u001b[0m\u001b[0;34m:\u001b[0m\u001b[0;34m\u001b[0m\u001b[0;34m\u001b[0m\u001b[0m\n\u001b[0;32m-> 1004\u001b[0;31m     return \"tf.Tensor(%s, shape=%s, dtype=%s)\" % (numpy_text(self), self.shape,\n\u001b[0m\u001b[1;32m   1005\u001b[0m                                                   self.dtype.name)\n\u001b[1;32m   1006\u001b[0m \u001b[0;34m\u001b[0m\u001b[0m\n",
            "\u001b[0;32m/usr/local/lib/python3.6/dist-packages/tensorflow/python/framework/ops.py\u001b[0m in \u001b[0;36mnumpy_text\u001b[0;34m(tensor, is_repr)\u001b[0m\n\u001b[1;32m    223\u001b[0m   \u001b[0;32mif\u001b[0m \u001b[0mtensor\u001b[0m\u001b[0;34m.\u001b[0m\u001b[0mdtype\u001b[0m\u001b[0;34m.\u001b[0m\u001b[0mis_numpy_compatible\u001b[0m\u001b[0;34m:\u001b[0m\u001b[0;34m\u001b[0m\u001b[0;34m\u001b[0m\u001b[0m\n\u001b[1;32m    224\u001b[0m     \u001b[0;31m# pylint: disable=protected-access\u001b[0m\u001b[0;34m\u001b[0m\u001b[0;34m\u001b[0m\u001b[0;34m\u001b[0m\u001b[0m\n\u001b[0;32m--> 225\u001b[0;31m     \u001b[0mtext\u001b[0m \u001b[0;34m=\u001b[0m \u001b[0mrepr\u001b[0m\u001b[0;34m(\u001b[0m\u001b[0mtensor\u001b[0m\u001b[0;34m.\u001b[0m\u001b[0m_numpy\u001b[0m\u001b[0;34m(\u001b[0m\u001b[0;34m)\u001b[0m\u001b[0;34m)\u001b[0m \u001b[0;32mif\u001b[0m \u001b[0mis_repr\u001b[0m \u001b[0;32melse\u001b[0m \u001b[0mstr\u001b[0m\u001b[0;34m(\u001b[0m\u001b[0mtensor\u001b[0m\u001b[0;34m.\u001b[0m\u001b[0m_numpy\u001b[0m\u001b[0;34m(\u001b[0m\u001b[0;34m)\u001b[0m\u001b[0;34m)\u001b[0m\u001b[0;34m\u001b[0m\u001b[0;34m\u001b[0m\u001b[0m\n\u001b[0m\u001b[1;32m    226\u001b[0m     \u001b[0;31m# pylint: enable=protected-access\u001b[0m\u001b[0;34m\u001b[0m\u001b[0;34m\u001b[0m\u001b[0;34m\u001b[0m\u001b[0m\n\u001b[1;32m    227\u001b[0m   \u001b[0;32melse\u001b[0m\u001b[0;34m:\u001b[0m\u001b[0;34m\u001b[0m\u001b[0;34m\u001b[0m\u001b[0m\n",
            "\u001b[0;32m/usr/local/lib/python3.6/dist-packages/tensorflow/python/framework/ops.py\u001b[0m in \u001b[0;36m_numpy\u001b[0;34m(self)\u001b[0m\n\u001b[1;32m   1029\u001b[0m       \u001b[0;32mreturn\u001b[0m \u001b[0mself\u001b[0m\u001b[0;34m.\u001b[0m\u001b[0m_numpy_internal\u001b[0m\u001b[0;34m(\u001b[0m\u001b[0;34m)\u001b[0m\u001b[0;34m\u001b[0m\u001b[0;34m\u001b[0m\u001b[0m\n\u001b[1;32m   1030\u001b[0m     \u001b[0;32mexcept\u001b[0m \u001b[0mcore\u001b[0m\u001b[0;34m.\u001b[0m\u001b[0m_NotOkStatusException\u001b[0m \u001b[0;32mas\u001b[0m \u001b[0me\u001b[0m\u001b[0;34m:\u001b[0m  \u001b[0;31m# pylint: disable=protected-access\u001b[0m\u001b[0;34m\u001b[0m\u001b[0;34m\u001b[0m\u001b[0m\n\u001b[0;32m-> 1031\u001b[0;31m       \u001b[0msix\u001b[0m\u001b[0;34m.\u001b[0m\u001b[0mraise_from\u001b[0m\u001b[0;34m(\u001b[0m\u001b[0mcore\u001b[0m\u001b[0;34m.\u001b[0m\u001b[0m_status_to_exception\u001b[0m\u001b[0;34m(\u001b[0m\u001b[0me\u001b[0m\u001b[0;34m.\u001b[0m\u001b[0mcode\u001b[0m\u001b[0;34m,\u001b[0m \u001b[0me\u001b[0m\u001b[0;34m.\u001b[0m\u001b[0mmessage\u001b[0m\u001b[0;34m)\u001b[0m\u001b[0;34m,\u001b[0m \u001b[0;32mNone\u001b[0m\u001b[0;34m)\u001b[0m  \u001b[0;31m# pylint: disable=protected-access\u001b[0m\u001b[0;34m\u001b[0m\u001b[0;34m\u001b[0m\u001b[0m\n\u001b[0m\u001b[1;32m   1032\u001b[0m \u001b[0;34m\u001b[0m\u001b[0m\n\u001b[1;32m   1033\u001b[0m   \u001b[0;34m@\u001b[0m\u001b[0mproperty\u001b[0m\u001b[0;34m\u001b[0m\u001b[0;34m\u001b[0m\u001b[0m\n",
            "\u001b[0;32m/usr/local/lib/python3.6/dist-packages/six.py\u001b[0m in \u001b[0;36mraise_from\u001b[0;34m(value, from_value)\u001b[0m\n",
            "\u001b[0;31mInvalidArgumentError\u001b[0m: slice index 1 of dimension 0 out of bounds."
          ]
        }
      ]
    },
    {
      "cell_type": "code",
      "metadata": {
        "id": "UZplwvpr3gW1"
      },
      "source": [
        "\n",
        "\n",
        "LAYER_SIZE = 512\n",
        "LATENT_DIM = 256\n",
        "\n",
        "with strategy.scope():\n",
        "    # Keras .fit API\n",
        "  #loss_fn = lambda y, p_y: -p_y.log_prob(y)\n",
        "  action_loss = tf.keras.losses.MeanAbsoluteError(reduction=tf.keras.losses.Reduction.NONE)\n",
        "\n",
        "  def compute_kernel(x, y):\n",
        "    x_size = tf.shape(x)[0]\n",
        "    y_size = tf.shape(y)[0]\n",
        "    dim = tf.shape(x)[1]\n",
        "    tiled_x = tf.tile(tf.reshape(x, tf.stack([x_size, 1, dim])), tf.stack([1, y_size, 1]))\n",
        "    tiled_y = tf.tile(tf.reshape(y, tf.stack([1, y_size, dim])), tf.stack([x_size, 1, 1]))\n",
        "    return tf.exp(-tf.reduce_mean(tf.square(tiled_x - tiled_y), axis=2) / tf.cast(dim, tf.float32))\n",
        "\n",
        "  def compute_mmd(x, y, sigma_sqr=2.0/LATENT_DIM):\n",
        "      x_kernel = compute_kernel(x, x)\n",
        "      y_kernel = compute_kernel(y, y)\n",
        "      xy_kernel = compute_kernel(x, y)\n",
        "      return tf.reduce_mean(x_kernel) + tf.reduce_mean(y_kernel) - 2 * tf.reduce_mean(xy_kernel)\n",
        "  \n",
        "  def compute_loss(labels, predictions, mask, seq_lens):\n",
        "      per_example_loss = action_loss(labels, predictions) * mask\n",
        "      per_example_loss = tf.reduce_sum(per_example_loss, axis = 1) / seq_lens # take mean along the timestep\n",
        "      return tf.nn.compute_average_loss(per_example_loss, global_batch_size=GLOBAL_BATCH_SIZE)\n",
        "\n",
        "  def compute_regularisation_loss(plan, encoding):\n",
        "      reg_loss = KL(plan, encoding) #+ KL(encoding, plan)\n",
        "      return tf.nn.compute_average_loss(reg_loss, global_batch_size=GLOBAL_BATCH_SIZE)\n",
        "\n",
        "  def encoder_regularisation(encoding):\n",
        "    B = encoding.shape[0]\n",
        "    true_samples = tf.random_normal(tf.stack([B, z_dim]))\n",
        "    loss_mmd = compute_mmd(true_samples, encoding.sample())\n",
        "\n",
        "  train_act_loss = tf.keras.metrics.Mean(name='act_loss')\n",
        "  valid_act_loss = tf.keras.metrics.Mean(name='valid_act_loss')\n",
        "\n",
        "  train_reg_loss = tf.keras.metrics.Mean(name='reg_loss')\n",
        "  valid_reg_loss = tf.keras.metrics.Mean(name='valid_reg_loss')\n",
        "\n",
        "  valid_act_with_enc_loss = tf.keras.metrics.Mean(name='valid_act_with_enc_loss')\n",
        "  train_act_with_plan_loss = tf.keras.metrics.Mean(name='train_act_with_plan_loss')\n",
        "\n",
        "  \n",
        "  model_params = {'layer_size':LAYER_SIZE, 'GCBC':False}\n",
        "  model = actor(**model_params)\n",
        "\n",
        "  model_params = {'layer_size':LAYER_SIZE, 'latent_dim':LATENT_DIM}\n",
        "  encoder = ENCODER_LSTM(latent_dim=LATENT_DIM)\n",
        "  planner = create_planner(**model_params)\n",
        "\n",
        "  optimizer = tfa.optimizers.AdamW(1e-4, 2e-4) #tf.keras.optimizers.Adam(2e-4)\n",
        "\n",
        "  checkpoint = tf.train.Checkpoint(optimizer=optimizer, model=model)\n",
        "\n",
        "def step(inputs, GCBC=False, training = False):\n",
        "  (states, goals, actions, mask, seq_lens) = inputs\n",
        "  if GCBC:\n",
        "    distrib = model(states, goals=goals, training = training)\n",
        "    return  compute_loss(actions, distrib, mask, seq_lens), distrib\n",
        "  else:\n",
        "  \n",
        "    encoding = encoder(states, actions, training=training)\n",
        "    final_goals = goals[:, 0, :]\n",
        "    plan, _ = planner((states[:, 0, :], final_goals))  # the final goals are tiled out over the entire non masked sequence, so the first timestep is the final goal. \n",
        "    if training: # we must expand it out so each input state has a corresponding plan\n",
        "      z = tf.tile(tf.expand_dims(encoding.sample(), 1), (1, rsd.MAX_SEQ_LEN, 1))\n",
        "      distrib = model(states, z, goals, training=training)\n",
        "      z_plan = tf.tile(tf.expand_dims(plan.sample(), 1), (1, rsd.MAX_SEQ_LEN, 1))\n",
        "      plan_acts = model(states, z_plan, goals, training=training)\n",
        "      train_act_with_plan_loss.update_state(compute_loss(actions, plan_acts, mask, seq_lens))\n",
        "    \n",
        "    else:\n",
        "      # check if encoder is overfitting on validation\n",
        "      z_enc = z = tf.tile(tf.expand_dims(encoding.sample(), 1), (1, rsd.MAX_SEQ_LEN, 1))\n",
        "      enc_act_distrib = model(states, z_enc, goals, training = training)\n",
        "      valid_act_with_enc_loss.update_state(compute_loss(actions, enc_act_distrib, mask, seq_lens))\n",
        "\n",
        "      # true validation performance, w/ planner\n",
        "      z = tf.tile(tf.expand_dims(plan.sample(), 1), (1, rsd.MAX_SEQ_LEN, 1))\n",
        "      distrib = model(states, z, goals, training = training) \n",
        "      \n",
        "\n",
        "    action_loss = compute_loss(actions, distrib, mask, seq_lens)\n",
        "    \n",
        "    regularisation_loss = compute_regularisation_loss(plan, encoding)\n",
        "    \n",
        "    return action_loss, regularisation_loss\n",
        "\n",
        "\n",
        "# Now outside strategy .scope\n",
        "def train_step(inputs, GCBC = False):\n",
        "  with tf.GradientTape() as tape:\n",
        "    act_loss, reg_loss = step(inputs, GCBC = GCBC, training=True)\n",
        "    loss = act_loss + reg_loss  * BETA\n",
        "    \n",
        "  train_act_loss.update_state(act_loss)\n",
        "  train_reg_loss.update_state(reg_loss)\n",
        "  gradients = tape.gradient(loss, model.trainable_variables+encoder.trainable_variables+planner.trainable_variables)\n",
        "  optimizer.apply_gradients(zip(gradients, model.trainable_variables+encoder.trainable_variables+planner.trainable_variables))\n",
        "  \n",
        "  return loss\n",
        "\n",
        "def test_step(inputs, GCBC=False):\n",
        "  act_loss, reg_loss = step(inputs, GCBC = GCBC, training=False)\n",
        "  valid_act_loss.update_state(act_loss)\n",
        "  valid_reg_loss.update_state(reg_loss)\n",
        "  return act_loss + reg_loss  * BETA\n",
        "\n",
        "@tf.function\n",
        "def distributed_train_step(dataset_inputs):\n",
        "  per_replica_losses = strategy.run(train_step, args=(dataset_inputs,))\n",
        "  return strategy.reduce(tf.distribute.ReduceOp.SUM, per_replica_losses, axis = None)\n",
        "\n",
        "@tf.function\n",
        "def distributed_test_step(dataset_inputs):\n",
        "  per_replica_losses = strategy.run(test_step, args=(dataset_inputs,))\n",
        "  return strategy.reduce(tf.distribute.ReduceOp.SUM, per_replica_losses, axis = None)\n",
        "\n",
        "\n",
        "train_dist_dataset = iter(strategy.experimental_distribute_dataset(train_dataset.repeat()))\n",
        "valid_dist_dataset = iter(strategy.experimental_distribute_dataset(valid_dataset.repeat()))"
      ],
      "execution_count": null,
      "outputs": []
    },
    {
      "cell_type": "code",
      "metadata": {
        "id": "G4NLoKxThrwY"
      },
      "source": [
        "\n",
        "\n",
        "trial_run(1e-2)\n",
        "trial_run(1e-3)\n",
        "trial_run(1e-4)\n",
        "trial_run(1e-1)"
      ],
      "execution_count": null,
      "outputs": []
    },
    {
      "cell_type": "code",
      "metadata": {
        "id": "OlJ945C9qZXD",
        "outputId": "98e2cc20-95ed-443c-943b-5de67172dd53",
        "colab": {
          "base_uri": "https://localhost:8080/",
          "height": 36
        }
      },
      "source": [
        "int(seq_lens[idx])"
      ],
      "execution_count": null,
      "outputs": [
        {
          "output_type": "execute_result",
          "data": {
            "text/plain": [
              "30"
            ]
          },
          "metadata": {
            "tags": []
          },
          "execution_count": 106
        }
      ]
    },
    {
      "cell_type": "markdown",
      "metadata": {
        "id": "8y0jB3MU_vxx"
      },
      "source": [
        "Gradients are \"calculated on each replica, they are synced across the replicas by **summing** them\"\n",
        "https://www.tensorflow.org/tutorials/distribute/custom_training#define_the_loss_function"
      ]
    },
    {
      "cell_type": "code",
      "metadata": {
        "id": "6kP9__W-k9mw",
        "outputId": "3f3a9717-dfdc-4431-f003-2728b1741b75",
        "colab": {
          "base_uri": "https://localhost:8080/",
          "height": 449
        }
      },
      "source": [
        "# Keras .fit API\n",
        "loss_fn = lambda y, p_y: -p_y.log_prob(y)\n",
        "# loss_fn = MeanSquaredError()\n",
        "\n",
        "def compute_loss(labels, predictions):\n",
        "    per_example_loss = loss_fn(labels, predictions)\n",
        "    return tf.nn.compute_average_loss(per_example_loss, global_batch_size=GLOBAL_BATCH_SIZE)\n",
        "\n",
        "with strategy.scope():\n",
        "    model = create_lstm_model_v2(**model_params)\n",
        "    model.compile(optimizer=Adam(learning_rate=1e-3),\n",
        "                experimental_steps_per_execution = 2,\n",
        "                loss=compute_loss,\n",
        "                metrics=['mean_absolute_error'])\n",
        "\n",
        "steps_per_epoch = 100\n",
        "validation_steps = 10\n",
        "\n",
        "callbacks = [\n",
        "    # tf.keras.callbacks.TensorBoard(log_dir='./logs'),\n",
        "    # tf.keras.callbacks.ModelCheckpoint(filepath=checkpoint_prefix, save_weights_only=True),\n",
        "    # tf.keras.callbacks.LearningRateScheduler(decay),\n",
        "]\n",
        "\n",
        "history = model.fit(train_data,\n",
        "          epochs=10,\n",
        "          steps_per_epoch=steps_per_epoch,\n",
        "          validation_data=valid_data, \n",
        "          validation_steps=validation_steps\n",
        "        #   callbacks=callbacks\n",
        "          )"
      ],
      "execution_count": null,
      "outputs": [
        {
          "output_type": "stream",
          "text": [
            "Epoch 1/10\n",
            " 10/100 [==>...........................] - ETA: 3:02 - loss: 979.5474 - mean_absolute_error: 1.1801 "
          ],
          "name": "stdout"
        },
        {
          "output_type": "error",
          "ename": "KeyboardInterrupt",
          "evalue": "ignored",
          "traceback": [
            "\u001b[0;31m---------------------------------------------------------------------------\u001b[0m",
            "\u001b[0;31mKeyboardInterrupt\u001b[0m                         Traceback (most recent call last)",
            "\u001b[0;32m<ipython-input-49-dd739b850b61>\u001b[0m in \u001b[0;36m<module>\u001b[0;34m()\u001b[0m\n\u001b[1;32m     27\u001b[0m           \u001b[0msteps_per_epoch\u001b[0m\u001b[0;34m=\u001b[0m\u001b[0msteps_per_epoch\u001b[0m\u001b[0;34m,\u001b[0m\u001b[0;34m\u001b[0m\u001b[0;34m\u001b[0m\u001b[0m\n\u001b[1;32m     28\u001b[0m           \u001b[0mvalidation_data\u001b[0m\u001b[0;34m=\u001b[0m\u001b[0mvalid_data\u001b[0m\u001b[0;34m,\u001b[0m\u001b[0;34m\u001b[0m\u001b[0;34m\u001b[0m\u001b[0m\n\u001b[0;32m---> 29\u001b[0;31m           \u001b[0mvalidation_steps\u001b[0m\u001b[0;34m=\u001b[0m\u001b[0mvalidation_steps\u001b[0m\u001b[0;34m\u001b[0m\u001b[0;34m\u001b[0m\u001b[0m\n\u001b[0m\u001b[1;32m     30\u001b[0m         \u001b[0;31m#   callbacks=callbacks\u001b[0m\u001b[0;34m\u001b[0m\u001b[0;34m\u001b[0m\u001b[0;34m\u001b[0m\u001b[0m\n\u001b[1;32m     31\u001b[0m           )\n",
            "\u001b[0;32m/usr/local/lib/python3.6/dist-packages/tensorflow/python/keras/engine/training.py\u001b[0m in \u001b[0;36m_method_wrapper\u001b[0;34m(self, *args, **kwargs)\u001b[0m\n\u001b[1;32m    106\u001b[0m   \u001b[0;32mdef\u001b[0m \u001b[0m_method_wrapper\u001b[0m\u001b[0;34m(\u001b[0m\u001b[0mself\u001b[0m\u001b[0;34m,\u001b[0m \u001b[0;34m*\u001b[0m\u001b[0margs\u001b[0m\u001b[0;34m,\u001b[0m \u001b[0;34m**\u001b[0m\u001b[0mkwargs\u001b[0m\u001b[0;34m)\u001b[0m\u001b[0;34m:\u001b[0m\u001b[0;34m\u001b[0m\u001b[0;34m\u001b[0m\u001b[0m\n\u001b[1;32m    107\u001b[0m     \u001b[0;32mif\u001b[0m \u001b[0;32mnot\u001b[0m \u001b[0mself\u001b[0m\u001b[0;34m.\u001b[0m\u001b[0m_in_multi_worker_mode\u001b[0m\u001b[0;34m(\u001b[0m\u001b[0;34m)\u001b[0m\u001b[0;34m:\u001b[0m  \u001b[0;31m# pylint: disable=protected-access\u001b[0m\u001b[0;34m\u001b[0m\u001b[0;34m\u001b[0m\u001b[0m\n\u001b[0;32m--> 108\u001b[0;31m       \u001b[0;32mreturn\u001b[0m \u001b[0mmethod\u001b[0m\u001b[0;34m(\u001b[0m\u001b[0mself\u001b[0m\u001b[0;34m,\u001b[0m \u001b[0;34m*\u001b[0m\u001b[0margs\u001b[0m\u001b[0;34m,\u001b[0m \u001b[0;34m**\u001b[0m\u001b[0mkwargs\u001b[0m\u001b[0;34m)\u001b[0m\u001b[0;34m\u001b[0m\u001b[0;34m\u001b[0m\u001b[0m\n\u001b[0m\u001b[1;32m    109\u001b[0m \u001b[0;34m\u001b[0m\u001b[0m\n\u001b[1;32m    110\u001b[0m     \u001b[0;31m# Running inside `run_distribute_coordinator` already.\u001b[0m\u001b[0;34m\u001b[0m\u001b[0;34m\u001b[0m\u001b[0;34m\u001b[0m\u001b[0m\n",
            "\u001b[0;32m/usr/local/lib/python3.6/dist-packages/tensorflow/python/keras/engine/training.py\u001b[0m in \u001b[0;36mfit\u001b[0;34m(self, x, y, batch_size, epochs, verbose, callbacks, validation_split, validation_data, shuffle, class_weight, sample_weight, initial_epoch, steps_per_epoch, validation_steps, validation_batch_size, validation_freq, max_queue_size, workers, use_multiprocessing)\u001b[0m\n\u001b[1;32m   1101\u001b[0m               \u001b[0mlogs\u001b[0m \u001b[0;34m=\u001b[0m \u001b[0mtmp_logs\u001b[0m  \u001b[0;31m# No error, now safe to assign to logs.\u001b[0m\u001b[0;34m\u001b[0m\u001b[0;34m\u001b[0m\u001b[0m\n\u001b[1;32m   1102\u001b[0m               \u001b[0mend_step\u001b[0m \u001b[0;34m=\u001b[0m \u001b[0mstep\u001b[0m \u001b[0;34m+\u001b[0m \u001b[0mdata_handler\u001b[0m\u001b[0;34m.\u001b[0m\u001b[0mstep_increment\u001b[0m\u001b[0;34m\u001b[0m\u001b[0;34m\u001b[0m\u001b[0m\n\u001b[0;32m-> 1103\u001b[0;31m               \u001b[0mcallbacks\u001b[0m\u001b[0;34m.\u001b[0m\u001b[0mon_train_batch_end\u001b[0m\u001b[0;34m(\u001b[0m\u001b[0mend_step\u001b[0m\u001b[0;34m,\u001b[0m \u001b[0mlogs\u001b[0m\u001b[0;34m)\u001b[0m\u001b[0;34m\u001b[0m\u001b[0;34m\u001b[0m\u001b[0m\n\u001b[0m\u001b[1;32m   1104\u001b[0m         \u001b[0mepoch_logs\u001b[0m \u001b[0;34m=\u001b[0m \u001b[0mcopy\u001b[0m\u001b[0;34m.\u001b[0m\u001b[0mcopy\u001b[0m\u001b[0;34m(\u001b[0m\u001b[0mlogs\u001b[0m\u001b[0;34m)\u001b[0m\u001b[0;34m\u001b[0m\u001b[0;34m\u001b[0m\u001b[0m\n\u001b[1;32m   1105\u001b[0m \u001b[0;34m\u001b[0m\u001b[0m\n",
            "\u001b[0;32m/usr/local/lib/python3.6/dist-packages/tensorflow/python/keras/callbacks.py\u001b[0m in \u001b[0;36mon_train_batch_end\u001b[0;34m(self, batch, logs)\u001b[0m\n\u001b[1;32m    438\u001b[0m     \"\"\"\n\u001b[1;32m    439\u001b[0m     \u001b[0;32mif\u001b[0m \u001b[0mself\u001b[0m\u001b[0;34m.\u001b[0m\u001b[0m_should_call_train_batch_hooks\u001b[0m\u001b[0;34m:\u001b[0m\u001b[0;34m\u001b[0m\u001b[0;34m\u001b[0m\u001b[0m\n\u001b[0;32m--> 440\u001b[0;31m       \u001b[0mself\u001b[0m\u001b[0;34m.\u001b[0m\u001b[0m_call_batch_hook\u001b[0m\u001b[0;34m(\u001b[0m\u001b[0mModeKeys\u001b[0m\u001b[0;34m.\u001b[0m\u001b[0mTRAIN\u001b[0m\u001b[0;34m,\u001b[0m \u001b[0;34m'end'\u001b[0m\u001b[0;34m,\u001b[0m \u001b[0mbatch\u001b[0m\u001b[0;34m,\u001b[0m \u001b[0mlogs\u001b[0m\u001b[0;34m=\u001b[0m\u001b[0mlogs\u001b[0m\u001b[0;34m)\u001b[0m\u001b[0;34m\u001b[0m\u001b[0;34m\u001b[0m\u001b[0m\n\u001b[0m\u001b[1;32m    441\u001b[0m \u001b[0;34m\u001b[0m\u001b[0m\n\u001b[1;32m    442\u001b[0m   \u001b[0;32mdef\u001b[0m \u001b[0mon_test_batch_begin\u001b[0m\u001b[0;34m(\u001b[0m\u001b[0mself\u001b[0m\u001b[0;34m,\u001b[0m \u001b[0mbatch\u001b[0m\u001b[0;34m,\u001b[0m \u001b[0mlogs\u001b[0m\u001b[0;34m=\u001b[0m\u001b[0;32mNone\u001b[0m\u001b[0;34m)\u001b[0m\u001b[0;34m:\u001b[0m\u001b[0;34m\u001b[0m\u001b[0;34m\u001b[0m\u001b[0m\n",
            "\u001b[0;32m/usr/local/lib/python3.6/dist-packages/tensorflow/python/keras/callbacks.py\u001b[0m in \u001b[0;36m_call_batch_hook\u001b[0;34m(self, mode, hook, batch, logs)\u001b[0m\n\u001b[1;32m    287\u001b[0m       \u001b[0mself\u001b[0m\u001b[0;34m.\u001b[0m\u001b[0m_call_batch_begin_hook\u001b[0m\u001b[0;34m(\u001b[0m\u001b[0mmode\u001b[0m\u001b[0;34m,\u001b[0m \u001b[0mbatch\u001b[0m\u001b[0;34m,\u001b[0m \u001b[0mlogs\u001b[0m\u001b[0;34m)\u001b[0m\u001b[0;34m\u001b[0m\u001b[0;34m\u001b[0m\u001b[0m\n\u001b[1;32m    288\u001b[0m     \u001b[0;32melif\u001b[0m \u001b[0mhook\u001b[0m \u001b[0;34m==\u001b[0m \u001b[0;34m'end'\u001b[0m\u001b[0;34m:\u001b[0m\u001b[0;34m\u001b[0m\u001b[0;34m\u001b[0m\u001b[0m\n\u001b[0;32m--> 289\u001b[0;31m       \u001b[0mself\u001b[0m\u001b[0;34m.\u001b[0m\u001b[0m_call_batch_end_hook\u001b[0m\u001b[0;34m(\u001b[0m\u001b[0mmode\u001b[0m\u001b[0;34m,\u001b[0m \u001b[0mbatch\u001b[0m\u001b[0;34m,\u001b[0m \u001b[0mlogs\u001b[0m\u001b[0;34m)\u001b[0m\u001b[0;34m\u001b[0m\u001b[0;34m\u001b[0m\u001b[0m\n\u001b[0m\u001b[1;32m    290\u001b[0m     \u001b[0;32melse\u001b[0m\u001b[0;34m:\u001b[0m\u001b[0;34m\u001b[0m\u001b[0;34m\u001b[0m\u001b[0m\n\u001b[1;32m    291\u001b[0m       \u001b[0;32mraise\u001b[0m \u001b[0mValueError\u001b[0m\u001b[0;34m(\u001b[0m\u001b[0;34m'Unrecognized hook: {}'\u001b[0m\u001b[0;34m.\u001b[0m\u001b[0mformat\u001b[0m\u001b[0;34m(\u001b[0m\u001b[0mhook\u001b[0m\u001b[0;34m)\u001b[0m\u001b[0;34m)\u001b[0m\u001b[0;34m\u001b[0m\u001b[0;34m\u001b[0m\u001b[0m\n",
            "\u001b[0;32m/usr/local/lib/python3.6/dist-packages/tensorflow/python/keras/callbacks.py\u001b[0m in \u001b[0;36m_call_batch_end_hook\u001b[0;34m(self, mode, batch, logs)\u001b[0m\n\u001b[1;32m    307\u001b[0m       \u001b[0mbatch_time\u001b[0m \u001b[0;34m=\u001b[0m \u001b[0mtime\u001b[0m\u001b[0;34m.\u001b[0m\u001b[0mtime\u001b[0m\u001b[0;34m(\u001b[0m\u001b[0;34m)\u001b[0m \u001b[0;34m-\u001b[0m \u001b[0mself\u001b[0m\u001b[0;34m.\u001b[0m\u001b[0m_batch_start_time\u001b[0m\u001b[0;34m\u001b[0m\u001b[0;34m\u001b[0m\u001b[0m\n\u001b[1;32m    308\u001b[0m \u001b[0;34m\u001b[0m\u001b[0m\n\u001b[0;32m--> 309\u001b[0;31m     \u001b[0mself\u001b[0m\u001b[0;34m.\u001b[0m\u001b[0m_call_batch_hook_helper\u001b[0m\u001b[0;34m(\u001b[0m\u001b[0mhook_name\u001b[0m\u001b[0;34m,\u001b[0m \u001b[0mbatch\u001b[0m\u001b[0;34m,\u001b[0m \u001b[0mlogs\u001b[0m\u001b[0;34m)\u001b[0m\u001b[0;34m\u001b[0m\u001b[0;34m\u001b[0m\u001b[0m\n\u001b[0m\u001b[1;32m    310\u001b[0m \u001b[0;34m\u001b[0m\u001b[0m\n\u001b[1;32m    311\u001b[0m     \u001b[0;32mif\u001b[0m \u001b[0mself\u001b[0m\u001b[0;34m.\u001b[0m\u001b[0m_check_timing\u001b[0m\u001b[0;34m:\u001b[0m\u001b[0;34m\u001b[0m\u001b[0;34m\u001b[0m\u001b[0m\n",
            "\u001b[0;32m/usr/local/lib/python3.6/dist-packages/tensorflow/python/keras/callbacks.py\u001b[0m in \u001b[0;36m_call_batch_hook_helper\u001b[0;34m(self, hook_name, batch, logs)\u001b[0m\n\u001b[1;32m    340\u001b[0m       \u001b[0mhook\u001b[0m \u001b[0;34m=\u001b[0m \u001b[0mgetattr\u001b[0m\u001b[0;34m(\u001b[0m\u001b[0mcallback\u001b[0m\u001b[0;34m,\u001b[0m \u001b[0mhook_name\u001b[0m\u001b[0;34m)\u001b[0m\u001b[0;34m\u001b[0m\u001b[0;34m\u001b[0m\u001b[0m\n\u001b[1;32m    341\u001b[0m       \u001b[0;32mif\u001b[0m \u001b[0mgetattr\u001b[0m\u001b[0;34m(\u001b[0m\u001b[0mcallback\u001b[0m\u001b[0;34m,\u001b[0m \u001b[0;34m'_supports_tf_logs'\u001b[0m\u001b[0;34m,\u001b[0m \u001b[0;32mFalse\u001b[0m\u001b[0;34m)\u001b[0m\u001b[0;34m:\u001b[0m\u001b[0;34m\u001b[0m\u001b[0;34m\u001b[0m\u001b[0m\n\u001b[0;32m--> 342\u001b[0;31m         \u001b[0mhook\u001b[0m\u001b[0;34m(\u001b[0m\u001b[0mbatch\u001b[0m\u001b[0;34m,\u001b[0m \u001b[0mlogs\u001b[0m\u001b[0;34m)\u001b[0m\u001b[0;34m\u001b[0m\u001b[0;34m\u001b[0m\u001b[0m\n\u001b[0m\u001b[1;32m    343\u001b[0m       \u001b[0;32melse\u001b[0m\u001b[0;34m:\u001b[0m\u001b[0;34m\u001b[0m\u001b[0;34m\u001b[0m\u001b[0m\n\u001b[1;32m    344\u001b[0m         \u001b[0;32mif\u001b[0m \u001b[0mnumpy_logs\u001b[0m \u001b[0;32mis\u001b[0m \u001b[0;32mNone\u001b[0m\u001b[0;34m:\u001b[0m  \u001b[0;31m# Only convert once.\u001b[0m\u001b[0;34m\u001b[0m\u001b[0;34m\u001b[0m\u001b[0m\n",
            "\u001b[0;32m/usr/local/lib/python3.6/dist-packages/tensorflow/python/keras/callbacks.py\u001b[0m in \u001b[0;36mon_train_batch_end\u001b[0;34m(self, batch, logs)\u001b[0m\n\u001b[1;32m    959\u001b[0m \u001b[0;34m\u001b[0m\u001b[0m\n\u001b[1;32m    960\u001b[0m   \u001b[0;32mdef\u001b[0m \u001b[0mon_train_batch_end\u001b[0m\u001b[0;34m(\u001b[0m\u001b[0mself\u001b[0m\u001b[0;34m,\u001b[0m \u001b[0mbatch\u001b[0m\u001b[0;34m,\u001b[0m \u001b[0mlogs\u001b[0m\u001b[0;34m=\u001b[0m\u001b[0;32mNone\u001b[0m\u001b[0;34m)\u001b[0m\u001b[0;34m:\u001b[0m\u001b[0;34m\u001b[0m\u001b[0;34m\u001b[0m\u001b[0m\n\u001b[0;32m--> 961\u001b[0;31m     \u001b[0mself\u001b[0m\u001b[0;34m.\u001b[0m\u001b[0m_batch_update_progbar\u001b[0m\u001b[0;34m(\u001b[0m\u001b[0mbatch\u001b[0m\u001b[0;34m,\u001b[0m \u001b[0mlogs\u001b[0m\u001b[0;34m)\u001b[0m\u001b[0;34m\u001b[0m\u001b[0;34m\u001b[0m\u001b[0m\n\u001b[0m\u001b[1;32m    962\u001b[0m \u001b[0;34m\u001b[0m\u001b[0m\n\u001b[1;32m    963\u001b[0m   \u001b[0;32mdef\u001b[0m \u001b[0mon_test_batch_end\u001b[0m\u001b[0;34m(\u001b[0m\u001b[0mself\u001b[0m\u001b[0;34m,\u001b[0m \u001b[0mbatch\u001b[0m\u001b[0;34m,\u001b[0m \u001b[0mlogs\u001b[0m\u001b[0;34m=\u001b[0m\u001b[0;32mNone\u001b[0m\u001b[0;34m)\u001b[0m\u001b[0;34m:\u001b[0m\u001b[0;34m\u001b[0m\u001b[0;34m\u001b[0m\u001b[0m\n",
            "\u001b[0;32m/usr/local/lib/python3.6/dist-packages/tensorflow/python/keras/callbacks.py\u001b[0m in \u001b[0;36m_batch_update_progbar\u001b[0;34m(self, batch, logs)\u001b[0m\n\u001b[1;32m   1014\u001b[0m     \u001b[0;32mif\u001b[0m \u001b[0mself\u001b[0m\u001b[0;34m.\u001b[0m\u001b[0mverbose\u001b[0m \u001b[0;34m==\u001b[0m \u001b[0;36m1\u001b[0m\u001b[0;34m:\u001b[0m\u001b[0;34m\u001b[0m\u001b[0;34m\u001b[0m\u001b[0m\n\u001b[1;32m   1015\u001b[0m       \u001b[0;31m# Only block async when verbose = 1.\u001b[0m\u001b[0;34m\u001b[0m\u001b[0;34m\u001b[0m\u001b[0;34m\u001b[0m\u001b[0m\n\u001b[0;32m-> 1016\u001b[0;31m       \u001b[0mlogs\u001b[0m \u001b[0;34m=\u001b[0m \u001b[0mtf_utils\u001b[0m\u001b[0;34m.\u001b[0m\u001b[0mto_numpy_or_python_type\u001b[0m\u001b[0;34m(\u001b[0m\u001b[0mlogs\u001b[0m\u001b[0;34m)\u001b[0m\u001b[0;34m\u001b[0m\u001b[0;34m\u001b[0m\u001b[0m\n\u001b[0m\u001b[1;32m   1017\u001b[0m       \u001b[0mself\u001b[0m\u001b[0;34m.\u001b[0m\u001b[0mprogbar\u001b[0m\u001b[0;34m.\u001b[0m\u001b[0mupdate\u001b[0m\u001b[0;34m(\u001b[0m\u001b[0mself\u001b[0m\u001b[0;34m.\u001b[0m\u001b[0mseen\u001b[0m\u001b[0;34m,\u001b[0m \u001b[0mlist\u001b[0m\u001b[0;34m(\u001b[0m\u001b[0mlogs\u001b[0m\u001b[0;34m.\u001b[0m\u001b[0mitems\u001b[0m\u001b[0;34m(\u001b[0m\u001b[0;34m)\u001b[0m\u001b[0;34m)\u001b[0m\u001b[0;34m,\u001b[0m \u001b[0mfinalize\u001b[0m\u001b[0;34m=\u001b[0m\u001b[0;32mFalse\u001b[0m\u001b[0;34m)\u001b[0m\u001b[0;34m\u001b[0m\u001b[0;34m\u001b[0m\u001b[0m\n\u001b[1;32m   1018\u001b[0m \u001b[0;34m\u001b[0m\u001b[0m\n",
            "\u001b[0;32m/usr/local/lib/python3.6/dist-packages/tensorflow/python/keras/utils/tf_utils.py\u001b[0m in \u001b[0;36mto_numpy_or_python_type\u001b[0;34m(tensors)\u001b[0m\n\u001b[1;32m    535\u001b[0m     \u001b[0;32mreturn\u001b[0m \u001b[0mt\u001b[0m  \u001b[0;31m# Don't turn ragged or sparse tensors to NumPy.\u001b[0m\u001b[0;34m\u001b[0m\u001b[0;34m\u001b[0m\u001b[0m\n\u001b[1;32m    536\u001b[0m \u001b[0;34m\u001b[0m\u001b[0m\n\u001b[0;32m--> 537\u001b[0;31m   \u001b[0;32mreturn\u001b[0m \u001b[0mnest\u001b[0m\u001b[0;34m.\u001b[0m\u001b[0mmap_structure\u001b[0m\u001b[0;34m(\u001b[0m\u001b[0m_to_single_numpy_or_python_type\u001b[0m\u001b[0;34m,\u001b[0m \u001b[0mtensors\u001b[0m\u001b[0;34m)\u001b[0m\u001b[0;34m\u001b[0m\u001b[0;34m\u001b[0m\u001b[0m\n\u001b[0m\u001b[1;32m    538\u001b[0m \u001b[0;34m\u001b[0m\u001b[0m\n\u001b[1;32m    539\u001b[0m \u001b[0;34m\u001b[0m\u001b[0m\n",
            "\u001b[0;32m/usr/local/lib/python3.6/dist-packages/tensorflow/python/util/nest.py\u001b[0m in \u001b[0;36mmap_structure\u001b[0;34m(func, *structure, **kwargs)\u001b[0m\n\u001b[1;32m    633\u001b[0m \u001b[0;34m\u001b[0m\u001b[0m\n\u001b[1;32m    634\u001b[0m   return pack_sequence_as(\n\u001b[0;32m--> 635\u001b[0;31m       \u001b[0mstructure\u001b[0m\u001b[0;34m[\u001b[0m\u001b[0;36m0\u001b[0m\u001b[0;34m]\u001b[0m\u001b[0;34m,\u001b[0m \u001b[0;34m[\u001b[0m\u001b[0mfunc\u001b[0m\u001b[0;34m(\u001b[0m\u001b[0;34m*\u001b[0m\u001b[0mx\u001b[0m\u001b[0;34m)\u001b[0m \u001b[0;32mfor\u001b[0m \u001b[0mx\u001b[0m \u001b[0;32min\u001b[0m \u001b[0mentries\u001b[0m\u001b[0;34m]\u001b[0m\u001b[0;34m,\u001b[0m\u001b[0;34m\u001b[0m\u001b[0;34m\u001b[0m\u001b[0m\n\u001b[0m\u001b[1;32m    636\u001b[0m       expand_composites=expand_composites)\n\u001b[1;32m    637\u001b[0m \u001b[0;34m\u001b[0m\u001b[0m\n",
            "\u001b[0;32m/usr/local/lib/python3.6/dist-packages/tensorflow/python/util/nest.py\u001b[0m in \u001b[0;36m<listcomp>\u001b[0;34m(.0)\u001b[0m\n\u001b[1;32m    633\u001b[0m \u001b[0;34m\u001b[0m\u001b[0m\n\u001b[1;32m    634\u001b[0m   return pack_sequence_as(\n\u001b[0;32m--> 635\u001b[0;31m       \u001b[0mstructure\u001b[0m\u001b[0;34m[\u001b[0m\u001b[0;36m0\u001b[0m\u001b[0;34m]\u001b[0m\u001b[0;34m,\u001b[0m \u001b[0;34m[\u001b[0m\u001b[0mfunc\u001b[0m\u001b[0;34m(\u001b[0m\u001b[0;34m*\u001b[0m\u001b[0mx\u001b[0m\u001b[0;34m)\u001b[0m \u001b[0;32mfor\u001b[0m \u001b[0mx\u001b[0m \u001b[0;32min\u001b[0m \u001b[0mentries\u001b[0m\u001b[0;34m]\u001b[0m\u001b[0;34m,\u001b[0m\u001b[0;34m\u001b[0m\u001b[0;34m\u001b[0m\u001b[0m\n\u001b[0m\u001b[1;32m    636\u001b[0m       expand_composites=expand_composites)\n\u001b[1;32m    637\u001b[0m \u001b[0;34m\u001b[0m\u001b[0m\n",
            "\u001b[0;32m/usr/local/lib/python3.6/dist-packages/tensorflow/python/keras/utils/tf_utils.py\u001b[0m in \u001b[0;36m_to_single_numpy_or_python_type\u001b[0;34m(t)\u001b[0m\n\u001b[1;32m    531\u001b[0m   \u001b[0;32mdef\u001b[0m \u001b[0m_to_single_numpy_or_python_type\u001b[0m\u001b[0;34m(\u001b[0m\u001b[0mt\u001b[0m\u001b[0;34m)\u001b[0m\u001b[0;34m:\u001b[0m\u001b[0;34m\u001b[0m\u001b[0;34m\u001b[0m\u001b[0m\n\u001b[1;32m    532\u001b[0m     \u001b[0;32mif\u001b[0m \u001b[0misinstance\u001b[0m\u001b[0;34m(\u001b[0m\u001b[0mt\u001b[0m\u001b[0;34m,\u001b[0m \u001b[0mops\u001b[0m\u001b[0;34m.\u001b[0m\u001b[0mTensor\u001b[0m\u001b[0;34m)\u001b[0m\u001b[0;34m:\u001b[0m\u001b[0;34m\u001b[0m\u001b[0;34m\u001b[0m\u001b[0m\n\u001b[0;32m--> 533\u001b[0;31m       \u001b[0mx\u001b[0m \u001b[0;34m=\u001b[0m \u001b[0mt\u001b[0m\u001b[0;34m.\u001b[0m\u001b[0mnumpy\u001b[0m\u001b[0;34m(\u001b[0m\u001b[0;34m)\u001b[0m\u001b[0;34m\u001b[0m\u001b[0;34m\u001b[0m\u001b[0m\n\u001b[0m\u001b[1;32m    534\u001b[0m       \u001b[0;32mreturn\u001b[0m \u001b[0mx\u001b[0m\u001b[0;34m.\u001b[0m\u001b[0mitem\u001b[0m\u001b[0;34m(\u001b[0m\u001b[0;34m)\u001b[0m \u001b[0;32mif\u001b[0m \u001b[0mnp\u001b[0m\u001b[0;34m.\u001b[0m\u001b[0mndim\u001b[0m\u001b[0;34m(\u001b[0m\u001b[0mx\u001b[0m\u001b[0;34m)\u001b[0m \u001b[0;34m==\u001b[0m \u001b[0;36m0\u001b[0m \u001b[0;32melse\u001b[0m \u001b[0mx\u001b[0m\u001b[0;34m\u001b[0m\u001b[0;34m\u001b[0m\u001b[0m\n\u001b[1;32m    535\u001b[0m     \u001b[0;32mreturn\u001b[0m \u001b[0mt\u001b[0m  \u001b[0;31m# Don't turn ragged or sparse tensors to NumPy.\u001b[0m\u001b[0;34m\u001b[0m\u001b[0;34m\u001b[0m\u001b[0m\n",
            "\u001b[0;32m/usr/local/lib/python3.6/dist-packages/tensorflow/python/framework/ops.py\u001b[0m in \u001b[0;36mnumpy\u001b[0;34m(self)\u001b[0m\n\u001b[1;32m   1061\u001b[0m     \"\"\"\n\u001b[1;32m   1062\u001b[0m     \u001b[0;31m# TODO(slebedev): Consider avoiding a copy for non-CPU or remote tensors.\u001b[0m\u001b[0;34m\u001b[0m\u001b[0;34m\u001b[0m\u001b[0;34m\u001b[0m\u001b[0m\n\u001b[0;32m-> 1063\u001b[0;31m     \u001b[0mmaybe_arr\u001b[0m \u001b[0;34m=\u001b[0m \u001b[0mself\u001b[0m\u001b[0;34m.\u001b[0m\u001b[0m_numpy\u001b[0m\u001b[0;34m(\u001b[0m\u001b[0;34m)\u001b[0m  \u001b[0;31m# pylint: disable=protected-access\u001b[0m\u001b[0;34m\u001b[0m\u001b[0;34m\u001b[0m\u001b[0m\n\u001b[0m\u001b[1;32m   1064\u001b[0m     \u001b[0;32mreturn\u001b[0m \u001b[0mmaybe_arr\u001b[0m\u001b[0;34m.\u001b[0m\u001b[0mcopy\u001b[0m\u001b[0;34m(\u001b[0m\u001b[0;34m)\u001b[0m \u001b[0;32mif\u001b[0m \u001b[0misinstance\u001b[0m\u001b[0;34m(\u001b[0m\u001b[0mmaybe_arr\u001b[0m\u001b[0;34m,\u001b[0m \u001b[0mnp\u001b[0m\u001b[0;34m.\u001b[0m\u001b[0mndarray\u001b[0m\u001b[0;34m)\u001b[0m \u001b[0;32melse\u001b[0m \u001b[0mmaybe_arr\u001b[0m\u001b[0;34m\u001b[0m\u001b[0;34m\u001b[0m\u001b[0m\n\u001b[1;32m   1065\u001b[0m \u001b[0;34m\u001b[0m\u001b[0m\n",
            "\u001b[0;32m/usr/local/lib/python3.6/dist-packages/tensorflow/python/framework/ops.py\u001b[0m in \u001b[0;36m_numpy\u001b[0;34m(self)\u001b[0m\n\u001b[1;32m   1027\u001b[0m   \u001b[0;32mdef\u001b[0m \u001b[0m_numpy\u001b[0m\u001b[0;34m(\u001b[0m\u001b[0mself\u001b[0m\u001b[0;34m)\u001b[0m\u001b[0;34m:\u001b[0m\u001b[0;34m\u001b[0m\u001b[0;34m\u001b[0m\u001b[0m\n\u001b[1;32m   1028\u001b[0m     \u001b[0;32mtry\u001b[0m\u001b[0;34m:\u001b[0m\u001b[0;34m\u001b[0m\u001b[0;34m\u001b[0m\u001b[0m\n\u001b[0;32m-> 1029\u001b[0;31m       \u001b[0;32mreturn\u001b[0m \u001b[0mself\u001b[0m\u001b[0;34m.\u001b[0m\u001b[0m_numpy_internal\u001b[0m\u001b[0;34m(\u001b[0m\u001b[0;34m)\u001b[0m\u001b[0;34m\u001b[0m\u001b[0;34m\u001b[0m\u001b[0m\n\u001b[0m\u001b[1;32m   1030\u001b[0m     \u001b[0;32mexcept\u001b[0m \u001b[0mcore\u001b[0m\u001b[0;34m.\u001b[0m\u001b[0m_NotOkStatusException\u001b[0m \u001b[0;32mas\u001b[0m \u001b[0me\u001b[0m\u001b[0;34m:\u001b[0m  \u001b[0;31m# pylint: disable=protected-access\u001b[0m\u001b[0;34m\u001b[0m\u001b[0;34m\u001b[0m\u001b[0m\n\u001b[1;32m   1031\u001b[0m       \u001b[0msix\u001b[0m\u001b[0;34m.\u001b[0m\u001b[0mraise_from\u001b[0m\u001b[0;34m(\u001b[0m\u001b[0mcore\u001b[0m\u001b[0;34m.\u001b[0m\u001b[0m_status_to_exception\u001b[0m\u001b[0;34m(\u001b[0m\u001b[0me\u001b[0m\u001b[0;34m.\u001b[0m\u001b[0mcode\u001b[0m\u001b[0;34m,\u001b[0m \u001b[0me\u001b[0m\u001b[0;34m.\u001b[0m\u001b[0mmessage\u001b[0m\u001b[0;34m)\u001b[0m\u001b[0;34m,\u001b[0m \u001b[0;32mNone\u001b[0m\u001b[0;34m)\u001b[0m  \u001b[0;31m# pylint: disable=protected-access\u001b[0m\u001b[0;34m\u001b[0m\u001b[0;34m\u001b[0m\u001b[0m\n",
            "\u001b[0;31mKeyboardInterrupt\u001b[0m: "
          ]
        }
      ]
    },
    {
      "cell_type": "code",
      "metadata": {
        "id": "XDzghVo4jV79",
        "outputId": "2fd58db4-e871-4e24-bb75-827bcdfc2d25",
        "colab": {
          "base_uri": "https://localhost:8080/",
          "height": 395
        }
      },
      "source": [
        "def display_training_curves(training, validation, title, subplot, yscale='linear'):\n",
        "  ax = plt.subplot(subplot)\n",
        "  ax.plot(training)\n",
        "  ax.plot(validation)\n",
        "  ax.set_title('model '+ title)\n",
        "  ax.set_ylabel(title)\n",
        "  ax.set_xlabel('epoch')\n",
        "  ax.legend(['training', 'validation'])\n",
        "  plt.yscale(yscale)\n",
        "\n",
        "plt.subplots(figsize=(10,5))\n",
        "plt.tight_layout()\n",
        "display_training_curves(history.history['mean_absolute_error'], history.history['val_mean_absolute_error'], 'mean_absolute_error', 121, yscale='log')\n",
        "display_training_curves(history.history['loss'], history.history['val_loss'], 'loss', 122)"
      ],
      "execution_count": null,
      "outputs": [
        {
          "output_type": "display_data",
          "data": {
            "image/png": "[encoded data removed]",
            "text/plain": [
              "<Figure size 720x360 with 2 Axes>"
            ]
          },
          "metadata": {
            "tags": [],
            "needs_background": "light"
          }
        }
      ]
    },
    {
      "cell_type": "code",
      "metadata": {
        "id": "H5i0ENBEDD7a"
      },
      "source": [
        "# For doing custom TPU training loops\n",
        "\n",
        "# @tf.function\n",
        "# def train_step(iterator):\n",
        "#   \"\"\"The step function for one training step\"\"\"\n",
        "\n",
        "#   def step_fn(inputs):\n",
        "#     \"\"\"The computation to run on each TPU device.\"\"\"\n",
        "#     images, labels = inputs\n",
        "#     with tf.GradientTape() as tape:\n",
        "#       logits = model(images, training=True)\n",
        "#       loss = tf.keras.losses.sparse_categorical_crossentropy(\n",
        "#           labels, logits, from_logits=True)\n",
        "#       loss = tf.nn.compute_average_loss(loss, global_batch_size=batch_size)\n",
        "#     grads = tape.gradient(loss, model.trainable_variables)\n",
        "#     optimizer.apply_gradients(list(zip(grads, model.trainable_variables)))\n",
        "#     training_loss.update_state(loss * strategy.num_replicas_in_sync)\n",
        "#     # training_accuracy.update_state(labels, logits)\n",
        "\n",
        "#   strategy.run(step_fn, args=(next(iterator),))"
      ],
      "execution_count": null,
      "outputs": []
    },
    {
      "cell_type": "markdown",
      "metadata": {
        "id": "kgNu4nrfflyj"
      },
      "source": [
        ""
      ]
    },
    {
      "cell_type": "code",
      "metadata": {
        "id": "EtsFSQOZfjbP",
        "outputId": "7f812bb1-f74d-428c-869f-569f5a35f38f",
        "colab": {
          "base_uri": "https://localhost:8080/",
          "height": 85
        }
      },
      "source": [
        "import time\n",
        "import pandaRL\n",
        "import gym\n",
        "import matplotlib.pyplot as plt \n",
        "from IPython.display import display, clear_output\n",
        "import imageio\n",
        "import eval\n",
        "\n",
        "if RELATIVE_JOINTS:\n",
        "  env = gym.make('pandaPlayJoints1Obj-v0')\n",
        "else:\n",
        "  env =  gym.make('pandaPlay-v0')\n",
        "env.reset()\n",
        "env.render('playback')"
      ],
      "execution_count": null,
      "outputs": [
        {
          "output_type": "stream",
          "text": [
            "current_dir=/content/local_packages/pandaRL/pandaRL/envs\n",
            "/content/local_packages/pandaRL/pandaRL/envs\n"
          ],
          "name": "stdout"
        },
        {
          "output_type": "stream",
          "text": [
            "/usr/local/lib/python3.6/dist-packages/gym/logger.py:30: UserWarning: \u001b[33mWARN: Box bound precision lowered by casting to float32\u001b[0m\n",
            "  warnings.warn(colorize('%s: %s'%('WARN', msg % args), 'yellow'))\n"
          ],
          "name": "stderr"
        }
      ]
    },
    {
      "cell_type": "code",
      "metadata": {
        "id": "zY_XBRqvmCq7"
      },
      "source": [
        "# model.save_weights('/content/drive/My Drive/Robotic Learning/inference_model.h5')"
      ],
      "execution_count": null,
      "outputs": []
    },
    {
      "cell_type": "code",
      "metadata": {
        "id": "n_HaModhNMjN"
      },
      "source": [
        "inference_model = create_lstm_model_v2(**model_params, training=False)\n",
        "inference_model.set_weights(model.get_weights())\n",
        "# inference_model.load_weights('/content/drive/My Drive/Robotic Learning/inference_model.h5')"
      ],
      "execution_count": null,
      "outputs": []
    },
    {
      "cell_type": "code",
      "metadata": {
        "id": "BkQjdfMSsFgk"
      },
      "source": [
        "f = 14 # 51\n",
        "eval_data = np.load(PYBULLET_DATA_DIR+'/obs_act_etc/'+str(f)+'/data.npz')\n",
        "potential_start_points = glob.glob(PYBULLET_DATA_DIR+'/states_and_ims/'+str(f)+'/env_states/*.bullet')\n",
        "\n",
        "observations = eval_data['obs']\n",
        "achieved_goals = eval_data['achieved_goals']\n",
        "if RELATIVE_JOINTS:\n",
        "  joints = eval_data['target_poses'] - eval_data['joint_poses'][:,:7]\n",
        "  gripper = np.expand_dims(eval_data['acts'][:, -1], -1)\n",
        "  actions = np.concatenate([joints,gripper], -1) \n",
        "else:\n",
        "  actions = eval_data['acts']\n",
        "\n",
        "def get_random_start_point(potential_start_points):\n",
        "    idx = np.random.choice(len(potential_start_points))\n",
        "    path = potential_start_points[idx]\n",
        "    tstep = int(path.split(\"/\")[-1].replace('.bullet',''))\n",
        "    return path, tstep"
      ],
      "execution_count": null,
      "outputs": []
    },
    {
      "cell_type": "markdown",
      "metadata": {
        "id": "j8Tl464nd-g2"
      },
      "source": [
        ""
      ]
    },
    {
      "cell_type": "code",
      "metadata": {
        "id": "Y_Vk0z3MsbTi",
        "outputId": "7b2afc46-594a-4e2a-ee04-454237c9f3b8",
        "colab": {
          "base_uri": "https://localhost:8080/",
          "height": 269
        }
      },
      "source": [
        "# Play out action histories\n",
        "f = 14 # 51\n",
        "eval_data = np.load(PYBULLET_DATA_DIR+'/obs_act_etc/'+str(f)+'/data.npz')\n",
        "potential_start_points = glob.glob(PYBULLET_DATA_DIR+'/states_and_ims/'+str(f)+'/env_states/*.bullet')\n",
        "\n",
        "observations = eval_data['obs']\n",
        "achieved_goals = eval_data['achieved_goals']\n",
        "if RELATIVE_JOINTS:\n",
        "  joints = eval_data['target_poses'] - eval_data['joint_poses'][:,:7]\n",
        "  gripper = np.expand_dims(eval_data['acts'][:, -1], -1)\n",
        "  actions = np.concatenate([joints,gripper], -1) \n",
        "else:\n",
        "  actions = eval_data['acts']\n",
        "\n",
        "def get_random_start_point(potential_start_points):\n",
        "    idx = np.random.choice(len(potential_start_points))\n",
        "    path = potential_start_points[idx]\n",
        "    tstep = int(path.split(\"/\")[-1].replace('.bullet',''))\n",
        "    return path, tstep\n",
        "    \n",
        "path, start = get_random_start_point(potential_start_points)\n",
        "env.p.restoreState(fileName=path)\n",
        "\n",
        "vid_path = 'output/videos/trajectory.mp4'\n",
        "with imageio.get_writer(vid_path, mode='I') as writer:\n",
        "    for i in range(start, start+60):\n",
        "        o ,r, d, _ = env.step(actions[i,:])\n",
        "        writer.append_data(o['img'])\n",
        "        clear_output(wait=True)\n",
        "        fig = plt.imshow(o['img'])\n",
        "        plt.show()\n",
        "        time.sleep(0.01)"
      ],
      "execution_count": null,
      "outputs": [
        {
          "output_type": "display_data",
          "data": {
            "image/png": "[encoded data removed]",
            "text/plain": [
              "<Figure size 432x288 with 1 Axes>"
            ]
          },
          "metadata": {
            "tags": [],
            "needs_background": "light"
          }
        }
      ]
    },
    {
      "cell_type": "code",
      "metadata": {
        "id": "wwSAAw6NPmpS",
        "outputId": "3d8f42ba-359b-4ba8-9328-031f400ba016",
        "colab": {
          "base_uri": "https://localhost:8080/",
          "height": 269
        }
      },
      "source": [
        "# Play out stateful model predictions\n",
        "path, start = get_random_start_point(potential_start_points)\n",
        "env.p.restoreState(fileName=path)\n",
        "\n",
        "vid_path = 'output/videos/trajectory.mp4'\n",
        "\n",
        "eval_seq_len = 60\n",
        "obs_in = observations[start][tf.newaxis,tf.newaxis,:]\n",
        "g_in = achieved_goals[start+eval_seq_len][tf.newaxis,tf.newaxis,:] # same as two expand_dims\n",
        "inference_model.reset_states()\n",
        "\n",
        "eval_obs = []\n",
        "eval_acts = []\n",
        "\n",
        "with imageio.get_writer(vid_path, mode='I') as writer:\n",
        "    for i in range(start, start+eval_seq_len):\n",
        "        a = inference_model([obs_in, g_in]).sample()[0,0,:] # Reduce to 1d\n",
        "        o ,r, d, _ = env.step(a)\n",
        "        obs_in = o['observation'][tf.newaxis,tf.newaxis,:]\n",
        "        writer.append_data(o['img'])\n",
        "        clear_output(wait=True)\n",
        "        fig = plt.imshow(o['img'])\n",
        "        plt.show()\n",
        "\n",
        "        eval_obs.append(o['observation'])\n",
        "        eval_acts.append(a)\n",
        "    inference_model.reset_states()\n",
        "\n",
        "eval_obs = np.vstack(eval_obs)\n",
        "eval_acts = np.vstack(eval_acts)"
      ],
      "execution_count": null,
      "outputs": [
        {
          "output_type": "display_data",
          "data": {
            "image/png": "[encoded data removed]",
            "text/plain": [
              "<Figure size 432x288 with 1 Axes>"
            ]
          },
          "metadata": {
            "tags": [],
            "needs_background": "light"
          }
        }
      ]
    },
    {
      "cell_type": "code",
      "metadata": {
        "id": "NCPwvA7V6ZWh",
        "outputId": "58b49f17-7821-4146-d6fd-c8e921e91acf",
        "colab": {
          "base_uri": "https://localhost:8080/",
          "height": 321
        }
      },
      "source": [
        "eval.render_mp4(vid_path)"
      ],
      "execution_count": null,
      "outputs": [
        {
          "output_type": "execute_result",
          "data": {
            "text/html": [
              "\n",
              "                <video width=\"300\" height=\"300\" controls>\n",
              "                <source src=\"data:video/mp4;base64,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\" type=\"video/mp4\">\n",
              "                </video>\n",
              "                "
            ],
            "text/plain": [
              "<IPython.core.display.HTML object>"
            ]
          },
          "metadata": {
            "tags": []
          },
          "execution_count": 53
        }
      ]
    },
    {
      "cell_type": "markdown",
      "metadata": {
        "id": "shzygzgdeG8J"
      },
      "source": [
        "## Plotting Timeseries of obs, acts"
      ]
    },
    {
      "cell_type": "code",
      "metadata": {
        "id": "j78Utge0bfxb",
        "cellView": "form",
        "outputId": "528b92c3-f143-406f-b018-34b9bfbebe06",
        "colab": {
          "base_uri": "https://localhost:8080/",
          "height": 281
        }
      },
      "source": [
        "#@title Visualise observations\n",
        "obs_idx = 0 #@param {type:\"slider\", min:0, max:25, step:1}\n",
        "\n",
        "plt.figure()\n",
        "t = range(eval_seq_len)\n",
        "plt.plot(t, observations[start:start+eval_seq_len,obs_idx], label='true')\n",
        "plt.plot(t, eval_obs[:,obs_idx], label='model')\n",
        "plt.title(f'Observation dim {obs_idx}')\n",
        "plt.legend()\n",
        "plt.show()"
      ],
      "execution_count": null,
      "outputs": [
        {
          "output_type": "display_data",
          "data": {
            "image/png": "[encoded data removed]",
            "text/plain": [
              "<Figure size 432x288 with 1 Axes>"
            ]
          },
          "metadata": {
            "tags": [],
            "needs_background": "light"
          }
        }
      ]
    },
    {
      "cell_type": "code",
      "metadata": {
        "id": "GqKohTUOdC0C",
        "cellView": "form",
        "outputId": "770c52fa-a941-454b-87d1-4793f2be37dc",
        "colab": {
          "base_uri": "https://localhost:8080/",
          "height": 281
        }
      },
      "source": [
        "#@title Visualise actions\n",
        "acts_idx = 6 #@param {type:\"slider\", min:0, max:7, step:1}\n",
        "\n",
        "plt.figure()\n",
        "t = range(eval_seq_len)\n",
        "plt.plot(t, actions[start:start+eval_seq_len,acts_idx], label='true')\n",
        "plt.plot(t, eval_acts[:,acts_idx], label='model')\n",
        "plt.title(f'Action dim {acts_idx}')\n",
        "plt.legend()\n",
        "plt.show()"
      ],
      "execution_count": null,
      "outputs": [
        {
          "output_type": "display_data",
          "data": {
            "image/png": "[encoded data removed]",
            "text/plain": [
              "<Figure size 432x288 with 1 Axes>"
            ]
          },
          "metadata": {
            "tags": [],
            "needs_background": "light"
          }
        }
      ]
    },
    {
      "cell_type": "markdown",
      "metadata": {
        "id": "G84fGXVwv9Fh"
      },
      "source": [
        "# Perfect, Deterministic Reset and Replay"
      ]
    },
    {
      "cell_type": "code",
      "metadata": {
        "id": "qSFFlcskv9Fl"
      },
      "source": [
        "import gym\n",
        "import time\n",
        "import pandaRL\n",
        "if RELATIVE_JOINTS:\n",
        "    env = gym.make('pandaPlayJoints-v0')\n",
        "else:\n",
        "    env = gym.make('pandaPlay-v0')\n",
        "env.render('human')\n",
        "env.reset()"
      ],
      "execution_count": null,
      "outputs": []
    },
    {
      "cell_type": "code",
      "metadata": {
        "id": "ffT-7ivrv9Fv"
      },
      "source": [
        "idx = np.random.choice(len(o))\n",
        "traj_end = len(np.where(m[idx] == 1)[0])-1\n",
        "#env.panda.reset_goal_pos(ag_to_dg(g[idx, traj_end,:]))\n",
        "env.p.restoreState(fileName=dataset_path+'states_and_ims/'+str(int(pth[idx]))+'/env_states/'+str(int(tsteps[idx,0]))+'.bullet')\n",
        "\n"
      ],
      "execution_count": null,
      "outputs": []
    },
    {
      "cell_type": "code",
      "metadata": {
        "id": "QC5hK81Vv9F1"
      },
      "source": [
        "for i in range(0, traj_end+1):\n",
        "    #env.p.restoreState(fileName=dataset_path+str(int(pth[idx]))+'/env_states/'+str(int(tsteps[idx,i]))+'.bullet')\n",
        "    #time.sleep(0.1)\n",
        "    env.step(a[idx, i, :])"
      ],
      "execution_count": null,
      "outputs": []
    },
    {
      "cell_type": "code",
      "metadata": {
        "id": "QvNvFNZxv9F5"
      },
      "source": [
        "def test_subsequences(use_ori = True, replay=False):\n",
        "    \n",
        "    t_it = iter(tf_valid_data)\n",
        "    obs, acts, goals, masks, pth, tsteps = t_it.next()\n",
        "    idx = np.random.choice(len(obs))\n",
        "    \n",
        "    \n",
        "    start_idx = str(int(tsteps[idx,0]))\n",
        "    traj_end = len(np.where(masks[idx] == 1)[0])-1\n",
        "    \n",
        "    env.p.restoreState(fileName=dataset_path+'states_and_ims/'+str(int(pth[idx]))+'/env_states/'+str(int(tsteps[idx,0]))+'.bullet')\n",
        "    \n",
        "    o = tf.expand_dims(obs[idx][0],0)\n",
        "    \n",
        "    goal = goals[idx, traj_end,:]\n",
        "    #env.panda.reset_goal_pos(ag_to_dg(goal))\n",
        "    goal = tf.expand_dims(goal, 0)\n",
        "    \n",
        "    \n",
        "    if replay:\n",
        "        retries = 1\n",
        "    else:\n",
        "        retries = 1\n",
        "        \n",
        "    for i in range(0,retries):\n",
        "        past_state = [None, None]\n",
        "        for i in range(0, traj_end+1):\n",
        "\n",
        "            distrib, past_state = model(o, goal,  past_state = past_state)\n",
        "            a = distrib.sample().numpy().squeeze() \n",
        "            \n",
        "            if use_ori:\n",
        "                a[3:7] =  np.array(env.panda.default_arm_orn) # because it hasn't ever had to cope with\n",
        "            if replay:\n",
        "                a=acts[idx, i, :] # uncomment this to replay play subsequences\n",
        "            o, r, d, _ = env.step(a)\n",
        "            o = tf.expand_dims(o['observation'], 0)"
      ],
      "execution_count": null,
      "outputs": []
    },
    {
      "cell_type": "markdown",
      "metadata": {
        "pycharm": {
          "name": "#%% md\n"
        },
        "id": "-yC0L1P3v9GA"
      },
      "source": [
        "# MLP Evaluation"
      ]
    },
    {
      "cell_type": "code",
      "metadata": {
        "id": "7GMYQIc9v9GB"
      },
      "source": [
        "def ag_to_dg(ag):\n",
        "    dg = np.concatenate([ag[0:3], ag[7:10]])\n",
        "    return dg"
      ],
      "execution_count": null,
      "outputs": []
    },
    {
      "cell_type": "code",
      "metadata": {
        "pycharm": {
          "name": "#%%\n"
        },
        "id": "WHt-EhKHv9GF"
      },
      "source": [
        "# This below is only appropriate for non sequence models, which will aim for shorter timespans. \n",
        "n_valid_trajectories = len(valid_data['obs'])\n",
        "idx = np.random.choice(n_valid_trajectories)\n",
        "traj_obs, traj_acts, traj_init_o, traj_init_v = [valid_data[key][idx] for key in valid_data.keys()]"
      ],
      "execution_count": null,
      "outputs": []
    },
    {
      "cell_type": "code",
      "metadata": {
        "pycharm": {
          "name": "#%%\n"
        },
        "id": "TWJ-_tLrv9GH"
      },
      "source": [
        "\n",
        "o = env.reset()\n",
        "# A few representative points along the trajectory for us to test how it goes from there (before it loses coherence\n",
        "# over the long trajectory)\n",
        "ZERO, QUARTER, HALF, THREEQ = 0, len(traj_obs)//4, len(traj_obs)//2, len(traj_obs)*3//4\n",
        "# Get the init point\n",
        "init_o = traj_obs[THREEQ][START_OBS:END_OBS]# traj_init_o\n",
        "# reset to our desired init, but with 0 velocity - fine for now. \n",
        "env.robot.reset(env, init_o, traj_init_v)\n",
        "# select the goal as the end state of the trajectory \n",
        "goal = traj_obs[-1][START_GOAL:END_GOAL]\n",
        "for i in range(len(traj_acts)):\n",
        "    o = tf.expand_dims(np.concatenate([o[START_OBS:END_OBS], goal], -1),0)\n",
        "    if PROBS:# need to sample from the model if its probabilistic. \n",
        "        a = model(o).sample()[0]\n",
        "    else:\n",
        "        a = model.predict(o)[0]\n",
        "    #a = traj_acts[i]\n",
        "    o, r, d, _ = env.step(a) # the key change\n",
        "    \n",
        "    env.render()"
      ],
      "execution_count": null,
      "outputs": []
    },
    {
      "cell_type": "markdown",
      "metadata": {
        "pycharm": {
          "name": "#%% md\n"
        },
        "id": "8SHQGBjnv9GK"
      },
      "source": [
        "# LSTM Evaluation"
      ]
    },
    {
      "cell_type": "code",
      "metadata": {
        "pycharm": {
          "name": "#%%\n"
        },
        "id": "SXyTQ8kov9GL"
      },
      "source": [
        "valid = dataset[int(N_TRAJS*train_partition):]\n",
        "\n",
        "def test_subsequences():\n",
        "    \n",
        "    obs, acts, goals, masks = sample_sequence_batch(valid)\n",
        "    o = env.reset()\n",
        "    idx = np.random.choice(len(obs))\n",
        "    traj_end = len(np.where(masks[idx] == 1)[0])-1\n",
        "\n",
        "    masks[idx][traj_end]\n",
        "    start_pos = obs[idx][0][START_OBS:END_OBS].numpy()\n",
        "    goal = np.expand_dims(obs[idx][traj_end][START_GOAL:END_GOAL],0)\n",
        "    zero_vel = np.zeros(29)\n",
        "\n",
        "    env.robot.reset(env, start_pos, zero_vel)\n",
        "    o = np.squeeze(obs[idx][0])\n",
        "    env.render()\n",
        "    past_state = [None, None]\n",
        "    \n",
        "    for i in range(0,3):\n",
        "        for i in range(0, traj_end+1):\n",
        "            o = tf.expand_dims(o[START_OBS:END_OBS], 0)\n",
        "            distrib, past_state = model(o, goal,  past_state = past_state)\n",
        "\n",
        "            a = distrib.sample().numpy().squeeze() \n",
        "            #a = acts[idx, i, :] # uncomment this to replay play subsequences\n",
        "            o, r, d, _ = env.step(a)\n",
        "            env.render()\n"
      ],
      "execution_count": null,
      "outputs": []
    },
    {
      "cell_type": "code",
      "metadata": {
        "pycharm": {
          "name": "#%%\n"
        },
        "id": "4CpW3P-Bv9GS"
      },
      "source": [
        "# What about on a full trajectory? Where we give it the intermediate goals?\n",
        "n_valid_trajectories = len(valid)\n",
        "idx = np.random.choice(n_valid_trajectories)\n",
        "traj_obs, traj_acts, traj_goals, traj_init_o, traj_init_v = [valid[idx][key] for key in valid[idx].keys()]\n",
        "o = env.reset()\n",
        "traj_len = len(traj_obs)\n",
        "intervals = np.array([0, traj_len//4, traj_len//2, traj_len*3//4, traj_len])\n",
        "init_o = traj_obs[0][START_OBS:END_OBS]# traj_init_o\n",
        "# reset to our desired init, but with 0 velocity - fine for now. \n",
        "env.robot.reset(env, init_o, traj_init_v)\n",
        "env.render()\n",
        "\n",
        "    \n"
      ],
      "execution_count": null,
      "outputs": []
    },
    {
      "cell_type": "code",
      "metadata": {
        "pycharm": {
          "name": "#%%\n"
        },
        "id": "3pfij6NBv9GV"
      },
      "source": [
        "past_state = [None, None]\n",
        "for t in range(traj_len):\n",
        "        goal_idx = np.where(t < intervals)[0][0] # which part of the task we are up to\n",
        "        goal = tf.cast(tf.expand_dims(traj_obs[intervals[goal_idx]-1][START_GOAL:END_GOAL], 0), tf.float32)\n",
        "        o = tf.cast(tf.expand_dims(o[START_OBS:END_OBS],0), tf.float32)\n",
        "        distrib, past_state = model(o,goal, past_state = past_state)\n",
        "        \n",
        "        #a = distrib.sample().numpy().squeeze() \n",
        "        a = traj_acts[t, :] # uncomment this to replay play subsequences\n",
        "        o, r, d, _ = env.step(a)\n",
        "        env.render()"
      ],
      "execution_count": null,
      "outputs": []
    },
    {
      "cell_type": "code",
      "metadata": {
        "pycharm": {
          "name": "#%%\n"
        },
        "id": "IihoFnSsv9Gi"
      },
      "source": [
        "@tf.function\n",
        "def train_step(x, y):\n",
        "    with tf.GradientTape() as tape:\n",
        "        logits = model(x, training=True)\n",
        "        loss_value = loss_fn(y, logits)\n",
        "    grads = tape.gradient(loss_value, model.trainable_weights)\n",
        "    optimizer.apply_gradients(zip(grads, model.trainable_weights))\n",
        "#     train_acc_metric.update_state(y, logits)\n",
        "    return loss_value\n",
        "\n",
        "@tf.function\n",
        "def test_step(x, y):\n",
        "    val_logits = model(x, training=False)\n",
        "#     val_acc_metric.update_state(y, val_logits)"
      ],
      "execution_count": null,
      "outputs": []
    },
    {
      "cell_type": "code",
      "metadata": {
        "pycharm": {
          "name": "#%%\n"
        },
        "id": "gj4eF6mJv9Gk"
      },
      "source": [
        "EPOCHS = 10\n",
        "\n",
        "for epoch in range(EPOCHS):\n",
        "    print(f\"\\nEpoch {epoch}\")\n",
        "    start_time = time.time()\n",
        "    progbar = Progbar(len(observations), verbose=1, interval=0.5)\n",
        "\n",
        "    # Iterate over the batches of the dataset.\n",
        "    for step, (obs,acts) in enumerate(zip(observations, actions)):\n",
        "#         obs = traj_batch['observations']\n",
        "#         acts = traj_batch['actions']\n",
        "    \n",
        "        loss_value = train_step(obs, acts)\n",
        "        progbar.add(1, [('Loss', loss_value)]) "
      ],
      "execution_count": null,
      "outputs": []
    },
    {
      "cell_type": "code",
      "metadata": {
        "id": "FhxqJ6Sdv9Gp",
        "outputId": "cea3ab74-4d4b-48cb-bad2-00af84362670"
      },
      "source": [
        "EPOCHS = 10\n",
        "\n",
        "for epoch in range(EPOCHS):\n",
        "    print(f\"\\nEpoch {epoch}\")\n",
        "    start_time = time.time()\n",
        "    progbar = Progbar(len(observations), verbose=1, interval=0.5)\n",
        "\n",
        "    # Iterate over the batches of the dataset.\n",
        "    for step, (obs,acts) in enumerate(zip(observations, actions)):\n",
        "#         obs = traj_batch['observations']\n",
        "#         acts = traj_batch['actions']\n",
        "    \n",
        "        loss_value = train_step(obs, acts)\n",
        "        progbar.add(1, [('Loss', loss_value)])  "
      ],
      "execution_count": null,
      "outputs": [
        {
          "output_type": "stream",
          "text": [
            "88.02201747894287 19.151499032974243\n"
          ],
          "name": "stdout"
        }
      ]
    },
    {
      "cell_type": "code",
      "metadata": {
        "pycharm": {
          "name": "#%%\n"
        },
        "id": "xHKZ0c0Fv9Gv",
        "outputId": "1efe54b3-5860-41df-eecf-a82518b919bc"
      },
      "source": [
        "import gym\n",
        "import adept_envs\n",
        "\n",
        "env = gym.make(\"kitchen_relax-v1\")"
      ],
      "execution_count": null,
      "outputs": [
        {
          "output_type": "stream",
          "text": [
            "Reading configurations for Franka\n",
            "\u001b[40m\u001b[37mInitializing Franka sim\u001b[0m\n",
            "registering the liscence\n"
          ],
          "name": "stdout"
        },
        {
          "output_type": "stream",
          "text": [
            "/home/sholto/anaconda3/lib/python3.7/site-packages/gym/logger.py:30: UserWarning: \u001b[33mWARN: Box bound precision lowered by casting to float32\u001b[0m\n",
            "  warnings.warn(colorize('%s: %s'%('WARN', msg % args), 'yellow'))\n"
          ],
          "name": "stderr"
        }
      ]
    },
    {
      "cell_type": "markdown",
      "metadata": {
        "pycharm": {
          "name": "#%% md\n"
        },
        "id": "b7CMny5dv9Gx"
      },
      "source": [
        "# MLP Evaluation"
      ]
    },
    {
      "cell_type": "code",
      "metadata": {
        "id": "JOm7R4A-v9Gx"
      },
      "source": [
        "# This below is only appropriate for non sequence models, which will aim for shorter timespans. \n",
        "n_valid_trajectories = len(valid_data['obs'])\n",
        "idx = np.random.choice(n_valid_trajectories)\n",
        "traj_obs, traj_acts, traj_init_o, traj_init_v = [valid_data[key][idx] for key in valid_data.keys()]"
      ],
      "execution_count": null,
      "outputs": []
    },
    {
      "cell_type": "code",
      "metadata": {
        "pycharm": {
          "name": "#%%\n"
        },
        "id": "PXQbt0Oov9Gz"
      },
      "source": [
        "\n",
        "o = env.reset()\n",
        "# A few representative points along the trajectory for us to test how it goes from there (before it loses coherence\n",
        "# over the long trajectory)\n",
        "ZERO, QUARTER, HALF, THREEQ = 0, len(traj_obs)//4, len(traj_obs)//2, len(traj_obs)*3//4\n",
        "# Get the init point\n",
        "init_o = traj_obs[THREEQ][START_OBS:END_OBS]# traj_init_o\n",
        "# reset to our desired init, but with 0 velocity - fine for now. \n",
        "env.robot.reset(env, init_o, traj_init_v)\n",
        "# select the goal as the end state of the trajectory \n",
        "goal = traj_obs[-1][START_GOAL:END_GOAL]\n",
        "for i in range(len(traj_acts)):\n",
        "    o = tf.expand_dims(np.concatenate([o[START_OBS:END_OBS], goal], -1),0)\n",
        "    if PROBS:# need to sample from the model if its probabilistic. \n",
        "        a = model(o).sample()[0]\n",
        "    else:\n",
        "        a = model.predict(o)[0]\n",
        "    #a = traj_acts[i]\n",
        "    o, r, d, _ = env.step(a) # the key change\n",
        "    \n",
        "    env.render()"
      ],
      "execution_count": null,
      "outputs": []
    },
    {
      "cell_type": "markdown",
      "metadata": {
        "pycharm": {
          "name": "#%% md\n"
        },
        "id": "njbQpQAGv9G2"
      },
      "source": [
        "# LSTM Evaluation"
      ]
    },
    {
      "cell_type": "code",
      "metadata": {
        "id": "bdznW904v9G2"
      },
      "source": [
        "\n",
        "def test_subsequences():\n",
        "    obs, acts, masks = sample_sequence_batch(valid_data)\n",
        "    o = env.reset()\n",
        "    idx = np.random.choice(len(obs))\n",
        "    traj_end = len(np.where(masks[idx] == 1)[0])-1\n",
        "\n",
        "    masks[idx][traj_end]\n",
        "    start_pos = obs[idx][0][START_OBS:END_OBS].numpy()\n",
        "    goal = obs[idx][traj_end][START_GOAL:END_GOAL]\n",
        "    zero_vel = np.zeros(29)\n",
        "\n",
        "    env.robot.reset(env, start_pos, zero_vel)\n",
        "    o = np.squeeze(obs[idx][0])\n",
        "    env.render()\n",
        "\n",
        "\n",
        "    past_state = [None, None]\n",
        "\n",
        "    for i in range(0, traj_end+1):\n",
        "        o = tf.expand_dims(np.concatenate([o[START_OBS:END_OBS], goal], -1),0)\n",
        "        distrib, past_state = model(o, past_state = past_state)\n",
        "        #a = acts[idx, i, :] # uncomment this to replay play subsequences\n",
        "        a = distrib.sample().numpy().squeeze() \n",
        "        o, r, d, _ = env.step(a)\n",
        "        env.render()\n",
        "    "
      ],
      "execution_count": null,
      "outputs": []
    },
    {
      "cell_type": "code",
      "metadata": {
        "id": "8A7JypWXv9G4"
      },
      "source": [
        "for i in range(0,100):\n",
        "    test_subsequences()"
      ],
      "execution_count": null,
      "outputs": []
    },
    {
      "cell_type": "code",
      "metadata": {
        "pycharm": {
          "name": "#%%\n"
        },
        "id": "JY9VcxT3v9G9"
      },
      "source": [
        "# What about on a full trajectory? Where we give it the intermediate goals?\n",
        "n_valid_trajectories = len(valid_data)\n",
        "idx = np.random.choice(n_valid_trajectories)\n",
        "traj_obs, traj_acts, traj_init_o, traj_init_v = [valid_data[key][idx] for key in valid_data.keys()]\n",
        "o = env.reset()\n",
        "traj_len = len(traj_obs)\n",
        "intervals = np.array([0, traj_len//4, traj_len//2, traj_len*3//4, traj_len])\n",
        "init_o = traj_obs[0][START_OBS:END_OBS]# traj_init_o\n",
        "# reset to our desired init, but with 0 velocity - fine for now. \n",
        "env.robot.reset(env, init_o, traj_init_v)\n",
        "env.render()\n",
        "\n",
        "    \n"
      ],
      "execution_count": null,
      "outputs": []
    },
    {
      "cell_type": "code",
      "metadata": {
        "id": "jrN7P-PUv9G_"
      },
      "source": [
        "past_state = [None, None]\n",
        "for t in range(traj_len):\n",
        "        goal_idx = np.where(t < intervals)[0][0] # which part of the task we are up to\n",
        "        goal = traj_obs[intervals[goal_idx]-1][START_GOAL:END_GOAL]\n",
        "        o = tf.expand_dims(np.concatenate([o[START_OBS:END_OBS], goal], -1),0)\n",
        "        distrib, past_state = model(o, past_state = past_state)\n",
        "        #a = acts[idx, i, :] # uncomment this to replay play subsequences\n",
        "        a = distrib.sample().numpy().squeeze() \n",
        "        o, r, d, _ = env.step(a)\n",
        "        env.render()"
      ],
      "execution_count": null,
      "outputs": []
    },
    {
      "cell_type": "code",
      "metadata": {
        "id": "yjkFJ7Nov9HC"
      },
      "source": [
        "# What about on a full trajectory? Where we give it the intermediate goals?\n",
        "n_valid_trajectories = len(valid_data)\n",
        "idx = np.random.choice(n_valid_trajectories)\n",
        "traj_obs, traj_acts, traj_init_o, traj_init_v = [valid_data[key][idx] for key in valid_data.keys()]\n",
        "o = env.reset()\n",
        "traj_len = len(traj_obs)\n",
        "intervals = np.array([0, traj_len//4, traj_len//2, traj_len*3//4, traj_len])\n",
        "init_o = traj_obs[0][START_OBS:END_OBS]# traj_init_o\n",
        "# reset to our desired init, but with 0 velocity - fine for now. \n",
        "env.robot.reset(env, init_o, traj_init_v)\n",
        "env.render()"
      ],
      "execution_count": null,
      "outputs": []
    },
    {
      "cell_type": "code",
      "metadata": {
        "id": "xiZ465shv9HE"
      },
      "source": [
        "past_state = [None, None]\n",
        "for t in range(traj_len):\n",
        "        goal_idx = np.where(t < intervals)[0][0] # which part of the task we are up to\n",
        "        goal = traj_obs[intervals[goal_idx]-1][START_GOAL:END_GOAL]\n",
        "        o = tf.expand_dims(np.concatenate([o[START_OBS:END_OBS], goal], -1),0)\n",
        "        distrib, past_state = model(o, past_state = past_state)\n",
        "        #a = acts[idx, i, :] # uncomment this to replay play subsequences\n",
        "        a = distrib.sample().numpy().squeeze() \n",
        "        o, r, d, _ = env.step(a)\n",
        "        env.render()"
      ],
      "execution_count": null,
      "outputs": []
    },
    {
      "cell_type": "code",
      "metadata": {
        "pycharm": {
          "name": "#%%\n"
        },
        "id": "qiQOLBwnv9HM"
      },
      "source": [
        "@tf.function\n",
        "def train_step(x, y):\n",
        "    with tf.GradientTape() as tape:\n",
        "        logits = model(x, training=True)\n",
        "        loss_value = loss_fn(y, logits)\n",
        "    grads = tape.gradient(loss_value, model.trainable_weights)\n",
        "    optimizer.apply_gradients(zip(grads, model.trainable_weights))\n",
        "#     train_acc_metric.update_state(y, logits)\n",
        "    return loss_value\n",
        "\n",
        "@tf.function\n",
        "def test_step(x, y):\n",
        "    val_logits = model(x, training=False)\n",
        "#     val_acc_metric.update_state(y, val_logits)"
      ],
      "execution_count": null,
      "outputs": []
    },
    {
      "cell_type": "code",
      "metadata": {
        "jupyter": {
          "outputs_hidden": true
        },
        "id": "Y8EFTvCzv9HO"
      },
      "source": [
        "EPOCHS = 10\n",
        "\n",
        "for epoch in range(EPOCHS):\n",
        "    print(f\"\\nEpoch {epoch}\")\n",
        "    start_time = time.time()\n",
        "    progbar = Progbar(len(observations), verbose=1, interval=0.5)\n",
        "\n",
        "    # Iterate over the batches of the dataset.\n",
        "    for step, (obs,acts) in enumerate(zip(observations, actions)):\n",
        "#         obs = traj_batch['observations']\n",
        "#         acts = traj_batch['actions']\n",
        "    \n",
        "        loss_value = train_step(obs, acts)\n",
        "        progbar.add(1, [('Loss', loss_value)])  "
      ],
      "execution_count": null,
      "outputs": []
    }
  ]
}