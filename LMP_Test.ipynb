{
  "nbformat": 4,
  "nbformat_minor": 0,
  "metadata": {
    "kernelspec": {
      "display_name": "Python 3",
      "language": "python",
      "name": "python3"
    },
    "language_info": {
      "codemirror_mode": {
        "name": "ipython",
        "version": 3
      },
      "file_extension": ".py",
      "mimetype": "text/x-python",
      "name": "python",
      "nbconvert_exporter": "python",
      "pygments_lexer": "ipython3",
      "version": "3.7.3"
    },
    "colab": {
      "name": "LMP Test.ipynb",
      "provenance": [],
      "collapsed_sections": [
        "G84fGXVwv9Fh",
        "-yC0L1P3v9GA",
        "8SHQGBjnv9GK",
        "b7CMny5dv9Gx",
        "njbQpQAGv9G2"
      ],
      "toc_visible": true,
      "machine_shape": "hm",
      "include_colab_link": true
    },
    "accelerator": "TPU"
  },
  "cells": [
    {
      "cell_type": "markdown",
      "metadata": {
        "id": "view-in-github",
        "colab_type": "text"
      },
      "source": [
        "<a href=\"https://colab.research.google.com/github/sholtodouglas/learning_from_play/blob/master/LMP_Test.ipynb\" target=\"_parent\"><img src=\"https://colab.research.google.com/assets/colab-badge.svg\" alt=\"Open In Colab\"/></a>"
      ]
    },
    {
      "cell_type": "code",
      "metadata": {
        "id": "Xchjk_eKp26Q",
        "colab_type": "code",
        "cellView": "both",
        "colab": {
          "base_uri": "https://localhost:8080/",
          "height": 359
        },
        "outputId": "8197a671-4f3f-4a56-ff54-fe2bf9b417a1"
      },
      "source": [
        "#@title Install package dependencies (forces restart)\n",
        "import os\n",
        "\n",
        "def restart_runtime():\n",
        "    print('Runtime restarting...')\n",
        "    os.kill(os.getpid(), 9)\n",
        "\n",
        "!pip -q install pybullet\n",
        "!git clone https://github.com/sholtodouglas/pandaRL local_packages/pandaRL\n",
        "!pip install -e local_packages/pandaRL/.\n",
        "\n",
        "restart_runtime()"
      ],
      "execution_count": null,
      "outputs": [
        {
          "output_type": "stream",
          "text": [
            "\u001b[K     |████████████████████████████████| 100.8MB 40kB/s \n",
            "\u001b[?25hCloning into 'local_packages/pandaRL'...\n",
            "remote: Enumerating objects: 290, done.\u001b[K\n",
            "remote: Counting objects: 100% (290/290), done.\u001b[K\n",
            "remote: Compressing objects: 100% (190/190), done.\u001b[K\n",
            "remote: Total 290 (delta 144), reused 230 (delta 88), pack-reused 0\u001b[K\n",
            "Receiving objects: 100% (290/290), 3.10 MiB | 15.36 MiB/s, done.\n",
            "Resolving deltas: 100% (144/144), done.\n",
            "Obtaining file:///content/local_packages/pandaRL\n",
            "Requirement already satisfied: gym in /usr/local/lib/python3.6/dist-packages (from pandaRL==0.0.1) (0.17.2)\n",
            "Requirement already satisfied: pyglet<=1.5.0,>=1.4.0 in /usr/local/lib/python3.6/dist-packages (from gym->pandaRL==0.0.1) (1.5.0)\n",
            "Requirement already satisfied: cloudpickle<1.4.0,>=1.2.0 in /usr/local/lib/python3.6/dist-packages (from gym->pandaRL==0.0.1) (1.3.0)\n",
            "Requirement already satisfied: numpy>=1.10.4 in /usr/local/lib/python3.6/dist-packages (from gym->pandaRL==0.0.1) (1.18.5)\n",
            "Requirement already satisfied: scipy in /usr/local/lib/python3.6/dist-packages (from gym->pandaRL==0.0.1) (1.4.1)\n",
            "Requirement already satisfied: future in /usr/local/lib/python3.6/dist-packages (from pyglet<=1.5.0,>=1.4.0->gym->pandaRL==0.0.1) (0.16.0)\n",
            "Installing collected packages: pandaRL\n",
            "  Running setup.py develop for pandaRL\n",
            "Successfully installed pandaRL\n"
          ],
          "name": "stdout"
        }
      ]
    },
    {
      "cell_type": "code",
      "metadata": {
        "id": "zMJ___6ARZ4u",
        "colab_type": "code",
        "cellView": "form",
        "colab": {
          "base_uri": "https://localhost:8080/",
          "height": 56
        },
        "outputId": "ff07bb04-015d-479e-e76b-f9a6551ba388"
      },
      "source": [
        "#@title Workpace Setup (Local vs Colab)\n",
        "from google.colab import drive, auth\n",
        "from os.path import join\n",
        "import os\n",
        "\n",
        "COLAB = True #@param {type:\"boolean\"}\n",
        "DEVICE = \"TPU\" #@param [\"TPU\", \"GPU\"]\n",
        "DATA_SOURCE = \"Google Drive\" #@param [\"Google Drive\", \"GCS\"]\n",
        "DATASET = \"one_obj_play\" #@param [\"play_data\", \"one_obj_play\"]\n",
        "\n",
        "if COLAB:\n",
        "    if DATA_SOURCE == \"GCS\":\n",
        "        auth.authenticate_user()\n",
        "        !gcloud config set project 'learning-from-play'\n",
        "        ROOT = 'gs://colab-gcs'\n",
        "        PROJ = 'data/one_obj_play'\n",
        "        PROJECT_PATH = '/content/data'\n",
        "        !mkdir /content/data\n",
        "        !gsutil -m cp -r {ROOT}/{PROJ} {PROJECT_PATH}\n",
        "    else:\n",
        "        ROOT = '/content/drive'     # default for the drive\n",
        "        PROJ = 'My Drive/Robotic Learning'       # path to your project on Drive\n",
        "        PROJECT_PATH = os.path.join(ROOT, PROJ)\n",
        "        drive.mount(ROOT)           # we mount the drive at /content/drive\n",
        "    PYBULLET_DATA_DIR = os.path.join(PROJECT_PATH, DATASET)\n",
        "\n",
        "    # Sync drive to VM directory\n",
        "    # !rsync -aP --exclude=data/ \"{PROJECT_PATH}/\"  '/content/learning_from_play'\n",
        "    # %cd '/content/learning_from_play'\n",
        "else:\n",
        "    # Todo:\n",
        "    pass"
      ],
      "execution_count": 45,
      "outputs": [
        {
          "output_type": "stream",
          "text": [
            "Drive already mounted at /content/drive; to attempt to forcibly remount, call drive.mount(\"/content/drive\", force_remount=True).\n"
          ],
          "name": "stdout"
        }
      ]
    },
    {
      "cell_type": "code",
      "metadata": {
        "id": "QuKhbw3htoek",
        "colab_type": "code",
        "colab": {
          "base_uri": "https://localhost:8080/",
          "height": 150
        },
        "outputId": "dfb826e9-638b-4700-ff33-c30be48b3c16"
      },
      "source": [
        "! git clone https://github.com/sholtodouglas/learning_from_play\n",
        "\n"
      ],
      "execution_count": 46,
      "outputs": [
        {
          "output_type": "stream",
          "text": [
            "Cloning into 'learning_from_play'...\n",
            "remote: Enumerating objects: 587, done.\u001b[K\n",
            "remote: Counting objects: 100% (587/587), done.\u001b[K\n",
            "remote: Compressing objects: 100% (437/437), done.\u001b[K\n",
            "remote: Total 587 (delta 209), reused 476 (delta 125), pack-reused 0\u001b[K\n",
            "Receiving objects: 100% (587/587), 20.11 MiB | 30.47 MiB/s, done.\n",
            "Resolving deltas: 100% (209/209), done.\n"
          ],
          "name": "stdout"
        }
      ]
    },
    {
      "cell_type": "code",
      "metadata": {
        "id": "xbGDct1BF-Nn",
        "colab_type": "code",
        "colab": {
          "base_uri": "https://localhost:8080/",
          "height": 36
        },
        "outputId": "29267022-82da-443b-f8fe-2083723bcb9c"
      },
      "source": [
        "%cd '/content/learning_from_play'"
      ],
      "execution_count": 47,
      "outputs": [
        {
          "output_type": "stream",
          "text": [
            "/content/learning_from_play\n"
          ],
          "name": "stdout"
        }
      ]
    },
    {
      "cell_type": "code",
      "metadata": {
        "id": "k7NnR2jUZcR2",
        "colab_type": "code",
        "colab": {
          "base_uri": "https://localhost:8080/",
          "height": 93
        },
        "outputId": "9e60ef04-66d9-4f54-9b34-36272f75cd60"
      },
      "source": [
        "!git status"
      ],
      "execution_count": null,
      "outputs": [
        {
          "output_type": "stream",
          "text": [
            "On branch master\n",
            "Your branch is up to date with 'origin/master'.\n",
            "\n",
            "nothing to commit, working tree clean\n"
          ],
          "name": "stdout"
        }
      ]
    },
    {
      "cell_type": "code",
      "metadata": {
        "id": "SRM0MadYZf_E",
        "colab_type": "code",
        "colab": {}
      },
      "source": [
        "!git add ."
      ],
      "execution_count": null,
      "outputs": []
    },
    {
      "cell_type": "code",
      "metadata": {
        "id": "rneqVhhGa3jk",
        "colab_type": "code",
        "colab": {
          "base_uri": "https://localhost:8080/",
          "height": 34
        },
        "outputId": "bcc0f58a-0124-44d0-b0c4-37864a9c6921"
      },
      "source": [
        "!git pull"
      ],
      "execution_count": null,
      "outputs": [
        {
          "output_type": "stream",
          "text": [
            "Already up to date.\n"
          ],
          "name": "stdout"
        }
      ]
    },
    {
      "cell_type": "code",
      "metadata": {
        "id": "SOBH-PSIbSI4",
        "colab_type": "code",
        "cellView": "form",
        "colab": {}
      },
      "source": [
        "#@title Git config (for commits)\n",
        "email = \"sholto.douglas1@gmail.com\" #@param {type:\"string\"}\n",
        "name = \"sholtodouglas\" #@param {type:\"string\"}\n",
        "\n",
        "!git config --local user.email \"{email}\"\n",
        "!git config --local user.name \"{name}\""
      ],
      "execution_count": null,
      "outputs": []
    },
    {
      "cell_type": "code",
      "metadata": {
        "id": "EWZpvN3xZ0I4",
        "colab_type": "code",
        "cellView": "form",
        "colab": {
          "base_uri": "https://localhost:8080/",
          "height": 74
        },
        "outputId": "66d2239b-bbd3-47ee-957b-e03e968c2c06"
      },
      "source": [
        "#@title Git commit\n",
        "commit_msg = \"Custom loop\" #@param {type:\"string\"}\n",
        "!git commit -m \"{commit_msg}\""
      ],
      "execution_count": null,
      "outputs": [
        {
          "output_type": "stream",
          "text": [
            "[master 245b267] Custom loop\n",
            " 1 file changed, 0 insertions(+), 0 deletions(-)\n",
            " rewrite output/model_arch/lstm.png (99%)\n"
          ],
          "name": "stdout"
        }
      ]
    },
    {
      "cell_type": "code",
      "metadata": {
        "id": "xeT8OJX-Zhxs",
        "colab_type": "code",
        "cellView": "form",
        "colab": {
          "base_uri": "https://localhost:8080/",
          "height": 169
        },
        "outputId": "b48bcb41-66b8-43cf-87ed-05f1dfd706a7"
      },
      "source": [
        "#@title Git push\n",
        "branch = \"master\" #@param [\"master\"] {allow-input: true}\n",
        "!git push origin {branch}"
      ],
      "execution_count": null,
      "outputs": [
        {
          "output_type": "stream",
          "text": [
            "Counting objects: 5, done.\n",
            "Delta compression using up to 40 threads.\n",
            "Compressing objects:  25% (1/4)   \rCompressing objects:  50% (2/4)   \rCompressing objects:  75% (3/4)   \rCompressing objects: 100% (4/4)   \rCompressing objects: 100% (4/4), done.\n",
            "Writing objects:  20% (1/5)   \rWriting objects:  40% (2/5)   \rWriting objects:  60% (3/5)   \rWriting objects:  80% (4/5)   \rWriting objects: 100% (5/5)   \rWriting objects: 100% (5/5), 36.60 KiB | 18.30 MiB/s, done.\n",
            "Total 5 (delta 1), reused 0 (delta 0)\n",
            "remote: Resolving deltas: 100% (1/1), completed with 1 local object.\u001b[K\n",
            "To https://github.com/sholtodouglas/learning_from_play.git\n",
            "   0ba14e0..245b267  master -> master\n"
          ],
          "name": "stdout"
        }
      ]
    },
    {
      "cell_type": "markdown",
      "metadata": {
        "id": "EliqxOpPv9Dy",
        "colab_type": "text"
      },
      "source": [
        "# Data Creation"
      ]
    },
    {
      "cell_type": "code",
      "metadata": {
        "id": "6zbmq324x2yv",
        "colab_type": "code",
        "colab": {
          "base_uri": "https://localhost:8080/",
          "height": 892
        },
        "outputId": "039330fb-74c6-40f6-a247-c6045426898f"
      },
      "source": [
        "import tensorflow as tf\n",
        "print(\"Tensorflow version \" + tf.__version__)\n",
        "\n",
        "try:\n",
        "  tpu = tf.distribute.cluster_resolver.TPUClusterResolver()  # TPU detection\n",
        "  print('Running on TPU ', tpu.cluster_spec().as_dict()['worker'])\n",
        "except ValueError:\n",
        "  raise BaseException('ERROR: Not connected to a TPU runtime; please see the previous cell in this notebook for instructions!')\n",
        "\n",
        "tf.config.experimental_connect_to_cluster(tpu)\n",
        "tf.tpu.experimental.initialize_tpu_system(tpu)\n",
        "strategy = tf.distribute.TPUStrategy(tpu)\n",
        "\n",
        "print(\"REPLICAS: \", strategy.num_replicas_in_sync)"
      ],
      "execution_count": 48,
      "outputs": [
        {
          "output_type": "stream",
          "text": [
            "Tensorflow version 2.3.0\n",
            "Running on TPU  ['10.92.106.66:8470']\n",
            "WARNING:tensorflow:TPU system grpc://10.92.106.66:8470 has already been initialized. Reinitializing the TPU can cause previously created variables on TPU to be lost.\n"
          ],
          "name": "stdout"
        },
        {
          "output_type": "stream",
          "text": [
            "WARNING:tensorflow:TPU system grpc://10.92.106.66:8470 has already been initialized. Reinitializing the TPU can cause previously created variables on TPU to be lost.\n"
          ],
          "name": "stderr"
        },
        {
          "output_type": "stream",
          "text": [
            "INFO:tensorflow:Initializing the TPU system: grpc://10.92.106.66:8470\n"
          ],
          "name": "stdout"
        },
        {
          "output_type": "stream",
          "text": [
            "INFO:tensorflow:Initializing the TPU system: grpc://10.92.106.66:8470\n"
          ],
          "name": "stderr"
        },
        {
          "output_type": "stream",
          "text": [
            "INFO:tensorflow:Clearing out eager caches\n"
          ],
          "name": "stdout"
        },
        {
          "output_type": "stream",
          "text": [
            "INFO:tensorflow:Clearing out eager caches\n"
          ],
          "name": "stderr"
        },
        {
          "output_type": "stream",
          "text": [
            "INFO:tensorflow:Finished initializing TPU system.\n"
          ],
          "name": "stdout"
        },
        {
          "output_type": "stream",
          "text": [
            "INFO:tensorflow:Finished initializing TPU system.\n"
          ],
          "name": "stderr"
        },
        {
          "output_type": "stream",
          "text": [
            "INFO:tensorflow:Found TPU system:\n"
          ],
          "name": "stdout"
        },
        {
          "output_type": "stream",
          "text": [
            "INFO:tensorflow:Found TPU system:\n"
          ],
          "name": "stderr"
        },
        {
          "output_type": "stream",
          "text": [
            "INFO:tensorflow:*** Num TPU Cores: 8\n"
          ],
          "name": "stdout"
        },
        {
          "output_type": "stream",
          "text": [
            "INFO:tensorflow:*** Num TPU Cores: 8\n"
          ],
          "name": "stderr"
        },
        {
          "output_type": "stream",
          "text": [
            "INFO:tensorflow:*** Num TPU Workers: 1\n"
          ],
          "name": "stdout"
        },
        {
          "output_type": "stream",
          "text": [
            "INFO:tensorflow:*** Num TPU Workers: 1\n"
          ],
          "name": "stderr"
        },
        {
          "output_type": "stream",
          "text": [
            "INFO:tensorflow:*** Num TPU Cores Per Worker: 8\n"
          ],
          "name": "stdout"
        },
        {
          "output_type": "stream",
          "text": [
            "INFO:tensorflow:*** Num TPU Cores Per Worker: 8\n"
          ],
          "name": "stderr"
        },
        {
          "output_type": "stream",
          "text": [
            "INFO:tensorflow:*** Available Device: _DeviceAttributes(/job:localhost/replica:0/task:0/device:CPU:0, CPU, 0, 0)\n"
          ],
          "name": "stdout"
        },
        {
          "output_type": "stream",
          "text": [
            "INFO:tensorflow:*** Available Device: _DeviceAttributes(/job:localhost/replica:0/task:0/device:CPU:0, CPU, 0, 0)\n"
          ],
          "name": "stderr"
        },
        {
          "output_type": "stream",
          "text": [
            "INFO:tensorflow:*** Available Device: _DeviceAttributes(/job:localhost/replica:0/task:0/device:XLA_CPU:0, XLA_CPU, 0, 0)\n"
          ],
          "name": "stdout"
        },
        {
          "output_type": "stream",
          "text": [
            "INFO:tensorflow:*** Available Device: _DeviceAttributes(/job:localhost/replica:0/task:0/device:XLA_CPU:0, XLA_CPU, 0, 0)\n"
          ],
          "name": "stderr"
        },
        {
          "output_type": "stream",
          "text": [
            "INFO:tensorflow:*** Available Device: _DeviceAttributes(/job:worker/replica:0/task:0/device:CPU:0, CPU, 0, 0)\n"
          ],
          "name": "stdout"
        },
        {
          "output_type": "stream",
          "text": [
            "INFO:tensorflow:*** Available Device: _DeviceAttributes(/job:worker/replica:0/task:0/device:CPU:0, CPU, 0, 0)\n"
          ],
          "name": "stderr"
        },
        {
          "output_type": "stream",
          "text": [
            "INFO:tensorflow:*** Available Device: _DeviceAttributes(/job:worker/replica:0/task:0/device:TPU:0, TPU, 0, 0)\n"
          ],
          "name": "stdout"
        },
        {
          "output_type": "stream",
          "text": [
            "INFO:tensorflow:*** Available Device: _DeviceAttributes(/job:worker/replica:0/task:0/device:TPU:0, TPU, 0, 0)\n"
          ],
          "name": "stderr"
        },
        {
          "output_type": "stream",
          "text": [
            "INFO:tensorflow:*** Available Device: _DeviceAttributes(/job:worker/replica:0/task:0/device:TPU:1, TPU, 0, 0)\n"
          ],
          "name": "stdout"
        },
        {
          "output_type": "stream",
          "text": [
            "INFO:tensorflow:*** Available Device: _DeviceAttributes(/job:worker/replica:0/task:0/device:TPU:1, TPU, 0, 0)\n"
          ],
          "name": "stderr"
        },
        {
          "output_type": "stream",
          "text": [
            "INFO:tensorflow:*** Available Device: _DeviceAttributes(/job:worker/replica:0/task:0/device:TPU:2, TPU, 0, 0)\n"
          ],
          "name": "stdout"
        },
        {
          "output_type": "stream",
          "text": [
            "INFO:tensorflow:*** Available Device: _DeviceAttributes(/job:worker/replica:0/task:0/device:TPU:2, TPU, 0, 0)\n"
          ],
          "name": "stderr"
        },
        {
          "output_type": "stream",
          "text": [
            "INFO:tensorflow:*** Available Device: _DeviceAttributes(/job:worker/replica:0/task:0/device:TPU:3, TPU, 0, 0)\n"
          ],
          "name": "stdout"
        },
        {
          "output_type": "stream",
          "text": [
            "INFO:tensorflow:*** Available Device: _DeviceAttributes(/job:worker/replica:0/task:0/device:TPU:3, TPU, 0, 0)\n"
          ],
          "name": "stderr"
        },
        {
          "output_type": "stream",
          "text": [
            "INFO:tensorflow:*** Available Device: _DeviceAttributes(/job:worker/replica:0/task:0/device:TPU:4, TPU, 0, 0)\n"
          ],
          "name": "stdout"
        },
        {
          "output_type": "stream",
          "text": [
            "INFO:tensorflow:*** Available Device: _DeviceAttributes(/job:worker/replica:0/task:0/device:TPU:4, TPU, 0, 0)\n"
          ],
          "name": "stderr"
        },
        {
          "output_type": "stream",
          "text": [
            "INFO:tensorflow:*** Available Device: _DeviceAttributes(/job:worker/replica:0/task:0/device:TPU:5, TPU, 0, 0)\n"
          ],
          "name": "stdout"
        },
        {
          "output_type": "stream",
          "text": [
            "INFO:tensorflow:*** Available Device: _DeviceAttributes(/job:worker/replica:0/task:0/device:TPU:5, TPU, 0, 0)\n"
          ],
          "name": "stderr"
        },
        {
          "output_type": "stream",
          "text": [
            "INFO:tensorflow:*** Available Device: _DeviceAttributes(/job:worker/replica:0/task:0/device:TPU:6, TPU, 0, 0)\n"
          ],
          "name": "stdout"
        },
        {
          "output_type": "stream",
          "text": [
            "INFO:tensorflow:*** Available Device: _DeviceAttributes(/job:worker/replica:0/task:0/device:TPU:6, TPU, 0, 0)\n"
          ],
          "name": "stderr"
        },
        {
          "output_type": "stream",
          "text": [
            "INFO:tensorflow:*** Available Device: _DeviceAttributes(/job:worker/replica:0/task:0/device:TPU:7, TPU, 0, 0)\n"
          ],
          "name": "stdout"
        },
        {
          "output_type": "stream",
          "text": [
            "INFO:tensorflow:*** Available Device: _DeviceAttributes(/job:worker/replica:0/task:0/device:TPU:7, TPU, 0, 0)\n"
          ],
          "name": "stderr"
        },
        {
          "output_type": "stream",
          "text": [
            "INFO:tensorflow:*** Available Device: _DeviceAttributes(/job:worker/replica:0/task:0/device:TPU_SYSTEM:0, TPU_SYSTEM, 0, 0)\n"
          ],
          "name": "stdout"
        },
        {
          "output_type": "stream",
          "text": [
            "INFO:tensorflow:*** Available Device: _DeviceAttributes(/job:worker/replica:0/task:0/device:TPU_SYSTEM:0, TPU_SYSTEM, 0, 0)\n"
          ],
          "name": "stderr"
        },
        {
          "output_type": "stream",
          "text": [
            "INFO:tensorflow:*** Available Device: _DeviceAttributes(/job:worker/replica:0/task:0/device:XLA_CPU:0, XLA_CPU, 0, 0)\n"
          ],
          "name": "stdout"
        },
        {
          "output_type": "stream",
          "text": [
            "INFO:tensorflow:*** Available Device: _DeviceAttributes(/job:worker/replica:0/task:0/device:XLA_CPU:0, XLA_CPU, 0, 0)\n"
          ],
          "name": "stderr"
        },
        {
          "output_type": "stream",
          "text": [
            "REPLICAS:  8\n"
          ],
          "name": "stdout"
        }
      ]
    },
    {
      "cell_type": "markdown",
      "metadata": {
        "pycharm": {
          "name": "#%% md\n"
        },
        "id": "yL0UZVa1v9D9",
        "colab_type": "text"
      },
      "source": [
        "# Dataset"
      ]
    },
    {
      "cell_type": "code",
      "metadata": {
        "pycharm": {
          "name": "#%%\n"
        },
        "id": "KF1m_wf3v9D-",
        "colab_type": "code",
        "colab": {}
      },
      "source": [
        "import glob\n",
        "import numpy as np\n",
        "import tensorflow as tf\n",
        "import pickle\n",
        "import matplotlib.pyplot as plt\n",
        "import random\n",
        "import pickle\n",
        "import os\n",
        "from collections import Counter\n",
        "import random\n",
        "\n",
        "import data"
      ],
      "execution_count": 49,
      "outputs": []
    },
    {
      "cell_type": "code",
      "metadata": {
        "id": "1HejtDH_Yx8h",
        "colab_type": "code",
        "colab": {}
      },
      "source": [
        "# Use this to edit modules without needing to restart the kernel\n",
        "# import importlib\n",
        "# importlib.reload(data)"
      ],
      "execution_count": null,
      "outputs": []
    },
    {
      "cell_type": "code",
      "metadata": {
        "id": "rwfwQzpnv9EB",
        "colab_type": "code",
        "colab": {
          "base_uri": "https://localhost:8080/",
          "height": 56
        },
        "outputId": "901d5a24-319c-44ff-c83d-57652f61915f"
      },
      "source": [
        "keys = ['obs', 'acts', 'achieved_goals', 'joint_poses', 'target_poses']\n",
        "physical_devices = tf.config.list_physical_devices()\n",
        "if DEVICE is 'GPU':\n",
        "    tf.config.experimental.set_memory_growth(physical_devices[3], enable=True)\n",
        "print(physical_devices)"
      ],
      "execution_count": 50,
      "outputs": [
        {
          "output_type": "stream",
          "text": [
            "[PhysicalDevice(name='/physical_device:CPU:0', device_type='CPU'), PhysicalDevice(name='/physical_device:XLA_CPU:0', device_type='XLA_CPU')]\n"
          ],
          "name": "stdout"
        }
      ]
    },
    {
      "cell_type": "code",
      "metadata": {
        "id": "vA2WFvCJv9EF",
        "colab_type": "code",
        "colab": {}
      },
      "source": [
        "RELATIVE_JOINTS = True # use relative joints instead of absolute pos/ori as in the orgininal paper"
      ],
      "execution_count": 51,
      "outputs": []
    },
    {
      "cell_type": "code",
      "metadata": {
        "id": "3MyEE9kUv9EL",
        "colab_type": "code",
        "colab": {}
      },
      "source": [
        "dataset, cnt = data.load_data(PYBULLET_DATA_DIR, keys)"
      ],
      "execution_count": 52,
      "outputs": []
    },
    {
      "cell_type": "code",
      "metadata": {
        "pycharm": {
          "name": "#%%\n"
        },
        "id": "0Jov1AIqv9EQ",
        "colab_type": "code",
        "colab": {
          "base_uri": "https://localhost:8080/",
          "height": 265
        },
        "outputId": "ea47f680-9e1d-46cd-d710-e76d844b13eb"
      },
      "source": [
        "# Histogram of sequence lengths\n",
        "plt.bar(cnt.keys(), cnt.values(), width=1)\n",
        "plt.show()"
      ],
      "execution_count": 53,
      "outputs": [
        {
          "output_type": "display_data",
          "data": {
            "image/png": "[encoded data removed]",
            "text/plain": [
              "<Figure size 432x288 with 1 Axes>"
            ]
          },
          "metadata": {
            "tags": [],
            "needs_background": "light"
          }
        }
      ]
    },
    {
      "cell_type": "code",
      "metadata": {
        "id": "7iNQfzhqv9EX",
        "colab_type": "code",
        "colab": {
          "base_uri": "https://localhost:8080/",
          "height": 36
        },
        "outputId": "683a0fb4-cf2f-4077-e277-5d3b18fde8c5"
      },
      "source": [
        "total_frames = sum([x[0]*x[1] for x in cnt.items()])\n",
        "secs = total_frames / 20\n",
        "hours = secs // 3600\n",
        "minutes = secs // 60 - hours * 60\n",
        "print(f\"We have {total_frames} frames of data, which is {hours:.0f}hrs {minutes:.0f}m.\")"
      ],
      "execution_count": 54,
      "outputs": [
        {
          "output_type": "stream",
          "text": [
            "We have 104802 frames of data, which is 1hrs 27m.\n"
          ],
          "name": "stdout"
        }
      ]
    },
    {
      "cell_type": "code",
      "metadata": {
        "id": "V0DSLC_8QDMN",
        "colab_type": "code",
        "colab": {}
      },
      "source": [
        "AUTOTUNE = tf.data.experimental.AUTOTUNE\n",
        "\n",
        "class PyBulletRobotSeqDataset():\n",
        "    def __init__(self, dataset, batch_size=64, seq_len=32, overlap=1.0, \n",
        "                 prefetch_size=AUTOTUNE, train_test_split=0.9, relative_joints=False, \n",
        "                 variable_seqs=True, seed=42):\n",
        "        self.N_TRAJS = len(dataset)\n",
        "\n",
        "        # Split into train and validation datasets\n",
        "        # List of trajectory dicts\n",
        "        if train_test_split == 'last': # just use the last set of demos as validation\n",
        "            self._train_data = dataset[:-1] #[:-1] # raw data - private\n",
        "            self._valid_data = dataset[-1:]\n",
        "        else:\n",
        "            self._train_data = dataset[:int(self.N_TRAJS*train_test_split)] # raw data - private\n",
        "            self._valid_data = dataset[int(self.N_TRAJS*train_test_split):]\n",
        "        self.train_data = []\n",
        "        self.valid_data = []\n",
        "        self.BATCH_SIZE = batch_size\n",
        "        self.PREFETCH_SIZE = prefetch_size\n",
        "        self.OVERLAP = overlap\n",
        "        self.relative_joints = relative_joints\n",
        "        self.variable_seqs = variable_seqs\n",
        "\n",
        "        self.MAX_SEQ_LEN = seq_len ## 40 for example\n",
        "        self.MIN_SEQ_LEN = seq_len // 2 # so like 20\n",
        "        if self.relative_joints:\n",
        "          self.OBS_DIM  = dataset[0]['obs'].shape[-1] + dataset[0]['joint_poses'].shape[-1] \n",
        "        else:\n",
        "          self.OBS_DIM = dataset[0]['obs'].shape[-1]\n",
        "        if self.relative_joints:\n",
        "            self.ACT_DIM = dataset[0]['target_poses'].shape[-1] + 1 # +1 for the gripper\n",
        "        else:\n",
        "            self.ACT_DIM = dataset[0]['acts'].shape[-1]\n",
        "            \n",
        "        self.GOAL_DIM = dataset[0]['achieved_goals'].shape[-1] # 2 objects (xyz quat) + 4 uni dim = 18\n",
        "\n",
        "        self.random_obj = random.Random(seed)\n",
        "\n",
        "    def create_goal(self, trajectory, ti, tf):\n",
        "        return np.tile(trajectory['achieved_goals'][tf, :], (tf-ti,1)) # Be wary of changing this, the planner relies on the fact that final goal is tiled out.\n",
        "\n",
        "    def traj_to_subtrajs(self, trajectory, idx):\n",
        "        \"\"\"\n",
        "        Converts a T-length trajectory into M subtrajectories of length SEQ_LEN, pads time dim to SEQ_LEN\n",
        "        \"\"\"\n",
        "        T = len(trajectory['obs'])\n",
        "        frame_skip = max(int(self.MAX_SEQ_LEN*self.OVERLAP),1)\n",
        "        obs, goals, acts, masks, stored_seq_lens = [], [], [], [], [] # to save us compute time don't calc the seq len from the mask in training. \n",
        "        for ti in range(0,T-self.MAX_SEQ_LEN,frame_skip):\n",
        "            if self.variable_seqs:\n",
        "              seq_lens = list(self.MAX_SEQ_LEN - np.arange(0, self.MAX_SEQ_LEN-self.MIN_SEQ_LEN, 4)) #create an array of SEQ LENS with spacing 4\n",
        "              \n",
        "            else:\n",
        "              seq_lens = [self.MAX_SEQ_LEN]\n",
        "            \n",
        "            for seq_len in seq_lens:\n",
        "              tf = ti + seq_len\n",
        "                  \n",
        "              pad_len = self.MAX_SEQ_LEN-(tf-ti)\n",
        "              time_padding = ((0,pad_len),(0,0))\n",
        "              \n",
        "              if self.relative_joints:\n",
        "                  rel = trajectory['target_poses'][ti:tf] - trajectory['joint_poses'][ti:tf, :7]\n",
        "                  gripper = np.expand_dims(trajectory['acts'][ti:tf, -1], -1)\n",
        "                  action = np.pad(np.concatenate([rel, gripper], -1), time_padding)\n",
        "                  o = np.concatenate([trajectory['obs'][ti:tf,:],trajectory['joint_poses'][ti:tf,:]],-1).astype('float32')\n",
        "              else:\n",
        "                  action = np.pad(trajectory['acts'][ti:tf], time_padding)\n",
        "                  o = trajectory['obs'][ti:tf,:]\n",
        "              \n",
        "              obs.append(np.pad(o, time_padding))\n",
        "              goals.append(np.pad(self.create_goal(trajectory, ti, tf), time_padding))\n",
        "              acts.append(action)\n",
        "              masks.append(np.pad(np.ones(tf-ti), time_padding[0]))\n",
        "              stored_seq_lens.append([seq_len])\n",
        "\n",
        "        \n",
        "        return np.stack(obs), np.stack(goals), np.stack(acts), np.stack(masks), np.stack(stored_seq_lens)\n",
        "\n",
        "    def create_tf_ds(self, is_training=True):\n",
        "        \"\"\" Converts raw dataset to a shuffled subtraj dataset \"\"\"\n",
        "        dataset = self._train_data if is_training else self._valid_data\n",
        "        obs, goals, acts, masks, seq_lens = [], [], [], [], []\n",
        "        total_number_of_subtrajs = 0\n",
        "        for idx, train_sample in enumerate(dataset):\n",
        "            o,g,a,m,sl = self.traj_to_subtrajs(train_sample, idx)\n",
        "            obs.append(o)\n",
        "            goals.append(g)\n",
        "            acts.append(a)\n",
        "            masks.append(m)\n",
        "            \n",
        "            seq_lens.append(sl)\n",
        "            total_number_of_subtrajs += len(o)\n",
        "\n",
        "        \n",
        "\n",
        "        obs = np.vstack(obs)\n",
        "        goals = np.vstack(goals)\n",
        "        acts = np.vstack(acts).astype('float32')\n",
        "        masks = np.vstack(masks).astype('float32')\n",
        "        seq_lens = np.vstack(seq_lens).astype('float32')\n",
        "        print(f'Created {total_number_of_subtrajs} subtrajs')\n",
        "        ds = tf.data.Dataset.from_tensor_slices((obs, goals, acts, masks, seq_lens)) \n",
        "        # Always shuffle, repeat then batch (in that order)\n",
        "        ds = ds.shuffle(len(obs))\n",
        "        ds = ds.repeat()\n",
        "        ds = ds.batch(self.BATCH_SIZE, drop_remainder=True)\n",
        "        ds = ds.prefetch(self.PREFETCH_SIZE)\n",
        "        # ds = ds.cache()\n",
        "        return ds"
      ],
      "execution_count": 55,
      "outputs": []
    },
    {
      "cell_type": "code",
      "metadata": {
        "id": "WnlwZXrzYlmX",
        "colab_type": "code",
        "colab": {
          "base_uri": "https://localhost:8080/",
          "height": 36
        },
        "outputId": "78fe3f51-ef8f-4724-f130-f388b323c6ce"
      },
      "source": [
        "# Prep the datasets\n",
        "BATCH_SIZE_PER_REPLICA = 512\n",
        "GLOBAL_BATCH_SIZE = BATCH_SIZE_PER_REPLICA * strategy.num_replicas_in_sync\n",
        "\n",
        "rsd = PyBulletRobotSeqDataset(dataset, \n",
        "                                  batch_size=GLOBAL_BATCH_SIZE, \n",
        "                                  seq_len=32, \n",
        "                                  overlap=0.01, \n",
        "                                  train_test_split=0.9, \n",
        "                                  relative_joints=RELATIVE_JOINTS)\n",
        "\n",
        "# This may take 30s or so depending on the overlap parameter, this takes ~1min with variable seq lens\n",
        "valid_data = rsd.create_tf_ds(is_training=False)\n"
      ],
      "execution_count": 56,
      "outputs": [
        {
          "output_type": "stream",
          "text": [
            "Created 38272 subtrajs\n"
          ],
          "name": "stdout"
        }
      ]
    },
    {
      "cell_type": "code",
      "metadata": {
        "id": "Xq8rRzaHlzFL",
        "colab_type": "code",
        "colab": {
          "base_uri": "https://localhost:8080/",
          "height": 94
        },
        "outputId": "c532f8bc-fc54-4fe6-8dea-b08cf1388ef2"
      },
      "source": [
        "train_data =  rsd.create_tf_ds(is_training=True)\n",
        "train_data, valid_data"
      ],
      "execution_count": 57,
      "outputs": [
        {
          "output_type": "stream",
          "text": [
            "Created 377224 subtrajs\n"
          ],
          "name": "stdout"
        },
        {
          "output_type": "execute_result",
          "data": {
            "text/plain": [
              "(<PrefetchDataset shapes: ((4096, 32, 27), (4096, 32, 11), (4096, 32, 8), (4096, 32), (4096, 1)), types: (tf.float32, tf.float32, tf.float32, tf.float32, tf.float32)>,\n",
              " <PrefetchDataset shapes: ((4096, 32, 27), (4096, 32, 11), (4096, 32, 8), (4096, 32), (4096, 1)), types: (tf.float32, tf.float32, tf.float32, tf.float32, tf.float32)>)"
            ]
          },
          "metadata": {
            "tags": []
          },
          "execution_count": 57
        }
      ]
    },
    {
      "cell_type": "markdown",
      "metadata": {
        "pycharm": {
          "name": "#%% md\n"
        },
        "id": "nN3YJSSLv9Ez",
        "colab_type": "text"
      },
      "source": [
        "# Model"
      ]
    },
    {
      "cell_type": "code",
      "metadata": {
        "pycharm": {
          "name": "#%%\n"
        },
        "id": "BWMloXYWv9Ez",
        "colab_type": "code",
        "colab": {}
      },
      "source": [
        "from tensorflow.keras.models import Model, Sequential\n",
        "from tensorflow.keras.layers import Dense, BatchNormalization, ReLU, Input, LSTM, Concatenate, Masking, Reshape, Lambda\n",
        "from tensorflow.keras.regularizers import l1, l2\n",
        "import tensorflow_probability as tfp\n",
        "tfd = tfp.distributions\n",
        "tfb = tfp.bijectors\n",
        "tfpl = tfp.layers"
      ],
      "execution_count": 58,
      "outputs": []
    },
    {
      "cell_type": "markdown",
      "metadata": {
        "pycharm": {
          "name": "#%% md\n"
        },
        "id": "UyCTWom6v9E3",
        "colab_type": "text"
      },
      "source": [
        "## LSTM Model\n",
        "Use this to map obs -> act"
      ]
    },
    {
      "cell_type": "code",
      "metadata": {
        "id": "t1r1WdV9EAjU",
        "colab_type": "code",
        "colab": {}
      },
      "source": [
        "# expected input data shape: (batch_size, timesteps, data_dim)\n",
        "# Train stateless, inference statefull\n",
        "\n",
        "\n",
        "class actor(Model):\n",
        "  def __init__(self, layer_size=1024, p_dropout=0.1, stateful=False, GCBC=False):\n",
        "    super(actor, self).__init__()\n",
        "    self.GCBC = GCBC\n",
        "    self.lstm = LSTM(layer_size, return_sequences=True, return_state=False, stateful=stateful)\n",
        "    self.lstm2 = LSTM(layer_size, return_sequences=True, return_state=False, stateful=stateful)\n",
        "    self.actions = Dense(rsd.ACT_DIM)\n",
        "    #self.gripper = Dense(1,activation=\"sigmoid\")\n",
        "    \n",
        "    self.dropout1 = tf.keras.layers.Dropout(p_dropout)\n",
        "    self.dropout2 = tf.keras.layers.Dropout(p_dropout)\n",
        "\n",
        "  def call(self, o,z=None,g=None, training = False):\n",
        "    if self.GCBC:\n",
        "      x = Concatenate()([o,g])\n",
        "    else:\n",
        "      x = Concatenate()([o,z,g])\n",
        "    x = self.lstm(x)\n",
        "    #x = self.dropout1(x, training=training)\n",
        "    x = self.lstm2(x)\n",
        "    #x = self.dropout2(x, training=training)\n",
        "    actions = self.actions(x) # this will be B, T, D\n",
        "    #gripper = self.gripper(x)*0.04 # gripper action scaling\n",
        "    #actions = tf.concat([actions, gripper], axis = -1)\n",
        "    \n",
        "    \n",
        "    return actions"
      ],
      "execution_count": 60,
      "outputs": []
    },
    {
      "cell_type": "code",
      "metadata": {
        "id": "YZ865sEgp2Gg",
        "colab_type": "code",
        "colab": {}
      },
      "source": [
        "def create_actor(layer_size=1024, training=True, latent_dim = 128, GCBC=False):\n",
        "    # params #\n",
        "    batch_size = None if training else 1\n",
        "    stateful = not training\n",
        "\n",
        "    # Input #\n",
        "    o = Input(shape=(None, rsd.OBS_DIM), batch_size=batch_size, dtype=tf.float32, name='input_obs')\n",
        "    z = Input(shape=(None, latent_dim), batch_size=batch_size, dtype=tf.float32, name='input_latent')\n",
        "    g = Input(shape=(None, rsd.GOAL_DIM), batch_size=batch_size, dtype=tf.float32, name='input_goals')\n",
        "\n",
        "    # RNN #\n",
        "    if GCBC:\n",
        "      x = Concatenate()([o,g])\n",
        "    else:\n",
        "      x =  Concatenate()([o,z,g])\n",
        "\n",
        "    x = Masking(mask_value=0.)(x)\n",
        "    x = LSTM(layer_size, return_sequences=True, return_state=False, stateful=stateful, name='LSTM_in_1')(x)\n",
        "    x = LSTM(layer_size, return_sequences=True, return_state=False, stateful=stateful, name='LSTM_in_2')(x)\n",
        "    acts = Dense(rsd.ACT_DIM-1, activation=None, name='acts')(x)\n",
        "    gripper = Dense(1, activation='sigmoid', name='gripper')(x)*0.04\n",
        "\n",
        "    actions = Concatenate()([acts, gripper])\n",
        "\n",
        "    if GCBC:\n",
        "      return Model([o, g], actions)\n",
        "    else:\n",
        "      return Model([o, z, g], actions)\n",
        "\n",
        "model_params = {'layer_size':1024, 'latent_dim':False}\n",
        "model = create_actor(**model_params)"
      ],
      "execution_count": 76,
      "outputs": []
    },
    {
      "cell_type": "code",
      "metadata": {
        "id": "Vc7gBPv65zyT",
        "colab_type": "code",
        "colab": {}
      },
      "source": [
        "from tensorflow.keras.layers import Bidirectional\n",
        "\n",
        "def latent_normal(inputs):\n",
        "    mu, scale = inputs\n",
        "    dist = tfd.Normal(loc=mu, scale=scale)\n",
        "    return dist\n",
        "\n",
        "\n",
        "class ENCODER_LSTM(Model):\n",
        "  def __init__(self, layer_size=1024, latent_dim=256, p_dropout=0.3):\n",
        "    super(ENCODER_LSTM, self).__init__()\n",
        "\n",
        "    self.bi_lstm = Bidirectional(LSTM(layer_size, return_sequences=True, return_state=False), merge_mode='concat')\n",
        "    self.bi_lstm2 = Bidirectional(LSTM(layer_size, return_sequences=True, return_state=False), merge_mode=None)\n",
        "    self.mu = Dense(latent_dim)\n",
        "    self.scale = Dense(latent_dim, activation='softplus')\n",
        "    self.dropout1 = tf.keras.layers.Dropout(p_dropout)\n",
        "    self.dropout2 = tf.keras.layers.Dropout(p_dropout)\n",
        "\n",
        "  def call(self, obs, acts, training = False):\n",
        "    x = tf.concat([obs,acts], axis = 2) # concat observations and actions together.\n",
        "    x = self.bi_lstm(x)\n",
        "    x = self.dropout1(x, training=training)\n",
        "    x = self.bi_lstm2(x)\n",
        "    bottom = x[0][:,-1, :] # Take the last element of the bottom row\n",
        "    top = x[1][:,0,:] # Take the first elemetn of the top row cause Bidirectional, top row goes backward.\n",
        "    x = tf.concat([bottom, top], axis = 1)\n",
        "    x = self.dropout2(x, training=training)\n",
        "    mu = self.mu(x)\n",
        "    s = self.scale(x)\n",
        "    dist = tfd.Normal(loc=mu, scale=s)\n",
        "    return dist\n",
        "\n",
        "\n",
        "def create_planner(layer_size=2048, training=True, epsilon=1e-4, latent_dim = 256):\n",
        "    # params #\n",
        "    batch_size = None\n",
        "\n",
        "    # Input #\n",
        "    o_i = Input(shape=(rsd.OBS_DIM), batch_size=batch_size, dtype=tf.float32, name='initial_obs') # has arm state\n",
        "    o_g = Input(shape=(rsd.GOAL_DIM), batch_size=batch_size, dtype=tf.float32, name='goal_obs') # does not have arm state\n",
        "\n",
        "    # Layers #\n",
        "    x = Concatenate()([o_i, o_g])\n",
        "    x = Masking(mask_value=0.)(x)\n",
        "    x = Dense(layer_size, activation=\"relu\", name='layer_1')(x)\n",
        "    x = Dense(layer_size, activation=\"relu\", name='layer_2')(x)\n",
        "    x = Dense(layer_size, activation=\"relu\", name='layer_3')(x)\n",
        "    x = Dense(layer_size, activation=\"relu\", name='layer_4')(x)\n",
        "\n",
        "    # Latent Variable # \n",
        "    mu = Dense(latent_dim, activation=None, name='mu')(x)\n",
        "    scale = Dense(latent_dim, activation=\"softplus\", name='sigma')(x + epsilon)\n",
        "\n",
        "    \n",
        "    mixture = tfpl.DistributionLambda(latent_normal,  name='latent_variable')((mu, scale))\n",
        "    return Model([o_i, o_g], [mixture,mu])"
      ],
      "execution_count": 61,
      "outputs": []
    },
    {
      "cell_type": "code",
      "metadata": {
        "id": "qH_3G31WYTNp",
        "colab_type": "code",
        "colab": {}
      },
      "source": [
        "def plot(BETA, steps,  train_act_with_plan_losses, losses, valid_steps, valid_losses, valid_act_with_enc_losses, reg_losses, valid_reg_losses):\n",
        "  print(f\"\\n With Beta {BETA}\")\n",
        "  plt.plot(steps[:len(train_act_with_plan_losses)], train_act_with_plan_losses)\n",
        "  plt.plot(valid_steps[:len(valid_losses)], valid_losses)\n",
        "  plt.plot(valid_steps[:len(valid_act_with_enc_losses)], valid_act_with_enc_losses)\n",
        "  plt.plot(steps[:len(losses)], losses)\n",
        "  plt.legend(['train_plan', 'valid_plan', 'valid_enc', 'train_enc'])\n",
        "  plt.show()\n",
        "      \n",
        "  plt.plot(steps, reg_losses)\n",
        "  plt.plot(valid_steps[:len(valid_reg_losses)], valid_reg_losses)\n",
        "  plt.legend(['train_kl', 'valid_kl'])\n",
        "  plt.show()\n"
      ],
      "execution_count": 77,
      "outputs": []
    },
    {
      "cell_type": "markdown",
      "metadata": {
        "pycharm": {
          "name": "#%% md\n"
        },
        "id": "TWIpRPRuv9E6",
        "colab_type": "text"
      },
      "source": [
        "# Training Loop"
      ]
    },
    {
      "cell_type": "code",
      "metadata": {
        "id": "-3r_TDl7v9E7",
        "colab_type": "code",
        "colab": {}
      },
      "source": [
        "from tensorflow.keras.losses import MeanSquaredError\n",
        "from tensorflow.keras.metrics import Accuracy\n",
        "from tensorflow.keras.optimizers import SGD, Adam\n",
        "from tensorflow.keras.utils import Progbar\n",
        "# from tensorflow.distribute import DistributedDataset\n",
        "KL = tfp.distributions.kl_divergence\n",
        "import time\n",
        "import tensorflow_addons as tfa\n"
      ],
      "execution_count": 78,
      "outputs": []
    },
    {
      "cell_type": "code",
      "metadata": {
        "id": "manfKNAvCVss",
        "colab_type": "code",
        "colab": {}
      },
      "source": [
        "# Explore regularising the encoder using info-VAE, while concurrently making the planner chase it"
      ],
      "execution_count": 79,
      "outputs": []
    },
    {
      "cell_type": "code",
      "metadata": {
        "id": "7vDui_2XGhZW",
        "colab_type": "code",
        "colab": {}
      },
      "source": [
        "\n",
        "LAYER_SIZE = 1024\n",
        "LATENT_DIM = LAYER_SIZE//8\n",
        "BETA = 0.1\n",
        "with strategy.scope():\n",
        "    # Keras .fit API\n",
        "  #loss_fn = lambda y, p_y: -p_y.log_prob(y)\n",
        "  action_loss = tf.keras.losses.MeanAbsoluteError(reduction=tf.keras.losses.Reduction.NONE)\n",
        "  \n",
        "\n",
        "  def compute_loss(labels, predictions, mask, seq_lens):\n",
        "      per_example_loss = action_loss(labels, predictions) * mask\n",
        "      per_example_loss = tf.reduce_sum(per_example_loss, axis = 1) / seq_lens # take mean along the timestep\n",
        "      return tf.nn.compute_average_loss(per_example_loss, global_batch_size=GLOBAL_BATCH_SIZE)\n",
        "\n",
        "  def compute_regularisation_loss(plan, encoding):\n",
        "      reg_loss = KL(plan, encoding) #+ KL(encoding, plan)\n",
        "      return tf.nn.compute_average_loss(reg_loss, global_batch_size=GLOBAL_BATCH_SIZE)\n",
        "\n",
        "  train_act_loss = tf.keras.metrics.Mean(name='act_loss')\n",
        "  valid_act_loss = tf.keras.metrics.Mean(name='valid_act_loss')\n",
        "\n",
        "  train_reg_loss = tf.keras.metrics.Mean(name='reg_loss')\n",
        "  valid_reg_loss = tf.keras.metrics.Mean(name='valid_reg_loss')\n",
        "\n",
        "  valid_act_with_enc_loss = tf.keras.metrics.Mean(name='valid_act_with_enc_loss')\n",
        "  train_act_with_plan_loss = tf.keras.metrics.Mean(name='train_act_with_plan_loss')\n",
        "\n",
        "  \n",
        "  model_params = {'layer_size':LAYER_SIZE, 'latent_dim':LATENT_DIM}\n",
        "  model = create_actor(**model_params)\n",
        "\n",
        "  model_params = {'layer_size':LAYER_SIZE, 'latent_dim':LATENT_DIM}\n",
        "  encoder = ENCODER_LSTM(latent_dim=LATENT_DIM)\n",
        "  planner = create_planner(**model_params)\n",
        "\n",
        "  optimizer = tfa.optimizers.AdamW(1e-4, 2e-4) #tf.keras.optimizers.Adam(2e-4)\n",
        "\n",
        "  checkpoint = tf.train.Checkpoint(optimizer=optimizer, model=model)\n",
        "\n",
        "def step(inputs, GCBC=False, training = False):\n",
        "  (states, goals, actions, mask, seq_lens) = inputs\n",
        "  if GCBC:\n",
        "    distrib = model((states, goals))\n",
        "    return  compute_loss(actions, distrib, mask, seq_lens), distrib\n",
        "  else:\n",
        "  \n",
        "    encoding = encoder(states, actions, training=training)\n",
        "    final_goals = goals[:, 0, :]\n",
        "    plan, _ = planner((states[:, 0, :], final_goals))  # the final goals are tiled out over the entire non masked sequence, so the first timestep is the final goal. \n",
        "    if training: # we must expand it out so each input state has a corresponding plan\n",
        "      z = tf.tile(tf.expand_dims(encoding.sample(), 1), (1, rsd.MAX_SEQ_LEN, 1))\n",
        "      distrib = model((states, z, goals))\n",
        "      z_plan = tf.tile(tf.expand_dims(plan.sample(), 1), (1, rsd.MAX_SEQ_LEN, 1))\n",
        "      plan_acts = model((states, z_plan, goals))\n",
        "      train_act_with_plan_loss.update_state(compute_loss(actions, plan_acts, mask, seq_lens))\n",
        "    \n",
        "    else:\n",
        "      # check if encoder is overfitting on validation\n",
        "      z_enc = z = tf.tile(tf.expand_dims(encoding.sample(), 1), (1, rsd.MAX_SEQ_LEN, 1))\n",
        "      enc_act_distrib = model((states, z_enc, goals))\n",
        "      valid_act_with_enc_loss.update_state(compute_loss(actions, enc_act_distrib, mask, seq_lens))\n",
        "\n",
        "      # true validation performance, w/ planner\n",
        "      z = tf.tile(tf.expand_dims(plan.sample(), 1), (1, rsd.MAX_SEQ_LEN, 1))\n",
        "      distrib = model((states, z, goals))\n",
        "      \n",
        "\n",
        "    action_loss = compute_loss(actions, distrib, mask, seq_lens)\n",
        "    \n",
        "    regularisation_loss = compute_regularisation_loss(plan, encoding)\n",
        "    \n",
        "    return action_loss, regularisation_loss\n",
        "\n",
        "\n",
        "# Now outside strategy .scope\n",
        "def train_step(inputs, GCBC = False):\n",
        "  with tf.GradientTape() as tape:\n",
        "    act_loss, reg_loss = step(inputs, GCBC = GCBC, training=True)\n",
        "    loss = act_loss + reg_loss  * BETA\n",
        "    \n",
        "  train_act_loss.update_state(act_loss)\n",
        "  train_reg_loss.update_state(reg_loss)\n",
        "  gradients = tape.gradient(loss, model.trainable_variables+encoder.trainable_variables+planner.trainable_variables)\n",
        "  optimizer.apply_gradients(zip(gradients, model.trainable_variables+encoder.trainable_variables+planner.trainable_variables))\n",
        "  \n",
        "  return loss\n",
        "\n",
        "def test_step(inputs, GCBC=False):\n",
        "  act_loss, reg_loss = step(inputs, GCBC = GCBC, training=False)\n",
        "  valid_act_loss.update_state(act_loss)\n",
        "  valid_reg_loss.update_state(reg_loss)\n",
        "  return act_loss + reg_loss  * BETA\n",
        "\n",
        "@tf.function\n",
        "def distributed_train_step(dataset_inputs):\n",
        "  per_replica_losses = strategy.run(train_step, args=(dataset_inputs,))\n",
        "  return strategy.reduce(tf.distribute.ReduceOp.SUM, per_replica_losses, axis = None)\n",
        "\n",
        "@tf.function\n",
        "def distributed_test_step(dataset_inputs):\n",
        "  per_replica_losses = strategy.run(test_step, args=(dataset_inputs,))\n",
        "  return strategy.reduce(tf.distribute.ReduceOp.SUM, per_replica_losses, axis = None)\n",
        "\n",
        "\n",
        "train_dist_dataset = iter(strategy.experimental_distribute_dataset(train_data.repeat(-1)))\n",
        "valid_dist_dataset = iter(strategy.experimental_distribute_dataset(valid_data.repeat(-1)))\n",
        "\n",
        "\n"
      ],
      "execution_count": 84,
      "outputs": []
    },
    {
      "cell_type": "code",
      "metadata": {
        "id": "-0KYxe0wsLj9",
        "colab_type": "code",
        "colab": {}
      },
      "source": [
        "def beta_schedule(steps, BETA_MIN=0.001, BETA_MAX=0.1, step_inc=100):\n",
        "  # so lets say every 1000 we want to go linearly between 0.001 and 0.1\n",
        "  steps = steps % step_inc\n",
        "  BETA = BETA_MIN + steps * (BETA_MAX-BETA_MIN)/step_inc\n",
        "  return BETA"
      ],
      "execution_count": 85,
      "outputs": []
    },
    {
      "cell_type": "code",
      "metadata": {
        "id": "rhSGD_2imWDi",
        "colab_type": "code",
        "colab": {}
      },
      "source": [
        "\n",
        "steps = []\n",
        "losses = []\n",
        "reg_losses  = []\n",
        "valid_losses = []\n",
        "valid_act_with_enc_losses = []\n",
        "train_act_with_plan_losses = []\n",
        "valid_steps = []\n",
        "valid_reg_losses = []\n",
        "n_steps = 24000\n",
        "progbar = Progbar(n_steps, verbose=1, interval=0.5)\n",
        "best_valid_loss = np.float('inf')\n",
        "\n",
        "valid_inc = 20\n",
        "t = 0"
      ],
      "execution_count": 86,
      "outputs": []
    },
    {
      "cell_type": "code",
      "metadata": {
        "id": "IXF0Y8aKrsng",
        "colab_type": "code",
        "colab": {
          "base_uri": "https://localhost:8080/",
          "height": 430
        },
        "outputId": "a471414b-b1f3-45bc-8283-a65c7dead9f8"
      },
      "source": [
        "\n",
        "# Repeat datasets indefinitely\n",
        "\n",
        "while t < n_steps:\n",
        "    #BETA = 0.1#beta_schedule(t)\n",
        "    x = next(train_dist_dataset)\n",
        "    distributed_train_step(x)\n",
        "    \n",
        "    if t % valid_inc == 0:\n",
        "        \n",
        "        valid_x = next(valid_dist_dataset)\n",
        "        distributed_test_step(valid_x)\n",
        "\n",
        "        # validation plotting\n",
        "        valid_steps.append(t)\n",
        "        valid_losses.append(valid_act_loss.result())\n",
        "        valid_reg_losses.append(valid_reg_loss.result())\n",
        "        valid_act_with_enc_losses.append(valid_act_with_enc_loss.result())\n",
        "        progbar.add(valid_inc, [('Validation Loss', valid_act_loss.result())])\n",
        "\n",
        "        # training plots (no need to do it all the time, leads to slow plotting)\n",
        "        steps.append(t)\n",
        "        losses.append(train_act_loss.result())\n",
        "        reg_losses.append(train_reg_loss.result())\n",
        "        train_act_with_plan_losses.append(train_act_with_plan_loss.result())\n",
        "        \n",
        "        # reset metrics\n",
        "        valid_act_loss.reset_states()\n",
        "        valid_reg_loss.reset_states()\n",
        "        train_act_loss.reset_states()\n",
        "        train_reg_loss.reset_states()\n",
        "        valid_act_with_enc_loss.reset_states()\n",
        "        train_act_with_plan_loss.reset_states()\n",
        "\n",
        "    t += 1\n",
        "\n",
        "plot(BETA, steps,  train_act_with_plan_losses, losses, valid_steps, valid_losses, valid_act_with_enc_losses, reg_losses, valid_reg_losses)"
      ],
      "execution_count": 87,
      "outputs": [
        {
          "output_type": "stream",
          "text": [
            "   80/24000 [..............................] - ETA: 4:48:43 - Validation Loss: 4.1147"
          ],
          "name": "stdout"
        },
        {
          "output_type": "error",
          "ename": "KeyboardInterrupt",
          "evalue": "ignored",
          "traceback": [
            "\u001b[0;31m---------------------------------------------------------------------------\u001b[0m",
            "\u001b[0;31mKeyboardInterrupt\u001b[0m                         Traceback (most recent call last)",
            "\u001b[0;32m<ipython-input-87-35a98f9704cd>\u001b[0m in \u001b[0;36m<module>\u001b[0;34m()\u001b[0m\n\u001b[1;32m      4\u001b[0m \u001b[0;32mwhile\u001b[0m \u001b[0mt\u001b[0m \u001b[0;34m<\u001b[0m \u001b[0mn_steps\u001b[0m\u001b[0;34m:\u001b[0m\u001b[0;34m\u001b[0m\u001b[0;34m\u001b[0m\u001b[0m\n\u001b[1;32m      5\u001b[0m     \u001b[0;31m#BETA = 0.1#beta_schedule(t)\u001b[0m\u001b[0;34m\u001b[0m\u001b[0;34m\u001b[0m\u001b[0;34m\u001b[0m\u001b[0m\n\u001b[0;32m----> 6\u001b[0;31m     \u001b[0mx\u001b[0m \u001b[0;34m=\u001b[0m \u001b[0mnext\u001b[0m\u001b[0;34m(\u001b[0m\u001b[0mtrain_dist_dataset\u001b[0m\u001b[0;34m)\u001b[0m\u001b[0;34m\u001b[0m\u001b[0;34m\u001b[0m\u001b[0m\n\u001b[0m\u001b[1;32m      7\u001b[0m     \u001b[0mdistributed_train_step\u001b[0m\u001b[0;34m(\u001b[0m\u001b[0mx\u001b[0m\u001b[0;34m)\u001b[0m\u001b[0;34m\u001b[0m\u001b[0;34m\u001b[0m\u001b[0m\n\u001b[1;32m      8\u001b[0m \u001b[0;34m\u001b[0m\u001b[0m\n",
            "\u001b[0;32m/usr/local/lib/python3.6/dist-packages/tensorflow/python/distribute/input_lib.py\u001b[0m in \u001b[0;36m__next__\u001b[0;34m(self)\u001b[0m\n\u001b[1;32m    647\u001b[0m   \u001b[0;32mdef\u001b[0m \u001b[0m__next__\u001b[0m\u001b[0;34m(\u001b[0m\u001b[0mself\u001b[0m\u001b[0;34m)\u001b[0m\u001b[0;34m:\u001b[0m\u001b[0;34m\u001b[0m\u001b[0;34m\u001b[0m\u001b[0m\n\u001b[1;32m    648\u001b[0m     \u001b[0;32mtry\u001b[0m\u001b[0;34m:\u001b[0m\u001b[0;34m\u001b[0m\u001b[0;34m\u001b[0m\u001b[0m\n\u001b[0;32m--> 649\u001b[0;31m       \u001b[0;32mreturn\u001b[0m \u001b[0mself\u001b[0m\u001b[0;34m.\u001b[0m\u001b[0mget_next\u001b[0m\u001b[0;34m(\u001b[0m\u001b[0;34m)\u001b[0m\u001b[0;34m\u001b[0m\u001b[0;34m\u001b[0m\u001b[0m\n\u001b[0m\u001b[1;32m    650\u001b[0m     \u001b[0;32mexcept\u001b[0m \u001b[0merrors\u001b[0m\u001b[0;34m.\u001b[0m\u001b[0mOutOfRangeError\u001b[0m\u001b[0;34m:\u001b[0m\u001b[0;34m\u001b[0m\u001b[0;34m\u001b[0m\u001b[0m\n\u001b[1;32m    651\u001b[0m       \u001b[0;32mraise\u001b[0m \u001b[0mStopIteration\u001b[0m\u001b[0;34m\u001b[0m\u001b[0;34m\u001b[0m\u001b[0m\n",
            "\u001b[0;32m/usr/local/lib/python3.6/dist-packages/tensorflow/python/distribute/input_lib.py\u001b[0m in \u001b[0;36mget_next\u001b[0;34m(self, name)\u001b[0m\n\u001b[1;32m    692\u001b[0m           \u001b[0;31m# Make `replicas` a flat list of values across all replicas.\u001b[0m\u001b[0;34m\u001b[0m\u001b[0;34m\u001b[0m\u001b[0;34m\u001b[0m\u001b[0m\n\u001b[1;32m    693\u001b[0m           replicas.extend(\n\u001b[0;32m--> 694\u001b[0;31m               self._iterators[i].get_next_as_list_static_shapes(new_name))\n\u001b[0m\u001b[1;32m    695\u001b[0m       \u001b[0;32mreturn\u001b[0m \u001b[0mdistribute_utils\u001b[0m\u001b[0;34m.\u001b[0m\u001b[0mregroup\u001b[0m\u001b[0;34m(\u001b[0m\u001b[0mreplicas\u001b[0m\u001b[0;34m)\u001b[0m\u001b[0;34m\u001b[0m\u001b[0;34m\u001b[0m\u001b[0m\n\u001b[1;32m    696\u001b[0m \u001b[0;34m\u001b[0m\u001b[0m\n",
            "\u001b[0;32m/usr/local/lib/python3.6/dist-packages/tensorflow/python/distribute/input_lib.py\u001b[0m in \u001b[0;36mget_next_as_list_static_shapes\u001b[0;34m(***failed resolving arguments***)\u001b[0m\n\u001b[1;32m   1472\u001b[0m     \u001b[0;32mdel\u001b[0m \u001b[0mname\u001b[0m\u001b[0;34m\u001b[0m\u001b[0;34m\u001b[0m\u001b[0m\n\u001b[1;32m   1473\u001b[0m     \u001b[0;32mwith\u001b[0m \u001b[0mops\u001b[0m\u001b[0;34m.\u001b[0m\u001b[0mdevice\u001b[0m\u001b[0;34m(\u001b[0m\u001b[0mself\u001b[0m\u001b[0;34m.\u001b[0m\u001b[0m_worker\u001b[0m\u001b[0;34m)\u001b[0m\u001b[0;34m:\u001b[0m\u001b[0;34m\u001b[0m\u001b[0;34m\u001b[0m\u001b[0m\n\u001b[0;32m-> 1474\u001b[0;31m       \u001b[0;32mreturn\u001b[0m \u001b[0mself\u001b[0m\u001b[0;34m.\u001b[0m\u001b[0m_iterator\u001b[0m\u001b[0;34m.\u001b[0m\u001b[0mget_next\u001b[0m\u001b[0;34m(\u001b[0m\u001b[0;34m)\u001b[0m\u001b[0;34m\u001b[0m\u001b[0;34m\u001b[0m\u001b[0m\n\u001b[0m\u001b[1;32m   1475\u001b[0m \u001b[0;34m\u001b[0m\u001b[0m\n\u001b[1;32m   1476\u001b[0m   \u001b[0;32mdef\u001b[0m \u001b[0mget_next_as_list\u001b[0m\u001b[0;34m(\u001b[0m\u001b[0mself\u001b[0m\u001b[0;34m,\u001b[0m \u001b[0mname\u001b[0m\u001b[0;34m=\u001b[0m\u001b[0;32mNone\u001b[0m\u001b[0;34m)\u001b[0m\u001b[0;34m:\u001b[0m\u001b[0;34m\u001b[0m\u001b[0;34m\u001b[0m\u001b[0m\n",
            "\u001b[0;32m/usr/local/lib/python3.6/dist-packages/tensorflow/python/data/ops/multi_device_iterator_ops.py\u001b[0m in \u001b[0;36mget_next\u001b[0;34m(self, device)\u001b[0m\n\u001b[1;32m    579\u001b[0m     \u001b[0;32mfor\u001b[0m \u001b[0mi\u001b[0m\u001b[0;34m,\u001b[0m \u001b[0mdevice\u001b[0m \u001b[0;32min\u001b[0m \u001b[0menumerate\u001b[0m\u001b[0;34m(\u001b[0m\u001b[0mself\u001b[0m\u001b[0;34m.\u001b[0m\u001b[0m_devices\u001b[0m\u001b[0;34m)\u001b[0m\u001b[0;34m:\u001b[0m\u001b[0;34m\u001b[0m\u001b[0;34m\u001b[0m\u001b[0m\n\u001b[1;32m    580\u001b[0m       \u001b[0;32mwith\u001b[0m \u001b[0mops\u001b[0m\u001b[0;34m.\u001b[0m\u001b[0mdevice\u001b[0m\u001b[0;34m(\u001b[0m\u001b[0mdevice\u001b[0m\u001b[0;34m)\u001b[0m\u001b[0;34m:\u001b[0m\u001b[0;34m\u001b[0m\u001b[0;34m\u001b[0m\u001b[0m\n\u001b[0;32m--> 581\u001b[0;31m         \u001b[0mresult\u001b[0m\u001b[0;34m.\u001b[0m\u001b[0mappend\u001b[0m\u001b[0;34m(\u001b[0m\u001b[0mself\u001b[0m\u001b[0;34m.\u001b[0m\u001b[0m_device_iterators\u001b[0m\u001b[0;34m[\u001b[0m\u001b[0mi\u001b[0m\u001b[0;34m]\u001b[0m\u001b[0;34m.\u001b[0m\u001b[0mget_next\u001b[0m\u001b[0;34m(\u001b[0m\u001b[0;34m)\u001b[0m\u001b[0;34m)\u001b[0m\u001b[0;34m\u001b[0m\u001b[0;34m\u001b[0m\u001b[0m\n\u001b[0m\u001b[1;32m    582\u001b[0m     \u001b[0;32mreturn\u001b[0m \u001b[0mresult\u001b[0m\u001b[0;34m\u001b[0m\u001b[0;34m\u001b[0m\u001b[0m\n\u001b[1;32m    583\u001b[0m \u001b[0;34m\u001b[0m\u001b[0m\n",
            "\u001b[0;32m/usr/local/lib/python3.6/dist-packages/tensorflow/python/data/ops/iterator_ops.py\u001b[0m in \u001b[0;36mget_next\u001b[0;34m(self)\u001b[0m\n\u001b[1;32m    823\u001b[0m \u001b[0;34m\u001b[0m\u001b[0m\n\u001b[1;32m    824\u001b[0m   \u001b[0;32mdef\u001b[0m \u001b[0mget_next\u001b[0m\u001b[0;34m(\u001b[0m\u001b[0mself\u001b[0m\u001b[0;34m)\u001b[0m\u001b[0;34m:\u001b[0m\u001b[0;34m\u001b[0m\u001b[0;34m\u001b[0m\u001b[0m\n\u001b[0;32m--> 825\u001b[0;31m     \u001b[0;32mreturn\u001b[0m \u001b[0mself\u001b[0m\u001b[0;34m.\u001b[0m\u001b[0m_next_internal\u001b[0m\u001b[0;34m(\u001b[0m\u001b[0;34m)\u001b[0m\u001b[0;34m\u001b[0m\u001b[0;34m\u001b[0m\u001b[0m\n\u001b[0m\u001b[1;32m    826\u001b[0m \u001b[0;34m\u001b[0m\u001b[0m\n\u001b[1;32m    827\u001b[0m   \u001b[0;32mdef\u001b[0m \u001b[0mget_next_as_optional\u001b[0m\u001b[0;34m(\u001b[0m\u001b[0mself\u001b[0m\u001b[0;34m)\u001b[0m\u001b[0;34m:\u001b[0m\u001b[0;34m\u001b[0m\u001b[0;34m\u001b[0m\u001b[0m\n",
            "\u001b[0;32m/usr/local/lib/python3.6/dist-packages/tensorflow/python/data/ops/iterator_ops.py\u001b[0m in \u001b[0;36m_next_internal\u001b[0;34m(self)\u001b[0m\n\u001b[1;32m    748\u001b[0m     \u001b[0;31m# that there is no more data to iterate over.\u001b[0m\u001b[0;34m\u001b[0m\u001b[0;34m\u001b[0m\u001b[0;34m\u001b[0m\u001b[0m\n\u001b[1;32m    749\u001b[0m     \u001b[0;31m# TODO(b/77291417): Fix\u001b[0m\u001b[0;34m\u001b[0m\u001b[0;34m\u001b[0m\u001b[0;34m\u001b[0m\u001b[0m\n\u001b[0;32m--> 750\u001b[0;31m     \u001b[0;32mwith\u001b[0m \u001b[0mcontext\u001b[0m\u001b[0;34m.\u001b[0m\u001b[0mexecution_mode\u001b[0m\u001b[0;34m(\u001b[0m\u001b[0mcontext\u001b[0m\u001b[0;34m.\u001b[0m\u001b[0mSYNC\u001b[0m\u001b[0;34m)\u001b[0m\u001b[0;34m:\u001b[0m\u001b[0;34m\u001b[0m\u001b[0;34m\u001b[0m\u001b[0m\n\u001b[0m\u001b[1;32m    751\u001b[0m       \u001b[0;32mwith\u001b[0m \u001b[0mops\u001b[0m\u001b[0;34m.\u001b[0m\u001b[0mdevice\u001b[0m\u001b[0;34m(\u001b[0m\u001b[0mself\u001b[0m\u001b[0;34m.\u001b[0m\u001b[0m_device\u001b[0m\u001b[0;34m)\u001b[0m\u001b[0;34m:\u001b[0m\u001b[0;34m\u001b[0m\u001b[0;34m\u001b[0m\u001b[0m\n\u001b[1;32m    752\u001b[0m         \u001b[0;31m# TODO(ashankar): Consider removing this ops.device() context manager\u001b[0m\u001b[0;34m\u001b[0m\u001b[0;34m\u001b[0m\u001b[0;34m\u001b[0m\u001b[0m\n",
            "\u001b[0;32m/usr/lib/python3.6/contextlib.py\u001b[0m in \u001b[0;36m__enter__\u001b[0;34m(self)\u001b[0m\n\u001b[1;32m     79\u001b[0m     \u001b[0;32mdef\u001b[0m \u001b[0m__enter__\u001b[0m\u001b[0;34m(\u001b[0m\u001b[0mself\u001b[0m\u001b[0;34m)\u001b[0m\u001b[0;34m:\u001b[0m\u001b[0;34m\u001b[0m\u001b[0;34m\u001b[0m\u001b[0m\n\u001b[1;32m     80\u001b[0m         \u001b[0;32mtry\u001b[0m\u001b[0;34m:\u001b[0m\u001b[0;34m\u001b[0m\u001b[0;34m\u001b[0m\u001b[0m\n\u001b[0;32m---> 81\u001b[0;31m             \u001b[0;32mreturn\u001b[0m \u001b[0mnext\u001b[0m\u001b[0;34m(\u001b[0m\u001b[0mself\u001b[0m\u001b[0;34m.\u001b[0m\u001b[0mgen\u001b[0m\u001b[0;34m)\u001b[0m\u001b[0;34m\u001b[0m\u001b[0;34m\u001b[0m\u001b[0m\n\u001b[0m\u001b[1;32m     82\u001b[0m         \u001b[0;32mexcept\u001b[0m \u001b[0mStopIteration\u001b[0m\u001b[0;34m:\u001b[0m\u001b[0;34m\u001b[0m\u001b[0;34m\u001b[0m\u001b[0m\n\u001b[1;32m     83\u001b[0m             \u001b[0;32mraise\u001b[0m \u001b[0mRuntimeError\u001b[0m\u001b[0;34m(\u001b[0m\u001b[0;34m\"generator didn't yield\"\u001b[0m\u001b[0;34m)\u001b[0m \u001b[0;32mfrom\u001b[0m \u001b[0;32mNone\u001b[0m\u001b[0;34m\u001b[0m\u001b[0;34m\u001b[0m\u001b[0m\n",
            "\u001b[0;32m/usr/local/lib/python3.6/dist-packages/tensorflow/python/eager/context.py\u001b[0m in \u001b[0;36mexecution_mode\u001b[0;34m(mode)\u001b[0m\n\u001b[1;32m   2098\u001b[0m     \u001b[0mexecutor_old\u001b[0m \u001b[0;34m=\u001b[0m \u001b[0mctx\u001b[0m\u001b[0;34m.\u001b[0m\u001b[0mexecutor\u001b[0m\u001b[0;34m\u001b[0m\u001b[0;34m\u001b[0m\u001b[0m\n\u001b[1;32m   2099\u001b[0m     \u001b[0;32mtry\u001b[0m\u001b[0;34m:\u001b[0m\u001b[0;34m\u001b[0m\u001b[0;34m\u001b[0m\u001b[0m\n\u001b[0;32m-> 2100\u001b[0;31m       \u001b[0mexecutor_old\u001b[0m\u001b[0;34m.\u001b[0m\u001b[0mwait\u001b[0m\u001b[0;34m(\u001b[0m\u001b[0;34m)\u001b[0m\u001b[0;34m\u001b[0m\u001b[0;34m\u001b[0m\u001b[0m\n\u001b[0m\u001b[1;32m   2101\u001b[0m       \u001b[0mctx\u001b[0m\u001b[0;34m.\u001b[0m\u001b[0mexecutor\u001b[0m \u001b[0;34m=\u001b[0m \u001b[0mexecutor_new\u001b[0m\u001b[0;34m\u001b[0m\u001b[0;34m\u001b[0m\u001b[0m\n\u001b[1;32m   2102\u001b[0m       \u001b[0;32myield\u001b[0m\u001b[0;34m\u001b[0m\u001b[0;34m\u001b[0m\u001b[0m\n",
            "\u001b[0;32m/usr/local/lib/python3.6/dist-packages/tensorflow/python/eager/executor.py\u001b[0m in \u001b[0;36mwait\u001b[0;34m(self)\u001b[0m\n\u001b[1;32m     65\u001b[0m   \u001b[0;32mdef\u001b[0m \u001b[0mwait\u001b[0m\u001b[0;34m(\u001b[0m\u001b[0mself\u001b[0m\u001b[0;34m)\u001b[0m\u001b[0;34m:\u001b[0m\u001b[0;34m\u001b[0m\u001b[0;34m\u001b[0m\u001b[0m\n\u001b[1;32m     66\u001b[0m     \u001b[0;34m\"\"\"Waits for ops dispatched in this executor to finish.\"\"\"\u001b[0m\u001b[0;34m\u001b[0m\u001b[0;34m\u001b[0m\u001b[0m\n\u001b[0;32m---> 67\u001b[0;31m     \u001b[0mpywrap_tfe\u001b[0m\u001b[0;34m.\u001b[0m\u001b[0mTFE_ExecutorWaitForAllPendingNodes\u001b[0m\u001b[0;34m(\u001b[0m\u001b[0mself\u001b[0m\u001b[0;34m.\u001b[0m\u001b[0m_handle\u001b[0m\u001b[0;34m)\u001b[0m\u001b[0;34m\u001b[0m\u001b[0;34m\u001b[0m\u001b[0m\n\u001b[0m\u001b[1;32m     68\u001b[0m \u001b[0;34m\u001b[0m\u001b[0m\n\u001b[1;32m     69\u001b[0m   \u001b[0;32mdef\u001b[0m \u001b[0mclear_error\u001b[0m\u001b[0;34m(\u001b[0m\u001b[0mself\u001b[0m\u001b[0;34m)\u001b[0m\u001b[0;34m:\u001b[0m\u001b[0;34m\u001b[0m\u001b[0;34m\u001b[0m\u001b[0m\n",
            "\u001b[0;31mKeyboardInterrupt\u001b[0m: "
          ]
        }
      ]
    },
    {
      "cell_type": "code",
      "metadata": {
        "id": "a75ymuGP5dwc",
        "colab_type": "code",
        "colab": {}
      },
      "source": [
        ""
      ],
      "execution_count": null,
      "outputs": []
    },
    {
      "cell_type": "code",
      "metadata": {
        "id": "1iMuw0GHGQM3",
        "colab_type": "code",
        "colab": {
          "base_uri": "https://localhost:8080/",
          "height": 551
        },
        "outputId": "81c985c9-ff47-4fc0-b95d-3d26ef48147a"
      },
      "source": [
        "    \n",
        "plot(BETA, steps,  train_act_with_plan_losses, losses, valid_steps, valid_losses, valid_act_with_enc_losses, reg_losses, valid_reg_losses)"
      ],
      "execution_count": 68,
      "outputs": [
        {
          "output_type": "stream",
          "text": [
            "\n",
            " With Beta 0.1\n"
          ],
          "name": "stdout"
        },
        {
          "output_type": "display_data",
          "data": {
            "image/png": "[encoded data removed]",
            "text/plain": [
              "<Figure size 432x288 with 1 Axes>"
            ]
          },
          "metadata": {
            "tags": [],
            "needs_background": "light"
          }
        },
        {
          "output_type": "display_data",
          "data": {
            "image/png": "[encoded data removed]",
            "text/plain": [
              "<Figure size 432x288 with 1 Axes>"
            ]
          },
          "metadata": {
            "tags": [],
            "needs_background": "light"
          }
        }
      ]
    },
    {
      "cell_type": "code",
      "metadata": {
        "id": "-Cs00c5NE6VW",
        "colab_type": "code",
        "cellView": "both",
        "colab": {}
      },
      "source": [
        "#@title Sample a batch for timeseries plotting\n",
        "# Lets plot pred actions vs true actions\n",
        "v_it = iter(valid_data.repeat(-1))\n",
        "states,goals,acts,masks, seq_lens = v_it.next()\n",
        "encoding = encoder(states,acts)\n",
        "plan, _ = planner((states[:, 0, :], goals[:, 0, :])) # TODO this is really aggravating, if we have variable sequence lengths we need to pass\n",
        "                                                      # Through the indices of the final index, can't just use the last 1, unless we copy it out instead of tiling?\n",
        "# check if encoder is overfitting on validation\n",
        "z_enc = z = tf.tile(tf.expand_dims(encoding.sample(), 1), (1, rsd.MAX_SEQ_LEN, 1))\n",
        "enc_act_distrib = model(states, z_enc, goals)\n",
        "\n",
        "# true validation performance, w/ planner\n",
        "z = tf.tile(tf.expand_dims(plan.sample(), 1), (1, rsd.MAX_SEQ_LEN, 1))\n",
        "pred_acts = model(states, z, goals) # TODO Check can you backprop through samples\n",
        "\n"
      ],
      "execution_count": 69,
      "outputs": []
    },
    {
      "cell_type": "code",
      "metadata": {
        "id": "ERW0YID3FykT",
        "colab_type": "code",
        "cellView": "both",
        "colab": {
          "base_uri": "https://localhost:8080/",
          "height": 977
        },
        "outputId": "0c0bd18d-5f99-47ce-d25c-91f06124b668"
      },
      "source": [
        "#@title Plot timeseries of state/action tracking over time - xyz q1234 gripper\n",
        "idx = 4\n",
        "length = int(seq_lens[idx])\n",
        "actions_space = acts.shape[2]\n",
        "x = np.linspace(0, length, num=length) \n",
        "for i in range(0,actions_space):\n",
        "    fig, axes = plt.subplots(1, 1, figsize=(8,1.5), squeeze=False)\n",
        "    # One Model\n",
        "    true = axes[0,0].plot(x,acts[idx, :int(seq_lens[idx]),i],'r')\n",
        "    predicted = axes[0,0].plot(x,pred_acts[idx, :int(seq_lens[idx]),i], 'b')\n",
        "    enc_predicted = axes[0,0].plot(x,enc_act_distrib[idx, :int(seq_lens[idx]),i], 'g')\n",
        "\n",
        "    \n",
        "    fig.legend( ('true action', 'predicted action', 'encoder_action'))\n",
        "    \n",
        "    \n",
        "    plt.show()"
      ],
      "execution_count": 73,
      "outputs": [
        {
          "output_type": "display_data",
          "data": {
            "image/png": "[encoded data removed]",
            "text/plain": [
              "<Figure size 576x108 with 1 Axes>"
            ]
          },
          "metadata": {
            "tags": [],
            "needs_background": "light"
          }
        },
        {
          "output_type": "display_data",
          "data": {
            "image/png": "[encoded data removed]",
            "text/plain": [
              "<Figure size 576x108 with 1 Axes>"
            ]
          },
          "metadata": {
            "tags": [],
            "needs_background": "light"
          }
        },
        {
          "output_type": "display_data",
          "data": {
            "image/png": "[encoded data removed]",
            "text/plain": [
              "<Figure size 576x108 with 1 Axes>"
            ]
          },
          "metadata": {
            "tags": [],
            "needs_background": "light"
          }
        },
        {
          "output_type": "display_data",
          "data": {
            "image/png": "[encoded data removed]",
            "text/plain": [
              "<Figure size 576x108 with 1 Axes>"
            ]
          },
          "metadata": {
            "tags": [],
            "needs_background": "light"
          }
        },
        {
          "output_type": "display_data",
          "data": {
            "image/png": "[encoded data removed]",
            "text/plain": [
              "<Figure size 576x108 with 1 Axes>"
            ]
          },
          "metadata": {
            "tags": [],
            "needs_background": "light"
          }
        },
        {
          "output_type": "display_data",
          "data": {
            "image/png": "[encoded data removed]",
            "text/plain": [
              "<Figure size 576x108 with 1 Axes>"
            ]
          },
          "metadata": {
            "tags": [],
            "needs_background": "light"
          }
        },
        {
          "output_type": "display_data",
          "data": {
            "image/png": "[encoded data removed]",
            "text/plain": [
              "<Figure size 576x108 with 1 Axes>"
            ]
          },
          "metadata": {
            "tags": [],
            "needs_background": "light"
          }
        },
        {
          "output_type": "display_data",
          "data": {
            "image/png": "[encoded data removed]",
            "text/plain": [
              "<Figure size 576x108 with 1 Axes>"
            ]
          },
          "metadata": {
            "tags": [],
            "needs_background": "light"
          }
        }
      ]
    },
    {
      "cell_type": "code",
      "metadata": {
        "id": "qF5FlPs47-Cq",
        "colab_type": "code",
        "colab": {}
      },
      "source": [
        "def save_weights():\n",
        "    path = '/content/drive/My Drive/Robotic Learning/LMP_test/'\n",
        "    try:\n",
        "      os.makedirs(path)\n",
        "    except:\n",
        "      pass\n",
        "\n",
        "    model.save_weights(path + 'model.h5')\n",
        "    planner.save_weights(path + 'planner.h5')\n",
        "    encoder.save_weights(path + 'encoder.h5')\n",
        "\n",
        "save_weights()"
      ],
      "execution_count": null,
      "outputs": []
    },
    {
      "cell_type": "code",
      "metadata": {
        "id": "zw45BZor7yOk",
        "colab_type": "code",
        "colab": {}
      },
      "source": [
        ""
      ],
      "execution_count": null,
      "outputs": []
    },
    {
      "cell_type": "code",
      "metadata": {
        "id": "pqCkaAPn7yTe",
        "colab_type": "code",
        "colab": {}
      },
      "source": [
        ""
      ],
      "execution_count": null,
      "outputs": []
    },
    {
      "cell_type": "code",
      "metadata": {
        "id": "sOt_lZl97ya9",
        "colab_type": "code",
        "colab": {}
      },
      "source": [
        ""
      ],
      "execution_count": null,
      "outputs": []
    },
    {
      "cell_type": "code",
      "metadata": {
        "id": "1q0geldk7ye5",
        "colab_type": "code",
        "colab": {}
      },
      "source": [
        ""
      ],
      "execution_count": null,
      "outputs": []
    },
    {
      "cell_type": "code",
      "metadata": {
        "id": "bghGE5627yZF",
        "colab_type": "code",
        "colab": {}
      },
      "source": [
        ""
      ],
      "execution_count": null,
      "outputs": []
    },
    {
      "cell_type": "code",
      "metadata": {
        "id": "dWlfKfts7yW3",
        "colab_type": "code",
        "colab": {}
      },
      "source": [
        ""
      ],
      "execution_count": null,
      "outputs": []
    },
    {
      "cell_type": "code",
      "metadata": {
        "id": "VHcVsFGH7yRl",
        "colab_type": "code",
        "colab": {}
      },
      "source": [
        ""
      ],
      "execution_count": null,
      "outputs": []
    },
    {
      "cell_type": "code",
      "metadata": {
        "id": "8FYLWxjd7yMJ",
        "colab_type": "code",
        "colab": {}
      },
      "source": [
        ""
      ],
      "execution_count": null,
      "outputs": []
    },
    {
      "cell_type": "code",
      "metadata": {
        "id": "5WUniJtT25Rb",
        "colab_type": "code",
        "cellView": "form",
        "colab": {}
      },
      "source": [
        "#@title Explore MMD INFOVAE reg for encoder, with planner chasing it.\n",
        "\n"
      ],
      "execution_count": null,
      "outputs": []
    },
    {
      "cell_type": "code",
      "metadata": {
        "id": "XQ3Q5deR7Dmw",
        "colab_type": "code",
        "colab": {
          "base_uri": "https://localhost:8080/",
          "height": 33
        },
        "outputId": "5d94c23a-9748-410b-d8f7-b15508b77d6c"
      },
      "source": [
        ""
      ],
      "execution_count": null,
      "outputs": [
        {
          "output_type": "execute_result",
          "data": {
            "text/plain": [
              "<tfp.distributions.Normal 'Normal' batch_shape=[] event_shape=[] dtype=float32>"
            ]
          },
          "metadata": {
            "tags": []
          },
          "execution_count": 68
        }
      ]
    },
    {
      "cell_type": "code",
      "metadata": {
        "id": "KdapR5ID5VOZ",
        "colab_type": "code",
        "colab": {
          "base_uri": "https://localhost:8080/",
          "height": 836
        },
        "outputId": "b0faafb4-4bca-420d-b149-d27fc8e52e68"
      },
      "source": [
        "def compute_kernel(x, y):\n",
        "  x_size = tf.shape(x)[0]\n",
        "  y_size = tf.shape(y)[0]\n",
        "  dim = tf.shape(x)[1]\n",
        "  tiled_x = tf.tile(tf.reshape(x, tf.stack([x_size, 1, dim])), tf.stack([1, y_size, 1]))\n",
        "  print(tiled_x, x, y)\n",
        "  tiled_y = tf.tile(tf.reshape(y, tf.stack([1, y_size, dim])), tf.stack([x_size, 1, 1]))\n",
        "  print(tiled_x.shape, tiled_y.shape)\n",
        "  return tf.exp(-tf.reduce_mean(tf.square(tiled_x - tiled_y), axis=2) / tf.cast(dim, tf.float32))\n",
        "\n",
        "def compute_mmd(x, y, sigma_sqr=2.0/LATENT_DIM):\n",
        "  x_kernel = compute_kernel(x, x)\n",
        "  y_kernel = compute_kernel(y, y)\n",
        "  xy_kernel = compute_kernel(x, y)\n",
        "  return tf.reduce_mean(x_kernel) + tf.reduce_mean(y_kernel) - 2 * tf.reduce_mean(xy_kernel)\n",
        "\n",
        "true_samples = tfd.Normal([0.1,0.1,0.1], [1,1,1])\n",
        "encoding = tfd.Normal([0.1,0.1,0.1], [1,1,1])\n",
        "loss_mmd = compute_mmd(true_samples.sample(), encoding.sample())\n"
      ],
      "execution_count": null,
      "outputs": [
        {
          "output_type": "error",
          "ename": "InvalidArgumentError",
          "evalue": "ignored",
          "traceback": [
            "\u001b[0;31m---------------------------------------------------------------------------\u001b[0m",
            "\u001b[0;31mInvalidArgumentError\u001b[0m                      Traceback (most recent call last)",
            "\u001b[0;32m<ipython-input-73-111fb725ec63>\u001b[0m in \u001b[0;36m<module>\u001b[0;34m()\u001b[0m\n\u001b[1;32m     17\u001b[0m \u001b[0mtrue_samples\u001b[0m \u001b[0;34m=\u001b[0m \u001b[0mtfd\u001b[0m\u001b[0;34m.\u001b[0m\u001b[0mNormal\u001b[0m\u001b[0;34m(\u001b[0m\u001b[0;34m[\u001b[0m\u001b[0;36m0.1\u001b[0m\u001b[0;34m,\u001b[0m\u001b[0;36m0.1\u001b[0m\u001b[0;34m,\u001b[0m\u001b[0;36m0.1\u001b[0m\u001b[0;34m]\u001b[0m\u001b[0;34m,\u001b[0m \u001b[0;34m[\u001b[0m\u001b[0;36m1\u001b[0m\u001b[0;34m,\u001b[0m\u001b[0;36m1\u001b[0m\u001b[0;34m,\u001b[0m\u001b[0;36m1\u001b[0m\u001b[0;34m]\u001b[0m\u001b[0;34m)\u001b[0m\u001b[0;34m\u001b[0m\u001b[0;34m\u001b[0m\u001b[0m\n\u001b[1;32m     18\u001b[0m \u001b[0mencoding\u001b[0m \u001b[0;34m=\u001b[0m \u001b[0mtfd\u001b[0m\u001b[0;34m.\u001b[0m\u001b[0mNormal\u001b[0m\u001b[0;34m(\u001b[0m\u001b[0;34m[\u001b[0m\u001b[0;36m0.1\u001b[0m\u001b[0;34m,\u001b[0m\u001b[0;36m0.1\u001b[0m\u001b[0;34m,\u001b[0m\u001b[0;36m0.1\u001b[0m\u001b[0;34m]\u001b[0m\u001b[0;34m,\u001b[0m \u001b[0;34m[\u001b[0m\u001b[0;36m1\u001b[0m\u001b[0;34m,\u001b[0m\u001b[0;36m1\u001b[0m\u001b[0;34m,\u001b[0m\u001b[0;36m1\u001b[0m\u001b[0;34m]\u001b[0m\u001b[0;34m)\u001b[0m\u001b[0;34m\u001b[0m\u001b[0;34m\u001b[0m\u001b[0m\n\u001b[0;32m---> 19\u001b[0;31m \u001b[0mloss_mmd\u001b[0m \u001b[0;34m=\u001b[0m \u001b[0mcompute_mmd\u001b[0m\u001b[0;34m(\u001b[0m\u001b[0mtrue_samples\u001b[0m\u001b[0;34m.\u001b[0m\u001b[0msample\u001b[0m\u001b[0;34m(\u001b[0m\u001b[0;34m)\u001b[0m\u001b[0;34m,\u001b[0m \u001b[0mencoding\u001b[0m\u001b[0;34m.\u001b[0m\u001b[0msample\u001b[0m\u001b[0;34m(\u001b[0m\u001b[0;34m)\u001b[0m\u001b[0;34m)\u001b[0m\u001b[0;34m\u001b[0m\u001b[0;34m\u001b[0m\u001b[0m\n\u001b[0m",
            "\u001b[0;32m<ipython-input-73-111fb725ec63>\u001b[0m in \u001b[0;36mcompute_mmd\u001b[0;34m(x, y, sigma_sqr)\u001b[0m\n\u001b[1;32m     10\u001b[0m \u001b[0;34m\u001b[0m\u001b[0m\n\u001b[1;32m     11\u001b[0m \u001b[0;32mdef\u001b[0m \u001b[0mcompute_mmd\u001b[0m\u001b[0;34m(\u001b[0m\u001b[0mx\u001b[0m\u001b[0;34m,\u001b[0m \u001b[0my\u001b[0m\u001b[0;34m,\u001b[0m \u001b[0msigma_sqr\u001b[0m\u001b[0;34m=\u001b[0m\u001b[0;36m2.0\u001b[0m\u001b[0;34m/\u001b[0m\u001b[0mLATENT_DIM\u001b[0m\u001b[0;34m)\u001b[0m\u001b[0;34m:\u001b[0m\u001b[0;34m\u001b[0m\u001b[0;34m\u001b[0m\u001b[0m\n\u001b[0;32m---> 12\u001b[0;31m   \u001b[0mx_kernel\u001b[0m \u001b[0;34m=\u001b[0m \u001b[0mcompute_kernel\u001b[0m\u001b[0;34m(\u001b[0m\u001b[0mx\u001b[0m\u001b[0;34m,\u001b[0m \u001b[0mx\u001b[0m\u001b[0;34m)\u001b[0m\u001b[0;34m\u001b[0m\u001b[0;34m\u001b[0m\u001b[0m\n\u001b[0m\u001b[1;32m     13\u001b[0m   \u001b[0my_kernel\u001b[0m \u001b[0;34m=\u001b[0m \u001b[0mcompute_kernel\u001b[0m\u001b[0;34m(\u001b[0m\u001b[0my\u001b[0m\u001b[0;34m,\u001b[0m \u001b[0my\u001b[0m\u001b[0;34m)\u001b[0m\u001b[0;34m\u001b[0m\u001b[0;34m\u001b[0m\u001b[0m\n\u001b[1;32m     14\u001b[0m   \u001b[0mxy_kernel\u001b[0m \u001b[0;34m=\u001b[0m \u001b[0mcompute_kernel\u001b[0m\u001b[0;34m(\u001b[0m\u001b[0mx\u001b[0m\u001b[0;34m,\u001b[0m \u001b[0my\u001b[0m\u001b[0;34m)\u001b[0m\u001b[0;34m\u001b[0m\u001b[0;34m\u001b[0m\u001b[0m\n",
            "\u001b[0;32m<ipython-input-73-111fb725ec63>\u001b[0m in \u001b[0;36mcompute_kernel\u001b[0;34m(x, y)\u001b[0m\n\u001b[1;32m      4\u001b[0m   \u001b[0mdim\u001b[0m \u001b[0;34m=\u001b[0m \u001b[0mtf\u001b[0m\u001b[0;34m.\u001b[0m\u001b[0mshape\u001b[0m\u001b[0;34m(\u001b[0m\u001b[0mx\u001b[0m\u001b[0;34m)\u001b[0m\u001b[0;34m[\u001b[0m\u001b[0;36m1\u001b[0m\u001b[0;34m]\u001b[0m\u001b[0;34m\u001b[0m\u001b[0;34m\u001b[0m\u001b[0m\n\u001b[1;32m      5\u001b[0m   \u001b[0mtiled_x\u001b[0m \u001b[0;34m=\u001b[0m \u001b[0mtf\u001b[0m\u001b[0;34m.\u001b[0m\u001b[0mtile\u001b[0m\u001b[0;34m(\u001b[0m\u001b[0mtf\u001b[0m\u001b[0;34m.\u001b[0m\u001b[0mreshape\u001b[0m\u001b[0;34m(\u001b[0m\u001b[0mx\u001b[0m\u001b[0;34m,\u001b[0m \u001b[0mtf\u001b[0m\u001b[0;34m.\u001b[0m\u001b[0mstack\u001b[0m\u001b[0;34m(\u001b[0m\u001b[0;34m[\u001b[0m\u001b[0mx_size\u001b[0m\u001b[0;34m,\u001b[0m \u001b[0;36m1\u001b[0m\u001b[0;34m,\u001b[0m \u001b[0mdim\u001b[0m\u001b[0;34m]\u001b[0m\u001b[0;34m)\u001b[0m\u001b[0;34m)\u001b[0m\u001b[0;34m,\u001b[0m \u001b[0mtf\u001b[0m\u001b[0;34m.\u001b[0m\u001b[0mstack\u001b[0m\u001b[0;34m(\u001b[0m\u001b[0;34m[\u001b[0m\u001b[0;36m1\u001b[0m\u001b[0;34m,\u001b[0m \u001b[0my_size\u001b[0m\u001b[0;34m,\u001b[0m \u001b[0;36m1\u001b[0m\u001b[0;34m]\u001b[0m\u001b[0;34m)\u001b[0m\u001b[0;34m)\u001b[0m\u001b[0;34m\u001b[0m\u001b[0;34m\u001b[0m\u001b[0m\n\u001b[0;32m----> 6\u001b[0;31m   \u001b[0mprint\u001b[0m\u001b[0;34m(\u001b[0m\u001b[0mtiled_x\u001b[0m\u001b[0;34m,\u001b[0m \u001b[0mx\u001b[0m\u001b[0;34m,\u001b[0m \u001b[0my\u001b[0m\u001b[0;34m)\u001b[0m\u001b[0;34m\u001b[0m\u001b[0;34m\u001b[0m\u001b[0m\n\u001b[0m\u001b[1;32m      7\u001b[0m   \u001b[0mtiled_y\u001b[0m \u001b[0;34m=\u001b[0m \u001b[0mtf\u001b[0m\u001b[0;34m.\u001b[0m\u001b[0mtile\u001b[0m\u001b[0;34m(\u001b[0m\u001b[0mtf\u001b[0m\u001b[0;34m.\u001b[0m\u001b[0mreshape\u001b[0m\u001b[0;34m(\u001b[0m\u001b[0my\u001b[0m\u001b[0;34m,\u001b[0m \u001b[0mtf\u001b[0m\u001b[0;34m.\u001b[0m\u001b[0mstack\u001b[0m\u001b[0;34m(\u001b[0m\u001b[0;34m[\u001b[0m\u001b[0;36m1\u001b[0m\u001b[0;34m,\u001b[0m \u001b[0my_size\u001b[0m\u001b[0;34m,\u001b[0m \u001b[0mdim\u001b[0m\u001b[0;34m]\u001b[0m\u001b[0;34m)\u001b[0m\u001b[0;34m)\u001b[0m\u001b[0;34m,\u001b[0m \u001b[0mtf\u001b[0m\u001b[0;34m.\u001b[0m\u001b[0mstack\u001b[0m\u001b[0;34m(\u001b[0m\u001b[0;34m[\u001b[0m\u001b[0mx_size\u001b[0m\u001b[0;34m,\u001b[0m \u001b[0;36m1\u001b[0m\u001b[0;34m,\u001b[0m \u001b[0;36m1\u001b[0m\u001b[0;34m]\u001b[0m\u001b[0;34m)\u001b[0m\u001b[0;34m)\u001b[0m\u001b[0;34m\u001b[0m\u001b[0;34m\u001b[0m\u001b[0m\n\u001b[1;32m      8\u001b[0m   \u001b[0mprint\u001b[0m\u001b[0;34m(\u001b[0m\u001b[0mtiled_x\u001b[0m\u001b[0;34m.\u001b[0m\u001b[0mshape\u001b[0m\u001b[0;34m,\u001b[0m \u001b[0mtiled_y\u001b[0m\u001b[0;34m.\u001b[0m\u001b[0mshape\u001b[0m\u001b[0;34m)\u001b[0m\u001b[0;34m\u001b[0m\u001b[0;34m\u001b[0m\u001b[0m\n",
            "\u001b[0;32m/usr/local/lib/python3.6/dist-packages/tensorflow/python/framework/ops.py\u001b[0m in \u001b[0;36m__str__\u001b[0;34m(self)\u001b[0m\n\u001b[1;32m   1002\u001b[0m \u001b[0;34m\u001b[0m\u001b[0m\n\u001b[1;32m   1003\u001b[0m   \u001b[0;32mdef\u001b[0m \u001b[0m__str__\u001b[0m\u001b[0;34m(\u001b[0m\u001b[0mself\u001b[0m\u001b[0;34m)\u001b[0m\u001b[0;34m:\u001b[0m\u001b[0;34m\u001b[0m\u001b[0;34m\u001b[0m\u001b[0m\n\u001b[0;32m-> 1004\u001b[0;31m     return \"tf.Tensor(%s, shape=%s, dtype=%s)\" % (numpy_text(self), self.shape,\n\u001b[0m\u001b[1;32m   1005\u001b[0m                                                   self.dtype.name)\n\u001b[1;32m   1006\u001b[0m \u001b[0;34m\u001b[0m\u001b[0m\n",
            "\u001b[0;32m/usr/local/lib/python3.6/dist-packages/tensorflow/python/framework/ops.py\u001b[0m in \u001b[0;36mnumpy_text\u001b[0;34m(tensor, is_repr)\u001b[0m\n\u001b[1;32m    223\u001b[0m   \u001b[0;32mif\u001b[0m \u001b[0mtensor\u001b[0m\u001b[0;34m.\u001b[0m\u001b[0mdtype\u001b[0m\u001b[0;34m.\u001b[0m\u001b[0mis_numpy_compatible\u001b[0m\u001b[0;34m:\u001b[0m\u001b[0;34m\u001b[0m\u001b[0;34m\u001b[0m\u001b[0m\n\u001b[1;32m    224\u001b[0m     \u001b[0;31m# pylint: disable=protected-access\u001b[0m\u001b[0;34m\u001b[0m\u001b[0;34m\u001b[0m\u001b[0;34m\u001b[0m\u001b[0m\n\u001b[0;32m--> 225\u001b[0;31m     \u001b[0mtext\u001b[0m \u001b[0;34m=\u001b[0m \u001b[0mrepr\u001b[0m\u001b[0;34m(\u001b[0m\u001b[0mtensor\u001b[0m\u001b[0;34m.\u001b[0m\u001b[0m_numpy\u001b[0m\u001b[0;34m(\u001b[0m\u001b[0;34m)\u001b[0m\u001b[0;34m)\u001b[0m \u001b[0;32mif\u001b[0m \u001b[0mis_repr\u001b[0m \u001b[0;32melse\u001b[0m \u001b[0mstr\u001b[0m\u001b[0;34m(\u001b[0m\u001b[0mtensor\u001b[0m\u001b[0;34m.\u001b[0m\u001b[0m_numpy\u001b[0m\u001b[0;34m(\u001b[0m\u001b[0;34m)\u001b[0m\u001b[0;34m)\u001b[0m\u001b[0;34m\u001b[0m\u001b[0;34m\u001b[0m\u001b[0m\n\u001b[0m\u001b[1;32m    226\u001b[0m     \u001b[0;31m# pylint: enable=protected-access\u001b[0m\u001b[0;34m\u001b[0m\u001b[0;34m\u001b[0m\u001b[0;34m\u001b[0m\u001b[0m\n\u001b[1;32m    227\u001b[0m   \u001b[0;32melse\u001b[0m\u001b[0;34m:\u001b[0m\u001b[0;34m\u001b[0m\u001b[0;34m\u001b[0m\u001b[0m\n",
            "\u001b[0;32m/usr/local/lib/python3.6/dist-packages/tensorflow/python/framework/ops.py\u001b[0m in \u001b[0;36m_numpy\u001b[0;34m(self)\u001b[0m\n\u001b[1;32m   1029\u001b[0m       \u001b[0;32mreturn\u001b[0m \u001b[0mself\u001b[0m\u001b[0;34m.\u001b[0m\u001b[0m_numpy_internal\u001b[0m\u001b[0;34m(\u001b[0m\u001b[0;34m)\u001b[0m\u001b[0;34m\u001b[0m\u001b[0;34m\u001b[0m\u001b[0m\n\u001b[1;32m   1030\u001b[0m     \u001b[0;32mexcept\u001b[0m \u001b[0mcore\u001b[0m\u001b[0;34m.\u001b[0m\u001b[0m_NotOkStatusException\u001b[0m \u001b[0;32mas\u001b[0m \u001b[0me\u001b[0m\u001b[0;34m:\u001b[0m  \u001b[0;31m# pylint: disable=protected-access\u001b[0m\u001b[0;34m\u001b[0m\u001b[0;34m\u001b[0m\u001b[0m\n\u001b[0;32m-> 1031\u001b[0;31m       \u001b[0msix\u001b[0m\u001b[0;34m.\u001b[0m\u001b[0mraise_from\u001b[0m\u001b[0;34m(\u001b[0m\u001b[0mcore\u001b[0m\u001b[0;34m.\u001b[0m\u001b[0m_status_to_exception\u001b[0m\u001b[0;34m(\u001b[0m\u001b[0me\u001b[0m\u001b[0;34m.\u001b[0m\u001b[0mcode\u001b[0m\u001b[0;34m,\u001b[0m \u001b[0me\u001b[0m\u001b[0;34m.\u001b[0m\u001b[0mmessage\u001b[0m\u001b[0;34m)\u001b[0m\u001b[0;34m,\u001b[0m \u001b[0;32mNone\u001b[0m\u001b[0;34m)\u001b[0m  \u001b[0;31m# pylint: disable=protected-access\u001b[0m\u001b[0;34m\u001b[0m\u001b[0;34m\u001b[0m\u001b[0m\n\u001b[0m\u001b[1;32m   1032\u001b[0m \u001b[0;34m\u001b[0m\u001b[0m\n\u001b[1;32m   1033\u001b[0m   \u001b[0;34m@\u001b[0m\u001b[0mproperty\u001b[0m\u001b[0;34m\u001b[0m\u001b[0;34m\u001b[0m\u001b[0m\n",
            "\u001b[0;32m/usr/local/lib/python3.6/dist-packages/six.py\u001b[0m in \u001b[0;36mraise_from\u001b[0;34m(value, from_value)\u001b[0m\n",
            "\u001b[0;31mInvalidArgumentError\u001b[0m: slice index 1 of dimension 0 out of bounds."
          ]
        }
      ]
    },
    {
      "cell_type": "code",
      "metadata": {
        "id": "UZplwvpr3gW1",
        "colab_type": "code",
        "colab": {}
      },
      "source": [
        "\n",
        "\n",
        "LAYER_SIZE = 512\n",
        "LATENT_DIM = 256\n",
        "\n",
        "with strategy.scope():\n",
        "    # Keras .fit API\n",
        "  #loss_fn = lambda y, p_y: -p_y.log_prob(y)\n",
        "  action_loss = tf.keras.losses.MeanAbsoluteError(reduction=tf.keras.losses.Reduction.NONE)\n",
        "\n",
        "  def compute_kernel(x, y):\n",
        "    x_size = tf.shape(x)[0]\n",
        "    y_size = tf.shape(y)[0]\n",
        "    dim = tf.shape(x)[1]\n",
        "    tiled_x = tf.tile(tf.reshape(x, tf.stack([x_size, 1, dim])), tf.stack([1, y_size, 1]))\n",
        "    tiled_y = tf.tile(tf.reshape(y, tf.stack([1, y_size, dim])), tf.stack([x_size, 1, 1]))\n",
        "    return tf.exp(-tf.reduce_mean(tf.square(tiled_x - tiled_y), axis=2) / tf.cast(dim, tf.float32))\n",
        "\n",
        "  def compute_mmd(x, y, sigma_sqr=2.0/LATENT_DIM):\n",
        "      x_kernel = compute_kernel(x, x)\n",
        "      y_kernel = compute_kernel(y, y)\n",
        "      xy_kernel = compute_kernel(x, y)\n",
        "      return tf.reduce_mean(x_kernel) + tf.reduce_mean(y_kernel) - 2 * tf.reduce_mean(xy_kernel)\n",
        "  \n",
        "  def compute_loss(labels, predictions, mask, seq_lens):\n",
        "      per_example_loss = action_loss(labels, predictions) * mask\n",
        "      per_example_loss = tf.reduce_sum(per_example_loss, axis = 1) / seq_lens # take mean along the timestep\n",
        "      return tf.nn.compute_average_loss(per_example_loss, global_batch_size=GLOBAL_BATCH_SIZE)\n",
        "\n",
        "  def compute_regularisation_loss(plan, encoding):\n",
        "      reg_loss = KL(plan, encoding) #+ KL(encoding, plan)\n",
        "      return tf.nn.compute_average_loss(reg_loss, global_batch_size=GLOBAL_BATCH_SIZE)\n",
        "\n",
        "  def encoder_regularisation(encoding):\n",
        "    B = encoding.shape[0]\n",
        "    true_samples = tf.random_normal(tf.stack([B, z_dim]))\n",
        "    loss_mmd = compute_mmd(true_samples, encoding.sample())\n",
        "\n",
        "  train_act_loss = tf.keras.metrics.Mean(name='act_loss')\n",
        "  valid_act_loss = tf.keras.metrics.Mean(name='valid_act_loss')\n",
        "\n",
        "  train_reg_loss = tf.keras.metrics.Mean(name='reg_loss')\n",
        "  valid_reg_loss = tf.keras.metrics.Mean(name='valid_reg_loss')\n",
        "\n",
        "  valid_act_with_enc_loss = tf.keras.metrics.Mean(name='valid_act_with_enc_loss')\n",
        "  train_act_with_plan_loss = tf.keras.metrics.Mean(name='train_act_with_plan_loss')\n",
        "\n",
        "  \n",
        "  model_params = {'layer_size':LAYER_SIZE, 'GCBC':False}\n",
        "  model = actor(**model_params)\n",
        "\n",
        "  model_params = {'layer_size':LAYER_SIZE, 'latent_dim':LATENT_DIM}\n",
        "  encoder = ENCODER_LSTM(latent_dim=LATENT_DIM)\n",
        "  planner = create_planner(**model_params)\n",
        "\n",
        "  optimizer = tfa.optimizers.AdamW(1e-4, 2e-4) #tf.keras.optimizers.Adam(2e-4)\n",
        "\n",
        "  checkpoint = tf.train.Checkpoint(optimizer=optimizer, model=model)\n",
        "\n",
        "def step(inputs, GCBC=False, training = False):\n",
        "  (states, goals, actions, mask, seq_lens) = inputs\n",
        "  if GCBC:\n",
        "    distrib = model(states, goals=goals, training = training)\n",
        "    return  compute_loss(actions, distrib, mask, seq_lens), distrib\n",
        "  else:\n",
        "  \n",
        "    encoding = encoder(states, actions, training=training)\n",
        "    final_goals = goals[:, 0, :]\n",
        "    plan, _ = planner((states[:, 0, :], final_goals))  # the final goals are tiled out over the entire non masked sequence, so the first timestep is the final goal. \n",
        "    if training: # we must expand it out so each input state has a corresponding plan\n",
        "      z = tf.tile(tf.expand_dims(encoding.sample(), 1), (1, rsd.MAX_SEQ_LEN, 1))\n",
        "      distrib = model(states, z, goals, training=training)\n",
        "      z_plan = tf.tile(tf.expand_dims(plan.sample(), 1), (1, rsd.MAX_SEQ_LEN, 1))\n",
        "      plan_acts = model(states, z_plan, goals, training=training)\n",
        "      train_act_with_plan_loss.update_state(compute_loss(actions, plan_acts, mask, seq_lens))\n",
        "    \n",
        "    else:\n",
        "      # check if encoder is overfitting on validation\n",
        "      z_enc = z = tf.tile(tf.expand_dims(encoding.sample(), 1), (1, rsd.MAX_SEQ_LEN, 1))\n",
        "      enc_act_distrib = model(states, z_enc, goals, training = training)\n",
        "      valid_act_with_enc_loss.update_state(compute_loss(actions, enc_act_distrib, mask, seq_lens))\n",
        "\n",
        "      # true validation performance, w/ planner\n",
        "      z = tf.tile(tf.expand_dims(plan.sample(), 1), (1, rsd.MAX_SEQ_LEN, 1))\n",
        "      distrib = model(states, z, goals, training = training) \n",
        "      \n",
        "\n",
        "    action_loss = compute_loss(actions, distrib, mask, seq_lens)\n",
        "    \n",
        "    regularisation_loss = compute_regularisation_loss(plan, encoding)\n",
        "    \n",
        "    return action_loss, regularisation_loss\n",
        "\n",
        "\n",
        "# Now outside strategy .scope\n",
        "def train_step(inputs, GCBC = False):\n",
        "  with tf.GradientTape() as tape:\n",
        "    act_loss, reg_loss = step(inputs, GCBC = GCBC, training=True)\n",
        "    loss = act_loss + reg_loss  * BETA\n",
        "    \n",
        "  train_act_loss.update_state(act_loss)\n",
        "  train_reg_loss.update_state(reg_loss)\n",
        "  gradients = tape.gradient(loss, model.trainable_variables+encoder.trainable_variables+planner.trainable_variables)\n",
        "  optimizer.apply_gradients(zip(gradients, model.trainable_variables+encoder.trainable_variables+planner.trainable_variables))\n",
        "  \n",
        "  return loss\n",
        "\n",
        "def test_step(inputs, GCBC=False):\n",
        "  act_loss, reg_loss = step(inputs, GCBC = GCBC, training=False)\n",
        "  valid_act_loss.update_state(act_loss)\n",
        "  valid_reg_loss.update_state(reg_loss)\n",
        "  return act_loss + reg_loss  * BETA\n",
        "\n",
        "@tf.function\n",
        "def distributed_train_step(dataset_inputs):\n",
        "  per_replica_losses = strategy.run(train_step, args=(dataset_inputs,))\n",
        "  return strategy.reduce(tf.distribute.ReduceOp.SUM, per_replica_losses, axis = None)\n",
        "\n",
        "@tf.function\n",
        "def distributed_test_step(dataset_inputs):\n",
        "  per_replica_losses = strategy.run(test_step, args=(dataset_inputs,))\n",
        "  return strategy.reduce(tf.distribute.ReduceOp.SUM, per_replica_losses, axis = None)\n",
        "\n",
        "\n",
        "train_dist_dataset = iter(strategy.experimental_distribute_dataset(train_data.repeat(-1)))\n",
        "valid_dist_dataset = iter(strategy.experimental_distribute_dataset(valid_data.repeat(-1)))"
      ],
      "execution_count": null,
      "outputs": []
    },
    {
      "cell_type": "code",
      "metadata": {
        "id": "G4NLoKxThrwY",
        "colab_type": "code",
        "colab": {}
      },
      "source": [
        "\n",
        "\n",
        "trial_run(1e-2)\n",
        "trial_run(1e-3)\n",
        "trial_run(1e-4)\n",
        "trial_run(1e-1)"
      ],
      "execution_count": null,
      "outputs": []
    },
    {
      "cell_type": "code",
      "metadata": {
        "id": "OlJ945C9qZXD",
        "colab_type": "code",
        "colab": {
          "base_uri": "https://localhost:8080/",
          "height": 36
        },
        "outputId": "98e2cc20-95ed-443c-943b-5de67172dd53"
      },
      "source": [
        "int(seq_lens[idx])"
      ],
      "execution_count": null,
      "outputs": [
        {
          "output_type": "execute_result",
          "data": {
            "text/plain": [
              "30"
            ]
          },
          "metadata": {
            "tags": []
          },
          "execution_count": 106
        }
      ]
    },
    {
      "cell_type": "markdown",
      "metadata": {
        "id": "8y0jB3MU_vxx",
        "colab_type": "text"
      },
      "source": [
        "Gradients are \"calculated on each replica, they are synced across the replicas by **summing** them\"\n",
        "https://www.tensorflow.org/tutorials/distribute/custom_training#define_the_loss_function"
      ]
    },
    {
      "cell_type": "code",
      "metadata": {
        "id": "6kP9__W-k9mw",
        "colab_type": "code",
        "colab": {
          "base_uri": "https://localhost:8080/",
          "height": 449
        },
        "outputId": "3f3a9717-dfdc-4431-f003-2728b1741b75"
      },
      "source": [
        "# Keras .fit API\n",
        "loss_fn = lambda y, p_y: -p_y.log_prob(y)\n",
        "# loss_fn = MeanSquaredError()\n",
        "\n",
        "def compute_loss(labels, predictions):\n",
        "    per_example_loss = loss_fn(labels, predictions)\n",
        "    return tf.nn.compute_average_loss(per_example_loss, global_batch_size=GLOBAL_BATCH_SIZE)\n",
        "\n",
        "with strategy.scope():\n",
        "    model = create_lstm_model_v2(**model_params)\n",
        "    model.compile(optimizer=Adam(learning_rate=1e-3),\n",
        "                experimental_steps_per_execution = 2,\n",
        "                loss=compute_loss,\n",
        "                metrics=['mean_absolute_error'])\n",
        "\n",
        "steps_per_epoch = 100\n",
        "validation_steps = 10\n",
        "\n",
        "callbacks = [\n",
        "    # tf.keras.callbacks.TensorBoard(log_dir='./logs'),\n",
        "    # tf.keras.callbacks.ModelCheckpoint(filepath=checkpoint_prefix, save_weights_only=True),\n",
        "    # tf.keras.callbacks.LearningRateScheduler(decay),\n",
        "]\n",
        "\n",
        "history = model.fit(train_data,\n",
        "          epochs=10,\n",
        "          steps_per_epoch=steps_per_epoch,\n",
        "          validation_data=valid_data, \n",
        "          validation_steps=validation_steps\n",
        "        #   callbacks=callbacks\n",
        "          )"
      ],
      "execution_count": null,
      "outputs": [
        {
          "output_type": "stream",
          "text": [
            "Epoch 1/10\n",
            " 10/100 [==>...........................] - ETA: 3:02 - loss: 979.5474 - mean_absolute_error: 1.1801 "
          ],
          "name": "stdout"
        },
        {
          "output_type": "error",
          "ename": "KeyboardInterrupt",
          "evalue": "ignored",
          "traceback": [
            "\u001b[0;31m---------------------------------------------------------------------------\u001b[0m",
            "\u001b[0;31mKeyboardInterrupt\u001b[0m                         Traceback (most recent call last)",
            "\u001b[0;32m<ipython-input-49-dd739b850b61>\u001b[0m in \u001b[0;36m<module>\u001b[0;34m()\u001b[0m\n\u001b[1;32m     27\u001b[0m           \u001b[0msteps_per_epoch\u001b[0m\u001b[0;34m=\u001b[0m\u001b[0msteps_per_epoch\u001b[0m\u001b[0;34m,\u001b[0m\u001b[0;34m\u001b[0m\u001b[0;34m\u001b[0m\u001b[0m\n\u001b[1;32m     28\u001b[0m           \u001b[0mvalidation_data\u001b[0m\u001b[0;34m=\u001b[0m\u001b[0mvalid_data\u001b[0m\u001b[0;34m,\u001b[0m\u001b[0;34m\u001b[0m\u001b[0;34m\u001b[0m\u001b[0m\n\u001b[0;32m---> 29\u001b[0;31m           \u001b[0mvalidation_steps\u001b[0m\u001b[0;34m=\u001b[0m\u001b[0mvalidation_steps\u001b[0m\u001b[0;34m\u001b[0m\u001b[0;34m\u001b[0m\u001b[0m\n\u001b[0m\u001b[1;32m     30\u001b[0m         \u001b[0;31m#   callbacks=callbacks\u001b[0m\u001b[0;34m\u001b[0m\u001b[0;34m\u001b[0m\u001b[0;34m\u001b[0m\u001b[0m\n\u001b[1;32m     31\u001b[0m           )\n",
            "\u001b[0;32m/usr/local/lib/python3.6/dist-packages/tensorflow/python/keras/engine/training.py\u001b[0m in \u001b[0;36m_method_wrapper\u001b[0;34m(self, *args, **kwargs)\u001b[0m\n\u001b[1;32m    106\u001b[0m   \u001b[0;32mdef\u001b[0m \u001b[0m_method_wrapper\u001b[0m\u001b[0;34m(\u001b[0m\u001b[0mself\u001b[0m\u001b[0;34m,\u001b[0m \u001b[0;34m*\u001b[0m\u001b[0margs\u001b[0m\u001b[0;34m,\u001b[0m \u001b[0;34m**\u001b[0m\u001b[0mkwargs\u001b[0m\u001b[0;34m)\u001b[0m\u001b[0;34m:\u001b[0m\u001b[0;34m\u001b[0m\u001b[0;34m\u001b[0m\u001b[0m\n\u001b[1;32m    107\u001b[0m     \u001b[0;32mif\u001b[0m \u001b[0;32mnot\u001b[0m \u001b[0mself\u001b[0m\u001b[0;34m.\u001b[0m\u001b[0m_in_multi_worker_mode\u001b[0m\u001b[0;34m(\u001b[0m\u001b[0;34m)\u001b[0m\u001b[0;34m:\u001b[0m  \u001b[0;31m# pylint: disable=protected-access\u001b[0m\u001b[0;34m\u001b[0m\u001b[0;34m\u001b[0m\u001b[0m\n\u001b[0;32m--> 108\u001b[0;31m       \u001b[0;32mreturn\u001b[0m \u001b[0mmethod\u001b[0m\u001b[0;34m(\u001b[0m\u001b[0mself\u001b[0m\u001b[0;34m,\u001b[0m \u001b[0;34m*\u001b[0m\u001b[0margs\u001b[0m\u001b[0;34m,\u001b[0m \u001b[0;34m**\u001b[0m\u001b[0mkwargs\u001b[0m\u001b[0;34m)\u001b[0m\u001b[0;34m\u001b[0m\u001b[0;34m\u001b[0m\u001b[0m\n\u001b[0m\u001b[1;32m    109\u001b[0m \u001b[0;34m\u001b[0m\u001b[0m\n\u001b[1;32m    110\u001b[0m     \u001b[0;31m# Running inside `run_distribute_coordinator` already.\u001b[0m\u001b[0;34m\u001b[0m\u001b[0;34m\u001b[0m\u001b[0;34m\u001b[0m\u001b[0m\n",
            "\u001b[0;32m/usr/local/lib/python3.6/dist-packages/tensorflow/python/keras/engine/training.py\u001b[0m in \u001b[0;36mfit\u001b[0;34m(self, x, y, batch_size, epochs, verbose, callbacks, validation_split, validation_data, shuffle, class_weight, sample_weight, initial_epoch, steps_per_epoch, validation_steps, validation_batch_size, validation_freq, max_queue_size, workers, use_multiprocessing)\u001b[0m\n\u001b[1;32m   1101\u001b[0m               \u001b[0mlogs\u001b[0m \u001b[0;34m=\u001b[0m \u001b[0mtmp_logs\u001b[0m  \u001b[0;31m# No error, now safe to assign to logs.\u001b[0m\u001b[0;34m\u001b[0m\u001b[0;34m\u001b[0m\u001b[0m\n\u001b[1;32m   1102\u001b[0m               \u001b[0mend_step\u001b[0m \u001b[0;34m=\u001b[0m \u001b[0mstep\u001b[0m \u001b[0;34m+\u001b[0m \u001b[0mdata_handler\u001b[0m\u001b[0;34m.\u001b[0m\u001b[0mstep_increment\u001b[0m\u001b[0;34m\u001b[0m\u001b[0;34m\u001b[0m\u001b[0m\n\u001b[0;32m-> 1103\u001b[0;31m               \u001b[0mcallbacks\u001b[0m\u001b[0;34m.\u001b[0m\u001b[0mon_train_batch_end\u001b[0m\u001b[0;34m(\u001b[0m\u001b[0mend_step\u001b[0m\u001b[0;34m,\u001b[0m \u001b[0mlogs\u001b[0m\u001b[0;34m)\u001b[0m\u001b[0;34m\u001b[0m\u001b[0;34m\u001b[0m\u001b[0m\n\u001b[0m\u001b[1;32m   1104\u001b[0m         \u001b[0mepoch_logs\u001b[0m \u001b[0;34m=\u001b[0m \u001b[0mcopy\u001b[0m\u001b[0;34m.\u001b[0m\u001b[0mcopy\u001b[0m\u001b[0;34m(\u001b[0m\u001b[0mlogs\u001b[0m\u001b[0;34m)\u001b[0m\u001b[0;34m\u001b[0m\u001b[0;34m\u001b[0m\u001b[0m\n\u001b[1;32m   1105\u001b[0m \u001b[0;34m\u001b[0m\u001b[0m\n",
            "\u001b[0;32m/usr/local/lib/python3.6/dist-packages/tensorflow/python/keras/callbacks.py\u001b[0m in \u001b[0;36mon_train_batch_end\u001b[0;34m(self, batch, logs)\u001b[0m\n\u001b[1;32m    438\u001b[0m     \"\"\"\n\u001b[1;32m    439\u001b[0m     \u001b[0;32mif\u001b[0m \u001b[0mself\u001b[0m\u001b[0;34m.\u001b[0m\u001b[0m_should_call_train_batch_hooks\u001b[0m\u001b[0;34m:\u001b[0m\u001b[0;34m\u001b[0m\u001b[0;34m\u001b[0m\u001b[0m\n\u001b[0;32m--> 440\u001b[0;31m       \u001b[0mself\u001b[0m\u001b[0;34m.\u001b[0m\u001b[0m_call_batch_hook\u001b[0m\u001b[0;34m(\u001b[0m\u001b[0mModeKeys\u001b[0m\u001b[0;34m.\u001b[0m\u001b[0mTRAIN\u001b[0m\u001b[0;34m,\u001b[0m \u001b[0;34m'end'\u001b[0m\u001b[0;34m,\u001b[0m \u001b[0mbatch\u001b[0m\u001b[0;34m,\u001b[0m \u001b[0mlogs\u001b[0m\u001b[0;34m=\u001b[0m\u001b[0mlogs\u001b[0m\u001b[0;34m)\u001b[0m\u001b[0;34m\u001b[0m\u001b[0;34m\u001b[0m\u001b[0m\n\u001b[0m\u001b[1;32m    441\u001b[0m \u001b[0;34m\u001b[0m\u001b[0m\n\u001b[1;32m    442\u001b[0m   \u001b[0;32mdef\u001b[0m \u001b[0mon_test_batch_begin\u001b[0m\u001b[0;34m(\u001b[0m\u001b[0mself\u001b[0m\u001b[0;34m,\u001b[0m \u001b[0mbatch\u001b[0m\u001b[0;34m,\u001b[0m \u001b[0mlogs\u001b[0m\u001b[0;34m=\u001b[0m\u001b[0;32mNone\u001b[0m\u001b[0;34m)\u001b[0m\u001b[0;34m:\u001b[0m\u001b[0;34m\u001b[0m\u001b[0;34m\u001b[0m\u001b[0m\n",
            "\u001b[0;32m/usr/local/lib/python3.6/dist-packages/tensorflow/python/keras/callbacks.py\u001b[0m in \u001b[0;36m_call_batch_hook\u001b[0;34m(self, mode, hook, batch, logs)\u001b[0m\n\u001b[1;32m    287\u001b[0m       \u001b[0mself\u001b[0m\u001b[0;34m.\u001b[0m\u001b[0m_call_batch_begin_hook\u001b[0m\u001b[0;34m(\u001b[0m\u001b[0mmode\u001b[0m\u001b[0;34m,\u001b[0m \u001b[0mbatch\u001b[0m\u001b[0;34m,\u001b[0m \u001b[0mlogs\u001b[0m\u001b[0;34m)\u001b[0m\u001b[0;34m\u001b[0m\u001b[0;34m\u001b[0m\u001b[0m\n\u001b[1;32m    288\u001b[0m     \u001b[0;32melif\u001b[0m \u001b[0mhook\u001b[0m \u001b[0;34m==\u001b[0m \u001b[0;34m'end'\u001b[0m\u001b[0;34m:\u001b[0m\u001b[0;34m\u001b[0m\u001b[0;34m\u001b[0m\u001b[0m\n\u001b[0;32m--> 289\u001b[0;31m       \u001b[0mself\u001b[0m\u001b[0;34m.\u001b[0m\u001b[0m_call_batch_end_hook\u001b[0m\u001b[0;34m(\u001b[0m\u001b[0mmode\u001b[0m\u001b[0;34m,\u001b[0m \u001b[0mbatch\u001b[0m\u001b[0;34m,\u001b[0m \u001b[0mlogs\u001b[0m\u001b[0;34m)\u001b[0m\u001b[0;34m\u001b[0m\u001b[0;34m\u001b[0m\u001b[0m\n\u001b[0m\u001b[1;32m    290\u001b[0m     \u001b[0;32melse\u001b[0m\u001b[0;34m:\u001b[0m\u001b[0;34m\u001b[0m\u001b[0;34m\u001b[0m\u001b[0m\n\u001b[1;32m    291\u001b[0m       \u001b[0;32mraise\u001b[0m \u001b[0mValueError\u001b[0m\u001b[0;34m(\u001b[0m\u001b[0;34m'Unrecognized hook: {}'\u001b[0m\u001b[0;34m.\u001b[0m\u001b[0mformat\u001b[0m\u001b[0;34m(\u001b[0m\u001b[0mhook\u001b[0m\u001b[0;34m)\u001b[0m\u001b[0;34m)\u001b[0m\u001b[0;34m\u001b[0m\u001b[0;34m\u001b[0m\u001b[0m\n",
            "\u001b[0;32m/usr/local/lib/python3.6/dist-packages/tensorflow/python/keras/callbacks.py\u001b[0m in \u001b[0;36m_call_batch_end_hook\u001b[0;34m(self, mode, batch, logs)\u001b[0m\n\u001b[1;32m    307\u001b[0m       \u001b[0mbatch_time\u001b[0m \u001b[0;34m=\u001b[0m \u001b[0mtime\u001b[0m\u001b[0;34m.\u001b[0m\u001b[0mtime\u001b[0m\u001b[0;34m(\u001b[0m\u001b[0;34m)\u001b[0m \u001b[0;34m-\u001b[0m \u001b[0mself\u001b[0m\u001b[0;34m.\u001b[0m\u001b[0m_batch_start_time\u001b[0m\u001b[0;34m\u001b[0m\u001b[0;34m\u001b[0m\u001b[0m\n\u001b[1;32m    308\u001b[0m \u001b[0;34m\u001b[0m\u001b[0m\n\u001b[0;32m--> 309\u001b[0;31m     \u001b[0mself\u001b[0m\u001b[0;34m.\u001b[0m\u001b[0m_call_batch_hook_helper\u001b[0m\u001b[0;34m(\u001b[0m\u001b[0mhook_name\u001b[0m\u001b[0;34m,\u001b[0m \u001b[0mbatch\u001b[0m\u001b[0;34m,\u001b[0m \u001b[0mlogs\u001b[0m\u001b[0;34m)\u001b[0m\u001b[0;34m\u001b[0m\u001b[0;34m\u001b[0m\u001b[0m\n\u001b[0m\u001b[1;32m    310\u001b[0m \u001b[0;34m\u001b[0m\u001b[0m\n\u001b[1;32m    311\u001b[0m     \u001b[0;32mif\u001b[0m \u001b[0mself\u001b[0m\u001b[0;34m.\u001b[0m\u001b[0m_check_timing\u001b[0m\u001b[0;34m:\u001b[0m\u001b[0;34m\u001b[0m\u001b[0;34m\u001b[0m\u001b[0m\n",
            "\u001b[0;32m/usr/local/lib/python3.6/dist-packages/tensorflow/python/keras/callbacks.py\u001b[0m in \u001b[0;36m_call_batch_hook_helper\u001b[0;34m(self, hook_name, batch, logs)\u001b[0m\n\u001b[1;32m    340\u001b[0m       \u001b[0mhook\u001b[0m \u001b[0;34m=\u001b[0m \u001b[0mgetattr\u001b[0m\u001b[0;34m(\u001b[0m\u001b[0mcallback\u001b[0m\u001b[0;34m,\u001b[0m \u001b[0mhook_name\u001b[0m\u001b[0;34m)\u001b[0m\u001b[0;34m\u001b[0m\u001b[0;34m\u001b[0m\u001b[0m\n\u001b[1;32m    341\u001b[0m       \u001b[0;32mif\u001b[0m \u001b[0mgetattr\u001b[0m\u001b[0;34m(\u001b[0m\u001b[0mcallback\u001b[0m\u001b[0;34m,\u001b[0m \u001b[0;34m'_supports_tf_logs'\u001b[0m\u001b[0;34m,\u001b[0m \u001b[0;32mFalse\u001b[0m\u001b[0;34m)\u001b[0m\u001b[0;34m:\u001b[0m\u001b[0;34m\u001b[0m\u001b[0;34m\u001b[0m\u001b[0m\n\u001b[0;32m--> 342\u001b[0;31m         \u001b[0mhook\u001b[0m\u001b[0;34m(\u001b[0m\u001b[0mbatch\u001b[0m\u001b[0;34m,\u001b[0m \u001b[0mlogs\u001b[0m\u001b[0;34m)\u001b[0m\u001b[0;34m\u001b[0m\u001b[0;34m\u001b[0m\u001b[0m\n\u001b[0m\u001b[1;32m    343\u001b[0m       \u001b[0;32melse\u001b[0m\u001b[0;34m:\u001b[0m\u001b[0;34m\u001b[0m\u001b[0;34m\u001b[0m\u001b[0m\n\u001b[1;32m    344\u001b[0m         \u001b[0;32mif\u001b[0m \u001b[0mnumpy_logs\u001b[0m \u001b[0;32mis\u001b[0m \u001b[0;32mNone\u001b[0m\u001b[0;34m:\u001b[0m  \u001b[0;31m# Only convert once.\u001b[0m\u001b[0;34m\u001b[0m\u001b[0;34m\u001b[0m\u001b[0m\n",
            "\u001b[0;32m/usr/local/lib/python3.6/dist-packages/tensorflow/python/keras/callbacks.py\u001b[0m in \u001b[0;36mon_train_batch_end\u001b[0;34m(self, batch, logs)\u001b[0m\n\u001b[1;32m    959\u001b[0m \u001b[0;34m\u001b[0m\u001b[0m\n\u001b[1;32m    960\u001b[0m   \u001b[0;32mdef\u001b[0m \u001b[0mon_train_batch_end\u001b[0m\u001b[0;34m(\u001b[0m\u001b[0mself\u001b[0m\u001b[0;34m,\u001b[0m \u001b[0mbatch\u001b[0m\u001b[0;34m,\u001b[0m \u001b[0mlogs\u001b[0m\u001b[0;34m=\u001b[0m\u001b[0;32mNone\u001b[0m\u001b[0;34m)\u001b[0m\u001b[0;34m:\u001b[0m\u001b[0;34m\u001b[0m\u001b[0;34m\u001b[0m\u001b[0m\n\u001b[0;32m--> 961\u001b[0;31m     \u001b[0mself\u001b[0m\u001b[0;34m.\u001b[0m\u001b[0m_batch_update_progbar\u001b[0m\u001b[0;34m(\u001b[0m\u001b[0mbatch\u001b[0m\u001b[0;34m,\u001b[0m \u001b[0mlogs\u001b[0m\u001b[0;34m)\u001b[0m\u001b[0;34m\u001b[0m\u001b[0;34m\u001b[0m\u001b[0m\n\u001b[0m\u001b[1;32m    962\u001b[0m \u001b[0;34m\u001b[0m\u001b[0m\n\u001b[1;32m    963\u001b[0m   \u001b[0;32mdef\u001b[0m \u001b[0mon_test_batch_end\u001b[0m\u001b[0;34m(\u001b[0m\u001b[0mself\u001b[0m\u001b[0;34m,\u001b[0m \u001b[0mbatch\u001b[0m\u001b[0;34m,\u001b[0m \u001b[0mlogs\u001b[0m\u001b[0;34m=\u001b[0m\u001b[0;32mNone\u001b[0m\u001b[0;34m)\u001b[0m\u001b[0;34m:\u001b[0m\u001b[0;34m\u001b[0m\u001b[0;34m\u001b[0m\u001b[0m\n",
            "\u001b[0;32m/usr/local/lib/python3.6/dist-packages/tensorflow/python/keras/callbacks.py\u001b[0m in \u001b[0;36m_batch_update_progbar\u001b[0;34m(self, batch, logs)\u001b[0m\n\u001b[1;32m   1014\u001b[0m     \u001b[0;32mif\u001b[0m \u001b[0mself\u001b[0m\u001b[0;34m.\u001b[0m\u001b[0mverbose\u001b[0m \u001b[0;34m==\u001b[0m \u001b[0;36m1\u001b[0m\u001b[0;34m:\u001b[0m\u001b[0;34m\u001b[0m\u001b[0;34m\u001b[0m\u001b[0m\n\u001b[1;32m   1015\u001b[0m       \u001b[0;31m# Only block async when verbose = 1.\u001b[0m\u001b[0;34m\u001b[0m\u001b[0;34m\u001b[0m\u001b[0;34m\u001b[0m\u001b[0m\n\u001b[0;32m-> 1016\u001b[0;31m       \u001b[0mlogs\u001b[0m \u001b[0;34m=\u001b[0m \u001b[0mtf_utils\u001b[0m\u001b[0;34m.\u001b[0m\u001b[0mto_numpy_or_python_type\u001b[0m\u001b[0;34m(\u001b[0m\u001b[0mlogs\u001b[0m\u001b[0;34m)\u001b[0m\u001b[0;34m\u001b[0m\u001b[0;34m\u001b[0m\u001b[0m\n\u001b[0m\u001b[1;32m   1017\u001b[0m       \u001b[0mself\u001b[0m\u001b[0;34m.\u001b[0m\u001b[0mprogbar\u001b[0m\u001b[0;34m.\u001b[0m\u001b[0mupdate\u001b[0m\u001b[0;34m(\u001b[0m\u001b[0mself\u001b[0m\u001b[0;34m.\u001b[0m\u001b[0mseen\u001b[0m\u001b[0;34m,\u001b[0m \u001b[0mlist\u001b[0m\u001b[0;34m(\u001b[0m\u001b[0mlogs\u001b[0m\u001b[0;34m.\u001b[0m\u001b[0mitems\u001b[0m\u001b[0;34m(\u001b[0m\u001b[0;34m)\u001b[0m\u001b[0;34m)\u001b[0m\u001b[0;34m,\u001b[0m \u001b[0mfinalize\u001b[0m\u001b[0;34m=\u001b[0m\u001b[0;32mFalse\u001b[0m\u001b[0;34m)\u001b[0m\u001b[0;34m\u001b[0m\u001b[0;34m\u001b[0m\u001b[0m\n\u001b[1;32m   1018\u001b[0m \u001b[0;34m\u001b[0m\u001b[0m\n",
            "\u001b[0;32m/usr/local/lib/python3.6/dist-packages/tensorflow/python/keras/utils/tf_utils.py\u001b[0m in \u001b[0;36mto_numpy_or_python_type\u001b[0;34m(tensors)\u001b[0m\n\u001b[1;32m    535\u001b[0m     \u001b[0;32mreturn\u001b[0m \u001b[0mt\u001b[0m  \u001b[0;31m# Don't turn ragged or sparse tensors to NumPy.\u001b[0m\u001b[0;34m\u001b[0m\u001b[0;34m\u001b[0m\u001b[0m\n\u001b[1;32m    536\u001b[0m \u001b[0;34m\u001b[0m\u001b[0m\n\u001b[0;32m--> 537\u001b[0;31m   \u001b[0;32mreturn\u001b[0m \u001b[0mnest\u001b[0m\u001b[0;34m.\u001b[0m\u001b[0mmap_structure\u001b[0m\u001b[0;34m(\u001b[0m\u001b[0m_to_single_numpy_or_python_type\u001b[0m\u001b[0;34m,\u001b[0m \u001b[0mtensors\u001b[0m\u001b[0;34m)\u001b[0m\u001b[0;34m\u001b[0m\u001b[0;34m\u001b[0m\u001b[0m\n\u001b[0m\u001b[1;32m    538\u001b[0m \u001b[0;34m\u001b[0m\u001b[0m\n\u001b[1;32m    539\u001b[0m \u001b[0;34m\u001b[0m\u001b[0m\n",
            "\u001b[0;32m/usr/local/lib/python3.6/dist-packages/tensorflow/python/util/nest.py\u001b[0m in \u001b[0;36mmap_structure\u001b[0;34m(func, *structure, **kwargs)\u001b[0m\n\u001b[1;32m    633\u001b[0m \u001b[0;34m\u001b[0m\u001b[0m\n\u001b[1;32m    634\u001b[0m   return pack_sequence_as(\n\u001b[0;32m--> 635\u001b[0;31m       \u001b[0mstructure\u001b[0m\u001b[0;34m[\u001b[0m\u001b[0;36m0\u001b[0m\u001b[0;34m]\u001b[0m\u001b[0;34m,\u001b[0m \u001b[0;34m[\u001b[0m\u001b[0mfunc\u001b[0m\u001b[0;34m(\u001b[0m\u001b[0;34m*\u001b[0m\u001b[0mx\u001b[0m\u001b[0;34m)\u001b[0m \u001b[0;32mfor\u001b[0m \u001b[0mx\u001b[0m \u001b[0;32min\u001b[0m \u001b[0mentries\u001b[0m\u001b[0;34m]\u001b[0m\u001b[0;34m,\u001b[0m\u001b[0;34m\u001b[0m\u001b[0;34m\u001b[0m\u001b[0m\n\u001b[0m\u001b[1;32m    636\u001b[0m       expand_composites=expand_composites)\n\u001b[1;32m    637\u001b[0m \u001b[0;34m\u001b[0m\u001b[0m\n",
            "\u001b[0;32m/usr/local/lib/python3.6/dist-packages/tensorflow/python/util/nest.py\u001b[0m in \u001b[0;36m<listcomp>\u001b[0;34m(.0)\u001b[0m\n\u001b[1;32m    633\u001b[0m \u001b[0;34m\u001b[0m\u001b[0m\n\u001b[1;32m    634\u001b[0m   return pack_sequence_as(\n\u001b[0;32m--> 635\u001b[0;31m       \u001b[0mstructure\u001b[0m\u001b[0;34m[\u001b[0m\u001b[0;36m0\u001b[0m\u001b[0;34m]\u001b[0m\u001b[0;34m,\u001b[0m \u001b[0;34m[\u001b[0m\u001b[0mfunc\u001b[0m\u001b[0;34m(\u001b[0m\u001b[0;34m*\u001b[0m\u001b[0mx\u001b[0m\u001b[0;34m)\u001b[0m \u001b[0;32mfor\u001b[0m \u001b[0mx\u001b[0m \u001b[0;32min\u001b[0m \u001b[0mentries\u001b[0m\u001b[0;34m]\u001b[0m\u001b[0;34m,\u001b[0m\u001b[0;34m\u001b[0m\u001b[0;34m\u001b[0m\u001b[0m\n\u001b[0m\u001b[1;32m    636\u001b[0m       expand_composites=expand_composites)\n\u001b[1;32m    637\u001b[0m \u001b[0;34m\u001b[0m\u001b[0m\n",
            "\u001b[0;32m/usr/local/lib/python3.6/dist-packages/tensorflow/python/keras/utils/tf_utils.py\u001b[0m in \u001b[0;36m_to_single_numpy_or_python_type\u001b[0;34m(t)\u001b[0m\n\u001b[1;32m    531\u001b[0m   \u001b[0;32mdef\u001b[0m \u001b[0m_to_single_numpy_or_python_type\u001b[0m\u001b[0;34m(\u001b[0m\u001b[0mt\u001b[0m\u001b[0;34m)\u001b[0m\u001b[0;34m:\u001b[0m\u001b[0;34m\u001b[0m\u001b[0;34m\u001b[0m\u001b[0m\n\u001b[1;32m    532\u001b[0m     \u001b[0;32mif\u001b[0m \u001b[0misinstance\u001b[0m\u001b[0;34m(\u001b[0m\u001b[0mt\u001b[0m\u001b[0;34m,\u001b[0m \u001b[0mops\u001b[0m\u001b[0;34m.\u001b[0m\u001b[0mTensor\u001b[0m\u001b[0;34m)\u001b[0m\u001b[0;34m:\u001b[0m\u001b[0;34m\u001b[0m\u001b[0;34m\u001b[0m\u001b[0m\n\u001b[0;32m--> 533\u001b[0;31m       \u001b[0mx\u001b[0m \u001b[0;34m=\u001b[0m \u001b[0mt\u001b[0m\u001b[0;34m.\u001b[0m\u001b[0mnumpy\u001b[0m\u001b[0;34m(\u001b[0m\u001b[0;34m)\u001b[0m\u001b[0;34m\u001b[0m\u001b[0;34m\u001b[0m\u001b[0m\n\u001b[0m\u001b[1;32m    534\u001b[0m       \u001b[0;32mreturn\u001b[0m \u001b[0mx\u001b[0m\u001b[0;34m.\u001b[0m\u001b[0mitem\u001b[0m\u001b[0;34m(\u001b[0m\u001b[0;34m)\u001b[0m \u001b[0;32mif\u001b[0m \u001b[0mnp\u001b[0m\u001b[0;34m.\u001b[0m\u001b[0mndim\u001b[0m\u001b[0;34m(\u001b[0m\u001b[0mx\u001b[0m\u001b[0;34m)\u001b[0m \u001b[0;34m==\u001b[0m \u001b[0;36m0\u001b[0m \u001b[0;32melse\u001b[0m \u001b[0mx\u001b[0m\u001b[0;34m\u001b[0m\u001b[0;34m\u001b[0m\u001b[0m\n\u001b[1;32m    535\u001b[0m     \u001b[0;32mreturn\u001b[0m \u001b[0mt\u001b[0m  \u001b[0;31m# Don't turn ragged or sparse tensors to NumPy.\u001b[0m\u001b[0;34m\u001b[0m\u001b[0;34m\u001b[0m\u001b[0m\n",
            "\u001b[0;32m/usr/local/lib/python3.6/dist-packages/tensorflow/python/framework/ops.py\u001b[0m in \u001b[0;36mnumpy\u001b[0;34m(self)\u001b[0m\n\u001b[1;32m   1061\u001b[0m     \"\"\"\n\u001b[1;32m   1062\u001b[0m     \u001b[0;31m# TODO(slebedev): Consider avoiding a copy for non-CPU or remote tensors.\u001b[0m\u001b[0;34m\u001b[0m\u001b[0;34m\u001b[0m\u001b[0;34m\u001b[0m\u001b[0m\n\u001b[0;32m-> 1063\u001b[0;31m     \u001b[0mmaybe_arr\u001b[0m \u001b[0;34m=\u001b[0m \u001b[0mself\u001b[0m\u001b[0;34m.\u001b[0m\u001b[0m_numpy\u001b[0m\u001b[0;34m(\u001b[0m\u001b[0;34m)\u001b[0m  \u001b[0;31m# pylint: disable=protected-access\u001b[0m\u001b[0;34m\u001b[0m\u001b[0;34m\u001b[0m\u001b[0m\n\u001b[0m\u001b[1;32m   1064\u001b[0m     \u001b[0;32mreturn\u001b[0m \u001b[0mmaybe_arr\u001b[0m\u001b[0;34m.\u001b[0m\u001b[0mcopy\u001b[0m\u001b[0;34m(\u001b[0m\u001b[0;34m)\u001b[0m \u001b[0;32mif\u001b[0m \u001b[0misinstance\u001b[0m\u001b[0;34m(\u001b[0m\u001b[0mmaybe_arr\u001b[0m\u001b[0;34m,\u001b[0m \u001b[0mnp\u001b[0m\u001b[0;34m.\u001b[0m\u001b[0mndarray\u001b[0m\u001b[0;34m)\u001b[0m \u001b[0;32melse\u001b[0m \u001b[0mmaybe_arr\u001b[0m\u001b[0;34m\u001b[0m\u001b[0;34m\u001b[0m\u001b[0m\n\u001b[1;32m   1065\u001b[0m \u001b[0;34m\u001b[0m\u001b[0m\n",
            "\u001b[0;32m/usr/local/lib/python3.6/dist-packages/tensorflow/python/framework/ops.py\u001b[0m in \u001b[0;36m_numpy\u001b[0;34m(self)\u001b[0m\n\u001b[1;32m   1027\u001b[0m   \u001b[0;32mdef\u001b[0m \u001b[0m_numpy\u001b[0m\u001b[0;34m(\u001b[0m\u001b[0mself\u001b[0m\u001b[0;34m)\u001b[0m\u001b[0;34m:\u001b[0m\u001b[0;34m\u001b[0m\u001b[0;34m\u001b[0m\u001b[0m\n\u001b[1;32m   1028\u001b[0m     \u001b[0;32mtry\u001b[0m\u001b[0;34m:\u001b[0m\u001b[0;34m\u001b[0m\u001b[0;34m\u001b[0m\u001b[0m\n\u001b[0;32m-> 1029\u001b[0;31m       \u001b[0;32mreturn\u001b[0m \u001b[0mself\u001b[0m\u001b[0;34m.\u001b[0m\u001b[0m_numpy_internal\u001b[0m\u001b[0;34m(\u001b[0m\u001b[0;34m)\u001b[0m\u001b[0;34m\u001b[0m\u001b[0;34m\u001b[0m\u001b[0m\n\u001b[0m\u001b[1;32m   1030\u001b[0m     \u001b[0;32mexcept\u001b[0m \u001b[0mcore\u001b[0m\u001b[0;34m.\u001b[0m\u001b[0m_NotOkStatusException\u001b[0m \u001b[0;32mas\u001b[0m \u001b[0me\u001b[0m\u001b[0;34m:\u001b[0m  \u001b[0;31m# pylint: disable=protected-access\u001b[0m\u001b[0;34m\u001b[0m\u001b[0;34m\u001b[0m\u001b[0m\n\u001b[1;32m   1031\u001b[0m       \u001b[0msix\u001b[0m\u001b[0;34m.\u001b[0m\u001b[0mraise_from\u001b[0m\u001b[0;34m(\u001b[0m\u001b[0mcore\u001b[0m\u001b[0;34m.\u001b[0m\u001b[0m_status_to_exception\u001b[0m\u001b[0;34m(\u001b[0m\u001b[0me\u001b[0m\u001b[0;34m.\u001b[0m\u001b[0mcode\u001b[0m\u001b[0;34m,\u001b[0m \u001b[0me\u001b[0m\u001b[0;34m.\u001b[0m\u001b[0mmessage\u001b[0m\u001b[0;34m)\u001b[0m\u001b[0;34m,\u001b[0m \u001b[0;32mNone\u001b[0m\u001b[0;34m)\u001b[0m  \u001b[0;31m# pylint: disable=protected-access\u001b[0m\u001b[0;34m\u001b[0m\u001b[0;34m\u001b[0m\u001b[0m\n",
            "\u001b[0;31mKeyboardInterrupt\u001b[0m: "
          ]
        }
      ]
    },
    {
      "cell_type": "code",
      "metadata": {
        "id": "XDzghVo4jV79",
        "colab_type": "code",
        "colab": {
          "base_uri": "https://localhost:8080/",
          "height": 395
        },
        "outputId": "2fd58db4-e871-4e24-bb75-827bcdfc2d25"
      },
      "source": [
        "def display_training_curves(training, validation, title, subplot, yscale='linear'):\n",
        "  ax = plt.subplot(subplot)\n",
        "  ax.plot(training)\n",
        "  ax.plot(validation)\n",
        "  ax.set_title('model '+ title)\n",
        "  ax.set_ylabel(title)\n",
        "  ax.set_xlabel('epoch')\n",
        "  ax.legend(['training', 'validation'])\n",
        "  plt.yscale(yscale)\n",
        "\n",
        "plt.subplots(figsize=(10,5))\n",
        "plt.tight_layout()\n",
        "display_training_curves(history.history['mean_absolute_error'], history.history['val_mean_absolute_error'], 'mean_absolute_error', 121, yscale='log')\n",
        "display_training_curves(history.history['loss'], history.history['val_loss'], 'loss', 122)"
      ],
      "execution_count": null,
      "outputs": [
        {
          "output_type": "display_data",
          "data": {
            "image/png": "[encoded data removed]",
            "text/plain": [
              "<Figure size 720x360 with 2 Axes>"
            ]
          },
          "metadata": {
            "tags": [],
            "needs_background": "light"
          }
        }
      ]
    },
    {
      "cell_type": "code",
      "metadata": {
        "id": "H5i0ENBEDD7a",
        "colab_type": "code",
        "colab": {}
      },
      "source": [
        "# For doing custom TPU training loops\n",
        "\n",
        "# @tf.function\n",
        "# def train_step(iterator):\n",
        "#   \"\"\"The step function for one training step\"\"\"\n",
        "\n",
        "#   def step_fn(inputs):\n",
        "#     \"\"\"The computation to run on each TPU device.\"\"\"\n",
        "#     images, labels = inputs\n",
        "#     with tf.GradientTape() as tape:\n",
        "#       logits = model(images, training=True)\n",
        "#       loss = tf.keras.losses.sparse_categorical_crossentropy(\n",
        "#           labels, logits, from_logits=True)\n",
        "#       loss = tf.nn.compute_average_loss(loss, global_batch_size=batch_size)\n",
        "#     grads = tape.gradient(loss, model.trainable_variables)\n",
        "#     optimizer.apply_gradients(list(zip(grads, model.trainable_variables)))\n",
        "#     training_loss.update_state(loss * strategy.num_replicas_in_sync)\n",
        "#     # training_accuracy.update_state(labels, logits)\n",
        "\n",
        "#   strategy.run(step_fn, args=(next(iterator),))"
      ],
      "execution_count": null,
      "outputs": []
    },
    {
      "cell_type": "markdown",
      "metadata": {
        "id": "kgNu4nrfflyj",
        "colab_type": "text"
      },
      "source": [
        "# Eval"
      ]
    },
    {
      "cell_type": "code",
      "metadata": {
        "id": "EtsFSQOZfjbP",
        "colab_type": "code",
        "colab": {
          "base_uri": "https://localhost:8080/",
          "height": 85
        },
        "outputId": "7f812bb1-f74d-428c-869f-569f5a35f38f"
      },
      "source": [
        "import time\n",
        "import pandaRL\n",
        "import gym\n",
        "import matplotlib.pyplot as plt \n",
        "from IPython.display import display, clear_output\n",
        "import imageio\n",
        "import eval\n",
        "\n",
        "if RELATIVE_JOINTS:\n",
        "  env = gym.make('pandaPlayJoints1Obj-v0')\n",
        "else:\n",
        "  env =  gym.make('pandaPlay-v0')\n",
        "env.reset()\n",
        "env.render('playback')"
      ],
      "execution_count": null,
      "outputs": [
        {
          "output_type": "stream",
          "text": [
            "current_dir=/content/local_packages/pandaRL/pandaRL/envs\n",
            "/content/local_packages/pandaRL/pandaRL/envs\n"
          ],
          "name": "stdout"
        },
        {
          "output_type": "stream",
          "text": [
            "/usr/local/lib/python3.6/dist-packages/gym/logger.py:30: UserWarning: \u001b[33mWARN: Box bound precision lowered by casting to float32\u001b[0m\n",
            "  warnings.warn(colorize('%s: %s'%('WARN', msg % args), 'yellow'))\n"
          ],
          "name": "stderr"
        }
      ]
    },
    {
      "cell_type": "code",
      "metadata": {
        "id": "zY_XBRqvmCq7",
        "colab_type": "code",
        "colab": {}
      },
      "source": [
        "# model.save_weights('/content/drive/My Drive/Robotic Learning/inference_model.h5')"
      ],
      "execution_count": null,
      "outputs": []
    },
    {
      "cell_type": "code",
      "metadata": {
        "id": "n_HaModhNMjN",
        "colab_type": "code",
        "colab": {}
      },
      "source": [
        "inference_model = create_lstm_model_v2(**model_params, training=False)\n",
        "inference_model.set_weights(model.get_weights())\n",
        "# inference_model.load_weights('/content/drive/My Drive/Robotic Learning/inference_model.h5')"
      ],
      "execution_count": null,
      "outputs": []
    },
    {
      "cell_type": "code",
      "metadata": {
        "id": "BkQjdfMSsFgk",
        "colab_type": "code",
        "colab": {}
      },
      "source": [
        "f = 14 # 51\n",
        "eval_data = np.load(PYBULLET_DATA_DIR+'/obs_act_etc/'+str(f)+'/data.npz')\n",
        "potential_start_points = glob.glob(PYBULLET_DATA_DIR+'/states_and_ims/'+str(f)+'/env_states/*.bullet')\n",
        "\n",
        "observations = eval_data['obs']\n",
        "achieved_goals = eval_data['achieved_goals']\n",
        "if RELATIVE_JOINTS:\n",
        "  joints = eval_data['target_poses'] - eval_data['joint_poses'][:,:7]\n",
        "  gripper = np.expand_dims(eval_data['acts'][:, -1], -1)\n",
        "  actions = np.concatenate([joints,gripper], -1) \n",
        "else:\n",
        "  actions = eval_data['acts']\n",
        "\n",
        "def get_random_start_point(potential_start_points):\n",
        "    idx = np.random.choice(len(potential_start_points))\n",
        "    path = potential_start_points[idx]\n",
        "    tstep = int(path.split(\"/\")[-1].replace('.bullet',''))\n",
        "    return path, tstep"
      ],
      "execution_count": null,
      "outputs": []
    },
    {
      "cell_type": "markdown",
      "metadata": {
        "id": "j8Tl464nd-g2",
        "colab_type": "text"
      },
      "source": [
        "## Inference Loop"
      ]
    },
    {
      "cell_type": "code",
      "metadata": {
        "id": "Y_Vk0z3MsbTi",
        "colab_type": "code",
        "colab": {
          "base_uri": "https://localhost:8080/",
          "height": 269
        },
        "outputId": "7b2afc46-594a-4e2a-ee04-454237c9f3b8"
      },
      "source": [
        "# Play out action histories\n",
        "path, start = get_random_start_point(potential_start_points)\n",
        "env.p.restoreState(fileName=path)\n",
        "\n",
        "vid_path = 'output/videos/trajectory.mp4'\n",
        "with imageio.get_writer(vid_path, mode='I') as writer:\n",
        "    for i in range(start, start+60):\n",
        "        o ,r, d, _ = env.step(actions[i,:])\n",
        "        writer.append_data(o['img'])\n",
        "        clear_output(wait=True)\n",
        "        fig = plt.imshow(o['img'])\n",
        "        plt.show()\n",
        "        time.sleep(0.01)"
      ],
      "execution_count": null,
      "outputs": [
        {
          "output_type": "display_data",
          "data": {
            "image/png": "[encoded data removed]",
            "text/plain": [
              "<Figure size 432x288 with 1 Axes>"
            ]
          },
          "metadata": {
            "tags": [],
            "needs_background": "light"
          }
        }
      ]
    },
    {
      "cell_type": "code",
      "metadata": {
        "id": "wwSAAw6NPmpS",
        "colab_type": "code",
        "colab": {
          "base_uri": "https://localhost:8080/",
          "height": 269
        },
        "outputId": "3d8f42ba-359b-4ba8-9328-031f400ba016"
      },
      "source": [
        "# Play out stateful model predictions\n",
        "path, start = get_random_start_point(potential_start_points)\n",
        "env.p.restoreState(fileName=path)\n",
        "\n",
        "vid_path = 'output/videos/trajectory.mp4'\n",
        "\n",
        "eval_seq_len = 60\n",
        "obs_in = observations[start][tf.newaxis,tf.newaxis,:]\n",
        "g_in = achieved_goals[start+eval_seq_len][tf.newaxis,tf.newaxis,:] # same as two expand_dims\n",
        "inference_model.reset_states()\n",
        "\n",
        "eval_obs = []\n",
        "eval_acts = []\n",
        "\n",
        "with imageio.get_writer(vid_path, mode='I') as writer:\n",
        "    for i in range(start, start+eval_seq_len):\n",
        "        a = inference_model([obs_in, g_in]).sample()[0,0,:] # Reduce to 1d\n",
        "        o ,r, d, _ = env.step(a)\n",
        "        obs_in = o['observation'][tf.newaxis,tf.newaxis,:]\n",
        "        writer.append_data(o['img'])\n",
        "        clear_output(wait=True)\n",
        "        fig = plt.imshow(o['img'])\n",
        "        plt.show()\n",
        "\n",
        "        eval_obs.append(o['observation'])\n",
        "        eval_acts.append(a)\n",
        "    inference_model.reset_states()\n",
        "\n",
        "eval_obs = np.vstack(eval_obs)\n",
        "eval_acts = np.vstack(eval_acts)"
      ],
      "execution_count": null,
      "outputs": [
        {
          "output_type": "display_data",
          "data": {
            "image/png": "[encoded data removed]",
            "text/plain": [
              "<Figure size 432x288 with 1 Axes>"
            ]
          },
          "metadata": {
            "tags": [],
            "needs_background": "light"
          }
        }
      ]
    },
    {
      "cell_type": "code",
      "metadata": {
        "id": "NCPwvA7V6ZWh",
        "colab_type": "code",
        "colab": {
          "base_uri": "https://localhost:8080/",
          "height": 321
        },
        "outputId": "58b49f17-7821-4146-d6fd-c8e921e91acf"
      },
      "source": [
        "eval.render_mp4(vid_path)"
      ],
      "execution_count": null,
      "outputs": [
        {
          "output_type": "execute_result",
          "data": {
            "text/html": [
              "\n",
              "                <video width=\"300\" height=\"300\" controls>\n",
              "                <source src=\"data:video/mp4;base64,AAAAIGZ0eXBpc29tAAACAGlzb21pc28yYXZjMW1wNDEAAAAIZnJlZQAAjJNtZGF0AAACrgYF//+q3EXpvebZSLeWLNgg2SPu73gyNjQgLSBjb3JlIDE1MiByMjg1NCBlOWE1OTAzIC0gSC4yNjQvTVBFRy00IEFWQyBjb2RlYyAtIENvcHlsZWZ0IDIwMDMtMjAxNyAtIGh0dHA6Ly93d3cudmlkZW9sYW4ub3JnL3gyNjQuaHRtbCAtIG9wdGlvbnM6IGNhYmFjPTEgcmVmPTMgZGVibG9jaz0xOjA6MCBhbmFseXNlPTB4MzoweDExMyBtZT1oZXggc3VibWU9NyBwc3k9MSBwc3lfcmQ9MS4wMDowLjAwIG1peGVkX3JlZj0xIG1lX3JhbmdlPTE2IGNocm9tYV9tZT0xIHRyZWxsaXM9MSA4eDhkY3Q9MSBjcW09MCBkZWFkem9uZT0yMSwxMSBmYXN0X3Bza2lwPTEgY2hyb21hX3FwX29mZnNldD0tMiB0aHJlYWRzPTYgbG9va2FoZWFkX3RocmVhZHM9MSBzbGljZWRfdGhyZWFkcz0wIG5yPTAgZGVjaW1hdGU9MSBpbnRlcmxhY2VkPTAgYmx1cmF5X2NvbXBhdD0wIGNvbnN0cmFpbmVkX2ludHJhPTAgYmZyYW1lcz0zIGJfcHlyYW1pZD0yIGJfYWRhcHQ9MSBiX2JpYXM9MCBkaXJlY3Q9MSB3ZWlnaHRiPTEgb3Blbl9nb3A9MCB3ZWlnaHRwPTIga2V5aW50PTI1MCBrZXlpbnRfbWluPTEwIHNjZW5lY3V0PTQwIGludHJhX3JlZnJlc2g9MCByY19sb29rYWhlYWQ9NDAgcmM9Y3JmIG1idHJlZT0xIGNyZj0yNS4wIHFjb21wPTAuNjAgcXBtaW49MCBxcG1heD02OSBxcHN0ZXA9NCBpcF9yYXRpbz0xLjQwIGFxPTE6MS4wMACAAAAWJGWIhAF/5ApC4++3+9enLZ/hNdHfov4FStVpJS+hLiUKh8jcqLYKH6+MzmbNOwgH9FFwKuHBQiRzCQKs1ItYO1z1bAVZ8+JBHsxxYgAfJ/8zGCeaKebabFbal80AEriLc0g9s7YZjqfGZYQQHZfjPdKWKYWRzyefuNJo6KOup0dbFrEr9ptIa11XCV2sLMEIoeuWKEO0Z0CnSeXqP7X1MNMSTMFIbOGqglns/90RYzVtWsfhNs8dpWhwziOpUVlfbDUgeIXCd8mq5n8/UeATX8uDwH5EsBAqwzGiG9MXaDP+dmQp7fd/J6+NtrJj2gY1+KTk0g1ZbdQ1YsYHi9Uuqp9RsO/qJs+c6500aizr2wZPItM5LrpfWhNP+ZGQSG5tSDzcpMYjkrCT4sncRdp9Fsh7kJfjpBl4HDnd6vUOpT/gHU5m2/31vEu1AkHEbe1jkgjhymn3t7zCsWrisU63YyQTj6y/9khMBnFxL4iOBgd1qgcrl10geF+1/L9l1XLulV1CL/WxtJgTFAbj55Tf7tx1xGtEomnXscuEIm4/WjCEDRgsNpWmoQgfW7yKhuZgEN8+NE3w5Mh3csJY20QGpry4rZZS2M+CXOg3vYebDRelfuMgxBl/Xd8xJhl5YoeUCQfIXqZOwIi1hjX4ySv/OpNGlggywwWue+6xucb41UHKbYwRxXMNsVxUMLrpVQ7AZxioeitHobgWScAvwmJ3O0Nh4k8syJx0/5iBKNry8faKHDFUD9YFmheY+uWnYZviA416q4yjWD/9agoj/xOaxveBr1vuSc8moOfkDbEJdLQkwLC+ccsKJ2gOLNfRz0Se1Z3at750pCx53GzR4Y/iuU/i5QpiK5ka452xIxKzTFVv6pbCGyz5ulwjnONhC4jJA6Tg0py65UshsKQlFlweR9yvp7FsFfLhQFbSCI3bqUGgvX61Dwq0lZ7ysVDhuf6PQV/y5Cu6q8WIbq0W4iYJPAaM+W3y4WaNpeHjJ6OV2gKcs6het0yZAcMzH6tfx8mjKz+XhK7l6JHepes9kjinKv2VJEOS5djjyUY6KkCV8LMSLBJ/4V1xwQfVhtSzuQ1FVnlnLXEWTWc5vQGPOFQf2bEFuHOcoMZxg2ftrF0w+d7H7Z3T70CvqsExOdai8oduowPeekslrwhK0O6ExEFQMlIT1OUgufcL038VSSJEdJShTpFItKzKcGqFLaOBJ3qaq8YxiNNnavqqTi87z0/KctAGwWkTAMm+VisEAtDa8FMcaB6ppXKyj3vhEQ35yhtA3tTbC1E3twb/2+idMIE7z9Qpit5EJD5qYzPknWphEcJOqRaZk3VYZrWW6S8prRHaJtZypi1Z45gdQwAVxcSJxlvTFWndiS8fNlEkSh3rsim30FYf1WFIQTAz3mMvb8FcCkyYhfdqE9FpOzlI2pT3Y6frk5jCYjpbgExArnId5/YC4Ngt39JH09I/rEQXTBCwvwYQhq8pDxdgZqxRBxvreo8gzn04elWnILcNUr1YUpYFI1ZQzjgRHEvMoSGEOpaFcExumBWgMmZExCp04ZFe/yiNBr9sDRSUHXtfeP+KH+ubIfLvxF4Od4HcYvmJdKqvrPGLTngwI/TnLpTxo3s+XWX9hi/HUmPYpu/Q93TVWMEZJ6EPoOAcv6avndfXEJQt0ty6cTC+auAiQT5RMv5nPZuf5WIxeeWDIAz1CZdW3aHeqOkdkkNjyxIDqNeWEfwfId1kI9DlawhLpCEaB2MZGJGiruj/YRE7jjID75jjnyz14vT8tK8XZ6O8z+aCUpKoBHv3rYaVkQgjPRJux0g5X8i01MAMgWd4zv8LBMmTBRAZrVIT6qGClMhIKkOylAOr8zsgzHh2rKjzePswUwHwDRw+RpFAZ1CfdOj4EU1y0ziscGPiPjO14CpjR12Oh5FfDvCsyTnrFQDsVsRtOw0TJfhV0GAx3v0fazL9RHfBxjcUV7xzdaKortjaKzWu2e632opStbuUA0Gtl9XdNrMW2UGkV5QrBJvsz7qbhI2n9zNy2DxdXeE3YrZuL8ceRx7Isca+Aro9jYXlf9L6YGSRPg4X25llqWyARXCSc0RWky6FPTT/Vl/N3IEy1A+t4nzU8Rta04BBaBTqQanoMgAask7x+G4CsRqAAxDLMd61eToG0ErVcO25TUrquc4s05ys2aXIzyf+nY48RFkjzCmdfoGgl9svCgmUyeiEDVOVtQqizAk2+4fRo4j6UB6pK82gY373ynRw4XQKynsIZgufaAeGm/vJjY6t1r0OI9irZBjePQCNp5Cml3fB8mCMrvck+4MPwx/mK7ZY2PhoLl3OG0cxI1zj1TnYTZ7TGG7u9b4Z1tkBjcfGjM6h+aG8o78aoWLWPZx8iNOaCXIKpkQLfqnJdukLliN94a2tBCGEcP6sXz3rSCiSzvRUKk3LE+ql4H1TD4MYDHTJ3g2vZ51F/GiphV0BDxKdAXF3+7DDeCi2ecqpNj9V800nxR89BPoALjZKsS2mvdTcWHOzKoYw3Eb1NUUUzzy1NoPfwCoJlvTRuPYULcCnIXHPiUvR2qlsRKXVSoH7ZsckXXidlv/WIRr35mXiSLydu01BkuENt+0UpaRnYmVkxT58MfLM2GWx/xPrzGdX1V1oHtXlS11JJKiRDuRUdgwA+6d6WHbi3u8hCvWL+Ew20psYQIFfsR2QbPmoSlfBrXxMFsYg2+ckwIIXDXf9khPr8CO+iuJdMYhVqfnvC/f1sagbPdz5DvcUopSBlCrtNqynKD3XjAdz5Jx9lKlOpqoOOcqv3dpTpUzChuqAAAEW22+elIrwkBlsmNFCqBPRx2JmTJWuouIofTAsS02DugK/44nq3u7cMxX/lj7JIh4Fow3Yr4fmvGf4j3BEi9ys02lCP167b+V9ukuAhMCwkMS9kRzu0hBZBjsa9IsjtQp97JGiS3ny3KZDBh893LoVC/8xLGTmeH+qfWwE1uSv3m176c+hzhUCCIRotdOKOvx5Y59PZuTQ9grtRSasKNM146Fq/jv1VAv6ijtaLziu0lRgd6+nq63AQDfimiFI5shgkbteTqHXlt1sZRKcFAylKNWxw2CMdLQBj+h2cZh1gwLH/96UJw5M76xpcHp8BqCdl+5da0zGsqVc5jRyQ71xZ/QdqcUzocHXGWj5W3os1seb1RIBHifxh15NzU/UwUXTQBUqh0OQn0H7uWTgg/XwRP6ZK+JMOq/To+WWXWvZrLbhULiajpFyG4mvMK8eWHxq+iiQb3I6P4/rRqIDyQSJvuMQ02PnPKe7QKcmuwlHVzkJ+k8ha0ZPY8byXsbEILzhaILOOvv0/hjMzkIxAjPjhpzTHeWgpjP8oW+3A739leRe61VvOOoQdsHDX5BS8yqEO9hbN10B5wXvTLICVGO1HFtbYM7dG6E1UV7tQH/vYvje9V0v4pMTokAlzye7r3NVHsU+JBzi7nYrLtZrIU6dOrhLzMKz+xRfSwplcw94SHgN4iKp34wasrNw+gTyrFgF9YwM1S4xHKGteOm4+VLhQT9LYAKtNmUcPfccz4W28M60v2TScrEljijK9FLIOI9EtWi+1k9e/sMUvRd3kvsYgd4NLVA/9pyMVFYyFRwshQ5NT4Z6CsVNzT6sK34xL+m4fWwFfz86mKum3LZx4aIQZQjsJX+8GqGFjj62JZA6WXYUfyiAxQV45bVxL7/8m1A5Rr/eHFuiYD0U2IDBU/IOWrkdVuc3Br1Nsp0Vqe1vz2ILrBlrFsDYDsF8uVZwW3Flu2kJDKw5UiQYMmxYMWqHWFk7MnPqItrsLUuQ5g/OQDuBAZJPqJkXA/oGqeAfS/bQUYGAQOmPOy55br9H6r/3fsK3ve4k19vBxXs/2pI4fHzXjC1qvFP9LAj3DWIz2rx9hH51dHpYekSS6p2lbrtKGvnFkumLtlHn9ijhaziLU3qdjlN64jcIRVFUU37DwIkgG+/rMFT+3PKTpOhZF7GfxINOOfDoSdhkmPiBLbtQHohujXXvRUiVuroiW42wG3ji2RfpBT7QhOP72aYsATehRY8CFUlL/TZxyyD9yn6yi6/7NpITN6c3GYdQPvC8QTBhkvGQ1pgicyZC1WxoZz0vORByV9oTxCpuQ9v9wDwFrd8HyKS0J4wQFF89qYpSQPBs6aFttoyMZddsC5SKenfR+M1aUu3bo7A1JaMN76VK4U06c3Ulaq8Ue8yuXWeoCOLhIGRnKpUo3fx/VNF9OZNOzhXuAES5uJIZ5RsUpcO4yLC8XAXsxJaFR7fRiaWWVzu4gU4f+2kyG3WBeHwdqj2palWWEOYA720ImVavC/H9Ec9R1zodCbfvTrcKiuX2ORoFSbbu4SwQGlYShwycgIIxoNg79Z13/DpUJ6yo4MeyWJpB5yeBRxYdSBWof1xBXy1LDQdqGwIdRbWk9cTBAgdWiAWRAqG5CrHPxHUusENvrlTs0oTVNUyf+bShPA+W1wlaC1lyk0yZVJ+4/QzUE/CGaBA7K4AiGEpuqjiJIsx6g4BXhOtyISrerrYOomIquEaEiqXNPgFFCQpXr+BvvA3AXY3rusG5NCJz03RhavafIgRtm42SB77QzzhBANyOGt6O5hSs8T5o5EoSQNHwslvGKCDhKUraFjTyJvEx0tx0Qi8yOtHtNNVKhilKBoKWhcBmY0TcDHP2tlPys7rPdY667mARIkr7dT8EFav1topDNl7S1g1VF9MW0+E0djawhXQ0r1WlSHbi4HkxK9ZsnlJ1rLK8ezuEbhbBoD8Iz4ArUD7h38eHGF0qYhoVFTthQCiu90OKf0Jkru1NihOJS9hJ2n+5SMErRIw3IJ8XZtlmVOLAWpC8BC97Ta+85IX0dVI1yZjpZVHwaAvAL8WB/Y7VwLbVvs+1ii5qbGM7TJLMF/SrG7chiz/Lzp/uJbrpVmWmNE0s+bulhv17PJ35w8nJACG8F3hRgz+UwGSM2o2kGCZAlJZ6iDaUZqok7hogRfNlhYffuskG6BlF/2fh1d2tDF7FSu9Ats7xhqYNyE5LufSQrdCVr//c14S0+lN+EIF5K4AovhALghFhpTqA12pqDNQXEb1Mpf0iVfkWpjMnZloUXilm4CP8RQfmhZg2vJSLy5hX3C7bUzqqQIUgmgzeD6o8yhWBKOrhMfnKCPT4IWiQ8FbCxl7chZxpnm8g75k1DrXer5fkzftO4Cz6UIMOSax+lfYWS0zefjGKDNQFvsGOokeLF0DZGmFsZWX1neavqA9WNrhDYxAkOnaCGqQbcXGlWXkprx45wrqbqAMufC+wAvGL+BU1ApfoC5VBgTb5AHsxu+PSCq7WEqm4Z6iHwdz9tkH9Sz3T1kw1fL6t9Se3dqWzU8ECF6LvoA8alU36X7OZ1VwNLY6vYUbltm/+fkT+9nCeTGtAeWV4hnS99WCMhpbgMlc8n0qlP/Q7G341mN69haQr+flRBarzJUyVoFf1GZNgxXk30M8yULRgKigBVFf6tbiFWSRnVssnwpBFZoig8aWgYbDPYDP6v6sLnKUj5XOPDl1k3e1PyuE+s8opr5ye8Nl0Hrj5HMM7LQt/mu9OXetlr3dVM3Zk3lUrLYiUpsUzNMBIpt+jWFzrqrcl1OtCaeZ9qhsAvBXaHJUVhMhcZRa/G/W1yer8dZ+q2cdYCvyZocb2TREbNmQLDQukUUVUv0a4/uGEvgb8nxWuC21EA/ZI14mg+z63xu/tAbNlu0fRUmEjN0HlGxEiACInLu9q5BM05EtQbUYdiXzFXCAFwrwBwjJ9Hy/vhtgUPjVu+YHPOfFux4EYaD4Y+Ujzx/YnDkiROVYaLT3zetS4/+XbgMdcgR/zBPHt5UIIrQTnbD5ZEClq1gEZO0CbphRUnDSfcph865Kwfp0Ypq6k19wXBL+RqNmNikjKBNHyjWKg9IJUEllSpk7O4QoHqY4gTaqKK38nWOuW+wdkTfBLjPOlq8X1CHPPl5V8RZD8p+nJPUgCviF5FWRWQ1vgdVCrGNWA5XpQbJOAAtOhEeNMoEcjRXRqOZwS2efy1feb0Ar5ZAhdli9XZYGOEoH0T2a1z7rBR70tOo2AJJNnlb0/vKWrzcV31VXGW3emo9jXjmJYUbxI3m01OhAKM3yLNKlt0zcMRRmCOs6Rfo209eO/e4JarsLSVQGReYNyxP00SHy79NmWObC4elIJ3nGhLS13D33jbHVqjAlh63NWPwJUYlw2H5UNXfLgsEKohvR+JF5qpf5Pj/sreD4XXy2rTn0gzg9rEwXfwaEtVH3vYn32RAHMaFIr7TdR/nbpBU4B2wk1XrRHihopJDILk9Yv25u5FyLI4XfgVyvjd8qkbex+oeRZmRcBZVHIC9ImYuHEEQr/MtOHDo8SOYovpvdWuk9+Xud24m+1vcxCYlW1A8FPHEj8fBAllZnr4l9BTA9MIlOBBYNmzwTKM+tb5QMQuX/Ijhepj0fb6O0rf+9jQ9/BkX0NP+MGPZNpfTASGZUCzSVt17WhFBJynlUXoCNMQeyeVWgk4MDfcEnlIA5unaeSdy4A/RQ+NYJTQG0xRSc8Ww81Kw0Xccm5lAKoOJ2Cv61WOuRiF2RIk/QMU0Z7XtgKYe108Ilkn7bwGiUMM2cxWleDM9FVWpTFu/nszBWfYizPG0L+0AtKASmJQtYdGcu0JQ0lbTRHOj0KDSOSxAn6ktMNkkREJUUt09pR2QTWC4nFBL/kHTSdbLA4GYDPt0hJOElI/DLFhiAF43cswfCmkTDG1Z9YLwnwAUnHM2AUNTwrNFLYMeDTnGVbDGYViTwen8/GIRzpRMgsiGzt21pVVOw6chZo6QDikDfSZlWa/YTzlXNEoEfD4PuinPAVDjTMsKocb77LcQMrEXMXgJnk1NCwHm+2S+g25+Pgdmd8s7rfEHWDSZ95uT5IoDnof+bj9EWqcDLNEkOIKwWpWsp5cpvZC8bCJtuvQCubD/WRpJf6LRi5WuLNfHWBooc7+Vtwij89PwH7fXm1t60xKKVK+P66stBNRtZJN6GYB8uAvJKvmE1YjoTEVz0iER0704SD4vDkWnU10UAuNgePVWm87tssnJKmsBOXa7HBcUoBkv0FRczDzQO0fk5+O9IXOBss/e3z3brou+AGPBMrr+d6Gy8DvBVf5QySz3RwkAqCjgT+9R6YUFaT4y5LlHYdyZQcREtavQPMWC1yPfuqOqIgM+iclC5liF2ct7W65psGetJSeMVSqM2hXpLzlIk0rWQ2ILwwhAXdbZ/6M6pxFk9Dt1lOTn11l7NEFzAb7fJ/ijPvd2DKhD0+ZrX+P3/4QGR3bJscgVS+fAmOoaeMingUXQDUVMhGosThhWGQ6d+3dOPWhVUQjqxW0Yr8loAqnjf4QwcXJ+r301zSvXeZf3Ls61mg3sNgjoyLEe1jlEv7GJLbsxisSk7f1CmjsGFDYyde76km+7gc9E4ioT9S8Pko2MA9ph22lJhDGjD69GM02EAvXNVoEAw/4B/itb6NV6NVpbc+1dAduIa9tj5h3PsKUyShXnmfzsOml8a7/DVlfc6JIEwW2Kkc336Gh/8ko2CDKLPcBdNDYzxeyqaHUusAAARVQZokbEV/+fALokjC6ovqVitioCANdF+1/XK0I8W2qrtvTUm80v+ag30eylwm8c/mflJIrMXZH6IHWAmGs+zSYge6snuwdCiewwHWDjkH5jsB3sneYRCpuhgEcSnWnxskeVfS6SWlylQfJJe1BkeRL676CbMYfIfP8FHK0s8/fR1prbyQSh4Gg/2zkpiaBeqlnz9Ro2AcLKpUG59Z6PvekyDIdsPixQcAvo6BhFgeAW+hZiYAYV9hw2JIz55f5VchR54FPllkJTNlKMPwuHlGJEt1Vo32SKgh3RuqCXEanLRTBVJeTWuxKQ4tbpHTUPaFqNP8zNbD4SaFYsX34E4LC04gs3z5JJLzsU49zIxbvsfqjoXWkXtxQGkRh5twjKA2IlwiVTiNjtY7ngjkTYGCfKtcqN2AS2Dw29KzJ9jEzaZUPaQEMzPm7pinsAYHxgZq07yV5xDuSreOvbHha/VcDGr5sfxmXPvblaEsfHhsrlz3JouGJrROF9ozQGoXoBr9UR4S/h6HEZZ8xNox1nRJnDw/QF6b7jBwXp5vtwDFnBuuZDLHubJkD4zvTi8xiqUONr4ryIcqk9CXEdpzbSgOlMnL/AW61XUuf1zvdjN+u1emcxFKSUR+xIm4ZAanbJy0669IRuqM2hYR42MYDM3sioVCh/6fPFcQ7/+CUwFaKBej1iGZn/4PHtkJN9X4gg7rERltVMHmebMZ5yDEjFTkgsM0bJOMH8Zg+Umq8Blo9vu8gIyc9WuLZv2pVPsbp3c/RCjlOlZ35v1mDmjMqXaAbvDSbOaZtJ6S4RdPDoroqF/+bLPB6c+cDLglLxla/2wivMRpJBXq4ySZFh/CFQ5YYwfqdeEQidsXJg6HF4A1xdbqos3NM0PNHyvq5dnJkV+qdb5iaPUpwaQ6AsoL/LuhGh219kzZSI7ZBIqfHHxOSZmUCk6WvuoMooV4YdLUjq6AR4BmjkVx7WFtJc1e0MtxncYXJNXk8B96quVvKraYT+fbEqXJVK1VW0MSIf8sHiQ6bitSqjPX2GyuqETg0JfF//iPa7QFJb3j/+qwvU3coF3lm7fmRotavHkIiR0+ty+eqcqq288MoahvHjQ54xzcWNGS5s69Bgr6ElDUL3m3R5c3rYGDsk0+/deF7vVQ5g/se3XQLFAHEDonnhgYK3fLkAWybKWX7856xmhGGIzVSJjLivpNzchC+omhw+ieF8eMnj6PqawJbkQ3+L2RNPDorUJmAGAawkdfpuTUFfK2+AF8HSyKzAbiu6tiSiWsZk9Fkoj/XFMbgS5FPofyLqu6f4VuRLsldkVGzoC4k9l44ux35GAxPyEVtql1JKs2iqD9x6gYB1H/xpIc8TH3eiHDUtwC/m8yrJrYZpgISkDdYcodDrA70XMkB6fzRRMTqPaAdbP2zaBtkzBQMmr8Eekf/LDZJ/keqERF87QG9BQpfflSyr0vDcnOsQopxkhYOLxt33m6ZTAAAALDQZ5CeIr/+vHrCR4Rjc3kRG6Qx/TLb6/Vq6NrrhVbeEYWStiN94dfExVCf9Y2DmffBe+yRjb6IF3ePomIKgArwe6gy6WU0LX/3c2Gbotk9744yelE5Kt/U9uB2ePvC0wqdPR1FpZl4y2kUf/PtvFOrzmtZaGrqUrgHD4v9h0kvcTp7hQtdca6fTeuWxjb37JtGxN7NGQdreyRahTwTK+2P402NGqg38slapKZo6ky0WIAlT+W726Ef6tABRi67BCcYS8YBmPNOkc50MRQkCoUW7e8wXRGBjHpFQzXmdxlCbVEI+g800QBYQdsBxLH63fnIJpLoo0ZY/KU/pkPwAbugaz7BYtgLCpP7YC4ZX69WcjwXDw/Jm0v7YBQQvV6r5b/5X/+ZLjyauIC04tAljEb2ow2Y5c+O0UDGSxFi9vl+MYaLlHYcoiTEjv0UHGO73xvUEknrdxfiqfGATfzDncxdtbw/ccBSyehDBSKXponIhal2fHC1/WhDiWC96kVMcxhuXq4GdmsmQ3Q6WIRsJ4DoeWooiauMfhfLhl92zT8kBb6VJPrgCSnmvLlAx4JfRORP/F/YgPQzFAwpOKsg8QkxXqHvpPxRSZgVc6ZBOwPKuuCvmBUisplkdsoMhyg0OEh2OCQvbpIo/olsWlh4gW/5x4kyDM77Vl5kJwKo7yCWQOf/XGR3rdQPmuWEAqH1j0BF5KjbwcFnVuMkUZBgIypkri8gwl6iCJ9FMOWGXRT30//HkXkhhFOjsD3M0YcoU0zZsFzsX6EG9tBwpJndOTm4CP/uo13B1P6VAwvPt0/0fBQ1qLUy1OUIT2RLRTcIuDn4EVgnE+Je6lTX4kqrProbXHMHkAJckx+ZLQA2iF1kxDXngk5lT9GerPSlT8mDL7PSFgjctLuLnvfTFx3hZ565yWyq260EdwyqTRGdJGaLbzCBlEAAAGfAZ5hdFf7W40dmFXbWB5p46pnHQjc8/htYHH2W8ali4Kaonwqx6o1D73Bt0mt5rk9o+t4WGwGzdfj+yHwXx9QDcb6Ns4vejtCHW/5YaW86VNZa7Mb0LyMOZGH1IjWsIuM95va8gNTlE9UyF8fusoJH2W1dXKPD2C0d3fBRRiGucMz2/PbG6ubhndDa7B1wqPYi7Lk2UOZw4hdLCV2eqkBm46EgsQMUwTiZhz+yMEtA8HzC/vThb2oizhagabOlbbHAiitWLOPC5vHTky8R4hjPt8e+rB8lQtvI/DFYggviXjQa0SHSUipv4AavgMZSNyQCUlNvO6rCJBrlDBU+F2dz6JmTAR2mkagXdQY1sxRap07Zvz/zkmOxHLw3Nkd3qAoALWzA8g0i7TvL/kEs3kel4NTr2VsWPdMyeib1CdZMXCvUYsv2dHb9x3JHCUovRYvu0J2Uxs/RAc/QG11mznAc5C++kFHpuy/1fXWwIylPgw9H2eKnL5nY6MblgM0eZnT7w714aBdTBwfgcw5EVB2Q58SukRBfUFcMYxrNMG6YAAAAZMBnmNqRn/9lymAs9EDEPTOJ5uFDF/PlXHuDm/NlFC07Bzrd682QYTuvBhezhjRDlzu7urZzfkexClvPszReGbmdu+cHHdVSt0HRRSC0r9LBp/7dfR1e7CgN0uk++eWSSkyTQXeNJ/XytTbmnMW/ESekge5zHE8n0fqEeidCG+uezUFXoTadmEZqcidobhLjSnv1f/P2ZI9OPcRyQhOm+5oIROUCXXhGjF84Ge+OEhsQzPVVciSgVDmFifm/pUYQUxn1+FQg/XPS3nMWASKzBtTdRicm/VxviBX0q7aKwbHdN24CopCWUcoHV4egjoc+gqiSr5/3zFeGSdkqylqry5qOt4PppjSRSbgR+jOmulxQtD57fmLLEA8jfq3IIGirhAyIJ18NCxo63ExoPRMhhrrszL7uMv1UXrpQvDXeWcDubJQWgX44NPeC602oQMiD5fPGkPcyH1w4asVBxSVoILUhRB9Vs/1QslkOyklkXNdUPLbve6/QhckCPfDef04ffOczH5fcJtz2HleWFUd/P6d36UdAAACUUGaZUmoQWiZTAjP8xDojwAHPsK6r75za2KCMT4+FPYpa0EW6hotD7VU1xr7ARJt8hMFkQ8LhAOZlEwRBbob6zmWy+ko0/I4cRQAFDXmS3vfwuTDEWQgAVs0wZQXX7eCX23SNNjpNrRUNOfKR5CFQc8EjVqpf1jpmwrrQjuAUoYfbKKXgdA322QUohIXQOoQJr5t94LU1EHBM61x2Q1G289U1zFT/1rmtKwg+PGHjW/TF9eOvYASnBP1aNsHVaiYcZneis0PHp8gptWeHqqzhV4K2PPmSQ0yLVg2Ch0wb4qQj8yDajRdX+mmycBZawqznQr93+LVFOQm6tuHYzOtshady0ELycAFo1H6RgJH/u2ieqPwNDku3koH2Te/KFWV2SXvTpUqdDshHCnhB1Exx0x67sftVqVIcnf2BtT9PVD7tAXPwCRZewR/QH0Fm+dKQYwG9SFBdhcO4ww8aU2kDI8W0q3OXNzUBgqJ88m9Ssi5YUbGFSopgGqQyuxDb2LdU5AwiNwZt3fJTklWc++983X+lhTujOwrGRqVEv7OzA4fCM+IioD22uRAIA62GH5bYb4yE4i1ihy0mJhC5knTvGk4YvO2+Z9L4Zy6IVPdduO/Cib1ZKQT7aQijCYKpv962IYMy8NLl4IP2OsBNxapSZIaZuu7m9tPaUvGyNOeaXICLHSc5A0b8ffcvCeSZY1FBDxWcJ0nq5Hgit2jpey6yreO/SaRRq+TDIhowZbPs3q/BLJZVTYRW8ws2goEJ+YjvmfOO1paVdYFbnKqQ+tqKQ3BAAADMEGahknhClJlMC//xAVzF73BxbMmoySu5Pd98SohxM0m65iJQNV3mKEhQMC0ZJrRIP8MZjTWjEOvI93grfC0Nz9z5ZRPtcBSP1ZaT7A//sVUBz5QR9lKrVo4jlOKRXt5a7Ek8FhfqA1t6NSyakVOUkMr6qS7RLv/HUNxrvzQoZm3PoWrD3jyxermjt3nD/7pCCGOBA9oihVrUz9ofhzFKdcAZMC2hBwtqFXb47yVoxY2do41zruTS+ZSZn5aGzq4UsP4yvPij8gDqnM0EirWTTd5PrwMOjdNYCOtUa9AS+7nJP1xYvfff/RpafNgzWl+SDrVK2YoOlTa3D6U0kmkOyLe9U0gxpZ58VgrxwnrjkCoOdTFpXXMwjuPe5aKJHp1FGY3RdrydJ7alG+ZSFvZe0XpPSv7utpZ5bPftiqnjmHvLykzhKyzEueAV1VhTyt9799Fz935agVfbcRAy5BDt8PRKoyJcTuY6Et8+yjbbnWmfGtETWkQwzgUJmu8R8ZHXXIkeSh4+xTYXHU3tjtQ0J33o2sDGWjEKx9iMRhl8zOTtauG+3cdn7xBzBdT/fLGT1hhVnA7L9Finv3phPc1vmiBc6MVUAgmjd5hJ3bPEPek3qHwik6mwvzKLbeXzouWOqDMLRSPk9qwMMyNdsc5/o8IAsTgyveSaP+G2r3nkpjnQ37rT9PrK/TDpkMuNk8wPjD08duiXofvYY7q3sdv+OLpgnDJmjihzT9oOzOro+/6kAtRehdCjx5qhArvb/biTVDHvhC9u+DltA6YqUm30sR6zeV18/LWILSXoNrzKaHwqA5k8w15mwuZC+YQssvj5TAeaDaHfHumIQeleBKLYWn0INr+MM1phVfzctbwavZrrM+JAayTfvLVgamJ94HbAoz5Touap/G2LPVN+qdjVnlAof+sep6CdgmCV0alDzqoX+6tEwGGZ9abTvCIDvni36G3BPeiIH2ltlrWcaiI2KghKbaTUtxmI359BJUsiUkHVzVgt09n26E0itXxDYo8zHj9l7E5Us3JcAxwoD0PhVSB7Zt9cLIHF8i1nIkK0hGwvJq7U0SY0NzAAGIXq72BiwAAA65BmqlJ4Q6JlMD/Y7OoApPA/p7MOg5ctsFNpKDa5ZkGPrMq+C7m8H5UALJfv2zVZLq+Y7HvFhD0aClmjl2oKCNoZLiYiuwdHjxBuaH3sanBTkoDU3v9OLxpCTy4F1gEI791XLbLV3T469GaYFwH2b/897m0kNixTTUUsPoQN4sc3gSymto52BrShK0g/lCC6qkrZeJccZMax7rjP3Gwooz3cLbxnKTmxALFSfwuzHaIJAYUi8syQAXMhcUbr+xB/VxqA25iS//Vcddg/jzPVY6m5SlyF0F3BmOAYGbAHs/8DZgIoN0m5/NuLwJdjKoYHu6ABsST301Etz9a+Cy8zh2JNB3RlUioSnR19dOqLZqekxKTdSD1RVtqgALFphZ5WIIgkOJAa5B+ZPpfA+MU26qWtSrxYmVk7ThngYh8qSEVj+IhYFraQ3qRyJ7XeGhIi8F8iSK4vm8QhjFlIs9TcJ/MaqpN1leeF8sVPZBm49iLW6lMuWcriKq61mxm0xpltfV7wayzK8AewNliqGuHh9ceziNwAftJE3Y8cw2AVcWzzBgh8zlN/SJHWmG6D64ZLPKLp+LNs2swsKa2zBN9+Q9IkpnbIjW54z8C+zKm0MqBzg8DrKQZM6L0wEUnliIie6MTFMLcX/YBgDRbdlZ/fvxnnHow6d3cS1e1+1w46IpbbkQVm2/Si50Ng95hP7d2PXZhSpxjSUkF4tXA1IfQT/iAFQOSsyX4qGHQqGFGe4xw+In7HSekf2QYGtCHiYyCE9bAWZM9R8tJd+paqj1FBdx8gYG3nlWeUM/Z1ERTRvGJQzqubJBUE+AQFMhu+Hvv3Oo7eL1ns3pEgmO7Ni1MlZqzgxCL446JUpf9I2+B8NEsCahx22glfMjOiZ/G1Jj01lF7w+BtICwYr+7cogkO/u4qUO+2rr/UPGvRPJOc+q/VYm6CCqKejBkaYf6EwXPhfiKWBa9aS+uOZXyq7+y8AjmQDtDq249GB9XRaY5t5NFYqm5P1xTLzQ0yq7b0SVKnBfBPn5YoVNmq8fWZ6+K3R3GeQVo7/joFe/xwCEFaoTaA4I/aqYpaC+V1xWBTi+LrCvD6VttQzBAsjn0qsFJ9XEJKxLB0yigObch17cLFagFAL3VFu5gii0KrIaPIF2hCsStWxhXjkkrDFHSok/Ru0pfyGraqmmwS4h5od/WoMNAixtTm1kO53y9Ll4fm9HWE+KsvA66rWaQDXAuQaUtb/23w5C6vPcNDfFgBI023FB8AAAH/QZ7HRRE838rOnJLMP2C+Tfc0AvnreGaaoIUi0GVmGStVbVOi0egNdi1mkc1ZdgkeLVRmUQ208iU99+vVU9oF9V5oDvKgZf46xfbNwRUHTthvOIa4T3+g51ISneQ3XwXQy0DYHsvo6jUmPaDFgeonz2N0zu/EiXCY6rN90EcMM2XD/1Y/VFNxaeHAE8OxMx8e4DjscXugoUAQiiASJ8mAo97XfdHveIAK5JSQGJkeRnC4aWiXHmjfx2xkvnK5zU3cCAohzUEXApf+TNuWt2HsxjdT5/iaDjyOGBak3/PGJjfTCpx3dXpgtbgaW7ZqQI6z3MplqEqxzHUH3ATbPlTe4iOvTUrU6pbI3PWhpkNryt/tCZTNweXUXrZf6/SJQCoOMcMnvCHX3mwhg1pQGieUJtyxmZL7HCwQnAEHKIU/Za1AuzvSe7wY94+M5NMhsfzTyUI4Gd4BHeoMvVmzbUrF1R39kbxDynkn1ju2Jl33nGt31CO3/elvVtj0gJyf84yBlkpTTqcJAb/V+Q3Nows/LvSiGWmVjgDx1Vgjb8ySwEQnGQyCmNLxM41b+YcoyAhF+CEcr2U4mz44ClQrcknGJfsbAEFU5CHvp2hyUHPRWjSxOy0XyAf4CR+L0VUYgBvA4Be92/4dGPGmVePmG6LwUh/8VnnxwCb6e0pc1q7e8AAAAfgBnuhqRH/AOe6/MbPnDGk8zjAYAl5WmWBBlQGWbq15kFS1aWN4B12248KlyAdkJoJFhLmZmyanY4fUOGcnLtthstQLDjKmB31EZo0OhQfsNiHi+E5Pqdm3OH1j6bwGEYOQOHknN/6pjx4F50jbztGSDgZJimnNkeGYGp1A4lmzVz2lbUW0iUk0BOdDPOOdi4pOvYXYf9Qm0WL0syXhNL5n1Js4EKEgmTlUyBIxiCD76bsq91v72wQfsNBo3QRt4qYiTw2QDvqm8SrSjfDKcTPwy5MufwRnq+skJO025WyqoriEGdYZiM8GFgY+co+AZrbup9zcCAshOCbsRuAYXvWcQ5erX2D2bUJjYbe8HiQD81uZ+ddqI0grQSODvu2ybcLo9Bnn2SUQdVRb/Jx6NWnDj/YTakAXMPbe6Lu4d5LNCcdM+dLpiINnJMRnoLHN8Vv2TxmIY5fU6ON6f4vjEl4c/Bfd40JoNe43Pa7HirP/qWMWFHb+Nj1GC/MoRYn+a/dW4Ro1Q89Xhsfn3hyWU/pUm4Y73QdqHXyi+gjY7m1EbBEiw5b0WE+nHj3wyB5dHgc0xfj9BaiYBN7JUV/cXuXb/yFhInybJe+FniCElCdrHlWhhUTFQsgZDcl0mDQSChu0AmN68otZMeGgsZD8Aw1cDtjtLEkiAQgAAAKNQZrqSahBaJlMD//AN8NyG+Aczwwwfx5Udzz78JlbX8Jf1nkUm72NOz5kT0HRErpuCqa/mE6XnqIdC9PuIUc3DgmVozMQ/i+urrJzPevaPRLSJApOTO48KAKCsgloS9HxodpYJIg3EZGvKUgLzQHJmO4yt7xIe+NBxv8crJXs3IjBif1CchZ2lLUqyzAL2XHtGvua2+Qzaif6drco6ty45N08hkf6QVKNmi6e+BXSa30vg7ErcQ3vzBz7nym6Z/ym1m0N9JxvQFjutp5ZOxziAeMHs/2Wy//IVRscsSEFArj8fpCey8BMVdOwbMOgaIx2ehFGq4KjbVmPSfOTYkUpbMHInOQ8Aw78d8knY4189nAiPZoBnIq2szJ2zhvxYQE/bl2OmLKiqGwHXkyAcOJMqD7Svr7d/fOqFjIENCTMewB5JvGpML4R3CP/RfsF2XYszKdOpBqAS34qsLA6Wp+iTRziLk7qhrQG1awB1mEfKt9ATYvcmZiIvYvzOw7IVko3seZ5D9vG1lF30/nt3G5cCrVjpZMOGFzpNTZKZuChJ+xBGriJYDC/hfNzMGR6mQneqQMhYLrkEDn5Sivp1XAS/DuBF2qgLJPCujMus+lhYCKQdU1/IWS0Cw/onoaxxXgAyOWY7DYFKmx8H6RDlLkCXNN4YW3LD85VatIvtG6alG3//OANTH/M0AcommXVVE6HnZMRHLfM9MZNe68qPF/z8E75GUWt7dUwP9nskWcsHlSwWJbDPKCwXMxn6qTpDPKmhXYihOz+JHYBGtlpTosnzgHvZ55dcIjVJ2VeyzScaOt2NCIzT5nlbjVKdITEm99ArCIeX1Yu9RYt0Wzqe6f7mF0kYnRzcHVnYE0myCEAAAMXQZsMSeEKUmUwURLJ/0pUzPelsOZr7lbSkQu1voYsOMenIMF3ncqQkyijr/KiDJFltmSgOsElsvNvc/lIO6oEy2m4BOZ2IN7zo5hmEubRsZeGqAzWItMEBiKEIjUh3ZyNoFeUaQpk9s6Ky5bkPDPxFEcr4VPqJngWlUxFAlMM1CGmTW7aTKQ/8mCI0jKlfy3Fn9KV8eX6OSllx7Om6KdSeatmQlK7BVV155cqflWibK+mskIBw/G/YkBMQZTy9aGxIAi4K9TvO8yOX330rE9wKbUGu5gO+F9JZJJXR+Cg5XCi6PWCErKZRjSWexHqMK4JpHH0gOx2I3lgCgb/WlItUHsyBA2SVMspSXqsWbAeEa9qmDmsLIhqpnWUXSg28AFESlerCeaxlNFt1YN936TLme19XFPwW3R8PmvDIv/C/Vv4lpgonOVo+SaVOTAhXaF8vHBTSbSvqOVl3WC2G00pN78ditBByWbVOLkxdSCLhOHR0XCugDP0RJp0/L4n5Eto8v/L63AcHlhJcwVUfyfYoBQng4R75I1aZpgm1lorkUGUs4J3eaQ48O4G6dffTW9kauV6H/fDHOPhHSvBgqpq1AMcjZ2+2s3yCyj8W7QgQs1XkKV1I9tNWDncPOnWg/nICLDw63unw5pjhY/nbIZQF2FiyJ34WsHYY+3asuFm1oINQBn3/PxaFjioQPEox9E7SrnyXSAMfvmnQMu2vZ5ZNOnbL+tHxPUP9nF/W+KPyur7U2CCbdTEHZB2ZCxvGt9CTM+i4cnx4Ooygde5DtvydsMZwETLI0kW9UkqDDmyVBmyGRCNMjPa4UvFH2XA/MrvXIM0yaz+YQ9alSCsFwbvVkJASz/zUY96Sud9xpvjPVnBtPabmSdkfg4nxvOx39dhJEUaRAgHD1R0ta26rmOikCj3mgzGXj77mC5QD7tRK3DdmBJ3b2HobH8uOdbQ7LXe0DjGrBw4ggX2KiDg3JRxG3jN+TU2LP8q3Yq4PCV11cdM/M0RYexCYDbQgA9HdNkETrORF7JvBlXmopTyJbKXsAAKuh57G4AAAACtAZ8rakR/vWQPJlgN+E7emW8RSyBw2Pfmd4/IY0wEnlMJ7TZTcIjoEAlHUJAj7vSNhtUjoYk6+wGDlsutuZTs2FyoY9Rpgdfy1YehSbLZZR9FMUSZ46hvkAHwR97kW7BajQ+ac1dtbenAgQdKtC+kDiprYBIuRaojsMd7cI7mbbKhA8sSJVgnZj4hWUlQCHb4GVa9Mg9LOsZfedMBmCoaOPYzyNwD//Z69Lz6qYAAAALMQZsvSeEOiZTAm//DgbirghmwMKpaQFq3aMxFV843XIVvrkMUA1wcihseblw0FtNXWyiLtLiKCDIBIDOmah+jb9iSrjjXuseYdPRIcIVIMRbt0B49alddH66ARxp9iR7m2mMwAm2XEonuD2QyCMJFa9mpislv9okph3ESkWZKOd27nfTTcnoOhvOs6i44vK4OnI++hgwqdtS6DqWldumgaCOTitcldOdZ5RWLwvBEVbo85Jtwl4ElXkm9RdQvUDUOAYMcCtFYfXxCSEDGOuHOMa/KaCGT5xX+6/pPpi30fj3EK2A7w9irUwetrXZz5rnENPUyDP+eEF7/u/SHWjgGFtIyCJxfoHTwcL0czeH+RpokEXEDbum30DJDwgwfGaq4J2ZSmwAAeTk6CoWEVmE8sIsCSDeXR1UuR5mtZuFfoUBCO/7+mlZvtHhr7g+vKI8bLaiWpe2ZPPg/+Npcr5ZCPP9pC8jh1iP/iRNpZCBo4Dne7eFYNAFzPyfVUR63WLUhUSEVyzyYND5J0Doc2jYFX9NiJ4UUzfZeYOm5b08QGq6HedHBcy+Cd12aGU2SQFtfPEpjTfqRklqDPPiV4Yb8iksHyw6B9Jh/nRhOePqKtJBP9A1AfhQtfaz4/r2+2gI6sieYLGM2OhIVQ8Dvo4YI+OtFAw+Pxk8SmTfi95RuwjRN/Nn5GilWC8qeiGt0u6CPs70yT8dxnwA6J0JM3VDg1ON0iWSjobYyNvO4O8GdRT54OyglYSuocPZQCjgc4SKYpjp21N4sTby9lh1egxj+U0kFqTTWYOWxEheXunpvumcxyxT9HeprXfpD4EVnlCmnFt6y2YVA09xQ20WLNtBcJ77fpRu1s8JEQvPnJRoBs1IdFJitK3wLJGVABXTyNIYzD6JhSesxn0XFSF3gIGTuypRw8qxKX5+Z+ZXdpTV5qkxAGWkiSRJURlUUaPkAAAEKQZ9NRRU8R/SuMFOVbh3OatR0bCP8Z8/mFblq9fHYGzB5pj+9BCsCkgqXR2QSKfUeBId3/W37XoT2EMoewMpvX7zD8t5rn76DsFNv9YzeZCqG16u10GkQ85lZVdq4poVYXZX4qXyEtcw+Vck4FVXlJ1xcI+yo1cwskjCd4k8ao8w50KIihTo0Jv6scggKDCgNIcLJ6ysnzcJOcAC378jD0mIf5lFgVeQm9WP8yuPJuaZwN0MmjRR2L9VKNDgn0/CmjAriWjysMNpZ92NT7v+mplaBys1o2yeeI1YGFlBJ7D1QdynXpGXxxJXHjnXYQdwK4u3rYggQmQ/nJi7/nZDIa25+8OX2+X7LQfEAAADvAZ9uakIf/Z0HMTxJQ6aPPk2u4M+zLnxR8I6QxSfxt8jxLErjpvRYrBr/u1LUe39eqY0jbJVUSaIfnJDBdckjZrGkUNdRHlLAF3XJYr/nmhnx3gBmm8+4P5/6TYeErtBod9Tc53XBMEEfR3wHj2dqwVHyyN9d7OXmnfJgAGXZZjaep2aTwOk+n4WzEyfQhw6hCb5qS6LuDSVNWEc27ABDRZmE8xQ8YJTiK/wQZlAcip9/yOSjfiu5y00VF8lD3obfSnfYA7m/63cgAd/0xyh6mXk6/y6jsMwE5YHrWl163g2wsjxNRC7NnQDoxRFZ9IEAAAGeQZtySahBaJlMCO/+uEYpjxp44If9iqf4k6i1YoFmpKFteYY+p+tYGUiv0KVNzGrEAW92qOc9v8Fl2MlhPy+HEJXVYtOhDOlTSIH+s8+7G0E5QdJdCQ0We4dvNEa00o36IkoCsUecmOZ/IH+WH+PL7DHvVB68uiibemy+efXnC6uBopoGqGZ4vLcvPzORGIbbsdeqLS86j7OqOkEfCptIecFsk3lfxT6mHl4QyuNXmiJ7I2eXAZ1w1EXqphdfUVDNw1qZVWHFqxvzpbQsFfjIGW2Qhe6VuTkRM9H6ld9UwOu8t5qr6aCpnUPZXveJL7JO7BGaInQpSe+IFbGIYq7m8/AqluHvtcbUDaAMt2eeiD7GoY4vTV3NqiAuncBE3xHIjE4G2UvplvwAc9ivu5FKAPvroPEfzS0nVLLbYfnd2ud7QnQJCRcXa8lY0nJWV0SIVZVVz37zipttFGxoOGVWyoeCelFtZCZVymYfP9fc1eb8Eagwgx6tE1UbmGvbj22q/9xdGWzUbuK62d0YlBENdlT0khLFco1MGkg9CZOAAAAAfUGfkEURLX/vkoHS8zTDadvNNeHc1/hPtnXDlAa98EOJGytPD5nahONDBeN2K82gWrknebhSCoTFBhGkGCAPHMUaVTfMb651PQqebOMhUOBN2olSwCsNFvzRsaId48niFT1qD+54DexX1zgiey7YrUorfoyQVEIjfAGpeK7gAAAAlAGfsWpH//pIQPk/U9kHGD4fATJSDcz4iArSbx31NNTv52R3aFaviDpzOeXkxuONnOHKhl0X73r7GXddIy2LApNcffXmKRQXzF52sgE5LOz7I6oWCdnJGHrIyjsmg45awdzs4IIXtyHMVVGWP3w7a5X8KkE0Jz1KU/UzB8J27DIdOz4NFZVTVNN4GSudvHKhOpBP9+EAAACpQZu2SahBbJlMCL8BzR/JypTrAMC1Ajt68Y/Z89RRGbfSXgfqkj04lhgnWnixrX4kx03KThUVvYeE18q2GJJoufXUtmMSXREAK/J8tavriwZL83yK89v8B2Y5NuQSdYV/3kUtvOKx2XcjvVmi3wZBVyR+JLekP3IR2PymFULNNjbPnn44uK8SlohIHdWDYkAMm3gaBJl+DG1OkEJCGWAAb8AC0VOEji5EwAAAAItBn9RFFSyf6QjHaLyK3E13AH55wCXybcgI8hY2PuaUQN9HnY7V04Zr+A4KkIB+fI9Sg8Dj3ZLqpfi5QzwUY1NiJSIPjVsosVM39DMvBfhgIkPbTxI5m5As9/OhMhmNE8qtEg+hZOCVryTB9PfwLLEVKrjK8+5aIWSOb3iSWIjyMm1qaY7eVWTzCs3kAAABVQGf83REf+o5geOghTvJ15Z3QhpR8taZrE1c6RPTn1LkqeMNr0l+n1Xxfr+ZOVG1zAQ5aOEDRaN4YSgo1d15JgL+beQwYzQJotJVwm426MH8/vrrSfsDEv/XCVtnzH1ROx3zD76tkVQGejKwJx7XMfX0C46Mk+oy9Ai1UNxErKI7KltajVoN5Ha0p9aNYfH7k5MSzZRJef+17OUoKD6HW7cpRGu+sJcQAfoJxuRo1rHkUMH4bNzZMOjHZmLQSNfgIiiAIxlA/0vDJfJS9qVup7cZRM9VBxm05dVmnjki9XLeflkpXUgh4XorHO5PuA2Q+8QcxKGGCbGQ61pxukZeHuGXjJaOQZNKrBfldz334usDMUOco9UflmZBB3S227bA4Jf6MI0oGzeEBilL0FYuz3Z/mJ/c+XX3k/S23xQrUFdBQ7Q3kubm0uhQ//fmFsKjKhdfRf6RAAAAFQGf9WpN/zAqfENWr5+1bOo236xSgAAAAFBBm/pJqEFsmUwI34fIPVJbzG01nMSPpaa32kdFZQUgpt5awQ0utWnkCpESoPeVt56w53CFZ/CaN3n06sAN4lZ0II6vO9u+kgbA/wAj8dY0vQAAABFBnhhFFS1/SmCqyiIlZunyrQAAABABnjd0Tf/z2ZIMQIok21UwAAAACgGeOWpN/zAL2GkAAAC0QZo+SahBbJlMCL/kQC3Hc8wr8r9klYIDG972o8sLctsQEwvp4t+FOizytaAW58qoXW5wEY6jgnUy7pv5xJaZBlTutXwv4kBuqV3IuSCxDFIoXdkJu9SI5qZw22oZM5RtBZcRw+kDDLOrHsfZV856/ApSAARFYt0jKiyvVSIAh0QEjisJpZcxeQSQ00x4nUAHqJ6xgmJqYP8xN9TyuvRW9rp6kO8NTfSOW2YFqk9hQCU2L2F4AAAADUGeXEUVLX8DxsZAaWsAAAAPAZ57dE3/MV1W4lYp6bUFAAAAWwGefWpN/wZp1fmqTRtJ6Rd9FiQnPFWjttVC0epzrzh3EwsWscVY0/S4O/YjO6+24jnR6WKbwIzkZlgoKRKDFl8XjyAshQuBHlTRwyZCYkJdVYWvaOrpvm2TXNgAAAGNQZpgSahBbJlMFExf5EAtu3xqdMooBBln/3qbHV7xamtB0/ha6nE7qlKniEpaQ4eVJeZaw5LtP5CVlkZ5kKAiHFmFffstmUOJEsMWlwuqV3Ek55bXdprr3AywELPpFvwMt3szZj9o71EZMEbZpvqsGIt/KPtxZ9w5hD2sUF6wSCbFalp/+HDP0HgwcGpVM3BkCtu4OqVi/eXyS+pyxuXb0aEfJuNJtUiJTleYio3l1Mdrxx3Xb8xmMv8deTM0eGIQEGhcthVXtu6fp/och3UHfiRkylok6AHmB9emEZuHTCkpjK1hH/q7GlwQ7TDicDl2PYbLx5H9AZ57WJPucDunRyagNN0tEe5OiPcJXzLb7YohW9+tX1xzvw+QL3BDUzuy20GQhJaqg/vlxNJ5r/lv9zK1R8yUREtoO7UuQ9LIUNWDBxd5NSoFddX/hPWxxpWqCtOaei9SAXatPqcYkvQKeEqWxqOFYfMoTG673OkAsDbiDK+MaJPSwCXNGMWJV1FrulE6nyhd6YyRmib8GAAAALMBnp9qTf8I/yyKPU4CHxZecqkWfTRpG+ojun0RhaKOgUmN7DSFSL6DeAZw3Qdnu9K9GGqaBrDJNYeJcR6hm1kOjbFjpMsbRBqZsLuDgGb8Rw/ASTAcE7SAr1GjXhY+UtOEngMM8f0Z7PM0VE/R/8Hb3MOyJBuGDdMBuaLhb/jGIE3koY7SdR+pOtw8lmsr10oz50p+2D1/1eD2oBru1uC3o4m/9z+lc//Hq7bJYmBm1s1Q4QAAAipBmoFJ4QpSZTAi/4JkiURa97U51AL5ASrdIIPJJOkqcaSFbXcROhpZhZCuvLTzbCrPiiTsin5omCFpAPVgqSD46tD4F/qe1lvH1DrDcrFqnJZJ0awogO7JocGwZA95lxPdT4slIrs88NvhYIh1wj0KEqMRFtA4MBBYSbi5f9THhh+Bp/v/xPeK/8h9D24UbsArIeDZltlQNPfY0ufgMm1Y0Jxx50xHBFbtXhpSdTymuuNTL+f+Z+IMrpiKkLrFYAEWtNQtZFDgC/73cI1ektbe8phz8ih4fnU932X9SPBD6cOrfcAJPVnu71gOI42oal3VLphZhCCSdUI1vBt0ZhNRXMrDnusFSHVYhOOW15DKSWQoFlNbfOov5Foz+9Ke6E0s3nmUyW7IUAiJP/ZSnJd93Z0BMA567ZYmJxO8y9e+GYM/egMGCd9JV+YJAOBbYuYzVKTlXgLzrRap4e6dF7Fu3fXPxAw93koi0LFeEVBo72/b7yPOa99yAD6+ysOuCXpbpoK6HaINomPTHXYjcUqotq6AYK0Yj4iwk7fPz6XbWosvN63DP8Ze20+YLMbk4QhRIJyMH+xKFVAX8/PkyufBhq7LtIyDW2bBhhxRG0SDzzPqiLFSGkgO6GU2nvruHY/2NcsJRps+MB2Y7qQoZn68eKcHyPa1fUv2+c2a0wnyxA0JBf5erwsD4+tXZntPIGuUh2L4uk1O6A/23nQ2mweQTxUSzXDa/Y2VZQAAAo1BmqJJ4Q6JlMCL/4IAdPwqvO4BcexAmoojoj13sMavqVSUB+jropnU22lf08m6xixYjN9jawN0X/X7Y/EvSaOWSGP0p4IRNaRsRH7fRyw0KDVlY2LlM2cwVuobCXTS94XjWffZdZsXK7wynUAo/XVOv4DITwumpxBoC7vRa9WTWPvKi69nW8nARm4nMLVHkBW9afUCuivURS71k30z3Hn5CMaAAlFJELRXXmqdRLG6y4oRaQDl1gWevGg7YyyculqzcBjl9svS6EvBGs0pB8zwlE/501w4BWnLOsvikHh2qSEjyWoloycMKsljSXDAXiNCW0OLD4SMjHyrSn3OIeR/ADphvJQj1utWwjnN4xQH0ANibU6qSz1Gp/I5TxvxnwZKGciZZeFGEuQukWhWaWhF6MKrfcLdm6dPtVuiF27GibKSjbCz3/6Pjh4bUTexwbe/WXnhdAXooPWTlQq+Lun7BEDRbZOT1j3WcqOE35TvFQXaVeJAdbCv0NFUovhUKaFJpaNdg1lnHlt4kRmfNaeKwjzhAJuueF75gWckFPGUnN/RZ0r040I3OaV0cOrhwavRCXxZOm7KLbe01yAJ1MIHVGCHP5vaeM3jeHcJglUJbSXuVKy2UMnDWvQkMQXbkyZEvzsl80z6C1JmQoxBluFWMjYBpnTAe1h0oUdIBtr7AH4zUx9Yck0bLuNz2lFPjJaVvRiiURNOk7SQCBshF0IjcFJxx/6jqgmv7pdHPgx16pZ2ZVVcXNb/vEypvbcXOe5/es7e2LKPc7ffatuUoErNYmld0ob5+0PsbxBuoCoyqsPwOrSTYAwO/1WtXlE4jBwOCBwQaVKhWAw0frdC9C9wdP3kcpJe2QA22U3IvQAABBlBmsNJ4Q8mUwIn/0o8wsMji8urLm31DDiIQPP1iqeDQz2tYWvhT5cfELb8RhJU0wgqfHfrgxtGz02HHDqvXI1ZorSmGXV0VmU+juuSpW/qK0RmABRwvykq4y5B1jmmP/zyVQXIlKU9tb1qwG4aAALA963wUrtJrdHBph4TlO21qqSE6NSuKVjymZxbLz/7XSx5Uowi4yRZCzbB/FQ2nyTSFfbuVbANC1PxEnLPu1SlQXYGjuugISJZjwx3j2AUYkKOi4P0BqSeOhqJuymO8msrnJCTnPwtSIoulHGiXIahivO9oCgiEdC7iygDi490nP2gAmcao/FSaBQYjOqSP8QlYm+ALpXYtcLxgv1Om2mKRDDnGmXfbfpxWCS9sYCLblF+PhJi1yWMrRvfXrQTZUGou7V+K6PugGbie1584n0yRYp4sP+b+slyJgi2EQQYPlUvAVD8RM8lJHcv5DsyGKDtoAAqGNl5k0vzInDO1hpmtR3Pa4lo1SwOfu08G5tyt8/Z8ug8rlxvhOS4bYl+sjF5DLAmO6zY/Aq+QfLD95VkmQ4mwmnl1TKUbCP+lpAyAoSIx9uJxNgoFwd8ocIwD4z5tEID+Syt7KKv+rWtKarV4wLKcxwrGsYH1kLEl5X1TdJTaptCCecJ1YT2SKOjI986T91IFNoEqvb70KmKGdALX//z43BgnIH1VpPSbZdiGhyIGMSIToI6d7tJ3cWRqozoZMglFJuFho1okcNXq0ypn+fXggyJ0nfV/Cb+w/pWkORxs14HYjFvdtVhLSjrfFmoduShyXMN6r2y/MJfbObd47zOndpnsXPcb5zkQx5dIMifGVBZdb0qUJbd127myq8zTHppxjgWA4f4WWO380YDkLs35tV5rVz1UGAQ+i3KVGO5IAoA91d5X+vFYMi85UCQdxKP+9NHkTuf87uH/4Dq81GvlDb3/2V1moMeblBLlNMJDuAkoq/0dbbAP8uy6V3iOLYI2OGhuJN5aAeBbgNX1sUiWAs618W25b1CK14LhduRJOm3yj6IbytYajp6jhrGZHK4XGlMt9rxfGRXdPlj1Wnbr9Giv+QZKcGEn4l1Vx7Do/3CSWeqp7N5xQoPAPi+oGtx2ewzDp5SpFE4f/h1nmlz0IzTSIdk1+AmkdGOW/N74T6Wl9vTxuamR2Xk873pGShUPs2e6ELXxb9NDsH9utmljUZ8gjAkSCJwoqc3c8CUdeOn3BQU5rkbzRhh8helQ17D3i0w9cqJVMc4YnwfBVJvvVbBNS49mFwGEjOrHzcV4slCi6Pz22eQCwToqj36ElkqUAEgIFrqR2WJeon/Y91sZjtrOEF1DZQXPxAn0C9nh+TmKpwAYRrfGPLOXkPiK9eNAK6T3Bk8X1i5WeW3CKY1SHusV3DDYAAABDpBmuZJ4Q8mUwIv/2p2wuUV5qA7kP/lMgYMOGkQ85DXTBT5YCl204xtRK3fpT2pH3lNVWI14ysKIPVQCd7TOm/AvtiizDJOKX4azzRtQfjUljEkPyBGJmL66glSrqgsv88kXw3Z8IP5h331b7+I7V8CE45GEMSdd99cqMPzWrHGYEk0DnhwnGslhlTK9GU29rxAXDOW9qdDtdSGPF7Rpf2UKOP3AwvVTf/ud46pC2eTeXEtCseqBDd3hjOpBJKRn3wXDZiebIFK/IBLE5aiKDqfbBKww38wA6MAD0jVzV1khRytXj+oSbHFNbDaRR7gIfL0s39soMHNac+7Iw3dT/99Pr7mDr2wkauqnaUiVra17cqs9jaY8dAkV4i3E1xolF0rkEkrzdC1DIQjyT9zsbyGUt+c7bbI3xiRze1Fc5O/LWlHPkFnqfDWg8SrbIa2JOdeiHjusc2m6seakQQzln2fRaZEz3PBgnBXma7b5bRqTYKODuDvZDhYd5Q2dIrn9woNGJdC/MreBFcqwamD8f5msySKGgFAk6JENwG9xNDVQhJEg26yG+d6NAC+omQSOEkkVqvc/AIwa6f0DevjTGOiUH3mguEyzb1YiDHoqbE+T0h/fYRoA1Gmn6J1ItZdb9WI4YrCmpNDFVs2VI0PGyCWfKXIJpFtNMFJBOoULcQRHQFgmq2eiNp/1oORsu7iIl/flbPaWy+j7Xq78UUqMdNWV7SqW8JemUhY6SWNT/3FpnGWWcf/91sqV3aZPMEUXnoWiB+KmqWfDINT0YpZltjOIVBWjNYyO90OjmD+0ie+0ban/AQNuYxfeiSYYiL27OF/XQjedREkOtwwnQcGwDvKokMFwAd7XokUTzkBwfxH5U+MtUiFsTmO55ANNnx170nIny5T2gTQDMi5p4zscC0h+fIHBXds8T877G2ORCVO7lb+/UI09s8GTe1PBiYP7gX9P+sq6qr2o18d2z5hE7qyMLcJVEZLB3xd5mymiNmkFkWqrEJPV9IlQvsMOAOw2YRajcrLPsM/+rFfIzI7X+QC2RFma696CuUrRBYVR3jMNncy8B75BnJCJDixogzNyT5yvTN8uXlDhiocPkoIH1lbqtMIaL4XVgiZpHdVTHNcjbyNWWyJnB0//25S39mdA5XKi434D7g4niiUbe5SxkvsbF2gCj4hdyESXfIU4vZ0xZ3/1uSJIS7Ec27/qDYwE0sAXx7omYys/I/6nkXZKAhw2huVxigjmpAQgA9iRJVWPphAomTdhDSpMZyFl4x2unvvPirgkF9ij4omljgwaTjmoMTgA46PVRt4CTxv4eCmVfUcex73geu/puumSbhJEczh/uaHMEVaSa/b+OanE/8qiMq7qpsomt4MaUA8ugrpoN8nCcUluv7LE0Cje0OeOlxKQrWxYuIBPNpxGZxFEl1lUCy8BbAJUmlftwAAAlBBnwRFETyf8rTXGXQ0wAmn52coXiAIv3doHTRhJC5+5VwlX41xwvTm0xjZDGBJiVlvYkwNw6eMXxJYY4JqtLdippxW2PK+TFuiSKfmUGjEsc3DZsr/O2yWrvzyUbSstCWLtNwL8FSoOB9K+BDeOhMpXUuPlZdLzOfhvwIs4tjtXQ9WwVucizZK9AnGYrn73Zg0xSJWMpIpVMsshaMjLTHNaVh5+rPE+2t3A0/vnBJNbTgpTedvultByMbnViDS7ppbmaDw9cp5lZRdTX6V8uvgG5FkYFFBzMEGwT4M59I0slSTsH65R1kFVOJ858ON84CwAcleAYSdSxm34DNiJWM1gAALyBdc9O82lEKKjZ4SVCPyXQgEy3C/vwFMHG90PZicHt86WO2ymAh6+Pp4APavsAeHBT74/tCicJTYGrkQVvvBR9tivBpSsfehEhURG9biEoLbLGHdnoqO9SH6yinBFf9ylL4TztaPiFaVEeZuilphEBYPWNAkgjDt9V2r8lC5KaDcMJh8C7jV+YzKBqrqk3s0trmVhYHuExsG7bHZY84MS0z7Et8I9non6TApJxrnIqYFH/cJoxaPnLdQbuAXt8kzcMFaMu4sRW+HONK9eq6i4Qgozwhi+vAG+utsRXESDiQ3C4OJ4hSbrvw3uLY+adLR/JfIO1ddErIxSLd5lvH4YxjQkpVf4ZAMkr6oh/jzVhY+7XNK+/05stopUoEXKokJa3jThpg89UDoVDgmo1M6bPUxFbQKdTW3aRDEjWHOTnZ5dXs6HOXQNYEogTxRAAABuQGfJWpN/1UgZ55vt4b/7TdXXRzKOkwZiudObBFDYB9HbBJ7u0ld8LH0elaROuuSkHqHyY5Qw48jqpnXz3uPETE1UeGfD4rS4ilb3iFgtfpxdDzOsIlPneqITt0ocL+0+qVhnhNS3KRIPB8F6lAceUrr6o22ActYyZrTrPFHiHaIQAoDE/43yaz1gfa+OGEFcDlgrj8S7WxUw9kUyZSL2WaCVdPF23udPzVm2MrJ+BHr2h/+INv0qv8mIWI3muXKD/NAQUJ686wsrTlXtX8ZBWA9GnNZLgewdGrqaR5KJlhWXoyuMZovUTEpFxSOjZAKHljUiXMcChGe8DXvOmn7qc+hxBMwQBNLPEtdP5spaWVQZ8PeAnopLk4Mv2ztxKriqhCfIVOBGb2/orqaLBV1GnftOq+Ee/X/7sowCyUgfKoMKsW+aU4OFTsqxn7KfBNOcrdbd4GhyZa90TwoM9hdAZLxkFCzyVnqf8kZ9b2P45B76AoruIH9U6e6++SSlHAunAvBqgRv7tnYe/WhIzRT48tvkoBY/nWXkpOd6NZnkDrNqQTL0sv2gfN+xekZ3uiqmohtviFEG3b4rwAABAVBmypJqEFomUwIn4dPqitflEkX+1NIBgP6TpQEkrSeO0pTP8G7GKamIqTdqMhhaqLaeFoAVK9PeQEGFbrANtZN/y8FmuIYbe4zYtPOMa5pqJ4v1HMevVg9FSLYMpeCrpHnOmiSLtVsDR0v/X/ItPiDEwVQ1MZqqQwtKb756Q53kTgBF0QbzWTLDJe9rd9b8s0vcC7OVga4Hmh3uv+fSxcDJv4R9ZjLP7vjnFUoIY8DX5NE9LKoGBFNBSkiUQPkgsPTuL+ggNnU+pV9/w42V0Lbhl1zicuK7fJfLjc+AUpLOld6Wt0HRbZ0Fnaln0EKck7+YZLtkHH2g0sDJJTsUNN8f+n7E1zFrIicO8xVO1UKrMhSz6QZvB+fdQ8hZzmVmeHFndLXGOyIKAfdnau4FEt+ve6tlNvUJZeK2uZixtcC4Q14QaEChQ0VgV/gFkHyF0lCbqBlulYpi51xrudhL/N4ONhCOetFSdpPbSpQ2zGtc+sPu8oABzeWfS7qCMtn6BcJ9XPe588RpSQbh+BKf40VRouY/0aCOVPjkstgfeKOe5GODt3ncKHoafmvuglnJou1mv1DsZEkYDdTVdeM4JUOXZBQM8A17oBJflL8fxfM5RZGyaIr3CpTAOLxfFf3ep/F28XliC9RZHiUcJOAfvNU7CMOacAt5t9rdd7iFKLvyzem1PMrYc4ygz6cA/hnJhG/pLXTxgnaL1OE6OZaWI5BZQvb7P76em8739xbBwly7V4bagMsVR8KwvNMl36iMUMcDt22gIy6zFvTmOY/moxfuJVNYhdf2XgU5U7yk/l5vSeIYpR1Q6ePoqcLAWJX+apx+dmkued2y06/w53KTtIG3N8zbIIZbtBnGqqZ7LAFruQI6asvpwDZ6zQ+PEngvmM78muxflsK6OByzekYHkJANeVQbRRz5uOYvHg9sCtTBl785LgvMyc3qWeeQeExUu2SaQKGxGK3LB00aF7hlOn7XNWM+3uu2053rrQyhWMsjWmCboDIXWRt1bv96dNam8EIW83SxGUqV8vwm/n4CbCo8qDwZI64q5tuS+zXbmqxzpZl+GJlv+QbZ8rfnz/3hEiyHDR2ozlnrCQDnZoa1wh+WcOUics+FrIREv3IP/+RrYVbuI86mrMOmAF3njXNAroFOsbWTBvEwX49FRvwwqOmu7VWzQLxumRHs5VIy3pHKSyJZBgh5KsHDiU20t8C94a4pp1OvD1KFmoqRYeyB3Ri9+9cKLQiARvTdDEqj3zRmtdUX+P6Gd8csZ/99XOZhg0Ppv86N4dFxMFiwHF3yh/mH3/22w+lvJTm6LSvOr2Nr9H4Au4ReKuJPUt43y8SQA9geiEJtryPKr1q1Xgak2w6R2yTkBEAAAI5QZ9IRREtf0uMJ/Ucrxc6StQzQ6SbsfJq+aMgwm3sselHLfbrWXYo3n/ECml2irsnXe0lVmM7HKnNI7HMFEVO7wmtOVn2lUnTEcnqmxfQrFZwVCMNvM6XjnqYGCTVD4ib3cpseC+52xTcgpofspni2m2XSGZomCwln1KJ6yvYoOtMjV9pJNqmeqjDjpmpivgU4vVHSxzXIMghBfppF84GCrbB/7w6MReLLYFJxcBBp/R1Rs+pkROChFotPHFMqQdvCRe2ZHJ7aBkFtuEH9BS/lqrJQemAHi6bVdqcSIQsnrPUp+M4UvYGzrFYdQLHdGrkUOsk2dfsU9nvoF7YTVkvfuSCH62kDSlgurTPcLIRQCjpZZ18IqWzOkEPa5XfyUuRL+sux4/9ehpksY8deM54JlV5XXKikB8T92cr0TzDiCZQYafUnvBJjjjVrM2nToTughIQu5cREm+Ry1H7E63SBLNxqANn5E6FE0063MJiSETaroRFY+gbAXYFS4Wz62k9n59wdGnRdVjl6nx0N4ihc4pg3xjP7s2cxMu6iLHxrqUs3SHTD7ptiwiBQ39+5qKIh+7kUOljl9pY9Xfnex/QCor1vdcRZZQw4qbYbyqgCfthJcZtZAE8l2gHTflngwZIB2vJwF/9tM0UCS4qXHG6iVjExHugqE3G4JwxYcijo+BWmcxoEGW2BzYwkZuUdsVO6OK8BAkX6l89fGehaZwPH+5C7dCVA/t8h3BnYXjsakHA7Kmx7+LH8xIAAAG0AZ9ndE3/91jLaXp9YBrW2KUUgGvU3K70oNIB9wGGjaD13gc84SAfB1isT7LL+kSTYIL0TmsIxP25nQq1OPDzMXKqzBbln2fRvKYe1anY3B9G8AbgUUt9mjanCmtZAajwr75TGAWobgUUjkoKucrIVd6ShVXBGXMmVqDtjiHegKrkV2H4P6886g7thn6Uwd4MvMKSnswUQb8Vw0Z0T5ER5IKirAGdO6f1igaw8fauLtJ5OwVXzsbQIK9omPfLATghy46DSBwKpyYfWqLz0rvYKljPEHkB3VpxmD4JcrNgKcnSJ7eMGaTB4tzTuEvfWxEZOKFwMX4H3fvJT9E+4gNCCuk4GdsOiiwDYu1fFa79sdQ4XuuxBdLNltu90Of33Dr69n4tIq+WqiFx5Dfw+d2slSwZhH7CX7LgBO2D9q09wDuppLOEiHWdaFsT/5/JshxXIcp8zVk3F/bKPdVyFg/jWZA64F6mG+gA9deR5EMGm6G9L4fq/JSGJoqCMjU7EDyLuVEvDX+LIbGJQleMmHCT3lU9bR8eRAXdhL7/MErejrUdYkvNYLp1PDmf/RtaY55GdSa7CwAAAYYBn2lqTf9VF7H2Qub9SGC0ZESWY9GGvDLc/22HSfLabA5i3WiccsqcW4CJ8ipuyY/CYBvc4dGkrL2GSs/N10dUypboXTJx5mZ7RJUIUo7akqG6LyyZAQB1Vxcm7IE8qIFKfPW0R1QMoibIDeg//hxu7yBmiwqLvQJCZkXdFoYcnlDdXt0YRTQYkR8Wsm5OsQDwMvV34D11uQu1oSTRFBJZmEidGU7m4i0mMBH07fkU87ElAaWQeFA6t7074pMOetHMI5muy+A4k0JDbpZs5Weoo0yb3TFU2DZ7j/AF4asHhWf1EtJI1YMdLytCsSoJE5uAPVpNQloxcbAXGdNNnTtP5OrlG3gaSScb3G04N44fO0WpxY9YC50fI3c+JlzB78GVDtkt793YhmoGL0vie9e//HuG9hoAA4yt17ymvy3P+POL0IhNQFFeATPIlDBneW928N3vYh37M7bSA9iYr0SvWgtIumK3G3t4+bbD+VZbwbqkDzbWv6ZykyOwms8H70vyTaBy86EAAAOaQZtsSahBbJlMFExPh02sNl6NjwrfORfp4iOo4BcD4CJRSVEcxtEt+xyP0ABaeNFItzQKTR3yaMq/mQVgzzAgGf4DlsrJEhO/UeVk44PVMwTDvxnpzwNDPieiOlnsnCWeTidmrsvYSJ6VrAMr+ipQ4IRP+2MunZWI0pJVo1Rcop2yFnPujDOp6AXAkZeJbiDXDYst3odPLQUoGZem28Bh/k+ZL7yLbgFkguvCnCXppHdp5dB2FjynX5HDNnXMSW60leGdv0ASos6gpkGMlDIope4h6TFgfIbSLsY1VxoKSRTfXZyIx44nDyQUmU2MF7E23rnF1/P7lVqVGRqYngx5sLTg0ECsgpDMiOiGTapzIf9vWET16vZmRMaz871g+d2z77uE3hRDCSxZZRrHKmCcBVPieTVDlxWg9+VpRMq5vnnu2+q5EZRoB10qtCKVGGq893Lvpb8TzO5EcSS5Hs006SZxQufCXRn7BMCrk5iOn1ylAjjJk60ebtZvtlSGrtPhF8vqiVZX6IL+9ikvpNdgvBgMWpjlJYMpm8SvJHn2FBIzt4NmDQxusv7dtWPvhzxk1hxFAxN3Imkjxu+3eVPUZKA0Bag+khN9HUjAhudC54nGZ8f/e/vAi14lrPELqeWEULmtuUciR9HI6qxO39kypaCvC6hsFhKo4lqlsP/go5kyCcls5f17/o9sufW5LO2/AAjRLuMBwKSwf//KybHaEdI9uQmw14y12/umHOe9AJ+CfrR7tr0Rr8JBJSNa0xth9so7yzA05siyhqSk1+k3OWytoqmohC1IGoAGLcy67/hc3EVN5z8ZWB4tPTiNSsX/cdzpreJt+XsZZpkx4kgFR6w4qsvqUqrVtvoLjtZOgqPyFVEC8Uc/NIA+4wALbur5HgvfZK1mbi+kIMwka6tyEtRflUYe7AQeFvK1dzgIvnZLv/YTZrAs5yWa3PH22gn95xctVsQ8EXZtKaZCoB85Xgwt/R6Ccmc0BacLORUqcSK/////bnPuO8JuCegcos1hfrRx7zaHWrF5qMJhtZCCFE/Cyl0BJKp5HvcJZvEgOJRw6Y/CDb5yxHtEtCuJHEWrnGYXTOApDvi+3kbKACK5glphElisyKZwaC9SVjjiMf3KI2ueHYv9AoN/182KjzvYENQr1XivLTh2P3ervv83ca2sHwbXEIZ0Xe9rOH2M04w4BLPauGnOaBmrJasuUAOER8qwlWeCmjfoQAAAAXEBn4tqTf9TFSD3R0qdhqFdnCajNYt7Ks8YrVy4lLeNlm0/f38jKPPfwwrlSWIXhNzXxe5Xi7jMwcp43opnJebiqS6CY2EzGiNQ6pUgez35UOvgxVKiqvIzN3X36kH4lLAseb+TK74hX/IWtpPrKYQPjicmk0w2NayxvFP9mu2NkswvIC+WR+JbuUfEM1KBlXmdxZaLqpZeVhaGeTPCPEnc9JVil1tPdDRoAdOWS4PKLpxuF7BsZGgRAXjp/UONKmugW7kTDbMZ6vV1hzW6pNa1xYfhMNBQK4hRRS8njbM3IqIurHls6bgvWmjUJLgtS/9it1sdX+Pzl9vGfGS9xFGjfR1ysBe3TPtaKWkJg7doQQ/3TKVQ/8HZb8nU7xH37WoZDJp8octwUTQB6jodyCNcVj1kT8NQGU6GWZ3DRg9nUWchJN3Gw2/UD9iiGkL0N2llaouwP6tXbqFHCjj4fvAjuaUrbx2mDXJDJH3sKo23XEoAAAYhQZuQSeEKUmUwJ/+9WIg5BCsDxMdC+MtcuOzvkLHVQFKJPv3QWiSh9Vzm9Xe5qGc3PdTGIhYESE8s2wO4///sywp/Q9Z0YDTktFSoG8ZHClzejyNeiLEoHM8j1dE9XLZONH7L/779nJW136yhF20bve0Lcqrryfps8qRsBf6kgxjo1R6qTbHrrtmURV4p2ppON4NQs8TQPZKuKNhQAJe3AWtylV5inVd6pqujNlo9bnSMU2raPlTzVD9O6gChzaRoVqF38Gs3JMu5UniEhI5GPAjDJNme9hJSGcYrF06kfH+fV/J/Z8dyZGH8PyRrqrwv/wFGT1e/GeDiSbRZ/aGPNSmAUlFdcsN5G7lRyNRWor8GRYMTTGRzTMKHLVGmS8CXZpiLSnpYozNHwnKOe1DOnQnq0PTonWd2plkepn3O3hpVZOHyNQ2jOOF19sWTFG+BV2RoGSC8CsYAcgmOBrj8k5eGx4sfiP7s2+Xq5qPriXAV8ClJZ+hv2hjol1IWVLwxk1AyuqkrhNN+fof3BaPTmv6aNqtCS1KkgfqwJDawiaqGDjgz7Y+CkgXXQyGVORIzvNHLUuTZW0prGdv+fsWMwcPNw21L1DpBAVJpRXXai1qReWA6Putm2h/A5DtiWCwTn1shNBy/Zt2ObdOk0KuTiADZu4aGIg7xZsTxLcacL7Kp1u5EyBYUiwBGKcuHe5XtLtL94TPpAEDLZnFGHb0OiULlKoiBYdpklZweQ6LX0IrDS3o/McRznisC9taZF/ZOZsEZ9AT7BeC2IAV04tXJECXKLwlXQwsi5CeyZm/T9UmJ5DNdJN3cBr+Tb/VqlAUTOFDdqSS8QmfmrDvz5eC6OFApj7QJTrKdTrYWqXEJWW2Inq2XjEjanaI3ugOuddz+pSL9xoRGumCpqVbLDWABO5qiTPWKgs8STfpaH5A/DeLbxeTFmR2UQYedNDcVI4tZxGuefBMutQWOzUUA8/INPyVedgP+3m8OhvecFTyawVXA/FRV3FXIfvpHHokmxtei9G0MykIEdVioK0Ag2bnjhIP5dWFmIao2OUTM4ehwYovXBFk6qLZFJMlShRiyXIqohIlzuXNUVqhR2gOk0tbByha5xz/JXAlsB71WtGRhrk5pNsgTzAAPnR9vdRFGgxFzPk21786QKHouxcrGXmoSCH85aLgz4jWItqj+etD0jPLff4fvrOesywjOvvOBTsH99b9W0L9fPcAokPH1tkBQ/9/Tjmts5TdpPQ55jw2qt3Hk1BKPwYMJdWoDVxTA3U2zsgtiImID+wWJmmvNDxV942glzRagX4LVeT/+Nk96Cp99xbrhwVqqa6ZsPPkCfhYT6vUPFXurieeLxnLhkPJy2upmj31p5uUDNfbVfo5yerKpp3rUNeKY02kcpDSyIDgyP4xX/JSYYxlj3IHaFCpD++51pqssxmQmetNnITr9QQjuP5sule3Ur/Irlc4Ghd4geHXCXCDjBdq1xzVbOR3kA2sVVk4SDaCcxsle2plHvGl9MxVBOxktkHTTvI5D/hDpw3kb4Wj+lUR6UJ5n1BsToMWSxlQcin2GyyC5w73XquXney6QpHr5EXAJDf8D2L5SOnEGSqJobjMoGxN9I0b6fLMvolig8MNRRjl+d3a4SBlgXN/Uz7VnU2Puoc/fMppWceOyrsQC29VPlR7R2cP+2E9FcmIg2sVU1/jiAVBV+eNunRB7cVaxMeJVKmExuUv0B7B6WujGzgMIGMT7CRuoSDAB8km0U3jTDnfE8MiAUAnbgP0aFtpLOgbGx5HynfBKOJi7hDahi9CohdwKnnh3tHStIR8ZReAjX0IiSi+vQTMcUP+ItQPCZfOT69+5tlGEx4Svw14KZ1lGf6Qqc6F1N3MpwqHSTZrrWQpsA6w/7t7D/9hnbdsWcBi9yatl2NORThBPIxx5kIAQLS8Kv84vMtHjntPS/vkZEtOgjYI/MsNyaQQrIzRg+ipCeKw7w1rK2I/c/n1hbT2adgCPGkGj8sCgx53CqVN8y1iNCgFVcc9Bp4bNSykfosC7MV2FFE/lPILo2oivIjn18Bc5JV5qd4SugYMpBcvXbszsM67jmjeZAAADF0GfrkU0TJ/pC3WavGDET8VxDiY3KmyucIq37K3Xr8+azAuq9g13QYjbiuL3MUEOR3ffdTY8riUMPpoiPqiGBaCWjixoPzu53osb+8Q4nYTzlK3JypVLh6ITygydn/1nM9J4fCAw2FrbOfbOOJarKOAefbGdI9hy/Kn9/7aYBH36ONN/Pcdut0xrJP2oUTKtBfeuj65Y1PJwtjERSC5n1WTnPx4nhTcLpiZWBKZVF8Xw+p4Q80N3UcctM654OvY0AjUPwhUXJKRYT4qzQZDgdkP/itaMEqqkRFFvfR91V6T0RWzRGFBIIsMJCv7WrG2a2cd4NGVc1jweqgc/bHc3ZR2h0qEjVpeButXh/n8LViD3UP67JEfsXxP9wZB4aw85cIPnTuLOAEhyw5e7coH0ccuicqNKbYmgQQO8DbCgv1z/f/5mGbfdrrLbZo1xFxDzxl2Pf1YWhHNKlPk4QP8rGl6T9fGA9cYDBewsLgDxkrFMIeISYFOZAuiMH7cDQBSmnxl92sN49ZLcsV7ntphCEE44zsMK2Q0DM536M952fkttks4EhMs+2AW5j99rFfSNKB71QeMSb2MqTMPrW+f+wXPDfBd1qXMSTQpO/M+B6WwlnDbzSRszmdHOWithzAAo57budUmXu/pOVN1kcqXQ/PNWQRzSXafNFYyI9rJM7BSkrYOTbZ7UtjD9jTgwDO6viMIZ29ZCIOJYF39VqFmg7pFRbe53aoL4IgIzjdf9ndzeZ3+7PqHMd9d612TS3Eb9QFGtVIOUHzMy/Yipfnll4PGZb6LpUKghoGkhKA5R18xxqPGHNfUvhEuOWL2W5KxefXEXL3tPa77tNtSIBbN5n2ZJ9p/6pUfNr+/gQkb9yl7fmB0nUpSL0TCWDKyl6sbRFUmxgZjhTDTTWFiYIwOR4MJ4YY122wWo5iIlMGwTAyJB8rLyw4ibmM3TBrRpgXueSBNDvaKR/tyNOY4EyWzsPPSKfN8W0V74L0vHhEnbWZtIQaPfPwfsP13Dvxa7S1qmVH2GtSHg7XFfWWocNGH8k9qs0DO5jsLBAAACGgGfzXREf+o5qe5xWuy31+JXwKxvdUP1IS5Vy8XO7bNslgOSk/+EkGHrVNlYzvnEcagnX4MoU9o1QwC8OuPnOY+qbHopgXx3DjBOGM1vQ1i7MuBHCzwEjppEyFZ8Sy6Ng2jU49+xS/xdGTwZYssYCR/yo25H54Mp8zAZkguGFuxDo4kXEZ8BR2z2CbNYPWruWuucymBTgIuEQrhOUk//sX3KdXC2Ascp9SgEtAfih23VG9++kA+cSCm3uutEexGOCPl6+dOLOu6bQ4TJ8S1fgNsaI5PoM2KwKaT7GZJqoWD6WJUI2pgKBkx7uaYQRAoUCmwkabRWLUiro63VuiXPLSV5kapz9bvp+NwpJiO/uD2lXiH4s6K0v3cQ8JcE+kXtWzEsKL7EBpWa3Jr0qj7pCIbE1VG9WlhscZlx+lTO3k53h8roi0EiVCQJemOYQAdUs1RFxJFhRzqEJdd75X5YZYNZy1EbmLWTkwSgX6KQ6uztMIKBkUVHOejyHV1WHFSwRqsZaBe500xoY70/mowgr6TRNPLNpr7/Jd0hSY1PwZwS61EldzOUXG+efaIa7eZwsCEVN33GUbT/8odJ5V5R6PgvDHNhCIxOdKKMxPs34n2ygi1+rglDCsrpf64grEWWndn2/f+Y3qTBeQMYLnRX2BpHPZLUtPKXeALZzPxi3ekByqaD/EzG6pgx6Ve71RD7g/n7/6C5N5t97+0AAAIfAZ/Pak3/UDcdEtncokwVot8atNXFPSdc9T1IRgSdnBDt9RUprdzD6vPWZ3SqbmUrvHyS16JTCpjdSsvdDlzNNxi1Fsp6o6yKuVHS9E2Ziek0lhFleEG8nduK+8BX0j0BKxjR0tvN69Smy7/JI3rMJqF3VImuZdycv7G4AjjLBAD3K3dDgwYhaWfv9gr3ZCcFfZpm9iPcsJFTAEcA4JCd7PUcUaWMEOCCVBFwd4wUjkGOgMupy0yTxGehXWtCEG9FY20AyXP1L3Z2eWXwOdNWCsc17Ucxyqi51iUu9o1925AOP8fSPtfk6cmaxDDQzO1DsO20LKCU66LQBHRVnTZauPYVVQZiWXW3wkmctU6ogP6ngezuBsPAw2Jc7cr6MkdqHmr9Z1kA0DFdPFGprsRiopo67DwgXiuU0Mv8n7itAEMNoU/oZrqSFZ8zmQr16dfAsaQx4P2XFkubU0je+QPA6KDwhw6wsfBN9Do3KyxwjP6nVdUKsnTe2zfcRZlkq6YmFJfPv01WBX2jRQLDJIqlhuf+gmJa2VJmNByQUgDbL24YJECJBpuBwC0+43cLYhjtAalb/lD3EYZq8MUJQFZ7pPEi4zIHkOqSeYL6R29hNz+gKxTUaUA+JIcGaI8IMvnQ565iPa10UVqZ29hEHQUw7r7dy1k35NMiDHH2USe7f7+RWp7a1LmdIZSTlzElbFzANBOX+O/G9JLIkKS8PFIgAAADx0Gb0kmoQWiZTBTz/wByqeqsQIOzggPTKzLBQHxhS3pzT87MLRY3YdxttE25iXc16Jh77NWXup/euxhJU8OIvkPIMgZ1/MMc9HDt1TKgGZRe9HtZKVgMGD2YoFf2F6IA+AtDvJkMIyKBCMJv+UVTo/zLS5DnL6cGqO6uRDqik9p7zXfXTQG6RW33ezyr0LhlLiJ1GGxl+sV5xkv08Y/91tz2NEtU12MBdJTE0hjKCJ8YqrKP3qXZnMSSUgBqzFAcPsntF4t4ItfJCfMSqk+Xe+cJVPBkDtSf8J/c3kmwoaPQ+HnVFChXX3NhfJ2LkwEkkFIaW9O5ZSBPQuDaW2AdwspD+WJ2mS/xqm4q1+0MntaoWf6EY+H3AUuZTqpGgwX4S3FB5R42iSFhQtqxwbzuA9ozCbMQhafBf+yv588jq/iNwtNNGAHcFhgs49AYTmbxt6YGB3Q/ChCV05JnEyZv4B/abUofKq7oB8sDgKb/Xhiv136IThqYOZb3KaYyPT42GChWD2FeXneCWslbsq2hZotLvdbnCswCXKJH63/JoEifCWh/BjBqRKA3Ils510/5t9Sk1mqJS5nglgEm2v4o4Af1RZMjrX6azmnBrBUtxdpIPFRAW9nzbA5inUB6e/+vOFVc+SLcCzESkPxKnRh8gx9pFtyDN3lksavESIxynbFIv8mLBJ4yp1iyVOTmsXuXufnHaATfyhnfpnKjwCccpPpYPwtYaN4XKg8/6+Tu6HU7umPH3nWC0KtFZPAp2AOAoEVle95b01d1rtwL4zAYNfgt/4sIw1++gZF6Le4EARXWI3ql+lPVxBilZogfebRxKyVXIMEXrC4b67DYG4fGcYgprGjiswGxnqKvQsio13ART8agL4UyR6qCZ6b+2g9fHqB9ll8UU2CAGosreH0G9+4deOH05z/iK8r+6qrIlAf58WlvR0hxgn519HaGtfgKl0kTNb52xywtrVVw4Q1ZWIbCpwara3l7/GCTIlxLxAsmmG/J8IdzHUXr88zw47C9hDegbDdKQit3HU5vWURaG+VhdiAW190aS8DsRDpS61/QCQRtnmG+ZwOjGwO8ZSeMs1sQC2fkb/I3zB+tqjk2YT3jESHJ4sIhKJzG0nIRkFs+mP/o9ncrX9jKr7kjYIMWgy0Ql+4ZUmofr634h0YYUZkWww0ukjLDTI/l2X3d93ylpht2BFegjwZ15wJS8z4Z+AxGGEy3o4mROBX2KI+P+aXloIwJ+eYXuYYtj9QTWdqflQ/HkcJpQQWRGpZVMr85xP2OLGdQ1rIAAAGaAZ/xak3/UQEvXlOemKVn2L/PjXQZ+n+kBrsuwxf98tlR8K2rNAH2wD1/q3vZKYIc1eZHKCQ8DLeqTlkq0hnJPG2n6qBr5pKhDK1ecTp4vtc1LULCCXMPIcNgZf/qPevwhzZ10eEHnmvj4T9hMtSn+9OaFI/WnAYnmJQq6p8s9pS5BVuyAZsnoOU/4HQ9ABr5ihnuLWQlT4lpfOUekwj2D/7CeHV6kC6pXC+qimoQh3acbitge3UibMba/V+Y49UWR5rsSZMhUPPLG+XmEAz7ej+09gea7ucktviNp1+jd8F+h/t2XxOH/Vmc1wHP9Q+eYt/j+WWbxrja0DoGtDJh2c3FC7sFUgA+rVzL/0qsJm4OtkDyhH54fY62bm8IU/exsu/GNzl4Pz20sVQeqpukP/Q7KEevKd3Ig6rlreBEuqaY0YvoEDSOyInKHAI76WKzSwN5QOzo8JC+w+aVRB/E6QEtgTzvrIr1e0wO/GU10tUZmcoqAhdDjUVyPKVkR3pg/22/DpV/4lrWe3BJ2BTiy3LFpcO4Cpgo2lkAAAJtQZvzSeEKUmUwJf8A7+/W94KAcSXys3MYr9lZ9bBaetLmKJ7I+qfkEym1XP0V7T9xtEVWmaK6T4rh+DDTes2gVyFeaMhZ6HiRQoIm9GEr71TTsnSHuGKnQxfalWkBstybJr6iW/Q/cWzfj1+H6FxOrsn7pAqo0vR7JYQq1zk9v1EpndKls0+k3+Hpi0GtwJsZtud/J4KespOQ5R/f92v/83ZIwEfcABGnD6y02NcGcGZ2Zn5JSmG7xYhmsTXJH4XalaEfnUoY4XbpZoUiTAQWhSkTFsYIfADQ3UDY/qbL0xPAfq3Ny3neS23xDuD1nrG7Uzf3kFnmJeIT42/Rs5ZKmg9qV22qxSUPn0HTic7TsgvhGtrvbVXZyELnlz6Am1HTVsJfYXnXWmL8FvZzWiWsWDt5jfN61wU5+LiI0UE0Blvw5dDmVDwOJ+jxaolMfBOFUYU/j/ZIEGP7VeDzFsZ2Jx7KFguzkX5T8YzQu4Z0cskGzNMZCkMjbgcNJL8onqLgaoyWqsb/XITu8udwGoWiz3LeZinXaeZloJvmedTQwd0MIjdN0PGkcBdlg2yxF1Om1MNQYLzPdrr8gxLa7kTlOHuOzOTDw9w/ykBzJETpf+573wSuLtDZXmJbyo/Sy5lVj4Ut0IhI4pwS/RyySeS1gjaj3xDOvCe+bfMwCMxn6GXaCUsL815xoOEWtIMcd73GGtoxa0ijL3sEfvLSevvImZYGAMfMDz1QEhzCEkdmqqmnZPMIyXJGN5eY7XFN0GuR0tChG7GUp1cLat2SMrMQUKvMKgSjCZpnkY4lCN8KMz9oKakKIn1XCr3nF/BAAAAEW0GaFUnhDomUwU0TLwDv77neijhn4nNwYlybCk/Vvu0Z1Jp+yomOuM9kjVQOQTAHiT8hBtxIS6SPNV+P4VxlAiyu8eaVu5Ov6CNZ5inJwRJJHU0vnWBvyCewFXee0T95NkvG704JwyxezkVujfcPpYUo56qP/+dqiNIQ2x9p8FawO+SxfunzoECvNEgVHJBaXY+l+tdQ9qpzgEwy6n2qSZ0nTBxBqkzh2iURcbdecawqd/vjZ1gv/NkGaJc7aSvwbEQ3n+xsZUyLF8Ok5i5qvRPEy8b8OhvXPf/MU04oIT2vHgyoc+XRjvD9VTJUFlEvbV3V75ru/LyZAOJ4ThDASN9Q/tMsDCpsq967VqDFf71x1uD82+aexvkcQVhjBhsw1J4atDlVYQgdIz92oXlYk6kdYJEWKy3I4aGU/md0dE9UsgQXg7pAABa0H7XGg0lnoj+Svy5dPSxXyd1olWpsyq59UalpaOo6j79F9/15cy/F/v8Be5Q6sXXpx135KNMJuTcgVsH1Qn8MW4+fS/cgKnpnpGm1Ek7jutfcv1Rb3ulH1Zr0bQ5ufAbep9t/QxPwUuDLtIuJEbjPkb3CCoNRoQW0IIXR3j7NACWuAm3fpKB9TwG7cuEXTO0bQEFNMF1ip0CFP4LY6gGQYnPWTS+Jueyp6CnC3Tkf1DyMRav+l4KYfir+gLT2imQfdbeWTsEZ1R6mw7cK/w+q8j4xz96fP56XSnUMC6lmi/naYDNzyA1skBmxvrYdcFMrOVgEZ+jt2nFVNQ0JbxHhgaN+VSZVNwkPm7qCZe7k58sAMyt3ke078hQzVD+HA/+n7I1d1or5DGBGLn9h9M3iS5N9tOjA9ukCCAgf3m99UqZp6Uy07ykT/7oYZGHPtPwEHm0BArHTwa+Ew+uieKFJSzO3PDIWj8CYbs+ig9Die4QgXrPQ6S9G6+tVWzpCSdBt0FnXlNBHTSapM6caFO/YbhLamsDo0qFvTuAh17Nki4qGauJI078aMvVJiZqy9/Q2izXeg3zNp10+jVpwTjgaAvN3XZnrZRtbfbbj2794lBFL7ggqnCPPLmeIACYc8TAGpTz9woIdSlrG2DqFNMZCxAl4/554K5hSAVr4T815Lvu0k8uSqW8Ovpzgfvii1beoHx9/PtJl0NnhZEvdRXykJHN3WvJePasGZNg42/rlI6KG+HODU4g7OnzEilvQzesNXfdxPqF0uBoj8830lVJ6FDAmdRrYTvzMZveIW+qyPeM/TO/6v2OucK8BvxXnKhO7CVcjsIezgAYmGQy0Ge0sGvtITw0vpaXsO1k/ymdwD94rNDNfdoYoL8W752nBJrbet5E4VMfJFXeesqCCpX83KMmbF16aL9uAvovlMqHyLRNnQtUBrT7g6y1r/D/GOilPVw7nn36E0sRY8v94btSbrCR0BCoqDC1SN13ziJl9MtuZ8jx1lV0LDYORoGpZuxkTYj1WR7vBCy8oMAb++ke8JCWAAAACBwGeNGpN/1Mei2N6mB4YWNuBSX9hMPX8vuXHJnoiLqI5twMkacWvi8qqNcsNpxta4ufiqo+GaevrvIzJNlphwKy8Wza1Funz2H27xWGIbuuC8HOmZM/d/Ybpc2z92vKtjTlFSZa4SsCbyjs4ZfYka7EGtp9BKSEjgrJQ3KsOd7GCfRFLno1t9zGPQW/KknG/zMdxTmBF76LRsNQCPmcq+MuTD5ZIPQhlOMVZbDkVVW5RMsWUq7jqyPkNZSx1vsafPIBNE29zwkdl0u6xu4g34ciQjZNtfPpqXll34MsHkUArPWi/K+w4rA5BBcDriKkjXX3TAiZtVQJNVlDQUH4AIDHXLkCxkI7md4+JG2+w3intjYXISCl1h4s5xVmkQtClLx5IZqqudvR2XgEWaidpJlrJBlDD1Wfehdq6rIw/st3uH3hTs6VtMubSE5MkHJ/seuX67Foh9yC/3L7y9Pd2W6u4cjuAB1K5zBNiix7+9ztRSKUdsNhrp1Fpf1uLjmWazspvXeg+igU84FJUA45yXCN2q+s6zTix+sNprev6xjM5C9y5yVysY/q0KyAZ2cyVkKWlX/EPkWYP8cIkJrxa4EOpRud/QZWGRulvyDRVPUtKCH2cB8cm79PovKCGadLXHwlpqqzluKTjc2QrH6n3uVjLjO//EfsMs5dTgunQYmN3jx3S1+3nUQAAAvtBmjhJ4Q8mUwP/AhPxOe/wcZCjvRdhg/Xh+Ftnx965zx9zLEsPogRVuDFmQ90QenxYUJT7B5crlf4n40uxwD9Zkxn63kAzU4hp/7GMMIuKdqlKdw8O4ZM1yONu27bKs1AQoNkcN5hw1Yq5X1i77fIc+Isg/oaf3N9fX92Ata3j0MBB6tAZ1t6LMMotHu5KPjCUjPVKQuN0WLWWLBnFteqpdz7rUthxgJeHeNwg3jkszxr20MjwjDtzBj+3joK57Jlz86MPwBvx4eqXJyhE5jcFwJ8tWEM+EXspd7NT4XHPV81LTMmRpqGO0q2MsVNPax7OvwSWhx/2Bqik3sdkq3qMZYQmtOeEQzcp/Zm8BozH/oVZKPfhhfAsgucIA/pheFb47r/obGTWFzNpE5vn+qGR/PWpyvqkHJnVPkyZH+bC2Q/1QDj5SerM6F6R2bVzN20dcQYxgAqZiKA3ZSo7VgbkOTmvl+/oKb71Fjbz7BKliQCM3skgF6FnXXWH53hxQj4nBae2wy0QDJSUilh9rs8O/wKehQMvBuy5jz46/0qUd5Ac+oxhvk8yuh6/kWOssTQoDTY2dZPyAsNbAG0pByeKk6yYwkuWTUC6kXu3u4ISJ8rD7E8FM5G2YV9nCpK7ffPK3DH0J3BvnxH7GQ500A63KMiueLLOqOb+htLsLqlJX4GSaW7vzGRNm58kIY0BgRDvTusKzqqD/X51hU4mAKr45W5hmk3i178ZdlbEePcv7Rrt4nGJyM2KGQFNA33DuMmIiLr3QMf1S6WFwraOoXrwXVbLtR0cmIwtcAzUOOWZLwsxBn/vGtxf2PALnwpA7KHMTiBPLCxyemCTVe7P375sOKfw0eP3kBXQ6w16Zcr6G2t2I+/lHrG3NlURUudBUbx+ClBxO7ynIRFcPHogJtSSOqU4FWqjPrO8CrY01MpAwD2zjQMwcJ6qANemPINLu3n4kXONYZFrk01m8oxSgVDOGpbQGrKrxrN+Ogkf6xWw7tFMfevntCsoMkZAAAABzUGeVkURPN9TI/Wbat6qbVFE+dM68EB5/ArWzE1bpZMcMx7mn3RcGttT7EqyoUnTlHuRMxhp3JvoXpNZ62L6BlqZEwtu3UJ4x6c9NRbmU7tIc8S7BByBgmiICkwm2Xthq9wXF5h6mDJe0GwfxZTnfe2kCGFO0WGnKgmpxz5lxqUNKaQB1lCBHRgV56zEVKstNdDypr12NZ5hhuQ9Zep7us6r+kvaf9+CH6D9g+AQXMkUx1XAVBqetFc6JEUPCl/oaJwVJvu5E20QH4lWN41+FIEX03CTgN8/Qrq27jU5CCjtU9vaqpAYdgPqvNSFNY/B5Rbhml+VVuS46r/eIGLFvaOBAas0uHIoysiaevwScBOdVHHAoLrkxGk0j2XWgjUQo++U1NV1U3LuEuCWT6z9BmzsbTHeuhKqsrtG3HmSooFmvMMHcL8IOgGpM62uuTK/1AXONaGrAhnxHN1POWmnvWdOPruvjTuJZqT9TfNijkxW/6KrDeRbuZtYvZ8Os2xXGdUmq00+7HPoJ04XesmGVPGO4S8A6irJk0RCIMAz8vGLywBzzJRWo/XOy+7h/BowX5yl86W8GdYMHZwv2tHaZOKhGG1FVzKTs29FYrVNAAABTgGed2pN/zAMn36ge4q9D3CoKljhm4fZEncF/lf/bGXcJgV4NXo9lknOu3C1ft+MnxouB/Yr73mmmoTRoaI3iD+0dMGBFP+DkQubSP0SplTBqKhtBGKaq3eso08hjycZPxIeJWZxcXbMv6SvxdauERp8Poys7laim0L91afVkNnZChLk0RxKyqvIyevyVVDcPwnOVEdwsnPg4yfu5C0UuFWbXOdjaesEfBhHU/QfY8Bi0mRiCkrYaZeNm6U4G99nWHOT+maGf9Agz1f8qtZNJFP8NGe7s8gC+cbshDsvUJz2GCEnk98ULdMaS5MDkLZB4S+AJNO2J7xytjKTLgvAzMHaSFpNvinfACYEKPSGLPKHbHUskETzWFE4GWQLNJZGMesVw2x0mXEXWo5CC0DXdrl1TGhg91OIc5RbF63kdypCgkQB9qHVj68GTLd8Jb0AAAGrQZp5SahBaJlMD/+hjhDOTQeUtNB6gAQk2d1vcbdp19FWiTbN2JK5wFmlbqajH4QEN8EPeqInAYxhJ2KvUt6u/rpbqt1+XB+kcfSof40XNwilZMGNSGRTlMJ/o2EnTPAm8/pnS5d6s0DiDj2BZrgT47lX+jquZpJJLYf2dhTMEjUIp7+T1HjaJSKgsQqe7fz1Tzxd7qpcZEnh4UM2B0ipJGj939vpElXS3GHg1IVPhgshen8O1dc/IQEn92jlfCkCZi9dobJOklcZynz31Ub1jwMAdo2rXFPKqUaI/2clH/LBUroKkEEq8kL/yw/WZ4C9I2t52oRfz/FMI3jR34fKe0g1hPAShFUHu994APA2mlh8i9uGwdWF3QUfmjk7CdIZKtDH53hsr2PXlGoZtM3KiTBWOwjqkWInFquL+XY8sPe6tNmr3IVR+Ju4WE4n5wjJEHg0Foononp/T4UfBZQIFaJwUv2gPipZLmkkV1n1r/N2mxnt3uE3QwdFtcRmDxLV0VHsisZcVXY2BdFGO774Wo7ydJ+u4nOJGjvb5nX1qNJHYQOhKW9nXQ/3gAAAAeVBmppJ4QpSZTAr/wBk1pRrg4xXLzfck9kuYx/ire85HYkfHSQEo2oBx/cjnOgRkPww7olNz/IrRzfCXGuUWL+/TdRuK4kLq31jWCDL19ti1D+wkkKKJGhMK75qXwZg7/D2T+Hu3IsqyLASy0LIZWeHsXE1kCTFVXi7K3USO813FMFHrW3DTnuw6GKObK/DV1umF/YfQC4aTLnRWyzKMj0Jmpy3IAhPH2xeESBffm/INR+cSKEZG9HWV7aHflXDcKL7GqyD+zwEf7STiC3OKo5yBsYBQqEhEUTsBaqC8/Zounf/7dBa+n5ryCiOx5+8E+89WY8bx/lwqs0uIiFnl77O/qSIGSHT0DC4YYXfDVvmpZFMLWrvbr4VK9tKNrjmoeK5ekS5gSCEsLGGtsx0XpRjeKG8+ypootcKALNcY9PoqLmSbE4e6K+ZDwy5S3bOiqFB4I8PWaT78a6kh11QOzHrL5WU812KpOXsPqs2WMNP9I1PxHKYmI5t9HhnaS7Ke8uQ82T5ffhqa231kr5mL6CEsa32eaeY4SKYO1gPUAtuZN1w5KPdMVbhIPtJOy/vKKhYUej+Ch/bAOvZLpVyA9jNdF09ELOLQIGrfAyWkvr8iFkamMtu0QIUu7Y/edoIzB1l2bnjwQAAAi9BmrtJ4Q6JlMCb/8fhFaE5pcKrr0n9SMVQQvtJSN5TQ607ZZwJeVwbYog/8Ux7KOX0UEcd1fhtBvg9yeZy6r65F/J1XrUCl0/z2Dn6TG0uRM8GnKr9F/GRLY2iFnUHe8ylxCSD0pSWKGJgCnXh2L58oRcNBMmy5LBw24HNNoadWhHUJNH/fvddYldvRBlKRQpEZW6a/Yhh1dFcMXatg8xgkeI4kPMDoGWERUora0L6gy9iLxgf1E5FSauZMxiE0MMn9F1sa5Fhd5CTj9ZPDq92ag9C65+3WAa/B8jkatj9+HE8EIZ6bLQfzniIWgp2Wj3cuqzoKJLF4iTtTxC3NQCF0yt+rkpQvm9l3DEurRepCkS/VkGAw2LXQIhrJiV+AAuCqHQuNVNWhmPzdFQi38QeuoDZ8mcagk/oK8pLKpCpWZJPohU7CaW6ixsksa1L3rEY+Jgw70CI5NE+EF6oskkjUbuSo7fr9rS72my19my70RQHOQ12xB1P94fkk30ldeKOZVWXdf4DDqSWceMo2Uqv9v5Q62La2c1vqZMFdTgcItcDYXzzb6OGwBXB3Ifv6mDeyVdYCyRHg2YOuV+9UgT67vf8F0KULUH5W1Epj8qQlFk4seN/glVu9Hdy1CnzJAsE6a23gTB3eqB01wZW1K8M6AoGmBMpa8dE183Q8wACiKgum21d0OFanlLW0HL9QR43pSvrdhFpYX1MnaIK4Ltv5YpwgG6v+yYcWqY7HlaQAAAFkG1vb3YAAABsbXZoZAAAAAAAAAAAAAAAAAAAA+gAABdwAAEAAAEAAAAAAAAAAAAAAAABAAAAAAAAAAAAAAAAAAAAAQAAAAAAAAAAAAAAAAAAQAAAAAAAAAAAAAAAAAAAAAAAAAAAAAAAAAAAAAAAAAIAAAS6dHJhawAAAFx0a2hkAAAAAwAAAAAAAAAAAAAAAQAAAAAAABdwAAAAAAAAAAAAAAAAAAAAAAABAAAAAAAAAAAAAAAAAAAAAQAAAAAAAAAAAAAAAAAAQAAAAADQAAAA0AAAAAAAJGVkdHMAAAAcZWxzdAAAAAAAAAABAAAXcAAACAAAAQAAAAAEMm1kaWEAAAAgbWRoZAAAAAAAAAAAAAAAAAAAKAAAAPAAVcQAAAAAAC1oZGxyAAAAAAAAAAB2aWRlAAAAAAAAAAAAAAAAVmlkZW9IYW5kbGVyAAAAA91taW5mAAAAFHZtaGQAAAABAAAAAAAAAAAAAAAkZGluZgAAABxkcmVmAAAAAAAAAAEAAAAMdXJsIAAAAAEAAAOdc3RibAAAAJVzdHNkAAAAAAAAAAEAAACFYXZjMQAAAAAAAAABAAAAAAAAAAAAAAAAAAAAAADQANAASAAAAEgAAAAAAAAAAQAAAAAAAAAAAAAAAAAAAAAAAAAAAAAAAAAAAAAAAAAAABj//wAAAC9hdmNDAWQAC//hABdnZAALrNlDRuhAAAADAEAAAAUDxQplgAEABWjr5yyLAAAAGHN0dHMAAAAAAAAAAQAAADwAAAQAAAAAFHN0c3MAAAAAAAAAAQAAAAEAAAGgY3R0cwAAAAAAAAAyAAAAAQAACAAAAAABAAAUAAAAAAEAAAgAAAAAAQAAAAAAAAABAAAEAAAAAAIAAAgAAAAAAQAAEAAAAAACAAAEAAAAAAEAAAgAAAAAAQAADAAAAAABAAAEAAAAAAEAABAAAAAAAgAABAAAAAABAAAQAAAAAAIAAAQAAAAAAQAAFAAAAAABAAAIAAAAAAEAAAAAAAAAAQAABAAAAAABAAAUAAAAAAEAAAgAAAAAAQAAAAAAAAABAAAEAAAAAAEAABQAAAAAAQAACAAAAAABAAAAAAAAAAEAAAQAAAAAAQAADAAAAAABAAAEAAAAAAMAAAgAAAAAAQAAEAAAAAACAAAEAAAAAAEAABQAAAAAAQAACAAAAAABAAAAAAAAAAEAAAQAAAAAAQAADAAAAAABAAAEAAAAAAEAABQAAAAAAQAACAAAAAABAAAAAAAAAAEAAAQAAAAAAQAADAAAAAABAAAEAAAAAAEAAAgAAAAAAQAADAAAAAABAAAEAAAAAAEAABAAAAAAAgAABAAAAAADAAAIAAAAABxzdHNjAAAAAAAAAAEAAAABAAAAPAAAAAEAAAEEc3RzegAAAAAAAAAAAAAAPAAAGNoAAARZAAACxwAAAaMAAAGXAAACVQAAAzQAAAOyAAACAwAAAfwAAAKRAAADGwAAALEAAALQAAABDgAAAPMAAAGiAAAAgQAAAJgAAACtAAAAjwAAAVkAAAAZAAAAVAAAABUAAAAUAAAADgAAALgAAAARAAAAEwAAAF8AAAGRAAAAtwAAAi4AAAKRAAAEHQAABD4AAAJUAAABvQAABAkAAAI9AAABuAAAAYoAAAOeAAABdQAABiUAAAMbAAACHgAAAiMAAAPLAAABngAAAnEAAARfAAACCwAAAv8AAAHRAAABUgAAAa8AAAHpAAACMwAAABRzdGNvAAAAAAAAAAEAAAAwAAAAYnVkdGEAAABabWV0YQAAAAAAAAAhaGRscgAAAAAAAAAAbWRpcmFwcGwAAAAAAAAAAAAAAAAtaWxzdAAAACWpdG9vAAAAHWRhdGEAAAABAAAAAExhdmY1Ny44My4xMDA=\" type=\"video/mp4\">\n",
              "                </video>\n",
              "                "
            ],
            "text/plain": [
              "<IPython.core.display.HTML object>"
            ]
          },
          "metadata": {
            "tags": []
          },
          "execution_count": 53
        }
      ]
    },
    {
      "cell_type": "markdown",
      "metadata": {
        "id": "shzygzgdeG8J",
        "colab_type": "text"
      },
      "source": [
        "## Plotting Timeseries of obs, acts"
      ]
    },
    {
      "cell_type": "code",
      "metadata": {
        "id": "j78Utge0bfxb",
        "colab_type": "code",
        "cellView": "form",
        "colab": {
          "base_uri": "https://localhost:8080/",
          "height": 281
        },
        "outputId": "528b92c3-f143-406f-b018-34b9bfbebe06"
      },
      "source": [
        "#@title Visualise observations\n",
        "obs_idx = 0 #@param {type:\"slider\", min:0, max:25, step:1}\n",
        "\n",
        "plt.figure()\n",
        "t = range(eval_seq_len)\n",
        "plt.plot(t, observations[start:start+eval_seq_len,obs_idx], label='true')\n",
        "plt.plot(t, eval_obs[:,obs_idx], label='model')\n",
        "plt.title(f'Observation dim {obs_idx}')\n",
        "plt.legend()\n",
        "plt.show()"
      ],
      "execution_count": null,
      "outputs": [
        {
          "output_type": "display_data",
          "data": {
            "image/png": "[encoded data removed]",
            "text/plain": [
              "<Figure size 432x288 with 1 Axes>"
            ]
          },
          "metadata": {
            "tags": [],
            "needs_background": "light"
          }
        }
      ]
    },
    {
      "cell_type": "code",
      "metadata": {
        "id": "GqKohTUOdC0C",
        "colab_type": "code",
        "cellView": "form",
        "colab": {
          "base_uri": "https://localhost:8080/",
          "height": 281
        },
        "outputId": "770c52fa-a941-454b-87d1-4793f2be37dc"
      },
      "source": [
        "#@title Visualise actions\n",
        "acts_idx = 6 #@param {type:\"slider\", min:0, max:7, step:1}\n",
        "\n",
        "plt.figure()\n",
        "t = range(eval_seq_len)\n",
        "plt.plot(t, actions[start:start+eval_seq_len,acts_idx], label='true')\n",
        "plt.plot(t, eval_acts[:,acts_idx], label='model')\n",
        "plt.title(f'Action dim {acts_idx}')\n",
        "plt.legend()\n",
        "plt.show()"
      ],
      "execution_count": null,
      "outputs": [
        {
          "output_type": "display_data",
          "data": {
            "image/png": "[encoded data removed]",
            "text/plain": [
              "<Figure size 432x288 with 1 Axes>"
            ]
          },
          "metadata": {
            "tags": [],
            "needs_background": "light"
          }
        }
      ]
    },
    {
      "cell_type": "markdown",
      "metadata": {
        "id": "G84fGXVwv9Fh",
        "colab_type": "text"
      },
      "source": [
        "# Perfect, Deterministic Reset and Replay"
      ]
    },
    {
      "cell_type": "code",
      "metadata": {
        "id": "qSFFlcskv9Fl",
        "colab_type": "code",
        "colab": {}
      },
      "source": [
        "import gym\n",
        "import time\n",
        "import pandaRL\n",
        "if RELATIVE_JOINTS:\n",
        "    env = gym.make('pandaPlayJoints-v0')\n",
        "else:\n",
        "    env = gym.make('pandaPlay-v0')\n",
        "env.render('human')\n",
        "env.reset()"
      ],
      "execution_count": null,
      "outputs": []
    },
    {
      "cell_type": "code",
      "metadata": {
        "id": "ffT-7ivrv9Fv",
        "colab_type": "code",
        "colab": {}
      },
      "source": [
        "idx = np.random.choice(len(o))\n",
        "traj_end = len(np.where(m[idx] == 1)[0])-1\n",
        "#env.panda.reset_goal_pos(ag_to_dg(g[idx, traj_end,:]))\n",
        "env.p.restoreState(fileName=dataset_path+'states_and_ims/'+str(int(pth[idx]))+'/env_states/'+str(int(tsteps[idx,0]))+'.bullet')\n",
        "\n"
      ],
      "execution_count": null,
      "outputs": []
    },
    {
      "cell_type": "code",
      "metadata": {
        "id": "QC5hK81Vv9F1",
        "colab_type": "code",
        "colab": {}
      },
      "source": [
        "for i in range(0, traj_end+1):\n",
        "    #env.p.restoreState(fileName=dataset_path+str(int(pth[idx]))+'/env_states/'+str(int(tsteps[idx,i]))+'.bullet')\n",
        "    #time.sleep(0.1)\n",
        "    env.step(a[idx, i, :])"
      ],
      "execution_count": null,
      "outputs": []
    },
    {
      "cell_type": "code",
      "metadata": {
        "id": "QvNvFNZxv9F5",
        "colab_type": "code",
        "colab": {}
      },
      "source": [
        "def test_subsequences(use_ori = True, replay=False):\n",
        "    \n",
        "    t_it = iter(tf_valid_data)\n",
        "    obs, acts, goals, masks, pth, tsteps = t_it.next()\n",
        "    idx = np.random.choice(len(obs))\n",
        "    \n",
        "    \n",
        "    start_idx = str(int(tsteps[idx,0]))\n",
        "    traj_end = len(np.where(masks[idx] == 1)[0])-1\n",
        "    \n",
        "    env.p.restoreState(fileName=dataset_path+'states_and_ims/'+str(int(pth[idx]))+'/env_states/'+str(int(tsteps[idx,0]))+'.bullet')\n",
        "    \n",
        "    o = tf.expand_dims(obs[idx][0],0)\n",
        "    \n",
        "    goal = goals[idx, traj_end,:]\n",
        "    #env.panda.reset_goal_pos(ag_to_dg(goal))\n",
        "    goal = tf.expand_dims(goal, 0)\n",
        "    \n",
        "    \n",
        "    if replay:\n",
        "        retries = 1\n",
        "    else:\n",
        "        retries = 1\n",
        "        \n",
        "    for i in range(0,retries):\n",
        "        past_state = [None, None]\n",
        "        for i in range(0, traj_end+1):\n",
        "\n",
        "            distrib, past_state = model(o, goal,  past_state = past_state)\n",
        "            a = distrib.sample().numpy().squeeze() \n",
        "            \n",
        "            if use_ori:\n",
        "                a[3:7] =  np.array(env.panda.default_arm_orn) # because it hasn't ever had to cope with\n",
        "            if replay:\n",
        "                a=acts[idx, i, :] # uncomment this to replay play subsequences\n",
        "            o, r, d, _ = env.step(a)\n",
        "            o = tf.expand_dims(o['observation'], 0)"
      ],
      "execution_count": null,
      "outputs": []
    },
    {
      "cell_type": "markdown",
      "metadata": {
        "pycharm": {
          "name": "#%% md\n"
        },
        "id": "-yC0L1P3v9GA",
        "colab_type": "text"
      },
      "source": [
        "# MLP Evaluation"
      ]
    },
    {
      "cell_type": "code",
      "metadata": {
        "id": "7GMYQIc9v9GB",
        "colab_type": "code",
        "colab": {}
      },
      "source": [
        "def ag_to_dg(ag):\n",
        "    dg = np.concatenate([ag[0:3], ag[7:10]])\n",
        "    return dg"
      ],
      "execution_count": null,
      "outputs": []
    },
    {
      "cell_type": "code",
      "metadata": {
        "pycharm": {
          "name": "#%%\n"
        },
        "id": "WHt-EhKHv9GF",
        "colab_type": "code",
        "colab": {}
      },
      "source": [
        "# This below is only appropriate for non sequence models, which will aim for shorter timespans. \n",
        "n_valid_trajectories = len(valid_data['obs'])\n",
        "idx = np.random.choice(n_valid_trajectories)\n",
        "traj_obs, traj_acts, traj_init_o, traj_init_v = [valid_data[key][idx] for key in valid_data.keys()]"
      ],
      "execution_count": null,
      "outputs": []
    },
    {
      "cell_type": "code",
      "metadata": {
        "pycharm": {
          "name": "#%%\n"
        },
        "id": "TWJ-_tLrv9GH",
        "colab_type": "code",
        "colab": {}
      },
      "source": [
        "\n",
        "o = env.reset()\n",
        "# A few representative points along the trajectory for us to test how it goes from there (before it loses coherence\n",
        "# over the long trajectory)\n",
        "ZERO, QUARTER, HALF, THREEQ = 0, len(traj_obs)//4, len(traj_obs)//2, len(traj_obs)*3//4\n",
        "# Get the init point\n",
        "init_o = traj_obs[THREEQ][START_OBS:END_OBS]# traj_init_o\n",
        "# reset to our desired init, but with 0 velocity - fine for now. \n",
        "env.robot.reset(env, init_o, traj_init_v)\n",
        "# select the goal as the end state of the trajectory \n",
        "goal = traj_obs[-1][START_GOAL:END_GOAL]\n",
        "for i in range(len(traj_acts)):\n",
        "    o = tf.expand_dims(np.concatenate([o[START_OBS:END_OBS], goal], -1),0)\n",
        "    if PROBS:# need to sample from the model if its probabilistic. \n",
        "        a = model(o).sample()[0]\n",
        "    else:\n",
        "        a = model.predict(o)[0]\n",
        "    #a = traj_acts[i]\n",
        "    o, r, d, _ = env.step(a) # the key change\n",
        "    \n",
        "    env.render()"
      ],
      "execution_count": null,
      "outputs": []
    },
    {
      "cell_type": "markdown",
      "metadata": {
        "pycharm": {
          "name": "#%% md\n"
        },
        "id": "8SHQGBjnv9GK",
        "colab_type": "text"
      },
      "source": [
        "# LSTM Evaluation"
      ]
    },
    {
      "cell_type": "code",
      "metadata": {
        "pycharm": {
          "name": "#%%\n"
        },
        "id": "SXyTQ8kov9GL",
        "colab_type": "code",
        "colab": {}
      },
      "source": [
        "valid = dataset[int(N_TRAJS*train_partition):]\n",
        "\n",
        "def test_subsequences():\n",
        "    \n",
        "    obs, acts, goals, masks = sample_sequence_batch(valid)\n",
        "    o = env.reset()\n",
        "    idx = np.random.choice(len(obs))\n",
        "    traj_end = len(np.where(masks[idx] == 1)[0])-1\n",
        "\n",
        "    masks[idx][traj_end]\n",
        "    start_pos = obs[idx][0][START_OBS:END_OBS].numpy()\n",
        "    goal = np.expand_dims(obs[idx][traj_end][START_GOAL:END_GOAL],0)\n",
        "    zero_vel = np.zeros(29)\n",
        "\n",
        "    env.robot.reset(env, start_pos, zero_vel)\n",
        "    o = np.squeeze(obs[idx][0])\n",
        "    env.render()\n",
        "    past_state = [None, None]\n",
        "    \n",
        "    for i in range(0,3):\n",
        "        for i in range(0, traj_end+1):\n",
        "            o = tf.expand_dims(o[START_OBS:END_OBS], 0)\n",
        "            distrib, past_state = model(o, goal,  past_state = past_state)\n",
        "\n",
        "            a = distrib.sample().numpy().squeeze() \n",
        "            #a = acts[idx, i, :] # uncomment this to replay play subsequences\n",
        "            o, r, d, _ = env.step(a)\n",
        "            env.render()\n"
      ],
      "execution_count": null,
      "outputs": []
    },
    {
      "cell_type": "code",
      "metadata": {
        "pycharm": {
          "name": "#%%\n"
        },
        "id": "4CpW3P-Bv9GS",
        "colab_type": "code",
        "colab": {}
      },
      "source": [
        "# What about on a full trajectory? Where we give it the intermediate goals?\n",
        "n_valid_trajectories = len(valid)\n",
        "idx = np.random.choice(n_valid_trajectories)\n",
        "traj_obs, traj_acts, traj_goals, traj_init_o, traj_init_v = [valid[idx][key] for key in valid[idx].keys()]\n",
        "o = env.reset()\n",
        "traj_len = len(traj_obs)\n",
        "intervals = np.array([0, traj_len//4, traj_len//2, traj_len*3//4, traj_len])\n",
        "init_o = traj_obs[0][START_OBS:END_OBS]# traj_init_o\n",
        "# reset to our desired init, but with 0 velocity - fine for now. \n",
        "env.robot.reset(env, init_o, traj_init_v)\n",
        "env.render()\n",
        "\n",
        "    \n"
      ],
      "execution_count": null,
      "outputs": []
    },
    {
      "cell_type": "code",
      "metadata": {
        "pycharm": {
          "name": "#%%\n"
        },
        "id": "3pfij6NBv9GV",
        "colab_type": "code",
        "colab": {}
      },
      "source": [
        "past_state = [None, None]\n",
        "for t in range(traj_len):\n",
        "        goal_idx = np.where(t < intervals)[0][0] # which part of the task we are up to\n",
        "        goal = tf.cast(tf.expand_dims(traj_obs[intervals[goal_idx]-1][START_GOAL:END_GOAL], 0), tf.float32)\n",
        "        o = tf.cast(tf.expand_dims(o[START_OBS:END_OBS],0), tf.float32)\n",
        "        distrib, past_state = model(o,goal, past_state = past_state)\n",
        "        \n",
        "        #a = distrib.sample().numpy().squeeze() \n",
        "        a = traj_acts[t, :] # uncomment this to replay play subsequences\n",
        "        o, r, d, _ = env.step(a)\n",
        "        env.render()"
      ],
      "execution_count": null,
      "outputs": []
    },
    {
      "cell_type": "code",
      "metadata": {
        "pycharm": {
          "name": "#%%\n"
        },
        "id": "IihoFnSsv9Gi",
        "colab_type": "code",
        "colab": {}
      },
      "source": [
        "@tf.function\n",
        "def train_step(x, y):\n",
        "    with tf.GradientTape() as tape:\n",
        "        logits = model(x, training=True)\n",
        "        loss_value = loss_fn(y, logits)\n",
        "    grads = tape.gradient(loss_value, model.trainable_weights)\n",
        "    optimizer.apply_gradients(zip(grads, model.trainable_weights))\n",
        "#     train_acc_metric.update_state(y, logits)\n",
        "    return loss_value\n",
        "\n",
        "@tf.function\n",
        "def test_step(x, y):\n",
        "    val_logits = model(x, training=False)\n",
        "#     val_acc_metric.update_state(y, val_logits)"
      ],
      "execution_count": null,
      "outputs": []
    },
    {
      "cell_type": "code",
      "metadata": {
        "pycharm": {
          "name": "#%%\n"
        },
        "id": "gj4eF6mJv9Gk",
        "colab_type": "code",
        "colab": {}
      },
      "source": [
        "EPOCHS = 10\n",
        "\n",
        "for epoch in range(EPOCHS):\n",
        "    print(f\"\\nEpoch {epoch}\")\n",
        "    start_time = time.time()\n",
        "    progbar = Progbar(len(observations), verbose=1, interval=0.5)\n",
        "\n",
        "    # Iterate over the batches of the dataset.\n",
        "    for step, (obs,acts) in enumerate(zip(observations, actions)):\n",
        "#         obs = traj_batch['observations']\n",
        "#         acts = traj_batch['actions']\n",
        "    \n",
        "        loss_value = train_step(obs, acts)\n",
        "        progbar.add(1, [('Loss', loss_value)]) "
      ],
      "execution_count": null,
      "outputs": []
    },
    {
      "cell_type": "code",
      "metadata": {
        "id": "FhxqJ6Sdv9Gp",
        "colab_type": "code",
        "colab": {},
        "outputId": "cea3ab74-4d4b-48cb-bad2-00af84362670"
      },
      "source": [
        "EPOCHS = 10\n",
        "\n",
        "for epoch in range(EPOCHS):\n",
        "    print(f\"\\nEpoch {epoch}\")\n",
        "    start_time = time.time()\n",
        "    progbar = Progbar(len(observations), verbose=1, interval=0.5)\n",
        "\n",
        "    # Iterate over the batches of the dataset.\n",
        "    for step, (obs,acts) in enumerate(zip(observations, actions)):\n",
        "#         obs = traj_batch['observations']\n",
        "#         acts = traj_batch['actions']\n",
        "    \n",
        "        loss_value = train_step(obs, acts)\n",
        "        progbar.add(1, [('Loss', loss_value)])  "
      ],
      "execution_count": null,
      "outputs": [
        {
          "output_type": "stream",
          "text": [
            "88.02201747894287 19.151499032974243\n"
          ],
          "name": "stdout"
        }
      ]
    },
    {
      "cell_type": "code",
      "metadata": {
        "pycharm": {
          "name": "#%%\n"
        },
        "id": "xHKZ0c0Fv9Gv",
        "colab_type": "code",
        "colab": {},
        "outputId": "1efe54b3-5860-41df-eecf-a82518b919bc"
      },
      "source": [
        "import gym\n",
        "import adept_envs\n",
        "\n",
        "env = gym.make(\"kitchen_relax-v1\")"
      ],
      "execution_count": null,
      "outputs": [
        {
          "output_type": "stream",
          "text": [
            "Reading configurations for Franka\n",
            "\u001b[40m\u001b[37mInitializing Franka sim\u001b[0m\n",
            "registering the liscence\n"
          ],
          "name": "stdout"
        },
        {
          "output_type": "stream",
          "text": [
            "/home/sholto/anaconda3/lib/python3.7/site-packages/gym/logger.py:30: UserWarning: \u001b[33mWARN: Box bound precision lowered by casting to float32\u001b[0m\n",
            "  warnings.warn(colorize('%s: %s'%('WARN', msg % args), 'yellow'))\n"
          ],
          "name": "stderr"
        }
      ]
    },
    {
      "cell_type": "markdown",
      "metadata": {
        "pycharm": {
          "name": "#%% md\n"
        },
        "id": "b7CMny5dv9Gx",
        "colab_type": "text"
      },
      "source": [
        "# MLP Evaluation"
      ]
    },
    {
      "cell_type": "code",
      "metadata": {
        "id": "JOm7R4A-v9Gx",
        "colab_type": "code",
        "colab": {}
      },
      "source": [
        "# This below is only appropriate for non sequence models, which will aim for shorter timespans. \n",
        "n_valid_trajectories = len(valid_data['obs'])\n",
        "idx = np.random.choice(n_valid_trajectories)\n",
        "traj_obs, traj_acts, traj_init_o, traj_init_v = [valid_data[key][idx] for key in valid_data.keys()]"
      ],
      "execution_count": null,
      "outputs": []
    },
    {
      "cell_type": "code",
      "metadata": {
        "pycharm": {
          "name": "#%%\n"
        },
        "id": "PXQbt0Oov9Gz",
        "colab_type": "code",
        "colab": {}
      },
      "source": [
        "\n",
        "o = env.reset()\n",
        "# A few representative points along the trajectory for us to test how it goes from there (before it loses coherence\n",
        "# over the long trajectory)\n",
        "ZERO, QUARTER, HALF, THREEQ = 0, len(traj_obs)//4, len(traj_obs)//2, len(traj_obs)*3//4\n",
        "# Get the init point\n",
        "init_o = traj_obs[THREEQ][START_OBS:END_OBS]# traj_init_o\n",
        "# reset to our desired init, but with 0 velocity - fine for now. \n",
        "env.robot.reset(env, init_o, traj_init_v)\n",
        "# select the goal as the end state of the trajectory \n",
        "goal = traj_obs[-1][START_GOAL:END_GOAL]\n",
        "for i in range(len(traj_acts)):\n",
        "    o = tf.expand_dims(np.concatenate([o[START_OBS:END_OBS], goal], -1),0)\n",
        "    if PROBS:# need to sample from the model if its probabilistic. \n",
        "        a = model(o).sample()[0]\n",
        "    else:\n",
        "        a = model.predict(o)[0]\n",
        "    #a = traj_acts[i]\n",
        "    o, r, d, _ = env.step(a) # the key change\n",
        "    \n",
        "    env.render()"
      ],
      "execution_count": null,
      "outputs": []
    },
    {
      "cell_type": "markdown",
      "metadata": {
        "pycharm": {
          "name": "#%% md\n"
        },
        "id": "njbQpQAGv9G2",
        "colab_type": "text"
      },
      "source": [
        "# LSTM Evaluation"
      ]
    },
    {
      "cell_type": "code",
      "metadata": {
        "id": "bdznW904v9G2",
        "colab_type": "code",
        "colab": {}
      },
      "source": [
        "\n",
        "def test_subsequences():\n",
        "    obs, acts, masks = sample_sequence_batch(valid_data)\n",
        "    o = env.reset()\n",
        "    idx = np.random.choice(len(obs))\n",
        "    traj_end = len(np.where(masks[idx] == 1)[0])-1\n",
        "\n",
        "    masks[idx][traj_end]\n",
        "    start_pos = obs[idx][0][START_OBS:END_OBS].numpy()\n",
        "    goal = obs[idx][traj_end][START_GOAL:END_GOAL]\n",
        "    zero_vel = np.zeros(29)\n",
        "\n",
        "    env.robot.reset(env, start_pos, zero_vel)\n",
        "    o = np.squeeze(obs[idx][0])\n",
        "    env.render()\n",
        "\n",
        "\n",
        "    past_state = [None, None]\n",
        "\n",
        "    for i in range(0, traj_end+1):\n",
        "        o = tf.expand_dims(np.concatenate([o[START_OBS:END_OBS], goal], -1),0)\n",
        "        distrib, past_state = model(o, past_state = past_state)\n",
        "        #a = acts[idx, i, :] # uncomment this to replay play subsequences\n",
        "        a = distrib.sample().numpy().squeeze() \n",
        "        o, r, d, _ = env.step(a)\n",
        "        env.render()\n",
        "    "
      ],
      "execution_count": null,
      "outputs": []
    },
    {
      "cell_type": "code",
      "metadata": {
        "id": "8A7JypWXv9G4",
        "colab_type": "code",
        "colab": {}
      },
      "source": [
        "for i in range(0,100):\n",
        "    test_subsequences()"
      ],
      "execution_count": null,
      "outputs": []
    },
    {
      "cell_type": "code",
      "metadata": {
        "pycharm": {
          "name": "#%%\n"
        },
        "id": "JY9VcxT3v9G9",
        "colab_type": "code",
        "colab": {}
      },
      "source": [
        "# What about on a full trajectory? Where we give it the intermediate goals?\n",
        "n_valid_trajectories = len(valid_data)\n",
        "idx = np.random.choice(n_valid_trajectories)\n",
        "traj_obs, traj_acts, traj_init_o, traj_init_v = [valid_data[key][idx] for key in valid_data.keys()]\n",
        "o = env.reset()\n",
        "traj_len = len(traj_obs)\n",
        "intervals = np.array([0, traj_len//4, traj_len//2, traj_len*3//4, traj_len])\n",
        "init_o = traj_obs[0][START_OBS:END_OBS]# traj_init_o\n",
        "# reset to our desired init, but with 0 velocity - fine for now. \n",
        "env.robot.reset(env, init_o, traj_init_v)\n",
        "env.render()\n",
        "\n",
        "    \n"
      ],
      "execution_count": null,
      "outputs": []
    },
    {
      "cell_type": "code",
      "metadata": {
        "id": "jrN7P-PUv9G_",
        "colab_type": "code",
        "colab": {}
      },
      "source": [
        "past_state = [None, None]\n",
        "for t in range(traj_len):\n",
        "        goal_idx = np.where(t < intervals)[0][0] # which part of the task we are up to\n",
        "        goal = traj_obs[intervals[goal_idx]-1][START_GOAL:END_GOAL]\n",
        "        o = tf.expand_dims(np.concatenate([o[START_OBS:END_OBS], goal], -1),0)\n",
        "        distrib, past_state = model(o, past_state = past_state)\n",
        "        #a = acts[idx, i, :] # uncomment this to replay play subsequences\n",
        "        a = distrib.sample().numpy().squeeze() \n",
        "        o, r, d, _ = env.step(a)\n",
        "        env.render()"
      ],
      "execution_count": null,
      "outputs": []
    },
    {
      "cell_type": "code",
      "metadata": {
        "id": "yjkFJ7Nov9HC",
        "colab_type": "code",
        "colab": {}
      },
      "source": [
        "# What about on a full trajectory? Where we give it the intermediate goals?\n",
        "n_valid_trajectories = len(valid_data)\n",
        "idx = np.random.choice(n_valid_trajectories)\n",
        "traj_obs, traj_acts, traj_init_o, traj_init_v = [valid_data[key][idx] for key in valid_data.keys()]\n",
        "o = env.reset()\n",
        "traj_len = len(traj_obs)\n",
        "intervals = np.array([0, traj_len//4, traj_len//2, traj_len*3//4, traj_len])\n",
        "init_o = traj_obs[0][START_OBS:END_OBS]# traj_init_o\n",
        "# reset to our desired init, but with 0 velocity - fine for now. \n",
        "env.robot.reset(env, init_o, traj_init_v)\n",
        "env.render()"
      ],
      "execution_count": null,
      "outputs": []
    },
    {
      "cell_type": "code",
      "metadata": {
        "id": "xiZ465shv9HE",
        "colab_type": "code",
        "colab": {}
      },
      "source": [
        "past_state = [None, None]\n",
        "for t in range(traj_len):\n",
        "        goal_idx = np.where(t < intervals)[0][0] # which part of the task we are up to\n",
        "        goal = traj_obs[intervals[goal_idx]-1][START_GOAL:END_GOAL]\n",
        "        o = tf.expand_dims(np.concatenate([o[START_OBS:END_OBS], goal], -1),0)\n",
        "        distrib, past_state = model(o, past_state = past_state)\n",
        "        #a = acts[idx, i, :] # uncomment this to replay play subsequences\n",
        "        a = distrib.sample().numpy().squeeze() \n",
        "        o, r, d, _ = env.step(a)\n",
        "        env.render()"
      ],
      "execution_count": null,
      "outputs": []
    },
    {
      "cell_type": "code",
      "metadata": {
        "pycharm": {
          "name": "#%%\n"
        },
        "id": "qiQOLBwnv9HM",
        "colab_type": "code",
        "colab": {}
      },
      "source": [
        "@tf.function\n",
        "def train_step(x, y):\n",
        "    with tf.GradientTape() as tape:\n",
        "        logits = model(x, training=True)\n",
        "        loss_value = loss_fn(y, logits)\n",
        "    grads = tape.gradient(loss_value, model.trainable_weights)\n",
        "    optimizer.apply_gradients(zip(grads, model.trainable_weights))\n",
        "#     train_acc_metric.update_state(y, logits)\n",
        "    return loss_value\n",
        "\n",
        "@tf.function\n",
        "def test_step(x, y):\n",
        "    val_logits = model(x, training=False)\n",
        "#     val_acc_metric.update_state(y, val_logits)"
      ],
      "execution_count": null,
      "outputs": []
    },
    {
      "cell_type": "code",
      "metadata": {
        "jupyter": {
          "outputs_hidden": true
        },
        "id": "Y8EFTvCzv9HO",
        "colab_type": "code",
        "colab": {}
      },
      "source": [
        "EPOCHS = 10\n",
        "\n",
        "for epoch in range(EPOCHS):\n",
        "    print(f\"\\nEpoch {epoch}\")\n",
        "    start_time = time.time()\n",
        "    progbar = Progbar(len(observations), verbose=1, interval=0.5)\n",
        "\n",
        "    # Iterate over the batches of the dataset.\n",
        "    for step, (obs,acts) in enumerate(zip(observations, actions)):\n",
        "#         obs = traj_batch['observations']\n",
        "#         acts = traj_batch['actions']\n",
        "    \n",
        "        loss_value = train_step(obs, acts)\n",
        "        progbar.add(1, [('Loss', loss_value)])  "
      ],
      "execution_count": null,
      "outputs": []
    }
  ]
}