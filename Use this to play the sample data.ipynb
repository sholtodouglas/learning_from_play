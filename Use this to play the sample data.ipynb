{
 "cells": [
  {
   "cell_type": "code",
   "execution_count": 6,
   "metadata": {},
   "outputs": [],
   "source": [
    "import tensorflow_probability as tfp\n",
    "import numpy as np\n",
    "tfd = tfp.distributions\n",
    "tfb = tfp.bijectors"
   ]
  },
  {
   "cell_type": "code",
   "execution_count": 26,
   "metadata": {},
   "outputs": [],
   "source": [
    "\n",
    "distribution= tfd.QuantizedDistribution(\n",
    "    distribution=tfd.TransformedDistribution(\n",
    "        distribution=tfd.Logistic(loc=[0], scale=[0.001]),\n",
    "    bijector=tfb.AffineScalar(shift=-0.5)),\n",
    "low=-128,\n",
    "high=128)"
   ]
  },
  {
   "cell_type": "code",
   "execution_count": 27,
   "metadata": {},
   "outputs": [
    {
     "data": {
      "image/png": "[encoded data removed]",
      "text/plain": [
       "<Figure size 432x288 with 1 Axes>"
      ]
     },
     "metadata": {
      "needs_background": "light"
     },
     "output_type": "display_data"
    }
   ],
   "source": [
    "xs = np.linspace(-128, 128, 10000)\n",
    "ys = distribution.log_prob(xs)\n",
    "\n",
    "import matplotlib.pyplot as plt\n",
    "\n",
    "plt.plot(xs,ys)\n",
    "plt.show()"
   ]
  },
  {
   "cell_type": "code",
   "execution_count": 28,
   "metadata": {},
   "outputs": [
    {
     "data": {
      "text/plain": [
       "<tf.Tensor: shape=(10000,), dtype=float32, numpy=\n",
       "array([-127499.99, -127499.99, -127499.99, ..., -126499.99, -126499.99,\n",
       "       -127499.99], dtype=float32)>"
      ]
     },
     "execution_count": 28,
     "metadata": {},
     "output_type": "execute_result"
    }
   ],
   "source": [
    "ys"
   ]
  },
  {
   "cell_type": "code",
   "execution_count": 4,
   "metadata": {},
   "outputs": [
    {
     "data": {
      "text/plain": [
       "<tf.Tensor: shape=(1,), dtype=float32, numpy=array([32.], dtype=float32)>"
      ]
     },
     "execution_count": 4,
     "metadata": {},
     "output_type": "execute_result"
    }
   ],
   "source": [
    "distribution.sample()"
   ]
  },
  {
   "cell_type": "code",
   "execution_count": null,
   "metadata": {},
   "outputs": [],
   "source": []
  },
  {
   "cell_type": "code",
   "execution_count": 1,
   "metadata": {},
   "outputs": [],
   "source": [
    "import gym \n",
    "import pandaRL\n",
    "import os\n",
    "import numpy as np\n",
    "import time\n",
    "import glob\n",
    "import config\n",
    "#"
   ]
  },
  {
   "cell_type": "code",
   "execution_count": 2,
   "metadata": {},
   "outputs": [
    {
     "name": "stdout",
     "output_type": "stream",
     "text": [
      "current_dir=/home/sholto/Desktop/AI/pandaRL/pandaRL/envs\n"
     ]
    },
    {
     "name": "stderr",
     "output_type": "stream",
     "text": [
      "/home/sholto/anaconda3/lib/python3.7/site-packages/gym/logger.py:30: UserWarning: \u001b[33mWARN: Box bound precision lowered by casting to float32\u001b[0m\n",
      "  warnings.warn(colorize('%s: %s'%('WARN', msg % args), 'yellow'))\n"
     ]
    },
    {
     "name": "stdout",
     "output_type": "stream",
     "text": [
      "/home/sholto/Desktop/AI/pandaRL/pandaRL/envs\n"
     ]
    }
   ],
   "source": [
    "env = env = gym.make('pandaPlayJoints1Obj-v0')\n",
    "env.render(mode='human')\n",
    "o = env.reset()"
   ]
  },
  {
   "cell_type": "code",
   "execution_count": 164,
   "metadata": {},
   "outputs": [],
   "source": [
    "door_positions = {'left': -0.15, 'middle': 0.0, 'right': 0.15}\n",
    "drawer_positions = {'closed': -0.1, 'middle': 0.0, 'open': 0.1}\n",
    "button_positions = {'open': 0.029, 'closed': 0.0}\n",
    "dial_positions = {'default':0}\n",
    "obj_poses = {'default': [0,0.2,0.0], 'shelf':[0,0.43, 0.27], 'left':[-0.2, 0.2,0.0], 'right':[0.2,0.2,0.0],'closed_drawer': [-0.15, 0.1, -0.09], 'open_drawer':[-0.15, -0.15, -0.09], 'cupboard_left': [-0.2, 0.45, 0.0], 'cupboard_right':[0.2, 0.45, 0.0]}\n",
    "obj_oris = {'upright': [0,0.7,0,0.7], 'default':[0,0,0,1], 'lengthways':[0.0, 0.0, 0.7071, 0.7071]}"
   ]
  },
  {
   "cell_type": "code",
   "execution_count": 165,
   "metadata": {},
   "outputs": [],
   "source": [
    "def test_suite_reset(env, obj_ori = 'default', obj_pos = 'default', door = 'middle', drawer = 'middle', button = 'open', dial = 'default'):\n",
    "    obj_offset = np.array([0.,0.,0.])\n",
    "    if  obj_ori == 'upright':\n",
    "        obj_offset += np.array([0,0.,0.025])\n",
    "        \n",
    "    positions = [door_positions[door], drawer_positions[drawer], button_positions[button], dial_positions[dial]]\n",
    "             \n",
    "    for idx, j in enumerate(env.panda.joints):\n",
    "        env.panda.bullet_client.resetJointState(j, 0, positions[idx]) # reset drawer, button etc\n",
    "        \n",
    "    env.panda.bullet_client.resetBasePositionAndOrientation(env.panda.objects[0],\n",
    "                                                            np.array(obj_poses[obj_pos])+obj_offset, obj_oris[obj_ori])\n",
    "    \n",
    "    \n",
    "    \n",
    "def define_goal(env,obj_ori = 'default', obj_pos = 'default', door = 'middle', drawer = 'middle', button = 'open', dial = 'default'):\n",
    "    # We know the goal is \n",
    "    # objpos (3), obj_ori(4), door, drawer, button, dial\n",
    "    obj_offset = np.array([0.,0.,0.])\n",
    "    if  obj_ori == 'upright':\n",
    "        obj_offset += np.array([0,0.,0.025])\n",
    "    \n",
    "    goal = list(np.array(obj_poses[obj_pos])+obj_offset)+list(obj_oris[obj_ori])+[door_positions[door],drawer_positions[drawer], button_positions[button],dial_positions[dial]]\n",
    "    return np.array(goal)\n"
   ]
  },
  {
   "cell_type": "code",
   "execution_count": 170,
   "metadata": {},
   "outputs": [],
   "source": [
    "#now, how to measure success?\n",
    "\n",
    "def door_left(env):\n",
    "    test_suite_reset(env, door = 'right')\n",
    "    return define_goal(env, door = 'left')\n",
    "\n",
    "def door_right(env):\n",
    "    test_suite_reset(env, door = 'left')\n",
    "    return define_goal(env, door = 'right')\n",
    "\n",
    "def open_drawer(env):\n",
    "    test_suite_reset(env, drawer='closed')\n",
    "    return define_goal(env, drawer = 'open')\n",
    "\n",
    "def close_drawer(env):\n",
    "    test_suite_reset(env, drawer='open')\n",
    "    return define_goal(env, drawer = 'closed')\n",
    "\n",
    "def push_left(env):\n",
    "    test_suite_reset(env, obj_ori='lengthways')\n",
    "    return define_goal(env, obj_ori='lengthways', obj_pos='left')\n",
    "\n",
    "def push_right(env):\n",
    "    test_suite_reset(env, obj_ori='lengthways')\n",
    "    return define_goal(env, obj_ori='lengthways', obj_pos='right')\n",
    "\n",
    "def block_in_cupboard_right(env):\n",
    "    test_suite_reset(env, door='left')\n",
    "    return define_goal(env, door = 'left', obj_pos='cupboard_right')\n",
    "\n",
    "def block_in_cupboard_left(env):\n",
    "    test_suite_reset(env, door='right')\n",
    "    return define_goal(env, door = 'right', obj_pos='cupboard_left')\n",
    "\n",
    "def block_in_cupboard_right_upright(env):\n",
    "    test_suite_reset(env, door='left', obj_ori='upright')\n",
    "    return define_goal(env, door = 'left', obj_pos='cupboard_right', obj_ori='upright')\n",
    "\n",
    "def block_in_cupboard_left_upright(env):\n",
    "    test_suite_reset(env, door='right', obj_ori='upright')\n",
    "    return define_goal(env, door = 'right', obj_pos='cupboard_left', obj_ori='upright')\n",
    "\n",
    "def block_default_to_upright(env):\n",
    "    test_suite_reset(env, obj_ori='default')\n",
    "    return define_goal(env, obj_ori='upright')\n",
    "\n",
    "def block_lengthways_to_upright(env):\n",
    "    test_suite_reset(env, obj_ori='lengthways')\n",
    "    return define_goal(env, obj_ori='upright')\n",
    "\n",
    "def block_default_to_lengthways(env):\n",
    "    test_suite_reset(env, obj_ori='default')\n",
    "    return define_goal(env, obj_ori='lengthways')\n",
    "\n",
    "def block_lengthways_to_default(env):\n",
    "    test_suite_reset(env, obj_ori='lengthways')\n",
    "    return define_goal(env, obj_ori='default')\n",
    "\n",
    "def press_button(env):\n",
    "    test_suite_reset(env, door='right')\n",
    "    return define_goal(env, door='right', button='closed')\n",
    "\n",
    "def block_on_shelf(env):\n",
    "    test_suite_reset(env, obj_ori='upright')\n",
    "    return define_goal(env, obj_pos='shelf',obj_ori='upright')\n",
    "\n",
    "def block_in_open_drawer(env):\n",
    "    test_suite_reset(env, drawer='open')\n",
    "    return define_goal(env, drawer='open', obj_pos='open_drawer')\n",
    "\n",
    "def block_in_open_drawer_lengthways(env):\n",
    "    test_suite_reset(env, drawer='open', obj_ori='lengthways')\n",
    "    return define_goal(env, drawer='open', obj_ori='lengthways', obj_pos='open_drawer')\n",
    "\n",
    "# Multi part objectives\n",
    "def press_button_with_door_obstacle(env):\n",
    "    test_suite_reset(env, door='left')\n",
    "    return define_goal(env, door='right', button='closed')\n",
    "\n",
    "def block_in_drawer_and_close(env):\n",
    "    test_suite_reset(env, drawer='open', obj_ori='lengthways')\n",
    "    return define_goal(env, drawer='closed', obj_ori='lengthways', obj_pos='closed_drawer')\n",
    "\n"
   ]
  },
  {
   "cell_type": "code",
   "execution_count": 175,
   "metadata": {},
   "outputs": [],
   "source": [
    "#now, how to measure success?\n",
    "\n",
    "tests = [door_left,door_right,open_drawer,close_drawer,push_left,push_right,block_in_cupboard_right,\n",
    "         block_in_cupboard_left,block_in_cupboard_right_upright, block_in_cupboard_left_upright, block_default_to_upright,\n",
    "         block_lengthways_to_upright, block_default_to_lengthways, block_lengthways_to_default, press_button,block_on_shelf,\n",
    "         block_in_open_drawer,block_in_open_drawer_lengthways,\n",
    "         press_button_with_door_obstacle,block_in_drawer_and_close]\n",
    "\n"
   ]
  },
  {
   "cell_type": "code",
   "execution_count": 176,
   "metadata": {},
   "outputs": [],
   "source": [
    "import time"
   ]
  },
  {
   "cell_type": "code",
   "execution_count": 178,
   "metadata": {},
   "outputs": [
    {
     "name": "stdout",
     "output_type": "stream",
     "text": [
      "door_left\n",
      "door_right\n",
      "open_drawer\n",
      "close_drawer\n",
      "push_left\n",
      "push_right\n",
      "block_in_cupboard_right\n",
      "block_in_cupboard_left\n",
      "block_in_cupboard_right_upright\n",
      "block_in_cupboard_left_upright\n",
      "block_default_to_upright\n",
      "block_lengthways_to_upright\n",
      "block_default_to_lengthways\n",
      "block_lengthways_to_default\n",
      "press_button\n",
      "block_on_shelf\n",
      "block_in_open_drawer\n",
      "block_in_open_drawer_lengthways\n",
      "press_button_with_door_obstacle\n",
      "block_in_drawer_and_close\n"
     ]
    }
   ],
   "source": [
    "for f in tests:\n",
    "    print(f.__name__)\n",
    "    f(env)\n",
    "    time.sleep(0.5)"
   ]
  },
  {
   "cell_type": "code",
   "execution_count": 169,
   "metadata": {},
   "outputs": [],
   "source": [
    "test_suite_reset(env, obj_ori = 'lengthways', obj_pos = 'closed_drawer', door = 'middle', drawer = 'closed')"
   ]
  },
  {
   "cell_type": "code",
   "execution_count": 140,
   "metadata": {},
   "outputs": [
    {
     "data": {
      "text/plain": [
       "array([0.   , 0.2  , 0.   , 0.   , 0.   , 0.   , 1.   , 0.   , 0.   ,\n",
       "       0.029, 0.   ])"
      ]
     },
     "execution_count": 140,
     "metadata": {},
     "output_type": "execute_result"
    }
   ],
   "source": [
    "define_goal(env)"
   ]
  },
  {
   "cell_type": "code",
   "execution_count": 25,
   "metadata": {},
   "outputs": [],
   "source": [
    "o = env.reset()\n"
   ]
  },
  {
   "cell_type": "code",
   "execution_count": 156,
   "metadata": {},
   "outputs": [],
   "source": [
    "for i in range(0,1000):\n",
    "    env.p.stepSimulation()"
   ]
  },
  {
   "cell_type": "code",
   "execution_count": 26,
   "metadata": {},
   "outputs": [
    {
     "data": {
      "text/plain": [
       "0.029999999999999985"
      ]
     },
     "execution_count": 26,
     "metadata": {},
     "output_type": "execute_result"
    }
   ],
   "source": [
    "env.panda.bullet_client.getJointState(env.panda.joints[2], 0)[0]"
   ]
  },
  {
   "cell_type": "code",
   "execution_count": 4,
   "metadata": {},
   "outputs": [],
   "source": [
    "env.panda.bullet_client.resetJointState(env.panda.joints[0], 0, -3)"
   ]
  },
  {
   "cell_type": "code",
   "execution_count": 4,
   "metadata": {},
   "outputs": [],
   "source": [
    "# Play some representative sample data\n",
    "\n",
    "\n",
    "\n",
    "f= 0\n",
    "#base_path = 'data_collection/collected_data/play_demos/'\n",
    "base_path = 'data_collection/sample_data/'\n",
    "data = np.load(base_path+'obs_act_etc/'+str(f)+'/data.npz')\n",
    "potential_start_points = glob.glob(base_path+'/states_and_ims/'+str(f)+'/env_states/*.bullet')\n"
   ]
  },
  {
   "cell_type": "code",
   "execution_count": 5,
   "metadata": {},
   "outputs": [],
   "source": [
    "actions = data['acts']\n",
    "observations = data['obs']\n",
    "joint_targets = data['target_poses']"
   ]
  },
  {
   "cell_type": "code",
   "execution_count": 19,
   "metadata": {},
   "outputs": [
    {
     "data": {
      "image/png": "[encoded data removed]",
      "text/plain": [
       "<Figure size 432x288 with 1 Axes>"
      ]
     },
     "metadata": {
      "needs_background": "light"
     },
     "output_type": "display_data"
    }
   ],
   "source": [
    "import matplotlib.pyplot as plt\n",
    "o, r ,_,_ = env.step(env.action_space.sample())\n",
    "plt.imshow(o['img'])\n",
    "plt.show()"
   ]
  },
  {
   "cell_type": "code",
   "execution_count": 6,
   "metadata": {},
   "outputs": [
    {
     "name": "stdout",
     "output_type": "stream",
     "text": [
      "1121\n"
     ]
    }
   ],
   "source": [
    "dataset_len = len(actions)\n",
    "print(dataset_len)"
   ]
  },
  {
   "cell_type": "code",
   "execution_count": 7,
   "metadata": {},
   "outputs": [],
   "source": [
    "def get_random_start_point(potential_start_points):\n",
    "    idx = np.random.choice(len(potential_start_points))\n",
    "    path = potential_start_points[idx]\n",
    "    if config.OS == 'windows':\n",
    "        tstep = int(path.split('\\\\')[-1].replace('.bullet',''))\n",
    "    else:\n",
    "        tstep = int(path.split(\"/\")[-1].replace('.bullet',''))\n",
    "    return path, tstep\n",
    "    \n",
    "\n"
   ]
  },
  {
   "cell_type": "code",
   "execution_count": 4,
   "metadata": {},
   "outputs": [
    {
     "name": "stdout",
     "output_type": "stream",
     "text": [
      "/home/sholto/Desktop/AI/pandaRL/pandaRL/envs\n"
     ]
    }
   ],
   "source": [
    "\n",
    "env = env = gym.make('pandaPlayJoints1Obj-v0')\n",
    "\n",
    "env.reset()\n",
    "env.render('playback')"
   ]
  },
  {
   "cell_type": "code",
   "execution_count": 15,
   "metadata": {},
   "outputs": [
    {
     "data": {
      "text/plain": [
       "240.0"
      ]
     },
     "execution_count": 15,
     "metadata": {},
     "output_type": "execute_result"
    }
   ],
   "source": [
    "1/env.timeStep"
   ]
  },
  {
   "cell_type": "markdown",
   "metadata": {},
   "source": [
    "# Run with absolute position actions"
   ]
  },
  {
   "cell_type": "code",
   "execution_count": 12,
   "metadata": {},
   "outputs": [
    {
     "name": "stdout",
     "output_type": "stream",
     "text": [
      "-5.3314995765686035\n"
     ]
    }
   ],
   "source": [
    "path, start = get_random_start_point(potential_start_points)\n",
    "env.p.restoreState(fileName=path)\n",
    ",\n",
    "for i in range(start, start+80):\n",
    "    env.step(actions[i,:])\n"
   ]
  },
  {
   "cell_type": "markdown",
   "metadata": {},
   "source": [
    "# Run with motor actions"
   ]
  },
  {
   "cell_type": "code",
   "execution_count": 11,
   "metadata": {},
   "outputs": [],
   "source": [
    "path, start = get_random_start_point(potential_start_points)\n",
    "env.p.restoreState(fileName=path)\n",
    "\n",
    "for i in range(start, start+400):\n",
    "    targetPoses = joint_targets[i,:]\n",
    "    indexes =  [i for i in range(7)]\n",
    "    env.p.setJointMotorControlArray(env.panda.panda,indexes, env.p.POSITION_CONTROL,\n",
    "                                                         targetPositions=targetPoses ,\n",
    "                                                         forces=[5 * 240.]*len(indexes))\n",
    "    gripper = actions[i,-1]\n",
    "    for i in [9, 10]:\n",
    "        env.p.setJointMotorControl2(env.panda.panda, i, env.p.POSITION_CONTROL, gripper,\n",
    "                                             force=100)\n",
    "\n",
    "    env.panda.runSimulation()\n",
    "    time.sleep(0.005)"
   ]
  },
  {
   "cell_type": "markdown",
   "metadata": {},
   "source": [
    "# Everything below here is just rough working"
   ]
  },
  {
   "cell_type": "code",
   "execution_count": null,
   "metadata": {},
   "outputs": [],
   "source": [
    "path = 'data_collection/collected_data/play_demos/'\n",
    "obs_act_path = path+'obs_act_etc/'\n",
    "\n",
    "for demo in os.listdir(obs_act_path):\n",
    "\n",
    "    traj = np.load(obs_act_path+demo+'/data.npz')\n",
    "    traj = {key:traj[key] for key in keys}\n",
    "    reset_states = []\n",
    "    for i in range(0, len(traj[keys[0]])):\n",
    "        # these are needed for deterministic resetting\n",
    "        reset_states.append(path+'/states_and_ims/'+demo+'/env_states/'+str(i)+'.bullet')\n",
    "    traj['reset_states'] = reset_states\n",
    "    traj['reset_idx'] = int(demo)\n",
    "    dataset.append(traj)\n",
    "\n",
    "    cnt[len(traj[keys[0]])]+=1"
   ]
  },
  {
   "cell_type": "code",
   "execution_count": 14,
   "metadata": {},
   "outputs": [],
   "source": [
    "import os\n",
    "import numpy as np\n",
    "path = 'data_collection/collected_data/play_demos/'\n",
    "obs_act_path = path+'obs_act_etc/'\n",
    "l = os.listdir(obs_act_path)\n",
    "l.sort(key=float)\n"
   ]
  },
  {
   "cell_type": "code",
   "execution_count": 42,
   "metadata": {},
   "outputs": [
    {
     "name": "stdout",
     "output_type": "stream",
     "text": [
      "0 1121 1121\n",
      "1 1848 1849\n",
      "2 2132 2133\n",
      "3 2547 2548\n",
      "4 305 305\n",
      "5 2329 2329\n",
      "6 4360 4360\n",
      "7 9626 9626\n",
      "8 18722 18722\n",
      "9 557 557\n",
      "10 12713 12713\n",
      "11 10611 10611\n",
      "12 6208 6208\n",
      "13 3477 3477\n",
      "14 3662 3663\n",
      "15 3834 3834\n",
      "16 3054 3054\n",
      "17 3993 3993\n",
      "18 6184 6184\n",
      "19 4464 4464\n",
      "20 1342 1342\n",
      "21 1607 1607\n",
      "22 10345 10345\n",
      "23 6985 6985\n",
      "24 4468 4468\n",
      "25 1988 1988\n",
      "26 631 631\n",
      "27 1451 1451\n",
      "28 2468 2468\n",
      "29 3067 3067\n",
      "30 3931 3931\n",
      "31 1243 1243\n",
      "32 6926 6926\n",
      "33 2248 2248\n",
      "34 1317 1317\n",
      "35 1955 1955\n",
      "36 2999 2999\n",
      "37 12183 12183\n",
      "38 6662 6662\n",
      "39 1082 1082\n",
      "40 1875 1875\n",
      "41 5162 5162\n",
      "42 1093 1093\n",
      "43 1190 1190\n",
      "44 1087 1087\n",
      "45 1596 1596\n",
      "46 756 756\n",
      "47 1915 1915\n",
      "48 2903 2903\n",
      "49 1033 1033\n",
      "50 2705 2705\n",
      "51 4594 4594\n"
     ]
    }
   ],
   "source": [
    "for i in l:\n",
    "    npz_length = np.load(obs_act_path + i +'/data.npz')['obs'].shape[0]\n",
    "    states_len = len(os.listdir(path + 'states_and_ims/'+i+'/env_states/'))\n",
    "    print(i, npz_length, states_len)\n",
    "    "
   ]
  },
  {
   "cell_type": "code",
   "execution_count": null,
   "metadata": {},
   "outputs": [],
   "source": []
  },
  {
   "cell_type": "code",
   "execution_count": null,
   "metadata": {},
   "outputs": [],
   "source": []
  },
  {
   "cell_type": "code",
   "execution_count": null,
   "metadata": {},
   "outputs": [],
   "source": []
  },
  {
   "cell_type": "code",
   "execution_count": null,
   "metadata": {},
   "outputs": [],
   "source": []
  },
  {
   "cell_type": "code",
   "execution_count": null,
   "metadata": {},
   "outputs": [],
   "source": []
  },
  {
   "cell_type": "code",
   "execution_count": null,
   "metadata": {},
   "outputs": [],
   "source": []
  },
  {
   "cell_type": "code",
   "execution_count": null,
   "metadata": {},
   "outputs": [],
   "source": []
  },
  {
   "cell_type": "code",
   "execution_count": 5,
   "metadata": {},
   "outputs": [],
   "source": [
    "timestep = 1/240.\n",
    "control_Hz = 20\n",
    "n_steps = 1/control_Hz/timestep"
   ]
  },
  {
   "cell_type": "code",
   "execution_count": 16,
   "metadata": {},
   "outputs": [
    {
     "name": "stdout",
     "output_type": "stream",
     "text": [
      "583\n"
     ]
    },
    {
     "ename": "KeyboardInterrupt",
     "evalue": "",
     "output_type": "error",
     "traceback": [
      "\u001b[1;31m---------------------------------------------------------------------------\u001b[0m",
      "\u001b[1;31mKeyboardInterrupt\u001b[0m                         Traceback (most recent call last)",
      "\u001b[1;32m<ipython-input-16-8f29a49e04c9>\u001b[0m in \u001b[0;36m<module>\u001b[1;34m\u001b[0m\n\u001b[0;32m     10\u001b[0m \u001b[1;32mfor\u001b[0m \u001b[0mi\u001b[0m \u001b[1;32min\u001b[0m \u001b[0mrange\u001b[0m\u001b[1;33m(\u001b[0m\u001b[0mstart\u001b[0m\u001b[1;33m,\u001b[0m \u001b[0mdataset_len\u001b[0m \u001b[1;33m)\u001b[0m\u001b[1;33m:\u001b[0m\u001b[1;33m\u001b[0m\u001b[1;33m\u001b[0m\u001b[0m\n\u001b[0;32m     11\u001b[0m     \u001b[0menv\u001b[0m\u001b[1;33m.\u001b[0m\u001b[0mp\u001b[0m\u001b[1;33m.\u001b[0m\u001b[0mrestoreState\u001b[0m\u001b[1;33m(\u001b[0m\u001b[0mfileName\u001b[0m\u001b[1;33m=\u001b[0m\u001b[1;34m'data_collection/collected_data/play_demos/'\u001b[0m\u001b[1;33m+\u001b[0m\u001b[0mstr\u001b[0m\u001b[1;33m(\u001b[0m\u001b[0mf\u001b[0m\u001b[1;33m)\u001b[0m\u001b[1;33m+\u001b[0m\u001b[1;34m'/env_states/'\u001b[0m\u001b[1;33m+\u001b[0m\u001b[0mstr\u001b[0m\u001b[1;33m(\u001b[0m\u001b[0mi\u001b[0m\u001b[1;33m)\u001b[0m\u001b[1;33m+\u001b[0m\u001b[1;34m'.bullet'\u001b[0m\u001b[1;33m)\u001b[0m\u001b[1;33m\u001b[0m\u001b[1;33m\u001b[0m\u001b[0m\n\u001b[1;32m---> 12\u001b[1;33m     \u001b[0mtime\u001b[0m\u001b[1;33m.\u001b[0m\u001b[0msleep\u001b[0m\u001b[1;33m(\u001b[0m\u001b[1;36m0.005\u001b[0m\u001b[1;33m)\u001b[0m\u001b[1;33m\u001b[0m\u001b[1;33m\u001b[0m\u001b[0m\n\u001b[0m\u001b[0;32m     13\u001b[0m \u001b[1;33m\u001b[0m\u001b[0m\n\u001b[0;32m     14\u001b[0m \u001b[1;31m#env.p.restoreState(fileName='data_collection/collected_data/play_demos/'+str(f)+'/env_states/'+str(start)+'.bullet')\u001b[0m\u001b[1;33m\u001b[0m\u001b[1;33m\u001b[0m\u001b[1;33m\u001b[0m\u001b[0m\n",
      "\u001b[1;31mKeyboardInterrupt\u001b[0m: "
     ]
    }
   ],
   "source": [
    "\n",
    "                       \n",
    "start = 0\n",
    "for i in range(start, dataset_len ):\n",
    "    env.p.restoreState(fileName='data_collection/collected_data/play_demos/'+str(f)+'/env_states/'+str(i)+'.bullet')\n",
    "    time.sleep(0.005)\n",
    "    \n",
    "#env.p.restoreState(fileName='data_collection/collected_data/play_demos/'+str(f)+'/env_states/'+str(start)+'.bullet')"
   ]
  },
  {
   "cell_type": "code",
   "execution_count": 3,
   "metadata": {},
   "outputs": [],
   "source": [
    "f = 0\n",
    "data = np.load('data_collection/collected_data/play_demos/'+str(f)+'/data.npz')"
   ]
  },
  {
   "cell_type": "code",
   "execution_count": 9,
   "metadata": {},
   "outputs": [],
   "source": [
    "start = 200\n",
    "env.p.restoreState(fileName='data_collection/collected_data/play_demos/'+str(f)+'/env_states/'+str(start)+'.bullet')\n",
    "for i in range(start, start+400):\n",
    "    act = actions[i,:]\n",
    "    act[0:3] = act[0:3] + observations[i,0:3]\n",
    "    POS, ORI, GRIPPER = act[0:3], act[3:7], act[7]\n",
    "    env.panda.goto(POS, ORI, GRIPPER)\n",
    "    env.panda.runSimulation()\n",
    "    time.sleep(0.02)"
   ]
  },
  {
   "cell_type": "code",
   "execution_count": 2,
   "metadata": {},
   "outputs": [],
   "source": [
    "import tensorflow_probability as tfp\n",
    "tfd = tfp.distributions\n",
    "tfb = tfp.bijectors"
   ]
  },
  {
   "cell_type": "code",
   "execution_count": 13,
   "metadata": {},
   "outputs": [],
   "source": [
    "dist = tfd.Logistic(loc=[0], scale=[-0.001])"
   ]
  },
  {
   "cell_type": "code",
   "execution_count": 14,
   "metadata": {},
   "outputs": [
    {
     "data": {
      "text/plain": [
       "<tf.Tensor: id=100, shape=(1,), dtype=float32, numpy=array([nan], dtype=float32)>"
      ]
     },
     "execution_count": 14,
     "metadata": {},
     "output_type": "execute_result"
    }
   ],
   "source": [
    "-dist.log_prob(0)"
   ]
  },
  {
   "cell_type": "code",
   "execution_count": 3,
   "metadata": {},
   "outputs": [],
   "source": [
    "f = 8\n",
    "start = 200\n",
    "env.p.restoreState(fileName='data_collection/collected_data/play_demos/'+str(f)+'/env_states/'+str(start)+'.bullet')"
   ]
  },
  {
   "cell_type": "code",
   "execution_count": 12,
   "metadata": {},
   "outputs": [
    {
     "data": {
      "text/plain": [
       "array([ 2.96710021,  1.44192887,  0.47807272, -0.45802492,  2.96243465,\n",
       "        3.45266257,  2.40072908,  0.        ])"
      ]
     },
     "execution_count": 12,
     "metadata": {},
     "output_type": "execute_result"
    }
   ],
   "source": [
    "np.amax(data['joint_poses'], 0)"
   ]
  },
  {
   "cell_type": "code",
   "execution_count": 13,
   "metadata": {},
   "outputs": [
    {
     "data": {
      "text/plain": [
       "array([-0.36332795, -1.83301728, -2.65733942, -3.04878596, -0.93133401,\n",
       "        1.01175007, -0.66787038,  0.        ])"
      ]
     },
     "execution_count": 13,
     "metadata": {},
     "output_type": "execute_result"
    }
   ],
   "source": [
    "\n",
    "np.amin(data['joint_poses'], 0)"
   ]
  },
  {
   "cell_type": "code",
   "execution_count": 2,
   "metadata": {},
   "outputs": [
    {
     "name": "stdout",
     "output_type": "stream",
     "text": [
      "current_dir=c:\\users\\sholt\\desktop\\pandarl\\pandaRL\\envs\n"
     ]
    },
    {
     "name": "stderr",
     "output_type": "stream",
     "text": [
      "C:\\Users\\sholt\\Anaconda3\\lib\\site-packages\\gym\\logger.py:30: UserWarning: \u001b[33mWARN: gym.spaces.Box autodetected dtype as <class 'numpy.float32'>. Please provide explicit dtype.\u001b[0m\n",
      "  warnings.warn(colorize('%s: %s'%('WARN', msg % args), 'yellow'))\n"
     ]
    },
    {
     "name": "stdout",
     "output_type": "stream",
     "text": [
      "c:\\users\\sholt\\desktop\\pandarl\\pandaRL\\envs\n",
      "[1. 1. 1.] (0.15355311804230007, 0.2768742906891103, -0.0004785239722808991)\n",
      "[1. 1. 1.] (0.1322322668199551, 0.027385588734504678, -0.0007880906100530717)\n"
     ]
    }
   ],
   "source": [
    "\n",
    "data['joints']"
   ]
  },
  {
   "cell_type": "code",
   "execution_count": 5,
   "metadata": {},
   "outputs": [
    {
     "ename": "error",
     "evalue": "Couldn't restore state.",
     "output_type": "error",
     "traceback": [
      "\u001b[1;31m---------------------------------------------------------------------------\u001b[0m",
      "\u001b[1;31merror\u001b[0m                                     Traceback (most recent call last)",
      "\u001b[1;32m<ipython-input-5-2195f00a5f3b>\u001b[0m in \u001b[0;36m<module>\u001b[1;34m\u001b[0m\n\u001b[0;32m      2\u001b[0m \u001b[0mstart\u001b[0m \u001b[1;33m=\u001b[0m \u001b[1;36m1\u001b[0m\u001b[1;33m\u001b[0m\u001b[1;33m\u001b[0m\u001b[0m\n\u001b[0;32m      3\u001b[0m \u001b[0menv\u001b[0m\u001b[1;33m.\u001b[0m\u001b[0mp\u001b[0m\u001b[1;33m.\u001b[0m\u001b[0msetVRCameraState\u001b[0m\u001b[1;33m(\u001b[0m\u001b[1;33m[\u001b[0m\u001b[1;36m0.0\u001b[0m\u001b[1;33m,\u001b[0m \u001b[1;33m-\u001b[0m\u001b[1;36m0.3\u001b[0m\u001b[1;33m,\u001b[0m \u001b[1;33m-\u001b[0m\u001b[1;36m1.5\u001b[0m\u001b[1;33m]\u001b[0m\u001b[1;33m,\u001b[0m \u001b[0menv\u001b[0m\u001b[1;33m.\u001b[0m\u001b[0mp\u001b[0m\u001b[1;33m.\u001b[0m\u001b[0mgetQuaternionFromEuler\u001b[0m\u001b[1;33m(\u001b[0m\u001b[1;33m[\u001b[0m\u001b[1;36m0\u001b[0m\u001b[1;33m,\u001b[0m \u001b[1;36m0\u001b[0m\u001b[1;33m,\u001b[0m \u001b[1;36m0\u001b[0m\u001b[1;33m]\u001b[0m\u001b[1;33m)\u001b[0m\u001b[1;33m)\u001b[0m\u001b[1;33m\u001b[0m\u001b[1;33m\u001b[0m\u001b[0m\n\u001b[1;32m----> 4\u001b[1;33m \u001b[0menv\u001b[0m\u001b[1;33m.\u001b[0m\u001b[0mp\u001b[0m\u001b[1;33m.\u001b[0m\u001b[0mrestoreState\u001b[0m\u001b[1;33m(\u001b[0m\u001b[0mfileName\u001b[0m\u001b[1;33m=\u001b[0m\u001b[1;34m'data_collection/collected_data/play_demos/'\u001b[0m\u001b[1;33m+\u001b[0m\u001b[0mstr\u001b[0m\u001b[1;33m(\u001b[0m\u001b[0mf\u001b[0m\u001b[1;33m)\u001b[0m\u001b[1;33m+\u001b[0m\u001b[1;34m'/env_states/'\u001b[0m\u001b[1;33m+\u001b[0m\u001b[0mstr\u001b[0m\u001b[1;33m(\u001b[0m\u001b[0mstart\u001b[0m\u001b[1;33m)\u001b[0m\u001b[1;33m+\u001b[0m\u001b[1;34m'.bullet'\u001b[0m\u001b[1;33m)\u001b[0m\u001b[1;33m\u001b[0m\u001b[1;33m\u001b[0m\u001b[0m\n\u001b[0m",
      "\u001b[1;31merror\u001b[0m: Couldn't restore state."
     ]
    }
   ],
   "source": [
    "\n",
    "env.p.setVRCameraState([0.0, -0.3, -1.5], env.p.getQuaternionFromEuler([0, 0, 0]))\n"
   ]
  },
  {
   "cell_type": "code",
   "execution_count": 4,
   "metadata": {},
   "outputs": [
    {
     "data": {
      "text/plain": [
       "(26,)"
      ]
     },
     "execution_count": 4,
     "metadata": {},
     "output_type": "execute_result"
    }
   ],
   "source": [
    "o['observation'].shape"
   ]
  },
  {
   "cell_type": "code",
   "execution_count": 7,
   "metadata": {},
   "outputs": [],
   "source": [
    "start = 1400\n",
    "actions = data['acts']\n",
    "env.p.restoreState(fileName='data_collection/collected_data/play_demos/'+str(f)+'/env_states/'+str(start)+'.bullet')\n",
    "for i in range(start, start+400):\n",
    "    env.step(actions[i,:])\n",
    "    time.sleep(0.005)\n",
    "    \n"
   ]
  },
  {
   "cell_type": "code",
   "execution_count": 6,
   "metadata": {},
   "outputs": [],
   "source": [
    "start = 1400\n",
    "for i in range(start, start+400):\n",
    "    env.p.restoreState(fileName='data_collection/collected_data/play_demos/'+str(f)+'/env_states/'+str(i)+'.bullet')\n",
    "    time.sleep(0.02)"
   ]
  },
  {
   "cell_type": "code",
   "execution_count": 4,
   "metadata": {},
   "outputs": [],
   "source": [
    "def add_button(bullet_client, offset = np.array([0,0,0])):\n",
    "    sphereRadius = 0.02\n",
    "    colBoxId = bullet_client.createCollisionShape(bullet_client.GEOM_BOX,\n",
    "                                      halfExtents=[sphereRadius, sphereRadius, sphereRadius/4])\n",
    "\n",
    "    mass = 0\n",
    "    visualShapeId = bullet_client.createVisualShape(bullet_client.GEOM_BOX, halfExtents=[sphereRadius, sphereRadius, sphereRadius/4],\n",
    "                                                 rgbaColor=[1, 0, 0, 1])\n",
    "\n",
    "    link_Masses = [0.1]\n",
    "    linkCollisionShapeIndices = [colBoxId]\n",
    "    linkVisualShapeIndices = [visualShapeId]\n",
    "    linkPositions = [[-0.25,0.45, 0.70]]\n",
    "    linkOrientations = [bullet_client.getQuaternionFromEuler([0,0,0])]\n",
    "    linkInertialFramePositions = [[0, 0, 0]]\n",
    "    linkInertialFrameOrientations = [[0, 0, 0, 1]]\n",
    "    indices = [0]\n",
    "    # jointTypes = [bullet_client.JOINT_REVOLUTE]\n",
    "    jointTypes = [bullet_client.JOINT_PRISMATIC]\n",
    "    axis = [[0, 0, 1]]\n",
    "\n",
    "    basePosition = np.array([0, 0, -0.7])+offset\n",
    "    baseOrientation = [0, 0, 0, 1]\n",
    "\n",
    "    sphereUid = bullet_client.createMultiBody(mass,\n",
    "                                  colBoxId,\n",
    "                                  visualShapeId,\n",
    "                                  basePosition,\n",
    "                                  baseOrientation,\n",
    "                                  linkMasses=link_Masses,\n",
    "                                  linkCollisionShapeIndices=linkCollisionShapeIndices,\n",
    "                                  linkVisualShapeIndices=linkVisualShapeIndices,\n",
    "                                  linkPositions=linkPositions,\n",
    "                                  linkOrientations=linkOrientations,\n",
    "                                  linkInertialFramePositions=linkInertialFramePositions,\n",
    "                                  linkInertialFrameOrientations=linkInertialFrameOrientations,\n",
    "                                  linkParentIndices=indices,\n",
    "                                  linkJointTypes=jointTypes,\n",
    "                                  linkJointAxis=axis)\n",
    "\n",
    "    bullet_client.changeDynamics(sphereUid,\n",
    "                     -1,\n",
    "                     spinningFriction=0.001,\n",
    "                     rollingFriction=0.001,\n",
    "                     linearDamping=0.0)\n",
    "    bullet_client.setJointMotorControl2(sphereUid, 0, bullet_client.POSITION_CONTROL, targetPosition=0.03, force=1)\n",
    "    return sphereUid\n"
   ]
  },
  {
   "cell_type": "code",
   "execution_count": 5,
   "metadata": {},
   "outputs": [],
   "source": [
    "bullet_client = env.p\n",
    "button = add_button(env.p)"
   ]
  },
  {
   "cell_type": "code",
   "execution_count": 6,
   "metadata": {},
   "outputs": [],
   "source": [
    "def get_joint_obs(bullet_client, item):\n",
    "    return bullet_client.getJointState(item, 0)[0]"
   ]
  },
  {
   "cell_type": "code",
   "execution_count": 5,
   "metadata": {},
   "outputs": [
    {
     "ename": "AttributeError",
     "evalue": "'tuple' object has no attribute 'items'",
     "output_type": "error",
     "traceback": [
      "\u001b[1;31m---------------------------------------------------------------------------\u001b[0m",
      "\u001b[1;31mAttributeError\u001b[0m                            Traceback (most recent call last)",
      "\u001b[1;32m<ipython-input-5-dd59aee3101e>\u001b[0m in \u001b[0;36m<module>\u001b[1;34m\u001b[0m\n\u001b[0;32m      1\u001b[0m \u001b[1;32mimport\u001b[0m \u001b[0mtime\u001b[0m\u001b[1;33m\u001b[0m\u001b[1;33m\u001b[0m\u001b[0m\n\u001b[0;32m      2\u001b[0m \u001b[1;32mwhile\u001b[0m\u001b[1;33m(\u001b[0m\u001b[1;36m1\u001b[0m\u001b[1;33m)\u001b[0m\u001b[1;33m:\u001b[0m\u001b[1;33m\u001b[0m\u001b[1;33m\u001b[0m\u001b[0m\n\u001b[1;32m----> 3\u001b[1;33m     \u001b[0mo\u001b[0m\u001b[1;33m,\u001b[0m\u001b[0mr\u001b[0m\u001b[1;33m,\u001b[0m\u001b[0md\u001b[0m\u001b[1;33m,\u001b[0m\u001b[0m_\u001b[0m \u001b[1;33m=\u001b[0m \u001b[0menv\u001b[0m\u001b[1;33m.\u001b[0m\u001b[0mstep\u001b[0m\u001b[1;33m(\u001b[0m\u001b[0menv\u001b[0m\u001b[1;33m.\u001b[0m\u001b[0maction_space\u001b[0m\u001b[1;33m.\u001b[0m\u001b[0msample\u001b[0m\u001b[1;33m(\u001b[0m\u001b[1;33m)\u001b[0m\u001b[1;33m)\u001b[0m\u001b[1;33m\u001b[0m\u001b[1;33m\u001b[0m\u001b[0m\n\u001b[0m\u001b[0;32m      4\u001b[0m     \u001b[1;31m#print(get_joint_obs(bullet_client, button))\u001b[0m\u001b[1;33m\u001b[0m\u001b[1;33m\u001b[0m\u001b[1;33m\u001b[0m\u001b[0m\n\u001b[0;32m      5\u001b[0m     \u001b[0mprint\u001b[0m\u001b[1;33m(\u001b[0m\u001b[0mo\u001b[0m\u001b[1;33m[\u001b[0m\u001b[1;33m:\u001b[0m\u001b[1;33m-\u001b[0m\u001b[1;36m4\u001b[0m\u001b[1;33m]\u001b[0m\u001b[1;33m)\u001b[0m\u001b[1;33m\u001b[0m\u001b[1;33m\u001b[0m\u001b[0m\n",
      "\u001b[1;32mc:\\users\\sholt\\desktop\\pandarl\\pandaRL\\envs\\environments.py\u001b[0m in \u001b[0;36mstep\u001b[1;34m(self, action)\u001b[0m\n\u001b[0;32m    839\u001b[0m         \u001b[0mdone\u001b[0m \u001b[1;33m=\u001b[0m \u001b[1;32mFalse\u001b[0m\u001b[1;33m\u001b[0m\u001b[1;33m\u001b[0m\u001b[0m\n\u001b[0;32m    840\u001b[0m         \u001b[0msuccess\u001b[0m \u001b[1;33m=\u001b[0m \u001b[1;36m0\u001b[0m \u001b[1;32mif\u001b[0m \u001b[0mr\u001b[0m \u001b[1;33m<\u001b[0m \u001b[1;36m0\u001b[0m \u001b[1;32melse\u001b[0m \u001b[1;36m1\u001b[0m\u001b[1;33m\u001b[0m\u001b[1;33m\u001b[0m\u001b[0m\n\u001b[1;32m--> 841\u001b[1;33m         \u001b[1;32mfor\u001b[0m \u001b[0mi\u001b[0m\u001b[1;33m,\u001b[0m\u001b[0mo\u001b[0m \u001b[1;32min\u001b[0m \u001b[0mself\u001b[0m\u001b[1;33m.\u001b[0m\u001b[0mpanda\u001b[0m\u001b[1;33m.\u001b[0m\u001b[0mcalc_environment_state\u001b[0m\u001b[1;33m(\u001b[0m\u001b[1;33m)\u001b[0m\u001b[1;33m.\u001b[0m\u001b[0mitems\u001b[0m\u001b[1;33m(\u001b[0m\u001b[1;33m)\u001b[0m\u001b[1;33m:\u001b[0m\u001b[1;33m\u001b[0m\u001b[1;33m\u001b[0m\u001b[0m\n\u001b[0m\u001b[0;32m    842\u001b[0m \u001b[1;33m\u001b[0m\u001b[0m\n\u001b[0;32m    843\u001b[0m             \u001b[1;32mif\u001b[0m \u001b[1;33m(\u001b[0m\u001b[0mo\u001b[0m\u001b[1;33m[\u001b[0m\u001b[1;34m'pos'\u001b[0m\u001b[1;33m]\u001b[0m \u001b[1;33m>\u001b[0m \u001b[0mself\u001b[0m\u001b[1;33m.\u001b[0m\u001b[0menv_upper_bound\u001b[0m\u001b[1;33m)\u001b[0m\u001b[1;33m.\u001b[0m\u001b[0many\u001b[0m\u001b[1;33m(\u001b[0m\u001b[1;33m)\u001b[0m \u001b[1;32mor\u001b[0m \u001b[1;33m(\u001b[0m\u001b[0mo\u001b[0m\u001b[1;33m[\u001b[0m\u001b[1;34m'pos'\u001b[0m\u001b[1;33m]\u001b[0m \u001b[1;33m<\u001b[0m \u001b[0mself\u001b[0m\u001b[1;33m.\u001b[0m\u001b[0menv_lower_bound\u001b[0m\u001b[1;33m)\u001b[0m\u001b[1;33m.\u001b[0m\u001b[0many\u001b[0m\u001b[1;33m(\u001b[0m\u001b[1;33m)\u001b[0m\u001b[1;33m:\u001b[0m\u001b[1;33m\u001b[0m\u001b[1;33m\u001b[0m\u001b[0m\n",
      "\u001b[1;31mAttributeError\u001b[0m: 'tuple' object has no attribute 'items'"
     ]
    }
   ],
   "source": [
    "import time\n",
    "while(1):\n",
    "    o,r,d,_ = env.step(env.action_space.sample())\n",
    "    #print(get_joint_obs(bullet_client, button))\n",
    "    print(o[:-4])\n",
    "    time.sleep(0.05)"
   ]
  },
  {
   "cell_type": "code",
   "execution_count": 6,
   "metadata": {},
   "outputs": [],
   "source": [
    "\n",
    "side = 0.2\n",
    "\n",
    "\n",
    "\n",
    "# Cabinet sides\n",
    "colcubeId = bullet_client.createCollisionShape(bullet_client.GEOM_BOX, halfExtents=[0.01, 0.065, 0.235])\n",
    "visplaneId = bullet_client.createVisualShape(bullet_client.GEOM_BOX, halfExtents=[0.01, 0.065, 0.235],\n",
    "                                             rgbaColor=[0.75, 0.4 ,0.2,1])\n",
    "block = bullet_client.createMultiBody(0.0, colcubeId, visplaneId, [-0.34, 0.45, -0.00])\n",
    "\n",
    "colcubeId = bullet_client.createCollisionShape(bullet_client.GEOM_BOX, halfExtents=[0.01, 0.065, 0.235])\n",
    "visplaneId = bullet_client.createVisualShape(bullet_client.GEOM_BOX, halfExtents=[0.01, 0.065, 0.235],\n",
    "                                             rgbaColor=[0.75, 0.4 ,0.2,1])\n",
    "block = bullet_client.createMultiBody(0.0, colcubeId, visplaneId, [0.34, 0.45, -0.00])\n",
    "\n",
    "# Cabinet back"
   ]
  },
  {
   "cell_type": "code",
   "execution_count": 2,
   "metadata": {},
   "outputs": [
    {
     "name": "stdout",
     "output_type": "stream",
     "text": [
      "C:\\Users\\sholt\\Anaconda3\\lib\\site-packages\\pybullet-2.4.8-py3.7-win-amd64.egg\\pybullet_data\n"
     ]
    }
   ],
   "source": [
    "USE_VR = None  \n",
    "import socket\n",
    "import pybullet as p\n",
    "import time\n",
    "import pybullet_data\n",
    "import numpy as np\n",
    "from pickle import dumps\n",
    "import math \n",
    "#p.connect(p.UDP,\"192.168.86.100\")\n",
    "cid = p.connect(p.SHARED_MEMORY)\n",
    "\n",
    "if (cid<0):\n",
    "    p.connect(p.GUI)\n",
    "    USE_VR = False\n",
    "else:\n",
    "    print(\"Connected to shared memory\")\n",
    "    USE_VR = True # Use either GUI or VR to set commands. \n",
    "\n",
    "p.setAdditionalSearchPath(pybullet_data.getDataPath())\n",
    "print(pybullet_data.getDataPath())\n",
    "p.resetSimulation()"
   ]
  },
  {
   "cell_type": "code",
   "execution_count": 4,
   "metadata": {},
   "outputs": [],
   "source": [
    "bullet_client = env.p\n",
    "side = 0.2\n",
    "\n",
    "# TableTop\n",
    "colcubeId = bullet_client.createCollisionShape(bullet_client.GEOM_BOX, halfExtents=[0.4, 0.28, 0.005])\n",
    "visplaneId = bullet_client.createVisualShape(bullet_client.GEOM_BOX, halfExtents=[0.4, 0.28, 0.005],\n",
    "                                             rgbaColor=[0.75, 0.4 ,0.2,1])\n",
    "block = bullet_client.createMultiBody(0.0, colcubeId, visplaneId, [0, 0.25, -0.03])\n",
    "\n",
    "# Cabinet back\n",
    "colcubeId = bullet_client.createCollisionShape(bullet_client.GEOM_BOX, halfExtents=[0.4, 0.01, 0.22])\n",
    "visplaneId = bullet_client.createVisualShape(bullet_client.GEOM_BOX, halfExtents=[0.4, 0.01, 0.22],\n",
    "                                             rgbaColor=[0.75, 0.4 ,0.2,1])\n",
    "block = bullet_client.createMultiBody(0.0, colcubeId, visplaneId, [0., 0.52, -0.00])\n",
    "\n",
    "# Cabinet back\n",
    "colcubeId = bullet_client.createCollisionShape(bullet_client.GEOM_BOX, halfExtents=[0.4, 0.065, 0.005])\n",
    "visplaneId = bullet_client.createVisualShape(bullet_client.GEOM_BOX, halfExtents=[0.4, 0.065, 0.005],\n",
    "                                             rgbaColor=[0.75, 0.4 ,0.2,1])\n",
    "block = bullet_client.createMultiBody(0.0, colcubeId, visplaneId, [0., 0.47, 0.22])"
   ]
  },
  {
   "cell_type": "code",
   "execution_count": 8,
   "metadata": {},
   "outputs": [
    {
     "name": "stdout",
     "output_type": "stream",
     "text": [
      "[1. 1. 1.] (0.014523141085498292, 0.23689232809361152, -0.0005236087897062718)\n",
      "[1. 1. 1.] (-0.08141298108678453, 0.01506491139565487, -0.0010481262835798713)\n"
     ]
    },
    {
     "data": {
      "text/plain": [
       "{'observation': array([ 1.8078450e-02,  1.6696209e-01,  6.3757353e-02, -4.9999991e-01,\n",
       "         5.0000650e-01,  4.9999180e-01,  5.0000179e-01,  0.0000000e+00,\n",
       "         1.4523141e-02,  2.3689233e-01, -5.2360882e-04, -2.7552254e-15,\n",
       "         4.7280553e-15, -3.2375383e-17,  1.0000000e+00, -8.1412978e-02,\n",
       "         1.5064911e-02, -1.0481263e-03, -5.0417226e-15,  8.6314360e-15,\n",
       "        -3.0017379e-17,  1.0000000e+00], dtype=float32),\n",
       " 'achieved_goal': array([ 1.4523141e-02,  2.3689233e-01, -5.2360882e-04, -2.7552254e-15,\n",
       "         4.7280553e-15, -3.2375383e-17,  1.0000000e+00, -8.1412978e-02,\n",
       "         1.5064911e-02, -1.0481263e-03, -5.0417226e-15,  8.6314360e-15,\n",
       "        -3.0017379e-17,  1.0000000e+00], dtype=float32),\n",
       " 'desired_goal': array([-0.10965421,  0.04876273,  0.08125692, -0.16049282,  0.2998277 ,\n",
       "         0.09508812], dtype=float32),\n",
       " 'controllable_achieved_goal': array([0.01807845, 0.16696209, 0.06375735, 0.        ], dtype=float32),\n",
       " 'full_positional_state': array([ 1.8078450e-02,  1.6696209e-01,  6.3757353e-02, -4.9999991e-01,\n",
       "         5.0000650e-01,  4.9999180e-01,  5.0000179e-01,  0.0000000e+00,\n",
       "         1.4523141e-02,  2.3689233e-01, -5.2360882e-04, -2.7552254e-15,\n",
       "         4.7280553e-15, -3.2375383e-17,  1.0000000e+00, -8.1412978e-02,\n",
       "         1.5064911e-02, -1.0481263e-03, -5.0417226e-15,  8.6314360e-15,\n",
       "        -3.0017379e-17,  1.0000000e+00], dtype=float32)}"
      ]
     },
     "execution_count": 8,
     "metadata": {},
     "output_type": "execute_result"
    }
   ],
   "source": [
    "env.reset()"
   ]
  },
  {
   "cell_type": "code",
   "execution_count": null,
   "metadata": {},
   "outputs": [],
   "source": []
  },
  {
   "cell_type": "code",
   "execution_count": 3,
   "metadata": {},
   "outputs": [
    {
     "data": {
      "text/plain": [
       "array([ 2.48089097,  1.8326    ,  0.79739335, -0.8531707 ,  2.97036591,\n",
       "        2.58578468,  2.67821283,  0.        ])"
      ]
     },
     "execution_count": 3,
     "metadata": {},
     "output_type": "execute_result"
    }
   ],
   "source": []
  },
  {
   "cell_type": "code",
   "execution_count": 6,
   "metadata": {},
   "outputs": [
    {
     "data": {
      "text/plain": [
       "0.05005034768318027"
      ]
     },
     "execution_count": 6,
     "metadata": {},
     "output_type": "execute_result"
    }
   ],
   "source": [
    "actions = data['acts']\n",
    "actions.shape\n",
    "np.mean(data['times'][1:] - data['times'][:-1])"
   ]
  },
  {
   "cell_type": "code",
   "execution_count": 7,
   "metadata": {},
   "outputs": [],
   "source": []
  },
  {
   "cell_type": "code",
   "execution_count": 63,
   "metadata": {},
   "outputs": [],
   "source": [
    "\n",
    "import socket\n",
    "import pickle\n",
    "HOST = '127.0.0.1'  # The server's hostname or IP address\n",
    "PORT = 65432        # The port used by the server\n",
    "\n",
    "s = socket.socket(socket.AF_INET, socket.SOCK_STREAM)\n",
    "s.connect((HOST, PORT))"
   ]
  },
  {
   "cell_type": "code",
   "execution_count": 68,
   "metadata": {},
   "outputs": [
    {
     "name": "stdout",
     "output_type": "stream",
     "text": [
      "Received [ 0.14736843 -0.70526314  0.78947365  1.          1.          1.\n",
      "  1.          1.          1.        ]\n",
      "Wall time: 3.03 ms\n"
     ]
    }
   ],
   "source": [
    "%%time\n",
    "\n",
    "s.sendall(b'Hello, world')\n",
    "data = s.recv(1024)\n",
    "print('Received', pickle.loads(data)) #repr(data)"
   ]
  },
  {
   "cell_type": "code",
   "execution_count": 69,
   "metadata": {},
   "outputs": [],
   "source": [
    "s.close()"
   ]
  },
  {
   "cell_type": "code",
   "execution_count": 1,
   "metadata": {},
   "outputs": [],
   "source": [
    "import time"
   ]
  },
  {
   "cell_type": "code",
   "execution_count": 2,
   "metadata": {},
   "outputs": [],
   "source": [
    "import adept_envs\n",
    "import gym\n",
    "import glob\n",
    "import os\n",
    "#from parse_mjl import parse_mjl_logs\n",
    "from tqdm import tqdm\n",
    "import numpy as np"
   ]
  },
  {
   "cell_type": "code",
   "execution_count": 3,
   "metadata": {},
   "outputs": [
    {
     "name": "stdout",
     "output_type": "stream",
     "text": [
      "Reading configurations for Franka\n",
      "\u001b[40m\u001b[37mInitializing Franka sim\u001b[0m\n",
      "registering the liscence\n"
     ]
    },
    {
     "name": "stderr",
     "output_type": "stream",
     "text": [
      "/home/sholto/anaconda3/lib/python3.7/site-packages/gym/logger.py:30: UserWarning: \u001b[33mWARN: Box bound precision lowered by casting to float32\u001b[0m\n",
      "  warnings.warn(colorize('%s: %s'%('WARN', msg % args), 'yellow'))\n"
     ]
    }
   ],
   "source": [
    "env = gym.make(\"kitchen_relax-v1\")"
   ]
  },
  {
   "cell_type": "code",
   "execution_count": 4,
   "metadata": {},
   "outputs": [],
   "source": [
    "obs = env.reset()\n"
   ]
  },
  {
   "cell_type": "code",
   "execution_count": 5,
   "metadata": {},
   "outputs": [],
   "source": [
    "env.render()\n"
   ]
  },
  {
   "cell_type": "code",
   "execution_count": 6,
   "metadata": {},
   "outputs": [
    {
     "name": "stdout",
     "output_type": "stream",
     "text": [
      "0.1024630069732666\n",
      "0.09929513931274414\n",
      "0.056250572204589844\n",
      "0.054010629653930664\n",
      "0.054765939712524414\n",
      "0.041208505630493164\n",
      "0.03633713722229004\n",
      "0.03556942939758301\n",
      "0.035807132720947266\n",
      "0.03795599937438965\n",
      "0.03541111946105957\n",
      "0.03475332260131836\n",
      "0.03549790382385254\n",
      "0.03724551200866699\n",
      "0.03875994682312012\n",
      "0.035433053970336914\n",
      "0.03582119941711426\n",
      "0.035378217697143555\n",
      "0.035184383392333984\n",
      "0.03587985038757324\n",
      "0.041985511779785156\n",
      "0.03649306297302246\n",
      "0.036658287048339844\n",
      "0.037175893783569336\n",
      "0.03620290756225586\n",
      "0.036122798919677734\n",
      "0.04159688949584961\n",
      "0.03767657279968262\n",
      "0.039988040924072266\n",
      "0.03682208061218262\n",
      "0.03581094741821289\n",
      "0.03644251823425293\n",
      "0.04038262367248535\n",
      "0.03700423240661621\n",
      "0.03766918182373047\n",
      "0.036600589752197266\n",
      "0.0371403694152832\n",
      "0.037645816802978516\n",
      "0.04079294204711914\n",
      "0.03828024864196777\n",
      "0.03876829147338867\n",
      "0.03985786437988281\n",
      "0.037836313247680664\n",
      "0.037631988525390625\n",
      "0.03810715675354004\n",
      "0.038347721099853516\n",
      "0.03734087944030762\n",
      "0.03627300262451172\n",
      "0.0378880500793457\n",
      "0.03674888610839844\n",
      "0.039403676986694336\n",
      "0.03913736343383789\n",
      "0.03735542297363281\n",
      "0.037035226821899414\n",
      "0.0384221076965332\n",
      "0.03793191909790039\n",
      "0.039399147033691406\n",
      "0.03708171844482422\n",
      "0.03601646423339844\n",
      "0.03831362724304199\n",
      "0.036328792572021484\n",
      "0.03660702705383301\n",
      "0.038788795471191406\n",
      "0.039003849029541016\n",
      "0.03695249557495117\n",
      "0.03625369071960449\n",
      "0.037764787673950195\n",
      "0.0399777889251709\n",
      "0.04040265083312988\n",
      "0.03705787658691406\n",
      "0.03762936592102051\n",
      "0.036170244216918945\n",
      "0.03558087348937988\n",
      "0.036171674728393555\n",
      "0.040686607360839844\n",
      "0.03816342353820801\n",
      "0.03676247596740723\n",
      "0.03592729568481445\n",
      "0.03602433204650879\n",
      "0.0369112491607666\n",
      "0.03894495964050293\n",
      "0.03636431694030762\n",
      "0.03523135185241699\n",
      "0.036997079849243164\n",
      "0.03557181358337402\n",
      "0.03643679618835449\n",
      "0.04085350036621094\n",
      "0.038086891174316406\n",
      "0.03618049621582031\n",
      "0.03658127784729004\n",
      "0.03642892837524414\n",
      "0.036123037338256836\n",
      "0.0396420955657959\n",
      "0.03727555274963379\n",
      "0.03632473945617676\n",
      "0.03573799133300781\n",
      "0.035701751708984375\n",
      "0.038240671157836914\n",
      "0.04101991653442383\n",
      "0.037894487380981445\n",
      "0.03797435760498047\n",
      "0.03688216209411621\n",
      "0.03738713264465332\n",
      "0.03766632080078125\n",
      "0.039279937744140625\n",
      "0.03866744041442871\n",
      "0.03670907020568848\n",
      "0.03623199462890625\n",
      "0.036737918853759766\n",
      "0.036519765853881836\n",
      "0.04372978210449219\n",
      "0.03994345664978027\n",
      "0.03717541694641113\n",
      "0.03666067123413086\n",
      "0.03705906867980957\n",
      "0.03731036186218262\n",
      "0.044336557388305664\n",
      "0.03839373588562012\n",
      "0.036733150482177734\n",
      "0.03657674789428711\n",
      "0.037102460861206055\n",
      "0.0398252010345459\n",
      "0.0378260612487793\n",
      "0.03850984573364258\n",
      "0.038094282150268555\n",
      "0.03651618957519531\n",
      "0.037401437759399414\n",
      "0.03621530532836914\n",
      "0.03724789619445801\n",
      "0.03721022605895996\n",
      "0.036412715911865234\n",
      "0.036020755767822266\n",
      "0.03668022155761719\n",
      "0.03731703758239746\n",
      "0.03766369819641113\n",
      "0.0372617244720459\n",
      "0.0381927490234375\n",
      "0.03650689125061035\n",
      "0.03668332099914551\n",
      "0.03749370574951172\n",
      "0.03717803955078125\n",
      "0.03561520576477051\n",
      "0.041861772537231445\n",
      "0.037094831466674805\n",
      "0.035581350326538086\n",
      "0.0365138053894043\n",
      "0.03860902786254883\n",
      "0.05373787879943848\n",
      "0.04681873321533203\n",
      "0.03857159614562988\n",
      "0.03943824768066406\n"
     ]
    },
    {
     "ename": "KeyboardInterrupt",
     "evalue": "",
     "output_type": "error",
     "traceback": [
      "\u001b[0;31m---------------------------------------------------------------------------\u001b[0m",
      "\u001b[0;31mKeyboardInterrupt\u001b[0m                         Traceback (most recent call last)",
      "\u001b[0;32m<ipython-input-6-2cf95edafb2f>\u001b[0m in \u001b[0;36m<module>\u001b[0;34m\u001b[0m\n\u001b[1;32m      2\u001b[0m \u001b[0;32mwhile\u001b[0m\u001b[0;34m(\u001b[0m\u001b[0;36m1\u001b[0m\u001b[0;34m)\u001b[0m\u001b[0;34m:\u001b[0m\u001b[0;34m\u001b[0m\u001b[0;34m\u001b[0m\u001b[0m\n\u001b[1;32m      3\u001b[0m     \u001b[0mjoint_vels\u001b[0m \u001b[0;34m=\u001b[0m \u001b[0mnp\u001b[0m\u001b[0;34m.\u001b[0m\u001b[0mzeros\u001b[0m\u001b[0;34m(\u001b[0m\u001b[0;36m9\u001b[0m\u001b[0;34m)\u001b[0m\u001b[0;34m\u001b[0m\u001b[0;34m\u001b[0m\u001b[0m\n\u001b[0;32m----> 4\u001b[0;31m     \u001b[0menv\u001b[0m\u001b[0;34m.\u001b[0m\u001b[0mstep\u001b[0m\u001b[0;34m(\u001b[0m\u001b[0mnp\u001b[0m\u001b[0;34m.\u001b[0m\u001b[0marray\u001b[0m\u001b[0;34m(\u001b[0m\u001b[0mjoint_vels\u001b[0m\u001b[0;34m)\u001b[0m\u001b[0;34m)\u001b[0m\u001b[0;34m\u001b[0m\u001b[0;34m\u001b[0m\u001b[0m\n\u001b[0m\u001b[1;32m      5\u001b[0m     \u001b[0mt1\u001b[0m \u001b[0;34m=\u001b[0m \u001b[0mtime\u001b[0m\u001b[0;34m.\u001b[0m\u001b[0mtime\u001b[0m\u001b[0;34m(\u001b[0m\u001b[0;34m)\u001b[0m\u001b[0;34m\u001b[0m\u001b[0;34m\u001b[0m\u001b[0m\n\u001b[1;32m      6\u001b[0m     \u001b[0mprint\u001b[0m\u001b[0;34m(\u001b[0m\u001b[0mt1\u001b[0m\u001b[0;34m-\u001b[0m\u001b[0mt0\u001b[0m\u001b[0;34m)\u001b[0m\u001b[0;34m\u001b[0m\u001b[0;34m\u001b[0m\u001b[0m\n",
      "\u001b[0;32m~/anaconda3/lib/python3.7/site-packages/gym/wrappers/time_limit.py\u001b[0m in \u001b[0;36mstep\u001b[0;34m(self, action)\u001b[0m\n\u001b[1;32m     14\u001b[0m     \u001b[0;32mdef\u001b[0m \u001b[0mstep\u001b[0m\u001b[0;34m(\u001b[0m\u001b[0mself\u001b[0m\u001b[0;34m,\u001b[0m \u001b[0maction\u001b[0m\u001b[0;34m)\u001b[0m\u001b[0;34m:\u001b[0m\u001b[0;34m\u001b[0m\u001b[0;34m\u001b[0m\u001b[0m\n\u001b[1;32m     15\u001b[0m         \u001b[0;32massert\u001b[0m \u001b[0mself\u001b[0m\u001b[0;34m.\u001b[0m\u001b[0m_elapsed_steps\u001b[0m \u001b[0;32mis\u001b[0m \u001b[0;32mnot\u001b[0m \u001b[0;32mNone\u001b[0m\u001b[0;34m,\u001b[0m \u001b[0;34m\"Cannot call env.step() before calling reset()\"\u001b[0m\u001b[0;34m\u001b[0m\u001b[0;34m\u001b[0m\u001b[0m\n\u001b[0;32m---> 16\u001b[0;31m         \u001b[0mobservation\u001b[0m\u001b[0;34m,\u001b[0m \u001b[0mreward\u001b[0m\u001b[0;34m,\u001b[0m \u001b[0mdone\u001b[0m\u001b[0;34m,\u001b[0m \u001b[0minfo\u001b[0m \u001b[0;34m=\u001b[0m \u001b[0mself\u001b[0m\u001b[0;34m.\u001b[0m\u001b[0menv\u001b[0m\u001b[0;34m.\u001b[0m\u001b[0mstep\u001b[0m\u001b[0;34m(\u001b[0m\u001b[0maction\u001b[0m\u001b[0;34m)\u001b[0m\u001b[0;34m\u001b[0m\u001b[0;34m\u001b[0m\u001b[0m\n\u001b[0m\u001b[1;32m     17\u001b[0m         \u001b[0mself\u001b[0m\u001b[0;34m.\u001b[0m\u001b[0m_elapsed_steps\u001b[0m \u001b[0;34m+=\u001b[0m \u001b[0;36m1\u001b[0m\u001b[0;34m\u001b[0m\u001b[0;34m\u001b[0m\u001b[0m\n\u001b[1;32m     18\u001b[0m         \u001b[0;32mif\u001b[0m \u001b[0mself\u001b[0m\u001b[0;34m.\u001b[0m\u001b[0m_elapsed_steps\u001b[0m \u001b[0;34m>=\u001b[0m \u001b[0mself\u001b[0m\u001b[0;34m.\u001b[0m\u001b[0m_max_episode_steps\u001b[0m\u001b[0;34m:\u001b[0m\u001b[0;34m\u001b[0m\u001b[0;34m\u001b[0m\u001b[0m\n",
      "\u001b[0;32m~/Desktop/AI/learning_from_play/relay-policy-learning/adept_envs/adept_envs/franka/kitchen_multitask_v0.py\u001b[0m in \u001b[0;36mstep\u001b[0;34m(self, a, b)\u001b[0m\n\u001b[1;32m    111\u001b[0m             \u001b[0;34m'rewards'\u001b[0m\u001b[0;34m:\u001b[0m \u001b[0mreward_dict\u001b[0m\u001b[0;34m,\u001b[0m\u001b[0;34m\u001b[0m\u001b[0;34m\u001b[0m\u001b[0m\n\u001b[1;32m    112\u001b[0m             \u001b[0;34m'score'\u001b[0m\u001b[0;34m:\u001b[0m \u001b[0mscore\u001b[0m\u001b[0;34m,\u001b[0m\u001b[0;34m\u001b[0m\u001b[0;34m\u001b[0m\u001b[0m\n\u001b[0;32m--> 113\u001b[0;31m             \u001b[0;34m'images'\u001b[0m\u001b[0;34m:\u001b[0m \u001b[0mnp\u001b[0m\u001b[0;34m.\u001b[0m\u001b[0masarray\u001b[0m\u001b[0;34m(\u001b[0m\u001b[0mself\u001b[0m\u001b[0;34m.\u001b[0m\u001b[0mrender\u001b[0m\u001b[0;34m(\u001b[0m\u001b[0mmode\u001b[0m\u001b[0;34m=\u001b[0m\u001b[0;34m'rgb_array'\u001b[0m\u001b[0;34m)\u001b[0m\u001b[0;34m)\u001b[0m\u001b[0;34m\u001b[0m\u001b[0;34m\u001b[0m\u001b[0m\n\u001b[0m\u001b[1;32m    114\u001b[0m         }\n\u001b[1;32m    115\u001b[0m         \u001b[0;31m# self.render()\u001b[0m\u001b[0;34m\u001b[0m\u001b[0;34m\u001b[0m\u001b[0;34m\u001b[0m\u001b[0m\n",
      "\u001b[0;32m~/Desktop/AI/learning_from_play/relay-policy-learning/adept_envs/adept_envs/franka/kitchen_multitask_v0.py\u001b[0m in \u001b[0;36mrender\u001b[0;34m(self, mode)\u001b[0m\n\u001b[1;32m    193\u001b[0m             \u001b[0mcamera\u001b[0m \u001b[0;34m=\u001b[0m \u001b[0mengine\u001b[0m\u001b[0;34m.\u001b[0m\u001b[0mMovableCamera\u001b[0m\u001b[0;34m(\u001b[0m\u001b[0mself\u001b[0m\u001b[0;34m.\u001b[0m\u001b[0msim\u001b[0m\u001b[0;34m,\u001b[0m \u001b[0;36m1920\u001b[0m\u001b[0;34m,\u001b[0m \u001b[0;36m2560\u001b[0m\u001b[0;34m)\u001b[0m\u001b[0;34m\u001b[0m\u001b[0;34m\u001b[0m\u001b[0m\n\u001b[1;32m    194\u001b[0m             \u001b[0mcamera\u001b[0m\u001b[0;34m.\u001b[0m\u001b[0mset_pose\u001b[0m\u001b[0;34m(\u001b[0m\u001b[0mdistance\u001b[0m\u001b[0;34m=\u001b[0m\u001b[0;36m2.2\u001b[0m\u001b[0;34m,\u001b[0m \u001b[0mlookat\u001b[0m\u001b[0;34m=\u001b[0m\u001b[0;34m[\u001b[0m\u001b[0;34m-\u001b[0m\u001b[0;36m0.2\u001b[0m\u001b[0;34m,\u001b[0m \u001b[0;36m.5\u001b[0m\u001b[0;34m,\u001b[0m \u001b[0;36m2.\u001b[0m\u001b[0;34m]\u001b[0m\u001b[0;34m,\u001b[0m \u001b[0mazimuth\u001b[0m\u001b[0;34m=\u001b[0m\u001b[0;36m70\u001b[0m\u001b[0;34m,\u001b[0m \u001b[0melevation\u001b[0m\u001b[0;34m=\u001b[0m\u001b[0;34m-\u001b[0m\u001b[0;36m35\u001b[0m\u001b[0;34m)\u001b[0m\u001b[0;34m\u001b[0m\u001b[0;34m\u001b[0m\u001b[0m\n\u001b[0;32m--> 195\u001b[0;31m             \u001b[0mimg\u001b[0m \u001b[0;34m=\u001b[0m \u001b[0mcamera\u001b[0m\u001b[0;34m.\u001b[0m\u001b[0mrender\u001b[0m\u001b[0;34m(\u001b[0m\u001b[0;34m)\u001b[0m\u001b[0;34m\u001b[0m\u001b[0;34m\u001b[0m\u001b[0m\n\u001b[0m\u001b[1;32m    196\u001b[0m             \u001b[0;32mreturn\u001b[0m \u001b[0mimg\u001b[0m\u001b[0;34m\u001b[0m\u001b[0;34m\u001b[0m\u001b[0m\n\u001b[1;32m    197\u001b[0m         \u001b[0;32melse\u001b[0m\u001b[0;34m:\u001b[0m\u001b[0;34m\u001b[0m\u001b[0;34m\u001b[0m\u001b[0m\n",
      "\u001b[0;32m~/anaconda3/lib/python3.7/site-packages/dm_control/mujoco/engine.py\u001b[0m in \u001b[0;36mrender\u001b[0;34m(self, overlays, depth, segmentation, scene_option)\u001b[0m\n\u001b[1;32m    730\u001b[0m     \u001b[0;31m# Render scene and text overlays, read contents of RGB or depth buffer.\u001b[0m\u001b[0;34m\u001b[0m\u001b[0;34m\u001b[0m\u001b[0;34m\u001b[0m\u001b[0m\n\u001b[1;32m    731\u001b[0m     \u001b[0;32mwith\u001b[0m \u001b[0mself\u001b[0m\u001b[0;34m.\u001b[0m\u001b[0m_physics\u001b[0m\u001b[0;34m.\u001b[0m\u001b[0mcontexts\u001b[0m\u001b[0;34m.\u001b[0m\u001b[0mgl\u001b[0m\u001b[0;34m.\u001b[0m\u001b[0mmake_current\u001b[0m\u001b[0;34m(\u001b[0m\u001b[0;34m)\u001b[0m \u001b[0;32mas\u001b[0m \u001b[0mctx\u001b[0m\u001b[0;34m:\u001b[0m\u001b[0;34m\u001b[0m\u001b[0;34m\u001b[0m\u001b[0m\n\u001b[0;32m--> 732\u001b[0;31m       \u001b[0mctx\u001b[0m\u001b[0;34m.\u001b[0m\u001b[0mcall\u001b[0m\u001b[0;34m(\u001b[0m\u001b[0mself\u001b[0m\u001b[0;34m.\u001b[0m\u001b[0m_render_on_gl_thread\u001b[0m\u001b[0;34m,\u001b[0m \u001b[0mdepth\u001b[0m\u001b[0;34m=\u001b[0m\u001b[0mdepth\u001b[0m\u001b[0;34m,\u001b[0m \u001b[0moverlays\u001b[0m\u001b[0;34m=\u001b[0m\u001b[0moverlays\u001b[0m\u001b[0;34m)\u001b[0m\u001b[0;34m\u001b[0m\u001b[0;34m\u001b[0m\u001b[0m\n\u001b[0m\u001b[1;32m    733\u001b[0m \u001b[0;34m\u001b[0m\u001b[0m\n\u001b[1;32m    734\u001b[0m     \u001b[0;32mif\u001b[0m \u001b[0mdepth\u001b[0m\u001b[0;34m:\u001b[0m\u001b[0;34m\u001b[0m\u001b[0;34m\u001b[0m\u001b[0m\n",
      "\u001b[0;32m~/anaconda3/lib/python3.7/site-packages/dm_control/_render/executor/render_executor.py\u001b[0m in \u001b[0;36mcall\u001b[0;34m(self, func, *args, **kwargs)\u001b[0m\n\u001b[1;32m    140\u001b[0m   \u001b[0;32mdef\u001b[0m \u001b[0mcall\u001b[0m\u001b[0;34m(\u001b[0m\u001b[0mself\u001b[0m\u001b[0;34m,\u001b[0m \u001b[0mfunc\u001b[0m\u001b[0;34m,\u001b[0m \u001b[0;34m*\u001b[0m\u001b[0margs\u001b[0m\u001b[0;34m,\u001b[0m \u001b[0;34m**\u001b[0m\u001b[0mkwargs\u001b[0m\u001b[0;34m)\u001b[0m\u001b[0;34m:\u001b[0m\u001b[0;34m\u001b[0m\u001b[0;34m\u001b[0m\u001b[0m\n\u001b[1;32m    141\u001b[0m     \u001b[0mself\u001b[0m\u001b[0;34m.\u001b[0m\u001b[0m_check_locked\u001b[0m\u001b[0;34m(\u001b[0m\u001b[0;34m)\u001b[0m\u001b[0;34m\u001b[0m\u001b[0;34m\u001b[0m\u001b[0m\n\u001b[0;32m--> 142\u001b[0;31m     \u001b[0;32mreturn\u001b[0m \u001b[0mfunc\u001b[0m\u001b[0;34m(\u001b[0m\u001b[0;34m*\u001b[0m\u001b[0margs\u001b[0m\u001b[0;34m,\u001b[0m \u001b[0;34m**\u001b[0m\u001b[0mkwargs\u001b[0m\u001b[0;34m)\u001b[0m\u001b[0;34m\u001b[0m\u001b[0;34m\u001b[0m\u001b[0m\n\u001b[0m\u001b[1;32m    143\u001b[0m \u001b[0;34m\u001b[0m\u001b[0m\n\u001b[1;32m    144\u001b[0m   \u001b[0;32mdef\u001b[0m \u001b[0mterminate\u001b[0m\u001b[0;34m(\u001b[0m\u001b[0mself\u001b[0m\u001b[0;34m,\u001b[0m \u001b[0mcleanup_callable\u001b[0m\u001b[0;34m=\u001b[0m\u001b[0;32mNone\u001b[0m\u001b[0;34m)\u001b[0m\u001b[0;34m:\u001b[0m\u001b[0;34m\u001b[0m\u001b[0;34m\u001b[0m\u001b[0m\n",
      "\u001b[0;32m~/anaconda3/lib/python3.7/site-packages/dm_control/mujoco/engine.py\u001b[0m in \u001b[0;36m_render_on_gl_thread\u001b[0;34m(self, depth, overlays)\u001b[0m\n\u001b[1;32m    680\u001b[0m         \u001b[0mself\u001b[0m\u001b[0;34m.\u001b[0m\u001b[0m_depth_buffer\u001b[0m \u001b[0;32mif\u001b[0m \u001b[0mdepth\u001b[0m \u001b[0;32melse\u001b[0m \u001b[0;32mNone\u001b[0m\u001b[0;34m,\u001b[0m\u001b[0;34m\u001b[0m\u001b[0;34m\u001b[0m\u001b[0m\n\u001b[1;32m    681\u001b[0m         \u001b[0mself\u001b[0m\u001b[0;34m.\u001b[0m\u001b[0m_rect\u001b[0m\u001b[0;34m,\u001b[0m\u001b[0;34m\u001b[0m\u001b[0;34m\u001b[0m\u001b[0m\n\u001b[0;32m--> 682\u001b[0;31m         self._physics.contexts.mujoco.ptr)\n\u001b[0m\u001b[1;32m    683\u001b[0m \u001b[0;34m\u001b[0m\u001b[0m\n\u001b[1;32m    684\u001b[0m   def render(self, overlays=(), depth=False, segmentation=False,\n",
      "\u001b[0;31mKeyboardInterrupt\u001b[0m: "
     ]
    }
   ],
   "source": [
    "t0 = time.time()\n",
    "while(1):\n",
    "    joint_vels = np.zeros(9)\n",
    "    env.step(np.array(joint_vels))\n",
    "    t1 = time.time()\n",
    "    print(t1-t0)\n",
    "    t0=t1\n",
    "    env.render()"
   ]
  },
  {
   "cell_type": "code",
   "execution_count": 11,
   "metadata": {},
   "outputs": [
    {
     "data": {
      "text/plain": [
       "array([[ 1.60000000e-01, -1.76000000e+00,  1.84000000e+00,\n",
       "        -2.51000000e+00,  3.60000000e-01,  7.90000000e-01,\n",
       "         1.55000000e+00,  0.00000000e+00,  0.00000000e+00,\n",
       "         1.25561000e-05,  1.57437000e-07,  1.25561000e-05,\n",
       "         1.57437000e-07,  1.25561000e-05,  1.57437000e-07,\n",
       "         1.25561000e-05,  1.57437000e-07,  8.24417000e-05,\n",
       "         9.48283000e-05,  0.00000000e+00,  0.00000000e+00,\n",
       "         0.00000000e+00,  0.00000000e+00, -2.69000000e-01,\n",
       "         3.50000000e-01,  1.61523000e+00,  9.99999999e-01,\n",
       "         1.34939000e-19, -3.51612000e-05, -7.50168000e-19]])"
      ]
     },
     "execution_count": 11,
     "metadata": {},
     "output_type": "execute_result"
    }
   ],
   "source": [
    "env.env.sim.model.key_qpos"
   ]
  },
  {
   "cell_type": "code",
   "execution_count": 4,
   "metadata": {},
   "outputs": [
    {
     "name": "stdout",
     "output_type": "stream",
     "text": [
      "['b_bottomknob_hinge/kitchen_playdata_2019_07_11_18_06_46.mj', 'b_bottomknob_hinge/kitchen_playdata_2019_07_11_18_05_26.mj', 'b_bottomknob_hinge/kitchen_playdata_2019_07_11_18_05_06.mj', 'b_bottomknob_hinge/kitchen_playdata_2019_07_11_18_02_41.mj', 'b_bottomknob_hinge/kitchen_playdata_2019_07_11_18_04_03.mj', 'b_bottomknob_hinge/kitchen_playdata_2019_07_11_18_04_24.mj', 'b_bottomknob_hinge/kitchen_playdata_2019_07_11_18_01_21.mj', 'b_bottomknob_hinge/kitchen_playdata_2019_07_11_18_02_01.mj', 'b_bottomknob_hinge/kitchen_playdata_2019_07_11_18_01_41.mj', 'b_bottomknob_hinge/kitchen_playdata_2019_07_11_18_03_42.mj', 'b_bottomknob_hinge/kitchen_playdata_2019_07_11_18_07_06.mj', 'b_bottomknob_hinge/kitchen_playdata_2019_07_11_18_03_01.mj', 'b_bottomknob_hinge/kitchen_playdata_2019_07_11_18_04_45.mj', 'b_bottomknob_hinge/kitchen_playdata_2019_07_11_18_07_44.mj', 'b_bottomknob_hinge/kitchen_playdata_2019_07_11_18_02_21.mj', 'b_bottomknob_hinge/kitchen_playdata_2019_07_11_18_06_06.mj', 'b_bottomknob_hinge/kitchen_playdata_2019_07_11_18_03_22.mj', 'b_bottomknob_hinge/kitchen_playdata_2019_07_11_18_05_46.mj', 'b_bottomknob_hinge/kitchen_playdata_2019_07_11_18_06_26.mj', 'b_bottomknob_hinge/kitchen_playdata_2019_07_11_18_01_00.mj', 'wave_bottomknob_switch_slide/kitchen_playdata_2019_06_28_12_39_06.mj', 'wave_bottomknob_switch_slide/kitchen_playdata_2019_06_28_12_36_00.mj', 'wave_bottomknob_switch_slide/kitchen_playdata_2019_06_28_12_34_01.mj', 'wave_bottomknob_switch_slide/kitchen_playdata_2019_06_28_12_39_25.mj', 'wave_bottomknob_switch_slide/kitchen_playdata_2019_06_28_12_41_11.mj', 'wave_bottomknob_switch_slide/kitchen_playdata_2019_06_28_12_36_38.mj', 'wave_bottomknob_switch_slide/kitchen_playdata_2019_06_28_12_37_16.mj', 'wave_bottomknob_switch_slide/kitchen_playdata_2019_06_28_12_37_55.mj', 'wave_bottomknob_switch_slide/kitchen_playdata_2019_06_28_12_31_58.mj', 'wave_bottomknob_switch_slide/kitchen_playdata_2019_06_28_12_33_40.mj', 'wave_bottomknob_switch_slide/kitchen_playdata_2019_06_28_12_32_59.mj', 'wave_bottomknob_switch_slide/kitchen_playdata_2019_06_28_12_38_14.mj', 'wave_bottomknob_switch_slide/kitchen_playdata_2019_06_28_12_34_21.mj', 'wave_bottomknob_switch_slide/kitchen_playdata_2019_06_28_12_32_18.mj', 'wave_bottomknob_switch_slide/kitchen_playdata_2019_06_28_12_36_19.mj', 'wave_bottomknob_switch_slide/kitchen_playdata_2019_06_28_12_31_36.mj', 'wave_bottomknob_switch_slide/kitchen_playdata_2019_06_28_12_40_37.mj', 'wave_bottomknob_switch_slide/kitchen_playdata_2019_06_28_12_40_17.mj', 'wave_bottomknob_switch_slide/kitchen_playdata_2019_06_28_12_37_35.mj', 'wave_bottomknob_switch_slide/kitchen_playdata_2019_06_28_12_34_41.mj', 'wave_bottomknob_switch_slide/kitchen_playdata_2019_06_28_12_32_38.mj', 'wave_bottomknob_switch_slide/kitchen_playdata_2019_06_28_12_33_20.mj', 'wave_bottomknob_switch_slide/kitchen_playdata_2019_06_28_12_35_41.mj', 'wave_bottomknob_switch_slide/kitchen_playdata_2019_06_28_12_35_01.mj', 'wave_bottomknob_switch_slide/kitchen_playdata_2019_06_28_12_38_32.mj', 'wave_bottomknob_switch_slide/kitchen_playdata_2019_06_28_12_35_20.mj', 'wave_bottomknob_switch_slide/kitchen_playdata_2019_06_28_12_36_56.mj', 'wave_bottomknob_switch_slide/kitchen_playdata_2019_06_28_12_39_59.mj', 'wave_bottomknob_switch_slide/kitchen_playdata_2019_06_28_12_39_40.mj', 'wave_kettle_bottomknob_slide/kitchen_playdata_2019_06_28_12_02_31.mj', 'wave_kettle_bottomknob_slide/kitchen_playdata_2019_06_28_11_59_28.mj', 'wave_kettle_bottomknob_slide/kitchen_playdata_2019_06_28_12_03_37.mj', 'wave_kettle_bottomknob_slide/kitchen_playdata_2019_06_28_12_01_01.mj', 'wave_kettle_bottomknob_slide/kitchen_playdata_2019_06_28_12_05_26.mj', 'wave_kettle_bottomknob_slide/kitchen_playdata_2019_06_28_11_58_40.mj', 'wave_kettle_bottomknob_slide/kitchen_playdata_2019_06_28_11_58_16.mj', 'wave_kettle_bottomknob_slide/kitchen_playdata_2019_06_28_12_01_23.mj', 'wave_kettle_bottomknob_slide/kitchen_playdata_2019_06_28_12_06_49.mj', 'wave_kettle_bottomknob_slide/kitchen_playdata_2019_06_28_12_08_37.mj', 'wave_kettle_bottomknob_slide/kitchen_playdata_2019_06_28_11_59_52.mj', 'wave_kettle_bottomknob_slide/kitchen_playdata_2019_06_28_12_00_38.mj', 'wave_kettle_bottomknob_slide/kitchen_playdata_2019_06_28_12_07_11.mj', 'wave_kettle_bottomknob_slide/kitchen_playdata_2019_06_28_12_07_54.mj', 'wave_kettle_bottomknob_slide/kitchen_playdata_2019_06_28_12_01_46.mj', 'wave_kettle_bottomknob_slide/kitchen_playdata_2019_06_28_12_04_43.mj', 'wave_kettle_bottomknob_slide/kitchen_playdata_2019_06_28_12_04_22.mj', 'wave_kettle_bottomknob_slide/kitchen_playdata_2019_06_28_12_03_59.mj', 'wave_kettle_bottomknob_slide/kitchen_playdata_2019_06_28_12_08_59.mj', 'wave_kettle_bottomknob_slide/kitchen_playdata_2019_06_28_12_06_28.mj', 'wave_kettle_bottomknob_slide/kitchen_playdata_2019_06_28_12_08_16.mj', 'wave_kettle_bottomknob_slide/kitchen_playdata_2019_06_28_12_05_49.mj', 'wave_kettle_bottomknob_slide/kitchen_playdata_2019_06_28_12_02_08.mj', 'wave_kettle_bottomknob_slide/kitchen_playdata_2019_06_28_12_02_53.mj', 'wave_kettle_bottomknob_slide/kitchen_playdata_2019_06_28_12_00_15.mj', 'wave_kettle_bottomknob_slide/kitchen_playdata_2019_06_28_11_59_04.mj', 'wave_kettle_bottomknob_slide/kitchen_playdata_2019_06_28_12_05_05.mj', 'wave_kettle_bottomknob_slide/kitchen_playdata_2019_06_28_12_03_15.mj', 'wave_kettle_bottomknob_slide/kitchen_playdata_2019_06_28_12_06_09.mj', 'wave_kettle_bottomknob_slide/postcorl_microwave_topknob_switch_hinge/kitchen_playdata_2019_07_11_11_48_15.mj', 'wave_kettle_topknob_switch/kitchen_playdata_2019_06_28_14_33_49.mj', 'wave_kettle_topknob_switch/kitchen_playdata_2019_06_28_14_35_25.mj', 'wave_kettle_topknob_switch/kitchen_playdata_2019_06_28_14_36_21.mj', 'wave_kettle_topknob_switch/kitchen_playdata_2019_06_28_14_40_27.mj', 'wave_kettle_topknob_switch/kitchen_playdata_2019_06_28_14_38_04.mj', 'wave_kettle_topknob_switch/kitchen_playdata_2019_06_28_14_35_06.mj', 'wave_kettle_topknob_switch/kitchen_playdata_2019_06_28_14_34_08.mj', 'wave_kettle_topknob_switch/kitchen_playdata_2019_06_28_14_33_28.mj', 'wave_kettle_topknob_switch/kitchen_playdata_2019_06_28_14_37_45.mj', 'wave_kettle_topknob_switch/kitchen_playdata_2019_06_28_14_38_23.mj', 'wave_kettle_topknob_switch/kitchen_playdata_2019_06_28_14_40_09.mj', 'wave_kettle_topknob_switch/kitchen_playdata_2019_06_28_14_35_45.mj', 'wave_kettle_topknob_switch/kitchen_playdata_2019_06_28_14_34_48.mj', 'wave_kettle_topknob_switch/kitchen_playdata_2019_06_28_14_36_03.mj', 'wave_kettle_topknob_switch/kitchen_playdata_2019_06_28_14_40_45.mj', 'wave_kettle_topknob_switch/kitchen_playdata_2019_06_28_14_39_34.mj', 'wave_kettle_topknob_switch/kitchen_playdata_2019_06_28_14_39_51.mj', 'wave_kettle_topknob_switch/kitchen_playdata_2019_06_28_14_39_16.mj', 'wave_kettle_topknob_switch/kitchen_playdata_2019_06_28_14_38_58.mj', 'wave_kettle_topknob_switch/kitchen_playdata_2019_06_28_14_38_41.mj', 'wave_kettle_topknob_switch/kitchen_playdata_2019_06_28_14_36_40.mj', 'wave_kettle_topknob_switch/kitchen_playdata_2019_06_28_14_34_28.mj', 'bottomknob_switch_hinge/kitchen_playdata_2019_07_11_11_25_12.mj', 'bottomknob_switch_hinge/kitchen_playdata_2019_07_11_11_30_26.mj', 'bottomknob_switch_hinge/kitchen_playdata_2019_07_11_11_23_22.mj', 'bottomknob_switch_hinge/kitchen_playdata_2019_07_11_11_23_44.mj', 'bottomknob_switch_hinge/kitchen_playdata_2019_07_11_11_24_06.mj', 'bottomknob_switch_hinge/kitchen_playdata_2019_07_11_11_27_34.mj', 'bottomknob_switch_hinge/kitchen_playdata_2019_07_11_11_32_32.mj', 'bottomknob_switch_hinge/kitchen_playdata_2019_07_11_11_24_49.mj', 'bottomknob_switch_hinge/kitchen_playdata_2019_07_11_11_25_57.mj', 'bottomknob_switch_hinge/kitchen_playdata_2019_07_11_11_32_10.mj', 'bottomknob_switch_hinge/kitchen_playdata_2019_07_11_11_26_44.mj', 'bottomknob_switch_hinge/kitchen_playdata_2019_07_11_11_27_07.mj', 'bottomknob_switch_hinge/kitchen_playdata_2019_07_11_11_31_12.mj', 'bottomknob_switch_hinge/kitchen_playdata_2019_07_11_11_33_15.mj', 'bottomknob_switch_hinge/kitchen_playdata_2019_07_11_11_24_27.mj', 'bottomknob_switch_hinge/kitchen_playdata_2019_07_11_11_21_47.mj', 'bottomknob_switch_hinge/kitchen_playdata_2019_07_11_11_33_36.mj', 'bottomknob_switch_hinge/kitchen_playdata_2019_07_11_11_30_49.mj', 'bottomknob_switch_hinge/kitchen_playdata_2019_07_11_11_33_57.mj', 'bottomknob_switch_hinge/kitchen_playdata_2019_07_11_11_32_53.mj', 'bottomknob_switch_hinge/kitchen_playdata_2019_07_11_11_25_35.mj', 'bottomknob_switch_hinge/kitchen_playdata_2019_07_11_11_26_20.mj', 'wave_kettle_bottomknob_hinge/kitchen_playdata_2019_06_28_14_47_46.mj', 'wave_kettle_bottomknob_hinge/kitchen_playdata_2019_06_28_14_53_09.mj', 'wave_kettle_bottomknob_hinge/kitchen_playdata_2019_06_28_14_49_24.mj', 'wave_kettle_bottomknob_hinge/kitchen_playdata_2019_06_28_14_52_29.mj', 'wave_kettle_bottomknob_hinge/kitchen_playdata_2019_06_28_14_48_07.mj', 'wave_kettle_bottomknob_hinge/kitchen_playdata_2019_06_28_14_51_11.mj', 'wave_kettle_bottomknob_hinge/kitchen_playdata_2019_06_28_14_53_28.mj', 'wave_kettle_bottomknob_hinge/kitchen_playdata_2019_06_28_14_48_45.mj', 'wave_kettle_bottomknob_hinge/kitchen_playdata_2019_06_28_14_53_48.mj', 'wave_kettle_bottomknob_hinge/kitchen_playdata_2019_06_28_14_50_26.mj', 'wave_kettle_bottomknob_hinge/kitchen_playdata_2019_06_28_14_52_49.mj', 'wave_kettle_bottomknob_hinge/kitchen_playdata_2019_06_28_14_50_06.mj', 'wave_kettle_bottomknob_hinge/kitchen_playdata_2019_06_28_14_49_44.mj', 'wave_kettle_bottomknob_hinge/kitchen_playdata_2019_06_28_14_51_30.mj', 'wave_kettle_bottomknob_hinge/kitchen_playdata_2019_06_28_14_49_04.mj', 'wave_kettle_bottomknob_hinge/kitchen_playdata_2019_06_28_14_55_03.mj', 'wave_kettle_bottomknob_hinge/kitchen_playdata_2019_06_28_14_47_26.mj', 'wave_kettle_bottomknob_hinge/kitchen_playdata_2019_06_28_14_47_05.mj', 'wave_kettle_bottomknob_hinge/kitchen_playdata_2019_06_28_14_48_26.mj', 'wave_kettle_bottomknob_hinge/kitchen_playdata_2019_06_28_14_54_44.mj', 'wave_kettle_switch_slide/kitchen_playdata_2019_06_28_15_49_59.mj', 'wave_kettle_switch_slide/kitchen_playdata_2019_06_28_15_49_06.mj', 'wave_kettle_switch_slide/kitchen_playdata_2019_06_28_15_46_42.mj', 'wave_kettle_switch_slide/kitchen_playdata_2019_06_28_15_46_24.mj', 'wave_kettle_switch_slide/kitchen_playdata_2019_06_28_15_42_39.mj', 'wave_kettle_switch_slide/kitchen_playdata_2019_06_28_15_43_12.mj', 'wave_kettle_switch_slide/kitchen_playdata_2019_06_28_15_43_29.mj', 'wave_kettle_switch_slide/kitchen_playdata_2019_06_28_15_41_28.mj', 'wave_kettle_switch_slide/kitchen_playdata_2019_06_28_15_42_04.mj', 'wave_kettle_switch_slide/kitchen_playdata_2019_06_28_15_50_16.mj', 'wave_kettle_switch_slide/kitchen_playdata_2019_06_28_15_47_53.mj', 'wave_kettle_switch_slide/kitchen_playdata_2019_06_28_15_42_21.mj', 'wave_kettle_switch_slide/kitchen_playdata_2019_06_28_15_48_12.mj', 'wave_kettle_switch_slide/kitchen_playdata_2019_06_28_15_41_46.mj', 'wave_kettle_switch_slide/kitchen_playdata_2019_06_28_15_42_55.mj', 'wave_kettle_switch_slide/kitchen_playdata_2019_06_28_15_49_41.mj', 'wave_kettle_switch_slide/kitchen_playdata_2019_06_28_15_48_48.mj', 'wave_kettle_switch_slide/kitchen_playdata_2019_06_28_15_49_23.mj', 'wave_kettle_switch_slide/kitchen_playdata_2019_06_28_15_48_29.mj', 'wave_topknob_bottomknob_switch/kitchen_playdata_2019_07_11_13_55_40.mj', 'wave_topknob_bottomknob_switch/kitchen_playdata_2019_07_11_13_51_32.mj', 'wave_topknob_bottomknob_switch/kitchen_playdata_2019_07_11_13_50_09.mj', 'wave_topknob_bottomknob_switch/kitchen_playdata_2019_07_11_13_47_43.mj', 'wave_topknob_bottomknob_switch/kitchen_playdata_2019_07_11_13_48_26.mj', 'wave_topknob_bottomknob_switch/kitchen_playdata_2019_07_11_13_50_30.mj', 'wave_topknob_bottomknob_switch/kitchen_playdata_2019_07_11_13_50_50.mj', 'wave_topknob_bottomknob_switch/kitchen_playdata_2019_07_11_13_48_47.mj', 'wave_topknob_bottomknob_switch/kitchen_playdata_2019_07_11_13_53_35.mj', 'wave_topknob_bottomknob_switch/kitchen_playdata_2019_07_11_13_51_52.mj', 'wave_topknob_bottomknob_switch/kitchen_playdata_2019_07_11_13_52_33.mj', 'wave_topknob_bottomknob_switch/kitchen_playdata_2019_07_11_13_49_48.mj', 'wave_topknob_bottomknob_switch/kitchen_playdata_2019_07_11_13_53_57.mj', 'wave_topknob_bottomknob_switch/kitchen_playdata_2019_07_11_13_51_10.mj', 'wave_topknob_bottomknob_switch/kitchen_playdata_2019_07_11_13_54_40.mj', 'wave_topknob_bottomknob_switch/kitchen_playdata_2019_07_11_13_55_00.mj', 'wave_topknob_bottomknob_switch/kitchen_playdata_2019_07_11_13_52_52.mj', 'wave_topknob_bottomknob_switch/kitchen_playdata_2019_07_11_13_56_00.mj', 'wave_topknob_bottomknob_switch/kitchen_playdata_2019_07_11_13_52_12.mj', 'wave_topknob_bottomknob_switch/kitchen_playdata_2019_07_11_13_55_21.mj', 'wave_topknob_bottomknob_switch/kitchen_playdata_2019_07_11_13_54_18.mj', 'wave_topknob_bottomknob_switch/kitchen_playdata_2019_07_11_13_48_05.mj', 'wave_switch_hinge_slide/kitchen_playdata_2019_07_11_11_08_52.mj', 'wave_switch_hinge_slide/kitchen_playdata_2019_07_11_11_16_18.mj', 'wave_switch_hinge_slide/kitchen_playdata_2019_07_11_11_08_07.mj', 'wave_switch_hinge_slide/kitchen_playdata_2019_07_11_11_10_25.mj', 'wave_switch_hinge_slide/kitchen_playdata_2019_07_11_11_11_59.mj', 'wave_switch_hinge_slide/kitchen_playdata_2019_07_11_11_09_38.mj', 'wave_switch_hinge_slide/kitchen_playdata_2019_07_11_11_10_01.mj', 'wave_switch_hinge_slide/kitchen_playdata_2019_07_11_11_12_22.mj', 'wave_switch_hinge_slide/kitchen_playdata_2019_07_11_11_18_11.mj', 'wave_switch_hinge_slide/kitchen_playdata_2019_07_11_11_11_11.mj', 'wave_switch_hinge_slide/kitchen_playdata_2019_07_11_11_08_29.mj', 'wave_switch_hinge_slide/kitchen_playdata_2019_07_11_11_16_41.mj', 'wave_switch_hinge_slide/kitchen_playdata_2019_07_11_11_11_35.mj', 'wave_switch_hinge_slide/kitchen_playdata_2019_07_11_11_17_48.mj', 'wave_switch_hinge_slide/kitchen_playdata_2019_07_11_11_07_28.mj', 'wave_switch_hinge_slide/kitchen_playdata_2019_07_11_11_14_41.mj', 'wave_switch_hinge_slide/kitchen_playdata_2019_07_11_11_10_48.mj', 'wave_switch_hinge_slide/kitchen_playdata_2019_07_11_11_09_15.mj', 'wave_switch_hinge_slide/kitchen_playdata_2019_07_11_11_13_05.mj', 'wave_switch_hinge_slide/kitchen_playdata_2019_07_11_11_14_17.mj', 'wave_switch_hinge_slide/kitchen_playdata_2019_07_11_11_18_34.mj', 'wave_topknob_switch_hinge/kitchen_playdata_2019_07_11_11_48_36.mj', 'wave_topknob_switch_hinge/kitchen_playdata_2019_07_11_11_51_58.mj', 'wave_topknob_switch_hinge/kitchen_playdata_2019_07_11_11_50_53.mj', 'wave_topknob_switch_hinge/kitchen_playdata_2019_07_11_11_48_57.mj', 'wave_topknob_switch_hinge/kitchen_playdata_2019_07_11_11_49_48.mj', 'wave_topknob_switch_hinge/kitchen_playdata_2019_07_11_11_53_15.mj', 'wave_topknob_switch_hinge/kitchen_playdata_2019_07_11_11_51_37.mj', 'wave_topknob_switch_hinge/kitchen_playdata_2019_07_11_11_52_19.mj', 'wave_topknob_switch_hinge/kitchen_playdata_2019_07_11_11_53_56.mj', 'wave_topknob_switch_hinge/kitchen_playdata_2019_07_11_11_56_01.mj', 'wave_topknob_switch_hinge/kitchen_playdata_2019_07_11_11_53_35.mj', 'wave_topknob_switch_hinge/kitchen_playdata_2019_07_11_11_54_18.mj', 'wave_topknob_switch_hinge/kitchen_playdata_2019_07_11_11_55_21.mj', 'wave_topknob_switch_hinge/kitchen_playdata_2019_07_11_11_50_10.mj', 'wave_topknob_switch_hinge/kitchen_playdata_2019_07_11_11_48_15.mj', 'wave_topknob_switch_hinge/kitchen_playdata_2019_07_11_11_52_39.mj', 'wave_topknob_switch_hinge/kitchen_playdata_2019_07_11_11_50_31.mj', 'wave_topknob_switch_hinge/kitchen_playdata_2019_07_11_11_55_42.mj', 'wave_topknob_switch_hinge/kitchen_playdata_2019_07_11_11_49_19.mj', 'wave_topknob_switch_hinge/kitchen_playdata_2019_07_11_11_51_15.mj', 'wave_topknob_switch_hinge/kitchen_playdata_2019_07_11_11_56_22.mj', 'wave_topknob_bottomknob_hinge/kitchen_playdata_2019_06_28_11_39_24.mj', 'wave_topknob_bottomknob_hinge/kitchen_playdata_2019_06_28_11_45_39.mj', 'wave_topknob_bottomknob_hinge/kitchen_playdata_2019_06_28_11_42_23.mj', 'wave_topknob_bottomknob_hinge/kitchen_playdata_2019_06_28_11_50_17.mj', 'wave_topknob_bottomknob_hinge/kitchen_playdata_2019_06_28_11_45_18.mj', 'wave_topknob_bottomknob_hinge/kitchen_playdata_2019_06_28_11_52_02.mj', 'wave_topknob_bottomknob_hinge/kitchen_playdata_2019_06_28_11_44_56.mj', 'wave_topknob_bottomknob_hinge/kitchen_playdata_2019_06_28_11_43_28.mj', 'wave_topknob_bottomknob_hinge/kitchen_playdata_2019_06_28_11_51_19.mj', 'wave_topknob_bottomknob_hinge/kitchen_playdata_2019_06_28_11_42_01.mj', 'wave_topknob_bottomknob_hinge/kitchen_playdata_2019_06_28_11_44_34.mj', 'wave_topknob_bottomknob_hinge/kitchen_playdata_2019_06_28_11_39_48.mj', 'wave_topknob_bottomknob_hinge/kitchen_playdata_2019_06_28_11_50_58.mj', 'wave_topknob_bottomknob_hinge/kitchen_playdata_2019_06_28_11_40_35.mj', 'wave_topknob_bottomknob_hinge/kitchen_playdata_2019_06_28_11_51_41.mj', 'wave_topknob_bottomknob_hinge/kitchen_playdata_2019_06_28_11_50_37.mj', 'wave_topknob_bottomknob_hinge/kitchen_playdata_2019_06_28_11_44_11.mj', 'wave_topknob_bottomknob_hinge/kitchen_playdata_2019_06_28_11_52_44.mj', 'wave_topknob_bottomknob_hinge/kitchen_playdata_2019_06_28_11_43_06.mj', 'wave_topknob_bottomknob_hinge/kitchen_playdata_2019_06_28_11_41_40.mj', 'wave_topknob_bottomknob_hinge/kitchen_playdata_2019_06_28_11_42_44.mj', 'wave_topknob_bottomknob_hinge/kitchen_playdata_2019_06_28_11_49_55.mj', 'wave_topknob_bottomknob_hinge/kitchen_playdata_2019_06_28_11_43_49.mj', 'wave_topknob_bottomknob_hinge/kitchen_playdata_2019_06_28_11_49_10.mj', 'wave_topknob_bottomknob_hinge/kitchen_playdata_2019_06_28_11_41_17.mj', 'wave_topknob_bottomknob_hinge/kitchen_playdata_2019_06_28_11_48_10.mj', 'wave_topknob_bottomknob_hinge/kitchen_playdata_2019_06_28_11_48_49.mj', 'wave_topknob_bottomknob_hinge/kitchen_playdata_2019_06_28_11_49_33.mj', 'wave_topknob_bottomknob_hinge/kitchen_playdata_2019_06_28_11_40_56.mj', 'wave_topknob_bottomknob_hinge/kitchen_playdata_2019_06_28_11_40_11.mj', 'wave_topknob_bottomknob_hinge/kitchen_playdata_2019_06_28_11_52_23.mj', 'bottomknob_switch_slide/kitchen_playdata_2019_06_28_13_21_13.mj', 'bottomknob_switch_slide/kitchen_playdata_2019_06_28_13_26_58.mj', 'bottomknob_switch_slide/kitchen_playdata_2019_06_28_13_22_36.mj', 'bottomknob_switch_slide/kitchen_playdata_2019_06_28_13_21_55.mj', 'bottomknob_switch_slide/kitchen_playdata_2019_06_28_13_22_57.mj', 'bottomknob_switch_slide/kitchen_playdata_2019_06_28_13_23_58.mj', 'bottomknob_switch_slide/kitchen_playdata_2019_06_28_13_28_14.mj', 'bottomknob_switch_slide/kitchen_playdata_2019_06_28_13_23_38.mj', 'bottomknob_switch_slide/kitchen_playdata_2019_06_28_13_29_11.mj', 'bottomknob_switch_slide/kitchen_playdata_2019_06_28_13_27_55.mj', 'bottomknob_switch_slide/kitchen_playdata_2019_06_28_13_24_40.mj', 'bottomknob_switch_slide/kitchen_playdata_2019_06_28_13_26_40.mj', 'bottomknob_switch_slide/kitchen_playdata_2019_06_28_13_23_16.mj', 'bottomknob_switch_slide/kitchen_playdata_2019_06_28_13_20_52.mj', 'bottomknob_switch_slide/kitchen_playdata_2019_06_28_13_21_34.mj', 'bottomknob_switch_slide/kitchen_playdata_2019_06_28_13_20_31.mj', 'bottomknob_switch_slide/kitchen_playdata_2019_06_28_13_28_34.mj', 'bottomknob_switch_slide/kitchen_playdata_2019_06_28_13_24_20.mj', 'bottomknob_switch_slide/kitchen_playdata_2019_06_28_13_26_01.mj', 'bottomknob_switch_slide/kitchen_playdata_2019_06_28_13_27_36.mj', 'bottomknob_switch_slide/kitchen_playdata_2019_06_28_13_25_01.mj', 'bottomknob_switch_slide/kitchen_playdata_2019_06_28_13_22_16.mj', 'bottomknob_switch_slide/kitchen_playdata_2019_06_28_13_26_21.mj', 'bottomknob_switch_slide/kitchen_playdata_2019_06_28_13_25_21.mj', 'bottomknob_switch_slide/kitchen_playdata_2019_06_28_13_25_41.mj', 'bottomknob_switch_slide/kitchen_playdata_2019_06_28_13_28_52.mj', 'bottomknob_switch_slide/kitchen_playdata_2019_06_28_13_27_17.mj', 'wave_kettle_topknob_hinge/kitchen_playdata_2019_06_28_14_59_01.mj', 'wave_kettle_topknob_hinge/kitchen_playdata_2019_06_28_14_58_42.mj', 'wave_kettle_topknob_hinge/kitchen_playdata_2019_06_28_14_57_43.mj', 'wave_kettle_topknob_hinge/kitchen_playdata_2019_06_28_15_08_46.mj', 'wave_kettle_topknob_hinge/kitchen_playdata_2019_06_28_15_05_49.mj', 'wave_kettle_topknob_hinge/kitchen_playdata_2019_06_28_14_58_23.mj', 'wave_kettle_topknob_hinge/kitchen_playdata_2019_06_28_15_06_27.mj', 'wave_kettle_topknob_hinge/kitchen_playdata_2019_06_28_15_08_10.mj', 'wave_kettle_topknob_hinge/kitchen_playdata_2019_06_28_14_57_24.mj', 'wave_kettle_topknob_hinge/kitchen_playdata_2019_06_28_15_07_21.mj', 'wave_kettle_topknob_hinge/kitchen_playdata_2019_06_28_14_58_03.mj', 'wave_kettle_topknob_hinge/kitchen_playdata_2019_06_28_15_08_28.mj', 'wave_kettle_topknob_hinge/kitchen_playdata_2019_06_28_15_07_02.mj', 'wave_kettle_topknob_hinge/kitchen_playdata_2019_06_28_15_06_44.mj', 'wave_kettle_topknob_hinge/kitchen_playdata_2019_06_28_15_05_17.mj', 'wave_kettle_topknob_hinge/kitchen_playdata_2019_06_28_15_06_08.mj', 'wave_kettle_topknob_hinge/kitchen_playdata_2019_06_28_15_09_04.mj', 'wave_kettle_topknob_hinge/kitchen_playdata_2019_06_28_15_09_21.mj', 'wave_kettle_topknob_hinge/kitchen_playdata_2019_06_28_14_57_06.mj', 'wave_kettle_topknob_hinge/kitchen_playdata_2019_06_28_15_07_39.mj', 'wave_topknob_bottomknob_slide/kitchen_playdata_2019_06_28_14_25_31.mj', 'wave_topknob_bottomknob_slide/kitchen_playdata_2019_06_28_14_22_53.mj', 'wave_topknob_bottomknob_slide/kitchen_playdata_2019_06_28_14_27_31.mj', 'wave_topknob_bottomknob_slide/kitchen_playdata_2019_06_28_14_24_25.mj', 'wave_topknob_bottomknob_slide/kitchen_playdata_2019_06_28_14_24_52.mj', 'wave_topknob_bottomknob_slide/kitchen_playdata_2019_06_28_14_28_26.mj', 'wave_topknob_bottomknob_slide/kitchen_playdata_2019_06_28_14_23_31.mj', 'wave_topknob_bottomknob_slide/kitchen_playdata_2019_06_28_14_28_44.mj', 'wave_topknob_bottomknob_slide/kitchen_playdata_2019_06_28_14_23_49.mj', 'wave_topknob_bottomknob_slide/kitchen_playdata_2019_06_28_14_26_08.mj', 'wave_topknob_bottomknob_slide/kitchen_playdata_2019_06_28_14_24_07.mj', 'wave_topknob_bottomknob_slide/kitchen_playdata_2019_06_28_14_25_11.mj', 'wave_topknob_bottomknob_slide/kitchen_playdata_2019_06_28_14_29_38.mj', 'wave_topknob_bottomknob_slide/kitchen_playdata_2019_06_28_14_26_43.mj', 'wave_topknob_bottomknob_slide/kitchen_playdata_2019_06_28_14_29_19.mj', 'wave_topknob_bottomknob_slide/kitchen_playdata_2019_06_28_14_29_01.mj', 'wave_topknob_bottomknob_slide/kitchen_playdata_2019_06_28_14_23_13.mj', 'wave_topknob_bottomknob_slide/kitchen_playdata_2019_06_28_14_25_50.mj', 'wave_topknob_bottomknob_slide/kitchen_playdata_2019_06_28_14_26_26.mj', 'wave_topknob_bottomknob_slide/kitchen_playdata_2019_06_28_14_27_50.mj', 'wave_topknob_bottomknob_slide/kitchen_playdata_2019_06_28_14_28_08.mj', 'wave_bottomknob_switch_slide/kitchen_playdata_2019_07_11_13_43_00(1).mj', 'wave_bottomknob_switch_slide/kitchen_playdata_2019_07_11_13_39_33(1).mj', 'wave_bottomknob_switch_slide/kitchen_playdata_2019_07_11_13_43_00.mj', 'wave_bottomknob_switch_slide/kitchen_playdata_2019_07_11_13_39_12(1).mj', 'wave_bottomknob_switch_slide/kitchen_playdata_2019_07_11_13_41_37(1).mj', 'wave_bottomknob_switch_slide/kitchen_playdata_2019_07_11_13_39_54.mj', 'wave_bottomknob_switch_slide/kitchen_playdata_2019_07_11_13_38_52(1).mj', 'wave_bottomknob_switch_slide/kitchen_playdata_2019_07_11_13_43_21.mj', 'wave_bottomknob_switch_slide/kitchen_playdata_2019_07_11_13_40_36(1).mj', 'wave_bottomknob_switch_slide/kitchen_playdata_2019_07_11_13_40_15(1).mj', 'wave_bottomknob_switch_slide/kitchen_playdata_2019_07_11_13_43_42.mj', 'wave_bottomknob_switch_slide/kitchen_playdata_2019_07_11_13_32_19(1).mj', 'wave_bottomknob_switch_slide/kitchen_playdata_2019_07_11_13_39_12.mj', 'wave_bottomknob_switch_slide/kitchen_playdata_2019_07_11_13_40_15.mj', 'wave_bottomknob_switch_slide/kitchen_playdata_2019_07_11_13_40_56(1).mj', 'wave_bottomknob_switch_slide/kitchen_playdata_2019_07_11_13_32_19.mj', 'wave_bottomknob_switch_slide/kitchen_playdata_2019_07_11_13_44_01(1).mj', 'wave_bottomknob_switch_slide/kitchen_playdata_2019_07_11_13_38_11(1).mj', 'wave_bottomknob_switch_slide/kitchen_playdata_2019_07_11_13_42_00.mj', 'wave_bottomknob_switch_slide/kitchen_playdata_2019_07_11_13_38_31(1).mj', 'wave_bottomknob_switch_slide/kitchen_playdata_2019_07_11_13_38_52.mj', 'wave_bottomknob_switch_slide/kitchen_playdata_2019_07_11_13_40_56.mj', 'wave_bottomknob_switch_slide/kitchen_playdata_2019_07_11_13_41_37.mj', 'wave_bottomknob_switch_slide/kitchen_playdata_2019_07_11_13_39_54(1).mj', 'wave_bottomknob_switch_slide/kitchen_playdata_2019_07_11_13_38_11.mj', 'wave_bottomknob_switch_slide/kitchen_playdata_2019_07_11_13_37_49(1).mj', 'wave_bottomknob_switch_slide/kitchen_playdata_2019_07_11_13_34_20(1).mj', 'wave_bottomknob_switch_slide/kitchen_playdata_2019_07_11_13_42_20(1).mj', 'wave_bottomknob_switch_slide/kitchen_playdata_2019_07_11_13_44_01.mj', 'wave_bottomknob_switch_slide/kitchen_playdata_2019_07_11_13_38_31.mj', 'wave_bottomknob_switch_slide/kitchen_playdata_2019_07_11_13_42_00(1).mj', 'wave_bottomknob_switch_slide/kitchen_playdata_2019_07_11_13_43_21(1).mj', 'wave_bottomknob_switch_slide/kitchen_playdata_2019_07_11_13_42_20.mj', 'wave_bottomknob_switch_slide/kitchen_playdata_2019_07_11_13_41_17(1).mj', 'wave_bottomknob_switch_slide/kitchen_playdata_2019_07_11_13_37_49.mj', 'wave_bottomknob_switch_slide/kitchen_playdata_2019_07_11_13_42_40.mj', 'wave_bottomknob_switch_slide/kitchen_playdata_2019_07_11_13_39_33.mj', 'wave_bottomknob_switch_slide/kitchen_playdata_2019_07_11_13_42_40(1).mj', 'wave_bottomknob_switch_slide/kitchen_playdata_2019_07_11_13_34_20.mj', 'wave_bottomknob_switch_slide/kitchen_playdata_2019_07_11_13_43_42(1).mj', 'wave_bottomknob_switch_slide/kitchen_playdata_2019_07_11_13_41_17.mj', 'wave_bottomknob_switch_slide/kitchen_playdata_2019_07_11_13_40_36.mj', 'bottomknob_hinge_slide/kitchen_playdata_2019_06_28_13_46_47.mj', 'bottomknob_hinge_slide/kitchen_playdata_2019_06_28_13_37_22.mj', 'bottomknob_hinge_slide/kitchen_playdata_2019_06_28_13_38_07.mj', 'bottomknob_hinge_slide/kitchen_playdata_2019_06_28_13_38_51.mj', 'bottomknob_hinge_slide/kitchen_playdata_2019_06_28_13_41_36.mj', 'bottomknob_hinge_slide/kitchen_playdata_2019_06_28_13_44_18.mj', 'bottomknob_hinge_slide/kitchen_playdata_2019_06_28_13_35_25.mj', 'bottomknob_hinge_slide/kitchen_playdata_2019_06_28_13_36_58.mj', 'bottomknob_hinge_slide/kitchen_playdata_2019_06_28_13_37_45.mj', 'bottomknob_hinge_slide/kitchen_playdata_2019_06_28_13_35_48.mj', 'bottomknob_hinge_slide/kitchen_playdata_2019_06_28_13_46_25.mj', 'bottomknob_hinge_slide/kitchen_playdata_2019_06_28_13_44_40.mj', 'bottomknob_hinge_slide/kitchen_playdata_2019_06_28_13_43_32.mj', 'bottomknob_hinge_slide/kitchen_playdata_2019_06_28_13_42_17.mj', 'bottomknob_hinge_slide/kitchen_playdata_2019_06_28_13_46_02.mj', 'bottomknob_hinge_slide/kitchen_playdata_2019_06_28_13_43_11.mj', 'bottomknob_hinge_slide/kitchen_playdata_2019_06_28_13_41_15.mj', 'bottomknob_hinge_slide/kitchen_playdata_2019_06_28_13_45_01.mj', 'bottomknob_hinge_slide/kitchen_playdata_2019_06_28_13_43_55.mj', 'bottomknob_hinge_slide/kitchen_playdata_2019_06_28_13_42_38.mj', 'bottomknob_hinge_slide/kitchen_playdata_2019_06_28_13_45_23.mj', 'bottomknob_hinge_slide/kitchen_playdata_2019_06_28_13_35_02.mj', 'bottomknob_hinge_slide/kitchen_playdata_2019_06_28_13_36_36.mj', 'bottomknob_hinge_slide/kitchen_playdata_2019_06_28_13_38_29.mj', 'bottomknob_hinge_slide/kitchen_playdata_2019_06_28_13_41_57.mj', 'bottomknob_hinge_slide/kitchen_playdata_2019_06_28_13_36_12.mj', 'wave_bottomknob_hinge_slide/kitchen_playdata_2019_06_28_12_23_52.mj', 'wave_bottomknob_hinge_slide/kitchen_playdata_2019_06_28_12_12_48.mj', 'wave_bottomknob_hinge_slide/kitchen_playdata_2019_06_28_12_11_38.mj', 'wave_bottomknob_hinge_slide/kitchen_playdata_2019_06_28_12_12_01.mj', 'wave_bottomknob_hinge_slide/kitchen_playdata_2019_06_28_12_13_11.mj', 'wave_bottomknob_hinge_slide/kitchen_playdata_2019_06_28_12_21_37.mj', 'wave_bottomknob_hinge_slide/kitchen_playdata_2019_06_28_12_17_49.mj', 'wave_bottomknob_hinge_slide/kitchen_playdata_2019_06_28_12_23_05.mj', 'wave_bottomknob_hinge_slide/kitchen_playdata_2019_06_28_12_22_20.mj', 'wave_bottomknob_hinge_slide/kitchen_playdata_2019_06_28_12_14_14.mj', 'wave_bottomknob_hinge_slide/kitchen_playdata_2019_06_28_12_14_35.mj', 'wave_bottomknob_hinge_slide/kitchen_playdata_2019_06_28_12_18_33.mj', 'wave_bottomknob_hinge_slide/kitchen_playdata_2019_06_28_12_19_48.mj', 'wave_bottomknob_hinge_slide/kitchen_playdata_2019_06_28_12_13_53.mj', 'wave_bottomknob_hinge_slide/kitchen_playdata_2019_06_28_12_24_43.mj', 'wave_bottomknob_hinge_slide/kitchen_playdata_2019_06_28_12_12_25.mj', 'wave_bottomknob_hinge_slide/kitchen_playdata_2019_06_28_12_24_13.mj', 'wave_bottomknob_hinge_slide/kitchen_playdata_2019_06_28_12_21_58.mj', 'wave_bottomknob_hinge_slide/kitchen_playdata_2019_06_28_12_18_55.mj', 'wave_bottomknob_hinge_slide/kitchen_playdata_2019_06_28_12_19_27.mj', 'wave_bottomknob_hinge_slide/kitchen_playdata_2019_06_28_12_18_11.mj', 'wave_bottomknob_hinge_slide/kitchen_playdata_2019_06_28_12_20_11.mj', 'wave_bottomknob_hinge_slide/kitchen_playdata_2019_06_28_12_22_43.mj', 'wave_bottomknob_hinge_slide/kitchen_playdata_2019_06_28_12_20_33.mj', 'wave_bottomknob_hinge_slide/kitchen_playdata_2019_06_28_12_20_54.mj', 'wave_bottomknob_hinge_slide/kitchen_playdata_2019_06_28_12_21_17.mj', 'wave_bottomknob_hinge_slide/kitchen_playdata_2019_06_28_12_11_15.mj', 'wave_bottomknob_hinge_slide/kitchen_playdata_2019_06_28_12_13_32.mj', 'b_switch_slide/kitchen_playdata_2019_06_28_15_13_16.mj', 'b_switch_slide/kitchen_playdata_2019_06_28_15_14_23.mj', 'b_switch_slide/kitchen_playdata_2019_06_28_15_15_13.mj', 'b_switch_slide/kitchen_playdata_2019_06_28_15_14_39.mj', 'b_switch_slide/kitchen_playdata_2019_06_28_15_14_55.mj', 'b_switch_slide/kitchen_playdata_2019_06_28_15_13_33.mj', 'b_switch_slide/kitchen_playdata_2019_06_28_15_16_06.mj', 'b_switch_slide/kitchen_playdata_2019_06_28_15_16_44.mj', 'b_switch_slide/kitchen_playdata_2019_06_28_15_14_06.mj', 'b_switch_slide/kitchen_playdata_2019_06_28_15_15_31.mj', 'b_switch_slide/kitchen_playdata_2019_06_28_15_13_49.mj', 'b_switch_slide/kitchen_playdata_2019_06_28_15_12_22.mj', 'b_switch_slide/kitchen_playdata_2019_06_28_15_15_48.mj', 'b_switch_slide/kitchen_playdata_2019_06_28_15_17_53.mj', 'b_switch_slide/kitchen_playdata_2019_06_28_15_17_18.mj', 'b_switch_slide/kitchen_playdata_2019_06_28_15_17_35.mj', 'b_switch_slide/kitchen_playdata_2019_06_28_15_12_59.mj', 'b_switch_slide/kitchen_playdata_2019_06_28_15_12_41.mj', 'b_switch_slide/kitchen_playdata_2019_06_28_15_17_00.mj', 'b_bottomknob_hinge_slide/kitchen_playdata_2019_06_28_10_18_40.mj', 'b_bottomknob_hinge_slide/kitchen_playdata_2019_06_28_10_28_28.mj', 'b_bottomknob_hinge_slide/kitchen_playdata_2019_06_28_10_21_02.mj', 'b_bottomknob_hinge_slide/kitchen_playdata_2019_06_28_10_27_34.mj', 'b_bottomknob_hinge_slide/kitchen_playdata_2019_06_28_10_17_50.mj', 'b_bottomknob_hinge_slide/kitchen_playdata_2019_06_28_10_26_20.mj', 'b_bottomknob_hinge_slide/kitchen_playdata_2019_06_28_10_20_16.mj', 'b_bottomknob_hinge_slide/kitchen_playdata_2019_06_28_10_14_36.mj', 'b_bottomknob_hinge_slide/kitchen_playdata_2019_06_28_10_27_05.mj', 'b_bottomknob_hinge_slide/kitchen_playdata_2019_06_28_10_15_29.mj', 'b_bottomknob_hinge_slide/kitchen_playdata_2019_06_28_10_16_18.mj', 'b_bottomknob_hinge_slide/kitchen_playdata_2019_06_28_10_21_49.mj', 'b_bottomknob_hinge_slide/kitchen_playdata_2019_06_28_10_13_47.mj', 'b_bottomknob_hinge_slide/kitchen_playdata_2019_06_28_10_17_05.mj', 'b_bottomknob_hinge_slide/kitchen_playdata_2019_06_28_10_19_28.mj', 'b_bottomknob_hinge_slide/kitchen_playdata_2019_06_28_10_14_11.mj', 'b_bottomknob_hinge_slide/kitchen_playdata_2019_06_28_10_17_28.mj', 'b_bottomknob_hinge_slide/kitchen_playdata_2019_06_28_10_28_50.mj', 'b_bottomknob_hinge_slide/kitchen_playdata_2019_06_28_10_19_53.mj', 'b_bottomknob_hinge_slide/kitchen_playdata_2019_06_28_10_15_54.mj', 'b_bottomknob_hinge_slide/kitchen_playdata_2019_06_28_10_19_05.mj', 'b_bottomknob_hinge_slide/kitchen_playdata_2019_06_28_10_29_38.mj', 'b_bottomknob_hinge_slide/kitchen_playdata_2019_06_28_10_26_43.mj', 'b_bottomknob_hinge_slide/kitchen_playdata_2019_06_28_10_15_01.mj', 'b_bottomknob_hinge_slide/kitchen_playdata_2019_06_28_10_16_43.mj', 'b_bottomknob_hinge_slide/kitchen_playdata_2019_06_28_10_12_51.mj', 'b_bottomknob_hinge_slide/kitchen_playdata_2019_06_28_10_28_07.mj', 'b_bottomknob_hinge_slide/kitchen_playdata_2019_06_28_10_13_13.mj', 'b_bottomknob_hinge_slide/kitchen_playdata_2019_06_28_10_21_24.mj', 'b_bottomknob_hinge_slide/kitchen_playdata_2019_06_28_10_20_39.mj', 'b_bottomknob_hinge_slide/postcorl_microwave_bottomknob_switch_slide/kitchen_playdata_2019_07_11_13_32_19.mj', 'b_bottomknob_hinge_slide/postcorl_microwave_bottomknob_switch_slide/kitchen_playdata_2019_07_11_13_34_20.mj', 'witch_hinge_slide/kitchen_playdata_2019_06_28_15_29_02.mj', 'witch_hinge_slide/kitchen_playdata_2019_06_28_15_24_31.mj', 'witch_hinge_slide/kitchen_playdata_2019_06_28_15_29_22.mj', 'witch_hinge_slide/kitchen_playdata_2019_06_28_15_30_38.mj', 'witch_hinge_slide/kitchen_playdata_2019_06_28_15_26_42.mj', 'witch_hinge_slide/kitchen_playdata_2019_06_28_15_30_01.mj', 'witch_hinge_slide/kitchen_playdata_2019_06_28_15_30_57.mj', 'witch_hinge_slide/kitchen_playdata_2019_06_28_15_23_31.mj', 'witch_hinge_slide/kitchen_playdata_2019_06_28_15_32_01.mj', 'witch_hinge_slide/kitchen_playdata_2019_06_28_15_25_28.mj', 'witch_hinge_slide/kitchen_playdata_2019_06_28_15_26_23.mj', 'witch_hinge_slide/kitchen_playdata_2019_06_28_15_26_05.mj', 'witch_hinge_slide/kitchen_playdata_2019_06_28_15_24_50.mj', 'witch_hinge_slide/kitchen_playdata_2019_06_28_15_25_46.mj', 'witch_hinge_slide/kitchen_playdata_2019_06_28_15_24_11.mj', 'witch_hinge_slide/kitchen_playdata_2019_06_28_15_30_20.mj', 'witch_hinge_slide/kitchen_playdata_2019_06_28_15_29_42.mj', 'witch_hinge_slide/kitchen_playdata_2019_06_28_15_25_09.mj', 'witch_hinge_slide/kitchen_playdata_2019_06_28_15_31_16.mj', 'witch_hinge_slide/kitchen_playdata_2019_06_28_15_23_52.mj', 'b_bottomknob_switch/kitchen_playdata_2019_07_11_17_46_04.mj', 'b_bottomknob_switch/kitchen_playdata_2019_07_11_17_46_41.mj', 'b_bottomknob_switch/kitchen_playdata_2019_07_11_17_47_38.mj', 'b_bottomknob_switch/kitchen_playdata_2019_07_11_17_44_47.mj', 'b_bottomknob_switch/kitchen_playdata_2019_07_11_17_34_33.mj', 'b_bottomknob_switch/kitchen_playdata_2019_07_11_17_48_36.mj', 'b_bottomknob_switch/kitchen_playdata_2019_07_11_17_32_52.mj', 'b_bottomknob_switch/kitchen_playdata_2019_07_11_17_47_20.mj', 'b_bottomknob_switch/kitchen_playdata_2019_07_11_17_45_07.mj', 'b_bottomknob_switch/kitchen_playdata_2019_07_11_17_33_30.mj', 'b_bottomknob_switch/kitchen_playdata_2019_07_11_17_32_35.mj', 'b_bottomknob_switch/kitchen_playdata_2019_07_11_17_32_16.mj', 'b_bottomknob_switch/kitchen_playdata_2019_07_11_17_33_10.mj', 'b_bottomknob_switch/kitchen_playdata_2019_07_11_17_44_27.mj', 'b_bottomknob_switch/kitchen_playdata_2019_07_11_17_44_07.mj', 'b_bottomknob_switch/kitchen_playdata_2019_07_11_17_47_01.mj', 'b_bottomknob_switch/kitchen_playdata_2019_07_11_17_46_23.mj', 'b_bottomknob_switch/kitchen_playdata_2019_07_11_17_45_46.mj', 'b_bottomknob_switch/kitchen_playdata_2019_07_11_17_45_26.mj', 'b_bottomknob_switch/kitchen_playdata_2019_07_11_17_47_57.mj', 'wave_kettle_hinge_slide/kitchen_playdata_2019_06_28_13_56_32.mj', 'wave_kettle_hinge_slide/kitchen_playdata_2019_06_28_14_00_05.mj', 'wave_kettle_hinge_slide/kitchen_playdata_2019_06_28_13_55_20.mj', 'wave_kettle_hinge_slide/kitchen_playdata_2019_06_28_13_55_45.mj', 'wave_kettle_hinge_slide/kitchen_playdata_2019_06_28_13_59_43.mj', 'wave_kettle_hinge_slide/kitchen_playdata_2019_06_28_13_50_03.mj', 'wave_kettle_hinge_slide/kitchen_playdata_2019_06_28_13_57_40.mj', 'wave_kettle_hinge_slide/kitchen_playdata_2019_06_28_13_51_35.mj', 'wave_kettle_hinge_slide/kitchen_playdata_2019_06_28_13_50_26.mj', 'wave_kettle_hinge_slide/kitchen_playdata_2019_06_28_14_01_13.mj', 'wave_kettle_hinge_slide/kitchen_playdata_2019_06_28_13_58_03.mj', 'wave_kettle_hinge_slide/kitchen_playdata_2019_06_28_13_59_20.mj', 'wave_kettle_hinge_slide/kitchen_playdata_2019_06_28_14_00_51.mj', 'wave_kettle_hinge_slide/kitchen_playdata_2019_06_28_13_56_56.mj', 'wave_kettle_hinge_slide/kitchen_playdata_2019_06_28_13_54_11.mj', 'wave_kettle_hinge_slide/kitchen_playdata_2019_06_28_13_58_26.mj', 'wave_kettle_hinge_slide/kitchen_playdata_2019_06_28_13_50_49.mj', 'wave_kettle_hinge_slide/kitchen_playdata_2019_06_28_13_49_38.mj', 'wave_kettle_hinge_slide/kitchen_playdata_2019_06_28_14_00_27.mj', 'wave_kettle_hinge_slide/kitchen_playdata_2019_06_28_13_54_34.mj', 'wave_kettle_hinge_slide/kitchen_playdata_2019_06_28_13_54_56.mj', 'wave_kettle_hinge_slide/kitchen_playdata_2019_06_28_13_57_19.mj', 'wave_kettle_hinge_slide/kitchen_playdata_2019_06_28_13_56_09.mj', 'wave_kettle_hinge_slide/kitchen_playdata_2019_06_28_13_51_12.mj', 'b_bottomknob_switch_slide/kitchen_playdata_2019_06_28_12_50_06.mj', 'b_bottomknob_switch_slide/kitchen_playdata_2019_06_28_13_14_19.mj', 'b_bottomknob_switch_slide/kitchen_playdata_2019_06_28_12_48_30.mj', 'b_bottomknob_switch_slide/kitchen_playdata_2019_06_28_13_14_40.mj', 'b_bottomknob_switch_slide/kitchen_playdata_2019_06_28_12_50_42.mj', 'b_bottomknob_switch_slide/kitchen_playdata_2019_06_28_13_16_15.mj', 'b_bottomknob_switch_slide/kitchen_playdata_2019_06_28_12_45_58.mj', 'b_bottomknob_switch_slide/kitchen_playdata_2019_06_28_13_15_37.mj', 'b_bottomknob_switch_slide/kitchen_playdata_2019_06_28_12_50_24.mj', 'b_bottomknob_switch_slide/kitchen_playdata_2019_06_28_13_13_15.mj', 'b_bottomknob_switch_slide/kitchen_playdata_2019_06_28_12_49_46.mj', 'b_bottomknob_switch_slide/kitchen_playdata_2019_06_28_12_48_11.mj', 'b_bottomknob_switch_slide/kitchen_playdata_2019_06_28_12_46_54.mj', 'b_bottomknob_switch_slide/kitchen_playdata_2019_06_28_13_12_28.mj', 'b_bottomknob_switch_slide/kitchen_playdata_2019_06_28_12_46_36.mj', 'b_bottomknob_switch_slide/kitchen_playdata_2019_06_28_12_46_17.mj', 'b_bottomknob_switch_slide/kitchen_playdata_2019_06_28_13_16_34.mj', 'b_bottomknob_switch_slide/kitchen_playdata_2019_06_28_12_48_49.mj', 'b_bottomknob_switch_slide/kitchen_playdata_2019_06_28_13_12_49.mj', 'b_bottomknob_switch_slide/kitchen_playdata_2019_06_28_13_15_57.mj', 'b_bottomknob_switch_slide/kitchen_playdata_2019_06_28_12_49_08.mj', 'b_bottomknob_switch_slide/kitchen_playdata_2019_06_28_12_47_53.mj', 'b_bottomknob_switch_slide/kitchen_playdata_2019_06_28_13_14_59.mj', 'b_bottomknob_switch_slide/kitchen_playdata_2019_06_28_12_49_28.mj', 'b_bottomknob_switch_slide/kitchen_playdata_2019_06_28_12_47_14.mj', 'b_bottomknob_switch_slide/kitchen_playdata_2019_06_28_13_15_19.mj', 'b_bottomknob_switch_slide/kitchen_playdata_2019_06_28_12_47_34.mj', 'wave_kettle_switch_hinge/kitchen_playdata_2019_07_11_10_56_22.mj', 'wave_kettle_switch_hinge/kitchen_playdata_2019_07_11_11_02_06.mj', 'wave_kettle_switch_hinge/kitchen_playdata_2019_07_11_11_00_38.mj', 'wave_kettle_switch_hinge/kitchen_playdata_2019_07_11_11_04_39.mj', 'wave_kettle_switch_hinge/kitchen_playdata_2019_07_11_11_02_29.mj', 'wave_kettle_switch_hinge/kitchen_playdata_2019_07_11_11_01_00.mj', 'wave_kettle_switch_hinge/kitchen_playdata_2019_07_11_10_54_52.mj', 'wave_kettle_switch_hinge/kitchen_playdata_2019_07_11_10_58_10.mj', 'wave_kettle_switch_hinge/kitchen_playdata_2019_07_11_10_58_55.mj', 'wave_kettle_switch_hinge/kitchen_playdata_2019_07_11_10_54_09.mj', 'wave_kettle_switch_hinge/kitchen_playdata_2019_07_11_11_00_08.mj', 'wave_kettle_switch_hinge/kitchen_playdata_2019_07_11_10_54_31.mj', 'wave_kettle_switch_hinge/kitchen_playdata_2019_07_11_11_02_51.mj', 'wave_kettle_switch_hinge/kitchen_playdata_2019_07_11_10_56_43.mj', 'wave_kettle_switch_hinge/kitchen_playdata_2019_07_11_11_01_43.mj', 'wave_kettle_switch_hinge/kitchen_playdata_2019_07_11_11_03_53.mj', 'wave_kettle_switch_hinge/kitchen_playdata_2019_07_11_11_04_16.mj', 'wave_kettle_switch_hinge/kitchen_playdata_2019_07_11_10_53_46.mj', 'wave_kettle_switch_hinge/kitchen_playdata_2019_07_11_11_01_21.mj', 'wave_kettle_switch_hinge/kitchen_playdata_2019_07_11_10_57_05.mj', 'b_bottomknob_slide/kitchen_playdata_2019_06_28_14_10_59.mj', 'b_bottomknob_slide/kitchen_playdata_2019_06_28_14_10_20.mj', 'b_bottomknob_slide/kitchen_playdata_2019_06_28_14_14_52.mj', 'b_bottomknob_slide/kitchen_playdata_2019_06_28_14_09_24.mj', 'b_bottomknob_slide/kitchen_playdata_2019_06_28_14_17_04.mj', 'b_bottomknob_slide/kitchen_playdata_2019_06_28_14_10_00.mj', 'b_bottomknob_slide/kitchen_playdata_2019_06_28_14_12_20.mj', 'b_bottomknob_slide/kitchen_playdata_2019_06_28_14_12_40.mj', 'b_bottomknob_slide/kitchen_playdata_2019_06_28_14_15_28.mj', 'b_bottomknob_slide/kitchen_playdata_2019_06_28_14_11_19.mj', 'b_bottomknob_slide/kitchen_playdata_2019_06_28_14_12_00.mj', 'b_bottomknob_slide/kitchen_playdata_2019_06_28_14_17_21.mj', 'b_bottomknob_slide/kitchen_playdata_2019_06_28_14_16_25.mj', 'b_bottomknob_slide/kitchen_playdata_2019_06_28_14_12_59.mj', 'b_bottomknob_slide/kitchen_playdata_2019_06_28_14_15_10.mj', 'b_bottomknob_slide/kitchen_playdata_2019_06_28_14_11_39.mj', 'b_bottomknob_slide/kitchen_playdata_2019_06_28_14_14_15.mj', 'b_bottomknob_slide/kitchen_playdata_2019_06_28_14_13_18.mj', 'b_bottomknob_slide/kitchen_playdata_2019_06_28_14_13_38.mj', 'b_bottomknob_slide/kitchen_playdata_2019_06_28_14_10_39.mj', 'b_bottomknob_slide/kitchen_playdata_2019_06_28_14_16_45.mj', 'b_bottomknob_slide/kitchen_playdata_2019_06_28_14_15_46.mj', 'b_bottomknob_slide/kitchen_playdata_2019_06_28_14_13_56.mj', 'b_bottomknob_slide/kitchen_playdata_2019_06_28_14_14_34.mj', 'b_bottomknob_slide/kitchen_playdata_2019_06_28_14_17_39.mj']\n"
     ]
    }
   ],
   "source": [
    "demo_dir = os.getcwd() + '/' + \"kitchen_demos_multitask/\"\n",
    "\n",
    "demos = glob.glob(demo_dir + \"/**/*.mjl\", recursive=True)\n",
    "print([d.strip(demo_dir) for d in demos])"
   ]
  },
  {
   "cell_type": "code",
   "execution_count": 5,
   "metadata": {},
   "outputs": [
    {
     "data": {
      "text/plain": [
       "{'nq': 30,\n",
       " 'nv': 29,\n",
       " 'nu': 9,\n",
       " 'nmocap': 1,\n",
       " 'nsensordata': 0,\n",
       " 'name': b'franka_mocap_studyTable_buttons',\n",
       " 'time': array([ 2.19400001,  2.23399997,  2.27399993,  2.31399989,  2.35400009,\n",
       "         2.39400005,  2.43400002,  2.47399998,  2.51399994,  2.5539999 ,\n",
       "         2.5940001 ,  2.63400006,  2.67400002,  2.71399999,  2.75399995,\n",
       "         2.79399991,  2.83400011,  2.87400007,  2.91400003,  2.954     ,\n",
       "         2.99399996,  3.03399992,  3.07399988,  3.11400008,  3.15400004,\n",
       "         3.19400001,  3.23399997,  3.27399993,  3.31399989,  3.35400009,\n",
       "         3.39400005,  3.43400002,  3.47399998,  3.51399994,  3.5539999 ,\n",
       "         3.5940001 ,  3.63400006,  3.67400002,  3.71399999,  3.75399995,\n",
       "         3.79399991,  3.83400011,  3.87400007,  3.91400003,  3.954     ,\n",
       "         3.99399996,  4.03399992,  4.07399988,  4.11399984,  4.15399981,\n",
       "         4.19399977,  4.23400021,  4.27400017,  4.31400013,  4.35400009,\n",
       "         4.39400005,  4.43400002,  4.47399998,  4.51399994,  4.5539999 ,\n",
       "         4.59399986,  4.63399982,  4.67399979,  4.71400023,  4.75400019,\n",
       "         4.79400015,  4.83400011,  4.87400007,  4.91400003,  4.954     ,\n",
       "         4.99399996,  5.03399992,  5.07399988,  5.11399984,  5.15399981,\n",
       "         5.19399977,  5.23400021,  5.27400017,  5.31400013,  5.35400009,\n",
       "         5.39400005,  5.43400002,  5.47399998,  5.51399994,  5.5539999 ,\n",
       "         5.59399986,  5.63399982,  5.67399979,  5.71400023,  5.75400019,\n",
       "         5.79400015,  5.83400011,  5.87400007,  5.91400003,  5.954     ,\n",
       "         5.99399996,  6.03399992,  6.07399988,  6.11399984,  6.15399981,\n",
       "         6.19399977,  6.23400021,  6.27400017,  6.31400013,  6.35400009,\n",
       "         6.39400005,  6.43400002,  6.47399998,  6.51399994,  6.5539999 ,\n",
       "         6.59399986,  6.63399982,  6.67399979,  6.71400023,  6.75400019,\n",
       "         6.79400015,  6.83400011,  6.87400007,  6.91400003,  6.954     ,\n",
       "         6.99399996,  7.03399992,  7.07399988,  7.11399984,  7.15399981,\n",
       "         7.19399977,  7.23400021,  7.27400017,  7.31400013,  7.35400009,\n",
       "         7.39400005,  7.43400002,  7.47399998,  7.51399994,  7.5539999 ,\n",
       "         7.59399986,  7.63399982,  7.67399979,  7.71400023,  7.75400019,\n",
       "         7.79400015,  7.83400011,  7.87400007,  7.91400003,  7.954     ,\n",
       "         7.99399996,  8.0340004 ,  8.07400036,  8.11400032,  8.15400028,\n",
       "         8.19400024,  8.23400021,  8.27400017,  8.31400013,  8.35400009,\n",
       "         8.39400005,  8.43400002,  8.47399998,  8.51399994,  8.5539999 ,\n",
       "         8.59399986,  8.63399982,  8.67399979,  8.71399975,  8.75399971,\n",
       "         8.79399967,  8.83399963,  8.8739996 ,  8.91399956,  8.95400047,\n",
       "         8.99400043,  9.0340004 ,  9.07400036,  9.11400032,  9.15400028,\n",
       "         9.19400024,  9.23400021,  9.27400017,  9.31400013,  9.35400009,\n",
       "         9.39400005,  9.43400002,  9.47399998,  9.51399994,  9.5539999 ,\n",
       "         9.59399986,  9.63399982,  9.67399979,  9.71399975,  9.75399971,\n",
       "         9.79399967,  9.83399963,  9.8739996 ,  9.91399956,  9.95400047,\n",
       "         9.99400043, 10.0340004 , 10.07400036, 10.11400032, 10.15400028,\n",
       "        10.19400024, 10.23400021, 10.27400017, 10.31400013, 10.35400009,\n",
       "        10.39400005, 10.43400002, 10.47399998, 10.51399994, 10.5539999 ,\n",
       "        10.59399986, 10.63399982, 10.67399979, 10.71399975, 10.75399971,\n",
       "        10.79399967, 10.83399963, 10.8739996 , 10.91399956, 10.95400047,\n",
       "        10.99400043, 11.0340004 , 11.07400036, 11.11400032, 11.15400028,\n",
       "        11.19400024, 11.23400021, 11.27400017, 11.31400013, 11.35400009,\n",
       "        11.39400005, 11.43400002, 11.47399998, 11.51399994, 11.5539999 ,\n",
       "        11.59399986, 11.63399982, 11.67399979, 11.71399975, 11.75399971,\n",
       "        11.79399967, 11.83399963, 11.8739996 , 11.91399956, 11.95400047,\n",
       "        11.99400043, 12.0340004 , 12.07400036, 12.11400032, 12.15400028,\n",
       "        12.19400024, 12.23400021, 12.27400017, 12.31400013, 12.35400009,\n",
       "        12.39400005, 12.43400002, 12.47399998, 12.51399994, 12.5539999 ,\n",
       "        12.59399986, 12.63399982, 12.67399979, 12.71399975, 12.75399971,\n",
       "        12.79399967, 12.83399963, 12.8739996 , 12.91399956, 12.95400047,\n",
       "        12.99400043, 13.0340004 , 13.07400036, 13.11400032, 13.15400028,\n",
       "        13.19400024, 13.23400021, 13.27400017, 13.31400013, 13.35400009,\n",
       "        13.39400005, 13.43400002, 13.47399998, 13.51399994, 13.5539999 ,\n",
       "        13.59399986, 13.63399982, 13.67399979, 13.71399975, 13.75399971,\n",
       "        13.79399967, 13.83399963, 13.8739996 , 13.91399956, 13.95400047,\n",
       "        13.99400043, 14.0340004 , 14.07400036, 14.11400032, 14.15400028,\n",
       "        14.19400024, 14.23400021, 14.27400017, 14.31400013, 14.35400009,\n",
       "        14.39400005, 14.43400002, 14.47399998, 14.51399994, 14.5539999 ,\n",
       "        14.59399986, 14.63399982, 14.67399979, 14.71399975, 14.75399971,\n",
       "        14.79399967, 14.83399963, 14.8739996 , 14.91399956, 14.95400047,\n",
       "        14.99400043, 15.0340004 , 15.07400036, 15.11400032, 15.15400028,\n",
       "        15.19400024, 15.23400021, 15.27400017, 15.31400013, 15.35400009,\n",
       "        15.39400005, 15.43400002, 15.47399998, 15.51399994, 15.5539999 ,\n",
       "        15.59399986, 15.63399982, 15.67399979, 15.71399975, 15.75399971,\n",
       "        15.79399967, 15.83399963, 15.8739996 , 15.91399956, 15.95400047,\n",
       "        15.99400043, 16.0340004 , 16.0739994 , 16.11400032, 16.15399933,\n",
       "        16.19400024, 16.23399925, 16.27400017, 16.31399918, 16.35400009,\n",
       "        16.3939991 , 16.43400002, 16.47400093, 16.51399994, 16.55400085,\n",
       "        16.59399986, 16.63400078, 16.67399979, 16.7140007 , 16.75399971,\n",
       "        16.79400063, 16.83399963, 16.87400055, 16.91399956, 16.95400047,\n",
       "        16.99399948, 17.0340004 , 17.0739994 , 17.11400032, 17.15399933,\n",
       "        17.19400024, 17.23399925, 17.27400017, 17.31399918, 17.35400009,\n",
       "        17.3939991 , 17.43400002, 17.47400093, 17.51399994, 17.55400085,\n",
       "        17.59399986, 17.63400078, 17.67399979, 17.7140007 , 17.75399971,\n",
       "        17.79400063, 17.83399963, 17.87400055, 17.91399956, 17.95400047,\n",
       "        17.99399948, 18.0340004 , 18.0739994 , 18.11400032, 18.15399933,\n",
       "        18.19400024, 18.23399925, 18.27400017, 18.31399918, 18.35400009,\n",
       "        18.3939991 , 18.43400002, 18.47400093, 18.51399994, 18.55400085,\n",
       "        18.59399986, 18.63400078, 18.67399979, 18.7140007 , 18.75399971,\n",
       "        18.79400063, 18.83399963, 18.87400055, 18.91399956, 18.95400047,\n",
       "        18.99399948, 19.0340004 , 19.0739994 , 19.11400032, 19.15399933,\n",
       "        19.19400024, 19.23399925, 19.27400017, 19.31399918, 19.35400009,\n",
       "        19.3939991 , 19.43400002, 19.47400093, 19.51399994, 19.55400085,\n",
       "        19.59399986, 19.63400078, 19.67399979, 19.7140007 , 19.75399971,\n",
       "        19.79400063, 19.83399963, 19.87400055, 19.91399956, 19.95400047,\n",
       "        19.99399948, 20.0340004 , 20.0739994 , 20.11400032, 20.15399933,\n",
       "        20.19400024, 20.23399925, 20.27400017, 20.31399918]),\n",
       " 'qpos': array([[ 1.54438004e-01, -1.76353562e+00,  1.85912895e+00, ...,\n",
       "          2.62166804e-19, -1.13061060e-05, -1.07351758e-18],\n",
       "        [ 1.49016142e-01, -1.76357031e+00,  1.85786819e+00, ...,\n",
       "          2.62166804e-19, -1.13061060e-05, -1.07351758e-18],\n",
       "        [ 1.42933458e-01, -1.76361835e+00,  1.85766494e+00, ...,\n",
       "          2.62166804e-19, -1.13061060e-05, -1.07351758e-18],\n",
       "        ...,\n",
       "        [-1.12268651e+00, -1.76369023e+00,  6.21724486e-01, ...,\n",
       "          3.08262497e-06,  4.15252689e-05, -7.40935132e-02],\n",
       "        [-1.10227621e+00, -1.76388741e+00,  6.12467349e-01, ...,\n",
       "         -5.86583701e-06, -7.87526951e-05, -7.40912557e-02],\n",
       "        [-1.08333075e+00, -1.76360178e+00,  6.03071809e-01, ...,\n",
       "         -3.73821899e-06, -5.02271032e-05, -7.40890056e-02]]),\n",
       " 'qvel': array([[-1.54088825e-01, -2.55346322e-03, -3.72177511e-02, ...,\n",
       "         -4.24271425e-17,  6.64174740e-06,  1.13366096e-18],\n",
       "        [-1.16569549e-01,  3.76087519e-05, -2.61511393e-02, ...,\n",
       "          1.41377936e-18,  6.64174740e-06, -6.08279547e-18],\n",
       "        [-1.55785799e-01,  4.54836496e-04,  7.65029015e-03, ...,\n",
       "         -2.81197667e-17,  6.64174740e-06, -4.12654894e-19],\n",
       "        ...,\n",
       "        [ 3.53159875e-01,  3.80389020e-03, -2.09581941e-01, ...,\n",
       "          3.86193005e-06,  3.09895463e-02,  1.04191735e-04],\n",
       "        [ 5.52539170e-01,  6.63598161e-03, -2.64317632e-01, ...,\n",
       "          4.16334979e-06,  6.32159784e-02,  2.11204242e-04],\n",
       "        [ 3.98986131e-01,  4.04145801e-03, -2.00626835e-01, ...,\n",
       "         -6.95622248e-06, -6.55402541e-02,  1.42493955e-04]]),\n",
       " 'ctrl': array([[ 0.13709341, -1.76689017,  1.82947719, ...,  1.60605145,\n",
       "          0.03995955,  0.03992025],\n",
       "        [ 0.13709341, -1.76689017,  1.82947719, ...,  1.60605145,\n",
       "          0.03995955,  0.03992025],\n",
       "        [ 0.12628679, -1.76810503,  1.83297658, ...,  1.6143235 ,\n",
       "          0.04      ,  0.03990725],\n",
       "        ...,\n",
       "        [-1.08693659, -1.7669611 ,  0.58729106, ..., -0.98044974,\n",
       "          0.04      ,  0.0399214 ],\n",
       "        [-1.0428555 , -1.76498783,  0.57022142, ..., -0.99942464,\n",
       "          0.03991502,  0.04      ],\n",
       "        [-1.0428555 , -1.76498783,  0.57022142, ..., -0.99942464,\n",
       "          0.03991502,  0.04      ]]),\n",
       " 'mocap_pos': array([[-0.45031705, -0.07594756,  2.02822304],\n",
       "        [-0.45031705, -0.07594756,  2.02822304],\n",
       "        [-0.45206672, -0.0715998 ,  2.02714038],\n",
       "        ...,\n",
       "        [-0.14323138,  0.07466497,  2.47149658],\n",
       "        [-0.14866368,  0.06709233,  2.47184277],\n",
       "        [-0.14866368,  0.06709233,  2.47184277]]),\n",
       " 'mocap_quat': array([[ 0.65921009, -0.65204751, -0.24554403, -0.28281474],\n",
       "        [ 0.65921009, -0.65204751, -0.24554403, -0.28281474],\n",
       "        [ 0.65870202, -0.65183181, -0.24052425, -0.28874737],\n",
       "        ...,\n",
       "        [ 0.83288336, -0.43120715, -0.1149509 , -0.32734084],\n",
       "        [ 0.83761388, -0.42566425, -0.1194642 , -0.32084456],\n",
       "        [ 0.83761388, -0.42566425, -0.1194642 , -0.32084456]]),\n",
       " 'sensordata': array([], shape=(454, 0), dtype=float64),\n",
       " 'userdata': array([], shape=(454, 0), dtype=float64),\n",
       " 'logName': '/home/sholto/Desktop/AI/learning_from_play/kitchen_demos_multitask/postcorl_kettle_topknob_bottomknob_hinge/kitchen_playdata_2019_07_11_18_05_26.mjl'}"
      ]
     },
     "execution_count": 5,
     "metadata": {},
     "output_type": "execute_result"
    }
   ],
   "source": [
    "file = demos[1]\n",
    "skip = 20\n",
    "data = parse_mjl_logs(file, skip)\n",
    "data"
   ]
  },
  {
   "cell_type": "code",
   "execution_count": 6,
   "metadata": {},
   "outputs": [],
   "source": [
    "%matplotlib inline \n",
    "import matplotlib.pyplot as plt\n",
    "def histo(x):\n",
    "    hist, bins = np.histogram(x, bins=50)\n",
    "    width = 0.7 * (bins[1] - bins[0])\n",
    "    center = (bins[:-1] + bins[1:]) / 2\n",
    "    plt.bar(center, hist, align='center', width=width)\n",
    "    plt.title(\"Trajectory Lengths\")\n",
    "    plt.show()"
   ]
  },
  {
   "cell_type": "code",
   "execution_count": 43,
   "metadata": {},
   "outputs": [
    {
     "name": "stderr",
     "output_type": "stream",
     "text": [
      "\n",
      "  0%|          | 0/608 [00:00<?, ?it/s]\u001b[A\n",
      "  0%|          | 3/608 [00:00<00:21, 27.77it/s]\u001b[A\n",
      "  1%|          | 6/608 [00:00<00:21, 27.63it/s]\u001b[A\n",
      "  1%|▏         | 9/608 [00:00<00:21, 28.12it/s]\u001b[A\n",
      "  2%|▏         | 12/608 [00:00<00:21, 28.01it/s]\u001b[A\n",
      "  2%|▏         | 15/608 [00:00<00:21, 28.09it/s]\u001b[A\n",
      "  3%|▎         | 18/608 [00:00<00:20, 28.28it/s]\u001b[A\n",
      "  3%|▎         | 21/608 [00:00<00:20, 28.41it/s]\u001b[A\n",
      "  4%|▍         | 25/608 [00:00<00:19, 29.49it/s]\u001b[A\n",
      "  5%|▍         | 29/608 [00:00<00:19, 29.79it/s]\u001b[A\n",
      "  5%|▌         | 32/608 [00:01<00:19, 29.70it/s]\u001b[A\n",
      "  6%|▌         | 36/608 [00:01<00:19, 29.68it/s]\u001b[A\n",
      "  6%|▋         | 39/608 [00:01<00:20, 28.04it/s]\u001b[A\n",
      "  7%|▋         | 42/608 [00:01<00:19, 28.40it/s]\u001b[A\n",
      "  8%|▊         | 46/608 [00:01<00:19, 29.11it/s]\u001b[A\n",
      "  8%|▊         | 50/608 [00:01<00:18, 29.69it/s]\u001b[A\n",
      "  9%|▊         | 53/608 [00:01<00:19, 28.32it/s]\u001b[A\n",
      "  9%|▉         | 56/608 [00:01<00:20, 27.25it/s]\u001b[A\n",
      " 10%|▉         | 59/608 [00:02<00:20, 27.05it/s]\u001b[A\n",
      " 10%|█         | 62/608 [00:02<00:20, 26.62it/s]\u001b[A\n",
      " 11%|█         | 65/608 [00:02<00:20, 26.60it/s]\u001b[A\n",
      " 11%|█         | 68/608 [00:02<00:20, 26.79it/s]\u001b[A\n",
      " 12%|█▏        | 71/608 [00:02<00:19, 27.21it/s]\u001b[A\n",
      " 12%|█▏        | 74/608 [00:02<00:19, 26.94it/s]\u001b[A\n",
      " 13%|█▎        | 77/608 [00:02<00:19, 26.82it/s]\u001b[A\n",
      " 13%|█▎        | 80/608 [00:02<00:19, 27.33it/s]\u001b[A\n",
      " 14%|█▍        | 84/608 [00:02<00:18, 28.48it/s]\u001b[A\n",
      " 14%|█▍        | 87/608 [00:03<00:18, 28.78it/s]\u001b[A\n",
      " 15%|█▍        | 91/608 [00:03<00:17, 29.84it/s]\u001b[A\n",
      " 16%|█▌        | 95/608 [00:03<00:16, 30.88it/s]\u001b[A\n",
      " 16%|█▋        | 99/608 [00:03<00:16, 31.68it/s]\u001b[A\n",
      " 17%|█▋        | 103/608 [00:03<00:16, 30.40it/s]\u001b[A\n",
      " 18%|█▊        | 107/608 [00:03<00:17, 29.20it/s]\u001b[A\n",
      " 18%|█▊        | 110/608 [00:03<00:18, 27.55it/s]\u001b[A\n",
      " 19%|█▊        | 113/608 [00:03<00:18, 26.98it/s]\u001b[A\n",
      " 19%|█▉        | 116/608 [00:04<00:18, 26.95it/s]\u001b[A\n",
      " 20%|█▉        | 119/608 [00:04<00:18, 26.61it/s]\u001b[A\n",
      " 20%|██        | 122/608 [00:04<00:18, 26.38it/s]\u001b[A\n",
      " 21%|██        | 125/608 [00:04<00:18, 26.54it/s]\u001b[A\n",
      " 21%|██        | 128/608 [00:04<00:17, 27.34it/s]\u001b[A\n",
      " 22%|██▏       | 131/608 [00:04<00:17, 27.79it/s]\u001b[A\n",
      " 22%|██▏       | 134/608 [00:04<00:16, 27.93it/s]\u001b[A\n",
      " 23%|██▎       | 137/608 [00:04<00:16, 27.86it/s]\u001b[A\n",
      " 23%|██▎       | 140/608 [00:04<00:16, 28.10it/s]\u001b[A\n",
      " 24%|██▎       | 143/608 [00:05<00:16, 28.40it/s]\u001b[A\n",
      " 24%|██▍       | 147/608 [00:05<00:15, 29.42it/s]\u001b[A\n",
      " 25%|██▍       | 151/608 [00:05<00:14, 30.78it/s]\u001b[A\n",
      " 25%|██▌       | 155/608 [00:05<00:14, 31.16it/s]\u001b[A\n",
      " 26%|██▌       | 159/608 [00:05<00:14, 31.80it/s]\u001b[A\n",
      " 27%|██▋       | 163/608 [00:05<00:14, 31.50it/s]\u001b[A\n",
      " 27%|██▋       | 167/608 [00:05<00:14, 30.57it/s]\u001b[A\n",
      " 28%|██▊       | 171/608 [00:05<00:14, 29.82it/s]\u001b[A\n",
      " 29%|██▊       | 174/608 [00:06<00:14, 29.14it/s]\u001b[A\n",
      " 29%|██▉       | 177/608 [00:06<00:15, 27.07it/s]\u001b[A\n",
      " 30%|██▉       | 180/608 [00:06<00:16, 26.15it/s]\u001b[A\n",
      " 30%|███       | 183/608 [00:06<00:16, 26.39it/s]\u001b[A\n",
      " 31%|███       | 186/608 [00:06<00:16, 26.14it/s]\u001b[A\n",
      " 31%|███       | 189/608 [00:06<00:16, 25.78it/s]\u001b[A\n",
      " 32%|███▏      | 192/608 [00:06<00:16, 25.26it/s]\u001b[A\n",
      " 32%|███▏      | 195/608 [00:06<00:16, 24.36it/s]\u001b[A\n",
      " 33%|███▎      | 198/608 [00:07<00:17, 23.05it/s]\u001b[A\n",
      " 33%|███▎      | 201/608 [00:07<00:18, 22.49it/s]\u001b[A\n",
      " 34%|███▎      | 204/608 [00:07<00:17, 22.66it/s]\u001b[A\n",
      " 34%|███▍      | 207/608 [00:07<00:17, 22.76it/s]\u001b[A\n",
      " 35%|███▍      | 210/608 [00:07<00:17, 22.95it/s]\u001b[A\n",
      " 35%|███▌      | 213/608 [00:07<00:16, 24.06it/s]\u001b[A\n",
      " 36%|███▌      | 216/608 [00:07<00:15, 25.02it/s]\u001b[A\n",
      " 36%|███▌      | 219/608 [00:07<00:15, 25.63it/s]\u001b[A\n",
      " 37%|███▋      | 222/608 [00:08<00:14, 25.75it/s]\u001b[A\n",
      " 37%|███▋      | 225/608 [00:08<00:14, 26.16it/s]\u001b[A\n",
      " 38%|███▊      | 228/608 [00:08<00:14, 26.33it/s]\u001b[A\n",
      " 38%|███▊      | 231/608 [00:08<00:14, 25.35it/s]\u001b[A\n",
      " 38%|███▊      | 234/608 [00:08<00:14, 25.31it/s]\u001b[A\n",
      " 39%|███▉      | 237/608 [00:08<00:14, 25.58it/s]\u001b[A\n",
      " 39%|███▉      | 240/608 [00:08<00:14, 26.01it/s]\u001b[A\n",
      " 40%|███▉      | 243/608 [00:08<00:13, 26.12it/s]\u001b[A\n",
      " 40%|████      | 246/608 [00:08<00:13, 26.43it/s]\u001b[A\n",
      " 41%|████      | 249/608 [00:09<00:13, 26.56it/s]\u001b[A\n",
      " 41%|████▏     | 252/608 [00:09<00:14, 24.86it/s]\u001b[A\n",
      " 42%|████▏     | 255/608 [00:09<00:13, 25.55it/s]\u001b[A\n",
      " 42%|████▏     | 258/608 [00:09<00:14, 23.82it/s]\u001b[A\n",
      " 43%|████▎     | 261/608 [00:09<00:14, 23.43it/s]\u001b[A\n",
      " 43%|████▎     | 264/608 [00:09<00:13, 24.65it/s]\u001b[A\n",
      " 44%|████▍     | 267/608 [00:09<00:13, 25.92it/s]\u001b[A\n",
      " 44%|████▍     | 270/608 [00:09<00:12, 26.76it/s]\u001b[A\n",
      " 45%|████▍     | 273/608 [00:10<00:12, 27.06it/s]\u001b[A\n",
      " 45%|████▌     | 276/608 [00:10<00:12, 27.62it/s]\u001b[A\n",
      " 46%|████▌     | 279/608 [00:10<00:11, 28.04it/s]\u001b[A\n",
      " 46%|████▋     | 282/608 [00:10<00:11, 28.59it/s]\u001b[A\n",
      " 47%|████▋     | 286/608 [00:10<00:11, 29.24it/s]\u001b[A\n",
      " 48%|████▊     | 290/608 [00:10<00:10, 29.72it/s]\u001b[A\n",
      " 48%|████▊     | 293/608 [00:10<00:10, 29.64it/s]\u001b[A\n",
      " 49%|████▊     | 296/608 [00:10<00:10, 28.56it/s]\u001b[A\n",
      " 49%|████▉     | 299/608 [00:10<00:11, 28.02it/s]\u001b[A\n",
      " 50%|████▉     | 302/608 [00:11<00:12, 24.59it/s]\u001b[A\n",
      " 50%|█████     | 305/608 [00:11<00:11, 25.84it/s]\u001b[A\n",
      " 51%|█████     | 308/608 [00:11<00:11, 25.22it/s]\u001b[A\n",
      " 51%|█████     | 311/608 [00:11<00:11, 26.30it/s]\u001b[A\n",
      " 52%|█████▏    | 315/608 [00:11<00:10, 27.61it/s]\u001b[A\n",
      " 52%|█████▏    | 318/608 [00:11<00:10, 27.43it/s]\u001b[A\n",
      " 53%|█████▎    | 322/608 [00:11<00:09, 28.90it/s]\u001b[A\n",
      " 54%|█████▎    | 326/608 [00:11<00:09, 28.90it/s]\u001b[A\n",
      " 54%|█████▍    | 329/608 [00:12<00:10, 27.56it/s]\u001b[A\n",
      " 55%|█████▍    | 332/608 [00:12<00:10, 26.86it/s]\u001b[A\n",
      " 55%|█████▌    | 335/608 [00:12<00:10, 27.23it/s]\u001b[A\n",
      " 56%|█████▌    | 338/608 [00:12<00:09, 27.60it/s]\u001b[A\n",
      " 56%|█████▌    | 341/608 [00:12<00:09, 27.68it/s]\u001b[A\n",
      " 57%|█████▋    | 344/608 [00:12<00:09, 27.98it/s]\u001b[A\n",
      " 57%|█████▋    | 347/608 [00:12<00:09, 28.10it/s]\u001b[A\n",
      " 58%|█████▊    | 350/608 [00:12<00:09, 28.15it/s]\u001b[A\n",
      " 58%|█████▊    | 354/608 [00:12<00:08, 30.57it/s]\u001b[A\n",
      " 59%|█████▉    | 358/608 [00:13<00:08, 30.21it/s]\u001b[A\n",
      " 60%|█████▉    | 362/608 [00:13<00:08, 29.80it/s]\u001b[A\n",
      " 60%|██████    | 366/608 [00:13<00:07, 32.15it/s]\u001b[A\n",
      " 61%|██████    | 370/608 [00:13<00:07, 30.42it/s]\u001b[A\n",
      " 62%|██████▏   | 374/608 [00:13<00:08, 28.06it/s]\u001b[A\n",
      " 62%|██████▏   | 377/608 [00:13<00:08, 25.81it/s]\u001b[A\n",
      " 62%|██████▎   | 380/608 [00:13<00:09, 24.85it/s]\u001b[A\n",
      " 63%|██████▎   | 383/608 [00:13<00:09, 23.31it/s]\u001b[A\n",
      " 63%|██████▎   | 386/608 [00:14<00:09, 23.50it/s]\u001b[A\n",
      " 64%|██████▍   | 389/608 [00:14<00:09, 22.32it/s]\u001b[A\n",
      " 64%|██████▍   | 392/608 [00:14<00:09, 22.70it/s]\u001b[A\n",
      " 65%|██████▍   | 395/608 [00:14<00:09, 23.24it/s]\u001b[A\n",
      " 65%|██████▌   | 398/608 [00:14<00:08, 23.91it/s]\u001b[A\n",
      " 66%|██████▌   | 401/608 [00:14<00:08, 24.50it/s]\u001b[A\n",
      " 66%|██████▋   | 404/608 [00:14<00:08, 25.10it/s]\u001b[A\n",
      " 67%|██████▋   | 407/608 [00:14<00:07, 25.26it/s]\u001b[A\n",
      " 67%|██████▋   | 410/608 [00:15<00:07, 25.01it/s]\u001b[A\n",
      " 68%|██████▊   | 413/608 [00:15<00:07, 24.49it/s]\u001b[A\n",
      " 68%|██████▊   | 416/608 [00:15<00:07, 25.10it/s]\u001b[A\n",
      " 69%|██████▉   | 419/608 [00:15<00:07, 25.52it/s]\u001b[A\n",
      " 69%|██████▉   | 422/608 [00:15<00:07, 26.44it/s]\u001b[A\n",
      " 70%|███████   | 426/608 [00:15<00:06, 28.53it/s]\u001b[A\n",
      " 71%|███████   | 430/608 [00:15<00:05, 30.45it/s]\u001b[A\n",
      " 71%|███████▏  | 434/608 [00:15<00:05, 31.54it/s]\u001b[A\n",
      " 72%|███████▏  | 438/608 [00:16<00:05, 32.27it/s]\u001b[A\n",
      " 73%|███████▎  | 442/608 [00:16<00:05, 31.24it/s]\u001b[A\n",
      " 73%|███████▎  | 446/608 [00:16<00:05, 28.48it/s]\u001b[A\n",
      " 74%|███████▍  | 449/608 [00:16<00:05, 27.44it/s]\u001b[A\n",
      " 74%|███████▍  | 452/608 [00:16<00:05, 26.28it/s]\u001b[A\n",
      " 75%|███████▍  | 455/608 [00:16<00:05, 25.82it/s]\u001b[A\n",
      " 75%|███████▌  | 458/608 [00:16<00:05, 25.74it/s]\u001b[A\n",
      " 76%|███████▌  | 461/608 [00:16<00:05, 24.94it/s]\u001b[A\n",
      " 76%|███████▋  | 464/608 [00:17<00:05, 24.14it/s]\u001b[A\n",
      " 77%|███████▋  | 467/608 [00:17<00:05, 23.75it/s]\u001b[A\n",
      " 77%|███████▋  | 470/608 [00:17<00:06, 22.88it/s]\u001b[A\n",
      " 78%|███████▊  | 474/608 [00:17<00:05, 25.39it/s]\u001b[A\n",
      " 78%|███████▊  | 477/608 [00:17<00:05, 26.11it/s]\u001b[A\n",
      " 79%|███████▉  | 480/608 [00:17<00:04, 26.93it/s]\u001b[A\n",
      " 79%|███████▉  | 483/608 [00:17<00:04, 27.68it/s]\u001b[A\n",
      " 80%|████████  | 487/608 [00:17<00:04, 28.59it/s]\u001b[A\n",
      " 81%|████████  | 490/608 [00:17<00:04, 28.77it/s]\u001b[A\n",
      " 81%|████████▏ | 494/608 [00:18<00:03, 29.31it/s]\u001b[A\n",
      " 82%|████████▏ | 498/608 [00:18<00:03, 29.80it/s]\u001b[A\n",
      " 83%|████████▎ | 502/608 [00:18<00:03, 30.11it/s]\u001b[A\n",
      " 83%|████████▎ | 506/608 [00:18<00:03, 30.29it/s]\u001b[A\n",
      " 84%|████████▍ | 510/608 [00:18<00:03, 30.76it/s]\u001b[A\n",
      " 85%|████████▍ | 514/608 [00:18<00:03, 29.66it/s]\u001b[A\n",
      " 85%|████████▌ | 517/608 [00:18<00:03, 27.53it/s]\u001b[A\n",
      " 86%|████████▌ | 520/608 [00:19<00:03, 26.55it/s]\u001b[A\n",
      " 86%|████████▌ | 523/608 [00:19<00:03, 23.10it/s]\u001b[A\n",
      " 87%|████████▋ | 526/608 [00:19<00:03, 23.44it/s]\u001b[A\n",
      " 87%|████████▋ | 529/608 [00:19<00:03, 23.62it/s]\u001b[A\n",
      " 88%|████████▊ | 532/608 [00:19<00:03, 23.87it/s]\u001b[A\n",
      " 88%|████████▊ | 535/608 [00:19<00:03, 24.10it/s]\u001b[A\n",
      " 88%|████████▊ | 538/608 [00:19<00:02, 24.86it/s]\u001b[A\n",
      " 89%|████████▉ | 541/608 [00:19<00:02, 24.07it/s]\u001b[A\n",
      " 90%|████████▉ | 545/608 [00:20<00:02, 25.98it/s]\u001b[A\n",
      " 90%|█████████ | 549/608 [00:20<00:02, 27.37it/s]\u001b[A\n",
      " 91%|█████████ | 553/608 [00:20<00:01, 28.93it/s]\u001b[A\n",
      " 91%|█████████▏| 556/608 [00:20<00:01, 29.13it/s]\u001b[A\n",
      " 92%|█████████▏| 560/608 [00:20<00:01, 29.96it/s]\u001b[A\n",
      " 93%|█████████▎| 564/608 [00:20<00:01, 29.84it/s]\u001b[A\n",
      " 93%|█████████▎| 568/608 [00:20<00:01, 28.55it/s]\u001b[A\n",
      " 94%|█████████▍| 571/608 [00:20<00:01, 27.78it/s]\u001b[A\n",
      " 94%|█████████▍| 574/608 [00:21<00:01, 27.25it/s]\u001b[A\n",
      " 95%|█████████▍| 577/608 [00:21<00:01, 26.97it/s]\u001b[A\n",
      " 95%|█████████▌| 580/608 [00:21<00:01, 26.19it/s]\u001b[A\n",
      " 96%|█████████▌| 583/608 [00:21<00:00, 26.07it/s]\u001b[A\n",
      " 96%|█████████▋| 586/608 [00:21<00:00, 27.09it/s]\u001b[A\n",
      " 97%|█████████▋| 589/608 [00:21<00:00, 26.24it/s]\u001b[A\n",
      " 98%|█████████▊| 593/608 [00:21<00:00, 27.41it/s]\u001b[A\n",
      " 98%|█████████▊| 596/608 [00:21<00:00, 28.03it/s]\u001b[A\n",
      " 99%|█████████▊| 599/608 [00:21<00:00, 28.56it/s]\u001b[A\n",
      " 99%|█████████▉| 602/608 [00:22<00:00, 28.82it/s]\u001b[A\n",
      "100%|█████████▉| 606/608 [00:22<00:00, 29.42it/s]\u001b[A\n",
      "100%|██████████| 608/608 [00:22<00:00, 27.31it/s]\u001b[A"
     ]
    },
    {
     "data": {
      "image/png": "[encoded data removed]",
      "text/plain": [
       "<Figure size 432x288 with 1 Axes>"
      ]
     },
     "metadata": {
      "needs_background": "light"
     },
     "output_type": "display_data"
    },
    {
     "data": {
      "image/png": "[encoded data removed]",
      "text/plain": [
       "<Figure size 432x288 with 1 Axes>"
      ]
     },
     "metadata": {
      "needs_background": "light"
     },
     "output_type": "display_data"
    }
   ],
   "source": [
    "times = []\n",
    "frames = []\n",
    "timestep = []\n",
    "\n",
    "for file in tqdm(demos):\n",
    "    try:\n",
    "        skip = 1\n",
    "        data = parse_mjl_logs(file, skip)\n",
    "        times.append(data['time'][-1] - data['time'][0])\n",
    "        frames.append(len(data['ctrl']))\n",
    "    except:\n",
    "        pass\n",
    "\n",
    "histo(times)\n",
    "histo(frames)"
   ]
  },
  {
   "cell_type": "code",
   "execution_count": 7,
   "metadata": {},
   "outputs": [
    {
     "name": "stdout",
     "output_type": "stream",
     "text": [
      "(454, 9) (454, 30) (454, 29)\n"
     ]
    }
   ],
   "source": [
    "print(data['ctrl'].shape, data['qpos'].shape, data['qvel'].shape)"
   ]
  },
  {
   "cell_type": "code",
   "execution_count": 6,
   "metadata": {},
   "outputs": [],
   "source": [
    "file = demos[np.random.choice(len(demos))]\n",
    "skip = 40 # this is frame skip\n",
    "data = parse_mjl_logs(file, skip)\n",
    "env.reset()\n",
    "for i in range(0,len(data['qpos'])):\n",
    "    env.robot.reset(env, data['qpos'][i], data['qvel'][i])\n",
    "    env.render()"
   ]
  },
  {
   "cell_type": "markdown",
   "metadata": {},
   "source": [
    "# The issue!\n",
    "Now, the problem is that cntrl is at the full time frequency of the env - which is really fine. That means if frame skip is anything but 1 then the ctrl labels are wrong. Ideally we want a more reasonable time freq, which means we need to take the difference between the first 9 elements of q_pos, divide it by the time between and then that gives us our desired vel controls. Even better, tonight I'll modify the env for position control. \n",
    "\n",
    "See, the below fails - "
   ]
  },
  {
   "cell_type": "code",
   "execution_count": 13,
   "metadata": {},
   "outputs": [
    {
     "data": {
      "text/plain": [
       "array([ 1.43264592e-01, -1.77799799e+00,  1.84360213e+00, -2.48067288e+00,\n",
       "        2.66339894e-01,  7.17807025e-01,  1.59974274e+00,  5.04281322e-02,\n",
       "        3.76864916e-02, -4.75080366e-05, -2.52327569e-05,  4.69530209e-05,\n",
       "       -6.29075473e-05, -9.96761684e-06,  5.99427580e-06,  3.48217187e-05,\n",
       "        5.21325121e-06,  4.25380655e-04, -9.96743683e-05, -5.09636619e-04,\n",
       "       -2.10016238e-03,  8.16123084e-03,  9.49776479e-03, -2.69737980e-01,\n",
       "        3.50862365e-01,  1.61924263e+00,  1.00537151e+00,  1.10771256e-02,\n",
       "       -1.02287991e-02,  1.93989775e-04,  0.00000000e+00,  0.00000000e+00,\n",
       "        0.00000000e+00,  0.00000000e+00,  0.00000000e+00,  0.00000000e+00,\n",
       "        0.00000000e+00,  0.00000000e+00,  0.00000000e+00,  0.00000000e+00,\n",
       "        0.00000000e+00,  0.00000000e+00,  0.00000000e+00,  0.00000000e+00,\n",
       "        0.00000000e+00,  0.00000000e+00,  0.00000000e+00,  0.00000000e+00,\n",
       "        0.00000000e+00,  0.00000000e+00,  0.00000000e+00,  0.00000000e+00,\n",
       "        0.00000000e+00,  0.00000000e+00,  0.00000000e+00,  0.00000000e+00,\n",
       "        0.00000000e+00,  0.00000000e+00,  0.00000000e+00,  0.00000000e+00])"
      ]
     },
     "execution_count": 13,
     "metadata": {},
     "output_type": "execute_result"
    }
   ],
   "source": [
    "env.reset()"
   ]
  },
  {
   "cell_type": "code",
   "execution_count": 52,
   "metadata": {},
   "outputs": [
    {
     "ename": "IndexError",
     "evalue": "index 97 is out of bounds for axis 0 with size 97",
     "output_type": "error",
     "traceback": [
      "\u001b[0;31m---------------------------------------------------------------------------\u001b[0m",
      "\u001b[0;31mIndexError\u001b[0m                                Traceback (most recent call last)",
      "\u001b[0;32m<ipython-input-52-b4f28a35aa20>\u001b[0m in \u001b[0;36m<module>\u001b[0;34m\u001b[0m\n\u001b[1;32m      7\u001b[0m     \u001b[0;31m#rel_vector = data['qpos'][i+1][:9]-data['qpos'][i][:9]\u001b[0m\u001b[0;34m\u001b[0m\u001b[0;34m\u001b[0m\u001b[0;34m\u001b[0m\u001b[0m\n\u001b[1;32m      8\u001b[0m     \u001b[0;31m#vel = rel_vector / 0.08\u001b[0m\u001b[0;34m\u001b[0m\u001b[0;34m\u001b[0m\u001b[0;34m\u001b[0m\u001b[0m\n\u001b[0;32m----> 9\u001b[0;31m     \u001b[0mdes_pos\u001b[0m \u001b[0;34m=\u001b[0m \u001b[0mdata\u001b[0m\u001b[0;34m[\u001b[0m\u001b[0;34m'qpos'\u001b[0m\u001b[0;34m]\u001b[0m\u001b[0;34m[\u001b[0m\u001b[0mi\u001b[0m\u001b[0;34m+\u001b[0m\u001b[0;36m1\u001b[0m\u001b[0;34m]\u001b[0m\u001b[0;34m[\u001b[0m\u001b[0;34m:\u001b[0m\u001b[0;36m9\u001b[0m\u001b[0;34m]\u001b[0m\u001b[0;34m\u001b[0m\u001b[0;34m\u001b[0m\u001b[0m\n\u001b[0m\u001b[1;32m     10\u001b[0m     \u001b[0;31m#env.robot.reset(env, data['qpos'][i], data['qvel'][i])\u001b[0m\u001b[0;34m\u001b[0m\u001b[0;34m\u001b[0m\u001b[0;34m\u001b[0m\u001b[0m\n\u001b[1;32m     11\u001b[0m     \u001b[0menv\u001b[0m\u001b[0;34m.\u001b[0m\u001b[0mstep\u001b[0m\u001b[0;34m(\u001b[0m\u001b[0mdes_pos\u001b[0m\u001b[0;34m)\u001b[0m \u001b[0;31m# the key change\u001b[0m\u001b[0;34m\u001b[0m\u001b[0;34m\u001b[0m\u001b[0m\n",
      "\u001b[0;31mIndexError\u001b[0m: index 97 is out of bounds for axis 0 with size 97"
     ]
    }
   ],
   "source": []
  },
  {
   "cell_type": "code",
   "execution_count": 7,
   "metadata": {},
   "outputs": [],
   "source": [
    "# playback demos and get data(physics respected)\n",
    "def gather_training_data(env, data, filename='demo_playback.mp4', render=None):\n",
    "    env = env.env\n",
    "    FPS = 30\n",
    "    render_skip = max(1, round(1. / \\\n",
    "        (FPS * env.sim.model.opt.timestep * env.frame_skip)))\n",
    "    t0 = timer.time()\n",
    "\n",
    "    # initialize\n",
    "    env.reset()\n",
    "    init_qpos = data['qpos'][0].copy()\n",
    "    init_qvel = data['qvel'][0].copy()\n",
    "    act_mid = env.act_mid\n",
    "    act_rng = env.act_amp\n",
    "\n",
    "    # prepare env\n",
    "    env.sim.data.qpos[:] = init_qpos\n",
    "    env.sim.data.qvel[:] = init_qvel\n",
    "    env.sim.forward()\n",
    "    #viewer(env, mode='initialize', render=render)\n",
    "\n",
    "    # step the env and gather data\n",
    "    path_obs = None\n",
    "    for i_frame in range(data['ctrl'].shape[0] - 1):\n",
    "        # Reset every time step\n",
    "        # if i_frame % 1 == 0:\n",
    "        #     qp = data['qpos'][i_frame].copy()\n",
    "        #     qv = data['qvel'][i_frame].copy()\n",
    "        #     env.sim.data.qpos[:] = qp\n",
    "        #     env.sim.data.qvel[:] = qv\n",
    "        #     env.sim.forward()\n",
    "\n",
    "        obs = env._get_obs()\n",
    "\n",
    "        # Construct the action\n",
    "        # ctrl = (data['qpos'][i_frame + 1][:9] - obs[:9]) / (env.skip * env.model.opt.timestep)\n",
    "        ctrl = (data['ctrl'][i_frame] - obs[:9])/(env.skip*env.model.opt.timestep)\n",
    "        act = (ctrl - act_mid) / act_rng\n",
    "        act = np.clip(act, -0.999, 0.999)\n",
    "        next_obs, reward, done, env_info = env.step(act)\n",
    "        if path_obs is None:\n",
    "            path_obs = obs\n",
    "            path_act = act\n",
    "        else:\n",
    "            path_obs = np.vstack((path_obs, obs))\n",
    "            path_act = np.vstack((path_act, act))\n",
    "\n",
    "        # render when needed to maintain FPS\n",
    "        if i_frame % render_skip == 0:\n",
    "            #viewer(env, mode='render', render=render)\n",
    "            print(i_frame, end=', ', flush=True)\n",
    "            env.render()\n",
    "#     # finalize\n",
    "#     if render:\n",
    "#         viewer(env, mode='save', filename=filename, render=render)\n",
    "\n",
    "    t1 = timer.time()\n",
    "    print(\"time taken = %f\" % (t1 - t0))\n",
    "\n",
    "    # note that <init_qpos, init_qvel> are one step away from <path_obs[0], path_act[0]>\n",
    "    return path_obs, path_act, init_qpos, init_qvel"
   ]
  },
  {
   "cell_type": "code",
   "execution_count": 12,
   "metadata": {},
   "outputs": [
    {
     "name": "stdout",
     "output_type": "stream",
     "text": [
      "0, 1, 2, 3, 4, 5, 6, 7, 8, 9, 10, 11, 12, 13, 14, 15, 16, 17, 18, 19, 20, 21, 22, 23, 24, 25, 26, 27, 28, 29, 30, 31, 32, 33, 34, 35, 36, 37, 38, 39, 40, 41, 42, 43, 44, 45, 46, 47, 48, 49, 50, 51, 52, 53, 54, 55, 56, 57, 58, 59, 60, 61, 62, 63, 64, 65, 66, 67, 68, 69, 70, 71, 72, 73, 74, 75, 76, 77, 78, 79, 80, 81, 82, 83, 84, 85, 86, 87, 88, 89, 90, 91, 92, 93, 94, 95, 96, 97, 98, 99, 100, 101, 102, 103, 104, 105, 106, 107, 108, 109, 110, 111, 112, 113, 114, 115, 116, 117, 118, 119, 120, 121, 122, 123, 124, 125, 126, 127, 128, 129, 130, 131, 132, 133, 134, 135, 136, 137, 138, 139, 140, 141, 142, 143, 144, 145, 146, 147, 148, 149, 150, 151, 152, 153, 154, 155, 156, 157, 158, 159, 160, 161, 162, 163, 164, 165, 166, 167, 168, 169, 170, 171, 172, 173, 174, 175, 176, 177, 178, 179, 180, 181, 182, 183, 184, 185, 186, 187, 188, 189, 190, 191, 192, 193, 194, 195, 196, 197, 198, 199, 200, 201, 202, 203, 204, 205, 206, 207, time taken = 8.482381\n"
     ]
    }
   ],
   "source": [
    "\n",
    "\n",
    "import time as timer\n",
    "file = demos[np.random.choice(len(demos))]\n",
    "skip = 40 # this is frame skip\n",
    "data = parse_mjl_logs(file, skip)\n",
    "render = True\n",
    "obs, act,init_qpos, init_qvel = gather_training_data(env, data,\\\n",
    "                filename=data['logName'][:-4]+'_playback.mp4', render=render)"
   ]
  },
  {
   "cell_type": "code",
   "execution_count": 29,
   "metadata": {},
   "outputs": [
    {
     "name": "stdout",
     "output_type": "stream",
     "text": [
      "211\n"
     ]
    }
   ],
   "source": [
    "print(len(obs))\n",
    "env.robot.reset(env, init_qpos, init_qvel)\n",
    "for i in range(0,len(act)):\n",
    "    #rel_vector = data['qpos'][i+1][:9]-data['qpos'][i][:9]\n",
    "    #vel = rel_vector / 0.08\n",
    "    \n",
    "    #env.robot.reset(env, data['qpos'][i], data['qvel'][i])\n",
    "    env.step(act[i]) # the key change\n",
    "    env.render()"
   ]
  },
  {
   "cell_type": "code",
   "execution_count": 5,
   "metadata": {},
   "outputs": [
    {
     "data": {
      "text/plain": [
       "['./kitchen_demos_multitask/postcorl_kettle_topknob_bottomknob_hinge',\n",
       " './kitchen_demos_multitask/friday_microwave_bottomknob_switch_slide',\n",
       " './kitchen_demos_multitask/friday_microwave_kettle_bottomknob_slide',\n",
       " './kitchen_demos_multitask/friday_microwave_kettle_topknob_switch',\n",
       " './kitchen_demos_multitask/postcorl_kettle_bottomknob_switch_hinge',\n",
       " './kitchen_demos_multitask/friday_microwave_kettle_bottomknob_hinge',\n",
       " './kitchen_demos_multitask/friday_microwave_kettle_switch_slide',\n",
       " './kitchen_demos_multitask/postcorl_microwave_topknob_bottomknob_switch',\n",
       " './kitchen_demos_multitask/postcorl_microwave_switch_hinge_slide',\n",
       " './kitchen_demos_multitask/postcorl_microwave_topknob_switch_hinge',\n",
       " './kitchen_demos_multitask/friday_microwave_topknob_bottomknob_hinge',\n",
       " './kitchen_demos_multitask/friday_kettle_bottomknob_switch_slide',\n",
       " './kitchen_demos_multitask/friday_microwave_kettle_topknob_hinge',\n",
       " './kitchen_demos_multitask/friday_microwave_topknob_bottomknob_slide',\n",
       " './kitchen_demos_multitask/postcorl_microwave_bottomknob_switch_slide',\n",
       " './kitchen_demos_multitask/friday_kettle_bottomknob_hinge_slide',\n",
       " './kitchen_demos_multitask/friday_microwave_bottomknob_hinge_slide',\n",
       " './kitchen_demos_multitask/friday_kettle_topknob_switch_slide',\n",
       " './kitchen_demos_multitask/friday_topknob_bottomknob_hinge_slide',\n",
       " './kitchen_demos_multitask/friday_kettle_switch_hinge_slide',\n",
       " './kitchen_demos_multitask/postcorl_kettle_topknob_bottomknob_switch',\n",
       " './kitchen_demos_multitask/friday_microwave_kettle_hinge_slide',\n",
       " './kitchen_demos_multitask/friday_topknob_bottomknob_switch_slide',\n",
       " './kitchen_demos_multitask/postcorl_microwave_kettle_switch_hinge',\n",
       " './kitchen_demos_multitask/friday_kettle_topknob_bottomknob_slide']"
      ]
     },
     "execution_count": 5,
     "metadata": {},
     "output_type": "execute_result"
    }
   ],
   "source": [
    "glob.glob('./kitchen_demos_multitask/*')"
   ]
  },
  {
   "cell_type": "code",
   "execution_count": null,
   "metadata": {},
   "outputs": [
    {
     "name": "stderr",
     "output_type": "stream",
     "text": [
      "ERROR:root:Invalid alias: The name clear can't be aliased because it is another magic command.\n",
      "ERROR:root:Invalid alias: The name more can't be aliased because it is another magic command.\n",
      "ERROR:root:Invalid alias: The name less can't be aliased because it is another magic command.\n",
      "ERROR:root:Invalid alias: The name man can't be aliased because it is another magic command.\n"
     ]
    }
   ],
   "source": [
    "import multiprocessing\n",
    "import subprocess\n",
    "import shlex\n",
    "from multiprocessing.pool import ThreadPool\n",
    "import glob\n",
    "def call_proc(cmd):\n",
    "    \"\"\" This runs in a separate thread. \"\"\"\n",
    "    p = subprocess.Popen(shlex.split(cmd), stdout=subprocess.PIPE, stderr=subprocess.PIPE)\n",
    "    out, err = p.communicate()\n",
    "    return (out, err)\n",
    "\n",
    "pool = ThreadPool(multiprocessing.cpu_count()//2)\n",
    "results = []\n",
    "for path in glob.glob('./kitchen_demos_multitask/*'):\n",
    "    cmd = f'python3 relay-policy-learning/adept_envs/adept_envs/utils/parse_demos.py --env \"kitchen_relax-v1\" -d \"{path}/\" -s \"40\" -v \"playback\" -r \"offscreen\"'\n",
    "    results.append(pool.apply_async(call_proc, (cmd,)))\n",
    "# Close the pool and wait for each running task to complete\n",
    "pool.close()\n",
    "pool.join()\n",
    "for result in results:\n",
    "    out, err = result.get()\n",
    "    print(f\"out: {out.decode()}\")\n",
    "    print(f\"err: {err.decode()}\")"
   ]
  },
  {
   "cell_type": "markdown",
   "metadata": {},
   "source": [
    "# Env Info \n",
    "\n",
    "## Action Space\n",
    "\n",
    "Action space is 9 dimensional, commanded via velocity. In franka robot.py, the function cntrl_velocity_limits bounds the desired velocity step, then returns a next desired positon (prevpos + cntrl_vel*step_size), so really rather than absolute position it is commanding desired pos, using a relative offset commanded via velocity assuming a constant timestep (0.08). This means it'd be easy to adapt to commanding via relative positon, or velocity. \n",
    "\n",
    "## Obs Space\n",
    "\n",
    "60 Dimensional. 9 for self, 21 for obs, 30 for goal. Self is unused in reward computation, only the following indices are \n",
    "\n"
   ]
  },
  {
   "cell_type": "code",
   "execution_count": null,
   "metadata": {},
   "outputs": [],
   "source": [
    "OBS_ELEMENT_INDICES = {\n",
    "    'bottom burner': np.array([11, 12]),\n",
    "    'top burner': np.array([15, 16]),\n",
    "    'light switch': np.array([17, 18]),\n",
    "    'slide cabinet': np.array([19]),\n",
    "    'hinge cabinet': np.array([20, 21]),\n",
    "    'microwave': np.array([22]),\n",
    "    'kettle': np.array([23, 24, 25, 26, 27, 28, 29]),\n",
    "    }"
   ]
  },
  {
   "cell_type": "markdown",
   "metadata": {},
   "source": [
    "We can reset it to any qpos,qvel self.robot.reset(self, reset_pos, reset_vel) (sizes 30, 29). qvel is actually returned as 30 dimensional internally (but never used so its not an issue. This off by one issue comes from the sim not returning the vel of one of the object elements I think, can't find out which one though. Not a big issue, vel isn't part of the obs state so clearly not that key."
   ]
  },
  {
   "cell_type": "code",
   "execution_count": 8,
   "metadata": {},
   "outputs": [],
   "source": [
    "energy_usage = 200000 # TWH\n",
    "coal_energy_per_ton = 0.00000000029 * 0.001 # Coal energy per ton in Terwatt hours\n",
    "carbon_produced = 60 # GT\n",
    "c02_emitted_per_ton = 9.2668921e-11"
   ]
  },
  {
   "cell_type": "code",
   "execution_count": 9,
   "metadata": {},
   "outputs": [
    {
     "data": {
      "text/plain": [
       "6.896551724137932e+17"
      ]
     },
     "execution_count": 9,
     "metadata": {},
     "output_type": "execute_result"
    }
   ],
   "source": [
    "energy_usage/coal_energy_per_ton"
   ]
  },
  {
   "cell_type": "code",
   "execution_count": 10,
   "metadata": {},
   "outputs": [
    {
     "data": {
      "text/plain": [
       "647466263257.7755"
      ]
     },
     "execution_count": 10,
     "metadata": {},
     "output_type": "execute_result"
    }
   ],
   "source": [
    "carbon_produced/c02_emitted_per_ton"
   ]
  },
  {
   "cell_type": "code",
   "execution_count": null,
   "metadata": {},
   "outputs": [],
   "source": []
  }
 ],
 "metadata": {
  "kernelspec": {
   "display_name": "Python 3",
   "language": "python",
   "name": "python3"
  },
  "language_info": {
   "codemirror_mode": {
    "name": "ipython",
    "version": 3
   },
   "file_extension": ".py",
   "mimetype": "text/x-python",
   "name": "python",
   "nbconvert_exporter": "python",
   "pygments_lexer": "ipython3",
   "version": "3.7.3"
  }
 },
 "nbformat": 4,
 "nbformat_minor": 2
}
