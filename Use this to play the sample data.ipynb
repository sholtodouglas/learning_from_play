{
 "cells": [
  {
   "cell_type": "code",
   "execution_count": null,
   "metadata": {},
   "outputs": [],
   "source": [
    "import gym \n",
    "import pandaRL\n",
    "import os\n",
    "import numpy as np\n",
    "import time\n",
    "import glob\n",
    "import config\n",
    "#env = env = gym.make('pandaPlayJoints1Obj-v0')\n",
    "# env.render(mode='human')\n",
    "# o = env.reset()\n",
    "import matplotlib.pyplot as plt\n"
   ]
  },
  {
   "cell_type": "code",
   "execution_count": null,
   "metadata": {},
   "outputs": [],
   "source": [
    "import config\n",
    "PYBULLET_DATA_DIR = config.ONEOBJ_PLAY # config.SCRIPTED_PLAY #config.RPL_PATH"
   ]
  },
  {
   "cell_type": "code",
   "execution_count": null,
   "metadata": {},
   "outputs": [],
   "source": [
    "\n",
    "def load_data(path, keys):\n",
    "    dataset = {k:[] for k in keys+['sequence_index','sequence_id']}\n",
    "    obs_act_path = os.path.join(path, 'obs_act_etc/')\n",
    "\n",
    "    for demo in os.listdir(obs_act_path):\n",
    "        traj = np.load(obs_act_path+demo+'/data.npz')\n",
    "        for k in keys:\n",
    "            dataset[k].append(traj[k].astype(np.float32))\n",
    "        timesteps = len(traj['obs'])\n",
    "        dataset['sequence_index'].append(np.arange(timesteps, dtype=np.int32).reshape(-1, 1))\n",
    "        dataset['sequence_id'].append(np.full(timesteps, fill_value=int(demo), dtype=np.int32).reshape(-1, 1))\n",
    "\n",
    "    # convert to numpy\n",
    "    for k in keys+['sequence_index','sequence_id']:\n",
    "        dataset[k] = np.vstack(dataset[k])\n",
    "    return dataset\n",
    "\n",
    "keys = ['obs', 'acts', 'achieved_goals', 'joint_poses', 'target_poses', 'acts_rpy', 'acts_rpy_rel',  'velocities', 'rpy_obs']\n",
    "dataset = load_data(PYBULLET_DATA_DIR, keys)"
   ]
  },
  {
   "cell_type": "code",
   "execution_count": null,
   "metadata": {
    "scrolled": true
   },
   "outputs": [],
   "source": [
    "env = gym.make('pandaPlay1Obj-v0')\n",
    "env.render(mode='human')\n",
    "o = env.reset()"
   ]
  },
  {
   "cell_type": "code",
   "execution_count": null,
   "metadata": {},
   "outputs": [],
   "source": [
    "f= 33\n",
    "#base_path = 'data_collection/collected_data/play_demos/'\n",
    "base_path = config.ONEOBJ_PLAY\n",
    "data = np.load(base_path+'obs_act_etc/'+str(f)+'/data.npz')\n",
    "potential_start_points = glob.glob(base_path+'/states_and_ims/'+str(f)+'/env_states/*.bullet')\n",
    "actions = data['acts']\n",
    "observations = data['obs']\n",
    "\n",
    "def get_random_start_point(potential_start_points):\n",
    "    idx = np.random.choice(len(potential_start_points))\n",
    "    path = potential_start_points[idx]\n",
    "    if config.OS == 'windows':\n",
    "        tstep = int(path.split('\\\\')[-1].replace('.bullet',''))\n",
    "    else:\n",
    "        tstep = int(path.split(\"/\")[-1].replace('.bullet',''))\n",
    "    return path, tstep\n",
    "    \n"
   ]
  },
  {
   "cell_type": "code",
   "execution_count": null,
   "metadata": {},
   "outputs": [],
   "source": [
    "path, start = get_random_start_point(potential_start_points)\n",
    "\n",
    "env.p.restoreState(fileName=path)"
   ]
  },
  {
   "cell_type": "code",
   "execution_count": null,
   "metadata": {},
   "outputs": [],
   "source": [
    "\n",
    "print(path)\n",
    "os = []\n",
    "for i in range(start, start+200):\n",
    "    a = actions[i,:]\n",
    "    #a = np.concatenate([a[0:3], env.p.getEulerFromQuaternion(a[3:7]), np.expand_dims(a[-1],0)])\n",
    "    \n",
    "    a = a# + a*(np.random.rand(8)-0.5)*0.02\n",
    "    o, r, _, d = env.step(a )\n",
    "    os.append(o['observation'])"
   ]
  },
  {
   "cell_type": "code",
   "execution_count": null,
   "metadata": {},
   "outputs": [],
   "source": [
    "import time"
   ]
  },
  {
   "cell_type": "code",
   "execution_count": null,
   "metadata": {},
   "outputs": [],
   "source": [
    "print(path)\n",
    "os = []\n",
    "for i in range(start, start+400):\n",
    "    #a = np.concatenate([a[0:3], env.p.getEulerFromQuaternion(a[3:7]), np.expand_dims(a[-1],0)])\n",
    "    env.visualise_sub_goal(sub_goals[i,:])\n",
    "    time.sleep(0.02)\n"
   ]
  },
  {
   "cell_type": "code",
   "execution_count": null,
   "metadata": {},
   "outputs": [],
   "source": [
    "env.panda.delete_sub_goal()"
   ]
  },
  {
   "cell_type": "code",
   "execution_count": null,
   "metadata": {},
   "outputs": [],
   "source": [
    "import matplotlib.pyplot as plt"
   ]
  },
  {
   "cell_type": "code",
   "execution_count": null,
   "metadata": {},
   "outputs": [],
   "source": [
    "plt.plot(np.linalg.norm(actions[start:start+200,3:7],axis = -1))"
   ]
  },
  {
   "cell_type": "code",
   "execution_count": null,
   "metadata": {},
   "outputs": [],
   "source": [
    "np.linalg.norm(actions[start:start+200,3:7], axis = -1)"
   ]
  },
  {
   "cell_type": "code",
   "execution_count": null,
   "metadata": {},
   "outputs": [],
   "source": [
    "# import pybullet as p\n",
    "# keys = ['obs', 'acts', 'achieved_goals', 'joint_poses', 'target_poses', 'acts_rpy', 'acts_rpy_rel',  'velocities']\n",
    "\n",
    "# def load_data(path, keys):\n",
    "#     dataset = {k:[] for k in keys+['sequence_index','sequence_id']}\n",
    "#     obs_act_path = os.path.join(path, 'obs_act_etc/')\n",
    "\n",
    "#     for demo in os.listdir(obs_act_path):\n",
    "#         data_dict = {}\n",
    "        \n",
    "        \n",
    "#         traj = np.load(obs_act_path+demo+'/data.npz')\n",
    "        \n",
    "#         rpy_acts = []\n",
    "#         rpy_obs = []\n",
    "#         for k in traj.keys():\n",
    "#             print(k)\n",
    "\n",
    "            \n",
    "#         for o in list(traj['obs']):\n",
    "#             rpy_obs.append(np.concatenate([o[0:3], p.getEulerFromQuaternion(o[3:7]), o[7:]]))\n",
    "        \n",
    "#         path = obs_act_path+demo+'/data.npz'\n",
    "#         print(path.replace(\".npz\", \"\"))\n",
    "#         np.savez(path.replace(\".npz\", \"\"), acts=traj['acts'], obs=traj['obs'],\n",
    "#                      achieved_goals =traj['achieved_goals'], controllable_achieved_goals =traj['controllable_achieved_goals'], joint_poses=traj['joint_poses'],\n",
    "#                      target_poses=traj['target_poses'],acts_rpy = traj['acts_rpy'],\n",
    "#                      acts_rpy_rel = traj['acts_rpy_rel'],  velocities =traj['velocities'], rpy_obs=np.array(rpy_obs))\n",
    "#     return dataset\n",
    "\n",
    "# dataset = load_data(PYBULLET_DATA_DIR, keys)"
   ]
  },
  {
   "cell_type": "code",
   "execution_count": null,
   "metadata": {},
   "outputs": [],
   "source": [
    "import matplotlib.pyplot as plt"
   ]
  },
  {
   "cell_type": "code",
   "execution_count": null,
   "metadata": {},
   "outputs": [],
   "source": [
    "plt.plot(dataset['rpy_obs'][100000:, 3:6])"
   ]
  },
  {
   "cell_type": "code",
   "execution_count": null,
   "metadata": {},
   "outputs": [],
   "source": [
    "plt.plot(dataset['acts_rpy'][56000:57000, 3:6])"
   ]
  },
  {
   "cell_type": "code",
   "execution_count": null,
   "metadata": {},
   "outputs": [],
   "source": [
    "env = env = gym.make('pandaPlay1Obj-v0')\n",
    "env.render(mode='human')\n",
    "o = env.reset()"
   ]
  },
  {
   "cell_type": "code",
   "execution_count": null,
   "metadata": {},
   "outputs": [],
   "source": [
    "door_positions = {'left': -0.15, 'middle': 0.0, 'right': 0.15}\n",
    "drawer_positions = {'closed': -0.1, 'middle': 0.0, 'open': 0.1}\n",
    "button_positions = {'open': 0.029, 'closed': 0.0}\n",
    "dial_positions = {'default':0}\n",
    "obj_poses = {'default': [0,0.2,0.0], 'shelf':[0,0.43, 0.27], 'left':[-0.2, 0.2,0.0], 'right':[0.2,0.2,0.0],'closed_drawer': [-0.15, 0.1, -0.09], 'open_drawer':[-0.15, -0.15, -0.09], 'cupboard_left': [-0.2, 0.45, 0.0], 'cupboard_right':[0.2, 0.45, 0.0]}\n",
    "obj_oris = {'upright': [0,0.7,0,0.7], 'default':[0,0,0,1], 'lengthways':[0.0, 0.0, 0.7071, 0.7071]}"
   ]
  },
  {
   "cell_type": "code",
   "execution_count": null,
   "metadata": {},
   "outputs": [],
   "source": [
    "def test_suite_reset(env, obj_ori = 'default', obj_pos = 'default', door = 'middle', drawer = 'middle', button = 'open', dial = 'default'):\n",
    "    obj_offset = np.array([0.,0.,0.])\n",
    "    if  obj_ori == 'upright':\n",
    "        obj_offset += np.array([0,0.,0.025])\n",
    "        \n",
    "    positions = [door_positions[door], drawer_positions[drawer], button_positions[button], dial_positions[dial]]\n",
    "             \n",
    "    for idx, j in enumerate(env.panda.joints):\n",
    "        env.panda.bullet_client.resetJointState(j, 0, positions[idx]) # reset drawer, button etc\n",
    "        \n",
    "    env.panda.bullet_client.resetBasePositionAndOrientation(env.panda.objects[0],\n",
    "                                                            np.array(obj_poses[obj_pos])+obj_offset, obj_oris[obj_ori])\n",
    "    \n",
    "    \n",
    "    \n",
    "def define_goal(env,obj_ori = 'default', obj_pos = 'default', door = 'middle', drawer = 'middle', button = 'open', dial = 'default'):\n",
    "    # We know the goal is \n",
    "    # objpos (3), obj_ori(4), door, drawer, button, dial\n",
    "    obj_offset = np.array([0.,0.,0.])\n",
    "    if  obj_ori == 'upright':\n",
    "        obj_offset += np.array([0,0.,0.025])\n",
    "    \n",
    "    goal = list(np.array(obj_poses[obj_pos])+obj_offset)+list(obj_oris[obj_ori])+[door_positions[door],drawer_positions[drawer], button_positions[button],dial_positions[dial]]\n",
    "    return np.array(goal)\n"
   ]
  },
  {
   "cell_type": "code",
   "execution_count": null,
   "metadata": {},
   "outputs": [],
   "source": [
    "#now, how to measure success?\n",
    "\n",
    "def door_left(env):\n",
    "    test_suite_reset(env, door = 'right')\n",
    "    return define_goal(env, door = 'left')\n",
    "\n",
    "def door_right(env):\n",
    "    test_suite_reset(env, door = 'left')\n",
    "    return define_goal(env, door = 'right')\n",
    "\n",
    "def open_drawer(env):\n",
    "    test_suite_reset(env, drawer='closed')\n",
    "    return define_goal(env, drawer = 'open')\n",
    "\n",
    "def close_drawer(env):\n",
    "    test_suite_reset(env, drawer='open')\n",
    "    return define_goal(env, drawer = 'closed')\n",
    "\n",
    "def push_left(env):\n",
    "    test_suite_reset(env, obj_ori='lengthways')\n",
    "    return define_goal(env, obj_ori='lengthways', obj_pos='left')\n",
    "\n",
    "def push_right(env):\n",
    "    test_suite_reset(env, obj_ori='lengthways')\n",
    "    return define_goal(env, obj_ori='lengthways', obj_pos='right')\n",
    "\n",
    "def block_in_cupboard_right(env):\n",
    "    test_suite_reset(env, door='left')\n",
    "    return define_goal(env, door = 'left', obj_pos='cupboard_right')\n",
    "\n",
    "def block_in_cupboard_left(env):\n",
    "    test_suite_reset(env, door='right')\n",
    "    return define_goal(env, door = 'right', obj_pos='cupboard_left')\n",
    "\n",
    "def block_in_cupboard_right_upright(env):\n",
    "    test_suite_reset(env, door='left', obj_ori='upright')\n",
    "    return define_goal(env, door = 'left', obj_pos='cupboard_right', obj_ori='upright')\n",
    "\n",
    "def block_in_cupboard_left_upright(env):\n",
    "    test_suite_reset(env, door='right', obj_ori='upright')\n",
    "    return define_goal(env, door = 'right', obj_pos='cupboard_left', obj_ori='upright')\n",
    "\n",
    "def block_default_to_upright(env):\n",
    "    test_suite_reset(env, obj_ori='default')\n",
    "    return define_goal(env, obj_ori='upright')\n",
    "\n",
    "def block_lengthways_to_upright(env):\n",
    "    test_suite_reset(env, obj_ori='lengthways')\n",
    "    return define_goal(env, obj_ori='upright')\n",
    "\n",
    "def block_default_to_lengthways(env):\n",
    "    test_suite_reset(env, obj_ori='default')\n",
    "    return define_goal(env, obj_ori='lengthways')\n",
    "\n",
    "def block_lengthways_to_default(env):\n",
    "    test_suite_reset(env, obj_ori='lengthways')\n",
    "    return define_goal(env, obj_ori='default')\n",
    "\n",
    "def press_button(env):\n",
    "    test_suite_reset(env, door='right')\n",
    "    return define_goal(env, door='right', button='closed')\n",
    "\n",
    "def block_on_shelf(env):\n",
    "    test_suite_reset(env, obj_ori='upright')\n",
    "    return define_goal(env, obj_pos='shelf',obj_ori='upright')\n",
    "\n",
    "def block_in_open_drawer(env):\n",
    "    test_suite_reset(env, drawer='open')\n",
    "    return define_goal(env, drawer='open', obj_pos='open_drawer')\n",
    "\n",
    "def block_in_open_drawer_lengthways(env):\n",
    "    test_suite_reset(env, drawer='open', obj_ori='lengthways')\n",
    "    return define_goal(env, drawer='open', obj_ori='lengthways', obj_pos='open_drawer')\n",
    "\n",
    "# Multi part objectives\n",
    "def press_button_with_door_obstacle(env):\n",
    "    test_suite_reset(env, door='left')\n",
    "    return define_goal(env, door='right', button='closed')\n",
    "\n",
    "def block_in_drawer_and_close(env):\n",
    "    test_suite_reset(env, drawer='open', obj_ori='lengthways')\n",
    "    return define_goal(env, drawer='closed', obj_ori='lengthways', obj_pos='closed_drawer')\n",
    "\n"
   ]
  },
  {
   "cell_type": "code",
   "execution_count": null,
   "metadata": {},
   "outputs": [],
   "source": [
    "#now, how to measure success?\n",
    "\n",
    "tests = [door_left,door_right,open_drawer,close_drawer,push_left,push_right,block_in_cupboard_right,\n",
    "         block_in_cupboard_left,block_in_cupboard_right_upright, block_in_cupboard_left_upright, block_default_to_upright,\n",
    "         block_lengthways_to_upright, block_default_to_lengthways, block_lengthways_to_default, press_button,block_on_shelf,\n",
    "         block_in_open_drawer,block_in_open_drawer_lengthways,\n",
    "         press_button_with_door_obstacle,block_in_drawer_and_close]\n",
    "\n"
   ]
  },
  {
   "cell_type": "code",
   "execution_count": null,
   "metadata": {},
   "outputs": [],
   "source": [
    "import time"
   ]
  },
  {
   "cell_type": "code",
   "execution_count": null,
   "metadata": {},
   "outputs": [],
   "source": [
    "for f in tests:\n",
    "    print(f.__name__)\n",
    "    f(env)\n",
    "    time.sleep(0.5)"
   ]
  },
  {
   "cell_type": "code",
   "execution_count": null,
   "metadata": {},
   "outputs": [],
   "source": [
    "test_suite_reset(env, obj_ori = 'lengthways', obj_pos = 'closed_drawer', door = 'middle', drawer = 'closed')"
   ]
  },
  {
   "cell_type": "code",
   "execution_count": null,
   "metadata": {},
   "outputs": [],
   "source": [
    "define_goal(env)"
   ]
  },
  {
   "cell_type": "code",
   "execution_count": null,
   "metadata": {},
   "outputs": [],
   "source": [
    "o = env.reset()\n"
   ]
  },
  {
   "cell_type": "code",
   "execution_count": null,
   "metadata": {},
   "outputs": [],
   "source": [
    "for i in range(0,1000):\n",
    "    env.p.stepSimulation()"
   ]
  },
  {
   "cell_type": "code",
   "execution_count": null,
   "metadata": {},
   "outputs": [],
   "source": [
    "env.panda.bullet_client.getJointState(env.panda.joints[2], 0)[0]"
   ]
  },
  {
   "cell_type": "code",
   "execution_count": null,
   "metadata": {},
   "outputs": [],
   "source": [
    "env.panda.bullet_client.resetJointState(env.panda.joints[0], 0, -3)"
   ]
  },
  {
   "cell_type": "code",
   "execution_count": 1,
   "metadata": {},
   "outputs": [
    {
     "name": "stdout",
     "output_type": "stream",
     "text": [

     ]
    },
    {
     "name": "stderr",
     "output_type": "stream",
     "text": [
      "C:\\Users\\sholt\\Anaconda3\\lib\\site-packages\\gym\\logger.py:30: UserWarning: \u001b[33mWARN: gym.spaces.Box autodetected dtype as <class 'numpy.float32'>. Please provide explicit dtype.\u001b[0m\n",
      "  warnings.warn(colorize('%s: %s'%('WARN', msg % args), 'yellow'))\n"
     ]
    },
    {
     "name": "stdout",
     "output_type": "stream",
     "text": [
      "c:\\users\\sholt\\desktop\\pandarl\\pandaRL\\envs\n"
     ]
    }
   ],
   "source": [
    "import gym \n",
    "import pandaRL\n",
    "import os\n",
    "import numpy as np\n",
    "import time\n",
    "import glob\n",
    "import matplotlib.pyplot as plt\n",
    "import config\n",
    "env = gym.make('pandaPlayAbsRPY1Obj-v0')\n",
    "env.render(mode='human')\n",
    "o = env.reset()"
   ]
  },
  {
   "cell_type": "code",
   "execution_count": 2,

   "outputs": [
    {
     "data": {

      "text/plain": [
       "<Figure size 432x288 with 1 Axes>"
      ]
     },
     "metadata": {
      "needs_background": "light"
     },
     "output_type": "display_data"
    },
    {
     "data": {

      "text/plain": [
       "<Figure size 432x288 with 1 Axes>"
      ]
     },
     "metadata": {
      "needs_background": "light"
     },
     "output_type": "display_data"
    },
    {
     "data": {

      "text/plain": [
       "<Figure size 432x288 with 1 Axes>"
      ]
     },
     "metadata": {
      "needs_background": "light"
     },
     "output_type": "display_data"
    },
    {
     "data": {

      "text/plain": [
       "<Figure size 432x288 with 1 Axes>"
      ]
     },
     "metadata": {
      "needs_background": "light"
     },
     "output_type": "display_data"
    },
    {
     "data": {

      "text/plain": [
       "<Figure size 432x288 with 1 Axes>"
      ]
     },
     "metadata": {
      "needs_background": "light"
     },
     "output_type": "display_data"
    },
    {
     "data": {

      "text/plain": [
       "<Figure size 432x288 with 1 Axes>"
      ]
     },
     "metadata": {
      "needs_background": "light"
     },
     "output_type": "display_data"
    },
    {
     "data": {

      "text/plain": [
       "<Figure size 432x288 with 1 Axes>"
      ]
     },
     "metadata": {
      "needs_background": "light"
     },
     "output_type": "display_data"
    },
    {
     "data": {

      "text/plain": [
       "<Figure size 432x288 with 1 Axes>"
      ]
     },
     "metadata": {
      "needs_background": "light"
     },
     "output_type": "display_data"
    },
    {
     "data": {

      "text/plain": [
       "<Figure size 432x288 with 1 Axes>"
      ]
     },
     "metadata": {
      "needs_background": "light"
     },
     "output_type": "display_data"
    },
    {
     "data": {

      "text/plain": [
       "<Figure size 432x288 with 1 Axes>"
      ]
     },
     "metadata": {
      "needs_background": "light"
     },
     "output_type": "display_data"
    },
    {
     "data": {

      "text/plain": [
       "<Figure size 432x288 with 1 Axes>"
      ]
     },
     "metadata": {
      "needs_background": "light"
     },
     "output_type": "display_data"
    },
    {
     "data": {

      "text/plain": [
       "<Figure size 432x288 with 1 Axes>"
      ]
     },
     "metadata": {
      "needs_background": "light"
     },
     "output_type": "display_data"
    },
    {
     "data": {

      "text/plain": [
       "<Figure size 432x288 with 1 Axes>"
      ]
     },
     "metadata": {
      "needs_background": "light"
     },
     "output_type": "display_data"
    },
    {
     "data": {

      "text/plain": [
       "<Figure size 432x288 with 1 Axes>"
      ]
     },
     "metadata": {
      "needs_background": "light"
     },
     "output_type": "display_data"
    },
    {
     "data": {

      "text/plain": [
       "<Figure size 432x288 with 1 Axes>"
      ]
     },
     "metadata": {
      "needs_background": "light"
     },
     "output_type": "display_data"
    },
    {
     "data": {

      "text/plain": [
       "<Figure size 432x288 with 1 Axes>"
      ]
     },
     "metadata": {
      "needs_background": "light"
     },
     "output_type": "display_data"
    },
    {
     "data": {

      "text/plain": [
       "<Figure size 432x288 with 1 Axes>"
      ]
     },
     "metadata": {
      "needs_background": "light"
     },
     "output_type": "display_data"
    },
    {
     "data": {

      "text/plain": [
       "<Figure size 432x288 with 1 Axes>"
      ]
     },
     "metadata": {
      "needs_background": "light"
     },
     "output_type": "display_data"
    }
   ],
   "source": [
    "\n",
    "for f in range(0,18):\n",
    "    #base_path = 'data_collection/collected_data/play_demos/'\n",
    "    base_path = config.ONEOBJ_PLAY\n",
    "    data = np.load(base_path+'obs_act_etc/'+str(f)+'/data.npz')\n",
    "    potential_start_points = glob.glob(base_path+'/states_and_ims/'+str(f)+'/env_states/*.bullet')\n",
    "    actions = data['acts_rpy']\n",
    "    observations = data['obs']\n",
    "    #joint_targets = data['target_poses']\n",
    "    plt.plot(data['acts_rpy_rel'][:,3:6])\n",
    "    plt.show()"
   ]
  },
  {
   "cell_type": "code",
   "execution_count": 3,
   "metadata": {},
   "outputs": [
    {
     "data": {
      "text/plain": [
       "[<matplotlib.lines.Line2D at 0x7fb679575eb8>,\n",
       " <matplotlib.lines.Line2D at 0x7fb679575fd0>,\n",
       " <matplotlib.lines.Line2D at 0x7fb67955a160>,\n",
       " <matplotlib.lines.Line2D at 0x7fb67955a2b0>,\n",
       " <matplotlib.lines.Line2D at 0x7fb67955a400>,\n",
       " <matplotlib.lines.Line2D at 0x7fb67955a550>,\n",
       " <matplotlib.lines.Line2D at 0x7fb67955a6a0>]"
      ]
     },
     "execution_count": 3,
     "metadata": {},
     "output_type": "execute_result"
    },
    {
     "data": {

      "text/plain": [
       "<Figure size 432x288 with 1 Axes>"
      ]
     },
     "metadata": {
      "needs_background": "light"
     },
     "output_type": "display_data"
    }
   ],
   "source": [
    "# Play some representative sample data\n",
    "\n",
    "\n",
    "\n",
    "f= 12\n",
    "#base_path = 'data_collection/collected_data/play_demos/'\n",
    "base_path = config.Hz30\n",
    "data = np.load(base_path+'obs_act_etc/'+str(f)+'/data.npz')\n",
    "potential_start_points = glob.glob(base_path+'/states_and_ims/'+str(f)+'/env_states/*.bullet')\n",
    "actions = data['acts_rpy']\n",
    "observations = data['obs']\n",
    "joint_targets = data['target_poses']\n",
    "plt.plot(data['acts_rpy_rel'][3471:3550,:])"
   ]
  },
  {
   "cell_type": "code",
   "execution_count": 4,
   "metadata": {},
   "outputs": [
    {
     "name": "stdout",
     "output_type": "stream",
     "text": [
      "4837\n"
     ]
    }
   ],
   "source": [
    "dataset_len = len(actions)\n",
    "print(dataset_len)"
   ]
  },
  {
   "cell_type": "code",
   "execution_count": 5,
   "metadata": {},
   "outputs": [],
   "source": [
    "def get_random_start_point(potential_start_points):\n",
    "    idx = np.random.choice(len(potential_start_points))\n",
    "    path = potential_start_points[idx]\n",
    "    if config.OS == 'windows':\n",
    "        tstep = int(path.split('\\\\')[-1].replace('.bullet',''))\n",
    "    else:\n",
    "        tstep = int(path.split(\"/\")[-1].replace('.bullet',''))\n",
    "    return path, tstep\n",
    "    \n",
    "\n"
   ]
  },
  {
   "cell_type": "code",
   "execution_count": null,
   "metadata": {},
   "outputs": [],
   "source": []
  },
  {

   "metadata": {},
   "source": [
    "# Run with absolute position actions"
   ]
  },
  {
   "cell_type": "code",
   "execution_count": null,
   "metadata": {},
   "outputs": [],
   "source": [
    "\n",
    "\n",
    "start = 3471\n",
    "path = base_path+ f'states_and_ims/{f}/env_states/{start}.bullet'\n",
    "print(path)"
   ]
  },
  {
   "cell_type": "code",
   "execution_count": 6,
   "metadata": {},
   "outputs": [],
   "source": [
    "path, start = get_random_start_point(potential_start_points)\n"
   ]
  },
  {
   "cell_type": "code",
   "execution_count": 7,
   "metadata": {},
   "outputs": [],
   "source": [
    "env.p.restoreState(fileName=path)"
   ]
  },
  {
   "cell_type": "code",
   "execution_count": 8,
   "metadata": {},
   "outputs": [
    {
     "data": {
      "text/plain": [
       "[<matplotlib.lines.Line2D at 0x7fb6800b4b38>,\n",
       " <matplotlib.lines.Line2D at 0x7fb6800b4c50>,\n",
       " <matplotlib.lines.Line2D at 0x7fb6800b4da0>]"
      ]
     },
     "execution_count": 8,
     "metadata": {},
     "output_type": "execute_result"
    },
    {
     "data": {
      "image/png": "[encoded data removed]",
      "text/plain": [
       "<Figure size 432x288 with 1 Axes>"
      ]
     },
     "metadata": {
      "needs_background": "light"
     },
     "output_type": "display_data"
    }
   ],
   "source": [
    "plt.plot(actions[:,3:6][start:start+50])"
   ]
  },
  {
   "cell_type": "code",
   "execution_count": 9,
   "metadata": {},
   "outputs": [
    {
     "name": "stdout",
     "output_type": "stream",
     "text": [
      "data_collection/collected_data/30Hz_one_obj//states_and_ims/12/env_states/480.bullet\n"
     ]
    }
   ],
   "source": [
    "\n",
    "\n",
    "env.p.restoreState(fileName=path)\n",
    "print(path)\n",
    "os = []\n",
    "for i in range(start, start+400):\n",
    "    a = actions[i,:]\n",
    "    #a = np.concatenate([a[0:3], env.p.getEulerFromQuaternion(a[3:7]), np.expand_dims(a[-1],0)])\n",
    "    \n",
    "    o, r, _, d = env.step(a )\n",
    "    os.append(o['observation'])"
   ]
  },
  {
   "cell_type": "code",
   "execution_count": null,
   "metadata": {},
   "outputs": [],
   "source": [
    "a"
   ]
  },
  {
   "cell_type": "code",
   "execution_count": null,
   "metadata": {},
   "outputs": [],
   "source": [
    "(np.random.rand(7)-0.5)*0.02"
   ]
  },
  {
   "cell_type": "code",
   "execution_count": null,
   "metadata": {},
   "outputs": [],
   "source": [
    "import matplotlib.pyplot as plt\n",
    "t = np.array(os)\n",
    "actions_space = t.shape[-1]\n",
    "length = len(t)\n",
    "x = np.linspace(0, length, num=length)\n",
    "for i in range(0,actions_space):\n",
    "    fig, axes = plt.subplots(1, 1, figsize=(6,1.0), squeeze=False)\n",
    "    axes[0,0].plot(x,t[:,i],'green')\n",
    "    plt.show()"
   ]
  },
  {
   "cell_type": "markdown",
   "metadata": {},
   "source": [
    "# Run with motor actions"
   ]
  },
  {
   "cell_type": "code",
   "execution_count": null,
   "metadata": {},
   "outputs": [],
   "source": [
    "path, start = get_random_start_point(potential_start_points)\n",
    "env.p.restoreState(fileName=path)\n",
    "\n",
    "for i in range(start, start+400):\n",
    "    targetPoses = joint_targets[i,:]\n",
    "    indexes =  [i for i in range(7)]\n",
    "    env.p.setJointMotorControlArray(env.panda.panda,indexes, env.p.POSITION_CONTROL,\n",
    "                                                         targetPositions=targetPoses ,\n",
    "                                                         forces=[5 * 240.]*len(indexes))\n",
    "    gripper = actions[i,-1]\n",
    "    for i in [9, 10]:\n",
    "        env.p.setJointMotorControl2(env.panda.panda, i, env.p.POSITION_CONTROL, gripper,\n",
    "                                             force=100)\n",
    "\n",
    "    env.panda.runSimulation()\n",
    "    time.sleep(0.005)"
   ]
  },
  {
   "cell_type": "markdown",
   "metadata": {},
   "source": [
    "# Everything below here is just rough working"
   ]
  },
  {
   "cell_type": "code",
   "execution_count": null,
   "metadata": {},
   "outputs": [],
   "source": [
    "import matplotlib.pyplot as plt\n",
    "o, r ,_,_ = env.step(env.action_space.sample())\n",
    "plt.imshow(o['img'])\n",
    "plt.show()"
   ]
  },
  {
   "cell_type": "code",
   "execution_count": null,
   "metadata": {},
   "outputs": [],
   "source": [
    "path = 'data_collection/collected_data/play_demos/'\n",
    "obs_act_path = path+'obs_act_etc/'\n",
    "\n",
    "for demo in os.listdir(obs_act_path):\n",
    "\n",
    "    traj = np.load(obs_act_path+demo+'/data.npz')\n",
    "    traj = {key:traj[key] for key in keys}\n",
    "    reset_states = []\n",
    "    for i in range(0, len(traj[keys[0]])):\n",
    "        # these are needed for deterministic resetting\n",
    "        reset_states.append(path+'/states_and_ims/'+demo+'/env_states/'+str(i)+'.bullet')\n",
    "    traj['reset_states'] = reset_states\n",
    "    traj['reset_idx'] = int(demo)\n",
    "    dataset.append(traj)\n",
    "\n",
    "    cnt[len(traj[keys[0]])]+=1"
   ]
  },
  {
   "cell_type": "code",
   "execution_count": null,
   "metadata": {},
   "outputs": [],
   "source": [
    "import os\n",
    "import numpy as np\n",
    "path = 'data_collection/collected_data/play_demos/'\n",
    "obs_act_path = path+'obs_act_etc/'\n",
    "l = os.listdir(obs_act_path)\n",
    "l.sort(key=float)\n"
   ]
  },
  {
   "cell_type": "code",
   "execution_count": null,
   "metadata": {},
   "outputs": [],
   "source": [
    "for i in l:\n",
    "    npz_length = np.load(obs_act_path + i +'/data.npz')['obs'].shape[0]\n",
    "    states_len = len(os.listdir(path + 'states_and_ims/'+i+'/env_states/'))\n",
    "    print(i, npz_length, states_len)\n",
    "    "
   ]
  },
  {
   "cell_type": "code",
   "execution_count": null,
   "metadata": {},
   "outputs": [],
   "source": [
    "import glob\n",
    "import pickle\n",
    "import random\n",
    "from collections import Counter\n",
    "import subprocess\n",
    "import shlex\n",
    "from multiprocessing.pool import ThreadPool\n",
    "import tensorflow as tf\n",
    "AUTOTUNE = tf.data.experimental.AUTOTUNE\n",
    "import os\n",
    "import numpy as np\n",
    "\n",
    "############## Everything from here for pybullet style #################################\n",
    "def load_data(path, keys):\n",
    "    cnt = Counter()\n",
    "    dataset = []\n",
    "    obs_act_path = os.path.join(path, 'obs_act_etc/')\n",
    "\n",
    "    for demo in os.listdir(obs_act_path):\n",
    "        \n",
    "        traj = np.load(obs_act_path+demo+'/data.npz')\n",
    "        traj = {key:traj[key] for key in keys}\n",
    "        reset_states = []\n",
    "        for i in range(0, len(traj[keys[0]])):\n",
    "            # these are needed for deterministic resetting\n",
    "            reset_states.append(path+'/states_and_ims/'+demo+'/env_states/'+str(i)+'.bullet')\n",
    "        traj['reset_states'] = reset_states\n",
    "        traj['reset_idx'] = int(demo)\n",
    "        dataset.append(traj)\n",
    "        \n",
    "        cnt[len(traj[keys[0]])]+=1\n",
    "        \n",
    "    return dataset,cnt"
   ]
  },
  {
   "cell_type": "code",
   "execution_count": null,
   "metadata": {},
   "outputs": [],
   "source": [
    "path  = config.ONEOBJ_PLAY # config.SCRIPTED_PLAY #config.RPL_PATH\n",
    "keys = ['obs', 'acts', 'achieved_goals', 'joint_poses', 'target_poses', 'controllable_achieved_goals']"
   ]
  },
  {
   "cell_type": "code",
   "execution_count": null,
   "metadata": {},
   "outputs": [],
   "source": [
    "obs_act_path = os.path.join(path, 'obs_act_etc/')\n",
    "for demo in os.listdir(obs_act_path):\n",
    "        \n",
    "        traj = np.load(obs_act_path+demo+'/data.npz')\n",
    "        traj = {key:traj[key] for key in keys}\n",
    "        #Fix the acts and the obs\n",
    "        quat_sign_flip(traj['acts'], [(3,7)])\n",
    "        quat_sign_flip(traj['obs'], [(3,7), (10,14)])\n",
    "        quat_sign_flip(traj['achieved_goals'], [(3,7)])\n",
    "        np.savez(obs_act_path+demo+'/data.npz', acts=traj['acts'], obs=traj['obs'], achieved_goals=traj['achieved_goals'],controllable_achieved_goals=traj['controllable_achieved_goals'], joint_poses=traj['joint_poses'],  target_poses=traj['target_poses'])\n",
    "        "
   ]
  },
  {
   "cell_type": "code",
   "execution_count": null,
   "metadata": {},
   "outputs": [],
   "source": [
    "np.savez('test', acts=traj['acts'], obs=traj['obs'], achieved_goals=traj['achieved_goals'],controllable_achieved_goals=traj['controllable_achieved_goals'], joint_poses=traj['joint_poses'],  target_poses=traj['target_poses'])"
   ]
  },
  {
   "cell_type": "code",
   "execution_count": null,
   "metadata": {},
   "outputs": [],
   "source": [
    "traj = np.load('test.npz')"
   ]
  },
  {
   "cell_type": "code",
   "execution_count": null,
   "metadata": {},
   "outputs": [],
   "source": [
    "traj['achieved_goals'].shape"
   ]
  },
  {
   "cell_type": "code",
   "execution_count": null,
   "metadata": {},
   "outputs": [],
   "source": [
    "\n",
    "def quat_sign_flip(a, idxs):\n",
    "    for pair in idxs:\n",
    "        for i in range(1,len(a)):\n",
    "            \n",
    "            quat = a[i,pair[0]:pair[1]]\n",
    "            last_quat = a[i-1,pair[0]:pair[1]]\n",
    "            if (np.sign(quat)== -np.sign(last_quat)).all(): # i.e, it is an equivalent quaternion\n",
    "                a[i,pair[0]:pair[1]] = - a[i,pair[0]:pair[1]]\n",
    "    return a \n"
   ]
  },
  {
   "cell_type": "code",
   "execution_count": null,
   "metadata": {},
   "outputs": [],
   "source": [
    "import matplotlib.pyplot as plt\n",
    "t =  traj['acts']\n",
    "actions_space = t.shape[-1]\n",
    "length = len(traj['acts'])\n",
    "x = np.linspace(0, length, num=length)\n",
    "for i in range(0,actions_space):\n",
    "    fig, axes = plt.subplots(1, 1, figsize=(6,1.0), squeeze=False)\n",
    "    axes[0,0].plot(x,t[:,i],'green')\n",
    "    plt.show()"
   ]
  },
  {
   "cell_type": "code",
   "execution_count": null,
   "metadata": {},
   "outputs": [],
   "source": [
    "t = traj['obs']\n",
    "actions_space = t.shape[-1]\n",
    "length = len(traj['acts'])\n",
    "x = np.linspace(0, length, num=length)\n",
    "for i in range(0,actions_space):\n",
    "    fig, axes = plt.subplots(1, 1, figsize=(6,1.0), squeeze=False)\n",
    "    axes[0,0].plot(x,t[:,i],'green')\n",
    "    plt.show()"
   ]
  },
  {
   "cell_type": "code",
   "execution_count": null,
   "metadata": {},
   "outputs": [],
   "source": [
    "t = quat_sign_flip(traj['obs'], [(3,7), (11,14)])\n",
    "actions_space = t.shape[-1]\n",
    "length = len(traj['acts'])\n",
    "x = np.linspace(0, length, num=length)\n",
    "for i in range(0,actions_space):\n",
    "    fig, axes = plt.subplots(1, 1, figsize=(6,1.0), squeeze=False)\n",
    "    axes[0,0].plot(x,t[:,i],'green')\n",
    "    plt.show()"
   ]
  },
  {
   "cell_type": "code",
   "execution_count": null,
   "metadata": {},
   "outputs": [],
   "source": [
    "timestep = 1/240.\n",
    "control_Hz = 20\n",
    "n_steps = 1/control_Hz/timestep"
   ]
  },
  {
   "cell_type": "code",
   "execution_count": null,
   "metadata": {},
   "outputs": [],
   "source": [
    "\n",
    "                       \n",
    "start = 0\n",
    "for i in range(start, dataset_len ):\n",
    "    env.p.restoreState(fileName='data_collection/collected_data/play_demos/'+str(f)+'/env_states/'+str(i)+'.bullet')\n",
    "    time.sleep(0.005)\n",
    "    \n",
    "#env.p.restoreState(fileName='data_collection/collected_data/play_demos/'+str(f)+'/env_states/'+str(start)+'.bullet')"
   ]
  },
  {
   "cell_type": "code",
   "execution_count": null,
   "metadata": {},
   "outputs": [],
   "source": [
    "f = 0\n",
    "data = np.load('data_collection/collected_data/play_demos/'+str(f)+'/data.npz')"
   ]
  },
  {
   "cell_type": "code",
   "execution_count": null,
   "metadata": {},
   "outputs": [],
   "source": [
    "start = 200\n",
    "env.p.restoreState(fileName='data_collection/collected_data/play_demos/'+str(f)+'/env_states/'+str(start)+'.bullet')\n",
    "for i in range(start, start+400):\n",
    "    act = actions[i,:]\n",
    "    act[0:3] = act[0:3] + observations[i,0:3]\n",
    "    POS, ORI, GRIPPER = act[0:3], act[3:7], act[7]\n",
    "    env.panda.goto(POS, ORI, GRIPPER)\n",
    "    env.panda.runSimulation()\n",
    "    time.sleep(0.02)"
   ]
  },
  {
   "cell_type": "code",
   "execution_count": null,
   "metadata": {},
   "outputs": [],
   "source": [
    "import tensorflow_probability as tfp\n",
    "tfd = tfp.distributions\n",
    "tfb = tfp.bijectors"
   ]
  },
  {
   "cell_type": "code",
   "execution_count": null,
   "metadata": {},
   "outputs": [],
   "source": [
    "dist = tfd.Logistic(loc=[0], scale=[-0.001])"
   ]
  },
  {
   "cell_type": "code",
   "execution_count": null,
   "metadata": {},
   "outputs": [],
   "source": [
    "-dist.log_prob(0)"
   ]
  },
  {
   "cell_type": "code",
   "execution_count": null,
   "metadata": {},
   "outputs": [],
   "source": [
    "f = 8\n",
    "start = 200\n",
    "env.p.restoreState(fileName='data_collection/collected_data/play_demos/'+str(f)+'/env_states/'+str(start)+'.bullet')"
   ]
  },
  {
   "cell_type": "code",
   "execution_count": null,
   "metadata": {},
   "outputs": [],
   "source": [
    "np.amax(data['joint_poses'], 0)"
   ]
  },
  {
   "cell_type": "code",
   "execution_count": null,
   "metadata": {},
   "outputs": [],
   "source": [
    "\n",
    "np.amin(data['joint_poses'], 0)"
   ]
  },
  {
   "cell_type": "code",
   "execution_count": null,
   "metadata": {},
   "outputs": [],
   "source": [
    "\n",
    "data['joints']"
   ]
  },
  {
   "cell_type": "code",
   "execution_count": null,
   "metadata": {},
   "outputs": [],
   "source": [
    "\n",
    "env.p.setVRCameraState([0.0, -0.3, -1.5], env.p.getQuaternionFromEuler([0, 0, 0]))\n"
   ]
  },
  {
   "cell_type": "code",
   "execution_count": null,
   "metadata": {},
   "outputs": [],
   "source": [
    "o['observation'].shape"
   ]
  },
  {
   "cell_type": "code",
   "execution_count": null,
   "metadata": {},
   "outputs": [],
   "source": [
    "start = 1400\n",
    "actions = data['acts']\n",
    "env.p.restoreState(fileName='data_collection/collected_data/play_demos/'+str(f)+'/env_states/'+str(start)+'.bullet')\n",
    "for i in range(start, start+400):\n",
    "    env.step(actions[i,:])\n",
    "    time.sleep(0.005)\n",
    "    \n"
   ]
  },
  {
   "cell_type": "code",
   "execution_count": null,
   "metadata": {},
   "outputs": [],
   "source": [
    "start = 1400\n",
    "for i in range(start, start+400):\n",
    "    env.p.restoreState(fileName='data_collection/collected_data/play_demos/'+str(f)+'/env_states/'+str(i)+'.bullet')\n",
    "    time.sleep(0.02)"
   ]
  },
  {
   "cell_type": "code",
   "execution_count": null,
   "metadata": {},
   "outputs": [],
   "source": [
    "def add_button(bullet_client, offset = np.array([0,0,0])):\n",
    "    sphereRadius = 0.02\n",
    "    colBoxId = bullet_client.createCollisionShape(bullet_client.GEOM_BOX,\n",
    "                                      halfExtents=[sphereRadius, sphereRadius, sphereRadius/4])\n",
    "\n",
    "    mass = 0\n",
    "    visualShapeId = bullet_client.createVisualShape(bullet_client.GEOM_BOX, halfExtents=[sphereRadius, sphereRadius, sphereRadius/4],\n",
    "                                                 rgbaColor=[1, 0, 0, 1])\n",
    "\n",
    "    link_Masses = [0.1]\n",
    "    linkCollisionShapeIndices = [colBoxId]\n",
    "    linkVisualShapeIndices = [visualShapeId]\n",
    "    linkPositions = [[-0.25,0.45, 0.70]]\n",
    "    linkOrientations = [bullet_client.getQuaternionFromEuler([0,0,0])]\n",
    "    linkInertialFramePositions = [[0, 0, 0]]\n",
    "    linkInertialFrameOrientations = [[0, 0, 0, 1]]\n",
    "    indices = [0]\n",
    "    # jointTypes = [bullet_client.JOINT_REVOLUTE]\n",
    "    jointTypes = [bullet_client.JOINT_PRISMATIC]\n",
    "    axis = [[0, 0, 1]]\n",
    "\n",
    "    basePosition = np.array([0, 0, -0.7])+offset\n",
    "    baseOrientation = [0, 0, 0, 1]\n",
    "\n",
    "    sphereUid = bullet_client.createMultiBody(mass,\n",
    "                                  colBoxId,\n",
    "                                  visualShapeId,\n",
    "                                  basePosition,\n",
    "                                  baseOrientation,\n",
    "                                  linkMasses=link_Masses,\n",
    "                                  linkCollisionShapeIndices=linkCollisionShapeIndices,\n",
    "                                  linkVisualShapeIndices=linkVisualShapeIndices,\n",
    "                                  linkPositions=linkPositions,\n",
    "                                  linkOrientations=linkOrientations,\n",
    "                                  linkInertialFramePositions=linkInertialFramePositions,\n",
    "                                  linkInertialFrameOrientations=linkInertialFrameOrientations,\n",
    "                                  linkParentIndices=indices,\n",
    "                                  linkJointTypes=jointTypes,\n",
    "                                  linkJointAxis=axis)\n",
    "\n",
    "    bullet_client.changeDynamics(sphereUid,\n",
    "                     -1,\n",
    "                     spinningFriction=0.001,\n",
    "                     rollingFriction=0.001,\n",
    "                     linearDamping=0.0)\n",
    "    bullet_client.setJointMotorControl2(sphereUid, 0, bullet_client.POSITION_CONTROL, targetPosition=0.03, force=1)\n",
    "    return sphereUid\n"
   ]
  },
  {
   "cell_type": "code",
   "execution_count": null,
   "metadata": {},
   "outputs": [],
   "source": [
    "bullet_client = env.p\n",
    "button = add_button(env.p)"
   ]
  },
  {
   "cell_type": "code",
   "execution_count": null,
   "metadata": {},
   "outputs": [],
   "source": [
    "def get_joint_obs(bullet_client, item):\n",
    "    return bullet_client.getJointState(item, 0)[0]"
   ]
  },
  {
   "cell_type": "code",
   "execution_count": null,
   "metadata": {},
   "outputs": [],
   "source": [
    "import time\n",
    "while(1):\n",
    "    o,r,d,_ = env.step(env.action_space.sample())\n",
    "    #print(get_joint_obs(bullet_client, button))\n",
    "    print(o[:-4])\n",
    "    time.sleep(0.05)"
   ]
  },
  {
   "cell_type": "code",
   "execution_count": null,
   "metadata": {},
   "outputs": [],
   "source": [
    "\n",
    "side = 0.2\n",
    "\n",
    "\n",
    "\n",
    "# Cabinet sides\n",
    "colcubeId = bullet_client.createCollisionShape(bullet_client.GEOM_BOX, halfExtents=[0.01, 0.065, 0.235])\n",
    "visplaneId = bullet_client.createVisualShape(bullet_client.GEOM_BOX, halfExtents=[0.01, 0.065, 0.235],\n",
    "                                             rgbaColor=[0.75, 0.4 ,0.2,1])\n",
    "block = bullet_client.createMultiBody(0.0, colcubeId, visplaneId, [-0.34, 0.45, -0.00])\n",
    "\n",
    "colcubeId = bullet_client.createCollisionShape(bullet_client.GEOM_BOX, halfExtents=[0.01, 0.065, 0.235])\n",
    "visplaneId = bullet_client.createVisualShape(bullet_client.GEOM_BOX, halfExtents=[0.01, 0.065, 0.235],\n",
    "                                             rgbaColor=[0.75, 0.4 ,0.2,1])\n",
    "block = bullet_client.createMultiBody(0.0, colcubeId, visplaneId, [0.34, 0.45, -0.00])\n",
    "\n",
    "# Cabinet back"
   ]
  },
  {
   "cell_type": "code",
   "execution_count": null,
   "metadata": {},
   "outputs": [],
   "source": [
    "USE_VR = None  \n",
    "import socket\n",
    "import pybullet as p\n",
    "import time\n",
    "import pybullet_data\n",
    "import numpy as np\n",
    "from pickle import dumps\n",
    "import math \n",
    "#p.connect(p.UDP,\"192.168.86.100\")\n",
    "cid = p.connect(p.SHARED_MEMORY)\n",
    "\n",
    "if (cid<0):\n",
    "    p.connect(p.GUI)\n",
    "    USE_VR = False\n",
    "else:\n",
    "    print(\"Connected to shared memory\")\n",
    "    USE_VR = True # Use either GUI or VR to set commands. \n",
    "\n",
    "p.setAdditionalSearchPath(pybullet_data.getDataPath())\n",
    "print(pybullet_data.getDataPath())\n",
    "p.resetSimulation()"
   ]
  },
  {
   "cell_type": "code",
   "execution_count": null,
   "metadata": {},
   "outputs": [],
   "source": [
    "bullet_client = env.p\n",
    "side = 0.2\n",
    "\n",
    "# TableTop\n",
    "colcubeId = bullet_client.createCollisionShape(bullet_client.GEOM_BOX, halfExtents=[0.4, 0.28, 0.005])\n",
    "visplaneId = bullet_client.createVisualShape(bullet_client.GEOM_BOX, halfExtents=[0.4, 0.28, 0.005],\n",
    "                                             rgbaColor=[0.75, 0.4 ,0.2,1])\n",
    "block = bullet_client.createMultiBody(0.0, colcubeId, visplaneId, [0, 0.25, -0.03])\n",
    "\n",
    "# Cabinet back\n",
    "colcubeId = bullet_client.createCollisionShape(bullet_client.GEOM_BOX, halfExtents=[0.4, 0.01, 0.22])\n",
    "visplaneId = bullet_client.createVisualShape(bullet_client.GEOM_BOX, halfExtents=[0.4, 0.01, 0.22],\n",
    "                                             rgbaColor=[0.75, 0.4 ,0.2,1])\n",
    "block = bullet_client.createMultiBody(0.0, colcubeId, visplaneId, [0., 0.52, -0.00])\n",
    "\n",
    "# Cabinet back\n",
    "colcubeId = bullet_client.createCollisionShape(bullet_client.GEOM_BOX, halfExtents=[0.4, 0.065, 0.005])\n",
    "visplaneId = bullet_client.createVisualShape(bullet_client.GEOM_BOX, halfExtents=[0.4, 0.065, 0.005],\n",
    "                                             rgbaColor=[0.75, 0.4 ,0.2,1])\n",
    "block = bullet_client.createMultiBody(0.0, colcubeId, visplaneId, [0., 0.47, 0.22])"
   ]
  },
  {
   "cell_type": "code",
   "execution_count": null,
   "metadata": {},
   "outputs": [],
   "source": [
    "env.reset()"
   ]
  },
  {
   "cell_type": "code",
   "execution_count": null,
   "metadata": {},
   "outputs": [],
   "source": []
  },
  {
   "cell_type": "code",
   "execution_count": null,
   "metadata": {},
   "outputs": [],
   "source": []
  },
  {
   "cell_type": "code",
   "execution_count": null,
   "metadata": {},
   "outputs": [],
   "source": [
    "actions = data['acts']\n",
    "actions.shape\n",
    "np.mean(data['times'][1:] - data['times'][:-1])"
   ]
  },
  {
   "cell_type": "code",
   "execution_count": null,
   "metadata": {},
   "outputs": [],
   "source": []
  },
  {
   "cell_type": "code",
   "execution_count": null,
   "metadata": {},
   "outputs": [],
   "source": [
    "\n",
    "import socket\n",
    "import pickle\n",
    "HOST = '127.0.0.1'  # The server's hostname or IP address\n",
    "PORT = 65432        # The port used by the server\n",
    "\n",
    "s = socket.socket(socket.AF_INET, socket.SOCK_STREAM)\n",
    "s.connect((HOST, PORT))"
   ]
  },
  {
   "cell_type": "code",
   "execution_count": null,
   "metadata": {},
   "outputs": [],
   "source": [
    "%%time\n",
    "\n",
    "s.sendall(b'Hello, world')\n",
    "data = s.recv(1024)\n",
    "print('Received', pickle.loads(data)) #repr(data)"
   ]
  },
  {
   "cell_type": "code",
   "execution_count": null,
   "metadata": {},
   "outputs": [],
   "source": [
    "s.close()"
   ]
  },
  {
   "cell_type": "code",
   "execution_count": null,
   "metadata": {},
   "outputs": [],
   "source": [
    "import time"
   ]
  },
  {
   "cell_type": "code",
   "execution_count": null,
   "metadata": {},
   "outputs": [],
   "source": [
    "import adept_envs\n",
    "import gym\n",
    "import glob\n",
    "import os\n",
    "#from parse_mjl import parse_mjl_logs\n",
    "from tqdm import tqdm\n",
    "import numpy as np"
   ]
  },
  {
   "cell_type": "code",
   "execution_count": null,
   "metadata": {},
   "outputs": [],
   "source": [
    "env = gym.make(\"kitchen_relax-v1\")"
   ]
  },
  {
   "cell_type": "code",
   "execution_count": null,
   "metadata": {},
   "outputs": [],
   "source": [
    "obs = env.reset()\n"
   ]
  },
  {
   "cell_type": "code",
   "execution_count": null,
   "metadata": {},
   "outputs": [],
   "source": [
    "env.render()\n"
   ]
  },
  {
   "cell_type": "code",
   "execution_count": null,
   "metadata": {},
   "outputs": [],
   "source": [
    "t0 = time.time()\n",
    "while(1):\n",
    "    joint_vels = np.zeros(9)\n",
    "    env.step(np.array(joint_vels))\n",
    "    t1 = time.time()\n",
    "    print(t1-t0)\n",
    "    t0=t1\n",
    "    env.render()"
   ]
  },
  {
   "cell_type": "code",
   "execution_count": null,
   "metadata": {},
   "outputs": [],
   "source": [
    "env.env.sim.model.key_qpos"
   ]
  },
  {
   "cell_type": "code",
   "execution_count": null,
   "metadata": {},
   "outputs": [],
   "source": [
    "demo_dir = os.getcwd() + '/' + \"kitchen_demos_multitask/\"\n",
    "\n",
    "demos = glob.glob(demo_dir + \"/**/*.mjl\", recursive=True)\n",
    "print([d.strip(demo_dir) for d in demos])"
   ]
  },
  {
   "cell_type": "code",
   "execution_count": null,
   "metadata": {},
   "outputs": [],
   "source": [
    "file = demos[1]\n",
    "skip = 20\n",
    "data = parse_mjl_logs(file, skip)\n",
    "data"
   ]
  },
  {
   "cell_type": "code",
   "execution_count": null,
   "metadata": {},
   "outputs": [],
   "source": [
    "%matplotlib inline \n",
    "import matplotlib.pyplot as plt\n",
    "def histo(x):\n",
    "    hist, bins = np.histogram(x, bins=50)\n",
    "    width = 0.7 * (bins[1] - bins[0])\n",
    "    center = (bins[:-1] + bins[1:]) / 2\n",
    "    plt.bar(center, hist, align='center', width=width)\n",
    "    plt.title(\"Trajectory Lengths\")\n",
    "    plt.show()"
   ]
  },
  {
   "cell_type": "code",
   "execution_count": null,
   "metadata": {},
   "outputs": [],
   "source": [
    "times = []\n",
    "frames = []\n",
    "timestep = []\n",
    "\n",
    "for file in tqdm(demos):\n",
    "    try:\n",
    "        skip = 1\n",
    "        data = parse_mjl_logs(file, skip)\n",
    "        times.append(data['time'][-1] - data['time'][0])\n",
    "        frames.append(len(data['ctrl']))\n",
    "    except:\n",
    "        pass\n",
    "\n",
    "histo(times)\n",
    "histo(frames)"
   ]
  },
  {
   "cell_type": "code",
   "execution_count": null,
   "metadata": {},
   "outputs": [],
   "source": [
    "print(data['ctrl'].shape, data['qpos'].shape, data['qvel'].shape)"
   ]
  },
  {
   "cell_type": "code",
   "execution_count": null,
   "metadata": {},
   "outputs": [],
   "source": [
    "file = demos[np.random.choice(len(demos))]\n",
    "skip = 40 # this is frame skip\n",
    "data = parse_mjl_logs(file, skip)\n",
    "env.reset()\n",
    "for i in range(0,len(data['qpos'])):\n",
    "    env.robot.reset(env, data['qpos'][i], data['qvel'][i])\n",
    "    env.render()"
   ]
  },
  {
   "cell_type": "markdown",
   "metadata": {},
   "source": [
    "# The issue!\n",
    "Now, the problem is that cntrl is at the full time frequency of the env - which is really fine. That means if frame skip is anything but 1 then the ctrl labels are wrong. Ideally we want a more reasonable time freq, which means we need to take the difference between the first 9 elements of q_pos, divide it by the time between and then that gives us our desired vel controls. Even better, tonight I'll modify the env for position control. \n",
    "\n",
    "See, the below fails - "
   ]
  },
  {
   "cell_type": "code",
   "execution_count": null,
   "metadata": {},
   "outputs": [],
   "source": [
    "env.reset()"
   ]
  },
  {
   "cell_type": "code",
   "execution_count": null,
   "metadata": {},
   "outputs": [],
   "source": []
  },
  {
   "cell_type": "code",
   "execution_count": null,
   "metadata": {},
   "outputs": [],
   "source": [
    "# playback demos and get data(physics respected)\n",
    "def gather_training_data(env, data, filename='demo_playback.mp4', render=None):\n",
    "    env = env.env\n",
    "    FPS = 30\n",
    "    render_skip = max(1, round(1. / \\\n",
    "        (FPS * env.sim.model.opt.timestep * env.frame_skip)))\n",
    "    t0 = timer.time()\n",
    "\n",
    "    # initialize\n",
    "    env.reset()\n",
    "    init_qpos = data['qpos'][0].copy()\n",
    "    init_qvel = data['qvel'][0].copy()\n",
    "    act_mid = env.act_mid\n",
    "    act_rng = env.act_amp\n",
    "\n",
    "    # prepare env\n",
    "    env.sim.data.qpos[:] = init_qpos\n",
    "    env.sim.data.qvel[:] = init_qvel\n",
    "    env.sim.forward()\n",
    "    #viewer(env, mode='initialize', render=render)\n",
    "\n",
    "    # step the env and gather data\n",
    "    path_obs = None\n",
    "    for i_frame in range(data['ctrl'].shape[0] - 1):\n",
    "        # Reset every time step\n",
    "        # if i_frame % 1 == 0:\n",
    "        #     qp = data['qpos'][i_frame].copy()\n",
    "        #     qv = data['qvel'][i_frame].copy()\n",
    "        #     env.sim.data.qpos[:] = qp\n",
    "        #     env.sim.data.qvel[:] = qv\n",
    "        #     env.sim.forward()\n",
    "\n",
    "        obs = env._get_obs()\n",
    "\n",
    "        # Construct the action\n",
    "        # ctrl = (data['qpos'][i_frame + 1][:9] - obs[:9]) / (env.skip * env.model.opt.timestep)\n",
    "        ctrl = (data['ctrl'][i_frame] - obs[:9])/(env.skip*env.model.opt.timestep)\n",
    "        act = (ctrl - act_mid) / act_rng\n",
    "        act = np.clip(act, -0.999, 0.999)\n",
    "        next_obs, reward, done, env_info = env.step(act)\n",
    "        if path_obs is None:\n",
    "            path_obs = obs\n",
    "            path_act = act\n",
    "        else:\n",
    "            path_obs = np.vstack((path_obs, obs))\n",
    "            path_act = np.vstack((path_act, act))\n",
    "\n",
    "        # render when needed to maintain FPS\n",
    "        if i_frame % render_skip == 0:\n",
    "            #viewer(env, mode='render', render=render)\n",
    "            print(i_frame, end=', ', flush=True)\n",
    "            env.render()\n",
    "#     # finalize\n",
    "#     if render:\n",
    "#         viewer(env, mode='save', filename=filename, render=render)\n",
    "\n",
    "    t1 = timer.time()\n",
    "    print(\"time taken = %f\" % (t1 - t0))\n",
    "\n",
    "    # note that <init_qpos, init_qvel> are one step away from <path_obs[0], path_act[0]>\n",
    "    return path_obs, path_act, init_qpos, init_qvel"
   ]
  },
  {
   "cell_type": "code",
   "execution_count": null,
   "metadata": {},
   "outputs": [],
   "source": [
    "\n",
    "\n",
    "import time as timer\n",
    "file = demos[np.random.choice(len(demos))]\n",
    "skip = 40 # this is frame skip\n",
    "data = parse_mjl_logs(file, skip)\n",
    "render = True\n",
    "obs, act,init_qpos, init_qvel = gather_training_data(env, data,\\\n",
    "                filename=data['logName'][:-4]+'_playback.mp4', render=render)"
   ]
  },
  {
   "cell_type": "code",
   "execution_count": null,
   "metadata": {},
   "outputs": [],
   "source": [
    "print(len(obs))\n",
    "env.robot.reset(env, init_qpos, init_qvel)\n",
    "for i in range(0,len(act)):\n",
    "    #rel_vector = data['qpos'][i+1][:9]-data['qpos'][i][:9]\n",
    "    #vel = rel_vector / 0.08\n",
    "    \n",
    "    #env.robot.reset(env, data['qpos'][i], data['qvel'][i])\n",
    "    env.step(act[i]) # the key change\n",
    "    env.render()"
   ]
  },
  {
   "cell_type": "code",
   "execution_count": null,
   "metadata": {},
   "outputs": [],
   "source": [
    "glob.glob('./kitchen_demos_multitask/*')"
   ]
  },
  {
   "cell_type": "code",
   "execution_count": null,
   "metadata": {},
   "outputs": [],
   "source": [
    "import multiprocessing\n",
    "import subprocess\n",
    "import shlex\n",
    "from multiprocessing.pool import ThreadPool\n",
    "import glob\n",
    "def call_proc(cmd):\n",
    "    \"\"\" This runs in a separate thread. \"\"\"\n",
    "    p = subprocess.Popen(shlex.split(cmd), stdout=subprocess.PIPE, stderr=subprocess.PIPE)\n",
    "    out, err = p.communicate()\n",
    "    return (out, err)\n",
    "\n",
    "pool = ThreadPool(multiprocessing.cpu_count()//2)\n",
    "results = []\n",
    "for path in glob.glob('./kitchen_demos_multitask/*'):\n",
    "    cmd = f'python3 relay-policy-learning/adept_envs/adept_envs/utils/parse_demos.py --env \"kitchen_relax-v1\" -d \"{path}/\" -s \"40\" -v \"playback\" -r \"offscreen\"'\n",
    "    results.append(pool.apply_async(call_proc, (cmd,)))\n",
    "# Close the pool and wait for each running task to complete\n",
    "pool.close()\n",
    "pool.join()\n",
    "for result in results:\n",
    "    out, err = result.get()\n",
    "    print(f\"out: {out.decode()}\")\n",
    "    print(f\"err: {err.decode()}\")"
   ]
  },
  {
   "cell_type": "markdown",
   "metadata": {},
   "source": [
    "# Env Info \n",
    "\n",
    "## Action Space\n",
    "\n",
    "Action space is 9 dimensional, commanded via velocity. In franka robot.py, the function cntrl_velocity_limits bounds the desired velocity step, then returns a next desired positon (prevpos + cntrl_vel*step_size), so really rather than absolute position it is commanding desired pos, using a relative offset commanded via velocity assuming a constant timestep (0.08). This means it'd be easy to adapt to commanding via relative positon, or velocity. \n",
    "\n",
    "## Obs Space\n",
    "\n",
    "60 Dimensional. 9 for self, 21 for obs, 30 for goal. Self is unused in reward computation, only the following indices are \n",
    "\n"
   ]
  },
  {
   "cell_type": "code",
   "execution_count": null,
   "metadata": {},
   "outputs": [],
   "source": [
    "OBS_ELEMENT_INDICES = {\n",
    "    'bottom burner': np.array([11, 12]),\n",
    "    'top burner': np.array([15, 16]),\n",
    "    'light switch': np.array([17, 18]),\n",
    "    'slide cabinet': np.array([19]),\n",
    "    'hinge cabinet': np.array([20, 21]),\n",
    "    'microwave': np.array([22]),\n",
    "    'kettle': np.array([23, 24, 25, 26, 27, 28, 29]),\n",
    "    }"
   ]
  },
  {
   "cell_type": "markdown",
   "metadata": {},
   "source": [
    "We can reset it to any qpos,qvel self.robot.reset(self, reset_pos, reset_vel) (sizes 30, 29). qvel is actually returned as 30 dimensional internally (but never used so its not an issue. This off by one issue comes from the sim not returning the vel of one of the object elements I think, can't find out which one though. Not a big issue, vel isn't part of the obs state so clearly not that key."
   ]
  },
  {
   "cell_type": "code",
   "execution_count": null,
   "metadata": {},
   "outputs": [],
   "source": [
    "energy_usage = 200000 # TWH\n",
    "coal_energy_per_ton = 0.00000000029 * 0.001 # Coal energy per ton in Terwatt hours\n",
    "carbon_produced = 60 # GT\n",
    "c02_emitted_per_ton = 9.2668921e-11"
   ]
  },
  {
   "cell_type": "code",
   "execution_count": null,
   "metadata": {},
   "outputs": [],
   "source": [
    "energy_usage/coal_energy_per_ton"
   ]
  },
  {
   "cell_type": "code",
   "execution_count": null,
   "metadata": {},
   "outputs": [],
   "source": [
    "carbon_produced/c02_emitted_per_ton"
   ]
  },
  {
   "cell_type": "code",
   "execution_count": null,
   "metadata": {},
   "outputs": [],
   "source": []
  }
 ],
 "metadata": {
  "kernelspec": {
   "display_name": "Python 3",
   "language": "python",
   "name": "python3"
  },
  "language_info": {
   "codemirror_mode": {
    "name": "ipython",
    "version": 3
   },
   "file_extension": ".py",
   "mimetype": "text/x-python",
   "name": "python",
   "nbconvert_exporter": "python",
   "pygments_lexer": "ipython3",
   "version": "3.7.4"
  }
 },
 "nbformat": 4,
 "nbformat_minor": 2
}
