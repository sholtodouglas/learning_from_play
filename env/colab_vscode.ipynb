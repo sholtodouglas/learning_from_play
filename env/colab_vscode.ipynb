{
 "metadata": {
  "language_info": {
   "codemirror_mode": {
    "name": "ipython",
    "version": 3
   },
   "file_extension": ".py",
   "mimetype": "text/x-python",
   "name": "python",
   "nbconvert_exporter": "python",
   "pygments_lexer": "ipython3",
   "version": 3
  },
  "orig_nbformat": 2
 },
 "nbformat": 4,
 "nbformat_minor": 2,
 "cells": [
  {
   "cell_type": "code",
   "execution_count": null,
   "metadata": {},
   "outputs": [],
   "source": [
    "##################################################################\n",
    "# Copy this box into the first cell of a colab notebook and run it. \n",
    "\n",
    "# After opening VSCode, open a terminal within code and run \"bash env/vscode_extension.sh\" \n",
    "# to install Python extensions on the colab runtime\n",
    "##################################################################\n",
    "\n",
    "# set up git credientials (needed if you want to commit)\n",
    "INIT_GIT_CREDS = True\n",
    "GIT_BRANCH = \"dvae_plan\"\n",
    "\n",
    "# Install colab_ssh on google colab\n",
    "!pip install colab_ssh --upgrade\n",
    "\n",
    "from colab_ssh import launch_ssh_cloudflared, init_git_cloudflared\n",
    "launch_ssh_cloudflared(password=\"melons69\")\n",
    "\n",
    "if INIT_GIT_CREDS:\n",
    "    from google.colab import drive, auth\n",
    "    import os\n",
    "    drive.mount('/content/drive')\n",
    "\n",
    "    init_git_cloudflared(\"https://github.com/sholtodouglas/learning_from_play\",\n",
    "         branch=GIT_BRANCH,\n",
    "         email=open('/content/drive/MyDrive/colab/git_email.txt').read(),\n",
    "         username=open('/content/drive/MyDrive/colab/git_user.txt').read(),\n",
    "    )\n",
    "else:\n",
    "    init_git_cloudflared(\"https://github.com/sholtodouglas/learning_from_play\",             branch=GIT_BRANCH\n",
    "    )\n",
    "\n",
    "\n"
   ]
  }
 ]
}