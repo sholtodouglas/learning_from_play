{
 "cells": [
  {
   "cell_type": "markdown",
   "metadata": {},
   "source": [
    "![Failure](https://media1.tenor.com/images/4df194bf79b2b5574248dadfd1cbc61d/tenor.gif?itemid=14856860)"
   ]
  },
  {
   "cell_type": "code",
   "execution_count": 1,
   "metadata": {},
   "outputs": [],
   "source": [
    "# Plan for tomorrow\n",
    "# Confirm dataset.\n",
    "# BC on this, would be legit to use ray to run a separate thread constantly evaling. \n",
    "# Multimodal, logloss minimisation. \n",
    "# By the end of tomorrow, we should have that working better than MSE on pmO\n",
    "# Try it on pickyplace\n",
    "# By thursday, be collecting data, make sure env is deterministically resettable. \n",
    "import numpy as np\n",
    "import tensorflow as tf\n",
    "import matplotlib.pyplot as plt\n",
    "import tensorflow_probability as tfp\n",
    "tfd = tfp.distributions\n",
    "tfb = tfp.bijectors\n",
    "\n",
    "PLAY = True\n",
    "PROBS = True\n",
    "SEQ = True\n",
    "\n",
    "physical_devices = tf.config.list_physical_devices('GPU')\n",
    "tf.config.experimental.set_memory_growth(physical_devices[0], enable=True)"
   ]
  },
  {
   "cell_type": "markdown",
   "metadata": {},
   "source": [
    "# Load Data"
   ]
  },
  {
   "cell_type": "code",
   "execution_count": 34,
   "metadata": {},
   "outputs": [],
   "source": [
    "# Discrete Examples \n",
    "discrete = \"collected_data/17100experiment_2_HER_pointMassObject-v0.npz\"\n",
    "\n",
    "play = \"collected_data/17000_play_pointMassObject-v0.npz\"\n",
    "play = \"collected_data/17000experiment_2_HER_pointMassObject-v0.npz\"\n",
    "\n",
    "if PLAY:\n",
    "    data = np.load(play)\n",
    "else:\n",
    "    data = np.load(discrete)\n",
    "    \n",
    "train_partition = 0.8\n",
    "N_TRAJS = len(data['obs'])\n",
    "TRAJ_LEN = len(data['obs'][0])\n",
    "train_data = {key:value[:int(N_TRAJS*train_partition)] for key, value in data.items()}\n",
    "valid_data = {key:value[int(N_TRAJS*train_partition):] for key, value in data.items()}\n",
    "# Data comes out as n_trajs, length_of_traj, dimension.\n",
    "\n",
    "def get_discrete_batch(data, batch_size = 64):\n",
    "    obs, goals, acts = data['obs'], data['desired_goals'], data['acts']\n",
    "    n_trajs, len_trajs = obs.shape[0], obs.shape[1]\n",
    "    traj_idxs = np.random.choice(n_trajs, batch_size)\n",
    "    timestep_idxs = np.random.choice(len_trajs, batch_size)\n",
    "    batch_obs = obs[traj_idxs,timestep_idxs,:]\n",
    "    batch_goals = goals[traj_idxs,timestep_idxs,:]\n",
    "    batch_acts  = acts[traj_idxs,timestep_idxs,:]\n",
    "    return batch_obs, batch_goals, batch_acts\n",
    "    \n",
    "# Play Examples\n",
    "# TBC\n",
    "\n",
    "# Okay in this function steps will be\n",
    "# choose random start index, choose random end_index within certain window\n",
    "# end of trajectory achieved goal is goal. \n",
    "# i.e, choose random index, choose random index from 1 - maxlen clip at end.\n",
    "# that ag is goal. \n",
    "# return, yay!\n",
    "def get_play_batch(data, batch_size = 64, max_ep_len = 100):\n",
    "    obs, ags, acts = data['obs'], data['achieved_goals'], data['acts']\n",
    "    n_trajs, len_trajs = obs.shape[0], obs.shape[1]\n",
    "    traj_idxs = np.random.choice(n_trajs, batch_size)\n",
    "    timestep_idxs = np.random.choice(len_trajs, batch_size)\n",
    "    goal_offset = np.random.randint(0, max_ep_len, batch_size)\n",
    "    goal_idxs = np.clip(timestep_idxs + goal_offset, 0, len_trajs-1)\n",
    "    batch_obs = obs[traj_idxs,timestep_idxs,:]\n",
    "    batch_goals = ags[traj_idxs,goal_idxs,:]\n",
    "    batch_acts  = acts[traj_idxs,timestep_idxs,:]\n",
    "    return batch_obs, batch_goals, batch_acts\n",
    "\n",
    "def get_play_sequence_batch(data, batch_size=64, max_ep_len=100, seq_len = 30):\n",
    "    \n",
    "    obs, ags, acts = data['obs'], data['achieved_goals'], data['acts']\n",
    "    n_trajs, len_trajs = obs.shape[0], obs.shape[1]\n",
    "    traj_idxs = np.random.choice(n_trajs, batch_size)\n",
    "    # First timestep\n",
    "    timestep_idxs = np.random.choice(len_trajs-seq_len, batch_size)\n",
    "    # Goal Pos\n",
    "    goal_offset = np.random.randint(seq_len, max_ep_len, batch_size)\n",
    "    goal_idxs = np.clip(timestep_idxs + goal_offset, 0, len_trajs-1)\n",
    "\n",
    "    trajectories_obs = []\n",
    "    trajectories_goals = []\n",
    "    trajectories_acts = []\n",
    "    for i in range(0, batch_size):\n",
    "\n",
    "        batch_obs = trajectories_obs.append(obs[traj_idxs[i],timestep_idxs[i]:timestep_idxs[i]+seq_len,:])\n",
    "        batch_acts = trajectories_acts.append(acts[traj_idxs[i],timestep_idxs[i]:timestep_idxs[i]+seq_len,:])\n",
    "        batch_goals = trajectories_goals.append(ags[traj_idxs[i],goal_idxs[i],:])\n",
    "\n",
    "    return np.array(trajectories_obs), np.tile(np.expand_dims(np.array(trajectories_goals), axis = 1), (seq_len, 1)), np.array(trajectories_acts)\n",
    "    \n",
    "\n",
    "    \n",
    "if PLAY:\n",
    "    if SEQ:\n",
    "        get_batch = get_play_sequence_batch\n",
    "    else:\n",
    "        get_batch = get_play_batch\n",
    "else:\n",
    "    get_batch = get_discrete_batch\n",
    "# Play, but with Sequences"
   ]
  },
  {
   "cell_type": "code",
   "execution_count": 35,
   "metadata": {},
   "outputs": [],
   "source": [
    "seq_len = 30 \n",
    "batch_size = 64\n",
    "max_ep_len = 150\n"
   ]
  },
  {
   "cell_type": "markdown",
   "metadata": {},
   "source": [
    "# Get Environment Params"
   ]
  },
  {
   "cell_type": "code",
   "execution_count": 36,
   "metadata": {},
   "outputs": [],
   "source": [
    "act_dim = train_data['acts'].shape[-1]"
   ]
  },
  {
   "cell_type": "markdown",
   "metadata": {},
   "source": [
    "# Models"
   ]
  },
  {
   "cell_type": "code",
   "execution_count": 37,
   "metadata": {},
   "outputs": [],
   "source": [
    "\n",
    "class deterministic_MLP(tf.keras.Model):\n",
    "\n",
    "    def __init__(self, act_dim, layer_size = 256):\n",
    "        super(deterministic_MLP, self).__init__()\n",
    "        self.dense1 = tf.keras.layers.Dense(layer_size, activation=tf.nn.relu)\n",
    "        self.dense2 = tf.keras.layers.Dense(layer_size, activation=tf.nn.relu)\n",
    "        self.dense3 = tf.keras.layers.Dense(layer_size, activation=tf.nn.relu)\n",
    "        self.out = tf.keras.layers.Dense(act_dim, activation=None)\n",
    "\n",
    "    def call(self, inputs, training=False):\n",
    "        x = self.dense1(inputs)\n",
    "        x = self.dense2(x)\n",
    "        x = self.dense3(x)\n",
    "        return self.out(x)\n",
    "    \n",
    "    def act(self, inputs):\n",
    "        return self.call(inputs)\n",
    "    \n",
    "class stochastic_MLP(tf.keras.Model):\n",
    "\n",
    "    def __init__(self, act_dim, num_distribs = 3, layer_size = 256):\n",
    "        super(stochastic_MLP, self).__init__()\n",
    "        self.num_distribs = num_distribs\n",
    "        self.act_dim = act_dim\n",
    "        self.dense1 = tf.keras.layers.Dense(layer_size, activation=tf.nn.relu)\n",
    "        self.dense2 = tf.keras.layers.Dense(layer_size, activation=tf.nn.relu)\n",
    "        self.dense3 = tf.keras.layers.Dense(layer_size, activation=tf.nn.relu)\n",
    "        self.mu = tf.keras.layers.Dense(act_dim*num_distribs, activation=None)\n",
    "        self.scale = tf.keras.layers.Dense(act_dim*num_distribs, activation=\"softplus\")\n",
    "        self.weightings = tf.keras.layers.Dense(act_dim*num_distribs, activation=\"softplus\")\n",
    "\n",
    "    def call(self, inputs, training=False):\n",
    "        x = self.dense1(inputs)\n",
    "        x = self.dense2(x)\n",
    "        x = self.dense3(x)\n",
    "        mu, scale, weightings = self.mu(x), self.scale(x), self.weightings(x)\n",
    "        mu, scale, weightings = tf.reshape(mu, (-1, self.act_dim, self.num_distribs)), tf.reshape(scale, (-1, self.act_dim, self.num_distribs)), tf.reshape(weightings, (-1, self.act_dim, self.num_distribs))\n",
    "        dist = tfd.Logistic(loc=mu, scale=scale)\n",
    "        \n",
    "        mixture = tfd.MixtureSameFamily(mixture_distribution=tfd.Categorical(\n",
    "                          probs=weightings),components_distribution=dist)\n",
    "        \n",
    "        return mixture\n",
    "    \n",
    "    def act(self, inputs):\n",
    "        return self.call(inputs).sample()\n",
    "    \n",
    "    \n",
    "class LSTM(tf.keras.Model):\n",
    "\n",
    "    def __init__(self, act_dim, num_distribs = 3, layer_size = 256):\n",
    "        super(LSTM, self).__init__()\n",
    "        self.num_distribs = num_distribs\n",
    "        self.act_dim = act_dim\n",
    "\n",
    "\n",
    "        self.RNN1 = tf.keras.layers.LSTM(layer_size, return_sequences=True, return_state = True)\n",
    "        self.RNN2 = tf.keras.layers.LSTM(layer_size, return_sequences=True, return_state = True)\n",
    "        self.mu = tf.keras.layers.Dense(act_dim*num_distribs, activation=None)\n",
    "        self.scale = tf.keras.layers.Dense(act_dim*num_distribs, activation=\"softplus\")\n",
    "        self.weightings = tf.keras.layers.Dense(act_dim*num_distribs, activation=\"softplus\")\n",
    "\n",
    "    def call(self, inputs, training=False, past_state = None):\n",
    "        B = inputs.shape[0]\n",
    "        state_out = None\n",
    "        if len(inputs.shape) == 3:\n",
    "            [x, _, _] = self.RNN1(inputs)\n",
    "            [x, _, _] = self.RNN2(x)\n",
    "        else:\n",
    "            x = tf.expand_dims(inputs,1)\n",
    "            [x, s1l1, s2l1] = self.RNN1(x, initial_state = past_state[0])\n",
    "            [x, s1l2, s2l2] = self.RNN2(x, initial_state = past_state[1])\n",
    "            state_out = [[s1l1, s2l1], [s1l2, s2l2]]\n",
    "            \n",
    "\n",
    "        mu, scale, weightings = self.mu(x), self.scale(x), self.weightings(x)\n",
    "        mu, scale, weightings = tf.reshape(mu, (B, -1, self.act_dim, self.num_distribs)), tf.reshape(scale, (B, -1, self.act_dim, self.num_distribs)), tf.reshape(weightings, (B, -1, self.act_dim, self.num_distribs))\n",
    "        dist = tfd.Logistic(loc=mu, scale=scale)\n",
    "        \n",
    "        mixture = tfd.MixtureSameFamily(mixture_distribution=tfd.Categorical(\n",
    "                          probs=weightings),components_distribution=dist)\n",
    "        if state_out is None:\n",
    "            return mixture\n",
    "        else:\n",
    "            return mixture, state_out\n",
    "    "
   ]
  },
  {
   "cell_type": "code",
   "execution_count": 38,
   "metadata": {},
   "outputs": [],
   "source": [
    "obs, goals, acts = get_batch(data)\n",
    "\n",
    "model = LSTM(act_dim)"
   ]
  },
  {
   "cell_type": "code",
   "execution_count": null,
   "metadata": {},
   "outputs": [],
   "source": []
  },
  {
   "cell_type": "markdown",
   "metadata": {},
   "source": [
    "# Steps"
   ]
  },
  {
   "cell_type": "code",
   "execution_count": 39,
   "metadata": {},
   "outputs": [],
   "source": [
    "def step(data, model):\n",
    "    obs, goals, acts = get_batch(data)\n",
    "    mu = model(np.concatenate([obs, goals], axis = -1))\n",
    "    loss = tf.reduce_mean(tf.losses.MSE(mu, acts))\n",
    "    return loss\n",
    "\n",
    "def probabilistic_step(data, model):\n",
    "    obs, goals, acts = get_batch(data)\n",
    "    mixture = model(np.concatenate([obs, goals], axis = -1))\n",
    "    loss = -tf.reduce_mean(mixture.log_prob(acts))\n",
    "    return loss\n",
    "    \n",
    "def train_step(data, model, optimizer):\n",
    "    with tf.GradientTape() as tape:\n",
    "        loss = step(data, model)\n",
    "        \n",
    "    variables = model.trainable_variables\n",
    "    gradients = tape.gradient(loss, variables)\n",
    "    optimizer.apply_gradients(zip(gradients, variables))\n",
    "    return loss.numpy()\n",
    "        "
   ]
  },
  {
   "cell_type": "markdown",
   "metadata": {},
   "source": [
    "# Setup"
   ]
  },
  {
   "cell_type": "code",
   "execution_count": 40,
   "metadata": {},
   "outputs": [],
   "source": [
    "optimizer = tf.keras.optimizers.Adam(learning_rate=1e-4)\n",
    "\n",
    "if PROBS:\n",
    "    step = probabilistic_step\n",
    "    if SEQ:\n",
    "        model = LSTM(act_dim = act_dim)\n",
    "    else:\n",
    "        model = stochastic_MLP(act_dim = act_dim)\n",
    "else:\n",
    "    model = deterministic_MLP(act_dim=act_dim)\n"
   ]
  },
  {
   "cell_type": "markdown",
   "metadata": {},
   "source": [
    "# Loop"
   ]
  },
  {
   "cell_type": "code",
   "execution_count": null,
   "metadata": {},
   "outputs": [
    {
     "name": "stdout",
     "output_type": "stream",
     "text": [
      "Step: 0, L: 1.0740087032318115, Valid_L: 1.0869596004486084\n",
      "Step: 200, L: -0.022151874378323555, Valid_L: -0.0007705470197834074\n",
      "Step: 400, L: -0.3097715377807617, Valid_L: 0.022060556337237358\n",
      "Step: 600, L: -0.31272226572036743, Valid_L: -0.23690436780452728\n",
      "Step: 800, L: -0.6832680106163025, Valid_L: -0.27462464570999146\n",
      "Step: 1000, L: -0.5761536359786987, Valid_L: -0.4794583022594452\n",
      "Step: 1200, L: -0.8475264310836792, Valid_L: -0.3583211898803711\n",
      "Step: 1400, L: -0.7685176730155945, Valid_L: -0.8555169701576233\n",
      "Step: 1600, L: -0.7889865040779114, Valid_L: -0.6481688022613525\n",
      "Step: 1800, L: -0.46501773595809937, Valid_L: -0.44652944803237915\n",
      "Step: 2000, L: -1.0151876211166382, Valid_L: -0.5457130074501038\n",
      "Step: 2200, L: -0.6421003341674805, Valid_L: -0.4531417191028595\n",
      "Step: 2400, L: -0.981063961982727, Valid_L: -0.8231828212738037\n"
     ]
    }
   ],
   "source": [
    "n_steps = 6000\n",
    "t = 0\n",
    "steps = []\n",
    "losses = []\n",
    "valid_losses = []\n",
    "\n",
    "# TODO RAY async trajectories in background\n",
    "for t in range(0, n_steps):\n",
    "    loss = train_step(train_data, model, optimizer)\n",
    "    steps.append(t)\n",
    "    losses.append(loss)\n",
    "    valid_loss = step(valid_data, model)\n",
    "    valid_losses.append(valid_loss)\n",
    "    \n",
    "    if t % 200 == 0:\n",
    "        print(f\"Step: {t}, L: {loss}, Valid_L: {valid_loss}\")\n",
    "    \n",
    "    \n",
    "plt.plot(steps, losses)\n",
    "plt.plot(steps, valid_losses)"
   ]
  },
  {
   "cell_type": "code",
   "execution_count": 32,
   "metadata": {
    "scrolled": true
   },
   "outputs": [
    {
     "name": "stdout",
     "output_type": "stream",
     "text": [
      "seeding\n",
      "Environment set to sparse reward\n"
     ]
    },
    {
     "name": "stderr",
     "output_type": "stream",
     "text": [
      "/home/sholto/anaconda3/lib/python3.7/site-packages/gym/logger.py:30: UserWarning: \u001b[33mWARN: Box bound precision lowered by casting to float32\u001b[0m\n",
      "  warnings.warn(colorize('%s: %s'%('WARN', msg % args), 'yellow'))\n"
     ]
    },
    {
     "data": {
      "text/plain": [
       "{'observation': array([-0.5110744,  0.8873154,  0.       ,  0.       , -1.5890244,\n",
       "        -0.5979215,  0.       ,  0.       ], dtype=float32),\n",
       " 'achieved_goal': array([-1.5890244, -0.5979215], dtype=float32),\n",
       " 'desired_goal': array([-0.7848987 , -0.37147924], dtype=float32),\n",
       " 'extra_info': array([0.4, 0. , 0. , 0. , 1. ], dtype=float32),\n",
       " 'controllable_achieved_goal': array([-0.5110744,  0.8873154], dtype=float32),\n",
       " 'full_positional_state': array([-0.5110744,  0.8873154, -1.5890244, -0.5979215], dtype=float32),\n",
       " 'image': array([[[236, 236, 236],\n",
       "         [234, 234, 234],\n",
       "         [232, 232, 232],\n",
       "         ...,\n",
       "         [197, 197, 197],\n",
       "         [227, 227, 227],\n",
       "         [227, 227, 227]],\n",
       " \n",
       "        [[235, 235, 235],\n",
       "         [233, 233, 233],\n",
       "         [232, 232, 232],\n",
       "         ...,\n",
       "         [197, 197, 197],\n",
       "         [197, 197, 197],\n",
       "         [197, 197, 197]],\n",
       " \n",
       "        [[235, 235, 235],\n",
       "         [233, 233, 233],\n",
       "         [232, 232, 232],\n",
       "         ...,\n",
       "         [197, 197, 197],\n",
       "         [197, 197, 197],\n",
       "         [197, 197, 197]],\n",
       " \n",
       "        ...,\n",
       " \n",
       "        [[227, 227, 227],\n",
       "         [197, 197, 197],\n",
       "         [197, 197, 197],\n",
       "         ...,\n",
       "         [227, 227, 227],\n",
       "         [227, 227, 227],\n",
       "         [227, 227, 227]],\n",
       " \n",
       "        [[227, 227, 227],\n",
       "         [227, 227, 227],\n",
       "         [197, 197, 197],\n",
       "         ...,\n",
       "         [227, 227, 227],\n",
       "         [227, 227, 227],\n",
       "         [227, 227, 227]],\n",
       " \n",
       "        [[227, 227, 227],\n",
       "         [227, 227, 227],\n",
       "         [227, 227, 227],\n",
       "         ...,\n",
       "         [197, 197, 197],\n",
       "         [227, 227, 227],\n",
       "         [227, 227, 227]]], dtype=uint8)}"
      ]
     },
     "execution_count": 32,
     "metadata": {},
     "output_type": "execute_result"
    }
   ],
   "source": [
    "import gym\n",
    "import pointMass\n",
    "\n",
    "env_name = 'pointMassObject-v0' \n",
    "env = gym.make(env_name)\n",
    "env.render(mode='human')\n",
    "env.reset()\n"
   ]
  },
  {
   "cell_type": "code",
   "execution_count": 31,
   "metadata": {},
   "outputs": [],
   "source": [
    "\n",
    "def trajectory(env, actor, n_steps = 300):\n",
    "    obs = env.reset()\n",
    "    reward = 0\n",
    "    for t in range(0, n_steps):\n",
    "        flattened_obs  = np.expand_dims(np.concatenate((obs['observation'], obs['desired_goal'])), axis = 0)\n",
    "        a = actor(flattened_obs).numpy().squeeze()\n",
    "        obs, r, d, _  =  env.step(a)\n",
    "        reward += r\n",
    "    return reward\n",
    "    \n",
    "    \n",
    "def trajectory_LSTM(env, actor, n_steps = 300):\n",
    "    obs = env.reset()\n",
    "    reward = 0\n",
    "    past_state = [None, None]\n",
    "    for t in range(0, n_steps):\n",
    "        flattened_obs  = np.expand_dims(np.concatenate((obs['observation'], obs['desired_goal'])), axis = 0)\n",
    "        distrib, past_state = actor(flattened_obs, past_state = past_state)\n",
    "        a = distrib.sample().numpy().squeeze()\n",
    "        obs, r, d, _  =  env.step(a)\n",
    "        reward += r\n",
    "    return reward\n",
    "    \n"
   ]
  },
  {
   "cell_type": "code",
   "execution_count": 111,
   "metadata": {},
   "outputs": [
    {
     "name": "stdout",
     "output_type": "stream",
     "text": [
      "Avg reward: -300.0\n"
     ]
    }
   ],
   "source": [
    "rews = []\n",
    "for i in range(0,10):\n",
    "    r = trajectory(env, model.act)\n",
    "    rews.append(r)\n",
    "    \n",
    "print(f\"Avg reward: {np.mean(rews)}\")"
   ]
  },
  {
   "cell_type": "code",
   "execution_count": 33,
   "metadata": {},
   "outputs": [
    {
     "name": "stdout",
     "output_type": "stream",
     "text": [
      "Avg reward: -300.0\n"
     ]
    }
   ],
   "source": [
    "rews = []\n",
    "for i in range(0,10):\n",
    "    r = trajectory_LSTM(env, model)\n",
    "    rews.append(r)\n",
    "    \n",
    "print(f\"Avg reward: {np.mean(rews)}\")"
   ]
  },
  {
   "cell_type": "code",
   "execution_count": 23,
   "metadata": {},
   "outputs": [],
   "source": [
    "r = trajectory(env, model)"
   ]
  },
  {
   "cell_type": "code",
   "execution_count": 20,
   "metadata": {},
   "outputs": [
    {
     "data": {
      "text/plain": [
       "Text(0, 0.5, 'probability density function')"
      ]
     },
     "execution_count": 20,
     "metadata": {},
     "output_type": "execute_result"
    },
    {
     "data": {
      "image/png": "[encoded data removed]",
      "text/plain": [
       "<Figure size 1008x360 with 1 Axes>"
      ]
     },
     "metadata": {
      "needs_background": "light"
     },
     "output_type": "display_data"
    }
   ],
   "source": [
    "plt.figure(figsize=(14,5))\n",
    "\n",
    "vals = np.linspace(-10,10,1000) \n",
    "\n",
    "plt.subplot(1,2,1)\n",
    "dist1 = tfd.Logistic(loc=1, scale=1)\n",
    "dist2 = tfd.Logistic(loc=1, scale=0.25)\n",
    "dist3 = tfd.Logistic(loc=1, scale=2)\n",
    "\n",
    "plt.plot(vals, dist1.prob(vals)) \n",
    "plt.plot(vals, dist2.prob(vals),ls='-.') \n",
    "plt.plot(vals, dist3.prob(vals),ls='--') \n",
    "plt.legend(['scale=1', 'scale=0.25','scale=2'], loc='upper left')\n",
    "plt.xlabel('x',fontsize=14)\n",
    "plt.ylabel('probability density function',fontsize=14)"
   ]
  },
  {
   "cell_type": "code",
   "execution_count": 21,
   "metadata": {},
   "outputs": [
    {
     "name": "stdout",
     "output_type": "stream",
     "text": [
      "tf.Tensor(\n",
      "[-0.02357459  1.7692838  -0.2844516   2.9863887   3.329588   -1.2933505\n",
      "  0.79749805  0.618767    1.4566758   2.8497102 ], shape=(10,), dtype=float32)\n",
      "tf.Tensor(\n",
      "[1.2614286 1.1203889 2.0100746 0.5486329 0.758076  1.1554234 0.839096\n",
      " 0.9881134 2.1722555 0.9454233], shape=(10,), dtype=float32)\n",
      "tf.Tensor(\n",
      "[ 2.7993531  -2.0837471   0.47651815  3.3928833   0.78006256 -3.7851825\n",
      "  3.3171556   0.6450751   1.288413    9.982046  ], shape=(10,), dtype=float32)\n"
     ]
    }
   ],
   "source": [
    "print(dist1.sample(10))\n",
    "print(dist2.sample(10))\n",
    "print(dist3.sample(10))"
   ]
  },
  {
   "cell_type": "code",
   "execution_count": 32,
   "metadata": {},
   "outputs": [
    {
     "data": {
      "image/png": "[encoded data removed]",
      "text/plain": [
       "<Figure size 432x288 with 1 Axes>"
      ]
     },
     "metadata": {
      "needs_background": "light"
     },
     "output_type": "display_data"
    }
   ],
   "source": [
    "weightings = [1,1,1]\n",
    "dist = tfd.Logistic(loc=[-1, 0.6, 1.5], scale=[0.1, 1, 0.3])\n",
    "mixture = tfd.MixtureSameFamily(mixture_distribution=tfd.Categorical(\n",
    "                  probs=weightings),components_distribution=dist)\n",
    "\n",
    "# Plot PDF.\n",
    "x = np.linspace(-2., 3., int(1e4), dtype=np.float32)\n",
    "import matplotlib.pyplot as plt\n",
    "plt.plot(x, mixture.prob(x));"
   ]
  },
  {
   "cell_type": "code",
   "execution_count": 26,
   "metadata": {},
   "outputs": [
    {
     "data": {
      "image/png": "[encoded data removed]",
      "text/plain": [
       "<Figure size 432x288 with 1 Axes>"
      ]
     },
     "metadata": {
      "needs_background": "light"
     },
     "output_type": "display_data"
    }
   ],
   "source": [
    "\n",
    "gm = tfd.MixtureSameFamily(\n",
    "    mixture_distribution=tfd.Categorical(\n",
    "        probs=[0.3, 0.7]),\n",
    "    components_distribution=tfd.Normal(\n",
    "      loc=[-1., 1],       # One for each component.\n",
    "      scale=[0.1, 0.5]))  # And same here.\n",
    "\n",
    "gm.mean()\n",
    "# ==> 0.4\n",
    "\n",
    "gm.variance()\n",
    "# ==> 1.018\n",
    "\n",
    "# Plot PDF.\n",
    "x = np.linspace(-2., 3., int(1e4), dtype=np.float32)\n",
    "import matplotlib.pyplot as plt\n",
    "plt.plot(x, gm.prob(x));"
   ]
  },
  {
   "cell_type": "code",
   "execution_count": null,
   "metadata": {},
   "outputs": [],
   "source": []
  }
 ],
 "metadata": {
  "kernelspec": {
   "display_name": "Python 3",
   "language": "python",
   "name": "python3"
  },
  "language_info": {
   "codemirror_mode": {
    "name": "ipython",
    "version": 3
   },
   "file_extension": ".py",
   "mimetype": "text/x-python",
   "name": "python",
   "nbconvert_exporter": "python",
   "pygments_lexer": "ipython3",
   "version": "3.7.3"
  }
 },
 "nbformat": 4,
 "nbformat_minor": 2
}
