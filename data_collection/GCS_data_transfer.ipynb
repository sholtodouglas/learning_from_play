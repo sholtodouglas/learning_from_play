{
  "nbformat": 4,
  "nbformat_minor": 0,
  "metadata": {
    "accelerator": "TPU",
    "colab": {
      "name": "GCS_data_transfer.ipynb",
      "provenance": [],
      "machine_shape": "hm",
      "authorship_tag": "ABX9TyMhPEj0/FEt4LAvdrRK15G7",
      "include_colab_link": true
    },
    "kernelspec": {
      "display_name": "Python 3",
      "language": "python",
      "name": "python3"
    },
    "language_info": {
      "codemirror_mode": {
        "name": "ipython",
        "version": 3
      },
      "file_extension": ".py",
      "mimetype": "text/x-python",
      "name": "python",
      "nbconvert_exporter": "python",
      "pygments_lexer": "ipython3",
      "version": "3.7.3"
    }
  },
  "cells": [
    {
      "cell_type": "markdown",
      "metadata": {
        "id": "view-in-github",
        "colab_type": "text"
      },
      "source": [
        "<a href=\"https://colab.research.google.com/github/sholtodouglas/learning_from_play/blob/master/data_collection/GCS_data_transfer.ipynb\" target=\"_parent\"><img src=\"https://colab.research.google.com/assets/colab-badge.svg\" alt=\"Open In Colab\"/></a>"
      ]
    },
    {
      "cell_type": "code",
      "metadata": {
        "colab": {
          "base_uri": "https://localhost:8080/"
        },
        "id": "3H3VJhF36RQ1",
        "outputId": "e61bae51-4cf2-4cb9-c12a-1dedbf7dfe22"
      },
      "source": [
        "# https://philipplies.medium.com/transferring-data-from-google-drive-to-google-cloud-storage-using-google-colab-96e088a8c041\n",
        "DATA_SOURCE = \"Google Drive\" #@param [\"Google Drive\", \"GCS\"]\n",
        "TEST_DATASET = \"UR5_slow_gripper_test\" #@param [\"UR5_slow_gripper_test\"]\n",
        "GCS_USER = \"sholto\" #@param [\"sholto\", \"tristan\"]\n",
        "\n",
        "from pathlib import Path\n",
        "import os\n",
        "\n",
        "from google.colab import drive, auth\n",
        "print('Using colab setup')\n",
        "drive.mount('/content/drive')\n",
        "STORAGE_PATH = Path('/content/drive/My Drive/Robotic Learning')\n",
        "print(f'Storage path: {STORAGE_PATH}')"
      ],
      "execution_count": null,
      "outputs": [
        {
          "output_type": "stream",
          "text": [
            "Using colab setup\n",
            "Mounted at /content/drive\n",
            "Storage path: /content/drive/My Drive/Robotic Learning\n"
          ],
          "name": "stdout"
        }
      ]
    },
    {
      "cell_type": "code",
      "metadata": {
        "id": "HtoxGf-O6rbY"
      },
      "source": [
        "DATA_PATHS=   [STORAGE_PATH/'data'/x for x in [\"Unity/UR5_train\",\"Unity/UR5_test\"]]"
      ],
      "execution_count": null,
      "outputs": []
    },
    {
      "cell_type": "code",
      "metadata": {
        "colab": {
          "base_uri": "https://localhost:8080/"
        },
        "id": "9EXyTvDf7Fk-",
        "outputId": "4f74dcda-13df-49d5-a0b2-c7922c1817b2"
      },
      "source": [
        "!curl ipinfo.io # make sure it is in Iowa, as this is where our TPU feeding bucket will be\n",
        "# Which should be free! https://cloud.google.com/storage/pricing\n",
        "# https://cloud.google.com/tpu/docs/types-zones\n"
      ],
      "execution_count": null,
      "outputs": [
        {
          "output_type": "stream",
          "text": [
            "{\n",
            "  \"ip\": \"35.188.149.138\",\n",
            "  \"hostname\": \"138.149.188.35.bc.googleusercontent.com\",\n",
            "  \"city\": \"Council Bluffs\",\n",
            "  \"region\": \"Iowa\",\n",
            "  \"country\": \"US\",\n",
            "  \"loc\": \"41.2619,-95.8608\",\n",
            "  \"org\": \"AS15169 Google LLC\",\n",
            "  \"postal\": \"51502\",\n",
            "  \"timezone\": \"America/Chicago\",\n",
            "  \"readme\": \"https://ipinfo.io/missingauth\"\n",
            "}"
          ],
          "name": "stdout"
        }
      ]
    },
    {
      "cell_type": "code",
      "metadata": {
        "id": "hWhh19E3_AY2"
      },
      "source": [
        "from google.colab import auth\n",
        "auth.authenticate_user()"
      ],
      "execution_count": null,
      "outputs": []
    },
    {
      "cell_type": "code",
      "metadata": {
        "colab": {
          "base_uri": "https://localhost:8080/"
        },
        "id": "KeaY07e4_vkp",
        "outputId": "46f14c7f-1518-4f03-ee48-3e311f05fac5"
      },
      "source": [
        "project_id = 'learning-from-play-303306'\n",
        "!gcloud config set project {project_id}\n",
        "!gsutil ls"
      ],
      "execution_count": null,
      "outputs": [
        {
          "output_type": "stream",
          "text": [
            "Updated property [core/project].\n",
            "gs://iowa_bucket_lfp/\n",
            "gs://lfp_europe_west4_a/\n"
          ],
          "name": "stdout"
        }
      ]
    },
    {
      "cell_type": "code",
      "metadata": {
        "id": "Qlp5TH8TAH4X",
        "colab": {
          "base_uri": "https://localhost:8080/"
        },
        "outputId": "d8a7b7d6-f9d2-4876-bfa7-a20c816b83eb"
      },
      "source": [
        "!gsutil ls"
      ],
      "execution_count": null,
      "outputs": [
        {
          "output_type": "stream",
          "text": [
            "You are attempting to perform an operation that requires a project id, with none configured. Please re-run gsutil config and make sure to follow the instructions for finding and entering your default project id.\n"
          ],
          "name": "stdout"
        }
      ]
    },
    {
      "cell_type": "code",
      "metadata": {
        "id": "gmXv8rUkANEm"
      },
      "source": [
        ""
      ],
      "execution_count": null,
      "outputs": []
    },
    {
      "cell_type": "code",
      "metadata": {
        "colab": {
          "base_uri": "https://localhost:8080/"
        },
        "id": "QsjERcLcAct2",
        "outputId": "40ff555a-04d0-4e4f-b401-e3b0e73d9ae2"
      },
      "source": [
        "!ls drive/MyDrive/Robotic\\ Learning/data"
      ],
      "execution_count": null,
      "outputs": [
        {
          "output_type": "stream",
          "text": [
            "Unity  UR5_high_transition\t UR5_slow_gripper\n",
            "UR5    UR5_high_transition_test  UR5_slow_gripper_test\n"
          ],
          "name": "stdout"
        }
      ]
    },
    {
      "cell_type": "code",
      "metadata": {
        "id": "jjdV4FsGBXnq"
      },
      "source": [
        "bucket_name = 'lfp_europe_west4_a'"
      ],
      "execution_count": null,
      "outputs": []
    },
    {
      "cell_type": "code",
      "metadata": {
        "colab": {
          "base_uri": "https://localhost:8080/"
        },
        "id": "v8XMi5iWAhr9",
        "outputId": "c89c94c6-a5dd-4f03-a1b5-fe984fe1f9ad"
      },
      "source": [
        "!gsutil -m cp -r drive/MyDrive/Robotic\\ Learning/data/Unity* gs://{bucket_name}/"
      ],
      "execution_count": null,
      "outputs": [
        {
          "output_type": "stream",
          "text": [
            "Copying file://drive/MyDrive/Robotic Learning/data/Unity/UR5_train/obs_act_etc/10/data.npz [Content-Type=application/octet-stream]...\n",
            "/ [0/32 files][    0.0 B/589.2 MiB]   0% Done                                   \rCopying file://drive/MyDrive/Robotic Learning/data/Unity/UR5_train/obs_act_etc/1/data.npz [Content-Type=application/octet-stream]...\n",
            "/ [0/32 files][    0.0 B/589.2 MiB]   0% Done                                   \rCopying file://drive/MyDrive/Robotic Learning/data/Unity/UR5_train/obs_act_etc/4/data.npz [Content-Type=application/octet-stream]...\n",
            "/ [0/32 files][    0.0 B/589.2 MiB]   0% Done                                   \rCopying file://drive/MyDrive/Robotic Learning/data/Unity/UR5_train/obs_act_etc/0/data.npz [Content-Type=application/octet-stream]...\n",
            "Copying file://drive/MyDrive/Robotic Learning/data/Unity/UR5_train/obs_act_etc/12/data.npz [Content-Type=application/octet-stream]...\n",
            "Copying file://drive/MyDrive/Robotic Learning/data/Unity/UR5_train/obs_act_etc/13/data.npz [Content-Type=application/octet-stream]...\n",
            "Copying file://drive/MyDrive/Robotic Learning/data/Unity/UR5_train/obs_act_etc/11/data.npz [Content-Type=application/octet-stream]...\n",
            "Copying file://drive/MyDrive/Robotic Learning/data/Unity/UR5_train/obs_act_etc/2/data.npz [Content-Type=application/octet-stream]...\n",
            "Copying file://drive/MyDrive/Robotic Learning/data/Unity/UR5_train/obs_act_etc/14/data.npz [Content-Type=application/octet-stream]...\n",
            "Copying file://drive/MyDrive/Robotic Learning/data/Unity/UR5_train/obs_act_etc/3/data.npz [Content-Type=application/octet-stream]...\n",
            "Copying file://drive/MyDrive/Robotic Learning/data/Unity/UR5_train/obs_act_etc/8/data.npz [Content-Type=application/octet-stream]...\n",
            "Copying file://drive/MyDrive/Robotic Learning/data/Unity/UR5_train/obs_act_etc/5/data.npz [Content-Type=application/octet-stream]...\n",
            "Copying file://drive/MyDrive/Robotic Learning/data/Unity/UR5_train/obs_act_etc/6/data.npz [Content-Type=application/octet-stream]...\n",
            "Copying file://drive/MyDrive/Robotic Learning/data/Unity/UR5_train/obs_act_etc/7/data.npz [Content-Type=application/octet-stream]...\n",
            "Copying file://drive/MyDrive/Robotic Learning/data/Unity/UR5_train/tf_records/0.tfrecords [Content-Type=application/octet-stream]...\n",
            "Copying file://drive/MyDrive/Robotic Learning/data/Unity/UR5_train/tf_records/1.tfrecords [Content-Type=application/octet-stream]...\n",
            "Copying file://drive/MyDrive/Robotic Learning/data/Unity/UR5_train/tf_records/2.tfrecords [Content-Type=application/octet-stream]...\n",
            "Copying file://drive/MyDrive/Robotic Learning/data/Unity/UR5_train/tf_records/3.tfrecords [Content-Type=application/octet-stream]...\n",
            "Copying file://drive/MyDrive/Robotic Learning/data/Unity/UR5_train/tf_records/4.tfrecords [Content-Type=application/octet-stream]...\n",
            "Copying file://drive/MyDrive/Robotic Learning/data/Unity/UR5_train/obs_act_etc/9/data.npz [Content-Type=application/octet-stream]...\n",
            "Copying file://drive/MyDrive/Robotic Learning/data/Unity/UR5_train/tf_records/5.tfrecords [Content-Type=application/octet-stream]...\n",
            "Copying file://drive/MyDrive/Robotic Learning/data/Unity/UR5_train/tf_records/6.tfrecords [Content-Type=application/octet-stream]...\n",
            "Copying file://drive/MyDrive/Robotic Learning/data/Unity/UR5_train/tf_records/7.tfrecords [Content-Type=application/octet-stream]...\n",
            "Copying file://drive/MyDrive/Robotic Learning/data/Unity/UR5_train/tf_records/8.tfrecords [Content-Type=application/octet-stream]...\n",
            "Copying file://drive/MyDrive/Robotic Learning/data/Unity/UR5_test/obs_act_etc/0/data.npz [Content-Type=application/octet-stream]...\n",
            "Copying file://drive/MyDrive/Robotic Learning/data/Unity/UR5_train/tf_records/11.tfrecords [Content-Type=application/octet-stream]...\n",
            "Copying file://drive/MyDrive/Robotic Learning/data/Unity/UR5_train/tf_records/12.tfrecords [Content-Type=application/octet-stream]...\n",
            "Copying file://drive/MyDrive/Robotic Learning/data/Unity/UR5_train/tf_records/13.tfrecords [Content-Type=application/octet-stream]...\n",
            "Copying file://drive/MyDrive/Robotic Learning/data/Unity/UR5_test/tf_records/0.tfrecords [Content-Type=application/octet-stream]...\n",
            "Copying file://drive/MyDrive/Robotic Learning/data/Unity/UR5_train/tf_records/10.tfrecords [Content-Type=application/octet-stream]...\n",
            "Copying file://drive/MyDrive/Robotic Learning/data/Unity/UR5_train/tf_records/14.tfrecords [Content-Type=application/octet-stream]...\n",
            "Copying file://drive/MyDrive/Robotic Learning/data/Unity/UR5_train/tf_records/9.tfrecords [Content-Type=application/octet-stream]...\n",
            "-\n",
            "Operation completed over 32 objects/589.2 MiB.                                   \n"
          ],
          "name": "stdout"
        }
      ]
    },
    {
      "cell_type": "code",
      "metadata": {
        "id": "ABi_x9_FBiab"
      },
      "source": [
        ""
      ],
      "execution_count": null,
      "outputs": []
    }
  ]
}