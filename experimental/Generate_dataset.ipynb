{
  "nbformat": 4,
  "nbformat_minor": 0,
  "metadata": {
    "colab": {
      "name": "Generate_dataset.ipynb",
      "provenance": [],
      "machine_shape": "hm",
      "authorship_tag": "ABX9TyNz/0KOI3rpk7dj0o8h79u9",
      "include_colab_link": true
    },
    "kernelspec": {
      "display_name": "Python 3",
      "name": "python3"
    }
  },
  "cells": [
    {
      "cell_type": "markdown",
      "metadata": {
        "id": "view-in-github",
        "colab_type": "text"
      },
      "source": [
        "<a href=\"https://colab.research.google.com/github/sholtodouglas/learning_from_play/blob/master/experimental/Generate_dataset.ipynb\" target=\"_parent\"><img src=\"https://colab.research.google.com/assets/colab-badge.svg\" alt=\"Open In Colab\"/></a>"
      ]
    },
    {
      "cell_type": "code",
      "metadata": {
        "colab": {
          "base_uri": "https://localhost:8080/"
        },
        "id": "cp98H14NO9A_",
        "outputId": "7c7f5ea4-85d7-4146-84ac-c2d5282da431"
      },
      "source": [
        "!pip install wandb -q\r\n",
        "!pip install pathy -q\r\n",
        "!pip install comet_ml -q"
      ],
      "execution_count": null,
      "outputs": [
        {
          "output_type": "stream",
          "text": [
            "\u001b[K     |████████████████████████████████| 2.0MB 11.9MB/s \n",
            "\u001b[K     |████████████████████████████████| 133kB 49.0MB/s \n",
            "\u001b[K     |████████████████████████████████| 163kB 44.8MB/s \n",
            "\u001b[K     |████████████████████████████████| 102kB 6.3MB/s \n",
            "\u001b[K     |████████████████████████████████| 71kB 4.4MB/s \n",
            "\u001b[?25h  Building wheel for pathtools (setup.py) ... \u001b[?25l\u001b[?25hdone\n",
            "  Building wheel for subprocess32 (setup.py) ... \u001b[?25l\u001b[?25hdone\n",
            "\u001b[K     |████████████████████████████████| 122kB 12.6MB/s \n",
            "\u001b[?25h  Building wheel for smart-open (setup.py) ... \u001b[?25l\u001b[?25hdone\n",
            "\u001b[K     |████████████████████████████████| 256kB 8.8MB/s \n",
            "\u001b[K     |████████████████████████████████| 512kB 25.9MB/s \n",
            "\u001b[K     |████████████████████████████████| 61kB 5.0MB/s \n",
            "\u001b[K     |████████████████████████████████| 204kB 31.8MB/s \n",
            "\u001b[?25h  Building wheel for configobj (setup.py) ... \u001b[?25l\u001b[?25hdone\n"
          ],
          "name": "stdout"
        }
      ]
    },
    {
      "cell_type": "code",
      "metadata": {
        "colab": {
          "base_uri": "https://localhost:8080/"
        },
        "id": "30D0DoKkNs06",
        "outputId": "de0dccf2-a1b6-4eec-dc1f-713e1bb06378"
      },
      "source": [
        "import argparse\r\n",
        "\r\n",
        "parser = argparse.ArgumentParser(description='LFP training arguments')\r\n",
        "parser.add_argument('run_name')\r\n",
        "parser.add_argument('--train_datasets', nargs='+', help='Training dataset names')\r\n",
        "parser.add_argument('--test_datasets', nargs='+', help='Testing dataset names')\r\n",
        "parser.add_argument('-c', '--colab', default=False, action='store_true', help='Enable if using colab environment')\r\n",
        "parser.add_argument('-s', '--data_source', default='DRIVE', help='Source of training data')\r\n",
        "parser.add_argument('-tfr', '--from_tfrecords', default=False, action='store_true', help='Enable if using tfrecords format')\r\n",
        "parser.add_argument('-d', '--device', default='TPU', help='Hardware device to train on')\r\n",
        "parser.add_argument('-b', '--batch_size', default=512, type=int)\r\n",
        "parser.add_argument('-wmax', '--window_size_max', default=40, type=int)\r\n",
        "parser.add_argument('-wmin', '--window_size_min', default=20, type=int)\r\n",
        "parser.add_argument('-la', '--actor_layer_size', default=2048, type=int, help='Layer size of actor, increases size of neural net')\r\n",
        "parser.add_argument('-le', '--encoder_layer_size', default=512, type=int, help='Layer size of encoder, increases size of neural net')\r\n",
        "parser.add_argument('-lp', '--planner_layer_size', default=512, type=int, help='Layer size of planner, increases size of neural net')\r\n",
        "parser.add_argument('-embd', '--img_embedding_size', default=64, type=int, help='Embedding size of features,goal space')\r\n",
        "parser.add_argument('-z', '--latent_dim', default=256, type=int, help='Size of the VAE latent space')\r\n",
        "parser.add_argument('-g', '--gcbc', default=False, action='store_true', help='Enables GCBC, a simpler model with no encoder/planner')\r\n",
        "parser.add_argument('-n', '--num_distribs', default=None, type=int, help='Number of distributions to use in logistic mixture model')\r\n",
        "parser.add_argument('-q', '--qbits', default=None, type=int, help='Number of quantisation bits to discrete distributions into. Total quantisations = 2**qbits')\r\n",
        "parser.add_argument('-lr', '--learning_rate', type=float, default=3e-4)\r\n",
        "parser.add_argument('-t', '--train_steps', type=int, default=200000)\r\n",
        "parser.add_argument('-r', '--resume', default=False, action='store_true')\r\n",
        "parser.add_argument('-B', '--beta', type=float, default=0.00003)\r\n",
        "parser.add_argument('-i', '--images', default=False, action='store_true')\r\n",
        "parser.add_argument('--bucket_name', help='GCS bucket name to stream data from')\r\n",
        "parser.add_argument('--tpu_name', help='GCP TPU name') # Only used in the script on GCP\r\n",
        "\r\n",
        "### Sample local config\r\n",
        "args = parser.parse_args('''\r\n",
        "dummy_run \r\n",
        "--train_dataset UR5\r\n",
        "--test_dataset UR5\r\n",
        "-tfr\r\n",
        "'''.split())\r\n",
        "\r\n",
        "## Sample colab config\r\n",
        "args = parser.parse_args('''\r\n",
        "refactor_test\r\n",
        "--train_dataset UR5 UR5_slow_gripper UR5_high_transition\r\n",
        "--test_dataset UR5_slow_gripper_test\r\n",
        "-c\r\n",
        "-tfr\r\n",
        "-s GCS\r\n",
        "-d TPU\r\n",
        "-b 512\r\n",
        "-la 2048\r\n",
        "-le 512\r\n",
        "-lp 512\r\n",
        "-z 256\r\n",
        "-lr 3e-4\r\n",
        "--bucket_name iowa_bucket_lfp\r\n",
        "'''.split())\r\n",
        "\r\n",
        "# ## Sample colab config\r\n",
        "# args = parser.parse_args('''\r\n",
        "# QuantB0_01\r\n",
        "# --train_dataset UR5 UR5_slow_gripper UR5_high_transition\r\n",
        "# --test_dataset UR5_slow_gripper_test\r\n",
        "# -c\r\n",
        "# -s DRIVE\r\n",
        "# -d TPU\r\n",
        "# -b 512\r\n",
        "# -la 2048\r\n",
        "# -le 512\r\n",
        "# -lp 512\r\n",
        "# -z 256\r\n",
        "# -lr 3e-4\r\n",
        "# -B 0.01\r\n",
        "# -n 5\r\n",
        "# -q 8\r\n",
        "# '''.split())\r\n",
        "\r\n",
        "print(args)"
      ],
      "execution_count": 12,
      "outputs": [
        {
          "output_type": "stream",
          "text": [
            "Namespace(actor_layer_size=2048, batch_size=512, beta=3e-05, bucket_name='iowa_bucket_lfp', colab=True, data_source='GCS', device='TPU', encoder_layer_size=512, from_tfrecords=True, gcbc=False, images=False, img_embedding_size=64, latent_dim=256, learning_rate=0.0003, num_distribs=None, planner_layer_size=512, qbits=None, resume=False, run_name='refactor_test', test_datasets=['UR5_slow_gripper_test'], tpu_name=None, train_datasets=['UR5', 'UR5_slow_gripper', 'UR5_high_transition'], train_steps=200000, window_size_max=40, window_size_min=20)\n"
          ],
          "name": "stdout"
        }
      ]
    },
    {
      "cell_type": "code",
      "metadata": {
        "colab": {
          "background_save": true,
          "base_uri": "https://localhost:8080/"
        },
        "id": "k8h1VQv0O2jv",
        "outputId": "f86a75f1-0cf5-409c-a452-374648791922"
      },
      "source": [
        "from pathlib import Path\r\n",
        "from pathy import Pathy\r\n",
        "import os\r\n",
        "import requests\r\n",
        "import json\r\n",
        "import pprint\r\n",
        "import logging\r\n",
        "import numpy as np\r\n",
        "import tensorflow as tf\r\n",
        "import time\r\n",
        "\r\n",
        "\r\n",
        "\r\n",
        "pp = pprint.PrettyPrinter(indent=4)\r\n",
        "# In[4]:\r\n",
        "\r\n",
        "\r\n",
        "#@title Workpace Setup (Local vs Colab)\r\n",
        "\r\n",
        "# Set up working directory and libraries\r\n",
        "if args.colab:\r\n",
        "    from google.colab import drive, auth\r\n",
        "    print('Using colab setup')\r\n",
        "    WORKING_PATH = Path('/content/learning_from_play')\r\n",
        "    # Clone repo\r\n",
        "    try:\r\n",
        "        get_ipython().system(\"git clone 'https://github.com/sholtodouglas/learning_from_play' {WORKING_PATH}\")\r\n",
        "    except: \r\n",
        "        pass\r\n",
        "    # Mount drive\r\n",
        "    drive.mount('/content/drive')\r\n",
        "else:\r\n",
        "    print('Using local setup')\r\n",
        "    WORKING_PATH = Path.cwd()\r\n",
        "    print(f'Working path: {WORKING_PATH}')\r\n",
        "\r\n",
        "# Change working directory to learning_from_play\r\n",
        "os.chdir(WORKING_PATH)\r\n",
        "import lfp\r\n",
        "\r\n",
        "# Set up storage directory and datasets\r\n",
        "if args.data_source == 'DRIVE':\r\n",
        "    assert args.colab, \"Must be using Colab\"\r\n",
        "    print('Reading data from Google Drive')\r\n",
        "    STORAGE_PATH = Path('/content/drive/My Drive/Robotic Learning')\r\n",
        "elif args.data_source == 'GCS':\r\n",
        "    if args.colab:\r\n",
        "      auth.authenticate_user()\r\n",
        "    print('Reading data from Google Cloud Storage')\r\n",
        "    r = requests.get('https://ipinfo.io')\r\n",
        "    region = r.json()['region']\r\n",
        "    project_id = 'learning-from-play-303306'\r\n",
        "    logging.warning(f'You are accessing GCS data from {region}, make sure this is the same as your bucket {args.bucket_name}')\r\n",
        "    STORAGE_PATH = Pathy(f'gs://{args.bucket_name}')\r\n",
        "else:\r\n",
        "    print('Reading data from local filesystem')\r\n",
        "    STORAGE_PATH = WORKING_PATH\r\n",
        "\r\n",
        "print(f'Storage path: {STORAGE_PATH}')\r\n",
        "TRAIN_DATA_PATHS = [STORAGE_PATH/'data'/x for x in args.train_datasets]\r\n",
        "TEST_DATA_PATHS = [STORAGE_PATH/'data'/x for x in args.test_datasets]"
      ],
      "execution_count": null,
      "outputs": [
        {
          "output_type": "stream",
          "text": [
            "Using colab setup\n",
            "Cloning into '/content/learning_from_play'...\n",
            "remote: Enumerating objects: 129, done.\u001b[K\n",
            "remote: Counting objects: 100% (129/129), done.\u001b[K\n",
            "remote: Compressing objects: 100% (88/88), done.\u001b[K\n",
            "remote: Total 2217 (delta 77), reused 82 (delta 41), pack-reused 2088\u001b[K\n",
            "Receiving objects: 100% (2217/2217), 82.48 MiB | 7.54 MiB/s, done.\n",
            "Resolving deltas: 100% (1314/1314), done.\n",
            "Mounted at /content/drive\n",
            "No pybullet installation found - which is fine if training\n",
            "Reading data from Google Drive\n",
            "Storage path: /content/drive/My Drive/Robotic Learning\n"
          ],
          "name": "stdout"
        }
      ]
    },
    {
      "cell_type": "code",
      "metadata": {
        "colab": {
          "base_uri": "https://localhost:8080/"
        },
        "id": "PpaStYUOO5El",
        "outputId": "0b42486a-c090-406a-a8b7-cf56329b579b"
      },
      "source": [
        "\r\n",
        "print(\"Tensorflow version \" + tf.__version__)"
      ],
      "execution_count": 6,
      "outputs": [
        {
          "output_type": "stream",
          "text": [
            "Tensorflow version 2.4.1\n"
          ],
          "name": "stdout"
        }
      ]
    },
    {
      "cell_type": "code",
      "metadata": {
        "id": "v7aUKhOtRdzW"
      },
      "source": [
        "dl = lfp.data.PlayDataloader(include_imgs = args.images, batch_size=1,  window_size=args.window_size_max, min_window_size=args.window_size_min)"
      ],
      "execution_count": 13,
      "outputs": []
    },
    {
      "cell_type": "code",
      "metadata": {
        "colab": {
          "base_uri": "https://localhost:8080/"
        },
        "id": "gU2nieBmU-I4",
        "outputId": "cfdd767b-ddd3-4a53-b5a5-a5a21b7cae0b"
      },
      "source": [
        "# Train data\r\n",
        "train_data = dl.extract(TRAIN_DATA_PATHS, from_tfrecords=args.from_tfrecords)\r\n",
        "train_dataset = dl.load(train_data)"
      ],
      "execution_count": 14,
      "outputs": [
        {
          "output_type": "stream",
          "text": [
            "{   'acts': TensorSpec(shape=(1, 40, 7), dtype=tf.float32, name=None),\n",
            "    'dataset_path': TensorSpec(shape=(1, None), dtype=tf.int32, name=None),\n",
            "    'goals': TensorSpec(shape=(1, 40, 11), dtype=tf.float32, name=None),\n",
            "    'masks': TensorSpec(shape=(1, 40), dtype=tf.float32, name=None),\n",
            "    'obs': TensorSpec(shape=(1, 40, 18), dtype=tf.float32, name=None),\n",
            "    'seq_lens': TensorSpec(shape=(1,), dtype=tf.float32, name=None),\n",
            "    'tstep_idxs': TensorSpec(shape=(1, None), dtype=tf.int32, name=None)}\n"
          ],
          "name": "stdout"
        }
      ]
    },
    {
      "cell_type": "code",
      "metadata": {
        "id": "ewqeftlUfuNY"
      },
      "source": [
        "def serialise(data):\r\n",
        "    \r\n",
        "    obs, acts, achieved_goals, joint_poses, target_poses, acts_quat, acts_rpy_rel, velocities, obs_quat, gripper_proprioception, sequence_index, sequence_id, img = data['obs'], data['acts'], data['achieved_goals'], data['joint_poses'], data['target_poses'], data['acts_quat'], data['acts_rpy_rel'], data['velocities'], data['obs_quat'], data['gripper_proprioception'], data['sequence_index'], data['sequence_id'], data['img']\r\n",
        "    \r\n",
        "    #image_feature = Feature(bytes_list=BytesList(value=[tf.io.serialize_tensor(image).numpy(),]))\r\n",
        "    \r\n",
        "    obs = Feature(bytes_list=BytesList(value=[tf.io.serialize_tensor(obs).numpy(),]))\r\n",
        "    acts = Feature(bytes_list=BytesList(value=[tf.io.serialize_tensor(acts).numpy(),]))\r\n",
        "    achieved_goals = Feature(bytes_list=BytesList(value=[tf.io.serialize_tensor(achieved_goals).numpy(),])) \r\n",
        "    joint_poses = Feature(bytes_list=BytesList(value=[tf.io.serialize_tensor(joint_poses).numpy(),])) \r\n",
        "    target_poses = Feature(bytes_list=BytesList(value=[tf.io.serialize_tensor(target_poses).numpy(),]))\r\n",
        "    acts_quat = Feature(bytes_list=BytesList(value=[tf.io.serialize_tensor(acts_quat).numpy(),]))\r\n",
        "    acts_rpy_rel = Feature(bytes_list=BytesList(value=[tf.io.serialize_tensor(acts_rpy_rel).numpy(),])) \r\n",
        "    velocities = Feature(bytes_list=BytesList(value=[tf.io.serialize_tensor(velocities).numpy(),])) \r\n",
        "    obs_quat = Feature(bytes_list=BytesList(value=[tf.io.serialize_tensor(obs_quat).numpy(),]))\r\n",
        "    gripper_proprioception = Feature(bytes_list=BytesList(value=[tf.io.serialize_tensor(gripper_proprioception).numpy(),])) \r\n",
        "    sequence_index =  Feature(int64_list=Int64List(value=[sequence_index,]))\r\n",
        "    sequence_id = Feature(int64_list=Int64List(value=[sequence_id,]))\r\n",
        "    img = Feature(bytes_list=BytesList(value=[img.numpy(),]))\r\n",
        "    # img is already serialised because we never decode it!\r\n",
        "    \r\n",
        "    features = Features(feature={\r\n",
        "                'obs': obs,\r\n",
        "                'acts': acts,\r\n",
        "                'achieved_goals': achieved_goals,\r\n",
        "                'joint_poses': joint_poses,\r\n",
        "                'target_poses': target_poses,\r\n",
        "                'acts_quat': acts_quat,\r\n",
        "                'acts_rpy_rel': acts_rpy_rel,\r\n",
        "                'velocities': velocities,\r\n",
        "                'obs_quat': obs_quat,\r\n",
        "                'gripper_proprioception': gripper_proprioception,\r\n",
        "                'sequence_index': sequence_index,\r\n",
        "                'sequence_id': sequence_id,\r\n",
        "                'img': img,\r\n",
        "                })\r\n",
        "    \r\n",
        "    example = Example(features=features)\r\n",
        "    \r\n",
        "    return example.SerializeToString()\r\n",
        "\r\n",
        "\r\n",
        "\r\n",
        "\r\n",
        "\r\n",
        "\r\n",
        "with tf.io.TFRecordWriter(str(path/'tf_records/')+f\"/{demo}.tfrecords\") as file_writer:\r\n",
        "            for data in it:\r\n",
        "                byte_stream = serialise(data)\r\n",
        "                file_writer.write(byte_stream)"
      ],
      "execution_count": null,
      "outputs": []
    },
    {
      "cell_type": "markdown",
      "metadata": {
        "id": "sZ1fcxyeiI-O"
      },
      "source": [
        ""
      ]
    }
  ]
}