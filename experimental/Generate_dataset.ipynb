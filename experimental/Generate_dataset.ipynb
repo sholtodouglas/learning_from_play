{
  "nbformat": 4,
  "nbformat_minor": 0,
  "metadata": {
    "colab": {
      "name": "Generate_dataset.ipynb",
      "provenance": [],
      "machine_shape": "hm",
      "include_colab_link": true
    },
    "kernelspec": {
      "display_name": "Python 3",
      "language": "python",
      "name": "python3"
    },
    "language_info": {
      "codemirror_mode": {
        "name": "ipython",
        "version": 3
      },
      "file_extension": ".py",
      "mimetype": "text/x-python",
      "name": "python",
      "nbconvert_exporter": "python",
      "pygments_lexer": "ipython3",
      "version": "3.7.3"
    }
  },
  "cells": [
    {
      "cell_type": "markdown",
      "metadata": {
        "id": "view-in-github",
        "colab_type": "text"
      },
      "source": [
        "<a href=\"https://colab.research.google.com/github/sholtodouglas/learning_from_play/blob/master/experimental/Generate_dataset.ipynb\" target=\"_parent\"><img src=\"https://colab.research.google.com/assets/colab-badge.svg\" alt=\"Open In Colab\"/></a>"
      ]
    },
    {
      "cell_type": "code",
      "metadata": {
        "colab": {
          "base_uri": "https://localhost:8080/"
        },
        "id": "cp98H14NO9A_",
        "outputId": "c4f66ed5-b46b-4b52-accd-6f0012abfc1b"
      },
      "source": [
        "!pip install wandb -q\n",
        "!pip install pathy -q\n",
        "!pip install comet_ml -q"
      ],
      "execution_count": 2,
      "outputs": [
        {
          "output_type": "stream",
          "text": [
            "\u001b[K     |████████████████████████████████| 2.0MB 12.3MB/s \n",
            "\u001b[K     |████████████████████████████████| 163kB 64.7MB/s \n",
            "\u001b[K     |████████████████████████████████| 133kB 25.2MB/s \n",
            "\u001b[K     |████████████████████████████████| 102kB 7.4MB/s \n",
            "\u001b[K     |████████████████████████████████| 71kB 5.2MB/s \n",
            "\u001b[?25h  Building wheel for subprocess32 (setup.py) ... \u001b[?25l\u001b[?25hdone\n",
            "  Building wheel for pathtools (setup.py) ... \u001b[?25l\u001b[?25hdone\n",
            "\u001b[K     |████████████████████████████████| 122kB 16.0MB/s \n",
            "\u001b[?25h  Building wheel for smart-open (setup.py) ... \u001b[?25l\u001b[?25hdone\n",
            "\u001b[K     |████████████████████████████████| 256kB 14.1MB/s \n",
            "\u001b[K     |████████████████████████████████| 522kB 31.1MB/s \n",
            "\u001b[K     |████████████████████████████████| 61kB 6.0MB/s \n",
            "\u001b[K     |████████████████████████████████| 61kB 5.4MB/s \n",
            "\u001b[?25h  Building wheel for netifaces (setup.py) ... \u001b[?25l\u001b[?25hdone\n",
            "  Building wheel for configobj (setup.py) ... \u001b[?25l\u001b[?25hdone\n"
          ],
          "name": "stdout"
        }
      ]
    },
    {
      "cell_type": "code",
      "metadata": {
        "colab": {
          "base_uri": "https://localhost:8080/"
        },
        "id": "30D0DoKkNs06",
        "outputId": "eeab151f-c831-49d8-e206-537956c8bc49"
      },
      "source": [
        "import argparse\n",
        "\n",
        "parser = argparse.ArgumentParser(description='LFP training arguments')\n",
        "parser.add_argument('run_name')\n",
        "parser.add_argument('--train_datasets', nargs='+', help='Training dataset names')\n",
        "parser.add_argument('--test_datasets', nargs='+', help='Testing dataset names')\n",
        "parser.add_argument('-c', '--colab', default=False, action='store_true', help='Enable if using colab environment')\n",
        "parser.add_argument('-s', '--data_source', default='DRIVE', help='Source of training data')\n",
        "parser.add_argument('-tfr', '--from_tfrecords', default=False, action='store_true', help='Enable if using tfrecords format')\n",
        "parser.add_argument('-d', '--device', default='TPU', help='Hardware device to train on')\n",
        "parser.add_argument('-b', '--batch_size', default=512, type=int)\n",
        "parser.add_argument('-wmax', '--window_size_max', default=40, type=int)\n",
        "parser.add_argument('-wmin', '--window_size_min', default=20, type=int)\n",
        "parser.add_argument('-la', '--actor_layer_size', default=2048, type=int, help='Layer size of actor, increases size of neural net')\n",
        "parser.add_argument('-le', '--encoder_layer_size', default=512, type=int, help='Layer size of encoder, increases size of neural net')\n",
        "parser.add_argument('-lp', '--planner_layer_size', default=512, type=int, help='Layer size of planner, increases size of neural net')\n",
        "parser.add_argument('-embd', '--img_embedding_size', default=64, type=int, help='Embedding size of features,goal space')\n",
        "parser.add_argument('-z', '--latent_dim', default=256, type=int, help='Size of the VAE latent space')\n",
        "parser.add_argument('-g', '--gcbc', default=False, action='store_true', help='Enables GCBC, a simpler model with no encoder/planner')\n",
        "parser.add_argument('-n', '--num_distribs', default=None, type=int, help='Number of distributions to use in logistic mixture model')\n",
        "parser.add_argument('-q', '--qbits', default=None, type=int, help='Number of quantisation bits to discrete distributions into. Total quantisations = 2**qbits')\n",
        "parser.add_argument('-lr', '--learning_rate', type=float, default=3e-4)\n",
        "parser.add_argument('-t', '--train_steps', type=int, default=200000)\n",
        "parser.add_argument('-r', '--resume', default=False, action='store_true')\n",
        "parser.add_argument('-B', '--beta', type=float, default=0.00003)\n",
        "parser.add_argument('-i', '--images', default=False, action='store_true')\n",
        "parser.add_argument('--bucket_name', help='GCS bucket name to stream data from')\n",
        "parser.add_argument('--tpu_name', help='GCP TPU name') # Only used in the script on GCP\n",
        "\n",
        "### Sample local config\n",
        "args = parser.parse_args('''\n",
        "dummy_run \n",
        "--train_dataset UR5\n",
        "--test_dataset UR5\n",
        "-tfr\n",
        "'''.split())\n",
        "\n",
        "## Sample colab config\n",
        "args = parser.parse_args('''\n",
        "refactor_test\n",
        "--train_dataset UR5 UR5_slow_gripper UR5_high_transition\n",
        "--test_dataset UR5_slow_gripper_test\n",
        "-c\n",
        "-tfr\n",
        "-s GCS\n",
        "-d TPU\n",
        "-b 512\n",
        "-la 2048\n",
        "-le 512\n",
        "-lp 512\n",
        "-z 256\n",
        "-lr 3e-4\n",
        "-wmin 10\n",
        "-wmax 40\n",
        "-i\n",
        "--bucket_name lfp_europe_west4_a\n",
        "'''.split())\n",
        "\n",
        "# ## Sample colab config\n",
        "# args = parser.parse_args('''\n",
        "# QuantB0_01\n",
        "# --train_dataset UR5 UR5_slow_gripper UR5_high_transition\n",
        "# --test_dataset UR5_slow_gripper_test\n",
        "# -c\n",
        "# -s DRIVE\n",
        "# -d TPU\n",
        "# -b 512\n",
        "# -la 2048\n",
        "# -le 512\n",
        "# -lp 512\n",
        "# -z 256\n",
        "# -lr 3e-4\n",
        "# -B 0.01\n",
        "# -n 5\n",
        "# -q 8\n",
        "# '''.split())\n",
        "\n",
        "print(args)"
      ],
      "execution_count": 7,
      "outputs": [
        {
          "output_type": "stream",
          "text": [
            "Namespace(actor_layer_size=2048, batch_size=512, beta=3e-05, bucket_name='lfp_europe_west4_a', colab=True, data_source='GCS', device='TPU', encoder_layer_size=512, from_tfrecords=True, gcbc=False, images=True, img_embedding_size=64, latent_dim=256, learning_rate=0.0003, num_distribs=None, planner_layer_size=512, qbits=None, resume=False, run_name='refactor_test', test_datasets=['UR5_slow_gripper_test'], tpu_name=None, train_datasets=['UR5', 'UR5_slow_gripper', 'UR5_high_transition'], train_steps=200000, window_size_max=40, window_size_min=10)\n"
          ],
          "name": "stdout"
        }
      ]
    },
    {
      "cell_type": "code",
      "metadata": {
        "colab": {
          "base_uri": "https://localhost:8080/"
        },
        "id": "k8h1VQv0O2jv",
        "outputId": "c68f4c45-b134-4827-b605-230ec6ed167a"
      },
      "source": [
        "from pathlib import Path\n",
        "from pathy import Pathy\n",
        "import os\n",
        "import requests\n",
        "import json\n",
        "import pprint\n",
        "import logging\n",
        "import numpy as np\n",
        "import tensorflow as tf\n",
        "import time\n",
        "\n",
        "\n",
        "\n",
        "pp = pprint.PrettyPrinter(indent=4)\n",
        "# In[4]:\n",
        "\n",
        "\n",
        "#@title Workpace Setup (Local vs Colab)\n",
        "\n",
        "# Set up working directory and libraries\n",
        "if args.colab:\n",
        "    from google.colab import drive, auth\n",
        "    print('Using colab setup')\n",
        "    WORKING_PATH = Path('/content/learning_from_play')\n",
        "    # Clone repo\n",
        "    try:\n",
        "        get_ipython().system(\"git clone 'https://github.com/sholtodouglas/learning_from_play' {WORKING_PATH}\")\n",
        "    except: \n",
        "        pass\n",
        "    # Mount drive\n",
        "    drive.mount('/content/drive')\n",
        "else:\n",
        "    print('Using local setup')\n",
        "    WORKING_PATH = Path.cwd()\n",
        "    print(f'Working path: {WORKING_PATH}')\n",
        "\n",
        "# Change working directory to learning_from_play\n",
        "os.chdir(WORKING_PATH)\n",
        "import lfp\n",
        "\n",
        "# Set up storage directory and datasets\n",
        "if args.data_source == 'DRIVE':\n",
        "    assert args.colab, \"Must be using Colab\"\n",
        "    print('Reading data from Google Drive')\n",
        "    STORAGE_PATH = Path('/content/drive/My Drive/Robotic Learning')\n",
        "elif args.data_source == 'GCS':\n",
        "    if args.colab:\n",
        "      auth.authenticate_user()\n",
        "    print('Reading data from Google Cloud Storage')\n",
        "    r = requests.get('https://ipinfo.io')\n",
        "    region = r.json()['region']\n",
        "    project_id = 'learning-from-play-303306'\n",
        "    logging.warning(f'You are accessing GCS data from {region}, make sure this is the same as your bucket {args.bucket_name}')\n",
        "    STORAGE_PATH = Pathy(f'gs://{args.bucket_name}')\n",
        "else:\n",
        "    print('Reading data from local filesystem')\n",
        "    STORAGE_PATH = WORKING_PATH\n",
        "\n",
        "print(f'Storage path: {STORAGE_PATH}')\n",
        "TRAIN_DATA_PATHS = [STORAGE_PATH/'data'/x for x in args.train_datasets]\n",
        "TEST_DATA_PATHS = [STORAGE_PATH/'data'/x for x in args.test_datasets]"
      ],
      "execution_count": 8,
      "outputs": [
        {
          "output_type": "stream",
          "text": [
            "Using colab setup\n",
            "fatal: destination path '/content/learning_from_play' already exists and is not an empty directory.\n",
            "Drive already mounted at /content/drive; to attempt to forcibly remount, call drive.mount(\"/content/drive\", force_remount=True).\n",
            "Reading data from Google Cloud Storage\n"
          ],
          "name": "stdout"
        },
        {
          "output_type": "stream",
          "text": [
            "WARNING:root:You are accessing GCS data from Groningen, make sure this is the same as your bucket lfp_europe_west4_a\n"
          ],
          "name": "stderr"
        },
        {
          "output_type": "stream",
          "text": [
            "Storage path: gs://lfp_europe_west4_a/\n"
          ],
          "name": "stdout"
        }
      ]
    },
    {
      "cell_type": "code",
      "metadata": {
        "colab": {
          "base_uri": "https://localhost:8080/"
        },
        "id": "PpaStYUOO5El",
        "outputId": "7d9cd624-6a3e-4188-b6f3-f3d1d262e23d"
      },
      "source": [
        "\n",
        "print(\"Tensorflow version \" + tf.__version__)"
      ],
      "execution_count": 9,
      "outputs": [
        {
          "output_type": "stream",
          "text": [
            "Tensorflow version 2.4.1\n"
          ],
          "name": "stdout"
        }
      ]
    },
    {
      "cell_type": "code",
      "metadata": {
        "id": "v7aUKhOtRdzW"
      },
      "source": [
        "dl = lfp.data.PlayDataloader(include_imgs = args.images, batch_size=1,  window_size=args.window_size_max, min_window_size=args.window_size_min)"
      ],
      "execution_count": 30,
      "outputs": []
    },
    {
      "cell_type": "code",
      "metadata": {
        "colab": {
          "base_uri": "https://localhost:8080/"
        },
        "id": "gU2nieBmU-I4",
        "outputId": "3fc731da-cd61-4803-a5d7-2716004e852f"
      },
      "source": [
        "# Train data\n",
        "train_data = dl.extract(TRAIN_DATA_PATHS, from_tfrecords=args.from_tfrecords)\n",
        "train_dataset = dl.load(train_data)"
      ],
      "execution_count": 31,
      "outputs": [
        {
          "output_type": "stream",
          "text": [
            "{   'acts': TensorSpec(shape=(1, 40, 7), dtype=tf.float32, name=None),\n",
            "    'dataset_path': TensorSpec(shape=(1, None), dtype=tf.int32, name=None),\n",
            "    'goal_imgs': TensorSpec(shape=(1, 40, 200, 200, 3), dtype=tf.uint8, name=None),\n",
            "    'goals': TensorSpec(shape=(1, 40, 11), dtype=tf.float32, name=None),\n",
            "    'imgs': TensorSpec(shape=(1, 40, 200, 200, 3), dtype=tf.uint8, name=None),\n",
            "    'masks': TensorSpec(shape=(1, 40), dtype=tf.float32, name=None),\n",
            "    'obs': TensorSpec(shape=(1, 40, 18), dtype=tf.float32, name=None),\n",
            "    'proprioceptive_features': TensorSpec(shape=(1, 40, 7), dtype=tf.float32, name=None),\n",
            "    'seq_lens': TensorSpec(shape=(1,), dtype=tf.float32, name=None),\n",
            "    'tstep_idxs': TensorSpec(shape=(1, None), dtype=tf.int32, name=None)}\n"
          ],
          "name": "stdout"
        }
      ]
    },
    {
      "cell_type": "code",
      "metadata": {
        "id": "tCOVvskyJNtp"
      },
      "source": [
        "t_it = iter(train_dataset)\n"
      ],
      "execution_count": 32,
      "outputs": []
    },
    {
      "cell_type": "code",
      "metadata": {
        "id": "-aTZRSL6dKzg"
      },
      "source": [
        "import time"
      ],
      "execution_count": 33,
      "outputs": []
    },
    {
      "cell_type": "code",
      "metadata": {
        "id": "olTaVtnGJUAh"
      },
      "source": [
        "from tensorflow.train import BytesList, FloatList, Int64List\n",
        "from tensorflow.train import Example, Features, Feature\n",
        "\n",
        "def serialise(data):\n",
        "    \n",
        "    obs, acts, goals, seq_lens, masks, dataset_path, tstep_idxs , imgs , goal_imgs, proprioceptive_features = data['obs'], \\\n",
        "    data['acts'], data['goals'], data['seq_lens'], data['masks'], data['dataset_path'], data['tstep_idxs'], data['imgs'], data['goal_imgs'], data['proprioceptive_features']\n",
        "    \n",
        "    # obs (1, 40, 18)\n",
        "    # acts (1, 40, 7)\n",
        "    # goals (1, 40, 11)\n",
        "    # seq_lens (1,)\n",
        "    # masks (1, 40)\n",
        "    # dataset_path (1, 40)\n",
        "    # tstep_idxs (1, 40)\n",
        "    # imgs (1, 40, 200, 200, 3)\n",
        "    # goal_imgs (1, 40, 200, 200, 3)\n",
        "    # proprioceptive_features (1, 40, 7)\n",
        "\n",
        "    goal_imgs = tf.expand_dims(goal_imgs[:,0,:,:,:],1) # crete a :, 1, :,:,: shaped goal images for less file IO\n",
        "\n",
        "    \n",
        "    obs = Feature(bytes_list=BytesList(value=[tf.io.serialize_tensor(obs).numpy(),]))\n",
        "    acts = Feature(bytes_list=BytesList(value=[tf.io.serialize_tensor(acts).numpy(),]))\n",
        "    goals = Feature(bytes_list=BytesList(value=[tf.io.serialize_tensor(goals).numpy(),])) \n",
        "    seq_lens = Feature(int64_list=Int64List(value=[seq_lens,]))\n",
        "    masks = Feature(bytes_list=BytesList(value=[tf.io.serialize_tensor(masks).numpy(),])) \n",
        "\n",
        "    imgs = Feature(bytes_list=BytesList(value=[tf.io.serialize_tensor(imgs).numpy(),]))\n",
        "    goal_imgs = Feature(bytes_list=BytesList(value=[tf.io.serialize_tensor(goal_imgs).numpy(),]))\n",
        "    proprioceptive_features = Feature(bytes_list=BytesList(value=[tf.io.serialize_tensor(proprioceptive_features).numpy(),]))\n",
        "\n",
        "    \n",
        "    features = Features(feature={\n",
        "              'obs':obs,\n",
        "              'acts':acts,\n",
        "              'goals':goals,\n",
        "              'seq_lens':seq_lens,\n",
        "              'masks':masks,\n",
        "              'imgs':imgs,\n",
        "              'goal_imgs':goal_imgs,\n",
        "              'proprioceptive_features':proprioceptive_features})\n",
        "    \n",
        "    example = Example(features=features)\n",
        "    \n",
        "    return example.SerializeToString()\n"
      ],
      "execution_count": 39,
      "outputs": []
    },
    {
      "cell_type": "code",
      "metadata": {
        "id": "Qp3b951GSNVs"
      },
      "source": [
        "def decode_image(image_data):\n",
        "    image = tf.image.decode_jpeg(image_data, channels=3)\n",
        "    #image = tf.cast(image, tf.float32) / 255.0  # convert image to floats in [0, 1] range\n",
        "    image = tf.reshape(image, [200,200, 3]) # explicit size needed for TPU\n",
        "    return image\n",
        "\n",
        "def read_tfrecord(example):\n",
        "    LABELED_TFREC_FORMAT = {\n",
        "            'obs':tf.io.FixedLenFeature([], tf.string), # tf.string means bytestring,\n",
        "            'acts':tf.io.FixedLenFeature([], tf.string), # tf.string means bytestring,\n",
        "            'goals':tf.io.FixedLenFeature([], tf.string), # tf.string means bytestring,\n",
        "            'seq_lens':tf.io.FixedLenFeature([], tf.int64),\n",
        "            'masks':tf.io.FixedLenFeature([], tf.string), # tf.string means bytestring,\n",
        "            'imgs':tf.io.FixedLenFeature([], tf.string), # tf.string means bytestring,\n",
        "            'goal_imgs':tf.io.FixedLenFeature([], tf.string), # tf.string means bytestring,\n",
        "            'proprioceptive_features':tf.io.FixedLenFeature([], tf.string), # tf.string means bytestring,\n",
        "    }\n",
        "    data = tf.io.parse_single_example(example, LABELED_TFREC_FORMAT)\n",
        "    \n",
        "    obs = tf.io.parse_tensor(data['obs'], tf.float32) \n",
        "    acts = tf.io.parse_tensor(data['acts'], tf.float32) \n",
        "    goals = tf.io.parse_tensor(data['goals'], tf.float32)  \n",
        "    seq_lens = tf.cast(data['seq_lens'], tf.int32) # this is meant to be 32 even though you serialize as 64\n",
        "    masks = tf.io.parse_tensor(data['masks'], tf.float32) \n",
        "    imgs = tf.io.parse_tensor(data['imgs'], tf.uint8)   \n",
        "    goal_imgs = tf.io.parse_tensor(data['goal_imgs'], tf.uint8)   \n",
        "    proprioceptive_features =tf.io.parse_tensor( data['proprioceptive_features'], tf.float32) \n",
        "\n",
        "    \n",
        "    # img = decode_image(data['img'])\n",
        "\n",
        "    return {  'obs':obs,\n",
        "              'acts':acts,\n",
        "              'goals':goals,\n",
        "              'seq_lens':seq_lens,\n",
        "              'masks':masks,\n",
        "              'imgs':imgs,\n",
        "              'goal_imgs':goal_imgs,\n",
        "              'proprioceptive_features':proprioceptive_features}"
      ],
      "execution_count": 40,
      "outputs": []
    },
    {
      "cell_type": "code",
      "metadata": {
        "id": "U5Bm06QWYuQK"
      },
      "source": [
        "data_paths = [str(STORAGE_PATH/'precompute')+f\"/{x}.tfrecords\" for x in range(0,23)]"
      ],
      "execution_count": 41,
      "outputs": []
    },
    {
      "cell_type": "code",
      "metadata": {
        "id": "jhynHeR5YrD_",
        "colab": {
          "base_uri": "https://localhost:8080/",
          "height": 452
        },
        "outputId": "6d058504-42f4-46d1-d5fc-a555183377a1"
      },
      "source": [
        "\n",
        "\n",
        "for path in data_paths:\n",
        "  with tf.io.TFRecordWriter(path) as file_writer:\n",
        "    print(path)\n",
        "    for i in range(0,10):\n",
        "        byte_stream = serialise(t_it.next())\n",
        "        file_writer.write(byte_stream)"
      ],
      "execution_count": 43,
      "outputs": [
        {
          "output_type": "stream",
          "text": [
            "gs://lfp_europe_west4_a/precompute/0.tfrecords\n",
            "gs://lfp_europe_west4_a/precompute/1.tfrecords\n",
            "gs://lfp_europe_west4_a/precompute/2.tfrecords\n",
            "gs://lfp_europe_west4_a/precompute/3.tfrecords\n",
            "gs://lfp_europe_west4_a/precompute/4.tfrecords\n",
            "gs://lfp_europe_west4_a/precompute/5.tfrecords\n",
            "gs://lfp_europe_west4_a/precompute/6.tfrecords\n",
            "gs://lfp_europe_west4_a/precompute/7.tfrecords\n",
            "gs://lfp_europe_west4_a/precompute/8.tfrecords\n",
            "gs://lfp_europe_west4_a/precompute/9.tfrecords\n",
            "gs://lfp_europe_west4_a/precompute/10.tfrecords\n",
            "gs://lfp_europe_west4_a/precompute/11.tfrecords\n",
            "gs://lfp_europe_west4_a/precompute/12.tfrecords\n",
            "gs://lfp_europe_west4_a/precompute/13.tfrecords\n",
            "gs://lfp_europe_west4_a/precompute/14.tfrecords\n"
          ],
          "name": "stdout"
        },
        {
          "output_type": "error",
          "ename": "KeyboardInterrupt",
          "evalue": "ignored",
          "traceback": [
            "\u001b[0;31m---------------------------------------------------------------------------\u001b[0m",
            "\u001b[0;31mKeyboardInterrupt\u001b[0m                         Traceback (most recent call last)",
            "\u001b[0;32m<ipython-input-43-58eb0438ee58>\u001b[0m in \u001b[0;36m<module>\u001b[0;34m()\u001b[0m\n\u001b[1;32m      6\u001b[0m     \u001b[0;32mfor\u001b[0m \u001b[0mi\u001b[0m \u001b[0;32min\u001b[0m \u001b[0mrange\u001b[0m\u001b[0;34m(\u001b[0m\u001b[0;36m0\u001b[0m\u001b[0;34m,\u001b[0m\u001b[0;36m10\u001b[0m\u001b[0;34m)\u001b[0m\u001b[0;34m:\u001b[0m\u001b[0;34m\u001b[0m\u001b[0;34m\u001b[0m\u001b[0m\n\u001b[1;32m      7\u001b[0m         \u001b[0mbyte_stream\u001b[0m \u001b[0;34m=\u001b[0m \u001b[0mserialise\u001b[0m\u001b[0;34m(\u001b[0m\u001b[0mt_it\u001b[0m\u001b[0;34m.\u001b[0m\u001b[0mnext\u001b[0m\u001b[0;34m(\u001b[0m\u001b[0;34m)\u001b[0m\u001b[0;34m)\u001b[0m\u001b[0;34m\u001b[0m\u001b[0;34m\u001b[0m\u001b[0m\n\u001b[0;32m----> 8\u001b[0;31m         \u001b[0mfile_writer\u001b[0m\u001b[0;34m.\u001b[0m\u001b[0mwrite\u001b[0m\u001b[0;34m(\u001b[0m\u001b[0mbyte_stream\u001b[0m\u001b[0;34m)\u001b[0m\u001b[0;34m\u001b[0m\u001b[0;34m\u001b[0m\u001b[0m\n\u001b[0m",
            "\u001b[0;31mKeyboardInterrupt\u001b[0m: "
          ]
        }
      ]
    },
    {
      "cell_type": "code",
      "metadata": {
        "id": "zBchxCCJaoys"
      },
      "source": [
        "batch_size = 16\n",
        "def load_tf_records(filenames, ordered=False):\n",
        "    # Read from TFRecords. For optimal performance, reading from multiple files at once and\n",
        "    # disregarding data order. Order does not matter since we will be shuffling the data anyway.\n",
        "\n",
        "    # check, does this ignore intra order or just inter order? Both are an issue!\n",
        "    ignore_order = tf.data.Options()\n",
        "    if not ordered:\n",
        "        ignore_order.experimental_deterministic = False # disable order, increase speed\n",
        "\n",
        "    dataset = tf.data.TFRecordDataset(filenames, num_parallel_reads=60) # automatically interleaves reads from multiple files - keep it at 1 we need the order\n",
        "    dataset = dataset.with_options(ignore_order) # uses data as soon as it streams in, rather than in its original order\n",
        "    dataset = dataset.map(read_tfrecord, num_parallel_calls=600)\n",
        "    dataset =   dataset.repeat()\\\n",
        "                .batch(batch_size, drop_remainder=True)\\\n",
        "                # .prefetch(dl.prefetch_size)\n",
        "    return dataset\n",
        "\n"
      ],
      "execution_count": 48,
      "outputs": []
    },
    {
      "cell_type": "code",
      "metadata": {
        "id": "pFPmrQzYeaaF",
        "outputId": "b1f61a08-3fd2-47c4-b5c6-28d168e7bd67",
        "colab": {
          "base_uri": "https://localhost:8080/"
        }
      },
      "source": [
        "data_paths = [str(STORAGE_PATH/'precompute')+f\"/{x}.tfrecords\" for x in range(0,13)]\r\n",
        "d =load_tf_records(data_paths, ordered=False)#['/home/sholto/Desktop/AI/learning_from_play/data/UR5_high_transition/tf_records/21.tfrecords'], ordered=True) #record_paths\r\n",
        "print(d)\r\n",
        "d = iter(d)\r\n",
        "x = d.next()"
      ],
      "execution_count": 50,
      "outputs": [
        {
          "output_type": "stream",
          "text": [
            "<BatchDataset shapes: {obs: <unknown>, acts: <unknown>, goals: <unknown>, seq_lens: (16,), masks: <unknown>, imgs: <unknown>, goal_imgs: <unknown>, proprioceptive_features: <unknown>}, types: {obs: tf.float32, acts: tf.float32, goals: tf.float32, seq_lens: tf.int32, masks: tf.float32, imgs: tf.uint8, goal_imgs: tf.uint8, proprioceptive_features: tf.float32}>\n"
          ],
          "name": "stdout"
        }
      ]
    },
    {
      "cell_type": "code",
      "metadata": {
        "id": "TSWRDioYa-iA",
        "colab": {
          "base_uri": "https://localhost:8080/"
        },
        "outputId": "edfd7ace-e7b8-4e8b-953e-0d2ec4b72e4e"
      },
      "source": [
        "t = time.time()\n",
        "for i in range(0,10):\n",
        "  # print(i)\n",
        "  x = d.next()\n",
        "print(time.time()-t)"
      ],
      "execution_count": 70,
      "outputs": [
        {
          "output_type": "stream",
          "text": [
            "1.0041556358337402\n"
          ],
          "name": "stdout"
        }
      ]
    },
    {
      "cell_type": "code",
      "metadata": {
        "id": "L6Mq4UjodN4X",
        "colab": {
          "base_uri": "https://localhost:8080/"
        },
        "outputId": "992b09ad-c1ef-4db0-ed4c-31776098120f"
      },
      "source": [
        "dl = lfp.data.PlayDataloader(include_imgs = args.images, batch_size=batch_size,  window_size=args.window_size_max, min_window_size=args.window_size_min)\n",
        "train_data = dl.extract(TRAIN_DATA_PATHS, from_tfrecords=args.from_tfrecords)\n",
        "train_dataset = dl.load(train_data)\n",
        "test_it = iter(train_dataset)"
      ],
      "execution_count": 53,
      "outputs": [
        {
          "output_type": "stream",
          "text": [
            "{   'acts': TensorSpec(shape=(16, 40, 7), dtype=tf.float32, name=None),\n",
            "    'dataset_path': TensorSpec(shape=(16, None), dtype=tf.int32, name=None),\n",
            "    'goal_imgs': TensorSpec(shape=(16, 40, 200, 200, 3), dtype=tf.uint8, name=None),\n",
            "    'goals': TensorSpec(shape=(16, 40, 11), dtype=tf.float32, name=None),\n",
            "    'imgs': TensorSpec(shape=(16, 40, 200, 200, 3), dtype=tf.uint8, name=None),\n",
            "    'masks': TensorSpec(shape=(16, 40), dtype=tf.float32, name=None),\n",
            "    'obs': TensorSpec(shape=(16, 40, 18), dtype=tf.float32, name=None),\n",
            "    'proprioceptive_features': TensorSpec(shape=(16, 40, 7), dtype=tf.float32, name=None),\n",
            "    'seq_lens': TensorSpec(shape=(16,), dtype=tf.float32, name=None),\n",
            "    'tstep_idxs': TensorSpec(shape=(16, None), dtype=tf.int32, name=None)}\n",
            "4.210890531539917\n"
          ],
          "name": "stdout"
        }
      ]
    },
    {
      "cell_type": "code",
      "metadata": {
        "id": "q-eJTU45EZ2d",
        "outputId": "888c6f8e-aa92-4726-88fc-1d8ff80db4e2",
        "colab": {
          "base_uri": "https://localhost:8080/"
        }
      },
      "source": [
        "t = time.time()\r\n",
        "for i in range(0,10):\r\n",
        "  test_it.next()\r\n",
        "print(time.time()-t)"
      ],
      "execution_count": 75,
      "outputs": [
        {
          "output_type": "stream",
          "text": [
            "0.0570371150970459\n"
          ],
          "name": "stdout"
        }
      ]
    },
    {
      "cell_type": "code",
      "metadata": {
        "id": "fidJedsfJZKQ"
      },
      "source": [
        "for i in range(0, 100):\n",
        "  example = t_it.next()"
      ],
      "execution_count": 76,
      "outputs": []
    },
    {
      "cell_type": "code",
      "metadata": {
        "id": "Gjb0EETLV7Np"
      },
      "source": [
        "# np.frombuffer(example['goal_imgs'].numpy().tobytes(), np.uint8)"
      ],
      "execution_count": null,
      "outputs": []
    },
    {
      "cell_type": "code",
      "metadata": {
        "id": "NbAgjuzEPCQa"
      },
      "source": [
        "bstr = serialise(example)"
      ],
      "execution_count": null,
      "outputs": []
    },
    {
      "cell_type": "code",
      "metadata": {
        "id": "_yXPykweSO4x"
      },
      "source": [
        "d = read_tfrecord(bstr)"
      ],
      "execution_count": null,
      "outputs": []
    },
    {
      "cell_type": "code",
      "metadata": {
        "colab": {
          "base_uri": "https://localhost:8080/",
          "height": 287
        },
        "id": "XRVtiADeTx1d",
        "outputId": "27cd8a05-03dc-4f22-f5aa-7cf7d96be6cb"
      },
      "source": [
        "import matplotlib.pyplot as plt \n",
        "plt.imshow(d['imgs'][0,15])"
      ],
      "execution_count": null,
      "outputs": [
        {
          "output_type": "execute_result",
          "data": {
            "text/plain": [
              "<matplotlib.image.AxesImage at 0x7fa392709e90>"
            ]
          },
          "metadata": {
            "tags": []
          },
          "execution_count": 113
        },
        {
          "output_type": "display_data",
          "data": {
            "image/png": "[encoded data removed]",
            "text/plain": [
              "<Figure size 432x288 with 1 Axes>"
            ]
          },
          "metadata": {
            "tags": [],
            "needs_background": "light"
          }
        }
      ]
    },
    {
      "cell_type": "code",
      "metadata": {
        "id": "tsU3Ty9dRFsS"
      },
      "source": [
        "\n",
        "\n",
        "def load_tf_records(filenames, ordered=False):\n",
        "    # Read from TFRecords. For optimal performance, reading from multiple files at once and\n",
        "    # disregarding data order. Order does not matter since we will be shuffling the data anyway.\n",
        "\n",
        "    # check, does this ignore intra order or just inter order? Both are an issue!\n",
        "    ignore_order = tf.data.Options()\n",
        "    if not ordered:\n",
        "        ignore_order.experimental_deterministic = False # disable order, increase speed\n",
        "\n",
        "    dataset = tf.data.TFRecordDataset(filenames, num_parallel_reads=tf.data.experimental.AUTOTUNE) # automatically interleaves reads from multiple files - keep it at 1 we need the order\n",
        "    dataset = dataset.with_options(ignore_order) # uses data as soon as it streams in, rather than in its original order\n",
        "    dataset = dataset.map(read_tfrecord, num_parallel_calls=tf.data.experimental.AUTOTUNE)\n",
        "    return dataset\n",
        "\n",
        "d =load_dataset([record_paths], ordered=True)#['/home/sholto/Desktop/AI/learning_from_play/data/UR5_high_transition/tf_records/21.tfrecords'], ordered=True) #record_paths\n",
        "print(d)\n",
        "d = iter(d)"
      ],
      "execution_count": null,
      "outputs": []
    },
    {
      "cell_type": "code",
      "metadata": {
        "id": "3vUsisjQLSrm"
      },
      "source": [
        "for k,v in example.items():\n",
        "  print(k, v.shape)"
      ],
      "execution_count": null,
      "outputs": []
    },
    {
      "cell_type": "code",
      "metadata": {
        "id": "ewqeftlUfuNY"
      },
      "source": [
        "d\n",
        "\n",
        "\n",
        "\n",
        "\n",
        "\n",
        "with tf.io.TFRecordWriter(str(path/'tf_records/')+f\"/{demo}.tfrecords\") as file_writer:\n",
        "            for data in it:\n",
        "                byte_stream = serialise(data)\n",
        "                file_writer.write(byte_stream)"
      ],
      "execution_count": null,
      "outputs": []
    },
    {
      "cell_type": "markdown",
      "metadata": {
        "id": "sZ1fcxyeiI-O"
      },
      "source": [
        ""
      ]
    }
  ]
}