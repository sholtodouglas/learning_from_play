{
 "cells": [
  {
   "cell_type": "code",
   "execution_count": 1,
   "metadata": {},
   "outputs": [
    {
     "data": {
      "text/html": [
       "<style>.container { width:80% !important; }</style>"
      ],
      "text/plain": [
       "<IPython.core.display.HTML object>"
      ]
     },
     "metadata": {},
     "output_type": "display_data"
    }
   ],
   "source": [
    "from IPython.core.display import display, HTML\n",
    "display(HTML(\"<style>.container { width:80% !important; }</style>\"))\n",
    "# TODO: Images in the latent space plot, and then images on test (need to supply them as goals)"
   ]
  },
  {
   "cell_type": "code",
   "execution_count": 2,
   "metadata": {},
   "outputs": [],
   "source": [
    "import argparse\n",
    "\n",
    "\n",
    "parser = argparse.ArgumentParser(description='LFP training arguments')\n",
    "parser.add_argument('run_name')\n",
    "parser.add_argument('--train_datasets', nargs='+', help='Training dataset names')\n",
    "parser.add_argument('--test_datasets', nargs='+', help='Testing dataset names')\n",
    "parser.add_argument('-c', '--colab', default=False, action='store_true', help='Enable if using colab environment')\n",
    "parser.add_argument('-s', '--data_source', default='DRIVE', help='Source of training data')\n",
    "parser.add_argument('-tfr', '--from_tfrecords', default=False, action='store_true', help='Enable if using tfrecords format')\n",
    "parser.add_argument('-d', '--device', default='TPU', help='Hardware device to train on')\n",
    "parser.add_argument('-b', '--batch_size', default=512, type=int)\n",
    "parser.add_argument('-la', '--actor_layer_size', default=2048, type=int, help='Layer size of actor, increases size of neural net')\n",
    "parser.add_argument('-le', '--encoder_layer_size', default=512, type=int, help='Layer size of encoder, increases size of neural net')\n",
    "parser.add_argument('-lp', '--planner_layer_size', default=512, type=int, help='Layer size of planner, increases size of neural net')\n",
    "parser.add_argument('-embd', '--img_embedding_size', default=64, type=int, help='Embedding size of features,goal space')\n",
    "parser.add_argument('-z', '--latent_dim', default=256, type=int, help='Size of the VAE latent space')\n",
    "parser.add_argument('-g', '--gcbc', default=False, action='store_true', help='Enables GCBC, a simpler model with no encoder/planner')\n",
    "parser.add_argument('-n', '--num_distribs', default=None, type=int, help='Number of distributions to use in logistic mixture model')\n",
    "parser.add_argument('-q', '--qbits', default=None, type=int, help='Number of quantisation bits to discrete distributions into. Total quantisations = 2**qbits')\n",
    "parser.add_argument('-lr', '--learning_rate', type=float, default=3e-4)\n",
    "parser.add_argument('-t', '--train_steps', type=int, default=200000)\n",
    "parser.add_argument('-r', '--resume', default=False, action='store_true')\n",
    "parser.add_argument('-B', '--beta', type=float, default=0.00003)\n",
    "parser.add_argument('-i', '--images', default=False, action='store_true')\n",
    "\n",
    "args = parser.parse_args('''\n",
    "GCSB0_00003\n",
    "--train_dataset UR5 UR5_slow_gripper UR5_high_transition\n",
    "--test_dataset UR5_slow_gripper_test\n",
    "-c\n",
    "-d GPU\n",
    "-b 512\n",
    "-la 2048\n",
    "-le 512\n",
    "-lp 512\n",
    "-z 256\n",
    "-lr 3e-4\n",
    "\n",
    "'''.split())\n",
    "path = f\"saved_models/{args.run_name}\"    "
   ]
  },
  {
   "cell_type": "code",
   "execution_count": 3,
   "metadata": {},
   "outputs": [],
   "source": [
    "# -tfr\n",
    "# -i\n"
   ]
  },
  {
   "cell_type": "code",
   "execution_count": 4,
   "metadata": {},
   "outputs": [
    {
     "name": "stderr",
     "output_type": "stream",
     "text": [
      "/home/sholto/anaconda3/lib/python3.7/importlib/_bootstrap.py:219: RuntimeWarning: greenlet.greenlet size changed, may indicate binary incompatibility. Expected 144 from C header, got 152 from PyObject\n",
      "  return f(*args, **kwds)\n",
      "/home/sholto/anaconda3/lib/python3.7/importlib/_bootstrap.py:219: RuntimeWarning: greenlet.greenlet size changed, may indicate binary incompatibility. Expected 144 from C header, got 152 from PyObject\n",
      "  return f(*args, **kwds)\n",
      "/home/sholto/anaconda3/lib/python3.7/importlib/_bootstrap.py:219: RuntimeWarning: greenlet.greenlet size changed, may indicate binary incompatibility. Expected 144 from C header, got 152 from PyObject\n",
      "  return f(*args, **kwds)\n",
      "/home/sholto/anaconda3/lib/python3.7/importlib/_bootstrap.py:219: RuntimeWarning: greenlet.greenlet size changed, may indicate binary incompatibility. Expected 144 from C header, got 152 from PyObject\n",
      "  return f(*args, **kwds)\n"
     ]
    },
    {
     "name": "stdout",
     "output_type": "stream",
     "text": [
      "Using local setup\n",
      "Working path: /home/sholto/Desktop/AI/learning_from_play\n",
      "Storage path: /home/sholto/Desktop/AI/learning_from_play\n"
     ]
    }
   ],
   "source": [
    "import sys\n",
    "sys.path.append(\"..\") # Adds higher directory to python modules path.\n",
    "from pathlib import Path\n",
    "import glob\n",
    "import numpy as np\n",
    "import tensorflow as tf\n",
    "import pickle\n",
    "import matplotlib.pyplot as plt\n",
    "import random\n",
    "import pickle\n",
    "import os\n",
    "import config\n",
    "import data\n",
    "import random\n",
    "from natsort import natsorted\n",
    "import lfp\n",
    "import importlib\n",
    "arm = 'UR5'\n",
    "\n",
    "TEST_DATASET = \"UR5_slow_gripper_test\" \n",
    "print('Using local setup')\n",
    "WORKING_PATH = Path().absolute().parent\n",
    "print(f'Working path: {WORKING_PATH}')\n",
    "os.chdir(WORKING_PATH)\n",
    "STORAGE_PATH = WORKING_PATH\n",
    "print(f'Storage path: {STORAGE_PATH}')\n",
    "\n",
    "TRAIN_DATA_PATHS = [STORAGE_PATH/'data'/x for x in args.train_datasets]\n",
    "TEST_DATA_PATHS = [STORAGE_PATH/'data'/x for x in args.test_datasets]"
   ]
  },
  {
   "cell_type": "code",
   "execution_count": 5,
   "metadata": {},
   "outputs": [],
   "source": [
    "physical_devices = tf.config.list_physical_devices(args.device)\n",
    "if config.DEVICE is 'GPU':\n",
    "    tf.config.experimental.set_memory_growth(physical_devices[0], enable=True)"
   ]
  },
  {
   "cell_type": "code",
   "execution_count": 6,
   "metadata": {},
   "outputs": [],
   "source": [
    "\n",
    "#args.run_name = \"GCSB0_00003\" #\"PROB0_02\"\n",
    "             #ALLB0.00003_60k\""
   ]
  },
  {
   "cell_type": "code",
   "execution_count": 7,
   "metadata": {},
   "outputs": [],
   "source": [
    "\n",
    "# hyper_params = np.load(f'{path}/hyper_params.npz', allow_pickle=True)\n",
    "# scaling = hyper_params['scaling']\n",
    "# for k,v in hyper_params.items():\n",
    "#     print(k,v)\n",
    "if args.images:\n",
    "    GLOBAL_BATCH_SIZE = 16\n",
    "    shuffle_size = GLOBAL_BATCH_SIZE*5\n",
    "else:\n",
    "    GLOBAL_BATCH_SIZE = 512\n",
    "    shuffle_size = None # allow the dl to set it\n",
    "\n",
    "dl = lfp.data.PlayDataloader(include_imgs = args.images, batch_size=GLOBAL_BATCH_SIZE, shuffle_size = shuffle_size)"
   ]
  },
  {
   "cell_type": "code",
   "execution_count": 8,
   "metadata": {},
   "outputs": [
    {
     "name": "stderr",
     "output_type": "stream",
     "text": [
      "UR5_slow_gripper_test: 100%|██████████| 2/2 [00:00<00:00, 46.75it/s]\n"
     ]
    },
    {
     "name": "stdout",
     "output_type": "stream",
     "text": [
      "{   'acts': TensorSpec(shape=(512, 50, 7), dtype=tf.float32, name=None),\n",
      "    'dataset_path': TensorSpec(shape=(512, None, 1), dtype=tf.int32, name=None),\n",
      "    'goals': TensorSpec(shape=(512, 50, 11), dtype=tf.float32, name=None),\n",
      "    'masks': TensorSpec(shape=(512, 50), dtype=tf.float32, name=None),\n",
      "    'obs': TensorSpec(shape=(512, 50, 18), dtype=tf.float32, name=None),\n",
      "    'seq_lens': TensorSpec(shape=(512,), dtype=tf.float32, name=None),\n",
      "    'tstep_idxs': TensorSpec(shape=(512, None, 1), dtype=tf.int32, name=None)}\n"
     ]
    }
   ],
   "source": [
    "valid_data = dl.extract(TEST_DATA_PATHS, from_tfrecords=args.from_tfrecords)\n",
    "valid_dataset = dl.load(valid_data)"
   ]
  },
  {
   "cell_type": "code",
   "execution_count": 9,
   "metadata": {},
   "outputs": [
    {
     "name": "stdout",
     "output_type": "stream",
     "text": [
      "Obs: (N,18), Acts: (N,7), Goals: (N,11)\n"
     ]
    }
   ],
   "source": [
    "print(f'Obs: (N,{dl.obs_dim}), Acts: (N,{dl.act_dim}), Goals: (N,{dl.goal_dim})')"
   ]
  },
  {
   "cell_type": "markdown",
   "metadata": {},
   "source": [
    "# Load our  models"
   ]
  },
  {
   "cell_type": "code",
   "execution_count": 10,
   "metadata": {},
   "outputs": [],
   "source": [
    "model_params = {'obs_dim':args.img_embedding_size + dl.proprioceptive_features_dim if args.images else dl.obs_dim,\n",
    "            'goal_dim':args.img_embedding_size if args.images else dl.goal_dim,\n",
    "            'act_dim':dl.act_dim,\n",
    "            'layer_size':args.actor_layer_size, \n",
    "            'latent_dim':args.latent_dim}\n",
    "\n",
    "actor = lfp.model.create_actor(**model_params, gcbc=args.gcbc, num_distribs=args.num_distribs, qbits=args.qbits)\n",
    "\n",
    "if args.gcbc:\n",
    "    encoder = None\n",
    "    planner = None\n",
    "else:\n",
    "    model_params['layer_size'] = args.encoder_layer_size\n",
    "    encoder = lfp.model.create_encoder(**model_params)\n",
    "    model_params['layer_size'] = args.planner_layer_size\n",
    "    planner = lfp.model.create_planner(**model_params)\n",
    "    \n",
    "if args.images:\n",
    "    cnn = lfp.model.cnn(dl.img_size, dl.img_size, embedding_size=args.img_embedding_size)\n",
    "    lfp.utils.build_cnn(cnn) # Have to do this becasue it is subclassed and the reshapes in the spatial softmax don't play nice with model auto build\n",
    "else:\n",
    "    cnn = None"
   ]
  },
  {
   "cell_type": "code",
   "execution_count": 11,
   "metadata": {},
   "outputs": [
    {
     "name": "stdout",
     "output_type": "stream",
     "text": [
      "Checkpoint restored\n"
     ]
    }
   ],
   "source": [
    "lfp.utils.load_weights(path, actor, encoder, planner, cnn)"
   ]
  },
  {
   "cell_type": "code",
   "execution_count": 12,
   "metadata": {},
   "outputs": [],
   "source": [
    "v_it = iter(valid_dataset)\n",
    "batch = v_it.next()\n",
    "states,acts,goals,seq_lens,masks = batch['obs'],batch['acts'],batch['goals'],batch['seq_lens'],batch['masks']\n",
    "T = states.shape[1]\n",
    "if args.images:\n",
    "    imgs, proprioceptive_features, goal_imgs = batch['imgs'], batch['proprioceptive_features'], batch['goal_imgs']\n",
    "    states, goals = lfp.utils.images_to_2D_features(imgs, proprioceptive_features, goal_imgs, cnn)\n",
    "    \n",
    "if args.gcbc:\n",
    "  pred_acts = actor([states, goals])\n",
    "else:\n",
    "  encoding = encoder([states,acts])\n",
    "  plan = planner([states[:, 0, :], goals[:, 0, :]]) \n",
    "                                                  \n",
    "  # check if encoder is overfitting on validation\n",
    "  z_enc = z = tf.tile(tf.expand_dims(encoding.sample(), 1), (1, T, 1))\n",
    "  enc_act_distrib = actor([states, z_enc, goals])\n",
    "\n",
    "  # true validation performance, w/ planner\n",
    "  z = tf.tile(tf.expand_dims(plan.sample(), 1), (1, T, 1))\n",
    "  pred_acts = actor([states, z, goals]) "
   ]
  },
  {
   "cell_type": "code",
   "execution_count": 13,
   "metadata": {
    "scrolled": true
   },
   "outputs": [
    {
     "data": {
      "image/png": "[encoded data removed]",
      "text/plain": [
       "<Figure size 720x864 with 7 Axes>"
      ]
     },
     "metadata": {},
     "output_type": "display_data"
    }
   ],
   "source": [
    "#@title Plot timeseries of state/action tracking over time - xyz q1234 gripper\n",
    "import seaborn as sns\n",
    "sns.set_style(\"darkgrid\")\n",
    "\n",
    "idx = 4\n",
    "seq_len = int(seq_lens[idx])\n",
    "x = np.arange(seq_len)\n",
    "labels = ['x','y','z','r','p','y','gripper']\n",
    "fig, axes = plt.subplots(dl.act_dim, 1, figsize=(10,12), squeeze=True)\n",
    "for i in range(dl.act_dim):\n",
    "    #sns.lineplot(x, acts[idx,:seq_len,i], color='r', ax=axes[i])\n",
    "    axes[i].plot(acts[idx,:seq_len,i])\n",
    "    axes[i].plot(pred_acts[idx, :seq_len,i])\n",
    "    #sns.lineplot(x, pred_acts[idx, :seq_len,i], color='g', ax=axes[i])\n",
    "    if not args.gcbc:\n",
    "      sns.lineplot(x, enc_act_distrib[idx, :seq_len,i], color='b', ax=axes[i])\n",
    "      axes[i].set_title(f'$\\\\bf{labels[i]}$')\n",
    "    \n",
    "fig.legend( ('true action', 'predicted action', 'encoder_action'))    \n",
    "plt.tight_layout()\n",
    "plt.show()"
   ]
  },
  {
   "cell_type": "code",
   "execution_count": 17,
   "metadata": {},
   "outputs": [],
   "source": [
    "\n",
    "batch = iter(valid_dataset).next()"
   ]
  },
  {
   "cell_type": "code",
   "execution_count": 18,
   "metadata": {},
   "outputs": [],
   "source": [
    "\n",
    "import importlib"
   ]
  },
  {
   "cell_type": "code",
   "execution_count": 19,
   "metadata": {},
   "outputs": [
    {
     "ename": "KeyboardInterrupt",
     "evalue": "",
     "output_type": "error",
     "traceback": [
      "\u001b[0;31m---------------------------------------------------------------------------\u001b[0m",
      "\u001b[0;31mKeyboardInterrupt\u001b[0m                         Traceback (most recent call last)",
      "\u001b[0;32m<ipython-input-19-1c95c9fde11e>\u001b[0m in \u001b[0;36m<module>\u001b[0;34m\u001b[0m\n\u001b[1;32m      1\u001b[0m \u001b[0;32mfrom\u001b[0m \u001b[0mlfp\u001b[0m\u001b[0;34m.\u001b[0m\u001b[0mplotting\u001b[0m \u001b[0;32mimport\u001b[0m \u001b[0mproduce_cluster_fig\u001b[0m\u001b[0;34m\u001b[0m\u001b[0;34m\u001b[0m\u001b[0m\n\u001b[1;32m      2\u001b[0m \u001b[0mget_ipython\u001b[0m\u001b[0;34m(\u001b[0m\u001b[0;34m)\u001b[0m\u001b[0;34m.\u001b[0m\u001b[0mrun_line_magic\u001b[0m\u001b[0;34m(\u001b[0m\u001b[0;34m'matplotlib'\u001b[0m\u001b[0;34m,\u001b[0m \u001b[0;34m'inline'\u001b[0m\u001b[0;34m)\u001b[0m\u001b[0;34m\u001b[0m\u001b[0;34m\u001b[0m\u001b[0m\n\u001b[0;32m----> 3\u001b[0;31m \u001b[0m_\u001b[0m \u001b[0;34m=\u001b[0m \u001b[0mproduce_cluster_fig\u001b[0m\u001b[0;34m(\u001b[0m\u001b[0mbatch\u001b[0m\u001b[0;34m,\u001b[0m \u001b[0mencoder\u001b[0m\u001b[0;34m,\u001b[0m \u001b[0mplanner\u001b[0m\u001b[0;34m,\u001b[0m \u001b[0mTEST_DATA_PATHS\u001b[0m\u001b[0;34m[\u001b[0m\u001b[0;36m0\u001b[0m\u001b[0;34m]\u001b[0m\u001b[0;34m,\u001b[0m \u001b[0mnum_take\u001b[0m\u001b[0;34m=\u001b[0m\u001b[0mdl\u001b[0m\u001b[0;34m.\u001b[0m\u001b[0mbatch_size\u001b[0m\u001b[0;34m,\u001b[0m \u001b[0margs\u001b[0m\u001b[0;34m=\u001b[0m\u001b[0margs\u001b[0m\u001b[0;34m,\u001b[0m \u001b[0mcnn\u001b[0m\u001b[0;34m=\u001b[0m\u001b[0mcnn\u001b[0m\u001b[0;34m)\u001b[0m\u001b[0;34m\u001b[0m\u001b[0;34m\u001b[0m\u001b[0m\n\u001b[0m",
      "\u001b[0;32m~/Desktop/AI/learning_from_play/lfp/plotting.py\u001b[0m in \u001b[0;36mproduce_cluster_fig\u001b[0;34m(batch, encoder, planner, TEST_DATA_PATH, num_take, args, cnn, bucket)\u001b[0m\n\u001b[1;32m    152\u001b[0m     \u001b[0mNote\u001b[0m\u001b[0;34m:\u001b[0m \u001b[0mTODO\u001b[0m \u001b[0mHard\u001b[0m \u001b[0mto\u001b[0m \u001b[0mhave\u001b[0m \u001b[0msufficient\u001b[0m \u001b[0mmemory\u001b[0m \u001b[0mto\u001b[0m \u001b[0mdo\u001b[0m \u001b[0mthis\u001b[0m \u001b[0;32min\u001b[0m \u001b[0mone\u001b[0m \u001b[0mpop\u001b[0m \u001b[0;34m-\u001b[0m \u001b[0mneed\u001b[0m \u001b[0mto\u001b[0m \u001b[0mimplement\u001b[0m \u001b[0msome\u001b[0m \u001b[0mbatching\u001b[0m \u001b[0mlogic\u001b[0m \u001b[0;32mfor\u001b[0m \u001b[0mimgs\u001b[0m\u001b[0;34m\u001b[0m\u001b[0;34m\u001b[0m\u001b[0m\n\u001b[1;32m    153\u001b[0m     '''\n\u001b[0;32m--> 154\u001b[0;31m     \u001b[0mobs\u001b[0m\u001b[0;34m,\u001b[0m \u001b[0macts\u001b[0m\u001b[0;34m,\u001b[0m \u001b[0mgoals\u001b[0m\u001b[0;34m,\u001b[0m \u001b[0mlabels\u001b[0m\u001b[0;34m,\u001b[0m \u001b[0mcolors\u001b[0m\u001b[0;34m,\u001b[0m \u001b[0mpaths\u001b[0m\u001b[0;34m,\u001b[0m \u001b[0mimgs\u001b[0m\u001b[0;34m,\u001b[0m \u001b[0mgoal_imgs\u001b[0m\u001b[0;34m,\u001b[0m \u001b[0mproprioceptive_features\u001b[0m \u001b[0;34m=\u001b[0m \u001b[0mget_labelled_trajs\u001b[0m\u001b[0;34m(\u001b[0m\u001b[0mTEST_DATA_PATH\u001b[0m\u001b[0;34m,\u001b[0m \u001b[0mbucket\u001b[0m\u001b[0;34m=\u001b[0m\u001b[0mbucket\u001b[0m\u001b[0;34m,\u001b[0m \u001b[0margs\u001b[0m\u001b[0;34m=\u001b[0m\u001b[0margs\u001b[0m\u001b[0;34m)\u001b[0m\u001b[0;34m\u001b[0m\u001b[0;34m\u001b[0m\u001b[0m\n\u001b[0m\u001b[1;32m    155\u001b[0m     \u001b[0mbatch_states\u001b[0m\u001b[0;34m,\u001b[0m\u001b[0mbatch_acts\u001b[0m\u001b[0;34m,\u001b[0m \u001b[0mbatch_goals\u001b[0m\u001b[0;34m,\u001b[0m \u001b[0mbatch_colors\u001b[0m \u001b[0;34m=\u001b[0m \u001b[0mbatch\u001b[0m\u001b[0;34m[\u001b[0m\u001b[0;34m'obs'\u001b[0m\u001b[0;34m]\u001b[0m\u001b[0;34m[\u001b[0m\u001b[0;34m:\u001b[0m\u001b[0mnum_take\u001b[0m\u001b[0;34m,\u001b[0m \u001b[0;34m:\u001b[0m\u001b[0;36m40\u001b[0m\u001b[0;34m,\u001b[0m \u001b[0;34m:\u001b[0m\u001b[0;34m]\u001b[0m\u001b[0;34m,\u001b[0m\u001b[0mbatch\u001b[0m\u001b[0;34m[\u001b[0m\u001b[0;34m'acts'\u001b[0m\u001b[0;34m]\u001b[0m\u001b[0;34m[\u001b[0m\u001b[0;34m:\u001b[0m\u001b[0mnum_take\u001b[0m\u001b[0;34m,\u001b[0m \u001b[0;34m:\u001b[0m\u001b[0;36m40\u001b[0m\u001b[0;34m,\u001b[0m \u001b[0;34m:\u001b[0m\u001b[0;34m]\u001b[0m\u001b[0;34m,\u001b[0m \u001b[0mbatch\u001b[0m\u001b[0;34m[\u001b[0m\u001b[0;34m'goals'\u001b[0m\u001b[0;34m]\u001b[0m\u001b[0;34m[\u001b[0m\u001b[0;34m:\u001b[0m\u001b[0mnum_take\u001b[0m\u001b[0;34m,\u001b[0m \u001b[0;36m0\u001b[0m\u001b[0;34m,\u001b[0m \u001b[0;34m:\u001b[0m\u001b[0;34m]\u001b[0m\u001b[0;34m,\u001b[0m \u001b[0;34m[\u001b[0m\u001b[0;34m[\u001b[0m\u001b[0;36m0.8\u001b[0m\u001b[0;34m,\u001b[0m\u001b[0;36m0.8\u001b[0m\u001b[0;34m,\u001b[0m\u001b[0;36m0.8\u001b[0m\u001b[0;34m,\u001b[0m\u001b[0;36m0.6\u001b[0m\u001b[0;34m]\u001b[0m\u001b[0;34m]\u001b[0m\u001b[0;34m*\u001b[0m\u001b[0mnum_take\u001b[0m\u001b[0;34m\u001b[0m\u001b[0;34m\u001b[0m\u001b[0m\n\u001b[1;32m    156\u001b[0m \u001b[0;34m\u001b[0m\u001b[0m\n",
      "\u001b[0;32m~/Desktop/AI/learning_from_play/lfp/plotting.py\u001b[0m in \u001b[0;36mget_labelled_trajs\u001b[0;34m(TEST_DATA_PATH, bucket, args)\u001b[0m\n\u001b[1;32m    116\u001b[0m                 \u001b[0;31m# Use imageio.imread for Drive, and tf.io for GCS\u001b[0m\u001b[0;34m\u001b[0m\u001b[0;34m\u001b[0m\u001b[0;34m\u001b[0m\u001b[0m\n\u001b[1;32m    117\u001b[0m                 \u001b[0mpath\u001b[0m  \u001b[0;34m=\u001b[0m  \u001b[0mTEST_DATA_PATH\u001b[0m\u001b[0;34m/\u001b[0m\u001b[0;34m'states_and_ims'\u001b[0m\u001b[0;34m/\u001b[0m\u001b[0mfolder\u001b[0m\u001b[0;34m/\u001b[0m\u001b[0;34m'ims'\u001b[0m\u001b[0;34m/\u001b[0m\u001b[0;34m(\u001b[0m\u001b[0mstr\u001b[0m\u001b[0;34m(\u001b[0m\u001b[0mi\u001b[0m\u001b[0;34m)\u001b[0m\u001b[0;34m+\u001b[0m\u001b[0;34m'.jpg'\u001b[0m\u001b[0;34m)\u001b[0m\u001b[0;34m\u001b[0m\u001b[0;34m\u001b[0m\u001b[0m\n\u001b[0;32m--> 118\u001b[0;31m                 \u001b[0mtraj_imgs\u001b[0m\u001b[0;34m.\u001b[0m\u001b[0mappend\u001b[0m\u001b[0;34m(\u001b[0m\u001b[0mload_img\u001b[0m\u001b[0;34m(\u001b[0m\u001b[0mpath\u001b[0m\u001b[0;34m,\u001b[0m\u001b[0margs\u001b[0m\u001b[0;34m)\u001b[0m\u001b[0;34m)\u001b[0m\u001b[0;34m\u001b[0m\u001b[0;34m\u001b[0m\u001b[0m\n\u001b[0m\u001b[1;32m    119\u001b[0m             \u001b[0mtraj_goal_img\u001b[0m \u001b[0;34m=\u001b[0m \u001b[0mload_img\u001b[0m\u001b[0;34m(\u001b[0m\u001b[0mTEST_DATA_PATH\u001b[0m\u001b[0;34m/\u001b[0m\u001b[0;34m'states_and_ims'\u001b[0m\u001b[0;34m/\u001b[0m\u001b[0mfolder\u001b[0m\u001b[0;34m/\u001b[0m\u001b[0;34m'ims'\u001b[0m\u001b[0;34m/\u001b[0m\u001b[0;34m(\u001b[0m\u001b[0mstr\u001b[0m\u001b[0;34m(\u001b[0m\u001b[0mend\u001b[0m\u001b[0;34m)\u001b[0m\u001b[0;34m+\u001b[0m\u001b[0;34m'.jpg'\u001b[0m\u001b[0;34m)\u001b[0m\u001b[0;34m,\u001b[0m \u001b[0margs\u001b[0m\u001b[0;34m)\u001b[0m\u001b[0;34m\u001b[0m\u001b[0;34m\u001b[0m\u001b[0m\n\u001b[1;32m    120\u001b[0m             \u001b[0mtraj_proprioceptive_features\u001b[0m \u001b[0;34m=\u001b[0m \u001b[0mtraj_obs\u001b[0m\u001b[0;34m[\u001b[0m\u001b[0;34m:\u001b[0m\u001b[0;34m,\u001b[0m\u001b[0;34m:\u001b[0m\u001b[0;36m7\u001b[0m\u001b[0;34m]\u001b[0m \u001b[0;31m# TODO replace this a central var\u001b[0m\u001b[0;34m\u001b[0m\u001b[0;34m\u001b[0m\u001b[0m\n",
      "\u001b[0;32m~/Desktop/AI/learning_from_play/lfp/plotting.py\u001b[0m in \u001b[0;36mload_img\u001b[0;34m(path, args)\u001b[0m\n\u001b[1;32m     85\u001b[0m         \u001b[0;32mreturn\u001b[0m \u001b[0mdecode_image\u001b[0m\u001b[0;34m(\u001b[0m\u001b[0mtf\u001b[0m\u001b[0;34m.\u001b[0m\u001b[0mio\u001b[0m\u001b[0;34m.\u001b[0m\u001b[0mread_file\u001b[0m\u001b[0;34m(\u001b[0m\u001b[0mpath\u001b[0m\u001b[0;34m)\u001b[0m\u001b[0;34m)\u001b[0m\u001b[0;34m\u001b[0m\u001b[0;34m\u001b[0m\u001b[0m\n\u001b[1;32m     86\u001b[0m     \u001b[0;32melse\u001b[0m\u001b[0;34m:\u001b[0m\u001b[0;34m\u001b[0m\u001b[0;34m\u001b[0m\u001b[0m\n\u001b[0;32m---> 87\u001b[0;31m         \u001b[0;32mreturn\u001b[0m \u001b[0mnp\u001b[0m\u001b[0;34m.\u001b[0m\u001b[0marray\u001b[0m\u001b[0;34m(\u001b[0m\u001b[0mimageio\u001b[0m\u001b[0;34m.\u001b[0m\u001b[0mimread\u001b[0m\u001b[0;34m(\u001b[0m\u001b[0mpath\u001b[0m\u001b[0;34m,\u001b[0m \u001b[0mas_gray\u001b[0m\u001b[0;34m=\u001b[0m\u001b[0;32mFalse\u001b[0m\u001b[0;34m,\u001b[0m \u001b[0mpilmode\u001b[0m\u001b[0;34m=\u001b[0m\u001b[0;34m\"RGB\"\u001b[0m\u001b[0;34m)\u001b[0m\u001b[0;34m)\u001b[0m\u001b[0;34m\u001b[0m\u001b[0;34m\u001b[0m\u001b[0m\n\u001b[0m\u001b[1;32m     88\u001b[0m \u001b[0;34m\u001b[0m\u001b[0m\n\u001b[1;32m     89\u001b[0m \u001b[0;32mdef\u001b[0m \u001b[0mget_labelled_trajs\u001b[0m\u001b[0;34m(\u001b[0m\u001b[0mTEST_DATA_PATH\u001b[0m\u001b[0;34m,\u001b[0m \u001b[0mbucket\u001b[0m\u001b[0;34m=\u001b[0m\u001b[0;32mFalse\u001b[0m\u001b[0;34m,\u001b[0m \u001b[0margs\u001b[0m\u001b[0;34m=\u001b[0m \u001b[0;34m{\u001b[0m\u001b[0;34m'images'\u001b[0m\u001b[0;34m:\u001b[0m\u001b[0;32mFalse\u001b[0m\u001b[0;34m,\u001b[0m \u001b[0;34m'data_source'\u001b[0m\u001b[0;34m:\u001b[0m\u001b[0;34m'local'\u001b[0m\u001b[0;34m}\u001b[0m \u001b[0;34m)\u001b[0m\u001b[0;34m:\u001b[0m\u001b[0;34m\u001b[0m\u001b[0;34m\u001b[0m\u001b[0m\n",
      "\u001b[0;32m~/anaconda3/lib/python3.7/site-packages/imageio/core/functions.py\u001b[0m in \u001b[0;36mimread\u001b[0;34m(uri, format, **kwargs)\u001b[0m\n\u001b[1;32m    219\u001b[0m \u001b[0;34m\u001b[0m\u001b[0m\n\u001b[1;32m    220\u001b[0m     \u001b[0;31m# Get reader and read first\u001b[0m\u001b[0;34m\u001b[0m\u001b[0;34m\u001b[0m\u001b[0;34m\u001b[0m\u001b[0m\n\u001b[0;32m--> 221\u001b[0;31m     \u001b[0mreader\u001b[0m \u001b[0;34m=\u001b[0m \u001b[0mread\u001b[0m\u001b[0;34m(\u001b[0m\u001b[0muri\u001b[0m\u001b[0;34m,\u001b[0m \u001b[0mformat\u001b[0m\u001b[0;34m,\u001b[0m \u001b[0;34m\"i\"\u001b[0m\u001b[0;34m,\u001b[0m \u001b[0;34m**\u001b[0m\u001b[0mkwargs\u001b[0m\u001b[0;34m)\u001b[0m\u001b[0;34m\u001b[0m\u001b[0;34m\u001b[0m\u001b[0m\n\u001b[0m\u001b[1;32m    222\u001b[0m     \u001b[0;32mwith\u001b[0m \u001b[0mreader\u001b[0m\u001b[0;34m:\u001b[0m\u001b[0;34m\u001b[0m\u001b[0;34m\u001b[0m\u001b[0m\n\u001b[1;32m    223\u001b[0m         \u001b[0;32mreturn\u001b[0m \u001b[0mreader\u001b[0m\u001b[0;34m.\u001b[0m\u001b[0mget_data\u001b[0m\u001b[0;34m(\u001b[0m\u001b[0;36m0\u001b[0m\u001b[0;34m)\u001b[0m\u001b[0;34m\u001b[0m\u001b[0;34m\u001b[0m\u001b[0m\n",
      "\u001b[0;32m~/anaconda3/lib/python3.7/site-packages/imageio/core/functions.py\u001b[0m in \u001b[0;36mget_reader\u001b[0;34m(uri, format, mode, **kwargs)\u001b[0m\n\u001b[1;32m    141\u001b[0m \u001b[0;34m\u001b[0m\u001b[0m\n\u001b[1;32m    142\u001b[0m     \u001b[0;31m# Return its reader object\u001b[0m\u001b[0;34m\u001b[0m\u001b[0;34m\u001b[0m\u001b[0;34m\u001b[0m\u001b[0m\n\u001b[0;32m--> 143\u001b[0;31m     \u001b[0;32mreturn\u001b[0m \u001b[0mformat\u001b[0m\u001b[0;34m.\u001b[0m\u001b[0mget_reader\u001b[0m\u001b[0;34m(\u001b[0m\u001b[0mrequest\u001b[0m\u001b[0;34m)\u001b[0m\u001b[0;34m\u001b[0m\u001b[0;34m\u001b[0m\u001b[0m\n\u001b[0m\u001b[1;32m    144\u001b[0m \u001b[0;34m\u001b[0m\u001b[0m\n\u001b[1;32m    145\u001b[0m \u001b[0;34m\u001b[0m\u001b[0m\n",
      "\u001b[0;32m~/anaconda3/lib/python3.7/site-packages/imageio/core/format.py\u001b[0m in \u001b[0;36mget_reader\u001b[0;34m(self, request)\u001b[0m\n\u001b[1;32m    162\u001b[0m                 \u001b[0;34m\"Format %s cannot read in mode %r\"\u001b[0m \u001b[0;34m%\u001b[0m \u001b[0;34m(\u001b[0m\u001b[0mself\u001b[0m\u001b[0;34m.\u001b[0m\u001b[0mname\u001b[0m\u001b[0;34m,\u001b[0m \u001b[0mselect_mode\u001b[0m\u001b[0;34m)\u001b[0m\u001b[0;34m\u001b[0m\u001b[0;34m\u001b[0m\u001b[0m\n\u001b[1;32m    163\u001b[0m             )\n\u001b[0;32m--> 164\u001b[0;31m         \u001b[0;32mreturn\u001b[0m \u001b[0mself\u001b[0m\u001b[0;34m.\u001b[0m\u001b[0mReader\u001b[0m\u001b[0;34m(\u001b[0m\u001b[0mself\u001b[0m\u001b[0;34m,\u001b[0m \u001b[0mrequest\u001b[0m\u001b[0;34m)\u001b[0m\u001b[0;34m\u001b[0m\u001b[0;34m\u001b[0m\u001b[0m\n\u001b[0m\u001b[1;32m    165\u001b[0m \u001b[0;34m\u001b[0m\u001b[0m\n\u001b[1;32m    166\u001b[0m     \u001b[0;32mdef\u001b[0m \u001b[0mget_writer\u001b[0m\u001b[0;34m(\u001b[0m\u001b[0mself\u001b[0m\u001b[0;34m,\u001b[0m \u001b[0mrequest\u001b[0m\u001b[0;34m)\u001b[0m\u001b[0;34m:\u001b[0m\u001b[0;34m\u001b[0m\u001b[0;34m\u001b[0m\u001b[0m\n",
      "\u001b[0;32m~/anaconda3/lib/python3.7/site-packages/imageio/core/format.py\u001b[0m in \u001b[0;36m__init__\u001b[0;34m(self, format, request)\u001b[0m\n\u001b[1;32m    212\u001b[0m             \u001b[0mself\u001b[0m\u001b[0;34m.\u001b[0m\u001b[0m_request\u001b[0m \u001b[0;34m=\u001b[0m \u001b[0mrequest\u001b[0m\u001b[0;34m\u001b[0m\u001b[0;34m\u001b[0m\u001b[0m\n\u001b[1;32m    213\u001b[0m             \u001b[0;31m# Open the reader/writer\u001b[0m\u001b[0;34m\u001b[0m\u001b[0;34m\u001b[0m\u001b[0;34m\u001b[0m\u001b[0m\n\u001b[0;32m--> 214\u001b[0;31m             \u001b[0mself\u001b[0m\u001b[0;34m.\u001b[0m\u001b[0m_open\u001b[0m\u001b[0;34m(\u001b[0m\u001b[0;34m**\u001b[0m\u001b[0mself\u001b[0m\u001b[0;34m.\u001b[0m\u001b[0mrequest\u001b[0m\u001b[0;34m.\u001b[0m\u001b[0mkwargs\u001b[0m\u001b[0;34m.\u001b[0m\u001b[0mcopy\u001b[0m\u001b[0;34m(\u001b[0m\u001b[0;34m)\u001b[0m\u001b[0;34m)\u001b[0m\u001b[0;34m\u001b[0m\u001b[0;34m\u001b[0m\u001b[0m\n\u001b[0m\u001b[1;32m    215\u001b[0m \u001b[0;34m\u001b[0m\u001b[0m\n\u001b[1;32m    216\u001b[0m         \u001b[0;34m@\u001b[0m\u001b[0mproperty\u001b[0m\u001b[0;34m\u001b[0m\u001b[0;34m\u001b[0m\u001b[0m\n",
      "\u001b[0;32m~/anaconda3/lib/python3.7/site-packages/imageio/plugins/pillow.py\u001b[0m in \u001b[0;36m_open\u001b[0;34m(self, pilmode, as_gray, exifrotate)\u001b[0m\n\u001b[1;32m    421\u001b[0m     \u001b[0;32mclass\u001b[0m \u001b[0mReader\u001b[0m\u001b[0;34m(\u001b[0m\u001b[0mPillowFormat\u001b[0m\u001b[0;34m.\u001b[0m\u001b[0mReader\u001b[0m\u001b[0;34m)\u001b[0m\u001b[0;34m:\u001b[0m\u001b[0;34m\u001b[0m\u001b[0;34m\u001b[0m\u001b[0m\n\u001b[1;32m    422\u001b[0m         \u001b[0;32mdef\u001b[0m \u001b[0m_open\u001b[0m\u001b[0;34m(\u001b[0m\u001b[0mself\u001b[0m\u001b[0;34m,\u001b[0m \u001b[0mpilmode\u001b[0m\u001b[0;34m=\u001b[0m\u001b[0;32mNone\u001b[0m\u001b[0;34m,\u001b[0m \u001b[0mas_gray\u001b[0m\u001b[0;34m=\u001b[0m\u001b[0;32mFalse\u001b[0m\u001b[0;34m,\u001b[0m \u001b[0mexifrotate\u001b[0m\u001b[0;34m=\u001b[0m\u001b[0;32mTrue\u001b[0m\u001b[0;34m)\u001b[0m\u001b[0;34m:\u001b[0m\u001b[0;34m\u001b[0m\u001b[0;34m\u001b[0m\u001b[0m\n\u001b[0;32m--> 423\u001b[0;31m             \u001b[0;32mreturn\u001b[0m \u001b[0mPillowFormat\u001b[0m\u001b[0;34m.\u001b[0m\u001b[0mReader\u001b[0m\u001b[0;34m.\u001b[0m\u001b[0m_open\u001b[0m\u001b[0;34m(\u001b[0m\u001b[0mself\u001b[0m\u001b[0;34m,\u001b[0m \u001b[0mpilmode\u001b[0m\u001b[0;34m=\u001b[0m\u001b[0mpilmode\u001b[0m\u001b[0;34m,\u001b[0m \u001b[0mas_gray\u001b[0m\u001b[0;34m=\u001b[0m\u001b[0mas_gray\u001b[0m\u001b[0;34m)\u001b[0m\u001b[0;34m\u001b[0m\u001b[0;34m\u001b[0m\u001b[0m\n\u001b[0m\u001b[1;32m    424\u001b[0m \u001b[0;34m\u001b[0m\u001b[0m\n\u001b[1;32m    425\u001b[0m         \u001b[0;32mdef\u001b[0m \u001b[0m_get_file\u001b[0m\u001b[0;34m(\u001b[0m\u001b[0mself\u001b[0m\u001b[0;34m)\u001b[0m\u001b[0;34m:\u001b[0m\u001b[0;34m\u001b[0m\u001b[0;34m\u001b[0m\u001b[0m\n",
      "\u001b[0;32m~/anaconda3/lib/python3.7/site-packages/imageio/plugins/pillow.py\u001b[0m in \u001b[0;36m_open\u001b[0;34m(self, pilmode, as_gray)\u001b[0m\n\u001b[1;32m    135\u001b[0m             \u001b[0;32mif\u001b[0m \u001b[0mself\u001b[0m\u001b[0;34m.\u001b[0m\u001b[0m_im\u001b[0m\u001b[0;34m.\u001b[0m\u001b[0mpalette\u001b[0m \u001b[0;32mand\u001b[0m \u001b[0mself\u001b[0m\u001b[0;34m.\u001b[0m\u001b[0m_im\u001b[0m\u001b[0;34m.\u001b[0m\u001b[0mpalette\u001b[0m\u001b[0;34m.\u001b[0m\u001b[0mdirty\u001b[0m\u001b[0;34m:\u001b[0m\u001b[0;34m\u001b[0m\u001b[0;34m\u001b[0m\u001b[0m\n\u001b[1;32m    136\u001b[0m                 \u001b[0mself\u001b[0m\u001b[0;34m.\u001b[0m\u001b[0m_im\u001b[0m\u001b[0;34m.\u001b[0m\u001b[0mpalette\u001b[0m\u001b[0;34m.\u001b[0m\u001b[0mrawmode_saved\u001b[0m \u001b[0;34m=\u001b[0m \u001b[0mself\u001b[0m\u001b[0;34m.\u001b[0m\u001b[0m_im\u001b[0m\u001b[0;34m.\u001b[0m\u001b[0mpalette\u001b[0m\u001b[0;34m.\u001b[0m\u001b[0mrawmode\u001b[0m\u001b[0;34m\u001b[0m\u001b[0;34m\u001b[0m\u001b[0m\n\u001b[0;32m--> 137\u001b[0;31m             \u001b[0mpil_try_read\u001b[0m\u001b[0;34m(\u001b[0m\u001b[0mself\u001b[0m\u001b[0;34m.\u001b[0m\u001b[0m_im\u001b[0m\u001b[0;34m)\u001b[0m\u001b[0;34m\u001b[0m\u001b[0;34m\u001b[0m\u001b[0m\n\u001b[0m\u001b[1;32m    138\u001b[0m             \u001b[0;31m# Store args\u001b[0m\u001b[0;34m\u001b[0m\u001b[0;34m\u001b[0m\u001b[0;34m\u001b[0m\u001b[0m\n\u001b[1;32m    139\u001b[0m             self._kwargs = dict(\n",
      "\u001b[0;32m~/anaconda3/lib/python3.7/site-packages/imageio/plugins/pillow.py\u001b[0m in \u001b[0;36mpil_try_read\u001b[0;34m(im)\u001b[0m\n\u001b[1;32m    516\u001b[0m     \u001b[0;32mtry\u001b[0m\u001b[0;34m:\u001b[0m\u001b[0;34m\u001b[0m\u001b[0;34m\u001b[0m\u001b[0m\n\u001b[1;32m    517\u001b[0m         \u001b[0;31m# this will raise an IOError if the file is not readable\u001b[0m\u001b[0;34m\u001b[0m\u001b[0;34m\u001b[0m\u001b[0;34m\u001b[0m\u001b[0m\n\u001b[0;32m--> 518\u001b[0;31m         \u001b[0mim\u001b[0m\u001b[0;34m.\u001b[0m\u001b[0mgetdata\u001b[0m\u001b[0;34m(\u001b[0m\u001b[0;34m)\u001b[0m\u001b[0;34m[\u001b[0m\u001b[0;36m0\u001b[0m\u001b[0;34m]\u001b[0m\u001b[0;34m\u001b[0m\u001b[0;34m\u001b[0m\u001b[0m\n\u001b[0m\u001b[1;32m    519\u001b[0m     \u001b[0;32mexcept\u001b[0m \u001b[0mIOError\u001b[0m \u001b[0;32mas\u001b[0m \u001b[0me\u001b[0m\u001b[0;34m:\u001b[0m\u001b[0;34m\u001b[0m\u001b[0;34m\u001b[0m\u001b[0m\n\u001b[1;32m    520\u001b[0m         \u001b[0msite\u001b[0m \u001b[0;34m=\u001b[0m \u001b[0;34m\"http://pillow.readthedocs.io/en/latest/installation.html\"\u001b[0m\u001b[0;34m\u001b[0m\u001b[0;34m\u001b[0m\u001b[0m\n",
      "\u001b[0;32m~/anaconda3/lib/python3.7/site-packages/PIL/Image.py\u001b[0m in \u001b[0;36mgetdata\u001b[0;34m(self, band)\u001b[0m\n\u001b[1;32m   1269\u001b[0m         \"\"\"\n\u001b[1;32m   1270\u001b[0m \u001b[0;34m\u001b[0m\u001b[0m\n\u001b[0;32m-> 1271\u001b[0;31m         \u001b[0mself\u001b[0m\u001b[0;34m.\u001b[0m\u001b[0mload\u001b[0m\u001b[0;34m(\u001b[0m\u001b[0;34m)\u001b[0m\u001b[0;34m\u001b[0m\u001b[0;34m\u001b[0m\u001b[0m\n\u001b[0m\u001b[1;32m   1272\u001b[0m         \u001b[0;32mif\u001b[0m \u001b[0mband\u001b[0m \u001b[0;32mis\u001b[0m \u001b[0;32mnot\u001b[0m \u001b[0;32mNone\u001b[0m\u001b[0;34m:\u001b[0m\u001b[0;34m\u001b[0m\u001b[0;34m\u001b[0m\u001b[0m\n\u001b[1;32m   1273\u001b[0m             \u001b[0;32mreturn\u001b[0m \u001b[0mself\u001b[0m\u001b[0;34m.\u001b[0m\u001b[0mim\u001b[0m\u001b[0;34m.\u001b[0m\u001b[0mgetband\u001b[0m\u001b[0;34m(\u001b[0m\u001b[0mband\u001b[0m\u001b[0;34m)\u001b[0m\u001b[0;34m\u001b[0m\u001b[0;34m\u001b[0m\u001b[0m\n",
      "\u001b[0;32m~/anaconda3/lib/python3.7/site-packages/PIL/ImageFile.py\u001b[0m in \u001b[0;36mload\u001b[0;34m(self)\u001b[0m\n\u001b[1;32m    263\u001b[0m \u001b[0;34m\u001b[0m\u001b[0m\n\u001b[1;32m    264\u001b[0m                             \u001b[0mb\u001b[0m \u001b[0;34m=\u001b[0m \u001b[0mb\u001b[0m \u001b[0;34m+\u001b[0m \u001b[0ms\u001b[0m\u001b[0;34m\u001b[0m\u001b[0;34m\u001b[0m\u001b[0m\n\u001b[0;32m--> 265\u001b[0;31m                             \u001b[0mn\u001b[0m\u001b[0;34m,\u001b[0m \u001b[0merr_code\u001b[0m \u001b[0;34m=\u001b[0m \u001b[0mdecoder\u001b[0m\u001b[0;34m.\u001b[0m\u001b[0mdecode\u001b[0m\u001b[0;34m(\u001b[0m\u001b[0mb\u001b[0m\u001b[0;34m)\u001b[0m\u001b[0;34m\u001b[0m\u001b[0;34m\u001b[0m\u001b[0m\n\u001b[0m\u001b[1;32m    266\u001b[0m                             \u001b[0;32mif\u001b[0m \u001b[0mn\u001b[0m \u001b[0;34m<\u001b[0m \u001b[0;36m0\u001b[0m\u001b[0;34m:\u001b[0m\u001b[0;34m\u001b[0m\u001b[0;34m\u001b[0m\u001b[0m\n\u001b[1;32m    267\u001b[0m                                 \u001b[0;32mbreak\u001b[0m\u001b[0;34m\u001b[0m\u001b[0;34m\u001b[0m\u001b[0m\n",
      "\u001b[0;31mKeyboardInterrupt\u001b[0m: "
     ]
    }
   ],
   "source": [
    "from lfp.plotting import produce_cluster_fig\n",
    "%matplotlib inline\n",
    "_ = produce_cluster_fig(batch, encoder, planner, TEST_DATA_PATHS[0], num_take=dl.batch_size, args=args, cnn=cnn)"
   ]
  },
  {
   "cell_type": "code",
   "execution_count": 21,
   "metadata": {
    "scrolled": true
   },
   "outputs": [
    {
     "data": {
      "image/png": "[encoded data removed]",
      "text/plain": [
       "<Figure size 432x288 with 1 Axes>"
      ]
     },
     "metadata": {
      "needs_background": "light"
     },
     "output_type": "display_data"
    }
   ],
   "source": [
    "from lfp.plotting import project_enc_and_plan\n",
    "\n",
    "o = project_enc_and_plan(encoding.sample(), plan.sample(), connecting_lines=False)"
   ]
  },
  {
   "cell_type": "code",
   "execution_count": null,
   "metadata": {},
   "outputs": [],
   "source": []
  },
  {
   "cell_type": "code",
   "execution_count": 30,
   "metadata": {},
   "outputs": [
    {
     "name": "stdout",
     "output_type": "stream",
     "text": [
      "closing\n"
     ]
    }
   ],
   "source": [
    "env.panda.close()\n"
   ]
  },
  {
   "cell_type": "code",
   "execution_count": 14,
   "metadata": {
    "scrolled": true
   },
   "outputs": [
    {
     "name": "stdout",
     "output_type": "stream",
     "text": [
      "current_dir=/home/sholto/Desktop/AI/pandaRL/pandaRL/envs\n",
      "current_dir=/home/sholto/Desktop/AI/pandaRL/pandaRL/envs\n"
     ]
    },
    {
     "name": "stderr",
     "output_type": "stream",
     "text": [
      "/home/sholto/anaconda3/lib/python3.7/site-packages/gym/logger.py:30: UserWarning: \u001b[33mWARN: Box bound precision lowered by casting to float32\u001b[0m\n",
      "  warnings.warn(colorize('%s: %s'%('WARN', msg % args), 'yellow'))\n",
      "/home/sholto/anaconda3/lib/python3.7/site-packages/gym/logger.py:30: UserWarning: \u001b[33mWARN: Box bound precision lowered by casting to float32\u001b[0m\n",
      "  warnings.warn(colorize('%s: %s'%('WARN', msg % args), 'yellow'))\n",
      "/home/sholto/anaconda3/lib/python3.7/site-packages/gym/logger.py:30: UserWarning: \u001b[33mWARN: Box bound precision lowered by casting to float32\u001b[0m\n",
      "  warnings.warn(colorize('%s: %s'%('WARN', msg % args), 'yellow'))\n",
      "/home/sholto/anaconda3/lib/python3.7/site-packages/gym/logger.py:30: UserWarning: \u001b[33mWARN: Box bound precision lowered by casting to float32\u001b[0m\n",
      "  warnings.warn(colorize('%s: %s'%('WARN', msg % args), 'yellow'))\n",
      "/home/sholto/anaconda3/lib/python3.7/site-packages/gym/logger.py:30: UserWarning: \u001b[33mWARN: Box bound precision lowered by casting to float32\u001b[0m\n",
      "  warnings.warn(colorize('%s: %s'%('WARN', msg % args), 'yellow'))\n",
      "/home/sholto/anaconda3/lib/python3.7/site-packages/gym/logger.py:30: UserWarning: \u001b[33mWARN: Box bound precision lowered by casting to float32\u001b[0m\n",
      "  warnings.warn(colorize('%s: %s'%('WARN', msg % args), 'yellow'))\n"
     ]
    },
    {
     "name": "stdout",
     "output_type": "stream",
     "text": [
      "/home/sholto/Desktop/AI/pandaRL/pandaRL/envs\n"
     ]
    }
   ],
   "source": [
    "\n",
    "import time\n",
    "import seaborn as sns\n",
    "\n",
    "\n",
    "env = lfp.utils.load_env(JOINTS = dl.joints, QUAT = dl.quaternion_act, RELATIVE = dl.relative_act)\n",
    "env.render('human')\n",
    "env.reset()\n",
    "if args.images:\n",
    "    env.render('playback')"
   ]
  },
  {
   "cell_type": "code",
   "execution_count": 21,
   "metadata": {},
   "outputs": [],
   "source": [
    "\n",
    "\n",
    "model_params = {'obs_dim':args.img_embedding_size + dl.proprioceptive_features_dim if args.images else dl.obs_dim,\n",
    "            'goal_dim':args.img_embedding_size if args.images else dl.goal_dim,\n",
    "            'act_dim':dl.act_dim,\n",
    "            'layer_size':args.actor_layer_size, \n",
    "            'latent_dim':args.latent_dim,\n",
    "            'training':False, 'return_state':True}\n",
    "\n",
    "actor = lfp.model.create_actor(**model_params, gcbc=args.gcbc, num_distribs=args.num_distribs, qbits=args.qbits)\n",
    "\n",
    "lfp.utils.load_weights(path, actor, encoder, planner, cnn)"
   ]
  },
  {
   "cell_type": "code",
   "execution_count": 22,
   "metadata": {},
   "outputs": [
    {
     "name": "stdout",
     "output_type": "stream",
     "text": [
      "Checkpoint restored\n"
     ]
    }
   ],
   "source": [
    "lfp.utils.load_weights(path, actor, encoder, planner, cnn)"
   ]
  },
  {
   "cell_type": "markdown",
   "metadata": {},
   "source": [
    "# Test against specified goals"
   ]
  },
  {
   "cell_type": "code",
   "execution_count": 15,
   "metadata": {},
   "outputs": [],
   "source": [
    "def flatten_obs(obs_dict, record_o_buff=None):\n",
    "    '''\n",
    "    Get the right format and flatten, e.g get joints states, velcoities, rpy or quat etc depending on what the\n",
    "    net was trained on\n",
    "    Also appends it to record_o_buff to record the true obs\n",
    "    '''\n",
    "\n",
    "    o = obs_dict['observation']\n",
    "    \n",
    "    if args.images:\n",
    "        proprioceptive_features = tf.cast(tf.expand_dims(o[:7],0), tf.float32)\n",
    "        img = obs_dict['img']\n",
    "        img_embedding = cnn(tf.expand_dims(img, 0))\n",
    "        o = tf.squeeze(tf.concat([img_embedding, proprioceptive_features],axis=1))\n",
    "        \n",
    "    if dl.joints:\n",
    "        o = tf.expand_dims(tf.expand_dims(np.concatenate([o, obs_dict['joints'][:7]]),0),0)\n",
    "    else:\n",
    "        o = tf.expand_dims(tf.expand_dims(o,0),0)\n",
    "        \n",
    "    if dl.gripper_proprioception:\n",
    "         o = tf.concat([tf.cast(o, tf.float32),tf.expand_dims(tf.expand_dims(tf.cast([obs_dict['gripper_gripper_proprioception']],tf.float32),0),0)], axis = -1)\n",
    "    #obs = (obs - hyper_params['means_obs'])/hyper_params['stds_obs']\n",
    "    if record_o_buff is not None:\n",
    "        record_o_buff.append(o)\n",
    "    return o\n",
    "\n",
    "\n",
    "def choose_action(actor, o, z, goal, states=None, a_pred=None, a_true=None, replay=False, i = -0):\n",
    "    if args.gcbc:\n",
    "        a,_,state = actor((o, goal))\n",
    "    else:\n",
    "        a,_,state = actor((o, z,goal))\n",
    "        \n",
    "    if args.num_distribs is not None:\n",
    "        a = a.sample().numpy().squeeze()\n",
    "    else:\n",
    "        a = a.numpy().squeeze()\n",
    "    if states is not None:\n",
    "        states.append(state)\n",
    "    if a_pred is not None:\n",
    "        a_pred.append(a)\n",
    "\n",
    "    if replay: # the less than is just so we can set it so the first n are from demonstration- to check if the init is the issue\n",
    "        a=a_true[i, :] \n",
    "    return a\n",
    "\n",
    "def rollout_subseq(goal,retries=1, replan_horizon=30, a_true=None, o_true=None, traj_len=None, replay=False,end_on_success = False, record_dir=None):\n",
    "    \n",
    "    a_pred = []\n",
    "    states = []\n",
    "    record_o_buff = []\n",
    "    plans = [] \n",
    "    \n",
    "    state = env.panda.calc_state()\n",
    "    o = flatten_obs(state, record_o_buff)\n",
    "    \n",
    "    success = 0 \n",
    "    \n",
    "    for j in range(0,retries):\n",
    "        \n",
    "        \n",
    "        \n",
    "        if isinstance(goal, dict):\n",
    "            # a function which remakes the goal so pertubations of other objects don't matter\n",
    "            g = goal['func'](*goal['args'])\n",
    "            env.visualise_sub_goal(np.squeeze(g), 'achieved_goal')\n",
    "        else:\n",
    "            g = goal\n",
    "        \n",
    "        if args.gcbc:\n",
    "            z = None\n",
    "        else:\n",
    "            plan = planner((o[0], g[0]))\n",
    "            z = tf.expand_dims(plan.sample(),0)\n",
    "            plans.append(z.numpy())\n",
    "        actor.reset_states()\n",
    "        \n",
    "        if replay:\n",
    "            replan_horizon = traj_len\n",
    "            \n",
    "        \n",
    "        for i in range(0, replan_horizon):\n",
    "            a = choose_action(actor, o, z, g, states, a_pred, a_true, replay, i)\n",
    "            o, r, d, _ = env.step(a)\n",
    "            \n",
    "            # put the o here\n",
    "            ag = o['achieved_goal']\n",
    "            if record_dir is not None:\n",
    "                record_state(record_dir)\n",
    "            \n",
    "            o = flatten_obs(o, record_o_buff)\n",
    "            if not args.images:\n",
    "                if success_func(g, ag):\n",
    "                    success = 1\n",
    "                \n",
    "        if end_on_success and success:\n",
    "            return np.array(a_true), np.array(a_pred), states, o_true, np.squeeze(np.array(record_o_buff)), plans, success\n",
    "            \n",
    "        \n",
    "            \n",
    "    return np.array(a_true), np.array(a_pred), states, o_true, np.squeeze(np.array(record_o_buff)), plans,  success"
   ]
  },
  {
   "cell_type": "code",
   "execution_count": 16,
   "metadata": {},
   "outputs": [],
   "source": [
    "from lfp.tests import tester, tasks, success_func, tests\n",
    "\n",
    "tester = tester(env)\n",
    "\n",
    "kwargs = {'goal':{'func':tester.make_goal, 'args':None}, 'retries':20, 'replan_horizon':10, 'end_on_success':True, 'record_dir': None}"
   ]
  },
  {
   "cell_type": "code",
   "execution_count": null,
   "metadata": {},
   "outputs": [],
   "source": []
  },
  {
   "cell_type": "code",
   "execution_count": 37,
   "metadata": {},
   "outputs": [
    {
     "name": "stdout",
     "output_type": "stream",
     "text": [
      "dial_off success rate -  1.0\n",
      "dial_off success rate -  1.0\n"
     ]
    }
   ],
   "source": [
    "from lfp.configs_to_test import B00003, PB02\n",
    "import pandas as pd\n",
    "test_names = ['dial_off']\n",
    " \n",
    "    \n",
    "test_names = ['button','door_left','door_right','open_drawer','close_drawer','dial_off',\\\n",
    "              'block_cupboard_right','block_cupboard_left','block_left',\\\n",
    "              'block_right','block_shelf','block_drawer',\\\n",
    "            'block_lengthways', 'block_ori_default','block_upright'] \n",
    " \n",
    " \n",
    "configs_to_test = [B00003, PB02]\n",
    "test_results = []\n",
    "for config in configs_to_test:\n",
    "    \n",
    "    args = parser.parse_args(config)\n",
    "    path = f\"saved_models/{args.run_name}\"    \n",
    "    model_params = {'obs_dim':args.img_embedding_size + dl.proprioceptive_features_dim if args.images else dl.obs_dim,\n",
    "            'goal_dim':args.img_embedding_size if args.images else dl.goal_dim,\n",
    "            'act_dim':dl.act_dim,\n",
    "            'layer_size':args.actor_layer_size, \n",
    "            'latent_dim':args.latent_dim,\n",
    "            'training':False, 'return_state':True}\n",
    "\n",
    "    actor = lfp.model.create_actor(**model_params, gcbc=args.gcbc, num_distribs=args.num_distribs, qbits=args.qbits)\n",
    "    lfp.utils.load_weights(path, actor, encoder, planner, cnn)\n",
    "    print(f\"Loaded {args.run_name}\")\n",
    "    \n",
    "    run_results = {'name': args.run_name}\n",
    "    for i, test in enumerate(test_names):\n",
    "        successes = []\n",
    "        for j in range(0,1):\n",
    "            _ = env.reset()\n",
    "            tester.prepare_env(test)\n",
    "            kwargs['goal']['args'] = tests[test]\n",
    "            _,_,_,_,_,_,succeeded  = rollout_subseq(**kwargs)\n",
    "            successes.append(succeeded)\n",
    "        print(f\"{test} success rate -  {np.mean(successes)}\")\n",
    "        run_results[test] = np.mean(successes)\n",
    "    test_results.append(run_results)\n",
    "        "
   ]
  },
  {
   "cell_type": "code",
   "execution_count": 32,
   "metadata": {},
   "outputs": [
    {
     "data": {
      "text/html": [
       "<div>\n",
       "<style scoped>\n",
       "    .dataframe tbody tr th:only-of-type {\n",
       "        vertical-align: middle;\n",
       "    }\n",
       "\n",
       "    .dataframe tbody tr th {\n",
       "        vertical-align: top;\n",
       "    }\n",
       "\n",
       "    .dataframe thead th {\n",
       "        text-align: right;\n",
       "    }\n",
       "</style>\n",
       "<table border=\"1\" class=\"dataframe\">\n",
       "  <thead>\n",
       "    <tr style=\"text-align: right;\">\n",
       "      <th></th>\n",
       "      <th>block_lengthways</th>\n",
       "      <th>button</th>\n",
       "      <th>name</th>\n",
       "    </tr>\n",
       "  </thead>\n",
       "  <tbody>\n",
       "    <tr>\n",
       "      <th>0</th>\n",
       "      <td>0.5</td>\n",
       "      <td>1.0</td>\n",
       "      <td>GCSB0_00003</td>\n",
       "    </tr>\n",
       "    <tr>\n",
       "      <th>1</th>\n",
       "      <td>0.5</td>\n",
       "      <td>1.0</td>\n",
       "      <td>PROB0_02</td>\n",
       "    </tr>\n",
       "  </tbody>\n",
       "</table>\n",
       "</div>"
      ],
      "text/plain": [
       "   block_lengthways  button         name\n",
       "0               0.5     1.0  GCSB0_00003\n",
       "1               0.5     1.0     PROB0_02"
      ]
     },
     "execution_count": 32,
     "metadata": {},
     "output_type": "execute_result"
    }
   ],
   "source": [
    "\n",
    "pd.DataFrame(test_results)"
   ]
  },
  {
   "cell_type": "code",
   "execution_count": 31,
   "metadata": {},
   "outputs": [
    {
     "data": {
      "text/plain": [
       "{'name': 'PROB0_02', 'button': 1.0, 'block_lengthways': 0.5}"
      ]
     },
     "execution_count": 31,
     "metadata": {},
     "output_type": "execute_result"
    }
   ],
   "source": [
    "run_results"
   ]
  },
  {
   "cell_type": "code",
   "execution_count": 48,
   "metadata": {},
   "outputs": [],
   "source": [
    "\n",
    "\n",
    "task_list  = ['close_drawer','dial_off', 'block_right', 'door_left', 'block_shelf', 'open_drawer', 'block_left', 'block_lengthways_left', 'block_cupboard_right', 'door_right', 'button','door_left', 'block_upright']\n",
    "_ = env.reset()\n",
    "for i, task in enumerate(task_list):\n",
    "    kwargs['goal']['args'] = tasks[task]\n",
    "    _,_,_,_,_,_,succeeded  = rollout_subseq(**kwargs)"
   ]
  },
  {
   "cell_type": "code",
   "execution_count": null,
   "metadata": {},
   "outputs": [],
   "source": []
  },
  {
   "cell_type": "code",
   "execution_count": 95,
   "metadata": {},
   "outputs": [],
   "source": []
  },
  {
   "cell_type": "code",
   "execution_count": 80,
   "metadata": {},
   "outputs": [
    {
     "data": {
      "text/plain": [
       "<module 'lfp.tests' from '/home/sholto/Desktop/AI/learning_from_play/lfp/tests.py'>"
      ]
     },
     "execution_count": 80,
     "metadata": {},
     "output_type": "execute_result"
    }
   ],
   "source": [
    "import importlib\n",
    "importlib.reload(lfp.tests)"
   ]
  },
  {
   "cell_type": "code",
   "execution_count": null,
   "metadata": {},
   "outputs": [],
   "source": []
  },
  {
   "cell_type": "markdown",
   "metadata": {},
   "source": [
    "# Test against goals from the test data examples"
   ]
  },
  {
   "cell_type": "code",
   "execution_count": 48,
   "metadata": {},
   "outputs": [],
   "source": [
    "import time\n",
    "\n",
    "from lfp.plotting import get_labelled_trajs\n",
    "\n",
    "def get_closest_idx(point, idxs):\n",
    "    \n",
    "    \n",
    "    closest_idx = idxs[0]\n",
    "    best_diff = max(idxs)\n",
    "    for i in idxs:\n",
    "        diff = abs(point - i)\n",
    "        if diff < best_diff:\n",
    "            closest_idx = i\n",
    "            best_diff = diff\n",
    "    return closest_idx\n",
    "\n",
    "def get_closest_init_state(f, start_index):\n",
    "    \n",
    "    potential_start_points = glob.glob(str(TEST_DIR/'states_and_ims'/str(f)/'env_states/*.bullet'))\n",
    "    print(potential_start_points)\n",
    "    if config.OS == 'windows':\n",
    "        potential_start_idxs = [int(x.replace('.bullet','').replace(f\"{str(TEST_DATA_PATHS[0])}/states_and_ims/{str(f)}/env_states\\\\\", \"\")) for x in potential_start_points]\n",
    "    else:\n",
    "        potential_start_idxs = [int(x.replace('.bullet','').replace(f\"{str(TEST_DATA_PATHS[0])}/states_and_ims/{str(f)}/env_states/\", \"\")) for x in potential_start_points]\n",
    "        \n",
    "    closest_start = get_closest_idx(int(start_index), potential_start_idxs)\n",
    "    return closest_start, f\"{str(TEST_DATA_PATH)}/states_and_ims/{str(f)}/env_states/{closest_start}.bullet\"\n",
    "\n",
    "def get_expert_actions(data, closest_start, traj_len):\n",
    "    if JOINTS:\n",
    "        if RELATIVE:\n",
    "            \n",
    "            a_true = np.concatenate([data['target_poses'][closest_start:closest_start+traj_len,:6] - data['joint_poses'][closest_start:closest_start+traj_len,:6],\n",
    "                                      np.expand_dims(data['acts'][closest_start:closest_start+traj_len,7],1)], axis=1)\n",
    "        else:\n",
    "            \n",
    "            a_true = np.concatenate([data['target_poses'][closest_start:closest_start+traj_len,:],\n",
    "                                      np.expand_dims(data['acts'][closest_start:closest_start+traj_len,7],1)],axis = 1)\n",
    "    else:\n",
    "        if QUAT:\n",
    "            if RELATIVE:\n",
    "                a_true = np.concatenate([data['acts'][closest_start:closest_start+traj_len,:7] - data['obs'][closest_start:closest_start+traj_len,:7], \n",
    "                                         np.expand_dims(data['acts'][closest_start:closest_start+traj_len,7],1)], axis = 1)\n",
    "            else:\n",
    "                a_true = data['acts_quat'] \n",
    "        else:\n",
    "            if RELATIVE:\n",
    "                a_true = data['acts_rpy_rel'][closest_start:closest_start+traj_len,:]\n",
    "            else:\n",
    "                a_true = data['acts'][closest_start:closest_start+traj_len,:]\n",
    "    return a_true\n",
    "    \n",
    "    \n",
    "                \n",
    "def get_true_obs(data, closest_start, traj_len):\n",
    "    ''' gets the actual obs so we can test the encoder actions with them '''\n",
    "    traj_len += 1 # because we need all the obs, which includes one more ob than there are actions (as that ob will be produced by the final action occuring)\n",
    "    if USE_QUAT_OBS:\n",
    "        o = data['obs_quat'][closest_start:closest_start+traj_len,:]\n",
    "    else:\n",
    "        o = data['obs'][closest_start:closest_start+traj_len,:]\n",
    "    if JOINTS:\n",
    "        o = np.concatenate([o, data['joints'][closest_start:closest_start+traj_len,:7]])\n",
    "    \n",
    "    o = tf.expand_dims(o,0)\n",
    "        \n",
    "    if VELOCITY:\n",
    "        raise NotImplemented\n",
    "    \n",
    "    #obs = (obs - hyper_params['means_obs'])/hyper_params['stds_obs']\n",
    "    return o\n",
    "    \n",
    "                \n",
    "\n",
    "\n",
    "def initialise_subsequence(data):\n",
    "    states, acts, goals, seq_lens, masks, pth, tsteps,_,_ = [data[k] for k in data.keys()]\n",
    "    start_idx = str(int(tsteps[idx,0]))\n",
    "    traj_len = len(np.where(masks[idx] == 1)[0])-1\n",
    "    f = int(pth[idx,0])\n",
    "    \n",
    "    print(int(pth[idx,0]), int(tsteps[idx,0]))\n",
    "    print(str(int(pth[idx,0]))+str(int(tsteps[idx,0])) )\n",
    "    #print(PYBULLET_TEST_DIR +'states_and_ims/'+str(int(pth[idx,0]))+'/env_states/'+str(int(tsteps[idx,0]))+'.bullet')\n",
    "    closest_start, start_path = get_closest_init_state(f, start_idx)\n",
    "    print(start_path)\n",
    "    try:\n",
    "        env.delete_sub_goal()\n",
    "    except:\n",
    "        pass\n",
    "    env.p.restoreState(fileName=start_path)\n",
    "    data = np.load(TEST_DIR+'obs_act_etc/'+str(f)+'/data.npz')\n",
    "    a_true = get_expert_actions(data, closest_start, traj_len)\n",
    "    o_true = get_true_obs(data, closest_start, traj_len)\n",
    "    goal = data['achieved_goals'][closest_start + traj_len, :]\n",
    "    env.visualise_sub_goal(np.squeeze(goal), 'achieved_goal')\n",
    "    goal = tf.expand_dims(tf.expand_dims(goal, 0),0)\n",
    "    #goal = (goal - hyper_params['means_goals'])/hyper_params['stds_goals']\n",
    "    state = env.panda.calc_state()\n",
    "    #print(state['achieved_goal'] - goal)\n",
    "    #print(goal.shape, a_true.shape, o_true.shape, traj_len)\n",
    "    return goal, a_true, o_true, traj_len, state\n",
    "\n",
    "\n",
    "def test_random_subseq(data, idx, retries = 1, replay=False, replan_horizon=30):\n",
    "    goal, a_true, o_true, traj_len, state = initialise_subsequence(data)\n",
    "    a_true, a_pred, states, o_true, record_o_buff, _ = rollout_subseq(goal, retries , replan_horizon, a_true, o_true, traj_len, replay)\n",
    "    return a_true, a_pred, states, o_true, record_o_buff\n",
    "\n",
    "\n",
    "##############################################################################\n",
    "def get_x_of_seq_type(lbl, n = 'all'):\n",
    "    o, a ,g ,labels, colors, paths, imgs, goal_imgs, proprioceptive_features = get_labelled_trajs(TEST_DATA_PATHS[0], args=args)\n",
    "    idxs = [ i for i,x in enumerate(labels) if x == lbl]\n",
    "    print(f\"There are {len(idxs)} examples of '{lbl}'\")\n",
    "    if n == 'all':\n",
    "        return o, a ,g ,labels, colors, paths, imgs, goal_imgs, proprioceptive_features, idxs\n",
    "    elif n == 'random':\n",
    "        idx = np.random.choice(idxs)\n",
    "        return o, a ,g ,labels, colors, paths, imgs, goal_imgs, proprioceptive_features, [idx]\n",
    "    else:\n",
    "        idx = idxs[n]\n",
    "        return o, a ,g ,labels, colors, paths, imgs, goal_imgs, proprioceptive_features, [idx]\n",
    "\n",
    "def initialise_seq_type(g, paths, idx):\n",
    "\n",
    "    try:\n",
    "        env.delete_sub_goal()\n",
    "    except:\n",
    "        pass\n",
    "    print(paths[idx])\n",
    "    env.p.restoreState(fileName=str(paths[idx]))\n",
    "    if args.images:\n",
    "        goal  =  tf.expand_dims(cnn(tf.expand_dims(g[idx], 0)),0)\n",
    "        print(goal.shape)\n",
    "    else:\n",
    "        env.visualise_sub_goal(g[idx], 'achieved_goal') # if we're using images, don't viz the goal as this will change things\n",
    "        goal = tf.expand_dims(tf.expand_dims(g[idx], 0),0)\n",
    "    #goal = (goal - hyper_params['means_goals'])/hyper_params['stds_goals']\n",
    "    \n",
    "\n",
    "    return goal\n",
    "\n",
    "def test_seq_type(data, retries = 1, replay=False, replan_horizon=30):\n",
    "    o, a ,g ,labels, colors, paths, imgs, goal_imgs, proprioceptive_features, idxs = data\n",
    "    successes = []\n",
    "    for idx in idxs:\n",
    "        if args.images:\n",
    "            g = goal_imgs\n",
    "        goal = initialise_seq_type(g, paths, idx)\n",
    "        a_true, o_true, traj_len = a[idx], o[idx], len(a[idx])\n",
    "        a_true, a_pred, states, o_true, record_o_buff, plans, success = rollout_subseq(goal, retries, replan_horizon, a_true, o_true, traj_len,replay)\n",
    "        successes.append(success)\n",
    "        \n",
    "    return successes \n",
    "\n",
    "\n",
    "\n",
    "\n",
    "#########################################\n",
    "\n",
    "    \n",
    "    "
   ]
  },
  {
   "cell_type": "code",
   "execution_count": 55,
   "metadata": {},
   "outputs": [
    {
     "name": "stdout",
     "output_type": "stream",
     "text": [
      "There are 28 examples of 'lift up'\n"
     ]
    }
   ],
   "source": [
    "lbl = 'lift up'\n",
    "data = get_x_of_seq_type(lbl, n = 'all') # all, random or n"
   ]
  },
  {
   "cell_type": "code",
   "execution_count": 51,
   "metadata": {},
   "outputs": [
    {
     "name": "stdout",
     "output_type": "stream",
     "text": [
      "/home/sholto/Desktop/AI/learning_from_play/data/UR5_slow_gripper_test/states_and_ims/0/env_states/420.bullet\n",
      "(1, 1, 64)\n",
      "/home/sholto/Desktop/AI/learning_from_play/data/UR5_slow_gripper_test/states_and_ims/0/env_states/5760.bullet\n",
      "(1, 1, 64)\n"
     ]
    },
    {
     "name": "stderr",
     "output_type": "stream",
     "text": [
      "ERROR:root:Internal Python error in the inspect module.\n",
      "Below is the traceback from this internal error.\n",
      "\n"
     ]
    },
    {
     "name": "stdout",
     "output_type": "stream",
     "text": [
      "Traceback (most recent call last):\n",
      "  File \"/home/sholto/anaconda3/lib/python3.7/site-packages/IPython/core/interactiveshell.py\", line 3296, in run_code\n",
      "    exec(code_obj, self.user_global_ns, self.user_ns)\n",
      "  File \"<ipython-input-51-9f43304614e1>\", line 1, in <module>\n",
      "    successes = test_seq_type(data, retries = 1, replay=True, replan_horizon=30)\n",
      "  File \"<ipython-input-48-38c2e099c685>\", line 152, in test_seq_type\n",
      "    a_true, a_pred, states, o_true, record_o_buff, plans, success = rollout_subseq(goal, retries, replan_horizon, a_true, o_true, traj_len,replay)\n",
      "  File \"<ipython-input-50-96a6f0869b73>\", line 85, in rollout_subseq\n",
      "    o, r, d, _ = env.step(a)\n",
      "  File \"/home/sholto/Desktop/AI/pandaRL/pandaRL/envs/environments.py\", line 1168, in step\n",
      "    obs = self.panda.calc_state()\n",
      "  File \"/home/sholto/Desktop/AI/pandaRL/pandaRL/envs/environments.py\", line 640, in calc_state\n",
      "    renderer=self.bullet_client.ER_BULLET_HARDWARE_OPENGL)[2][:,:,:3] #just the rgb\n",
      "KeyboardInterrupt\n",
      "\n",
      "During handling of the above exception, another exception occurred:\n",
      "\n",
      "Traceback (most recent call last):\n",
      "  File \"/home/sholto/anaconda3/lib/python3.7/site-packages/IPython/core/interactiveshell.py\", line 2033, in showtraceback\n",
      "    stb = value._render_traceback_()\n",
      "AttributeError: 'KeyboardInterrupt' object has no attribute '_render_traceback_'\n",
      "\n",
      "During handling of the above exception, another exception occurred:\n",
      "\n",
      "Traceback (most recent call last):\n",
      "  File \"/home/sholto/anaconda3/lib/python3.7/site-packages/IPython/core/ultratb.py\", line 1095, in get_records\n",
      "    return _fixed_getinnerframes(etb, number_of_lines_of_context, tb_offset)\n",
      "  File \"/home/sholto/anaconda3/lib/python3.7/site-packages/IPython/core/ultratb.py\", line 313, in wrapped\n",
      "    return f(*args, **kwargs)\n",
      "  File \"/home/sholto/anaconda3/lib/python3.7/site-packages/IPython/core/ultratb.py\", line 347, in _fixed_getinnerframes\n",
      "    records = fix_frame_records_filenames(inspect.getinnerframes(etb, context))\n",
      "  File \"/home/sholto/anaconda3/lib/python3.7/inspect.py\", line 1502, in getinnerframes\n",
      "    frameinfo = (tb.tb_frame,) + getframeinfo(tb, context)\n",
      "  File \"/home/sholto/anaconda3/lib/python3.7/inspect.py\", line 1460, in getframeinfo\n",
      "    filename = getsourcefile(frame) or getfile(frame)\n",
      "  File \"/home/sholto/anaconda3/lib/python3.7/inspect.py\", line 696, in getsourcefile\n",
      "    if getattr(getmodule(object, filename), '__loader__', None) is not None:\n",
      "  File \"/home/sholto/anaconda3/lib/python3.7/inspect.py\", line 733, in getmodule\n",
      "    if ismodule(module) and hasattr(module, '__file__'):\n",
      "KeyboardInterrupt\n"
     ]
    },
    {
     "ename": "KeyboardInterrupt",
     "evalue": "",
     "output_type": "error",
     "traceback": [
      "\u001b[0;31m---------------------------------------------------------------------------\u001b[0m"
     ]
    }
   ],
   "source": [
    "successes = test_seq_type(data, retries = 1, replay=True, replan_horizon=30)"
   ]
  },
  {
   "cell_type": "code",
   "execution_count": 56,
   "metadata": {},
   "outputs": [
    {
     "name": "stdout",
     "output_type": "stream",
     "text": [
      "/home/sholto/Desktop/AI/learning_from_play/data/UR5_slow_gripper_test/states_and_ims/0/env_states/4050.bullet\n",
      "(1, 1, 64)\n",
      "/home/sholto/Desktop/AI/learning_from_play/data/UR5_slow_gripper_test/states_and_ims/0/env_states/3120.bullet\n",
      "(1, 1, 64)\n",
      "/home/sholto/Desktop/AI/learning_from_play/data/UR5_slow_gripper_test/states_and_ims/0/env_states/6240.bullet\n",
      "(1, 1, 64)\n"
     ]
    },
    {
     "ename": "KeyboardInterrupt",
     "evalue": "",
     "output_type": "error",
     "traceback": [
      "\u001b[0;31m---------------------------------------------------------------------------\u001b[0m",
      "\u001b[0;31mKeyboardInterrupt\u001b[0m                         Traceback (most recent call last)",
      "\u001b[0;32m<ipython-input-56-3160115ca4c4>\u001b[0m in \u001b[0;36m<module>\u001b[0;34m\u001b[0m\n\u001b[0;32m----> 1\u001b[0;31m \u001b[0msuccesses\u001b[0m \u001b[0;34m=\u001b[0m \u001b[0mtest_seq_type\u001b[0m\u001b[0;34m(\u001b[0m\u001b[0mdata\u001b[0m\u001b[0;34m,\u001b[0m \u001b[0mretries\u001b[0m \u001b[0;34m=\u001b[0m \u001b[0;36m10\u001b[0m\u001b[0;34m,\u001b[0m \u001b[0mreplay\u001b[0m\u001b[0;34m=\u001b[0m\u001b[0;32mFalse\u001b[0m\u001b[0;34m,\u001b[0m \u001b[0mreplan_horizon\u001b[0m\u001b[0;34m=\u001b[0m\u001b[0;36m10\u001b[0m\u001b[0;34m)\u001b[0m\u001b[0;34m\u001b[0m\u001b[0;34m\u001b[0m\u001b[0m\n\u001b[0m",
      "\u001b[0;32m<ipython-input-48-38c2e099c685>\u001b[0m in \u001b[0;36mtest_seq_type\u001b[0;34m(data, retries, replay, replan_horizon)\u001b[0m\n\u001b[1;32m    150\u001b[0m         \u001b[0mgoal\u001b[0m \u001b[0;34m=\u001b[0m \u001b[0minitialise_seq_type\u001b[0m\u001b[0;34m(\u001b[0m\u001b[0mg\u001b[0m\u001b[0;34m,\u001b[0m \u001b[0mpaths\u001b[0m\u001b[0;34m,\u001b[0m \u001b[0midx\u001b[0m\u001b[0;34m)\u001b[0m\u001b[0;34m\u001b[0m\u001b[0;34m\u001b[0m\u001b[0m\n\u001b[1;32m    151\u001b[0m         \u001b[0ma_true\u001b[0m\u001b[0;34m,\u001b[0m \u001b[0mo_true\u001b[0m\u001b[0;34m,\u001b[0m \u001b[0mtraj_len\u001b[0m \u001b[0;34m=\u001b[0m \u001b[0ma\u001b[0m\u001b[0;34m[\u001b[0m\u001b[0midx\u001b[0m\u001b[0;34m]\u001b[0m\u001b[0;34m,\u001b[0m \u001b[0mo\u001b[0m\u001b[0;34m[\u001b[0m\u001b[0midx\u001b[0m\u001b[0;34m]\u001b[0m\u001b[0;34m,\u001b[0m \u001b[0mlen\u001b[0m\u001b[0;34m(\u001b[0m\u001b[0ma\u001b[0m\u001b[0;34m[\u001b[0m\u001b[0midx\u001b[0m\u001b[0;34m]\u001b[0m\u001b[0;34m)\u001b[0m\u001b[0;34m\u001b[0m\u001b[0;34m\u001b[0m\u001b[0m\n\u001b[0;32m--> 152\u001b[0;31m         \u001b[0ma_true\u001b[0m\u001b[0;34m,\u001b[0m \u001b[0ma_pred\u001b[0m\u001b[0;34m,\u001b[0m \u001b[0mstates\u001b[0m\u001b[0;34m,\u001b[0m \u001b[0mo_true\u001b[0m\u001b[0;34m,\u001b[0m \u001b[0mrecord_o_buff\u001b[0m\u001b[0;34m,\u001b[0m \u001b[0mplans\u001b[0m\u001b[0;34m,\u001b[0m \u001b[0msuccess\u001b[0m \u001b[0;34m=\u001b[0m \u001b[0mrollout_subseq\u001b[0m\u001b[0;34m(\u001b[0m\u001b[0mgoal\u001b[0m\u001b[0;34m,\u001b[0m \u001b[0mretries\u001b[0m\u001b[0;34m,\u001b[0m \u001b[0mreplan_horizon\u001b[0m\u001b[0;34m,\u001b[0m \u001b[0ma_true\u001b[0m\u001b[0;34m,\u001b[0m \u001b[0mo_true\u001b[0m\u001b[0;34m,\u001b[0m \u001b[0mtraj_len\u001b[0m\u001b[0;34m,\u001b[0m\u001b[0mreplay\u001b[0m\u001b[0;34m)\u001b[0m\u001b[0;34m\u001b[0m\u001b[0;34m\u001b[0m\u001b[0m\n\u001b[0m\u001b[1;32m    153\u001b[0m         \u001b[0msuccesses\u001b[0m\u001b[0;34m.\u001b[0m\u001b[0mappend\u001b[0m\u001b[0;34m(\u001b[0m\u001b[0msuccess\u001b[0m\u001b[0;34m)\u001b[0m\u001b[0;34m\u001b[0m\u001b[0;34m\u001b[0m\u001b[0m\n\u001b[1;32m    154\u001b[0m \u001b[0;34m\u001b[0m\u001b[0m\n",
      "\u001b[0;32m<ipython-input-50-96a6f0869b73>\u001b[0m in \u001b[0;36mrollout_subseq\u001b[0;34m(goal, retries, replan_horizon, a_true, o_true, traj_len, replay, end_on_success, record_dir)\u001b[0m\n\u001b[1;32m     90\u001b[0m                 \u001b[0mrecord_state\u001b[0m\u001b[0;34m(\u001b[0m\u001b[0mrecord_dir\u001b[0m\u001b[0;34m)\u001b[0m\u001b[0;34m\u001b[0m\u001b[0;34m\u001b[0m\u001b[0m\n\u001b[1;32m     91\u001b[0m \u001b[0;34m\u001b[0m\u001b[0m\n\u001b[0;32m---> 92\u001b[0;31m             \u001b[0mo\u001b[0m \u001b[0;34m=\u001b[0m \u001b[0mflatten_obs\u001b[0m\u001b[0;34m(\u001b[0m\u001b[0mo\u001b[0m\u001b[0;34m,\u001b[0m \u001b[0mrecord_o_buff\u001b[0m\u001b[0;34m)\u001b[0m\u001b[0;34m\u001b[0m\u001b[0;34m\u001b[0m\u001b[0m\n\u001b[0m\u001b[1;32m     93\u001b[0m             \u001b[0;32mif\u001b[0m \u001b[0;32mnot\u001b[0m \u001b[0margs\u001b[0m\u001b[0;34m.\u001b[0m\u001b[0mimages\u001b[0m\u001b[0;34m:\u001b[0m\u001b[0;34m\u001b[0m\u001b[0;34m\u001b[0m\u001b[0m\n\u001b[1;32m     94\u001b[0m                 \u001b[0;32mif\u001b[0m \u001b[0msuccess_func\u001b[0m\u001b[0;34m(\u001b[0m\u001b[0mg\u001b[0m\u001b[0;34m,\u001b[0m \u001b[0mag\u001b[0m\u001b[0;34m)\u001b[0m\u001b[0;34m:\u001b[0m\u001b[0;34m\u001b[0m\u001b[0;34m\u001b[0m\u001b[0m\n",
      "\u001b[0;32m<ipython-input-50-96a6f0869b73>\u001b[0m in \u001b[0;36mflatten_obs\u001b[0;34m(obs_dict, record_o_buff)\u001b[0m\n\u001b[1;32m     11\u001b[0m         \u001b[0mproprioceptive_features\u001b[0m \u001b[0;34m=\u001b[0m \u001b[0mtf\u001b[0m\u001b[0;34m.\u001b[0m\u001b[0mcast\u001b[0m\u001b[0;34m(\u001b[0m\u001b[0mtf\u001b[0m\u001b[0;34m.\u001b[0m\u001b[0mexpand_dims\u001b[0m\u001b[0;34m(\u001b[0m\u001b[0mo\u001b[0m\u001b[0;34m[\u001b[0m\u001b[0;34m:\u001b[0m\u001b[0;36m7\u001b[0m\u001b[0;34m]\u001b[0m\u001b[0;34m,\u001b[0m\u001b[0;36m0\u001b[0m\u001b[0;34m)\u001b[0m\u001b[0;34m,\u001b[0m \u001b[0mtf\u001b[0m\u001b[0;34m.\u001b[0m\u001b[0mfloat32\u001b[0m\u001b[0;34m)\u001b[0m\u001b[0;34m\u001b[0m\u001b[0;34m\u001b[0m\u001b[0m\n\u001b[1;32m     12\u001b[0m         \u001b[0mimg\u001b[0m \u001b[0;34m=\u001b[0m \u001b[0mobs_dict\u001b[0m\u001b[0;34m[\u001b[0m\u001b[0;34m'img'\u001b[0m\u001b[0;34m]\u001b[0m\u001b[0;34m\u001b[0m\u001b[0;34m\u001b[0m\u001b[0m\n\u001b[0;32m---> 13\u001b[0;31m         \u001b[0mimg_embedding\u001b[0m \u001b[0;34m=\u001b[0m \u001b[0mcnn\u001b[0m\u001b[0;34m(\u001b[0m\u001b[0mtf\u001b[0m\u001b[0;34m.\u001b[0m\u001b[0mexpand_dims\u001b[0m\u001b[0;34m(\u001b[0m\u001b[0mimg\u001b[0m\u001b[0;34m,\u001b[0m \u001b[0;36m0\u001b[0m\u001b[0;34m)\u001b[0m\u001b[0;34m)\u001b[0m\u001b[0;34m\u001b[0m\u001b[0;34m\u001b[0m\u001b[0m\n\u001b[0m\u001b[1;32m     14\u001b[0m         \u001b[0mo\u001b[0m \u001b[0;34m=\u001b[0m \u001b[0mtf\u001b[0m\u001b[0;34m.\u001b[0m\u001b[0msqueeze\u001b[0m\u001b[0;34m(\u001b[0m\u001b[0mtf\u001b[0m\u001b[0;34m.\u001b[0m\u001b[0mconcat\u001b[0m\u001b[0;34m(\u001b[0m\u001b[0;34m[\u001b[0m\u001b[0mimg_embedding\u001b[0m\u001b[0;34m,\u001b[0m \u001b[0mproprioceptive_features\u001b[0m\u001b[0;34m]\u001b[0m\u001b[0;34m,\u001b[0m\u001b[0maxis\u001b[0m\u001b[0;34m=\u001b[0m\u001b[0;36m1\u001b[0m\u001b[0;34m)\u001b[0m\u001b[0;34m)\u001b[0m\u001b[0;34m\u001b[0m\u001b[0;34m\u001b[0m\u001b[0m\n\u001b[1;32m     15\u001b[0m \u001b[0;34m\u001b[0m\u001b[0m\n",
      "\u001b[0;32m~/anaconda3/lib/python3.7/site-packages/tensorflow/python/keras/engine/base_layer.py\u001b[0m in \u001b[0;36m__call__\u001b[0;34m(self, *args, **kwargs)\u001b[0m\n\u001b[1;32m    983\u001b[0m \u001b[0;34m\u001b[0m\u001b[0m\n\u001b[1;32m    984\u001b[0m         \u001b[0;32mwith\u001b[0m \u001b[0mops\u001b[0m\u001b[0;34m.\u001b[0m\u001b[0menable_auto_cast_variables\u001b[0m\u001b[0;34m(\u001b[0m\u001b[0mself\u001b[0m\u001b[0;34m.\u001b[0m\u001b[0m_compute_dtype_object\u001b[0m\u001b[0;34m)\u001b[0m\u001b[0;34m:\u001b[0m\u001b[0;34m\u001b[0m\u001b[0;34m\u001b[0m\u001b[0m\n\u001b[0;32m--> 985\u001b[0;31m           \u001b[0moutputs\u001b[0m \u001b[0;34m=\u001b[0m \u001b[0mcall_fn\u001b[0m\u001b[0;34m(\u001b[0m\u001b[0minputs\u001b[0m\u001b[0;34m,\u001b[0m \u001b[0;34m*\u001b[0m\u001b[0margs\u001b[0m\u001b[0;34m,\u001b[0m \u001b[0;34m**\u001b[0m\u001b[0mkwargs\u001b[0m\u001b[0;34m)\u001b[0m\u001b[0;34m\u001b[0m\u001b[0;34m\u001b[0m\u001b[0m\n\u001b[0m\u001b[1;32m    986\u001b[0m \u001b[0;34m\u001b[0m\u001b[0m\n\u001b[1;32m    987\u001b[0m         \u001b[0;32mif\u001b[0m \u001b[0mself\u001b[0m\u001b[0;34m.\u001b[0m\u001b[0m_activity_regularizer\u001b[0m\u001b[0;34m:\u001b[0m\u001b[0;34m\u001b[0m\u001b[0;34m\u001b[0m\u001b[0m\n",
      "\u001b[0;32m~/Desktop/AI/learning_from_play/lfp/model.py\u001b[0m in \u001b[0;36mcall\u001b[0;34m(self, inputs)\u001b[0m\n\u001b[1;32m    222\u001b[0m         \u001b[0;31m# jointly over the image dimensions.\u001b[0m\u001b[0;34m\u001b[0m\u001b[0;34m\u001b[0m\u001b[0;34m\u001b[0m\u001b[0m\n\u001b[1;32m    223\u001b[0m         \u001b[0mN\u001b[0m\u001b[0;34m,\u001b[0m \u001b[0mH\u001b[0m\u001b[0;34m,\u001b[0m \u001b[0mW\u001b[0m\u001b[0;34m,\u001b[0m \u001b[0mC\u001b[0m \u001b[0;34m=\u001b[0m \u001b[0mpre_softmax\u001b[0m\u001b[0;34m.\u001b[0m\u001b[0mshape\u001b[0m\u001b[0;34m\u001b[0m\u001b[0;34m\u001b[0m\u001b[0m\n\u001b[0;32m--> 224\u001b[0;31m         \u001b[0mx\u001b[0m \u001b[0;34m=\u001b[0m \u001b[0mtf\u001b[0m\u001b[0;34m.\u001b[0m\u001b[0mreshape\u001b[0m\u001b[0;34m(\u001b[0m\u001b[0mtf\u001b[0m\u001b[0;34m.\u001b[0m\u001b[0mtranspose\u001b[0m\u001b[0;34m(\u001b[0m\u001b[0mx\u001b[0m\u001b[0;34m,\u001b[0m \u001b[0;34m[\u001b[0m\u001b[0;36m0\u001b[0m\u001b[0;34m,\u001b[0m \u001b[0;36m3\u001b[0m\u001b[0;34m,\u001b[0m \u001b[0;36m1\u001b[0m\u001b[0;34m,\u001b[0m \u001b[0;36m2\u001b[0m\u001b[0;34m]\u001b[0m\u001b[0;34m)\u001b[0m\u001b[0;34m,\u001b[0m \u001b[0;34m[\u001b[0m\u001b[0mN\u001b[0m \u001b[0;34m*\u001b[0m \u001b[0mC\u001b[0m\u001b[0;34m,\u001b[0m \u001b[0mH\u001b[0m \u001b[0;34m*\u001b[0m \u001b[0mW\u001b[0m\u001b[0;34m]\u001b[0m\u001b[0;34m)\u001b[0m\u001b[0;34m\u001b[0m\u001b[0;34m\u001b[0m\u001b[0m\n\u001b[0m\u001b[1;32m    225\u001b[0m         \u001b[0msoftmax\u001b[0m \u001b[0;34m=\u001b[0m \u001b[0mtf\u001b[0m\u001b[0;34m.\u001b[0m\u001b[0mnn\u001b[0m\u001b[0;34m.\u001b[0m\u001b[0msoftmax\u001b[0m\u001b[0;34m(\u001b[0m\u001b[0mx\u001b[0m\u001b[0;34m)\u001b[0m\u001b[0;34m\u001b[0m\u001b[0;34m\u001b[0m\u001b[0m\n\u001b[1;32m    226\u001b[0m         \u001b[0;31m# Reshape and transpose back to original format.\u001b[0m\u001b[0;34m\u001b[0m\u001b[0;34m\u001b[0m\u001b[0;34m\u001b[0m\u001b[0m\n",
      "\u001b[0;32m~/anaconda3/lib/python3.7/site-packages/tensorflow/python/util/dispatch.py\u001b[0m in \u001b[0;36mwrapper\u001b[0;34m(*args, **kwargs)\u001b[0m\n\u001b[1;32m    196\u001b[0m \u001b[0;32mdef\u001b[0m \u001b[0madd_dispatch_support\u001b[0m\u001b[0;34m(\u001b[0m\u001b[0mtarget\u001b[0m\u001b[0;34m)\u001b[0m\u001b[0;34m:\u001b[0m\u001b[0;34m\u001b[0m\u001b[0;34m\u001b[0m\u001b[0m\n\u001b[1;32m    197\u001b[0m   \u001b[0;34m\"\"\"Decorator that adds a dispatch handling wrapper to an op.\"\"\"\u001b[0m\u001b[0;34m\u001b[0m\u001b[0;34m\u001b[0m\u001b[0m\n\u001b[0;32m--> 198\u001b[0;31m   \u001b[0;32mdef\u001b[0m \u001b[0mwrapper\u001b[0m\u001b[0;34m(\u001b[0m\u001b[0;34m*\u001b[0m\u001b[0margs\u001b[0m\u001b[0;34m,\u001b[0m \u001b[0;34m**\u001b[0m\u001b[0mkwargs\u001b[0m\u001b[0;34m)\u001b[0m\u001b[0;34m:\u001b[0m\u001b[0;34m\u001b[0m\u001b[0;34m\u001b[0m\u001b[0m\n\u001b[0m\u001b[1;32m    199\u001b[0m     \u001b[0;34m\"\"\"Call target, and fall back on dispatchers if there is a TypeError.\"\"\"\u001b[0m\u001b[0;34m\u001b[0m\u001b[0;34m\u001b[0m\u001b[0m\n\u001b[1;32m    200\u001b[0m     \u001b[0;32mtry\u001b[0m\u001b[0;34m:\u001b[0m\u001b[0;34m\u001b[0m\u001b[0;34m\u001b[0m\u001b[0m\n",
      "\u001b[0;31mKeyboardInterrupt\u001b[0m: "
     ]
    }
   ],
   "source": [
    "successes = test_seq_type(data, retries = 10, replay=False, replan_horizon=10)"
   ]
  },
  {
   "cell_type": "code",
   "execution_count": null,
   "metadata": {},
   "outputs": [],
   "source": [
    "\n"
   ]
  },
  {
   "cell_type": "code",
   "execution_count": null,
   "metadata": {},
   "outputs": [],
   "source": [
    "\n",
    "    "
   ]
  },
  {
   "cell_type": "code",
   "execution_count": null,
   "metadata": {},
   "outputs": [],
   "source": []
  },
  {
   "cell_type": "code",
   "execution_count": null,
   "metadata": {},
   "outputs": [],
   "source": []
  },
  {
   "cell_type": "markdown",
   "metadata": {},
   "source": [
    "# Make recordings, and replay them while visualising the plans chosen"
   ]
  },
  {
   "cell_type": "code",
   "execution_count": 54,
   "metadata": {},
   "outputs": [],
   "source": [
    "record_path = os.getcwd() + '/recordings/'\n",
    "\n",
    "def make_recording_dir():\n",
    "    demo_count = len(list(os.listdir(record_path)))\n",
    "    example_path = record_path + str(demo_count)\n",
    "    os.makedirs(example_path)\n",
    "    return example_path\n",
    "\n",
    "\n",
    "def record_state(path):\n",
    "    t_step = len(list(os.listdir(path)))\n",
    "    env.p.saveBullet(path +'/'+ str(t_step)) "
   ]
  },
  {
   "cell_type": "code",
   "execution_count": 30,
   "metadata": {},
   "outputs": [],
   "source": [
    "\n",
    "#env.render('playback') # 10 is good"
   ]
  },
  {
   "cell_type": "code",
   "execution_count": 73,
   "metadata": {
    "collapsed": true
   },
   "outputs": [
    {
     "name": "stdout",
     "output_type": "stream",
     "text": [
      "8\n",
      "4\n",
      "11\n",
      "5\n",
      "4\n",
      "11\n",
      "11\n",
      "11\n",
      "6\n",
      "4\n",
      "6\n",
      "2\n",
      "7\n",
      "4\n",
      "9\n",
      "11\n",
      "2\n",
      "6\n",
      "2\n",
      "6\n",
      "11\n",
      "11\n",
      "12\n",
      "12\n",
      "10\n",
      "5\n",
      "11\n",
      "7\n",
      "4\n",
      "7\n",
      "8\n",
      "6\n",
      "4\n",
      "11\n",
      "5\n",
      "12\n",
      "12\n",
      "11\n",
      "7\n",
      "6\n",
      "11\n",
      "9\n",
      "11\n",
      "11\n",
      "6\n",
      "12\n",
      "9\n",
      "4\n",
      "6\n",
      "6\n",
      "4\n",
      "4\n",
      "6\n",
      "6\n",
      "0\n",
      "7\n",
      "0\n",
      "11\n",
      "11\n",
      "11\n",
      "3\n",
      "2\n",
      "8\n",
      "11\n",
      "7\n",
      "11\n",
      "12\n",
      "4\n",
      "11\n"
     ]
    },
    {
     "ename": "KeyboardInterrupt",
     "evalue": "",
     "output_type": "error",
     "traceback": [
      "\u001b[0;31m---------------------------------------------------------------------------\u001b[0m",
      "\u001b[0;31mKeyboardInterrupt\u001b[0m                         Traceback (most recent call last)",
      "\u001b[0;32m<ipython-input-73-b7aeccea795d>\u001b[0m in \u001b[0;36m<module>\u001b[0;34m\u001b[0m\n\u001b[1;32m     11\u001b[0m         \u001b[0mkwargs\u001b[0m\u001b[0;34m[\u001b[0m\u001b[0;34m'goal'\u001b[0m\u001b[0;34m]\u001b[0m\u001b[0;34m[\u001b[0m\u001b[0;34m'args'\u001b[0m\u001b[0;34m]\u001b[0m \u001b[0;34m=\u001b[0m \u001b[0mtasks\u001b[0m\u001b[0;34m[\u001b[0m\u001b[0mtask\u001b[0m\u001b[0;34m]\u001b[0m\u001b[0;34m\u001b[0m\u001b[0;34m\u001b[0m\u001b[0m\n\u001b[1;32m     12\u001b[0m         \u001b[0mkwargs\u001b[0m\u001b[0;34m[\u001b[0m\u001b[0;34m'record_dir'\u001b[0m\u001b[0;34m]\u001b[0m \u001b[0;34m=\u001b[0m \u001b[0mpath\u001b[0m\u001b[0;34m\u001b[0m\u001b[0;34m\u001b[0m\u001b[0m\n\u001b[0;32m---> 13\u001b[0;31m         \u001b[0m_\u001b[0m\u001b[0;34m,\u001b[0m\u001b[0ma_pred\u001b[0m\u001b[0;34m,\u001b[0m\u001b[0m_\u001b[0m\u001b[0;34m,\u001b[0m\u001b[0m_\u001b[0m\u001b[0;34m,\u001b[0m\u001b[0m_\u001b[0m\u001b[0;34m,\u001b[0m\u001b[0msucceeded\u001b[0m  \u001b[0;34m=\u001b[0m \u001b[0mrollout_subseq\u001b[0m\u001b[0;34m(\u001b[0m\u001b[0;34m**\u001b[0m\u001b[0mkwargs\u001b[0m\u001b[0;34m)\u001b[0m\u001b[0;34m\u001b[0m\u001b[0;34m\u001b[0m\u001b[0m\n\u001b[0m\u001b[1;32m     14\u001b[0m         \u001b[0mpredicted_actions\u001b[0m\u001b[0;34m.\u001b[0m\u001b[0mappend\u001b[0m\u001b[0;34m(\u001b[0m\u001b[0ma_pred\u001b[0m\u001b[0;34m)\u001b[0m\u001b[0;34m\u001b[0m\u001b[0;34m\u001b[0m\u001b[0m\n\u001b[1;32m     15\u001b[0m         \u001b[0;32mif\u001b[0m \u001b[0msucceeded\u001b[0m\u001b[0;34m:\u001b[0m\u001b[0;34m\u001b[0m\u001b[0;34m\u001b[0m\u001b[0m\n",
      "\u001b[0;32m<ipython-input-36-a6d4f21e8cab>\u001b[0m in \u001b[0;36mrollout_subseq\u001b[0;34m(goal, retries, replan_horizon, a_true, o_true, traj_len, replay, end_on_success, record_dir)\u001b[0m\n\u001b[1;32m    198\u001b[0m \u001b[0;34m\u001b[0m\u001b[0m\n\u001b[1;32m    199\u001b[0m         \u001b[0;32mfor\u001b[0m \u001b[0mi\u001b[0m \u001b[0;32min\u001b[0m \u001b[0mrange\u001b[0m\u001b[0;34m(\u001b[0m\u001b[0;36m0\u001b[0m\u001b[0;34m,\u001b[0m \u001b[0mreplan_horizon\u001b[0m\u001b[0;34m)\u001b[0m\u001b[0;34m:\u001b[0m\u001b[0;34m\u001b[0m\u001b[0;34m\u001b[0m\u001b[0m\n\u001b[0;32m--> 200\u001b[0;31m             \u001b[0ma\u001b[0m \u001b[0;34m=\u001b[0m \u001b[0mchoose_action\u001b[0m\u001b[0;34m(\u001b[0m\u001b[0mactor\u001b[0m\u001b[0;34m,\u001b[0m \u001b[0mo\u001b[0m\u001b[0;34m,\u001b[0m \u001b[0mz\u001b[0m\u001b[0;34m,\u001b[0m \u001b[0mg\u001b[0m\u001b[0;34m,\u001b[0m \u001b[0mstates\u001b[0m\u001b[0;34m,\u001b[0m \u001b[0ma_pred\u001b[0m\u001b[0;34m,\u001b[0m \u001b[0ma_true\u001b[0m\u001b[0;34m,\u001b[0m \u001b[0mreplay\u001b[0m\u001b[0;34m,\u001b[0m \u001b[0mi\u001b[0m\u001b[0;34m)\u001b[0m\u001b[0;34m\u001b[0m\u001b[0;34m\u001b[0m\u001b[0m\n\u001b[0m\u001b[1;32m    201\u001b[0m             \u001b[0mo\u001b[0m\u001b[0;34m,\u001b[0m \u001b[0mr\u001b[0m\u001b[0;34m,\u001b[0m \u001b[0md\u001b[0m\u001b[0;34m,\u001b[0m \u001b[0m_\u001b[0m \u001b[0;34m=\u001b[0m \u001b[0menv\u001b[0m\u001b[0;34m.\u001b[0m\u001b[0mstep\u001b[0m\u001b[0;34m(\u001b[0m\u001b[0ma\u001b[0m\u001b[0;34m)\u001b[0m\u001b[0;34m\u001b[0m\u001b[0;34m\u001b[0m\u001b[0m\n\u001b[1;32m    202\u001b[0m             \u001b[0;31m# put the o here\u001b[0m\u001b[0;34m\u001b[0m\u001b[0;34m\u001b[0m\u001b[0;34m\u001b[0m\u001b[0m\n",
      "\u001b[0;32m<ipython-input-36-a6d4f21e8cab>\u001b[0m in \u001b[0;36mchoose_action\u001b[0;34m(actor, o, z, goal, states, a_pred, a_true, replay, i)\u001b[0m\n\u001b[1;32m    157\u001b[0m             \u001b[0ma\u001b[0m \u001b[0;34m=\u001b[0m \u001b[0ma\u001b[0m\u001b[0;34m.\u001b[0m\u001b[0msample\u001b[0m\u001b[0;34m(\u001b[0m\u001b[0;34m)\u001b[0m\u001b[0;34m.\u001b[0m\u001b[0mnumpy\u001b[0m\u001b[0;34m(\u001b[0m\u001b[0;34m)\u001b[0m\u001b[0;34m.\u001b[0m\u001b[0msqueeze\u001b[0m\u001b[0;34m(\u001b[0m\u001b[0;34m)\u001b[0m\u001b[0;34m\u001b[0m\u001b[0;34m\u001b[0m\u001b[0m\n\u001b[1;32m    158\u001b[0m         \u001b[0;32melse\u001b[0m\u001b[0;34m:\u001b[0m\u001b[0;34m\u001b[0m\u001b[0;34m\u001b[0m\u001b[0m\n\u001b[0;32m--> 159\u001b[0;31m             \u001b[0ma\u001b[0m \u001b[0;34m=\u001b[0m \u001b[0ma\u001b[0m\u001b[0;34m.\u001b[0m\u001b[0mnumpy\u001b[0m\u001b[0;34m(\u001b[0m\u001b[0;34m)\u001b[0m\u001b[0;34m.\u001b[0m\u001b[0msqueeze\u001b[0m\u001b[0;34m(\u001b[0m\u001b[0;34m)\u001b[0m\u001b[0;34m\u001b[0m\u001b[0;34m\u001b[0m\u001b[0m\n\u001b[0m\u001b[1;32m    160\u001b[0m \u001b[0;34m\u001b[0m\u001b[0m\n\u001b[1;32m    161\u001b[0m         \u001b[0;32mif\u001b[0m \u001b[0ma_pred\u001b[0m \u001b[0;32mis\u001b[0m \u001b[0;32mnot\u001b[0m \u001b[0;32mNone\u001b[0m\u001b[0;34m:\u001b[0m\u001b[0;34m\u001b[0m\u001b[0;34m\u001b[0m\u001b[0m\n",
      "\u001b[0;32m~/anaconda3/lib/python3.7/site-packages/tensorflow/python/framework/ops.py\u001b[0m in \u001b[0;36mnumpy\u001b[0;34m(self)\u001b[0m\n\u001b[1;32m   1061\u001b[0m     \"\"\"\n\u001b[1;32m   1062\u001b[0m     \u001b[0;31m# TODO(slebedev): Consider avoiding a copy for non-CPU or remote tensors.\u001b[0m\u001b[0;34m\u001b[0m\u001b[0;34m\u001b[0m\u001b[0;34m\u001b[0m\u001b[0m\n\u001b[0;32m-> 1063\u001b[0;31m     \u001b[0mmaybe_arr\u001b[0m \u001b[0;34m=\u001b[0m \u001b[0mself\u001b[0m\u001b[0;34m.\u001b[0m\u001b[0m_numpy\u001b[0m\u001b[0;34m(\u001b[0m\u001b[0;34m)\u001b[0m  \u001b[0;31m# pylint: disable=protected-access\u001b[0m\u001b[0;34m\u001b[0m\u001b[0;34m\u001b[0m\u001b[0m\n\u001b[0m\u001b[1;32m   1064\u001b[0m     \u001b[0;32mreturn\u001b[0m \u001b[0mmaybe_arr\u001b[0m\u001b[0;34m.\u001b[0m\u001b[0mcopy\u001b[0m\u001b[0;34m(\u001b[0m\u001b[0;34m)\u001b[0m \u001b[0;32mif\u001b[0m \u001b[0misinstance\u001b[0m\u001b[0;34m(\u001b[0m\u001b[0mmaybe_arr\u001b[0m\u001b[0;34m,\u001b[0m \u001b[0mnp\u001b[0m\u001b[0;34m.\u001b[0m\u001b[0mndarray\u001b[0m\u001b[0;34m)\u001b[0m \u001b[0;32melse\u001b[0m \u001b[0mmaybe_arr\u001b[0m\u001b[0;34m\u001b[0m\u001b[0;34m\u001b[0m\u001b[0m\n\u001b[1;32m   1065\u001b[0m \u001b[0;34m\u001b[0m\u001b[0m\n",
      "\u001b[0;32m~/anaconda3/lib/python3.7/site-packages/tensorflow/python/framework/ops.py\u001b[0m in \u001b[0;36m_numpy\u001b[0;34m(self)\u001b[0m\n\u001b[1;32m   1027\u001b[0m   \u001b[0;32mdef\u001b[0m \u001b[0m_numpy\u001b[0m\u001b[0;34m(\u001b[0m\u001b[0mself\u001b[0m\u001b[0;34m)\u001b[0m\u001b[0;34m:\u001b[0m\u001b[0;34m\u001b[0m\u001b[0;34m\u001b[0m\u001b[0m\n\u001b[1;32m   1028\u001b[0m     \u001b[0;32mtry\u001b[0m\u001b[0;34m:\u001b[0m\u001b[0;34m\u001b[0m\u001b[0;34m\u001b[0m\u001b[0m\n\u001b[0;32m-> 1029\u001b[0;31m       \u001b[0;32mreturn\u001b[0m \u001b[0mself\u001b[0m\u001b[0;34m.\u001b[0m\u001b[0m_numpy_internal\u001b[0m\u001b[0;34m(\u001b[0m\u001b[0;34m)\u001b[0m\u001b[0;34m\u001b[0m\u001b[0;34m\u001b[0m\u001b[0m\n\u001b[0m\u001b[1;32m   1030\u001b[0m     \u001b[0;32mexcept\u001b[0m \u001b[0mcore\u001b[0m\u001b[0;34m.\u001b[0m\u001b[0m_NotOkStatusException\u001b[0m \u001b[0;32mas\u001b[0m \u001b[0me\u001b[0m\u001b[0;34m:\u001b[0m  \u001b[0;31m# pylint: disable=protected-access\u001b[0m\u001b[0;34m\u001b[0m\u001b[0;34m\u001b[0m\u001b[0m\n\u001b[1;32m   1031\u001b[0m       \u001b[0msix\u001b[0m\u001b[0;34m.\u001b[0m\u001b[0mraise_from\u001b[0m\u001b[0;34m(\u001b[0m\u001b[0mcore\u001b[0m\u001b[0;34m.\u001b[0m\u001b[0m_status_to_exception\u001b[0m\u001b[0;34m(\u001b[0m\u001b[0me\u001b[0m\u001b[0;34m.\u001b[0m\u001b[0mcode\u001b[0m\u001b[0;34m,\u001b[0m \u001b[0me\u001b[0m\u001b[0;34m.\u001b[0m\u001b[0mmessage\u001b[0m\u001b[0;34m)\u001b[0m\u001b[0;34m,\u001b[0m \u001b[0;32mNone\u001b[0m\u001b[0;34m)\u001b[0m  \u001b[0;31m# pylint: disable=protected-access\u001b[0m\u001b[0;34m\u001b[0m\u001b[0;34m\u001b[0m\u001b[0m\n",
      "\u001b[0;31mKeyboardInterrupt\u001b[0m: "
     ]
    }
   ],
   "source": [
    "import shutil\n",
    "record_path = os.getcwd() + '/recordings/'\n",
    "\n",
    "while len(list(os.listdir(record_path))) < 50:\n",
    "    _ = env.reset()\n",
    "    task_list  = ['close_drawer','dial_off', 'block_right', 'door_left', 'block_shelf', 'open_drawer', 'block_left', 'block_cupboard_right', 'door_right', 'button','door_left', 'block_upright']\n",
    "    #task_list = [ 'block_upright']\n",
    "    predicted_actions = []\n",
    "    path = make_recording_dir()\n",
    "    successes = 0\n",
    "    for i, task in enumerate(task_list):\n",
    "        kwargs['goal']['args'] = tasks[task]\n",
    "        kwargs['record_dir'] = path\n",
    "        _,a_pred,_,_,_,succeeded  = rollout_subseq(**kwargs)\n",
    "        predicted_actions.append(a_pred)\n",
    "        if succeeded:\n",
    "            successes += succeeded\n",
    "        else:\n",
    "            break\n",
    "\n",
    "    try:\n",
    "        np.save(path + '/successes', successes)\n",
    "        np.save(path + '/predicted_actions', np.vstack(predicted_actions))\n",
    "        print(successes)\n",
    "        if successes <= 10:\n",
    "            shutil.rmtree(path)\n",
    "    except:\n",
    "        pass\n",
    "    \n"
   ]
  },
  {
   "cell_type": "code",
   "execution_count": 50,
   "metadata": {},
   "outputs": [],
   "source": [
    "import shutil\n",
    "record_path = os.getcwd() + '/recordings/'\n",
    "\n",
    "def remove_files(path,x1,x2):\n",
    "    for step in range(x1,x2):\n",
    "        os.remove(path+'/'+str(step))\n",
    "        \n",
    "        \n",
    "def reset_from_last(path):\n",
    "    states = natsorted(list(os.listdir(path)))\n",
    "    states = [path+'/'+x for x in states if 'npy' not in x]\n",
    "    env.p.restoreState(fileName = states[-1])"
   ]
  },
  {
   "cell_type": "code",
   "execution_count": 99,
   "metadata": {},
   "outputs": [
    {
     "name": "stdout",
     "output_type": "stream",
     "text": [
      "loop?:0\n",
      "loop?:1\n",
      "loop?:1\n",
      "loop?:0\n",
      "loop?:1\n",
      "loop?:1\n",
      "loop?:0\n",
      "loop?:0\n",
      "loop?:0\n",
      "loop?:1\n",
      "loop?:1\n",
      "loop?:1\n",
      "loop?:1\n",
      "loop?:0\n",
      "loop?:1\n",
      "loop?:1\n",
      "loop?:1\n",
      "loop?:1\n",
      "loop?:1\n",
      "loop?:1\n",
      "loop?:1\n",
      "loop?:1\n",
      "loop?:1\n",
      "loop?:1\n",
      "loop?:1\n",
      "loop?:1\n",
      "loop?:1\n",
      "loop?:1\n",
      "loop?:1\n",
      "loop?:1\n",
      "loop?:1\n",
      "loop?:1\n",
      "loop?:1\n",
      "loop?:1\n",
      "loop?:1\n",
      "loop?:1\n",
      "loop?:1\n",
      "loop?:1\n",
      "loop?:1\n",
      "loop?:0\n",
      "loop?:0\n",
      "loop?:1\n",
      "loop?:0\n",
      "loop?:0\n",
      "loop?:0\n",
      "loop?:1\n",
      "loop?:1\n",
      "loop?:0\n",
      "loop?:1\n",
      "loop?:1\n",
      "loop?:1\n",
      "loop?:1\n",
      "loop?:1\n",
      "loop?:0\n",
      "13\n"
     ]
    },
    {
     "ename": "KeyboardInterrupt",
     "evalue": "",
     "output_type": "error",
     "traceback": [
      "\u001b[0;31m---------------------------------------------------------------------------\u001b[0m",
      "\u001b[0;31mKeyboardInterrupt\u001b[0m                         Traceback (most recent call last)",
      "\u001b[0;32m~/anaconda3/lib/python3.7/site-packages/ipykernel/kernelbase.py\u001b[0m in \u001b[0;36m_input_request\u001b[0;34m(self, prompt, ident, parent, password)\u001b[0m\n\u001b[1;32m    877\u001b[0m             \u001b[0;32mtry\u001b[0m\u001b[0;34m:\u001b[0m\u001b[0;34m\u001b[0m\u001b[0;34m\u001b[0m\u001b[0m\n\u001b[0;32m--> 878\u001b[0;31m                 \u001b[0mident\u001b[0m\u001b[0;34m,\u001b[0m \u001b[0mreply\u001b[0m \u001b[0;34m=\u001b[0m \u001b[0mself\u001b[0m\u001b[0;34m.\u001b[0m\u001b[0msession\u001b[0m\u001b[0;34m.\u001b[0m\u001b[0mrecv\u001b[0m\u001b[0;34m(\u001b[0m\u001b[0mself\u001b[0m\u001b[0;34m.\u001b[0m\u001b[0mstdin_socket\u001b[0m\u001b[0;34m,\u001b[0m \u001b[0;36m0\u001b[0m\u001b[0;34m)\u001b[0m\u001b[0;34m\u001b[0m\u001b[0;34m\u001b[0m\u001b[0m\n\u001b[0m\u001b[1;32m    879\u001b[0m             \u001b[0;32mexcept\u001b[0m \u001b[0mException\u001b[0m\u001b[0;34m:\u001b[0m\u001b[0;34m\u001b[0m\u001b[0;34m\u001b[0m\u001b[0m\n",
      "\u001b[0;32m~/anaconda3/lib/python3.7/site-packages/jupyter_client/session.py\u001b[0m in \u001b[0;36mrecv\u001b[0;34m(self, socket, mode, content, copy)\u001b[0m\n\u001b[1;32m    802\u001b[0m         \u001b[0;32mtry\u001b[0m\u001b[0;34m:\u001b[0m\u001b[0;34m\u001b[0m\u001b[0;34m\u001b[0m\u001b[0m\n\u001b[0;32m--> 803\u001b[0;31m             \u001b[0mmsg_list\u001b[0m \u001b[0;34m=\u001b[0m \u001b[0msocket\u001b[0m\u001b[0;34m.\u001b[0m\u001b[0mrecv_multipart\u001b[0m\u001b[0;34m(\u001b[0m\u001b[0mmode\u001b[0m\u001b[0;34m,\u001b[0m \u001b[0mcopy\u001b[0m\u001b[0;34m=\u001b[0m\u001b[0mcopy\u001b[0m\u001b[0;34m)\u001b[0m\u001b[0;34m\u001b[0m\u001b[0;34m\u001b[0m\u001b[0m\n\u001b[0m\u001b[1;32m    804\u001b[0m         \u001b[0;32mexcept\u001b[0m \u001b[0mzmq\u001b[0m\u001b[0;34m.\u001b[0m\u001b[0mZMQError\u001b[0m \u001b[0;32mas\u001b[0m \u001b[0me\u001b[0m\u001b[0;34m:\u001b[0m\u001b[0;34m\u001b[0m\u001b[0;34m\u001b[0m\u001b[0m\n",
      "\u001b[0;32m~/anaconda3/lib/python3.7/site-packages/zmq/sugar/socket.py\u001b[0m in \u001b[0;36mrecv_multipart\u001b[0;34m(self, flags, copy, track)\u001b[0m\n\u001b[1;32m    565\u001b[0m         \"\"\"\n\u001b[0;32m--> 566\u001b[0;31m         \u001b[0mparts\u001b[0m \u001b[0;34m=\u001b[0m \u001b[0;34m[\u001b[0m\u001b[0mself\u001b[0m\u001b[0;34m.\u001b[0m\u001b[0mrecv\u001b[0m\u001b[0;34m(\u001b[0m\u001b[0mflags\u001b[0m\u001b[0;34m,\u001b[0m \u001b[0mcopy\u001b[0m\u001b[0;34m=\u001b[0m\u001b[0mcopy\u001b[0m\u001b[0;34m,\u001b[0m \u001b[0mtrack\u001b[0m\u001b[0;34m=\u001b[0m\u001b[0mtrack\u001b[0m\u001b[0;34m)\u001b[0m\u001b[0;34m]\u001b[0m\u001b[0;34m\u001b[0m\u001b[0;34m\u001b[0m\u001b[0m\n\u001b[0m\u001b[1;32m    567\u001b[0m         \u001b[0;31m# have first part already, only loop while more to receive\u001b[0m\u001b[0;34m\u001b[0m\u001b[0;34m\u001b[0m\u001b[0;34m\u001b[0m\u001b[0m\n",
      "\u001b[0;32mzmq/backend/cython/socket.pyx\u001b[0m in \u001b[0;36mzmq.backend.cython.socket.Socket.recv\u001b[0;34m()\u001b[0m\n",
      "\u001b[0;32mzmq/backend/cython/socket.pyx\u001b[0m in \u001b[0;36mzmq.backend.cython.socket.Socket.recv\u001b[0;34m()\u001b[0m\n",
      "\u001b[0;32mzmq/backend/cython/socket.pyx\u001b[0m in \u001b[0;36mzmq.backend.cython.socket._recv_copy\u001b[0;34m()\u001b[0m\n",
      "\u001b[0;32m~/anaconda3/lib/python3.7/site-packages/zmq/backend/cython/checkrc.pxd\u001b[0m in \u001b[0;36mzmq.backend.cython.checkrc._check_rc\u001b[0;34m()\u001b[0m\n",
      "\u001b[0;31mKeyboardInterrupt\u001b[0m: ",
      "\nDuring handling of the above exception, another exception occurred:\n",
      "\u001b[0;31mKeyboardInterrupt\u001b[0m                         Traceback (most recent call last)",
      "\u001b[0;32m<ipython-input-99-bce8264cf024>\u001b[0m in \u001b[0;36m<module>\u001b[0;34m\u001b[0m\n\u001b[1;32m     17\u001b[0m         \u001b[0;32mwhile\u001b[0m \u001b[0mloop\u001b[0m\u001b[0;34m:\u001b[0m\u001b[0;34m\u001b[0m\u001b[0;34m\u001b[0m\u001b[0m\n\u001b[1;32m     18\u001b[0m             \u001b[0m_\u001b[0m\u001b[0;34m,\u001b[0m\u001b[0ma_pred\u001b[0m\u001b[0;34m,\u001b[0m\u001b[0m_\u001b[0m\u001b[0;34m,\u001b[0m\u001b[0m_\u001b[0m\u001b[0;34m,\u001b[0m\u001b[0m_\u001b[0m\u001b[0;34m,\u001b[0m\u001b[0mplans\u001b[0m\u001b[0;34m,\u001b[0m\u001b[0msucceeded\u001b[0m  \u001b[0;34m=\u001b[0m \u001b[0mrollout_subseq\u001b[0m\u001b[0;34m(\u001b[0m\u001b[0;34m**\u001b[0m\u001b[0mkwargs\u001b[0m\u001b[0;34m)\u001b[0m\u001b[0;34m\u001b[0m\u001b[0;34m\u001b[0m\u001b[0m\n\u001b[0;32m---> 19\u001b[0;31m             \u001b[0mloop\u001b[0m \u001b[0;34m=\u001b[0m \u001b[0mint\u001b[0m\u001b[0;34m(\u001b[0m\u001b[0minput\u001b[0m\u001b[0;34m(\u001b[0m\u001b[0;34m\"loop?:\"\u001b[0m\u001b[0;34m)\u001b[0m\u001b[0;34m)\u001b[0m\u001b[0;34m\u001b[0m\u001b[0;34m\u001b[0m\u001b[0m\n\u001b[0m\u001b[1;32m     20\u001b[0m             \u001b[0;32mif\u001b[0m \u001b[0mloop\u001b[0m\u001b[0;34m:\u001b[0m\u001b[0;34m\u001b[0m\u001b[0;34m\u001b[0m\u001b[0m\n\u001b[1;32m     21\u001b[0m                 \u001b[0mremove_files\u001b[0m\u001b[0;34m(\u001b[0m\u001b[0mpath\u001b[0m\u001b[0;34m,\u001b[0m\u001b[0mtotal_steps\u001b[0m\u001b[0;34m,\u001b[0m\u001b[0mtotal_steps\u001b[0m\u001b[0;34m+\u001b[0m\u001b[0mlen\u001b[0m\u001b[0;34m(\u001b[0m\u001b[0ma_pred\u001b[0m\u001b[0;34m)\u001b[0m\u001b[0;34m)\u001b[0m\u001b[0;34m\u001b[0m\u001b[0;34m\u001b[0m\u001b[0m\n",
      "\u001b[0;32m~/anaconda3/lib/python3.7/site-packages/ipykernel/kernelbase.py\u001b[0m in \u001b[0;36mraw_input\u001b[0;34m(self, prompt)\u001b[0m\n\u001b[1;32m    851\u001b[0m             \u001b[0mself\u001b[0m\u001b[0;34m.\u001b[0m\u001b[0m_parent_ident\u001b[0m\u001b[0;34m,\u001b[0m\u001b[0;34m\u001b[0m\u001b[0;34m\u001b[0m\u001b[0m\n\u001b[1;32m    852\u001b[0m             \u001b[0mself\u001b[0m\u001b[0;34m.\u001b[0m\u001b[0m_parent_header\u001b[0m\u001b[0;34m,\u001b[0m\u001b[0;34m\u001b[0m\u001b[0;34m\u001b[0m\u001b[0m\n\u001b[0;32m--> 853\u001b[0;31m             \u001b[0mpassword\u001b[0m\u001b[0;34m=\u001b[0m\u001b[0;32mFalse\u001b[0m\u001b[0;34m,\u001b[0m\u001b[0;34m\u001b[0m\u001b[0;34m\u001b[0m\u001b[0m\n\u001b[0m\u001b[1;32m    854\u001b[0m         )\n\u001b[1;32m    855\u001b[0m \u001b[0;34m\u001b[0m\u001b[0m\n",
      "\u001b[0;32m~/anaconda3/lib/python3.7/site-packages/ipykernel/kernelbase.py\u001b[0m in \u001b[0;36m_input_request\u001b[0;34m(self, prompt, ident, parent, password)\u001b[0m\n\u001b[1;32m    881\u001b[0m             \u001b[0;32mexcept\u001b[0m \u001b[0mKeyboardInterrupt\u001b[0m\u001b[0;34m:\u001b[0m\u001b[0;34m\u001b[0m\u001b[0;34m\u001b[0m\u001b[0m\n\u001b[1;32m    882\u001b[0m                 \u001b[0;31m# re-raise KeyboardInterrupt, to truncate traceback\u001b[0m\u001b[0;34m\u001b[0m\u001b[0;34m\u001b[0m\u001b[0;34m\u001b[0m\u001b[0m\n\u001b[0;32m--> 883\u001b[0;31m                 \u001b[0;32mraise\u001b[0m \u001b[0mKeyboardInterrupt\u001b[0m\u001b[0;34m\u001b[0m\u001b[0;34m\u001b[0m\u001b[0m\n\u001b[0m\u001b[1;32m    884\u001b[0m             \u001b[0;32melse\u001b[0m\u001b[0;34m:\u001b[0m\u001b[0;34m\u001b[0m\u001b[0;34m\u001b[0m\u001b[0m\n\u001b[1;32m    885\u001b[0m                 \u001b[0;32mbreak\u001b[0m\u001b[0;34m\u001b[0m\u001b[0;34m\u001b[0m\u001b[0m\n",
      "\u001b[0;31mKeyboardInterrupt\u001b[0m: "
     ]
    }
   ],
   "source": [
    "kwargs = {'goal':{'func':tester.make_goal, 'args':None}, 'retries':20, 'replan_horizon':10, 'end_on_success':True, 'record_dir': None}\n",
    "# 10 is good\n",
    "while len(list(os.listdir(record_path))) < 50:\n",
    "    _ = env.reset()\n",
    "    task_list  = ['close_drawer','dial_off', 'block_right', 'door_left', 'block_shelf', 'open_drawer', 'block_left', 'block_lengthways_left', 'block_cupboard_right', 'door_right', 'button','door_left', 'block_upright']\n",
    "    #task_list = [ 'block_upright']\n",
    "    predicted_actions = []\n",
    "    sampled_plans = []\n",
    "    indices = [0]\n",
    "    path = make_recording_dir()\n",
    "    successes = 0\n",
    "    total_steps = 0\n",
    "    for i, task in enumerate(task_list):\n",
    "        kwargs['goal']['args'] = tasks[task]\n",
    "        kwargs['record_dir'] = path\n",
    "        loop = 1\n",
    "        while loop:\n",
    "            _,a_pred,_,_,_,plans,succeeded  = rollout_subseq(**kwargs)\n",
    "            loop = int(input(\"loop?:\"))\n",
    "            if loop:\n",
    "                remove_files(path,total_steps,total_steps+len(a_pred))\n",
    "                reset_from_last(path)\n",
    "                \n",
    "            else:\n",
    "                break\n",
    "        \n",
    "        predicted_actions.append(a_pred)\n",
    "        sampled_plans.append(np.squeeze(np.array(plans)))\n",
    "        total_steps = len(np.vstack(predicted_actions))\n",
    "        indices.append(total_steps)\n",
    "        if succeeded:\n",
    "            successes += succeeded\n",
    "        else:\n",
    "            break\n",
    "\n",
    "    try:\n",
    "        np.save(path + '/successes', successes)\n",
    "        np.save(path + '/predicted_actions', np.vstack(predicted_actions))\n",
    "        np.save(path + '/indices', np.vstack(indices))\n",
    "        np.save(path + '/sampled_plans', np.vstack(sampled_plans))\n",
    "        print(successes)\n",
    "#         if successes <= 10:\n",
    "#             shutil.rmtree(path)\n",
    "    except:\n",
    "        pass\n",
    "    \n"
   ]
  },
  {
   "cell_type": "code",
   "execution_count": 56,
   "metadata": {},
   "outputs": [],
   "source": [
    "\n",
    "#fig_plan, scatter = project_labelled_latents(reducer, z_plan.sample(), colors + batch_colors, True)\n",
    "batch = iter(valid_dataset).next()"
   ]
  },
  {
   "cell_type": "code",
   "execution_count": 68,
   "metadata": {},
   "outputs": [],
   "source": [
    "import umap\n",
    "reducer = umap.UMAP(metric='cosine', random_state=42)\n",
    "from lfp.plotting import bucket_colors, get_labelled_trajs, hold_out\n",
    "def establish_background(path):\n",
    "    batch_size=dl.batch_size\n",
    "    obs, acts, goals, labels, colors, paths, imgs, goal_imgs, proprioceptive_features = get_labelled_trajs(TEST_DATA_PATHS[0], bucket=True)\n",
    "    batch_states,batch_acts, batch_goals, batch_colors = batch['obs'][:batch_size, :40, :],batch['acts'][:batch_size, :40, :], batch['goals'][:batch_size, 0, :], [[0.8,0.8,0.8,0.6]]*batch_size\n",
    "    obs  = np.concatenate([obs, batch_states])\n",
    "    acts = np.concatenate([acts, batch_acts])\n",
    "    goals = np.concatenate([goals, batch_goals])\n",
    "    initial_state = obs[:, 0, :]\n",
    "    z_enc = encoder((obs,acts)).sample()\n",
    "    z_plan = planner((initial_state, goals))\n",
    "    sampled_plans = np.load(path+'/sampled_plans.npy')\n",
    "    background = z_plan.sample()\n",
    "\n",
    "    z_space = np.concatenate([z_enc, background, sampled_plans])\n",
    "    reducer.fit(z_space)\n",
    "    z_space = z_space[len(z_enc):] # Just put the encoded ones in there for additional structure in UMAP's fit\n",
    "    \n",
    "    # Make the colors\n",
    "    combined_colors = colors+batch_colors\n",
    "    \n",
    "    z_embed = reducer.transform(z_space)\n",
    "    fig = plt.figure(figsize=(12,9))\n",
    "    ax = fig.add_subplot(111)\n",
    "    scatter = ax.scatter(z_embed[:len(background), 0], z_embed[:len(background), 1], s=60, label='z', c = combined_colors)\n",
    "    ax.set_aspect('equal', 'datalim')\n",
    "    ax.legend(loc='upper left')\n",
    "    plt.axis('off')\n",
    "    plt.tight_layout()\n",
    "\n",
    "\n",
    "    colors_dict = bucket_colors.copy()\n",
    "    for i in hold_out:\n",
    "        del colors_dict[i]\n",
    "    markers = [plt.Line2D([0,0],[0,0],color=color, marker='o', linestyle='') for color in colors_dict.values()]\n",
    "    plt.legend(markers, colors_dict.keys(), numpoints=1)\n",
    "    \n",
    "    return fig, ax, z_embed[:len(colors)], colors, z_embed[len(background):]\n",
    "\n",
    "from scipy.spatial import KDTree\n",
    "\n",
    "def plot_plan(i, z_embed, past_point=None):\n",
    "    tree = KDTree(z_labelled)\n",
    "    plan = z_embed[int(i//replan_interval)]\n",
    "    dd, ii = tree.query(plan, k=1) # get the nns\n",
    "    spot_color = np.array(label_colors)[ii]# np.mean(np.array(label_colors)[ii], axis=0)\n",
    "    if pp is not None:\n",
    "        pp.remove()\n",
    "    scatter = ax.scatter(z_embed[int(i//replan_interval), 0], z_embed[int(i//replan_interval), 1], s=400, color = spot_color)\n",
    "    plt.pause(0.01)\n",
    "    \n",
    "    return scatter"
   ]
  },
  {
   "cell_type": "code",
   "execution_count": 100,
   "metadata": {},
   "outputs": [
    {
     "name": "stderr",
     "output_type": "stream",
     "text": [
      "/home/sholto/anaconda3/lib/python3.7/site-packages/numpy/core/_asarray.py:136: VisibleDeprecationWarning: Creating an ndarray from ragged nested sequences (which is a list-or-tuple of lists-or-tuples-or ndarrays with different lengths or shapes) is deprecated. If you meant to do this, you must specify 'dtype=object' when creating the ndarray\n",
      "  return array(a, dtype, copy=False, order=order, subok=True)\n"
     ]
    }
   ],
   "source": [
    "# This is replaying to visualise the plot \n",
    "%matplotlib qt\n",
    "\n",
    "path = '/home/sholto/Desktop/AI/learning_from_play/recordings//13'\n",
    "fig, ax, z_labelled, label_colors, z_proposed = establish_background(path)\n",
    "pp = None"
   ]
  },
  {
   "cell_type": "code",
   "execution_count": 104,
   "metadata": {
    "scrolled": false
   },
   "outputs": [],
   "source": [
    "\n",
    "states = natsorted(list(os.listdir(path)))\n",
    "states = [path+'/'+x for x in states if 'npy' not in x]\n",
    "acts = np.load(path+'/predicted_actions.npy')\n",
    "intervals = np.load(path+'/indices.npy')\n",
    "replan_interval = len(states)/len(z_proposed)\n",
    "\n",
    "\n",
    "time.sleep(1.0)\n",
    "for i,s in enumerate(states):\n",
    "        if i % replan_interval == 0:\n",
    "             pp = plot_plan(i, z_proposed, pp)\n",
    "        env.p.restoreState(fileName = s)\n",
    "        env.step(acts[i])\n",
    "        \n",
    "        \n",
    "        env.panda.updateToggles()"
   ]
  },
  {
   "cell_type": "code",
   "execution_count": 232,
   "metadata": {},
   "outputs": [],
   "source": [
    "\n"
   ]
  },
  {
   "cell_type": "code",
   "execution_count": 70,
   "metadata": {},
   "outputs": [],
   "source": [
    "def replay_recording(path):\n",
    "    states = natsorted(list(os.listdir(path)))\n",
    "    states = [path+'/'+x for x in states if 'npy' not in x]\n",
    "    acts = np.load(path+'/predicted_actions.npy')\n",
    "    intervals = np.load(path+'/indices.npy')\n",
    "    for i,s in enumerate(states):\n",
    "#         if int(i.split('/')[-1]) > 100:\n",
    "#             print(i.split('/')[-1])\n",
    "            env.step(acts[i])\n",
    "            env.p.restoreState(fileName = s)\n",
    "            env.panda.updateToggles()\n",
    "            \n",
    "            \n"
   ]
  },
  {
   "cell_type": "code",
   "execution_count": 108,
   "metadata": {},
   "outputs": [
    {
     "data": {
      "text/plain": [
       "(61, 256)"
      ]
     },
     "execution_count": 108,
     "metadata": {},
     "output_type": "execute_result"
    }
   ],
   "source": [
    "path = '/home/sholto/Desktop/AI/learning_from_play/recordings//2'\n"
   ]
  },
  {
   "cell_type": "code",
   "execution_count": 103,
   "metadata": {},
   "outputs": [],
   "source": [
    "\n",
    "replay_recording('/home/sholto/Desktop/AI/learning_from_play/recordings//2')\n"
   ]
  },
  {
   "cell_type": "code",
   "execution_count": 166,
   "metadata": {},
   "outputs": [],
   "source": [
    "def random_point():\n",
    "    x = np.random.choice([0.5, -0.5])\n",
    "    y =  np.random.choice([0.5, -0.5])\n",
    "    z =  np.random.choice([0.3, 0.5, 0.6])\n",
    "    return [x, y, z]\n",
    "def create_adversary():\n",
    "    \n",
    "    side = 0.03\n",
    "    colcubeId = bullet_client.createCollisionShape(bullet_client.GEOM_BOX, halfExtents=[side, side, side])\n",
    "    visplaneId = bullet_client.createVisualShape(bullet_client.GEOM_BOX, halfExtents=[side, side, side],\n",
    "                                                 rgbaColor=[1, 1, 1, 1])\n",
    "    \n",
    "    block = bullet_client.createMultiBody(0.1, colcubeId, visplaneId,random_point())\n",
    "    return block\n",
    "\n",
    "def guide_adversary(block):\n",
    "    x1 = np.array(bullet_client.getBasePositionAndOrientation(block)[0])\n",
    "    x2 = np.array(env.panda.calc_state()['observation'][0:3])\n",
    "    bullet_client.applyExternalForce(block, -1, (x2-x1)*100, [0,0,0], bullet_client.LINK_FRAME)\n",
    "    #bullet_client.stepSimulation()\n",
    "    \n",
    "bullet_client = env.p\n",
    "adversaries = []\n",
    "def rollout_subseq(goal,retries=1, replan_horizon=30, a_true=None, o_true=None, traj_len=None, replay=False,end_on_success = False, record_dir=None):\n",
    "    \n",
    "    a_pred = []\n",
    "    states = []\n",
    "    record_o_buff = []\n",
    "    plans = [] \n",
    "    \n",
    "    state = env.panda.calc_state()\n",
    "    o = flatten_obs(state, record_o_buff)\n",
    "    \n",
    "    success = 0 \n",
    "    for b in adversaries:\n",
    "        bullet_client.removeBody(b)\n",
    "    for j in range(0,retries):\n",
    "        \n",
    "        \n",
    "        \n",
    "        if isinstance(goal, dict):\n",
    "            # a function which remakes the goal so pertubations of other objects don't matter\n",
    "            g = goal['func'](*goal['args'])\n",
    "            env.visualise_sub_goal(np.squeeze(g), 'achieved_goal')\n",
    "        else:\n",
    "            g = goal\n",
    "        \n",
    "        if args.gcbc:\n",
    "            z = None\n",
    "        else:\n",
    "            plan = planner((o[0], g[0]))\n",
    "            z = tf.expand_dims(plan.sample(),0)\n",
    "            plans.append(z.numpy())\n",
    "        actor.reset_states()\n",
    "        \n",
    "        if replay:\n",
    "            replan_horizon = traj_len\n",
    "            \n",
    "        \n",
    "        block = create_adversary()\n",
    "        adversaries.append(block)\n",
    "        \n",
    "        for i in range(0, replan_horizon):\n",
    "            a = choose_action(actor, o, z, g, states, a_pred, a_true, replay, i)\n",
    "            o, r, d, _ = env.step(a)\n",
    "            \n",
    "            guide_adversary(block)\n",
    "            # put the o here\n",
    "            ag = o['achieved_goal']\n",
    "            if record_dir is not None:\n",
    "                record_state(record_dir)\n",
    "            \n",
    "            o = flatten_obs(o, record_o_buff)\n",
    "            if success_func(g, ag):\n",
    "                success = 1\n",
    "                \n",
    "        if end_on_success and success:\n",
    "            return np.array(a_true), np.array(a_pred), states, o_true, np.squeeze(np.array(record_o_buff)), plans, success\n",
    "            \n",
    "        \n",
    "            \n",
    "    return np.array(a_true), np.array(a_pred), states, o_true, np.squeeze(np.array(record_o_buff)), plans,  success"
   ]
  }
 ],
 "metadata": {
  "kernelspec": {
   "display_name": "Python 3",
   "language": "python",
   "name": "python3"
  },
  "language_info": {
   "codemirror_mode": {
    "name": "ipython",
    "version": 3
   },
   "file_extension": ".py",
   "mimetype": "text/x-python",
   "name": "python",
   "nbconvert_exporter": "python",
   "pygments_lexer": "ipython3",
   "version": "3.7.3"
  }
 },
 "nbformat": 4,
 "nbformat_minor": 2
}
