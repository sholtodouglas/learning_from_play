{
  "nbformat": 4,
  "nbformat_minor": 0,
  "metadata": {
    "accelerator": "TPU",
    "colab": {
      "name": "LMP Test.ipynb",
      "provenance": [],
      "collapsed_sections": [
        "G84fGXVwv9Fh",
        "-yC0L1P3v9GA",
        "8SHQGBjnv9GK",
        "b7CMny5dv9Gx",
        "njbQpQAGv9G2"
      ],
      "machine_shape": "hm",
      "include_colab_link": true
    },
    "kernelspec": {
      "display_name": "Python 3",
      "language": "python",
      "name": "python3"
    },
    "language_info": {
      "codemirror_mode": {
        "name": "ipython",
        "version": 3
      },
      "file_extension": ".py",
      "mimetype": "text/x-python",
      "name": "python",
      "nbconvert_exporter": "python",
      "pygments_lexer": "ipython3",
      "version": "3.7.3"
    },
    "widgets": {
      "application/vnd.jupyter.widget-state+json": {
        "15d3e82198f048efbbca9345f9c616f5": {
          "model_module": "@jupyter-widgets/controls",
          "model_name": "VBoxModel",
          "state": {
            "_view_name": "VBoxView",
            "_dom_classes": [],
            "_model_name": "VBoxModel",
            "_view_module": "@jupyter-widgets/controls",
            "_model_module_version": "1.5.0",
            "_view_count": null,
            "_view_module_version": "1.5.0",
            "box_style": "",
            "layout": "IPY_MODEL_0a69bbfb26334659bb222ac390b518ec",
            "_model_module": "@jupyter-widgets/controls",
            "children": [
              "IPY_MODEL_6041c5c008854f11a2b433c3a821d7f2",
              "IPY_MODEL_1bd4adf97281473db8a70722a39b1dc4"
            ]
          }
        },
        "0a69bbfb26334659bb222ac390b518ec": {
          "model_module": "@jupyter-widgets/base",
          "model_name": "LayoutModel",
          "state": {
            "_view_name": "LayoutView",
            "grid_template_rows": null,
            "right": null,
            "justify_content": null,
            "_view_module": "@jupyter-widgets/base",
            "overflow": null,
            "_model_module_version": "1.2.0",
            "_view_count": null,
            "flex_flow": null,
            "width": null,
            "min_width": null,
            "border": null,
            "align_items": null,
            "bottom": null,
            "_model_module": "@jupyter-widgets/base",
            "top": null,
            "grid_column": null,
            "overflow_y": null,
            "overflow_x": null,
            "grid_auto_flow": null,
            "grid_area": null,
            "grid_template_columns": null,
            "flex": null,
            "_model_name": "LayoutModel",
            "justify_items": null,
            "grid_row": null,
            "max_height": null,
            "align_content": null,
            "visibility": null,
            "align_self": null,
            "height": null,
            "min_height": null,
            "padding": null,
            "grid_auto_rows": null,
            "grid_gap": null,
            "max_width": null,
            "order": null,
            "_view_module_version": "1.2.0",
            "grid_template_areas": null,
            "object_position": null,
            "object_fit": null,
            "grid_auto_columns": null,
            "margin": null,
            "display": null,
            "left": null
          }
        },
        "6041c5c008854f11a2b433c3a821d7f2": {
          "model_module": "@jupyter-widgets/controls",
          "model_name": "LabelModel",
          "state": {
            "_view_name": "LabelView",
            "style": "IPY_MODEL_5b6414d138454b03b40f1f8e9e776ea3",
            "_dom_classes": [],
            "description": "",
            "_model_name": "LabelModel",
            "placeholder": "​",
            "_view_module": "@jupyter-widgets/controls",
            "_model_module_version": "1.5.0",
            "value": " 0.23MB of 0.23MB uploaded (0.00MB deduped)\r",
            "_view_count": null,
            "_view_module_version": "1.5.0",
            "description_tooltip": null,
            "_model_module": "@jupyter-widgets/controls",
            "layout": "IPY_MODEL_b1817f5a6c7c4d1191513529da5be67c"
          }
        },
        "1bd4adf97281473db8a70722a39b1dc4": {
          "model_module": "@jupyter-widgets/controls",
          "model_name": "FloatProgressModel",
          "state": {
            "_view_name": "ProgressView",
            "style": "IPY_MODEL_76f59235d58c48219973fe37287dad84",
            "_dom_classes": [],
            "description": "",
            "_model_name": "FloatProgressModel",
            "bar_style": "",
            "max": 1,
            "_view_module": "@jupyter-widgets/controls",
            "_model_module_version": "1.5.0",
            "value": 1,
            "_view_count": null,
            "_view_module_version": "1.5.0",
            "orientation": "horizontal",
            "min": 0,
            "description_tooltip": null,
            "_model_module": "@jupyter-widgets/controls",
            "layout": "IPY_MODEL_2893d5ffbe0441039de2da3b2b3073c7"
          }
        },
        "5b6414d138454b03b40f1f8e9e776ea3": {
          "model_module": "@jupyter-widgets/controls",
          "model_name": "DescriptionStyleModel",
          "state": {
            "_view_name": "StyleView",
            "_model_name": "DescriptionStyleModel",
            "description_width": "",
            "_view_module": "@jupyter-widgets/base",
            "_model_module_version": "1.5.0",
            "_view_count": null,
            "_view_module_version": "1.2.0",
            "_model_module": "@jupyter-widgets/controls"
          }
        },
        "b1817f5a6c7c4d1191513529da5be67c": {
          "model_module": "@jupyter-widgets/base",
          "model_name": "LayoutModel",
          "state": {
            "_view_name": "LayoutView",
            "grid_template_rows": null,
            "right": null,
            "justify_content": null,
            "_view_module": "@jupyter-widgets/base",
            "overflow": null,
            "_model_module_version": "1.2.0",
            "_view_count": null,
            "flex_flow": null,
            "width": null,
            "min_width": null,
            "border": null,
            "align_items": null,
            "bottom": null,
            "_model_module": "@jupyter-widgets/base",
            "top": null,
            "grid_column": null,
            "overflow_y": null,
            "overflow_x": null,
            "grid_auto_flow": null,
            "grid_area": null,
            "grid_template_columns": null,
            "flex": null,
            "_model_name": "LayoutModel",
            "justify_items": null,
            "grid_row": null,
            "max_height": null,
            "align_content": null,
            "visibility": null,
            "align_self": null,
            "height": null,
            "min_height": null,
            "padding": null,
            "grid_auto_rows": null,
            "grid_gap": null,
            "max_width": null,
            "order": null,
            "_view_module_version": "1.2.0",
            "grid_template_areas": null,
            "object_position": null,
            "object_fit": null,
            "grid_auto_columns": null,
            "margin": null,
            "display": null,
            "left": null
          }
        },
        "76f59235d58c48219973fe37287dad84": {
          "model_module": "@jupyter-widgets/controls",
          "model_name": "ProgressStyleModel",
          "state": {
            "_view_name": "StyleView",
            "_model_name": "ProgressStyleModel",
            "description_width": "",
            "_view_module": "@jupyter-widgets/base",
            "_model_module_version": "1.5.0",
            "_view_count": null,
            "_view_module_version": "1.2.0",
            "bar_color": null,
            "_model_module": "@jupyter-widgets/controls"
          }
        },
        "2893d5ffbe0441039de2da3b2b3073c7": {
          "model_module": "@jupyter-widgets/base",
          "model_name": "LayoutModel",
          "state": {
            "_view_name": "LayoutView",
            "grid_template_rows": null,
            "right": null,
            "justify_content": null,
            "_view_module": "@jupyter-widgets/base",
            "overflow": null,
            "_model_module_version": "1.2.0",
            "_view_count": null,
            "flex_flow": null,
            "width": null,
            "min_width": null,
            "border": null,
            "align_items": null,
            "bottom": null,
            "_model_module": "@jupyter-widgets/base",
            "top": null,
            "grid_column": null,
            "overflow_y": null,
            "overflow_x": null,
            "grid_auto_flow": null,
            "grid_area": null,
            "grid_template_columns": null,
            "flex": null,
            "_model_name": "LayoutModel",
            "justify_items": null,
            "grid_row": null,
            "max_height": null,
            "align_content": null,
            "visibility": null,
            "align_self": null,
            "height": null,
            "min_height": null,
            "padding": null,
            "grid_auto_rows": null,
            "grid_gap": null,
            "max_width": null,
            "order": null,
            "_view_module_version": "1.2.0",
            "grid_template_areas": null,
            "object_position": null,
            "object_fit": null,
            "grid_auto_columns": null,
            "margin": null,
            "display": null,
            "left": null
          }
        }
      }
    }
  },
  "cells": [
    {
      "cell_type": "markdown",
      "metadata": {
        "id": "view-in-github",
        "colab_type": "text"
      },
      "source": [
        "<a href=\"https://colab.research.google.com/github/sholtodouglas/learning_from_play/blob/master/notebooks/train_lfp_v2.ipynb\" target=\"_parent\"><img src=\"https://colab.research.google.com/assets/colab-badge.svg\" alt=\"Open In Colab\"/></a>"
      ]
    },
    {
      "cell_type": "code",
      "metadata": {
        "id": "7jUYgZwpGfav"
      },
      "source": [
        "!pip install -q wandb pathy comet_ml"
      ],
      "execution_count": 15,
      "outputs": []
    },
    {
      "cell_type": "code",
      "metadata": {
        "colab": {
          "base_uri": "https://localhost:8080/"
        },
        "id": "OFJvewo0ee6r",
        "outputId": "fb8a002f-8d78-4cc6-bf52-9e0c9e1ea1f0"
      },
      "source": [
        "# import comet_ml at the top of your file\n",
        "from comet_ml import Experiment\n",
        "import wandb\n",
        "wandb.login()"
      ],
      "execution_count": 6,
      "outputs": [
        {
          "output_type": "execute_result",
          "data": {
            "text/plain": [
              "True"
            ]
          },
          "metadata": {
            "tags": []
          },
          "execution_count": 6
        }
      ]
    },
    {
      "cell_type": "code",
      "metadata": {
        "colab": {
          "base_uri": "https://localhost:8080/"
        },
        "id": "z68MkXdDZaSZ",
        "outputId": "2d59469a-bc53-45b2-d780-d22cd1a604e4"
      },
      "source": [
        "import argparse\n",
        "\n",
        "parser = argparse.ArgumentParser(description='LFP training arguments')\n",
        "parser.add_argument('run_name')\n",
        "parser.add_argument('--train_datasets', nargs='+', help='Training dataset names')\n",
        "parser.add_argument('--test_datasets', nargs='+', help='Testing dataset names')\n",
        "parser.add_argument('-c', '--colab', default=False, action='store_true', help='Enable if using colab environment')\n",
        "parser.add_argument('-s', '--data_source', default='DRIVE', help='Source of training data')\n",
        "parser.add_argument('-tfr', '--from_tfrecords', default=False, action='store_true', help='Enable if using tfrecords format')\n",
        "parser.add_argument('-d', '--device', default='TPU', help='Hardware device to train on')\n",
        "parser.add_argument('-b', '--batch_size', default=512, type=int)\n",
        "parser.add_argument('-wmax', '--window_size_max', default=50, type=int)\n",
        "parser.add_argument('-wmin', '--window_size_min', default=20, type=int)\n",
        "parser.add_argument('-la', '--actor_layer_size', default=2048, type=int, help='Layer size of actor, increases size of neural net')\n",
        "parser.add_argument('-le', '--encoder_layer_size', default=512, type=int, help='Layer size of encoder, increases size of neural net')\n",
        "parser.add_argument('-lp', '--planner_layer_size', default=512, type=int, help='Layer size of planner, increases size of neural net')\n",
        "parser.add_argument('-embd', '--img_embedding_size', default=64, type=int, help='Embedding size of features,goal space')\n",
        "parser.add_argument('-z', '--latent_dim', default=256, type=int, help='Size of the VAE latent space')\n",
        "parser.add_argument('-g', '--gcbc', default=False, action='store_true', help='Enables GCBC, a simpler model with no encoder/planner')\n",
        "parser.add_argument('-n', '--num_distribs', default=None, type=int, help='Number of distributions to use in logistic mixture model')\n",
        "parser.add_argument('-q', '--qbits', default=None, type=int, help='Number of quantisation bits to discrete distributions into. Total quantisations = 2**qbits')\n",
        "parser.add_argument('-lr', '--learning_rate', type=float, default=3e-4)\n",
        "parser.add_argument('-t', '--train_steps', type=int, default=200000)\n",
        "parser.add_argument('-r', '--resume', default=False, action='store_true')\n",
        "parser.add_argument('-B', '--beta', type=float, default=0.00003)\n",
        "parser.add_argument('-i', '--images', default=False, action='store_true')\n",
        "parser.add_argument('--fp16', default=False, action='store_true')\n",
        "parser.add_argument('--bucket_name', help='GCS bucket name to stream data from')\n",
        "parser.add_argument('--tpu_name', help='GCP TPU name') # Only used in the script on GCP\n",
        "\n",
        "\n",
        "# ## Sample colab config\n",
        "# args = parser.parse_args('''\n",
        "# refactor_test\n",
        "# --train_dataset UR5 UR5_slow_gripper UR5_high_transition\n",
        "# --test_dataset UR5_slow_gripper_test\n",
        "# -c\n",
        "# -tfr\n",
        "# -s GCS\n",
        "# -d TPU\n",
        "# -b 512\n",
        "# -la 2048\n",
        "# -le 512\n",
        "# -lp 512\n",
        "# -z 256\n",
        "# -lr 3e-4\n",
        "# --bucket_name iowa_bucket_lfp\n",
        "# -i\n",
        "# '''.split())\n",
        "\n",
        "# Sample colab config\n",
        "args = parser.parse_args('''\n",
        "fit_test\n",
        "--train_dataset UR5 UR5_slow_gripper UR5_high_transition\n",
        "--test_dataset UR5_slow_gripper_test\n",
        "-c\n",
        "-s DRIVE\n",
        "-d TPU\n",
        "-b 512\n",
        "-la 2048\n",
        "-le 512\n",
        "-lp 512\n",
        "-z 256\n",
        "-lr 3e-4\n",
        "-B 0.00003\n",
        "'''.split())\n",
        "\n",
        "# ## Sample colab config\n",
        "# args = parser.parse_args('''\n",
        "# fit_test\n",
        "# --train_dataset UR5 UR5_slow_gripper UR5_high_transition\n",
        "# --test_dataset UR5_slow_gripper_test\n",
        "# -c\n",
        "# -s DRIVE\n",
        "# -d TPU\n",
        "# -b 512\n",
        "# -la 128\n",
        "# -le 128\n",
        "# -lp 128\n",
        "# -z 64\n",
        "# -lr 3e-4\n",
        "# -B 0.00003\n",
        "# '''.split())\n",
        "\n",
        "# -n 5\n",
        "# -q 8\n",
        "\n",
        "print(args)"
      ],
      "execution_count": 52,
      "outputs": [
        {
          "output_type": "stream",
          "text": [
            "Namespace(actor_layer_size=2048, batch_size=512, beta=3e-05, bucket_name=None, colab=True, data_source='DRIVE', device='TPU', encoder_layer_size=512, fp16=False, from_tfrecords=False, gcbc=False, images=False, img_embedding_size=64, latent_dim=256, learning_rate=0.0003, num_distribs=None, planner_layer_size=512, qbits=None, resume=False, run_name='fit_test', test_datasets=['UR5_slow_gripper_test'], tpu_name=None, train_datasets=['UR5', 'UR5_slow_gripper', 'UR5_high_transition'], train_steps=200000, window_size_max=50, window_size_min=20)\n"
          ],
          "name": "stdout"
        }
      ]
    },
    {
      "cell_type": "markdown",
      "metadata": {
        "id": "EliqxOpPv9Dy"
      },
      "source": [
        "## Init"
      ]
    },
    {
      "cell_type": "code",
      "metadata": {
        "colab": {
          "base_uri": "https://localhost:8080/"
        },
        "id": "zMJ___6ARZ4u",
        "outputId": "a31a096a-ef3f-4c26-8ffb-9e18df72fda6"
      },
      "source": [
        "from pathlib import Path\n",
        "from pathy import Pathy\n",
        "import os\n",
        "import requests\n",
        "import json\n",
        "import pprint\n",
        "import logging\n",
        "import numpy as np\n",
        "import tensorflow as tf\n",
        "import time\n",
        "\n",
        "\n",
        "\n",
        "pp = pprint.PrettyPrinter(indent=4)\n",
        "# In[4]:\n",
        "\n",
        "\n",
        "#@title Workpace Setup (Local vs Colab)\n",
        "\n",
        "# Set up working directory and libraries\n",
        "if args.colab:\n",
        "    from google.colab import drive, auth\n",
        "    print('Using colab setup')\n",
        "    WORKING_PATH = Path('/content/learning_from_play')\n",
        "    # Clone repo\n",
        "    try:\n",
        "        get_ipython().system(\"git clone 'https://github.com/sholtodouglas/learning_from_play' {WORKING_PATH}\")\n",
        "    except: \n",
        "        pass\n",
        "    # Mount drive\n",
        "    drive.mount('/content/drive')\n",
        "else:\n",
        "    print('Using local setup')\n",
        "    WORKING_PATH = Path.cwd()\n",
        "    print(f'Working path: {WORKING_PATH}')\n",
        "\n",
        "# Change working directory to learning_from_play\n",
        "os.chdir(WORKING_PATH)\n",
        "import lfp\n",
        "\n",
        "# Set up storage directory and datasets\n",
        "if args.data_source == 'DRIVE':\n",
        "    assert args.colab, \"Must be using Colab\"\n",
        "    print('Reading data from Google Drive')\n",
        "    STORAGE_PATH = Path('/content/drive/My Drive/Robotic Learning')\n",
        "elif args.data_source == 'GCS':\n",
        "    if args.colab:\n",
        "      auth.authenticate_user()\n",
        "    print('Reading data from Google Cloud Storage')\n",
        "    r = requests.get('https://ipinfo.io')\n",
        "    region = r.json()['region']\n",
        "    project_id = 'learning-from-play-303306'\n",
        "    logging.warning(f'You are accessing GCS data from {region}, make sure this is the same as your bucket {args.bucket_name}')\n",
        "    STORAGE_PATH = Pathy(f'gs://{args.bucket_name}')\n",
        "else:\n",
        "    print('Reading data from local filesystem')\n",
        "    STORAGE_PATH = WORKING_PATH\n",
        "\n",
        "print(f'Storage path: {STORAGE_PATH}')\n",
        "TRAIN_DATA_PATHS = [STORAGE_PATH/'data'/x for x in args.train_datasets]\n",
        "TEST_DATA_PATHS = [STORAGE_PATH/'data'/x for x in args.test_datasets]"
      ],
      "execution_count": 53,
      "outputs": [
        {
          "output_type": "stream",
          "text": [
            "Using colab setup\n",
            "fatal: destination path '/content/learning_from_play' already exists and is not an empty directory.\n",
            "Drive already mounted at /content/drive; to attempt to forcibly remount, call drive.mount(\"/content/drive\", force_remount=True).\n",
            "Reading data from Google Drive\n",
            "Storage path: /content/drive/My Drive/Robotic Learning\n"
          ],
          "name": "stdout"
        }
      ]
    },
    {
      "cell_type": "code",
      "metadata": {
        "colab": {
          "base_uri": "https://localhost:8080/"
        },
        "id": "6zbmq324x2yv",
        "outputId": "22adbecf-9e60-4ff3-f717-2715c7381bf7"
      },
      "source": [
        "print(\"Tensorflow version \" + tf.__version__)\n",
        "\n",
        "if args.device == 'TPU':\n",
        "    try:\n",
        "        tpu = tf.distribute.cluster_resolver.TPUClusterResolver(tpu=args.tpu_name)  # TPU detection\n",
        "        print('Running on TPU ', tpu.cluster_spec().as_dict()['worker'])\n",
        "    except ValueError:\n",
        "        raise BaseException('ERROR: Not connected to a TPU runtime; please see the previous cell in this notebook for instructions!')\n",
        "\n",
        "    tf.config.experimental_connect_to_cluster(tpu)\n",
        "    tf.tpu.experimental.initialize_tpu_system(tpu)\n",
        "    strategy = tf.distribute.TPUStrategy(tpu)\n",
        "    NUM_DEVICES = strategy.num_replicas_in_sync\n",
        "    print(\"REPLICAS: \", NUM_DEVICES)\n",
        "    if args.fp16:\n",
        "        tf.keras.mixed_precision.set_global_policy('mixed_bfloat16')\n",
        "else:\n",
        "    physical_devices = tf.config.list_physical_devices()\n",
        "    if args.device == 'GPU':\n",
        "        tf.config.experimental.set_memory_growth(physical_devices[3], enable=True)\n",
        "        if args.fp16:\n",
        "            tf.keras.mixed_precision.set_global_policy('mixed_float16')\n",
        "    strategy = tf.distribute.get_strategy()\n",
        "    NUM_DEVICES = 1\n",
        "    print(physical_devices)"
      ],
      "execution_count": 54,
      "outputs": [
        {
          "output_type": "stream",
          "text": [
            "Tensorflow version 2.4.1\n",
            "Running on TPU  ['10.49.81.162:8470']\n",
            "WARNING:tensorflow:TPU system grpc://10.49.81.162:8470 has already been initialized. Reinitializing the TPU can cause previously created variables on TPU to be lost.\n"
          ],
          "name": "stdout"
        },
        {
          "output_type": "stream",
          "text": [
            "WARNING:tensorflow:TPU system grpc://10.49.81.162:8470 has already been initialized. Reinitializing the TPU can cause previously created variables on TPU to be lost.\n"
          ],
          "name": "stderr"
        },
        {
          "output_type": "stream",
          "text": [
            "INFO:tensorflow:Initializing the TPU system: grpc://10.49.81.162:8470\n"
          ],
          "name": "stdout"
        },
        {
          "output_type": "stream",
          "text": [
            "INFO:tensorflow:Initializing the TPU system: grpc://10.49.81.162:8470\n"
          ],
          "name": "stderr"
        },
        {
          "output_type": "stream",
          "text": [
            "INFO:tensorflow:Clearing out eager caches\n"
          ],
          "name": "stdout"
        },
        {
          "output_type": "stream",
          "text": [
            "INFO:tensorflow:Clearing out eager caches\n"
          ],
          "name": "stderr"
        },
        {
          "output_type": "stream",
          "text": [
            "INFO:tensorflow:Finished initializing TPU system.\n"
          ],
          "name": "stdout"
        },
        {
          "output_type": "stream",
          "text": [
            "INFO:tensorflow:Finished initializing TPU system.\n"
          ],
          "name": "stderr"
        },
        {
          "output_type": "stream",
          "text": [
            "INFO:tensorflow:Found TPU system:\n"
          ],
          "name": "stdout"
        },
        {
          "output_type": "stream",
          "text": [
            "INFO:tensorflow:Found TPU system:\n"
          ],
          "name": "stderr"
        },
        {
          "output_type": "stream",
          "text": [
            "INFO:tensorflow:*** Num TPU Cores: 8\n"
          ],
          "name": "stdout"
        },
        {
          "output_type": "stream",
          "text": [
            "INFO:tensorflow:*** Num TPU Cores: 8\n"
          ],
          "name": "stderr"
        },
        {
          "output_type": "stream",
          "text": [
            "INFO:tensorflow:*** Num TPU Workers: 1\n"
          ],
          "name": "stdout"
        },
        {
          "output_type": "stream",
          "text": [
            "INFO:tensorflow:*** Num TPU Workers: 1\n"
          ],
          "name": "stderr"
        },
        {
          "output_type": "stream",
          "text": [
            "INFO:tensorflow:*** Num TPU Cores Per Worker: 8\n"
          ],
          "name": "stdout"
        },
        {
          "output_type": "stream",
          "text": [
            "INFO:tensorflow:*** Num TPU Cores Per Worker: 8\n"
          ],
          "name": "stderr"
        },
        {
          "output_type": "stream",
          "text": [
            "INFO:tensorflow:*** Available Device: _DeviceAttributes(/job:localhost/replica:0/task:0/device:CPU:0, CPU, 0, 0)\n"
          ],
          "name": "stdout"
        },
        {
          "output_type": "stream",
          "text": [
            "INFO:tensorflow:*** Available Device: _DeviceAttributes(/job:localhost/replica:0/task:0/device:CPU:0, CPU, 0, 0)\n"
          ],
          "name": "stderr"
        },
        {
          "output_type": "stream",
          "text": [
            "INFO:tensorflow:*** Available Device: _DeviceAttributes(/job:worker/replica:0/task:0/device:CPU:0, CPU, 0, 0)\n"
          ],
          "name": "stdout"
        },
        {
          "output_type": "stream",
          "text": [
            "INFO:tensorflow:*** Available Device: _DeviceAttributes(/job:worker/replica:0/task:0/device:CPU:0, CPU, 0, 0)\n"
          ],
          "name": "stderr"
        },
        {
          "output_type": "stream",
          "text": [
            "INFO:tensorflow:*** Available Device: _DeviceAttributes(/job:worker/replica:0/task:0/device:TPU:0, TPU, 0, 0)\n"
          ],
          "name": "stdout"
        },
        {
          "output_type": "stream",
          "text": [
            "INFO:tensorflow:*** Available Device: _DeviceAttributes(/job:worker/replica:0/task:0/device:TPU:0, TPU, 0, 0)\n"
          ],
          "name": "stderr"
        },
        {
          "output_type": "stream",
          "text": [
            "INFO:tensorflow:*** Available Device: _DeviceAttributes(/job:worker/replica:0/task:0/device:TPU:1, TPU, 0, 0)\n"
          ],
          "name": "stdout"
        },
        {
          "output_type": "stream",
          "text": [
            "INFO:tensorflow:*** Available Device: _DeviceAttributes(/job:worker/replica:0/task:0/device:TPU:1, TPU, 0, 0)\n"
          ],
          "name": "stderr"
        },
        {
          "output_type": "stream",
          "text": [
            "INFO:tensorflow:*** Available Device: _DeviceAttributes(/job:worker/replica:0/task:0/device:TPU:2, TPU, 0, 0)\n"
          ],
          "name": "stdout"
        },
        {
          "output_type": "stream",
          "text": [
            "INFO:tensorflow:*** Available Device: _DeviceAttributes(/job:worker/replica:0/task:0/device:TPU:2, TPU, 0, 0)\n"
          ],
          "name": "stderr"
        },
        {
          "output_type": "stream",
          "text": [
            "INFO:tensorflow:*** Available Device: _DeviceAttributes(/job:worker/replica:0/task:0/device:TPU:3, TPU, 0, 0)\n"
          ],
          "name": "stdout"
        },
        {
          "output_type": "stream",
          "text": [
            "INFO:tensorflow:*** Available Device: _DeviceAttributes(/job:worker/replica:0/task:0/device:TPU:3, TPU, 0, 0)\n"
          ],
          "name": "stderr"
        },
        {
          "output_type": "stream",
          "text": [
            "INFO:tensorflow:*** Available Device: _DeviceAttributes(/job:worker/replica:0/task:0/device:TPU:4, TPU, 0, 0)\n"
          ],
          "name": "stdout"
        },
        {
          "output_type": "stream",
          "text": [
            "INFO:tensorflow:*** Available Device: _DeviceAttributes(/job:worker/replica:0/task:0/device:TPU:4, TPU, 0, 0)\n"
          ],
          "name": "stderr"
        },
        {
          "output_type": "stream",
          "text": [
            "INFO:tensorflow:*** Available Device: _DeviceAttributes(/job:worker/replica:0/task:0/device:TPU:5, TPU, 0, 0)\n"
          ],
          "name": "stdout"
        },
        {
          "output_type": "stream",
          "text": [
            "INFO:tensorflow:*** Available Device: _DeviceAttributes(/job:worker/replica:0/task:0/device:TPU:5, TPU, 0, 0)\n"
          ],
          "name": "stderr"
        },
        {
          "output_type": "stream",
          "text": [
            "INFO:tensorflow:*** Available Device: _DeviceAttributes(/job:worker/replica:0/task:0/device:TPU:6, TPU, 0, 0)\n"
          ],
          "name": "stdout"
        },
        {
          "output_type": "stream",
          "text": [
            "INFO:tensorflow:*** Available Device: _DeviceAttributes(/job:worker/replica:0/task:0/device:TPU:6, TPU, 0, 0)\n"
          ],
          "name": "stderr"
        },
        {
          "output_type": "stream",
          "text": [
            "INFO:tensorflow:*** Available Device: _DeviceAttributes(/job:worker/replica:0/task:0/device:TPU:7, TPU, 0, 0)\n"
          ],
          "name": "stdout"
        },
        {
          "output_type": "stream",
          "text": [
            "INFO:tensorflow:*** Available Device: _DeviceAttributes(/job:worker/replica:0/task:0/device:TPU:7, TPU, 0, 0)\n"
          ],
          "name": "stderr"
        },
        {
          "output_type": "stream",
          "text": [
            "INFO:tensorflow:*** Available Device: _DeviceAttributes(/job:worker/replica:0/task:0/device:TPU_SYSTEM:0, TPU_SYSTEM, 0, 0)\n"
          ],
          "name": "stdout"
        },
        {
          "output_type": "stream",
          "text": [
            "INFO:tensorflow:*** Available Device: _DeviceAttributes(/job:worker/replica:0/task:0/device:TPU_SYSTEM:0, TPU_SYSTEM, 0, 0)\n"
          ],
          "name": "stderr"
        },
        {
          "output_type": "stream",
          "text": [
            "INFO:tensorflow:*** Available Device: _DeviceAttributes(/job:worker/replica:0/task:0/device:XLA_CPU:0, XLA_CPU, 0, 0)\n"
          ],
          "name": "stdout"
        },
        {
          "output_type": "stream",
          "text": [
            "INFO:tensorflow:*** Available Device: _DeviceAttributes(/job:worker/replica:0/task:0/device:XLA_CPU:0, XLA_CPU, 0, 0)\n"
          ],
          "name": "stderr"
        },
        {
          "output_type": "stream",
          "text": [
            "REPLICAS:  8\n"
          ],
          "name": "stdout"
        }
      ]
    },
    {
      "cell_type": "code",
      "metadata": {
        "colab": {
          "base_uri": "https://localhost:8080/"
        },
        "id": "1HejtDH_Yx8h",
        "outputId": "ca90bfdd-6b03-476d-c51c-3099dee9dc6c"
      },
      "source": [
        "# Use this to edit modules without needing to restart the kernel (can also edit local, push/pull)\n",
        "!git pull\n",
        "import importlib\n",
        "importlib.reload(lfp.data)\n",
        "importlib.reload(lfp.model)\n",
        "importlib.reload(lfp.train)\n",
        "importlib.reload(lfp.metric)"
      ],
      "execution_count": 55,
      "outputs": [
        {
          "output_type": "stream",
          "text": [
            "Already up to date.\n"
          ],
          "name": "stdout"
        },
        {
          "output_type": "execute_result",
          "data": {
            "text/plain": [
              "<module 'lfp.metric' from '/content/learning_from_play/lfp/metric.py'>"
            ]
          },
          "metadata": {
            "tags": []
          },
          "execution_count": 55
        }
      ]
    },
    {
      "cell_type": "markdown",
      "metadata": {
        "id": "yUI6JP06FdTv"
      },
      "source": [
        "## Data"
      ]
    },
    {
      "cell_type": "code",
      "metadata": {
        "id": "n2lBWIyOFdTv"
      },
      "source": [
        "GLOBAL_BATCH_SIZE = args.batch_size * NUM_DEVICES\n",
        "dl = lfp.data.PlayDataloader(include_imgs = args.images, batch_size=GLOBAL_BATCH_SIZE,  window_size=args.window_size_max, min_window_size=args.window_size_min)"
      ],
      "execution_count": 56,
      "outputs": []
    },
    {
      "cell_type": "code",
      "metadata": {
        "colab": {
          "base_uri": "https://localhost:8080/"
        },
        "id": "Uiz4AXCnFdTv",
        "outputId": "43aae418-4a54-44ab-b0ec-512a27847966"
      },
      "source": [
        "# Train data\n",
        "train_data = dl.extract(TRAIN_DATA_PATHS, from_tfrecords=args.from_tfrecords)\n",
        "train_dataset = dl.load(train_data)"
      ],
      "execution_count": 57,
      "outputs": [
        {
          "output_type": "stream",
          "text": [
            "UR5: 100%|██████████| 52/52 [00:01<00:00, 47.75it/s]\n",
            "UR5_slow_gripper: 100%|██████████| 23/23 [00:00<00:00, 46.29it/s]\n",
            "UR5_high_transition: 100%|██████████| 32/32 [00:00<00:00, 50.89it/s]\n"
          ],
          "name": "stderr"
        },
        {
          "output_type": "stream",
          "text": [
            "{   'acts': TensorSpec(shape=(4096, 50, 7), dtype=tf.float32, name=None),\n",
            "    'dataset_path': TensorSpec(shape=(4096, None, 1), dtype=tf.int32, name=None),\n",
            "    'goals': TensorSpec(shape=(4096, 50, 11), dtype=tf.float32, name=None),\n",
            "    'masks': TensorSpec(shape=(4096, 50), dtype=tf.float32, name=None),\n",
            "    'obs': TensorSpec(shape=(4096, 50, 18), dtype=tf.float32, name=None),\n",
            "    'seq_lens': TensorSpec(shape=(4096,), dtype=tf.float32, name=None),\n",
            "    'tstep_idxs': TensorSpec(shape=(4096, None, 1), dtype=tf.int32, name=None)}\n"
          ],
          "name": "stdout"
        }
      ]
    },
    {
      "cell_type": "code",
      "metadata": {
        "id": "h8ZDAVpLFdTw",
        "colab": {
          "base_uri": "https://localhost:8080/"
        },
        "outputId": "39d187f7-ab3f-4aa6-fabf-9ae4ca770323"
      },
      "source": [
        "# Validation data\n",
        "valid_data = dl.extract(TEST_DATA_PATHS, from_tfrecords=args.from_tfrecords)\n",
        "valid_dataset = dl.load(valid_data)"
      ],
      "execution_count": 58,
      "outputs": [
        {
          "output_type": "stream",
          "text": [
            "UR5_slow_gripper_test: 100%|██████████| 2/2 [00:00<00:00, 36.60it/s]"
          ],
          "name": "stderr"
        },
        {
          "output_type": "stream",
          "text": [
            "{   'acts': TensorSpec(shape=(4096, 50, 7), dtype=tf.float32, name=None),\n",
            "    'dataset_path': TensorSpec(shape=(4096, None, 1), dtype=tf.int32, name=None),\n",
            "    'goals': TensorSpec(shape=(4096, 50, 11), dtype=tf.float32, name=None),\n",
            "    'masks': TensorSpec(shape=(4096, 50), dtype=tf.float32, name=None),\n",
            "    'obs': TensorSpec(shape=(4096, 50, 18), dtype=tf.float32, name=None),\n",
            "    'seq_lens': TensorSpec(shape=(4096,), dtype=tf.float32, name=None),\n",
            "    'tstep_idxs': TensorSpec(shape=(4096, None, 1), dtype=tf.int32, name=None)}\n"
          ],
          "name": "stdout"
        },
        {
          "output_type": "stream",
          "text": [
            "\n"
          ],
          "name": "stderr"
        }
      ]
    },
    {
      "cell_type": "markdown",
      "metadata": {
        "id": "TWIpRPRuv9E6",
        "pycharm": {
          "name": "#%% md\n"
        }
      },
      "source": [
        "# Training Loop"
      ]
    },
    {
      "cell_type": "code",
      "metadata": {
        "id": "bmVwdAknhGrS"
      },
      "source": [
        "import tensorflow as tf\n",
        "from tensorflow.keras.models import Model, Sequential\n",
        "from tensorflow.keras.layers import Dense, BatchNormalization, ReLU, Input, LSTM, Concatenate, Masking, Reshape, Lambda, \\\n",
        "    Bidirectional, GRU, LayerNormalization, Conv2D, MaxPooling2D, Flatten\n",
        "from tensorflow.keras.metrics import Mean\n",
        "import tensorflow_probability as tfp\n",
        "tfd = tfp.distributions\n",
        "tfb = tfp.bijectors\n",
        "tfpl = tfp.layers\n",
        "\n",
        "ACT_LIMITS = tf.constant([1.5, 1.5, 2.2, 3.2, 3.2, 3.2, 1.1])\n",
        "\n",
        "def create_actor(obs_dim, act_dim, goal_dim, layer_size=1024, latent_dim=256, training=True):\n",
        "    # params #\n",
        "    batch_size = None if training else 1\n",
        "    stateful = not training\n",
        "\n",
        "    # Input #\n",
        "    o = Input(shape=(None, obs_dim), batch_size=batch_size, dtype=tf.float32, name='input_obs')\n",
        "    z = Input(shape=(None, latent_dim), batch_size=batch_size, dtype=tf.float32, name='input_latent')\n",
        "    g = Input(shape=(None, goal_dim), batch_size=batch_size, dtype=tf.float32, name='input_goals')\n",
        "\n",
        "    # RNN #\n",
        "    x = Concatenate(axis=-1)([o, z, g])\n",
        "    x = Masking(mask_value=0.)(x)\n",
        "    x = LSTM(layer_size, return_sequences=True, stateful=stateful, name='LSTM_in_1')(x)\n",
        "    x = LSTM(layer_size, return_sequences=True, stateful=stateful, name='LSTM_in_2')(x)\n",
        "\n",
        "    # Deterministic output #\n",
        "    actions = Dense(act_dim, activation='tanh', name='acts')(x)\n",
        "    actions = Lambda(lambda a: a * ACT_LIMITS)(actions) # scale to action limits\n",
        "    return Model([o, z, g], actions)\n",
        "\n",
        "\n",
        "def create_encoder(obs_dim, act_dim, layer_size=2048, latent_dim=256):\n",
        "    # Input #\n",
        "    obs = Input(shape=(None, obs_dim), dtype=tf.float32, name='obs')\n",
        "    acts = Input(shape=(None, act_dim), dtype=tf.float32, name='acts')\n",
        "\n",
        "    # Layers #\n",
        "    x = Concatenate(axis=-1)([obs, acts])\n",
        "    x = Masking(mask_value=0.)(x)\n",
        "    x = Bidirectional(LSTM(layer_size, return_sequences=True), merge_mode='concat')(x)\n",
        "    x = Bidirectional(LSTM(layer_size, return_sequences=False), merge_mode='concat')(x)\n",
        "\n",
        "    # Latent Variable #\n",
        "    x = Dense(tfpl.MultivariateNormalTriL.params_size(latent_dim), activation=None)(x),\n",
        "    z = tfpl.MultivariateNormalTriL(latent_dim, name='latent')(x)\n",
        "    return Model([obs, acts], z)\n",
        "\n",
        "\n",
        "def create_planner(obs_dim, goal_dim, layer_size=2048, latent_dim=256):\n",
        "    # params #\n",
        "    batch_size = None\n",
        "\n",
        "    # Input #\n",
        "    o_i = Input(shape=(obs_dim,), batch_size=batch_size, dtype=tf.float32,\n",
        "                name='initial_obs')  # has arm state\n",
        "    o_g = Input(shape=(goal_dim,), batch_size=batch_size, dtype=tf.float32,\n",
        "                name='goal_obs')  # does not have arm state\n",
        "\n",
        "    # Layers #\n",
        "    x = Concatenate(axis=-1)([o_i, o_g])\n",
        "    x = Masking(mask_value=0.)(x)\n",
        "    x = Dense(layer_size, activation=\"relu\", name='layer_1')(x) # maybe change to selu/gelu/swish?\n",
        "    x = Dense(layer_size, activation=\"relu\", name='layer_2')(x)\n",
        "    x = Dense(layer_size, activation=\"relu\", name='layer_3')(x)\n",
        "    x = Dense(layer_size, activation=\"relu\", name='layer_4')(x)\n",
        "\n",
        "    # Latent Variable #\n",
        "    x = Dense(tfpl.MultivariateNormalTriL.params_size(latent_dim), activation=None)(x),\n",
        "    z = tfpl.MultivariateNormalTriL(latent_dim, name='latent')(x)\n",
        "    return Model([o_i, o_g], z)\n",
        "\n",
        "# Todo: add beta callback, add checkpointing callback, think about train=False autoregressive, what to do about masking?\n",
        "# Account for probabilistic (need to sample the actions to get MAE)\n",
        "class LFPNet(Model):\n",
        "    def __init__(self, encoder, planner, actor, beta) -> None:\n",
        "        super(LFPNet, self).__init__()\n",
        "        self.encoder = encoder\n",
        "        self.planner = planner\n",
        "        self.actor = actor\n",
        "        self.beta = beta\n",
        "        self.train_loss = tf.keras.metrics.Mean(name='train_loss')\n",
        "        self.valid_loss = tf.keras.metrics.Mean(name='valid_loss')\n",
        "\n",
        "        self.train_act_with_enc_loss = tf.keras.metrics.Mean(name='train_act_with_enc_loss')\n",
        "        self.train_act_with_plan_loss = tf.keras.metrics.Mean(name='train_act_with_plan_loss')\n",
        "        self.valid_act_with_enc_loss = tf.keras.metrics.Mean(name='valid_act_with_enc_loss')\n",
        "        self.valid_act_with_plan_loss = tf.keras.metrics.Mean(name='valid_act_with_plan_loss')\n",
        "\n",
        "        self.train_reg_loss = tf.keras.metrics.Mean(name='reg_loss')\n",
        "        self.valid_reg_loss = tf.keras.metrics.Mean(name='valid_reg_loss')\n",
        "        self.beta_metric = tf.keras.metrics.Mean(name='beta')\n",
        "\n",
        "        self.valid_position_loss = tf.keras.metrics.Mean(name='valid_position_loss')\n",
        "        self.valid_max_position_loss = lfp.metric.MaxMetric(name='valid_max_position_loss')\n",
        "        self.valid_rotation_loss = tf.keras.metrics.Mean(name='valid_rotation_loss')\n",
        "        self.valid_max_rotation_loss = lfp.metric.MaxMetric(name='valid_max_rotation_loss')\n",
        "        self.valid_gripper_loss = tf.keras.metrics.Mean(name='valid_rotation_loss')\n",
        "\n",
        "    def call(self, inputs, planner=True, training=False):\n",
        "        if planner:\n",
        "            z = self.planner([inputs['obs'][:,0,:], inputs['goals'][:,0,:]])\n",
        "        else:\n",
        "            z = self.encoder([inputs['obs'], inputs['acts']])\n",
        "        z_tiled = tf.tile(tf.expand_dims(z[0], 1), (1, inputs['obs'].shape[1], 1))\n",
        "        acts = self.actor([inputs['obs'], z_tiled, inputs['goals']])\n",
        "        return acts, z\n",
        "\n",
        "    def train_step(self, inputs):\n",
        "        with tf.GradientTape() as tape:\n",
        "            acts_enc, z_enc = self(inputs, planner=False, training=True)\n",
        "            acts_plan, z_plan = self(inputs, planner=True, training=True)\n",
        "            act_enc_loss = self.compiled_loss(inputs['acts'], acts_enc, regularization_losses=self.losses)\n",
        "            act_plan_loss = self.compiled_loss(inputs['acts'], acts_plan, regularization_losses=self.losses)\n",
        "\n",
        "            reg_loss = tfd.kl_divergence(z_enc, z_plan)\n",
        "            loss = act_enc_loss + self.beta * reg_loss\n",
        "\n",
        "        gradients = tape.gradient(loss, self.trainable_variables)\n",
        "        self.optimizer.apply_gradients(zip(gradients, self.trainable_variables))\n",
        "\n",
        "        \n",
        "        # Update metrics \n",
        "        self.train_loss.update_state(loss)\n",
        "        self.train_act_with_enc_loss.update_state(act_enc_loss)\n",
        "        self.train_act_with_plan_loss.update_state(act_plan_loss)\n",
        "        self.train_reg_loss.update_state(reg_loss)\n",
        "        self.beta_metric.update_state(self.beta)\n",
        "\n",
        "        result = {m.name: m.result() for m in self.metrics}\n",
        "        result['beta'] = self.beta\n",
        "        return result\n",
        "\n",
        "    def test_step(self, inputs):\n",
        "        acts_enc, z_enc = self(inputs, planner=False, training=False)\n",
        "        acts_plan, z_plan = self(inputs, planner=True, training=False)\n",
        "        act_enc_loss = self.compiled_loss(inputs['acts'], acts_enc, regularization_losses=self.losses)\n",
        "        act_plan_loss = self.compiled_loss(inputs['acts'], acts_plan, regularization_losses=self.losses)\n",
        "\n",
        "        reg_loss = tfd.kl_divergence(z_enc, z_plan)\n",
        "        loss = act_plan_loss + self.beta * reg_loss\n",
        "\n",
        "        # Update metrics \n",
        "        self.valid_loss.update_state(loss)\n",
        "        self.valid_act_with_enc_loss.update_state(act_enc_loss)\n",
        "        self.valid_act_with_plan_loss.update_state(act_plan_loss)\n",
        "        self.valid_reg_loss.update_state(reg_loss)\n",
        "\n",
        "        return {m.name: m.result() for m in self.metrics}\n",
        "\n",
        "    @property\n",
        "    def metrics(self):\n",
        "        # We list our `Metric` objects here so that `reset_states()` can be\n",
        "        # called automatically at the start of each epoch\n",
        "        # or at the start of `evaluate()`.\n",
        "        # If you don't implement this property, you have to call\n",
        "        # `reset_states()` yourself at the time of your choosing.\n",
        "        return [\n",
        "            self.train_loss,\n",
        "            self.valid_loss,\n",
        "            self.train_act_with_enc_loss,\n",
        "            self.train_act_with_plan_loss,\n",
        "            self.valid_act_with_enc_loss,\n",
        "            self.valid_act_with_plan_loss,\n",
        "            self.train_reg_loss,\n",
        "            self.valid_reg_loss,\n",
        "            self.valid_position_loss,\n",
        "            self.valid_max_position_loss,\n",
        "            self.valid_rotation_loss,\n",
        "            self.valid_max_rotation_loss,\n",
        "            self.valid_gripper_loss,\n",
        "        ]"
      ],
      "execution_count": 59,
      "outputs": []
    },
    {
      "cell_type": "code",
      "metadata": {
        "id": "FWFLZsyahm1X"
      },
      "source": [
        "with strategy.scope():\n",
        "    actor = create_actor(obs_dim=dl.obs_dim, act_dim=dl.act_dim, goal_dim=dl.goal_dim, layer_size=args.actor_layer_size, latent_dim=args.latent_dim)\n",
        "    encoder = create_encoder(obs_dim=dl.obs_dim, act_dim=dl.act_dim, layer_size=args.encoder_layer_size, latent_dim=args.latent_dim)\n",
        "    planner = create_planner(obs_dim=dl.obs_dim, goal_dim=dl.goal_dim, layer_size=args.encoder_layer_size, latent_dim=args.latent_dim)\n",
        "\n",
        "    model = LFPNet(encoder, planner, actor, beta=args.beta)\n",
        "\n",
        "    optimizer = tf.keras.optimizers.Adam(args.learning_rate)\n",
        "    model.compile(optimizer=optimizer, loss='mae', steps_per_execution=1, run_eagerly=False)"
      ],
      "execution_count": 60,
      "outputs": []
    },
    {
      "cell_type": "code",
      "metadata": {
        "id": "2utKU_E_ws2T"
      },
      "source": [
        "class BetaSchedulerCallback(tf.keras.callbacks.Callback):\n",
        "    \"\"\" For some reason this doesn't seem to work :/ \"\"\"\n",
        "    def __init__(self, schedule):\n",
        "        super(BetaSchedulerCallback, self).__init__()\n",
        "        self.schedule = schedule\n",
        "\n",
        "    def on_train_batch_begin(self, step, logs=None):\n",
        "        if not hasattr(self.model, \"beta\"):\n",
        "            raise ValueError('Optimizer must have a \"beta\" attribute.')\n",
        "        scheduled_beta = float(self.schedule(step))\n",
        "        # Set the value back to the optimizer before this epoch starts\n",
        "        # tf.keras.backend.set_value(self.model.beta, scheduled_beta)\n",
        "        self.model.beta = scheduled_beta\n",
        "        print(f\"\\nStep {step:05}: Beta is {self.model.beta:.5e}.\")\n",
        "\n",
        "class stepLogger(tf.keras.callbacks.Callback):\n",
        "    \"A Logger that log average performance per `display` steps.\"\n",
        "\n",
        "    def __init__(self):\n",
        "        self.step = 0\n",
        "\n",
        "    def on_batch_end(self, batch, logs={}):\n",
        "        self.step += 1\n",
        "\n",
        "    def on_test_batch_end(self, batch, logs={}):\n",
        "        wandb.log(logs, step=self.step)"
      ],
      "execution_count": 61,
      "outputs": []
    },
    {
      "cell_type": "code",
      "metadata": {
        "colab": {
          "base_uri": "https://localhost:8080/",
          "height": 279
        },
        "id": "mRiAk4pzxKSF",
        "outputId": "94fa8ae3-abe2-40b1-e803-fcfc9809a38d"
      },
      "source": [
        "beta_schedule = lfp.train.BetaScheduler('constant', beta_max=args.beta)\r\n"
      ],
      "execution_count": 62,
      "outputs": [
        {
          "output_type": "display_data",
          "data": {
            "image/png": "[encoded data removed]",
            "text/plain": [
              "<Figure size 432x288 with 1 Axes>"
            ]
          },
          "metadata": {
            "tags": [],
            "needs_background": "light"
          }
        }
      ]
    },
    {
      "cell_type": "code",
      "metadata": {
        "id": "hWFyYFvY7DpW"
      },
      "source": [
        "checkpoint_callback = tf.keras.callbacks.ModelCheckpoint(\n",
        "    filepath=STORAGE_PATH/'saved_models', monitor='val_total_loss', save_best_only=True, save_weights_only=False, save_freq=1000\n",
        ")"
      ],
      "execution_count": 63,
      "outputs": []
    },
    {
      "cell_type": "code",
      "metadata": {
        "colab": {
          "base_uri": "https://localhost:8080/",
          "height": 1000,
          "referenced_widgets": [
            "15d3e82198f048efbbca9345f9c616f5",
            "0a69bbfb26334659bb222ac390b518ec",
            "6041c5c008854f11a2b433c3a821d7f2",
            "1bd4adf97281473db8a70722a39b1dc4",
            "5b6414d138454b03b40f1f8e9e776ea3",
            "b1817f5a6c7c4d1191513529da5be67c",
            "76f59235d58c48219973fe37287dad84",
            "2893d5ffbe0441039de2da3b2b3073c7"
          ]
        },
        "id": "J6sScbsrgJAv",
        "outputId": "cb15bde2-7a44-4876-9ab8-0d8b1d2490d7"
      },
      "source": [
        "wandb.init(project=\"learning-from-play_v2\")"
      ],
      "execution_count": 64,
      "outputs": [
        {
          "output_type": "display_data",
          "data": {
            "text/html": [
              "Finishing last run (ID:fkg3d9dx) before initializing another..."
            ],
            "text/plain": [
              "<IPython.core.display.HTML object>"
            ]
          },
          "metadata": {
            "tags": []
          }
        },
        {
          "output_type": "display_data",
          "data": {
            "text/html": [
              "<br/>Waiting for W&B process to finish, PID 18335<br/>Program ended successfully."
            ],
            "text/plain": [
              "<IPython.core.display.HTML object>"
            ]
          },
          "metadata": {
            "tags": []
          }
        },
        {
          "output_type": "display_data",
          "data": {
            "application/vnd.jupyter.widget-view+json": {
              "model_id": "15d3e82198f048efbbca9345f9c616f5",
              "version_minor": 0,
              "version_major": 2
            },
            "text/plain": [
              "VBox(children=(Label(value=' 0.00MB of 0.00MB uploaded (0.00MB deduped)\\r'), FloatProgress(value=1.0, max=1.0)…"
            ]
          },
          "metadata": {
            "tags": []
          }
        },
        {
          "output_type": "display_data",
          "data": {
            "text/html": [
              "Find user logs for this run at: <code>/content/learning_from_play/wandb/run-20210308_040845-fkg3d9dx/logs/debug.log</code>"
            ],
            "text/plain": [
              "<IPython.core.display.HTML object>"
            ]
          },
          "metadata": {
            "tags": []
          }
        },
        {
          "output_type": "display_data",
          "data": {
            "text/html": [
              "Find internal logs for this run at: <code>/content/learning_from_play/wandb/run-20210308_040845-fkg3d9dx/logs/debug-internal.log</code>"
            ],
            "text/plain": [
              "<IPython.core.display.HTML object>"
            ]
          },
          "metadata": {
            "tags": []
          }
        },
        {
          "output_type": "display_data",
          "data": {
            "text/html": [
              "<h3>Run summary:</h3><br/><style>\n",
              "    table.wandb td:nth-child(1) { padding: 0 10px; text-align: right }\n",
              "    </style><table class=\"wandb\">\n",
              "<tr><td>train_loss</td><td>0.0</td></tr><tr><td>valid_loss</td><td>0.00823</td></tr><tr><td>train_act_with_enc_loss</td><td>0.0</td></tr><tr><td>train_act_with_plan_loss</td><td>0.0</td></tr><tr><td>valid_act_with_enc_loss</td><td>0.00797</td></tr><tr><td>valid_act_with_plan_loss</td><td>0.00807</td></tr><tr><td>reg_loss</td><td>0.0</td></tr><tr><td>valid_reg_loss</td><td>5.28955</td></tr><tr><td>valid_position_loss</td><td>0.0</td></tr><tr><td>valid_max_position_loss</td><td>0.0</td></tr><tr><td>valid_rotation_loss</td><td>0.0</td></tr><tr><td>valid_max_rotation_loss</td><td>0.0</td></tr><tr><td>_runtime</td><td>1885</td></tr><tr><td>_timestamp</td><td>1615178419</td></tr><tr><td>_step</td><td>220</td></tr></table>"
            ],
            "text/plain": [
              "<IPython.core.display.HTML object>"
            ]
          },
          "metadata": {
            "tags": []
          }
        },
        {
          "output_type": "display_data",
          "data": {
            "text/html": [
              "<h3>Run history:</h3><br/><style>\n",
              "    table.wandb td:nth-child(1) { padding: 0 10px; text-align: right }\n",
              "    </style><table class=\"wandb\">\n",
              "<tr><td>train_loss</td><td>▁▁▁▁▁▁▁▁▁▁▁</td></tr><tr><td>valid_loss</td><td>█▆▅▄▃▂▂▂▁▁▁</td></tr><tr><td>train_act_with_enc_loss</td><td>▁▁▁▁▁▁▁▁▁▁▁</td></tr><tr><td>train_act_with_plan_loss</td><td>▁▁▁▁▁▁▁▁▁▁▁</td></tr><tr><td>valid_act_with_enc_loss</td><td>█▆▅▄▃▂▂▂▁▁▁</td></tr><tr><td>valid_act_with_plan_loss</td><td>█▆▅▄▃▂▂▂▁▁▁</td></tr><tr><td>reg_loss</td><td>▁▁▁▁▁▁▁▁▁▁▁</td></tr><tr><td>valid_reg_loss</td><td>▁▂▆█▃▁▁▁▁▁▁</td></tr><tr><td>valid_position_loss</td><td>▁▁▁▁▁▁▁▁▁▁▁</td></tr><tr><td>valid_max_position_loss</td><td>▁▁▁▁▁▁▁▁▁▁▁</td></tr><tr><td>valid_rotation_loss</td><td>▁▁▁▁▁▁▁▁▁▁▁</td></tr><tr><td>valid_max_rotation_loss</td><td>▁▁▁▁▁▁▁▁▁▁▁</td></tr><tr><td>_runtime</td><td>▁▂▃▃▄▄▅▆▆▇█</td></tr><tr><td>_timestamp</td><td>▁▂▃▃▄▄▅▆▆▇█</td></tr><tr><td>_step</td><td>▁▂▂▃▄▅▅▆▇▇█</td></tr></table><br/>"
            ],
            "text/plain": [
              "<IPython.core.display.HTML object>"
            ]
          },
          "metadata": {
            "tags": []
          }
        },
        {
          "output_type": "display_data",
          "data": {
            "text/html": [
              "Synced 5 W&B file(s), 0 media file(s), 0 artifact file(s) and 0 other file(s)"
            ],
            "text/plain": [
              "<IPython.core.display.HTML object>"
            ]
          },
          "metadata": {
            "tags": []
          }
        },
        {
          "output_type": "display_data",
          "data": {
            "text/html": [
              "\n",
              "                    <br/>Synced <strong style=\"color:#cdcd00\">super-sunset-207</strong>: <a href=\"https://wandb.ai/sholto/learning-from-play_v2/runs/fkg3d9dx\" target=\"_blank\">https://wandb.ai/sholto/learning-from-play_v2/runs/fkg3d9dx</a><br/>\n",
              "                "
            ],
            "text/plain": [
              "<IPython.core.display.HTML object>"
            ]
          },
          "metadata": {
            "tags": []
          }
        },
        {
          "output_type": "display_data",
          "data": {
            "text/html": [
              "...Successfully finished last run (ID:fkg3d9dx). Initializing new run:<br/><br/>"
            ],
            "text/plain": [
              "<IPython.core.display.HTML object>"
            ]
          },
          "metadata": {
            "tags": []
          }
        },
        {
          "output_type": "display_data",
          "data": {
            "text/html": [
              "\n",
              "                Tracking run with wandb version 0.10.21<br/>\n",
              "                Syncing run <strong style=\"color:#cdcd00\">bumbling-fire-208</strong> to <a href=\"https://wandb.ai\" target=\"_blank\">Weights & Biases</a> <a href=\"https://docs.wandb.com/integrations/jupyter.html\" target=\"_blank\">(Documentation)</a>.<br/>\n",
              "                Project page: <a href=\"https://wandb.ai/sholto/learning-from-play_v2\" target=\"_blank\">https://wandb.ai/sholto/learning-from-play_v2</a><br/>\n",
              "                Run page: <a href=\"https://wandb.ai/sholto/learning-from-play_v2/runs/3rsi9l09\" target=\"_blank\">https://wandb.ai/sholto/learning-from-play_v2/runs/3rsi9l09</a><br/>\n",
              "                Run data is saved locally in <code>/content/learning_from_play/wandb/run-20210308_044019-3rsi9l09</code><br/><br/>\n",
              "            "
            ],
            "text/plain": [
              "<IPython.core.display.HTML object>"
            ]
          },
          "metadata": {
            "tags": []
          }
        },
        {
          "output_type": "execute_result",
          "data": {
            "text/plain": [
              "<wandb.sdk.wandb_run.Run at 0x7fe5038016d0>"
            ],
            "text/html": [
              "<h1>Run(3rsi9l09)</h1><iframe src=\"https://wandb.ai/sholto/learning-from-play_v2/runs/3rsi9l09\" style=\"border:none;width:100%;height:400px\"></iframe>"
            ]
          },
          "metadata": {
            "tags": []
          },
          "execution_count": 64
        }
      ]
    },
    {
      "cell_type": "code",
      "metadata": {
        "colab": {
          "base_uri": "https://localhost:8080/"
        },
        "id": "2fUe22V4lG7T",
        "outputId": "b11d243f-cdb9-4f3a-9256-0467ef54c3d8"
      },
      "source": [
        "from wandb.keras import WandbCallback\n",
        "\n",
        "history = model.fit(train_dataset,\n",
        "                    validation_data=valid_dataset,\n",
        "                    epochs=10000,\n",
        "                    steps_per_epoch=20,\n",
        "                    validation_steps=1,\n",
        "                    callbacks=[checkpoint_callback, stepLogger()]) # BetaSchedulerCallback(beta_schedule.scheduler)"
      ],
      "execution_count": null,
      "outputs": [
        {
          "output_type": "stream",
          "text": [
            "Epoch 1/10000\n",
            " 6/20 [========>.....................] - ETA: 14s - train_loss: 0.0353 - valid_loss: 0.0000e+00 - train_act_with_enc_loss: 0.0350 - train_act_with_plan_loss: 0.0376 - valid_act_with_enc_loss: 0.0000e+00 - valid_act_with_plan_loss: 0.0000e+00 - reg_loss: 8.6445 - valid_reg_loss: 0.0000e+00 - valid_position_loss: 0.0000e+00 - valid_max_position_loss: 0.0000e+00 - valid_rotation_loss: 0.0000e+00 - valid_max_rotation_loss: 0.0000e+00 - beta: 3.0000e-05WARNING:tensorflow:Callback method `on_train_batch_end` is slow compared to the batch time (batch time: 0.0027s vs `on_train_batch_end` time: 19.7286s). Check your callbacks.\n"
          ],
          "name": "stdout"
        },
        {
          "output_type": "stream",
          "text": [
            "WARNING:tensorflow:Callback method `on_train_batch_end` is slow compared to the batch time (batch time: 0.0027s vs `on_train_batch_end` time: 19.7286s). Check your callbacks.\n"
          ],
          "name": "stderr"
        },
        {
          "output_type": "stream",
          "text": [
            "20/20 [==============================] - 196s 3s/step - train_loss: 0.0235 - valid_loss: 0.0000e+00 - train_act_with_enc_loss: 0.0232 - train_act_with_plan_loss: 0.0245 - valid_act_with_enc_loss: 0.0000e+00 - valid_act_with_plan_loss: 0.0000e+00 - reg_loss: 10.2642 - valid_reg_loss: 0.0000e+00 - valid_position_loss: 0.0000e+00 - valid_max_position_loss: 0.0000e+00 - valid_rotation_loss: 0.0000e+00 - valid_max_rotation_loss: 0.0000e+00 - beta: 3.0000e-05 - val_train_loss: 0.0000e+00 - val_valid_loss: 0.0151 - val_train_act_with_enc_loss: 0.0000e+00 - val_train_act_with_plan_loss: 0.0000e+00 - val_valid_act_with_enc_loss: 0.0147 - val_valid_act_with_plan_loss: 0.0149 - val_reg_loss: 0.0000e+00 - val_valid_reg_loss: 5.5669 - val_valid_position_loss: 0.0000e+00 - val_valid_max_position_loss: 0.0000e+00 - val_valid_rotation_loss: 0.0000e+00 - val_valid_max_rotation_loss: 0.0000e+00\n",
            "Epoch 2/10000\n",
            "20/20 [==============================] - 54s 3s/step - train_loss: 0.0133 - valid_loss: 0.0000e+00 - train_act_with_enc_loss: 0.0132 - train_act_with_plan_loss: 0.0135 - valid_act_with_enc_loss: 0.0000e+00 - valid_act_with_plan_loss: 0.0000e+00 - reg_loss: 3.5079 - valid_reg_loss: 0.0000e+00 - valid_position_loss: 0.0000e+00 - valid_max_position_loss: 0.0000e+00 - valid_rotation_loss: 0.0000e+00 - valid_max_rotation_loss: 0.0000e+00 - beta: 3.0000e-05 - val_train_loss: 0.0000e+00 - val_valid_loss: 0.0117 - val_train_act_with_enc_loss: 0.0000e+00 - val_train_act_with_plan_loss: 0.0000e+00 - val_valid_act_with_enc_loss: 0.0114 - val_valid_act_with_plan_loss: 0.0117 - val_reg_loss: 0.0000e+00 - val_valid_reg_loss: 2.4564 - val_valid_position_loss: 0.0000e+00 - val_valid_max_position_loss: 0.0000e+00 - val_valid_rotation_loss: 0.0000e+00 - val_valid_max_rotation_loss: 0.0000e+00\n",
            "Epoch 3/10000\n",
            "20/20 [==============================] - 49s 3s/step - train_loss: 0.0107 - valid_loss: 0.0000e+00 - train_act_with_enc_loss: 0.0106 - train_act_with_plan_loss: 0.0109 - valid_act_with_enc_loss: 0.0000e+00 - valid_act_with_plan_loss: 0.0000e+00 - reg_loss: 2.8044 - valid_reg_loss: 0.0000e+00 - valid_position_loss: 0.0000e+00 - valid_max_position_loss: 0.0000e+00 - valid_rotation_loss: 0.0000e+00 - valid_max_rotation_loss: 0.0000e+00 - beta: 3.0000e-05 - val_train_loss: 0.0000e+00 - val_valid_loss: 0.0098 - val_train_act_with_enc_loss: 0.0000e+00 - val_train_act_with_plan_loss: 0.0000e+00 - val_valid_act_with_enc_loss: 0.0094 - val_valid_act_with_plan_loss: 0.0097 - val_reg_loss: 0.0000e+00 - val_valid_reg_loss: 3.1334 - val_valid_position_loss: 0.0000e+00 - val_valid_max_position_loss: 0.0000e+00 - val_valid_rotation_loss: 0.0000e+00 - val_valid_max_rotation_loss: 0.0000e+00\n",
            "Epoch 4/10000\n",
            "20/20 [==============================] - 53s 3s/step - train_loss: 0.0092 - valid_loss: 0.0000e+00 - train_act_with_enc_loss: 0.0091 - train_act_with_plan_loss: 0.0094 - valid_act_with_enc_loss: 0.0000e+00 - valid_act_with_plan_loss: 0.0000e+00 - reg_loss: 3.0643 - valid_reg_loss: 0.0000e+00 - valid_position_loss: 0.0000e+00 - valid_max_position_loss: 0.0000e+00 - valid_rotation_loss: 0.0000e+00 - valid_max_rotation_loss: 0.0000e+00 - beta: 3.0000e-05 - val_train_loss: 0.0000e+00 - val_valid_loss: 0.0084 - val_train_act_with_enc_loss: 0.0000e+00 - val_train_act_with_plan_loss: 0.0000e+00 - val_valid_act_with_enc_loss: 0.0081 - val_valid_act_with_plan_loss: 0.0083 - val_reg_loss: 0.0000e+00 - val_valid_reg_loss: 2.3353 - val_valid_position_loss: 0.0000e+00 - val_valid_max_position_loss: 0.0000e+00 - val_valid_rotation_loss: 0.0000e+00 - val_valid_max_rotation_loss: 0.0000e+00\n",
            "Epoch 5/10000\n",
            "20/20 [==============================] - 51s 3s/step - train_loss: 0.0081 - valid_loss: 0.0000e+00 - train_act_with_enc_loss: 0.0081 - train_act_with_plan_loss: 0.0082 - valid_act_with_enc_loss: 0.0000e+00 - valid_act_with_plan_loss: 0.0000e+00 - reg_loss: 2.2543 - valid_reg_loss: 0.0000e+00 - valid_position_loss: 0.0000e+00 - valid_max_position_loss: 0.0000e+00 - valid_rotation_loss: 0.0000e+00 - valid_max_rotation_loss: 0.0000e+00 - beta: 3.0000e-05 - val_train_loss: 0.0000e+00 - val_valid_loss: 0.0075 - val_train_act_with_enc_loss: 0.0000e+00 - val_train_act_with_plan_loss: 0.0000e+00 - val_valid_act_with_enc_loss: 0.0073 - val_valid_act_with_plan_loss: 0.0074 - val_reg_loss: 0.0000e+00 - val_valid_reg_loss: 1.9451 - val_valid_position_loss: 0.0000e+00 - val_valid_max_position_loss: 0.0000e+00 - val_valid_rotation_loss: 0.0000e+00 - val_valid_max_rotation_loss: 0.0000e+00\n",
            "Epoch 6/10000\n",
            "20/20 [==============================] - 49s 3s/step - train_loss: 0.0073 - valid_loss: 0.0000e+00 - train_act_with_enc_loss: 0.0072 - train_act_with_plan_loss: 0.0072 - valid_act_with_enc_loss: 0.0000e+00 - valid_act_with_plan_loss: 0.0000e+00 - reg_loss: 2.4331 - valid_reg_loss: 0.0000e+00 - valid_position_loss: 0.0000e+00 - valid_max_position_loss: 0.0000e+00 - valid_rotation_loss: 0.0000e+00 - valid_max_rotation_loss: 0.0000e+00 - beta: 3.0000e-05 - val_train_loss: 0.0000e+00 - val_valid_loss: 0.0067 - val_train_act_with_enc_loss: 0.0000e+00 - val_train_act_with_plan_loss: 0.0000e+00 - val_valid_act_with_enc_loss: 0.0066 - val_valid_act_with_plan_loss: 0.0066 - val_reg_loss: 0.0000e+00 - val_valid_reg_loss: 2.5158 - val_valid_position_loss: 0.0000e+00 - val_valid_max_position_loss: 0.0000e+00 - val_valid_rotation_loss: 0.0000e+00 - val_valid_max_rotation_loss: 0.0000e+00\n",
            "Epoch 7/10000\n",
            "20/20 [==============================] - 49s 3s/step - train_loss: 0.0066 - valid_loss: 0.0000e+00 - train_act_with_enc_loss: 0.0065 - train_act_with_plan_loss: 0.0066 - valid_act_with_enc_loss: 0.0000e+00 - valid_act_with_plan_loss: 0.0000e+00 - reg_loss: 2.2079 - valid_reg_loss: 0.0000e+00 - valid_position_loss: 0.0000e+00 - valid_max_position_loss: 0.0000e+00 - valid_rotation_loss: 0.0000e+00 - valid_max_rotation_loss: 0.0000e+00 - beta: 3.0000e-05 - val_train_loss: 0.0000e+00 - val_valid_loss: 0.0061 - val_train_act_with_enc_loss: 0.0000e+00 - val_train_act_with_plan_loss: 0.0000e+00 - val_valid_act_with_enc_loss: 0.0060 - val_valid_act_with_plan_loss: 0.0060 - val_reg_loss: 0.0000e+00 - val_valid_reg_loss: 2.7990 - val_valid_position_loss: 0.0000e+00 - val_valid_max_position_loss: 0.0000e+00 - val_valid_rotation_loss: 0.0000e+00 - val_valid_max_rotation_loss: 0.0000e+00\n",
            "Epoch 8/10000\n",
            "20/20 [==============================] - 52s 3s/step - train_loss: 0.0062 - valid_loss: 0.0000e+00 - train_act_with_enc_loss: 0.0061 - train_act_with_plan_loss: 0.0061 - valid_act_with_enc_loss: 0.0000e+00 - valid_act_with_plan_loss: 0.0000e+00 - reg_loss: 2.1339 - valid_reg_loss: 0.0000e+00 - valid_position_loss: 0.0000e+00 - valid_max_position_loss: 0.0000e+00 - valid_rotation_loss: 0.0000e+00 - valid_max_rotation_loss: 0.0000e+00 - beta: 3.0000e-05 - val_train_loss: 0.0000e+00 - val_valid_loss: 0.0055 - val_train_act_with_enc_loss: 0.0000e+00 - val_train_act_with_plan_loss: 0.0000e+00 - val_valid_act_with_enc_loss: 0.0055 - val_valid_act_with_plan_loss: 0.0055 - val_reg_loss: 0.0000e+00 - val_valid_reg_loss: 1.9201 - val_valid_position_loss: 0.0000e+00 - val_valid_max_position_loss: 0.0000e+00 - val_valid_rotation_loss: 0.0000e+00 - val_valid_max_rotation_loss: 0.0000e+00\n",
            "Epoch 9/10000\n",
            "20/20 [==============================] - 50s 3s/step - train_loss: 0.0057 - valid_loss: 0.0000e+00 - train_act_with_enc_loss: 0.0056 - train_act_with_plan_loss: 0.0057 - valid_act_with_enc_loss: 0.0000e+00 - valid_act_with_plan_loss: 0.0000e+00 - reg_loss: 2.1411 - valid_reg_loss: 0.0000e+00 - valid_position_loss: 0.0000e+00 - valid_max_position_loss: 0.0000e+00 - valid_rotation_loss: 0.0000e+00 - valid_max_rotation_loss: 0.0000e+00 - beta: 3.0000e-05 - val_train_loss: 0.0000e+00 - val_valid_loss: 0.0052 - val_train_act_with_enc_loss: 0.0000e+00 - val_train_act_with_plan_loss: 0.0000e+00 - val_valid_act_with_enc_loss: 0.0051 - val_valid_act_with_plan_loss: 0.0052 - val_reg_loss: 0.0000e+00 - val_valid_reg_loss: 1.9038 - val_valid_position_loss: 0.0000e+00 - val_valid_max_position_loss: 0.0000e+00 - val_valid_rotation_loss: 0.0000e+00 - val_valid_max_rotation_loss: 0.0000e+00\n",
            "Epoch 10/10000\n",
            "20/20 [==============================] - 51s 3s/step - train_loss: 0.0053 - valid_loss: 0.0000e+00 - train_act_with_enc_loss: 0.0052 - train_act_with_plan_loss: 0.0052 - valid_act_with_enc_loss: 0.0000e+00 - valid_act_with_plan_loss: 0.0000e+00 - reg_loss: 1.8059 - valid_reg_loss: 0.0000e+00 - valid_position_loss: 0.0000e+00 - valid_max_position_loss: 0.0000e+00 - valid_rotation_loss: 0.0000e+00 - valid_max_rotation_loss: 0.0000e+00 - beta: 3.0000e-05 - val_train_loss: 0.0000e+00 - val_valid_loss: 0.0051 - val_train_act_with_enc_loss: 0.0000e+00 - val_train_act_with_plan_loss: 0.0000e+00 - val_valid_act_with_enc_loss: 0.0050 - val_valid_act_with_plan_loss: 0.0050 - val_reg_loss: 0.0000e+00 - val_valid_reg_loss: 1.7460 - val_valid_position_loss: 0.0000e+00 - val_valid_max_position_loss: 0.0000e+00 - val_valid_rotation_loss: 0.0000e+00 - val_valid_max_rotation_loss: 0.0000e+00\n",
            "Epoch 11/10000\n",
            "20/20 [==============================] - 51s 3s/step - train_loss: 0.0050 - valid_loss: 0.0000e+00 - train_act_with_enc_loss: 0.0049 - train_act_with_plan_loss: 0.0049 - valid_act_with_enc_loss: 0.0000e+00 - valid_act_with_plan_loss: 0.0000e+00 - reg_loss: 1.6910 - valid_reg_loss: 0.0000e+00 - valid_position_loss: 0.0000e+00 - valid_max_position_loss: 0.0000e+00 - valid_rotation_loss: 0.0000e+00 - valid_max_rotation_loss: 0.0000e+00 - beta: 3.0000e-05 - val_train_loss: 0.0000e+00 - val_valid_loss: 0.0047 - val_train_act_with_enc_loss: 0.0000e+00 - val_train_act_with_plan_loss: 0.0000e+00 - val_valid_act_with_enc_loss: 0.0046 - val_valid_act_with_plan_loss: 0.0046 - val_reg_loss: 0.0000e+00 - val_valid_reg_loss: 1.5687 - val_valid_position_loss: 0.0000e+00 - val_valid_max_position_loss: 0.0000e+00 - val_valid_rotation_loss: 0.0000e+00 - val_valid_max_rotation_loss: 0.0000e+00\n",
            "Epoch 12/10000\n",
            "20/20 [==============================] - 50s 3s/step - train_loss: 0.0048 - valid_loss: 0.0000e+00 - train_act_with_enc_loss: 0.0048 - train_act_with_plan_loss: 0.0048 - valid_act_with_enc_loss: 0.0000e+00 - valid_act_with_plan_loss: 0.0000e+00 - reg_loss: 1.6799 - valid_reg_loss: 0.0000e+00 - valid_position_loss: 0.0000e+00 - valid_max_position_loss: 0.0000e+00 - valid_rotation_loss: 0.0000e+00 - valid_max_rotation_loss: 0.0000e+00 - beta: 3.0000e-05 - val_train_loss: 0.0000e+00 - val_valid_loss: 0.0045 - val_train_act_with_enc_loss: 0.0000e+00 - val_train_act_with_plan_loss: 0.0000e+00 - val_valid_act_with_enc_loss: 0.0045 - val_valid_act_with_plan_loss: 0.0045 - val_reg_loss: 0.0000e+00 - val_valid_reg_loss: 1.4476 - val_valid_position_loss: 0.0000e+00 - val_valid_max_position_loss: 0.0000e+00 - val_valid_rotation_loss: 0.0000e+00 - val_valid_max_rotation_loss: 0.0000e+00\n",
            "Epoch 13/10000\n",
            "20/20 [==============================] - 51s 3s/step - train_loss: 0.0046 - valid_loss: 0.0000e+00 - train_act_with_enc_loss: 0.0046 - train_act_with_plan_loss: 0.0046 - valid_act_with_enc_loss: 0.0000e+00 - valid_act_with_plan_loss: 0.0000e+00 - reg_loss: 1.5197 - valid_reg_loss: 0.0000e+00 - valid_position_loss: 0.0000e+00 - valid_max_position_loss: 0.0000e+00 - valid_rotation_loss: 0.0000e+00 - valid_max_rotation_loss: 0.0000e+00 - beta: 3.0000e-05 - val_train_loss: 0.0000e+00 - val_valid_loss: 0.0044 - val_train_act_with_enc_loss: 0.0000e+00 - val_train_act_with_plan_loss: 0.0000e+00 - val_valid_act_with_enc_loss: 0.0043 - val_valid_act_with_plan_loss: 0.0043 - val_reg_loss: 0.0000e+00 - val_valid_reg_loss: 1.5966 - val_valid_position_loss: 0.0000e+00 - val_valid_max_position_loss: 0.0000e+00 - val_valid_rotation_loss: 0.0000e+00 - val_valid_max_rotation_loss: 0.0000e+00\n",
            "Epoch 14/10000\n",
            "20/20 [==============================] - 52s 3s/step - train_loss: 0.0045 - valid_loss: 0.0000e+00 - train_act_with_enc_loss: 0.0044 - train_act_with_plan_loss: 0.0044 - valid_act_with_enc_loss: 0.0000e+00 - valid_act_with_plan_loss: 0.0000e+00 - reg_loss: 1.5161 - valid_reg_loss: 0.0000e+00 - valid_position_loss: 0.0000e+00 - valid_max_position_loss: 0.0000e+00 - valid_rotation_loss: 0.0000e+00 - valid_max_rotation_loss: 0.0000e+00 - beta: 3.0000e-05 - val_train_loss: 0.0000e+00 - val_valid_loss: 0.0043 - val_train_act_with_enc_loss: 0.0000e+00 - val_train_act_with_plan_loss: 0.0000e+00 - val_valid_act_with_enc_loss: 0.0042 - val_valid_act_with_plan_loss: 0.0042 - val_reg_loss: 0.0000e+00 - val_valid_reg_loss: 1.5306 - val_valid_position_loss: 0.0000e+00 - val_valid_max_position_loss: 0.0000e+00 - val_valid_rotation_loss: 0.0000e+00 - val_valid_max_rotation_loss: 0.0000e+00\n",
            "Epoch 15/10000\n",
            "20/20 [==============================] - 51s 3s/step - train_loss: 0.0043 - valid_loss: 0.0000e+00 - train_act_with_enc_loss: 0.0043 - train_act_with_plan_loss: 0.0043 - valid_act_with_enc_loss: 0.0000e+00 - valid_act_with_plan_loss: 0.0000e+00 - reg_loss: 1.4313 - valid_reg_loss: 0.0000e+00 - valid_position_loss: 0.0000e+00 - valid_max_position_loss: 0.0000e+00 - valid_rotation_loss: 0.0000e+00 - valid_max_rotation_loss: 0.0000e+00 - beta: 3.0000e-05 - val_train_loss: 0.0000e+00 - val_valid_loss: 0.0042 - val_train_act_with_enc_loss: 0.0000e+00 - val_train_act_with_plan_loss: 0.0000e+00 - val_valid_act_with_enc_loss: 0.0041 - val_valid_act_with_plan_loss: 0.0041 - val_reg_loss: 0.0000e+00 - val_valid_reg_loss: 1.4302 - val_valid_position_loss: 0.0000e+00 - val_valid_max_position_loss: 0.0000e+00 - val_valid_rotation_loss: 0.0000e+00 - val_valid_max_rotation_loss: 0.0000e+00\n",
            "Epoch 16/10000\n",
            "20/20 [==============================] - 52s 3s/step - train_loss: 0.0046 - valid_loss: 0.0000e+00 - train_act_with_enc_loss: 0.0046 - train_act_with_plan_loss: 0.0046 - valid_act_with_enc_loss: 0.0000e+00 - valid_act_with_plan_loss: 0.0000e+00 - reg_loss: 1.6075 - valid_reg_loss: 0.0000e+00 - valid_position_loss: 0.0000e+00 - valid_max_position_loss: 0.0000e+00 - valid_rotation_loss: 0.0000e+00 - valid_max_rotation_loss: 0.0000e+00 - beta: 3.0000e-05 - val_train_loss: 0.0000e+00 - val_valid_loss: 0.0043 - val_train_act_with_enc_loss: 0.0000e+00 - val_train_act_with_plan_loss: 0.0000e+00 - val_valid_act_with_enc_loss: 0.0043 - val_valid_act_with_plan_loss: 0.0043 - val_reg_loss: 0.0000e+00 - val_valid_reg_loss: 1.7229 - val_valid_position_loss: 0.0000e+00 - val_valid_max_position_loss: 0.0000e+00 - val_valid_rotation_loss: 0.0000e+00 - val_valid_max_rotation_loss: 0.0000e+00\n",
            "Epoch 17/10000\n",
            "20/20 [==============================] - 52s 3s/step - train_loss: 0.0043 - valid_loss: 0.0000e+00 - train_act_with_enc_loss: 0.0042 - train_act_with_plan_loss: 0.0043 - valid_act_with_enc_loss: 0.0000e+00 - valid_act_with_plan_loss: 0.0000e+00 - reg_loss: 1.8757 - valid_reg_loss: 0.0000e+00 - valid_position_loss: 0.0000e+00 - valid_max_position_loss: 0.0000e+00 - valid_rotation_loss: 0.0000e+00 - valid_max_rotation_loss: 0.0000e+00 - beta: 3.0000e-05 - val_train_loss: 0.0000e+00 - val_valid_loss: 0.0042 - val_train_act_with_enc_loss: 0.0000e+00 - val_train_act_with_plan_loss: 0.0000e+00 - val_valid_act_with_enc_loss: 0.0041 - val_valid_act_with_plan_loss: 0.0041 - val_reg_loss: 0.0000e+00 - val_valid_reg_loss: 2.2389 - val_valid_position_loss: 0.0000e+00 - val_valid_max_position_loss: 0.0000e+00 - val_valid_rotation_loss: 0.0000e+00 - val_valid_max_rotation_loss: 0.0000e+00\n",
            "Epoch 18/10000\n",
            "20/20 [==============================] - 50s 3s/step - train_loss: 0.0041 - valid_loss: 0.0000e+00 - train_act_with_enc_loss: 0.0040 - train_act_with_plan_loss: 0.0040 - valid_act_with_enc_loss: 0.0000e+00 - valid_act_with_plan_loss: 0.0000e+00 - reg_loss: 1.6866 - valid_reg_loss: 0.0000e+00 - valid_position_loss: 0.0000e+00 - valid_max_position_loss: 0.0000e+00 - valid_rotation_loss: 0.0000e+00 - valid_max_rotation_loss: 0.0000e+00 - beta: 3.0000e-05 - val_train_loss: 0.0000e+00 - val_valid_loss: 0.0040 - val_train_act_with_enc_loss: 0.0000e+00 - val_train_act_with_plan_loss: 0.0000e+00 - val_valid_act_with_enc_loss: 0.0039 - val_valid_act_with_plan_loss: 0.0039 - val_reg_loss: 0.0000e+00 - val_valid_reg_loss: 1.6970 - val_valid_position_loss: 0.0000e+00 - val_valid_max_position_loss: 0.0000e+00 - val_valid_rotation_loss: 0.0000e+00 - val_valid_max_rotation_loss: 0.0000e+00\n",
            "Epoch 19/10000\n",
            "20/20 [==============================] - 51s 3s/step - train_loss: 0.0040 - valid_loss: 0.0000e+00 - train_act_with_enc_loss: 0.0039 - train_act_with_plan_loss: 0.0039 - valid_act_with_enc_loss: 0.0000e+00 - valid_act_with_plan_loss: 0.0000e+00 - reg_loss: 1.5759 - valid_reg_loss: 0.0000e+00 - valid_position_loss: 0.0000e+00 - valid_max_position_loss: 0.0000e+00 - valid_rotation_loss: 0.0000e+00 - valid_max_rotation_loss: 0.0000e+00 - beta: 3.0000e-05 - val_train_loss: 0.0000e+00 - val_valid_loss: 0.0040 - val_train_act_with_enc_loss: 0.0000e+00 - val_train_act_with_plan_loss: 0.0000e+00 - val_valid_act_with_enc_loss: 0.0039 - val_valid_act_with_plan_loss: 0.0039 - val_reg_loss: 0.0000e+00 - val_valid_reg_loss: 1.9276 - val_valid_position_loss: 0.0000e+00 - val_valid_max_position_loss: 0.0000e+00 - val_valid_rotation_loss: 0.0000e+00 - val_valid_max_rotation_loss: 0.0000e+00\n",
            "Epoch 20/10000\n",
            "20/20 [==============================] - 52s 3s/step - train_loss: 0.0039 - valid_loss: 0.0000e+00 - train_act_with_enc_loss: 0.0039 - train_act_with_plan_loss: 0.0039 - valid_act_with_enc_loss: 0.0000e+00 - valid_act_with_plan_loss: 0.0000e+00 - reg_loss: 1.5618 - valid_reg_loss: 0.0000e+00 - valid_position_loss: 0.0000e+00 - valid_max_position_loss: 0.0000e+00 - valid_rotation_loss: 0.0000e+00 - valid_max_rotation_loss: 0.0000e+00 - beta: 3.0000e-05 - val_train_loss: 0.0000e+00 - val_valid_loss: 0.0038 - val_train_act_with_enc_loss: 0.0000e+00 - val_train_act_with_plan_loss: 0.0000e+00 - val_valid_act_with_enc_loss: 0.0038 - val_valid_act_with_plan_loss: 0.0038 - val_reg_loss: 0.0000e+00 - val_valid_reg_loss: 1.3424 - val_valid_position_loss: 0.0000e+00 - val_valid_max_position_loss: 0.0000e+00 - val_valid_rotation_loss: 0.0000e+00 - val_valid_max_rotation_loss: 0.0000e+00\n",
            "Epoch 21/10000\n",
            "20/20 [==============================] - 49s 3s/step - train_loss: 0.0038 - valid_loss: 0.0000e+00 - train_act_with_enc_loss: 0.0038 - train_act_with_plan_loss: 0.0038 - valid_act_with_enc_loss: 0.0000e+00 - valid_act_with_plan_loss: 0.0000e+00 - reg_loss: 1.4818 - valid_reg_loss: 0.0000e+00 - valid_position_loss: 0.0000e+00 - valid_max_position_loss: 0.0000e+00 - valid_rotation_loss: 0.0000e+00 - valid_max_rotation_loss: 0.0000e+00 - beta: 3.0000e-05 - val_train_loss: 0.0000e+00 - val_valid_loss: 0.0039 - val_train_act_with_enc_loss: 0.0000e+00 - val_train_act_with_plan_loss: 0.0000e+00 - val_valid_act_with_enc_loss: 0.0038 - val_valid_act_with_plan_loss: 0.0038 - val_reg_loss: 0.0000e+00 - val_valid_reg_loss: 1.7122 - val_valid_position_loss: 0.0000e+00 - val_valid_max_position_loss: 0.0000e+00 - val_valid_rotation_loss: 0.0000e+00 - val_valid_max_rotation_loss: 0.0000e+00\n",
            "Epoch 22/10000\n",
            "20/20 [==============================] - 51s 3s/step - train_loss: 0.0037 - valid_loss: 0.0000e+00 - train_act_with_enc_loss: 0.0037 - train_act_with_plan_loss: 0.0037 - valid_act_with_enc_loss: 0.0000e+00 - valid_act_with_plan_loss: 0.0000e+00 - reg_loss: 1.4740 - valid_reg_loss: 0.0000e+00 - valid_position_loss: 0.0000e+00 - valid_max_position_loss: 0.0000e+00 - valid_rotation_loss: 0.0000e+00 - valid_max_rotation_loss: 0.0000e+00 - beta: 3.0000e-05 - val_train_loss: 0.0000e+00 - val_valid_loss: 0.0038 - val_train_act_with_enc_loss: 0.0000e+00 - val_train_act_with_plan_loss: 0.0000e+00 - val_valid_act_with_enc_loss: 0.0038 - val_valid_act_with_plan_loss: 0.0038 - val_reg_loss: 0.0000e+00 - val_valid_reg_loss: 1.4051 - val_valid_position_loss: 0.0000e+00 - val_valid_max_position_loss: 0.0000e+00 - val_valid_rotation_loss: 0.0000e+00 - val_valid_max_rotation_loss: 0.0000e+00\n",
            "Epoch 23/10000\n",
            "20/20 [==============================] - 49s 3s/step - train_loss: 0.0036 - valid_loss: 0.0000e+00 - train_act_with_enc_loss: 0.0036 - train_act_with_plan_loss: 0.0036 - valid_act_with_enc_loss: 0.0000e+00 - valid_act_with_plan_loss: 0.0000e+00 - reg_loss: 1.4365 - valid_reg_loss: 0.0000e+00 - valid_position_loss: 0.0000e+00 - valid_max_position_loss: 0.0000e+00 - valid_rotation_loss: 0.0000e+00 - valid_max_rotation_loss: 0.0000e+00 - beta: 3.0000e-05 - val_train_loss: 0.0000e+00 - val_valid_loss: 0.0038 - val_train_act_with_enc_loss: 0.0000e+00 - val_train_act_with_plan_loss: 0.0000e+00 - val_valid_act_with_enc_loss: 0.0038 - val_valid_act_with_plan_loss: 0.0038 - val_reg_loss: 0.0000e+00 - val_valid_reg_loss: 1.7766 - val_valid_position_loss: 0.0000e+00 - val_valid_max_position_loss: 0.0000e+00 - val_valid_rotation_loss: 0.0000e+00 - val_valid_max_rotation_loss: 0.0000e+00\n",
            "Epoch 24/10000\n",
            "20/20 [==============================] - 49s 3s/step - train_loss: 0.0038 - valid_loss: 0.0000e+00 - train_act_with_enc_loss: 0.0037 - train_act_with_plan_loss: 0.0038 - valid_act_with_enc_loss: 0.0000e+00 - valid_act_with_plan_loss: 0.0000e+00 - reg_loss: 1.9515 - valid_reg_loss: 0.0000e+00 - valid_position_loss: 0.0000e+00 - valid_max_position_loss: 0.0000e+00 - valid_rotation_loss: 0.0000e+00 - valid_max_rotation_loss: 0.0000e+00 - beta: 3.0000e-05 - val_train_loss: 0.0000e+00 - val_valid_loss: 0.0037 - val_train_act_with_enc_loss: 0.0000e+00 - val_train_act_with_plan_loss: 0.0000e+00 - val_valid_act_with_enc_loss: 0.0036 - val_valid_act_with_plan_loss: 0.0036 - val_reg_loss: 0.0000e+00 - val_valid_reg_loss: 2.1532 - val_valid_position_loss: 0.0000e+00 - val_valid_max_position_loss: 0.0000e+00 - val_valid_rotation_loss: 0.0000e+00 - val_valid_max_rotation_loss: 0.0000e+00\n",
            "Epoch 25/10000\n",
            "20/20 [==============================] - 50s 3s/step - train_loss: 0.0035 - valid_loss: 0.0000e+00 - train_act_with_enc_loss: 0.0035 - train_act_with_plan_loss: 0.0035 - valid_act_with_enc_loss: 0.0000e+00 - valid_act_with_plan_loss: 0.0000e+00 - reg_loss: 1.9447 - valid_reg_loss: 0.0000e+00 - valid_position_loss: 0.0000e+00 - valid_max_position_loss: 0.0000e+00 - valid_rotation_loss: 0.0000e+00 - valid_max_rotation_loss: 0.0000e+00 - beta: 3.0000e-05 - val_train_loss: 0.0000e+00 - val_valid_loss: 0.0037 - val_train_act_with_enc_loss: 0.0000e+00 - val_train_act_with_plan_loss: 0.0000e+00 - val_valid_act_with_enc_loss: 0.0036 - val_valid_act_with_plan_loss: 0.0036 - val_reg_loss: 0.0000e+00 - val_valid_reg_loss: 1.8731 - val_valid_position_loss: 0.0000e+00 - val_valid_max_position_loss: 0.0000e+00 - val_valid_rotation_loss: 0.0000e+00 - val_valid_max_rotation_loss: 0.0000e+00\n",
            "Epoch 26/10000\n",
            "20/20 [==============================] - 51s 3s/step - train_loss: 0.0035 - valid_loss: 0.0000e+00 - train_act_with_enc_loss: 0.0034 - train_act_with_plan_loss: 0.0035 - valid_act_with_enc_loss: 0.0000e+00 - valid_act_with_plan_loss: 0.0000e+00 - reg_loss: 1.9826 - valid_reg_loss: 0.0000e+00 - valid_position_loss: 0.0000e+00 - valid_max_position_loss: 0.0000e+00 - valid_rotation_loss: 0.0000e+00 - valid_max_rotation_loss: 0.0000e+00 - beta: 3.0000e-05 - val_train_loss: 0.0000e+00 - val_valid_loss: 0.0035 - val_train_act_with_enc_loss: 0.0000e+00 - val_train_act_with_plan_loss: 0.0000e+00 - val_valid_act_with_enc_loss: 0.0034 - val_valid_act_with_plan_loss: 0.0035 - val_reg_loss: 0.0000e+00 - val_valid_reg_loss: 1.7239 - val_valid_position_loss: 0.0000e+00 - val_valid_max_position_loss: 0.0000e+00 - val_valid_rotation_loss: 0.0000e+00 - val_valid_max_rotation_loss: 0.0000e+00\n",
            "Epoch 27/10000\n",
            "20/20 [==============================] - 48s 2s/step - train_loss: 0.0035 - valid_loss: 0.0000e+00 - train_act_with_enc_loss: 0.0034 - train_act_with_plan_loss: 0.0035 - valid_act_with_enc_loss: 0.0000e+00 - valid_act_with_plan_loss: 0.0000e+00 - reg_loss: 1.9309 - valid_reg_loss: 0.0000e+00 - valid_position_loss: 0.0000e+00 - valid_max_position_loss: 0.0000e+00 - valid_rotation_loss: 0.0000e+00 - valid_max_rotation_loss: 0.0000e+00 - beta: 3.0000e-05 - val_train_loss: 0.0000e+00 - val_valid_loss: 0.0035 - val_train_act_with_enc_loss: 0.0000e+00 - val_train_act_with_plan_loss: 0.0000e+00 - val_valid_act_with_enc_loss: 0.0034 - val_valid_act_with_plan_loss: 0.0035 - val_reg_loss: 0.0000e+00 - val_valid_reg_loss: 2.3097 - val_valid_position_loss: 0.0000e+00 - val_valid_max_position_loss: 0.0000e+00 - val_valid_rotation_loss: 0.0000e+00 - val_valid_max_rotation_loss: 0.0000e+00\n",
            "Epoch 28/10000\n",
            "20/20 [==============================] - 53s 3s/step - train_loss: 0.0034 - valid_loss: 0.0000e+00 - train_act_with_enc_loss: 0.0033 - train_act_with_plan_loss: 0.0034 - valid_act_with_enc_loss: 0.0000e+00 - valid_act_with_plan_loss: 0.0000e+00 - reg_loss: 1.9480 - valid_reg_loss: 0.0000e+00 - valid_position_loss: 0.0000e+00 - valid_max_position_loss: 0.0000e+00 - valid_rotation_loss: 0.0000e+00 - valid_max_rotation_loss: 0.0000e+00 - beta: 3.0000e-05 - val_train_loss: 0.0000e+00 - val_valid_loss: 0.0036 - val_train_act_with_enc_loss: 0.0000e+00 - val_train_act_with_plan_loss: 0.0000e+00 - val_valid_act_with_enc_loss: 0.0034 - val_valid_act_with_plan_loss: 0.0035 - val_reg_loss: 0.0000e+00 - val_valid_reg_loss: 1.6358 - val_valid_position_loss: 0.0000e+00 - val_valid_max_position_loss: 0.0000e+00 - val_valid_rotation_loss: 0.0000e+00 - val_valid_max_rotation_loss: 0.0000e+00\n",
            "Epoch 29/10000\n",
            "20/20 [==============================] - 49s 3s/step - train_loss: 0.0033 - valid_loss: 0.0000e+00 - train_act_with_enc_loss: 0.0032 - train_act_with_plan_loss: 0.0033 - valid_act_with_enc_loss: 0.0000e+00 - valid_act_with_plan_loss: 0.0000e+00 - reg_loss: 1.8968 - valid_reg_loss: 0.0000e+00 - valid_position_loss: 0.0000e+00 - valid_max_position_loss: 0.0000e+00 - valid_rotation_loss: 0.0000e+00 - valid_max_rotation_loss: 0.0000e+00 - beta: 3.0000e-05 - val_train_loss: 0.0000e+00 - val_valid_loss: 0.0034 - val_train_act_with_enc_loss: 0.0000e+00 - val_train_act_with_plan_loss: 0.0000e+00 - val_valid_act_with_enc_loss: 0.0033 - val_valid_act_with_plan_loss: 0.0033 - val_reg_loss: 0.0000e+00 - val_valid_reg_loss: 1.5688 - val_valid_position_loss: 0.0000e+00 - val_valid_max_position_loss: 0.0000e+00 - val_valid_rotation_loss: 0.0000e+00 - val_valid_max_rotation_loss: 0.0000e+00\n",
            "Epoch 30/10000\n",
            "20/20 [==============================] - 49s 3s/step - train_loss: 0.0033 - valid_loss: 0.0000e+00 - train_act_with_enc_loss: 0.0032 - train_act_with_plan_loss: 0.0033 - valid_act_with_enc_loss: 0.0000e+00 - valid_act_with_plan_loss: 0.0000e+00 - reg_loss: 1.8376 - valid_reg_loss: 0.0000e+00 - valid_position_loss: 0.0000e+00 - valid_max_position_loss: 0.0000e+00 - valid_rotation_loss: 0.0000e+00 - valid_max_rotation_loss: 0.0000e+00 - beta: 3.0000e-05 - val_train_loss: 0.0000e+00 - val_valid_loss: 0.0034 - val_train_act_with_enc_loss: 0.0000e+00 - val_train_act_with_plan_loss: 0.0000e+00 - val_valid_act_with_enc_loss: 0.0033 - val_valid_act_with_plan_loss: 0.0033 - val_reg_loss: 0.0000e+00 - val_valid_reg_loss: 2.1491 - val_valid_position_loss: 0.0000e+00 - val_valid_max_position_loss: 0.0000e+00 - val_valid_rotation_loss: 0.0000e+00 - val_valid_max_rotation_loss: 0.0000e+00\n",
            "Epoch 31/10000\n",
            "20/20 [==============================] - 53s 3s/step - train_loss: 0.0033 - valid_loss: 0.0000e+00 - train_act_with_enc_loss: 0.0032 - train_act_with_plan_loss: 0.0033 - valid_act_with_enc_loss: 0.0000e+00 - valid_act_with_plan_loss: 0.0000e+00 - reg_loss: 1.9531 - valid_reg_loss: 0.0000e+00 - valid_position_loss: 0.0000e+00 - valid_max_position_loss: 0.0000e+00 - valid_rotation_loss: 0.0000e+00 - valid_max_rotation_loss: 0.0000e+00 - beta: 3.0000e-05 - val_train_loss: 0.0000e+00 - val_valid_loss: 0.0035 - val_train_act_with_enc_loss: 0.0000e+00 - val_train_act_with_plan_loss: 0.0000e+00 - val_valid_act_with_enc_loss: 0.0033 - val_valid_act_with_plan_loss: 0.0035 - val_reg_loss: 0.0000e+00 - val_valid_reg_loss: 1.8421 - val_valid_position_loss: 0.0000e+00 - val_valid_max_position_loss: 0.0000e+00 - val_valid_rotation_loss: 0.0000e+00 - val_valid_max_rotation_loss: 0.0000e+00\n",
            "Epoch 32/10000\n",
            "20/20 [==============================] - 52s 3s/step - train_loss: 0.0033 - valid_loss: 0.0000e+00 - train_act_with_enc_loss: 0.0033 - train_act_with_plan_loss: 0.0034 - valid_act_with_enc_loss: 0.0000e+00 - valid_act_with_plan_loss: 0.0000e+00 - reg_loss: 2.1255 - valid_reg_loss: 0.0000e+00 - valid_position_loss: 0.0000e+00 - valid_max_position_loss: 0.0000e+00 - valid_rotation_loss: 0.0000e+00 - valid_max_rotation_loss: 0.0000e+00 - beta: 3.0000e-05 - val_train_loss: 0.0000e+00 - val_valid_loss: 0.0034 - val_train_act_with_enc_loss: 0.0000e+00 - val_train_act_with_plan_loss: 0.0000e+00 - val_valid_act_with_enc_loss: 0.0032 - val_valid_act_with_plan_loss: 0.0033 - val_reg_loss: 0.0000e+00 - val_valid_reg_loss: 1.8864 - val_valid_position_loss: 0.0000e+00 - val_valid_max_position_loss: 0.0000e+00 - val_valid_rotation_loss: 0.0000e+00 - val_valid_max_rotation_loss: 0.0000e+00\n",
            "Epoch 33/10000\n",
            "20/20 [==============================] - 52s 3s/step - train_loss: 0.0031 - valid_loss: 0.0000e+00 - train_act_with_enc_loss: 0.0031 - train_act_with_plan_loss: 0.0032 - valid_act_with_enc_loss: 0.0000e+00 - valid_act_with_plan_loss: 0.0000e+00 - reg_loss: 2.0497 - valid_reg_loss: 0.0000e+00 - valid_position_loss: 0.0000e+00 - valid_max_position_loss: 0.0000e+00 - valid_rotation_loss: 0.0000e+00 - valid_max_rotation_loss: 0.0000e+00 - beta: 3.0000e-05 - val_train_loss: 0.0000e+00 - val_valid_loss: 0.0033 - val_train_act_with_enc_loss: 0.0000e+00 - val_train_act_with_plan_loss: 0.0000e+00 - val_valid_act_with_enc_loss: 0.0031 - val_valid_act_with_plan_loss: 0.0032 - val_reg_loss: 0.0000e+00 - val_valid_reg_loss: 1.9401 - val_valid_position_loss: 0.0000e+00 - val_valid_max_position_loss: 0.0000e+00 - val_valid_rotation_loss: 0.0000e+00 - val_valid_max_rotation_loss: 0.0000e+00\n",
            "Epoch 34/10000\n",
            "20/20 [==============================] - 49s 3s/step - train_loss: 0.0031 - valid_loss: 0.0000e+00 - train_act_with_enc_loss: 0.0030 - train_act_with_plan_loss: 0.0032 - valid_act_with_enc_loss: 0.0000e+00 - valid_act_with_plan_loss: 0.0000e+00 - reg_loss: 1.9213 - valid_reg_loss: 0.0000e+00 - valid_position_loss: 0.0000e+00 - valid_max_position_loss: 0.0000e+00 - valid_rotation_loss: 0.0000e+00 - valid_max_rotation_loss: 0.0000e+00 - beta: 3.0000e-05 - val_train_loss: 0.0000e+00 - val_valid_loss: 0.0033 - val_train_act_with_enc_loss: 0.0000e+00 - val_train_act_with_plan_loss: 0.0000e+00 - val_valid_act_with_enc_loss: 0.0031 - val_valid_act_with_plan_loss: 0.0032 - val_reg_loss: 0.0000e+00 - val_valid_reg_loss: 1.6382 - val_valid_position_loss: 0.0000e+00 - val_valid_max_position_loss: 0.0000e+00 - val_valid_rotation_loss: 0.0000e+00 - val_valid_max_rotation_loss: 0.0000e+00\n",
            "Epoch 35/10000\n",
            "20/20 [==============================] - 49s 3s/step - train_loss: 0.0031 - valid_loss: 0.0000e+00 - train_act_with_enc_loss: 0.0031 - train_act_with_plan_loss: 0.0032 - valid_act_with_enc_loss: 0.0000e+00 - valid_act_with_plan_loss: 0.0000e+00 - reg_loss: 1.8593 - valid_reg_loss: 0.0000e+00 - valid_position_loss: 0.0000e+00 - valid_max_position_loss: 0.0000e+00 - valid_rotation_loss: 0.0000e+00 - valid_max_rotation_loss: 0.0000e+00 - beta: 3.0000e-05 - val_train_loss: 0.0000e+00 - val_valid_loss: 0.0032 - val_train_act_with_enc_loss: 0.0000e+00 - val_train_act_with_plan_loss: 0.0000e+00 - val_valid_act_with_enc_loss: 0.0030 - val_valid_act_with_plan_loss: 0.0031 - val_reg_loss: 0.0000e+00 - val_valid_reg_loss: 1.8836 - val_valid_position_loss: 0.0000e+00 - val_valid_max_position_loss: 0.0000e+00 - val_valid_rotation_loss: 0.0000e+00 - val_valid_max_rotation_loss: 0.0000e+00\n",
            "Epoch 36/10000\n",
            "20/20 [==============================] - 51s 3s/step - train_loss: 0.0030 - valid_loss: 0.0000e+00 - train_act_with_enc_loss: 0.0030 - train_act_with_plan_loss: 0.0031 - valid_act_with_enc_loss: 0.0000e+00 - valid_act_with_plan_loss: 0.0000e+00 - reg_loss: 1.9205 - valid_reg_loss: 0.0000e+00 - valid_position_loss: 0.0000e+00 - valid_max_position_loss: 0.0000e+00 - valid_rotation_loss: 0.0000e+00 - valid_max_rotation_loss: 0.0000e+00 - beta: 3.0000e-05 - val_train_loss: 0.0000e+00 - val_valid_loss: 0.0032 - val_train_act_with_enc_loss: 0.0000e+00 - val_train_act_with_plan_loss: 0.0000e+00 - val_valid_act_with_enc_loss: 0.0030 - val_valid_act_with_plan_loss: 0.0031 - val_reg_loss: 0.0000e+00 - val_valid_reg_loss: 1.6145 - val_valid_position_loss: 0.0000e+00 - val_valid_max_position_loss: 0.0000e+00 - val_valid_rotation_loss: 0.0000e+00 - val_valid_max_rotation_loss: 0.0000e+00\n",
            "Epoch 37/10000\n",
            "20/20 [==============================] - 50s 3s/step - train_loss: 0.0029 - valid_loss: 0.0000e+00 - train_act_with_enc_loss: 0.0029 - train_act_with_plan_loss: 0.0030 - valid_act_with_enc_loss: 0.0000e+00 - valid_act_with_plan_loss: 0.0000e+00 - reg_loss: 1.7635 - valid_reg_loss: 0.0000e+00 - valid_position_loss: 0.0000e+00 - valid_max_position_loss: 0.0000e+00 - valid_rotation_loss: 0.0000e+00 - valid_max_rotation_loss: 0.0000e+00 - beta: 3.0000e-05 - val_train_loss: 0.0000e+00 - val_valid_loss: 0.0032 - val_train_act_with_enc_loss: 0.0000e+00 - val_train_act_with_plan_loss: 0.0000e+00 - val_valid_act_with_enc_loss: 0.0030 - val_valid_act_with_plan_loss: 0.0031 - val_reg_loss: 0.0000e+00 - val_valid_reg_loss: 1.6547 - val_valid_position_loss: 0.0000e+00 - val_valid_max_position_loss: 0.0000e+00 - val_valid_rotation_loss: 0.0000e+00 - val_valid_max_rotation_loss: 0.0000e+00\n",
            "Epoch 38/10000\n",
            "20/20 [==============================] - 49s 3s/step - train_loss: 0.0029 - valid_loss: 0.0000e+00 - train_act_with_enc_loss: 0.0029 - train_act_with_plan_loss: 0.0030 - valid_act_with_enc_loss: 0.0000e+00 - valid_act_with_plan_loss: 0.0000e+00 - reg_loss: 1.7864 - valid_reg_loss: 0.0000e+00 - valid_position_loss: 0.0000e+00 - valid_max_position_loss: 0.0000e+00 - valid_rotation_loss: 0.0000e+00 - valid_max_rotation_loss: 0.0000e+00 - beta: 3.0000e-05 - val_train_loss: 0.0000e+00 - val_valid_loss: 0.0031 - val_train_act_with_enc_loss: 0.0000e+00 - val_train_act_with_plan_loss: 0.0000e+00 - val_valid_act_with_enc_loss: 0.0030 - val_valid_act_with_plan_loss: 0.0031 - val_reg_loss: 0.0000e+00 - val_valid_reg_loss: 1.4695 - val_valid_position_loss: 0.0000e+00 - val_valid_max_position_loss: 0.0000e+00 - val_valid_rotation_loss: 0.0000e+00 - val_valid_max_rotation_loss: 0.0000e+00\n",
            "Epoch 39/10000\n",
            "20/20 [==============================] - 51s 3s/step - train_loss: 0.0031 - valid_loss: 0.0000e+00 - train_act_with_enc_loss: 0.0030 - train_act_with_plan_loss: 0.0031 - valid_act_with_enc_loss: 0.0000e+00 - valid_act_with_plan_loss: 0.0000e+00 - reg_loss: 2.1412 - valid_reg_loss: 0.0000e+00 - valid_position_loss: 0.0000e+00 - valid_max_position_loss: 0.0000e+00 - valid_rotation_loss: 0.0000e+00 - valid_max_rotation_loss: 0.0000e+00 - beta: 3.0000e-05 - val_train_loss: 0.0000e+00 - val_valid_loss: 0.0033 - val_train_act_with_enc_loss: 0.0000e+00 - val_train_act_with_plan_loss: 0.0000e+00 - val_valid_act_with_enc_loss: 0.0030 - val_valid_act_with_plan_loss: 0.0032 - val_reg_loss: 0.0000e+00 - val_valid_reg_loss: 3.8270 - val_valid_position_loss: 0.0000e+00 - val_valid_max_position_loss: 0.0000e+00 - val_valid_rotation_loss: 0.0000e+00 - val_valid_max_rotation_loss: 0.0000e+00\n",
            "Epoch 40/10000\n",
            "20/20 [==============================] - 50s 3s/step - train_loss: 0.0030 - valid_loss: 0.0000e+00 - train_act_with_enc_loss: 0.0029 - train_act_with_plan_loss: 0.0031 - valid_act_with_enc_loss: 0.0000e+00 - valid_act_with_plan_loss: 0.0000e+00 - reg_loss: 2.2311 - valid_reg_loss: 0.0000e+00 - valid_position_loss: 0.0000e+00 - valid_max_position_loss: 0.0000e+00 - valid_rotation_loss: 0.0000e+00 - valid_max_rotation_loss: 0.0000e+00 - beta: 3.0000e-05 - val_train_loss: 0.0000e+00 - val_valid_loss: 0.0032 - val_train_act_with_enc_loss: 0.0000e+00 - val_train_act_with_plan_loss: 0.0000e+00 - val_valid_act_with_enc_loss: 0.0030 - val_valid_act_with_plan_loss: 0.0031 - val_reg_loss: 0.0000e+00 - val_valid_reg_loss: 1.8937 - val_valid_position_loss: 0.0000e+00 - val_valid_max_position_loss: 0.0000e+00 - val_valid_rotation_loss: 0.0000e+00 - val_valid_max_rotation_loss: 0.0000e+00\n",
            "Epoch 41/10000\n",
            "20/20 [==============================] - 50s 3s/step - train_loss: 0.0029 - valid_loss: 0.0000e+00 - train_act_with_enc_loss: 0.0028 - train_act_with_plan_loss: 0.0030 - valid_act_with_enc_loss: 0.0000e+00 - valid_act_with_plan_loss: 0.0000e+00 - reg_loss: 1.8643 - valid_reg_loss: 0.0000e+00 - valid_position_loss: 0.0000e+00 - valid_max_position_loss: 0.0000e+00 - valid_rotation_loss: 0.0000e+00 - valid_max_rotation_loss: 0.0000e+00 - beta: 3.0000e-05 - val_train_loss: 0.0000e+00 - val_valid_loss: 0.0030 - val_train_act_with_enc_loss: 0.0000e+00 - val_train_act_with_plan_loss: 0.0000e+00 - val_valid_act_with_enc_loss: 0.0028 - val_valid_act_with_plan_loss: 0.0030 - val_reg_loss: 0.0000e+00 - val_valid_reg_loss: 1.5222 - val_valid_position_loss: 0.0000e+00 - val_valid_max_position_loss: 0.0000e+00 - val_valid_rotation_loss: 0.0000e+00 - val_valid_max_rotation_loss: 0.0000e+00\n",
            "Epoch 42/10000\n",
            "20/20 [==============================] - 52s 3s/step - train_loss: 0.0028 - valid_loss: 0.0000e+00 - train_act_with_enc_loss: 0.0028 - train_act_with_plan_loss: 0.0030 - valid_act_with_enc_loss: 0.0000e+00 - valid_act_with_plan_loss: 0.0000e+00 - reg_loss: 1.6544 - valid_reg_loss: 0.0000e+00 - valid_position_loss: 0.0000e+00 - valid_max_position_loss: 0.0000e+00 - valid_rotation_loss: 0.0000e+00 - valid_max_rotation_loss: 0.0000e+00 - beta: 3.0000e-05 - val_train_loss: 0.0000e+00 - val_valid_loss: 0.0031 - val_train_act_with_enc_loss: 0.0000e+00 - val_train_act_with_plan_loss: 0.0000e+00 - val_valid_act_with_enc_loss: 0.0029 - val_valid_act_with_plan_loss: 0.0030 - val_reg_loss: 0.0000e+00 - val_valid_reg_loss: 1.4641 - val_valid_position_loss: 0.0000e+00 - val_valid_max_position_loss: 0.0000e+00 - val_valid_rotation_loss: 0.0000e+00 - val_valid_max_rotation_loss: 0.0000e+00\n",
            "Epoch 43/10000\n",
            "20/20 [==============================] - 52s 3s/step - train_loss: 0.0029 - valid_loss: 0.0000e+00 - train_act_with_enc_loss: 0.0028 - train_act_with_plan_loss: 0.0030 - valid_act_with_enc_loss: 0.0000e+00 - valid_act_with_plan_loss: 0.0000e+00 - reg_loss: 1.6701 - valid_reg_loss: 0.0000e+00 - valid_position_loss: 0.0000e+00 - valid_max_position_loss: 0.0000e+00 - valid_rotation_loss: 0.0000e+00 - valid_max_rotation_loss: 0.0000e+00 - beta: 3.0000e-05 - val_train_loss: 0.0000e+00 - val_valid_loss: 0.0029 - val_train_act_with_enc_loss: 0.0000e+00 - val_train_act_with_plan_loss: 0.0000e+00 - val_valid_act_with_enc_loss: 0.0028 - val_valid_act_with_plan_loss: 0.0029 - val_reg_loss: 0.0000e+00 - val_valid_reg_loss: 1.4618 - val_valid_position_loss: 0.0000e+00 - val_valid_max_position_loss: 0.0000e+00 - val_valid_rotation_loss: 0.0000e+00 - val_valid_max_rotation_loss: 0.0000e+00\n",
            "Epoch 44/10000\n",
            "20/20 [==============================] - 51s 3s/step - train_loss: 0.0028 - valid_loss: 0.0000e+00 - train_act_with_enc_loss: 0.0027 - train_act_with_plan_loss: 0.0029 - valid_act_with_enc_loss: 0.0000e+00 - valid_act_with_plan_loss: 0.0000e+00 - reg_loss: 1.5671 - valid_reg_loss: 0.0000e+00 - valid_position_loss: 0.0000e+00 - valid_max_position_loss: 0.0000e+00 - valid_rotation_loss: 0.0000e+00 - valid_max_rotation_loss: 0.0000e+00 - beta: 3.0000e-05 - val_train_loss: 0.0000e+00 - val_valid_loss: 0.0030 - val_train_act_with_enc_loss: 0.0000e+00 - val_train_act_with_plan_loss: 0.0000e+00 - val_valid_act_with_enc_loss: 0.0028 - val_valid_act_with_plan_loss: 0.0030 - val_reg_loss: 0.0000e+00 - val_valid_reg_loss: 1.3602 - val_valid_position_loss: 0.0000e+00 - val_valid_max_position_loss: 0.0000e+00 - val_valid_rotation_loss: 0.0000e+00 - val_valid_max_rotation_loss: 0.0000e+00\n",
            "Epoch 45/10000\n",
            "20/20 [==============================] - 51s 3s/step - train_loss: 0.0028 - valid_loss: 0.0000e+00 - train_act_with_enc_loss: 0.0027 - train_act_with_plan_loss: 0.0029 - valid_act_with_enc_loss: 0.0000e+00 - valid_act_with_plan_loss: 0.0000e+00 - reg_loss: 1.5501 - valid_reg_loss: 0.0000e+00 - valid_position_loss: 0.0000e+00 - valid_max_position_loss: 0.0000e+00 - valid_rotation_loss: 0.0000e+00 - valid_max_rotation_loss: 0.0000e+00 - beta: 3.0000e-05 - val_train_loss: 0.0000e+00 - val_valid_loss: 0.0030 - val_train_act_with_enc_loss: 0.0000e+00 - val_train_act_with_plan_loss: 0.0000e+00 - val_valid_act_with_enc_loss: 0.0028 - val_valid_act_with_plan_loss: 0.0030 - val_reg_loss: 0.0000e+00 - val_valid_reg_loss: 1.3126 - val_valid_position_loss: 0.0000e+00 - val_valid_max_position_loss: 0.0000e+00 - val_valid_rotation_loss: 0.0000e+00 - val_valid_max_rotation_loss: 0.0000e+00\n",
            "Epoch 46/10000\n",
            "20/20 [==============================] - 51s 3s/step - train_loss: 0.0027 - valid_loss: 0.0000e+00 - train_act_with_enc_loss: 0.0027 - train_act_with_plan_loss: 0.0028 - valid_act_with_enc_loss: 0.0000e+00 - valid_act_with_plan_loss: 0.0000e+00 - reg_loss: 1.5316 - valid_reg_loss: 0.0000e+00 - valid_position_loss: 0.0000e+00 - valid_max_position_loss: 0.0000e+00 - valid_rotation_loss: 0.0000e+00 - valid_max_rotation_loss: 0.0000e+00 - beta: 3.0000e-05 - val_train_loss: 0.0000e+00 - val_valid_loss: 0.0029 - val_train_act_with_enc_loss: 0.0000e+00 - val_train_act_with_plan_loss: 0.0000e+00 - val_valid_act_with_enc_loss: 0.0027 - val_valid_act_with_plan_loss: 0.0028 - val_reg_loss: 0.0000e+00 - val_valid_reg_loss: 1.2914 - val_valid_position_loss: 0.0000e+00 - val_valid_max_position_loss: 0.0000e+00 - val_valid_rotation_loss: 0.0000e+00 - val_valid_max_rotation_loss: 0.0000e+00\n",
            "Epoch 47/10000\n",
            "20/20 [==============================] - 52s 3s/step - train_loss: 0.0029 - valid_loss: 0.0000e+00 - train_act_with_enc_loss: 0.0028 - train_act_with_plan_loss: 0.0030 - valid_act_with_enc_loss: 0.0000e+00 - valid_act_with_plan_loss: 0.0000e+00 - reg_loss: 1.5827 - valid_reg_loss: 0.0000e+00 - valid_position_loss: 0.0000e+00 - valid_max_position_loss: 0.0000e+00 - valid_rotation_loss: 0.0000e+00 - valid_max_rotation_loss: 0.0000e+00 - beta: 3.0000e-05 - val_train_loss: 0.0000e+00 - val_valid_loss: 0.0029 - val_train_act_with_enc_loss: 0.0000e+00 - val_train_act_with_plan_loss: 0.0000e+00 - val_valid_act_with_enc_loss: 0.0028 - val_valid_act_with_plan_loss: 0.0029 - val_reg_loss: 0.0000e+00 - val_valid_reg_loss: 1.5937 - val_valid_position_loss: 0.0000e+00 - val_valid_max_position_loss: 0.0000e+00 - val_valid_rotation_loss: 0.0000e+00 - val_valid_max_rotation_loss: 0.0000e+00\n",
            "Epoch 48/10000\n",
            "20/20 [==============================] - 52s 3s/step - train_loss: 0.0027 - valid_loss: 0.0000e+00 - train_act_with_enc_loss: 0.0027 - train_act_with_plan_loss: 0.0028 - valid_act_with_enc_loss: 0.0000e+00 - valid_act_with_plan_loss: 0.0000e+00 - reg_loss: 1.6830 - valid_reg_loss: 0.0000e+00 - valid_position_loss: 0.0000e+00 - valid_max_position_loss: 0.0000e+00 - valid_rotation_loss: 0.0000e+00 - valid_max_rotation_loss: 0.0000e+00 - beta: 3.0000e-05 - val_train_loss: 0.0000e+00 - val_valid_loss: 0.0029 - val_train_act_with_enc_loss: 0.0000e+00 - val_train_act_with_plan_loss: 0.0000e+00 - val_valid_act_with_enc_loss: 0.0027 - val_valid_act_with_plan_loss: 0.0029 - val_reg_loss: 0.0000e+00 - val_valid_reg_loss: 1.4581 - val_valid_position_loss: 0.0000e+00 - val_valid_max_position_loss: 0.0000e+00 - val_valid_rotation_loss: 0.0000e+00 - val_valid_max_rotation_loss: 0.0000e+00\n",
            "Epoch 49/10000\n",
            "20/20 [==============================] - 49s 3s/step - train_loss: 0.0027 - valid_loss: 0.0000e+00 - train_act_with_enc_loss: 0.0026 - train_act_with_plan_loss: 0.0028 - valid_act_with_enc_loss: 0.0000e+00 - valid_act_with_plan_loss: 0.0000e+00 - reg_loss: 1.6031 - valid_reg_loss: 0.0000e+00 - valid_position_loss: 0.0000e+00 - valid_max_position_loss: 0.0000e+00 - valid_rotation_loss: 0.0000e+00 - valid_max_rotation_loss: 0.0000e+00 - beta: 3.0000e-05 - val_train_loss: 0.0000e+00 - val_valid_loss: 0.0028 - val_train_act_with_enc_loss: 0.0000e+00 - val_train_act_with_plan_loss: 0.0000e+00 - val_valid_act_with_enc_loss: 0.0026 - val_valid_act_with_plan_loss: 0.0028 - val_reg_loss: 0.0000e+00 - val_valid_reg_loss: 1.3924 - val_valid_position_loss: 0.0000e+00 - val_valid_max_position_loss: 0.0000e+00 - val_valid_rotation_loss: 0.0000e+00 - val_valid_max_rotation_loss: 0.0000e+00\n",
            "Epoch 50/10000\n",
            "20/20 [==============================] - ETA: 0s - train_loss: 0.0027 - valid_loss: 0.0000e+00 - train_act_with_enc_loss: 0.0027 - train_act_with_plan_loss: 0.0028 - valid_act_with_enc_loss: 0.0000e+00 - valid_act_with_plan_loss: 0.0000e+00 - reg_loss: 1.5287 - valid_reg_loss: 0.0000e+00 - valid_position_loss: 0.0000e+00 - valid_max_position_loss: 0.0000e+00 - valid_rotation_loss: 0.0000e+00 - valid_max_rotation_loss: 0.0000e+00 - beta: 3.0000e-05WARNING:tensorflow:Can save best model only with val_total_loss available, skipping.\n"
          ],
          "name": "stdout"
        },
        {
          "output_type": "stream",
          "text": [
            "WARNING:tensorflow:Can save best model only with val_total_loss available, skipping.\n"
          ],
          "name": "stderr"
        },
        {
          "output_type": "stream",
          "text": [
            "\b\b\b\b\b\b\b\b\b\b\b\b\b\b\b\b\b\b\b\b\b\b\b\b\b\b\b\b\b\b\b\b\b\b\b\b\b\b\b\b\b\b\b\b\b\b\b\b\b\b\b\b\b\b\b\b\b\b\b\b\b\b\b\b\b\b\b\b\b\b\b\b\b\b\b\b\b\b\b\b\b\b\b\b\b\b\b\b\b\b\b\b\b\b\b\b\b\b\b\b\b\b\b\b\b\b\b\b\b\b\b\b\b\b\b\b\b\b\b\b\b\b\b\b\b\b\b\b\b\b\b\b\b\b\b\b\b\b\b\b\b\b\b\b\b\b\b\b\b\b\b\b\b\b\b\b\b\b\b\b\b\b\b\b\b\b\b\b\b\b\b\b\b\b\b\b\b\b\b\b\b\b\b\b\b\b\b\b\b\b\b\b\b\b\b\b\b\b\b\b\b\b\b\b\b\b\b\b\b\b\b\b\b\b\b\b\b\b\b\b\b\b\b\b\b\b\b\b\b\b\b\b\b\b\b\b\b\b\b\b\b\b\b\b\b\b\b\b\b\b\b\b\b\b\b\b\b\b\b\b\b\b\b\b\b\b\b\b\b\b\b\b\b\b\b\b\b\b\b\b\b\b\b\b\b\b\b\b\b\b\b\b\b\b\b\b\b\b\b\b\b\b\b\b\b\b\b\b\b\b\b\b\b\b\b\b\b\b\b\b\b\b\b\b\b\b\b\b\b\b\b\b\b\b\b\b\b\b\b\b\b\b\b\b\b\b\b\b\b\b\b\b\b\b\b\b\b\b\b\b\b\b\b\b\b\b\b\b\b\b\b\b\b\b\b\b\b\b\b\b\b\b\b\b\b\b\b\b\b\b\b\b\b\b\b\b\b\b\b\b\b\b\b\b\b\b\b\b\b\b\b\b\b\b\b\b\b\b\b\b\b\b\b\b\b\b\b\b\b\b\b\b\b\b\b\b\b\b\b\b\b\b\b\b\b\b\b\b\b\b\b\r20/20 [==============================] - 51s 3s/step - train_loss: 0.0027 - valid_loss: 0.0000e+00 - train_act_with_enc_loss: 0.0027 - train_act_with_plan_loss: 0.0028 - valid_act_with_enc_loss: 0.0000e+00 - valid_act_with_plan_loss: 0.0000e+00 - reg_loss: 1.5287 - valid_reg_loss: 0.0000e+00 - valid_position_loss: 0.0000e+00 - valid_max_position_loss: 0.0000e+00 - valid_rotation_loss: 0.0000e+00 - valid_max_rotation_loss: 0.0000e+00 - beta: 3.0000e-05 - val_train_loss: 0.0000e+00 - val_valid_loss: 0.0029 - val_train_act_with_enc_loss: 0.0000e+00 - val_train_act_with_plan_loss: 0.0000e+00 - val_valid_act_with_enc_loss: 0.0027 - val_valid_act_with_plan_loss: 0.0028 - val_reg_loss: 0.0000e+00 - val_valid_reg_loss: 1.3697 - val_valid_position_loss: 0.0000e+00 - val_valid_max_position_loss: 0.0000e+00 - val_valid_rotation_loss: 0.0000e+00 - val_valid_max_rotation_loss: 0.0000e+00\n",
            "Epoch 51/10000\n",
            "20/20 [==============================] - 51s 3s/step - train_loss: 0.0027 - valid_loss: 0.0000e+00 - train_act_with_enc_loss: 0.0026 - train_act_with_plan_loss: 0.0028 - valid_act_with_enc_loss: 0.0000e+00 - valid_act_with_plan_loss: 0.0000e+00 - reg_loss: 1.6101 - valid_reg_loss: 0.0000e+00 - valid_position_loss: 0.0000e+00 - valid_max_position_loss: 0.0000e+00 - valid_rotation_loss: 0.0000e+00 - valid_max_rotation_loss: 0.0000e+00 - beta: 3.0000e-05 - val_train_loss: 0.0000e+00 - val_valid_loss: 0.0029 - val_train_act_with_enc_loss: 0.0000e+00 - val_train_act_with_plan_loss: 0.0000e+00 - val_valid_act_with_enc_loss: 0.0027 - val_valid_act_with_plan_loss: 0.0028 - val_reg_loss: 0.0000e+00 - val_valid_reg_loss: 1.4353 - val_valid_position_loss: 0.0000e+00 - val_valid_max_position_loss: 0.0000e+00 - val_valid_rotation_loss: 0.0000e+00 - val_valid_max_rotation_loss: 0.0000e+00\n",
            "Epoch 52/10000\n",
            "20/20 [==============================] - 50s 3s/step - train_loss: 0.0027 - valid_loss: 0.0000e+00 - train_act_with_enc_loss: 0.0026 - train_act_with_plan_loss: 0.0028 - valid_act_with_enc_loss: 0.0000e+00 - valid_act_with_plan_loss: 0.0000e+00 - reg_loss: 1.4982 - valid_reg_loss: 0.0000e+00 - valid_position_loss: 0.0000e+00 - valid_max_position_loss: 0.0000e+00 - valid_rotation_loss: 0.0000e+00 - valid_max_rotation_loss: 0.0000e+00 - beta: 3.0000e-05 - val_train_loss: 0.0000e+00 - val_valid_loss: 0.0028 - val_train_act_with_enc_loss: 0.0000e+00 - val_train_act_with_plan_loss: 0.0000e+00 - val_valid_act_with_enc_loss: 0.0026 - val_valid_act_with_plan_loss: 0.0028 - val_reg_loss: 0.0000e+00 - val_valid_reg_loss: 1.4379 - val_valid_position_loss: 0.0000e+00 - val_valid_max_position_loss: 0.0000e+00 - val_valid_rotation_loss: 0.0000e+00 - val_valid_max_rotation_loss: 0.0000e+00\n",
            "Epoch 53/10000\n",
            "20/20 [==============================] - 52s 3s/step - train_loss: 0.0026 - valid_loss: 0.0000e+00 - train_act_with_enc_loss: 0.0026 - train_act_with_plan_loss: 0.0027 - valid_act_with_enc_loss: 0.0000e+00 - valid_act_with_plan_loss: 0.0000e+00 - reg_loss: 1.5065 - valid_reg_loss: 0.0000e+00 - valid_position_loss: 0.0000e+00 - valid_max_position_loss: 0.0000e+00 - valid_rotation_loss: 0.0000e+00 - valid_max_rotation_loss: 0.0000e+00 - beta: 3.0000e-05 - val_train_loss: 0.0000e+00 - val_valid_loss: 0.0028 - val_train_act_with_enc_loss: 0.0000e+00 - val_train_act_with_plan_loss: 0.0000e+00 - val_valid_act_with_enc_loss: 0.0027 - val_valid_act_with_plan_loss: 0.0028 - val_reg_loss: 0.0000e+00 - val_valid_reg_loss: 1.4163 - val_valid_position_loss: 0.0000e+00 - val_valid_max_position_loss: 0.0000e+00 - val_valid_rotation_loss: 0.0000e+00 - val_valid_max_rotation_loss: 0.0000e+00\n",
            "Epoch 54/10000\n",
            "20/20 [==============================] - 51s 3s/step - train_loss: 0.0026 - valid_loss: 0.0000e+00 - train_act_with_enc_loss: 0.0026 - train_act_with_plan_loss: 0.0027 - valid_act_with_enc_loss: 0.0000e+00 - valid_act_with_plan_loss: 0.0000e+00 - reg_loss: 1.4393 - valid_reg_loss: 0.0000e+00 - valid_position_loss: 0.0000e+00 - valid_max_position_loss: 0.0000e+00 - valid_rotation_loss: 0.0000e+00 - valid_max_rotation_loss: 0.0000e+00 - beta: 3.0000e-05 - val_train_loss: 0.0000e+00 - val_valid_loss: 0.0030 - val_train_act_with_enc_loss: 0.0000e+00 - val_train_act_with_plan_loss: 0.0000e+00 - val_valid_act_with_enc_loss: 0.0028 - val_valid_act_with_plan_loss: 0.0030 - val_reg_loss: 0.0000e+00 - val_valid_reg_loss: 1.3447 - val_valid_position_loss: 0.0000e+00 - val_valid_max_position_loss: 0.0000e+00 - val_valid_rotation_loss: 0.0000e+00 - val_valid_max_rotation_loss: 0.0000e+00\n",
            "Epoch 55/10000\n",
            "20/20 [==============================] - 52s 3s/step - train_loss: 0.0028 - valid_loss: 0.0000e+00 - train_act_with_enc_loss: 0.0027 - train_act_with_plan_loss: 0.0029 - valid_act_with_enc_loss: 0.0000e+00 - valid_act_with_plan_loss: 0.0000e+00 - reg_loss: 1.7301 - valid_reg_loss: 0.0000e+00 - valid_position_loss: 0.0000e+00 - valid_max_position_loss: 0.0000e+00 - valid_rotation_loss: 0.0000e+00 - valid_max_rotation_loss: 0.0000e+00 - beta: 3.0000e-05 - val_train_loss: 0.0000e+00 - val_valid_loss: 0.0029 - val_train_act_with_enc_loss: 0.0000e+00 - val_train_act_with_plan_loss: 0.0000e+00 - val_valid_act_with_enc_loss: 0.0027 - val_valid_act_with_plan_loss: 0.0029 - val_reg_loss: 0.0000e+00 - val_valid_reg_loss: 1.5164 - val_valid_position_loss: 0.0000e+00 - val_valid_max_position_loss: 0.0000e+00 - val_valid_rotation_loss: 0.0000e+00 - val_valid_max_rotation_loss: 0.0000e+00\n",
            "Epoch 56/10000\n",
            "20/20 [==============================] - 52s 3s/step - train_loss: 0.0026 - valid_loss: 0.0000e+00 - train_act_with_enc_loss: 0.0025 - train_act_with_plan_loss: 0.0027 - valid_act_with_enc_loss: 0.0000e+00 - valid_act_with_plan_loss: 0.0000e+00 - reg_loss: 1.6713 - valid_reg_loss: 0.0000e+00 - valid_position_loss: 0.0000e+00 - valid_max_position_loss: 0.0000e+00 - valid_rotation_loss: 0.0000e+00 - valid_max_rotation_loss: 0.0000e+00 - beta: 3.0000e-05 - val_train_loss: 0.0000e+00 - val_valid_loss: 0.0028 - val_train_act_with_enc_loss: 0.0000e+00 - val_train_act_with_plan_loss: 0.0000e+00 - val_valid_act_with_enc_loss: 0.0026 - val_valid_act_with_plan_loss: 0.0028 - val_reg_loss: 0.0000e+00 - val_valid_reg_loss: 1.6448 - val_valid_position_loss: 0.0000e+00 - val_valid_max_position_loss: 0.0000e+00 - val_valid_rotation_loss: 0.0000e+00 - val_valid_max_rotation_loss: 0.0000e+00\n",
            "Epoch 57/10000\n",
            "20/20 [==============================] - 50s 3s/step - train_loss: 0.0026 - valid_loss: 0.0000e+00 - train_act_with_enc_loss: 0.0025 - train_act_with_plan_loss: 0.0027 - valid_act_with_enc_loss: 0.0000e+00 - valid_act_with_plan_loss: 0.0000e+00 - reg_loss: 1.5803 - valid_reg_loss: 0.0000e+00 - valid_position_loss: 0.0000e+00 - valid_max_position_loss: 0.0000e+00 - valid_rotation_loss: 0.0000e+00 - valid_max_rotation_loss: 0.0000e+00 - beta: 3.0000e-05 - val_train_loss: 0.0000e+00 - val_valid_loss: 0.0028 - val_train_act_with_enc_loss: 0.0000e+00 - val_train_act_with_plan_loss: 0.0000e+00 - val_valid_act_with_enc_loss: 0.0026 - val_valid_act_with_plan_loss: 0.0027 - val_reg_loss: 0.0000e+00 - val_valid_reg_loss: 1.5260 - val_valid_position_loss: 0.0000e+00 - val_valid_max_position_loss: 0.0000e+00 - val_valid_rotation_loss: 0.0000e+00 - val_valid_max_rotation_loss: 0.0000e+00\n",
            "Epoch 58/10000\n",
            "20/20 [==============================] - 51s 3s/step - train_loss: 0.0026 - valid_loss: 0.0000e+00 - train_act_with_enc_loss: 0.0026 - train_act_with_plan_loss: 0.0027 - valid_act_with_enc_loss: 0.0000e+00 - valid_act_with_plan_loss: 0.0000e+00 - reg_loss: 1.5000 - valid_reg_loss: 0.0000e+00 - valid_position_loss: 0.0000e+00 - valid_max_position_loss: 0.0000e+00 - valid_rotation_loss: 0.0000e+00 - valid_max_rotation_loss: 0.0000e+00 - beta: 3.0000e-05 - val_train_loss: 0.0000e+00 - val_valid_loss: 0.0027 - val_train_act_with_enc_loss: 0.0000e+00 - val_train_act_with_plan_loss: 0.0000e+00 - val_valid_act_with_enc_loss: 0.0025 - val_valid_act_with_plan_loss: 0.0027 - val_reg_loss: 0.0000e+00 - val_valid_reg_loss: 1.4182 - val_valid_position_loss: 0.0000e+00 - val_valid_max_position_loss: 0.0000e+00 - val_valid_rotation_loss: 0.0000e+00 - val_valid_max_rotation_loss: 0.0000e+00\n",
            "Epoch 59/10000\n",
            "20/20 [==============================] - 50s 3s/step - train_loss: 0.0026 - valid_loss: 0.0000e+00 - train_act_with_enc_loss: 0.0025 - train_act_with_plan_loss: 0.0027 - valid_act_with_enc_loss: 0.0000e+00 - valid_act_with_plan_loss: 0.0000e+00 - reg_loss: 1.5176 - valid_reg_loss: 0.0000e+00 - valid_position_loss: 0.0000e+00 - valid_max_position_loss: 0.0000e+00 - valid_rotation_loss: 0.0000e+00 - valid_max_rotation_loss: 0.0000e+00 - beta: 3.0000e-05 - val_train_loss: 0.0000e+00 - val_valid_loss: 0.0027 - val_train_act_with_enc_loss: 0.0000e+00 - val_train_act_with_plan_loss: 0.0000e+00 - val_valid_act_with_enc_loss: 0.0025 - val_valid_act_with_plan_loss: 0.0027 - val_reg_loss: 0.0000e+00 - val_valid_reg_loss: 1.3884 - val_valid_position_loss: 0.0000e+00 - val_valid_max_position_loss: 0.0000e+00 - val_valid_rotation_loss: 0.0000e+00 - val_valid_max_rotation_loss: 0.0000e+00\n",
            "Epoch 60/10000\n",
            "20/20 [==============================] - 51s 3s/step - train_loss: 0.0026 - valid_loss: 0.0000e+00 - train_act_with_enc_loss: 0.0025 - train_act_with_plan_loss: 0.0027 - valid_act_with_enc_loss: 0.0000e+00 - valid_act_with_plan_loss: 0.0000e+00 - reg_loss: 1.4519 - valid_reg_loss: 0.0000e+00 - valid_position_loss: 0.0000e+00 - valid_max_position_loss: 0.0000e+00 - valid_rotation_loss: 0.0000e+00 - valid_max_rotation_loss: 0.0000e+00 - beta: 3.0000e-05 - val_train_loss: 0.0000e+00 - val_valid_loss: 0.0027 - val_train_act_with_enc_loss: 0.0000e+00 - val_train_act_with_plan_loss: 0.0000e+00 - val_valid_act_with_enc_loss: 0.0025 - val_valid_act_with_plan_loss: 0.0027 - val_reg_loss: 0.0000e+00 - val_valid_reg_loss: 1.2810 - val_valid_position_loss: 0.0000e+00 - val_valid_max_position_loss: 0.0000e+00 - val_valid_rotation_loss: 0.0000e+00 - val_valid_max_rotation_loss: 0.0000e+00\n",
            "Epoch 61/10000\n",
            "20/20 [==============================] - 53s 3s/step - train_loss: 0.0026 - valid_loss: 0.0000e+00 - train_act_with_enc_loss: 0.0025 - train_act_with_plan_loss: 0.0027 - valid_act_with_enc_loss: 0.0000e+00 - valid_act_with_plan_loss: 0.0000e+00 - reg_loss: 1.4542 - valid_reg_loss: 0.0000e+00 - valid_position_loss: 0.0000e+00 - valid_max_position_loss: 0.0000e+00 - valid_rotation_loss: 0.0000e+00 - valid_max_rotation_loss: 0.0000e+00 - beta: 3.0000e-05 - val_train_loss: 0.0000e+00 - val_valid_loss: 0.0027 - val_train_act_with_enc_loss: 0.0000e+00 - val_train_act_with_plan_loss: 0.0000e+00 - val_valid_act_with_enc_loss: 0.0025 - val_valid_act_with_plan_loss: 0.0027 - val_reg_loss: 0.0000e+00 - val_valid_reg_loss: 1.4163 - val_valid_position_loss: 0.0000e+00 - val_valid_max_position_loss: 0.0000e+00 - val_valid_rotation_loss: 0.0000e+00 - val_valid_max_rotation_loss: 0.0000e+00\n",
            "Epoch 62/10000\n",
            "20/20 [==============================] - 52s 3s/step - train_loss: 0.0026 - valid_loss: 0.0000e+00 - train_act_with_enc_loss: 0.0026 - train_act_with_plan_loss: 0.0027 - valid_act_with_enc_loss: 0.0000e+00 - valid_act_with_plan_loss: 0.0000e+00 - reg_loss: 1.4375 - valid_reg_loss: 0.0000e+00 - valid_position_loss: 0.0000e+00 - valid_max_position_loss: 0.0000e+00 - valid_rotation_loss: 0.0000e+00 - valid_max_rotation_loss: 0.0000e+00 - beta: 3.0000e-05 - val_train_loss: 0.0000e+00 - val_valid_loss: 0.0028 - val_train_act_with_enc_loss: 0.0000e+00 - val_train_act_with_plan_loss: 0.0000e+00 - val_valid_act_with_enc_loss: 0.0026 - val_valid_act_with_plan_loss: 0.0028 - val_reg_loss: 0.0000e+00 - val_valid_reg_loss: 1.6154 - val_valid_position_loss: 0.0000e+00 - val_valid_max_position_loss: 0.0000e+00 - val_valid_rotation_loss: 0.0000e+00 - val_valid_max_rotation_loss: 0.0000e+00\n",
            "Epoch 63/10000\n",
            "20/20 [==============================] - 52s 3s/step - train_loss: 0.0026 - valid_loss: 0.0000e+00 - train_act_with_enc_loss: 0.0025 - train_act_with_plan_loss: 0.0027 - valid_act_with_enc_loss: 0.0000e+00 - valid_act_with_plan_loss: 0.0000e+00 - reg_loss: 1.6126 - valid_reg_loss: 0.0000e+00 - valid_position_loss: 0.0000e+00 - valid_max_position_loss: 0.0000e+00 - valid_rotation_loss: 0.0000e+00 - valid_max_rotation_loss: 0.0000e+00 - beta: 3.0000e-05 - val_train_loss: 0.0000e+00 - val_valid_loss: 0.0028 - val_train_act_with_enc_loss: 0.0000e+00 - val_train_act_with_plan_loss: 0.0000e+00 - val_valid_act_with_enc_loss: 0.0026 - val_valid_act_with_plan_loss: 0.0028 - val_reg_loss: 0.0000e+00 - val_valid_reg_loss: 1.4292 - val_valid_position_loss: 0.0000e+00 - val_valid_max_position_loss: 0.0000e+00 - val_valid_rotation_loss: 0.0000e+00 - val_valid_max_rotation_loss: 0.0000e+00\n",
            "Epoch 64/10000\n",
            "20/20 [==============================] - 52s 3s/step - train_loss: 0.0025 - valid_loss: 0.0000e+00 - train_act_with_enc_loss: 0.0024 - train_act_with_plan_loss: 0.0026 - valid_act_with_enc_loss: 0.0000e+00 - valid_act_with_plan_loss: 0.0000e+00 - reg_loss: 1.5050 - valid_reg_loss: 0.0000e+00 - valid_position_loss: 0.0000e+00 - valid_max_position_loss: 0.0000e+00 - valid_rotation_loss: 0.0000e+00 - valid_max_rotation_loss: 0.0000e+00 - beta: 3.0000e-05 - val_train_loss: 0.0000e+00 - val_valid_loss: 0.0027 - val_train_act_with_enc_loss: 0.0000e+00 - val_train_act_with_plan_loss: 0.0000e+00 - val_valid_act_with_enc_loss: 0.0025 - val_valid_act_with_plan_loss: 0.0027 - val_reg_loss: 0.0000e+00 - val_valid_reg_loss: 1.5144 - val_valid_position_loss: 0.0000e+00 - val_valid_max_position_loss: 0.0000e+00 - val_valid_rotation_loss: 0.0000e+00 - val_valid_max_rotation_loss: 0.0000e+00\n",
            "Epoch 65/10000\n",
            "20/20 [==============================] - 51s 3s/step - train_loss: 0.0025 - valid_loss: 0.0000e+00 - train_act_with_enc_loss: 0.0024 - train_act_with_plan_loss: 0.0026 - valid_act_with_enc_loss: 0.0000e+00 - valid_act_with_plan_loss: 0.0000e+00 - reg_loss: 1.6078 - valid_reg_loss: 0.0000e+00 - valid_position_loss: 0.0000e+00 - valid_max_position_loss: 0.0000e+00 - valid_rotation_loss: 0.0000e+00 - valid_max_rotation_loss: 0.0000e+00 - beta: 3.0000e-05 - val_train_loss: 0.0000e+00 - val_valid_loss: 0.0027 - val_train_act_with_enc_loss: 0.0000e+00 - val_train_act_with_plan_loss: 0.0000e+00 - val_valid_act_with_enc_loss: 0.0025 - val_valid_act_with_plan_loss: 0.0026 - val_reg_loss: 0.0000e+00 - val_valid_reg_loss: 1.2810 - val_valid_position_loss: 0.0000e+00 - val_valid_max_position_loss: 0.0000e+00 - val_valid_rotation_loss: 0.0000e+00 - val_valid_max_rotation_loss: 0.0000e+00\n",
            "Epoch 66/10000\n",
            " 3/20 [===>..........................] - ETA: 17s - train_loss: 0.0025 - valid_loss: 0.0000e+00 - train_act_with_enc_loss: 0.0025 - train_act_with_plan_loss: 0.0027 - valid_act_with_enc_loss: 0.0000e+00 - valid_act_with_plan_loss: 0.0000e+00 - reg_loss: 1.4107 - valid_reg_loss: 0.0000e+00 - valid_position_loss: 0.0000e+00 - valid_max_position_loss: 0.0000e+00 - valid_rotation_loss: 0.0000e+00 - valid_max_rotation_loss: 0.0000e+00 - beta: 3.0000e-05"
          ],
          "name": "stdout"
        }
      ]
    },
    {
      "cell_type": "code",
      "metadata": {
        "id": "mw21h14BnX3Q",
        "colab": {
          "base_uri": "https://localhost:8080/"
        },
        "outputId": "63d32c8b-8287-4263-d7ef-b6c32d059e71"
      },
      "source": [
        "history.history"
      ],
      "execution_count": null,
      "outputs": [
        {
          "output_type": "execute_result",
          "data": {
            "text/plain": [
              "{'action_loss': [0.12956753373146057],\n",
              " 'beta': [0.0],\n",
              " 'reg_loss': [1926.2640380859375],\n",
              " 'total_loss': [0.12956753373146057],\n",
              " 'val_action_loss': [0.17088711261749268],\n",
              " 'val_reg_loss': [26089.38671875],\n",
              " 'val_total_loss': [0.17109845578670502]}"
            ]
          },
          "metadata": {
            "tags": []
          },
          "execution_count": 22
        }
      ]
    },
    {
      "cell_type": "code",
      "metadata": {
        "id": "WNeXYIzTUwjg"
      },
      "source": [
        ""
      ],
      "execution_count": null,
      "outputs": []
    }
  ]
}