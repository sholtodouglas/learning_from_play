{
 "cells": [
  {
   "cell_type": "code",
   "execution_count": 1,
   "metadata": {},
   "outputs": [],
   "source": [
    "import gym\n",
    "import roboticsPlayroomPybullet\n"
   ]
  },
  {
   "cell_type": "markdown",
   "metadata": {},
   "source": [
    "# Open the env"
   ]
  },
  {
   "cell_type": "code",
   "execution_count": 2,
   "metadata": {},
   "outputs": [
    {
     "name": "stdout",
     "output_type": "stream",
     "text": [
      "current_dir=c:\\users\\sholto douglas\\desktop\\roboticsplayroompybullet\\roboticsPlayroomPybullet\\envs\n",
      "current_dir=c:\\users\\sholto douglas\\desktop\\roboticsplayroompybullet\\roboticsPlayroomPybullet\\envs\n",
      "current_dir=c:\\users\\sholto douglas\\desktop\\roboticsplayroompybullet\\roboticsPlayroomPybullet\\envs\n"
     ]
    },
    {
     "name": "stderr",
     "output_type": "stream",
     "text": [
      "C:\\ProgramData\\Anaconda3\\lib\\site-packages\\gym\\logger.py:30: UserWarning: \u001b[33mWARN: Box bound precision lowered by casting to float32\u001b[0m\n",
      "  warnings.warn(colorize('%s: %s'%('WARN', msg % args), 'yellow'))\n"
     ]
    },
    {
     "name": "stdout",
     "output_type": "stream",
     "text": [
      "c:\\users\\sholto douglas\\desktop\\roboticsplayroompybullet\\roboticsPlayroomPybullet\\envs\n"
     ]
    }
   ],
   "source": [
    "# Create an \n",
    "env = gym.make('UR5PlayAbsRPY1Obj-v0')\n",
    "# Launch a GUI - don't call this if you want it headless\n",
    "env.render('human')\n",
    "# Reset the env - must be called before using the env as this initialises everything\n",
    "_ = env.reset()\n",
    "# Activate img observations as part of the 'o' return dict\n",
    "env.render('playback')"
   ]
  },
  {
   "cell_type": "markdown",
   "metadata": {},
   "source": [
    "# Set the path of the data dirs"
   ]
  },
  {
   "cell_type": "code",
   "execution_count": 3,
   "metadata": {},
   "outputs": [
    {
     "name": "stdout",
     "output_type": "stream",
     "text": [
      "Using local setup\n",
      "Working path: C:\\Users\\Sholto Douglas\\Desktop\\robotics\\learning_from_play\n",
      "Storage path: C:\\Users\\Sholto Douglas\\Desktop\\robotics\\learning_from_play\n"
     ]
    }
   ],
   "source": [
    "\n",
    "import os\n",
    "from pathlib import Path\n",
    "import numpy as np\n",
    "\n",
    "\n",
    "TEST_DATASET = \"UR5_slow_gripper_test\" \n",
    "print('Using local setup')\n",
    "WORKING_PATH = Path().absolute().parent\n",
    "print(f'Working path: {WORKING_PATH}')\n",
    "os.chdir(WORKING_PATH)\n",
    "STORAGE_PATH = WORKING_PATH\n",
    "print(f'Storage path: {STORAGE_PATH}')\n",
    "TRAIN_DATA_PATHS = [STORAGE_PATH/'data'/x for x in [\"UR5\", \"UR5_high_transition\", \"UR5_slow_gripper\"]]\n",
    "TEST_DATA_PATH = STORAGE_PATH/'data'/TEST_DATASET\n",
    "\n",
    "# TRAIN_DATA_PATHS are the big folders which represent a few hours of teleop on different days\n",
    "# Within each of these folders are individual trajectories, which are occasionally reset for breaks \n",
    "# or the block goes out of reach.\n",
    "# Structure\n",
    "# DIR\n",
    " # DIR/obs_act_etc/  - this contains the npz files with obs/acts/ags at 25Hz, all info necessary to train models\n",
    "                # /1\n",
    "                # /2 etc\n",
    " # DIR/states_and_ims/ - this contains the states we can reset to (which contain info like precise contact points\\\n",
    "                        # which is better for deterministic reset and rollout, but large so we only saved these at > 1Hz"
   ]
  },
  {
   "cell_type": "code",
   "execution_count": 7,
   "metadata": {},
   "outputs": [],
   "source": [
    "TRAIN_DATA_PATHS = [STORAGE_PATH/'data'/x for x in [\"pybullet/UR5_train\", \"pybullet/envHz25\"]]\n",
    "TEST_DATA_PATH = STORAGE_PATH/'data'/TEST_DATASET"
   ]
  },
  {
   "cell_type": "markdown",
   "metadata": {},
   "source": [
    "# Iterate through the teleop data, showcasing RL support"
   ]
  },
  {
   "cell_type": "code",
   "execution_count": 11,
   "metadata": {},
   "outputs": [
    {
     "name": "stdout",
     "output_type": "stream",
     "text": [
      "[]\n",
      "C:\\Users\\Sholto Douglas\\Desktop\\robotics\\learning_from_play\\data\\pybullet\\UR5_train/states_and_ims/0/ims\n",
      "[]\n",
      "C:\\Users\\Sholto Douglas\\Desktop\\robotics\\learning_from_play\\data\\pybullet\\UR5_train/states_and_ims/1/ims\n",
      "[]\n",
      "C:\\Users\\Sholto Douglas\\Desktop\\robotics\\learning_from_play\\data\\pybullet\\UR5_train/states_and_ims/2/ims\n",
      "[]\n",
      "C:\\Users\\Sholto Douglas\\Desktop\\robotics\\learning_from_play\\data\\pybullet\\UR5_train/states_and_ims/3/ims\n",
      "[]\n",
      "C:\\Users\\Sholto Douglas\\Desktop\\robotics\\learning_from_play\\data\\pybullet\\UR5_train/states_and_ims/4/ims\n",
      "[]\n",
      "C:\\Users\\Sholto Douglas\\Desktop\\robotics\\learning_from_play\\data\\pybullet\\UR5_train/states_and_ims/5/ims\n",
      "[]\n",
      "C:\\Users\\Sholto Douglas\\Desktop\\robotics\\learning_from_play\\data\\pybullet\\UR5_train/states_and_ims/6/ims\n",
      "[]\n",
      "C:\\Users\\Sholto Douglas\\Desktop\\robotics\\learning_from_play\\data\\pybullet\\UR5_train/states_and_ims/7/ims\n",
      "[]\n",
      "C:\\Users\\Sholto Douglas\\Desktop\\robotics\\learning_from_play\\data\\pybullet\\UR5_train/states_and_ims/8/ims\n",
      "[]\n",
      "C:\\Users\\Sholto Douglas\\Desktop\\robotics\\learning_from_play\\data\\pybullet\\UR5_train/states_and_ims/9/ims\n",
      "[]\n",
      "C:\\Users\\Sholto Douglas\\Desktop\\robotics\\learning_from_play\\data\\pybullet\\UR5_train/states_and_ims/10/ims\n",
      "[]\n",
      "C:\\Users\\Sholto Douglas\\Desktop\\robotics\\learning_from_play\\data\\pybullet\\UR5_train/states_and_ims/11/ims\n",
      "[]\n",
      "C:\\Users\\Sholto Douglas\\Desktop\\robotics\\learning_from_play\\data\\pybullet\\UR5_train/states_and_ims/12/ims\n",
      "[]\n",
      "C:\\Users\\Sholto Douglas\\Desktop\\robotics\\learning_from_play\\data\\pybullet\\UR5_train/states_and_ims/13/ims\n",
      "[]\n",
      "C:\\Users\\Sholto Douglas\\Desktop\\robotics\\learning_from_play\\data\\pybullet\\UR5_train/states_and_ims/14/ims\n",
      "[]\n",
      "C:\\Users\\Sholto Douglas\\Desktop\\robotics\\learning_from_play\\data\\pybullet\\UR5_train/states_and_ims/15/ims\n",
      "[]\n",
      "C:\\Users\\Sholto Douglas\\Desktop\\robotics\\learning_from_play\\data\\pybullet\\UR5_train/states_and_ims/16/ims\n",
      "[]\n",
      "C:\\Users\\Sholto Douglas\\Desktop\\robotics\\learning_from_play\\data\\pybullet\\UR5_train/states_and_ims/17/ims\n",
      "[]\n",
      "C:\\Users\\Sholto Douglas\\Desktop\\robotics\\learning_from_play\\data\\pybullet\\UR5_train/states_and_ims/18/ims\n",
      "[]\n",
      "C:\\Users\\Sholto Douglas\\Desktop\\robotics\\learning_from_play\\data\\pybullet\\UR5_train/states_and_ims/19/ims\n",
      "[]\n",
      "C:\\Users\\Sholto Douglas\\Desktop\\robotics\\learning_from_play\\data\\pybullet\\UR5_train/states_and_ims/20/ims\n",
      "[]\n",
      "C:\\Users\\Sholto Douglas\\Desktop\\robotics\\learning_from_play\\data\\pybullet\\UR5_train/states_and_ims/21/ims\n",
      "[]\n",
      "C:\\Users\\Sholto Douglas\\Desktop\\robotics\\learning_from_play\\data\\pybullet\\UR5_train/states_and_ims/22/ims\n",
      "[]\n",
      "C:\\Users\\Sholto Douglas\\Desktop\\robotics\\learning_from_play\\data\\pybullet\\UR5_train/states_and_ims/23/ims\n",
      "[]\n",
      "C:\\Users\\Sholto Douglas\\Desktop\\robotics\\learning_from_play\\data\\pybullet\\UR5_train/states_and_ims/24/ims\n",
      "[]\n",
      "C:\\Users\\Sholto Douglas\\Desktop\\robotics\\learning_from_play\\data\\pybullet\\UR5_train/states_and_ims/25/ims\n",
      "[]\n",
      "C:\\Users\\Sholto Douglas\\Desktop\\robotics\\learning_from_play\\data\\pybullet\\UR5_train/states_and_ims/26/ims\n",
      "[]\n",
      "C:\\Users\\Sholto Douglas\\Desktop\\robotics\\learning_from_play\\data\\pybullet\\UR5_train/states_and_ims/27/ims\n",
      "[]\n",
      "C:\\Users\\Sholto Douglas\\Desktop\\robotics\\learning_from_play\\data\\pybullet\\envHz25/states_and_ims/0/ims\n",
      "[]\n",
      "C:\\Users\\Sholto Douglas\\Desktop\\robotics\\learning_from_play\\data\\pybullet\\envHz25/states_and_ims/1/ims\n",
      "[]\n",
      "C:\\Users\\Sholto Douglas\\Desktop\\robotics\\learning_from_play\\data\\pybullet\\envHz25/states_and_ims/2/ims\n",
      "[]\n",
      "C:\\Users\\Sholto Douglas\\Desktop\\robotics\\learning_from_play\\data\\pybullet\\envHz25/states_and_ims/3/ims\n",
      "[]\n",
      "C:\\Users\\Sholto Douglas\\Desktop\\robotics\\learning_from_play\\data\\pybullet\\envHz25/states_and_ims/4/ims\n",
      "[]\n",
      "C:\\Users\\Sholto Douglas\\Desktop\\robotics\\learning_from_play\\data\\pybullet\\envHz25/states_and_ims/5/ims\n",
      "[]\n",
      "C:\\Users\\Sholto Douglas\\Desktop\\robotics\\learning_from_play\\data\\pybullet\\envHz25/states_and_ims/6/ims\n",
      "[]\n",
      "C:\\Users\\Sholto Douglas\\Desktop\\robotics\\learning_from_play\\data\\pybullet\\envHz25/states_and_ims/7/ims\n",
      "[]\n",
      "C:\\Users\\Sholto Douglas\\Desktop\\robotics\\learning_from_play\\data\\pybullet\\envHz25/states_and_ims/8/ims\n",
      "[]\n",
      "C:\\Users\\Sholto Douglas\\Desktop\\robotics\\learning_from_play\\data\\pybullet\\envHz25/states_and_ims/9/ims\n",
      "[]\n",
      "C:\\Users\\Sholto Douglas\\Desktop\\robotics\\learning_from_play\\data\\pybullet\\envHz25/states_and_ims/10/ims\n",
      "[]\n",
      "C:\\Users\\Sholto Douglas\\Desktop\\robotics\\learning_from_play\\data\\pybullet\\envHz25/states_and_ims/11/ims\n",
      "[]\n",
      "C:\\Users\\Sholto Douglas\\Desktop\\robotics\\learning_from_play\\data\\pybullet\\envHz25/states_and_ims/12/ims\n",
      "[]\n",
      "C:\\Users\\Sholto Douglas\\Desktop\\robotics\\learning_from_play\\data\\pybullet\\envHz25/states_and_ims/13/ims\n",
      "[]\n",
      "C:\\Users\\Sholto Douglas\\Desktop\\robotics\\learning_from_play\\data\\pybullet\\envHz25/states_and_ims/14/ims\n",
      "[]\n",
      "C:\\Users\\Sholto Douglas\\Desktop\\robotics\\learning_from_play\\data\\pybullet\\envHz25/states_and_ims/15/ims\n",
      "[]\n",
      "C:\\Users\\Sholto Douglas\\Desktop\\robotics\\learning_from_play\\data\\pybullet\\envHz25/states_and_ims/16/ims\n",
      "[]\n",
      "C:\\Users\\Sholto Douglas\\Desktop\\robotics\\learning_from_play\\data\\pybullet\\envHz25/states_and_ims/17/ims\n",
      "[]\n",
      "C:\\Users\\Sholto Douglas\\Desktop\\robotics\\learning_from_play\\data\\pybullet\\envHz25/states_and_ims/18/ims\n",
      "[]\n",
      "C:\\Users\\Sholto Douglas\\Desktop\\robotics\\learning_from_play\\data\\pybullet\\envHz25/states_and_ims/19/ims\n",
      "[]\n",
      "C:\\Users\\Sholto Douglas\\Desktop\\robotics\\learning_from_play\\data\\pybullet\\envHz25/states_and_ims/20/ims\n",
      "[]\n",
      "C:\\Users\\Sholto Douglas\\Desktop\\robotics\\learning_from_play\\data\\pybullet\\envHz25/states_and_ims/21/ims\n",
      "[]\n",
      "C:\\Users\\Sholto Douglas\\Desktop\\robotics\\learning_from_play\\data\\pybullet\\envHz25/states_and_ims/22/ims\n",
      "[]\n",
      "C:\\Users\\Sholto Douglas\\Desktop\\robotics\\learning_from_play\\data\\pybullet\\envHz25/states_and_ims/23/ims\n",
      "[]\n",
      "C:\\Users\\Sholto Douglas\\Desktop\\robotics\\learning_from_play\\data\\pybullet\\envHz25/states_and_ims/24/ims\n",
      "[]\n",
      "C:\\Users\\Sholto Douglas\\Desktop\\robotics\\learning_from_play\\data\\pybullet\\envHz25/states_and_ims/25/ims\n",
      "[]\n",
      "C:\\Users\\Sholto Douglas\\Desktop\\robotics\\learning_from_play\\data\\pybullet\\envHz25/states_and_ims/26/ims\n",
      "[]\n",
      "C:\\Users\\Sholto Douglas\\Desktop\\robotics\\learning_from_play\\data\\pybullet\\envHz25/states_and_ims/27/ims\n",
      "[]\n",
      "C:\\Users\\Sholto Douglas\\Desktop\\robotics\\learning_from_play\\data\\pybullet\\envHz25/states_and_ims/28/ims\n",
      "[]\n",
      "C:\\Users\\Sholto Douglas\\Desktop\\robotics\\learning_from_play\\data\\pybullet\\envHz25/states_and_ims/29/ims\n",
      "[]\n",
      "C:\\Users\\Sholto Douglas\\Desktop\\robotics\\learning_from_play\\data\\pybullet\\envHz25/states_and_ims/30/ims\n",
      "[]\n",
      "C:\\Users\\Sholto Douglas\\Desktop\\robotics\\learning_from_play\\data\\pybullet\\envHz25/states_and_ims/31/ims\n",
      "[]\n",
      "C:\\Users\\Sholto Douglas\\Desktop\\robotics\\learning_from_play\\data\\pybullet\\envHz25/states_and_ims/32/ims\n",
      "[]\n",
      "C:\\Users\\Sholto Douglas\\Desktop\\robotics\\learning_from_play\\data\\pybullet\\envHz25/states_and_ims/33/ims\n",
      "[]\n",
      "C:\\Users\\Sholto Douglas\\Desktop\\robotics\\learning_from_play\\data\\pybullet\\envHz25/states_and_ims/34/ims\n",
      "[]\n",
      "C:\\Users\\Sholto Douglas\\Desktop\\robotics\\learning_from_play\\data\\pybullet\\envHz25/states_and_ims/35/ims\n"
     ]
    }
   ],
   "source": [
    "import scipy.misc\n",
    "from IPython.display import display, clear_output\n",
    "from natsort import natsorted\n",
    "import glob\n",
    "\n",
    "# The relevant keys from the teleop data  - other keys include ['obs', 'acts', 'achieved_goals', 'joint_poses', 'target_poses', 'acts_quat', 'acts_rpy_rel',  'velocities', 'obs_quat']\n",
    "# Which are useful if you want to act with joint poses, in quaternion space for obs, with velocity etc\n",
    "\n",
    "keys = ['obs', 'acts', 'achieved_goals']\n",
    "full_state_save_interval = 30 # How often we saved the determinstically resettable state (full info e.g. contact points )\n",
    "\n",
    "for DIR in TRAIN_DATA_PATHS:\n",
    "    DIR = str(DIR) # glob/natsorted uses strings\n",
    "    \n",
    "    obs_act_path = DIR+'\\\\obs_act_etc\\\\'\n",
    "\n",
    "    # Each demo is one continuous play trajectory\n",
    "    for demo in natsorted(os.listdir(obs_act_path)):\n",
    "        # Gets the saved states (which we can reset to) \n",
    "        start_points = natsorted(glob.glob(DIR+'/states_and_ims/'+str(demo)+'/env_states/*.bullet'))\n",
    "        print(start_points)\n",
    "        # The actual data\n",
    "        traj = np.load(obs_act_path+demo+'/data.npz')\n",
    "        # The actions taken and the states of the non-arm elements of the environment\n",
    "        acts,achieved_goals = traj['acts'], traj['achieved_goals']\n",
    "        # The total length of this recorded trajectory\n",
    "        set_len = len(acts)\n",
    "    \n",
    "        start = 0 \n",
    "        # End is the steps till the next reset state, or the end of the demo\n",
    "        end= min(start+full_state_save_interval, set_len)\n",
    "        print(DIR+'/states_and_ims/'+str(demo)+'/ims')\n",
    "\n",
    "        # Between each state we reset to - roll out the actions. \n",
    "        # A tiny amount of divergence is to be expected, which is why we reset whenever we have the information to do so\n",
    "        for start_point in start_points:\n",
    "\n",
    "            # As the states were saved without subgoals - delete these or we will not be able to reset state \n",
    "            env.delete_sub_goal()\n",
    "            env.p.restoreState(fileName=start_point)\n",
    "            env.instance.updateToggles() # need to do it when when you restore from a state as colors are not saved\n",
    "            \n",
    "            goal = achieved_goals[end] # gets the goal 30 timesteps away\n",
    "            env.reset_goal_pos(goal) # sets the env's goal to this\n",
    "            env.instance.visualise_sub_goal(goal) # visualises it using transparent objects\n",
    "            for i in range(start, end):\n",
    "                # Play out the teleoperated actions\n",
    "                o,r,_,_ = env.step(acts[i])\n",
    "                # r is sparse -1, 0 and defined in 'playRewardFunc.py' in the env repo\n",
    "\n",
    "            start += full_state_save_interval\n",
    "            end = min(start+full_state_save_interval, set_len)"
   ]
  },
  {
   "cell_type": "code",
   "execution_count": 12,
   "metadata": {},
   "outputs": [
    {
     "ename": "FileNotFoundError",
     "evalue": "[WinError 3] The system cannot find the path specified: 'C:\\\\Users\\\\Sholto Douglas\\\\Desktop\\\\robotics\\\\learning_from_play\\\\data\\\\pybullet\\\\envHz25/states_and_ims/35/env_states/'",
     "output_type": "error",
     "traceback": [
      "\u001b[1;31m---------------------------------------------------------------------------\u001b[0m",
      "\u001b[1;31mFileNotFoundError\u001b[0m                         Traceback (most recent call last)",
      "\u001b[1;32m<ipython-input-12-31ff69bf6d8e>\u001b[0m in \u001b[0;36m<module>\u001b[1;34m\u001b[0m\n\u001b[1;32m----> 1\u001b[1;33m \u001b[0mos\u001b[0m\u001b[1;33m.\u001b[0m\u001b[0mlistdir\u001b[0m\u001b[1;33m(\u001b[0m\u001b[0mDIR\u001b[0m\u001b[1;33m+\u001b[0m\u001b[1;34m'/states_and_ims/'\u001b[0m\u001b[1;33m+\u001b[0m\u001b[0mstr\u001b[0m\u001b[1;33m(\u001b[0m\u001b[0mdemo\u001b[0m\u001b[1;33m)\u001b[0m\u001b[1;33m+\u001b[0m\u001b[1;34m'/env_states/'\u001b[0m\u001b[1;33m)\u001b[0m\u001b[1;33m\u001b[0m\u001b[1;33m\u001b[0m\u001b[0m\n\u001b[0m",
      "\u001b[1;31mFileNotFoundError\u001b[0m: [WinError 3] The system cannot find the path specified: 'C:\\\\Users\\\\Sholto Douglas\\\\Desktop\\\\robotics\\\\learning_from_play\\\\data\\\\pybullet\\\\envHz25/states_and_ims/35/env_states/'"
     ]
    }
   ],
   "source": [
    "os.listdir(DIR+'/states_and_ims/'+str(demo)+'/env_states/')"
   ]
  },
  {
   "cell_type": "code",
   "execution_count": 11,
   "metadata": {},
   "outputs": [
    {
     "data": {
      "text/plain": [
       "'C:\\\\Users\\\\Sholto Douglas\\\\Desktop\\\\robotics\\\\learning_from_play'"
      ]
     },
     "execution_count": 11,
     "metadata": {},
     "output_type": "execute_result"
    }
   ],
   "source": [
    "f'{os.getcwd()}'"
   ]
  },
  {
   "cell_type": "code",
   "execution_count": 8,
   "metadata": {},
   "outputs": [
    {
     "data": {
      "text/plain": [
       "['.git',\n",
       " '.gitignore',\n",
       " '.gitmodules',\n",
       " '.idea',\n",
       " '.ipynb_checkpoints',\n",
       " 'CATKIN_IGNORE',\n",
       " 'config.py',\n",
       " 'data',\n",
       " 'data_collection',\n",
       " 'experimental',\n",
       " 'lfp',\n",
       " 'LICENSE',\n",
       " 'media',\n",
       " 'notebooks',\n",
       " 'pandaRL',\n",
       " 'README.md',\n",
       " 'relay-policy-learning',\n",
       " 'requirements.txt',\n",
       " 'saved_models',\n",
       " 'setup.sh',\n",
       " 'train_lfp.py',\n",
       " 'useful_cmds.md',\n",
       " '__pycache__']"
      ]
     },
     "execution_count": 8,
     "metadata": {},
     "output_type": "execute_result"
    }
   ],
   "source": [
    "os.listdir(f'{os.getcwd()}')"
   ]
  },
  {
   "cell_type": "code",
   "execution_count": 9,
   "metadata": {},
   "outputs": [
    {
     "data": {
      "text/plain": [
       "{'obs_quat': array([-1.05122246e-01, -1.58003315e-01, -3.55988974e-03, -9.47304070e-03,\n",
       "        -9.51900929e-02,  1.15734883e-01,  9.88663018e-01,  5.44099584e-02,\n",
       "        -9.76497903e-02,  1.10748991e-01, -9.99999975e-06, -2.50560520e-15,\n",
       "         8.16640219e-15,  9.60237384e-01, -2.79184759e-01, -4.55279015e-02,\n",
       "         4.82954718e-02,  2.99999993e-02,  0.00000000e+00], dtype=float32),\n",
       " 'achieved_goal': array([-9.7649790e-02,  1.1074899e-01, -9.9999997e-06, -2.5056052e-15,\n",
       "         8.1664022e-15,  9.6023738e-01, -2.7918476e-01, -4.5527902e-02,\n",
       "         4.8295472e-02,  2.9999999e-02,  0.0000000e+00], dtype=float32),\n",
       " 'desired_goal': array([-0.12080648,  0.24572381,  0.09474243], dtype=float32),\n",
       " 'controllable_achieved_goal': array([-0.10512225, -0.15800332, -0.00355989,  0.05440996], dtype=float32),\n",
       " 'full_positional_state': array([-1.05122246e-01, -1.58003315e-01, -3.55988974e-03, -9.47304070e-03,\n",
       "        -9.51900929e-02,  1.15734883e-01,  9.88663018e-01,  5.44099584e-02,\n",
       "        -9.76497903e-02,  1.10748991e-01, -9.99999975e-06, -2.50560520e-15,\n",
       "         8.16640219e-15,  9.60237384e-01, -2.79184759e-01, -4.55279015e-02,\n",
       "         4.82954718e-02,  2.99999993e-02,  0.00000000e+00], dtype=float32),\n",
       " 'joints': [-1.305407923559522,\n",
       "  -2.0782402326217735,\n",
       "  -1.5820561001406908,\n",
       "  -1.2378815789558382,\n",
       "  1.6175551368084176,\n",
       "  1.6002646764005428,\n",
       "  0.0,\n",
       "  0.0],\n",
       " 'velocity': array([ 0.04474132, -0.1204387 , -0.06955998, -0.14583088, -0.02473012,\n",
       "        -0.48651519]),\n",
       " 'img': array([[[217, 217, 217],\n",
       "         [204, 204, 204],\n",
       "         [221, 221, 221],\n",
       "         ...,\n",
       "         [227, 227, 227],\n",
       "         [221, 221, 221],\n",
       "         [208, 208, 208]],\n",
       " \n",
       "        [[224, 224, 224],\n",
       "         [211, 211, 211],\n",
       "         [227, 227, 227],\n",
       "         ...,\n",
       "         [227, 227, 227],\n",
       "         [221, 221, 221],\n",
       "         [208, 208, 208]],\n",
       " \n",
       "        [[227, 227, 227],\n",
       "         [219, 219, 219],\n",
       "         [206, 206, 206],\n",
       "         ...,\n",
       "         [227, 227, 227],\n",
       "         [222, 222, 222],\n",
       "         [209, 209, 209]],\n",
       " \n",
       "        ...,\n",
       " \n",
       "        [[160, 160, 160],\n",
       "         [162, 162, 162],\n",
       "         [163, 163, 163],\n",
       "         ...,\n",
       "         [207, 181, 156],\n",
       "         [209, 184, 159],\n",
       "         [205, 181, 154]],\n",
       " \n",
       "        [[161, 161, 161],\n",
       "         [162, 162, 162],\n",
       "         [163, 163, 163],\n",
       "         ...,\n",
       "         [207, 183, 157],\n",
       "         [211, 186, 160],\n",
       "         [210, 186, 160]],\n",
       " \n",
       "        [[161, 161, 161],\n",
       "         [162, 162, 162],\n",
       "         [163, 163, 163],\n",
       "         ...,\n",
       "         [212, 188, 161],\n",
       "         [209, 187, 157],\n",
       "         [209, 184, 158]]], dtype=uint8),\n",
       " 'observation': array([-1.05122246e-01, -1.58003314e-01, -3.55988981e-03, -4.15010566e-02,\n",
       "        -1.87119174e-01,  2.36958038e-01,  5.44099570e-02, -9.76497912e-02,\n",
       "         1.10748995e-01, -1.00000000e-05, -2.50560519e-15,  8.16640196e-15,\n",
       "         9.60237406e-01, -2.79184751e-01, -4.55279005e-02,  4.82954735e-02,\n",
       "         3.00000000e-02,  0.00000000e+00]),\n",
       " 'gripper_proprioception': 0}"
      ]
     },
     "execution_count": 9,
     "metadata": {},
     "output_type": "execute_result"
    }
   ],
   "source": [
    "o"
   ]
  },
  {
   "cell_type": "code",
   "execution_count": null,
   "metadata": {},
   "outputs": [],
   "source": []
  }
 ],
 "metadata": {
  "kernelspec": {
   "display_name": "Python 3",
   "language": "python",
   "name": "python3"
  },
  "language_info": {
   "codemirror_mode": {
    "name": "ipython",
    "version": 3
   },
   "file_extension": ".py",
   "mimetype": "text/x-python",
   "name": "python",
   "nbconvert_exporter": "python",
   "pygments_lexer": "ipython3",
   "version": "3.8.8"
  }
 },
 "nbformat": 4,
 "nbformat_minor": 2
}
