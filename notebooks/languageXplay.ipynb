{
 "cells": [
  {
   "cell_type": "markdown",
   "metadata": {
    "colab_type": "text",
    "id": "view-in-github"
   },
   "source": [
    "<a href=\"https://colab.research.google.com/github/sholtodouglas/learning_from_play/blob/master/notebooks/languageXplay.ipynb\" target=\"_parent\"><img src=\"https://colab.research.google.com/assets/colab-badge.svg\" alt=\"Open In Colab\"/></a>"
   ]
  },
  {
   "cell_type": "code",
   "execution_count": null,
   "metadata": {
    "id": "Xchjk_eKp26Q"
   },
   "outputs": [],
   "source": [
    "#@title Install package dependencies (forces restart)\n",
    "import os\n",
    "\n",
    "def restart_runtime():\n",
    "    print('Runtime restarting...')\n",
    "    os.kill(os.getpid(), 9)\n",
    "    \n",
    "!git clone 'https://github.com/sholtodouglas/pandaRL' 'local_packages/pandaRL'\n",
    "!pip install -e 'local_packages/pandaRL/.'\n",
    "\n",
    "restart_runtime()"
   ]
  },
  {
   "cell_type": "code",
   "execution_count": 1,
   "metadata": {
    "colab": {
     "base_uri": "https://localhost:8080/"
    },
    "id": "7jUYgZwpGfav",
    "outputId": "deea0536-18b7-4b1f-fb52-8c782f8f6d30"
   },
   "outputs": [
    {
     "name": "stdout",
     "output_type": "stream",
     "text": [
      "\u001b[K     |████████████████████████████████| 76.6MB 92kB/s \n",
      "\u001b[K     |████████████████████████████████| 1.9MB 61.3MB/s \n",
      "\u001b[K     |████████████████████████████████| 102kB 11.5MB/s \n",
      "\u001b[K     |████████████████████████████████| 163kB 60.0MB/s \n",
      "\u001b[K     |████████████████████████████████| 102kB 11.7MB/s \n",
      "\u001b[K     |████████████████████████████████| 133kB 60.5MB/s \n",
      "\u001b[K     |████████████████████████████████| 71kB 8.9MB/s \n",
      "\u001b[?25h  Building wheel for subprocess32 (setup.py) ... \u001b[?25l\u001b[?25hdone\n",
      "  Building wheel for watchdog (setup.py) ... \u001b[?25l\u001b[?25hdone\n",
      "  Building wheel for pathtools (setup.py) ... \u001b[?25l\u001b[?25hdone\n"
     ]
    }
   ],
   "source": [
    "!pip -q install pybullet wandb"
   ]
  },
  {
   "cell_type": "code",
   "execution_count": 1,
   "metadata": {},
   "outputs": [],
   "source": [
    "# Config\n",
    "config = {\n",
    "    'colab':False,\n",
    "    'gcs':False,\n",
    "    'device':'GPU', # 'CPU', 'GPU', 'TPU'\n",
    "    'train_datasets':[\"UR5\"],\n",
    "    'test_datasets':[\"UR5_slow_gripper_test\"],\n",
    "    # data\n",
    "    'batch_size':32,\n",
    "    # model\n",
    "    'layer_size':256,\n",
    "    'latent_dim':256,\n",
    "    'gcbc':False,\n",
    "    'num_distribs':None,\n",
    "    'qbits':None,\n",
    "    # training\n",
    "    'learning_rate':3e-4,\n",
    "}"
   ]
  },
  {
   "cell_type": "code",
   "execution_count": 2,
   "metadata": {
    "colab": {
     "base_uri": "https://localhost:8080/"
    },
    "id": "zMJ___6ARZ4u",
    "outputId": "70d36ec5-e3d7-495d-d399-62c27f7f743e"
   },
   "outputs": [
    {
     "name": "stdout",
     "output_type": "stream",
     "text": [
      "Using local setup\n",
      "Working path: /home/sholto/Desktop/AI/learning_from_play\n",
      "Storage path: /home/sholto/Desktop/AI/learning_from_play\n"
     ]
    }
   ],
   "source": [
    "#@title Workpace Setup (Local vs Colab)\n",
    "from pathlib import Path\n",
    "import os\n",
    "\n",
    "# COLAB = False #@param {type:\"boolean\"}\n",
    "AUTH_GCS = False #@param {type:\"boolean\"}\n",
    "# DEVICE = \"CPU\" #@param [\"TPU\", \"GPU\", \"CPU\"]\n",
    "DATA_SOURCE = \"Google Drive\" #@param [\"Google Drive\", \"GCS\"]\n",
    "# TRAIN_DATASETS = [\"UR5\"]#,\"UR5_slow_gripper\",\"UR5_high_transition\"]\n",
    "# TEST_DATASET = \"UR5_slow_gripper_test\" #@param [\"UR5_slow_gripper_test\"]\n",
    "GCS_USER = \"sholto\" #@param [\"sholto\", \"tristan\"]\n",
    "\n",
    "if config['colab']:\n",
    "    from google.colab import drive, auth\n",
    "    print('Using colab setup')\n",
    "    !git clone 'https://github.com/sholtodouglas/learning_from_play'\n",
    "    WORKING_PATH = Path('/content/learning_from_play')\n",
    "    drive.mount('/content/drive')\n",
    "    os.chdir(WORKING_PATH)\n",
    "    STORAGE_PATH = Path('/content/drive/My Drive/Robotic Learning')\n",
    "    print(f'Storage path: {STORAGE_PATH}')\n",
    "else:\n",
    "    print('Using local setup')\n",
    "    WORKING_PATH = Path().absolute().parent\n",
    "    print(f'Working path: {WORKING_PATH}')\n",
    "    os.chdir(WORKING_PATH)\n",
    "    STORAGE_PATH = WORKING_PATH\n",
    "    print(f'Storage path: {STORAGE_PATH}')\n",
    "\n",
    "TRAIN_DATA_PATHS = [STORAGE_PATH/'data'/x for x in config['train_datasets']]\n",
    "TEST_DATA_PATHS = [STORAGE_PATH/'data'/x for x in config['test_datasets']]"
   ]
  },
  {
   "cell_type": "markdown",
   "metadata": {
    "id": "EliqxOpPv9Dy"
   },
   "source": [
    "# Data Creation"
   ]
  },
  {
   "cell_type": "code",
   "execution_count": 3,
   "metadata": {
    "colab": {
     "base_uri": "https://localhost:8080/"
    },
    "id": "6zbmq324x2yv",
    "outputId": "715a8265-e588-47f8-a5b5-4546c60eeba9"
   },
   "outputs": [
    {
     "name": "stdout",
     "output_type": "stream",
     "text": [
      "Tensorflow version 2.3.1\n",
      "[PhysicalDevice(name='/physical_device:CPU:0', device_type='CPU'), PhysicalDevice(name='/physical_device:XLA_CPU:0', device_type='XLA_CPU'), PhysicalDevice(name='/physical_device:XLA_GPU:0', device_type='XLA_GPU'), PhysicalDevice(name='/physical_device:GPU:0', device_type='GPU')]\n"
     ]
    }
   ],
   "source": [
    "import tensorflow as tf\n",
    "print(\"Tensorflow version \" + tf.__version__)\n",
    "\n",
    "if config['device'] == \"TPU\":\n",
    "    try:\n",
    "        tpu = tf.distribute.cluster_resolver.TPUClusterResolver()  # TPU detection\n",
    "        print('Running on TPU ', tpu.cluster_spec().as_dict()['worker'])\n",
    "    except ValueError:\n",
    "        raise BaseException('ERROR: Not connected to a TPU runtime; please see the previous cell in this notebook for instructions!')\n",
    "\n",
    "    tf.config.experimental_connect_to_cluster(tpu)\n",
    "    tf.tpu.experimental.initialize_tpu_system(tpu)\n",
    "    strategy = tf.distribute.TPUStrategy(tpu)\n",
    "\n",
    "    NUM_DEVICES = strategy.num_replicas_in_sync\n",
    "    print(\"REPLICAS: \", NUM_DEVICES)\n",
    "else:\n",
    "    physical_devices = tf.config.list_physical_devices()\n",
    "    if config['device'] == 'GPU':\n",
    "        tf.config.experimental.set_memory_growth(physical_devices[3], enable=True)\n",
    "    NUM_DEVICES = 1\n",
    "    print(physical_devices)"
   ]
  },
  {
   "cell_type": "markdown",
   "metadata": {
    "id": "yL0UZVa1v9D9",
    "pycharm": {
     "name": "#%% md\n"
    }
   },
   "source": [
    "# Dataset"
   ]
  },
  {
   "cell_type": "code",
   "execution_count": 4,
   "metadata": {
    "id": "KF1m_wf3v9D-",
    "pycharm": {
     "name": "#%%\n"
    }
   },
   "outputs": [],
   "source": [
    "import glob\n",
    "import numpy as np\n",
    "import tensorflow as tf\n",
    "import pickle\n",
    "import matplotlib.pyplot as plt\n",
    "import random\n",
    "import pickle\n",
    "import os\n",
    "from collections import Counter\n",
    "import random\n",
    "import datetime\n",
    "\n",
    "import lfp\n",
    "from natsort import natsorted"
   ]
  },
  {
   "cell_type": "code",
   "execution_count": 5,
   "metadata": {
    "colab": {
     "base_uri": "https://localhost:8080/"
    },
    "id": "1HejtDH_Yx8h",
    "outputId": "2086d0b7-2d9d-4788-f834-c2a96964f9ae"
   },
   "outputs": [
    {
     "data": {
      "text/plain": [
       "<module 'lfp.train' from '/home/sholto/Desktop/AI/learning_from_play/lfp/train.py'>"
      ]
     },
     "execution_count": 5,
     "metadata": {},
     "output_type": "execute_result"
    }
   ],
   "source": [
    "# Use this to edit modules without needing to restart the kernel\n",
    "import importlib\n",
    "importlib.reload(lfp.data)\n",
    "importlib.reload(lfp.model)\n",
    "importlib.reload(lfp.train)"
   ]
  },
  {
   "cell_type": "markdown",
   "metadata": {
    "id": "yUI6JP06FdTv"
   },
   "source": [
    "### Config Flags"
   ]
  },
  {
   "cell_type": "code",
   "execution_count": 6,
   "metadata": {
    "id": "n2lBWIyOFdTv"
   },
   "outputs": [],
   "source": [
    "GLOBAL_BATCH_SIZE = config['batch_size'] * NUM_DEVICES\n",
    "dl = lfp.data.PlayDataloader(batch_size=GLOBAL_BATCH_SIZE)"
   ]
  },
  {
   "cell_type": "code",
   "execution_count": 7,
   "metadata": {
    "colab": {
     "base_uri": "https://localhost:8080/"
    },
    "id": "Uiz4AXCnFdTv",
    "outputId": "0da944f0-c340-49ff-f5c9-06c159ba4c93"
   },
   "outputs": [
    {
     "name": "stderr",
     "output_type": "stream",
     "text": [
      "UR5: 100%|██████████| 52/52 [00:00<00:00, 70.35it/s]\n"
     ]
    },
    {
     "name": "stdout",
     "output_type": "stream",
     "text": [
      "{   'acts': TensorSpec(shape=(32, 50, 7), dtype=tf.float32, name=None),\n",
      "    'dataset_path': TensorSpec(shape=(32, None, 1), dtype=tf.int32, name=None),\n",
      "    'goals': TensorSpec(shape=(32, 50, 11), dtype=tf.float32, name=None),\n",
      "    'masks': TensorSpec(shape=(32, 50), dtype=tf.float32, name=None),\n",
      "    'obs': TensorSpec(shape=(32, 50, 18), dtype=tf.float32, name=None),\n",
      "    'seq_lens': TensorSpec(shape=(32,), dtype=tf.float32, name=None),\n",
      "    'tstep_idxs': TensorSpec(shape=(32, None, 1), dtype=tf.int32, name=None)}\n"
     ]
    }
   ],
   "source": [
    "# Train data\n",
    "train_data = dl.extract(TRAIN_DATA_PATHS)\n",
    "train_dataset = dl.load(train_data)"
   ]
  },
  {
   "cell_type": "code",
   "execution_count": 9,
   "metadata": {
    "colab": {
     "base_uri": "https://localhost:8080/"
    },
    "id": "h8ZDAVpLFdTw",
    "outputId": "1c2b4f81-ea35-4f12-c365-3163f8704388"
   },
   "outputs": [
    {
     "name": "stderr",
     "output_type": "stream",
     "text": [
      "UR5_slow_gripper_test: 100%|██████████| 2/2 [00:00<00:00, 53.82it/s]"
     ]
    },
    {
     "name": "stdout",
     "output_type": "stream",
     "text": [
      "{   'acts': TensorSpec(shape=(32, 50, 7), dtype=tf.float32, name=None),\n",
      "    'dataset_path': TensorSpec(shape=(32, None, 1), dtype=tf.int32, name=None),\n",
      "    'goals': TensorSpec(shape=(32, 50, 11), dtype=tf.float32, name=None),\n",
      "    'masks': TensorSpec(shape=(32, 50), dtype=tf.float32, name=None),\n",
      "    'obs': TensorSpec(shape=(32, 50, 18), dtype=tf.float32, name=None),\n",
      "    'seq_lens': TensorSpec(shape=(32,), dtype=tf.float32, name=None),\n",
      "    'tstep_idxs': TensorSpec(shape=(32, None, 1), dtype=tf.int32, name=None)}\n"
     ]
    },
    {
     "name": "stderr",
     "output_type": "stream",
     "text": [
      "\n"
     ]
    }
   ],
   "source": [
    "# Validation data\n",
    "valid_data = dl.extract(TEST_DATA_PATHS)\n",
    "valid_dataset = dl.load(valid_data)"
   ]
  },
  {
   "cell_type": "markdown",
   "metadata": {
    "id": "nN3YJSSLv9Ez",
    "pycharm": {
     "name": "#%% md\n"
    }
   },
   "source": [
    "# Model"
   ]
  },
  {
   "cell_type": "markdown",
   "metadata": {
    "id": "UyCTWom6v9E3",
    "pycharm": {
     "name": "#%% md\n"
    }
   },
   "source": [
    "## LSTM Model\n",
    "Use this to map obs -> act"
   ]
  },
  {
   "cell_type": "code",
   "execution_count": 10,
   "metadata": {},
   "outputs": [],
   "source": [
    "model_params = {'obs_dim':dl.obs_dim,\n",
    "                'goal_dim':dl.goal_dim,\n",
    "                'act_dim':dl.act_dim,\n",
    "                'layer_size':config['layer_size'], \n",
    "                'latent_dim':config['latent_dim']}\n",
    "actor = lfp.model.create_actor(**model_params, gcbc=config['gcbc'], num_distribs=config['num_distribs'])"
   ]
  },
  {
   "cell_type": "code",
   "execution_count": 11,
   "metadata": {},
   "outputs": [],
   "source": [
    "encoder = lfp.model.create_encoder(**model_params)\n",
    "planner = lfp.model.create_planner(**model_params)"
   ]
  },
  {
   "cell_type": "markdown",
   "metadata": {
    "id": "TWIpRPRuv9E6",
    "pycharm": {
     "name": "#%% md\n"
    }
   },
   "source": [
    "# Training Loop"
   ]
  },
  {
   "cell_type": "code",
   "execution_count": 19,
   "metadata": {
    "colab": {
     "base_uri": "https://localhost:8080/",
     "height": 69
    },
    "id": "-3r_TDl7v9E7",
    "outputId": "4d1c4395-df80-4fe7-c24c-ea983bca6560"
   },
   "outputs": [
    {
     "name": "stderr",
     "output_type": "stream",
     "text": [
      "\u001b[34m\u001b[1mwandb\u001b[0m: You can find your API key in your browser here: https://wandb.ai/authorize\n"
     ]
    },
    {
     "name": "stdin",
     "output_type": "stream",
     "text": [
      "\u001b[34m\u001b[1mwandb\u001b[0m: Paste an API key from your profile and hit enter:  ········································\n"
     ]
    },
    {
     "name": "stderr",
     "output_type": "stream",
     "text": [
      "\u001b[34m\u001b[1mwandb\u001b[0m: Appending key for api.wandb.ai to your netrc file: /Users/Tristan/.netrc\n"
     ]
    },
    {
     "data": {
      "text/plain": [
       "True"
      ]
     },
     "execution_count": 19,
     "metadata": {},
     "output_type": "execute_result"
    }
   ],
   "source": [
    "from tensorflow.keras.losses import MeanSquaredError\n",
    "from tensorflow.keras.metrics import Accuracy\n",
    "from tensorflow.keras.optimizers import SGD, Adam\n",
    "from tensorflow.keras.utils import Progbar\n",
    "import tensorflow_addons as tfa\n",
    "\n",
    "import time\n",
    "import io\n",
    "import wandb\n",
    "wandb.login()"
   ]
  },
  {
   "cell_type": "code",
   "execution_count": 19,
   "metadata": {
    "id": "KqmqTTIrJgHc"
   },
   "outputs": [],
   "source": [
    "from lfp.metric import MaxMetric\n",
    "from lfp.train import LFPTrainer"
   ]
  },
  {
   "cell_type": "code",
   "execution_count": 24,
   "metadata": {},
   "outputs": [],
   "source": [
    "def train_setup():\n",
    "    model_params = {'obs_dim':dl.obs_dim,\n",
    "                'goal_dim':dl.goal_dim,\n",
    "                'act_dim':dl.act_dim,\n",
    "                'layer_size':config['layer_size'], \n",
    "                'latent_dim':config['latent_dim']}\n",
    "    \n",
    "    actor = lfp.model.create_actor(**model_params, gcbc=config['gcbc'], num_distribs=config['num_distribs'])\n",
    "\n",
    "    if config['gcbc']:\n",
    "        encoder = None\n",
    "        planner = None\n",
    "    else:\n",
    "        encoder = lfp.model.create_encoder(**model_params)\n",
    "        planner = lfp.model.create_planner(**model_params)\n",
    "\n",
    "    optimizer = tf.optimizers.Adam(learning_rate=config['learning_rate'])\n",
    "    trainable_variables = actor.trainable_variables + encoder.trainable_variables + planner.trainable_variables\n",
    "\n",
    "if config['device']=='CPU':\n",
    "    train_setup()\n",
    "else:\n",
    "    with strategy.scope():\n",
    "        train_setup()\n",
    "        \n",
    "train_dist_dataset = iter(strategy.experimental_distribute_dataset(train_dataset))\n",
    "valid_dist_dataset = iter(strategy.experimental_distribute_dataset(valid_dataset))"
   ]
  },
  {
   "cell_type": "code",
   "execution_count": 31,
   "metadata": {
    "id": "7vDui_2XGhZW",
    "jupyter": {
     "source_hidden": true
    }
   },
   "outputs": [],
   "source": [
    "with strategy.scope():\n",
    "    nll_action_loss = lambda y, p_y: tf.reduce_sum(-p_y.log_prob(y), axis=2)\n",
    "    mae_action_loss = tf.keras.losses.MeanAbsoluteError(reduction=tf.keras.losses.Reduction.NONE)\n",
    "    mse_action_loss = tf.keras.losses.MeanSquaredError(reduction=tf.keras.losses.Reduction.NONE)\n",
    "\n",
    "    def compute_loss(labels, predictions, mask, seq_lens, weightings=None):\n",
    "        if PROBABILISTIC:\n",
    "            per_example_loss = nll_action_loss(labels, predictions) * mask\n",
    "        else:\n",
    "            per_example_loss = mae_action_loss(labels, predictions) * mask\n",
    "\n",
    "        per_example_loss = tf.reduce_sum(per_example_loss, axis=1) / seq_lens  # take mean along the timestep\n",
    "        return tf.nn.compute_average_loss(per_example_loss, global_batch_size=GLOBAL_BATCH_SIZE)\n",
    "\n",
    "\n",
    "    def compute_MAE(labels, predictions, mask, seq_lens, weightings=None):\n",
    "        per_example_loss = mae_action_loss(labels, predictions) * mask\n",
    "        per_example_loss = tf.reduce_sum(per_example_loss, axis=1) / seq_lens  # take mean along the timestep\n",
    "        return tf.nn.compute_average_loss(per_example_loss, global_batch_size=GLOBAL_BATCH_SIZE)\n",
    "\n",
    "\n",
    "    def compute_regularisation_loss(plan, encoding):\n",
    "        # Reverse KL(enc|plan): we want planner to map to encoder (weighted by encoder)\n",
    "        reg_loss = tfd.kl_divergence(encoding, plan)  # + KL(plan, encoding)\n",
    "        return tf.nn.compute_average_loss(reg_loss, global_batch_size=GLOBAL_BATCH_SIZE)\n",
    "\n",
    "\n",
    "    train_loss = tf.keras.metrics.Mean(name='train_loss')\n",
    "    valid_loss = tf.keras.metrics.Mean(name='valid_loss')\n",
    "    actor_grad_norm = tf.keras.metrics.Mean(name='actor_grad_norm')\n",
    "    encoder_grad_norm = tf.keras.metrics.Mean(name='encoder_grad_norm')\n",
    "    planner_grad_norm = tf.keras.metrics.Mean(name='planner_grad_norm')\n",
    "\n",
    "    actor_grad_norm_clipped = tf.keras.metrics.Mean(name='actor_grad_norm_clipped')\n",
    "    encoder_grad_norm_clipped = tf.keras.metrics.Mean(name='encoder_grad_norm_clipped')\n",
    "    planner_grad_norm_clipped = tf.keras.metrics.Mean(name='planner_grad_norm_clipped')\n",
    "\n",
    "    global_grad_norm = tf.keras.metrics.Mean(name='global_grad_norm')\n",
    "\n",
    "    test = tf.keras.metrics.Mean(name='test')\n",
    "    test2 = tf.keras.metrics.Mean(name='test2')\n",
    "\n",
    "    train_act_with_enc_loss = tf.keras.metrics.Mean(name='train_act_with_enc_loss')\n",
    "    train_act_with_plan_loss = tf.keras.metrics.Mean(name='train_act_with_plan_loss')\n",
    "    valid_act_with_enc_loss = tf.keras.metrics.Mean(name='valid_act_with_enc_loss')\n",
    "    valid_act_with_plan_loss = tf.keras.metrics.Mean(name='valid_act_with_plan_loss')\n",
    "\n",
    "    train_reg_loss = tf.keras.metrics.Mean(name='reg_loss')\n",
    "    valid_reg_loss = tf.keras.metrics.Mean(name='valid_reg_loss')\n",
    "    if INFO_VAE:\n",
    "        train_mmd_reg_loss = tf.keras.metrics.Mean(name='train_mmd_reg_loss')\n",
    "        valid_mmd_reg_loss = tf.keras.metrics.Mean(name='valid_mmd_reg_loss')\n",
    "\n",
    "    valid_position_loss = tf.keras.metrics.Mean(name='valid_position_loss')\n",
    "    valid_max_position_loss = MaxMetric(name='valid_max_position_loss')\n",
    "    valid_rotation_loss = tf.keras.metrics.Mean(name='valid_rotation_loss')\n",
    "    valid_max_rotation_loss = MaxMetric(name='valid_max_rotation_loss')\n",
    "    valid_gripper_loss = tf.keras.metrics.Mean(name='valid_rotation_loss')\n",
    "\n",
    "    model_params = {'layer_size': LAYER_SIZE, 'latent_dim': LATENT_DIM}\n",
    "    if PROBABILISTIC:\n",
    "        actor = create_actor(**model_params, GCBC=GCBC, num_distribs=3)\n",
    "\n",
    "    else:\n",
    "        actor = create_actor(**model_params, GCBC=GCBC)\n",
    "\n",
    "    actor_grad_len = len(actor.trainable_variables)\n",
    "    if GCBC:\n",
    "        encoder = None\n",
    "        planner = None\n",
    "    else:\n",
    "        encoder = create_encoder(**model_params)\n",
    "        planner = create_planner(**model_params)\n",
    "        encoder_grad_len = len(encoder.trainable_variables)\n",
    "        planner_grad_len = len(planner.trainable_variables)\n",
    "\n",
    "    optimizer = tf.optimizers.Adam(learning_rate=3e-4)\n",
    "    trainable_variables = actor.trainable_variables + encoder.trainable_variables + planner.trainable_variables\n",
    "    checkpoint = tf.train.Checkpoint(encoder=encoder,\n",
    "                                     planner=planner,\n",
    "                                     actor=actor,\n",
    "                                     optimizer=optimizer)\n",
    "\n",
    "\n",
    "# Now outside strategy .scope\n",
    "def train_step(inputs, beta, prev_global_grad_norm):\n",
    "    with tf.GradientTape() as tape, tf.GradientTape() as planner_tape:  # separate planner tape for INFO VAE\n",
    "        # Todo: figure out mask and seq_lens for new dataset \n",
    "        states, actions, goals, seq_lens, mask = inputs['obs'], inputs['acts'], inputs['goals'], inputs['seq_lens'], \\\n",
    "                                                 inputs['masks']\n",
    "        action_weights = (dataloader.act_dim - 1) * [1.0] + [GRIPPER_WEIGHT]  # 1 for all but gripper\n",
    "        if GCBC:\n",
    "            distrib = actor([states, goals])\n",
    "            loss = compute_loss(actions, distrib, mask, seq_lens, weightings=action_weights)\n",
    "            gradients = tape.gradient(loss, actor.trainable_variables)\n",
    "            optimizer.apply_gradients(zip(gradients, actor.trainable_variables))\n",
    "        else:\n",
    "            encoding = encoder([states, actions])\n",
    "            plan = planner([states[:, 0, :], goals[:, 0,\n",
    "                                             :]])  # the final goals are tiled out over the entire non masked sequence, so the first timestep is the final goal. \n",
    "            z_enc = encoding.sample()\n",
    "            z_plan = plan.sample()\n",
    "            z_enc_tiled = tf.tile(tf.expand_dims(z_enc, 1), (1, dataloader.window_size, 1))\n",
    "            z_plan_tiled = tf.tile(tf.expand_dims(z_plan, 1), (1, dataloader.window_size, 1))\n",
    "\n",
    "            enc_policy = actor([states, z_enc_tiled, goals])\n",
    "            plan_policy = actor([states, z_plan_tiled, goals])\n",
    "\n",
    "            act_enc_loss = compute_loss(actions, enc_policy, mask, seq_lens, weightings=action_weights)\n",
    "            act_plan_loss = compute_loss(actions, plan_policy, mask, seq_lens, weightings=action_weights)\n",
    "            act_loss = act_enc_loss\n",
    "\n",
    "            if INFO_VAE:\n",
    "                true_samples = tf.keras.backend.random_normal(tf.stack([z_enc.shape[0], LATENT_DIM]))\n",
    "                reg_loss = compute_mmd(true_samples, z_enc)\n",
    "                train_mmd_reg_loss.update_state(reg_loss)\n",
    "                plan_chase_enc = compute_regularisation_loss(plan, encoding)\n",
    "                train_reg_loss.update_state(plan_chase_enc)\n",
    "            else:\n",
    "                reg_loss = compute_regularisation_loss(plan, encoding)\n",
    "                train_reg_loss.update_state(reg_loss)\n",
    "            train_act_with_enc_loss.update_state(act_enc_loss)\n",
    "            train_act_with_plan_loss.update_state(act_plan_loss)\n",
    "\n",
    "            loss = act_loss + reg_loss * beta\n",
    "\n",
    "            if INFO_VAE:\n",
    "                gradients = tape.gradient(loss, actor.trainable_variables + encoder.trainable_variables)\n",
    "                optimizer.apply_gradients(zip(gradients, actor.trainable_variables + encoder.trainable_variables))\n",
    "                gradients = planner_tape.gradient(plan_chase_enc, planner.trainable_variables)\n",
    "                optimizer.apply_gradients(zip(gradients, planner.trainable_variables))\n",
    "\n",
    "            else:\n",
    "\n",
    "                gradients = tape.gradient(loss, trainable_variables)\n",
    "                # print(gradients)\n",
    "                actor_norm = tf.linalg.global_norm(gradients[:actor_grad_len])\n",
    "                encoder_norm = tf.linalg.global_norm(gradients[actor_grad_len:actor_grad_len + encoder_grad_len])\n",
    "                planner_norm = tf.linalg.global_norm(\n",
    "                    gradients[actor_grad_len + encoder_grad_len:actor_grad_len + encoder_grad_len + planner_grad_len])\n",
    "                actor_grad_norm.update_state(actor_norm)\n",
    "                encoder_grad_norm.update_state(encoder_norm)\n",
    "                planner_grad_norm.update_state(planner_norm)\n",
    "\n",
    "                # scale planner gradients\n",
    "\n",
    "                # if the gradient norm is more than 3x the previous one, clip it to the previous norm for stability\n",
    "                gradients = tf.cond(tf.linalg.global_norm(gradients) > 3 * prev_global_grad_norm,\n",
    "                                    lambda: tf.clip_by_global_norm(gradients, prev_global_grad_norm)[0],\n",
    "                                    lambda: gradients)  # must get[0] as it returns new norm as [1]\n",
    "                # gradients = tf.cond(sum_of_norms > 3*prev_global_grad_norm, lambda: [tf.clip_by_norm(g, prev_global_grad_norm) for g in gradients], lambda: gradients)\n",
    "                # test2.update_state(tf.linalg.global_norm(gradients))\n",
    "                # test.update_state(tf.linalg.global_norm(gradients[actor_grad_len+encoder_grad_len:actor_grad_len+encoder_grad_len+planner_grad_len]))\n",
    "                # make the planner converge more quickly\n",
    "                planner_grads = gradients[\n",
    "                                actor_grad_len + encoder_grad_len:actor_grad_len + encoder_grad_len + planner_grad_len]\n",
    "\n",
    "                planner_grads = [g * 10 for g in planner_grads]\n",
    "                gradients = gradients[:actor_grad_len] + gradients[\n",
    "                                                         actor_grad_len:actor_grad_len + encoder_grad_len] + planner_grads\n",
    "                # test2.update_state(tf.linalg.global_norm(gradients[actor_grad_len+encoder_grad_len:actor_grad_len+encoder_grad_len+planner_grad_len]))\n",
    "\n",
    "                actor_norm_clipped = tf.linalg.global_norm(gradients[:actor_grad_len])\n",
    "                encoder_norm_clipped = tf.linalg.global_norm(\n",
    "                    gradients[actor_grad_len:actor_grad_len + encoder_grad_len])\n",
    "                planner_norm_clipped = tf.linalg.global_norm(\n",
    "                    gradients[actor_grad_len + encoder_grad_len:actor_grad_len + encoder_grad_len + planner_grad_len])\n",
    "                actor_grad_norm_clipped.update_state(actor_norm_clipped)\n",
    "                encoder_grad_norm_clipped.update_state(encoder_norm_clipped)\n",
    "                planner_grad_norm_clipped.update_state(planner_norm_clipped)\n",
    "\n",
    "                global_grad_norm.update_state(tf.linalg.global_norm(gradients))\n",
    "\n",
    "                optimizer.apply_gradients(zip(gradients,\n",
    "                                              actor.trainable_variables + encoder.trainable_variables + planner.trainable_variables))\n",
    "\n",
    "    train_loss.update_state(loss)\n",
    "\n",
    "    return loss\n",
    "\n",
    "\n",
    "def test_step(inputs, beta):\n",
    "    states, actions, goals, seq_lens, mask = inputs['obs'], inputs['acts'], inputs['goals'], inputs['seq_lens'], inputs[\n",
    "        'masks']\n",
    "    action_weights = (dataloader.act_dim - 1) * [1.0] + [GRIPPER_WEIGHT]  # 1 for all but gripper\n",
    "    if dataloader.quaternion_act:\n",
    "        # xyz, q1-4, grip\n",
    "        action_breakdown = [3, 4, 1]\n",
    "    else:\n",
    "        action_breakdown = [3, 3, 1]\n",
    "\n",
    "    if GCBC:\n",
    "        policy = actor([states, goals], training=False)\n",
    "        loss = compute_loss(actions, policy, mask, seq_lens, weightings=action_weights)\n",
    "        if PROBABILISTIC:\n",
    "            pos_acts, rot_acts, grip_act = tf.split(policy.sample(), action_breakdown, -1)\n",
    "        else:\n",
    "            pos_acts, rot_acts, grip_act = tf.split(policy, action_breakdown, -1)\n",
    "    else:\n",
    "        encoding = encoder([states, actions])\n",
    "        plan = planner([states[:, 0, :], goals[:, 0,\n",
    "                                         :]])  # the final goals are tiled out over the entire non masked sequence, so the first timestep is the final goal. \n",
    "        z_enc = encoding.sample()\n",
    "        z_plan = plan.sample()\n",
    "        z_enc_tiled = tf.tile(tf.expand_dims(z_enc, 1), (1, dataloader.window_size, 1))\n",
    "        z_plan_tiled = tf.tile(tf.expand_dims(z_plan, 1), (1, dataloader.window_size, 1))\n",
    "\n",
    "        enc_policy = actor([states, z_enc_tiled, goals])\n",
    "        plan_policy = actor([states, z_plan_tiled, goals])\n",
    "\n",
    "        act_enc_loss = compute_loss(actions, enc_policy, mask, seq_lens, weightings=action_weights)\n",
    "        act_plan_loss = compute_loss(actions, plan_policy, mask, seq_lens, weightings=action_weights)\n",
    "        act_loss = act_plan_loss\n",
    "\n",
    "        if INFO_VAE:\n",
    "            true_samples = tf.keras.backend.random_normal(tf.stack([z_enc.shape[0], LATENT_DIM]))\n",
    "            reg_loss = compute_mmd(true_samples, z_enc)\n",
    "            valid_mmd_reg_loss.update_state(reg_loss)\n",
    "            plan_chase_enc = compute_regularisation_loss(plan, encoding)\n",
    "            valid_reg_loss.update_state(plan_chase_enc)\n",
    "        else:\n",
    "            reg_loss = compute_regularisation_loss(plan, encoding)\n",
    "            valid_reg_loss.update_state(reg_loss)\n",
    "\n",
    "        valid_act_with_enc_loss.update_state(act_enc_loss)\n",
    "        valid_act_with_plan_loss.update_state(act_plan_loss)\n",
    "\n",
    "        # pos, rot, gripper individual losses\n",
    "        if PROBABILISTIC:\n",
    "            pos_acts, rot_acts, grip_act = tf.split(plan_policy.sample(), action_breakdown, -1)\n",
    "        else:\n",
    "            pos_acts, rot_acts, grip_act = tf.split(plan_policy, action_breakdown, -1)\n",
    "\n",
    "        loss = act_loss + reg_loss * beta\n",
    "\n",
    "    true_pos_acts, true_rot_acts, true_grip_act = tf.split(actions, action_breakdown, -1)\n",
    "    valid_position_loss.update_state(compute_MAE(true_pos_acts, pos_acts, mask, seq_lens))\n",
    "    valid_max_position_loss(true_pos_acts, pos_acts, mask)\n",
    "    valid_rotation_loss.update_state(compute_MAE(true_rot_acts, rot_acts, mask, seq_lens))\n",
    "    valid_max_rotation_loss(true_rot_acts, rot_acts, mask)\n",
    "    valid_gripper_loss.update_state(compute_MAE(true_grip_act, grip_act, mask, seq_lens))\n",
    "    valid_loss.update_state(loss)\n",
    "\n",
    "    if GCBC:\n",
    "        return loss\n",
    "    else:\n",
    "        return loss, z_enc, z_plan\n",
    "\n",
    "\n",
    "@tf.function\n",
    "def distributed_train_step(dataset_inputs, beta, prev_global_grad_norm):\n",
    "    per_replica_losses = strategy.run(train_step, args=(dataset_inputs, beta, prev_global_grad_norm))\n",
    "    return strategy.reduce(tf.distribute.ReduceOp.MEAN, per_replica_losses, axis=None)\n",
    "\n",
    "\n",
    "@tf.function\n",
    "def distributed_test_step(dataset_inputs, beta):\n",
    "    if GCBC:\n",
    "        per_replica_losses = strategy.run(test_step, args=(dataset_inputs, beta))\n",
    "        return strategy.reduce(tf.distribute.ReduceOp.MEAN, per_replica_losses, axis=None)\n",
    "    else:\n",
    "        per_replica_losses, ze, zp = strategy.run(test_step, args=(dataset_inputs, beta))\n",
    "        return strategy.reduce(tf.distribute.ReduceOp.MEAN, per_replica_losses, axis=None), ze.values[0], zp.values[0]"
   ]
  },
  {
   "cell_type": "code",
   "execution_count": 18,
   "metadata": {
    "colab": {
     "base_uri": "https://localhost:8080/",
     "height": 289
    },
    "id": "xtSlIEoBlDyp",
    "outputId": "599a97a9-496d-4d59-f81f-f0946673db39"
   },
   "outputs": [
    {
     "data": {
      "image/png": "[encoded data removed]",
      "text/plain": [
       "<Figure size 432x288 with 1 Axes>"
      ]
     },
     "metadata": {
      "needs_background": "light",
      "tags": []
     },
     "output_type": "display_data"
    }
   ],
   "source": [
    "from lfp.train import BetaScheduler\n",
    "\n",
    "TRAIN_STEPS = 200000\n",
    "# 0.00001 so far works best for MAE - try lower - 0.00003 with a BETA accel of 10 so far works best, perfect encoder, nicely mapped planner\n",
    "# recall 0.01 worked okay for probabilistic - proba still too unstable!\n",
    "beta_sched = BetaScheduler('linear', \n",
    "                           beta=0.00003, \n",
    "                           beta_max=0.00003, \n",
    "                           max_steps=TRAIN_STEPS, \n",
    "                           cycles=90, \n",
    "                           duty_cycle=0.5\n",
    "                           )"
   ]
  },
  {
   "cell_type": "code",
   "execution_count": 33,
   "metadata": {
    "id": "rhSGD_2imWDi"
   },
   "outputs": [],
   "source": [
    "progbar = Progbar(TRAIN_STEPS, verbose=1, interval=0.5)\n",
    "best_valid_loss = np.float('inf')\n",
    "\n",
    "valid_inc = 20\n",
    "save_inc = 1000\n",
    "\n",
    "prev_grad_norm = np.float('inf')"
   ]
  },
  {
   "cell_type": "code",
   "execution_count": 36,
   "metadata": {
    "colab": {
     "base_uri": "https://localhost:8080/",
     "height": 36
    },
    "id": "8nmzjO2d_Hfm",
    "outputId": "f5cdf270-169e-4dd1-8dc5-0cc66551c75e"
   },
   "outputs": [
    {
     "data": {
      "application/vnd.google.colaboratory.intrinsic+json": {
       "type": "string"
      },
      "text/plain": [
       "'/content/drive/My Drive/Robotic Learning/LMP_test/Tests/'"
      ]
     },
     "execution_count": 36,
     "metadata": {
      "tags": []
     },
     "output_type": "execute_result"
    }
   ],
   "source": [
    "RESUME = True\n",
    "model_path"
   ]
  },
  {
   "cell_type": "code",
   "execution_count": 37,
   "metadata": {
    "colab": {
     "base_uri": "https://localhost:8080/",
     "height": 792,
     "referenced_widgets": [
      "be74d16c8329407eb38e6f4e80ea6da0",
      "5f5ce3be06e64bd389df5c7260a7dec3",
      "7461dd9f543d4d7abcbb69e48655f745",
      "d0ef3b057ca94d72baaaa07849c50912",
      "5f13710b899a42cd9ec5ce8d394e30af",
      "6895c85f86fc48baa96eafaa070c7265",
      "046dec87dce043ef8978fcbb329c4148",
      "ed4076ca6d904c3d9d17e22f3a3e0c6c"
     ]
    },
    "id": "oTyriZrYowMJ",
    "outputId": "901fdfbb-fe49-48b3-8b82-00ac7d3a5f03"
   },
   "outputs": [
    {
     "data": {
      "text/html": [
       "Finishing last run (ID:12621l2h) before initializing another..."
      ],
      "text/plain": [
       "<IPython.core.display.HTML object>"
      ]
     },
     "metadata": {
      "tags": []
     },
     "output_type": "display_data"
    },
    {
     "data": {
      "text/html": [
       "<br/>Waiting for W&B process to finish, PID 1778<br/>Program ended successfully."
      ],
      "text/plain": [
       "<IPython.core.display.HTML object>"
      ]
     },
     "metadata": {
      "tags": []
     },
     "output_type": "display_data"
    },
    {
     "data": {
      "application/vnd.jupyter.widget-view+json": {
       "model_id": "be74d16c8329407eb38e6f4e80ea6da0",
       "version_major": 2,
       "version_minor": 0
      },
      "text/plain": [
       "VBox(children=(Label(value=' 0.00MB of 0.00MB uploaded (0.00MB deduped)\\r'), FloatProgress(value=1.0, max=1.0)…"
      ]
     },
     "metadata": {
      "tags": []
     },
     "output_type": "display_data"
    },
    {
     "data": {
      "text/html": [
       "Find user logs for this run at: <code>/content/learning_from_play/wandb/run-20210130_024910-12621l2h/logs/debug.log</code>"
      ],
      "text/plain": [
       "<IPython.core.display.HTML object>"
      ]
     },
     "metadata": {
      "tags": []
     },
     "output_type": "display_data"
    },
    {
     "data": {
      "text/html": [
       "Find internal logs for this run at: <code>/content/learning_from_play/wandb/run-20210130_024910-12621l2h/logs/debug-internal.log</code>"
      ],
      "text/plain": [
       "<IPython.core.display.HTML object>"
      ]
     },
     "metadata": {
      "tags": []
     },
     "output_type": "display_data"
    },
    {
     "data": {
      "text/html": [
       "<h3>Run summary:</h3><br/><style>\n",
       "    table.wandb td:nth-child(1) { padding: 0 10px; text-align: right }\n",
       "    </style><table class=\"wandb\">\n",
       "<tr><td>valid_act_with_enc_loss_result</td><td>0.00251</td></tr><tr><td>train_act_with_plan_loss_result</td><td>0.00267</td></tr><tr><td>_runtime</td><td>246875</td></tr><tr><td>_timestamp</td><td>1611486306</td></tr><tr><td>beta_result</td><td>3e-05</td></tr><tr><td>train_loss_result</td><td>0.00039</td></tr><tr><td>valid_reg_loss_result</td><td>4.08413</td></tr><tr><td>valid_max_rotation_loss_result</td><td>3.55939</td></tr><tr><td>actor_grad_norm</td><td>0.03141</td></tr><tr><td>encoder_grad_norm_clipped</td><td>0.0009</td></tr><tr><td>valid_gripper_loss_result</td><td>0.01561</td></tr><tr><td>valid_position_loss_result</td><td>0.0011</td></tr><tr><td>valid_max_position_loss_result</td><td>0.48305</td></tr><tr><td>valid_act_with_plan_loss_result</td><td>0.00455</td></tr><tr><td>_step</td><td>124520</td></tr><tr><td>planner_grad_norm</td><td>0.00033</td></tr><tr><td>valid_loss_result</td><td>0.00467</td></tr><tr><td>train_reg_loss_result</td><td>2.67333</td></tr><tr><td>actor_grad_norm_clipped</td><td>0.03141</td></tr><tr><td>valid_rotation_loss_result</td><td>0.00431</td></tr><tr><td>encoder_grad_norm</td><td>0.0009</td></tr><tr><td>planner_grad_norm_clipped</td><td>0.00326</td></tr><tr><td>train_act_with_enc_loss_result</td><td>0.00031</td></tr></table>"
      ],
      "text/plain": [
       "<IPython.core.display.HTML object>"
      ]
     },
     "metadata": {
      "tags": []
     },
     "output_type": "display_data"
    },
    {
     "data": {
      "text/html": [
       "Synced 4 W&B file(s), 0 media file(s), 0 artifact file(s) and 0 other file(s)"
      ],
      "text/plain": [
       "<IPython.core.display.HTML object>"
      ]
     },
     "metadata": {
      "tags": []
     },
     "output_type": "display_data"
    },
    {
     "data": {
      "text/html": [
       "\n",
       "                    <br/>Synced <strong style=\"color:#cdcd00\">ALLB0.00003</strong>: <a href=\"https://wandb.ai/sholto/learning-from-play_v2/runs/12621l2h\" target=\"_blank\">https://wandb.ai/sholto/learning-from-play_v2/runs/12621l2h</a><br/>\n",
       "                "
      ],
      "text/plain": [
       "<IPython.core.display.HTML object>"
      ]
     },
     "metadata": {
      "tags": []
     },
     "output_type": "display_data"
    },
    {
     "data": {
      "text/html": [
       "...Successfully finished last run (ID:12621l2h). Initializing new run:<br/><br/>"
      ],
      "text/plain": [
       "<IPython.core.display.HTML object>"
      ]
     },
     "metadata": {
      "tags": []
     },
     "output_type": "display_data"
    },
    {
     "data": {
      "text/html": [
       "\n",
       "                Tracking run with wandb version 0.10.15<br/>\n",
       "                Resuming run <strong style=\"color:#cdcd00\">ALLB0.00003</strong> to <a href=\"https://wandb.ai\" target=\"_blank\">Weights & Biases</a> <a href=\"https://docs.wandb.com/integrations/jupyter.html\" target=\"_blank\">(Documentation)</a>.<br/>\n",
       "                Project page: <a href=\"https://wandb.ai/sholto/learning-from-play_v2\" target=\"_blank\">https://wandb.ai/sholto/learning-from-play_v2</a><br/>\n",
       "                Run page: <a href=\"https://wandb.ai/sholto/learning-from-play_v2/runs/12621l2h\" target=\"_blank\">https://wandb.ai/sholto/learning-from-play_v2/runs/12621l2h</a><br/>\n",
       "                Run data is saved locally in <code>/content/learning_from_play/wandb/run-20210130_025045-12621l2h</code><br/><br/>\n",
       "            "
      ],
      "text/plain": [
       "<IPython.core.display.HTML object>"
      ]
     },
     "metadata": {
      "tags": []
     },
     "output_type": "display_data"
    },
    {
     "name": "stdout",
     "output_type": "stream",
     "text": [
      "Loaded model weights and optimiser state\n"
     ]
    }
   ],
   "source": [
    "run_name = \"Tests\"#\"ALLB0.00003\"\n",
    "model_path = f'/content/drive/My Drive/Robotic Learning/LMP_test/{run_name}/'\n",
    "\n",
    "if RESUME:\n",
    "  run_id = str(np.load(model_path+'hyper_params.npz')['run_id'])\n",
    "  wandb.init(project=\"learning-from-play_v2\", id='12621l2h',  resume=\"must\")\n",
    "  load_weights(model_path, actor, encoder, planner)\n",
    "  load_optimizer_state(optimizer, model_path)\n",
    "  print('Loaded model weights and optimiser state')\n",
    "  t = wandb.run.step + valid_inc\n",
    "else:\n",
    "  wandb.init(project=\"learning-from-play_v2\")\n",
    "  wandb.run.name = run_name\n",
    "  t = 0\n"
   ]
  },
  {
   "cell_type": "code",
   "execution_count": 38,
   "metadata": {
    "id": "-ytVwQ0J6FTB"
   },
   "outputs": [],
   "source": [
    "config = wandb.config\n",
    "\n",
    "# Hparams\n",
    "config.DEVICE = DEVICE\n",
    "config.WINDOW_SIZE = dataloader.window_size\n",
    "config.WINDOW_SHIFT = dataloader.window_shift\n",
    "config.LAYER_SIZE = LAYER_SIZE\n",
    "config.LATENT_DIM = LATENT_DIM\n",
    "config.GRIPPER_WEIGHT = GRIPPER_WEIGHT\n",
    "config.TRAIN_STEPS = TRAIN_STEPS\n",
    "config.beta_schedule = beta_sched.schedule\n",
    "config.beta_min = beta_sched.beta_min\n",
    "config.beta_max = beta_sched.beta_max\n",
    "config.PROBABILISTIC = PROBABILISTIC\n",
    "config.PROPRIOCEPTION = dataloader.proprioception"
   ]
  },
  {
   "cell_type": "code",
   "execution_count": 55,
   "metadata": {
    "id": "xjnc22FOGae1"
   },
   "outputs": [],
   "source": [
    "from lfp.plotting import produce_cluster_fig, project_enc_and_plan, plot_to_image\n",
    "v_it = iter(valid_dataset) #for the cluster fig, easier with a non distributed dataset\n",
    "\n",
    "def log(metric):\n",
    "  result = metric.result()\n",
    "  metric.reset_states()\n",
    "  return result"
   ]
  },
  {
   "cell_type": "code",
   "execution_count": null,
   "metadata": {
    "colab": {
     "base_uri": "https://localhost:8080/"
    },
    "id": "IXF0Y8aKrsng",
    "outputId": "cb2a84fd-f006-4218-c53e-1f2d843444dd"
   },
   "outputs": [
    {
     "name": "stdout",
     "output_type": "stream",
     "text": [
      "   360/200000 [..............................] - ETA: 987:34:12 - Train Loss: 0.0099 - Validation Loss: 0.0132 - Time (s): 3.5722 "
     ]
    }
   ],
   "source": [
    "while t < TRAIN_STEPS:\n",
    "    start_time = time.time()\n",
    "    beta = beta_sched.scheduler(t)\n",
    "    x = next(train_dist_dataset)\n",
    "    total_train_loss = distributed_train_step(x, beta, prev_grad_norm)\n",
    "    \n",
    "    if t % valid_inc == 0:  \n",
    "        valid_x = next(valid_dist_dataset)\n",
    "        if GCBC:\n",
    "          total_val_loss = distributed_test_step(valid_x, beta)\n",
    "        else:\n",
    "          total_val_loss, ze, zp = distributed_test_step(valid_x, beta)\n",
    "\n",
    "        # validation plotting\n",
    "        progbar.add(valid_inc, [('Train Loss', train_loss.result()), ('Validation Loss', valid_loss.result()), ('Time (s)', round(time.time() - start_time, 1))])\n",
    "\n",
    "\n",
    "        wandb.log({'train_loss_result':log(train_loss),\n",
    "                    'valid_loss_result':log(valid_loss),\n",
    "                    'valid_position_loss_result':log(valid_position_loss),\n",
    "                    'valid_max_position_loss_result':log(valid_max_position_loss),\n",
    "                    'valid_rotation_loss_result':log(valid_rotation_loss),\n",
    "                    'valid_max_rotation_loss_result':log(valid_max_rotation_loss),\n",
    "                    'valid_gripper_loss_result':log(valid_gripper_loss),\n",
    "                    'actor_grad_norm': log(actor_grad_norm),\n",
    "                    'actor_grad_norm_clipped': log(actor_grad_norm_clipped),\n",
    "                  },\n",
    "                  step=t)\n",
    "          \n",
    "        if not GCBC:\n",
    "          wandb.log({\n",
    "                      'train_act_with_enc_loss_result':log(train_act_with_enc_loss),\n",
    "                      'train_act_with_plan_loss_result':log(train_act_with_plan_loss),\n",
    "                      'train_reg_loss_result':log(train_reg_loss),\n",
    "                      'valid_act_with_enc_loss_result':log(valid_act_with_enc_loss),\n",
    "                      'valid_act_with_plan_loss_result':valid_act_with_plan_loss.result(),\n",
    "                      'valid_reg_loss_result':log(valid_reg_loss),\n",
    "                      'beta_result':beta,\n",
    "                      'encoder_grad_norm': log(encoder_grad_norm),\n",
    "                      'planner_grad_norm': log(planner_grad_norm),\n",
    "                      'encoder_grad_norm_clipped': log(encoder_grad_norm_clipped),\n",
    "                      'planner_grad_norm_clipped': log(planner_grad_norm_clipped),\n",
    "                    },\n",
    "                    step=t)\n",
    "          \n",
    "\n",
    "        prev_grad_norm = log(global_grad_norm)\n",
    "          \n",
    "    if t % save_inc == 0:\n",
    "        save_weights(model_path, actor, encoder, planner)\n",
    "        if not GCBC:\n",
    "          z_enc, z_plan = produce_cluster_fig(next(v_it), encoder, planner, TEST_DATA_PATH, num_take=dataloader.batch_size)\n",
    "          wandb.log({'z_enc':z_enc, 'z_plan':z_plan}, step=t)\n",
    "          latent_fig = project_enc_and_plan(ze, zp)\n",
    "          latent_img = plot_to_image(latent_fig)\n",
    "\n",
    "    t += 1"
   ]
  },
  {
   "cell_type": "code",
   "execution_count": null,
   "metadata": {
    "id": "2xQNWRGJQLZR"
   },
   "outputs": [],
   "source": []
  }
 ],
 "metadata": {
  "accelerator": "TPU",
  "colab": {
   "collapsed_sections": [
    "G84fGXVwv9Fh",
    "-yC0L1P3v9GA",
    "8SHQGBjnv9GK",
    "b7CMny5dv9Gx",
    "njbQpQAGv9G2"
   ],
   "include_colab_link": true,
   "machine_shape": "hm",
   "name": "LMP Test.ipynb",
   "provenance": [],
   "toc_visible": true
  },
  "kernelspec": {
   "display_name": "Python 3",
   "language": "python",
   "name": "python3"
  },
  "language_info": {
   "codemirror_mode": {
    "name": "ipython",
    "version": 3
   },
   "file_extension": ".py",
   "mimetype": "text/x-python",
   "name": "python",
   "nbconvert_exporter": "python",
   "pygments_lexer": "ipython3",
   "version": "3.7.3"
  },
  "widgets": {
   "application/vnd.jupyter.widget-state+json": {
    "046dec87dce043ef8978fcbb329c4148": {
     "model_module": "@jupyter-widgets/controls",
     "model_name": "ProgressStyleModel",
     "state": {
      "_model_module": "@jupyter-widgets/controls",
      "_model_module_version": "1.5.0",
      "_model_name": "ProgressStyleModel",
      "_view_count": null,
      "_view_module": "@jupyter-widgets/base",
      "_view_module_version": "1.2.0",
      "_view_name": "StyleView",
      "bar_color": null,
      "description_width": ""
     }
    },
    "5f13710b899a42cd9ec5ce8d394e30af": {
     "model_module": "@jupyter-widgets/controls",
     "model_name": "DescriptionStyleModel",
     "state": {
      "_model_module": "@jupyter-widgets/controls",
      "_model_module_version": "1.5.0",
      "_model_name": "DescriptionStyleModel",
      "_view_count": null,
      "_view_module": "@jupyter-widgets/base",
      "_view_module_version": "1.2.0",
      "_view_name": "StyleView",
      "description_width": ""
     }
    },
    "5f5ce3be06e64bd389df5c7260a7dec3": {
     "model_module": "@jupyter-widgets/base",
     "model_name": "LayoutModel",
     "state": {
      "_model_module": "@jupyter-widgets/base",
      "_model_module_version": "1.2.0",
      "_model_name": "LayoutModel",
      "_view_count": null,
      "_view_module": "@jupyter-widgets/base",
      "_view_module_version": "1.2.0",
      "_view_name": "LayoutView",
      "align_content": null,
      "align_items": null,
      "align_self": null,
      "border": null,
      "bottom": null,
      "display": null,
      "flex": null,
      "flex_flow": null,
      "grid_area": null,
      "grid_auto_columns": null,
      "grid_auto_flow": null,
      "grid_auto_rows": null,
      "grid_column": null,
      "grid_gap": null,
      "grid_row": null,
      "grid_template_areas": null,
      "grid_template_columns": null,
      "grid_template_rows": null,
      "height": null,
      "justify_content": null,
      "justify_items": null,
      "left": null,
      "margin": null,
      "max_height": null,
      "max_width": null,
      "min_height": null,
      "min_width": null,
      "object_fit": null,
      "object_position": null,
      "order": null,
      "overflow": null,
      "overflow_x": null,
      "overflow_y": null,
      "padding": null,
      "right": null,
      "top": null,
      "visibility": null,
      "width": null
     }
    },
    "6895c85f86fc48baa96eafaa070c7265": {
     "model_module": "@jupyter-widgets/base",
     "model_name": "LayoutModel",
     "state": {
      "_model_module": "@jupyter-widgets/base",
      "_model_module_version": "1.2.0",
      "_model_name": "LayoutModel",
      "_view_count": null,
      "_view_module": "@jupyter-widgets/base",
      "_view_module_version": "1.2.0",
      "_view_name": "LayoutView",
      "align_content": null,
      "align_items": null,
      "align_self": null,
      "border": null,
      "bottom": null,
      "display": null,
      "flex": null,
      "flex_flow": null,
      "grid_area": null,
      "grid_auto_columns": null,
      "grid_auto_flow": null,
      "grid_auto_rows": null,
      "grid_column": null,
      "grid_gap": null,
      "grid_row": null,
      "grid_template_areas": null,
      "grid_template_columns": null,
      "grid_template_rows": null,
      "height": null,
      "justify_content": null,
      "justify_items": null,
      "left": null,
      "margin": null,
      "max_height": null,
      "max_width": null,
      "min_height": null,
      "min_width": null,
      "object_fit": null,
      "object_position": null,
      "order": null,
      "overflow": null,
      "overflow_x": null,
      "overflow_y": null,
      "padding": null,
      "right": null,
      "top": null,
      "visibility": null,
      "width": null
     }
    },
    "7461dd9f543d4d7abcbb69e48655f745": {
     "model_module": "@jupyter-widgets/controls",
     "model_name": "LabelModel",
     "state": {
      "_dom_classes": [],
      "_model_module": "@jupyter-widgets/controls",
      "_model_module_version": "1.5.0",
      "_model_name": "LabelModel",
      "_view_count": null,
      "_view_module": "@jupyter-widgets/controls",
      "_view_module_version": "1.5.0",
      "_view_name": "LabelView",
      "description": "",
      "description_tooltip": null,
      "layout": "IPY_MODEL_6895c85f86fc48baa96eafaa070c7265",
      "placeholder": "​",
      "style": "IPY_MODEL_5f13710b899a42cd9ec5ce8d394e30af",
      "value": " 0.01MB of 0.01MB uploaded (0.00MB deduped)\r"
     }
    },
    "be74d16c8329407eb38e6f4e80ea6da0": {
     "model_module": "@jupyter-widgets/controls",
     "model_name": "VBoxModel",
     "state": {
      "_dom_classes": [],
      "_model_module": "@jupyter-widgets/controls",
      "_model_module_version": "1.5.0",
      "_model_name": "VBoxModel",
      "_view_count": null,
      "_view_module": "@jupyter-widgets/controls",
      "_view_module_version": "1.5.0",
      "_view_name": "VBoxView",
      "box_style": "",
      "children": [
       "IPY_MODEL_7461dd9f543d4d7abcbb69e48655f745",
       "IPY_MODEL_d0ef3b057ca94d72baaaa07849c50912"
      ],
      "layout": "IPY_MODEL_5f5ce3be06e64bd389df5c7260a7dec3"
     }
    },
    "d0ef3b057ca94d72baaaa07849c50912": {
     "model_module": "@jupyter-widgets/controls",
     "model_name": "FloatProgressModel",
     "state": {
      "_dom_classes": [],
      "_model_module": "@jupyter-widgets/controls",
      "_model_module_version": "1.5.0",
      "_model_name": "FloatProgressModel",
      "_view_count": null,
      "_view_module": "@jupyter-widgets/controls",
      "_view_module_version": "1.5.0",
      "_view_name": "ProgressView",
      "bar_style": "",
      "description": "",
      "description_tooltip": null,
      "layout": "IPY_MODEL_ed4076ca6d904c3d9d17e22f3a3e0c6c",
      "max": 1,
      "min": 0,
      "orientation": "horizontal",
      "style": "IPY_MODEL_046dec87dce043ef8978fcbb329c4148",
      "value": 1
     }
    },
    "ed4076ca6d904c3d9d17e22f3a3e0c6c": {
     "model_module": "@jupyter-widgets/base",
     "model_name": "LayoutModel",
     "state": {
      "_model_module": "@jupyter-widgets/base",
      "_model_module_version": "1.2.0",
      "_model_name": "LayoutModel",
      "_view_count": null,
      "_view_module": "@jupyter-widgets/base",
      "_view_module_version": "1.2.0",
      "_view_name": "LayoutView",
      "align_content": null,
      "align_items": null,
      "align_self": null,
      "border": null,
      "bottom": null,
      "display": null,
      "flex": null,
      "flex_flow": null,
      "grid_area": null,
      "grid_auto_columns": null,
      "grid_auto_flow": null,
      "grid_auto_rows": null,
      "grid_column": null,
      "grid_gap": null,
      "grid_row": null,
      "grid_template_areas": null,
      "grid_template_columns": null,
      "grid_template_rows": null,
      "height": null,
      "justify_content": null,
      "justify_items": null,
      "left": null,
      "margin": null,
      "max_height": null,
      "max_width": null,
      "min_height": null,
      "min_width": null,
      "object_fit": null,
      "object_position": null,
      "order": null,
      "overflow": null,
      "overflow_x": null,
      "overflow_y": null,
      "padding": null,
      "right": null,
      "top": null,
      "visibility": null,
      "width": null
     }
    }
   }
  }
 },
 "nbformat": 4,
 "nbformat_minor": 4
}
