{
 "cells": [
  {
   "cell_type": "markdown",
   "metadata": {
    "colab_type": "text",
    "id": "view-in-github"
   },
   "source": [
    "<a href=\"https://colab.research.google.com/github/sholtodouglas/learning_from_play/blob/master/notebooks/languageXplay.ipynb\" target=\"_parent\"><img src=\"https://colab.research.google.com/assets/colab-badge.svg\" alt=\"Open In Colab\"/></a>"
   ]
  },
  {
   "cell_type": "code",
   "execution_count": 1,
   "metadata": {},
   "outputs": [
    {
     "name": "stdout",
     "output_type": "stream",
     "text": [
      "Namespace(batch_size=32, colab=False, data_source='LOCAL', device='CPU', from_tfrecords=True, gcbc=False, latent_dim=32, layer_size=256, learning_rate=0.0003, num_distribs=None, qbits=None, resume=False, run_name='dummy_run', test_datasets=['UR5'], train_datasets=['UR5'], train_steps=5000)\n"
     ]
    }
   ],
   "source": [
    "import argparse\n",
    "\n",
    "parser = argparse.ArgumentParser(description='LFP training arguments')\n",
    "parser.add_argument('run_name')\n",
    "parser.add_argument('--train_datasets', nargs='+', help='Training dataset names')\n",
    "parser.add_argument('--test_datasets', nargs='+', help='Testing dataset names')\n",
    "parser.add_argument('-c', '--colab', default=False, action='store_true', help='Enable if using colab environment')\n",
    "parser.add_argument('-s', '--data_source', default='LOCAL', help='Source of training data')\n",
    "parser.add_argument('-tfr', '--from_tfrecords', default=False, action='store_true', help='Enable if using tfrecords format')\n",
    "parser.add_argument('-d', '--device', default='CPU', help='Hardware device to train on')\n",
    "parser.add_argument('-b', '--batch_size', default=32, type=int)\n",
    "parser.add_argument('-l', '--layer_size', default=256, type=int, help='Layer size of models, increases size of neural net')\n",
    "parser.add_argument('-z', '--latent_dim', default=32, type=int, help='Size of the VAE latent space')\n",
    "parser.add_argument('-g', '--gcbc', default=False, action='store_true', help='Enables GCBC, a simpler model with no encoder/planner')\n",
    "parser.add_argument('-n', '--num_distribs', default=None, type=int, help='Number of distributions to use in logistic mixture model')\n",
    "parser.add_argument('-q', '--qbits', default=None, type=int, help='Number of quantisation bits to discrete distributions into. Total quantisations = 2**qbits')\n",
    "parser.add_argument('-lr', '--learning_rate', type=float, default=3e-4)\n",
    "parser.add_argument('-t', '--train_steps', type=int, default=5000)\n",
    "parser.add_argument('-r', '--resume', default=False, action='store_true')\n",
    "\n",
    "\n",
    "# args = parser.parse_args()\n",
    "\n",
    "### Sample local config\n",
    "args = parser.parse_args('''\n",
    "dummy_run \n",
    "--train_dataset UR5\n",
    "--test_dataset UR5\n",
    "-tfr\n",
    "'''.split())\n",
    "\n",
    "### Sample colab config\n",
    "# args = parser.parse_args('''\n",
    "# dummy_run \n",
    "# --train_dataset UR5 UR5_slow_gripper UR5_high_transition\n",
    "# --test_dataset UR5_slow_gripper_test\n",
    "# -c\n",
    "# -tfr\n",
    "# -s GCS\n",
    "# -d TPU\n",
    "# -b 512\n",
    "# -l 1024\n",
    "# -z 256\n",
    "# -lr 3e-4\n",
    "# '''.split())\n",
    "\n",
    "print(args)"
   ]
  },
  {
   "cell_type": "code",
   "execution_count": null,
   "metadata": {},
   "outputs": [],
   "source": [
    "# {\n",
    "#     \"colab\":true,\n",
    "#     \"data_source\":\"GCS\",\n",
    "#     \"from_tfrecords\":true,\n",
    "#     \"device\":\"TPU\", \n",
    "#     \"train_datasets\":[\"UR5\", \"UR5_slow_gripper\",\"UR5_high_transition\"],\n",
    "#     \"test_datasets\":[\"UR5_slow_gripper_test\"],\n",
    "#     \"batch_size\":512,\n",
    "#     \"layer_size\":2048,\n",
    "#     \"latent_dim\":256,\n",
    "#     \"gcbc\":false,\n",
    "#     \"num_distribs\":null,\n",
    "#     \"qbits\":null,\n",
    "#     \"learning_rate\":3e-4\n",
    "# }"
   ]
  },
  {
   "cell_type": "code",
   "execution_count": null,
   "metadata": {},
   "outputs": [],
   "source": [
    "from pathlib import Path\n",
    "from pathy import Pathy\n",
    "import os\n",
    "import requests\n",
    "import json\n",
    "import pprint\n",
    "import logging\n",
    "import glob\n",
    "import numpy as np\n",
    "import tensorflow as tf\n",
    "import pickle\n",
    "import matplotlib.pyplot as plt\n",
    "import random\n",
    "import datetime\n",
    "import time\n",
    "import io\n",
    "import wandb\n",
    "from natsort import natsorted\n",
    "\n",
    "pp = pprint.PrettyPrinter(indent=4)\n",
    "\n",
    "wandb.login()"
   ]
  },
  {
   "cell_type": "code",
   "execution_count": null,
   "metadata": {},
   "outputs": [],
   "source": [
    "#@title Workpace Setup (Local vs Colab)\n",
    "\n",
    "# Set up working directory and libraries\n",
    "if args.colab:\n",
    "    from google.colab import drive, auth\n",
    "    print('Using colab setup')\n",
    "    WORKING_PATH = Path('/content/learning_from_play')\n",
    "    # Clone repo\n",
    "    try:\n",
    "        !git clone 'https://github.com/sholtodouglas/learning_from_play' {WORKING_PATH}\n",
    "    except: \n",
    "        pass\n",
    "    # Mount drive\n",
    "    drive.mount('/content/drive')\n",
    "else:\n",
    "    print('Using local setup')\n",
    "    WORKING_PATH = Path().absolute().parent\n",
    "    print(f'Working path: {WORKING_PATH}')\n",
    "\n",
    "# Change working directory to learning_from_play\n",
    "os.chdir(WORKING_PATH)\n",
    "import lfp\n",
    "        \n",
    "# Set up storage directory and datasets\n",
    "if args.data_source == 'DRIVE':\n",
    "    assert args.colab, \"Must be using Colab\"\n",
    "    print('Reading data from Google Drive')\n",
    "    STORAGE_PATH = Path('/content/drive/My Drive/Robotic Learning')\n",
    "elif args.data_source == 'GCS':\n",
    "    assert args.colab, \"Must be using Colab\"\n",
    "    print('Reading data from Google Cloud Storage')\n",
    "    r = requests.get('https://ipinfo.io')\n",
    "    region = r.json()['region']\n",
    "    if region != 'Iowa':\n",
    "        logging.warning(f'You are accessing GCS data from {region}, outside of Iowa region')\n",
    "    project_id = 'learning-from-play-303306'\n",
    "    bucket_name = 'iowa_bucket_lfp'\n",
    "    auth.authenticate_user()\n",
    "    STORAGE_PATH = Pathy(f'gs://{bucket_name}')\n",
    "else:\n",
    "    print('Reading data from local filesystem')\n",
    "    STORAGE_PATH = WORKING_PATH\n",
    "\n",
    "print(f'Storage path: {STORAGE_PATH}')\n",
    "TRAIN_DATA_PATHS = [STORAGE_PATH/'data'/x for x in args.train_datasets]\n",
    "TEST_DATA_PATHS = [STORAGE_PATH/'data'/x for x in args.test_datasets]"
   ]
  },
  {
   "cell_type": "markdown",
   "metadata": {
    "id": "EliqxOpPv9Dy"
   },
   "source": [
    "# Data Creation"
   ]
  },
  {
   "cell_type": "code",
   "execution_count": 5,
   "metadata": {
    "colab": {
     "base_uri": "https://localhost:8080/"
    },
    "id": "6zbmq324x2yv",
    "outputId": "fcbfeb52-faf1-479a-e4b6-f5d22d53ce71"
   },
   "outputs": [
    {
     "name": "stdout",
     "output_type": "stream",
     "text": [
      "Tensorflow version 2.4.1\n",
      "[PhysicalDevice(name='/physical_device:CPU:0', device_type='CPU')]\n"
     ]
    }
   ],
   "source": [
    "print(\"Tensorflow version \" + tf.__version__)\n",
    "\n",
    "if args.device == 'TPU':\n",
    "    try:\n",
    "        tpu = tf.distribute.cluster_resolver.TPUClusterResolver()  # TPU detection\n",
    "        print('Running on TPU ', tpu.cluster_spec().as_dict()['worker'])\n",
    "    except ValueError:\n",
    "        raise BaseException('ERROR: Not connected to a TPU runtime; please see the previous cell in this notebook for instructions!')\n",
    "\n",
    "    tf.config.experimental_connect_to_cluster(tpu)\n",
    "    tf.tpu.experimental.initialize_tpu_system(tpu)\n",
    "    strategy = tf.distribute.TPUStrategy(tpu)\n",
    "\n",
    "    NUM_DEVICES = strategy.num_replicas_in_sync\n",
    "    print(\"REPLICAS: \", NUM_DEVICES)\n",
    "else:\n",
    "    physical_devices = tf.config.list_physical_devices()\n",
    "    if args.device == 'GPU':\n",
    "        tf.config.experimental.set_memory_growth(physical_devices[3], enable=True)\n",
    "    NUM_DEVICES = 1\n",
    "    print(physical_devices)"
   ]
  },
  {
   "cell_type": "markdown",
   "metadata": {
    "id": "yL0UZVa1v9D9",
    "pycharm": {
     "name": "#%% md\n"
    }
   },
   "source": [
    "# Dataset"
   ]
  },
  {
   "cell_type": "code",
   "execution_count": 6,
   "metadata": {
    "id": "1HejtDH_Yx8h"
   },
   "outputs": [],
   "source": [
    "# # Use this to edit modules without needing to restart the kernel\n",
    "# import importlib\n",
    "# importlib.reload(lfp.data)\n",
    "# importlib.reload(lfp.model)\n",
    "# importlib.reload(lfp.train)\n"
   ]
  },
  {
   "cell_type": "markdown",
   "metadata": {
    "id": "yUI6JP06FdTv"
   },
   "source": [
    "### Config Flags"
   ]
  },
  {
   "cell_type": "code",
   "execution_count": 7,
   "metadata": {
    "id": "n2lBWIyOFdTv"
   },
   "outputs": [],
   "source": [
    "GLOBAL_BATCH_SIZE = args.batch_size * NUM_DEVICES\n",
    "dl = lfp.data.PlayDataloader(batch_size=GLOBAL_BATCH_SIZE)"
   ]
  },
  {
   "cell_type": "code",
   "execution_count": 8,
   "metadata": {
    "colab": {
     "base_uri": "https://localhost:8080/"
    },
    "id": "Uiz4AXCnFdTv",
    "outputId": "ac74dea8-1bc9-4f19-de01-07c0626d3778"
   },
   "outputs": [
    {
     "name": "stdout",
     "output_type": "stream",
     "text": [
      "{   'acts': TensorSpec(shape=(32, 50, 7), dtype=tf.float32, name=None),\n",
      "    'dataset_path': TensorSpec(shape=(32, None), dtype=tf.int32, name=None),\n",
      "    'goals': TensorSpec(shape=(32, 50, 11), dtype=tf.float32, name=None),\n",
      "    'masks': TensorSpec(shape=(32, 50), dtype=tf.float32, name=None),\n",
      "    'obs': TensorSpec(shape=(32, 50, 18), dtype=tf.float32, name=None),\n",
      "    'seq_lens': TensorSpec(shape=(32,), dtype=tf.float32, name=None),\n",
      "    'tstep_idxs': TensorSpec(shape=(32, None), dtype=tf.int32, name=None)}\n"
     ]
    }
   ],
   "source": [
    "# Train data\n",
    "train_data = dl.extract(TRAIN_DATA_PATHS, from_tfrecords=args.from_tfrecords)\n",
    "train_dataset = dl.load(train_data)"
   ]
  },
  {
   "cell_type": "code",
   "execution_count": 9,
   "metadata": {
    "colab": {
     "base_uri": "https://localhost:8080/"
    },
    "id": "h8ZDAVpLFdTw",
    "outputId": "005441b6-3a49-40f1-fa8d-daa17fd3b74a"
   },
   "outputs": [
    {
     "name": "stdout",
     "output_type": "stream",
     "text": [
      "{   'acts': TensorSpec(shape=(32, 50, 7), dtype=tf.float32, name=None),\n",
      "    'dataset_path': TensorSpec(shape=(32, None), dtype=tf.int32, name=None),\n",
      "    'goals': TensorSpec(shape=(32, 50, 11), dtype=tf.float32, name=None),\n",
      "    'masks': TensorSpec(shape=(32, 50), dtype=tf.float32, name=None),\n",
      "    'obs': TensorSpec(shape=(32, 50, 18), dtype=tf.float32, name=None),\n",
      "    'seq_lens': TensorSpec(shape=(32,), dtype=tf.float32, name=None),\n",
      "    'tstep_idxs': TensorSpec(shape=(32, None), dtype=tf.int32, name=None)}\n"
     ]
    }
   ],
   "source": [
    "# Validation data\n",
    "valid_data = dl.extract(TEST_DATA_PATHS, from_tfrecords=args.from_tfrecords)\n",
    "valid_dataset = dl.load(valid_data)"
   ]
  },
  {
   "cell_type": "markdown",
   "metadata": {
    "id": "nN3YJSSLv9Ez",
    "pycharm": {
     "name": "#%% md\n"
    }
   },
   "source": [
    "# Model"
   ]
  },
  {
   "cell_type": "markdown",
   "metadata": {
    "id": "TWIpRPRuv9E6",
    "pycharm": {
     "name": "#%% md\n"
    }
   },
   "source": [
    "# Training Loop"
   ]
  },
  {
   "cell_type": "code",
   "execution_count": 17,
   "metadata": {
    "id": "2uMXBjGzgZCA"
   },
   "outputs": [],
   "source": [
    "def train_setup():\n",
    "    model_params = {'obs_dim':dl.obs_dim,\n",
    "                    'goal_dim':dl.goal_dim,\n",
    "                    'act_dim':dl.act_dim,\n",
    "                    'layer_size':args.layer_size, \n",
    "                    'latent_dim':args.latent_dim}\n",
    "    \n",
    "    actor = lfp.model.create_actor(**model_params, gcbc=args.gcbc, num_distribs=args.num_distribs)\n",
    "\n",
    "    if args.gcbc:\n",
    "        encoder = None\n",
    "        planner = None\n",
    "    else:\n",
    "        encoder = lfp.model.create_encoder(**model_params)\n",
    "        planner = lfp.model.create_planner(**model_params)\n",
    "        \n",
    "    trainer = lfp.train.LFPTrainer(dl, \n",
    "                                 actor,\n",
    "                                 encoder=encoder, \n",
    "                                 planner=planner, \n",
    "                                 probabilistic=args.num_distribs is not None,\n",
    "                                 distribute_strategy=strategy,\n",
    "                                 learning_rate=args.learning_rate,\n",
    "                                 clipnorm=1.0,\n",
    "                                 gcbc=args.gcbc)\n",
    "    \n",
    "    return trainer\n",
    "\n",
    "if args.device=='CPU':\n",
    "    trainer = train_setup()\n",
    "    train_dataset = iter(train_dataset)\n",
    "    valid_dataset = iter(valid_dataset)\n",
    "else:\n",
    "    with strategy.scope():\n",
    "        trainer = train_setup()   \n",
    "    train_dataset = iter(strategy.experimental_distribute_dataset(train_dataset))\n",
    "    valid_dataset = iter(strategy.experimental_distribute_dataset(valid_dataset))"
   ]
  },
  {
   "cell_type": "code",
   "execution_count": 18,
   "metadata": {
    "colab": {
     "base_uri": "https://localhost:8080/",
     "height": 289
    },
    "id": "xtSlIEoBlDyp",
    "outputId": "e72adb3b-c02a-4406-f40d-88ab37f4b78e"
   },
   "outputs": [
    {
     "data": {
      "image/png": "[encoded data removed]",
      "text/plain": [
       "<Figure size 432x288 with 1 Axes>"
      ]
     },
     "metadata": {
      "needs_background": "light"
     },
     "output_type": "display_data"
    }
   ],
   "source": [
    "# 0.00001 so far works best for MAE - try lower - 0.00003 with a BETA accel of 10 so far works best, perfect encoder, nicely mapped planner\n",
    "# recall 0.01 worked okay for probabilistic - proba still too unstable!\n",
    "beta_sched = lfp.train.BetaScheduler('linear', \n",
    "                                   beta=0.00003, \n",
    "                                   beta_max=0.00003, \n",
    "                                   max_steps=args.train_steps, \n",
    "                                   cycles=90, \n",
    "                                   duty_cycle=0.5)"
   ]
  },
  {
   "cell_type": "code",
   "execution_count": 19,
   "metadata": {
    "id": "rhSGD_2imWDi"
   },
   "outputs": [],
   "source": [
    "progbar = tf.keras.utils.Progbar(args.train_steps, verbose=1, interval=0.5)\n",
    "best_valid_loss = np.float('inf')\n",
    "\n",
    "valid_inc = 20\n",
    "save_inc = 1000\n",
    "\n",
    "prev_grad_norm = np.float('inf')"
   ]
  },
  {
   "cell_type": "code",
   "execution_count": 20,
   "metadata": {
    "colab": {
     "base_uri": "https://localhost:8080/",
     "height": 1000,
     "referenced_widgets": [
      "6d6887969e5d484384667f5f4fe4a581",
      "652d0aef5d3144618a45c8012d9a0bc2",
      "4f578ba444034234a3387e791f5b7900",
      "74a5e0c5e3484748a96c6eca8a3ff07a",
      "12fbeb8587394eeebad5b8d7d90eee22",
      "894a73e08c184b908bd985a6927235d0",
      "024d2b0c4ea24adba0b66ce199f5260b",
      "02b4c8386f8e4fceb502e8c5b7aa29c6"
     ]
    },
    "id": "oTyriZrYowMJ",
    "outputId": "51f667db-bfc9-4313-ce3e-0d706c50cf13"
   },
   "outputs": [
    {
     "data": {
      "text/html": [
       "Finishing last run (ID:3iq32kx8) before initializing another..."
      ],
      "text/plain": [
       "<IPython.core.display.HTML object>"
      ]
     },
     "metadata": {},
     "output_type": "display_data"
    },
    {
     "data": {
      "text/html": [
       "<br/>Waiting for W&B process to finish, PID 5557<br/>Program ended successfully."
      ],
      "text/plain": [
       "<IPython.core.display.HTML object>"
      ]
     },
     "metadata": {},
     "output_type": "display_data"
    },
    {
     "data": {
      "application/vnd.jupyter.widget-view+json": {
       "model_id": "",
       "version_major": 2,
       "version_minor": 0
      },
      "text/plain": [
       "VBox(children=(Label(value=' 0.00MB of 0.00MB uploaded (0.00MB deduped)\\r'), FloatProgress(value=1.0, max=1.0)…"
      ]
     },
     "metadata": {},
     "output_type": "display_data"
    },
    {
     "data": {
      "text/html": [
       "Find user logs for this run at: <code>/Users/Tristan/Documents/Robotic Learning/learning_from_play/wandb/run-20210131_175300-3iq32kx8/logs/debug.log</code>"
      ],
      "text/plain": [
       "<IPython.core.display.HTML object>"
      ]
     },
     "metadata": {},
     "output_type": "display_data"
    },
    {
     "data": {
      "text/html": [
       "Find internal logs for this run at: <code>/Users/Tristan/Documents/Robotic Learning/learning_from_play/wandb/run-20210131_175300-3iq32kx8/logs/debug-internal.log</code>"
      ],
      "text/plain": [
       "<IPython.core.display.HTML object>"
      ]
     },
     "metadata": {},
     "output_type": "display_data"
    },
    {
     "data": {
      "text/html": [
       "Synced 4 W&B file(s), 0 media file(s), 0 artifact file(s) and 0 other file(s)"
      ],
      "text/plain": [
       "<IPython.core.display.HTML object>"
      ]
     },
     "metadata": {},
     "output_type": "display_data"
    },
    {
     "data": {
      "text/html": [
       "\n",
       "                    <br/>Synced <strong style=\"color:#cdcd00\">faithful-terrain-5</strong>: <a href=\"https://wandb.ai/tfrizza/learning-from-play_v2/runs/3iq32kx8\" target=\"_blank\">https://wandb.ai/tfrizza/learning-from-play_v2/runs/3iq32kx8</a><br/>\n",
       "                "
      ],
      "text/plain": [
       "<IPython.core.display.HTML object>"
      ]
     },
     "metadata": {},
     "output_type": "display_data"
    },
    {
     "data": {
      "text/html": [
       "...Successfully finished last run (ID:3iq32kx8). Initializing new run:<br/><br/>"
      ],
      "text/plain": [
       "<IPython.core.display.HTML object>"
      ]
     },
     "metadata": {},
     "output_type": "display_data"
    },
    {
     "data": {
      "text/html": [
       "\n",
       "                Tracking run with wandb version 0.10.15<br/>\n",
       "                Syncing run <strong style=\"color:#cdcd00\">eager-tree-6</strong> to <a href=\"https://wandb.ai\" target=\"_blank\">Weights & Biases</a> <a href=\"https://docs.wandb.com/integrations/jupyter.html\" target=\"_blank\">(Documentation)</a>.<br/>\n",
       "                Project page: <a href=\"https://wandb.ai/tfrizza/learning-from-play_v2\" target=\"_blank\">https://wandb.ai/tfrizza/learning-from-play_v2</a><br/>\n",
       "                Run page: <a href=\"https://wandb.ai/tfrizza/learning-from-play_v2/runs/1crwrdon\" target=\"_blank\">https://wandb.ai/tfrizza/learning-from-play_v2/runs/1crwrdon</a><br/>\n",
       "                Run data is saved locally in <code>/Users/Tristan/Documents/Robotic Learning/learning_from_play/wandb/run-20210131_175519-1crwrdon</code><br/><br/>\n",
       "            "
      ],
      "text/plain": [
       "<IPython.core.display.HTML object>"
      ]
     },
     "metadata": {},
     "output_type": "display_data"
    }
   ],
   "source": [
    "model_path = f'/content/drive/My Drive/Robotic Learning/saved_models/{args.run_name}/'\n",
    "\n",
    "if args.resume:\n",
    "    # TODO: Fix resume id\n",
    "    # Fix `load_optimizer_state` given we now have 3 optimizers\n",
    "    wandb.init(project=\"learning-from-play_v2\", id='12621l2h', resume=\"must\")\n",
    "    trainer.load_weights(model_path, with_optimizer=True)\n",
    "    print('Loaded model weights and optimiser state')\n",
    "    t = wandb.run.step + valid_inc\n",
    "else:\n",
    "    wandb.init(project=\"learning-from-play_v2\", config=args)\n",
    "    wandb.run.name = args.run_name\n",
    "    t = 0"
   ]
  },
  {
   "cell_type": "code",
   "execution_count": 21,
   "metadata": {
    "id": "xjnc22FOGae1"
   },
   "outputs": [],
   "source": [
    "# v_it = iter(valid_dataset) # for the cluster fig, easier with a non distributed dataset"
   ]
  },
  {
   "cell_type": "code",
   "execution_count": null,
   "metadata": {
    "colab": {
     "base_uri": "https://localhost:8080/",
     "height": 1000
    },
    "id": "IXF0Y8aKrsng",
    "outputId": "31887155-68fc-4419-9eaf-8f1e802d5fe3"
   },
   "outputs": [],
   "source": [
    "while t < args.train_steps:\n",
    "    start_time = time.time()\n",
    "    beta = beta_sched.scheduler(t)\n",
    "    x = next(train_dataset)\n",
    "    total_train_loss = trainer.distributed_train_step(x, beta)\n",
    "    \n",
    "    if t % valid_inc == 0:  \n",
    "        valid_x = next(valid_dataset)\n",
    "        if args.gcbc:\n",
    "            total_val_loss, metrics = trainer.distributed_test_step(valid_x, beta)\n",
    "        else:\n",
    "            total_val_loss, metrics, ze, zp = trainer.distributed_test_step(valid_x, beta)\n",
    "\n",
    "        # validation plotting\n",
    "        progbar.add(valid_inc, [('Train Loss', metrics['train_loss']), \n",
    "                                ('Validation Loss', metrics['valid_loss']), \n",
    "                                ('Time (s)', round(time.time() - start_time, 1))])\n",
    "\n",
    "        wandb.log(metrics, step=t)\n",
    "          \n",
    "    if t % save_inc == 0:\n",
    "        trainer.save_weights(model_path, args)\n",
    "        if not args.gcbc:\n",
    "            # z_enc, z_plan = lfp.plotting.produce_cluster_fig(next(valid_dataset), trainer.encoder, trainer.planner, TEST_DATA_PATHS[0], num_take=dl.batch_size)\n",
    "            # wandb.log({'z_enc':z_enc, 'z_plan':z_plan}, step=t)\n",
    "            latent_fig = lfp.plotting.project_enc_and_plan(ze, zp)\n",
    "            #latent_img = plot_to_image(latent_fig)\n",
    "    t += 1"
   ]
  },
  {
   "cell_type": "code",
   "execution_count": null,
   "metadata": {},
   "outputs": [],
   "source": []
  }
 ],
 "metadata": {
  "accelerator": "TPU",
  "colab": {
   "collapsed_sections": [
    "G84fGXVwv9Fh",
    "-yC0L1P3v9GA",
    "8SHQGBjnv9GK",
    "b7CMny5dv9Gx",
    "njbQpQAGv9G2"
   ],
   "include_colab_link": true,
   "machine_shape": "hm",
   "name": "LMP Test.ipynb",
   "provenance": [],
   "toc_visible": true
  },
  "kernelspec": {
   "display_name": "lfp_venv",
   "language": "python",
   "name": "lfp_venv"
  },
  "language_info": {
   "codemirror_mode": {
    "name": "ipython",
    "version": 3
   },
   "file_extension": ".py",
   "mimetype": "text/x-python",
   "name": "python",
   "nbconvert_exporter": "python",
   "pygments_lexer": "ipython3",
   "version": "3.8.2"
  },
  "widgets": {
   "application/vnd.jupyter.widget-state+json": {
    "024d2b0c4ea24adba0b66ce199f5260b": {
     "model_module": "@jupyter-widgets/controls",
     "model_name": "ProgressStyleModel",
     "state": {
      "_model_module": "@jupyter-widgets/controls",
      "_model_module_version": "1.5.0",
      "_model_name": "ProgressStyleModel",
      "_view_count": null,
      "_view_module": "@jupyter-widgets/base",
      "_view_module_version": "1.2.0",
      "_view_name": "StyleView",
      "bar_color": null,
      "description_width": ""
     }
    },
    "02b4c8386f8e4fceb502e8c5b7aa29c6": {
     "model_module": "@jupyter-widgets/base",
     "model_name": "LayoutModel",
     "state": {
      "_model_module": "@jupyter-widgets/base",
      "_model_module_version": "1.2.0",
      "_model_name": "LayoutModel",
      "_view_count": null,
      "_view_module": "@jupyter-widgets/base",
      "_view_module_version": "1.2.0",
      "_view_name": "LayoutView",
      "align_content": null,
      "align_items": null,
      "align_self": null,
      "border": null,
      "bottom": null,
      "display": null,
      "flex": null,
      "flex_flow": null,
      "grid_area": null,
      "grid_auto_columns": null,
      "grid_auto_flow": null,
      "grid_auto_rows": null,
      "grid_column": null,
      "grid_gap": null,
      "grid_row": null,
      "grid_template_areas": null,
      "grid_template_columns": null,
      "grid_template_rows": null,
      "height": null,
      "justify_content": null,
      "justify_items": null,
      "left": null,
      "margin": null,
      "max_height": null,
      "max_width": null,
      "min_height": null,
      "min_width": null,
      "object_fit": null,
      "object_position": null,
      "order": null,
      "overflow": null,
      "overflow_x": null,
      "overflow_y": null,
      "padding": null,
      "right": null,
      "top": null,
      "visibility": null,
      "width": null
     }
    },
    "12fbeb8587394eeebad5b8d7d90eee22": {
     "model_module": "@jupyter-widgets/controls",
     "model_name": "DescriptionStyleModel",
     "state": {
      "_model_module": "@jupyter-widgets/controls",
      "_model_module_version": "1.5.0",
      "_model_name": "DescriptionStyleModel",
      "_view_count": null,
      "_view_module": "@jupyter-widgets/base",
      "_view_module_version": "1.2.0",
      "_view_name": "StyleView",
      "description_width": ""
     }
    },
    "4f578ba444034234a3387e791f5b7900": {
     "model_module": "@jupyter-widgets/controls",
     "model_name": "LabelModel",
     "state": {
      "_dom_classes": [],
      "_model_module": "@jupyter-widgets/controls",
      "_model_module_version": "1.5.0",
      "_model_name": "LabelModel",
      "_view_count": null,
      "_view_module": "@jupyter-widgets/controls",
      "_view_module_version": "1.5.0",
      "_view_name": "LabelView",
      "description": "",
      "description_tooltip": null,
      "layout": "IPY_MODEL_894a73e08c184b908bd985a6927235d0",
      "placeholder": "​",
      "style": "IPY_MODEL_12fbeb8587394eeebad5b8d7d90eee22",
      "value": " 0.03MB of 0.03MB uploaded (0.00MB deduped)\r"
     }
    },
    "652d0aef5d3144618a45c8012d9a0bc2": {
     "model_module": "@jupyter-widgets/base",
     "model_name": "LayoutModel",
     "state": {
      "_model_module": "@jupyter-widgets/base",
      "_model_module_version": "1.2.0",
      "_model_name": "LayoutModel",
      "_view_count": null,
      "_view_module": "@jupyter-widgets/base",
      "_view_module_version": "1.2.0",
      "_view_name": "LayoutView",
      "align_content": null,
      "align_items": null,
      "align_self": null,
      "border": null,
      "bottom": null,
      "display": null,
      "flex": null,
      "flex_flow": null,
      "grid_area": null,
      "grid_auto_columns": null,
      "grid_auto_flow": null,
      "grid_auto_rows": null,
      "grid_column": null,
      "grid_gap": null,
      "grid_row": null,
      "grid_template_areas": null,
      "grid_template_columns": null,
      "grid_template_rows": null,
      "height": null,
      "justify_content": null,
      "justify_items": null,
      "left": null,
      "margin": null,
      "max_height": null,
      "max_width": null,
      "min_height": null,
      "min_width": null,
      "object_fit": null,
      "object_position": null,
      "order": null,
      "overflow": null,
      "overflow_x": null,
      "overflow_y": null,
      "padding": null,
      "right": null,
      "top": null,
      "visibility": null,
      "width": null
     }
    },
    "6d6887969e5d484384667f5f4fe4a581": {
     "model_module": "@jupyter-widgets/controls",
     "model_name": "VBoxModel",
     "state": {
      "_dom_classes": [],
      "_model_module": "@jupyter-widgets/controls",
      "_model_module_version": "1.5.0",
      "_model_name": "VBoxModel",
      "_view_count": null,
      "_view_module": "@jupyter-widgets/controls",
      "_view_module_version": "1.5.0",
      "_view_name": "VBoxView",
      "box_style": "",
      "children": [
       "IPY_MODEL_4f578ba444034234a3387e791f5b7900",
       "IPY_MODEL_74a5e0c5e3484748a96c6eca8a3ff07a"
      ],
      "layout": "IPY_MODEL_652d0aef5d3144618a45c8012d9a0bc2"
     }
    },
    "74a5e0c5e3484748a96c6eca8a3ff07a": {
     "model_module": "@jupyter-widgets/controls",
     "model_name": "FloatProgressModel",
     "state": {
      "_dom_classes": [],
      "_model_module": "@jupyter-widgets/controls",
      "_model_module_version": "1.5.0",
      "_model_name": "FloatProgressModel",
      "_view_count": null,
      "_view_module": "@jupyter-widgets/controls",
      "_view_module_version": "1.5.0",
      "_view_name": "ProgressView",
      "bar_style": "",
      "description": "",
      "description_tooltip": null,
      "layout": "IPY_MODEL_02b4c8386f8e4fceb502e8c5b7aa29c6",
      "max": 1,
      "min": 0,
      "orientation": "horizontal",
      "style": "IPY_MODEL_024d2b0c4ea24adba0b66ce199f5260b",
      "value": 1
     }
    },
    "894a73e08c184b908bd985a6927235d0": {
     "model_module": "@jupyter-widgets/base",
     "model_name": "LayoutModel",
     "state": {
      "_model_module": "@jupyter-widgets/base",
      "_model_module_version": "1.2.0",
      "_model_name": "LayoutModel",
      "_view_count": null,
      "_view_module": "@jupyter-widgets/base",
      "_view_module_version": "1.2.0",
      "_view_name": "LayoutView",
      "align_content": null,
      "align_items": null,
      "align_self": null,
      "border": null,
      "bottom": null,
      "display": null,
      "flex": null,
      "flex_flow": null,
      "grid_area": null,
      "grid_auto_columns": null,
      "grid_auto_flow": null,
      "grid_auto_rows": null,
      "grid_column": null,
      "grid_gap": null,
      "grid_row": null,
      "grid_template_areas": null,
      "grid_template_columns": null,
      "grid_template_rows": null,
      "height": null,
      "justify_content": null,
      "justify_items": null,
      "left": null,
      "margin": null,
      "max_height": null,
      "max_width": null,
      "min_height": null,
      "min_width": null,
      "object_fit": null,
      "object_position": null,
      "order": null,
      "overflow": null,
      "overflow_x": null,
      "overflow_y": null,
      "padding": null,
      "right": null,
      "top": null,
      "visibility": null,
      "width": null
     }
    }
   }
  }
 },
 "nbformat": 4,
 "nbformat_minor": 4
}
