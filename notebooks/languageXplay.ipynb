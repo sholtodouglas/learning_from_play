{
  "nbformat": 4,
  "nbformat_minor": 0,
  "metadata": {
    "accelerator": "TPU",
    "colab": {
      "name": "LMP Test.ipynb",
      "provenance": [],
      "collapsed_sections": [
        "G84fGXVwv9Fh",
        "-yC0L1P3v9GA",
        "8SHQGBjnv9GK",
        "b7CMny5dv9Gx",
        "njbQpQAGv9G2"
      ],
      "toc_visible": true,
      "machine_shape": "hm",
      "include_colab_link": true
    },
    "kernelspec": {
      "display_name": "Python 3",
      "language": "python",
      "name": "python3"
    },
    "language_info": {
      "codemirror_mode": {
        "name": "ipython",
        "version": 3
      },
      "file_extension": ".py",
      "mimetype": "text/x-python",
      "name": "python",
      "nbconvert_exporter": "python",
      "pygments_lexer": "ipython3",
      "version": "3.7.3"
    },
    "widgets": {
      "application/vnd.jupyter.widget-state+json": {
        "6d6887969e5d484384667f5f4fe4a581": {
          "model_module": "@jupyter-widgets/controls",
          "model_name": "VBoxModel",
          "state": {
            "_view_name": "VBoxView",
            "_dom_classes": [],
            "_model_name": "VBoxModel",
            "_view_module": "@jupyter-widgets/controls",
            "_model_module_version": "1.5.0",
            "_view_count": null,
            "_view_module_version": "1.5.0",
            "box_style": "",
            "layout": "IPY_MODEL_652d0aef5d3144618a45c8012d9a0bc2",
            "_model_module": "@jupyter-widgets/controls",
            "children": [
              "IPY_MODEL_4f578ba444034234a3387e791f5b7900",
              "IPY_MODEL_74a5e0c5e3484748a96c6eca8a3ff07a"
            ]
          }
        },
        "652d0aef5d3144618a45c8012d9a0bc2": {
          "model_module": "@jupyter-widgets/base",
          "model_name": "LayoutModel",
          "state": {
            "_view_name": "LayoutView",
            "grid_template_rows": null,
            "right": null,
            "justify_content": null,
            "_view_module": "@jupyter-widgets/base",
            "overflow": null,
            "_model_module_version": "1.2.0",
            "_view_count": null,
            "flex_flow": null,
            "width": null,
            "min_width": null,
            "border": null,
            "align_items": null,
            "bottom": null,
            "_model_module": "@jupyter-widgets/base",
            "top": null,
            "grid_column": null,
            "overflow_y": null,
            "overflow_x": null,
            "grid_auto_flow": null,
            "grid_area": null,
            "grid_template_columns": null,
            "flex": null,
            "_model_name": "LayoutModel",
            "justify_items": null,
            "grid_row": null,
            "max_height": null,
            "align_content": null,
            "visibility": null,
            "align_self": null,
            "height": null,
            "min_height": null,
            "padding": null,
            "grid_auto_rows": null,
            "grid_gap": null,
            "max_width": null,
            "order": null,
            "_view_module_version": "1.2.0",
            "grid_template_areas": null,
            "object_position": null,
            "object_fit": null,
            "grid_auto_columns": null,
            "margin": null,
            "display": null,
            "left": null
          }
        },
        "4f578ba444034234a3387e791f5b7900": {
          "model_module": "@jupyter-widgets/controls",
          "model_name": "LabelModel",
          "state": {
            "_view_name": "LabelView",
            "style": "IPY_MODEL_12fbeb8587394eeebad5b8d7d90eee22",
            "_dom_classes": [],
            "description": "",
            "_model_name": "LabelModel",
            "placeholder": "​",
            "_view_module": "@jupyter-widgets/controls",
            "_model_module_version": "1.5.0",
            "value": " 0.03MB of 0.03MB uploaded (0.00MB deduped)\r",
            "_view_count": null,
            "_view_module_version": "1.5.0",
            "description_tooltip": null,
            "_model_module": "@jupyter-widgets/controls",
            "layout": "IPY_MODEL_894a73e08c184b908bd985a6927235d0"
          }
        },
        "74a5e0c5e3484748a96c6eca8a3ff07a": {
          "model_module": "@jupyter-widgets/controls",
          "model_name": "FloatProgressModel",
          "state": {
            "_view_name": "ProgressView",
            "style": "IPY_MODEL_024d2b0c4ea24adba0b66ce199f5260b",
            "_dom_classes": [],
            "description": "",
            "_model_name": "FloatProgressModel",
            "bar_style": "",
            "max": 1,
            "_view_module": "@jupyter-widgets/controls",
            "_model_module_version": "1.5.0",
            "value": 1,
            "_view_count": null,
            "_view_module_version": "1.5.0",
            "orientation": "horizontal",
            "min": 0,
            "description_tooltip": null,
            "_model_module": "@jupyter-widgets/controls",
            "layout": "IPY_MODEL_02b4c8386f8e4fceb502e8c5b7aa29c6"
          }
        },
        "12fbeb8587394eeebad5b8d7d90eee22": {
          "model_module": "@jupyter-widgets/controls",
          "model_name": "DescriptionStyleModel",
          "state": {
            "_view_name": "StyleView",
            "_model_name": "DescriptionStyleModel",
            "description_width": "",
            "_view_module": "@jupyter-widgets/base",
            "_model_module_version": "1.5.0",
            "_view_count": null,
            "_view_module_version": "1.2.0",
            "_model_module": "@jupyter-widgets/controls"
          }
        },
        "894a73e08c184b908bd985a6927235d0": {
          "model_module": "@jupyter-widgets/base",
          "model_name": "LayoutModel",
          "state": {
            "_view_name": "LayoutView",
            "grid_template_rows": null,
            "right": null,
            "justify_content": null,
            "_view_module": "@jupyter-widgets/base",
            "overflow": null,
            "_model_module_version": "1.2.0",
            "_view_count": null,
            "flex_flow": null,
            "width": null,
            "min_width": null,
            "border": null,
            "align_items": null,
            "bottom": null,
            "_model_module": "@jupyter-widgets/base",
            "top": null,
            "grid_column": null,
            "overflow_y": null,
            "overflow_x": null,
            "grid_auto_flow": null,
            "grid_area": null,
            "grid_template_columns": null,
            "flex": null,
            "_model_name": "LayoutModel",
            "justify_items": null,
            "grid_row": null,
            "max_height": null,
            "align_content": null,
            "visibility": null,
            "align_self": null,
            "height": null,
            "min_height": null,
            "padding": null,
            "grid_auto_rows": null,
            "grid_gap": null,
            "max_width": null,
            "order": null,
            "_view_module_version": "1.2.0",
            "grid_template_areas": null,
            "object_position": null,
            "object_fit": null,
            "grid_auto_columns": null,
            "margin": null,
            "display": null,
            "left": null
          }
        },
        "024d2b0c4ea24adba0b66ce199f5260b": {
          "model_module": "@jupyter-widgets/controls",
          "model_name": "ProgressStyleModel",
          "state": {
            "_view_name": "StyleView",
            "_model_name": "ProgressStyleModel",
            "description_width": "",
            "_view_module": "@jupyter-widgets/base",
            "_model_module_version": "1.5.0",
            "_view_count": null,
            "_view_module_version": "1.2.0",
            "bar_color": null,
            "_model_module": "@jupyter-widgets/controls"
          }
        },
        "02b4c8386f8e4fceb502e8c5b7aa29c6": {
          "model_module": "@jupyter-widgets/base",
          "model_name": "LayoutModel",
          "state": {
            "_view_name": "LayoutView",
            "grid_template_rows": null,
            "right": null,
            "justify_content": null,
            "_view_module": "@jupyter-widgets/base",
            "overflow": null,
            "_model_module_version": "1.2.0",
            "_view_count": null,
            "flex_flow": null,
            "width": null,
            "min_width": null,
            "border": null,
            "align_items": null,
            "bottom": null,
            "_model_module": "@jupyter-widgets/base",
            "top": null,
            "grid_column": null,
            "overflow_y": null,
            "overflow_x": null,
            "grid_auto_flow": null,
            "grid_area": null,
            "grid_template_columns": null,
            "flex": null,
            "_model_name": "LayoutModel",
            "justify_items": null,
            "grid_row": null,
            "max_height": null,
            "align_content": null,
            "visibility": null,
            "align_self": null,
            "height": null,
            "min_height": null,
            "padding": null,
            "grid_auto_rows": null,
            "grid_gap": null,
            "max_width": null,
            "order": null,
            "_view_module_version": "1.2.0",
            "grid_template_areas": null,
            "object_position": null,
            "object_fit": null,
            "grid_auto_columns": null,
            "margin": null,
            "display": null,
            "left": null
          }
        }
      }
    }
  },
  "cells": [
    {
      "cell_type": "markdown",
      "metadata": {
        "id": "view-in-github",
        "colab_type": "text"
      },
      "source": [
        "<a href=\"https://colab.research.google.com/github/sholtodouglas/learning_from_play/blob/master/notebooks/languageXplay.ipynb\" target=\"_parent\"><img src=\"https://colab.research.google.com/assets/colab-badge.svg\" alt=\"Open In Colab\"/></a>"
      ]
    },
    {
      "cell_type": "code",
      "metadata": {
        "id": "Xchjk_eKp26Q"
      },
      "source": [
        "#@title Install package dependencies (forces restart)\n",
        "import os\n",
        "\n",
        "def restart_runtime():\n",
        "    print('Runtime restarting...')\n",
        "    os.kill(os.getpid(), 9)\n",
        "    \n",
        "!git clone 'https://github.com/sholtodouglas/pandaRL' 'local_packages/pandaRL'\n",
        "!pip install -e 'local_packages/pandaRL/.'\n",
        "\n",
        "restart_runtime()"
      ],
      "execution_count": null,
      "outputs": []
    },
    {
      "cell_type": "code",
      "metadata": {
        "colab": {
          "base_uri": "https://localhost:8080/"
        },
        "id": "7jUYgZwpGfav",
        "outputId": "fdd967c5-0679-493b-edf0-352eb76bcdde"
      },
      "source": [
        "!pip -q install pybullet wandb"
      ],
      "execution_count": 1,
      "outputs": [
        {
          "output_type": "stream",
          "text": [
            "\u001b[K     |████████████████████████████████| 76.6MB 70kB/s \n",
            "\u001b[K     |████████████████████████████████| 1.9MB 66.5MB/s \n",
            "\u001b[K     |████████████████████████████████| 102kB 11.1MB/s \n",
            "\u001b[K     |████████████████████████████████| 102kB 13.0MB/s \n",
            "\u001b[K     |████████████████████████████████| 163kB 64.6MB/s \n",
            "\u001b[K     |████████████████████████████████| 133kB 62.9MB/s \n",
            "\u001b[K     |████████████████████████████████| 71kB 9.4MB/s \n",
            "\u001b[?25h  Building wheel for watchdog (setup.py) ... \u001b[?25l\u001b[?25hdone\n",
            "  Building wheel for subprocess32 (setup.py) ... \u001b[?25l\u001b[?25hdone\n",
            "  Building wheel for pathtools (setup.py) ... \u001b[?25l\u001b[?25hdone\n"
          ],
          "name": "stdout"
        }
      ]
    },
    {
      "cell_type": "code",
      "metadata": {
        "id": "e9Tv7YJOgZB2"
      },
      "source": [
        "# Config\n",
        "config = {\n",
        "    'colab':True,\n",
        "    'gcs':False,\n",
        "    'device':'TPU', # 'CPU', 'GPU', 'TPU'\n",
        "    'train_datasets':[\"UR5\", \"UR5_slow_gripper\",\"UR5_high_transition\"],\n",
        "    'test_datasets':[\"UR5_slow_gripper_test\"],\n",
        "    # data\n",
        "    'batch_size':32,\n",
        "    # model\n",
        "    'layer_size':256,\n",
        "    'latent_dim':256,\n",
        "    'gcbc':False,\n",
        "    'num_distribs':None,\n",
        "    'qbits':None,\n",
        "    # training\n",
        "    'learning_rate':3e-4,\n",
        "}"
      ],
      "execution_count": 2,
      "outputs": []
    },
    {
      "cell_type": "code",
      "metadata": {
        "colab": {
          "base_uri": "https://localhost:8080/"
        },
        "id": "zMJ___6ARZ4u",
        "outputId": "a470b8a9-e951-4ad3-e5fd-829c16f4f866"
      },
      "source": [
        "#@title Workpace Setup (Local vs Colab)\n",
        "from pathlib import Path\n",
        "import os\n",
        "\n",
        "# COLAB = False #@param {type:\"boolean\"}\n",
        "AUTH_GCS = False #@param {type:\"boolean\"}\n",
        "# DEVICE = \"CPU\" #@param [\"TPU\", \"GPU\", \"CPU\"]\n",
        "DATA_SOURCE = \"Google Drive\" #@param [\"Google Drive\", \"GCS\"]\n",
        "# TRAIN_DATASETS = [\"UR5\"]#,\"UR5_slow_gripper\",\"UR5_high_transition\"]\n",
        "# TEST_DATASET = \"UR5_slow_gripper_test\" #@param [\"UR5_slow_gripper_test\"]\n",
        "GCS_USER = \"sholto\" #@param [\"sholto\", \"tristan\"]\n",
        "\n",
        "if config['colab']:\n",
        "    from google.colab import drive, auth\n",
        "    print('Using colab setup')\n",
        "    !git clone 'https://github.com/sholtodouglas/learning_from_play'\n",
        "    WORKING_PATH = Path('/content/learning_from_play')\n",
        "    drive.mount('/content/drive')\n",
        "    os.chdir(WORKING_PATH)\n",
        "    STORAGE_PATH = Path('/content/drive/My Drive/Robotic Learning')\n",
        "    print(f'Storage path: {STORAGE_PATH}')\n",
        "else:\n",
        "    print('Using local setup')\n",
        "    WORKING_PATH = Path().absolute().parent\n",
        "    print(f'Working path: {WORKING_PATH}')\n",
        "    os.chdir(WORKING_PATH)\n",
        "    STORAGE_PATH = WORKING_PATH\n",
        "    print(f'Storage path: {STORAGE_PATH}')\n",
        "\n"
      ],
      "execution_count": 77,
      "outputs": [
        {
          "output_type": "stream",
          "text": [
            "Using colab setup\n",
            "fatal: destination path 'learning_from_play' already exists and is not an empty directory.\n",
            "Drive already mounted at /content/drive; to attempt to forcibly remount, call drive.mount(\"/content/drive\", force_remount=True).\n",
            "Storage path: /content/drive/My Drive/Robotic Learning\n"
          ],
          "name": "stdout"
        }
      ]
    },
    {
      "cell_type": "code",
      "metadata": {
        "id": "NoBowhdOBGWz"
      },
      "source": [
        "if DATA_SOURCE == \"Google Drive\":\n",
        "  TRAIN_DATA_PATHS = [STORAGE_PATH/'data'/x for x in config['train_datasets']]\n",
        "  TEST_DATA_PATHS = [STORAGE_PATH/'data'/x for x in config['test_datasets']]\n",
        "elif DATA_SOURCE == \"GCS\":\n",
        "  project_id = 'learning-from-play-303306'\n",
        "  bucket_name = 'lfp_iowa_bucket'\n",
        "  from google.colab import auth\n",
        "  auth.authenticate_user()\n",
        "  TRAIN_DATA_PATHS = get_tf_records(config['train_datasets'], bucket_name)\n",
        "  VALID_DATA_PATHS = get_tf_records(config['test_datasets'], bucket_name)\n",
        "  "
      ],
      "execution_count": 78,
      "outputs": []
    },
    {
      "cell_type": "code",
      "metadata": {
        "id": "rLGxwQTMBWSN",
        "outputId": "bb6c1760-805e-4b14-ff04-bde39b4b4f79",
        "colab": {
          "base_uri": "https://localhost:8080/"
        }
      },
      "source": [
        "!curl ipinfo.io # if this isn't in Iowa our bucket will have a bad time, make one in the same region and retransfer the data using the notebook included in the repo"
      ],
      "execution_count": 69,
      "outputs": [
        {
          "output_type": "stream",
          "text": [
            "{\n",
            "  \"ip\": \"104.154.177.101\",\n",
            "  \"hostname\": \"101.177.154.104.bc.googleusercontent.com\",\n",
            "  \"city\": \"Council Bluffs\",\n",
            "  \"region\": \"Iowa\",\n",
            "  \"country\": \"US\",\n",
            "  \"loc\": \"41.2619,-95.8608\",\n",
            "  \"org\": \"AS15169 Google LLC\",\n",
            "  \"postal\": \"51502\",\n",
            "  \"timezone\": \"America/Chicago\",\n",
            "  \"readme\": \"https://ipinfo.io/missingauth\"\n",
            "}"
          ],
          "name": "stdout"
        }
      ]
    },
    {
      "cell_type": "markdown",
      "metadata": {
        "id": "EliqxOpPv9Dy"
      },
      "source": [
        "# Data Creation"
      ]
    },
    {
      "cell_type": "code",
      "metadata": {
        "colab": {
          "base_uri": "https://localhost:8080/"
        },
        "id": "6zbmq324x2yv",
        "outputId": "d2cd6803-6d79-4094-bf42-d90eff680f5c"
      },
      "source": [
        "import tensorflow as tf\n",
        "print(\"Tensorflow version \" + tf.__version__)\n",
        "\n",
        "if config['device'] == \"TPU\":\n",
        "    try:\n",
        "        tpu = tf.distribute.cluster_resolver.TPUClusterResolver()  # TPU detection\n",
        "        print('Running on TPU ', tpu.cluster_spec().as_dict()['worker'])\n",
        "    except ValueError:\n",
        "        raise BaseException('ERROR: Not connected to a TPU runtime; please see the previous cell in this notebook for instructions!')\n",
        "\n",
        "    tf.config.experimental_connect_to_cluster(tpu)\n",
        "    tf.tpu.experimental.initialize_tpu_system(tpu)\n",
        "    strategy = tf.distribute.TPUStrategy(tpu)\n",
        "\n",
        "    NUM_DEVICES = strategy.num_replicas_in_sync\n",
        "    print(\"REPLICAS: \", NUM_DEVICES)\n",
        "else:\n",
        "    physical_devices = tf.config.list_physical_devices()\n",
        "    if config['device'] == 'GPU':\n",
        "        tf.config.experimental.set_memory_growth(physical_devices[3], enable=True)\n",
        "    NUM_DEVICES = 1\n",
        "    print(physical_devices)"
      ],
      "execution_count": 70,
      "outputs": [
        {
          "output_type": "stream",
          "text": [
            "Tensorflow version 2.4.1\n",
            "Running on TPU  ['10.56.46.242:8470']\n",
            "WARNING:tensorflow:TPU system grpc://10.56.46.242:8470 has already been initialized. Reinitializing the TPU can cause previously created variables on TPU to be lost.\n"
          ],
          "name": "stdout"
        },
        {
          "output_type": "stream",
          "text": [
            "WARNING:tensorflow:TPU system grpc://10.56.46.242:8470 has already been initialized. Reinitializing the TPU can cause previously created variables on TPU to be lost.\n"
          ],
          "name": "stderr"
        },
        {
          "output_type": "stream",
          "text": [
            "INFO:tensorflow:Initializing the TPU system: grpc://10.56.46.242:8470\n"
          ],
          "name": "stdout"
        },
        {
          "output_type": "stream",
          "text": [
            "INFO:tensorflow:Initializing the TPU system: grpc://10.56.46.242:8470\n"
          ],
          "name": "stderr"
        },
        {
          "output_type": "stream",
          "text": [
            "INFO:tensorflow:Clearing out eager caches\n"
          ],
          "name": "stdout"
        },
        {
          "output_type": "stream",
          "text": [
            "INFO:tensorflow:Clearing out eager caches\n"
          ],
          "name": "stderr"
        },
        {
          "output_type": "stream",
          "text": [
            "INFO:tensorflow:Finished initializing TPU system.\n"
          ],
          "name": "stdout"
        },
        {
          "output_type": "stream",
          "text": [
            "INFO:tensorflow:Finished initializing TPU system.\n"
          ],
          "name": "stderr"
        },
        {
          "output_type": "stream",
          "text": [
            "INFO:tensorflow:Found TPU system:\n"
          ],
          "name": "stdout"
        },
        {
          "output_type": "stream",
          "text": [
            "INFO:tensorflow:Found TPU system:\n"
          ],
          "name": "stderr"
        },
        {
          "output_type": "stream",
          "text": [
            "INFO:tensorflow:*** Num TPU Cores: 8\n"
          ],
          "name": "stdout"
        },
        {
          "output_type": "stream",
          "text": [
            "INFO:tensorflow:*** Num TPU Cores: 8\n"
          ],
          "name": "stderr"
        },
        {
          "output_type": "stream",
          "text": [
            "INFO:tensorflow:*** Num TPU Workers: 1\n"
          ],
          "name": "stdout"
        },
        {
          "output_type": "stream",
          "text": [
            "INFO:tensorflow:*** Num TPU Workers: 1\n"
          ],
          "name": "stderr"
        },
        {
          "output_type": "stream",
          "text": [
            "INFO:tensorflow:*** Num TPU Cores Per Worker: 8\n"
          ],
          "name": "stdout"
        },
        {
          "output_type": "stream",
          "text": [
            "INFO:tensorflow:*** Num TPU Cores Per Worker: 8\n"
          ],
          "name": "stderr"
        },
        {
          "output_type": "stream",
          "text": [
            "INFO:tensorflow:*** Available Device: _DeviceAttributes(/job:localhost/replica:0/task:0/device:CPU:0, CPU, 0, 0)\n"
          ],
          "name": "stdout"
        },
        {
          "output_type": "stream",
          "text": [
            "INFO:tensorflow:*** Available Device: _DeviceAttributes(/job:localhost/replica:0/task:0/device:CPU:0, CPU, 0, 0)\n"
          ],
          "name": "stderr"
        },
        {
          "output_type": "stream",
          "text": [
            "INFO:tensorflow:*** Available Device: _DeviceAttributes(/job:worker/replica:0/task:0/device:CPU:0, CPU, 0, 0)\n"
          ],
          "name": "stdout"
        },
        {
          "output_type": "stream",
          "text": [
            "INFO:tensorflow:*** Available Device: _DeviceAttributes(/job:worker/replica:0/task:0/device:CPU:0, CPU, 0, 0)\n"
          ],
          "name": "stderr"
        },
        {
          "output_type": "stream",
          "text": [
            "INFO:tensorflow:*** Available Device: _DeviceAttributes(/job:worker/replica:0/task:0/device:TPU:0, TPU, 0, 0)\n"
          ],
          "name": "stdout"
        },
        {
          "output_type": "stream",
          "text": [
            "INFO:tensorflow:*** Available Device: _DeviceAttributes(/job:worker/replica:0/task:0/device:TPU:0, TPU, 0, 0)\n"
          ],
          "name": "stderr"
        },
        {
          "output_type": "stream",
          "text": [
            "INFO:tensorflow:*** Available Device: _DeviceAttributes(/job:worker/replica:0/task:0/device:TPU:1, TPU, 0, 0)\n"
          ],
          "name": "stdout"
        },
        {
          "output_type": "stream",
          "text": [
            "INFO:tensorflow:*** Available Device: _DeviceAttributes(/job:worker/replica:0/task:0/device:TPU:1, TPU, 0, 0)\n"
          ],
          "name": "stderr"
        },
        {
          "output_type": "stream",
          "text": [
            "INFO:tensorflow:*** Available Device: _DeviceAttributes(/job:worker/replica:0/task:0/device:TPU:2, TPU, 0, 0)\n"
          ],
          "name": "stdout"
        },
        {
          "output_type": "stream",
          "text": [
            "INFO:tensorflow:*** Available Device: _DeviceAttributes(/job:worker/replica:0/task:0/device:TPU:2, TPU, 0, 0)\n"
          ],
          "name": "stderr"
        },
        {
          "output_type": "stream",
          "text": [
            "INFO:tensorflow:*** Available Device: _DeviceAttributes(/job:worker/replica:0/task:0/device:TPU:3, TPU, 0, 0)\n"
          ],
          "name": "stdout"
        },
        {
          "output_type": "stream",
          "text": [
            "INFO:tensorflow:*** Available Device: _DeviceAttributes(/job:worker/replica:0/task:0/device:TPU:3, TPU, 0, 0)\n"
          ],
          "name": "stderr"
        },
        {
          "output_type": "stream",
          "text": [
            "INFO:tensorflow:*** Available Device: _DeviceAttributes(/job:worker/replica:0/task:0/device:TPU:4, TPU, 0, 0)\n"
          ],
          "name": "stdout"
        },
        {
          "output_type": "stream",
          "text": [
            "INFO:tensorflow:*** Available Device: _DeviceAttributes(/job:worker/replica:0/task:0/device:TPU:4, TPU, 0, 0)\n"
          ],
          "name": "stderr"
        },
        {
          "output_type": "stream",
          "text": [
            "INFO:tensorflow:*** Available Device: _DeviceAttributes(/job:worker/replica:0/task:0/device:TPU:5, TPU, 0, 0)\n"
          ],
          "name": "stdout"
        },
        {
          "output_type": "stream",
          "text": [
            "INFO:tensorflow:*** Available Device: _DeviceAttributes(/job:worker/replica:0/task:0/device:TPU:5, TPU, 0, 0)\n"
          ],
          "name": "stderr"
        },
        {
          "output_type": "stream",
          "text": [
            "INFO:tensorflow:*** Available Device: _DeviceAttributes(/job:worker/replica:0/task:0/device:TPU:6, TPU, 0, 0)\n"
          ],
          "name": "stdout"
        },
        {
          "output_type": "stream",
          "text": [
            "INFO:tensorflow:*** Available Device: _DeviceAttributes(/job:worker/replica:0/task:0/device:TPU:6, TPU, 0, 0)\n"
          ],
          "name": "stderr"
        },
        {
          "output_type": "stream",
          "text": [
            "INFO:tensorflow:*** Available Device: _DeviceAttributes(/job:worker/replica:0/task:0/device:TPU:7, TPU, 0, 0)\n"
          ],
          "name": "stdout"
        },
        {
          "output_type": "stream",
          "text": [
            "INFO:tensorflow:*** Available Device: _DeviceAttributes(/job:worker/replica:0/task:0/device:TPU:7, TPU, 0, 0)\n"
          ],
          "name": "stderr"
        },
        {
          "output_type": "stream",
          "text": [
            "INFO:tensorflow:*** Available Device: _DeviceAttributes(/job:worker/replica:0/task:0/device:TPU_SYSTEM:0, TPU_SYSTEM, 0, 0)\n"
          ],
          "name": "stdout"
        },
        {
          "output_type": "stream",
          "text": [
            "INFO:tensorflow:*** Available Device: _DeviceAttributes(/job:worker/replica:0/task:0/device:TPU_SYSTEM:0, TPU_SYSTEM, 0, 0)\n"
          ],
          "name": "stderr"
        },
        {
          "output_type": "stream",
          "text": [
            "INFO:tensorflow:*** Available Device: _DeviceAttributes(/job:worker/replica:0/task:0/device:XLA_CPU:0, XLA_CPU, 0, 0)\n"
          ],
          "name": "stdout"
        },
        {
          "output_type": "stream",
          "text": [
            "INFO:tensorflow:*** Available Device: _DeviceAttributes(/job:worker/replica:0/task:0/device:XLA_CPU:0, XLA_CPU, 0, 0)\n"
          ],
          "name": "stderr"
        },
        {
          "output_type": "stream",
          "text": [
            "REPLICAS:  8\n"
          ],
          "name": "stdout"
        }
      ]
    },
    {
      "cell_type": "markdown",
      "metadata": {
        "id": "yL0UZVa1v9D9",
        "pycharm": {
          "name": "#%% md\n"
        }
      },
      "source": [
        "# Dataset"
      ]
    },
    {
      "cell_type": "code",
      "metadata": {
        "id": "KF1m_wf3v9D-",
        "pycharm": {
          "name": "#%%\n"
        }
      },
      "source": [
        "import glob\n",
        "import numpy as np\n",
        "import tensorflow as tf\n",
        "import pickle\n",
        "import matplotlib.pyplot as plt\n",
        "import random\n",
        "import pickle\n",
        "import os\n",
        "from collections import Counter\n",
        "import random\n",
        "import datetime\n",
        "\n",
        "import lfp\n",
        "from natsort import natsorted"
      ],
      "execution_count": 71,
      "outputs": []
    },
    {
      "cell_type": "code",
      "metadata": {
        "colab": {
          "base_uri": "https://localhost:8080/"
        },
        "id": "1HejtDH_Yx8h",
        "outputId": "fc97eddc-ea6d-4f29-e56c-dd29d440a4b6"
      },
      "source": [
        "# Use this to edit modules without needing to restart the kernel\n",
        "import importlib\n",
        "importlib.reload(lfp.data)\n",
        "importlib.reload(lfp.model)\n",
        "importlib.reload(lfp.train)\n"
      ],
      "execution_count": 72,
      "outputs": [
        {
          "output_type": "execute_result",
          "data": {
            "text/plain": [
              "<module 'lfp.train' from '/content/learning_from_play/lfp/train.py'>"
            ]
          },
          "metadata": {
            "tags": []
          },
          "execution_count": 72
        }
      ]
    },
    {
      "cell_type": "markdown",
      "metadata": {
        "id": "yUI6JP06FdTv"
      },
      "source": [
        "### Config Flags"
      ]
    },
    {
      "cell_type": "code",
      "metadata": {
        "id": "n2lBWIyOFdTv"
      },
      "source": [
        "GLOBAL_BATCH_SIZE = config['batch_size'] * NUM_DEVICES\n",
        "dl = lfp.data.PlayDataloader(batch_size=GLOBAL_BATCH_SIZE)"
      ],
      "execution_count": 79,
      "outputs": []
    },
    {
      "cell_type": "code",
      "metadata": {
        "id": "Ih91eNdWEdAF"
      },
      "source": [
        "from_tfrecords = False"
      ],
      "execution_count": 80,
      "outputs": []
    },
    {
      "cell_type": "code",
      "metadata": {
        "colab": {
          "base_uri": "https://localhost:8080/"
        },
        "id": "Uiz4AXCnFdTv",
        "outputId": "e3ca84aa-138c-4831-e786-d7259bc76dab"
      },
      "source": [
        "# Train data\n",
        "# Hey Tristan, I got everything else but I'm a bit tired and want an elegant way to do this\n",
        "# basically I have a function which gets the tf record paths in GCS (you'll see it at the top of data)\n",
        "# but too tired to work out how to get that elegantly into the flow with the option of local files, don't want to get too fucked with ifs\n",
        "train_data = dl.extract(TRAIN_DATA_PATHS, from_tfrecords=from_tfrecords)\n",
        "train_dataset = dl.load(train_data)"
      ],
      "execution_count": 81,
      "outputs": [
        {
          "output_type": "stream",
          "text": [
            "UR5: 100%|██████████| 52/52 [00:00<00:00, 57.90it/s]\n",
            "UR5_slow_gripper: 100%|██████████| 23/23 [00:00<00:00, 46.23it/s]\n",
            "UR5_high_transition: 100%|██████████| 32/32 [00:00<00:00, 46.84it/s]\n"
          ],
          "name": "stderr"
        },
        {
          "output_type": "stream",
          "text": [
            "{   'acts': TensorSpec(shape=(256, 50, 7), dtype=tf.float32, name=None),\n",
            "    'dataset_path': TensorSpec(shape=(256, None, 1), dtype=tf.int32, name=None),\n",
            "    'goals': TensorSpec(shape=(256, 50, 11), dtype=tf.float32, name=None),\n",
            "    'masks': TensorSpec(shape=(256, 50), dtype=tf.float32, name=None),\n",
            "    'obs': TensorSpec(shape=(256, 50, 18), dtype=tf.float32, name=None),\n",
            "    'seq_lens': TensorSpec(shape=(256,), dtype=tf.float32, name=None),\n",
            "    'tstep_idxs': TensorSpec(shape=(256, None, 1), dtype=tf.int32, name=None)}\n"
          ],
          "name": "stdout"
        }
      ]
    },
    {
      "cell_type": "code",
      "metadata": {
        "colab": {
          "base_uri": "https://localhost:8080/"
        },
        "id": "h8ZDAVpLFdTw",
        "outputId": "b61d6346-3794-484c-ca39-9af57618b7d2"
      },
      "source": [
        "# Validation data\n",
        "valid_data = dl.extract(TEST_DATA_PATHS, from_tfrecords=from_tfrecords)\n",
        "valid_dataset = dl.load(valid_data)"
      ],
      "execution_count": 82,
      "outputs": [
        {
          "output_type": "stream",
          "text": [
            "UR5_slow_gripper_test: 100%|██████████| 2/2 [00:00<00:00, 52.29it/s]"
          ],
          "name": "stderr"
        },
        {
          "output_type": "stream",
          "text": [
            "{   'acts': TensorSpec(shape=(256, 50, 7), dtype=tf.float32, name=None),\n",
            "    'dataset_path': TensorSpec(shape=(256, None, 1), dtype=tf.int32, name=None),\n",
            "    'goals': TensorSpec(shape=(256, 50, 11), dtype=tf.float32, name=None),\n",
            "    'masks': TensorSpec(shape=(256, 50), dtype=tf.float32, name=None),\n",
            "    'obs': TensorSpec(shape=(256, 50, 18), dtype=tf.float32, name=None),\n",
            "    'seq_lens': TensorSpec(shape=(256,), dtype=tf.float32, name=None),\n",
            "    'tstep_idxs': TensorSpec(shape=(256, None, 1), dtype=tf.int32, name=None)}\n"
          ],
          "name": "stdout"
        },
        {
          "output_type": "stream",
          "text": [
            "\n"
          ],
          "name": "stderr"
        }
      ]
    },
    {
      "cell_type": "markdown",
      "metadata": {
        "id": "nN3YJSSLv9Ez",
        "pycharm": {
          "name": "#%% md\n"
        }
      },
      "source": [
        "# Model"
      ]
    },
    {
      "cell_type": "markdown",
      "metadata": {
        "id": "TWIpRPRuv9E6",
        "pycharm": {
          "name": "#%% md\n"
        }
      },
      "source": [
        "# Training Loop"
      ]
    },
    {
      "cell_type": "code",
      "metadata": {
        "colab": {
          "base_uri": "https://localhost:8080/"
        },
        "id": "-3r_TDl7v9E7",
        "outputId": "f97a014e-8a0d-464f-a9cf-9451973223f3"
      },
      "source": [
        "from tensorflow.keras.losses import MeanSquaredError\n",
        "from tensorflow.keras.metrics import Accuracy\n",
        "from tensorflow.keras.optimizers import SGD, Adam\n",
        "from tensorflow.keras.utils import Progbar\n",
        "import tensorflow_addons as tfa\n",
        "import tensorflow_probability as tfp\n",
        "tfd = tfp.distributions\n",
        "\n",
        "import time\n",
        "import io\n",
        "import wandb\n",
        "wandb.login()"
      ],
      "execution_count": 83,
      "outputs": [
        {
          "output_type": "stream",
          "text": [
            "\u001b[34m\u001b[1mwandb\u001b[0m: \u001b[33mWARNING\u001b[0m Calling wandb.login() after wandb.init() has no effect.\n"
          ],
          "name": "stderr"
        },
        {
          "output_type": "execute_result",
          "data": {
            "text/plain": [
              "True"
            ]
          },
          "metadata": {
            "tags": []
          },
          "execution_count": 83
        }
      ]
    },
    {
      "cell_type": "code",
      "metadata": {
        "id": "KqmqTTIrJgHc"
      },
      "source": [
        "from lfp.metric import MaxMetric, create_metrics, record, log_action_breakdown\n",
        "from lfp.train import LFPTrainer"
      ],
      "execution_count": 84,
      "outputs": []
    },
    {
      "cell_type": "code",
      "metadata": {
        "id": "2uMXBjGzgZCA"
      },
      "source": [
        "def train_setup():\n",
        "    model_params = {'obs_dim':dl.obs_dim,\n",
        "                'goal_dim':dl.goal_dim,\n",
        "                'act_dim':dl.act_dim,\n",
        "                'layer_size':config['layer_size'], \n",
        "                'latent_dim':config['latent_dim']}\n",
        "    \n",
        "    actor = lfp.model.create_actor(**model_params, gcbc=config['gcbc'], num_distribs=config['num_distribs'])\n",
        "\n",
        "    if config['gcbc']:\n",
        "        encoder = None\n",
        "        planner = None\n",
        "    else:\n",
        "        encoder = lfp.model.create_encoder(**model_params)\n",
        "        planner = lfp.model.create_planner(**model_params)\n",
        "\n",
        "    optimizer = tf.optimizers.Adam(learning_rate=config['learning_rate'])\n",
        "    trainable_variables = actor.trainable_variables + encoder.trainable_variables + planner.trainable_variables\n",
        "    return actor, encoder, planner, optimizer, trainable_variables\n",
        "\n",
        "if config['device']=='CPU':\n",
        "    actor, encoder, planner, optimizer, trainable_variables = train_setup()\n",
        "else:\n",
        "    with strategy.scope():\n",
        "        actor, encoder, planner, optimizer, trainable_variables = train_setup()\n",
        "        \n",
        "train_dist_dataset = iter(strategy.experimental_distribute_dataset(train_dataset))\n",
        "valid_dist_dataset = iter(strategy.experimental_distribute_dataset(valid_dataset))"
      ],
      "execution_count": 85,
      "outputs": []
    },
    {
      "cell_type": "code",
      "metadata": {
        "id": "7vDui_2XGhZW",
        "jupyter": {
          "source_hidden": true
        }
      },
      "source": [
        "with strategy.scope():\n",
        "    nll_action_loss = lambda y, p_y: tf.reduce_sum(-p_y.log_prob(y), axis=2)\n",
        "    mae_action_loss = tf.keras.losses.MeanAbsoluteError(reduction=tf.keras.losses.Reduction.NONE)\n",
        "    mse_action_loss = tf.keras.losses.MeanSquaredError(reduction=tf.keras.losses.Reduction.NONE)\n",
        "\n",
        "    def compute_loss(labels, predictions, mask, seq_lens, weightings=None):\n",
        "        if config['num_distribs'] is not None:\n",
        "            per_example_loss = nll_action_loss(labels, predictions) * mask\n",
        "        else:\n",
        "            per_example_loss = mae_action_loss(labels, predictions) * mask\n",
        "\n",
        "        per_example_loss = tf.reduce_sum(per_example_loss, axis=1) / seq_lens  # take mean along the timestep\n",
        "        return tf.nn.compute_average_loss(per_example_loss, global_batch_size=GLOBAL_BATCH_SIZE)\n",
        "\n",
        "\n",
        "    def compute_MAE(labels, predictions, mask, seq_lens, weightings=None):\n",
        "        per_example_loss = mae_action_loss(labels, predictions) * mask\n",
        "        per_example_loss = tf.reduce_sum(per_example_loss, axis=1) / seq_lens  # take mean along the timestep\n",
        "        return tf.nn.compute_average_loss(per_example_loss, global_batch_size=GLOBAL_BATCH_SIZE)\n",
        "\n",
        "\n",
        "    def compute_regularisation_loss(plan, encoding):\n",
        "        # Reverse KL(enc|plan): we want planner to map to encoder (weighted by encoder)\n",
        "        reg_loss = tfd.kl_divergence(encoding, plan)  # + KL(plan, encoding)\n",
        "        return tf.nn.compute_average_loss(reg_loss, global_batch_size=GLOBAL_BATCH_SIZE)\n",
        "\n",
        "    train_loss, valid_loss, actor_grad_norm, encoder_grad_norm, planner_grad_norm, \\\n",
        "    actor_grad_norm_clipped, encoder_grad_norm_clipped, planner_grad_norm_clipped, global_grad_norm, \\\n",
        "    test, test2,  train_act_with_enc_loss, train_act_with_plan_loss, valid_act_with_enc_loss, valid_act_with_plan_loss,\\\n",
        "    train_reg_loss, valid_reg_loss, valid_position_loss,  valid_max_position_loss, valid_rotation_loss, valid_max_rotation_loss, valid_gripper_loss = create_metrics()\n",
        "\n",
        "\n",
        "# Now outside strategy .scope\n",
        "def train_step(inputs, beta, prev_global_grad_norm):\n",
        "    with tf.GradientTape() as actor_tape, tf.GradientTape() as encoder_tape, tf.GradientTape() as planner_tape:  # separate tapes to simplify grad_norm logging and clipping for stability\n",
        "        # Todo: figure out mask and seq_lens for new dataset \n",
        "        states, actions, goals, seq_lens, mask = inputs['obs'], inputs['acts'], inputs['goals'], inputs['seq_lens'], \\\n",
        "                                                 inputs['masks']\n",
        "\n",
        "        if config['gcbc']:\n",
        "            distrib = actor([states, goals])\n",
        "            loss = compute_loss(actions, distrib, mask, seq_lens)\n",
        "            gradients = tape.gradient(loss, actor.trainable_variables)\n",
        "            optimizer.apply_gradients(zip(gradients, actor.trainable_variables))\n",
        "        else:\n",
        "            encoding = encoder([states, actions])\n",
        "            plan = planner([states[:, 0, :], goals[:, 0,:]])  # the final goals are tiled out over the entire non masked sequence, so the first timestep is the final goal. \n",
        "            z_enc = encoding.sample()\n",
        "            z_plan = plan.sample()\n",
        "            z_enc_tiled = tf.tile(tf.expand_dims(z_enc, 1), (1, dl.window_size, 1))\n",
        "            z_plan_tiled = tf.tile(tf.expand_dims(z_plan, 1), (1, dl.window_size, 1))\n",
        "\n",
        "            enc_policy = actor([states, z_enc_tiled, goals])\n",
        "            plan_policy = actor([states, z_plan_tiled, goals])\n",
        "\n",
        "            act_enc_loss = record(compute_loss(actions, enc_policy, mask, seq_lens), train_act_with_enc_loss)\n",
        "            act_plan_loss = record(compute_loss(actions, plan_policy, mask, seq_lens), train_act_with_plan_loss)\n",
        "            reg_loss = record(compute_regularisation_loss(plan, encoding), train_reg_loss)\n",
        "            loss = act_enc_loss + reg_loss * beta\n",
        "\n",
        "            actor_gradients = actor_tape.gradient(loss, actor.trainable_variables)\n",
        "            encoder_gradients = encoder_tape.gradient(loss, encoder.trainable_variables)\n",
        "            planner_gradients = planner_tape.gradient(loss, planner.trainable_variables)\n",
        "\n",
        "            actor_norm = record(tf.linalg.global_norm(actor_gradients), actor_grad_norm)\n",
        "            encoder_norm = record(tf.linalg.global_norm(encoder_gradients), encoder_grad_norm)\n",
        "            planner_norm = record(tf.linalg.global_norm(planner_gradients), planner_grad_norm)\n",
        "\n",
        "            gradients = actor_gradients + encoder_gradients+planner_gradients\n",
        "\n",
        "            # if the gradient norm is more than 3x the previous one, clip it to the previous norm for stability\n",
        "            gradients = tf.cond(tf.linalg.global_norm(gradients) > 3 * prev_global_grad_norm,\n",
        "                                lambda: tf.clip_by_global_norm(gradients, prev_global_grad_norm)[0],\n",
        "                                lambda: gradients)  # must get[0] as it returns new norm as [1]\n",
        "\n",
        "\n",
        "            actor_norm_clipped = record(tf.linalg.global_norm(actor_gradients), actor_grad_norm_clipped)\n",
        "            encoder_norm_clipped = record(tf.linalg.global_norm(encoder_gradients), encoder_grad_norm_clipped)\n",
        "            planner_norm_clipped = record(tf.linalg.global_norm(planner_gradients), planner_grad_norm_clipped)\n",
        "\n",
        "            record(tf.linalg.global_norm(gradients), global_grad_norm)\n",
        "\n",
        "            optimizer.apply_gradients(zip(gradients,\n",
        "                                          actor.trainable_variables + encoder.trainable_variables + planner.trainable_variables))\n",
        "\n",
        "\n",
        "    return record(loss, train_loss)\n",
        "\n",
        "\n",
        "def test_step(inputs, beta):\n",
        "    states, actions, goals, seq_lens, mask = inputs['obs'], inputs['acts'], inputs['goals'], inputs['seq_lens'], inputs['masks']\n",
        "\n",
        "    if  config['gcbc']:\n",
        "        policy = actor([states, goals], training=False)\n",
        "        loss = compute_loss(actions, policy, mask, seq_lens)\n",
        "        log_action_breakdown(policy, actions, mask, seq_lens, config, dl.quaternion_act, valid_position_loss, valid_max_position_loss, \\\n",
        "                             valid_rotation_loss, valid_max_rotation_loss, valid_gripper_loss, compute_MAE)\n",
        "    else:\n",
        "        encoding = encoder([states, actions])\n",
        "        plan = planner([states[:, 0, :], goals[:, 0,:]])  # the final goals are tiled out over the entire non masked sequence, so the first timestep is the final goal. \n",
        "        z_enc = encoding.sample()\n",
        "        z_plan = plan.sample()\n",
        "        z_enc_tiled = tf.tile(tf.expand_dims(z_enc, 1), (1, dl.window_size, 1))\n",
        "        z_plan_tiled = tf.tile(tf.expand_dims(z_plan, 1), (1, dl.window_size, 1))\n",
        "        enc_policy = actor([states, z_enc_tiled, goals])\n",
        "        plan_policy = actor([states, z_plan_tiled, goals])\n",
        "        act_enc_loss = record(compute_loss(actions, enc_policy, mask, seq_lens), valid_act_with_enc_loss)\n",
        "        act_plan_loss = record(compute_loss(actions, plan_policy, mask, seq_lens), valid_act_with_plan_loss)\n",
        "        reg_loss = record(compute_regularisation_loss(plan, encoding), valid_reg_loss)\n",
        "        loss = act_plan_loss + reg_loss * beta\n",
        "\n",
        "\n",
        "        log_action_breakdown(plan_policy, actions, mask, seq_lens, config, dl.quaternion_act, valid_position_loss, \\\n",
        "                             valid_max_position_loss, valid_rotation_loss, valid_max_rotation_loss, valid_gripper_loss, compute_MAE)\n",
        "\n",
        "\n",
        "    if config['gcbc']:\n",
        "        return record(loss, valid_loss)\n",
        "    else:\n",
        "        return record(loss,valid_loss), z_enc, z_plan\n",
        "\n",
        "\n",
        "@tf.function\n",
        "def distributed_train_step(dataset_inputs, beta, prev_global_grad_norm):\n",
        "    per_replica_losses = strategy.run(train_step, args=(dataset_inputs, beta, prev_global_grad_norm))\n",
        "    return strategy.reduce(tf.distribute.ReduceOp.MEAN, per_replica_losses, axis=None)\n",
        "\n",
        "\n",
        "@tf.function\n",
        "def distributed_test_step(dataset_inputs, beta):\n",
        "    if config['gcbc']:\n",
        "        per_replica_losses = strategy.run(test_step, args=(dataset_inputs, beta))\n",
        "        return strategy.reduce(tf.distribute.ReduceOp.MEAN, per_replica_losses, axis=None)\n",
        "    else:\n",
        "        per_replica_losses, ze, zp = strategy.run(test_step, args=(dataset_inputs, beta))\n",
        "        return strategy.reduce(tf.distribute.ReduceOp.MEAN, per_replica_losses, axis=None), ze.values[0], zp.values[0]"
      ],
      "execution_count": 86,
      "outputs": []
    },
    {
      "cell_type": "code",
      "metadata": {
        "colab": {
          "base_uri": "https://localhost:8080/",
          "height": 289
        },
        "id": "xtSlIEoBlDyp",
        "outputId": "e72adb3b-c02a-4406-f40d-88ab37f4b78e"
      },
      "source": [
        "from lfp.train import BetaScheduler\n",
        "\n",
        "TRAIN_STEPS = 200000\n",
        "# 0.00001 so far works best for MAE - try lower - 0.00003 with a BETA accel of 10 so far works best, perfect encoder, nicely mapped planner\n",
        "# recall 0.01 worked okay for probabilistic - proba still too unstable!\n",
        "beta_sched = BetaScheduler('linear', \n",
        "                           beta=0.00003, \n",
        "                           beta_max=0.00003, \n",
        "                           max_steps=TRAIN_STEPS, \n",
        "                           cycles=90, \n",
        "                           duty_cycle=0.5\n",
        "                           )"
      ],
      "execution_count": 87,
      "outputs": [
        {
          "output_type": "display_data",
          "data": {
            "image/png": "[encoded data removed]",
            "text/plain": [
              "<Figure size 432x288 with 1 Axes>"
            ]
          },
          "metadata": {
            "tags": [],
            "needs_background": "light"
          }
        }
      ]
    },
    {
      "cell_type": "code",
      "metadata": {
        "id": "rhSGD_2imWDi"
      },
      "source": [
        "progbar = Progbar(TRAIN_STEPS, verbose=1, interval=0.5)\n",
        "best_valid_loss = np.float('inf')\n",
        "\n",
        "valid_inc = 20\n",
        "save_inc = 1000\n",
        "\n",
        "prev_grad_norm = np.float('inf')"
      ],
      "execution_count": 88,
      "outputs": []
    },
    {
      "cell_type": "code",
      "metadata": {
        "id": "Q0DCKjLXoDHv"
      },
      "source": [
        "from lfp.utils import save_weights, load_weights, load_optimizer_state"
      ],
      "execution_count": 89,
      "outputs": []
    },
    {
      "cell_type": "code",
      "metadata": {
        "id": "8nmzjO2d_Hfm"
      },
      "source": [
        "RESUME = True"
      ],
      "execution_count": 90,
      "outputs": []
    },
    {
      "cell_type": "code",
      "metadata": {
        "colab": {
          "base_uri": "https://localhost:8080/",
          "height": 1000,
          "referenced_widgets": [
            "6d6887969e5d484384667f5f4fe4a581",
            "652d0aef5d3144618a45c8012d9a0bc2",
            "4f578ba444034234a3387e791f5b7900",
            "74a5e0c5e3484748a96c6eca8a3ff07a",
            "12fbeb8587394eeebad5b8d7d90eee22",
            "894a73e08c184b908bd985a6927235d0",
            "024d2b0c4ea24adba0b66ce199f5260b",
            "02b4c8386f8e4fceb502e8c5b7aa29c6"
          ]
        },
        "id": "oTyriZrYowMJ",
        "outputId": "51f667db-bfc9-4313-ce3e-0d706c50cf13"
      },
      "source": [
        "run_name = \"Tests\"#\"ALLB0.00003\"\n",
        "model_path = f'/content/drive/My Drive/Robotic Learning/LMP_test/{run_name}/'\n",
        "\n",
        "if RESUME:\n",
        "  run_id = str(np.load(model_path+'hyper_params.npz')['run_id'])\n",
        "  wandb.init(project=\"learning-from-play_v2\", id='12621l2h',  resume=\"must\")\n",
        "  load_weights(model_path, actor, encoder, planner)\n",
        "  load_optimizer_state(optimizer, model_path, strategy, trainable_variables)\n",
        "  print('Loaded model weights and optimiser state')\n",
        "  t = wandb.run.step + valid_inc\n",
        "else:\n",
        "  wandb.init(project=\"learning-from-play_v2\")\n",
        "  wandb.run.name = run_name\n",
        "  t = 0\n"
      ],
      "execution_count": 91,
      "outputs": [
        {
          "output_type": "display_data",
          "data": {
            "text/html": [
              "Finishing last run (ID:12621l2h) before initializing another..."
            ],
            "text/plain": [
              "<IPython.core.display.HTML object>"
            ]
          },
          "metadata": {
            "tags": []
          }
        },
        {
          "output_type": "display_data",
          "data": {
            "text/html": [
              "<br/>Waiting for W&B process to finish, PID 1561<br/>Program ended successfully."
            ],
            "text/plain": [
              "<IPython.core.display.HTML object>"
            ]
          },
          "metadata": {
            "tags": []
          }
        },
        {
          "output_type": "display_data",
          "data": {
            "application/vnd.jupyter.widget-view+json": {
              "model_id": "6d6887969e5d484384667f5f4fe4a581",
              "version_minor": 0,
              "version_major": 2
            },
            "text/plain": [
              "VBox(children=(Label(value=' 0.00MB of 0.00MB uploaded (0.00MB deduped)\\r'), FloatProgress(value=1.0, max=1.0)…"
            ]
          },
          "metadata": {
            "tags": []
          }
        },
        {
          "output_type": "display_data",
          "data": {
            "text/html": [
              "Find user logs for this run at: <code>/content/learning_from_play/wandb/run-20210130_154611-12621l2h/logs/debug.log</code>"
            ],
            "text/plain": [
              "<IPython.core.display.HTML object>"
            ]
          },
          "metadata": {
            "tags": []
          }
        },
        {
          "output_type": "display_data",
          "data": {
            "text/html": [
              "Find internal logs for this run at: <code>/content/learning_from_play/wandb/run-20210130_154611-12621l2h/logs/debug-internal.log</code>"
            ],
            "text/plain": [
              "<IPython.core.display.HTML object>"
            ]
          },
          "metadata": {
            "tags": []
          }
        },
        {
          "output_type": "display_data",
          "data": {
            "text/html": [
              "<h3>Run summary:</h3><br/><style>\n",
              "    table.wandb td:nth-child(1) { padding: 0 10px; text-align: right }\n",
              "    </style><table class=\"wandb\">\n",
              "<tr><td>planner_grad_norm_clipped</td><td>6e-05</td></tr><tr><td>valid_act_with_enc_loss_result</td><td>0.01849</td></tr><tr><td>valid_max_rotation_loss_result</td><td>5.06414</td></tr><tr><td>train_reg_loss_result</td><td>7.68261</td></tr><tr><td>encoder_grad_norm_clipped</td><td>0.00771</td></tr><tr><td>_runtime</td><td>279140</td></tr><tr><td>beta_result</td><td>3e-05</td></tr><tr><td>train_loss_result</td><td>0.01905</td></tr><tr><td>valid_rotation_loss_result</td><td>0.03184</td></tr><tr><td>train_act_with_plan_loss_result</td><td>0.02907</td></tr><tr><td>_step</td><td>125000</td></tr><tr><td>encoder_grad_norm</td><td>0.00771</td></tr><tr><td>valid_loss_result</td><td>0.02808</td></tr><tr><td>valid_position_loss_result</td><td>0.01389</td></tr><tr><td>train_act_with_enc_loss_result</td><td>0.01882</td></tr><tr><td>_timestamp</td><td>1612023490</td></tr><tr><td>valid_reg_loss_result</td><td>8.37433</td></tr><tr><td>actor_grad_norm_clipped</td><td>0.03123</td></tr><tr><td>valid_gripper_loss_result</td><td>0.05758</td></tr><tr><td>valid_max_position_loss_result</td><td>2.42586</td></tr><tr><td>valid_act_with_plan_loss_result</td><td>0.02814</td></tr><tr><td>actor_grad_norm</td><td>0.03123</td></tr><tr><td>planner_grad_norm</td><td>6e-05</td></tr></table>"
            ],
            "text/plain": [
              "<IPython.core.display.HTML object>"
            ]
          },
          "metadata": {
            "tags": []
          }
        },
        {
          "output_type": "display_data",
          "data": {
            "text/html": [
              "<h3>Run history:</h3><br/><style>\n",
              "    table.wandb td:nth-child(1) { padding: 0 10px; text-align: right }\n",
              "    </style><table class=\"wandb\">\n",
              "<tr><td>train_loss_result</td><td>█▄▁</td></tr><tr><td>valid_loss_result</td><td>█▅▁</td></tr><tr><td>valid_position_loss_result</td><td>█▄▁</td></tr><tr><td>valid_max_position_loss_result</td><td>█▁▃</td></tr><tr><td>valid_rotation_loss_result</td><td>█▄▁</td></tr><tr><td>valid_max_rotation_loss_result</td><td>█▂▁</td></tr><tr><td>valid_gripper_loss_result</td><td>▁█▇</td></tr><tr><td>actor_grad_norm</td><td>█▃▁</td></tr><tr><td>actor_grad_norm_clipped</td><td>█▃▁</td></tr><tr><td>train_act_with_enc_loss_result</td><td>█▄▁</td></tr><tr><td>train_act_with_plan_loss_result</td><td>█▅▁</td></tr><tr><td>train_reg_loss_result</td><td>▁▃█</td></tr><tr><td>valid_act_with_enc_loss_result</td><td>█▃▁</td></tr><tr><td>valid_act_with_plan_loss_result</td><td>█▆▁</td></tr><tr><td>valid_reg_loss_result</td><td>▁▄█</td></tr><tr><td>beta_result</td><td>▁▁▁</td></tr><tr><td>encoder_grad_norm</td><td>▁▄█</td></tr><tr><td>planner_grad_norm</td><td>▁▃█</td></tr><tr><td>encoder_grad_norm_clipped</td><td>▁▄█</td></tr><tr><td>planner_grad_norm_clipped</td><td>▁▃█</td></tr><tr><td>_step</td><td>▁▅█</td></tr><tr><td>_runtime</td><td>▁▁█</td></tr><tr><td>_timestamp</td><td>▁▁█</td></tr></table><br/>"
            ],
            "text/plain": [
              "<IPython.core.display.HTML object>"
            ]
          },
          "metadata": {
            "tags": []
          }
        },
        {
          "output_type": "display_data",
          "data": {
            "text/html": [
              "Synced 5 W&B file(s), 0 media file(s), 0 artifact file(s) and 0 other file(s)"
            ],
            "text/plain": [
              "<IPython.core.display.HTML object>"
            ]
          },
          "metadata": {
            "tags": []
          }
        },
        {
          "output_type": "display_data",
          "data": {
            "text/html": [
              "\n",
              "                    <br/>Synced <strong style=\"color:#cdcd00\">ALLB0.00003</strong>: <a href=\"https://wandb.ai/sholto/learning-from-play_v2/runs/12621l2h\" target=\"_blank\">https://wandb.ai/sholto/learning-from-play_v2/runs/12621l2h</a><br/>\n",
              "                "
            ],
            "text/plain": [
              "<IPython.core.display.HTML object>"
            ]
          },
          "metadata": {
            "tags": []
          }
        },
        {
          "output_type": "display_data",
          "data": {
            "text/html": [
              "...Successfully finished last run (ID:12621l2h). Initializing new run:<br/><br/>"
            ],
            "text/plain": [
              "<IPython.core.display.HTML object>"
            ]
          },
          "metadata": {
            "tags": []
          }
        },
        {
          "output_type": "display_data",
          "data": {
            "text/html": [
              "\n",
              "                Tracking run with wandb version 0.10.15<br/>\n",
              "                Resuming run <strong style=\"color:#cdcd00\">ALLB0.00003</strong> to <a href=\"https://wandb.ai\" target=\"_blank\">Weights & Biases</a> <a href=\"https://docs.wandb.com/integrations/jupyter.html\" target=\"_blank\">(Documentation)</a>.<br/>\n",
              "                Project page: <a href=\"https://wandb.ai/sholto/learning-from-play_v2\" target=\"_blank\">https://wandb.ai/sholto/learning-from-play_v2</a><br/>\n",
              "                Run page: <a href=\"https://wandb.ai/sholto/learning-from-play_v2/runs/12621l2h\" target=\"_blank\">https://wandb.ai/sholto/learning-from-play_v2/runs/12621l2h</a><br/>\n",
              "                Run data is saved locally in <code>/content/learning_from_play/wandb/run-20210130_161810-12621l2h</code><br/><br/>\n",
              "            "
            ],
            "text/plain": [
              "<IPython.core.display.HTML object>"
            ]
          },
          "metadata": {
            "tags": []
          }
        },
        {
          "output_type": "stream",
          "text": [
            "Loaded model weights and optimiser state\n"
          ],
          "name": "stdout"
        }
      ]
    },
    {
      "cell_type": "code",
      "metadata": {
        "id": "-ytVwQ0J6FTB",
        "colab": {
          "base_uri": "https://localhost:8080/"
        },
        "outputId": "265cb377-acb0-4589-d9cd-c5ff58aab59b"
      },
      "source": [
        "# config = wandb.config\n",
        "\n",
        "# # Hparams\n",
        "# config.DEVICE = DEVICE\n",
        "# config.WINDOW_SIZE = dl.window_size\n",
        "# config.WINDOW_SHIFT = dl.window_shift\n",
        "# config.LAYER_SIZE = LAYER_SIZE\n",
        "# config.LATENT_DIM = LATENT_DIM\n",
        "# config.GRIPPER_WEIGHT = GRIPPER_WEIGHT\n",
        "# config.TRAIN_STEPS = TRAIN_STEPS\n",
        "# config.beta_schedule = beta_sched.schedule\n",
        "# config.beta_min = beta_sched.beta_min\n",
        "# config.beta_max = beta_sched.beta_max\n",
        "# config.PROBABILISTIC = PROBABILISTIC\n",
        "# config.PROPRIOCEPTION = dl.proprioception\n",
        "importlib.reload(lfp.utils)"
      ],
      "execution_count": 92,
      "outputs": [
        {
          "output_type": "execute_result",
          "data": {
            "text/plain": [
              "<module 'lfp.utils' from '/content/learning_from_play/lfp/utils.py'>"
            ]
          },
          "metadata": {
            "tags": []
          },
          "execution_count": 92
        }
      ]
    },
    {
      "cell_type": "code",
      "metadata": {
        "id": "xjnc22FOGae1"
      },
      "source": [
        "from lfp.plotting import produce_cluster_fig, project_enc_and_plan, plot_to_image\n",
        "from lfp.metric import log\n",
        "v_it = iter(valid_dataset) #for the cluster fig, easier with a non distributed dataset\n",
        "\n"
      ],
      "execution_count": 93,
      "outputs": []
    },
    {
      "cell_type": "code",
      "metadata": {
        "id": "IXF0Y8aKrsng"
      },
      "source": [
        "while t < TRAIN_STEPS:\n",
        "    start_time = time.time()\n",
        "    beta = beta_sched.scheduler(t)\n",
        "    x = next(train_dist_dataset)\n",
        "    total_train_loss = distributed_train_step(x, beta, prev_grad_norm)\n",
        "    \n",
        "    if t % valid_inc == 0:  \n",
        "        valid_x = next(valid_dist_dataset)\n",
        "        if config['gcbc']:\n",
        "          total_val_loss = distributed_test_step(valid_x, beta)\n",
        "        else:\n",
        "          total_val_loss, ze, zp = distributed_test_step(valid_x, beta)\n",
        "\n",
        "        # validation plotting\n",
        "        progbar.add(valid_inc, [('Train Loss', train_loss.result()), ('Validation Loss', valid_loss.result()), ('Time (s)', round(time.time() - start_time, 1))])\n",
        "\n",
        "\n",
        "        wandb.log({'train_loss_result':log(train_loss),\n",
        "                    'valid_loss_result':log(valid_loss),\n",
        "                    'valid_position_loss_result':log(valid_position_loss),\n",
        "                    'valid_max_position_loss_result':log(valid_max_position_loss),\n",
        "                    'valid_rotation_loss_result':log(valid_rotation_loss),\n",
        "                    'valid_max_rotation_loss_result':log(valid_max_rotation_loss),\n",
        "                    'valid_gripper_loss_result':log(valid_gripper_loss),\n",
        "                    'actor_grad_norm': log(actor_grad_norm),\n",
        "                    'actor_grad_norm_clipped': log(actor_grad_norm_clipped),\n",
        "                  },\n",
        "                  step=t)\n",
        "          \n",
        "        if not config['gcbc']:\n",
        "          wandb.log({\n",
        "                      'train_act_with_enc_loss_result':log(train_act_with_enc_loss),\n",
        "                      'train_act_with_plan_loss_result':log(train_act_with_plan_loss),\n",
        "                      'train_reg_loss_result':log(train_reg_loss),\n",
        "                      'valid_act_with_enc_loss_result':log(valid_act_with_enc_loss),\n",
        "                      'valid_act_with_plan_loss_result':valid_act_with_plan_loss.result(),\n",
        "                      'valid_reg_loss_result':log(valid_reg_loss),\n",
        "                      'beta_result':beta,\n",
        "                      'encoder_grad_norm': log(encoder_grad_norm),\n",
        "                      'planner_grad_norm': log(planner_grad_norm),\n",
        "                      'encoder_grad_norm_clipped': log(encoder_grad_norm_clipped),\n",
        "                      'planner_grad_norm_clipped': log(planner_grad_norm_clipped),\n",
        "                    },\n",
        "                    step=t)\n",
        "          \n",
        "\n",
        "        prev_grad_norm = log(global_grad_norm)\n",
        "          \n",
        "    if t % save_inc == 0:\n",
        "        save_weights(model_path, actor, config, dl, run_id,optimizer, encoder, planner)\n",
        "        if not config['gcbc']:\n",
        "          z_enc, z_plan = produce_cluster_fig(next(v_it), encoder, planner, TEST_DATA_PATHS[0], num_take=dl.batch_size)\n",
        "          wandb.log({'z_enc':z_enc, 'z_plan':z_plan}, step=t)\n",
        "          latent_fig = project_enc_and_plan(ze, zp)\n",
        "          #latent_img = plot_to_image(latent_fig)\n",
        "\n",
        "    t += 1"
      ],
      "execution_count": null,
      "outputs": []
    },
    {
      "cell_type": "code",
      "metadata": {
        "id": "2xQNWRGJQLZR"
      },
      "source": [
        "# Use if deving locally - relatively painless\n",
        "% cd lfp\n",
        "! git pull\n",
        "% cd .."
      ],
      "execution_count": null,
      "outputs": []
    },
    {
      "cell_type": "code",
      "metadata": {
        "id": "FABYi2fFFjiD"
      },
      "source": [
        ""
      ],
      "execution_count": null,
      "outputs": []
    }
  ]
}