{
  "nbformat": 4,
  "nbformat_minor": 0,
  "metadata": {
    "accelerator": "TPU",
    "colab": {
      "name": "LMP Test.ipynb",
      "provenance": [],
      "collapsed_sections": [
        "G84fGXVwv9Fh",
        "-yC0L1P3v9GA",
        "8SHQGBjnv9GK",
        "b7CMny5dv9Gx",
        "njbQpQAGv9G2"
      ],
      "toc_visible": true,
      "machine_shape": "hm",
      "include_colab_link": true
    },
    "kernelspec": {
      "display_name": "Python 3",
      "language": "python",
      "name": "python3"
    },
    "language_info": {
      "codemirror_mode": {
        "name": "ipython",
        "version": 3
      },
      "file_extension": ".py",
      "mimetype": "text/x-python",
      "name": "python",
      "nbconvert_exporter": "python",
      "pygments_lexer": "ipython3",
      "version": "3.7.3"
    }
  },
  "cells": [
    {
      "cell_type": "markdown",
      "metadata": {
        "id": "view-in-github",
        "colab_type": "text"
      },
      "source": [
        "<a href=\"https://colab.research.google.com/github/sholtodouglas/learning_from_play/blob/actual_pre_training_refactor/notebooks/languageXplay.ipynb\" target=\"_parent\"><img src=\"https://colab.research.google.com/assets/colab-badge.svg\" alt=\"Open In Colab\"/></a>"
      ]
    },
    {
      "cell_type": "code",
      "metadata": {
        "id": "Xchjk_eKp26Q"
      },
      "source": [
        "#@title Install package dependencies (forces restart)\n",
        "import os\n",
        "\n",
        "def restart_runtime():\n",
        "    print('Runtime restarting...')\n",
        "    os.kill(os.getpid(), 9)\n",
        "    \n",
        "!git clone 'https://github.com/sholtodouglas/pandaRL' 'local_packages/pandaRL'\n",
        "!pip install -e 'local_packages/pandaRL/.'\n",
        "\n",
        "restart_runtime()"
      ],
      "execution_count": null,
      "outputs": []
    },
    {
      "cell_type": "code",
      "metadata": {
        "id": "7jUYgZwpGfav"
      },
      "source": [
        "!pip -q install pybullet wandb"
      ],
      "execution_count": 1,
      "outputs": []
    },
    {
      "cell_type": "code",
      "metadata": {
        "id": "e9Tv7YJOgZB2"
      },
      "source": [
        "# Config\n",
        "config = {\n",
        "    'colab':True,\n",
        "    'gcs':False,\n",
        "    'device':'TPU', # 'CPU', 'GPU', 'TPU'\n",
        "    'train_datasets':[\"UR5\", \"UR5_slow_gripper\",\"UR5_high_transition\"],\n",
        "    'test_datasets':[\"UR5_slow_gripper_test\"],\n",
        "    # data\n",
        "    'batch_size':512,\n",
        "    # model\n",
        "    'layer_size':2048,\n",
        "    'latent_dim':256,\n",
        "    'gcbc':False,\n",
        "    'num_distribs':None,\n",
        "    'qbits':None,\n",
        "    # training\n",
        "    'learning_rate':3e-4,\n",
        "}"
      ],
      "execution_count": 3,
      "outputs": []
    },
    {
      "cell_type": "code",
      "metadata": {
        "colab": {
          "base_uri": "https://localhost:8080/"
        },
        "id": "zMJ___6ARZ4u",
        "outputId": "e3c24865-e973-4a55-de19-90a27528803b"
      },
      "source": [
        "#@title Workpace Setup (Local vs Colab)\n",
        "from pathlib import Path\n",
        "import os\n",
        "\n",
        "# COLAB = False #@param {type:\"boolean\"}\n",
        "AUTH_GCS = False #@param {type:\"boolean\"}\n",
        "# DEVICE = \"CPU\" #@param [\"TPU\", \"GPU\", \"CPU\"]\n",
        "DATA_SOURCE = \"Google Drive\" #@param [\"Google Drive\", \"GCS\"]\n",
        "# TRAIN_DATASETS = [\"UR5\"]#,\"UR5_slow_gripper\",\"UR5_high_transition\"]\n",
        "# TEST_DATASET = \"UR5_slow_gripper_test\" #@param [\"UR5_slow_gripper_test\"]\n",
        "GCS_USER = \"sholto\" #@param [\"sholto\", \"tristan\"]\n",
        "\n",
        "if config['colab']:\n",
        "    from google.colab import drive, auth\n",
        "    print('Using colab setup')\n",
        "    !git clone 'https://github.com/sholtodouglas/learning_from_play'\n",
        "    WORKING_PATH = Path('/content/learning_from_play')\n",
        "    drive.mount('/content/drive')\n",
        "    os.chdir(WORKING_PATH)\n",
        "    STORAGE_PATH = Path('/content/drive/My Drive/Robotic Learning')\n",
        "    print(f'Storage path: {STORAGE_PATH}')\n",
        "else:\n",
        "    print('Using local setup')\n",
        "    WORKING_PATH = Path().absolute().parent\n",
        "    print(f'Working path: {WORKING_PATH}')\n",
        "    os.chdir(WORKING_PATH)\n",
        "    STORAGE_PATH = WORKING_PATH\n",
        "    print(f'Storage path: {STORAGE_PATH}')\n",
        "\n",
        "TRAIN_DATA_PATHS = [STORAGE_PATH/'data'/x for x in config['train_datasets']]\n",
        "TEST_DATA_PATHS = [STORAGE_PATH/'data'/x for x in config['test_datasets']]"
      ],
      "execution_count": 4,
      "outputs": [
        {
          "output_type": "stream",
          "text": [
            "Using colab setup\n",
            "fatal: destination path 'learning_from_play' already exists and is not an empty directory.\n",
            "Drive already mounted at /content/drive; to attempt to forcibly remount, call drive.mount(\"/content/drive\", force_remount=True).\n",
            "Storage path: /content/drive/My Drive/Robotic Learning\n"
          ],
          "name": "stdout"
        }
      ]
    },
    {
      "cell_type": "code",
      "metadata": {
        "colab": {
          "base_uri": "https://localhost:8080/"
        },
        "id": "FQu4Q60tYxt6",
        "outputId": "8d3edbb0-4626-4d07-808d-f6c283878c2d"
      },
      "source": [
        "! git checkout origin/actual_pre_training_refactor"
      ],
      "execution_count": 4,
      "outputs": [
        {
          "output_type": "stream",
          "text": [
            "Note: checking out 'origin/actual_pre_training_refactor'.\n",
            "\n",
            "You are in 'detached HEAD' state. You can look around, make experimental\n",
            "changes and commit them, and you can discard any commits you make in this\n",
            "state without impacting any branches by performing another checkout.\n",
            "\n",
            "If you want to create a new branch to retain commits you create, you may\n",
            "do so (now or later) by using -b with the checkout command again. Example:\n",
            "\n",
            "  git checkout -b <new-branch-name>\n",
            "\n",
            "HEAD is now at 9fe1e97 fully refactored training loop\n"
          ],
          "name": "stdout"
        }
      ]
    },
    {
      "cell_type": "markdown",
      "metadata": {
        "id": "EliqxOpPv9Dy"
      },
      "source": [
        "# Data Creation"
      ]
    },
    {
      "cell_type": "code",
      "metadata": {
        "colab": {
          "base_uri": "https://localhost:8080/"
        },
        "id": "6zbmq324x2yv",
        "outputId": "c2ce8f54-7cb0-439a-e8a1-c9b288d37639"
      },
      "source": [
        "import tensorflow as tf\n",
        "print(\"Tensorflow version \" + tf.__version__)\n",
        "\n",
        "if config['device'] == \"TPU\":\n",
        "    try:\n",
        "        tpu = tf.distribute.cluster_resolver.TPUClusterResolver()  # TPU detection\n",
        "        print('Running on TPU ', tpu.cluster_spec().as_dict()['worker'])\n",
        "    except ValueError:\n",
        "        raise BaseException('ERROR: Not connected to a TPU runtime; please see the previous cell in this notebook for instructions!')\n",
        "\n",
        "    tf.config.experimental_connect_to_cluster(tpu)\n",
        "    tf.tpu.experimental.initialize_tpu_system(tpu)\n",
        "    strategy = tf.distribute.TPUStrategy(tpu)\n",
        "\n",
        "    NUM_DEVICES = strategy.num_replicas_in_sync\n",
        "    print(\"REPLICAS: \", NUM_DEVICES)\n",
        "else:\n",
        "    physical_devices = tf.config.list_physical_devices()\n",
        "    if config['device'] == 'GPU':\n",
        "        tf.config.experimental.set_memory_growth(physical_devices[3], enable=True)\n",
        "    NUM_DEVICES = 1\n",
        "    print(physical_devices)"
      ],
      "execution_count": 5,
      "outputs": [
        {
          "output_type": "stream",
          "text": [
            "Tensorflow version 2.4.1\n",
            "Running on TPU  ['10.87.142.178:8470']\n",
            "INFO:tensorflow:Initializing the TPU system: grpc://10.87.142.178:8470\n"
          ],
          "name": "stdout"
        },
        {
          "output_type": "stream",
          "text": [
            "INFO:tensorflow:Initializing the TPU system: grpc://10.87.142.178:8470\n"
          ],
          "name": "stderr"
        },
        {
          "output_type": "stream",
          "text": [
            "INFO:tensorflow:Clearing out eager caches\n"
          ],
          "name": "stdout"
        },
        {
          "output_type": "stream",
          "text": [
            "INFO:tensorflow:Clearing out eager caches\n"
          ],
          "name": "stderr"
        },
        {
          "output_type": "stream",
          "text": [
            "INFO:tensorflow:Finished initializing TPU system.\n"
          ],
          "name": "stdout"
        },
        {
          "output_type": "stream",
          "text": [
            "INFO:tensorflow:Finished initializing TPU system.\n"
          ],
          "name": "stderr"
        },
        {
          "output_type": "stream",
          "text": [
            "INFO:tensorflow:Found TPU system:\n"
          ],
          "name": "stdout"
        },
        {
          "output_type": "stream",
          "text": [
            "INFO:tensorflow:Found TPU system:\n"
          ],
          "name": "stderr"
        },
        {
          "output_type": "stream",
          "text": [
            "INFO:tensorflow:*** Num TPU Cores: 8\n"
          ],
          "name": "stdout"
        },
        {
          "output_type": "stream",
          "text": [
            "INFO:tensorflow:*** Num TPU Cores: 8\n"
          ],
          "name": "stderr"
        },
        {
          "output_type": "stream",
          "text": [
            "INFO:tensorflow:*** Num TPU Workers: 1\n"
          ],
          "name": "stdout"
        },
        {
          "output_type": "stream",
          "text": [
            "INFO:tensorflow:*** Num TPU Workers: 1\n"
          ],
          "name": "stderr"
        },
        {
          "output_type": "stream",
          "text": [
            "INFO:tensorflow:*** Num TPU Cores Per Worker: 8\n"
          ],
          "name": "stdout"
        },
        {
          "output_type": "stream",
          "text": [
            "INFO:tensorflow:*** Num TPU Cores Per Worker: 8\n"
          ],
          "name": "stderr"
        },
        {
          "output_type": "stream",
          "text": [
            "INFO:tensorflow:*** Available Device: _DeviceAttributes(/job:localhost/replica:0/task:0/device:CPU:0, CPU, 0, 0)\n"
          ],
          "name": "stdout"
        },
        {
          "output_type": "stream",
          "text": [
            "INFO:tensorflow:*** Available Device: _DeviceAttributes(/job:localhost/replica:0/task:0/device:CPU:0, CPU, 0, 0)\n"
          ],
          "name": "stderr"
        },
        {
          "output_type": "stream",
          "text": [
            "INFO:tensorflow:*** Available Device: _DeviceAttributes(/job:worker/replica:0/task:0/device:CPU:0, CPU, 0, 0)\n"
          ],
          "name": "stdout"
        },
        {
          "output_type": "stream",
          "text": [
            "INFO:tensorflow:*** Available Device: _DeviceAttributes(/job:worker/replica:0/task:0/device:CPU:0, CPU, 0, 0)\n"
          ],
          "name": "stderr"
        },
        {
          "output_type": "stream",
          "text": [
            "INFO:tensorflow:*** Available Device: _DeviceAttributes(/job:worker/replica:0/task:0/device:TPU:0, TPU, 0, 0)\n"
          ],
          "name": "stdout"
        },
        {
          "output_type": "stream",
          "text": [
            "INFO:tensorflow:*** Available Device: _DeviceAttributes(/job:worker/replica:0/task:0/device:TPU:0, TPU, 0, 0)\n"
          ],
          "name": "stderr"
        },
        {
          "output_type": "stream",
          "text": [
            "INFO:tensorflow:*** Available Device: _DeviceAttributes(/job:worker/replica:0/task:0/device:TPU:1, TPU, 0, 0)\n"
          ],
          "name": "stdout"
        },
        {
          "output_type": "stream",
          "text": [
            "INFO:tensorflow:*** Available Device: _DeviceAttributes(/job:worker/replica:0/task:0/device:TPU:1, TPU, 0, 0)\n"
          ],
          "name": "stderr"
        },
        {
          "output_type": "stream",
          "text": [
            "INFO:tensorflow:*** Available Device: _DeviceAttributes(/job:worker/replica:0/task:0/device:TPU:2, TPU, 0, 0)\n"
          ],
          "name": "stdout"
        },
        {
          "output_type": "stream",
          "text": [
            "INFO:tensorflow:*** Available Device: _DeviceAttributes(/job:worker/replica:0/task:0/device:TPU:2, TPU, 0, 0)\n"
          ],
          "name": "stderr"
        },
        {
          "output_type": "stream",
          "text": [
            "INFO:tensorflow:*** Available Device: _DeviceAttributes(/job:worker/replica:0/task:0/device:TPU:3, TPU, 0, 0)\n"
          ],
          "name": "stdout"
        },
        {
          "output_type": "stream",
          "text": [
            "INFO:tensorflow:*** Available Device: _DeviceAttributes(/job:worker/replica:0/task:0/device:TPU:3, TPU, 0, 0)\n"
          ],
          "name": "stderr"
        },
        {
          "output_type": "stream",
          "text": [
            "INFO:tensorflow:*** Available Device: _DeviceAttributes(/job:worker/replica:0/task:0/device:TPU:4, TPU, 0, 0)\n"
          ],
          "name": "stdout"
        },
        {
          "output_type": "stream",
          "text": [
            "INFO:tensorflow:*** Available Device: _DeviceAttributes(/job:worker/replica:0/task:0/device:TPU:4, TPU, 0, 0)\n"
          ],
          "name": "stderr"
        },
        {
          "output_type": "stream",
          "text": [
            "INFO:tensorflow:*** Available Device: _DeviceAttributes(/job:worker/replica:0/task:0/device:TPU:5, TPU, 0, 0)\n"
          ],
          "name": "stdout"
        },
        {
          "output_type": "stream",
          "text": [
            "INFO:tensorflow:*** Available Device: _DeviceAttributes(/job:worker/replica:0/task:0/device:TPU:5, TPU, 0, 0)\n"
          ],
          "name": "stderr"
        },
        {
          "output_type": "stream",
          "text": [
            "INFO:tensorflow:*** Available Device: _DeviceAttributes(/job:worker/replica:0/task:0/device:TPU:6, TPU, 0, 0)\n"
          ],
          "name": "stdout"
        },
        {
          "output_type": "stream",
          "text": [
            "INFO:tensorflow:*** Available Device: _DeviceAttributes(/job:worker/replica:0/task:0/device:TPU:6, TPU, 0, 0)\n"
          ],
          "name": "stderr"
        },
        {
          "output_type": "stream",
          "text": [
            "INFO:tensorflow:*** Available Device: _DeviceAttributes(/job:worker/replica:0/task:0/device:TPU:7, TPU, 0, 0)\n"
          ],
          "name": "stdout"
        },
        {
          "output_type": "stream",
          "text": [
            "INFO:tensorflow:*** Available Device: _DeviceAttributes(/job:worker/replica:0/task:0/device:TPU:7, TPU, 0, 0)\n"
          ],
          "name": "stderr"
        },
        {
          "output_type": "stream",
          "text": [
            "INFO:tensorflow:*** Available Device: _DeviceAttributes(/job:worker/replica:0/task:0/device:TPU_SYSTEM:0, TPU_SYSTEM, 0, 0)\n"
          ],
          "name": "stdout"
        },
        {
          "output_type": "stream",
          "text": [
            "INFO:tensorflow:*** Available Device: _DeviceAttributes(/job:worker/replica:0/task:0/device:TPU_SYSTEM:0, TPU_SYSTEM, 0, 0)\n"
          ],
          "name": "stderr"
        },
        {
          "output_type": "stream",
          "text": [
            "INFO:tensorflow:*** Available Device: _DeviceAttributes(/job:worker/replica:0/task:0/device:XLA_CPU:0, XLA_CPU, 0, 0)\n"
          ],
          "name": "stdout"
        },
        {
          "output_type": "stream",
          "text": [
            "INFO:tensorflow:*** Available Device: _DeviceAttributes(/job:worker/replica:0/task:0/device:XLA_CPU:0, XLA_CPU, 0, 0)\n"
          ],
          "name": "stderr"
        },
        {
          "output_type": "stream",
          "text": [
            "REPLICAS:  8\n"
          ],
          "name": "stdout"
        }
      ]
    },
    {
      "cell_type": "markdown",
      "metadata": {
        "id": "yL0UZVa1v9D9",
        "pycharm": {
          "name": "#%% md\n"
        }
      },
      "source": [
        "# Dataset"
      ]
    },
    {
      "cell_type": "code",
      "metadata": {
        "id": "KF1m_wf3v9D-",
        "pycharm": {
          "name": "#%%\n"
        }
      },
      "source": [
        "import glob\n",
        "import numpy as np\n",
        "import tensorflow as tf\n",
        "import pickle\n",
        "import matplotlib.pyplot as plt\n",
        "import random\n",
        "import pickle\n",
        "import os\n",
        "from collections import Counter\n",
        "import random\n",
        "import datetime\n",
        "\n",
        "import lfp\n",
        "from natsort import natsorted"
      ],
      "execution_count": 6,
      "outputs": []
    },
    {
      "cell_type": "code",
      "metadata": {
        "colab": {
          "base_uri": "https://localhost:8080/"
        },
        "id": "1HejtDH_Yx8h",
        "outputId": "154af207-6fc0-4520-da25-092e955ae162"
      },
      "source": [
        "# Use this to edit modules without needing to restart the kernel\n",
        "import importlib\n",
        "importlib.reload(lfp.data)\n",
        "importlib.reload(lfp.model)\n",
        "importlib.reload(lfp.train)"
      ],
      "execution_count": 7,
      "outputs": [
        {
          "output_type": "execute_result",
          "data": {
            "text/plain": [
              "<module 'lfp.train' from '/content/learning_from_play/lfp/train.py'>"
            ]
          },
          "metadata": {
            "tags": []
          },
          "execution_count": 7
        }
      ]
    },
    {
      "cell_type": "markdown",
      "metadata": {
        "id": "yUI6JP06FdTv"
      },
      "source": [
        "### Config Flags"
      ]
    },
    {
      "cell_type": "code",
      "metadata": {
        "id": "n2lBWIyOFdTv"
      },
      "source": [
        "GLOBAL_BATCH_SIZE = config['batch_size'] * NUM_DEVICES\n",
        "dl = lfp.data.PlayDataloader(batch_size=GLOBAL_BATCH_SIZE)"
      ],
      "execution_count": 8,
      "outputs": []
    },
    {
      "cell_type": "code",
      "metadata": {
        "colab": {
          "base_uri": "https://localhost:8080/"
        },
        "id": "Uiz4AXCnFdTv",
        "outputId": "f8b23946-28d3-42a9-cba7-7d6ca237f66c"
      },
      "source": [
        "# Train data\n",
        "train_data = dl.extract(TRAIN_DATA_PATHS)\n",
        "train_dataset = dl.load(train_data)"
      ],
      "execution_count": 9,
      "outputs": [
        {
          "output_type": "stream",
          "text": [
            "UR5: 100%|██████████| 52/52 [00:00<00:00, 62.33it/s]\n",
            "UR5_slow_gripper: 100%|██████████| 23/23 [00:00<00:00, 59.51it/s]\n",
            "UR5_high_transition: 100%|██████████| 32/32 [00:00<00:00, 68.21it/s]\n"
          ],
          "name": "stderr"
        },
        {
          "output_type": "stream",
          "text": [
            "{   'acts': TensorSpec(shape=(4096, 50, 7), dtype=tf.float32, name=None),\n",
            "    'dataset_path': TensorSpec(shape=(4096, None, 1), dtype=tf.int32, name=None),\n",
            "    'goals': TensorSpec(shape=(4096, 50, 11), dtype=tf.float32, name=None),\n",
            "    'masks': TensorSpec(shape=(4096, 50), dtype=tf.float32, name=None),\n",
            "    'obs': TensorSpec(shape=(4096, 50, 18), dtype=tf.float32, name=None),\n",
            "    'seq_lens': TensorSpec(shape=(4096,), dtype=tf.float32, name=None),\n",
            "    'tstep_idxs': TensorSpec(shape=(4096, None, 1), dtype=tf.int32, name=None)}\n"
          ],
          "name": "stdout"
        }
      ]
    },
    {
      "cell_type": "code",
      "metadata": {
        "colab": {
          "base_uri": "https://localhost:8080/"
        },
        "id": "h8ZDAVpLFdTw",
        "outputId": "e21a50ec-35e0-4b34-f21a-e9452e5fa0b2"
      },
      "source": [
        "# Validation data\n",
        "valid_data = dl.extract(TEST_DATA_PATHS)\n",
        "valid_dataset = dl.load(valid_data)"
      ],
      "execution_count": 10,
      "outputs": [
        {
          "output_type": "stream",
          "text": [
            "UR5_slow_gripper_test: 100%|██████████| 2/2 [00:00<00:00, 50.71it/s]\n"
          ],
          "name": "stderr"
        },
        {
          "output_type": "stream",
          "text": [
            "{   'acts': TensorSpec(shape=(4096, 50, 7), dtype=tf.float32, name=None),\n",
            "    'dataset_path': TensorSpec(shape=(4096, None, 1), dtype=tf.int32, name=None),\n",
            "    'goals': TensorSpec(shape=(4096, 50, 11), dtype=tf.float32, name=None),\n",
            "    'masks': TensorSpec(shape=(4096, 50), dtype=tf.float32, name=None),\n",
            "    'obs': TensorSpec(shape=(4096, 50, 18), dtype=tf.float32, name=None),\n",
            "    'seq_lens': TensorSpec(shape=(4096,), dtype=tf.float32, name=None),\n",
            "    'tstep_idxs': TensorSpec(shape=(4096, None, 1), dtype=tf.int32, name=None)}\n"
          ],
          "name": "stdout"
        }
      ]
    },
    {
      "cell_type": "markdown",
      "metadata": {
        "id": "nN3YJSSLv9Ez",
        "pycharm": {
          "name": "#%% md\n"
        }
      },
      "source": [
        "# Model"
      ]
    },
    {
      "cell_type": "markdown",
      "metadata": {
        "id": "TWIpRPRuv9E6",
        "pycharm": {
          "name": "#%% md\n"
        }
      },
      "source": [
        "# Training Loop"
      ]
    },
    {
      "cell_type": "code",
      "metadata": {
        "colab": {
          "base_uri": "https://localhost:8080/"
        },
        "id": "-3r_TDl7v9E7",
        "outputId": "113c38be-7858-4843-bf36-a9ada4faf62e"
      },
      "source": [
        "from tensorflow.keras.losses import MeanSquaredError\n",
        "from tensorflow.keras.metrics import Accuracy\n",
        "from tensorflow.keras.optimizers import SGD, Adam\n",
        "from tensorflow.keras.utils import Progbar\n",
        "import tensorflow_addons as tfa\n",
        "import tensorflow_probability as tfp\n",
        "tfd = tfp.distributions\n",
        "\n",
        "import time\n",
        "import io\n",
        "import wandb\n",
        "wandb.login()"
      ],
      "execution_count": 11,
      "outputs": [
        {
          "output_type": "stream",
          "text": [
            "\u001b[34m\u001b[1mwandb\u001b[0m: Currently logged in as: \u001b[33msholto\u001b[0m (use `wandb login --relogin` to force relogin)\n"
          ],
          "name": "stderr"
        },
        {
          "output_type": "execute_result",
          "data": {
            "text/plain": [
              "True"
            ]
          },
          "metadata": {
            "tags": []
          },
          "execution_count": 11
        }
      ]
    },
    {
      "cell_type": "code",
      "metadata": {
        "id": "iY7Lamf7pPtd"
      },
      "source": [
        ""
      ],
      "execution_count": 11,
      "outputs": []
    },
    {
      "cell_type": "code",
      "metadata": {
        "id": "KqmqTTIrJgHc"
      },
      "source": [
        "from lfp.metric import MaxMetric, create_metrics, record, log_action_breakdown\n",
        "from lfp.train import LFPTrainer"
      ],
      "execution_count": 12,
      "outputs": []
    },
    {
      "cell_type": "code",
      "metadata": {
        "id": "2uMXBjGzgZCA"
      },
      "source": [
        "def train_setup():\n",
        "    model_params = {'obs_dim':dl.obs_dim,\n",
        "                'goal_dim':dl.goal_dim,\n",
        "                'act_dim':dl.act_dim,\n",
        "                'layer_size':config['layer_size'], \n",
        "                'latent_dim':config['latent_dim']}\n",
        "    \n",
        "    actor = lfp.model.create_actor(**model_params, gcbc=config['gcbc'], num_distribs=config['num_distribs'])\n",
        "\n",
        "    if config['gcbc']:\n",
        "        encoder = None\n",
        "        planner = None\n",
        "    else:\n",
        "        encoder = lfp.model.create_encoder(**model_params)\n",
        "        planner = lfp.model.create_planner(**model_params)\n",
        "\n",
        "    optimizer = tf.optimizers.Adam(learning_rate=config['learning_rate'])\n",
        "    trainable_variables = actor.trainable_variables + encoder.trainable_variables + planner.trainable_variables\n",
        "    return actor, encoder, planner, optimizer, trainable_variables\n",
        "\n",
        "if config['device']=='CPU':\n",
        "    actor, encoder, planner, optimizer, trainable_variables = train_setup()\n",
        "else:\n",
        "    with strategy.scope():\n",
        "        actor, encoder, planner, optimizer, trainable_variables = train_setup()\n",
        "        \n",
        "train_dist_dataset = iter(strategy.experimental_distribute_dataset(train_dataset))\n",
        "valid_dist_dataset = iter(strategy.experimental_distribute_dataset(valid_dataset))"
      ],
      "execution_count": null,
      "outputs": []
    },
    {
      "cell_type": "code",
      "metadata": {
        "id": "7vDui_2XGhZW",
        "jupyter": {
          "source_hidden": true
        }
      },
      "source": [
        "with strategy.scope():\n",
        "    nll_action_loss = lambda y, p_y: tf.reduce_sum(-p_y.log_prob(y), axis=2)\n",
        "    mae_action_loss = tf.keras.losses.MeanAbsoluteError(reduction=tf.keras.losses.Reduction.NONE)\n",
        "    mse_action_loss = tf.keras.losses.MeanSquaredError(reduction=tf.keras.losses.Reduction.NONE)\n",
        "\n",
        "    def compute_loss(labels, predictions, mask, seq_lens, weightings=None):\n",
        "        if config['num_distribs'] is not None:\n",
        "            per_example_loss = nll_action_loss(labels, predictions) * mask\n",
        "        else:\n",
        "            per_example_loss = mae_action_loss(labels, predictions) * mask\n",
        "\n",
        "        per_example_loss = tf.reduce_sum(per_example_loss, axis=1) / seq_lens  # take mean along the timestep\n",
        "        return tf.nn.compute_average_loss(per_example_loss, global_batch_size=GLOBAL_BATCH_SIZE)\n",
        "\n",
        "\n",
        "    def compute_MAE(labels, predictions, mask, seq_lens, weightings=None):\n",
        "        per_example_loss = mae_action_loss(labels, predictions) * mask\n",
        "        per_example_loss = tf.reduce_sum(per_example_loss, axis=1) / seq_lens  # take mean along the timestep\n",
        "        return tf.nn.compute_average_loss(per_example_loss, global_batch_size=GLOBAL_BATCH_SIZE)\n",
        "\n",
        "\n",
        "    def compute_regularisation_loss(plan, encoding):\n",
        "        # Reverse KL(enc|plan): we want planner to map to encoder (weighted by encoder)\n",
        "        reg_loss = tfd.kl_divergence(encoding, plan)  # + KL(plan, encoding)\n",
        "        return tf.nn.compute_average_loss(reg_loss, global_batch_size=GLOBAL_BATCH_SIZE)\n",
        "\n",
        "    train_loss, valid_loss, actor_grad_norm, encoder_grad_norm, planner_grad_norm, \\\n",
        "    actor_grad_norm_clipped, encoder_grad_norm_clipped, planner_grad_norm_clipped, global_grad_norm, \\\n",
        "    test, test2,  train_act_with_enc_loss, train_act_with_plan_loss, valid_act_with_enc_loss, valid_act_with_plan_loss,\\\n",
        "    train_reg_loss, valid_reg_loss, valid_position_loss,  valid_max_position_loss, valid_rotation_loss, valid_max_rotation_loss, valid_gripper_loss = create_metrics()\n",
        "\n",
        "\n",
        "# Now outside strategy .scope\n",
        "def train_step(inputs, beta, prev_global_grad_norm):\n",
        "    with tf.GradientTape() as actor_tape, tf.GradientTape() as encoder_tape, tf.GradientTape() as planner_tape:  # separate tapes to simplify grad_norm logging and clipping for stability\n",
        "        # Todo: figure out mask and seq_lens for new dataset \n",
        "        states, actions, goals, seq_lens, mask = inputs['obs'], inputs['acts'], inputs['goals'], inputs['seq_lens'], \\\n",
        "                                                 inputs['masks']\n",
        "\n",
        "        if config['gcbc']:\n",
        "            distrib = actor([states, goals])\n",
        "            loss = compute_loss(actions, distrib, mask, seq_lens)\n",
        "            gradients = tape.gradient(loss, actor.trainable_variables)\n",
        "            optimizer.apply_gradients(zip(gradients, actor.trainable_variables))\n",
        "        else:\n",
        "            encoding = encoder([states, actions])\n",
        "            plan = planner([states[:, 0, :], goals[:, 0,:]])  # the final goals are tiled out over the entire non masked sequence, so the first timestep is the final goal. \n",
        "            z_enc = encoding.sample()\n",
        "            z_plan = plan.sample()\n",
        "            z_enc_tiled = tf.tile(tf.expand_dims(z_enc, 1), (1, dl.window_size, 1))\n",
        "            z_plan_tiled = tf.tile(tf.expand_dims(z_plan, 1), (1, dl.window_size, 1))\n",
        "\n",
        "            enc_policy = actor([states, z_enc_tiled, goals])\n",
        "            plan_policy = actor([states, z_plan_tiled, goals])\n",
        "\n",
        "            act_enc_loss = record(compute_loss(actions, enc_policy, mask, seq_lens), train_act_with_enc_loss)\n",
        "            act_plan_loss = record(compute_loss(actions, plan_policy, mask, seq_lens), train_act_with_plan_loss)\n",
        "            reg_loss = record(compute_regularisation_loss(plan, encoding), train_reg_loss)\n",
        "            loss = act_enc_loss + reg_loss * beta\n",
        "\n",
        "            actor_gradients = actor_tape.gradient(loss, actor.trainable_variables)\n",
        "            encoder_gradients = encoder_tape.gradient(loss, encoder.trainable_variables)\n",
        "            planner_gradients = planner_tape.gradient(loss, planner.trainable_variables)\n",
        "\n",
        "            actor_norm = record(tf.linalg.global_norm(actor_gradients), actor_grad_norm)\n",
        "            encoder_norm = record(tf.linalg.global_norm(encoder_gradients), encoder_grad_norm)\n",
        "            planner_norm = record(tf.linalg.global_norm(planner_gradients), planner_grad_norm)\n",
        "\n",
        "            gradients = actor_gradients + encoder_gradients+planner_gradients\n",
        "\n",
        "            # if the gradient norm is more than 3x the previous one, clip it to the previous norm for stability\n",
        "            gradients = tf.cond(tf.linalg.global_norm(gradients) > 3 * prev_global_grad_norm,\n",
        "                                lambda: tf.clip_by_global_norm(gradients, prev_global_grad_norm)[0],\n",
        "                                lambda: gradients)  # must get[0] as it returns new norm as [1]\n",
        "\n",
        "            planner_grads = [g * 10 for g in planner_grads]\n",
        "            \n",
        "            actor_norm_clipped = record(tf.linalg.global_norm(actor_gradients), actor_grad_norm_clipped)\n",
        "            encoder_norm_clipped = record(tf.linalg.global_norm(encoder_gradients), encoder_grad_norm_clipped)\n",
        "            planner_norm_clipped = record(tf.linalg.global_norm(planner_gradients), planner_grad_norm_clipped)\n",
        "\n",
        "            record(tf.linalg.global_norm(gradients), global_grad_norm)\n",
        "\n",
        "            optimizer.apply_gradients(zip(gradients,\n",
        "                                          actor.trainable_variables + encoder.trainable_variables + planner.trainable_variables))\n",
        "\n",
        "\n",
        "    return record(loss, train_loss)\n",
        "\n",
        "\n",
        "def test_step(inputs, beta):\n",
        "    states, actions, goals, seq_lens, mask = inputs['obs'], inputs['acts'], inputs['goals'], inputs['seq_lens'], inputs['masks']\n",
        "\n",
        "    if  config['gcbc']:\n",
        "        policy = actor([states, goals], training=False)\n",
        "        loss = compute_loss(actions, policy, mask, seq_lens)\n",
        "        log_action_breakdown(policy, actions, mask, seq_lens, config, dl.quaternion_act, valid_position_loss, valid_max_position_loss, \\\n",
        "                             valid_rotation_loss, valid_max_rotation_loss, valid_gripper_loss, compute_MAE)\n",
        "    else:\n",
        "        encoding = encoder([states, actions])\n",
        "        plan = planner([states[:, 0, :], goals[:, 0,:]])  # the final goals are tiled out over the entire non masked sequence, so the first timestep is the final goal. \n",
        "        z_enc = encoding.sample()\n",
        "        z_plan = plan.sample()\n",
        "        z_enc_tiled = tf.tile(tf.expand_dims(z_enc, 1), (1, dl.window_size, 1))\n",
        "        z_plan_tiled = tf.tile(tf.expand_dims(z_plan, 1), (1, dl.window_size, 1))\n",
        "        enc_policy = actor([states, z_enc_tiled, goals])\n",
        "        plan_policy = actor([states, z_plan_tiled, goals])\n",
        "        act_enc_loss = record(compute_loss(actions, enc_policy, mask, seq_lens), valid_act_with_enc_loss)\n",
        "        act_plan_loss = record(compute_loss(actions, plan_policy, mask, seq_lens), valid_act_with_plan_loss)\n",
        "        reg_loss = record(compute_regularisation_loss(plan, encoding), valid_reg_loss)\n",
        "        loss = act_plan_loss + reg_loss * beta\n",
        "\n",
        "\n",
        "        log_action_breakdown(plan_policy, actions, mask, seq_lens, config, dl.quaternion_act, valid_position_loss, \\\n",
        "                             valid_max_position_loss, valid_rotation_loss, valid_max_rotation_loss, valid_gripper_loss, compute_MAE)\n",
        "\n",
        "\n",
        "    if config['gcbc']:\n",
        "        return record(loss, valid_loss)\n",
        "    else:\n",
        "        return record(loss,valid_loss), z_enc, z_plan\n",
        "\n",
        "\n",
        "@tf.function\n",
        "def distributed_train_step(dataset_inputs, beta, prev_global_grad_norm):\n",
        "    per_replica_losses = strategy.run(train_step, args=(dataset_inputs, beta, prev_global_grad_norm))\n",
        "    return strategy.reduce(tf.distribute.ReduceOp.MEAN, per_replica_losses, axis=None)\n",
        "\n",
        "\n",
        "@tf.function\n",
        "def distributed_test_step(dataset_inputs, beta):\n",
        "    if config['gcbc']:\n",
        "        per_replica_losses = strategy.run(test_step, args=(dataset_inputs, beta))\n",
        "        return strategy.reduce(tf.distribute.ReduceOp.MEAN, per_replica_losses, axis=None)\n",
        "    else:\n",
        "        per_replica_losses, ze, zp = strategy.run(test_step, args=(dataset_inputs, beta))\n",
        "        return strategy.reduce(tf.distribute.ReduceOp.MEAN, per_replica_losses, axis=None), ze.values[0], zp.values[0]"
      ],
      "execution_count": null,
      "outputs": []
    },
    {
      "cell_type": "code",
      "metadata": {
        "id": "xtSlIEoBlDyp"
      },
      "source": [
        "from lfp.train import BetaScheduler\n",
        "\n",
        "TRAIN_STEPS = 200000\n",
        "# 0.00001 so far works best for MAE - try lower - 0.00003 with a BETA accel of 10 so far works best, perfect encoder, nicely mapped planner\n",
        "# recall 0.01 worked okay for probabilistic - proba still too unstable!\n",
        "beta_sched = BetaScheduler('linear', \n",
        "                           beta=0.00003, \n",
        "                           beta_max=0.00003, \n",
        "                           max_steps=TRAIN_STEPS, \n",
        "                           cycles=90, \n",
        "                           duty_cycle=0.5\n",
        "                           )"
      ],
      "execution_count": null,
      "outputs": []
    },
    {
      "cell_type": "code",
      "metadata": {
        "id": "rhSGD_2imWDi"
      },
      "source": [
        "progbar = Progbar(TRAIN_STEPS, verbose=1, interval=0.5)\n",
        "best_valid_loss = np.float('inf')\n",
        "\n",
        "valid_inc = 20\n",
        "save_inc = 1000\n",
        "\n",
        "prev_grad_norm = np.float('inf')"
      ],
      "execution_count": null,
      "outputs": []
    },
    {
      "cell_type": "code",
      "metadata": {
        "id": "Q0DCKjLXoDHv"
      },
      "source": [
        "\n",
        "from lfp.utils import load_weights, load_optimizer_state\n",
        "\n",
        "\n",
        "def save_weights(path, actor, config, dl, run_id, encoder=None, planner=None, step=\"\"):\n",
        "    os.makedirs(path, exist_ok=True)\n",
        "\n",
        "    print('Saving model weights...')\n",
        "    # Save the standardisation params\n",
        "    np.savez(path + 'hyper_params', relative_obs=dl.relative_obs, relative_act=dl.relative_act,\n",
        "              quaternion_act=dl.quaternion_act,\n",
        "              joints=dl.joints, LAYER_SIZE=config['layer_size'], LATENT_DIM=config['latent_dim'],\n",
        "              GCBC=config['gcbc'], PROBABILISTIC=config['num_distribs'], QUANTISED=config['qbits'], run_id=run_id)\n",
        "    # save timestepped version\n",
        "    if step != \"\":\n",
        "        actor.save_weights(path + 'model_' + str(step) + '.h5')\n",
        "        if planner is not None: planner.save_weights(path + 'planner_' + str(step) + '.h5')\n",
        "        if encoder is not None: encoder.save_weights(path + 'encoder_' + str(step) + '.h5')\n",
        "\n",
        "    # save the latest version\n",
        "    actor.save_weights(path + 'model.h5')\n",
        "    if planner is not None: planner.save_weights(path + 'planner.h5')\n",
        "    if encoder is not None: encoder.save_weights(path + 'encoder.h5')\n",
        "\n",
        "    # save the optimizer state\n",
        "    np.save(os.path.join(path, 'optimizer'), optimizer.get_weights())"
      ],
      "execution_count": null,
      "outputs": []
    },
    {
      "cell_type": "code",
      "metadata": {
        "id": "8nmzjO2d_Hfm"
      },
      "source": [
        "RESUME = False"
      ],
      "execution_count": null,
      "outputs": []
    },
    {
      "cell_type": "code",
      "metadata": {
        "id": "oTyriZrYowMJ"
      },
      "source": [
        "run_name = \"actual_pre_tl_refactor\"#\"ALLB0.00003\"\n",
        "model_path = f'/content/drive/My Drive/Robotic Learning/saved_models/{run_name}/'\n",
        "\n",
        "if RESUME:\n",
        "  run_id = str(np.load(model_path+'hyper_params.npz')['run_id'])\n",
        "  wandb.init(project=\"learning-from-play_v2\", id='12621l2h',  resume=\"must\")\n",
        "  load_weights(model_path, actor, encoder, planner)\n",
        "  load_optimizer_state(optimizer, model_path, strategy)\n",
        "  print('Loaded model weights and optimiser state')\n",
        "  t = wandb.run.step + valid_inc\n",
        "else:\n",
        "  wandb.init(project=\"learning-from-play_v2\")\n",
        "  wandb.run.name = run_name\n",
        "  t = 0\n"
      ],
      "execution_count": null,
      "outputs": []
    },
    {
      "cell_type": "code",
      "metadata": {
        "id": "-ytVwQ0J6FTB"
      },
      "source": [
        "# config = wandb.config\n",
        "\n",
        "# # Hparams\n",
        "# config.DEVICE = DEVICE\n",
        "# config.WINDOW_SIZE = dl.window_size\n",
        "# config.WINDOW_SHIFT = dl.window_shift\n",
        "# config.LAYER_SIZE = LAYER_SIZE\n",
        "# config.LATENT_DIM = LATENT_DIM\n",
        "# config.GRIPPER_WEIGHT = GRIPPER_WEIGHT\n",
        "# config.TRAIN_STEPS = TRAIN_STEPS\n",
        "# config.beta_schedule = beta_sched.schedule\n",
        "# config.beta_min = beta_sched.beta_min\n",
        "# config.beta_max = beta_sched.beta_max\n",
        "# config.PROBABILISTIC = PROBABILISTIC\n",
        "# config.PROPRIOCEPTION = dl.proprioception"
      ],
      "execution_count": null,
      "outputs": []
    },
    {
      "cell_type": "code",
      "metadata": {
        "id": "xjnc22FOGae1"
      },
      "source": [
        "from lfp.plotting import produce_cluster_fig, project_enc_and_plan, plot_to_image\n",
        "v_it = iter(valid_dataset) #for the cluster fig, easier with a non distributed dataset\n",
        "\n",
        "def log(metric, reset=True):\n",
        "  result = metric.result()\n",
        "  if reset:\n",
        "    metric.reset_states()\n",
        "  return result"
      ],
      "execution_count": null,
      "outputs": []
    },
    {
      "cell_type": "code",
      "metadata": {
        "id": "IXF0Y8aKrsng"
      },
      "source": [
        "while t < TRAIN_STEPS:\n",
        "    start_time = time.time()\n",
        "    beta = beta_sched.scheduler(t)\n",
        "    x = next(train_dist_dataset)\n",
        "    total_train_loss = distributed_train_step(x, beta, prev_grad_norm)\n",
        "    \n",
        "    if t % valid_inc == 0:  \n",
        "        valid_x = next(valid_dist_dataset)\n",
        "        if config['gcbc']:\n",
        "          total_val_loss = distributed_test_step(valid_x, beta)\n",
        "        else:\n",
        "          total_val_loss, ze, zp = distributed_test_step(valid_x, beta)\n",
        "\n",
        "        # validation plotting\n",
        "        progbar.add(valid_inc, [('Train Loss', train_loss.result()), ('Validation Loss', valid_loss.result()), ('Time (s)', round(time.time() - start_time, 1))])\n",
        "\n",
        "\n",
        "        wandb.log({'train_loss_result':log(train_loss, reset=False),\n",
        "                    'valid_loss_result':log(valid_loss, reset=False),\n",
        "                    'valid_position_loss_result':log(valid_position_loss, reset=False),\n",
        "                    'valid_max_position_loss_result':log(valid_max_position_loss, reset=False),\n",
        "                    'valid_rotation_loss_result':log(valid_rotation_loss, reset=False),\n",
        "                    'valid_max_rotation_loss_result':log(valid_max_rotation_loss, reset=False),\n",
        "                    'valid_gripper_loss_result':log(valid_gripper_loss, reset=False),\n",
        "                    'actor_grad_norm': log(actor_grad_norm),\n",
        "                    'actor_grad_norm_clipped': log(actor_grad_norm_clipped),\n",
        "                    'valid_position_loss':log(valid_position_loss),\n",
        "                    'valid_max_position_loss':log(valid_max_position_loss),\n",
        "                    'valid_rotation_loss':log(valid_rotation_loss),\n",
        "                    'valid_max_rotation_loss':log(valid_max_rotation_loss),\n",
        "                    'valid_gripper_loss':log(valid_gripper_loss),\n",
        "                  },\n",
        "                  step=t)\n",
        "          \n",
        "        if not config['gcbc']:\n",
        "          wandb.log({\n",
        "                      'train_act_with_enc_loss_result':log(train_act_with_enc_loss, reset=False),\n",
        "                      'train_act_with_plan_loss_result':log(train_act_with_plan_loss, reset=False),\n",
        "                      'train_reg_loss_result':log(train_reg_loss, reset=False),\n",
        "                      'valid_act_with_enc_loss_result':log(valid_act_with_enc_loss, reset=False),\n",
        "                      'valid_act_with_plan_loss_result':log(valid_act_with_plan_loss, reset=False),\n",
        "                      'valid_reg_loss_result':log(valid_reg_loss, reset=False),\n",
        "                      'beta_result':beta,\n",
        "                      'encoder_grad_norm': log(encoder_grad_norm),\n",
        "                      'planner_grad_norm': log(planner_grad_norm),\n",
        "                      'encoder_grad_norm_clipped': log(encoder_grad_norm_clipped),\n",
        "                      'planner_grad_norm_clipped': log(planner_grad_norm_clipped),\n",
        "                      'train_act_with_enc_loss':log(train_act_with_enc_loss),\n",
        "                      'train_act_with_plan_loss':log(train_act_with_plan_loss),\n",
        "                      'train_reg_loss':log(train_reg_loss),\n",
        "                      'valid_act_with_enc_loss':log(valid_act_with_enc_loss),\n",
        "                      'valid_act_with_plan_loss':log(valid_act_with_plan_loss),\n",
        "                      'valid_reg_loss':log(valid_reg_loss),\n",
        "                    },\n",
        "                    step=t)\n",
        "          \n",
        "\n",
        "        prev_grad_norm = log(global_grad_norm)\n",
        "          \n",
        "    if t % save_inc == 0:\n",
        "        save_weights(model_path, actor, config, dl, wandb.run.id, encoder, planner)\n",
        "        if not config['gcbc']:\n",
        "          z_enc, z_plan = produce_cluster_fig(next(v_it), encoder, planner, TEST_DATA_PATHS[0], num_take=dl.batch_size//8)\n",
        "          wandb.log({'z_enc':z_enc, 'z_plan':z_plan}, step=t)\n",
        "          #latent_fig = project_enc_and_plan(ze, zp)\n",
        "          #latent_img = plot_to_image(latent_fig)\n",
        "\n",
        "    t += 1"
      ],
      "execution_count": null,
      "outputs": []
    },
    {
      "cell_type": "code",
      "metadata": {
        "id": "_KTGRzwhfhMR"
      },
      "source": [
        ""
      ],
      "execution_count": null,
      "outputs": []
    }
  ]
}