{
 "cells": [
  {
   "cell_type": "markdown",
   "metadata": {
    "colab_type": "text",
    "id": "view-in-github"
   },
   "source": [
    "<a href=\"https://colab.research.google.com/github/sholtodouglas/learning_from_play/blob/master/notebooks/languageXplay.ipynb\" target=\"_parent\"><img src=\"https://colab.research.google.com/assets/colab-badge.svg\" alt=\"Open In Colab\"/></a>"
   ]
  },
  {
   "cell_type": "code",
   "execution_count": 1,
   "metadata": {
    "colab": {
     "base_uri": "https://localhost:8080/"
    },
    "id": "7jUYgZwpGfav",
    "outputId": "e7f47a97-49dd-4ff0-a5da-9dcabba6702d"
   },
   "outputs": [
    {
     "name": "stdout",
     "output_type": "stream",
     "text": [
      "\u001b[K     |████████████████████████████████| 76.6MB 70kB/s \n",
      "\u001b[K     |████████████████████████████████| 1.9MB 67.3MB/s \n",
      "\u001b[K     |████████████████████████████████| 102kB 14.0MB/s \n",
      "\u001b[K     |████████████████████████████████| 133kB 63.7MB/s \n",
      "\u001b[K     |████████████████████████████████| 102kB 14.2MB/s \n",
      "\u001b[K     |████████████████████████████████| 163kB 56.9MB/s \n",
      "\u001b[K     |████████████████████████████████| 71kB 9.7MB/s \n",
      "\u001b[?25h  Building wheel for watchdog (setup.py) ... \u001b[?25l\u001b[?25hdone\n",
      "  Building wheel for subprocess32 (setup.py) ... \u001b[?25l\u001b[?25hdone\n",
      "  Building wheel for pathtools (setup.py) ... \u001b[?25l\u001b[?25hdone\n"
     ]
    }
   ],
   "source": [
    "# !pip -q install pybullet wandb"
   ]
  },
  {
   "cell_type": "code",
   "execution_count": 1,
   "metadata": {},
   "outputs": [],
   "source": [
    "from pathlib import Path\n",
    "import os\n",
    "import requests\n",
    "import json\n",
    "import pprint\n",
    "import logging"
   ]
  },
  {
   "cell_type": "code",
   "execution_count": 2,
   "metadata": {},
   "outputs": [
    {
     "name": "stdout",
     "output_type": "stream",
     "text": [
      "Config:\n",
      "{   'batch_size': 32,\n",
      "    'colab': False,\n",
      "    'data_source': 'GCS',\n",
      "    'device': 'CPU',\n",
      "    'from_tfrecords': True,\n",
      "    'gcbc': False,\n",
      "    'latent_dim': 8,\n",
      "    'layer_size': 64,\n",
      "    'learning_rate': 0.0003,\n",
      "    'num_distribs': None,\n",
      "    'qbits': None,\n",
      "    'test_datasets': ['UR5_slow_gripper_test'],\n",
      "    'train_datasets': ['UR5']}\n"
     ]
    }
   ],
   "source": [
    "pp = pprint.PrettyPrinter(indent=4)\n",
    "\n",
    "with open('../config/local_config_gcs.json') as f:\n",
    "    config = json.load(f)\n",
    "    print('Config:')\n",
    "    pp.pprint(config)"
   ]
  },
  {
   "cell_type": "code",
   "execution_count": 3,
   "metadata": {
    "colab": {
     "base_uri": "https://localhost:8080/"
    },
    "id": "zMJ___6ARZ4u",
    "outputId": "30bed810-50c3-48b4-c004-fd0d9c2436e3"
   },
   "outputs": [
    {
     "name": "stdout",
     "output_type": "stream",
     "text": [
      "Using local setup\n",
      "Working path: /Users/Tristan/Documents/Robotic Learning/learning_from_play\n",
      "Storage path: /Users/Tristan/Documents/Robotic Learning/learning_from_play\n",
      "Reading data from Google Cloud Storage\n"
     ]
    },
    {
     "name": "stderr",
     "output_type": "stream",
     "text": [
      "WARNING:root:You are accessing GCS data from New South Wales, outside of Iowa region\n"
     ]
    },
    {
     "ename": "PermissionDeniedError",
     "evalue": "Error executing an HTTP request: HTTP response code 401 with body '{\n  \"error\": {\n    \"code\": 401,\n    \"message\": \"Anonymous caller does not have storage.objects.list access to the Google Cloud Storage bucket.\",\n    \"errors\": [\n      {\n        \"message\": \"Anonymous caller does not have storage.objects.list access to the Google Cloud Storage bucket.\",\n        \"domain\": \"global\",\n        \"reason\": \"required\",\n        \"locationType\": \"header\",\n        \"location\": \"Authorization\"\n      }\n    ]\n  }\n}\n'\n\t when reading gs://lfp_iowa_bucket/data/UR5/tf_records",
     "output_type": "error",
     "traceback": [
      "\u001b[0;31m---------------------------------------------------------------------------\u001b[0m",
      "\u001b[0;31mPermissionDeniedError\u001b[0m                     Traceback (most recent call last)",
      "\u001b[0;32m<ipython-input-3-180d26164903>\u001b[0m in \u001b[0;36m<module>\u001b[0;34m\u001b[0m\n\u001b[1;32m     37\u001b[0m     \u001b[0;32mif\u001b[0m \u001b[0mconfig\u001b[0m\u001b[0;34m[\u001b[0m\u001b[0;34m'colab'\u001b[0m\u001b[0;34m]\u001b[0m\u001b[0;34m:\u001b[0m\u001b[0;34m\u001b[0m\u001b[0;34m\u001b[0m\u001b[0m\n\u001b[1;32m     38\u001b[0m         \u001b[0mauth\u001b[0m\u001b[0;34m.\u001b[0m\u001b[0mauthenticate_user\u001b[0m\u001b[0;34m(\u001b[0m\u001b[0;34m)\u001b[0m\u001b[0;34m\u001b[0m\u001b[0;34m\u001b[0m\u001b[0m\n\u001b[0;32m---> 39\u001b[0;31m     \u001b[0mTRAIN_DATA_PATHS\u001b[0m \u001b[0;34m=\u001b[0m \u001b[0mlfp\u001b[0m\u001b[0;34m.\u001b[0m\u001b[0mdata\u001b[0m\u001b[0;34m.\u001b[0m\u001b[0mget_tf_records\u001b[0m\u001b[0;34m(\u001b[0m\u001b[0mconfig\u001b[0m\u001b[0;34m[\u001b[0m\u001b[0;34m'train_datasets'\u001b[0m\u001b[0;34m]\u001b[0m\u001b[0;34m,\u001b[0m \u001b[0mbucket_name\u001b[0m\u001b[0;34m)\u001b[0m\u001b[0;34m\u001b[0m\u001b[0;34m\u001b[0m\u001b[0m\n\u001b[0m\u001b[1;32m     40\u001b[0m     \u001b[0mTEST_DATA_PATHS\u001b[0m \u001b[0;34m=\u001b[0m \u001b[0mlfp\u001b[0m\u001b[0;34m.\u001b[0m\u001b[0mdata\u001b[0m\u001b[0;34m.\u001b[0m\u001b[0mget_tf_records\u001b[0m\u001b[0;34m(\u001b[0m\u001b[0mconfig\u001b[0m\u001b[0;34m[\u001b[0m\u001b[0;34m'test_datasets'\u001b[0m\u001b[0;34m]\u001b[0m\u001b[0;34m,\u001b[0m \u001b[0mbucket_name\u001b[0m\u001b[0;34m)\u001b[0m\u001b[0;34m\u001b[0m\u001b[0;34m\u001b[0m\u001b[0m\n\u001b[1;32m     41\u001b[0m \u001b[0;32melse\u001b[0m\u001b[0;34m:\u001b[0m\u001b[0;34m\u001b[0m\u001b[0;34m\u001b[0m\u001b[0m\n",
      "\u001b[0;32m~/Documents/Robotic Learning/learning_from_play/lfp/data.py\u001b[0m in \u001b[0;36mget_tf_records\u001b[0;34m(PATHS, bucket_name)\u001b[0m\n\u001b[1;32m     15\u001b[0m     \u001b[0mfolder_names\u001b[0m \u001b[0;34m=\u001b[0m \u001b[0;34m[\u001b[0m\u001b[0;34m\"data/\"\u001b[0m\u001b[0;34m+\u001b[0m\u001b[0mstr\u001b[0m\u001b[0;34m(\u001b[0m\u001b[0mp\u001b[0m\u001b[0;34m)\u001b[0m \u001b[0;32mfor\u001b[0m \u001b[0mp\u001b[0m \u001b[0;32min\u001b[0m \u001b[0mPATHS\u001b[0m\u001b[0;34m]\u001b[0m\u001b[0;34m\u001b[0m\u001b[0;34m\u001b[0m\u001b[0m\n\u001b[1;32m     16\u001b[0m     \u001b[0;32mfor\u001b[0m \u001b[0mp\u001b[0m \u001b[0;32min\u001b[0m \u001b[0mfolder_names\u001b[0m\u001b[0;34m:\u001b[0m \u001b[0;31m# pass a list of folders and it will find the tf records in them\u001b[0m\u001b[0;34m\u001b[0m\u001b[0;34m\u001b[0m\u001b[0m\n\u001b[0;32m---> 17\u001b[0;31m         \u001b[0mrecord_paths\u001b[0m \u001b[0;34m+=\u001b[0m \u001b[0mtf\u001b[0m\u001b[0;34m.\u001b[0m\u001b[0mio\u001b[0m\u001b[0;34m.\u001b[0m\u001b[0mgfile\u001b[0m\u001b[0;34m.\u001b[0m\u001b[0mglob\u001b[0m\u001b[0;34m(\u001b[0m\u001b[0;34mf\"gs://{bucket_name}/{p}/tf_records/*\"\u001b[0m\u001b[0;34m)\u001b[0m\u001b[0;34m\u001b[0m\u001b[0;34m\u001b[0m\u001b[0m\n\u001b[0m\u001b[1;32m     18\u001b[0m     \u001b[0;32mreturn\u001b[0m \u001b[0mrecord_paths\u001b[0m\u001b[0;34m\u001b[0m\u001b[0;34m\u001b[0m\u001b[0m\n\u001b[1;32m     19\u001b[0m \u001b[0;34m\u001b[0m\u001b[0m\n",
      "\u001b[0;32m~/Documents/Robotic Learning/learning_from_play/lfp_venv/lib/python3.8/site-packages/tensorflow/python/lib/io/file_io.py\u001b[0m in \u001b[0;36mget_matching_files_v2\u001b[0;34m(pattern)\u001b[0m\n\u001b[1;32m    409\u001b[0m         \u001b[0;31m# Convert the filenames to string from bytes.\u001b[0m\u001b[0;34m\u001b[0m\u001b[0;34m\u001b[0m\u001b[0;34m\u001b[0m\u001b[0m\n\u001b[1;32m    410\u001b[0m         \u001b[0mcompat\u001b[0m\u001b[0;34m.\u001b[0m\u001b[0mas_str_any\u001b[0m\u001b[0;34m(\u001b[0m\u001b[0mmatching_filename\u001b[0m\u001b[0;34m)\u001b[0m\u001b[0;34m\u001b[0m\u001b[0;34m\u001b[0m\u001b[0m\n\u001b[0;32m--> 411\u001b[0;31m         for matching_filename in _pywrap_file_io.GetMatchingFiles(\n\u001b[0m\u001b[1;32m    412\u001b[0m             compat.as_bytes(pattern))\n\u001b[1;32m    413\u001b[0m     ]\n",
      "\u001b[0;31mPermissionDeniedError\u001b[0m: Error executing an HTTP request: HTTP response code 401 with body '{\n  \"error\": {\n    \"code\": 401,\n    \"message\": \"Anonymous caller does not have storage.objects.list access to the Google Cloud Storage bucket.\",\n    \"errors\": [\n      {\n        \"message\": \"Anonymous caller does not have storage.objects.list access to the Google Cloud Storage bucket.\",\n        \"domain\": \"global\",\n        \"reason\": \"required\",\n        \"locationType\": \"header\",\n        \"location\": \"Authorization\"\n      }\n    ]\n  }\n}\n'\n\t when reading gs://lfp_iowa_bucket/data/UR5/tf_records"
     ]
    }
   ],
   "source": [
    "#@title Workpace Setup (Local vs Colab)\n",
    "\n",
    "if config['colab']:\n",
    "    from google.colab import drive, auth\n",
    "    print('Using colab setup')\n",
    "    try:\n",
    "        !git clone 'https://github.com/sholtodouglas/learning_from_play'\n",
    "    except: \n",
    "        pass\n",
    "    WORKING_PATH = Path('/content/learning_from_play')\n",
    "    drive.mount('/content/drive')\n",
    "    os.chdir(WORKING_PATH)\n",
    "    STORAGE_PATH = Path('/content/drive/My Drive/Robotic Learning')\n",
    "    print(f'Storage path: {STORAGE_PATH}')\n",
    "else:\n",
    "    print('Using local setup')\n",
    "    WORKING_PATH = Path().absolute().parent\n",
    "    print(f'Working path: {WORKING_PATH}')\n",
    "    os.chdir(WORKING_PATH)\n",
    "    STORAGE_PATH = WORKING_PATH\n",
    "    print(f'Storage path: {STORAGE_PATH}')\n",
    "    \n",
    "import lfp\n",
    "    \n",
    "if config['data_source'] == 'DRIVE':\n",
    "    print('Reading data from Google Drive')\n",
    "    TRAIN_DATA_PATHS = [STORAGE_PATH/'data'/x for x in config['train_datasets']]\n",
    "    TEST_DATA_PATHS = [STORAGE_PATH/'data'/x for x in config['test_datasets']]\n",
    "elif config['data_source'] == 'GCS':\n",
    "    print('Reading data from Google Cloud Storage')\n",
    "    r = requests.get('https://ipinfo.io')\n",
    "    region = r.json()['region']\n",
    "    if region != 'Iowa':\n",
    "        logging.warning(f'You are accessing GCS data from {region}, outside of Iowa region')\n",
    "    project_id = 'learning-from-play-303306'\n",
    "    bucket_name = 'lfp_iowa_bucket'\n",
    "    if config['colab']:\n",
    "        auth.authenticate_user()\n",
    "    TRAIN_DATA_PATHS = lfp.data.get_tf_records(config['train_datasets'], bucket_name)\n",
    "    TEST_DATA_PATHS = lfp.data.get_tf_records(config['test_datasets'], bucket_name)\n",
    "else:\n",
    "    print('Reading data from local filesystem')\n",
    "    TRAIN_DATA_PATHS = [STORAGE_PATH/'data'/x for x in config['train_datasets']]\n",
    "    TEST_DATA_PATHS = [STORAGE_PATH/'data'/x for x in config['test_datasets']]"
   ]
  },
  {
   "cell_type": "markdown",
   "metadata": {
    "id": "EliqxOpPv9Dy"
   },
   "source": [
    "# Data Creation"
   ]
  },
  {
   "cell_type": "code",
   "execution_count": 3,
   "metadata": {
    "colab": {
     "base_uri": "https://localhost:8080/"
    },
    "id": "6zbmq324x2yv",
    "outputId": "fcbfeb52-faf1-479a-e4b6-f5d22d53ce71"
   },
   "outputs": [
    {
     "name": "stdout",
     "output_type": "stream",
     "text": [
      "Tensorflow version 2.4.1\n",
      "[PhysicalDevice(name='/physical_device:CPU:0', device_type='CPU')]\n"
     ]
    }
   ],
   "source": [
    "import tensorflow as tf\n",
    "print(\"Tensorflow version \" + tf.__version__)\n",
    "\n",
    "if config['device'] == 'TPU':\n",
    "    try:\n",
    "        tpu = tf.distribute.cluster_resolver.TPUClusterResolver()  # TPU detection\n",
    "        print('Running on TPU ', tpu.cluster_spec().as_dict()['worker'])\n",
    "    except ValueError:\n",
    "        raise BaseException('ERROR: Not connected to a TPU runtime; please see the previous cell in this notebook for instructions!')\n",
    "\n",
    "    tf.config.experimental_connect_to_cluster(tpu)\n",
    "    tf.tpu.experimental.initialize_tpu_system(tpu)\n",
    "    strategy = tf.distribute.TPUStrategy(tpu)\n",
    "\n",
    "    NUM_DEVICES = strategy.num_replicas_in_sync\n",
    "    print(\"REPLICAS: \", NUM_DEVICES)\n",
    "else:\n",
    "    physical_devices = tf.config.list_physical_devices()\n",
    "    if config['device'] == 'GPU':\n",
    "        tf.config.experimental.set_memory_growth(physical_devices[3], enable=True)\n",
    "    NUM_DEVICES = 1\n",
    "    print(physical_devices)"
   ]
  },
  {
   "cell_type": "markdown",
   "metadata": {
    "id": "yL0UZVa1v9D9",
    "pycharm": {
     "name": "#%% md\n"
    }
   },
   "source": [
    "# Dataset"
   ]
  },
  {
   "cell_type": "code",
   "execution_count": 4,
   "metadata": {
    "id": "KF1m_wf3v9D-",
    "pycharm": {
     "name": "#%%\n"
    }
   },
   "outputs": [],
   "source": [
    "import glob\n",
    "import numpy as np\n",
    "import tensorflow as tf\n",
    "import pickle\n",
    "import matplotlib.pyplot as plt\n",
    "import random\n",
    "import pickle\n",
    "import os\n",
    "from collections import Counter\n",
    "import random\n",
    "import datetime\n",
    "\n",
    "import lfp\n",
    "from natsort import natsorted"
   ]
  },
  {
   "cell_type": "code",
   "execution_count": 5,
   "metadata": {
    "id": "1HejtDH_Yx8h"
   },
   "outputs": [
    {
     "data": {
      "text/plain": [
       "<module 'lfp.train' from '/Users/Tristan/Documents/Robotic Learning/learning_from_play/lfp/train.py'>"
      ]
     },
     "execution_count": 5,
     "metadata": {},
     "output_type": "execute_result"
    }
   ],
   "source": [
    "# Use this to edit modules without needing to restart the kernel\n",
    "import importlib\n",
    "importlib.reload(lfp.data)\n",
    "importlib.reload(lfp.model)\n",
    "importlib.reload(lfp.train)\n"
   ]
  },
  {
   "cell_type": "markdown",
   "metadata": {
    "id": "yUI6JP06FdTv"
   },
   "source": [
    "### Config Flags"
   ]
  },
  {
   "cell_type": "code",
   "execution_count": 6,
   "metadata": {
    "id": "n2lBWIyOFdTv"
   },
   "outputs": [],
   "source": [
    "GLOBAL_BATCH_SIZE = config['batch_size'] * NUM_DEVICES\n",
    "dl = lfp.data.PlayDataloader(batch_size=GLOBAL_BATCH_SIZE)"
   ]
  },
  {
   "cell_type": "code",
   "execution_count": 7,
   "metadata": {
    "colab": {
     "base_uri": "https://localhost:8080/"
    },
    "id": "Uiz4AXCnFdTv",
    "outputId": "ac74dea8-1bc9-4f19-de01-07c0626d3778"
   },
   "outputs": [
    {
     "ename": "TypeError",
     "evalue": "argument of type 'PosixPath' is not iterable",
     "output_type": "error",
     "traceback": [
      "\u001b[0;31m---------------------------------------------------------------------------\u001b[0m",
      "\u001b[0;31mTypeError\u001b[0m                                 Traceback (most recent call last)",
      "\u001b[0;32m<ipython-input-7-9219f1848fae>\u001b[0m in \u001b[0;36m<module>\u001b[0;34m\u001b[0m\n\u001b[1;32m      3\u001b[0m \u001b[0;31m# basically I have a function which gets the tf record paths in GCS (you'll see it at the top of data)\u001b[0m\u001b[0;34m\u001b[0m\u001b[0;34m\u001b[0m\u001b[0;34m\u001b[0m\u001b[0m\n\u001b[1;32m      4\u001b[0m \u001b[0;31m# but too tired to work out how to get that elegantly into the flow with the option of local files, don't want to get too fucked with ifs\u001b[0m\u001b[0;34m\u001b[0m\u001b[0;34m\u001b[0m\u001b[0;34m\u001b[0m\u001b[0m\n\u001b[0;32m----> 5\u001b[0;31m \u001b[0mtrain_data\u001b[0m \u001b[0;34m=\u001b[0m \u001b[0mdl\u001b[0m\u001b[0;34m.\u001b[0m\u001b[0mextract\u001b[0m\u001b[0;34m(\u001b[0m\u001b[0mTRAIN_DATA_PATHS\u001b[0m\u001b[0;34m,\u001b[0m \u001b[0mfrom_tfrecords\u001b[0m\u001b[0;34m=\u001b[0m\u001b[0mconfig\u001b[0m\u001b[0;34m[\u001b[0m\u001b[0;34m'from_tfrecords'\u001b[0m\u001b[0;34m]\u001b[0m\u001b[0;34m)\u001b[0m\u001b[0;34m\u001b[0m\u001b[0;34m\u001b[0m\u001b[0m\n\u001b[0m\u001b[1;32m      6\u001b[0m \u001b[0mtrain_dataset\u001b[0m \u001b[0;34m=\u001b[0m \u001b[0mdl\u001b[0m\u001b[0;34m.\u001b[0m\u001b[0mload\u001b[0m\u001b[0;34m(\u001b[0m\u001b[0mtrain_data\u001b[0m\u001b[0;34m)\u001b[0m\u001b[0;34m\u001b[0m\u001b[0;34m\u001b[0m\u001b[0m\n",
      "\u001b[0;32m~/Documents/Robotic Learning/learning_from_play/lfp/data.py\u001b[0m in \u001b[0;36mextract\u001b[0;34m(self, paths, from_tfrecords)\u001b[0m\n\u001b[1;32m    186\u001b[0m         \"\"\"\n\u001b[1;32m    187\u001b[0m         \u001b[0;32mif\u001b[0m \u001b[0mfrom_tfrecords\u001b[0m\u001b[0;34m:\u001b[0m\u001b[0;34m\u001b[0m\u001b[0;34m\u001b[0m\u001b[0m\n\u001b[0;32m--> 188\u001b[0;31m             \u001b[0;32mif\u001b[0m \u001b[0;34m'.tfrecords'\u001b[0m \u001b[0;32min\u001b[0m \u001b[0mpaths\u001b[0m\u001b[0;34m[\u001b[0m\u001b[0;36m0\u001b[0m\u001b[0;34m]\u001b[0m\u001b[0;34m:\u001b[0m\u001b[0;34m\u001b[0m\u001b[0;34m\u001b[0m\u001b[0m\n\u001b[0m\u001b[1;32m    189\u001b[0m                 \u001b[0mrecord_paths\u001b[0m \u001b[0;34m=\u001b[0m \u001b[0mpaths\u001b[0m \u001b[0;31m# we've already got the paths because we are direct GCS streaming\u001b[0m\u001b[0;34m\u001b[0m\u001b[0;34m\u001b[0m\u001b[0m\n\u001b[1;32m    190\u001b[0m             \u001b[0;32melse\u001b[0m\u001b[0;34m:\u001b[0m\u001b[0;34m\u001b[0m\u001b[0;34m\u001b[0m\u001b[0m\n",
      "\u001b[0;31mTypeError\u001b[0m: argument of type 'PosixPath' is not iterable"
     ]
    }
   ],
   "source": [
    "# Train data\n",
    "# Hey Tristan, I got everything else but I'm a bit tired and want an elegant way to do this\n",
    "# basically I have a function which gets the tf record paths in GCS (you'll see it at the top of data)\n",
    "# but too tired to work out how to get that elegantly into the flow with the option of local files, don't want to get too fucked with ifs\n",
    "train_data = dl.extract(TRAIN_DATA_PATHS, from_tfrecords=config['from_tfrecords'])\n",
    "train_dataset = dl.load(train_data)"
   ]
  },
  {
   "cell_type": "code",
   "execution_count": 20,
   "metadata": {
    "colab": {
     "base_uri": "https://localhost:8080/"
    },
    "id": "h8ZDAVpLFdTw",
    "outputId": "005441b6-3a49-40f1-fa8d-daa17fd3b74a"
   },
   "outputs": [
    {
     "name": "stdout",
     "output_type": "stream",
     "text": [
      "{   'acts': TensorSpec(shape=<unknown>, dtype=tf.float32, name=None),\n",
      "    'dataset_path': TensorSpec(shape=(256, None), dtype=tf.int32, name=None),\n",
      "    'goals': TensorSpec(shape=(256, 50, None), dtype=tf.float32, name=None),\n",
      "    'masks': TensorSpec(shape=(256, 50), dtype=tf.float32, name=None),\n",
      "    'obs': TensorSpec(shape=<unknown>, dtype=tf.float32, name=None),\n",
      "    'seq_lens': TensorSpec(shape=(256,), dtype=tf.float32, name=None),\n",
      "    'tstep_idxs': TensorSpec(shape=(256, None), dtype=tf.int32, name=None)}\n"
     ]
    }
   ],
   "source": [
    "# Validation data\n",
    "valid_data = dl.extract(TEST_DATA_PATHS, from_tfrecords=from_tfrecords)\n",
    "valid_dataset = dl.load(valid_data)"
   ]
  },
  {
   "cell_type": "code",
   "execution_count": 21,
   "metadata": {
    "id": "NWDvxJggKgi7"
   },
   "outputs": [],
   "source": [
    "train_dist_dataset = iter(strategy.experimental_distribute_dataset(train_dataset))\n",
    "valid_dist_dataset = iter(strategy.experimental_distribute_dataset(valid_dataset))"
   ]
  },
  {
   "cell_type": "code",
   "execution_count": null,
   "metadata": {
    "id": "sGvN5_xPKqD4"
   },
   "outputs": [],
   "source": []
  },
  {
   "cell_type": "code",
   "execution_count": null,
   "metadata": {
    "id": "Y8OxRQPJKYW2"
   },
   "outputs": [],
   "source": [
    "%%time\n",
    "for i in range(0,10):\n",
    "  train_dist_dataset.next()\n"
   ]
  },
  {
   "cell_type": "markdown",
   "metadata": {
    "id": "nN3YJSSLv9Ez",
    "pycharm": {
     "name": "#%% md\n"
    }
   },
   "source": [
    "# Model"
   ]
  },
  {
   "cell_type": "markdown",
   "metadata": {
    "id": "TWIpRPRuv9E6",
    "pycharm": {
     "name": "#%% md\n"
    }
   },
   "source": [
    "# Training Loop"
   ]
  },
  {
   "cell_type": "code",
   "execution_count": 83,
   "metadata": {
    "colab": {
     "base_uri": "https://localhost:8080/"
    },
    "id": "-3r_TDl7v9E7",
    "outputId": "f97a014e-8a0d-464f-a9cf-9451973223f3"
   },
   "outputs": [
    {
     "name": "stderr",
     "output_type": "stream",
     "text": [
      "\u001b[34m\u001b[1mwandb\u001b[0m: \u001b[33mWARNING\u001b[0m Calling wandb.login() after wandb.init() has no effect.\n"
     ]
    },
    {
     "data": {
      "text/plain": [
       "True"
      ]
     },
     "execution_count": 83,
     "metadata": {
      "tags": []
     },
     "output_type": "execute_result"
    }
   ],
   "source": [
    "from tensorflow.keras.losses import MeanSquaredError\n",
    "from tensorflow.keras.metrics import Accuracy\n",
    "from tensorflow.keras.optimizers import SGD, Adam\n",
    "from tensorflow.keras.utils import Progbar\n",
    "import tensorflow_addons as tfa\n",
    "import tensorflow_probability as tfp\n",
    "tfd = tfp.distributions\n",
    "\n",
    "import time\n",
    "import io\n",
    "import wandb\n",
    "wandb.login()"
   ]
  },
  {
   "cell_type": "code",
   "execution_count": 84,
   "metadata": {
    "id": "KqmqTTIrJgHc"
   },
   "outputs": [],
   "source": [
    "from lfp.metric import MaxMetric, create_metrics, record, log_action_breakdown\n",
    "from lfp.train import LFPTrainer"
   ]
  },
  {
   "cell_type": "code",
   "execution_count": 85,
   "metadata": {
    "id": "2uMXBjGzgZCA"
   },
   "outputs": [],
   "source": [
    "def train_setup():\n",
    "    model_params = {'obs_dim':dl.obs_dim,\n",
    "                'goal_dim':dl.goal_dim,\n",
    "                'act_dim':dl.act_dim,\n",
    "                'layer_size':config['layer_size'], \n",
    "                'latent_dim':config['latent_dim']}\n",
    "    \n",
    "    actor = lfp.model.create_actor(**model_params, gcbc=config['gcbc'], num_distribs=config['num_distribs'])\n",
    "\n",
    "    if config['gcbc']:\n",
    "        encoder = None\n",
    "        planner = None\n",
    "    else:\n",
    "        encoder = lfp.model.create_encoder(**model_params)\n",
    "        planner = lfp.model.create_planner(**model_params)\n",
    "\n",
    "    optimizer = tf.optimizers.Adam(learning_rate=config['learning_rate'])\n",
    "    trainable_variables = actor.trainable_variables + encoder.trainable_variables + planner.trainable_variables\n",
    "    return actor, encoder, planner, optimizer, trainable_variables\n",
    "\n",
    "if config['device']=='CPU':\n",
    "    actor, encoder, planner, optimizer, trainable_variables = train_setup()\n",
    "else:\n",
    "    with strategy.scope():\n",
    "        actor, encoder, planner, optimizer, trainable_variables = train_setup()\n",
    "        \n",
    "train_dist_dataset = iter(strategy.experimental_distribute_dataset(train_dataset))\n",
    "valid_dist_dataset = iter(strategy.experimental_distribute_dataset(valid_dataset))"
   ]
  },
  {
   "cell_type": "code",
   "execution_count": 86,
   "metadata": {
    "id": "7vDui_2XGhZW",
    "jupyter": {
     "source_hidden": true
    }
   },
   "outputs": [],
   "source": [
    "with strategy.scope():\n",
    "    nll_action_loss = lambda y, p_y: tf.reduce_sum(-p_y.log_prob(y), axis=2)\n",
    "    mae_action_loss = tf.keras.losses.MeanAbsoluteError(reduction=tf.keras.losses.Reduction.NONE)\n",
    "    mse_action_loss = tf.keras.losses.MeanSquaredError(reduction=tf.keras.losses.Reduction.NONE)\n",
    "\n",
    "    def compute_loss(labels, predictions, mask, seq_lens, weightings=None):\n",
    "        if config['num_distribs'] is not None:\n",
    "            per_example_loss = nll_action_loss(labels, predictions) * mask\n",
    "        else:\n",
    "            per_example_loss = mae_action_loss(labels, predictions) * mask\n",
    "\n",
    "        per_example_loss = tf.reduce_sum(per_example_loss, axis=1) / seq_lens  # take mean along the timestep\n",
    "        return tf.nn.compute_average_loss(per_example_loss, global_batch_size=GLOBAL_BATCH_SIZE)\n",
    "\n",
    "\n",
    "    def compute_MAE(labels, predictions, mask, seq_lens, weightings=None):\n",
    "        per_example_loss = mae_action_loss(labels, predictions) * mask\n",
    "        per_example_loss = tf.reduce_sum(per_example_loss, axis=1) / seq_lens  # take mean along the timestep\n",
    "        return tf.nn.compute_average_loss(per_example_loss, global_batch_size=GLOBAL_BATCH_SIZE)\n",
    "\n",
    "\n",
    "    def compute_regularisation_loss(plan, encoding):\n",
    "        # Reverse KL(enc|plan): we want planner to map to encoder (weighted by encoder)\n",
    "        reg_loss = tfd.kl_divergence(encoding, plan)  # + KL(plan, encoding)\n",
    "        return tf.nn.compute_average_loss(reg_loss, global_batch_size=GLOBAL_BATCH_SIZE)\n",
    "\n",
    "    train_loss, valid_loss, actor_grad_norm, encoder_grad_norm, planner_grad_norm, \\\n",
    "    actor_grad_norm_clipped, encoder_grad_norm_clipped, planner_grad_norm_clipped, global_grad_norm, \\\n",
    "    test, test2,  train_act_with_enc_loss, train_act_with_plan_loss, valid_act_with_enc_loss, valid_act_with_plan_loss,\\\n",
    "    train_reg_loss, valid_reg_loss, valid_position_loss,  valid_max_position_loss, valid_rotation_loss, valid_max_rotation_loss, valid_gripper_loss = create_metrics()\n",
    "\n",
    "\n",
    "# Now outside strategy .scope\n",
    "def train_step(inputs, beta, prev_global_grad_norm):\n",
    "    with tf.GradientTape() as actor_tape, tf.GradientTape() as encoder_tape, tf.GradientTape() as planner_tape:  # separate tapes to simplify grad_norm logging and clipping for stability\n",
    "        # Todo: figure out mask and seq_lens for new dataset \n",
    "        states, actions, goals, seq_lens, mask = inputs['obs'], inputs['acts'], inputs['goals'], inputs['seq_lens'], \\\n",
    "                                                 inputs['masks']\n",
    "\n",
    "        if config['gcbc']:\n",
    "            distrib = actor([states, goals])\n",
    "            loss = compute_loss(actions, distrib, mask, seq_lens)\n",
    "            gradients = tape.gradient(loss, actor.trainable_variables)\n",
    "            optimizer.apply_gradients(zip(gradients, actor.trainable_variables))\n",
    "        else:\n",
    "            encoding = encoder([states, actions])\n",
    "            plan = planner([states[:, 0, :], goals[:, 0,:]])  # the final goals are tiled out over the entire non masked sequence, so the first timestep is the final goal. \n",
    "            z_enc = encoding.sample()\n",
    "            z_plan = plan.sample()\n",
    "            z_enc_tiled = tf.tile(tf.expand_dims(z_enc, 1), (1, dl.window_size, 1))\n",
    "            z_plan_tiled = tf.tile(tf.expand_dims(z_plan, 1), (1, dl.window_size, 1))\n",
    "\n",
    "            enc_policy = actor([states, z_enc_tiled, goals])\n",
    "            plan_policy = actor([states, z_plan_tiled, goals])\n",
    "\n",
    "            act_enc_loss = record(compute_loss(actions, enc_policy, mask, seq_lens), train_act_with_enc_loss)\n",
    "            act_plan_loss = record(compute_loss(actions, plan_policy, mask, seq_lens), train_act_with_plan_loss)\n",
    "            reg_loss = record(compute_regularisation_loss(plan, encoding), train_reg_loss)\n",
    "            loss = act_enc_loss + reg_loss * beta\n",
    "\n",
    "            actor_gradients = actor_tape.gradient(loss, actor.trainable_variables)\n",
    "            encoder_gradients = encoder_tape.gradient(loss, encoder.trainable_variables)\n",
    "            planner_gradients = planner_tape.gradient(loss, planner.trainable_variables)\n",
    "\n",
    "            actor_norm = record(tf.linalg.global_norm(actor_gradients), actor_grad_norm)\n",
    "            encoder_norm = record(tf.linalg.global_norm(encoder_gradients), encoder_grad_norm)\n",
    "            planner_norm = record(tf.linalg.global_norm(planner_gradients), planner_grad_norm)\n",
    "\n",
    "            gradients = actor_gradients + encoder_gradients+planner_gradients\n",
    "\n",
    "            # if the gradient norm is more than 3x the previous one, clip it to the previous norm for stability\n",
    "            gradients = tf.cond(tf.linalg.global_norm(gradients) > 3 * prev_global_grad_norm,\n",
    "                                lambda: tf.clip_by_global_norm(gradients, prev_global_grad_norm)[0],\n",
    "                                lambda: gradients)  # must get[0] as it returns new norm as [1]\n",
    "\n",
    "\n",
    "            actor_norm_clipped = record(tf.linalg.global_norm(actor_gradients), actor_grad_norm_clipped)\n",
    "            encoder_norm_clipped = record(tf.linalg.global_norm(encoder_gradients), encoder_grad_norm_clipped)\n",
    "            planner_norm_clipped = record(tf.linalg.global_norm(planner_gradients), planner_grad_norm_clipped)\n",
    "\n",
    "            record(tf.linalg.global_norm(gradients), global_grad_norm)\n",
    "\n",
    "            optimizer.apply_gradients(zip(gradients,\n",
    "                                          actor.trainable_variables + encoder.trainable_variables + planner.trainable_variables))\n",
    "\n",
    "\n",
    "    return record(loss, train_loss)\n",
    "\n",
    "\n",
    "def test_step(inputs, beta):\n",
    "    states, actions, goals, seq_lens, mask = inputs['obs'], inputs['acts'], inputs['goals'], inputs['seq_lens'], inputs['masks']\n",
    "\n",
    "    if  config['gcbc']:\n",
    "        policy = actor([states, goals], training=False)\n",
    "        loss = compute_loss(actions, policy, mask, seq_lens)\n",
    "        log_action_breakdown(policy, actions, mask, seq_lens, config, dl.quaternion_act, valid_position_loss, valid_max_position_loss, \\\n",
    "                             valid_rotation_loss, valid_max_rotation_loss, valid_gripper_loss, compute_MAE)\n",
    "    else:\n",
    "        encoding = encoder([states, actions])\n",
    "        plan = planner([states[:, 0, :], goals[:, 0,:]])  # the final goals are tiled out over the entire non masked sequence, so the first timestep is the final goal. \n",
    "        z_enc = encoding.sample()\n",
    "        z_plan = plan.sample()\n",
    "        z_enc_tiled = tf.tile(tf.expand_dims(z_enc, 1), (1, dl.window_size, 1))\n",
    "        z_plan_tiled = tf.tile(tf.expand_dims(z_plan, 1), (1, dl.window_size, 1))\n",
    "        enc_policy = actor([states, z_enc_tiled, goals])\n",
    "        plan_policy = actor([states, z_plan_tiled, goals])\n",
    "        act_enc_loss = record(compute_loss(actions, enc_policy, mask, seq_lens), valid_act_with_enc_loss)\n",
    "        act_plan_loss = record(compute_loss(actions, plan_policy, mask, seq_lens), valid_act_with_plan_loss)\n",
    "        reg_loss = record(compute_regularisation_loss(plan, encoding), valid_reg_loss)\n",
    "        loss = act_plan_loss + reg_loss * beta\n",
    "\n",
    "\n",
    "        log_action_breakdown(plan_policy, actions, mask, seq_lens, config, dl.quaternion_act, valid_position_loss, \\\n",
    "                             valid_max_position_loss, valid_rotation_loss, valid_max_rotation_loss, valid_gripper_loss, compute_MAE)\n",
    "\n",
    "\n",
    "    if config['gcbc']:\n",
    "        return record(loss, valid_loss)\n",
    "    else:\n",
    "        return record(loss,valid_loss), z_enc, z_plan\n",
    "\n",
    "\n",
    "@tf.function\n",
    "def distributed_train_step(dataset_inputs, beta, prev_global_grad_norm):\n",
    "    per_replica_losses = strategy.run(train_step, args=(dataset_inputs, beta, prev_global_grad_norm))\n",
    "    return strategy.reduce(tf.distribute.ReduceOp.MEAN, per_replica_losses, axis=None)\n",
    "\n",
    "\n",
    "@tf.function\n",
    "def distributed_test_step(dataset_inputs, beta):\n",
    "    if config['gcbc']:\n",
    "        per_replica_losses = strategy.run(test_step, args=(dataset_inputs, beta))\n",
    "        return strategy.reduce(tf.distribute.ReduceOp.MEAN, per_replica_losses, axis=None)\n",
    "    else:\n",
    "        per_replica_losses, ze, zp = strategy.run(test_step, args=(dataset_inputs, beta))\n",
    "        return strategy.reduce(tf.distribute.ReduceOp.MEAN, per_replica_losses, axis=None), ze.values[0], zp.values[0]"
   ]
  },
  {
   "cell_type": "code",
   "execution_count": 87,
   "metadata": {
    "colab": {
     "base_uri": "https://localhost:8080/",
     "height": 289
    },
    "id": "xtSlIEoBlDyp",
    "outputId": "e72adb3b-c02a-4406-f40d-88ab37f4b78e"
   },
   "outputs": [
    {
     "data": {
      "image/png": "[encoded data removed]",
      "text/plain": [
       "<Figure size 432x288 with 1 Axes>"
      ]
     },
     "metadata": {
      "needs_background": "light",
      "tags": []
     },
     "output_type": "display_data"
    }
   ],
   "source": [
    "from lfp.train import BetaScheduler\n",
    "\n",
    "TRAIN_STEPS = 200000\n",
    "# 0.00001 so far works best for MAE - try lower - 0.00003 with a BETA accel of 10 so far works best, perfect encoder, nicely mapped planner\n",
    "# recall 0.01 worked okay for probabilistic - proba still too unstable!\n",
    "beta_sched = BetaScheduler('linear', \n",
    "                           beta=0.00003, \n",
    "                           beta_max=0.00003, \n",
    "                           max_steps=TRAIN_STEPS, \n",
    "                           cycles=90, \n",
    "                           duty_cycle=0.5\n",
    "                           )"
   ]
  },
  {
   "cell_type": "code",
   "execution_count": 88,
   "metadata": {
    "id": "rhSGD_2imWDi"
   },
   "outputs": [],
   "source": [
    "progbar = Progbar(TRAIN_STEPS, verbose=1, interval=0.5)\n",
    "best_valid_loss = np.float('inf')\n",
    "\n",
    "valid_inc = 20\n",
    "save_inc = 1000\n",
    "\n",
    "prev_grad_norm = np.float('inf')"
   ]
  },
  {
   "cell_type": "code",
   "execution_count": 89,
   "metadata": {
    "id": "Q0DCKjLXoDHv"
   },
   "outputs": [],
   "source": [
    "from lfp.utils import save_weights, load_weights, load_optimizer_state"
   ]
  },
  {
   "cell_type": "code",
   "execution_count": 90,
   "metadata": {
    "id": "8nmzjO2d_Hfm"
   },
   "outputs": [],
   "source": [
    "RESUME = True"
   ]
  },
  {
   "cell_type": "code",
   "execution_count": 91,
   "metadata": {
    "colab": {
     "base_uri": "https://localhost:8080/",
     "height": 1000,
     "referenced_widgets": [
      "6d6887969e5d484384667f5f4fe4a581",
      "652d0aef5d3144618a45c8012d9a0bc2",
      "4f578ba444034234a3387e791f5b7900",
      "74a5e0c5e3484748a96c6eca8a3ff07a",
      "12fbeb8587394eeebad5b8d7d90eee22",
      "894a73e08c184b908bd985a6927235d0",
      "024d2b0c4ea24adba0b66ce199f5260b",
      "02b4c8386f8e4fceb502e8c5b7aa29c6"
     ]
    },
    "id": "oTyriZrYowMJ",
    "outputId": "51f667db-bfc9-4313-ce3e-0d706c50cf13"
   },
   "outputs": [
    {
     "data": {
      "text/html": [
       "Finishing last run (ID:12621l2h) before initializing another..."
      ],
      "text/plain": [
       "<IPython.core.display.HTML object>"
      ]
     },
     "metadata": {
      "tags": []
     },
     "output_type": "display_data"
    },
    {
     "data": {
      "text/html": [
       "<br/>Waiting for W&B process to finish, PID 1561<br/>Program ended successfully."
      ],
      "text/plain": [
       "<IPython.core.display.HTML object>"
      ]
     },
     "metadata": {
      "tags": []
     },
     "output_type": "display_data"
    },
    {
     "data": {
      "application/vnd.jupyter.widget-view+json": {
       "model_id": "6d6887969e5d484384667f5f4fe4a581",
       "version_major": 2,
       "version_minor": 0
      },
      "text/plain": [
       "VBox(children=(Label(value=' 0.00MB of 0.00MB uploaded (0.00MB deduped)\\r'), FloatProgress(value=1.0, max=1.0)…"
      ]
     },
     "metadata": {
      "tags": []
     },
     "output_type": "display_data"
    },
    {
     "data": {
      "text/html": [
       "Find user logs for this run at: <code>/content/learning_from_play/wandb/run-20210130_154611-12621l2h/logs/debug.log</code>"
      ],
      "text/plain": [
       "<IPython.core.display.HTML object>"
      ]
     },
     "metadata": {
      "tags": []
     },
     "output_type": "display_data"
    },
    {
     "data": {
      "text/html": [
       "Find internal logs for this run at: <code>/content/learning_from_play/wandb/run-20210130_154611-12621l2h/logs/debug-internal.log</code>"
      ],
      "text/plain": [
       "<IPython.core.display.HTML object>"
      ]
     },
     "metadata": {
      "tags": []
     },
     "output_type": "display_data"
    },
    {
     "data": {
      "text/html": [
       "<h3>Run summary:</h3><br/><style>\n",
       "    table.wandb td:nth-child(1) { padding: 0 10px; text-align: right }\n",
       "    </style><table class=\"wandb\">\n",
       "<tr><td>planner_grad_norm_clipped</td><td>6e-05</td></tr><tr><td>valid_act_with_enc_loss_result</td><td>0.01849</td></tr><tr><td>valid_max_rotation_loss_result</td><td>5.06414</td></tr><tr><td>train_reg_loss_result</td><td>7.68261</td></tr><tr><td>encoder_grad_norm_clipped</td><td>0.00771</td></tr><tr><td>_runtime</td><td>279140</td></tr><tr><td>beta_result</td><td>3e-05</td></tr><tr><td>train_loss_result</td><td>0.01905</td></tr><tr><td>valid_rotation_loss_result</td><td>0.03184</td></tr><tr><td>train_act_with_plan_loss_result</td><td>0.02907</td></tr><tr><td>_step</td><td>125000</td></tr><tr><td>encoder_grad_norm</td><td>0.00771</td></tr><tr><td>valid_loss_result</td><td>0.02808</td></tr><tr><td>valid_position_loss_result</td><td>0.01389</td></tr><tr><td>train_act_with_enc_loss_result</td><td>0.01882</td></tr><tr><td>_timestamp</td><td>1612023490</td></tr><tr><td>valid_reg_loss_result</td><td>8.37433</td></tr><tr><td>actor_grad_norm_clipped</td><td>0.03123</td></tr><tr><td>valid_gripper_loss_result</td><td>0.05758</td></tr><tr><td>valid_max_position_loss_result</td><td>2.42586</td></tr><tr><td>valid_act_with_plan_loss_result</td><td>0.02814</td></tr><tr><td>actor_grad_norm</td><td>0.03123</td></tr><tr><td>planner_grad_norm</td><td>6e-05</td></tr></table>"
      ],
      "text/plain": [
       "<IPython.core.display.HTML object>"
      ]
     },
     "metadata": {
      "tags": []
     },
     "output_type": "display_data"
    },
    {
     "data": {
      "text/html": [
       "<h3>Run history:</h3><br/><style>\n",
       "    table.wandb td:nth-child(1) { padding: 0 10px; text-align: right }\n",
       "    </style><table class=\"wandb\">\n",
       "<tr><td>train_loss_result</td><td>█▄▁</td></tr><tr><td>valid_loss_result</td><td>█▅▁</td></tr><tr><td>valid_position_loss_result</td><td>█▄▁</td></tr><tr><td>valid_max_position_loss_result</td><td>█▁▃</td></tr><tr><td>valid_rotation_loss_result</td><td>█▄▁</td></tr><tr><td>valid_max_rotation_loss_result</td><td>█▂▁</td></tr><tr><td>valid_gripper_loss_result</td><td>▁█▇</td></tr><tr><td>actor_grad_norm</td><td>█▃▁</td></tr><tr><td>actor_grad_norm_clipped</td><td>█▃▁</td></tr><tr><td>train_act_with_enc_loss_result</td><td>█▄▁</td></tr><tr><td>train_act_with_plan_loss_result</td><td>█▅▁</td></tr><tr><td>train_reg_loss_result</td><td>▁▃█</td></tr><tr><td>valid_act_with_enc_loss_result</td><td>█▃▁</td></tr><tr><td>valid_act_with_plan_loss_result</td><td>█▆▁</td></tr><tr><td>valid_reg_loss_result</td><td>▁▄█</td></tr><tr><td>beta_result</td><td>▁▁▁</td></tr><tr><td>encoder_grad_norm</td><td>▁▄█</td></tr><tr><td>planner_grad_norm</td><td>▁▃█</td></tr><tr><td>encoder_grad_norm_clipped</td><td>▁▄█</td></tr><tr><td>planner_grad_norm_clipped</td><td>▁▃█</td></tr><tr><td>_step</td><td>▁▅█</td></tr><tr><td>_runtime</td><td>▁▁█</td></tr><tr><td>_timestamp</td><td>▁▁█</td></tr></table><br/>"
      ],
      "text/plain": [
       "<IPython.core.display.HTML object>"
      ]
     },
     "metadata": {
      "tags": []
     },
     "output_type": "display_data"
    },
    {
     "data": {
      "text/html": [
       "Synced 5 W&B file(s), 0 media file(s), 0 artifact file(s) and 0 other file(s)"
      ],
      "text/plain": [
       "<IPython.core.display.HTML object>"
      ]
     },
     "metadata": {
      "tags": []
     },
     "output_type": "display_data"
    },
    {
     "data": {
      "text/html": [
       "\n",
       "                    <br/>Synced <strong style=\"color:#cdcd00\">ALLB0.00003</strong>: <a href=\"https://wandb.ai/sholto/learning-from-play_v2/runs/12621l2h\" target=\"_blank\">https://wandb.ai/sholto/learning-from-play_v2/runs/12621l2h</a><br/>\n",
       "                "
      ],
      "text/plain": [
       "<IPython.core.display.HTML object>"
      ]
     },
     "metadata": {
      "tags": []
     },
     "output_type": "display_data"
    },
    {
     "data": {
      "text/html": [
       "...Successfully finished last run (ID:12621l2h). Initializing new run:<br/><br/>"
      ],
      "text/plain": [
       "<IPython.core.display.HTML object>"
      ]
     },
     "metadata": {
      "tags": []
     },
     "output_type": "display_data"
    },
    {
     "data": {
      "text/html": [
       "\n",
       "                Tracking run with wandb version 0.10.15<br/>\n",
       "                Resuming run <strong style=\"color:#cdcd00\">ALLB0.00003</strong> to <a href=\"https://wandb.ai\" target=\"_blank\">Weights & Biases</a> <a href=\"https://docs.wandb.com/integrations/jupyter.html\" target=\"_blank\">(Documentation)</a>.<br/>\n",
       "                Project page: <a href=\"https://wandb.ai/sholto/learning-from-play_v2\" target=\"_blank\">https://wandb.ai/sholto/learning-from-play_v2</a><br/>\n",
       "                Run page: <a href=\"https://wandb.ai/sholto/learning-from-play_v2/runs/12621l2h\" target=\"_blank\">https://wandb.ai/sholto/learning-from-play_v2/runs/12621l2h</a><br/>\n",
       "                Run data is saved locally in <code>/content/learning_from_play/wandb/run-20210130_161810-12621l2h</code><br/><br/>\n",
       "            "
      ],
      "text/plain": [
       "<IPython.core.display.HTML object>"
      ]
     },
     "metadata": {
      "tags": []
     },
     "output_type": "display_data"
    },
    {
     "name": "stdout",
     "output_type": "stream",
     "text": [
      "Loaded model weights and optimiser state\n"
     ]
    }
   ],
   "source": [
    "run_name = \"Tests\"#\"ALLB0.00003\"\n",
    "model_path = f'/content/drive/My Drive/Robotic Learning/LMP_test/{run_name}/'\n",
    "\n",
    "if RESUME:\n",
    "  run_id = str(np.load(model_path+'hyper_params.npz')['run_id'])\n",
    "  wandb.init(project=\"learning-from-play_v2\", id='12621l2h',  resume=\"must\")\n",
    "  load_weights(model_path, actor, encoder, planner)\n",
    "  load_optimizer_state(optimizer, model_path, strategy, trainable_variables)\n",
    "  print('Loaded model weights and optimiser state')\n",
    "  t = wandb.run.step + valid_inc\n",
    "else:\n",
    "  wandb.init(project=\"learning-from-play_v2\")\n",
    "  wandb.run.name = run_name\n",
    "  t = 0\n"
   ]
  },
  {
   "cell_type": "code",
   "execution_count": 92,
   "metadata": {
    "colab": {
     "base_uri": "https://localhost:8080/"
    },
    "id": "-ytVwQ0J6FTB",
    "outputId": "265cb377-acb0-4589-d9cd-c5ff58aab59b"
   },
   "outputs": [
    {
     "data": {
      "text/plain": [
       "<module 'lfp.utils' from '/content/learning_from_play/lfp/utils.py'>"
      ]
     },
     "execution_count": 92,
     "metadata": {
      "tags": []
     },
     "output_type": "execute_result"
    }
   ],
   "source": [
    "# config = wandb.config\n",
    "\n",
    "# # Hparams\n",
    "# config.DEVICE = DEVICE\n",
    "# config.WINDOW_SIZE = dl.window_size\n",
    "# config.WINDOW_SHIFT = dl.window_shift\n",
    "# config.LAYER_SIZE = LAYER_SIZE\n",
    "# config.LATENT_DIM = LATENT_DIM\n",
    "# config.GRIPPER_WEIGHT = GRIPPER_WEIGHT\n",
    "# config.TRAIN_STEPS = TRAIN_STEPS\n",
    "# config.beta_schedule = beta_sched.schedule\n",
    "# config.beta_min = beta_sched.beta_min\n",
    "# config.beta_max = beta_sched.beta_max\n",
    "# config.PROBABILISTIC = PROBABILISTIC\n",
    "# config.PROPRIOCEPTION = dl.proprioception\n",
    "importlib.reload(lfp.utils)"
   ]
  },
  {
   "cell_type": "code",
   "execution_count": 93,
   "metadata": {
    "id": "xjnc22FOGae1"
   },
   "outputs": [],
   "source": [
    "from lfp.plotting import produce_cluster_fig, project_enc_and_plan, plot_to_image\n",
    "from lfp.metric import log\n",
    "v_it = iter(valid_dataset) #for the cluster fig, easier with a non distributed dataset\n",
    "\n"
   ]
  },
  {
   "cell_type": "code",
   "execution_count": 94,
   "metadata": {
    "colab": {
     "base_uri": "https://localhost:8080/",
     "height": 1000
    },
    "id": "IXF0Y8aKrsng",
    "outputId": "31887155-68fc-4419-9eaf-8f1e802d5fe3"
   },
   "outputs": [
    {
     "name": "stdout",
     "output_type": "stream",
     "text": [
      "   980/200000 [..............................] - ETA: 13:10:11 - Train Loss: 0.0074 - Validation Loss: 0.0103 - Time (s): 0.4265Saving model weights...\n"
     ]
    },
    {
     "name": "stderr",
     "output_type": "stream",
     "text": [
      "/usr/local/lib/python3.6/dist-packages/numpy/core/_asarray.py:136: VisibleDeprecationWarning: Creating an ndarray from ragged nested sequences (which is a list-or-tuple of lists-or-tuples-or ndarrays with different lengths or shapes) is deprecated. If you meant to do this, you must specify 'dtype=object' when creating the ndarray\n",
      "  return array(a, dtype, copy=False, order=order, subok=True)\n",
      "/usr/local/lib/python3.6/dist-packages/matplotlib/colors.py:263: VisibleDeprecationWarning: Creating an ndarray from ragged nested sequences (which is a list-or-tuple of lists-or-tuples-or ndarrays with different lengths or shapes) is deprecated. If you meant to do this, you must specify 'dtype=object' when creating the ndarray\n",
      "  c = np.array(c)\n",
      "/usr/local/lib/python3.6/dist-packages/numpy/core/_asarray.py:136: VisibleDeprecationWarning: Creating an ndarray from ragged nested sequences (which is a list-or-tuple of lists-or-tuples-or ndarrays with different lengths or shapes) is deprecated. If you meant to do this, you must specify 'dtype=object' when creating the ndarray\n",
      "  return array(a, dtype, copy=False, order=order, subok=True)\n",
      "/usr/local/lib/python3.6/dist-packages/matplotlib/colors.py:263: VisibleDeprecationWarning: Creating an ndarray from ragged nested sequences (which is a list-or-tuple of lists-or-tuples-or ndarrays with different lengths or shapes) is deprecated. If you meant to do this, you must specify 'dtype=object' when creating the ndarray\n",
      "  c = np.array(c)\n",
      "/usr/local/lib/python3.6/dist-packages/numpy/core/_asarray.py:136: VisibleDeprecationWarning: Creating an ndarray from ragged nested sequences (which is a list-or-tuple of lists-or-tuples-or ndarrays with different lengths or shapes) is deprecated. If you meant to do this, you must specify 'dtype=object' when creating the ndarray\n",
      "  return array(a, dtype, copy=False, order=order, subok=True)\n"
     ]
    },
    {
     "name": "stdout",
     "output_type": "stream",
     "text": [
      "  1000/200000 [..............................] - ETA: 13:55:39 - Train Loss: 0.0073 - Validation Loss: 0.0102 - Time (s): 0.4220"
     ]
    },
    {
     "name": "stderr",
     "output_type": "stream",
     "text": [
      "/usr/local/lib/python3.6/dist-packages/plotly/matplotlylib/renderer.py:410: UserWarning:\n",
      "\n",
      "Bummer! Plotly can currently only draw Line2D objects from matplotlib that are in 'data' coordinates!\n",
      "\n",
      "/usr/local/lib/python3.6/dist-packages/plotly/matplotlylib/renderer.py:512: UserWarning:\n",
      "\n",
      "I found a path object that I don't think is part of a bar chart. Ignoring.\n",
      "\n"
     ]
    },
    {
     "name": "stdout",
     "output_type": "stream",
     "text": [
      "  1980/200000 [..............................] - ETA: 10:21:01 - Train Loss: 0.0055 - Validation Loss: 0.0078 - Time (s): 0.3061Saving model weights...\n"
     ]
    },
    {
     "name": "stderr",
     "output_type": "stream",
     "text": [
      "/usr/local/lib/python3.6/dist-packages/numpy/core/_asarray.py:136: VisibleDeprecationWarning:\n",
      "\n",
      "Creating an ndarray from ragged nested sequences (which is a list-or-tuple of lists-or-tuples-or ndarrays with different lengths or shapes) is deprecated. If you meant to do this, you must specify 'dtype=object' when creating the ndarray\n",
      "\n",
      "/usr/local/lib/python3.6/dist-packages/matplotlib/colors.py:263: VisibleDeprecationWarning:\n",
      "\n",
      "Creating an ndarray from ragged nested sequences (which is a list-or-tuple of lists-or-tuples-or ndarrays with different lengths or shapes) is deprecated. If you meant to do this, you must specify 'dtype=object' when creating the ndarray\n",
      "\n",
      "/usr/local/lib/python3.6/dist-packages/numpy/core/_asarray.py:136: VisibleDeprecationWarning:\n",
      "\n",
      "Creating an ndarray from ragged nested sequences (which is a list-or-tuple of lists-or-tuples-or ndarrays with different lengths or shapes) is deprecated. If you meant to do this, you must specify 'dtype=object' when creating the ndarray\n",
      "\n",
      "/usr/local/lib/python3.6/dist-packages/matplotlib/colors.py:263: VisibleDeprecationWarning:\n",
      "\n",
      "Creating an ndarray from ragged nested sequences (which is a list-or-tuple of lists-or-tuples-or ndarrays with different lengths or shapes) is deprecated. If you meant to do this, you must specify 'dtype=object' when creating the ndarray\n",
      "\n",
      "/usr/local/lib/python3.6/dist-packages/numpy/core/_asarray.py:136: VisibleDeprecationWarning:\n",
      "\n",
      "Creating an ndarray from ragged nested sequences (which is a list-or-tuple of lists-or-tuples-or ndarrays with different lengths or shapes) is deprecated. If you meant to do this, you must specify 'dtype=object' when creating the ndarray\n",
      "\n"
     ]
    },
    {
     "name": "stdout",
     "output_type": "stream",
     "text": [
      "  2000/200000 [..............................] - ETA: 10:33:58 - Train Loss: 0.0055 - Validation Loss: 0.0078 - Time (s): 0.3040"
     ]
    },
    {
     "name": "stderr",
     "output_type": "stream",
     "text": [
      "/usr/local/lib/python3.6/dist-packages/plotly/matplotlylib/renderer.py:410: UserWarning:\n",
      "\n",
      "Bummer! Plotly can currently only draw Line2D objects from matplotlib that are in 'data' coordinates!\n",
      "\n",
      "/usr/local/lib/python3.6/dist-packages/plotly/matplotlylib/renderer.py:512: UserWarning:\n",
      "\n",
      "I found a path object that I don't think is part of a bar chart. Ignoring.\n",
      "\n"
     ]
    },
    {
     "name": "stdout",
     "output_type": "stream",
     "text": [
      "  2980/200000 [..............................] - ETA: 9:12:14 - Train Loss: 0.0048 - Validation Loss: 0.0072 - Time (s): 0.2651Saving model weights...\n"
     ]
    },
    {
     "name": "stderr",
     "output_type": "stream",
     "text": [
      "/usr/local/lib/python3.6/dist-packages/numpy/core/_asarray.py:136: VisibleDeprecationWarning:\n",
      "\n",
      "Creating an ndarray from ragged nested sequences (which is a list-or-tuple of lists-or-tuples-or ndarrays with different lengths or shapes) is deprecated. If you meant to do this, you must specify 'dtype=object' when creating the ndarray\n",
      "\n",
      "/usr/local/lib/python3.6/dist-packages/matplotlib/colors.py:263: VisibleDeprecationWarning:\n",
      "\n",
      "Creating an ndarray from ragged nested sequences (which is a list-or-tuple of lists-or-tuples-or ndarrays with different lengths or shapes) is deprecated. If you meant to do this, you must specify 'dtype=object' when creating the ndarray\n",
      "\n",
      "/usr/local/lib/python3.6/dist-packages/numpy/core/_asarray.py:136: VisibleDeprecationWarning:\n",
      "\n",
      "Creating an ndarray from ragged nested sequences (which is a list-or-tuple of lists-or-tuples-or ndarrays with different lengths or shapes) is deprecated. If you meant to do this, you must specify 'dtype=object' when creating the ndarray\n",
      "\n",
      "/usr/local/lib/python3.6/dist-packages/matplotlib/colors.py:263: VisibleDeprecationWarning:\n",
      "\n",
      "Creating an ndarray from ragged nested sequences (which is a list-or-tuple of lists-or-tuples-or ndarrays with different lengths or shapes) is deprecated. If you meant to do this, you must specify 'dtype=object' when creating the ndarray\n",
      "\n",
      "/usr/local/lib/python3.6/dist-packages/numpy/core/_asarray.py:136: VisibleDeprecationWarning:\n",
      "\n",
      "Creating an ndarray from ragged nested sequences (which is a list-or-tuple of lists-or-tuples-or ndarrays with different lengths or shapes) is deprecated. If you meant to do this, you must specify 'dtype=object' when creating the ndarray\n",
      "\n"
     ]
    },
    {
     "name": "stdout",
     "output_type": "stream",
     "text": [
      "  3000/200000 [..............................] - ETA: 9:21:01 - Train Loss: 0.0048 - Validation Loss: 0.0072 - Time (s): 0.2640"
     ]
    },
    {
     "name": "stderr",
     "output_type": "stream",
     "text": [
      "/usr/local/lib/python3.6/dist-packages/plotly/matplotlylib/renderer.py:410: UserWarning:\n",
      "\n",
      "Bummer! Plotly can currently only draw Line2D objects from matplotlib that are in 'data' coordinates!\n",
      "\n",
      "/usr/local/lib/python3.6/dist-packages/plotly/matplotlylib/renderer.py:512: UserWarning:\n",
      "\n",
      "I found a path object that I don't think is part of a bar chart. Ignoring.\n",
      "\n"
     ]
    },
    {
     "name": "stdout",
     "output_type": "stream",
     "text": [
      "  3980/200000 [..............................] - ETA: 8:33:49 - Train Loss: 0.0043 - Validation Loss: 0.0070 - Time (s): 0.2447Saving model weights...\n"
     ]
    },
    {
     "name": "stderr",
     "output_type": "stream",
     "text": [
      "/usr/local/lib/python3.6/dist-packages/numpy/core/_asarray.py:136: VisibleDeprecationWarning:\n",
      "\n",
      "Creating an ndarray from ragged nested sequences (which is a list-or-tuple of lists-or-tuples-or ndarrays with different lengths or shapes) is deprecated. If you meant to do this, you must specify 'dtype=object' when creating the ndarray\n",
      "\n",
      "/usr/local/lib/python3.6/dist-packages/matplotlib/colors.py:263: VisibleDeprecationWarning:\n",
      "\n",
      "Creating an ndarray from ragged nested sequences (which is a list-or-tuple of lists-or-tuples-or ndarrays with different lengths or shapes) is deprecated. If you meant to do this, you must specify 'dtype=object' when creating the ndarray\n",
      "\n",
      "/usr/local/lib/python3.6/dist-packages/numpy/core/_asarray.py:136: VisibleDeprecationWarning:\n",
      "\n",
      "Creating an ndarray from ragged nested sequences (which is a list-or-tuple of lists-or-tuples-or ndarrays with different lengths or shapes) is deprecated. If you meant to do this, you must specify 'dtype=object' when creating the ndarray\n",
      "\n",
      "/usr/local/lib/python3.6/dist-packages/matplotlib/colors.py:263: VisibleDeprecationWarning:\n",
      "\n",
      "Creating an ndarray from ragged nested sequences (which is a list-or-tuple of lists-or-tuples-or ndarrays with different lengths or shapes) is deprecated. If you meant to do this, you must specify 'dtype=object' when creating the ndarray\n",
      "\n",
      "/usr/local/lib/python3.6/dist-packages/numpy/core/_asarray.py:136: VisibleDeprecationWarning:\n",
      "\n",
      "Creating an ndarray from ragged nested sequences (which is a list-or-tuple of lists-or-tuples-or ndarrays with different lengths or shapes) is deprecated. If you meant to do this, you must specify 'dtype=object' when creating the ndarray\n",
      "\n"
     ]
    },
    {
     "name": "stdout",
     "output_type": "stream",
     "text": [
      "  4000/200000 [..............................] - ETA: 8:41:14 - Train Loss: 0.0043 - Validation Loss: 0.0070 - Time (s): 0.2440"
     ]
    },
    {
     "name": "stderr",
     "output_type": "stream",
     "text": [
      "/usr/local/lib/python3.6/dist-packages/plotly/matplotlylib/renderer.py:410: UserWarning:\n",
      "\n",
      "Bummer! Plotly can currently only draw Line2D objects from matplotlib that are in 'data' coordinates!\n",
      "\n",
      "/usr/local/lib/python3.6/dist-packages/plotly/matplotlylib/renderer.py:512: UserWarning:\n",
      "\n",
      "I found a path object that I don't think is part of a bar chart. Ignoring.\n",
      "\n"
     ]
    },
    {
     "name": "stdout",
     "output_type": "stream",
     "text": [
      "  4980/200000 [..............................] - ETA: 8:07:18 - Train Loss: 0.0040 - Validation Loss: 0.0070 - Time (s): 0.2313Saving model weights...\n"
     ]
    },
    {
     "name": "stderr",
     "output_type": "stream",
     "text": [
      "/usr/local/lib/python3.6/dist-packages/numpy/core/_asarray.py:136: VisibleDeprecationWarning:\n",
      "\n",
      "Creating an ndarray from ragged nested sequences (which is a list-or-tuple of lists-or-tuples-or ndarrays with different lengths or shapes) is deprecated. If you meant to do this, you must specify 'dtype=object' when creating the ndarray\n",
      "\n",
      "/usr/local/lib/python3.6/dist-packages/matplotlib/colors.py:263: VisibleDeprecationWarning:\n",
      "\n",
      "Creating an ndarray from ragged nested sequences (which is a list-or-tuple of lists-or-tuples-or ndarrays with different lengths or shapes) is deprecated. If you meant to do this, you must specify 'dtype=object' when creating the ndarray\n",
      "\n",
      "/usr/local/lib/python3.6/dist-packages/numpy/core/_asarray.py:136: VisibleDeprecationWarning:\n",
      "\n",
      "Creating an ndarray from ragged nested sequences (which is a list-or-tuple of lists-or-tuples-or ndarrays with different lengths or shapes) is deprecated. If you meant to do this, you must specify 'dtype=object' when creating the ndarray\n",
      "\n",
      "/usr/local/lib/python3.6/dist-packages/matplotlib/colors.py:263: VisibleDeprecationWarning:\n",
      "\n",
      "Creating an ndarray from ragged nested sequences (which is a list-or-tuple of lists-or-tuples-or ndarrays with different lengths or shapes) is deprecated. If you meant to do this, you must specify 'dtype=object' when creating the ndarray\n",
      "\n",
      "/usr/local/lib/python3.6/dist-packages/numpy/core/_asarray.py:136: VisibleDeprecationWarning:\n",
      "\n",
      "Creating an ndarray from ragged nested sequences (which is a list-or-tuple of lists-or-tuples-or ndarrays with different lengths or shapes) is deprecated. If you meant to do this, you must specify 'dtype=object' when creating the ndarray\n",
      "\n"
     ]
    },
    {
     "name": "stdout",
     "output_type": "stream",
     "text": [
      "  5000/200000 [..............................] - ETA: 8:12:47 - Train Loss: 0.0039 - Validation Loss: 0.0070 - Time (s): 0.2308"
     ]
    },
    {
     "name": "stderr",
     "output_type": "stream",
     "text": [
      "/usr/local/lib/python3.6/dist-packages/plotly/matplotlylib/renderer.py:410: UserWarning:\n",
      "\n",
      "Bummer! Plotly can currently only draw Line2D objects from matplotlib that are in 'data' coordinates!\n",
      "\n",
      "/usr/local/lib/python3.6/dist-packages/plotly/matplotlylib/renderer.py:512: UserWarning:\n",
      "\n",
      "I found a path object that I don't think is part of a bar chart. Ignoring.\n",
      "\n"
     ]
    },
    {
     "name": "stdout",
     "output_type": "stream",
     "text": [
      "  5980/200000 [..............................] - ETA: 7:49:45 - Train Loss: 0.0037 - Validation Loss: 0.0071 - Time (s): 0.2224Saving model weights...\n"
     ]
    },
    {
     "name": "stderr",
     "output_type": "stream",
     "text": [
      "/usr/local/lib/python3.6/dist-packages/numpy/core/_asarray.py:136: VisibleDeprecationWarning:\n",
      "\n",
      "Creating an ndarray from ragged nested sequences (which is a list-or-tuple of lists-or-tuples-or ndarrays with different lengths or shapes) is deprecated. If you meant to do this, you must specify 'dtype=object' when creating the ndarray\n",
      "\n",
      "/usr/local/lib/python3.6/dist-packages/matplotlib/colors.py:263: VisibleDeprecationWarning:\n",
      "\n",
      "Creating an ndarray from ragged nested sequences (which is a list-or-tuple of lists-or-tuples-or ndarrays with different lengths or shapes) is deprecated. If you meant to do this, you must specify 'dtype=object' when creating the ndarray\n",
      "\n",
      "/usr/local/lib/python3.6/dist-packages/numpy/core/_asarray.py:136: VisibleDeprecationWarning:\n",
      "\n",
      "Creating an ndarray from ragged nested sequences (which is a list-or-tuple of lists-or-tuples-or ndarrays with different lengths or shapes) is deprecated. If you meant to do this, you must specify 'dtype=object' when creating the ndarray\n",
      "\n",
      "/usr/local/lib/python3.6/dist-packages/matplotlib/colors.py:263: VisibleDeprecationWarning:\n",
      "\n",
      "Creating an ndarray from ragged nested sequences (which is a list-or-tuple of lists-or-tuples-or ndarrays with different lengths or shapes) is deprecated. If you meant to do this, you must specify 'dtype=object' when creating the ndarray\n",
      "\n",
      "/usr/local/lib/python3.6/dist-packages/numpy/core/_asarray.py:136: VisibleDeprecationWarning:\n",
      "\n",
      "Creating an ndarray from ragged nested sequences (which is a list-or-tuple of lists-or-tuples-or ndarrays with different lengths or shapes) is deprecated. If you meant to do this, you must specify 'dtype=object' when creating the ndarray\n",
      "\n"
     ]
    },
    {
     "name": "stdout",
     "output_type": "stream",
     "text": [
      "  6000/200000 [..............................] - ETA: 7:54:18 - Train Loss: 0.0037 - Validation Loss: 0.0071 - Time (s): 0.2220"
     ]
    },
    {
     "name": "stderr",
     "output_type": "stream",
     "text": [
      "/usr/local/lib/python3.6/dist-packages/plotly/matplotlylib/renderer.py:410: UserWarning:\n",
      "\n",
      "Bummer! Plotly can currently only draw Line2D objects from matplotlib that are in 'data' coordinates!\n",
      "\n",
      "/usr/local/lib/python3.6/dist-packages/plotly/matplotlylib/renderer.py:512: UserWarning:\n",
      "\n",
      "I found a path object that I don't think is part of a bar chart. Ignoring.\n",
      "\n"
     ]
    },
    {
     "name": "stdout",
     "output_type": "stream",
     "text": [
      "  6980/200000 [>.............................] - ETA: 7:36:10 - Train Loss: 0.0035 - Validation Loss: 0.0071 - Time (s): 0.2149Saving model weights...\n"
     ]
    },
    {
     "name": "stderr",
     "output_type": "stream",
     "text": [
      "/usr/local/lib/python3.6/dist-packages/numpy/core/_asarray.py:136: VisibleDeprecationWarning:\n",
      "\n",
      "Creating an ndarray from ragged nested sequences (which is a list-or-tuple of lists-or-tuples-or ndarrays with different lengths or shapes) is deprecated. If you meant to do this, you must specify 'dtype=object' when creating the ndarray\n",
      "\n"
     ]
    },
    {
     "ename": "KeyboardInterrupt",
     "evalue": "ignored",
     "output_type": "error",
     "traceback": [
      "\u001b[0;31m---------------------------------------------------------------------------\u001b[0m",
      "\u001b[0;31mKeyboardInterrupt\u001b[0m                         Traceback (most recent call last)",
      "\u001b[0;32m<ipython-input-94-d124149a29b0>\u001b[0m in \u001b[0;36m<module>\u001b[0;34m()\u001b[0m\n\u001b[1;32m     50\u001b[0m         \u001b[0msave_weights\u001b[0m\u001b[0;34m(\u001b[0m\u001b[0mmodel_path\u001b[0m\u001b[0;34m,\u001b[0m \u001b[0mactor\u001b[0m\u001b[0;34m,\u001b[0m \u001b[0mconfig\u001b[0m\u001b[0;34m,\u001b[0m \u001b[0mdl\u001b[0m\u001b[0;34m,\u001b[0m \u001b[0mrun_id\u001b[0m\u001b[0;34m,\u001b[0m\u001b[0moptimizer\u001b[0m\u001b[0;34m,\u001b[0m \u001b[0mencoder\u001b[0m\u001b[0;34m,\u001b[0m \u001b[0mplanner\u001b[0m\u001b[0;34m)\u001b[0m\u001b[0;34m\u001b[0m\u001b[0;34m\u001b[0m\u001b[0m\n\u001b[1;32m     51\u001b[0m         \u001b[0;32mif\u001b[0m \u001b[0;32mnot\u001b[0m \u001b[0mconfig\u001b[0m\u001b[0;34m[\u001b[0m\u001b[0;34m'gcbc'\u001b[0m\u001b[0;34m]\u001b[0m\u001b[0;34m:\u001b[0m\u001b[0;34m\u001b[0m\u001b[0;34m\u001b[0m\u001b[0m\n\u001b[0;32m---> 52\u001b[0;31m           \u001b[0mz_enc\u001b[0m\u001b[0;34m,\u001b[0m \u001b[0mz_plan\u001b[0m \u001b[0;34m=\u001b[0m \u001b[0mproduce_cluster_fig\u001b[0m\u001b[0;34m(\u001b[0m\u001b[0mnext\u001b[0m\u001b[0;34m(\u001b[0m\u001b[0mv_it\u001b[0m\u001b[0;34m)\u001b[0m\u001b[0;34m,\u001b[0m \u001b[0mencoder\u001b[0m\u001b[0;34m,\u001b[0m \u001b[0mplanner\u001b[0m\u001b[0;34m,\u001b[0m \u001b[0mTEST_DATA_PATHS\u001b[0m\u001b[0;34m[\u001b[0m\u001b[0;36m0\u001b[0m\u001b[0;34m]\u001b[0m\u001b[0;34m,\u001b[0m \u001b[0mnum_take\u001b[0m\u001b[0;34m=\u001b[0m\u001b[0mdl\u001b[0m\u001b[0;34m.\u001b[0m\u001b[0mbatch_size\u001b[0m\u001b[0;34m)\u001b[0m\u001b[0;34m\u001b[0m\u001b[0;34m\u001b[0m\u001b[0m\n\u001b[0m\u001b[1;32m     53\u001b[0m           \u001b[0mwandb\u001b[0m\u001b[0;34m.\u001b[0m\u001b[0mlog\u001b[0m\u001b[0;34m(\u001b[0m\u001b[0;34m{\u001b[0m\u001b[0;34m'z_enc'\u001b[0m\u001b[0;34m:\u001b[0m\u001b[0mz_enc\u001b[0m\u001b[0;34m,\u001b[0m \u001b[0;34m'z_plan'\u001b[0m\u001b[0;34m:\u001b[0m\u001b[0mz_plan\u001b[0m\u001b[0;34m}\u001b[0m\u001b[0;34m,\u001b[0m \u001b[0mstep\u001b[0m\u001b[0;34m=\u001b[0m\u001b[0mt\u001b[0m\u001b[0;34m)\u001b[0m\u001b[0;34m\u001b[0m\u001b[0;34m\u001b[0m\u001b[0m\n\u001b[1;32m     54\u001b[0m           \u001b[0mlatent_fig\u001b[0m \u001b[0;34m=\u001b[0m \u001b[0mproject_enc_and_plan\u001b[0m\u001b[0;34m(\u001b[0m\u001b[0mze\u001b[0m\u001b[0;34m,\u001b[0m \u001b[0mzp\u001b[0m\u001b[0;34m)\u001b[0m\u001b[0;34m\u001b[0m\u001b[0;34m\u001b[0m\u001b[0m\n",
      "\u001b[0;32m/content/learning_from_play/lfp/plotting.py\u001b[0m in \u001b[0;36mproduce_cluster_fig\u001b[0;34m(batch, encoder, planner, TEST_DATA_PATH, num_take)\u001b[0m\n\u001b[1;32m    128\u001b[0m     \u001b[0mz_enc\u001b[0m \u001b[0;34m=\u001b[0m \u001b[0mencoder\u001b[0m\u001b[0;34m(\u001b[0m\u001b[0;34m(\u001b[0m\u001b[0mobs\u001b[0m\u001b[0;34m,\u001b[0m\u001b[0macts\u001b[0m\u001b[0;34m)\u001b[0m\u001b[0;34m)\u001b[0m\u001b[0;34m\u001b[0m\u001b[0;34m\u001b[0m\u001b[0m\n\u001b[1;32m    129\u001b[0m     \u001b[0mz_plan\u001b[0m \u001b[0;34m=\u001b[0m \u001b[0mplanner\u001b[0m\u001b[0;34m(\u001b[0m\u001b[0;34m(\u001b[0m\u001b[0minitial_state\u001b[0m\u001b[0;34m,\u001b[0m \u001b[0mgoals\u001b[0m\u001b[0;34m)\u001b[0m\u001b[0;34m)\u001b[0m\u001b[0;34m\u001b[0m\u001b[0;34m\u001b[0m\u001b[0m\n\u001b[0;32m--> 130\u001b[0;31m     \u001b[0mfig_enc\u001b[0m\u001b[0;34m,\u001b[0m \u001b[0mscatter\u001b[0m \u001b[0;34m=\u001b[0m \u001b[0mproject_labelled_latents\u001b[0m\u001b[0;34m(\u001b[0m\u001b[0mreducer\u001b[0m\u001b[0;34m,\u001b[0m \u001b[0mz_enc\u001b[0m\u001b[0;34m.\u001b[0m\u001b[0msample\u001b[0m\u001b[0;34m(\u001b[0m\u001b[0;34m)\u001b[0m\u001b[0;34m,\u001b[0m \u001b[0mcolors\u001b[0m \u001b[0;34m+\u001b[0m \u001b[0mbatch_colors\u001b[0m\u001b[0;34m,\u001b[0m \u001b[0mbucket\u001b[0m\u001b[0;34m)\u001b[0m\u001b[0;34m\u001b[0m\u001b[0;34m\u001b[0m\u001b[0m\n\u001b[0m\u001b[1;32m    131\u001b[0m     \u001b[0mfig_plan\u001b[0m\u001b[0;34m,\u001b[0m \u001b[0mscatter\u001b[0m \u001b[0;34m=\u001b[0m \u001b[0mproject_labelled_latents\u001b[0m\u001b[0;34m(\u001b[0m\u001b[0mreducer\u001b[0m\u001b[0;34m,\u001b[0m \u001b[0mz_plan\u001b[0m\u001b[0;34m.\u001b[0m\u001b[0msample\u001b[0m\u001b[0;34m(\u001b[0m\u001b[0;34m)\u001b[0m\u001b[0;34m,\u001b[0m \u001b[0mcolors\u001b[0m \u001b[0;34m+\u001b[0m \u001b[0mbatch_colors\u001b[0m\u001b[0;34m,\u001b[0m \u001b[0mbucket\u001b[0m\u001b[0;34m)\u001b[0m\u001b[0;34m\u001b[0m\u001b[0;34m\u001b[0m\u001b[0m\n\u001b[1;32m    132\u001b[0m \u001b[0;34m\u001b[0m\u001b[0m\n",
      "\u001b[0;32m/content/learning_from_play/lfp/plotting.py\u001b[0m in \u001b[0;36mproject_labelled_latents\u001b[0;34m(reducer, z_enc, colors, bucket)\u001b[0m\n\u001b[1;32m     98\u001b[0m \u001b[0;34m\u001b[0m\u001b[0m\n\u001b[1;32m     99\u001b[0m \u001b[0;32mdef\u001b[0m \u001b[0mproject_labelled_latents\u001b[0m\u001b[0;34m(\u001b[0m\u001b[0mreducer\u001b[0m\u001b[0;34m,\u001b[0m \u001b[0mz_enc\u001b[0m\u001b[0;34m,\u001b[0m \u001b[0mcolors\u001b[0m\u001b[0;34m,\u001b[0m \u001b[0mbucket\u001b[0m\u001b[0;34m=\u001b[0m\u001b[0;32mTrue\u001b[0m\u001b[0;34m)\u001b[0m\u001b[0;34m:\u001b[0m\u001b[0;34m\u001b[0m\u001b[0;34m\u001b[0m\u001b[0m\n\u001b[0;32m--> 100\u001b[0;31m     \u001b[0mreducer\u001b[0m\u001b[0;34m.\u001b[0m\u001b[0mfit\u001b[0m\u001b[0;34m(\u001b[0m\u001b[0mz_enc\u001b[0m\u001b[0;34m)\u001b[0m\u001b[0;34m\u001b[0m\u001b[0;34m\u001b[0m\u001b[0m\n\u001b[0m\u001b[1;32m    101\u001b[0m     \u001b[0mz_enc_embed\u001b[0m \u001b[0;34m=\u001b[0m \u001b[0mreducer\u001b[0m\u001b[0;34m.\u001b[0m\u001b[0mtransform\u001b[0m\u001b[0;34m(\u001b[0m\u001b[0mz_enc\u001b[0m\u001b[0;34m)\u001b[0m\u001b[0;34m\u001b[0m\u001b[0;34m\u001b[0m\u001b[0m\n\u001b[1;32m    102\u001b[0m     \u001b[0mfig\u001b[0m \u001b[0;34m=\u001b[0m \u001b[0mplt\u001b[0m\u001b[0;34m.\u001b[0m\u001b[0mfigure\u001b[0m\u001b[0;34m(\u001b[0m\u001b[0mfigsize\u001b[0m\u001b[0;34m=\u001b[0m\u001b[0;34m(\u001b[0m\u001b[0;36m14\u001b[0m\u001b[0;34m,\u001b[0m\u001b[0;36m14\u001b[0m\u001b[0;34m)\u001b[0m\u001b[0;34m)\u001b[0m\u001b[0;34m\u001b[0m\u001b[0;34m\u001b[0m\u001b[0m\n",
      "\u001b[0;32m/usr/local/lib/python3.6/dist-packages/umap/umap_.py\u001b[0m in \u001b[0;36mfit\u001b[0;34m(self, X, y)\u001b[0m\n\u001b[1;32m   2553\u001b[0m         \u001b[0;32mif\u001b[0m \u001b[0mself\u001b[0m\u001b[0;34m.\u001b[0m\u001b[0mtransform_mode\u001b[0m \u001b[0;34m==\u001b[0m \u001b[0;34m\"embedding\"\u001b[0m\u001b[0;34m:\u001b[0m\u001b[0;34m\u001b[0m\u001b[0;34m\u001b[0m\u001b[0m\n\u001b[1;32m   2554\u001b[0m             self.embedding_, aux_data = self._fit_embed_data(\n\u001b[0;32m-> 2555\u001b[0;31m                 \u001b[0mself\u001b[0m\u001b[0;34m.\u001b[0m\u001b[0m_raw_data\u001b[0m\u001b[0;34m[\u001b[0m\u001b[0mindex\u001b[0m\u001b[0;34m]\u001b[0m\u001b[0;34m,\u001b[0m \u001b[0mn_epochs\u001b[0m\u001b[0;34m,\u001b[0m \u001b[0minit\u001b[0m\u001b[0;34m,\u001b[0m \u001b[0mrandom_state\u001b[0m\u001b[0;34m,\u001b[0m  \u001b[0;31m# JH why raw data?\u001b[0m\u001b[0;34m\u001b[0m\u001b[0;34m\u001b[0m\u001b[0m\n\u001b[0m\u001b[1;32m   2556\u001b[0m             )\n\u001b[1;32m   2557\u001b[0m             \u001b[0;31m# Assign any points that are fully disconnected from our manifold(s) to have embedding\u001b[0m\u001b[0;34m\u001b[0m\u001b[0;34m\u001b[0m\u001b[0;34m\u001b[0m\u001b[0m\n",
      "\u001b[0;32m/usr/local/lib/python3.6/dist-packages/umap/umap_.py\u001b[0m in \u001b[0;36m_fit_embed_data\u001b[0;34m(self, X, n_epochs, init, random_state)\u001b[0m\n\u001b[1;32m   2600\u001b[0m             \u001b[0mself\u001b[0m\u001b[0;34m.\u001b[0m\u001b[0moutput_metric\u001b[0m \u001b[0;32min\u001b[0m \u001b[0;34m(\u001b[0m\u001b[0;34m\"euclidean\"\u001b[0m\u001b[0;34m,\u001b[0m \u001b[0;34m\"l2\"\u001b[0m\u001b[0;34m)\u001b[0m\u001b[0;34m,\u001b[0m\u001b[0;34m\u001b[0m\u001b[0;34m\u001b[0m\u001b[0m\n\u001b[1;32m   2601\u001b[0m             \u001b[0mself\u001b[0m\u001b[0;34m.\u001b[0m\u001b[0mrandom_state\u001b[0m \u001b[0;32mis\u001b[0m \u001b[0;32mNone\u001b[0m\u001b[0;34m,\u001b[0m\u001b[0;34m\u001b[0m\u001b[0;34m\u001b[0m\u001b[0m\n\u001b[0;32m-> 2602\u001b[0;31m             \u001b[0mself\u001b[0m\u001b[0;34m.\u001b[0m\u001b[0mverbose\u001b[0m\u001b[0;34m,\u001b[0m\u001b[0;34m\u001b[0m\u001b[0;34m\u001b[0m\u001b[0m\n\u001b[0m\u001b[1;32m   2603\u001b[0m         )\n\u001b[1;32m   2604\u001b[0m \u001b[0;34m\u001b[0m\u001b[0m\n",
      "\u001b[0;32m/usr/local/lib/python3.6/dist-packages/umap/umap_.py\u001b[0m in \u001b[0;36msimplicial_set_embedding\u001b[0;34m(data, graph, n_components, initial_alpha, a, b, gamma, negative_sample_rate, n_epochs, init, random_state, metric, metric_kwds, densmap, densmap_kwds, output_dens, output_metric, output_metric_kwds, euclidean_output, parallel, verbose)\u001b[0m\n\u001b[1;32m   1147\u001b[0m             \u001b[0mverbose\u001b[0m\u001b[0;34m=\u001b[0m\u001b[0mverbose\u001b[0m\u001b[0;34m,\u001b[0m\u001b[0;34m\u001b[0m\u001b[0;34m\u001b[0m\u001b[0m\n\u001b[1;32m   1148\u001b[0m             \u001b[0mdensmap\u001b[0m\u001b[0;34m=\u001b[0m\u001b[0mdensmap\u001b[0m\u001b[0;34m,\u001b[0m\u001b[0;34m\u001b[0m\u001b[0;34m\u001b[0m\u001b[0m\n\u001b[0;32m-> 1149\u001b[0;31m             \u001b[0mdensmap_kwds\u001b[0m\u001b[0;34m=\u001b[0m\u001b[0mdensmap_kwds\u001b[0m\u001b[0;34m,\u001b[0m\u001b[0;34m\u001b[0m\u001b[0;34m\u001b[0m\u001b[0m\n\u001b[0m\u001b[1;32m   1150\u001b[0m         )\n\u001b[1;32m   1151\u001b[0m     \u001b[0;32melse\u001b[0m\u001b[0;34m:\u001b[0m\u001b[0;34m\u001b[0m\u001b[0;34m\u001b[0m\u001b[0m\n",
      "\u001b[0;32m/usr/local/lib/python3.6/dist-packages/umap/layouts.py\u001b[0m in \u001b[0;36moptimize_layout_euclidean\u001b[0;34m(head_embedding, tail_embedding, head, tail, n_epochs, n_vertices, epochs_per_sample, a, b, rng_state, gamma, initial_alpha, negative_sample_rate, parallel, verbose, densmap, densmap_kwds)\u001b[0m\n\u001b[1;32m    369\u001b[0m             \u001b[0mdens_R\u001b[0m\u001b[0;34m,\u001b[0m\u001b[0;34m\u001b[0m\u001b[0;34m\u001b[0m\u001b[0m\n\u001b[1;32m    370\u001b[0m             \u001b[0mdens_mu\u001b[0m\u001b[0;34m,\u001b[0m\u001b[0;34m\u001b[0m\u001b[0;34m\u001b[0m\u001b[0m\n\u001b[0;32m--> 371\u001b[0;31m             \u001b[0mdens_mu_tot\u001b[0m\u001b[0;34m,\u001b[0m\u001b[0;34m\u001b[0m\u001b[0;34m\u001b[0m\u001b[0m\n\u001b[0m\u001b[1;32m    372\u001b[0m         )\n\u001b[1;32m    373\u001b[0m \u001b[0;34m\u001b[0m\u001b[0m\n",
      "\u001b[0;31mKeyboardInterrupt\u001b[0m: "
     ]
    },
    {
     "data": {
      "image/png": "[encoded data removed]",
      "text/plain": [
       "<Figure size 432x288 with 1 Axes>"
      ]
     },
     "metadata": {
      "needs_background": "light",
      "tags": []
     },
     "output_type": "display_data"
    },
    {
     "data": {
      "image/png": "[encoded data removed]",
      "text/plain": [
       "<Figure size 432x288 with 1 Axes>"
      ]
     },
     "metadata": {
      "needs_background": "light",
      "tags": []
     },
     "output_type": "display_data"
    },
    {
     "data": {
      "image/png": "[encoded data removed]",
      "text/plain": [
       "<Figure size 432x288 with 1 Axes>"
      ]
     },
     "metadata": {
      "needs_background": "light",
      "tags": []
     },
     "output_type": "display_data"
    },
    {
     "data": {
      "image/png": "[encoded data removed]",
      "text/plain": [
       "<Figure size 432x288 with 1 Axes>"
      ]
     },
     "metadata": {
      "needs_background": "light",
      "tags": []
     },
     "output_type": "display_data"
    },
    {
     "data": {
      "image/png": "[encoded data removed]",
      "text/plain": [
       "<Figure size 432x288 with 1 Axes>"
      ]
     },
     "metadata": {
      "needs_background": "light",
      "tags": []
     },
     "output_type": "display_data"
    },
    {
     "data": {
      "image/png": "[encoded data removed]",
      "text/plain": [
       "<Figure size 432x288 with 1 Axes>"
      ]
     },
     "metadata": {
      "needs_background": "light",
      "tags": []
     },
     "output_type": "display_data"
    }
   ],
   "source": [
    "while t < TRAIN_STEPS:\n",
    "    start_time = time.time()\n",
    "    beta = beta_sched.scheduler(t)\n",
    "    x = next(train_dist_dataset)\n",
    "    total_train_loss = distributed_train_step(x, beta, prev_grad_norm)\n",
    "    \n",
    "    if t % valid_inc == 0:  \n",
    "        valid_x = next(valid_dist_dataset)\n",
    "        if config['gcbc']:\n",
    "          total_val_loss = distributed_test_step(valid_x, beta)\n",
    "        else:\n",
    "          total_val_loss, ze, zp = distributed_test_step(valid_x, beta)\n",
    "\n",
    "        # validation plotting\n",
    "        progbar.add(valid_inc, [('Train Loss', train_loss.result()), ('Validation Loss', valid_loss.result()), ('Time (s)', round(time.time() - start_time, 1))])\n",
    "\n",
    "\n",
    "        wandb.log({'train_loss_result':log(train_loss),\n",
    "                    'valid_loss_result':log(valid_loss),\n",
    "                    'valid_position_loss_result':log(valid_position_loss),\n",
    "                    'valid_max_position_loss_result':log(valid_max_position_loss),\n",
    "                    'valid_rotation_loss_result':log(valid_rotation_loss),\n",
    "                    'valid_max_rotation_loss_result':log(valid_max_rotation_loss),\n",
    "                    'valid_gripper_loss_result':log(valid_gripper_loss),\n",
    "                    'actor_grad_norm': log(actor_grad_norm),\n",
    "                    'actor_grad_norm_clipped': log(actor_grad_norm_clipped),\n",
    "                  },\n",
    "                  step=t)\n",
    "          \n",
    "        if not config['gcbc']:\n",
    "          wandb.log({\n",
    "                      'train_act_with_enc_loss_result':log(train_act_with_enc_loss),\n",
    "                      'train_act_with_plan_loss_result':log(train_act_with_plan_loss),\n",
    "                      'train_reg_loss_result':log(train_reg_loss),\n",
    "                      'valid_act_with_enc_loss_result':log(valid_act_with_enc_loss),\n",
    "                      'valid_act_with_plan_loss_result':valid_act_with_plan_loss.result(),\n",
    "                      'valid_reg_loss_result':log(valid_reg_loss),\n",
    "                      'beta_result':beta,\n",
    "                      'encoder_grad_norm': log(encoder_grad_norm),\n",
    "                      'planner_grad_norm': log(planner_grad_norm),\n",
    "                      'encoder_grad_norm_clipped': log(encoder_grad_norm_clipped),\n",
    "                      'planner_grad_norm_clipped': log(planner_grad_norm_clipped),\n",
    "                    },\n",
    "                    step=t)\n",
    "          \n",
    "\n",
    "        prev_grad_norm = log(global_grad_norm)\n",
    "          \n",
    "    if t % save_inc == 0:\n",
    "        save_weights(model_path, actor, config, dl, run_id,optimizer, encoder, planner)\n",
    "        if not config['gcbc']:\n",
    "          z_enc, z_plan = produce_cluster_fig(next(v_it), encoder, planner, TEST_DATA_PATHS[0], num_take=dl.batch_size)\n",
    "          wandb.log({'z_enc':z_enc, 'z_plan':z_plan}, step=t)\n",
    "          latent_fig = project_enc_and_plan(ze, zp)\n",
    "          #latent_img = plot_to_image(latent_fig)\n",
    "\n",
    "    t += 1"
   ]
  },
  {
   "cell_type": "code",
   "execution_count": 95,
   "metadata": {
    "colab": {
     "base_uri": "https://localhost:8080/"
    },
    "id": "2xQNWRGJQLZR",
    "outputId": "95cc5806-1d75-40b7-d99c-91210e9359d6"
   },
   "outputs": [
    {
     "name": "stdout",
     "output_type": "stream",
     "text": [
      "/content/learning_from_play/lfp\n",
      "remote: Enumerating objects: 19, done.\u001b[K\n",
      "remote: Counting objects: 100% (19/19), done.\u001b[K\n",
      "remote: Compressing objects: 100% (9/9), done.\u001b[K\n",
      "remote: Total 14 (delta 11), reused 8 (delta 5), pack-reused 0\u001b[K\n",
      "Unpacking objects: 100% (14/14), done.\n",
      "From https://github.com/sholtodouglas/learning_from_play\n",
      "   9d3444b..1459601  master     -> origin/master\n",
      "Updating 555d326..1459601\n",
      "error: Your local changes to the following files would be overwritten by merge:\n",
      "\tlfp/utils.py\n",
      "Please commit your changes or stash them before you merge.\n",
      "Aborting\n",
      "/content/learning_from_play\n"
     ]
    }
   ],
   "source": [
    "# Use if deving locally - relatively painless\n",
    "% cd lfp\n",
    "! git pull\n",
    "% cd .."
   ]
  },
  {
   "cell_type": "code",
   "execution_count": null,
   "metadata": {
    "id": "FABYi2fFFjiD"
   },
   "outputs": [],
   "source": []
  }
 ],
 "metadata": {
  "accelerator": "TPU",
  "colab": {
   "collapsed_sections": [
    "G84fGXVwv9Fh",
    "-yC0L1P3v9GA",
    "8SHQGBjnv9GK",
    "b7CMny5dv9Gx",
    "njbQpQAGv9G2"
   ],
   "include_colab_link": true,
   "machine_shape": "hm",
   "name": "LMP Test.ipynb",
   "provenance": [],
   "toc_visible": true
  },
  "kernelspec": {
   "display_name": "lfp_venv",
   "language": "python",
   "name": "lfp_venv"
  },
  "language_info": {
   "codemirror_mode": {
    "name": "ipython",
    "version": 3
   },
   "file_extension": ".py",
   "mimetype": "text/x-python",
   "name": "python",
   "nbconvert_exporter": "python",
   "pygments_lexer": "ipython3",
   "version": "3.8.2"
  },
  "widgets": {
   "application/vnd.jupyter.widget-state+json": {
    "024d2b0c4ea24adba0b66ce199f5260b": {
     "model_module": "@jupyter-widgets/controls",
     "model_name": "ProgressStyleModel",
     "state": {
      "_model_module": "@jupyter-widgets/controls",
      "_model_module_version": "1.5.0",
      "_model_name": "ProgressStyleModel",
      "_view_count": null,
      "_view_module": "@jupyter-widgets/base",
      "_view_module_version": "1.2.0",
      "_view_name": "StyleView",
      "bar_color": null,
      "description_width": ""
     }
    },
    "02b4c8386f8e4fceb502e8c5b7aa29c6": {
     "model_module": "@jupyter-widgets/base",
     "model_name": "LayoutModel",
     "state": {
      "_model_module": "@jupyter-widgets/base",
      "_model_module_version": "1.2.0",
      "_model_name": "LayoutModel",
      "_view_count": null,
      "_view_module": "@jupyter-widgets/base",
      "_view_module_version": "1.2.0",
      "_view_name": "LayoutView",
      "align_content": null,
      "align_items": null,
      "align_self": null,
      "border": null,
      "bottom": null,
      "display": null,
      "flex": null,
      "flex_flow": null,
      "grid_area": null,
      "grid_auto_columns": null,
      "grid_auto_flow": null,
      "grid_auto_rows": null,
      "grid_column": null,
      "grid_gap": null,
      "grid_row": null,
      "grid_template_areas": null,
      "grid_template_columns": null,
      "grid_template_rows": null,
      "height": null,
      "justify_content": null,
      "justify_items": null,
      "left": null,
      "margin": null,
      "max_height": null,
      "max_width": null,
      "min_height": null,
      "min_width": null,
      "object_fit": null,
      "object_position": null,
      "order": null,
      "overflow": null,
      "overflow_x": null,
      "overflow_y": null,
      "padding": null,
      "right": null,
      "top": null,
      "visibility": null,
      "width": null
     }
    },
    "12fbeb8587394eeebad5b8d7d90eee22": {
     "model_module": "@jupyter-widgets/controls",
     "model_name": "DescriptionStyleModel",
     "state": {
      "_model_module": "@jupyter-widgets/controls",
      "_model_module_version": "1.5.0",
      "_model_name": "DescriptionStyleModel",
      "_view_count": null,
      "_view_module": "@jupyter-widgets/base",
      "_view_module_version": "1.2.0",
      "_view_name": "StyleView",
      "description_width": ""
     }
    },
    "4f578ba444034234a3387e791f5b7900": {
     "model_module": "@jupyter-widgets/controls",
     "model_name": "LabelModel",
     "state": {
      "_dom_classes": [],
      "_model_module": "@jupyter-widgets/controls",
      "_model_module_version": "1.5.0",
      "_model_name": "LabelModel",
      "_view_count": null,
      "_view_module": "@jupyter-widgets/controls",
      "_view_module_version": "1.5.0",
      "_view_name": "LabelView",
      "description": "",
      "description_tooltip": null,
      "layout": "IPY_MODEL_894a73e08c184b908bd985a6927235d0",
      "placeholder": "​",
      "style": "IPY_MODEL_12fbeb8587394eeebad5b8d7d90eee22",
      "value": " 0.03MB of 0.03MB uploaded (0.00MB deduped)\r"
     }
    },
    "652d0aef5d3144618a45c8012d9a0bc2": {
     "model_module": "@jupyter-widgets/base",
     "model_name": "LayoutModel",
     "state": {
      "_model_module": "@jupyter-widgets/base",
      "_model_module_version": "1.2.0",
      "_model_name": "LayoutModel",
      "_view_count": null,
      "_view_module": "@jupyter-widgets/base",
      "_view_module_version": "1.2.0",
      "_view_name": "LayoutView",
      "align_content": null,
      "align_items": null,
      "align_self": null,
      "border": null,
      "bottom": null,
      "display": null,
      "flex": null,
      "flex_flow": null,
      "grid_area": null,
      "grid_auto_columns": null,
      "grid_auto_flow": null,
      "grid_auto_rows": null,
      "grid_column": null,
      "grid_gap": null,
      "grid_row": null,
      "grid_template_areas": null,
      "grid_template_columns": null,
      "grid_template_rows": null,
      "height": null,
      "justify_content": null,
      "justify_items": null,
      "left": null,
      "margin": null,
      "max_height": null,
      "max_width": null,
      "min_height": null,
      "min_width": null,
      "object_fit": null,
      "object_position": null,
      "order": null,
      "overflow": null,
      "overflow_x": null,
      "overflow_y": null,
      "padding": null,
      "right": null,
      "top": null,
      "visibility": null,
      "width": null
     }
    },
    "6d6887969e5d484384667f5f4fe4a581": {
     "model_module": "@jupyter-widgets/controls",
     "model_name": "VBoxModel",
     "state": {
      "_dom_classes": [],
      "_model_module": "@jupyter-widgets/controls",
      "_model_module_version": "1.5.0",
      "_model_name": "VBoxModel",
      "_view_count": null,
      "_view_module": "@jupyter-widgets/controls",
      "_view_module_version": "1.5.0",
      "_view_name": "VBoxView",
      "box_style": "",
      "children": [
       "IPY_MODEL_4f578ba444034234a3387e791f5b7900",
       "IPY_MODEL_74a5e0c5e3484748a96c6eca8a3ff07a"
      ],
      "layout": "IPY_MODEL_652d0aef5d3144618a45c8012d9a0bc2"
     }
    },
    "74a5e0c5e3484748a96c6eca8a3ff07a": {
     "model_module": "@jupyter-widgets/controls",
     "model_name": "FloatProgressModel",
     "state": {
      "_dom_classes": [],
      "_model_module": "@jupyter-widgets/controls",
      "_model_module_version": "1.5.0",
      "_model_name": "FloatProgressModel",
      "_view_count": null,
      "_view_module": "@jupyter-widgets/controls",
      "_view_module_version": "1.5.0",
      "_view_name": "ProgressView",
      "bar_style": "",
      "description": "",
      "description_tooltip": null,
      "layout": "IPY_MODEL_02b4c8386f8e4fceb502e8c5b7aa29c6",
      "max": 1,
      "min": 0,
      "orientation": "horizontal",
      "style": "IPY_MODEL_024d2b0c4ea24adba0b66ce199f5260b",
      "value": 1
     }
    },
    "894a73e08c184b908bd985a6927235d0": {
     "model_module": "@jupyter-widgets/base",
     "model_name": "LayoutModel",
     "state": {
      "_model_module": "@jupyter-widgets/base",
      "_model_module_version": "1.2.0",
      "_model_name": "LayoutModel",
      "_view_count": null,
      "_view_module": "@jupyter-widgets/base",
      "_view_module_version": "1.2.0",
      "_view_name": "LayoutView",
      "align_content": null,
      "align_items": null,
      "align_self": null,
      "border": null,
      "bottom": null,
      "display": null,
      "flex": null,
      "flex_flow": null,
      "grid_area": null,
      "grid_auto_columns": null,
      "grid_auto_flow": null,
      "grid_auto_rows": null,
      "grid_column": null,
      "grid_gap": null,
      "grid_row": null,
      "grid_template_areas": null,
      "grid_template_columns": null,
      "grid_template_rows": null,
      "height": null,
      "justify_content": null,
      "justify_items": null,
      "left": null,
      "margin": null,
      "max_height": null,
      "max_width": null,
      "min_height": null,
      "min_width": null,
      "object_fit": null,
      "object_position": null,
      "order": null,
      "overflow": null,
      "overflow_x": null,
      "overflow_y": null,
      "padding": null,
      "right": null,
      "top": null,
      "visibility": null,
      "width": null
     }
    }
   }
  }
 },
 "nbformat": 4,
 "nbformat_minor": 4
}
