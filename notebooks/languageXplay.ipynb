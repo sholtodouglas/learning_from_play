{
  "nbformat": 4,
  "nbformat_minor": 0,
  "metadata": {
    "accelerator": "TPU",
    "colab": {
      "name": "LMP Test.ipynb",
      "provenance": [],
      "collapsed_sections": [
        "G84fGXVwv9Fh",
        "-yC0L1P3v9GA",
        "8SHQGBjnv9GK",
        "b7CMny5dv9Gx",
        "njbQpQAGv9G2"
      ],
      "machine_shape": "hm",
      "include_colab_link": true
    },
    "kernelspec": {
      "display_name": "Python 3",
      "language": "python",
      "name": "python3"
    },
    "language_info": {
      "codemirror_mode": {
        "name": "ipython",
        "version": 3
      },
      "file_extension": ".py",
      "mimetype": "text/x-python",
      "name": "python",
      "nbconvert_exporter": "python",
      "pygments_lexer": "ipython3",
      "version": "3.7.3"
    }
  },
  "cells": [
    {
      "cell_type": "markdown",
      "metadata": {
        "id": "view-in-github",
        "colab_type": "text"
      },
      "source": [
        "<a href=\"https://colab.research.google.com/github/sholtodouglas/learning_from_play/blob/actual_pre_training_refactor/notebooks/languageXplay.ipynb\" target=\"_parent\"><img src=\"https://colab.research.google.com/assets/colab-badge.svg\" alt=\"Open In Colab\"/></a>"
      ]
    },
    {
      "cell_type": "code",
      "metadata": {
        "id": "7jUYgZwpGfav",
        "colab": {
          "base_uri": "https://localhost:8080/"
        },
        "outputId": "f9ad7aea-cc01-4a78-f905-fb3dce744c60"
      },
      "source": [
        "!pip install wandb -q\r\n",
        "!pip install pathy -q"
      ],
      "execution_count": 1,
      "outputs": [
        {
          "output_type": "stream",
          "text": [
            "\u001b[K     |████████████████████████████████| 2.0MB 6.8MB/s \n",
            "\u001b[K     |████████████████████████████████| 133kB 23.8MB/s \n",
            "\u001b[K     |████████████████████████████████| 163kB 26.0MB/s \n",
            "\u001b[K     |████████████████████████████████| 102kB 9.2MB/s \n",
            "\u001b[K     |████████████████████████████████| 71kB 9.0MB/s \n",
            "\u001b[?25h  Building wheel for subprocess32 (setup.py) ... \u001b[?25l\u001b[?25hdone\n",
            "  Building wheel for pathtools (setup.py) ... \u001b[?25l\u001b[?25hdone\n",
            "\u001b[K     |████████████████████████████████| 122kB 8.0MB/s \n",
            "\u001b[?25h  Building wheel for smart-open (setup.py) ... \u001b[?25l\u001b[?25hdone\n"
          ],
          "name": "stdout"
        }
      ]
    },
    {
      "cell_type": "code",
      "metadata": {
        "colab": {
          "base_uri": "https://localhost:8080/"
        },
        "id": "z68MkXdDZaSZ",
        "outputId": "23728656-c848-40f0-9fe4-bbda7421cd1d"
      },
      "source": [
        "import argparse\r\n",
        "\r\n",
        "parser = argparse.ArgumentParser(description='LFP training arguments')\r\n",
        "parser.add_argument('run_name')\r\n",
        "parser.add_argument('--train_datasets', nargs='+', help='Training dataset names')\r\n",
        "parser.add_argument('--test_datasets', nargs='+', help='Testing dataset names')\r\n",
        "parser.add_argument('-c', '--colab', default=False, action='store_true', help='Enable if using colab environment')\r\n",
        "parser.add_argument('-s', '--data_source', default='DRIVE', help='Source of training data')\r\n",
        "parser.add_argument('-tfr', '--from_tfrecords', default=False, action='store_true', help='Enable if using tfrecords format')\r\n",
        "parser.add_argument('-d', '--device', default='TPU', help='Hardware device to train on')\r\n",
        "parser.add_argument('-b', '--batch_size', default=512, type=int)\r\n",
        "parser.add_argument('-la', '--actor_layer_size', default=2048, type=int, help='Layer size of actor, increases size of neural net')\r\n",
        "parser.add_argument('-le', '--encoder_layer_size', default=512, type=int, help='Layer size of encoder, increases size of neural net')\r\n",
        "parser.add_argument('-lp', '--planner_layer_size', default=512, type=int, help='Layer size of planner, increases size of neural net')\r\n",
        "parser.add_argument('-z', '--latent_dim', default=256, type=int, help='Size of the VAE latent space')\r\n",
        "parser.add_argument('-g', '--gcbc', default=False, action='store_true', help='Enables GCBC, a simpler model with no encoder/planner')\r\n",
        "parser.add_argument('-n', '--num_distribs', default=None, type=int, help='Number of distributions to use in logistic mixture model')\r\n",
        "parser.add_argument('-q', '--qbits', default=None, type=int, help='Number of quantisation bits to discrete distributions into. Total quantisations = 2**qbits')\r\n",
        "parser.add_argument('-lr', '--learning_rate', type=float, default=3e-4)\r\n",
        "parser.add_argument('-t', '--train_steps', type=int, default=100000)\r\n",
        "parser.add_argument('-r', '--resume', default=False, action='store_true')\r\n",
        "\r\n",
        "\r\n",
        "# args = parser.parse_args()\r\n",
        "\r\n",
        "### Sample local config\r\n",
        "args = parser.parse_args('''\r\n",
        "dummy_run \r\n",
        "--train_dataset UR5\r\n",
        "--test_dataset UR5\r\n",
        "-tfr\r\n",
        "'''.split())\r\n",
        "\r\n",
        "## Sample colab config\r\n",
        "args = parser.parse_args('''\r\n",
        "refactor_test\r\n",
        "--train_dataset UR5 UR5_slow_gripper UR5_high_transition\r\n",
        "--test_dataset UR5_slow_gripper_test\r\n",
        "-c\r\n",
        "-tfr\r\n",
        "-s GCS\r\n",
        "-d TPU\r\n",
        "-b 512\r\n",
        "-la 2048\r\n",
        "-le 512\r\n",
        "-lp 2048\r\n",
        "-z 256\r\n",
        "-lr 3e-4\r\n",
        "'''.split())\r\n",
        "\r\n",
        "## Sample colab config\r\n",
        "args = parser.parse_args('''\r\n",
        "reclass2_from_working\r\n",
        "--train_dataset UR5 UR5_slow_gripper UR5_high_transition\r\n",
        "--test_dataset UR5_slow_gripper_test\r\n",
        "-c\r\n",
        "-s DRIVE\r\n",
        "-d TPU\r\n",
        "-b 512\r\n",
        "-la 2048\r\n",
        "-le 512\r\n",
        "-lp 512\r\n",
        "-z 256\r\n",
        "-lr 3e-4\r\n",
        "'''.split())\r\n",
        "\r\n",
        "print(args)"
      ],
      "execution_count": 1,
      "outputs": [
        {
          "output_type": "stream",
          "text": [
            "Namespace(actor_layer_size=2048, batch_size=512, colab=True, data_source='DRIVE', device='TPU', encoder_layer_size=512, from_tfrecords=False, gcbc=False, latent_dim=256, learning_rate=0.0003, num_distribs=None, planner_layer_size=512, qbits=None, resume=False, run_name='reclass2_from_working', test_datasets=['UR5_slow_gripper_test'], train_datasets=['UR5', 'UR5_slow_gripper', 'UR5_high_transition'], train_steps=100000)\n"
          ],
          "name": "stdout"
        }
      ]
    },
    {
      "cell_type": "code",
      "metadata": {
        "id": "e9Tv7YJOgZB2"
      },
      "source": [
        ""
      ],
      "execution_count": 2,
      "outputs": []
    },
    {
      "cell_type": "code",
      "metadata": {
        "colab": {
          "base_uri": "https://localhost:8080/"
        },
        "id": "zMJ___6ARZ4u",
        "outputId": "f578917b-59b4-43e7-e601-f0e8e48aedf9"
      },
      "source": [
        "#@title Workpace Setup (Local vs Colab)\n",
        "from pathlib import Path\n",
        "import os\n",
        "\n",
        "# COLAB = False #@param {type:\"boolean\"}\n",
        "AUTH_GCS = False #@param {type:\"boolean\"}\n",
        "# DEVICE = \"CPU\" #@param [\"TPU\", \"GPU\", \"CPU\"]\n",
        "DATA_SOURCE = \"Google Drive\" #@param [\"Google Drive\", \"GCS\"]\n",
        "# TRAIN_DATASETS = [\"UR5\"]#,\"UR5_slow_gripper\",\"UR5_high_transition\"]\n",
        "# TEST_DATASET = \"UR5_slow_gripper_test\" #@param [\"UR5_slow_gripper_test\"]\n",
        "GCS_USER = \"sholto\" #@param [\"sholto\", \"tristan\"]\n",
        "\n",
        "if args.colab:\n",
        "    from google.colab import drive, auth\n",
        "    print('Using colab setup')\n",
        "    !git clone 'https://github.com/sholtodouglas/learning_from_play'\n",
        "    WORKING_PATH = Path('/content/learning_from_play')\n",
        "    drive.mount('/content/drive')\n",
        "    os.chdir(WORKING_PATH)\n",
        "    STORAGE_PATH = Path('/content/drive/My Drive/Robotic Learning')\n",
        "    print(f'Storage path: {STORAGE_PATH}')\n",
        "else:\n",
        "    print('Using local setup')\n",
        "    WORKING_PATH = Path().absolute().parent\n",
        "    print(f'Working path: {WORKING_PATH}')\n",
        "    os.chdir(WORKING_PATH)\n",
        "    STORAGE_PATH = WORKING_PATH\n",
        "    print(f'Storage path: {STORAGE_PATH}')\n",
        "\n",
        "TRAIN_DATA_PATHS = [STORAGE_PATH/'data'/x for x in args.train_datasets]\n",
        "TEST_DATA_PATHS = [STORAGE_PATH/'data'/x for x in args.test_datasets]"
      ],
      "execution_count": 5,
      "outputs": [
        {
          "output_type": "stream",
          "text": [
            "Using colab setup\n",
            "fatal: destination path 'learning_from_play' already exists and is not an empty directory.\n",
            "Drive already mounted at /content/drive; to attempt to forcibly remount, call drive.mount(\"/content/drive\", force_remount=True).\n",
            "Storage path: /content/drive/My Drive/Robotic Learning\n"
          ],
          "name": "stdout"
        }
      ]
    },
    {
      "cell_type": "markdown",
      "metadata": {
        "id": "EliqxOpPv9Dy"
      },
      "source": [
        "# Data Creation"
      ]
    },
    {
      "cell_type": "code",
      "metadata": {
        "colab": {
          "base_uri": "https://localhost:8080/"
        },
        "id": "6zbmq324x2yv",
        "outputId": "7c50c11e-d127-4719-b340-910b670c695d"
      },
      "source": [
        "import tensorflow as tf\n",
        "print(\"Tensorflow version \" + tf.__version__)\n",
        "\n",
        "if args.device == \"TPU\":\n",
        "    try:\n",
        "        tpu = tf.distribute.cluster_resolver.TPUClusterResolver()  # TPU detection\n",
        "        print('Running on TPU ', tpu.cluster_spec().as_dict()['worker'])\n",
        "    except ValueError:\n",
        "        raise BaseException('ERROR: Not connected to a TPU runtime; please see the previous cell in this notebook for instructions!')\n",
        "\n",
        "    tf.config.experimental_connect_to_cluster(tpu)\n",
        "    tf.tpu.experimental.initialize_tpu_system(tpu)\n",
        "    strategy = tf.distribute.TPUStrategy(tpu)\n",
        "\n",
        "    NUM_DEVICES = strategy.num_replicas_in_sync\n",
        "    print(\"REPLICAS: \", NUM_DEVICES)\n",
        "else:\n",
        "    physical_devices = tf.config.list_physical_devices()\n",
        "    if args.device == 'GPU':\n",
        "        tf.config.experimental.set_memory_growth(physical_devices[3], enable=True)\n",
        "    NUM_DEVICES = 1\n",
        "    print(physical_devices)"
      ],
      "execution_count": 6,
      "outputs": [
        {
          "output_type": "stream",
          "text": [
            "Tensorflow version 2.4.1\n",
            "Running on TPU  ['10.122.214.82:8470']\n",
            "WARNING:tensorflow:TPU system grpc://10.122.214.82:8470 has already been initialized. Reinitializing the TPU can cause previously created variables on TPU to be lost.\n"
          ],
          "name": "stdout"
        },
        {
          "output_type": "stream",
          "text": [
            "WARNING:tensorflow:TPU system grpc://10.122.214.82:8470 has already been initialized. Reinitializing the TPU can cause previously created variables on TPU to be lost.\n"
          ],
          "name": "stderr"
        },
        {
          "output_type": "stream",
          "text": [
            "INFO:tensorflow:Initializing the TPU system: grpc://10.122.214.82:8470\n"
          ],
          "name": "stdout"
        },
        {
          "output_type": "stream",
          "text": [
            "INFO:tensorflow:Initializing the TPU system: grpc://10.122.214.82:8470\n"
          ],
          "name": "stderr"
        },
        {
          "output_type": "stream",
          "text": [
            "INFO:tensorflow:Clearing out eager caches\n"
          ],
          "name": "stdout"
        },
        {
          "output_type": "stream",
          "text": [
            "INFO:tensorflow:Clearing out eager caches\n"
          ],
          "name": "stderr"
        },
        {
          "output_type": "stream",
          "text": [
            "INFO:tensorflow:Finished initializing TPU system.\n"
          ],
          "name": "stdout"
        },
        {
          "output_type": "stream",
          "text": [
            "INFO:tensorflow:Finished initializing TPU system.\n"
          ],
          "name": "stderr"
        },
        {
          "output_type": "stream",
          "text": [
            "INFO:tensorflow:Found TPU system:\n"
          ],
          "name": "stdout"
        },
        {
          "output_type": "stream",
          "text": [
            "INFO:tensorflow:Found TPU system:\n"
          ],
          "name": "stderr"
        },
        {
          "output_type": "stream",
          "text": [
            "INFO:tensorflow:*** Num TPU Cores: 8\n"
          ],
          "name": "stdout"
        },
        {
          "output_type": "stream",
          "text": [
            "INFO:tensorflow:*** Num TPU Cores: 8\n"
          ],
          "name": "stderr"
        },
        {
          "output_type": "stream",
          "text": [
            "INFO:tensorflow:*** Num TPU Workers: 1\n"
          ],
          "name": "stdout"
        },
        {
          "output_type": "stream",
          "text": [
            "INFO:tensorflow:*** Num TPU Workers: 1\n"
          ],
          "name": "stderr"
        },
        {
          "output_type": "stream",
          "text": [
            "INFO:tensorflow:*** Num TPU Cores Per Worker: 8\n"
          ],
          "name": "stdout"
        },
        {
          "output_type": "stream",
          "text": [
            "INFO:tensorflow:*** Num TPU Cores Per Worker: 8\n"
          ],
          "name": "stderr"
        },
        {
          "output_type": "stream",
          "text": [
            "INFO:tensorflow:*** Available Device: _DeviceAttributes(/job:localhost/replica:0/task:0/device:CPU:0, CPU, 0, 0)\n"
          ],
          "name": "stdout"
        },
        {
          "output_type": "stream",
          "text": [
            "INFO:tensorflow:*** Available Device: _DeviceAttributes(/job:localhost/replica:0/task:0/device:CPU:0, CPU, 0, 0)\n"
          ],
          "name": "stderr"
        },
        {
          "output_type": "stream",
          "text": [
            "INFO:tensorflow:*** Available Device: _DeviceAttributes(/job:worker/replica:0/task:0/device:CPU:0, CPU, 0, 0)\n"
          ],
          "name": "stdout"
        },
        {
          "output_type": "stream",
          "text": [
            "INFO:tensorflow:*** Available Device: _DeviceAttributes(/job:worker/replica:0/task:0/device:CPU:0, CPU, 0, 0)\n"
          ],
          "name": "stderr"
        },
        {
          "output_type": "stream",
          "text": [
            "INFO:tensorflow:*** Available Device: _DeviceAttributes(/job:worker/replica:0/task:0/device:TPU:0, TPU, 0, 0)\n"
          ],
          "name": "stdout"
        },
        {
          "output_type": "stream",
          "text": [
            "INFO:tensorflow:*** Available Device: _DeviceAttributes(/job:worker/replica:0/task:0/device:TPU:0, TPU, 0, 0)\n"
          ],
          "name": "stderr"
        },
        {
          "output_type": "stream",
          "text": [
            "INFO:tensorflow:*** Available Device: _DeviceAttributes(/job:worker/replica:0/task:0/device:TPU:1, TPU, 0, 0)\n"
          ],
          "name": "stdout"
        },
        {
          "output_type": "stream",
          "text": [
            "INFO:tensorflow:*** Available Device: _DeviceAttributes(/job:worker/replica:0/task:0/device:TPU:1, TPU, 0, 0)\n"
          ],
          "name": "stderr"
        },
        {
          "output_type": "stream",
          "text": [
            "INFO:tensorflow:*** Available Device: _DeviceAttributes(/job:worker/replica:0/task:0/device:TPU:2, TPU, 0, 0)\n"
          ],
          "name": "stdout"
        },
        {
          "output_type": "stream",
          "text": [
            "INFO:tensorflow:*** Available Device: _DeviceAttributes(/job:worker/replica:0/task:0/device:TPU:2, TPU, 0, 0)\n"
          ],
          "name": "stderr"
        },
        {
          "output_type": "stream",
          "text": [
            "INFO:tensorflow:*** Available Device: _DeviceAttributes(/job:worker/replica:0/task:0/device:TPU:3, TPU, 0, 0)\n"
          ],
          "name": "stdout"
        },
        {
          "output_type": "stream",
          "text": [
            "INFO:tensorflow:*** Available Device: _DeviceAttributes(/job:worker/replica:0/task:0/device:TPU:3, TPU, 0, 0)\n"
          ],
          "name": "stderr"
        },
        {
          "output_type": "stream",
          "text": [
            "INFO:tensorflow:*** Available Device: _DeviceAttributes(/job:worker/replica:0/task:0/device:TPU:4, TPU, 0, 0)\n"
          ],
          "name": "stdout"
        },
        {
          "output_type": "stream",
          "text": [
            "INFO:tensorflow:*** Available Device: _DeviceAttributes(/job:worker/replica:0/task:0/device:TPU:4, TPU, 0, 0)\n"
          ],
          "name": "stderr"
        },
        {
          "output_type": "stream",
          "text": [
            "INFO:tensorflow:*** Available Device: _DeviceAttributes(/job:worker/replica:0/task:0/device:TPU:5, TPU, 0, 0)\n"
          ],
          "name": "stdout"
        },
        {
          "output_type": "stream",
          "text": [
            "INFO:tensorflow:*** Available Device: _DeviceAttributes(/job:worker/replica:0/task:0/device:TPU:5, TPU, 0, 0)\n"
          ],
          "name": "stderr"
        },
        {
          "output_type": "stream",
          "text": [
            "INFO:tensorflow:*** Available Device: _DeviceAttributes(/job:worker/replica:0/task:0/device:TPU:6, TPU, 0, 0)\n"
          ],
          "name": "stdout"
        },
        {
          "output_type": "stream",
          "text": [
            "INFO:tensorflow:*** Available Device: _DeviceAttributes(/job:worker/replica:0/task:0/device:TPU:6, TPU, 0, 0)\n"
          ],
          "name": "stderr"
        },
        {
          "output_type": "stream",
          "text": [
            "INFO:tensorflow:*** Available Device: _DeviceAttributes(/job:worker/replica:0/task:0/device:TPU:7, TPU, 0, 0)\n"
          ],
          "name": "stdout"
        },
        {
          "output_type": "stream",
          "text": [
            "INFO:tensorflow:*** Available Device: _DeviceAttributes(/job:worker/replica:0/task:0/device:TPU:7, TPU, 0, 0)\n"
          ],
          "name": "stderr"
        },
        {
          "output_type": "stream",
          "text": [
            "INFO:tensorflow:*** Available Device: _DeviceAttributes(/job:worker/replica:0/task:0/device:TPU_SYSTEM:0, TPU_SYSTEM, 0, 0)\n"
          ],
          "name": "stdout"
        },
        {
          "output_type": "stream",
          "text": [
            "INFO:tensorflow:*** Available Device: _DeviceAttributes(/job:worker/replica:0/task:0/device:TPU_SYSTEM:0, TPU_SYSTEM, 0, 0)\n"
          ],
          "name": "stderr"
        },
        {
          "output_type": "stream",
          "text": [
            "INFO:tensorflow:*** Available Device: _DeviceAttributes(/job:worker/replica:0/task:0/device:XLA_CPU:0, XLA_CPU, 0, 0)\n"
          ],
          "name": "stdout"
        },
        {
          "output_type": "stream",
          "text": [
            "INFO:tensorflow:*** Available Device: _DeviceAttributes(/job:worker/replica:0/task:0/device:XLA_CPU:0, XLA_CPU, 0, 0)\n"
          ],
          "name": "stderr"
        },
        {
          "output_type": "stream",
          "text": [
            "REPLICAS:  8\n"
          ],
          "name": "stdout"
        }
      ]
    },
    {
      "cell_type": "markdown",
      "metadata": {
        "id": "yL0UZVa1v9D9",
        "pycharm": {
          "name": "#%% md\n"
        }
      },
      "source": [
        "# Dataset"
      ]
    },
    {
      "cell_type": "code",
      "metadata": {
        "id": "KF1m_wf3v9D-",
        "pycharm": {
          "name": "#%%\n"
        }
      },
      "source": [
        "import glob\n",
        "import numpy as np\n",
        "import tensorflow as tf\n",
        "import pickle\n",
        "import matplotlib.pyplot as plt\n",
        "import random\n",
        "import pickle\n",
        "import os\n",
        "from collections import Counter\n",
        "import random\n",
        "import datetime\n",
        "\n",
        "import lfp\n",
        "from natsort import natsorted"
      ],
      "execution_count": 7,
      "outputs": []
    },
    {
      "cell_type": "code",
      "metadata": {
        "colab": {
          "base_uri": "https://localhost:8080/"
        },
        "id": "1HejtDH_Yx8h",
        "outputId": "c6ddf467-3e01-42ff-adc2-68134cc25323"
      },
      "source": [
        "# Use this to edit modules without needing to restart the kernel\n",
        "!git pull\n",
        "import importlib\n",
        "importlib.reload(lfp.data)\n",
        "importlib.reload(lfp.model)\n",
        "importlib.reload(lfp.train)\n",
        "importlib.reload(lfp.metric)"
      ],
      "execution_count": 9,
      "outputs": [
        {
          "output_type": "stream",
          "text": [
            "Already up to date.\n"
          ],
          "name": "stdout"
        },
        {
          "output_type": "execute_result",
          "data": {
            "text/plain": [
              "<module 'lfp.metric' from '/content/learning_from_play/lfp/metric.py'>"
            ]
          },
          "metadata": {
            "tags": []
          },
          "execution_count": 9
        }
      ]
    },
    {
      "cell_type": "markdown",
      "metadata": {
        "id": "yUI6JP06FdTv"
      },
      "source": [
        "### Config Flags"
      ]
    },
    {
      "cell_type": "code",
      "metadata": {
        "id": "n2lBWIyOFdTv"
      },
      "source": [
        "GLOBAL_BATCH_SIZE = args.batch_size * NUM_DEVICES\n",
        "dl = lfp.data.PlayDataloader(batch_size=GLOBAL_BATCH_SIZE)"
      ],
      "execution_count": 10,
      "outputs": []
    },
    {
      "cell_type": "code",
      "metadata": {
        "colab": {
          "base_uri": "https://localhost:8080/"
        },
        "id": "Uiz4AXCnFdTv",
        "outputId": "41d5d2c8-4041-4cd6-f580-a2efa9bf5a9d"
      },
      "source": [
        "# Train data\n",
        "train_data = dl.extract(TRAIN_DATA_PATHS)\n",
        "train_dataset = dl.load(train_data)"
      ],
      "execution_count": 11,
      "outputs": [
        {
          "output_type": "stream",
          "text": [
            "UR5: 100%|██████████| 52/52 [00:00<00:00, 52.99it/s]\n",
            "UR5_slow_gripper: 100%|██████████| 23/23 [00:00<00:00, 51.33it/s]\n",
            "UR5_high_transition: 100%|██████████| 32/32 [00:00<00:00, 58.17it/s]\n"
          ],
          "name": "stderr"
        },
        {
          "output_type": "stream",
          "text": [
            "{   'acts': TensorSpec(shape=(4096, 50, 7), dtype=tf.float32, name=None),\n",
            "    'dataset_path': TensorSpec(shape=(4096, None, 1), dtype=tf.int32, name=None),\n",
            "    'goals': TensorSpec(shape=(4096, 50, 11), dtype=tf.float32, name=None),\n",
            "    'masks': TensorSpec(shape=(4096, 50), dtype=tf.float32, name=None),\n",
            "    'obs': TensorSpec(shape=(4096, 50, 18), dtype=tf.float32, name=None),\n",
            "    'seq_lens': TensorSpec(shape=(4096,), dtype=tf.float32, name=None),\n",
            "    'tstep_idxs': TensorSpec(shape=(4096, None, 1), dtype=tf.int32, name=None)}\n"
          ],
          "name": "stdout"
        }
      ]
    },
    {
      "cell_type": "code",
      "metadata": {
        "colab": {
          "base_uri": "https://localhost:8080/"
        },
        "id": "h8ZDAVpLFdTw",
        "outputId": "bb13c9c4-8f5d-4faa-add3-298cb74468bc"
      },
      "source": [
        "# Validation data\n",
        "valid_data = dl.extract(TEST_DATA_PATHS)\n",
        "valid_dataset = dl.load(valid_data)"
      ],
      "execution_count": 12,
      "outputs": [
        {
          "output_type": "stream",
          "text": [
            "UR5_slow_gripper_test: 100%|██████████| 2/2 [00:00<00:00, 46.28it/s]"
          ],
          "name": "stderr"
        },
        {
          "output_type": "stream",
          "text": [
            "{   'acts': TensorSpec(shape=(4096, 50, 7), dtype=tf.float32, name=None),\n",
            "    'dataset_path': TensorSpec(shape=(4096, None, 1), dtype=tf.int32, name=None),\n",
            "    'goals': TensorSpec(shape=(4096, 50, 11), dtype=tf.float32, name=None),\n",
            "    'masks': TensorSpec(shape=(4096, 50), dtype=tf.float32, name=None),\n",
            "    'obs': TensorSpec(shape=(4096, 50, 18), dtype=tf.float32, name=None),\n",
            "    'seq_lens': TensorSpec(shape=(4096,), dtype=tf.float32, name=None),\n",
            "    'tstep_idxs': TensorSpec(shape=(4096, None, 1), dtype=tf.int32, name=None)}\n"
          ],
          "name": "stdout"
        },
        {
          "output_type": "stream",
          "text": [
            "\n"
          ],
          "name": "stderr"
        }
      ]
    },
    {
      "cell_type": "markdown",
      "metadata": {
        "id": "nN3YJSSLv9Ez",
        "pycharm": {
          "name": "#%% md\n"
        }
      },
      "source": [
        "# Model"
      ]
    },
    {
      "cell_type": "markdown",
      "metadata": {
        "id": "TWIpRPRuv9E6",
        "pycharm": {
          "name": "#%% md\n"
        }
      },
      "source": [
        "# Training Loop"
      ]
    },
    {
      "cell_type": "code",
      "metadata": {
        "colab": {
          "base_uri": "https://localhost:8080/"
        },
        "id": "-3r_TDl7v9E7",
        "outputId": "9e5b4b5e-712b-4639-fc8a-440691161d73"
      },
      "source": [
        "from tensorflow.keras.losses import MeanSquaredError\n",
        "from tensorflow.keras.metrics import Accuracy\n",
        "from tensorflow.keras.optimizers import SGD, Adam\n",
        "from tensorflow.keras.utils import Progbar\n",
        "import tensorflow_addons as tfa\n",
        "import tensorflow_probability as tfp\n",
        "tfd = tfp.distributions\n",
        "\n",
        "import time\n",
        "import io\n",
        "import wandb\n",
        "wandb.login()"
      ],
      "execution_count": 13,
      "outputs": [
        {
          "output_type": "stream",
          "text": [
            "\u001b[34m\u001b[1mwandb\u001b[0m: Currently logged in as: \u001b[33msholto\u001b[0m (use `wandb login --relogin` to force relogin)\n"
          ],
          "name": "stderr"
        },
        {
          "output_type": "execute_result",
          "data": {
            "text/plain": [
              "True"
            ]
          },
          "metadata": {
            "tags": []
          },
          "execution_count": 13
        }
      ]
    },
    {
      "cell_type": "code",
      "metadata": {
        "id": "KqmqTTIrJgHc"
      },
      "source": [
        "\n",
        "# from lfp.train import LFPTrainer"
      ],
      "execution_count": 14,
      "outputs": []
    },
    {
      "cell_type": "code",
      "metadata": {
        "id": "nGI2_WYzqVll"
      },
      "source": [
        "from lfp.metric import MaxMetric, record, log, log_action_breakdown\r\n",
        "from lfp.utils import load_weights, load_optimizer_state\r\n",
        "import json\r\n",
        "\r\n",
        "\r\n",
        "class LFPTrainer():\r\n",
        "\r\n",
        "  def __init__(self, actor, encoder, planner, optimizer, strategy, args, dl):\r\n",
        "\r\n",
        "    self.actor = actor\r\n",
        "    self.encoder = encoder\r\n",
        "    self.planner = planner\r\n",
        "    self.optimizer = optimizer\r\n",
        "    self.strategy = strategy \r\n",
        "    self.args = args\r\n",
        "    self.dl = dl\r\n",
        "    self.nll_action_loss = lambda y, p_y: tf.reduce_sum(-p_y.log_prob(y), axis=2)\r\n",
        "    self.mae_action_loss = tf.keras.losses.MeanAbsoluteError(reduction=tf.keras.losses.Reduction.NONE)\r\n",
        "    self.mse_action_loss = tf.keras.losses.MeanSquaredError(reduction=tf.keras.losses.Reduction.NONE)\r\n",
        "\r\n",
        "    self.metrics = {}\r\n",
        "    self.metrics['train_loss'] = tf.keras.metrics.Mean(name='train_loss')\r\n",
        "    self.metrics['valid_loss'] = tf.keras.metrics.Mean(name='valid_loss')\r\n",
        "    self.metrics['actor_grad_norm'] = tf.keras.metrics.Mean(name='actor_grad_norm')\r\n",
        "    self.metrics['encoder_grad_norm'] = tf.keras.metrics.Mean(name='encoder_grad_norm')\r\n",
        "    self.metrics['planner_grad_norm'] = tf.keras.metrics.Mean(name='planner_grad_norm')\r\n",
        "\r\n",
        "    self.metrics['actor_grad_norm_clipped'] = tf.keras.metrics.Mean(name='actor_grad_norm_clipped')\r\n",
        "    self.metrics['encoder_grad_norm_clipped'] = tf.keras.metrics.Mean(name='encoder_grad_norm_clipped')\r\n",
        "    self.metrics['planner_grad_norm_clipped'] = tf.keras.metrics.Mean(name='planner_grad_norm_clipped')\r\n",
        "\r\n",
        "    self.metrics['global_grad_norm'] = tf.keras.metrics.Mean(name='global_grad_norm')\r\n",
        "\r\n",
        "    self.metrics['test'] = tf.keras.metrics.Mean(name='test') # Utility metrics for quick tests\r\n",
        "    self.metrics['test2'] = tf.keras.metrics.Mean(name='test2')\r\n",
        "\r\n",
        "    self.metrics['train_act_with_enc_loss'] = tf.keras.metrics.Mean(name='train_act_with_enc_loss')\r\n",
        "    self.metrics['train_act_with_plan_loss'] = tf.keras.metrics.Mean(name='train_act_with_plan_loss')\r\n",
        "    self.metrics['valid_act_with_enc_loss'] = tf.keras.metrics.Mean(name='valid_act_with_enc_loss')\r\n",
        "    self.metrics['valid_act_with_plan_loss'] = tf.keras.metrics.Mean(name='valid_act_with_plan_loss')\r\n",
        "\r\n",
        "    self.metrics['train_reg_loss'] = tf.keras.metrics.Mean(name='reg_loss')\r\n",
        "    self.metrics['valid_reg_loss'] = tf.keras.metrics.Mean(name='valid_reg_loss')\r\n",
        "\r\n",
        "    self.metrics['valid_position_loss'] = tf.keras.metrics.Mean(name='valid_position_loss')\r\n",
        "    self.metrics['valid_max_position_loss'] = MaxMetric(name='valid_max_position_loss')\r\n",
        "    self.metrics['valid_rotation_loss'] = tf.keras.metrics.Mean(name='valid_rotation_loss')\r\n",
        "    self.metrics['valid_max_rotation_loss'] = MaxMetric(name='valid_max_rotation_loss')\r\n",
        "    self.metrics['valid_gripper_loss'] = tf.keras.metrics.Mean(name='valid_rotation_loss')\r\n",
        "\r\n",
        "  def compute_loss(self, labels, predictions, mask, seq_lens, weightings=None):\r\n",
        "      if self.args.num_distribs is not None:\r\n",
        "          per_example_loss = self.nll_action_loss(labels, predictions) * mask\r\n",
        "      else:\r\n",
        "          per_example_loss = self.mae_action_loss(labels, predictions) * mask\r\n",
        "\r\n",
        "      per_example_loss = tf.reduce_sum(per_example_loss, axis=1) / seq_lens  # take mean along the timestep\r\n",
        "      return tf.nn.compute_average_loss(per_example_loss, global_batch_size=self.dl.batch_size )\r\n",
        "\r\n",
        "\r\n",
        "  def compute_MAE(self, labels, predictions, mask, seq_lens, weightings=None):\r\n",
        "      per_example_loss = self.mae_action_loss(labels, predictions) * mask\r\n",
        "      per_example_loss = tf.reduce_sum(per_example_loss, axis=1) / seq_lens  # take mean along the timestep\r\n",
        "      return tf.nn.compute_average_loss(per_example_loss, global_batch_size=self.dl.batch_size )\r\n",
        "\r\n",
        "\r\n",
        "  def compute_regularisation_loss(self, plan, encoding):\r\n",
        "      # Reverse KL(enc|plan): we want planner to map to encoder (weighted by encoder)\r\n",
        "      reg_loss = tfd.kl_divergence(encoding, plan)  # + KL(plan, encoding)\r\n",
        "      return tf.nn.compute_average_loss(reg_loss, global_batch_size=self.dl.batch_size )\r\n",
        "\r\n",
        "\r\n",
        "  def train_step(self, inputs, beta, prev_global_grad_norm):\r\n",
        "      with tf.GradientTape() as actor_tape, tf.GradientTape() as encoder_tape, tf.GradientTape() as planner_tape:  # separate tapes to simplify grad_norm logging and clipping for stability\r\n",
        "          # Todo: figure out mask and seq_lens for new dataset \r\n",
        "          states, actions, goals, seq_lens, mask = inputs['obs'], inputs['acts'], inputs['goals'], inputs['seq_lens'], \\\r\n",
        "                                                  inputs['masks']\r\n",
        "\r\n",
        "          if self.args.gcbc:\r\n",
        "              distrib = self.actor([states, goals])\r\n",
        "              loss = self.compute_loss(actions, distrib, mask, seq_lens)\r\n",
        "              gradients = tape.gradient(loss, self.actor.trainable_variables)\r\n",
        "              optimizer.apply_gradients(zip(gradients, self.actor.trainable_variables))\r\n",
        "          else:\r\n",
        "              encoding = self.encoder([states, actions])\r\n",
        "              plan = self.planner([states[:, 0, :], goals[:, 0,:]])  # the final goals are tiled out over the entire non masked sequence, so the first timestep is the final goal. \r\n",
        "              z_enc = encoding.sample()\r\n",
        "              z_plan = plan.sample()\r\n",
        "              z_enc_tiled = tf.tile(tf.expand_dims(z_enc, 1), (1, dl.window_size, 1))\r\n",
        "              z_plan_tiled = tf.tile(tf.expand_dims(z_plan, 1), (1, dl.window_size, 1))\r\n",
        "\r\n",
        "              enc_policy = self.actor([states, z_enc_tiled, goals])\r\n",
        "              plan_policy = self.actor([states, z_plan_tiled, goals])\r\n",
        "\r\n",
        "              act_enc_loss = record(self.compute_loss(actions, enc_policy, mask, seq_lens), self.metrics['train_act_with_enc_loss'])\r\n",
        "              act_plan_loss = record(self.compute_loss(actions, plan_policy, mask, seq_lens), self.metrics['train_act_with_plan_loss'])\r\n",
        "              reg_loss = record(self.compute_regularisation_loss(plan, encoding), self.metrics['train_reg_loss'])\r\n",
        "              loss = act_enc_loss + reg_loss * beta\r\n",
        "\r\n",
        "              actor_gradients = actor_tape.gradient(loss, self.actor.trainable_variables)\r\n",
        "              encoder_gradients = encoder_tape.gradient(loss, self.encoder.trainable_variables)\r\n",
        "              planner_gradients = planner_tape.gradient(loss, self.planner.trainable_variables)\r\n",
        "\r\n",
        "              actor_norm = record(tf.linalg.global_norm(actor_gradients), self.metrics['actor_grad_norm'])\r\n",
        "              encoder_norm = record(tf.linalg.global_norm(encoder_gradients), self.metrics['encoder_grad_norm'])\r\n",
        "              planner_norm = record(tf.linalg.global_norm(planner_gradients), self.metrics['planner_grad_norm'])\r\n",
        "\r\n",
        "              gradients = actor_gradients + encoder_gradients+planner_gradients\r\n",
        "\r\n",
        "              # if the gradient norm is more than 3x the previous one, clip it to the previous norm for stability\r\n",
        "              gradients = tf.cond(tf.linalg.global_norm(gradients) > 3 * prev_global_grad_norm,\r\n",
        "                                  lambda: tf.clip_by_global_norm(gradients, prev_global_grad_norm)[0],\r\n",
        "                                  lambda: gradients)  # must get[0] as it returns new norm as [1]\r\n",
        "\r\n",
        "              planner_gradients = [g * 10 for g in planner_gradients]\r\n",
        "\r\n",
        "              actor_norm_clipped = record(tf.linalg.global_norm(actor_gradients), self.metrics['actor_grad_norm_clipped'])\r\n",
        "              encoder_norm_clipped = record(tf.linalg.global_norm(encoder_gradients), self.metrics['encoder_grad_norm_clipped'])\r\n",
        "              planner_norm_clipped = record(tf.linalg.global_norm(planner_gradients), self.metrics['planner_grad_norm_clipped'])\r\n",
        "\r\n",
        "              record(tf.linalg.global_norm(gradients), self.metrics['global_grad_norm'])\r\n",
        "\r\n",
        "              self.optimizer.apply_gradients(zip(gradients,\r\n",
        "                                            self.actor.trainable_variables + self.encoder.trainable_variables + self.planner.trainable_variables))\r\n",
        "\r\n",
        "\r\n",
        "      return record(loss, self.metrics['train_loss'])\r\n",
        "\r\n",
        "\r\n",
        "  def test_step(self,inputs, beta):\r\n",
        "      states, actions, goals, seq_lens, mask = inputs['obs'], inputs['acts'], inputs['goals'], inputs['seq_lens'], inputs['masks']\r\n",
        "\r\n",
        "      if  self.args.gcbc:\r\n",
        "          policy = self.actor([states, goals], training=False)\r\n",
        "          loss = self.compute_loss(actions, policy, mask, seq_lens)\r\n",
        "          log_action_breakdown(policy, actions, mask, seq_lens, self.args, dl.quaternion_act, self.valid_position_loss, self.valid_max_position_loss, \\\r\n",
        "                              self.valid_rotation_loss, self.valid_max_rotation_loss, self.valid_gripper_loss, self.compute_MAE)\r\n",
        "      else:\r\n",
        "          encoding = self.encoder([states, actions])\r\n",
        "          plan = self.planner([states[:, 0, :], goals[:, 0,:]])  # the final goals are tiled out over the entire non masked sequence, so the first timestep is the final goal. \r\n",
        "          z_enc = encoding.sample()\r\n",
        "          z_plan = plan.sample()\r\n",
        "          z_enc_tiled = tf.tile(tf.expand_dims(z_enc, 1), (1, dl.window_size, 1))\r\n",
        "          z_plan_tiled = tf.tile(tf.expand_dims(z_plan, 1), (1, dl.window_size, 1))\r\n",
        "          enc_policy = self.actor([states, z_enc_tiled, goals])\r\n",
        "          plan_policy = self.actor([states, z_plan_tiled, goals])\r\n",
        "          act_enc_loss = record(self.compute_loss(actions, enc_policy, mask, seq_lens), self.metrics['valid_act_with_enc_loss'])\r\n",
        "          act_plan_loss = record(self.compute_loss(actions, plan_policy, mask, seq_lens), self.metrics['valid_act_with_plan_loss'])\r\n",
        "          reg_loss = record(self.compute_regularisation_loss(plan, encoding), self.metrics['valid_reg_loss'])\r\n",
        "          loss = act_plan_loss + reg_loss * beta\r\n",
        "          log_action_breakdown(plan_policy, actions, mask, seq_lens, self.args.num_distribs is not None, dl.quaternion_act, self.metrics['valid_position_loss'], \\\r\n",
        "                              self.metrics['valid_max_position_loss'], self.metrics['valid_rotation_loss'], self.metrics['valid_max_rotation_loss'], self.metrics['valid_gripper_loss'], self.compute_MAE)\r\n",
        "      if self.args.gcbc:\r\n",
        "          return record(loss, self.metrics['valid_loss'])\r\n",
        "      else:\r\n",
        "          return record(loss,self.metrics['valid_loss']), z_enc, z_plan\r\n",
        "\r\n",
        "\r\n",
        "  @tf.function\r\n",
        "  def distributed_train_step(self,dataset_inputs, beta, prev_global_grad_norm):\r\n",
        "      per_replica_losses = strategy.run(self.train_step, args=(dataset_inputs, beta, prev_global_grad_norm))\r\n",
        "      return strategy.reduce(tf.distribute.ReduceOp.MEAN, per_replica_losses, axis=None)\r\n",
        "\r\n",
        "\r\n",
        "  @tf.function\r\n",
        "  def distributed_test_step(self,dataset_inputs, beta):\r\n",
        "      if self.args.gcbc:\r\n",
        "          per_replica_losses = strategy.run(self.test_step, args=(dataset_inputs, beta))\r\n",
        "          return strategy.reduce(tf.distribute.ReduceOp.MEAN, per_replica_losses, axis=None)\r\n",
        "      else:\r\n",
        "          per_replica_losses, ze, zp = strategy.run(self.test_step, args=(dataset_inputs, beta))\r\n",
        "          return strategy.reduce(tf.distribute.ReduceOp.MEAN, per_replica_losses, axis=None), ze.values[0], zp.values[0]\r\n",
        "\r\n",
        "\r\n",
        "  def save_weights(self, path, run_id=None, step=\"\"):\r\n",
        "        os.makedirs(path, exist_ok=True)\r\n",
        "\r\n",
        "        # Save the config as json\r\n",
        "        print('Saving training config...')\r\n",
        "        with open(f'{path}/config.json', 'w') as f:\r\n",
        "            d = vars(self.args)\r\n",
        "            d['run_id'] = run_id\r\n",
        "            d['relative_act'] = self.dl.relative_act\r\n",
        "            d['joints'] = self.dl.joints\r\n",
        "            d['quaternion_act'] = self.dl.quaternion_act\r\n",
        "            json.dump(d, f)\r\n",
        "\r\n",
        "        self.actor.save_weights(f'{path}/actor.h5')\r\n",
        "        if not self.args.gcbc:\r\n",
        "            self.encoder.save_weights(f'{path}/encoder.h5')\r\n",
        "            self.planner.save_weights(f'{path}/planner.h5')\r\n",
        "\r\n",
        "        os.makedirs(path+'/optimizers', exist_ok=True)\r\n",
        "        np.save(f'{path}/optimizers/optimizer.npy', optimizer.get_weights(), allow_pickle=True)\r\n",
        "\r\n",
        "\r\n",
        "  def load_weights(self, path, with_optimizer=False, step=\"\"):\r\n",
        "      # IMO better to load timestepped version from subfolders - Todo\r\n",
        "      self.actor.load_weights(f'{path}/actor.h5')\r\n",
        "      if not self.args.gcbc:\r\n",
        "          self.encoder.load_weights(f'{path}/encoder.h5')\r\n",
        "          self.planner.load_weights(f'{path}/planner.h5')\r\n",
        "          \r\n",
        "      if with_optimizer:\r\n",
        "          #self.load_optimizer_state(self.actor_optimizer, f'{path}/optimizers/actor_optimizer.npy', self.actor.trainable_variables)\r\n",
        "          self.load_optimizer_state(self.optimizer, f'{path}/optimizers/optimizer.npy', self.actor.trainable_variables+self.encoder.trainable_variables+self.planner.trainable_variables)\r\n",
        "          # if not self.gcbc:\r\n",
        "          #     self.load_optimizer_state(self.encoder_optimizer, f'{path}/optimizers/encoder_optimizer.npy', self.encoder.trainable_variables)\r\n",
        "          #     self.load_optimizer_state(self.planner_optimizer, f'{path}/optimizers/planner_optimizer.npy', self.planner.trainable_variables)\r\n",
        "\r\n",
        "\r\n",
        "  def load_optimizer_state(self, optimizer, load_path, trainable_variables):\r\n",
        "      def optimizer_step():\r\n",
        "          # need to do this to initialize the optimiser\r\n",
        "          # dummy zero gradients\r\n",
        "          zero_grads = [tf.zeros_like(w) for w in trainable_variables]\r\n",
        "          # save current state of variables\r\n",
        "          saved_vars = [tf.identity(w) for w in trainable_variables]\r\n",
        "\r\n",
        "          # Apply gradients which don't do anything\r\n",
        "          optimizer.apply_gradients(zip(zero_grads, trainable_variables))\r\n",
        "\r\n",
        "          # Reload variables\r\n",
        "          [x.assign(y) for x, y in zip(trainable_variables, saved_vars)]\r\n",
        "          return 0.0\r\n",
        "\r\n",
        "      @tf.function\r\n",
        "      def distributed_opt_step():\r\n",
        "          '''\r\n",
        "          Only used for optimizer checkpointing - we need to run a pass to initialise all the optimizer weights. Can't use restore as colab TPUs don't have a local filesystem.\r\n",
        "          '''\r\n",
        "          per_replica_losses = self.strategy.run(optimizer_step, args=())\r\n",
        "          return self.strategy.reduce(tf.distribute.ReduceOp.MEAN, per_replica_losses, axis=None)\r\n",
        "\r\n",
        "      # Load optimizer weights\r\n",
        "      opt_weights = np.load(load_path, allow_pickle=True)\r\n",
        "\r\n",
        "      # init the optimiser\r\n",
        "      distributed_opt_step()\r\n",
        "      # Set the weights of the optimizer\r\n",
        "      optimizer.set_weights(opt_weights)\r\n",
        "\r\n"
      ],
      "execution_count": 15,
      "outputs": []
    },
    {
      "cell_type": "code",
      "metadata": {
        "id": "2uMXBjGzgZCA"
      },
      "source": [
        "def train_setup():\n",
        "    model_params = {'obs_dim':dl.obs_dim,\n",
        "                'goal_dim':dl.goal_dim,\n",
        "                'act_dim':dl.act_dim,\n",
        "                'layer_size':args.actor_layer_size, \n",
        "                'latent_dim':args.latent_dim}\n",
        "    \n",
        "    actor = lfp.model.create_actor(**model_params, gcbc=args.gcbc, num_distribs=args.num_distribs)\n",
        "\n",
        "    if args.gcbc:\n",
        "        encoder = None\n",
        "        planner = None\n",
        "    else:\n",
        "        model_params['layer_size'] = args.encoder_layer_size\n",
        "        encoder = lfp.model.create_encoder(**model_params)\n",
        "        model_params['layer_size'] = args.planner_layer_size\n",
        "        planner = lfp.model.create_planner(**model_params)\n",
        "\n",
        "    optimizer = tf.optimizers.Adam(learning_rate=args.learning_rate)\n",
        "    trainable_variables = actor.trainable_variables + encoder.trainable_variables + planner.trainable_variables\n",
        "    return actor, encoder, planner, optimizer, trainable_variables\n",
        "\n",
        "if args.device=='CPU':\n",
        "    actor, encoder, planner, optimizer, trainable_variables = train_setup()\n",
        "else:\n",
        "    with strategy.scope():\n",
        "        actor, encoder, planner, optimizer, trainable_variables = train_setup()\n",
        "        trainer= LFPTrainer(actor, encoder, planner, optimizer, strategy, args, dl)\n",
        "        \n",
        "train_dist_dataset = iter(strategy.experimental_distribute_dataset(train_dataset))\n",
        "valid_dist_dataset = iter(strategy.experimental_distribute_dataset(valid_dataset))"
      ],
      "execution_count": 16,
      "outputs": []
    },
    {
      "cell_type": "code",
      "metadata": {
        "colab": {
          "base_uri": "https://localhost:8080/",
          "height": 289
        },
        "id": "xtSlIEoBlDyp",
        "outputId": "d3e62ace-e4d2-45ec-adad-0d158bdec32c"
      },
      "source": [
        "from lfp.train import BetaScheduler\n",
        "\n",
        "TRAIN_STEPS = 200000\n",
        "# 0.00001 so far works best for MAE - try lower - 0.00003 with a BETA accel of 10 so far works best, perfect encoder, nicely mapped planner\n",
        "# recall 0.01 worked okay for probabilistic - proba still too unstable!\n",
        "beta_sched = BetaScheduler('linear', \n",
        "                           beta=0.00003, \n",
        "                           beta_max=0.00003, \n",
        "                           max_steps=TRAIN_STEPS, \n",
        "                           cycles=90, \n",
        "                           duty_cycle=0.5\n",
        "                           )"
      ],
      "execution_count": 17,
      "outputs": [
        {
          "output_type": "display_data",
          "data": {
            "image/png": "[encoded data removed]",
            "text/plain": [
              "<Figure size 432x288 with 1 Axes>"
            ]
          },
          "metadata": {
            "tags": [],
            "needs_background": "light"
          }
        }
      ]
    },
    {
      "cell_type": "code",
      "metadata": {
        "id": "rhSGD_2imWDi"
      },
      "source": [
        "progbar = Progbar(TRAIN_STEPS, verbose=1, interval=0.5)\n",
        "best_valid_loss = np.float('inf')\n",
        "\n",
        "valid_inc = 20\n",
        "save_inc = 1000\n",
        "\n",
        "prev_grad_norm = np.float('inf')"
      ],
      "execution_count": 18,
      "outputs": []
    },
    {
      "cell_type": "code",
      "metadata": {
        "colab": {
          "base_uri": "https://localhost:8080/",
          "height": 117
        },
        "id": "oTyriZrYowMJ",
        "outputId": "a104f258-a58f-4375-fff3-13ef38d0ab67"
      },
      "source": [
        "run_name = args.run_name#\"ALLB0.00003\"\n",
        "model_path = f'/content/drive/My Drive/Robotic Learning/saved_models/{run_name}/'\n",
        "\n",
        "if args.resume:\n",
        "  run_id = str(np.load(model_path+'hyper_params.npz')['run_id'])\n",
        "  wandb.init(project=\"learning-from-play_v2\", id='12621l2h',  resume=\"must\")\n",
        "  load_weights(model_path, actor, encoder, planner)\n",
        "  load_optimizer_state(optimizer, model_path, strategy)\n",
        "  print('Loaded model weights and optimiser state')\n",
        "  t = wandb.run.step + valid_inc\n",
        "else:\n",
        "  wandb.init(project=\"learning-from-play_v2\")\n",
        "  wandb.run.name = run_name\n",
        "  t = 0\n"
      ],
      "execution_count": 19,
      "outputs": [
        {
          "output_type": "display_data",
          "data": {
            "text/html": [
              "\n",
              "                Tracking run with wandb version 0.10.17<br/>\n",
              "                Syncing run <strong style=\"color:#cdcd00\">smart-puddle-147</strong> to <a href=\"https://wandb.ai\" target=\"_blank\">Weights & Biases</a> <a href=\"https://docs.wandb.com/integrations/jupyter.html\" target=\"_blank\">(Documentation)</a>.<br/>\n",
              "                Project page: <a href=\"https://wandb.ai/sholto/learning-from-play_v2\" target=\"_blank\">https://wandb.ai/sholto/learning-from-play_v2</a><br/>\n",
              "                Run page: <a href=\"https://wandb.ai/sholto/learning-from-play_v2/runs/1o30oub9\" target=\"_blank\">https://wandb.ai/sholto/learning-from-play_v2/runs/1o30oub9</a><br/>\n",
              "                Run data is saved locally in <code>/content/learning_from_play/wandb/run-20210205_153156-1o30oub9</code><br/><br/>\n",
              "            "
            ],
            "text/plain": [
              "<IPython.core.display.HTML object>"
            ]
          },
          "metadata": {
            "tags": []
          }
        }
      ]
    },
    {
      "cell_type": "code",
      "metadata": {
        "id": "xjnc22FOGae1"
      },
      "source": [
        "from lfp.plotting import produce_cluster_fig, project_enc_and_plan, plot_to_image\n",
        "v_it = iter(valid_dataset) #for the cluster fig, easier with a non distributed dataset\n"
      ],
      "execution_count": 20,
      "outputs": []
    },
    {
      "cell_type": "code",
      "metadata": {
        "id": "IXF0Y8aKrsng"
      },
      "source": [
        "while t < TRAIN_STEPS:\n",
        "    start_time = time.time()\n",
        "    beta = beta_sched.scheduler(t)\n",
        "    x = next(train_dist_dataset)\n",
        "    total_train_loss = trainer.distributed_train_step(x, beta, prev_grad_norm)\n",
        "    \n",
        "    if t % valid_inc == 0:  \n",
        "        valid_x = next(valid_dist_dataset)\n",
        "        if args.gcbc:\n",
        "          total_val_loss = trainer.distributed_test_step(valid_x, beta)\n",
        "        else:\n",
        "          total_val_loss, ze, zp = trainer.distributed_test_step(valid_x, beta)\n",
        "\n",
        "        # validation plotting\n",
        "        metrics = {metric_name: log(metric) for metric_name, metric in trainer.metrics.items()}\n",
        "\n",
        "        # validation plotting\n",
        "        progbar.add(valid_inc, [('Train Loss', metrics['train_loss']), \n",
        "                                ('Validation Loss', metrics['valid_loss']), \n",
        "                                ('Time (s)', round(time.time() - start_time, 1))])\n",
        "\n",
        "        wandb.log(metrics, step=t)\n",
        "\n",
        "        prev_grad_norm = metrics['global_grad_norm']\n",
        "          \n",
        "    if t % save_inc == 0:\n",
        "        trainer.save_weights(model_path, wandb.run.id)\n",
        "        if not args.gcbc:\n",
        "          z_enc, z_plan = produce_cluster_fig(next(v_it), encoder, planner, TEST_DATA_PATHS[0], num_take=dl.batch_size//4)\n",
        "          wandb.log({'z_enc':z_enc, 'z_plan':z_plan}, step=t)\n",
        "          #latent_fig = project_enc_and_plan(ze, zp)\n",
        "          #latent_img = plot_to_image(latent_fig)\n",
        "\n",
        "    t += 1"
      ],
      "execution_count": null,
      "outputs": []
    },
    {
      "cell_type": "code",
      "metadata": {
        "id": "_KTGRzwhfhMR",
        "colab": {
          "base_uri": "https://localhost:8080/"
        },
        "outputId": "3dbd2d4c-ad69-4ca4-968e-04a246f4ae21"
      },
      "source": [
        "!git status"
      ],
      "execution_count": null,
      "outputs": [
        {
          "output_type": "stream",
          "text": [
            "On branch master\n",
            "Your branch is up to date with 'origin/master'.\n",
            "\n",
            "Untracked files:\n",
            "  (use \"git add <file>...\" to include in what will be committed)\n",
            "\n",
            "\t\u001b[31mlearning_from_play/\u001b[m\n",
            "\t\u001b[31mwandb/\u001b[m\n",
            "\n",
            "nothing added to commit but untracked files present (use \"git add\" to track)\n"
          ],
          "name": "stdout"
        }
      ]
    },
    {
      "cell_type": "code",
      "metadata": {
        "id": "rGRb8oRYghUN"
      },
      "source": [
        ""
      ],
      "execution_count": null,
      "outputs": []
    }
  ]
}