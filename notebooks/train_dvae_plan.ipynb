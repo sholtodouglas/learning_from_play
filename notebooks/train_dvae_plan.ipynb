{
 "metadata": {
  "language_info": {
   "codemirror_mode": {
    "name": "ipython",
    "version": 3
   },
   "file_extension": ".py",
   "mimetype": "text/x-python",
   "name": "python",
   "nbconvert_exporter": "python",
   "pygments_lexer": "ipython3",
   "version": "3.7.10-final"
  },
  "orig_nbformat": 2,
  "kernelspec": {
   "name": "python3",
   "display_name": "Python 3.7.10 64-bit",
   "metadata": {
    "interpreter": {
     "hash": "31f2aee4e71d21fbe5cf8b01ff0e069b9275f58929596ceb00d14d90e3e16cd6"
    }
   }
  }
 },
 "nbformat": 4,
 "nbformat_minor": 2,
 "cells": [
  {
   "cell_type": "code",
   "execution_count": 1,
   "metadata": {},
   "outputs": [],
   "source": [
    "# This will cause all modules to the reloaded everytime a cell is run. This is useful for reloading the modules\n",
    "# you are working on in VSCode. \n",
    "# Note that any pre-existing objects will not be changed even if their source code changes\n",
    "%load_ext autoreload\n",
    "%autoreload 2"
   ]
  },
  {
   "cell_type": "code",
   "execution_count": 2,
   "metadata": {},
   "outputs": [
    {
     "output_type": "stream",
     "name": "stdout",
     "text": [
      "No pybullet installation found - which is fine if training\n"
     ]
    }
   ],
   "source": [
    "# Enables imports from lfp repo\n",
    "import sys; import os\n",
    "sys.path.append('/content/learning_from_play')\n",
    "\n",
    "from preparer import *"
   ]
  },
  {
   "cell_type": "code",
   "execution_count": 3,
   "metadata": {},
   "outputs": [],
   "source": [
    "prep = Preparer()"
   ]
  },
  {
   "cell_type": "code",
   "execution_count": 4,
   "metadata": {},
   "outputs": [
    {
     "output_type": "stream",
     "name": "stdout",
     "text": [
      "Namespace(actor_layer_size=512, batch_size=128, beta=0.0, bucket_name=None, colab=True, data_source='DRIVE', device='GPU', encoder_layer_size=128, fp16=False, from_tfrecords=False, gcbc=False, images=False, img_embedding_size=64, latent_dim=64, learning_rate=0.0003, num_distribs=None, planner_layer_size=128, qbits=None, resume=False, run_name='dvae_test', test_datasets=['UR5_slow_gripper_test'], tpu_name=None, train_datasets=['UR5_slow_gripper'], train_steps=200000, window_size_max=50, window_size_min=20)\n"
     ]
    }
   ],
   "source": [
    "# prep.args = PrepArgs('''\n",
    "# fit_test\n",
    "# --train_dataset UR5 UR5_slow_gripper UR5_high_transition\n",
    "# --test_dataset UR5_slow_gripper_test\n",
    "# -c\n",
    "# -s DRIVE\n",
    "# -d TPU\n",
    "# -b 512\n",
    "# -la 2048\n",
    "# -le 512\n",
    "# -lp 512\n",
    "# -z 256\n",
    "# -lr 3e-4\n",
    "# -B 0.00003\n",
    "# '''\n",
    "# )\n",
    "prep.args = PrepArgs('''\n",
    "dvae_test\n",
    "--train_dataset UR5_slow_gripper\n",
    "--test_dataset UR5_slow_gripper_test\n",
    "-c\n",
    "-s DRIVE\n",
    "-d GPU\n",
    "-b 128\n",
    "-la 512\n",
    "-le 128\n",
    "-lp 128\n",
    "-z 64\n",
    "-lr 3e-4\n",
    "-B 0.0\n",
    "'''\n",
    ")\n",
    "\n",
    "print(prep.args)"
   ]
  },
  {
   "cell_type": "code",
   "execution_count": 5,
   "metadata": {},
   "outputs": [
    {
     "output_type": "stream",
     "name": "stderr",
     "text": [
      "Failed to detect the name of this notebook, you can set it manually with the WANDB_NOTEBOOK_NAME environment variable to enable code saving.\n",
      "\u001b[34m\u001b[1mwandb\u001b[0m: Currently logged in as: \u001b[33mtristanheywood\u001b[0m (use `wandb login --relogin` to force relogin)\n"
     ]
    },
    {
     "output_type": "display_data",
     "data": {
      "text/plain": "<IPython.core.display.HTML object>",
      "text/html": "\n                Tracking run with wandb version 0.10.22<br/>\n                Syncing run <strong style=\"color:#cdcd00\">graceful-frost-23</strong> to <a href=\"https://wandb.ai\" target=\"_blank\">Weights & Biases</a> <a href=\"https://docs.wandb.com/integrations/jupyter.html\" target=\"_blank\">(Documentation)</a>.<br/>\n                Project page: <a href=\"https://wandb.ai/tristanheywood/learning-from-play_v2\" target=\"_blank\">https://wandb.ai/tristanheywood/learning-from-play_v2</a><br/>\n                Run page: <a href=\"https://wandb.ai/tristanheywood/learning-from-play_v2/runs/2ia7aw01\" target=\"_blank\">https://wandb.ai/tristanheywood/learning-from-play_v2/runs/2ia7aw01</a><br/>\n                Run data is saved locally in <code>/content/learning_from_play/notebooks/wandb/run-20210312_043249-2ia7aw01</code><br/><br/>\n            "
     },
     "metadata": {}
    }
   ],
   "source": [
    "prep.dashboard = PrepDashboard(prep.args)"
   ]
  },
  {
   "cell_type": "code",
   "execution_count": 6,
   "metadata": {},
   "outputs": [
    {
     "output_type": "stream",
     "name": "stdout",
     "text": [
      "Reading data from Google Drive\nStorage path: /content/drive/My Drive/Robotic Learning\n"
     ]
    }
   ],
   "source": [
    "prep.paths = PrepPaths(prep.args)"
   ]
  },
  {
   "cell_type": "code",
   "execution_count": 7,
   "metadata": {},
   "outputs": [
    {
     "output_type": "stream",
     "name": "stdout",
     "text": [
      "[PhysicalDevice(name='/physical_device:CPU:0', device_type='CPU'), PhysicalDevice(name='/physical_device:GPU:0', device_type='GPU')]\n<tensorflow.python.distribute.distribute_lib._DefaultDistributionStrategy object at 0x7f6229d34a50>\n"
     ]
    }
   ],
   "source": [
    "import tensorflow as tf\n",
    "print(tf.config.list_physical_devices())\n",
    "print(tf.distribute.get_strategy())\n"
   ]
  },
  {
   "cell_type": "code",
   "execution_count": 8,
   "metadata": {},
   "outputs": [
    {
     "output_type": "stream",
     "name": "stdout",
     "text": [
      "Tensorflow version 2.4.1\n[PhysicalDevice(name='/physical_device:CPU:0', device_type='CPU'), PhysicalDevice(name='/physical_device:GPU:0', device_type='GPU')]\n"
     ]
    }
   ],
   "source": [
    "prep.devices = PrepDevices(prep.args)"
   ]
  },
  {
   "cell_type": "code",
   "execution_count": 9,
   "metadata": {},
   "outputs": [
    {
     "output_type": "stream",
     "name": "stderr",
     "text": [
      "UR5_slow_gripper: 100%|██████████| 23/23 [00:00<00:00, 52.21it/s]\n",
      "UR5_slow_gripper_test: 100%|██████████| 2/2 [00:00<00:00, 40.49it/s]{   'acts': TensorSpec(shape=(128, 50, 7), dtype=tf.float32, name=None),\n",
      "    'dataset_path': TensorSpec(shape=(128, None, 1), dtype=tf.int32, name=None),\n",
      "    'goals': TensorSpec(shape=(128, 50, 11), dtype=tf.float32, name=None),\n",
      "    'masks': TensorSpec(shape=(128, 50), dtype=tf.float32, name=None),\n",
      "    'obs': TensorSpec(shape=(128, 50, 18), dtype=tf.float32, name=None),\n",
      "    'seq_lens': TensorSpec(shape=(128,), dtype=tf.float32, name=None),\n",
      "    'tstep_idxs': TensorSpec(shape=(128, None, 1), dtype=tf.int32, name=None)}\n",
      "{   'acts': TensorSpec(shape=(128, 50, 7), dtype=tf.float32, name=None),\n",
      "    'dataset_path': TensorSpec(shape=(128, None, 1), dtype=tf.int32, name=None),\n",
      "    'goals': TensorSpec(shape=(128, 50, 11), dtype=tf.float32, name=None),\n",
      "    'masks': TensorSpec(shape=(128, 50), dtype=tf.float32, name=None),\n",
      "    'obs': TensorSpec(shape=(128, 50, 18), dtype=tf.float32, name=None),\n",
      "    'seq_lens': TensorSpec(shape=(128,), dtype=tf.float32, name=None),\n",
      "    'tstep_idxs': TensorSpec(shape=(128, None, 1), dtype=tf.int32, name=None)}\n",
      "\n"
     ]
    }
   ],
   "source": [
    "prep.dataloader = PrepDataloader(prep.args, prep.paths, prep.devices.NUM_DEVICES)"
   ]
  },
  {
   "cell_type": "code",
   "execution_count": 10,
   "metadata": {},
   "outputs": [
    {
     "output_type": "stream",
     "name": "stdout",
     "text": [
      "WARNING:tensorflow:From /usr/local/lib/python3.7/dist-packages/tensorflow/python/ops/linalg/linear_operator_lower_triangular.py:167: calling LinearOperator.__init__ (from tensorflow.python.ops.linalg.linear_operator) with graph_parents is deprecated and will be removed in a future version.\nInstructions for updating:\nDo not pass `graph_parents`.  They will  no longer be used.\n"
     ]
    }
   ],
   "source": [
    "prep.model = PrepModel(prep.args, prep.devices.device_strategy, **prep.dataloader.dims_dict(), debug=True)"
   ]
  },
  {
   "cell_type": "code",
   "execution_count": 11,
   "metadata": {},
   "outputs": [
    {
     "output_type": "display_data",
     "data": {
      "text/plain": "<Figure size 432x288 with 1 Axes>",
      "image/svg+xml": "<?xml version=\"1.0\" encoding=\"utf-8\" standalone=\"no\"?>\n<!DOCTYPE svg PUBLIC \"-//W3C//DTD SVG 1.1//EN\"\n  \"http://www.w3.org/Graphics/SVG/1.1/DTD/svg11.dtd\">\n<!-- Created with matplotlib (https://matplotlib.org/) -->\n<svg height=\"262.19625pt\" version=\"1.1\" viewBox=\"0 0 404.285886 262.19625\" width=\"404.285886pt\" xmlns=\"http://www.w3.org/2000/svg\" xmlns:xlink=\"http://www.w3.org/1999/xlink\">\n <defs>\n  <style type=\"text/css\">\n*{stroke-linecap:butt;stroke-linejoin:round;}\n  </style>\n </defs>\n <g id=\"figure_1\">\n  <g id=\"patch_1\">\n   <path d=\"M 0 262.19625 \nL 404.285886 262.19625 \nL 404.285886 0 \nL 0 0 \nz\n\" style=\"fill:none;\"/>\n  </g>\n  <g id=\"axes_1\">\n   <g id=\"patch_2\">\n    <path d=\"M 58.523438 224.64 \nL 393.323438 224.64 \nL 393.323438 7.2 \nL 58.523438 7.2 \nz\n\" style=\"fill:#ffffff;\"/>\n   </g>\n   <g id=\"matplotlib.axis_1\">\n    <g id=\"xtick_1\">\n     <g id=\"line2d_1\">\n      <defs>\n       <path d=\"M 0 0 \nL 0 3.5 \n\" id=\"m252786ab79\" style=\"stroke:#000000;stroke-width:0.8;\"/>\n      </defs>\n      <g>\n       <use style=\"stroke:#000000;stroke-width:0.8;\" x=\"73.741619\" xlink:href=\"#m252786ab79\" y=\"224.64\"/>\n      </g>\n     </g>\n     <g id=\"text_1\">\n      <!-- 0 -->\n      <defs>\n       <path d=\"M 31.78125 66.40625 \nQ 24.171875 66.40625 20.328125 58.90625 \nQ 16.5 51.421875 16.5 36.375 \nQ 16.5 21.390625 20.328125 13.890625 \nQ 24.171875 6.390625 31.78125 6.390625 \nQ 39.453125 6.390625 43.28125 13.890625 \nQ 47.125 21.390625 47.125 36.375 \nQ 47.125 51.421875 43.28125 58.90625 \nQ 39.453125 66.40625 31.78125 66.40625 \nz\nM 31.78125 74.21875 \nQ 44.046875 74.21875 50.515625 64.515625 \nQ 56.984375 54.828125 56.984375 36.375 \nQ 56.984375 17.96875 50.515625 8.265625 \nQ 44.046875 -1.421875 31.78125 -1.421875 \nQ 19.53125 -1.421875 13.0625 8.265625 \nQ 6.59375 17.96875 6.59375 36.375 \nQ 6.59375 54.828125 13.0625 64.515625 \nQ 19.53125 74.21875 31.78125 74.21875 \nz\n\" id=\"DejaVuSans-48\"/>\n      </defs>\n      <g transform=\"translate(70.560369 239.238437)scale(0.1 -0.1)\">\n       <use xlink:href=\"#DejaVuSans-48\"/>\n      </g>\n     </g>\n    </g>\n    <g id=\"xtick_2\">\n     <g id=\"line2d_2\">\n      <g>\n       <use style=\"stroke:#000000;stroke-width:0.8;\" x=\"135.229223\" xlink:href=\"#m252786ab79\" y=\"224.64\"/>\n      </g>\n     </g>\n     <g id=\"text_2\">\n      <!-- 2000 -->\n      <defs>\n       <path d=\"M 19.1875 8.296875 \nL 53.609375 8.296875 \nL 53.609375 0 \nL 7.328125 0 \nL 7.328125 8.296875 \nQ 12.9375 14.109375 22.625 23.890625 \nQ 32.328125 33.6875 34.8125 36.53125 \nQ 39.546875 41.84375 41.421875 45.53125 \nQ 43.3125 49.21875 43.3125 52.78125 \nQ 43.3125 58.59375 39.234375 62.25 \nQ 35.15625 65.921875 28.609375 65.921875 \nQ 23.96875 65.921875 18.8125 64.3125 \nQ 13.671875 62.703125 7.8125 59.421875 \nL 7.8125 69.390625 \nQ 13.765625 71.78125 18.9375 73 \nQ 24.125 74.21875 28.421875 74.21875 \nQ 39.75 74.21875 46.484375 68.546875 \nQ 53.21875 62.890625 53.21875 53.421875 \nQ 53.21875 48.921875 51.53125 44.890625 \nQ 49.859375 40.875 45.40625 35.40625 \nQ 44.1875 33.984375 37.640625 27.21875 \nQ 31.109375 20.453125 19.1875 8.296875 \nz\n\" id=\"DejaVuSans-50\"/>\n      </defs>\n      <g transform=\"translate(122.504223 239.238437)scale(0.1 -0.1)\">\n       <use xlink:href=\"#DejaVuSans-50\"/>\n       <use x=\"63.623047\" xlink:href=\"#DejaVuSans-48\"/>\n       <use x=\"127.246094\" xlink:href=\"#DejaVuSans-48\"/>\n       <use x=\"190.869141\" xlink:href=\"#DejaVuSans-48\"/>\n      </g>\n     </g>\n    </g>\n    <g id=\"xtick_3\">\n     <g id=\"line2d_3\">\n      <g>\n       <use style=\"stroke:#000000;stroke-width:0.8;\" x=\"196.716826\" xlink:href=\"#m252786ab79\" y=\"224.64\"/>\n      </g>\n     </g>\n     <g id=\"text_3\">\n      <!-- 4000 -->\n      <defs>\n       <path d=\"M 37.796875 64.3125 \nL 12.890625 25.390625 \nL 37.796875 25.390625 \nz\nM 35.203125 72.90625 \nL 47.609375 72.90625 \nL 47.609375 25.390625 \nL 58.015625 25.390625 \nL 58.015625 17.1875 \nL 47.609375 17.1875 \nL 47.609375 0 \nL 37.796875 0 \nL 37.796875 17.1875 \nL 4.890625 17.1875 \nL 4.890625 26.703125 \nz\n\" id=\"DejaVuSans-52\"/>\n      </defs>\n      <g transform=\"translate(183.991826 239.238437)scale(0.1 -0.1)\">\n       <use xlink:href=\"#DejaVuSans-52\"/>\n       <use x=\"63.623047\" xlink:href=\"#DejaVuSans-48\"/>\n       <use x=\"127.246094\" xlink:href=\"#DejaVuSans-48\"/>\n       <use x=\"190.869141\" xlink:href=\"#DejaVuSans-48\"/>\n      </g>\n     </g>\n    </g>\n    <g id=\"xtick_4\">\n     <g id=\"line2d_4\">\n      <g>\n       <use style=\"stroke:#000000;stroke-width:0.8;\" x=\"258.204429\" xlink:href=\"#m252786ab79\" y=\"224.64\"/>\n      </g>\n     </g>\n     <g id=\"text_4\">\n      <!-- 6000 -->\n      <defs>\n       <path d=\"M 33.015625 40.375 \nQ 26.375 40.375 22.484375 35.828125 \nQ 18.609375 31.296875 18.609375 23.390625 \nQ 18.609375 15.53125 22.484375 10.953125 \nQ 26.375 6.390625 33.015625 6.390625 \nQ 39.65625 6.390625 43.53125 10.953125 \nQ 47.40625 15.53125 47.40625 23.390625 \nQ 47.40625 31.296875 43.53125 35.828125 \nQ 39.65625 40.375 33.015625 40.375 \nz\nM 52.59375 71.296875 \nL 52.59375 62.3125 \nQ 48.875 64.0625 45.09375 64.984375 \nQ 41.3125 65.921875 37.59375 65.921875 \nQ 27.828125 65.921875 22.671875 59.328125 \nQ 17.53125 52.734375 16.796875 39.40625 \nQ 19.671875 43.65625 24.015625 45.921875 \nQ 28.375 48.1875 33.59375 48.1875 \nQ 44.578125 48.1875 50.953125 41.515625 \nQ 57.328125 34.859375 57.328125 23.390625 \nQ 57.328125 12.15625 50.6875 5.359375 \nQ 44.046875 -1.421875 33.015625 -1.421875 \nQ 20.359375 -1.421875 13.671875 8.265625 \nQ 6.984375 17.96875 6.984375 36.375 \nQ 6.984375 53.65625 15.1875 63.9375 \nQ 23.390625 74.21875 37.203125 74.21875 \nQ 40.921875 74.21875 44.703125 73.484375 \nQ 48.484375 72.75 52.59375 71.296875 \nz\n\" id=\"DejaVuSans-54\"/>\n      </defs>\n      <g transform=\"translate(245.479429 239.238437)scale(0.1 -0.1)\">\n       <use xlink:href=\"#DejaVuSans-54\"/>\n       <use x=\"63.623047\" xlink:href=\"#DejaVuSans-48\"/>\n       <use x=\"127.246094\" xlink:href=\"#DejaVuSans-48\"/>\n       <use x=\"190.869141\" xlink:href=\"#DejaVuSans-48\"/>\n      </g>\n     </g>\n    </g>\n    <g id=\"xtick_5\">\n     <g id=\"line2d_5\">\n      <g>\n       <use style=\"stroke:#000000;stroke-width:0.8;\" x=\"319.692033\" xlink:href=\"#m252786ab79\" y=\"224.64\"/>\n      </g>\n     </g>\n     <g id=\"text_5\">\n      <!-- 8000 -->\n      <defs>\n       <path d=\"M 31.78125 34.625 \nQ 24.75 34.625 20.71875 30.859375 \nQ 16.703125 27.09375 16.703125 20.515625 \nQ 16.703125 13.921875 20.71875 10.15625 \nQ 24.75 6.390625 31.78125 6.390625 \nQ 38.8125 6.390625 42.859375 10.171875 \nQ 46.921875 13.96875 46.921875 20.515625 \nQ 46.921875 27.09375 42.890625 30.859375 \nQ 38.875 34.625 31.78125 34.625 \nz\nM 21.921875 38.8125 \nQ 15.578125 40.375 12.03125 44.71875 \nQ 8.5 49.078125 8.5 55.328125 \nQ 8.5 64.0625 14.71875 69.140625 \nQ 20.953125 74.21875 31.78125 74.21875 \nQ 42.671875 74.21875 48.875 69.140625 \nQ 55.078125 64.0625 55.078125 55.328125 \nQ 55.078125 49.078125 51.53125 44.71875 \nQ 48 40.375 41.703125 38.8125 \nQ 48.828125 37.15625 52.796875 32.3125 \nQ 56.78125 27.484375 56.78125 20.515625 \nQ 56.78125 9.90625 50.3125 4.234375 \nQ 43.84375 -1.421875 31.78125 -1.421875 \nQ 19.734375 -1.421875 13.25 4.234375 \nQ 6.78125 9.90625 6.78125 20.515625 \nQ 6.78125 27.484375 10.78125 32.3125 \nQ 14.796875 37.15625 21.921875 38.8125 \nz\nM 18.3125 54.390625 \nQ 18.3125 48.734375 21.84375 45.5625 \nQ 25.390625 42.390625 31.78125 42.390625 \nQ 38.140625 42.390625 41.71875 45.5625 \nQ 45.3125 48.734375 45.3125 54.390625 \nQ 45.3125 60.0625 41.71875 63.234375 \nQ 38.140625 66.40625 31.78125 66.40625 \nQ 25.390625 66.40625 21.84375 63.234375 \nQ 18.3125 60.0625 18.3125 54.390625 \nz\n\" id=\"DejaVuSans-56\"/>\n      </defs>\n      <g transform=\"translate(306.967033 239.238437)scale(0.1 -0.1)\">\n       <use xlink:href=\"#DejaVuSans-56\"/>\n       <use x=\"63.623047\" xlink:href=\"#DejaVuSans-48\"/>\n       <use x=\"127.246094\" xlink:href=\"#DejaVuSans-48\"/>\n       <use x=\"190.869141\" xlink:href=\"#DejaVuSans-48\"/>\n      </g>\n     </g>\n    </g>\n    <g id=\"xtick_6\">\n     <g id=\"line2d_6\">\n      <g>\n       <use style=\"stroke:#000000;stroke-width:0.8;\" x=\"381.179636\" xlink:href=\"#m252786ab79\" y=\"224.64\"/>\n      </g>\n     </g>\n     <g id=\"text_6\">\n      <!-- 10000 -->\n      <defs>\n       <path d=\"M 12.40625 8.296875 \nL 28.515625 8.296875 \nL 28.515625 63.921875 \nL 10.984375 60.40625 \nL 10.984375 69.390625 \nL 28.421875 72.90625 \nL 38.28125 72.90625 \nL 38.28125 8.296875 \nL 54.390625 8.296875 \nL 54.390625 0 \nL 12.40625 0 \nz\n\" id=\"DejaVuSans-49\"/>\n      </defs>\n      <g transform=\"translate(365.273386 239.238437)scale(0.1 -0.1)\">\n       <use xlink:href=\"#DejaVuSans-49\"/>\n       <use x=\"63.623047\" xlink:href=\"#DejaVuSans-48\"/>\n       <use x=\"127.246094\" xlink:href=\"#DejaVuSans-48\"/>\n       <use x=\"190.869141\" xlink:href=\"#DejaVuSans-48\"/>\n       <use x=\"254.492188\" xlink:href=\"#DejaVuSans-48\"/>\n      </g>\n     </g>\n    </g>\n    <g id=\"text_7\">\n     <!-- Steps -->\n     <defs>\n      <path d=\"M 53.515625 70.515625 \nL 53.515625 60.890625 \nQ 47.90625 63.578125 42.921875 64.890625 \nQ 37.9375 66.21875 33.296875 66.21875 \nQ 25.25 66.21875 20.875 63.09375 \nQ 16.5 59.96875 16.5 54.203125 \nQ 16.5 49.359375 19.40625 46.890625 \nQ 22.3125 44.4375 30.421875 42.921875 \nL 36.375 41.703125 \nQ 47.40625 39.59375 52.65625 34.296875 \nQ 57.90625 29 57.90625 20.125 \nQ 57.90625 9.515625 50.796875 4.046875 \nQ 43.703125 -1.421875 29.984375 -1.421875 \nQ 24.8125 -1.421875 18.96875 -0.25 \nQ 13.140625 0.921875 6.890625 3.21875 \nL 6.890625 13.375 \nQ 12.890625 10.015625 18.65625 8.296875 \nQ 24.421875 6.59375 29.984375 6.59375 \nQ 38.421875 6.59375 43.015625 9.90625 \nQ 47.609375 13.234375 47.609375 19.390625 \nQ 47.609375 24.75 44.3125 27.78125 \nQ 41.015625 30.8125 33.5 32.328125 \nL 27.484375 33.5 \nQ 16.453125 35.6875 11.515625 40.375 \nQ 6.59375 45.0625 6.59375 53.421875 \nQ 6.59375 63.09375 13.40625 68.65625 \nQ 20.21875 74.21875 32.171875 74.21875 \nQ 37.3125 74.21875 42.625 73.28125 \nQ 47.953125 72.359375 53.515625 70.515625 \nz\n\" id=\"DejaVuSans-83\"/>\n      <path d=\"M 18.3125 70.21875 \nL 18.3125 54.6875 \nL 36.8125 54.6875 \nL 36.8125 47.703125 \nL 18.3125 47.703125 \nL 18.3125 18.015625 \nQ 18.3125 11.328125 20.140625 9.421875 \nQ 21.96875 7.515625 27.59375 7.515625 \nL 36.8125 7.515625 \nL 36.8125 0 \nL 27.59375 0 \nQ 17.1875 0 13.234375 3.875 \nQ 9.28125 7.765625 9.28125 18.015625 \nL 9.28125 47.703125 \nL 2.6875 47.703125 \nL 2.6875 54.6875 \nL 9.28125 54.6875 \nL 9.28125 70.21875 \nz\n\" id=\"DejaVuSans-116\"/>\n      <path d=\"M 56.203125 29.59375 \nL 56.203125 25.203125 \nL 14.890625 25.203125 \nQ 15.484375 15.921875 20.484375 11.0625 \nQ 25.484375 6.203125 34.421875 6.203125 \nQ 39.59375 6.203125 44.453125 7.46875 \nQ 49.3125 8.734375 54.109375 11.28125 \nL 54.109375 2.78125 \nQ 49.265625 0.734375 44.1875 -0.34375 \nQ 39.109375 -1.421875 33.890625 -1.421875 \nQ 20.796875 -1.421875 13.15625 6.1875 \nQ 5.515625 13.8125 5.515625 26.8125 \nQ 5.515625 40.234375 12.765625 48.109375 \nQ 20.015625 56 32.328125 56 \nQ 43.359375 56 49.78125 48.890625 \nQ 56.203125 41.796875 56.203125 29.59375 \nz\nM 47.21875 32.234375 \nQ 47.125 39.59375 43.09375 43.984375 \nQ 39.0625 48.390625 32.421875 48.390625 \nQ 24.90625 48.390625 20.390625 44.140625 \nQ 15.875 39.890625 15.1875 32.171875 \nz\n\" id=\"DejaVuSans-101\"/>\n      <path d=\"M 18.109375 8.203125 \nL 18.109375 -20.796875 \nL 9.078125 -20.796875 \nL 9.078125 54.6875 \nL 18.109375 54.6875 \nL 18.109375 46.390625 \nQ 20.953125 51.265625 25.265625 53.625 \nQ 29.59375 56 35.59375 56 \nQ 45.5625 56 51.78125 48.09375 \nQ 58.015625 40.1875 58.015625 27.296875 \nQ 58.015625 14.40625 51.78125 6.484375 \nQ 45.5625 -1.421875 35.59375 -1.421875 \nQ 29.59375 -1.421875 25.265625 0.953125 \nQ 20.953125 3.328125 18.109375 8.203125 \nz\nM 48.6875 27.296875 \nQ 48.6875 37.203125 44.609375 42.84375 \nQ 40.53125 48.484375 33.40625 48.484375 \nQ 26.265625 48.484375 22.1875 42.84375 \nQ 18.109375 37.203125 18.109375 27.296875 \nQ 18.109375 17.390625 22.1875 11.75 \nQ 26.265625 6.109375 33.40625 6.109375 \nQ 40.53125 6.109375 44.609375 11.75 \nQ 48.6875 17.390625 48.6875 27.296875 \nz\n\" id=\"DejaVuSans-112\"/>\n      <path d=\"M 44.28125 53.078125 \nL 44.28125 44.578125 \nQ 40.484375 46.53125 36.375 47.5 \nQ 32.28125 48.484375 27.875 48.484375 \nQ 21.1875 48.484375 17.84375 46.4375 \nQ 14.5 44.390625 14.5 40.28125 \nQ 14.5 37.15625 16.890625 35.375 \nQ 19.28125 33.59375 26.515625 31.984375 \nL 29.59375 31.296875 \nQ 39.15625 29.25 43.1875 25.515625 \nQ 47.21875 21.78125 47.21875 15.09375 \nQ 47.21875 7.46875 41.1875 3.015625 \nQ 35.15625 -1.421875 24.609375 -1.421875 \nQ 20.21875 -1.421875 15.453125 -0.5625 \nQ 10.6875 0.296875 5.421875 2 \nL 5.421875 11.28125 \nQ 10.40625 8.6875 15.234375 7.390625 \nQ 20.0625 6.109375 24.8125 6.109375 \nQ 31.15625 6.109375 34.5625 8.28125 \nQ 37.984375 10.453125 37.984375 14.40625 \nQ 37.984375 18.0625 35.515625 20.015625 \nQ 33.0625 21.96875 24.703125 23.78125 \nL 21.578125 24.515625 \nQ 13.234375 26.265625 9.515625 29.90625 \nQ 5.8125 33.546875 5.8125 39.890625 \nQ 5.8125 47.609375 11.28125 51.796875 \nQ 16.75 56 26.8125 56 \nQ 31.78125 56 36.171875 55.265625 \nQ 40.578125 54.546875 44.28125 53.078125 \nz\n\" id=\"DejaVuSans-115\"/>\n     </defs>\n     <g transform=\"translate(211.933594 252.916562)scale(0.1 -0.1)\">\n      <use xlink:href=\"#DejaVuSans-83\"/>\n      <use x=\"63.476562\" xlink:href=\"#DejaVuSans-116\"/>\n      <use x=\"102.685547\" xlink:href=\"#DejaVuSans-101\"/>\n      <use x=\"164.208984\" xlink:href=\"#DejaVuSans-112\"/>\n      <use x=\"227.685547\" xlink:href=\"#DejaVuSans-115\"/>\n     </g>\n    </g>\n   </g>\n   <g id=\"matplotlib.axis_2\">\n    <g id=\"ytick_1\">\n     <g id=\"line2d_7\">\n      <defs>\n       <path d=\"M 0 0 \nL -3.5 0 \n\" id=\"mfca3f1319b\" style=\"stroke:#000000;stroke-width:0.8;\"/>\n      </defs>\n      <g>\n       <use style=\"stroke:#000000;stroke-width:0.8;\" x=\"58.523438\" xlink:href=\"#mfca3f1319b\" y=\"194.989091\"/>\n      </g>\n     </g>\n     <g id=\"text_8\">\n      <!-- −0.04 -->\n      <defs>\n       <path d=\"M 10.59375 35.5 \nL 73.1875 35.5 \nL 73.1875 27.203125 \nL 10.59375 27.203125 \nz\n\" id=\"DejaVuSans-8722\"/>\n       <path d=\"M 10.6875 12.40625 \nL 21 12.40625 \nL 21 0 \nL 10.6875 0 \nz\n\" id=\"DejaVuSans-46\"/>\n      </defs>\n      <g transform=\"translate(20.878125 198.78831)scale(0.1 -0.1)\">\n       <use xlink:href=\"#DejaVuSans-8722\"/>\n       <use x=\"83.789062\" xlink:href=\"#DejaVuSans-48\"/>\n       <use x=\"147.412109\" xlink:href=\"#DejaVuSans-46\"/>\n       <use x=\"179.199219\" xlink:href=\"#DejaVuSans-48\"/>\n       <use x=\"242.822266\" xlink:href=\"#DejaVuSans-52\"/>\n      </g>\n     </g>\n    </g>\n    <g id=\"ytick_2\">\n     <g id=\"line2d_8\">\n      <g>\n       <use style=\"stroke:#000000;stroke-width:0.8;\" x=\"58.523438\" xlink:href=\"#mfca3f1319b\" y=\"155.454545\"/>\n      </g>\n     </g>\n     <g id=\"text_9\">\n      <!-- −0.02 -->\n      <g transform=\"translate(20.878125 159.253764)scale(0.1 -0.1)\">\n       <use xlink:href=\"#DejaVuSans-8722\"/>\n       <use x=\"83.789062\" xlink:href=\"#DejaVuSans-48\"/>\n       <use x=\"147.412109\" xlink:href=\"#DejaVuSans-46\"/>\n       <use x=\"179.199219\" xlink:href=\"#DejaVuSans-48\"/>\n       <use x=\"242.822266\" xlink:href=\"#DejaVuSans-50\"/>\n      </g>\n     </g>\n    </g>\n    <g id=\"ytick_3\">\n     <g id=\"line2d_9\">\n      <g>\n       <use style=\"stroke:#000000;stroke-width:0.8;\" x=\"58.523438\" xlink:href=\"#mfca3f1319b\" y=\"115.92\"/>\n      </g>\n     </g>\n     <g id=\"text_10\">\n      <!-- 0.00 -->\n      <g transform=\"translate(29.257813 119.719219)scale(0.1 -0.1)\">\n       <use xlink:href=\"#DejaVuSans-48\"/>\n       <use x=\"63.623047\" xlink:href=\"#DejaVuSans-46\"/>\n       <use x=\"95.410156\" xlink:href=\"#DejaVuSans-48\"/>\n       <use x=\"159.033203\" xlink:href=\"#DejaVuSans-48\"/>\n      </g>\n     </g>\n    </g>\n    <g id=\"ytick_4\">\n     <g id=\"line2d_10\">\n      <g>\n       <use style=\"stroke:#000000;stroke-width:0.8;\" x=\"58.523438\" xlink:href=\"#mfca3f1319b\" y=\"76.385455\"/>\n      </g>\n     </g>\n     <g id=\"text_11\">\n      <!-- 0.02 -->\n      <g transform=\"translate(29.257813 80.184673)scale(0.1 -0.1)\">\n       <use xlink:href=\"#DejaVuSans-48\"/>\n       <use x=\"63.623047\" xlink:href=\"#DejaVuSans-46\"/>\n       <use x=\"95.410156\" xlink:href=\"#DejaVuSans-48\"/>\n       <use x=\"159.033203\" xlink:href=\"#DejaVuSans-50\"/>\n      </g>\n     </g>\n    </g>\n    <g id=\"ytick_5\">\n     <g id=\"line2d_11\">\n      <g>\n       <use style=\"stroke:#000000;stroke-width:0.8;\" x=\"58.523438\" xlink:href=\"#mfca3f1319b\" y=\"36.850909\"/>\n      </g>\n     </g>\n     <g id=\"text_12\">\n      <!-- 0.04 -->\n      <g transform=\"translate(29.257813 40.650128)scale(0.1 -0.1)\">\n       <use xlink:href=\"#DejaVuSans-48\"/>\n       <use x=\"63.623047\" xlink:href=\"#DejaVuSans-46\"/>\n       <use x=\"95.410156\" xlink:href=\"#DejaVuSans-48\"/>\n       <use x=\"159.033203\" xlink:href=\"#DejaVuSans-52\"/>\n      </g>\n     </g>\n    </g>\n    <g id=\"text_13\">\n     <!-- Beta -->\n     <defs>\n      <path d=\"M 19.671875 34.8125 \nL 19.671875 8.109375 \nL 35.5 8.109375 \nQ 43.453125 8.109375 47.28125 11.40625 \nQ 51.125 14.703125 51.125 21.484375 \nQ 51.125 28.328125 47.28125 31.5625 \nQ 43.453125 34.8125 35.5 34.8125 \nz\nM 19.671875 64.796875 \nL 19.671875 42.828125 \nL 34.28125 42.828125 \nQ 41.5 42.828125 45.03125 45.53125 \nQ 48.578125 48.25 48.578125 53.8125 \nQ 48.578125 59.328125 45.03125 62.0625 \nQ 41.5 64.796875 34.28125 64.796875 \nz\nM 9.8125 72.90625 \nL 35.015625 72.90625 \nQ 46.296875 72.90625 52.390625 68.21875 \nQ 58.5 63.53125 58.5 54.890625 \nQ 58.5 48.1875 55.375 44.234375 \nQ 52.25 40.28125 46.1875 39.3125 \nQ 53.46875 37.75 57.5 32.78125 \nQ 61.53125 27.828125 61.53125 20.40625 \nQ 61.53125 10.640625 54.890625 5.3125 \nQ 48.25 0 35.984375 0 \nL 9.8125 0 \nz\n\" id=\"DejaVuSans-66\"/>\n      <path d=\"M 34.28125 27.484375 \nQ 23.390625 27.484375 19.1875 25 \nQ 14.984375 22.515625 14.984375 16.5 \nQ 14.984375 11.71875 18.140625 8.90625 \nQ 21.296875 6.109375 26.703125 6.109375 \nQ 34.1875 6.109375 38.703125 11.40625 \nQ 43.21875 16.703125 43.21875 25.484375 \nL 43.21875 27.484375 \nz\nM 52.203125 31.203125 \nL 52.203125 0 \nL 43.21875 0 \nL 43.21875 8.296875 \nQ 40.140625 3.328125 35.546875 0.953125 \nQ 30.953125 -1.421875 24.3125 -1.421875 \nQ 15.921875 -1.421875 10.953125 3.296875 \nQ 6 8.015625 6 15.921875 \nQ 6 25.140625 12.171875 29.828125 \nQ 18.359375 34.515625 30.609375 34.515625 \nL 43.21875 34.515625 \nL 43.21875 35.40625 \nQ 43.21875 41.609375 39.140625 45 \nQ 35.0625 48.390625 27.6875 48.390625 \nQ 23 48.390625 18.546875 47.265625 \nQ 14.109375 46.140625 10.015625 43.890625 \nL 10.015625 52.203125 \nQ 14.9375 54.109375 19.578125 55.046875 \nQ 24.21875 56 28.609375 56 \nQ 40.484375 56 46.34375 49.84375 \nQ 52.203125 43.703125 52.203125 31.203125 \nz\n\" id=\"DejaVuSans-97\"/>\n     </defs>\n     <g transform=\"translate(14.798438 127.45125)rotate(-90)scale(0.1 -0.1)\">\n      <use xlink:href=\"#DejaVuSans-66\"/>\n      <use x=\"68.603516\" xlink:href=\"#DejaVuSans-101\"/>\n      <use x=\"130.126953\" xlink:href=\"#DejaVuSans-116\"/>\n      <use x=\"169.335938\" xlink:href=\"#DejaVuSans-97\"/>\n     </g>\n    </g>\n   </g>\n   <g id=\"line2d_12\">\n    <path clip-path=\"url(#p3aafcfdd5b)\" d=\"M 73.741619 115.92 \nL 76.815999 115.92 \nL 79.89038 115.92 \nL 82.96476 115.92 \nL 86.03914 115.92 \nL 89.11352 115.92 \nL 92.1879 115.92 \nL 95.26228 115.92 \nL 98.336661 115.92 \nL 101.411041 115.92 \nL 104.485421 115.92 \nL 107.559801 115.92 \nL 110.634181 115.92 \nL 113.708561 115.92 \nL 116.782942 115.92 \nL 119.857322 115.92 \nL 122.931702 115.92 \nL 126.006082 115.92 \nL 129.080462 115.92 \nL 132.154842 115.92 \nL 135.229223 115.92 \nL 138.303603 115.92 \nL 141.377983 115.92 \nL 144.452363 115.92 \nL 147.526743 115.92 \nL 150.601123 115.92 \nL 153.675504 115.92 \nL 156.749884 115.92 \nL 159.824264 115.92 \nL 162.898644 115.92 \nL 165.973024 115.92 \nL 169.047404 115.92 \nL 172.121785 115.92 \nL 175.196165 115.92 \nL 178.270545 115.92 \nL 181.344925 115.92 \nL 184.419305 115.92 \nL 187.493685 115.92 \nL 190.568066 115.92 \nL 193.642446 115.92 \nL 196.716826 115.92 \nL 199.791206 115.92 \nL 202.865586 115.92 \nL 205.939966 115.92 \nL 209.014347 115.92 \nL 212.088727 115.92 \nL 215.163107 115.92 \nL 218.237487 115.92 \nL 221.311867 115.92 \nL 224.386247 115.92 \nL 227.460628 115.92 \nL 230.535008 115.92 \nL 233.609388 115.92 \nL 236.683768 115.92 \nL 239.758148 115.92 \nL 242.832528 115.92 \nL 245.906909 115.92 \nL 248.981289 115.92 \nL 252.055669 115.92 \nL 255.130049 115.92 \nL 258.204429 115.92 \nL 261.278809 115.92 \nL 264.35319 115.92 \nL 267.42757 115.92 \nL 270.50195 115.92 \nL 273.57633 115.92 \nL 276.65071 115.92 \nL 279.72509 115.92 \nL 282.799471 115.92 \nL 285.873851 115.92 \nL 288.948231 115.92 \nL 292.022611 115.92 \nL 295.096991 115.92 \nL 298.171371 115.92 \nL 301.245752 115.92 \nL 304.320132 115.92 \nL 307.394512 115.92 \nL 310.468892 115.92 \nL 313.543272 115.92 \nL 316.617652 115.92 \nL 319.692033 115.92 \nL 322.766413 115.92 \nL 325.840793 115.92 \nL 328.915173 115.92 \nL 331.989553 115.92 \nL 335.063933 115.92 \nL 338.138314 115.92 \nL 341.212694 115.92 \nL 344.287074 115.92 \nL 347.361454 115.92 \nL 350.435834 115.92 \nL 353.510214 115.92 \nL 356.584595 115.92 \nL 359.658975 115.92 \nL 362.733355 115.92 \nL 365.807735 115.92 \nL 368.882115 115.92 \nL 371.956495 115.92 \nL 375.030876 115.92 \nL 378.105256 115.92 \n\" style=\"fill:none;stroke:#1f77b4;stroke-linecap:square;stroke-width:1.5;\"/>\n   </g>\n   <g id=\"patch_3\">\n    <path d=\"M 58.523438 224.64 \nL 58.523438 7.2 \n\" style=\"fill:none;stroke:#000000;stroke-linecap:square;stroke-linejoin:miter;stroke-width:0.8;\"/>\n   </g>\n   <g id=\"patch_4\">\n    <path d=\"M 393.323438 224.64 \nL 393.323438 7.2 \n\" style=\"fill:none;stroke:#000000;stroke-linecap:square;stroke-linejoin:miter;stroke-width:0.8;\"/>\n   </g>\n   <g id=\"patch_5\">\n    <path d=\"M 58.523438 224.64 \nL 393.323437 224.64 \n\" style=\"fill:none;stroke:#000000;stroke-linecap:square;stroke-linejoin:miter;stroke-width:0.8;\"/>\n   </g>\n   <g id=\"patch_6\">\n    <path d=\"M 58.523438 7.2 \nL 393.323437 7.2 \n\" style=\"fill:none;stroke:#000000;stroke-linecap:square;stroke-linejoin:miter;stroke-width:0.8;\"/>\n   </g>\n  </g>\n </g>\n <defs>\n  <clipPath id=\"p3aafcfdd5b\">\n   <rect height=\"217.44\" width=\"334.8\" x=\"58.523438\" y=\"7.2\"/>\n  </clipPath>\n </defs>\n</svg>\n",
      "image/png": "[encoded data removed]"
     },
     "metadata": {
      "needs_background": "light"
     }
    }
   ],
   "source": [
    "prep.utils = PrepUtils(prep.args, prep.paths.STORAGE_PATH)"
   ]
  },
  {
   "cell_type": "code",
   "execution_count": 12,
   "metadata": {},
   "outputs": [
    {
     "output_type": "execute_result",
     "data": {
      "text/plain": [
       "<bound method Model.summary of <lfp.model_v2.LFPNet object at 0x7f622a419c10>>"
      ]
     },
     "metadata": {},
     "execution_count": 12
    }
   ],
   "source": [
    "from keras.utils.layer_utils import count_params\n",
    "count_params(prep.model.model.trainable_weights)\n",
    "prep.model.model.summary"
   ]
  },
  {
   "cell_type": "code",
   "execution_count": 15,
   "metadata": {},
   "outputs": [
    {
     "output_type": "stream",
     "name": "stdout",
     "text": [
      "Model: \"lfp_net\"\n_________________________________________________________________\nLayer (type)                 Output Shape              Param #   \n=================================================================\nmodel_1 (Functional)         multiple                  1102944   \n_________________________________________________________________\nmodel_2 (Functional)         multiple                  329952    \n_________________________________________________________________\nmodel (Functional)           (None, None, 7)           3343879   \n=================================================================\nTotal params: 4,776,801\nTrainable params: 4,776,775\nNon-trainable params: 26\n_________________________________________________________________\n"
     ]
    }
   ],
   "source": [
    "prep.model.model.summary()"
   ]
  },
  {
   "cell_type": "code",
   "execution_count": 16,
   "metadata": {},
   "outputs": [
    {
     "output_type": "execute_result",
     "data": {
      "text/plain": [
       "<IPython.core.display.Image object>"
      ],
      "image/png": "[encoded data removed]"
     },
     "metadata": {},
     "execution_count": 16
    }
   ],
   "source": [
    "from keras.utils import plot_model\n",
    "plot_model(prep.model.model, expand_nested=True)"
   ]
  },
  {
   "cell_type": "code",
   "execution_count": 14,
   "metadata": {},
   "outputs": [
    {
     "output_type": "stream",
     "name": "stdout",
     "text": [
      "20/20 [==============================] - 36s 691ms/step - train_loss: 0.1912 - valid_loss: 0.0000e+00 - train_act_with_enc_loss: 0.1912 - train_act_with_plan_loss: 0.1933 - valid_act_with_enc_loss: 0.0000e+00 - valid_act_with_plan_loss: 0.0000e+00 - reg_loss: 3.9157 - valid_reg_loss: 0.0000e+00 - valid_position_loss: 0.0000e+00 - valid_max_position_loss: 0.0000e+00 - valid_rotation_loss: 0.0000e+00 - valid_max_rotation_loss: 0.0000e+00 - beta: 0.0000e+00 - val_train_loss: 0.0000e+00 - val_valid_loss: 0.1693 - val_train_act_with_enc_loss: 0.0000e+00 - val_train_act_with_plan_loss: 0.0000e+00 - val_valid_act_with_enc_loss: 0.1638 - val_valid_act_with_plan_loss: 0.1693 - val_reg_loss: 0.0000e+00 - val_valid_reg_loss: 5.6582 - val_valid_position_loss: 0.0000e+00 - val_valid_max_position_loss: 0.0000e+00 - val_valid_rotation_loss: 0.0000e+00 - val_valid_max_rotation_loss: 0.0000e+00\n"
     ]
    },
    {
     "output_type": "execute_result",
     "data": {
      "text/plain": [
       "<tensorflow.python.keras.callbacks.History at 0x7f61b85176d0>"
      ]
     },
     "metadata": {},
     "execution_count": 14
    }
   ],
   "source": [
    "prep.do_one_epoch()"
   ]
  },
  {
   "cell_type": "code",
   "execution_count": 14,
   "metadata": {
    "tags": [
     "outputPrepend"
    ]
   },
   "outputs": [
    {
     "output_type": "stream",
     "name": "stdout",
     "text": [
      "lid_loss: 0.0000e+00 - train_act_with_enc_loss: 0.0289 - train_act_with_plan_loss: 0.0665 - valid_act_with_enc_loss: 0.0000e+00 - valid_act_with_plan_loss: 0.0000e+00 - reg_loss: 130.9866 - valid_reg_loss: 0.0000e+00 - valid_position_loss: 0.0000e+00 - valid_max_position_loss: 0.0000e+00 - valid_rotation_loss: 0.0000e+00 - valid_max_rotation_loss: 0.0000e+00 - beta: 0.0000e+00 - val_train_loss: 0.0000e+00 - val_valid_loss: 0.0662 - val_train_act_with_enc_loss: 0.0000e+00 - val_train_act_with_plan_loss: 0.0000e+00 - val_valid_act_with_enc_loss: 0.0285 - val_valid_act_with_plan_loss: 0.0662 - val_reg_loss: 0.0000e+00 - val_valid_reg_loss: 130.7931 - val_valid_position_loss: 0.0000e+00 - val_valid_max_position_loss: 0.0000e+00 - val_valid_rotation_loss: 0.0000e+00 - val_valid_max_rotation_loss: 0.0000e+00\n",
      "Epoch 43/10000\n",
      "20/20 [==============================] - 6s 304ms/step - train_loss: 0.0286 - valid_loss: 0.0000e+00 - train_act_with_enc_loss: 0.0286 - train_act_with_plan_loss: 0.0668 - valid_act_with_enc_loss: 0.0000e+00 - valid_act_with_plan_loss: 0.0000e+00 - reg_loss: 135.2325 - valid_reg_loss: 0.0000e+00 - valid_position_loss: 0.0000e+00 - valid_max_position_loss: 0.0000e+00 - valid_rotation_loss: 0.0000e+00 - valid_max_rotation_loss: 0.0000e+00 - beta: 0.0000e+00 - val_train_loss: 0.0000e+00 - val_valid_loss: 0.0662 - val_train_act_with_enc_loss: 0.0000e+00 - val_train_act_with_plan_loss: 0.0000e+00 - val_valid_act_with_enc_loss: 0.0280 - val_valid_act_with_plan_loss: 0.0662 - val_reg_loss: 0.0000e+00 - val_valid_reg_loss: 135.9960 - val_valid_position_loss: 0.0000e+00 - val_valid_max_position_loss: 0.0000e+00 - val_valid_rotation_loss: 0.0000e+00 - val_valid_max_rotation_loss: 0.0000e+00\n",
      "Epoch 44/10000\n",
      "20/20 [==============================] - 6s 315ms/step - train_loss: 0.0281 - valid_loss: 0.0000e+00 - train_act_with_enc_loss: 0.0281 - train_act_with_plan_loss: 0.0671 - valid_act_with_enc_loss: 0.0000e+00 - valid_act_with_plan_loss: 0.0000e+00 - reg_loss: 137.5671 - valid_reg_loss: 0.0000e+00 - valid_position_loss: 0.0000e+00 - valid_max_position_loss: 0.0000e+00 - valid_rotation_loss: 0.0000e+00 - valid_max_rotation_loss: 0.0000e+00 - beta: 0.0000e+00 - val_train_loss: 0.0000e+00 - val_valid_loss: 0.0666 - val_train_act_with_enc_loss: 0.0000e+00 - val_train_act_with_plan_loss: 0.0000e+00 - val_valid_act_with_enc_loss: 0.0273 - val_valid_act_with_plan_loss: 0.0666 - val_reg_loss: 0.0000e+00 - val_valid_reg_loss: 132.5311 - val_valid_position_loss: 0.0000e+00 - val_valid_max_position_loss: 0.0000e+00 - val_valid_rotation_loss: 0.0000e+00 - val_valid_max_rotation_loss: 0.0000e+00\n",
      "Epoch 45/10000\n",
      "20/20 [==============================] - 6s 306ms/step - train_loss: 0.0282 - valid_loss: 0.0000e+00 - train_act_with_enc_loss: 0.0282 - train_act_with_plan_loss: 0.0675 - valid_act_with_enc_loss: 0.0000e+00 - valid_act_with_plan_loss: 0.0000e+00 - reg_loss: 131.1971 - valid_reg_loss: 0.0000e+00 - valid_position_loss: 0.0000e+00 - valid_max_position_loss: 0.0000e+00 - valid_rotation_loss: 0.0000e+00 - valid_max_rotation_loss: 0.0000e+00 - beta: 0.0000e+00 - val_train_loss: 0.0000e+00 - val_valid_loss: 0.0674 - val_train_act_with_enc_loss: 0.0000e+00 - val_train_act_with_plan_loss: 0.0000e+00 - val_valid_act_with_enc_loss: 0.0291 - val_valid_act_with_plan_loss: 0.0674 - val_reg_loss: 0.0000e+00 - val_valid_reg_loss: 129.1725 - val_valid_position_loss: 0.0000e+00 - val_valid_max_position_loss: 0.0000e+00 - val_valid_rotation_loss: 0.0000e+00 - val_valid_max_rotation_loss: 0.0000e+00\n",
      "Epoch 46/10000\n",
      "20/20 [==============================] - 6s 315ms/step - train_loss: 0.0283 - valid_loss: 0.0000e+00 - train_act_with_enc_loss: 0.0283 - train_act_with_plan_loss: 0.0666 - valid_act_with_enc_loss: 0.0000e+00 - valid_act_with_plan_loss: 0.0000e+00 - reg_loss: 124.3287 - valid_reg_loss: 0.0000e+00 - valid_position_loss: 0.0000e+00 - valid_max_position_loss: 0.0000e+00 - valid_rotation_loss: 0.0000e+00 - valid_max_rotation_loss: 0.0000e+00 - beta: 0.0000e+00 - val_train_loss: 0.0000e+00 - val_valid_loss: 0.0690 - val_train_act_with_enc_loss: 0.0000e+00 - val_train_act_with_plan_loss: 0.0000e+00 - val_valid_act_with_enc_loss: 0.0280 - val_valid_act_with_plan_loss: 0.0690 - val_reg_loss: 0.0000e+00 - val_valid_reg_loss: 122.1689 - val_valid_position_loss: 0.0000e+00 - val_valid_max_position_loss: 0.0000e+00 - val_valid_rotation_loss: 0.0000e+00 - val_valid_max_rotation_loss: 0.0000e+00\n",
      "Epoch 47/10000\n",
      "20/20 [==============================] - 6s 308ms/step - train_loss: 0.0263 - valid_loss: 0.0000e+00 - train_act_with_enc_loss: 0.0263 - train_act_with_plan_loss: 0.0662 - valid_act_with_enc_loss: 0.0000e+00 - valid_act_with_plan_loss: 0.0000e+00 - reg_loss: 130.2035 - valid_reg_loss: 0.0000e+00 - valid_position_loss: 0.0000e+00 - valid_max_position_loss: 0.0000e+00 - valid_rotation_loss: 0.0000e+00 - valid_max_rotation_loss: 0.0000e+00 - beta: 0.0000e+00 - val_train_loss: 0.0000e+00 - val_valid_loss: 0.0684 - val_train_act_with_enc_loss: 0.0000e+00 - val_train_act_with_plan_loss: 0.0000e+00 - val_valid_act_with_enc_loss: 0.0260 - val_valid_act_with_plan_loss: 0.0684 - val_reg_loss: 0.0000e+00 - val_valid_reg_loss: 133.9017 - val_valid_position_loss: 0.0000e+00 - val_valid_max_position_loss: 0.0000e+00 - val_valid_rotation_loss: 0.0000e+00 - val_valid_max_rotation_loss: 0.0000e+00\n",
      "Epoch 48/10000\n",
      "20/20 [==============================] - 6s 305ms/step - train_loss: 0.0254 - valid_loss: 0.0000e+00 - train_act_with_enc_loss: 0.0254 - train_act_with_plan_loss: 0.0648 - valid_act_with_enc_loss: 0.0000e+00 - valid_act_with_plan_loss: 0.0000e+00 - reg_loss: 135.6269 - valid_reg_loss: 0.0000e+00 - valid_position_loss: 0.0000e+00 - valid_max_position_loss: 0.0000e+00 - valid_rotation_loss: 0.0000e+00 - valid_max_rotation_loss: 0.0000e+00 - beta: 0.0000e+00 - val_train_loss: 0.0000e+00 - val_valid_loss: 0.0670 - val_train_act_with_enc_loss: 0.0000e+00 - val_train_act_with_plan_loss: 0.0000e+00 - val_valid_act_with_enc_loss: 0.0270 - val_valid_act_with_plan_loss: 0.0670 - val_reg_loss: 0.0000e+00 - val_valid_reg_loss: 134.8406 - val_valid_position_loss: 0.0000e+00 - val_valid_max_position_loss: 0.0000e+00 - val_valid_rotation_loss: 0.0000e+00 - val_valid_max_rotation_loss: 0.0000e+00\n",
      "Epoch 49/10000\n",
      "20/20 [==============================] - 6s 310ms/step - train_loss: 0.0252 - valid_loss: 0.0000e+00 - train_act_with_enc_loss: 0.0252 - train_act_with_plan_loss: 0.0661 - valid_act_with_enc_loss: 0.0000e+00 - valid_act_with_plan_loss: 0.0000e+00 - reg_loss: 138.8940 - valid_reg_loss: 0.0000e+00 - valid_position_loss: 0.0000e+00 - valid_max_position_loss: 0.0000e+00 - valid_rotation_loss: 0.0000e+00 - valid_max_rotation_loss: 0.0000e+00 - beta: 0.0000e+00 - val_train_loss: 0.0000e+00 - val_valid_loss: 0.0689 - val_train_act_with_enc_loss: 0.0000e+00 - val_train_act_with_plan_loss: 0.0000e+00 - val_valid_act_with_enc_loss: 0.0248 - val_valid_act_with_plan_loss: 0.0689 - val_reg_loss: 0.0000e+00 - val_valid_reg_loss: 138.4451 - val_valid_position_loss: 0.0000e+00 - val_valid_max_position_loss: 0.0000e+00 - val_valid_rotation_loss: 0.0000e+00 - val_valid_max_rotation_loss: 0.0000e+00\n",
      "Epoch 50/10000\n",
      "20/20 [==============================] - ETA: 0s - train_loss: 0.0254 - valid_loss: 0.0000e+00 - train_act_with_enc_loss: 0.0254 - train_act_with_plan_loss: 0.0663 - valid_act_with_enc_loss: 0.0000e+00 - valid_act_with_plan_loss: 0.0000e+00 - reg_loss: 140.6054 - valid_reg_loss: 0.0000e+00 - valid_position_loss: 0.0000e+00 - valid_max_position_loss: 0.0000e+00 - valid_rotation_loss: 0.0000e+00 - valid_max_rotation_loss: 0.0000e+00 - beta: 0.0000e+00WARNING:tensorflow:Can save best model only with val_total_loss available, skipping.\n",
      "20/20 [==============================] - 6s 309ms/step - train_loss: 0.0254 - valid_loss: 0.0000e+00 - train_act_with_enc_loss: 0.0254 - train_act_with_plan_loss: 0.0663 - valid_act_with_enc_loss: 0.0000e+00 - valid_act_with_plan_loss: 0.0000e+00 - reg_loss: 140.6054 - valid_reg_loss: 0.0000e+00 - valid_position_loss: 0.0000e+00 - valid_max_position_loss: 0.0000e+00 - valid_rotation_loss: 0.0000e+00 - valid_max_rotation_loss: 0.0000e+00 - beta: 0.0000e+00 - val_train_loss: 0.0000e+00 - val_valid_loss: 0.0677 - val_train_act_with_enc_loss: 0.0000e+00 - val_train_act_with_plan_loss: 0.0000e+00 - val_valid_act_with_enc_loss: 0.0243 - val_valid_act_with_plan_loss: 0.0677 - val_reg_loss: 0.0000e+00 - val_valid_reg_loss: 137.3972 - val_valid_position_loss: 0.0000e+00 - val_valid_max_position_loss: 0.0000e+00 - val_valid_rotation_loss: 0.0000e+00 - val_valid_max_rotation_loss: 0.0000e+00\n",
      "Epoch 51/10000\n",
      "20/20 [==============================] - 6s 311ms/step - train_loss: 0.0256 - valid_loss: 0.0000e+00 - train_act_with_enc_loss: 0.0256 - train_act_with_plan_loss: 0.0666 - valid_act_with_enc_loss: 0.0000e+00 - valid_act_with_plan_loss: 0.0000e+00 - reg_loss: 141.0934 - valid_reg_loss: 0.0000e+00 - valid_position_loss: 0.0000e+00 - valid_max_position_loss: 0.0000e+00 - valid_rotation_loss: 0.0000e+00 - valid_max_rotation_loss: 0.0000e+00 - beta: 0.0000e+00 - val_train_loss: 0.0000e+00 - val_valid_loss: 0.0666 - val_train_act_with_enc_loss: 0.0000e+00 - val_train_act_with_plan_loss: 0.0000e+00 - val_valid_act_with_enc_loss: 0.0245 - val_valid_act_with_plan_loss: 0.0666 - val_reg_loss: 0.0000e+00 - val_valid_reg_loss: 140.3741 - val_valid_position_loss: 0.0000e+00 - val_valid_max_position_loss: 0.0000e+00 - val_valid_rotation_loss: 0.0000e+00 - val_valid_max_rotation_loss: 0.0000e+00\n",
      "Epoch 52/10000\n",
      "20/20 [==============================] - 6s 313ms/step - train_loss: 0.0260 - valid_loss: 0.0000e+00 - train_act_with_enc_loss: 0.0260 - train_act_with_plan_loss: 0.0670 - valid_act_with_enc_loss: 0.0000e+00 - valid_act_with_plan_loss: 0.0000e+00 - reg_loss: 139.3479 - valid_reg_loss: 0.0000e+00 - valid_position_loss: 0.0000e+00 - valid_max_position_loss: 0.0000e+00 - valid_rotation_loss: 0.0000e+00 - valid_max_rotation_loss: 0.0000e+00 - beta: 0.0000e+00 - val_train_loss: 0.0000e+00 - val_valid_loss: 0.0665 - val_train_act_with_enc_loss: 0.0000e+00 - val_train_act_with_plan_loss: 0.0000e+00 - val_valid_act_with_enc_loss: 0.0252 - val_valid_act_with_plan_loss: 0.0665 - val_reg_loss: 0.0000e+00 - val_valid_reg_loss: 134.9427 - val_valid_position_loss: 0.0000e+00 - val_valid_max_position_loss: 0.0000e+00 - val_valid_rotation_loss: 0.0000e+00 - val_valid_max_rotation_loss: 0.0000e+00\n",
      "Epoch 53/10000\n",
      "20/20 [==============================] - 6s 312ms/step - train_loss: 0.0251 - valid_loss: 0.0000e+00 - train_act_with_enc_loss: 0.0251 - train_act_with_plan_loss: 0.0660 - valid_act_with_enc_loss: 0.0000e+00 - valid_act_with_plan_loss: 0.0000e+00 - reg_loss: 139.2523 - valid_reg_loss: 0.0000e+00 - valid_position_loss: 0.0000e+00 - valid_max_position_loss: 0.0000e+00 - valid_rotation_loss: 0.0000e+00 - valid_max_rotation_loss: 0.0000e+00 - beta: 0.0000e+00 - val_train_loss: 0.0000e+00 - val_valid_loss: 0.0643 - val_train_act_with_enc_loss: 0.0000e+00 - val_train_act_with_plan_loss: 0.0000e+00 - val_valid_act_with_enc_loss: 0.0250 - val_valid_act_with_plan_loss: 0.0643 - val_reg_loss: 0.0000e+00 - val_valid_reg_loss: 137.1671 - val_valid_position_loss: 0.0000e+00 - val_valid_max_position_loss: 0.0000e+00 - val_valid_rotation_loss: 0.0000e+00 - val_valid_max_rotation_loss: 0.0000e+00\n",
      "Epoch 54/10000\n",
      "20/20 [==============================] - 6s 313ms/step - train_loss: 0.0246 - valid_loss: 0.0000e+00 - train_act_with_enc_loss: 0.0246 - train_act_with_plan_loss: 0.0655 - valid_act_with_enc_loss: 0.0000e+00 - valid_act_with_plan_loss: 0.0000e+00 - reg_loss: 140.0175 - valid_reg_loss: 0.0000e+00 - valid_position_loss: 0.0000e+00 - valid_max_position_loss: 0.0000e+00 - valid_rotation_loss: 0.0000e+00 - valid_max_rotation_loss: 0.0000e+00 - beta: 0.0000e+00 - val_train_loss: 0.0000e+00 - val_valid_loss: 0.0668 - val_train_act_with_enc_loss: 0.0000e+00 - val_train_act_with_plan_loss: 0.0000e+00 - val_valid_act_with_enc_loss: 0.0252 - val_valid_act_with_plan_loss: 0.0668 - val_reg_loss: 0.0000e+00 - val_valid_reg_loss: 139.1065 - val_valid_position_loss: 0.0000e+00 - val_valid_max_position_loss: 0.0000e+00 - val_valid_rotation_loss: 0.0000e+00 - val_valid_max_rotation_loss: 0.0000e+00\n",
      "Epoch 55/10000\n",
      "20/20 [==============================] - 6s 309ms/step - train_loss: 0.0239 - valid_loss: 0.0000e+00 - train_act_with_enc_loss: 0.0239 - train_act_with_plan_loss: 0.0648 - valid_act_with_enc_loss: 0.0000e+00 - valid_act_with_plan_loss: 0.0000e+00 - reg_loss: 137.7513 - valid_reg_loss: 0.0000e+00 - valid_position_loss: 0.0000e+00 - valid_max_position_loss: 0.0000e+00 - valid_rotation_loss: 0.0000e+00 - valid_max_rotation_loss: 0.0000e+00 - beta: 0.0000e+00 - val_train_loss: 0.0000e+00 - val_valid_loss: 0.0644 - val_train_act_with_enc_loss: 0.0000e+00 - val_train_act_with_plan_loss: 0.0000e+00 - val_valid_act_with_enc_loss: 0.0249 - val_valid_act_with_plan_loss: 0.0644 - val_reg_loss: 0.0000e+00 - val_valid_reg_loss: 139.8171 - val_valid_position_loss: 0.0000e+00 - val_valid_max_position_loss: 0.0000e+00 - val_valid_rotation_loss: 0.0000e+00 - val_valid_max_rotation_loss: 0.0000e+00\n",
      "Epoch 56/10000\n",
      "20/20 [==============================] - 6s 315ms/step - train_loss: 0.0238 - valid_loss: 0.0000e+00 - train_act_with_enc_loss: 0.0238 - train_act_with_plan_loss: 0.0654 - valid_act_with_enc_loss: 0.0000e+00 - valid_act_with_plan_loss: 0.0000e+00 - reg_loss: 140.2295 - valid_reg_loss: 0.0000e+00 - valid_position_loss: 0.0000e+00 - valid_max_position_loss: 0.0000e+00 - valid_rotation_loss: 0.0000e+00 - valid_max_rotation_loss: 0.0000e+00 - beta: 0.0000e+00 - val_train_loss: 0.0000e+00 - val_valid_loss: 0.0677 - val_train_act_with_enc_loss: 0.0000e+00 - val_train_act_with_plan_loss: 0.0000e+00 - val_valid_act_with_enc_loss: 0.0245 - val_valid_act_with_plan_loss: 0.0677 - val_reg_loss: 0.0000e+00 - val_valid_reg_loss: 136.1602 - val_valid_position_loss: 0.0000e+00 - val_valid_max_position_loss: 0.0000e+00 - val_valid_rotation_loss: 0.0000e+00 - val_valid_max_rotation_loss: 0.0000e+00\n",
      "Epoch 57/10000\n",
      "20/20 [==============================] - 6s 310ms/step - train_loss: 0.0234 - valid_loss: 0.0000e+00 - train_act_with_enc_loss: 0.0234 - train_act_with_plan_loss: 0.0655 - valid_act_with_enc_loss: 0.0000e+00 - valid_act_with_plan_loss: 0.0000e+00 - reg_loss: 139.4510 - valid_reg_loss: 0.0000e+00 - valid_position_loss: 0.0000e+00 - valid_max_position_loss: 0.0000e+00 - valid_rotation_loss: 0.0000e+00 - valid_max_rotation_loss: 0.0000e+00 - beta: 0.0000e+00 - val_train_loss: 0.0000e+00 - val_valid_loss: 0.0669 - val_train_act_with_enc_loss: 0.0000e+00 - val_train_act_with_plan_loss: 0.0000e+00 - val_valid_act_with_enc_loss: 0.0242 - val_valid_act_with_plan_loss: 0.0669 - val_reg_loss: 0.0000e+00 - val_valid_reg_loss: 139.0482 - val_valid_position_loss: 0.0000e+00 - val_valid_max_position_loss: 0.0000e+00 - val_valid_rotation_loss: 0.0000e+00 - val_valid_max_rotation_loss: 0.0000e+00\n",
      "Epoch 58/10000\n",
      "20/20 [==============================] - 6s 304ms/step - train_loss: 0.0225 - valid_loss: 0.0000e+00 - train_act_with_enc_loss: 0.0225 - train_act_with_plan_loss: 0.0648 - valid_act_with_enc_loss: 0.0000e+00 - valid_act_with_plan_loss: 0.0000e+00 - reg_loss: 142.5546 - valid_reg_loss: 0.0000e+00 - valid_position_loss: 0.0000e+00 - valid_max_position_loss: 0.0000e+00 - valid_rotation_loss: 0.0000e+00 - valid_max_rotation_loss: 0.0000e+00 - beta: 0.0000e+00 - val_train_loss: 0.0000e+00 - val_valid_loss: 0.0672 - val_train_act_with_enc_loss: 0.0000e+00 - val_train_act_with_plan_loss: 0.0000e+00 - val_valid_act_with_enc_loss: 0.0241 - val_valid_act_with_plan_loss: 0.0672 - val_reg_loss: 0.0000e+00 - val_valid_reg_loss: 141.4883 - val_valid_position_loss: 0.0000e+00 - val_valid_max_position_loss: 0.0000e+00 - val_valid_rotation_loss: 0.0000e+00 - val_valid_max_rotation_loss: 0.0000e+00\n",
      "Epoch 59/10000\n",
      "20/20 [==============================] - 6s 312ms/step - train_loss: 0.0225 - valid_loss: 0.0000e+00 - train_act_with_enc_loss: 0.0225 - train_act_with_plan_loss: 0.0649 - valid_act_with_enc_loss: 0.0000e+00 - valid_act_with_plan_loss: 0.0000e+00 - reg_loss: 144.5155 - valid_reg_loss: 0.0000e+00 - valid_position_loss: 0.0000e+00 - valid_max_position_loss: 0.0000e+00 - valid_rotation_loss: 0.0000e+00 - valid_max_rotation_loss: 0.0000e+00 - beta: 0.0000e+00 - val_train_loss: 0.0000e+00 - val_valid_loss: 0.0692 - val_train_act_with_enc_loss: 0.0000e+00 - val_train_act_with_plan_loss: 0.0000e+00 - val_valid_act_with_enc_loss: 0.0253 - val_valid_act_with_plan_loss: 0.0692 - val_reg_loss: 0.0000e+00 - val_valid_reg_loss: 143.6998 - val_valid_position_loss: 0.0000e+00 - val_valid_max_position_loss: 0.0000e+00 - val_valid_rotation_loss: 0.0000e+00 - val_valid_max_rotation_loss: 0.0000e+00\n",
      "Epoch 60/10000\n",
      "20/20 [==============================] - 6s 315ms/step - train_loss: 0.0226 - valid_loss: 0.0000e+00 - train_act_with_enc_loss: 0.0226 - train_act_with_plan_loss: 0.0637 - valid_act_with_enc_loss: 0.0000e+00 - valid_act_with_plan_loss: 0.0000e+00 - reg_loss: 142.7148 - valid_reg_loss: 0.0000e+00 - valid_position_loss: 0.0000e+00 - valid_max_position_loss: 0.0000e+00 - valid_rotation_loss: 0.0000e+00 - valid_max_rotation_loss: 0.0000e+00 - beta: 0.0000e+00 - val_train_loss: 0.0000e+00 - val_valid_loss: 0.0684 - val_train_act_with_enc_loss: 0.0000e+00 - val_train_act_with_plan_loss: 0.0000e+00 - val_valid_act_with_enc_loss: 0.0233 - val_valid_act_with_plan_loss: 0.0684 - val_reg_loss: 0.0000e+00 - val_valid_reg_loss: 135.8271 - val_valid_position_loss: 0.0000e+00 - val_valid_max_position_loss: 0.0000e+00 - val_valid_rotation_loss: 0.0000e+00 - val_valid_max_rotation_loss: 0.0000e+00\n",
      "Epoch 61/10000\n",
      "20/20 [==============================] - 6s 312ms/step - train_loss: 0.0220 - valid_loss: 0.0000e+00 - train_act_with_enc_loss: 0.0220 - train_act_with_plan_loss: 0.0639 - valid_act_with_enc_loss: 0.0000e+00 - valid_act_with_plan_loss: 0.0000e+00 - reg_loss: 144.9652 - valid_reg_loss: 0.0000e+00 - valid_position_loss: 0.0000e+00 - valid_max_position_loss: 0.0000e+00 - valid_rotation_loss: 0.0000e+00 - valid_max_rotation_loss: 0.0000e+00 - beta: 0.0000e+00 - val_train_loss: 0.0000e+00 - val_valid_loss: 0.0682 - val_train_act_with_enc_loss: 0.0000e+00 - val_train_act_with_plan_loss: 0.0000e+00 - val_valid_act_with_enc_loss: 0.0242 - val_valid_act_with_plan_loss: 0.0682 - val_reg_loss: 0.0000e+00 - val_valid_reg_loss: 138.3964 - val_valid_position_loss: 0.0000e+00 - val_valid_max_position_loss: 0.0000e+00 - val_valid_rotation_loss: 0.0000e+00 - val_valid_max_rotation_loss: 0.0000e+00\n",
      "Epoch 62/10000\n",
      "20/20 [==============================] - 6s 305ms/step - train_loss: 0.0222 - valid_loss: 0.0000e+00 - train_act_with_enc_loss: 0.0222 - train_act_with_plan_loss: 0.0649 - valid_act_with_enc_loss: 0.0000e+00 - valid_act_with_plan_loss: 0.0000e+00 - reg_loss: 144.9724 - valid_reg_loss: 0.0000e+00 - valid_position_loss: 0.0000e+00 - valid_max_position_loss: 0.0000e+00 - valid_rotation_loss: 0.0000e+00 - valid_max_rotation_loss: 0.0000e+00 - beta: 0.0000e+00 - val_train_loss: 0.0000e+00 - val_valid_loss: 0.0710 - val_train_act_with_enc_loss: 0.0000e+00 - val_train_act_with_plan_loss: 0.0000e+00 - val_valid_act_with_enc_loss: 0.0227 - val_valid_act_with_plan_loss: 0.0710 - val_reg_loss: 0.0000e+00 - val_valid_reg_loss: 137.8416 - val_valid_position_loss: 0.0000e+00 - val_valid_max_position_loss: 0.0000e+00 - val_valid_rotation_loss: 0.0000e+00 - val_valid_max_rotation_loss: 0.0000e+00\n",
      "Epoch 63/10000\n",
      "14/20 [====================>.........] - ETA: 0s - train_loss: 0.0221 - valid_loss: 0.0000e+00 - train_act_with_enc_loss: 0.0221 - train_act_with_plan_loss: 0.0647 - valid_act_with_enc_loss: 0.0000e+00 - valid_act_with_plan_loss: 0.0000e+00 - reg_loss: 143.0825 - valid_reg_loss: 0.0000e+00 - valid_position_loss: 0.0000e+00 - valid_max_position_loss: 0.0000e+00 - valid_rotation_loss: 0.0000e+00 - valid_max_rotation_loss: 0.0000e+00 - beta: 0.0000e+00"
     ]
    }
   ],
   "source": [
    "history = prep.model.model.fit(\n",
    "    prep.dataloader.train_dataset,\n",
    "    validation_data = prep.dataloader.valid_dataset,\n",
    "    epochs = 10000,\n",
    "    steps_per_epoch = 20,\n",
    "    validation_steps = 1,\n",
    "    callbacks = [prep.utils.checkpoint_callback, prep.utils.step_logger]\n",
    ")"
   ]
  }
 ]
}