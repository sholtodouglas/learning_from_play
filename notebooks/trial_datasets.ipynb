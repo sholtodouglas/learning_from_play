{
  "nbformat": 4,
  "nbformat_minor": 0,
  "metadata": {
    "accelerator": "TPU",
    "colab": {
      "name": "LMP Test.ipynb",
      "provenance": [],
      "collapsed_sections": [
        "G84fGXVwv9Fh",
        "-yC0L1P3v9GA",
        "8SHQGBjnv9GK",
        "b7CMny5dv9Gx",
        "njbQpQAGv9G2"
      ],
      "toc_visible": true,
      "machine_shape": "hm",
      "include_colab_link": true
    },
    "kernelspec": {
      "display_name": "Python 3",
      "language": "python",
      "name": "python3"
    },
    "language_info": {
      "codemirror_mode": {
        "name": "ipython",
        "version": 3
      },
      "file_extension": ".py",
      "mimetype": "text/x-python",
      "name": "python",
      "nbconvert_exporter": "python",
      "pygments_lexer": "ipython3",
      "version": "3.7.3"
    }
  },
  "cells": [
    {
      "cell_type": "markdown",
      "metadata": {
        "id": "view-in-github",
        "colab_type": "text"
      },
      "source": [
        "<a href=\"https://colab.research.google.com/github/sholtodouglas/learning_from_play/blob/master/notebooks/trial_datasets.ipynb\" target=\"_parent\"><img src=\"https://colab.research.google.com/assets/colab-badge.svg\" alt=\"Open In Colab\"/></a>"
      ]
    },
    {
      "cell_type": "code",
      "metadata": {
        "colab": {
          "base_uri": "https://localhost:8080/"
        },
        "id": "7jUYgZwpGfav",
        "outputId": "93ab4121-6152-46d1-c3fc-cef3f17ed691"
      },
      "source": [
        "!pip install wandb -q\n",
        "!pip install pathy -q\n",
        "!pip install comet_ml -q"
      ],
      "execution_count": 1,
      "outputs": [
        {
          "output_type": "stream",
          "text": [
            "\u001b[K     |████████████████████████████████| 2.0MB 6.7MB/s \n",
            "\u001b[K     |████████████████████████████████| 163kB 24.9MB/s \n",
            "\u001b[K     |████████████████████████████████| 133kB 22.6MB/s \n",
            "\u001b[K     |████████████████████████████████| 102kB 8.7MB/s \n",
            "\u001b[K     |████████████████████████████████| 71kB 8.4MB/s \n",
            "\u001b[?25h  Building wheel for subprocess32 (setup.py) ... \u001b[?25l\u001b[?25hdone\n",
            "  Building wheel for pathtools (setup.py) ... \u001b[?25l\u001b[?25hdone\n",
            "\u001b[K     |████████████████████████████████| 122kB 8.4MB/s \n",
            "\u001b[?25h  Building wheel for smart-open (setup.py) ... \u001b[?25l\u001b[?25hdone\n",
            "\u001b[K     |████████████████████████████████| 256kB 6.5MB/s \n",
            "\u001b[K     |████████████████████████████████| 522kB 10.0MB/s \n",
            "\u001b[K     |████████████████████████████████| 61kB 5.9MB/s \n",
            "\u001b[K     |████████████████████████████████| 61kB 5.4MB/s \n",
            "\u001b[?25h  Building wheel for netifaces (setup.py) ... \u001b[?25l\u001b[?25hdone\n",
            "  Building wheel for configobj (setup.py) ... \u001b[?25l\u001b[?25hdone\n"
          ],
          "name": "stdout"
        }
      ]
    },
    {
      "cell_type": "code",
      "metadata": {
        "colab": {
          "base_uri": "https://localhost:8080/"
        },
        "id": "A74JBvLldKd-",
        "outputId": "a7e6c829-2760-4b50-b713-ae2823a749d6"
      },
      "source": [
        "import requests\n",
        "r = requests.get('https://ipinfo.io')\n",
        "r.json()"
      ],
      "execution_count": 2,
      "outputs": [
        {
          "output_type": "execute_result",
          "data": {
            "text/plain": [
              "{'city': 'Council Bluffs',\n",
              " 'country': 'US',\n",
              " 'hostname': '61.204.154.104.bc.googleusercontent.com',\n",
              " 'ip': '104.154.204.61',\n",
              " 'loc': '41.2619,-95.8608',\n",
              " 'org': 'AS15169 Google LLC',\n",
              " 'postal': '51502',\n",
              " 'readme': 'https://ipinfo.io/missingauth',\n",
              " 'region': 'Iowa',\n",
              " 'timezone': 'America/Chicago'}"
            ]
          },
          "metadata": {
            "tags": []
          },
          "execution_count": 2
        }
      ]
    },
    {
      "cell_type": "code",
      "metadata": {
        "colab": {
          "base_uri": "https://localhost:8080/",
          "height": 71
        },
        "id": "OFJvewo0ee6r",
        "outputId": "b5abf1a8-d25b-43e1-9bf3-9fad915b65b5"
      },
      "source": [
        "# import comet_ml at the top of your file\n",
        "from comet_ml import Experiment\n",
        "import wandb\n",
        "wandb.login()\n"
      ],
      "execution_count": 3,
      "outputs": [
        {
          "output_type": "display_data",
          "data": {
            "application/javascript": [
              "\n",
              "        window._wandbApiKey = new Promise((resolve, reject) => {\n",
              "            function loadScript(url) {\n",
              "            return new Promise(function(resolve, reject) {\n",
              "                let newScript = document.createElement(\"script\");\n",
              "                newScript.onerror = reject;\n",
              "                newScript.onload = resolve;\n",
              "                document.body.appendChild(newScript);\n",
              "                newScript.src = url;\n",
              "            });\n",
              "            }\n",
              "            loadScript(\"https://cdn.jsdelivr.net/npm/postmate/build/postmate.min.js\").then(() => {\n",
              "            const iframe = document.createElement('iframe')\n",
              "            iframe.style.cssText = \"width:0;height:0;border:none\"\n",
              "            document.body.appendChild(iframe)\n",
              "            const handshake = new Postmate({\n",
              "                container: iframe,\n",
              "                url: 'https://wandb.ai/authorize'\n",
              "            });\n",
              "            const timeout = setTimeout(() => reject(\"Couldn't auto authenticate\"), 5000)\n",
              "            handshake.then(function(child) {\n",
              "                child.on('authorize', data => {\n",
              "                    clearTimeout(timeout)\n",
              "                    resolve(data)\n",
              "                });\n",
              "            });\n",
              "            })\n",
              "        });\n",
              "    "
            ],
            "text/plain": [
              "<IPython.core.display.Javascript object>"
            ]
          },
          "metadata": {
            "tags": []
          }
        },
        {
          "output_type": "stream",
          "text": [
            "\u001b[34m\u001b[1mwandb\u001b[0m: Appending key for api.wandb.ai to your netrc file: /root/.netrc\n"
          ],
          "name": "stderr"
        },
        {
          "output_type": "execute_result",
          "data": {
            "text/plain": [
              "True"
            ]
          },
          "metadata": {
            "tags": []
          },
          "execution_count": 3
        }
      ]
    },
    {
      "cell_type": "code",
      "metadata": {
        "colab": {
          "base_uri": "https://localhost:8080/"
        },
        "id": "z68MkXdDZaSZ",
        "outputId": "b0eb507c-2703-418f-e449-14a05c22f154"
      },
      "source": [
        "import argparse\n",
        "\n",
        "parser = argparse.ArgumentParser(description='LFP training arguments')\n",
        "parser.add_argument('run_name')\n",
        "parser.add_argument('--train_datasets', nargs='+', help='Training dataset names')\n",
        "parser.add_argument('--test_datasets', nargs='+', help='Testing dataset names')\n",
        "parser.add_argument('-c', '--colab', default=False, action='store_true', help='Enable if using colab environment')\n",
        "parser.add_argument('-s', '--data_source', default='DRIVE', help='Source of training data')\n",
        "parser.add_argument('-tfr', '--from_tfrecords', default=False, action='store_true', help='Enable if using tfrecords format')\n",
        "parser.add_argument('-d', '--device', default='TPU', help='Hardware device to train on')\n",
        "parser.add_argument('-b', '--batch_size', default=512, type=int)\n",
        "parser.add_argument('-wmax', '--window_size_max', default=50, type=int)\n",
        "parser.add_argument('-wmin', '--window_size_min', default=20, type=int)\n",
        "parser.add_argument('-la', '--actor_layer_size', default=2048, type=int, help='Layer size of actor, increases size of neural net')\n",
        "parser.add_argument('-le', '--encoder_layer_size', default=512, type=int, help='Layer size of encoder, increases size of neural net')\n",
        "parser.add_argument('-lp', '--planner_layer_size', default=512, type=int, help='Layer size of planner, increases size of neural net')\n",
        "parser.add_argument('-embd', '--img_embedding_size', default=64, type=int, help='Embedding size of features,goal space')\n",
        "parser.add_argument('-z', '--latent_dim', default=256, type=int, help='Size of the VAE latent space')\n",
        "parser.add_argument('-g', '--gcbc', default=False, action='store_true', help='Enables GCBC, a simpler model with no encoder/planner')\n",
        "parser.add_argument('-n', '--num_distribs', default=None, type=int, help='Number of distributions to use in logistic mixture model')\n",
        "parser.add_argument('-q', '--qbits', default=None, type=int, help='Number of quantisation bits to discrete distributions into. Total quantisations = 2**qbits')\n",
        "parser.add_argument('-lr', '--learning_rate', type=float, default=3e-4)\n",
        "parser.add_argument('-t', '--train_steps', type=int, default=200000)\n",
        "parser.add_argument('-r', '--resume', default=False, action='store_true')\n",
        "parser.add_argument('-B', '--beta', type=float, default=0.00003)\n",
        "parser.add_argument('-i', '--images', default=False, action='store_true')\n",
        "parser.add_argument('--fp16', default=False, action='store_true')\n",
        "parser.add_argument('--bucket_name', help='GCS bucket name to stream data from')\n",
        "parser.add_argument('--tpu_name', help='GCP TPU name') # Only used in the script on GCP\n",
        "\n",
        "\n",
        "## Sample colab config\n",
        "# args = parser.parse_args('''\n",
        "# refactor_test\n",
        "# --train_dataset UR5 UR5_slow_gripper UR5_high_transition\n",
        "# --test_dataset UR5_slow_gripper_test\n",
        "# -c\n",
        "# -tfr\n",
        "# -s GCS\n",
        "# -d TPU\n",
        "# -b 512\n",
        "# -la 2048\n",
        "# -le 512\n",
        "# -lp 2048\n",
        "# -z 256\n",
        "# -lr 3e-4\n",
        "# --bucket_name iowa_bucket_lfp\n",
        "# '''.split())\n",
        "\n",
        "## Sample colab config\n",
        "args = parser.parse_args('''\n",
        "PB0_02\n",
        "--train_dataset UR5 UR5_slow_gripper UR5_high_transition\n",
        "--test_dataset UR5_slow_gripper_test\n",
        "-c\n",
        "-s GCS\n",
        "-d TPU\n",
        "-b 64\n",
        "-la 2048\n",
        "-le 512\n",
        "-lp 2048\n",
        "-wmax 40\n",
        "-wmin 20\n",
        "-z 256\n",
        "-lr 3e-4\n",
        "-B 0.02\n",
        "-i \n",
        "-tfr\n",
        "-n 5\n",
        "--bucket_name iowa_bucket_lfp\n",
        "'''.split())\n",
        "\n",
        "# -n 5\n",
        "# -q 8\n",
        "\n",
        "print(args)"
      ],
      "execution_count": 43,
      "outputs": [
        {
          "output_type": "stream",
          "text": [
            "Namespace(actor_layer_size=2048, batch_size=64, beta=0.02, bucket_name='iowa_bucket_lfp', colab=True, data_source='GCS', device='TPU', encoder_layer_size=512, fp16=False, from_tfrecords=True, gcbc=False, images=True, img_embedding_size=64, latent_dim=256, learning_rate=0.0003, num_distribs=5, planner_layer_size=2048, qbits=None, resume=False, run_name='PB0_02', test_datasets=['UR5_slow_gripper_test'], tpu_name=None, train_datasets=['UR5', 'UR5_slow_gripper', 'UR5_high_transition'], train_steps=200000, window_size_max=40, window_size_min=20)\n"
          ],
          "name": "stdout"
        }
      ]
    },
    {
      "cell_type": "markdown",
      "metadata": {
        "id": "EliqxOpPv9Dy"
      },
      "source": [
        "## Init"
      ]
    },
    {
      "cell_type": "code",
      "metadata": {
        "colab": {
          "base_uri": "https://localhost:8080/"
        },
        "id": "zMJ___6ARZ4u",
        "outputId": "365331dc-cd80-48c1-d8dd-dbd8f3e5ceab"
      },
      "source": [
        "from pathlib import Path\n",
        "from pathy import Pathy\n",
        "import os\n",
        "import requests\n",
        "import json\n",
        "import pprint\n",
        "import logging\n",
        "import numpy as np\n",
        "import tensorflow as tf\n",
        "import time\n",
        "\n",
        "\n",
        "\n",
        "pp = pprint.PrettyPrinter(indent=4)\n",
        "# In[4]:\n",
        "\n",
        "\n",
        "#@title Workpace Setup (Local vs Colab)\n",
        "\n",
        "# Set up working directory and libraries\n",
        "if args.colab:\n",
        "    from google.colab import drive, auth\n",
        "    print('Using colab setup')\n",
        "    WORKING_PATH = Path('/content/learning_from_play')\n",
        "    # Clone repo\n",
        "    try:\n",
        "        get_ipython().system(\"git clone 'https://github.com/sholtodouglas/learning_from_play' {WORKING_PATH}\")\n",
        "    except: \n",
        "        pass\n",
        "    # Mount drive\n",
        "    drive.mount('/content/drive')\n",
        "else:\n",
        "    print('Using local setup')\n",
        "    WORKING_PATH = Path.cwd()\n",
        "    print(f'Working path: {WORKING_PATH}')\n",
        "\n",
        "# Change working directory to learning_from_play\n",
        "os.chdir(WORKING_PATH)\n",
        "import lfp\n",
        "\n",
        "# Set up storage directory and datasets\n",
        "if args.data_source == 'DRIVE':\n",
        "    assert args.colab, \"Must be using Colab\"\n",
        "    print('Reading data from Google Drive')\n",
        "    STORAGE_PATH = Path('/content/drive/My Drive/Robotic Learning')\n",
        "elif args.data_source == 'GCS':\n",
        "    if args.colab:\n",
        "      auth.authenticate_user()\n",
        "    print('Reading data from Google Cloud Storage')\n",
        "    r = requests.get('https://ipinfo.io')\n",
        "    region = r.json()['region']\n",
        "    project_id = 'learning-from-play-303306'\n",
        "    logging.warning(f'You are accessing GCS data from {region}, make sure this is the same as your bucket {args.bucket_name}')\n",
        "    STORAGE_PATH = Pathy(f'gs://{args.bucket_name}')\n",
        "else:\n",
        "    print('Reading data from local filesystem')\n",
        "    STORAGE_PATH = WORKING_PATH\n",
        "\n",
        "print(f'Storage path: {STORAGE_PATH}')\n",
        "TRAIN_DATA_PATHS = [STORAGE_PATH/'data'/x for x in args.train_datasets]\n",
        "TEST_DATA_PATHS = [STORAGE_PATH/'data'/x for x in args.test_datasets]"
      ],
      "execution_count": 5,
      "outputs": [
        {
          "output_type": "stream",
          "text": [
            "Using colab setup\n",
            "Cloning into '/content/learning_from_play'...\n",
            "remote: Enumerating objects: 139, done.\u001b[K\n",
            "remote: Counting objects: 100% (139/139), done.\u001b[K\n",
            "remote: Compressing objects: 100% (107/107), done.\u001b[K\n",
            "remote: Total 2619 (delta 89), reused 63 (delta 32), pack-reused 2480\u001b[K\n",
            "Receiving objects: 100% (2619/2619), 124.62 MiB | 21.00 MiB/s, done.\n",
            "Resolving deltas: 100% (1567/1567), done.\n",
            "Checking out files: 100% (78/78), done.\n",
            "Mounted at /content/drive\n",
            "No pybullet installation found - which is fine if training\n"
          ],
          "name": "stdout"
        },
        {
          "output_type": "stream",
          "text": [
            "WARNING:root:You are accessing GCS data from Iowa, make sure this is the same as your bucket iowa_bucket_lfp\n"
          ],
          "name": "stderr"
        },
        {
          "output_type": "stream",
          "text": [
            "Reading data from Google Cloud Storage\n",
            "Storage path: gs://iowa_bucket_lfp/\n"
          ],
          "name": "stdout"
        }
      ]
    },
    {
      "cell_type": "code",
      "metadata": {
        "colab": {
          "base_uri": "https://localhost:8080/"
        },
        "id": "6zbmq324x2yv",
        "outputId": "f5d52d7d-13e6-4094-c7b0-30e262eaeb8b"
      },
      "source": [
        "\n",
        "print(\"Tensorflow version \" + tf.__version__)\n",
        "\n",
        "if args.device == 'TPU':\n",
        "    try:\n",
        "        tpu = tf.distribute.cluster_resolver.TPUClusterResolver(tpu=args.tpu_name)  # TPU detection\n",
        "        print('Running on TPU ', tpu.cluster_spec().as_dict()['worker'])\n",
        "    except ValueError:\n",
        "        raise BaseException('ERROR: Not connected to a TPU runtime; please see the previous cell in this notebook for instructions!')\n",
        "\n",
        "    tf.config.experimental_connect_to_cluster(tpu)\n",
        "    tf.tpu.experimental.initialize_tpu_system(tpu)\n",
        "    strategy = tf.distribute.TPUStrategy(tpu)\n",
        "    NUM_DEVICES = strategy.num_replicas_in_sync\n",
        "    print(\"REPLICAS: \", NUM_DEVICES)\n",
        "    if args.fp16:\n",
        "        tf.keras.mixed_precision.set_global_policy('mixed_bfloat16')\n",
        "else:\n",
        "    physical_devices = tf.config.list_physical_devices()\n",
        "    if args.device == 'GPU':\n",
        "        tf.config.experimental.set_memory_growth(physical_devices[3], enable=True)\n",
        "        if args.fp16:\n",
        "            tf.keras.mixed_precision.set_global_policy('mixed_float16')\n",
        "    strategy = tf.distribute.get_strategy()\n",
        "    NUM_DEVICES = 1\n",
        "    print(physical_devices)"
      ],
      "execution_count": 61,
      "outputs": [
        {
          "output_type": "stream",
          "text": [
            "Tensorflow version 2.4.1\n",
            "Running on TPU  ['10.60.202.130:8470']\n",
            "WARNING:tensorflow:TPU system grpc://10.60.202.130:8470 has already been initialized. Reinitializing the TPU can cause previously created variables on TPU to be lost.\n"
          ],
          "name": "stdout"
        },
        {
          "output_type": "stream",
          "text": [
            "WARNING:tensorflow:TPU system grpc://10.60.202.130:8470 has already been initialized. Reinitializing the TPU can cause previously created variables on TPU to be lost.\n"
          ],
          "name": "stderr"
        },
        {
          "output_type": "stream",
          "text": [
            "INFO:tensorflow:Initializing the TPU system: grpc://10.60.202.130:8470\n"
          ],
          "name": "stdout"
        },
        {
          "output_type": "stream",
          "text": [
            "INFO:tensorflow:Initializing the TPU system: grpc://10.60.202.130:8470\n"
          ],
          "name": "stderr"
        },
        {
          "output_type": "stream",
          "text": [
            "INFO:tensorflow:Clearing out eager caches\n"
          ],
          "name": "stdout"
        },
        {
          "output_type": "stream",
          "text": [
            "INFO:tensorflow:Clearing out eager caches\n"
          ],
          "name": "stderr"
        },
        {
          "output_type": "stream",
          "text": [
            "INFO:tensorflow:Finished initializing TPU system.\n"
          ],
          "name": "stdout"
        },
        {
          "output_type": "stream",
          "text": [
            "INFO:tensorflow:Finished initializing TPU system.\n"
          ],
          "name": "stderr"
        },
        {
          "output_type": "stream",
          "text": [
            "INFO:tensorflow:Found TPU system:\n"
          ],
          "name": "stdout"
        },
        {
          "output_type": "stream",
          "text": [
            "INFO:tensorflow:Found TPU system:\n"
          ],
          "name": "stderr"
        },
        {
          "output_type": "stream",
          "text": [
            "INFO:tensorflow:*** Num TPU Cores: 8\n"
          ],
          "name": "stdout"
        },
        {
          "output_type": "stream",
          "text": [
            "INFO:tensorflow:*** Num TPU Cores: 8\n"
          ],
          "name": "stderr"
        },
        {
          "output_type": "stream",
          "text": [
            "INFO:tensorflow:*** Num TPU Workers: 1\n"
          ],
          "name": "stdout"
        },
        {
          "output_type": "stream",
          "text": [
            "INFO:tensorflow:*** Num TPU Workers: 1\n"
          ],
          "name": "stderr"
        },
        {
          "output_type": "stream",
          "text": [
            "INFO:tensorflow:*** Num TPU Cores Per Worker: 8\n"
          ],
          "name": "stdout"
        },
        {
          "output_type": "stream",
          "text": [
            "INFO:tensorflow:*** Num TPU Cores Per Worker: 8\n"
          ],
          "name": "stderr"
        },
        {
          "output_type": "stream",
          "text": [
            "INFO:tensorflow:*** Available Device: _DeviceAttributes(/job:localhost/replica:0/task:0/device:CPU:0, CPU, 0, 0)\n"
          ],
          "name": "stdout"
        },
        {
          "output_type": "stream",
          "text": [
            "INFO:tensorflow:*** Available Device: _DeviceAttributes(/job:localhost/replica:0/task:0/device:CPU:0, CPU, 0, 0)\n"
          ],
          "name": "stderr"
        },
        {
          "output_type": "stream",
          "text": [
            "INFO:tensorflow:*** Available Device: _DeviceAttributes(/job:worker/replica:0/task:0/device:CPU:0, CPU, 0, 0)\n"
          ],
          "name": "stdout"
        },
        {
          "output_type": "stream",
          "text": [
            "INFO:tensorflow:*** Available Device: _DeviceAttributes(/job:worker/replica:0/task:0/device:CPU:0, CPU, 0, 0)\n"
          ],
          "name": "stderr"
        },
        {
          "output_type": "stream",
          "text": [
            "INFO:tensorflow:*** Available Device: _DeviceAttributes(/job:worker/replica:0/task:0/device:TPU:0, TPU, 0, 0)\n"
          ],
          "name": "stdout"
        },
        {
          "output_type": "stream",
          "text": [
            "INFO:tensorflow:*** Available Device: _DeviceAttributes(/job:worker/replica:0/task:0/device:TPU:0, TPU, 0, 0)\n"
          ],
          "name": "stderr"
        },
        {
          "output_type": "stream",
          "text": [
            "INFO:tensorflow:*** Available Device: _DeviceAttributes(/job:worker/replica:0/task:0/device:TPU:1, TPU, 0, 0)\n"
          ],
          "name": "stdout"
        },
        {
          "output_type": "stream",
          "text": [
            "INFO:tensorflow:*** Available Device: _DeviceAttributes(/job:worker/replica:0/task:0/device:TPU:1, TPU, 0, 0)\n"
          ],
          "name": "stderr"
        },
        {
          "output_type": "stream",
          "text": [
            "INFO:tensorflow:*** Available Device: _DeviceAttributes(/job:worker/replica:0/task:0/device:TPU:2, TPU, 0, 0)\n"
          ],
          "name": "stdout"
        },
        {
          "output_type": "stream",
          "text": [
            "INFO:tensorflow:*** Available Device: _DeviceAttributes(/job:worker/replica:0/task:0/device:TPU:2, TPU, 0, 0)\n"
          ],
          "name": "stderr"
        },
        {
          "output_type": "stream",
          "text": [
            "INFO:tensorflow:*** Available Device: _DeviceAttributes(/job:worker/replica:0/task:0/device:TPU:3, TPU, 0, 0)\n"
          ],
          "name": "stdout"
        },
        {
          "output_type": "stream",
          "text": [
            "INFO:tensorflow:*** Available Device: _DeviceAttributes(/job:worker/replica:0/task:0/device:TPU:3, TPU, 0, 0)\n"
          ],
          "name": "stderr"
        },
        {
          "output_type": "stream",
          "text": [
            "INFO:tensorflow:*** Available Device: _DeviceAttributes(/job:worker/replica:0/task:0/device:TPU:4, TPU, 0, 0)\n"
          ],
          "name": "stdout"
        },
        {
          "output_type": "stream",
          "text": [
            "INFO:tensorflow:*** Available Device: _DeviceAttributes(/job:worker/replica:0/task:0/device:TPU:4, TPU, 0, 0)\n"
          ],
          "name": "stderr"
        },
        {
          "output_type": "stream",
          "text": [
            "INFO:tensorflow:*** Available Device: _DeviceAttributes(/job:worker/replica:0/task:0/device:TPU:5, TPU, 0, 0)\n"
          ],
          "name": "stdout"
        },
        {
          "output_type": "stream",
          "text": [
            "INFO:tensorflow:*** Available Device: _DeviceAttributes(/job:worker/replica:0/task:0/device:TPU:5, TPU, 0, 0)\n"
          ],
          "name": "stderr"
        },
        {
          "output_type": "stream",
          "text": [
            "INFO:tensorflow:*** Available Device: _DeviceAttributes(/job:worker/replica:0/task:0/device:TPU:6, TPU, 0, 0)\n"
          ],
          "name": "stdout"
        },
        {
          "output_type": "stream",
          "text": [
            "INFO:tensorflow:*** Available Device: _DeviceAttributes(/job:worker/replica:0/task:0/device:TPU:6, TPU, 0, 0)\n"
          ],
          "name": "stderr"
        },
        {
          "output_type": "stream",
          "text": [
            "INFO:tensorflow:*** Available Device: _DeviceAttributes(/job:worker/replica:0/task:0/device:TPU:7, TPU, 0, 0)\n"
          ],
          "name": "stdout"
        },
        {
          "output_type": "stream",
          "text": [
            "INFO:tensorflow:*** Available Device: _DeviceAttributes(/job:worker/replica:0/task:0/device:TPU:7, TPU, 0, 0)\n"
          ],
          "name": "stderr"
        },
        {
          "output_type": "stream",
          "text": [
            "INFO:tensorflow:*** Available Device: _DeviceAttributes(/job:worker/replica:0/task:0/device:TPU_SYSTEM:0, TPU_SYSTEM, 0, 0)\n"
          ],
          "name": "stdout"
        },
        {
          "output_type": "stream",
          "text": [
            "INFO:tensorflow:*** Available Device: _DeviceAttributes(/job:worker/replica:0/task:0/device:TPU_SYSTEM:0, TPU_SYSTEM, 0, 0)\n"
          ],
          "name": "stderr"
        },
        {
          "output_type": "stream",
          "text": [
            "INFO:tensorflow:*** Available Device: _DeviceAttributes(/job:worker/replica:0/task:0/device:XLA_CPU:0, XLA_CPU, 0, 0)\n"
          ],
          "name": "stdout"
        },
        {
          "output_type": "stream",
          "text": [
            "INFO:tensorflow:*** Available Device: _DeviceAttributes(/job:worker/replica:0/task:0/device:XLA_CPU:0, XLA_CPU, 0, 0)\n"
          ],
          "name": "stderr"
        },
        {
          "output_type": "stream",
          "text": [
            "REPLICAS:  8\n"
          ],
          "name": "stdout"
        }
      ]
    },
    {
      "cell_type": "code",
      "metadata": {
        "colab": {
          "base_uri": "https://localhost:8080/"
        },
        "id": "1HejtDH_Yx8h",
        "outputId": "2bf34582-398c-434b-9293-04558a660598"
      },
      "source": [
        "# Use this to edit modules without needing to restart the kernel (can also edit local, push/pull)\n",
        "!git pull\n",
        "import importlib\n",
        "importlib.reload(lfp.data)\n",
        "importlib.reload(lfp.model)\n",
        "importlib.reload(lfp.train)\n",
        "importlib.reload(lfp.metric)"
      ],
      "execution_count": 7,
      "outputs": [
        {
          "output_type": "stream",
          "text": [
            "Already up to date.\n"
          ],
          "name": "stdout"
        },
        {
          "output_type": "execute_result",
          "data": {
            "text/plain": [
              "<module 'lfp.metric' from '/content/learning_from_play/lfp/metric.py'>"
            ]
          },
          "metadata": {
            "tags": []
          },
          "execution_count": 7
        }
      ]
    },
    {
      "cell_type": "markdown",
      "metadata": {
        "id": "yUI6JP06FdTv"
      },
      "source": [
        "## Data"
      ]
    },
    {
      "cell_type": "code",
      "metadata": {
        "id": "n2lBWIyOFdTv"
      },
      "source": [
        "GLOBAL_BATCH_SIZE = 100000#args.batch_size * NUM_DEVICES\n",
        "dl = lfp.data.PlayDataloader(include_imgs = args.images, batch_size=GLOBAL_BATCH_SIZE,  window_size=args.window_size_max, min_window_size=args.window_size_min)"
      ],
      "execution_count": 62,
      "outputs": []
    },
    {
      "cell_type": "code",
      "metadata": {
        "colab": {
          "base_uri": "https://localhost:8080/"
        },
        "id": "Uiz4AXCnFdTv",
        "outputId": "556ac4ec-2aac-4d29-c62c-5470e68aea2c"
      },
      "source": [
        "# Train data\n",
        "train_data = dl.extract(TRAIN_DATA_PATHS, from_tfrecords=args.from_tfrecords)\n",
        "train_dataset = dl.load(train_data)"
      ],
      "execution_count": 63,
      "outputs": [
        {
          "output_type": "stream",
          "text": [
            "{   'acts': TensorSpec(shape=(100000, 40, 7), dtype=tf.float32, name=None),\n",
            "    'dataset_path': TensorSpec(shape=(100000, None), dtype=tf.int32, name=None),\n",
            "    'goal_imgs': TensorSpec(shape=(100000, 40, 200, 200, 3), dtype=tf.uint8, name=None),\n",
            "    'goals': TensorSpec(shape=(100000, 40, 11), dtype=tf.float32, name=None),\n",
            "    'imgs': TensorSpec(shape=(100000, 40, 200, 200, 3), dtype=tf.uint8, name=None),\n",
            "    'masks': TensorSpec(shape=(100000, 40), dtype=tf.float32, name=None),\n",
            "    'obs': TensorSpec(shape=(100000, 40, 18), dtype=tf.float32, name=None),\n",
            "    'proprioceptive_features': TensorSpec(shape=(100000, 40, 7), dtype=tf.float32, name=None),\n",
            "    'seq_lens': TensorSpec(shape=(100000,), dtype=tf.float32, name=None),\n",
            "    'tstep_idxs': TensorSpec(shape=(100000, None), dtype=tf.int32, name=None)}\n"
          ],
          "name": "stdout"
        }
      ]
    },
    {
      "cell_type": "code",
      "metadata": {
        "id": "h8ZDAVpLFdTw",
        "colab": {
          "base_uri": "https://localhost:8080/"
        },
        "outputId": "7c85ba40-ab5b-4e5d-ef56-d11aa55f10f7"
      },
      "source": [
        "# Validation data\n",
        "valid_data = dl.extract(TEST_DATA_PATHS, from_tfrecords=args.from_tfrecords)\n",
        "valid_dataset = dl.load(valid_data)"
      ],
      "execution_count": 64,
      "outputs": [
        {
          "output_type": "stream",
          "text": [
            "{   'acts': TensorSpec(shape=(100000, 40, 7), dtype=tf.float32, name=None),\n",
            "    'dataset_path': TensorSpec(shape=(100000, None), dtype=tf.int32, name=None),\n",
            "    'goal_imgs': TensorSpec(shape=(100000, 40, 200, 200, 3), dtype=tf.uint8, name=None),\n",
            "    'goals': TensorSpec(shape=(100000, 40, 11), dtype=tf.float32, name=None),\n",
            "    'imgs': TensorSpec(shape=(100000, 40, 200, 200, 3), dtype=tf.uint8, name=None),\n",
            "    'masks': TensorSpec(shape=(100000, 40), dtype=tf.float32, name=None),\n",
            "    'obs': TensorSpec(shape=(100000, 40, 18), dtype=tf.float32, name=None),\n",
            "    'proprioceptive_features': TensorSpec(shape=(100000, 40, 7), dtype=tf.float32, name=None),\n",
            "    'seq_lens': TensorSpec(shape=(100000,), dtype=tf.float32, name=None),\n",
            "    'tstep_idxs': TensorSpec(shape=(100000, None), dtype=tf.int32, name=None)}\n"
          ],
          "name": "stdout"
        }
      ]
    },
    {
      "cell_type": "markdown",
      "metadata": {
        "id": "TWIpRPRuv9E6",
        "pycharm": {
          "name": "#%% md\n"
        }
      },
      "source": [
        "# Training Loop"
      ]
    },
    {
      "cell_type": "code",
      "metadata": {
        "id": "2uMXBjGzgZCA"
      },
      "source": [
        "from lfp.train import LFPTrainer\n",
        "\n",
        "def train_setup():\n",
        "    model_params = {'obs_dim':args.img_embedding_size + dl.proprioceptive_features_dim if args.images else dl.obs_dim,\n",
        "                'goal_dim':args.img_embedding_size if args.images else dl.goal_dim,\n",
        "                'act_dim':dl.act_dim,\n",
        "                'layer_size':args.actor_layer_size, \n",
        "                'latent_dim':args.latent_dim}\n",
        "\n",
        "    actor = lfp.model.create_actor(**model_params, gcbc=args.gcbc, num_distribs=args.num_distribs, qbits=args.qbits)\n",
        "\n",
        "    if args.gcbc:\n",
        "        encoder = None\n",
        "        planner = None\n",
        "    else:\n",
        "        model_params['layer_size'] = args.encoder_layer_size\n",
        "        encoder = lfp.model.create_encoder(**model_params)\n",
        "        model_params['layer_size'] = args.planner_layer_size\n",
        "        planner = lfp.model.create_planner(**model_params)\n",
        "\n",
        "    if args.images:\n",
        "      cnn = lfp.model.cnn(dl.img_size, dl.img_size, embedding_size=args.img_embedding_size)\n",
        "      lfp.utils.build_cnn(cnn)  # Have to do this becasue it is subclassed and the reshapes in the spatial softmax don't play nice with model auto build\n",
        "    else:\n",
        "      cnn = None\n",
        "\n",
        "    #optimizer = tfa.optimizers.LAMB(learning_rate=args.learning_rate)\n",
        "    optimizer = optimizer = tf.optimizers.Adam\n",
        "    trainer = LFPTrainer(args, actor, dl, encoder, planner, cnn, optimizer, strategy, GLOBAL_BATCH_SIZE)\n",
        "    return actor, encoder, planner, trainer\n",
        "\n",
        "\n",
        "if args.device=='CPU' or args.device=='GPU':\n",
        "     actor, encoder, planner, trainer = train_setup()\n",
        "else:\n",
        "    with strategy.scope():\n",
        "         actor, encoder, planner, trainer = train_setup()\n",
        "        \n",
        "        \n"
      ],
      "execution_count": 65,
      "outputs": []
    },
    {
      "cell_type": "code",
      "metadata": {
        "id": "SqCRP1L5f3gI"
      },
      "source": [
        "\n",
        "train_dist_dataset = iter(strategy.experimental_distribute_dataset(train_dataset))\n",
        "valid_dist_dataset = iter(strategy.experimental_distribute_dataset(valid_dataset))\n",
        "plotting_dataset = iter(valid_dataset) #for the cluster fig, easier with a non distributed dataset"
      ],
      "execution_count": 66,
      "outputs": []
    },
    {
      "cell_type": "code",
      "metadata": {
        "id": "xtSlIEoBlDyp",
        "colab": {
          "base_uri": "https://localhost:8080/",
          "height": 278
        },
        "outputId": "edb4e900-50f9-45a7-a1a5-d047edf2188c"
      },
      "source": [
        "from lfp.train import BetaScheduler\n",
        "\n",
        "beta_sched = BetaScheduler('constant', \n",
        "                           beta=args.beta, \n",
        "                           beta_max=args.beta, \n",
        "                           max_steps=args.train_steps, \n",
        "                           cycles=90, \n",
        "                           duty_cycle=0.5\n",
        "                           )"
      ],
      "execution_count": 52,
      "outputs": [
        {
          "output_type": "display_data",
          "data": {
            "image/png": "[encoded data removed]",
            "text/plain": [
              "<Figure size 432x288 with 1 Axes>"
            ]
          },
          "metadata": {
            "tags": [],
            "needs_background": "light"
          }
        }
      ]
    },
    {
      "cell_type": "code",
      "metadata": {
        "id": "EOTtdIKHfQk3"
      },
      "source": [
        "# Creating these autograph wrappers so that tf.data operations are executed in graph mode\n",
        "@tf.function\n",
        "def train(train_dataset, beta):\n",
        "    train_batch = next(train_dataset)\n",
        "    trainer.distributed_train_step(train_batch, beta)\n",
        "@tf.function\n",
        "def sampleOnfly(train_dataset, beta):\n",
        "    train_batch = next(train_dataset)\n",
        "\n",
        "@tf.function\n",
        "def test(valid_dataset, beta):\n",
        "    valid_batch = next(valid_dataset)\n",
        "    trainer.distributed_test_step(valid_batch, beta)\n",
        "\n",
        "\n",
        "\n",
        "train(train_dist_dataset, args.beta)\n",
        "#sampleOnfly(train_dist_dataset, args.beta)"
      ],
      "execution_count": 67,
      "outputs": []
    },
    {
      "cell_type": "code",
      "metadata": {
        "id": "kcp-JMTF55VK"
      },
      "source": [
        "\n",
        "train(train_dist_dataset, args.beta)"
      ],
      "execution_count": 57,
      "outputs": []
    },
    {
      "cell_type": "code",
      "metadata": {
        "id": "_IJhNsTK5oQE"
      },
      "source": [
        "\n",
        "test(valid_dist_dataset, args.beta)"
      ],
      "execution_count": 39,
      "outputs": []
    },
    {
      "cell_type": "code",
      "metadata": {
        "id": "Jc2uWIDq5QyT"
      },
      "source": [
        "trainer.metrics['train_loss'].result()"
      ],
      "execution_count": null,
      "outputs": []
    },
    {
      "cell_type": "code",
      "metadata": {
        "id": "a9_bUwLr6DpV",
        "outputId": "5fd06d7f-bf4d-4574-ec10-cedada9c749a",
        "colab": {
          "base_uri": "https://localhost:8080/"
        }
      },
      "source": [
        "actor.trainable_variables"
      ],
      "execution_count": 59,
      "outputs": [
        {
          "output_type": "execute_result",
          "data": {
            "text/plain": [
              "[TPUMirroredVariable:{\n",
              "   0: <tf.Variable 'LSTM_in_1/lstm_cell_16/kernel:0' shape=(391, 8192) dtype=float32, numpy=\n",
              " array([[ 1.3278781e-02,  1.5495249e-04,  2.4274625e-02, ...,\n",
              "          7.4183964e-03, -2.0144856e-02,  1.0903817e-02],\n",
              "        [-1.2363922e-03, -8.1795501e-05,  1.6911604e-03, ...,\n",
              "         -2.8176408e-03,  2.3634518e-03, -2.4258485e-02],\n",
              "        [-4.7417488e-03, -1.3207537e-02,  2.3310395e-02, ...,\n",
              "         -1.6334500e-02, -4.9760058e-03,  1.6492315e-02],\n",
              "        ...,\n",
              "        [ 6.9098398e-03, -9.3164650e-04,  3.1569169e-03, ...,\n",
              "         -6.4204568e-03,  8.9777112e-03, -8.2416311e-03],\n",
              "        [-2.0574570e-02,  6.6214115e-03, -1.6156208e-03, ...,\n",
              "          1.8400224e-02, -1.7987035e-02,  2.3815144e-02],\n",
              "        [ 1.8687641e-02,  1.6781088e-02, -1.1534408e-02, ...,\n",
              "         -2.5519732e-02,  6.2481943e-03,  2.2666592e-02]], dtype=float32)>,\n",
              "   1: <tf.Variable 'LSTM_in_1/lstm_cell_16/kernel/replica_1:0' shape=(391, 8192) dtype=float32, numpy=\n",
              " array([[ 1.3278781e-02,  1.5495249e-04,  2.4274625e-02, ...,\n",
              "          7.4183964e-03, -2.0144856e-02,  1.0903817e-02],\n",
              "        [-1.2363922e-03, -8.1795501e-05,  1.6911604e-03, ...,\n",
              "         -2.8176408e-03,  2.3634518e-03, -2.4258485e-02],\n",
              "        [-4.7417488e-03, -1.3207537e-02,  2.3310395e-02, ...,\n",
              "         -1.6334500e-02, -4.9760058e-03,  1.6492315e-02],\n",
              "        ...,\n",
              "        [ 6.9098398e-03, -9.3164650e-04,  3.1569169e-03, ...,\n",
              "         -6.4204568e-03,  8.9777112e-03, -8.2416311e-03],\n",
              "        [-2.0574570e-02,  6.6214115e-03, -1.6156208e-03, ...,\n",
              "          1.8400224e-02, -1.7987035e-02,  2.3815144e-02],\n",
              "        [ 1.8687641e-02,  1.6781088e-02, -1.1534408e-02, ...,\n",
              "         -2.5519732e-02,  6.2481943e-03,  2.2666592e-02]], dtype=float32)>,\n",
              "   2: <tf.Variable 'LSTM_in_1/lstm_cell_16/kernel/replica_2:0' shape=(391, 8192) dtype=float32, numpy=\n",
              " array([[ 1.3278781e-02,  1.5495249e-04,  2.4274625e-02, ...,\n",
              "          7.4183964e-03, -2.0144856e-02,  1.0903817e-02],\n",
              "        [-1.2363922e-03, -8.1795501e-05,  1.6911604e-03, ...,\n",
              "         -2.8176408e-03,  2.3634518e-03, -2.4258485e-02],\n",
              "        [-4.7417488e-03, -1.3207537e-02,  2.3310395e-02, ...,\n",
              "         -1.6334500e-02, -4.9760058e-03,  1.6492315e-02],\n",
              "        ...,\n",
              "        [ 6.9098398e-03, -9.3164650e-04,  3.1569169e-03, ...,\n",
              "         -6.4204568e-03,  8.9777112e-03, -8.2416311e-03],\n",
              "        [-2.0574570e-02,  6.6214115e-03, -1.6156208e-03, ...,\n",
              "          1.8400224e-02, -1.7987035e-02,  2.3815144e-02],\n",
              "        [ 1.8687641e-02,  1.6781088e-02, -1.1534408e-02, ...,\n",
              "         -2.5519732e-02,  6.2481943e-03,  2.2666592e-02]], dtype=float32)>,\n",
              "   3: <tf.Variable 'LSTM_in_1/lstm_cell_16/kernel/replica_3:0' shape=(391, 8192) dtype=float32, numpy=\n",
              " array([[ 1.3278781e-02,  1.5495249e-04,  2.4274625e-02, ...,\n",
              "          7.4183964e-03, -2.0144856e-02,  1.0903817e-02],\n",
              "        [-1.2363922e-03, -8.1795501e-05,  1.6911604e-03, ...,\n",
              "         -2.8176408e-03,  2.3634518e-03, -2.4258485e-02],\n",
              "        [-4.7417488e-03, -1.3207537e-02,  2.3310395e-02, ...,\n",
              "         -1.6334500e-02, -4.9760058e-03,  1.6492315e-02],\n",
              "        ...,\n",
              "        [ 6.9098398e-03, -9.3164650e-04,  3.1569169e-03, ...,\n",
              "         -6.4204568e-03,  8.9777112e-03, -8.2416311e-03],\n",
              "        [-2.0574570e-02,  6.6214115e-03, -1.6156208e-03, ...,\n",
              "          1.8400224e-02, -1.7987035e-02,  2.3815144e-02],\n",
              "        [ 1.8687641e-02,  1.6781088e-02, -1.1534408e-02, ...,\n",
              "         -2.5519732e-02,  6.2481943e-03,  2.2666592e-02]], dtype=float32)>,\n",
              "   4: <tf.Variable 'LSTM_in_1/lstm_cell_16/kernel/replica_4:0' shape=(391, 8192) dtype=float32, numpy=\n",
              " array([[ 1.3278781e-02,  1.5495249e-04,  2.4274625e-02, ...,\n",
              "          7.4183964e-03, -2.0144856e-02,  1.0903817e-02],\n",
              "        [-1.2363922e-03, -8.1795501e-05,  1.6911604e-03, ...,\n",
              "         -2.8176408e-03,  2.3634518e-03, -2.4258485e-02],\n",
              "        [-4.7417488e-03, -1.3207537e-02,  2.3310395e-02, ...,\n",
              "         -1.6334500e-02, -4.9760058e-03,  1.6492315e-02],\n",
              "        ...,\n",
              "        [ 6.9098398e-03, -9.3164650e-04,  3.1569169e-03, ...,\n",
              "         -6.4204568e-03,  8.9777112e-03, -8.2416311e-03],\n",
              "        [-2.0574570e-02,  6.6214115e-03, -1.6156208e-03, ...,\n",
              "          1.8400224e-02, -1.7987035e-02,  2.3815144e-02],\n",
              "        [ 1.8687641e-02,  1.6781088e-02, -1.1534408e-02, ...,\n",
              "         -2.5519732e-02,  6.2481943e-03,  2.2666592e-02]], dtype=float32)>,\n",
              "   5: <tf.Variable 'LSTM_in_1/lstm_cell_16/kernel/replica_5:0' shape=(391, 8192) dtype=float32, numpy=\n",
              " array([[ 1.3278781e-02,  1.5495249e-04,  2.4274625e-02, ...,\n",
              "          7.4183964e-03, -2.0144856e-02,  1.0903817e-02],\n",
              "        [-1.2363922e-03, -8.1795501e-05,  1.6911604e-03, ...,\n",
              "         -2.8176408e-03,  2.3634518e-03, -2.4258485e-02],\n",
              "        [-4.7417488e-03, -1.3207537e-02,  2.3310395e-02, ...,\n",
              "         -1.6334500e-02, -4.9760058e-03,  1.6492315e-02],\n",
              "        ...,\n",
              "        [ 6.9098398e-03, -9.3164650e-04,  3.1569169e-03, ...,\n",
              "         -6.4204568e-03,  8.9777112e-03, -8.2416311e-03],\n",
              "        [-2.0574570e-02,  6.6214115e-03, -1.6156208e-03, ...,\n",
              "          1.8400224e-02, -1.7987035e-02,  2.3815144e-02],\n",
              "        [ 1.8687641e-02,  1.6781088e-02, -1.1534408e-02, ...,\n",
              "         -2.5519732e-02,  6.2481943e-03,  2.2666592e-02]], dtype=float32)>,\n",
              "   6: <tf.Variable 'LSTM_in_1/lstm_cell_16/kernel/replica_6:0' shape=(391, 8192) dtype=float32, numpy=\n",
              " array([[ 1.3278781e-02,  1.5495249e-04,  2.4274625e-02, ...,\n",
              "          7.4183964e-03, -2.0144856e-02,  1.0903817e-02],\n",
              "        [-1.2363922e-03, -8.1795501e-05,  1.6911604e-03, ...,\n",
              "         -2.8176408e-03,  2.3634518e-03, -2.4258485e-02],\n",
              "        [-4.7417488e-03, -1.3207537e-02,  2.3310395e-02, ...,\n",
              "         -1.6334500e-02, -4.9760058e-03,  1.6492315e-02],\n",
              "        ...,\n",
              "        [ 6.9098398e-03, -9.3164650e-04,  3.1569169e-03, ...,\n",
              "         -6.4204568e-03,  8.9777112e-03, -8.2416311e-03],\n",
              "        [-2.0574570e-02,  6.6214115e-03, -1.6156208e-03, ...,\n",
              "          1.8400224e-02, -1.7987035e-02,  2.3815144e-02],\n",
              "        [ 1.8687641e-02,  1.6781088e-02, -1.1534408e-02, ...,\n",
              "         -2.5519732e-02,  6.2481943e-03,  2.2666592e-02]], dtype=float32)>,\n",
              "   7: <tf.Variable 'LSTM_in_1/lstm_cell_16/kernel/replica_7:0' shape=(391, 8192) dtype=float32, numpy=\n",
              " array([[ 1.3278781e-02,  1.5495249e-04,  2.4274625e-02, ...,\n",
              "          7.4183964e-03, -2.0144856e-02,  1.0903817e-02],\n",
              "        [-1.2363922e-03, -8.1795501e-05,  1.6911604e-03, ...,\n",
              "         -2.8176408e-03,  2.3634518e-03, -2.4258485e-02],\n",
              "        [-4.7417488e-03, -1.3207537e-02,  2.3310395e-02, ...,\n",
              "         -1.6334500e-02, -4.9760058e-03,  1.6492315e-02],\n",
              "        ...,\n",
              "        [ 6.9098398e-03, -9.3164650e-04,  3.1569169e-03, ...,\n",
              "         -6.4204568e-03,  8.9777112e-03, -8.2416311e-03],\n",
              "        [-2.0574570e-02,  6.6214115e-03, -1.6156208e-03, ...,\n",
              "          1.8400224e-02, -1.7987035e-02,  2.3815144e-02],\n",
              "        [ 1.8687641e-02,  1.6781088e-02, -1.1534408e-02, ...,\n",
              "         -2.5519732e-02,  6.2481943e-03,  2.2666592e-02]], dtype=float32)>\n",
              " }, TPUMirroredVariable:{\n",
              "   0: <tf.Variable 'LSTM_in_1/lstm_cell_16/recurrent_kernel:0' shape=(2048, 8192) dtype=float32, numpy=\n",
              " array([[-0.00961647,  0.01186989, -0.01736201, ...,  0.01023346,\n",
              "          0.01311671, -0.00483508],\n",
              "        [ 0.01086155, -0.02290181,  0.00768998, ..., -0.00157182,\n",
              "         -0.02864665,  0.01224051],\n",
              "        [ 0.0095278 , -0.00493741,  0.00679522, ..., -0.0110783 ,\n",
              "         -0.00223722, -0.01256484],\n",
              "        ...,\n",
              "        [-0.00526172,  0.02431964,  0.00561271, ...,  0.00480981,\n",
              "         -0.02305674, -0.00734377],\n",
              "        [-0.0024407 , -0.01311042, -0.01258261, ..., -0.00167175,\n",
              "          0.0101646 , -0.01791062],\n",
              "        [ 0.02163277, -0.00490958, -0.00423814, ...,  0.00624366,\n",
              "         -0.01185951, -0.000318  ]], dtype=float32)>,\n",
              "   1: <tf.Variable 'LSTM_in_1/lstm_cell_16/recurrent_kernel/replica_1:0' shape=(2048, 8192) dtype=float32, numpy=\n",
              " array([[-0.00961647,  0.01186989, -0.01736201, ...,  0.01023346,\n",
              "          0.01311671, -0.00483508],\n",
              "        [ 0.01086155, -0.02290181,  0.00768998, ..., -0.00157182,\n",
              "         -0.02864665,  0.01224051],\n",
              "        [ 0.0095278 , -0.00493741,  0.00679522, ..., -0.0110783 ,\n",
              "         -0.00223722, -0.01256484],\n",
              "        ...,\n",
              "        [-0.00526172,  0.02431964,  0.00561271, ...,  0.00480981,\n",
              "         -0.02305674, -0.00734377],\n",
              "        [-0.0024407 , -0.01311042, -0.01258261, ..., -0.00167175,\n",
              "          0.0101646 , -0.01791062],\n",
              "        [ 0.02163277, -0.00490958, -0.00423814, ...,  0.00624366,\n",
              "         -0.01185951, -0.000318  ]], dtype=float32)>,\n",
              "   2: <tf.Variable 'LSTM_in_1/lstm_cell_16/recurrent_kernel/replica_2:0' shape=(2048, 8192) dtype=float32, numpy=\n",
              " array([[-0.00961647,  0.01186989, -0.01736201, ...,  0.01023346,\n",
              "          0.01311671, -0.00483508],\n",
              "        [ 0.01086155, -0.02290181,  0.00768998, ..., -0.00157182,\n",
              "         -0.02864665,  0.01224051],\n",
              "        [ 0.0095278 , -0.00493741,  0.00679522, ..., -0.0110783 ,\n",
              "         -0.00223722, -0.01256484],\n",
              "        ...,\n",
              "        [-0.00526172,  0.02431964,  0.00561271, ...,  0.00480981,\n",
              "         -0.02305674, -0.00734377],\n",
              "        [-0.0024407 , -0.01311042, -0.01258261, ..., -0.00167175,\n",
              "          0.0101646 , -0.01791062],\n",
              "        [ 0.02163277, -0.00490958, -0.00423814, ...,  0.00624366,\n",
              "         -0.01185951, -0.000318  ]], dtype=float32)>,\n",
              "   3: <tf.Variable 'LSTM_in_1/lstm_cell_16/recurrent_kernel/replica_3:0' shape=(2048, 8192) dtype=float32, numpy=\n",
              " array([[-0.00961647,  0.01186989, -0.01736201, ...,  0.01023346,\n",
              "          0.01311671, -0.00483508],\n",
              "        [ 0.01086155, -0.02290181,  0.00768998, ..., -0.00157182,\n",
              "         -0.02864665,  0.01224051],\n",
              "        [ 0.0095278 , -0.00493741,  0.00679522, ..., -0.0110783 ,\n",
              "         -0.00223722, -0.01256484],\n",
              "        ...,\n",
              "        [-0.00526172,  0.02431964,  0.00561271, ...,  0.00480981,\n",
              "         -0.02305674, -0.00734377],\n",
              "        [-0.0024407 , -0.01311042, -0.01258261, ..., -0.00167175,\n",
              "          0.0101646 , -0.01791062],\n",
              "        [ 0.02163277, -0.00490958, -0.00423814, ...,  0.00624366,\n",
              "         -0.01185951, -0.000318  ]], dtype=float32)>,\n",
              "   4: <tf.Variable 'LSTM_in_1/lstm_cell_16/recurrent_kernel/replica_4:0' shape=(2048, 8192) dtype=float32, numpy=\n",
              " array([[-0.00961647,  0.01186989, -0.01736201, ...,  0.01023346,\n",
              "          0.01311671, -0.00483508],\n",
              "        [ 0.01086155, -0.02290181,  0.00768998, ..., -0.00157182,\n",
              "         -0.02864665,  0.01224051],\n",
              "        [ 0.0095278 , -0.00493741,  0.00679522, ..., -0.0110783 ,\n",
              "         -0.00223722, -0.01256484],\n",
              "        ...,\n",
              "        [-0.00526172,  0.02431964,  0.00561271, ...,  0.00480981,\n",
              "         -0.02305674, -0.00734377],\n",
              "        [-0.0024407 , -0.01311042, -0.01258261, ..., -0.00167175,\n",
              "          0.0101646 , -0.01791062],\n",
              "        [ 0.02163277, -0.00490958, -0.00423814, ...,  0.00624366,\n",
              "         -0.01185951, -0.000318  ]], dtype=float32)>,\n",
              "   5: <tf.Variable 'LSTM_in_1/lstm_cell_16/recurrent_kernel/replica_5:0' shape=(2048, 8192) dtype=float32, numpy=\n",
              " array([[-0.00961647,  0.01186989, -0.01736201, ...,  0.01023346,\n",
              "          0.01311671, -0.00483508],\n",
              "        [ 0.01086155, -0.02290181,  0.00768998, ..., -0.00157182,\n",
              "         -0.02864665,  0.01224051],\n",
              "        [ 0.0095278 , -0.00493741,  0.00679522, ..., -0.0110783 ,\n",
              "         -0.00223722, -0.01256484],\n",
              "        ...,\n",
              "        [-0.00526172,  0.02431964,  0.00561271, ...,  0.00480981,\n",
              "         -0.02305674, -0.00734377],\n",
              "        [-0.0024407 , -0.01311042, -0.01258261, ..., -0.00167175,\n",
              "          0.0101646 , -0.01791062],\n",
              "        [ 0.02163277, -0.00490958, -0.00423814, ...,  0.00624366,\n",
              "         -0.01185951, -0.000318  ]], dtype=float32)>,\n",
              "   6: <tf.Variable 'LSTM_in_1/lstm_cell_16/recurrent_kernel/replica_6:0' shape=(2048, 8192) dtype=float32, numpy=\n",
              " array([[-0.00961647,  0.01186989, -0.01736201, ...,  0.01023346,\n",
              "          0.01311671, -0.00483508],\n",
              "        [ 0.01086155, -0.02290181,  0.00768998, ..., -0.00157182,\n",
              "         -0.02864665,  0.01224051],\n",
              "        [ 0.0095278 , -0.00493741,  0.00679522, ..., -0.0110783 ,\n",
              "         -0.00223722, -0.01256484],\n",
              "        ...,\n",
              "        [-0.00526172,  0.02431964,  0.00561271, ...,  0.00480981,\n",
              "         -0.02305674, -0.00734377],\n",
              "        [-0.0024407 , -0.01311042, -0.01258261, ..., -0.00167175,\n",
              "          0.0101646 , -0.01791062],\n",
              "        [ 0.02163277, -0.00490958, -0.00423814, ...,  0.00624366,\n",
              "         -0.01185951, -0.000318  ]], dtype=float32)>,\n",
              "   7: <tf.Variable 'LSTM_in_1/lstm_cell_16/recurrent_kernel/replica_7:0' shape=(2048, 8192) dtype=float32, numpy=\n",
              " array([[-0.00961647,  0.01186989, -0.01736201, ...,  0.01023346,\n",
              "          0.01311671, -0.00483508],\n",
              "        [ 0.01086155, -0.02290181,  0.00768998, ..., -0.00157182,\n",
              "         -0.02864665,  0.01224051],\n",
              "        [ 0.0095278 , -0.00493741,  0.00679522, ..., -0.0110783 ,\n",
              "         -0.00223722, -0.01256484],\n",
              "        ...,\n",
              "        [-0.00526172,  0.02431964,  0.00561271, ...,  0.00480981,\n",
              "         -0.02305674, -0.00734377],\n",
              "        [-0.0024407 , -0.01311042, -0.01258261, ..., -0.00167175,\n",
              "          0.0101646 , -0.01791062],\n",
              "        [ 0.02163277, -0.00490958, -0.00423814, ...,  0.00624366,\n",
              "         -0.01185951, -0.000318  ]], dtype=float32)>\n",
              " }, TPUMirroredVariable:{\n",
              "   0: <tf.Variable 'LSTM_in_1/lstm_cell_16/bias:0' shape=(8192,) dtype=float32, numpy=\n",
              " array([ 0.00053565,  0.00084532, -0.00027371, ...,  0.00085757,\n",
              "         0.00048093, -0.00058186], dtype=float32)>,\n",
              "   1: <tf.Variable 'LSTM_in_1/lstm_cell_16/bias/replica_1:0' shape=(8192,) dtype=float32, numpy=\n",
              " array([ 0.00053565,  0.00084532, -0.00027371, ...,  0.00085757,\n",
              "         0.00048093, -0.00058186], dtype=float32)>,\n",
              "   2: <tf.Variable 'LSTM_in_1/lstm_cell_16/bias/replica_2:0' shape=(8192,) dtype=float32, numpy=\n",
              " array([ 0.00053565,  0.00084532, -0.00027371, ...,  0.00085757,\n",
              "         0.00048093, -0.00058186], dtype=float32)>,\n",
              "   3: <tf.Variable 'LSTM_in_1/lstm_cell_16/bias/replica_3:0' shape=(8192,) dtype=float32, numpy=\n",
              " array([ 0.00053565,  0.00084532, -0.00027371, ...,  0.00085757,\n",
              "         0.00048093, -0.00058186], dtype=float32)>,\n",
              "   4: <tf.Variable 'LSTM_in_1/lstm_cell_16/bias/replica_4:0' shape=(8192,) dtype=float32, numpy=\n",
              " array([ 0.00053565,  0.00084532, -0.00027371, ...,  0.00085757,\n",
              "         0.00048093, -0.00058186], dtype=float32)>,\n",
              "   5: <tf.Variable 'LSTM_in_1/lstm_cell_16/bias/replica_5:0' shape=(8192,) dtype=float32, numpy=\n",
              " array([ 0.00053565,  0.00084532, -0.00027371, ...,  0.00085757,\n",
              "         0.00048093, -0.00058186], dtype=float32)>,\n",
              "   6: <tf.Variable 'LSTM_in_1/lstm_cell_16/bias/replica_6:0' shape=(8192,) dtype=float32, numpy=\n",
              " array([ 0.00053565,  0.00084532, -0.00027371, ...,  0.00085757,\n",
              "         0.00048093, -0.00058186], dtype=float32)>,\n",
              "   7: <tf.Variable 'LSTM_in_1/lstm_cell_16/bias/replica_7:0' shape=(8192,) dtype=float32, numpy=\n",
              " array([ 0.00053565,  0.00084532, -0.00027371, ...,  0.00085757,\n",
              "         0.00048093, -0.00058186], dtype=float32)>\n",
              " }, TPUMirroredVariable:{\n",
              "   0: <tf.Variable 'LSTM_in_2/lstm_cell_17/kernel:0' shape=(2048, 8192) dtype=float32, numpy=\n",
              " array([[ 0.01027004, -0.01266251, -0.01444534, ...,  0.02334505,\n",
              "         -0.0067331 , -0.02383461],\n",
              "        [ 0.01948145,  0.00311085, -0.01232573, ..., -0.02092735,\n",
              "          0.02203474, -0.0223094 ],\n",
              "        [-0.01322842, -0.01346568,  0.01538099, ...,  0.02220633,\n",
              "          0.01416586, -0.0125704 ],\n",
              "        ...,\n",
              "        [ 0.00573205,  0.02075023,  0.00280858, ...,  0.00097835,\n",
              "         -0.01881721, -0.01841072],\n",
              "        [ 0.00973006, -0.00107779, -0.01612414, ...,  0.01949613,\n",
              "         -0.01919439,  0.01118956],\n",
              "        [ 0.00729637,  0.01352944, -0.00507933, ...,  0.02277547,\n",
              "         -0.01235509, -0.02126988]], dtype=float32)>,\n",
              "   1: <tf.Variable 'LSTM_in_2/lstm_cell_17/kernel/replica_1:0' shape=(2048, 8192) dtype=float32, numpy=\n",
              " array([[ 0.01027004, -0.01266251, -0.01444534, ...,  0.02334505,\n",
              "         -0.0067331 , -0.02383461],\n",
              "        [ 0.01948145,  0.00311085, -0.01232573, ..., -0.02092735,\n",
              "          0.02203474, -0.0223094 ],\n",
              "        [-0.01322842, -0.01346568,  0.01538099, ...,  0.02220633,\n",
              "          0.01416586, -0.0125704 ],\n",
              "        ...,\n",
              "        [ 0.00573205,  0.02075023,  0.00280858, ...,  0.00097835,\n",
              "         -0.01881721, -0.01841072],\n",
              "        [ 0.00973006, -0.00107779, -0.01612414, ...,  0.01949613,\n",
              "         -0.01919439,  0.01118956],\n",
              "        [ 0.00729637,  0.01352944, -0.00507933, ...,  0.02277547,\n",
              "         -0.01235509, -0.02126988]], dtype=float32)>,\n",
              "   2: <tf.Variable 'LSTM_in_2/lstm_cell_17/kernel/replica_2:0' shape=(2048, 8192) dtype=float32, numpy=\n",
              " array([[ 0.01027004, -0.01266251, -0.01444534, ...,  0.02334505,\n",
              "         -0.0067331 , -0.02383461],\n",
              "        [ 0.01948145,  0.00311085, -0.01232573, ..., -0.02092735,\n",
              "          0.02203474, -0.0223094 ],\n",
              "        [-0.01322842, -0.01346568,  0.01538099, ...,  0.02220633,\n",
              "          0.01416586, -0.0125704 ],\n",
              "        ...,\n",
              "        [ 0.00573205,  0.02075023,  0.00280858, ...,  0.00097835,\n",
              "         -0.01881721, -0.01841072],\n",
              "        [ 0.00973006, -0.00107779, -0.01612414, ...,  0.01949613,\n",
              "         -0.01919439,  0.01118956],\n",
              "        [ 0.00729637,  0.01352944, -0.00507933, ...,  0.02277547,\n",
              "         -0.01235509, -0.02126988]], dtype=float32)>,\n",
              "   3: <tf.Variable 'LSTM_in_2/lstm_cell_17/kernel/replica_3:0' shape=(2048, 8192) dtype=float32, numpy=\n",
              " array([[ 0.01027004, -0.01266251, -0.01444534, ...,  0.02334505,\n",
              "         -0.0067331 , -0.02383461],\n",
              "        [ 0.01948145,  0.00311085, -0.01232573, ..., -0.02092735,\n",
              "          0.02203474, -0.0223094 ],\n",
              "        [-0.01322842, -0.01346568,  0.01538099, ...,  0.02220633,\n",
              "          0.01416586, -0.0125704 ],\n",
              "        ...,\n",
              "        [ 0.00573205,  0.02075023,  0.00280858, ...,  0.00097835,\n",
              "         -0.01881721, -0.01841072],\n",
              "        [ 0.00973006, -0.00107779, -0.01612414, ...,  0.01949613,\n",
              "         -0.01919439,  0.01118956],\n",
              "        [ 0.00729637,  0.01352944, -0.00507933, ...,  0.02277547,\n",
              "         -0.01235509, -0.02126988]], dtype=float32)>,\n",
              "   4: <tf.Variable 'LSTM_in_2/lstm_cell_17/kernel/replica_4:0' shape=(2048, 8192) dtype=float32, numpy=\n",
              " array([[ 0.01027004, -0.01266251, -0.01444534, ...,  0.02334505,\n",
              "         -0.0067331 , -0.02383461],\n",
              "        [ 0.01948145,  0.00311085, -0.01232573, ..., -0.02092735,\n",
              "          0.02203474, -0.0223094 ],\n",
              "        [-0.01322842, -0.01346568,  0.01538099, ...,  0.02220633,\n",
              "          0.01416586, -0.0125704 ],\n",
              "        ...,\n",
              "        [ 0.00573205,  0.02075023,  0.00280858, ...,  0.00097835,\n",
              "         -0.01881721, -0.01841072],\n",
              "        [ 0.00973006, -0.00107779, -0.01612414, ...,  0.01949613,\n",
              "         -0.01919439,  0.01118956],\n",
              "        [ 0.00729637,  0.01352944, -0.00507933, ...,  0.02277547,\n",
              "         -0.01235509, -0.02126988]], dtype=float32)>,\n",
              "   5: <tf.Variable 'LSTM_in_2/lstm_cell_17/kernel/replica_5:0' shape=(2048, 8192) dtype=float32, numpy=\n",
              " array([[ 0.01027004, -0.01266251, -0.01444534, ...,  0.02334505,\n",
              "         -0.0067331 , -0.02383461],\n",
              "        [ 0.01948145,  0.00311085, -0.01232573, ..., -0.02092735,\n",
              "          0.02203474, -0.0223094 ],\n",
              "        [-0.01322842, -0.01346568,  0.01538099, ...,  0.02220633,\n",
              "          0.01416586, -0.0125704 ],\n",
              "        ...,\n",
              "        [ 0.00573205,  0.02075023,  0.00280858, ...,  0.00097835,\n",
              "         -0.01881721, -0.01841072],\n",
              "        [ 0.00973006, -0.00107779, -0.01612414, ...,  0.01949613,\n",
              "         -0.01919439,  0.01118956],\n",
              "        [ 0.00729637,  0.01352944, -0.00507933, ...,  0.02277547,\n",
              "         -0.01235509, -0.02126988]], dtype=float32)>,\n",
              "   6: <tf.Variable 'LSTM_in_2/lstm_cell_17/kernel/replica_6:0' shape=(2048, 8192) dtype=float32, numpy=\n",
              " array([[ 0.01027004, -0.01266251, -0.01444534, ...,  0.02334505,\n",
              "         -0.0067331 , -0.02383461],\n",
              "        [ 0.01948145,  0.00311085, -0.01232573, ..., -0.02092735,\n",
              "          0.02203474, -0.0223094 ],\n",
              "        [-0.01322842, -0.01346568,  0.01538099, ...,  0.02220633,\n",
              "          0.01416586, -0.0125704 ],\n",
              "        ...,\n",
              "        [ 0.00573205,  0.02075023,  0.00280858, ...,  0.00097835,\n",
              "         -0.01881721, -0.01841072],\n",
              "        [ 0.00973006, -0.00107779, -0.01612414, ...,  0.01949613,\n",
              "         -0.01919439,  0.01118956],\n",
              "        [ 0.00729637,  0.01352944, -0.00507933, ...,  0.02277547,\n",
              "         -0.01235509, -0.02126988]], dtype=float32)>,\n",
              "   7: <tf.Variable 'LSTM_in_2/lstm_cell_17/kernel/replica_7:0' shape=(2048, 8192) dtype=float32, numpy=\n",
              " array([[ 0.01027004, -0.01266251, -0.01444534, ...,  0.02334505,\n",
              "         -0.0067331 , -0.02383461],\n",
              "        [ 0.01948145,  0.00311085, -0.01232573, ..., -0.02092735,\n",
              "          0.02203474, -0.0223094 ],\n",
              "        [-0.01322842, -0.01346568,  0.01538099, ...,  0.02220633,\n",
              "          0.01416586, -0.0125704 ],\n",
              "        ...,\n",
              "        [ 0.00573205,  0.02075023,  0.00280858, ...,  0.00097835,\n",
              "         -0.01881721, -0.01841072],\n",
              "        [ 0.00973006, -0.00107779, -0.01612414, ...,  0.01949613,\n",
              "         -0.01919439,  0.01118956],\n",
              "        [ 0.00729637,  0.01352944, -0.00507933, ...,  0.02277547,\n",
              "         -0.01235509, -0.02126988]], dtype=float32)>\n",
              " }, TPUMirroredVariable:{\n",
              "   0: <tf.Variable 'LSTM_in_2/lstm_cell_17/recurrent_kernel:0' shape=(2048, 8192) dtype=float32, numpy=\n",
              " array([[ 1.02103436e-02, -6.28526555e-03,  2.93225721e-02, ...,\n",
              "          2.01405492e-02,  7.76981469e-03, -1.18061677e-02],\n",
              "        [ 5.19835344e-03, -4.69923252e-03,  7.97238015e-03, ...,\n",
              "          8.50884826e-04,  7.46190315e-03, -1.95125472e-02],\n",
              "        [ 2.60794302e-03,  1.79674884e-03,  1.00236954e-02, ...,\n",
              "         -7.91324954e-03, -5.48736379e-03, -1.43545885e-02],\n",
              "        ...,\n",
              "        [ 5.09948423e-03,  2.37011667e-02, -1.13728661e-02, ...,\n",
              "         -5.45824412e-03, -5.70853648e-04,  1.29973488e-02],\n",
              "        [ 9.90562607e-03,  1.34099163e-02, -2.30965726e-02, ...,\n",
              "          1.10168345e-02,  4.42977471e-05,  4.38857265e-03],\n",
              "        [ 7.12412037e-03, -1.91911943e-02, -5.58041083e-03, ...,\n",
              "         -9.71079431e-03, -1.56261791e-02,  6.77142758e-03]], dtype=float32)>,\n",
              "   1: <tf.Variable 'LSTM_in_2/lstm_cell_17/recurrent_kernel/replica_1:0' shape=(2048, 8192) dtype=float32, numpy=\n",
              " array([[ 1.02103436e-02, -6.28526555e-03,  2.93225721e-02, ...,\n",
              "          2.01405492e-02,  7.76981469e-03, -1.18061677e-02],\n",
              "        [ 5.19835344e-03, -4.69923252e-03,  7.97238015e-03, ...,\n",
              "          8.50884826e-04,  7.46190315e-03, -1.95125472e-02],\n",
              "        [ 2.60794302e-03,  1.79674884e-03,  1.00236954e-02, ...,\n",
              "         -7.91324954e-03, -5.48736379e-03, -1.43545885e-02],\n",
              "        ...,\n",
              "        [ 5.09948423e-03,  2.37011667e-02, -1.13728661e-02, ...,\n",
              "         -5.45824412e-03, -5.70853648e-04,  1.29973488e-02],\n",
              "        [ 9.90562607e-03,  1.34099163e-02, -2.30965726e-02, ...,\n",
              "          1.10168345e-02,  4.42977471e-05,  4.38857265e-03],\n",
              "        [ 7.12412037e-03, -1.91911943e-02, -5.58041083e-03, ...,\n",
              "         -9.71079431e-03, -1.56261791e-02,  6.77142758e-03]], dtype=float32)>,\n",
              "   2: <tf.Variable 'LSTM_in_2/lstm_cell_17/recurrent_kernel/replica_2:0' shape=(2048, 8192) dtype=float32, numpy=\n",
              " array([[ 1.02103436e-02, -6.28526555e-03,  2.93225721e-02, ...,\n",
              "          2.01405492e-02,  7.76981469e-03, -1.18061677e-02],\n",
              "        [ 5.19835344e-03, -4.69923252e-03,  7.97238015e-03, ...,\n",
              "          8.50884826e-04,  7.46190315e-03, -1.95125472e-02],\n",
              "        [ 2.60794302e-03,  1.79674884e-03,  1.00236954e-02, ...,\n",
              "         -7.91324954e-03, -5.48736379e-03, -1.43545885e-02],\n",
              "        ...,\n",
              "        [ 5.09948423e-03,  2.37011667e-02, -1.13728661e-02, ...,\n",
              "         -5.45824412e-03, -5.70853648e-04,  1.29973488e-02],\n",
              "        [ 9.90562607e-03,  1.34099163e-02, -2.30965726e-02, ...,\n",
              "          1.10168345e-02,  4.42977471e-05,  4.38857265e-03],\n",
              "        [ 7.12412037e-03, -1.91911943e-02, -5.58041083e-03, ...,\n",
              "         -9.71079431e-03, -1.56261791e-02,  6.77142758e-03]], dtype=float32)>,\n",
              "   3: <tf.Variable 'LSTM_in_2/lstm_cell_17/recurrent_kernel/replica_3:0' shape=(2048, 8192) dtype=float32, numpy=\n",
              " array([[ 1.02103436e-02, -6.28526555e-03,  2.93225721e-02, ...,\n",
              "          2.01405492e-02,  7.76981469e-03, -1.18061677e-02],\n",
              "        [ 5.19835344e-03, -4.69923252e-03,  7.97238015e-03, ...,\n",
              "          8.50884826e-04,  7.46190315e-03, -1.95125472e-02],\n",
              "        [ 2.60794302e-03,  1.79674884e-03,  1.00236954e-02, ...,\n",
              "         -7.91324954e-03, -5.48736379e-03, -1.43545885e-02],\n",
              "        ...,\n",
              "        [ 5.09948423e-03,  2.37011667e-02, -1.13728661e-02, ...,\n",
              "         -5.45824412e-03, -5.70853648e-04,  1.29973488e-02],\n",
              "        [ 9.90562607e-03,  1.34099163e-02, -2.30965726e-02, ...,\n",
              "          1.10168345e-02,  4.42977471e-05,  4.38857265e-03],\n",
              "        [ 7.12412037e-03, -1.91911943e-02, -5.58041083e-03, ...,\n",
              "         -9.71079431e-03, -1.56261791e-02,  6.77142758e-03]], dtype=float32)>,\n",
              "   4: <tf.Variable 'LSTM_in_2/lstm_cell_17/recurrent_kernel/replica_4:0' shape=(2048, 8192) dtype=float32, numpy=\n",
              " array([[ 1.02103436e-02, -6.28526555e-03,  2.93225721e-02, ...,\n",
              "          2.01405492e-02,  7.76981469e-03, -1.18061677e-02],\n",
              "        [ 5.19835344e-03, -4.69923252e-03,  7.97238015e-03, ...,\n",
              "          8.50884826e-04,  7.46190315e-03, -1.95125472e-02],\n",
              "        [ 2.60794302e-03,  1.79674884e-03,  1.00236954e-02, ...,\n",
              "         -7.91324954e-03, -5.48736379e-03, -1.43545885e-02],\n",
              "        ...,\n",
              "        [ 5.09948423e-03,  2.37011667e-02, -1.13728661e-02, ...,\n",
              "         -5.45824412e-03, -5.70853648e-04,  1.29973488e-02],\n",
              "        [ 9.90562607e-03,  1.34099163e-02, -2.30965726e-02, ...,\n",
              "          1.10168345e-02,  4.42977471e-05,  4.38857265e-03],\n",
              "        [ 7.12412037e-03, -1.91911943e-02, -5.58041083e-03, ...,\n",
              "         -9.71079431e-03, -1.56261791e-02,  6.77142758e-03]], dtype=float32)>,\n",
              "   5: <tf.Variable 'LSTM_in_2/lstm_cell_17/recurrent_kernel/replica_5:0' shape=(2048, 8192) dtype=float32, numpy=\n",
              " array([[ 1.02103436e-02, -6.28526555e-03,  2.93225721e-02, ...,\n",
              "          2.01405492e-02,  7.76981469e-03, -1.18061677e-02],\n",
              "        [ 5.19835344e-03, -4.69923252e-03,  7.97238015e-03, ...,\n",
              "          8.50884826e-04,  7.46190315e-03, -1.95125472e-02],\n",
              "        [ 2.60794302e-03,  1.79674884e-03,  1.00236954e-02, ...,\n",
              "         -7.91324954e-03, -5.48736379e-03, -1.43545885e-02],\n",
              "        ...,\n",
              "        [ 5.09948423e-03,  2.37011667e-02, -1.13728661e-02, ...,\n",
              "         -5.45824412e-03, -5.70853648e-04,  1.29973488e-02],\n",
              "        [ 9.90562607e-03,  1.34099163e-02, -2.30965726e-02, ...,\n",
              "          1.10168345e-02,  4.42977471e-05,  4.38857265e-03],\n",
              "        [ 7.12412037e-03, -1.91911943e-02, -5.58041083e-03, ...,\n",
              "         -9.71079431e-03, -1.56261791e-02,  6.77142758e-03]], dtype=float32)>,\n",
              "   6: <tf.Variable 'LSTM_in_2/lstm_cell_17/recurrent_kernel/replica_6:0' shape=(2048, 8192) dtype=float32, numpy=\n",
              " array([[ 1.02103436e-02, -6.28526555e-03,  2.93225721e-02, ...,\n",
              "          2.01405492e-02,  7.76981469e-03, -1.18061677e-02],\n",
              "        [ 5.19835344e-03, -4.69923252e-03,  7.97238015e-03, ...,\n",
              "          8.50884826e-04,  7.46190315e-03, -1.95125472e-02],\n",
              "        [ 2.60794302e-03,  1.79674884e-03,  1.00236954e-02, ...,\n",
              "         -7.91324954e-03, -5.48736379e-03, -1.43545885e-02],\n",
              "        ...,\n",
              "        [ 5.09948423e-03,  2.37011667e-02, -1.13728661e-02, ...,\n",
              "         -5.45824412e-03, -5.70853648e-04,  1.29973488e-02],\n",
              "        [ 9.90562607e-03,  1.34099163e-02, -2.30965726e-02, ...,\n",
              "          1.10168345e-02,  4.42977471e-05,  4.38857265e-03],\n",
              "        [ 7.12412037e-03, -1.91911943e-02, -5.58041083e-03, ...,\n",
              "         -9.71079431e-03, -1.56261791e-02,  6.77142758e-03]], dtype=float32)>,\n",
              "   7: <tf.Variable 'LSTM_in_2/lstm_cell_17/recurrent_kernel/replica_7:0' shape=(2048, 8192) dtype=float32, numpy=\n",
              " array([[ 1.02103436e-02, -6.28526555e-03,  2.93225721e-02, ...,\n",
              "          2.01405492e-02,  7.76981469e-03, -1.18061677e-02],\n",
              "        [ 5.19835344e-03, -4.69923252e-03,  7.97238015e-03, ...,\n",
              "          8.50884826e-04,  7.46190315e-03, -1.95125472e-02],\n",
              "        [ 2.60794302e-03,  1.79674884e-03,  1.00236954e-02, ...,\n",
              "         -7.91324954e-03, -5.48736379e-03, -1.43545885e-02],\n",
              "        ...,\n",
              "        [ 5.09948423e-03,  2.37011667e-02, -1.13728661e-02, ...,\n",
              "         -5.45824412e-03, -5.70853648e-04,  1.29973488e-02],\n",
              "        [ 9.90562607e-03,  1.34099163e-02, -2.30965726e-02, ...,\n",
              "          1.10168345e-02,  4.42977471e-05,  4.38857265e-03],\n",
              "        [ 7.12412037e-03, -1.91911943e-02, -5.58041083e-03, ...,\n",
              "         -9.71079431e-03, -1.56261791e-02,  6.77142758e-03]], dtype=float32)>\n",
              " }, TPUMirroredVariable:{\n",
              "   0: <tf.Variable 'LSTM_in_2/lstm_cell_17/bias:0' shape=(8192,) dtype=float32, numpy=\n",
              " array([-1.5943406e-04,  3.8814236e-04,  8.1105763e-04, ...,\n",
              "         4.0888466e-04,  6.6299384e-05, -5.3480826e-04], dtype=float32)>,\n",
              "   1: <tf.Variable 'LSTM_in_2/lstm_cell_17/bias/replica_1:0' shape=(8192,) dtype=float32, numpy=\n",
              " array([-1.5943406e-04,  3.8814236e-04,  8.1105763e-04, ...,\n",
              "         4.0888466e-04,  6.6299384e-05, -5.3480826e-04], dtype=float32)>,\n",
              "   2: <tf.Variable 'LSTM_in_2/lstm_cell_17/bias/replica_2:0' shape=(8192,) dtype=float32, numpy=\n",
              " array([-1.5943406e-04,  3.8814236e-04,  8.1105763e-04, ...,\n",
              "         4.0888466e-04,  6.6299384e-05, -5.3480826e-04], dtype=float32)>,\n",
              "   3: <tf.Variable 'LSTM_in_2/lstm_cell_17/bias/replica_3:0' shape=(8192,) dtype=float32, numpy=\n",
              " array([-1.5943406e-04,  3.8814236e-04,  8.1105763e-04, ...,\n",
              "         4.0888466e-04,  6.6299384e-05, -5.3480826e-04], dtype=float32)>,\n",
              "   4: <tf.Variable 'LSTM_in_2/lstm_cell_17/bias/replica_4:0' shape=(8192,) dtype=float32, numpy=\n",
              " array([-1.5943406e-04,  3.8814236e-04,  8.1105763e-04, ...,\n",
              "         4.0888466e-04,  6.6299384e-05, -5.3480826e-04], dtype=float32)>,\n",
              "   5: <tf.Variable 'LSTM_in_2/lstm_cell_17/bias/replica_5:0' shape=(8192,) dtype=float32, numpy=\n",
              " array([-1.5943406e-04,  3.8814236e-04,  8.1105763e-04, ...,\n",
              "         4.0888466e-04,  6.6299384e-05, -5.3480826e-04], dtype=float32)>,\n",
              "   6: <tf.Variable 'LSTM_in_2/lstm_cell_17/bias/replica_6:0' shape=(8192,) dtype=float32, numpy=\n",
              " array([-1.5943406e-04,  3.8814236e-04,  8.1105763e-04, ...,\n",
              "         4.0888466e-04,  6.6299384e-05, -5.3480826e-04], dtype=float32)>,\n",
              "   7: <tf.Variable 'LSTM_in_2/lstm_cell_17/bias/replica_7:0' shape=(8192,) dtype=float32, numpy=\n",
              " array([-1.5943406e-04,  3.8814236e-04,  8.1105763e-04, ...,\n",
              "         4.0888466e-04,  6.6299384e-05, -5.3480826e-04], dtype=float32)>\n",
              " }, TPUMirroredVariable:{\n",
              "   0: <tf.Variable 'alpha/kernel:0' shape=(2048, 35) dtype=float32, numpy=\n",
              " array([[-4.7397465e-02, -3.0837968e-04,  3.3202548e-02, ...,\n",
              "         -4.9112506e-02, -2.6849886e-02,  2.4446096e-02],\n",
              "        [-3.9296388e-04,  2.2009031e-03, -1.4226657e-02, ...,\n",
              "         -3.6933322e-02,  2.7859192e-02, -7.6362092e-05],\n",
              "        [-3.3117089e-02,  2.8566947e-02,  1.0491391e-02, ...,\n",
              "         -4.4086747e-02,  1.7263733e-02, -4.8182398e-02],\n",
              "        ...,\n",
              "        [ 1.7322572e-03,  3.1744536e-02, -2.9255085e-02, ...,\n",
              "         -1.2854464e-02,  3.9427638e-02,  2.7417239e-02],\n",
              "        [-1.5585761e-02, -1.4577405e-02,  3.1037163e-02, ...,\n",
              "         -2.4573885e-02, -1.5524562e-02,  4.5592997e-02],\n",
              "        [-3.2507807e-02, -7.9841074e-03, -1.0478044e-02, ...,\n",
              "          3.4776922e-02, -2.6975254e-02,  4.8603002e-02]], dtype=float32)>,\n",
              "   1: <tf.Variable 'alpha/kernel/replica_1:0' shape=(2048, 35) dtype=float32, numpy=\n",
              " array([[-4.7397465e-02, -3.0837968e-04,  3.3202548e-02, ...,\n",
              "         -4.9112506e-02, -2.6849886e-02,  2.4446096e-02],\n",
              "        [-3.9296388e-04,  2.2009031e-03, -1.4226657e-02, ...,\n",
              "         -3.6933322e-02,  2.7859192e-02, -7.6362092e-05],\n",
              "        [-3.3117089e-02,  2.8566947e-02,  1.0491391e-02, ...,\n",
              "         -4.4086747e-02,  1.7263733e-02, -4.8182398e-02],\n",
              "        ...,\n",
              "        [ 1.7322572e-03,  3.1744536e-02, -2.9255085e-02, ...,\n",
              "         -1.2854464e-02,  3.9427638e-02,  2.7417239e-02],\n",
              "        [-1.5585761e-02, -1.4577405e-02,  3.1037163e-02, ...,\n",
              "         -2.4573885e-02, -1.5524562e-02,  4.5592997e-02],\n",
              "        [-3.2507807e-02, -7.9841074e-03, -1.0478044e-02, ...,\n",
              "          3.4776922e-02, -2.6975254e-02,  4.8603002e-02]], dtype=float32)>,\n",
              "   2: <tf.Variable 'alpha/kernel/replica_2:0' shape=(2048, 35) dtype=float32, numpy=\n",
              " array([[-4.7397465e-02, -3.0837968e-04,  3.3202548e-02, ...,\n",
              "         -4.9112506e-02, -2.6849886e-02,  2.4446096e-02],\n",
              "        [-3.9296388e-04,  2.2009031e-03, -1.4226657e-02, ...,\n",
              "         -3.6933322e-02,  2.7859192e-02, -7.6362092e-05],\n",
              "        [-3.3117089e-02,  2.8566947e-02,  1.0491391e-02, ...,\n",
              "         -4.4086747e-02,  1.7263733e-02, -4.8182398e-02],\n",
              "        ...,\n",
              "        [ 1.7322572e-03,  3.1744536e-02, -2.9255085e-02, ...,\n",
              "         -1.2854464e-02,  3.9427638e-02,  2.7417239e-02],\n",
              "        [-1.5585761e-02, -1.4577405e-02,  3.1037163e-02, ...,\n",
              "         -2.4573885e-02, -1.5524562e-02,  4.5592997e-02],\n",
              "        [-3.2507807e-02, -7.9841074e-03, -1.0478044e-02, ...,\n",
              "          3.4776922e-02, -2.6975254e-02,  4.8603002e-02]], dtype=float32)>,\n",
              "   3: <tf.Variable 'alpha/kernel/replica_3:0' shape=(2048, 35) dtype=float32, numpy=\n",
              " array([[-4.7397465e-02, -3.0837968e-04,  3.3202548e-02, ...,\n",
              "         -4.9112506e-02, -2.6849886e-02,  2.4446096e-02],\n",
              "        [-3.9296388e-04,  2.2009031e-03, -1.4226657e-02, ...,\n",
              "         -3.6933322e-02,  2.7859192e-02, -7.6362092e-05],\n",
              "        [-3.3117089e-02,  2.8566947e-02,  1.0491391e-02, ...,\n",
              "         -4.4086747e-02,  1.7263733e-02, -4.8182398e-02],\n",
              "        ...,\n",
              "        [ 1.7322572e-03,  3.1744536e-02, -2.9255085e-02, ...,\n",
              "         -1.2854464e-02,  3.9427638e-02,  2.7417239e-02],\n",
              "        [-1.5585761e-02, -1.4577405e-02,  3.1037163e-02, ...,\n",
              "         -2.4573885e-02, -1.5524562e-02,  4.5592997e-02],\n",
              "        [-3.2507807e-02, -7.9841074e-03, -1.0478044e-02, ...,\n",
              "          3.4776922e-02, -2.6975254e-02,  4.8603002e-02]], dtype=float32)>,\n",
              "   4: <tf.Variable 'alpha/kernel/replica_4:0' shape=(2048, 35) dtype=float32, numpy=\n",
              " array([[-4.7397465e-02, -3.0837968e-04,  3.3202548e-02, ...,\n",
              "         -4.9112506e-02, -2.6849886e-02,  2.4446096e-02],\n",
              "        [-3.9296388e-04,  2.2009031e-03, -1.4226657e-02, ...,\n",
              "         -3.6933322e-02,  2.7859192e-02, -7.6362092e-05],\n",
              "        [-3.3117089e-02,  2.8566947e-02,  1.0491391e-02, ...,\n",
              "         -4.4086747e-02,  1.7263733e-02, -4.8182398e-02],\n",
              "        ...,\n",
              "        [ 1.7322572e-03,  3.1744536e-02, -2.9255085e-02, ...,\n",
              "         -1.2854464e-02,  3.9427638e-02,  2.7417239e-02],\n",
              "        [-1.5585761e-02, -1.4577405e-02,  3.1037163e-02, ...,\n",
              "         -2.4573885e-02, -1.5524562e-02,  4.5592997e-02],\n",
              "        [-3.2507807e-02, -7.9841074e-03, -1.0478044e-02, ...,\n",
              "          3.4776922e-02, -2.6975254e-02,  4.8603002e-02]], dtype=float32)>,\n",
              "   5: <tf.Variable 'alpha/kernel/replica_5:0' shape=(2048, 35) dtype=float32, numpy=\n",
              " array([[-4.7397465e-02, -3.0837968e-04,  3.3202548e-02, ...,\n",
              "         -4.9112506e-02, -2.6849886e-02,  2.4446096e-02],\n",
              "        [-3.9296388e-04,  2.2009031e-03, -1.4226657e-02, ...,\n",
              "         -3.6933322e-02,  2.7859192e-02, -7.6362092e-05],\n",
              "        [-3.3117089e-02,  2.8566947e-02,  1.0491391e-02, ...,\n",
              "         -4.4086747e-02,  1.7263733e-02, -4.8182398e-02],\n",
              "        ...,\n",
              "        [ 1.7322572e-03,  3.1744536e-02, -2.9255085e-02, ...,\n",
              "         -1.2854464e-02,  3.9427638e-02,  2.7417239e-02],\n",
              "        [-1.5585761e-02, -1.4577405e-02,  3.1037163e-02, ...,\n",
              "         -2.4573885e-02, -1.5524562e-02,  4.5592997e-02],\n",
              "        [-3.2507807e-02, -7.9841074e-03, -1.0478044e-02, ...,\n",
              "          3.4776922e-02, -2.6975254e-02,  4.8603002e-02]], dtype=float32)>,\n",
              "   6: <tf.Variable 'alpha/kernel/replica_6:0' shape=(2048, 35) dtype=float32, numpy=\n",
              " array([[-4.7397465e-02, -3.0837968e-04,  3.3202548e-02, ...,\n",
              "         -4.9112506e-02, -2.6849886e-02,  2.4446096e-02],\n",
              "        [-3.9296388e-04,  2.2009031e-03, -1.4226657e-02, ...,\n",
              "         -3.6933322e-02,  2.7859192e-02, -7.6362092e-05],\n",
              "        [-3.3117089e-02,  2.8566947e-02,  1.0491391e-02, ...,\n",
              "         -4.4086747e-02,  1.7263733e-02, -4.8182398e-02],\n",
              "        ...,\n",
              "        [ 1.7322572e-03,  3.1744536e-02, -2.9255085e-02, ...,\n",
              "         -1.2854464e-02,  3.9427638e-02,  2.7417239e-02],\n",
              "        [-1.5585761e-02, -1.4577405e-02,  3.1037163e-02, ...,\n",
              "         -2.4573885e-02, -1.5524562e-02,  4.5592997e-02],\n",
              "        [-3.2507807e-02, -7.9841074e-03, -1.0478044e-02, ...,\n",
              "          3.4776922e-02, -2.6975254e-02,  4.8603002e-02]], dtype=float32)>,\n",
              "   7: <tf.Variable 'alpha/kernel/replica_7:0' shape=(2048, 35) dtype=float32, numpy=\n",
              " array([[-4.7397465e-02, -3.0837968e-04,  3.3202548e-02, ...,\n",
              "         -4.9112506e-02, -2.6849886e-02,  2.4446096e-02],\n",
              "        [-3.9296388e-04,  2.2009031e-03, -1.4226657e-02, ...,\n",
              "         -3.6933322e-02,  2.7859192e-02, -7.6362092e-05],\n",
              "        [-3.3117089e-02,  2.8566947e-02,  1.0491391e-02, ...,\n",
              "         -4.4086747e-02,  1.7263733e-02, -4.8182398e-02],\n",
              "        ...,\n",
              "        [ 1.7322572e-03,  3.1744536e-02, -2.9255085e-02, ...,\n",
              "         -1.2854464e-02,  3.9427638e-02,  2.7417239e-02],\n",
              "        [-1.5585761e-02, -1.4577405e-02,  3.1037163e-02, ...,\n",
              "         -2.4573885e-02, -1.5524562e-02,  4.5592997e-02],\n",
              "        [-3.2507807e-02, -7.9841074e-03, -1.0478044e-02, ...,\n",
              "          3.4776922e-02, -2.6975254e-02,  4.8603002e-02]], dtype=float32)>\n",
              " }, TPUMirroredVariable:{\n",
              "   0: <tf.Variable 'alpha/bias:0' shape=(35,) dtype=float32, numpy=\n",
              " array([ 4.2862498e-04,  8.5255963e-04, -7.9897721e-04, -4.5193790e-04,\n",
              "         5.6761826e-05,  1.8689274e-04,  4.4036002e-05, -8.3089282e-05,\n",
              "         6.6671637e-04, -8.1151508e-04, -8.3725853e-04,  4.1128407e-04,\n",
              "         8.3331909e-04, -4.3616362e-04,  8.0748700e-04, -1.1892240e-04,\n",
              "         1.2144468e-04, -8.3136198e-04,  8.2577078e-04,  1.6704354e-04,\n",
              "        -3.4384790e-04, -7.9499057e-04,  7.7359629e-04, -8.3872222e-04,\n",
              "         8.6666865e-04, -8.5688732e-04,  8.5910264e-04, -8.8946626e-04,\n",
              "        -6.9820357e-04,  8.8954886e-04,  8.5004838e-04,  3.9687424e-04,\n",
              "         4.5139660e-04, -8.2443136e-04, -5.3208251e-04], dtype=float32)>,\n",
              "   1: <tf.Variable 'alpha/bias/replica_1:0' shape=(35,) dtype=float32, numpy=\n",
              " array([ 4.2862498e-04,  8.5255963e-04, -7.9897721e-04, -4.5193790e-04,\n",
              "         5.6761826e-05,  1.8689274e-04,  4.4036002e-05, -8.3089282e-05,\n",
              "         6.6671637e-04, -8.1151508e-04, -8.3725853e-04,  4.1128407e-04,\n",
              "         8.3331909e-04, -4.3616362e-04,  8.0748700e-04, -1.1892240e-04,\n",
              "         1.2144468e-04, -8.3136198e-04,  8.2577078e-04,  1.6704354e-04,\n",
              "        -3.4384790e-04, -7.9499057e-04,  7.7359629e-04, -8.3872222e-04,\n",
              "         8.6666865e-04, -8.5688732e-04,  8.5910264e-04, -8.8946626e-04,\n",
              "        -6.9820357e-04,  8.8954886e-04,  8.5004838e-04,  3.9687424e-04,\n",
              "         4.5139660e-04, -8.2443136e-04, -5.3208251e-04], dtype=float32)>,\n",
              "   2: <tf.Variable 'alpha/bias/replica_2:0' shape=(35,) dtype=float32, numpy=\n",
              " array([ 4.2862498e-04,  8.5255963e-04, -7.9897721e-04, -4.5193790e-04,\n",
              "         5.6761826e-05,  1.8689274e-04,  4.4036002e-05, -8.3089282e-05,\n",
              "         6.6671637e-04, -8.1151508e-04, -8.3725853e-04,  4.1128407e-04,\n",
              "         8.3331909e-04, -4.3616362e-04,  8.0748700e-04, -1.1892240e-04,\n",
              "         1.2144468e-04, -8.3136198e-04,  8.2577078e-04,  1.6704354e-04,\n",
              "        -3.4384790e-04, -7.9499057e-04,  7.7359629e-04, -8.3872222e-04,\n",
              "         8.6666865e-04, -8.5688732e-04,  8.5910264e-04, -8.8946626e-04,\n",
              "        -6.9820357e-04,  8.8954886e-04,  8.5004838e-04,  3.9687424e-04,\n",
              "         4.5139660e-04, -8.2443136e-04, -5.3208251e-04], dtype=float32)>,\n",
              "   3: <tf.Variable 'alpha/bias/replica_3:0' shape=(35,) dtype=float32, numpy=\n",
              " array([ 4.2862498e-04,  8.5255963e-04, -7.9897721e-04, -4.5193790e-04,\n",
              "         5.6761826e-05,  1.8689274e-04,  4.4036002e-05, -8.3089282e-05,\n",
              "         6.6671637e-04, -8.1151508e-04, -8.3725853e-04,  4.1128407e-04,\n",
              "         8.3331909e-04, -4.3616362e-04,  8.0748700e-04, -1.1892240e-04,\n",
              "         1.2144468e-04, -8.3136198e-04,  8.2577078e-04,  1.6704354e-04,\n",
              "        -3.4384790e-04, -7.9499057e-04,  7.7359629e-04, -8.3872222e-04,\n",
              "         8.6666865e-04, -8.5688732e-04,  8.5910264e-04, -8.8946626e-04,\n",
              "        -6.9820357e-04,  8.8954886e-04,  8.5004838e-04,  3.9687424e-04,\n",
              "         4.5139660e-04, -8.2443136e-04, -5.3208251e-04], dtype=float32)>,\n",
              "   4: <tf.Variable 'alpha/bias/replica_4:0' shape=(35,) dtype=float32, numpy=\n",
              " array([ 4.2862498e-04,  8.5255963e-04, -7.9897721e-04, -4.5193790e-04,\n",
              "         5.6761826e-05,  1.8689274e-04,  4.4036002e-05, -8.3089282e-05,\n",
              "         6.6671637e-04, -8.1151508e-04, -8.3725853e-04,  4.1128407e-04,\n",
              "         8.3331909e-04, -4.3616362e-04,  8.0748700e-04, -1.1892240e-04,\n",
              "         1.2144468e-04, -8.3136198e-04,  8.2577078e-04,  1.6704354e-04,\n",
              "        -3.4384790e-04, -7.9499057e-04,  7.7359629e-04, -8.3872222e-04,\n",
              "         8.6666865e-04, -8.5688732e-04,  8.5910264e-04, -8.8946626e-04,\n",
              "        -6.9820357e-04,  8.8954886e-04,  8.5004838e-04,  3.9687424e-04,\n",
              "         4.5139660e-04, -8.2443136e-04, -5.3208251e-04], dtype=float32)>,\n",
              "   5: <tf.Variable 'alpha/bias/replica_5:0' shape=(35,) dtype=float32, numpy=\n",
              " array([ 4.2862498e-04,  8.5255963e-04, -7.9897721e-04, -4.5193790e-04,\n",
              "         5.6761826e-05,  1.8689274e-04,  4.4036002e-05, -8.3089282e-05,\n",
              "         6.6671637e-04, -8.1151508e-04, -8.3725853e-04,  4.1128407e-04,\n",
              "         8.3331909e-04, -4.3616362e-04,  8.0748700e-04, -1.1892240e-04,\n",
              "         1.2144468e-04, -8.3136198e-04,  8.2577078e-04,  1.6704354e-04,\n",
              "        -3.4384790e-04, -7.9499057e-04,  7.7359629e-04, -8.3872222e-04,\n",
              "         8.6666865e-04, -8.5688732e-04,  8.5910264e-04, -8.8946626e-04,\n",
              "        -6.9820357e-04,  8.8954886e-04,  8.5004838e-04,  3.9687424e-04,\n",
              "         4.5139660e-04, -8.2443136e-04, -5.3208251e-04], dtype=float32)>,\n",
              "   6: <tf.Variable 'alpha/bias/replica_6:0' shape=(35,) dtype=float32, numpy=\n",
              " array([ 4.2862498e-04,  8.5255963e-04, -7.9897721e-04, -4.5193790e-04,\n",
              "         5.6761826e-05,  1.8689274e-04,  4.4036002e-05, -8.3089282e-05,\n",
              "         6.6671637e-04, -8.1151508e-04, -8.3725853e-04,  4.1128407e-04,\n",
              "         8.3331909e-04, -4.3616362e-04,  8.0748700e-04, -1.1892240e-04,\n",
              "         1.2144468e-04, -8.3136198e-04,  8.2577078e-04,  1.6704354e-04,\n",
              "        -3.4384790e-04, -7.9499057e-04,  7.7359629e-04, -8.3872222e-04,\n",
              "         8.6666865e-04, -8.5688732e-04,  8.5910264e-04, -8.8946626e-04,\n",
              "        -6.9820357e-04,  8.8954886e-04,  8.5004838e-04,  3.9687424e-04,\n",
              "         4.5139660e-04, -8.2443136e-04, -5.3208251e-04], dtype=float32)>,\n",
              "   7: <tf.Variable 'alpha/bias/replica_7:0' shape=(35,) dtype=float32, numpy=\n",
              " array([ 4.2862498e-04,  8.5255963e-04, -7.9897721e-04, -4.5193790e-04,\n",
              "         5.6761826e-05,  1.8689274e-04,  4.4036002e-05, -8.3089282e-05,\n",
              "         6.6671637e-04, -8.1151508e-04, -8.3725853e-04,  4.1128407e-04,\n",
              "         8.3331909e-04, -4.3616362e-04,  8.0748700e-04, -1.1892240e-04,\n",
              "         1.2144468e-04, -8.3136198e-04,  8.2577078e-04,  1.6704354e-04,\n",
              "        -3.4384790e-04, -7.9499057e-04,  7.7359629e-04, -8.3872222e-04,\n",
              "         8.6666865e-04, -8.5688732e-04,  8.5910264e-04, -8.8946626e-04,\n",
              "        -6.9820357e-04,  8.8954886e-04,  8.5004838e-04,  3.9687424e-04,\n",
              "         4.5139660e-04, -8.2443136e-04, -5.3208251e-04], dtype=float32)>\n",
              " }, TPUMirroredVariable:{\n",
              "   0: <tf.Variable 'mu/kernel:0' shape=(2048, 35) dtype=float32, numpy=\n",
              " array([[-0.01866679,  0.04264632, -0.04236367, ...,  0.03952049,\n",
              "         -0.04775202, -0.01696245],\n",
              "        [-0.01041049, -0.04067751, -0.04890071, ...,  0.04933889,\n",
              "          0.03604979, -0.02111737],\n",
              "        [ 0.0215571 , -0.00179886,  0.00394451, ..., -0.04485954,\n",
              "         -0.00886877,  0.04163618],\n",
              "        ...,\n",
              "        [ 0.02414655, -0.0232834 ,  0.02811892, ..., -0.00975191,\n",
              "         -0.04530291, -0.04292282],\n",
              "        [-0.03864885,  0.01277394, -0.00806914, ..., -0.04187366,\n",
              "          0.04227071,  0.05329957],\n",
              "        [ 0.02152026, -0.01712943, -0.00874746, ..., -0.05106986,\n",
              "         -0.00770706, -0.03248471]], dtype=float32)>,\n",
              "   1: <tf.Variable 'mu/kernel/replica_1:0' shape=(2048, 35) dtype=float32, numpy=\n",
              " array([[-0.01866679,  0.04264632, -0.04236367, ...,  0.03952049,\n",
              "         -0.04775202, -0.01696245],\n",
              "        [-0.01041049, -0.04067751, -0.04890071, ...,  0.04933889,\n",
              "          0.03604979, -0.02111737],\n",
              "        [ 0.0215571 , -0.00179886,  0.00394451, ..., -0.04485954,\n",
              "         -0.00886877,  0.04163618],\n",
              "        ...,\n",
              "        [ 0.02414655, -0.0232834 ,  0.02811892, ..., -0.00975191,\n",
              "         -0.04530291, -0.04292282],\n",
              "        [-0.03864885,  0.01277394, -0.00806914, ..., -0.04187366,\n",
              "          0.04227071,  0.05329957],\n",
              "        [ 0.02152026, -0.01712943, -0.00874746, ..., -0.05106986,\n",
              "         -0.00770706, -0.03248471]], dtype=float32)>,\n",
              "   2: <tf.Variable 'mu/kernel/replica_2:0' shape=(2048, 35) dtype=float32, numpy=\n",
              " array([[-0.01866679,  0.04264632, -0.04236367, ...,  0.03952049,\n",
              "         -0.04775202, -0.01696245],\n",
              "        [-0.01041049, -0.04067751, -0.04890071, ...,  0.04933889,\n",
              "          0.03604979, -0.02111737],\n",
              "        [ 0.0215571 , -0.00179886,  0.00394451, ..., -0.04485954,\n",
              "         -0.00886877,  0.04163618],\n",
              "        ...,\n",
              "        [ 0.02414655, -0.0232834 ,  0.02811892, ..., -0.00975191,\n",
              "         -0.04530291, -0.04292282],\n",
              "        [-0.03864885,  0.01277394, -0.00806914, ..., -0.04187366,\n",
              "          0.04227071,  0.05329957],\n",
              "        [ 0.02152026, -0.01712943, -0.00874746, ..., -0.05106986,\n",
              "         -0.00770706, -0.03248471]], dtype=float32)>,\n",
              "   3: <tf.Variable 'mu/kernel/replica_3:0' shape=(2048, 35) dtype=float32, numpy=\n",
              " array([[-0.01866679,  0.04264632, -0.04236367, ...,  0.03952049,\n",
              "         -0.04775202, -0.01696245],\n",
              "        [-0.01041049, -0.04067751, -0.04890071, ...,  0.04933889,\n",
              "          0.03604979, -0.02111737],\n",
              "        [ 0.0215571 , -0.00179886,  0.00394451, ..., -0.04485954,\n",
              "         -0.00886877,  0.04163618],\n",
              "        ...,\n",
              "        [ 0.02414655, -0.0232834 ,  0.02811892, ..., -0.00975191,\n",
              "         -0.04530291, -0.04292282],\n",
              "        [-0.03864885,  0.01277394, -0.00806914, ..., -0.04187366,\n",
              "          0.04227071,  0.05329957],\n",
              "        [ 0.02152026, -0.01712943, -0.00874746, ..., -0.05106986,\n",
              "         -0.00770706, -0.03248471]], dtype=float32)>,\n",
              "   4: <tf.Variable 'mu/kernel/replica_4:0' shape=(2048, 35) dtype=float32, numpy=\n",
              " array([[-0.01866679,  0.04264632, -0.04236367, ...,  0.03952049,\n",
              "         -0.04775202, -0.01696245],\n",
              "        [-0.01041049, -0.04067751, -0.04890071, ...,  0.04933889,\n",
              "          0.03604979, -0.02111737],\n",
              "        [ 0.0215571 , -0.00179886,  0.00394451, ..., -0.04485954,\n",
              "         -0.00886877,  0.04163618],\n",
              "        ...,\n",
              "        [ 0.02414655, -0.0232834 ,  0.02811892, ..., -0.00975191,\n",
              "         -0.04530291, -0.04292282],\n",
              "        [-0.03864885,  0.01277394, -0.00806914, ..., -0.04187366,\n",
              "          0.04227071,  0.05329957],\n",
              "        [ 0.02152026, -0.01712943, -0.00874746, ..., -0.05106986,\n",
              "         -0.00770706, -0.03248471]], dtype=float32)>,\n",
              "   5: <tf.Variable 'mu/kernel/replica_5:0' shape=(2048, 35) dtype=float32, numpy=\n",
              " array([[-0.01866679,  0.04264632, -0.04236367, ...,  0.03952049,\n",
              "         -0.04775202, -0.01696245],\n",
              "        [-0.01041049, -0.04067751, -0.04890071, ...,  0.04933889,\n",
              "          0.03604979, -0.02111737],\n",
              "        [ 0.0215571 , -0.00179886,  0.00394451, ..., -0.04485954,\n",
              "         -0.00886877,  0.04163618],\n",
              "        ...,\n",
              "        [ 0.02414655, -0.0232834 ,  0.02811892, ..., -0.00975191,\n",
              "         -0.04530291, -0.04292282],\n",
              "        [-0.03864885,  0.01277394, -0.00806914, ..., -0.04187366,\n",
              "          0.04227071,  0.05329957],\n",
              "        [ 0.02152026, -0.01712943, -0.00874746, ..., -0.05106986,\n",
              "         -0.00770706, -0.03248471]], dtype=float32)>,\n",
              "   6: <tf.Variable 'mu/kernel/replica_6:0' shape=(2048, 35) dtype=float32, numpy=\n",
              " array([[-0.01866679,  0.04264632, -0.04236367, ...,  0.03952049,\n",
              "         -0.04775202, -0.01696245],\n",
              "        [-0.01041049, -0.04067751, -0.04890071, ...,  0.04933889,\n",
              "          0.03604979, -0.02111737],\n",
              "        [ 0.0215571 , -0.00179886,  0.00394451, ..., -0.04485954,\n",
              "         -0.00886877,  0.04163618],\n",
              "        ...,\n",
              "        [ 0.02414655, -0.0232834 ,  0.02811892, ..., -0.00975191,\n",
              "         -0.04530291, -0.04292282],\n",
              "        [-0.03864885,  0.01277394, -0.00806914, ..., -0.04187366,\n",
              "          0.04227071,  0.05329957],\n",
              "        [ 0.02152026, -0.01712943, -0.00874746, ..., -0.05106986,\n",
              "         -0.00770706, -0.03248471]], dtype=float32)>,\n",
              "   7: <tf.Variable 'mu/kernel/replica_7:0' shape=(2048, 35) dtype=float32, numpy=\n",
              " array([[-0.01866679,  0.04264632, -0.04236367, ...,  0.03952049,\n",
              "         -0.04775202, -0.01696245],\n",
              "        [-0.01041049, -0.04067751, -0.04890071, ...,  0.04933889,\n",
              "          0.03604979, -0.02111737],\n",
              "        [ 0.0215571 , -0.00179886,  0.00394451, ..., -0.04485954,\n",
              "         -0.00886877,  0.04163618],\n",
              "        ...,\n",
              "        [ 0.02414655, -0.0232834 ,  0.02811892, ..., -0.00975191,\n",
              "         -0.04530291, -0.04292282],\n",
              "        [-0.03864885,  0.01277394, -0.00806914, ..., -0.04187366,\n",
              "          0.04227071,  0.05329957],\n",
              "        [ 0.02152026, -0.01712943, -0.00874746, ..., -0.05106986,\n",
              "         -0.00770706, -0.03248471]], dtype=float32)>\n",
              " }, TPUMirroredVariable:{\n",
              "   0: <tf.Variable 'mu/bias:0' shape=(35,) dtype=float32, numpy=\n",
              " array([-0.0001186 , -0.00073114, -0.00018318, -0.00087109, -0.00088563,\n",
              "         0.00055758,  0.00060742,  0.0005576 ,  0.00075039,  0.00055491,\n",
              "         0.00048099,  0.00045632,  0.00043619,  0.00046315,  0.00050031,\n",
              "         0.00087332,  0.00081277,  0.00087841,  0.00080735,  0.00045235,\n",
              "        -0.00077909, -0.00075006, -0.00089733, -0.00070361, -0.00055127,\n",
              "         0.00085479,  0.00085875,  0.00084985,  0.00086069,  0.00085356,\n",
              "         0.00074093,  0.00082809,  0.00077222,  0.00081243,  0.0008275 ],\n",
              "       dtype=float32)>,\n",
              "   1: <tf.Variable 'mu/bias/replica_1:0' shape=(35,) dtype=float32, numpy=\n",
              " array([-0.0001186 , -0.00073114, -0.00018318, -0.00087109, -0.00088563,\n",
              "         0.00055758,  0.00060742,  0.0005576 ,  0.00075039,  0.00055491,\n",
              "         0.00048099,  0.00045632,  0.00043619,  0.00046315,  0.00050031,\n",
              "         0.00087332,  0.00081277,  0.00087841,  0.00080735,  0.00045235,\n",
              "        -0.00077909, -0.00075006, -0.00089733, -0.00070361, -0.00055127,\n",
              "         0.00085479,  0.00085875,  0.00084985,  0.00086069,  0.00085356,\n",
              "         0.00074093,  0.00082809,  0.00077222,  0.00081243,  0.0008275 ],\n",
              "       dtype=float32)>,\n",
              "   2: <tf.Variable 'mu/bias/replica_2:0' shape=(35,) dtype=float32, numpy=\n",
              " array([-0.0001186 , -0.00073114, -0.00018318, -0.00087109, -0.00088563,\n",
              "         0.00055758,  0.00060742,  0.0005576 ,  0.00075039,  0.00055491,\n",
              "         0.00048099,  0.00045632,  0.00043619,  0.00046315,  0.00050031,\n",
              "         0.00087332,  0.00081277,  0.00087841,  0.00080735,  0.00045235,\n",
              "        -0.00077909, -0.00075006, -0.00089733, -0.00070361, -0.00055127,\n",
              "         0.00085479,  0.00085875,  0.00084985,  0.00086069,  0.00085356,\n",
              "         0.00074093,  0.00082809,  0.00077222,  0.00081243,  0.0008275 ],\n",
              "       dtype=float32)>,\n",
              "   3: <tf.Variable 'mu/bias/replica_3:0' shape=(35,) dtype=float32, numpy=\n",
              " array([-0.0001186 , -0.00073114, -0.00018318, -0.00087109, -0.00088563,\n",
              "         0.00055758,  0.00060742,  0.0005576 ,  0.00075039,  0.00055491,\n",
              "         0.00048099,  0.00045632,  0.00043619,  0.00046315,  0.00050031,\n",
              "         0.00087332,  0.00081277,  0.00087841,  0.00080735,  0.00045235,\n",
              "        -0.00077909, -0.00075006, -0.00089733, -0.00070361, -0.00055127,\n",
              "         0.00085479,  0.00085875,  0.00084985,  0.00086069,  0.00085356,\n",
              "         0.00074093,  0.00082809,  0.00077222,  0.00081243,  0.0008275 ],\n",
              "       dtype=float32)>,\n",
              "   4: <tf.Variable 'mu/bias/replica_4:0' shape=(35,) dtype=float32, numpy=\n",
              " array([-0.0001186 , -0.00073114, -0.00018318, -0.00087109, -0.00088563,\n",
              "         0.00055758,  0.00060742,  0.0005576 ,  0.00075039,  0.00055491,\n",
              "         0.00048099,  0.00045632,  0.00043619,  0.00046315,  0.00050031,\n",
              "         0.00087332,  0.00081277,  0.00087841,  0.00080735,  0.00045235,\n",
              "        -0.00077909, -0.00075006, -0.00089733, -0.00070361, -0.00055127,\n",
              "         0.00085479,  0.00085875,  0.00084985,  0.00086069,  0.00085356,\n",
              "         0.00074093,  0.00082809,  0.00077222,  0.00081243,  0.0008275 ],\n",
              "       dtype=float32)>,\n",
              "   5: <tf.Variable 'mu/bias/replica_5:0' shape=(35,) dtype=float32, numpy=\n",
              " array([-0.0001186 , -0.00073114, -0.00018318, -0.00087109, -0.00088563,\n",
              "         0.00055758,  0.00060742,  0.0005576 ,  0.00075039,  0.00055491,\n",
              "         0.00048099,  0.00045632,  0.00043619,  0.00046315,  0.00050031,\n",
              "         0.00087332,  0.00081277,  0.00087841,  0.00080735,  0.00045235,\n",
              "        -0.00077909, -0.00075006, -0.00089733, -0.00070361, -0.00055127,\n",
              "         0.00085479,  0.00085875,  0.00084985,  0.00086069,  0.00085356,\n",
              "         0.00074093,  0.00082809,  0.00077222,  0.00081243,  0.0008275 ],\n",
              "       dtype=float32)>,\n",
              "   6: <tf.Variable 'mu/bias/replica_6:0' shape=(35,) dtype=float32, numpy=\n",
              " array([-0.0001186 , -0.00073114, -0.00018318, -0.00087109, -0.00088563,\n",
              "         0.00055758,  0.00060742,  0.0005576 ,  0.00075039,  0.00055491,\n",
              "         0.00048099,  0.00045632,  0.00043619,  0.00046315,  0.00050031,\n",
              "         0.00087332,  0.00081277,  0.00087841,  0.00080735,  0.00045235,\n",
              "        -0.00077909, -0.00075006, -0.00089733, -0.00070361, -0.00055127,\n",
              "         0.00085479,  0.00085875,  0.00084985,  0.00086069,  0.00085356,\n",
              "         0.00074093,  0.00082809,  0.00077222,  0.00081243,  0.0008275 ],\n",
              "       dtype=float32)>,\n",
              "   7: <tf.Variable 'mu/bias/replica_7:0' shape=(35,) dtype=float32, numpy=\n",
              " array([-0.0001186 , -0.00073114, -0.00018318, -0.00087109, -0.00088563,\n",
              "         0.00055758,  0.00060742,  0.0005576 ,  0.00075039,  0.00055491,\n",
              "         0.00048099,  0.00045632,  0.00043619,  0.00046315,  0.00050031,\n",
              "         0.00087332,  0.00081277,  0.00087841,  0.00080735,  0.00045235,\n",
              "        -0.00077909, -0.00075006, -0.00089733, -0.00070361, -0.00055127,\n",
              "         0.00085479,  0.00085875,  0.00084985,  0.00086069,  0.00085356,\n",
              "         0.00074093,  0.00082809,  0.00077222,  0.00081243,  0.0008275 ],\n",
              "       dtype=float32)>\n",
              " }, TPUMirroredVariable:{\n",
              "   0: <tf.Variable 'sigma/kernel:0' shape=(2048, 35) dtype=float32, numpy=\n",
              " array([[ 0.02613803,  0.04167306,  0.0435374 , ...,  0.04341144,\n",
              "          0.01577192,  0.02430291],\n",
              "        [-0.0133546 , -0.04609206,  0.02781149, ..., -0.01077767,\n",
              "         -0.04014544,  0.01901724],\n",
              "        [-0.01681691,  0.03917302,  0.01435866, ..., -0.04592929,\n",
              "          0.03450451,  0.00611791],\n",
              "        ...,\n",
              "        [ 0.03938093, -0.00494637,  0.01956054, ..., -0.03161546,\n",
              "         -0.02257835, -0.03697918],\n",
              "        [ 0.00537125, -0.02537167,  0.02803018, ...,  0.00971032,\n",
              "         -0.02694587, -0.03787188],\n",
              "        [-0.00134132,  0.04772345, -0.02885144, ..., -0.05246907,\n",
              "         -0.01829292, -0.00065855]], dtype=float32)>,\n",
              "   1: <tf.Variable 'sigma/kernel/replica_1:0' shape=(2048, 35) dtype=float32, numpy=\n",
              " array([[ 0.02613803,  0.04167306,  0.0435374 , ...,  0.04341144,\n",
              "          0.01577192,  0.02430291],\n",
              "        [-0.0133546 , -0.04609206,  0.02781149, ..., -0.01077767,\n",
              "         -0.04014544,  0.01901724],\n",
              "        [-0.01681691,  0.03917302,  0.01435866, ..., -0.04592929,\n",
              "          0.03450451,  0.00611791],\n",
              "        ...,\n",
              "        [ 0.03938093, -0.00494637,  0.01956054, ..., -0.03161546,\n",
              "         -0.02257835, -0.03697918],\n",
              "        [ 0.00537125, -0.02537167,  0.02803018, ...,  0.00971032,\n",
              "         -0.02694587, -0.03787188],\n",
              "        [-0.00134132,  0.04772345, -0.02885144, ..., -0.05246907,\n",
              "         -0.01829292, -0.00065855]], dtype=float32)>,\n",
              "   2: <tf.Variable 'sigma/kernel/replica_2:0' shape=(2048, 35) dtype=float32, numpy=\n",
              " array([[ 0.02613803,  0.04167306,  0.0435374 , ...,  0.04341144,\n",
              "          0.01577192,  0.02430291],\n",
              "        [-0.0133546 , -0.04609206,  0.02781149, ..., -0.01077767,\n",
              "         -0.04014544,  0.01901724],\n",
              "        [-0.01681691,  0.03917302,  0.01435866, ..., -0.04592929,\n",
              "          0.03450451,  0.00611791],\n",
              "        ...,\n",
              "        [ 0.03938093, -0.00494637,  0.01956054, ..., -0.03161546,\n",
              "         -0.02257835, -0.03697918],\n",
              "        [ 0.00537125, -0.02537167,  0.02803018, ...,  0.00971032,\n",
              "         -0.02694587, -0.03787188],\n",
              "        [-0.00134132,  0.04772345, -0.02885144, ..., -0.05246907,\n",
              "         -0.01829292, -0.00065855]], dtype=float32)>,\n",
              "   3: <tf.Variable 'sigma/kernel/replica_3:0' shape=(2048, 35) dtype=float32, numpy=\n",
              " array([[ 0.02613803,  0.04167306,  0.0435374 , ...,  0.04341144,\n",
              "          0.01577192,  0.02430291],\n",
              "        [-0.0133546 , -0.04609206,  0.02781149, ..., -0.01077767,\n",
              "         -0.04014544,  0.01901724],\n",
              "        [-0.01681691,  0.03917302,  0.01435866, ..., -0.04592929,\n",
              "          0.03450451,  0.00611791],\n",
              "        ...,\n",
              "        [ 0.03938093, -0.00494637,  0.01956054, ..., -0.03161546,\n",
              "         -0.02257835, -0.03697918],\n",
              "        [ 0.00537125, -0.02537167,  0.02803018, ...,  0.00971032,\n",
              "         -0.02694587, -0.03787188],\n",
              "        [-0.00134132,  0.04772345, -0.02885144, ..., -0.05246907,\n",
              "         -0.01829292, -0.00065855]], dtype=float32)>,\n",
              "   4: <tf.Variable 'sigma/kernel/replica_4:0' shape=(2048, 35) dtype=float32, numpy=\n",
              " array([[ 0.02613803,  0.04167306,  0.0435374 , ...,  0.04341144,\n",
              "          0.01577192,  0.02430291],\n",
              "        [-0.0133546 , -0.04609206,  0.02781149, ..., -0.01077767,\n",
              "         -0.04014544,  0.01901724],\n",
              "        [-0.01681691,  0.03917302,  0.01435866, ..., -0.04592929,\n",
              "          0.03450451,  0.00611791],\n",
              "        ...,\n",
              "        [ 0.03938093, -0.00494637,  0.01956054, ..., -0.03161546,\n",
              "         -0.02257835, -0.03697918],\n",
              "        [ 0.00537125, -0.02537167,  0.02803018, ...,  0.00971032,\n",
              "         -0.02694587, -0.03787188],\n",
              "        [-0.00134132,  0.04772345, -0.02885144, ..., -0.05246907,\n",
              "         -0.01829292, -0.00065855]], dtype=float32)>,\n",
              "   5: <tf.Variable 'sigma/kernel/replica_5:0' shape=(2048, 35) dtype=float32, numpy=\n",
              " array([[ 0.02613803,  0.04167306,  0.0435374 , ...,  0.04341144,\n",
              "          0.01577192,  0.02430291],\n",
              "        [-0.0133546 , -0.04609206,  0.02781149, ..., -0.01077767,\n",
              "         -0.04014544,  0.01901724],\n",
              "        [-0.01681691,  0.03917302,  0.01435866, ..., -0.04592929,\n",
              "          0.03450451,  0.00611791],\n",
              "        ...,\n",
              "        [ 0.03938093, -0.00494637,  0.01956054, ..., -0.03161546,\n",
              "         -0.02257835, -0.03697918],\n",
              "        [ 0.00537125, -0.02537167,  0.02803018, ...,  0.00971032,\n",
              "         -0.02694587, -0.03787188],\n",
              "        [-0.00134132,  0.04772345, -0.02885144, ..., -0.05246907,\n",
              "         -0.01829292, -0.00065855]], dtype=float32)>,\n",
              "   6: <tf.Variable 'sigma/kernel/replica_6:0' shape=(2048, 35) dtype=float32, numpy=\n",
              " array([[ 0.02613803,  0.04167306,  0.0435374 , ...,  0.04341144,\n",
              "          0.01577192,  0.02430291],\n",
              "        [-0.0133546 , -0.04609206,  0.02781149, ..., -0.01077767,\n",
              "         -0.04014544,  0.01901724],\n",
              "        [-0.01681691,  0.03917302,  0.01435866, ..., -0.04592929,\n",
              "          0.03450451,  0.00611791],\n",
              "        ...,\n",
              "        [ 0.03938093, -0.00494637,  0.01956054, ..., -0.03161546,\n",
              "         -0.02257835, -0.03697918],\n",
              "        [ 0.00537125, -0.02537167,  0.02803018, ...,  0.00971032,\n",
              "         -0.02694587, -0.03787188],\n",
              "        [-0.00134132,  0.04772345, -0.02885144, ..., -0.05246907,\n",
              "         -0.01829292, -0.00065855]], dtype=float32)>,\n",
              "   7: <tf.Variable 'sigma/kernel/replica_7:0' shape=(2048, 35) dtype=float32, numpy=\n",
              " array([[ 0.02613803,  0.04167306,  0.0435374 , ...,  0.04341144,\n",
              "          0.01577192,  0.02430291],\n",
              "        [-0.0133546 , -0.04609206,  0.02781149, ..., -0.01077767,\n",
              "         -0.04014544,  0.01901724],\n",
              "        [-0.01681691,  0.03917302,  0.01435866, ..., -0.04592929,\n",
              "          0.03450451,  0.00611791],\n",
              "        ...,\n",
              "        [ 0.03938093, -0.00494637,  0.01956054, ..., -0.03161546,\n",
              "         -0.02257835, -0.03697918],\n",
              "        [ 0.00537125, -0.02537167,  0.02803018, ...,  0.00971032,\n",
              "         -0.02694587, -0.03787188],\n",
              "        [-0.00134132,  0.04772345, -0.02885144, ..., -0.05246907,\n",
              "         -0.01829292, -0.00065855]], dtype=float32)>\n",
              " }, TPUMirroredVariable:{\n",
              "   0: <tf.Variable 'sigma/bias:0' shape=(35,) dtype=float32, numpy=\n",
              " array([-0.00090013, -0.000901  , -0.00089583, -0.0009012 , -0.00090061,\n",
              "        -0.00090135, -0.00089867, -0.00089811, -0.00089817, -0.00089833,\n",
              "        -0.00089938, -0.000899  , -0.0008999 , -0.00090083, -0.00089952,\n",
              "        -0.00089849, -0.00089952, -0.00089738, -0.00090022, -0.00089859,\n",
              "        -0.00089812, -0.00089879, -0.00090032, -0.00090027, -0.00090084,\n",
              "         0.00074043,  0.00066276,  0.00074409,  0.00075203,  0.00069987,\n",
              "        -0.0008979 , -0.00089792, -0.00089547, -0.00089677, -0.00089813],\n",
              "       dtype=float32)>,\n",
              "   1: <tf.Variable 'sigma/bias/replica_1:0' shape=(35,) dtype=float32, numpy=\n",
              " array([-0.00090013, -0.000901  , -0.00089583, -0.0009012 , -0.00090061,\n",
              "        -0.00090135, -0.00089867, -0.00089811, -0.00089817, -0.00089833,\n",
              "        -0.00089938, -0.000899  , -0.0008999 , -0.00090083, -0.00089952,\n",
              "        -0.00089849, -0.00089952, -0.00089738, -0.00090022, -0.00089859,\n",
              "        -0.00089812, -0.00089879, -0.00090032, -0.00090027, -0.00090084,\n",
              "         0.00074043,  0.00066276,  0.00074409,  0.00075203,  0.00069987,\n",
              "        -0.0008979 , -0.00089792, -0.00089547, -0.00089677, -0.00089813],\n",
              "       dtype=float32)>,\n",
              "   2: <tf.Variable 'sigma/bias/replica_2:0' shape=(35,) dtype=float32, numpy=\n",
              " array([-0.00090013, -0.000901  , -0.00089583, -0.0009012 , -0.00090061,\n",
              "        -0.00090135, -0.00089867, -0.00089811, -0.00089817, -0.00089833,\n",
              "        -0.00089938, -0.000899  , -0.0008999 , -0.00090083, -0.00089952,\n",
              "        -0.00089849, -0.00089952, -0.00089738, -0.00090022, -0.00089859,\n",
              "        -0.00089812, -0.00089879, -0.00090032, -0.00090027, -0.00090084,\n",
              "         0.00074043,  0.00066276,  0.00074409,  0.00075203,  0.00069987,\n",
              "        -0.0008979 , -0.00089792, -0.00089547, -0.00089677, -0.00089813],\n",
              "       dtype=float32)>,\n",
              "   3: <tf.Variable 'sigma/bias/replica_3:0' shape=(35,) dtype=float32, numpy=\n",
              " array([-0.00090013, -0.000901  , -0.00089583, -0.0009012 , -0.00090061,\n",
              "        -0.00090135, -0.00089867, -0.00089811, -0.00089817, -0.00089833,\n",
              "        -0.00089938, -0.000899  , -0.0008999 , -0.00090083, -0.00089952,\n",
              "        -0.00089849, -0.00089952, -0.00089738, -0.00090022, -0.00089859,\n",
              "        -0.00089812, -0.00089879, -0.00090032, -0.00090027, -0.00090084,\n",
              "         0.00074043,  0.00066276,  0.00074409,  0.00075203,  0.00069987,\n",
              "        -0.0008979 , -0.00089792, -0.00089547, -0.00089677, -0.00089813],\n",
              "       dtype=float32)>,\n",
              "   4: <tf.Variable 'sigma/bias/replica_4:0' shape=(35,) dtype=float32, numpy=\n",
              " array([-0.00090013, -0.000901  , -0.00089583, -0.0009012 , -0.00090061,\n",
              "        -0.00090135, -0.00089867, -0.00089811, -0.00089817, -0.00089833,\n",
              "        -0.00089938, -0.000899  , -0.0008999 , -0.00090083, -0.00089952,\n",
              "        -0.00089849, -0.00089952, -0.00089738, -0.00090022, -0.00089859,\n",
              "        -0.00089812, -0.00089879, -0.00090032, -0.00090027, -0.00090084,\n",
              "         0.00074043,  0.00066276,  0.00074409,  0.00075203,  0.00069987,\n",
              "        -0.0008979 , -0.00089792, -0.00089547, -0.00089677, -0.00089813],\n",
              "       dtype=float32)>,\n",
              "   5: <tf.Variable 'sigma/bias/replica_5:0' shape=(35,) dtype=float32, numpy=\n",
              " array([-0.00090013, -0.000901  , -0.00089583, -0.0009012 , -0.00090061,\n",
              "        -0.00090135, -0.00089867, -0.00089811, -0.00089817, -0.00089833,\n",
              "        -0.00089938, -0.000899  , -0.0008999 , -0.00090083, -0.00089952,\n",
              "        -0.00089849, -0.00089952, -0.00089738, -0.00090022, -0.00089859,\n",
              "        -0.00089812, -0.00089879, -0.00090032, -0.00090027, -0.00090084,\n",
              "         0.00074043,  0.00066276,  0.00074409,  0.00075203,  0.00069987,\n",
              "        -0.0008979 , -0.00089792, -0.00089547, -0.00089677, -0.00089813],\n",
              "       dtype=float32)>,\n",
              "   6: <tf.Variable 'sigma/bias/replica_6:0' shape=(35,) dtype=float32, numpy=\n",
              " array([-0.00090013, -0.000901  , -0.00089583, -0.0009012 , -0.00090061,\n",
              "        -0.00090135, -0.00089867, -0.00089811, -0.00089817, -0.00089833,\n",
              "        -0.00089938, -0.000899  , -0.0008999 , -0.00090083, -0.00089952,\n",
              "        -0.00089849, -0.00089952, -0.00089738, -0.00090022, -0.00089859,\n",
              "        -0.00089812, -0.00089879, -0.00090032, -0.00090027, -0.00090084,\n",
              "         0.00074043,  0.00066276,  0.00074409,  0.00075203,  0.00069987,\n",
              "        -0.0008979 , -0.00089792, -0.00089547, -0.00089677, -0.00089813],\n",
              "       dtype=float32)>,\n",
              "   7: <tf.Variable 'sigma/bias/replica_7:0' shape=(35,) dtype=float32, numpy=\n",
              " array([-0.00090013, -0.000901  , -0.00089583, -0.0009012 , -0.00090061,\n",
              "        -0.00090135, -0.00089867, -0.00089811, -0.00089817, -0.00089833,\n",
              "        -0.00089938, -0.000899  , -0.0008999 , -0.00090083, -0.00089952,\n",
              "        -0.00089849, -0.00089952, -0.00089738, -0.00090022, -0.00089859,\n",
              "        -0.00089812, -0.00089879, -0.00090032, -0.00090027, -0.00090084,\n",
              "         0.00074043,  0.00066276,  0.00074409,  0.00075203,  0.00069987,\n",
              "        -0.0008979 , -0.00089792, -0.00089547, -0.00089677, -0.00089813],\n",
              "       dtype=float32)>\n",
              " }]"
            ]
          },
          "metadata": {
            "tags": []
          },
          "execution_count": 59
        }
      ]
    },
    {
      "cell_type": "code",
      "metadata": {
        "colab": {
          "base_uri": "https://localhost:8080/"
        },
        "id": "vTRSCD06flrt",
        "outputId": "fa51c23b-3088-4f41-919f-d801d353d856"
      },
      "source": [
        "from tqdm import tqdm\n",
        "t = time.time()\n",
        "for i in tqdm(range(0,100)):\n",
        "  train(train_dist_dataset, args.beta)\n",
        "  # train_batch = next(train_dist_dataset)\n",
        "  # trainer.distributed_train_step(train_batch, args.beta)\n",
        "print(time.time()-t)"
      ],
      "execution_count": 60,
      "outputs": [
        {
          "output_type": "stream",
          "text": [
            "100%|██████████| 100/100 [00:00<00:00, 512.62it/s]"
          ],
          "name": "stderr"
        },
        {
          "output_type": "stream",
          "text": [
            "0.19745349884033203\n"
          ],
          "name": "stdout"
        },
        {
          "output_type": "stream",
          "text": [
            "\n"
          ],
          "name": "stderr"
        }
      ]
    },
    {
      "cell_type": "code",
      "metadata": {
        "id": "8Y0NakkUsTlZ",
        "colab": {
          "base_uri": "https://localhost:8080/"
        },
        "outputId": "c086245d-da04-4c8e-91f3-4be4a5d4783d"
      },
      "source": [
        "t = time.time()\r\n",
        "for i in tqdm(range(0,10)):\r\n",
        "  train(train_dist_dataset, beta_sched.scheduler(i))\r\n",
        "  # train_batch = next(train_dist_dataset)\r\n",
        "  # trainer.distributed_train_step(train_batch, args.beta)\r\n",
        "print(time.time()-t)"
      ],
      "execution_count": null,
      "outputs": [
        {
          "output_type": "stream",
          "text": [
            "\n",
            "  0%|          | 0/10 [00:00<?, ?it/s]\u001b[A\n",
            " 20%|██        | 2/10 [00:00<00:01,  7.05it/s]\u001b[A\n",
            " 30%|███       | 3/10 [00:00<00:01,  5.46it/s]\u001b[A\n",
            " 40%|████      | 4/10 [00:00<00:01,  4.71it/s]\u001b[A\n",
            " 50%|█████     | 5/10 [00:01<00:01,  4.30it/s]\u001b[A\n",
            " 60%|██████    | 6/10 [00:01<00:00,  4.05it/s]\u001b[A\n",
            " 70%|███████   | 7/10 [00:01<00:00,  3.90it/s]\u001b[A\n",
            " 80%|████████  | 8/10 [00:01<00:00,  3.80it/s]\u001b[A\n",
            " 90%|█████████ | 9/10 [00:02<00:00,  3.73it/s]\u001b[A\n",
            "100%|██████████| 10/10 [00:02<00:00,  3.96it/s]"
          ],
          "name": "stderr"
        },
        {
          "output_type": "stream",
          "text": [
            "2.5251405239105225\n"
          ],
          "name": "stdout"
        },
        {
          "output_type": "stream",
          "text": [
            "\n"
          ],
          "name": "stderr"
        }
      ]
    },
    {
      "cell_type": "code",
      "metadata": {
        "colab": {
          "base_uri": "https://localhost:8080/"
        },
        "id": "CvAmcAknnDyA",
        "outputId": "9dd7abb0-f5cc-441d-e08b-8734056198f2"
      },
      "source": [
        "from tqdm import tqdm\n",
        "t = time.time()\n",
        "for i in tqdm(range(0,1000)):\n",
        "  sampleOnfly(train_dist_dataset, args.beta)\n",
        "  # train_batch = next(train_dist_dataset)\n",
        "  # trainer.distributed_train_step(train_batch, args.beta)\n",
        "print(time.time()-t)"
      ],
      "execution_count": null,
      "outputs": [
        {
          "output_type": "stream",
          "text": [
            "100%|██████████| 1000/1000 [00:01<00:00, 827.20it/s]"
          ],
          "name": "stderr"
        },
        {
          "output_type": "stream",
          "text": [
            "1.211451530456543\n"
          ],
          "name": "stdout"
        },
        {
          "output_type": "stream",
          "text": [
            "\n"
          ],
          "name": "stderr"
        }
      ]
    },
    {
      "cell_type": "code",
      "metadata": {
        "id": "qr4uTC5DpCw-"
      },
      "source": [
        "data_paths = [str(STORAGE_PATH/'precompute')+f\"/{x}.tfrecords\" for x in range(0,4)]"
      ],
      "execution_count": null,
      "outputs": []
    },
    {
      "cell_type": "code",
      "metadata": {
        "cellView": "form",
        "id": "vk3ed-Ifnt0C"
      },
      "source": [
        "#@title Serialise\n",
        "\n",
        "\n",
        "r = lfp.data.PlayDataloader(include_imgs = args.images, batch_size=1,  window_size=args.window_size_max, min_window_size=args.window_size_min)\n",
        "rd = r.extract(TRAIN_DATA_PATHS, from_tfrecords=args.from_tfrecords)\n",
        "rd = r.load(rd)\n",
        "r_it = iter(rd)\n",
        "r_it.next()\n",
        "\n",
        "\n",
        "@tf.function\n",
        "def sample():\n",
        "  return r_it.next()\n",
        "\n",
        "sample()['seq_lens']\n",
        "\n",
        "from tensorflow.train import BytesList, FloatList, Int64List\n",
        "from tensorflow.train import Example, Features, Feature\n",
        "\n",
        "def serialise(data):\n",
        "    \n",
        "    obs, acts, goals, seq_lens, masks, dataset_path, tstep_idxs , imgs , goal_imgs, proprioceptive_features = data['obs'], \\\n",
        "    data['acts'], data['goals'], data['seq_lens'], data['masks'], data['dataset_path'], data['tstep_idxs'], data['imgs'], data['goal_imgs'], data['proprioceptive_features']\n",
        "    \n",
        "    # obs (1, 40, 18)\n",
        "    # acts (1, 40, 7)\n",
        "    # goals (1, 40, 11)\n",
        "    # seq_lens (1,)\n",
        "    # masks (1, 40)\n",
        "    # dataset_path (1, 40)\n",
        "    # tstep_idxs (1, 40)\n",
        "    # imgs (1, 40, 200, 200, 3)\n",
        "    # goal_imgs (1, 40, 200, 200, 3)\n",
        "    # proprioceptive_features (1, 40, 7)\n",
        "\n",
        "    goal_imgs = tf.expand_dims(goal_imgs[:,0,:,:,:],1) # crete a :, 1, :,:,: shaped goal images for less file IO\n",
        "\n",
        "    \n",
        "    obs = Feature(bytes_list=BytesList(value=[tf.io.serialize_tensor(tf.squeeze(obs)).numpy(),]))\n",
        "    acts = Feature(bytes_list=BytesList(value=[tf.io.serialize_tensor(tf.squeeze(acts)).numpy(),]))\n",
        "    goals = Feature(bytes_list=BytesList(value=[tf.io.serialize_tensor(tf.squeeze(goals)).numpy(),])) \n",
        "    seq_lens = Feature(int64_list=Int64List(value=[seq_lens,]))\n",
        "    masks = Feature(bytes_list=BytesList(value=[tf.io.serialize_tensor(tf.squeeze(masks)).numpy(),])) \n",
        "\n",
        "    imgs = Feature(bytes_list=BytesList(value=[tf.io.serialize_tensor(tf.squeeze(imgs)).numpy(),]))\n",
        "    goal_imgs = Feature(bytes_list=BytesList(value=[tf.io.serialize_tensor(tf.squeeze(goal_imgs)).numpy(),]))\n",
        "    proprioceptive_features = Feature(bytes_list=BytesList(value=[tf.io.serialize_tensor(tf.squeeze(proprioceptive_features)).numpy(),]))\n",
        "\n",
        "    \n",
        "    features = Features(feature={\n",
        "              'obs':obs,\n",
        "              'acts':acts,\n",
        "              'goals':goals,\n",
        "              'seq_lens':seq_lens,\n",
        "              'masks':masks,\n",
        "              'imgs':imgs,\n",
        "              'goal_imgs':goal_imgs,\n",
        "              'proprioceptive_features':proprioceptive_features})\n",
        "    \n",
        "    example = Example(features=features)\n",
        "    \n",
        "    return example.SerializeToString()"
      ],
      "execution_count": null,
      "outputs": []
    },
    {
      "cell_type": "code",
      "metadata": {
        "colab": {
          "base_uri": "https://localhost:8080/"
        },
        "cellView": "form",
        "id": "QNKLeVdEoWqK",
        "outputId": "f4aae5db-c079-478c-bd94-c3a3ca50f2ba"
      },
      "source": [
        "#@title write to gcs\n",
        "\n",
        "for path in data_paths:\n",
        "  with tf.io.TFRecordWriter(path) as file_writer:\n",
        "    print(path)\n",
        "    for i in tqdm(range(0,200)):\n",
        "        byte_stream = serialise(sample())\n",
        "        file_writer.write(byte_stream)"
      ],
      "execution_count": null,
      "outputs": [
        {
          "output_type": "stream",
          "text": [
            "  2%|▏         | 3/200 [00:00<00:08, 24.03it/s]"
          ],
          "name": "stderr"
        },
        {
          "output_type": "stream",
          "text": [
            "gs://iowa_bucket_lfp/precompute/0.tfrecords\n"
          ],
          "name": "stdout"
        },
        {
          "output_type": "stream",
          "text": [
            "100%|██████████| 200/200 [00:09<00:00, 21.61it/s]\n",
            "  2%|▏         | 3/200 [00:00<00:08, 23.97it/s]"
          ],
          "name": "stderr"
        },
        {
          "output_type": "stream",
          "text": [
            "gs://iowa_bucket_lfp/precompute/1.tfrecords\n"
          ],
          "name": "stdout"
        },
        {
          "output_type": "stream",
          "text": [
            "100%|██████████| 200/200 [00:09<00:00, 21.40it/s]\n",
            "  2%|▏         | 3/200 [00:00<00:08, 23.34it/s]"
          ],
          "name": "stderr"
        },
        {
          "output_type": "stream",
          "text": [
            "gs://iowa_bucket_lfp/precompute/2.tfrecords\n"
          ],
          "name": "stdout"
        },
        {
          "output_type": "stream",
          "text": [
            "100%|██████████| 200/200 [00:09<00:00, 21.78it/s]\n",
            "  2%|▏         | 3/200 [00:00<00:08, 23.43it/s]"
          ],
          "name": "stderr"
        },
        {
          "output_type": "stream",
          "text": [
            "gs://iowa_bucket_lfp/precompute/3.tfrecords\n"
          ],
          "name": "stdout"
        },
        {
          "output_type": "stream",
          "text": [
            "100%|██████████| 200/200 [00:08<00:00, 22.64it/s]\n"
          ],
          "name": "stderr"
        }
      ]
    },
    {
      "cell_type": "code",
      "metadata": {
        "id": "DR6dq6KeoWss"
      },
      "source": [
        "# @------title decode\n",
        "def decode_image(image_data):\n",
        "    image = tf.image.decode_jpeg(image_data, channels=3)\n",
        "    #image = tf.cast(image, tf.float32) / 255.0  # convert image to floats in [0, 1] range\n",
        "    image = tf.reshape(image, [200,200, 3]) # explicit size needed for TPU\n",
        "    return image\n",
        "\n",
        "def read_tfrecord(example):\n",
        "    LABELED_TFREC_FORMAT = {\n",
        "            'obs':tf.io.FixedLenFeature([], tf.string), # tf.string means bytestring,\n",
        "            'acts':tf.io.FixedLenFeature([], tf.string), # tf.string means bytestring,\n",
        "            'goals':tf.io.FixedLenFeature([], tf.string), # tf.string means bytestring,\n",
        "            'seq_lens':tf.io.FixedLenFeature([], tf.int64),\n",
        "            'masks':tf.io.FixedLenFeature([], tf.string), # tf.string means bytestring,\n",
        "            'imgs':tf.io.FixedLenFeature([], tf.string), # tf.string means bytestring,\n",
        "            'goal_imgs':tf.io.FixedLenFeature([], tf.string), # tf.string means bytestring,\n",
        "            'proprioceptive_features':tf.io.FixedLenFeature([], tf.string), # tf.string means bytestring,\n",
        "    }\n",
        "    data = tf.io.parse_single_example(example, LABELED_TFREC_FORMAT)\n",
        "    \n",
        "    obs = tf.io.parse_tensor(data['obs'], tf.float32) \n",
        "    acts = tf.io.parse_tensor(data['acts'], tf.float32) \n",
        "    goals = tf.io.parse_tensor(data['goals'], tf.float32)  \n",
        "    seq_lens = tf.cast(data['seq_lens'], tf.int32) # this is meant to be 32 even though you serialize as 64\n",
        "    masks = tf.io.parse_tensor(data['masks'], tf.float32) \n",
        "    imgs = tf.io.parse_tensor(data['imgs'], tf.uint8)   \n",
        "    goal_imgs = tf.io.parse_tensor(data['goal_imgs'], tf.uint8)\n",
        "    goal_imgs = tf.tile(tf.expand_dims(tf.io.parse_tensor(data['goal_imgs'], tf.uint8),0), [args.window_size_max,1,1,1])   \n",
        "    proprioceptive_features =tf.io.parse_tensor( data['proprioceptive_features'], tf.float32) \n",
        "\n",
        "    \n",
        "    # img = decode_image(data['img'])\n",
        "\n",
        "    return {  'obs':obs,\n",
        "              'acts':acts,\n",
        "              'goals':goals,\n",
        "              'seq_lens':seq_lens,\n",
        "              'masks':masks,\n",
        "              'imgs':imgs,\n",
        "              'goal_imgs':goal_imgs,\n",
        "              'proprioceptive_features':proprioceptive_features}\n",
        "              \n",
        "def load_tf_records(filenames, ordered=False):\n",
        "    # Read from TFRecords. For optimal performance, reading from multiple files at once and\n",
        "    # disregarding data order. Order does not matter since we will be shuffling the data anyway.\n",
        "\n",
        "    # check, does this ignore intra order or just inter order? Both are an issue!\n",
        "    ignore_order = tf.data.Options()\n",
        "    if not ordered:\n",
        "        ignore_order.experimental_deterministic = False # disable order, increase speed\n",
        "\n",
        "    dataset = tf.data.TFRecordDataset(filenames, num_parallel_reads=60) # automatically interleaves reads from multiple files - keep it at 1 we need the order\n",
        "    dataset = dataset.with_options(ignore_order) # uses data as soon as it streams in, rather than in its original order\n",
        "    dataset = dataset.map(read_tfrecord, num_parallel_calls=600)\n",
        "    dataset =   dataset.repeat()\\\n",
        "                .batch(dl.batch_size, drop_remainder=True)\\\n",
        "                .prefetch(dl.prefetch_size)\n",
        "    return dataset\n",
        "\n",
        "d = load_tf_records(data_paths, ordered=False)#['/home/sholto/Desktop/AI/learning_from_play/data/UR5_high_transition/tf_records/21.tfrecords'], ordered=True) #record_paths"
      ],
      "execution_count": null,
      "outputs": []
    },
    {
      "cell_type": "code",
      "metadata": {
        "id": "7s4n1rTzrX_A"
      },
      "source": [
        "precomp_dist_dataset = iter(strategy.experimental_distribute_dataset(d))"
      ],
      "execution_count": null,
      "outputs": []
    },
    {
      "cell_type": "code",
      "metadata": {
        "colab": {
          "base_uri": "https://localhost:8080/"
        },
        "id": "ekYKKG_Qr2FI",
        "outputId": "6e5df56c-0510-4514-b415-5fd33af4e50a"
      },
      "source": [
        "precomp_dist_dataset.next().keys()"
      ],
      "execution_count": null,
      "outputs": [
        {
          "output_type": "execute_result",
          "data": {
            "text/plain": [
              "dict_keys(['obs', 'acts', 'goals', 'seq_lens', 'masks', 'imgs', 'goal_imgs', 'proprioceptive_features'])"
            ]
          },
          "metadata": {
            "tags": []
          },
          "execution_count": 96
        }
      ]
    },
    {
      "cell_type": "code",
      "metadata": {
        "colab": {
          "base_uri": "https://localhost:8080/"
        },
        "id": "cM42n9QVv7jg",
        "outputId": "c5e9cac7-54e6-46a4-845f-30c92b50d369"
      },
      "source": [
        "for k,v in train_dist_dataset.next().items():\n",
        "  print(k)"
      ],
      "execution_count": null,
      "outputs": [
        {
          "output_type": "stream",
          "text": [
            "obs\n",
            "acts\n",
            "goals\n",
            "seq_lens\n",
            "masks\n",
            "dataset_path\n",
            "tstep_idxs\n",
            "imgs\n",
            "goal_imgs\n",
            "proprioceptive_features\n"
          ],
          "name": "stdout"
        }
      ]
    },
    {
      "cell_type": "code",
      "metadata": {
        "id": "f5-WKXABwrDV"
      },
      "source": [
        "@tf.function\n",
        "def sampleprecomp():\n",
        "  train_batch = next(precomp_dist_dataset)"
      ],
      "execution_count": null,
      "outputs": []
    },
    {
      "cell_type": "code",
      "metadata": {
        "colab": {
          "base_uri": "https://localhost:8080/"
        },
        "id": "ONDNh-PirlMZ",
        "outputId": "13250cb7-f23c-43d3-f130-793e65f663eb"
      },
      "source": [
        "from tqdm import tqdm\n",
        "t = time.time()\n",
        "for i in tqdm(range(0,100)):\n",
        "  # train(precomp_dist_dataset, args.beta)\n",
        "  sampleprecomp()\n",
        "  #trainer.distributed_train_step(train_batch, args.beta)\n",
        "print(time.time()-t)"
      ],
      "execution_count": null,
      "outputs": [
        {
          "output_type": "stream",
          "text": [
            "\n",
            "100%|██████████| 100/100 [00:00<00:00, 5201.53it/s]"
          ],
          "name": "stderr"
        },
        {
          "output_type": "stream",
          "text": [
            "0.022202491760253906\n"
          ],
          "name": "stdout"
        },
        {
          "output_type": "stream",
          "text": [
            "\n"
          ],
          "name": "stderr"
        }
      ]
    },
    {
      "cell_type": "code",
      "metadata": {
        "id": "w32JLQP9oWu7"
      },
      "source": [
        "d = iter(d)\n",
        "x = d.next()"
      ],
      "execution_count": null,
      "outputs": []
    },
    {
      "cell_type": "code",
      "metadata": {
        "colab": {
          "base_uri": "https://localhost:8080/",
          "height": 1000
        },
        "id": "KmhweQb-q1Kd",
        "outputId": "02a0b0c6-3eaf-4bd9-b5d8-2d86779d4352"
      },
      "source": [
        "t = time.time()\n",
        "for i in range(0,100):\n",
        "  print(i)\n",
        "  x = d.next()\n",
        "print(time.time()-t)"
      ],
      "execution_count": null,
      "outputs": [
        {
          "output_type": "stream",
          "text": [
            "0\n",
            "1\n",
            "2\n",
            "3\n",
            "4\n",
            "5\n",
            "6\n",
            "7\n",
            "8\n",
            "9\n",
            "10\n",
            "11\n",
            "12\n",
            "13\n",
            "14\n",
            "15\n",
            "16\n",
            "17\n",
            "18\n",
            "19\n",
            "20\n",
            "21\n",
            "22\n",
            "23\n",
            "24\n",
            "25\n",
            "26\n",
            "27\n",
            "28\n",
            "29\n",
            "30\n",
            "31\n",
            "32\n",
            "33\n",
            "34\n",
            "35\n",
            "36\n",
            "37\n",
            "38\n",
            "39\n",
            "40\n",
            "41\n",
            "42\n",
            "43\n",
            "44\n",
            "45\n",
            "46\n",
            "47\n",
            "48\n",
            "49\n",
            "50\n",
            "51\n",
            "52\n",
            "53\n",
            "54\n",
            "55\n",
            "56\n",
            "57\n",
            "58\n",
            "59\n",
            "60\n",
            "61\n",
            "62\n",
            "63\n",
            "64\n",
            "65\n",
            "66\n",
            "67\n",
            "68\n",
            "69\n",
            "70\n",
            "71\n",
            "72\n"
          ],
          "name": "stdout"
        },
        {
          "output_type": "error",
          "ename": "KeyboardInterrupt",
          "evalue": "ignored",
          "traceback": [
            "\u001b[0;31m---------------------------------------------------------------------------\u001b[0m",
            "\u001b[0;31mAttributeError\u001b[0m                            Traceback (most recent call last)",
            "\u001b[0;32m/usr/local/lib/python3.7/dist-packages/tensorflow/python/data/ops/iterator_ops.py\u001b[0m in \u001b[0;36m_next_internal\u001b[0;34m(self)\u001b[0m\n\u001b[1;32m    736\u001b[0m         \u001b[0;31m# Fast path for the case `self._structure` is not a nested structure.\u001b[0m\u001b[0;34m\u001b[0m\u001b[0;34m\u001b[0m\u001b[0;34m\u001b[0m\u001b[0m\n\u001b[0;32m--> 737\u001b[0;31m         \u001b[0;32mreturn\u001b[0m \u001b[0mself\u001b[0m\u001b[0;34m.\u001b[0m\u001b[0m_element_spec\u001b[0m\u001b[0;34m.\u001b[0m\u001b[0m_from_compatible_tensor_list\u001b[0m\u001b[0;34m(\u001b[0m\u001b[0mret\u001b[0m\u001b[0;34m)\u001b[0m  \u001b[0;31m# pylint: disable=protected-access\u001b[0m\u001b[0;34m\u001b[0m\u001b[0;34m\u001b[0m\u001b[0m\n\u001b[0m\u001b[1;32m    738\u001b[0m       \u001b[0;32mexcept\u001b[0m \u001b[0mAttributeError\u001b[0m\u001b[0;34m:\u001b[0m\u001b[0;34m\u001b[0m\u001b[0;34m\u001b[0m\u001b[0m\n",
            "\u001b[0;31mAttributeError\u001b[0m: 'dict' object has no attribute '_from_compatible_tensor_list'",
            "\nDuring handling of the above exception, another exception occurred:\n",
            "\u001b[0;31mKeyboardInterrupt\u001b[0m                         Traceback (most recent call last)",
            "\u001b[0;32m<ipython-input-60-f98e5e22e2fe>\u001b[0m in \u001b[0;36m<module>\u001b[0;34m()\u001b[0m\n\u001b[1;32m      2\u001b[0m \u001b[0;32mfor\u001b[0m \u001b[0mi\u001b[0m \u001b[0;32min\u001b[0m \u001b[0mrange\u001b[0m\u001b[0;34m(\u001b[0m\u001b[0;36m0\u001b[0m\u001b[0;34m,\u001b[0m\u001b[0;36m100\u001b[0m\u001b[0;34m)\u001b[0m\u001b[0;34m:\u001b[0m\u001b[0;34m\u001b[0m\u001b[0;34m\u001b[0m\u001b[0m\n\u001b[1;32m      3\u001b[0m   \u001b[0mprint\u001b[0m\u001b[0;34m(\u001b[0m\u001b[0mi\u001b[0m\u001b[0;34m)\u001b[0m\u001b[0;34m\u001b[0m\u001b[0;34m\u001b[0m\u001b[0m\n\u001b[0;32m----> 4\u001b[0;31m   \u001b[0mx\u001b[0m \u001b[0;34m=\u001b[0m \u001b[0md\u001b[0m\u001b[0;34m.\u001b[0m\u001b[0mnext\u001b[0m\u001b[0;34m(\u001b[0m\u001b[0;34m)\u001b[0m\u001b[0;34m\u001b[0m\u001b[0;34m\u001b[0m\u001b[0m\n\u001b[0m\u001b[1;32m      5\u001b[0m \u001b[0mprint\u001b[0m\u001b[0;34m(\u001b[0m\u001b[0mtime\u001b[0m\u001b[0;34m.\u001b[0m\u001b[0mtime\u001b[0m\u001b[0;34m(\u001b[0m\u001b[0;34m)\u001b[0m\u001b[0;34m-\u001b[0m\u001b[0mt\u001b[0m\u001b[0;34m)\u001b[0m\u001b[0;34m\u001b[0m\u001b[0;34m\u001b[0m\u001b[0m\n",
            "\u001b[0;32m/usr/local/lib/python3.7/dist-packages/tensorflow/python/data/ops/iterator_ops.py\u001b[0m in \u001b[0;36mnext\u001b[0;34m(self)\u001b[0m\n\u001b[1;32m    713\u001b[0m \u001b[0;34m\u001b[0m\u001b[0m\n\u001b[1;32m    714\u001b[0m   \u001b[0;32mdef\u001b[0m \u001b[0mnext\u001b[0m\u001b[0;34m(\u001b[0m\u001b[0mself\u001b[0m\u001b[0;34m)\u001b[0m\u001b[0;34m:\u001b[0m  \u001b[0;31m# For Python 2 compatibility\u001b[0m\u001b[0;34m\u001b[0m\u001b[0;34m\u001b[0m\u001b[0m\n\u001b[0;32m--> 715\u001b[0;31m     \u001b[0;32mreturn\u001b[0m \u001b[0mself\u001b[0m\u001b[0;34m.\u001b[0m\u001b[0m__next__\u001b[0m\u001b[0;34m(\u001b[0m\u001b[0;34m)\u001b[0m\u001b[0;34m\u001b[0m\u001b[0;34m\u001b[0m\u001b[0m\n\u001b[0m\u001b[1;32m    716\u001b[0m \u001b[0;34m\u001b[0m\u001b[0m\n\u001b[1;32m    717\u001b[0m   \u001b[0;32mdef\u001b[0m \u001b[0m_next_internal\u001b[0m\u001b[0;34m(\u001b[0m\u001b[0mself\u001b[0m\u001b[0;34m)\u001b[0m\u001b[0;34m:\u001b[0m\u001b[0;34m\u001b[0m\u001b[0;34m\u001b[0m\u001b[0m\n",
            "\u001b[0;32m/usr/local/lib/python3.7/dist-packages/tensorflow/python/data/ops/iterator_ops.py\u001b[0m in \u001b[0;36m__next__\u001b[0;34m(self)\u001b[0m\n\u001b[1;32m    745\u001b[0m   \u001b[0;32mdef\u001b[0m \u001b[0m__next__\u001b[0m\u001b[0;34m(\u001b[0m\u001b[0mself\u001b[0m\u001b[0;34m)\u001b[0m\u001b[0;34m:\u001b[0m\u001b[0;34m\u001b[0m\u001b[0;34m\u001b[0m\u001b[0m\n\u001b[1;32m    746\u001b[0m     \u001b[0;32mtry\u001b[0m\u001b[0;34m:\u001b[0m\u001b[0;34m\u001b[0m\u001b[0;34m\u001b[0m\u001b[0m\n\u001b[0;32m--> 747\u001b[0;31m       \u001b[0;32mreturn\u001b[0m \u001b[0mself\u001b[0m\u001b[0;34m.\u001b[0m\u001b[0m_next_internal\u001b[0m\u001b[0;34m(\u001b[0m\u001b[0;34m)\u001b[0m\u001b[0;34m\u001b[0m\u001b[0;34m\u001b[0m\u001b[0m\n\u001b[0m\u001b[1;32m    748\u001b[0m     \u001b[0;32mexcept\u001b[0m \u001b[0merrors\u001b[0m\u001b[0;34m.\u001b[0m\u001b[0mOutOfRangeError\u001b[0m\u001b[0;34m:\u001b[0m\u001b[0;34m\u001b[0m\u001b[0;34m\u001b[0m\u001b[0m\n\u001b[1;32m    749\u001b[0m       \u001b[0;32mraise\u001b[0m \u001b[0mStopIteration\u001b[0m\u001b[0;34m\u001b[0m\u001b[0;34m\u001b[0m\u001b[0m\n",
            "\u001b[0;32m/usr/local/lib/python3.7/dist-packages/tensorflow/python/data/ops/iterator_ops.py\u001b[0m in \u001b[0;36m_next_internal\u001b[0;34m(self)\u001b[0m\n\u001b[1;32m    737\u001b[0m         \u001b[0;32mreturn\u001b[0m \u001b[0mself\u001b[0m\u001b[0;34m.\u001b[0m\u001b[0m_element_spec\u001b[0m\u001b[0;34m.\u001b[0m\u001b[0m_from_compatible_tensor_list\u001b[0m\u001b[0;34m(\u001b[0m\u001b[0mret\u001b[0m\u001b[0;34m)\u001b[0m  \u001b[0;31m# pylint: disable=protected-access\u001b[0m\u001b[0;34m\u001b[0m\u001b[0;34m\u001b[0m\u001b[0m\n\u001b[1;32m    738\u001b[0m       \u001b[0;32mexcept\u001b[0m \u001b[0mAttributeError\u001b[0m\u001b[0;34m:\u001b[0m\u001b[0;34m\u001b[0m\u001b[0;34m\u001b[0m\u001b[0m\n\u001b[0;32m--> 739\u001b[0;31m         \u001b[0;32mreturn\u001b[0m \u001b[0mstructure\u001b[0m\u001b[0;34m.\u001b[0m\u001b[0mfrom_compatible_tensor_list\u001b[0m\u001b[0;34m(\u001b[0m\u001b[0mself\u001b[0m\u001b[0;34m.\u001b[0m\u001b[0m_element_spec\u001b[0m\u001b[0;34m,\u001b[0m \u001b[0mret\u001b[0m\u001b[0;34m)\u001b[0m\u001b[0;34m\u001b[0m\u001b[0;34m\u001b[0m\u001b[0m\n\u001b[0m\u001b[1;32m    740\u001b[0m \u001b[0;34m\u001b[0m\u001b[0m\n\u001b[1;32m    741\u001b[0m   \u001b[0;34m@\u001b[0m\u001b[0mproperty\u001b[0m\u001b[0;34m\u001b[0m\u001b[0;34m\u001b[0m\u001b[0m\n",
            "\u001b[0;32m/usr/local/lib/python3.7/dist-packages/tensorflow/python/data/util/structure.py\u001b[0m in \u001b[0;36mfrom_compatible_tensor_list\u001b[0;34m(element_spec, tensor_list)\u001b[0m\n\u001b[1;32m    242\u001b[0m   return _from_tensor_list_helper(\n\u001b[1;32m    243\u001b[0m       \u001b[0;32mlambda\u001b[0m \u001b[0mspec\u001b[0m\u001b[0;34m,\u001b[0m \u001b[0mvalue\u001b[0m\u001b[0;34m:\u001b[0m \u001b[0mspec\u001b[0m\u001b[0;34m.\u001b[0m\u001b[0m_from_compatible_tensor_list\u001b[0m\u001b[0;34m(\u001b[0m\u001b[0mvalue\u001b[0m\u001b[0;34m)\u001b[0m\u001b[0;34m,\u001b[0m\u001b[0;34m\u001b[0m\u001b[0;34m\u001b[0m\u001b[0m\n\u001b[0;32m--> 244\u001b[0;31m       element_spec, tensor_list)\n\u001b[0m\u001b[1;32m    245\u001b[0m \u001b[0;34m\u001b[0m\u001b[0m\n\u001b[1;32m    246\u001b[0m \u001b[0;34m\u001b[0m\u001b[0m\n",
            "\u001b[0;32m/usr/local/lib/python3.7/dist-packages/tensorflow/python/data/util/structure.py\u001b[0m in \u001b[0;36m_from_tensor_list_helper\u001b[0;34m(decode_fn, element_spec, tensor_list)\u001b[0m\n\u001b[1;32m    217\u001b[0m   \u001b[0;32mfor\u001b[0m \u001b[0;34m(\u001b[0m\u001b[0mcomponent_spec\u001b[0m\u001b[0;34m,\u001b[0m \u001b[0mnum_flat_values\u001b[0m\u001b[0;34m)\u001b[0m \u001b[0;32min\u001b[0m \u001b[0mzip\u001b[0m\u001b[0;34m(\u001b[0m\u001b[0mflat_specs\u001b[0m\u001b[0;34m,\u001b[0m \u001b[0mflat_spec_lengths\u001b[0m\u001b[0;34m)\u001b[0m\u001b[0;34m:\u001b[0m\u001b[0;34m\u001b[0m\u001b[0;34m\u001b[0m\u001b[0m\n\u001b[1;32m    218\u001b[0m     \u001b[0mvalue\u001b[0m \u001b[0;34m=\u001b[0m \u001b[0mtensor_list\u001b[0m\u001b[0;34m[\u001b[0m\u001b[0mi\u001b[0m\u001b[0;34m:\u001b[0m\u001b[0mi\u001b[0m \u001b[0;34m+\u001b[0m \u001b[0mnum_flat_values\u001b[0m\u001b[0;34m]\u001b[0m\u001b[0;34m\u001b[0m\u001b[0;34m\u001b[0m\u001b[0m\n\u001b[0;32m--> 219\u001b[0;31m     \u001b[0mflat_ret\u001b[0m\u001b[0;34m.\u001b[0m\u001b[0mappend\u001b[0m\u001b[0;34m(\u001b[0m\u001b[0mdecode_fn\u001b[0m\u001b[0;34m(\u001b[0m\u001b[0mcomponent_spec\u001b[0m\u001b[0;34m,\u001b[0m \u001b[0mvalue\u001b[0m\u001b[0;34m)\u001b[0m\u001b[0;34m)\u001b[0m\u001b[0;34m\u001b[0m\u001b[0;34m\u001b[0m\u001b[0m\n\u001b[0m\u001b[1;32m    220\u001b[0m     \u001b[0mi\u001b[0m \u001b[0;34m+=\u001b[0m \u001b[0mnum_flat_values\u001b[0m\u001b[0;34m\u001b[0m\u001b[0;34m\u001b[0m\u001b[0m\n\u001b[1;32m    221\u001b[0m   \u001b[0;32mreturn\u001b[0m \u001b[0mnest\u001b[0m\u001b[0;34m.\u001b[0m\u001b[0mpack_sequence_as\u001b[0m\u001b[0;34m(\u001b[0m\u001b[0melement_spec\u001b[0m\u001b[0;34m,\u001b[0m \u001b[0mflat_ret\u001b[0m\u001b[0;34m)\u001b[0m\u001b[0;34m\u001b[0m\u001b[0;34m\u001b[0m\u001b[0m\n",
            "\u001b[0;32m/usr/local/lib/python3.7/dist-packages/tensorflow/python/data/util/structure.py\u001b[0m in \u001b[0;36m<lambda>\u001b[0;34m(spec, value)\u001b[0m\n\u001b[1;32m    241\u001b[0m   \u001b[0;31m# pylint: disable=g-long-lambda\u001b[0m\u001b[0;34m\u001b[0m\u001b[0;34m\u001b[0m\u001b[0;34m\u001b[0m\u001b[0m\n\u001b[1;32m    242\u001b[0m   return _from_tensor_list_helper(\n\u001b[0;32m--> 243\u001b[0;31m       \u001b[0;32mlambda\u001b[0m \u001b[0mspec\u001b[0m\u001b[0;34m,\u001b[0m \u001b[0mvalue\u001b[0m\u001b[0;34m:\u001b[0m \u001b[0mspec\u001b[0m\u001b[0;34m.\u001b[0m\u001b[0m_from_compatible_tensor_list\u001b[0m\u001b[0;34m(\u001b[0m\u001b[0mvalue\u001b[0m\u001b[0;34m)\u001b[0m\u001b[0;34m,\u001b[0m\u001b[0;34m\u001b[0m\u001b[0;34m\u001b[0m\u001b[0m\n\u001b[0m\u001b[1;32m    244\u001b[0m       element_spec, tensor_list)\n\u001b[1;32m    245\u001b[0m \u001b[0;34m\u001b[0m\u001b[0m\n",
            "\u001b[0;32m/usr/local/lib/python3.7/dist-packages/tensorflow/python/framework/tensor_spec.py\u001b[0m in \u001b[0;36m_from_compatible_tensor_list\u001b[0;34m(self, tensor_list)\u001b[0m\n\u001b[1;32m    175\u001b[0m     \u001b[0;31m# information.\u001b[0m\u001b[0;34m\u001b[0m\u001b[0;34m\u001b[0m\u001b[0;34m\u001b[0m\u001b[0m\n\u001b[1;32m    176\u001b[0m     \u001b[0;32massert\u001b[0m \u001b[0mlen\u001b[0m\u001b[0;34m(\u001b[0m\u001b[0mtensor_list\u001b[0m\u001b[0;34m)\u001b[0m \u001b[0;34m==\u001b[0m \u001b[0;36m1\u001b[0m\u001b[0;34m\u001b[0m\u001b[0;34m\u001b[0m\u001b[0m\n\u001b[0;32m--> 177\u001b[0;31m     \u001b[0mtensor_list\u001b[0m\u001b[0;34m[\u001b[0m\u001b[0;36m0\u001b[0m\u001b[0;34m]\u001b[0m\u001b[0;34m.\u001b[0m\u001b[0mset_shape\u001b[0m\u001b[0;34m(\u001b[0m\u001b[0mself\u001b[0m\u001b[0;34m.\u001b[0m\u001b[0m_shape\u001b[0m\u001b[0;34m)\u001b[0m\u001b[0;34m\u001b[0m\u001b[0;34m\u001b[0m\u001b[0m\n\u001b[0m\u001b[1;32m    178\u001b[0m     \u001b[0;32mreturn\u001b[0m \u001b[0mtensor_list\u001b[0m\u001b[0;34m[\u001b[0m\u001b[0;36m0\u001b[0m\u001b[0;34m]\u001b[0m\u001b[0;34m\u001b[0m\u001b[0;34m\u001b[0m\u001b[0m\n\u001b[1;32m    179\u001b[0m \u001b[0;34m\u001b[0m\u001b[0m\n",
            "\u001b[0;32m/usr/local/lib/python3.7/dist-packages/tensorflow/python/framework/ops.py\u001b[0m in \u001b[0;36mset_shape\u001b[0;34m(self, shape)\u001b[0m\n\u001b[1;32m   1212\u001b[0m \u001b[0;34m\u001b[0m\u001b[0m\n\u001b[1;32m   1213\u001b[0m   \u001b[0;32mdef\u001b[0m \u001b[0mset_shape\u001b[0m\u001b[0;34m(\u001b[0m\u001b[0mself\u001b[0m\u001b[0;34m,\u001b[0m \u001b[0mshape\u001b[0m\u001b[0;34m)\u001b[0m\u001b[0;34m:\u001b[0m\u001b[0;34m\u001b[0m\u001b[0;34m\u001b[0m\u001b[0m\n\u001b[0;32m-> 1214\u001b[0;31m     \u001b[0;32mif\u001b[0m \u001b[0;32mnot\u001b[0m \u001b[0mself\u001b[0m\u001b[0;34m.\u001b[0m\u001b[0mshape\u001b[0m\u001b[0;34m.\u001b[0m\u001b[0mis_compatible_with\u001b[0m\u001b[0;34m(\u001b[0m\u001b[0mshape\u001b[0m\u001b[0;34m)\u001b[0m\u001b[0;34m:\u001b[0m\u001b[0;34m\u001b[0m\u001b[0;34m\u001b[0m\u001b[0m\n\u001b[0m\u001b[1;32m   1215\u001b[0m       raise ValueError(\n\u001b[1;32m   1216\u001b[0m           \u001b[0;34m\"Tensor's shape %s is not compatible with supplied shape %s\"\u001b[0m \u001b[0;34m%\u001b[0m\u001b[0;34m\u001b[0m\u001b[0;34m\u001b[0m\u001b[0m\n",
            "\u001b[0;32m/usr/local/lib/python3.7/dist-packages/tensorflow/python/framework/ops.py\u001b[0m in \u001b[0;36mshape\u001b[0;34m(self)\u001b[0m\n\u001b[1;32m   1173\u001b[0m         \u001b[0;31m# `_tensor_shape` is declared and defined in the definition of\u001b[0m\u001b[0;34m\u001b[0m\u001b[0;34m\u001b[0m\u001b[0;34m\u001b[0m\u001b[0m\n\u001b[1;32m   1174\u001b[0m         \u001b[0;31m# `EagerTensor`, in C.\u001b[0m\u001b[0;34m\u001b[0m\u001b[0;34m\u001b[0m\u001b[0;34m\u001b[0m\u001b[0m\n\u001b[0;32m-> 1175\u001b[0;31m         \u001b[0mself\u001b[0m\u001b[0;34m.\u001b[0m\u001b[0m_tensor_shape\u001b[0m \u001b[0;34m=\u001b[0m \u001b[0mtensor_shape\u001b[0m\u001b[0;34m.\u001b[0m\u001b[0mTensorShape\u001b[0m\u001b[0;34m(\u001b[0m\u001b[0mself\u001b[0m\u001b[0;34m.\u001b[0m\u001b[0m_shape_tuple\u001b[0m\u001b[0;34m(\u001b[0m\u001b[0;34m)\u001b[0m\u001b[0;34m)\u001b[0m\u001b[0;34m\u001b[0m\u001b[0;34m\u001b[0m\u001b[0m\n\u001b[0m\u001b[1;32m   1176\u001b[0m       \u001b[0;32mexcept\u001b[0m \u001b[0mcore\u001b[0m\u001b[0;34m.\u001b[0m\u001b[0m_NotOkStatusException\u001b[0m \u001b[0;32mas\u001b[0m \u001b[0me\u001b[0m\u001b[0;34m:\u001b[0m\u001b[0;34m\u001b[0m\u001b[0;34m\u001b[0m\u001b[0m\n\u001b[1;32m   1177\u001b[0m         \u001b[0msix\u001b[0m\u001b[0;34m.\u001b[0m\u001b[0mraise_from\u001b[0m\u001b[0;34m(\u001b[0m\u001b[0mcore\u001b[0m\u001b[0;34m.\u001b[0m\u001b[0m_status_to_exception\u001b[0m\u001b[0;34m(\u001b[0m\u001b[0me\u001b[0m\u001b[0;34m.\u001b[0m\u001b[0mcode\u001b[0m\u001b[0;34m,\u001b[0m \u001b[0me\u001b[0m\u001b[0;34m.\u001b[0m\u001b[0mmessage\u001b[0m\u001b[0;34m)\u001b[0m\u001b[0;34m,\u001b[0m \u001b[0;32mNone\u001b[0m\u001b[0;34m)\u001b[0m\u001b[0;34m\u001b[0m\u001b[0;34m\u001b[0m\u001b[0m\n",
            "\u001b[0;31mKeyboardInterrupt\u001b[0m: "
          ]
        }
      ]
    },
    {
      "cell_type": "code",
      "metadata": {
        "id": "rhSGD_2imWDi"
      },
      "source": [
        "\n",
        "from tensorflow.keras.utils import Progbar\n",
        "progbar = Progbar(args.train_steps, verbose=1, interval=0.5)\n",
        "valid_inc = 20\n",
        "save_inc = 2000\n",
        "prev_grad_norm = np.float('inf')"
      ],
      "execution_count": null,
      "outputs": []
    },
    {
      "cell_type": "code",
      "metadata": {
        "id": "oTyriZrYowMJ",
        "colab": {
          "base_uri": "https://localhost:8080/",
          "height": 153
        },
        "outputId": "764ad610-7d66-4f68-a95e-b419ccd083f0"
      },
      "source": [
        "run_name = args.run_name\n",
        "model_path = str(STORAGE_PATH/'saved_models'/args.run_name)\n",
        "\n",
        "if args.resume:\n",
        "  # WandB reinit\n",
        "  with open(f'{model_path}/config.json', 'r') as f:\n",
        "      data = json.load(f)\n",
        "  # Comet ML reinit\n",
        "  exp = ExistingExperiment(api_key=\"C4vcCM57bnSYEsdncguxDW8pO\",  previous_experiment=data['experiment_key'])\n",
        "\n",
        "  wandb.init(project=\"learning-from-play_v2\", id=data['run_id'],  resume=\"must\")\n",
        "  t = wandb.run.step + valid_inc # Todo get this from comet to complete the transition\n",
        "\n",
        "  load_weights(model_path, actor, encoder, planner, with_optimizer=True)\n",
        "  print('Loaded model weights and optimiser state')\n",
        "  \n",
        "  prognar.add(t, []) # update the progbar to the most recent point\n",
        "else:\n",
        "  #Comet\n",
        "  experiment = Experiment(api_key=\"C4vcCM57bnSYEsdncguxDW8pO\",project_name=\"learning-from-play\",workspace=\"sholtodouglas\")\n",
        "  experiment.set_name(run_name)\n",
        "  # WandB\n",
        "  wandb.init(project=\"learning-from-play_v2\")\n",
        "  wandb.run.name = run_name\n",
        "  t = 0\n"
      ],
      "execution_count": null,
      "outputs": [
        {
          "output_type": "stream",
          "text": [
            "COMET INFO: Experiment is live on comet.ml https://www.comet.ml/sholtodouglas/learning-from-play/d7a63e86757646d8933056f8ecb3cab5\n",
            "\n"
          ],
          "name": "stderr"
        },
        {
          "output_type": "display_data",
          "data": {
            "text/html": [
              "\n",
              "                Tracking run with wandb version 0.10.21<br/>\n",
              "                Syncing run <strong style=\"color:#cdcd00\">dark-microwave-233</strong> to <a href=\"https://wandb.ai\" target=\"_blank\">Weights & Biases</a> <a href=\"https://docs.wandb.com/integrations/jupyter.html\" target=\"_blank\">(Documentation)</a>.<br/>\n",
              "                Project page: <a href=\"https://wandb.ai/sholto/learning-from-play_v2\" target=\"_blank\">https://wandb.ai/sholto/learning-from-play_v2</a><br/>\n",
              "                Run page: <a href=\"https://wandb.ai/sholto/learning-from-play_v2/runs/2m0g2qgu\" target=\"_blank\">https://wandb.ai/sholto/learning-from-play_v2/runs/2m0g2qgu</a><br/>\n",
              "                Run data is saved locally in <code>/content/learning_from_play/wandb/run-20210309_233709-2m0g2qgu</code><br/><br/>\n",
              "            "
            ],
            "text/plain": [
              "<IPython.core.display.HTML object>"
            ]
          },
          "metadata": {
            "tags": []
          }
        }
      ]
    },
    {
      "cell_type": "code",
      "metadata": {
        "id": "xjnc22FOGae1"
      },
      "source": [
        "from lfp.plotting import produce_cluster_fig, project_enc_and_plan, plot_to_image\n",
        "from lfp.metric import log # gets state and clears simultaneously"
      ],
      "execution_count": null,
      "outputs": []
    },
    {
      "cell_type": "code",
      "metadata": {
        "id": "fjEkQ-OeXOVX"
      },
      "source": [
        "import time"
      ],
      "execution_count": null,
      "outputs": []
    },
    {
      "cell_type": "code",
      "metadata": {
        "colab": {
          "base_uri": "https://localhost:8080/"
        },
        "id": "G3sybgPOU5Vv",
        "outputId": "38f4595b-cf51-49b6-f619-e4c15d590319"
      },
      "source": [
        "t = time.time()\r\n",
        "for i in range(0,10):\r\n",
        "  train_batch = next(train_dist_dataset)\r\n",
        "  trainer.distributed_train_step(train_batch, args.beta)\r\n",
        "print(time.time() - t)"
      ],
      "execution_count": null,
      "outputs": [
        {
          "output_type": "stream",
          "text": [
            "5.735045909881592\n"
          ],
          "name": "stdout"
        }
      ]
    },
    {
      "cell_type": "code",
      "metadata": {
        "id": "rGGc3Uh-XI2-"
      },
      "source": [
        "#"
      ],
      "execution_count": null,
      "outputs": []
    },
    {
      "cell_type": "code",
      "metadata": {
        "id": "IXF0Y8aKrsng",
        "colab": {
          "base_uri": "https://localhost:8080/",
          "height": 412
        },
        "outputId": "546cd282-5919-4e81-dd4c-e6ac36cbd4ff"
      },
      "source": [
        "\n",
        "\n",
        "# Creating these autograph wrappers so that tf.data operations are executed in graph mode\n",
        "@tf.function\n",
        "def train(train_dataset, beta):\n",
        "    train_batch = next(train_dataset)\n",
        "    trainer.distributed_train_step(train_batch, beta)\n",
        "\n",
        "@tf.function\n",
        "def test(valid_dataset, beta):\n",
        "    valid_batch = next(valid_dataset)\n",
        "    trainer.distributed_test_step(valid_batch, beta)\n",
        "\n",
        "while t < args.train_steps:\n",
        "    start_time = time.time()\n",
        "    beta = beta_sched.scheduler(t)\n",
        "    train(train_dist_dataset, beta)\n",
        "\n",
        "    if t % valid_inc == 0:\n",
        "        test(valid_dist_dataset, beta)\n",
        "        step_time = round(time.time() - start_time, 1)\n",
        "\n",
        "        metrics = {metric_name: log(metric) for metric_name, metric in trainer.metrics.items()}\n",
        "        metrics['step_time'] = step_time\n",
        "\n",
        "        # validation plotting\n",
        "        progbar.add(valid_inc, [('Train Loss', metrics['train_loss']),\n",
        "                                ('Validation Loss', metrics['valid_loss']),\n",
        "                                ('Time (s)', step_time)])\n",
        "        #Plot on Comet\n",
        "        experiment.log_metrics(metrics,step=t)\n",
        "        # Plot on WandB\n",
        "        wandb.log(metrics, step=t)\n",
        "\n",
        "    if (t+1) % save_inc == 0:\n",
        "        trainer.save_weights(model_path, run_id=wandb.run.id, experiment_key=experiment.get_key())\n",
        "        if not args.gcbc and not args.images:\n",
        "          z_enc, z_plan = produce_cluster_fig(next(plotting_dataset), encoder, planner, TEST_DATA_PATHS[0], num_take=dl.batch_size//4)\n",
        "\n",
        "          #Comet\n",
        "          experiment.log_figure('z_enc', z_enc, step=t)\n",
        "          experiment.log_figure('z_plan', z_plan,step=t)\n",
        "\n",
        "          # WandB\n",
        "          wandb.log({'z_enc':z_enc, 'z_plan':z_plan}, step=t)\n",
        "\n",
        "          #latent_fig = project_enc_and_plan(ze, zp)\n",
        "          #latent_img = plot_to_image(latent_fig)\n",
        "\n",
        "    t += 1"
      ],
      "execution_count": null,
      "outputs": [
        {
          "output_type": "stream",
          "text": [
            "    60/200000 [..............................] - ETA: 409:30:55 - Train Loss: 0.0339 - Validation Loss: 0.0255 - Time (s): 75.9667 "
          ],
          "name": "stdout"
        },
        {
          "output_type": "error",
          "ename": "KeyboardInterrupt",
          "evalue": "ignored",
          "traceback": [
            "\u001b[0;31m---------------------------------------------------------------------------\u001b[0m",
            "\u001b[0;31mKeyboardInterrupt\u001b[0m                         Traceback (most recent call last)",
            "\u001b[0;32m<ipython-input-21-86281f5d3dd6>\u001b[0m in \u001b[0;36m<module>\u001b[0;34m()\u001b[0m\n\u001b[1;32m     15\u001b[0m     \u001b[0mstart_time\u001b[0m \u001b[0;34m=\u001b[0m \u001b[0mtime\u001b[0m\u001b[0;34m.\u001b[0m\u001b[0mtime\u001b[0m\u001b[0;34m(\u001b[0m\u001b[0;34m)\u001b[0m\u001b[0;34m\u001b[0m\u001b[0;34m\u001b[0m\u001b[0m\n\u001b[1;32m     16\u001b[0m     \u001b[0mbeta\u001b[0m \u001b[0;34m=\u001b[0m \u001b[0mbeta_sched\u001b[0m\u001b[0;34m.\u001b[0m\u001b[0mscheduler\u001b[0m\u001b[0;34m(\u001b[0m\u001b[0mt\u001b[0m\u001b[0;34m)\u001b[0m\u001b[0;34m\u001b[0m\u001b[0;34m\u001b[0m\u001b[0m\n\u001b[0;32m---> 17\u001b[0;31m     \u001b[0mtrain\u001b[0m\u001b[0;34m(\u001b[0m\u001b[0mtrain_dist_dataset\u001b[0m\u001b[0;34m,\u001b[0m \u001b[0mbeta\u001b[0m\u001b[0;34m)\u001b[0m\u001b[0;34m\u001b[0m\u001b[0;34m\u001b[0m\u001b[0m\n\u001b[0m\u001b[1;32m     18\u001b[0m \u001b[0;34m\u001b[0m\u001b[0m\n\u001b[1;32m     19\u001b[0m     \u001b[0;32mif\u001b[0m \u001b[0mt\u001b[0m \u001b[0;34m%\u001b[0m \u001b[0mvalid_inc\u001b[0m \u001b[0;34m==\u001b[0m \u001b[0;36m0\u001b[0m\u001b[0;34m:\u001b[0m\u001b[0;34m\u001b[0m\u001b[0;34m\u001b[0m\u001b[0m\n",
            "\u001b[0;32m/usr/local/lib/python3.7/dist-packages/tensorflow/python/eager/def_function.py\u001b[0m in \u001b[0;36m__call__\u001b[0;34m(self, *args, **kwds)\u001b[0m\n\u001b[1;32m    826\u001b[0m     \u001b[0mtracing_count\u001b[0m \u001b[0;34m=\u001b[0m \u001b[0mself\u001b[0m\u001b[0;34m.\u001b[0m\u001b[0mexperimental_get_tracing_count\u001b[0m\u001b[0;34m(\u001b[0m\u001b[0;34m)\u001b[0m\u001b[0;34m\u001b[0m\u001b[0;34m\u001b[0m\u001b[0m\n\u001b[1;32m    827\u001b[0m     \u001b[0;32mwith\u001b[0m \u001b[0mtrace\u001b[0m\u001b[0;34m.\u001b[0m\u001b[0mTrace\u001b[0m\u001b[0;34m(\u001b[0m\u001b[0mself\u001b[0m\u001b[0;34m.\u001b[0m\u001b[0m_name\u001b[0m\u001b[0;34m)\u001b[0m \u001b[0;32mas\u001b[0m \u001b[0mtm\u001b[0m\u001b[0;34m:\u001b[0m\u001b[0;34m\u001b[0m\u001b[0;34m\u001b[0m\u001b[0m\n\u001b[0;32m--> 828\u001b[0;31m       \u001b[0mresult\u001b[0m \u001b[0;34m=\u001b[0m \u001b[0mself\u001b[0m\u001b[0;34m.\u001b[0m\u001b[0m_call\u001b[0m\u001b[0;34m(\u001b[0m\u001b[0;34m*\u001b[0m\u001b[0margs\u001b[0m\u001b[0;34m,\u001b[0m \u001b[0;34m**\u001b[0m\u001b[0mkwds\u001b[0m\u001b[0;34m)\u001b[0m\u001b[0;34m\u001b[0m\u001b[0;34m\u001b[0m\u001b[0m\n\u001b[0m\u001b[1;32m    829\u001b[0m       \u001b[0mcompiler\u001b[0m \u001b[0;34m=\u001b[0m \u001b[0;34m\"xla\"\u001b[0m \u001b[0;32mif\u001b[0m \u001b[0mself\u001b[0m\u001b[0;34m.\u001b[0m\u001b[0m_experimental_compile\u001b[0m \u001b[0;32melse\u001b[0m \u001b[0;34m\"nonXla\"\u001b[0m\u001b[0;34m\u001b[0m\u001b[0;34m\u001b[0m\u001b[0m\n\u001b[1;32m    830\u001b[0m       \u001b[0mnew_tracing_count\u001b[0m \u001b[0;34m=\u001b[0m \u001b[0mself\u001b[0m\u001b[0;34m.\u001b[0m\u001b[0mexperimental_get_tracing_count\u001b[0m\u001b[0;34m(\u001b[0m\u001b[0;34m)\u001b[0m\u001b[0;34m\u001b[0m\u001b[0;34m\u001b[0m\u001b[0m\n",
            "\u001b[0;32m/usr/local/lib/python3.7/dist-packages/tensorflow/python/eager/def_function.py\u001b[0m in \u001b[0;36m_call\u001b[0;34m(self, *args, **kwds)\u001b[0m\n\u001b[1;32m    860\u001b[0m       \u001b[0;31m# In this case we have not created variables on the first call. So we can\u001b[0m\u001b[0;34m\u001b[0m\u001b[0;34m\u001b[0m\u001b[0;34m\u001b[0m\u001b[0m\n\u001b[1;32m    861\u001b[0m       \u001b[0;31m# run the first trace but we should fail if variables are created.\u001b[0m\u001b[0;34m\u001b[0m\u001b[0;34m\u001b[0m\u001b[0;34m\u001b[0m\u001b[0m\n\u001b[0;32m--> 862\u001b[0;31m       \u001b[0mresults\u001b[0m \u001b[0;34m=\u001b[0m \u001b[0mself\u001b[0m\u001b[0;34m.\u001b[0m\u001b[0m_stateful_fn\u001b[0m\u001b[0;34m(\u001b[0m\u001b[0;34m*\u001b[0m\u001b[0margs\u001b[0m\u001b[0;34m,\u001b[0m \u001b[0;34m**\u001b[0m\u001b[0mkwds\u001b[0m\u001b[0;34m)\u001b[0m\u001b[0;34m\u001b[0m\u001b[0;34m\u001b[0m\u001b[0m\n\u001b[0m\u001b[1;32m    863\u001b[0m       \u001b[0;32mif\u001b[0m \u001b[0mself\u001b[0m\u001b[0;34m.\u001b[0m\u001b[0m_created_variables\u001b[0m\u001b[0;34m:\u001b[0m\u001b[0;34m\u001b[0m\u001b[0;34m\u001b[0m\u001b[0m\n\u001b[1;32m    864\u001b[0m         raise ValueError(\"Creating variables on a non-first call to a function\"\n",
            "\u001b[0;32m/usr/local/lib/python3.7/dist-packages/tensorflow/python/eager/function.py\u001b[0m in \u001b[0;36m__call__\u001b[0;34m(self, *args, **kwargs)\u001b[0m\n\u001b[1;32m   2941\u001b[0m        filtered_flat_args) = self._maybe_define_function(args, kwargs)\n\u001b[1;32m   2942\u001b[0m     return graph_function._call_flat(\n\u001b[0;32m-> 2943\u001b[0;31m         filtered_flat_args, captured_inputs=graph_function.captured_inputs)  # pylint: disable=protected-access\n\u001b[0m\u001b[1;32m   2944\u001b[0m \u001b[0;34m\u001b[0m\u001b[0m\n\u001b[1;32m   2945\u001b[0m   \u001b[0;34m@\u001b[0m\u001b[0mproperty\u001b[0m\u001b[0;34m\u001b[0m\u001b[0;34m\u001b[0m\u001b[0m\n",
            "\u001b[0;32m/usr/local/lib/python3.7/dist-packages/tensorflow/python/eager/function.py\u001b[0m in \u001b[0;36m_call_flat\u001b[0;34m(self, args, captured_inputs, cancellation_manager)\u001b[0m\n\u001b[1;32m   1917\u001b[0m       \u001b[0;31m# No tape is watching; skip to running the function.\u001b[0m\u001b[0;34m\u001b[0m\u001b[0;34m\u001b[0m\u001b[0;34m\u001b[0m\u001b[0m\n\u001b[1;32m   1918\u001b[0m       return self._build_call_outputs(self._inference_function.call(\n\u001b[0;32m-> 1919\u001b[0;31m           ctx, args, cancellation_manager=cancellation_manager))\n\u001b[0m\u001b[1;32m   1920\u001b[0m     forward_backward = self._select_forward_and_backward_functions(\n\u001b[1;32m   1921\u001b[0m         \u001b[0margs\u001b[0m\u001b[0;34m,\u001b[0m\u001b[0;34m\u001b[0m\u001b[0;34m\u001b[0m\u001b[0m\n",
            "\u001b[0;32m/usr/local/lib/python3.7/dist-packages/tensorflow/python/eager/function.py\u001b[0m in \u001b[0;36mcall\u001b[0;34m(self, ctx, args, cancellation_manager)\u001b[0m\n\u001b[1;32m    558\u001b[0m               \u001b[0minputs\u001b[0m\u001b[0;34m=\u001b[0m\u001b[0margs\u001b[0m\u001b[0;34m,\u001b[0m\u001b[0;34m\u001b[0m\u001b[0;34m\u001b[0m\u001b[0m\n\u001b[1;32m    559\u001b[0m               \u001b[0mattrs\u001b[0m\u001b[0;34m=\u001b[0m\u001b[0mattrs\u001b[0m\u001b[0;34m,\u001b[0m\u001b[0;34m\u001b[0m\u001b[0;34m\u001b[0m\u001b[0m\n\u001b[0;32m--> 560\u001b[0;31m               ctx=ctx)\n\u001b[0m\u001b[1;32m    561\u001b[0m         \u001b[0;32melse\u001b[0m\u001b[0;34m:\u001b[0m\u001b[0;34m\u001b[0m\u001b[0;34m\u001b[0m\u001b[0m\n\u001b[1;32m    562\u001b[0m           outputs = execute.execute_with_cancellation(\n",
            "\u001b[0;32m/usr/local/lib/python3.7/dist-packages/tensorflow/python/eager/execute.py\u001b[0m in \u001b[0;36mquick_execute\u001b[0;34m(op_name, num_outputs, inputs, attrs, ctx, name)\u001b[0m\n\u001b[1;32m     58\u001b[0m     \u001b[0mctx\u001b[0m\u001b[0;34m.\u001b[0m\u001b[0mensure_initialized\u001b[0m\u001b[0;34m(\u001b[0m\u001b[0;34m)\u001b[0m\u001b[0;34m\u001b[0m\u001b[0;34m\u001b[0m\u001b[0m\n\u001b[1;32m     59\u001b[0m     tensors = pywrap_tfe.TFE_Py_Execute(ctx._handle, device_name, op_name,\n\u001b[0;32m---> 60\u001b[0;31m                                         inputs, attrs, num_outputs)\n\u001b[0m\u001b[1;32m     61\u001b[0m   \u001b[0;32mexcept\u001b[0m \u001b[0mcore\u001b[0m\u001b[0;34m.\u001b[0m\u001b[0m_NotOkStatusException\u001b[0m \u001b[0;32mas\u001b[0m \u001b[0me\u001b[0m\u001b[0;34m:\u001b[0m\u001b[0;34m\u001b[0m\u001b[0;34m\u001b[0m\u001b[0m\n\u001b[1;32m     62\u001b[0m     \u001b[0;32mif\u001b[0m \u001b[0mname\u001b[0m \u001b[0;32mis\u001b[0m \u001b[0;32mnot\u001b[0m \u001b[0;32mNone\u001b[0m\u001b[0;34m:\u001b[0m\u001b[0;34m\u001b[0m\u001b[0;34m\u001b[0m\u001b[0m\n",
            "\u001b[0;31mKeyboardInterrupt\u001b[0m: "
          ]
        }
      ]
    },
    {
      "cell_type": "code",
      "metadata": {
        "id": "mw21h14BnX3Q"
      },
      "source": [
        ""
      ],
      "execution_count": null,
      "outputs": []
    }
  ]
}