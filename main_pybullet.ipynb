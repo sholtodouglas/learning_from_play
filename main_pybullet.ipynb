{
 "cells": [
  {
   "cell_type": "markdown",
   "metadata": {},
   "source": [
    "1. Process data into pickles with skip 40\n",
    "2. Load this in to df dataloader\n",
    "3. Train simple MLP map o -> a, observe it being okay\n",
    "4. Get play subsequences, do goal conditioned BC, not just BC\n",
    "5. LFP planner/encoder\n",
    "6. Label a couple subsequences w/ language, and map that to the z space!"
   ]
  },
  {
   "cell_type": "markdown",
   "metadata": {},
   "source": [
    "# Data Creation"
   ]
  },
  {
   "cell_type": "code",
   "execution_count": null,
   "metadata": {},
   "outputs": [],
   "source": [
    "# # # Clean old data\n",
    "# import glob\n",
    "# import os\n",
    "# demo_dir = os.getcwd() + '/' + \"kitchen_demos_multitask/\"\n",
    "# old = glob.glob(demo_dir + \"/**/*.pkl\", recursive=True)\n",
    "# movies = glob.glob(demo_dir + \"/**/*.mp4\", recursive=True)\n",
    "# for i in old + movies:\n",
    "#     print(i)\n",
    "#     os.remove(i)"
   ]
  },
  {
   "cell_type": "code",
   "execution_count": null,
   "metadata": {},
   "outputs": [],
   "source": [
    "# If Colab\n",
    "COLAB = False\n",
    "from google.colab import drive\n",
    "drive.mount('/content/drive/')\n",
    "\n",
    "if COLAB:\n",
    "    class config(object):\n",
    "        pass\n",
    "\n",
    "    config = config()\n",
    "    config.PYBULLET_PLAY = 'play_data/'\n",
    "    config.DEVICE = 'TPU'\n",
    "\n",
    "    %cd drive/My\\ Drive"
   ]
  },
  {
   "cell_type": "markdown",
   "metadata": {
    "pycharm": {
     "name": "#%% md\n"
    }
   },
   "source": [
    "# Dataset"
   ]
  },
  {
   "cell_type": "code",
   "execution_count": 1,
   "metadata": {
    "pycharm": {
     "name": "#%%\n"
    }
   },
   "outputs": [],
   "source": [
    "import glob\n",
    "\n",
    "import numpy as np\n",
    "import tensorflow as tf\n",
    "import pickle\n",
    "import matplotlib.pyplot as plt\n",
    "import random\n",
    "import pickle\n",
    "import os\n",
    "import config\n",
    "import data\n",
    "import random\n",
    "\n",
    "dataset_path  = config.ONEOBJ_PLAY # config.SCRIPTED_PLAY #config.RPL_PATH\n",
    "keys = ['obs', 'acts', 'achieved_goals', 'joint_poses', 'target_poses']\n",
    "physical_devices = tf.config.list_physical_devices(config.DEVICE)\n",
    "if config.DEVICE is 'GPU':\n",
    "    tf.config.experimental.set_memory_growth(physical_devices[0], enable=True)"
   ]
  },
  {
   "cell_type": "code",
   "execution_count": 2,
   "metadata": {},
   "outputs": [],
   "source": [
    "# \n",
    "RELATIVE_JOINTS = True # use relative joiints instead of absolute angles"
   ]
  },
  {
   "cell_type": "code",
   "execution_count": 3,
   "metadata": {},
   "outputs": [],
   "source": [
    "#dataset, cnt = data.create_single_dataset(dataset_path)\n",
    "\n",
    "\n",
    "dataset, cnt = data.load_data(dataset_path, keys)"
   ]
  },
  {
   "cell_type": "code",
   "execution_count": 4,
   "metadata": {
    "pycharm": {
     "name": "#%%\n"
    }
   },
   "outputs": [
    {
     "data": {
      "image/png": "[encoded data removed]",
      "text/plain": [
       "<Figure size 432x288 with 1 Axes>"
      ]
     },
     "metadata": {
      "needs_background": "light"
     },
     "output_type": "display_data"
    }
   ],
   "source": [
    "# Histogram of sequence lengths\n",
    "plt.bar(cnt.keys(), cnt.values(), width=1)\n",
    "plt.show()"
   ]
  },
  {
   "cell_type": "code",
   "execution_count": null,
   "metadata": {},
   "outputs": [],
   "source": []
  },
  {
   "cell_type": "code",
   "execution_count": 5,
   "metadata": {},
   "outputs": [
    {
     "name": "stdout",
     "output_type": "stream",
     "text": [
      "We have 57452 frames of data, which is 47.876666666666665 minutes.\n"
     ]
    }
   ],
   "source": [
    "total_frames = sum([x[0]*x[1] for x in cnt.items()])\n",
    "print(f\"We have {total_frames} frames of data, which is {total_frames/20/60} minutes.\")"
   ]
  },
  {
   "cell_type": "code",
   "execution_count": 6,
   "metadata": {
    "pycharm": {
     "name": "#%%\n"
    }
   },
   "outputs": [],
   "source": [
    "class PyBulletRobotSeqDataset():\n",
    "    def __init__(self, dataset, batch_size=64, seq_len=50, overlap=1.0, \n",
    "                 prefetch_size=None, train_test_split=0.8, seed=42, relative_joints=False):\n",
    "        self.N_TRAJS = len(dataset)\n",
    "\n",
    "        # Split into train and validation datasets\n",
    "        # List of trajectory dicts\n",
    "        if train_test_split == 'last': # just use the last set of demos as validation\n",
    "            self._train_data = dataset[:-1] # raw data - private\n",
    "            self._valid_data = dataset[-1:]\n",
    "        else:\n",
    "            self._train_data = dataset[:int(self.N_TRAJS*train_test_split)] # raw data - private\n",
    "            self._valid_data = dataset[int(self.N_TRAJS*train_test_split):]\n",
    "        self.train_data = []\n",
    "        self.valid_data = []\n",
    "        self.BATCH_SIZE = batch_size\n",
    "        self.PREFETCH_SIZE = prefetch_size\n",
    "        self.OVERLAP = overlap\n",
    "        self.relative_joints = relative_joints\n",
    "\n",
    "        self.MAX_SEQ_LEN = seq_len ## 40 for example\n",
    "        self.MIN_SEQ_LEN = seq_len//2 # so like 20\n",
    "        self.OBS_DIM = dataset[0]['obs'].shape[-1]\n",
    "        if self.relative_joints:\n",
    "            self.ACT_DIM = dataset[0]['target_poses'].shape[-1] + 1 # +1 for the gripper\n",
    "        else:\n",
    "            self.ACT_DIM = dataset[0]['acts'].shape[-1]\n",
    "            \n",
    "        self.GOAL_DIM = dataset[0]['achieved_goals'].shape[-1]\n",
    "\n",
    "        self.random_obj = random.Random(seed)\n",
    "\n",
    "    def create_goal(self, trajectory, ti, tf):\n",
    "        return np.tile(trajectory['achieved_goals'][tf, :], (tf-ti,1))\n",
    "\n",
    "    def traj_to_subtrajs(self, trajectory, idx):\n",
    "        \"\"\"\n",
    "        Converts a T-length trajectory into M subtrajectories of length SEQ_LEN, pads time dim to SEQ_LEN\n",
    "        \"\"\"\n",
    "        T = len(trajectory['obs'])\n",
    "        subtrajs = []\n",
    "        window_size = max(int(self.MAX_SEQ_LEN*self.OVERLAP),1)\n",
    "        for ti in range(0,T,window_size):\n",
    "            SEQ_LEN = np.random.randint(self.MIN_SEQ_LEN, self.MAX_SEQ_LEN) # random sequence lengths\n",
    "            tf = ti + SEQ_LEN\n",
    "            if T-1 < tf:\n",
    "                break #trajectory would be cut off by the end of the data \n",
    "                \n",
    "            pad_len = self.MAX_SEQ_LEN-(tf-ti)\n",
    "            time_padding = ((0,pad_len),(0,0))\n",
    "            #print(trajectory['obs'][ti:tf,:].shape, np.pad(trajectory['obs'][ti:tf,:], time_padding).shape)\n",
    "            #print(np.pad(self.create_goal(trajectory, ti, tf), time_padding).shape)\n",
    "            #print(np.pad(np.ones(tf-ti), time_padding[0]).shape)\n",
    "            #print(np.pad(np.arange(ti, tf, 1), time_padding[0]).shape)\n",
    "            \n",
    "            if self.relative_joints:\n",
    "                rel = trajectory['target_poses'][ti:tf] - trajectory['joint_poses'][ti:tf, :7]\n",
    "                gripper = np.expand_dims(trajectory['acts'][ti:tf, -1], -1)\n",
    "                action = np.pad(np.concatenate([rel, gripper], -1), time_padding)\n",
    "            else:\n",
    "                action = np.pad(trajectory['acts'][ti:tf], time_padding)\n",
    "                \n",
    "            \n",
    "            subtraj_dict = {\n",
    "                            'obs':np.pad(trajectory['obs'][ti:tf,:], time_padding)\n",
    "                            , 'acts':action\n",
    "                            , 'goals':np.pad(self.create_goal(trajectory, ti, tf), time_padding)\n",
    "                            , 'loss_mask': np.pad(np.ones(tf-ti), time_padding[0])\n",
    "                            , 'dataset_path':trajectory['reset_idx'] # which trajectory it is in the datadir\n",
    "                            , 'tstep_idxs':np.pad(np.arange(ti, tf, 1), time_padding[0])   # which tstep it is in the trajectory\n",
    "                            }\n",
    "            subtrajs.append(subtraj_dict)\n",
    "        return subtrajs\n",
    "\n",
    "    def convert_dataset(self):\n",
    "        \"\"\" Converts raw dataset to a shuffled subtraj dataset \"\"\"\n",
    "        for idx, train_sample in enumerate(self._train_data):\n",
    "            self.train_data.extend(self.traj_to_subtrajs(train_sample, idx))\n",
    "\n",
    "        for idx, valid_sample in enumerate(self._valid_data):\n",
    "            self.valid_data.extend(self.traj_to_subtrajs(valid_sample, idx))\n",
    "\n",
    "    def create_tf_ds(self, ds_type='train'):\n",
    "        dataset = self.train_data if ds_type=='train' else self.valid_data\n",
    "        def gen():\n",
    "            for d in dataset:\n",
    "                yield (d['obs'], d['acts'], d['goals'], d['loss_mask'], d['dataset_path'], d['tstep_idxs'])\n",
    "\n",
    "        with tf.device('/cpu:0'):\n",
    "            tf_ds =  tf.data.Dataset.from_generator(\n",
    "                        gen\n",
    "                        , output_types = (tf.float32, tf.float32, tf.float32, tf.float32, tf.int32, tf.int32)\n",
    "                        , output_shapes = ((None,self.OBS_DIM), (None,self.ACT_DIM), (None,self.GOAL_DIM), (None), (None), (None)\n",
    "            ))\n",
    "            tf_ds = tf_ds.shuffle(len(dataset))\n",
    "            tf_ds = tf_ds.batch(self.BATCH_SIZE, drop_remainder=True)\n",
    "            tf_ds = tf_ds.prefetch(self.PREFETCH_SIZE)\n",
    "        return tf_ds"
   ]
  },
  {
   "cell_type": "code",
   "execution_count": 7,
   "metadata": {
    "pycharm": {
     "name": "#%%\n"
    }
   },
   "outputs": [],
   "source": [
    "#rsd = PyBulletRobotSeqDataset(dataset, batch_size=32, overlap=0.01, train_test_split='last', relative_joints=RELATIVE_JOINTS)\n",
    "rsd = PyBulletRobotSeqDataset(dataset, batch_size=32, overlap=0.01, train_test_split=0.9, relative_joints=RELATIVE_JOINTS)"
   ]
  },
  {
   "cell_type": "code",
   "execution_count": 8,
   "metadata": {
    "pycharm": {
     "name": "#%%\n"
    }
   },
   "outputs": [],
   "source": [
    "rsd.convert_dataset()"
   ]
  },
  {
   "cell_type": "code",
   "execution_count": 9,
   "metadata": {
    "pycharm": {
     "name": "#%%\n"
    }
   },
   "outputs": [],
   "source": [
    "tf_train_data, tf_valid_data = rsd.create_tf_ds('train'), rsd.create_tf_ds('valid')"
   ]
  },
  {
   "cell_type": "code",
   "execution_count": 10,
   "metadata": {},
   "outputs": [],
   "source": [
    "t_it = iter(tf_train_data)\n"
   ]
  },
  {
   "cell_type": "code",
   "execution_count": 11,
   "metadata": {},
   "outputs": [
    {
     "name": "stdout",
     "output_type": "stream",
     "text": [
      "(32, 50, 19) (32, 50, 8) (32, 50, 11) (32, 50)\n"
     ]
    }
   ],
   "source": [
    "o, a, g, m, pth, tsteps = t_it.next()\n",
    "print(o.shape, a.shape, g.shape, m.shape)"
   ]
  },
  {
   "cell_type": "markdown",
   "metadata": {
    "pycharm": {
     "name": "#%% md\n"
    }
   },
   "source": [
    "# Model"
   ]
  },
  {
   "cell_type": "code",
   "execution_count": 12,
   "metadata": {
    "pycharm": {
     "name": "#%%\n"
    }
   },
   "outputs": [],
   "source": [
    "from tensorflow.keras.models import Model, Sequential\n",
    "from tensorflow.keras.layers import Dense, BatchNormalization, ReLU, Input\n",
    "import tensorflow_probability as tfp\n",
    "tfd = tfp.distributions\n",
    "tfb = tfp.bijectors"
   ]
  },
  {
   "cell_type": "code",
   "execution_count": 13,
   "metadata": {
    "pycharm": {
     "name": "#%%\n"
    }
   },
   "outputs": [],
   "source": [
    "class LSTM(tf.keras.Model):\n",
    "\n",
    "    def __init__(self, act_dim, num_distribs = 3, layer_size = 2048, quantized = False):\n",
    "        super(LSTM, self).__init__()\n",
    "        self.num_distribs = num_distribs\n",
    "        self.act_dim = act_dim\n",
    "        self.quantized = quantized\n",
    "        self.RNN1 = tf.keras.layers.LSTM(layer_size, return_sequences=True, return_state = True, name='LSTM_in_1')\n",
    "        self.RNN2 = tf.keras.layers.LSTM(layer_size, return_sequences=True, return_state = True, name='LSTM_in_2')\n",
    "        self.mu = tf.keras.layers.Dense(act_dim*num_distribs, activation=None, name='mu')\n",
    "        self.scale = tf.keras.layers.Dense(act_dim*num_distribs, activation=\"softplus\", name='sigma')\n",
    "        self.weightings = tf.keras.layers.Dense(act_dim*num_distribs, activation=\"softplus\", name='alpha')\n",
    "\n",
    "    def call(self, inputs, goal, training=False, past_state = None):\n",
    "        B = inputs.shape[0]\n",
    "        inputs = tf.concat([inputs, goal], -1)\n",
    "        state_out = None\n",
    "        if len(inputs.shape) == 3:\n",
    "            [x, _, _] = self.RNN1(inputs)\n",
    "            [x, _, _] = self.RNN2(x)\n",
    "        else:\n",
    "            x = tf.expand_dims(inputs,1)\n",
    "            [x, s1l1, s2l1] = self.RNN1(x, initial_state = past_state[0])\n",
    "            [x, s1l2, s2l2] = self.RNN2(x, initial_state = past_state[1])\n",
    "            state_out = [[s1l1, s2l1], [s1l2, s2l2]]\n",
    "            \n",
    "\n",
    "        mu, scale, weightings = self.mu(x), self.scale(x), self.weightings(x)\n",
    "        mu, scale, weightings = tf.reshape(mu, (B, -1, self.act_dim, self.num_distribs)), tf.reshape(scale, (B, -1, self.act_dim, self.num_distribs)), tf.reshape(weightings, (B, -1, self.act_dim, self.num_distribs))\n",
    "        \n",
    "        if self.quantized:\n",
    "            dist = tfd.TransformedDistribution(\n",
    "                                    distribution= tfd.QuantizedDistribution(\n",
    "                                            distribution=tfd.TransformedDistribution(\n",
    "                                                distribution=tfd.Logistic(loc=mu, scale=scale),\n",
    "                                            bijector=tfb.AffineScalar(shift=-0.5)),\n",
    "                                        low=-128,\n",
    "                                        high=128), \n",
    "                                    bijector=tfb.AffineScalar(scale=1/512))\n",
    "\n",
    "        else:\n",
    "            dist = tfd.Logistic(loc=mu, scale=scale)\n",
    "        \n",
    "        mixture = tfd.MixtureSameFamily(mixture_distribution=tfd.Categorical(\n",
    "                          probs=weightings),components_distribution=dist)\n",
    "        if state_out is None:\n",
    "            return mixture\n",
    "        else:\n",
    "            return mixture, state_out"
   ]
  },
  {
   "cell_type": "markdown",
   "metadata": {
    "pycharm": {
     "name": "#%% md\n"
    }
   },
   "source": [
    "# Training Loop"
   ]
  },
  {
   "cell_type": "code",
   "execution_count": 14,
   "metadata": {},
   "outputs": [],
   "source": [
    "from tensorflow.keras.losses import MeanSquaredError\n",
    "from tensorflow.keras.metrics import Accuracy\n",
    "from tensorflow.keras.optimizers import SGD, Adam\n",
    "from tensorflow.keras.utils import Progbar\n",
    "\n",
    "import time\n",
    "\n",
    "# Whether to use probabilstic MLP or not\n",
    "PROBS = True\n",
    "# Whether to use LSTM models, as probabilistic models are better they will all be PROB true\n",
    "SEQ = True\n"
   ]
  },
  {
   "cell_type": "code",
   "execution_count": 15,
   "metadata": {},
   "outputs": [],
   "source": [
    "\n",
    "@tf.function\n",
    "def step(obs,acts,goals, model, mask=None):\n",
    "    \n",
    "    mixture = model(obs,goals)\n",
    "    # make it the same dimension as the mask if we have one\n",
    "    \n",
    "    vals = tf.reduce_mean(mixture.log_prob(acts), -1)\n",
    "    \n",
    "    loss = -tf.reduce_mean(vals * mask)\n",
    "    \n",
    "    # also compare MSE between est and true actions\n",
    "    pred = mixture.sample() # B,T,D\n",
    "    sampled_l = abs((acts-pred))\n",
    "    sampled_l = tf.reduce_mean(sampled_l, [0,1])\n",
    "    return loss, sampled_l\n",
    "\n",
    "@tf.function\n",
    "def train_step(obs,acts, goals, model, optimizer, mask = None):\n",
    "    with tf.GradientTape() as tape:\n",
    "        loss, sampled_l = step(obs,acts, goals, model, mask)\n",
    "        \n",
    "    variables = model.trainable_variables\n",
    "    \n",
    "    gradients = tape.gradient(loss, variables)\n",
    "    \n",
    "    optimizer.apply_gradients(zip(gradients, variables))\n",
    "    return loss, sampled_l\n",
    "        "
   ]
  },
  {
   "cell_type": "code",
   "execution_count": 16,
   "metadata": {},
   "outputs": [],
   "source": [
    "import tensorflow_addons as tfa\n",
    "# Instantiate an optimizer to train the model. Use same LR as LFP paper. \n",
    "optimizer = tfa.optimizers.AdamW(learning_rate=3e-4, weight_decay=1e-4) #Adam(learning_rate=3e-4)\n",
    "# Instantiate a loss function.\n",
    "\n",
    "model = LSTM(act_dim = rsd.ACT_DIM)\n",
    "\n",
    "\n",
    "# Prepare the metrics.\n",
    "# train_acc_metric = Accuracy()"
   ]
  },
  {
   "cell_type": "code",
   "execution_count": 17,
   "metadata": {},
   "outputs": [],
   "source": [
    "\n",
    "steps = []\n",
    "losses = []\n",
    "valid_losses = []\n",
    "valid_steps = []\n",
    "sampled_ls = []\n",
    "valid_sampled_ls = []\n",
    "n_steps = 300000\n",
    "progbar = Progbar(n_steps, verbose=1, interval=0.5)\n",
    "data_time = []\n",
    "train_time = []\n",
    "best_valid_loss = np.float('inf')"
   ]
  },
  {
   "cell_type": "code",
   "execution_count": 23,
   "metadata": {
    "pycharm": {
     "is_executing": true
    }
   },
   "outputs": [
    {
     "name": "stdout",
     "output_type": "stream",
     "text": [
      " 14500/300000 [>.............................] - ETA: 13:25:30 - Validation Loss: -1.4958Regenning Datset\n",
      " 16000/300000 [>.............................] - ETA: 13:19:03 - Validation Loss: -1.4823Regenning Datset\n",
      " 17500/300000 [>.............................] - ETA: 13:10:40 - Validation Loss: -1.4649Regenning Datset\n",
      " 19100/300000 [>.............................] - ETA: 13:02:39 - Validation Loss: -1.4423Regenning Datset\n",
      " 20600/300000 [=>............................] - ETA: 12:55:37 - Validation Loss: -1.4166Regenning Datset\n",
      " 22200/300000 [=>............................] - ETA: 12:48:32 - Validation Loss: -1.3898Regenning Datset\n",
      " 23700/300000 [=>............................] - ETA: 12:42:32 - Validation Loss: -1.3633Regenning Datset\n",
      " 25200/300000 [=>............................] - ETA: 12:36:38 - Validation Loss: -1.3377Regenning Datset\n",
      " 26800/300000 [=>............................] - ETA: 12:30:32 - Validation Loss: -1.3146Regenning Datset\n",
      " 28300/300000 [=>............................] - ETA: 12:24:58 - Validation Loss: -1.2893Regenning Datset\n",
      " 29900/300000 [=>............................] - ETA: 12:19:02 - Validation Loss: -1.2633Regenning Datset\n",
      " 31400/300000 [==>...........................] - ETA: 12:13:42 - Validation Loss: -1.2396Regenning Datset\n",
      " 32900/300000 [==>...........................] - ETA: 12:08:15 - Validation Loss: -1.2160Regenning Datset\n",
      " 34500/300000 [==>...........................] - ETA: 12:02:38 - Validation Loss: -1.1906Regenning Datset\n",
      " 36000/300000 [==>...........................] - ETA: 11:57:32 - Validation Loss: -1.1692Regenning Datset\n",
      " 37600/300000 [==>...........................] - ETA: 11:52:11 - Validation Loss: -1.1449Regenning Datset\n",
      " 39100/300000 [==>...........................] - ETA: 11:47:20 - Validation Loss: -1.1254Regenning Datset\n",
      " 40600/300000 [===>..........................] - ETA: 11:42:29 - Validation Loss: -1.1047Regenning Datset\n",
      " 42200/300000 [===>..........................] - ETA: 11:37:16 - Validation Loss: -1.0824Regenning Datset\n",
      " 43700/300000 [===>..........................] - ETA: 11:32:22 - Validation Loss: -1.0629Regenning Datset\n",
      " 45200/300000 [===>..........................] - ETA: 11:27:32 - Validation Loss: -1.0423Regenning Datset\n",
      " 46800/300000 [===>..........................] - ETA: 11:22:34 - Validation Loss: -1.0224Regenning Datset\n",
      " 48300/300000 [===>..........................] - ETA: 11:17:50 - Validation Loss: -1.0036Regenning Datset\n",
      " 49900/300000 [===>..........................] - ETA: 11:12:50 - Validation Loss: -0.9836Regenning Datset\n",
      " 51400/300000 [====>.........................] - ETA: 11:08:16 - Validation Loss: -0.9647Regenning Datset\n",
      " 52900/300000 [====>.........................] - ETA: 11:03:43 - Validation Loss: -0.9469Regenning Datset\n",
      " 54500/300000 [====>.........................] - ETA: 10:58:53 - Validation Loss: -0.9287Regenning Datset\n",
      " 56000/300000 [====>.........................] - ETA: 10:54:33 - Validation Loss: -0.9117Regenning Datset\n",
      " 57600/300000 [====>.........................] - ETA: 10:49:47 - Validation Loss: -0.8952Regenning Datset\n",
      " 59100/300000 [====>.........................] - ETA: 10:45:24 - Validation Loss: -0.8793Regenning Datset\n",
      " 60600/300000 [=====>........................] - ETA: 10:41:04 - Validation Loss: -0.8649Regenning Datset\n",
      " 62200/300000 [=====>........................] - ETA: 10:36:22 - Validation Loss: -0.8494Regenning Datset\n",
      " 63700/300000 [=====>........................] - ETA: 10:32:02 - Validation Loss: -0.8348Regenning Datset\n",
      " 65300/300000 [=====>........................] - ETA: 10:27:26 - Validation Loss: -0.8165Regenning Datset\n",
      " 66800/300000 [=====>........................] - ETA: 10:23:06 - Validation Loss: -0.8033Regenning Datset\n",
      " 68300/300000 [=====>........................] - ETA: 10:18:48 - Validation Loss: -0.7889Regenning Datset\n",
      " 69900/300000 [=====>........................] - ETA: 10:14:12 - Validation Loss: -0.7748Regenning Datset\n",
      " 71400/300000 [======>.......................] - ETA: 10:09:57 - Validation Loss: -0.7624Regenning Datset\n",
      " 72900/300000 [======>.......................] - ETA: 10:05:39 - Validation Loss: -0.7482Regenning Datset\n",
      " 74500/300000 [======>.......................] - ETA: 10:01:07 - Validation Loss: -0.7334Regenning Datset\n",
      " 76000/300000 [======>.......................] - ETA: 9:56:50 - Validation Loss: -0.7207Regenning Datset\n",
      " 77600/300000 [======>.......................] - ETA: 9:52:21 - Validation Loss: -0.7087Regenning Datset\n",
      " 79100/300000 [======>.......................] - ETA: 9:48:05 - Validation Loss: -0.6981Regenning Datset\n",
      " 80600/300000 [=======>......................] - ETA: 9:43:52 - Validation Loss: -0.6860Regenning Datset\n",
      " 82200/300000 [=======>......................] - ETA: 9:39:19 - Validation Loss: -0.6754Regenning Datset\n",
      " 83700/300000 [=======>......................] - ETA: 9:35:07 - Validation Loss: -0.6642Regenning Datset\n",
      " 85300/300000 [=======>......................] - ETA: 9:30:38 - Validation Loss: -0.6536Regenning Datset\n",
      " 86800/300000 [=======>......................] - ETA: 9:26:24 - Validation Loss: -0.6440Regenning Datset\n",
      " 88300/300000 [=======>......................] - ETA: 9:22:11 - Validation Loss: -0.6338Regenning Datset\n",
      " 89900/300000 [=======>......................] - ETA: 9:17:40 - Validation Loss: -0.6229Regenning Datset\n",
      " 91400/300000 [========>.....................] - ETA: 9:13:28 - Validation Loss: -0.6126Regenning Datset\n",
      " 93000/300000 [========>.....................] - ETA: 9:09:04 - Validation Loss: -0.6023Regenning Datset\n",
      " 94500/300000 [========>.....................] - ETA: 9:04:59 - Validation Loss: -0.5925Regenning Datset\n",
      " 96000/300000 [========>.....................] - ETA: 9:00:51 - Validation Loss: -0.5841Regenning Datset\n",
      " 97600/300000 [========>.....................] - ETA: 8:56:28 - Validation Loss: -0.5759Regenning Datset\n",
      " 99100/300000 [========>.....................] - ETA: 8:52:22 - Validation Loss: -0.5673Regenning Datset\n",
      "100700/300000 [=========>....................] - ETA: 8:47:57 - Validation Loss: -0.5578Regenning Datset\n",
      "102200/300000 [=========>....................] - ETA: 8:43:48 - Validation Loss: -0.5489Regenning Datset\n",
      "103700/300000 [=========>....................] - ETA: 8:39:43 - Validation Loss: -0.5411Regenning Datset\n",
      "105300/300000 [=========>....................] - ETA: 8:35:22 - Validation Loss: -0.5325Regenning Datset\n",
      "106800/300000 [=========>....................] - ETA: 8:31:17 - Validation Loss: -0.5249Regenning Datset\n",
      "108300/300000 [=========>....................] - ETA: 8:27:12 - Validation Loss: -0.5170Regenning Datset\n",
      "109900/300000 [=========>....................] - ETA: 8:22:48 - Validation Loss: -0.5097Regenning Datset\n",
      "111400/300000 [==========>...................] - ETA: 8:18:44 - Validation Loss: -0.5020Regenning Datset\n",
      "113000/300000 [==========>...................] - ETA: 8:14:21 - Validation Loss: -0.4948Regenning Datset\n",
      "114500/300000 [==========>...................] - ETA: 8:10:15 - Validation Loss: -0.4874Regenning Datset\n",
      "116000/300000 [==========>...................] - ETA: 8:06:11 - Validation Loss: -0.4811Regenning Datset\n",
      "117600/300000 [==========>...................] - ETA: 8:01:50 - Validation Loss: -0.4738Regenning Datset\n",
      "119100/300000 [==========>...................] - ETA: 7:57:47 - Validation Loss: -0.4671Regenning Datset\n",
      "120700/300000 [===========>..................] - ETA: 7:53:26 - Validation Loss: -0.4603Regenning Datset\n",
      "122200/300000 [===========>..................] - ETA: 7:49:21 - Validation Loss: -0.4534Regenning Datset\n",
      "123700/300000 [===========>..................] - ETA: 7:45:18 - Validation Loss: -0.4469Regenning Datset\n",
      "125300/300000 [===========>..................] - ETA: 7:40:58 - Validation Loss: -0.4406Regenning Datset\n",
      "126800/300000 [===========>..................] - ETA: 7:36:55 - Validation Loss: -0.4340Regenning Datset\n",
      "128400/300000 [===========>..................] - ETA: 7:32:35 - Validation Loss: -0.4277Regenning Datset\n",
      "129900/300000 [===========>..................] - ETA: 7:28:36 - Validation Loss: -0.4223Regenning Datset\n",
      "131400/300000 [============>.................] - ETA: 7:24:35 - Validation Loss: -0.4173Regenning Datset\n",
      "133000/300000 [============>.................] - ETA: 7:20:16 - Validation Loss: -0.4116Regenning Datset\n",
      "134500/300000 [============>.................] - ETA: 7:16:12 - Validation Loss: -0.4054Regenning Datset\n",
      "136000/300000 [============>.................] - ETA: 7:12:10 - Validation Loss: -0.4009Regenning Datset\n",
      "137600/300000 [============>.................] - ETA: 7:07:52 - Validation Loss: -0.3954Regenning Datset\n",
      "139100/300000 [============>.................] - ETA: 7:03:50 - Validation Loss: -0.3905Regenning Datset\n",
      "140700/300000 [=============>................] - ETA: 6:59:31 - Validation Loss: -0.3868Regenning Datset\n",
      "142200/300000 [=============>................] - ETA: 6:55:29 - Validation Loss: -0.3828Regenning Datset\n",
      "143700/300000 [=============>................] - ETA: 6:51:27 - Validation Loss: -0.3783Regenning Datset\n",
      "145300/300000 [=============>................] - ETA: 6:47:10 - Validation Loss: -0.3736Regenning Datset\n",
      "146800/300000 [=============>................] - ETA: 6:43:08 - Validation Loss: -0.3695Regenning Datset\n",
      "148400/300000 [=============>................] - ETA: 6:38:49 - Validation Loss: -0.3648Regenning Datset\n",
      "149900/300000 [=============>................] - ETA: 6:34:47 - Validation Loss: -0.3613Regenning Datset\n",
      "151400/300000 [==============>...............] - ETA: 6:30:45 - Validation Loss: -0.3580Regenning Datset\n",
      "153000/300000 [==============>...............] - ETA: 6:26:28 - Validation Loss: -0.3541Regenning Datset\n",
      "154500/300000 [==============>...............] - ETA: 6:22:28 - Validation Loss: -0.3505Regenning Datset\n",
      "156100/300000 [==============>...............] - ETA: 6:18:12 - Validation Loss: -0.3462Regenning Datset\n",
      "157600/300000 [==============>...............] - ETA: 6:14:13 - Validation Loss: -0.3423Regenning Datset\n",
      "159100/300000 [==============>...............] - ETA: 6:10:13 - Validation Loss: -0.3390Regenning Datset\n",
      "160700/300000 [===============>..............] - ETA: 6:05:56 - Validation Loss: -0.3347Regenning Datset\n",
      "162200/300000 [===============>..............] - ETA: 6:01:56 - Validation Loss: -0.3305Regenning Datset\n",
      "163700/300000 [===============>..............] - ETA: 5:57:56 - Validation Loss: -0.3271Regenning Datset\n",
      "165300/300000 [===============>..............] - ETA: 5:53:39 - Validation Loss: -0.3230Regenning Datset\n",
      "166800/300000 [===============>..............] - ETA: 5:49:39 - Validation Loss: -0.3191Regenning Datset\n",
      "168400/300000 [===============>..............] - ETA: 5:45:23 - Validation Loss: -0.3155Regenning Datset\n",
      "169900/300000 [===============>..............] - ETA: 5:41:24 - Validation Loss: -0.3123Regenning Datset\n",
      "171400/300000 [================>.............] - ETA: 5:37:27 - Validation Loss: -0.3084Regenning Datset\n",
      "173000/300000 [================>.............] - ETA: 5:33:11 - Validation Loss: -0.3051Regenning Datset\n",
      "174500/300000 [================>.............] - ETA: 5:29:13 - Validation Loss: -0.3029Regenning Datset\n",
      "176100/300000 [================>.............] - ETA: 5:24:58 - Validation Loss: -0.2992Regenning Datset\n",
      "177600/300000 [================>.............] - ETA: 5:21:00 - Validation Loss: -0.2964Regenning Datset\n",
      "179100/300000 [================>.............] - ETA: 5:17:00 - Validation Loss: -0.2939Regenning Datset\n",
      "180700/300000 [=================>............] - ETA: 5:12:45 - Validation Loss: -0.2914Regenning Datset\n",
      "182200/300000 [=================>............] - ETA: 5:08:46 - Validation Loss: -0.2889Regenning Datset\n",
      "183800/300000 [=================>............] - ETA: 5:04:30 - Validation Loss: -0.2865Regenning Datset\n",
      "185300/300000 [=================>............] - ETA: 5:00:30 - Validation Loss: -0.2840Regenning Datset\n",
      "186800/300000 [=================>............] - ETA: 4:56:31 - Validation Loss: -0.2813Regenning Datset\n",
      "188400/300000 [=================>............] - ETA: 4:52:16 - Validation Loss: -0.2783Regenning Datset\n",
      "189900/300000 [=================>............] - ETA: 4:48:17 - Validation Loss: -0.2751Regenning Datset\n",
      "191500/300000 [==================>...........] - ETA: 4:44:03 - Validation Loss: -0.2715Regenning Datset\n",
      "193000/300000 [==================>...........] - ETA: 4:40:06 - Validation Loss: -0.2690Regenning Datset\n",
      "194500/300000 [==================>...........] - ETA: 4:36:07 - Validation Loss: -0.2668Regenning Datset\n",
      "196100/300000 [==================>...........] - ETA: 4:31:53 - Validation Loss: -0.2640Regenning Datset\n",
      "197600/300000 [==================>...........] - ETA: 4:27:55 - Validation Loss: -0.2625Regenning Datset\n",
      "199100/300000 [==================>...........] - ETA: 4:23:56 - Validation Loss: -0.2599Regenning Datset\n",
      "200700/300000 [===================>..........] - ETA: 4:19:43 - Validation Loss: -0.2583Regenning Datset\n",
      "202200/300000 [===================>..........] - ETA: 4:15:45 - Validation Loss: -0.2563Regenning Datset\n",
      "203800/300000 [===================>..........] - ETA: 4:11:31 - Validation Loss: -0.2548Regenning Datset\n",
      "205300/300000 [===================>..........] - ETA: 4:07:34 - Validation Loss: -0.2533Regenning Datset\n",
      "206800/300000 [===================>..........] - ETA: 4:03:36 - Validation Loss: -0.2516Regenning Datset\n",
      "208400/300000 [===================>..........] - ETA: 3:59:23 - Validation Loss: -0.2498Regenning Datset\n",
      "209900/300000 [===================>..........] - ETA: 3:55:26 - Validation Loss: -0.2474Regenning Datset\n",
      "211500/300000 [====================>.........] - ETA: 3:51:13 - Validation Loss: -0.2455Regenning Datset\n",
      "213000/300000 [====================>.........] - ETA: 3:47:16 - Validation Loss: -0.2438Regenning Datset\n",
      "214500/300000 [====================>.........] - ETA: 3:43:20 - Validation Loss: -0.2427Regenning Datset\n",
      "216100/300000 [====================>.........] - ETA: 3:39:08 - Validation Loss: -0.2409Regenning Datset\n",
      "217600/300000 [====================>.........] - ETA: 3:35:12 - Validation Loss: -0.2396Regenning Datset\n",
      "219200/300000 [====================>.........] - ETA: 3:30:59 - Validation Loss: -0.2381Regenning Datset\n",
      "220700/300000 [=====================>........] - ETA: 3:27:03 - Validation Loss: -0.2362Regenning Datset\n",
      "222200/300000 [=====================>........] - ETA: 3:23:07 - Validation Loss: -0.2350Regenning Datset\n",
      "223800/300000 [=====================>........] - ETA: 3:18:56 - Validation Loss: -0.2336Regenning Datset\n",
      "225300/300000 [=====================>........] - ETA: 3:15:01 - Validation Loss: -0.2320Regenning Datset\n",
      "226800/300000 [=====================>........] - ETA: 3:11:06 - Validation Loss: -0.2308Regenning Datset\n",
      "228400/300000 [=====================>........] - ETA: 3:06:54 - Validation Loss: -0.2297Regenning Datset\n",
      "229900/300000 [=====================>........] - ETA: 3:02:59 - Validation Loss: -0.2288Regenning Datset\n",
      "231500/300000 [======================>.......] - ETA: 2:58:48 - Validation Loss: -0.2279Regenning Datset\n",
      "233000/300000 [======================>.......] - ETA: 2:54:53 - Validation Loss: -0.2266Regenning Datset\n",
      "234500/300000 [======================>.......] - ETA: 2:50:58 - Validation Loss: -0.2256Regenning Datset\n",
      "236100/300000 [======================>.......] - ETA: 2:46:47 - Validation Loss: -0.2235Regenning Datset\n",
      "237600/300000 [======================>.......] - ETA: 2:42:53 - Validation Loss: -0.2219Regenning Datset\n",
      "239200/300000 [======================>.......] - ETA: 2:38:42 - Validation Loss: -0.2203Regenning Datset\n",
      "240700/300000 [=======================>......] - ETA: 2:34:48 - Validation Loss: -0.2192Regenning Datset\n",
      "242200/300000 [=======================>......] - ETA: 2:30:53 - Validation Loss: -0.2182Regenning Datset\n",
      "243800/300000 [=======================>......] - ETA: 2:26:43 - Validation Loss: -0.2167Regenning Datset\n",
      "245300/300000 [=======================>......] - ETA: 2:22:48 - Validation Loss: -0.2160Regenning Datset\n",
      "246900/300000 [=======================>......] - ETA: 2:18:38 - Validation Loss: -0.2147Regenning Datset\n",
      "248400/300000 [=======================>......] - ETA: 2:14:44 - Validation Loss: -0.2140Regenning Datset\n",
      "249900/300000 [=======================>......] - ETA: 2:10:50 - Validation Loss: -0.2135Regenning Datset\n",
      "251500/300000 [========================>.....] - ETA: 2:06:40 - Validation Loss: -0.2126Regenning Datset\n"
     ]
    },
    {
     "name": "stdout",
     "output_type": "stream",
     "text": [
      "253000/300000 [========================>.....] - ETA: 2:02:46 - Validation Loss: -0.2119Regenning Datset\n",
      "254600/300000 [========================>.....] - ETA: 1:58:36 - Validation Loss: -0.2110Regenning Datset\n",
      "255800/300000 [========================>.....] - ETA: 1:55:29 - Validation Loss: -0.2101"
     ]
    },
    {
     "ename": "KeyboardInterrupt",
     "evalue": "",
     "output_type": "error",
     "traceback": [
      "\u001b[0;31m---------------------------------------------------------------------------\u001b[0m",
      "\u001b[0;31mKeyboardInterrupt\u001b[0m                         Traceback (most recent call last)",
      "\u001b[0;32m<ipython-input-23-f4b1f221ed28>\u001b[0m in \u001b[0;36m<module>\u001b[0;34m\u001b[0m\n\u001b[1;32m     21\u001b[0m     \u001b[0;31m#train_obs,train_acts,train_goals, train_mask = sample_sequence_batch(train_data)\u001b[0m\u001b[0;34m\u001b[0m\u001b[0;34m\u001b[0m\u001b[0;34m\u001b[0m\u001b[0m\n\u001b[1;32m     22\u001b[0m     \u001b[0mt2\u001b[0m \u001b[0;34m=\u001b[0m \u001b[0mtime\u001b[0m\u001b[0;34m.\u001b[0m\u001b[0mtime\u001b[0m\u001b[0;34m(\u001b[0m\u001b[0;34m)\u001b[0m\u001b[0;34m\u001b[0m\u001b[0;34m\u001b[0m\u001b[0m\n\u001b[0;32m---> 23\u001b[0;31m     \u001b[0mloss\u001b[0m\u001b[0;34m,\u001b[0m \u001b[0msampled_l\u001b[0m \u001b[0;34m=\u001b[0m \u001b[0mtrain_step\u001b[0m\u001b[0;34m(\u001b[0m\u001b[0mtrain_obs\u001b[0m\u001b[0;34m,\u001b[0m\u001b[0mtrain_acts\u001b[0m\u001b[0;34m,\u001b[0m\u001b[0mtrain_goals\u001b[0m\u001b[0;34m,\u001b[0m \u001b[0mmodel\u001b[0m\u001b[0;34m,\u001b[0m \u001b[0moptimizer\u001b[0m\u001b[0;34m,\u001b[0m \u001b[0mtrain_mask\u001b[0m\u001b[0;34m)\u001b[0m\u001b[0;34m\u001b[0m\u001b[0;34m\u001b[0m\u001b[0m\n\u001b[0m\u001b[1;32m     24\u001b[0m     \u001b[0mt3\u001b[0m \u001b[0;34m=\u001b[0m \u001b[0mtime\u001b[0m\u001b[0;34m.\u001b[0m\u001b[0mtime\u001b[0m\u001b[0;34m(\u001b[0m\u001b[0;34m)\u001b[0m\u001b[0;34m\u001b[0m\u001b[0;34m\u001b[0m\u001b[0m\n\u001b[1;32m     25\u001b[0m     \u001b[0mdata_time\u001b[0m\u001b[0;34m.\u001b[0m\u001b[0mappend\u001b[0m\u001b[0;34m(\u001b[0m\u001b[0mt2\u001b[0m\u001b[0;34m-\u001b[0m\u001b[0mt1\u001b[0m\u001b[0;34m)\u001b[0m\u001b[0;34m\u001b[0m\u001b[0;34m\u001b[0m\u001b[0m\n",
      "\u001b[0;32m~/anaconda3/lib/python3.7/site-packages/tensorflow/python/eager/def_function.py\u001b[0m in \u001b[0;36m__call__\u001b[0;34m(self, *args, **kwds)\u001b[0m\n\u001b[1;32m    778\u001b[0m       \u001b[0;32melse\u001b[0m\u001b[0;34m:\u001b[0m\u001b[0;34m\u001b[0m\u001b[0;34m\u001b[0m\u001b[0m\n\u001b[1;32m    779\u001b[0m         \u001b[0mcompiler\u001b[0m \u001b[0;34m=\u001b[0m \u001b[0;34m\"nonXla\"\u001b[0m\u001b[0;34m\u001b[0m\u001b[0;34m\u001b[0m\u001b[0m\n\u001b[0;32m--> 780\u001b[0;31m         \u001b[0mresult\u001b[0m \u001b[0;34m=\u001b[0m \u001b[0mself\u001b[0m\u001b[0;34m.\u001b[0m\u001b[0m_call\u001b[0m\u001b[0;34m(\u001b[0m\u001b[0;34m*\u001b[0m\u001b[0margs\u001b[0m\u001b[0;34m,\u001b[0m \u001b[0;34m**\u001b[0m\u001b[0mkwds\u001b[0m\u001b[0;34m)\u001b[0m\u001b[0;34m\u001b[0m\u001b[0;34m\u001b[0m\u001b[0m\n\u001b[0m\u001b[1;32m    781\u001b[0m \u001b[0;34m\u001b[0m\u001b[0m\n\u001b[1;32m    782\u001b[0m       \u001b[0mnew_tracing_count\u001b[0m \u001b[0;34m=\u001b[0m \u001b[0mself\u001b[0m\u001b[0;34m.\u001b[0m\u001b[0m_get_tracing_count\u001b[0m\u001b[0;34m(\u001b[0m\u001b[0;34m)\u001b[0m\u001b[0;34m\u001b[0m\u001b[0;34m\u001b[0m\u001b[0m\n",
      "\u001b[0;32m~/anaconda3/lib/python3.7/site-packages/tensorflow/python/eager/def_function.py\u001b[0m in \u001b[0;36m_call\u001b[0;34m(self, *args, **kwds)\u001b[0m\n\u001b[1;32m    805\u001b[0m       \u001b[0;31m# In this case we have created variables on the first call, so we run the\u001b[0m\u001b[0;34m\u001b[0m\u001b[0;34m\u001b[0m\u001b[0;34m\u001b[0m\u001b[0m\n\u001b[1;32m    806\u001b[0m       \u001b[0;31m# defunned version which is guaranteed to never create variables.\u001b[0m\u001b[0;34m\u001b[0m\u001b[0;34m\u001b[0m\u001b[0;34m\u001b[0m\u001b[0m\n\u001b[0;32m--> 807\u001b[0;31m       \u001b[0;32mreturn\u001b[0m \u001b[0mself\u001b[0m\u001b[0;34m.\u001b[0m\u001b[0m_stateless_fn\u001b[0m\u001b[0;34m(\u001b[0m\u001b[0;34m*\u001b[0m\u001b[0margs\u001b[0m\u001b[0;34m,\u001b[0m \u001b[0;34m**\u001b[0m\u001b[0mkwds\u001b[0m\u001b[0;34m)\u001b[0m  \u001b[0;31m# pylint: disable=not-callable\u001b[0m\u001b[0;34m\u001b[0m\u001b[0;34m\u001b[0m\u001b[0m\n\u001b[0m\u001b[1;32m    808\u001b[0m     \u001b[0;32melif\u001b[0m \u001b[0mself\u001b[0m\u001b[0;34m.\u001b[0m\u001b[0m_stateful_fn\u001b[0m \u001b[0;32mis\u001b[0m \u001b[0;32mnot\u001b[0m \u001b[0;32mNone\u001b[0m\u001b[0;34m:\u001b[0m\u001b[0;34m\u001b[0m\u001b[0;34m\u001b[0m\u001b[0m\n\u001b[1;32m    809\u001b[0m       \u001b[0;31m# Release the lock early so that multiple threads can perform the call\u001b[0m\u001b[0;34m\u001b[0m\u001b[0;34m\u001b[0m\u001b[0;34m\u001b[0m\u001b[0m\n",
      "\u001b[0;32m~/anaconda3/lib/python3.7/site-packages/tensorflow/python/eager/function.py\u001b[0m in \u001b[0;36m__call__\u001b[0;34m(self, *args, **kwargs)\u001b[0m\n\u001b[1;32m   2827\u001b[0m     \u001b[0;32mwith\u001b[0m \u001b[0mself\u001b[0m\u001b[0;34m.\u001b[0m\u001b[0m_lock\u001b[0m\u001b[0;34m:\u001b[0m\u001b[0;34m\u001b[0m\u001b[0;34m\u001b[0m\u001b[0m\n\u001b[1;32m   2828\u001b[0m       \u001b[0mgraph_function\u001b[0m\u001b[0;34m,\u001b[0m \u001b[0margs\u001b[0m\u001b[0;34m,\u001b[0m \u001b[0mkwargs\u001b[0m \u001b[0;34m=\u001b[0m \u001b[0mself\u001b[0m\u001b[0;34m.\u001b[0m\u001b[0m_maybe_define_function\u001b[0m\u001b[0;34m(\u001b[0m\u001b[0margs\u001b[0m\u001b[0;34m,\u001b[0m \u001b[0mkwargs\u001b[0m\u001b[0;34m)\u001b[0m\u001b[0;34m\u001b[0m\u001b[0;34m\u001b[0m\u001b[0m\n\u001b[0;32m-> 2829\u001b[0;31m     \u001b[0;32mreturn\u001b[0m \u001b[0mgraph_function\u001b[0m\u001b[0;34m.\u001b[0m\u001b[0m_filtered_call\u001b[0m\u001b[0;34m(\u001b[0m\u001b[0margs\u001b[0m\u001b[0;34m,\u001b[0m \u001b[0mkwargs\u001b[0m\u001b[0;34m)\u001b[0m  \u001b[0;31m# pylint: disable=protected-access\u001b[0m\u001b[0;34m\u001b[0m\u001b[0;34m\u001b[0m\u001b[0m\n\u001b[0m\u001b[1;32m   2830\u001b[0m \u001b[0;34m\u001b[0m\u001b[0m\n\u001b[1;32m   2831\u001b[0m   \u001b[0;34m@\u001b[0m\u001b[0mproperty\u001b[0m\u001b[0;34m\u001b[0m\u001b[0;34m\u001b[0m\u001b[0m\n",
      "\u001b[0;32m~/anaconda3/lib/python3.7/site-packages/tensorflow/python/eager/function.py\u001b[0m in \u001b[0;36m_filtered_call\u001b[0;34m(self, args, kwargs, cancellation_manager)\u001b[0m\n\u001b[1;32m   1846\u001b[0m                            resource_variable_ops.BaseResourceVariable))],\n\u001b[1;32m   1847\u001b[0m         \u001b[0mcaptured_inputs\u001b[0m\u001b[0;34m=\u001b[0m\u001b[0mself\u001b[0m\u001b[0;34m.\u001b[0m\u001b[0mcaptured_inputs\u001b[0m\u001b[0;34m,\u001b[0m\u001b[0;34m\u001b[0m\u001b[0;34m\u001b[0m\u001b[0m\n\u001b[0;32m-> 1848\u001b[0;31m         cancellation_manager=cancellation_manager)\n\u001b[0m\u001b[1;32m   1849\u001b[0m \u001b[0;34m\u001b[0m\u001b[0m\n\u001b[1;32m   1850\u001b[0m   \u001b[0;32mdef\u001b[0m \u001b[0m_call_flat\u001b[0m\u001b[0;34m(\u001b[0m\u001b[0mself\u001b[0m\u001b[0;34m,\u001b[0m \u001b[0margs\u001b[0m\u001b[0;34m,\u001b[0m \u001b[0mcaptured_inputs\u001b[0m\u001b[0;34m,\u001b[0m \u001b[0mcancellation_manager\u001b[0m\u001b[0;34m=\u001b[0m\u001b[0;32mNone\u001b[0m\u001b[0;34m)\u001b[0m\u001b[0;34m:\u001b[0m\u001b[0;34m\u001b[0m\u001b[0;34m\u001b[0m\u001b[0m\n",
      "\u001b[0;32m~/anaconda3/lib/python3.7/site-packages/tensorflow/python/eager/function.py\u001b[0m in \u001b[0;36m_call_flat\u001b[0;34m(self, args, captured_inputs, cancellation_manager)\u001b[0m\n\u001b[1;32m   1922\u001b[0m       \u001b[0;31m# No tape is watching; skip to running the function.\u001b[0m\u001b[0;34m\u001b[0m\u001b[0;34m\u001b[0m\u001b[0;34m\u001b[0m\u001b[0m\n\u001b[1;32m   1923\u001b[0m       return self._build_call_outputs(self._inference_function.call(\n\u001b[0;32m-> 1924\u001b[0;31m           ctx, args, cancellation_manager=cancellation_manager))\n\u001b[0m\u001b[1;32m   1925\u001b[0m     forward_backward = self._select_forward_and_backward_functions(\n\u001b[1;32m   1926\u001b[0m         \u001b[0margs\u001b[0m\u001b[0;34m,\u001b[0m\u001b[0;34m\u001b[0m\u001b[0;34m\u001b[0m\u001b[0m\n",
      "\u001b[0;32m~/anaconda3/lib/python3.7/site-packages/tensorflow/python/eager/function.py\u001b[0m in \u001b[0;36mcall\u001b[0;34m(self, ctx, args, cancellation_manager)\u001b[0m\n\u001b[1;32m    548\u001b[0m               \u001b[0minputs\u001b[0m\u001b[0;34m=\u001b[0m\u001b[0margs\u001b[0m\u001b[0;34m,\u001b[0m\u001b[0;34m\u001b[0m\u001b[0;34m\u001b[0m\u001b[0m\n\u001b[1;32m    549\u001b[0m               \u001b[0mattrs\u001b[0m\u001b[0;34m=\u001b[0m\u001b[0mattrs\u001b[0m\u001b[0;34m,\u001b[0m\u001b[0;34m\u001b[0m\u001b[0;34m\u001b[0m\u001b[0m\n\u001b[0;32m--> 550\u001b[0;31m               ctx=ctx)\n\u001b[0m\u001b[1;32m    551\u001b[0m         \u001b[0;32melse\u001b[0m\u001b[0;34m:\u001b[0m\u001b[0;34m\u001b[0m\u001b[0;34m\u001b[0m\u001b[0m\n\u001b[1;32m    552\u001b[0m           outputs = execute.execute_with_cancellation(\n",
      "\u001b[0;32m~/anaconda3/lib/python3.7/site-packages/tensorflow/python/eager/execute.py\u001b[0m in \u001b[0;36mquick_execute\u001b[0;34m(op_name, num_outputs, inputs, attrs, ctx, name)\u001b[0m\n\u001b[1;32m     58\u001b[0m     \u001b[0mctx\u001b[0m\u001b[0;34m.\u001b[0m\u001b[0mensure_initialized\u001b[0m\u001b[0;34m(\u001b[0m\u001b[0;34m)\u001b[0m\u001b[0;34m\u001b[0m\u001b[0;34m\u001b[0m\u001b[0m\n\u001b[1;32m     59\u001b[0m     tensors = pywrap_tfe.TFE_Py_Execute(ctx._handle, device_name, op_name,\n\u001b[0;32m---> 60\u001b[0;31m                                         inputs, attrs, num_outputs)\n\u001b[0m\u001b[1;32m     61\u001b[0m   \u001b[0;32mexcept\u001b[0m \u001b[0mcore\u001b[0m\u001b[0;34m.\u001b[0m\u001b[0m_NotOkStatusException\u001b[0m \u001b[0;32mas\u001b[0m \u001b[0me\u001b[0m\u001b[0;34m:\u001b[0m\u001b[0;34m\u001b[0m\u001b[0;34m\u001b[0m\u001b[0m\n\u001b[1;32m     62\u001b[0m     \u001b[0;32mif\u001b[0m \u001b[0mname\u001b[0m \u001b[0;32mis\u001b[0m \u001b[0;32mnot\u001b[0m \u001b[0;32mNone\u001b[0m\u001b[0;34m:\u001b[0m\u001b[0;34m\u001b[0m\u001b[0;34m\u001b[0m\u001b[0m\n",
      "\u001b[0;31mKeyboardInterrupt\u001b[0m: "
     ]
    }
   ],
   "source": [
    "\n",
    "# Repeat datasets indefinitely\n",
    "valid_data_iter = iter(tf_valid_data.repeat(-1))\n",
    "#train_data_iter = iter(tf_train_data.repeat(-1))\n",
    "\n",
    "# TODO RAY async trajectories in background so we can watch it's learning progress.\n",
    "# We want to reshuffle the datset each time\n",
    "\n",
    "train_data_iter = iter(rsd.create_tf_ds('train'))\n",
    "\n",
    "t0  = time.time()\n",
    "for t in range(len(steps),n_steps):\n",
    "    t1= time.time()\n",
    "    try:\n",
    "        train_obs,train_acts,train_goals, train_mask, _,_  = train_data_iter.next()\n",
    "    except:\n",
    "        print('Regenning Datset')\n",
    "        train_data_iter= iter(rsd.create_tf_ds('train'))\n",
    "        train_obs,train_acts,train_goals, train_mask, _,_  = train_data_iter.next()\n",
    "        \n",
    "    #train_obs,train_acts,train_goals, train_mask = sample_sequence_batch(train_data)\n",
    "    t2 = time.time()\n",
    "    loss, sampled_l = train_step(train_obs,train_acts,train_goals, model, optimizer, train_mask)\n",
    "    t3 = time.time()\n",
    "    data_time.append(t2-t1)\n",
    "    train_time.append(t3-t2)\n",
    "    steps.append(t)\n",
    "    losses.append(loss)\n",
    "    sampled_ls.append(sampled_l.numpy())\n",
    "    if t % 100 == 0:\n",
    "        valid_steps.append(t)\n",
    "        valid_obs, valid_acts, valid_goals, valid_mask,_,_ = valid_data_iter.next()\n",
    "        #valid_obs, valid_acts, valid_goals, valid_mask = sample_sequence_batch(valid_data)\n",
    "        valid_loss, valid_sampled_l = step(valid_obs, valid_acts, valid_goals, model, valid_mask)\n",
    "        valid_losses.append(valid_loss)\n",
    "        valid_sampled_ls.append(valid_sampled_l.numpy())\n",
    "        progbar.add(100, [('Validation Loss', valid_loss)])\n",
    "        if valid_loss.numpy() <= best_valid_loss:\n",
    "            model.save_weights('saved_models/ONEOBJ_play/model')\n",
    "            best_valid_loss = valid_loss.numpy()\n",
    "        \n",
    "        #print(t, valid_loss)\n",
    "    \n",
    "    \n",
    "plt.plot(steps, losses)\n",
    "plt.plot(valid_steps, valid_losses)\n",
    "print(f\"Total time was {time.time()-t0}\")"
   ]
  },
  {
   "cell_type": "code",
   "execution_count": 32,
   "metadata": {},
   "outputs": [
    {
     "data": {
      "text/plain": [
       "<matplotlib.legend.Legend at 0x7ff5883c9198>"
      ]
     },
     "execution_count": 32,
     "metadata": {},
     "output_type": "execute_result"
    },
    {
     "data": {
      "image/png": "[encoded data removed]",
      "text/plain": [
       "<Figure size 432x288 with 1 Axes>"
      ]
     },
     "metadata": {
      "needs_background": "light"
     },
     "output_type": "display_data"
    }
   ],
   "source": [
    "plt.plot(valid_steps[len(valid_steps)//5:], np.array(valid_sampled_ls)[len(valid_steps)//5:,:])\n",
    "plt.legend(np.arange(0,8))"
   ]
  },
  {
   "cell_type": "code",
   "execution_count": 40,
   "metadata": {},
   "outputs": [
    {
     "data": {
      "text/plain": [
       "<matplotlib.legend.Legend at 0x7ff49dd0ceb8>"
      ]
     },
     "execution_count": 40,
     "metadata": {},
     "output_type": "execute_result"
    },
    {
     "data": {
      "image/png": "[encoded data removed]",
      "text/plain": [
       "<Figure size 432x288 with 1 Axes>"
      ]
     },
     "metadata": {
      "needs_background": "light"
     },
     "output_type": "display_data"
    }
   ],
   "source": [
    "plt.plot(valid_steps, np.array(valid_sampled_ls))\n",
    "plt.legend(np.arange(0,8))"
   ]
  },
  {
   "cell_type": "code",
   "execution_count": 43,
   "metadata": {},
   "outputs": [
    {
     "data": {
      "text/plain": [
       "<matplotlib.legend.Legend at 0x7ff484f80e48>"
      ]
     },
     "execution_count": 43,
     "metadata": {},
     "output_type": "execute_result"
    },
    {
     "data": {
      "image/png": "[encoded data removed]",
      "text/plain": [
       "<Figure size 432x288 with 1 Axes>"
      ]
     },
     "metadata": {
      "needs_background": "light"
     },
     "output_type": "display_data"
    }
   ],
   "source": [
    "plt.plot(steps[:-1], np.array(sampled_ls)[:,:])\n",
    "plt.legend(np.arange(0,8))"
   ]
  },
  {
   "cell_type": "code",
   "execution_count": 44,
   "metadata": {},
   "outputs": [
    {
     "data": {
      "text/plain": [
       "<matplotlib.legend.Legend at 0x7ff484f709b0>"
      ]
     },
     "execution_count": 44,
     "metadata": {},
     "output_type": "execute_result"
    },
    {
     "data": {
      "image/png": "[encoded data removed]",
      "text/plain": [
       "<Figure size 432x288 with 1 Axes>"
      ]
     },
     "metadata": {
      "needs_background": "light"
     },
     "output_type": "display_data"
    }
   ],
   "source": [
    "plt.plot(steps[:-1], np.log(np.array(sampled_ls)[:,:]))\n",
    "plt.legend(np.arange(0,8))"
   ]
  },
  {
   "cell_type": "code",
   "execution_count": 31,
   "metadata": {},
   "outputs": [
    {
     "data": {
      "text/plain": [
       "array([0, 1, 2, 3, 4, 5, 6, 7])"
      ]
     },
     "execution_count": 31,
     "metadata": {},
     "output_type": "execute_result"
    }
   ],
   "source": [
    "np.arange(0,8)"
   ]
  },
  {
   "cell_type": "code",
   "execution_count": 24,
   "metadata": {},
   "outputs": [
    {
     "data": {
      "text/plain": [
       "[<matplotlib.lines.Line2D at 0x7ff5c43640f0>]"
      ]
     },
     "execution_count": 24,
     "metadata": {},
     "output_type": "execute_result"
    },
    {
     "data": {
      "image/png": "[encoded data removed]",
      "text/plain": [
       "<Figure size 432x288 with 1 Axes>"
      ]
     },
     "metadata": {
      "needs_background": "light"
     },
     "output_type": "display_data"
    }
   ],
   "source": [
    "    \n",
    "plt.plot(steps, losses)\n",
    "plt.plot(valid_steps, valid_losses)"
   ]
  },
  {
   "cell_type": "code",
   "execution_count": 17,
   "metadata": {},
   "outputs": [
    {
     "name": "stdout",
     "output_type": "stream",
     "text": [
      "(<tf.Tensor: shape=(), dtype=float32, numpy=3.9090295>, <tf.Tensor: shape=(8,), dtype=float32, numpy=\n",
      "array([0.01546957, 0.02166959, 0.01402429, 0.02576317, 0.0327089 ,\n",
      "       0.02573003, 0.02735469, 0.00450491], dtype=float32)>)\n"
     ]
    }
   ],
   "source": [
    "# Maybe load model \n",
    "valid_data_iter = iter(tf_valid_data.repeat(-1))\n",
    "valid_obs, valid_acts, valid_goals, valid_mask,_,_ = valid_data_iter.next()\n",
    "#valid_obs, valid_acts, valid_goals, valid_mask = sample_sequence_batch(valid_data)\n",
    "valid_loss = step(valid_obs, valid_acts, valid_goals, model, valid_mask)\n",
    "model.load_weights('saved_models/good1obj2048')\n",
    "valid_loss = step(valid_obs, valid_acts, valid_goals, model, valid_mask)\n",
    "print(valid_loss)"
   ]
  },
  {
   "cell_type": "code",
   "execution_count": null,
   "metadata": {
    "pycharm": {
     "name": "#%%\n"
    }
   },
   "outputs": [],
   "source": [
    "print(sum(data_time), sum(train_time)) #Tristan pls fix my retarded data input pipieline"
   ]
  },
  {
   "cell_type": "code",
   "execution_count": null,
   "metadata": {
    "pycharm": {
     "name": "#%%\n"
    }
   },
   "outputs": [],
   "source": [
    "model.summary()"
   ]
  },
  {
   "cell_type": "code",
   "execution_count": 25,
   "metadata": {},
   "outputs": [],
   "source": [
    "model.save_weights('good1obj2048')"
   ]
  },
  {
   "cell_type": "code",
   "execution_count": null,
   "metadata": {
    "pycharm": {
     "name": "#%%\n"
    }
   },
   "outputs": [],
   "source": [
    "# for i in range(0, g.shape[-1]):\n",
    "#     plt.hist( g[:, :, i])\n",
    "#     plt.show()"
   ]
  },
  {
   "cell_type": "markdown",
   "metadata": {},
   "source": [
    "# Perfect, Deterministic Reset and Replay"
   ]
  },
  {
   "cell_type": "code",
   "execution_count": 18,
   "metadata": {},
   "outputs": [
    {
     "name": "stdout",
     "output_type": "stream",
     "text": [
      "current_dir=/home/sholto/Desktop/AI/pandaRL/pandaRL/envs\n"
     ]
    },
    {
     "name": "stderr",
     "output_type": "stream",
     "text": [
      "/home/sholto/anaconda3/lib/python3.7/site-packages/gym/logger.py:30: UserWarning: \u001b[33mWARN: Box bound precision lowered by casting to float32\u001b[0m\n",
      "  warnings.warn(colorize('%s: %s'%('WARN', msg % args), 'yellow'))\n"
     ]
    },
    {
     "name": "stdout",
     "output_type": "stream",
     "text": [
      "/home/sholto/Desktop/AI/pandaRL/pandaRL/envs\n"
     ]
    },
    {
     "data": {
      "text/plain": [
       "{'observation': array([-6.6357821e-02,  2.3580584e-01,  7.9420589e-02, -4.9999976e-01,\n",
       "         4.9999255e-01,  5.0000739e-01,  5.0000030e-01,  0.0000000e+00,\n",
       "        -1.2918808e-01,  2.8176775e-02, -2.7010278e-04,  4.0200380e-14,\n",
       "        -7.2021755e-15,  1.7250815e-14,  1.0000000e+00,  8.0247079e-35,\n",
       "         0.0000000e+00,  4.3836804e-03,  0.0000000e+00], dtype=float32),\n",
       " 'achieved_goal': array([-1.2918808e-01,  2.8176775e-02, -2.7010278e-04,  4.0200380e-14,\n",
       "        -7.2021755e-15,  1.7250815e-14,  1.0000000e+00,  8.0247079e-35,\n",
       "         0.0000000e+00,  4.3836804e-03,  0.0000000e+00], dtype=float32),\n",
       " 'desired_goal': array([-0.15364923,  0.07796738,  0.08020185], dtype=float32),\n",
       " 'controllable_achieved_goal': array([-0.06635782,  0.23580584,  0.07942059,  0.        ], dtype=float32),\n",
       " 'full_positional_state': array([-6.6357821e-02,  2.3580584e-01,  7.9420589e-02, -4.9999976e-01,\n",
       "         4.9999255e-01,  5.0000739e-01,  5.0000030e-01,  0.0000000e+00,\n",
       "        -1.2918808e-01,  2.8176775e-02, -2.7010278e-04,  4.0200380e-14,\n",
       "        -7.2021755e-15,  1.7250815e-14,  1.0000000e+00,  8.0247079e-35,\n",
       "         0.0000000e+00,  4.3836804e-03,  0.0000000e+00], dtype=float32),\n",
       " 'joints': [0.15757187652755078,\n",
       "  0.5343905526459432,\n",
       "  -0.09882516255410932,\n",
       "  -2.3458588487405696,\n",
       "  1.6538633001578,\n",
       "  1.5412372271471848,\n",
       "  1.0519325907616264,\n",
       "  0.0],\n",
       " 'img': None}"
      ]
     },
     "execution_count": 18,
     "metadata": {},
     "output_type": "execute_result"
    }
   ],
   "source": [
    "import gym\n",
    "import time\n",
    "import pandaRL\n",
    "if RELATIVE_JOINTS:\n",
    "    env = gym.make('pandaPlayJoints1Obj-v0')\n",
    "    #env = gym.make('pandaPlayJoints-v0')\n",
    "else:\n",
    "    env = gym.make('pandaPlay-v0')\n",
    "env.render('human')\n",
    "env.reset()"
   ]
  },
  {
   "cell_type": "code",
   "execution_count": 103,
   "metadata": {},
   "outputs": [
    {
     "name": "stdout",
     "output_type": "stream",
     "text": [
      "\n",
      " Test: door_left\n",
      "0/1 [==============>...............] - ETA: 0s - L1: 0.0132\n",
      " Test: door_right\n",
      "0/1 [=================>............] - ETA: 0s - L1: 0.0103\n",
      " Test: open_drawer\n",
      "0/1 [..............................] - ETA: 0s - L1: 0.0183\n",
      " Test: close_drawer\n",
      "0/1 [=====================>........] - ETA: 0s - L1: 0.0046\n",
      " Test: push_left\n",
      "0/1 [......................................................] - ETA: 0s - L1: 0.0328\n",
      " Test: push_right\n",
      "0/1 [................................................] - ETA: 0s - L1: 0.0292\n",
      " Test: block_in_cupboard_right\n",
      "0/1 [..............................] - ETA: 0s - L1: 0.0413\n",
      " Test: block_in_cupboard_left\n",
      "0/1 [..............................] - ETA: 0s - L1: 0.0410\n",
      " Test: block_in_cupboard_right_upright\n",
      "0/1 [..............................] - ETA: 0s - L1: 0.0423\n",
      " Test: block_in_cupboard_left_upright\n",
      "0/1 [..............................] - ETA: 0s - L1: 0.0426\n",
      " Test: block_default_to_upright\n",
      "0/1 [................................] - ETA: 0s - L1: 0.1022\n",
      " Test: block_lengthways_to_upright\n",
      "0/1 [................................] - ETA: 0s - L1: 0.1434\n",
      " Test: block_default_to_lengthways\n",
      "0/1 [..............................] - ETA: 0s - L1: 0.0919\n",
      " Test: block_lengthways_to_default\n",
      "0/1 [..................................] - ETA: 0s - L1: 0.1036\n",
      " Test: press_button\n",
      "0/1 [...............................] - ETA: 0s - L1: 0.0027\n",
      " Test: block_on_shelf\n",
      "-2/1 [............................................................................................................] - ETA: 0s - L1: 0.1692\n",
      " Test: block_in_open_drawer\n",
      "0/1 [...............................................] - ETA: 0s - L1: 0.0840\n",
      " Test: block_in_open_drawer_lengthways\n",
      "0/1 [..............................] - ETA: 0s - L1: 0.0537\n",
      " Test: press_button_with_door_obstacle\n",
      "0/1 [..................................................] - ETA: 0s - L1: 0.0504\n",
      " Test: block_in_drawer_and_close\n",
      "0/1 [..........................................] - ETA: 0s - L1: 0.0691"
     ]
    }
   ],
   "source": [
    "# Ok so the loop is\n",
    "\n",
    "# Get the test and goal\n",
    "# reset to the test state \n",
    "# get ag\n",
    "# \n",
    "\n",
    "import tests\n",
    "from importlib import reload\n",
    "reload(tests)\n",
    "\n",
    "for test in tests.test_list:\n",
    "    # get the goal and reset to the init position\n",
    "    print(f\"\\n Test: {test.__name__}\")\n",
    "    \n",
    "    goal = tf.expand_dims(test(env),0)\n",
    "    state = env.panda.calc_state()\n",
    "    o = tf.expand_dims(state['observation'],0)\n",
    "    initial_ag = state['achieved_goal']\n",
    "\n",
    "    retries = 1\n",
    "    for i in range(0,retries):\n",
    "        past_state = [None, None]\n",
    "        for i in range(0, rsd.MAX_SEQ_LEN):\n",
    "            # Update this to the colab style model (I was just using the old one I trained)\n",
    "            distrib, past_state = model(o, goal,  past_state = past_state)\n",
    "            a = distrib.sample().numpy().squeeze() \n",
    "            o, r, d, _ = env.step(a)\n",
    "            o = tf.expand_dims(o['observation'], 0)\n",
    "            \n",
    "    state = env.panda.calc_state()\n",
    "    final_ag = state['achieved_goal']\n",
    "    \n",
    "    tests.measure_progress(initial_ag, final_ag, np.squeeze(goal.numpy()))\n",
    "            \n",
    "    "
   ]
  },
  {
   "cell_type": "code",
   "execution_count": 68,
   "metadata": {},
   "outputs": [],
   "source": []
  },
  {
   "cell_type": "code",
   "execution_count": 70,
   "metadata": {},
   "outputs": [],
   "source": [
    "np.set_printoptions(precision=2, suppress=True)"
   ]
  },
  {
   "cell_type": "code",
   "execution_count": 94,
   "metadata": {},
   "outputs": [
    {
     "name": "stdout",
     "output_type": "stream",
     "text": [
      "i [0.   0.2  0.   0.   0.   0.   1.   0.15 0.   0.03 0.  ]\n",
      "f [ 0.    0.2  -0.   -0.   -0.    0.    1.    0.15 -0.15  0.03  0.  ]\n",
      "g [ 0.    0.2   0.    0.    0.    0.    1.   -0.15  0.    0.03  0.  ]\n",
      "fe [0.  0.  0.  0.  0.  0.  0.  0.3 0.  0.  0. ]\n",
      "p [0.   0.   0.   0.   0.   0.   0.   0.3  0.15 0.   0.  ]\n"
     ]
    }
   ],
   "source": [
    "state = env.panda.calc_state()\n",
    "final_ag = state['achieved_goal']\n",
    "end_goal = np.squeeze(goal.numpy())\n",
    "print('i', initial_ag)\n",
    "print('f', final_ag)\n",
    "print('g', end_goal)\n",
    "initial_distance = abs(end_goal - initial_ag)\n",
    "print('fe',initial_distance)\n",
    "final_distance = abs(end_goal - final_ag)\n",
    "print('p', final_distance)\n",
    "print(np.mean(initial_distance), np.mean(final_distance))\n",
    "progress = 1- (np.mean(final_distance) / np.mean(initial_distance))\n",
    "print(progress)\n",
    "#dimensional_progress = (progress)/(full_extent+1e-10)\n",
    "# print('d', dimensional_progress)\n",
    "# mean_progress = np.mean(progress)/np.mean(full_extent)\n",
    "#print(mean_progress)"
   ]
  },
  {
   "cell_type": "code",
   "execution_count": 96,
   "metadata": {},
   "outputs": [
    {
     "name": "stdout",
     "output_type": "stream",
     "text": [
      "0.02727273 0.04100182\n",
      "-0.5033999681472778\n"
     ]
    }
   ],
   "source": [
    "print(np.mean(initial_distance), np.mean(final_distance))\n",
    "progress = 1- (np.mean(final_distance) / np.mean(initial_distance))\n",
    "print(progress)"
   ]
  },
  {
   "cell_type": "code",
   "execution_count": 25,
   "metadata": {},
   "outputs": [],
   "source": [
    "t_it = iter(tf_train_data)\n"
   ]
  },
  {
   "cell_type": "code",
   "execution_count": 26,
   "metadata": {},
   "outputs": [
    {
     "name": "stdout",
     "output_type": "stream",
     "text": [
      "(32, 80, 19) (32, 80, 8) (32, 80, 11) (32, 80)\n"
     ]
    }
   ],
   "source": [
    "o, a, g, m, pth, tsteps = t_it.next()\n",
    "print(o.shape, a.shape, g.shape, m.shape)"
   ]
  },
  {
   "cell_type": "code",
   "execution_count": 13,
   "metadata": {},
   "outputs": [],
   "source": [
    "idx = np.random.choice(len(o))\n",
    "traj_end = len(np.where(m[idx] == 1)[0])-1\n",
    "#env.panda.reset_goal_pos(ag_to_dg(g[idx, traj_end,:]))\n",
    "env.p.restoreState(fileName=dataset_path+'states_and_ims/'+str(int(pth[idx]))+'/env_states/'+str(int(tsteps[idx,0]))+'.bullet')\n",
    "\n"
   ]
  },
  {
   "cell_type": "code",
   "execution_count": 28,
   "metadata": {},
   "outputs": [],
   "source": [
    "for i in range(0, traj_end+1):\n",
    "    #env.p.restoreState(fileName=dataset_path+str(int(pth[idx]))+'/env_states/'+str(int(tsteps[idx,i]))+'.bullet')\n",
    "    #time.sleep(0.1)\n",
    "    env.step(a[idx, i, :])"
   ]
  },
  {
   "cell_type": "code",
   "execution_count": 19,
   "metadata": {},
   "outputs": [],
   "source": [
    "def test_subsequences(t_it, retries = 3, use_ori = True, replay=False):\n",
    "    \n",
    "    \n",
    "    obs, acts, goals, masks, pth, tsteps = t_it.next()\n",
    "    idx = np.random.choice(len(obs))\n",
    "    \n",
    "    \n",
    "    start_idx = str(int(tsteps[idx,0]))\n",
    "    traj_end = len(np.where(masks[idx] == 1)[0])-1\n",
    "    \n",
    "    env.p.restoreState(fileName=dataset_path+'states_and_ims/'+str(int(pth[idx]))+'/env_states/'+str(int(tsteps[idx,0]))+'.bullet')\n",
    "    print(dataset_path+'states_and_ims/'+str(int(pth[idx]))+'/env_states/'+str(int(tsteps[idx,0]))+'.bullet')\n",
    "    o = tf.expand_dims(obs[idx][0],0)\n",
    "    \n",
    "    goal = goals[idx, traj_end,:]\n",
    "    #env.panda.reset_goal_pos(ag_to_dg(goal))\n",
    "    goal = tf.expand_dims(goal, 0)\n",
    "    \n",
    "    \n",
    "    if replay:\n",
    "        retries = 1\n",
    "\n",
    "        \n",
    "    for i in range(0,retries):\n",
    "        past_state = [None, None]\n",
    "        for i in range(0, traj_end+1):\n",
    "\n",
    "            \n",
    "            if not use_ori:\n",
    "                a[3:7] =  np.array(env.panda.default_arm_orn) # because it hasn't ever had to cope with\n",
    "            if replay:\n",
    "                a=acts[idx, i, :] # uncomment this to replay play subsequences\n",
    "            else:\n",
    "                distrib, past_state = model(o, goal,  past_state = past_state)\n",
    "                a = distrib.sample().numpy().squeeze() \n",
    "                \n",
    "            o, r, d, _ = env.step(a)\n",
    "            o = tf.expand_dims(o['observation'], 0)"
   ]
  },
  {
   "cell_type": "code",
   "execution_count": 20,
   "metadata": {},
   "outputs": [
    {
     "name": "stdout",
     "output_type": "stream",
     "text": [
      "data_collection/collected_data/play_one_obj_demos/states_and_ims/2/env_states/798.bullet\n",
      "data_collection/collected_data/play_one_obj_demos/states_and_ims/2/env_states/127.bullet\n",
      "data_collection/collected_data/play_one_obj_demos/states_and_ims/2/env_states/2213.bullet\n",
      "data_collection/collected_data/play_one_obj_demos/states_and_ims/14/env_states/830.bullet\n",
      "data_collection/collected_data/play_one_obj_demos/states_and_ims/14/env_states/4132.bullet\n",
      "data_collection/collected_data/play_one_obj_demos/states_and_ims/14/env_states/4905.bullet\n",
      "data_collection/collected_data/play_one_obj_demos/states_and_ims/14/env_states/2693.bullet\n",
      "data_collection/collected_data/play_one_obj_demos/states_and_ims/2/env_states/829.bullet\n",
      "data_collection/collected_data/play_one_obj_demos/states_and_ims/14/env_states/2429.bullet\n",
      "data_collection/collected_data/play_one_obj_demos/states_and_ims/14/env_states/1141.bullet\n",
      "data_collection/collected_data/play_one_obj_demos/states_and_ims/2/env_states/835.bullet\n"
     ]
    },
    {
     "ename": "KeyboardInterrupt",
     "evalue": "",
     "output_type": "error",
     "traceback": [
      "\u001b[0;31m---------------------------------------------------------------------------\u001b[0m",
      "\u001b[0;31mKeyboardInterrupt\u001b[0m                         Traceback (most recent call last)",
      "\u001b[0;32m<ipython-input-20-31f9fcc61ca7>\u001b[0m in \u001b[0;36m<module>\u001b[0;34m\u001b[0m\n\u001b[1;32m      2\u001b[0m \u001b[0mdata\u001b[0m \u001b[0;34m=\u001b[0m \u001b[0miter\u001b[0m\u001b[0;34m(\u001b[0m\u001b[0mtf_valid_data\u001b[0m\u001b[0;34m)\u001b[0m\u001b[0;34m\u001b[0m\u001b[0;34m\u001b[0m\u001b[0m\n\u001b[1;32m      3\u001b[0m \u001b[0;32mfor\u001b[0m \u001b[0mi\u001b[0m \u001b[0;32min\u001b[0m \u001b[0mrange\u001b[0m\u001b[0;34m(\u001b[0m\u001b[0;36m0\u001b[0m\u001b[0;34m,\u001b[0m\u001b[0;36m100\u001b[0m\u001b[0;34m)\u001b[0m\u001b[0;34m:\u001b[0m\u001b[0;34m\u001b[0m\u001b[0;34m\u001b[0m\u001b[0m\n\u001b[0;32m----> 4\u001b[0;31m     \u001b[0mtest_subsequences\u001b[0m\u001b[0;34m(\u001b[0m\u001b[0mdata\u001b[0m\u001b[0;34m,\u001b[0m \u001b[0mretries\u001b[0m\u001b[0;34m=\u001b[0m\u001b[0;36m2\u001b[0m\u001b[0;34m)\u001b[0m\u001b[0;34m\u001b[0m\u001b[0;34m\u001b[0m\u001b[0m\n\u001b[0m",
      "\u001b[0;32m<ipython-input-19-c8e9b49af0bb>\u001b[0m in \u001b[0;36mtest_subsequences\u001b[0;34m(t_it, retries, use_ori, replay)\u001b[0m\n\u001b[1;32m     35\u001b[0m                 \u001b[0ma\u001b[0m \u001b[0;34m=\u001b[0m \u001b[0mdistrib\u001b[0m\u001b[0;34m.\u001b[0m\u001b[0msample\u001b[0m\u001b[0;34m(\u001b[0m\u001b[0;34m)\u001b[0m\u001b[0;34m.\u001b[0m\u001b[0mnumpy\u001b[0m\u001b[0;34m(\u001b[0m\u001b[0;34m)\u001b[0m\u001b[0;34m.\u001b[0m\u001b[0msqueeze\u001b[0m\u001b[0;34m(\u001b[0m\u001b[0;34m)\u001b[0m\u001b[0;34m\u001b[0m\u001b[0;34m\u001b[0m\u001b[0m\n\u001b[1;32m     36\u001b[0m \u001b[0;34m\u001b[0m\u001b[0m\n\u001b[0;32m---> 37\u001b[0;31m             \u001b[0mo\u001b[0m\u001b[0;34m,\u001b[0m \u001b[0mr\u001b[0m\u001b[0;34m,\u001b[0m \u001b[0md\u001b[0m\u001b[0;34m,\u001b[0m \u001b[0m_\u001b[0m \u001b[0;34m=\u001b[0m \u001b[0menv\u001b[0m\u001b[0;34m.\u001b[0m\u001b[0mstep\u001b[0m\u001b[0;34m(\u001b[0m\u001b[0ma\u001b[0m\u001b[0;34m)\u001b[0m\u001b[0;34m\u001b[0m\u001b[0;34m\u001b[0m\u001b[0m\n\u001b[0m\u001b[1;32m     38\u001b[0m             \u001b[0mo\u001b[0m \u001b[0;34m=\u001b[0m \u001b[0mtf\u001b[0m\u001b[0;34m.\u001b[0m\u001b[0mexpand_dims\u001b[0m\u001b[0;34m(\u001b[0m\u001b[0mo\u001b[0m\u001b[0;34m[\u001b[0m\u001b[0;34m'observation'\u001b[0m\u001b[0;34m]\u001b[0m\u001b[0;34m,\u001b[0m \u001b[0;36m0\u001b[0m\u001b[0;34m)\u001b[0m\u001b[0;34m\u001b[0m\u001b[0;34m\u001b[0m\u001b[0m\n",
      "\u001b[0;32m~/Desktop/AI/pandaRL/pandaRL/envs/environments.py\u001b[0m in \u001b[0;36mstep\u001b[0;34m(self, action)\u001b[0m\n\u001b[1;32m    883\u001b[0m             \u001b[0mtargetPoses\u001b[0m \u001b[0;34m=\u001b[0m \u001b[0mself\u001b[0m\u001b[0;34m.\u001b[0m\u001b[0mpanda\u001b[0m\u001b[0;34m.\u001b[0m\u001b[0mstep\u001b[0m\u001b[0;34m(\u001b[0m\u001b[0maction\u001b[0m\u001b[0;34m)\u001b[0m\u001b[0;34m\u001b[0m\u001b[0;34m\u001b[0m\u001b[0m\n\u001b[1;32m    884\u001b[0m \u001b[0;34m\u001b[0m\u001b[0m\n\u001b[0;32m--> 885\u001b[0;31m         \u001b[0mself\u001b[0m\u001b[0;34m.\u001b[0m\u001b[0mpanda\u001b[0m\u001b[0;34m.\u001b[0m\u001b[0mrunSimulation\u001b[0m\u001b[0;34m(\u001b[0m\u001b[0;34m)\u001b[0m\u001b[0;34m\u001b[0m\u001b[0;34m\u001b[0m\u001b[0m\n\u001b[0m\u001b[1;32m    886\u001b[0m             \u001b[0;31m# this is out here because the multiprocessing version will step everyone simulataneously.\u001b[0m\u001b[0;34m\u001b[0m\u001b[0;34m\u001b[0m\u001b[0;34m\u001b[0m\u001b[0m\n\u001b[1;32m    887\u001b[0m \u001b[0;34m\u001b[0m\u001b[0m\n",
      "\u001b[0;32m~/Desktop/AI/pandaRL/pandaRL/envs/environments.py\u001b[0m in \u001b[0;36mrunSimulation\u001b[0;34m(self)\u001b[0m\n\u001b[1;32m    282\u001b[0m     \u001b[0;32mdef\u001b[0m \u001b[0mrunSimulation\u001b[0m\u001b[0;34m(\u001b[0m\u001b[0mself\u001b[0m\u001b[0;34m)\u001b[0m\u001b[0;34m:\u001b[0m\u001b[0;34m\u001b[0m\u001b[0;34m\u001b[0m\u001b[0m\n\u001b[1;32m    283\u001b[0m         \u001b[0;31m# also do toggle updating here\u001b[0m\u001b[0;34m\u001b[0m\u001b[0;34m\u001b[0m\u001b[0;34m\u001b[0m\u001b[0m\n\u001b[0;32m--> 284\u001b[0;31m         \u001b[0mself\u001b[0m\u001b[0;34m.\u001b[0m\u001b[0mupdateToggles\u001b[0m\u001b[0;34m(\u001b[0m\u001b[0;34m)\u001b[0m \u001b[0;31m# so its got both in VR and replay out\u001b[0m\u001b[0;34m\u001b[0m\u001b[0;34m\u001b[0m\u001b[0m\n\u001b[0m\u001b[1;32m    285\u001b[0m         \u001b[0;32mfor\u001b[0m \u001b[0mi\u001b[0m \u001b[0;32min\u001b[0m \u001b[0mrange\u001b[0m\u001b[0;34m(\u001b[0m\u001b[0;36m0\u001b[0m\u001b[0;34m,\u001b[0m \u001b[0;36m24\u001b[0m\u001b[0;34m)\u001b[0m\u001b[0;34m:\u001b[0m \u001b[0;31m# 20Hz control\u001b[0m\u001b[0;34m\u001b[0m\u001b[0;34m\u001b[0m\u001b[0m\n\u001b[1;32m    286\u001b[0m             \u001b[0mself\u001b[0m\u001b[0;34m.\u001b[0m\u001b[0mbullet_client\u001b[0m\u001b[0;34m.\u001b[0m\u001b[0mstepSimulation\u001b[0m\u001b[0;34m(\u001b[0m\u001b[0;34m)\u001b[0m\u001b[0;34m\u001b[0m\u001b[0;34m\u001b[0m\u001b[0m\n",
      "\u001b[0;32m~/Desktop/AI/pandaRL/pandaRL/envs/environments.py\u001b[0m in \u001b[0;36mupdateToggles\u001b[0;34m(self)\u001b[0m\n\u001b[1;32m    274\u001b[0m             \u001b[0;32mif\u001b[0m \u001b[0mv\u001b[0m\u001b[0;34m[\u001b[0m\u001b[0;36m0\u001b[0m\u001b[0;34m]\u001b[0m \u001b[0;34m==\u001b[0m \u001b[0;34m'dial'\u001b[0m\u001b[0;34m:\u001b[0m\u001b[0;34m\u001b[0m\u001b[0;34m\u001b[0m\u001b[0m\n\u001b[1;32m    275\u001b[0m                 \u001b[0;32mif\u001b[0m \u001b[0mdial_to_0_1_range\u001b[0m\u001b[0;34m(\u001b[0m\u001b[0mjointstate\u001b[0m\u001b[0;34m)\u001b[0m \u001b[0;34m<\u001b[0m \u001b[0;36m0.5\u001b[0m\u001b[0;34m:\u001b[0m\u001b[0;34m\u001b[0m\u001b[0;34m\u001b[0m\u001b[0m\n\u001b[0;32m--> 276\u001b[0;31m                     \u001b[0mself\u001b[0m\u001b[0;34m.\u001b[0m\u001b[0mbullet_client\u001b[0m\u001b[0;34m.\u001b[0m\u001b[0mchangeVisualShape\u001b[0m\u001b[0;34m(\u001b[0m\u001b[0mv\u001b[0m\u001b[0;34m[\u001b[0m\u001b[0;36m1\u001b[0m\u001b[0;34m]\u001b[0m\u001b[0;34m,\u001b[0m \u001b[0;34m-\u001b[0m\u001b[0;36m1\u001b[0m\u001b[0;34m,\u001b[0m \u001b[0mrgbaColor\u001b[0m\u001b[0;34m=\u001b[0m\u001b[0;34m[\u001b[0m\u001b[0;36m1\u001b[0m\u001b[0;34m,\u001b[0m\u001b[0;36m0\u001b[0m\u001b[0;34m,\u001b[0m\u001b[0;36m0\u001b[0m\u001b[0;34m,\u001b[0m\u001b[0;36m1\u001b[0m\u001b[0;34m]\u001b[0m\u001b[0;34m)\u001b[0m\u001b[0;34m\u001b[0m\u001b[0;34m\u001b[0m\u001b[0m\n\u001b[0m\u001b[1;32m    277\u001b[0m                 \u001b[0;32melse\u001b[0m\u001b[0;34m:\u001b[0m\u001b[0;34m\u001b[0m\u001b[0;34m\u001b[0m\u001b[0m\n\u001b[1;32m    278\u001b[0m                     \u001b[0mself\u001b[0m\u001b[0;34m.\u001b[0m\u001b[0mbullet_client\u001b[0m\u001b[0;34m.\u001b[0m\u001b[0mchangeVisualShape\u001b[0m\u001b[0;34m(\u001b[0m\u001b[0mv\u001b[0m\u001b[0;34m[\u001b[0m\u001b[0;36m1\u001b[0m\u001b[0;34m]\u001b[0m\u001b[0;34m,\u001b[0m \u001b[0;34m-\u001b[0m\u001b[0;36m1\u001b[0m\u001b[0;34m,\u001b[0m \u001b[0mrgbaColor\u001b[0m\u001b[0;34m=\u001b[0m\u001b[0;34m[\u001b[0m\u001b[0;36m1\u001b[0m\u001b[0;34m,\u001b[0m \u001b[0;36m1\u001b[0m\u001b[0;34m,\u001b[0m \u001b[0;36m1\u001b[0m\u001b[0;34m,\u001b[0m \u001b[0;36m1\u001b[0m\u001b[0;34m]\u001b[0m\u001b[0;34m)\u001b[0m\u001b[0;34m\u001b[0m\u001b[0;34m\u001b[0m\u001b[0m\n",
      "\u001b[0;31mKeyboardInterrupt\u001b[0m: "
     ]
    }
   ],
   "source": [
    "\n",
    "data = iter(tf_valid_data)\n",
    "for i in range(0,100):\n",
    "    test_subsequences(data, retries=2)"
   ]
  },
  {
   "cell_type": "markdown",
   "metadata": {
    "pycharm": {
     "name": "#%% md\n"
    }
   },
   "source": [
    "# MLP Evaluation"
   ]
  },
  {
   "cell_type": "code",
   "execution_count": 246,
   "metadata": {},
   "outputs": [],
   "source": [
    "loc = [0,1]\n",
    "scale = [10,3]\n",
    "dist = tfd.TransformedDistribution(\n",
    "                                    distribution= tfd.QuantizedDistribution(\n",
    "                                            distribution=tfd.TransformedDistribution(\n",
    "                                                distribution=tfd.Logistic(loc=loc, scale=scale),\n",
    "                                            bijector=tfb.AffineScalar(shift=-0.5)),\n",
    "                                        low=-128,\n",
    "                                        high=128), \n",
    "                                    bijector=tfb.AffineScalar(scale=1/512))\n",
    "\n",
    "\n",
    "mixture = tfd.MixtureSameFamily(mixture_distribution=tfd.Categorical(\n",
    "                          probs=[1,1]),components_distribution=dist)\n",
    "\n",
    "values = []\n",
    "for i in range(0,100):\n",
    "    values.append(dist.sample().numpy()[0])\n",
    "print(values)\n",
    "plt.hist(values, bins=50)"
   ]
  },
  {
   "cell_type": "code",
   "execution_count": null,
   "metadata": {},
   "outputs": [],
   "source": [
    "def ag_to_dg(ag):\n",
    "    dg = np.concatenate([ag[0:3], ag[7:10]])\n",
    "    return dg"
   ]
  },
  {
   "cell_type": "code",
   "execution_count": 36,
   "metadata": {},
   "outputs": [
    {
     "name": "stdout",
     "output_type": "stream",
     "text": [
      "current_dir=/home/sholto/Desktop/AI/pandaRL/pandaRL/envs\n",
      "/home/sholto/Desktop/AI/pandaRL/pandaRL/envs\n"
     ]
    },
    {
     "name": "stderr",
     "output_type": "stream",
     "text": [
      "/home/sholto/anaconda3/lib/python3.7/site-packages/gym/logger.py:30: UserWarning: \u001b[33mWARN: Box bound precision lowered by casting to float32\u001b[0m\n",
      "  warnings.warn(colorize('%s: %s'%('WARN', msg % args), 'yellow'))\n"
     ]
    }
   ],
   "source": [
    "import gym\n",
    "import time\n",
    "import pandaRL\n",
    "env = gym.make('pandaPlayJoints1Obj-v0')\n",
    "env.reset()\n",
    "env.render('playback')"
   ]
  },
  {
   "cell_type": "code",
   "execution_count": null,
   "metadata": {
    "pycharm": {
     "name": "#%%\n"
    }
   },
   "outputs": [],
   "source": [
    "# This below is only appropriate for non sequence models, which will aim for shorter timespans. \n",
    "n_valid_trajectories = len(valid_data['obs'])\n",
    "idx = np.random.choice(n_valid_trajectories)\n",
    "traj_obs, traj_acts, traj_init_o, traj_init_v = [valid_data[key][idx] for key in valid_data.keys()]"
   ]
  },
  {
   "cell_type": "code",
   "execution_count": null,
   "metadata": {
    "pycharm": {
     "name": "#%%\n"
    }
   },
   "outputs": [],
   "source": [
    "\n",
    "o = env.reset()\n",
    "# A few representative points along the trajectory for us to test how it goes from there (before it loses coherence\n",
    "# over the long trajectory)\n",
    "ZERO, QUARTER, HALF, THREEQ = 0, len(traj_obs)//4, len(traj_obs)//2, len(traj_obs)*3//4\n",
    "# Get the init point\n",
    "init_o = traj_obs[THREEQ][START_OBS:END_OBS]# traj_init_o\n",
    "# reset to our desired init, but with 0 velocity - fine for now. \n",
    "env.robot.reset(env, init_o, traj_init_v)\n",
    "# select the goal as the end state of the trajectory \n",
    "goal = traj_obs[-1][START_GOAL:END_GOAL]\n",
    "for i in range(len(traj_acts)):\n",
    "    o = tf.expand_dims(np.concatenate([o[START_OBS:END_OBS], goal], -1),0)\n",
    "    if PROBS:# need to sample from the model if its probabilistic. \n",
    "        a = model(o).sample()[0]\n",
    "    else:\n",
    "        a = model.predict(o)[0]\n",
    "    #a = traj_acts[i]\n",
    "    o, r, d, _ = env.step(a) # the key change\n",
    "    \n",
    "    env.render()"
   ]
  },
  {
   "cell_type": "markdown",
   "metadata": {
    "pycharm": {
     "name": "#%% md\n"
    }
   },
   "source": [
    "# LSTM Evaluation"
   ]
  },
  {
   "cell_type": "code",
   "execution_count": null,
   "metadata": {
    "pycharm": {
     "name": "#%%\n"
    }
   },
   "outputs": [],
   "source": [
    "valid = dataset[int(N_TRAJS*train_partition):]\n",
    "\n",
    "def test_subsequences():\n",
    "    \n",
    "    obs, acts, goals, masks = sample_sequence_batch(valid)\n",
    "    o = env.reset()\n",
    "    idx = np.random.choice(len(obs))\n",
    "    traj_end = len(np.where(masks[idx] == 1)[0])-1\n",
    "\n",
    "    masks[idx][traj_end]\n",
    "    start_pos = obs[idx][0][START_OBS:END_OBS].numpy()\n",
    "    goal = np.expand_dims(obs[idx][traj_end][START_GOAL:END_GOAL],0)\n",
    "    zero_vel = np.zeros(29)\n",
    "\n",
    "    env.robot.reset(env, start_pos, zero_vel)\n",
    "    o = np.squeeze(obs[idx][0])\n",
    "    env.render()\n",
    "    past_state = [None, None]\n",
    "    \n",
    "    for i in range(0,3):\n",
    "        for i in range(0, traj_end+1):\n",
    "            o = tf.expand_dims(o[START_OBS:END_OBS], 0)\n",
    "            distrib, past_state = model(o, goal,  past_state = past_state)\n",
    "\n",
    "            a = distrib.sample().numpy().squeeze() \n",
    "            #a = acts[idx, i, :] # uncomment this to replay play subsequences\n",
    "            o, r, d, _ = env.step(a)\n",
    "            env.render()\n"
   ]
  },
  {
   "cell_type": "code",
   "execution_count": null,
   "metadata": {
    "pycharm": {
     "name": "#%%\n"
    }
   },
   "outputs": [],
   "source": [
    "for i in range(0,100):\n",
    "    test_subsequences()"
   ]
  },
  {
   "cell_type": "code",
   "execution_count": null,
   "metadata": {
    "pycharm": {
     "name": "#%%\n"
    }
   },
   "outputs": [],
   "source": [
    "# What about on a full trajectory? Where we give it the intermediate goals?\n",
    "n_valid_trajectories = len(valid)\n",
    "idx = np.random.choice(n_valid_trajectories)\n",
    "traj_obs, traj_acts, traj_goals, traj_init_o, traj_init_v = [valid[idx][key] for key in valid[idx].keys()]\n",
    "o = env.reset()\n",
    "traj_len = len(traj_obs)\n",
    "intervals = np.array([0, traj_len//4, traj_len//2, traj_len*3//4, traj_len])\n",
    "init_o = traj_obs[0][START_OBS:END_OBS]# traj_init_o\n",
    "# reset to our desired init, but with 0 velocity - fine for now. \n",
    "env.robot.reset(env, init_o, traj_init_v)\n",
    "env.render()\n",
    "\n",
    "    \n"
   ]
  },
  {
   "cell_type": "code",
   "execution_count": null,
   "metadata": {
    "pycharm": {
     "name": "#%%\n"
    }
   },
   "outputs": [],
   "source": [
    "past_state = [None, None]\n",
    "for t in range(traj_len):\n",
    "        goal_idx = np.where(t < intervals)[0][0] # which part of the task we are up to\n",
    "        goal = tf.cast(tf.expand_dims(traj_obs[intervals[goal_idx]-1][START_GOAL:END_GOAL], 0), tf.float32)\n",
    "        o = tf.cast(tf.expand_dims(o[START_OBS:END_OBS],0), tf.float32)\n",
    "        distrib, past_state = model(o,goal, past_state = past_state)\n",
    "        \n",
    "        #a = distrib.sample().numpy().squeeze() \n",
    "        a = traj_acts[t, :] # uncomment this to replay play subsequences\n",
    "        o, r, d, _ = env.step(a)\n",
    "        env.render()"
   ]
  },
  {
   "cell_type": "code",
   "execution_count": null,
   "metadata": {
    "pycharm": {
     "name": "#%%\n"
    }
   },
   "outputs": [],
   "source": [
    "mine = [2,3,2,1,0,1,0,3,3,1,1,3]\n",
    "fast = [0,2,2,0,1,4,0,2,1,4,3,0]\n",
    "print(np.mean(mine), np.mean(fast))"
   ]
  },
  {
   "cell_type": "code",
   "execution_count": null,
   "metadata": {
    "pycharm": {
     "name": "#%%\n"
    }
   },
   "outputs": [],
   "source": [
    "tf.concat([o, goal], -1)"
   ]
  },
  {
   "cell_type": "code",
   "execution_count": null,
   "metadata": {
    "pycharm": {
     "name": "#%%\n"
    }
   },
   "outputs": [],
   "source": []
  },
  {
   "cell_type": "code",
   "execution_count": null,
   "metadata": {
    "pycharm": {
     "name": "#%%\n"
    }
   },
   "outputs": [],
   "source": [
    "@tf.function\n",
    "def train_step(x, y):\n",
    "    with tf.GradientTape() as tape:\n",
    "        logits = model(x, training=True)\n",
    "        loss_value = loss_fn(y, logits)\n",
    "    grads = tape.gradient(loss_value, model.trainable_weights)\n",
    "    optimizer.apply_gradients(zip(grads, model.trainable_weights))\n",
    "#     train_acc_metric.update_state(y, logits)\n",
    "    return loss_value\n",
    "\n",
    "@tf.function\n",
    "def test_step(x, y):\n",
    "    val_logits = model(x, training=False)\n",
    "#     val_acc_metric.update_state(y, val_logits)"
   ]
  },
  {
   "cell_type": "code",
   "execution_count": null,
   "metadata": {
    "pycharm": {
     "name": "#%%\n"
    }
   },
   "outputs": [],
   "source": [
    "EPOCHS = 10\n",
    "\n",
    "for epoch in range(EPOCHS):\n",
    "    print(f\"\\nEpoch {epoch}\")\n",
    "    start_time = time.time()\n",
    "    progbar = Progbar(len(observations), verbose=1, interval=0.5)\n",
    "\n",
    "    # Iterate over the batches of the dataset.\n",
    "    for step, (obs,acts) in enumerate(zip(observations, actions)):\n",
    "#         obs = traj_batch['observations']\n",
    "#         acts = traj_batch['actions']\n",
    "    \n",
    "        loss_value = train_step(obs, acts)\n",
    "        progbar.add(1, [('Loss', loss_value)])\n",
    "#     print()\n",
    "        \n",
    "    # Display metrics at the end of each epoch.\n",
    "#     train_acc = train_acc_metric.result()\n",
    "#     print(\"Training acc over epoch: %.4f\" % (float(train_acc),))\n",
    "\n",
    "    # Reset training metrics at the end of each epoch\n",
    "#     train_acc_metric.reset_states()\n",
    "\n",
    "    # Run a validation loop at the end of each epoch.\n",
    "#     for x_batch_val, y_batch_val in val_dataset:\n",
    "#         test_step(x_batch_val, y_batch_val)\n",
    "\n",
    "#     val_acc = val_acc_metric.result()\n",
    "#     val_acc_metric.reset_states()\n",
    "#     print(\"Validation acc: %.4f\" % (float(val_acc),))    "
   ]
  },
  {
   "cell_type": "code",
   "execution_count": null,
   "metadata": {},
   "outputs": [],
   "source": [
    "EPOCHS = 10\n",
    "\n",
    "for epoch in range(EPOCHS):\n",
    "    print(f\"\\nEpoch {epoch}\")\n",
    "    start_time = time.time()\n",
    "    progbar = Progbar(len(observations), verbose=1, interval=0.5)\n",
    "\n",
    "    # Iterate over the batches of the dataset.\n",
    "    for step, (obs,acts) in enumerate(zip(observations, actions)):\n",
    "#         obs = traj_batch['observations']\n",
    "#         acts = traj_batch['actions']\n",
    "    \n",
    "        loss_value = train_step(obs, acts)\n",
    "        progbar.add(1, [('Loss', loss_value)])\n",
    "#     print()\n",
    "        \n",
    "    # Display metrics at the end of each epoch.\n",
    "#     train_acc = train_acc_metric.result()\n",
    "#     print(\"Training acc over epoch: %.4f\" % (float(train_acc),))\n",
    "\n",
    "    # Reset training metrics at the end of each epoch\n",
    "#     train_acc_metric.reset_states()\n",
    "\n",
    "    # Run a validation loop at the end of each epoch.\n",
    "#     for x_batch_val, y_batch_val in val_dataset:\n",
    "#         test_step(x_batch_val, y_batch_val)\n",
    "\n",
    "#     val_acc = val_acc_metric.result()\n",
    "#     val_acc_metric.reset_states()\n",
    "#     print(\"Validation acc: %.4f\" % (float(val_acc),))    "
   ]
  },
  {
   "cell_type": "code",
   "execution_count": null,
   "metadata": {},
   "outputs": [],
   "source": [
    "model.summary()"
   ]
  },
  {
   "cell_type": "code",
   "execution_count": null,
   "metadata": {
    "pycharm": {
     "name": "#%%\n"
    }
   },
   "outputs": [],
   "source": [
    "import gym\n",
    "import adept_envs\n",
    "\n",
    "env = gym.make(\"kitchen_relax-v1\")"
   ]
  },
  {
   "cell_type": "markdown",
   "metadata": {
    "pycharm": {
     "name": "#%% md\n"
    }
   },
   "source": [
    "# MLP Evaluation"
   ]
  },
  {
   "cell_type": "code",
   "execution_count": null,
   "metadata": {},
   "outputs": [],
   "source": [
    "# This below is only appropriate for non sequence models, which will aim for shorter timespans. \n",
    "n_valid_trajectories = len(valid_data['obs'])\n",
    "idx = np.random.choice(n_valid_trajectories)\n",
    "traj_obs, traj_acts, traj_init_o, traj_init_v = [valid_data[key][idx] for key in valid_data.keys()]"
   ]
  },
  {
   "cell_type": "code",
   "execution_count": null,
   "metadata": {
    "pycharm": {
     "name": "#%%\n"
    }
   },
   "outputs": [],
   "source": [
    "\n",
    "o = env.reset()\n",
    "# A few representative points along the trajectory for us to test how it goes from there (before it loses coherence\n",
    "# over the long trajectory)\n",
    "ZERO, QUARTER, HALF, THREEQ = 0, len(traj_obs)//4, len(traj_obs)//2, len(traj_obs)*3//4\n",
    "# Get the init point\n",
    "init_o = traj_obs[THREEQ][START_OBS:END_OBS]# traj_init_o\n",
    "# reset to our desired init, but with 0 velocity - fine for now. \n",
    "env.robot.reset(env, init_o, traj_init_v)\n",
    "# select the goal as the end state of the trajectory \n",
    "goal = traj_obs[-1][START_GOAL:END_GOAL]\n",
    "for i in range(len(traj_acts)):\n",
    "    o = tf.expand_dims(np.concatenate([o[START_OBS:END_OBS], goal], -1),0)\n",
    "    if PROBS:# need to sample from the model if its probabilistic. \n",
    "        a = model(o).sample()[0]\n",
    "    else:\n",
    "        a = model.predict(o)[0]\n",
    "    #a = traj_acts[i]\n",
    "    o, r, d, _ = env.step(a) # the key change\n",
    "    \n",
    "    env.render()"
   ]
  },
  {
   "cell_type": "markdown",
   "metadata": {
    "pycharm": {
     "name": "#%% md\n"
    }
   },
   "source": [
    "# LSTM Evaluation"
   ]
  },
  {
   "cell_type": "code",
   "execution_count": null,
   "metadata": {},
   "outputs": [],
   "source": [
    "\n",
    "def test_subsequences():\n",
    "    obs, acts, masks = sample_sequence_batch(valid_data)\n",
    "    o = env.reset()\n",
    "    idx = np.random.choice(len(obs))\n",
    "    traj_end = len(np.where(masks[idx] == 1)[0])-1\n",
    "\n",
    "    masks[idx][traj_end]\n",
    "    start_pos = obs[idx][0][START_OBS:END_OBS].numpy()\n",
    "    goal = obs[idx][traj_end][START_GOAL:END_GOAL]\n",
    "    zero_vel = np.zeros(29)\n",
    "\n",
    "    env.robot.reset(env, start_pos, zero_vel)\n",
    "    o = np.squeeze(obs[idx][0])\n",
    "    env.render()\n",
    "\n",
    "\n",
    "    past_state = [None, None]\n",
    "\n",
    "    for i in range(0, traj_end+1):\n",
    "        o = tf.expand_dims(np.concatenate([o[START_OBS:END_OBS], goal], -1),0)\n",
    "        distrib, past_state = model(o, past_state = past_state)\n",
    "        #a = acts[idx, i, :] # uncomment this to replay play subsequences\n",
    "        a = distrib.sample().numpy().squeeze() \n",
    "        o, r, d, _ = env.step(a)\n",
    "        env.render()\n",
    "    "
   ]
  },
  {
   "cell_type": "code",
   "execution_count": null,
   "metadata": {},
   "outputs": [],
   "source": [
    "for i in range(0,100):\n",
    "    test_subsequences()"
   ]
  },
  {
   "cell_type": "code",
   "execution_count": null,
   "metadata": {
    "pycharm": {
     "name": "#%%\n"
    }
   },
   "outputs": [],
   "source": [
    "valid_data"
   ]
  },
  {
   "cell_type": "code",
   "execution_count": null,
   "metadata": {
    "pycharm": {
     "name": "#%%\n"
    }
   },
   "outputs": [],
   "source": [
    "# What about on a full trajectory? Where we give it the intermediate goals?\n",
    "n_valid_trajectories = len(valid_data)\n",
    "idx = np.random.choice(n_valid_trajectories)\n",
    "traj_obs, traj_acts, traj_init_o, traj_init_v = [valid_data[key][idx] for key in valid_data.keys()]\n",
    "o = env.reset()\n",
    "traj_len = len(traj_obs)\n",
    "intervals = np.array([0, traj_len//4, traj_len//2, traj_len*3//4, traj_len])\n",
    "init_o = traj_obs[0][START_OBS:END_OBS]# traj_init_o\n",
    "# reset to our desired init, but with 0 velocity - fine for now. \n",
    "env.robot.reset(env, init_o, traj_init_v)\n",
    "env.render()\n",
    "\n",
    "    \n"
   ]
  },
  {
   "cell_type": "code",
   "execution_count": null,
   "metadata": {},
   "outputs": [],
   "source": [
    "past_state = [None, None]\n",
    "for t in range(traj_len):\n",
    "        goal_idx = np.where(t < intervals)[0][0] # which part of the task we are up to\n",
    "        goal = traj_obs[intervals[goal_idx]-1][START_GOAL:END_GOAL]\n",
    "        o = tf.expand_dims(np.concatenate([o[START_OBS:END_OBS], goal], -1),0)\n",
    "        distrib, past_state = model(o, past_state = past_state)\n",
    "        #a = acts[idx, i, :] # uncomment this to replay play subsequences\n",
    "        a = distrib.sample().numpy().squeeze() \n",
    "        o, r, d, _ = env.step(a)\n",
    "        env.render()"
   ]
  },
  {
   "cell_type": "code",
   "execution_count": null,
   "metadata": {},
   "outputs": [],
   "source": [
    "# What about on a full trajectory? Where we give it the intermediate goals?\n",
    "n_valid_trajectories = len(valid_data)\n",
    "idx = np.random.choice(n_valid_trajectories)\n",
    "traj_obs, traj_acts, traj_init_o, traj_init_v = [valid_data[key][idx] for key in valid_data.keys()]\n",
    "o = env.reset()\n",
    "traj_len = len(traj_obs)\n",
    "intervals = np.array([0, traj_len//4, traj_len//2, traj_len*3//4, traj_len])\n",
    "init_o = traj_obs[0][START_OBS:END_OBS]# traj_init_o\n",
    "# reset to our desired init, but with 0 velocity - fine for now. \n",
    "env.robot.reset(env, init_o, traj_init_v)\n",
    "env.render()\n",
    "\n",
    "    \n"
   ]
  },
  {
   "cell_type": "code",
   "execution_count": null,
   "metadata": {},
   "outputs": [],
   "source": [
    "past_state = [None, None]\n",
    "for t in range(traj_len):\n",
    "        goal_idx = np.where(t < intervals)[0][0] # which part of the task we are up to\n",
    "        goal = traj_obs[intervals[goal_idx]-1][START_GOAL:END_GOAL]\n",
    "        o = tf.expand_dims(np.concatenate([o[START_OBS:END_OBS], goal], -1),0)\n",
    "        distrib, past_state = model(o, past_state = past_state)\n",
    "        #a = acts[idx, i, :] # uncomment this to replay play subsequences\n",
    "        a = distrib.sample().numpy().squeeze() \n",
    "        o, r, d, _ = env.step(a)\n",
    "        env.render()"
   ]
  },
  {
   "cell_type": "code",
   "execution_count": null,
   "metadata": {},
   "outputs": [],
   "source": []
  },
  {
   "cell_type": "code",
   "execution_count": null,
   "metadata": {},
   "outputs": [],
   "source": [
    "goal"
   ]
  },
  {
   "cell_type": "code",
   "execution_count": null,
   "metadata": {},
   "outputs": [],
   "source": []
  },
  {
   "cell_type": "code",
   "execution_count": null,
   "metadata": {
    "pycharm": {
     "name": "#%%\n"
    }
   },
   "outputs": [],
   "source": [
    "@tf.function\n",
    "def train_step(x, y):\n",
    "    with tf.GradientTape() as tape:\n",
    "        logits = model(x, training=True)\n",
    "        loss_value = loss_fn(y, logits)\n",
    "    grads = tape.gradient(loss_value, model.trainable_weights)\n",
    "    optimizer.apply_gradients(zip(grads, model.trainable_weights))\n",
    "#     train_acc_metric.update_state(y, logits)\n",
    "    return loss_value\n",
    "\n",
    "@tf.function\n",
    "def test_step(x, y):\n",
    "    val_logits = model(x, training=False)\n",
    "#     val_acc_metric.update_state(y, val_logits)"
   ]
  },
  {
   "cell_type": "code",
   "execution_count": null,
   "metadata": {
    "jupyter": {
     "outputs_hidden": true
    }
   },
   "outputs": [],
   "source": [
    "EPOCHS = 10\n",
    "\n",
    "for epoch in range(EPOCHS):\n",
    "    print(f\"\\nEpoch {epoch}\")\n",
    "    start_time = time.time()\n",
    "    progbar = Progbar(len(observations), verbose=1, interval=0.5)\n",
    "\n",
    "    # Iterate over the batches of the dataset.\n",
    "    for step, (obs,acts) in enumerate(zip(observations, actions)):\n",
    "#         obs = traj_batch['observations']\n",
    "#         acts = traj_batch['actions']\n",
    "    \n",
    "        loss_value = train_step(obs, acts)\n",
    "        progbar.add(1, [('Loss', loss_value)])\n",
    "#     print()\n",
    "        \n",
    "    # Display metrics at the end of each epoch.\n",
    "#     train_acc = train_acc_metric.result()\n",
    "#     print(\"Training acc over epoch: %.4f\" % (float(train_acc),))\n",
    "\n",
    "    # Reset training metrics at the end of each epoch\n",
    "#     train_acc_metric.reset_states()\n",
    "\n",
    "    # Run a validation loop at the end of each epoch.\n",
    "#     for x_batch_val, y_batch_val in val_dataset:\n",
    "#         test_step(x_batch_val, y_batch_val)\n",
    "\n",
    "#     val_acc = val_acc_metric.result()\n",
    "#     val_acc_metric.reset_states()\n",
    "#     print(\"Validation acc: %.4f\" % (float(val_acc),))    "
   ]
  },
  {
   "cell_type": "code",
   "execution_count": 23,
   "metadata": {},
   "outputs": [
    {
     "data": {
      "text/plain": [
       "54.0"
      ]
     },
     "execution_count": 23,
     "metadata": {},
     "output_type": "execute_result"
    }
   ],
   "source": [
    "0.3*180"
   ]
  },
  {
   "cell_type": "code",
   "execution_count": 24,
   "metadata": {},
   "outputs": [
    {
     "data": {
      "text/plain": [
       "6.0"
      ]
     },
     "execution_count": 24,
     "metadata": {},
     "output_type": "execute_result"
    }
   ],
   "source": [
    "54/9"
   ]
  },
  {
   "cell_type": "code",
   "execution_count": 27,
   "metadata": {},
   "outputs": [
    {
     "data": {
      "text/plain": [
       "99"
      ]
     },
     "execution_count": 27,
     "metadata": {},
     "output_type": "execute_result"
    }
   ],
   "source": [
    "48+6+45"
   ]
  },
  {
   "cell_type": "code",
   "execution_count": 28,
   "metadata": {},
   "outputs": [
    {
     "data": {
      "text/plain": [
       "5.625"
      ]
     },
     "execution_count": 28,
     "metadata": {},
     "output_type": "execute_result"
    }
   ],
   "source": [
    "45/8"
   ]
  },
  {
   "cell_type": "code",
   "execution_count": 29,
   "metadata": {},
   "outputs": [
    {
     "data": {
      "text/plain": [
       "6.928203230275509"
      ]
     },
     "execution_count": 29,
     "metadata": {},
     "output_type": "execute_result"
    }
   ],
   "source": [
    "48**(1/2)"
   ]
  },
  {
   "cell_type": "code",
   "execution_count": 30,
   "metadata": {},
   "outputs": [
    {
     "data": {
      "text/plain": [
       "27.0"
      ]
     },
     "execution_count": 30,
     "metadata": {},
     "output_type": "execute_result"
    }
   ],
   "source": [
    "135/5"
   ]
  },
  {
   "cell_type": "code",
   "execution_count": 31,
   "metadata": {},
   "outputs": [
    {
     "data": {
      "text/plain": [
       "30"
      ]
     },
     "execution_count": 31,
     "metadata": {},
     "output_type": "execute_result"
    }
   ],
   "source": [
    "705-25*27"
   ]
  },
  {
   "cell_type": "code",
   "execution_count": 32,
   "metadata": {},
   "outputs": [
    {
     "data": {
      "text/plain": [
       "30"
      ]
     },
     "execution_count": 32,
     "metadata": {},
     "output_type": "execute_result"
    }
   ],
   "source": [
    "570-20*27"
   ]
  },
  {
   "cell_type": "code",
   "execution_count": null,
   "metadata": {},
   "outputs": [],
   "source": []
  }
 ],
 "metadata": {
  "kernelspec": {
   "display_name": "Python 3",
   "language": "python",
   "name": "python3"
  },
  "language_info": {
   "codemirror_mode": {
    "name": "ipython",
    "version": 3
   },
   "file_extension": ".py",
   "mimetype": "text/x-python",
   "name": "python",
   "nbconvert_exporter": "python",
   "pygments_lexer": "ipython3",
   "version": "3.7.3"
  }
 },
 "nbformat": 4,
 "nbformat_minor": 4
}
