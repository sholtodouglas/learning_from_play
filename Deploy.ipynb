{
 "cells": [
  {
   "cell_type": "code",
   "execution_count": 1,
   "metadata": {},
   "outputs": [],
   "source": [
    "import glob\n",
    "\n",
    "import numpy as np\n",
    "import tensorflow as tf\n",
    "import pickle\n",
    "import matplotlib.pyplot as plt\n",
    "import random\n",
    "import pickle\n",
    "import os\n",
    "import config\n",
    "import data\n",
    "import random\n",
    "from natsort import natsorted\n",
    "arm = 'UR5'\n",
    "PYBULLET_DATA_DIR = config.ONEOBJ_PLAY # config.SCRIPTED_PLAY #config.RPL_PATH\n",
    "if arm == 'UR5':\n",
    "    PYBULLET_DATA_DIR = config.UR5\n",
    "    TEST_DIR = config.UR5_TEST"
   ]
  },
  {
   "cell_type": "code",
   "execution_count": 2,
   "metadata": {},
   "outputs": [],
   "source": [
    "physical_devices = tf.config.list_physical_devices(config.DEVICE)\n",
    "if config.DEVICE is 'GPU':\n",
    "    tf.config.experimental.set_memory_growth(physical_devices[0], enable=True)"
   ]
  },
  {
   "cell_type": "code",
   "execution_count": 3,
   "metadata": {},
   "outputs": [],
   "source": [
    "# \n",
    "RELATIVE = False # use relative joints instead of absolute pos/ori as in the original paper\n",
    "QUAT =  False # whether to use quaternions or rpy in actions\n",
    "JOINTS = False # use relative joints instead of absolute angles\n",
    "VELOCITY = False\n",
    "USE_QUAT_OBS = False\n",
    "\n",
    "LAYER_SIZE = 2048\n",
    "LATENT_DIM = LAYER_SIZE//8\n",
    "GRIPPER_WEIGHT = 5.0\n",
    "GCBC = False\n",
    "PROBABILISTIC = False\n",
    "\n",
    "arm = 'UR5'\n",
    "\n"
   ]
  },
  {
   "cell_type": "code",
   "execution_count": 4,
   "metadata": {},
   "outputs": [],
   "source": [
    "#dataset, cnt = data.create_single_dataset(dataset_path)\n",
    "rpy_obs = 'obs_rpy' #'rpy_obs'\n",
    "def load_data(path, keys):\n",
    "    dataset = {k:[] for k in keys+['sequence_index','sequence_id']}\n",
    "    obs_act_path = os.path.join(path, 'obs_act_etc/')\n",
    "\n",
    "    for demo in natsorted(os.listdir(obs_act_path)):\n",
    "        print(demo)\n",
    "        traj = np.load(obs_act_path+demo+'/data.npz')\n",
    "        for k in keys:\n",
    "            dataset[k].append(traj[k].astype(np.float32))\n",
    "        timesteps = len(traj['obs'])\n",
    "        dataset['sequence_index'].append(np.arange(timesteps, dtype=np.int32).reshape(-1, 1))\n",
    "        dataset['sequence_id'].append(np.full(timesteps, fill_value=int(demo), dtype=np.int32).reshape(-1, 1))\n",
    "\n",
    "    # convert to numpy\n",
    "    for k in keys+['sequence_index','sequence_id']:\n",
    "        dataset[k] = np.vstack(dataset[k])\n",
    "    return dataset"
   ]
  },
  {
   "cell_type": "code",
   "execution_count": 5,
   "metadata": {},
   "outputs": [
    {
     "name": "stdout",
     "output_type": "stream",
     "text": [
      "0\n",
      "1\n",
      "2\n",
      "3\n",
      "4\n",
      "5\n",
      "6\n",
      "7\n",
      "8\n",
      "9\n",
      "10\n",
      "11\n",
      "12\n",
      "13\n",
      "14\n",
      "15\n",
      "16\n",
      "17\n",
      "18\n",
      "19\n",
      "20\n",
      "21\n",
      "22\n",
      "23\n",
      "24\n",
      "25\n",
      "26\n",
      "27\n",
      "28\n",
      "29\n",
      "30\n",
      "31\n",
      "32\n",
      "33\n",
      "34\n",
      "35\n",
      "36\n",
      "37\n",
      "38\n",
      "39\n",
      "40\n",
      "41\n",
      "42\n",
      "43\n",
      "44\n",
      "45\n",
      "46\n",
      "47\n",
      "48\n",
      "49\n",
      "50\n"
     ]
    }
   ],
   "source": [
    "keys = ['obs', 'acts', 'achieved_goals', 'joint_poses', 'target_poses', 'acts_rpy', 'acts_rpy_rel',  'velocities', rpy_obs]\n",
    "dataset = load_data(PYBULLET_DATA_DIR, keys)"
   ]
  },
  {
   "cell_type": "code",
   "execution_count": 6,
   "metadata": {
    "scrolled": false
   },
   "outputs": [
    {
     "data": {
      "image/png": "[encoded data removed]",
      "text/plain": [
       "<Figure size 432x288 with 1 Axes>"
      ]
     },
     "metadata": {
      "needs_background": "light"
     },
     "output_type": "display_data"
    }
   ],
   "source": [
    "import seaborn as sns\n",
    "#for i in range(0,dataset[rpy_obs].shape[1]):\n",
    "sns.distplot(dataset['achieved_goals'][:,7], hist=True, kde=True, \n",
    "         bins=int(180/5), color = 'darkblue', \n",
    "         hist_kws={'edgecolor':'black'},\n",
    "         kde_kws={'linewidth': 4})\n",
    "plt.show()"
   ]
  },
  {
   "cell_type": "code",
   "execution_count": 7,
   "metadata": {},
   "outputs": [
    {
     "name": "stdout",
     "output_type": "stream",
     "text": [
      "Obs: (N,18), Acts: (N,7), Goals: (N,11)\n"
     ]
    }
   ],
   "source": [
    "\n",
    "if JOINTS:\n",
    "    OBS_DIM = dataset['obs'].shape[1] + 7 \n",
    "    ACT_DIM = dataset['target_poses'].shape[1] + 1\n",
    "else:\n",
    "    if USE_QUAT_OBS:\n",
    "      OBS_DIM = dataset['obs'].shape[1]\n",
    "    else:\n",
    "      OBS_DIM = dataset[rpy_obs].shape[1]\n",
    "    \n",
    "    if QUAT:\n",
    "        ACT_DIM = dataset['acts'].shape[1]\n",
    "    else:\n",
    "        ACT_DIM = dataset['acts_rpy'].shape[1]\n",
    "\n",
    "if VELOCITY:\n",
    "    OBS_DIM += dataset['velocities'].shape[1]\n",
    "        \n",
    "GOAL_DIM = dataset['achieved_goals'].shape[1]\n",
    "print(f'Obs: (N,{OBS_DIM}), Acts: (N,{ACT_DIM}), Goals: (N,{GOAL_DIM})')"
   ]
  },
  {
   "cell_type": "code",
   "execution_count": 8,
   "metadata": {},
   "outputs": [
    {
     "name": "stdout",
     "output_type": "stream",
     "text": [
      "We have 242268 frames of data, which is 2hrs 41m.\n"
     ]
    }
   ],
   "source": [
    "DATASET_SIZE = dataset['obs'].shape[0]\n",
    "secs = DATASET_SIZE / 25\n",
    "hours = secs // 3600\n",
    "minutes = secs // 60 - hours * 60\n",
    "print(f\"We have {DATASET_SIZE} frames of data, which is {hours:.0f}hrs {minutes:.0f}m.\")"
   ]
  },
  {
   "cell_type": "code",
   "execution_count": 9,
   "metadata": {},
   "outputs": [
    {
     "name": "stdout",
     "output_type": "stream",
     "text": [
      "(None, 18)\n",
      "Tensor(\"ExpandDims:0\", shape=(50, 1), dtype=float32)\n",
      "0\n",
      "1\n",
      "2\n",
      "3\n",
      "4\n",
      "5\n",
      "6\n",
      "7\n",
      "8\n",
      "(None, 18)\n",
      "Tensor(\"ExpandDims:0\", shape=(50, 1), dtype=float32)\n"
     ]
    },
    {
     "data": {
      "text/plain": [
       "<PrefetchDataset shapes: {obs: (32, 50, 18), acts: (32, 50, 7), goals: (32, 50, 11), seq_lens: (32,), masks: (32, 50), dataset_path: (32, None, 1), tstep_idxs: (32, None, 1), ags: (32, 50, 11), reward: (32, 50)}, types: {obs: tf.float32, acts: tf.float32, goals: tf.float32, seq_lens: tf.float32, masks: tf.float32, dataset_path: tf.int32, tstep_idxs: tf.int32, ags: tf.float32, reward: tf.float32}>"
      ]
     },
     "execution_count": 9,
     "metadata": {},
     "output_type": "execute_result"
    }
   ],
   "source": [
    "import pybullet\n",
    "BATCH_SIZE_PER_REPLICA = 32\n",
    "GLOBAL_BATCH_SIZE = BATCH_SIZE_PER_REPLICA\n",
    "\n",
    "WINDOW_SIZE = 50\n",
    "MIN_WINDOW_SIZE = WINDOW_SIZE//2\n",
    "WINDOW_SHIFT = 1\n",
    "SHUFFLE_SIZE = GLOBAL_BATCH_SIZE*100\n",
    "PREFETCH_SIZE = tf.data.experimental.AUTOTUNE\n",
    "NUM_WORKERS = 4\n",
    "TRAIN_TEST_SPLIT = 0.9\n",
    "VARIABLE_SEQ_LENS = True\n",
    "\n",
    "window_lambda = lambda x: tf.data.Dataset.zip(x).batch(WINDOW_SIZE)\n",
    "seq_overlap_filter = lambda x: tf.equal(tf.size(tf.unique(tf.squeeze(x['sequence_id'])).y), 1)\n",
    "\n",
    "def create_goal_tensor(dataset, seq_len=-1):\n",
    "    ''' Tile final achieved_goal across time dimension '''\n",
    "    tile_dims = tf.constant([WINDOW_SIZE, 1], tf.int32)\n",
    "    goal = tf.tile(dataset['achieved_goals'][seq_len-1,tf.newaxis], tile_dims) # as goal is at an index take seq_len -1\n",
    "    return goal\n",
    "\n",
    "def transform_states(dataset):\n",
    "    if JOINTS:\n",
    "        if RELATIVE:\n",
    "          if arm == 'UR5':\n",
    "              rel = dataset['target_poses'] - dataset['joint_poses'][:,:6] \n",
    "          else:\n",
    "              rel = dataset['target_poses'] - dataset['joint_poses'][:,:7]\n",
    "        else:\n",
    "          rel = dataset['target_poses']\n",
    "\n",
    "        gripper = dataset['acts'][:,-1,tf.newaxis]\n",
    "        acts = tf.concat([rel, gripper], axis=-1)\n",
    "        obs = tf.concat([dataset['obs'],dataset['joint_poses'][:,:7]], axis=-1)#.astype('float32')\n",
    "    else:\n",
    "        if USE_QUAT_OBS:\n",
    "          obs = dataset['obs']\n",
    "        else:\n",
    "          obs = dataset[rpy_obs]\n",
    "        \n",
    "        \n",
    "        if RELATIVE:\n",
    "            if QUAT:\n",
    "                rel = dataset['acts'][:,:7] - dataset['obs'][:,:7]\n",
    "            else:\n",
    "                rel = dataset['acts_rpy'][:,:6] - dataset[rpy_obs][:,:6]\n",
    "                \n",
    "            gripper = dataset['acts'][:,-1,tf.newaxis]\n",
    "            acts = tf.concat([rel, gripper], axis=-1)\n",
    "        else:\n",
    "            if QUAT:\n",
    "                acts = dataset['acts']\n",
    "            else:\n",
    "                acts = dataset['acts_rpy']\n",
    "\n",
    "    if VELOCITY:\n",
    "      obs = tf.concat([obs, dataset['velocities']], axis = -1)\n",
    "    \n",
    "    # Variable Seq len\n",
    "    if VARIABLE_SEQ_LENS:\n",
    "      seq_len = tf.random.uniform(shape=[], minval=MIN_WINDOW_SIZE, maxval=WINDOW_SIZE, dtype=tf.int32, seed=10)\n",
    "    else:\n",
    "      seq_len = WINDOW_SIZE # SEQLENS Just at max window size\n",
    "\n",
    "    print(obs.shape)\n",
    "    mask = tf.cast(tf.sequence_mask(seq_len, maxlen=WINDOW_SIZE), tf.float32) # creates a B*T mask\n",
    "    multiply_mask = tf.expand_dims(mask, -1)\n",
    "\n",
    "    goals = create_goal_tensor(dataset, seq_len)\n",
    "\n",
    "    obs = obs * multiply_mask\n",
    "    acts = acts * multiply_mask\n",
    "    goals = goals * multiply_mask\n",
    "    \n",
    "    ags = dataset['achieved_goals'] * multiply_mask\n",
    "    ag_to_goal = abs(ags - goals)\n",
    "    print(multiply_mask)\n",
    "    r = (1.0-tf.cast((tf.reduce_mean(tf.cast(ag_to_goal > 0.05, tf.float32), -1) > 0), tf.float32)) * tf.squeeze(multiply_mask)\n",
    "    \n",
    "    \n",
    "\n",
    "    \n",
    "\n",
    "    return {'obs':obs, 'acts':acts, 'goals':goals, 'seq_lens': tf.cast(seq_len, tf.float32), 'masks':mask, \n",
    "           'dataset_path':dataset['sequence_id'], 'tstep_idxs':dataset['sequence_index'], 'ags': ags ,\n",
    "            'reward': ag_to_goal, 'reward': r}\n",
    "\n",
    "def tf_ds_transform(dataset):\n",
    "    return dataset\\\n",
    "                .window(size=WINDOW_SIZE, shift=WINDOW_SHIFT, stride=1, drop_remainder=True)\\\n",
    "                .flat_map(window_lambda)\\\n",
    "                .filter(seq_overlap_filter)\\\n",
    "                .shuffle(SHUFFLE_SIZE)\\\n",
    "                .repeat()\\\n",
    "                .map(transform_states, num_parallel_calls=NUM_WORKERS)\\\n",
    "                .batch(GLOBAL_BATCH_SIZE, drop_remainder=True)\\\n",
    "                .prefetch(PREFETCH_SIZE)\\\n",
    "                # .cache()\n",
    "\n",
    "# Todo: Need to confirm splitting here works with shuffle() and repeat()\n",
    "train_size = int(TRAIN_TEST_SPLIT * DATASET_SIZE)\n",
    "\n",
    "full_dataset = tf.data.Dataset.from_tensor_slices(dataset)\n",
    "train_dataset = tf_ds_transform(full_dataset.take(len(full_dataset)))\n",
    "\n",
    "valid_dataset = load_data(TEST_DIR, keys)\n",
    "valid_dataset = tf.data.Dataset.from_tensor_slices(valid_dataset)\n",
    "valid_dataset = tf_ds_transform(valid_dataset.take(len(valid_dataset)))\n",
    "train_dataset"
   ]
  },
  {
   "cell_type": "code",
   "execution_count": 10,
   "metadata": {},
   "outputs": [],
   "source": [
    "from tensorflow.keras.models import Model, Sequential\n",
    "from tensorflow.keras.layers import Dense, BatchNormalization, ReLU, Input, LSTM, Concatenate, Masking, Reshape, Lambda\n",
    "from tensorflow.keras.regularizers import l1, l2\n",
    "import tensorflow_probability as tfp\n",
    "tfd = tfp.distributions\n",
    "tfb = tfp.bijectors\n",
    "tfpl = tfp.layers"
   ]
  },
  {
   "cell_type": "code",
   "execution_count": 11,
   "metadata": {},
   "outputs": [],
   "source": [
    "from custom_layers import LearnedInitLSTM"
   ]
  },
  {
   "cell_type": "code",
   "execution_count": 12,
   "metadata": {},
   "outputs": [],
   "source": [
    "\n",
    "def latent_normal(inputs):\n",
    "    mu, scale = inputs\n",
    "    dist = tfd.Normal(loc=mu, scale=scale)\n",
    "    return dist\n",
    "\n",
    "\n",
    "def logistic_mixture(inputs):\n",
    "    weightings, mu, scale = inputs\n",
    "    dist = tfd.Logistic(loc=mu, scale=scale)\n",
    "    mixture_dist = tfd.MixtureSameFamily(\n",
    "        mixture_distribution=tfd.Categorical(logits=weightings),\n",
    "        components_distribution=dist,\n",
    "        validate_args=True\n",
    "    )\n",
    "    return mixture_dist\n",
    "\n",
    "def create_actor(layer_size=1024, latent_dim = 256, epsilon=1e-4, num_distribs=None, GCBC=False, training=True, return_state=False):\n",
    "    # params #\n",
    "    batch_size = None if training else 1\n",
    "    stateful = not training\n",
    "\n",
    "    # Input #\n",
    "    o = Input(shape=(None, OBS_DIM), batch_size=batch_size, dtype=tf.float32, name='input_obs')\n",
    "    z = Input(shape=(None, latent_dim), batch_size=batch_size, dtype=tf.float32, name='input_latent')\n",
    "    g = Input(shape=(None, GOAL_DIM), batch_size=batch_size, dtype=tf.float32, name='input_goals')\n",
    "\n",
    "    # RNN #\n",
    "    if GCBC:      \n",
    "      x =  Concatenate(axis=-1)([o,g])\n",
    "    else:\n",
    "      x =  Concatenate(axis=-1)([o,z,g])\n",
    "\n",
    "    x = Masking(mask_value=0.)(x)\n",
    "    if return_state:\n",
    "#         x, _, state1 = LearnedInitLSTM(layer_size, return_sequences=True, stateful=stateful, name='LSTM_in_1', return_state=return_state)(x)\n",
    "#         x, _, state2= LearnedInitLSTM(layer_size, return_sequences=True, stateful=stateful, name='LSTM_in_2', return_state=return_state)(x)\n",
    "        x, _, state1 = LSTM(layer_size, return_sequences=True, stateful=stateful, name='LSTM_in_1', return_state=return_state)(x)\n",
    "        x, _, state2= LSTM(layer_size, return_sequences=True, stateful=stateful, name='LSTM_in_2', return_state=return_state)(x)\n",
    "    else:\n",
    "#         x = LearnedInitLSTM(layer_size, return_sequences=True, stateful=stateful, name='LSTM_in_1', return_state=return_state)(x)\n",
    "#         x = LearnedInitLSTM(layer_size, return_sequences=True, stateful=stateful, name='LSTM_in_2', return_state=return_state)(x)\n",
    "        x = LSTM(layer_size, return_sequences=True, stateful=stateful, name='LSTM_in_1', return_state=return_state)(x)\n",
    "        x = LSTM(layer_size, return_sequences=True, stateful=stateful, name='LSTM_in_2', return_state=return_state)(x)\n",
    "    # Probabilistic Mixture Model #\n",
    "    if num_distribs:\n",
    "        weightings = Dense(ACT_DIM*num_distribs, activation=None, name='alpha')(x)\n",
    "        mu = Dense(ACT_DIM*num_distribs, activation=None, name='mu')(x)\n",
    "        scale = Dense(ACT_DIM*num_distribs, activation=\"softplus\", name='sigma')(x + epsilon)\n",
    "\n",
    "        weightings = Reshape((-1, ACT_DIM, num_distribs))(weightings)\n",
    "        mu = Reshape((-1, ACT_DIM, num_distribs))(mu)\n",
    "        scale = Reshape((-1, ACT_DIM, num_distribs))(scale)\n",
    "        \n",
    "        actions = tfpl.DistributionLambda(logistic_mixture, name='logistic_mix')([weightings, mu, scale])\n",
    "    else:\n",
    "        actions = Dense(ACT_DIM, activation=None, name='acts')(x)\n",
    "    \n",
    "    if return_state:\n",
    "        if GCBC:\n",
    "          return Model([o, g], [actions, state1, state2])\n",
    "        else:\n",
    "          return Model([o, z, g], [actions, state1, state2])\n",
    "    else:\n",
    "        if GCBC:\n",
    "          return Model([o, g], actions)\n",
    "        else:\n",
    "          return Model([o, z, g], actions)\n"
   ]
  },
  {
   "cell_type": "code",
   "execution_count": 13,
   "metadata": {},
   "outputs": [],
   "source": [
    "from tensorflow.keras.layers import Bidirectional\n",
    "\n",
    "\n",
    "def create_encoder(layer_size=2048, latent_dim = 256, epsilon=1e-4, training=True):\n",
    "    # Input #\n",
    "    obs = Input(shape=(WINDOW_SIZE, OBS_DIM), dtype=tf.float32, name='obs')\n",
    "    acts = Input(shape=(WINDOW_SIZE, ACT_DIM), dtype=tf.float32, name='acts') \n",
    "\n",
    "    # Layers #\n",
    "    x = Concatenate(axis=-1)([obs, acts])\n",
    "    x = Masking(mask_value=0.)(x)\n",
    "    x = Bidirectional(LSTM(layer_size//4, return_sequences=True), merge_mode='concat')(x)\n",
    "    x = Bidirectional(LSTM(layer_size//4, return_sequences=False), merge_mode='concat')(x)\n",
    "\n",
    "    # Latent Variable # \n",
    "    mu = Dense(latent_dim, activation=None, name='mu')(x)\n",
    "    scale = Dense(latent_dim, activation=\"softplus\", name='sigma')(x + epsilon)\n",
    "    \n",
    "    mixture = tfpl.DistributionLambda(latent_normal, name='latent_variable')((mu, scale))\n",
    "    return Model([obs, acts], mixture)\n",
    "\n",
    "\n",
    "def create_planner(layer_size=2048, latent_dim = 256, epsilon=1e-4, training=True):\n",
    "    # params #\n",
    "    batch_size = None\n",
    "\n",
    "    # Input #\n",
    "    o_i = Input(shape=(OBS_DIM,), batch_size=batch_size, dtype=tf.float32, name='initial_obs') # has arm state\n",
    "    o_g = Input(shape=(GOAL_DIM,), batch_size=batch_size, dtype=tf.float32, name='goal_obs') # does not have arm state\n",
    "\n",
    "    # Layers #\n",
    "    x = Concatenate(axis=-1)([o_i, o_g])\n",
    "    x = Masking(mask_value=0.)(x)\n",
    "    x = Dense(layer_size//4, activation=\"relu\", name='layer_1')(x)\n",
    "    x = Dense(layer_size//4, activation=\"relu\", name='layer_2')(x)\n",
    "    x = Dense(layer_size//4, activation=\"relu\", name='layer_3')(x)\n",
    "    x = Dense(layer_size//4, activation=\"relu\", name='layer_4')(x)\n",
    "\n",
    "    # Latent Variable # \n",
    "    mu = Dense(latent_dim, activation=None, name='mu')(x)\n",
    "    scale = Dense(latent_dim, activation=\"softplus\", name='sigma')(x + epsilon)\n",
    "    \n",
    "    mixture = tfpl.DistributionLambda(latent_normal,  name='latent_variable')((mu, scale))\n",
    "    return Model([o_i, o_g], mixture)\n",
    "\n",
    "\n"
   ]
  },
  {
   "cell_type": "markdown",
   "metadata": {},
   "source": [
    "# Load our beautiful models"
   ]
  },
  {
   "cell_type": "code",
   "execution_count": null,
   "metadata": {},
   "outputs": [],
   "source": []
  },
  {
   "cell_type": "code",
   "execution_count": 14,
   "metadata": {},
   "outputs": [],
   "source": [
    "\n",
    "\n",
    "\n",
    "# model_params = {'layer_size':LAYER_SIZE, 'latent_dim':LATENT_DIM, 'training':True}\n",
    "# model = create_actor(**model_params)\n",
    "\n",
    "model_params = {'layer_size':LAYER_SIZE, 'latent_dim':LATENT_DIM}\n",
    "if PROBABILISTIC:\n",
    "    actor = create_actor(**model_params, GCBC\n",
    "                         =GCBC, num_distribs=3)\n",
    "else:\n",
    "    actor = create_actor(**model_params, GCBC=GCBC)\n",
    "    \n",
    "if not GCBC:\n",
    "    encoder = create_encoder(**model_params)\n",
    "    planner = create_planner(**model_params)"
   ]
  },
  {
   "cell_type": "code",
   "execution_count": 15,
   "metadata": {},
   "outputs": [
    {
     "name": "stdout",
     "output_type": "stream",
     "text": [
      "Model: \"functional_1\"\n",
      "__________________________________________________________________________________________________\n",
      "Layer (type)                    Output Shape         Param #     Connected to                     \n",
      "==================================================================================================\n",
      "input_obs (InputLayer)          [(None, None, 18)]   0                                            \n",
      "__________________________________________________________________________________________________\n",
      "input_latent (InputLayer)       [(None, None, 256)]  0                                            \n",
      "__________________________________________________________________________________________________\n",
      "input_goals (InputLayer)        [(None, None, 11)]   0                                            \n",
      "__________________________________________________________________________________________________\n",
      "concatenate (Concatenate)       (None, None, 285)    0           input_obs[0][0]                  \n",
      "                                                                 input_latent[0][0]               \n",
      "                                                                 input_goals[0][0]                \n",
      "__________________________________________________________________________________________________\n",
      "masking (Masking)               (None, None, 285)    0           concatenate[0][0]                \n",
      "__________________________________________________________________________________________________\n",
      "LSTM_in_1 (LSTM)                (None, None, 2048)   19120128    masking[0][0]                    \n",
      "__________________________________________________________________________________________________\n",
      "LSTM_in_2 (LSTM)                (None, None, 2048)   33562624    LSTM_in_1[0][0]                  \n",
      "__________________________________________________________________________________________________\n",
      "acts (Dense)                    (None, None, 7)      14343       LSTM_in_2[0][0]                  \n",
      "==================================================================================================\n",
      "Total params: 52,697,095\n",
      "Trainable params: 52,697,095\n",
      "Non-trainable params: 0\n",
      "__________________________________________________________________________________________________\n"
     ]
    }
   ],
   "source": [
    "actor.summary()"
   ]
  },
  {
   "cell_type": "code",
   "execution_count": 16,
   "metadata": {},
   "outputs": [],
   "source": [
    "path = 'B0.001' #ABS_RPY_GCBC_UR5 #ABS_RPY_GCBC_2hrs\n",
    "#path = ''REL_RPY_GCBC_UR5v2' \n",
    "model_index = \"\"\n",
    "if GCBC:\n",
    "    actor.load_weights(f'saved_models/{path}/model'+model_index+'.h5')\n",
    "else:\n",
    "    encoder.load_weights(f'saved_models/{path}/encoder'+model_index+'.h5')\n",
    "    planner.load_weights(f'saved_models/{path}/planner'+model_index+'.h5')"
   ]
  },
  {
   "cell_type": "code",
   "execution_count": 17,
   "metadata": {},
   "outputs": [
    {
     "ename": "FileNotFoundError",
     "evalue": "[Errno 2] No such file or directory: 'saved_models/B0.001/hyper_params.npz'",
     "output_type": "error",
     "traceback": [
      "\u001b[0;31m---------------------------------------------------------------------------\u001b[0m",
      "\u001b[0;31mFileNotFoundError\u001b[0m                         Traceback (most recent call last)",
      "\u001b[0;32m<ipython-input-17-f964e61a4fee>\u001b[0m in \u001b[0;36m<module>\u001b[0;34m\u001b[0m\n\u001b[0;32m----> 1\u001b[0;31m \u001b[0mhyper_params\u001b[0m \u001b[0;34m=\u001b[0m \u001b[0mnp\u001b[0m\u001b[0;34m.\u001b[0m\u001b[0mload\u001b[0m\u001b[0;34m(\u001b[0m\u001b[0;34mf'saved_models/{path}/hyper_params.npz'\u001b[0m\u001b[0;34m,\u001b[0m \u001b[0mallow_pickle\u001b[0m\u001b[0;34m=\u001b[0m\u001b[0;32mTrue\u001b[0m\u001b[0;34m)\u001b[0m\u001b[0;34m\u001b[0m\u001b[0;34m\u001b[0m\u001b[0m\n\u001b[0m\u001b[1;32m      2\u001b[0m \u001b[0;32mfor\u001b[0m \u001b[0mx\u001b[0m \u001b[0;32min\u001b[0m \u001b[0mhyper_params\u001b[0m\u001b[0;34m.\u001b[0m\u001b[0mitems\u001b[0m\u001b[0;34m(\u001b[0m\u001b[0;34m)\u001b[0m\u001b[0;34m:\u001b[0m\u001b[0;34m\u001b[0m\u001b[0;34m\u001b[0m\u001b[0m\n\u001b[1;32m      3\u001b[0m     \u001b[0mprint\u001b[0m\u001b[0;34m(\u001b[0m\u001b[0mx\u001b[0m\u001b[0;34m)\u001b[0m\u001b[0;34m\u001b[0m\u001b[0;34m\u001b[0m\u001b[0m\n",
      "\u001b[0;32m~/anaconda3/lib/python3.7/site-packages/numpy/lib/npyio.py\u001b[0m in \u001b[0;36mload\u001b[0;34m(file, mmap_mode, allow_pickle, fix_imports, encoding)\u001b[0m\n\u001b[1;32m    426\u001b[0m         \u001b[0mown_fid\u001b[0m \u001b[0;34m=\u001b[0m \u001b[0;32mFalse\u001b[0m\u001b[0;34m\u001b[0m\u001b[0;34m\u001b[0m\u001b[0m\n\u001b[1;32m    427\u001b[0m     \u001b[0;32melse\u001b[0m\u001b[0;34m:\u001b[0m\u001b[0;34m\u001b[0m\u001b[0;34m\u001b[0m\u001b[0m\n\u001b[0;32m--> 428\u001b[0;31m         \u001b[0mfid\u001b[0m \u001b[0;34m=\u001b[0m \u001b[0mopen\u001b[0m\u001b[0;34m(\u001b[0m\u001b[0mos_fspath\u001b[0m\u001b[0;34m(\u001b[0m\u001b[0mfile\u001b[0m\u001b[0;34m)\u001b[0m\u001b[0;34m,\u001b[0m \u001b[0;34m\"rb\"\u001b[0m\u001b[0;34m)\u001b[0m\u001b[0;34m\u001b[0m\u001b[0;34m\u001b[0m\u001b[0m\n\u001b[0m\u001b[1;32m    429\u001b[0m         \u001b[0mown_fid\u001b[0m \u001b[0;34m=\u001b[0m \u001b[0;32mTrue\u001b[0m\u001b[0;34m\u001b[0m\u001b[0;34m\u001b[0m\u001b[0m\n\u001b[1;32m    430\u001b[0m \u001b[0;34m\u001b[0m\u001b[0m\n",
      "\u001b[0;31mFileNotFoundError\u001b[0m: [Errno 2] No such file or directory: 'saved_models/B0.001/hyper_params.npz'"
     ]
    }
   ],
   "source": [
    "# hyper_params = np.load(f'saved_models/{path}/hyper_params.npz', allow_pickle=True)\n",
    "# for x in hyper_params.items():\n",
    "#     print(x)"
   ]
  },
  {
   "cell_type": "code",
   "execution_count": 18,
   "metadata": {},
   "outputs": [],
   "source": [
    "v_it = iter(valid_dataset)\n",
    "batch = v_it.next()\n",
    "states,acts,goals,seq_lens,masks = batch['obs'],batch['acts'],batch['goals'],batch['seq_lens'],batch['masks']\n",
    "if GCBC:\n",
    "  pred_acts = actor([states, goals])\n",
    "else:\n",
    "  encoding = encoder([states,acts])\n",
    "  plan = planner([states[:, 0, :], goals[:, 0, :]]) \n",
    "                                                  \n",
    "  # check if encoder is overfitting on validation\n",
    "  z_enc = z = tf.tile(tf.expand_dims(encoding.sample(), 1), (1, WINDOW_SIZE, 1))\n",
    "  enc_act_distrib = actor([states, z_enc, goals])\n",
    "\n",
    "  # true validation performance, w/ planner\n",
    "  z = tf.tile(tf.expand_dims(plan.sample(), 1), (1, WINDOW_SIZE, 1))\n",
    "  pred_acts = actor([states, z, goals]) "
   ]
  },
  {
   "cell_type": "code",
   "execution_count": 19,
   "metadata": {},
   "outputs": [
    {
     "data": {
      "image/png": "[encoded data removed]",
      "text/plain": [
       "<Figure size 720x864 with 7 Axes>"
      ]
     },
     "metadata": {},
     "output_type": "display_data"
    }
   ],
   "source": [
    "#@title Plot timeseries of state/action tracking over time - xyz q1234 gripper\n",
    "import seaborn as sns\n",
    "sns.set_style(\"darkgrid\")\n",
    "\n",
    "idx = 7\n",
    "seq_len = int(seq_lens[idx])\n",
    "x = np.arange(seq_len)\n",
    "labels = ['x','y','z','q1','q2','q3','q4','gripper']\n",
    "fig, axes = plt.subplots(ACT_DIM, 1, figsize=(10,12), squeeze=True)\n",
    "for i in range(ACT_DIM):\n",
    "    #sns.lineplot(x, acts[idx,:seq_len,i], color='r', ax=axes[i])\n",
    "    axes[i].plot(acts[idx,:seq_len,i])\n",
    "    axes[i].plot(pred_acts[idx, :seq_len,i])\n",
    "    #sns.lineplot(x, pred_acts[idx, :seq_len,i], color='g', ax=axes[i])\n",
    "    if not GCBC:\n",
    "      sns.lineplot(x, enc_act_distrib[idx, :seq_len,i], color='b', ax=axes[i])\n",
    "      axes[i].set_title(f'$\\\\bf{labels[i]}$')\n",
    "    \n",
    "fig.legend( ('true action', 'predicted action', 'encoder_action'))    \n",
    "plt.tight_layout()\n",
    "plt.show()"
   ]
  },
  {
   "cell_type": "code",
   "execution_count": null,
   "metadata": {},
   "outputs": [],
   "source": [
    "colors_dict = {\n",
    " 'press button': [1,0,0], # red\n",
    " 'dial off': [0.2, 0.6, 0.2], # green\n",
    " 'dial on': [0, 0.8, 0], # bolder green\n",
    " 'door left':[0.6, 0, 0.8], # purple #9900cc\n",
    " 'door right':[0.8,0.2,0.99],\n",
    " 'drawer in':[0.4, 0.2,0], # browns #cc9900\n",
    " 'drawer out':[0.8, 0.6, 0],\n",
    " 'block in drawer':[1,1,0.4], # yellows\n",
    " 'block out of drawer':[1,0.8,0.8],\n",
    " 'block in cupboard left':[1,0.4,1], #brighter purple #ff66ff\n",
    " 'block in cupboard right':[0.8, 0.4, 1.0], # lighter purpple #cc33ff,,\n",
    " 'block out of cupboard left':[0.6, 0.4, 1.0], # bluer purpe #9966ff\n",
    " 'block out of cupboard right':[0.6, 0.6, 1.0], # bluer lilac #9999ff\n",
    " 'pick place': [0, 0.7, 1.0], # #00BFFF eveertything from here down is shades of blue\n",
    " 'knock down block': [0.1, 0.6, 0.8],\n",
    " 'stand up block': [0.05, 0.4, 0.8], ##0E61D1\n",
    " 'lift up': [0.05, 0.2, 0.7], # #1432BA\n",
    " 'take down':[0.03, 0.001, 0.6], # #1B03A3\n",
    " 'rotate block left': [0.2, 0.8, 0.8],\n",
    " 'rotate block right':[0.2, 0.8, 1.0] \n",
    "}\n",
    "\n",
    "def get_labelled_trajs():\n",
    "    test_labels = np.load(TEST_DIR + 'trajectory_labels.npz', allow_pickle=True)['trajectory_labels']\n",
    "    acts,obs,labels, colors = [], [], [], []\n",
    "\n",
    "    for k,v in test_labels.flatten()[0].items():\n",
    "        folder = k.split('states_and_ims/')[1].split('/')[0]\n",
    "        start = int(k.split('env_states/')[1].split('/')[0].strip('.bullet'))\n",
    "        data = np.load(TEST_DIR+'obs_act_etc/'+folder+'/data.npz')\n",
    "        traj_len = 40\n",
    "        end = start + traj_len #min(len(data['acts_rpy'])-1,start+traj_len )\n",
    "        traj_acts = data['acts_rpy'][start:end]\n",
    "        traj_obs = data['obs_rpy'][start:end]\n",
    "        obs.append(traj_obs),acts.append(traj_acts),labels.append(v), colors.append(colors_dict[v])\n",
    "\n",
    "    return np.array(acts), np.array(obs), labels, colors\n",
    "\n",
    "\n",
    "import umap\n",
    "reducer = umap.UMAP(metric='cosine', random_state=42)\n",
    "\n",
    "def project_labelled_latents(reducer, z_enc):\n",
    "    ''' Todo: may need to rethink vector averaging here... '''\n",
    "    reducer.fit(z_enc)\n",
    "    z_enc_embed = reducer.transform(z_enc)\n",
    "    fig = plt.figure()\n",
    "    ax = fig.add_subplot(111)\n",
    "    ax.scatter(z_enc_embed[:, 0], z_enc_embed[:, 1], s=7, label='z_enc', c = colors)\n",
    "    ax.set_aspect('equal', 'datalim')\n",
    "    ax.legend(loc='upper left')\n",
    "    plt.axis('off')\n",
    "    plt.tight_layout()\n",
    "    return fig\\\n",
    "\n",
    "obs, acts, labels, colors = get_labelled_trajs()\n",
    "z = encoder((obs,acts))\n",
    "o = project_labelled_latents(reducer, z.sample())"
   ]
  },
  {
   "cell_type": "code",
   "execution_count": 69,
   "metadata": {},
   "outputs": [
    {
     "name": "stdout",
     "output_type": "stream",
     "text": [
      "closing\n"
     ]
    }
   ],
   "source": [
    "env.panda.close()"
   ]
  },
  {
   "cell_type": "code",
   "execution_count": 440,
   "metadata": {},
   "outputs": [],
   "source": [
    "# string constructors\n",
    "\n"
   ]
  },
  {
   "cell_type": "code",
   "execution_count": 24,
   "metadata": {
    "scrolled": true
   },
   "outputs": [
    {
     "name": "stdout",
     "output_type": "stream",
     "text": [
      "current_dir=/home/sholto/Desktop/AI/pandaRL/pandaRL/envs\n",
      "current_dir=/home/sholto/Desktop/AI/pandaRL/pandaRL/envs\n"
     ]
    },
    {
     "name": "stderr",
     "output_type": "stream",
     "text": [
      "/home/sholto/anaconda3/lib/python3.7/site-packages/gym/logger.py:30: UserWarning: \u001b[33mWARN: Box bound precision lowered by casting to float32\u001b[0m\n",
      "  warnings.warn(colorize('%s: %s'%('WARN', msg % args), 'yellow'))\n",
      "/home/sholto/anaconda3/lib/python3.7/site-packages/gym/logger.py:30: UserWarning: \u001b[33mWARN: Box bound precision lowered by casting to float32\u001b[0m\n",
      "  warnings.warn(colorize('%s: %s'%('WARN', msg % args), 'yellow'))\n",
      "/home/sholto/anaconda3/lib/python3.7/site-packages/gym/logger.py:30: UserWarning: \u001b[33mWARN: Box bound precision lowered by casting to float32\u001b[0m\n",
      "  warnings.warn(colorize('%s: %s'%('WARN', msg % args), 'yellow'))\n",
      "/home/sholto/anaconda3/lib/python3.7/site-packages/gym/logger.py:30: UserWarning: \u001b[33mWARN: Box bound precision lowered by casting to float32\u001b[0m\n",
      "  warnings.warn(colorize('%s: %s'%('WARN', msg % args), 'yellow'))\n",
      "/home/sholto/anaconda3/lib/python3.7/site-packages/gym/logger.py:30: UserWarning: \u001b[33mWARN: Box bound precision lowered by casting to float32\u001b[0m\n",
      "  warnings.warn(colorize('%s: %s'%('WARN', msg % args), 'yellow'))\n",
      "/home/sholto/anaconda3/lib/python3.7/site-packages/gym/logger.py:30: UserWarning: \u001b[33mWARN: Box bound precision lowered by casting to float32\u001b[0m\n",
      "  warnings.warn(colorize('%s: %s'%('WARN', msg % args), 'yellow'))\n"
     ]
    },
    {
     "name": "stdout",
     "output_type": "stream",
     "text": [
      "/home/sholto/Desktop/AI/pandaRL/pandaRL/envs\n"
     ]
    },
    {
     "data": {
      "text/plain": [
       "{'observation': array([-7.3485315e-02,  7.2982401e-02,  2.4746183e-01,  8.1980421e-04,\n",
       "         4.6249856e-03,  1.3650469e-04,  9.9998897e-01,  0.0000000e+00,\n",
       "        -5.1696606e-02,  2.9262793e-01, -4.2078631e-05,  9.8784039e-05,\n",
       "         2.0380766e-04, -2.7906941e-02,  9.9961048e-01,  7.2899341e-17,\n",
       "        -2.4305612e-26,  1.1222222e-02,  0.0000000e+00], dtype=float32),\n",
       " 'achieved_goal': array([-5.1696606e-02,  2.9262793e-01, -4.2078631e-05,  9.8784039e-05,\n",
       "         2.0380766e-04, -2.7906941e-02,  9.9961048e-01,  7.2899341e-17,\n",
       "        -2.4305612e-26,  1.1222222e-02,  0.0000000e+00], dtype=float32),\n",
       " 'desired_goal': array([0.12879974, 0.07664972, 0.09168812], dtype=float32),\n",
       " 'controllable_achieved_goal': array([-0.07348531,  0.0729824 ,  0.24746183,  0.        ], dtype=float32),\n",
       " 'full_positional_state': array([-7.3485315e-02,  7.2982401e-02,  2.4746183e-01,  8.1980421e-04,\n",
       "         4.6249856e-03,  1.3650469e-04,  9.9998897e-01,  0.0000000e+00,\n",
       "        -5.1696606e-02,  2.9262793e-01, -4.2078631e-05,  9.8784039e-05,\n",
       "         2.0380766e-04, -2.7906941e-02,  9.9961048e-01,  7.2899341e-17,\n",
       "        -2.4305612e-26,  1.1222222e-02,  0.0000000e+00], dtype=float32),\n",
       " 'joints': [-1.671633896905525,\n",
       "  -1.792923117587014,\n",
       "  -1.3513549534474658,\n",
       "  -1.5586623576733987,\n",
       "  1.5693052389744186,\n",
       "  1.469682382875465,\n",
       "  0.0,\n",
       "  0.0],\n",
       " 'velocity': array([0., 0., 0., 0., 0., 0.]),\n",
       " 'img': None,\n",
       " 'obs_rpy': array([-7.34853148e-02,  7.29824007e-02,  2.47461819e-01,  1.64092395e-03,\n",
       "         9.24977749e-03,  2.80601544e-04,  0.00000000e+00, -5.16966048e-02,\n",
       "         2.92627924e-01, -4.20786322e-05,  9.87840389e-05,  2.03807660e-04,\n",
       "        -2.79069407e-02,  9.99610500e-01,  7.28993388e-17, -2.43056121e-26,\n",
       "         1.12222222e-02,  0.00000000e+00])}"
      ]
     },
     "execution_count": 24,
     "metadata": {},
     "output_type": "execute_result"
    }
   ],
   "source": [
    "import gym\n",
    "import time\n",
    "import seaborn as sns\n",
    "import pandaRL\n",
    "if arm == 'UR5':\n",
    "    if JOINTS and RELATIVE:\n",
    "        env = gym.make('UR5PlayRelJoints1Obj-v0')\n",
    "    elif JOINTS and not RELATIVE:\n",
    "        env = gym.make('UR5PlayAbsJoints1Obj-v0')\n",
    "        #env = gym.make('pandaPlayJoints-v0')\n",
    "    elif not JOINTS and RELATIVE and QUAT:\n",
    "        env = gym.make('UR5PlayRel1Obj-v0')\n",
    "    elif not JOINTS and RELATIVE and not QUAT:\n",
    "        env = gym.make('UR5PlayRelRPY1Obj-v0')\n",
    "    elif not JOINTS and not RELATIVE and not QUAT:\n",
    "        env = gym.make('UR5PlayAbsRPY1Obj-v0')\n",
    "    else:\n",
    "        env = gym.make('UR5Play1Obj-v0')\n",
    "else:\n",
    "    if JOINTS and RELATIVE:\n",
    "        env = gym.make('pandaPlayRelJoints1Obj-v0')\n",
    "    elif JOINTS and not RELATIVE:\n",
    "        env = gym.make('pandaPlayAbsJoints1Obj-v0')\n",
    "        #env = gym.make('pandaPlayJoints-v0')\n",
    "    elif not JOINTS and RELATIVE and QUAT:\n",
    "        env = gym.make('pandaPlayRel1Obj-v0')\n",
    "    elif not JOINTS and RELATIVE and not QUAT:\n",
    "        env = gym.make('pandaPlayRelRPY1Obj-v0')\n",
    "    elif not JOINTS and not RELATIVE and not QUAT:\n",
    "        env = gym.make('pandaPlayAbsRPY1Obj-v0')\n",
    "    else:\n",
    "        env = gym.make('pandaPlay1Obj-v0')\n",
    "        \n",
    "env.render('human')\n",
    "env.reset()"
   ]
  },
  {
   "cell_type": "code",
   "execution_count": 36,
   "metadata": {},
   "outputs": [],
   "source": [
    "model_params = {'layer_size':LAYER_SIZE, 'latent_dim':LATENT_DIM, 'training':False, 'return_state':True}\n",
    "if PROBABILISTIC:\n",
    "    actor = create_actor(**model_params, GCBC=GCBC, num_distribs=3)\n",
    "else:\n",
    "    actor = create_actor(**model_params, GCBC=GCBC)\n"
   ]
  },
  {
   "cell_type": "code",
   "execution_count": 86,
   "metadata": {},
   "outputs": [],
   "source": [
    "path = 'ABS_RPY_GCBC_UR5' #ABS_RPY_GCBC_UR5 #ABS_RPY_GCBC_2hrs\n",
    "#path = ''REL_RPY_GCBC_UR5v2' \n",
    "actor.load_weights(f'saved_models/{path}/model.h5')"
   ]
  },
  {
   "cell_type": "code",
   "execution_count": 37,
   "metadata": {},
   "outputs": [],
   "source": [
    "import time\n",
    "GCBC = True\n",
    "def clip_action(a):\n",
    "    #a[0:7] = np.clip(a[0:7], -0.05, 0.05)\n",
    "    return a\n",
    "\n",
    "def get_closest_idx(point, idxs):\n",
    "    \n",
    "    \n",
    "    closest_idx = idxs[0]\n",
    "    best_diff = max(idxs)\n",
    "    for i in idxs:\n",
    "        diff = abs(point - i)\n",
    "        if diff < best_diff:\n",
    "            closest_idx = i\n",
    "            best_diff = diff\n",
    "    return closest_idx\n",
    "\n",
    "def get_closest_init_state(f, start_index):\n",
    "    \n",
    "    potential_start_points = glob.glob(DATA_DIR+'/states_and_ims/'+str(f)+'/env_states/*.bullet')\n",
    "    potential_start_idxs = [int(x.replace('.bullet','').replace(f\"{DATA_DIR}/states_and_ims/{str(f)}/env_states/\", \"\")) for x in potential_start_points]\n",
    "    closest_start = get_closest_idx(int(start_index), potential_start_idxs)\n",
    "    return closest_start, f\"{DATA_DIR}/states_and_ims/{str(f)}/env_states/{closest_start}.bullet\"\n",
    "\n",
    "def get_expert_actions(data, closest_start, traj_len):\n",
    "    if JOINTS:\n",
    "        if RELATIVE:\n",
    "            \n",
    "            a_true = np.concatenate([data['target_poses'][closest_start:closest_start+traj_len,:6] - data['joint_poses'][closest_start:closest_start+traj_len,:6],\n",
    "                                      np.expand_dims(data['acts'][closest_start:closest_start+traj_len,7],1)], axis=1)\n",
    "        else:\n",
    "            \n",
    "            a_true = np.concatenate([data['target_poses'][closest_start:closest_start+traj_len,:],\n",
    "                                      np.expand_dims(data['acts'][closest_start:closest_start+traj_len,7],1)],axis = 1)\n",
    "    else:\n",
    "        if QUAT:\n",
    "            if RELATIVE:\n",
    "                a_true = np.concatenate([data['acts'][closest_start:closest_start+traj_len,:7] - data['obs'][closest_start:closest_start+traj_len,:7], \n",
    "                                         np.expand_dims(data['acts'][closest_start:closest_start+traj_len,7],1)], axis = 1)\n",
    "            else:\n",
    "                a_true = data['acts'] \n",
    "        else:\n",
    "            if RELATIVE:\n",
    "                a_true = data['acts_rpy_rel'][closest_start:closest_start+traj_len,:]\n",
    "            else:\n",
    "                a_true = data['acts_rpy'][closest_start:closest_start+traj_len,:]\n",
    "    return a_true\n",
    "    \n",
    "    \n",
    "def warm_up(actor, o , goal, z = None):\n",
    "    for i in range(0,10):\n",
    "            if GCBC:\n",
    "                a,_,state = actor((o, goal))\n",
    "            else:\n",
    "                a = actor((o, z,goal))\n",
    "                \n",
    "def get_true_obs(data, closest_start, traj_len):\n",
    "    ''' gets the actual obs so we can test the encoder actions with them '''\n",
    "    traj_len += 1 # because we need all the obs, which includes one more ob than there are actions (as that ob will be produced by the final action occuring)\n",
    "    if USE_QUAT_OBS:\n",
    "        o = data['obs'][closest_start:closest_start+traj_len,:]\n",
    "    else:\n",
    "        o = data['obs_rpy'][closest_start:closest_start+traj_len,:]\n",
    "    if JOINTS:\n",
    "        o = np.concatenate([o, data['joints'][closest_start:closest_start+traj_len,:7]])\n",
    "    \n",
    "    o = tf.expand_dims(o,0)\n",
    "        \n",
    "    if VELOCITY:\n",
    "        raise NotImplemented\n",
    "    \n",
    "    #obs = (obs - hyper_params['means_obs'])/hyper_params['stds_obs']\n",
    "    return o\n",
    "    \n",
    "                \n",
    "def flatten_obs(obs_dict, record_o_buff=None):\n",
    "    '''\n",
    "    Get the right format and flatten, e.g get joints states, velcoities, rpy or quat etc depending on what the\n",
    "    net was trained on\n",
    "    Also appends it to record_o_buff to record the true obs\n",
    "    '''\n",
    "    if USE_QUAT_OBS:\n",
    "        o = obs_dict['observation']\n",
    "    else:\n",
    "        o = obs_dict['obs_rpy']\n",
    "    if JOINTS:\n",
    "        o = tf.expand_dims(tf.expand_dims(np.concatenate([o, obs_dict['joints'][:7]]),0),0)\n",
    "    else:\n",
    "        o = tf.expand_dims(tf.expand_dims(o,0),0)\n",
    "        \n",
    "    if VELOCITY:\n",
    "        o = tf.concat([tf.cast(o, tf.float32),tf.expand_dims(tf.expand_dims(tf.cast(obs_dict['velocity'],tf.float32),0),0)], axis = -1)\n",
    "    \n",
    "    #obs = (obs - hyper_params['means_obs'])/hyper_params['stds_obs']\n",
    "    if record_o_buff is not None:\n",
    "        record_o_buff.append(o)\n",
    "    return o\n",
    "\n",
    "def initialise_subsequence(data):\n",
    "    states, acts, goals, seq_lens, masks, pth, tsteps,_,_ = [data[k] for k in data.keys()]\n",
    "    start_idx = str(int(tsteps[idx,0]))\n",
    "    traj_len = len(np.where(masks[idx] == 1)[0])-1\n",
    "    f = int(pth[idx,0])\n",
    "    \n",
    "    print(int(pth[idx,0]), int(tsteps[idx,0]))\n",
    "    print(str(int(pth[idx,0]))+str(int(tsteps[idx,0])) )\n",
    "    #print(PYBULLET_DATA_DIR +'states_and_ims/'+str(int(pth[idx,0]))+'/env_states/'+str(int(tsteps[idx,0]))+'.bullet')\n",
    "    closest_start, start_path = get_closest_init_state(f, start_idx)\n",
    "    print(start_path)\n",
    "    try:\n",
    "        env.delete_sub_goal()\n",
    "    except:\n",
    "        pass\n",
    "    env.p.restoreState(fileName=start_path)\n",
    "    data = np.load(DATA_DIR+'obs_act_etc/'+str(f)+'/data.npz')\n",
    "    a_true = get_expert_actions(data, closest_start, traj_len)\n",
    "    o_true = get_true_obs(data, closest_start, traj_len)\n",
    "    goal = data['achieved_goals'][closest_start + traj_len, :]\n",
    "    env.visualise_sub_goal(np.squeeze(goal), 'achieved_goal')\n",
    "    goal = tf.expand_dims(tf.expand_dims(goal, 0),0)\n",
    "    #goal = (goal - hyper_params['means_goals'])/hyper_params['stds_goals']\n",
    "    state = env.panda.calc_state()\n",
    "    print(state['achieved_goal'] - goal)\n",
    "    return goal, a_true, o_true, traj_len, state\n",
    "\n",
    "def choose_action(actor, o, goal, states=None, a_pred=None, a_true=None, replay=False, i=0):\n",
    "    if GCBC:\n",
    "        a,_,state = actor((o, goal))\n",
    "        \n",
    "        if PROBABILISTIC:\n",
    "            a = a.sample().numpy().squeeze()\n",
    "        else:\n",
    "            a = a.numpy().squeeze()\n",
    "        if states is not None:\n",
    "            states.append(state)\n",
    "        if a_pred is not None:\n",
    "            a_pred.append(a)\n",
    "        pass\n",
    "    else:\n",
    "        a = actor((o, z,goal)).numpy().squeeze()\n",
    "        if a_pred is not None:\n",
    "            a_pred.append(a)\n",
    "\n",
    "    if replay or i < 0:\n",
    "        a=a_true[i, :] \n",
    "    return a\n",
    "\n",
    "def test_subsequences(data, idx, retries = 1, replay=False, replan_horizon=30):\n",
    "    \n",
    "    goal, a_true, o_true, traj_len, state = initialise_subsequence(data)\n",
    "    \n",
    "    a_pred = []\n",
    "    states = []\n",
    "    record_o_buff = []\n",
    "    \n",
    "    o = flatten_obs(state, record_o_buff)\n",
    "    \n",
    "    for j in range(0,retries):\n",
    "        if GCBC:\n",
    "            z = None\n",
    "        else:\n",
    "            plan, _ = planner((o[0], goal[0]))\n",
    "            z = tf.expand_dims(plan.sample(),0)\n",
    "        actor.reset_states()\n",
    "        \n",
    "        if replay:\n",
    "            replan_horizon = traj_len\n",
    "\n",
    "        #warm_up(actor, o, goal, z)\n",
    "        \n",
    "        for i in range(0, replan_horizon):\n",
    "            a = choose_action(actor, o, goal, states, a_pred, a_true, replay, i)\n",
    "            o, r, d, _ = env.step(a)\n",
    "            # put the o here\n",
    "            o = flatten_obs(o, record_o_buff)\n",
    "            \n",
    "            \n",
    "                \n",
    "            \n",
    "    \n",
    "    return np.array(a_true), np.array(a_pred), states, o_true, np.squeeze(np.array(record_o_buff))"
   ]
  },
  {
   "cell_type": "code",
   "execution_count": 38,
   "metadata": {},
   "outputs": [],
   "source": [
    "# Lets plot pred actions vs true actions\n",
    "v_it = iter(test_dataset.repeat(-1))\n",
    "DATA_DIR = TEST_DIR\n"
   ]
  },
  {
   "cell_type": "code",
   "execution_count": 39,
   "metadata": {},
   "outputs": [],
   "source": [
    "# for i in range(0,BATCH_SIZE_PER_REPLICA):\n",
    "data = v_it.next()\n",
    "idx = np.random.choice(BATCH_SIZE_PER_REPLICA)\n",
    "\n",
    "#''"
   ]
  },
  {
   "cell_type": "code",
   "execution_count": 40,
   "metadata": {},
   "outputs": [
    {
     "name": "stdout",
     "output_type": "stream",
     "text": [
      "1 1915\n",
      "11915\n",
      "data_collection/collected_data/UR5_25Hz_test_suite//states_and_ims/1/env_states/1920.bullet\n",
      "8\n",
      "9\n",
      "10\n",
      "tf.Tensor(\n",
      "[[[-0.13601698 -0.30412135 -0.31482822 -0.01389109  0.17170459\n",
      "   -0.04742473  0.07839221  0.          0.          0.\n",
      "    0.        ]]], shape=(1, 1, 11), dtype=float32)\n"
     ]
    }
   ],
   "source": [
    "true, pred, states,o_true, o_actual = test_subsequences(data, idx, retries = 1, replay=True)"
   ]
  },
  {
   "cell_type": "code",
   "execution_count": 66,
   "metadata": {},
   "outputs": [
    {
     "name": "stdout",
     "output_type": "stream",
     "text": [
      "1 1204\n",
      "11204\n",
      "data_collection/collected_data/UR5_25Hz_test_suite//states_and_ims/1/env_states/1200.bullet\n",
      "8\n",
      "9\n",
      "10\n",
      "tf.Tensor(\n",
      "[[[-0.01246276  0.00771217  0.05410607 -0.01457816  0.04282855\n",
      "   -0.4322482  -0.11152226  0.          0.          0.\n",
      "    0.        ]]], shape=(1, 1, 11), dtype=float32)\n"
     ]
    }
   ],
   "source": [
    "#time.sleep(0.25)\n",
    "true, pred, states, o_true, o_actual  = test_subsequences(data, idx, retries = 2, replay=False)"
   ]
  },
  {
   "cell_type": "code",
   "execution_count": 70,
   "metadata": {},
   "outputs": [
    {
     "name": "stdout",
     "output_type": "stream",
     "text": [
      "1 1949\n",
      "11949\n",
      "data_collection/collected_data/UR5_25Hz_test_suite//states_and_ims/1/env_states/1950.bullet\n",
      "8\n",
      "9\n",
      "10\n",
      "tf.Tensor(\n",
      "[[[-0.06631868 -0.20031591  0.03291887  0.0141366  -0.20536561\n",
      "   -0.08014309  0.06868726  0.          0.          0.\n",
      "    0.        ]]], shape=(1, 1, 11), dtype=float32)\n",
      "1 1949\n",
      "11949\n",
      "data_collection/collected_data/UR5_25Hz_test_suite//states_and_ims/1/env_states/1950.bullet\n",
      "8\n",
      "9\n",
      "10\n",
      "tf.Tensor(\n",
      "[[[-0.06631868 -0.20031591  0.03291887  0.0141366  -0.20536561\n",
      "   -0.08014309  0.06868726  0.          0.          0.\n",
      "    0.        ]]], shape=(1, 1, 11), dtype=float32)\n",
      "1 688\n",
      "1688\n",
      "data_collection/collected_data/UR5_25Hz_test_suite//states_and_ims/1/env_states/690.bullet\n",
      "8\n",
      "9\n",
      "10\n",
      "tf.Tensor(\n",
      "[[[ 1.3858080e-05  5.0663948e-05 -7.7410732e-08  4.2996362e-07\n",
      "   -1.6108243e-07 -2.7931528e-04  1.6093254e-06  0.0000000e+00\n",
      "    2.7386707e-01 -1.3681538e-03  0.0000000e+00]]], shape=(1, 1, 11), dtype=float32)\n",
      "1 688\n",
      "1688\n",
      "data_collection/collected_data/UR5_25Hz_test_suite//states_and_ims/1/env_states/690.bullet\n",
      "8\n",
      "9\n",
      "10\n",
      "tf.Tensor(\n",
      "[[[ 1.3858080e-05  5.0663948e-05 -7.7410732e-08  4.2996362e-07\n",
      "   -1.6108243e-07 -2.7931528e-04  1.6093254e-06  0.0000000e+00\n",
      "    2.7386707e-01 -1.3681538e-03  0.0000000e+00]]], shape=(1, 1, 11), dtype=float32)\n",
      "1 190\n",
      "1190\n",
      "data_collection/collected_data/UR5_25Hz_test_suite//states_and_ims/1/env_states/180.bullet\n",
      "8\n",
      "9\n",
      "10\n",
      "tf.Tensor(\n",
      "[[[ 8.2729191e-02  2.8743321e-01  4.4460297e-03  1.7381361e-02\n",
      "   -3.4626681e-02  2.5387084e-01  1.3619566e-01  0.0000000e+00\n",
      "    1.4007092e-06  0.0000000e+00  0.0000000e+00]]], shape=(1, 1, 11), dtype=float32)\n",
      "1 190\n",
      "1190\n",
      "data_collection/collected_data/UR5_25Hz_test_suite//states_and_ims/1/env_states/180.bullet\n",
      "8\n",
      "9\n",
      "10\n",
      "tf.Tensor(\n",
      "[[[ 8.2729191e-02  2.8743321e-01  4.4460297e-03  1.7381361e-02\n",
      "   -3.4626681e-02  2.5387084e-01  1.3619566e-01  0.0000000e+00\n",
      "    1.4007092e-06  0.0000000e+00  0.0000000e+00]]], shape=(1, 1, 11), dtype=float32)\n",
      "1 2695\n",
      "12695\n",
      "data_collection/collected_data/UR5_25Hz_test_suite//states_and_ims/1/env_states/2700.bullet\n",
      "8\n",
      "9\n",
      "10\n",
      "tf.Tensor(\n",
      "[[[-0.00931413  0.02786463 -0.02960086  0.05282756  0.03976031\n",
      "    0.02757066 -0.04730564  0.          0.          0.\n",
      "    0.        ]]], shape=(1, 1, 11), dtype=float32)\n",
      "1 2695\n",
      "12695\n",
      "data_collection/collected_data/UR5_25Hz_test_suite//states_and_ims/1/env_states/2700.bullet\n",
      "8\n",
      "9\n",
      "10\n",
      "tf.Tensor(\n",
      "[[[-0.00931413  0.02786463 -0.02960086  0.05282756  0.03976031\n",
      "    0.02757066 -0.04730564  0.          0.          0.\n",
      "    0.        ]]], shape=(1, 1, 11), dtype=float32)\n",
      "1 2711\n",
      "12711\n",
      "data_collection/collected_data/UR5_25Hz_test_suite//states_and_ims/1/env_states/2700.bullet\n",
      "8\n",
      "9\n",
      "10\n",
      "tf.Tensor(\n",
      "[[[-0.01718688  0.00966221 -0.00242066  0.03804177 -0.0118086\n",
      "    0.016882   -0.03086612  0.          0.          0.\n",
      "    0.        ]]], shape=(1, 1, 11), dtype=float32)\n",
      "1 2711\n",
      "12711\n",
      "data_collection/collected_data/UR5_25Hz_test_suite//states_and_ims/1/env_states/2700.bullet\n",
      "8\n",
      "9\n",
      "10\n",
      "tf.Tensor(\n",
      "[[[-0.01718688  0.00966221 -0.00242066  0.03804177 -0.0118086\n",
      "    0.016882   -0.03086612  0.          0.          0.\n",
      "    0.        ]]], shape=(1, 1, 11), dtype=float32)\n",
      "0 927\n",
      "0927\n",
      "data_collection/collected_data/UR5_25Hz_test_suite//states_and_ims/0/env_states/930.bullet\n",
      "8\n",
      "9\n",
      "10\n",
      "tf.Tensor(\n",
      "[[[ 2.2351742e-08  5.2154064e-08 -3.2541720e-07 -1.0818118e-06\n",
      "   -2.8482137e-07  0.0000000e+00  0.0000000e+00  0.0000000e+00\n",
      "    2.5267524e-01  0.0000000e+00  0.0000000e+00]]], shape=(1, 1, 11), dtype=float32)\n",
      "0 927\n",
      "0927\n",
      "data_collection/collected_data/UR5_25Hz_test_suite//states_and_ims/0/env_states/930.bullet\n",
      "8\n",
      "9\n",
      "10\n",
      "tf.Tensor(\n",
      "[[[ 2.2351742e-08  5.2154064e-08 -3.2541720e-07 -1.0818118e-06\n",
      "   -2.8482137e-07  0.0000000e+00  0.0000000e+00  0.0000000e+00\n",
      "    2.5267524e-01  0.0000000e+00  0.0000000e+00]]], shape=(1, 1, 11), dtype=float32)\n",
      "0 437\n",
      "0437\n",
      "data_collection/collected_data/UR5_25Hz_test_suite//states_and_ims/0/env_states/450.bullet\n",
      "8\n",
      "9\n",
      "10\n",
      "tf.Tensor(\n",
      "[[[ 0.0000000e+00  0.0000000e+00  0.0000000e+00  3.1333443e-17\n",
      "   -9.3647963e-18  0.0000000e+00  0.0000000e+00 -1.0410631e-01\n",
      "    0.0000000e+00  0.0000000e+00  0.0000000e+00]]], shape=(1, 1, 11), dtype=float32)\n",
      "0 437\n",
      "0437\n",
      "data_collection/collected_data/UR5_25Hz_test_suite//states_and_ims/0/env_states/450.bullet\n",
      "8\n",
      "9\n",
      "10\n",
      "tf.Tensor(\n",
      "[[[ 0.0000000e+00  0.0000000e+00  0.0000000e+00  3.1333443e-17\n",
      "   -9.3647963e-18  0.0000000e+00  0.0000000e+00 -1.0410631e-01\n",
      "    0.0000000e+00  0.0000000e+00  0.0000000e+00]]], shape=(1, 1, 11), dtype=float32)\n",
      "1 132\n",
      "1132\n",
      "data_collection/collected_data/UR5_25Hz_test_suite//states_and_ims/1/env_states/120.bullet\n",
      "8\n",
      "9\n",
      "10\n",
      "tf.Tensor(\n",
      "[[[ 0.0000000e+00  0.0000000e+00  0.0000000e+00  5.5487567e-17\n",
      "   -2.4072306e-17  0.0000000e+00  0.0000000e+00  0.0000000e+00\n",
      "   -2.2656688e-05  0.0000000e+00  0.0000000e+00]]], shape=(1, 1, 11), dtype=float32)\n",
      "1 132\n",
      "1132\n",
      "data_collection/collected_data/UR5_25Hz_test_suite//states_and_ims/1/env_states/120.bullet\n",
      "8\n",
      "9\n",
      "10\n",
      "tf.Tensor(\n",
      "[[[ 0.0000000e+00  0.0000000e+00  0.0000000e+00  5.5487567e-17\n",
      "   -2.4072306e-17  0.0000000e+00  0.0000000e+00  0.0000000e+00\n",
      "   -2.2656688e-05  0.0000000e+00  0.0000000e+00]]], shape=(1, 1, 11), dtype=float32)\n",
      "1 371\n",
      "1371\n",
      "data_collection/collected_data/UR5_25Hz_test_suite//states_and_ims/1/env_states/360.bullet\n",
      "8\n",
      "9\n",
      "10\n",
      "tf.Tensor(\n",
      "[[[-0.00354899 -0.07147452  0.11177302 -0.06536141 -0.00886334\n",
      "   -0.00544411 -0.00806606 -0.0833918   0.          0.\n",
      "    0.        ]]], shape=(1, 1, 11), dtype=float32)\n",
      "1 371\n",
      "1371\n",
      "data_collection/collected_data/UR5_25Hz_test_suite//states_and_ims/1/env_states/360.bullet\n",
      "8\n",
      "9\n",
      "10\n",
      "tf.Tensor(\n",
      "[[[-0.00354899 -0.07147452  0.11177302 -0.06536141 -0.00886334\n",
      "   -0.00544411 -0.00806606 -0.0833918   0.          0.\n",
      "    0.        ]]], shape=(1, 1, 11), dtype=float32)\n",
      "1 3595\n",
      "13595\n",
      "data_collection/collected_data/UR5_25Hz_test_suite//states_and_ims/1/env_states/3600.bullet\n",
      "8\n",
      "9\n",
      "10\n",
      "tf.Tensor(\n",
      "[[[-0.014634   -0.28099138 -0.10597722  0.10184489 -0.09587619\n",
      "   -0.13182127  0.13660628  0.          0.          0.\n",
      "    0.        ]]], shape=(1, 1, 11), dtype=float32)\n",
      "1 3595\n",
      "13595\n",
      "data_collection/collected_data/UR5_25Hz_test_suite//states_and_ims/1/env_states/3600.bullet\n",
      "8\n",
      "9\n",
      "10\n",
      "tf.Tensor(\n",
      "[[[-0.014634   -0.28099138 -0.10597722  0.10184489 -0.09587619\n",
      "   -0.13182127  0.13660628  0.          0.          0.\n",
      "    0.        ]]], shape=(1, 1, 11), dtype=float32)\n"
     ]
    }
   ],
   "source": [
    "for i in range(0,10):\n",
    "    data = v_it.next()\n",
    "    idx = np.random.choice(BATCH_SIZE_PER_REPLICA)\n",
    "    true, pred, states,o_true, o_actual = test_subsequences(data, idx, retries = 1, replay=True)\n",
    "    true, pred, states,o_true, o_actual = test_subsequences(data, idx, retries = 2, replay=False)"
   ]
  },
  {
   "cell_type": "code",
   "execution_count": 87,
   "metadata": {},
   "outputs": [
    {
     "name": "stdout",
     "output_type": "stream",
     "text": [
      "\n",
      " Test: door_left\n",
      "8\n",
      "9\n",
      "10\n",
      "0/1 [............................................] - ETA: 0s - L1: 0.0380\n",
      " Test: door_right\n",
      "8\n",
      "9\n",
      "10\n",
      "0/1 [=========>....................] - ETA: 0s - L1: 0.0206\n",
      " Test: open_drawer\n",
      "8\n",
      "9\n",
      "10\n",
      "-5/1 [.......................................................................................................................................................................................................] - ETA: 0s - L1: 0.0707\n",
      " Test: close_drawer\n",
      "8\n",
      "9\n",
      "10\n",
      "-1/1 [....................................................................] - ETA: 0s - L1: 0.0242\n",
      " Test: push_left\n",
      "8\n",
      "9\n",
      "10\n",
      "-7/1 [...........................................................................................................................................................................................................................................................................] - ETA: 0s - L1: 0.1961\n",
      " Test: push_right\n",
      "8\n",
      "9\n",
      "10\n",
      "-3/1 [.......................................................................................................................................] - ETA: 0s - L1: 0.0995\n",
      " Test: block_in_cupboard_right\n",
      "8\n",
      "9\n",
      "10\n",
      "0/1 [..................................] - ETA: 0s - L1: 0.0827\n",
      " Test: block_in_cupboard_left\n",
      "8\n",
      "9\n",
      "10\n",
      "0/1 [................................] - ETA: 0s - L1: 0.0733\n",
      " Test: block_in_cupboard_right_upright\n",
      "8\n",
      "9\n",
      "10\n",
      "0/1 [..............................] - ETA: 0s - L1: 0.0729\n",
      " Test: block_in_cupboard_left_upright\n",
      "8\n",
      "9\n",
      "10\n",
      "-1/1 [......................................................................] - ETA: 0s - L1: 0.1593\n",
      " Test: block_default_to_upright\n",
      "8\n",
      "9\n",
      "10\n",
      "0/1 [.....................................] - ETA: 0s - L1: 0.1198\n",
      " Test: block_lengthways_to_upright\n",
      "8\n",
      "9\n",
      "10\n",
      "0/1 [................................] - ETA: 0s - L1: 0.1471\n",
      " Test: block_default_to_lengthways\n",
      "8\n",
      "9\n",
      "10\n",
      "0/1 [====>.........................] - ETA: 0s - L1: 0.0758\n",
      " Test: block_lengthways_to_default\n",
      "8\n",
      "9\n",
      "10\n",
      "0/1 [..................................................] - ETA: 0s - L1: 0.1581\n",
      " Test: press_button\n",
      "8\n",
      "9\n",
      "10\n"
     ]
    },
    {
     "ename": "KeyboardInterrupt",
     "evalue": "",
     "output_type": "error",
     "traceback": [
      "\u001b[0;31m---------------------------------------------------------------------------\u001b[0m",
      "\u001b[0;31mKeyboardInterrupt\u001b[0m                         Traceback (most recent call last)",
      "\u001b[0;32m<ipython-input-87-6d13507233e4>\u001b[0m in \u001b[0;36m<module>\u001b[0;34m\u001b[0m\n\u001b[1;32m     26\u001b[0m         \u001b[0mactor\u001b[0m\u001b[0;34m.\u001b[0m\u001b[0mreset_states\u001b[0m\u001b[0;34m(\u001b[0m\u001b[0;34m)\u001b[0m\u001b[0;34m\u001b[0m\u001b[0;34m\u001b[0m\u001b[0m\n\u001b[1;32m     27\u001b[0m         \u001b[0;32mfor\u001b[0m \u001b[0mi\u001b[0m \u001b[0;32min\u001b[0m \u001b[0mrange\u001b[0m\u001b[0;34m(\u001b[0m\u001b[0;36m0\u001b[0m\u001b[0;34m,\u001b[0m \u001b[0;36m40\u001b[0m\u001b[0;34m)\u001b[0m\u001b[0;34m:\u001b[0m\u001b[0;34m\u001b[0m\u001b[0;34m\u001b[0m\u001b[0m\n\u001b[0;32m---> 28\u001b[0;31m             \u001b[0ma\u001b[0m \u001b[0;34m=\u001b[0m \u001b[0mchoose_action\u001b[0m\u001b[0;34m(\u001b[0m\u001b[0mactor\u001b[0m\u001b[0;34m,\u001b[0m \u001b[0mo\u001b[0m\u001b[0;34m,\u001b[0m \u001b[0mgoal\u001b[0m\u001b[0;34m)\u001b[0m\u001b[0;34m\u001b[0m\u001b[0;34m\u001b[0m\u001b[0m\n\u001b[0m\u001b[1;32m     29\u001b[0m             \u001b[0;31m#time.sleep(0.02)\u001b[0m\u001b[0;34m\u001b[0m\u001b[0;34m\u001b[0m\u001b[0;34m\u001b[0m\u001b[0m\n\u001b[1;32m     30\u001b[0m             \u001b[0mo\u001b[0m\u001b[0;34m,\u001b[0m \u001b[0mr\u001b[0m\u001b[0;34m,\u001b[0m \u001b[0md\u001b[0m\u001b[0;34m,\u001b[0m \u001b[0m_\u001b[0m \u001b[0;34m=\u001b[0m \u001b[0menv\u001b[0m\u001b[0;34m.\u001b[0m\u001b[0mstep\u001b[0m\u001b[0;34m(\u001b[0m\u001b[0ma\u001b[0m\u001b[0;34m)\u001b[0m\u001b[0;34m\u001b[0m\u001b[0;34m\u001b[0m\u001b[0m\n",
      "\u001b[0;32m<ipython-input-79-6957283f2eed>\u001b[0m in \u001b[0;36mchoose_action\u001b[0;34m(actor, o, goal, states, a_pred, a_true, replay, i)\u001b[0m\n\u001b[1;32m    132\u001b[0m             \u001b[0ma\u001b[0m \u001b[0;34m=\u001b[0m \u001b[0ma\u001b[0m\u001b[0;34m.\u001b[0m\u001b[0msample\u001b[0m\u001b[0;34m(\u001b[0m\u001b[0;34m)\u001b[0m\u001b[0;34m.\u001b[0m\u001b[0mnumpy\u001b[0m\u001b[0;34m(\u001b[0m\u001b[0;34m)\u001b[0m\u001b[0;34m.\u001b[0m\u001b[0msqueeze\u001b[0m\u001b[0;34m(\u001b[0m\u001b[0;34m)\u001b[0m\u001b[0;34m\u001b[0m\u001b[0;34m\u001b[0m\u001b[0m\n\u001b[1;32m    133\u001b[0m         \u001b[0;32melse\u001b[0m\u001b[0;34m:\u001b[0m\u001b[0;34m\u001b[0m\u001b[0;34m\u001b[0m\u001b[0m\n\u001b[0;32m--> 134\u001b[0;31m             \u001b[0ma\u001b[0m \u001b[0;34m=\u001b[0m \u001b[0ma\u001b[0m\u001b[0;34m.\u001b[0m\u001b[0mnumpy\u001b[0m\u001b[0;34m(\u001b[0m\u001b[0;34m)\u001b[0m\u001b[0;34m.\u001b[0m\u001b[0msqueeze\u001b[0m\u001b[0;34m(\u001b[0m\u001b[0;34m)\u001b[0m\u001b[0;34m\u001b[0m\u001b[0;34m\u001b[0m\u001b[0m\n\u001b[0m\u001b[1;32m    135\u001b[0m         \u001b[0;32mif\u001b[0m \u001b[0mstates\u001b[0m \u001b[0;32mis\u001b[0m \u001b[0;32mnot\u001b[0m \u001b[0;32mNone\u001b[0m\u001b[0;34m:\u001b[0m\u001b[0;34m\u001b[0m\u001b[0;34m\u001b[0m\u001b[0m\n\u001b[1;32m    136\u001b[0m             \u001b[0mstates\u001b[0m\u001b[0;34m.\u001b[0m\u001b[0mappend\u001b[0m\u001b[0;34m(\u001b[0m\u001b[0mstate\u001b[0m\u001b[0;34m)\u001b[0m\u001b[0;34m\u001b[0m\u001b[0;34m\u001b[0m\u001b[0m\n",
      "\u001b[0;32m~/anaconda3/lib/python3.7/site-packages/tensorflow/python/framework/ops.py\u001b[0m in \u001b[0;36mnumpy\u001b[0;34m(self)\u001b[0m\n\u001b[1;32m   1061\u001b[0m     \"\"\"\n\u001b[1;32m   1062\u001b[0m     \u001b[0;31m# TODO(slebedev): Consider avoiding a copy for non-CPU or remote tensors.\u001b[0m\u001b[0;34m\u001b[0m\u001b[0;34m\u001b[0m\u001b[0;34m\u001b[0m\u001b[0m\n\u001b[0;32m-> 1063\u001b[0;31m     \u001b[0mmaybe_arr\u001b[0m \u001b[0;34m=\u001b[0m \u001b[0mself\u001b[0m\u001b[0;34m.\u001b[0m\u001b[0m_numpy\u001b[0m\u001b[0;34m(\u001b[0m\u001b[0;34m)\u001b[0m  \u001b[0;31m# pylint: disable=protected-access\u001b[0m\u001b[0;34m\u001b[0m\u001b[0;34m\u001b[0m\u001b[0m\n\u001b[0m\u001b[1;32m   1064\u001b[0m     \u001b[0;32mreturn\u001b[0m \u001b[0mmaybe_arr\u001b[0m\u001b[0;34m.\u001b[0m\u001b[0mcopy\u001b[0m\u001b[0;34m(\u001b[0m\u001b[0;34m)\u001b[0m \u001b[0;32mif\u001b[0m \u001b[0misinstance\u001b[0m\u001b[0;34m(\u001b[0m\u001b[0mmaybe_arr\u001b[0m\u001b[0;34m,\u001b[0m \u001b[0mnp\u001b[0m\u001b[0;34m.\u001b[0m\u001b[0mndarray\u001b[0m\u001b[0;34m)\u001b[0m \u001b[0;32melse\u001b[0m \u001b[0mmaybe_arr\u001b[0m\u001b[0;34m\u001b[0m\u001b[0;34m\u001b[0m\u001b[0m\n\u001b[1;32m   1065\u001b[0m \u001b[0;34m\u001b[0m\u001b[0m\n",
      "\u001b[0;32m~/anaconda3/lib/python3.7/site-packages/tensorflow/python/framework/ops.py\u001b[0m in \u001b[0;36m_numpy\u001b[0;34m(self)\u001b[0m\n\u001b[1;32m   1027\u001b[0m   \u001b[0;32mdef\u001b[0m \u001b[0m_numpy\u001b[0m\u001b[0;34m(\u001b[0m\u001b[0mself\u001b[0m\u001b[0;34m)\u001b[0m\u001b[0;34m:\u001b[0m\u001b[0;34m\u001b[0m\u001b[0;34m\u001b[0m\u001b[0m\n\u001b[1;32m   1028\u001b[0m     \u001b[0;32mtry\u001b[0m\u001b[0;34m:\u001b[0m\u001b[0;34m\u001b[0m\u001b[0;34m\u001b[0m\u001b[0m\n\u001b[0;32m-> 1029\u001b[0;31m       \u001b[0;32mreturn\u001b[0m \u001b[0mself\u001b[0m\u001b[0;34m.\u001b[0m\u001b[0m_numpy_internal\u001b[0m\u001b[0;34m(\u001b[0m\u001b[0;34m)\u001b[0m\u001b[0;34m\u001b[0m\u001b[0;34m\u001b[0m\u001b[0m\n\u001b[0m\u001b[1;32m   1030\u001b[0m     \u001b[0;32mexcept\u001b[0m \u001b[0mcore\u001b[0m\u001b[0;34m.\u001b[0m\u001b[0m_NotOkStatusException\u001b[0m \u001b[0;32mas\u001b[0m \u001b[0me\u001b[0m\u001b[0;34m:\u001b[0m  \u001b[0;31m# pylint: disable=protected-access\u001b[0m\u001b[0;34m\u001b[0m\u001b[0;34m\u001b[0m\u001b[0m\n\u001b[1;32m   1031\u001b[0m       \u001b[0msix\u001b[0m\u001b[0;34m.\u001b[0m\u001b[0mraise_from\u001b[0m\u001b[0;34m(\u001b[0m\u001b[0mcore\u001b[0m\u001b[0;34m.\u001b[0m\u001b[0m_status_to_exception\u001b[0m\u001b[0;34m(\u001b[0m\u001b[0me\u001b[0m\u001b[0;34m.\u001b[0m\u001b[0mcode\u001b[0m\u001b[0;34m,\u001b[0m \u001b[0me\u001b[0m\u001b[0;34m.\u001b[0m\u001b[0mmessage\u001b[0m\u001b[0;34m)\u001b[0m\u001b[0;34m,\u001b[0m \u001b[0;32mNone\u001b[0m\u001b[0;34m)\u001b[0m  \u001b[0;31m# pylint: disable=protected-access\u001b[0m\u001b[0;34m\u001b[0m\u001b[0;34m\u001b[0m\u001b[0m\n",
      "\u001b[0;31mKeyboardInterrupt\u001b[0m: "
     ]
    }
   ],
   "source": [
    "import tests\n",
    "from importlib import reload\n",
    "reload(tests)\n",
    "\n",
    "for test in tests.test_list:\n",
    "    # get the goal and reset to the init position\n",
    "    print(f\"\\n Test: {test.__name__}\")\n",
    "    goal = tf.expand_dims(tf.expand_dims(test(env),0),0)\n",
    "    state = env.panda.calc_state()\n",
    "    o = flatten_obs(state)\n",
    "        \n",
    "    initial_ag = state['achieved_goal']\n",
    "    \n",
    "    try:\n",
    "        env.delete_sub_goal()\n",
    "    except:\n",
    "        pass\n",
    "    \n",
    "    env.visualise_sub_goal(np.squeeze(goal), 'achieved_goal')\n",
    "\n",
    "    retries = 2\n",
    "    for i in range(0,retries):\n",
    "        if not GCBC:\n",
    "            plan, _ = planner((o[0], goal[0]))\n",
    "            z = tf.expand_dims(plan.sample(),0)\n",
    "        actor.reset_states()\n",
    "        for i in range(0, 40):\n",
    "            a = choose_action(actor, o, goal)\n",
    "            #time.sleep(0.02)\n",
    "            o, r, d, _ = env.step(a)\n",
    "            o = flatten_obs(o)\n",
    "            \n",
    "            \n",
    "    state = env.panda.calc_state()\n",
    "    final_ag = state['achieved_goal']\n",
    "    \n",
    "    tests.measure_progress(initial_ag, final_ag, np.squeeze(goal.numpy()))\n",
    "            \n",
    "    "
   ]
  },
  {
   "cell_type": "markdown",
   "metadata": {},
   "source": [
    "# env.panda.delete_sub_goal()"
   ]
  },
  {
   "cell_type": "code",
   "execution_count": 71,
   "metadata": {},
   "outputs": [
    {
     "data": {
      "image/png": "[encoded data removed]",
      "text/plain": [
       "<Figure size 432x72 with 1 Axes>"
      ]
     },
     "metadata": {
      "needs_background": "light"
     },
     "output_type": "display_data"
    },
    {
     "data": {
      "image/png": "[encoded data removed]",
      "text/plain": [
       "<Figure size 432x72 with 1 Axes>"
      ]
     },
     "metadata": {
      "needs_background": "light"
     },
     "output_type": "display_data"
    },
    {
     "data": {
      "image/png": "[encoded data removed]",
      "text/plain": [
       "<Figure size 432x72 with 1 Axes>"
      ]
     },
     "metadata": {
      "needs_background": "light"
     },
     "output_type": "display_data"
    },
    {
     "data": {
      "image/png": "[encoded data removed]",
      "text/plain": [
       "<Figure size 432x72 with 1 Axes>"
      ]
     },
     "metadata": {
      "needs_background": "light"
     },
     "output_type": "display_data"
    },
    {
     "data": {
      "image/png": "[encoded data removed]",
      "text/plain": [
       "<Figure size 432x72 with 1 Axes>"
      ]
     },
     "metadata": {
      "needs_background": "light"
     },
     "output_type": "display_data"
    },
    {
     "data": {
      "image/png": "[encoded data removed]",
      "text/plain": [
       "<Figure size 432x72 with 1 Axes>"
      ]
     },
     "metadata": {
      "needs_background": "light"
     },
     "output_type": "display_data"
    },
    {
     "data": {
      "image/png": "[encoded data removed]",
      "text/plain": [
       "<Figure size 432x72 with 1 Axes>"
      ]
     },
     "metadata": {
      "needs_background": "light"
     },
     "output_type": "display_data"
    }
   ],
   "source": [
    "length_true = len(true)\n",
    "length_pred = len(pred)\n",
    "actions_space = true.shape[-1]\n",
    "x_true = np.linspace(0, length_true, num=length_true) \n",
    "x_pred = np.linspace(0, length_pred, num=length_pred) \n",
    "if JOINTS:\n",
    "    labels = ['j1', 'j2', 'j3', 'j4', 'j5', 'j6', 'j7', 'gripper']\n",
    "else:\n",
    "    labels = ['x','y','z','q1','q2','q3','q4','gripper']\n",
    "for i in range(0,actions_space):\n",
    "    fig, axes = plt.subplots(1, 1, figsize=(6,1.0), squeeze=False)\n",
    "    # One Model\n",
    "    axes[0,0].plot(x_true,true[:,i],'green')\n",
    "    axes[0,0].plot(x_pred,pred[:,i], 'b')\n",
    "    fig.legend( ('true action', 'predicted action'))\n",
    "   \n",
    "    plt.title(labels[i])\n",
    "    plt.show()"
   ]
  },
  {
   "cell_type": "code",
   "execution_count": 105,
   "metadata": {},
   "outputs": [],
   "source": [
    "state_evolve = np.squeeze(np.array(states))"
   ]
  },
  {
   "cell_type": "code",
   "execution_count": 106,
   "metadata": {},
   "outputs": [
    {
     "ename": "ValueError",
     "evalue": "Must pass 2-d input",
     "output_type": "error",
     "traceback": [
      "\u001b[0;31m---------------------------------------------------------------------------\u001b[0m",
      "\u001b[0;31mValueError\u001b[0m                                Traceback (most recent call last)",
      "\u001b[0;32m<ipython-input-106-101c994788e7>\u001b[0m in \u001b[0;36m<module>\u001b[0;34m\u001b[0m\n\u001b[0;32m----> 1\u001b[0;31m \u001b[0msns\u001b[0m\u001b[0;34m.\u001b[0m\u001b[0mheatmap\u001b[0m\u001b[0;34m(\u001b[0m\u001b[0mstate_evolve\u001b[0m\u001b[0;34m.\u001b[0m\u001b[0mT\u001b[0m\u001b[0;34m)\u001b[0m\u001b[0;34m\u001b[0m\u001b[0;34m\u001b[0m\u001b[0m\n\u001b[0m",
      "\u001b[0;32m~/anaconda3/lib/python3.7/site-packages/seaborn/matrix.py\u001b[0m in \u001b[0;36mheatmap\u001b[0;34m(data, vmin, vmax, cmap, center, robust, annot, fmt, annot_kws, linewidths, linecolor, cbar, cbar_kws, cbar_ax, square, xticklabels, yticklabels, mask, ax, **kwargs)\u001b[0m\n\u001b[1;32m    515\u001b[0m     plotter = _HeatMapper(data, vmin, vmax, cmap, center, robust, annot, fmt,\n\u001b[1;32m    516\u001b[0m                           \u001b[0mannot_kws\u001b[0m\u001b[0;34m,\u001b[0m \u001b[0mcbar\u001b[0m\u001b[0;34m,\u001b[0m \u001b[0mcbar_kws\u001b[0m\u001b[0;34m,\u001b[0m \u001b[0mxticklabels\u001b[0m\u001b[0;34m,\u001b[0m\u001b[0;34m\u001b[0m\u001b[0;34m\u001b[0m\u001b[0m\n\u001b[0;32m--> 517\u001b[0;31m                           yticklabels, mask)\n\u001b[0m\u001b[1;32m    518\u001b[0m \u001b[0;34m\u001b[0m\u001b[0m\n\u001b[1;32m    519\u001b[0m     \u001b[0;31m# Add the pcolormesh kwargs here\u001b[0m\u001b[0;34m\u001b[0m\u001b[0;34m\u001b[0m\u001b[0;34m\u001b[0m\u001b[0m\n",
      "\u001b[0;32m~/anaconda3/lib/python3.7/site-packages/seaborn/matrix.py\u001b[0m in \u001b[0;36m__init__\u001b[0;34m(self, data, vmin, vmax, cmap, center, robust, annot, fmt, annot_kws, cbar, cbar_kws, xticklabels, yticklabels, mask)\u001b[0m\n\u001b[1;32m    108\u001b[0m         \u001b[0;32melse\u001b[0m\u001b[0;34m:\u001b[0m\u001b[0;34m\u001b[0m\u001b[0;34m\u001b[0m\u001b[0m\n\u001b[1;32m    109\u001b[0m             \u001b[0mplot_data\u001b[0m \u001b[0;34m=\u001b[0m \u001b[0mnp\u001b[0m\u001b[0;34m.\u001b[0m\u001b[0masarray\u001b[0m\u001b[0;34m(\u001b[0m\u001b[0mdata\u001b[0m\u001b[0;34m)\u001b[0m\u001b[0;34m\u001b[0m\u001b[0;34m\u001b[0m\u001b[0m\n\u001b[0;32m--> 110\u001b[0;31m             \u001b[0mdata\u001b[0m \u001b[0;34m=\u001b[0m \u001b[0mpd\u001b[0m\u001b[0;34m.\u001b[0m\u001b[0mDataFrame\u001b[0m\u001b[0;34m(\u001b[0m\u001b[0mplot_data\u001b[0m\u001b[0;34m)\u001b[0m\u001b[0;34m\u001b[0m\u001b[0;34m\u001b[0m\u001b[0m\n\u001b[0m\u001b[1;32m    111\u001b[0m \u001b[0;34m\u001b[0m\u001b[0m\n\u001b[1;32m    112\u001b[0m         \u001b[0;31m# Validate the mask and convet to DataFrame\u001b[0m\u001b[0;34m\u001b[0m\u001b[0;34m\u001b[0m\u001b[0;34m\u001b[0m\u001b[0m\n",
      "\u001b[0;32m~/anaconda3/lib/python3.7/site-packages/pandas/core/frame.py\u001b[0m in \u001b[0;36m__init__\u001b[0;34m(self, data, index, columns, dtype, copy)\u001b[0m\n\u001b[1;32m    422\u001b[0m             \u001b[0;32melse\u001b[0m\u001b[0;34m:\u001b[0m\u001b[0;34m\u001b[0m\u001b[0;34m\u001b[0m\u001b[0m\n\u001b[1;32m    423\u001b[0m                 mgr = init_ndarray(data, index, columns, dtype=dtype,\n\u001b[0;32m--> 424\u001b[0;31m                                    copy=copy)\n\u001b[0m\u001b[1;32m    425\u001b[0m \u001b[0;34m\u001b[0m\u001b[0m\n\u001b[1;32m    426\u001b[0m         \u001b[0;31m# For data is list-like, or Iterable (will consume into list)\u001b[0m\u001b[0;34m\u001b[0m\u001b[0;34m\u001b[0m\u001b[0;34m\u001b[0m\u001b[0m\n",
      "\u001b[0;32m~/anaconda3/lib/python3.7/site-packages/pandas/core/internals/construction.py\u001b[0m in \u001b[0;36minit_ndarray\u001b[0;34m(values, index, columns, dtype, copy)\u001b[0m\n\u001b[1;32m    144\u001b[0m     \u001b[0;31m# by definition an array here\u001b[0m\u001b[0;34m\u001b[0m\u001b[0;34m\u001b[0m\u001b[0;34m\u001b[0m\u001b[0m\n\u001b[1;32m    145\u001b[0m     \u001b[0;31m# the dtypes will be coerced to a single dtype\u001b[0m\u001b[0;34m\u001b[0m\u001b[0;34m\u001b[0m\u001b[0;34m\u001b[0m\u001b[0m\n\u001b[0;32m--> 146\u001b[0;31m     \u001b[0mvalues\u001b[0m \u001b[0;34m=\u001b[0m \u001b[0mprep_ndarray\u001b[0m\u001b[0;34m(\u001b[0m\u001b[0mvalues\u001b[0m\u001b[0;34m,\u001b[0m \u001b[0mcopy\u001b[0m\u001b[0;34m=\u001b[0m\u001b[0mcopy\u001b[0m\u001b[0;34m)\u001b[0m\u001b[0;34m\u001b[0m\u001b[0;34m\u001b[0m\u001b[0m\n\u001b[0m\u001b[1;32m    147\u001b[0m \u001b[0;34m\u001b[0m\u001b[0m\n\u001b[1;32m    148\u001b[0m     \u001b[0;32mif\u001b[0m \u001b[0mdtype\u001b[0m \u001b[0;32mis\u001b[0m \u001b[0;32mnot\u001b[0m \u001b[0;32mNone\u001b[0m\u001b[0;34m:\u001b[0m\u001b[0;34m\u001b[0m\u001b[0;34m\u001b[0m\u001b[0m\n",
      "\u001b[0;32m~/anaconda3/lib/python3.7/site-packages/pandas/core/internals/construction.py\u001b[0m in \u001b[0;36mprep_ndarray\u001b[0;34m(values, copy)\u001b[0m\n\u001b[1;32m    247\u001b[0m         \u001b[0mvalues\u001b[0m \u001b[0;34m=\u001b[0m \u001b[0mvalues\u001b[0m\u001b[0;34m.\u001b[0m\u001b[0mreshape\u001b[0m\u001b[0;34m(\u001b[0m\u001b[0;34m(\u001b[0m\u001b[0mvalues\u001b[0m\u001b[0;34m.\u001b[0m\u001b[0mshape\u001b[0m\u001b[0;34m[\u001b[0m\u001b[0;36m0\u001b[0m\u001b[0;34m]\u001b[0m\u001b[0;34m,\u001b[0m \u001b[0;36m1\u001b[0m\u001b[0;34m)\u001b[0m\u001b[0;34m)\u001b[0m\u001b[0;34m\u001b[0m\u001b[0;34m\u001b[0m\u001b[0m\n\u001b[1;32m    248\u001b[0m     \u001b[0;32melif\u001b[0m \u001b[0mvalues\u001b[0m\u001b[0;34m.\u001b[0m\u001b[0mndim\u001b[0m \u001b[0;34m!=\u001b[0m \u001b[0;36m2\u001b[0m\u001b[0;34m:\u001b[0m\u001b[0;34m\u001b[0m\u001b[0;34m\u001b[0m\u001b[0m\n\u001b[0;32m--> 249\u001b[0;31m         \u001b[0;32mraise\u001b[0m \u001b[0mValueError\u001b[0m\u001b[0;34m(\u001b[0m\u001b[0;34m'Must pass 2-d input'\u001b[0m\u001b[0;34m)\u001b[0m\u001b[0;34m\u001b[0m\u001b[0;34m\u001b[0m\u001b[0m\n\u001b[0m\u001b[1;32m    250\u001b[0m \u001b[0;34m\u001b[0m\u001b[0m\n\u001b[1;32m    251\u001b[0m     \u001b[0;32mreturn\u001b[0m \u001b[0mvalues\u001b[0m\u001b[0;34m\u001b[0m\u001b[0;34m\u001b[0m\u001b[0m\n",
      "\u001b[0;31mValueError\u001b[0m: Must pass 2-d input"
     ]
    }
   ],
   "source": [
    "sns.heatmap(state_evolve.T)"
   ]
  },
  {
   "cell_type": "code",
   "execution_count": 107,
   "metadata": {},
   "outputs": [
    {
     "data": {
      "text/plain": [
       "[<matplotlib.lines.Line2D at 0x7f6364797860>,\n",
       " <matplotlib.lines.Line2D at 0x7f6364797978>,\n",
       " <matplotlib.lines.Line2D at 0x7f6364797ac8>,\n",
       " <matplotlib.lines.Line2D at 0x7f6364797c18>,\n",
       " <matplotlib.lines.Line2D at 0x7f6364797d68>,\n",
       " <matplotlib.lines.Line2D at 0x7f6364797eb8>,\n",
       " <matplotlib.lines.Line2D at 0x7f63647a0048>,\n",
       " <matplotlib.lines.Line2D at 0x7f63647a0198>,\n",
       " <matplotlib.lines.Line2D at 0x7f63647a02e8>,\n",
       " <matplotlib.lines.Line2D at 0x7f63647a0438>,\n",
       " <matplotlib.lines.Line2D at 0x7f63647f8710>,\n",
       " <matplotlib.lines.Line2D at 0x7f63647a06a0>,\n",
       " <matplotlib.lines.Line2D at 0x7f63647a07f0>,\n",
       " <matplotlib.lines.Line2D at 0x7f63647a0940>,\n",
       " <matplotlib.lines.Line2D at 0x7f63647a0a90>,\n",
       " <matplotlib.lines.Line2D at 0x7f63647a0be0>,\n",
       " <matplotlib.lines.Line2D at 0x7f63647a0d30>,\n",
       " <matplotlib.lines.Line2D at 0x7f63647a0e80>,\n",
       " <matplotlib.lines.Line2D at 0x7f63647a0fd0>,\n",
       " <matplotlib.lines.Line2D at 0x7f63647a5160>,\n",
       " <matplotlib.lines.Line2D at 0x7f63647a52b0>,\n",
       " <matplotlib.lines.Line2D at 0x7f63647a5400>,\n",
       " <matplotlib.lines.Line2D at 0x7f63647a5550>,\n",
       " <matplotlib.lines.Line2D at 0x7f63647a56a0>,\n",
       " <matplotlib.lines.Line2D at 0x7f63647a57f0>,\n",
       " <matplotlib.lines.Line2D at 0x7f63647a5940>,\n",
       " <matplotlib.lines.Line2D at 0x7f63647a5a90>,\n",
       " <matplotlib.lines.Line2D at 0x7f63647a5be0>,\n",
       " <matplotlib.lines.Line2D at 0x7f63647a5d30>,\n",
       " <matplotlib.lines.Line2D at 0x7f63647a5e80>,\n",
       " <matplotlib.lines.Line2D at 0x7f63647a5fd0>,\n",
       " <matplotlib.lines.Line2D at 0x7f63647a9160>,\n",
       " <matplotlib.lines.Line2D at 0x7f63647a92b0>,\n",
       " <matplotlib.lines.Line2D at 0x7f63647a9400>,\n",
       " <matplotlib.lines.Line2D at 0x7f63647a9550>,\n",
       " <matplotlib.lines.Line2D at 0x7f63647a96a0>,\n",
       " <matplotlib.lines.Line2D at 0x7f63647a97f0>,\n",
       " <matplotlib.lines.Line2D at 0x7f63647a9940>,\n",
       " <matplotlib.lines.Line2D at 0x7f63647a9a90>,\n",
       " <matplotlib.lines.Line2D at 0x7f63647a9be0>]"
      ]
     },
     "execution_count": 107,
     "metadata": {},
     "output_type": "execute_result"
    },
    {
     "data": {
      "image/png": "[encoded data removed]",
      "text/plain": [
       "<Figure size 432x288 with 1 Axes>"
      ]
     },
     "metadata": {
      "needs_background": "light"
     },
     "output_type": "display_data"
    }
   ],
   "source": [
    "plt.plot(np.linspace(0,len(states)-1,len(states)-1),np.linalg.norm(state_evolve[1:,:] - state_evolve[:-1,:], axis=-1))"
   ]
  },
  {
   "cell_type": "code",
   "execution_count": 28,
   "metadata": {},
   "outputs": [
    {
     "name": "stdout",
     "output_type": "stream",
     "text": [
      "7 3085\n",
      "73085\n",
      "data_collection/collected_data/new_ori_one_obj/states_and_ims/7/env_states/3085.bullet\n",
      "7 3008\n",
      "73008\n",
      "data_collection/collected_data/new_ori_one_obj/states_and_ims/7/env_states/3008.bullet\n",
      "7 3034\n",
      "73034\n",
      "data_collection/collected_data/new_ori_one_obj/states_and_ims/7/env_states/3034.bullet\n",
      "7 3169\n",
      "73169\n",
      "data_collection/collected_data/new_ori_one_obj/states_and_ims/7/env_states/3169.bullet\n",
      "7 2984\n",
      "72984\n",
      "data_collection/collected_data/new_ori_one_obj/states_and_ims/7/env_states/2984.bullet\n",
      "7 2969\n",
      "72969\n",
      "data_collection/collected_data/new_ori_one_obj/states_and_ims/7/env_states/2969.bullet\n",
      "7 3250\n",
      "73250\n",
      "data_collection/collected_data/new_ori_one_obj/states_and_ims/7/env_states/3250.bullet\n",
      "7 3272\n",
      "73272\n",
      "data_collection/collected_data/new_ori_one_obj/states_and_ims/7/env_states/3272.bullet\n",
      "7 3267\n",
      "73267\n",
      "data_collection/collected_data/new_ori_one_obj/states_and_ims/7/env_states/3267.bullet\n",
      "7 3206\n",
      "73206\n",
      "data_collection/collected_data/new_ori_one_obj/states_and_ims/7/env_states/3206.bullet\n",
      "7 3329\n",
      "73329\n",
      "data_collection/collected_data/new_ori_one_obj/states_and_ims/7/env_states/3329.bullet\n",
      "7 3136\n",
      "73136\n",
      "data_collection/collected_data/new_ori_one_obj/states_and_ims/7/env_states/3136.bullet\n",
      "7 3405\n",
      "73405\n",
      "data_collection/collected_data/new_ori_one_obj/states_and_ims/7/env_states/3405.bullet\n",
      "7 3378\n",
      "73378\n",
      "data_collection/collected_data/new_ori_one_obj/states_and_ims/7/env_states/3378.bullet\n",
      "7 3462\n",
      "73462\n",
      "data_collection/collected_data/new_ori_one_obj/states_and_ims/7/env_states/3462.bullet\n",
      "7 3517\n",
      "73517\n",
      "data_collection/collected_data/new_ori_one_obj/states_and_ims/7/env_states/3517.bullet\n",
      "7 3577\n",
      "73577\n",
      "data_collection/collected_data/new_ori_one_obj/states_and_ims/7/env_states/3577.bullet\n",
      "7 3605\n",
      "73605\n",
      "data_collection/collected_data/new_ori_one_obj/states_and_ims/7/env_states/3605.bullet\n",
      "7 3677\n",
      "73677\n",
      "data_collection/collected_data/new_ori_one_obj/states_and_ims/7/env_states/3677.bullet\n",
      "7 3666\n",
      "73666\n",
      "data_collection/collected_data/new_ori_one_obj/states_and_ims/7/env_states/3666.bullet\n"
     ]
    }
   ],
   "source": [
    "\n",
    "for i in range(0,20):\n",
    "    data = v_it.next()\n",
    "    idx = np.random.choice(BATCH_SIZE_PER_REPLICA)\n",
    "    true, pred, _ = test_subsequences(data, idx, retries = 1, replay=True)\n",
    "    #true, pred, states = test_subsequences(data, idx, retries = 1, replay=False)"
   ]
  },
  {
   "cell_type": "markdown",
   "metadata": {},
   "source": [
    "# Transition Model Experiments"
   ]
  },
  {
   "cell_type": "code",
   "execution_count": 18,
   "metadata": {},
   "outputs": [],
   "source": [
    "model_params = {'layer_size':LAYER_SIZE, 'latent_dim':LATENT_DIM, 'training':False}\n",
    "if PROBABILISTIC:\n",
    "    actor_stateful = create_actor(**model_params, GCBC=GCBC, num_distribs=3)\n",
    "else:\n",
    "    actor_stateful = create_actor(**model_params, GCBC=GCBC)"
   ]
  },
  {
   "cell_type": "code",
   "execution_count": 28,
   "metadata": {},
   "outputs": [
    {
     "name": "stdout",
     "output_type": "stream",
     "text": [
      "CPU times: user 530 ms, sys: 220 ms, total: 751 ms\n",
      "Wall time: 370 ms\n"
     ]
    }
   ],
   "source": [
    "%%time\n",
    "actor_stateful.set_weights(actor.get_weights())"
   ]
  },
  {
   "cell_type": "code",
   "execution_count": 28,
   "metadata": {},
   "outputs": [],
   "source": [
    "# Create a transition model, input obs, act, output obs\n",
    "import tensorflow_addons as tfa\n",
    "\n",
    "def create_transition_model(layer_size=512):\n",
    "    # params #\n",
    "    batch_size = None\n",
    "\n",
    "    # Input #\n",
    "    o = Input(shape=(OBS_DIM,), batch_size=batch_size, dtype=tf.float32, name='initial_obs') # has arm state\n",
    "    a = Input(shape=(ACT_DIM,), batch_size=batch_size, dtype=tf.float32, name='goal_obs') # does not have arm state\n",
    "\n",
    "    # Layers #\n",
    "    x = Concatenate(axis=-1)([o,a])\n",
    "    x = Masking(mask_value=0.)(x)\n",
    "    x = Dense(layer_size, activation=\"relu\", name='layer_1')(x)\n",
    "    x = Dense(layer_size, activation=\"relu\", name='layer_2')(x)\n",
    "    x = Dense(layer_size, activation=\"relu\", name='layer_3')(x)\n",
    "    o_next = Dense(OBS_DIM, name='layer_4')(x)\n",
    "    \n",
    "    return Model([o, a], o_next)\n",
    "\n",
    "def make_model_batch(states, acts):\n",
    "    s = states[:, :-1,:]\n",
    "    a = acts[:, :-1, :]\n",
    "    s_next = states[:, 1:, :]\n",
    "    B,T,D = s.shape\n",
    "    s = tf.reshape(s, (B*T, D))\n",
    "    a = tf.reshape(a, (B*T, -1))\n",
    "    s_next = tf.reshape(s_next, (B*T, D))\n",
    "    return s, a, s_next\n",
    "\n",
    "\n",
    "model = create_transition_model()\n",
    "model_optimizer = tfa.optimizers.AdamW(weight_decay=1e-5, learning_rate=1e-4)\n",
    "t_it = iter(train_dataset.repeat(-1))\n",
    "v_it = iter(valid_dataset.repeat(-1))\n"
   ]
  },
  {
   "cell_type": "code",
   "execution_count": 29,
   "metadata": {},
   "outputs": [
    {
     "name": "stdout",
     "output_type": "stream",
     "text": [
      "0 0.2616796\n",
      "500 0.08140578\n",
      "1000 0.080035\n",
      "1500 0.07606537\n",
      "2000 0.063986965\n",
      "2500 0.06395352\n",
      "3000 0.061576404\n",
      "3500 0.06351275\n"
     ]
    },
    {
     "ename": "KeyboardInterrupt",
     "evalue": "",
     "output_type": "error",
     "traceback": [
      "\u001b[0;31m---------------------------------------------------------------------------\u001b[0m",
      "\u001b[0;31mKeyboardInterrupt\u001b[0m                         Traceback (most recent call last)",
      "\u001b[0;32m<ipython-input-29-5002271edbc6>\u001b[0m in \u001b[0;36m<module>\u001b[0;34m\u001b[0m\n\u001b[1;32m     31\u001b[0m \u001b[0;32mwhile\u001b[0m\u001b[0;34m(\u001b[0m\u001b[0mt\u001b[0m\u001b[0;34m<\u001b[0m\u001b[0mtotal_steps\u001b[0m\u001b[0;34m)\u001b[0m\u001b[0;34m:\u001b[0m\u001b[0;34m\u001b[0m\u001b[0;34m\u001b[0m\u001b[0m\n\u001b[1;32m     32\u001b[0m \u001b[0;34m\u001b[0m\u001b[0m\n\u001b[0;32m---> 33\u001b[0;31m     \u001b[0mt_loss\u001b[0m \u001b[0;34m=\u001b[0m \u001b[0mtrain_step\u001b[0m\u001b[0;34m(\u001b[0m\u001b[0;34m)\u001b[0m\u001b[0;34m\u001b[0m\u001b[0;34m\u001b[0m\u001b[0m\n\u001b[0m\u001b[1;32m     34\u001b[0m     \u001b[0mv_loss\u001b[0m \u001b[0;34m=\u001b[0m \u001b[0mvalid_step\u001b[0m\u001b[0;34m(\u001b[0m\u001b[0;34m)\u001b[0m\u001b[0;34m\u001b[0m\u001b[0;34m\u001b[0m\u001b[0m\n\u001b[1;32m     35\u001b[0m     \u001b[0;32mif\u001b[0m \u001b[0mt\u001b[0m \u001b[0;34m%\u001b[0m \u001b[0;36m500\u001b[0m \u001b[0;34m==\u001b[0m \u001b[0;36m0\u001b[0m\u001b[0;34m:\u001b[0m\u001b[0;34m\u001b[0m\u001b[0;34m\u001b[0m\u001b[0m\n",
      "\u001b[0;32m<ipython-input-29-5002271edbc6>\u001b[0m in \u001b[0;36mtrain_step\u001b[0;34m()\u001b[0m\n\u001b[1;32m     19\u001b[0m     \u001b[0;32mwith\u001b[0m \u001b[0mtf\u001b[0m\u001b[0;34m.\u001b[0m\u001b[0mGradientTape\u001b[0m\u001b[0;34m(\u001b[0m\u001b[0;34m)\u001b[0m \u001b[0;32mas\u001b[0m \u001b[0mtape\u001b[0m\u001b[0;34m:\u001b[0m\u001b[0;34m\u001b[0m\u001b[0;34m\u001b[0m\u001b[0m\n\u001b[1;32m     20\u001b[0m         \u001b[0md\u001b[0m \u001b[0;34m=\u001b[0m \u001b[0mt_it\u001b[0m\u001b[0;34m.\u001b[0m\u001b[0mnext\u001b[0m\u001b[0;34m(\u001b[0m\u001b[0;34m)\u001b[0m\u001b[0;34m\u001b[0m\u001b[0;34m\u001b[0m\u001b[0m\n\u001b[0;32m---> 21\u001b[0;31m         \u001b[0mloss\u001b[0m \u001b[0;34m=\u001b[0m \u001b[0mstep\u001b[0m\u001b[0;34m(\u001b[0m\u001b[0md\u001b[0m\u001b[0;34m)\u001b[0m\u001b[0;34m\u001b[0m\u001b[0;34m\u001b[0m\u001b[0m\n\u001b[0m\u001b[1;32m     22\u001b[0m         \u001b[0mgradients\u001b[0m \u001b[0;34m=\u001b[0m \u001b[0mtape\u001b[0m\u001b[0;34m.\u001b[0m\u001b[0mgradient\u001b[0m\u001b[0;34m(\u001b[0m\u001b[0mloss\u001b[0m\u001b[0;34m,\u001b[0m \u001b[0mmodel\u001b[0m\u001b[0;34m.\u001b[0m\u001b[0mtrainable_variables\u001b[0m\u001b[0;34m)\u001b[0m\u001b[0;34m\u001b[0m\u001b[0;34m\u001b[0m\u001b[0m\n\u001b[1;32m     23\u001b[0m         \u001b[0mmodel_optimizer\u001b[0m\u001b[0;34m.\u001b[0m\u001b[0mapply_gradients\u001b[0m\u001b[0;34m(\u001b[0m\u001b[0mzip\u001b[0m\u001b[0;34m(\u001b[0m\u001b[0mgradients\u001b[0m\u001b[0;34m,\u001b[0m \u001b[0mmodel\u001b[0m\u001b[0;34m.\u001b[0m\u001b[0mtrainable_variables\u001b[0m\u001b[0;34m)\u001b[0m\u001b[0;34m)\u001b[0m\u001b[0;34m\u001b[0m\u001b[0;34m\u001b[0m\u001b[0m\n",
      "\u001b[0;32m<ipython-input-29-5002271edbc6>\u001b[0m in \u001b[0;36mstep\u001b[0;34m(d)\u001b[0m\n\u001b[1;32m     13\u001b[0m     \u001b[0ms\u001b[0m\u001b[0;34m,\u001b[0m\u001b[0ma\u001b[0m\u001b[0;34m,\u001b[0m \u001b[0m_\u001b[0m\u001b[0;34m,\u001b[0m\u001b[0m_\u001b[0m\u001b[0;34m,\u001b[0m\u001b[0m_\u001b[0m\u001b[0;34m,\u001b[0m\u001b[0m_\u001b[0m\u001b[0;34m,\u001b[0m\u001b[0m_\u001b[0m \u001b[0;34m=\u001b[0m \u001b[0;34m[\u001b[0m\u001b[0md\u001b[0m\u001b[0;34m[\u001b[0m\u001b[0mk\u001b[0m\u001b[0;34m]\u001b[0m \u001b[0;32mfor\u001b[0m \u001b[0mk\u001b[0m \u001b[0;32min\u001b[0m \u001b[0md\u001b[0m\u001b[0;34m.\u001b[0m\u001b[0mkeys\u001b[0m\u001b[0;34m(\u001b[0m\u001b[0;34m)\u001b[0m\u001b[0;34m]\u001b[0m\u001b[0;34m\u001b[0m\u001b[0;34m\u001b[0m\u001b[0m\n\u001b[1;32m     14\u001b[0m     \u001b[0ms\u001b[0m\u001b[0;34m,\u001b[0m\u001b[0ma\u001b[0m\u001b[0;34m,\u001b[0m\u001b[0ms_next\u001b[0m \u001b[0;34m=\u001b[0m \u001b[0mmake_model_batch\u001b[0m\u001b[0;34m(\u001b[0m\u001b[0ms\u001b[0m\u001b[0;34m,\u001b[0m\u001b[0ma\u001b[0m\u001b[0;34m)\u001b[0m\u001b[0;34m\u001b[0m\u001b[0;34m\u001b[0m\u001b[0m\n\u001b[0;32m---> 15\u001b[0;31m     \u001b[0ms_pred\u001b[0m \u001b[0;34m=\u001b[0m \u001b[0mmodel\u001b[0m\u001b[0;34m(\u001b[0m\u001b[0;34m(\u001b[0m\u001b[0ms\u001b[0m\u001b[0;34m,\u001b[0m\u001b[0ma\u001b[0m\u001b[0;34m)\u001b[0m\u001b[0;34m)\u001b[0m\u001b[0;34m\u001b[0m\u001b[0;34m\u001b[0m\u001b[0m\n\u001b[0m\u001b[1;32m     16\u001b[0m     \u001b[0;32mreturn\u001b[0m \u001b[0mtf\u001b[0m\u001b[0;34m.\u001b[0m\u001b[0mreduce_mean\u001b[0m\u001b[0;34m(\u001b[0m\u001b[0mtf\u001b[0m\u001b[0;34m.\u001b[0m\u001b[0mkeras\u001b[0m\u001b[0;34m.\u001b[0m\u001b[0mlosses\u001b[0m\u001b[0;34m.\u001b[0m\u001b[0mMAE\u001b[0m\u001b[0;34m(\u001b[0m\u001b[0ms_next\u001b[0m\u001b[0;34m,\u001b[0m \u001b[0ms_pred\u001b[0m\u001b[0;34m)\u001b[0m\u001b[0;34m)\u001b[0m\u001b[0;34m\u001b[0m\u001b[0;34m\u001b[0m\u001b[0m\n\u001b[1;32m     17\u001b[0m \u001b[0;34m\u001b[0m\u001b[0m\n",
      "\u001b[0;32m~/anaconda3/lib/python3.7/site-packages/tensorflow/python/keras/engine/base_layer.py\u001b[0m in \u001b[0;36m__call__\u001b[0;34m(self, *args, **kwargs)\u001b[0m\n\u001b[1;32m    957\u001b[0m     \u001b[0;31m# called multiple times.\u001b[0m\u001b[0;34m\u001b[0m\u001b[0;34m\u001b[0m\u001b[0;34m\u001b[0m\u001b[0m\n\u001b[1;32m    958\u001b[0m     \u001b[0;32mif\u001b[0m \u001b[0;32mnot\u001b[0m \u001b[0mcall_context\u001b[0m\u001b[0;34m.\u001b[0m\u001b[0min_call\u001b[0m\u001b[0;34m:\u001b[0m\u001b[0;34m\u001b[0m\u001b[0;34m\u001b[0m\u001b[0m\n\u001b[0;32m--> 959\u001b[0;31m       \u001b[0mself\u001b[0m\u001b[0;34m.\u001b[0m\u001b[0m_clear_losses\u001b[0m\u001b[0;34m(\u001b[0m\u001b[0;34m)\u001b[0m\u001b[0;34m\u001b[0m\u001b[0;34m\u001b[0m\u001b[0m\n\u001b[0m\u001b[1;32m    960\u001b[0m \u001b[0;34m\u001b[0m\u001b[0m\n\u001b[1;32m    961\u001b[0m     \u001b[0meager\u001b[0m \u001b[0;34m=\u001b[0m \u001b[0mcontext\u001b[0m\u001b[0;34m.\u001b[0m\u001b[0mexecuting_eagerly\u001b[0m\u001b[0;34m(\u001b[0m\u001b[0;34m)\u001b[0m\u001b[0;34m\u001b[0m\u001b[0;34m\u001b[0m\u001b[0m\n",
      "\u001b[0;32m~/anaconda3/lib/python3.7/site-packages/tensorflow/python/keras/engine/base_layer.py\u001b[0m in \u001b[0;36m_clear_losses\u001b[0;34m(self)\u001b[0m\n\u001b[1;32m   1564\u001b[0m       \u001b[0mself\u001b[0m\u001b[0;34m.\u001b[0m\u001b[0m_thread_local\u001b[0m\u001b[0;34m.\u001b[0m\u001b[0m_eager_losses\u001b[0m \u001b[0;34m=\u001b[0m \u001b[0;34m[\u001b[0m\u001b[0;34m]\u001b[0m\u001b[0;34m\u001b[0m\u001b[0;34m\u001b[0m\u001b[0m\n\u001b[1;32m   1565\u001b[0m     \u001b[0;32melse\u001b[0m\u001b[0;34m:\u001b[0m\u001b[0;34m\u001b[0m\u001b[0;34m\u001b[0m\u001b[0m\n\u001b[0;32m-> 1566\u001b[0;31m       \u001b[0;32mfor\u001b[0m \u001b[0mlayer\u001b[0m \u001b[0;32min\u001b[0m \u001b[0mself\u001b[0m\u001b[0;34m.\u001b[0m\u001b[0m_flatten_layers\u001b[0m\u001b[0;34m(\u001b[0m\u001b[0;34m)\u001b[0m\u001b[0;34m:\u001b[0m\u001b[0;34m\u001b[0m\u001b[0;34m\u001b[0m\u001b[0m\n\u001b[0m\u001b[1;32m   1567\u001b[0m         \u001b[0mlayer\u001b[0m\u001b[0;34m.\u001b[0m\u001b[0m_thread_local\u001b[0m\u001b[0;34m.\u001b[0m\u001b[0m_eager_losses\u001b[0m \u001b[0;34m=\u001b[0m \u001b[0;34m[\u001b[0m\u001b[0;34m]\u001b[0m\u001b[0;34m\u001b[0m\u001b[0;34m\u001b[0m\u001b[0m\n\u001b[1;32m   1568\u001b[0m \u001b[0;34m\u001b[0m\u001b[0m\n",
      "\u001b[0;32m~/anaconda3/lib/python3.7/site-packages/tensorflow/python/keras/engine/base_layer.py\u001b[0m in \u001b[0;36m_flatten_layers\u001b[0;34m(self, recursive, include_self)\u001b[0m\n\u001b[1;32m   2866\u001b[0m           \u001b[0;31m# Introspect recursively through sublayers.\u001b[0m\u001b[0;34m\u001b[0m\u001b[0;34m\u001b[0m\u001b[0;34m\u001b[0m\u001b[0m\n\u001b[1;32m   2867\u001b[0m           \u001b[0;32mif\u001b[0m \u001b[0mrecursive\u001b[0m\u001b[0;34m:\u001b[0m\u001b[0;34m\u001b[0m\u001b[0;34m\u001b[0m\u001b[0m\n\u001b[0;32m-> 2868\u001b[0;31m             \u001b[0msublayers\u001b[0m \u001b[0;34m=\u001b[0m \u001b[0mgetattr\u001b[0m\u001b[0;34m(\u001b[0m\u001b[0mlayer_or_container\u001b[0m\u001b[0;34m,\u001b[0m \u001b[0;34m'_layers'\u001b[0m\u001b[0;34m,\u001b[0m \u001b[0;32mNone\u001b[0m\u001b[0;34m)\u001b[0m\u001b[0;34m\u001b[0m\u001b[0;34m\u001b[0m\u001b[0m\n\u001b[0m\u001b[1;32m   2869\u001b[0m             \u001b[0;32mif\u001b[0m \u001b[0msublayers\u001b[0m\u001b[0;34m:\u001b[0m\u001b[0;34m\u001b[0m\u001b[0;34m\u001b[0m\u001b[0m\n\u001b[1;32m   2870\u001b[0m               \u001b[0mdeque\u001b[0m\u001b[0;34m.\u001b[0m\u001b[0mextendleft\u001b[0m\u001b[0;34m(\u001b[0m\u001b[0mreversed\u001b[0m\u001b[0;34m(\u001b[0m\u001b[0msublayers\u001b[0m\u001b[0;34m)\u001b[0m\u001b[0;34m)\u001b[0m\u001b[0;34m\u001b[0m\u001b[0;34m\u001b[0m\u001b[0m\n",
      "\u001b[0;31mKeyboardInterrupt\u001b[0m: "
     ]
    }
   ],
   "source": [
    "\n",
    "# Take a batch from t_it, regress next obs to obs/act\n",
    "\n",
    "\n",
    "total_steps = 10000\n",
    "t = 0\n",
    "steps = []\n",
    "t_losses = []\n",
    "v_losses = []\n",
    "   \n",
    "    \n",
    "def step(d):\n",
    "    s,a, _,_,_,_,_ = [d[k] for k in d.keys()]\n",
    "    s,a,s_next = make_model_batch(s,a)\n",
    "    s_pred = model((s,a))\n",
    "    return tf.reduce_mean(tf.keras.losses.MAE(s_next, s_pred))\n",
    "\n",
    "def train_step():\n",
    "    with tf.GradientTape() as tape:\n",
    "        d = t_it.next()\n",
    "        loss = step(d)\n",
    "        gradients = tape.gradient(loss, model.trainable_variables)\n",
    "        model_optimizer.apply_gradients(zip(gradients, model.trainable_variables))\n",
    "    return loss\n",
    "\n",
    "def valid_step():\n",
    "    d = v_it.next()\n",
    "    return step(d)\n",
    "\n",
    "\n",
    "while(t<total_steps):\n",
    "    \n",
    "    t_loss = train_step()\n",
    "    v_loss = valid_step()\n",
    "    if t % 500 == 0:\n",
    "        t_losses.append(t_loss)\n",
    "        v_losses.append(v_loss)\n",
    "        steps.append(t)\n",
    "        print(t, v_loss.numpy())\n",
    "        \n",
    "    t += 1"
   ]
  },
  {
   "cell_type": "code",
   "execution_count": 30,
   "metadata": {},
   "outputs": [],
   "source": [
    "def plot(array):\n",
    "    plt.plot(np.linspace(0,len(array),len(array)),np.linalg.norm(array, axis=-1))"
   ]
  },
  {
   "cell_type": "code",
   "execution_count": 31,
   "metadata": {},
   "outputs": [
    {
     "data": {
      "text/plain": [
       "[<matplotlib.lines.Line2D at 0x7f302c1252e8>]"
      ]
     },
     "execution_count": 31,
     "metadata": {},
     "output_type": "execute_result"
    },
    {
     "data": {
      "image/png": "[encoded data removed]",
      "text/plain": [
       "<Figure size 432x288 with 1 Axes>"
      ]
     },
     "metadata": {
      "needs_background": "light"
     },
     "output_type": "display_data"
    }
   ],
   "source": [
    "plt.plot(steps, t_losses)\n",
    "plt.plot(steps, v_losses)"
   ]
  },
  {
   "cell_type": "code",
   "execution_count": 55,
   "metadata": {},
   "outputs": [],
   "source": [
    "\n",
    "\n",
    "# Using stateful actor, play out a sequence from our trajectory bank\n",
    "import time\n",
    "\n",
    "def test_subsequences(data, idx, retries = 3, replay=False, replan_interval=20):\n",
    "    \n",
    "    \n",
    "    states, acts, goals, seq_lens, masks, pth, tsteps = [data[k] for k in data.keys()]\n",
    "    \n",
    "    \n",
    "    start_idx = str(int(tsteps[idx,0]))\n",
    "    traj_end = len(np.where(masks[idx] == 1)[0])-1\n",
    "    print(int(pth[idx,0]), int(tsteps[idx,0]))\n",
    "    print(str(int(pth[idx,0]))+str(int(tsteps[idx,0])) )\n",
    "    print(PYBULLET_DATA_DIR +'states_and_ims/'+str(int(pth[idx,0]))+'/env_states/'+str(int(tsteps[idx,0]))+'.bullet')\n",
    "\n",
    "    env.p.restoreState(fileName=PYBULLET_DATA_DIR +'states_and_ims/'+str(int(pth[idx,0]))+'/env_states/'+str(int(tsteps[idx,0]))+'.bullet')\n",
    "    state = env.panda.calc_state()\n",
    "    if JOINTS:\n",
    "        o = tf.expand_dims(tf.expand_dims(np.concatenate([state['observation'], state['joints'][:7]]),0),0)\n",
    "    else:\n",
    "        o = tf.expand_dims(tf.expand_dims(state['observation'],0),0)\n",
    "    #print(states)\n",
    "    #print(o.shape, o_p.shape, states.shape)\n",
    "    #print(o, '-------------------', o_p)\n",
    "    goal = goals[idx, traj_end,:]\n",
    "    goal = tf.expand_dims(tf.expand_dims(goal, 0),0)\n",
    "    \n",
    "    if VELOCITY:\n",
    "        o = tf.concat([tf.cast(o, tf.float32),tf.expand_dims(tf.expand_dims(tf.cast(state['velocity'],tf.float32),0),0)], axis = -1)\n",
    "    \n",
    "    if replay:\n",
    "        retries = 1\n",
    "    o_p = tf.expand_dims(tf.expand_dims(states[idx,0],0),0)\n",
    "    a_true =  acts[idx, :traj_end]\n",
    "    a_pred = []\n",
    "    o_ins, a_ins = [],[]\n",
    "    o_trues = []\n",
    "    o_preds= []\n",
    "    o_pred = tf.squeeze(o,0)\n",
    "    for j in range(0,retries):\n",
    "        if not GCBC:\n",
    "            plan, _ = planner((o[0], goal[0]))\n",
    "            z = tf.expand_dims(plan.sample(),0)\n",
    "        actor.reset_states()\n",
    "        if not replay:\n",
    "            replan_horizon = traj_end\n",
    "        else:\n",
    "            replan_horizon = traj_end\n",
    "            \n",
    "        for i in range(0, replan_horizon):\n",
    "\n",
    "            \n",
    "            if GCBC:\n",
    "                a,_,_ = actor((o, goal))\n",
    "                a = a.numpy().squeeze()\n",
    "                a_pred.append(a)\n",
    "            else:\n",
    "                a = actor((o, z,goal)).numpy().squeeze()\n",
    "                a_pred.append(a)\n",
    "                \n",
    "            if replay or i < 0:\n",
    "                a=a_true[i, :] # test whether a good init state would help by visualising the first 5 steps\n",
    "            \n",
    "#             o_ins.append(tf.squeeze(o,0)), a_ins.append(tf.expand_dims(a,0))\n",
    "#             o_pred = model((tf.squeeze(o,0),tf.expand_dims(a,0)))\n",
    "            o_ins.append(tf.squeeze(o,0)), a_ins.append(tf.expand_dims(a,0))\n",
    "            o_pred = model((o_pred,tf.expand_dims(a,0)))\n",
    "\n",
    "            env.visualise_sub_goal(np.squeeze(o_pred))\n",
    "            o, r, d, _ = env.step(a)\n",
    "            vel= tf.expand_dims(tf.expand_dims(tf.cast(o['velocity'],tf.float32),0),0)\n",
    "            if JOINTS:\n",
    "                o = tf.expand_dims(tf.expand_dims(np.concatenate([o['observation'],o['joints'][:7]]), 0),0)\n",
    "            else:\n",
    "                o = tf.expand_dims(tf.expand_dims(o['observation'], 0),0)\n",
    "                \n",
    "            if VELOCITY:\n",
    "                o = tf.concat([tf.cast(o, tf.float32),vel], axis = -1)\n",
    "                \n",
    "            o_preds.append(o_pred.numpy())\n",
    "            o_trues.append(o.numpy())\n",
    "            \n",
    "    return np.array(a_true), np.array(a_pred), np.squeeze(np.array(o_trues)), np.squeeze(np.array(o_preds)), np.array(o_ins), np.array(a_ins)\n",
    "# Feed the actions through transition model and take a few gradient steps until it was more like what actually happened\n",
    "\n",
    "# Take loss between model predicted state and desired state for all steps, update our actor\n",
    "\n",
    "# rerun, if its better, then update the main model, otherwise, reset this one to main\n",
    "\n"
   ]
  },
  {
   "cell_type": "code",
   "execution_count": 59,
   "metadata": {},
   "outputs": [],
   "source": [
    "env.visualise_sub_goal(np.squeeze(o_pred))\n",
    "env.panda.delete_sub_goal()\n",
    "env.panda.sub_goals=None"
   ]
  },
  {
   "cell_type": "code",
   "execution_count": 51,
   "metadata": {},
   "outputs": [],
   "source": [
    "data = t_it.next()\n",
    "idx = np.random.choice(BATCH_SIZE_PER_REPLICA)"
   ]
  },
  {
   "cell_type": "code",
   "execution_count": 60,
   "metadata": {},
   "outputs": [
    {
     "name": "stdout",
     "output_type": "stream",
     "text": [
      "16 4709\n",
      "164709\n",
      "data_collection/collected_data/one_obj_play/states_and_ims/16/env_states/4709.bullet\n",
      "8\n",
      "15\n",
      "15\n",
      "16\n",
      "17\n",
      "18\n",
      "8\n",
      "15\n",
      "15\n",
      "16\n",
      "17\n",
      "18\n",
      "8\n",
      "15\n",
      "15\n",
      "16\n",
      "17\n",
      "18\n",
      "8\n",
      "15\n",
      "15\n",
      "16\n",
      "17\n",
      "18\n",
      "8\n",
      "15\n",
      "15\n",
      "16\n",
      "17\n",
      "18\n",
      "8\n",
      "15\n",
      "15\n",
      "16\n",
      "17\n",
      "18\n",
      "8\n",
      "15\n",
      "15\n",
      "16\n",
      "17\n",
      "18\n",
      "8\n",
      "15\n",
      "15\n",
      "16\n",
      "17\n",
      "18\n",
      "8\n",
      "15\n",
      "15\n",
      "16\n",
      "17\n",
      "18\n",
      "8\n",
      "15\n",
      "15\n",
      "16\n",
      "17\n",
      "18\n",
      "8\n",
      "15\n",
      "15\n",
      "16\n",
      "17\n",
      "18\n",
      "8\n",
      "15\n",
      "15\n",
      "16\n",
      "17\n",
      "18\n",
      "8\n",
      "15\n",
      "15\n",
      "16\n",
      "17\n",
      "18\n",
      "8\n",
      "15\n",
      "15\n",
      "16\n",
      "17\n",
      "18\n",
      "8\n",
      "15\n",
      "15\n",
      "16\n",
      "17\n",
      "18\n",
      "8\n",
      "15\n",
      "15\n",
      "16\n",
      "17\n",
      "18\n",
      "8\n",
      "15\n",
      "15\n",
      "16\n",
      "17\n",
      "18\n",
      "8\n",
      "15\n",
      "15\n",
      "16\n",
      "17\n",
      "18\n",
      "8\n",
      "15\n",
      "15\n",
      "16\n",
      "17\n",
      "18\n",
      "8\n",
      "15\n",
      "15\n",
      "16\n",
      "17\n",
      "18\n",
      "8\n",
      "15\n",
      "15\n",
      "16\n",
      "17\n",
      "18\n",
      "8\n",
      "15\n",
      "15\n",
      "16\n",
      "17\n",
      "18\n",
      "8\n",
      "15\n",
      "15\n",
      "16\n",
      "17\n",
      "18\n",
      "8\n",
      "15\n",
      "15\n",
      "16\n",
      "17\n",
      "18\n",
      "8\n",
      "15\n",
      "15\n",
      "16\n",
      "17\n",
      "18\n",
      "8\n",
      "15\n",
      "15\n",
      "16\n",
      "17\n",
      "18\n",
      "8\n",
      "15\n",
      "15\n",
      "16\n",
      "17\n",
      "18\n",
      "8\n",
      "15\n",
      "15\n",
      "16\n",
      "17\n",
      "18\n",
      "8\n",
      "15\n",
      "15\n",
      "16\n",
      "17\n",
      "18\n",
      "8\n",
      "15\n",
      "15\n",
      "16\n",
      "17\n",
      "18\n",
      "8\n",
      "15\n",
      "15\n",
      "16\n",
      "17\n",
      "18\n",
      "8\n",
      "15\n",
      "15\n",
      "16\n",
      "17\n",
      "18\n",
      "8\n",
      "15\n",
      "15\n",
      "16\n",
      "17\n",
      "18\n",
      "8\n",
      "15\n",
      "15\n",
      "16\n",
      "17\n",
      "18\n",
      "8\n",
      "15\n",
      "15\n",
      "16\n",
      "17\n",
      "18\n",
      "8\n",
      "15\n",
      "15\n",
      "16\n",
      "17\n",
      "18\n"
     ]
    }
   ],
   "source": [
    "true, pred, o_true, o_pred, o_in, a_in = test_subsequences(data, idx, retries = 1, replay=True)\n",
    "pred_diffs = np.squeeze(abs(np.squeeze(np.array(o_true)) - np.squeeze(np.array(o_pred))))"
   ]
  },
  {
   "cell_type": "code",
   "execution_count": null,
   "metadata": {},
   "outputs": [],
   "source": []
  },
  {
   "cell_type": "code",
   "execution_count": 42,
   "metadata": {},
   "outputs": [
    {
     "data": {
      "text/plain": [
       "array([[1.33662634e-02, 9.50123370e-03, 8.20809603e-03, 2.92086601e-03,\n",
       "        2.78563425e-02, 1.86027586e-03, 7.22116232e-03, 8.85668769e-03,\n",
       "        1.79850720e-02, 9.79271531e-03, 4.73928452e-03, 1.24136209e-02,\n",
       "        5.39344549e-03, 1.91547275e-02, 8.27729702e-04, 9.51879844e-03,\n",
       "        1.76945329e-02, 1.04417559e-02, 7.15146679e-03, 1.40375435e-01,\n",
       "        1.01133101e-02, 4.39243138e-01, 6.38005733e-01, 3.39920908e-01,\n",
       "        1.72276512e-01],\n",
       "       [2.40480099e-02, 9.75231826e-03, 1.86058283e-02, 3.43033671e-03,\n",
       "        2.56024897e-02, 1.98885500e-02, 6.10744953e-03, 8.42196867e-03,\n",
       "        1.43989362e-02, 2.14907825e-02, 4.93970513e-03, 4.52691317e-03,\n",
       "        1.65122747e-02, 2.27601528e-02, 4.68754768e-03, 9.96239483e-04,\n",
       "        1.74840987e-02, 1.55081879e-02, 5.45195583e-03, 6.03234880e-02,\n",
       "        1.52027667e-01, 5.31375110e-02, 1.43086195e+00, 1.01110697e+00,\n",
       "        7.75173366e-01],\n",
       "       [1.15349442e-02, 5.93468547e-04, 1.58793777e-02, 1.01437271e-02,\n",
       "        1.56227946e-02, 5.65929711e-03, 6.24859333e-03, 8.69232416e-03,\n",
       "        1.88951455e-02, 9.60907340e-03, 4.49576974e-03, 1.14008188e-02,\n",
       "        2.33894587e-03, 8.64616036e-03, 8.05968046e-03, 2.13597715e-03,\n",
       "        1.71082467e-02, 1.42790806e-02, 6.74848724e-03, 1.07937381e-02,\n",
       "        1.42592669e-01, 1.11493684e-01, 6.07207775e-01, 4.39547181e-01,\n",
       "        4.74607497e-01],\n",
       "       [2.10595131e-02, 1.03738606e-02, 1.02861673e-02, 7.92154670e-03,\n",
       "        1.98897421e-02, 2.18087882e-02, 1.43649578e-02, 8.19063187e-03,\n",
       "        1.73173957e-02, 1.01661086e-02, 6.03732467e-03, 8.99171829e-03,\n",
       "        2.44945288e-03, 6.75171614e-03, 1.49347186e-02, 1.88462436e-04,\n",
       "        1.64096802e-02, 1.60092469e-02, 5.78931067e-03, 8.91605020e-02,\n",
       "        1.44708484e-01, 9.42237079e-02, 5.32502294e-01, 2.07045615e-01,\n",
       "        5.35595536e-01],\n",
       "       [2.04914063e-02, 7.49064982e-03, 7.62076676e-03, 9.25543904e-03,\n",
       "        1.24685615e-02, 1.36903226e-02, 8.71360302e-03, 7.68018886e-03,\n",
       "        1.73030160e-02, 7.08422065e-03, 7.02711940e-03, 4.83709574e-03,\n",
       "        4.76562977e-03, 8.02892447e-03, 1.44631267e-02, 1.52767450e-03,\n",
       "        1.64675862e-02, 1.61512252e-02, 1.02323713e-02, 4.58719060e-02,\n",
       "        1.53681308e-01, 1.72080338e-01, 4.74544823e-01, 5.72770983e-02,\n",
       "        4.93687928e-01],\n",
       "       [1.18522793e-02, 7.86736608e-03, 7.63228536e-03, 1.22138858e-02,\n",
       "        1.19143575e-02, 7.56701827e-03, 8.79514217e-03, 1.18641835e-02,\n",
       "        1.88247077e-02, 6.36559725e-03, 6.24358654e-03, 1.28054619e-03,\n",
       "        4.46140766e-03, 9.90867615e-03, 1.38362050e-02, 2.02995539e-03,\n",
       "        1.58328563e-02, 1.42102558e-02, 9.30841919e-03, 3.70412990e-02,\n",
       "        1.17372610e-01, 1.32777780e-01, 2.65974533e-02, 3.95687431e-01,\n",
       "        2.85868943e-01],\n",
       "       [1.39220804e-02, 7.71516562e-03, 9.24006104e-03, 4.29809093e-03,\n",
       "        1.14208460e-02, 3.47021222e-03, 6.38556480e-03, 2.04796940e-02,\n",
       "        1.85331814e-02, 6.55710697e-03, 2.73585320e-05, 5.94142079e-03,\n",
       "        1.55474544e-02, 6.56336546e-03, 1.19761825e-02, 1.09057873e-03,\n",
       "        1.06364936e-02, 1.23055335e-02, 4.93361522e-03, 9.12897959e-02,\n",
       "        6.17934316e-02, 1.07766777e-01, 3.96851063e-01, 5.85377663e-02,\n",
       "        5.35503805e-01],\n",
       "       [8.18103552e-03, 7.51894712e-03, 9.93490219e-03, 9.20340419e-03,\n",
       "        8.20723176e-03, 1.95559859e-03, 1.02931261e-03, 1.95573233e-02,\n",
       "        1.87901370e-02, 4.30765748e-03, 2.07877159e-03, 1.68749690e-03,\n",
       "        1.47849917e-02, 8.14479589e-03, 9.18418169e-03, 4.40069288e-03,\n",
       "        1.60764009e-02, 1.17406007e-02, 5.51082101e-03, 4.44863439e-02,\n",
       "        6.31442368e-02, 8.31933618e-02, 1.01447031e-01, 2.46397674e-01,\n",
       "        3.32401007e-01],\n",
       "       [7.04513490e-03, 1.29277706e-02, 1.95998251e-02, 9.63178277e-03,\n",
       "        1.38033628e-02, 1.52106881e-02, 1.33174062e-02, 2.09407080e-02,\n",
       "        1.90472864e-02, 9.56317782e-03, 2.41398811e-05, 1.20157003e-02,\n",
       "        1.20469332e-02, 1.31654739e-02, 8.40955973e-03, 1.61152333e-03,\n",
       "        1.43464506e-02, 1.18633788e-02, 6.29650522e-03, 9.35858861e-02,\n",
       "        4.32141870e-02, 3.22961807e-03, 1.72729582e-01, 2.61153579e-02,\n",
       "        5.26995957e-01],\n",
       "       [4.08709049e-04, 5.60775399e-03, 1.93489268e-02, 1.12332106e-02,\n",
       "        7.57336617e-04, 5.65695763e-03, 3.87191772e-04, 1.85670983e-02,\n",
       "        2.38726400e-02, 6.67002797e-03, 2.44346261e-03, 5.66413999e-03,\n",
       "        1.88871026e-02, 1.44479871e-02, 1.01893544e-02, 6.84558600e-03,\n",
       "        1.60431415e-02, 1.26637798e-02, 6.07318711e-03, 5.80049381e-02,\n",
       "        6.21984452e-02, 1.72730088e-02, 9.43701565e-02, 8.13826621e-02,\n",
       "        4.00096744e-01],\n",
       "       [8.28640163e-03, 4.21467423e-03, 7.95210153e-03, 8.71235132e-03,\n",
       "        1.53912604e-02, 8.45402479e-03, 1.15021467e-02, 2.18281224e-02,\n",
       "        1.87482797e-02, 1.03820860e-02, 5.35845757e-04, 9.99787450e-03,\n",
       "        1.44949555e-02, 1.75792575e-02, 8.82893801e-03, 4.03773040e-03,\n",
       "        1.26501620e-02, 1.26077142e-02, 9.55542736e-03, 1.13177091e-01,\n",
       "        4.75431532e-02, 3.62462401e-02, 2.19459012e-02, 1.96443200e-02,\n",
       "        4.85078812e-01],\n",
       "       [4.39250469e-03, 9.99793410e-03, 8.52542371e-03, 7.37467408e-03,\n",
       "        2.35706568e-03, 5.59714437e-03, 4.22102213e-03, 1.83193367e-02,\n",
       "        2.68453620e-02, 9.05504823e-03, 2.05227733e-03, 8.50105286e-03,\n",
       "        2.33328938e-02, 1.48243606e-02, 7.36254454e-03, 6.63185865e-03,\n",
       "        1.63247883e-02, 1.31779853e-02, 9.62991919e-03, 1.61184564e-01,\n",
       "        1.13015123e-01, 2.15465538e-02, 1.86761707e-01, 6.97509050e-02,\n",
       "        5.80582976e-01],\n",
       "       [9.81983542e-03, 6.83498383e-03, 5.03005087e-03, 9.66891646e-03,\n",
       "        6.62687421e-03, 2.72259116e-03, 8.32790136e-03, 1.88812967e-02,\n",
       "        2.06018947e-02, 1.13508105e-02, 4.41405177e-03, 7.63821602e-03,\n",
       "        2.36802101e-02, 1.53051317e-02, 8.13686848e-03, 5.08659333e-03,\n",
       "        1.19807273e-02, 1.28188562e-02, 1.03566265e-02, 1.36990160e-01,\n",
       "        2.02326607e-02, 8.19299929e-03, 1.31172359e-01, 1.13790400e-01,\n",
       "        4.90684956e-01],\n",
       "       [1.30291730e-02, 5.72228432e-03, 5.34777343e-03, 3.00195813e-03,\n",
       "        4.50420380e-03, 5.85258007e-03, 1.25890970e-03, 1.81750637e-02,\n",
       "        1.96412392e-02, 8.37063789e-03, 3.34703922e-03, 7.03588128e-03,\n",
       "        2.41008401e-02, 1.14241838e-02, 7.52723217e-03, 6.02670014e-03,\n",
       "        6.74881041e-03, 1.23933833e-02, 1.15940943e-02, 1.30515665e-01,\n",
       "        3.05086840e-03, 5.12739876e-03, 7.11246505e-02, 1.26633309e-02,\n",
       "        4.43326890e-01],\n",
       "       [2.28505358e-02, 5.83574176e-03, 9.10750031e-03, 3.01539898e-03,\n",
       "        2.20909715e-03, 9.41753387e-04, 1.51842833e-03, 1.69629604e-02,\n",
       "        1.87806301e-02, 9.20259953e-03, 2.77662277e-03, 1.30493045e-02,\n",
       "        1.91504359e-02, 4.24408913e-03, 1.12869740e-02, 4.77825850e-03,\n",
       "        7.90005922e-03, 1.14568081e-02, 1.24069611e-02, 1.40071318e-01,\n",
       "        3.59849557e-02, 9.80667956e-03, 2.10207567e-01, 1.47501916e-01,\n",
       "        6.39691770e-01],\n",
       "       [2.25445479e-02, 3.71974707e-03, 2.22047418e-03, 4.66656685e-03,\n",
       "        5.62390685e-03, 6.99043274e-04, 4.37271595e-03, 1.74724497e-02,\n",
       "        2.05875598e-02, 1.19387805e-02, 2.31897831e-03, 1.24408603e-02,\n",
       "        1.47726536e-02, 1.29394531e-02, 9.53263044e-03, 1.66502297e-02,\n",
       "        1.40918493e-02, 1.34004895e-02, 1.24407588e-02, 1.43112123e-01,\n",
       "        3.49313878e-02, 1.14678610e-02, 1.47938728e-01, 2.04516560e-01,\n",
       "        3.67617309e-01],\n",
       "       [2.15364881e-02, 1.42842531e-02, 5.34115732e-03, 4.08470631e-04,\n",
       "        7.03603029e-04, 4.69058752e-03, 6.39110804e-03, 1.50316069e-02,\n",
       "        2.61710398e-02, 1.88371241e-02, 2.64376402e-03, 1.52992904e-02,\n",
       "        2.10886002e-02, 5.03060222e-03, 8.83889198e-03, 3.28210704e-02,\n",
       "        1.71553046e-02, 1.24019999e-02, 7.48129655e-03, 1.53438553e-01,\n",
       "        5.40665835e-02, 8.61770939e-04, 1.04528002e-01, 2.12250799e-02,\n",
       "        7.52432644e-01],\n",
       "       [2.70317458e-02, 1.43112242e-02, 4.39611822e-03, 2.96118855e-03,\n",
       "        1.16571784e-04, 7.38734007e-03, 1.01813674e-02, 1.52388969e-02,\n",
       "        2.44166516e-02, 2.42787898e-02, 2.91654468e-03, 1.68455541e-02,\n",
       "        1.80122256e-02, 6.64716959e-03, 1.37755871e-02, 3.74289900e-02,\n",
       "        1.76775455e-02, 1.36260111e-02, 1.21057862e-02, 9.55204070e-02,\n",
       "        2.39334181e-02, 4.96618934e-02, 1.71359062e-01, 3.72763723e-02,\n",
       "        6.13371015e-01],\n",
       "       [2.61870306e-02, 9.76994634e-03, 6.25639409e-03, 8.09416175e-03,\n",
       "        1.05200261e-02, 8.69357586e-03, 2.05707550e-03, 1.31947063e-02,\n",
       "        2.67079808e-02, 2.36140490e-02, 4.41431999e-04, 2.01240182e-02,\n",
       "        2.13553309e-02, 4.72185016e-03, 1.79727077e-02, 3.75474319e-02,\n",
       "        1.51014328e-02, 1.44393798e-02, 1.21286456e-02, 1.29202247e-01,\n",
       "        5.95626198e-02, 3.79671752e-02, 2.97447026e-01, 1.18202239e-01,\n",
       "        3.86316955e-01],\n",
       "       [2.39341296e-02, 1.55289769e-02, 2.31178105e-03, 7.67070055e-03,\n",
       "        5.21406531e-04, 7.99864531e-03, 1.00421906e-03, 1.42900199e-02,\n",
       "        2.89600305e-02, 2.43408382e-02, 1.31487846e-04, 1.43420100e-02,\n",
       "        2.26992965e-02, 9.54398513e-03, 1.63695812e-02, 3.96292806e-02,\n",
       "        1.70198083e-02, 1.35812368e-02, 1.35761499e-02, 3.27291459e-01,\n",
       "        9.13109183e-02, 5.93554154e-02, 4.02783573e-01, 3.97632778e-01,\n",
       "        6.54558837e-01]], dtype=float32)"
      ]
     },
     "execution_count": 42,
     "metadata": {},
     "output_type": "execute_result"
    }
   ],
   "source": [
    "pred_diffs"
   ]
  },
  {
   "cell_type": "code",
   "execution_count": 43,
   "metadata": {},
   "outputs": [
    {
     "data": {
      "image/png": "[encoded data removed]",
      "text/plain": [
       "<Figure size 432x288 with 1 Axes>"
      ]
     },
     "metadata": {
      "needs_background": "light"
     },
     "output_type": "display_data"
    }
   ],
   "source": [
    "plot(pred_diffs)"
   ]
  },
  {
   "cell_type": "code",
   "execution_count": 44,
   "metadata": {},
   "outputs": [
    {
     "data": {
      "image/png": "[encoded data removed]",
      "text/plain": [
       "<Figure size 432x288 with 1 Axes>"
      ]
     },
     "metadata": {
      "needs_background": "light"
     },
     "output_type": "display_data"
    }
   ],
   "source": [
    "o = o_in[0]\n",
    "simulated_o = []\n",
    "for i in range(0, len(a_in)):\n",
    "    o = model((o, a_in[i]))\n",
    "    simulated_o.append(o)\n",
    "    \n",
    "pred_diffs = np.squeeze(abs(np.squeeze(np.array(o_true)) - np.squeeze(np.array(simulated_o))))\n",
    "plot(pred_diffs)"
   ]
  },
  {
   "cell_type": "code",
   "execution_count": 462,
   "metadata": {},
   "outputs": [],
   "source": [
    "# now, optimize the model so that it is better here\n",
    "def model_update_step(o_in, a_in, o_true):\n",
    "    with tf.GradientTape() as tape:\n",
    "        o_pred = model((np.squeeze(o_in),np.squeeze(a_in)))\n",
    "        print(o_pred.shape, o_true.shape)\n",
    "        loss_time_wise = tf.keras.losses.MAE(o_pred, o_true)\n",
    "        \n",
    "        gradients = tape.gradient(tf.reduce_mean(loss_time_wise), model.trainable_variables)\n",
    "        model_optimizer.apply_gradients(zip(gradients, model.trainable_variables))\n",
    "    return loss_time_wise"
   ]
  },
  {
   "cell_type": "code",
   "execution_count": 472,
   "metadata": {},
   "outputs": [
    {
     "data": {
      "text/plain": [
       "((29, 1, 26), (30, 1, 8), (30, 26))"
      ]
     },
     "execution_count": 472,
     "metadata": {},
     "output_type": "execute_result"
    }
   ],
   "source": [
    "np.array(simulated_o[:-1]).shape, a_in.shape, o_true.shape"
   ]
  },
  {
   "cell_type": "code",
   "execution_count": 475,
   "metadata": {},
   "outputs": [
    {
     "name": "stdout",
     "output_type": "stream",
     "text": [
      "(30, 26) (30, 26)\n"
     ]
    },
    {
     "data": {
      "text/plain": [
       "[<matplotlib.lines.Line2D at 0x7f81b2bc9518>]"
      ]
     },
     "execution_count": 475,
     "metadata": {},
     "output_type": "execute_result"
    },
    {
     "data": {
      "image/png": "[encoded data removed]",
      "text/plain": [
       "<Figure size 432x288 with 1 Axes>"
      ]
     },
     "metadata": {
      "needs_background": "light"
     },
     "output_type": "display_data"
    }
   ],
   "source": [
    "error = model_update_step(np.array(simulated_o),a_in, o_true)\n",
    "plt.plot(np.linspace(0,len(error),len(error)),error)"
   ]
  },
  {
   "cell_type": "code",
   "execution_count": 476,
   "metadata": {},
   "outputs": [
    {
     "data": {
      "image/png": "[encoded data removed]",
      "text/plain": [
       "<Figure size 432x288 with 1 Axes>"
      ]
     },
     "metadata": {
      "needs_background": "light"
     },
     "output_type": "display_data"
    }
   ],
   "source": [
    "o = o_in[0]\n",
    "simulated_o = []\n",
    "for i in range(0, len(a_in)):\n",
    "    o = model((o, a_in[i]))\n",
    "    simulated_o.append(o)\n",
    "    \n",
    "pred_diffs = np.squeeze(abs(np.squeeze(np.array(o_true)) - np.squeeze(np.array(simulated_o))))\n",
    "plot(pred_diffs)def create_transition_model(layer_size=512):\n",
    "    # params #\n",
    "    batch_size = None\n",
    "\n",
    "    # Input #\n",
    "    o = Input(shape=(OBS_DIM,), batch_size=batch_size, dtype=tf.float32, name='initial_obs') # has arm state\n",
    "    a = Input(shape=(ACT_DIM,), batch_size=batch_size, dtype=tf.float32, name='goal_obs') # does not have arm state\n",
    "\n",
    "    # Layers #\n",
    "    x = Concatenate(axis=-1)([o,a])\n",
    "    x = Masking(mask_value=0.)(x)\n",
    "    x = Dense(layer_size, activation=\"relu\", name='layer_1')(x)\n",
    "    x = Dense(layer_size, activation=\"relu\", name='layer_2')(x)\n",
    "    x = Dense(layer_size, activation=\"relu\", name='layer_3')(x)\n",
    "    o_next = Dense(OBS_DIM, name='layer_4')(x)\n",
    "    \n",
    "    return Model([o, a], o_next)"
   ]
  },
  {
   "cell_type": "code",
   "execution_count": null,
   "metadata": {},
   "outputs": [],
   "source": [
    "\n",
    "def quat_sign_flip(a):\n",
    "    for i in range(1,len(a)):\n",
    "        quat = a[i,3:7]\n",
    "        last_quat = a[i-1,3:7]\n",
    "        if (np.sign(quat)== -np.sign(last_quat)).all(): # i.e, it is an equivalent quaternion\n",
    "             a[i,3:7] = - a[i,3:7]\n",
    "    return a \n"
   ]
  },
  {
   "cell_type": "markdown",
   "metadata": {},
   "source": [
    "# Q Value function tests"
   ]
  },
  {
   "cell_type": "code",
   "execution_count": null,
   "metadata": {},
   "outputs": [],
   "source": [
    "def create_q_function(layer_size=512):\n",
    "    # params #\n",
    "    batch_size = None\n",
    "\n",
    "    # Input #\n",
    "    o = Input(shape=(OBS_DIM,), batch_size=batch_size, dtype=tf.float32, name='initial_obs') # has arm state\n",
    "    a = Input(shape=(ACT_DIM,), batch_size=batch_size, dtype=tf.float32, name='goal_obs') # does not have arm state\n",
    "\n",
    "    # Layers #\n",
    "    x = Concatenate(axis=-1)([o,a])\n",
    "    x = Masking(mask_value=0.)(x)\n",
    "    x = Dense(layer_size, activation=\"relu\", name='layer_1')(x)\n",
    "    x = Dense(layer_size, activation=\"relu\", name='layer_2')(x)\n",
    "    x = Dense(layer_size, activation=\"relu\", name='layer_3')(x)\n",
    "    o_next = Dense(OBS_DIM, name='layer_4')(x)\n",
    "    \n",
    "    return Model([o, a], o_next)\n"
   ]
  },
  {
   "cell_type": "code",
   "execution_count": null,
   "metadata": {},
   "outputs": [],
   "source": [
    "# If we do it with a value function\n",
    "# Discount rewards back through it - maybe using the parallelism guys thing\n",
    "# then directly use AWR\n",
    "\n",
    "# If we do it with Q... harder due to LSTM?\n",
    "\n",
    "# Q values from (s_D, a_D, g_D)\n",
    "# R from r\n",
    "# Q' from nn which predicts Pi' from all s 1:,\n",
    "# "
   ]
  },
  {
   "cell_type": "code",
   "execution_count": null,
   "metadata": {},
   "outputs": [],
   "source": []
  },
  {
   "cell_type": "code",
   "execution_count": null,
   "metadata": {},
   "outputs": [],
   "source": []
  },
  {
   "cell_type": "code",
   "execution_count": null,
   "metadata": {},
   "outputs": [],
   "source": []
  },
  {
   "cell_type": "code",
   "execution_count": null,
   "metadata": {},
   "outputs": [],
   "source": []
  },
  {
   "cell_type": "code",
   "execution_count": null,
   "metadata": {},
   "outputs": [],
   "source": []
  },
  {
   "cell_type": "code",
   "execution_count": null,
   "metadata": {},
   "outputs": [],
   "source": []
  },
  {
   "cell_type": "code",
   "execution_count": null,
   "metadata": {},
   "outputs": [],
   "source": []
  },
  {
   "cell_type": "code",
   "execution_count": null,
   "metadata": {},
   "outputs": [],
   "source": []
  },
  {
   "cell_type": "code",
   "execution_count": null,
   "metadata": {},
   "outputs": [],
   "source": []
  },
  {
   "cell_type": "code",
   "execution_count": null,
   "metadata": {},
   "outputs": [],
   "source": []
  },
  {
   "cell_type": "code",
   "execution_count": null,
   "metadata": {},
   "outputs": [],
   "source": []
  },
  {
   "cell_type": "code",
   "execution_count": null,
   "metadata": {},
   "outputs": [],
   "source": []
  },
  {
   "cell_type": "code",
   "execution_count": null,
   "metadata": {},
   "outputs": [],
   "source": []
  },
  {
   "cell_type": "code",
   "execution_count": null,
   "metadata": {},
   "outputs": [],
   "source": []
  },
  {
   "cell_type": "code",
   "execution_count": null,
   "metadata": {},
   "outputs": [],
   "source": []
  },
  {
   "cell_type": "code",
   "execution_count": 391,
   "metadata": {},
   "outputs": [
    {
     "data": {
      "text/plain": [
       "<tf.Tensor: shape=(21,), dtype=float64, numpy=\n",
       "array([0.12393562, 0.01049713, 0.01037328, 0.01053249, 0.01017937,\n",
       "       0.00907761, 0.00964357, 0.00983047, 0.00876082, 0.00849668,\n",
       "       0.00855127, 0.00843039, 0.0092276 , 0.00918092, 0.009084  ,\n",
       "       0.00929162, 0.01172736, 0.0116516 , 0.01150378, 0.00865179,\n",
       "       0.00925565])>"
      ]
     },
     "execution_count": 391,
     "metadata": {},
     "output_type": "execute_result"
    }
   ],
   "source": [
    "error"
   ]
  },
  {
   "cell_type": "code",
   "execution_count": 16,
   "metadata": {},
   "outputs": [],
   "source": [
    "\n",
    "import pybullet as p\n",
    "\n",
    "def create_rpy(acts, idx):\n",
    "    a = acts[idx, :int(seq_lens[idx])]\n",
    "    rpys = []\n",
    "    for i in range(len(a)):\n",
    "        rpys.append(p.getEulerFromQuaternion(a[i,3:7]))\n",
    "    xyz = a[:,0:3]\n",
    "    rpy = np.array(rpys)\n",
    "    g = np.expand_dims(a[:,-1],1)\n",
    "    \n",
    "    return np.concatenate([xyz, rpy, g], -1)\n",
    "def quat_sign_flip(acts, idx):\n",
    "    a = acts[idx, :int(seq_lens[idx])]\n",
    "    angles = [a[0,3:7]]\n",
    "    for i in range(1,len(a)):\n",
    "        quat = a[i,3:7]\n",
    "        last_quat = angles[-1] \n",
    "        if (np.sign(quat)== -np.sign(last_quat)).all(): # i.e, it is an equivalent quaternion\n",
    "            angles.append(-quat)\n",
    "        else:\n",
    "            angles.append(quat)\n",
    "        #print(np.sign(quat), np.sign(last_quat), (np.sign(quat)== -np.sign(last_quat)).all())\n",
    "    \n",
    "    #print(xyz.shape, q.shape, g.shape,q)\n",
    "    return np.concatenate([xyz, q, g], -1)\n"
   ]
  },
  {
   "cell_type": "code",
   "execution_count": 19,
   "metadata": {},
   "outputs": [
    {
     "data": {
      "image/png": "[encoded data removed]",
      "text/plain": [
       "<Figure size 576x108 with 1 Axes>"
      ]
     },
     "metadata": {
      "needs_background": "light"
     },
     "output_type": "display_data"
    },
    {
     "data": {
      "image/png": "[encoded data removed]",
      "text/plain": [
       "<Figure size 576x108 with 1 Axes>"
      ]
     },
     "metadata": {
      "needs_background": "light"
     },
     "output_type": "display_data"
    },
    {
     "data": {
      "image/png": "[encoded data removed]",
      "text/plain": [
       "<Figure size 576x108 with 1 Axes>"
      ]
     },
     "metadata": {
      "needs_background": "light"
     },
     "output_type": "display_data"
    },
    {
     "data": {
      "image/png": "[encoded data removed]",
      "text/plain": [
       "<Figure size 576x108 with 1 Axes>"
      ]
     },
     "metadata": {
      "needs_background": "light"
     },
     "output_type": "display_data"
    },
    {
     "data": {
      "image/png": "[encoded data removed]",
      "text/plain": [
       "<Figure size 576x108 with 1 Axes>"
      ]
     },
     "metadata": {
      "needs_background": "light"
     },
     "output_type": "display_data"
    },
    {
     "data": {
      "image/png": "[encoded data removed]",
      "text/plain": [
       "<Figure size 576x108 with 1 Axes>"
      ]
     },
     "metadata": {
      "needs_background": "light"
     },
     "output_type": "display_data"
    },
    {
     "data": {
      "image/png": "[encoded data removed]",
      "text/plain": [
       "<Figure size 576x108 with 1 Axes>"
      ]
     },
     "metadata": {
      "needs_background": "light"
     },
     "output_type": "display_data"
    },
    {
     "data": {
      "image/png": "[encoded data removed]",
      "text/plain": [
       "<Figure size 576x108 with 1 Axes>"
      ]
     },
     "metadata": {
      "needs_background": "light"
     },
     "output_type": "display_data"
    }
   ],
   "source": [
    "\n",
    "#@title Plot timeseries of state/action tracking over time - xyz q1234 gripper\n",
    "idx = 15\n",
    "\n",
    "length = int(seq_lens[idx])\n",
    "actions_space = acts.shape[2]\n",
    "x = np.linspace(0, length, num=length) \n",
    "for i in range(0,8):\n",
    "    fig, axes = plt.subplots(1, 1, figsize=(8,1.5), squeeze=False)\n",
    "    # One Model\n",
    "    if i >= 3and i < 8:\n",
    "        axes[0,0].set_ylim([-1,1])\n",
    "    true = axes[0,0].plot(x,quat_sign_flip(acts,idx)[:,i],'r')\n",
    "    #predicted = axes[0,0].plot(x,pred_acts[idx, :int(seq_lens[idx]),i], 'b')\n",
    "    #enc_predicted = axes[0,0].plot(x,enc_act_distrib[idx, :int(seq_lens[idx]),i], 'g')\n",
    "    true = axes[0,0].scatter(x,quat_sign_flip(acts,idx)[:,i])\n",
    "    \n",
    "    fig.legend( ('true action', 'predicted action', 'encoder_action'))\n",
    "    \n",
    "    \n",
    "    plt.show()"
   ]
  },
  {
   "cell_type": "code",
   "execution_count": null,
   "metadata": {},
   "outputs": [],
   "source": [
    "descriptions = {\n",
    "    1: 'lift up',\n",
    "    2: 'take down',\n",
    "    3: 'door left',\n",
    "    4: 'door right',\n",
    "    5: 'drawer in',\n",
    "    6: 'drawer out',\n",
    "    7: 'pick place',\n",
    "    8: 'press button',\n",
    "    9: 'dial on',\n",
    "    10: 'dial off',\n",
    "    11: 'rotate block left',\n",
    "    12: 'rotate block right',\n",
    "    13: 'stand up block',\n",
    "    14: 'knock down block',\n",
    "    15: 'block in cupboard right',\n",
    "    16: 'block in cupboard left',\n",
    "    17: 'block in drawer',\n",
    "    18: 'block out of drawer',\n",
    "    19: 'block out of cupboard right',\n",
    "    20: 'block out of cupboard left'\n",
    "}"
   ]
  }
 ],
 "metadata": {
  "kernelspec": {
   "display_name": "Python 3",
   "language": "python",
   "name": "python3"
  },
  "language_info": {
   "codemirror_mode": {
    "name": "ipython",
    "version": 3
   },
   "file_extension": ".py",
   "mimetype": "text/x-python",
   "name": "python",
   "nbconvert_exporter": "python",
   "pygments_lexer": "ipython3",
   "version": "3.7.3"
  }
 },
 "nbformat": 4,
 "nbformat_minor": 2
}
