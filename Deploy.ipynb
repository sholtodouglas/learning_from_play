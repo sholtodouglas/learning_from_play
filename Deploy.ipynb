{
 "cells": [
  {
   "cell_type": "code",
   "execution_count": 1,
   "metadata": {},
   "outputs": [],
   "source": [
    "import glob\n",
    "\n",
    "import numpy as np\n",
    "import tensorflow as tf\n",
    "import pickle\n",
    "import matplotlib.pyplot as plt\n",
    "import random\n",
    "import pickle\n",
    "import os\n",
    "import config\n",
    "import data\n",
    "import random\n",
    "from natsort import natsorted\n",
    "arm = 'UR5'\n",
    "PYBULLET_DATA_DIR = config.ONEOBJ_PLAY # config.SCRIPTED_PLAY #config.RPL_PATH\n",
    "if arm == 'UR5':\n",
    "    PYBULLET_DATA_DIR = 'data_collection/collected_data/UR5_25Hz_one_obj/' #config.UR5"
   ]
  },
  {
   "cell_type": "code",
   "execution_count": 3,
   "metadata": {},
   "outputs": [
    {
     "ename": "AttributeError",
     "evalue": "module 'tensorflow._api.v2.config' has no attribute 'list_physical_devices'",
     "output_type": "error",
     "traceback": [
      "\u001b[1;31m---------------------------------------------------------------------------\u001b[0m",
      "\u001b[1;31mAttributeError\u001b[0m                            Traceback (most recent call last)",
      "\u001b[1;32m<ipython-input-3-87b2856da474>\u001b[0m in \u001b[0;36m<module>\u001b[1;34m\u001b[0m\n\u001b[1;32m----> 1\u001b[1;33m \u001b[0mphysical_devices\u001b[0m \u001b[1;33m=\u001b[0m \u001b[0mtf\u001b[0m\u001b[1;33m.\u001b[0m\u001b[0mconfig\u001b[0m\u001b[1;33m.\u001b[0m\u001b[0mlist_physical_devices\u001b[0m\u001b[1;33m(\u001b[0m\u001b[0mconfig\u001b[0m\u001b[1;33m.\u001b[0m\u001b[0mDEVICE\u001b[0m\u001b[1;33m)\u001b[0m\u001b[1;33m\u001b[0m\u001b[1;33m\u001b[0m\u001b[0m\n\u001b[0m\u001b[0;32m      2\u001b[0m \u001b[1;32mif\u001b[0m \u001b[0mconfig\u001b[0m\u001b[1;33m.\u001b[0m\u001b[0mDEVICE\u001b[0m \u001b[1;32mis\u001b[0m \u001b[1;34m'GPU'\u001b[0m\u001b[1;33m:\u001b[0m\u001b[1;33m\u001b[0m\u001b[1;33m\u001b[0m\u001b[0m\n\u001b[0;32m      3\u001b[0m     \u001b[0mtf\u001b[0m\u001b[1;33m.\u001b[0m\u001b[0mconfig\u001b[0m\u001b[1;33m.\u001b[0m\u001b[0mexperimental\u001b[0m\u001b[1;33m.\u001b[0m\u001b[0mset_memory_growth\u001b[0m\u001b[1;33m(\u001b[0m\u001b[0mphysical_devices\u001b[0m\u001b[1;33m[\u001b[0m\u001b[1;36m0\u001b[0m\u001b[1;33m]\u001b[0m\u001b[1;33m,\u001b[0m \u001b[0menable\u001b[0m\u001b[1;33m=\u001b[0m\u001b[1;32mTrue\u001b[0m\u001b[1;33m)\u001b[0m\u001b[1;33m\u001b[0m\u001b[1;33m\u001b[0m\u001b[0m\n",
      "\u001b[1;32m~\\Anaconda3\\lib\\site-packages\\tensorflow_core\\python\\util\\module_wrapper.py\u001b[0m in \u001b[0;36m__getattr__\u001b[1;34m(self, name)\u001b[0m\n\u001b[0;32m    167\u001b[0m   \u001b[1;32mdef\u001b[0m \u001b[0m__getattr__\u001b[0m\u001b[1;33m(\u001b[0m\u001b[0mself\u001b[0m\u001b[1;33m,\u001b[0m \u001b[0mname\u001b[0m\u001b[1;33m)\u001b[0m\u001b[1;33m:\u001b[0m\u001b[1;33m\u001b[0m\u001b[1;33m\u001b[0m\u001b[0m\n\u001b[0;32m    168\u001b[0m     \u001b[1;32mtry\u001b[0m\u001b[1;33m:\u001b[0m\u001b[1;33m\u001b[0m\u001b[1;33m\u001b[0m\u001b[0m\n\u001b[1;32m--> 169\u001b[1;33m       \u001b[0mattr\u001b[0m \u001b[1;33m=\u001b[0m \u001b[0mgetattr\u001b[0m\u001b[1;33m(\u001b[0m\u001b[0mself\u001b[0m\u001b[1;33m.\u001b[0m\u001b[0m_tfmw_wrapped_module\u001b[0m\u001b[1;33m,\u001b[0m \u001b[0mname\u001b[0m\u001b[1;33m)\u001b[0m\u001b[1;33m\u001b[0m\u001b[1;33m\u001b[0m\u001b[0m\n\u001b[0m\u001b[0;32m    170\u001b[0m     \u001b[1;32mexcept\u001b[0m \u001b[0mAttributeError\u001b[0m \u001b[1;32mas\u001b[0m \u001b[0me\u001b[0m\u001b[1;33m:\u001b[0m\u001b[1;33m\u001b[0m\u001b[1;33m\u001b[0m\u001b[0m\n\u001b[0;32m    171\u001b[0m       \u001b[1;32mif\u001b[0m \u001b[1;32mnot\u001b[0m \u001b[0mself\u001b[0m\u001b[1;33m.\u001b[0m\u001b[0m_tfmw_public_apis\u001b[0m\u001b[1;33m:\u001b[0m\u001b[1;33m\u001b[0m\u001b[1;33m\u001b[0m\u001b[0m\n",
      "\u001b[1;31mAttributeError\u001b[0m: module 'tensorflow._api.v2.config' has no attribute 'list_physical_devices'"
     ]
    }
   ],
   "source": [
    "physical_devices = tf.config.list_physical_devices(config.DEVICE)\n",
    "if config.DEVICE is 'GPU':\n",
    "    tf.config.experimental.set_memory_growth(physical_devices[0], enable=True)"
   ]
  },
  {
   "cell_type": "code",
   "execution_count": 13,
   "metadata": {},
   "outputs": [],
   "source": [
    "# \n",
    "RELATIVE = False # use relative joints instead of absolute pos/ori as in the original paper\n",
    "QUAT =  False # whether to use quaternions or rpy in actions\n",
    "JOINTS = False # use relative joints instead of absolute angles\n",
    "VELOCITY = False\n",
    "USE_QUAT_OBS = False\n",
    "\n",
    "LAYER_SIZE = 2048\n",
    "LATENT_DIM = LAYER_SIZE//8\n",
    "GRIPPER_WEIGHT = 5.0\n",
    "GCBC = True\n",
    "PROBABILISTIC = False"
   ]
  },
  {
   "cell_type": "code",
   "execution_count": 14,
   "metadata": {},
   "outputs": [],
   "source": [
    "#dataset, cnt = data.create_single_dataset(dataset_path)\n",
    "rpy_obs = 'obs_rpy' #'rpy_obs'\n",
    "def load_data(path, keys):\n",
    "    dataset = {k:[] for k in keys+['sequence_index','sequence_id']}\n",
    "    obs_act_path = os.path.join(path, 'obs_act_etc/')\n",
    "\n",
    "    for demo in natsorted(os.listdir(obs_act_path)):\n",
    "        print(demo)\n",
    "        traj = np.load(obs_act_path+demo+'/data.npz')\n",
    "        for k in keys:\n",
    "            dataset[k].append(traj[k].astype(np.float32))\n",
    "        timesteps = len(traj['obs'])\n",
    "        dataset['sequence_index'].append(np.arange(timesteps, dtype=np.int32).reshape(-1, 1))\n",
    "        dataset['sequence_id'].append(np.full(timesteps, fill_value=int(demo), dtype=np.int32).reshape(-1, 1))\n",
    "\n",
    "    # convert to numpy\n",
    "    for k in keys+['sequence_index','sequence_id']:\n",
    "        dataset[k] = np.vstack(dataset[k])\n",
    "    return dataset"
   ]
  },
  {
   "cell_type": "code",
   "execution_count": 15,
   "metadata": {},
   "outputs": [
    {
     "name": "stdout",
     "output_type": "stream",
     "text": [
      "0\n",
      "1\n",
      "2\n",
      "3\n",
      "4\n",
      "5\n",
      "6\n",
      "7\n",
      "8\n",
      "9\n",
      "10\n",
      "11\n",
      "12\n",
      "13\n",
      "14\n",
      "15\n",
      "16\n",
      "17\n",
      "18\n",
      "19\n",
      "20\n",
      "21\n",
      "22\n",
      "23\n",
      "24\n",
      "25\n",
      "26\n",
      "27\n",
      "28\n",
      "29\n",
      "30\n",
      "31\n",
      "32\n",
      "33\n",
      "34\n"
     ]
    }
   ],
   "source": [
    "keys = ['obs', 'acts', 'achieved_goals', 'joint_poses', 'target_poses', 'acts_rpy', 'acts_rpy_rel',  'velocities', rpy_obs]\n",
    "dataset = load_data(PYBULLET_DATA_DIR, keys)"
   ]
  },
  {
   "cell_type": "code",
   "execution_count": 16,
   "metadata": {},
   "outputs": [
    {
     "name": "stdout",
     "output_type": "stream",
     "text": [
      "Obs: (N,18), Acts: (N,7), Goals: (N,11)\n"
     ]
    }
   ],
   "source": [
    "\n",
    "if JOINTS:\n",
    "    OBS_DIM = dataset['obs'].shape[1] + 7 \n",
    "    ACT_DIM = dataset['target_poses'].shape[1] + 1\n",
    "else:\n",
    "    if USE_QUAT_OBS:\n",
    "      OBS_DIM = dataset['obs'].shape[1]\n",
    "    else:\n",
    "      OBS_DIM = dataset[rpy_obs].shape[1]\n",
    "    \n",
    "    if QUAT:\n",
    "        ACT_DIM = dataset['acts'].shape[1]\n",
    "    else:\n",
    "        ACT_DIM = dataset['acts_rpy'].shape[1]\n",
    "\n",
    "if VELOCITY:\n",
    "    OBS_DIM += dataset['velocities'].shape[1]\n",
    "        \n",
    "GOAL_DIM = dataset['achieved_goals'].shape[1]\n",
    "print(f'Obs: (N,{OBS_DIM}), Acts: (N,{ACT_DIM}), Goals: (N,{GOAL_DIM})')"
   ]
  },
  {
   "cell_type": "code",
   "execution_count": 23,
   "metadata": {},
   "outputs": [
    {
     "name": "stdout",
     "output_type": "stream",
     "text": [
      "We have 148905 frames of data, which is 1hrs 39m.\n"
     ]
    }
   ],
   "source": [
    "DATASET_SIZE = dataset['obs'].shape[0]\n",
    "secs = DATASET_SIZE / 25\n",
    "hours = secs // 3600\n",
    "minutes = secs // 60 - hours * 60\n",
    "print(f\"We have {DATASET_SIZE} frames of data, which is {hours:.0f}hrs {minutes:.0f}m.\")"
   ]
  },
  {
   "cell_type": "code",
   "execution_count": 18,
   "metadata": {},
   "outputs": [
    {
     "name": "stdout",
     "output_type": "stream",
     "text": [
      "(None, 18)\n",
      "Tensor(\"ExpandDims:0\", shape=(70, 1), dtype=float32)\n",
      "(None, 18)\n",
      "Tensor(\"ExpandDims:0\", shape=(70, 1), dtype=float32)\n"
     ]
    },
    {
     "data": {
      "text/plain": [
       "<PrefetchDataset shapes: {obs: (32, 70, 18), acts: (32, 70, 7), goals: (32, 70, 11), seq_lens: (32,), masks: (32, 70), dataset_path: (32, None, 1), tstep_idxs: (32, None, 1), ags: (32, 70, 11), reward: (32, 70)}, types: {obs: tf.float32, acts: tf.float32, goals: tf.float32, seq_lens: tf.float32, masks: tf.float32, dataset_path: tf.int32, tstep_idxs: tf.int32, ags: tf.float32, reward: tf.float32}>"
      ]
     },
     "execution_count": 18,
     "metadata": {},
     "output_type": "execute_result"
    }
   ],
   "source": [
    "import pybullet\n",
    "BATCH_SIZE_PER_REPLICA = 32\n",
    "GLOBAL_BATCH_SIZE = BATCH_SIZE_PER_REPLICA\n",
    "\n",
    "WINDOW_SIZE = 70\n",
    "MIN_WINDOW_SIZE = WINDOW_SIZE//2\n",
    "WINDOW_SHIFT = 1\n",
    "SHUFFLE_SIZE = GLOBAL_BATCH_SIZE*100\n",
    "PREFETCH_SIZE = tf.data.experimental.AUTOTUNE\n",
    "NUM_WORKERS = 4\n",
    "TRAIN_TEST_SPLIT = 0.9\n",
    "VARIABLE_SEQ_LENS = True\n",
    "\n",
    "window_lambda = lambda x: tf.data.Dataset.zip(x).batch(WINDOW_SIZE)\n",
    "seq_overlap_filter = lambda x: tf.equal(tf.size(tf.unique(tf.squeeze(x['sequence_id'])).y), 1)\n",
    "\n",
    "def create_goal_tensor(dataset, seq_len=-1):\n",
    "    ''' Tile final achieved_goal across time dimension '''\n",
    "    tile_dims = tf.constant([WINDOW_SIZE, 1], tf.int32)\n",
    "    goal = tf.tile(dataset['achieved_goals'][seq_len-1,tf.newaxis], tile_dims) # as goal is at an index take seq_len -1\n",
    "    return goal\n",
    "\n",
    "def transform_states(dataset):\n",
    "    if JOINTS:\n",
    "        if RELATIVE:\n",
    "          if arm == 'UR5':\n",
    "              rel = dataset['target_poses'] - dataset['joint_poses'][:,:6] \n",
    "          else:\n",
    "              rel = dataset['target_poses'] - dataset['joint_poses'][:,:7]\n",
    "        else:\n",
    "          rel = dataset['target_poses']\n",
    "\n",
    "        gripper = dataset['acts'][:,-1,tf.newaxis]\n",
    "        acts = tf.concat([rel, gripper], axis=-1)\n",
    "        obs = tf.concat([dataset['obs'],dataset['joint_poses'][:,:7]], axis=-1)#.astype('float32')\n",
    "    else:\n",
    "        if USE_QUAT_OBS:\n",
    "          obs = dataset['obs']\n",
    "        else:\n",
    "          obs = dataset[rpy_obs]\n",
    "        \n",
    "        \n",
    "        if RELATIVE:\n",
    "            if QUAT:\n",
    "                rel = dataset['acts'][:,:7] - dataset['obs'][:,:7]\n",
    "            else:\n",
    "                rel = dataset['acts_rpy'][:,:6] - dataset[rpy_obs][:,:6]\n",
    "                \n",
    "            gripper = dataset['acts'][:,-1,tf.newaxis]\n",
    "            acts = tf.concat([rel, gripper], axis=-1)\n",
    "        else:\n",
    "            if QUAT:\n",
    "                acts = dataset['acts']\n",
    "            else:\n",
    "                acts = dataset['acts_rpy']\n",
    "\n",
    "    if VELOCITY:\n",
    "      obs = tf.concat([obs, dataset['velocities']], axis = -1)\n",
    "    \n",
    "    # Variable Seq len\n",
    "    if VARIABLE_SEQ_LENS:\n",
    "      seq_len = tf.random.uniform(shape=[], minval=MIN_WINDOW_SIZE, maxval=WINDOW_SIZE, dtype=tf.int32, seed=10)\n",
    "    else:\n",
    "      seq_len = WINDOW_SIZE # SEQLENS Just at max window size\n",
    "\n",
    "    print(obs.shape)\n",
    "    mask = tf.cast(tf.sequence_mask(seq_len, maxlen=WINDOW_SIZE), tf.float32) # creates a B*T mask\n",
    "    multiply_mask = tf.expand_dims(mask, -1)\n",
    "\n",
    "    goals = create_goal_tensor(dataset, seq_len)\n",
    "\n",
    "    obs = obs * multiply_mask\n",
    "    acts = acts * multiply_mask\n",
    "    goals = goals * multiply_mask\n",
    "    \n",
    "    ags = dataset['achieved_goals'] * multiply_mask\n",
    "    ag_to_goal = abs(ags - goals)\n",
    "    print(multiply_mask)\n",
    "    r = (1.0-tf.cast((tf.reduce_mean(tf.cast(ag_to_goal > 0.05, tf.float32), -1) > 0), tf.float32)) * tf.squeeze(multiply_mask)\n",
    "    \n",
    "    \n",
    "\n",
    "    \n",
    "\n",
    "    return {'obs':obs, 'acts':acts, 'goals':goals, 'seq_lens': tf.cast(seq_len, tf.float32), 'masks':mask, \n",
    "           'dataset_path':dataset['sequence_id'], 'tstep_idxs':dataset['sequence_index'], 'ags': ags ,\n",
    "            'reward': ag_to_goal, 'reward': r}\n",
    "\n",
    "def tf_ds_transform(dataset):\n",
    "    return dataset\\\n",
    "                .window(size=WINDOW_SIZE, shift=WINDOW_SHIFT, stride=1, drop_remainder=True)\\\n",
    "                .flat_map(window_lambda)\\\n",
    "                .filter(seq_overlap_filter)\\\n",
    "                .shuffle(SHUFFLE_SIZE)\\\n",
    "                .repeat()\\\n",
    "                .map(transform_states, num_parallel_calls=NUM_WORKERS)\\\n",
    "                .batch(GLOBAL_BATCH_SIZE, drop_remainder=True)\\\n",
    "                .prefetch(PREFETCH_SIZE)\\\n",
    "                # .cache()\n",
    "\n",
    "# Todo: Need to confirm splitting here works with shuffle() and repeat()\n",
    "train_size = int(TRAIN_TEST_SPLIT * DATASET_SIZE)\n",
    "\n",
    "full_dataset = tf.data.Dataset.from_tensor_slices(dataset)\n",
    "train_dataset = tf_ds_transform(full_dataset.take(train_size))\n",
    "valid_dataset = tf_ds_transform(full_dataset.skip(train_size))\n",
    "train_dataset"
   ]
  },
  {
   "cell_type": "code",
   "execution_count": 8,
   "metadata": {},
   "outputs": [],
   "source": [
    "from tensorflow.keras.models import Model, Sequential\n",
    "from tensorflow.keras.layers import Dense, BatchNormalization, ReLU, Input, LSTM, Concatenate, Masking, Reshape, Lambda\n",
    "from tensorflow.keras.regularizers import l1, l2\n",
    "import tensorflow_probability as tfp\n",
    "tfd = tfp.distributions\n",
    "tfb = tfp.bijectors\n",
    "tfpl = tfp.layers"
   ]
  },
  {
   "cell_type": "code",
   "execution_count": 9,
   "metadata": {},
   "outputs": [],
   "source": [
    "from custom_layers import LearnedInitLSTM"
   ]
  },
  {
   "cell_type": "code",
   "execution_count": 10,
   "metadata": {},
   "outputs": [],
   "source": [
    "\n",
    "def latent_normal(inputs):\n",
    "    mu, scale = inputs\n",
    "    dist = tfd.Normal(loc=mu, scale=scale)\n",
    "    return dist\n",
    "\n",
    "\n",
    "def logistic_mixture(inputs):\n",
    "    weightings, mu, scale = inputs\n",
    "    dist = tfd.Logistic(loc=mu, scale=scale)\n",
    "    mixture_dist = tfd.MixtureSameFamily(\n",
    "        mixture_distribution=tfd.Categorical(logits=weightings),\n",
    "        components_distribution=dist,\n",
    "        validate_args=True\n",
    "    )\n",
    "    return mixture_dist\n",
    "\n",
    "def create_actor(layer_size=1024, latent_dim = 256, epsilon=1e-4, num_distribs=None, GCBC=False, training=True, return_state=False):\n",
    "    # params #\n",
    "    batch_size = None if training else 1\n",
    "    stateful = not training\n",
    "\n",
    "    # Input #\n",
    "    o = Input(shape=(None, OBS_DIM), batch_size=batch_size, dtype=tf.float32, name='input_obs')\n",
    "    z = Input(shape=(None, latent_dim), batch_size=batch_size, dtype=tf.float32, name='input_latent')\n",
    "    g = Input(shape=(None, GOAL_DIM), batch_size=batch_size, dtype=tf.float32, name='input_goals')\n",
    "\n",
    "    # RNN #\n",
    "    if GCBC:      \n",
    "      x =  Concatenate(axis=-1)([o,g])\n",
    "    else:\n",
    "      x =  Concatenate(axis=-1)([o,z,g])\n",
    "\n",
    "    x = Masking(mask_value=0.)(x)\n",
    "    if return_state:\n",
    "#         x, _, state1 = LearnedInitLSTM(layer_size, return_sequences=True, stateful=stateful, name='LSTM_in_1', return_state=return_state)(x)\n",
    "#         x, _, state2= LearnedInitLSTM(layer_size, return_sequences=True, stateful=stateful, name='LSTM_in_2', return_state=return_state)(x)\n",
    "        x, _, state1 = LSTM(layer_size, return_sequences=True, stateful=stateful, name='LSTM_in_1', return_state=return_state)(x)\n",
    "        x, _, state2= LSTM(layer_size, return_sequences=True, stateful=stateful, name='LSTM_in_2', return_state=return_state)(x)\n",
    "    else:\n",
    "#         x = LearnedInitLSTM(layer_size, return_sequences=True, stateful=stateful, name='LSTM_in_1', return_state=return_state)(x)\n",
    "#         x = LearnedInitLSTM(layer_size, return_sequences=True, stateful=stateful, name='LSTM_in_2', return_state=return_state)(x)\n",
    "        x = LSTM(layer_size, return_sequences=True, stateful=stateful, name='LSTM_in_1', return_state=return_state)(x)\n",
    "        x = LSTM(layer_size, return_sequences=True, stateful=stateful, name='LSTM_in_2', return_state=return_state)(x)\n",
    "    # Probabilistic Mixture Model #\n",
    "    if num_distribs:\n",
    "        weightings = Dense(ACT_DIM*num_distribs, activation=None, name='alpha')(x)\n",
    "        mu = Dense(ACT_DIM*num_distribs, activation=None, name='mu')(x)\n",
    "        scale = Dense(ACT_DIM*num_distribs, activation=\"softplus\", name='sigma')(x + epsilon)\n",
    "\n",
    "        weightings = Reshape((-1, ACT_DIM, num_distribs))(weightings)\n",
    "        mu = Reshape((-1, ACT_DIM, num_distribs))(mu)\n",
    "        scale = Reshape((-1, ACT_DIM, num_distribs))(scale)\n",
    "        \n",
    "        actions = tfpl.DistributionLambda(logistic_mixture, name='logistic_mix')([weightings, mu, scale])\n",
    "    else:\n",
    "        actions = Dense(ACT_DIM, activation=None, name='acts')(x)\n",
    "    \n",
    "    if return_state:\n",
    "        if GCBC:\n",
    "          return Model([o, g], [actions, state1, state2])\n",
    "        else:\n",
    "          return Model([o, z, g], [actions, state1, state2])\n",
    "    else:\n",
    "        if GCBC:\n",
    "          return Model([o, g], actions)\n",
    "        else:\n",
    "          return Model([o, z, g], actions)\n"
   ]
  },
  {
   "cell_type": "code",
   "execution_count": 11,
   "metadata": {},
   "outputs": [],
   "source": [
    "from tensorflow.keras.layers import Bidirectional\n",
    "\n",
    "\n",
    "def create_encoder(layer_size=2048, latent_dim = 256, epsilon=1e-4, training=True):\n",
    "    # Input #\n",
    "    obs = Input(shape=(40, OBS_DIM), dtype=tf.float32, name='obs')\n",
    "    acts = Input(shape=(40, ACT_DIM), dtype=tf.float32, name='acts') \n",
    "\n",
    "    # Layers #\n",
    "    x = Concatenate(axis=-1)([obs, acts])\n",
    "    x = Masking(mask_value=0.)(x)\n",
    "    x = Bidirectional(LSTM(layer_size, return_sequences=True), merge_mode='concat')(x)\n",
    "    x = Bidirectional(LSTM(layer_size, return_sequences=False), merge_mode='concat')(x)\n",
    "\n",
    "    # Latent Variable # \n",
    "    mu = Dense(latent_dim, activation=None, name='mu')(x)\n",
    "    scale = Dense(latent_dim, activation=\"softplus\", name='sigma')(x + epsilon)\n",
    "    \n",
    "    mixture = tfpl.DistributionLambda(latent_normal, name='latent_variable')((mu, scale))\n",
    "    return Model([obs, acts], mixture)\n",
    "\n",
    "\n",
    "def create_planner(layer_size=2048, latent_dim = 256, epsilon=1e-4, training=True):\n",
    "    # params #\n",
    "    batch_size = None\n",
    "\n",
    "    # Input #\n",
    "    o_i = Input(shape=(OBS_DIM,), batch_size=batch_size, dtype=tf.float32, name='initial_obs') # has arm state\n",
    "    o_g = Input(shape=(GOAL_DIM,), batch_size=batch_size, dtype=tf.float32, name='goal_obs') # does not have arm state\n",
    "\n",
    "    # Layers #\n",
    "    x = Concatenate(axis=-1)([o_i, o_g])\n",
    "    x = Masking(mask_value=0.)(x)\n",
    "    x = Dense(layer_size, activation=\"relu\", name='layer_1')(x)\n",
    "    x = Dense(layer_size, activation=\"relu\", name='layer_2')(x)\n",
    "    x = Dense(layer_size, activation=\"relu\", name='layer_3')(x)\n",
    "    x = Dense(layer_size, activation=\"relu\", name='layer_4')(x)\n",
    "\n",
    "    # Latent Variable # \n",
    "    mu = Dense(latent_dim, activation=None, name='mu')(x)\n",
    "    scale = Dense(latent_dim, activation=\"softplus\", name='sigma')(x + epsilon)\n",
    "    \n",
    "    mixture = tfpl.DistributionLambda(latent_normal,  name='latent_variable')((mu, scale))\n",
    "    return Model([o_i, o_g], mixture)"
   ]
  },
  {
   "cell_type": "markdown",
   "metadata": {},
   "source": [
    "# Load our beautiful models"
   ]
  },
  {
   "cell_type": "code",
   "execution_count": 13,
   "metadata": {},
   "outputs": [],
   "source": []
  },
  {
   "cell_type": "code",
   "execution_count": 12,
   "metadata": {},
   "outputs": [
    {
     "name": "stderr",
     "output_type": "stream",
     "text": [
      "WARNING: Logging before flag parsing goes to stderr.\n",
      "W1109 15:28:59.419841 11944 deprecation.py:323] From C:\\Users\\sholt\\Anaconda3\\lib\\site-packages\\tensorflow_core\\python\\keras\\backend.py:3983: where (from tensorflow.python.ops.array_ops) is deprecated and will be removed in a future version.\n",
      "Instructions for updating:\n",
      "Use tf.where in 2.0, which has the same broadcast rule as np.where\n"
     ]
    },
    {
     "ename": "KeyboardInterrupt",
     "evalue": "",
     "output_type": "error",
     "traceback": [
      "\u001b[1;31m---------------------------------------------------------------------------\u001b[0m",
      "\u001b[1;31mKeyboardInterrupt\u001b[0m                         Traceback (most recent call last)",
      "\u001b[1;32m<ipython-input-12-940530b6afb3>\u001b[0m in \u001b[0;36m<module>\u001b[1;34m\u001b[0m\n\u001b[0;32m      6\u001b[0m     \u001b[0mactor\u001b[0m \u001b[1;33m=\u001b[0m \u001b[0mcreate_actor\u001b[0m\u001b[1;33m(\u001b[0m\u001b[1;33m**\u001b[0m\u001b[0mmodel_params\u001b[0m\u001b[1;33m,\u001b[0m \u001b[0mGCBC\u001b[0m\u001b[1;33m=\u001b[0m\u001b[0mGCBC\u001b[0m\u001b[1;33m,\u001b[0m \u001b[0mnum_distribs\u001b[0m\u001b[1;33m=\u001b[0m\u001b[1;36m3\u001b[0m\u001b[1;33m)\u001b[0m\u001b[1;33m\u001b[0m\u001b[1;33m\u001b[0m\u001b[0m\n\u001b[0;32m      7\u001b[0m \u001b[1;32melse\u001b[0m\u001b[1;33m:\u001b[0m\u001b[1;33m\u001b[0m\u001b[1;33m\u001b[0m\u001b[0m\n\u001b[1;32m----> 8\u001b[1;33m     \u001b[0mactor\u001b[0m \u001b[1;33m=\u001b[0m \u001b[0mcreate_actor\u001b[0m\u001b[1;33m(\u001b[0m\u001b[1;33m**\u001b[0m\u001b[0mmodel_params\u001b[0m\u001b[1;33m,\u001b[0m \u001b[0mGCBC\u001b[0m\u001b[1;33m=\u001b[0m\u001b[0mGCBC\u001b[0m\u001b[1;33m)\u001b[0m\u001b[1;33m\u001b[0m\u001b[1;33m\u001b[0m\u001b[0m\n\u001b[0m\u001b[0;32m      9\u001b[0m \u001b[1;33m\u001b[0m\u001b[0m\n\u001b[0;32m     10\u001b[0m \u001b[1;32mif\u001b[0m \u001b[1;32mnot\u001b[0m \u001b[0mGCBC\u001b[0m\u001b[1;33m:\u001b[0m\u001b[1;33m\u001b[0m\u001b[1;33m\u001b[0m\u001b[0m\n",
      "\u001b[1;32m<ipython-input-10-0ac58bededa4>\u001b[0m in \u001b[0;36mcreate_actor\u001b[1;34m(layer_size, latent_dim, epsilon, num_distribs, GCBC, training, return_state)\u001b[0m\n\u001b[0;32m     41\u001b[0m \u001b[1;31m#         x = LearnedInitLSTM(layer_size, return_sequences=True, stateful=stateful, name='LSTM_in_2', return_state=return_state)(x)\u001b[0m\u001b[1;33m\u001b[0m\u001b[1;33m\u001b[0m\u001b[1;33m\u001b[0m\u001b[0m\n\u001b[0;32m     42\u001b[0m         \u001b[0mx\u001b[0m \u001b[1;33m=\u001b[0m \u001b[0mLSTM\u001b[0m\u001b[1;33m(\u001b[0m\u001b[0mlayer_size\u001b[0m\u001b[1;33m,\u001b[0m \u001b[0mreturn_sequences\u001b[0m\u001b[1;33m=\u001b[0m\u001b[1;32mTrue\u001b[0m\u001b[1;33m,\u001b[0m \u001b[0mstateful\u001b[0m\u001b[1;33m=\u001b[0m\u001b[0mstateful\u001b[0m\u001b[1;33m,\u001b[0m \u001b[0mname\u001b[0m\u001b[1;33m=\u001b[0m\u001b[1;34m'LSTM_in_1'\u001b[0m\u001b[1;33m,\u001b[0m \u001b[0mreturn_state\u001b[0m\u001b[1;33m=\u001b[0m\u001b[0mreturn_state\u001b[0m\u001b[1;33m)\u001b[0m\u001b[1;33m(\u001b[0m\u001b[0mx\u001b[0m\u001b[1;33m)\u001b[0m\u001b[1;33m\u001b[0m\u001b[1;33m\u001b[0m\u001b[0m\n\u001b[1;32m---> 43\u001b[1;33m         \u001b[0mx\u001b[0m \u001b[1;33m=\u001b[0m \u001b[0mLSTM\u001b[0m\u001b[1;33m(\u001b[0m\u001b[0mlayer_size\u001b[0m\u001b[1;33m,\u001b[0m \u001b[0mreturn_sequences\u001b[0m\u001b[1;33m=\u001b[0m\u001b[1;32mTrue\u001b[0m\u001b[1;33m,\u001b[0m \u001b[0mstateful\u001b[0m\u001b[1;33m=\u001b[0m\u001b[0mstateful\u001b[0m\u001b[1;33m,\u001b[0m \u001b[0mname\u001b[0m\u001b[1;33m=\u001b[0m\u001b[1;34m'LSTM_in_2'\u001b[0m\u001b[1;33m,\u001b[0m \u001b[0mreturn_state\u001b[0m\u001b[1;33m=\u001b[0m\u001b[0mreturn_state\u001b[0m\u001b[1;33m)\u001b[0m\u001b[1;33m(\u001b[0m\u001b[0mx\u001b[0m\u001b[1;33m)\u001b[0m\u001b[1;33m\u001b[0m\u001b[1;33m\u001b[0m\u001b[0m\n\u001b[0m\u001b[0;32m     44\u001b[0m     \u001b[1;31m# Probabilistic Mixture Model #\u001b[0m\u001b[1;33m\u001b[0m\u001b[1;33m\u001b[0m\u001b[1;33m\u001b[0m\u001b[0m\n\u001b[0;32m     45\u001b[0m     \u001b[1;32mif\u001b[0m \u001b[0mnum_distribs\u001b[0m\u001b[1;33m:\u001b[0m\u001b[1;33m\u001b[0m\u001b[1;33m\u001b[0m\u001b[0m\n",
      "\u001b[1;32m~\\Anaconda3\\lib\\site-packages\\tensorflow_core\\python\\keras\\layers\\recurrent.py\u001b[0m in \u001b[0;36m__call__\u001b[1;34m(self, inputs, initial_state, constants, **kwargs)\u001b[0m\n\u001b[0;32m    621\u001b[0m \u001b[1;33m\u001b[0m\u001b[0m\n\u001b[0;32m    622\u001b[0m     \u001b[1;32mif\u001b[0m \u001b[0minitial_state\u001b[0m \u001b[1;32mis\u001b[0m \u001b[1;32mNone\u001b[0m \u001b[1;32mand\u001b[0m \u001b[0mconstants\u001b[0m \u001b[1;32mis\u001b[0m \u001b[1;32mNone\u001b[0m\u001b[1;33m:\u001b[0m\u001b[1;33m\u001b[0m\u001b[1;33m\u001b[0m\u001b[0m\n\u001b[1;32m--> 623\u001b[1;33m       \u001b[1;32mreturn\u001b[0m \u001b[0msuper\u001b[0m\u001b[1;33m(\u001b[0m\u001b[0mRNN\u001b[0m\u001b[1;33m,\u001b[0m \u001b[0mself\u001b[0m\u001b[1;33m)\u001b[0m\u001b[1;33m.\u001b[0m\u001b[0m__call__\u001b[0m\u001b[1;33m(\u001b[0m\u001b[0minputs\u001b[0m\u001b[1;33m,\u001b[0m \u001b[1;33m**\u001b[0m\u001b[0mkwargs\u001b[0m\u001b[1;33m)\u001b[0m\u001b[1;33m\u001b[0m\u001b[1;33m\u001b[0m\u001b[0m\n\u001b[0m\u001b[0;32m    624\u001b[0m \u001b[1;33m\u001b[0m\u001b[0m\n\u001b[0;32m    625\u001b[0m     \u001b[1;31m# If any of `initial_state` or `constants` are specified and are Keras\u001b[0m\u001b[1;33m\u001b[0m\u001b[1;33m\u001b[0m\u001b[1;33m\u001b[0m\u001b[0m\n",
      "\u001b[1;32m~\\Anaconda3\\lib\\site-packages\\tensorflow_core\\python\\keras\\engine\\base_layer.py\u001b[0m in \u001b[0;36m__call__\u001b[1;34m(self, inputs, *args, **kwargs)\u001b[0m\n\u001b[0;32m    775\u001b[0m           \u001b[1;31m# Build layer if applicable (if the `build` method has been\u001b[0m\u001b[1;33m\u001b[0m\u001b[1;33m\u001b[0m\u001b[1;33m\u001b[0m\u001b[0m\n\u001b[0;32m    776\u001b[0m           \u001b[1;31m# overridden).\u001b[0m\u001b[1;33m\u001b[0m\u001b[1;33m\u001b[0m\u001b[1;33m\u001b[0m\u001b[0m\n\u001b[1;32m--> 777\u001b[1;33m           \u001b[0mself\u001b[0m\u001b[1;33m.\u001b[0m\u001b[0m_maybe_build\u001b[0m\u001b[1;33m(\u001b[0m\u001b[0minputs\u001b[0m\u001b[1;33m)\u001b[0m\u001b[1;33m\u001b[0m\u001b[1;33m\u001b[0m\u001b[0m\n\u001b[0m\u001b[0;32m    778\u001b[0m           \u001b[0mcast_inputs\u001b[0m \u001b[1;33m=\u001b[0m \u001b[0mself\u001b[0m\u001b[1;33m.\u001b[0m\u001b[0m_maybe_cast_inputs\u001b[0m\u001b[1;33m(\u001b[0m\u001b[0minputs\u001b[0m\u001b[1;33m)\u001b[0m\u001b[1;33m\u001b[0m\u001b[1;33m\u001b[0m\u001b[0m\n\u001b[0;32m    779\u001b[0m \u001b[1;33m\u001b[0m\u001b[0m\n",
      "\u001b[1;32m~\\Anaconda3\\lib\\site-packages\\tensorflow_core\\python\\keras\\engine\\base_layer.py\u001b[0m in \u001b[0;36m_maybe_build\u001b[1;34m(self, inputs)\u001b[0m\n\u001b[0;32m   2097\u001b[0m         \u001b[1;31m# operations.\u001b[0m\u001b[1;33m\u001b[0m\u001b[1;33m\u001b[0m\u001b[1;33m\u001b[0m\u001b[0m\n\u001b[0;32m   2098\u001b[0m         \u001b[1;32mwith\u001b[0m \u001b[0mtf_utils\u001b[0m\u001b[1;33m.\u001b[0m\u001b[0mmaybe_init_scope\u001b[0m\u001b[1;33m(\u001b[0m\u001b[0mself\u001b[0m\u001b[1;33m)\u001b[0m\u001b[1;33m:\u001b[0m\u001b[1;33m\u001b[0m\u001b[1;33m\u001b[0m\u001b[0m\n\u001b[1;32m-> 2099\u001b[1;33m           \u001b[0mself\u001b[0m\u001b[1;33m.\u001b[0m\u001b[0mbuild\u001b[0m\u001b[1;33m(\u001b[0m\u001b[0minput_shapes\u001b[0m\u001b[1;33m)\u001b[0m\u001b[1;33m\u001b[0m\u001b[1;33m\u001b[0m\u001b[0m\n\u001b[0m\u001b[0;32m   2100\u001b[0m       \u001b[1;31m# We must set self.built since user defined build functions are not\u001b[0m\u001b[1;33m\u001b[0m\u001b[1;33m\u001b[0m\u001b[1;33m\u001b[0m\u001b[0m\n\u001b[0;32m   2101\u001b[0m       \u001b[1;31m# constrained to set self.built.\u001b[0m\u001b[1;33m\u001b[0m\u001b[1;33m\u001b[0m\u001b[1;33m\u001b[0m\u001b[0m\n",
      "\u001b[1;32m~\\Anaconda3\\lib\\site-packages\\tensorflow_core\\python\\keras\\layers\\recurrent.py\u001b[0m in \u001b[0;36mbuild\u001b[1;34m(self, input_shape)\u001b[0m\n\u001b[0;32m    542\u001b[0m     \u001b[1;32mif\u001b[0m \u001b[0misinstance\u001b[0m\u001b[1;33m(\u001b[0m\u001b[0mself\u001b[0m\u001b[1;33m.\u001b[0m\u001b[0mcell\u001b[0m\u001b[1;33m,\u001b[0m \u001b[0mLayer\u001b[0m\u001b[1;33m)\u001b[0m\u001b[1;33m:\u001b[0m\u001b[1;33m\u001b[0m\u001b[1;33m\u001b[0m\u001b[0m\n\u001b[0;32m    543\u001b[0m       \u001b[1;32mif\u001b[0m \u001b[1;32mnot\u001b[0m \u001b[0mself\u001b[0m\u001b[1;33m.\u001b[0m\u001b[0mcell\u001b[0m\u001b[1;33m.\u001b[0m\u001b[0mbuilt\u001b[0m\u001b[1;33m:\u001b[0m\u001b[1;33m\u001b[0m\u001b[1;33m\u001b[0m\u001b[0m\n\u001b[1;32m--> 544\u001b[1;33m         \u001b[0mself\u001b[0m\u001b[1;33m.\u001b[0m\u001b[0mcell\u001b[0m\u001b[1;33m.\u001b[0m\u001b[0mbuild\u001b[0m\u001b[1;33m(\u001b[0m\u001b[0mstep_input_shape\u001b[0m\u001b[1;33m)\u001b[0m\u001b[1;33m\u001b[0m\u001b[1;33m\u001b[0m\u001b[0m\n\u001b[0m\u001b[0;32m    545\u001b[0m \u001b[1;33m\u001b[0m\u001b[0m\n\u001b[0;32m    546\u001b[0m     \u001b[1;31m# set or validate state_spec\u001b[0m\u001b[1;33m\u001b[0m\u001b[1;33m\u001b[0m\u001b[1;33m\u001b[0m\u001b[0m\n",
      "\u001b[1;32m~\\Anaconda3\\lib\\site-packages\\tensorflow_core\\python\\keras\\utils\\tf_utils.py\u001b[0m in \u001b[0;36mwrapper\u001b[1;34m(instance, input_shape)\u001b[0m\n\u001b[0;32m    304\u001b[0m     \u001b[1;32mif\u001b[0m \u001b[0minput_shape\u001b[0m \u001b[1;32mis\u001b[0m \u001b[1;32mnot\u001b[0m \u001b[1;32mNone\u001b[0m\u001b[1;33m:\u001b[0m\u001b[1;33m\u001b[0m\u001b[1;33m\u001b[0m\u001b[0m\n\u001b[0;32m    305\u001b[0m       \u001b[0minput_shape\u001b[0m \u001b[1;33m=\u001b[0m \u001b[0mconvert_shapes\u001b[0m\u001b[1;33m(\u001b[0m\u001b[0minput_shape\u001b[0m\u001b[1;33m,\u001b[0m \u001b[0mto_tuples\u001b[0m\u001b[1;33m=\u001b[0m\u001b[1;32mTrue\u001b[0m\u001b[1;33m)\u001b[0m\u001b[1;33m\u001b[0m\u001b[1;33m\u001b[0m\u001b[0m\n\u001b[1;32m--> 306\u001b[1;33m     \u001b[0moutput_shape\u001b[0m \u001b[1;33m=\u001b[0m \u001b[0mfn\u001b[0m\u001b[1;33m(\u001b[0m\u001b[0minstance\u001b[0m\u001b[1;33m,\u001b[0m \u001b[0minput_shape\u001b[0m\u001b[1;33m)\u001b[0m\u001b[1;33m\u001b[0m\u001b[1;33m\u001b[0m\u001b[0m\n\u001b[0m\u001b[0;32m    307\u001b[0m     \u001b[1;31m# Return shapes from `fn` as TensorShapes.\u001b[0m\u001b[1;33m\u001b[0m\u001b[1;33m\u001b[0m\u001b[1;33m\u001b[0m\u001b[0m\n\u001b[0;32m    308\u001b[0m     \u001b[1;32mif\u001b[0m \u001b[0moutput_shape\u001b[0m \u001b[1;32mis\u001b[0m \u001b[1;32mnot\u001b[0m \u001b[1;32mNone\u001b[0m\u001b[1;33m:\u001b[0m\u001b[1;33m\u001b[0m\u001b[1;33m\u001b[0m\u001b[0m\n",
      "\u001b[1;32m~\\Anaconda3\\lib\\site-packages\\tensorflow_core\\python\\keras\\layers\\recurrent.py\u001b[0m in \u001b[0;36mbuild\u001b[1;34m(self, input_shape)\u001b[0m\n\u001b[0;32m   2162\u001b[0m         \u001b[0minitializer\u001b[0m\u001b[1;33m=\u001b[0m\u001b[0mself\u001b[0m\u001b[1;33m.\u001b[0m\u001b[0mrecurrent_initializer\u001b[0m\u001b[1;33m,\u001b[0m\u001b[1;33m\u001b[0m\u001b[1;33m\u001b[0m\u001b[0m\n\u001b[0;32m   2163\u001b[0m         \u001b[0mregularizer\u001b[0m\u001b[1;33m=\u001b[0m\u001b[0mself\u001b[0m\u001b[1;33m.\u001b[0m\u001b[0mrecurrent_regularizer\u001b[0m\u001b[1;33m,\u001b[0m\u001b[1;33m\u001b[0m\u001b[1;33m\u001b[0m\u001b[0m\n\u001b[1;32m-> 2164\u001b[1;33m         constraint=self.recurrent_constraint)\n\u001b[0m\u001b[0;32m   2165\u001b[0m \u001b[1;33m\u001b[0m\u001b[0m\n\u001b[0;32m   2166\u001b[0m     \u001b[1;32mif\u001b[0m \u001b[0mself\u001b[0m\u001b[1;33m.\u001b[0m\u001b[0muse_bias\u001b[0m\u001b[1;33m:\u001b[0m\u001b[1;33m\u001b[0m\u001b[1;33m\u001b[0m\u001b[0m\n",
      "\u001b[1;32m~\\Anaconda3\\lib\\site-packages\\tensorflow_core\\python\\keras\\engine\\base_layer.py\u001b[0m in \u001b[0;36madd_weight\u001b[1;34m(self, name, shape, dtype, initializer, regularizer, trainable, constraint, partitioner, use_resource, synchronization, aggregation, **kwargs)\u001b[0m\n\u001b[0;32m    480\u001b[0m         \u001b[0mcollections\u001b[0m\u001b[1;33m=\u001b[0m\u001b[0mcollections_arg\u001b[0m\u001b[1;33m,\u001b[0m\u001b[1;33m\u001b[0m\u001b[1;33m\u001b[0m\u001b[0m\n\u001b[0;32m    481\u001b[0m         \u001b[0msynchronization\u001b[0m\u001b[1;33m=\u001b[0m\u001b[0msynchronization\u001b[0m\u001b[1;33m,\u001b[0m\u001b[1;33m\u001b[0m\u001b[1;33m\u001b[0m\u001b[0m\n\u001b[1;32m--> 482\u001b[1;33m         aggregation=aggregation)\n\u001b[0m\u001b[0;32m    483\u001b[0m     \u001b[0mbackend\u001b[0m\u001b[1;33m.\u001b[0m\u001b[0mtrack_variable\u001b[0m\u001b[1;33m(\u001b[0m\u001b[0mvariable\u001b[0m\u001b[1;33m)\u001b[0m\u001b[1;33m\u001b[0m\u001b[1;33m\u001b[0m\u001b[0m\n\u001b[0;32m    484\u001b[0m \u001b[1;33m\u001b[0m\u001b[0m\n",
      "\u001b[1;32m~\\Anaconda3\\lib\\site-packages\\tensorflow_core\\python\\training\\tracking\\base.py\u001b[0m in \u001b[0;36m_add_variable_with_custom_getter\u001b[1;34m(self, name, shape, dtype, initializer, getter, overwrite, **kwargs_for_getter)\u001b[0m\n\u001b[0;32m    742\u001b[0m         \u001b[0mdtype\u001b[0m\u001b[1;33m=\u001b[0m\u001b[0mdtype\u001b[0m\u001b[1;33m,\u001b[0m\u001b[1;33m\u001b[0m\u001b[1;33m\u001b[0m\u001b[0m\n\u001b[0;32m    743\u001b[0m         \u001b[0minitializer\u001b[0m\u001b[1;33m=\u001b[0m\u001b[0minitializer\u001b[0m\u001b[1;33m,\u001b[0m\u001b[1;33m\u001b[0m\u001b[1;33m\u001b[0m\u001b[0m\n\u001b[1;32m--> 744\u001b[1;33m         **kwargs_for_getter)\n\u001b[0m\u001b[0;32m    745\u001b[0m \u001b[1;33m\u001b[0m\u001b[0m\n\u001b[0;32m    746\u001b[0m     \u001b[1;31m# If we set an initializer and the variable processed it, tracking will not\u001b[0m\u001b[1;33m\u001b[0m\u001b[1;33m\u001b[0m\u001b[1;33m\u001b[0m\u001b[0m\n",
      "\u001b[1;32m~\\Anaconda3\\lib\\site-packages\\tensorflow_core\\python\\keras\\engine\\base_layer_utils.py\u001b[0m in \u001b[0;36mmake_variable\u001b[1;34m(name, shape, dtype, initializer, trainable, caching_device, validate_shape, constraint, use_resource, collections, synchronization, aggregation, partitioner)\u001b[0m\n\u001b[0;32m    137\u001b[0m       \u001b[0msynchronization\u001b[0m\u001b[1;33m=\u001b[0m\u001b[0msynchronization\u001b[0m\u001b[1;33m,\u001b[0m\u001b[1;33m\u001b[0m\u001b[1;33m\u001b[0m\u001b[0m\n\u001b[0;32m    138\u001b[0m       \u001b[0maggregation\u001b[0m\u001b[1;33m=\u001b[0m\u001b[0maggregation\u001b[0m\u001b[1;33m,\u001b[0m\u001b[1;33m\u001b[0m\u001b[1;33m\u001b[0m\u001b[0m\n\u001b[1;32m--> 139\u001b[1;33m       shape=variable_shape if variable_shape else None)\n\u001b[0m\u001b[0;32m    140\u001b[0m \u001b[1;33m\u001b[0m\u001b[0m\n\u001b[0;32m    141\u001b[0m \u001b[1;33m\u001b[0m\u001b[0m\n",
      "\u001b[1;32m~\\Anaconda3\\lib\\site-packages\\tensorflow_core\\python\\ops\\variables.py\u001b[0m in \u001b[0;36m__call__\u001b[1;34m(cls, *args, **kwargs)\u001b[0m\n\u001b[0;32m    255\u001b[0m   \u001b[1;32mdef\u001b[0m \u001b[0m__call__\u001b[0m\u001b[1;33m(\u001b[0m\u001b[0mcls\u001b[0m\u001b[1;33m,\u001b[0m \u001b[1;33m*\u001b[0m\u001b[0margs\u001b[0m\u001b[1;33m,\u001b[0m \u001b[1;33m**\u001b[0m\u001b[0mkwargs\u001b[0m\u001b[1;33m)\u001b[0m\u001b[1;33m:\u001b[0m\u001b[1;33m\u001b[0m\u001b[1;33m\u001b[0m\u001b[0m\n\u001b[0;32m    256\u001b[0m     \u001b[1;32mif\u001b[0m \u001b[0mcls\u001b[0m \u001b[1;32mis\u001b[0m \u001b[0mVariableV1\u001b[0m\u001b[1;33m:\u001b[0m\u001b[1;33m\u001b[0m\u001b[1;33m\u001b[0m\u001b[0m\n\u001b[1;32m--> 257\u001b[1;33m       \u001b[1;32mreturn\u001b[0m \u001b[0mcls\u001b[0m\u001b[1;33m.\u001b[0m\u001b[0m_variable_v1_call\u001b[0m\u001b[1;33m(\u001b[0m\u001b[1;33m*\u001b[0m\u001b[0margs\u001b[0m\u001b[1;33m,\u001b[0m \u001b[1;33m**\u001b[0m\u001b[0mkwargs\u001b[0m\u001b[1;33m)\u001b[0m\u001b[1;33m\u001b[0m\u001b[1;33m\u001b[0m\u001b[0m\n\u001b[0m\u001b[0;32m    258\u001b[0m     \u001b[1;32melif\u001b[0m \u001b[0mcls\u001b[0m \u001b[1;32mis\u001b[0m \u001b[0mVariable\u001b[0m\u001b[1;33m:\u001b[0m\u001b[1;33m\u001b[0m\u001b[1;33m\u001b[0m\u001b[0m\n\u001b[0;32m    259\u001b[0m       \u001b[1;32mreturn\u001b[0m \u001b[0mcls\u001b[0m\u001b[1;33m.\u001b[0m\u001b[0m_variable_v2_call\u001b[0m\u001b[1;33m(\u001b[0m\u001b[1;33m*\u001b[0m\u001b[0margs\u001b[0m\u001b[1;33m,\u001b[0m \u001b[1;33m**\u001b[0m\u001b[0mkwargs\u001b[0m\u001b[1;33m)\u001b[0m\u001b[1;33m\u001b[0m\u001b[1;33m\u001b[0m\u001b[0m\n",
      "\u001b[1;32m~\\Anaconda3\\lib\\site-packages\\tensorflow_core\\python\\ops\\variables.py\u001b[0m in \u001b[0;36m_variable_v1_call\u001b[1;34m(cls, initial_value, trainable, collections, validate_shape, caching_device, name, variable_def, dtype, expected_shape, import_scope, constraint, use_resource, synchronization, aggregation, shape)\u001b[0m\n\u001b[0;32m    216\u001b[0m         \u001b[0msynchronization\u001b[0m\u001b[1;33m=\u001b[0m\u001b[0msynchronization\u001b[0m\u001b[1;33m,\u001b[0m\u001b[1;33m\u001b[0m\u001b[1;33m\u001b[0m\u001b[0m\n\u001b[0;32m    217\u001b[0m         \u001b[0maggregation\u001b[0m\u001b[1;33m=\u001b[0m\u001b[0maggregation\u001b[0m\u001b[1;33m,\u001b[0m\u001b[1;33m\u001b[0m\u001b[1;33m\u001b[0m\u001b[0m\n\u001b[1;32m--> 218\u001b[1;33m         shape=shape)\n\u001b[0m\u001b[0;32m    219\u001b[0m \u001b[1;33m\u001b[0m\u001b[0m\n\u001b[0;32m    220\u001b[0m   def _variable_v2_call(cls,\n",
      "\u001b[1;32m~\\Anaconda3\\lib\\site-packages\\tensorflow_core\\python\\ops\\variables.py\u001b[0m in \u001b[0;36m<lambda>\u001b[1;34m(**kwargs)\u001b[0m\n\u001b[0;32m    194\u001b[0m                         shape=None):\n\u001b[0;32m    195\u001b[0m     \u001b[1;34m\"\"\"Call on Variable class. Useful to force the signature.\"\"\"\u001b[0m\u001b[1;33m\u001b[0m\u001b[1;33m\u001b[0m\u001b[0m\n\u001b[1;32m--> 196\u001b[1;33m     \u001b[0mprevious_getter\u001b[0m \u001b[1;33m=\u001b[0m \u001b[1;32mlambda\u001b[0m \u001b[1;33m**\u001b[0m\u001b[0mkwargs\u001b[0m\u001b[1;33m:\u001b[0m \u001b[0mdefault_variable_creator\u001b[0m\u001b[1;33m(\u001b[0m\u001b[1;32mNone\u001b[0m\u001b[1;33m,\u001b[0m \u001b[1;33m**\u001b[0m\u001b[0mkwargs\u001b[0m\u001b[1;33m)\u001b[0m\u001b[1;33m\u001b[0m\u001b[1;33m\u001b[0m\u001b[0m\n\u001b[0m\u001b[0;32m    197\u001b[0m     \u001b[1;32mfor\u001b[0m \u001b[0m_\u001b[0m\u001b[1;33m,\u001b[0m \u001b[0mgetter\u001b[0m \u001b[1;32min\u001b[0m \u001b[0mops\u001b[0m\u001b[1;33m.\u001b[0m\u001b[0mget_default_graph\u001b[0m\u001b[1;33m(\u001b[0m\u001b[1;33m)\u001b[0m\u001b[1;33m.\u001b[0m\u001b[0m_variable_creator_stack\u001b[0m\u001b[1;33m:\u001b[0m  \u001b[1;31m# pylint: disable=protected-access\u001b[0m\u001b[1;33m\u001b[0m\u001b[1;33m\u001b[0m\u001b[0m\n\u001b[0;32m    198\u001b[0m       \u001b[0mprevious_getter\u001b[0m \u001b[1;33m=\u001b[0m \u001b[0m_make_getter\u001b[0m\u001b[1;33m(\u001b[0m\u001b[0mgetter\u001b[0m\u001b[1;33m,\u001b[0m \u001b[0mprevious_getter\u001b[0m\u001b[1;33m)\u001b[0m\u001b[1;33m\u001b[0m\u001b[1;33m\u001b[0m\u001b[0m\n",
      "\u001b[1;32m~\\Anaconda3\\lib\\site-packages\\tensorflow_core\\python\\ops\\variable_scope.py\u001b[0m in \u001b[0;36mdefault_variable_creator\u001b[1;34m(next_creator, **kwargs)\u001b[0m\n\u001b[0;32m   2505\u001b[0m         \u001b[0msynchronization\u001b[0m\u001b[1;33m=\u001b[0m\u001b[0msynchronization\u001b[0m\u001b[1;33m,\u001b[0m\u001b[1;33m\u001b[0m\u001b[1;33m\u001b[0m\u001b[0m\n\u001b[0;32m   2506\u001b[0m         \u001b[0maggregation\u001b[0m\u001b[1;33m=\u001b[0m\u001b[0maggregation\u001b[0m\u001b[1;33m,\u001b[0m\u001b[1;33m\u001b[0m\u001b[1;33m\u001b[0m\u001b[0m\n\u001b[1;32m-> 2507\u001b[1;33m         shape=shape)\n\u001b[0m\u001b[0;32m   2508\u001b[0m   \u001b[1;32melse\u001b[0m\u001b[1;33m:\u001b[0m\u001b[1;33m\u001b[0m\u001b[1;33m\u001b[0m\u001b[0m\n\u001b[0;32m   2509\u001b[0m     return variables.RefVariable(\n",
      "\u001b[1;32m~\\Anaconda3\\lib\\site-packages\\tensorflow_core\\python\\ops\\variables.py\u001b[0m in \u001b[0;36m__call__\u001b[1;34m(cls, *args, **kwargs)\u001b[0m\n\u001b[0;32m    259\u001b[0m       \u001b[1;32mreturn\u001b[0m \u001b[0mcls\u001b[0m\u001b[1;33m.\u001b[0m\u001b[0m_variable_v2_call\u001b[0m\u001b[1;33m(\u001b[0m\u001b[1;33m*\u001b[0m\u001b[0margs\u001b[0m\u001b[1;33m,\u001b[0m \u001b[1;33m**\u001b[0m\u001b[0mkwargs\u001b[0m\u001b[1;33m)\u001b[0m\u001b[1;33m\u001b[0m\u001b[1;33m\u001b[0m\u001b[0m\n\u001b[0;32m    260\u001b[0m     \u001b[1;32melse\u001b[0m\u001b[1;33m:\u001b[0m\u001b[1;33m\u001b[0m\u001b[1;33m\u001b[0m\u001b[0m\n\u001b[1;32m--> 261\u001b[1;33m       \u001b[1;32mreturn\u001b[0m \u001b[0msuper\u001b[0m\u001b[1;33m(\u001b[0m\u001b[0mVariableMetaclass\u001b[0m\u001b[1;33m,\u001b[0m \u001b[0mcls\u001b[0m\u001b[1;33m)\u001b[0m\u001b[1;33m.\u001b[0m\u001b[0m__call__\u001b[0m\u001b[1;33m(\u001b[0m\u001b[1;33m*\u001b[0m\u001b[0margs\u001b[0m\u001b[1;33m,\u001b[0m \u001b[1;33m**\u001b[0m\u001b[0mkwargs\u001b[0m\u001b[1;33m)\u001b[0m\u001b[1;33m\u001b[0m\u001b[1;33m\u001b[0m\u001b[0m\n\u001b[0m\u001b[0;32m    262\u001b[0m \u001b[1;33m\u001b[0m\u001b[0m\n\u001b[0;32m    263\u001b[0m \u001b[1;33m\u001b[0m\u001b[0m\n",
      "\u001b[1;32m~\\Anaconda3\\lib\\site-packages\\tensorflow_core\\python\\ops\\resource_variable_ops.py\u001b[0m in \u001b[0;36m__init__\u001b[1;34m(self, initial_value, trainable, collections, validate_shape, caching_device, name, dtype, variable_def, import_scope, constraint, distribute_strategy, synchronization, aggregation, shape)\u001b[0m\n\u001b[0;32m   1404\u001b[0m           \u001b[0maggregation\u001b[0m\u001b[1;33m=\u001b[0m\u001b[0maggregation\u001b[0m\u001b[1;33m,\u001b[0m\u001b[1;33m\u001b[0m\u001b[1;33m\u001b[0m\u001b[0m\n\u001b[0;32m   1405\u001b[0m           \u001b[0mshape\u001b[0m\u001b[1;33m=\u001b[0m\u001b[0mshape\u001b[0m\u001b[1;33m,\u001b[0m\u001b[1;33m\u001b[0m\u001b[1;33m\u001b[0m\u001b[0m\n\u001b[1;32m-> 1406\u001b[1;33m           distribute_strategy=distribute_strategy)\n\u001b[0m\u001b[0;32m   1407\u001b[0m \u001b[1;33m\u001b[0m\u001b[0m\n\u001b[0;32m   1408\u001b[0m   def _init_from_args(self,\n",
      "\u001b[1;32m~\\Anaconda3\\lib\\site-packages\\tensorflow_core\\python\\ops\\resource_variable_ops.py\u001b[0m in \u001b[0;36m_init_from_args\u001b[1;34m(self, initial_value, trainable, collections, caching_device, name, dtype, constraint, synchronization, aggregation, distribute_strategy, shape)\u001b[0m\n\u001b[0;32m   1535\u001b[0m           \u001b[1;32mwith\u001b[0m \u001b[0mops\u001b[0m\u001b[1;33m.\u001b[0m\u001b[0mname_scope\u001b[0m\u001b[1;33m(\u001b[0m\u001b[1;34m\"Initializer\"\u001b[0m\u001b[1;33m)\u001b[0m\u001b[1;33m,\u001b[0m \u001b[0mdevice_context_manager\u001b[0m\u001b[1;33m(\u001b[0m\u001b[1;32mNone\u001b[0m\u001b[1;33m)\u001b[0m\u001b[1;33m:\u001b[0m\u001b[1;33m\u001b[0m\u001b[1;33m\u001b[0m\u001b[0m\n\u001b[0;32m   1536\u001b[0m             initial_value = ops.convert_to_tensor(\n\u001b[1;32m-> 1537\u001b[1;33m                 \u001b[0minitial_value\u001b[0m\u001b[1;33m(\u001b[0m\u001b[1;33m)\u001b[0m \u001b[1;32mif\u001b[0m \u001b[0minit_from_fn\u001b[0m \u001b[1;32melse\u001b[0m \u001b[0minitial_value\u001b[0m\u001b[1;33m,\u001b[0m\u001b[1;33m\u001b[0m\u001b[1;33m\u001b[0m\u001b[0m\n\u001b[0m\u001b[0;32m   1538\u001b[0m                 name=\"initial_value\", dtype=dtype)\n\u001b[0;32m   1539\u001b[0m           \u001b[1;32mif\u001b[0m \u001b[0mshape\u001b[0m \u001b[1;32mis\u001b[0m \u001b[1;32mnot\u001b[0m \u001b[1;32mNone\u001b[0m\u001b[1;33m:\u001b[0m\u001b[1;33m\u001b[0m\u001b[1;33m\u001b[0m\u001b[0m\n",
      "\u001b[1;32m~\\Anaconda3\\lib\\site-packages\\tensorflow_core\\python\\keras\\engine\\base_layer_utils.py\u001b[0m in \u001b[0;36m<lambda>\u001b[1;34m()\u001b[0m\n\u001b[0;32m    117\u001b[0m           (type(init_ops.Initializer), type(init_ops_v2.Initializer))):\n\u001b[0;32m    118\u001b[0m         \u001b[0minitializer\u001b[0m \u001b[1;33m=\u001b[0m \u001b[0minitializer\u001b[0m\u001b[1;33m(\u001b[0m\u001b[1;33m)\u001b[0m\u001b[1;33m\u001b[0m\u001b[1;33m\u001b[0m\u001b[0m\n\u001b[1;32m--> 119\u001b[1;33m       \u001b[0minit_val\u001b[0m \u001b[1;33m=\u001b[0m \u001b[1;32mlambda\u001b[0m\u001b[1;33m:\u001b[0m \u001b[0minitializer\u001b[0m\u001b[1;33m(\u001b[0m\u001b[0mshape\u001b[0m\u001b[1;33m,\u001b[0m \u001b[0mdtype\u001b[0m\u001b[1;33m=\u001b[0m\u001b[0mdtype\u001b[0m\u001b[1;33m)\u001b[0m\u001b[1;33m\u001b[0m\u001b[1;33m\u001b[0m\u001b[0m\n\u001b[0m\u001b[0;32m    120\u001b[0m       \u001b[0mvariable_dtype\u001b[0m \u001b[1;33m=\u001b[0m \u001b[0mdtype\u001b[0m\u001b[1;33m.\u001b[0m\u001b[0mbase_dtype\u001b[0m\u001b[1;33m\u001b[0m\u001b[1;33m\u001b[0m\u001b[0m\n\u001b[0;32m    121\u001b[0m   \u001b[1;32mif\u001b[0m \u001b[0muse_resource\u001b[0m \u001b[1;32mis\u001b[0m \u001b[1;32mNone\u001b[0m\u001b[1;33m:\u001b[0m\u001b[1;33m\u001b[0m\u001b[1;33m\u001b[0m\u001b[0m\n",
      "\u001b[1;32m~\\Anaconda3\\lib\\site-packages\\tensorflow_core\\python\\ops\\init_ops_v2.py\u001b[0m in \u001b[0;36m__call__\u001b[1;34m(self, shape, dtype)\u001b[0m\n\u001b[0;32m    504\u001b[0m     \u001b[0ma\u001b[0m \u001b[1;33m=\u001b[0m \u001b[0mself\u001b[0m\u001b[1;33m.\u001b[0m\u001b[0m_random_generator\u001b[0m\u001b[1;33m.\u001b[0m\u001b[0mrandom_normal\u001b[0m\u001b[1;33m(\u001b[0m\u001b[0mflat_shape\u001b[0m\u001b[1;33m,\u001b[0m \u001b[0mdtype\u001b[0m\u001b[1;33m=\u001b[0m\u001b[0mdtype\u001b[0m\u001b[1;33m)\u001b[0m\u001b[1;33m\u001b[0m\u001b[1;33m\u001b[0m\u001b[0m\n\u001b[0;32m    505\u001b[0m     \u001b[1;31m# Compute the qr factorization\u001b[0m\u001b[1;33m\u001b[0m\u001b[1;33m\u001b[0m\u001b[1;33m\u001b[0m\u001b[0m\n\u001b[1;32m--> 506\u001b[1;33m     \u001b[0mq\u001b[0m\u001b[1;33m,\u001b[0m \u001b[0mr\u001b[0m \u001b[1;33m=\u001b[0m \u001b[0mgen_linalg_ops\u001b[0m\u001b[1;33m.\u001b[0m\u001b[0mqr\u001b[0m\u001b[1;33m(\u001b[0m\u001b[0ma\u001b[0m\u001b[1;33m,\u001b[0m \u001b[0mfull_matrices\u001b[0m\u001b[1;33m=\u001b[0m\u001b[1;32mFalse\u001b[0m\u001b[1;33m)\u001b[0m\u001b[1;33m\u001b[0m\u001b[1;33m\u001b[0m\u001b[0m\n\u001b[0m\u001b[0;32m    507\u001b[0m     \u001b[1;31m# Make Q uniform\u001b[0m\u001b[1;33m\u001b[0m\u001b[1;33m\u001b[0m\u001b[1;33m\u001b[0m\u001b[0m\n\u001b[0;32m    508\u001b[0m     \u001b[0md\u001b[0m \u001b[1;33m=\u001b[0m \u001b[0marray_ops\u001b[0m\u001b[1;33m.\u001b[0m\u001b[0mdiag_part\u001b[0m\u001b[1;33m(\u001b[0m\u001b[0mr\u001b[0m\u001b[1;33m)\u001b[0m\u001b[1;33m\u001b[0m\u001b[1;33m\u001b[0m\u001b[0m\n",
      "\u001b[1;32m~\\Anaconda3\\lib\\site-packages\\tensorflow_core\\python\\ops\\gen_linalg_ops.py\u001b[0m in \u001b[0;36mqr\u001b[1;34m(input, full_matrices, name)\u001b[0m\n\u001b[0;32m   2120\u001b[0m       _result = _pywrap_tensorflow.TFE_Py_FastPathExecute(\n\u001b[0;32m   2121\u001b[0m         \u001b[0m_ctx\u001b[0m\u001b[1;33m.\u001b[0m\u001b[0m_context_handle\u001b[0m\u001b[1;33m,\u001b[0m \u001b[0m_ctx\u001b[0m\u001b[1;33m.\u001b[0m\u001b[0m_thread_local_data\u001b[0m\u001b[1;33m.\u001b[0m\u001b[0mdevice_name\u001b[0m\u001b[1;33m,\u001b[0m \u001b[1;34m\"Qr\"\u001b[0m\u001b[1;33m,\u001b[0m \u001b[0mname\u001b[0m\u001b[1;33m,\u001b[0m\u001b[1;33m\u001b[0m\u001b[1;33m\u001b[0m\u001b[0m\n\u001b[1;32m-> 2122\u001b[1;33m         _ctx._post_execution_callbacks, input, \"full_matrices\", full_matrices)\n\u001b[0m\u001b[0;32m   2123\u001b[0m       \u001b[0m_result\u001b[0m \u001b[1;33m=\u001b[0m \u001b[0m_QrOutput\u001b[0m\u001b[1;33m.\u001b[0m\u001b[0m_make\u001b[0m\u001b[1;33m(\u001b[0m\u001b[0m_result\u001b[0m\u001b[1;33m)\u001b[0m\u001b[1;33m\u001b[0m\u001b[1;33m\u001b[0m\u001b[0m\n\u001b[0;32m   2124\u001b[0m       \u001b[1;32mreturn\u001b[0m \u001b[0m_result\u001b[0m\u001b[1;33m\u001b[0m\u001b[1;33m\u001b[0m\u001b[0m\n",
      "\u001b[1;31mKeyboardInterrupt\u001b[0m: "
     ]
    }
   ],
   "source": [
    "\n",
    "\n",
    "\n",
    "# model_params = {'layer_size':LAYER_SIZE, 'latent_dim':LATENT_DIM, 'training':True}\n",
    "# model = create_actor(**model_params)\n",
    "\n",
    "model_params = {'layer_size':LAYER_SIZE, 'latent_dim':LATENT_DIM}\n",
    "if PROBABILISTIC:\n",
    "    actor = create_actor(**model_params, GCBC=GCBC, num_distribs=3)\n",
    "else:\n",
    "    actor = create_actor(**model_params, GCBC=GCBC)\n",
    "    \n",
    "if not GCBC:\n",
    "    encoder = create_encoder(**model_params)\n",
    "    planner = create_planner(**model_params)"
   ]
  },
  {
   "cell_type": "code",
   "execution_count": null,
   "metadata": {},
   "outputs": [],
   "source": [
    "v_it = iter(valid_dataset.repeat(-1))\n",
    "d = v_it.next()\n",
    "states, acts, goals, seq_lens, masks, dataset_path, tstep_idxs,_,_ = [d[k] for k in d.keys()]\n",
    "\n",
    "if GCBC:\n",
    "    pred_acts = actor((states, goals)) #\n",
    "else:\n",
    "    encoding = encoder(states,acts)\n",
    "    plan, _ = planner((states[:, 0, :], goals[:, 0, :]))\n",
    "    # true validation performance, w/ planner\n",
    "    z = tf.tile(tf.expand_dims(plan.sample(), 1), (1, WINDOW_SIZE, 1))\n",
    "    #actor.reset_states()\n",
    "    pred_acts = actor((states, z, goals)) # TODO Check can you backprop through samples"
   ]
  },
  {
   "cell_type": "code",
   "execution_count": 18,
   "metadata": {},
   "outputs": [],
   "source": [
    "path = 'GCBC_UR5_ABS_RPY_definitive' #'GCBC_abs_rpy_no_vel_deweighted_gripper'\n",
    "#path = 'GCBC_abs_rpy_no_vel_deweighted_gripper'\n",
    "\n",
    "if GCBC:\n",
    "    actor.load_weights(f'saved_models/{path}/model.h5')\n",
    "else:\n",
    "    encoder.load_weights(f'saved_models/{path}/encoder.h5')\n",
    "    planner.load_weights(f'saved_models/{path}/planner.h5')"
   ]
  },
  {
   "cell_type": "code",
   "execution_count": 19,
   "metadata": {},
   "outputs": [],
   "source": [
    "#@title Sample a batch for timeseries plotting\n",
    "# Lets plot pred actions vs true actions\n",
    "v_it = iter(valid_dataset.repeat(-1))\n",
    "d = v_it.next()\n",
    "states, acts, goals, seq_lens, masks, dataset_path, tstep_idxs,_,_ = [d[k] for k in d.keys()]"
   ]
  },
  {
   "cell_type": "code",
   "execution_count": 20,
   "metadata": {},
   "outputs": [],
   "source": [
    "#@title Sample a batch for timeseries plotting\n",
    "if GCBC:\n",
    "    pred_acts = actor((states,goals))\n",
    "else:\n",
    "    encoding = encoder(states,acts)\n",
    "    plan, _ = planner((states[:, 0, :], goals[:, 0, :])) # TODO this is really aggravating, if we have variable sequence lengths we need to pass\n",
    "                                                          # Through the indices of the final index, can't just use the last 1, unless we copy it out instead of tiling?\n",
    "    # check if encoder is overfitting on validation\n",
    "    z_enc = z = tf.tile(tf.expand_dims(encoding.sample(), 1), (1, WINDOW_SIZE, 1))\n",
    "    enc_act_distrib = model((states, z_enc, goals))\n",
    "\n",
    "    # true validation performance, w/ planner\n",
    "    z = tf.tile(tf.expand_dims(plan.sample(), 1), (1, WINDOW_SIZE, 1))\n",
    "    pred_acts = actor((states, z, goals)) # TODO Check can you backprop through samples"
   ]
  },
  {
   "cell_type": "code",
   "execution_count": 22,
   "metadata": {},
   "outputs": [
    {
     "data": {
      "image/png": "[encoded data removed]",
      "text/plain": [
       "<Figure size 576x108 with 1 Axes>"
      ]
     },
     "metadata": {
      "needs_background": "light"
     },
     "output_type": "display_data"
    },
    {
     "data": {
      "image/png": "[encoded data removed]",
      "text/plain": [
       "<Figure size 576x108 with 1 Axes>"
      ]
     },
     "metadata": {
      "needs_background": "light"
     },
     "output_type": "display_data"
    },
    {
     "data": {
      "image/png": "[encoded data removed]",
      "text/plain": [
       "<Figure size 576x108 with 1 Axes>"
      ]
     },
     "metadata": {
      "needs_background": "light"
     },
     "output_type": "display_data"
    },
    {
     "data": {
      "image/png": "[encoded data removed]",
      "text/plain": [
       "<Figure size 576x108 with 1 Axes>"
      ]
     },
     "metadata": {
      "needs_background": "light"
     },
     "output_type": "display_data"
    },
    {
     "data": {
      "image/png": "[encoded data removed]",
      "text/plain": [
       "<Figure size 576x108 with 1 Axes>"
      ]
     },
     "metadata": {
      "needs_background": "light"
     },
     "output_type": "display_data"
    },
    {
     "data": {
      "image/png": "[encoded data removed]",
      "text/plain": [
       "<Figure size 576x108 with 1 Axes>"
      ]
     },
     "metadata": {
      "needs_background": "light"
     },
     "output_type": "display_data"
    },
    {
     "data": {
      "image/png": "[encoded data removed]",
      "text/plain": [
       "<Figure size 576x108 with 1 Axes>"
      ]
     },
     "metadata": {
      "needs_background": "light"
     },
     "output_type": "display_data"
    }
   ],
   "source": [
    "#@title Plot timeseries of state/action tracking over time - xyz q1234 gripper\n",
    "idx = 6\n",
    "\n",
    "length = int(seq_lens[idx])\n",
    "actions_space = acts.shape[2]\n",
    "x = np.linspace(0, length, num=length) \n",
    "for i in range(0,actions_space):\n",
    "    fig, axes = plt.subplots(1, 1, figsize=(8,1.5), squeeze=False)\n",
    "    # One Model\n",
    "#     if i >= 3and i < 8:\n",
    "#         axes[0,0].set_ylim([-1,1])\n",
    "    true = axes[0,0].plot(x,acts[idx, :int(seq_lens[idx]),i],'r')\n",
    "    predicted = axes[0,0].plot(x,pred_acts[idx, :int(seq_lens[idx]),i], 'b')\n",
    "    if not GCBC:\n",
    "        enc_predicted = axes[0,0].plot(x,enc_act_distrib[idx, :int(seq_lens[idx]),i], 'g')\n",
    "    #true = axes[0,0].scatter(x,acts[idx, :int(seq_lens[idx]),i])\n",
    "    \n",
    "    fig.legend( ('true action', 'predicted action', 'encoder_action'))\n",
    "    \n",
    "    \n",
    "    plt.show()"
   ]
  },
  {
   "cell_type": "code",
   "execution_count": 19,
   "metadata": {},
   "outputs": [
    {
     "name": "stdout",
     "output_type": "stream",
     "text": [
      "closing\n"
     ]
    }
   ],
   "source": [
    "env.panda.close()"
   ]
  },
  {
   "cell_type": "code",
   "execution_count": null,
   "metadata": {},
   "outputs": [],
   "source": [
    "# string constructors\n",
    "\n"
   ]
  },
  {
   "cell_type": "code",
   "execution_count": 20,
   "metadata": {
    "scrolled": true
   },
   "outputs": [
    {
     "name": "stderr",
     "output_type": "stream",
     "text": [
      "C:\\Users\\sholt\\Anaconda3\\lib\\site-packages\\gym\\logger.py:30: UserWarning: \u001b[33mWARN: gym.spaces.Box autodetected dtype as <class 'numpy.float32'>. Please provide explicit dtype.\u001b[0m\n",
      "  warnings.warn(colorize('%s: %s'%('WARN', msg % args), 'yellow'))\n",
      "C:\\Users\\sholt\\Anaconda3\\lib\\site-packages\\gym\\logger.py:30: UserWarning: \u001b[33mWARN: gym.spaces.Box autodetected dtype as <class 'numpy.float32'>. Please provide explicit dtype.\u001b[0m\n",
      "  warnings.warn(colorize('%s: %s'%('WARN', msg % args), 'yellow'))\n",
      "C:\\Users\\sholt\\Anaconda3\\lib\\site-packages\\gym\\logger.py:30: UserWarning: \u001b[33mWARN: gym.spaces.Box autodetected dtype as <class 'numpy.float32'>. Please provide explicit dtype.\u001b[0m\n",
      "  warnings.warn(colorize('%s: %s'%('WARN', msg % args), 'yellow'))\n",
      "C:\\Users\\sholt\\Anaconda3\\lib\\site-packages\\gym\\logger.py:30: UserWarning: \u001b[33mWARN: gym.spaces.Box autodetected dtype as <class 'numpy.float32'>. Please provide explicit dtype.\u001b[0m\n",
      "  warnings.warn(colorize('%s: %s'%('WARN', msg % args), 'yellow'))\n",
      "C:\\Users\\sholt\\Anaconda3\\lib\\site-packages\\gym\\logger.py:30: UserWarning: \u001b[33mWARN: gym.spaces.Box autodetected dtype as <class 'numpy.float32'>. Please provide explicit dtype.\u001b[0m\n",
      "  warnings.warn(colorize('%s: %s'%('WARN', msg % args), 'yellow'))\n",
      "C:\\Users\\sholt\\Anaconda3\\lib\\site-packages\\gym\\logger.py:30: UserWarning: \u001b[33mWARN: gym.spaces.Box autodetected dtype as <class 'numpy.float32'>. Please provide explicit dtype.\u001b[0m\n",
      "  warnings.warn(colorize('%s: %s'%('WARN', msg % args), 'yellow'))\n"
     ]
    },
    {
     "name": "stdout",
     "output_type": "stream",
     "text": [
      "c:\\users\\sholt\\desktop\\pandarl\\pandaRL\\envs\n"
     ]
    },
    {
     "data": {
      "text/plain": [
       "{'observation': array([ 1.0251170e-01,  1.7728175e-01,  2.7087939e-01,  5.1626656e-04,\n",
       "         2.1595864e-03,  4.4520464e-04,  9.9999744e-01,  0.0000000e+00,\n",
       "        -1.4914517e-01,  7.4965529e-02, -3.5209079e-05,  7.7819309e-14,\n",
       "        -1.3944470e-14,  4.7254101e-14,  1.0000000e+00, -3.7923948e-17,\n",
       "         0.0000000e+00,  1.1222222e-02,  0.0000000e+00], dtype=float32),\n",
       " 'achieved_goal': array([-1.4914517e-01,  7.4965529e-02, -3.5209079e-05,  7.7819309e-14,\n",
       "        -1.3944470e-14,  4.7254101e-14,  1.0000000e+00, -3.7923948e-17,\n",
       "         0.0000000e+00,  1.1222222e-02,  0.0000000e+00], dtype=float32),\n",
       " 'desired_goal': array([0.14194064, 0.17636955, 0.06386875], dtype=float32),\n",
       " 'controllable_achieved_goal': array([0.1025117 , 0.17728175, 0.2708794 , 0.        ], dtype=float32),\n",
       " 'full_positional_state': array([ 1.0251170e-01,  1.7728175e-01,  2.7087939e-01,  5.1626656e-04,\n",
       "         2.1595864e-03,  4.4520464e-04,  9.9999744e-01,  0.0000000e+00,\n",
       "        -1.4914517e-01,  7.4965529e-02, -3.5209079e-05,  7.7819309e-14,\n",
       "        -1.3944470e-14,  4.7254101e-14,  1.0000000e+00, -3.7923948e-17,\n",
       "         0.0000000e+00,  1.1222222e-02,  0.0000000e+00], dtype=float32),\n",
       " 'joints': [-1.9423804912015024,\n",
       "  -1.5192050679776798,\n",
       "  -1.589286575482557,\n",
       "  -1.599208495604744,\n",
       "  1.5706627517693832,\n",
       "  1.1983231572861504,\n",
       "  0.0,\n",
       "  0.0],\n",
       " 'velocity': array([0., 0., 0., 0., 0., 0.]),\n",
       " 'img': None,\n",
       " 'obs_rpy': array([ 1.02511696e-01,  1.77281752e-01,  2.70879383e-01,  1.03446321e-03,\n",
       "         4.31871552e-03,  8.92645283e-04,  0.00000000e+00, -1.49145178e-01,\n",
       "         7.49655292e-02, -3.52090778e-05,  7.78193075e-14, -1.39444699e-14,\n",
       "         4.72541028e-14,  1.00000000e+00, -3.79239477e-17,  0.00000000e+00,\n",
       "         1.12222222e-02,  0.00000000e+00])}"
      ]
     },
     "execution_count": 20,
     "metadata": {},
     "output_type": "execute_result"
    }
   ],
   "source": [
    "import gym\n",
    "import time\n",
    "import seaborn as sns\n",
    "import pandaRL\n",
    "if arm == 'UR5':\n",
    "    if JOINTS and RELATIVE:\n",
    "        env = gym.make('UR5PlayRelJoints1Obj-v0')\n",
    "    elif JOINTS and not RELATIVE:\n",
    "        env = gym.make('UR5PlayAbsJoints1Obj-v0')\n",
    "        #env = gym.make('pandaPlayJoints-v0')\n",
    "    elif not JOINTS and RELATIVE and QUAT:\n",
    "        env = gym.make('UR5PlayRel1Obj-v0')\n",
    "    elif not JOINTS and RELATIVE and not QUAT:\n",
    "        env = gym.make('UR5PlayRelRPY1Obj-v0')\n",
    "    elif not JOINTS and not RELATIVE and not QUAT:\n",
    "        env = gym.make('UR5PlayAbsRPY1Obj-v0')\n",
    "    else:\n",
    "        env = gym.make('UR5Play1Obj-v0')\n",
    "else:\n",
    "    if JOINTS and RELATIVE:\n",
    "        env = gym.make('pandaPlayRelJoints1Obj-v0')\n",
    "    elif JOINTS and not RELATIVE:\n",
    "        env = gym.make('pandaPlayAbsJoints1Obj-v0')\n",
    "        #env = gym.make('pandaPlayJoints-v0')\n",
    "    elif not JOINTS and RELATIVE and QUAT:\n",
    "        env = gym.make('pandaPlayRel1Obj-v0')\n",
    "    elif not JOINTS and RELATIVE and not QUAT:\n",
    "        env = gym.make('pandaPlayRelRPY1Obj-v0')\n",
    "    elif not JOINTS and not RELATIVE and not QUAT:\n",
    "        env = gym.make('pandaPlayAbsRPY1Obj-v0')\n",
    "    else:\n",
    "        env = gym.make('pandaPlay1Obj-v0')\n",
    "        \n",
    "env.render('human')\n",
    "env.reset()"
   ]
  },
  {
   "cell_type": "code",
   "execution_count": 23,
   "metadata": {},
   "outputs": [],
   "source": [
    "model_params = {'layer_size':LAYER_SIZE, 'latent_dim':LATENT_DIM, 'training':False, 'return_state':True}\n",
    "if PROBABILISTIC:\n",
    "    actor = create_actor(**model_params, GCBC=GCBC, num_distribs=3)\n",
    "else:\n",
    "    actor = create_actor(**model_params, GCBC=GCBC)\n"
   ]
  },
  {
   "cell_type": "code",
   "execution_count": 25,
   "metadata": {},
   "outputs": [],
   "source": [
    "\n",
    "actor.load_weights(f'saved_models/{path}/model.h5')"
   ]
  },
  {
   "cell_type": "code",
   "execution_count": 47,
   "metadata": {},
   "outputs": [
    {
     "name": "stdout",
     "output_type": "stream",
     "text": [
      "closing\n"
     ]
    }
   ],
   "source": [
    "env.panda.close()"
   ]
  },
  {
   "cell_type": "code",
   "execution_count": 21,
   "metadata": {},
   "outputs": [],
   "source": [
    "import time\n",
    "GCBC = True\n",
    "def clip_action(a):\n",
    "    #a[0:7] = np.clip(a[0:7], -0.05, 0.05)\n",
    "    return a\n",
    "\n",
    "def get_closest_idx(point, idxs):\n",
    "    \n",
    "    \n",
    "    closest_idx = idxs[0]\n",
    "    best_diff = max(idxs)\n",
    "    for i in idxs:\n",
    "        diff = abs(point - i)\n",
    "        if diff < best_diff:\n",
    "            closest_idx = i\n",
    "            best_diff = diff\n",
    "    return closest_idx\n",
    "\n",
    "def get_closest_init_state(f, start_index):\n",
    "    \n",
    "    potential_start_points = glob.glob(PYBULLET_DATA_DIR+'/states_and_ims/'+str(f)+'/env_states/*.bullet')\n",
    "    potential_start_idxs = [int(x.replace('.bullet','').replace(f\"{PYBULLET_DATA_DIR}/states_and_ims/{str(f)}/env_states\\\\\", \"\")) for x in potential_start_points]\n",
    "    closest_start = get_closest_idx(int(start_index), potential_start_idxs)\n",
    "    return closest_start, f\"{PYBULLET_DATA_DIR}/states_and_ims/{str(f)}/env_states/{closest_start}.bullet\"\n",
    "\n",
    "\n",
    "def test_subsequences(data, idx, retries = 3, replay=False, replan_interval=20):\n",
    "    \n",
    "    \n",
    "    states, acts, goals, seq_lens, masks, pth, tsteps,_,_ = [data[k] for k in data.keys()]\n",
    "    \n",
    "    \n",
    "    start_idx = str(int(tsteps[idx,0]))\n",
    "    traj_end = len(np.where(masks[idx] == 1)[0])-1\n",
    "    f = int(pth[idx,0])\n",
    "    \n",
    "   \n",
    "    \n",
    "\n",
    "    print(int(pth[idx,0]), int(tsteps[idx,0]))\n",
    "    print(str(int(pth[idx,0]))+str(int(tsteps[idx,0])) )\n",
    "    #print(PYBULLET_DATA_DIR +'states_and_ims/'+str(int(pth[idx,0]))+'/env_states/'+str(int(tsteps[idx,0]))+'.bullet')\n",
    "    closest_start, start_path = get_closest_init_state(f, start_idx)\n",
    "    print(start_path)\n",
    "    env.p.restoreState(fileName=start_path)\n",
    "    data = np.load(PYBULLET_DATA_DIR+'obs_act_etc/'+str(f)+'/data.npz')\n",
    "    \n",
    "    # goals = data['achieved_goal'][start+len(traj)]\n",
    "    print(data['target_poses'].shape)\n",
    "    state = env.panda.calc_state()\n",
    "    if USE_QUAT_OBS:\n",
    "        obs = state['observation']\n",
    "    else:\n",
    "        obs = np.concatenate([state['observation'][0:3], env.p.getEulerFromQuaternion(state['observation'][3:7]) ,\n",
    "                             state['observation'][7:]])\n",
    "    if JOINTS:\n",
    "        o = tf.expand_dims(tf.expand_dims(np.concatenate([obs, state['joints'][:7]]),0),0)\n",
    "    else:\n",
    "        o = tf.expand_dims(tf.expand_dims(obs,0),0)\n",
    "        \n",
    "    if VELOCITY:\n",
    "        o = tf.concat([tf.cast(o, tf.float32),tf.expand_dims(tf.expand_dims(tf.cast(state['velocity'],tf.float32),0),0)], axis = -1)\n",
    "    \n",
    "    #goal = goals[idx, traj_end,:]\n",
    "    goal = data['achieved_goals'][closest_start + traj_end, :]\n",
    "    goal = tf.expand_dims(tf.expand_dims(goal, 0),0)\n",
    "    \n",
    "    print(state['achieved_goal'] - goal)\n",
    "    if replay:\n",
    "        retries = 1\n",
    "\n",
    "    #a_true =  acts[idx, :traj_end]\n",
    "    if JOINTS:\n",
    "        if RELATIVE:\n",
    "            \n",
    "            a_true = np.concatenate([data['target_poses'][closest_start:closest_start+traj_end,:6] - data['joint_poses'][closest_start:closest_start+traj_end,:6],\n",
    "                                      np.expand_dims(data['acts'][closest_start:closest_start+traj_end,7],1)], axis=1)\n",
    "        else:\n",
    "            \n",
    "            a_true = np.concatenate([data['target_poses'][closest_start:closest_start+traj_end,:],\n",
    "                                      np.expand_dims(data['acts'][closest_start:closest_start+traj_end,7],1)],axis = 1)\n",
    "    else:\n",
    "        if QUAT:\n",
    "            if RELATIVE:\n",
    "                a_true = np.concatenate([data['acts'][closest_start:closest_start+traj_end,:7] - data['obs'][closest_start:closest_start+traj_end,:7], \n",
    "                                         np.expand_dims(data['acts'][closest_start:closest_start+traj_end,7],1)], axis = 1)\n",
    "            else:\n",
    "                a_true = data['acts'] \n",
    "        else:\n",
    "            if RELATIVE:\n",
    "                a_true = data['acts_rpy_rel'][closest_start:closest_start+traj_end,:]\n",
    "            else:\n",
    "                a_true = data['acts_rpy'][closest_start:closest_start+traj_end,:]\n",
    "    a_pred = []\n",
    "    states = []\n",
    "    \n",
    "    for j in range(0,retries):\n",
    "        if not GCBC:\n",
    "            plan, _ = planner((o[0], goal[0]))\n",
    "            z = tf.expand_dims(plan.sample(),0)\n",
    "        #actor.reset_states()\n",
    "        if not replay:\n",
    "            replan_horizon = traj_end\n",
    "        else:\n",
    "            replan_horizon = traj_end\n",
    "            \n",
    "#         grippah = o[0][:,6]*25\n",
    "#         me = o[0][:,:6]\n",
    "        \n",
    "        #warm up\n",
    "#         for i in range(0,10):\n",
    "#             if GCBC:\n",
    "#                 a,_,state = actor((o, goal))\n",
    "#             else:\n",
    "#                 a = actor((o, z,goal)).numpy().squeeze()\n",
    "\n",
    "        for i in range(0, replan_horizon):\n",
    "            \n",
    "\n",
    "            \n",
    "            if GCBC:\n",
    "#                 a,_,state = actor((o, goal))\n",
    "#                 states.append(state)\n",
    "#                 a = clip_action(a.numpy().squeeze())\n",
    "#                 a_pred.append(a)\n",
    "                pass\n",
    "            else:\n",
    "                a = actor((o, z,goal)).numpy().squeeze()\n",
    "                a_pred.append(a)\n",
    "                \n",
    "            if replay or i < 0:\n",
    "                if not replay:\n",
    "                    #a = np.concatenate([(np.random.random(7)-0.5)*0.01, grippah ]) if not abs\n",
    "                    \n",
    "                    a = np.concatenate([me[0]+(np.random.random(6)-0.5)*0.01, grippah ])\n",
    "                else:\n",
    "                    a=a_true[i, :] # test whether a good init state would help by visualising the first 5 steps\n",
    "            \n",
    "           \n",
    "            o, r, d, _ = env.step(a)\n",
    "            \n",
    "            vel= tf.expand_dims(tf.expand_dims(tf.cast(o['velocity'],tf.float32),0),0)\n",
    "            if USE_QUAT_OBS:\n",
    "                obs = o['observation']\n",
    "            else:\n",
    "                obs = np.concatenate([o['observation'][0:3], env.p.getEulerFromQuaternion(o['observation'][3:7]) , o['observation'][7:]])\n",
    "\n",
    "            if JOINTS:\n",
    "                o = tf.expand_dims(tf.expand_dims(np.concatenate([obs,o['joints'][:7]]), 0),0)\n",
    "            else:\n",
    "                o = tf.expand_dims(tf.expand_dims(obs, 0),0)\n",
    "            \n",
    "            if VELOCITY:\n",
    "                o = tf.concat([tf.cast(o, tf.float32),vel], axis = -1)\n",
    "                \n",
    "            \n",
    "                \n",
    "    return np.array(a_true), np.array(a_pred), states"
   ]
  },
  {
   "cell_type": "code",
   "execution_count": 10,
   "metadata": {},
   "outputs": [],
   "source": [
    "# Lets plot pred actions vs true actions\n",
    "v_it = iter(train_dataset.repeat(-1))"
   ]
  },
  {
   "cell_type": "code",
   "execution_count": 11,
   "metadata": {},
   "outputs": [],
   "source": [
    "# for i in range(0,BATCH_SIZE_PER_REPLICA):\n",
    "data = v_it.next()\n",
    "idx = np.random.choice(BATCH_SIZE_PER_REPLICA)\n",
    "\n",
    "#"
   ]
  },
  {
   "cell_type": "code",
   "execution_count": 63,
   "metadata": {},
   "outputs": [
    {
     "name": "stdout",
     "output_type": "stream",
     "text": [
      "0 809\n",
      "0809\n",
      "data_collection/collected_data/UR5_25Hz_one_obj//states_and_ims/0/env_states/810.bullet\n",
      "(4808, 6)\n",
      "tf.Tensor(\n",
      "[[[-0.14415604  0.06898163  0.0823577  -1.0055125  -1.0516748\n",
      "    0.93405926  0.9922018   0.          0.          0.\n",
      "    0.        ]]], shape=(1, 1, 11), dtype=float32)\n"
     ]
    }
   ],
   "source": [
    "true, pred, states = test_subsequences(data, idx, retries = 1, replay=True)"
   ]
  },
  {
   "cell_type": "code",
   "execution_count": 142,
   "metadata": {},
   "outputs": [
    {
     "name": "stdout",
     "output_type": "stream",
     "text": [
      "24 1407\n",
      "241407\n",
      "data_collection/collected_data/UR5_30Hz_one_obj//states_and_ims/24/env_states/1410.bullet\n",
      "tf.Tensor(\n",
      "[[[ 1.4507771e-04  1.9813737e-01  1.7962401e-03  1.6249245e-01\n",
      "    8.4618270e-01  1.9900233e-01 -1.0938777e+00  0.0000000e+00\n",
      "    0.0000000e+00  0.0000000e+00  0.0000000e+00]]], shape=(1, 1, 11), dtype=float32)\n"
     ]
    }
   ],
   "source": [
    "true, pred, states = test_subsequences(data, idx, retries = 2, replay=False)"
   ]
  },
  {
   "cell_type": "code",
   "execution_count": 22,
   "metadata": {},
   "outputs": [
    {
     "name": "stdout",
     "output_type": "stream",
     "text": [
      "0 4413\n",
      "04413\n",
      "data_collection/collected_data/UR5_25Hz_one_obj//states_and_ims/0/env_states/4410.bullet\n",
      "(4808, 6)\n",
      "tf.Tensor(\n",
      "[[[-1.4901161e-08  5.9604645e-08 -1.1920929e-07 -7.5019682e-07\n",
      "    5.9646311e-07  0.0000000e+00  0.0000000e+00  0.0000000e+00\n",
      "   -1.8557037e-01  0.0000000e+00  0.0000000e+00]]], shape=(1, 1, 11), dtype=float32)\n",
      "0 3578\n",
      "03578\n",
      "data_collection/collected_data/UR5_25Hz_one_obj//states_and_ims/0/env_states/3570.bullet\n",
      "(4808, 6)\n",
      "tf.Tensor(\n",
      "[[[-0.01501748  0.00310552 -0.0123795  -0.10081546 -1.4148924\n",
      "    1.4061704   0.10275339  0.          0.16807202  0.\n",
      "    0.        ]]], shape=(1, 1, 11), dtype=float32)\n",
      "0 2729\n",
      "02729\n",
      "data_collection/collected_data/UR5_25Hz_one_obj//states_and_ims/0/env_states/2730.bullet\n",
      "(4808, 6)\n",
      "tf.Tensor(\n",
      "[[[ 0.0000000e+00  0.0000000e+00 -1.0913936e-11  0.0000000e+00\n",
      "    0.0000000e+00  0.0000000e+00  0.0000000e+00  0.0000000e+00\n",
      "   -2.2031674e-01  4.5521352e-02  0.0000000e+00]]], shape=(1, 1, 11), dtype=float32)\n",
      "0 1014\n",
      "01014\n",
      "data_collection/collected_data/UR5_25Hz_one_obj//states_and_ims/0/env_states/1020.bullet\n",
      "(4808, 6)\n",
      "tf.Tensor(\n",
      "[[[-2.3076501e-01 -8.4048510e-03  1.2767487e-06 -9.5660067e-01\n",
      "   -1.0415804e+00  1.0415760e+00  9.5660549e-01  0.0000000e+00\n",
      "    9.8032899e-02  0.0000000e+00  0.0000000e+00]]], shape=(1, 1, 11), dtype=float32)\n",
      "0 4077\n",
      "04077\n",
      "data_collection/collected_data/UR5_25Hz_one_obj//states_and_ims/0/env_states/4080.bullet\n",
      "(4808, 6)\n",
      "tf.Tensor(\n",
      "[[[-1.18186906e-01 -1.94698244e-01 -7.50158206e-02 -7.78738851e-10\n",
      "   -1.05367945e-08  1.38264835e-01 -1.84705496e-01 -1.83768570e-05\n",
      "    0.00000000e+00  0.00000000e+00  0.00000000e+00]]], shape=(1, 1, 11), dtype=float32)\n",
      "0 4637\n",
      "04637\n",
      "data_collection/collected_data/UR5_25Hz_one_obj//states_and_ims/0/env_states/4650.bullet\n",
      "(4808, 6)\n",
      "tf.Tensor(\n",
      "[[[ 0.05879894  0.08071412 -0.0251097  -0.01231289  0.2052916\n",
      "   -0.55964863  0.62789255  0.          0.          0.\n",
      "    0.        ]]], shape=(1, 1, 11), dtype=float32)\n",
      "0 3627\n",
      "03627\n",
      "data_collection/collected_data/UR5_25Hz_one_obj//states_and_ims/0/env_states/3630.bullet\n",
      "(4808, 6)\n",
      "tf.Tensor(\n",
      "[[[-0.09849605 -0.19468462  0.06123155  0.22611108  0.78372556\n",
      "   -0.92296207 -1.3331901   0.          0.0063917   0.\n",
      "    0.        ]]], shape=(1, 1, 11), dtype=float32)\n",
      "0 24\n",
      "024\n",
      "data_collection/collected_data/UR5_25Hz_one_obj//states_and_ims/0/env_states/30.bullet\n",
      "(4808, 6)\n",
      "tf.Tensor(\n",
      "[[[-0.01028346  0.00071982 -0.00042757 -0.05000207 -0.01631388\n",
      "    0.03768938  0.00299215  0.          0.1521836   0.\n",
      "    0.        ]]], shape=(1, 1, 11), dtype=float32)\n",
      "0 2530\n",
      "02530\n",
      "data_collection/collected_data/UR5_25Hz_one_obj//states_and_ims/0/env_states/2520.bullet\n",
      "(4808, 6)\n",
      "tf.Tensor(\n",
      "[[[-0.17948678 -0.02482719 -0.00290899  0.40458584  0.60633516\n",
      "    0.37386262 -0.06329319  0.          0.          0.04661133\n",
      "    0.        ]]], shape=(1, 1, 11), dtype=float32)\n",
      "1 421\n",
      "1421\n",
      "data_collection/collected_data/UR5_25Hz_one_obj//states_and_ims/1/env_states/420.bullet\n",
      "(11386, 6)\n",
      "tf.Tensor(\n",
      "[[[ 0.00330118 -0.00231479  0.00199986 -0.03723967 -0.04315943\n",
      "    0.0108284   0.03155386  0.         -0.24257961  0.\n",
      "    0.        ]]], shape=(1, 1, 11), dtype=float32)\n",
      "0 584\n",
      "0584\n",
      "data_collection/collected_data/UR5_25Hz_one_obj//states_and_ims/0/env_states/570.bullet\n",
      "(4808, 6)\n",
      "tf.Tensor(\n",
      "[[[ 0.          0.          0.          0.          0.\n",
      "    0.          0.          0.          0.         -0.04934549\n",
      "    0.        ]]], shape=(1, 1, 11), dtype=float32)\n",
      "0 3389\n",
      "03389\n",
      "data_collection/collected_data/UR5_25Hz_one_obj//states_and_ims/0/env_states/3390.bullet\n",
      "(4808, 6)\n",
      "tf.Tensor(\n",
      "[[[ 0.0096349  -0.11649257  0.02269571 -0.014006   -0.00488593\n",
      "   -0.48916537  0.59029627  0.         -0.17592777  0.\n",
      "    0.        ]]], shape=(1, 1, 11), dtype=float32)\n",
      "0 3583\n",
      "03583\n",
      "data_collection/collected_data/UR5_25Hz_one_obj//states_and_ims/0/env_states/3570.bullet\n",
      "(4808, 6)\n",
      "tf.Tensor(\n",
      "[[[-0.14766254 -0.00584094 -0.08707817 -0.26777297 -1.4474014\n",
      "    1.1822127   0.469659    0.          0.16807202  0.\n",
      "    0.        ]]], shape=(1, 1, 11), dtype=float32)\n",
      "0 3948\n",
      "03948\n",
      "data_collection/collected_data/UR5_25Hz_one_obj//states_and_ims/0/env_states/3960.bullet\n",
      "(4808, 6)\n",
      "tf.Tensor(\n",
      "[[[-1.40964985e-05  1.30189583e-03 -1.07467175e-04 -1.97250702e-04\n",
      "    2.55525752e-04 -1.20997429e-05  2.75969505e-05  3.85195017e-06\n",
      "    0.00000000e+00  0.00000000e+00  4.39010590e-01]]], shape=(1, 1, 11), dtype=float32)\n",
      "0 2130\n",
      "02130\n",
      "data_collection/collected_data/UR5_25Hz_one_obj//states_and_ims/0/env_states/2130.bullet\n",
      "(4808, 6)\n",
      "tf.Tensor(\n",
      "[[[ 0.          0.          0.         -0.9647785  -1.0340225\n",
      "    1.0340225   0.9647785   0.          0.          0.\n",
      "    0.45769912]]], shape=(1, 1, 11), dtype=float32)\n",
      "1 493\n",
      "1493\n",
      "data_collection/collected_data/UR5_25Hz_one_obj//states_and_ims/1/env_states/480.bullet\n",
      "(11386, 6)\n",
      "tf.Tensor(\n",
      "[[[ 3.0800700e-05 -4.0978193e-05 -8.8519650e-05 -1.6033649e-05\n",
      "    4.1723251e-05  9.7104907e-04  1.5184283e-05 -7.5016856e-02\n",
      "    0.0000000e+00  0.0000000e+00  0.0000000e+00]]], shape=(1, 1, 11), dtype=float32)\n",
      "0 1356\n",
      "01356\n",
      "data_collection/collected_data/UR5_25Hz_one_obj//states_and_ims/0/env_states/1350.bullet\n",
      "(4808, 6)\n",
      "tf.Tensor(\n",
      "[[[-0.19592237 -0.35063022  0.01048271 -0.9726609  -0.9419545\n",
      "    1.0091175   1.0571895   0.          0.          0.\n",
      "    0.        ]]], shape=(1, 1, 11), dtype=float32)\n",
      "0 3644\n",
      "03644\n",
      "data_collection/collected_data/UR5_25Hz_one_obj//states_and_ims/0/env_states/3630.bullet\n",
      "(4808, 6)\n",
      "tf.Tensor(\n",
      "[[[ 0.02989301  0.00562103  0.08855288 -0.22990125 -0.7476385\n",
      "   -0.21571404 -0.30667725  0.          0.0063917   0.\n",
      "    0.        ]]], shape=(1, 1, 11), dtype=float32)\n",
      "0 1139\n",
      "01139\n",
      "data_collection/collected_data/UR5_25Hz_one_obj//states_and_ims/0/env_states/1140.bullet\n",
      "(4808, 6)\n",
      "tf.Tensor(\n",
      "[[[ 0.05703831 -0.03895792  0.02358042 -0.46988678 -1.2496903\n",
      "    1.2598767   0.49865064  0.          0.          0.\n",
      "    0.        ]]], shape=(1, 1, 11), dtype=float32)\n",
      "1 657\n",
      "1657\n",
      "data_collection/collected_data/UR5_25Hz_one_obj//states_and_ims/1/env_states/660.bullet\n",
      "(11386, 6)\n",
      "tf.Tensor(\n",
      "[[[ 0.00930177 -0.01618364  0.03605187  0.02848244 -0.03736627\n",
      "    0.07145263 -0.06933733  0.          0.19249657  0.\n",
      "    0.        ]]], shape=(1, 1, 11), dtype=float32)\n",
      "1 463\n",
      "1463\n",
      "data_collection/collected_data/UR5_25Hz_one_obj//states_and_ims/1/env_states/450.bullet\n",
      "(11386, 6)\n",
      "tf.Tensor(\n",
      "[[[-0.12529963  0.06869422 -0.00255523  1.254523   -1.5324085\n",
      "    0.04609748 -0.02833955  0.          0.          0.\n",
      "    0.        ]]], shape=(1, 1, 11), dtype=float32)\n",
      "0 2806\n",
      "02806\n",
      "data_collection/collected_data/UR5_25Hz_one_obj//states_and_ims/0/env_states/2820.bullet\n",
      "(4808, 6)\n",
      "tf.Tensor(\n",
      "[[[-3.0238047e-02  1.0439116e-01  6.3664629e-12  6.9483519e-02\n",
      "   -8.4302396e-02  8.4302396e-02 -6.9483519e-02  0.0000000e+00\n",
      "    1.7380267e-02  0.0000000e+00  0.0000000e+00]]], shape=(1, 1, 11), dtype=float32)\n",
      "0 550\n",
      "0550\n",
      "data_collection/collected_data/UR5_25Hz_one_obj//states_and_ims/0/env_states/540.bullet\n",
      "(4808, 6)\n",
      "tf.Tensor(\n",
      "[[[0.0000000e+00 0.0000000e+00 0.0000000e+00 0.0000000e+00 0.0000000e+00\n",
      "   0.0000000e+00 0.0000000e+00 0.0000000e+00 0.0000000e+00 5.2154064e-08\n",
      "   0.0000000e+00]]], shape=(1, 1, 11), dtype=float32)\n",
      "1 222\n",
      "1222\n",
      "data_collection/collected_data/UR5_25Hz_one_obj//states_and_ims/1/env_states/210.bullet\n",
      "(11386, 6)\n",
      "tf.Tensor(\n",
      "[[[-9.1805786e-02 -1.9613379e-01  2.4399651e-07 -1.4278703e+00\n",
      "    7.6788664e-01  7.9382859e-02 -7.0263362e-01  0.0000000e+00\n",
      "    0.0000000e+00  0.0000000e+00  0.0000000e+00]]], shape=(1, 1, 11), dtype=float32)\n",
      "0 9\n",
      "09\n",
      "data_collection/collected_data/UR5_25Hz_one_obj//states_and_ims/0/env_states/0.bullet\n",
      "(4808, 6)\n",
      "tf.Tensor(\n",
      "[[[-1.3411045e-07  1.4901161e-07 -5.3751501e-07 -2.5071015e-06\n",
      "   -2.7723120e-06  0.0000000e+00  0.0000000e+00  0.0000000e+00\n",
      "    1.5218361e-01 -9.8999999e-03  0.0000000e+00]]], shape=(1, 1, 11), dtype=float32)\n",
      "0 3722\n",
      "03722\n",
      "data_collection/collected_data/UR5_25Hz_one_obj//states_and_ims/0/env_states/3720.bullet\n",
      "(4808, 6)\n",
      "tf.Tensor(\n",
      "[[[ 0.04669222 -0.03401192 -0.04837544  0.04741197  0.01837381\n",
      "   -0.07097542  0.062406    0.         -0.12589015  0.\n",
      "    0.        ]]], shape=(1, 1, 11), dtype=float32)\n",
      "0 256\n",
      "0256\n",
      "data_collection/collected_data/UR5_25Hz_one_obj//states_and_ims/0/env_states/270.bullet\n",
      "(4808, 6)\n",
      "tf.Tensor(\n",
      "[[[-0.06419194 -0.23618557  0.01836526  1.0673347  -1.0551429\n",
      "   -1.0208913   0.8163934   0.          0.05092761  0.\n",
      "    0.        ]]], shape=(1, 1, 11), dtype=float32)\n"
     ]
    },
    {
     "name": "stdout",
     "output_type": "stream",
     "text": [
      "0 1312\n",
      "01312\n",
      "data_collection/collected_data/UR5_25Hz_one_obj//states_and_ims/0/env_states/1320.bullet\n",
      "(4808, 6)\n",
      "tf.Tensor(\n",
      "[[[-0.18885806 -0.34029272 -0.03032911 -0.66197157 -1.1228685\n",
      "    0.78203654  1.190106    0.          0.00253935  0.\n",
      "    0.        ]]], shape=(1, 1, 11), dtype=float32)\n",
      "0 3808\n",
      "03808\n",
      "data_collection/collected_data/UR5_25Hz_one_obj//states_and_ims/0/env_states/3810.bullet\n",
      "(4808, 6)\n",
      "tf.Tensor(\n",
      "[[[ 0.0000000e+00  0.0000000e+00  0.0000000e+00 -3.2767470e-18\n",
      "   -2.3651701e-17  0.0000000e+00  0.0000000e+00  1.0874803e-01\n",
      "    0.0000000e+00 -1.6767789e-02  0.0000000e+00]]], shape=(1, 1, 11), dtype=float32)\n",
      "0 1708\n",
      "01708\n",
      "data_collection/collected_data/UR5_25Hz_one_obj//states_and_ims/0/env_states/1710.bullet\n",
      "(4808, 6)\n",
      "tf.Tensor(\n",
      "[[[-0.01814546 -0.11465493  0.04366681 -0.9281498  -1.1040392\n",
      "    0.9467755   1.0034994   0.          0.          0.\n",
      "    0.        ]]], shape=(1, 1, 11), dtype=float32)\n",
      "0 110\n",
      "0110\n",
      "data_collection/collected_data/UR5_25Hz_one_obj//states_and_ims/0/env_states/120.bullet\n",
      "(4808, 6)\n",
      "tf.Tensor(\n",
      "[[[ 0.16553515  0.176054    0.          0.1839577   0.3401239\n",
      "    0.3401239   0.1839577   0.         -0.16554932  0.\n",
      "    0.        ]]], shape=(1, 1, 11), dtype=float32)\n",
      "0 2330\n",
      "02330\n",
      "data_collection/collected_data/UR5_25Hz_one_obj//states_and_ims/0/env_states/2340.bullet\n",
      "(4808, 6)\n",
      "tf.Tensor(\n",
      "[[[-3.0809641e-04  1.2000278e-04 -2.9802322e-08 -1.0341457e+00\n",
      "   -9.6474349e-01  9.6460551e-01  1.0340933e+00 -2.7291477e-05\n",
      "    2.5165659e-01  0.0000000e+00  0.0000000e+00]]], shape=(1, 1, 11), dtype=float32)\n",
      "1 824\n",
      "1824\n",
      "data_collection/collected_data/UR5_25Hz_one_obj//states_and_ims/1/env_states/810.bullet\n",
      "(11386, 6)\n",
      "tf.Tensor(\n",
      "[[[-5.5432320e-06 -9.5695257e-05  5.0206927e-07  1.7433986e-04\n",
      "   -7.8678131e-06  1.9406843e-07 -4.1046806e-06  0.0000000e+00\n",
      "    2.5083536e-01  0.0000000e+00  0.0000000e+00]]], shape=(1, 1, 11), dtype=float32)\n",
      "0 3321\n",
      "03321\n",
      "data_collection/collected_data/UR5_25Hz_one_obj//states_and_ims/0/env_states/3330.bullet\n",
      "(4808, 6)\n",
      "tf.Tensor(\n",
      "[[[-0.05961319  0.01710344 -0.00272008 -0.5959138  -0.32121542\n",
      "   -0.07255775 -0.2585637  -0.13199571  0.          0.\n",
      "    0.        ]]], shape=(1, 1, 11), dtype=float32)\n",
      "0 817\n",
      "0817\n",
      "data_collection/collected_data/UR5_25Hz_one_obj//states_and_ims/0/env_states/810.bullet\n",
      "(4808, 6)\n",
      "tf.Tensor(\n",
      "[[[-0.14415604  0.06898163  0.0823577  -0.0637778   0.12613806\n",
      "   -0.00852248  0.07708851 -0.02551294  0.          0.\n",
      "    0.        ]]], shape=(1, 1, 11), dtype=float32)\n",
      "0 2040\n",
      "02040\n",
      "data_collection/collected_data/UR5_25Hz_one_obj//states_and_ims/0/env_states/2040.bullet\n",
      "(4808, 6)\n",
      "tf.Tensor(\n",
      "[[[-4.6332933e-02  4.9495399e-03 -8.8214802e-07 -2.3208052e-02\n",
      "    2.0711303e-02 -2.0723701e-02  2.3207039e-02  0.0000000e+00\n",
      "    0.0000000e+00  4.9492955e-02  0.0000000e+00]]], shape=(1, 1, 11), dtype=float32)\n",
      "0 2148\n",
      "02148\n",
      "data_collection/collected_data/UR5_25Hz_one_obj//states_and_ims/0/env_states/2160.bullet\n",
      "(4808, 6)\n",
      "tf.Tensor(\n",
      "[[[0.         0.         0.         0.         0.         0.\n",
      "   0.         0.00224063 0.         0.         0.45427495]]], shape=(1, 1, 11), dtype=float32)\n",
      "0 795\n",
      "0795\n",
      "data_collection/collected_data/UR5_25Hz_one_obj//states_and_ims/0/env_states/780.bullet\n",
      "(4808, 6)\n",
      "tf.Tensor(\n",
      "[[[-0.14949086  0.0356461   0.01724153  0.0620808  -0.15383103\n",
      "   -0.15214851  0.12190667  0.          0.          0.\n",
      "    0.        ]]], shape=(1, 1, 11), dtype=float32)\n",
      "0 4307\n",
      "04307\n",
      "data_collection/collected_data/UR5_25Hz_one_obj//states_and_ims/0/env_states/4320.bullet\n",
      "(4808, 6)\n",
      "tf.Tensor(\n",
      "[[[ 1.12077989e-01  2.91585892e-01  4.29890861e-08 -8.19539494e-08\n",
      "    1.00449974e-07 -1.44096494e+00 -1.38653576e+00  0.00000000e+00\n",
      "    0.00000000e+00  0.00000000e+00  0.00000000e+00]]], shape=(1, 1, 11), dtype=float32)\n",
      "0 4423\n",
      "04423\n",
      "data_collection/collected_data/UR5_25Hz_one_obj//states_and_ims/0/env_states/4410.bullet\n",
      "(4808, 6)\n",
      "tf.Tensor(\n",
      "[[[-1.4901161e-08  5.9604645e-08 -1.1920929e-07 -7.5019682e-07\n",
      "    5.9646311e-07  0.0000000e+00  0.0000000e+00  0.0000000e+00\n",
      "   -1.8557037e-01  0.0000000e+00  0.0000000e+00]]], shape=(1, 1, 11), dtype=float32)\n",
      "1 1154\n",
      "11154\n",
      "data_collection/collected_data/UR5_25Hz_one_obj//states_and_ims/1/env_states/1140.bullet\n",
      "(11386, 6)\n",
      "tf.Tensor(\n",
      "[[[-0.04876203  0.03035822 -0.01943365 -0.15729952  0.5361762\n",
      "   -0.24218184  0.45023897  0.          0.          0.\n",
      "    0.        ]]], shape=(1, 1, 11), dtype=float32)\n",
      "0 1077\n",
      "01077\n",
      "data_collection/collected_data/UR5_25Hz_one_obj//states_and_ims/0/env_states/1080.bullet\n",
      "(4808, 6)\n",
      "tf.Tensor(\n",
      "[[[ 0.05433978 -0.03859565 -0.07583617  0.26834774 -0.1287077\n",
      "    0.16874081 -0.23036811  0.         -0.18538037  0.\n",
      "    0.        ]]], shape=(1, 1, 11), dtype=float32)\n",
      "1 468\n",
      "1468\n",
      "data_collection/collected_data/UR5_25Hz_one_obj//states_and_ims/1/env_states/480.bullet\n",
      "(11386, 6)\n",
      "tf.Tensor(\n",
      "[[[ 0.04957981 -0.04914764 -0.09287362  0.35255504  0.38366264\n",
      "    0.07651222  0.00484268 -0.07501686  0.          0.\n",
      "    0.        ]]], shape=(1, 1, 11), dtype=float32)\n",
      "0 4695\n",
      "04695\n",
      "data_collection/collected_data/UR5_25Hz_one_obj//states_and_ims/0/env_states/4680.bullet\n",
      "(4808, 6)\n",
      "tf.Tensor(\n",
      "[[[ 0.05961042  0.08287405  0.04613553 -0.02267945  0.16747963\n",
      "   -0.38803428  0.58884376  0.          0.          0.\n",
      "    0.        ]]], shape=(1, 1, 11), dtype=float32)\n",
      "1 1475\n",
      "11475\n",
      "data_collection/collected_data/UR5_25Hz_one_obj//states_and_ims/1/env_states/1470.bullet\n",
      "(11386, 6)\n",
      "tf.Tensor(\n",
      "[[[ 0.          0.          0.          0.          0.\n",
      "    0.          0.          0.          0.          0.\n",
      "   -0.07709563]]], shape=(1, 1, 11), dtype=float32)\n",
      "1 520\n",
      "1520\n",
      "data_collection/collected_data/UR5_25Hz_one_obj//states_and_ims/1/env_states/510.bullet\n",
      "(11386, 6)\n",
      "tf.Tensor(\n",
      "[[[ 5.7503097e-02 -1.3657466e-02  2.5555820e-03 -1.5223210e+00\n",
      "    8.8618982e-01 -4.6098676e-02  2.8341118e-02  9.5947087e-04\n",
      "    0.0000000e+00  0.0000000e+00  0.0000000e+00]]], shape=(1, 1, 11), dtype=float32)\n",
      "0 403\n",
      "0403\n",
      "data_collection/collected_data/UR5_25Hz_one_obj//states_and_ims/0/env_states/390.bullet\n",
      "(4808, 6)\n",
      "tf.Tensor(\n",
      "[[[ 0.          0.          0.          0.9075973  -1.0845585\n",
      "   -1.0845585   0.9075973   0.09234583  0.          0.\n",
      "    0.        ]]], shape=(1, 1, 11), dtype=float32)\n",
      "0 2293\n",
      "02293\n",
      "data_collection/collected_data/UR5_25Hz_one_obj//states_and_ims/0/env_states/2280.bullet\n",
      "(4808, 6)\n",
      "tf.Tensor(\n",
      "[[[ 0.03237341  0.00090781  0.07521106 -0.07648149  0.07449248\n",
      "   -0.07046261  0.08079749 -0.11840524  0.          0.\n",
      "    0.        ]]], shape=(1, 1, 11), dtype=float32)\n",
      "1 1136\n",
      "11136\n",
      "data_collection/collected_data/UR5_25Hz_one_obj//states_and_ims/1/env_states/1140.bullet\n",
      "(11386, 6)\n",
      "tf.Tensor(\n",
      "[[[-0.0566876  -0.06316596  0.00556641  0.02282202 -0.00210121\n",
      "   -0.01260078 -0.0102604   0.          0.          0.\n",
      "    0.        ]]], shape=(1, 1, 11), dtype=float32)\n",
      "0 2244\n",
      "02244\n",
      "data_collection/collected_data/UR5_25Hz_one_obj//states_and_ims/0/env_states/2250.bullet\n",
      "(4808, 6)\n",
      "tf.Tensor(\n",
      "[[[ 0.03115764  0.4487452   0.0344457  -0.86115235 -1.08697\n",
      "    1.1235068   0.89956594  0.          0.          0.\n",
      "    0.        ]]], shape=(1, 1, 11), dtype=float32)\n",
      "0 4532\n",
      "04532\n",
      "data_collection/collected_data/UR5_25Hz_one_obj//states_and_ims/0/env_states/4530.bullet\n",
      "(4808, 6)\n",
      "tf.Tensor(\n",
      "[[[ 0.01459446  0.12003489  0.27964765  0.00044832 -0.01340313\n",
      "   -0.06782115  0.08991069  0.          0.          0.\n",
      "    0.        ]]], shape=(1, 1, 11), dtype=float32)\n",
      "0 791\n",
      "0791\n",
      "data_collection/collected_data/UR5_25Hz_one_obj//states_and_ims/0/env_states/780.bullet\n",
      "(4808, 6)\n",
      "tf.Tensor(\n",
      "[[[-0.14949086  0.03564611  0.01724152 -1.131371   -0.77170575\n",
      "    1.0776854   0.9473835   0.          0.          0.\n",
      "    0.        ]]], shape=(1, 1, 11), dtype=float32)\n",
      "1 886\n",
      "1886\n",
      "data_collection/collected_data/UR5_25Hz_one_obj//states_and_ims/1/env_states/900.bullet\n",
      "(11386, 6)\n",
      "tf.Tensor(\n",
      "[[[ 3.6677964e-02  1.7169526e-01 -1.3808467e-04 -2.0724219e-01\n",
      "    2.8162301e-02  2.4276435e-02 -2.0715125e-01  0.0000000e+00\n",
      "    0.0000000e+00  0.0000000e+00  0.0000000e+00]]], shape=(1, 1, 11), dtype=float32)\n",
      "1 1734\n",
      "11734\n",
      "data_collection/collected_data/UR5_25Hz_one_obj//states_and_ims/1/env_states/1740.bullet\n",
      "(11386, 6)\n",
      "tf.Tensor(\n",
      "[[[ 0.35002214 -0.00728719  0.005      -0.95948863  1.0379343\n",
      "   -1.0379343   0.95948863  0.         -0.17147613  0.\n",
      "    0.        ]]], shape=(1, 1, 11), dtype=float32)\n"
     ]
    },
    {
     "name": "stdout",
     "output_type": "stream",
     "text": [
      "0 964\n",
      "0964\n",
      "data_collection/collected_data/UR5_25Hz_one_obj//states_and_ims/0/env_states/960.bullet\n",
      "(4808, 6)\n",
      "tf.Tensor(\n",
      "[[[ 1.8462539e-05  2.5257468e-05 -1.2934927e-04 -9.5294279e-01\n",
      "   -1.0445437e+00  1.0454228e+00  9.5284808e-01  0.0000000e+00\n",
      "    0.0000000e+00  5.8598202e-03  0.0000000e+00]]], shape=(1, 1, 11), dtype=float32)\n",
      "0 4691\n",
      "04691\n",
      "data_collection/collected_data/UR5_25Hz_one_obj//states_and_ims/0/env_states/4680.bullet\n",
      "(4808, 6)\n",
      "tf.Tensor(\n",
      "[[[ 0.05961042  0.08287405  0.04613553 -0.02267945  0.16747963\n",
      "   -0.38803428  0.58884376 -0.13503182  0.          0.\n",
      "    0.        ]]], shape=(1, 1, 11), dtype=float32)\n",
      "1 1957\n",
      "11957\n",
      "data_collection/collected_data/UR5_25Hz_one_obj//states_and_ims/1/env_states/1950.bullet\n",
      "(11386, 6)\n",
      "tf.Tensor(\n",
      "[[[ 0.00423111  0.01711713 -0.03043452 -0.51380926  0.2047652\n",
      "   -0.26911885  0.08198243  0.          0.00378208  0.\n",
      "    0.        ]]], shape=(1, 1, 11), dtype=float32)\n",
      "0 3354\n",
      "03354\n",
      "data_collection/collected_data/UR5_25Hz_one_obj//states_and_ims/0/env_states/3360.bullet\n",
      "(4808, 6)\n",
      "tf.Tensor(\n",
      "[[[-0.02331461 -0.07695963 -0.10885798  0.03375683  0.04675375\n",
      "   -0.24393293  0.16123694 -0.13199571  0.          0.\n",
      "    0.        ]]], shape=(1, 1, 11), dtype=float32)\n",
      "1 1376\n",
      "11376\n",
      "data_collection/collected_data/UR5_25Hz_one_obj//states_and_ims/1/env_states/1380.bullet\n",
      "(11386, 6)\n",
      "tf.Tensor(\n",
      "[[[ 0.090664    0.03022456  0.02811666  0.24374667 -0.6149017\n",
      "   -0.04435074  0.06788042  0.          0.          0.\n",
      "    0.        ]]], shape=(1, 1, 11), dtype=float32)\n",
      "1 728\n",
      "1728\n",
      "data_collection/collected_data/UR5_25Hz_one_obj//states_and_ims/1/env_states/720.bullet\n",
      "(11386, 6)\n",
      "tf.Tensor(\n",
      "[[[-4.5927316e-02  1.9538671e-02  2.7000001e-01 -4.6336651e-03\n",
      "    4.7089458e-03 -1.3609142e-09  2.8283813e-09  0.0000000e+00\n",
      "    0.0000000e+00  0.0000000e+00  0.0000000e+00]]], shape=(1, 1, 11), dtype=float32)\n",
      "0 4196\n",
      "04196\n",
      "data_collection/collected_data/UR5_25Hz_one_obj//states_and_ims/0/env_states/4200.bullet\n",
      "(4808, 6)\n",
      "tf.Tensor(\n",
      "[[[ 3.3780932e-05  1.3980269e-04 -5.3799857e-04 -1.5190747e-03\n",
      "    2.4673087e-03 -4.2915344e-06 -1.6093254e-06  0.0000000e+00\n",
      "   -1.9835338e-01  0.0000000e+00  0.0000000e+00]]], shape=(1, 1, 11), dtype=float32)\n",
      "1 527\n",
      "1527\n",
      "data_collection/collected_data/UR5_25Hz_one_obj//states_and_ims/1/env_states/540.bullet\n",
      "(11386, 6)\n",
      "tf.Tensor(\n",
      "[[[ 0.04074217  0.03298841  0.09171654 -0.2454263  -0.6145058\n",
      "    0.09125289 -0.02598716  0.          0.          0.\n",
      "    0.        ]]], shape=(1, 1, 11), dtype=float32)\n",
      "1 1063\n",
      "11063\n",
      "data_collection/collected_data/UR5_25Hz_one_obj//states_and_ims/1/env_states/1050.bullet\n",
      "(11386, 6)\n",
      "tf.Tensor(\n",
      "[[[-0.06558131  0.03904651  0.02989043  0.03520685 -0.2341989\n",
      "    0.3411488  -0.23953119  0.          0.          0.\n",
      "    0.        ]]], shape=(1, 1, 11), dtype=float32)\n",
      "1 113\n",
      "1113\n",
      "data_collection/collected_data/UR5_25Hz_one_obj//states_and_ims/1/env_states/120.bullet\n",
      "(11386, 6)\n",
      "tf.Tensor(\n",
      "[[[-0.20422208  0.02734239 -0.00451185  0.05810153  0.06894049\n",
      "    0.05834177  0.06752247  0.          0.15654378  0.\n",
      "    0.        ]]], shape=(1, 1, 11), dtype=float32)\n",
      "1 44\n",
      "144\n",
      "data_collection/collected_data/UR5_25Hz_one_obj//states_and_ims/1/env_states/30.bullet\n",
      "(11386, 6)\n",
      "tf.Tensor(\n",
      "[[[ 2.2251281e-01  1.5770952e-01  2.9112925e-09 -5.2999228e-01\n",
      "    4.6808994e-01  4.6808991e-01  4.7000772e-01  0.0000000e+00\n",
      "    0.0000000e+00  0.0000000e+00  0.0000000e+00]]], shape=(1, 1, 11), dtype=float32)\n",
      "1 1884\n",
      "11884\n",
      "data_collection/collected_data/UR5_25Hz_one_obj//states_and_ims/1/env_states/1890.bullet\n",
      "(11386, 6)\n",
      "tf.Tensor(\n",
      "[[[ 2.7040817e-02  9.6806735e-03 -2.5000000e-02 -5.8771956e-01\n",
      "   -2.5821006e-01 -4.0731278e-01 -1.5865785e-01  0.0000000e+00\n",
      "    2.0231912e-01 -3.7737191e-04  0.0000000e+00]]], shape=(1, 1, 11), dtype=float32)\n",
      "0 1953\n",
      "01953\n",
      "data_collection/collected_data/UR5_25Hz_one_obj//states_and_ims/0/env_states/1950.bullet\n",
      "(4808, 6)\n",
      "tf.Tensor(\n",
      "[[[ 8.5425377e-03  9.7545981e-04  3.2755733e-04 -9.0163434e-01\n",
      "   -1.0896063e+00  1.0858830e+00  9.0587187e-01  0.0000000e+00\n",
      "    0.0000000e+00 -4.3163333e-02  0.0000000e+00]]], shape=(1, 1, 11), dtype=float32)\n",
      "1 160\n",
      "1160\n",
      "data_collection/collected_data/UR5_25Hz_one_obj//states_and_ims/1/env_states/150.bullet\n",
      "(11386, 6)\n",
      "tf.Tensor(\n",
      "[[[ 0.08234301 -0.16277893  0.00504587 -1.1731205   0.6076527\n",
      "    0.6069956  -1.1733925   0.          0.21176317  0.\n",
      "    0.        ]]], shape=(1, 1, 11), dtype=float32)\n",
      "0 3\n",
      "03\n",
      "data_collection/collected_data/UR5_25Hz_one_obj//states_and_ims/0/env_states/0.bullet\n",
      "(4808, 6)\n",
      "tf.Tensor(\n",
      "[[[-1.3411045e-07  1.4901161e-07 -5.3751501e-07 -2.5071015e-06\n",
      "   -2.7723120e-06  0.0000000e+00  0.0000000e+00  0.0000000e+00\n",
      "    1.5218361e-01 -9.8999999e-03  0.0000000e+00]]], shape=(1, 1, 11), dtype=float32)\n",
      "0 574\n",
      "0574\n",
      "data_collection/collected_data/UR5_25Hz_one_obj//states_and_ims/0/env_states/570.bullet\n",
      "(4808, 6)\n",
      "tf.Tensor(\n",
      "[[[ 0.14712237  0.30517024  0.20683536  0.9260579  -1.0509398\n",
      "   -1.1252602   0.87613595  0.          0.         -0.04934549\n",
      "    0.        ]]], shape=(1, 1, 11), dtype=float32)\n",
      "1 1974\n",
      "11974\n",
      "data_collection/collected_data/UR5_25Hz_one_obj//states_and_ims/1/env_states/1980.bullet\n",
      "(11386, 6)\n",
      "tf.Tensor(\n",
      "[[[ 0.0014407  -0.0186401   0.00080702 -0.1794139   0.04882276\n",
      "   -0.45189077  0.24428555  0.          0.          0.\n",
      "    0.        ]]], shape=(1, 1, 11), dtype=float32)\n",
      "1 2305\n",
      "12305\n",
      "data_collection/collected_data/UR5_25Hz_one_obj//states_and_ims/1/env_states/2310.bullet\n",
      "(11386, 6)\n",
      "tf.Tensor(\n",
      "[[[ 0.09128224 -0.02593146  0.20779043 -0.12744951  0.2222437\n",
      "    0.24928334  0.03579205 -0.13504755  0.          0.\n",
      "    0.        ]]], shape=(1, 1, 11), dtype=float32)\n",
      "0 3243\n",
      "03243\n",
      "data_collection/collected_data/UR5_25Hz_one_obj//states_and_ims/0/env_states/3240.bullet\n",
      "(4808, 6)\n",
      "tf.Tensor(\n",
      "[[[ 0.11198468  0.08407082 -0.08719981 -1.1569184  -0.78940445\n",
      "    0.8050715   1.1668946   0.          0.          0.\n",
      "    0.        ]]], shape=(1, 1, 11), dtype=float32)\n",
      "0 1567\n",
      "01567\n",
      "data_collection/collected_data/UR5_25Hz_one_obj//states_and_ims/0/env_states/1560.bullet\n",
      "(4808, 6)\n",
      "tf.Tensor(\n",
      "[[[ 0.00823832  0.12893695 -0.05826266 -1.0039319  -0.8907337\n",
      "    1.1702111   0.8840785   0.          0.19832003  0.\n",
      "    0.        ]]], shape=(1, 1, 11), dtype=float32)\n"
     ]
    },
    {
     "ename": "KeyboardInterrupt",
     "evalue": "",
     "output_type": "error",
     "traceback": [
      "\u001b[1;31m---------------------------------------------------------------------------\u001b[0m",
      "\u001b[1;31mKeyboardInterrupt\u001b[0m                         Traceback (most recent call last)",
      "\u001b[1;32m<ipython-input-22-232abc4faaeb>\u001b[0m in \u001b[0;36m<module>\u001b[1;34m\u001b[0m\n\u001b[0;32m      2\u001b[0m     \u001b[0mdata\u001b[0m \u001b[1;33m=\u001b[0m \u001b[0mv_it\u001b[0m\u001b[1;33m.\u001b[0m\u001b[0mnext\u001b[0m\u001b[1;33m(\u001b[0m\u001b[1;33m)\u001b[0m\u001b[1;33m\u001b[0m\u001b[1;33m\u001b[0m\u001b[0m\n\u001b[0;32m      3\u001b[0m     \u001b[0midx\u001b[0m \u001b[1;33m=\u001b[0m \u001b[0mnp\u001b[0m\u001b[1;33m.\u001b[0m\u001b[0mrandom\u001b[0m\u001b[1;33m.\u001b[0m\u001b[0mchoice\u001b[0m\u001b[1;33m(\u001b[0m\u001b[0mBATCH_SIZE_PER_REPLICA\u001b[0m\u001b[1;33m)\u001b[0m\u001b[1;33m\u001b[0m\u001b[1;33m\u001b[0m\u001b[0m\n\u001b[1;32m----> 4\u001b[1;33m     \u001b[0mtrue\u001b[0m\u001b[1;33m,\u001b[0m \u001b[0mpred\u001b[0m\u001b[1;33m,\u001b[0m \u001b[0mstates\u001b[0m \u001b[1;33m=\u001b[0m \u001b[0mtest_subsequences\u001b[0m\u001b[1;33m(\u001b[0m\u001b[0mdata\u001b[0m\u001b[1;33m,\u001b[0m \u001b[0midx\u001b[0m\u001b[1;33m,\u001b[0m \u001b[0mretries\u001b[0m \u001b[1;33m=\u001b[0m \u001b[1;36m1\u001b[0m\u001b[1;33m,\u001b[0m \u001b[0mreplay\u001b[0m\u001b[1;33m=\u001b[0m\u001b[1;32mTrue\u001b[0m\u001b[1;33m)\u001b[0m\u001b[1;33m\u001b[0m\u001b[1;33m\u001b[0m\u001b[0m\n\u001b[0m",
      "\u001b[1;32m<ipython-input-21-0eaf2927d461>\u001b[0m in \u001b[0;36mtest_subsequences\u001b[1;34m(data, idx, retries, replay, replan_interval)\u001b[0m\n\u001b[0;32m    138\u001b[0m \u001b[1;33m\u001b[0m\u001b[0m\n\u001b[0;32m    139\u001b[0m \u001b[1;33m\u001b[0m\u001b[0m\n\u001b[1;32m--> 140\u001b[1;33m             \u001b[0mo\u001b[0m\u001b[1;33m,\u001b[0m \u001b[0mr\u001b[0m\u001b[1;33m,\u001b[0m \u001b[0md\u001b[0m\u001b[1;33m,\u001b[0m \u001b[0m_\u001b[0m \u001b[1;33m=\u001b[0m \u001b[0menv\u001b[0m\u001b[1;33m.\u001b[0m\u001b[0mstep\u001b[0m\u001b[1;33m(\u001b[0m\u001b[0ma\u001b[0m\u001b[1;33m)\u001b[0m\u001b[1;33m\u001b[0m\u001b[1;33m\u001b[0m\u001b[0m\n\u001b[0m\u001b[0;32m    141\u001b[0m \u001b[1;33m\u001b[0m\u001b[0m\n\u001b[0;32m    142\u001b[0m             \u001b[0mvel\u001b[0m\u001b[1;33m=\u001b[0m \u001b[0mtf\u001b[0m\u001b[1;33m.\u001b[0m\u001b[0mexpand_dims\u001b[0m\u001b[1;33m(\u001b[0m\u001b[0mtf\u001b[0m\u001b[1;33m.\u001b[0m\u001b[0mexpand_dims\u001b[0m\u001b[1;33m(\u001b[0m\u001b[0mtf\u001b[0m\u001b[1;33m.\u001b[0m\u001b[0mcast\u001b[0m\u001b[1;33m(\u001b[0m\u001b[0mo\u001b[0m\u001b[1;33m[\u001b[0m\u001b[1;34m'velocity'\u001b[0m\u001b[1;33m]\u001b[0m\u001b[1;33m,\u001b[0m\u001b[0mtf\u001b[0m\u001b[1;33m.\u001b[0m\u001b[0mfloat32\u001b[0m\u001b[1;33m)\u001b[0m\u001b[1;33m,\u001b[0m\u001b[1;36m0\u001b[0m\u001b[1;33m)\u001b[0m\u001b[1;33m,\u001b[0m\u001b[1;36m0\u001b[0m\u001b[1;33m)\u001b[0m\u001b[1;33m\u001b[0m\u001b[1;33m\u001b[0m\u001b[0m\n",
      "\u001b[1;32mc:\\users\\sholt\\desktop\\pandarl\\pandaRL\\envs\\environments.py\u001b[0m in \u001b[0;36mstep\u001b[1;34m(self, action)\u001b[0m\n\u001b[0;32m   1126\u001b[0m             \u001b[0mtargetPoses\u001b[0m \u001b[1;33m=\u001b[0m \u001b[0mself\u001b[0m\u001b[1;33m.\u001b[0m\u001b[0mpanda\u001b[0m\u001b[1;33m.\u001b[0m\u001b[0mstep\u001b[0m\u001b[1;33m(\u001b[0m\u001b[0maction\u001b[0m\u001b[1;33m)\u001b[0m\u001b[1;33m\u001b[0m\u001b[1;33m\u001b[0m\u001b[0m\n\u001b[0;32m   1127\u001b[0m \u001b[1;33m\u001b[0m\u001b[0m\n\u001b[1;32m-> 1128\u001b[1;33m         \u001b[0mself\u001b[0m\u001b[1;33m.\u001b[0m\u001b[0mpanda\u001b[0m\u001b[1;33m.\u001b[0m\u001b[0mrunSimulation\u001b[0m\u001b[1;33m(\u001b[0m\u001b[1;33m)\u001b[0m\u001b[1;33m\u001b[0m\u001b[1;33m\u001b[0m\u001b[0m\n\u001b[0m\u001b[0;32m   1129\u001b[0m             \u001b[1;31m# this is out here because the multiprocessing version will step everyone simulataneously.\u001b[0m\u001b[1;33m\u001b[0m\u001b[1;33m\u001b[0m\u001b[1;33m\u001b[0m\u001b[0m\n\u001b[0;32m   1130\u001b[0m \u001b[1;33m\u001b[0m\u001b[0m\n",
      "\u001b[1;32mc:\\users\\sholt\\desktop\\pandarl\\pandaRL\\envs\\environments.py\u001b[0m in \u001b[0;36mrunSimulation\u001b[1;34m(self)\u001b[0m\n\u001b[0;32m    332\u001b[0m         \u001b[1;31m#for i in range(0, 18): # 20Hz control with 480 timestep\u001b[0m\u001b[1;33m\u001b[0m\u001b[1;33m\u001b[0m\u001b[1;33m\u001b[0m\u001b[0m\n\u001b[0;32m    333\u001b[0m         \u001b[1;32mfor\u001b[0m \u001b[0mi\u001b[0m \u001b[1;32min\u001b[0m \u001b[0mrange\u001b[0m\u001b[1;33m(\u001b[0m\u001b[1;36m0\u001b[0m\u001b[1;33m,\u001b[0m \u001b[1;36m12\u001b[0m\u001b[1;33m)\u001b[0m\u001b[1;33m:\u001b[0m  \u001b[1;31m# 25Hz control at 300\u001b[0m\u001b[1;33m\u001b[0m\u001b[1;33m\u001b[0m\u001b[0m\n\u001b[1;32m--> 334\u001b[1;33m             \u001b[0mself\u001b[0m\u001b[1;33m.\u001b[0m\u001b[0mbullet_client\u001b[0m\u001b[1;33m.\u001b[0m\u001b[0mstepSimulation\u001b[0m\u001b[1;33m(\u001b[0m\u001b[1;33m)\u001b[0m\u001b[1;33m\u001b[0m\u001b[1;33m\u001b[0m\u001b[0m\n\u001b[0m\u001b[0;32m    335\u001b[0m \u001b[1;33m\u001b[0m\u001b[0m\n\u001b[0;32m    336\u001b[0m \u001b[1;33m\u001b[0m\u001b[0m\n",
      "\u001b[1;31mKeyboardInterrupt\u001b[0m: "
     ]
    }
   ],
   "source": [
    "for i in range(0,100):\n",
    "    data = v_it.next()\n",
    "    idx = np.random.choice(BATCH_SIZE_PER_REPLICA)\n",
    "    true, pred, states = test_subsequences(data, idx, retries = 1, replay=True)"
   ]
  },
  {
   "cell_type": "code",
   "execution_count": 107,
   "metadata": {},
   "outputs": [
    {
     "data": {
      "image/png": "[encoded data removed]",
      "text/plain": [
       "<Figure size 432x72 with 1 Axes>"
      ]
     },
     "metadata": {
      "needs_background": "light"
     },
     "output_type": "display_data"
    },
    {
     "data": {
      "image/png": "[encoded data removed]",
      "text/plain": [
       "<Figure size 432x72 with 1 Axes>"
      ]
     },
     "metadata": {
      "needs_background": "light"
     },
     "output_type": "display_data"
    },
    {
     "data": {
      "image/png": "[encoded data removed]",
      "text/plain": [
       "<Figure size 432x72 with 1 Axes>"
      ]
     },
     "metadata": {
      "needs_background": "light"
     },
     "output_type": "display_data"
    },
    {
     "data": {
      "image/png": "[encoded data removed]",
      "text/plain": [
       "<Figure size 432x72 with 1 Axes>"
      ]
     },
     "metadata": {
      "needs_background": "light"
     },
     "output_type": "display_data"
    },
    {
     "data": {
      "image/png": "[encoded data removed]",
      "text/plain": [
       "<Figure size 432x72 with 1 Axes>"
      ]
     },
     "metadata": {
      "needs_background": "light"
     },
     "output_type": "display_data"
    },
    {
     "data": {
      "image/png": "[encoded data removed]",
      "text/plain": [
       "<Figure size 432x72 with 1 Axes>"
      ]
     },
     "metadata": {
      "needs_background": "light"
     },
     "output_type": "display_data"
    },
    {
     "data": {
      "image/png": "[encoded data removed]",
      "text/plain": [
       "<Figure size 432x72 with 1 Axes>"
      ]
     },
     "metadata": {
      "needs_background": "light"
     },
     "output_type": "display_data"
    }
   ],
   "source": [
    "length_true = len(true)\n",
    "length_pred = len(pred)\n",
    "actions_space = true.shape[-1]\n",
    "x_true = np.linspace(0, length_true, num=length_true) \n",
    "x_pred = np.linspace(0, length_pred, num=length_pred) \n",
    "if JOINTS:\n",
    "    labels = ['j1', 'j2', 'j3', 'j4', 'j5', 'j6', 'j7', 'gripper']\n",
    "else:\n",
    "    labels = ['x','y','z','q1','q2','q3','q4','gripper']\n",
    "for i in range(0,actions_space):\n",
    "    fig, axes = plt.subplots(1, 1, figsize=(6,1.0), squeeze=False)\n",
    "    # One Model\n",
    "    axes[0,0].plot(x_true,true[:,i],'green')\n",
    "    axes[0,0].plot(x_pred,pred[:,i], 'b')\n",
    "    fig.legend( ('true action', 'predicted action'))\n",
    "   \n",
    "    plt.title(labels[i])\n",
    "    plt.show()"
   ]
  },
  {
   "cell_type": "code",
   "execution_count": 105,
   "metadata": {},
   "outputs": [],
   "source": [
    "state_evolve = np.squeeze(np.array(states))"
   ]
  },
  {
   "cell_type": "code",
   "execution_count": 106,
   "metadata": {},
   "outputs": [
    {
     "ename": "ValueError",
     "evalue": "Must pass 2-d input",
     "output_type": "error",
     "traceback": [
      "\u001b[0;31m---------------------------------------------------------------------------\u001b[0m",
      "\u001b[0;31mValueError\u001b[0m                                Traceback (most recent call last)",
      "\u001b[0;32m<ipython-input-106-101c994788e7>\u001b[0m in \u001b[0;36m<module>\u001b[0;34m\u001b[0m\n\u001b[0;32m----> 1\u001b[0;31m \u001b[0msns\u001b[0m\u001b[0;34m.\u001b[0m\u001b[0mheatmap\u001b[0m\u001b[0;34m(\u001b[0m\u001b[0mstate_evolve\u001b[0m\u001b[0;34m.\u001b[0m\u001b[0mT\u001b[0m\u001b[0;34m)\u001b[0m\u001b[0;34m\u001b[0m\u001b[0;34m\u001b[0m\u001b[0m\n\u001b[0m",
      "\u001b[0;32m~/anaconda3/lib/python3.7/site-packages/seaborn/matrix.py\u001b[0m in \u001b[0;36mheatmap\u001b[0;34m(data, vmin, vmax, cmap, center, robust, annot, fmt, annot_kws, linewidths, linecolor, cbar, cbar_kws, cbar_ax, square, xticklabels, yticklabels, mask, ax, **kwargs)\u001b[0m\n\u001b[1;32m    515\u001b[0m     plotter = _HeatMapper(data, vmin, vmax, cmap, center, robust, annot, fmt,\n\u001b[1;32m    516\u001b[0m                           \u001b[0mannot_kws\u001b[0m\u001b[0;34m,\u001b[0m \u001b[0mcbar\u001b[0m\u001b[0;34m,\u001b[0m \u001b[0mcbar_kws\u001b[0m\u001b[0;34m,\u001b[0m \u001b[0mxticklabels\u001b[0m\u001b[0;34m,\u001b[0m\u001b[0;34m\u001b[0m\u001b[0;34m\u001b[0m\u001b[0m\n\u001b[0;32m--> 517\u001b[0;31m                           yticklabels, mask)\n\u001b[0m\u001b[1;32m    518\u001b[0m \u001b[0;34m\u001b[0m\u001b[0m\n\u001b[1;32m    519\u001b[0m     \u001b[0;31m# Add the pcolormesh kwargs here\u001b[0m\u001b[0;34m\u001b[0m\u001b[0;34m\u001b[0m\u001b[0;34m\u001b[0m\u001b[0m\n",
      "\u001b[0;32m~/anaconda3/lib/python3.7/site-packages/seaborn/matrix.py\u001b[0m in \u001b[0;36m__init__\u001b[0;34m(self, data, vmin, vmax, cmap, center, robust, annot, fmt, annot_kws, cbar, cbar_kws, xticklabels, yticklabels, mask)\u001b[0m\n\u001b[1;32m    108\u001b[0m         \u001b[0;32melse\u001b[0m\u001b[0;34m:\u001b[0m\u001b[0;34m\u001b[0m\u001b[0;34m\u001b[0m\u001b[0m\n\u001b[1;32m    109\u001b[0m             \u001b[0mplot_data\u001b[0m \u001b[0;34m=\u001b[0m \u001b[0mnp\u001b[0m\u001b[0;34m.\u001b[0m\u001b[0masarray\u001b[0m\u001b[0;34m(\u001b[0m\u001b[0mdata\u001b[0m\u001b[0;34m)\u001b[0m\u001b[0;34m\u001b[0m\u001b[0;34m\u001b[0m\u001b[0m\n\u001b[0;32m--> 110\u001b[0;31m             \u001b[0mdata\u001b[0m \u001b[0;34m=\u001b[0m \u001b[0mpd\u001b[0m\u001b[0;34m.\u001b[0m\u001b[0mDataFrame\u001b[0m\u001b[0;34m(\u001b[0m\u001b[0mplot_data\u001b[0m\u001b[0;34m)\u001b[0m\u001b[0;34m\u001b[0m\u001b[0;34m\u001b[0m\u001b[0m\n\u001b[0m\u001b[1;32m    111\u001b[0m \u001b[0;34m\u001b[0m\u001b[0m\n\u001b[1;32m    112\u001b[0m         \u001b[0;31m# Validate the mask and convet to DataFrame\u001b[0m\u001b[0;34m\u001b[0m\u001b[0;34m\u001b[0m\u001b[0;34m\u001b[0m\u001b[0m\n",
      "\u001b[0;32m~/anaconda3/lib/python3.7/site-packages/pandas/core/frame.py\u001b[0m in \u001b[0;36m__init__\u001b[0;34m(self, data, index, columns, dtype, copy)\u001b[0m\n\u001b[1;32m    422\u001b[0m             \u001b[0;32melse\u001b[0m\u001b[0;34m:\u001b[0m\u001b[0;34m\u001b[0m\u001b[0;34m\u001b[0m\u001b[0m\n\u001b[1;32m    423\u001b[0m                 mgr = init_ndarray(data, index, columns, dtype=dtype,\n\u001b[0;32m--> 424\u001b[0;31m                                    copy=copy)\n\u001b[0m\u001b[1;32m    425\u001b[0m \u001b[0;34m\u001b[0m\u001b[0m\n\u001b[1;32m    426\u001b[0m         \u001b[0;31m# For data is list-like, or Iterable (will consume into list)\u001b[0m\u001b[0;34m\u001b[0m\u001b[0;34m\u001b[0m\u001b[0;34m\u001b[0m\u001b[0m\n",
      "\u001b[0;32m~/anaconda3/lib/python3.7/site-packages/pandas/core/internals/construction.py\u001b[0m in \u001b[0;36minit_ndarray\u001b[0;34m(values, index, columns, dtype, copy)\u001b[0m\n\u001b[1;32m    144\u001b[0m     \u001b[0;31m# by definition an array here\u001b[0m\u001b[0;34m\u001b[0m\u001b[0;34m\u001b[0m\u001b[0;34m\u001b[0m\u001b[0m\n\u001b[1;32m    145\u001b[0m     \u001b[0;31m# the dtypes will be coerced to a single dtype\u001b[0m\u001b[0;34m\u001b[0m\u001b[0;34m\u001b[0m\u001b[0;34m\u001b[0m\u001b[0m\n\u001b[0;32m--> 146\u001b[0;31m     \u001b[0mvalues\u001b[0m \u001b[0;34m=\u001b[0m \u001b[0mprep_ndarray\u001b[0m\u001b[0;34m(\u001b[0m\u001b[0mvalues\u001b[0m\u001b[0;34m,\u001b[0m \u001b[0mcopy\u001b[0m\u001b[0;34m=\u001b[0m\u001b[0mcopy\u001b[0m\u001b[0;34m)\u001b[0m\u001b[0;34m\u001b[0m\u001b[0;34m\u001b[0m\u001b[0m\n\u001b[0m\u001b[1;32m    147\u001b[0m \u001b[0;34m\u001b[0m\u001b[0m\n\u001b[1;32m    148\u001b[0m     \u001b[0;32mif\u001b[0m \u001b[0mdtype\u001b[0m \u001b[0;32mis\u001b[0m \u001b[0;32mnot\u001b[0m \u001b[0;32mNone\u001b[0m\u001b[0;34m:\u001b[0m\u001b[0;34m\u001b[0m\u001b[0;34m\u001b[0m\u001b[0m\n",
      "\u001b[0;32m~/anaconda3/lib/python3.7/site-packages/pandas/core/internals/construction.py\u001b[0m in \u001b[0;36mprep_ndarray\u001b[0;34m(values, copy)\u001b[0m\n\u001b[1;32m    247\u001b[0m         \u001b[0mvalues\u001b[0m \u001b[0;34m=\u001b[0m \u001b[0mvalues\u001b[0m\u001b[0;34m.\u001b[0m\u001b[0mreshape\u001b[0m\u001b[0;34m(\u001b[0m\u001b[0;34m(\u001b[0m\u001b[0mvalues\u001b[0m\u001b[0;34m.\u001b[0m\u001b[0mshape\u001b[0m\u001b[0;34m[\u001b[0m\u001b[0;36m0\u001b[0m\u001b[0;34m]\u001b[0m\u001b[0;34m,\u001b[0m \u001b[0;36m1\u001b[0m\u001b[0;34m)\u001b[0m\u001b[0;34m)\u001b[0m\u001b[0;34m\u001b[0m\u001b[0;34m\u001b[0m\u001b[0m\n\u001b[1;32m    248\u001b[0m     \u001b[0;32melif\u001b[0m \u001b[0mvalues\u001b[0m\u001b[0;34m.\u001b[0m\u001b[0mndim\u001b[0m \u001b[0;34m!=\u001b[0m \u001b[0;36m2\u001b[0m\u001b[0;34m:\u001b[0m\u001b[0;34m\u001b[0m\u001b[0;34m\u001b[0m\u001b[0m\n\u001b[0;32m--> 249\u001b[0;31m         \u001b[0;32mraise\u001b[0m \u001b[0mValueError\u001b[0m\u001b[0;34m(\u001b[0m\u001b[0;34m'Must pass 2-d input'\u001b[0m\u001b[0;34m)\u001b[0m\u001b[0;34m\u001b[0m\u001b[0;34m\u001b[0m\u001b[0m\n\u001b[0m\u001b[1;32m    250\u001b[0m \u001b[0;34m\u001b[0m\u001b[0m\n\u001b[1;32m    251\u001b[0m     \u001b[0;32mreturn\u001b[0m \u001b[0mvalues\u001b[0m\u001b[0;34m\u001b[0m\u001b[0;34m\u001b[0m\u001b[0m\n",
      "\u001b[0;31mValueError\u001b[0m: Must pass 2-d input"
     ]
    }
   ],
   "source": [
    "sns.heatmap(state_evolve.T)"
   ]
  },
  {
   "cell_type": "code",
   "execution_count": 107,
   "metadata": {},
   "outputs": [
    {
     "data": {
      "text/plain": [
       "[<matplotlib.lines.Line2D at 0x7f6364797860>,\n",
       " <matplotlib.lines.Line2D at 0x7f6364797978>,\n",
       " <matplotlib.lines.Line2D at 0x7f6364797ac8>,\n",
       " <matplotlib.lines.Line2D at 0x7f6364797c18>,\n",
       " <matplotlib.lines.Line2D at 0x7f6364797d68>,\n",
       " <matplotlib.lines.Line2D at 0x7f6364797eb8>,\n",
       " <matplotlib.lines.Line2D at 0x7f63647a0048>,\n",
       " <matplotlib.lines.Line2D at 0x7f63647a0198>,\n",
       " <matplotlib.lines.Line2D at 0x7f63647a02e8>,\n",
       " <matplotlib.lines.Line2D at 0x7f63647a0438>,\n",
       " <matplotlib.lines.Line2D at 0x7f63647f8710>,\n",
       " <matplotlib.lines.Line2D at 0x7f63647a06a0>,\n",
       " <matplotlib.lines.Line2D at 0x7f63647a07f0>,\n",
       " <matplotlib.lines.Line2D at 0x7f63647a0940>,\n",
       " <matplotlib.lines.Line2D at 0x7f63647a0a90>,\n",
       " <matplotlib.lines.Line2D at 0x7f63647a0be0>,\n",
       " <matplotlib.lines.Line2D at 0x7f63647a0d30>,\n",
       " <matplotlib.lines.Line2D at 0x7f63647a0e80>,\n",
       " <matplotlib.lines.Line2D at 0x7f63647a0fd0>,\n",
       " <matplotlib.lines.Line2D at 0x7f63647a5160>,\n",
       " <matplotlib.lines.Line2D at 0x7f63647a52b0>,\n",
       " <matplotlib.lines.Line2D at 0x7f63647a5400>,\n",
       " <matplotlib.lines.Line2D at 0x7f63647a5550>,\n",
       " <matplotlib.lines.Line2D at 0x7f63647a56a0>,\n",
       " <matplotlib.lines.Line2D at 0x7f63647a57f0>,\n",
       " <matplotlib.lines.Line2D at 0x7f63647a5940>,\n",
       " <matplotlib.lines.Line2D at 0x7f63647a5a90>,\n",
       " <matplotlib.lines.Line2D at 0x7f63647a5be0>,\n",
       " <matplotlib.lines.Line2D at 0x7f63647a5d30>,\n",
       " <matplotlib.lines.Line2D at 0x7f63647a5e80>,\n",
       " <matplotlib.lines.Line2D at 0x7f63647a5fd0>,\n",
       " <matplotlib.lines.Line2D at 0x7f63647a9160>,\n",
       " <matplotlib.lines.Line2D at 0x7f63647a92b0>,\n",
       " <matplotlib.lines.Line2D at 0x7f63647a9400>,\n",
       " <matplotlib.lines.Line2D at 0x7f63647a9550>,\n",
       " <matplotlib.lines.Line2D at 0x7f63647a96a0>,\n",
       " <matplotlib.lines.Line2D at 0x7f63647a97f0>,\n",
       " <matplotlib.lines.Line2D at 0x7f63647a9940>,\n",
       " <matplotlib.lines.Line2D at 0x7f63647a9a90>,\n",
       " <matplotlib.lines.Line2D at 0x7f63647a9be0>]"
      ]
     },
     "execution_count": 107,
     "metadata": {},
     "output_type": "execute_result"
    },
    {
     "data": {
      "image/png": "[encoded data removed]",
      "text/plain": [
       "<Figure size 432x288 with 1 Axes>"
      ]
     },
     "metadata": {
      "needs_background": "light"
     },
     "output_type": "display_data"
    }
   ],
   "source": [
    "plt.plot(np.linspace(0,len(states)-1,len(states)-1),np.linalg.norm(state_evolve[1:,:] - state_evolve[:-1,:], axis=-1))"
   ]
  },
  {
   "cell_type": "code",
   "execution_count": 28,
   "metadata": {},
   "outputs": [
    {
     "name": "stdout",
     "output_type": "stream",
     "text": [
      "7 3085\n",
      "73085\n",
      "data_collection/collected_data/new_ori_one_obj/states_and_ims/7/env_states/3085.bullet\n",
      "7 3008\n",
      "73008\n",
      "data_collection/collected_data/new_ori_one_obj/states_and_ims/7/env_states/3008.bullet\n",
      "7 3034\n",
      "73034\n",
      "data_collection/collected_data/new_ori_one_obj/states_and_ims/7/env_states/3034.bullet\n",
      "7 3169\n",
      "73169\n",
      "data_collection/collected_data/new_ori_one_obj/states_and_ims/7/env_states/3169.bullet\n",
      "7 2984\n",
      "72984\n",
      "data_collection/collected_data/new_ori_one_obj/states_and_ims/7/env_states/2984.bullet\n",
      "7 2969\n",
      "72969\n",
      "data_collection/collected_data/new_ori_one_obj/states_and_ims/7/env_states/2969.bullet\n",
      "7 3250\n",
      "73250\n",
      "data_collection/collected_data/new_ori_one_obj/states_and_ims/7/env_states/3250.bullet\n",
      "7 3272\n",
      "73272\n",
      "data_collection/collected_data/new_ori_one_obj/states_and_ims/7/env_states/3272.bullet\n",
      "7 3267\n",
      "73267\n",
      "data_collection/collected_data/new_ori_one_obj/states_and_ims/7/env_states/3267.bullet\n",
      "7 3206\n",
      "73206\n",
      "data_collection/collected_data/new_ori_one_obj/states_and_ims/7/env_states/3206.bullet\n",
      "7 3329\n",
      "73329\n",
      "data_collection/collected_data/new_ori_one_obj/states_and_ims/7/env_states/3329.bullet\n",
      "7 3136\n",
      "73136\n",
      "data_collection/collected_data/new_ori_one_obj/states_and_ims/7/env_states/3136.bullet\n",
      "7 3405\n",
      "73405\n",
      "data_collection/collected_data/new_ori_one_obj/states_and_ims/7/env_states/3405.bullet\n",
      "7 3378\n",
      "73378\n",
      "data_collection/collected_data/new_ori_one_obj/states_and_ims/7/env_states/3378.bullet\n",
      "7 3462\n",
      "73462\n",
      "data_collection/collected_data/new_ori_one_obj/states_and_ims/7/env_states/3462.bullet\n",
      "7 3517\n",
      "73517\n",
      "data_collection/collected_data/new_ori_one_obj/states_and_ims/7/env_states/3517.bullet\n",
      "7 3577\n",
      "73577\n",
      "data_collection/collected_data/new_ori_one_obj/states_and_ims/7/env_states/3577.bullet\n",
      "7 3605\n",
      "73605\n",
      "data_collection/collected_data/new_ori_one_obj/states_and_ims/7/env_states/3605.bullet\n",
      "7 3677\n",
      "73677\n",
      "data_collection/collected_data/new_ori_one_obj/states_and_ims/7/env_states/3677.bullet\n",
      "7 3666\n",
      "73666\n",
      "data_collection/collected_data/new_ori_one_obj/states_and_ims/7/env_states/3666.bullet\n"
     ]
    }
   ],
   "source": [
    "\n",
    "for i in range(0,20):\n",
    "    data = v_it.next()\n",
    "    idx = np.random.choice(BATCH_SIZE_PER_REPLICA)\n",
    "    true, pred, _ = test_subsequences(data, idx, retries = 1, replay=True)\n",
    "    #true, pred, states = test_subsequences(data, idx, retries = 1, replay=False)"
   ]
  },
  {
   "cell_type": "code",
   "execution_count": 119,
   "metadata": {},
   "outputs": [
    {
     "name": "stdout",
     "output_type": "stream",
     "text": [
      "\n",
      " Test: door_left\n"
     ]
    },
    {
     "ename": "AttributeError",
     "evalue": "'list' object has no attribute 'numpy'",
     "output_type": "error",
     "traceback": [
      "\u001b[0;31m---------------------------------------------------------------------------\u001b[0m",
      "\u001b[0;31mAttributeError\u001b[0m                            Traceback (most recent call last)",
      "\u001b[0;32m<ipython-input-119-0bc57cd613ba>\u001b[0m in \u001b[0;36m<module>\u001b[0;34m\u001b[0m\n\u001b[1;32m     24\u001b[0m         \u001b[0;32mfor\u001b[0m \u001b[0mi\u001b[0m \u001b[0;32min\u001b[0m \u001b[0mrange\u001b[0m\u001b[0;34m(\u001b[0m\u001b[0;36m0\u001b[0m\u001b[0;34m,\u001b[0m \u001b[0;36m40\u001b[0m\u001b[0;34m)\u001b[0m\u001b[0;34m:\u001b[0m\u001b[0;34m\u001b[0m\u001b[0;34m\u001b[0m\u001b[0m\n\u001b[1;32m     25\u001b[0m             \u001b[0;32mif\u001b[0m \u001b[0mGCBC\u001b[0m\u001b[0;34m:\u001b[0m\u001b[0;34m\u001b[0m\u001b[0;34m\u001b[0m\u001b[0m\n\u001b[0;32m---> 26\u001b[0;31m                 \u001b[0ma\u001b[0m \u001b[0;34m=\u001b[0m \u001b[0mactor\u001b[0m\u001b[0;34m(\u001b[0m\u001b[0;34m(\u001b[0m\u001b[0mo\u001b[0m\u001b[0;34m,\u001b[0m\u001b[0mgoal\u001b[0m\u001b[0;34m)\u001b[0m\u001b[0;34m)\u001b[0m\u001b[0;34m.\u001b[0m\u001b[0mnumpy\u001b[0m\u001b[0;34m(\u001b[0m\u001b[0;34m)\u001b[0m\u001b[0;34m.\u001b[0m\u001b[0msqueeze\u001b[0m\u001b[0;34m(\u001b[0m\u001b[0;34m)\u001b[0m\u001b[0;34m\u001b[0m\u001b[0;34m\u001b[0m\u001b[0m\n\u001b[0m\u001b[1;32m     27\u001b[0m             \u001b[0;32melse\u001b[0m\u001b[0;34m:\u001b[0m\u001b[0;34m\u001b[0m\u001b[0;34m\u001b[0m\u001b[0m\n\u001b[1;32m     28\u001b[0m                 \u001b[0ma\u001b[0m \u001b[0;34m=\u001b[0m \u001b[0mactor\u001b[0m\u001b[0;34m(\u001b[0m\u001b[0;34m(\u001b[0m\u001b[0mo\u001b[0m\u001b[0;34m,\u001b[0m \u001b[0mz\u001b[0m\u001b[0;34m,\u001b[0m\u001b[0mgoal\u001b[0m\u001b[0;34m)\u001b[0m\u001b[0;34m)\u001b[0m\u001b[0;34m.\u001b[0m\u001b[0mnumpy\u001b[0m\u001b[0;34m(\u001b[0m\u001b[0;34m)\u001b[0m\u001b[0;34m.\u001b[0m\u001b[0msqueeze\u001b[0m\u001b[0;34m(\u001b[0m\u001b[0;34m)\u001b[0m\u001b[0;34m\u001b[0m\u001b[0;34m\u001b[0m\u001b[0m\n",
      "\u001b[0;31mAttributeError\u001b[0m: 'list' object has no attribute 'numpy'"
     ]
    }
   ],
   "source": [
    "import tests\n",
    "from importlib import reload\n",
    "reload(tests)\n",
    "\n",
    "for test in tests.test_list:\n",
    "    # get the goal and reset to the init position\n",
    "    print(f\"\\n Test: {test.__name__}\")\n",
    "    goal = tf.expand_dims(tf.expand_dims(test(env),0),0)\n",
    "    state = env.panda.calc_state()\n",
    "    if JOINTS:\n",
    "        o = tf.expand_dims(tf.expand_dims(np.concatenate([state['observation'], state['joints'][:7]]),0),0)\n",
    "    else:\n",
    "        o = tf.expand_dims(tf.expand_dims(state['observation'],0),0)\n",
    "    \n",
    "        \n",
    "    initial_ag = state['achieved_goal']\n",
    "\n",
    "    retries = 2\n",
    "    for i in range(0,retries):\n",
    "        if not GCBC:\n",
    "            plan, _ = planner((o[0], goal[0]))\n",
    "            z = tf.expand_dims(plan.sample(),0)\n",
    "        actor.reset_states()\n",
    "        for i in range(0, 40):\n",
    "            if GCBC:\n",
    "                a = actor((o,goal)).numpy().squeeze()\n",
    "            else:\n",
    "                a = actor((o, z,goal)).numpy().squeeze()\n",
    "            time.sleep(0.02)\n",
    "            o, r, d, _ = env.step(a)\n",
    "            if JOINTS:\n",
    "                o = tf.expand_dims(tf.expand_dims(np.concatenate([o['observation'],o['joints'][:7]]), 0),0)\n",
    "            else:\n",
    "                o = tf.expand_dims(tf.expand_dims(o['observation'], 0),0)\n",
    "            \n",
    "            \n",
    "    state = env.panda.calc_state()\n",
    "    final_ag = state['achieved_goal']\n",
    "    \n",
    "    tests.measure_progress(initial_ag, final_ag, np.squeeze(goal.numpy()))\n",
    "            \n",
    "    "
   ]
  },
  {
   "cell_type": "markdown",
   "metadata": {},
   "source": [
    "# Transition Model Experiments"
   ]
  },
  {
   "cell_type": "code",
   "execution_count": 18,
   "metadata": {},
   "outputs": [],
   "source": [
    "model_params = {'layer_size':LAYER_SIZE, 'latent_dim':LATENT_DIM, 'training':False}\n",
    "if PROBABILISTIC:\n",
    "    actor_stateful = create_actor(**model_params, GCBC=GCBC, num_distribs=3)\n",
    "else:\n",
    "    actor_stateful = create_actor(**model_params, GCBC=GCBC)"
   ]
  },
  {
   "cell_type": "code",
   "execution_count": 28,
   "metadata": {},
   "outputs": [
    {
     "name": "stdout",
     "output_type": "stream",
     "text": [
      "CPU times: user 530 ms, sys: 220 ms, total: 751 ms\n",
      "Wall time: 370 ms\n"
     ]
    }
   ],
   "source": [
    "%%time\n",
    "actor_stateful.set_weights(actor.get_weights())"
   ]
  },
  {
   "cell_type": "code",
   "execution_count": 28,
   "metadata": {},
   "outputs": [],
   "source": [
    "# Create a transition model, input obs, act, output obs\n",
    "import tensorflow_addons as tfa\n",
    "\n",
    "def create_transition_model(layer_size=512):\n",
    "    # params #\n",
    "    batch_size = None\n",
    "\n",
    "    # Input #\n",
    "    o = Input(shape=(OBS_DIM,), batch_size=batch_size, dtype=tf.float32, name='initial_obs') # has arm state\n",
    "    a = Input(shape=(ACT_DIM,), batch_size=batch_size, dtype=tf.float32, name='goal_obs') # does not have arm state\n",
    "\n",
    "    # Layers #\n",
    "    x = Concatenate(axis=-1)([o,a])\n",
    "    x = Masking(mask_value=0.)(x)\n",
    "    x = Dense(layer_size, activation=\"relu\", name='layer_1')(x)\n",
    "    x = Dense(layer_size, activation=\"relu\", name='layer_2')(x)\n",
    "    x = Dense(layer_size, activation=\"relu\", name='layer_3')(x)\n",
    "    o_next = Dense(OBS_DIM, name='layer_4')(x)\n",
    "    \n",
    "    return Model([o, a], o_next)\n",
    "\n",
    "def make_model_batch(states, acts):\n",
    "    s = states[:, :-1,:]\n",
    "    a = acts[:, :-1, :]\n",
    "    s_next = states[:, 1:, :]\n",
    "    B,T,D = s.shape\n",
    "    s = tf.reshape(s, (B*T, D))\n",
    "    a = tf.reshape(a, (B*T, -1))\n",
    "    s_next = tf.reshape(s_next, (B*T, D))\n",
    "    return s, a, s_next\n",
    "\n",
    "\n",
    "model = create_transition_model()\n",
    "model_optimizer = tfa.optimizers.AdamW(weight_decay=1e-5, learning_rate=1e-4)\n",
    "t_it = iter(train_dataset.repeat(-1))\n",
    "v_it = iter(valid_dataset.repeat(-1))\n"
   ]
  },
  {
   "cell_type": "code",
   "execution_count": 29,
   "metadata": {},
   "outputs": [
    {
     "name": "stdout",
     "output_type": "stream",
     "text": [
      "0 0.2616796\n",
      "500 0.08140578\n",
      "1000 0.080035\n",
      "1500 0.07606537\n",
      "2000 0.063986965\n",
      "2500 0.06395352\n",
      "3000 0.061576404\n",
      "3500 0.06351275\n"
     ]
    },
    {
     "ename": "KeyboardInterrupt",
     "evalue": "",
     "output_type": "error",
     "traceback": [
      "\u001b[0;31m---------------------------------------------------------------------------\u001b[0m",
      "\u001b[0;31mKeyboardInterrupt\u001b[0m                         Traceback (most recent call last)",
      "\u001b[0;32m<ipython-input-29-5002271edbc6>\u001b[0m in \u001b[0;36m<module>\u001b[0;34m\u001b[0m\n\u001b[1;32m     31\u001b[0m \u001b[0;32mwhile\u001b[0m\u001b[0;34m(\u001b[0m\u001b[0mt\u001b[0m\u001b[0;34m<\u001b[0m\u001b[0mtotal_steps\u001b[0m\u001b[0;34m)\u001b[0m\u001b[0;34m:\u001b[0m\u001b[0;34m\u001b[0m\u001b[0;34m\u001b[0m\u001b[0m\n\u001b[1;32m     32\u001b[0m \u001b[0;34m\u001b[0m\u001b[0m\n\u001b[0;32m---> 33\u001b[0;31m     \u001b[0mt_loss\u001b[0m \u001b[0;34m=\u001b[0m \u001b[0mtrain_step\u001b[0m\u001b[0;34m(\u001b[0m\u001b[0;34m)\u001b[0m\u001b[0;34m\u001b[0m\u001b[0;34m\u001b[0m\u001b[0m\n\u001b[0m\u001b[1;32m     34\u001b[0m     \u001b[0mv_loss\u001b[0m \u001b[0;34m=\u001b[0m \u001b[0mvalid_step\u001b[0m\u001b[0;34m(\u001b[0m\u001b[0;34m)\u001b[0m\u001b[0;34m\u001b[0m\u001b[0;34m\u001b[0m\u001b[0m\n\u001b[1;32m     35\u001b[0m     \u001b[0;32mif\u001b[0m \u001b[0mt\u001b[0m \u001b[0;34m%\u001b[0m \u001b[0;36m500\u001b[0m \u001b[0;34m==\u001b[0m \u001b[0;36m0\u001b[0m\u001b[0;34m:\u001b[0m\u001b[0;34m\u001b[0m\u001b[0;34m\u001b[0m\u001b[0m\n",
      "\u001b[0;32m<ipython-input-29-5002271edbc6>\u001b[0m in \u001b[0;36mtrain_step\u001b[0;34m()\u001b[0m\n\u001b[1;32m     19\u001b[0m     \u001b[0;32mwith\u001b[0m \u001b[0mtf\u001b[0m\u001b[0;34m.\u001b[0m\u001b[0mGradientTape\u001b[0m\u001b[0;34m(\u001b[0m\u001b[0;34m)\u001b[0m \u001b[0;32mas\u001b[0m \u001b[0mtape\u001b[0m\u001b[0;34m:\u001b[0m\u001b[0;34m\u001b[0m\u001b[0;34m\u001b[0m\u001b[0m\n\u001b[1;32m     20\u001b[0m         \u001b[0md\u001b[0m \u001b[0;34m=\u001b[0m \u001b[0mt_it\u001b[0m\u001b[0;34m.\u001b[0m\u001b[0mnext\u001b[0m\u001b[0;34m(\u001b[0m\u001b[0;34m)\u001b[0m\u001b[0;34m\u001b[0m\u001b[0;34m\u001b[0m\u001b[0m\n\u001b[0;32m---> 21\u001b[0;31m         \u001b[0mloss\u001b[0m \u001b[0;34m=\u001b[0m \u001b[0mstep\u001b[0m\u001b[0;34m(\u001b[0m\u001b[0md\u001b[0m\u001b[0;34m)\u001b[0m\u001b[0;34m\u001b[0m\u001b[0;34m\u001b[0m\u001b[0m\n\u001b[0m\u001b[1;32m     22\u001b[0m         \u001b[0mgradients\u001b[0m \u001b[0;34m=\u001b[0m \u001b[0mtape\u001b[0m\u001b[0;34m.\u001b[0m\u001b[0mgradient\u001b[0m\u001b[0;34m(\u001b[0m\u001b[0mloss\u001b[0m\u001b[0;34m,\u001b[0m \u001b[0mmodel\u001b[0m\u001b[0;34m.\u001b[0m\u001b[0mtrainable_variables\u001b[0m\u001b[0;34m)\u001b[0m\u001b[0;34m\u001b[0m\u001b[0;34m\u001b[0m\u001b[0m\n\u001b[1;32m     23\u001b[0m         \u001b[0mmodel_optimizer\u001b[0m\u001b[0;34m.\u001b[0m\u001b[0mapply_gradients\u001b[0m\u001b[0;34m(\u001b[0m\u001b[0mzip\u001b[0m\u001b[0;34m(\u001b[0m\u001b[0mgradients\u001b[0m\u001b[0;34m,\u001b[0m \u001b[0mmodel\u001b[0m\u001b[0;34m.\u001b[0m\u001b[0mtrainable_variables\u001b[0m\u001b[0;34m)\u001b[0m\u001b[0;34m)\u001b[0m\u001b[0;34m\u001b[0m\u001b[0;34m\u001b[0m\u001b[0m\n",
      "\u001b[0;32m<ipython-input-29-5002271edbc6>\u001b[0m in \u001b[0;36mstep\u001b[0;34m(d)\u001b[0m\n\u001b[1;32m     13\u001b[0m     \u001b[0ms\u001b[0m\u001b[0;34m,\u001b[0m\u001b[0ma\u001b[0m\u001b[0;34m,\u001b[0m \u001b[0m_\u001b[0m\u001b[0;34m,\u001b[0m\u001b[0m_\u001b[0m\u001b[0;34m,\u001b[0m\u001b[0m_\u001b[0m\u001b[0;34m,\u001b[0m\u001b[0m_\u001b[0m\u001b[0;34m,\u001b[0m\u001b[0m_\u001b[0m \u001b[0;34m=\u001b[0m \u001b[0;34m[\u001b[0m\u001b[0md\u001b[0m\u001b[0;34m[\u001b[0m\u001b[0mk\u001b[0m\u001b[0;34m]\u001b[0m \u001b[0;32mfor\u001b[0m \u001b[0mk\u001b[0m \u001b[0;32min\u001b[0m \u001b[0md\u001b[0m\u001b[0;34m.\u001b[0m\u001b[0mkeys\u001b[0m\u001b[0;34m(\u001b[0m\u001b[0;34m)\u001b[0m\u001b[0;34m]\u001b[0m\u001b[0;34m\u001b[0m\u001b[0;34m\u001b[0m\u001b[0m\n\u001b[1;32m     14\u001b[0m     \u001b[0ms\u001b[0m\u001b[0;34m,\u001b[0m\u001b[0ma\u001b[0m\u001b[0;34m,\u001b[0m\u001b[0ms_next\u001b[0m \u001b[0;34m=\u001b[0m \u001b[0mmake_model_batch\u001b[0m\u001b[0;34m(\u001b[0m\u001b[0ms\u001b[0m\u001b[0;34m,\u001b[0m\u001b[0ma\u001b[0m\u001b[0;34m)\u001b[0m\u001b[0;34m\u001b[0m\u001b[0;34m\u001b[0m\u001b[0m\n\u001b[0;32m---> 15\u001b[0;31m     \u001b[0ms_pred\u001b[0m \u001b[0;34m=\u001b[0m \u001b[0mmodel\u001b[0m\u001b[0;34m(\u001b[0m\u001b[0;34m(\u001b[0m\u001b[0ms\u001b[0m\u001b[0;34m,\u001b[0m\u001b[0ma\u001b[0m\u001b[0;34m)\u001b[0m\u001b[0;34m)\u001b[0m\u001b[0;34m\u001b[0m\u001b[0;34m\u001b[0m\u001b[0m\n\u001b[0m\u001b[1;32m     16\u001b[0m     \u001b[0;32mreturn\u001b[0m \u001b[0mtf\u001b[0m\u001b[0;34m.\u001b[0m\u001b[0mreduce_mean\u001b[0m\u001b[0;34m(\u001b[0m\u001b[0mtf\u001b[0m\u001b[0;34m.\u001b[0m\u001b[0mkeras\u001b[0m\u001b[0;34m.\u001b[0m\u001b[0mlosses\u001b[0m\u001b[0;34m.\u001b[0m\u001b[0mMAE\u001b[0m\u001b[0;34m(\u001b[0m\u001b[0ms_next\u001b[0m\u001b[0;34m,\u001b[0m \u001b[0ms_pred\u001b[0m\u001b[0;34m)\u001b[0m\u001b[0;34m)\u001b[0m\u001b[0;34m\u001b[0m\u001b[0;34m\u001b[0m\u001b[0m\n\u001b[1;32m     17\u001b[0m \u001b[0;34m\u001b[0m\u001b[0m\n",
      "\u001b[0;32m~/anaconda3/lib/python3.7/site-packages/tensorflow/python/keras/engine/base_layer.py\u001b[0m in \u001b[0;36m__call__\u001b[0;34m(self, *args, **kwargs)\u001b[0m\n\u001b[1;32m    957\u001b[0m     \u001b[0;31m# called multiple times.\u001b[0m\u001b[0;34m\u001b[0m\u001b[0;34m\u001b[0m\u001b[0;34m\u001b[0m\u001b[0m\n\u001b[1;32m    958\u001b[0m     \u001b[0;32mif\u001b[0m \u001b[0;32mnot\u001b[0m \u001b[0mcall_context\u001b[0m\u001b[0;34m.\u001b[0m\u001b[0min_call\u001b[0m\u001b[0;34m:\u001b[0m\u001b[0;34m\u001b[0m\u001b[0;34m\u001b[0m\u001b[0m\n\u001b[0;32m--> 959\u001b[0;31m       \u001b[0mself\u001b[0m\u001b[0;34m.\u001b[0m\u001b[0m_clear_losses\u001b[0m\u001b[0;34m(\u001b[0m\u001b[0;34m)\u001b[0m\u001b[0;34m\u001b[0m\u001b[0;34m\u001b[0m\u001b[0m\n\u001b[0m\u001b[1;32m    960\u001b[0m \u001b[0;34m\u001b[0m\u001b[0m\n\u001b[1;32m    961\u001b[0m     \u001b[0meager\u001b[0m \u001b[0;34m=\u001b[0m \u001b[0mcontext\u001b[0m\u001b[0;34m.\u001b[0m\u001b[0mexecuting_eagerly\u001b[0m\u001b[0;34m(\u001b[0m\u001b[0;34m)\u001b[0m\u001b[0;34m\u001b[0m\u001b[0;34m\u001b[0m\u001b[0m\n",
      "\u001b[0;32m~/anaconda3/lib/python3.7/site-packages/tensorflow/python/keras/engine/base_layer.py\u001b[0m in \u001b[0;36m_clear_losses\u001b[0;34m(self)\u001b[0m\n\u001b[1;32m   1564\u001b[0m       \u001b[0mself\u001b[0m\u001b[0;34m.\u001b[0m\u001b[0m_thread_local\u001b[0m\u001b[0;34m.\u001b[0m\u001b[0m_eager_losses\u001b[0m \u001b[0;34m=\u001b[0m \u001b[0;34m[\u001b[0m\u001b[0;34m]\u001b[0m\u001b[0;34m\u001b[0m\u001b[0;34m\u001b[0m\u001b[0m\n\u001b[1;32m   1565\u001b[0m     \u001b[0;32melse\u001b[0m\u001b[0;34m:\u001b[0m\u001b[0;34m\u001b[0m\u001b[0;34m\u001b[0m\u001b[0m\n\u001b[0;32m-> 1566\u001b[0;31m       \u001b[0;32mfor\u001b[0m \u001b[0mlayer\u001b[0m \u001b[0;32min\u001b[0m \u001b[0mself\u001b[0m\u001b[0;34m.\u001b[0m\u001b[0m_flatten_layers\u001b[0m\u001b[0;34m(\u001b[0m\u001b[0;34m)\u001b[0m\u001b[0;34m:\u001b[0m\u001b[0;34m\u001b[0m\u001b[0;34m\u001b[0m\u001b[0m\n\u001b[0m\u001b[1;32m   1567\u001b[0m         \u001b[0mlayer\u001b[0m\u001b[0;34m.\u001b[0m\u001b[0m_thread_local\u001b[0m\u001b[0;34m.\u001b[0m\u001b[0m_eager_losses\u001b[0m \u001b[0;34m=\u001b[0m \u001b[0;34m[\u001b[0m\u001b[0;34m]\u001b[0m\u001b[0;34m\u001b[0m\u001b[0;34m\u001b[0m\u001b[0m\n\u001b[1;32m   1568\u001b[0m \u001b[0;34m\u001b[0m\u001b[0m\n",
      "\u001b[0;32m~/anaconda3/lib/python3.7/site-packages/tensorflow/python/keras/engine/base_layer.py\u001b[0m in \u001b[0;36m_flatten_layers\u001b[0;34m(self, recursive, include_self)\u001b[0m\n\u001b[1;32m   2866\u001b[0m           \u001b[0;31m# Introspect recursively through sublayers.\u001b[0m\u001b[0;34m\u001b[0m\u001b[0;34m\u001b[0m\u001b[0;34m\u001b[0m\u001b[0m\n\u001b[1;32m   2867\u001b[0m           \u001b[0;32mif\u001b[0m \u001b[0mrecursive\u001b[0m\u001b[0;34m:\u001b[0m\u001b[0;34m\u001b[0m\u001b[0;34m\u001b[0m\u001b[0m\n\u001b[0;32m-> 2868\u001b[0;31m             \u001b[0msublayers\u001b[0m \u001b[0;34m=\u001b[0m \u001b[0mgetattr\u001b[0m\u001b[0;34m(\u001b[0m\u001b[0mlayer_or_container\u001b[0m\u001b[0;34m,\u001b[0m \u001b[0;34m'_layers'\u001b[0m\u001b[0;34m,\u001b[0m \u001b[0;32mNone\u001b[0m\u001b[0;34m)\u001b[0m\u001b[0;34m\u001b[0m\u001b[0;34m\u001b[0m\u001b[0m\n\u001b[0m\u001b[1;32m   2869\u001b[0m             \u001b[0;32mif\u001b[0m \u001b[0msublayers\u001b[0m\u001b[0;34m:\u001b[0m\u001b[0;34m\u001b[0m\u001b[0;34m\u001b[0m\u001b[0m\n\u001b[1;32m   2870\u001b[0m               \u001b[0mdeque\u001b[0m\u001b[0;34m.\u001b[0m\u001b[0mextendleft\u001b[0m\u001b[0;34m(\u001b[0m\u001b[0mreversed\u001b[0m\u001b[0;34m(\u001b[0m\u001b[0msublayers\u001b[0m\u001b[0;34m)\u001b[0m\u001b[0;34m)\u001b[0m\u001b[0;34m\u001b[0m\u001b[0;34m\u001b[0m\u001b[0m\n",
      "\u001b[0;31mKeyboardInterrupt\u001b[0m: "
     ]
    }
   ],
   "source": [
    "\n",
    "# Take a batch from t_it, regress next obs to obs/act\n",
    "\n",
    "\n",
    "total_steps = 10000\n",
    "t = 0\n",
    "steps = []\n",
    "t_losses = []\n",
    "v_losses = []\n",
    "   \n",
    "    \n",
    "def step(d):\n",
    "    s,a, _,_,_,_,_ = [d[k] for k in d.keys()]\n",
    "    s,a,s_next = make_model_batch(s,a)\n",
    "    s_pred = model((s,a))\n",
    "    return tf.reduce_mean(tf.keras.losses.MAE(s_next, s_pred))\n",
    "\n",
    "def train_step():\n",
    "    with tf.GradientTape() as tape:\n",
    "        d = t_it.next()\n",
    "        loss = step(d)\n",
    "        gradients = tape.gradient(loss, model.trainable_variables)\n",
    "        model_optimizer.apply_gradients(zip(gradients, model.trainable_variables))\n",
    "    return loss\n",
    "\n",
    "def valid_step():\n",
    "    d = v_it.next()\n",
    "    return step(d)\n",
    "\n",
    "\n",
    "while(t<total_steps):\n",
    "    \n",
    "    t_loss = train_step()\n",
    "    v_loss = valid_step()\n",
    "    if t % 500 == 0:\n",
    "        t_losses.append(t_loss)\n",
    "        v_losses.append(v_loss)\n",
    "        steps.append(t)\n",
    "        print(t, v_loss.numpy())\n",
    "        \n",
    "    t += 1"
   ]
  },
  {
   "cell_type": "code",
   "execution_count": 30,
   "metadata": {},
   "outputs": [],
   "source": [
    "def plot(array):\n",
    "    plt.plot(np.linspace(0,len(array),len(array)),np.linalg.norm(array, axis=-1))"
   ]
  },
  {
   "cell_type": "code",
   "execution_count": 31,
   "metadata": {},
   "outputs": [
    {
     "data": {
      "text/plain": [
       "[<matplotlib.lines.Line2D at 0x7f302c1252e8>]"
      ]
     },
     "execution_count": 31,
     "metadata": {},
     "output_type": "execute_result"
    },
    {
     "data": {
      "image/png": "[encoded data removed]",
      "text/plain": [
       "<Figure size 432x288 with 1 Axes>"
      ]
     },
     "metadata": {
      "needs_background": "light"
     },
     "output_type": "display_data"
    }
   ],
   "source": [
    "plt.plot(steps, t_losses)\n",
    "plt.plot(steps, v_losses)"
   ]
  },
  {
   "cell_type": "code",
   "execution_count": 55,
   "metadata": {},
   "outputs": [],
   "source": [
    "\n",
    "\n",
    "# Using stateful actor, play out a sequence from our trajectory bank\n",
    "import time\n",
    "\n",
    "def test_subsequences(data, idx, retries = 3, replay=False, replan_interval=20):\n",
    "    \n",
    "    \n",
    "    states, acts, goals, seq_lens, masks, pth, tsteps = [data[k] for k in data.keys()]\n",
    "    \n",
    "    \n",
    "    start_idx = str(int(tsteps[idx,0]))\n",
    "    traj_end = len(np.where(masks[idx] == 1)[0])-1\n",
    "    print(int(pth[idx,0]), int(tsteps[idx,0]))\n",
    "    print(str(int(pth[idx,0]))+str(int(tsteps[idx,0])) )\n",
    "    print(PYBULLET_DATA_DIR +'states_and_ims/'+str(int(pth[idx,0]))+'/env_states/'+str(int(tsteps[idx,0]))+'.bullet')\n",
    "\n",
    "    env.p.restoreState(fileName=PYBULLET_DATA_DIR +'states_and_ims/'+str(int(pth[idx,0]))+'/env_states/'+str(int(tsteps[idx,0]))+'.bullet')\n",
    "    state = env.panda.calc_state()\n",
    "    if JOINTS:\n",
    "        o = tf.expand_dims(tf.expand_dims(np.concatenate([state['observation'], state['joints'][:7]]),0),0)\n",
    "    else:\n",
    "        o = tf.expand_dims(tf.expand_dims(state['observation'],0),0)\n",
    "    #print(states)\n",
    "    #print(o.shape, o_p.shape, states.shape)\n",
    "    #print(o, '-------------------', o_p)\n",
    "    goal = goals[idx, traj_end,:]\n",
    "    goal = tf.expand_dims(tf.expand_dims(goal, 0),0)\n",
    "    \n",
    "    if VELOCITY:\n",
    "        o = tf.concat([tf.cast(o, tf.float32),tf.expand_dims(tf.expand_dims(tf.cast(state['velocity'],tf.float32),0),0)], axis = -1)\n",
    "    \n",
    "    if replay:\n",
    "        retries = 1\n",
    "    o_p = tf.expand_dims(tf.expand_dims(states[idx,0],0),0)\n",
    "    a_true =  acts[idx, :traj_end]\n",
    "    a_pred = []\n",
    "    o_ins, a_ins = [],[]\n",
    "    o_trues = []\n",
    "    o_preds= []\n",
    "    o_pred = tf.squeeze(o,0)\n",
    "    for j in range(0,retries):\n",
    "        if not GCBC:\n",
    "            plan, _ = planner((o[0], goal[0]))\n",
    "            z = tf.expand_dims(plan.sample(),0)\n",
    "        actor.reset_states()\n",
    "        if not replay:\n",
    "            replan_horizon = traj_end\n",
    "        else:\n",
    "            replan_horizon = traj_end\n",
    "            \n",
    "        for i in range(0, replan_horizon):\n",
    "\n",
    "            \n",
    "            if GCBC:\n",
    "                a,_,_ = actor((o, goal))\n",
    "                a = a.numpy().squeeze()\n",
    "                a_pred.append(a)\n",
    "            else:\n",
    "                a = actor((o, z,goal)).numpy().squeeze()\n",
    "                a_pred.append(a)\n",
    "                \n",
    "            if replay or i < 0:\n",
    "                a=a_true[i, :] # test whether a good init state would help by visualising the first 5 steps\n",
    "            \n",
    "#             o_ins.append(tf.squeeze(o,0)), a_ins.append(tf.expand_dims(a,0))\n",
    "#             o_pred = model((tf.squeeze(o,0),tf.expand_dims(a,0)))\n",
    "            o_ins.append(tf.squeeze(o,0)), a_ins.append(tf.expand_dims(a,0))\n",
    "            o_pred = model((o_pred,tf.expand_dims(a,0)))\n",
    "\n",
    "            env.visualise_sub_goal(np.squeeze(o_pred))\n",
    "            o, r, d, _ = env.step(a)\n",
    "            vel= tf.expand_dims(tf.expand_dims(tf.cast(o['velocity'],tf.float32),0),0)\n",
    "            if JOINTS:\n",
    "                o = tf.expand_dims(tf.expand_dims(np.concatenate([o['observation'],o['joints'][:7]]), 0),0)\n",
    "            else:\n",
    "                o = tf.expand_dims(tf.expand_dims(o['observation'], 0),0)\n",
    "                \n",
    "            if VELOCITY:\n",
    "                o = tf.concat([tf.cast(o, tf.float32),vel], axis = -1)\n",
    "                \n",
    "            o_preds.append(o_pred.numpy())\n",
    "            o_trues.append(o.numpy())\n",
    "            \n",
    "    return np.array(a_true), np.array(a_pred), np.squeeze(np.array(o_trues)), np.squeeze(np.array(o_preds)), np.array(o_ins), np.array(a_ins)\n",
    "# Feed the actions through transition model and take a few gradient steps until it was more like what actually happened\n",
    "\n",
    "# Take loss between model predicted state and desired state for all steps, update our actor\n",
    "\n",
    "# rerun, if its better, then update the main model, otherwise, reset this one to main\n",
    "\n"
   ]
  },
  {
   "cell_type": "code",
   "execution_count": 59,
   "metadata": {},
   "outputs": [],
   "source": [
    "env.visualise_sub_goal(np.squeeze(o_pred))\n",
    "env.panda.delete_sub_goal()\n",
    "env.panda.sub_goals=None"
   ]
  },
  {
   "cell_type": "code",
   "execution_count": 51,
   "metadata": {},
   "outputs": [],
   "source": [
    "data = t_it.next()\n",
    "idx = np.random.choice(BATCH_SIZE_PER_REPLICA)"
   ]
  },
  {
   "cell_type": "code",
   "execution_count": 60,
   "metadata": {},
   "outputs": [
    {
     "name": "stdout",
     "output_type": "stream",
     "text": [
      "16 4709\n",
      "164709\n",
      "data_collection/collected_data/one_obj_play/states_and_ims/16/env_states/4709.bullet\n",
      "8\n",
      "15\n",
      "15\n",
      "16\n",
      "17\n",
      "18\n",
      "8\n",
      "15\n",
      "15\n",
      "16\n",
      "17\n",
      "18\n",
      "8\n",
      "15\n",
      "15\n",
      "16\n",
      "17\n",
      "18\n",
      "8\n",
      "15\n",
      "15\n",
      "16\n",
      "17\n",
      "18\n",
      "8\n",
      "15\n",
      "15\n",
      "16\n",
      "17\n",
      "18\n",
      "8\n",
      "15\n",
      "15\n",
      "16\n",
      "17\n",
      "18\n",
      "8\n",
      "15\n",
      "15\n",
      "16\n",
      "17\n",
      "18\n",
      "8\n",
      "15\n",
      "15\n",
      "16\n",
      "17\n",
      "18\n",
      "8\n",
      "15\n",
      "15\n",
      "16\n",
      "17\n",
      "18\n",
      "8\n",
      "15\n",
      "15\n",
      "16\n",
      "17\n",
      "18\n",
      "8\n",
      "15\n",
      "15\n",
      "16\n",
      "17\n",
      "18\n",
      "8\n",
      "15\n",
      "15\n",
      "16\n",
      "17\n",
      "18\n",
      "8\n",
      "15\n",
      "15\n",
      "16\n",
      "17\n",
      "18\n",
      "8\n",
      "15\n",
      "15\n",
      "16\n",
      "17\n",
      "18\n",
      "8\n",
      "15\n",
      "15\n",
      "16\n",
      "17\n",
      "18\n",
      "8\n",
      "15\n",
      "15\n",
      "16\n",
      "17\n",
      "18\n",
      "8\n",
      "15\n",
      "15\n",
      "16\n",
      "17\n",
      "18\n",
      "8\n",
      "15\n",
      "15\n",
      "16\n",
      "17\n",
      "18\n",
      "8\n",
      "15\n",
      "15\n",
      "16\n",
      "17\n",
      "18\n",
      "8\n",
      "15\n",
      "15\n",
      "16\n",
      "17\n",
      "18\n",
      "8\n",
      "15\n",
      "15\n",
      "16\n",
      "17\n",
      "18\n",
      "8\n",
      "15\n",
      "15\n",
      "16\n",
      "17\n",
      "18\n",
      "8\n",
      "15\n",
      "15\n",
      "16\n",
      "17\n",
      "18\n",
      "8\n",
      "15\n",
      "15\n",
      "16\n",
      "17\n",
      "18\n",
      "8\n",
      "15\n",
      "15\n",
      "16\n",
      "17\n",
      "18\n",
      "8\n",
      "15\n",
      "15\n",
      "16\n",
      "17\n",
      "18\n",
      "8\n",
      "15\n",
      "15\n",
      "16\n",
      "17\n",
      "18\n",
      "8\n",
      "15\n",
      "15\n",
      "16\n",
      "17\n",
      "18\n",
      "8\n",
      "15\n",
      "15\n",
      "16\n",
      "17\n",
      "18\n",
      "8\n",
      "15\n",
      "15\n",
      "16\n",
      "17\n",
      "18\n",
      "8\n",
      "15\n",
      "15\n",
      "16\n",
      "17\n",
      "18\n",
      "8\n",
      "15\n",
      "15\n",
      "16\n",
      "17\n",
      "18\n",
      "8\n",
      "15\n",
      "15\n",
      "16\n",
      "17\n",
      "18\n",
      "8\n",
      "15\n",
      "15\n",
      "16\n",
      "17\n",
      "18\n",
      "8\n",
      "15\n",
      "15\n",
      "16\n",
      "17\n",
      "18\n",
      "8\n",
      "15\n",
      "15\n",
      "16\n",
      "17\n",
      "18\n"
     ]
    }
   ],
   "source": [
    "true, pred, o_true, o_pred, o_in, a_in = test_subsequences(data, idx, retries = 1, replay=True)\n",
    "pred_diffs = np.squeeze(abs(np.squeeze(np.array(o_true)) - np.squeeze(np.array(o_pred))))"
   ]
  },
  {
   "cell_type": "code",
   "execution_count": null,
   "metadata": {},
   "outputs": [],
   "source": []
  },
  {
   "cell_type": "code",
   "execution_count": 42,
   "metadata": {},
   "outputs": [
    {
     "data": {
      "text/plain": [
       "array([[1.33662634e-02, 9.50123370e-03, 8.20809603e-03, 2.92086601e-03,\n",
       "        2.78563425e-02, 1.86027586e-03, 7.22116232e-03, 8.85668769e-03,\n",
       "        1.79850720e-02, 9.79271531e-03, 4.73928452e-03, 1.24136209e-02,\n",
       "        5.39344549e-03, 1.91547275e-02, 8.27729702e-04, 9.51879844e-03,\n",
       "        1.76945329e-02, 1.04417559e-02, 7.15146679e-03, 1.40375435e-01,\n",
       "        1.01133101e-02, 4.39243138e-01, 6.38005733e-01, 3.39920908e-01,\n",
       "        1.72276512e-01],\n",
       "       [2.40480099e-02, 9.75231826e-03, 1.86058283e-02, 3.43033671e-03,\n",
       "        2.56024897e-02, 1.98885500e-02, 6.10744953e-03, 8.42196867e-03,\n",
       "        1.43989362e-02, 2.14907825e-02, 4.93970513e-03, 4.52691317e-03,\n",
       "        1.65122747e-02, 2.27601528e-02, 4.68754768e-03, 9.96239483e-04,\n",
       "        1.74840987e-02, 1.55081879e-02, 5.45195583e-03, 6.03234880e-02,\n",
       "        1.52027667e-01, 5.31375110e-02, 1.43086195e+00, 1.01110697e+00,\n",
       "        7.75173366e-01],\n",
       "       [1.15349442e-02, 5.93468547e-04, 1.58793777e-02, 1.01437271e-02,\n",
       "        1.56227946e-02, 5.65929711e-03, 6.24859333e-03, 8.69232416e-03,\n",
       "        1.88951455e-02, 9.60907340e-03, 4.49576974e-03, 1.14008188e-02,\n",
       "        2.33894587e-03, 8.64616036e-03, 8.05968046e-03, 2.13597715e-03,\n",
       "        1.71082467e-02, 1.42790806e-02, 6.74848724e-03, 1.07937381e-02,\n",
       "        1.42592669e-01, 1.11493684e-01, 6.07207775e-01, 4.39547181e-01,\n",
       "        4.74607497e-01],\n",
       "       [2.10595131e-02, 1.03738606e-02, 1.02861673e-02, 7.92154670e-03,\n",
       "        1.98897421e-02, 2.18087882e-02, 1.43649578e-02, 8.19063187e-03,\n",
       "        1.73173957e-02, 1.01661086e-02, 6.03732467e-03, 8.99171829e-03,\n",
       "        2.44945288e-03, 6.75171614e-03, 1.49347186e-02, 1.88462436e-04,\n",
       "        1.64096802e-02, 1.60092469e-02, 5.78931067e-03, 8.91605020e-02,\n",
       "        1.44708484e-01, 9.42237079e-02, 5.32502294e-01, 2.07045615e-01,\n",
       "        5.35595536e-01],\n",
       "       [2.04914063e-02, 7.49064982e-03, 7.62076676e-03, 9.25543904e-03,\n",
       "        1.24685615e-02, 1.36903226e-02, 8.71360302e-03, 7.68018886e-03,\n",
       "        1.73030160e-02, 7.08422065e-03, 7.02711940e-03, 4.83709574e-03,\n",
       "        4.76562977e-03, 8.02892447e-03, 1.44631267e-02, 1.52767450e-03,\n",
       "        1.64675862e-02, 1.61512252e-02, 1.02323713e-02, 4.58719060e-02,\n",
       "        1.53681308e-01, 1.72080338e-01, 4.74544823e-01, 5.72770983e-02,\n",
       "        4.93687928e-01],\n",
       "       [1.18522793e-02, 7.86736608e-03, 7.63228536e-03, 1.22138858e-02,\n",
       "        1.19143575e-02, 7.56701827e-03, 8.79514217e-03, 1.18641835e-02,\n",
       "        1.88247077e-02, 6.36559725e-03, 6.24358654e-03, 1.28054619e-03,\n",
       "        4.46140766e-03, 9.90867615e-03, 1.38362050e-02, 2.02995539e-03,\n",
       "        1.58328563e-02, 1.42102558e-02, 9.30841919e-03, 3.70412990e-02,\n",
       "        1.17372610e-01, 1.32777780e-01, 2.65974533e-02, 3.95687431e-01,\n",
       "        2.85868943e-01],\n",
       "       [1.39220804e-02, 7.71516562e-03, 9.24006104e-03, 4.29809093e-03,\n",
       "        1.14208460e-02, 3.47021222e-03, 6.38556480e-03, 2.04796940e-02,\n",
       "        1.85331814e-02, 6.55710697e-03, 2.73585320e-05, 5.94142079e-03,\n",
       "        1.55474544e-02, 6.56336546e-03, 1.19761825e-02, 1.09057873e-03,\n",
       "        1.06364936e-02, 1.23055335e-02, 4.93361522e-03, 9.12897959e-02,\n",
       "        6.17934316e-02, 1.07766777e-01, 3.96851063e-01, 5.85377663e-02,\n",
       "        5.35503805e-01],\n",
       "       [8.18103552e-03, 7.51894712e-03, 9.93490219e-03, 9.20340419e-03,\n",
       "        8.20723176e-03, 1.95559859e-03, 1.02931261e-03, 1.95573233e-02,\n",
       "        1.87901370e-02, 4.30765748e-03, 2.07877159e-03, 1.68749690e-03,\n",
       "        1.47849917e-02, 8.14479589e-03, 9.18418169e-03, 4.40069288e-03,\n",
       "        1.60764009e-02, 1.17406007e-02, 5.51082101e-03, 4.44863439e-02,\n",
       "        6.31442368e-02, 8.31933618e-02, 1.01447031e-01, 2.46397674e-01,\n",
       "        3.32401007e-01],\n",
       "       [7.04513490e-03, 1.29277706e-02, 1.95998251e-02, 9.63178277e-03,\n",
       "        1.38033628e-02, 1.52106881e-02, 1.33174062e-02, 2.09407080e-02,\n",
       "        1.90472864e-02, 9.56317782e-03, 2.41398811e-05, 1.20157003e-02,\n",
       "        1.20469332e-02, 1.31654739e-02, 8.40955973e-03, 1.61152333e-03,\n",
       "        1.43464506e-02, 1.18633788e-02, 6.29650522e-03, 9.35858861e-02,\n",
       "        4.32141870e-02, 3.22961807e-03, 1.72729582e-01, 2.61153579e-02,\n",
       "        5.26995957e-01],\n",
       "       [4.08709049e-04, 5.60775399e-03, 1.93489268e-02, 1.12332106e-02,\n",
       "        7.57336617e-04, 5.65695763e-03, 3.87191772e-04, 1.85670983e-02,\n",
       "        2.38726400e-02, 6.67002797e-03, 2.44346261e-03, 5.66413999e-03,\n",
       "        1.88871026e-02, 1.44479871e-02, 1.01893544e-02, 6.84558600e-03,\n",
       "        1.60431415e-02, 1.26637798e-02, 6.07318711e-03, 5.80049381e-02,\n",
       "        6.21984452e-02, 1.72730088e-02, 9.43701565e-02, 8.13826621e-02,\n",
       "        4.00096744e-01],\n",
       "       [8.28640163e-03, 4.21467423e-03, 7.95210153e-03, 8.71235132e-03,\n",
       "        1.53912604e-02, 8.45402479e-03, 1.15021467e-02, 2.18281224e-02,\n",
       "        1.87482797e-02, 1.03820860e-02, 5.35845757e-04, 9.99787450e-03,\n",
       "        1.44949555e-02, 1.75792575e-02, 8.82893801e-03, 4.03773040e-03,\n",
       "        1.26501620e-02, 1.26077142e-02, 9.55542736e-03, 1.13177091e-01,\n",
       "        4.75431532e-02, 3.62462401e-02, 2.19459012e-02, 1.96443200e-02,\n",
       "        4.85078812e-01],\n",
       "       [4.39250469e-03, 9.99793410e-03, 8.52542371e-03, 7.37467408e-03,\n",
       "        2.35706568e-03, 5.59714437e-03, 4.22102213e-03, 1.83193367e-02,\n",
       "        2.68453620e-02, 9.05504823e-03, 2.05227733e-03, 8.50105286e-03,\n",
       "        2.33328938e-02, 1.48243606e-02, 7.36254454e-03, 6.63185865e-03,\n",
       "        1.63247883e-02, 1.31779853e-02, 9.62991919e-03, 1.61184564e-01,\n",
       "        1.13015123e-01, 2.15465538e-02, 1.86761707e-01, 6.97509050e-02,\n",
       "        5.80582976e-01],\n",
       "       [9.81983542e-03, 6.83498383e-03, 5.03005087e-03, 9.66891646e-03,\n",
       "        6.62687421e-03, 2.72259116e-03, 8.32790136e-03, 1.88812967e-02,\n",
       "        2.06018947e-02, 1.13508105e-02, 4.41405177e-03, 7.63821602e-03,\n",
       "        2.36802101e-02, 1.53051317e-02, 8.13686848e-03, 5.08659333e-03,\n",
       "        1.19807273e-02, 1.28188562e-02, 1.03566265e-02, 1.36990160e-01,\n",
       "        2.02326607e-02, 8.19299929e-03, 1.31172359e-01, 1.13790400e-01,\n",
       "        4.90684956e-01],\n",
       "       [1.30291730e-02, 5.72228432e-03, 5.34777343e-03, 3.00195813e-03,\n",
       "        4.50420380e-03, 5.85258007e-03, 1.25890970e-03, 1.81750637e-02,\n",
       "        1.96412392e-02, 8.37063789e-03, 3.34703922e-03, 7.03588128e-03,\n",
       "        2.41008401e-02, 1.14241838e-02, 7.52723217e-03, 6.02670014e-03,\n",
       "        6.74881041e-03, 1.23933833e-02, 1.15940943e-02, 1.30515665e-01,\n",
       "        3.05086840e-03, 5.12739876e-03, 7.11246505e-02, 1.26633309e-02,\n",
       "        4.43326890e-01],\n",
       "       [2.28505358e-02, 5.83574176e-03, 9.10750031e-03, 3.01539898e-03,\n",
       "        2.20909715e-03, 9.41753387e-04, 1.51842833e-03, 1.69629604e-02,\n",
       "        1.87806301e-02, 9.20259953e-03, 2.77662277e-03, 1.30493045e-02,\n",
       "        1.91504359e-02, 4.24408913e-03, 1.12869740e-02, 4.77825850e-03,\n",
       "        7.90005922e-03, 1.14568081e-02, 1.24069611e-02, 1.40071318e-01,\n",
       "        3.59849557e-02, 9.80667956e-03, 2.10207567e-01, 1.47501916e-01,\n",
       "        6.39691770e-01],\n",
       "       [2.25445479e-02, 3.71974707e-03, 2.22047418e-03, 4.66656685e-03,\n",
       "        5.62390685e-03, 6.99043274e-04, 4.37271595e-03, 1.74724497e-02,\n",
       "        2.05875598e-02, 1.19387805e-02, 2.31897831e-03, 1.24408603e-02,\n",
       "        1.47726536e-02, 1.29394531e-02, 9.53263044e-03, 1.66502297e-02,\n",
       "        1.40918493e-02, 1.34004895e-02, 1.24407588e-02, 1.43112123e-01,\n",
       "        3.49313878e-02, 1.14678610e-02, 1.47938728e-01, 2.04516560e-01,\n",
       "        3.67617309e-01],\n",
       "       [2.15364881e-02, 1.42842531e-02, 5.34115732e-03, 4.08470631e-04,\n",
       "        7.03603029e-04, 4.69058752e-03, 6.39110804e-03, 1.50316069e-02,\n",
       "        2.61710398e-02, 1.88371241e-02, 2.64376402e-03, 1.52992904e-02,\n",
       "        2.10886002e-02, 5.03060222e-03, 8.83889198e-03, 3.28210704e-02,\n",
       "        1.71553046e-02, 1.24019999e-02, 7.48129655e-03, 1.53438553e-01,\n",
       "        5.40665835e-02, 8.61770939e-04, 1.04528002e-01, 2.12250799e-02,\n",
       "        7.52432644e-01],\n",
       "       [2.70317458e-02, 1.43112242e-02, 4.39611822e-03, 2.96118855e-03,\n",
       "        1.16571784e-04, 7.38734007e-03, 1.01813674e-02, 1.52388969e-02,\n",
       "        2.44166516e-02, 2.42787898e-02, 2.91654468e-03, 1.68455541e-02,\n",
       "        1.80122256e-02, 6.64716959e-03, 1.37755871e-02, 3.74289900e-02,\n",
       "        1.76775455e-02, 1.36260111e-02, 1.21057862e-02, 9.55204070e-02,\n",
       "        2.39334181e-02, 4.96618934e-02, 1.71359062e-01, 3.72763723e-02,\n",
       "        6.13371015e-01],\n",
       "       [2.61870306e-02, 9.76994634e-03, 6.25639409e-03, 8.09416175e-03,\n",
       "        1.05200261e-02, 8.69357586e-03, 2.05707550e-03, 1.31947063e-02,\n",
       "        2.67079808e-02, 2.36140490e-02, 4.41431999e-04, 2.01240182e-02,\n",
       "        2.13553309e-02, 4.72185016e-03, 1.79727077e-02, 3.75474319e-02,\n",
       "        1.51014328e-02, 1.44393798e-02, 1.21286456e-02, 1.29202247e-01,\n",
       "        5.95626198e-02, 3.79671752e-02, 2.97447026e-01, 1.18202239e-01,\n",
       "        3.86316955e-01],\n",
       "       [2.39341296e-02, 1.55289769e-02, 2.31178105e-03, 7.67070055e-03,\n",
       "        5.21406531e-04, 7.99864531e-03, 1.00421906e-03, 1.42900199e-02,\n",
       "        2.89600305e-02, 2.43408382e-02, 1.31487846e-04, 1.43420100e-02,\n",
       "        2.26992965e-02, 9.54398513e-03, 1.63695812e-02, 3.96292806e-02,\n",
       "        1.70198083e-02, 1.35812368e-02, 1.35761499e-02, 3.27291459e-01,\n",
       "        9.13109183e-02, 5.93554154e-02, 4.02783573e-01, 3.97632778e-01,\n",
       "        6.54558837e-01]], dtype=float32)"
      ]
     },
     "execution_count": 42,
     "metadata": {},
     "output_type": "execute_result"
    }
   ],
   "source": [
    "pred_diffs"
   ]
  },
  {
   "cell_type": "code",
   "execution_count": 43,
   "metadata": {},
   "outputs": [
    {
     "data": {
      "image/png": "[encoded data removed]",
      "text/plain": [
       "<Figure size 432x288 with 1 Axes>"
      ]
     },
     "metadata": {
      "needs_background": "light"
     },
     "output_type": "display_data"
    }
   ],
   "source": [
    "plot(pred_diffs)"
   ]
  },
  {
   "cell_type": "code",
   "execution_count": 44,
   "metadata": {},
   "outputs": [
    {
     "data": {
      "image/png": "[encoded data removed]",
      "text/plain": [
       "<Figure size 432x288 with 1 Axes>"
      ]
     },
     "metadata": {
      "needs_background": "light"
     },
     "output_type": "display_data"
    }
   ],
   "source": [
    "o = o_in[0]\n",
    "simulated_o = []\n",
    "for i in range(0, len(a_in)):\n",
    "    o = model((o, a_in[i]))\n",
    "    simulated_o.append(o)\n",
    "    \n",
    "pred_diffs = np.squeeze(abs(np.squeeze(np.array(o_true)) - np.squeeze(np.array(simulated_o))))\n",
    "plot(pred_diffs)"
   ]
  },
  {
   "cell_type": "code",
   "execution_count": 462,
   "metadata": {},
   "outputs": [],
   "source": [
    "# now, optimize the model so that it is better here\n",
    "def model_update_step(o_in, a_in, o_true):\n",
    "    with tf.GradientTape() as tape:\n",
    "        o_pred = model((np.squeeze(o_in),np.squeeze(a_in)))\n",
    "        print(o_pred.shape, o_true.shape)\n",
    "        loss_time_wise = tf.keras.losses.MAE(o_pred, o_true)\n",
    "        \n",
    "        gradients = tape.gradient(tf.reduce_mean(loss_time_wise), model.trainable_variables)\n",
    "        model_optimizer.apply_gradients(zip(gradients, model.trainable_variables))\n",
    "    return loss_time_wise"
   ]
  },
  {
   "cell_type": "code",
   "execution_count": 472,
   "metadata": {},
   "outputs": [
    {
     "data": {
      "text/plain": [
       "((29, 1, 26), (30, 1, 8), (30, 26))"
      ]
     },
     "execution_count": 472,
     "metadata": {},
     "output_type": "execute_result"
    }
   ],
   "source": [
    "np.array(simulated_o[:-1]).shape, a_in.shape, o_true.shape"
   ]
  },
  {
   "cell_type": "code",
   "execution_count": 475,
   "metadata": {},
   "outputs": [
    {
     "name": "stdout",
     "output_type": "stream",
     "text": [
      "(30, 26) (30, 26)\n"
     ]
    },
    {
     "data": {
      "text/plain": [
       "[<matplotlib.lines.Line2D at 0x7f81b2bc9518>]"
      ]
     },
     "execution_count": 475,
     "metadata": {},
     "output_type": "execute_result"
    },
    {
     "data": {
      "image/png": "[encoded data removed]",
      "text/plain": [
       "<Figure size 432x288 with 1 Axes>"
      ]
     },
     "metadata": {
      "needs_background": "light"
     },
     "output_type": "display_data"
    }
   ],
   "source": [
    "error = model_update_step(np.array(simulated_o),a_in, o_true)\n",
    "plt.plot(np.linspace(0,len(error),len(error)),error)"
   ]
  },
  {
   "cell_type": "code",
   "execution_count": 476,
   "metadata": {},
   "outputs": [
    {
     "data": {
      "image/png": "[encoded data removed]",
      "text/plain": [
       "<Figure size 432x288 with 1 Axes>"
      ]
     },
     "metadata": {
      "needs_background": "light"
     },
     "output_type": "display_data"
    }
   ],
   "source": [
    "o = o_in[0]\n",
    "simulated_o = []\n",
    "for i in range(0, len(a_in)):\n",
    "    o = model((o, a_in[i]))\n",
    "    simulated_o.append(o)\n",
    "    \n",
    "pred_diffs = np.squeeze(abs(np.squeeze(np.array(o_true)) - np.squeeze(np.array(simulated_o))))\n",
    "plot(pred_diffs)def create_transition_model(layer_size=512):\n",
    "    # params #\n",
    "    batch_size = None\n",
    "\n",
    "    # Input #\n",
    "    o = Input(shape=(OBS_DIM,), batch_size=batch_size, dtype=tf.float32, name='initial_obs') # has arm state\n",
    "    a = Input(shape=(ACT_DIM,), batch_size=batch_size, dtype=tf.float32, name='goal_obs') # does not have arm state\n",
    "\n",
    "    # Layers #\n",
    "    x = Concatenate(axis=-1)([o,a])\n",
    "    x = Masking(mask_value=0.)(x)\n",
    "    x = Dense(layer_size, activation=\"relu\", name='layer_1')(x)\n",
    "    x = Dense(layer_size, activation=\"relu\", name='layer_2')(x)\n",
    "    x = Dense(layer_size, activation=\"relu\", name='layer_3')(x)\n",
    "    o_next = Dense(OBS_DIM, name='layer_4')(x)\n",
    "    \n",
    "    return Model([o, a], o_next)"
   ]
  },
  {
   "cell_type": "code",
   "execution_count": null,
   "metadata": {},
   "outputs": [],
   "source": [
    "\n",
    "def quat_sign_flip(a):\n",
    "    for i in range(1,len(a)):\n",
    "        quat = a[i,3:7]\n",
    "        last_quat = a[i-1,3:7]\n",
    "        if (np.sign(quat)== -np.sign(last_quat)).all(): # i.e, it is an equivalent quaternion\n",
    "             a[i,3:7] = - a[i,3:7]\n",
    "    return a \n"
   ]
  },
  {
   "cell_type": "markdown",
   "metadata": {},
   "source": [
    "# Q Value function tests"
   ]
  },
  {
   "cell_type": "code",
   "execution_count": null,
   "metadata": {},
   "outputs": [],
   "source": [
    "def create_q_function(layer_size=512):\n",
    "    # params #\n",
    "    batch_size = None\n",
    "\n",
    "    # Input #\n",
    "    o = Input(shape=(OBS_DIM,), batch_size=batch_size, dtype=tf.float32, name='initial_obs') # has arm state\n",
    "    a = Input(shape=(ACT_DIM,), batch_size=batch_size, dtype=tf.float32, name='goal_obs') # does not have arm state\n",
    "\n",
    "    # Layers #\n",
    "    x = Concatenate(axis=-1)([o,a])\n",
    "    x = Masking(mask_value=0.)(x)\n",
    "    x = Dense(layer_size, activation=\"relu\", name='layer_1')(x)\n",
    "    x = Dense(layer_size, activation=\"relu\", name='layer_2')(x)\n",
    "    x = Dense(layer_size, activation=\"relu\", name='layer_3')(x)\n",
    "    o_next = Dense(OBS_DIM, name='layer_4')(x)\n",
    "    \n",
    "    return Model([o, a], o_next)\n"
   ]
  },
  {
   "cell_type": "code",
   "execution_count": null,
   "metadata": {},
   "outputs": [],
   "source": [
    "# If we do it with a value function\n",
    "# Discount rewards back through it - maybe using the parallelism guys thing\n",
    "# then directly use AWR\n",
    "\n",
    "# If we do it with Q... harder due to LSTM?\n",
    "\n",
    "# Q values from (s_D, a_D, g_D)\n",
    "# R from r\n",
    "# Q' from nn which predicts Pi' from all s 1:,\n",
    "# "
   ]
  },
  {
   "cell_type": "code",
   "execution_count": null,
   "metadata": {},
   "outputs": [],
   "source": []
  },
  {
   "cell_type": "code",
   "execution_count": null,
   "metadata": {},
   "outputs": [],
   "source": []
  },
  {
   "cell_type": "code",
   "execution_count": null,
   "metadata": {},
   "outputs": [],
   "source": []
  },
  {
   "cell_type": "code",
   "execution_count": null,
   "metadata": {},
   "outputs": [],
   "source": []
  },
  {
   "cell_type": "code",
   "execution_count": null,
   "metadata": {},
   "outputs": [],
   "source": []
  },
  {
   "cell_type": "code",
   "execution_count": null,
   "metadata": {},
   "outputs": [],
   "source": []
  },
  {
   "cell_type": "code",
   "execution_count": null,
   "metadata": {},
   "outputs": [],
   "source": []
  },
  {
   "cell_type": "code",
   "execution_count": null,
   "metadata": {},
   "outputs": [],
   "source": []
  },
  {
   "cell_type": "code",
   "execution_count": null,
   "metadata": {},
   "outputs": [],
   "source": []
  },
  {
   "cell_type": "code",
   "execution_count": null,
   "metadata": {},
   "outputs": [],
   "source": []
  },
  {
   "cell_type": "code",
   "execution_count": null,
   "metadata": {},
   "outputs": [],
   "source": []
  },
  {
   "cell_type": "code",
   "execution_count": null,
   "metadata": {},
   "outputs": [],
   "source": []
  },
  {
   "cell_type": "code",
   "execution_count": null,
   "metadata": {},
   "outputs": [],
   "source": []
  },
  {
   "cell_type": "code",
   "execution_count": null,
   "metadata": {},
   "outputs": [],
   "source": []
  },
  {
   "cell_type": "code",
   "execution_count": null,
   "metadata": {},
   "outputs": [],
   "source": []
  },
  {
   "cell_type": "code",
   "execution_count": 391,
   "metadata": {},
   "outputs": [
    {
     "data": {
      "text/plain": [
       "<tf.Tensor: shape=(21,), dtype=float64, numpy=\n",
       "array([0.12393562, 0.01049713, 0.01037328, 0.01053249, 0.01017937,\n",
       "       0.00907761, 0.00964357, 0.00983047, 0.00876082, 0.00849668,\n",
       "       0.00855127, 0.00843039, 0.0092276 , 0.00918092, 0.009084  ,\n",
       "       0.00929162, 0.01172736, 0.0116516 , 0.01150378, 0.00865179,\n",
       "       0.00925565])>"
      ]
     },
     "execution_count": 391,
     "metadata": {},
     "output_type": "execute_result"
    }
   ],
   "source": [
    "error"
   ]
  },
  {
   "cell_type": "code",
   "execution_count": 16,
   "metadata": {},
   "outputs": [],
   "source": [
    "\n",
    "import pybullet as p\n",
    "\n",
    "def create_rpy(acts, idx):\n",
    "    a = acts[idx, :int(seq_lens[idx])]\n",
    "    rpys = []\n",
    "    for i in range(len(a)):\n",
    "        rpys.append(p.getEulerFromQuaternion(a[i,3:7]))\n",
    "    xyz = a[:,0:3]\n",
    "    rpy = np.array(rpys)\n",
    "    g = np.expand_dims(a[:,-1],1)\n",
    "    \n",
    "    return np.concatenate([xyz, rpy, g], -1)\n",
    "def quat_sign_flip(acts, idx):\n",
    "    a = acts[idx, :int(seq_lens[idx])]\n",
    "    angles = [a[0,3:7]]\n",
    "    for i in range(1,len(a)):\n",
    "        quat = a[i,3:7]\n",
    "        last_quat = angles[-1] \n",
    "        if (np.sign(quat)== -np.sign(last_quat)).all(): # i.e, it is an equivalent quaternion\n",
    "            angles.append(-quat)\n",
    "        else:\n",
    "            angles.append(quat)\n",
    "        #print(np.sign(quat), np.sign(last_quat), (np.sign(quat)== -np.sign(last_quat)).all())\n",
    "    \n",
    "    #print(xyz.shape, q.shape, g.shape,q)\n",
    "    return np.concatenate([xyz, q, g], -1)\n"
   ]
  },
  {
   "cell_type": "code",
   "execution_count": 19,
   "metadata": {},
   "outputs": [
    {
     "data": {
      "image/png": "[encoded data removed]",
      "text/plain": [
       "<Figure size 576x108 with 1 Axes>"
      ]
     },
     "metadata": {
      "needs_background": "light"
     },
     "output_type": "display_data"
    },
    {
     "data": {
      "image/png": "[encoded data removed]",
      "text/plain": [
       "<Figure size 576x108 with 1 Axes>"
      ]
     },
     "metadata": {
      "needs_background": "light"
     },
     "output_type": "display_data"
    },
    {
     "data": {
      "image/png": "[encoded data removed]",
      "text/plain": [
       "<Figure size 576x108 with 1 Axes>"
      ]
     },
     "metadata": {
      "needs_background": "light"
     },
     "output_type": "display_data"
    },
    {
     "data": {
      "image/png": "[encoded data removed]",
      "text/plain": [
       "<Figure size 576x108 with 1 Axes>"
      ]
     },
     "metadata": {
      "needs_background": "light"
     },
     "output_type": "display_data"
    },
    {
     "data": {
      "image/png": "[encoded data removed]",
      "text/plain": [
       "<Figure size 576x108 with 1 Axes>"
      ]
     },
     "metadata": {
      "needs_background": "light"
     },
     "output_type": "display_data"
    },
    {
     "data": {
      "image/png": "[encoded data removed]",
      "text/plain": [
       "<Figure size 576x108 with 1 Axes>"
      ]
     },
     "metadata": {
      "needs_background": "light"
     },
     "output_type": "display_data"
    },
    {
     "data": {
      "image/png": "[encoded data removed]",
      "text/plain": [
       "<Figure size 576x108 with 1 Axes>"
      ]
     },
     "metadata": {
      "needs_background": "light"
     },
     "output_type": "display_data"
    },
    {
     "data": {
      "image/png": "[encoded data removed]",
      "text/plain": [
       "<Figure size 576x108 with 1 Axes>"
      ]
     },
     "metadata": {
      "needs_background": "light"
     },
     "output_type": "display_data"
    }
   ],
   "source": [
    "\n",
    "#@title Plot timeseries of state/action tracking over time - xyz q1234 gripper\n",
    "idx = 15\n",
    "\n",
    "length = int(seq_lens[idx])\n",
    "actions_space = acts.shape[2]\n",
    "x = np.linspace(0, length, num=length) \n",
    "for i in range(0,8):\n",
    "    fig, axes = plt.subplots(1, 1, figsize=(8,1.5), squeeze=False)\n",
    "    # One Model\n",
    "    if i >= 3and i < 8:\n",
    "        axes[0,0].set_ylim([-1,1])\n",
    "    true = axes[0,0].plot(x,quat_sign_flip(acts,idx)[:,i],'r')\n",
    "    #predicted = axes[0,0].plot(x,pred_acts[idx, :int(seq_lens[idx]),i], 'b')\n",
    "    #enc_predicted = axes[0,0].plot(x,enc_act_distrib[idx, :int(seq_lens[idx]),i], 'g')\n",
    "    true = axes[0,0].scatter(x,quat_sign_flip(acts,idx)[:,i])\n",
    "    \n",
    "    fig.legend( ('true action', 'predicted action', 'encoder_action'))\n",
    "    \n",
    "    \n",
    "    plt.show()"
   ]
  }
 ],
 "metadata": {
  "kernelspec": {
   "display_name": "Python 3",
   "language": "python",
   "name": "python3"
  },
  "language_info": {
   "codemirror_mode": {
    "name": "ipython",
    "version": 3
   },
   "file_extension": ".py",
   "mimetype": "text/x-python",
   "name": "python",
   "nbconvert_exporter": "python",
   "pygments_lexer": "ipython3",
   "version": "3.7.4"
  }
 },
 "nbformat": 4,
 "nbformat_minor": 2
}
